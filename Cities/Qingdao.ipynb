{
 "cells": [
  {
   "cell_type": "code",
   "execution_count": 3,
   "metadata": {},
   "outputs": [],
   "source": [
    "city='qingdao'\n",
    "city_cn='青岛'"
   ]
  },
  {
   "cell_type": "code",
   "execution_count": null,
   "metadata": {},
   "outputs": [],
   "source": []
  },
  {
   "cell_type": "markdown",
   "metadata": {},
   "source": [
    "# Developer Salary in Qingdao 青岛程序员工资调查\n",
    "我在4月1日到3日之间，抓取了某招聘网站的软件和互联网类招聘数据40万条，其中通过程序判断为程序员的14万条。地域方面，我选择了24个主要城市。不过本文只以一线城市为研究对象。这样是为了和我2017年6月的数据做对比。\n",
    "\n",
    "提到2017年的文章，现在居然还有很多人，把这篇文章拿出来炒作。对于社会来说，可气的是，他们直接把2017改成2019，就发表了，这不是骗人么？！对于我来说，可气的是，他们转载居然还冒充是原创，是可忍熟不可忍！"
   ]
  },
  {
   "cell_type": "code",
   "execution_count": 4,
   "metadata": {},
   "outputs": [],
   "source": [
    "import pandas as pd\n",
    "import sys\n",
    "sys.path.append('..')\n",
    "import db\n",
    "import inspect\n",
    "import matplotlib.pyplot as plt\n",
    "import seaborn as sns\n",
    "import scipy.stats as stats\n",
    "import numpy as np\n",
    "%matplotlib inline"
   ]
  },
  {
   "cell_type": "code",
   "execution_count": 5,
   "metadata": {},
   "outputs": [],
   "source": [
    "conn=db.get_conn()\n",
    "data_original=pd.read_sql(sql=\"select * from _51jobs where monthly_salary>0 and monthly_salary<15 and city_{}=1\".format(city), con=conn)\n",
    "conn.close()"
   ]
  },
  {
   "cell_type": "code",
   "execution_count": 6,
   "metadata": {},
   "outputs": [],
   "source": [
    "error_job_ids=['104660258','104142922','108434795','101357291','106253516','110368302','111391233','108665401','109277048'\n",
    "                  ,'73857191','108584955','102824950','102824949','111391233','110884556']\n",
    "data=data_original[~data_original.job_id.isin(error_job_ids)]"
   ]
  },
  {
   "cell_type": "code",
   "execution_count": 7,
   "metadata": {},
   "outputs": [],
   "source": [
    "del data['publish_date']\n",
    "del data['published_on_weekend']\n",
    "del data['title']\n",
    "del data['company_title']\n",
    "del data['company_description']\n",
    "del data['job_description']\n",
    "del data['job_id']"
   ]
  },
  {
   "cell_type": "markdown",
   "metadata": {},
   "source": [
    "# Unilateral Stats 总体统计"
   ]
  },
  {
   "cell_type": "markdown",
   "metadata": {},
   "source": [
    "有数据可知，程序员向一线城市集中的趋势非常明显。\n",
    "\n",
    "According to the statistics, significant amount of developers are in the first tier cities."
   ]
  },
  {
   "cell_type": "code",
   "execution_count": 8,
   "metadata": {},
   "outputs": [
    {
     "name": "stdout",
     "output_type": "stream",
     "text": [
      "2019年青岛程序员的平均工资为9549元，工资中位数为8750元，其中95%的人的工资位于3750到22500元之间。\n"
     ]
    }
   ],
   "source": [
    "salary_mean=data.monthly_salary.mean()*10000\n",
    "salary_median=data.monthly_salary.median()*10000\n",
    "q=np.quantile(data.monthly_salary,[0.025,0.975])*10000\n",
    "print('2019年{}程序员的平均工资为{:.0f}元，工资中位数为{:.0f}元，其中95%的人的工资位于{:.0f}到{:.0f}元之间。'\n",
    "      .format(city_cn,salary_mean, salary_median, q[0], q[1]))"
   ]
  },
  {
   "cell_type": "code",
   "execution_count": 9,
   "metadata": {},
   "outputs": [
    {
     "name": "stdout",
     "output_type": "stream",
     "text": [
      "In 2019, Developers in qingdao earn 9549 Yuan as average, the median is 8750 Yuan, 95% of them earn between 3750 and 22500 Yuan.\n"
     ]
    }
   ],
   "source": [
    "print('In 2019, Developers in {} earn {:.0f} Yuan as average, '\n",
    "      'the median is {:.0f} Yuan, 95% of them earn between {:.0f} and {:.0f} Yuan.'\n",
    "      .format(city,salary_mean, salary_median, q[0], q[1]))"
   ]
  },
  {
   "cell_type": "code",
   "execution_count": 10,
   "metadata": {},
   "outputs": [
    {
     "data": {
      "text/plain": [
       "<matplotlib.axes._subplots.AxesSubplot at 0x2cd8d307a58>"
      ]
     },
     "execution_count": 10,
     "metadata": {},
     "output_type": "execute_result"
    },
    {
     "data": {
      "image/png": "[encoded data removed]",
      "text/plain": [
       "<Figure size 432x288 with 1 Axes>"
      ]
     },
     "metadata": {
      "needs_background": "light"
     },
     "output_type": "display_data"
    }
   ],
   "source": [
    "data.monthly_salary.hist()"
   ]
  },
  {
   "cell_type": "markdown",
   "metadata": {},
   "source": [
    "It does not look like normal distribution."
   ]
  },
  {
   "cell_type": "code",
   "execution_count": 11,
   "metadata": {},
   "outputs": [],
   "source": [
    "from scipy import stats"
   ]
  },
  {
   "cell_type": "code",
   "execution_count": 12,
   "metadata": {},
   "outputs": [
    {
     "data": {
      "text/plain": [
       "NormaltestResult(statistic=597.6353000266, pvalue=1.6793588369974667e-130)"
      ]
     },
     "execution_count": 12,
     "metadata": {},
     "output_type": "execute_result"
    }
   ],
   "source": [
    "stats.normaltest(data.monthly_salary)"
   ]
  },
  {
   "cell_type": "markdown",
   "metadata": {},
   "source": [
    "null hypothesis: x comes from a normal distribution\n",
    "    \n",
    "p=0\n",
    "\n",
    "The null hypothesis can be rejected\n",
    "\n",
    "conclusion: data is not normally distributed."
   ]
  },
  {
   "cell_type": "markdown",
   "metadata": {},
   "source": [
    "Zoom in"
   ]
  },
  {
   "cell_type": "code",
   "execution_count": 13,
   "metadata": {},
   "outputs": [
    {
     "data": {
      "image/png": "[encoded data removed]",
      "text/plain": [
       "<Figure size 432x288 with 1 Axes>"
      ]
     },
     "metadata": {
      "needs_background": "light"
     },
     "output_type": "display_data"
    }
   ],
   "source": [
    "data[data.monthly_salary<4].monthly_salary.hist()\n",
    "plt.annotate('https://github.com/juwikuang/job_survey', xy=(0,0), xytext=(0.5, 20), color='white')\n",
    "plt.show()"
   ]
  },
  {
   "cell_type": "markdown",
   "metadata": {},
   "source": [
    "## Role 角色"
   ]
  },
  {
   "cell_type": "code",
   "execution_count": 14,
   "metadata": {},
   "outputs": [],
   "source": [
    "def get_sub_stats(data, prefix):\n",
    "    \n",
    "    features = [feature for feature in data.columns if feature.startswith(prefix)]\n",
    "    salary_mean=[]\n",
    "    salary_median=[]\n",
    "    count=[]\n",
    "    for feature in features:\n",
    "        salary_mean.append(data[data[feature]==1].monthly_salary.mean()*10000)\n",
    "        salary_median.append(data[data[feature]==1].monthly_salary.median()*10000)\n",
    "        count.append(data[data[feature]==1].shape[0])\n",
    "    sub_data=pd.DataFrame()\n",
    "    sub_data[prefix]=[f.replace(prefix,'') for f in features]\n",
    "    sub_data['salary_mean']=salary_mean\n",
    "    sub_data['salary_median']=salary_median\n",
    "    sub_data['head_count']=count\n",
    "    sub_data['percentage']=count/np.sum(count)\n",
    "    sub_data=sub_data.sort_values(by='salary_mean', ascending=False)\n",
    "\n",
    "    return sub_data"
   ]
  },
  {
   "cell_type": "code",
   "execution_count": 15,
   "metadata": {},
   "outputs": [],
   "source": [
    "def add_category_column(data, prefix):\n",
    "    prefix_=prefix+\"_\"\n",
    "    features = [feature for feature in data.columns if feature.startswith(prefix)]\n",
    "    data.loc[:,prefix]=['']*data.shape[0]\n",
    "    for feature in features:\n",
    "        data.loc[data[feature]==1,prefix]=feature.replace(prefix_,'')\n",
    "    return data"
   ]
  },
  {
   "cell_type": "code",
   "execution_count": 16,
   "metadata": {},
   "outputs": [
    {
     "data": {
      "text/html": [
       "<style  type=\"text/css\" >\n",
       "</style>  \n",
       "<table id=\"T_e1afc1dc_584a_11e9_af2e_701ce71031ef\" > \n",
       "<thead>    <tr> \n",
       "        <th class=\"blank level0\" ></th> \n",
       "        <th class=\"col_heading level0 col0\" >career_</th> \n",
       "        <th class=\"col_heading level0 col1\" >salary_mean</th> \n",
       "        <th class=\"col_heading level0 col2\" >salary_median</th> \n",
       "        <th class=\"col_heading level0 col3\" >head_count</th> \n",
       "        <th class=\"col_heading level0 col4\" >percentage</th> \n",
       "    </tr></thead> \n",
       "<tbody>    <tr> \n",
       "        <th id=\"T_e1afc1dc_584a_11e9_af2e_701ce71031eflevel0_row0\" class=\"row_heading level0 row0\" >1</th> \n",
       "        <td id=\"T_e1afc1dc_584a_11e9_af2e_701ce71031efrow0_col0\" class=\"data row0 col0\" >architect</td> \n",
       "        <td id=\"T_e1afc1dc_584a_11e9_af2e_701ce71031efrow0_col1\" class=\"data row0 col1\" >17583.3</td> \n",
       "        <td id=\"T_e1afc1dc_584a_11e9_af2e_701ce71031efrow0_col2\" class=\"data row0 col2\" >17500</td> \n",
       "        <td id=\"T_e1afc1dc_584a_11e9_af2e_701ce71031efrow0_col3\" class=\"data row0 col3\" >55</td> \n",
       "        <td id=\"T_e1afc1dc_584a_11e9_af2e_701ce71031efrow0_col4\" class=\"data row0 col4\" >3.87%</td> \n",
       "    </tr>    <tr> \n",
       "        <th id=\"T_e1afc1dc_584a_11e9_af2e_701ce71031eflevel0_row1\" class=\"row_heading level0 row1\" >0</th> \n",
       "        <td id=\"T_e1afc1dc_584a_11e9_af2e_701ce71031efrow1_col0\" class=\"data row1 col0\" >algorithm</td> \n",
       "        <td id=\"T_e1afc1dc_584a_11e9_af2e_701ce71031efrow1_col1\" class=\"data row1 col1\" >15161.9</td> \n",
       "        <td id=\"T_e1afc1dc_584a_11e9_af2e_701ce71031efrow1_col2\" class=\"data row1 col2\" >12500</td> \n",
       "        <td id=\"T_e1afc1dc_584a_11e9_af2e_701ce71031efrow1_col3\" class=\"data row1 col3\" >141</td> \n",
       "        <td id=\"T_e1afc1dc_584a_11e9_af2e_701ce71031efrow1_col4\" class=\"data row1 col4\" >9.92%</td> \n",
       "    </tr>    <tr> \n",
       "        <th id=\"T_e1afc1dc_584a_11e9_af2e_701ce71031eflevel0_row2\" class=\"row_heading level0 row2\" >2</th> \n",
       "        <td id=\"T_e1afc1dc_584a_11e9_af2e_701ce71031efrow2_col0\" class=\"data row2 col0\" >software_engineer</td> \n",
       "        <td id=\"T_e1afc1dc_584a_11e9_af2e_701ce71031efrow2_col1\" class=\"data row2 col1\" >8890.77</td> \n",
       "        <td id=\"T_e1afc1dc_584a_11e9_af2e_701ce71031efrow2_col2\" class=\"data row2 col2\" >8000</td> \n",
       "        <td id=\"T_e1afc1dc_584a_11e9_af2e_701ce71031efrow2_col3\" class=\"data row2 col3\" >1226</td> \n",
       "        <td id=\"T_e1afc1dc_584a_11e9_af2e_701ce71031efrow2_col4\" class=\"data row2 col4\" >86.22%</td> \n",
       "    </tr></tbody> \n",
       "</table> "
      ],
      "text/plain": [
       "<pandas.io.formats.style.Styler at 0x2cd8e90bac8>"
      ]
     },
     "execution_count": 16,
     "metadata": {},
     "output_type": "execute_result"
    }
   ],
   "source": [
    "data_career=get_sub_stats(data,'career_')\n",
    "data_career.style.format({\"percentage\":\"{:.2%}\"})"
   ]
  },
  {
   "cell_type": "markdown",
   "metadata": {},
   "source": [
    "# 编程语言"
   ]
  },
  {
   "cell_type": "code",
   "execution_count": 17,
   "metadata": {},
   "outputs": [
    {
     "data": {
      "text/html": [
       "<style  type=\"text/css\" >\n",
       "</style>  \n",
       "<table id=\"T_e26f4f3a_584a_11e9_909b_701ce71031ef\" > \n",
       "<thead>    <tr> \n",
       "        <th class=\"blank level0\" ></th> \n",
       "        <th class=\"col_heading level0 col0\" >pl_</th> \n",
       "        <th class=\"col_heading level0 col1\" >salary_mean</th> \n",
       "        <th class=\"col_heading level0 col2\" >salary_median</th> \n",
       "        <th class=\"col_heading level0 col3\" >head_count</th> \n",
       "        <th class=\"col_heading level0 col4\" >percentage</th> \n",
       "    </tr></thead> \n",
       "<tbody>    <tr> \n",
       "        <th id=\"T_e26f4f3a_584a_11e9_909b_701ce71031eflevel0_row0\" class=\"row_heading level0 row0\" >10</th> \n",
       "        <td id=\"T_e26f4f3a_584a_11e9_909b_701ce71031efrow0_col0\" class=\"data row0 col0\" >kotlin</td> \n",
       "        <td id=\"T_e26f4f3a_584a_11e9_909b_701ce71031efrow0_col1\" class=\"data row0 col1\" >25000</td> \n",
       "        <td id=\"T_e26f4f3a_584a_11e9_909b_701ce71031efrow0_col2\" class=\"data row0 col2\" >25000</td> \n",
       "        <td id=\"T_e26f4f3a_584a_11e9_909b_701ce71031efrow0_col3\" class=\"data row0 col3\" >1</td> \n",
       "        <td id=\"T_e26f4f3a_584a_11e9_909b_701ce71031efrow0_col4\" class=\"data row0 col4\" >0.06%</td> \n",
       "    </tr>    <tr> \n",
       "        <th id=\"T_e26f4f3a_584a_11e9_909b_701ce71031eflevel0_row1\" class=\"row_heading level0 row1\" >24</th> \n",
       "        <td id=\"T_e26f4f3a_584a_11e9_909b_701ce71031efrow1_col0\" class=\"data row1 col0\" >visual_basic_net</td> \n",
       "        <td id=\"T_e26f4f3a_584a_11e9_909b_701ce71031efrow1_col1\" class=\"data row1 col1\" >19875</td> \n",
       "        <td id=\"T_e26f4f3a_584a_11e9_909b_701ce71031efrow1_col2\" class=\"data row1 col2\" >18250</td> \n",
       "        <td id=\"T_e26f4f3a_584a_11e9_909b_701ce71031efrow1_col3\" class=\"data row1 col3\" >4</td> \n",
       "        <td id=\"T_e26f4f3a_584a_11e9_909b_701ce71031efrow1_col4\" class=\"data row1 col4\" >0.26%</td> \n",
       "    </tr>    <tr> \n",
       "        <th id=\"T_e26f4f3a_584a_11e9_909b_701ce71031eflevel0_row2\" class=\"row_heading level0 row2\" >21</th> \n",
       "        <td id=\"T_e26f4f3a_584a_11e9_909b_701ce71031efrow2_col0\" class=\"data row2 col0\" >typescript</td> \n",
       "        <td id=\"T_e26f4f3a_584a_11e9_909b_701ce71031efrow2_col1\" class=\"data row2 col1\" >17500</td> \n",
       "        <td id=\"T_e26f4f3a_584a_11e9_909b_701ce71031efrow2_col2\" class=\"data row2 col2\" >17500</td> \n",
       "        <td id=\"T_e26f4f3a_584a_11e9_909b_701ce71031efrow2_col3\" class=\"data row2 col3\" >2</td> \n",
       "        <td id=\"T_e26f4f3a_584a_11e9_909b_701ce71031efrow2_col4\" class=\"data row2 col4\" >0.13%</td> \n",
       "    </tr>    <tr> \n",
       "        <th id=\"T_e26f4f3a_584a_11e9_909b_701ce71031eflevel0_row3\" class=\"row_heading level0 row3\" >17</th> \n",
       "        <td id=\"T_e26f4f3a_584a_11e9_909b_701ce71031efrow3_col0\" class=\"data row3 col0\" >ruby</td> \n",
       "        <td id=\"T_e26f4f3a_584a_11e9_909b_701ce71031efrow3_col1\" class=\"data row3 col1\" >16500</td> \n",
       "        <td id=\"T_e26f4f3a_584a_11e9_909b_701ce71031efrow3_col2\" class=\"data row3 col2\" >18000</td> \n",
       "        <td id=\"T_e26f4f3a_584a_11e9_909b_701ce71031efrow3_col3\" class=\"data row3 col3\" >4</td> \n",
       "        <td id=\"T_e26f4f3a_584a_11e9_909b_701ce71031efrow3_col4\" class=\"data row3 col4\" >0.26%</td> \n",
       "    </tr>    <tr> \n",
       "        <th id=\"T_e26f4f3a_584a_11e9_909b_701ce71031eflevel0_row4\" class=\"row_heading level0 row4\" >14</th> \n",
       "        <td id=\"T_e26f4f3a_584a_11e9_909b_701ce71031efrow4_col0\" class=\"data row4 col0\" >perl</td> \n",
       "        <td id=\"T_e26f4f3a_584a_11e9_909b_701ce71031efrow4_col1\" class=\"data row4 col1\" >15000</td> \n",
       "        <td id=\"T_e26f4f3a_584a_11e9_909b_701ce71031efrow4_col2\" class=\"data row4 col2\" >15000</td> \n",
       "        <td id=\"T_e26f4f3a_584a_11e9_909b_701ce71031efrow4_col3\" class=\"data row4 col3\" >1</td> \n",
       "        <td id=\"T_e26f4f3a_584a_11e9_909b_701ce71031efrow4_col4\" class=\"data row4 col4\" >0.06%</td> \n",
       "    </tr>    <tr> \n",
       "        <th id=\"T_e26f4f3a_584a_11e9_909b_701ce71031eflevel0_row5\" class=\"row_heading level0 row5\" >11</th> \n",
       "        <td id=\"T_e26f4f3a_584a_11e9_909b_701ce71031efrow5_col0\" class=\"data row5 col0\" >lua</td> \n",
       "        <td id=\"T_e26f4f3a_584a_11e9_909b_701ce71031efrow5_col1\" class=\"data row5 col1\" >14615.4</td> \n",
       "        <td id=\"T_e26f4f3a_584a_11e9_909b_701ce71031efrow5_col2\" class=\"data row5 col2\" >12500</td> \n",
       "        <td id=\"T_e26f4f3a_584a_11e9_909b_701ce71031efrow5_col3\" class=\"data row5 col3\" >13</td> \n",
       "        <td id=\"T_e26f4f3a_584a_11e9_909b_701ce71031efrow5_col4\" class=\"data row5 col4\" >0.84%</td> \n",
       "    </tr>    <tr> \n",
       "        <th id=\"T_e26f4f3a_584a_11e9_909b_701ce71031eflevel0_row6\" class=\"row_heading level0 row6\" >12</th> \n",
       "        <td id=\"T_e26f4f3a_584a_11e9_909b_701ce71031efrow6_col0\" class=\"data row6 col0\" >matlab</td> \n",
       "        <td id=\"T_e26f4f3a_584a_11e9_909b_701ce71031efrow6_col1\" class=\"data row6 col1\" >14614.6</td> \n",
       "        <td id=\"T_e26f4f3a_584a_11e9_909b_701ce71031efrow6_col2\" class=\"data row6 col2\" >13250</td> \n",
       "        <td id=\"T_e26f4f3a_584a_11e9_909b_701ce71031efrow6_col3\" class=\"data row6 col3\" >16</td> \n",
       "        <td id=\"T_e26f4f3a_584a_11e9_909b_701ce71031efrow6_col4\" class=\"data row6 col4\" >1.03%</td> \n",
       "    </tr>    <tr> \n",
       "        <th id=\"T_e26f4f3a_584a_11e9_909b_701ce71031eflevel0_row7\" class=\"row_heading level0 row7\" >19</th> \n",
       "        <td id=\"T_e26f4f3a_584a_11e9_909b_701ce71031efrow7_col0\" class=\"data row7 col0\" >scala</td> \n",
       "        <td id=\"T_e26f4f3a_584a_11e9_909b_701ce71031efrow7_col1\" class=\"data row7 col1\" >13970.6</td> \n",
       "        <td id=\"T_e26f4f3a_584a_11e9_909b_701ce71031efrow7_col2\" class=\"data row7 col2\" >12500</td> \n",
       "        <td id=\"T_e26f4f3a_584a_11e9_909b_701ce71031efrow7_col3\" class=\"data row7 col3\" >17</td> \n",
       "        <td id=\"T_e26f4f3a_584a_11e9_909b_701ce71031efrow7_col4\" class=\"data row7 col4\" >1.09%</td> \n",
       "    </tr>    <tr> \n",
       "        <th id=\"T_e26f4f3a_584a_11e9_909b_701ce71031eflevel0_row8\" class=\"row_heading level0 row8\" >16</th> \n",
       "        <td id=\"T_e26f4f3a_584a_11e9_909b_701ce71031efrow8_col0\" class=\"data row8 col0\" >python</td> \n",
       "        <td id=\"T_e26f4f3a_584a_11e9_909b_701ce71031efrow8_col1\" class=\"data row8 col1\" >12833.3</td> \n",
       "        <td id=\"T_e26f4f3a_584a_11e9_909b_701ce71031efrow8_col2\" class=\"data row8 col2\" >12000</td> \n",
       "        <td id=\"T_e26f4f3a_584a_11e9_909b_701ce71031efrow8_col3\" class=\"data row8 col3\" >84</td> \n",
       "        <td id=\"T_e26f4f3a_584a_11e9_909b_701ce71031efrow8_col4\" class=\"data row8 col4\" >5.41%</td> \n",
       "    </tr>    <tr> \n",
       "        <th id=\"T_e26f4f3a_584a_11e9_909b_701ce71031eflevel0_row9\" class=\"row_heading level0 row9\" >4</th> \n",
       "        <td id=\"T_e26f4f3a_584a_11e9_909b_701ce71031efrow9_col0\" class=\"data row9 col0\" >go</td> \n",
       "        <td id=\"T_e26f4f3a_584a_11e9_909b_701ce71031efrow9_col1\" class=\"data row9 col1\" >12481.6</td> \n",
       "        <td id=\"T_e26f4f3a_584a_11e9_909b_701ce71031efrow9_col2\" class=\"data row9 col2\" >12000</td> \n",
       "        <td id=\"T_e26f4f3a_584a_11e9_909b_701ce71031efrow9_col3\" class=\"data row9 col3\" >77</td> \n",
       "        <td id=\"T_e26f4f3a_584a_11e9_909b_701ce71031efrow9_col4\" class=\"data row9 col4\" >4.96%</td> \n",
       "    </tr>    <tr> \n",
       "        <th id=\"T_e26f4f3a_584a_11e9_909b_701ce71031eflevel0_row10\" class=\"row_heading level0 row10\" >0</th> \n",
       "        <td id=\"T_e26f4f3a_584a_11e9_909b_701ce71031efrow10_col0\" class=\"data row10 col0\" >assembly</td> \n",
       "        <td id=\"T_e26f4f3a_584a_11e9_909b_701ce71031efrow10_col1\" class=\"data row10 col1\" >12000</td> \n",
       "        <td id=\"T_e26f4f3a_584a_11e9_909b_701ce71031efrow10_col2\" class=\"data row10 col2\" >12000</td> \n",
       "        <td id=\"T_e26f4f3a_584a_11e9_909b_701ce71031efrow10_col3\" class=\"data row10 col3\" >1</td> \n",
       "        <td id=\"T_e26f4f3a_584a_11e9_909b_701ce71031efrow10_col4\" class=\"data row10 col4\" >0.06%</td> \n",
       "    </tr>    <tr> \n",
       "        <th id=\"T_e26f4f3a_584a_11e9_909b_701ce71031eflevel0_row11\" class=\"row_heading level0 row11\" >25</th> \n",
       "        <td id=\"T_e26f4f3a_584a_11e9_909b_701ce71031efrow11_col0\" class=\"data row11 col0\" >r</td> \n",
       "        <td id=\"T_e26f4f3a_584a_11e9_909b_701ce71031efrow11_col1\" class=\"data row11 col1\" >11916.7</td> \n",
       "        <td id=\"T_e26f4f3a_584a_11e9_909b_701ce71031efrow11_col2\" class=\"data row11 col2\" >11750</td> \n",
       "        <td id=\"T_e26f4f3a_584a_11e9_909b_701ce71031efrow11_col3\" class=\"data row11 col3\" >6</td> \n",
       "        <td id=\"T_e26f4f3a_584a_11e9_909b_701ce71031efrow11_col4\" class=\"data row11 col4\" >0.39%</td> \n",
       "    </tr>    <tr> \n",
       "        <th id=\"T_e26f4f3a_584a_11e9_909b_701ce71031eflevel0_row12\" class=\"row_heading level0 row12\" >20</th> \n",
       "        <td id=\"T_e26f4f3a_584a_11e9_909b_701ce71031efrow12_col0\" class=\"data row12 col0\" >swift</td> \n",
       "        <td id=\"T_e26f4f3a_584a_11e9_909b_701ce71031efrow12_col1\" class=\"data row12 col1\" >11611.1</td> \n",
       "        <td id=\"T_e26f4f3a_584a_11e9_909b_701ce71031efrow12_col2\" class=\"data row12 col2\" >10500</td> \n",
       "        <td id=\"T_e26f4f3a_584a_11e9_909b_701ce71031efrow12_col3\" class=\"data row12 col3\" >9</td> \n",
       "        <td id=\"T_e26f4f3a_584a_11e9_909b_701ce71031efrow12_col4\" class=\"data row12 col4\" >0.58%</td> \n",
       "    </tr>    <tr> \n",
       "        <th id=\"T_e26f4f3a_584a_11e9_909b_701ce71031eflevel0_row13\" class=\"row_heading level0 row13\" >22</th> \n",
       "        <td id=\"T_e26f4f3a_584a_11e9_909b_701ce71031efrow13_col0\" class=\"data row13 col0\" >vba</td> \n",
       "        <td id=\"T_e26f4f3a_584a_11e9_909b_701ce71031efrow13_col1\" class=\"data row13 col1\" >11500</td> \n",
       "        <td id=\"T_e26f4f3a_584a_11e9_909b_701ce71031efrow13_col2\" class=\"data row13 col2\" >11500</td> \n",
       "        <td id=\"T_e26f4f3a_584a_11e9_909b_701ce71031efrow13_col3\" class=\"data row13 col3\" >1</td> \n",
       "        <td id=\"T_e26f4f3a_584a_11e9_909b_701ce71031efrow13_col4\" class=\"data row13 col4\" >0.06%</td> \n",
       "    </tr>    <tr> \n",
       "        <th id=\"T_e26f4f3a_584a_11e9_909b_701ce71031eflevel0_row14\" class=\"row_heading level0 row14\" >15</th> \n",
       "        <td id=\"T_e26f4f3a_584a_11e9_909b_701ce71031efrow14_col0\" class=\"data row14 col0\" >php</td> \n",
       "        <td id=\"T_e26f4f3a_584a_11e9_909b_701ce71031efrow14_col1\" class=\"data row14 col1\" >11128.9</td> \n",
       "        <td id=\"T_e26f4f3a_584a_11e9_909b_701ce71031efrow14_col2\" class=\"data row14 col2\" >9000</td> \n",
       "        <td id=\"T_e26f4f3a_584a_11e9_909b_701ce71031efrow14_col3\" class=\"data row14 col3\" >86</td> \n",
       "        <td id=\"T_e26f4f3a_584a_11e9_909b_701ce71031efrow14_col4\" class=\"data row14 col4\" >5.54%</td> \n",
       "    </tr>    <tr> \n",
       "        <th id=\"T_e26f4f3a_584a_11e9_909b_701ce71031eflevel0_row15\" class=\"row_heading level0 row15\" >2</th> \n",
       "        <td id=\"T_e26f4f3a_584a_11e9_909b_701ce71031efrow15_col0\" class=\"data row15 col0\" >cpp</td> \n",
       "        <td id=\"T_e26f4f3a_584a_11e9_909b_701ce71031efrow15_col1\" class=\"data row15 col1\" >11018.5</td> \n",
       "        <td id=\"T_e26f4f3a_584a_11e9_909b_701ce71031efrow15_col2\" class=\"data row15 col2\" >10000</td> \n",
       "        <td id=\"T_e26f4f3a_584a_11e9_909b_701ce71031efrow15_col3\" class=\"data row15 col3\" >233</td> \n",
       "        <td id=\"T_e26f4f3a_584a_11e9_909b_701ce71031efrow15_col4\" class=\"data row15 col4\" >15.00%</td> \n",
       "    </tr>    <tr> \n",
       "        <th id=\"T_e26f4f3a_584a_11e9_909b_701ce71031eflevel0_row16\" class=\"row_heading level0 row16\" >7</th> \n",
       "        <td id=\"T_e26f4f3a_584a_11e9_909b_701ce71031efrow16_col0\" class=\"data row16 col0\" >java</td> \n",
       "        <td id=\"T_e26f4f3a_584a_11e9_909b_701ce71031efrow16_col1\" class=\"data row16 col1\" >10374.4</td> \n",
       "        <td id=\"T_e26f4f3a_584a_11e9_909b_701ce71031efrow16_col2\" class=\"data row16 col2\" >9000</td> \n",
       "        <td id=\"T_e26f4f3a_584a_11e9_909b_701ce71031efrow16_col3\" class=\"data row16 col3\" >459</td> \n",
       "        <td id=\"T_e26f4f3a_584a_11e9_909b_701ce71031efrow16_col4\" class=\"data row16 col4\" >29.56%</td> \n",
       "    </tr>    <tr> \n",
       "        <th id=\"T_e26f4f3a_584a_11e9_909b_701ce71031eflevel0_row17\" class=\"row_heading level0 row17\" >1</th> \n",
       "        <td id=\"T_e26f4f3a_584a_11e9_909b_701ce71031efrow17_col0\" class=\"data row17 col0\" >c_sharp</td> \n",
       "        <td id=\"T_e26f4f3a_584a_11e9_909b_701ce71031efrow17_col1\" class=\"data row17 col1\" >9865.33</td> \n",
       "        <td id=\"T_e26f4f3a_584a_11e9_909b_701ce71031efrow17_col2\" class=\"data row17 col2\" >9000</td> \n",
       "        <td id=\"T_e26f4f3a_584a_11e9_909b_701ce71031efrow17_col3\" class=\"data row17 col3\" >299</td> \n",
       "        <td id=\"T_e26f4f3a_584a_11e9_909b_701ce71031efrow17_col4\" class=\"data row17 col4\" >19.25%</td> \n",
       "    </tr>    <tr> \n",
       "        <th id=\"T_e26f4f3a_584a_11e9_909b_701ce71031eflevel0_row18\" class=\"row_heading level0 row18\" >8</th> \n",
       "        <td id=\"T_e26f4f3a_584a_11e9_909b_701ce71031efrow18_col0\" class=\"data row18 col0\" >javascript</td> \n",
       "        <td id=\"T_e26f4f3a_584a_11e9_909b_701ce71031efrow18_col1\" class=\"data row18 col1\" >9566.15</td> \n",
       "        <td id=\"T_e26f4f3a_584a_11e9_909b_701ce71031efrow18_col2\" class=\"data row18 col2\" >9000</td> \n",
       "        <td id=\"T_e26f4f3a_584a_11e9_909b_701ce71031efrow18_col3\" class=\"data row18 col3\" >228</td> \n",
       "        <td id=\"T_e26f4f3a_584a_11e9_909b_701ce71031efrow18_col4\" class=\"data row18 col4\" >14.68%</td> \n",
       "    </tr>    <tr> \n",
       "        <th id=\"T_e26f4f3a_584a_11e9_909b_701ce71031eflevel0_row19\" class=\"row_heading level0 row19\" >3</th> \n",
       "        <td id=\"T_e26f4f3a_584a_11e9_909b_701ce71031efrow19_col0\" class=\"data row19 col0\" >delphi</td> \n",
       "        <td id=\"T_e26f4f3a_584a_11e9_909b_701ce71031efrow19_col1\" class=\"data row19 col1\" >7500</td> \n",
       "        <td id=\"T_e26f4f3a_584a_11e9_909b_701ce71031efrow19_col2\" class=\"data row19 col2\" >7000</td> \n",
       "        <td id=\"T_e26f4f3a_584a_11e9_909b_701ce71031efrow19_col3\" class=\"data row19 col3\" >11</td> \n",
       "        <td id=\"T_e26f4f3a_584a_11e9_909b_701ce71031efrow19_col4\" class=\"data row19 col4\" >0.71%</td> \n",
       "    </tr>    <tr> \n",
       "        <th id=\"T_e26f4f3a_584a_11e9_909b_701ce71031eflevel0_row20\" class=\"row_heading level0 row20\" >23</th> \n",
       "        <td id=\"T_e26f4f3a_584a_11e9_909b_701ce71031efrow20_col0\" class=\"data row20 col0\" >visual_basic</td> \n",
       "        <td id=\"T_e26f4f3a_584a_11e9_909b_701ce71031efrow20_col1\" class=\"data row20 col1\" >6000</td> \n",
       "        <td id=\"T_e26f4f3a_584a_11e9_909b_701ce71031efrow20_col2\" class=\"data row20 col2\" >6000</td> \n",
       "        <td id=\"T_e26f4f3a_584a_11e9_909b_701ce71031efrow20_col3\" class=\"data row20 col3\" >1</td> \n",
       "        <td id=\"T_e26f4f3a_584a_11e9_909b_701ce71031efrow20_col4\" class=\"data row20 col4\" >0.06%</td> \n",
       "    </tr>    <tr> \n",
       "        <th id=\"T_e26f4f3a_584a_11e9_909b_701ce71031eflevel0_row21\" class=\"row_heading level0 row21\" >5</th> \n",
       "        <td id=\"T_e26f4f3a_584a_11e9_909b_701ce71031efrow21_col0\" class=\"data row21 col0\" >groovy</td> \n",
       "        <td id=\"T_e26f4f3a_584a_11e9_909b_701ce71031efrow21_col1\" class=\"data row21 col1\" >nan</td> \n",
       "        <td id=\"T_e26f4f3a_584a_11e9_909b_701ce71031efrow21_col2\" class=\"data row21 col2\" >nan</td> \n",
       "        <td id=\"T_e26f4f3a_584a_11e9_909b_701ce71031efrow21_col3\" class=\"data row21 col3\" >0</td> \n",
       "        <td id=\"T_e26f4f3a_584a_11e9_909b_701ce71031efrow21_col4\" class=\"data row21 col4\" >0.00%</td> \n",
       "    </tr>    <tr> \n",
       "        <th id=\"T_e26f4f3a_584a_11e9_909b_701ce71031eflevel0_row22\" class=\"row_heading level0 row22\" >6</th> \n",
       "        <td id=\"T_e26f4f3a_584a_11e9_909b_701ce71031efrow22_col0\" class=\"data row22 col0\" >haskell</td> \n",
       "        <td id=\"T_e26f4f3a_584a_11e9_909b_701ce71031efrow22_col1\" class=\"data row22 col1\" >nan</td> \n",
       "        <td id=\"T_e26f4f3a_584a_11e9_909b_701ce71031efrow22_col2\" class=\"data row22 col2\" >nan</td> \n",
       "        <td id=\"T_e26f4f3a_584a_11e9_909b_701ce71031efrow22_col3\" class=\"data row22 col3\" >0</td> \n",
       "        <td id=\"T_e26f4f3a_584a_11e9_909b_701ce71031efrow22_col4\" class=\"data row22 col4\" >0.00%</td> \n",
       "    </tr>    <tr> \n",
       "        <th id=\"T_e26f4f3a_584a_11e9_909b_701ce71031eflevel0_row23\" class=\"row_heading level0 row23\" >9</th> \n",
       "        <td id=\"T_e26f4f3a_584a_11e9_909b_701ce71031efrow23_col0\" class=\"data row23 col0\" >julia</td> \n",
       "        <td id=\"T_e26f4f3a_584a_11e9_909b_701ce71031efrow23_col1\" class=\"data row23 col1\" >nan</td> \n",
       "        <td id=\"T_e26f4f3a_584a_11e9_909b_701ce71031efrow23_col2\" class=\"data row23 col2\" >nan</td> \n",
       "        <td id=\"T_e26f4f3a_584a_11e9_909b_701ce71031efrow23_col3\" class=\"data row23 col3\" >0</td> \n",
       "        <td id=\"T_e26f4f3a_584a_11e9_909b_701ce71031efrow23_col4\" class=\"data row23 col4\" >0.00%</td> \n",
       "    </tr>    <tr> \n",
       "        <th id=\"T_e26f4f3a_584a_11e9_909b_701ce71031eflevel0_row24\" class=\"row_heading level0 row24\" >13</th> \n",
       "        <td id=\"T_e26f4f3a_584a_11e9_909b_701ce71031efrow24_col0\" class=\"data row24 col0\" >objective_c</td> \n",
       "        <td id=\"T_e26f4f3a_584a_11e9_909b_701ce71031efrow24_col1\" class=\"data row24 col1\" >nan</td> \n",
       "        <td id=\"T_e26f4f3a_584a_11e9_909b_701ce71031efrow24_col2\" class=\"data row24 col2\" >nan</td> \n",
       "        <td id=\"T_e26f4f3a_584a_11e9_909b_701ce71031efrow24_col3\" class=\"data row24 col3\" >0</td> \n",
       "        <td id=\"T_e26f4f3a_584a_11e9_909b_701ce71031efrow24_col4\" class=\"data row24 col4\" >0.00%</td> \n",
       "    </tr>    <tr> \n",
       "        <th id=\"T_e26f4f3a_584a_11e9_909b_701ce71031eflevel0_row25\" class=\"row_heading level0 row25\" >18</th> \n",
       "        <td id=\"T_e26f4f3a_584a_11e9_909b_701ce71031efrow25_col0\" class=\"data row25 col0\" >rust</td> \n",
       "        <td id=\"T_e26f4f3a_584a_11e9_909b_701ce71031efrow25_col1\" class=\"data row25 col1\" >nan</td> \n",
       "        <td id=\"T_e26f4f3a_584a_11e9_909b_701ce71031efrow25_col2\" class=\"data row25 col2\" >nan</td> \n",
       "        <td id=\"T_e26f4f3a_584a_11e9_909b_701ce71031efrow25_col3\" class=\"data row25 col3\" >0</td> \n",
       "        <td id=\"T_e26f4f3a_584a_11e9_909b_701ce71031efrow25_col4\" class=\"data row25 col4\" >0.00%</td> \n",
       "    </tr></tbody> \n",
       "</table> "
      ],
      "text/plain": [
       "<pandas.io.formats.style.Styler at 0x2cd8eda5160>"
      ]
     },
     "execution_count": 17,
     "metadata": {},
     "output_type": "execute_result"
    }
   ],
   "source": [
    "data_pl=get_sub_stats(data,'pl_')\n",
    "data_pl.style.format({\"percentage\":\"{:.2%}\"})"
   ]
  },
  {
   "cell_type": "markdown",
   "metadata": {},
   "source": [
    "# 教育"
   ]
  },
  {
   "cell_type": "code",
   "execution_count": 18,
   "metadata": {},
   "outputs": [
    {
     "data": {
      "text/html": [
       "<style  type=\"text/css\" >\n",
       "</style>  \n",
       "<table id=\"T_e374251c_584a_11e9_8ef2_701ce71031ef\" > \n",
       "<thead>    <tr> \n",
       "        <th class=\"blank level0\" ></th> \n",
       "        <th class=\"col_heading level0 col0\" >edu_</th> \n",
       "        <th class=\"col_heading level0 col1\" >salary_mean</th> \n",
       "        <th class=\"col_heading level0 col2\" >salary_median</th> \n",
       "        <th class=\"col_heading level0 col3\" >head_count</th> \n",
       "        <th class=\"col_heading level0 col4\" >percentage</th> \n",
       "    </tr></thead> \n",
       "<tbody>    <tr> \n",
       "        <th id=\"T_e374251c_584a_11e9_8ef2_701ce71031eflevel0_row0\" class=\"row_heading level0 row0\" >5</th> \n",
       "        <td id=\"T_e374251c_584a_11e9_8ef2_701ce71031efrow0_col0\" class=\"data row0 col0\" >phd</td> \n",
       "        <td id=\"T_e374251c_584a_11e9_8ef2_701ce71031efrow0_col1\" class=\"data row0 col1\" >23263.9</td> \n",
       "        <td id=\"T_e374251c_584a_11e9_8ef2_701ce71031efrow0_col2\" class=\"data row0 col2\" >22500</td> \n",
       "        <td id=\"T_e374251c_584a_11e9_8ef2_701ce71031efrow0_col3\" class=\"data row0 col3\" >6</td> \n",
       "        <td id=\"T_e374251c_584a_11e9_8ef2_701ce71031efrow0_col4\" class=\"data row0 col4\" >0.52%</td> \n",
       "    </tr>    <tr> \n",
       "        <th id=\"T_e374251c_584a_11e9_8ef2_701ce71031eflevel0_row1\" class=\"row_heading level0 row1\" >3</th> \n",
       "        <td id=\"T_e374251c_584a_11e9_8ef2_701ce71031efrow1_col0\" class=\"data row1 col0\" >master</td> \n",
       "        <td id=\"T_e374251c_584a_11e9_8ef2_701ce71031efrow1_col1\" class=\"data row1 col1\" >15327.2</td> \n",
       "        <td id=\"T_e374251c_584a_11e9_8ef2_701ce71031efrow1_col2\" class=\"data row1 col2\" >14583.3</td> \n",
       "        <td id=\"T_e374251c_584a_11e9_8ef2_701ce71031efrow1_col3\" class=\"data row1 col3\" >27</td> \n",
       "        <td id=\"T_e374251c_584a_11e9_8ef2_701ce71031efrow1_col4\" class=\"data row1 col4\" >2.32%</td> \n",
       "    </tr>    <tr> \n",
       "        <th id=\"T_e374251c_584a_11e9_8ef2_701ce71031eflevel0_row2\" class=\"row_heading level0 row2\" >1</th> \n",
       "        <td id=\"T_e374251c_584a_11e9_8ef2_701ce71031efrow2_col0\" class=\"data row2 col0\" >bachelor</td> \n",
       "        <td id=\"T_e374251c_584a_11e9_8ef2_701ce71031efrow2_col1\" class=\"data row2 col1\" >10898.3</td> \n",
       "        <td id=\"T_e374251c_584a_11e9_8ef2_701ce71031efrow2_col2\" class=\"data row2 col2\" >10000</td> \n",
       "        <td id=\"T_e374251c_584a_11e9_8ef2_701ce71031efrow2_col3\" class=\"data row2 col3\" >639</td> \n",
       "        <td id=\"T_e374251c_584a_11e9_8ef2_701ce71031efrow2_col4\" class=\"data row2 col4\" >54.85%</td> \n",
       "    </tr>    <tr> \n",
       "        <th id=\"T_e374251c_584a_11e9_8ef2_701ce71031eflevel0_row3\" class=\"row_heading level0 row3\" >0</th> \n",
       "        <td id=\"T_e374251c_584a_11e9_8ef2_701ce71031efrow3_col0\" class=\"data row3 col0\" >associate</td> \n",
       "        <td id=\"T_e374251c_584a_11e9_8ef2_701ce71031efrow3_col1\" class=\"data row3 col1\" >7631.12</td> \n",
       "        <td id=\"T_e374251c_584a_11e9_8ef2_701ce71031efrow3_col2\" class=\"data row3 col2\" >7000</td> \n",
       "        <td id=\"T_e374251c_584a_11e9_8ef2_701ce71031efrow3_col3\" class=\"data row3 col3\" >490</td> \n",
       "        <td id=\"T_e374251c_584a_11e9_8ef2_701ce71031efrow3_col4\" class=\"data row3 col4\" >42.06%</td> \n",
       "    </tr>    <tr> \n",
       "        <th id=\"T_e374251c_584a_11e9_8ef2_701ce71031eflevel0_row4\" class=\"row_heading level0 row4\" >2</th> \n",
       "        <td id=\"T_e374251c_584a_11e9_8ef2_701ce71031efrow4_col0\" class=\"data row4 col0\" >high_school</td> \n",
       "        <td id=\"T_e374251c_584a_11e9_8ef2_701ce71031efrow4_col1\" class=\"data row4 col1\" >6666.67</td> \n",
       "        <td id=\"T_e374251c_584a_11e9_8ef2_701ce71031efrow4_col2\" class=\"data row4 col2\" >7000</td> \n",
       "        <td id=\"T_e374251c_584a_11e9_8ef2_701ce71031efrow4_col3\" class=\"data row4 col3\" >3</td> \n",
       "        <td id=\"T_e374251c_584a_11e9_8ef2_701ce71031efrow4_col4\" class=\"data row4 col4\" >0.26%</td> \n",
       "    </tr>    <tr> \n",
       "        <th id=\"T_e374251c_584a_11e9_8ef2_701ce71031eflevel0_row5\" class=\"row_heading level0 row5\" >4</th> \n",
       "        <td id=\"T_e374251c_584a_11e9_8ef2_701ce71031efrow5_col0\" class=\"data row5 col0\" >middle_school</td> \n",
       "        <td id=\"T_e374251c_584a_11e9_8ef2_701ce71031efrow5_col1\" class=\"data row5 col1\" >nan</td> \n",
       "        <td id=\"T_e374251c_584a_11e9_8ef2_701ce71031efrow5_col2\" class=\"data row5 col2\" >nan</td> \n",
       "        <td id=\"T_e374251c_584a_11e9_8ef2_701ce71031efrow5_col3\" class=\"data row5 col3\" >0</td> \n",
       "        <td id=\"T_e374251c_584a_11e9_8ef2_701ce71031efrow5_col4\" class=\"data row5 col4\" >0.00%</td> \n",
       "    </tr></tbody> \n",
       "</table> "
      ],
      "text/plain": [
       "<pandas.io.formats.style.Styler at 0x2cd8edc0da0>"
      ]
     },
     "execution_count": 18,
     "metadata": {},
     "output_type": "execute_result"
    }
   ],
   "source": [
    "data_edu=get_sub_stats(data,'edu_')\n",
    "data_edu.style.format({\"percentage\":\"{:.2%}\"})"
   ]
  },
  {
   "cell_type": "code",
   "execution_count": 19,
   "metadata": {},
   "outputs": [],
   "source": [
    "salary_phd=data[data.edu_phd==1].monthly_salary * 10000\n",
    "salary_master=data[data.edu_master==1].monthly_salary * 10000\n",
    "salary_bachelor=data[data.edu_bachelor==1].monthly_salary * 10000\n",
    "salary_associate=data[data.edu_associate==1].monthly_salary * 10000"
   ]
  },
  {
   "cell_type": "code",
   "execution_count": 20,
   "metadata": {},
   "outputs": [
    {
     "name": "stdout",
     "output_type": "stream",
     "text": [
      "大专，本科，硕士，博士的平均工资分别是7631，10898，15327，23264。中位数分别是7000， 10000，14583， 22500。\n"
     ]
    }
   ],
   "source": [
    "print('大专，本科，硕士，博士的平均工资分别是{:.0f}，{:.0f}，{:.0f}，{:.0f}。中位数分别是{:.0f}， {:.0f}，{:.0f}， {:.0f}。'.format(\n",
    "    salary_associate.mean(),salary_bachelor.mean(),salary_master.mean(),salary_phd.mean(),\n",
    "    salary_associate.median(),salary_bachelor.median(),salary_master.median(),salary_phd.median()))"
   ]
  },
  {
   "cell_type": "code",
   "execution_count": 21,
   "metadata": {},
   "outputs": [
    {
     "data": {
      "text/plain": [
       "F_onewayResult(statistic=13.844159585137783, pvalue=0.0007885605956567125)"
      ]
     },
     "execution_count": 21,
     "metadata": {},
     "output_type": "execute_result"
    }
   ],
   "source": [
    "stats.f_oneway(salary_phd, salary_master)"
   ]
  },
  {
   "cell_type": "code",
   "execution_count": 22,
   "metadata": {},
   "outputs": [
    {
     "data": {
      "text/plain": [
       "F_onewayResult(statistic=19.78684366975772, pvalue=1.0149296628970448e-05)"
      ]
     },
     "execution_count": 22,
     "metadata": {},
     "output_type": "execute_result"
    }
   ],
   "source": [
    "stats.f_oneway(salary_master, salary_bachelor)"
   ]
  },
  {
   "cell_type": "code",
   "execution_count": 23,
   "metadata": {},
   "outputs": [
    {
     "data": {
      "text/plain": [
       "F_onewayResult(statistic=130.1540133220867, pvalue=1.3145967703437656e-28)"
      ]
     },
     "execution_count": 23,
     "metadata": {},
     "output_type": "execute_result"
    }
   ],
   "source": [
    "stats.f_oneway(salary_bachelor, salary_associate)"
   ]
  },
  {
   "cell_type": "markdown",
   "metadata": {},
   "source": [
    "经过Oneway Anova Test，证明从大专到博士，学历每提高一级，工资都有显著的提高。"
   ]
  },
  {
   "cell_type": "code",
   "execution_count": 31,
   "metadata": {},
   "outputs": [
    {
     "data": {
      "image/png": "[encoded data removed]",
      "text/plain": [
       "<Figure size 432x288 with 1 Axes>"
      ]
     },
     "metadata": {
      "needs_background": "light"
     },
     "output_type": "display_data"
    }
   ],
   "source": [
    "data=add_category_column(data,'edu')\n",
    "order=['phd','master','bachelor','associate']\n",
    "a=sns.boxplot(y='edu',x='monthly_salary',order=order,data=data[data.edu.isin(order)], orient='h')\n",
    "plt.annotate('https://github.com/juwikuang/job_survey', xy=(0.5,1.5), xytext=(1.5, 1.55))\n",
    "plt.show()"
   ]
  },
  {
   "cell_type": "markdown",
   "metadata": {},
   "source": [
    "# 工作经验 Working Experience"
   ]
  },
  {
   "cell_type": "code",
   "execution_count": 25,
   "metadata": {},
   "outputs": [
    {
     "data": {
      "text/html": [
       "<style  type=\"text/css\" >\n",
       "</style>  \n",
       "<table id=\"T_e86cb3d8_584a_11e9_84d1_701ce71031ef\" > \n",
       "<thead>    <tr> \n",
       "        <th class=\"blank level0\" ></th> \n",
       "        <th class=\"col_heading level0 col0\" >experience_</th> \n",
       "        <th class=\"col_heading level0 col1\" >salary_mean</th> \n",
       "        <th class=\"col_heading level0 col2\" >salary_median</th> \n",
       "        <th class=\"col_heading level0 col3\" >head_count</th> \n",
       "        <th class=\"col_heading level0 col4\" >percentage</th> \n",
       "    </tr></thead> \n",
       "<tbody>    <tr> \n",
       "        <th id=\"T_e86cb3d8_584a_11e9_84d1_701ce71031eflevel0_row0\" class=\"row_heading level0 row0\" >0</th> \n",
       "        <td id=\"T_e86cb3d8_584a_11e9_84d1_701ce71031efrow0_col0\" class=\"data row0 col0\" >10</td> \n",
       "        <td id=\"T_e86cb3d8_584a_11e9_84d1_701ce71031efrow0_col1\" class=\"data row0 col1\" >24121.2</td> \n",
       "        <td id=\"T_e86cb3d8_584a_11e9_84d1_701ce71031efrow0_col2\" class=\"data row0 col2\" >22500</td> \n",
       "        <td id=\"T_e86cb3d8_584a_11e9_84d1_701ce71031efrow0_col3\" class=\"data row0 col3\" >11</td> \n",
       "        <td id=\"T_e86cb3d8_584a_11e9_84d1_701ce71031efrow0_col4\" class=\"data row0 col4\" >0.79%</td> \n",
       "    </tr>    <tr> \n",
       "        <th id=\"T_e86cb3d8_584a_11e9_84d1_701ce71031eflevel0_row1\" class=\"row_heading level0 row1\" >3</th> \n",
       "        <td id=\"T_e86cb3d8_584a_11e9_84d1_701ce71031efrow1_col0\" class=\"data row1 col0\" >5_10</td> \n",
       "        <td id=\"T_e86cb3d8_584a_11e9_84d1_701ce71031efrow1_col1\" class=\"data row1 col1\" >15744.2</td> \n",
       "        <td id=\"T_e86cb3d8_584a_11e9_84d1_701ce71031efrow1_col2\" class=\"data row1 col2\" >15000</td> \n",
       "        <td id=\"T_e86cb3d8_584a_11e9_84d1_701ce71031efrow1_col3\" class=\"data row1 col3\" >114</td> \n",
       "        <td id=\"T_e86cb3d8_584a_11e9_84d1_701ce71031efrow1_col4\" class=\"data row1 col4\" >8.23%</td> \n",
       "    </tr>    <tr> \n",
       "        <th id=\"T_e86cb3d8_584a_11e9_84d1_701ce71031eflevel0_row2\" class=\"row_heading level0 row2\" >2</th> \n",
       "        <td id=\"T_e86cb3d8_584a_11e9_84d1_701ce71031efrow2_col0\" class=\"data row2 col0\" >3_5</td> \n",
       "        <td id=\"T_e86cb3d8_584a_11e9_84d1_701ce71031efrow2_col1\" class=\"data row2 col1\" >11199.8</td> \n",
       "        <td id=\"T_e86cb3d8_584a_11e9_84d1_701ce71031efrow2_col2\" class=\"data row2 col2\" >10500</td> \n",
       "        <td id=\"T_e86cb3d8_584a_11e9_84d1_701ce71031efrow2_col3\" class=\"data row2 col3\" >269</td> \n",
       "        <td id=\"T_e86cb3d8_584a_11e9_84d1_701ce71031efrow2_col4\" class=\"data row2 col4\" >19.42%</td> \n",
       "    </tr>    <tr> \n",
       "        <th id=\"T_e86cb3d8_584a_11e9_84d1_701ce71031eflevel0_row3\" class=\"row_heading level0 row3\" >1</th> \n",
       "        <td id=\"T_e86cb3d8_584a_11e9_84d1_701ce71031efrow3_col0\" class=\"data row3 col0\" >1_3</td> \n",
       "        <td id=\"T_e86cb3d8_584a_11e9_84d1_701ce71031efrow3_col1\" class=\"data row3 col1\" >8894.07</td> \n",
       "        <td id=\"T_e86cb3d8_584a_11e9_84d1_701ce71031efrow3_col2\" class=\"data row3 col2\" >8500</td> \n",
       "        <td id=\"T_e86cb3d8_584a_11e9_84d1_701ce71031efrow3_col3\" class=\"data row3 col3\" >368</td> \n",
       "        <td id=\"T_e86cb3d8_584a_11e9_84d1_701ce71031efrow3_col4\" class=\"data row3 col4\" >26.57%</td> \n",
       "    </tr>    <tr> \n",
       "        <th id=\"T_e86cb3d8_584a_11e9_84d1_701ce71031eflevel0_row4\" class=\"row_heading level0 row4\" >4</th> \n",
       "        <td id=\"T_e86cb3d8_584a_11e9_84d1_701ce71031efrow4_col0\" class=\"data row4 col0\" >no</td> \n",
       "        <td id=\"T_e86cb3d8_584a_11e9_84d1_701ce71031efrow4_col1\" class=\"data row4 col1\" >7831.84</td> \n",
       "        <td id=\"T_e86cb3d8_584a_11e9_84d1_701ce71031efrow4_col2\" class=\"data row4 col2\" >7000</td> \n",
       "        <td id=\"T_e86cb3d8_584a_11e9_84d1_701ce71031efrow4_col3\" class=\"data row4 col3\" >623</td> \n",
       "        <td id=\"T_e86cb3d8_584a_11e9_84d1_701ce71031efrow4_col4\" class=\"data row4 col4\" >44.98%</td> \n",
       "    </tr></tbody> \n",
       "</table> "
      ],
      "text/plain": [
       "<pandas.io.formats.style.Styler at 0x2cd8eec6fd0>"
      ]
     },
     "execution_count": 25,
     "metadata": {},
     "output_type": "execute_result"
    }
   ],
   "source": [
    "data_experience=get_sub_stats(data,'experience_')\n",
    "data_experience.style.format({\"percentage\":\"{:.2%}\"})"
   ]
  },
  {
   "cell_type": "code",
   "execution_count": 26,
   "metadata": {},
   "outputs": [],
   "source": [
    "salary_we_10=data[data.experience_10==1].monthly_salary * 10000\n",
    "salary_we_5_10=data[data.experience_5_10==1].monthly_salary * 10000\n",
    "salary_we_3_5=data[data.experience_3_5==1].monthly_salary * 10000\n",
    "salary_we_1_3=data[data.experience_1_3==1].monthly_salary * 10000\n",
    "salary_we_no=data[data.experience_no==1].monthly_salary * 10000"
   ]
  },
  {
   "cell_type": "code",
   "execution_count": 27,
   "metadata": {},
   "outputs": [
    {
     "data": {
      "image/png": "[encoded data removed]",
      "text/plain": [
       "<Figure size 432x288 with 1 Axes>"
      ]
     },
     "metadata": {
      "needs_background": "light"
     },
     "output_type": "display_data"
    }
   ],
   "source": [
    "data=add_category_column(data,'experience')\n",
    "order=['10','5_10','3_5','1_3']\n",
    "sns.boxplot(y='experience',x='monthly_salary',order=order,data=data[data.experience.isin(order)], orient='h')\n",
    "plt.annotate('https://github.com/juwikuang/job_survey', xy=(1.5,1.5), xytext=(1.55, 1.55))\n",
    "plt.show()"
   ]
  },
  {
   "cell_type": "markdown",
   "metadata": {},
   "source": [
    "# 公司 Company"
   ]
  },
  {
   "cell_type": "markdown",
   "metadata": {},
   "source": [
    "## 公司性质 Company Type"
   ]
  },
  {
   "cell_type": "code",
   "execution_count": 28,
   "metadata": {},
   "outputs": [
    {
     "data": {
      "text/html": [
       "<style  type=\"text/css\" >\n",
       "</style>  \n",
       "<table id=\"T_eaf6bbac_584a_11e9_a98f_701ce71031ef\" > \n",
       "<thead>    <tr> \n",
       "        <th class=\"blank level0\" ></th> \n",
       "        <th class=\"col_heading level0 col0\" >company_type_</th> \n",
       "        <th class=\"col_heading level0 col1\" >salary_mean</th> \n",
       "        <th class=\"col_heading level0 col2\" >salary_median</th> \n",
       "        <th class=\"col_heading level0 col3\" >head_count</th> \n",
       "        <th class=\"col_heading level0 col4\" >percentage</th> \n",
       "    </tr></thead> \n",
       "<tbody>    <tr> \n",
       "        <th id=\"T_eaf6bbac_584a_11e9_a98f_701ce71031eflevel0_row0\" class=\"row_heading level0 row0\" >8</th> \n",
       "        <td id=\"T_eaf6bbac_584a_11e9_a98f_701ce71031efrow0_col0\" class=\"data row0 col0\" >state</td> \n",
       "        <td id=\"T_eaf6bbac_584a_11e9_a98f_701ce71031efrow0_col1\" class=\"data row0 col1\" >13464</td> \n",
       "        <td id=\"T_eaf6bbac_584a_11e9_a98f_701ce71031efrow0_col2\" class=\"data row0 col2\" >11000</td> \n",
       "        <td id=\"T_eaf6bbac_584a_11e9_a98f_701ce71031efrow0_col3\" class=\"data row0 col3\" >217</td> \n",
       "        <td id=\"T_eaf6bbac_584a_11e9_a98f_701ce71031efrow0_col4\" class=\"data row0 col4\" >16.82%</td> \n",
       "    </tr>    <tr> \n",
       "        <th id=\"T_eaf6bbac_584a_11e9_a98f_701ce71031eflevel0_row1\" class=\"row_heading level0 row1\" >9</th> \n",
       "        <td id=\"T_eaf6bbac_584a_11e9_a98f_701ce71031efrow1_col0\" class=\"data row1 col0\" >us_eu</td> \n",
       "        <td id=\"T_eaf6bbac_584a_11e9_a98f_701ce71031efrow1_col1\" class=\"data row1 col1\" >12774</td> \n",
       "        <td id=\"T_eaf6bbac_584a_11e9_a98f_701ce71031efrow1_col2\" class=\"data row1 col2\" >11500</td> \n",
       "        <td id=\"T_eaf6bbac_584a_11e9_a98f_701ce71031efrow1_col3\" class=\"data row1 col3\" >41</td> \n",
       "        <td id=\"T_eaf6bbac_584a_11e9_a98f_701ce71031efrow1_col4\" class=\"data row1 col4\" >3.18%</td> \n",
       "    </tr>    <tr> \n",
       "        <th id=\"T_eaf6bbac_584a_11e9_a98f_701ce71031eflevel0_row2\" class=\"row_heading level0 row2\" >3</th> \n",
       "        <td id=\"T_eaf6bbac_584a_11e9_a98f_701ce71031efrow2_col0\" class=\"data row2 col0\" >listed</td> \n",
       "        <td id=\"T_eaf6bbac_584a_11e9_a98f_701ce71031efrow2_col1\" class=\"data row2 col1\" >9699</td> \n",
       "        <td id=\"T_eaf6bbac_584a_11e9_a98f_701ce71031efrow2_col2\" class=\"data row2 col2\" >9000</td> \n",
       "        <td id=\"T_eaf6bbac_584a_11e9_a98f_701ce71031efrow2_col3\" class=\"data row2 col3\" >69</td> \n",
       "        <td id=\"T_eaf6bbac_584a_11e9_a98f_701ce71031efrow2_col4\" class=\"data row2 col4\" >5.35%</td> \n",
       "    </tr>    <tr> \n",
       "        <th id=\"T_eaf6bbac_584a_11e9_a98f_701ce71031eflevel0_row3\" class=\"row_heading level0 row3\" >0</th> \n",
       "        <td id=\"T_eaf6bbac_584a_11e9_a98f_701ce71031efrow3_col0\" class=\"data row3 col0\" >foreign</td> \n",
       "        <td id=\"T_eaf6bbac_584a_11e9_a98f_701ce71031efrow3_col1\" class=\"data row3 col1\" >9683</td> \n",
       "        <td id=\"T_eaf6bbac_584a_11e9_a98f_701ce71031efrow3_col2\" class=\"data row3 col2\" >8500</td> \n",
       "        <td id=\"T_eaf6bbac_584a_11e9_a98f_701ce71031efrow3_col3\" class=\"data row3 col3\" >35</td> \n",
       "        <td id=\"T_eaf6bbac_584a_11e9_a98f_701ce71031efrow3_col4\" class=\"data row3 col4\" >2.71%</td> \n",
       "    </tr>    <tr> \n",
       "        <th id=\"T_eaf6bbac_584a_11e9_a98f_701ce71031eflevel0_row4\" class=\"row_heading level0 row4\" >6</th> \n",
       "        <td id=\"T_eaf6bbac_584a_11e9_a98f_701ce71031efrow4_col0\" class=\"data row4 col0\" >public_institution</td> \n",
       "        <td id=\"T_eaf6bbac_584a_11e9_a98f_701ce71031efrow4_col1\" class=\"data row4 col1\" >8833</td> \n",
       "        <td id=\"T_eaf6bbac_584a_11e9_a98f_701ce71031efrow4_col2\" class=\"data row4 col2\" >7500</td> \n",
       "        <td id=\"T_eaf6bbac_584a_11e9_a98f_701ce71031efrow4_col3\" class=\"data row4 col3\" >3</td> \n",
       "        <td id=\"T_eaf6bbac_584a_11e9_a98f_701ce71031efrow4_col4\" class=\"data row4 col4\" >0.23%</td> \n",
       "    </tr>    <tr> \n",
       "        <th id=\"T_eaf6bbac_584a_11e9_a98f_701ce71031eflevel0_row5\" class=\"row_heading level0 row5\" >5</th> \n",
       "        <td id=\"T_eaf6bbac_584a_11e9_a98f_701ce71031efrow5_col0\" class=\"data row5 col0\" >private</td> \n",
       "        <td id=\"T_eaf6bbac_584a_11e9_a98f_701ce71031efrow5_col1\" class=\"data row5 col1\" >8333</td> \n",
       "        <td id=\"T_eaf6bbac_584a_11e9_a98f_701ce71031efrow5_col2\" class=\"data row5 col2\" >7000</td> \n",
       "        <td id=\"T_eaf6bbac_584a_11e9_a98f_701ce71031efrow5_col3\" class=\"data row5 col3\" >905</td> \n",
       "        <td id=\"T_eaf6bbac_584a_11e9_a98f_701ce71031efrow5_col4\" class=\"data row5 col4\" >70.16%</td> \n",
       "    </tr>    <tr> \n",
       "        <th id=\"T_eaf6bbac_584a_11e9_a98f_701ce71031eflevel0_row6\" class=\"row_heading level0 row6\" >7</th> \n",
       "        <td id=\"T_eaf6bbac_584a_11e9_a98f_701ce71031efrow6_col0\" class=\"data row6 col0\" >startup</td> \n",
       "        <td id=\"T_eaf6bbac_584a_11e9_a98f_701ce71031efrow6_col1\" class=\"data row6 col1\" >8102</td> \n",
       "        <td id=\"T_eaf6bbac_584a_11e9_a98f_701ce71031efrow6_col2\" class=\"data row6 col2\" >8000</td> \n",
       "        <td id=\"T_eaf6bbac_584a_11e9_a98f_701ce71031efrow6_col3\" class=\"data row6 col3\" >18</td> \n",
       "        <td id=\"T_eaf6bbac_584a_11e9_a98f_701ce71031efrow6_col4\" class=\"data row6 col4\" >1.40%</td> \n",
       "    </tr>    <tr> \n",
       "        <th id=\"T_eaf6bbac_584a_11e9_a98f_701ce71031eflevel0_row7\" class=\"row_heading level0 row7\" >4</th> \n",
       "        <td id=\"T_eaf6bbac_584a_11e9_a98f_701ce71031efrow7_col0\" class=\"data row7 col0\" >non_profit</td> \n",
       "        <td id=\"T_eaf6bbac_584a_11e9_a98f_701ce71031efrow7_col1\" class=\"data row7 col1\" >4500</td> \n",
       "        <td id=\"T_eaf6bbac_584a_11e9_a98f_701ce71031efrow7_col2\" class=\"data row7 col2\" >4500</td> \n",
       "        <td id=\"T_eaf6bbac_584a_11e9_a98f_701ce71031efrow7_col3\" class=\"data row7 col3\" >2</td> \n",
       "        <td id=\"T_eaf6bbac_584a_11e9_a98f_701ce71031efrow7_col4\" class=\"data row7 col4\" >0.16%</td> \n",
       "    </tr>    <tr> \n",
       "        <th id=\"T_eaf6bbac_584a_11e9_a98f_701ce71031eflevel0_row8\" class=\"row_heading level0 row8\" >1</th> \n",
       "        <td id=\"T_eaf6bbac_584a_11e9_a98f_701ce71031efrow8_col0\" class=\"data row8 col0\" >foreign_gov</td> \n",
       "        <td id=\"T_eaf6bbac_584a_11e9_a98f_701ce71031efrow8_col1\" class=\"data row8 col1\" >nan</td> \n",
       "        <td id=\"T_eaf6bbac_584a_11e9_a98f_701ce71031efrow8_col2\" class=\"data row8 col2\" >nan</td> \n",
       "        <td id=\"T_eaf6bbac_584a_11e9_a98f_701ce71031efrow8_col3\" class=\"data row8 col3\" >0</td> \n",
       "        <td id=\"T_eaf6bbac_584a_11e9_a98f_701ce71031efrow8_col4\" class=\"data row8 col4\" >0.00%</td> \n",
       "    </tr>    <tr> \n",
       "        <th id=\"T_eaf6bbac_584a_11e9_a98f_701ce71031eflevel0_row9\" class=\"row_heading level0 row9\" >2</th> \n",
       "        <td id=\"T_eaf6bbac_584a_11e9_a98f_701ce71031efrow9_col0\" class=\"data row9 col0\" >foreign_rep</td> \n",
       "        <td id=\"T_eaf6bbac_584a_11e9_a98f_701ce71031efrow9_col1\" class=\"data row9 col1\" >nan</td> \n",
       "        <td id=\"T_eaf6bbac_584a_11e9_a98f_701ce71031efrow9_col2\" class=\"data row9 col2\" >nan</td> \n",
       "        <td id=\"T_eaf6bbac_584a_11e9_a98f_701ce71031efrow9_col3\" class=\"data row9 col3\" >0</td> \n",
       "        <td id=\"T_eaf6bbac_584a_11e9_a98f_701ce71031efrow9_col4\" class=\"data row9 col4\" >0.00%</td> \n",
       "    </tr></tbody> \n",
       "</table> "
      ],
      "text/plain": [
       "<pandas.io.formats.style.Styler at 0x2cd8ef50550>"
      ]
     },
     "execution_count": 28,
     "metadata": {},
     "output_type": "execute_result"
    }
   ],
   "source": [
    "data_company_type=get_sub_stats(data,'company_type_')\n",
    "data_company_type.style.format({\"percentage\":\"{:.2%}\",\"salary_mean\":\"{:.0f}\",\"salary_median\":\"{:.0f}\"})"
   ]
  },
  {
   "cell_type": "markdown",
   "metadata": {},
   "source": [
    "us_eu是欧美外企，startup是创业公司，listed是上市公司，state是国企，private是私企，foreign是非欧美外企，其他不足1000个样本的不管了。"
   ]
  },
  {
   "cell_type": "markdown",
   "metadata": {},
   "source": [
    "## 公司规模 Company Size"
   ]
  },
  {
   "cell_type": "code",
   "execution_count": 29,
   "metadata": {},
   "outputs": [
    {
     "data": {
      "text/html": [
       "<style  type=\"text/css\" >\n",
       "</style>  \n",
       "<table id=\"T_ec6a16b4_584a_11e9_95c6_701ce71031ef\" > \n",
       "<thead>    <tr> \n",
       "        <th class=\"blank level0\" ></th> \n",
       "        <th class=\"col_heading level0 col0\" >company_size_</th> \n",
       "        <th class=\"col_heading level0 col1\" >salary_mean</th> \n",
       "        <th class=\"col_heading level0 col2\" >salary_median</th> \n",
       "        <th class=\"col_heading level0 col3\" >head_count</th> \n",
       "        <th class=\"col_heading level0 col4\" >percentage</th> \n",
       "    </tr></thead> \n",
       "<tbody>    <tr> \n",
       "        <th id=\"T_ec6a16b4_584a_11e9_95c6_701ce71031eflevel0_row0\" class=\"row_heading level0 row0\" >1</th> \n",
       "        <td id=\"T_ec6a16b4_584a_11e9_95c6_701ce71031efrow0_col0\" class=\"data row0 col0\" >1000_5000</td> \n",
       "        <td id=\"T_ec6a16b4_584a_11e9_95c6_701ce71031efrow0_col1\" class=\"data row0 col1\" >12679</td> \n",
       "        <td id=\"T_ec6a16b4_584a_11e9_95c6_701ce71031efrow0_col2\" class=\"data row0 col2\" >10500</td> \n",
       "        <td id=\"T_ec6a16b4_584a_11e9_95c6_701ce71031efrow0_col3\" class=\"data row0 col3\" >231</td> \n",
       "        <td id=\"T_ec6a16b4_584a_11e9_95c6_701ce71031efrow0_col4\" class=\"data row0 col4\" >16.68%</td> \n",
       "    </tr>    <tr> \n",
       "        <th id=\"T_ec6a16b4_584a_11e9_95c6_701ce71031eflevel0_row1\" class=\"row_heading level0 row1\" >5</th> \n",
       "        <td id=\"T_ec6a16b4_584a_11e9_95c6_701ce71031efrow1_col0\" class=\"data row1 col0\" >500_1000</td> \n",
       "        <td id=\"T_ec6a16b4_584a_11e9_95c6_701ce71031efrow1_col1\" class=\"data row1 col1\" >10684</td> \n",
       "        <td id=\"T_ec6a16b4_584a_11e9_95c6_701ce71031efrow1_col2\" class=\"data row1 col2\" >9000</td> \n",
       "        <td id=\"T_ec6a16b4_584a_11e9_95c6_701ce71031efrow1_col3\" class=\"data row1 col3\" >120</td> \n",
       "        <td id=\"T_ec6a16b4_584a_11e9_95c6_701ce71031efrow1_col4\" class=\"data row1 col4\" >8.66%</td> \n",
       "    </tr>    <tr> \n",
       "        <th id=\"T_ec6a16b4_584a_11e9_95c6_701ce71031eflevel0_row2\" class=\"row_heading level0 row2\" >4</th> \n",
       "        <td id=\"T_ec6a16b4_584a_11e9_95c6_701ce71031efrow2_col0\" class=\"data row2 col0\" >5000_10000</td> \n",
       "        <td id=\"T_ec6a16b4_584a_11e9_95c6_701ce71031efrow2_col1\" class=\"data row2 col1\" >10154</td> \n",
       "        <td id=\"T_ec6a16b4_584a_11e9_95c6_701ce71031efrow2_col2\" class=\"data row2 col2\" >10000</td> \n",
       "        <td id=\"T_ec6a16b4_584a_11e9_95c6_701ce71031efrow2_col3\" class=\"data row2 col3\" >13</td> \n",
       "        <td id=\"T_ec6a16b4_584a_11e9_95c6_701ce71031efrow2_col4\" class=\"data row2 col4\" >0.94%</td> \n",
       "    </tr>    <tr> \n",
       "        <th id=\"T_ec6a16b4_584a_11e9_95c6_701ce71031eflevel0_row3\" class=\"row_heading level0 row3\" >2</th> \n",
       "        <td id=\"T_ec6a16b4_584a_11e9_95c6_701ce71031efrow3_col0\" class=\"data row3 col0\" >150_500</td> \n",
       "        <td id=\"T_ec6a16b4_584a_11e9_95c6_701ce71031efrow3_col1\" class=\"data row3 col1\" >9313</td> \n",
       "        <td id=\"T_ec6a16b4_584a_11e9_95c6_701ce71031efrow3_col2\" class=\"data row3 col2\" >9000</td> \n",
       "        <td id=\"T_ec6a16b4_584a_11e9_95c6_701ce71031efrow3_col3\" class=\"data row3 col3\" >267</td> \n",
       "        <td id=\"T_ec6a16b4_584a_11e9_95c6_701ce71031efrow3_col4\" class=\"data row3 col4\" >19.28%</td> \n",
       "    </tr>    <tr> \n",
       "        <th id=\"T_ec6a16b4_584a_11e9_95c6_701ce71031eflevel0_row4\" class=\"row_heading level0 row4\" >6</th> \n",
       "        <td id=\"T_ec6a16b4_584a_11e9_95c6_701ce71031efrow4_col0\" class=\"data row4 col0\" >50_150</td> \n",
       "        <td id=\"T_ec6a16b4_584a_11e9_95c6_701ce71031efrow4_col1\" class=\"data row4 col1\" >8769</td> \n",
       "        <td id=\"T_ec6a16b4_584a_11e9_95c6_701ce71031efrow4_col2\" class=\"data row4 col2\" >7000</td> \n",
       "        <td id=\"T_ec6a16b4_584a_11e9_95c6_701ce71031efrow4_col3\" class=\"data row4 col3\" >453</td> \n",
       "        <td id=\"T_ec6a16b4_584a_11e9_95c6_701ce71031efrow4_col4\" class=\"data row4 col4\" >32.71%</td> \n",
       "    </tr>    <tr> \n",
       "        <th id=\"T_ec6a16b4_584a_11e9_95c6_701ce71031eflevel0_row5\" class=\"row_heading level0 row5\" >0</th> \n",
       "        <td id=\"T_ec6a16b4_584a_11e9_95c6_701ce71031efrow5_col0\" class=\"data row5 col0\" >10000</td> \n",
       "        <td id=\"T_ec6a16b4_584a_11e9_95c6_701ce71031efrow5_col1\" class=\"data row5 col1\" >8625</td> \n",
       "        <td id=\"T_ec6a16b4_584a_11e9_95c6_701ce71031efrow5_col2\" class=\"data row5 col2\" >9000</td> \n",
       "        <td id=\"T_ec6a16b4_584a_11e9_95c6_701ce71031efrow5_col3\" class=\"data row5 col3\" >18</td> \n",
       "        <td id=\"T_ec6a16b4_584a_11e9_95c6_701ce71031efrow5_col4\" class=\"data row5 col4\" >1.30%</td> \n",
       "    </tr>    <tr> \n",
       "        <th id=\"T_ec6a16b4_584a_11e9_95c6_701ce71031eflevel0_row6\" class=\"row_heading level0 row6\" >3</th> \n",
       "        <td id=\"T_ec6a16b4_584a_11e9_95c6_701ce71031efrow6_col0\" class=\"data row6 col0\" >50</td> \n",
       "        <td id=\"T_ec6a16b4_584a_11e9_95c6_701ce71031efrow6_col1\" class=\"data row6 col1\" >8014</td> \n",
       "        <td id=\"T_ec6a16b4_584a_11e9_95c6_701ce71031efrow6_col2\" class=\"data row6 col2\" >7000</td> \n",
       "        <td id=\"T_ec6a16b4_584a_11e9_95c6_701ce71031efrow6_col3\" class=\"data row6 col3\" >283</td> \n",
       "        <td id=\"T_ec6a16b4_584a_11e9_95c6_701ce71031efrow6_col4\" class=\"data row6 col4\" >20.43%</td> \n",
       "    </tr></tbody> \n",
       "</table> "
      ],
      "text/plain": [
       "<pandas.io.formats.style.Styler at 0x2cd8ee1a320>"
      ]
     },
     "execution_count": 29,
     "metadata": {},
     "output_type": "execute_result"
    }
   ],
   "source": [
    "data_company_size=get_sub_stats(data,'company_size_')\n",
    "data_company_size.style.format({\"percentage\":\"{:.2%}\",\"salary_mean\":\"{:.0f}\",\"salary_median\":\"{:.0f}\"})"
   ]
  },
  {
   "cell_type": "markdown",
   "metadata": {},
   "source": [
    "## 行业 Industry"
   ]
  },
  {
   "cell_type": "code",
   "execution_count": 30,
   "metadata": {},
   "outputs": [
    {
     "data": {
      "text/html": [
       "<style  type=\"text/css\" >\n",
       "</style>  \n",
       "<table id=\"T_ed9b58ba_584a_11e9_b1a4_701ce71031ef\" > \n",
       "<thead>    <tr> \n",
       "        <th class=\"blank level0\" ></th> \n",
       "        <th class=\"col_heading level0 col0\" >industry_</th> \n",
       "        <th class=\"col_heading level0 col1\" >salary_mean</th> \n",
       "        <th class=\"col_heading level0 col2\" >salary_median</th> \n",
       "        <th class=\"col_heading level0 col3\" >head_count</th> \n",
       "        <th class=\"col_heading level0 col4\" >percentage</th> \n",
       "    </tr></thead> \n",
       "<tbody>    <tr> \n",
       "        <th id=\"T_ed9b58ba_584a_11e9_b1a4_701ce71031eflevel0_row0\" class=\"row_heading level0 row0\" >7</th> \n",
       "        <td id=\"T_ed9b58ba_584a_11e9_b1a4_701ce71031efrow0_col0\" class=\"data row0 col0\" >medical</td> \n",
       "        <td id=\"T_ed9b58ba_584a_11e9_b1a4_701ce71031efrow0_col1\" class=\"data row0 col1\" >10187</td> \n",
       "        <td id=\"T_ed9b58ba_584a_11e9_b1a4_701ce71031efrow0_col2\" class=\"data row0 col2\" >8500</td> \n",
       "        <td id=\"T_ed9b58ba_584a_11e9_b1a4_701ce71031efrow0_col3\" class=\"data row0 col3\" >44</td> \n",
       "        <td id=\"T_ed9b58ba_584a_11e9_b1a4_701ce71031efrow0_col4\" class=\"data row0 col4\" >2.49%</td> \n",
       "    </tr>    <tr> \n",
       "        <th id=\"T_ed9b58ba_584a_11e9_b1a4_701ce71031eflevel0_row1\" class=\"row_heading level0 row1\" >10</th> \n",
       "        <td id=\"T_ed9b58ba_584a_11e9_b1a4_701ce71031efrow1_col0\" class=\"data row1 col0\" >trade</td> \n",
       "        <td id=\"T_ed9b58ba_584a_11e9_b1a4_701ce71031efrow1_col1\" class=\"data row1 col1\" >9950</td> \n",
       "        <td id=\"T_ed9b58ba_584a_11e9_b1a4_701ce71031efrow1_col2\" class=\"data row1 col2\" >9000</td> \n",
       "        <td id=\"T_ed9b58ba_584a_11e9_b1a4_701ce71031efrow1_col3\" class=\"data row1 col3\" >169</td> \n",
       "        <td id=\"T_ed9b58ba_584a_11e9_b1a4_701ce71031efrow1_col4\" class=\"data row1 col4\" >9.55%</td> \n",
       "    </tr>    <tr> \n",
       "        <th id=\"T_ed9b58ba_584a_11e9_b1a4_701ce71031eflevel0_row2\" class=\"row_heading level0 row2\" >6</th> \n",
       "        <td id=\"T_ed9b58ba_584a_11e9_b1a4_701ce71031efrow2_col0\" class=\"data row2 col0\" >logistic</td> \n",
       "        <td id=\"T_ed9b58ba_584a_11e9_b1a4_701ce71031efrow2_col1\" class=\"data row2 col1\" >9947</td> \n",
       "        <td id=\"T_ed9b58ba_584a_11e9_b1a4_701ce71031efrow2_col2\" class=\"data row2 col2\" >9000</td> \n",
       "        <td id=\"T_ed9b58ba_584a_11e9_b1a4_701ce71031efrow2_col3\" class=\"data row2 col3\" >41</td> \n",
       "        <td id=\"T_ed9b58ba_584a_11e9_b1a4_701ce71031efrow2_col4\" class=\"data row2 col4\" >2.32%</td> \n",
       "    </tr>    <tr> \n",
       "        <th id=\"T_ed9b58ba_584a_11e9_b1a4_701ce71031eflevel0_row3\" class=\"row_heading level0 row3\" >5</th> \n",
       "        <td id=\"T_ed9b58ba_584a_11e9_b1a4_701ce71031efrow3_col0\" class=\"data row3 col0\" >gov</td> \n",
       "        <td id=\"T_ed9b58ba_584a_11e9_b1a4_701ce71031efrow3_col1\" class=\"data row3 col1\" >9582</td> \n",
       "        <td id=\"T_ed9b58ba_584a_11e9_b1a4_701ce71031efrow3_col2\" class=\"data row3 col2\" >9000</td> \n",
       "        <td id=\"T_ed9b58ba_584a_11e9_b1a4_701ce71031efrow3_col3\" class=\"data row3 col3\" >60</td> \n",
       "        <td id=\"T_ed9b58ba_584a_11e9_b1a4_701ce71031efrow3_col4\" class=\"data row3 col4\" >3.39%</td> \n",
       "    </tr>    <tr> \n",
       "        <th id=\"T_ed9b58ba_584a_11e9_b1a4_701ce71031eflevel0_row4\" class=\"row_heading level0 row4\" >1</th> \n",
       "        <td id=\"T_ed9b58ba_584a_11e9_b1a4_701ce71031efrow4_col0\" class=\"data row4 col0\" >computer</td> \n",
       "        <td id=\"T_ed9b58ba_584a_11e9_b1a4_701ce71031efrow4_col1\" class=\"data row4 col1\" >9509</td> \n",
       "        <td id=\"T_ed9b58ba_584a_11e9_b1a4_701ce71031efrow4_col2\" class=\"data row4 col2\" >8750</td> \n",
       "        <td id=\"T_ed9b58ba_584a_11e9_b1a4_701ce71031efrow4_col3\" class=\"data row4 col3\" >1095</td> \n",
       "        <td id=\"T_ed9b58ba_584a_11e9_b1a4_701ce71031efrow4_col4\" class=\"data row4 col4\" >61.90%</td> \n",
       "    </tr>    <tr> \n",
       "        <th id=\"T_ed9b58ba_584a_11e9_b1a4_701ce71031eflevel0_row5\" class=\"row_heading level0 row5\" >3</th> \n",
       "        <td id=\"T_ed9b58ba_584a_11e9_b1a4_701ce71031efrow5_col0\" class=\"data row5 col0\" >energy</td> \n",
       "        <td id=\"T_ed9b58ba_584a_11e9_b1a4_701ce71031efrow5_col1\" class=\"data row5 col1\" >9210</td> \n",
       "        <td id=\"T_ed9b58ba_584a_11e9_b1a4_701ce71031efrow5_col2\" class=\"data row5 col2\" >8000</td> \n",
       "        <td id=\"T_ed9b58ba_584a_11e9_b1a4_701ce71031efrow5_col3\" class=\"data row5 col3\" >21</td> \n",
       "        <td id=\"T_ed9b58ba_584a_11e9_b1a4_701ce71031efrow5_col4\" class=\"data row5 col4\" >1.19%</td> \n",
       "    </tr>    <tr> \n",
       "        <th id=\"T_ed9b58ba_584a_11e9_b1a4_701ce71031eflevel0_row6\" class=\"row_heading level0 row6\" >0</th> \n",
       "        <td id=\"T_ed9b58ba_584a_11e9_b1a4_701ce71031efrow6_col0\" class=\"data row6 col0\" >ads</td> \n",
       "        <td id=\"T_ed9b58ba_584a_11e9_b1a4_701ce71031efrow6_col1\" class=\"data row6 col1\" >8921</td> \n",
       "        <td id=\"T_ed9b58ba_584a_11e9_b1a4_701ce71031efrow6_col2\" class=\"data row6 col2\" >7000</td> \n",
       "        <td id=\"T_ed9b58ba_584a_11e9_b1a4_701ce71031efrow6_col3\" class=\"data row6 col3\" >43</td> \n",
       "        <td id=\"T_ed9b58ba_584a_11e9_b1a4_701ce71031efrow6_col4\" class=\"data row6 col4\" >2.43%</td> \n",
       "    </tr>    <tr> \n",
       "        <th id=\"T_ed9b58ba_584a_11e9_b1a4_701ce71031eflevel0_row7\" class=\"row_heading level0 row7\" >8</th> \n",
       "        <td id=\"T_ed9b58ba_584a_11e9_b1a4_701ce71031efrow7_col0\" class=\"data row7 col0\" >realestate</td> \n",
       "        <td id=\"T_ed9b58ba_584a_11e9_b1a4_701ce71031efrow7_col1\" class=\"data row7 col1\" >8802</td> \n",
       "        <td id=\"T_ed9b58ba_584a_11e9_b1a4_701ce71031efrow7_col2\" class=\"data row7 col2\" >8000</td> \n",
       "        <td id=\"T_ed9b58ba_584a_11e9_b1a4_701ce71031efrow7_col3\" class=\"data row7 col3\" >29</td> \n",
       "        <td id=\"T_ed9b58ba_584a_11e9_b1a4_701ce71031efrow7_col4\" class=\"data row7 col4\" >1.64%</td> \n",
       "    </tr>    <tr> \n",
       "        <th id=\"T_ed9b58ba_584a_11e9_b1a4_701ce71031eflevel0_row8\" class=\"row_heading level0 row8\" >4</th> \n",
       "        <td id=\"T_ed9b58ba_584a_11e9_b1a4_701ce71031efrow8_col0\" class=\"data row8 col0\" >finance</td> \n",
       "        <td id=\"T_ed9b58ba_584a_11e9_b1a4_701ce71031efrow8_col1\" class=\"data row8 col1\" >8641</td> \n",
       "        <td id=\"T_ed9b58ba_584a_11e9_b1a4_701ce71031efrow8_col2\" class=\"data row8 col2\" >8000</td> \n",
       "        <td id=\"T_ed9b58ba_584a_11e9_b1a4_701ce71031efrow8_col3\" class=\"data row8 col3\" >26</td> \n",
       "        <td id=\"T_ed9b58ba_584a_11e9_b1a4_701ce71031efrow8_col4\" class=\"data row8 col4\" >1.47%</td> \n",
       "    </tr>    <tr> \n",
       "        <th id=\"T_ed9b58ba_584a_11e9_b1a4_701ce71031eflevel0_row9\" class=\"row_heading level0 row9\" >9</th> \n",
       "        <td id=\"T_ed9b58ba_584a_11e9_b1a4_701ce71031efrow9_col0\" class=\"data row9 col0\" >service</td> \n",
       "        <td id=\"T_ed9b58ba_584a_11e9_b1a4_701ce71031efrow9_col1\" class=\"data row9 col1\" >8579</td> \n",
       "        <td id=\"T_ed9b58ba_584a_11e9_b1a4_701ce71031efrow9_col2\" class=\"data row9 col2\" >9000</td> \n",
       "        <td id=\"T_ed9b58ba_584a_11e9_b1a4_701ce71031efrow9_col3\" class=\"data row9 col3\" >19</td> \n",
       "        <td id=\"T_ed9b58ba_584a_11e9_b1a4_701ce71031efrow9_col4\" class=\"data row9 col4\" >1.07%</td> \n",
       "    </tr>    <tr> \n",
       "        <th id=\"T_ed9b58ba_584a_11e9_b1a4_701ce71031eflevel0_row10\" class=\"row_heading level0 row10\" >2</th> \n",
       "        <td id=\"T_ed9b58ba_584a_11e9_b1a4_701ce71031efrow10_col0\" class=\"data row10 col0\" >edu</td> \n",
       "        <td id=\"T_ed9b58ba_584a_11e9_b1a4_701ce71031efrow10_col1\" class=\"data row10 col1\" >7855</td> \n",
       "        <td id=\"T_ed9b58ba_584a_11e9_b1a4_701ce71031efrow10_col2\" class=\"data row10 col2\" >6000</td> \n",
       "        <td id=\"T_ed9b58ba_584a_11e9_b1a4_701ce71031efrow10_col3\" class=\"data row10 col3\" >222</td> \n",
       "        <td id=\"T_ed9b58ba_584a_11e9_b1a4_701ce71031efrow10_col4\" class=\"data row10 col4\" >12.55%</td> \n",
       "    </tr></tbody> \n",
       "</table> "
      ],
      "text/plain": [
       "<pandas.io.formats.style.Styler at 0x2cd8e90bcc0>"
      ]
     },
     "execution_count": 30,
     "metadata": {},
     "output_type": "execute_result"
    }
   ],
   "source": [
    "data_industry=get_sub_stats(data,'industry_')\n",
    "data_industry.style.format({\"percentage\":\"{:.2%}\",\"salary_mean\":\"{:.0f}\",\"salary_median\":\"{:.0f}\"})"
   ]
  },
  {
   "cell_type": "code",
   "execution_count": null,
   "metadata": {},
   "outputs": [],
   "source": []
  }
 ],
 "metadata": {
  "kernelspec": {
   "display_name": "Python 3",
   "language": "python",
   "name": "python3"
  },
  "language_info": {
   "codemirror_mode": {
    "name": "ipython",
    "version": 3
   },
   "file_extension": ".py",
   "mimetype": "text/x-python",
   "name": "python",
   "nbconvert_exporter": "python",
   "pygments_lexer": "ipython3",
   "version": "3.7.1"
  }
 },
 "nbformat": 4,
 "nbformat_minor": 2
}
