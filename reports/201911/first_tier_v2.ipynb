{
 "cells": [
  {
   "cell_type": "code",
   "execution_count": 18,
   "metadata": {},
   "outputs": [],
   "source": [
    "year=2019\n",
    "month=11"
   ]
  },
  {
   "cell_type": "markdown",
   "metadata": {},
   "source": [
    "# Developer Salary in First-Tier Cities 程序员工资调查\n",
    "我在4月1日到3日之间，抓取了某招聘网站的软件和互联网类招聘数据40万条，其中通过程序判断为程序员的14万条。地域方面，我选择了24个主要城市。不过本文只以一线城市为研究对象。这样是为了和我2017年6月的数据做对比。\n",
    "\n",
    "提到2017年的文章，现在居然还有很多人，把这篇文章拿出来炒作。对于社会来说，可气的是，他们直接把2017改成2019，就发表了，这不是骗人么？！对于我来说，可气的是，他们转载居然还冒充是原创，是可忍熟不可忍！"
   ]
  },
  {
   "cell_type": "code",
   "execution_count": 19,
   "metadata": {},
   "outputs": [],
   "source": [
    "import pandas as pd\n",
    "import sys\n",
    "sys.path.append('..')\n",
    "sys.path.append('../py')\n",
    "sys.path.append('../../py')\n",
    "import db\n",
    "import inspect\n",
    "import matplotlib.pyplot as plt\n",
    "plt.rcParams['font.sans-serif']=['SimHei'] #用来正常显示中文标签\n",
    "plt.rcParams['axes.unicode_minus']=False #用来正常显示负号\n",
    "import seaborn as sns\n",
    "import scipy.stats as stats\n",
    "import numpy as np\n",
    "import weighted\n",
    "%matplotlib inline"
   ]
  },
  {
   "cell_type": "code",
   "execution_count": 26,
   "metadata": {},
   "outputs": [],
   "source": [
    "conn=db.get_conn()\n",
    "data_original=pd.read_sql(sql=f\"select * from _{year}{month:02} where monthly_salary>0 and city in ('北京','上海','广州','深圳')  and monthly_salary<80000\", con=conn)\n",
    "conn.close()"
   ]
  },
  {
   "cell_type": "code",
   "execution_count": 27,
   "metadata": {},
   "outputs": [],
   "source": [
    "error_job_ids=['104660258','104142922','108434795','101357291','106253516','110368302','111391233','108665401','109277048'\n",
    "                  ,'73857191','108584955','102824950','102824949','111391233','110884556']\n",
    "data=data_original[~data_original.job_id.isin(error_job_ids)]"
   ]
  },
  {
   "cell_type": "code",
   "execution_count": 28,
   "metadata": {},
   "outputs": [],
   "source": [
    "#del data['publish_date']\n",
    "#del data['published_on_weekend']\n",
    "#del data['title']\n",
    "#del data['title']\n",
    "#del data['company_title']\n",
    "#del data['company_description']\n",
    "#del data['job_description']\n",
    "#del data['job_id']"
   ]
  },
  {
   "cell_type": "code",
   "execution_count": 29,
   "metadata": {},
   "outputs": [
    {
     "data": {
      "text/html": [
       "<div>\n",
       "<style scoped>\n",
       "    .dataframe tbody tr th:only-of-type {\n",
       "        vertical-align: middle;\n",
       "    }\n",
       "\n",
       "    .dataframe tbody tr th {\n",
       "        vertical-align: top;\n",
       "    }\n",
       "\n",
       "    .dataframe thead th {\n",
       "        text-align: right;\n",
       "    }\n",
       "</style>\n",
       "<table border=\"1\" class=\"dataframe\">\n",
       "  <thead>\n",
       "    <tr style=\"text-align: right;\">\n",
       "      <th></th>\n",
       "      <th>job_id</th>\n",
       "      <th>monthly_salary</th>\n",
       "      <th>headcount</th>\n",
       "      <th>title</th>\n",
       "      <th>zhinengleibie</th>\n",
       "      <th>career</th>\n",
       "      <th>real_province</th>\n",
       "      <th>province</th>\n",
       "      <th>city</th>\n",
       "      <th>company_description</th>\n",
       "      <th>...</th>\n",
       "      <th>pl_visual_basic</th>\n",
       "      <th>publish_date</th>\n",
       "      <th>published_on_weekend</th>\n",
       "      <th>tag_baby_care</th>\n",
       "      <th>tag_five_insurance</th>\n",
       "      <th>tag_flexible</th>\n",
       "      <th>tag_no_overtime</th>\n",
       "      <th>tag_rest_one_day</th>\n",
       "      <th>tag_rest_two_days</th>\n",
       "      <th>tag_stock</th>\n",
       "    </tr>\n",
       "  </thead>\n",
       "  <tbody>\n",
       "    <tr>\n",
       "      <td>25897</td>\n",
       "      <td>116717167</td>\n",
       "      <td>10000</td>\n",
       "      <td>200</td>\n",
       "      <td>海外业务软件工程师（2020届）</td>\n",
       "      <td>软件工程师</td>\n",
       "      <td>一般程序员</td>\n",
       "      <td>None</td>\n",
       "      <td>上海</td>\n",
       "      <td>上海</td>\n",
       "      <td>上海海隆软件有限公司成立于1989年4月，是国内著名软件企业、国家规划布局内重点软件企业。公...</td>\n",
       "      <td>...</td>\n",
       "      <td>False</td>\n",
       "      <td>2019-10-31</td>\n",
       "      <td>False</td>\n",
       "      <td>False</td>\n",
       "      <td>True</td>\n",
       "      <td>True</td>\n",
       "      <td>False</td>\n",
       "      <td>False</td>\n",
       "      <td>False</td>\n",
       "      <td>False</td>\n",
       "    </tr>\n",
       "    <tr>\n",
       "      <td>8676</td>\n",
       "      <td>110969579</td>\n",
       "      <td>12500</td>\n",
       "      <td>200</td>\n",
       "      <td>JAVA开发工程师（2019届应届毕业生）</td>\n",
       "      <td>软件工程师</td>\n",
       "      <td>一般程序员</td>\n",
       "      <td>None</td>\n",
       "      <td>广东</td>\n",
       "      <td>广州</td>\n",
       "      <td>广州汇智通信技术有限公司是专业从事国家特殊通信系统研制工作的大型国有控股混合所有制企业。公司...</td>\n",
       "      <td>...</td>\n",
       "      <td>False</td>\n",
       "      <td>2019-10-14</td>\n",
       "      <td>False</td>\n",
       "      <td>False</td>\n",
       "      <td>True</td>\n",
       "      <td>False</td>\n",
       "      <td>False</td>\n",
       "      <td>False</td>\n",
       "      <td>False</td>\n",
       "      <td>False</td>\n",
       "    </tr>\n",
       "    <tr>\n",
       "      <td>37143</td>\n",
       "      <td>75596794</td>\n",
       "      <td>7500</td>\n",
       "      <td>200</td>\n",
       "      <td>JAVA 工程师</td>\n",
       "      <td>软件工程师</td>\n",
       "      <td>一般程序员</td>\n",
       "      <td>None</td>\n",
       "      <td>广东</td>\n",
       "      <td>深圳</td>\n",
       "      <td>四方精创资讯有限公司（简称四方精创），是从事金融行业it综合服务和软件协同服务的高端应用软件...</td>\n",
       "      <td>...</td>\n",
       "      <td>False</td>\n",
       "      <td>2019-09-19</td>\n",
       "      <td>False</td>\n",
       "      <td>False</td>\n",
       "      <td>True</td>\n",
       "      <td>False</td>\n",
       "      <td>False</td>\n",
       "      <td>False</td>\n",
       "      <td>False</td>\n",
       "      <td>False</td>\n",
       "    </tr>\n",
       "    <tr>\n",
       "      <td>26509</td>\n",
       "      <td>116813374</td>\n",
       "      <td>12916</td>\n",
       "      <td>200</td>\n",
       "      <td>Java开发工程师（2020届）</td>\n",
       "      <td>软件工程师</td>\n",
       "      <td>算法工程师</td>\n",
       "      <td>None</td>\n",
       "      <td>广东</td>\n",
       "      <td>广州</td>\n",
       "      <td>广州汇智通信技术有限公司是专业从事国家特殊通信系统研制工作的大型国有控股混合所有制企业。公司...</td>\n",
       "      <td>...</td>\n",
       "      <td>False</td>\n",
       "      <td>2019-10-19</td>\n",
       "      <td>True</td>\n",
       "      <td>False</td>\n",
       "      <td>True</td>\n",
       "      <td>False</td>\n",
       "      <td>False</td>\n",
       "      <td>False</td>\n",
       "      <td>False</td>\n",
       "      <td>False</td>\n",
       "    </tr>\n",
       "    <tr>\n",
       "      <td>17091</td>\n",
       "      <td>114568087</td>\n",
       "      <td>3750</td>\n",
       "      <td>151</td>\n",
       "      <td>C#软件开发工程师（雄安新区岗位）</td>\n",
       "      <td>软件工程师</td>\n",
       "      <td>一般程序员</td>\n",
       "      <td>None</td>\n",
       "      <td>北京</td>\n",
       "      <td>北京</td>\n",
       "      <td>北京其然科技有限公司，名字源于，顺 其其自 然然，主旨顺其自然、水到渠成。北京其然科技有限公...</td>\n",
       "      <td>...</td>\n",
       "      <td>False</td>\n",
       "      <td>2019-10-29</td>\n",
       "      <td>False</td>\n",
       "      <td>False</td>\n",
       "      <td>False</td>\n",
       "      <td>False</td>\n",
       "      <td>False</td>\n",
       "      <td>False</td>\n",
       "      <td>False</td>\n",
       "      <td>False</td>\n",
       "    </tr>\n",
       "  </tbody>\n",
       "</table>\n",
       "<p>5 rows × 94 columns</p>\n",
       "</div>"
      ],
      "text/plain": [
       "          job_id  monthly_salary  headcount                  title  \\\n",
       "25897  116717167           10000        200       海外业务软件工程师（2020届）   \n",
       "8676   110969579           12500        200  JAVA开发工程师（2019届应届毕业生）   \n",
       "37143   75596794            7500        200               JAVA 工程师   \n",
       "26509  116813374           12916        200       Java开发工程师（2020届）   \n",
       "17091  114568087            3750        151      C#软件开发工程师（雄安新区岗位）   \n",
       "\n",
       "      zhinengleibie career real_province province city  \\\n",
       "25897         软件工程师  一般程序员          None       上海   上海   \n",
       "8676          软件工程师  一般程序员          None       广东   广州   \n",
       "37143         软件工程师  一般程序员          None       广东   深圳   \n",
       "26509         软件工程师  算法工程师          None       广东   广州   \n",
       "17091         软件工程师  一般程序员          None       北京   北京   \n",
       "\n",
       "                                     company_description  ... pl_visual_basic  \\\n",
       "25897  上海海隆软件有限公司成立于1989年4月，是国内著名软件企业、国家规划布局内重点软件企业。公...  ...           False   \n",
       "8676   广州汇智通信技术有限公司是专业从事国家特殊通信系统研制工作的大型国有控股混合所有制企业。公司...  ...           False   \n",
       "37143  四方精创资讯有限公司（简称四方精创），是从事金融行业it综合服务和软件协同服务的高端应用软件...  ...           False   \n",
       "26509  广州汇智通信技术有限公司是专业从事国家特殊通信系统研制工作的大型国有控股混合所有制企业。公司...  ...           False   \n",
       "17091  北京其然科技有限公司，名字源于，顺 其其自 然然，主旨顺其自然、水到渠成。北京其然科技有限公...  ...           False   \n",
       "\n",
       "      publish_date published_on_weekend tag_baby_care  tag_five_insurance  \\\n",
       "25897   2019-10-31                False         False                True   \n",
       "8676    2019-10-14                False         False                True   \n",
       "37143   2019-09-19                False         False                True   \n",
       "26509   2019-10-19                 True         False                True   \n",
       "17091   2019-10-29                False         False               False   \n",
       "\n",
       "       tag_flexible  tag_no_overtime  tag_rest_one_day  tag_rest_two_days  \\\n",
       "25897          True            False             False              False   \n",
       "8676          False            False             False              False   \n",
       "37143         False            False             False              False   \n",
       "26509         False            False             False              False   \n",
       "17091         False            False             False              False   \n",
       "\n",
       "       tag_stock  \n",
       "25897      False  \n",
       "8676       False  \n",
       "37143      False  \n",
       "26509      False  \n",
       "17091      False  \n",
       "\n",
       "[5 rows x 94 columns]"
      ]
     },
     "execution_count": 29,
     "metadata": {},
     "output_type": "execute_result"
    }
   ],
   "source": [
    "data=data.sort_values(by='headcount', ascending=False)\n",
    "data.head()"
   ]
  },
  {
   "cell_type": "code",
   "execution_count": 30,
   "metadata": {},
   "outputs": [],
   "source": [
    "def pd_weighted_mean(group, avg_name, weight_name):\n",
    "    \"\"\" http://stackoverflow.com/questions/10951341/pandas-dataframe-aggregate-function-using-multiple-columns\n",
    "    In rare instance, we may not have weights, so just return the mean. Customize this if your business case\n",
    "    should return otherwise.\n",
    "    \"\"\"\n",
    "    d = group[avg_name]\n",
    "    w = group[weight_name]\n",
    "    try:\n",
    "        return (d * w).sum() / w.sum()\n",
    "    except ZeroDivisionError:\n",
    "        return d.mean()\n"
   ]
  },
  {
   "cell_type": "markdown",
   "metadata": {},
   "source": [
    "# Unilateral Stats 总体统计"
   ]
  },
  {
   "cell_type": "markdown",
   "metadata": {},
   "source": [
    "有数据可知，程序员向一线城市集中的趋势非常明显。\n",
    "\n",
    "According to the statistics, significant amount of developers are in the first tier cities."
   ]
  },
  {
   "cell_type": "code",
   "execution_count": 31,
   "metadata": {},
   "outputs": [
    {
     "data": {
      "text/plain": [
       "(41993, 94)"
      ]
     },
     "execution_count": 31,
     "metadata": {},
     "output_type": "execute_result"
    }
   ],
   "source": [
    "data.shape"
   ]
  },
  {
   "cell_type": "code",
   "execution_count": 32,
   "metadata": {},
   "outputs": [
    {
     "data": {
      "text/plain": [
       "132527"
      ]
     },
     "execution_count": 32,
     "metadata": {},
     "output_type": "execute_result"
    }
   ],
   "source": [
    "data.headcount.sum()"
   ]
  },
  {
   "cell_type": "code",
   "execution_count": 33,
   "metadata": {},
   "outputs": [
    {
     "data": {
      "text/plain": [
       "array([ 5000., 11000., 14000., 20000., 37500.])"
      ]
     },
     "execution_count": 33,
     "metadata": {},
     "output_type": "execute_result"
    }
   ],
   "source": [
    "salary_mean=weighted.weighted_mean(data.monthly_salary.values, data.headcount.values)\n",
    "q=weighted.weighted_quantile(data.monthly_salary.values,[0.025,0.25,0.5,0.75,0.975], data.headcount.values)\n",
    "q"
   ]
  },
  {
   "cell_type": "code",
   "execution_count": 34,
   "metadata": {},
   "outputs": [
    {
     "name": "stdout",
     "output_type": "stream",
     "text": [
      "2019年11月中国一线城市程序员的平均工资为15998元，工资中位数为14000元，其中95%的人的工资位于5000到37500元之间。\n"
     ]
    }
   ],
   "source": [
    "print(f'{year}年{month}月中国一线城市程序员的平均工资为{salary_mean:.0f}元，工资中位数为{q[2]:.0f}元，其中95%的人的工资位于{q[0]:.0f}到{q[4]:.0f}元之间。')"
   ]
  },
  {
   "cell_type": "code",
   "execution_count": 35,
   "metadata": {},
   "outputs": [
    {
     "name": "stdout",
     "output_type": "stream",
     "text": [
      "In 2019, Developers in China earn 15998 Yuan as average, the median is 14000 Yuan, 95% of them earn between 5000 and 37500 Yuan.\n"
     ]
    }
   ],
   "source": [
    "print(f'In {year}, Developers in China earn {salary_mean:.0f} Yuan as average, '\n",
    "      f'the median is {q[2]:.0f} Yuan, 95% of them earn between {q[0]:.0f} and {q[4]:.0f} Yuan.')"
   ]
  },
  {
   "cell_type": "code",
   "execution_count": 36,
   "metadata": {},
   "outputs": [
    {
     "data": {
      "text/plain": [
       "<matplotlib.axes._subplots.AxesSubplot at 0x1d544b04748>"
      ]
     },
     "execution_count": 36,
     "metadata": {},
     "output_type": "execute_result"
    },
    {
     "data": {
      "image/png": "[encoded data removed]",
      "text/plain": [
       "<Figure size 432x288 with 1 Axes>"
      ]
     },
     "metadata": {
      "needs_background": "light"
     },
     "output_type": "display_data"
    }
   ],
   "source": [
    "data.monthly_salary.hist()"
   ]
  },
  {
   "cell_type": "markdown",
   "metadata": {},
   "source": [
    "It does not look like normal distribution."
   ]
  },
  {
   "cell_type": "code",
   "execution_count": 37,
   "metadata": {},
   "outputs": [],
   "source": [
    "from scipy import stats"
   ]
  },
  {
   "cell_type": "code",
   "execution_count": 38,
   "metadata": {},
   "outputs": [
    {
     "data": {
      "text/plain": [
       "NormaltestResult(statistic=14358.529814421252, pvalue=0.0)"
      ]
     },
     "execution_count": 38,
     "metadata": {},
     "output_type": "execute_result"
    }
   ],
   "source": [
    "stats.normaltest(data.monthly_salary)"
   ]
  },
  {
   "cell_type": "markdown",
   "metadata": {},
   "source": [
    "null hypothesis: x comes from a normal distribution\n",
    "    \n",
    "p=0\n",
    "\n",
    "The null hypothesis can be rejected\n",
    "\n",
    "conclusion: data is not normally distributed."
   ]
  },
  {
   "cell_type": "markdown",
   "metadata": {},
   "source": [
    "Zoom in"
   ]
  },
  {
   "cell_type": "code",
   "execution_count": 39,
   "metadata": {},
   "outputs": [
    {
     "data": {
      "image/png": "[encoded data removed]",
      "text/plain": [
       "<Figure size 432x288 with 1 Axes>"
      ]
     },
     "metadata": {
      "needs_background": "light"
     },
     "output_type": "display_data"
    }
   ],
   "source": [
    "data[data.monthly_salary<40000].monthly_salary.hist()\n",
    "plt.annotate('https://github.com/juwikuang/job_survey', xy=(0,0), xytext=(2000, 100), color='white')\n",
    "plt.show()"
   ]
  },
  {
   "cell_type": "markdown",
   "metadata": {},
   "source": [
    "## Role 角色"
   ]
  },
  {
   "cell_type": "code",
   "execution_count": 40,
   "metadata": {},
   "outputs": [],
   "source": [
    "#Common Functions\n",
    "def get_sub_stats_by_col(data, col):\n",
    "    categories=data[col].unique()\n",
    "    salary_mean=[]\n",
    "    salary_95_min=[]\n",
    "    salary_95_max=[]\n",
    "    salary_median=[]\n",
    "    \n",
    "\n",
    "    count=[]\n",
    "    \n",
    "    categorys_out=[]\n",
    "    for category in categories:\n",
    "        #print(feature)\n",
    "        idata=data[data[col]==category]\n",
    "        headcount=idata.headcount.sum()\n",
    "        values = idata.monthly_salary.values\n",
    "        weights = idata.headcount.values\n",
    "        #print(str(headcount))\n",
    "        if headcount==0:\n",
    "            continue\n",
    "        \n",
    "        salary_mean.append(np.average(values, weights=weights))\n",
    "        \n",
    "\n",
    "        q = weighted.weighted_quantile(values,[0.025,0.5,0.975],weights)\n",
    "        salary_95_min.append(q[0])\n",
    "        salary_median.append(q[1])\n",
    "        salary_95_max.append(q[2])\n",
    "        count.append(idata.headcount.sum())\n",
    "        categorys_out.append(category)\n",
    "    sub_data=pd.DataFrame()\n",
    "    sub_data[col]=[c for c in categorys_out]\n",
    "    sub_data['salary_mean']=salary_mean\n",
    "    sub_data['salary_95_min']=salary_95_min\n",
    "    sub_data['salary_median']=salary_median\n",
    "    sub_data['salary_95_max']=salary_95_max\n",
    "    sub_data['head_count']=count\n",
    "    sub_data['percentage']=count/np.sum(count)\n",
    "    sub_data=sub_data.sort_values(by='salary_mean', ascending=False)\n",
    "\n",
    "    return sub_data\n",
    "\n",
    "def get_sub_stats_by_prefix(data, prefix):\n",
    "    \n",
    "    features = [feature for feature in data.columns if feature.startswith(prefix)]\n",
    "    salary_mean=[]\n",
    "    salary_median=[]\n",
    "    salary_95_min=[]\n",
    "    salary_95_max=[]\n",
    "    count=[]\n",
    "    \n",
    "    features_out=[]\n",
    "    for feature in features:\n",
    "        #print(feature)\n",
    "        idata=data[data[feature]==1]\n",
    "        headcount=idata.headcount.sum()\n",
    "        values = idata.monthly_salary.values\n",
    "        weights = idata.headcount.values\n",
    "        #print(str(headcount))\n",
    "        if headcount==0:\n",
    "            continue\n",
    "        \n",
    "        salary_mean.append(weighted.weighted_mean(values, weights))\n",
    "        q = weighted.weighted_quantile(values,[0.025,0.5,0.975],weights)\n",
    "        salary_median.append(q[1])\n",
    "        salary_95_min.append(q[0])\n",
    "        salary_95_max.append(q[2])\n",
    "        count.append(idata.headcount.sum())\n",
    "        features_out.append(feature)\n",
    "    sub_data=pd.DataFrame()\n",
    "    sub_data['rank']=range(0,len(features_out))\n",
    "    sub_data[prefix]=[f.replace(prefix,'') for f in features_out]\n",
    "    sub_data['salary_mean']=salary_mean\n",
    "    sub_data['salary_median']=salary_median\n",
    "    sub_data['salary_95_min']=salary_95_min\n",
    "    sub_data['salary_95_max']=salary_95_max\n",
    "    sub_data['head_count']=count\n",
    "    sub_data['percentage']=count/np.sum(count)\n",
    "    sub_data=sub_data.sort_values(by='salary_mean', ascending=False)\n",
    "    sub_data['rank']=range(1,len(features_out)+1)\n",
    "    #sub_data=sub_data.reset_index()\n",
    "    return sub_data\n",
    "\n",
    "def apply_style(sub_data):\n",
    "    return sub_data.style.hide_index().format(\n",
    "    {\"salary_mean\":\"{:.0f}\",\"salary_median\":\"{:.0f}\",\"salary_95_min\":\"{:.0f}\",\"salary_95_max\":\"{:.0f}\",\"percentage\":\"{:.2%}\"})"
   ]
  },
  {
   "cell_type": "code",
   "execution_count": 41,
   "metadata": {},
   "outputs": [
    {
     "data": {
      "text/html": [
       "<style  type=\"text/css\" >\n",
       "</style><table id=\"T_d763ada4_fd5d_11e9_ae9f_701ce71031ef\" ><thead>    <tr>        <th class=\"blank level0\" ></th>        <th class=\"col_heading level0 col0\" >career</th>        <th class=\"col_heading level0 col1\" >salary_mean</th>        <th class=\"col_heading level0 col2\" >salary_95_min</th>        <th class=\"col_heading level0 col3\" >salary_median</th>        <th class=\"col_heading level0 col4\" >salary_95_max</th>        <th class=\"col_heading level0 col5\" >head_count</th>        <th class=\"col_heading level0 col6\" >percentage</th>    </tr></thead><tbody>\n",
       "                <tr>\n",
       "                        <th id=\"T_d763ada4_fd5d_11e9_ae9f_701ce71031eflevel0_row0\" class=\"row_heading level0 row0\" >2</th>\n",
       "                        <td id=\"T_d763ada4_fd5d_11e9_ae9f_701ce71031efrow0_col0\" class=\"data row0 col0\" >系统架构师</td>\n",
       "                        <td id=\"T_d763ada4_fd5d_11e9_ae9f_701ce71031efrow0_col1\" class=\"data row0 col1\" >25087</td>\n",
       "                        <td id=\"T_d763ada4_fd5d_11e9_ae9f_701ce71031efrow0_col2\" class=\"data row0 col2\" >5250</td>\n",
       "                        <td id=\"T_d763ada4_fd5d_11e9_ae9f_701ce71031efrow0_col3\" class=\"data row0 col3\" >22500</td>\n",
       "                        <td id=\"T_d763ada4_fd5d_11e9_ae9f_701ce71031efrow0_col4\" class=\"data row0 col4\" >50000</td>\n",
       "                        <td id=\"T_d763ada4_fd5d_11e9_ae9f_701ce71031efrow0_col5\" class=\"data row0 col5\" >5306</td>\n",
       "                        <td id=\"T_d763ada4_fd5d_11e9_ae9f_701ce71031efrow0_col6\" class=\"data row0 col6\" >4.00%</td>\n",
       "            </tr>\n",
       "            <tr>\n",
       "                        <th id=\"T_d763ada4_fd5d_11e9_ae9f_701ce71031eflevel0_row1\" class=\"row_heading level0 row1\" >1</th>\n",
       "                        <td id=\"T_d763ada4_fd5d_11e9_ae9f_701ce71031efrow1_col0\" class=\"data row1 col0\" >算法工程师</td>\n",
       "                        <td id=\"T_d763ada4_fd5d_11e9_ae9f_701ce71031efrow1_col1\" class=\"data row1 col1\" >21178</td>\n",
       "                        <td id=\"T_d763ada4_fd5d_11e9_ae9f_701ce71031efrow1_col2\" class=\"data row1 col2\" >5250</td>\n",
       "                        <td id=\"T_d763ada4_fd5d_11e9_ae9f_701ce71031efrow1_col3\" class=\"data row1 col3\" >19583</td>\n",
       "                        <td id=\"T_d763ada4_fd5d_11e9_ae9f_701ce71031efrow1_col4\" class=\"data row1 col4\" >45000</td>\n",
       "                        <td id=\"T_d763ada4_fd5d_11e9_ae9f_701ce71031efrow1_col5\" class=\"data row1 col5\" >13760</td>\n",
       "                        <td id=\"T_d763ada4_fd5d_11e9_ae9f_701ce71031efrow1_col6\" class=\"data row1 col6\" >10.38%</td>\n",
       "            </tr>\n",
       "            <tr>\n",
       "                        <th id=\"T_d763ada4_fd5d_11e9_ae9f_701ce71031eflevel0_row2\" class=\"row_heading level0 row2\" >0</th>\n",
       "                        <td id=\"T_d763ada4_fd5d_11e9_ae9f_701ce71031efrow2_col0\" class=\"data row2 col0\" >一般程序员</td>\n",
       "                        <td id=\"T_d763ada4_fd5d_11e9_ae9f_701ce71031efrow2_col1\" class=\"data row2 col1\" >14947</td>\n",
       "                        <td id=\"T_d763ada4_fd5d_11e9_ae9f_701ce71031efrow2_col2\" class=\"data row2 col2\" >5000</td>\n",
       "                        <td id=\"T_d763ada4_fd5d_11e9_ae9f_701ce71031efrow2_col3\" class=\"data row2 col3\" >12500</td>\n",
       "                        <td id=\"T_d763ada4_fd5d_11e9_ae9f_701ce71031efrow2_col4\" class=\"data row2 col4\" >35000</td>\n",
       "                        <td id=\"T_d763ada4_fd5d_11e9_ae9f_701ce71031efrow2_col5\" class=\"data row2 col5\" >113230</td>\n",
       "                        <td id=\"T_d763ada4_fd5d_11e9_ae9f_701ce71031efrow2_col6\" class=\"data row2 col6\" >85.44%</td>\n",
       "            </tr>\n",
       "            <tr>\n",
       "                        <th id=\"T_d763ada4_fd5d_11e9_ae9f_701ce71031eflevel0_row3\" class=\"row_heading level0 row3\" >3</th>\n",
       "                        <td id=\"T_d763ada4_fd5d_11e9_ae9f_701ce71031efrow3_col0\" class=\"data row3 col0\" >爬虫工程师</td>\n",
       "                        <td id=\"T_d763ada4_fd5d_11e9_ae9f_701ce71031efrow3_col1\" class=\"data row3 col1\" >14078</td>\n",
       "                        <td id=\"T_d763ada4_fd5d_11e9_ae9f_701ce71031efrow3_col2\" class=\"data row3 col2\" >5250</td>\n",
       "                        <td id=\"T_d763ada4_fd5d_11e9_ae9f_701ce71031efrow3_col3\" class=\"data row3 col3\" >12500</td>\n",
       "                        <td id=\"T_d763ada4_fd5d_11e9_ae9f_701ce71031efrow3_col4\" class=\"data row3 col4\" >35607.1</td>\n",
       "                        <td id=\"T_d763ada4_fd5d_11e9_ae9f_701ce71031efrow3_col5\" class=\"data row3 col5\" >206</td>\n",
       "                        <td id=\"T_d763ada4_fd5d_11e9_ae9f_701ce71031efrow3_col6\" class=\"data row3 col6\" >0.16%</td>\n",
       "            </tr>\n",
       "            <tr>\n",
       "                        <th id=\"T_d763ada4_fd5d_11e9_ae9f_701ce71031eflevel0_row4\" class=\"row_heading level0 row4\" >4</th>\n",
       "                        <td id=\"T_d763ada4_fd5d_11e9_ae9f_701ce71031efrow4_col0\" class=\"data row4 col0\" >生物信息工程师</td>\n",
       "                        <td id=\"T_d763ada4_fd5d_11e9_ae9f_701ce71031efrow4_col1\" class=\"data row4 col1\" >11300</td>\n",
       "                        <td id=\"T_d763ada4_fd5d_11e9_ae9f_701ce71031efrow4_col2\" class=\"data row4 col2\" >7000</td>\n",
       "                        <td id=\"T_d763ada4_fd5d_11e9_ae9f_701ce71031efrow4_col3\" class=\"data row4 col3\" >12714</td>\n",
       "                        <td id=\"T_d763ada4_fd5d_11e9_ae9f_701ce71031efrow4_col4\" class=\"data row4 col4\" >15000</td>\n",
       "                        <td id=\"T_d763ada4_fd5d_11e9_ae9f_701ce71031efrow4_col5\" class=\"data row4 col5\" >25</td>\n",
       "                        <td id=\"T_d763ada4_fd5d_11e9_ae9f_701ce71031efrow4_col6\" class=\"data row4 col6\" >0.02%</td>\n",
       "            </tr>\n",
       "    </tbody></table>"
      ],
      "text/plain": [
       "<pandas.io.formats.style.Styler at 0x1d547d60ec8>"
      ]
     },
     "execution_count": 41,
     "metadata": {},
     "output_type": "execute_result"
    }
   ],
   "source": [
    "data_career = get_sub_stats_by_col(data,'career')\n",
    "data_career.style.format({\"salary_mean\":\"{:.0f}\",\"salary_median\":\"{:.0f}\",\"percentage\":\"{:.2%}\"})"
   ]
  },
  {
   "cell_type": "code",
   "execution_count": 42,
   "metadata": {},
   "outputs": [
    {
     "data": {
      "text/plain": [
       "15997.969364733224"
      ]
     },
     "execution_count": 42,
     "metadata": {},
     "output_type": "execute_result"
    }
   ],
   "source": [
    "np.sum(data.monthly_salary * data.headcount) / data.headcount.sum()"
   ]
  },
  {
   "cell_type": "code",
   "execution_count": 43,
   "metadata": {},
   "outputs": [
    {
     "data": {
      "text/plain": [
       "132527"
      ]
     },
     "execution_count": 43,
     "metadata": {},
     "output_type": "execute_result"
    }
   ],
   "source": [
    "data.headcount.sum()"
   ]
  },
  {
   "cell_type": "code",
   "execution_count": 44,
   "metadata": {},
   "outputs": [
    {
     "data": {
      "text/plain": [
       "count    41993.000000\n",
       "mean         3.155931\n",
       "std          3.939716\n",
       "min          1.000000\n",
       "25%          1.000000\n",
       "50%          2.000000\n",
       "75%          5.000000\n",
       "max        200.000000\n",
       "Name: headcount, dtype: float64"
      ]
     },
     "execution_count": 44,
     "metadata": {},
     "output_type": "execute_result"
    }
   ],
   "source": [
    "data.headcount.describe()"
   ]
  },
  {
   "cell_type": "code",
   "execution_count": 45,
   "metadata": {},
   "outputs": [
    {
     "data": {
      "text/html": [
       "<div>\n",
       "<style scoped>\n",
       "    .dataframe tbody tr th:only-of-type {\n",
       "        vertical-align: middle;\n",
       "    }\n",
       "\n",
       "    .dataframe tbody tr th {\n",
       "        vertical-align: top;\n",
       "    }\n",
       "\n",
       "    .dataframe thead th {\n",
       "        text-align: right;\n",
       "    }\n",
       "</style>\n",
       "<table border=\"1\" class=\"dataframe\">\n",
       "  <thead>\n",
       "    <tr style=\"text-align: right;\">\n",
       "      <th></th>\n",
       "      <th>job_id</th>\n",
       "      <th>monthly_salary</th>\n",
       "      <th>headcount</th>\n",
       "      <th>title</th>\n",
       "      <th>zhinengleibie</th>\n",
       "      <th>career</th>\n",
       "      <th>real_province</th>\n",
       "      <th>province</th>\n",
       "      <th>city</th>\n",
       "      <th>company_description</th>\n",
       "      <th>company_size</th>\n",
       "      <th>company_title</th>\n",
       "      <th>company_type</th>\n",
       "      <th>page_title</th>\n",
       "      <th>ageism</th>\n",
       "      <th>db_Apache_Hive</th>\n",
       "      <th>db_CouchBase</th>\n",
       "      <th>db_CouchDB</th>\n",
       "      <th>db_DB2</th>\n",
       "      <th>db_DynamoDB</th>\n",
       "      <th>db_Elasticsearch</th>\n",
       "      <th>db_FileMaker</th>\n",
       "      <th>db_Firebase</th>\n",
       "      <th>db_Firebird</th>\n",
       "      <th>db_Hbase</th>\n",
       "      <th>db_Informix</th>\n",
       "      <th>db_Ingres</th>\n",
       "      <th>db_MariaDB</th>\n",
       "      <th>db_Memcached</th>\n",
       "      <th>db_MongoDB</th>\n",
       "      <th>db_MySQL</th>\n",
       "      <th>db_Neo4j</th>\n",
       "      <th>db_Netezza</th>\n",
       "      <th>db_Oracle</th>\n",
       "      <th>db_PostgreSQL</th>\n",
       "      <th>db_Redis</th>\n",
       "      <th>db_Riak</th>\n",
       "      <th>db_SAP_HANA</th>\n",
       "      <th>db_SQL_Server</th>\n",
       "      <th>db_SQLite</th>\n",
       "      <th>db_Solr</th>\n",
       "      <th>db_Splunk</th>\n",
       "      <th>db_Sybase</th>\n",
       "      <th>db_Teradata</th>\n",
       "      <th>db_dBase</th>\n",
       "      <th>edu</th>\n",
       "      <th>english</th>\n",
       "      <th>experience</th>\n",
       "      <th>expert_adas</th>\n",
       "      <th>expert_blockchain</th>\n",
       "      <th>expert_embed</th>\n",
       "      <th>expert_expert</th>\n",
       "      <th>expert_gis</th>\n",
       "      <th>_996_yes</th>\n",
       "      <th>_996_no</th>\n",
       "      <th>industry</th>\n",
       "      <th>japanese</th>\n",
       "      <th>job_description</th>\n",
       "      <th>job_summary</th>\n",
       "      <th>job_tags</th>\n",
       "      <th>phone_android</th>\n",
       "      <th>phone_app</th>\n",
       "      <th>phone_iso</th>\n",
       "      <th>pl_c_sharp</th>\n",
       "      <th>pl_cpp</th>\n",
       "      <th>pl_delphi</th>\n",
       "      <th>pl_go</th>\n",
       "      <th>pl_haskell</th>\n",
       "      <th>pl_java</th>\n",
       "      <th>pl_javascript</th>\n",
       "      <th>pl_julia</th>\n",
       "      <th>pl_kotlin</th>\n",
       "      <th>pl_lua</th>\n",
       "      <th>pl_matlab</th>\n",
       "      <th>pl_objective_c</th>\n",
       "      <th>pl_perl</th>\n",
       "      <th>pl_php</th>\n",
       "      <th>pl_python</th>\n",
       "      <th>pl_ruby</th>\n",
       "      <th>pl_rust</th>\n",
       "      <th>pl_scrala</th>\n",
       "      <th>pl_swift</th>\n",
       "      <th>pl_typescript</th>\n",
       "      <th>pl_vba</th>\n",
       "      <th>pl_visual_basic</th>\n",
       "      <th>publish_date</th>\n",
       "      <th>published_on_weekend</th>\n",
       "      <th>tag_baby_care</th>\n",
       "      <th>tag_five_insurance</th>\n",
       "      <th>tag_flexible</th>\n",
       "      <th>tag_no_overtime</th>\n",
       "      <th>tag_rest_one_day</th>\n",
       "      <th>tag_rest_two_days</th>\n",
       "      <th>tag_stock</th>\n",
       "    </tr>\n",
       "  </thead>\n",
       "  <tbody>\n",
       "    <tr>\n",
       "      <td>25897</td>\n",
       "      <td>116717167</td>\n",
       "      <td>10000</td>\n",
       "      <td>200</td>\n",
       "      <td>海外业务软件工程师（2020届）</td>\n",
       "      <td>软件工程师</td>\n",
       "      <td>一般程序员</td>\n",
       "      <td>None</td>\n",
       "      <td>上海</td>\n",
       "      <td>上海</td>\n",
       "      <td>上海海隆软件有限公司成立于1989年4月，是国内著名软件企业、国家规划布局内重点软件企业。公...</td>\n",
       "      <td>1000-5000</td>\n",
       "      <td>上海海隆软件有限公司</td>\n",
       "      <td>民营公司</td>\n",
       "      <td>【上海-徐汇区海外业务软件工程师（2020届）_海外业务软件工程师（2020届）招聘_上海海...</td>\n",
       "      <td>False</td>\n",
       "      <td>False</td>\n",
       "      <td>False</td>\n",
       "      <td>False</td>\n",
       "      <td>False</td>\n",
       "      <td>False</td>\n",
       "      <td>False</td>\n",
       "      <td>False</td>\n",
       "      <td>False</td>\n",
       "      <td>False</td>\n",
       "      <td>False</td>\n",
       "      <td>False</td>\n",
       "      <td>False</td>\n",
       "      <td>False</td>\n",
       "      <td>False</td>\n",
       "      <td>False</td>\n",
       "      <td>False</td>\n",
       "      <td>False</td>\n",
       "      <td>False</td>\n",
       "      <td>True</td>\n",
       "      <td>False</td>\n",
       "      <td>False</td>\n",
       "      <td>False</td>\n",
       "      <td>False</td>\n",
       "      <td>False</td>\n",
       "      <td>False</td>\n",
       "      <td>False</td>\n",
       "      <td>False</td>\n",
       "      <td>False</td>\n",
       "      <td>False</td>\n",
       "      <td>False</td>\n",
       "      <td>本科</td>\n",
       "      <td>False</td>\n",
       "      <td>no</td>\n",
       "      <td>False</td>\n",
       "      <td>False</td>\n",
       "      <td>False</td>\n",
       "      <td>False</td>\n",
       "      <td>False</td>\n",
       "      <td>False</td>\n",
       "      <td>False</td>\n",
       "      <td>computer</td>\n",
       "      <td>True</td>\n",
       "      <td>针对有志从事软件开发的应届毕业生，在毕业后可选择进入公司培训中心，接受脱产带薪培训，培训内容...</td>\n",
       "      <td>上海-徐汇区|无工作经验|本科|招200人|10-31发布</td>\n",
       "      <td>五险一金,专业培训,员工旅游,年终奖金,弹性工作,定期体检,出国机会,绩效奖金,工作午餐,加薪晋升</td>\n",
       "      <td>False</td>\n",
       "      <td>False</td>\n",
       "      <td>False</td>\n",
       "      <td>True</td>\n",
       "      <td>True</td>\n",
       "      <td>False</td>\n",
       "      <td>False</td>\n",
       "      <td>False</td>\n",
       "      <td>True</td>\n",
       "      <td>False</td>\n",
       "      <td>False</td>\n",
       "      <td>False</td>\n",
       "      <td>False</td>\n",
       "      <td>False</td>\n",
       "      <td>False</td>\n",
       "      <td>False</td>\n",
       "      <td>False</td>\n",
       "      <td>True</td>\n",
       "      <td>False</td>\n",
       "      <td>False</td>\n",
       "      <td>False</td>\n",
       "      <td>False</td>\n",
       "      <td>False</td>\n",
       "      <td>False</td>\n",
       "      <td>False</td>\n",
       "      <td>2019-10-31</td>\n",
       "      <td>False</td>\n",
       "      <td>False</td>\n",
       "      <td>True</td>\n",
       "      <td>True</td>\n",
       "      <td>False</td>\n",
       "      <td>False</td>\n",
       "      <td>False</td>\n",
       "      <td>False</td>\n",
       "    </tr>\n",
       "    <tr>\n",
       "      <td>37143</td>\n",
       "      <td>75596794</td>\n",
       "      <td>7500</td>\n",
       "      <td>200</td>\n",
       "      <td>JAVA 工程师</td>\n",
       "      <td>软件工程师</td>\n",
       "      <td>一般程序员</td>\n",
       "      <td>None</td>\n",
       "      <td>广东</td>\n",
       "      <td>深圳</td>\n",
       "      <td>四方精创资讯有限公司（简称四方精创），是从事金融行业it综合服务和软件协同服务的高端应用软件...</td>\n",
       "      <td>500-1000</td>\n",
       "      <td>深圳四方精创资讯股份有限公司</td>\n",
       "      <td>合资</td>\n",
       "      <td>【深圳JAVA 工程师_JAVA 工程师招聘_深圳四方精创资讯股份有限公司】-前程无忧官方招聘网站</td>\n",
       "      <td>False</td>\n",
       "      <td>False</td>\n",
       "      <td>False</td>\n",
       "      <td>False</td>\n",
       "      <td>False</td>\n",
       "      <td>False</td>\n",
       "      <td>False</td>\n",
       "      <td>False</td>\n",
       "      <td>False</td>\n",
       "      <td>False</td>\n",
       "      <td>False</td>\n",
       "      <td>False</td>\n",
       "      <td>False</td>\n",
       "      <td>False</td>\n",
       "      <td>False</td>\n",
       "      <td>False</td>\n",
       "      <td>True</td>\n",
       "      <td>False</td>\n",
       "      <td>False</td>\n",
       "      <td>True</td>\n",
       "      <td>False</td>\n",
       "      <td>False</td>\n",
       "      <td>False</td>\n",
       "      <td>False</td>\n",
       "      <td>False</td>\n",
       "      <td>False</td>\n",
       "      <td>False</td>\n",
       "      <td>False</td>\n",
       "      <td>False</td>\n",
       "      <td>False</td>\n",
       "      <td>False</td>\n",
       "      <td>本科</td>\n",
       "      <td>False</td>\n",
       "      <td>1_3</td>\n",
       "      <td>False</td>\n",
       "      <td>False</td>\n",
       "      <td>False</td>\n",
       "      <td>False</td>\n",
       "      <td>False</td>\n",
       "      <td>False</td>\n",
       "      <td>False</td>\n",
       "      <td>computer</td>\n",
       "      <td>False</td>\n",
       "      <td>岗位职责1.按照上级计划和安排进行技术开发工作；2. 负责金融行业应用平台后端模块开发工作；...</td>\n",
       "      <td>深圳|1年经验|本科|招200人|09-19发布</td>\n",
       "      <td>五险一金,专业培训,年终奖金,员工旅游</td>\n",
       "      <td>False</td>\n",
       "      <td>False</td>\n",
       "      <td>False</td>\n",
       "      <td>False</td>\n",
       "      <td>False</td>\n",
       "      <td>False</td>\n",
       "      <td>False</td>\n",
       "      <td>False</td>\n",
       "      <td>True</td>\n",
       "      <td>False</td>\n",
       "      <td>False</td>\n",
       "      <td>False</td>\n",
       "      <td>False</td>\n",
       "      <td>False</td>\n",
       "      <td>False</td>\n",
       "      <td>False</td>\n",
       "      <td>False</td>\n",
       "      <td>False</td>\n",
       "      <td>False</td>\n",
       "      <td>False</td>\n",
       "      <td>False</td>\n",
       "      <td>False</td>\n",
       "      <td>False</td>\n",
       "      <td>False</td>\n",
       "      <td>False</td>\n",
       "      <td>2019-09-19</td>\n",
       "      <td>False</td>\n",
       "      <td>False</td>\n",
       "      <td>True</td>\n",
       "      <td>False</td>\n",
       "      <td>False</td>\n",
       "      <td>False</td>\n",
       "      <td>False</td>\n",
       "      <td>False</td>\n",
       "    </tr>\n",
       "    <tr>\n",
       "      <td>26509</td>\n",
       "      <td>116813374</td>\n",
       "      <td>12916</td>\n",
       "      <td>200</td>\n",
       "      <td>Java开发工程师（2020届）</td>\n",
       "      <td>软件工程师</td>\n",
       "      <td>算法工程师</td>\n",
       "      <td>None</td>\n",
       "      <td>广东</td>\n",
       "      <td>广州</td>\n",
       "      <td>广州汇智通信技术有限公司是专业从事国家特殊通信系统研制工作的大型国有控股混合所有制企业。公司...</td>\n",
       "      <td>1000-5000</td>\n",
       "      <td>广州汇智通信技术有限公司</td>\n",
       "      <td>国企</td>\n",
       "      <td>【广州Java开发工程师（2020届）_Java开发工程师（2020届）招聘_广州汇智通信技...</td>\n",
       "      <td>False</td>\n",
       "      <td>False</td>\n",
       "      <td>False</td>\n",
       "      <td>False</td>\n",
       "      <td>False</td>\n",
       "      <td>False</td>\n",
       "      <td>False</td>\n",
       "      <td>False</td>\n",
       "      <td>False</td>\n",
       "      <td>False</td>\n",
       "      <td>False</td>\n",
       "      <td>False</td>\n",
       "      <td>False</td>\n",
       "      <td>False</td>\n",
       "      <td>False</td>\n",
       "      <td>False</td>\n",
       "      <td>False</td>\n",
       "      <td>False</td>\n",
       "      <td>False</td>\n",
       "      <td>False</td>\n",
       "      <td>False</td>\n",
       "      <td>False</td>\n",
       "      <td>False</td>\n",
       "      <td>False</td>\n",
       "      <td>False</td>\n",
       "      <td>False</td>\n",
       "      <td>False</td>\n",
       "      <td>False</td>\n",
       "      <td>False</td>\n",
       "      <td>False</td>\n",
       "      <td>False</td>\n",
       "      <td>本科</td>\n",
       "      <td>False</td>\n",
       "      <td>no</td>\n",
       "      <td>False</td>\n",
       "      <td>False</td>\n",
       "      <td>False</td>\n",
       "      <td>False</td>\n",
       "      <td>False</td>\n",
       "      <td>True</td>\n",
       "      <td>False</td>\n",
       "      <td>computer</td>\n",
       "      <td>False</td>\n",
       "      <td>广州汇智通信技术有限公司                                  ...</td>\n",
       "      <td>广州|无工作经验|本科|招200人|10-19发布</td>\n",
       "      <td>五险一金,专业培训,定期体检,补充医疗保险,餐饮补贴,通讯补贴,绩效奖金</td>\n",
       "      <td>False</td>\n",
       "      <td>True</td>\n",
       "      <td>True</td>\n",
       "      <td>True</td>\n",
       "      <td>True</td>\n",
       "      <td>False</td>\n",
       "      <td>False</td>\n",
       "      <td>False</td>\n",
       "      <td>True</td>\n",
       "      <td>False</td>\n",
       "      <td>False</td>\n",
       "      <td>False</td>\n",
       "      <td>False</td>\n",
       "      <td>False</td>\n",
       "      <td>False</td>\n",
       "      <td>False</td>\n",
       "      <td>False</td>\n",
       "      <td>False</td>\n",
       "      <td>False</td>\n",
       "      <td>False</td>\n",
       "      <td>False</td>\n",
       "      <td>False</td>\n",
       "      <td>False</td>\n",
       "      <td>False</td>\n",
       "      <td>False</td>\n",
       "      <td>2019-10-19</td>\n",
       "      <td>True</td>\n",
       "      <td>False</td>\n",
       "      <td>True</td>\n",
       "      <td>False</td>\n",
       "      <td>False</td>\n",
       "      <td>False</td>\n",
       "      <td>False</td>\n",
       "      <td>False</td>\n",
       "    </tr>\n",
       "    <tr>\n",
       "      <td>8676</td>\n",
       "      <td>110969579</td>\n",
       "      <td>12500</td>\n",
       "      <td>200</td>\n",
       "      <td>JAVA开发工程师（2019届应届毕业生）</td>\n",
       "      <td>软件工程师</td>\n",
       "      <td>一般程序员</td>\n",
       "      <td>None</td>\n",
       "      <td>广东</td>\n",
       "      <td>广州</td>\n",
       "      <td>广州汇智通信技术有限公司是专业从事国家特殊通信系统研制工作的大型国有控股混合所有制企业。公司...</td>\n",
       "      <td>1000-5000</td>\n",
       "      <td>广州汇智通信技术有限公司</td>\n",
       "      <td>国企</td>\n",
       "      <td>【广州JAVA开发工程师（2019届应届毕业生）_JAVA开发工程师（2019届应届毕业生）...</td>\n",
       "      <td>False</td>\n",
       "      <td>False</td>\n",
       "      <td>False</td>\n",
       "      <td>False</td>\n",
       "      <td>False</td>\n",
       "      <td>False</td>\n",
       "      <td>False</td>\n",
       "      <td>False</td>\n",
       "      <td>False</td>\n",
       "      <td>False</td>\n",
       "      <td>False</td>\n",
       "      <td>False</td>\n",
       "      <td>False</td>\n",
       "      <td>False</td>\n",
       "      <td>False</td>\n",
       "      <td>False</td>\n",
       "      <td>False</td>\n",
       "      <td>False</td>\n",
       "      <td>False</td>\n",
       "      <td>False</td>\n",
       "      <td>False</td>\n",
       "      <td>False</td>\n",
       "      <td>False</td>\n",
       "      <td>False</td>\n",
       "      <td>False</td>\n",
       "      <td>False</td>\n",
       "      <td>False</td>\n",
       "      <td>False</td>\n",
       "      <td>False</td>\n",
       "      <td>False</td>\n",
       "      <td>False</td>\n",
       "      <td>本科</td>\n",
       "      <td>False</td>\n",
       "      <td>no</td>\n",
       "      <td>False</td>\n",
       "      <td>False</td>\n",
       "      <td>False</td>\n",
       "      <td>False</td>\n",
       "      <td>False</td>\n",
       "      <td>False</td>\n",
       "      <td>False</td>\n",
       "      <td>computer</td>\n",
       "      <td>False</td>\n",
       "      <td>广州汇智通信技术有限公司                                  ...</td>\n",
       "      <td>广州|无工作经验|本科|招200人|10-14发布</td>\n",
       "      <td>五险一金,补充医疗保险,补充公积金,交通补贴,年终奖金,绩效奖金,通讯补贴,定期体检,餐饮补贴</td>\n",
       "      <td>False</td>\n",
       "      <td>True</td>\n",
       "      <td>True</td>\n",
       "      <td>True</td>\n",
       "      <td>True</td>\n",
       "      <td>False</td>\n",
       "      <td>False</td>\n",
       "      <td>False</td>\n",
       "      <td>True</td>\n",
       "      <td>False</td>\n",
       "      <td>False</td>\n",
       "      <td>False</td>\n",
       "      <td>False</td>\n",
       "      <td>False</td>\n",
       "      <td>False</td>\n",
       "      <td>False</td>\n",
       "      <td>False</td>\n",
       "      <td>False</td>\n",
       "      <td>False</td>\n",
       "      <td>False</td>\n",
       "      <td>False</td>\n",
       "      <td>False</td>\n",
       "      <td>False</td>\n",
       "      <td>False</td>\n",
       "      <td>False</td>\n",
       "      <td>2019-10-14</td>\n",
       "      <td>False</td>\n",
       "      <td>False</td>\n",
       "      <td>True</td>\n",
       "      <td>False</td>\n",
       "      <td>False</td>\n",
       "      <td>False</td>\n",
       "      <td>False</td>\n",
       "      <td>False</td>\n",
       "    </tr>\n",
       "    <tr>\n",
       "      <td>17091</td>\n",
       "      <td>114568087</td>\n",
       "      <td>3750</td>\n",
       "      <td>151</td>\n",
       "      <td>C#软件开发工程师（雄安新区岗位）</td>\n",
       "      <td>软件工程师</td>\n",
       "      <td>一般程序员</td>\n",
       "      <td>None</td>\n",
       "      <td>北京</td>\n",
       "      <td>北京</td>\n",
       "      <td>北京其然科技有限公司，名字源于，顺 其其自 然然，主旨顺其自然、水到渠成。北京其然科技有限公...</td>\n",
       "      <td>50-150</td>\n",
       "      <td>北京其然科技有限公司</td>\n",
       "      <td>民营公司</td>\n",
       "      <td>【北京-海淀区C#软件开发工程师（雄安新区岗位）_C#软件开发工程师（雄安新区岗位）招聘_北...</td>\n",
       "      <td>False</td>\n",
       "      <td>False</td>\n",
       "      <td>False</td>\n",
       "      <td>False</td>\n",
       "      <td>False</td>\n",
       "      <td>False</td>\n",
       "      <td>False</td>\n",
       "      <td>False</td>\n",
       "      <td>False</td>\n",
       "      <td>False</td>\n",
       "      <td>False</td>\n",
       "      <td>False</td>\n",
       "      <td>False</td>\n",
       "      <td>False</td>\n",
       "      <td>False</td>\n",
       "      <td>False</td>\n",
       "      <td>False</td>\n",
       "      <td>False</td>\n",
       "      <td>False</td>\n",
       "      <td>False</td>\n",
       "      <td>False</td>\n",
       "      <td>False</td>\n",
       "      <td>False</td>\n",
       "      <td>False</td>\n",
       "      <td>False</td>\n",
       "      <td>False</td>\n",
       "      <td>False</td>\n",
       "      <td>False</td>\n",
       "      <td>False</td>\n",
       "      <td>False</td>\n",
       "      <td>False</td>\n",
       "      <td>大专</td>\n",
       "      <td>False</td>\n",
       "      <td>no</td>\n",
       "      <td>False</td>\n",
       "      <td>False</td>\n",
       "      <td>False</td>\n",
       "      <td>False</td>\n",
       "      <td>False</td>\n",
       "      <td>False</td>\n",
       "      <td>False</td>\n",
       "      <td>computer</td>\n",
       "      <td>False</td>\n",
       "      <td>熟悉面向对象思想熟悉.Net架构体系精通C#开发语言熟悉WinFrom开发熟悉Asp.Net...</td>\n",
       "      <td>北京-海淀区|无工作经验|大专|招151人|10-29发布</td>\n",
       "      <td></td>\n",
       "      <td>False</td>\n",
       "      <td>False</td>\n",
       "      <td>False</td>\n",
       "      <td>True</td>\n",
       "      <td>False</td>\n",
       "      <td>False</td>\n",
       "      <td>False</td>\n",
       "      <td>False</td>\n",
       "      <td>False</td>\n",
       "      <td>True</td>\n",
       "      <td>False</td>\n",
       "      <td>False</td>\n",
       "      <td>False</td>\n",
       "      <td>False</td>\n",
       "      <td>False</td>\n",
       "      <td>False</td>\n",
       "      <td>False</td>\n",
       "      <td>False</td>\n",
       "      <td>False</td>\n",
       "      <td>False</td>\n",
       "      <td>False</td>\n",
       "      <td>False</td>\n",
       "      <td>False</td>\n",
       "      <td>False</td>\n",
       "      <td>False</td>\n",
       "      <td>2019-10-29</td>\n",
       "      <td>False</td>\n",
       "      <td>False</td>\n",
       "      <td>False</td>\n",
       "      <td>False</td>\n",
       "      <td>False</td>\n",
       "      <td>False</td>\n",
       "      <td>False</td>\n",
       "      <td>False</td>\n",
       "    </tr>\n",
       "  </tbody>\n",
       "</table>\n",
       "</div>"
      ],
      "text/plain": [
       "          job_id  monthly_salary  headcount                  title  \\\n",
       "25897  116717167           10000        200       海外业务软件工程师（2020届）   \n",
       "37143   75596794            7500        200               JAVA 工程师   \n",
       "26509  116813374           12916        200       Java开发工程师（2020届）   \n",
       "8676   110969579           12500        200  JAVA开发工程师（2019届应届毕业生）   \n",
       "17091  114568087            3750        151      C#软件开发工程师（雄安新区岗位）   \n",
       "\n",
       "      zhinengleibie career real_province province city  \\\n",
       "25897         软件工程师  一般程序员          None       上海   上海   \n",
       "37143         软件工程师  一般程序员          None       广东   深圳   \n",
       "26509         软件工程师  算法工程师          None       广东   广州   \n",
       "8676          软件工程师  一般程序员          None       广东   广州   \n",
       "17091         软件工程师  一般程序员          None       北京   北京   \n",
       "\n",
       "                                     company_description company_size  \\\n",
       "25897  上海海隆软件有限公司成立于1989年4月，是国内著名软件企业、国家规划布局内重点软件企业。公...    1000-5000   \n",
       "37143  四方精创资讯有限公司（简称四方精创），是从事金融行业it综合服务和软件协同服务的高端应用软件...     500-1000   \n",
       "26509  广州汇智通信技术有限公司是专业从事国家特殊通信系统研制工作的大型国有控股混合所有制企业。公司...    1000-5000   \n",
       "8676   广州汇智通信技术有限公司是专业从事国家特殊通信系统研制工作的大型国有控股混合所有制企业。公司...    1000-5000   \n",
       "17091  北京其然科技有限公司，名字源于，顺 其其自 然然，主旨顺其自然、水到渠成。北京其然科技有限公...       50-150   \n",
       "\n",
       "        company_title company_type  \\\n",
       "25897      上海海隆软件有限公司         民营公司   \n",
       "37143  深圳四方精创资讯股份有限公司           合资   \n",
       "26509    广州汇智通信技术有限公司           国企   \n",
       "8676     广州汇智通信技术有限公司           国企   \n",
       "17091      北京其然科技有限公司         民营公司   \n",
       "\n",
       "                                              page_title  ageism  \\\n",
       "25897  【上海-徐汇区海外业务软件工程师（2020届）_海外业务软件工程师（2020届）招聘_上海海...   False   \n",
       "37143  【深圳JAVA 工程师_JAVA 工程师招聘_深圳四方精创资讯股份有限公司】-前程无忧官方招聘网站   False   \n",
       "26509  【广州Java开发工程师（2020届）_Java开发工程师（2020届）招聘_广州汇智通信技...   False   \n",
       "8676   【广州JAVA开发工程师（2019届应届毕业生）_JAVA开发工程师（2019届应届毕业生）...   False   \n",
       "17091  【北京-海淀区C#软件开发工程师（雄安新区岗位）_C#软件开发工程师（雄安新区岗位）招聘_北...   False   \n",
       "\n",
       "       db_Apache_Hive  db_CouchBase  db_CouchDB  db_DB2  db_DynamoDB  \\\n",
       "25897           False         False       False   False        False   \n",
       "37143           False         False       False   False        False   \n",
       "26509           False         False       False   False        False   \n",
       "8676            False         False       False   False        False   \n",
       "17091           False         False       False   False        False   \n",
       "\n",
       "       db_Elasticsearch  db_FileMaker  db_Firebase  db_Firebird  db_Hbase  \\\n",
       "25897             False         False        False        False     False   \n",
       "37143             False         False        False        False     False   \n",
       "26509             False         False        False        False     False   \n",
       "8676              False         False        False        False     False   \n",
       "17091             False         False        False        False     False   \n",
       "\n",
       "       db_Informix  db_Ingres  db_MariaDB  db_Memcached  db_MongoDB  db_MySQL  \\\n",
       "25897        False      False       False         False       False     False   \n",
       "37143        False      False       False         False       False      True   \n",
       "26509        False      False       False         False       False     False   \n",
       "8676         False      False       False         False       False     False   \n",
       "17091        False      False       False         False       False     False   \n",
       "\n",
       "       db_Neo4j  db_Netezza  db_Oracle  db_PostgreSQL  db_Redis  db_Riak  \\\n",
       "25897     False       False       True          False     False    False   \n",
       "37143     False       False       True          False     False    False   \n",
       "26509     False       False      False          False     False    False   \n",
       "8676      False       False      False          False     False    False   \n",
       "17091     False       False      False          False     False    False   \n",
       "\n",
       "       db_SAP_HANA  db_SQL_Server  db_SQLite  db_Solr  db_Splunk  db_Sybase  \\\n",
       "25897        False          False      False    False      False      False   \n",
       "37143        False          False      False    False      False      False   \n",
       "26509        False          False      False    False      False      False   \n",
       "8676         False          False      False    False      False      False   \n",
       "17091        False          False      False    False      False      False   \n",
       "\n",
       "       db_Teradata  db_dBase edu  english experience  expert_adas  \\\n",
       "25897        False     False  本科    False         no        False   \n",
       "37143        False     False  本科    False        1_3        False   \n",
       "26509        False     False  本科    False         no        False   \n",
       "8676         False     False  本科    False         no        False   \n",
       "17091        False     False  大专    False         no        False   \n",
       "\n",
       "       expert_blockchain  expert_embed  expert_expert  expert_gis  _996_yes  \\\n",
       "25897              False         False          False       False     False   \n",
       "37143              False         False          False       False     False   \n",
       "26509              False         False          False       False      True   \n",
       "8676               False         False          False       False     False   \n",
       "17091              False         False          False       False     False   \n",
       "\n",
       "       _996_no  industry  japanese  \\\n",
       "25897    False  computer      True   \n",
       "37143    False  computer     False   \n",
       "26509    False  computer     False   \n",
       "8676     False  computer     False   \n",
       "17091    False  computer     False   \n",
       "\n",
       "                                         job_description  \\\n",
       "25897  针对有志从事软件开发的应届毕业生，在毕业后可选择进入公司培训中心，接受脱产带薪培训，培训内容...   \n",
       "37143  岗位职责1.按照上级计划和安排进行技术开发工作；2. 负责金融行业应用平台后端模块开发工作；...   \n",
       "26509  广州汇智通信技术有限公司                                  ...   \n",
       "8676   广州汇智通信技术有限公司                                  ...   \n",
       "17091  熟悉面向对象思想熟悉.Net架构体系精通C#开发语言熟悉WinFrom开发熟悉Asp.Net...   \n",
       "\n",
       "                         job_summary  \\\n",
       "25897  上海-徐汇区|无工作经验|本科|招200人|10-31发布   \n",
       "37143       深圳|1年经验|本科|招200人|09-19发布   \n",
       "26509      广州|无工作经验|本科|招200人|10-19发布   \n",
       "8676       广州|无工作经验|本科|招200人|10-14发布   \n",
       "17091  北京-海淀区|无工作经验|大专|招151人|10-29发布   \n",
       "\n",
       "                                                job_tags  phone_android  \\\n",
       "25897  五险一金,专业培训,员工旅游,年终奖金,弹性工作,定期体检,出国机会,绩效奖金,工作午餐,加薪晋升          False   \n",
       "37143                                五险一金,专业培训,年终奖金,员工旅游          False   \n",
       "26509               五险一金,专业培训,定期体检,补充医疗保险,餐饮补贴,通讯补贴,绩效奖金          False   \n",
       "8676     五险一金,补充医疗保险,补充公积金,交通补贴,年终奖金,绩效奖金,通讯补贴,定期体检,餐饮补贴          False   \n",
       "17091                                                             False   \n",
       "\n",
       "       phone_app  phone_iso  pl_c_sharp  pl_cpp  pl_delphi  pl_go  pl_haskell  \\\n",
       "25897      False      False        True    True      False  False       False   \n",
       "37143      False      False       False   False      False  False       False   \n",
       "26509       True       True        True    True      False  False       False   \n",
       "8676        True       True        True    True      False  False       False   \n",
       "17091      False      False        True   False      False  False       False   \n",
       "\n",
       "       pl_java  pl_javascript  pl_julia  pl_kotlin  pl_lua  pl_matlab  \\\n",
       "25897     True          False     False      False   False      False   \n",
       "37143     True          False     False      False   False      False   \n",
       "26509     True          False     False      False   False      False   \n",
       "8676      True          False     False      False   False      False   \n",
       "17091    False           True     False      False   False      False   \n",
       "\n",
       "       pl_objective_c  pl_perl  pl_php  pl_python  pl_ruby  pl_rust  \\\n",
       "25897           False    False   False       True    False    False   \n",
       "37143           False    False   False      False    False    False   \n",
       "26509           False    False   False      False    False    False   \n",
       "8676            False    False   False      False    False    False   \n",
       "17091           False    False   False      False    False    False   \n",
       "\n",
       "       pl_scrala  pl_swift  pl_typescript  pl_vba  pl_visual_basic  \\\n",
       "25897      False     False          False   False            False   \n",
       "37143      False     False          False   False            False   \n",
       "26509      False     False          False   False            False   \n",
       "8676       False     False          False   False            False   \n",
       "17091      False     False          False   False            False   \n",
       "\n",
       "      publish_date  published_on_weekend  tag_baby_care  tag_five_insurance  \\\n",
       "25897   2019-10-31                 False          False                True   \n",
       "37143   2019-09-19                 False          False                True   \n",
       "26509   2019-10-19                  True          False                True   \n",
       "8676    2019-10-14                 False          False                True   \n",
       "17091   2019-10-29                 False          False               False   \n",
       "\n",
       "       tag_flexible  tag_no_overtime  tag_rest_one_day  tag_rest_two_days  \\\n",
       "25897          True            False             False              False   \n",
       "37143         False            False             False              False   \n",
       "26509         False            False             False              False   \n",
       "8676          False            False             False              False   \n",
       "17091         False            False             False              False   \n",
       "\n",
       "       tag_stock  \n",
       "25897      False  \n",
       "37143      False  \n",
       "26509      False  \n",
       "8676       False  \n",
       "17091      False  "
      ]
     },
     "execution_count": 45,
     "metadata": {},
     "output_type": "execute_result"
    }
   ],
   "source": [
    "pd.options.display.max_columns=100\n",
    "data.sort_values(by='headcount', ascending=False).head()"
   ]
  },
  {
   "cell_type": "markdown",
   "metadata": {},
   "source": []
  },
  {
   "cell_type": "code",
   "execution_count": 46,
   "metadata": {},
   "outputs": [
    {
     "data": {
      "text/plain": [
       "132527"
      ]
     },
     "execution_count": 46,
     "metadata": {},
     "output_type": "execute_result"
    }
   ],
   "source": [
    "data.headcount.sum()"
   ]
  },
  {
   "cell_type": "markdown",
   "metadata": {},
   "source": [
    "# 城市"
   ]
  },
  {
   "cell_type": "code",
   "execution_count": 47,
   "metadata": {},
   "outputs": [],
   "source": [
    "headcount_by_cities = data.groupby(by='city').headcount.sum()"
   ]
  },
  {
   "cell_type": "code",
   "execution_count": 48,
   "metadata": {},
   "outputs": [
    {
     "data": {
      "text/plain": [
       "city\n",
       "上海    43913\n",
       "北京    24282\n",
       "广州    27943\n",
       "深圳    36389\n",
       "Name: headcount, dtype: int64"
      ]
     },
     "execution_count": 48,
     "metadata": {},
     "output_type": "execute_result"
    }
   ],
   "source": [
    "headcount_by_cities\n"
   ]
  },
  {
   "cell_type": "code",
   "execution_count": 49,
   "metadata": {},
   "outputs": [
    {
     "data": {
      "text/plain": [
       "([<matplotlib.patches.Wedge at 0x1d5541157c8>,\n",
       "  <matplotlib.patches.Wedge at 0x1d54e1faf08>,\n",
       "  <matplotlib.patches.Wedge at 0x1d55431e088>,\n",
       "  <matplotlib.patches.Wedge at 0x1d5541a3948>],\n",
       " [Text(0.5559209484057432, 0.949184860353166, '上海'),\n",
       "  Text(-0.9736350124719748, 0.5118934093038294, '北京'),\n",
       "  Text(-0.8018741039377031, -0.7529926436786125, '广州'),\n",
       "  Text(0.715501054262447, -0.8354987979341006, '深圳')],\n",
       " [Text(0.30322960822131445, 0.5177371965562723, '33.1%'),\n",
       "  Text(-0.5310736431665316, 0.27921458689299783, '18.3%'),\n",
       "  Text(-0.4373858748751107, -0.4107232601883341, '21.1%'),\n",
       "  Text(0.39027330232497104, -0.4557266170549639, '27.5%')])"
      ]
     },
     "execution_count": 49,
     "metadata": {},
     "output_type": "execute_result"
    },
    {
     "data": {
      "image/png": "[encoded data removed]",
      "text/plain": [
       "<Figure size 720x576 with 1 Axes>"
      ]
     },
     "metadata": {},
     "output_type": "display_data"
    }
   ],
   "source": [
    "plt.figure(figsize=(10,8))\n",
    "plt.pie(headcount_by_cities.values, labels=headcount_by_cities.index, autopct='%1.1f%%')"
   ]
  },
  {
   "cell_type": "code",
   "execution_count": 50,
   "metadata": {},
   "outputs": [
    {
     "data": {
      "text/html": [
       "<style  type=\"text/css\" >\n",
       "</style><table id=\"T_dae459cc_fd5d_11e9_827f_701ce71031ef\" ><thead>    <tr>        <th class=\"col_heading level0 col0\" >city</th>        <th class=\"col_heading level0 col1\" >salary_mean</th>        <th class=\"col_heading level0 col2\" >salary_95_min</th>        <th class=\"col_heading level0 col3\" >salary_median</th>        <th class=\"col_heading level0 col4\" >salary_95_max</th>        <th class=\"col_heading level0 col5\" >head_count</th>        <th class=\"col_heading level0 col6\" >percentage</th>    </tr></thead><tbody>\n",
       "                <tr>\n",
       "                                <td id=\"T_dae459cc_fd5d_11e9_827f_701ce71031efrow0_col0\" class=\"data row0 col0\" >北京</td>\n",
       "                        <td id=\"T_dae459cc_fd5d_11e9_827f_701ce71031efrow0_col1\" class=\"data row0 col1\" >17714</td>\n",
       "                        <td id=\"T_dae459cc_fd5d_11e9_827f_701ce71031efrow0_col2\" class=\"data row0 col2\" >3750</td>\n",
       "                        <td id=\"T_dae459cc_fd5d_11e9_827f_701ce71031efrow0_col3\" class=\"data row0 col3\" >15000</td>\n",
       "                        <td id=\"T_dae459cc_fd5d_11e9_827f_701ce71031efrow0_col4\" class=\"data row0 col4\" >45000</td>\n",
       "                        <td id=\"T_dae459cc_fd5d_11e9_827f_701ce71031efrow0_col5\" class=\"data row0 col5\" >24282</td>\n",
       "                        <td id=\"T_dae459cc_fd5d_11e9_827f_701ce71031efrow0_col6\" class=\"data row0 col6\" >18.32%</td>\n",
       "            </tr>\n",
       "            <tr>\n",
       "                                <td id=\"T_dae459cc_fd5d_11e9_827f_701ce71031efrow1_col0\" class=\"data row1 col0\" >上海</td>\n",
       "                        <td id=\"T_dae459cc_fd5d_11e9_827f_701ce71031efrow1_col1\" class=\"data row1 col1\" >16390</td>\n",
       "                        <td id=\"T_dae459cc_fd5d_11e9_827f_701ce71031efrow1_col2\" class=\"data row1 col2\" >5250</td>\n",
       "                        <td id=\"T_dae459cc_fd5d_11e9_827f_701ce71031efrow1_col3\" class=\"data row1 col3\" >15000</td>\n",
       "                        <td id=\"T_dae459cc_fd5d_11e9_827f_701ce71031efrow1_col4\" class=\"data row1 col4\" >37500</td>\n",
       "                        <td id=\"T_dae459cc_fd5d_11e9_827f_701ce71031efrow1_col5\" class=\"data row1 col5\" >43913</td>\n",
       "                        <td id=\"T_dae459cc_fd5d_11e9_827f_701ce71031efrow1_col6\" class=\"data row1 col6\" >33.14%</td>\n",
       "            </tr>\n",
       "            <tr>\n",
       "                                <td id=\"T_dae459cc_fd5d_11e9_827f_701ce71031efrow2_col0\" class=\"data row2 col0\" >深圳</td>\n",
       "                        <td id=\"T_dae459cc_fd5d_11e9_827f_701ce71031efrow2_col1\" class=\"data row2 col1\" >16208</td>\n",
       "                        <td id=\"T_dae459cc_fd5d_11e9_827f_701ce71031efrow2_col2\" class=\"data row2 col2\" >5250</td>\n",
       "                        <td id=\"T_dae459cc_fd5d_11e9_827f_701ce71031efrow2_col3\" class=\"data row2 col3\" >14583</td>\n",
       "                        <td id=\"T_dae459cc_fd5d_11e9_827f_701ce71031efrow2_col4\" class=\"data row2 col4\" >37500</td>\n",
       "                        <td id=\"T_dae459cc_fd5d_11e9_827f_701ce71031efrow2_col5\" class=\"data row2 col5\" >36389</td>\n",
       "                        <td id=\"T_dae459cc_fd5d_11e9_827f_701ce71031efrow2_col6\" class=\"data row2 col6\" >27.46%</td>\n",
       "            </tr>\n",
       "            <tr>\n",
       "                                <td id=\"T_dae459cc_fd5d_11e9_827f_701ce71031efrow3_col0\" class=\"data row3 col0\" >广州</td>\n",
       "                        <td id=\"T_dae459cc_fd5d_11e9_827f_701ce71031efrow3_col1\" class=\"data row3 col1\" >13618</td>\n",
       "                        <td id=\"T_dae459cc_fd5d_11e9_827f_701ce71031efrow3_col2\" class=\"data row3 col2\" >3750</td>\n",
       "                        <td id=\"T_dae459cc_fd5d_11e9_827f_701ce71031efrow3_col3\" class=\"data row3 col3\" >12500</td>\n",
       "                        <td id=\"T_dae459cc_fd5d_11e9_827f_701ce71031efrow3_col4\" class=\"data row3 col4\" >30000</td>\n",
       "                        <td id=\"T_dae459cc_fd5d_11e9_827f_701ce71031efrow3_col5\" class=\"data row3 col5\" >27943</td>\n",
       "                        <td id=\"T_dae459cc_fd5d_11e9_827f_701ce71031efrow3_col6\" class=\"data row3 col6\" >21.08%</td>\n",
       "            </tr>\n",
       "    </tbody></table>"
      ],
      "text/plain": [
       "<pandas.io.formats.style.Styler at 0x1d554116648>"
      ]
     },
     "execution_count": 50,
     "metadata": {},
     "output_type": "execute_result"
    }
   ],
   "source": [
    "data_pl=get_sub_stats_by_col(data,'city')\n",
    "apply_style(data_pl)"
   ]
  },
  {
   "cell_type": "code",
   "execution_count": 51,
   "metadata": {},
   "outputs": [],
   "source": [
    "salary_beijing=data[data.city=='北京'].monthly_salary\n",
    "salary_shanghai=data[data.city=='上海'].monthly_salary\n",
    "salary_guangzhou=data[data.city=='广州'].monthly_salary\n",
    "salary_shenzhen=data[data.city=='深圳'].monthly_salary"
   ]
  },
  {
   "cell_type": "code",
   "execution_count": null,
   "metadata": {},
   "outputs": [],
   "source": []
  },
  {
   "cell_type": "code",
   "execution_count": 52,
   "metadata": {},
   "outputs": [
    {
     "data": {
      "text/plain": [
       "F_onewayResult(statistic=76.64753200728806, pvalue=2.1976991836501775e-18)"
      ]
     },
     "execution_count": 52,
     "metadata": {},
     "output_type": "execute_result"
    }
   ],
   "source": [
    "stats.f_oneway(salary_beijing, salary_shanghai)"
   ]
  },
  {
   "cell_type": "code",
   "execution_count": 53,
   "metadata": {},
   "outputs": [
    {
     "data": {
      "text/plain": [
       "F_onewayResult(statistic=65.39240548854794, pvalue=6.401689128357858e-16)"
      ]
     },
     "execution_count": 53,
     "metadata": {},
     "output_type": "execute_result"
    }
   ],
   "source": [
    "stats.f_oneway(salary_shanghai, salary_shenzhen)"
   ]
  },
  {
   "cell_type": "code",
   "execution_count": 54,
   "metadata": {},
   "outputs": [
    {
     "data": {
      "text/plain": [
       "F_onewayResult(statistic=628.9362817745352, pvalue=8.183914879171484e-137)"
      ]
     },
     "execution_count": 54,
     "metadata": {},
     "output_type": "execute_result"
    }
   ],
   "source": [
    "stats.f_oneway(salary_shenzhen, salary_guangzhou)"
   ]
  },
  {
   "cell_type": "markdown",
   "metadata": {},
   "source": [
    "# 编程语言"
   ]
  },
  {
   "cell_type": "code",
   "execution_count": 55,
   "metadata": {},
   "outputs": [
    {
     "data": {
      "text/html": [
       "<style  type=\"text/css\" >\n",
       "</style><table id=\"T_dcf97d9e_fd5d_11e9_a439_701ce71031ef\" ><thead>    <tr>        <th class=\"col_heading level0 col0\" >rank</th>        <th class=\"col_heading level0 col1\" >pl_</th>        <th class=\"col_heading level0 col2\" >salary_mean</th>        <th class=\"col_heading level0 col3\" >salary_median</th>        <th class=\"col_heading level0 col4\" >salary_95_min</th>        <th class=\"col_heading level0 col5\" >salary_95_max</th>        <th class=\"col_heading level0 col6\" >head_count</th>        <th class=\"col_heading level0 col7\" >percentage</th>    </tr></thead><tbody>\n",
       "                <tr>\n",
       "                                <td id=\"T_dcf97d9e_fd5d_11e9_a439_701ce71031efrow0_col0\" class=\"data row0 col0\" >1</td>\n",
       "                        <td id=\"T_dcf97d9e_fd5d_11e9_a439_701ce71031efrow0_col1\" class=\"data row0 col1\" >rust</td>\n",
       "                        <td id=\"T_dcf97d9e_fd5d_11e9_a439_701ce71031efrow0_col2\" class=\"data row0 col2\" >25762</td>\n",
       "                        <td id=\"T_dcf97d9e_fd5d_11e9_a439_701ce71031efrow0_col3\" class=\"data row0 col3\" >25000</td>\n",
       "                        <td id=\"T_dcf97d9e_fd5d_11e9_a439_701ce71031efrow0_col4\" class=\"data row0 col4\" >9000</td>\n",
       "                        <td id=\"T_dcf97d9e_fd5d_11e9_a439_701ce71031efrow0_col5\" class=\"data row0 col5\" >56000</td>\n",
       "                        <td id=\"T_dcf97d9e_fd5d_11e9_a439_701ce71031efrow0_col6\" class=\"data row0 col6\" >188</td>\n",
       "                        <td id=\"T_dcf97d9e_fd5d_11e9_a439_701ce71031efrow0_col7\" class=\"data row0 col7\" >0.10%</td>\n",
       "            </tr>\n",
       "            <tr>\n",
       "                                <td id=\"T_dcf97d9e_fd5d_11e9_a439_701ce71031efrow1_col0\" class=\"data row1 col0\" >2</td>\n",
       "                        <td id=\"T_dcf97d9e_fd5d_11e9_a439_701ce71031efrow1_col1\" class=\"data row1 col1\" >python</td>\n",
       "                        <td id=\"T_dcf97d9e_fd5d_11e9_a439_701ce71031efrow1_col2\" class=\"data row1 col2\" >20483</td>\n",
       "                        <td id=\"T_dcf97d9e_fd5d_11e9_a439_701ce71031efrow1_col3\" class=\"data row1 col3\" >17500</td>\n",
       "                        <td id=\"T_dcf97d9e_fd5d_11e9_a439_701ce71031efrow1_col4\" class=\"data row1 col4\" >5250</td>\n",
       "                        <td id=\"T_dcf97d9e_fd5d_11e9_a439_701ce71031efrow1_col5\" class=\"data row1 col5\" >45000</td>\n",
       "                        <td id=\"T_dcf97d9e_fd5d_11e9_a439_701ce71031efrow1_col6\" class=\"data row1 col6\" >16904</td>\n",
       "                        <td id=\"T_dcf97d9e_fd5d_11e9_a439_701ce71031efrow1_col7\" class=\"data row1 col7\" >9.12%</td>\n",
       "            </tr>\n",
       "            <tr>\n",
       "                                <td id=\"T_dcf97d9e_fd5d_11e9_a439_701ce71031efrow2_col0\" class=\"data row2 col0\" >3</td>\n",
       "                        <td id=\"T_dcf97d9e_fd5d_11e9_a439_701ce71031efrow2_col1\" class=\"data row2 col1\" >go</td>\n",
       "                        <td id=\"T_dcf97d9e_fd5d_11e9_a439_701ce71031efrow2_col2\" class=\"data row2 col2\" >20073</td>\n",
       "                        <td id=\"T_dcf97d9e_fd5d_11e9_a439_701ce71031efrow2_col3\" class=\"data row2 col3\" >17500</td>\n",
       "                        <td id=\"T_dcf97d9e_fd5d_11e9_a439_701ce71031efrow2_col4\" class=\"data row2 col4\" >7000</td>\n",
       "                        <td id=\"T_dcf97d9e_fd5d_11e9_a439_701ce71031efrow2_col5\" class=\"data row2 col5\" >45000</td>\n",
       "                        <td id=\"T_dcf97d9e_fd5d_11e9_a439_701ce71031efrow2_col6\" class=\"data row2 col6\" >16355</td>\n",
       "                        <td id=\"T_dcf97d9e_fd5d_11e9_a439_701ce71031efrow2_col7\" class=\"data row2 col7\" >8.82%</td>\n",
       "            </tr>\n",
       "            <tr>\n",
       "                                <td id=\"T_dcf97d9e_fd5d_11e9_a439_701ce71031efrow3_col0\" class=\"data row3 col0\" >4</td>\n",
       "                        <td id=\"T_dcf97d9e_fd5d_11e9_a439_701ce71031efrow3_col1\" class=\"data row3 col1\" >matlab</td>\n",
       "                        <td id=\"T_dcf97d9e_fd5d_11e9_a439_701ce71031efrow3_col2\" class=\"data row3 col2\" >20068</td>\n",
       "                        <td id=\"T_dcf97d9e_fd5d_11e9_a439_701ce71031efrow3_col3\" class=\"data row3 col3\" >17500</td>\n",
       "                        <td id=\"T_dcf97d9e_fd5d_11e9_a439_701ce71031efrow3_col4\" class=\"data row3 col4\" >5833</td>\n",
       "                        <td id=\"T_dcf97d9e_fd5d_11e9_a439_701ce71031efrow3_col5\" class=\"data row3 col5\" >45000</td>\n",
       "                        <td id=\"T_dcf97d9e_fd5d_11e9_a439_701ce71031efrow3_col6\" class=\"data row3 col6\" >2766</td>\n",
       "                        <td id=\"T_dcf97d9e_fd5d_11e9_a439_701ce71031efrow3_col7\" class=\"data row3 col7\" >1.49%</td>\n",
       "            </tr>\n",
       "            <tr>\n",
       "                                <td id=\"T_dcf97d9e_fd5d_11e9_a439_701ce71031efrow4_col0\" class=\"data row4 col0\" >5</td>\n",
       "                        <td id=\"T_dcf97d9e_fd5d_11e9_a439_701ce71031efrow4_col1\" class=\"data row4 col1\" >lua</td>\n",
       "                        <td id=\"T_dcf97d9e_fd5d_11e9_a439_701ce71031efrow4_col2\" class=\"data row4 col2\" >19089</td>\n",
       "                        <td id=\"T_dcf97d9e_fd5d_11e9_a439_701ce71031efrow4_col3\" class=\"data row4 col3\" >17500</td>\n",
       "                        <td id=\"T_dcf97d9e_fd5d_11e9_a439_701ce71031efrow4_col4\" class=\"data row4 col4\" >6000</td>\n",
       "                        <td id=\"T_dcf97d9e_fd5d_11e9_a439_701ce71031efrow4_col5\" class=\"data row4 col5\" >40000</td>\n",
       "                        <td id=\"T_dcf97d9e_fd5d_11e9_a439_701ce71031efrow4_col6\" class=\"data row4 col6\" >1870</td>\n",
       "                        <td id=\"T_dcf97d9e_fd5d_11e9_a439_701ce71031efrow4_col7\" class=\"data row4 col7\" >1.01%</td>\n",
       "            </tr>\n",
       "            <tr>\n",
       "                                <td id=\"T_dcf97d9e_fd5d_11e9_a439_701ce71031efrow5_col0\" class=\"data row5 col0\" >6</td>\n",
       "                        <td id=\"T_dcf97d9e_fd5d_11e9_a439_701ce71031efrow5_col1\" class=\"data row5 col1\" >cpp</td>\n",
       "                        <td id=\"T_dcf97d9e_fd5d_11e9_a439_701ce71031efrow5_col2\" class=\"data row5 col2\" >18121</td>\n",
       "                        <td id=\"T_dcf97d9e_fd5d_11e9_a439_701ce71031efrow5_col3\" class=\"data row5 col3\" >15500</td>\n",
       "                        <td id=\"T_dcf97d9e_fd5d_11e9_a439_701ce71031efrow5_col4\" class=\"data row5 col4\" >5250</td>\n",
       "                        <td id=\"T_dcf97d9e_fd5d_11e9_a439_701ce71031efrow5_col5\" class=\"data row5 col5\" >40000</td>\n",
       "                        <td id=\"T_dcf97d9e_fd5d_11e9_a439_701ce71031efrow5_col6\" class=\"data row5 col6\" >31215</td>\n",
       "                        <td id=\"T_dcf97d9e_fd5d_11e9_a439_701ce71031efrow5_col7\" class=\"data row5 col7\" >16.84%</td>\n",
       "            </tr>\n",
       "            <tr>\n",
       "                                <td id=\"T_dcf97d9e_fd5d_11e9_a439_701ce71031efrow6_col0\" class=\"data row6 col0\" >7</td>\n",
       "                        <td id=\"T_dcf97d9e_fd5d_11e9_a439_701ce71031efrow6_col1\" class=\"data row6 col1\" >perl</td>\n",
       "                        <td id=\"T_dcf97d9e_fd5d_11e9_a439_701ce71031efrow6_col2\" class=\"data row6 col2\" >18093</td>\n",
       "                        <td id=\"T_dcf97d9e_fd5d_11e9_a439_701ce71031efrow6_col3\" class=\"data row6 col3\" >16500</td>\n",
       "                        <td id=\"T_dcf97d9e_fd5d_11e9_a439_701ce71031efrow6_col4\" class=\"data row6 col4\" >5209</td>\n",
       "                        <td id=\"T_dcf97d9e_fd5d_11e9_a439_701ce71031efrow6_col5\" class=\"data row6 col5\" >45000</td>\n",
       "                        <td id=\"T_dcf97d9e_fd5d_11e9_a439_701ce71031efrow6_col6\" class=\"data row6 col6\" >1357</td>\n",
       "                        <td id=\"T_dcf97d9e_fd5d_11e9_a439_701ce71031efrow6_col7\" class=\"data row6 col7\" >0.73%</td>\n",
       "            </tr>\n",
       "            <tr>\n",
       "                                <td id=\"T_dcf97d9e_fd5d_11e9_a439_701ce71031efrow7_col0\" class=\"data row7 col0\" >8</td>\n",
       "                        <td id=\"T_dcf97d9e_fd5d_11e9_a439_701ce71031efrow7_col1\" class=\"data row7 col1\" >ruby</td>\n",
       "                        <td id=\"T_dcf97d9e_fd5d_11e9_a439_701ce71031efrow7_col2\" class=\"data row7 col2\" >18090</td>\n",
       "                        <td id=\"T_dcf97d9e_fd5d_11e9_a439_701ce71031efrow7_col3\" class=\"data row7 col3\" >17500</td>\n",
       "                        <td id=\"T_dcf97d9e_fd5d_11e9_a439_701ce71031efrow7_col4\" class=\"data row7 col4\" >4900</td>\n",
       "                        <td id=\"T_dcf97d9e_fd5d_11e9_a439_701ce71031efrow7_col5\" class=\"data row7 col5\" >36864</td>\n",
       "                        <td id=\"T_dcf97d9e_fd5d_11e9_a439_701ce71031efrow7_col6\" class=\"data row7 col6\" >536</td>\n",
       "                        <td id=\"T_dcf97d9e_fd5d_11e9_a439_701ce71031efrow7_col7\" class=\"data row7 col7\" >0.29%</td>\n",
       "            </tr>\n",
       "            <tr>\n",
       "                                <td id=\"T_dcf97d9e_fd5d_11e9_a439_701ce71031efrow8_col0\" class=\"data row8 col0\" >9</td>\n",
       "                        <td id=\"T_dcf97d9e_fd5d_11e9_a439_701ce71031efrow8_col1\" class=\"data row8 col1\" >kotlin</td>\n",
       "                        <td id=\"T_dcf97d9e_fd5d_11e9_a439_701ce71031efrow8_col2\" class=\"data row8 col2\" >18000</td>\n",
       "                        <td id=\"T_dcf97d9e_fd5d_11e9_a439_701ce71031efrow8_col3\" class=\"data row8 col3\" >17333</td>\n",
       "                        <td id=\"T_dcf97d9e_fd5d_11e9_a439_701ce71031efrow8_col4\" class=\"data row8 col4\" >9000</td>\n",
       "                        <td id=\"T_dcf97d9e_fd5d_11e9_a439_701ce71031efrow8_col5\" class=\"data row8 col5\" >37500</td>\n",
       "                        <td id=\"T_dcf97d9e_fd5d_11e9_a439_701ce71031efrow8_col6\" class=\"data row8 col6\" >757</td>\n",
       "                        <td id=\"T_dcf97d9e_fd5d_11e9_a439_701ce71031efrow8_col7\" class=\"data row8 col7\" >0.41%</td>\n",
       "            </tr>\n",
       "            <tr>\n",
       "                                <td id=\"T_dcf97d9e_fd5d_11e9_a439_701ce71031efrow9_col0\" class=\"data row9 col0\" >10</td>\n",
       "                        <td id=\"T_dcf97d9e_fd5d_11e9_a439_701ce71031efrow9_col1\" class=\"data row9 col1\" >haskell</td>\n",
       "                        <td id=\"T_dcf97d9e_fd5d_11e9_a439_701ce71031efrow9_col2\" class=\"data row9 col2\" >16951</td>\n",
       "                        <td id=\"T_dcf97d9e_fd5d_11e9_a439_701ce71031efrow9_col3\" class=\"data row9 col3\" >15000</td>\n",
       "                        <td id=\"T_dcf97d9e_fd5d_11e9_a439_701ce71031efrow9_col4\" class=\"data row9 col4\" >7500</td>\n",
       "                        <td id=\"T_dcf97d9e_fd5d_11e9_a439_701ce71031efrow9_col5\" class=\"data row9 col5\" >25000</td>\n",
       "                        <td id=\"T_dcf97d9e_fd5d_11e9_a439_701ce71031efrow9_col6\" class=\"data row9 col6\" >41</td>\n",
       "                        <td id=\"T_dcf97d9e_fd5d_11e9_a439_701ce71031efrow9_col7\" class=\"data row9 col7\" >0.02%</td>\n",
       "            </tr>\n",
       "            <tr>\n",
       "                                <td id=\"T_dcf97d9e_fd5d_11e9_a439_701ce71031efrow10_col0\" class=\"data row10 col0\" >11</td>\n",
       "                        <td id=\"T_dcf97d9e_fd5d_11e9_a439_701ce71031efrow10_col1\" class=\"data row10 col1\" >swift</td>\n",
       "                        <td id=\"T_dcf97d9e_fd5d_11e9_a439_701ce71031efrow10_col2\" class=\"data row10 col2\" >16876</td>\n",
       "                        <td id=\"T_dcf97d9e_fd5d_11e9_a439_701ce71031efrow10_col3\" class=\"data row10 col3\" >15000</td>\n",
       "                        <td id=\"T_dcf97d9e_fd5d_11e9_a439_701ce71031efrow10_col4\" class=\"data row10 col4\" >7000</td>\n",
       "                        <td id=\"T_dcf97d9e_fd5d_11e9_a439_701ce71031efrow10_col5\" class=\"data row10 col5\" >35396</td>\n",
       "                        <td id=\"T_dcf97d9e_fd5d_11e9_a439_701ce71031efrow10_col6\" class=\"data row10 col6\" >1801</td>\n",
       "                        <td id=\"T_dcf97d9e_fd5d_11e9_a439_701ce71031efrow10_col7\" class=\"data row10 col7\" >0.97%</td>\n",
       "            </tr>\n",
       "            <tr>\n",
       "                                <td id=\"T_dcf97d9e_fd5d_11e9_a439_701ce71031efrow11_col0\" class=\"data row11 col0\" >12</td>\n",
       "                        <td id=\"T_dcf97d9e_fd5d_11e9_a439_701ce71031efrow11_col1\" class=\"data row11 col1\" >typescript</td>\n",
       "                        <td id=\"T_dcf97d9e_fd5d_11e9_a439_701ce71031efrow11_col2\" class=\"data row11 col2\" >16016</td>\n",
       "                        <td id=\"T_dcf97d9e_fd5d_11e9_a439_701ce71031efrow11_col3\" class=\"data row11 col3\" >14000</td>\n",
       "                        <td id=\"T_dcf97d9e_fd5d_11e9_a439_701ce71031efrow11_col4\" class=\"data row11 col4\" >6500</td>\n",
       "                        <td id=\"T_dcf97d9e_fd5d_11e9_a439_701ce71031efrow11_col5\" class=\"data row11 col5\" >34166</td>\n",
       "                        <td id=\"T_dcf97d9e_fd5d_11e9_a439_701ce71031efrow11_col6\" class=\"data row11 col6\" >550</td>\n",
       "                        <td id=\"T_dcf97d9e_fd5d_11e9_a439_701ce71031efrow11_col7\" class=\"data row11 col7\" >0.30%</td>\n",
       "            </tr>\n",
       "            <tr>\n",
       "                                <td id=\"T_dcf97d9e_fd5d_11e9_a439_701ce71031efrow12_col0\" class=\"data row12 col0\" >13</td>\n",
       "                        <td id=\"T_dcf97d9e_fd5d_11e9_a439_701ce71031efrow12_col1\" class=\"data row12 col1\" >java</td>\n",
       "                        <td id=\"T_dcf97d9e_fd5d_11e9_a439_701ce71031efrow12_col2\" class=\"data row12 col2\" >15852</td>\n",
       "                        <td id=\"T_dcf97d9e_fd5d_11e9_a439_701ce71031efrow12_col3\" class=\"data row12 col3\" >14000</td>\n",
       "                        <td id=\"T_dcf97d9e_fd5d_11e9_a439_701ce71031efrow12_col4\" class=\"data row12 col4\" >5250</td>\n",
       "                        <td id=\"T_dcf97d9e_fd5d_11e9_a439_701ce71031efrow12_col5\" class=\"data row12 col5\" >37500</td>\n",
       "                        <td id=\"T_dcf97d9e_fd5d_11e9_a439_701ce71031efrow12_col6\" class=\"data row12 col6\" >59806</td>\n",
       "                        <td id=\"T_dcf97d9e_fd5d_11e9_a439_701ce71031efrow12_col7\" class=\"data row12 col7\" >32.26%</td>\n",
       "            </tr>\n",
       "            <tr>\n",
       "                                <td id=\"T_dcf97d9e_fd5d_11e9_a439_701ce71031efrow13_col0\" class=\"data row13 col0\" >14</td>\n",
       "                        <td id=\"T_dcf97d9e_fd5d_11e9_a439_701ce71031efrow13_col1\" class=\"data row13 col1\" >php</td>\n",
       "                        <td id=\"T_dcf97d9e_fd5d_11e9_a439_701ce71031efrow13_col2\" class=\"data row13 col2\" >15489</td>\n",
       "                        <td id=\"T_dcf97d9e_fd5d_11e9_a439_701ce71031efrow13_col3\" class=\"data row13 col3\" >12500</td>\n",
       "                        <td id=\"T_dcf97d9e_fd5d_11e9_a439_701ce71031efrow13_col4\" class=\"data row13 col4\" >4500</td>\n",
       "                        <td id=\"T_dcf97d9e_fd5d_11e9_a439_701ce71031efrow13_col5\" class=\"data row13 col5\" >37500</td>\n",
       "                        <td id=\"T_dcf97d9e_fd5d_11e9_a439_701ce71031efrow13_col6\" class=\"data row13 col6\" >8529</td>\n",
       "                        <td id=\"T_dcf97d9e_fd5d_11e9_a439_701ce71031efrow13_col7\" class=\"data row13 col7\" >4.60%</td>\n",
       "            </tr>\n",
       "            <tr>\n",
       "                                <td id=\"T_dcf97d9e_fd5d_11e9_a439_701ce71031efrow14_col0\" class=\"data row14 col0\" >15</td>\n",
       "                        <td id=\"T_dcf97d9e_fd5d_11e9_a439_701ce71031efrow14_col1\" class=\"data row14 col1\" >objective_c</td>\n",
       "                        <td id=\"T_dcf97d9e_fd5d_11e9_a439_701ce71031efrow14_col2\" class=\"data row14 col2\" >14695</td>\n",
       "                        <td id=\"T_dcf97d9e_fd5d_11e9_a439_701ce71031efrow14_col3\" class=\"data row14 col3\" >13714</td>\n",
       "                        <td id=\"T_dcf97d9e_fd5d_11e9_a439_701ce71031efrow14_col4\" class=\"data row14 col4\" >4775</td>\n",
       "                        <td id=\"T_dcf97d9e_fd5d_11e9_a439_701ce71031efrow14_col5\" class=\"data row14 col5\" >25958</td>\n",
       "                        <td id=\"T_dcf97d9e_fd5d_11e9_a439_701ce71031efrow14_col6\" class=\"data row14 col6\" >177</td>\n",
       "                        <td id=\"T_dcf97d9e_fd5d_11e9_a439_701ce71031efrow14_col7\" class=\"data row14 col7\" >0.10%</td>\n",
       "            </tr>\n",
       "            <tr>\n",
       "                                <td id=\"T_dcf97d9e_fd5d_11e9_a439_701ce71031efrow15_col0\" class=\"data row15 col0\" >16</td>\n",
       "                        <td id=\"T_dcf97d9e_fd5d_11e9_a439_701ce71031efrow15_col1\" class=\"data row15 col1\" >visual_basic</td>\n",
       "                        <td id=\"T_dcf97d9e_fd5d_11e9_a439_701ce71031efrow15_col2\" class=\"data row15 col2\" >13990</td>\n",
       "                        <td id=\"T_dcf97d9e_fd5d_11e9_a439_701ce71031efrow15_col3\" class=\"data row15 col3\" >13833</td>\n",
       "                        <td id=\"T_dcf97d9e_fd5d_11e9_a439_701ce71031efrow15_col4\" class=\"data row15 col4\" >6250</td>\n",
       "                        <td id=\"T_dcf97d9e_fd5d_11e9_a439_701ce71031efrow15_col5\" class=\"data row15 col5\" >22500</td>\n",
       "                        <td id=\"T_dcf97d9e_fd5d_11e9_a439_701ce71031efrow15_col6\" class=\"data row15 col6\" >17</td>\n",
       "                        <td id=\"T_dcf97d9e_fd5d_11e9_a439_701ce71031efrow15_col7\" class=\"data row15 col7\" >0.01%</td>\n",
       "            </tr>\n",
       "            <tr>\n",
       "                                <td id=\"T_dcf97d9e_fd5d_11e9_a439_701ce71031efrow16_col0\" class=\"data row16 col0\" >17</td>\n",
       "                        <td id=\"T_dcf97d9e_fd5d_11e9_a439_701ce71031efrow16_col1\" class=\"data row16 col1\" >javascript</td>\n",
       "                        <td id=\"T_dcf97d9e_fd5d_11e9_a439_701ce71031efrow16_col2\" class=\"data row16 col2\" >13630</td>\n",
       "                        <td id=\"T_dcf97d9e_fd5d_11e9_a439_701ce71031efrow16_col3\" class=\"data row16 col3\" >12500</td>\n",
       "                        <td id=\"T_dcf97d9e_fd5d_11e9_a439_701ce71031efrow16_col4\" class=\"data row16 col4\" >4283</td>\n",
       "                        <td id=\"T_dcf97d9e_fd5d_11e9_a439_701ce71031efrow16_col5\" class=\"data row16 col5\" >27500</td>\n",
       "                        <td id=\"T_dcf97d9e_fd5d_11e9_a439_701ce71031efrow16_col6\" class=\"data row16 col6\" >21376</td>\n",
       "                        <td id=\"T_dcf97d9e_fd5d_11e9_a439_701ce71031efrow16_col7\" class=\"data row16 col7\" >11.53%</td>\n",
       "            </tr>\n",
       "            <tr>\n",
       "                                <td id=\"T_dcf97d9e_fd5d_11e9_a439_701ce71031efrow17_col0\" class=\"data row17 col0\" >18</td>\n",
       "                        <td id=\"T_dcf97d9e_fd5d_11e9_a439_701ce71031efrow17_col1\" class=\"data row17 col1\" >c_sharp</td>\n",
       "                        <td id=\"T_dcf97d9e_fd5d_11e9_a439_701ce71031efrow17_col2\" class=\"data row17 col2\" >13141</td>\n",
       "                        <td id=\"T_dcf97d9e_fd5d_11e9_a439_701ce71031efrow17_col3\" class=\"data row17 col3\" >12500</td>\n",
       "                        <td id=\"T_dcf97d9e_fd5d_11e9_a439_701ce71031efrow17_col4\" class=\"data row17 col4\" >4250</td>\n",
       "                        <td id=\"T_dcf97d9e_fd5d_11e9_a439_701ce71031efrow17_col5\" class=\"data row17 col5\" >27500</td>\n",
       "                        <td id=\"T_dcf97d9e_fd5d_11e9_a439_701ce71031efrow17_col6\" class=\"data row17 col6\" >20470</td>\n",
       "                        <td id=\"T_dcf97d9e_fd5d_11e9_a439_701ce71031efrow17_col7\" class=\"data row17 col7\" >11.04%</td>\n",
       "            </tr>\n",
       "            <tr>\n",
       "                                <td id=\"T_dcf97d9e_fd5d_11e9_a439_701ce71031efrow18_col0\" class=\"data row18 col0\" >19</td>\n",
       "                        <td id=\"T_dcf97d9e_fd5d_11e9_a439_701ce71031efrow18_col1\" class=\"data row18 col1\" >delphi</td>\n",
       "                        <td id=\"T_dcf97d9e_fd5d_11e9_a439_701ce71031efrow18_col2\" class=\"data row18 col2\" >13039</td>\n",
       "                        <td id=\"T_dcf97d9e_fd5d_11e9_a439_701ce71031efrow18_col3\" class=\"data row18 col3\" >12500</td>\n",
       "                        <td id=\"T_dcf97d9e_fd5d_11e9_a439_701ce71031efrow18_col4\" class=\"data row18 col4\" >5283</td>\n",
       "                        <td id=\"T_dcf97d9e_fd5d_11e9_a439_701ce71031efrow18_col5\" class=\"data row18 col5\" >22883</td>\n",
       "                        <td id=\"T_dcf97d9e_fd5d_11e9_a439_701ce71031efrow18_col6\" class=\"data row18 col6\" >454</td>\n",
       "                        <td id=\"T_dcf97d9e_fd5d_11e9_a439_701ce71031efrow18_col7\" class=\"data row18 col7\" >0.24%</td>\n",
       "            </tr>\n",
       "            <tr>\n",
       "                                <td id=\"T_dcf97d9e_fd5d_11e9_a439_701ce71031efrow19_col0\" class=\"data row19 col0\" >20</td>\n",
       "                        <td id=\"T_dcf97d9e_fd5d_11e9_a439_701ce71031efrow19_col1\" class=\"data row19 col1\" >vba</td>\n",
       "                        <td id=\"T_dcf97d9e_fd5d_11e9_a439_701ce71031efrow19_col2\" class=\"data row19 col2\" >12336</td>\n",
       "                        <td id=\"T_dcf97d9e_fd5d_11e9_a439_701ce71031efrow19_col3\" class=\"data row19 col3\" >11500</td>\n",
       "                        <td id=\"T_dcf97d9e_fd5d_11e9_a439_701ce71031efrow19_col4\" class=\"data row19 col4\" >6681</td>\n",
       "                        <td id=\"T_dcf97d9e_fd5d_11e9_a439_701ce71031efrow19_col5\" class=\"data row19 col5\" >25000</td>\n",
       "                        <td id=\"T_dcf97d9e_fd5d_11e9_a439_701ce71031efrow19_col6\" class=\"data row19 col6\" >209</td>\n",
       "                        <td id=\"T_dcf97d9e_fd5d_11e9_a439_701ce71031efrow19_col7\" class=\"data row19 col7\" >0.11%</td>\n",
       "            </tr>\n",
       "    </tbody></table>"
      ],
      "text/plain": [
       "<pandas.io.formats.style.Styler at 0x1d5542d44c8>"
      ]
     },
     "execution_count": 55,
     "metadata": {},
     "output_type": "execute_result"
    }
   ],
   "source": [
    "data_pl=get_sub_stats_by_prefix(data,'pl_')\n",
    "apply_style(data_pl)"
   ]
  },
  {
   "cell_type": "code",
   "execution_count": null,
   "metadata": {},
   "outputs": [],
   "source": []
  },
  {
   "cell_type": "markdown",
   "metadata": {},
   "source": [
    "数据显示，haskell才是最赚钱的编程语言。python是主流语言里面最赚钱的，比java的工资多了3000元！vb是最不赚钱的了。其中，最赚钱的编程语言和最不赚钱的，工资居然差了2倍。所以，要选好编程语言呀！"
   ]
  },
  {
   "cell_type": "markdown",
   "metadata": {},
   "source": [
    "# 教育"
   ]
  },
  {
   "cell_type": "code",
   "execution_count": 56,
   "metadata": {},
   "outputs": [],
   "source": [
    "edu_counts=data[~(data.edu=='')].groupby(by=['edu']).headcount.sum()"
   ]
  },
  {
   "cell_type": "code",
   "execution_count": 57,
   "metadata": {},
   "outputs": [
    {
     "data": {
      "text/plain": [
       "edu\n",
       "初中及以下       16\n",
       "博士         247\n",
       "大专       33084\n",
       "本科       74215\n",
       "硕士        4226\n",
       "高中         198\n",
       "Name: headcount, dtype: int64"
      ]
     },
     "execution_count": 57,
     "metadata": {},
     "output_type": "execute_result"
    }
   ],
   "source": [
    "edu_counts"
   ]
  },
  {
   "cell_type": "code",
   "execution_count": 72,
   "metadata": {},
   "outputs": [
    {
     "data": {
      "image/png": "[encoded data removed]",
      "text/plain": [
       "<Figure size 720x576 with 1 Axes>"
      ]
     },
     "metadata": {},
     "output_type": "display_data"
    }
   ],
   "source": [
    "plt.figure(figsize=(10,8))\n",
    "plt.pie(edu_counts.values, labels=edu_counts.index, autopct='%1.1f%%')\n",
    "plt.show()"
   ]
  },
  {
   "cell_type": "code",
   "execution_count": 59,
   "metadata": {},
   "outputs": [
    {
     "data": {
      "text/html": [
       "<style  type=\"text/css\" >\n",
       "</style><table id=\"T_ded776ac_fd5d_11e9_b767_701ce71031ef\" ><thead>    <tr>        <th class=\"col_heading level0 col0\" >edu</th>        <th class=\"col_heading level0 col1\" >salary_mean</th>        <th class=\"col_heading level0 col2\" >salary_95_min</th>        <th class=\"col_heading level0 col3\" >salary_median</th>        <th class=\"col_heading level0 col4\" >salary_95_max</th>        <th class=\"col_heading level0 col5\" >head_count</th>        <th class=\"col_heading level0 col6\" >percentage</th>    </tr></thead><tbody>\n",
       "                <tr>\n",
       "                                <td id=\"T_ded776ac_fd5d_11e9_b767_701ce71031efrow0_col0\" class=\"data row0 col0\" >博士</td>\n",
       "                        <td id=\"T_ded776ac_fd5d_11e9_b767_701ce71031efrow0_col1\" class=\"data row0 col1\" >28755</td>\n",
       "                        <td id=\"T_ded776ac_fd5d_11e9_b767_701ce71031efrow0_col2\" class=\"data row0 col2\" >12500</td>\n",
       "                        <td id=\"T_ded776ac_fd5d_11e9_b767_701ce71031efrow0_col3\" class=\"data row0 col3\" >27500</td>\n",
       "                        <td id=\"T_ded776ac_fd5d_11e9_b767_701ce71031efrow0_col4\" class=\"data row0 col4\" >54156</td>\n",
       "                        <td id=\"T_ded776ac_fd5d_11e9_b767_701ce71031efrow0_col5\" class=\"data row0 col5\" >247</td>\n",
       "                        <td id=\"T_ded776ac_fd5d_11e9_b767_701ce71031efrow0_col6\" class=\"data row0 col6\" >0.22%</td>\n",
       "            </tr>\n",
       "            <tr>\n",
       "                                <td id=\"T_ded776ac_fd5d_11e9_b767_701ce71031efrow1_col0\" class=\"data row1 col0\" >硕士</td>\n",
       "                        <td id=\"T_ded776ac_fd5d_11e9_b767_701ce71031efrow1_col1\" class=\"data row1 col1\" >21045</td>\n",
       "                        <td id=\"T_ded776ac_fd5d_11e9_b767_701ce71031efrow1_col2\" class=\"data row1 col2\" >4000</td>\n",
       "                        <td id=\"T_ded776ac_fd5d_11e9_b767_701ce71031efrow1_col3\" class=\"data row1 col3\" >20000</td>\n",
       "                        <td id=\"T_ded776ac_fd5d_11e9_b767_701ce71031efrow1_col4\" class=\"data row1 col4\" >45000</td>\n",
       "                        <td id=\"T_ded776ac_fd5d_11e9_b767_701ce71031efrow1_col5\" class=\"data row1 col5\" >4226</td>\n",
       "                        <td id=\"T_ded776ac_fd5d_11e9_b767_701ce71031efrow1_col6\" class=\"data row1 col6\" >3.77%</td>\n",
       "            </tr>\n",
       "            <tr>\n",
       "                                <td id=\"T_ded776ac_fd5d_11e9_b767_701ce71031efrow2_col0\" class=\"data row2 col0\" >本科</td>\n",
       "                        <td id=\"T_ded776ac_fd5d_11e9_b767_701ce71031efrow2_col1\" class=\"data row2 col1\" >16993</td>\n",
       "                        <td id=\"T_ded776ac_fd5d_11e9_b767_701ce71031efrow2_col2\" class=\"data row2 col2\" >5250</td>\n",
       "                        <td id=\"T_ded776ac_fd5d_11e9_b767_701ce71031efrow2_col3\" class=\"data row2 col3\" >15000</td>\n",
       "                        <td id=\"T_ded776ac_fd5d_11e9_b767_701ce71031efrow2_col4\" class=\"data row2 col4\" >37500</td>\n",
       "                        <td id=\"T_ded776ac_fd5d_11e9_b767_701ce71031efrow2_col5\" class=\"data row2 col5\" >74215</td>\n",
       "                        <td id=\"T_ded776ac_fd5d_11e9_b767_701ce71031efrow2_col6\" class=\"data row2 col6\" >66.27%</td>\n",
       "            </tr>\n",
       "            <tr>\n",
       "                                <td id=\"T_ded776ac_fd5d_11e9_b767_701ce71031efrow3_col0\" class=\"data row3 col0\" >初中及以下</td>\n",
       "                        <td id=\"T_ded776ac_fd5d_11e9_b767_701ce71031efrow3_col1\" class=\"data row3 col1\" >13312</td>\n",
       "                        <td id=\"T_ded776ac_fd5d_11e9_b767_701ce71031efrow3_col2\" class=\"data row3 col2\" >9000</td>\n",
       "                        <td id=\"T_ded776ac_fd5d_11e9_b767_701ce71031efrow3_col3\" class=\"data row3 col3\" >10625</td>\n",
       "                        <td id=\"T_ded776ac_fd5d_11e9_b767_701ce71031efrow3_col4\" class=\"data row3 col4\" >30000</td>\n",
       "                        <td id=\"T_ded776ac_fd5d_11e9_b767_701ce71031efrow3_col5\" class=\"data row3 col5\" >16</td>\n",
       "                        <td id=\"T_ded776ac_fd5d_11e9_b767_701ce71031efrow3_col6\" class=\"data row3 col6\" >0.01%</td>\n",
       "            </tr>\n",
       "            <tr>\n",
       "                                <td id=\"T_ded776ac_fd5d_11e9_b767_701ce71031efrow4_col0\" class=\"data row4 col0\" >大专</td>\n",
       "                        <td id=\"T_ded776ac_fd5d_11e9_b767_701ce71031efrow4_col1\" class=\"data row4 col1\" >13280</td>\n",
       "                        <td id=\"T_ded776ac_fd5d_11e9_b767_701ce71031efrow4_col2\" class=\"data row4 col2\" >4500</td>\n",
       "                        <td id=\"T_ded776ac_fd5d_11e9_b767_701ce71031efrow4_col3\" class=\"data row4 col3\" >12500</td>\n",
       "                        <td id=\"T_ded776ac_fd5d_11e9_b767_701ce71031efrow4_col4\" class=\"data row4 col4\" >27500</td>\n",
       "                        <td id=\"T_ded776ac_fd5d_11e9_b767_701ce71031efrow4_col5\" class=\"data row4 col5\" >33084</td>\n",
       "                        <td id=\"T_ded776ac_fd5d_11e9_b767_701ce71031efrow4_col6\" class=\"data row4 col6\" >29.54%</td>\n",
       "            </tr>\n",
       "            <tr>\n",
       "                                <td id=\"T_ded776ac_fd5d_11e9_b767_701ce71031efrow5_col0\" class=\"data row5 col0\" >高中</td>\n",
       "                        <td id=\"T_ded776ac_fd5d_11e9_b767_701ce71031efrow5_col1\" class=\"data row5 col1\" >8371</td>\n",
       "                        <td id=\"T_ded776ac_fd5d_11e9_b767_701ce71031efrow5_col2\" class=\"data row5 col2\" >3317</td>\n",
       "                        <td id=\"T_ded776ac_fd5d_11e9_b767_701ce71031efrow5_col3\" class=\"data row5 col3\" >6500</td>\n",
       "                        <td id=\"T_ded776ac_fd5d_11e9_b767_701ce71031efrow5_col4\" class=\"data row5 col4\" >35000</td>\n",
       "                        <td id=\"T_ded776ac_fd5d_11e9_b767_701ce71031efrow5_col5\" class=\"data row5 col5\" >198</td>\n",
       "                        <td id=\"T_ded776ac_fd5d_11e9_b767_701ce71031efrow5_col6\" class=\"data row5 col6\" >0.18%</td>\n",
       "            </tr>\n",
       "    </tbody></table>"
      ],
      "text/plain": [
       "<pandas.io.formats.style.Styler at 0x1d556824588>"
      ]
     },
     "execution_count": 59,
     "metadata": {},
     "output_type": "execute_result"
    }
   ],
   "source": [
    "data_edu=get_sub_stats_by_col(data[data.edu.isin(['初中及以下','高中','大专','本科','硕士','博士'])], 'edu')\n",
    "apply_style(data_edu)"
   ]
  },
  {
   "cell_type": "code",
   "execution_count": 60,
   "metadata": {},
   "outputs": [],
   "source": [
    "salary_associate=data[data.edu=='大专'].monthly_salary\n",
    "salary_bachelor=data[data.edu=='本科'].monthly_salary\n",
    "salary_master=data[data.edu=='硕士'].monthly_salary\n",
    "salary_phd=data[data.edu=='博士'].monthly_salary"
   ]
  },
  {
   "cell_type": "code",
   "execution_count": null,
   "metadata": {},
   "outputs": [],
   "source": []
  },
  {
   "cell_type": "code",
   "execution_count": 61,
   "metadata": {},
   "outputs": [
    {
     "name": "stdout",
     "output_type": "stream",
     "text": [
      "大专，本科，硕士，博士的平均工资分别是13370，17330，21616，29881。中位数分别是12500， 15000，20000， 29000。\n"
     ]
    }
   ],
   "source": [
    "print('大专，本科，硕士，博士的平均工资分别是{:.0f}，{:.0f}，{:.0f}，{:.0f}。中位数分别是{:.0f}， {:.0f}，{:.0f}， {:.0f}。'.format(\n",
    "    salary_associate.mean(),salary_bachelor.mean(),salary_master.mean(),salary_phd.mean(),\n",
    "    salary_associate.median(),salary_bachelor.median(),salary_master.median(),salary_phd.median()))"
   ]
  },
  {
   "cell_type": "code",
   "execution_count": 62,
   "metadata": {},
   "outputs": [
    {
     "data": {
      "text/plain": [
       "F_onewayResult(statistic=59.622517128427326, pvalue=2.0523672564939208e-14)"
      ]
     },
     "execution_count": 62,
     "metadata": {},
     "output_type": "execute_result"
    }
   ],
   "source": [
    "stats.f_oneway(salary_phd, salary_master)"
   ]
  },
  {
   "cell_type": "code",
   "execution_count": 63,
   "metadata": {},
   "outputs": [
    {
     "data": {
      "text/plain": [
       "F_onewayResult(statistic=357.0392000962215, pvalue=4.344513200509027e-79)"
      ]
     },
     "execution_count": 63,
     "metadata": {},
     "output_type": "execute_result"
    }
   ],
   "source": [
    "stats.f_oneway(salary_master, salary_bachelor)"
   ]
  },
  {
   "cell_type": "code",
   "execution_count": 64,
   "metadata": {},
   "outputs": [
    {
     "data": {
      "text/plain": [
       "F_onewayResult(statistic=2005.4559833178453, pvalue=0.0)"
      ]
     },
     "execution_count": 64,
     "metadata": {},
     "output_type": "execute_result"
    }
   ],
   "source": [
    "stats.f_oneway(salary_bachelor, salary_associate)"
   ]
  },
  {
   "cell_type": "markdown",
   "metadata": {},
   "source": [
    "经过Oneway Anova Test，证明从大专到博士，学历每提高一级，工资都有显著的提高。"
   ]
  },
  {
   "cell_type": "code",
   "execution_count": 65,
   "metadata": {},
   "outputs": [
    {
     "data": {
      "image/png": "[encoded data removed]",
      "text/plain": [
       "<Figure size 432x288 with 1 Axes>"
      ]
     },
     "metadata": {
      "needs_background": "light"
     },
     "output_type": "display_data"
    }
   ],
   "source": [
    "\n",
    "order=['大专','本科','硕士','博士']\n",
    "a=sns.boxplot(y='edu',x='monthly_salary',order=order,data=data[data.edu.isin(order)], orient='h')\n",
    "plt.annotate('https://github.com/juwikuang/job_survey', xy=(0.5,1.5), xytext=(2, 1.55))\n",
    "plt.show()"
   ]
  },
  {
   "cell_type": "markdown",
   "metadata": {},
   "source": [
    "# 工作经验 Working Experience"
   ]
  },
  {
   "cell_type": "code",
   "execution_count": 66,
   "metadata": {},
   "outputs": [
    {
     "data": {
      "text/html": [
       "<style  type=\"text/css\" >\n",
       "</style><table id=\"T_e3d218a2_fd5d_11e9_aba8_701ce71031ef\" ><thead>    <tr>        <th class=\"col_heading level0 col0\" >experience</th>        <th class=\"col_heading level0 col1\" >salary_mean</th>        <th class=\"col_heading level0 col2\" >salary_95_min</th>        <th class=\"col_heading level0 col3\" >salary_median</th>        <th class=\"col_heading level0 col4\" >salary_95_max</th>        <th class=\"col_heading level0 col5\" >head_count</th>        <th class=\"col_heading level0 col6\" >percentage</th>    </tr></thead><tbody>\n",
       "                <tr>\n",
       "                                <td id=\"T_e3d218a2_fd5d_11e9_aba8_701ce71031efrow0_col0\" class=\"data row0 col0\" >10+</td>\n",
       "                        <td id=\"T_e3d218a2_fd5d_11e9_aba8_701ce71031efrow0_col1\" class=\"data row0 col1\" >29462</td>\n",
       "                        <td id=\"T_e3d218a2_fd5d_11e9_aba8_701ce71031efrow0_col2\" class=\"data row0 col2\" >12150</td>\n",
       "                        <td id=\"T_e3d218a2_fd5d_11e9_aba8_701ce71031efrow0_col3\" class=\"data row0 col3\" >27500</td>\n",
       "                        <td id=\"T_e3d218a2_fd5d_11e9_aba8_701ce71031efrow0_col4\" class=\"data row0 col4\" >60000</td>\n",
       "                        <td id=\"T_e3d218a2_fd5d_11e9_aba8_701ce71031efrow0_col5\" class=\"data row0 col5\" >403</td>\n",
       "                        <td id=\"T_e3d218a2_fd5d_11e9_aba8_701ce71031efrow0_col6\" class=\"data row0 col6\" >0.30%</td>\n",
       "            </tr>\n",
       "            <tr>\n",
       "                                <td id=\"T_e3d218a2_fd5d_11e9_aba8_701ce71031efrow1_col0\" class=\"data row1 col0\" >5_10</td>\n",
       "                        <td id=\"T_e3d218a2_fd5d_11e9_aba8_701ce71031efrow1_col1\" class=\"data row1 col1\" >22354</td>\n",
       "                        <td id=\"T_e3d218a2_fd5d_11e9_aba8_701ce71031efrow1_col2\" class=\"data row1 col2\" >11500</td>\n",
       "                        <td id=\"T_e3d218a2_fd5d_11e9_aba8_701ce71031efrow1_col3\" class=\"data row1 col3\" >20000</td>\n",
       "                        <td id=\"T_e3d218a2_fd5d_11e9_aba8_701ce71031efrow1_col4\" class=\"data row1 col4\" >45000</td>\n",
       "                        <td id=\"T_e3d218a2_fd5d_11e9_aba8_701ce71031efrow1_col5\" class=\"data row1 col5\" >17647</td>\n",
       "                        <td id=\"T_e3d218a2_fd5d_11e9_aba8_701ce71031efrow1_col6\" class=\"data row1 col6\" >13.32%</td>\n",
       "            </tr>\n",
       "            <tr>\n",
       "                                <td id=\"T_e3d218a2_fd5d_11e9_aba8_701ce71031efrow2_col0\" class=\"data row2 col0\" >3_5</td>\n",
       "                        <td id=\"T_e3d218a2_fd5d_11e9_aba8_701ce71031efrow2_col1\" class=\"data row2 col1\" >17449</td>\n",
       "                        <td id=\"T_e3d218a2_fd5d_11e9_aba8_701ce71031efrow2_col2\" class=\"data row2 col2\" >9000</td>\n",
       "                        <td id=\"T_e3d218a2_fd5d_11e9_aba8_701ce71031efrow2_col3\" class=\"data row2 col3\" >15000</td>\n",
       "                        <td id=\"T_e3d218a2_fd5d_11e9_aba8_701ce71031efrow2_col4\" class=\"data row2 col4\" >37500</td>\n",
       "                        <td id=\"T_e3d218a2_fd5d_11e9_aba8_701ce71031efrow2_col5\" class=\"data row2 col5\" >40428</td>\n",
       "                        <td id=\"T_e3d218a2_fd5d_11e9_aba8_701ce71031efrow2_col6\" class=\"data row2 col6\" >30.51%</td>\n",
       "            </tr>\n",
       "            <tr>\n",
       "                                <td id=\"T_e3d218a2_fd5d_11e9_aba8_701ce71031efrow3_col0\" class=\"data row3 col0\" >no</td>\n",
       "                        <td id=\"T_e3d218a2_fd5d_11e9_aba8_701ce71031efrow3_col1\" class=\"data row3 col1\" >14044</td>\n",
       "                        <td id=\"T_e3d218a2_fd5d_11e9_aba8_701ce71031efrow3_col2\" class=\"data row3 col2\" >3750</td>\n",
       "                        <td id=\"T_e3d218a2_fd5d_11e9_aba8_701ce71031efrow3_col3\" class=\"data row3 col3\" >12500</td>\n",
       "                        <td id=\"T_e3d218a2_fd5d_11e9_aba8_701ce71031efrow3_col4\" class=\"data row3 col4\" >35000</td>\n",
       "                        <td id=\"T_e3d218a2_fd5d_11e9_aba8_701ce71031efrow3_col5\" class=\"data row3 col5\" >39316</td>\n",
       "                        <td id=\"T_e3d218a2_fd5d_11e9_aba8_701ce71031efrow3_col6\" class=\"data row3 col6\" >29.67%</td>\n",
       "            </tr>\n",
       "            <tr>\n",
       "                                <td id=\"T_e3d218a2_fd5d_11e9_aba8_701ce71031efrow4_col0\" class=\"data row4 col0\" >1_3</td>\n",
       "                        <td id=\"T_e3d218a2_fd5d_11e9_aba8_701ce71031efrow4_col1\" class=\"data row4 col1\" >13134</td>\n",
       "                        <td id=\"T_e3d218a2_fd5d_11e9_aba8_701ce71031efrow4_col2\" class=\"data row4 col2\" >5250</td>\n",
       "                        <td id=\"T_e3d218a2_fd5d_11e9_aba8_701ce71031efrow4_col3\" class=\"data row4 col3\" >12500</td>\n",
       "                        <td id=\"T_e3d218a2_fd5d_11e9_aba8_701ce71031efrow4_col4\" class=\"data row4 col4\" >30000</td>\n",
       "                        <td id=\"T_e3d218a2_fd5d_11e9_aba8_701ce71031efrow4_col5\" class=\"data row4 col5\" >34733</td>\n",
       "                        <td id=\"T_e3d218a2_fd5d_11e9_aba8_701ce71031efrow4_col6\" class=\"data row4 col6\" >26.21%</td>\n",
       "            </tr>\n",
       "    </tbody></table>"
      ],
      "text/plain": [
       "<pandas.io.formats.style.Styler at 0x1d5568f4708>"
      ]
     },
     "execution_count": 66,
     "metadata": {},
     "output_type": "execute_result"
    }
   ],
   "source": [
    "data_experience=get_sub_stats_by_col(data, 'experience')\n",
    "apply_style(data_experience)"
   ]
  },
  {
   "cell_type": "code",
   "execution_count": 67,
   "metadata": {},
   "outputs": [],
   "source": [
    "salary_we_10=data[data.experience=='10+'].monthly_salary\n",
    "salary_we_5_10=data[data.experience=='5_10'].monthly_salary\n",
    "salary_we_3_5=data[data.experience=='3_5'].monthly_salary\n",
    "salary_we_1_3=data[data.experience=='1_3'].monthly_salary\n",
    "salary_we_no=data[data.experience=='no'].monthly_salary"
   ]
  },
  {
   "cell_type": "code",
   "execution_count": 68,
   "metadata": {},
   "outputs": [
    {
     "data": {
      "image/png": "[encoded data removed]",
      "text/plain": [
       "<Figure size 432x288 with 1 Axes>"
      ]
     },
     "metadata": {
      "needs_background": "light"
     },
     "output_type": "display_data"
    }
   ],
   "source": [
    "\n",
    "order=['10+','5_10','3_5','1_3']\n",
    "sns.boxplot(y='experience',x='monthly_salary',order=order,data=data[data.experience.isin(order)], orient='h')\n",
    "plt.annotate('https://github.com/juwikuang/job_survey', xy=(1.5,1.5), xytext=(1.55, 1.55))\n",
    "plt.show()"
   ]
  },
  {
   "cell_type": "markdown",
   "metadata": {},
   "source": [
    "# 公司 Company"
   ]
  },
  {
   "cell_type": "markdown",
   "metadata": {},
   "source": [
    "## 公司性质 Company Type"
   ]
  },
  {
   "cell_type": "code",
   "execution_count": 69,
   "metadata": {},
   "outputs": [
    {
     "data": {
      "text/html": [
       "<style  type=\"text/css\" >\n",
       "</style><table id=\"T_edb94046_fd5d_11e9_be88_701ce71031ef\" ><thead>    <tr>        <th class=\"col_heading level0 col0\" >company_type</th>        <th class=\"col_heading level0 col1\" >salary_mean</th>        <th class=\"col_heading level0 col2\" >salary_95_min</th>        <th class=\"col_heading level0 col3\" >salary_median</th>        <th class=\"col_heading level0 col4\" >salary_95_max</th>        <th class=\"col_heading level0 col5\" >head_count</th>        <th class=\"col_heading level0 col6\" >percentage</th>    </tr></thead><tbody>\n",
       "                <tr>\n",
       "                                <td id=\"T_edb94046_fd5d_11e9_be88_701ce71031efrow0_col0\" class=\"data row0 col0\" >事业单位</td>\n",
       "                        <td id=\"T_edb94046_fd5d_11e9_be88_701ce71031efrow0_col1\" class=\"data row0 col1\" >21395</td>\n",
       "                        <td id=\"T_edb94046_fd5d_11e9_be88_701ce71031efrow0_col2\" class=\"data row0 col2\" >5250</td>\n",
       "                        <td id=\"T_edb94046_fd5d_11e9_be88_701ce71031efrow0_col3\" class=\"data row0 col3\" >16000</td>\n",
       "                        <td id=\"T_edb94046_fd5d_11e9_be88_701ce71031efrow0_col4\" class=\"data row0 col4\" >60000</td>\n",
       "                        <td id=\"T_edb94046_fd5d_11e9_be88_701ce71031efrow0_col5\" class=\"data row0 col5\" >1201</td>\n",
       "                        <td id=\"T_edb94046_fd5d_11e9_be88_701ce71031efrow0_col6\" class=\"data row0 col6\" >0.91%</td>\n",
       "            </tr>\n",
       "            <tr>\n",
       "                                <td id=\"T_edb94046_fd5d_11e9_be88_701ce71031efrow1_col0\" class=\"data row1 col0\" >外资（欧美）</td>\n",
       "                        <td id=\"T_edb94046_fd5d_11e9_be88_701ce71031efrow1_col1\" class=\"data row1 col1\" >18614</td>\n",
       "                        <td id=\"T_edb94046_fd5d_11e9_be88_701ce71031efrow1_col2\" class=\"data row1 col2\" >6231</td>\n",
       "                        <td id=\"T_edb94046_fd5d_11e9_be88_701ce71031efrow1_col3\" class=\"data row1 col3\" >17500</td>\n",
       "                        <td id=\"T_edb94046_fd5d_11e9_be88_701ce71031efrow1_col4\" class=\"data row1 col4\" >41538</td>\n",
       "                        <td id=\"T_edb94046_fd5d_11e9_be88_701ce71031efrow1_col5\" class=\"data row1 col5\" >6974</td>\n",
       "                        <td id=\"T_edb94046_fd5d_11e9_be88_701ce71031efrow1_col6\" class=\"data row1 col6\" >5.26%</td>\n",
       "            </tr>\n",
       "            <tr>\n",
       "                                <td id=\"T_edb94046_fd5d_11e9_be88_701ce71031efrow2_col0\" class=\"data row2 col0\" >合资</td>\n",
       "                        <td id=\"T_edb94046_fd5d_11e9_be88_701ce71031efrow2_col1\" class=\"data row2 col1\" >16261</td>\n",
       "                        <td id=\"T_edb94046_fd5d_11e9_be88_701ce71031efrow2_col2\" class=\"data row2 col2\" >6000</td>\n",
       "                        <td id=\"T_edb94046_fd5d_11e9_be88_701ce71031efrow2_col3\" class=\"data row2 col3\" >14583</td>\n",
       "                        <td id=\"T_edb94046_fd5d_11e9_be88_701ce71031efrow2_col4\" class=\"data row2 col4\" >37500</td>\n",
       "                        <td id=\"T_edb94046_fd5d_11e9_be88_701ce71031efrow2_col5\" class=\"data row2 col5\" >12555</td>\n",
       "                        <td id=\"T_edb94046_fd5d_11e9_be88_701ce71031efrow2_col6\" class=\"data row2 col6\" >9.47%</td>\n",
       "            </tr>\n",
       "            <tr>\n",
       "                                <td id=\"T_edb94046_fd5d_11e9_be88_701ce71031efrow3_col0\" class=\"data row3 col0\" >民营公司</td>\n",
       "                        <td id=\"T_edb94046_fd5d_11e9_be88_701ce71031efrow3_col1\" class=\"data row3 col1\" >15824</td>\n",
       "                        <td id=\"T_edb94046_fd5d_11e9_be88_701ce71031efrow3_col2\" class=\"data row3 col2\" >5000</td>\n",
       "                        <td id=\"T_edb94046_fd5d_11e9_be88_701ce71031efrow3_col3\" class=\"data row3 col3\" >13500</td>\n",
       "                        <td id=\"T_edb94046_fd5d_11e9_be88_701ce71031efrow3_col4\" class=\"data row3 col4\" >37500</td>\n",
       "                        <td id=\"T_edb94046_fd5d_11e9_be88_701ce71031efrow3_col5\" class=\"data row3 col5\" >95553</td>\n",
       "                        <td id=\"T_edb94046_fd5d_11e9_be88_701ce71031efrow3_col6\" class=\"data row3 col6\" >72.10%</td>\n",
       "            </tr>\n",
       "            <tr>\n",
       "                                <td id=\"T_edb94046_fd5d_11e9_be88_701ce71031efrow4_col0\" class=\"data row4 col0\" >外资（非欧美）</td>\n",
       "                        <td id=\"T_edb94046_fd5d_11e9_be88_701ce71031efrow4_col1\" class=\"data row4 col1\" >15776</td>\n",
       "                        <td id=\"T_edb94046_fd5d_11e9_be88_701ce71031efrow4_col2\" class=\"data row4 col2\" >5250</td>\n",
       "                        <td id=\"T_edb94046_fd5d_11e9_be88_701ce71031efrow4_col3\" class=\"data row4 col3\" >13541</td>\n",
       "                        <td id=\"T_edb94046_fd5d_11e9_be88_701ce71031efrow4_col4\" class=\"data row4 col4\" >35000</td>\n",
       "                        <td id=\"T_edb94046_fd5d_11e9_be88_701ce71031efrow4_col5\" class=\"data row4 col5\" >7865</td>\n",
       "                        <td id=\"T_edb94046_fd5d_11e9_be88_701ce71031efrow4_col6\" class=\"data row4 col6\" >5.93%</td>\n",
       "            </tr>\n",
       "            <tr>\n",
       "                                <td id=\"T_edb94046_fd5d_11e9_be88_701ce71031efrow5_col0\" class=\"data row5 col0\" >国企</td>\n",
       "                        <td id=\"T_edb94046_fd5d_11e9_be88_701ce71031efrow5_col1\" class=\"data row5 col1\" >14885</td>\n",
       "                        <td id=\"T_edb94046_fd5d_11e9_be88_701ce71031efrow5_col2\" class=\"data row5 col2\" >3750</td>\n",
       "                        <td id=\"T_edb94046_fd5d_11e9_be88_701ce71031efrow5_col3\" class=\"data row5 col3\" >13000</td>\n",
       "                        <td id=\"T_edb94046_fd5d_11e9_be88_701ce71031efrow5_col4\" class=\"data row5 col4\" >30000</td>\n",
       "                        <td id=\"T_edb94046_fd5d_11e9_be88_701ce71031efrow5_col5\" class=\"data row5 col5\" >8208</td>\n",
       "                        <td id=\"T_edb94046_fd5d_11e9_be88_701ce71031efrow5_col6\" class=\"data row5 col6\" >6.19%</td>\n",
       "            </tr>\n",
       "            <tr>\n",
       "                                <td id=\"T_edb94046_fd5d_11e9_be88_701ce71031efrow6_col0\" class=\"data row6 col0\" >非营利组织</td>\n",
       "                        <td id=\"T_edb94046_fd5d_11e9_be88_701ce71031efrow6_col1\" class=\"data row6 col1\" >13675</td>\n",
       "                        <td id=\"T_edb94046_fd5d_11e9_be88_701ce71031efrow6_col2\" class=\"data row6 col2\" >3021</td>\n",
       "                        <td id=\"T_edb94046_fd5d_11e9_be88_701ce71031efrow6_col3\" class=\"data row6 col3\" >12500</td>\n",
       "                        <td id=\"T_edb94046_fd5d_11e9_be88_701ce71031efrow6_col4\" class=\"data row6 col4\" >33229</td>\n",
       "                        <td id=\"T_edb94046_fd5d_11e9_be88_701ce71031efrow6_col5\" class=\"data row6 col5\" >125</td>\n",
       "                        <td id=\"T_edb94046_fd5d_11e9_be88_701ce71031efrow6_col6\" class=\"data row6 col6\" >0.09%</td>\n",
       "            </tr>\n",
       "            <tr>\n",
       "                                <td id=\"T_edb94046_fd5d_11e9_be88_701ce71031efrow7_col0\" class=\"data row7 col0\" >外企代表处</td>\n",
       "                        <td id=\"T_edb94046_fd5d_11e9_be88_701ce71031efrow7_col1\" class=\"data row7 col1\" >11587</td>\n",
       "                        <td id=\"T_edb94046_fd5d_11e9_be88_701ce71031efrow7_col2\" class=\"data row7 col2\" >7000</td>\n",
       "                        <td id=\"T_edb94046_fd5d_11e9_be88_701ce71031efrow7_col3\" class=\"data row7 col3\" >9750</td>\n",
       "                        <td id=\"T_edb94046_fd5d_11e9_be88_701ce71031efrow7_col4\" class=\"data row7 col4\" >20900</td>\n",
       "                        <td id=\"T_edb94046_fd5d_11e9_be88_701ce71031efrow7_col5\" class=\"data row7 col5\" >46</td>\n",
       "                        <td id=\"T_edb94046_fd5d_11e9_be88_701ce71031efrow7_col6\" class=\"data row7 col6\" >0.03%</td>\n",
       "            </tr>\n",
       "    </tbody></table>"
      ],
      "text/plain": [
       "<pandas.io.formats.style.Styler at 0x1d5569a9588>"
      ]
     },
     "execution_count": 69,
     "metadata": {},
     "output_type": "execute_result"
    }
   ],
   "source": [
    "data_company_type=get_sub_stats_by_col(data,'company_type')\n",
    "apply_style(data_company_type)"
   ]
  },
  {
   "cell_type": "markdown",
   "metadata": {},
   "source": [
    "us_eu是欧美外企，startup是创业公司，listed是上市公司，state是国企，private是私企，foreign是非欧美外企，其他不足1000个样本的不管了。"
   ]
  },
  {
   "cell_type": "markdown",
   "metadata": {},
   "source": [
    "## 公司规模 Company Size"
   ]
  },
  {
   "cell_type": "code",
   "execution_count": 70,
   "metadata": {},
   "outputs": [
    {
     "data": {
      "text/html": [
       "<style  type=\"text/css\" >\n",
       "</style><table id=\"T_ef25950a_fd5d_11e9_a7ab_701ce71031ef\" ><thead>    <tr>        <th class=\"col_heading level0 col0\" >company_size</th>        <th class=\"col_heading level0 col1\" >salary_mean</th>        <th class=\"col_heading level0 col2\" >salary_95_min</th>        <th class=\"col_heading level0 col3\" >salary_median</th>        <th class=\"col_heading level0 col4\" >salary_95_max</th>        <th class=\"col_heading level0 col5\" >head_count</th>        <th class=\"col_heading level0 col6\" >percentage</th>    </tr></thead><tbody>\n",
       "                <tr>\n",
       "                                <td id=\"T_ef25950a_fd5d_11e9_a7ab_701ce71031efrow0_col0\" class=\"data row0 col0\" >10000+</td>\n",
       "                        <td id=\"T_ef25950a_fd5d_11e9_a7ab_701ce71031efrow0_col1\" class=\"data row0 col1\" >23782</td>\n",
       "                        <td id=\"T_ef25950a_fd5d_11e9_a7ab_701ce71031efrow0_col2\" class=\"data row0 col2\" >6000</td>\n",
       "                        <td id=\"T_ef25950a_fd5d_11e9_a7ab_701ce71031efrow0_col3\" class=\"data row0 col3\" >22500</td>\n",
       "                        <td id=\"T_ef25950a_fd5d_11e9_a7ab_701ce71031efrow0_col4\" class=\"data row0 col4\" >45271</td>\n",
       "                        <td id=\"T_ef25950a_fd5d_11e9_a7ab_701ce71031efrow0_col5\" class=\"data row0 col5\" >8234</td>\n",
       "                        <td id=\"T_ef25950a_fd5d_11e9_a7ab_701ce71031efrow0_col6\" class=\"data row0 col6\" >6.21%</td>\n",
       "            </tr>\n",
       "            <tr>\n",
       "                                <td id=\"T_ef25950a_fd5d_11e9_a7ab_701ce71031efrow1_col0\" class=\"data row1 col0\" >5000-10000</td>\n",
       "                        <td id=\"T_ef25950a_fd5d_11e9_a7ab_701ce71031efrow1_col1\" class=\"data row1 col1\" >19447</td>\n",
       "                        <td id=\"T_ef25950a_fd5d_11e9_a7ab_701ce71031efrow1_col2\" class=\"data row1 col2\" >7000</td>\n",
       "                        <td id=\"T_ef25950a_fd5d_11e9_a7ab_701ce71031efrow1_col3\" class=\"data row1 col3\" >16500</td>\n",
       "                        <td id=\"T_ef25950a_fd5d_11e9_a7ab_701ce71031efrow1_col4\" class=\"data row1 col4\" >46244</td>\n",
       "                        <td id=\"T_ef25950a_fd5d_11e9_a7ab_701ce71031efrow1_col5\" class=\"data row1 col5\" >3311</td>\n",
       "                        <td id=\"T_ef25950a_fd5d_11e9_a7ab_701ce71031efrow1_col6\" class=\"data row1 col6\" >2.50%</td>\n",
       "            </tr>\n",
       "            <tr>\n",
       "                                <td id=\"T_ef25950a_fd5d_11e9_a7ab_701ce71031efrow2_col0\" class=\"data row2 col0\" >1000-5000</td>\n",
       "                        <td id=\"T_ef25950a_fd5d_11e9_a7ab_701ce71031efrow2_col1\" class=\"data row2 col1\" >16496</td>\n",
       "                        <td id=\"T_ef25950a_fd5d_11e9_a7ab_701ce71031efrow2_col2\" class=\"data row2 col2\" >6500</td>\n",
       "                        <td id=\"T_ef25950a_fd5d_11e9_a7ab_701ce71031efrow2_col3\" class=\"data row2 col3\" >15000</td>\n",
       "                        <td id=\"T_ef25950a_fd5d_11e9_a7ab_701ce71031efrow2_col4\" class=\"data row2 col4\" >37500</td>\n",
       "                        <td id=\"T_ef25950a_fd5d_11e9_a7ab_701ce71031efrow2_col5\" class=\"data row2 col5\" >17741</td>\n",
       "                        <td id=\"T_ef25950a_fd5d_11e9_a7ab_701ce71031efrow2_col6\" class=\"data row2 col6\" >13.39%</td>\n",
       "            </tr>\n",
       "            <tr>\n",
       "                                <td id=\"T_ef25950a_fd5d_11e9_a7ab_701ce71031efrow3_col0\" class=\"data row3 col0\" >500-1000</td>\n",
       "                        <td id=\"T_ef25950a_fd5d_11e9_a7ab_701ce71031efrow3_col1\" class=\"data row3 col1\" >16441</td>\n",
       "                        <td id=\"T_ef25950a_fd5d_11e9_a7ab_701ce71031efrow3_col2\" class=\"data row3 col2\" >5250</td>\n",
       "                        <td id=\"T_ef25950a_fd5d_11e9_a7ab_701ce71031efrow3_col3\" class=\"data row3 col3\" >15000</td>\n",
       "                        <td id=\"T_ef25950a_fd5d_11e9_a7ab_701ce71031efrow3_col4\" class=\"data row3 col4\" >35000</td>\n",
       "                        <td id=\"T_ef25950a_fd5d_11e9_a7ab_701ce71031efrow3_col5\" class=\"data row3 col5\" >14101</td>\n",
       "                        <td id=\"T_ef25950a_fd5d_11e9_a7ab_701ce71031efrow3_col6\" class=\"data row3 col6\" >10.64%</td>\n",
       "            </tr>\n",
       "            <tr>\n",
       "                                <td id=\"T_ef25950a_fd5d_11e9_a7ab_701ce71031efrow4_col0\" class=\"data row4 col0\" >150-500</td>\n",
       "                        <td id=\"T_ef25950a_fd5d_11e9_a7ab_701ce71031efrow4_col1\" class=\"data row4 col1\" >15893</td>\n",
       "                        <td id=\"T_ef25950a_fd5d_11e9_a7ab_701ce71031efrow4_col2\" class=\"data row4 col2\" >5250</td>\n",
       "                        <td id=\"T_ef25950a_fd5d_11e9_a7ab_701ce71031efrow4_col3\" class=\"data row4 col3\" >14583</td>\n",
       "                        <td id=\"T_ef25950a_fd5d_11e9_a7ab_701ce71031efrow4_col4\" class=\"data row4 col4\" >35000</td>\n",
       "                        <td id=\"T_ef25950a_fd5d_11e9_a7ab_701ce71031efrow4_col5\" class=\"data row4 col5\" >30040</td>\n",
       "                        <td id=\"T_ef25950a_fd5d_11e9_a7ab_701ce71031efrow4_col6\" class=\"data row4 col6\" >22.67%</td>\n",
       "            </tr>\n",
       "            <tr>\n",
       "                                <td id=\"T_ef25950a_fd5d_11e9_a7ab_701ce71031efrow5_col0\" class=\"data row5 col0\" >50-150</td>\n",
       "                        <td id=\"T_ef25950a_fd5d_11e9_a7ab_701ce71031efrow5_col1\" class=\"data row5 col1\" >14942</td>\n",
       "                        <td id=\"T_ef25950a_fd5d_11e9_a7ab_701ce71031efrow5_col2\" class=\"data row5 col2\" >5000</td>\n",
       "                        <td id=\"T_ef25950a_fd5d_11e9_a7ab_701ce71031efrow5_col3\" class=\"data row5 col3\" >13000</td>\n",
       "                        <td id=\"T_ef25950a_fd5d_11e9_a7ab_701ce71031efrow5_col4\" class=\"data row5 col4\" >32500</td>\n",
       "                        <td id=\"T_ef25950a_fd5d_11e9_a7ab_701ce71031efrow5_col5\" class=\"data row5 col5\" >38439</td>\n",
       "                        <td id=\"T_ef25950a_fd5d_11e9_a7ab_701ce71031efrow5_col6\" class=\"data row5 col6\" >29.00%</td>\n",
       "            </tr>\n",
       "            <tr>\n",
       "                                <td id=\"T_ef25950a_fd5d_11e9_a7ab_701ce71031efrow6_col0\" class=\"data row6 col0\" >50-</td>\n",
       "                        <td id=\"T_ef25950a_fd5d_11e9_a7ab_701ce71031efrow6_col1\" class=\"data row6 col1\" >13823</td>\n",
       "                        <td id=\"T_ef25950a_fd5d_11e9_a7ab_701ce71031efrow6_col2\" class=\"data row6 col2\" >4000</td>\n",
       "                        <td id=\"T_ef25950a_fd5d_11e9_a7ab_701ce71031efrow6_col3\" class=\"data row6 col3\" >12500</td>\n",
       "                        <td id=\"T_ef25950a_fd5d_11e9_a7ab_701ce71031efrow6_col4\" class=\"data row6 col4\" >32500</td>\n",
       "                        <td id=\"T_ef25950a_fd5d_11e9_a7ab_701ce71031efrow6_col5\" class=\"data row6 col5\" >18210</td>\n",
       "                        <td id=\"T_ef25950a_fd5d_11e9_a7ab_701ce71031efrow6_col6\" class=\"data row6 col6\" >13.74%</td>\n",
       "            </tr>\n",
       "            <tr>\n",
       "                                <td id=\"T_ef25950a_fd5d_11e9_a7ab_701ce71031efrow7_col0\" class=\"data row7 col0\" ></td>\n",
       "                        <td id=\"T_ef25950a_fd5d_11e9_a7ab_701ce71031efrow7_col1\" class=\"data row7 col1\" >13035</td>\n",
       "                        <td id=\"T_ef25950a_fd5d_11e9_a7ab_701ce71031efrow7_col2\" class=\"data row7 col2\" >7000</td>\n",
       "                        <td id=\"T_ef25950a_fd5d_11e9_a7ab_701ce71031efrow7_col3\" class=\"data row7 col3\" >7000</td>\n",
       "                        <td id=\"T_ef25950a_fd5d_11e9_a7ab_701ce71031efrow7_col4\" class=\"data row7 col4\" >58333</td>\n",
       "                        <td id=\"T_ef25950a_fd5d_11e9_a7ab_701ce71031efrow7_col5\" class=\"data row7 col5\" >2451</td>\n",
       "                        <td id=\"T_ef25950a_fd5d_11e9_a7ab_701ce71031efrow7_col6\" class=\"data row7 col6\" >1.85%</td>\n",
       "            </tr>\n",
       "    </tbody></table>"
      ],
      "text/plain": [
       "<pandas.io.formats.style.Styler at 0x1d55699ce48>"
      ]
     },
     "execution_count": 70,
     "metadata": {},
     "output_type": "execute_result"
    }
   ],
   "source": [
    "data_company_size=get_sub_stats_by_col(data,'company_size')\n",
    "apply_style(data_company_size)"
   ]
  },
  {
   "cell_type": "markdown",
   "metadata": {},
   "source": [
    "公司越大，工资越高"
   ]
  },
  {
   "cell_type": "markdown",
   "metadata": {},
   "source": [
    "## 行业 Industry"
   ]
  },
  {
   "cell_type": "code",
   "execution_count": 71,
   "metadata": {},
   "outputs": [
    {
     "data": {
      "text/html": [
       "<style  type=\"text/css\" >\n",
       "</style><table id=\"T_f09d2474_fd5d_11e9_b13d_701ce71031ef\" ><thead>    <tr>        <th class=\"col_heading level0 col0\" >industry</th>        <th class=\"col_heading level0 col1\" >salary_mean</th>        <th class=\"col_heading level0 col2\" >salary_95_min</th>        <th class=\"col_heading level0 col3\" >salary_median</th>        <th class=\"col_heading level0 col4\" >salary_95_max</th>        <th class=\"col_heading level0 col5\" >head_count</th>        <th class=\"col_heading level0 col6\" >percentage</th>    </tr></thead><tbody>\n",
       "                <tr>\n",
       "                                <td id=\"T_f09d2474_fd5d_11e9_b13d_701ce71031efrow0_col0\" class=\"data row0 col0\" >finance</td>\n",
       "                        <td id=\"T_f09d2474_fd5d_11e9_b13d_701ce71031efrow0_col1\" class=\"data row0 col1\" >18074</td>\n",
       "                        <td id=\"T_f09d2474_fd5d_11e9_b13d_701ce71031efrow0_col2\" class=\"data row0 col2\" >4922</td>\n",
       "                        <td id=\"T_f09d2474_fd5d_11e9_b13d_701ce71031efrow0_col3\" class=\"data row0 col3\" >16000</td>\n",
       "                        <td id=\"T_f09d2474_fd5d_11e9_b13d_701ce71031efrow0_col4\" class=\"data row0 col4\" >58333</td>\n",
       "                        <td id=\"T_f09d2474_fd5d_11e9_b13d_701ce71031efrow0_col5\" class=\"data row0 col5\" >4091</td>\n",
       "                        <td id=\"T_f09d2474_fd5d_11e9_b13d_701ce71031efrow0_col6\" class=\"data row0 col6\" >3.09%</td>\n",
       "            </tr>\n",
       "            <tr>\n",
       "                                <td id=\"T_f09d2474_fd5d_11e9_b13d_701ce71031efrow1_col0\" class=\"data row1 col0\" >logistic</td>\n",
       "                        <td id=\"T_f09d2474_fd5d_11e9_b13d_701ce71031efrow1_col1\" class=\"data row1 col1\" >17451</td>\n",
       "                        <td id=\"T_f09d2474_fd5d_11e9_b13d_701ce71031efrow1_col2\" class=\"data row1 col2\" >6000</td>\n",
       "                        <td id=\"T_f09d2474_fd5d_11e9_b13d_701ce71031efrow1_col3\" class=\"data row1 col3\" >15000</td>\n",
       "                        <td id=\"T_f09d2474_fd5d_11e9_b13d_701ce71031efrow1_col4\" class=\"data row1 col4\" >40000</td>\n",
       "                        <td id=\"T_f09d2474_fd5d_11e9_b13d_701ce71031efrow1_col5\" class=\"data row1 col5\" >1775</td>\n",
       "                        <td id=\"T_f09d2474_fd5d_11e9_b13d_701ce71031efrow1_col6\" class=\"data row1 col6\" >1.34%</td>\n",
       "            </tr>\n",
       "            <tr>\n",
       "                                <td id=\"T_f09d2474_fd5d_11e9_b13d_701ce71031efrow2_col0\" class=\"data row2 col0\" >edu</td>\n",
       "                        <td id=\"T_f09d2474_fd5d_11e9_b13d_701ce71031efrow2_col1\" class=\"data row2 col1\" >16290</td>\n",
       "                        <td id=\"T_f09d2474_fd5d_11e9_b13d_701ce71031efrow2_col2\" class=\"data row2 col2\" >5463</td>\n",
       "                        <td id=\"T_f09d2474_fd5d_11e9_b13d_701ce71031efrow2_col3\" class=\"data row2 col3\" >14000</td>\n",
       "                        <td id=\"T_f09d2474_fd5d_11e9_b13d_701ce71031efrow2_col4\" class=\"data row2 col4\" >40000</td>\n",
       "                        <td id=\"T_f09d2474_fd5d_11e9_b13d_701ce71031efrow2_col5\" class=\"data row2 col5\" >8042</td>\n",
       "                        <td id=\"T_f09d2474_fd5d_11e9_b13d_701ce71031efrow2_col6\" class=\"data row2 col6\" >6.07%</td>\n",
       "            </tr>\n",
       "            <tr>\n",
       "                                <td id=\"T_f09d2474_fd5d_11e9_b13d_701ce71031efrow3_col0\" class=\"data row3 col0\" >computer</td>\n",
       "                        <td id=\"T_f09d2474_fd5d_11e9_b13d_701ce71031efrow3_col1\" class=\"data row3 col1\" >16020</td>\n",
       "                        <td id=\"T_f09d2474_fd5d_11e9_b13d_701ce71031efrow3_col2\" class=\"data row3 col2\" >5000</td>\n",
       "                        <td id=\"T_f09d2474_fd5d_11e9_b13d_701ce71031efrow3_col3\" class=\"data row3 col3\" >14000</td>\n",
       "                        <td id=\"T_f09d2474_fd5d_11e9_b13d_701ce71031efrow3_col4\" class=\"data row3 col4\" >37500</td>\n",
       "                        <td id=\"T_f09d2474_fd5d_11e9_b13d_701ce71031efrow3_col5\" class=\"data row3 col5\" >101711</td>\n",
       "                        <td id=\"T_f09d2474_fd5d_11e9_b13d_701ce71031efrow3_col6\" class=\"data row3 col6\" >76.75%</td>\n",
       "            </tr>\n",
       "            <tr>\n",
       "                                <td id=\"T_f09d2474_fd5d_11e9_b13d_701ce71031efrow4_col0\" class=\"data row4 col0\" >service</td>\n",
       "                        <td id=\"T_f09d2474_fd5d_11e9_b13d_701ce71031efrow4_col1\" class=\"data row4 col1\" >15504</td>\n",
       "                        <td id=\"T_f09d2474_fd5d_11e9_b13d_701ce71031efrow4_col2\" class=\"data row4 col2\" >4300</td>\n",
       "                        <td id=\"T_f09d2474_fd5d_11e9_b13d_701ce71031efrow4_col3\" class=\"data row4 col3\" >15000</td>\n",
       "                        <td id=\"T_f09d2474_fd5d_11e9_b13d_701ce71031efrow4_col4\" class=\"data row4 col4\" >30000</td>\n",
       "                        <td id=\"T_f09d2474_fd5d_11e9_b13d_701ce71031efrow4_col5\" class=\"data row4 col5\" >1028</td>\n",
       "                        <td id=\"T_f09d2474_fd5d_11e9_b13d_701ce71031efrow4_col6\" class=\"data row4 col6\" >0.78%</td>\n",
       "            </tr>\n",
       "            <tr>\n",
       "                                <td id=\"T_f09d2474_fd5d_11e9_b13d_701ce71031efrow5_col0\" class=\"data row5 col0\" >gov</td>\n",
       "                        <td id=\"T_f09d2474_fd5d_11e9_b13d_701ce71031efrow5_col1\" class=\"data row5 col1\" >15424</td>\n",
       "                        <td id=\"T_f09d2474_fd5d_11e9_b13d_701ce71031efrow5_col2\" class=\"data row5 col2\" >2500</td>\n",
       "                        <td id=\"T_f09d2474_fd5d_11e9_b13d_701ce71031efrow5_col3\" class=\"data row5 col3\" >13500</td>\n",
       "                        <td id=\"T_f09d2474_fd5d_11e9_b13d_701ce71031efrow5_col4\" class=\"data row5 col4\" >33736</td>\n",
       "                        <td id=\"T_f09d2474_fd5d_11e9_b13d_701ce71031efrow5_col5\" class=\"data row5 col5\" >1631</td>\n",
       "                        <td id=\"T_f09d2474_fd5d_11e9_b13d_701ce71031efrow5_col6\" class=\"data row5 col6\" >1.23%</td>\n",
       "            </tr>\n",
       "            <tr>\n",
       "                                <td id=\"T_f09d2474_fd5d_11e9_b13d_701ce71031efrow6_col0\" class=\"data row6 col0\" >energy</td>\n",
       "                        <td id=\"T_f09d2474_fd5d_11e9_b13d_701ce71031efrow6_col1\" class=\"data row6 col1\" >15218</td>\n",
       "                        <td id=\"T_f09d2474_fd5d_11e9_b13d_701ce71031efrow6_col2\" class=\"data row6 col2\" >3750</td>\n",
       "                        <td id=\"T_f09d2474_fd5d_11e9_b13d_701ce71031efrow6_col3\" class=\"data row6 col3\" >15000</td>\n",
       "                        <td id=\"T_f09d2474_fd5d_11e9_b13d_701ce71031efrow6_col4\" class=\"data row6 col4\" >35000</td>\n",
       "                        <td id=\"T_f09d2474_fd5d_11e9_b13d_701ce71031efrow6_col5\" class=\"data row6 col5\" >1140</td>\n",
       "                        <td id=\"T_f09d2474_fd5d_11e9_b13d_701ce71031efrow6_col6\" class=\"data row6 col6\" >0.86%</td>\n",
       "            </tr>\n",
       "            <tr>\n",
       "                                <td id=\"T_f09d2474_fd5d_11e9_b13d_701ce71031efrow7_col0\" class=\"data row7 col0\" >trade</td>\n",
       "                        <td id=\"T_f09d2474_fd5d_11e9_b13d_701ce71031efrow7_col1\" class=\"data row7 col1\" >15198</td>\n",
       "                        <td id=\"T_f09d2474_fd5d_11e9_b13d_701ce71031efrow7_col2\" class=\"data row7 col2\" >5060</td>\n",
       "                        <td id=\"T_f09d2474_fd5d_11e9_b13d_701ce71031efrow7_col3\" class=\"data row7 col3\" >14000</td>\n",
       "                        <td id=\"T_f09d2474_fd5d_11e9_b13d_701ce71031efrow7_col4\" class=\"data row7 col4\" >33489</td>\n",
       "                        <td id=\"T_f09d2474_fd5d_11e9_b13d_701ce71031efrow7_col5\" class=\"data row7 col5\" >7148</td>\n",
       "                        <td id=\"T_f09d2474_fd5d_11e9_b13d_701ce71031efrow7_col6\" class=\"data row7 col6\" >5.39%</td>\n",
       "            </tr>\n",
       "            <tr>\n",
       "                                <td id=\"T_f09d2474_fd5d_11e9_b13d_701ce71031efrow8_col0\" class=\"data row8 col0\" >realestate</td>\n",
       "                        <td id=\"T_f09d2474_fd5d_11e9_b13d_701ce71031efrow8_col1\" class=\"data row8 col1\" >14888</td>\n",
       "                        <td id=\"T_f09d2474_fd5d_11e9_b13d_701ce71031efrow8_col2\" class=\"data row8 col2\" >3986</td>\n",
       "                        <td id=\"T_f09d2474_fd5d_11e9_b13d_701ce71031efrow8_col3\" class=\"data row8 col3\" >12500</td>\n",
       "                        <td id=\"T_f09d2474_fd5d_11e9_b13d_701ce71031efrow8_col4\" class=\"data row8 col4\" >31500</td>\n",
       "                        <td id=\"T_f09d2474_fd5d_11e9_b13d_701ce71031efrow8_col5\" class=\"data row8 col5\" >1812</td>\n",
       "                        <td id=\"T_f09d2474_fd5d_11e9_b13d_701ce71031efrow8_col6\" class=\"data row8 col6\" >1.37%</td>\n",
       "            </tr>\n",
       "            <tr>\n",
       "                                <td id=\"T_f09d2474_fd5d_11e9_b13d_701ce71031efrow9_col0\" class=\"data row9 col0\" >ads</td>\n",
       "                        <td id=\"T_f09d2474_fd5d_11e9_b13d_701ce71031efrow9_col1\" class=\"data row9 col1\" >14781</td>\n",
       "                        <td id=\"T_f09d2474_fd5d_11e9_b13d_701ce71031efrow9_col2\" class=\"data row9 col2\" >5250</td>\n",
       "                        <td id=\"T_f09d2474_fd5d_11e9_b13d_701ce71031efrow9_col3\" class=\"data row9 col3\" >12500</td>\n",
       "                        <td id=\"T_f09d2474_fd5d_11e9_b13d_701ce71031efrow9_col4\" class=\"data row9 col4\" >33725</td>\n",
       "                        <td id=\"T_f09d2474_fd5d_11e9_b13d_701ce71031efrow9_col5\" class=\"data row9 col5\" >1402</td>\n",
       "                        <td id=\"T_f09d2474_fd5d_11e9_b13d_701ce71031efrow9_col6\" class=\"data row9 col6\" >1.06%</td>\n",
       "            </tr>\n",
       "            <tr>\n",
       "                                <td id=\"T_f09d2474_fd5d_11e9_b13d_701ce71031efrow10_col0\" class=\"data row10 col0\" >medical</td>\n",
       "                        <td id=\"T_f09d2474_fd5d_11e9_b13d_701ce71031efrow10_col1\" class=\"data row10 col1\" >14586</td>\n",
       "                        <td id=\"T_f09d2474_fd5d_11e9_b13d_701ce71031efrow10_col2\" class=\"data row10 col2\" >5000</td>\n",
       "                        <td id=\"T_f09d2474_fd5d_11e9_b13d_701ce71031efrow10_col3\" class=\"data row10 col3\" >13000</td>\n",
       "                        <td id=\"T_f09d2474_fd5d_11e9_b13d_701ce71031efrow10_col4\" class=\"data row10 col4\" >30000</td>\n",
       "                        <td id=\"T_f09d2474_fd5d_11e9_b13d_701ce71031efrow10_col5\" class=\"data row10 col5\" >2747</td>\n",
       "                        <td id=\"T_f09d2474_fd5d_11e9_b13d_701ce71031efrow10_col6\" class=\"data row10 col6\" >2.07%</td>\n",
       "            </tr>\n",
       "    </tbody></table>"
      ],
      "text/plain": [
       "<pandas.io.formats.style.Styler at 0x1d556918748>"
      ]
     },
     "execution_count": 71,
     "metadata": {},
     "output_type": "execute_result"
    }
   ],
   "source": [
    "data_industry=get_sub_stats_by_col(data,'industry')\n",
    "apply_style(data_industry)"
   ]
  },
  {
   "cell_type": "code",
   "execution_count": null,
   "metadata": {},
   "outputs": [],
   "source": []
  },
  {
   "cell_type": "code",
   "execution_count": null,
   "metadata": {},
   "outputs": [],
   "source": []
  }
 ],
 "metadata": {
  "kernelspec": {
   "display_name": "Python 3",
   "language": "python",
   "name": "python3"
  },
  "language_info": {
   "codemirror_mode": {
    "name": "ipython",
    "version": 3
   },
   "file_extension": ".py",
   "mimetype": "text/x-python",
   "name": "python",
   "nbconvert_exporter": "python",
   "pygments_lexer": "ipython3",
   "version": "3.7.4"
  }
 },
 "nbformat": 4,
 "nbformat_minor": 2
}
