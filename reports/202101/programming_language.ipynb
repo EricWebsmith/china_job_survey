{
 "cells": [
  {
   "cell_type": "code",
   "execution_count": 1,
   "metadata": {},
   "outputs": [],
   "source": [
    "from config import *\n"
   ]
  },
  {
   "cell_type": "code",
   "execution_count": 2,
   "metadata": {},
   "outputs": [
    {
     "name": "stdout",
     "output_type": "stream",
     "text": [
      "2021年1月\n"
     ]
    }
   ],
   "source": [
    "print(f'{year}年{month}月')"
   ]
  },
  {
   "cell_type": "code",
   "execution_count": 3,
   "metadata": {},
   "outputs": [],
   "source": [
    "import pandas as pd\n",
    "import sys\n",
    "sys.path.append('../../py')\n",
    "import db\n",
    "import weighted\n",
    "import inspect\n",
    "import matplotlib.pyplot as plt\n",
    "import scipy.stats as stats\n",
    "import numpy as np\n",
    "%matplotlib inline"
   ]
  },
  {
   "cell_type": "code",
   "execution_count": 4,
   "metadata": {},
   "outputs": [],
   "source": [
    "data_original=pd.read_sql(sql=f\"select * from jobs where year_month={year}{month:02} and monthly_salary>0 and monthly_salary<80000\", con=db.get_conn())"
   ]
  },
  {
   "cell_type": "code",
   "execution_count": 5,
   "metadata": {},
   "outputs": [
    {
     "data": {
      "text/plain": [
       "(123201, 119)"
      ]
     },
     "execution_count": 5,
     "metadata": {},
     "output_type": "execute_result"
    }
   ],
   "source": [
    "data_original.shape"
   ]
  },
  {
   "cell_type": "code",
   "execution_count": 6,
   "metadata": {},
   "outputs": [],
   "source": [
    "data = data_original"
   ]
  },
  {
   "cell_type": "code",
   "execution_count": null,
   "metadata": {},
   "outputs": [],
   "source": []
  },
  {
   "cell_type": "code",
   "execution_count": null,
   "metadata": {},
   "outputs": [],
   "source": []
  },
  {
   "cell_type": "code",
   "execution_count": 7,
   "metadata": {},
   "outputs": [],
   "source": [
    "del data['publish_date']\n",
    "del data['published_on_weekend']\n",
    "del data['title']\n",
    "#del data['company_title']\n",
    "#del data['company_description']\n",
    "del data['job_description']\n",
    "del data['job_id']"
   ]
  },
  {
   "cell_type": "code",
   "execution_count": 8,
   "metadata": {},
   "outputs": [],
   "source": [
    "def get_sub_stats_by_prefix(data, prefix):\n",
    "    \n",
    "    features = [feature for feature in data.columns if feature.startswith(prefix)]\n",
    "    salary_mean=[]\n",
    "    salary_median=[]\n",
    "    salary_95_min=[]\n",
    "    salary_95_max=[]\n",
    "    count=[]\n",
    "    \n",
    "    features_out=[]\n",
    "    for feature in features:\n",
    "        #print(feature)\n",
    "        idata=data[data[feature]==1]\n",
    "        headcount=idata.headcount.sum()\n",
    "        values = idata.monthly_salary.values\n",
    "        weights = idata.headcount.values\n",
    "        #print(str(headcount))\n",
    "        if headcount==0:\n",
    "            continue\n",
    "\n",
    "        imean = sum(values * weights) / sum(weights)\n",
    "        salary_mean.append(imean)        \n",
    "        \n",
    "        q = [0, 0, 0]\n",
    "        q[0] = weighted.quantile(values,weights,0.025)\n",
    "        q[1] = weighted.quantile(values,weights,0.5)\n",
    "        q[2] = weighted.quantile(values,weights,0.975)\n",
    "        salary_median.append(q[1])\n",
    "        salary_95_min.append(q[0])\n",
    "        salary_95_max.append(q[2])\n",
    "        count.append(idata.headcount.sum())\n",
    "        features_out.append(feature)\n",
    "    sub_data=pd.DataFrame()\n",
    "    sub_data['rank']=range(0,len(features_out))\n",
    "    sub_data[prefix]=[f.replace(prefix,'') for f in features_out]\n",
    "    sub_data['salary_mean']=salary_mean\n",
    "    sub_data['salary_median']=salary_median\n",
    "    sub_data['salary_95_min']=salary_95_min\n",
    "    sub_data['salary_95_max']=salary_95_max\n",
    "    sub_data['head_count']=count\n",
    "    sub_data['percentage']=count/np.sum(count)\n",
    "    sub_data.sort_values(by='salary_mean', ascending=False, inplace=True)\n",
    "    sub_data['rank']=range(1,len(features_out)+1)\n",
    "    #sub_data=sub_data.reset_index()\n",
    "    return sub_data\n",
    "\n",
    "def apply_style(sub_data):\n",
    "    return sub_data.style.hide_index().format(\n",
    "        {\"percentage\":\"{:.2%}\",\"salary_mean\":\"{:.0f}\",\"salary_median\":\"{:.0f}\",\"salary_95_min\":\"{:.0f}\",\"salary_95_max\":\"{:.0f}\"})"
   ]
  },
  {
   "cell_type": "code",
   "execution_count": 9,
   "metadata": {},
   "outputs": [],
   "source": [
    "data_pl=get_sub_stats_by_prefix(data,'pl_')"
   ]
  },
  {
   "cell_type": "code",
   "execution_count": 10,
   "metadata": {},
   "outputs": [
    {
     "data": {
      "text/html": [
       "<style  type=\"text/css\" >\n",
       "</style><table id=\"T_833e1c0f_4dd1_11eb_a9e8_001a7dda7113\" ><thead>    <tr>        <th class=\"col_heading level0 col0\" >rank</th>        <th class=\"col_heading level0 col1\" >pl_</th>        <th class=\"col_heading level0 col2\" >salary_mean</th>        <th class=\"col_heading level0 col3\" >salary_median</th>        <th class=\"col_heading level0 col4\" >salary_95_min</th>        <th class=\"col_heading level0 col5\" >salary_95_max</th>        <th class=\"col_heading level0 col6\" >head_count</th>        <th class=\"col_heading level0 col7\" >percentage</th>    </tr></thead><tbody>\n",
       "                <tr>\n",
       "                                <td id=\"T_833e1c0f_4dd1_11eb_a9e8_001a7dda7113row0_col0\" class=\"data row0 col0\" >1</td>\n",
       "                        <td id=\"T_833e1c0f_4dd1_11eb_a9e8_001a7dda7113row0_col1\" class=\"data row0 col1\" >haskell</td>\n",
       "                        <td id=\"T_833e1c0f_4dd1_11eb_a9e8_001a7dda7113row0_col2\" class=\"data row0 col2\" >25167</td>\n",
       "                        <td id=\"T_833e1c0f_4dd1_11eb_a9e8_001a7dda7113row0_col3\" class=\"data row0 col3\" >22500</td>\n",
       "                        <td id=\"T_833e1c0f_4dd1_11eb_a9e8_001a7dda7113row0_col4\" class=\"data row0 col4\" >20000</td>\n",
       "                        <td id=\"T_833e1c0f_4dd1_11eb_a9e8_001a7dda7113row0_col5\" class=\"data row0 col5\" >33000</td>\n",
       "                        <td id=\"T_833e1c0f_4dd1_11eb_a9e8_001a7dda7113row0_col6\" class=\"data row0 col6\" >3</td>\n",
       "                        <td id=\"T_833e1c0f_4dd1_11eb_a9e8_001a7dda7113row0_col7\" class=\"data row0 col7\" >0.00%</td>\n",
       "            </tr>\n",
       "            <tr>\n",
       "                                <td id=\"T_833e1c0f_4dd1_11eb_a9e8_001a7dda7113row1_col0\" class=\"data row1 col0\" >2</td>\n",
       "                        <td id=\"T_833e1c0f_4dd1_11eb_a9e8_001a7dda7113row1_col1\" class=\"data row1 col1\" >rust</td>\n",
       "                        <td id=\"T_833e1c0f_4dd1_11eb_a9e8_001a7dda7113row1_col2\" class=\"data row1 col2\" >21871</td>\n",
       "                        <td id=\"T_833e1c0f_4dd1_11eb_a9e8_001a7dda7113row1_col3\" class=\"data row1 col3\" >20000</td>\n",
       "                        <td id=\"T_833e1c0f_4dd1_11eb_a9e8_001a7dda7113row1_col4\" class=\"data row1 col4\" >5400</td>\n",
       "                        <td id=\"T_833e1c0f_4dd1_11eb_a9e8_001a7dda7113row1_col5\" class=\"data row1 col5\" >45000</td>\n",
       "                        <td id=\"T_833e1c0f_4dd1_11eb_a9e8_001a7dda7113row1_col6\" class=\"data row1 col6\" >628</td>\n",
       "                        <td id=\"T_833e1c0f_4dd1_11eb_a9e8_001a7dda7113row1_col7\" class=\"data row1 col7\" >0.12%</td>\n",
       "            </tr>\n",
       "            <tr>\n",
       "                                <td id=\"T_833e1c0f_4dd1_11eb_a9e8_001a7dda7113row2_col0\" class=\"data row2 col0\" >3</td>\n",
       "                        <td id=\"T_833e1c0f_4dd1_11eb_a9e8_001a7dda7113row2_col1\" class=\"data row2 col1\" >scala</td>\n",
       "                        <td id=\"T_833e1c0f_4dd1_11eb_a9e8_001a7dda7113row2_col2\" class=\"data row2 col2\" >19757</td>\n",
       "                        <td id=\"T_833e1c0f_4dd1_11eb_a9e8_001a7dda7113row2_col3\" class=\"data row2 col3\" >17500</td>\n",
       "                        <td id=\"T_833e1c0f_4dd1_11eb_a9e8_001a7dda7113row2_col4\" class=\"data row2 col4\" >7000</td>\n",
       "                        <td id=\"T_833e1c0f_4dd1_11eb_a9e8_001a7dda7113row2_col5\" class=\"data row2 col5\" >45000</td>\n",
       "                        <td id=\"T_833e1c0f_4dd1_11eb_a9e8_001a7dda7113row2_col6\" class=\"data row2 col6\" >3454</td>\n",
       "                        <td id=\"T_833e1c0f_4dd1_11eb_a9e8_001a7dda7113row2_col7\" class=\"data row2 col7\" >0.68%</td>\n",
       "            </tr>\n",
       "            <tr>\n",
       "                                <td id=\"T_833e1c0f_4dd1_11eb_a9e8_001a7dda7113row3_col0\" class=\"data row3 col0\" >4</td>\n",
       "                        <td id=\"T_833e1c0f_4dd1_11eb_a9e8_001a7dda7113row3_col1\" class=\"data row3 col1\" >julia</td>\n",
       "                        <td id=\"T_833e1c0f_4dd1_11eb_a9e8_001a7dda7113row3_col2\" class=\"data row3 col2\" >18705</td>\n",
       "                        <td id=\"T_833e1c0f_4dd1_11eb_a9e8_001a7dda7113row3_col3\" class=\"data row3 col3\" >20000</td>\n",
       "                        <td id=\"T_833e1c0f_4dd1_11eb_a9e8_001a7dda7113row3_col4\" class=\"data row3 col4\" >11500</td>\n",
       "                        <td id=\"T_833e1c0f_4dd1_11eb_a9e8_001a7dda7113row3_col5\" class=\"data row3 col5\" >32875</td>\n",
       "                        <td id=\"T_833e1c0f_4dd1_11eb_a9e8_001a7dda7113row3_col6\" class=\"data row3 col6\" >39</td>\n",
       "                        <td id=\"T_833e1c0f_4dd1_11eb_a9e8_001a7dda7113row3_col7\" class=\"data row3 col7\" >0.01%</td>\n",
       "            </tr>\n",
       "            <tr>\n",
       "                                <td id=\"T_833e1c0f_4dd1_11eb_a9e8_001a7dda7113row4_col0\" class=\"data row4 col0\" >5</td>\n",
       "                        <td id=\"T_833e1c0f_4dd1_11eb_a9e8_001a7dda7113row4_col1\" class=\"data row4 col1\" >go</td>\n",
       "                        <td id=\"T_833e1c0f_4dd1_11eb_a9e8_001a7dda7113row4_col2\" class=\"data row4 col2\" >18637</td>\n",
       "                        <td id=\"T_833e1c0f_4dd1_11eb_a9e8_001a7dda7113row4_col3\" class=\"data row4 col3\" >16000</td>\n",
       "                        <td id=\"T_833e1c0f_4dd1_11eb_a9e8_001a7dda7113row4_col4\" class=\"data row4 col4\" >7000</td>\n",
       "                        <td id=\"T_833e1c0f_4dd1_11eb_a9e8_001a7dda7113row4_col5\" class=\"data row4 col5\" >45000</td>\n",
       "                        <td id=\"T_833e1c0f_4dd1_11eb_a9e8_001a7dda7113row4_col6\" class=\"data row4 col6\" >33919</td>\n",
       "                        <td id=\"T_833e1c0f_4dd1_11eb_a9e8_001a7dda7113row4_col7\" class=\"data row4 col7\" >6.64%</td>\n",
       "            </tr>\n",
       "            <tr>\n",
       "                                <td id=\"T_833e1c0f_4dd1_11eb_a9e8_001a7dda7113row5_col0\" class=\"data row5 col0\" >6</td>\n",
       "                        <td id=\"T_833e1c0f_4dd1_11eb_a9e8_001a7dda7113row5_col1\" class=\"data row5 col1\" >lua</td>\n",
       "                        <td id=\"T_833e1c0f_4dd1_11eb_a9e8_001a7dda7113row5_col2\" class=\"data row5 col2\" >18446</td>\n",
       "                        <td id=\"T_833e1c0f_4dd1_11eb_a9e8_001a7dda7113row5_col3\" class=\"data row5 col3\" >17500</td>\n",
       "                        <td id=\"T_833e1c0f_4dd1_11eb_a9e8_001a7dda7113row5_col4\" class=\"data row5 col4\" >7000</td>\n",
       "                        <td id=\"T_833e1c0f_4dd1_11eb_a9e8_001a7dda7113row5_col5\" class=\"data row5 col5\" >41666</td>\n",
       "                        <td id=\"T_833e1c0f_4dd1_11eb_a9e8_001a7dda7113row5_col6\" class=\"data row5 col6\" >3716</td>\n",
       "                        <td id=\"T_833e1c0f_4dd1_11eb_a9e8_001a7dda7113row5_col7\" class=\"data row5 col7\" >0.73%</td>\n",
       "            </tr>\n",
       "            <tr>\n",
       "                                <td id=\"T_833e1c0f_4dd1_11eb_a9e8_001a7dda7113row6_col0\" class=\"data row6 col0\" >7</td>\n",
       "                        <td id=\"T_833e1c0f_4dd1_11eb_a9e8_001a7dda7113row6_col1\" class=\"data row6 col1\" >python</td>\n",
       "                        <td id=\"T_833e1c0f_4dd1_11eb_a9e8_001a7dda7113row6_col2\" class=\"data row6 col2\" >18271</td>\n",
       "                        <td id=\"T_833e1c0f_4dd1_11eb_a9e8_001a7dda7113row6_col3\" class=\"data row6 col3\" >16000</td>\n",
       "                        <td id=\"T_833e1c0f_4dd1_11eb_a9e8_001a7dda7113row6_col4\" class=\"data row6 col4\" >6000</td>\n",
       "                        <td id=\"T_833e1c0f_4dd1_11eb_a9e8_001a7dda7113row6_col5\" class=\"data row6 col5\" >45000</td>\n",
       "                        <td id=\"T_833e1c0f_4dd1_11eb_a9e8_001a7dda7113row6_col6\" class=\"data row6 col6\" >41441</td>\n",
       "                        <td id=\"T_833e1c0f_4dd1_11eb_a9e8_001a7dda7113row6_col7\" class=\"data row6 col7\" >8.11%</td>\n",
       "            </tr>\n",
       "            <tr>\n",
       "                                <td id=\"T_833e1c0f_4dd1_11eb_a9e8_001a7dda7113row7_col0\" class=\"data row7 col0\" >8</td>\n",
       "                        <td id=\"T_833e1c0f_4dd1_11eb_a9e8_001a7dda7113row7_col1\" class=\"data row7 col1\" >perl</td>\n",
       "                        <td id=\"T_833e1c0f_4dd1_11eb_a9e8_001a7dda7113row7_col2\" class=\"data row7 col2\" >17822</td>\n",
       "                        <td id=\"T_833e1c0f_4dd1_11eb_a9e8_001a7dda7113row7_col3\" class=\"data row7 col3\" >15916</td>\n",
       "                        <td id=\"T_833e1c0f_4dd1_11eb_a9e8_001a7dda7113row7_col4\" class=\"data row7 col4\" >6479</td>\n",
       "                        <td id=\"T_833e1c0f_4dd1_11eb_a9e8_001a7dda7113row7_col5\" class=\"data row7 col5\" >40000</td>\n",
       "                        <td id=\"T_833e1c0f_4dd1_11eb_a9e8_001a7dda7113row7_col6\" class=\"data row7 col6\" >2638</td>\n",
       "                        <td id=\"T_833e1c0f_4dd1_11eb_a9e8_001a7dda7113row7_col7\" class=\"data row7 col7\" >0.52%</td>\n",
       "            </tr>\n",
       "            <tr>\n",
       "                                <td id=\"T_833e1c0f_4dd1_11eb_a9e8_001a7dda7113row8_col0\" class=\"data row8 col0\" >9</td>\n",
       "                        <td id=\"T_833e1c0f_4dd1_11eb_a9e8_001a7dda7113row8_col1\" class=\"data row8 col1\" >swift</td>\n",
       "                        <td id=\"T_833e1c0f_4dd1_11eb_a9e8_001a7dda7113row8_col2\" class=\"data row8 col2\" >17770</td>\n",
       "                        <td id=\"T_833e1c0f_4dd1_11eb_a9e8_001a7dda7113row8_col3\" class=\"data row8 col3\" >15500</td>\n",
       "                        <td id=\"T_833e1c0f_4dd1_11eb_a9e8_001a7dda7113row8_col4\" class=\"data row8 col4\" >7000</td>\n",
       "                        <td id=\"T_833e1c0f_4dd1_11eb_a9e8_001a7dda7113row8_col5\" class=\"data row8 col5\" >39937</td>\n",
       "                        <td id=\"T_833e1c0f_4dd1_11eb_a9e8_001a7dda7113row8_col6\" class=\"data row8 col6\" >3025</td>\n",
       "                        <td id=\"T_833e1c0f_4dd1_11eb_a9e8_001a7dda7113row8_col7\" class=\"data row8 col7\" >0.59%</td>\n",
       "            </tr>\n",
       "            <tr>\n",
       "                                <td id=\"T_833e1c0f_4dd1_11eb_a9e8_001a7dda7113row9_col0\" class=\"data row9 col0\" >10</td>\n",
       "                        <td id=\"T_833e1c0f_4dd1_11eb_a9e8_001a7dda7113row9_col1\" class=\"data row9 col1\" >matlab</td>\n",
       "                        <td id=\"T_833e1c0f_4dd1_11eb_a9e8_001a7dda7113row9_col2\" class=\"data row9 col2\" >17515</td>\n",
       "                        <td id=\"T_833e1c0f_4dd1_11eb_a9e8_001a7dda7113row9_col3\" class=\"data row9 col3\" >17500</td>\n",
       "                        <td id=\"T_833e1c0f_4dd1_11eb_a9e8_001a7dda7113row9_col4\" class=\"data row9 col4\" >5250</td>\n",
       "                        <td id=\"T_833e1c0f_4dd1_11eb_a9e8_001a7dda7113row9_col5\" class=\"data row9 col5\" >35000</td>\n",
       "                        <td id=\"T_833e1c0f_4dd1_11eb_a9e8_001a7dda7113row9_col6\" class=\"data row9 col6\" >7340</td>\n",
       "                        <td id=\"T_833e1c0f_4dd1_11eb_a9e8_001a7dda7113row9_col7\" class=\"data row9 col7\" >1.44%</td>\n",
       "            </tr>\n",
       "            <tr>\n",
       "                                <td id=\"T_833e1c0f_4dd1_11eb_a9e8_001a7dda7113row10_col0\" class=\"data row10 col0\" >11</td>\n",
       "                        <td id=\"T_833e1c0f_4dd1_11eb_a9e8_001a7dda7113row10_col1\" class=\"data row10 col1\" >ruby</td>\n",
       "                        <td id=\"T_833e1c0f_4dd1_11eb_a9e8_001a7dda7113row10_col2\" class=\"data row10 col2\" >16920</td>\n",
       "                        <td id=\"T_833e1c0f_4dd1_11eb_a9e8_001a7dda7113row10_col3\" class=\"data row10 col3\" >14000</td>\n",
       "                        <td id=\"T_833e1c0f_4dd1_11eb_a9e8_001a7dda7113row10_col4\" class=\"data row10 col4\" >5256</td>\n",
       "                        <td id=\"T_833e1c0f_4dd1_11eb_a9e8_001a7dda7113row10_col5\" class=\"data row10 col5\" >37500</td>\n",
       "                        <td id=\"T_833e1c0f_4dd1_11eb_a9e8_001a7dda7113row10_col6\" class=\"data row10 col6\" >1104</td>\n",
       "                        <td id=\"T_833e1c0f_4dd1_11eb_a9e8_001a7dda7113row10_col7\" class=\"data row10 col7\" >0.22%</td>\n",
       "            </tr>\n",
       "            <tr>\n",
       "                                <td id=\"T_833e1c0f_4dd1_11eb_a9e8_001a7dda7113row11_col0\" class=\"data row11 col0\" >12</td>\n",
       "                        <td id=\"T_833e1c0f_4dd1_11eb_a9e8_001a7dda7113row11_col1\" class=\"data row11 col1\" >kotlin</td>\n",
       "                        <td id=\"T_833e1c0f_4dd1_11eb_a9e8_001a7dda7113row11_col2\" class=\"data row11 col2\" >16881</td>\n",
       "                        <td id=\"T_833e1c0f_4dd1_11eb_a9e8_001a7dda7113row11_col3\" class=\"data row11 col3\" >15000</td>\n",
       "                        <td id=\"T_833e1c0f_4dd1_11eb_a9e8_001a7dda7113row11_col4\" class=\"data row11 col4\" >7000</td>\n",
       "                        <td id=\"T_833e1c0f_4dd1_11eb_a9e8_001a7dda7113row11_col5\" class=\"data row11 col5\" >32888</td>\n",
       "                        <td id=\"T_833e1c0f_4dd1_11eb_a9e8_001a7dda7113row11_col6\" class=\"data row11 col6\" >1989</td>\n",
       "                        <td id=\"T_833e1c0f_4dd1_11eb_a9e8_001a7dda7113row11_col7\" class=\"data row11 col7\" >0.39%</td>\n",
       "            </tr>\n",
       "            <tr>\n",
       "                                <td id=\"T_833e1c0f_4dd1_11eb_a9e8_001a7dda7113row12_col0\" class=\"data row12 col0\" >13</td>\n",
       "                        <td id=\"T_833e1c0f_4dd1_11eb_a9e8_001a7dda7113row12_col1\" class=\"data row12 col1\" >cpp</td>\n",
       "                        <td id=\"T_833e1c0f_4dd1_11eb_a9e8_001a7dda7113row12_col2\" class=\"data row12 col2\" >15925</td>\n",
       "                        <td id=\"T_833e1c0f_4dd1_11eb_a9e8_001a7dda7113row12_col3\" class=\"data row12 col3\" >14000</td>\n",
       "                        <td id=\"T_833e1c0f_4dd1_11eb_a9e8_001a7dda7113row12_col4\" class=\"data row12 col4\" >5500</td>\n",
       "                        <td id=\"T_833e1c0f_4dd1_11eb_a9e8_001a7dda7113row12_col5\" class=\"data row12 col5\" >37500</td>\n",
       "                        <td id=\"T_833e1c0f_4dd1_11eb_a9e8_001a7dda7113row12_col6\" class=\"data row12 col6\" >132539</td>\n",
       "                        <td id=\"T_833e1c0f_4dd1_11eb_a9e8_001a7dda7113row12_col7\" class=\"data row12 col7\" >25.93%</td>\n",
       "            </tr>\n",
       "            <tr>\n",
       "                                <td id=\"T_833e1c0f_4dd1_11eb_a9e8_001a7dda7113row13_col0\" class=\"data row13 col0\" >14</td>\n",
       "                        <td id=\"T_833e1c0f_4dd1_11eb_a9e8_001a7dda7113row13_col1\" class=\"data row13 col1\" >r</td>\n",
       "                        <td id=\"T_833e1c0f_4dd1_11eb_a9e8_001a7dda7113row13_col2\" class=\"data row13 col2\" >15724</td>\n",
       "                        <td id=\"T_833e1c0f_4dd1_11eb_a9e8_001a7dda7113row13_col3\" class=\"data row13 col3\" >14000</td>\n",
       "                        <td id=\"T_833e1c0f_4dd1_11eb_a9e8_001a7dda7113row13_col4\" class=\"data row13 col4\" >5250</td>\n",
       "                        <td id=\"T_833e1c0f_4dd1_11eb_a9e8_001a7dda7113row13_col5\" class=\"data row13 col5\" >37500</td>\n",
       "                        <td id=\"T_833e1c0f_4dd1_11eb_a9e8_001a7dda7113row13_col6\" class=\"data row13 col6\" >5669</td>\n",
       "                        <td id=\"T_833e1c0f_4dd1_11eb_a9e8_001a7dda7113row13_col7\" class=\"data row13 col7\" >1.11%</td>\n",
       "            </tr>\n",
       "            <tr>\n",
       "                                <td id=\"T_833e1c0f_4dd1_11eb_a9e8_001a7dda7113row14_col0\" class=\"data row14 col0\" >15</td>\n",
       "                        <td id=\"T_833e1c0f_4dd1_11eb_a9e8_001a7dda7113row14_col1\" class=\"data row14 col1\" >typescript</td>\n",
       "                        <td id=\"T_833e1c0f_4dd1_11eb_a9e8_001a7dda7113row14_col2\" class=\"data row14 col2\" >15434</td>\n",
       "                        <td id=\"T_833e1c0f_4dd1_11eb_a9e8_001a7dda7113row14_col3\" class=\"data row14 col3\" >13500</td>\n",
       "                        <td id=\"T_833e1c0f_4dd1_11eb_a9e8_001a7dda7113row14_col4\" class=\"data row14 col4\" >7000</td>\n",
       "                        <td id=\"T_833e1c0f_4dd1_11eb_a9e8_001a7dda7113row14_col5\" class=\"data row14 col5\" >36875</td>\n",
       "                        <td id=\"T_833e1c0f_4dd1_11eb_a9e8_001a7dda7113row14_col6\" class=\"data row14 col6\" >4255</td>\n",
       "                        <td id=\"T_833e1c0f_4dd1_11eb_a9e8_001a7dda7113row14_col7\" class=\"data row14 col7\" >0.83%</td>\n",
       "            </tr>\n",
       "            <tr>\n",
       "                                <td id=\"T_833e1c0f_4dd1_11eb_a9e8_001a7dda7113row15_col0\" class=\"data row15 col0\" >16</td>\n",
       "                        <td id=\"T_833e1c0f_4dd1_11eb_a9e8_001a7dda7113row15_col1\" class=\"data row15 col1\" >java</td>\n",
       "                        <td id=\"T_833e1c0f_4dd1_11eb_a9e8_001a7dda7113row15_col2\" class=\"data row15 col2\" >14988</td>\n",
       "                        <td id=\"T_833e1c0f_4dd1_11eb_a9e8_001a7dda7113row15_col3\" class=\"data row15 col3\" >12500</td>\n",
       "                        <td id=\"T_833e1c0f_4dd1_11eb_a9e8_001a7dda7113row15_col4\" class=\"data row15 col4\" >5250</td>\n",
       "                        <td id=\"T_833e1c0f_4dd1_11eb_a9e8_001a7dda7113row15_col5\" class=\"data row15 col5\" >35000</td>\n",
       "                        <td id=\"T_833e1c0f_4dd1_11eb_a9e8_001a7dda7113row15_col6\" class=\"data row15 col6\" >141972</td>\n",
       "                        <td id=\"T_833e1c0f_4dd1_11eb_a9e8_001a7dda7113row15_col7\" class=\"data row15 col7\" >27.78%</td>\n",
       "            </tr>\n",
       "            <tr>\n",
       "                                <td id=\"T_833e1c0f_4dd1_11eb_a9e8_001a7dda7113row16_col0\" class=\"data row16 col0\" >17</td>\n",
       "                        <td id=\"T_833e1c0f_4dd1_11eb_a9e8_001a7dda7113row16_col1\" class=\"data row16 col1\" >php</td>\n",
       "                        <td id=\"T_833e1c0f_4dd1_11eb_a9e8_001a7dda7113row16_col2\" class=\"data row16 col2\" >14476</td>\n",
       "                        <td id=\"T_833e1c0f_4dd1_11eb_a9e8_001a7dda7113row16_col3\" class=\"data row16 col3\" >12500</td>\n",
       "                        <td id=\"T_833e1c0f_4dd1_11eb_a9e8_001a7dda7113row16_col4\" class=\"data row16 col4\" >5000</td>\n",
       "                        <td id=\"T_833e1c0f_4dd1_11eb_a9e8_001a7dda7113row16_col5\" class=\"data row16 col5\" >37500</td>\n",
       "                        <td id=\"T_833e1c0f_4dd1_11eb_a9e8_001a7dda7113row16_col6\" class=\"data row16 col6\" >14200</td>\n",
       "                        <td id=\"T_833e1c0f_4dd1_11eb_a9e8_001a7dda7113row16_col7\" class=\"data row16 col7\" >2.78%</td>\n",
       "            </tr>\n",
       "            <tr>\n",
       "                                <td id=\"T_833e1c0f_4dd1_11eb_a9e8_001a7dda7113row17_col0\" class=\"data row17 col0\" >18</td>\n",
       "                        <td id=\"T_833e1c0f_4dd1_11eb_a9e8_001a7dda7113row17_col1\" class=\"data row17 col1\" >objective_c</td>\n",
       "                        <td id=\"T_833e1c0f_4dd1_11eb_a9e8_001a7dda7113row17_col2\" class=\"data row17 col2\" >14062</td>\n",
       "                        <td id=\"T_833e1c0f_4dd1_11eb_a9e8_001a7dda7113row17_col3\" class=\"data row17 col3\" >12500</td>\n",
       "                        <td id=\"T_833e1c0f_4dd1_11eb_a9e8_001a7dda7113row17_col4\" class=\"data row17 col4\" >7338</td>\n",
       "                        <td id=\"T_833e1c0f_4dd1_11eb_a9e8_001a7dda7113row17_col5\" class=\"data row17 col5\" >30000</td>\n",
       "                        <td id=\"T_833e1c0f_4dd1_11eb_a9e8_001a7dda7113row17_col6\" class=\"data row17 col6\" >127</td>\n",
       "                        <td id=\"T_833e1c0f_4dd1_11eb_a9e8_001a7dda7113row17_col7\" class=\"data row17 col7\" >0.02%</td>\n",
       "            </tr>\n",
       "            <tr>\n",
       "                                <td id=\"T_833e1c0f_4dd1_11eb_a9e8_001a7dda7113row18_col0\" class=\"data row18 col0\" >19</td>\n",
       "                        <td id=\"T_833e1c0f_4dd1_11eb_a9e8_001a7dda7113row18_col1\" class=\"data row18 col1\" >c_sharp</td>\n",
       "                        <td id=\"T_833e1c0f_4dd1_11eb_a9e8_001a7dda7113row18_col2\" class=\"data row18 col2\" >13086</td>\n",
       "                        <td id=\"T_833e1c0f_4dd1_11eb_a9e8_001a7dda7113row18_col3\" class=\"data row18 col3\" >12500</td>\n",
       "                        <td id=\"T_833e1c0f_4dd1_11eb_a9e8_001a7dda7113row18_col4\" class=\"data row18 col4\" >5250</td>\n",
       "                        <td id=\"T_833e1c0f_4dd1_11eb_a9e8_001a7dda7113row18_col5\" class=\"data row18 col5\" >27500</td>\n",
       "                        <td id=\"T_833e1c0f_4dd1_11eb_a9e8_001a7dda7113row18_col6\" class=\"data row18 col6\" >42137</td>\n",
       "                        <td id=\"T_833e1c0f_4dd1_11eb_a9e8_001a7dda7113row18_col7\" class=\"data row18 col7\" >8.24%</td>\n",
       "            </tr>\n",
       "            <tr>\n",
       "                                <td id=\"T_833e1c0f_4dd1_11eb_a9e8_001a7dda7113row19_col0\" class=\"data row19 col0\" >20</td>\n",
       "                        <td id=\"T_833e1c0f_4dd1_11eb_a9e8_001a7dda7113row19_col1\" class=\"data row19 col1\" >javascript</td>\n",
       "                        <td id=\"T_833e1c0f_4dd1_11eb_a9e8_001a7dda7113row19_col2\" class=\"data row19 col2\" >13058</td>\n",
       "                        <td id=\"T_833e1c0f_4dd1_11eb_a9e8_001a7dda7113row19_col3\" class=\"data row19 col3\" >12500</td>\n",
       "                        <td id=\"T_833e1c0f_4dd1_11eb_a9e8_001a7dda7113row19_col4\" class=\"data row19 col4\" >5250</td>\n",
       "                        <td id=\"T_833e1c0f_4dd1_11eb_a9e8_001a7dda7113row19_col5\" class=\"data row19 col5\" >27500</td>\n",
       "                        <td id=\"T_833e1c0f_4dd1_11eb_a9e8_001a7dda7113row19_col6\" class=\"data row19 col6\" >69178</td>\n",
       "                        <td id=\"T_833e1c0f_4dd1_11eb_a9e8_001a7dda7113row19_col7\" class=\"data row19 col7\" >13.54%</td>\n",
       "            </tr>\n",
       "            <tr>\n",
       "                                <td id=\"T_833e1c0f_4dd1_11eb_a9e8_001a7dda7113row20_col0\" class=\"data row20 col0\" >21</td>\n",
       "                        <td id=\"T_833e1c0f_4dd1_11eb_a9e8_001a7dda7113row20_col1\" class=\"data row20 col1\" >visual_basic</td>\n",
       "                        <td id=\"T_833e1c0f_4dd1_11eb_a9e8_001a7dda7113row20_col2\" class=\"data row20 col2\" >12364</td>\n",
       "                        <td id=\"T_833e1c0f_4dd1_11eb_a9e8_001a7dda7113row20_col3\" class=\"data row20 col3\" >12000</td>\n",
       "                        <td id=\"T_833e1c0f_4dd1_11eb_a9e8_001a7dda7113row20_col4\" class=\"data row20 col4\" >5250</td>\n",
       "                        <td id=\"T_833e1c0f_4dd1_11eb_a9e8_001a7dda7113row20_col5\" class=\"data row20 col5\" >22188</td>\n",
       "                        <td id=\"T_833e1c0f_4dd1_11eb_a9e8_001a7dda7113row20_col6\" class=\"data row20 col6\" >35</td>\n",
       "                        <td id=\"T_833e1c0f_4dd1_11eb_a9e8_001a7dda7113row20_col7\" class=\"data row20 col7\" >0.01%</td>\n",
       "            </tr>\n",
       "            <tr>\n",
       "                                <td id=\"T_833e1c0f_4dd1_11eb_a9e8_001a7dda7113row21_col0\" class=\"data row21 col0\" >22</td>\n",
       "                        <td id=\"T_833e1c0f_4dd1_11eb_a9e8_001a7dda7113row21_col1\" class=\"data row21 col1\" >delphi</td>\n",
       "                        <td id=\"T_833e1c0f_4dd1_11eb_a9e8_001a7dda7113row21_col2\" class=\"data row21 col2\" >11232</td>\n",
       "                        <td id=\"T_833e1c0f_4dd1_11eb_a9e8_001a7dda7113row21_col3\" class=\"data row21 col3\" >10416</td>\n",
       "                        <td id=\"T_833e1c0f_4dd1_11eb_a9e8_001a7dda7113row21_col4\" class=\"data row21 col4\" >5250</td>\n",
       "                        <td id=\"T_833e1c0f_4dd1_11eb_a9e8_001a7dda7113row21_col5\" class=\"data row21 col5\" >22500</td>\n",
       "                        <td id=\"T_833e1c0f_4dd1_11eb_a9e8_001a7dda7113row21_col6\" class=\"data row21 col6\" >877</td>\n",
       "                        <td id=\"T_833e1c0f_4dd1_11eb_a9e8_001a7dda7113row21_col7\" class=\"data row21 col7\" >0.17%</td>\n",
       "            </tr>\n",
       "            <tr>\n",
       "                                <td id=\"T_833e1c0f_4dd1_11eb_a9e8_001a7dda7113row22_col0\" class=\"data row22 col0\" >23</td>\n",
       "                        <td id=\"T_833e1c0f_4dd1_11eb_a9e8_001a7dda7113row22_col1\" class=\"data row22 col1\" >vba</td>\n",
       "                        <td id=\"T_833e1c0f_4dd1_11eb_a9e8_001a7dda7113row22_col2\" class=\"data row22 col2\" >9996</td>\n",
       "                        <td id=\"T_833e1c0f_4dd1_11eb_a9e8_001a7dda7113row22_col3\" class=\"data row22 col3\" >9000</td>\n",
       "                        <td id=\"T_833e1c0f_4dd1_11eb_a9e8_001a7dda7113row22_col4\" class=\"data row22 col4\" >5000</td>\n",
       "                        <td id=\"T_833e1c0f_4dd1_11eb_a9e8_001a7dda7113row22_col5\" class=\"data row22 col5\" >20833</td>\n",
       "                        <td id=\"T_833e1c0f_4dd1_11eb_a9e8_001a7dda7113row22_col6\" class=\"data row22 col6\" >817</td>\n",
       "                        <td id=\"T_833e1c0f_4dd1_11eb_a9e8_001a7dda7113row22_col7\" class=\"data row22 col7\" >0.16%</td>\n",
       "            </tr>\n",
       "    </tbody></table>"
      ],
      "text/plain": [
       "<pandas.io.formats.style.Styler at 0x1ae9968ebb0>"
      ]
     },
     "execution_count": 10,
     "metadata": {},
     "output_type": "execute_result"
    }
   ],
   "source": [
    "apply_style(data_pl)"
   ]
  },
  {
   "cell_type": "code",
   "execution_count": 11,
   "metadata": {},
   "outputs": [
    {
     "data": {
      "text/plain": [
       "(23, 8)"
      ]
     },
     "execution_count": 11,
     "metadata": {},
     "output_type": "execute_result"
    }
   ],
   "source": [
    "data_pl.shape"
   ]
  },
  {
   "cell_type": "code",
   "execution_count": 12,
   "metadata": {},
   "outputs": [],
   "source": [
    "data_pl=data_pl[['pl_','percentage']].sort_values(by='percentage', ascending=False)\n",
    "data_pl.reset_index(drop=True, inplace=True)"
   ]
  },
  {
   "cell_type": "code",
   "execution_count": 13,
   "metadata": {},
   "outputs": [
    {
     "data": {
      "text/html": [
       "<style  type=\"text/css\" >\n",
       "</style><table id=\"T_8345bcfb_4dd1_11eb_9364_001a7dda7113\" ><thead>    <tr>        <th class=\"col_heading level0 col0\" >rank</th>        <th class=\"col_heading level0 col1\" >pl_</th>        <th class=\"col_heading level0 col2\" >percentage</th>    </tr></thead><tbody>\n",
       "                <tr>\n",
       "                                <td id=\"T_8345bcfb_4dd1_11eb_9364_001a7dda7113row0_col0\" class=\"data row0 col0\" >1</td>\n",
       "                        <td id=\"T_8345bcfb_4dd1_11eb_9364_001a7dda7113row0_col1\" class=\"data row0 col1\" >java</td>\n",
       "                        <td id=\"T_8345bcfb_4dd1_11eb_9364_001a7dda7113row0_col2\" class=\"data row0 col2\" >27.78%</td>\n",
       "            </tr>\n",
       "            <tr>\n",
       "                                <td id=\"T_8345bcfb_4dd1_11eb_9364_001a7dda7113row1_col0\" class=\"data row1 col0\" >2</td>\n",
       "                        <td id=\"T_8345bcfb_4dd1_11eb_9364_001a7dda7113row1_col1\" class=\"data row1 col1\" >cpp</td>\n",
       "                        <td id=\"T_8345bcfb_4dd1_11eb_9364_001a7dda7113row1_col2\" class=\"data row1 col2\" >25.93%</td>\n",
       "            </tr>\n",
       "            <tr>\n",
       "                                <td id=\"T_8345bcfb_4dd1_11eb_9364_001a7dda7113row2_col0\" class=\"data row2 col0\" >3</td>\n",
       "                        <td id=\"T_8345bcfb_4dd1_11eb_9364_001a7dda7113row2_col1\" class=\"data row2 col1\" >javascript</td>\n",
       "                        <td id=\"T_8345bcfb_4dd1_11eb_9364_001a7dda7113row2_col2\" class=\"data row2 col2\" >13.54%</td>\n",
       "            </tr>\n",
       "            <tr>\n",
       "                                <td id=\"T_8345bcfb_4dd1_11eb_9364_001a7dda7113row3_col0\" class=\"data row3 col0\" >4</td>\n",
       "                        <td id=\"T_8345bcfb_4dd1_11eb_9364_001a7dda7113row3_col1\" class=\"data row3 col1\" >c_sharp</td>\n",
       "                        <td id=\"T_8345bcfb_4dd1_11eb_9364_001a7dda7113row3_col2\" class=\"data row3 col2\" >8.24%</td>\n",
       "            </tr>\n",
       "            <tr>\n",
       "                                <td id=\"T_8345bcfb_4dd1_11eb_9364_001a7dda7113row4_col0\" class=\"data row4 col0\" >5</td>\n",
       "                        <td id=\"T_8345bcfb_4dd1_11eb_9364_001a7dda7113row4_col1\" class=\"data row4 col1\" >python</td>\n",
       "                        <td id=\"T_8345bcfb_4dd1_11eb_9364_001a7dda7113row4_col2\" class=\"data row4 col2\" >8.11%</td>\n",
       "            </tr>\n",
       "            <tr>\n",
       "                                <td id=\"T_8345bcfb_4dd1_11eb_9364_001a7dda7113row5_col0\" class=\"data row5 col0\" >6</td>\n",
       "                        <td id=\"T_8345bcfb_4dd1_11eb_9364_001a7dda7113row5_col1\" class=\"data row5 col1\" >go</td>\n",
       "                        <td id=\"T_8345bcfb_4dd1_11eb_9364_001a7dda7113row5_col2\" class=\"data row5 col2\" >6.64%</td>\n",
       "            </tr>\n",
       "            <tr>\n",
       "                                <td id=\"T_8345bcfb_4dd1_11eb_9364_001a7dda7113row6_col0\" class=\"data row6 col0\" >7</td>\n",
       "                        <td id=\"T_8345bcfb_4dd1_11eb_9364_001a7dda7113row6_col1\" class=\"data row6 col1\" >php</td>\n",
       "                        <td id=\"T_8345bcfb_4dd1_11eb_9364_001a7dda7113row6_col2\" class=\"data row6 col2\" >2.78%</td>\n",
       "            </tr>\n",
       "            <tr>\n",
       "                                <td id=\"T_8345bcfb_4dd1_11eb_9364_001a7dda7113row7_col0\" class=\"data row7 col0\" >8</td>\n",
       "                        <td id=\"T_8345bcfb_4dd1_11eb_9364_001a7dda7113row7_col1\" class=\"data row7 col1\" >matlab</td>\n",
       "                        <td id=\"T_8345bcfb_4dd1_11eb_9364_001a7dda7113row7_col2\" class=\"data row7 col2\" >1.44%</td>\n",
       "            </tr>\n",
       "            <tr>\n",
       "                                <td id=\"T_8345bcfb_4dd1_11eb_9364_001a7dda7113row8_col0\" class=\"data row8 col0\" >9</td>\n",
       "                        <td id=\"T_8345bcfb_4dd1_11eb_9364_001a7dda7113row8_col1\" class=\"data row8 col1\" >r</td>\n",
       "                        <td id=\"T_8345bcfb_4dd1_11eb_9364_001a7dda7113row8_col2\" class=\"data row8 col2\" >1.11%</td>\n",
       "            </tr>\n",
       "            <tr>\n",
       "                                <td id=\"T_8345bcfb_4dd1_11eb_9364_001a7dda7113row9_col0\" class=\"data row9 col0\" >10</td>\n",
       "                        <td id=\"T_8345bcfb_4dd1_11eb_9364_001a7dda7113row9_col1\" class=\"data row9 col1\" >typescript</td>\n",
       "                        <td id=\"T_8345bcfb_4dd1_11eb_9364_001a7dda7113row9_col2\" class=\"data row9 col2\" >0.83%</td>\n",
       "            </tr>\n",
       "            <tr>\n",
       "                                <td id=\"T_8345bcfb_4dd1_11eb_9364_001a7dda7113row10_col0\" class=\"data row10 col0\" >11</td>\n",
       "                        <td id=\"T_8345bcfb_4dd1_11eb_9364_001a7dda7113row10_col1\" class=\"data row10 col1\" >lua</td>\n",
       "                        <td id=\"T_8345bcfb_4dd1_11eb_9364_001a7dda7113row10_col2\" class=\"data row10 col2\" >0.73%</td>\n",
       "            </tr>\n",
       "            <tr>\n",
       "                                <td id=\"T_8345bcfb_4dd1_11eb_9364_001a7dda7113row11_col0\" class=\"data row11 col0\" >12</td>\n",
       "                        <td id=\"T_8345bcfb_4dd1_11eb_9364_001a7dda7113row11_col1\" class=\"data row11 col1\" >scala</td>\n",
       "                        <td id=\"T_8345bcfb_4dd1_11eb_9364_001a7dda7113row11_col2\" class=\"data row11 col2\" >0.68%</td>\n",
       "            </tr>\n",
       "            <tr>\n",
       "                                <td id=\"T_8345bcfb_4dd1_11eb_9364_001a7dda7113row12_col0\" class=\"data row12 col0\" >13</td>\n",
       "                        <td id=\"T_8345bcfb_4dd1_11eb_9364_001a7dda7113row12_col1\" class=\"data row12 col1\" >swift</td>\n",
       "                        <td id=\"T_8345bcfb_4dd1_11eb_9364_001a7dda7113row12_col2\" class=\"data row12 col2\" >0.59%</td>\n",
       "            </tr>\n",
       "            <tr>\n",
       "                                <td id=\"T_8345bcfb_4dd1_11eb_9364_001a7dda7113row13_col0\" class=\"data row13 col0\" >14</td>\n",
       "                        <td id=\"T_8345bcfb_4dd1_11eb_9364_001a7dda7113row13_col1\" class=\"data row13 col1\" >perl</td>\n",
       "                        <td id=\"T_8345bcfb_4dd1_11eb_9364_001a7dda7113row13_col2\" class=\"data row13 col2\" >0.52%</td>\n",
       "            </tr>\n",
       "            <tr>\n",
       "                                <td id=\"T_8345bcfb_4dd1_11eb_9364_001a7dda7113row14_col0\" class=\"data row14 col0\" >15</td>\n",
       "                        <td id=\"T_8345bcfb_4dd1_11eb_9364_001a7dda7113row14_col1\" class=\"data row14 col1\" >kotlin</td>\n",
       "                        <td id=\"T_8345bcfb_4dd1_11eb_9364_001a7dda7113row14_col2\" class=\"data row14 col2\" >0.39%</td>\n",
       "            </tr>\n",
       "            <tr>\n",
       "                                <td id=\"T_8345bcfb_4dd1_11eb_9364_001a7dda7113row15_col0\" class=\"data row15 col0\" >16</td>\n",
       "                        <td id=\"T_8345bcfb_4dd1_11eb_9364_001a7dda7113row15_col1\" class=\"data row15 col1\" >ruby</td>\n",
       "                        <td id=\"T_8345bcfb_4dd1_11eb_9364_001a7dda7113row15_col2\" class=\"data row15 col2\" >0.22%</td>\n",
       "            </tr>\n",
       "            <tr>\n",
       "                                <td id=\"T_8345bcfb_4dd1_11eb_9364_001a7dda7113row16_col0\" class=\"data row16 col0\" >17</td>\n",
       "                        <td id=\"T_8345bcfb_4dd1_11eb_9364_001a7dda7113row16_col1\" class=\"data row16 col1\" >delphi</td>\n",
       "                        <td id=\"T_8345bcfb_4dd1_11eb_9364_001a7dda7113row16_col2\" class=\"data row16 col2\" >0.17%</td>\n",
       "            </tr>\n",
       "            <tr>\n",
       "                                <td id=\"T_8345bcfb_4dd1_11eb_9364_001a7dda7113row17_col0\" class=\"data row17 col0\" >18</td>\n",
       "                        <td id=\"T_8345bcfb_4dd1_11eb_9364_001a7dda7113row17_col1\" class=\"data row17 col1\" >vba</td>\n",
       "                        <td id=\"T_8345bcfb_4dd1_11eb_9364_001a7dda7113row17_col2\" class=\"data row17 col2\" >0.16%</td>\n",
       "            </tr>\n",
       "            <tr>\n",
       "                                <td id=\"T_8345bcfb_4dd1_11eb_9364_001a7dda7113row18_col0\" class=\"data row18 col0\" >19</td>\n",
       "                        <td id=\"T_8345bcfb_4dd1_11eb_9364_001a7dda7113row18_col1\" class=\"data row18 col1\" >rust</td>\n",
       "                        <td id=\"T_8345bcfb_4dd1_11eb_9364_001a7dda7113row18_col2\" class=\"data row18 col2\" >0.12%</td>\n",
       "            </tr>\n",
       "            <tr>\n",
       "                                <td id=\"T_8345bcfb_4dd1_11eb_9364_001a7dda7113row19_col0\" class=\"data row19 col0\" >20</td>\n",
       "                        <td id=\"T_8345bcfb_4dd1_11eb_9364_001a7dda7113row19_col1\" class=\"data row19 col1\" >objective_c</td>\n",
       "                        <td id=\"T_8345bcfb_4dd1_11eb_9364_001a7dda7113row19_col2\" class=\"data row19 col2\" >0.02%</td>\n",
       "            </tr>\n",
       "            <tr>\n",
       "                                <td id=\"T_8345bcfb_4dd1_11eb_9364_001a7dda7113row20_col0\" class=\"data row20 col0\" >21</td>\n",
       "                        <td id=\"T_8345bcfb_4dd1_11eb_9364_001a7dda7113row20_col1\" class=\"data row20 col1\" >julia</td>\n",
       "                        <td id=\"T_8345bcfb_4dd1_11eb_9364_001a7dda7113row20_col2\" class=\"data row20 col2\" >0.01%</td>\n",
       "            </tr>\n",
       "            <tr>\n",
       "                                <td id=\"T_8345bcfb_4dd1_11eb_9364_001a7dda7113row21_col0\" class=\"data row21 col0\" >22</td>\n",
       "                        <td id=\"T_8345bcfb_4dd1_11eb_9364_001a7dda7113row21_col1\" class=\"data row21 col1\" >visual_basic</td>\n",
       "                        <td id=\"T_8345bcfb_4dd1_11eb_9364_001a7dda7113row21_col2\" class=\"data row21 col2\" >0.01%</td>\n",
       "            </tr>\n",
       "            <tr>\n",
       "                                <td id=\"T_8345bcfb_4dd1_11eb_9364_001a7dda7113row22_col0\" class=\"data row22 col0\" >23</td>\n",
       "                        <td id=\"T_8345bcfb_4dd1_11eb_9364_001a7dda7113row22_col1\" class=\"data row22 col1\" >haskell</td>\n",
       "                        <td id=\"T_8345bcfb_4dd1_11eb_9364_001a7dda7113row22_col2\" class=\"data row22 col2\" >0.00%</td>\n",
       "            </tr>\n",
       "    </tbody></table>"
      ],
      "text/plain": [
       "<pandas.io.formats.style.Styler at 0x1ae99b64cd0>"
      ]
     },
     "execution_count": 13,
     "metadata": {},
     "output_type": "execute_result"
    }
   ],
   "source": [
    "\n",
    "data_pl['rank']=list(range(1,24))\n",
    "data_pl=data_pl[['rank','pl_','percentage']]\n",
    "#data_pl.style.format({\"percentage\":\"{:.2%}\"})\n",
    "data_pl.style.hide_index().format({\"percentage\":\"{:.2%}\"})"
   ]
  },
  {
   "cell_type": "code",
   "execution_count": 14,
   "metadata": {},
   "outputs": [
    {
     "data": {
      "image/png": "[encoded data removed]",
      "text/plain": [
       "<Figure size 1080x648 with 1 Axes>"
      ]
     },
     "metadata": {},
     "output_type": "display_data"
    }
   ],
   "source": [
    "data_pl=data_pl.sort_values(by='percentage')\n",
    "\n",
    "# Pie chart, where the slices will be ordered and plotted counter-clockwise:\n",
    "labels = data_pl['pl_']\n",
    "sizes = data_pl['percentage']\n",
    "#explode = (0, 0.1, 0, 0)  # only \"explode\" the 2nd slice (i.e. 'Hogs')\n",
    "\n",
    "fig1, ax1 = plt.subplots(figsize=(15, 9))\n",
    "ax1.pie(sizes, labels=labels, autopct='%1.1f%%',\n",
    "        shadow=True, startangle=90)\n",
    "ax1.axis('equal')  # Equal aspect ratio ensures that pie is drawn as a circle.\n",
    "plt.title(f\"Programming Languages in China, {year}-{month:02}\")\n",
    "plt.show()"
   ]
  },
  {
   "cell_type": "markdown",
   "metadata": {},
   "source": [
    "## Word Cloud"
   ]
  },
  {
   "cell_type": "code",
   "execution_count": 15,
   "metadata": {},
   "outputs": [
    {
     "ename": "ModuleNotFoundError",
     "evalue": "No module named 'wordcloud'",
     "output_type": "error",
     "traceback": [
      "\u001b[1;31m---------------------------------------------------------------------------\u001b[0m",
      "\u001b[1;31mModuleNotFoundError\u001b[0m                       Traceback (most recent call last)",
      "\u001b[1;32m<ipython-input-15-545c8c330af9>\u001b[0m in \u001b[0;36m<module>\u001b[1;34m\u001b[0m\n\u001b[1;32m----> 1\u001b[1;33m \u001b[1;32mfrom\u001b[0m \u001b[0mwordcloud\u001b[0m \u001b[1;32mimport\u001b[0m \u001b[0mWordCloud\u001b[0m\u001b[1;33m\u001b[0m\u001b[1;33m\u001b[0m\u001b[0m\n\u001b[0m\u001b[0;32m      2\u001b[0m \u001b[0mwc\u001b[0m\u001b[1;33m=\u001b[0m\u001b[0mWordCloud\u001b[0m\u001b[1;33m(\u001b[0m\u001b[1;33m)\u001b[0m\u001b[1;33m\u001b[0m\u001b[1;33m\u001b[0m\u001b[0m\n\u001b[0;32m      3\u001b[0m \u001b[0mwc_dict\u001b[0m \u001b[1;33m=\u001b[0m \u001b[1;33m{\u001b[0m\u001b[1;33m}\u001b[0m\u001b[1;33m\u001b[0m\u001b[1;33m\u001b[0m\u001b[0m\n\u001b[0;32m      4\u001b[0m \u001b[1;32mfor\u001b[0m \u001b[0mindex\u001b[0m\u001b[1;33m,\u001b[0m \u001b[0mrow\u001b[0m \u001b[1;32min\u001b[0m \u001b[0mdata_pl\u001b[0m\u001b[1;33m.\u001b[0m\u001b[0miterrows\u001b[0m\u001b[1;33m(\u001b[0m\u001b[1;33m)\u001b[0m\u001b[1;33m:\u001b[0m\u001b[1;33m\u001b[0m\u001b[1;33m\u001b[0m\u001b[0m\n\u001b[0;32m      5\u001b[0m     \u001b[0mwc_dict\u001b[0m\u001b[1;33m[\u001b[0m\u001b[0mrow\u001b[0m\u001b[1;33m[\u001b[0m\u001b[1;34m'pl_'\u001b[0m\u001b[1;33m]\u001b[0m\u001b[1;33m]\u001b[0m\u001b[1;33m=\u001b[0m\u001b[0mrow\u001b[0m\u001b[1;33m[\u001b[0m\u001b[1;34m'percentage'\u001b[0m\u001b[1;33m]\u001b[0m\u001b[1;33m\u001b[0m\u001b[1;33m\u001b[0m\u001b[0m\n",
      "\u001b[1;31mModuleNotFoundError\u001b[0m: No module named 'wordcloud'"
     ]
    }
   ],
   "source": [
    "from wordcloud import WordCloud\n",
    "wc=WordCloud()\n",
    "wc_dict = {}\n",
    "for index, row in data_pl.iterrows():\n",
    "    wc_dict[row['pl_']]=row['percentage']\n",
    "\n",
    "\n",
    "wc=wc.generate_from_frequencies(wc_dict)"
   ]
  },
  {
   "cell_type": "code",
   "execution_count": null,
   "metadata": {},
   "outputs": [],
   "source": [
    "#wc_dict['c/c++']=0.33\n",
    "wc=wc.generate_from_frequencies(wc_dict)"
   ]
  },
  {
   "cell_type": "code",
   "execution_count": null,
   "metadata": {},
   "outputs": [],
   "source": [
    "plt.figure(figsize=(10,6))\n",
    "plt.imshow(wc, interpolation=\"bilinear\")\n",
    "plt.axis(\"off\")\n",
    "plt.show()"
   ]
  },
  {
   "cell_type": "code",
   "execution_count": null,
   "metadata": {},
   "outputs": [],
   "source": [
    "print(f'{year}年{month}月')"
   ]
  },
  {
   "cell_type": "code",
   "execution_count": null,
   "metadata": {},
   "outputs": [],
   "source": []
  }
 ],
 "metadata": {
  "kernelspec": {
   "display_name": "Python 3",
   "language": "python",
   "name": "python3"
  },
  "language_info": {
   "codemirror_mode": {
    "name": "ipython",
    "version": 3
   },
   "file_extension": ".py",
   "mimetype": "text/x-python",
   "name": "python",
   "nbconvert_exporter": "python",
   "pygments_lexer": "ipython3",
   "version": "3.8.5"
  }
 },
 "nbformat": 4,
 "nbformat_minor": 4
}
