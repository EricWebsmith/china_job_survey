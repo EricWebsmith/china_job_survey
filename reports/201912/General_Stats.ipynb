{
 "cells": [
  {
   "cell_type": "code",
   "execution_count": 1,
   "metadata": {},
   "outputs": [],
   "source": [
    "from config import *"
   ]
  },
  {
   "cell_type": "code",
   "execution_count": 2,
   "metadata": {},
   "outputs": [
    {
     "name": "stdout",
     "output_type": "stream",
     "text": [
      "2019年12月\n"
     ]
    }
   ],
   "source": [
    "print(f'{year}年{month}月')"
   ]
  },
  {
   "cell_type": "code",
   "execution_count": 3,
   "metadata": {},
   "outputs": [],
   "source": [
    "import pandas as pd\n",
    "import matplotlib.pyplot as plt\n",
    "import sys\n",
    "sys.path.append('../../py')\n",
    "import db"
   ]
  },
  {
   "cell_type": "code",
   "execution_count": 4,
   "metadata": {},
   "outputs": [],
   "source": [
    "conn=db.get_conn()"
   ]
  },
  {
   "cell_type": "code",
   "execution_count": 5,
   "metadata": {},
   "outputs": [
    {
     "data": {
      "text/html": [
       "<div>\n",
       "<style scoped>\n",
       "    .dataframe tbody tr th:only-of-type {\n",
       "        vertical-align: middle;\n",
       "    }\n",
       "\n",
       "    .dataframe tbody tr th {\n",
       "        vertical-align: top;\n",
       "    }\n",
       "\n",
       "    .dataframe thead th {\n",
       "        text-align: right;\n",
       "    }\n",
       "</style>\n",
       "<table border=\"1\" class=\"dataframe\">\n",
       "  <thead>\n",
       "    <tr style=\"text-align: right;\">\n",
       "      <th></th>\n",
       "      <th>Month</th>\n",
       "      <th>Salary_Mean</th>\n",
       "      <th>Salary_Median</th>\n",
       "      <th>JD_Count</th>\n",
       "      <th>HeadCount</th>\n",
       "    </tr>\n",
       "  </thead>\n",
       "  <tbody>\n",
       "    <tr>\n",
       "      <td>0</td>\n",
       "      <td>201906</td>\n",
       "      <td>12990</td>\n",
       "      <td>12000</td>\n",
       "      <td>98669</td>\n",
       "      <td>323172</td>\n",
       "    </tr>\n",
       "    <tr>\n",
       "      <td>1</td>\n",
       "      <td>201907</td>\n",
       "      <td>13209</td>\n",
       "      <td>12000</td>\n",
       "      <td>94918</td>\n",
       "      <td>308802</td>\n",
       "    </tr>\n",
       "    <tr>\n",
       "      <td>2</td>\n",
       "      <td>201908</td>\n",
       "      <td>13388</td>\n",
       "      <td>12500</td>\n",
       "      <td>94569</td>\n",
       "      <td>303830</td>\n",
       "    </tr>\n",
       "    <tr>\n",
       "      <td>3</td>\n",
       "      <td>201909</td>\n",
       "      <td>13421</td>\n",
       "      <td>12500</td>\n",
       "      <td>90804</td>\n",
       "      <td>292998</td>\n",
       "    </tr>\n",
       "    <tr>\n",
       "      <td>4</td>\n",
       "      <td>201910</td>\n",
       "      <td>13337</td>\n",
       "      <td>12500</td>\n",
       "      <td>87620</td>\n",
       "      <td>284579</td>\n",
       "    </tr>\n",
       "    <tr>\n",
       "      <td>5</td>\n",
       "      <td>201911</td>\n",
       "      <td>13451</td>\n",
       "      <td>12500</td>\n",
       "      <td>84685</td>\n",
       "      <td>277672</td>\n",
       "    </tr>\n",
       "    <tr>\n",
       "      <td>6</td>\n",
       "      <td>201912</td>\n",
       "      <td>13554</td>\n",
       "      <td>12500</td>\n",
       "      <td>84141</td>\n",
       "      <td>276906</td>\n",
       "    </tr>\n",
       "  </tbody>\n",
       "</table>\n",
       "</div>"
      ],
      "text/plain": [
       "    Month  Salary_Mean  Salary_Median  JD_Count  HeadCount\n",
       "0  201906        12990          12000     98669     323172\n",
       "1  201907        13209          12000     94918     308802\n",
       "2  201908        13388          12500     94569     303830\n",
       "3  201909        13421          12500     90804     292998\n",
       "4  201910        13337          12500     87620     284579\n",
       "5  201911        13451          12500     84685     277672\n",
       "6  201912        13554          12500     84141     276906"
      ]
     },
     "execution_count": 5,
     "metadata": {},
     "output_type": "execute_result"
    }
   ],
   "source": [
    "stat_data = pd.read_sql(sql='select * from MonthlyStats order by Month', con=conn)\n",
    "stat_data"
   ]
  },
  {
   "cell_type": "code",
   "execution_count": 6,
   "metadata": {},
   "outputs": [
    {
     "data": {
      "image/png": "[encoded data removed]",
      "text/plain": [
       "<Figure size 432x288 with 1 Axes>"
      ]
     },
     "metadata": {
      "needs_background": "light"
     },
     "output_type": "display_data"
    }
   ],
   "source": [
    "plt.plot(\"Month\",\"Salary_Mean\",data=stat_data)\n",
    "plt.show()"
   ]
  },
  {
   "cell_type": "code",
   "execution_count": 7,
   "metadata": {},
   "outputs": [
    {
     "name": "stdout",
     "output_type": "stream",
     "text": [
      "[0.16855095451835353, 0.12158437672257658, 0.08637350522538333, 0.08426985251932098, 0.07470779476449214, 0.0455378938724084, 0.41897562237746505]\n"
     ]
    },
    {
     "data": {
      "image/png": "[encoded data removed]",
      "text/plain": [
       "<Figure size 432x288 with 1 Axes>"
      ]
     },
     "metadata": {},
     "output_type": "display_data"
    }
   ],
   "source": [
    "counts=[]\n",
    "percentages=[]\n",
    "count1=conn.execute(f\"select COUNT(1) from _{year}{month:02}\").fetchall()[0][0]\n",
    "counts.append(count1)\n",
    "\n",
    "for i in range(1,month-6+1):\n",
    "    i_count=conn.execute(f\"select COUNT(1) from _{year}{month:02} a inner join _{year}{month-i:02} b on a.job_id=b.job_id\").fetchall()[0][0]\n",
    "    counts.append(i_count)\n",
    "    percentages.append((counts[i-1]-i_count)/counts[0])\n",
    "    \n",
    "percentages.append(counts[-1]/counts[0])\n",
    "print(percentages)\n",
    "\n",
    "labels=[]\n",
    "for i in range(1,month-6+1):\n",
    "    labels.append(i)\n",
    "labels.append(f\"{str(month-6+1)}+\")\n",
    "\n",
    "plt.pie(percentages, labels=labels)\n",
    "plt.title(\"Age of Jobs\")\n",
    "plt.show()"
   ]
  },
  {
   "cell_type": "markdown",
   "metadata": {},
   "source": [
    "# 按照只能统计平均工资"
   ]
  },
  {
   "cell_type": "code",
   "execution_count": 8,
   "metadata": {},
   "outputs": [
    {
     "name": "stdout",
     "output_type": "stream",
     "text": [
      "区块链工程师 平均工资为21385\n"
     ]
    }
   ],
   "source": [
    "sql=f'select AVG(monthly_salary)  from _{year}{month} where expert_blockchain=1 and monthly_salary>0'\n",
    "salary_blockchain=conn.execute(sql).fetchall()[0][0]\n",
    "print(f'区块链工程师 平均工资为{salary_blockchain}')"
   ]
  },
  {
   "cell_type": "code",
   "execution_count": 9,
   "metadata": {},
   "outputs": [
    {
     "name": "stdout",
     "output_type": "stream",
     "text": [
      "算法工程师 平均工资为19161\n"
     ]
    }
   ],
   "source": [
    "sql=f\"select AVG(monthly_salary)  from _{year}{month} where monthly_salary>0 and career='算法工程师'\"\n",
    "salary_algorithm=conn.execute(sql).fetchall()[0][0]\n",
    "print(f'算法工程师 平均工资为{salary_algorithm}')"
   ]
  },
  {
   "cell_type": "code",
   "execution_count": 10,
   "metadata": {},
   "outputs": [
    {
     "name": "stdout",
     "output_type": "stream",
     "text": [
      "系统架构师 平均工资为23319\n"
     ]
    }
   ],
   "source": [
    "sql=f\"select AVG(monthly_salary)  from _{year}{month} where monthly_salary>0 and career='系统架构师'\"\n",
    "salary_architect=conn.execute(sql).fetchall()[0][0]\n",
    "print(f'系统架构师 平均工资为{salary_architect}')"
   ]
  },
  {
   "cell_type": "code",
   "execution_count": 11,
   "metadata": {},
   "outputs": [
    {
     "name": "stdout",
     "output_type": "stream",
     "text": [
      "Java工程师 平均工资为14991\n"
     ]
    }
   ],
   "source": [
    "sql=f\"select AVG(monthly_salary)  from _{year}{month} where monthly_salary>0 and pl_java=1\"\n",
    "salary_java=conn.execute(sql).fetchall()[0][0]\n",
    "print(f'Java工程师 平均工资为{salary_java}')"
   ]
  },
  {
   "cell_type": "code",
   "execution_count": 12,
   "metadata": {},
   "outputs": [
    {
     "name": "stdout",
     "output_type": "stream",
     "text": [
      "Python工程师 平均工资为21111\n"
     ]
    }
   ],
   "source": [
    "sql=f\"select AVG(monthly_salary)  from _{year}{month} where monthly_salary>0 and pl_python=1\"\n",
    "salary_python=conn.execute(sql).fetchall()[0][0]\n",
    "print(f'Python工程师 平均工资为{salary_python}')"
   ]
  },
  {
   "cell_type": "code",
   "execution_count": 13,
   "metadata": {},
   "outputs": [],
   "source": [
    "data_func = pd.DataFrame()"
   ]
  },
  {
   "cell_type": "code",
   "execution_count": 14,
   "metadata": {},
   "outputs": [],
   "source": [
    "data_func['职能']=['区块链工程师', '算法工程师','系统架构师', 'Java工程师',  'Python工程师']\n",
    "data_func['工资']=[salary_blockchain, salary_algorithm, salary_architect, salary_java, salary_python]"
   ]
  },
  {
   "cell_type": "code",
   "execution_count": 15,
   "metadata": {},
   "outputs": [
    {
     "data": {
      "text/html": [
       "<div>\n",
       "<style scoped>\n",
       "    .dataframe tbody tr th:only-of-type {\n",
       "        vertical-align: middle;\n",
       "    }\n",
       "\n",
       "    .dataframe tbody tr th {\n",
       "        vertical-align: top;\n",
       "    }\n",
       "\n",
       "    .dataframe thead th {\n",
       "        text-align: right;\n",
       "    }\n",
       "</style>\n",
       "<table border=\"1\" class=\"dataframe\">\n",
       "  <thead>\n",
       "    <tr style=\"text-align: right;\">\n",
       "      <th></th>\n",
       "      <th>职能</th>\n",
       "      <th>工资</th>\n",
       "    </tr>\n",
       "  </thead>\n",
       "  <tbody>\n",
       "    <tr>\n",
       "      <td>2</td>\n",
       "      <td>系统架构师</td>\n",
       "      <td>23319</td>\n",
       "    </tr>\n",
       "    <tr>\n",
       "      <td>0</td>\n",
       "      <td>区块链工程师</td>\n",
       "      <td>21385</td>\n",
       "    </tr>\n",
       "    <tr>\n",
       "      <td>4</td>\n",
       "      <td>Python工程师</td>\n",
       "      <td>21111</td>\n",
       "    </tr>\n",
       "    <tr>\n",
       "      <td>1</td>\n",
       "      <td>算法工程师</td>\n",
       "      <td>19161</td>\n",
       "    </tr>\n",
       "    <tr>\n",
       "      <td>3</td>\n",
       "      <td>Java工程师</td>\n",
       "      <td>14991</td>\n",
       "    </tr>\n",
       "  </tbody>\n",
       "</table>\n",
       "</div>"
      ],
      "text/plain": [
       "          职能     工资\n",
       "2      系统架构师  23319\n",
       "0     区块链工程师  21385\n",
       "4  Python工程师  21111\n",
       "1      算法工程师  19161\n",
       "3    Java工程师  14991"
      ]
     },
     "execution_count": 15,
     "metadata": {},
     "output_type": "execute_result"
    }
   ],
   "source": [
    "data_func.sort_values(by='工资', ascending=False)"
   ]
  },
  {
   "cell_type": "code",
   "execution_count": null,
   "metadata": {},
   "outputs": [],
   "source": []
  }
 ],
 "metadata": {
  "kernelspec": {
   "display_name": "Python 3",
   "language": "python",
   "name": "python3"
  },
  "language_info": {
   "codemirror_mode": {
    "name": "ipython",
    "version": 3
   },
   "file_extension": ".py",
   "mimetype": "text/x-python",
   "name": "python",
   "nbconvert_exporter": "python",
   "pygments_lexer": "ipython3",
   "version": "3.7.4"
  }
 },
 "nbformat": 4,
 "nbformat_minor": 2
}
