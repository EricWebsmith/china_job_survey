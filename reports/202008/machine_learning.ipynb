{
 "cells": [
  {
   "cell_type": "code",
   "execution_count": 1,
   "metadata": {},
   "outputs": [],
   "source": [
    "from config import *"
   ]
  },
  {
   "cell_type": "code",
   "execution_count": 2,
   "metadata": {},
   "outputs": [
    {
     "name": "stdout",
     "output_type": "stream",
     "text": [
      "2020年8月\n"
     ]
    }
   ],
   "source": [
    "print(f'{year}年{month}月')"
   ]
  },
  {
   "cell_type": "markdown",
   "metadata": {},
   "source": []
  },
  {
   "cell_type": "code",
   "execution_count": 3,
   "metadata": {},
   "outputs": [],
   "source": [
    "import pandas as pd\n",
    "import sys\n",
    "sys.path.append('..')\n",
    "sys.path.append('../py')\n",
    "sys.path.append('../../py')\n",
    "import db\n",
    "import inspect\n",
    "import matplotlib.pyplot as plt\n",
    "plt.rcParams['font.sans-serif']=['SimHei'] #用来正常显示中文标签\n",
    "plt.rcParams['axes.unicode_minus']=False #用来正常显示负号\n",
    "import seaborn as sns\n",
    "import scipy.stats as stats\n",
    "import numpy as np\n",
    "import weighted\n",
    "%matplotlib inline"
   ]
  },
  {
   "cell_type": "code",
   "execution_count": 5,
   "metadata": {},
   "outputs": [],
   "source": [
    "conn=db.get_conn()\n",
    "data=pd.read_sql(sql=f\"select * from jobs where year_month={year}{month:02} and monthly_salary>0 and career='机器学习' and monthly_salary<80000\", con=conn)\n",
    "conn.close()"
   ]
  },
  {
   "cell_type": "code",
   "execution_count": null,
   "metadata": {},
   "outputs": [],
   "source": []
  },
  {
   "cell_type": "code",
   "execution_count": 6,
   "metadata": {},
   "outputs": [],
   "source": [
    "#del data['publish_date']\n",
    "#del data['published_on_weekend']\n",
    "#del data['title']\n",
    "#del data['title']\n",
    "#del data['company_title']\n",
    "#del data['company_description']\n",
    "#del data['job_description']\n",
    "#del data['job_id']"
   ]
  },
  {
   "cell_type": "code",
   "execution_count": 7,
   "metadata": {},
   "outputs": [
    {
     "data": {
      "text/html": [
       "<div>\n",
       "<style scoped>\n",
       "    .dataframe tbody tr th:only-of-type {\n",
       "        vertical-align: middle;\n",
       "    }\n",
       "\n",
       "    .dataframe tbody tr th {\n",
       "        vertical-align: top;\n",
       "    }\n",
       "\n",
       "    .dataframe thead th {\n",
       "        text-align: right;\n",
       "    }\n",
       "</style>\n",
       "<table border=\"1\" class=\"dataframe\">\n",
       "  <thead>\n",
       "    <tr style=\"text-align: right;\">\n",
       "      <th></th>\n",
       "      <th>job_id</th>\n",
       "      <th>year_month</th>\n",
       "      <th>monthly_salary</th>\n",
       "      <th>headcount</th>\n",
       "      <th>title</th>\n",
       "      <th>page_title</th>\n",
       "      <th>zhinengleibie</th>\n",
       "      <th>career</th>\n",
       "      <th>city</th>\n",
       "      <th>province</th>\n",
       "      <th>...</th>\n",
       "      <th>bd_hbase</th>\n",
       "      <th>bd_storm</th>\n",
       "      <th>bd_pig</th>\n",
       "      <th>bd_mahout</th>\n",
       "      <th>bd_impala</th>\n",
       "      <th>bd_yarn</th>\n",
       "      <th>bd_alluxio</th>\n",
       "      <th>bd_flink</th>\n",
       "      <th>bd_presto</th>\n",
       "      <th>bd_heron</th>\n",
       "    </tr>\n",
       "  </thead>\n",
       "  <tbody>\n",
       "    <tr>\n",
       "      <th>241</th>\n",
       "      <td>122057593</td>\n",
       "      <td>202008</td>\n",
       "      <td>5250</td>\n",
       "      <td>12</td>\n",
       "      <td>机器学习工程师助理</td>\n",
       "      <td>【郑州机器学习工程师助理_机器学习工程师助理招聘_河南艾茵斯物联网科技有限公司】-前程无忧官...</td>\n",
       "      <td>机器学习工程师</td>\n",
       "      <td>机器学习</td>\n",
       "      <td>郑州</td>\n",
       "      <td>河南</td>\n",
       "      <td>...</td>\n",
       "      <td>False</td>\n",
       "      <td>False</td>\n",
       "      <td>False</td>\n",
       "      <td>False</td>\n",
       "      <td>False</td>\n",
       "      <td>False</td>\n",
       "      <td>False</td>\n",
       "      <td>False</td>\n",
       "      <td>False</td>\n",
       "      <td>False</td>\n",
       "    </tr>\n",
       "  </tbody>\n",
       "</table>\n",
       "<p>1 rows × 118 columns</p>\n",
       "</div>"
      ],
      "text/plain": [
       "        job_id  year_month  monthly_salary  headcount      title  \\\n",
       "241  122057593      202008            5250         12  机器学习工程师助理   \n",
       "\n",
       "                                            page_title zhinengleibie career  \\\n",
       "241  【郑州机器学习工程师助理_机器学习工程师助理招聘_河南艾茵斯物联网科技有限公司】-前程无忧官...       机器学习工程师   机器学习   \n",
       "\n",
       "    city province  ... bd_hbase  bd_storm  bd_pig  bd_mahout  bd_impala  \\\n",
       "241   郑州       河南  ...    False     False   False      False      False   \n",
       "\n",
       "     bd_yarn  bd_alluxio  bd_flink  bd_presto  bd_heron  \n",
       "241    False       False     False      False     False  \n",
       "\n",
       "[1 rows x 118 columns]"
      ]
     },
     "execution_count": 7,
     "metadata": {},
     "output_type": "execute_result"
    }
   ],
   "source": [
    "data=data.sort_values(by='headcount', ascending=False)\n",
    "data.head(1)"
   ]
  },
  {
   "cell_type": "code",
   "execution_count": 8,
   "metadata": {},
   "outputs": [],
   "source": [
    "def pd_weighted_mean(group, avg_name, weight_name):\n",
    "    \"\"\" http://stackoverflow.com/questions/10951341/pandas-dataframe-aggregate-function-using-multiple-columns\n",
    "    In rare instance, we may not have weights, so just return the mean. Customize this if your business case\n",
    "    should return otherwise.\n",
    "    \"\"\"\n",
    "    d = group[avg_name]\n",
    "    w = group[weight_name]\n",
    "    try:\n",
    "        return (d * w).sum() / w.sum()\n",
    "    except ZeroDivisionError:\n",
    "        return d.mean()\n"
   ]
  },
  {
   "cell_type": "markdown",
   "metadata": {},
   "source": [
    "# Unilateral Stats 总体统计"
   ]
  },
  {
   "cell_type": "markdown",
   "metadata": {},
   "source": [
    "有数据可知，程序员向一线城市集中的趋势非常明显。\n",
    "\n",
    "According to the statistics, significant amount of developers are in the first tier cities."
   ]
  },
  {
   "cell_type": "code",
   "execution_count": 9,
   "metadata": {},
   "outputs": [
    {
     "data": {
      "text/plain": [
       "(430, 118)"
      ]
     },
     "execution_count": 9,
     "metadata": {},
     "output_type": "execute_result"
    }
   ],
   "source": [
    "data.shape"
   ]
  },
  {
   "cell_type": "code",
   "execution_count": 10,
   "metadata": {},
   "outputs": [
    {
     "data": {
      "text/plain": [
       "1202"
      ]
     },
     "execution_count": 10,
     "metadata": {},
     "output_type": "execute_result"
    }
   ],
   "source": [
    "data.headcount.sum()"
   ]
  },
  {
   "cell_type": "code",
   "execution_count": 11,
   "metadata": {},
   "outputs": [
    {
     "data": {
      "text/plain": [
       "array([ 5250., 10416., 17500., 25000., 53340.])"
      ]
     },
     "execution_count": 11,
     "metadata": {},
     "output_type": "execute_result"
    }
   ],
   "source": [
    "salary_mean=weighted.weighted_mean(data.monthly_salary.values, data.headcount.values)\n",
    "q=weighted.weighted_quantile(data.monthly_salary.values,[0.025,0.25,0.5,0.75,0.975], data.headcount.values)\n",
    "q"
   ]
  },
  {
   "cell_type": "code",
   "execution_count": 12,
   "metadata": {},
   "outputs": [
    {
     "name": "stdout",
     "output_type": "stream",
     "text": [
      "2020年8月中国机器学习工程师的平均工资为19682元，工资中位数为17500元，其中95%的人的工资位于5250到53340元之间。\n"
     ]
    }
   ],
   "source": [
    "print(f'{year}年{month}月中国机器学习工程师的平均工资为{salary_mean:.0f}元，工资中位数为{q[2]:.0f}元，其中95%的人的工资位于{q[0]:.0f}到{q[4]:.0f}元之间。')"
   ]
  },
  {
   "cell_type": "code",
   "execution_count": 13,
   "metadata": {},
   "outputs": [
    {
     "name": "stdout",
     "output_type": "stream",
     "text": [
      "In 2020, Developers in China earn 19682 Yuan as average, the median is 17500 Yuan, 95% of them earn between 5250 and 53340 Yuan.\n"
     ]
    }
   ],
   "source": [
    "print(f'In {year}, Developers in China earn {salary_mean:.0f} Yuan as average, '\n",
    "      f'the median is {q[2]:.0f} Yuan, 95% of them earn between {q[0]:.0f} and {q[4]:.0f} Yuan.')"
   ]
  },
  {
   "cell_type": "code",
   "execution_count": 14,
   "metadata": {},
   "outputs": [
    {
     "data": {
      "image/png": "[encoded data removed]",
      "text/plain": [
       "<Figure size 432x288 with 1 Axes>"
      ]
     },
     "metadata": {
      "needs_background": "light"
     },
     "output_type": "display_data"
    }
   ],
   "source": [
    "data.monthly_salary.hist()\n",
    "plt.show()"
   ]
  },
  {
   "cell_type": "markdown",
   "metadata": {},
   "source": [
    "It does not look like normal distribution."
   ]
  },
  {
   "cell_type": "code",
   "execution_count": 15,
   "metadata": {},
   "outputs": [],
   "source": [
    "from scipy import stats"
   ]
  },
  {
   "cell_type": "markdown",
   "metadata": {},
   "source": [
    "## Role 角色"
   ]
  },
  {
   "cell_type": "code",
   "execution_count": 16,
   "metadata": {},
   "outputs": [],
   "source": [
    "#Common Functions\n",
    "def get_sub_stats_by_col(data, col):\n",
    "    categories=data[col].unique()\n",
    "    salary_mean=[]\n",
    "    salary_95_min=[]\n",
    "    salary_95_max=[]\n",
    "    salary_median=[]\n",
    "    \n",
    "\n",
    "    count=[]\n",
    "    \n",
    "    categorys_out=[]\n",
    "    for category in categories:\n",
    "        #print(feature)\n",
    "        idata=data[data[col]==category]\n",
    "        headcount=idata.headcount.sum()\n",
    "        values = idata.monthly_salary.values\n",
    "        weights = idata.headcount.values\n",
    "        #print(str(headcount))\n",
    "        if headcount==0:\n",
    "            continue\n",
    "        \n",
    "        salary_mean.append(np.average(values, weights=weights))\n",
    "        \n",
    "\n",
    "        q = weighted.weighted_quantile(values,[0.025,0.5,0.975],weights)\n",
    "        salary_95_min.append(q[0])\n",
    "        salary_median.append(q[1])\n",
    "        salary_95_max.append(q[2])\n",
    "        count.append(idata.headcount.sum())\n",
    "        categorys_out.append(category)\n",
    "    sub_data=pd.DataFrame()\n",
    "    sub_data[col]=[c for c in categorys_out]\n",
    "    sub_data['salary_mean']=salary_mean\n",
    "    sub_data['salary_95_min']=salary_95_min\n",
    "    sub_data['salary_median']=salary_median\n",
    "    sub_data['salary_95_max']=salary_95_max\n",
    "    sub_data['head_count']=count\n",
    "    sub_data['percentage']=count/np.sum(count)\n",
    "    sub_data=sub_data.sort_values(by='salary_mean', ascending=False)\n",
    "\n",
    "    return sub_data\n",
    "\n",
    "def get_sub_stats_by_prefix(data, prefix):\n",
    "    \n",
    "    features = [feature for feature in data.columns if feature.startswith(prefix)]\n",
    "    salary_mean=[]\n",
    "    salary_median=[]\n",
    "    salary_95_min=[]\n",
    "    salary_95_max=[]\n",
    "    count=[]\n",
    "    \n",
    "    features_out=[]\n",
    "    for feature in features:\n",
    "        #print(feature)\n",
    "        idata=data[data[feature]==1]\n",
    "        headcount=idata.headcount.sum()\n",
    "        values = idata.monthly_salary.values\n",
    "        weights = idata.headcount.values\n",
    "        #print(str(headcount))\n",
    "        if headcount==0:\n",
    "            continue\n",
    "        \n",
    "        salary_mean.append(weighted.weighted_mean(values, weights))\n",
    "        q = weighted.weighted_quantile(values,[0.025,0.5,0.975],weights)\n",
    "        salary_median.append(q[1])\n",
    "        salary_95_min.append(q[0])\n",
    "        salary_95_max.append(q[2])\n",
    "        count.append(idata.headcount.sum())\n",
    "        features_out.append(feature)\n",
    "    sub_data=pd.DataFrame()\n",
    "    sub_data['rank']=range(0,len(features_out))\n",
    "    sub_data[prefix]=[f.replace(prefix,'') for f in features_out]\n",
    "    sub_data['salary_mean']=salary_mean\n",
    "    sub_data['salary_median']=salary_median\n",
    "    sub_data['salary_95_min']=salary_95_min\n",
    "    sub_data['salary_95_max']=salary_95_max\n",
    "    sub_data['head_count']=count\n",
    "    sub_data['percentage']=count/np.sum(count)\n",
    "    sub_data=sub_data.sort_values(by='salary_mean', ascending=False)\n",
    "    sub_data['rank']=range(1,len(features_out)+1)\n",
    "    #sub_data=sub_data.reset_index()\n",
    "    return sub_data\n",
    "\n",
    "def apply_style(sub_data):\n",
    "    return sub_data.style.hide_index().format(\n",
    "    {\"salary_mean\":\"{:.0f}\",\"salary_median\":\"{:.0f}\",\"salary_95_min\":\"{:.0f}\",\"salary_95_max\":\"{:.0f}\",\"percentage\":\"{:.2%}\"})"
   ]
  },
  {
   "cell_type": "code",
   "execution_count": 17,
   "metadata": {},
   "outputs": [
    {
     "data": {
      "text/html": [
       "<style  type=\"text/css\" >\n",
       "</style><table id=\"T_12443376_d4a3_11ea_858e_701ce71031ef\" ><thead>    <tr>        <th class=\"blank level0\" ></th>        <th class=\"col_heading level0 col0\" >career</th>        <th class=\"col_heading level0 col1\" >salary_mean</th>        <th class=\"col_heading level0 col2\" >salary_95_min</th>        <th class=\"col_heading level0 col3\" >salary_median</th>        <th class=\"col_heading level0 col4\" >salary_95_max</th>        <th class=\"col_heading level0 col5\" >head_count</th>        <th class=\"col_heading level0 col6\" >percentage</th>    </tr></thead><tbody>\n",
       "                <tr>\n",
       "                        <th id=\"T_12443376_d4a3_11ea_858e_701ce71031eflevel0_row0\" class=\"row_heading level0 row0\" >0</th>\n",
       "                        <td id=\"T_12443376_d4a3_11ea_858e_701ce71031efrow0_col0\" class=\"data row0 col0\" >机器学习</td>\n",
       "                        <td id=\"T_12443376_d4a3_11ea_858e_701ce71031efrow0_col1\" class=\"data row0 col1\" >19682</td>\n",
       "                        <td id=\"T_12443376_d4a3_11ea_858e_701ce71031efrow0_col2\" class=\"data row0 col2\" >5250.000000</td>\n",
       "                        <td id=\"T_12443376_d4a3_11ea_858e_701ce71031efrow0_col3\" class=\"data row0 col3\" >17500</td>\n",
       "                        <td id=\"T_12443376_d4a3_11ea_858e_701ce71031efrow0_col4\" class=\"data row0 col4\" >53340.000000</td>\n",
       "                        <td id=\"T_12443376_d4a3_11ea_858e_701ce71031efrow0_col5\" class=\"data row0 col5\" >1202</td>\n",
       "                        <td id=\"T_12443376_d4a3_11ea_858e_701ce71031efrow0_col6\" class=\"data row0 col6\" >100.00%</td>\n",
       "            </tr>\n",
       "    </tbody></table>"
      ],
      "text/plain": [
       "<pandas.io.formats.style.Styler at 0x1d308c12e88>"
      ]
     },
     "execution_count": 17,
     "metadata": {},
     "output_type": "execute_result"
    }
   ],
   "source": [
    "data_career = get_sub_stats_by_col(data,'career')\n",
    "data_career.style.format({\"salary_mean\":\"{:.0f}\",\"salary_median\":\"{:.0f}\",\"percentage\":\"{:.2%}\"})"
   ]
  },
  {
   "cell_type": "code",
   "execution_count": 18,
   "metadata": {},
   "outputs": [
    {
     "data": {
      "text/plain": [
       "19681.55241264559"
      ]
     },
     "execution_count": 18,
     "metadata": {},
     "output_type": "execute_result"
    }
   ],
   "source": [
    "np.sum(data.monthly_salary * data.headcount) / data.headcount.sum()"
   ]
  },
  {
   "cell_type": "code",
   "execution_count": 19,
   "metadata": {},
   "outputs": [
    {
     "data": {
      "text/plain": [
       "1202"
      ]
     },
     "execution_count": 19,
     "metadata": {},
     "output_type": "execute_result"
    }
   ],
   "source": [
    "data.headcount.sum()"
   ]
  },
  {
   "cell_type": "code",
   "execution_count": 20,
   "metadata": {},
   "outputs": [
    {
     "data": {
      "text/plain": [
       "count    430.000000\n",
       "mean       2.795349\n",
       "std        1.982435\n",
       "min        1.000000\n",
       "25%        1.000000\n",
       "50%        2.000000\n",
       "75%        5.000000\n",
       "max       12.000000\n",
       "Name: headcount, dtype: float64"
      ]
     },
     "execution_count": 20,
     "metadata": {},
     "output_type": "execute_result"
    }
   ],
   "source": [
    "data.headcount.describe()"
   ]
  },
  {
   "cell_type": "code",
   "execution_count": 21,
   "metadata": {},
   "outputs": [],
   "source": [
    "pd.options.display.max_columns=100\n"
   ]
  },
  {
   "cell_type": "markdown",
   "metadata": {},
   "source": []
  },
  {
   "cell_type": "code",
   "execution_count": 22,
   "metadata": {},
   "outputs": [
    {
     "data": {
      "text/plain": [
       "1202"
      ]
     },
     "execution_count": 22,
     "metadata": {},
     "output_type": "execute_result"
    }
   ],
   "source": [
    "data.headcount.sum()"
   ]
  },
  {
   "cell_type": "markdown",
   "metadata": {},
   "source": [
    "# 城市"
   ]
  },
  {
   "cell_type": "code",
   "execution_count": 23,
   "metadata": {},
   "outputs": [
    {
     "data": {
      "text/html": [
       "<style  type=\"text/css\" >\n",
       "</style><table id=\"T_18e407a6_d4a3_11ea_9ccc_701ce71031ef\" ><thead>    <tr>        <th class=\"col_heading level0 col0\" >city</th>        <th class=\"col_heading level0 col1\" >salary_mean</th>        <th class=\"col_heading level0 col2\" >salary_95_min</th>        <th class=\"col_heading level0 col3\" >salary_median</th>        <th class=\"col_heading level0 col4\" >salary_95_max</th>        <th class=\"col_heading level0 col5\" >head_count</th>        <th class=\"col_heading level0 col6\" >percentage</th>    </tr></thead><tbody>\n",
       "                <tr>\n",
       "                                <td id=\"T_18e407a6_d4a3_11ea_9ccc_701ce71031efrow0_col0\" class=\"data row0 col0\" >北京</td>\n",
       "                        <td id=\"T_18e407a6_d4a3_11ea_9ccc_701ce71031efrow0_col1\" class=\"data row0 col1\" >29524</td>\n",
       "                        <td id=\"T_18e407a6_d4a3_11ea_9ccc_701ce71031efrow0_col2\" class=\"data row0 col2\" >12479</td>\n",
       "                        <td id=\"T_18e407a6_d4a3_11ea_9ccc_701ce71031efrow0_col3\" class=\"data row0 col3\" >30000</td>\n",
       "                        <td id=\"T_18e407a6_d4a3_11ea_9ccc_701ce71031efrow0_col4\" class=\"data row0 col4\" >60000</td>\n",
       "                        <td id=\"T_18e407a6_d4a3_11ea_9ccc_701ce71031efrow0_col5\" class=\"data row0 col5\" >194</td>\n",
       "                        <td id=\"T_18e407a6_d4a3_11ea_9ccc_701ce71031efrow0_col6\" class=\"data row0 col6\" >16.14%</td>\n",
       "            </tr>\n",
       "            <tr>\n",
       "                                <td id=\"T_18e407a6_d4a3_11ea_9ccc_701ce71031efrow1_col0\" class=\"data row1 col0\" >深圳</td>\n",
       "                        <td id=\"T_18e407a6_d4a3_11ea_9ccc_701ce71031efrow1_col1\" class=\"data row1 col1\" >25382</td>\n",
       "                        <td id=\"T_18e407a6_d4a3_11ea_9ccc_701ce71031efrow1_col2\" class=\"data row1 col2\" >9000</td>\n",
       "                        <td id=\"T_18e407a6_d4a3_11ea_9ccc_701ce71031efrow1_col3\" class=\"data row1 col3\" >22214</td>\n",
       "                        <td id=\"T_18e407a6_d4a3_11ea_9ccc_701ce71031efrow1_col4\" class=\"data row1 col4\" >53340</td>\n",
       "                        <td id=\"T_18e407a6_d4a3_11ea_9ccc_701ce71031efrow1_col5\" class=\"data row1 col5\" >162</td>\n",
       "                        <td id=\"T_18e407a6_d4a3_11ea_9ccc_701ce71031efrow1_col6\" class=\"data row1 col6\" >13.48%</td>\n",
       "            </tr>\n",
       "            <tr>\n",
       "                                <td id=\"T_18e407a6_d4a3_11ea_9ccc_701ce71031efrow2_col0\" class=\"data row2 col0\" >上海</td>\n",
       "                        <td id=\"T_18e407a6_d4a3_11ea_9ccc_701ce71031efrow2_col1\" class=\"data row2 col1\" >24644</td>\n",
       "                        <td id=\"T_18e407a6_d4a3_11ea_9ccc_701ce71031efrow2_col2\" class=\"data row2 col2\" >7000</td>\n",
       "                        <td id=\"T_18e407a6_d4a3_11ea_9ccc_701ce71031efrow2_col3\" class=\"data row2 col3\" >22500</td>\n",
       "                        <td id=\"T_18e407a6_d4a3_11ea_9ccc_701ce71031efrow2_col4\" class=\"data row2 col4\" >62964</td>\n",
       "                        <td id=\"T_18e407a6_d4a3_11ea_9ccc_701ce71031efrow2_col5\" class=\"data row2 col5\" >194</td>\n",
       "                        <td id=\"T_18e407a6_d4a3_11ea_9ccc_701ce71031efrow2_col6\" class=\"data row2 col6\" >16.14%</td>\n",
       "            </tr>\n",
       "            <tr>\n",
       "                                <td id=\"T_18e407a6_d4a3_11ea_9ccc_701ce71031efrow3_col0\" class=\"data row3 col0\" >杭州</td>\n",
       "                        <td id=\"T_18e407a6_d4a3_11ea_9ccc_701ce71031efrow3_col1\" class=\"data row3 col1\" >18500</td>\n",
       "                        <td id=\"T_18e407a6_d4a3_11ea_9ccc_701ce71031efrow3_col2\" class=\"data row3 col2\" >11250</td>\n",
       "                        <td id=\"T_18e407a6_d4a3_11ea_9ccc_701ce71031efrow3_col3\" class=\"data row3 col3\" >18000</td>\n",
       "                        <td id=\"T_18e407a6_d4a3_11ea_9ccc_701ce71031efrow3_col4\" class=\"data row3 col4\" >32825</td>\n",
       "                        <td id=\"T_18e407a6_d4a3_11ea_9ccc_701ce71031efrow3_col5\" class=\"data row3 col5\" >54</td>\n",
       "                        <td id=\"T_18e407a6_d4a3_11ea_9ccc_701ce71031efrow3_col6\" class=\"data row3 col6\" >4.49%</td>\n",
       "            </tr>\n",
       "            <tr>\n",
       "                                <td id=\"T_18e407a6_d4a3_11ea_9ccc_701ce71031efrow4_col0\" class=\"data row4 col0\" >广州</td>\n",
       "                        <td id=\"T_18e407a6_d4a3_11ea_9ccc_701ce71031efrow4_col1\" class=\"data row4 col1\" >16244</td>\n",
       "                        <td id=\"T_18e407a6_d4a3_11ea_9ccc_701ce71031efrow4_col2\" class=\"data row4 col2\" >9017</td>\n",
       "                        <td id=\"T_18e407a6_d4a3_11ea_9ccc_701ce71031efrow4_col3\" class=\"data row4 col3\" >12500</td>\n",
       "                        <td id=\"T_18e407a6_d4a3_11ea_9ccc_701ce71031efrow4_col4\" class=\"data row4 col4\" >30000</td>\n",
       "                        <td id=\"T_18e407a6_d4a3_11ea_9ccc_701ce71031efrow4_col5\" class=\"data row4 col5\" >101</td>\n",
       "                        <td id=\"T_18e407a6_d4a3_11ea_9ccc_701ce71031efrow4_col6\" class=\"data row4 col6\" >8.40%</td>\n",
       "            </tr>\n",
       "            <tr>\n",
       "                                <td id=\"T_18e407a6_d4a3_11ea_9ccc_701ce71031efrow5_col0\" class=\"data row5 col0\" >武汉</td>\n",
       "                        <td id=\"T_18e407a6_d4a3_11ea_9ccc_701ce71031efrow5_col1\" class=\"data row5 col1\" >13572</td>\n",
       "                        <td id=\"T_18e407a6_d4a3_11ea_9ccc_701ce71031efrow5_col2\" class=\"data row5 col2\" >1681</td>\n",
       "                        <td id=\"T_18e407a6_d4a3_11ea_9ccc_701ce71031efrow5_col3\" class=\"data row5 col3\" >11875</td>\n",
       "                        <td id=\"T_18e407a6_d4a3_11ea_9ccc_701ce71031efrow5_col4\" class=\"data row5 col4\" >26833</td>\n",
       "                        <td id=\"T_18e407a6_d4a3_11ea_9ccc_701ce71031efrow5_col5\" class=\"data row5 col5\" >58</td>\n",
       "                        <td id=\"T_18e407a6_d4a3_11ea_9ccc_701ce71031efrow5_col6\" class=\"data row5 col6\" >4.83%</td>\n",
       "            </tr>\n",
       "            <tr>\n",
       "                                <td id=\"T_18e407a6_d4a3_11ea_9ccc_701ce71031efrow6_col0\" class=\"data row6 col0\" >哈尔滨</td>\n",
       "                        <td id=\"T_18e407a6_d4a3_11ea_9ccc_701ce71031efrow6_col1\" class=\"data row6 col1\" >5283</td>\n",
       "                        <td id=\"T_18e407a6_d4a3_11ea_9ccc_701ce71031efrow6_col2\" class=\"data row6 col2\" >5250</td>\n",
       "                        <td id=\"T_18e407a6_d4a3_11ea_9ccc_701ce71031efrow6_col3\" class=\"data row6 col3\" >5250</td>\n",
       "                        <td id=\"T_18e407a6_d4a3_11ea_9ccc_701ce71031efrow6_col4\" class=\"data row6 col4\" >5700</td>\n",
       "                        <td id=\"T_18e407a6_d4a3_11ea_9ccc_701ce71031efrow6_col5\" class=\"data row6 col5\" >68</td>\n",
       "                        <td id=\"T_18e407a6_d4a3_11ea_9ccc_701ce71031efrow6_col6\" class=\"data row6 col6\" >5.66%</td>\n",
       "            </tr>\n",
       "    </tbody></table>"
      ],
      "text/plain": [
       "<pandas.io.formats.style.Styler at 0x1d30ed4cc88>"
      ]
     },
     "execution_count": 23,
     "metadata": {},
     "output_type": "execute_result"
    }
   ],
   "source": [
    "data_pl=get_sub_stats_by_col(data,'city')\n",
    "data_pl=data_pl[data_pl['head_count']>50]\n",
    "apply_style(data_pl)"
   ]
  },
  {
   "cell_type": "code",
   "execution_count": 24,
   "metadata": {},
   "outputs": [
    {
     "data": {
      "text/plain": [
       "0.30865224625623977"
      ]
     },
     "execution_count": 24,
     "metadata": {},
     "output_type": "execute_result"
    }
   ],
   "source": [
    "other=1-data_pl['percentage'].sum()\n",
    "other"
   ]
  },
  {
   "cell_type": "code",
   "execution_count": 25,
   "metadata": {},
   "outputs": [],
   "source": [
    "head_counts=list(data_pl['percentage'].values)\n",
    "head_counts.append(other)\n",
    "head_counts\n",
    "\n",
    "labels=list(data_pl['city'].values)\n",
    "labels.append('其他')"
   ]
  },
  {
   "cell_type": "code",
   "execution_count": 26,
   "metadata": {},
   "outputs": [
    {
     "data": {
      "image/png": "[encoded data removed]",
      "text/plain": [
       "<Figure size 720x576 with 1 Axes>"
      ]
     },
     "metadata": {},
     "output_type": "display_data"
    }
   ],
   "source": [
    "\n",
    "plt.figure(figsize=(10,8))\n",
    "plt.pie(head_counts, labels=labels, autopct='%1.1f%%')\n",
    "plt.title(f'算法工程师去哪里')\n",
    "plt.show()"
   ]
  },
  {
   "cell_type": "markdown",
   "metadata": {},
   "source": [
    "# 编程语言"
   ]
  },
  {
   "cell_type": "code",
   "execution_count": 27,
   "metadata": {
    "scrolled": true
   },
   "outputs": [
    {
     "data": {
      "text/html": [
       "<style  type=\"text/css\" >\n",
       "</style><table id=\"T_2028cf18_d4a3_11ea_8f6e_701ce71031ef\" ><thead>    <tr>        <th class=\"col_heading level0 col0\" >rank</th>        <th class=\"col_heading level0 col1\" >pl_</th>        <th class=\"col_heading level0 col2\" >salary_mean</th>        <th class=\"col_heading level0 col3\" >salary_median</th>        <th class=\"col_heading level0 col4\" >salary_95_min</th>        <th class=\"col_heading level0 col5\" >salary_95_max</th>        <th class=\"col_heading level0 col6\" >head_count</th>        <th class=\"col_heading level0 col7\" >percentage</th>    </tr></thead><tbody>\n",
       "                <tr>\n",
       "                                <td id=\"T_2028cf18_d4a3_11ea_8f6e_701ce71031efrow0_col0\" class=\"data row0 col0\" >1</td>\n",
       "                        <td id=\"T_2028cf18_d4a3_11ea_8f6e_701ce71031efrow0_col1\" class=\"data row0 col1\" >go</td>\n",
       "                        <td id=\"T_2028cf18_d4a3_11ea_8f6e_701ce71031efrow0_col2\" class=\"data row0 col2\" >28199</td>\n",
       "                        <td id=\"T_2028cf18_d4a3_11ea_8f6e_701ce71031efrow0_col3\" class=\"data row0 col3\" >29167</td>\n",
       "                        <td id=\"T_2028cf18_d4a3_11ea_8f6e_701ce71031efrow0_col4\" class=\"data row0 col4\" >12175</td>\n",
       "                        <td id=\"T_2028cf18_d4a3_11ea_8f6e_701ce71031efrow0_col5\" class=\"data row0 col5\" >57555</td>\n",
       "                        <td id=\"T_2028cf18_d4a3_11ea_8f6e_701ce71031efrow0_col6\" class=\"data row0 col6\" >67</td>\n",
       "                        <td id=\"T_2028cf18_d4a3_11ea_8f6e_701ce71031efrow0_col7\" class=\"data row0 col7\" >4.10%</td>\n",
       "            </tr>\n",
       "            <tr>\n",
       "                                <td id=\"T_2028cf18_d4a3_11ea_8f6e_701ce71031efrow1_col0\" class=\"data row1 col0\" >3</td>\n",
       "                        <td id=\"T_2028cf18_d4a3_11ea_8f6e_701ce71031efrow1_col1\" class=\"data row1 col1\" >cpp</td>\n",
       "                        <td id=\"T_2028cf18_d4a3_11ea_8f6e_701ce71031efrow1_col2\" class=\"data row1 col2\" >25146</td>\n",
       "                        <td id=\"T_2028cf18_d4a3_11ea_8f6e_701ce71031efrow1_col3\" class=\"data row1 col3\" >22500</td>\n",
       "                        <td id=\"T_2028cf18_d4a3_11ea_8f6e_701ce71031efrow1_col4\" class=\"data row1 col4\" >7300</td>\n",
       "                        <td id=\"T_2028cf18_d4a3_11ea_8f6e_701ce71031efrow1_col5\" class=\"data row1 col5\" >60000</td>\n",
       "                        <td id=\"T_2028cf18_d4a3_11ea_8f6e_701ce71031efrow1_col6\" class=\"data row1 col6\" >370</td>\n",
       "                        <td id=\"T_2028cf18_d4a3_11ea_8f6e_701ce71031efrow1_col7\" class=\"data row1 col7\" >22.63%</td>\n",
       "            </tr>\n",
       "            <tr>\n",
       "                                <td id=\"T_2028cf18_d4a3_11ea_8f6e_701ce71031efrow2_col0\" class=\"data row2 col0\" >4</td>\n",
       "                        <td id=\"T_2028cf18_d4a3_11ea_8f6e_701ce71031efrow2_col1\" class=\"data row2 col1\" >matlab</td>\n",
       "                        <td id=\"T_2028cf18_d4a3_11ea_8f6e_701ce71031efrow2_col2\" class=\"data row2 col2\" >23418</td>\n",
       "                        <td id=\"T_2028cf18_d4a3_11ea_8f6e_701ce71031efrow2_col3\" class=\"data row2 col3\" >22500</td>\n",
       "                        <td id=\"T_2028cf18_d4a3_11ea_8f6e_701ce71031efrow2_col4\" class=\"data row2 col4\" >5250</td>\n",
       "                        <td id=\"T_2028cf18_d4a3_11ea_8f6e_701ce71031efrow2_col5\" class=\"data row2 col5\" >61625</td>\n",
       "                        <td id=\"T_2028cf18_d4a3_11ea_8f6e_701ce71031efrow2_col6\" class=\"data row2 col6\" >106</td>\n",
       "                        <td id=\"T_2028cf18_d4a3_11ea_8f6e_701ce71031efrow2_col7\" class=\"data row2 col7\" >6.48%</td>\n",
       "            </tr>\n",
       "            <tr>\n",
       "                                <td id=\"T_2028cf18_d4a3_11ea_8f6e_701ce71031efrow3_col0\" class=\"data row3 col0\" >5</td>\n",
       "                        <td id=\"T_2028cf18_d4a3_11ea_8f6e_701ce71031efrow3_col1\" class=\"data row3 col1\" >python</td>\n",
       "                        <td id=\"T_2028cf18_d4a3_11ea_8f6e_701ce71031efrow3_col2\" class=\"data row3 col2\" >22932</td>\n",
       "                        <td id=\"T_2028cf18_d4a3_11ea_8f6e_701ce71031efrow3_col3\" class=\"data row3 col3\" >20000</td>\n",
       "                        <td id=\"T_2028cf18_d4a3_11ea_8f6e_701ce71031efrow3_col4\" class=\"data row3 col4\" >5250</td>\n",
       "                        <td id=\"T_2028cf18_d4a3_11ea_8f6e_701ce71031efrow3_col5\" class=\"data row3 col5\" >56730</td>\n",
       "                        <td id=\"T_2028cf18_d4a3_11ea_8f6e_701ce71031efrow3_col6\" class=\"data row3 col6\" >569</td>\n",
       "                        <td id=\"T_2028cf18_d4a3_11ea_8f6e_701ce71031efrow3_col7\" class=\"data row3 col7\" >34.80%</td>\n",
       "            </tr>\n",
       "            <tr>\n",
       "                                <td id=\"T_2028cf18_d4a3_11ea_8f6e_701ce71031efrow4_col0\" class=\"data row4 col0\" >7</td>\n",
       "                        <td id=\"T_2028cf18_d4a3_11ea_8f6e_701ce71031efrow4_col1\" class=\"data row4 col1\" >java</td>\n",
       "                        <td id=\"T_2028cf18_d4a3_11ea_8f6e_701ce71031efrow4_col2\" class=\"data row4 col2\" >21433</td>\n",
       "                        <td id=\"T_2028cf18_d4a3_11ea_8f6e_701ce71031efrow4_col3\" class=\"data row4 col3\" >20000</td>\n",
       "                        <td id=\"T_2028cf18_d4a3_11ea_8f6e_701ce71031efrow4_col4\" class=\"data row4 col4\" >8750</td>\n",
       "                        <td id=\"T_2028cf18_d4a3_11ea_8f6e_701ce71031efrow4_col5\" class=\"data row4 col5\" >42187</td>\n",
       "                        <td id=\"T_2028cf18_d4a3_11ea_8f6e_701ce71031efrow4_col6\" class=\"data row4 col6\" >285</td>\n",
       "                        <td id=\"T_2028cf18_d4a3_11ea_8f6e_701ce71031efrow4_col7\" class=\"data row4 col7\" >17.43%</td>\n",
       "            </tr>\n",
       "            <tr>\n",
       "                                <td id=\"T_2028cf18_d4a3_11ea_8f6e_701ce71031efrow5_col0\" class=\"data row5 col0\" >8</td>\n",
       "                        <td id=\"T_2028cf18_d4a3_11ea_8f6e_701ce71031efrow5_col1\" class=\"data row5 col1\" >r</td>\n",
       "                        <td id=\"T_2028cf18_d4a3_11ea_8f6e_701ce71031efrow5_col2\" class=\"data row5 col2\" >20961</td>\n",
       "                        <td id=\"T_2028cf18_d4a3_11ea_8f6e_701ce71031efrow5_col3\" class=\"data row5 col3\" >20000</td>\n",
       "                        <td id=\"T_2028cf18_d4a3_11ea_8f6e_701ce71031efrow5_col4\" class=\"data row5 col4\" >5250</td>\n",
       "                        <td id=\"T_2028cf18_d4a3_11ea_8f6e_701ce71031efrow5_col5\" class=\"data row5 col5\" >41319</td>\n",
       "                        <td id=\"T_2028cf18_d4a3_11ea_8f6e_701ce71031efrow5_col6\" class=\"data row5 col6\" >125</td>\n",
       "                        <td id=\"T_2028cf18_d4a3_11ea_8f6e_701ce71031efrow5_col7\" class=\"data row5 col7\" >7.65%</td>\n",
       "            </tr>\n",
       "    </tbody></table>"
      ],
      "text/plain": [
       "<pandas.io.formats.style.Styler at 0x1d30ed7d048>"
      ]
     },
     "execution_count": 27,
     "metadata": {},
     "output_type": "execute_result"
    }
   ],
   "source": [
    "data_pl=get_sub_stats_by_prefix(data,'pl_')\n",
    "data_pl=data_pl[data_pl['head_count']>50]\n",
    "apply_style(data_pl)"
   ]
  },
  {
   "cell_type": "code",
   "execution_count": 28,
   "metadata": {},
   "outputs": [
    {
     "data": {
      "image/png": "[encoded data removed]",
      "text/plain": [
       "<Figure size 720x576 with 1 Axes>"
      ]
     },
     "metadata": {},
     "output_type": "display_data"
    }
   ],
   "source": [
    "head_counts=list(data_pl['percentage'].values)\n",
    "head_counts.append(other)\n",
    "head_counts\n",
    "\n",
    "labels=list(data_pl['pl_'].values)\n",
    "labels.append('其他')\n",
    "\n",
    "plt.figure(figsize=(10,8))\n",
    "plt.pie(head_counts, labels=labels, autopct='%1.0f%%')\n",
    "plt.title(f'算法工程师的编程语言')\n",
    "plt.show()"
   ]
  },
  {
   "cell_type": "markdown",
   "metadata": {},
   "source": [
    "## 大数据工具 "
   ]
  },
  {
   "cell_type": "code",
   "execution_count": 29,
   "metadata": {},
   "outputs": [
    {
     "data": {
      "text/html": [
       "<style  type=\"text/css\" >\n",
       "</style><table id=\"T_27b3d71c_d4a3_11ea_a36c_701ce71031ef\" ><thead>    <tr>        <th class=\"col_heading level0 col0\" >rank</th>        <th class=\"col_heading level0 col1\" >bd_</th>        <th class=\"col_heading level0 col2\" >salary_mean</th>        <th class=\"col_heading level0 col3\" >salary_median</th>        <th class=\"col_heading level0 col4\" >salary_95_min</th>        <th class=\"col_heading level0 col5\" >salary_95_max</th>        <th class=\"col_heading level0 col6\" >head_count</th>        <th class=\"col_heading level0 col7\" >percentage</th>    </tr></thead><tbody>\n",
       "                <tr>\n",
       "                                <td id=\"T_27b3d71c_d4a3_11ea_a36c_701ce71031efrow0_col0\" class=\"data row0 col0\" >2</td>\n",
       "                        <td id=\"T_27b3d71c_d4a3_11ea_a36c_701ce71031efrow0_col1\" class=\"data row0 col1\" >flink</td>\n",
       "                        <td id=\"T_27b3d71c_d4a3_11ea_a36c_701ce71031efrow0_col2\" class=\"data row0 col2\" >35269</td>\n",
       "                        <td id=\"T_27b3d71c_d4a3_11ea_a36c_701ce71031efrow0_col3\" class=\"data row0 col3\" >35000</td>\n",
       "                        <td id=\"T_27b3d71c_d4a3_11ea_a36c_701ce71031efrow0_col4\" class=\"data row0 col4\" >16500</td>\n",
       "                        <td id=\"T_27b3d71c_d4a3_11ea_a36c_701ce71031efrow0_col5\" class=\"data row0 col5\" >60000</td>\n",
       "                        <td id=\"T_27b3d71c_d4a3_11ea_a36c_701ce71031efrow0_col6\" class=\"data row0 col6\" >26</td>\n",
       "                        <td id=\"T_27b3d71c_d4a3_11ea_a36c_701ce71031efrow0_col7\" class=\"data row0 col7\" >5.78%</td>\n",
       "            </tr>\n",
       "            <tr>\n",
       "                                <td id=\"T_27b3d71c_d4a3_11ea_a36c_701ce71031efrow1_col0\" class=\"data row1 col0\" >3</td>\n",
       "                        <td id=\"T_27b3d71c_d4a3_11ea_a36c_701ce71031efrow1_col1\" class=\"data row1 col1\" >storm</td>\n",
       "                        <td id=\"T_27b3d71c_d4a3_11ea_a36c_701ce71031efrow1_col2\" class=\"data row1 col2\" >30729</td>\n",
       "                        <td id=\"T_27b3d71c_d4a3_11ea_a36c_701ce71031efrow1_col3\" class=\"data row1 col3\" >35000</td>\n",
       "                        <td id=\"T_27b3d71c_d4a3_11ea_a36c_701ce71031efrow1_col4\" class=\"data row1 col4\" >17500</td>\n",
       "                        <td id=\"T_27b3d71c_d4a3_11ea_a36c_701ce71031efrow1_col5\" class=\"data row1 col5\" >60000</td>\n",
       "                        <td id=\"T_27b3d71c_d4a3_11ea_a36c_701ce71031efrow1_col6\" class=\"data row1 col6\" >24</td>\n",
       "                        <td id=\"T_27b3d71c_d4a3_11ea_a36c_701ce71031efrow1_col7\" class=\"data row1 col7\" >5.33%</td>\n",
       "            </tr>\n",
       "            <tr>\n",
       "                                <td id=\"T_27b3d71c_d4a3_11ea_a36c_701ce71031efrow2_col0\" class=\"data row2 col0\" >5</td>\n",
       "                        <td id=\"T_27b3d71c_d4a3_11ea_a36c_701ce71031efrow2_col1\" class=\"data row2 col1\" >hive</td>\n",
       "                        <td id=\"T_27b3d71c_d4a3_11ea_a36c_701ce71031efrow2_col2\" class=\"data row2 col2\" >29377</td>\n",
       "                        <td id=\"T_27b3d71c_d4a3_11ea_a36c_701ce71031efrow2_col3\" class=\"data row2 col3\" >32500</td>\n",
       "                        <td id=\"T_27b3d71c_d4a3_11ea_a36c_701ce71031efrow2_col4\" class=\"data row2 col4\" >12500</td>\n",
       "                        <td id=\"T_27b3d71c_d4a3_11ea_a36c_701ce71031efrow2_col5\" class=\"data row2 col5\" >62000</td>\n",
       "                        <td id=\"T_27b3d71c_d4a3_11ea_a36c_701ce71031efrow2_col6\" class=\"data row2 col6\" >61</td>\n",
       "                        <td id=\"T_27b3d71c_d4a3_11ea_a36c_701ce71031efrow2_col7\" class=\"data row2 col7\" >13.56%</td>\n",
       "            </tr>\n",
       "            <tr>\n",
       "                                <td id=\"T_27b3d71c_d4a3_11ea_a36c_701ce71031efrow3_col0\" class=\"data row3 col0\" >6</td>\n",
       "                        <td id=\"T_27b3d71c_d4a3_11ea_a36c_701ce71031efrow3_col1\" class=\"data row3 col1\" >hadoop</td>\n",
       "                        <td id=\"T_27b3d71c_d4a3_11ea_a36c_701ce71031efrow3_col2\" class=\"data row3 col2\" >28693</td>\n",
       "                        <td id=\"T_27b3d71c_d4a3_11ea_a36c_701ce71031efrow3_col3\" class=\"data row3 col3\" >27500</td>\n",
       "                        <td id=\"T_27b3d71c_d4a3_11ea_a36c_701ce71031efrow3_col4\" class=\"data row3 col4\" >11250</td>\n",
       "                        <td id=\"T_27b3d71c_d4a3_11ea_a36c_701ce71031efrow3_col5\" class=\"data row3 col5\" >62000</td>\n",
       "                        <td id=\"T_27b3d71c_d4a3_11ea_a36c_701ce71031efrow3_col6\" class=\"data row3 col6\" >128</td>\n",
       "                        <td id=\"T_27b3d71c_d4a3_11ea_a36c_701ce71031efrow3_col7\" class=\"data row3 col7\" >28.44%</td>\n",
       "            </tr>\n",
       "            <tr>\n",
       "                                <td id=\"T_27b3d71c_d4a3_11ea_a36c_701ce71031efrow4_col0\" class=\"data row4 col0\" >7</td>\n",
       "                        <td id=\"T_27b3d71c_d4a3_11ea_a36c_701ce71031efrow4_col1\" class=\"data row4 col1\" >spark</td>\n",
       "                        <td id=\"T_27b3d71c_d4a3_11ea_a36c_701ce71031efrow4_col2\" class=\"data row4 col2\" >27922</td>\n",
       "                        <td id=\"T_27b3d71c_d4a3_11ea_a36c_701ce71031efrow4_col3\" class=\"data row4 col3\" >27500</td>\n",
       "                        <td id=\"T_27b3d71c_d4a3_11ea_a36c_701ce71031efrow4_col4\" class=\"data row4 col4\" >12071</td>\n",
       "                        <td id=\"T_27b3d71c_d4a3_11ea_a36c_701ce71031efrow4_col5\" class=\"data row4 col5\" >61250</td>\n",
       "                        <td id=\"T_27b3d71c_d4a3_11ea_a36c_701ce71031efrow4_col6\" class=\"data row4 col6\" >180</td>\n",
       "                        <td id=\"T_27b3d71c_d4a3_11ea_a36c_701ce71031efrow4_col7\" class=\"data row4 col7\" >40.00%</td>\n",
       "            </tr>\n",
       "            <tr>\n",
       "                                <td id=\"T_27b3d71c_d4a3_11ea_a36c_701ce71031efrow5_col0\" class=\"data row5 col0\" >8</td>\n",
       "                        <td id=\"T_27b3d71c_d4a3_11ea_a36c_701ce71031efrow5_col1\" class=\"data row5 col1\" >hbase</td>\n",
       "                        <td id=\"T_27b3d71c_d4a3_11ea_a36c_701ce71031efrow5_col2\" class=\"data row5 col2\" >24619</td>\n",
       "                        <td id=\"T_27b3d71c_d4a3_11ea_a36c_701ce71031efrow5_col3\" class=\"data row5 col3\" >18500</td>\n",
       "                        <td id=\"T_27b3d71c_d4a3_11ea_a36c_701ce71031efrow5_col4\" class=\"data row5 col4\" >15000</td>\n",
       "                        <td id=\"T_27b3d71c_d4a3_11ea_a36c_701ce71031efrow5_col5\" class=\"data row5 col5\" >60000</td>\n",
       "                        <td id=\"T_27b3d71c_d4a3_11ea_a36c_701ce71031efrow5_col6\" class=\"data row5 col6\" >21</td>\n",
       "                        <td id=\"T_27b3d71c_d4a3_11ea_a36c_701ce71031efrow5_col7\" class=\"data row5 col7\" >4.67%</td>\n",
       "            </tr>\n",
       "    </tbody></table>"
      ],
      "text/plain": [
       "<pandas.io.formats.style.Styler at 0x1d30ef64dc8>"
      ]
     },
     "execution_count": 29,
     "metadata": {},
     "output_type": "execute_result"
    }
   ],
   "source": [
    "data_pl=get_sub_stats_by_prefix(data,'bd_')\n",
    "data_pl=data_pl[data_pl['head_count']>10]\n",
    "apply_style(data_pl)"
   ]
  },
  {
   "cell_type": "code",
   "execution_count": 30,
   "metadata": {},
   "outputs": [
    {
     "data": {
      "image/png": "[encoded data removed]",
      "text/plain": [
       "<Figure size 720x576 with 1 Axes>"
      ]
     },
     "metadata": {},
     "output_type": "display_data"
    }
   ],
   "source": [
    "other=1-data_pl['percentage'].values.sum()\n",
    "head_counts=list(data_pl['percentage'].values)\n",
    "head_counts.append(other)\n",
    "head_counts\n",
    "\n",
    "labels=list(data_pl['bd_'].values)\n",
    "labels.append('其他')\n",
    "\n",
    "plt.figure(figsize=(10,8))\n",
    "plt.pie(head_counts, labels=labels, autopct='%1.0f%%')\n",
    "plt.title(f'算法工程师的大数据工具')\n",
    "plt.show()"
   ]
  },
  {
   "cell_type": "markdown",
   "metadata": {},
   "source": [
    "## 机器学习工具 "
   ]
  },
  {
   "cell_type": "code",
   "execution_count": 31,
   "metadata": {},
   "outputs": [
    {
     "data": {
      "text/html": [
       "<style  type=\"text/css\" >\n",
       "</style><table id=\"T_2b7dd6d8_d4a3_11ea_826b_701ce71031ef\" ><thead>    <tr>        <th class=\"col_heading level0 col0\" >rank</th>        <th class=\"col_heading level0 col1\" >ml_</th>        <th class=\"col_heading level0 col2\" >salary_mean</th>        <th class=\"col_heading level0 col3\" >salary_median</th>        <th class=\"col_heading level0 col4\" >salary_95_min</th>        <th class=\"col_heading level0 col5\" >salary_95_max</th>        <th class=\"col_heading level0 col6\" >head_count</th>        <th class=\"col_heading level0 col7\" >percentage</th>    </tr></thead><tbody>\n",
       "                <tr>\n",
       "                                <td id=\"T_2b7dd6d8_d4a3_11ea_826b_701ce71031efrow0_col0\" class=\"data row0 col0\" >1</td>\n",
       "                        <td id=\"T_2b7dd6d8_d4a3_11ea_826b_701ce71031efrow0_col1\" class=\"data row0 col1\" >pytorch</td>\n",
       "                        <td id=\"T_2b7dd6d8_d4a3_11ea_826b_701ce71031efrow0_col2\" class=\"data row0 col2\" >27230</td>\n",
       "                        <td id=\"T_2b7dd6d8_d4a3_11ea_826b_701ce71031efrow0_col3\" class=\"data row0 col3\" >25000</td>\n",
       "                        <td id=\"T_2b7dd6d8_d4a3_11ea_826b_701ce71031efrow0_col4\" class=\"data row0 col4\" >12408</td>\n",
       "                        <td id=\"T_2b7dd6d8_d4a3_11ea_826b_701ce71031efrow0_col5\" class=\"data row0 col5\" >54444</td>\n",
       "                        <td id=\"T_2b7dd6d8_d4a3_11ea_826b_701ce71031efrow0_col6\" class=\"data row0 col6\" >158</td>\n",
       "                        <td id=\"T_2b7dd6d8_d4a3_11ea_826b_701ce71031efrow0_col7\" class=\"data row0 col7\" >14.99%</td>\n",
       "            </tr>\n",
       "            <tr>\n",
       "                                <td id=\"T_2b7dd6d8_d4a3_11ea_826b_701ce71031efrow1_col0\" class=\"data row1 col0\" >2</td>\n",
       "                        <td id=\"T_2b7dd6d8_d4a3_11ea_826b_701ce71031efrow1_col1\" class=\"data row1 col1\" >mxnet</td>\n",
       "                        <td id=\"T_2b7dd6d8_d4a3_11ea_826b_701ce71031efrow1_col2\" class=\"data row1 col2\" >25909</td>\n",
       "                        <td id=\"T_2b7dd6d8_d4a3_11ea_826b_701ce71031efrow1_col3\" class=\"data row1 col3\" >22500</td>\n",
       "                        <td id=\"T_2b7dd6d8_d4a3_11ea_826b_701ce71031efrow1_col4\" class=\"data row1 col4\" >9000</td>\n",
       "                        <td id=\"T_2b7dd6d8_d4a3_11ea_826b_701ce71031efrow1_col5\" class=\"data row1 col5\" >62167</td>\n",
       "                        <td id=\"T_2b7dd6d8_d4a3_11ea_826b_701ce71031efrow1_col6\" class=\"data row1 col6\" >116</td>\n",
       "                        <td id=\"T_2b7dd6d8_d4a3_11ea_826b_701ce71031efrow1_col7\" class=\"data row1 col7\" >11.01%</td>\n",
       "            </tr>\n",
       "            <tr>\n",
       "                                <td id=\"T_2b7dd6d8_d4a3_11ea_826b_701ce71031efrow2_col0\" class=\"data row2 col0\" >3</td>\n",
       "                        <td id=\"T_2b7dd6d8_d4a3_11ea_826b_701ce71031efrow2_col1\" class=\"data row2 col1\" >tensorflow</td>\n",
       "                        <td id=\"T_2b7dd6d8_d4a3_11ea_826b_701ce71031efrow2_col2\" class=\"data row2 col2\" >25681</td>\n",
       "                        <td id=\"T_2b7dd6d8_d4a3_11ea_826b_701ce71031efrow2_col3\" class=\"data row2 col3\" >22500</td>\n",
       "                        <td id=\"T_2b7dd6d8_d4a3_11ea_826b_701ce71031efrow2_col4\" class=\"data row2 col4\" >5688</td>\n",
       "                        <td id=\"T_2b7dd6d8_d4a3_11ea_826b_701ce71031efrow2_col5\" class=\"data row2 col5\" >60042</td>\n",
       "                        <td id=\"T_2b7dd6d8_d4a3_11ea_826b_701ce71031efrow2_col6\" class=\"data row2 col6\" >338</td>\n",
       "                        <td id=\"T_2b7dd6d8_d4a3_11ea_826b_701ce71031efrow2_col7\" class=\"data row2 col7\" >32.07%</td>\n",
       "            </tr>\n",
       "            <tr>\n",
       "                                <td id=\"T_2b7dd6d8_d4a3_11ea_826b_701ce71031efrow3_col0\" class=\"data row3 col0\" >4</td>\n",
       "                        <td id=\"T_2b7dd6d8_d4a3_11ea_826b_701ce71031efrow3_col1\" class=\"data row3 col1\" >keras</td>\n",
       "                        <td id=\"T_2b7dd6d8_d4a3_11ea_826b_701ce71031efrow3_col2\" class=\"data row3 col2\" >25275</td>\n",
       "                        <td id=\"T_2b7dd6d8_d4a3_11ea_826b_701ce71031efrow3_col3\" class=\"data row3 col3\" >22500</td>\n",
       "                        <td id=\"T_2b7dd6d8_d4a3_11ea_826b_701ce71031efrow3_col4\" class=\"data row3 col4\" >5250</td>\n",
       "                        <td id=\"T_2b7dd6d8_d4a3_11ea_826b_701ce71031efrow3_col5\" class=\"data row3 col5\" >62500</td>\n",
       "                        <td id=\"T_2b7dd6d8_d4a3_11ea_826b_701ce71031efrow3_col6\" class=\"data row3 col6\" >91</td>\n",
       "                        <td id=\"T_2b7dd6d8_d4a3_11ea_826b_701ce71031efrow3_col7\" class=\"data row3 col7\" >8.63%</td>\n",
       "            </tr>\n",
       "            <tr>\n",
       "                                <td id=\"T_2b7dd6d8_d4a3_11ea_826b_701ce71031efrow4_col0\" class=\"data row4 col0\" >5</td>\n",
       "                        <td id=\"T_2b7dd6d8_d4a3_11ea_826b_701ce71031efrow4_col1\" class=\"data row4 col1\" >caffe</td>\n",
       "                        <td id=\"T_2b7dd6d8_d4a3_11ea_826b_701ce71031efrow4_col2\" class=\"data row4 col2\" >24557</td>\n",
       "                        <td id=\"T_2b7dd6d8_d4a3_11ea_826b_701ce71031efrow4_col3\" class=\"data row4 col3\" >22500</td>\n",
       "                        <td id=\"T_2b7dd6d8_d4a3_11ea_826b_701ce71031efrow4_col4\" class=\"data row4 col4\" >5250</td>\n",
       "                        <td id=\"T_2b7dd6d8_d4a3_11ea_826b_701ce71031efrow4_col5\" class=\"data row4 col5\" >60250</td>\n",
       "                        <td id=\"T_2b7dd6d8_d4a3_11ea_826b_701ce71031efrow4_col6\" class=\"data row4 col6\" >208</td>\n",
       "                        <td id=\"T_2b7dd6d8_d4a3_11ea_826b_701ce71031efrow4_col7\" class=\"data row4 col7\" >19.73%</td>\n",
       "            </tr>\n",
       "            <tr>\n",
       "                                <td id=\"T_2b7dd6d8_d4a3_11ea_826b_701ce71031efrow5_col0\" class=\"data row5 col0\" >6</td>\n",
       "                        <td id=\"T_2b7dd6d8_d4a3_11ea_826b_701ce71031efrow5_col1\" class=\"data row5 col1\" >sklearn</td>\n",
       "                        <td id=\"T_2b7dd6d8_d4a3_11ea_826b_701ce71031efrow5_col2\" class=\"data row5 col2\" >21971</td>\n",
       "                        <td id=\"T_2b7dd6d8_d4a3_11ea_826b_701ce71031efrow5_col3\" class=\"data row5 col3\" >17500</td>\n",
       "                        <td id=\"T_2b7dd6d8_d4a3_11ea_826b_701ce71031efrow5_col4\" class=\"data row5 col4\" >12500</td>\n",
       "                        <td id=\"T_2b7dd6d8_d4a3_11ea_826b_701ce71031efrow5_col5\" class=\"data row5 col5\" >45000</td>\n",
       "                        <td id=\"T_2b7dd6d8_d4a3_11ea_826b_701ce71031efrow5_col6\" class=\"data row5 col6\" >87</td>\n",
       "                        <td id=\"T_2b7dd6d8_d4a3_11ea_826b_701ce71031efrow5_col7\" class=\"data row5 col7\" >8.25%</td>\n",
       "            </tr>\n",
       "    </tbody></table>"
      ],
      "text/plain": [
       "<pandas.io.formats.style.Styler at 0x1d30e263608>"
      ]
     },
     "execution_count": 31,
     "metadata": {},
     "output_type": "execute_result"
    }
   ],
   "source": [
    "data_pl=get_sub_stats_by_prefix(data,'ml_')\n",
    "data_pl=data_pl[data_pl['head_count']>50]\n",
    "apply_style(data_pl)"
   ]
  },
  {
   "cell_type": "code",
   "execution_count": 32,
   "metadata": {},
   "outputs": [
    {
     "data": {
      "text/plain": [
       "0.9468690702087286"
      ]
     },
     "execution_count": 32,
     "metadata": {},
     "output_type": "execute_result"
    }
   ],
   "source": [
    "data_pl['percentage'].values.sum()"
   ]
  },
  {
   "cell_type": "code",
   "execution_count": 33,
   "metadata": {},
   "outputs": [
    {
     "data": {
      "image/png": "[encoded data removed]",
      "text/plain": [
       "<Figure size 720x576 with 1 Axes>"
      ]
     },
     "metadata": {},
     "output_type": "display_data"
    }
   ],
   "source": [
    "other=1-data_pl['percentage'].values.sum()\n",
    "head_counts=list(data_pl['percentage'].values)\n",
    "head_counts.append(other)\n",
    "head_counts\n",
    "\n",
    "labels=list(data_pl['ml_'].values)\n",
    "labels.append('其他')\n",
    "\n",
    "plt.figure(figsize=(10,8))\n",
    "plt.pie(head_counts, labels=labels, autopct='%1.0f%%')\n",
    "plt.title(f'算法工程师的机器学习库')\n",
    "plt.show()"
   ]
  },
  {
   "cell_type": "markdown",
   "metadata": {},
   "source": [
    "## 英语"
   ]
  },
  {
   "cell_type": "code",
   "execution_count": null,
   "metadata": {},
   "outputs": [],
   "source": []
  },
  {
   "cell_type": "code",
   "execution_count": 36,
   "metadata": {},
   "outputs": [],
   "source": [
    "all_=data.shape[0]\n",
    "en=data[data['lang_english']==1].shape[0]\n",
    "other=all_-en"
   ]
  },
  {
   "cell_type": "code",
   "execution_count": 37,
   "metadata": {},
   "outputs": [
    {
     "data": {
      "image/png": "[encoded data removed]",
      "text/plain": [
       "<Figure size 720x576 with 1 Axes>"
      ]
     },
     "metadata": {},
     "output_type": "display_data"
    }
   ],
   "source": [
    "plt.figure(figsize=(10,8))\n",
    "plt.pie([en,other], labels=['要求英语','没说'])\n",
    "plt.show()"
   ]
  },
  {
   "cell_type": "markdown",
   "metadata": {},
   "source": [
    "# 教育"
   ]
  },
  {
   "cell_type": "code",
   "execution_count": 38,
   "metadata": {},
   "outputs": [],
   "source": [
    "edu_counts=data[~(data.edu=='')].groupby(by=['edu']).headcount.sum()"
   ]
  },
  {
   "cell_type": "code",
   "execution_count": 39,
   "metadata": {},
   "outputs": [
    {
     "data": {
      "text/plain": [
       "edu\n",
       "博士     19\n",
       "大专    238\n",
       "本科    619\n",
       "硕士    253\n",
       "高中      8\n",
       "Name: headcount, dtype: int64"
      ]
     },
     "execution_count": 39,
     "metadata": {},
     "output_type": "execute_result"
    }
   ],
   "source": [
    "edu_counts"
   ]
  },
  {
   "cell_type": "code",
   "execution_count": 40,
   "metadata": {},
   "outputs": [
    {
     "data": {
      "image/png": "[encoded data removed]",
      "text/plain": [
       "<Figure size 720x576 with 1 Axes>"
      ]
     },
     "metadata": {},
     "output_type": "display_data"
    }
   ],
   "source": [
    "plt.figure(figsize=(10,8))\n",
    "plt.pie(edu_counts.values, labels=edu_counts.index, autopct='%1.1f%%')\n",
    "plt.show()"
   ]
  },
  {
   "cell_type": "code",
   "execution_count": 41,
   "metadata": {},
   "outputs": [
    {
     "data": {
      "text/html": [
       "<style  type=\"text/css\" >\n",
       "</style><table id=\"T_50d2e134_d4a3_11ea_ad4d_701ce71031ef\" ><thead>    <tr>        <th class=\"col_heading level0 col0\" >edu</th>        <th class=\"col_heading level0 col1\" >salary_mean</th>        <th class=\"col_heading level0 col2\" >salary_95_min</th>        <th class=\"col_heading level0 col3\" >salary_median</th>        <th class=\"col_heading level0 col4\" >salary_95_max</th>        <th class=\"col_heading level0 col5\" >head_count</th>        <th class=\"col_heading level0 col6\" >percentage</th>    </tr></thead><tbody>\n",
       "                <tr>\n",
       "                                <td id=\"T_50d2e134_d4a3_11ea_ad4d_701ce71031efrow0_col0\" class=\"data row0 col0\" >博士</td>\n",
       "                        <td id=\"T_50d2e134_d4a3_11ea_ad4d_701ce71031efrow0_col1\" class=\"data row0 col1\" >31474</td>\n",
       "                        <td id=\"T_50d2e134_d4a3_11ea_ad4d_701ce71031efrow0_col2\" class=\"data row0 col2\" >15500</td>\n",
       "                        <td id=\"T_50d2e134_d4a3_11ea_ad4d_701ce71031efrow0_col3\" class=\"data row0 col3\" >31562</td>\n",
       "                        <td id=\"T_50d2e134_d4a3_11ea_ad4d_701ce71031efrow0_col4\" class=\"data row0 col4\" >45000</td>\n",
       "                        <td id=\"T_50d2e134_d4a3_11ea_ad4d_701ce71031efrow0_col5\" class=\"data row0 col5\" >19</td>\n",
       "                        <td id=\"T_50d2e134_d4a3_11ea_ad4d_701ce71031efrow0_col6\" class=\"data row0 col6\" >1.67%</td>\n",
       "            </tr>\n",
       "            <tr>\n",
       "                                <td id=\"T_50d2e134_d4a3_11ea_ad4d_701ce71031efrow1_col0\" class=\"data row1 col0\" >硕士</td>\n",
       "                        <td id=\"T_50d2e134_d4a3_11ea_ad4d_701ce71031efrow1_col1\" class=\"data row1 col1\" >25946</td>\n",
       "                        <td id=\"T_50d2e134_d4a3_11ea_ad4d_701ce71031efrow1_col2\" class=\"data row1 col2\" >10416</td>\n",
       "                        <td id=\"T_50d2e134_d4a3_11ea_ad4d_701ce71031efrow1_col3\" class=\"data row1 col3\" >21500</td>\n",
       "                        <td id=\"T_50d2e134_d4a3_11ea_ad4d_701ce71031efrow1_col4\" class=\"data row1 col4\" >62625</td>\n",
       "                        <td id=\"T_50d2e134_d4a3_11ea_ad4d_701ce71031efrow1_col5\" class=\"data row1 col5\" >253</td>\n",
       "                        <td id=\"T_50d2e134_d4a3_11ea_ad4d_701ce71031efrow1_col6\" class=\"data row1 col6\" >22.25%</td>\n",
       "            </tr>\n",
       "            <tr>\n",
       "                                <td id=\"T_50d2e134_d4a3_11ea_ad4d_701ce71031efrow2_col0\" class=\"data row2 col0\" >本科</td>\n",
       "                        <td id=\"T_50d2e134_d4a3_11ea_ad4d_701ce71031efrow2_col1\" class=\"data row2 col1\" >20388</td>\n",
       "                        <td id=\"T_50d2e134_d4a3_11ea_ad4d_701ce71031efrow2_col2\" class=\"data row2 col2\" >6995</td>\n",
       "                        <td id=\"T_50d2e134_d4a3_11ea_ad4d_701ce71031efrow2_col3\" class=\"data row2 col3\" >17500</td>\n",
       "                        <td id=\"T_50d2e134_d4a3_11ea_ad4d_701ce71031efrow2_col4\" class=\"data row2 col4\" >45000</td>\n",
       "                        <td id=\"T_50d2e134_d4a3_11ea_ad4d_701ce71031efrow2_col5\" class=\"data row2 col5\" >619</td>\n",
       "                        <td id=\"T_50d2e134_d4a3_11ea_ad4d_701ce71031efrow2_col6\" class=\"data row2 col6\" >54.44%</td>\n",
       "            </tr>\n",
       "            <tr>\n",
       "                                <td id=\"T_50d2e134_d4a3_11ea_ad4d_701ce71031efrow3_col0\" class=\"data row3 col0\" >大专</td>\n",
       "                        <td id=\"T_50d2e134_d4a3_11ea_ad4d_701ce71031efrow3_col1\" class=\"data row3 col1\" >10989</td>\n",
       "                        <td id=\"T_50d2e134_d4a3_11ea_ad4d_701ce71031efrow3_col2\" class=\"data row3 col2\" >3966</td>\n",
       "                        <td id=\"T_50d2e134_d4a3_11ea_ad4d_701ce71031efrow3_col3\" class=\"data row3 col3\" >9000</td>\n",
       "                        <td id=\"T_50d2e134_d4a3_11ea_ad4d_701ce71031efrow3_col4\" class=\"data row3 col4\" >49650</td>\n",
       "                        <td id=\"T_50d2e134_d4a3_11ea_ad4d_701ce71031efrow3_col5\" class=\"data row3 col5\" >238</td>\n",
       "                        <td id=\"T_50d2e134_d4a3_11ea_ad4d_701ce71031efrow3_col6\" class=\"data row3 col6\" >20.93%</td>\n",
       "            </tr>\n",
       "            <tr>\n",
       "                                <td id=\"T_50d2e134_d4a3_11ea_ad4d_701ce71031efrow4_col0\" class=\"data row4 col0\" >高中</td>\n",
       "                        <td id=\"T_50d2e134_d4a3_11ea_ad4d_701ce71031efrow4_col1\" class=\"data row4 col1\" >5719</td>\n",
       "                        <td id=\"T_50d2e134_d4a3_11ea_ad4d_701ce71031efrow4_col2\" class=\"data row4 col2\" >3750</td>\n",
       "                        <td id=\"T_50d2e134_d4a3_11ea_ad4d_701ce71031efrow4_col3\" class=\"data row4 col3\" >5167</td>\n",
       "                        <td id=\"T_50d2e134_d4a3_11ea_ad4d_701ce71031efrow4_col4\" class=\"data row4 col4\" >11000</td>\n",
       "                        <td id=\"T_50d2e134_d4a3_11ea_ad4d_701ce71031efrow4_col5\" class=\"data row4 col5\" >8</td>\n",
       "                        <td id=\"T_50d2e134_d4a3_11ea_ad4d_701ce71031efrow4_col6\" class=\"data row4 col6\" >0.70%</td>\n",
       "            </tr>\n",
       "    </tbody></table>"
      ],
      "text/plain": [
       "<pandas.io.formats.style.Styler at 0x1d30efc99c8>"
      ]
     },
     "execution_count": 41,
     "metadata": {},
     "output_type": "execute_result"
    }
   ],
   "source": [
    "data_edu=get_sub_stats_by_col(data[data.edu.isin(['初中及以下','高中','大专','本科','硕士','博士'])], 'edu')\n",
    "apply_style(data_edu)"
   ]
  },
  {
   "cell_type": "code",
   "execution_count": 42,
   "metadata": {},
   "outputs": [],
   "source": [
    "salary_associate=data[data.edu=='大专'].monthly_salary\n",
    "salary_bachelor=data[data.edu=='本科'].monthly_salary\n",
    "salary_master=data[data.edu=='硕士'].monthly_salary\n",
    "salary_phd=data[data.edu=='博士'].monthly_salary"
   ]
  },
  {
   "cell_type": "code",
   "execution_count": null,
   "metadata": {},
   "outputs": [],
   "source": []
  },
  {
   "cell_type": "code",
   "execution_count": 43,
   "metadata": {},
   "outputs": [
    {
     "name": "stdout",
     "output_type": "stream",
     "text": [
      "大专，本科，硕士，博士的平均工资分别是10012，20494，26524，29705。中位数分别是7000， 17500，22500， 27500。\n"
     ]
    }
   ],
   "source": [
    "print('大专，本科，硕士，博士的平均工资分别是{:.0f}，{:.0f}，{:.0f}，{:.0f}。中位数分别是{:.0f}， {:.0f}，{:.0f}， {:.0f}。'.format(\n",
    "    salary_associate.mean(),salary_bachelor.mean(),salary_master.mean(),salary_phd.mean(),\n",
    "    salary_associate.median(),salary_bachelor.median(),salary_master.median(),salary_phd.median()))"
   ]
  },
  {
   "cell_type": "code",
   "execution_count": 44,
   "metadata": {},
   "outputs": [
    {
     "data": {
      "text/plain": [
       "F_onewayResult(statistic=0.5330441728778433, pvalue=0.467071512722414)"
      ]
     },
     "execution_count": 44,
     "metadata": {},
     "output_type": "execute_result"
    }
   ],
   "source": [
    "stats.f_oneway(salary_phd, salary_master)"
   ]
  },
  {
   "cell_type": "code",
   "execution_count": 45,
   "metadata": {},
   "outputs": [
    {
     "data": {
      "text/plain": [
       "F_onewayResult(statistic=16.388744498438985, pvalue=6.508214295989486e-05)"
      ]
     },
     "execution_count": 45,
     "metadata": {},
     "output_type": "execute_result"
    }
   ],
   "source": [
    "stats.f_oneway(salary_master, salary_bachelor)"
   ]
  },
  {
   "cell_type": "code",
   "execution_count": 46,
   "metadata": {},
   "outputs": [
    {
     "data": {
      "text/plain": [
       "F_onewayResult(statistic=58.46092338722074, pvalue=2.785755456840375e-13)"
      ]
     },
     "execution_count": 46,
     "metadata": {},
     "output_type": "execute_result"
    }
   ],
   "source": [
    "stats.f_oneway(salary_bachelor, salary_associate)"
   ]
  },
  {
   "cell_type": "markdown",
   "metadata": {},
   "source": [
    "经过Oneway Anova Test，证明从大专到博士，学历每提高一级，工资都有显著的提高。"
   ]
  },
  {
   "cell_type": "code",
   "execution_count": 47,
   "metadata": {},
   "outputs": [
    {
     "data": {
      "image/png": "[encoded data removed]",
      "text/plain": [
       "<Figure size 432x288 with 1 Axes>"
      ]
     },
     "metadata": {
      "needs_background": "light"
     },
     "output_type": "display_data"
    }
   ],
   "source": [
    "\n",
    "order=['大专','本科','硕士','博士']\n",
    "a=sns.boxplot(y='edu',x='monthly_salary',order=order,data=data[data.edu.isin(order)], orient='h')\n",
    "plt.annotate('https://github.com/juwikuang/job_survey', xy=(0.5,1.5), xytext=(2, 1.55))\n",
    "plt.show()"
   ]
  },
  {
   "cell_type": "markdown",
   "metadata": {},
   "source": [
    "# 工作经验 Working Experience"
   ]
  },
  {
   "cell_type": "code",
   "execution_count": 48,
   "metadata": {},
   "outputs": [
    {
     "data": {
      "text/html": [
       "<style  type=\"text/css\" >\n",
       "</style><table id=\"T_5c1d853e_d4a3_11ea_a4f1_701ce71031ef\" ><thead>    <tr>        <th class=\"col_heading level0 col0\" >experience</th>        <th class=\"col_heading level0 col1\" >salary_mean</th>        <th class=\"col_heading level0 col2\" >salary_95_min</th>        <th class=\"col_heading level0 col3\" >salary_median</th>        <th class=\"col_heading level0 col4\" >salary_95_max</th>        <th class=\"col_heading level0 col5\" >head_count</th>        <th class=\"col_heading level0 col6\" >percentage</th>    </tr></thead><tbody>\n",
       "                <tr>\n",
       "                                <td id=\"T_5c1d853e_d4a3_11ea_a4f1_701ce71031efrow0_col0\" class=\"data row0 col0\" >10+</td>\n",
       "                        <td id=\"T_5c1d853e_d4a3_11ea_a4f1_701ce71031efrow0_col1\" class=\"data row0 col1\" >57500</td>\n",
       "                        <td id=\"T_5c1d853e_d4a3_11ea_a4f1_701ce71031efrow0_col2\" class=\"data row0 col2\" >22500</td>\n",
       "                        <td id=\"T_5c1d853e_d4a3_11ea_a4f1_701ce71031efrow0_col3\" class=\"data row0 col3\" >66250</td>\n",
       "                        <td id=\"T_5c1d853e_d4a3_11ea_a4f1_701ce71031efrow0_col4\" class=\"data row0 col4\" >75000</td>\n",
       "                        <td id=\"T_5c1d853e_d4a3_11ea_a4f1_701ce71031efrow0_col5\" class=\"data row0 col5\" >4</td>\n",
       "                        <td id=\"T_5c1d853e_d4a3_11ea_a4f1_701ce71031efrow0_col6\" class=\"data row0 col6\" >0.33%</td>\n",
       "            </tr>\n",
       "            <tr>\n",
       "                                <td id=\"T_5c1d853e_d4a3_11ea_a4f1_701ce71031efrow1_col0\" class=\"data row1 col0\" >5_10</td>\n",
       "                        <td id=\"T_5c1d853e_d4a3_11ea_a4f1_701ce71031efrow1_col1\" class=\"data row1 col1\" >31509</td>\n",
       "                        <td id=\"T_5c1d853e_d4a3_11ea_a4f1_701ce71031efrow1_col2\" class=\"data row1 col2\" >11717</td>\n",
       "                        <td id=\"T_5c1d853e_d4a3_11ea_a4f1_701ce71031efrow1_col3\" class=\"data row1 col3\" >30000</td>\n",
       "                        <td id=\"T_5c1d853e_d4a3_11ea_a4f1_701ce71031efrow1_col4\" class=\"data row1 col4\" >60000</td>\n",
       "                        <td id=\"T_5c1d853e_d4a3_11ea_a4f1_701ce71031efrow1_col5\" class=\"data row1 col5\" >93</td>\n",
       "                        <td id=\"T_5c1d853e_d4a3_11ea_a4f1_701ce71031efrow1_col6\" class=\"data row1 col6\" >7.74%</td>\n",
       "            </tr>\n",
       "            <tr>\n",
       "                                <td id=\"T_5c1d853e_d4a3_11ea_a4f1_701ce71031efrow2_col0\" class=\"data row2 col0\" >3_5</td>\n",
       "                        <td id=\"T_5c1d853e_d4a3_11ea_a4f1_701ce71031efrow2_col1\" class=\"data row2 col1\" >24347</td>\n",
       "                        <td id=\"T_5c1d853e_d4a3_11ea_a4f1_701ce71031efrow2_col2\" class=\"data row2 col2\" >7500</td>\n",
       "                        <td id=\"T_5c1d853e_d4a3_11ea_a4f1_701ce71031efrow2_col3\" class=\"data row2 col3\" >22500</td>\n",
       "                        <td id=\"T_5c1d853e_d4a3_11ea_a4f1_701ce71031efrow2_col4\" class=\"data row2 col4\" >49667</td>\n",
       "                        <td id=\"T_5c1d853e_d4a3_11ea_a4f1_701ce71031efrow2_col5\" class=\"data row2 col5\" >350</td>\n",
       "                        <td id=\"T_5c1d853e_d4a3_11ea_a4f1_701ce71031efrow2_col6\" class=\"data row2 col6\" >29.12%</td>\n",
       "            </tr>\n",
       "            <tr>\n",
       "                                <td id=\"T_5c1d853e_d4a3_11ea_a4f1_701ce71031efrow3_col0\" class=\"data row3 col0\" ></td>\n",
       "                        <td id=\"T_5c1d853e_d4a3_11ea_a4f1_701ce71031efrow3_col1\" class=\"data row3 col1\" >16181</td>\n",
       "                        <td id=\"T_5c1d853e_d4a3_11ea_a4f1_701ce71031efrow3_col2\" class=\"data row3 col2\" >4028</td>\n",
       "                        <td id=\"T_5c1d853e_d4a3_11ea_a4f1_701ce71031efrow3_col3\" class=\"data row3 col3\" >12500</td>\n",
       "                        <td id=\"T_5c1d853e_d4a3_11ea_a4f1_701ce71031efrow3_col4\" class=\"data row3 col4\" >52132</td>\n",
       "                        <td id=\"T_5c1d853e_d4a3_11ea_a4f1_701ce71031efrow3_col5\" class=\"data row3 col5\" >243</td>\n",
       "                        <td id=\"T_5c1d853e_d4a3_11ea_a4f1_701ce71031efrow3_col6\" class=\"data row3 col6\" >20.22%</td>\n",
       "            </tr>\n",
       "            <tr>\n",
       "                                <td id=\"T_5c1d853e_d4a3_11ea_a4f1_701ce71031efrow4_col0\" class=\"data row4 col0\" >1_3</td>\n",
       "                        <td id=\"T_5c1d853e_d4a3_11ea_a4f1_701ce71031efrow4_col1\" class=\"data row4 col1\" >15710</td>\n",
       "                        <td id=\"T_5c1d853e_d4a3_11ea_a4f1_701ce71031efrow4_col2\" class=\"data row4 col2\" >5250</td>\n",
       "                        <td id=\"T_5c1d853e_d4a3_11ea_a4f1_701ce71031efrow4_col3\" class=\"data row4 col3\" >12500</td>\n",
       "                        <td id=\"T_5c1d853e_d4a3_11ea_a4f1_701ce71031efrow4_col4\" class=\"data row4 col4\" >37500</td>\n",
       "                        <td id=\"T_5c1d853e_d4a3_11ea_a4f1_701ce71031efrow4_col5\" class=\"data row4 col5\" >512</td>\n",
       "                        <td id=\"T_5c1d853e_d4a3_11ea_a4f1_701ce71031efrow4_col6\" class=\"data row4 col6\" >42.60%</td>\n",
       "            </tr>\n",
       "    </tbody></table>"
      ],
      "text/plain": [
       "<pandas.io.formats.style.Styler at 0x1d30f2ea108>"
      ]
     },
     "execution_count": 48,
     "metadata": {},
     "output_type": "execute_result"
    }
   ],
   "source": [
    "data_experience=get_sub_stats_by_col(data, 'experience')\n",
    "apply_style(data_experience)"
   ]
  },
  {
   "cell_type": "code",
   "execution_count": 49,
   "metadata": {},
   "outputs": [],
   "source": [
    "salary_we_10=data[data.experience=='10+'].monthly_salary\n",
    "salary_we_5_10=data[data.experience=='5_10'].monthly_salary\n",
    "salary_we_3_5=data[data.experience=='3_5'].monthly_salary\n",
    "salary_we_1_3=data[data.experience=='1_3'].monthly_salary\n",
    "salary_we_no=data[data.experience=='no'].monthly_salary"
   ]
  },
  {
   "cell_type": "code",
   "execution_count": 50,
   "metadata": {},
   "outputs": [
    {
     "data": {
      "image/png": "[encoded data removed]",
      "text/plain": [
       "<Figure size 432x288 with 1 Axes>"
      ]
     },
     "metadata": {
      "needs_background": "light"
     },
     "output_type": "display_data"
    }
   ],
   "source": [
    "\n",
    "order=['10+','5_10','3_5','1_3']\n",
    "sns.boxplot(y='experience',x='monthly_salary',order=order,data=data[data.experience.isin(order)], orient='h')\n",
    "plt.annotate('https://github.com/juwikuang/job_survey', xy=(1.5,1.5), xytext=(1.55, 1.55))\n",
    "plt.show()"
   ]
  }
 ],
 "metadata": {
  "kernelspec": {
   "display_name": "Python 3",
   "language": "python",
   "name": "python3"
  },
  "language_info": {
   "codemirror_mode": {
    "name": "ipython",
    "version": 3
   },
   "file_extension": ".py",
   "mimetype": "text/x-python",
   "name": "python",
   "nbconvert_exporter": "python",
   "pygments_lexer": "ipython3",
   "version": "3.7.6"
  }
 },
 "nbformat": 4,
 "nbformat_minor": 4
}
