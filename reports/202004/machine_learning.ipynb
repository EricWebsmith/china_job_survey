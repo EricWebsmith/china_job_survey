{
 "cells": [
  {
   "cell_type": "code",
   "execution_count": 1,
   "metadata": {},
   "outputs": [],
   "source": [
    "from config import *"
   ]
  },
  {
   "cell_type": "code",
   "execution_count": 2,
   "metadata": {},
   "outputs": [
    {
     "name": "stdout",
     "output_type": "stream",
     "text": [
      "2020年4月\n"
     ]
    }
   ],
   "source": [
    "print(f'{year}年{month}月')"
   ]
  },
  {
   "cell_type": "markdown",
   "metadata": {},
   "source": []
  },
  {
   "cell_type": "code",
   "execution_count": 3,
   "metadata": {},
   "outputs": [],
   "source": [
    "import pandas as pd\n",
    "import sys\n",
    "sys.path.append('..')\n",
    "sys.path.append('../py')\n",
    "sys.path.append('../../py')\n",
    "import db\n",
    "import inspect\n",
    "import matplotlib.pyplot as plt\n",
    "plt.rcParams['font.sans-serif']=['SimHei'] #用来正常显示中文标签\n",
    "plt.rcParams['axes.unicode_minus']=False #用来正常显示负号\n",
    "import seaborn as sns\n",
    "import scipy.stats as stats\n",
    "import numpy as np\n",
    "import weighted\n",
    "%matplotlib inline"
   ]
  },
  {
   "cell_type": "code",
   "execution_count": 4,
   "metadata": {},
   "outputs": [],
   "source": [
    "conn=db.get_conn()\n",
    "data=pd.read_sql(sql=f\"select * from _{year}{month:02} where monthly_salary>0 and career='机器学习'  and monthly_salary<80000\", con=conn)\n",
    "conn.close()"
   ]
  },
  {
   "cell_type": "code",
   "execution_count": null,
   "metadata": {},
   "outputs": [],
   "source": []
  },
  {
   "cell_type": "code",
   "execution_count": 5,
   "metadata": {},
   "outputs": [],
   "source": [
    "#del data['publish_date']\n",
    "#del data['published_on_weekend']\n",
    "#del data['title']\n",
    "#del data['title']\n",
    "#del data['company_title']\n",
    "#del data['company_description']\n",
    "#del data['job_description']\n",
    "#del data['job_id']"
   ]
  },
  {
   "cell_type": "code",
   "execution_count": 6,
   "metadata": {},
   "outputs": [
    {
     "data": {
      "text/html": [
       "<div>\n",
       "<style scoped>\n",
       "    .dataframe tbody tr th:only-of-type {\n",
       "        vertical-align: middle;\n",
       "    }\n",
       "\n",
       "    .dataframe tbody tr th {\n",
       "        vertical-align: top;\n",
       "    }\n",
       "\n",
       "    .dataframe thead th {\n",
       "        text-align: right;\n",
       "    }\n",
       "</style>\n",
       "<table border=\"1\" class=\"dataframe\">\n",
       "  <thead>\n",
       "    <tr style=\"text-align: right;\">\n",
       "      <th></th>\n",
       "      <th>job_id</th>\n",
       "      <th>monthly_salary</th>\n",
       "      <th>headcount</th>\n",
       "      <th>title</th>\n",
       "      <th>zhinengleibie</th>\n",
       "      <th>career</th>\n",
       "      <th>real_province</th>\n",
       "      <th>province</th>\n",
       "      <th>city</th>\n",
       "      <th>company_description</th>\n",
       "      <th>...</th>\n",
       "      <th>bd_flink</th>\n",
       "      <th>bd_presto</th>\n",
       "      <th>bd_heron</th>\n",
       "      <th>ml_sklearn</th>\n",
       "      <th>ml_mllib</th>\n",
       "      <th>ml_tensorlayer</th>\n",
       "      <th>ml_paddlepaddle</th>\n",
       "      <th>ml_cntk</th>\n",
       "      <th>ml_theano</th>\n",
       "      <th>ml_mahout</th>\n",
       "    </tr>\n",
       "  </thead>\n",
       "  <tbody>\n",
       "    <tr>\n",
       "      <th>861</th>\n",
       "      <td>120437646</td>\n",
       "      <td>29166</td>\n",
       "      <td>50</td>\n",
       "      <td>算法类：nlp/cv/语音/数据/量化-上深</td>\n",
       "      <td>算法工程师</td>\n",
       "      <td>机器学习</td>\n",
       "      <td>None</td>\n",
       "      <td>广东</td>\n",
       "      <td>深圳</td>\n",
       "      <td>我们是世界29强平安集团旗下科技解决方案专家专注于为机构、企业、政府提供端对端智能科技服务基...</td>\n",
       "      <td>...</td>\n",
       "      <td>False</td>\n",
       "      <td>False</td>\n",
       "      <td>False</td>\n",
       "      <td>False</td>\n",
       "      <td>False</td>\n",
       "      <td>False</td>\n",
       "      <td>False</td>\n",
       "      <td>False</td>\n",
       "      <td>False</td>\n",
       "      <td>False</td>\n",
       "    </tr>\n",
       "  </tbody>\n",
       "</table>\n",
       "<p>1 rows × 122 columns</p>\n",
       "</div>"
      ],
      "text/plain": [
       "        job_id  monthly_salary  headcount                   title  \\\n",
       "861  120437646           29166         50  算法类：nlp/cv/语音/数据/量化-上深   \n",
       "\n",
       "    zhinengleibie career real_province province city  \\\n",
       "861         算法工程师   机器学习          None       广东   深圳   \n",
       "\n",
       "                                   company_description  ... bd_flink  \\\n",
       "861  我们是世界29强平安集团旗下科技解决方案专家专注于为机构、企业、政府提供端对端智能科技服务基...  ...    False   \n",
       "\n",
       "    bd_presto bd_heron ml_sklearn  ml_mllib  ml_tensorlayer  ml_paddlepaddle  \\\n",
       "861     False    False      False     False           False            False   \n",
       "\n",
       "     ml_cntk  ml_theano  ml_mahout  \n",
       "861    False      False      False  \n",
       "\n",
       "[1 rows x 122 columns]"
      ]
     },
     "execution_count": 6,
     "metadata": {},
     "output_type": "execute_result"
    }
   ],
   "source": [
    "data=data.sort_values(by='headcount', ascending=False)\n",
    "data.head(1)"
   ]
  },
  {
   "cell_type": "code",
   "execution_count": 7,
   "metadata": {},
   "outputs": [],
   "source": [
    "def pd_weighted_mean(group, avg_name, weight_name):\n",
    "    \"\"\" http://stackoverflow.com/questions/10951341/pandas-dataframe-aggregate-function-using-multiple-columns\n",
    "    In rare instance, we may not have weights, so just return the mean. Customize this if your business case\n",
    "    should return otherwise.\n",
    "    \"\"\"\n",
    "    d = group[avg_name]\n",
    "    w = group[weight_name]\n",
    "    try:\n",
    "        return (d * w).sum() / w.sum()\n",
    "    except ZeroDivisionError:\n",
    "        return d.mean()\n"
   ]
  },
  {
   "cell_type": "markdown",
   "metadata": {},
   "source": [
    "# Unilateral Stats 总体统计"
   ]
  },
  {
   "cell_type": "markdown",
   "metadata": {},
   "source": [
    "有数据可知，程序员向一线城市集中的趋势非常明显。\n",
    "\n",
    "According to the statistics, significant amount of developers are in the first tier cities."
   ]
  },
  {
   "cell_type": "code",
   "execution_count": 8,
   "metadata": {},
   "outputs": [
    {
     "data": {
      "text/plain": [
       "(1077, 122)"
      ]
     },
     "execution_count": 8,
     "metadata": {},
     "output_type": "execute_result"
    }
   ],
   "source": [
    "data.shape"
   ]
  },
  {
   "cell_type": "code",
   "execution_count": 9,
   "metadata": {},
   "outputs": [
    {
     "data": {
      "text/plain": [
       "3389"
      ]
     },
     "execution_count": 9,
     "metadata": {},
     "output_type": "execute_result"
    }
   ],
   "source": [
    "data.headcount.sum()"
   ]
  },
  {
   "cell_type": "code",
   "execution_count": 10,
   "metadata": {},
   "outputs": [
    {
     "data": {
      "text/plain": [
       "array([ 7000., 14000., 20000., 30000., 50000.])"
      ]
     },
     "execution_count": 10,
     "metadata": {},
     "output_type": "execute_result"
    }
   ],
   "source": [
    "salary_mean=weighted.weighted_mean(data.monthly_salary.values, data.headcount.values)\n",
    "q=weighted.weighted_quantile(data.monthly_salary.values,[0.025,0.25,0.5,0.75,0.975], data.headcount.values)\n",
    "q"
   ]
  },
  {
   "cell_type": "code",
   "execution_count": 11,
   "metadata": {},
   "outputs": [
    {
     "name": "stdout",
     "output_type": "stream",
     "text": [
      "2020年4月中国机器学习工程师的平均工资为22763元，工资中位数为20000元，其中95%的人的工资位于7000到50000元之间。\n"
     ]
    }
   ],
   "source": [
    "print(f'{year}年{month}月中国机器学习工程师的平均工资为{salary_mean:.0f}元，工资中位数为{q[2]:.0f}元，其中95%的人的工资位于{q[0]:.0f}到{q[4]:.0f}元之间。')"
   ]
  },
  {
   "cell_type": "code",
   "execution_count": 12,
   "metadata": {},
   "outputs": [
    {
     "name": "stdout",
     "output_type": "stream",
     "text": [
      "In 2020, Developers in China earn 22763 Yuan as average, the median is 20000 Yuan, 95% of them earn between 7000 and 50000 Yuan.\n"
     ]
    }
   ],
   "source": [
    "print(f'In {year}, Developers in China earn {salary_mean:.0f} Yuan as average, '\n",
    "      f'the median is {q[2]:.0f} Yuan, 95% of them earn between {q[0]:.0f} and {q[4]:.0f} Yuan.')"
   ]
  },
  {
   "cell_type": "code",
   "execution_count": 13,
   "metadata": {},
   "outputs": [
    {
     "data": {
      "image/png": "[encoded data removed]",
      "text/plain": [
       "<Figure size 432x288 with 1 Axes>"
      ]
     },
     "metadata": {
      "needs_background": "light"
     },
     "output_type": "display_data"
    }
   ],
   "source": [
    "data.monthly_salary.hist()\n",
    "plt.show()"
   ]
  },
  {
   "cell_type": "markdown",
   "metadata": {},
   "source": [
    "It does not look like normal distribution."
   ]
  },
  {
   "cell_type": "code",
   "execution_count": 14,
   "metadata": {},
   "outputs": [],
   "source": [
    "from scipy import stats"
   ]
  },
  {
   "cell_type": "markdown",
   "metadata": {},
   "source": [
    "## Role 角色"
   ]
  },
  {
   "cell_type": "code",
   "execution_count": 15,
   "metadata": {},
   "outputs": [],
   "source": [
    "#Common Functions\n",
    "def get_sub_stats_by_col(data, col):\n",
    "    categories=data[col].unique()\n",
    "    salary_mean=[]\n",
    "    salary_95_min=[]\n",
    "    salary_95_max=[]\n",
    "    salary_median=[]\n",
    "    \n",
    "\n",
    "    count=[]\n",
    "    \n",
    "    categorys_out=[]\n",
    "    for category in categories:\n",
    "        #print(feature)\n",
    "        idata=data[data[col]==category]\n",
    "        headcount=idata.headcount.sum()\n",
    "        values = idata.monthly_salary.values\n",
    "        weights = idata.headcount.values\n",
    "        #print(str(headcount))\n",
    "        if headcount==0:\n",
    "            continue\n",
    "        \n",
    "        salary_mean.append(np.average(values, weights=weights))\n",
    "        \n",
    "\n",
    "        q = weighted.weighted_quantile(values,[0.025,0.5,0.975],weights)\n",
    "        salary_95_min.append(q[0])\n",
    "        salary_median.append(q[1])\n",
    "        salary_95_max.append(q[2])\n",
    "        count.append(idata.headcount.sum())\n",
    "        categorys_out.append(category)\n",
    "    sub_data=pd.DataFrame()\n",
    "    sub_data[col]=[c for c in categorys_out]\n",
    "    sub_data['salary_mean']=salary_mean\n",
    "    sub_data['salary_95_min']=salary_95_min\n",
    "    sub_data['salary_median']=salary_median\n",
    "    sub_data['salary_95_max']=salary_95_max\n",
    "    sub_data['head_count']=count\n",
    "    sub_data['percentage']=count/np.sum(count)\n",
    "    sub_data=sub_data.sort_values(by='salary_mean', ascending=False)\n",
    "\n",
    "    return sub_data\n",
    "\n",
    "def get_sub_stats_by_prefix(data, prefix):\n",
    "    \n",
    "    features = [feature for feature in data.columns if feature.startswith(prefix)]\n",
    "    salary_mean=[]\n",
    "    salary_median=[]\n",
    "    salary_95_min=[]\n",
    "    salary_95_max=[]\n",
    "    count=[]\n",
    "    \n",
    "    features_out=[]\n",
    "    for feature in features:\n",
    "        #print(feature)\n",
    "        idata=data[data[feature]==1]\n",
    "        headcount=idata.headcount.sum()\n",
    "        values = idata.monthly_salary.values\n",
    "        weights = idata.headcount.values\n",
    "        #print(str(headcount))\n",
    "        if headcount==0:\n",
    "            continue\n",
    "        \n",
    "        salary_mean.append(weighted.weighted_mean(values, weights))\n",
    "        q = weighted.weighted_quantile(values,[0.025,0.5,0.975],weights)\n",
    "        salary_median.append(q[1])\n",
    "        salary_95_min.append(q[0])\n",
    "        salary_95_max.append(q[2])\n",
    "        count.append(idata.headcount.sum())\n",
    "        features_out.append(feature)\n",
    "    sub_data=pd.DataFrame()\n",
    "    sub_data['rank']=range(0,len(features_out))\n",
    "    sub_data[prefix]=[f.replace(prefix,'') for f in features_out]\n",
    "    sub_data['salary_mean']=salary_mean\n",
    "    sub_data['salary_median']=salary_median\n",
    "    sub_data['salary_95_min']=salary_95_min\n",
    "    sub_data['salary_95_max']=salary_95_max\n",
    "    sub_data['head_count']=count\n",
    "    sub_data['percentage']=count/np.sum(count)\n",
    "    sub_data=sub_data.sort_values(by='salary_mean', ascending=False)\n",
    "    sub_data['rank']=range(1,len(features_out)+1)\n",
    "    #sub_data=sub_data.reset_index()\n",
    "    return sub_data\n",
    "\n",
    "def apply_style(sub_data):\n",
    "    return sub_data.style.hide_index().format(\n",
    "    {\"salary_mean\":\"{:.0f}\",\"salary_median\":\"{:.0f}\",\"salary_95_min\":\"{:.0f}\",\"salary_95_max\":\"{:.0f}\",\"percentage\":\"{:.2%}\"})"
   ]
  },
  {
   "cell_type": "code",
   "execution_count": 16,
   "metadata": {},
   "outputs": [
    {
     "data": {
      "text/html": [
       "<style  type=\"text/css\" >\n",
       "</style><table id=\"T_f15f4a78_74f9_11ea_989a_701ce71031ef\" ><thead>    <tr>        <th class=\"blank level0\" ></th>        <th class=\"col_heading level0 col0\" >career</th>        <th class=\"col_heading level0 col1\" >salary_mean</th>        <th class=\"col_heading level0 col2\" >salary_95_min</th>        <th class=\"col_heading level0 col3\" >salary_median</th>        <th class=\"col_heading level0 col4\" >salary_95_max</th>        <th class=\"col_heading level0 col5\" >head_count</th>        <th class=\"col_heading level0 col6\" >percentage</th>    </tr></thead><tbody>\n",
       "                <tr>\n",
       "                        <th id=\"T_f15f4a78_74f9_11ea_989a_701ce71031eflevel0_row0\" class=\"row_heading level0 row0\" >0</th>\n",
       "                        <td id=\"T_f15f4a78_74f9_11ea_989a_701ce71031efrow0_col0\" class=\"data row0 col0\" >机器学习</td>\n",
       "                        <td id=\"T_f15f4a78_74f9_11ea_989a_701ce71031efrow0_col1\" class=\"data row0 col1\" >22763</td>\n",
       "                        <td id=\"T_f15f4a78_74f9_11ea_989a_701ce71031efrow0_col2\" class=\"data row0 col2\" >7000.000000</td>\n",
       "                        <td id=\"T_f15f4a78_74f9_11ea_989a_701ce71031efrow0_col3\" class=\"data row0 col3\" >20000</td>\n",
       "                        <td id=\"T_f15f4a78_74f9_11ea_989a_701ce71031efrow0_col4\" class=\"data row0 col4\" >50000.000000</td>\n",
       "                        <td id=\"T_f15f4a78_74f9_11ea_989a_701ce71031efrow0_col5\" class=\"data row0 col5\" >3389</td>\n",
       "                        <td id=\"T_f15f4a78_74f9_11ea_989a_701ce71031efrow0_col6\" class=\"data row0 col6\" >100.00%</td>\n",
       "            </tr>\n",
       "    </tbody></table>"
      ],
      "text/plain": [
       "<pandas.io.formats.style.Styler at 0x15717be8cc8>"
      ]
     },
     "execution_count": 16,
     "metadata": {},
     "output_type": "execute_result"
    }
   ],
   "source": [
    "data_career = get_sub_stats_by_col(data,'career')\n",
    "data_career.style.format({\"salary_mean\":\"{:.0f}\",\"salary_median\":\"{:.0f}\",\"percentage\":\"{:.2%}\"})"
   ]
  },
  {
   "cell_type": "code",
   "execution_count": 17,
   "metadata": {},
   "outputs": [
    {
     "data": {
      "text/plain": [
       "22763.224845087047"
      ]
     },
     "execution_count": 17,
     "metadata": {},
     "output_type": "execute_result"
    }
   ],
   "source": [
    "np.sum(data.monthly_salary * data.headcount) / data.headcount.sum()"
   ]
  },
  {
   "cell_type": "code",
   "execution_count": 18,
   "metadata": {},
   "outputs": [
    {
     "data": {
      "text/plain": [
       "3389"
      ]
     },
     "execution_count": 18,
     "metadata": {},
     "output_type": "execute_result"
    }
   ],
   "source": [
    "data.headcount.sum()"
   ]
  },
  {
   "cell_type": "code",
   "execution_count": 19,
   "metadata": {},
   "outputs": [
    {
     "data": {
      "text/plain": [
       "count    1077.000000\n",
       "mean        3.146704\n",
       "std         3.470644\n",
       "min         1.000000\n",
       "25%         1.000000\n",
       "50%         2.000000\n",
       "75%         5.000000\n",
       "max        50.000000\n",
       "Name: headcount, dtype: float64"
      ]
     },
     "execution_count": 19,
     "metadata": {},
     "output_type": "execute_result"
    }
   ],
   "source": [
    "data.headcount.describe()"
   ]
  },
  {
   "cell_type": "code",
   "execution_count": 20,
   "metadata": {},
   "outputs": [],
   "source": [
    "pd.options.display.max_columns=100\n"
   ]
  },
  {
   "cell_type": "markdown",
   "metadata": {},
   "source": []
  },
  {
   "cell_type": "code",
   "execution_count": 21,
   "metadata": {},
   "outputs": [
    {
     "data": {
      "text/plain": [
       "3389"
      ]
     },
     "execution_count": 21,
     "metadata": {},
     "output_type": "execute_result"
    }
   ],
   "source": [
    "data.headcount.sum()"
   ]
  },
  {
   "cell_type": "markdown",
   "metadata": {},
   "source": [
    "# 城市"
   ]
  },
  {
   "cell_type": "code",
   "execution_count": 22,
   "metadata": {},
   "outputs": [
    {
     "data": {
      "text/html": [
       "<style  type=\"text/css\" >\n",
       "</style><table id=\"T_f33750d0_74f9_11ea_a416_701ce71031ef\" ><thead>    <tr>        <th class=\"col_heading level0 col0\" >city</th>        <th class=\"col_heading level0 col1\" >salary_mean</th>        <th class=\"col_heading level0 col2\" >salary_95_min</th>        <th class=\"col_heading level0 col3\" >salary_median</th>        <th class=\"col_heading level0 col4\" >salary_95_max</th>        <th class=\"col_heading level0 col5\" >head_count</th>        <th class=\"col_heading level0 col6\" >percentage</th>    </tr></thead><tbody>\n",
       "                <tr>\n",
       "                                <td id=\"T_f33750d0_74f9_11ea_a416_701ce71031efrow0_col0\" class=\"data row0 col0\" >北京</td>\n",
       "                        <td id=\"T_f33750d0_74f9_11ea_a416_701ce71031efrow0_col1\" class=\"data row0 col1\" >26669</td>\n",
       "                        <td id=\"T_f33750d0_74f9_11ea_a416_701ce71031efrow0_col2\" class=\"data row0 col2\" >7000</td>\n",
       "                        <td id=\"T_f33750d0_74f9_11ea_a416_701ce71031efrow0_col3\" class=\"data row0 col3\" >25000</td>\n",
       "                        <td id=\"T_f33750d0_74f9_11ea_a416_701ce71031efrow0_col4\" class=\"data row0 col4\" >52187</td>\n",
       "                        <td id=\"T_f33750d0_74f9_11ea_a416_701ce71031efrow0_col5\" class=\"data row0 col5\" >717</td>\n",
       "                        <td id=\"T_f33750d0_74f9_11ea_a416_701ce71031efrow0_col6\" class=\"data row0 col6\" >21.16%</td>\n",
       "            </tr>\n",
       "            <tr>\n",
       "                                <td id=\"T_f33750d0_74f9_11ea_a416_701ce71031efrow1_col0\" class=\"data row1 col0\" >上海</td>\n",
       "                        <td id=\"T_f33750d0_74f9_11ea_a416_701ce71031efrow1_col1\" class=\"data row1 col1\" >26518</td>\n",
       "                        <td id=\"T_f33750d0_74f9_11ea_a416_701ce71031efrow1_col2\" class=\"data row1 col2\" >7000</td>\n",
       "                        <td id=\"T_f33750d0_74f9_11ea_a416_701ce71031efrow1_col3\" class=\"data row1 col3\" >25000</td>\n",
       "                        <td id=\"T_f33750d0_74f9_11ea_a416_701ce71031efrow1_col4\" class=\"data row1 col4\" >58758</td>\n",
       "                        <td id=\"T_f33750d0_74f9_11ea_a416_701ce71031efrow1_col5\" class=\"data row1 col5\" >809</td>\n",
       "                        <td id=\"T_f33750d0_74f9_11ea_a416_701ce71031efrow1_col6\" class=\"data row1 col6\" >23.87%</td>\n",
       "            </tr>\n",
       "            <tr>\n",
       "                                <td id=\"T_f33750d0_74f9_11ea_a416_701ce71031efrow2_col0\" class=\"data row2 col0\" >杭州</td>\n",
       "                        <td id=\"T_f33750d0_74f9_11ea_a416_701ce71031efrow2_col1\" class=\"data row2 col1\" >25558</td>\n",
       "                        <td id=\"T_f33750d0_74f9_11ea_a416_701ce71031efrow2_col2\" class=\"data row2 col2\" >10008</td>\n",
       "                        <td id=\"T_f33750d0_74f9_11ea_a416_701ce71031efrow2_col3\" class=\"data row2 col3\" >22500</td>\n",
       "                        <td id=\"T_f33750d0_74f9_11ea_a416_701ce71031efrow2_col4\" class=\"data row2 col4\" >62469</td>\n",
       "                        <td id=\"T_f33750d0_74f9_11ea_a416_701ce71031efrow2_col5\" class=\"data row2 col5\" >181</td>\n",
       "                        <td id=\"T_f33750d0_74f9_11ea_a416_701ce71031efrow2_col6\" class=\"data row2 col6\" >5.34%</td>\n",
       "            </tr>\n",
       "            <tr>\n",
       "                                <td id=\"T_f33750d0_74f9_11ea_a416_701ce71031efrow3_col0\" class=\"data row3 col0\" >深圳</td>\n",
       "                        <td id=\"T_f33750d0_74f9_11ea_a416_701ce71031efrow3_col1\" class=\"data row3 col1\" >22964</td>\n",
       "                        <td id=\"T_f33750d0_74f9_11ea_a416_701ce71031efrow3_col2\" class=\"data row3 col2\" >5168</td>\n",
       "                        <td id=\"T_f33750d0_74f9_11ea_a416_701ce71031efrow3_col3\" class=\"data row3 col3\" >22500</td>\n",
       "                        <td id=\"T_f33750d0_74f9_11ea_a416_701ce71031efrow3_col4\" class=\"data row3 col4\" >54708</td>\n",
       "                        <td id=\"T_f33750d0_74f9_11ea_a416_701ce71031efrow3_col5\" class=\"data row3 col5\" >481</td>\n",
       "                        <td id=\"T_f33750d0_74f9_11ea_a416_701ce71031efrow3_col6\" class=\"data row3 col6\" >14.19%</td>\n",
       "            </tr>\n",
       "            <tr>\n",
       "                                <td id=\"T_f33750d0_74f9_11ea_a416_701ce71031efrow4_col0\" class=\"data row4 col0\" >广州</td>\n",
       "                        <td id=\"T_f33750d0_74f9_11ea_a416_701ce71031efrow4_col1\" class=\"data row4 col1\" >20597</td>\n",
       "                        <td id=\"T_f33750d0_74f9_11ea_a416_701ce71031efrow4_col2\" class=\"data row4 col2\" >9000</td>\n",
       "                        <td id=\"T_f33750d0_74f9_11ea_a416_701ce71031efrow4_col3\" class=\"data row4 col3\" >17500</td>\n",
       "                        <td id=\"T_f33750d0_74f9_11ea_a416_701ce71031efrow4_col4\" class=\"data row4 col4\" >40542</td>\n",
       "                        <td id=\"T_f33750d0_74f9_11ea_a416_701ce71031efrow4_col5\" class=\"data row4 col5\" >367</td>\n",
       "                        <td id=\"T_f33750d0_74f9_11ea_a416_701ce71031efrow4_col6\" class=\"data row4 col6\" >10.83%</td>\n",
       "            </tr>\n",
       "            <tr>\n",
       "                                <td id=\"T_f33750d0_74f9_11ea_a416_701ce71031efrow5_col0\" class=\"data row5 col0\" >成都</td>\n",
       "                        <td id=\"T_f33750d0_74f9_11ea_a416_701ce71031efrow5_col1\" class=\"data row5 col1\" >18042</td>\n",
       "                        <td id=\"T_f33750d0_74f9_11ea_a416_701ce71031efrow5_col2\" class=\"data row5 col2\" >10431</td>\n",
       "                        <td id=\"T_f33750d0_74f9_11ea_a416_701ce71031efrow5_col3\" class=\"data row5 col3\" >12625</td>\n",
       "                        <td id=\"T_f33750d0_74f9_11ea_a416_701ce71031efrow5_col4\" class=\"data row5 col4\" >41253</td>\n",
       "                        <td id=\"T_f33750d0_74f9_11ea_a416_701ce71031efrow5_col5\" class=\"data row5 col5\" >103</td>\n",
       "                        <td id=\"T_f33750d0_74f9_11ea_a416_701ce71031efrow5_col6\" class=\"data row5 col6\" >3.04%</td>\n",
       "            </tr>\n",
       "            <tr>\n",
       "                                <td id=\"T_f33750d0_74f9_11ea_a416_701ce71031efrow6_col0\" class=\"data row6 col0\" >南京</td>\n",
       "                        <td id=\"T_f33750d0_74f9_11ea_a416_701ce71031efrow6_col1\" class=\"data row6 col1\" >17491</td>\n",
       "                        <td id=\"T_f33750d0_74f9_11ea_a416_701ce71031efrow6_col2\" class=\"data row6 col2\" >8208</td>\n",
       "                        <td id=\"T_f33750d0_74f9_11ea_a416_701ce71031efrow6_col3\" class=\"data row6 col3\" >17500</td>\n",
       "                        <td id=\"T_f33750d0_74f9_11ea_a416_701ce71031efrow6_col4\" class=\"data row6 col4\" >37500</td>\n",
       "                        <td id=\"T_f33750d0_74f9_11ea_a416_701ce71031efrow6_col5\" class=\"data row6 col5\" >204</td>\n",
       "                        <td id=\"T_f33750d0_74f9_11ea_a416_701ce71031efrow6_col6\" class=\"data row6 col6\" >6.02%</td>\n",
       "            </tr>\n",
       "    </tbody></table>"
      ],
      "text/plain": [
       "<pandas.io.formats.style.Styler at 0x15717cfb888>"
      ]
     },
     "execution_count": 22,
     "metadata": {},
     "output_type": "execute_result"
    }
   ],
   "source": [
    "data_pl=get_sub_stats_by_col(data,'city')\n",
    "data_pl=data_pl[data_pl['head_count']>100]\n",
    "apply_style(data_pl)"
   ]
  },
  {
   "cell_type": "code",
   "execution_count": 23,
   "metadata": {},
   "outputs": [
    {
     "data": {
      "text/plain": [
       "0.15550309825907338"
      ]
     },
     "execution_count": 23,
     "metadata": {},
     "output_type": "execute_result"
    }
   ],
   "source": [
    "other=1-data_pl['percentage'].sum()\n",
    "other"
   ]
  },
  {
   "cell_type": "code",
   "execution_count": 24,
   "metadata": {},
   "outputs": [],
   "source": [
    "head_counts=list(data_pl['percentage'].values)\n",
    "head_counts.append(other)\n",
    "head_counts\n",
    "\n",
    "labels=list(data_pl['city'].values)\n",
    "labels.append('其他')"
   ]
  },
  {
   "cell_type": "code",
   "execution_count": 25,
   "metadata": {},
   "outputs": [
    {
     "data": {
      "image/png": "[encoded data removed]",
      "text/plain": [
       "<Figure size 720x576 with 1 Axes>"
      ]
     },
     "metadata": {},
     "output_type": "display_data"
    }
   ],
   "source": [
    "\n",
    "plt.figure(figsize=(10,8))\n",
    "plt.pie(head_counts, labels=labels, autopct='%1.1f%%')\n",
    "plt.title(f'算法工程师去哪里')\n",
    "plt.show()"
   ]
  },
  {
   "cell_type": "markdown",
   "metadata": {},
   "source": [
    "# 编程语言"
   ]
  },
  {
   "cell_type": "code",
   "execution_count": 26,
   "metadata": {
    "scrolled": true
   },
   "outputs": [
    {
     "data": {
      "text/html": [
       "<style  type=\"text/css\" >\n",
       "</style><table id=\"T_f470e51e_74f9_11ea_926f_701ce71031ef\" ><thead>    <tr>        <th class=\"col_heading level0 col0\" >rank</th>        <th class=\"col_heading level0 col1\" >pl_</th>        <th class=\"col_heading level0 col2\" >salary_mean</th>        <th class=\"col_heading level0 col3\" >salary_median</th>        <th class=\"col_heading level0 col4\" >salary_95_min</th>        <th class=\"col_heading level0 col5\" >salary_95_max</th>        <th class=\"col_heading level0 col6\" >head_count</th>        <th class=\"col_heading level0 col7\" >percentage</th>    </tr></thead><tbody>\n",
       "                <tr>\n",
       "                                <td id=\"T_f470e51e_74f9_11ea_926f_701ce71031efrow0_col0\" class=\"data row0 col0\" >2</td>\n",
       "                        <td id=\"T_f470e51e_74f9_11ea_926f_701ce71031efrow0_col1\" class=\"data row0 col1\" >r</td>\n",
       "                        <td id=\"T_f470e51e_74f9_11ea_926f_701ce71031efrow0_col2\" class=\"data row0 col2\" >28016</td>\n",
       "                        <td id=\"T_f470e51e_74f9_11ea_926f_701ce71031efrow0_col3\" class=\"data row0 col3\" >27500</td>\n",
       "                        <td id=\"T_f470e51e_74f9_11ea_926f_701ce71031efrow0_col4\" class=\"data row0 col4\" >12106</td>\n",
       "                        <td id=\"T_f470e51e_74f9_11ea_926f_701ce71031efrow0_col5\" class=\"data row0 col5\" >58333</td>\n",
       "                        <td id=\"T_f470e51e_74f9_11ea_926f_701ce71031efrow0_col6\" class=\"data row0 col6\" >179</td>\n",
       "                        <td id=\"T_f470e51e_74f9_11ea_926f_701ce71031efrow0_col7\" class=\"data row0 col7\" >3.03%</td>\n",
       "            </tr>\n",
       "            <tr>\n",
       "                                <td id=\"T_f470e51e_74f9_11ea_926f_701ce71031efrow1_col0\" class=\"data row1 col0\" >3</td>\n",
       "                        <td id=\"T_f470e51e_74f9_11ea_926f_701ce71031efrow1_col1\" class=\"data row1 col1\" >go</td>\n",
       "                        <td id=\"T_f470e51e_74f9_11ea_926f_701ce71031efrow1_col2\" class=\"data row1 col2\" >27375</td>\n",
       "                        <td id=\"T_f470e51e_74f9_11ea_926f_701ce71031efrow1_col3\" class=\"data row1 col3\" >25000</td>\n",
       "                        <td id=\"T_f470e51e_74f9_11ea_926f_701ce71031efrow1_col4\" class=\"data row1 col4\" >11500</td>\n",
       "                        <td id=\"T_f470e51e_74f9_11ea_926f_701ce71031efrow1_col5\" class=\"data row1 col5\" >54388</td>\n",
       "                        <td id=\"T_f470e51e_74f9_11ea_926f_701ce71031efrow1_col6\" class=\"data row1 col6\" >348</td>\n",
       "                        <td id=\"T_f470e51e_74f9_11ea_926f_701ce71031efrow1_col7\" class=\"data row1 col7\" >5.90%</td>\n",
       "            </tr>\n",
       "            <tr>\n",
       "                                <td id=\"T_f470e51e_74f9_11ea_926f_701ce71031efrow2_col0\" class=\"data row2 col0\" >7</td>\n",
       "                        <td id=\"T_f470e51e_74f9_11ea_926f_701ce71031efrow2_col1\" class=\"data row2 col1\" >scala</td>\n",
       "                        <td id=\"T_f470e51e_74f9_11ea_926f_701ce71031efrow2_col2\" class=\"data row2 col2\" >24259</td>\n",
       "                        <td id=\"T_f470e51e_74f9_11ea_926f_701ce71031efrow2_col3\" class=\"data row2 col3\" >20833</td>\n",
       "                        <td id=\"T_f470e51e_74f9_11ea_926f_701ce71031efrow2_col4\" class=\"data row2 col4\" >14036</td>\n",
       "                        <td id=\"T_f470e51e_74f9_11ea_926f_701ce71031efrow2_col5\" class=\"data row2 col5\" >50972</td>\n",
       "                        <td id=\"T_f470e51e_74f9_11ea_926f_701ce71031efrow2_col6\" class=\"data row2 col6\" >126</td>\n",
       "                        <td id=\"T_f470e51e_74f9_11ea_926f_701ce71031efrow2_col7\" class=\"data row2 col7\" >2.13%</td>\n",
       "            </tr>\n",
       "            <tr>\n",
       "                                <td id=\"T_f470e51e_74f9_11ea_926f_701ce71031efrow3_col0\" class=\"data row3 col0\" >8</td>\n",
       "                        <td id=\"T_f470e51e_74f9_11ea_926f_701ce71031efrow3_col1\" class=\"data row3 col1\" >cpp</td>\n",
       "                        <td id=\"T_f470e51e_74f9_11ea_926f_701ce71031efrow3_col2\" class=\"data row3 col2\" >24225</td>\n",
       "                        <td id=\"T_f470e51e_74f9_11ea_926f_701ce71031efrow3_col3\" class=\"data row3 col3\" >20833</td>\n",
       "                        <td id=\"T_f470e51e_74f9_11ea_926f_701ce71031efrow3_col4\" class=\"data row3 col4\" >8962</td>\n",
       "                        <td id=\"T_f470e51e_74f9_11ea_926f_701ce71031efrow3_col5\" class=\"data row3 col5\" >58333</td>\n",
       "                        <td id=\"T_f470e51e_74f9_11ea_926f_701ce71031efrow3_col6\" class=\"data row3 col6\" >1691</td>\n",
       "                        <td id=\"T_f470e51e_74f9_11ea_926f_701ce71031efrow3_col7\" class=\"data row3 col7\" >28.65%</td>\n",
       "            </tr>\n",
       "            <tr>\n",
       "                                <td id=\"T_f470e51e_74f9_11ea_926f_701ce71031efrow4_col0\" class=\"data row4 col0\" >9</td>\n",
       "                        <td id=\"T_f470e51e_74f9_11ea_926f_701ce71031efrow4_col1\" class=\"data row4 col1\" >matlab</td>\n",
       "                        <td id=\"T_f470e51e_74f9_11ea_926f_701ce71031efrow4_col2\" class=\"data row4 col2\" >24186</td>\n",
       "                        <td id=\"T_f470e51e_74f9_11ea_926f_701ce71031efrow4_col3\" class=\"data row4 col3\" >22500</td>\n",
       "                        <td id=\"T_f470e51e_74f9_11ea_926f_701ce71031efrow4_col4\" class=\"data row4 col4\" >8425</td>\n",
       "                        <td id=\"T_f470e51e_74f9_11ea_926f_701ce71031efrow4_col5\" class=\"data row4 col5\" >60361</td>\n",
       "                        <td id=\"T_f470e51e_74f9_11ea_926f_701ce71031efrow4_col6\" class=\"data row4 col6\" >254</td>\n",
       "                        <td id=\"T_f470e51e_74f9_11ea_926f_701ce71031efrow4_col7\" class=\"data row4 col7\" >4.30%</td>\n",
       "            </tr>\n",
       "            <tr>\n",
       "                                <td id=\"T_f470e51e_74f9_11ea_926f_701ce71031efrow5_col0\" class=\"data row5 col0\" >11</td>\n",
       "                        <td id=\"T_f470e51e_74f9_11ea_926f_701ce71031efrow5_col1\" class=\"data row5 col1\" >python</td>\n",
       "                        <td id=\"T_f470e51e_74f9_11ea_926f_701ce71031efrow5_col2\" class=\"data row5 col2\" >23550</td>\n",
       "                        <td id=\"T_f470e51e_74f9_11ea_926f_701ce71031efrow5_col3\" class=\"data row5 col3\" >20833</td>\n",
       "                        <td id=\"T_f470e51e_74f9_11ea_926f_701ce71031efrow5_col4\" class=\"data row5 col4\" >8500</td>\n",
       "                        <td id=\"T_f470e51e_74f9_11ea_926f_701ce71031efrow5_col5\" class=\"data row5 col5\" >50292</td>\n",
       "                        <td id=\"T_f470e51e_74f9_11ea_926f_701ce71031efrow5_col6\" class=\"data row5 col6\" >2086</td>\n",
       "                        <td id=\"T_f470e51e_74f9_11ea_926f_701ce71031efrow5_col7\" class=\"data row5 col7\" >35.34%</td>\n",
       "            </tr>\n",
       "            <tr>\n",
       "                                <td id=\"T_f470e51e_74f9_11ea_926f_701ce71031efrow6_col0\" class=\"data row6 col0\" >14</td>\n",
       "                        <td id=\"T_f470e51e_74f9_11ea_926f_701ce71031efrow6_col1\" class=\"data row6 col1\" >java</td>\n",
       "                        <td id=\"T_f470e51e_74f9_11ea_926f_701ce71031efrow6_col2\" class=\"data row6 col2\" >22158</td>\n",
       "                        <td id=\"T_f470e51e_74f9_11ea_926f_701ce71031efrow6_col3\" class=\"data row6 col3\" >20000</td>\n",
       "                        <td id=\"T_f470e51e_74f9_11ea_926f_701ce71031efrow6_col4\" class=\"data row6 col4\" >7764</td>\n",
       "                        <td id=\"T_f470e51e_74f9_11ea_926f_701ce71031efrow6_col5\" class=\"data row6 col5\" >49417</td>\n",
       "                        <td id=\"T_f470e51e_74f9_11ea_926f_701ce71031efrow6_col6\" class=\"data row6 col6\" >914</td>\n",
       "                        <td id=\"T_f470e51e_74f9_11ea_926f_701ce71031efrow6_col7\" class=\"data row6 col7\" >15.49%</td>\n",
       "            </tr>\n",
       "            <tr>\n",
       "                                <td id=\"T_f470e51e_74f9_11ea_926f_701ce71031efrow7_col0\" class=\"data row7 col0\" >15</td>\n",
       "                        <td id=\"T_f470e51e_74f9_11ea_926f_701ce71031efrow7_col1\" class=\"data row7 col1\" >javascript</td>\n",
       "                        <td id=\"T_f470e51e_74f9_11ea_926f_701ce71031efrow7_col2\" class=\"data row7 col2\" >19369</td>\n",
       "                        <td id=\"T_f470e51e_74f9_11ea_926f_701ce71031efrow7_col3\" class=\"data row7 col3\" >22500</td>\n",
       "                        <td id=\"T_f470e51e_74f9_11ea_926f_701ce71031efrow7_col4\" class=\"data row7 col4\" >9000</td>\n",
       "                        <td id=\"T_f470e51e_74f9_11ea_926f_701ce71031efrow7_col5\" class=\"data row7 col5\" >31816</td>\n",
       "                        <td id=\"T_f470e51e_74f9_11ea_926f_701ce71031efrow7_col6\" class=\"data row7 col6\" >75</td>\n",
       "                        <td id=\"T_f470e51e_74f9_11ea_926f_701ce71031efrow7_col7\" class=\"data row7 col7\" >1.27%</td>\n",
       "            </tr>\n",
       "            <tr>\n",
       "                                <td id=\"T_f470e51e_74f9_11ea_926f_701ce71031efrow8_col0\" class=\"data row8 col0\" >17</td>\n",
       "                        <td id=\"T_f470e51e_74f9_11ea_926f_701ce71031efrow8_col1\" class=\"data row8 col1\" >c_sharp</td>\n",
       "                        <td id=\"T_f470e51e_74f9_11ea_926f_701ce71031efrow8_col2\" class=\"data row8 col2\" >13683</td>\n",
       "                        <td id=\"T_f470e51e_74f9_11ea_926f_701ce71031efrow8_col3\" class=\"data row8 col3\" >12500</td>\n",
       "                        <td id=\"T_f470e51e_74f9_11ea_926f_701ce71031efrow8_col4\" class=\"data row8 col4\" >6487</td>\n",
       "                        <td id=\"T_f470e51e_74f9_11ea_926f_701ce71031efrow8_col5\" class=\"data row8 col5\" >28833</td>\n",
       "                        <td id=\"T_f470e51e_74f9_11ea_926f_701ce71031efrow8_col6\" class=\"data row8 col6\" >76</td>\n",
       "                        <td id=\"T_f470e51e_74f9_11ea_926f_701ce71031efrow8_col7\" class=\"data row8 col7\" >1.29%</td>\n",
       "            </tr>\n",
       "    </tbody></table>"
      ],
      "text/plain": [
       "<pandas.io.formats.style.Styler at 0x15717dc1c88>"
      ]
     },
     "execution_count": 26,
     "metadata": {},
     "output_type": "execute_result"
    }
   ],
   "source": [
    "data_pl=get_sub_stats_by_prefix(data,'pl_')\n",
    "data_pl=data_pl[data_pl['head_count']>50]\n",
    "apply_style(data_pl)"
   ]
  },
  {
   "cell_type": "code",
   "execution_count": 27,
   "metadata": {},
   "outputs": [
    {
     "data": {
      "image/png": "[encoded data removed]",
      "text/plain": [
       "<Figure size 720x576 with 1 Axes>"
      ]
     },
     "metadata": {},
     "output_type": "display_data"
    }
   ],
   "source": [
    "head_counts=list(data_pl['percentage'].values)\n",
    "head_counts.append(other)\n",
    "head_counts\n",
    "\n",
    "labels=list(data_pl['pl_'].values)\n",
    "labels.append('其他')\n",
    "\n",
    "plt.figure(figsize=(10,8))\n",
    "plt.pie(head_counts, labels=labels, autopct='%1.0f%%')\n",
    "plt.title(f'算法工程师的编程语言')\n",
    "plt.show()"
   ]
  },
  {
   "cell_type": "markdown",
   "metadata": {},
   "source": [
    "## 大数据工具 "
   ]
  },
  {
   "cell_type": "code",
   "execution_count": 28,
   "metadata": {},
   "outputs": [
    {
     "data": {
      "text/html": [
       "<style  type=\"text/css\" >\n",
       "</style><table id=\"T_f533f7ec_74f9_11ea_9deb_701ce71031ef\" ><thead>    <tr>        <th class=\"col_heading level0 col0\" >rank</th>        <th class=\"col_heading level0 col1\" >bd_</th>        <th class=\"col_heading level0 col2\" >salary_mean</th>        <th class=\"col_heading level0 col3\" >salary_median</th>        <th class=\"col_heading level0 col4\" >salary_95_min</th>        <th class=\"col_heading level0 col5\" >salary_95_max</th>        <th class=\"col_heading level0 col6\" >head_count</th>        <th class=\"col_heading level0 col7\" >percentage</th>    </tr></thead><tbody>\n",
       "                <tr>\n",
       "                                <td id=\"T_f533f7ec_74f9_11ea_9deb_701ce71031efrow0_col0\" class=\"data row0 col0\" >3</td>\n",
       "                        <td id=\"T_f533f7ec_74f9_11ea_9deb_701ce71031efrow0_col1\" class=\"data row0 col1\" >flink</td>\n",
       "                        <td id=\"T_f533f7ec_74f9_11ea_9deb_701ce71031efrow0_col2\" class=\"data row0 col2\" >27455</td>\n",
       "                        <td id=\"T_f533f7ec_74f9_11ea_9deb_701ce71031efrow0_col3\" class=\"data row0 col3\" >27500</td>\n",
       "                        <td id=\"T_f533f7ec_74f9_11ea_9deb_701ce71031efrow0_col4\" class=\"data row0 col4\" >11000</td>\n",
       "                        <td id=\"T_f533f7ec_74f9_11ea_9deb_701ce71031efrow0_col5\" class=\"data row0 col5\" >37500</td>\n",
       "                        <td id=\"T_f533f7ec_74f9_11ea_9deb_701ce71031efrow0_col6\" class=\"data row0 col6\" >22</td>\n",
       "                        <td id=\"T_f533f7ec_74f9_11ea_9deb_701ce71031efrow0_col7\" class=\"data row0 col7\" >2.25%</td>\n",
       "            </tr>\n",
       "            <tr>\n",
       "                                <td id=\"T_f533f7ec_74f9_11ea_9deb_701ce71031efrow1_col0\" class=\"data row1 col0\" >4</td>\n",
       "                        <td id=\"T_f533f7ec_74f9_11ea_9deb_701ce71031efrow1_col1\" class=\"data row1 col1\" >hive</td>\n",
       "                        <td id=\"T_f533f7ec_74f9_11ea_9deb_701ce71031efrow1_col2\" class=\"data row1 col2\" >27310</td>\n",
       "                        <td id=\"T_f533f7ec_74f9_11ea_9deb_701ce71031efrow1_col3\" class=\"data row1 col3\" >27500</td>\n",
       "                        <td id=\"T_f533f7ec_74f9_11ea_9deb_701ce71031efrow1_col4\" class=\"data row1 col4\" >12000</td>\n",
       "                        <td id=\"T_f533f7ec_74f9_11ea_9deb_701ce71031efrow1_col5\" class=\"data row1 col5\" >48194</td>\n",
       "                        <td id=\"T_f533f7ec_74f9_11ea_9deb_701ce71031efrow1_col6\" class=\"data row1 col6\" >120</td>\n",
       "                        <td id=\"T_f533f7ec_74f9_11ea_9deb_701ce71031efrow1_col7\" class=\"data row1 col7\" >12.27%</td>\n",
       "            </tr>\n",
       "            <tr>\n",
       "                                <td id=\"T_f533f7ec_74f9_11ea_9deb_701ce71031efrow2_col0\" class=\"data row2 col0\" >5</td>\n",
       "                        <td id=\"T_f533f7ec_74f9_11ea_9deb_701ce71031efrow2_col1\" class=\"data row2 col1\" >spark</td>\n",
       "                        <td id=\"T_f533f7ec_74f9_11ea_9deb_701ce71031efrow2_col2\" class=\"data row2 col2\" >26305</td>\n",
       "                        <td id=\"T_f533f7ec_74f9_11ea_9deb_701ce71031efrow2_col3\" class=\"data row2 col3\" >25000</td>\n",
       "                        <td id=\"T_f533f7ec_74f9_11ea_9deb_701ce71031efrow2_col4\" class=\"data row2 col4\" >8978</td>\n",
       "                        <td id=\"T_f533f7ec_74f9_11ea_9deb_701ce71031efrow2_col5\" class=\"data row2 col5\" >49828</td>\n",
       "                        <td id=\"T_f533f7ec_74f9_11ea_9deb_701ce71031efrow2_col6\" class=\"data row2 col6\" >351</td>\n",
       "                        <td id=\"T_f533f7ec_74f9_11ea_9deb_701ce71031efrow2_col7\" class=\"data row2 col7\" >35.89%</td>\n",
       "            </tr>\n",
       "            <tr>\n",
       "                                <td id=\"T_f533f7ec_74f9_11ea_9deb_701ce71031efrow3_col0\" class=\"data row3 col0\" >6</td>\n",
       "                        <td id=\"T_f533f7ec_74f9_11ea_9deb_701ce71031efrow3_col1\" class=\"data row3 col1\" >hadoop</td>\n",
       "                        <td id=\"T_f533f7ec_74f9_11ea_9deb_701ce71031efrow3_col2\" class=\"data row3 col2\" >25618</td>\n",
       "                        <td id=\"T_f533f7ec_74f9_11ea_9deb_701ce71031efrow3_col3\" class=\"data row3 col3\" >25000</td>\n",
       "                        <td id=\"T_f533f7ec_74f9_11ea_9deb_701ce71031efrow3_col4\" class=\"data row3 col4\" >8950</td>\n",
       "                        <td id=\"T_f533f7ec_74f9_11ea_9deb_701ce71031efrow3_col5\" class=\"data row3 col5\" >55000</td>\n",
       "                        <td id=\"T_f533f7ec_74f9_11ea_9deb_701ce71031efrow3_col6\" class=\"data row3 col6\" >318</td>\n",
       "                        <td id=\"T_f533f7ec_74f9_11ea_9deb_701ce71031efrow3_col7\" class=\"data row3 col7\" >32.52%</td>\n",
       "            </tr>\n",
       "            <tr>\n",
       "                                <td id=\"T_f533f7ec_74f9_11ea_9deb_701ce71031efrow4_col0\" class=\"data row4 col0\" >7</td>\n",
       "                        <td id=\"T_f533f7ec_74f9_11ea_9deb_701ce71031efrow4_col1\" class=\"data row4 col1\" >storm</td>\n",
       "                        <td id=\"T_f533f7ec_74f9_11ea_9deb_701ce71031efrow4_col2\" class=\"data row4 col2\" >24922</td>\n",
       "                        <td id=\"T_f533f7ec_74f9_11ea_9deb_701ce71031efrow4_col3\" class=\"data row4 col3\" >17500</td>\n",
       "                        <td id=\"T_f533f7ec_74f9_11ea_9deb_701ce71031efrow4_col4\" class=\"data row4 col4\" >4500</td>\n",
       "                        <td id=\"T_f533f7ec_74f9_11ea_9deb_701ce71031efrow4_col5\" class=\"data row4 col5\" >53243</td>\n",
       "                        <td id=\"T_f533f7ec_74f9_11ea_9deb_701ce71031efrow4_col6\" class=\"data row4 col6\" >43</td>\n",
       "                        <td id=\"T_f533f7ec_74f9_11ea_9deb_701ce71031efrow4_col7\" class=\"data row4 col7\" >4.40%</td>\n",
       "            </tr>\n",
       "            <tr>\n",
       "                                <td id=\"T_f533f7ec_74f9_11ea_9deb_701ce71031efrow5_col0\" class=\"data row5 col0\" >8</td>\n",
       "                        <td id=\"T_f533f7ec_74f9_11ea_9deb_701ce71031efrow5_col1\" class=\"data row5 col1\" >kafka</td>\n",
       "                        <td id=\"T_f533f7ec_74f9_11ea_9deb_701ce71031efrow5_col2\" class=\"data row5 col2\" >24006</td>\n",
       "                        <td id=\"T_f533f7ec_74f9_11ea_9deb_701ce71031efrow5_col3\" class=\"data row5 col3\" >23250</td>\n",
       "                        <td id=\"T_f533f7ec_74f9_11ea_9deb_701ce71031efrow5_col4\" class=\"data row5 col4\" >3716</td>\n",
       "                        <td id=\"T_f533f7ec_74f9_11ea_9deb_701ce71031efrow5_col5\" class=\"data row5 col5\" >41666</td>\n",
       "                        <td id=\"T_f533f7ec_74f9_11ea_9deb_701ce71031efrow5_col6\" class=\"data row5 col6\" >57</td>\n",
       "                        <td id=\"T_f533f7ec_74f9_11ea_9deb_701ce71031efrow5_col7\" class=\"data row5 col7\" >5.83%</td>\n",
       "            </tr>\n",
       "            <tr>\n",
       "                                <td id=\"T_f533f7ec_74f9_11ea_9deb_701ce71031efrow6_col0\" class=\"data row6 col0\" >9</td>\n",
       "                        <td id=\"T_f533f7ec_74f9_11ea_9deb_701ce71031efrow6_col1\" class=\"data row6 col1\" >hbase</td>\n",
       "                        <td id=\"T_f533f7ec_74f9_11ea_9deb_701ce71031efrow6_col2\" class=\"data row6 col2\" >21423</td>\n",
       "                        <td id=\"T_f533f7ec_74f9_11ea_9deb_701ce71031efrow6_col3\" class=\"data row6 col3\" >17500</td>\n",
       "                        <td id=\"T_f533f7ec_74f9_11ea_9deb_701ce71031efrow6_col4\" class=\"data row6 col4\" >12000</td>\n",
       "                        <td id=\"T_f533f7ec_74f9_11ea_9deb_701ce71031efrow6_col5\" class=\"data row6 col5\" >54805</td>\n",
       "                        <td id=\"T_f533f7ec_74f9_11ea_9deb_701ce71031efrow6_col6\" class=\"data row6 col6\" >54</td>\n",
       "                        <td id=\"T_f533f7ec_74f9_11ea_9deb_701ce71031efrow6_col7\" class=\"data row6 col7\" >5.52%</td>\n",
       "            </tr>\n",
       "    </tbody></table>"
      ],
      "text/plain": [
       "<pandas.io.formats.style.Styler at 0x15717dc17c8>"
      ]
     },
     "execution_count": 28,
     "metadata": {},
     "output_type": "execute_result"
    }
   ],
   "source": [
    "data_pl=get_sub_stats_by_prefix(data,'bd_')\n",
    "data_pl=data_pl[data_pl['head_count']>10]\n",
    "apply_style(data_pl)"
   ]
  },
  {
   "cell_type": "code",
   "execution_count": 29,
   "metadata": {},
   "outputs": [
    {
     "data": {
      "image/png": "[encoded data removed]",
      "text/plain": [
       "<Figure size 720x576 with 1 Axes>"
      ]
     },
     "metadata": {},
     "output_type": "display_data"
    }
   ],
   "source": [
    "other=1-data_pl['percentage'].values.sum()\n",
    "head_counts=list(data_pl['percentage'].values)\n",
    "head_counts.append(other)\n",
    "head_counts\n",
    "\n",
    "labels=list(data_pl['bd_'].values)\n",
    "labels.append('其他')\n",
    "\n",
    "plt.figure(figsize=(10,8))\n",
    "plt.pie(head_counts, labels=labels, autopct='%1.0f%%')\n",
    "plt.title(f'算法工程师的大数据工具')\n",
    "plt.show()"
   ]
  },
  {
   "cell_type": "markdown",
   "metadata": {},
   "source": [
    "## 机器学习工具 "
   ]
  },
  {
   "cell_type": "code",
   "execution_count": 30,
   "metadata": {},
   "outputs": [
    {
     "data": {
      "text/html": [
       "<style  type=\"text/css\" >\n",
       "</style><table id=\"T_f602b0ba_74f9_11ea_a2b8_701ce71031ef\" ><thead>    <tr>        <th class=\"col_heading level0 col0\" >rank</th>        <th class=\"col_heading level0 col1\" >ml_</th>        <th class=\"col_heading level0 col2\" >salary_mean</th>        <th class=\"col_heading level0 col3\" >salary_median</th>        <th class=\"col_heading level0 col4\" >salary_95_min</th>        <th class=\"col_heading level0 col5\" >salary_95_max</th>        <th class=\"col_heading level0 col6\" >head_count</th>        <th class=\"col_heading level0 col7\" >percentage</th>    </tr></thead><tbody>\n",
       "                <tr>\n",
       "                                <td id=\"T_f602b0ba_74f9_11ea_a2b8_701ce71031efrow0_col0\" class=\"data row0 col0\" >1</td>\n",
       "                        <td id=\"T_f602b0ba_74f9_11ea_a2b8_701ce71031efrow0_col1\" class=\"data row0 col1\" >mxnet</td>\n",
       "                        <td id=\"T_f602b0ba_74f9_11ea_a2b8_701ce71031efrow0_col2\" class=\"data row0 col2\" >26561</td>\n",
       "                        <td id=\"T_f602b0ba_74f9_11ea_a2b8_701ce71031efrow0_col3\" class=\"data row0 col3\" >22500</td>\n",
       "                        <td id=\"T_f602b0ba_74f9_11ea_a2b8_701ce71031efrow0_col4\" class=\"data row0 col4\" >10533</td>\n",
       "                        <td id=\"T_f602b0ba_74f9_11ea_a2b8_701ce71031efrow0_col5\" class=\"data row0 col5\" >59970</td>\n",
       "                        <td id=\"T_f602b0ba_74f9_11ea_a2b8_701ce71031efrow0_col6\" class=\"data row0 col6\" >384</td>\n",
       "                        <td id=\"T_f602b0ba_74f9_11ea_a2b8_701ce71031efrow0_col7\" class=\"data row0 col7\" >9.90%</td>\n",
       "            </tr>\n",
       "            <tr>\n",
       "                                <td id=\"T_f602b0ba_74f9_11ea_a2b8_701ce71031efrow1_col0\" class=\"data row1 col0\" >2</td>\n",
       "                        <td id=\"T_f602b0ba_74f9_11ea_a2b8_701ce71031efrow1_col1\" class=\"data row1 col1\" >pytorch</td>\n",
       "                        <td id=\"T_f602b0ba_74f9_11ea_a2b8_701ce71031efrow1_col2\" class=\"data row1 col2\" >25094</td>\n",
       "                        <td id=\"T_f602b0ba_74f9_11ea_a2b8_701ce71031efrow1_col3\" class=\"data row1 col3\" >22500</td>\n",
       "                        <td id=\"T_f602b0ba_74f9_11ea_a2b8_701ce71031efrow1_col4\" class=\"data row1 col4\" >8992</td>\n",
       "                        <td id=\"T_f602b0ba_74f9_11ea_a2b8_701ce71031efrow1_col5\" class=\"data row1 col5\" >55062</td>\n",
       "                        <td id=\"T_f602b0ba_74f9_11ea_a2b8_701ce71031efrow1_col6\" class=\"data row1 col6\" >579</td>\n",
       "                        <td id=\"T_f602b0ba_74f9_11ea_a2b8_701ce71031efrow1_col7\" class=\"data row1 col7\" >14.93%</td>\n",
       "            </tr>\n",
       "            <tr>\n",
       "                                <td id=\"T_f602b0ba_74f9_11ea_a2b8_701ce71031efrow2_col0\" class=\"data row2 col0\" >3</td>\n",
       "                        <td id=\"T_f602b0ba_74f9_11ea_a2b8_701ce71031efrow2_col1\" class=\"data row2 col1\" >sklearn</td>\n",
       "                        <td id=\"T_f602b0ba_74f9_11ea_a2b8_701ce71031efrow2_col2\" class=\"data row2 col2\" >24416</td>\n",
       "                        <td id=\"T_f602b0ba_74f9_11ea_a2b8_701ce71031efrow2_col3\" class=\"data row2 col3\" >22500</td>\n",
       "                        <td id=\"T_f602b0ba_74f9_11ea_a2b8_701ce71031efrow2_col4\" class=\"data row2 col4\" >9070</td>\n",
       "                        <td id=\"T_f602b0ba_74f9_11ea_a2b8_701ce71031efrow2_col5\" class=\"data row2 col5\" >58333</td>\n",
       "                        <td id=\"T_f602b0ba_74f9_11ea_a2b8_701ce71031efrow2_col6\" class=\"data row2 col6\" >194</td>\n",
       "                        <td id=\"T_f602b0ba_74f9_11ea_a2b8_701ce71031efrow2_col7\" class=\"data row2 col7\" >5.00%</td>\n",
       "            </tr>\n",
       "            <tr>\n",
       "                                <td id=\"T_f602b0ba_74f9_11ea_a2b8_701ce71031efrow3_col0\" class=\"data row3 col0\" >4</td>\n",
       "                        <td id=\"T_f602b0ba_74f9_11ea_a2b8_701ce71031efrow3_col1\" class=\"data row3 col1\" >caffe</td>\n",
       "                        <td id=\"T_f602b0ba_74f9_11ea_a2b8_701ce71031efrow3_col2\" class=\"data row3 col2\" >24176</td>\n",
       "                        <td id=\"T_f602b0ba_74f9_11ea_a2b8_701ce71031efrow3_col3\" class=\"data row3 col3\" >20833</td>\n",
       "                        <td id=\"T_f602b0ba_74f9_11ea_a2b8_701ce71031efrow3_col4\" class=\"data row3 col4\" >9000</td>\n",
       "                        <td id=\"T_f602b0ba_74f9_11ea_a2b8_701ce71031efrow3_col5\" class=\"data row3 col5\" >50000</td>\n",
       "                        <td id=\"T_f602b0ba_74f9_11ea_a2b8_701ce71031efrow3_col6\" class=\"data row3 col6\" >861</td>\n",
       "                        <td id=\"T_f602b0ba_74f9_11ea_a2b8_701ce71031efrow3_col7\" class=\"data row3 col7\" >22.21%</td>\n",
       "            </tr>\n",
       "            <tr>\n",
       "                                <td id=\"T_f602b0ba_74f9_11ea_a2b8_701ce71031efrow4_col0\" class=\"data row4 col0\" >5</td>\n",
       "                        <td id=\"T_f602b0ba_74f9_11ea_a2b8_701ce71031efrow4_col1\" class=\"data row4 col1\" >keras</td>\n",
       "                        <td id=\"T_f602b0ba_74f9_11ea_a2b8_701ce71031efrow4_col2\" class=\"data row4 col2\" >24164</td>\n",
       "                        <td id=\"T_f602b0ba_74f9_11ea_a2b8_701ce71031efrow4_col3\" class=\"data row4 col3\" >20000</td>\n",
       "                        <td id=\"T_f602b0ba_74f9_11ea_a2b8_701ce71031efrow4_col4\" class=\"data row4 col4\" >8575</td>\n",
       "                        <td id=\"T_f602b0ba_74f9_11ea_a2b8_701ce71031efrow4_col5\" class=\"data row4 col5\" >55167</td>\n",
       "                        <td id=\"T_f602b0ba_74f9_11ea_a2b8_701ce71031efrow4_col6\" class=\"data row4 col6\" >278</td>\n",
       "                        <td id=\"T_f602b0ba_74f9_11ea_a2b8_701ce71031efrow4_col7\" class=\"data row4 col7\" >7.17%</td>\n",
       "            </tr>\n",
       "            <tr>\n",
       "                                <td id=\"T_f602b0ba_74f9_11ea_a2b8_701ce71031efrow5_col0\" class=\"data row5 col0\" >6</td>\n",
       "                        <td id=\"T_f602b0ba_74f9_11ea_a2b8_701ce71031efrow5_col1\" class=\"data row5 col1\" >tensorflow</td>\n",
       "                        <td id=\"T_f602b0ba_74f9_11ea_a2b8_701ce71031efrow5_col2\" class=\"data row5 col2\" >23793</td>\n",
       "                        <td id=\"T_f602b0ba_74f9_11ea_a2b8_701ce71031efrow5_col3\" class=\"data row5 col3\" >20944</td>\n",
       "                        <td id=\"T_f602b0ba_74f9_11ea_a2b8_701ce71031efrow5_col4\" class=\"data row5 col4\" >9000</td>\n",
       "                        <td id=\"T_f602b0ba_74f9_11ea_a2b8_701ce71031efrow5_col5\" class=\"data row5 col5\" >50000</td>\n",
       "                        <td id=\"T_f602b0ba_74f9_11ea_a2b8_701ce71031efrow5_col6\" class=\"data row5 col6\" >1361</td>\n",
       "                        <td id=\"T_f602b0ba_74f9_11ea_a2b8_701ce71031efrow5_col7\" class=\"data row5 col7\" >35.10%</td>\n",
       "            </tr>\n",
       "            <tr>\n",
       "                                <td id=\"T_f602b0ba_74f9_11ea_a2b8_701ce71031efrow6_col0\" class=\"data row6 col0\" >8</td>\n",
       "                        <td id=\"T_f602b0ba_74f9_11ea_a2b8_701ce71031efrow6_col1\" class=\"data row6 col1\" >theano</td>\n",
       "                        <td id=\"T_f602b0ba_74f9_11ea_a2b8_701ce71031efrow6_col2\" class=\"data row6 col2\" >22044</td>\n",
       "                        <td id=\"T_f602b0ba_74f9_11ea_a2b8_701ce71031efrow6_col3\" class=\"data row6 col3\" >22500</td>\n",
       "                        <td id=\"T_f602b0ba_74f9_11ea_a2b8_701ce71031efrow6_col4\" class=\"data row6 col4\" >12500</td>\n",
       "                        <td id=\"T_f602b0ba_74f9_11ea_a2b8_701ce71031efrow6_col5\" class=\"data row6 col5\" >36357</td>\n",
       "                        <td id=\"T_f602b0ba_74f9_11ea_a2b8_701ce71031efrow6_col6\" class=\"data row6 col6\" >144</td>\n",
       "                        <td id=\"T_f602b0ba_74f9_11ea_a2b8_701ce71031efrow6_col7\" class=\"data row6 col7\" >3.71%</td>\n",
       "            </tr>\n",
       "    </tbody></table>"
      ],
      "text/plain": [
       "<pandas.io.formats.style.Styler at 0x15717d64048>"
      ]
     },
     "execution_count": 30,
     "metadata": {},
     "output_type": "execute_result"
    }
   ],
   "source": [
    "data_pl=get_sub_stats_by_prefix(data,'ml_')\n",
    "data_pl=data_pl[data_pl['head_count']>100]\n",
    "apply_style(data_pl)"
   ]
  },
  {
   "cell_type": "code",
   "execution_count": 31,
   "metadata": {},
   "outputs": [
    {
     "data": {
      "text/plain": [
       "0.9803972143409851"
      ]
     },
     "execution_count": 31,
     "metadata": {},
     "output_type": "execute_result"
    }
   ],
   "source": [
    "data_pl['percentage'].values.sum()"
   ]
  },
  {
   "cell_type": "code",
   "execution_count": 32,
   "metadata": {},
   "outputs": [
    {
     "data": {
      "image/png": "[encoded data removed]",
      "text/plain": [
       "<Figure size 720x576 with 1 Axes>"
      ]
     },
     "metadata": {},
     "output_type": "display_data"
    }
   ],
   "source": [
    "other=1-data_pl['percentage'].values.sum()\n",
    "head_counts=list(data_pl['percentage'].values)\n",
    "head_counts.append(other)\n",
    "head_counts\n",
    "\n",
    "labels=list(data_pl['ml_'].values)\n",
    "labels.append('其他')\n",
    "\n",
    "plt.figure(figsize=(10,8))\n",
    "plt.pie(head_counts, labels=labels, autopct='%1.0f%%')\n",
    "plt.title(f'算法工程师的机器学习库')\n",
    "plt.show()"
   ]
  },
  {
   "cell_type": "markdown",
   "metadata": {},
   "source": [
    "## 英语"
   ]
  },
  {
   "cell_type": "code",
   "execution_count": null,
   "metadata": {},
   "outputs": [],
   "source": []
  },
  {
   "cell_type": "code",
   "execution_count": 33,
   "metadata": {},
   "outputs": [],
   "source": [
    "all_=data.shape[0]\n",
    "en=data[data['english']==1].shape[0]\n",
    "other=all_-en"
   ]
  },
  {
   "cell_type": "code",
   "execution_count": 34,
   "metadata": {},
   "outputs": [
    {
     "data": {
      "image/png": "[encoded data removed]",
      "text/plain": [
       "<Figure size 720x576 with 1 Axes>"
      ]
     },
     "metadata": {},
     "output_type": "display_data"
    }
   ],
   "source": [
    "plt.figure(figsize=(10,8))\n",
    "plt.pie([en,other], labels=['要求英语','没说'])\n",
    "plt.show()"
   ]
  },
  {
   "cell_type": "markdown",
   "metadata": {},
   "source": [
    "# 教育"
   ]
  },
  {
   "cell_type": "code",
   "execution_count": 35,
   "metadata": {},
   "outputs": [],
   "source": [
    "edu_counts=data[~(data.edu=='')].groupby(by=['edu']).headcount.sum()"
   ]
  },
  {
   "cell_type": "code",
   "execution_count": 36,
   "metadata": {},
   "outputs": [
    {
     "data": {
      "text/plain": [
       "edu\n",
       "初中及以下       1\n",
       "博士        119\n",
       "大专        172\n",
       "本科       1805\n",
       "硕士        949\n",
       "高中          1\n",
       "Name: headcount, dtype: int64"
      ]
     },
     "execution_count": 36,
     "metadata": {},
     "output_type": "execute_result"
    }
   ],
   "source": [
    "edu_counts"
   ]
  },
  {
   "cell_type": "code",
   "execution_count": 37,
   "metadata": {},
   "outputs": [
    {
     "data": {
      "image/png": "[encoded data removed]",
      "text/plain": [
       "<Figure size 720x576 with 1 Axes>"
      ]
     },
     "metadata": {},
     "output_type": "display_data"
    }
   ],
   "source": [
    "plt.figure(figsize=(10,8))\n",
    "plt.pie(edu_counts.values, labels=edu_counts.index, autopct='%1.1f%%')\n",
    "plt.show()"
   ]
  },
  {
   "cell_type": "code",
   "execution_count": 38,
   "metadata": {},
   "outputs": [
    {
     "data": {
      "text/html": [
       "<style  type=\"text/css\" >\n",
       "</style><table id=\"T_fc76ef46_74f9_11ea_b1cd_701ce71031ef\" ><thead>    <tr>        <th class=\"col_heading level0 col0\" >edu</th>        <th class=\"col_heading level0 col1\" >salary_mean</th>        <th class=\"col_heading level0 col2\" >salary_95_min</th>        <th class=\"col_heading level0 col3\" >salary_median</th>        <th class=\"col_heading level0 col4\" >salary_95_max</th>        <th class=\"col_heading level0 col5\" >head_count</th>        <th class=\"col_heading level0 col6\" >percentage</th>    </tr></thead><tbody>\n",
       "                <tr>\n",
       "                                <td id=\"T_fc76ef46_74f9_11ea_b1cd_701ce71031efrow0_col0\" class=\"data row0 col0\" >博士</td>\n",
       "                        <td id=\"T_fc76ef46_74f9_11ea_b1cd_701ce71031efrow0_col1\" class=\"data row0 col1\" >30214</td>\n",
       "                        <td id=\"T_fc76ef46_74f9_11ea_b1cd_701ce71031efrow0_col2\" class=\"data row0 col2\" >16234</td>\n",
       "                        <td id=\"T_fc76ef46_74f9_11ea_b1cd_701ce71031efrow0_col3\" class=\"data row0 col3\" >30000</td>\n",
       "                        <td id=\"T_fc76ef46_74f9_11ea_b1cd_701ce71031efrow0_col4\" class=\"data row0 col4\" >51458</td>\n",
       "                        <td id=\"T_fc76ef46_74f9_11ea_b1cd_701ce71031efrow0_col5\" class=\"data row0 col5\" >119</td>\n",
       "                        <td id=\"T_fc76ef46_74f9_11ea_b1cd_701ce71031efrow0_col6\" class=\"data row0 col6\" >3.91%</td>\n",
       "            </tr>\n",
       "            <tr>\n",
       "                                <td id=\"T_fc76ef46_74f9_11ea_b1cd_701ce71031efrow1_col0\" class=\"data row1 col0\" >硕士</td>\n",
       "                        <td id=\"T_fc76ef46_74f9_11ea_b1cd_701ce71031efrow1_col1\" class=\"data row1 col1\" >23211</td>\n",
       "                        <td id=\"T_fc76ef46_74f9_11ea_b1cd_701ce71031efrow1_col2\" class=\"data row1 col2\" >8654</td>\n",
       "                        <td id=\"T_fc76ef46_74f9_11ea_b1cd_701ce71031efrow1_col3\" class=\"data row1 col3\" >22500</td>\n",
       "                        <td id=\"T_fc76ef46_74f9_11ea_b1cd_701ce71031efrow1_col4\" class=\"data row1 col4\" >58333</td>\n",
       "                        <td id=\"T_fc76ef46_74f9_11ea_b1cd_701ce71031efrow1_col5\" class=\"data row1 col5\" >949</td>\n",
       "                        <td id=\"T_fc76ef46_74f9_11ea_b1cd_701ce71031efrow1_col6\" class=\"data row1 col6\" >31.15%</td>\n",
       "            </tr>\n",
       "            <tr>\n",
       "                                <td id=\"T_fc76ef46_74f9_11ea_b1cd_701ce71031efrow2_col0\" class=\"data row2 col0\" >本科</td>\n",
       "                        <td id=\"T_fc76ef46_74f9_11ea_b1cd_701ce71031efrow2_col1\" class=\"data row2 col1\" >23209</td>\n",
       "                        <td id=\"T_fc76ef46_74f9_11ea_b1cd_701ce71031efrow2_col2\" class=\"data row2 col2\" >7500</td>\n",
       "                        <td id=\"T_fc76ef46_74f9_11ea_b1cd_701ce71031efrow2_col3\" class=\"data row2 col3\" >20833</td>\n",
       "                        <td id=\"T_fc76ef46_74f9_11ea_b1cd_701ce71031efrow2_col4\" class=\"data row2 col4\" >47688</td>\n",
       "                        <td id=\"T_fc76ef46_74f9_11ea_b1cd_701ce71031efrow2_col5\" class=\"data row2 col5\" >1805</td>\n",
       "                        <td id=\"T_fc76ef46_74f9_11ea_b1cd_701ce71031efrow2_col6\" class=\"data row2 col6\" >59.24%</td>\n",
       "            </tr>\n",
       "            <tr>\n",
       "                                <td id=\"T_fc76ef46_74f9_11ea_b1cd_701ce71031efrow3_col0\" class=\"data row3 col0\" >大专</td>\n",
       "                        <td id=\"T_fc76ef46_74f9_11ea_b1cd_701ce71031efrow3_col1\" class=\"data row3 col1\" >12306</td>\n",
       "                        <td id=\"T_fc76ef46_74f9_11ea_b1cd_701ce71031efrow3_col2\" class=\"data row3 col2\" >3700</td>\n",
       "                        <td id=\"T_fc76ef46_74f9_11ea_b1cd_701ce71031efrow3_col3\" class=\"data row3 col3\" >9000</td>\n",
       "                        <td id=\"T_fc76ef46_74f9_11ea_b1cd_701ce71031efrow3_col4\" class=\"data row3 col4\" >40500</td>\n",
       "                        <td id=\"T_fc76ef46_74f9_11ea_b1cd_701ce71031efrow3_col5\" class=\"data row3 col5\" >172</td>\n",
       "                        <td id=\"T_fc76ef46_74f9_11ea_b1cd_701ce71031efrow3_col6\" class=\"data row3 col6\" >5.64%</td>\n",
       "            </tr>\n",
       "            <tr>\n",
       "                                <td id=\"T_fc76ef46_74f9_11ea_b1cd_701ce71031efrow4_col0\" class=\"data row4 col0\" >初中及以下</td>\n",
       "                        <td id=\"T_fc76ef46_74f9_11ea_b1cd_701ce71031efrow4_col1\" class=\"data row4 col1\" >5250</td>\n",
       "                        <td id=\"T_fc76ef46_74f9_11ea_b1cd_701ce71031efrow4_col2\" class=\"data row4 col2\" >5250</td>\n",
       "                        <td id=\"T_fc76ef46_74f9_11ea_b1cd_701ce71031efrow4_col3\" class=\"data row4 col3\" >5250</td>\n",
       "                        <td id=\"T_fc76ef46_74f9_11ea_b1cd_701ce71031efrow4_col4\" class=\"data row4 col4\" >5250</td>\n",
       "                        <td id=\"T_fc76ef46_74f9_11ea_b1cd_701ce71031efrow4_col5\" class=\"data row4 col5\" >1</td>\n",
       "                        <td id=\"T_fc76ef46_74f9_11ea_b1cd_701ce71031efrow4_col6\" class=\"data row4 col6\" >0.03%</td>\n",
       "            </tr>\n",
       "            <tr>\n",
       "                                <td id=\"T_fc76ef46_74f9_11ea_b1cd_701ce71031efrow5_col0\" class=\"data row5 col0\" >高中</td>\n",
       "                        <td id=\"T_fc76ef46_74f9_11ea_b1cd_701ce71031efrow5_col1\" class=\"data row5 col1\" >4750</td>\n",
       "                        <td id=\"T_fc76ef46_74f9_11ea_b1cd_701ce71031efrow5_col2\" class=\"data row5 col2\" >4750</td>\n",
       "                        <td id=\"T_fc76ef46_74f9_11ea_b1cd_701ce71031efrow5_col3\" class=\"data row5 col3\" >4750</td>\n",
       "                        <td id=\"T_fc76ef46_74f9_11ea_b1cd_701ce71031efrow5_col4\" class=\"data row5 col4\" >4750</td>\n",
       "                        <td id=\"T_fc76ef46_74f9_11ea_b1cd_701ce71031efrow5_col5\" class=\"data row5 col5\" >1</td>\n",
       "                        <td id=\"T_fc76ef46_74f9_11ea_b1cd_701ce71031efrow5_col6\" class=\"data row5 col6\" >0.03%</td>\n",
       "            </tr>\n",
       "    </tbody></table>"
      ],
      "text/plain": [
       "<pandas.io.formats.style.Styler at 0x15711c831c8>"
      ]
     },
     "execution_count": 38,
     "metadata": {},
     "output_type": "execute_result"
    }
   ],
   "source": [
    "data_edu=get_sub_stats_by_col(data[data.edu.isin(['初中及以下','高中','大专','本科','硕士','博士'])], 'edu')\n",
    "apply_style(data_edu)"
   ]
  },
  {
   "cell_type": "code",
   "execution_count": 39,
   "metadata": {},
   "outputs": [],
   "source": [
    "salary_associate=data[data.edu=='大专'].monthly_salary\n",
    "salary_bachelor=data[data.edu=='本科'].monthly_salary\n",
    "salary_master=data[data.edu=='硕士'].monthly_salary\n",
    "salary_phd=data[data.edu=='博士'].monthly_salary"
   ]
  },
  {
   "cell_type": "code",
   "execution_count": null,
   "metadata": {},
   "outputs": [],
   "source": []
  },
  {
   "cell_type": "code",
   "execution_count": 40,
   "metadata": {},
   "outputs": [
    {
     "name": "stdout",
     "output_type": "stream",
     "text": [
      "大专，本科，硕士，博士的平均工资分别是12972，22552，23411，31686。中位数分别是10708， 20000，20916， 30000。\n"
     ]
    }
   ],
   "source": [
    "print('大专，本科，硕士，博士的平均工资分别是{:.0f}，{:.0f}，{:.0f}，{:.0f}。中位数分别是{:.0f}， {:.0f}，{:.0f}， {:.0f}。'.format(\n",
    "    salary_associate.mean(),salary_bachelor.mean(),salary_master.mean(),salary_phd.mean(),\n",
    "    salary_associate.median(),salary_bachelor.median(),salary_master.median(),salary_phd.median()))"
   ]
  },
  {
   "cell_type": "code",
   "execution_count": 41,
   "metadata": {},
   "outputs": [
    {
     "data": {
      "text/plain": [
       "F_onewayResult(statistic=20.249757477133127, pvalue=9.534846696218622e-06)"
      ]
     },
     "execution_count": 41,
     "metadata": {},
     "output_type": "execute_result"
    }
   ],
   "source": [
    "stats.f_oneway(salary_phd, salary_master)"
   ]
  },
  {
   "cell_type": "code",
   "execution_count": 42,
   "metadata": {},
   "outputs": [
    {
     "data": {
      "text/plain": [
       "F_onewayResult(statistic=1.2120891408112546, pvalue=0.2712194733243708)"
      ]
     },
     "execution_count": 42,
     "metadata": {},
     "output_type": "execute_result"
    }
   ],
   "source": [
    "stats.f_oneway(salary_master, salary_bachelor)"
   ]
  },
  {
   "cell_type": "code",
   "execution_count": 43,
   "metadata": {},
   "outputs": [
    {
     "data": {
      "text/plain": [
       "F_onewayResult(statistic=40.000183419534785, pvalue=4.711352280836977e-10)"
      ]
     },
     "execution_count": 43,
     "metadata": {},
     "output_type": "execute_result"
    }
   ],
   "source": [
    "stats.f_oneway(salary_bachelor, salary_associate)"
   ]
  },
  {
   "cell_type": "markdown",
   "metadata": {},
   "source": [
    "经过Oneway Anova Test，证明从大专到博士，学历每提高一级，工资都有显著的提高。"
   ]
  },
  {
   "cell_type": "code",
   "execution_count": 44,
   "metadata": {},
   "outputs": [
    {
     "data": {
      "image/png": "[encoded data removed]",
      "text/plain": [
       "<Figure size 432x288 with 1 Axes>"
      ]
     },
     "metadata": {
      "needs_background": "light"
     },
     "output_type": "display_data"
    }
   ],
   "source": [
    "\n",
    "order=['大专','本科','硕士','博士']\n",
    "a=sns.boxplot(y='edu',x='monthly_salary',order=order,data=data[data.edu.isin(order)], orient='h')\n",
    "plt.annotate('https://github.com/juwikuang/job_survey', xy=(0.5,1.5), xytext=(2, 1.55))\n",
    "plt.show()"
   ]
  },
  {
   "cell_type": "markdown",
   "metadata": {},
   "source": [
    "# 工作经验 Working Experience"
   ]
  },
  {
   "cell_type": "code",
   "execution_count": 45,
   "metadata": {},
   "outputs": [
    {
     "data": {
      "text/html": [
       "<style  type=\"text/css\" >\n",
       "</style><table id=\"T_008e3e2e_74fa_11ea_b04c_701ce71031ef\" ><thead>    <tr>        <th class=\"col_heading level0 col0\" >experience</th>        <th class=\"col_heading level0 col1\" >salary_mean</th>        <th class=\"col_heading level0 col2\" >salary_95_min</th>        <th class=\"col_heading level0 col3\" >salary_median</th>        <th class=\"col_heading level0 col4\" >salary_95_max</th>        <th class=\"col_heading level0 col5\" >head_count</th>        <th class=\"col_heading level0 col6\" >percentage</th>    </tr></thead><tbody>\n",
       "                <tr>\n",
       "                                <td id=\"T_008e3e2e_74fa_11ea_b04c_701ce71031efrow0_col0\" class=\"data row0 col0\" >5_10</td>\n",
       "                        <td id=\"T_008e3e2e_74fa_11ea_b04c_701ce71031efrow0_col1\" class=\"data row0 col1\" >31399</td>\n",
       "                        <td id=\"T_008e3e2e_74fa_11ea_b04c_701ce71031efrow0_col2\" class=\"data row0 col2\" >8840</td>\n",
       "                        <td id=\"T_008e3e2e_74fa_11ea_b04c_701ce71031efrow0_col3\" class=\"data row0 col3\" >33333</td>\n",
       "                        <td id=\"T_008e3e2e_74fa_11ea_b04c_701ce71031efrow0_col4\" class=\"data row0 col4\" >60000</td>\n",
       "                        <td id=\"T_008e3e2e_74fa_11ea_b04c_701ce71031efrow0_col5\" class=\"data row0 col5\" >297</td>\n",
       "                        <td id=\"T_008e3e2e_74fa_11ea_b04c_701ce71031efrow0_col6\" class=\"data row0 col6\" >8.76%</td>\n",
       "            </tr>\n",
       "            <tr>\n",
       "                                <td id=\"T_008e3e2e_74fa_11ea_b04c_701ce71031efrow1_col0\" class=\"data row1 col0\" >10+</td>\n",
       "                        <td id=\"T_008e3e2e_74fa_11ea_b04c_701ce71031efrow1_col1\" class=\"data row1 col1\" >28325</td>\n",
       "                        <td id=\"T_008e3e2e_74fa_11ea_b04c_701ce71031efrow1_col2\" class=\"data row1 col2\" >1000</td>\n",
       "                        <td id=\"T_008e3e2e_74fa_11ea_b04c_701ce71031efrow1_col3\" class=\"data row1 col3\" >35000</td>\n",
       "                        <td id=\"T_008e3e2e_74fa_11ea_b04c_701ce71031efrow1_col4\" class=\"data row1 col4\" >41666</td>\n",
       "                        <td id=\"T_008e3e2e_74fa_11ea_b04c_701ce71031efrow1_col5\" class=\"data row1 col5\" >21</td>\n",
       "                        <td id=\"T_008e3e2e_74fa_11ea_b04c_701ce71031efrow1_col6\" class=\"data row1 col6\" >0.62%</td>\n",
       "            </tr>\n",
       "            <tr>\n",
       "                                <td id=\"T_008e3e2e_74fa_11ea_b04c_701ce71031efrow2_col0\" class=\"data row2 col0\" >3_5</td>\n",
       "                        <td id=\"T_008e3e2e_74fa_11ea_b04c_701ce71031efrow2_col1\" class=\"data row2 col1\" >24646</td>\n",
       "                        <td id=\"T_008e3e2e_74fa_11ea_b04c_701ce71031efrow2_col2\" class=\"data row2 col2\" >11000</td>\n",
       "                        <td id=\"T_008e3e2e_74fa_11ea_b04c_701ce71031efrow2_col3\" class=\"data row2 col3\" >22500</td>\n",
       "                        <td id=\"T_008e3e2e_74fa_11ea_b04c_701ce71031efrow2_col4\" class=\"data row2 col4\" >50333</td>\n",
       "                        <td id=\"T_008e3e2e_74fa_11ea_b04c_701ce71031efrow2_col5\" class=\"data row2 col5\" >884</td>\n",
       "                        <td id=\"T_008e3e2e_74fa_11ea_b04c_701ce71031efrow2_col6\" class=\"data row2 col6\" >26.08%</td>\n",
       "            </tr>\n",
       "            <tr>\n",
       "                                <td id=\"T_008e3e2e_74fa_11ea_b04c_701ce71031efrow3_col0\" class=\"data row3 col0\" >1_3</td>\n",
       "                        <td id=\"T_008e3e2e_74fa_11ea_b04c_701ce71031efrow3_col1\" class=\"data row3 col1\" >21999</td>\n",
       "                        <td id=\"T_008e3e2e_74fa_11ea_b04c_701ce71031efrow3_col2\" class=\"data row3 col2\" >7000</td>\n",
       "                        <td id=\"T_008e3e2e_74fa_11ea_b04c_701ce71031efrow3_col3\" class=\"data row3 col3\" >20000</td>\n",
       "                        <td id=\"T_008e3e2e_74fa_11ea_b04c_701ce71031efrow3_col4\" class=\"data row3 col4\" >44125</td>\n",
       "                        <td id=\"T_008e3e2e_74fa_11ea_b04c_701ce71031efrow3_col5\" class=\"data row3 col5\" >881</td>\n",
       "                        <td id=\"T_008e3e2e_74fa_11ea_b04c_701ce71031efrow3_col6\" class=\"data row3 col6\" >26.00%</td>\n",
       "            </tr>\n",
       "            <tr>\n",
       "                                <td id=\"T_008e3e2e_74fa_11ea_b04c_701ce71031efrow4_col0\" class=\"data row4 col0\" ></td>\n",
       "                        <td id=\"T_008e3e2e_74fa_11ea_b04c_701ce71031efrow4_col1\" class=\"data row4 col1\" >19951</td>\n",
       "                        <td id=\"T_008e3e2e_74fa_11ea_b04c_701ce71031efrow4_col2\" class=\"data row4 col2\" >5250</td>\n",
       "                        <td id=\"T_008e3e2e_74fa_11ea_b04c_701ce71031efrow4_col3\" class=\"data row4 col3\" >17500</td>\n",
       "                        <td id=\"T_008e3e2e_74fa_11ea_b04c_701ce71031efrow4_col4\" class=\"data row4 col4\" >45833</td>\n",
       "                        <td id=\"T_008e3e2e_74fa_11ea_b04c_701ce71031efrow4_col5\" class=\"data row4 col5\" >1306</td>\n",
       "                        <td id=\"T_008e3e2e_74fa_11ea_b04c_701ce71031efrow4_col6\" class=\"data row4 col6\" >38.54%</td>\n",
       "            </tr>\n",
       "    </tbody></table>"
      ],
      "text/plain": [
       "<pandas.io.formats.style.Styler at 0x15717b28608>"
      ]
     },
     "execution_count": 45,
     "metadata": {},
     "output_type": "execute_result"
    }
   ],
   "source": [
    "data_experience=get_sub_stats_by_col(data, 'experience')\n",
    "apply_style(data_experience)"
   ]
  },
  {
   "cell_type": "code",
   "execution_count": 46,
   "metadata": {},
   "outputs": [],
   "source": [
    "salary_we_10=data[data.experience=='10+'].monthly_salary\n",
    "salary_we_5_10=data[data.experience=='5_10'].monthly_salary\n",
    "salary_we_3_5=data[data.experience=='3_5'].monthly_salary\n",
    "salary_we_1_3=data[data.experience=='1_3'].monthly_salary\n",
    "salary_we_no=data[data.experience=='no'].monthly_salary"
   ]
  },
  {
   "cell_type": "code",
   "execution_count": 47,
   "metadata": {},
   "outputs": [
    {
     "data": {
      "image/png": "[encoded data removed]",
      "text/plain": [
       "<Figure size 432x288 with 1 Axes>"
      ]
     },
     "metadata": {
      "needs_background": "light"
     },
     "output_type": "display_data"
    }
   ],
   "source": [
    "\n",
    "order=['10+','5_10','3_5','1_3']\n",
    "sns.boxplot(y='experience',x='monthly_salary',order=order,data=data[data.experience.isin(order)], orient='h')\n",
    "plt.annotate('https://github.com/juwikuang/job_survey', xy=(1.5,1.5), xytext=(1.55, 1.55))\n",
    "plt.show()"
   ]
  },
  {
   "cell_type": "markdown",
   "metadata": {},
   "source": [
    "# 公司 Company"
   ]
  },
  {
   "cell_type": "markdown",
   "metadata": {},
   "source": [
    "## 公司性质 Company Type"
   ]
  },
  {
   "cell_type": "code",
   "execution_count": 48,
   "metadata": {},
   "outputs": [
    {
     "data": {
      "text/html": [
       "<style  type=\"text/css\" >\n",
       "</style><table id=\"T_0211e5f6_74fa_11ea_9f10_701ce71031ef\" ><thead>    <tr>        <th class=\"col_heading level0 col0\" >company_type</th>        <th class=\"col_heading level0 col1\" >salary_mean</th>        <th class=\"col_heading level0 col2\" >salary_95_min</th>        <th class=\"col_heading level0 col3\" >salary_median</th>        <th class=\"col_heading level0 col4\" >salary_95_max</th>        <th class=\"col_heading level0 col5\" >head_count</th>        <th class=\"col_heading level0 col6\" >percentage</th>    </tr></thead><tbody>\n",
       "                <tr>\n",
       "                                <td id=\"T_0211e5f6_74fa_11ea_9f10_701ce71031efrow0_col0\" class=\"data row0 col0\" >外企代表处</td>\n",
       "                        <td id=\"T_0211e5f6_74fa_11ea_9f10_701ce71031efrow0_col1\" class=\"data row0 col1\" >33333</td>\n",
       "                        <td id=\"T_0211e5f6_74fa_11ea_9f10_701ce71031efrow0_col2\" class=\"data row0 col2\" >33333</td>\n",
       "                        <td id=\"T_0211e5f6_74fa_11ea_9f10_701ce71031efrow0_col3\" class=\"data row0 col3\" >33333</td>\n",
       "                        <td id=\"T_0211e5f6_74fa_11ea_9f10_701ce71031efrow0_col4\" class=\"data row0 col4\" >33333</td>\n",
       "                        <td id=\"T_0211e5f6_74fa_11ea_9f10_701ce71031efrow0_col5\" class=\"data row0 col5\" >2</td>\n",
       "                        <td id=\"T_0211e5f6_74fa_11ea_9f10_701ce71031efrow0_col6\" class=\"data row0 col6\" >0.06%</td>\n",
       "            </tr>\n",
       "            <tr>\n",
       "                                <td id=\"T_0211e5f6_74fa_11ea_9f10_701ce71031efrow1_col0\" class=\"data row1 col0\" >外资（欧美）</td>\n",
       "                        <td id=\"T_0211e5f6_74fa_11ea_9f10_701ce71031efrow1_col1\" class=\"data row1 col1\" >28554</td>\n",
       "                        <td id=\"T_0211e5f6_74fa_11ea_9f10_701ce71031efrow1_col2\" class=\"data row1 col2\" >8000</td>\n",
       "                        <td id=\"T_0211e5f6_74fa_11ea_9f10_701ce71031efrow1_col3\" class=\"data row1 col3\" >27500</td>\n",
       "                        <td id=\"T_0211e5f6_74fa_11ea_9f10_701ce71031efrow1_col4\" class=\"data row1 col4\" >60000</td>\n",
       "                        <td id=\"T_0211e5f6_74fa_11ea_9f10_701ce71031efrow1_col5\" class=\"data row1 col5\" >241</td>\n",
       "                        <td id=\"T_0211e5f6_74fa_11ea_9f10_701ce71031efrow1_col6\" class=\"data row1 col6\" >7.11%</td>\n",
       "            </tr>\n",
       "            <tr>\n",
       "                                <td id=\"T_0211e5f6_74fa_11ea_9f10_701ce71031efrow2_col0\" class=\"data row2 col0\" >外资（非欧美）</td>\n",
       "                        <td id=\"T_0211e5f6_74fa_11ea_9f10_701ce71031efrow2_col1\" class=\"data row2 col1\" >24032</td>\n",
       "                        <td id=\"T_0211e5f6_74fa_11ea_9f10_701ce71031efrow2_col2\" class=\"data row2 col2\" >9360</td>\n",
       "                        <td id=\"T_0211e5f6_74fa_11ea_9f10_701ce71031efrow2_col3\" class=\"data row2 col3\" >22500</td>\n",
       "                        <td id=\"T_0211e5f6_74fa_11ea_9f10_701ce71031efrow2_col4\" class=\"data row2 col4\" >45777</td>\n",
       "                        <td id=\"T_0211e5f6_74fa_11ea_9f10_701ce71031efrow2_col5\" class=\"data row2 col5\" >192</td>\n",
       "                        <td id=\"T_0211e5f6_74fa_11ea_9f10_701ce71031efrow2_col6\" class=\"data row2 col6\" >5.67%</td>\n",
       "            </tr>\n",
       "            <tr>\n",
       "                                <td id=\"T_0211e5f6_74fa_11ea_9f10_701ce71031efrow3_col0\" class=\"data row3 col0\" >合资</td>\n",
       "                        <td id=\"T_0211e5f6_74fa_11ea_9f10_701ce71031efrow3_col1\" class=\"data row3 col1\" >24030</td>\n",
       "                        <td id=\"T_0211e5f6_74fa_11ea_9f10_701ce71031efrow3_col2\" class=\"data row3 col2\" >5250</td>\n",
       "                        <td id=\"T_0211e5f6_74fa_11ea_9f10_701ce71031efrow3_col3\" class=\"data row3 col3\" >22500</td>\n",
       "                        <td id=\"T_0211e5f6_74fa_11ea_9f10_701ce71031efrow3_col4\" class=\"data row3 col4\" >50000</td>\n",
       "                        <td id=\"T_0211e5f6_74fa_11ea_9f10_701ce71031efrow3_col5\" class=\"data row3 col5\" >319</td>\n",
       "                        <td id=\"T_0211e5f6_74fa_11ea_9f10_701ce71031efrow3_col6\" class=\"data row3 col6\" >9.41%</td>\n",
       "            </tr>\n",
       "            <tr>\n",
       "                                <td id=\"T_0211e5f6_74fa_11ea_9f10_701ce71031efrow4_col0\" class=\"data row4 col0\" >民营公司</td>\n",
       "                        <td id=\"T_0211e5f6_74fa_11ea_9f10_701ce71031efrow4_col1\" class=\"data row4 col1\" >22457</td>\n",
       "                        <td id=\"T_0211e5f6_74fa_11ea_9f10_701ce71031efrow4_col2\" class=\"data row4 col2\" >7000</td>\n",
       "                        <td id=\"T_0211e5f6_74fa_11ea_9f10_701ce71031efrow4_col3\" class=\"data row4 col3\" >20000</td>\n",
       "                        <td id=\"T_0211e5f6_74fa_11ea_9f10_701ce71031efrow4_col4\" class=\"data row4 col4\" >50000</td>\n",
       "                        <td id=\"T_0211e5f6_74fa_11ea_9f10_701ce71031efrow4_col5\" class=\"data row4 col5\" >2142</td>\n",
       "                        <td id=\"T_0211e5f6_74fa_11ea_9f10_701ce71031efrow4_col6\" class=\"data row4 col6\" >63.20%</td>\n",
       "            </tr>\n",
       "            <tr>\n",
       "                                <td id=\"T_0211e5f6_74fa_11ea_9f10_701ce71031efrow5_col0\" class=\"data row5 col0\" >国企</td>\n",
       "                        <td id=\"T_0211e5f6_74fa_11ea_9f10_701ce71031efrow5_col1\" class=\"data row5 col1\" >20323</td>\n",
       "                        <td id=\"T_0211e5f6_74fa_11ea_9f10_701ce71031efrow5_col2\" class=\"data row5 col2\" >7705</td>\n",
       "                        <td id=\"T_0211e5f6_74fa_11ea_9f10_701ce71031efrow5_col3\" class=\"data row5 col3\" >20000</td>\n",
       "                        <td id=\"T_0211e5f6_74fa_11ea_9f10_701ce71031efrow5_col4\" class=\"data row5 col4\" >37500</td>\n",
       "                        <td id=\"T_0211e5f6_74fa_11ea_9f10_701ce71031efrow5_col5\" class=\"data row5 col5\" >410</td>\n",
       "                        <td id=\"T_0211e5f6_74fa_11ea_9f10_701ce71031efrow5_col6\" class=\"data row5 col6\" >12.10%</td>\n",
       "            </tr>\n",
       "            <tr>\n",
       "                                <td id=\"T_0211e5f6_74fa_11ea_9f10_701ce71031efrow6_col0\" class=\"data row6 col0\" >事业单位</td>\n",
       "                        <td id=\"T_0211e5f6_74fa_11ea_9f10_701ce71031efrow6_col1\" class=\"data row6 col1\" >18659</td>\n",
       "                        <td id=\"T_0211e5f6_74fa_11ea_9f10_701ce71031efrow6_col2\" class=\"data row6 col2\" >8400</td>\n",
       "                        <td id=\"T_0211e5f6_74fa_11ea_9f10_701ce71031efrow6_col3\" class=\"data row6 col3\" >17500</td>\n",
       "                        <td id=\"T_0211e5f6_74fa_11ea_9f10_701ce71031efrow6_col4\" class=\"data row6 col4\" >35000</td>\n",
       "                        <td id=\"T_0211e5f6_74fa_11ea_9f10_701ce71031efrow6_col5\" class=\"data row6 col5\" >68</td>\n",
       "                        <td id=\"T_0211e5f6_74fa_11ea_9f10_701ce71031efrow6_col6\" class=\"data row6 col6\" >2.01%</td>\n",
       "            </tr>\n",
       "            <tr>\n",
       "                                <td id=\"T_0211e5f6_74fa_11ea_9f10_701ce71031efrow7_col0\" class=\"data row7 col0\" >非营利组织</td>\n",
       "                        <td id=\"T_0211e5f6_74fa_11ea_9f10_701ce71031efrow7_col1\" class=\"data row7 col1\" >14233</td>\n",
       "                        <td id=\"T_0211e5f6_74fa_11ea_9f10_701ce71031efrow7_col2\" class=\"data row7 col2\" >9000</td>\n",
       "                        <td id=\"T_0211e5f6_74fa_11ea_9f10_701ce71031efrow7_col3\" class=\"data row7 col3\" >10875</td>\n",
       "                        <td id=\"T_0211e5f6_74fa_11ea_9f10_701ce71031efrow7_col4\" class=\"data row7 col4\" >40000</td>\n",
       "                        <td id=\"T_0211e5f6_74fa_11ea_9f10_701ce71031efrow7_col5\" class=\"data row7 col5\" >15</td>\n",
       "                        <td id=\"T_0211e5f6_74fa_11ea_9f10_701ce71031efrow7_col6\" class=\"data row7 col6\" >0.44%</td>\n",
       "            </tr>\n",
       "    </tbody></table>"
      ],
      "text/plain": [
       "<pandas.io.formats.style.Styler at 0x15717d67948>"
      ]
     },
     "execution_count": 48,
     "metadata": {},
     "output_type": "execute_result"
    }
   ],
   "source": [
    "data_company_type=get_sub_stats_by_col(data,'company_type')\n",
    "apply_style(data_company_type)"
   ]
  },
  {
   "cell_type": "markdown",
   "metadata": {},
   "source": [
    "us_eu是欧美外企，startup是创业公司，listed是上市公司，state是国企，private是私企，foreign是非欧美外企，其他不足1000个样本的不管了。"
   ]
  },
  {
   "cell_type": "markdown",
   "metadata": {},
   "source": [
    "## 公司规模 Company Size"
   ]
  },
  {
   "cell_type": "code",
   "execution_count": 49,
   "metadata": {},
   "outputs": [
    {
     "data": {
      "text/html": [
       "<style  type=\"text/css\" >\n",
       "</style><table id=\"T_0312e002_74fa_11ea_9266_701ce71031ef\" ><thead>    <tr>        <th class=\"col_heading level0 col0\" >company_size</th>        <th class=\"col_heading level0 col1\" >salary_mean</th>        <th class=\"col_heading level0 col2\" >salary_95_min</th>        <th class=\"col_heading level0 col3\" >salary_median</th>        <th class=\"col_heading level0 col4\" >salary_95_max</th>        <th class=\"col_heading level0 col5\" >head_count</th>        <th class=\"col_heading level0 col6\" >percentage</th>    </tr></thead><tbody>\n",
       "                <tr>\n",
       "                                <td id=\"T_0312e002_74fa_11ea_9266_701ce71031efrow0_col0\" class=\"data row0 col0\" >10000+</td>\n",
       "                        <td id=\"T_0312e002_74fa_11ea_9266_701ce71031efrow0_col1\" class=\"data row0 col1\" >33643</td>\n",
       "                        <td id=\"T_0312e002_74fa_11ea_9266_701ce71031efrow0_col2\" class=\"data row0 col2\" >5250</td>\n",
       "                        <td id=\"T_0312e002_74fa_11ea_9266_701ce71031efrow0_col3\" class=\"data row0 col3\" >35000</td>\n",
       "                        <td id=\"T_0312e002_74fa_11ea_9266_701ce71031efrow0_col4\" class=\"data row0 col4\" >55805</td>\n",
       "                        <td id=\"T_0312e002_74fa_11ea_9266_701ce71031efrow0_col5\" class=\"data row0 col5\" >390</td>\n",
       "                        <td id=\"T_0312e002_74fa_11ea_9266_701ce71031efrow0_col6\" class=\"data row0 col6\" >11.51%</td>\n",
       "            </tr>\n",
       "            <tr>\n",
       "                                <td id=\"T_0312e002_74fa_11ea_9266_701ce71031efrow1_col0\" class=\"data row1 col0\" >500-1000</td>\n",
       "                        <td id=\"T_0312e002_74fa_11ea_9266_701ce71031efrow1_col1\" class=\"data row1 col1\" >24587</td>\n",
       "                        <td id=\"T_0312e002_74fa_11ea_9266_701ce71031efrow1_col2\" class=\"data row1 col2\" >12033</td>\n",
       "                        <td id=\"T_0312e002_74fa_11ea_9266_701ce71031efrow1_col3\" class=\"data row1 col3\" >22500</td>\n",
       "                        <td id=\"T_0312e002_74fa_11ea_9266_701ce71031efrow1_col4\" class=\"data row1 col4\" >46389</td>\n",
       "                        <td id=\"T_0312e002_74fa_11ea_9266_701ce71031efrow1_col5\" class=\"data row1 col5\" >364</td>\n",
       "                        <td id=\"T_0312e002_74fa_11ea_9266_701ce71031efrow1_col6\" class=\"data row1 col6\" >10.74%</td>\n",
       "            </tr>\n",
       "            <tr>\n",
       "                                <td id=\"T_0312e002_74fa_11ea_9266_701ce71031efrow2_col0\" class=\"data row2 col0\" >150-500</td>\n",
       "                        <td id=\"T_0312e002_74fa_11ea_9266_701ce71031efrow2_col1\" class=\"data row2 col1\" >22993</td>\n",
       "                        <td id=\"T_0312e002_74fa_11ea_9266_701ce71031efrow2_col2\" class=\"data row2 col2\" >7000</td>\n",
       "                        <td id=\"T_0312e002_74fa_11ea_9266_701ce71031efrow2_col3\" class=\"data row2 col3\" >20690</td>\n",
       "                        <td id=\"T_0312e002_74fa_11ea_9266_701ce71031efrow2_col4\" class=\"data row2 col4\" >57500</td>\n",
       "                        <td id=\"T_0312e002_74fa_11ea_9266_701ce71031efrow2_col5\" class=\"data row2 col5\" >735</td>\n",
       "                        <td id=\"T_0312e002_74fa_11ea_9266_701ce71031efrow2_col6\" class=\"data row2 col6\" >21.69%</td>\n",
       "            </tr>\n",
       "            <tr>\n",
       "                                <td id=\"T_0312e002_74fa_11ea_9266_701ce71031efrow3_col0\" class=\"data row3 col0\" >5000-10000</td>\n",
       "                        <td id=\"T_0312e002_74fa_11ea_9266_701ce71031efrow3_col1\" class=\"data row3 col1\" >22733</td>\n",
       "                        <td id=\"T_0312e002_74fa_11ea_9266_701ce71031efrow3_col2\" class=\"data row3 col2\" >9807</td>\n",
       "                        <td id=\"T_0312e002_74fa_11ea_9266_701ce71031efrow3_col3\" class=\"data row3 col3\" >21627</td>\n",
       "                        <td id=\"T_0312e002_74fa_11ea_9266_701ce71031efrow3_col4\" class=\"data row3 col4\" >36021</td>\n",
       "                        <td id=\"T_0312e002_74fa_11ea_9266_701ce71031efrow3_col5\" class=\"data row3 col5\" >166</td>\n",
       "                        <td id=\"T_0312e002_74fa_11ea_9266_701ce71031efrow3_col6\" class=\"data row3 col6\" >4.90%</td>\n",
       "            </tr>\n",
       "            <tr>\n",
       "                                <td id=\"T_0312e002_74fa_11ea_9266_701ce71031efrow4_col0\" class=\"data row4 col0\" >1000-5000</td>\n",
       "                        <td id=\"T_0312e002_74fa_11ea_9266_701ce71031efrow4_col1\" class=\"data row4 col1\" >20354</td>\n",
       "                        <td id=\"T_0312e002_74fa_11ea_9266_701ce71031efrow4_col2\" class=\"data row4 col2\" >7500</td>\n",
       "                        <td id=\"T_0312e002_74fa_11ea_9266_701ce71031efrow4_col3\" class=\"data row4 col3\" >20000</td>\n",
       "                        <td id=\"T_0312e002_74fa_11ea_9266_701ce71031efrow4_col4\" class=\"data row4 col4\" >44750</td>\n",
       "                        <td id=\"T_0312e002_74fa_11ea_9266_701ce71031efrow4_col5\" class=\"data row4 col5\" >565</td>\n",
       "                        <td id=\"T_0312e002_74fa_11ea_9266_701ce71031efrow4_col6\" class=\"data row4 col6\" >16.67%</td>\n",
       "            </tr>\n",
       "            <tr>\n",
       "                                <td id=\"T_0312e002_74fa_11ea_9266_701ce71031efrow5_col0\" class=\"data row5 col0\" >50-150</td>\n",
       "                        <td id=\"T_0312e002_74fa_11ea_9266_701ce71031efrow5_col1\" class=\"data row5 col1\" >19695</td>\n",
       "                        <td id=\"T_0312e002_74fa_11ea_9266_701ce71031efrow5_col2\" class=\"data row5 col2\" >6890</td>\n",
       "                        <td id=\"T_0312e002_74fa_11ea_9266_701ce71031efrow5_col3\" class=\"data row5 col3\" >17500</td>\n",
       "                        <td id=\"T_0312e002_74fa_11ea_9266_701ce71031efrow5_col4\" class=\"data row5 col4\" >50000</td>\n",
       "                        <td id=\"T_0312e002_74fa_11ea_9266_701ce71031efrow5_col5\" class=\"data row5 col5\" >718</td>\n",
       "                        <td id=\"T_0312e002_74fa_11ea_9266_701ce71031efrow5_col6\" class=\"data row5 col6\" >21.19%</td>\n",
       "            </tr>\n",
       "            <tr>\n",
       "                                <td id=\"T_0312e002_74fa_11ea_9266_701ce71031efrow6_col0\" class=\"data row6 col0\" >50-</td>\n",
       "                        <td id=\"T_0312e002_74fa_11ea_9266_701ce71031efrow6_col1\" class=\"data row6 col1\" >19611</td>\n",
       "                        <td id=\"T_0312e002_74fa_11ea_9266_701ce71031efrow6_col2\" class=\"data row6 col2\" >5312</td>\n",
       "                        <td id=\"T_0312e002_74fa_11ea_9266_701ce71031efrow6_col3\" class=\"data row6 col3\" >15000</td>\n",
       "                        <td id=\"T_0312e002_74fa_11ea_9266_701ce71031efrow6_col4\" class=\"data row6 col4\" >58604</td>\n",
       "                        <td id=\"T_0312e002_74fa_11ea_9266_701ce71031efrow6_col5\" class=\"data row6 col5\" >367</td>\n",
       "                        <td id=\"T_0312e002_74fa_11ea_9266_701ce71031efrow6_col6\" class=\"data row6 col6\" >10.83%</td>\n",
       "            </tr>\n",
       "            <tr>\n",
       "                                <td id=\"T_0312e002_74fa_11ea_9266_701ce71031efrow7_col0\" class=\"data row7 col0\" ></td>\n",
       "                        <td id=\"T_0312e002_74fa_11ea_9266_701ce71031efrow7_col1\" class=\"data row7 col1\" >18601</td>\n",
       "                        <td id=\"T_0312e002_74fa_11ea_9266_701ce71031efrow7_col2\" class=\"data row7 col2\" >8200</td>\n",
       "                        <td id=\"T_0312e002_74fa_11ea_9266_701ce71031efrow7_col3\" class=\"data row7 col3\" >17500</td>\n",
       "                        <td id=\"T_0312e002_74fa_11ea_9266_701ce71031efrow7_col4\" class=\"data row7 col4\" >41667</td>\n",
       "                        <td id=\"T_0312e002_74fa_11ea_9266_701ce71031efrow7_col5\" class=\"data row7 col5\" >84</td>\n",
       "                        <td id=\"T_0312e002_74fa_11ea_9266_701ce71031efrow7_col6\" class=\"data row7 col6\" >2.48%</td>\n",
       "            </tr>\n",
       "    </tbody></table>"
      ],
      "text/plain": [
       "<pandas.io.formats.style.Styler at 0x15717f0d208>"
      ]
     },
     "execution_count": 49,
     "metadata": {},
     "output_type": "execute_result"
    }
   ],
   "source": [
    "data_company_size=get_sub_stats_by_col(data,'company_size')\n",
    "apply_style(data_company_size)"
   ]
  },
  {
   "cell_type": "markdown",
   "metadata": {},
   "source": [
    "公司越大，工资越高"
   ]
  },
  {
   "cell_type": "markdown",
   "metadata": {},
   "source": [
    "## 行业 Industry"
   ]
  },
  {
   "cell_type": "code",
   "execution_count": 50,
   "metadata": {},
   "outputs": [
    {
     "data": {
      "text/html": [
       "<style  type=\"text/css\" >\n",
       "</style><table id=\"T_03b5ad64_74fa_11ea_8c5e_701ce71031ef\" ><thead>    <tr>        <th class=\"col_heading level0 col0\" >industry</th>        <th class=\"col_heading level0 col1\" >salary_mean</th>        <th class=\"col_heading level0 col2\" >salary_95_min</th>        <th class=\"col_heading level0 col3\" >salary_median</th>        <th class=\"col_heading level0 col4\" >salary_95_max</th>        <th class=\"col_heading level0 col5\" >head_count</th>        <th class=\"col_heading level0 col6\" >percentage</th>    </tr></thead><tbody>\n",
       "                <tr>\n",
       "                                <td id=\"T_03b5ad64_74fa_11ea_8c5e_701ce71031efrow0_col0\" class=\"data row0 col0\" ></td>\n",
       "                        <td id=\"T_03b5ad64_74fa_11ea_8c5e_701ce71031efrow0_col1\" class=\"data row0 col1\" >27976</td>\n",
       "                        <td id=\"T_03b5ad64_74fa_11ea_8c5e_701ce71031efrow0_col2\" class=\"data row0 col2\" >12562</td>\n",
       "                        <td id=\"T_03b5ad64_74fa_11ea_8c5e_701ce71031efrow0_col3\" class=\"data row0 col3\" >30667</td>\n",
       "                        <td id=\"T_03b5ad64_74fa_11ea_8c5e_701ce71031efrow0_col4\" class=\"data row0 col4\" >35000</td>\n",
       "                        <td id=\"T_03b5ad64_74fa_11ea_8c5e_701ce71031efrow0_col5\" class=\"data row0 col5\" >21</td>\n",
       "                        <td id=\"T_03b5ad64_74fa_11ea_8c5e_701ce71031efrow0_col6\" class=\"data row0 col6\" >0.62%</td>\n",
       "            </tr>\n",
       "            <tr>\n",
       "                                <td id=\"T_03b5ad64_74fa_11ea_8c5e_701ce71031efrow1_col0\" class=\"data row1 col0\" >gov</td>\n",
       "                        <td id=\"T_03b5ad64_74fa_11ea_8c5e_701ce71031efrow1_col1\" class=\"data row1 col1\" >24991</td>\n",
       "                        <td id=\"T_03b5ad64_74fa_11ea_8c5e_701ce71031efrow1_col2\" class=\"data row1 col2\" >9000</td>\n",
       "                        <td id=\"T_03b5ad64_74fa_11ea_8c5e_701ce71031efrow1_col3\" class=\"data row1 col3\" >23286</td>\n",
       "                        <td id=\"T_03b5ad64_74fa_11ea_8c5e_701ce71031efrow1_col4\" class=\"data row1 col4\" >58333</td>\n",
       "                        <td id=\"T_03b5ad64_74fa_11ea_8c5e_701ce71031efrow1_col5\" class=\"data row1 col5\" >37</td>\n",
       "                        <td id=\"T_03b5ad64_74fa_11ea_8c5e_701ce71031efrow1_col6\" class=\"data row1 col6\" >1.09%</td>\n",
       "            </tr>\n",
       "            <tr>\n",
       "                                <td id=\"T_03b5ad64_74fa_11ea_8c5e_701ce71031efrow2_col0\" class=\"data row2 col0\" >computer</td>\n",
       "                        <td id=\"T_03b5ad64_74fa_11ea_8c5e_701ce71031efrow2_col1\" class=\"data row2 col1\" >23600</td>\n",
       "                        <td id=\"T_03b5ad64_74fa_11ea_8c5e_701ce71031efrow2_col2\" class=\"data row2 col2\" >7000</td>\n",
       "                        <td id=\"T_03b5ad64_74fa_11ea_8c5e_701ce71031efrow2_col3\" class=\"data row2 col3\" >22500</td>\n",
       "                        <td id=\"T_03b5ad64_74fa_11ea_8c5e_701ce71031efrow2_col4\" class=\"data row2 col4\" >49604</td>\n",
       "                        <td id=\"T_03b5ad64_74fa_11ea_8c5e_701ce71031efrow2_col5\" class=\"data row2 col5\" >2519</td>\n",
       "                        <td id=\"T_03b5ad64_74fa_11ea_8c5e_701ce71031efrow2_col6\" class=\"data row2 col6\" >74.33%</td>\n",
       "            </tr>\n",
       "            <tr>\n",
       "                                <td id=\"T_03b5ad64_74fa_11ea_8c5e_701ce71031efrow3_col0\" class=\"data row3 col0\" >finance</td>\n",
       "                        <td id=\"T_03b5ad64_74fa_11ea_8c5e_701ce71031efrow3_col1\" class=\"data row3 col1\" >22959</td>\n",
       "                        <td id=\"T_03b5ad64_74fa_11ea_8c5e_701ce71031efrow3_col2\" class=\"data row3 col2\" >7000</td>\n",
       "                        <td id=\"T_03b5ad64_74fa_11ea_8c5e_701ce71031efrow3_col3\" class=\"data row3 col3\" >20436</td>\n",
       "                        <td id=\"T_03b5ad64_74fa_11ea_8c5e_701ce71031efrow3_col4\" class=\"data row3 col4\" >68108</td>\n",
       "                        <td id=\"T_03b5ad64_74fa_11ea_8c5e_701ce71031efrow3_col5\" class=\"data row3 col5\" >162</td>\n",
       "                        <td id=\"T_03b5ad64_74fa_11ea_8c5e_701ce71031efrow3_col6\" class=\"data row3 col6\" >4.78%</td>\n",
       "            </tr>\n",
       "            <tr>\n",
       "                                <td id=\"T_03b5ad64_74fa_11ea_8c5e_701ce71031efrow4_col0\" class=\"data row4 col0\" >edu</td>\n",
       "                        <td id=\"T_03b5ad64_74fa_11ea_8c5e_701ce71031efrow4_col1\" class=\"data row4 col1\" >22280</td>\n",
       "                        <td id=\"T_03b5ad64_74fa_11ea_8c5e_701ce71031efrow4_col2\" class=\"data row4 col2\" >6497</td>\n",
       "                        <td id=\"T_03b5ad64_74fa_11ea_8c5e_701ce71031efrow4_col3\" class=\"data row4 col3\" >17500</td>\n",
       "                        <td id=\"T_03b5ad64_74fa_11ea_8c5e_701ce71031efrow4_col4\" class=\"data row4 col4\" >62588</td>\n",
       "                        <td id=\"T_03b5ad64_74fa_11ea_8c5e_701ce71031efrow4_col5\" class=\"data row4 col5\" >293</td>\n",
       "                        <td id=\"T_03b5ad64_74fa_11ea_8c5e_701ce71031efrow4_col6\" class=\"data row4 col6\" >8.65%</td>\n",
       "            </tr>\n",
       "            <tr>\n",
       "                                <td id=\"T_03b5ad64_74fa_11ea_8c5e_701ce71031efrow5_col0\" class=\"data row5 col0\" >logistic</td>\n",
       "                        <td id=\"T_03b5ad64_74fa_11ea_8c5e_701ce71031efrow5_col1\" class=\"data row5 col1\" >18123</td>\n",
       "                        <td id=\"T_03b5ad64_74fa_11ea_8c5e_701ce71031efrow5_col2\" class=\"data row5 col2\" >8000</td>\n",
       "                        <td id=\"T_03b5ad64_74fa_11ea_8c5e_701ce71031efrow5_col3\" class=\"data row5 col3\" >16666</td>\n",
       "                        <td id=\"T_03b5ad64_74fa_11ea_8c5e_701ce71031efrow5_col4\" class=\"data row5 col4\" >27994</td>\n",
       "                        <td id=\"T_03b5ad64_74fa_11ea_8c5e_701ce71031efrow5_col5\" class=\"data row5 col5\" >23</td>\n",
       "                        <td id=\"T_03b5ad64_74fa_11ea_8c5e_701ce71031efrow5_col6\" class=\"data row5 col6\" >0.68%</td>\n",
       "            </tr>\n",
       "            <tr>\n",
       "                                <td id=\"T_03b5ad64_74fa_11ea_8c5e_701ce71031efrow6_col0\" class=\"data row6 col0\" >medical</td>\n",
       "                        <td id=\"T_03b5ad64_74fa_11ea_8c5e_701ce71031efrow6_col1\" class=\"data row6 col1\" >17975</td>\n",
       "                        <td id=\"T_03b5ad64_74fa_11ea_8c5e_701ce71031efrow6_col2\" class=\"data row6 col2\" >7600</td>\n",
       "                        <td id=\"T_03b5ad64_74fa_11ea_8c5e_701ce71031efrow6_col3\" class=\"data row6 col3\" >16805</td>\n",
       "                        <td id=\"T_03b5ad64_74fa_11ea_8c5e_701ce71031efrow6_col4\" class=\"data row6 col4\" >38500</td>\n",
       "                        <td id=\"T_03b5ad64_74fa_11ea_8c5e_701ce71031efrow6_col5\" class=\"data row6 col5\" >92</td>\n",
       "                        <td id=\"T_03b5ad64_74fa_11ea_8c5e_701ce71031efrow6_col6\" class=\"data row6 col6\" >2.71%</td>\n",
       "            </tr>\n",
       "            <tr>\n",
       "                                <td id=\"T_03b5ad64_74fa_11ea_8c5e_701ce71031efrow7_col0\" class=\"data row7 col0\" >energy</td>\n",
       "                        <td id=\"T_03b5ad64_74fa_11ea_8c5e_701ce71031efrow7_col1\" class=\"data row7 col1\" >17672</td>\n",
       "                        <td id=\"T_03b5ad64_74fa_11ea_8c5e_701ce71031efrow7_col2\" class=\"data row7 col2\" >1000</td>\n",
       "                        <td id=\"T_03b5ad64_74fa_11ea_8c5e_701ce71031efrow7_col3\" class=\"data row7 col3\" >18333</td>\n",
       "                        <td id=\"T_03b5ad64_74fa_11ea_8c5e_701ce71031efrow7_col4\" class=\"data row7 col4\" >37500</td>\n",
       "                        <td id=\"T_03b5ad64_74fa_11ea_8c5e_701ce71031efrow7_col5\" class=\"data row7 col5\" >39</td>\n",
       "                        <td id=\"T_03b5ad64_74fa_11ea_8c5e_701ce71031efrow7_col6\" class=\"data row7 col6\" >1.15%</td>\n",
       "            </tr>\n",
       "            <tr>\n",
       "                                <td id=\"T_03b5ad64_74fa_11ea_8c5e_701ce71031efrow8_col0\" class=\"data row8 col0\" >ads</td>\n",
       "                        <td id=\"T_03b5ad64_74fa_11ea_8c5e_701ce71031efrow8_col1\" class=\"data row8 col1\" >17061</td>\n",
       "                        <td id=\"T_03b5ad64_74fa_11ea_8c5e_701ce71031efrow8_col2\" class=\"data row8 col2\" >7000</td>\n",
       "                        <td id=\"T_03b5ad64_74fa_11ea_8c5e_701ce71031efrow8_col3\" class=\"data row8 col3\" >17045</td>\n",
       "                        <td id=\"T_03b5ad64_74fa_11ea_8c5e_701ce71031efrow8_col4\" class=\"data row8 col4\" >40125</td>\n",
       "                        <td id=\"T_03b5ad64_74fa_11ea_8c5e_701ce71031efrow8_col5\" class=\"data row8 col5\" >30</td>\n",
       "                        <td id=\"T_03b5ad64_74fa_11ea_8c5e_701ce71031efrow8_col6\" class=\"data row8 col6\" >0.89%</td>\n",
       "            </tr>\n",
       "            <tr>\n",
       "                                <td id=\"T_03b5ad64_74fa_11ea_8c5e_701ce71031efrow9_col0\" class=\"data row9 col0\" >trade</td>\n",
       "                        <td id=\"T_03b5ad64_74fa_11ea_8c5e_701ce71031efrow9_col1\" class=\"data row9 col1\" >16994</td>\n",
       "                        <td id=\"T_03b5ad64_74fa_11ea_8c5e_701ce71031efrow9_col2\" class=\"data row9 col2\" >6289</td>\n",
       "                        <td id=\"T_03b5ad64_74fa_11ea_8c5e_701ce71031efrow9_col3\" class=\"data row9 col3\" >13792</td>\n",
       "                        <td id=\"T_03b5ad64_74fa_11ea_8c5e_701ce71031efrow9_col4\" class=\"data row9 col4\" >50021</td>\n",
       "                        <td id=\"T_03b5ad64_74fa_11ea_8c5e_701ce71031efrow9_col5\" class=\"data row9 col5\" >121</td>\n",
       "                        <td id=\"T_03b5ad64_74fa_11ea_8c5e_701ce71031efrow9_col6\" class=\"data row9 col6\" >3.57%</td>\n",
       "            </tr>\n",
       "            <tr>\n",
       "                                <td id=\"T_03b5ad64_74fa_11ea_8c5e_701ce71031efrow10_col0\" class=\"data row10 col0\" >service</td>\n",
       "                        <td id=\"T_03b5ad64_74fa_11ea_8c5e_701ce71031efrow10_col1\" class=\"data row10 col1\" >13147</td>\n",
       "                        <td id=\"T_03b5ad64_74fa_11ea_8c5e_701ce71031efrow10_col2\" class=\"data row10 col2\" >12011</td>\n",
       "                        <td id=\"T_03b5ad64_74fa_11ea_8c5e_701ce71031efrow10_col3\" class=\"data row10 col3\" >12656</td>\n",
       "                        <td id=\"T_03b5ad64_74fa_11ea_8c5e_701ce71031efrow10_col4\" class=\"data row10 col4\" >25625</td>\n",
       "                        <td id=\"T_03b5ad64_74fa_11ea_8c5e_701ce71031efrow10_col5\" class=\"data row10 col5\" >34</td>\n",
       "                        <td id=\"T_03b5ad64_74fa_11ea_8c5e_701ce71031efrow10_col6\" class=\"data row10 col6\" >1.00%</td>\n",
       "            </tr>\n",
       "            <tr>\n",
       "                                <td id=\"T_03b5ad64_74fa_11ea_8c5e_701ce71031efrow11_col0\" class=\"data row11 col0\" >realestate</td>\n",
       "                        <td id=\"T_03b5ad64_74fa_11ea_8c5e_701ce71031efrow11_col1\" class=\"data row11 col1\" >9028</td>\n",
       "                        <td id=\"T_03b5ad64_74fa_11ea_8c5e_701ce71031efrow11_col2\" class=\"data row11 col2\" >7000</td>\n",
       "                        <td id=\"T_03b5ad64_74fa_11ea_8c5e_701ce71031efrow11_col3\" class=\"data row11 col3\" >7650</td>\n",
       "                        <td id=\"T_03b5ad64_74fa_11ea_8c5e_701ce71031efrow11_col4\" class=\"data row11 col4\" >25000</td>\n",
       "                        <td id=\"T_03b5ad64_74fa_11ea_8c5e_701ce71031efrow11_col5\" class=\"data row11 col5\" >18</td>\n",
       "                        <td id=\"T_03b5ad64_74fa_11ea_8c5e_701ce71031efrow11_col6\" class=\"data row11 col6\" >0.53%</td>\n",
       "            </tr>\n",
       "    </tbody></table>"
      ],
      "text/plain": [
       "<pandas.io.formats.style.Styler at 0x15717f99488>"
      ]
     },
     "execution_count": 50,
     "metadata": {},
     "output_type": "execute_result"
    }
   ],
   "source": [
    "data_industry=get_sub_stats_by_col(data,'industry')\n",
    "apply_style(data_industry)"
   ]
  },
  {
   "cell_type": "code",
   "execution_count": null,
   "metadata": {},
   "outputs": [],
   "source": []
  },
  {
   "cell_type": "code",
   "execution_count": null,
   "metadata": {},
   "outputs": [],
   "source": []
  },
  {
   "cell_type": "code",
   "execution_count": null,
   "metadata": {},
   "outputs": [],
   "source": []
  }
 ],
 "metadata": {
  "kernelspec": {
   "display_name": "Python 3",
   "language": "python",
   "name": "python3"
  },
  "language_info": {
   "codemirror_mode": {
    "name": "ipython",
    "version": 3
   },
   "file_extension": ".py",
   "mimetype": "text/x-python",
   "name": "python",
   "nbconvert_exporter": "python",
   "pygments_lexer": "ipython3",
   "version": "3.7.4"
  }
 },
 "nbformat": 4,
 "nbformat_minor": 4
}
