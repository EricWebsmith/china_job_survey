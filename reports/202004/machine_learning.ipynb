{
 "cells": [
  {
   "cell_type": "code",
   "execution_count": 1,
   "metadata": {},
   "outputs": [],
   "source": [
    "from config import *"
   ]
  },
  {
   "cell_type": "code",
   "execution_count": 2,
   "metadata": {},
   "outputs": [
    {
     "name": "stdout",
     "output_type": "stream",
     "text": [
      "2020年4月\n"
     ]
    }
   ],
   "source": [
    "print(f'{year}年{month}月')"
   ]
  },
  {
   "cell_type": "markdown",
   "metadata": {},
   "source": []
  },
  {
   "cell_type": "code",
   "execution_count": 3,
   "metadata": {},
   "outputs": [],
   "source": [
    "import pandas as pd\n",
    "import sys\n",
    "sys.path.append('..')\n",
    "sys.path.append('../py')\n",
    "sys.path.append('../../py')\n",
    "import db\n",
    "import inspect\n",
    "import matplotlib.pyplot as plt\n",
    "plt.rcParams['font.sans-serif']=['SimHei'] #用来正常显示中文标签\n",
    "plt.rcParams['axes.unicode_minus']=False #用来正常显示负号\n",
    "import seaborn as sns\n",
    "import scipy.stats as stats\n",
    "import numpy as np\n",
    "import weighted\n",
    "%matplotlib inline"
   ]
  },
  {
   "cell_type": "code",
   "execution_count": 4,
   "metadata": {},
   "outputs": [],
   "source": [
    "conn=db.get_conn()\n",
    "data=pd.read_sql(sql=f\"select * from _{year}{month:02} where monthly_salary>0 and career='机器学习'  and monthly_salary<80000\", con=conn)\n",
    "conn.close()"
   ]
  },
  {
   "cell_type": "code",
   "execution_count": null,
   "metadata": {},
   "outputs": [],
   "source": []
  },
  {
   "cell_type": "code",
   "execution_count": 5,
   "metadata": {},
   "outputs": [],
   "source": [
    "#del data['publish_date']\n",
    "#del data['published_on_weekend']\n",
    "#del data['title']\n",
    "#del data['title']\n",
    "#del data['company_title']\n",
    "#del data['company_description']\n",
    "#del data['job_description']\n",
    "#del data['job_id']"
   ]
  },
  {
   "cell_type": "code",
   "execution_count": 6,
   "metadata": {},
   "outputs": [
    {
     "data": {
      "text/html": [
       "<div>\n",
       "<style scoped>\n",
       "    .dataframe tbody tr th:only-of-type {\n",
       "        vertical-align: middle;\n",
       "    }\n",
       "\n",
       "    .dataframe tbody tr th {\n",
       "        vertical-align: top;\n",
       "    }\n",
       "\n",
       "    .dataframe thead th {\n",
       "        text-align: right;\n",
       "    }\n",
       "</style>\n",
       "<table border=\"1\" class=\"dataframe\">\n",
       "  <thead>\n",
       "    <tr style=\"text-align: right;\">\n",
       "      <th></th>\n",
       "      <th>job_id</th>\n",
       "      <th>monthly_salary</th>\n",
       "      <th>headcount</th>\n",
       "      <th>title</th>\n",
       "      <th>zhinengleibie</th>\n",
       "      <th>career</th>\n",
       "      <th>real_province</th>\n",
       "      <th>province</th>\n",
       "      <th>city</th>\n",
       "      <th>company_id</th>\n",
       "      <th>...</th>\n",
       "      <th>bd_hbase</th>\n",
       "      <th>bd_storm</th>\n",
       "      <th>bd_pig</th>\n",
       "      <th>bd_mahout</th>\n",
       "      <th>bd_impala</th>\n",
       "      <th>bd_yarn</th>\n",
       "      <th>bd_alluxio</th>\n",
       "      <th>bd_flink</th>\n",
       "      <th>bd_presto</th>\n",
       "      <th>bd_heron</th>\n",
       "    </tr>\n",
       "  </thead>\n",
       "  <tbody>\n",
       "    <tr>\n",
       "      <th>20</th>\n",
       "      <td>110043859</td>\n",
       "      <td>12500</td>\n",
       "      <td>31</td>\n",
       "      <td>机器学习开发工程师</td>\n",
       "      <td>高级软件工程师</td>\n",
       "      <td>机器学习</td>\n",
       "      <td>None</td>\n",
       "      <td>四川</td>\n",
       "      <td>成都</td>\n",
       "      <td>co4977334</td>\n",
       "      <td>...</td>\n",
       "      <td>False</td>\n",
       "      <td>False</td>\n",
       "      <td>False</td>\n",
       "      <td>False</td>\n",
       "      <td>False</td>\n",
       "      <td>False</td>\n",
       "      <td>False</td>\n",
       "      <td>False</td>\n",
       "      <td>False</td>\n",
       "      <td>False</td>\n",
       "    </tr>\n",
       "  </tbody>\n",
       "</table>\n",
       "<p>1 rows × 114 columns</p>\n",
       "</div>"
      ],
      "text/plain": [
       "       job_id  monthly_salary  headcount      title zhinengleibie career  \\\n",
       "20  110043859           12500         31  机器学习开发工程师       高级软件工程师   机器学习   \n",
       "\n",
       "   real_province province city company_id  ... bd_hbase bd_storm  bd_pig  \\\n",
       "20          None       四川   成都  co4977334  ...    False    False   False   \n",
       "\n",
       "   bd_mahout  bd_impala  bd_yarn bd_alluxio bd_flink bd_presto bd_heron  \n",
       "20     False      False    False      False    False     False    False  \n",
       "\n",
       "[1 rows x 114 columns]"
      ]
     },
     "execution_count": 6,
     "metadata": {},
     "output_type": "execute_result"
    }
   ],
   "source": [
    "data=data.sort_values(by='headcount', ascending=False)\n",
    "data.head(1)"
   ]
  },
  {
   "cell_type": "code",
   "execution_count": 7,
   "metadata": {},
   "outputs": [],
   "source": [
    "def pd_weighted_mean(group, avg_name, weight_name):\n",
    "    \"\"\" http://stackoverflow.com/questions/10951341/pandas-dataframe-aggregate-function-using-multiple-columns\n",
    "    In rare instance, we may not have weights, so just return the mean. Customize this if your business case\n",
    "    should return otherwise.\n",
    "    \"\"\"\n",
    "    d = group[avg_name]\n",
    "    w = group[weight_name]\n",
    "    try:\n",
    "        return (d * w).sum() / w.sum()\n",
    "    except ZeroDivisionError:\n",
    "        return d.mean()\n"
   ]
  },
  {
   "cell_type": "markdown",
   "metadata": {},
   "source": [
    "# Unilateral Stats 总体统计"
   ]
  },
  {
   "cell_type": "markdown",
   "metadata": {},
   "source": [
    "有数据可知，程序员向一线城市集中的趋势非常明显。\n",
    "\n",
    "According to the statistics, significant amount of developers are in the first tier cities."
   ]
  },
  {
   "cell_type": "code",
   "execution_count": 8,
   "metadata": {},
   "outputs": [
    {
     "data": {
      "text/plain": [
       "(368, 114)"
      ]
     },
     "execution_count": 8,
     "metadata": {},
     "output_type": "execute_result"
    }
   ],
   "source": [
    "data.shape"
   ]
  },
  {
   "cell_type": "code",
   "execution_count": 9,
   "metadata": {},
   "outputs": [
    {
     "data": {
      "text/plain": [
       "1165"
      ]
     },
     "execution_count": 9,
     "metadata": {},
     "output_type": "execute_result"
    }
   ],
   "source": [
    "data.headcount.sum()"
   ]
  },
  {
   "cell_type": "code",
   "execution_count": 10,
   "metadata": {},
   "outputs": [
    {
     "data": {
      "text/plain": [
       "array([ 5250., 12500., 17500., 27500., 58333.])"
      ]
     },
     "execution_count": 10,
     "metadata": {},
     "output_type": "execute_result"
    }
   ],
   "source": [
    "salary_mean=weighted.weighted_mean(data.monthly_salary.values, data.headcount.values)\n",
    "q=weighted.weighted_quantile(data.monthly_salary.values,[0.025,0.25,0.5,0.75,0.975], data.headcount.values)\n",
    "q"
   ]
  },
  {
   "cell_type": "code",
   "execution_count": 11,
   "metadata": {},
   "outputs": [
    {
     "name": "stdout",
     "output_type": "stream",
     "text": [
      "2020年4月中国机器学习工程师的平均工资为21344元，工资中位数为17500元，其中95%的人的工资位于5250到58333元之间。\n"
     ]
    }
   ],
   "source": [
    "print(f'{year}年{month}月中国机器学习工程师的平均工资为{salary_mean:.0f}元，工资中位数为{q[2]:.0f}元，其中95%的人的工资位于{q[0]:.0f}到{q[4]:.0f}元之间。')"
   ]
  },
  {
   "cell_type": "code",
   "execution_count": 12,
   "metadata": {},
   "outputs": [
    {
     "name": "stdout",
     "output_type": "stream",
     "text": [
      "In 2020, Developers in China earn 21344 Yuan as average, the median is 17500 Yuan, 95% of them earn between 5250 and 58333 Yuan.\n"
     ]
    }
   ],
   "source": [
    "print(f'In {year}, Developers in China earn {salary_mean:.0f} Yuan as average, '\n",
    "      f'the median is {q[2]:.0f} Yuan, 95% of them earn between {q[0]:.0f} and {q[4]:.0f} Yuan.')"
   ]
  },
  {
   "cell_type": "code",
   "execution_count": 13,
   "metadata": {},
   "outputs": [
    {
     "data": {
      "image/png": "[encoded data removed]",
      "text/plain": [
       "<Figure size 432x288 with 1 Axes>"
      ]
     },
     "metadata": {
      "needs_background": "light"
     },
     "output_type": "display_data"
    }
   ],
   "source": [
    "data.monthly_salary.hist()\n",
    "plt.show()"
   ]
  },
  {
   "cell_type": "markdown",
   "metadata": {},
   "source": [
    "It does not look like normal distribution."
   ]
  },
  {
   "cell_type": "code",
   "execution_count": 14,
   "metadata": {},
   "outputs": [],
   "source": [
    "from scipy import stats"
   ]
  },
  {
   "cell_type": "markdown",
   "metadata": {},
   "source": [
    "## Role 角色"
   ]
  },
  {
   "cell_type": "code",
   "execution_count": 15,
   "metadata": {},
   "outputs": [],
   "source": [
    "#Common Functions\n",
    "def get_sub_stats_by_col(data, col):\n",
    "    categories=data[col].unique()\n",
    "    salary_mean=[]\n",
    "    salary_95_min=[]\n",
    "    salary_95_max=[]\n",
    "    salary_median=[]\n",
    "    \n",
    "\n",
    "    count=[]\n",
    "    \n",
    "    categorys_out=[]\n",
    "    for category in categories:\n",
    "        #print(feature)\n",
    "        idata=data[data[col]==category]\n",
    "        headcount=idata.headcount.sum()\n",
    "        values = idata.monthly_salary.values\n",
    "        weights = idata.headcount.values\n",
    "        #print(str(headcount))\n",
    "        if headcount==0:\n",
    "            continue\n",
    "        \n",
    "        salary_mean.append(np.average(values, weights=weights))\n",
    "        \n",
    "\n",
    "        q = weighted.weighted_quantile(values,[0.025,0.5,0.975],weights)\n",
    "        salary_95_min.append(q[0])\n",
    "        salary_median.append(q[1])\n",
    "        salary_95_max.append(q[2])\n",
    "        count.append(idata.headcount.sum())\n",
    "        categorys_out.append(category)\n",
    "    sub_data=pd.DataFrame()\n",
    "    sub_data[col]=[c for c in categorys_out]\n",
    "    sub_data['salary_mean']=salary_mean\n",
    "    sub_data['salary_95_min']=salary_95_min\n",
    "    sub_data['salary_median']=salary_median\n",
    "    sub_data['salary_95_max']=salary_95_max\n",
    "    sub_data['head_count']=count\n",
    "    sub_data['percentage']=count/np.sum(count)\n",
    "    sub_data=sub_data.sort_values(by='salary_mean', ascending=False)\n",
    "\n",
    "    return sub_data\n",
    "\n",
    "def get_sub_stats_by_prefix(data, prefix):\n",
    "    \n",
    "    features = [feature for feature in data.columns if feature.startswith(prefix)]\n",
    "    salary_mean=[]\n",
    "    salary_median=[]\n",
    "    salary_95_min=[]\n",
    "    salary_95_max=[]\n",
    "    count=[]\n",
    "    \n",
    "    features_out=[]\n",
    "    for feature in features:\n",
    "        #print(feature)\n",
    "        idata=data[data[feature]==1]\n",
    "        headcount=idata.headcount.sum()\n",
    "        values = idata.monthly_salary.values\n",
    "        weights = idata.headcount.values\n",
    "        #print(str(headcount))\n",
    "        if headcount==0:\n",
    "            continue\n",
    "        \n",
    "        salary_mean.append(weighted.weighted_mean(values, weights))\n",
    "        q = weighted.weighted_quantile(values,[0.025,0.5,0.975],weights)\n",
    "        salary_median.append(q[1])\n",
    "        salary_95_min.append(q[0])\n",
    "        salary_95_max.append(q[2])\n",
    "        count.append(idata.headcount.sum())\n",
    "        features_out.append(feature)\n",
    "    sub_data=pd.DataFrame()\n",
    "    sub_data['rank']=range(0,len(features_out))\n",
    "    sub_data[prefix]=[f.replace(prefix,'') for f in features_out]\n",
    "    sub_data['salary_mean']=salary_mean\n",
    "    sub_data['salary_median']=salary_median\n",
    "    sub_data['salary_95_min']=salary_95_min\n",
    "    sub_data['salary_95_max']=salary_95_max\n",
    "    sub_data['head_count']=count\n",
    "    sub_data['percentage']=count/np.sum(count)\n",
    "    sub_data=sub_data.sort_values(by='salary_mean', ascending=False)\n",
    "    sub_data['rank']=range(1,len(features_out)+1)\n",
    "    #sub_data=sub_data.reset_index()\n",
    "    return sub_data\n",
    "\n",
    "def apply_style(sub_data):\n",
    "    return sub_data.style.hide_index().format(\n",
    "    {\"salary_mean\":\"{:.0f}\",\"salary_median\":\"{:.0f}\",\"salary_95_min\":\"{:.0f}\",\"salary_95_max\":\"{:.0f}\",\"percentage\":\"{:.2%}\"})"
   ]
  },
  {
   "cell_type": "code",
   "execution_count": 16,
   "metadata": {},
   "outputs": [
    {
     "data": {
      "text/html": [
       "<style  type=\"text/css\" >\n",
       "</style><table id=\"T_0ce2c950_7802_11ea_b6e5_701ce71031ef\" ><thead>    <tr>        <th class=\"blank level0\" ></th>        <th class=\"col_heading level0 col0\" >career</th>        <th class=\"col_heading level0 col1\" >salary_mean</th>        <th class=\"col_heading level0 col2\" >salary_95_min</th>        <th class=\"col_heading level0 col3\" >salary_median</th>        <th class=\"col_heading level0 col4\" >salary_95_max</th>        <th class=\"col_heading level0 col5\" >head_count</th>        <th class=\"col_heading level0 col6\" >percentage</th>    </tr></thead><tbody>\n",
       "                <tr>\n",
       "                        <th id=\"T_0ce2c950_7802_11ea_b6e5_701ce71031eflevel0_row0\" class=\"row_heading level0 row0\" >0</th>\n",
       "                        <td id=\"T_0ce2c950_7802_11ea_b6e5_701ce71031efrow0_col0\" class=\"data row0 col0\" >机器学习</td>\n",
       "                        <td id=\"T_0ce2c950_7802_11ea_b6e5_701ce71031efrow0_col1\" class=\"data row0 col1\" >21344</td>\n",
       "                        <td id=\"T_0ce2c950_7802_11ea_b6e5_701ce71031efrow0_col2\" class=\"data row0 col2\" >5250.000000</td>\n",
       "                        <td id=\"T_0ce2c950_7802_11ea_b6e5_701ce71031efrow0_col3\" class=\"data row0 col3\" >17500</td>\n",
       "                        <td id=\"T_0ce2c950_7802_11ea_b6e5_701ce71031efrow0_col4\" class=\"data row0 col4\" >58333.000000</td>\n",
       "                        <td id=\"T_0ce2c950_7802_11ea_b6e5_701ce71031efrow0_col5\" class=\"data row0 col5\" >1165</td>\n",
       "                        <td id=\"T_0ce2c950_7802_11ea_b6e5_701ce71031efrow0_col6\" class=\"data row0 col6\" >100.00%</td>\n",
       "            </tr>\n",
       "    </tbody></table>"
      ],
      "text/plain": [
       "<pandas.io.formats.style.Styler at 0x1ef06b90e48>"
      ]
     },
     "execution_count": 16,
     "metadata": {},
     "output_type": "execute_result"
    }
   ],
   "source": [
    "data_career = get_sub_stats_by_col(data,'career')\n",
    "data_career.style.format({\"salary_mean\":\"{:.0f}\",\"salary_median\":\"{:.0f}\",\"percentage\":\"{:.2%}\"})"
   ]
  },
  {
   "cell_type": "code",
   "execution_count": 17,
   "metadata": {},
   "outputs": [
    {
     "data": {
      "text/plain": [
       "21344.350214592276"
      ]
     },
     "execution_count": 17,
     "metadata": {},
     "output_type": "execute_result"
    }
   ],
   "source": [
    "np.sum(data.monthly_salary * data.headcount) / data.headcount.sum()"
   ]
  },
  {
   "cell_type": "code",
   "execution_count": 18,
   "metadata": {},
   "outputs": [
    {
     "data": {
      "text/plain": [
       "1165"
      ]
     },
     "execution_count": 18,
     "metadata": {},
     "output_type": "execute_result"
    }
   ],
   "source": [
    "data.headcount.sum()"
   ]
  },
  {
   "cell_type": "code",
   "execution_count": 19,
   "metadata": {},
   "outputs": [
    {
     "data": {
      "text/plain": [
       "count    368.000000\n",
       "mean       3.165761\n",
       "std        2.888900\n",
       "min        1.000000\n",
       "25%        1.000000\n",
       "50%        2.000000\n",
       "75%        5.000000\n",
       "max       31.000000\n",
       "Name: headcount, dtype: float64"
      ]
     },
     "execution_count": 19,
     "metadata": {},
     "output_type": "execute_result"
    }
   ],
   "source": [
    "data.headcount.describe()"
   ]
  },
  {
   "cell_type": "code",
   "execution_count": 20,
   "metadata": {},
   "outputs": [],
   "source": [
    "pd.options.display.max_columns=100\n"
   ]
  },
  {
   "cell_type": "markdown",
   "metadata": {},
   "source": []
  },
  {
   "cell_type": "code",
   "execution_count": 21,
   "metadata": {},
   "outputs": [
    {
     "data": {
      "text/plain": [
       "1165"
      ]
     },
     "execution_count": 21,
     "metadata": {},
     "output_type": "execute_result"
    }
   ],
   "source": [
    "data.headcount.sum()"
   ]
  },
  {
   "cell_type": "markdown",
   "metadata": {},
   "source": [
    "# 城市"
   ]
  },
  {
   "cell_type": "code",
   "execution_count": 22,
   "metadata": {},
   "outputs": [
    {
     "data": {
      "text/html": [
       "<style  type=\"text/css\" >\n",
       "</style><table id=\"T_0cf0abf6_7802_11ea_8e71_701ce71031ef\" ><thead>    <tr>        <th class=\"col_heading level0 col0\" >city</th>        <th class=\"col_heading level0 col1\" >salary_mean</th>        <th class=\"col_heading level0 col2\" >salary_95_min</th>        <th class=\"col_heading level0 col3\" >salary_median</th>        <th class=\"col_heading level0 col4\" >salary_95_max</th>        <th class=\"col_heading level0 col5\" >head_count</th>        <th class=\"col_heading level0 col6\" >percentage</th>    </tr></thead><tbody>\n",
       "                <tr>\n",
       "                                <td id=\"T_0cf0abf6_7802_11ea_8e71_701ce71031efrow0_col0\" class=\"data row0 col0\" >深圳</td>\n",
       "                        <td id=\"T_0cf0abf6_7802_11ea_8e71_701ce71031efrow0_col1\" class=\"data row0 col1\" >27900</td>\n",
       "                        <td id=\"T_0cf0abf6_7802_11ea_8e71_701ce71031efrow0_col2\" class=\"data row0 col2\" >5859</td>\n",
       "                        <td id=\"T_0cf0abf6_7802_11ea_8e71_701ce71031efrow0_col3\" class=\"data row0 col3\" >27500</td>\n",
       "                        <td id=\"T_0cf0abf6_7802_11ea_8e71_701ce71031efrow0_col4\" class=\"data row0 col4\" >58333</td>\n",
       "                        <td id=\"T_0cf0abf6_7802_11ea_8e71_701ce71031efrow0_col5\" class=\"data row0 col5\" >178</td>\n",
       "                        <td id=\"T_0cf0abf6_7802_11ea_8e71_701ce71031efrow0_col6\" class=\"data row0 col6\" >15.28%</td>\n",
       "            </tr>\n",
       "            <tr>\n",
       "                                <td id=\"T_0cf0abf6_7802_11ea_8e71_701ce71031efrow1_col0\" class=\"data row1 col0\" >北京</td>\n",
       "                        <td id=\"T_0cf0abf6_7802_11ea_8e71_701ce71031efrow1_col1\" class=\"data row1 col1\" >26853</td>\n",
       "                        <td id=\"T_0cf0abf6_7802_11ea_8e71_701ce71031efrow1_col2\" class=\"data row1 col2\" >5300</td>\n",
       "                        <td id=\"T_0cf0abf6_7802_11ea_8e71_701ce71031efrow1_col3\" class=\"data row1 col3\" >25000</td>\n",
       "                        <td id=\"T_0cf0abf6_7802_11ea_8e71_701ce71031efrow1_col4\" class=\"data row1 col4\" >57266</td>\n",
       "                        <td id=\"T_0cf0abf6_7802_11ea_8e71_701ce71031efrow1_col5\" class=\"data row1 col5\" >204</td>\n",
       "                        <td id=\"T_0cf0abf6_7802_11ea_8e71_701ce71031efrow1_col6\" class=\"data row1 col6\" >17.51%</td>\n",
       "            </tr>\n",
       "            <tr>\n",
       "                                <td id=\"T_0cf0abf6_7802_11ea_8e71_701ce71031efrow2_col0\" class=\"data row2 col0\" >上海</td>\n",
       "                        <td id=\"T_0cf0abf6_7802_11ea_8e71_701ce71031efrow2_col1\" class=\"data row2 col1\" >22915</td>\n",
       "                        <td id=\"T_0cf0abf6_7802_11ea_8e71_701ce71031efrow2_col2\" class=\"data row2 col2\" >6195</td>\n",
       "                        <td id=\"T_0cf0abf6_7802_11ea_8e71_701ce71031efrow2_col3\" class=\"data row2 col3\" >22500</td>\n",
       "                        <td id=\"T_0cf0abf6_7802_11ea_8e71_701ce71031efrow2_col4\" class=\"data row2 col4\" >46575</td>\n",
       "                        <td id=\"T_0cf0abf6_7802_11ea_8e71_701ce71031efrow2_col5\" class=\"data row2 col5\" >282</td>\n",
       "                        <td id=\"T_0cf0abf6_7802_11ea_8e71_701ce71031efrow2_col6\" class=\"data row2 col6\" >24.21%</td>\n",
       "            </tr>\n",
       "            <tr>\n",
       "                                <td id=\"T_0cf0abf6_7802_11ea_8e71_701ce71031efrow3_col0\" class=\"data row3 col0\" >广州</td>\n",
       "                        <td id=\"T_0cf0abf6_7802_11ea_8e71_701ce71031efrow3_col1\" class=\"data row3 col1\" >17043</td>\n",
       "                        <td id=\"T_0cf0abf6_7802_11ea_8e71_701ce71031efrow3_col2\" class=\"data row3 col2\" >5073</td>\n",
       "                        <td id=\"T_0cf0abf6_7802_11ea_8e71_701ce71031efrow3_col3\" class=\"data row3 col3\" >15000</td>\n",
       "                        <td id=\"T_0cf0abf6_7802_11ea_8e71_701ce71031efrow3_col4\" class=\"data row3 col4\" >38475</td>\n",
       "                        <td id=\"T_0cf0abf6_7802_11ea_8e71_701ce71031efrow3_col5\" class=\"data row3 col5\" >161</td>\n",
       "                        <td id=\"T_0cf0abf6_7802_11ea_8e71_701ce71031efrow3_col6\" class=\"data row3 col6\" >13.82%</td>\n",
       "            </tr>\n",
       "    </tbody></table>"
      ],
      "text/plain": [
       "<pandas.io.formats.style.Styler at 0x1ef06b8e088>"
      ]
     },
     "execution_count": 22,
     "metadata": {},
     "output_type": "execute_result"
    }
   ],
   "source": [
    "data_pl=get_sub_stats_by_col(data,'city')\n",
    "data_pl=data_pl[data_pl['head_count']>100]\n",
    "apply_style(data_pl)"
   ]
  },
  {
   "cell_type": "code",
   "execution_count": 23,
   "metadata": {},
   "outputs": [
    {
     "data": {
      "text/plain": [
       "0.29184549356223166"
      ]
     },
     "execution_count": 23,
     "metadata": {},
     "output_type": "execute_result"
    }
   ],
   "source": [
    "other=1-data_pl['percentage'].sum()\n",
    "other"
   ]
  },
  {
   "cell_type": "code",
   "execution_count": 24,
   "metadata": {},
   "outputs": [],
   "source": [
    "head_counts=list(data_pl['percentage'].values)\n",
    "head_counts.append(other)\n",
    "head_counts\n",
    "\n",
    "labels=list(data_pl['city'].values)\n",
    "labels.append('其他')"
   ]
  },
  {
   "cell_type": "code",
   "execution_count": 25,
   "metadata": {},
   "outputs": [
    {
     "data": {
      "image/png": "[encoded data removed]",
      "text/plain": [
       "<Figure size 720x576 with 1 Axes>"
      ]
     },
     "metadata": {},
     "output_type": "display_data"
    }
   ],
   "source": [
    "\n",
    "plt.figure(figsize=(10,8))\n",
    "plt.pie(head_counts, labels=labels, autopct='%1.1f%%')\n",
    "plt.title(f'算法工程师去哪里')\n",
    "plt.show()"
   ]
  },
  {
   "cell_type": "markdown",
   "metadata": {},
   "source": [
    "# 编程语言"
   ]
  },
  {
   "cell_type": "code",
   "execution_count": 26,
   "metadata": {
    "scrolled": true
   },
   "outputs": [
    {
     "data": {
      "text/html": [
       "<style  type=\"text/css\" >\n",
       "</style><table id=\"T_0d03bec6_7802_11ea_a658_701ce71031ef\" ><thead>    <tr>        <th class=\"col_heading level0 col0\" >rank</th>        <th class=\"col_heading level0 col1\" >pl_</th>        <th class=\"col_heading level0 col2\" >salary_mean</th>        <th class=\"col_heading level0 col3\" >salary_median</th>        <th class=\"col_heading level0 col4\" >salary_95_min</th>        <th class=\"col_heading level0 col5\" >salary_95_max</th>        <th class=\"col_heading level0 col6\" >head_count</th>        <th class=\"col_heading level0 col7\" >percentage</th>    </tr></thead><tbody>\n",
       "                <tr>\n",
       "                                <td id=\"T_0d03bec6_7802_11ea_a658_701ce71031efrow0_col0\" class=\"data row0 col0\" >1</td>\n",
       "                        <td id=\"T_0d03bec6_7802_11ea_a658_701ce71031efrow0_col1\" class=\"data row0 col1\" >r</td>\n",
       "                        <td id=\"T_0d03bec6_7802_11ea_a658_701ce71031efrow0_col2\" class=\"data row0 col2\" >30711</td>\n",
       "                        <td id=\"T_0d03bec6_7802_11ea_a658_701ce71031efrow0_col3\" class=\"data row0 col3\" >30555</td>\n",
       "                        <td id=\"T_0d03bec6_7802_11ea_a658_701ce71031efrow0_col4\" class=\"data row0 col4\" >15000</td>\n",
       "                        <td id=\"T_0d03bec6_7802_11ea_a658_701ce71031efrow0_col5\" class=\"data row0 col5\" >58333</td>\n",
       "                        <td id=\"T_0d03bec6_7802_11ea_a658_701ce71031efrow0_col6\" class=\"data row0 col6\" >112</td>\n",
       "                        <td id=\"T_0d03bec6_7802_11ea_a658_701ce71031efrow0_col7\" class=\"data row0 col7\" >5.77%</td>\n",
       "            </tr>\n",
       "            <tr>\n",
       "                                <td id=\"T_0d03bec6_7802_11ea_a658_701ce71031efrow1_col0\" class=\"data row1 col0\" >2</td>\n",
       "                        <td id=\"T_0d03bec6_7802_11ea_a658_701ce71031efrow1_col1\" class=\"data row1 col1\" >matlab</td>\n",
       "                        <td id=\"T_0d03bec6_7802_11ea_a658_701ce71031efrow1_col2\" class=\"data row1 col2\" >28497</td>\n",
       "                        <td id=\"T_0d03bec6_7802_11ea_a658_701ce71031efrow1_col3\" class=\"data row1 col3\" >25000</td>\n",
       "                        <td id=\"T_0d03bec6_7802_11ea_a658_701ce71031efrow1_col4\" class=\"data row1 col4\" >7000</td>\n",
       "                        <td id=\"T_0d03bec6_7802_11ea_a658_701ce71031efrow1_col5\" class=\"data row1 col5\" >61986</td>\n",
       "                        <td id=\"T_0d03bec6_7802_11ea_a658_701ce71031efrow1_col6\" class=\"data row1 col6\" >137</td>\n",
       "                        <td id=\"T_0d03bec6_7802_11ea_a658_701ce71031efrow1_col7\" class=\"data row1 col7\" >7.06%</td>\n",
       "            </tr>\n",
       "            <tr>\n",
       "                                <td id=\"T_0d03bec6_7802_11ea_a658_701ce71031efrow2_col0\" class=\"data row2 col0\" >5</td>\n",
       "                        <td id=\"T_0d03bec6_7802_11ea_a658_701ce71031efrow2_col1\" class=\"data row2 col1\" >go</td>\n",
       "                        <td id=\"T_0d03bec6_7802_11ea_a658_701ce71031efrow2_col2\" class=\"data row2 col2\" >24122</td>\n",
       "                        <td id=\"T_0d03bec6_7802_11ea_a658_701ce71031efrow2_col3\" class=\"data row2 col3\" >21706</td>\n",
       "                        <td id=\"T_0d03bec6_7802_11ea_a658_701ce71031efrow2_col4\" class=\"data row2 col4\" >5547</td>\n",
       "                        <td id=\"T_0d03bec6_7802_11ea_a658_701ce71031efrow2_col5\" class=\"data row2 col5\" >39854</td>\n",
       "                        <td id=\"T_0d03bec6_7802_11ea_a658_701ce71031efrow2_col6\" class=\"data row2 col6\" >67</td>\n",
       "                        <td id=\"T_0d03bec6_7802_11ea_a658_701ce71031efrow2_col7\" class=\"data row2 col7\" >3.45%</td>\n",
       "            </tr>\n",
       "            <tr>\n",
       "                                <td id=\"T_0d03bec6_7802_11ea_a658_701ce71031efrow3_col0\" class=\"data row3 col0\" >6</td>\n",
       "                        <td id=\"T_0d03bec6_7802_11ea_a658_701ce71031efrow3_col1\" class=\"data row3 col1\" >java</td>\n",
       "                        <td id=\"T_0d03bec6_7802_11ea_a658_701ce71031efrow3_col2\" class=\"data row3 col2\" >23546</td>\n",
       "                        <td id=\"T_0d03bec6_7802_11ea_a658_701ce71031efrow3_col3\" class=\"data row3 col3\" >20682</td>\n",
       "                        <td id=\"T_0d03bec6_7802_11ea_a658_701ce71031efrow3_col4\" class=\"data row3 col4\" >9000</td>\n",
       "                        <td id=\"T_0d03bec6_7802_11ea_a658_701ce71031efrow3_col5\" class=\"data row3 col5\" >58333</td>\n",
       "                        <td id=\"T_0d03bec6_7802_11ea_a658_701ce71031efrow3_col6\" class=\"data row3 col6\" >280</td>\n",
       "                        <td id=\"T_0d03bec6_7802_11ea_a658_701ce71031efrow3_col7\" class=\"data row3 col7\" >14.43%</td>\n",
       "            </tr>\n",
       "            <tr>\n",
       "                                <td id=\"T_0d03bec6_7802_11ea_a658_701ce71031efrow4_col0\" class=\"data row4 col0\" >7</td>\n",
       "                        <td id=\"T_0d03bec6_7802_11ea_a658_701ce71031efrow4_col1\" class=\"data row4 col1\" >scala</td>\n",
       "                        <td id=\"T_0d03bec6_7802_11ea_a658_701ce71031efrow4_col2\" class=\"data row4 col2\" >23392</td>\n",
       "                        <td id=\"T_0d03bec6_7802_11ea_a658_701ce71031efrow4_col3\" class=\"data row4 col3\" >22167</td>\n",
       "                        <td id=\"T_0d03bec6_7802_11ea_a658_701ce71031efrow4_col4\" class=\"data row4 col4\" >17500</td>\n",
       "                        <td id=\"T_0d03bec6_7802_11ea_a658_701ce71031efrow4_col5\" class=\"data row4 col5\" >31500</td>\n",
       "                        <td id=\"T_0d03bec6_7802_11ea_a658_701ce71031efrow4_col6\" class=\"data row4 col6\" >54</td>\n",
       "                        <td id=\"T_0d03bec6_7802_11ea_a658_701ce71031efrow4_col7\" class=\"data row4 col7\" >2.78%</td>\n",
       "            </tr>\n",
       "            <tr>\n",
       "                                <td id=\"T_0d03bec6_7802_11ea_a658_701ce71031efrow5_col0\" class=\"data row5 col0\" >8</td>\n",
       "                        <td id=\"T_0d03bec6_7802_11ea_a658_701ce71031efrow5_col1\" class=\"data row5 col1\" >cpp</td>\n",
       "                        <td id=\"T_0d03bec6_7802_11ea_a658_701ce71031efrow5_col2\" class=\"data row5 col2\" >22790</td>\n",
       "                        <td id=\"T_0d03bec6_7802_11ea_a658_701ce71031efrow5_col3\" class=\"data row5 col3\" >20000</td>\n",
       "                        <td id=\"T_0d03bec6_7802_11ea_a658_701ce71031efrow5_col4\" class=\"data row5 col4\" >5250</td>\n",
       "                        <td id=\"T_0d03bec6_7802_11ea_a658_701ce71031efrow5_col5\" class=\"data row5 col5\" >58333</td>\n",
       "                        <td id=\"T_0d03bec6_7802_11ea_a658_701ce71031efrow5_col6\" class=\"data row5 col6\" >529</td>\n",
       "                        <td id=\"T_0d03bec6_7802_11ea_a658_701ce71031efrow5_col7\" class=\"data row5 col7\" >27.27%</td>\n",
       "            </tr>\n",
       "            <tr>\n",
       "                                <td id=\"T_0d03bec6_7802_11ea_a658_701ce71031efrow6_col0\" class=\"data row6 col0\" >10</td>\n",
       "                        <td id=\"T_0d03bec6_7802_11ea_a658_701ce71031efrow6_col1\" class=\"data row6 col1\" >python</td>\n",
       "                        <td id=\"T_0d03bec6_7802_11ea_a658_701ce71031efrow6_col2\" class=\"data row6 col2\" >22197</td>\n",
       "                        <td id=\"T_0d03bec6_7802_11ea_a658_701ce71031efrow6_col3\" class=\"data row6 col3\" >20000</td>\n",
       "                        <td id=\"T_0d03bec6_7802_11ea_a658_701ce71031efrow6_col4\" class=\"data row6 col4\" >5250</td>\n",
       "                        <td id=\"T_0d03bec6_7802_11ea_a658_701ce71031efrow6_col5\" class=\"data row6 col5\" >58333</td>\n",
       "                        <td id=\"T_0d03bec6_7802_11ea_a658_701ce71031efrow6_col6\" class=\"data row6 col6\" >683</td>\n",
       "                        <td id=\"T_0d03bec6_7802_11ea_a658_701ce71031efrow6_col7\" class=\"data row6 col7\" >35.21%</td>\n",
       "            </tr>\n",
       "    </tbody></table>"
      ],
      "text/plain": [
       "<pandas.io.formats.style.Styler at 0x1ef06d00cc8>"
      ]
     },
     "execution_count": 26,
     "metadata": {},
     "output_type": "execute_result"
    }
   ],
   "source": [
    "data_pl=get_sub_stats_by_prefix(data,'pl_')\n",
    "data_pl=data_pl[data_pl['head_count']>50]\n",
    "apply_style(data_pl)"
   ]
  },
  {
   "cell_type": "code",
   "execution_count": 27,
   "metadata": {},
   "outputs": [
    {
     "data": {
      "image/png": "[encoded data removed]",
      "text/plain": [
       "<Figure size 720x576 with 1 Axes>"
      ]
     },
     "metadata": {},
     "output_type": "display_data"
    }
   ],
   "source": [
    "head_counts=list(data_pl['percentage'].values)\n",
    "head_counts.append(other)\n",
    "head_counts\n",
    "\n",
    "labels=list(data_pl['pl_'].values)\n",
    "labels.append('其他')\n",
    "\n",
    "plt.figure(figsize=(10,8))\n",
    "plt.pie(head_counts, labels=labels, autopct='%1.0f%%')\n",
    "plt.title(f'算法工程师的编程语言')\n",
    "plt.show()"
   ]
  },
  {
   "cell_type": "markdown",
   "metadata": {},
   "source": [
    "## 大数据工具 "
   ]
  },
  {
   "cell_type": "code",
   "execution_count": 28,
   "metadata": {},
   "outputs": [
    {
     "data": {
      "text/html": [
       "<style  type=\"text/css\" >\n",
       "</style><table id=\"T_0d1746dc_7802_11ea_8484_701ce71031ef\" ><thead>    <tr>        <th class=\"col_heading level0 col0\" >rank</th>        <th class=\"col_heading level0 col1\" >bd_</th>        <th class=\"col_heading level0 col2\" >salary_mean</th>        <th class=\"col_heading level0 col3\" >salary_median</th>        <th class=\"col_heading level0 col4\" >salary_95_min</th>        <th class=\"col_heading level0 col5\" >salary_95_max</th>        <th class=\"col_heading level0 col6\" >head_count</th>        <th class=\"col_heading level0 col7\" >percentage</th>    </tr></thead><tbody>\n",
       "                <tr>\n",
       "                                <td id=\"T_0d1746dc_7802_11ea_8484_701ce71031efrow0_col0\" class=\"data row0 col0\" >2</td>\n",
       "                        <td id=\"T_0d1746dc_7802_11ea_8484_701ce71031efrow0_col1\" class=\"data row0 col1\" >hive</td>\n",
       "                        <td id=\"T_0d1746dc_7802_11ea_8484_701ce71031efrow0_col2\" class=\"data row0 col2\" >29815</td>\n",
       "                        <td id=\"T_0d1746dc_7802_11ea_8484_701ce71031efrow0_col3\" class=\"data row0 col3\" >30000</td>\n",
       "                        <td id=\"T_0d1746dc_7802_11ea_8484_701ce71031efrow0_col4\" class=\"data row0 col4\" >12500</td>\n",
       "                        <td id=\"T_0d1746dc_7802_11ea_8484_701ce71031efrow0_col5\" class=\"data row0 col5\" >55750</td>\n",
       "                        <td id=\"T_0d1746dc_7802_11ea_8484_701ce71031efrow0_col6\" class=\"data row0 col6\" >54</td>\n",
       "                        <td id=\"T_0d1746dc_7802_11ea_8484_701ce71031efrow0_col7\" class=\"data row0 col7\" >14.44%</td>\n",
       "            </tr>\n",
       "            <tr>\n",
       "                                <td id=\"T_0d1746dc_7802_11ea_8484_701ce71031efrow1_col0\" class=\"data row1 col0\" >3</td>\n",
       "                        <td id=\"T_0d1746dc_7802_11ea_8484_701ce71031efrow1_col1\" class=\"data row1 col1\" >flink</td>\n",
       "                        <td id=\"T_0d1746dc_7802_11ea_8484_701ce71031efrow1_col2\" class=\"data row1 col2\" >27400</td>\n",
       "                        <td id=\"T_0d1746dc_7802_11ea_8484_701ce71031efrow1_col3\" class=\"data row1 col3\" >24375</td>\n",
       "                        <td id=\"T_0d1746dc_7802_11ea_8484_701ce71031efrow1_col4\" class=\"data row1 col4\" >15000</td>\n",
       "                        <td id=\"T_0d1746dc_7802_11ea_8484_701ce71031efrow1_col5\" class=\"data row1 col5\" >40000</td>\n",
       "                        <td id=\"T_0d1746dc_7802_11ea_8484_701ce71031efrow1_col6\" class=\"data row1 col6\" >25</td>\n",
       "                        <td id=\"T_0d1746dc_7802_11ea_8484_701ce71031efrow1_col7\" class=\"data row1 col7\" >6.68%</td>\n",
       "            </tr>\n",
       "            <tr>\n",
       "                                <td id=\"T_0d1746dc_7802_11ea_8484_701ce71031efrow2_col0\" class=\"data row2 col0\" >4</td>\n",
       "                        <td id=\"T_0d1746dc_7802_11ea_8484_701ce71031efrow2_col1\" class=\"data row2 col1\" >spark</td>\n",
       "                        <td id=\"T_0d1746dc_7802_11ea_8484_701ce71031efrow2_col2\" class=\"data row2 col2\" >25555</td>\n",
       "                        <td id=\"T_0d1746dc_7802_11ea_8484_701ce71031efrow2_col3\" class=\"data row2 col3\" >24750</td>\n",
       "                        <td id=\"T_0d1746dc_7802_11ea_8484_701ce71031efrow2_col4\" class=\"data row2 col4\" >5129</td>\n",
       "                        <td id=\"T_0d1746dc_7802_11ea_8484_701ce71031efrow2_col5\" class=\"data row2 col5\" >45000</td>\n",
       "                        <td id=\"T_0d1746dc_7802_11ea_8484_701ce71031efrow2_col6\" class=\"data row2 col6\" >156</td>\n",
       "                        <td id=\"T_0d1746dc_7802_11ea_8484_701ce71031efrow2_col7\" class=\"data row2 col7\" >41.71%</td>\n",
       "            </tr>\n",
       "            <tr>\n",
       "                                <td id=\"T_0d1746dc_7802_11ea_8484_701ce71031efrow3_col0\" class=\"data row3 col0\" >5</td>\n",
       "                        <td id=\"T_0d1746dc_7802_11ea_8484_701ce71031efrow3_col1\" class=\"data row3 col1\" >storm</td>\n",
       "                        <td id=\"T_0d1746dc_7802_11ea_8484_701ce71031efrow3_col2\" class=\"data row3 col2\" >24615</td>\n",
       "                        <td id=\"T_0d1746dc_7802_11ea_8484_701ce71031efrow3_col3\" class=\"data row3 col3\" >35357</td>\n",
       "                        <td id=\"T_0d1746dc_7802_11ea_8484_701ce71031efrow3_col4\" class=\"data row3 col4\" >4500</td>\n",
       "                        <td id=\"T_0d1746dc_7802_11ea_8484_701ce71031efrow3_col5\" class=\"data row3 col5\" >40000</td>\n",
       "                        <td id=\"T_0d1746dc_7802_11ea_8484_701ce71031efrow3_col6\" class=\"data row3 col6\" >13</td>\n",
       "                        <td id=\"T_0d1746dc_7802_11ea_8484_701ce71031efrow3_col7\" class=\"data row3 col7\" >3.48%</td>\n",
       "            </tr>\n",
       "            <tr>\n",
       "                                <td id=\"T_0d1746dc_7802_11ea_8484_701ce71031efrow4_col0\" class=\"data row4 col0\" >6</td>\n",
       "                        <td id=\"T_0d1746dc_7802_11ea_8484_701ce71031efrow4_col1\" class=\"data row4 col1\" >hadoop</td>\n",
       "                        <td id=\"T_0d1746dc_7802_11ea_8484_701ce71031efrow4_col2\" class=\"data row4 col2\" >24357</td>\n",
       "                        <td id=\"T_0d1746dc_7802_11ea_8484_701ce71031efrow4_col3\" class=\"data row4 col3\" >25000</td>\n",
       "                        <td id=\"T_0d1746dc_7802_11ea_8484_701ce71031efrow4_col4\" class=\"data row4 col4\" >3652</td>\n",
       "                        <td id=\"T_0d1746dc_7802_11ea_8484_701ce71031efrow4_col5\" class=\"data row4 col5\" >39511</td>\n",
       "                        <td id=\"T_0d1746dc_7802_11ea_8484_701ce71031efrow4_col6\" class=\"data row4 col6\" >103</td>\n",
       "                        <td id=\"T_0d1746dc_7802_11ea_8484_701ce71031efrow4_col7\" class=\"data row4 col7\" >27.54%</td>\n",
       "            </tr>\n",
       "            <tr>\n",
       "                                <td id=\"T_0d1746dc_7802_11ea_8484_701ce71031efrow5_col0\" class=\"data row5 col0\" >9</td>\n",
       "                        <td id=\"T_0d1746dc_7802_11ea_8484_701ce71031efrow5_col1\" class=\"data row5 col1\" >hbase</td>\n",
       "                        <td id=\"T_0d1746dc_7802_11ea_8484_701ce71031efrow5_col2\" class=\"data row5 col2\" >19906</td>\n",
       "                        <td id=\"T_0d1746dc_7802_11ea_8484_701ce71031efrow5_col3\" class=\"data row5 col3\" >15000</td>\n",
       "                        <td id=\"T_0d1746dc_7802_11ea_8484_701ce71031efrow5_col4\" class=\"data row5 col4\" >12500</td>\n",
       "                        <td id=\"T_0d1746dc_7802_11ea_8484_701ce71031efrow5_col5\" class=\"data row5 col5\" >60000</td>\n",
       "                        <td id=\"T_0d1746dc_7802_11ea_8484_701ce71031efrow5_col6\" class=\"data row5 col6\" >16</td>\n",
       "                        <td id=\"T_0d1746dc_7802_11ea_8484_701ce71031efrow5_col7\" class=\"data row5 col7\" >4.28%</td>\n",
       "            </tr>\n",
       "    </tbody></table>"
      ],
      "text/plain": [
       "<pandas.io.formats.style.Styler at 0x1ef06eaec48>"
      ]
     },
     "execution_count": 28,
     "metadata": {},
     "output_type": "execute_result"
    }
   ],
   "source": [
    "data_pl=get_sub_stats_by_prefix(data,'bd_')\n",
    "data_pl=data_pl[data_pl['head_count']>10]\n",
    "apply_style(data_pl)"
   ]
  },
  {
   "cell_type": "code",
   "execution_count": 29,
   "metadata": {},
   "outputs": [
    {
     "data": {
      "image/png": "[encoded data removed]",
      "text/plain": [
       "<Figure size 720x576 with 1 Axes>"
      ]
     },
     "metadata": {},
     "output_type": "display_data"
    }
   ],
   "source": [
    "other=1-data_pl['percentage'].values.sum()\n",
    "head_counts=list(data_pl['percentage'].values)\n",
    "head_counts.append(other)\n",
    "head_counts\n",
    "\n",
    "labels=list(data_pl['bd_'].values)\n",
    "labels.append('其他')\n",
    "\n",
    "plt.figure(figsize=(10,8))\n",
    "plt.pie(head_counts, labels=labels, autopct='%1.0f%%')\n",
    "plt.title(f'算法工程师的大数据工具')\n",
    "plt.show()"
   ]
  },
  {
   "cell_type": "markdown",
   "metadata": {},
   "source": [
    "## 机器学习工具 "
   ]
  },
  {
   "cell_type": "code",
   "execution_count": 30,
   "metadata": {},
   "outputs": [
    {
     "data": {
      "text/html": [
       "<style  type=\"text/css\" >\n",
       "</style><table id=\"T_0d2db50c_7802_11ea_aaea_701ce71031ef\" ><thead>    <tr>        <th class=\"col_heading level0 col0\" >rank</th>        <th class=\"col_heading level0 col1\" >ml_</th>        <th class=\"col_heading level0 col2\" >salary_mean</th>        <th class=\"col_heading level0 col3\" >salary_median</th>        <th class=\"col_heading level0 col4\" >salary_95_min</th>        <th class=\"col_heading level0 col5\" >salary_95_max</th>        <th class=\"col_heading level0 col6\" >head_count</th>        <th class=\"col_heading level0 col7\" >percentage</th>    </tr></thead><tbody>\n",
       "                <tr>\n",
       "                                <td id=\"T_0d2db50c_7802_11ea_aaea_701ce71031efrow0_col0\" class=\"data row0 col0\" >1</td>\n",
       "                        <td id=\"T_0d2db50c_7802_11ea_aaea_701ce71031efrow0_col1\" class=\"data row0 col1\" >mxnet</td>\n",
       "                        <td id=\"T_0d2db50c_7802_11ea_aaea_701ce71031efrow0_col2\" class=\"data row0 col2\" >30599</td>\n",
       "                        <td id=\"T_0d2db50c_7802_11ea_aaea_701ce71031efrow0_col3\" class=\"data row0 col3\" >22273</td>\n",
       "                        <td id=\"T_0d2db50c_7802_11ea_aaea_701ce71031efrow0_col4\" class=\"data row0 col4\" >12975</td>\n",
       "                        <td id=\"T_0d2db50c_7802_11ea_aaea_701ce71031efrow0_col5\" class=\"data row0 col5\" >61688</td>\n",
       "                        <td id=\"T_0d2db50c_7802_11ea_aaea_701ce71031efrow0_col6\" class=\"data row0 col6\" >139</td>\n",
       "                        <td id=\"T_0d2db50c_7802_11ea_aaea_701ce71031efrow0_col7\" class=\"data row0 col7\" >11.95%</td>\n",
       "            </tr>\n",
       "            <tr>\n",
       "                                <td id=\"T_0d2db50c_7802_11ea_aaea_701ce71031efrow1_col0\" class=\"data row1 col0\" >3</td>\n",
       "                        <td id=\"T_0d2db50c_7802_11ea_aaea_701ce71031efrow1_col1\" class=\"data row1 col1\" >caffe</td>\n",
       "                        <td id=\"T_0d2db50c_7802_11ea_aaea_701ce71031efrow1_col2\" class=\"data row1 col2\" >26174</td>\n",
       "                        <td id=\"T_0d2db50c_7802_11ea_aaea_701ce71031efrow1_col3\" class=\"data row1 col3\" >20912</td>\n",
       "                        <td id=\"T_0d2db50c_7802_11ea_aaea_701ce71031efrow1_col4\" class=\"data row1 col4\" >11617</td>\n",
       "                        <td id=\"T_0d2db50c_7802_11ea_aaea_701ce71031efrow1_col5\" class=\"data row1 col5\" >59947</td>\n",
       "                        <td id=\"T_0d2db50c_7802_11ea_aaea_701ce71031efrow1_col6\" class=\"data row1 col6\" >227</td>\n",
       "                        <td id=\"T_0d2db50c_7802_11ea_aaea_701ce71031efrow1_col7\" class=\"data row1 col7\" >19.52%</td>\n",
       "            </tr>\n",
       "            <tr>\n",
       "                                <td id=\"T_0d2db50c_7802_11ea_aaea_701ce71031efrow2_col0\" class=\"data row2 col0\" >5</td>\n",
       "                        <td id=\"T_0d2db50c_7802_11ea_aaea_701ce71031efrow2_col1\" class=\"data row2 col1\" >tensorflow</td>\n",
       "                        <td id=\"T_0d2db50c_7802_11ea_aaea_701ce71031efrow2_col2\" class=\"data row2 col2\" >24958</td>\n",
       "                        <td id=\"T_0d2db50c_7802_11ea_aaea_701ce71031efrow2_col3\" class=\"data row2 col3\" >20833</td>\n",
       "                        <td id=\"T_0d2db50c_7802_11ea_aaea_701ce71031efrow2_col4\" class=\"data row2 col4\" >11469</td>\n",
       "                        <td id=\"T_0d2db50c_7802_11ea_aaea_701ce71031efrow2_col5\" class=\"data row2 col5\" >58560</td>\n",
       "                        <td id=\"T_0d2db50c_7802_11ea_aaea_701ce71031efrow2_col6\" class=\"data row2 col6\" >410</td>\n",
       "                        <td id=\"T_0d2db50c_7802_11ea_aaea_701ce71031efrow2_col7\" class=\"data row2 col7\" >35.25%</td>\n",
       "            </tr>\n",
       "            <tr>\n",
       "                                <td id=\"T_0d2db50c_7802_11ea_aaea_701ce71031efrow3_col0\" class=\"data row3 col0\" >6</td>\n",
       "                        <td id=\"T_0d2db50c_7802_11ea_aaea_701ce71031efrow3_col1\" class=\"data row3 col1\" >pytorch</td>\n",
       "                        <td id=\"T_0d2db50c_7802_11ea_aaea_701ce71031efrow3_col2\" class=\"data row3 col2\" >23142</td>\n",
       "                        <td id=\"T_0d2db50c_7802_11ea_aaea_701ce71031efrow3_col3\" class=\"data row3 col3\" >20000</td>\n",
       "                        <td id=\"T_0d2db50c_7802_11ea_aaea_701ce71031efrow3_col4\" class=\"data row3 col4\" >12038</td>\n",
       "                        <td id=\"T_0d2db50c_7802_11ea_aaea_701ce71031efrow3_col5\" class=\"data row3 col5\" >53725</td>\n",
       "                        <td id=\"T_0d2db50c_7802_11ea_aaea_701ce71031efrow3_col6\" class=\"data row3 col6\" >178</td>\n",
       "                        <td id=\"T_0d2db50c_7802_11ea_aaea_701ce71031efrow3_col7\" class=\"data row3 col7\" >15.31%</td>\n",
       "            </tr>\n",
       "    </tbody></table>"
      ],
      "text/plain": [
       "<pandas.io.formats.style.Styler at 0x1ef0701cd88>"
      ]
     },
     "execution_count": 30,
     "metadata": {},
     "output_type": "execute_result"
    }
   ],
   "source": [
    "data_pl=get_sub_stats_by_prefix(data,'ml_')\n",
    "data_pl=data_pl[data_pl['head_count']>100]\n",
    "apply_style(data_pl)"
   ]
  },
  {
   "cell_type": "code",
   "execution_count": 31,
   "metadata": {},
   "outputs": [
    {
     "data": {
      "text/plain": [
       "0.820292347377472"
      ]
     },
     "execution_count": 31,
     "metadata": {},
     "output_type": "execute_result"
    }
   ],
   "source": [
    "data_pl['percentage'].values.sum()"
   ]
  },
  {
   "cell_type": "code",
   "execution_count": 32,
   "metadata": {},
   "outputs": [
    {
     "data": {
      "image/png": "[encoded data removed]",
      "text/plain": [
       "<Figure size 720x576 with 1 Axes>"
      ]
     },
     "metadata": {},
     "output_type": "display_data"
    }
   ],
   "source": [
    "other=1-data_pl['percentage'].values.sum()\n",
    "head_counts=list(data_pl['percentage'].values)\n",
    "head_counts.append(other)\n",
    "head_counts\n",
    "\n",
    "labels=list(data_pl['ml_'].values)\n",
    "labels.append('其他')\n",
    "\n",
    "plt.figure(figsize=(10,8))\n",
    "plt.pie(head_counts, labels=labels, autopct='%1.0f%%')\n",
    "plt.title(f'算法工程师的机器学习库')\n",
    "plt.show()"
   ]
  },
  {
   "cell_type": "markdown",
   "metadata": {},
   "source": [
    "## 英语"
   ]
  },
  {
   "cell_type": "code",
   "execution_count": null,
   "metadata": {},
   "outputs": [],
   "source": []
  },
  {
   "cell_type": "code",
   "execution_count": 33,
   "metadata": {},
   "outputs": [],
   "source": [
    "all_=data.shape[0]\n",
    "en=data[data['english']==1].shape[0]\n",
    "other=all_-en"
   ]
  },
  {
   "cell_type": "code",
   "execution_count": 34,
   "metadata": {},
   "outputs": [
    {
     "data": {
      "image/png": "[encoded data removed]",
      "text/plain": [
       "<Figure size 720x576 with 1 Axes>"
      ]
     },
     "metadata": {},
     "output_type": "display_data"
    }
   ],
   "source": [
    "plt.figure(figsize=(10,8))\n",
    "plt.pie([en,other], labels=['要求英语','没说'])\n",
    "plt.show()"
   ]
  },
  {
   "cell_type": "markdown",
   "metadata": {},
   "source": [
    "# 教育"
   ]
  },
  {
   "cell_type": "code",
   "execution_count": 35,
   "metadata": {},
   "outputs": [],
   "source": [
    "edu_counts=data[~(data.edu=='')].groupby(by=['edu']).headcount.sum()"
   ]
  },
  {
   "cell_type": "code",
   "execution_count": 36,
   "metadata": {},
   "outputs": [
    {
     "data": {
      "text/plain": [
       "edu\n",
       "初中及以下      1\n",
       "博士        42\n",
       "大专        72\n",
       "本科       666\n",
       "硕士       309\n",
       "高中         2\n",
       "Name: headcount, dtype: int64"
      ]
     },
     "execution_count": 36,
     "metadata": {},
     "output_type": "execute_result"
    }
   ],
   "source": [
    "edu_counts"
   ]
  },
  {
   "cell_type": "code",
   "execution_count": 37,
   "metadata": {},
   "outputs": [
    {
     "data": {
      "image/png": "[encoded data removed]",
      "text/plain": [
       "<Figure size 720x576 with 1 Axes>"
      ]
     },
     "metadata": {},
     "output_type": "display_data"
    }
   ],
   "source": [
    "plt.figure(figsize=(10,8))\n",
    "plt.pie(edu_counts.values, labels=edu_counts.index, autopct='%1.1f%%')\n",
    "plt.show()"
   ]
  },
  {
   "cell_type": "code",
   "execution_count": 38,
   "metadata": {},
   "outputs": [
    {
     "data": {
      "text/html": [
       "<style  type=\"text/css\" >\n",
       "</style><table id=\"T_0d719be4_7802_11ea_83b2_701ce71031ef\" ><thead>    <tr>        <th class=\"col_heading level0 col0\" >edu</th>        <th class=\"col_heading level0 col1\" >salary_mean</th>        <th class=\"col_heading level0 col2\" >salary_95_min</th>        <th class=\"col_heading level0 col3\" >salary_median</th>        <th class=\"col_heading level0 col4\" >salary_95_max</th>        <th class=\"col_heading level0 col5\" >head_count</th>        <th class=\"col_heading level0 col6\" >percentage</th>    </tr></thead><tbody>\n",
       "                <tr>\n",
       "                                <td id=\"T_0d719be4_7802_11ea_83b2_701ce71031efrow0_col0\" class=\"data row0 col0\" >博士</td>\n",
       "                        <td id=\"T_0d719be4_7802_11ea_83b2_701ce71031efrow0_col1\" class=\"data row0 col1\" >26353</td>\n",
       "                        <td id=\"T_0d719be4_7802_11ea_83b2_701ce71031efrow0_col2\" class=\"data row0 col2\" >13056</td>\n",
       "                        <td id=\"T_0d719be4_7802_11ea_83b2_701ce71031efrow0_col3\" class=\"data row0 col3\" >26354</td>\n",
       "                        <td id=\"T_0d719be4_7802_11ea_83b2_701ce71031efrow0_col4\" class=\"data row0 col4\" >40000</td>\n",
       "                        <td id=\"T_0d719be4_7802_11ea_83b2_701ce71031efrow0_col5\" class=\"data row0 col5\" >42</td>\n",
       "                        <td id=\"T_0d719be4_7802_11ea_83b2_701ce71031efrow0_col6\" class=\"data row0 col6\" >3.85%</td>\n",
       "            </tr>\n",
       "            <tr>\n",
       "                                <td id=\"T_0d719be4_7802_11ea_83b2_701ce71031efrow1_col0\" class=\"data row1 col0\" >硕士</td>\n",
       "                        <td id=\"T_0d719be4_7802_11ea_83b2_701ce71031efrow1_col1\" class=\"data row1 col1\" >22556</td>\n",
       "                        <td id=\"T_0d719be4_7802_11ea_83b2_701ce71031efrow1_col2\" class=\"data row1 col2\" >7676</td>\n",
       "                        <td id=\"T_0d719be4_7802_11ea_83b2_701ce71031efrow1_col3\" class=\"data row1 col3\" >20000</td>\n",
       "                        <td id=\"T_0d719be4_7802_11ea_83b2_701ce71031efrow1_col4\" class=\"data row1 col4\" >58764</td>\n",
       "                        <td id=\"T_0d719be4_7802_11ea_83b2_701ce71031efrow1_col5\" class=\"data row1 col5\" >309</td>\n",
       "                        <td id=\"T_0d719be4_7802_11ea_83b2_701ce71031efrow1_col6\" class=\"data row1 col6\" >28.30%</td>\n",
       "            </tr>\n",
       "            <tr>\n",
       "                                <td id=\"T_0d719be4_7802_11ea_83b2_701ce71031efrow2_col0\" class=\"data row2 col0\" >本科</td>\n",
       "                        <td id=\"T_0d719be4_7802_11ea_83b2_701ce71031efrow2_col1\" class=\"data row2 col1\" >21596</td>\n",
       "                        <td id=\"T_0d719be4_7802_11ea_83b2_701ce71031efrow2_col2\" class=\"data row2 col2\" >5250</td>\n",
       "                        <td id=\"T_0d719be4_7802_11ea_83b2_701ce71031efrow2_col3\" class=\"data row2 col3\" >17500</td>\n",
       "                        <td id=\"T_0d719be4_7802_11ea_83b2_701ce71031efrow2_col4\" class=\"data row2 col4\" >57466</td>\n",
       "                        <td id=\"T_0d719be4_7802_11ea_83b2_701ce71031efrow2_col5\" class=\"data row2 col5\" >666</td>\n",
       "                        <td id=\"T_0d719be4_7802_11ea_83b2_701ce71031efrow2_col6\" class=\"data row2 col6\" >60.99%</td>\n",
       "            </tr>\n",
       "            <tr>\n",
       "                                <td id=\"T_0d719be4_7802_11ea_83b2_701ce71031efrow3_col0\" class=\"data row3 col0\" >大专</td>\n",
       "                        <td id=\"T_0d719be4_7802_11ea_83b2_701ce71031efrow3_col1\" class=\"data row3 col1\" >10832</td>\n",
       "                        <td id=\"T_0d719be4_7802_11ea_83b2_701ce71031efrow3_col2\" class=\"data row3 col2\" >2870</td>\n",
       "                        <td id=\"T_0d719be4_7802_11ea_83b2_701ce71031efrow3_col3\" class=\"data row3 col3\" >8500</td>\n",
       "                        <td id=\"T_0d719be4_7802_11ea_83b2_701ce71031efrow3_col4\" class=\"data row3 col4\" >30140</td>\n",
       "                        <td id=\"T_0d719be4_7802_11ea_83b2_701ce71031efrow3_col5\" class=\"data row3 col5\" >72</td>\n",
       "                        <td id=\"T_0d719be4_7802_11ea_83b2_701ce71031efrow3_col6\" class=\"data row3 col6\" >6.59%</td>\n",
       "            </tr>\n",
       "            <tr>\n",
       "                                <td id=\"T_0d719be4_7802_11ea_83b2_701ce71031efrow4_col0\" class=\"data row4 col0\" >高中</td>\n",
       "                        <td id=\"T_0d719be4_7802_11ea_83b2_701ce71031efrow4_col1\" class=\"data row4 col1\" >8375</td>\n",
       "                        <td id=\"T_0d719be4_7802_11ea_83b2_701ce71031efrow4_col2\" class=\"data row4 col2\" >4750</td>\n",
       "                        <td id=\"T_0d719be4_7802_11ea_83b2_701ce71031efrow4_col3\" class=\"data row4 col3\" >8375</td>\n",
       "                        <td id=\"T_0d719be4_7802_11ea_83b2_701ce71031efrow4_col4\" class=\"data row4 col4\" >12000</td>\n",
       "                        <td id=\"T_0d719be4_7802_11ea_83b2_701ce71031efrow4_col5\" class=\"data row4 col5\" >2</td>\n",
       "                        <td id=\"T_0d719be4_7802_11ea_83b2_701ce71031efrow4_col6\" class=\"data row4 col6\" >0.18%</td>\n",
       "            </tr>\n",
       "            <tr>\n",
       "                                <td id=\"T_0d719be4_7802_11ea_83b2_701ce71031efrow5_col0\" class=\"data row5 col0\" >初中及以下</td>\n",
       "                        <td id=\"T_0d719be4_7802_11ea_83b2_701ce71031efrow5_col1\" class=\"data row5 col1\" >5250</td>\n",
       "                        <td id=\"T_0d719be4_7802_11ea_83b2_701ce71031efrow5_col2\" class=\"data row5 col2\" >5250</td>\n",
       "                        <td id=\"T_0d719be4_7802_11ea_83b2_701ce71031efrow5_col3\" class=\"data row5 col3\" >5250</td>\n",
       "                        <td id=\"T_0d719be4_7802_11ea_83b2_701ce71031efrow5_col4\" class=\"data row5 col4\" >5250</td>\n",
       "                        <td id=\"T_0d719be4_7802_11ea_83b2_701ce71031efrow5_col5\" class=\"data row5 col5\" >1</td>\n",
       "                        <td id=\"T_0d719be4_7802_11ea_83b2_701ce71031efrow5_col6\" class=\"data row5 col6\" >0.09%</td>\n",
       "            </tr>\n",
       "    </tbody></table>"
      ],
      "text/plain": [
       "<pandas.io.formats.style.Styler at 0x1ef00aae0c8>"
      ]
     },
     "execution_count": 38,
     "metadata": {},
     "output_type": "execute_result"
    }
   ],
   "source": [
    "data_edu=get_sub_stats_by_col(data[data.edu.isin(['初中及以下','高中','大专','本科','硕士','博士'])], 'edu')\n",
    "apply_style(data_edu)"
   ]
  },
  {
   "cell_type": "code",
   "execution_count": 39,
   "metadata": {},
   "outputs": [],
   "source": [
    "salary_associate=data[data.edu=='大专'].monthly_salary\n",
    "salary_bachelor=data[data.edu=='本科'].monthly_salary\n",
    "salary_master=data[data.edu=='硕士'].monthly_salary\n",
    "salary_phd=data[data.edu=='博士'].monthly_salary"
   ]
  },
  {
   "cell_type": "code",
   "execution_count": null,
   "metadata": {},
   "outputs": [],
   "source": []
  },
  {
   "cell_type": "code",
   "execution_count": 40,
   "metadata": {},
   "outputs": [
    {
     "name": "stdout",
     "output_type": "stream",
     "text": [
      "大专，本科，硕士，博士的平均工资分别是11720，20646，22922，26125。中位数分别是8750， 17500，21500， 27500。\n"
     ]
    }
   ],
   "source": [
    "print('大专，本科，硕士，博士的平均工资分别是{:.0f}，{:.0f}，{:.0f}，{:.0f}。中位数分别是{:.0f}， {:.0f}，{:.0f}， {:.0f}。'.format(\n",
    "    salary_associate.mean(),salary_bachelor.mean(),salary_master.mean(),salary_phd.mean(),\n",
    "    salary_associate.median(),salary_bachelor.median(),salary_master.median(),salary_phd.median()))"
   ]
  },
  {
   "cell_type": "code",
   "execution_count": 41,
   "metadata": {},
   "outputs": [
    {
     "data": {
      "text/plain": [
       "F_onewayResult(statistic=1.2796448756916412, pvalue=0.26049410113318994)"
      ]
     },
     "execution_count": 41,
     "metadata": {},
     "output_type": "execute_result"
    }
   ],
   "source": [
    "stats.f_oneway(salary_phd, salary_master)"
   ]
  },
  {
   "cell_type": "code",
   "execution_count": 42,
   "metadata": {},
   "outputs": [
    {
     "data": {
      "text/plain": [
       "F_onewayResult(statistic=2.989612838229412, pvalue=0.08484283607531536)"
      ]
     },
     "execution_count": 42,
     "metadata": {},
     "output_type": "execute_result"
    }
   ],
   "source": [
    "stats.f_oneway(salary_master, salary_bachelor)"
   ]
  },
  {
   "cell_type": "code",
   "execution_count": 43,
   "metadata": {},
   "outputs": [
    {
     "data": {
      "text/plain": [
       "F_onewayResult(statistic=15.37792110752103, pvalue=0.00011688101671031372)"
      ]
     },
     "execution_count": 43,
     "metadata": {},
     "output_type": "execute_result"
    }
   ],
   "source": [
    "stats.f_oneway(salary_bachelor, salary_associate)"
   ]
  },
  {
   "cell_type": "markdown",
   "metadata": {},
   "source": [
    "经过Oneway Anova Test，证明从大专到博士，学历每提高一级，工资都有显著的提高。"
   ]
  },
  {
   "cell_type": "code",
   "execution_count": 44,
   "metadata": {},
   "outputs": [
    {
     "data": {
      "image/png": "[encoded data removed]",
      "text/plain": [
       "<Figure size 432x288 with 1 Axes>"
      ]
     },
     "metadata": {
      "needs_background": "light"
     },
     "output_type": "display_data"
    }
   ],
   "source": [
    "\n",
    "order=['大专','本科','硕士','博士']\n",
    "a=sns.boxplot(y='edu',x='monthly_salary',order=order,data=data[data.edu.isin(order)], orient='h')\n",
    "plt.annotate('https://github.com/juwikuang/job_survey', xy=(0.5,1.5), xytext=(2, 1.55))\n",
    "plt.show()"
   ]
  },
  {
   "cell_type": "markdown",
   "metadata": {},
   "source": [
    "# 工作经验 Working Experience"
   ]
  },
  {
   "cell_type": "code",
   "execution_count": 45,
   "metadata": {},
   "outputs": [
    {
     "data": {
      "text/html": [
       "<style  type=\"text/css\" >\n",
       "</style><table id=\"T_0da30c4c_7802_11ea_a273_701ce71031ef\" ><thead>    <tr>        <th class=\"col_heading level0 col0\" >experience</th>        <th class=\"col_heading level0 col1\" >salary_mean</th>        <th class=\"col_heading level0 col2\" >salary_95_min</th>        <th class=\"col_heading level0 col3\" >salary_median</th>        <th class=\"col_heading level0 col4\" >salary_95_max</th>        <th class=\"col_heading level0 col5\" >head_count</th>        <th class=\"col_heading level0 col6\" >percentage</th>    </tr></thead><tbody>\n",
       "                <tr>\n",
       "                                <td id=\"T_0da30c4c_7802_11ea_a273_701ce71031efrow0_col0\" class=\"data row0 col0\" >5_10</td>\n",
       "                        <td id=\"T_0da30c4c_7802_11ea_a273_701ce71031efrow0_col1\" class=\"data row0 col1\" >36375</td>\n",
       "                        <td id=\"T_0da30c4c_7802_11ea_a273_701ce71031efrow0_col2\" class=\"data row0 col2\" >12500</td>\n",
       "                        <td id=\"T_0da30c4c_7802_11ea_a273_701ce71031efrow0_col3\" class=\"data row0 col3\" >33958</td>\n",
       "                        <td id=\"T_0da30c4c_7802_11ea_a273_701ce71031efrow0_col4\" class=\"data row0 col4\" >59833</td>\n",
       "                        <td id=\"T_0da30c4c_7802_11ea_a273_701ce71031efrow0_col5\" class=\"data row0 col5\" >82</td>\n",
       "                        <td id=\"T_0da30c4c_7802_11ea_a273_701ce71031efrow0_col6\" class=\"data row0 col6\" >7.04%</td>\n",
       "            </tr>\n",
       "            <tr>\n",
       "                                <td id=\"T_0da30c4c_7802_11ea_a273_701ce71031efrow1_col0\" class=\"data row1 col0\" >10+</td>\n",
       "                        <td id=\"T_0da30c4c_7802_11ea_a273_701ce71031efrow1_col1\" class=\"data row1 col1\" >28250</td>\n",
       "                        <td id=\"T_0da30c4c_7802_11ea_a273_701ce71031efrow1_col2\" class=\"data row1 col2\" >26500</td>\n",
       "                        <td id=\"T_0da30c4c_7802_11ea_a273_701ce71031efrow1_col3\" class=\"data row1 col3\" >28250</td>\n",
       "                        <td id=\"T_0da30c4c_7802_11ea_a273_701ce71031efrow1_col4\" class=\"data row1 col4\" >30000</td>\n",
       "                        <td id=\"T_0da30c4c_7802_11ea_a273_701ce71031efrow1_col5\" class=\"data row1 col5\" >2</td>\n",
       "                        <td id=\"T_0da30c4c_7802_11ea_a273_701ce71031efrow1_col6\" class=\"data row1 col6\" >0.17%</td>\n",
       "            </tr>\n",
       "            <tr>\n",
       "                                <td id=\"T_0da30c4c_7802_11ea_a273_701ce71031efrow2_col0\" class=\"data row2 col0\" >3_5</td>\n",
       "                        <td id=\"T_0da30c4c_7802_11ea_a273_701ce71031efrow2_col1\" class=\"data row2 col1\" >24669</td>\n",
       "                        <td id=\"T_0da30c4c_7802_11ea_a273_701ce71031efrow2_col2\" class=\"data row2 col2\" >8500</td>\n",
       "                        <td id=\"T_0da30c4c_7802_11ea_a273_701ce71031efrow2_col3\" class=\"data row2 col3\" >22500</td>\n",
       "                        <td id=\"T_0da30c4c_7802_11ea_a273_701ce71031efrow2_col4\" class=\"data row2 col4\" >45800</td>\n",
       "                        <td id=\"T_0da30c4c_7802_11ea_a273_701ce71031efrow2_col5\" class=\"data row2 col5\" >288</td>\n",
       "                        <td id=\"T_0da30c4c_7802_11ea_a273_701ce71031efrow2_col6\" class=\"data row2 col6\" >24.72%</td>\n",
       "            </tr>\n",
       "            <tr>\n",
       "                                <td id=\"T_0da30c4c_7802_11ea_a273_701ce71031efrow3_col0\" class=\"data row3 col0\" >1_3</td>\n",
       "                        <td id=\"T_0da30c4c_7802_11ea_a273_701ce71031efrow3_col1\" class=\"data row3 col1\" >20463</td>\n",
       "                        <td id=\"T_0da30c4c_7802_11ea_a273_701ce71031efrow3_col2\" class=\"data row3 col2\" >6650</td>\n",
       "                        <td id=\"T_0da30c4c_7802_11ea_a273_701ce71031efrow3_col3\" class=\"data row3 col3\" >17500</td>\n",
       "                        <td id=\"T_0da30c4c_7802_11ea_a273_701ce71031efrow3_col4\" class=\"data row3 col4\" >37500</td>\n",
       "                        <td id=\"T_0da30c4c_7802_11ea_a273_701ce71031efrow3_col5\" class=\"data row3 col5\" >304</td>\n",
       "                        <td id=\"T_0da30c4c_7802_11ea_a273_701ce71031efrow3_col6\" class=\"data row3 col6\" >26.09%</td>\n",
       "            </tr>\n",
       "            <tr>\n",
       "                                <td id=\"T_0da30c4c_7802_11ea_a273_701ce71031efrow4_col0\" class=\"data row4 col0\" ></td>\n",
       "                        <td id=\"T_0da30c4c_7802_11ea_a273_701ce71031efrow4_col1\" class=\"data row4 col1\" >17386</td>\n",
       "                        <td id=\"T_0da30c4c_7802_11ea_a273_701ce71031efrow4_col2\" class=\"data row4 col2\" >5250</td>\n",
       "                        <td id=\"T_0da30c4c_7802_11ea_a273_701ce71031efrow4_col3\" class=\"data row4 col3\" >15250</td>\n",
       "                        <td id=\"T_0da30c4c_7802_11ea_a273_701ce71031efrow4_col4\" class=\"data row4 col4\" >44183</td>\n",
       "                        <td id=\"T_0da30c4c_7802_11ea_a273_701ce71031efrow4_col5\" class=\"data row4 col5\" >489</td>\n",
       "                        <td id=\"T_0da30c4c_7802_11ea_a273_701ce71031efrow4_col6\" class=\"data row4 col6\" >41.97%</td>\n",
       "            </tr>\n",
       "    </tbody></table>"
      ],
      "text/plain": [
       "<pandas.io.formats.style.Styler at 0x1ef06f40e08>"
      ]
     },
     "execution_count": 45,
     "metadata": {},
     "output_type": "execute_result"
    }
   ],
   "source": [
    "data_experience=get_sub_stats_by_col(data, 'experience')\n",
    "apply_style(data_experience)"
   ]
  },
  {
   "cell_type": "code",
   "execution_count": 46,
   "metadata": {},
   "outputs": [],
   "source": [
    "salary_we_10=data[data.experience=='10+'].monthly_salary\n",
    "salary_we_5_10=data[data.experience=='5_10'].monthly_salary\n",
    "salary_we_3_5=data[data.experience=='3_5'].monthly_salary\n",
    "salary_we_1_3=data[data.experience=='1_3'].monthly_salary\n",
    "salary_we_no=data[data.experience=='no'].monthly_salary"
   ]
  },
  {
   "cell_type": "code",
   "execution_count": 47,
   "metadata": {},
   "outputs": [
    {
     "data": {
      "image/png": "[encoded data removed]",
      "text/plain": [
       "<Figure size 432x288 with 1 Axes>"
      ]
     },
     "metadata": {
      "needs_background": "light"
     },
     "output_type": "display_data"
    }
   ],
   "source": [
    "\n",
    "order=['10+','5_10','3_5','1_3']\n",
    "sns.boxplot(y='experience',x='monthly_salary',order=order,data=data[data.experience.isin(order)], orient='h')\n",
    "plt.annotate('https://github.com/juwikuang/job_survey', xy=(1.5,1.5), xytext=(1.55, 1.55))\n",
    "plt.show()"
   ]
  },
  {
   "cell_type": "markdown",
   "metadata": {},
   "source": [
    "# 公司 Company"
   ]
  },
  {
   "cell_type": "markdown",
   "metadata": {},
   "source": [
    "## 公司性质 Company Type"
   ]
  },
  {
   "cell_type": "code",
   "execution_count": 48,
   "metadata": {},
   "outputs": [
    {
     "ename": "KeyError",
     "evalue": "'company_type'",
     "output_type": "error",
     "traceback": [
      "\u001b[1;31m---------------------------------------------------------------------------\u001b[0m",
      "\u001b[1;31mKeyError\u001b[0m                                  Traceback (most recent call last)",
      "\u001b[1;32mC:\\ProgramData\\Anaconda3\\lib\\site-packages\\pandas\\core\\indexes\\base.py\u001b[0m in \u001b[0;36mget_loc\u001b[1;34m(self, key, method, tolerance)\u001b[0m\n\u001b[0;32m   2645\u001b[0m             \u001b[1;32mtry\u001b[0m\u001b[1;33m:\u001b[0m\u001b[1;33m\u001b[0m\u001b[1;33m\u001b[0m\u001b[0m\n\u001b[1;32m-> 2646\u001b[1;33m                 \u001b[1;32mreturn\u001b[0m \u001b[0mself\u001b[0m\u001b[1;33m.\u001b[0m\u001b[0m_engine\u001b[0m\u001b[1;33m.\u001b[0m\u001b[0mget_loc\u001b[0m\u001b[1;33m(\u001b[0m\u001b[0mkey\u001b[0m\u001b[1;33m)\u001b[0m\u001b[1;33m\u001b[0m\u001b[1;33m\u001b[0m\u001b[0m\n\u001b[0m\u001b[0;32m   2647\u001b[0m             \u001b[1;32mexcept\u001b[0m \u001b[0mKeyError\u001b[0m\u001b[1;33m:\u001b[0m\u001b[1;33m\u001b[0m\u001b[1;33m\u001b[0m\u001b[0m\n",
      "\u001b[1;32mpandas\\_libs\\index.pyx\u001b[0m in \u001b[0;36mpandas._libs.index.IndexEngine.get_loc\u001b[1;34m()\u001b[0m\n",
      "\u001b[1;32mpandas\\_libs\\index.pyx\u001b[0m in \u001b[0;36mpandas._libs.index.IndexEngine.get_loc\u001b[1;34m()\u001b[0m\n",
      "\u001b[1;32mpandas\\_libs\\hashtable_class_helper.pxi\u001b[0m in \u001b[0;36mpandas._libs.hashtable.PyObjectHashTable.get_item\u001b[1;34m()\u001b[0m\n",
      "\u001b[1;32mpandas\\_libs\\hashtable_class_helper.pxi\u001b[0m in \u001b[0;36mpandas._libs.hashtable.PyObjectHashTable.get_item\u001b[1;34m()\u001b[0m\n",
      "\u001b[1;31mKeyError\u001b[0m: 'company_type'",
      "\nDuring handling of the above exception, another exception occurred:\n",
      "\u001b[1;31mKeyError\u001b[0m                                  Traceback (most recent call last)",
      "\u001b[1;32m<ipython-input-48-8570df4a4801>\u001b[0m in \u001b[0;36m<module>\u001b[1;34m\u001b[0m\n\u001b[1;32m----> 1\u001b[1;33m \u001b[0mdata_company_type\u001b[0m\u001b[1;33m=\u001b[0m\u001b[0mget_sub_stats_by_col\u001b[0m\u001b[1;33m(\u001b[0m\u001b[0mdata\u001b[0m\u001b[1;33m,\u001b[0m\u001b[1;34m'company_type'\u001b[0m\u001b[1;33m)\u001b[0m\u001b[1;33m\u001b[0m\u001b[1;33m\u001b[0m\u001b[0m\n\u001b[0m\u001b[0;32m      2\u001b[0m \u001b[0mapply_style\u001b[0m\u001b[1;33m(\u001b[0m\u001b[0mdata_company_type\u001b[0m\u001b[1;33m)\u001b[0m\u001b[1;33m\u001b[0m\u001b[1;33m\u001b[0m\u001b[0m\n",
      "\u001b[1;32m<ipython-input-15-d1d14471b9f6>\u001b[0m in \u001b[0;36mget_sub_stats_by_col\u001b[1;34m(data, col)\u001b[0m\n\u001b[0;32m      1\u001b[0m \u001b[1;31m#Common Functions\u001b[0m\u001b[1;33m\u001b[0m\u001b[1;33m\u001b[0m\u001b[1;33m\u001b[0m\u001b[0m\n\u001b[0;32m      2\u001b[0m \u001b[1;32mdef\u001b[0m \u001b[0mget_sub_stats_by_col\u001b[0m\u001b[1;33m(\u001b[0m\u001b[0mdata\u001b[0m\u001b[1;33m,\u001b[0m \u001b[0mcol\u001b[0m\u001b[1;33m)\u001b[0m\u001b[1;33m:\u001b[0m\u001b[1;33m\u001b[0m\u001b[1;33m\u001b[0m\u001b[0m\n\u001b[1;32m----> 3\u001b[1;33m     \u001b[0mcategories\u001b[0m\u001b[1;33m=\u001b[0m\u001b[0mdata\u001b[0m\u001b[1;33m[\u001b[0m\u001b[0mcol\u001b[0m\u001b[1;33m]\u001b[0m\u001b[1;33m.\u001b[0m\u001b[0munique\u001b[0m\u001b[1;33m(\u001b[0m\u001b[1;33m)\u001b[0m\u001b[1;33m\u001b[0m\u001b[1;33m\u001b[0m\u001b[0m\n\u001b[0m\u001b[0;32m      4\u001b[0m     \u001b[0msalary_mean\u001b[0m\u001b[1;33m=\u001b[0m\u001b[1;33m[\u001b[0m\u001b[1;33m]\u001b[0m\u001b[1;33m\u001b[0m\u001b[1;33m\u001b[0m\u001b[0m\n\u001b[0;32m      5\u001b[0m     \u001b[0msalary_95_min\u001b[0m\u001b[1;33m=\u001b[0m\u001b[1;33m[\u001b[0m\u001b[1;33m]\u001b[0m\u001b[1;33m\u001b[0m\u001b[1;33m\u001b[0m\u001b[0m\n",
      "\u001b[1;32mC:\\ProgramData\\Anaconda3\\lib\\site-packages\\pandas\\core\\frame.py\u001b[0m in \u001b[0;36m__getitem__\u001b[1;34m(self, key)\u001b[0m\n\u001b[0;32m   2798\u001b[0m             \u001b[1;32mif\u001b[0m \u001b[0mself\u001b[0m\u001b[1;33m.\u001b[0m\u001b[0mcolumns\u001b[0m\u001b[1;33m.\u001b[0m\u001b[0mnlevels\u001b[0m \u001b[1;33m>\u001b[0m \u001b[1;36m1\u001b[0m\u001b[1;33m:\u001b[0m\u001b[1;33m\u001b[0m\u001b[1;33m\u001b[0m\u001b[0m\n\u001b[0;32m   2799\u001b[0m                 \u001b[1;32mreturn\u001b[0m \u001b[0mself\u001b[0m\u001b[1;33m.\u001b[0m\u001b[0m_getitem_multilevel\u001b[0m\u001b[1;33m(\u001b[0m\u001b[0mkey\u001b[0m\u001b[1;33m)\u001b[0m\u001b[1;33m\u001b[0m\u001b[1;33m\u001b[0m\u001b[0m\n\u001b[1;32m-> 2800\u001b[1;33m             \u001b[0mindexer\u001b[0m \u001b[1;33m=\u001b[0m \u001b[0mself\u001b[0m\u001b[1;33m.\u001b[0m\u001b[0mcolumns\u001b[0m\u001b[1;33m.\u001b[0m\u001b[0mget_loc\u001b[0m\u001b[1;33m(\u001b[0m\u001b[0mkey\u001b[0m\u001b[1;33m)\u001b[0m\u001b[1;33m\u001b[0m\u001b[1;33m\u001b[0m\u001b[0m\n\u001b[0m\u001b[0;32m   2801\u001b[0m             \u001b[1;32mif\u001b[0m \u001b[0mis_integer\u001b[0m\u001b[1;33m(\u001b[0m\u001b[0mindexer\u001b[0m\u001b[1;33m)\u001b[0m\u001b[1;33m:\u001b[0m\u001b[1;33m\u001b[0m\u001b[1;33m\u001b[0m\u001b[0m\n\u001b[0;32m   2802\u001b[0m                 \u001b[0mindexer\u001b[0m \u001b[1;33m=\u001b[0m \u001b[1;33m[\u001b[0m\u001b[0mindexer\u001b[0m\u001b[1;33m]\u001b[0m\u001b[1;33m\u001b[0m\u001b[1;33m\u001b[0m\u001b[0m\n",
      "\u001b[1;32mC:\\ProgramData\\Anaconda3\\lib\\site-packages\\pandas\\core\\indexes\\base.py\u001b[0m in \u001b[0;36mget_loc\u001b[1;34m(self, key, method, tolerance)\u001b[0m\n\u001b[0;32m   2646\u001b[0m                 \u001b[1;32mreturn\u001b[0m \u001b[0mself\u001b[0m\u001b[1;33m.\u001b[0m\u001b[0m_engine\u001b[0m\u001b[1;33m.\u001b[0m\u001b[0mget_loc\u001b[0m\u001b[1;33m(\u001b[0m\u001b[0mkey\u001b[0m\u001b[1;33m)\u001b[0m\u001b[1;33m\u001b[0m\u001b[1;33m\u001b[0m\u001b[0m\n\u001b[0;32m   2647\u001b[0m             \u001b[1;32mexcept\u001b[0m \u001b[0mKeyError\u001b[0m\u001b[1;33m:\u001b[0m\u001b[1;33m\u001b[0m\u001b[1;33m\u001b[0m\u001b[0m\n\u001b[1;32m-> 2648\u001b[1;33m                 \u001b[1;32mreturn\u001b[0m \u001b[0mself\u001b[0m\u001b[1;33m.\u001b[0m\u001b[0m_engine\u001b[0m\u001b[1;33m.\u001b[0m\u001b[0mget_loc\u001b[0m\u001b[1;33m(\u001b[0m\u001b[0mself\u001b[0m\u001b[1;33m.\u001b[0m\u001b[0m_maybe_cast_indexer\u001b[0m\u001b[1;33m(\u001b[0m\u001b[0mkey\u001b[0m\u001b[1;33m)\u001b[0m\u001b[1;33m)\u001b[0m\u001b[1;33m\u001b[0m\u001b[1;33m\u001b[0m\u001b[0m\n\u001b[0m\u001b[0;32m   2649\u001b[0m         \u001b[0mindexer\u001b[0m \u001b[1;33m=\u001b[0m \u001b[0mself\u001b[0m\u001b[1;33m.\u001b[0m\u001b[0mget_indexer\u001b[0m\u001b[1;33m(\u001b[0m\u001b[1;33m[\u001b[0m\u001b[0mkey\u001b[0m\u001b[1;33m]\u001b[0m\u001b[1;33m,\u001b[0m \u001b[0mmethod\u001b[0m\u001b[1;33m=\u001b[0m\u001b[0mmethod\u001b[0m\u001b[1;33m,\u001b[0m \u001b[0mtolerance\u001b[0m\u001b[1;33m=\u001b[0m\u001b[0mtolerance\u001b[0m\u001b[1;33m)\u001b[0m\u001b[1;33m\u001b[0m\u001b[1;33m\u001b[0m\u001b[0m\n\u001b[0;32m   2650\u001b[0m         \u001b[1;32mif\u001b[0m \u001b[0mindexer\u001b[0m\u001b[1;33m.\u001b[0m\u001b[0mndim\u001b[0m \u001b[1;33m>\u001b[0m \u001b[1;36m1\u001b[0m \u001b[1;32mor\u001b[0m \u001b[0mindexer\u001b[0m\u001b[1;33m.\u001b[0m\u001b[0msize\u001b[0m \u001b[1;33m>\u001b[0m \u001b[1;36m1\u001b[0m\u001b[1;33m:\u001b[0m\u001b[1;33m\u001b[0m\u001b[1;33m\u001b[0m\u001b[0m\n",
      "\u001b[1;32mpandas\\_libs\\index.pyx\u001b[0m in \u001b[0;36mpandas._libs.index.IndexEngine.get_loc\u001b[1;34m()\u001b[0m\n",
      "\u001b[1;32mpandas\\_libs\\index.pyx\u001b[0m in \u001b[0;36mpandas._libs.index.IndexEngine.get_loc\u001b[1;34m()\u001b[0m\n",
      "\u001b[1;32mpandas\\_libs\\hashtable_class_helper.pxi\u001b[0m in \u001b[0;36mpandas._libs.hashtable.PyObjectHashTable.get_item\u001b[1;34m()\u001b[0m\n",
      "\u001b[1;32mpandas\\_libs\\hashtable_class_helper.pxi\u001b[0m in \u001b[0;36mpandas._libs.hashtable.PyObjectHashTable.get_item\u001b[1;34m()\u001b[0m\n",
      "\u001b[1;31mKeyError\u001b[0m: 'company_type'"
     ]
    }
   ],
   "source": [
    "data_company_type=get_sub_stats_by_col(data,'company_type')\n",
    "apply_style(data_company_type)"
   ]
  },
  {
   "cell_type": "markdown",
   "metadata": {},
   "source": [
    "us_eu是欧美外企，startup是创业公司，listed是上市公司，state是国企，private是私企，foreign是非欧美外企，其他不足1000个样本的不管了。"
   ]
  },
  {
   "cell_type": "markdown",
   "metadata": {},
   "source": [
    "## 公司规模 Company Size"
   ]
  },
  {
   "cell_type": "code",
   "execution_count": null,
   "metadata": {},
   "outputs": [],
   "source": [
    "data_company_size=get_sub_stats_by_col(data,'company_size')\n",
    "apply_style(data_company_size)"
   ]
  },
  {
   "cell_type": "markdown",
   "metadata": {},
   "source": [
    "公司越大，工资越高"
   ]
  },
  {
   "cell_type": "markdown",
   "metadata": {},
   "source": [
    "## 行业 Industry"
   ]
  },
  {
   "cell_type": "code",
   "execution_count": null,
   "metadata": {},
   "outputs": [],
   "source": [
    "data_industry=get_sub_stats_by_col(data,'industry')\n",
    "apply_style(data_industry)"
   ]
  },
  {
   "cell_type": "code",
   "execution_count": null,
   "metadata": {},
   "outputs": [],
   "source": []
  },
  {
   "cell_type": "code",
   "execution_count": null,
   "metadata": {},
   "outputs": [],
   "source": []
  },
  {
   "cell_type": "code",
   "execution_count": null,
   "metadata": {},
   "outputs": [],
   "source": []
  }
 ],
 "metadata": {
  "kernelspec": {
   "display_name": "Python 3",
   "language": "python",
   "name": "python3"
  },
  "language_info": {
   "codemirror_mode": {
    "name": "ipython",
    "version": 3
   },
   "file_extension": ".py",
   "mimetype": "text/x-python",
   "name": "python",
   "nbconvert_exporter": "python",
   "pygments_lexer": "ipython3",
   "version": "3.7.4"
  }
 },
 "nbformat": 4,
 "nbformat_minor": 4
}
