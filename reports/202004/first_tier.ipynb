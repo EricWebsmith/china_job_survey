{
 "cells": [
  {
   "cell_type": "code",
   "execution_count": 1,
   "metadata": {},
   "outputs": [],
   "source": [
    "from config import *"
   ]
  },
  {
   "cell_type": "code",
   "execution_count": 2,
   "metadata": {},
   "outputs": [
    {
     "name": "stdout",
     "output_type": "stream",
     "text": [
      "2020年4月\n"
     ]
    }
   ],
   "source": [
    "print(f'{year}年{month}月')"
   ]
  },
  {
   "cell_type": "markdown",
   "metadata": {},
   "source": [
    "# Developer Salary in First-Tier Cities 程序员工资调查\n",
    "我在4月1日到3日之间，抓取了某招聘网站的软件和互联网类招聘数据40万条，其中通过程序判断为程序员的14万条。地域方面，我选择了24个主要城市。不过本文只以一线城市为研究对象。这样是为了和我2017年6月的数据做对比。\n",
    "\n",
    "提到2017年的文章，现在居然还有很多人，把这篇文章拿出来炒作。对于社会来说，可气的是，他们直接把2017改成2019，就发表了，这不是骗人么？！对于我来说，可气的是，他们转载居然还冒充是原创，是可忍熟不可忍！"
   ]
  },
  {
   "cell_type": "code",
   "execution_count": 3,
   "metadata": {},
   "outputs": [],
   "source": [
    "import pandas as pd\n",
    "import sys\n",
    "sys.path.append('..')\n",
    "sys.path.append('../py')\n",
    "sys.path.append('../../py')\n",
    "import db\n",
    "import inspect\n",
    "import matplotlib.pyplot as plt\n",
    "plt.rcParams['font.sans-serif']=['SimHei'] #用来正常显示中文标签\n",
    "plt.rcParams['axes.unicode_minus']=False #用来正常显示负号\n",
    "import seaborn as sns\n",
    "import scipy.stats as stats\n",
    "import numpy as np\n",
    "import weighted\n",
    "%matplotlib inline"
   ]
  },
  {
   "cell_type": "code",
   "execution_count": 4,
   "metadata": {},
   "outputs": [],
   "source": [
    "conn=db.get_conn()\n",
    "data_original=pd.read_sql(sql=f\"select * from _{year}{month:02} where monthly_salary>0 and city in ('北京','上海','广州','深圳')  and monthly_salary<80000\", con=conn)\n",
    "conn.close()"
   ]
  },
  {
   "cell_type": "code",
   "execution_count": 7,
   "metadata": {},
   "outputs": [],
   "source": [
    "data=data_original"
   ]
  },
  {
   "cell_type": "code",
   "execution_count": 8,
   "metadata": {},
   "outputs": [],
   "source": [
    "#del data['publish_date']\n",
    "#del data['published_on_weekend']\n",
    "#del data['title']\n",
    "#del data['title']\n",
    "#del data['company_title']\n",
    "#del data['company_description']\n",
    "#del data['job_description']\n",
    "#del data['job_id']"
   ]
  },
  {
   "cell_type": "code",
   "execution_count": 9,
   "metadata": {},
   "outputs": [
    {
     "data": {
      "text/html": [
       "<div>\n",
       "<style scoped>\n",
       "    .dataframe tbody tr th:only-of-type {\n",
       "        vertical-align: middle;\n",
       "    }\n",
       "\n",
       "    .dataframe tbody tr th {\n",
       "        vertical-align: top;\n",
       "    }\n",
       "\n",
       "    .dataframe thead th {\n",
       "        text-align: right;\n",
       "    }\n",
       "</style>\n",
       "<table border=\"1\" class=\"dataframe\">\n",
       "  <thead>\n",
       "    <tr style=\"text-align: right;\">\n",
       "      <th></th>\n",
       "      <th>job_id</th>\n",
       "      <th>monthly_salary</th>\n",
       "      <th>headcount</th>\n",
       "      <th>title</th>\n",
       "      <th>zhinengleibie</th>\n",
       "      <th>career</th>\n",
       "      <th>real_province</th>\n",
       "      <th>province</th>\n",
       "      <th>city</th>\n",
       "      <th>company_description</th>\n",
       "      <th>...</th>\n",
       "      <th>bd_flink</th>\n",
       "      <th>bd_presto</th>\n",
       "      <th>bd_heron</th>\n",
       "      <th>ml_sklearn</th>\n",
       "      <th>ml_mllib</th>\n",
       "      <th>ml_tensorlayer</th>\n",
       "      <th>ml_paddlepaddle</th>\n",
       "      <th>ml_cntk</th>\n",
       "      <th>ml_theano</th>\n",
       "      <th>ml_mahout</th>\n",
       "    </tr>\n",
       "  </thead>\n",
       "  <tbody>\n",
       "    <tr>\n",
       "      <th>22976</th>\n",
       "      <td>120372004</td>\n",
       "      <td>9000</td>\n",
       "      <td>280</td>\n",
       "      <td>软件开发、数据分析、产品、设计类岗位</td>\n",
       "      <td>软件工程师</td>\n",
       "      <td>数据分析</td>\n",
       "      <td>None</td>\n",
       "      <td>上海</td>\n",
       "      <td>上海</td>\n",
       "      <td>中银金融科技有限公司（以下简称“中银金科”）于2019年6月11日由软件中心（上海）转制成立...</td>\n",
       "      <td>...</td>\n",
       "      <td>False</td>\n",
       "      <td>False</td>\n",
       "      <td>False</td>\n",
       "      <td>False</td>\n",
       "      <td>False</td>\n",
       "      <td>False</td>\n",
       "      <td>False</td>\n",
       "      <td>False</td>\n",
       "      <td>False</td>\n",
       "      <td>False</td>\n",
       "    </tr>\n",
       "    <tr>\n",
       "      <th>11348</th>\n",
       "      <td>116717167</td>\n",
       "      <td>10000</td>\n",
       "      <td>200</td>\n",
       "      <td>海外业务软件工程师（2020届）</td>\n",
       "      <td>软件工程师</td>\n",
       "      <td>一般程序员</td>\n",
       "      <td>None</td>\n",
       "      <td>上海</td>\n",
       "      <td>上海</td>\n",
       "      <td>上海海隆软件有限公司成立于1989年4月，是国内著名软件企业、国家规划布局内重点软件企业。公...</td>\n",
       "      <td>...</td>\n",
       "      <td>False</td>\n",
       "      <td>False</td>\n",
       "      <td>False</td>\n",
       "      <td>False</td>\n",
       "      <td>False</td>\n",
       "      <td>False</td>\n",
       "      <td>False</td>\n",
       "      <td>False</td>\n",
       "      <td>False</td>\n",
       "      <td>False</td>\n",
       "    </tr>\n",
       "    <tr>\n",
       "      <th>7868</th>\n",
       "      <td>114568087</td>\n",
       "      <td>3750</td>\n",
       "      <td>151</td>\n",
       "      <td>C#软件开发工程师（雄安新区岗位）</td>\n",
       "      <td>软件工程师</td>\n",
       "      <td>一般程序员</td>\n",
       "      <td>None</td>\n",
       "      <td>北京</td>\n",
       "      <td>北京</td>\n",
       "      <td>北京其然科技有限公司，名字源于，顺 其其自 然然，主旨顺其自然、水到渠成。北京其然科技有限公...</td>\n",
       "      <td>...</td>\n",
       "      <td>False</td>\n",
       "      <td>False</td>\n",
       "      <td>False</td>\n",
       "      <td>False</td>\n",
       "      <td>False</td>\n",
       "      <td>False</td>\n",
       "      <td>False</td>\n",
       "      <td>False</td>\n",
       "      <td>False</td>\n",
       "      <td>False</td>\n",
       "    </tr>\n",
       "    <tr>\n",
       "      <th>24832</th>\n",
       "      <td>120749109</td>\n",
       "      <td>12500</td>\n",
       "      <td>150</td>\n",
       "      <td>2020春季应届生开发岗位</td>\n",
       "      <td>软件工程师</td>\n",
       "      <td>一般程序员</td>\n",
       "      <td>None</td>\n",
       "      <td>北京</td>\n",
       "      <td>北京</td>\n",
       "      <td>龙盈智达（深圳）科技有限公司是华夏银行旗下从事金融科技服务的全资科技公司。公司成立于2018...</td>\n",
       "      <td>...</td>\n",
       "      <td>False</td>\n",
       "      <td>False</td>\n",
       "      <td>False</td>\n",
       "      <td>False</td>\n",
       "      <td>False</td>\n",
       "      <td>False</td>\n",
       "      <td>False</td>\n",
       "      <td>False</td>\n",
       "      <td>False</td>\n",
       "      <td>False</td>\n",
       "    </tr>\n",
       "    <tr>\n",
       "      <th>24562</th>\n",
       "      <td>120688380</td>\n",
       "      <td>9000</td>\n",
       "      <td>100</td>\n",
       "      <td>软件开发、数据分析、产品、设计类岗位</td>\n",
       "      <td>软件工程师</td>\n",
       "      <td>数据分析</td>\n",
       "      <td>None</td>\n",
       "      <td>上海</td>\n",
       "      <td>上海</td>\n",
       "      <td>中银金融科技有限公司诚聘</td>\n",
       "      <td>...</td>\n",
       "      <td>False</td>\n",
       "      <td>False</td>\n",
       "      <td>False</td>\n",
       "      <td>False</td>\n",
       "      <td>False</td>\n",
       "      <td>False</td>\n",
       "      <td>False</td>\n",
       "      <td>False</td>\n",
       "      <td>False</td>\n",
       "      <td>False</td>\n",
       "    </tr>\n",
       "  </tbody>\n",
       "</table>\n",
       "<p>5 rows × 122 columns</p>\n",
       "</div>"
      ],
      "text/plain": [
       "          job_id  monthly_salary  headcount               title zhinengleibie  \\\n",
       "22976  120372004            9000        280  软件开发、数据分析、产品、设计类岗位         软件工程师   \n",
       "11348  116717167           10000        200    海外业务软件工程师（2020届）         软件工程师   \n",
       "7868   114568087            3750        151   C#软件开发工程师（雄安新区岗位）         软件工程师   \n",
       "24832  120749109           12500        150       2020春季应届生开发岗位         软件工程师   \n",
       "24562  120688380            9000        100  软件开发、数据分析、产品、设计类岗位         软件工程师   \n",
       "\n",
       "      career real_province province city  \\\n",
       "22976   数据分析          None       上海   上海   \n",
       "11348  一般程序员          None       上海   上海   \n",
       "7868   一般程序员          None       北京   北京   \n",
       "24832  一般程序员          None       北京   北京   \n",
       "24562   数据分析          None       上海   上海   \n",
       "\n",
       "                                     company_description  ... bd_flink  \\\n",
       "22976  中银金融科技有限公司（以下简称“中银金科”）于2019年6月11日由软件中心（上海）转制成立...  ...    False   \n",
       "11348  上海海隆软件有限公司成立于1989年4月，是国内著名软件企业、国家规划布局内重点软件企业。公...  ...    False   \n",
       "7868   北京其然科技有限公司，名字源于，顺 其其自 然然，主旨顺其自然、水到渠成。北京其然科技有限公...  ...    False   \n",
       "24832  龙盈智达（深圳）科技有限公司是华夏银行旗下从事金融科技服务的全资科技公司。公司成立于2018...  ...    False   \n",
       "24562                                       中银金融科技有限公司诚聘  ...    False   \n",
       "\n",
       "      bd_presto bd_heron ml_sklearn  ml_mllib  ml_tensorlayer  \\\n",
       "22976     False    False      False     False           False   \n",
       "11348     False    False      False     False           False   \n",
       "7868      False    False      False     False           False   \n",
       "24832     False    False      False     False           False   \n",
       "24562     False    False      False     False           False   \n",
       "\n",
       "       ml_paddlepaddle  ml_cntk  ml_theano  ml_mahout  \n",
       "22976            False    False      False      False  \n",
       "11348            False    False      False      False  \n",
       "7868             False    False      False      False  \n",
       "24832            False    False      False      False  \n",
       "24562            False    False      False      False  \n",
       "\n",
       "[5 rows x 122 columns]"
      ]
     },
     "execution_count": 9,
     "metadata": {},
     "output_type": "execute_result"
    }
   ],
   "source": [
    "data=data.sort_values(by='headcount', ascending=False)\n",
    "data.head()"
   ]
  },
  {
   "cell_type": "code",
   "execution_count": 10,
   "metadata": {},
   "outputs": [],
   "source": [
    "def pd_weighted_mean(group, avg_name, weight_name):\n",
    "    \"\"\" http://stackoverflow.com/questions/10951341/pandas-dataframe-aggregate-function-using-multiple-columns\n",
    "    In rare instance, we may not have weights, so just return the mean. Customize this if your business case\n",
    "    should return otherwise.\n",
    "    \"\"\"\n",
    "    d = group[avg_name]\n",
    "    w = group[weight_name]\n",
    "    try:\n",
    "        return (d * w).sum() / w.sum()\n",
    "    except ZeroDivisionError:\n",
    "        return d.mean()\n"
   ]
  },
  {
   "cell_type": "markdown",
   "metadata": {},
   "source": [
    "# Unilateral Stats 总体统计"
   ]
  },
  {
   "cell_type": "markdown",
   "metadata": {},
   "source": [
    "有数据可知，程序员向一线城市集中的趋势非常明显。\n",
    "\n",
    "According to the statistics, significant amount of developers are in the first tier cities."
   ]
  },
  {
   "cell_type": "code",
   "execution_count": 11,
   "metadata": {},
   "outputs": [
    {
     "data": {
      "text/plain": [
       "(30429, 122)"
      ]
     },
     "execution_count": 11,
     "metadata": {},
     "output_type": "execute_result"
    }
   ],
   "source": [
    "data.shape"
   ]
  },
  {
   "cell_type": "code",
   "execution_count": 12,
   "metadata": {},
   "outputs": [
    {
     "data": {
      "text/plain": [
       "97041"
      ]
     },
     "execution_count": 12,
     "metadata": {},
     "output_type": "execute_result"
    }
   ],
   "source": [
    "data.headcount.sum()"
   ]
  },
  {
   "cell_type": "code",
   "execution_count": 13,
   "metadata": {},
   "outputs": [
    {
     "data": {
      "text/plain": [
       "array([ 6250., 11500., 15000., 20500., 40000.])"
      ]
     },
     "execution_count": 13,
     "metadata": {},
     "output_type": "execute_result"
    }
   ],
   "source": [
    "salary_mean=weighted.weighted_mean(data.monthly_salary.values, data.headcount.values)\n",
    "q=weighted.weighted_quantile(data.monthly_salary.values,[0.025,0.25,0.5,0.75,0.975], data.headcount.values)\n",
    "q"
   ]
  },
  {
   "cell_type": "code",
   "execution_count": 14,
   "metadata": {},
   "outputs": [
    {
     "name": "stdout",
     "output_type": "stream",
     "text": [
      "2020年4月中国一线城市程序员的平均工资为17062元，工资中位数为15000元，其中95%的人的工资位于6250到40000元之间。\n"
     ]
    }
   ],
   "source": [
    "print(f'{year}年{month}月中国一线城市程序员的平均工资为{salary_mean:.0f}元，工资中位数为{q[2]:.0f}元，其中95%的人的工资位于{q[0]:.0f}到{q[4]:.0f}元之间。')"
   ]
  },
  {
   "cell_type": "code",
   "execution_count": 15,
   "metadata": {},
   "outputs": [
    {
     "name": "stdout",
     "output_type": "stream",
     "text": [
      "In 2020, Developers in China earn 17062 Yuan as average, the median is 15000 Yuan, 95% of them earn between 6250 and 40000 Yuan.\n"
     ]
    }
   ],
   "source": [
    "print(f'In {year}, Developers in China earn {salary_mean:.0f} Yuan as average, '\n",
    "      f'the median is {q[2]:.0f} Yuan, 95% of them earn between {q[0]:.0f} and {q[4]:.0f} Yuan.')"
   ]
  },
  {
   "cell_type": "code",
   "execution_count": 16,
   "metadata": {},
   "outputs": [
    {
     "data": {
      "image/png": "[encoded data removed]",
      "text/plain": [
       "<Figure size 432x288 with 1 Axes>"
      ]
     },
     "metadata": {
      "needs_background": "light"
     },
     "output_type": "display_data"
    }
   ],
   "source": [
    "data.monthly_salary.hist()\n",
    "plt.show()"
   ]
  },
  {
   "cell_type": "markdown",
   "metadata": {},
   "source": [
    "It does not look like normal distribution."
   ]
  },
  {
   "cell_type": "code",
   "execution_count": 17,
   "metadata": {},
   "outputs": [],
   "source": [
    "from scipy import stats"
   ]
  },
  {
   "cell_type": "code",
   "execution_count": 18,
   "metadata": {},
   "outputs": [
    {
     "data": {
      "text/plain": [
       "NormaltestResult(statistic=9267.906811357438, pvalue=0.0)"
      ]
     },
     "execution_count": 18,
     "metadata": {},
     "output_type": "execute_result"
    }
   ],
   "source": [
    "stats.normaltest(data.monthly_salary)"
   ]
  },
  {
   "cell_type": "markdown",
   "metadata": {},
   "source": [
    "null hypothesis: x comes from a normal distribution\n",
    "    \n",
    "p=0\n",
    "\n",
    "The null hypothesis can be rejected\n",
    "\n",
    "conclusion: data is not normally distributed."
   ]
  },
  {
   "cell_type": "markdown",
   "metadata": {},
   "source": [
    "Zoom in"
   ]
  },
  {
   "cell_type": "code",
   "execution_count": 19,
   "metadata": {},
   "outputs": [
    {
     "data": {
      "image/png": "[encoded data removed]",
      "text/plain": [
       "<Figure size 432x288 with 1 Axes>"
      ]
     },
     "metadata": {
      "needs_background": "light"
     },
     "output_type": "display_data"
    }
   ],
   "source": [
    "data[data.monthly_salary<40000].monthly_salary.hist()\n",
    "plt.annotate('https://github.com/juwikuang/job_survey', xy=(0,0), xytext=(2000, 100), color='white')\n",
    "plt.show()"
   ]
  },
  {
   "cell_type": "markdown",
   "metadata": {},
   "source": [
    "## Role 角色"
   ]
  },
  {
   "cell_type": "code",
   "execution_count": 20,
   "metadata": {},
   "outputs": [],
   "source": [
    "#Common Functions\n",
    "def get_sub_stats_by_col(data, col):\n",
    "    categories=data[col].unique()\n",
    "    salary_mean=[]\n",
    "    salary_95_min=[]\n",
    "    salary_95_max=[]\n",
    "    salary_median=[]\n",
    "    \n",
    "\n",
    "    count=[]\n",
    "    \n",
    "    categorys_out=[]\n",
    "    for category in categories:\n",
    "        #print(feature)\n",
    "        idata=data[data[col]==category]\n",
    "        headcount=idata.headcount.sum()\n",
    "        values = idata.monthly_salary.values\n",
    "        weights = idata.headcount.values\n",
    "        #print(str(headcount))\n",
    "        if headcount==0:\n",
    "            continue\n",
    "        \n",
    "        salary_mean.append(np.average(values, weights=weights))\n",
    "        \n",
    "\n",
    "        q = weighted.weighted_quantile(values,[0.025,0.5,0.975],weights)\n",
    "        salary_95_min.append(q[0])\n",
    "        salary_median.append(q[1])\n",
    "        salary_95_max.append(q[2])\n",
    "        count.append(idata.headcount.sum())\n",
    "        categorys_out.append(category)\n",
    "    sub_data=pd.DataFrame()\n",
    "    sub_data[col]=[c for c in categorys_out]\n",
    "    sub_data['salary_mean']=salary_mean\n",
    "    sub_data['salary_95_min']=salary_95_min\n",
    "    sub_data['salary_median']=salary_median\n",
    "    sub_data['salary_95_max']=salary_95_max\n",
    "    sub_data['head_count']=count\n",
    "    sub_data['percentage']=count/np.sum(count)\n",
    "    sub_data=sub_data.sort_values(by='salary_mean', ascending=False)\n",
    "\n",
    "    return sub_data\n",
    "\n",
    "def get_sub_stats_by_prefix(data, prefix):\n",
    "    \n",
    "    features = [feature for feature in data.columns if feature.startswith(prefix)]\n",
    "    salary_mean=[]\n",
    "    salary_median=[]\n",
    "    salary_95_min=[]\n",
    "    salary_95_max=[]\n",
    "    count=[]\n",
    "    \n",
    "    features_out=[]\n",
    "    for feature in features:\n",
    "        #print(feature)\n",
    "        idata=data[data[feature]==1]\n",
    "        headcount=idata.headcount.sum()\n",
    "        values = idata.monthly_salary.values\n",
    "        weights = idata.headcount.values\n",
    "        #print(str(headcount))\n",
    "        if headcount==0:\n",
    "            continue\n",
    "        \n",
    "        salary_mean.append(weighted.weighted_mean(values, weights))\n",
    "        q = weighted.weighted_quantile(values,[0.025,0.5,0.975],weights)\n",
    "        salary_median.append(q[1])\n",
    "        salary_95_min.append(q[0])\n",
    "        salary_95_max.append(q[2])\n",
    "        count.append(idata.headcount.sum())\n",
    "        features_out.append(feature)\n",
    "    sub_data=pd.DataFrame()\n",
    "    sub_data['rank']=range(0,len(features_out))\n",
    "    sub_data[prefix]=[f.replace(prefix,'') for f in features_out]\n",
    "    sub_data['salary_mean']=salary_mean\n",
    "    sub_data['salary_median']=salary_median\n",
    "    sub_data['salary_95_min']=salary_95_min\n",
    "    sub_data['salary_95_max']=salary_95_max\n",
    "    sub_data['head_count']=count\n",
    "    sub_data['percentage']=count/np.sum(count)\n",
    "    sub_data=sub_data.sort_values(by='salary_mean', ascending=False)\n",
    "    sub_data['rank']=range(1,len(features_out)+1)\n",
    "    #sub_data=sub_data.reset_index()\n",
    "    return sub_data\n",
    "\n",
    "def apply_style(sub_data):\n",
    "    return sub_data.style.hide_index().format(\n",
    "    {\"salary_mean\":\"{:.0f}\",\"salary_median\":\"{:.0f}\",\"salary_95_min\":\"{:.0f}\",\"salary_95_max\":\"{:.0f}\",\"percentage\":\"{:.2%}\"})"
   ]
  },
  {
   "cell_type": "code",
   "execution_count": 21,
   "metadata": {},
   "outputs": [
    {
     "data": {
      "text/html": [
       "<style  type=\"text/css\" >\n",
       "</style><table id=\"T_be6be1ca_74f5_11ea_aa8b_701ce71031ef\" ><thead>    <tr>        <th class=\"blank level0\" ></th>        <th class=\"col_heading level0 col0\" >career</th>        <th class=\"col_heading level0 col1\" >salary_mean</th>        <th class=\"col_heading level0 col2\" >salary_95_min</th>        <th class=\"col_heading level0 col3\" >salary_median</th>        <th class=\"col_heading level0 col4\" >salary_95_max</th>        <th class=\"col_heading level0 col5\" >head_count</th>        <th class=\"col_heading level0 col6\" >percentage</th>    </tr></thead><tbody>\n",
       "                <tr>\n",
       "                        <th id=\"T_be6be1ca_74f5_11ea_aa8b_701ce71031eflevel0_row0\" class=\"row_heading level0 row0\" >22</th>\n",
       "                        <td id=\"T_be6be1ca_74f5_11ea_aa8b_701ce71031efrow0_col0\" class=\"data row0 col0\" >光学算法工程师</td>\n",
       "                        <td id=\"T_be6be1ca_74f5_11ea_aa8b_701ce71031efrow0_col1\" class=\"data row0 col1\" >28611</td>\n",
       "                        <td id=\"T_be6be1ca_74f5_11ea_aa8b_701ce71031efrow0_col2\" class=\"data row0 col2\" >24500.000000</td>\n",
       "                        <td id=\"T_be6be1ca_74f5_11ea_aa8b_701ce71031efrow0_col3\" class=\"data row0 col3\" >26214</td>\n",
       "                        <td id=\"T_be6be1ca_74f5_11ea_aa8b_701ce71031efrow0_col4\" class=\"data row0 col4\" >40000.000000</td>\n",
       "                        <td id=\"T_be6be1ca_74f5_11ea_aa8b_701ce71031efrow0_col5\" class=\"data row0 col5\" >9</td>\n",
       "                        <td id=\"T_be6be1ca_74f5_11ea_aa8b_701ce71031efrow0_col6\" class=\"data row0 col6\" >0.01%</td>\n",
       "            </tr>\n",
       "            <tr>\n",
       "                        <th id=\"T_be6be1ca_74f5_11ea_aa8b_701ce71031eflevel0_row1\" class=\"row_heading level0 row1\" >23</th>\n",
       "                        <td id=\"T_be6be1ca_74f5_11ea_aa8b_701ce71031efrow1_col0\" class=\"data row1 col0\" >CT重建</td>\n",
       "                        <td id=\"T_be6be1ca_74f5_11ea_aa8b_701ce71031efrow1_col1\" class=\"data row1 col1\" >27900</td>\n",
       "                        <td id=\"T_be6be1ca_74f5_11ea_aa8b_701ce71031efrow1_col2\" class=\"data row1 col2\" >19500.000000</td>\n",
       "                        <td id=\"T_be6be1ca_74f5_11ea_aa8b_701ce71031efrow1_col3\" class=\"data row1 col3\" >30000</td>\n",
       "                        <td id=\"T_be6be1ca_74f5_11ea_aa8b_701ce71031efrow1_col4\" class=\"data row1 col4\" >30000.000000</td>\n",
       "                        <td id=\"T_be6be1ca_74f5_11ea_aa8b_701ce71031efrow1_col5\" class=\"data row1 col5\" >5</td>\n",
       "                        <td id=\"T_be6be1ca_74f5_11ea_aa8b_701ce71031efrow1_col6\" class=\"data row1 col6\" >0.01%</td>\n",
       "            </tr>\n",
       "            <tr>\n",
       "                        <th id=\"T_be6be1ca_74f5_11ea_aa8b_701ce71031eflevel0_row2\" class=\"row_heading level0 row2\" >3</th>\n",
       "                        <td id=\"T_be6be1ca_74f5_11ea_aa8b_701ce71031efrow2_col0\" class=\"data row2 col0\" >系统架构师</td>\n",
       "                        <td id=\"T_be6be1ca_74f5_11ea_aa8b_701ce71031efrow2_col1\" class=\"data row2 col1\" >26170</td>\n",
       "                        <td id=\"T_be6be1ca_74f5_11ea_aa8b_701ce71031efrow2_col2\" class=\"data row2 col2\" >7000.000000</td>\n",
       "                        <td id=\"T_be6be1ca_74f5_11ea_aa8b_701ce71031efrow2_col3\" class=\"data row2 col3\" >25000</td>\n",
       "                        <td id=\"T_be6be1ca_74f5_11ea_aa8b_701ce71031efrow2_col4\" class=\"data row2 col4\" >52500.000000</td>\n",
       "                        <td id=\"T_be6be1ca_74f5_11ea_aa8b_701ce71031efrow2_col5\" class=\"data row2 col5\" >5229</td>\n",
       "                        <td id=\"T_be6be1ca_74f5_11ea_aa8b_701ce71031efrow2_col6\" class=\"data row2 col6\" >5.39%</td>\n",
       "            </tr>\n",
       "            <tr>\n",
       "                        <th id=\"T_be6be1ca_74f5_11ea_aa8b_701ce71031eflevel0_row3\" class=\"row_heading level0 row3\" >17</th>\n",
       "                        <td id=\"T_be6be1ca_74f5_11ea_aa8b_701ce71031efrow3_col0\" class=\"data row3 col0\" >规划算法工程师</td>\n",
       "                        <td id=\"T_be6be1ca_74f5_11ea_aa8b_701ce71031efrow3_col1\" class=\"data row3 col1\" >25968</td>\n",
       "                        <td id=\"T_be6be1ca_74f5_11ea_aa8b_701ce71031efrow3_col2\" class=\"data row3 col2\" >18500.000000</td>\n",
       "                        <td id=\"T_be6be1ca_74f5_11ea_aa8b_701ce71031efrow3_col3\" class=\"data row3 col3\" >24375</td>\n",
       "                        <td id=\"T_be6be1ca_74f5_11ea_aa8b_701ce71031efrow3_col4\" class=\"data row3 col4\" >37500.000000</td>\n",
       "                        <td id=\"T_be6be1ca_74f5_11ea_aa8b_701ce71031efrow3_col5\" class=\"data row3 col5\" >31</td>\n",
       "                        <td id=\"T_be6be1ca_74f5_11ea_aa8b_701ce71031efrow3_col6\" class=\"data row3 col6\" >0.03%</td>\n",
       "            </tr>\n",
       "            <tr>\n",
       "                        <th id=\"T_be6be1ca_74f5_11ea_aa8b_701ce71031eflevel0_row4\" class=\"row_heading level0 row4\" >21</th>\n",
       "                        <td id=\"T_be6be1ca_74f5_11ea_aa8b_701ce71031efrow4_col0\" class=\"data row4 col0\" >adas</td>\n",
       "                        <td id=\"T_be6be1ca_74f5_11ea_aa8b_701ce71031efrow4_col1\" class=\"data row4 col1\" >25575</td>\n",
       "                        <td id=\"T_be6be1ca_74f5_11ea_aa8b_701ce71031efrow4_col2\" class=\"data row4 col2\" >10416.000000</td>\n",
       "                        <td id=\"T_be6be1ca_74f5_11ea_aa8b_701ce71031efrow4_col3\" class=\"data row4 col3\" >26667</td>\n",
       "                        <td id=\"T_be6be1ca_74f5_11ea_aa8b_701ce71031efrow4_col4\" class=\"data row4 col4\" >37500.000000</td>\n",
       "                        <td id=\"T_be6be1ca_74f5_11ea_aa8b_701ce71031efrow4_col5\" class=\"data row4 col5\" >21</td>\n",
       "                        <td id=\"T_be6be1ca_74f5_11ea_aa8b_701ce71031efrow4_col6\" class=\"data row4 col6\" >0.02%</td>\n",
       "            </tr>\n",
       "            <tr>\n",
       "                        <th id=\"T_be6be1ca_74f5_11ea_aa8b_701ce71031eflevel0_row5\" class=\"row_heading level0 row5\" >5</th>\n",
       "                        <td id=\"T_be6be1ca_74f5_11ea_aa8b_701ce71031efrow5_col0\" class=\"data row5 col0\" >机器学习</td>\n",
       "                        <td id=\"T_be6be1ca_74f5_11ea_aa8b_701ce71031efrow5_col1\" class=\"data row5 col1\" >24930</td>\n",
       "                        <td id=\"T_be6be1ca_74f5_11ea_aa8b_701ce71031efrow5_col2\" class=\"data row5 col2\" >7000.000000</td>\n",
       "                        <td id=\"T_be6be1ca_74f5_11ea_aa8b_701ce71031efrow5_col3\" class=\"data row5 col3\" >22500</td>\n",
       "                        <td id=\"T_be6be1ca_74f5_11ea_aa8b_701ce71031efrow5_col4\" class=\"data row5 col4\" >54166.000000</td>\n",
       "                        <td id=\"T_be6be1ca_74f5_11ea_aa8b_701ce71031efrow5_col5\" class=\"data row5 col5\" >2376</td>\n",
       "                        <td id=\"T_be6be1ca_74f5_11ea_aa8b_701ce71031efrow5_col6\" class=\"data row5 col6\" >2.45%</td>\n",
       "            </tr>\n",
       "            <tr>\n",
       "                        <th id=\"T_be6be1ca_74f5_11ea_aa8b_701ce71031eflevel0_row6\" class=\"row_heading level0 row6\" >8</th>\n",
       "                        <td id=\"T_be6be1ca_74f5_11ea_aa8b_701ce71031efrow6_col0\" class=\"data row6 col0\" >SLAM</td>\n",
       "                        <td id=\"T_be6be1ca_74f5_11ea_aa8b_701ce71031efrow6_col1\" class=\"data row6 col1\" >23053</td>\n",
       "                        <td id=\"T_be6be1ca_74f5_11ea_aa8b_701ce71031efrow6_col2\" class=\"data row6 col2\" >9500.000000</td>\n",
       "                        <td id=\"T_be6be1ca_74f5_11ea_aa8b_701ce71031efrow6_col3\" class=\"data row6 col3\" >22500</td>\n",
       "                        <td id=\"T_be6be1ca_74f5_11ea_aa8b_701ce71031efrow6_col4\" class=\"data row6 col4\" >44925.000000</td>\n",
       "                        <td id=\"T_be6be1ca_74f5_11ea_aa8b_701ce71031efrow6_col5\" class=\"data row6 col5\" >346</td>\n",
       "                        <td id=\"T_be6be1ca_74f5_11ea_aa8b_701ce71031efrow6_col6\" class=\"data row6 col6\" >0.36%</td>\n",
       "            </tr>\n",
       "            <tr>\n",
       "                        <th id=\"T_be6be1ca_74f5_11ea_aa8b_701ce71031eflevel0_row7\" class=\"row_heading level0 row7\" >13</th>\n",
       "                        <td id=\"T_be6be1ca_74f5_11ea_aa8b_701ce71031efrow7_col0\" class=\"data row7 col0\" >FPGA</td>\n",
       "                        <td id=\"T_be6be1ca_74f5_11ea_aa8b_701ce71031efrow7_col1\" class=\"data row7 col1\" >22370</td>\n",
       "                        <td id=\"T_be6be1ca_74f5_11ea_aa8b_701ce71031efrow7_col2\" class=\"data row7 col2\" >10000.000000</td>\n",
       "                        <td id=\"T_be6be1ca_74f5_11ea_aa8b_701ce71031efrow7_col3\" class=\"data row7 col3\" >21547</td>\n",
       "                        <td id=\"T_be6be1ca_74f5_11ea_aa8b_701ce71031efrow7_col4\" class=\"data row7 col4\" >37500.000000</td>\n",
       "                        <td id=\"T_be6be1ca_74f5_11ea_aa8b_701ce71031efrow7_col5\" class=\"data row7 col5\" >197</td>\n",
       "                        <td id=\"T_be6be1ca_74f5_11ea_aa8b_701ce71031efrow7_col6\" class=\"data row7 col6\" >0.20%</td>\n",
       "            </tr>\n",
       "            <tr>\n",
       "                        <th id=\"T_be6be1ca_74f5_11ea_aa8b_701ce71031eflevel0_row8\" class=\"row_heading level0 row8\" >14</th>\n",
       "                        <td id=\"T_be6be1ca_74f5_11ea_aa8b_701ce71031efrow8_col0\" class=\"data row8 col0\" >图像算法</td>\n",
       "                        <td id=\"T_be6be1ca_74f5_11ea_aa8b_701ce71031efrow8_col1\" class=\"data row8 col1\" >22185</td>\n",
       "                        <td id=\"T_be6be1ca_74f5_11ea_aa8b_701ce71031efrow8_col2\" class=\"data row8 col2\" >8560.000000</td>\n",
       "                        <td id=\"T_be6be1ca_74f5_11ea_aa8b_701ce71031efrow8_col3\" class=\"data row8 col3\" >21000</td>\n",
       "                        <td id=\"T_be6be1ca_74f5_11ea_aa8b_701ce71031efrow8_col4\" class=\"data row8 col4\" >47551.887500</td>\n",
       "                        <td id=\"T_be6be1ca_74f5_11ea_aa8b_701ce71031efrow8_col5\" class=\"data row8 col5\" >434</td>\n",
       "                        <td id=\"T_be6be1ca_74f5_11ea_aa8b_701ce71031efrow8_col6\" class=\"data row8 col6\" >0.45%</td>\n",
       "            </tr>\n",
       "            <tr>\n",
       "                        <th id=\"T_be6be1ca_74f5_11ea_aa8b_701ce71031eflevel0_row9\" class=\"row_heading level0 row9\" >2</th>\n",
       "                        <td id=\"T_be6be1ca_74f5_11ea_aa8b_701ce71031efrow9_col0\" class=\"data row9 col0\" >算法工程师</td>\n",
       "                        <td id=\"T_be6be1ca_74f5_11ea_aa8b_701ce71031efrow9_col1\" class=\"data row9 col1\" >20416</td>\n",
       "                        <td id=\"T_be6be1ca_74f5_11ea_aa8b_701ce71031efrow9_col2\" class=\"data row9 col2\" >7000.000000</td>\n",
       "                        <td id=\"T_be6be1ca_74f5_11ea_aa8b_701ce71031efrow9_col3\" class=\"data row9 col3\" >17500</td>\n",
       "                        <td id=\"T_be6be1ca_74f5_11ea_aa8b_701ce71031efrow9_col4\" class=\"data row9 col4\" >40000.000000</td>\n",
       "                        <td id=\"T_be6be1ca_74f5_11ea_aa8b_701ce71031efrow9_col5\" class=\"data row9 col5\" >4567</td>\n",
       "                        <td id=\"T_be6be1ca_74f5_11ea_aa8b_701ce71031efrow9_col6\" class=\"data row9 col6\" >4.71%</td>\n",
       "            </tr>\n",
       "            <tr>\n",
       "                        <th id=\"T_be6be1ca_74f5_11ea_aa8b_701ce71031eflevel0_row10\" class=\"row_heading level0 row10\" >6</th>\n",
       "                        <td id=\"T_be6be1ca_74f5_11ea_aa8b_701ce71031efrow10_col0\" class=\"data row10 col0\" >大数据</td>\n",
       "                        <td id=\"T_be6be1ca_74f5_11ea_aa8b_701ce71031efrow10_col1\" class=\"data row10 col1\" >19499</td>\n",
       "                        <td id=\"T_be6be1ca_74f5_11ea_aa8b_701ce71031efrow10_col2\" class=\"data row10 col2\" >7132.500000</td>\n",
       "                        <td id=\"T_be6be1ca_74f5_11ea_aa8b_701ce71031efrow10_col3\" class=\"data row10 col3\" >17500</td>\n",
       "                        <td id=\"T_be6be1ca_74f5_11ea_aa8b_701ce71031efrow10_col4\" class=\"data row10 col4\" >40000.000000</td>\n",
       "                        <td id=\"T_be6be1ca_74f5_11ea_aa8b_701ce71031efrow10_col5\" class=\"data row10 col5\" >1393</td>\n",
       "                        <td id=\"T_be6be1ca_74f5_11ea_aa8b_701ce71031efrow10_col6\" class=\"data row10 col6\" >1.44%</td>\n",
       "            </tr>\n",
       "            <tr>\n",
       "                        <th id=\"T_be6be1ca_74f5_11ea_aa8b_701ce71031eflevel0_row11\" class=\"row_heading level0 row11\" >4</th>\n",
       "                        <td id=\"T_be6be1ca_74f5_11ea_aa8b_701ce71031efrow11_col0\" class=\"data row11 col0\" >DSP</td>\n",
       "                        <td id=\"T_be6be1ca_74f5_11ea_aa8b_701ce71031efrow11_col1\" class=\"data row11 col1\" >19332</td>\n",
       "                        <td id=\"T_be6be1ca_74f5_11ea_aa8b_701ce71031efrow11_col2\" class=\"data row11 col2\" >7000.000000</td>\n",
       "                        <td id=\"T_be6be1ca_74f5_11ea_aa8b_701ce71031efrow11_col3\" class=\"data row11 col3\" >17500</td>\n",
       "                        <td id=\"T_be6be1ca_74f5_11ea_aa8b_701ce71031efrow11_col4\" class=\"data row11 col4\" >45000.000000</td>\n",
       "                        <td id=\"T_be6be1ca_74f5_11ea_aa8b_701ce71031efrow11_col5\" class=\"data row11 col5\" >1954</td>\n",
       "                        <td id=\"T_be6be1ca_74f5_11ea_aa8b_701ce71031efrow11_col6\" class=\"data row11 col6\" >2.01%</td>\n",
       "            </tr>\n",
       "            <tr>\n",
       "                        <th id=\"T_be6be1ca_74f5_11ea_aa8b_701ce71031eflevel0_row12\" class=\"row_heading level0 row12\" >19</th>\n",
       "                        <td id=\"T_be6be1ca_74f5_11ea_aa8b_701ce71031efrow12_col0\" class=\"data row12 col0\" >cae</td>\n",
       "                        <td id=\"T_be6be1ca_74f5_11ea_aa8b_701ce71031efrow12_col1\" class=\"data row12 col1\" >19156</td>\n",
       "                        <td id=\"T_be6be1ca_74f5_11ea_aa8b_701ce71031efrow12_col2\" class=\"data row12 col2\" >3850.000000</td>\n",
       "                        <td id=\"T_be6be1ca_74f5_11ea_aa8b_701ce71031efrow12_col3\" class=\"data row12 col3\" >20000</td>\n",
       "                        <td id=\"T_be6be1ca_74f5_11ea_aa8b_701ce71031efrow12_col4\" class=\"data row12 col4\" >25000.000000</td>\n",
       "                        <td id=\"T_be6be1ca_74f5_11ea_aa8b_701ce71031efrow12_col5\" class=\"data row12 col5\" >64</td>\n",
       "                        <td id=\"T_be6be1ca_74f5_11ea_aa8b_701ce71031efrow12_col6\" class=\"data row12 col6\" >0.07%</td>\n",
       "            </tr>\n",
       "            <tr>\n",
       "                        <th id=\"T_be6be1ca_74f5_11ea_aa8b_701ce71031eflevel0_row13\" class=\"row_heading level0 row13\" >16</th>\n",
       "                        <td id=\"T_be6be1ca_74f5_11ea_aa8b_701ce71031efrow13_col0\" class=\"data row13 col0\" >信号处理</td>\n",
       "                        <td id=\"T_be6be1ca_74f5_11ea_aa8b_701ce71031efrow13_col1\" class=\"data row13 col1\" >19077</td>\n",
       "                        <td id=\"T_be6be1ca_74f5_11ea_aa8b_701ce71031efrow13_col2\" class=\"data row13 col2\" >10925.000000</td>\n",
       "                        <td id=\"T_be6be1ca_74f5_11ea_aa8b_701ce71031efrow13_col3\" class=\"data row13 col3\" >17500</td>\n",
       "                        <td id=\"T_be6be1ca_74f5_11ea_aa8b_701ce71031efrow13_col4\" class=\"data row13 col4\" >37250.000000</td>\n",
       "                        <td id=\"T_be6be1ca_74f5_11ea_aa8b_701ce71031efrow13_col5\" class=\"data row13 col5\" >86</td>\n",
       "                        <td id=\"T_be6be1ca_74f5_11ea_aa8b_701ce71031efrow13_col6\" class=\"data row13 col6\" >0.09%</td>\n",
       "            </tr>\n",
       "            <tr>\n",
       "                        <th id=\"T_be6be1ca_74f5_11ea_aa8b_701ce71031eflevel0_row14\" class=\"row_heading level0 row14\" >7</th>\n",
       "                        <td id=\"T_be6be1ca_74f5_11ea_aa8b_701ce71031efrow14_col0\" class=\"data row14 col0\" >视觉软件工程师</td>\n",
       "                        <td id=\"T_be6be1ca_74f5_11ea_aa8b_701ce71031efrow14_col1\" class=\"data row14 col1\" >19048</td>\n",
       "                        <td id=\"T_be6be1ca_74f5_11ea_aa8b_701ce71031efrow14_col2\" class=\"data row14 col2\" >5317.857143</td>\n",
       "                        <td id=\"T_be6be1ca_74f5_11ea_aa8b_701ce71031efrow14_col3\" class=\"data row14 col3\" >17500</td>\n",
       "                        <td id=\"T_be6be1ca_74f5_11ea_aa8b_701ce71031efrow14_col4\" class=\"data row14 col4\" >41750.000000</td>\n",
       "                        <td id=\"T_be6be1ca_74f5_11ea_aa8b_701ce71031efrow14_col5\" class=\"data row14 col5\" >1278</td>\n",
       "                        <td id=\"T_be6be1ca_74f5_11ea_aa8b_701ce71031efrow14_col6\" class=\"data row14 col6\" >1.32%</td>\n",
       "            </tr>\n",
       "            <tr>\n",
       "                        <th id=\"T_be6be1ca_74f5_11ea_aa8b_701ce71031eflevel0_row15\" class=\"row_heading level0 row15\" >9</th>\n",
       "                        <td id=\"T_be6be1ca_74f5_11ea_aa8b_701ce71031efrow15_col0\" class=\"data row15 col0\" >机器人</td>\n",
       "                        <td id=\"T_be6be1ca_74f5_11ea_aa8b_701ce71031efrow15_col1\" class=\"data row15 col1\" >17636</td>\n",
       "                        <td id=\"T_be6be1ca_74f5_11ea_aa8b_701ce71031efrow15_col2\" class=\"data row15 col2\" >5750.000000</td>\n",
       "                        <td id=\"T_be6be1ca_74f5_11ea_aa8b_701ce71031efrow15_col3\" class=\"data row15 col3\" >17500</td>\n",
       "                        <td id=\"T_be6be1ca_74f5_11ea_aa8b_701ce71031efrow15_col4\" class=\"data row15 col4\" >38791.666667</td>\n",
       "                        <td id=\"T_be6be1ca_74f5_11ea_aa8b_701ce71031efrow15_col5\" class=\"data row15 col5\" >289</td>\n",
       "                        <td id=\"T_be6be1ca_74f5_11ea_aa8b_701ce71031efrow15_col6\" class=\"data row15 col6\" >0.30%</td>\n",
       "            </tr>\n",
       "            <tr>\n",
       "                        <th id=\"T_be6be1ca_74f5_11ea_aa8b_701ce71031eflevel0_row16\" class=\"row_heading level0 row16\" >12</th>\n",
       "                        <td id=\"T_be6be1ca_74f5_11ea_aa8b_701ce71031efrow16_col0\" class=\"data row16 col0\" >Unity3d</td>\n",
       "                        <td id=\"T_be6be1ca_74f5_11ea_aa8b_701ce71031efrow16_col1\" class=\"data row16 col1\" >17588</td>\n",
       "                        <td id=\"T_be6be1ca_74f5_11ea_aa8b_701ce71031efrow16_col2\" class=\"data row16 col2\" >7000.000000</td>\n",
       "                        <td id=\"T_be6be1ca_74f5_11ea_aa8b_701ce71031efrow16_col3\" class=\"data row16 col3\" >15000</td>\n",
       "                        <td id=\"T_be6be1ca_74f5_11ea_aa8b_701ce71031efrow16_col4\" class=\"data row16 col4\" >34906.250000</td>\n",
       "                        <td id=\"T_be6be1ca_74f5_11ea_aa8b_701ce71031efrow16_col5\" class=\"data row16 col5\" >586</td>\n",
       "                        <td id=\"T_be6be1ca_74f5_11ea_aa8b_701ce71031efrow16_col6\" class=\"data row16 col6\" >0.60%</td>\n",
       "            </tr>\n",
       "            <tr>\n",
       "                        <th id=\"T_be6be1ca_74f5_11ea_aa8b_701ce71031eflevel0_row17\" class=\"row_heading level0 row17\" >1</th>\n",
       "                        <td id=\"T_be6be1ca_74f5_11ea_aa8b_701ce71031efrow17_col0\" class=\"data row17 col0\" >一般程序员</td>\n",
       "                        <td id=\"T_be6be1ca_74f5_11ea_aa8b_701ce71031efrow17_col1\" class=\"data row17 col1\" >15854</td>\n",
       "                        <td id=\"T_be6be1ca_74f5_11ea_aa8b_701ce71031efrow17_col2\" class=\"data row17 col2\" >6000.000000</td>\n",
       "                        <td id=\"T_be6be1ca_74f5_11ea_aa8b_701ce71031efrow17_col3\" class=\"data row17 col3\" >14000</td>\n",
       "                        <td id=\"T_be6be1ca_74f5_11ea_aa8b_701ce71031efrow17_col4\" class=\"data row17 col4\" >37500.000000</td>\n",
       "                        <td id=\"T_be6be1ca_74f5_11ea_aa8b_701ce71031efrow17_col5\" class=\"data row17 col5\" >76346</td>\n",
       "                        <td id=\"T_be6be1ca_74f5_11ea_aa8b_701ce71031efrow17_col6\" class=\"data row17 col6\" >78.67%</td>\n",
       "            </tr>\n",
       "            <tr>\n",
       "                        <th id=\"T_be6be1ca_74f5_11ea_aa8b_701ce71031eflevel0_row18\" class=\"row_heading level0 row18\" >11</th>\n",
       "                        <td id=\"T_be6be1ca_74f5_11ea_aa8b_701ce71031efrow18_col0\" class=\"data row18 col0\" >遥感</td>\n",
       "                        <td id=\"T_be6be1ca_74f5_11ea_aa8b_701ce71031efrow18_col1\" class=\"data row18 col1\" >15034</td>\n",
       "                        <td id=\"T_be6be1ca_74f5_11ea_aa8b_701ce71031efrow18_col2\" class=\"data row18 col2\" >9500.000000</td>\n",
       "                        <td id=\"T_be6be1ca_74f5_11ea_aa8b_701ce71031efrow18_col3\" class=\"data row18 col3\" >13500</td>\n",
       "                        <td id=\"T_be6be1ca_74f5_11ea_aa8b_701ce71031efrow18_col4\" class=\"data row18 col4\" >27075.000000</td>\n",
       "                        <td id=\"T_be6be1ca_74f5_11ea_aa8b_701ce71031efrow18_col5\" class=\"data row18 col5\" >79</td>\n",
       "                        <td id=\"T_be6be1ca_74f5_11ea_aa8b_701ce71031efrow18_col6\" class=\"data row18 col6\" >0.08%</td>\n",
       "            </tr>\n",
       "            <tr>\n",
       "                        <th id=\"T_be6be1ca_74f5_11ea_aa8b_701ce71031eflevel0_row19\" class=\"row_heading level0 row19\" >10</th>\n",
       "                        <td id=\"T_be6be1ca_74f5_11ea_aa8b_701ce71031efrow19_col0\" class=\"data row19 col0\" >gis</td>\n",
       "                        <td id=\"T_be6be1ca_74f5_11ea_aa8b_701ce71031efrow19_col1\" class=\"data row19 col1\" >14817</td>\n",
       "                        <td id=\"T_be6be1ca_74f5_11ea_aa8b_701ce71031efrow19_col2\" class=\"data row19 col2\" >6225.000000</td>\n",
       "                        <td id=\"T_be6be1ca_74f5_11ea_aa8b_701ce71031efrow19_col3\" class=\"data row19 col3\" >13000</td>\n",
       "                        <td id=\"T_be6be1ca_74f5_11ea_aa8b_701ce71031efrow19_col4\" class=\"data row19 col4\" >25000.000000</td>\n",
       "                        <td id=\"T_be6be1ca_74f5_11ea_aa8b_701ce71031efrow19_col5\" class=\"data row19 col5\" >487</td>\n",
       "                        <td id=\"T_be6be1ca_74f5_11ea_aa8b_701ce71031efrow19_col6\" class=\"data row19 col6\" >0.50%</td>\n",
       "            </tr>\n",
       "            <tr>\n",
       "                        <th id=\"T_be6be1ca_74f5_11ea_aa8b_701ce71031eflevel0_row20\" class=\"row_heading level0 row20\" >18</th>\n",
       "                        <td id=\"T_be6be1ca_74f5_11ea_aa8b_701ce71031efrow20_col0\" class=\"data row20 col0\" >爬虫工程师</td>\n",
       "                        <td id=\"T_be6be1ca_74f5_11ea_aa8b_701ce71031efrow20_col1\" class=\"data row20 col1\" >14297</td>\n",
       "                        <td id=\"T_be6be1ca_74f5_11ea_aa8b_701ce71031efrow20_col2\" class=\"data row20 col2\" >6400.000000</td>\n",
       "                        <td id=\"T_be6be1ca_74f5_11ea_aa8b_701ce71031efrow20_col3\" class=\"data row20 col3\" >13000</td>\n",
       "                        <td id=\"T_be6be1ca_74f5_11ea_aa8b_701ce71031efrow20_col4\" class=\"data row20 col4\" >24500.000000</td>\n",
       "                        <td id=\"T_be6be1ca_74f5_11ea_aa8b_701ce71031efrow20_col5\" class=\"data row20 col5\" >148</td>\n",
       "                        <td id=\"T_be6be1ca_74f5_11ea_aa8b_701ce71031efrow20_col6\" class=\"data row20 col6\" >0.15%</td>\n",
       "            </tr>\n",
       "            <tr>\n",
       "                        <th id=\"T_be6be1ca_74f5_11ea_aa8b_701ce71031eflevel0_row21\" class=\"row_heading level0 row21\" >15</th>\n",
       "                        <td id=\"T_be6be1ca_74f5_11ea_aa8b_701ce71031efrow21_col0\" class=\"data row21 col0\" >etl</td>\n",
       "                        <td id=\"T_be6be1ca_74f5_11ea_aa8b_701ce71031efrow21_col1\" class=\"data row21 col1\" >14104</td>\n",
       "                        <td id=\"T_be6be1ca_74f5_11ea_aa8b_701ce71031efrow21_col2\" class=\"data row21 col2\" >6225.000000</td>\n",
       "                        <td id=\"T_be6be1ca_74f5_11ea_aa8b_701ce71031efrow21_col3\" class=\"data row21 col3\" >13500</td>\n",
       "                        <td id=\"T_be6be1ca_74f5_11ea_aa8b_701ce71031efrow21_col4\" class=\"data row21 col4\" >20196.350000</td>\n",
       "                        <td id=\"T_be6be1ca_74f5_11ea_aa8b_701ce71031efrow21_col5\" class=\"data row21 col5\" >407</td>\n",
       "                        <td id=\"T_be6be1ca_74f5_11ea_aa8b_701ce71031efrow21_col6\" class=\"data row21 col6\" >0.42%</td>\n",
       "            </tr>\n",
       "            <tr>\n",
       "                        <th id=\"T_be6be1ca_74f5_11ea_aa8b_701ce71031eflevel0_row22\" class=\"row_heading level0 row22\" >0</th>\n",
       "                        <td id=\"T_be6be1ca_74f5_11ea_aa8b_701ce71031efrow22_col0\" class=\"data row22 col0\" >数据分析</td>\n",
       "                        <td id=\"T_be6be1ca_74f5_11ea_aa8b_701ce71031efrow22_col1\" class=\"data row22 col1\" >11862</td>\n",
       "                        <td id=\"T_be6be1ca_74f5_11ea_aa8b_701ce71031efrow22_col2\" class=\"data row22 col2\" >7000.000000</td>\n",
       "                        <td id=\"T_be6be1ca_74f5_11ea_aa8b_701ce71031efrow22_col3\" class=\"data row22 col3\" >9000</td>\n",
       "                        <td id=\"T_be6be1ca_74f5_11ea_aa8b_701ce71031efrow22_col4\" class=\"data row22 col4\" >29166.000000</td>\n",
       "                        <td id=\"T_be6be1ca_74f5_11ea_aa8b_701ce71031efrow22_col5\" class=\"data row22 col5\" >689</td>\n",
       "                        <td id=\"T_be6be1ca_74f5_11ea_aa8b_701ce71031efrow22_col6\" class=\"data row22 col6\" >0.71%</td>\n",
       "            </tr>\n",
       "            <tr>\n",
       "                        <th id=\"T_be6be1ca_74f5_11ea_aa8b_701ce71031eflevel0_row23\" class=\"row_heading level0 row23\" >20</th>\n",
       "                        <td id=\"T_be6be1ca_74f5_11ea_aa8b_701ce71031efrow23_col0\" class=\"data row23 col0\" >生物信息工程师</td>\n",
       "                        <td id=\"T_be6be1ca_74f5_11ea_aa8b_701ce71031efrow23_col1\" class=\"data row23 col1\" >11450</td>\n",
       "                        <td id=\"T_be6be1ca_74f5_11ea_aa8b_701ce71031efrow23_col2\" class=\"data row23 col2\" >7000.000000</td>\n",
       "                        <td id=\"T_be6be1ca_74f5_11ea_aa8b_701ce71031efrow23_col3\" class=\"data row23 col3\" >12929</td>\n",
       "                        <td id=\"T_be6be1ca_74f5_11ea_aa8b_701ce71031efrow23_col4\" class=\"data row23 col4\" >15000.000000</td>\n",
       "                        <td id=\"T_be6be1ca_74f5_11ea_aa8b_701ce71031efrow23_col5\" class=\"data row23 col5\" >20</td>\n",
       "                        <td id=\"T_be6be1ca_74f5_11ea_aa8b_701ce71031efrow23_col6\" class=\"data row23 col6\" >0.02%</td>\n",
       "            </tr>\n",
       "    </tbody></table>"
      ],
      "text/plain": [
       "<pandas.io.formats.style.Styler at 0x1969b98b288>"
      ]
     },
     "execution_count": 21,
     "metadata": {},
     "output_type": "execute_result"
    }
   ],
   "source": [
    "data_career = get_sub_stats_by_col(data,'career')\n",
    "data_career.style.format({\"salary_mean\":\"{:.0f}\",\"salary_median\":\"{:.0f}\",\"percentage\":\"{:.2%}\"})"
   ]
  },
  {
   "cell_type": "code",
   "execution_count": 22,
   "metadata": {},
   "outputs": [
    {
     "data": {
      "text/plain": [
       "17061.50576560423"
      ]
     },
     "execution_count": 22,
     "metadata": {},
     "output_type": "execute_result"
    }
   ],
   "source": [
    "np.sum(data.monthly_salary * data.headcount) / data.headcount.sum()"
   ]
  },
  {
   "cell_type": "code",
   "execution_count": 23,
   "metadata": {},
   "outputs": [
    {
     "data": {
      "text/plain": [
       "97041"
      ]
     },
     "execution_count": 23,
     "metadata": {},
     "output_type": "execute_result"
    }
   ],
   "source": [
    "data.headcount.sum()"
   ]
  },
  {
   "cell_type": "code",
   "execution_count": 24,
   "metadata": {},
   "outputs": [
    {
     "data": {
      "text/plain": [
       "count    30429.000000\n",
       "mean         3.189096\n",
       "std          4.033830\n",
       "min          1.000000\n",
       "25%          1.000000\n",
       "50%          2.000000\n",
       "75%          5.000000\n",
       "max        280.000000\n",
       "Name: headcount, dtype: float64"
      ]
     },
     "execution_count": 24,
     "metadata": {},
     "output_type": "execute_result"
    }
   ],
   "source": [
    "data.headcount.describe()"
   ]
  },
  {
   "cell_type": "code",
   "execution_count": 25,
   "metadata": {},
   "outputs": [],
   "source": [
    "pd.options.display.max_columns=100\n"
   ]
  },
  {
   "cell_type": "markdown",
   "metadata": {},
   "source": []
  },
  {
   "cell_type": "code",
   "execution_count": 26,
   "metadata": {},
   "outputs": [
    {
     "data": {
      "text/plain": [
       "97041"
      ]
     },
     "execution_count": 26,
     "metadata": {},
     "output_type": "execute_result"
    }
   ],
   "source": [
    "data.headcount.sum()"
   ]
  },
  {
   "cell_type": "markdown",
   "metadata": {},
   "source": [
    "# 城市"
   ]
  },
  {
   "cell_type": "code",
   "execution_count": 27,
   "metadata": {},
   "outputs": [],
   "source": [
    "headcount_by_cities = data.groupby(by='city').headcount.sum()"
   ]
  },
  {
   "cell_type": "code",
   "execution_count": 28,
   "metadata": {},
   "outputs": [
    {
     "data": {
      "text/plain": [
       "city\n",
       "上海    33597\n",
       "北京    17560\n",
       "广州    19771\n",
       "深圳    26113\n",
       "Name: headcount, dtype: int64"
      ]
     },
     "execution_count": 28,
     "metadata": {},
     "output_type": "execute_result"
    }
   ],
   "source": [
    "headcount_by_cities\n"
   ]
  },
  {
   "cell_type": "code",
   "execution_count": 29,
   "metadata": {},
   "outputs": [
    {
     "data": {
      "image/png": "[encoded data removed]",
      "text/plain": [
       "<Figure size 720x576 with 1 Axes>"
      ]
     },
     "metadata": {},
     "output_type": "display_data"
    }
   ],
   "source": [
    "plt.figure(figsize=(10,8))\n",
    "plt.pie(headcount_by_cities.values, labels=headcount_by_cities.index, autopct='%1.1f%%')\n",
    "plt.show()"
   ]
  },
  {
   "cell_type": "code",
   "execution_count": 30,
   "metadata": {},
   "outputs": [
    {
     "data": {
      "text/html": [
       "<style  type=\"text/css\" >\n",
       "</style><table id=\"T_c44d4cbe_74f5_11ea_b243_701ce71031ef\" ><thead>    <tr>        <th class=\"col_heading level0 col0\" >city</th>        <th class=\"col_heading level0 col1\" >salary_mean</th>        <th class=\"col_heading level0 col2\" >salary_95_min</th>        <th class=\"col_heading level0 col3\" >salary_median</th>        <th class=\"col_heading level0 col4\" >salary_95_max</th>        <th class=\"col_heading level0 col5\" >head_count</th>        <th class=\"col_heading level0 col6\" >percentage</th>    </tr></thead><tbody>\n",
       "                <tr>\n",
       "                                <td id=\"T_c44d4cbe_74f5_11ea_b243_701ce71031efrow0_col0\" class=\"data row0 col0\" >北京</td>\n",
       "                        <td id=\"T_c44d4cbe_74f5_11ea_b243_701ce71031efrow0_col1\" class=\"data row0 col1\" >19268</td>\n",
       "                        <td id=\"T_c44d4cbe_74f5_11ea_b243_701ce71031efrow0_col2\" class=\"data row0 col2\" >6500</td>\n",
       "                        <td id=\"T_c44d4cbe_74f5_11ea_b243_701ce71031efrow0_col3\" class=\"data row0 col3\" >17500</td>\n",
       "                        <td id=\"T_c44d4cbe_74f5_11ea_b243_701ce71031efrow0_col4\" class=\"data row0 col4\" >45000</td>\n",
       "                        <td id=\"T_c44d4cbe_74f5_11ea_b243_701ce71031efrow0_col5\" class=\"data row0 col5\" >17560</td>\n",
       "                        <td id=\"T_c44d4cbe_74f5_11ea_b243_701ce71031efrow0_col6\" class=\"data row0 col6\" >18.10%</td>\n",
       "            </tr>\n",
       "            <tr>\n",
       "                                <td id=\"T_c44d4cbe_74f5_11ea_b243_701ce71031efrow1_col0\" class=\"data row1 col0\" >上海</td>\n",
       "                        <td id=\"T_c44d4cbe_74f5_11ea_b243_701ce71031efrow1_col1\" class=\"data row1 col1\" >17415</td>\n",
       "                        <td id=\"T_c44d4cbe_74f5_11ea_b243_701ce71031efrow1_col2\" class=\"data row1 col2\" >7000</td>\n",
       "                        <td id=\"T_c44d4cbe_74f5_11ea_b243_701ce71031efrow1_col3\" class=\"data row1 col3\" >15000</td>\n",
       "                        <td id=\"T_c44d4cbe_74f5_11ea_b243_701ce71031efrow1_col4\" class=\"data row1 col4\" >40000</td>\n",
       "                        <td id=\"T_c44d4cbe_74f5_11ea_b243_701ce71031efrow1_col5\" class=\"data row1 col5\" >33597</td>\n",
       "                        <td id=\"T_c44d4cbe_74f5_11ea_b243_701ce71031efrow1_col6\" class=\"data row1 col6\" >34.62%</td>\n",
       "            </tr>\n",
       "            <tr>\n",
       "                                <td id=\"T_c44d4cbe_74f5_11ea_b243_701ce71031efrow2_col0\" class=\"data row2 col0\" >深圳</td>\n",
       "                        <td id=\"T_c44d4cbe_74f5_11ea_b243_701ce71031efrow2_col1\" class=\"data row2 col1\" >17169</td>\n",
       "                        <td id=\"T_c44d4cbe_74f5_11ea_b243_701ce71031efrow2_col2\" class=\"data row2 col2\" >6500</td>\n",
       "                        <td id=\"T_c44d4cbe_74f5_11ea_b243_701ce71031efrow2_col3\" class=\"data row2 col3\" >15000</td>\n",
       "                        <td id=\"T_c44d4cbe_74f5_11ea_b243_701ce71031efrow2_col4\" class=\"data row2 col4\" >37500</td>\n",
       "                        <td id=\"T_c44d4cbe_74f5_11ea_b243_701ce71031efrow2_col5\" class=\"data row2 col5\" >26113</td>\n",
       "                        <td id=\"T_c44d4cbe_74f5_11ea_b243_701ce71031efrow2_col6\" class=\"data row2 col6\" >26.91%</td>\n",
       "            </tr>\n",
       "            <tr>\n",
       "                                <td id=\"T_c44d4cbe_74f5_11ea_b243_701ce71031efrow3_col0\" class=\"data row3 col0\" >广州</td>\n",
       "                        <td id=\"T_c44d4cbe_74f5_11ea_b243_701ce71031efrow3_col1\" class=\"data row3 col1\" >14360</td>\n",
       "                        <td id=\"T_c44d4cbe_74f5_11ea_b243_701ce71031efrow3_col2\" class=\"data row3 col2\" >5328</td>\n",
       "                        <td id=\"T_c44d4cbe_74f5_11ea_b243_701ce71031efrow3_col3\" class=\"data row3 col3\" >12500</td>\n",
       "                        <td id=\"T_c44d4cbe_74f5_11ea_b243_701ce71031efrow3_col4\" class=\"data row3 col4\" >30000</td>\n",
       "                        <td id=\"T_c44d4cbe_74f5_11ea_b243_701ce71031efrow3_col5\" class=\"data row3 col5\" >19771</td>\n",
       "                        <td id=\"T_c44d4cbe_74f5_11ea_b243_701ce71031efrow3_col6\" class=\"data row3 col6\" >20.37%</td>\n",
       "            </tr>\n",
       "    </tbody></table>"
      ],
      "text/plain": [
       "<pandas.io.formats.style.Styler at 0x196a020de48>"
      ]
     },
     "execution_count": 30,
     "metadata": {},
     "output_type": "execute_result"
    }
   ],
   "source": [
    "data_pl=get_sub_stats_by_col(data,'city')\n",
    "apply_style(data_pl)"
   ]
  },
  {
   "cell_type": "code",
   "execution_count": 31,
   "metadata": {},
   "outputs": [],
   "source": [
    "salary_beijing=data[data.city=='北京'].monthly_salary\n",
    "salary_shanghai=data[data.city=='上海'].monthly_salary\n",
    "salary_guangzhou=data[data.city=='广州'].monthly_salary\n",
    "salary_shenzhen=data[data.city=='深圳'].monthly_salary"
   ]
  },
  {
   "cell_type": "code",
   "execution_count": null,
   "metadata": {},
   "outputs": [],
   "source": []
  },
  {
   "cell_type": "code",
   "execution_count": 32,
   "metadata": {},
   "outputs": [
    {
     "data": {
      "text/plain": [
       "F_onewayResult(statistic=151.2824673196333, pvalue=1.3354877293755416e-34)"
      ]
     },
     "execution_count": 32,
     "metadata": {},
     "output_type": "execute_result"
    }
   ],
   "source": [
    "stats.f_oneway(salary_beijing, salary_shanghai)"
   ]
  },
  {
   "cell_type": "code",
   "execution_count": 33,
   "metadata": {},
   "outputs": [
    {
     "data": {
      "text/plain": [
       "F_onewayResult(statistic=37.25935693476756, pvalue=1.0538712751880982e-09)"
      ]
     },
     "execution_count": 33,
     "metadata": {},
     "output_type": "execute_result"
    }
   ],
   "source": [
    "stats.f_oneway(salary_shanghai, salary_shenzhen)"
   ]
  },
  {
   "cell_type": "code",
   "execution_count": 34,
   "metadata": {},
   "outputs": [
    {
     "data": {
      "text/plain": [
       "F_onewayResult(statistic=503.71444176979026, pvalue=8.357616969649521e-110)"
      ]
     },
     "execution_count": 34,
     "metadata": {},
     "output_type": "execute_result"
    }
   ],
   "source": [
    "stats.f_oneway(salary_shenzhen, salary_guangzhou)"
   ]
  },
  {
   "cell_type": "markdown",
   "metadata": {},
   "source": [
    "# 编程语言"
   ]
  },
  {
   "cell_type": "code",
   "execution_count": 35,
   "metadata": {},
   "outputs": [
    {
     "data": {
      "text/html": [
       "<style  type=\"text/css\" >\n",
       "</style><table id=\"T_c84817ca_74f5_11ea_8062_701ce71031ef\" ><thead>    <tr>        <th class=\"col_heading level0 col0\" >rank</th>        <th class=\"col_heading level0 col1\" >pl_</th>        <th class=\"col_heading level0 col2\" >salary_mean</th>        <th class=\"col_heading level0 col3\" >salary_median</th>        <th class=\"col_heading level0 col4\" >salary_95_min</th>        <th class=\"col_heading level0 col5\" >salary_95_max</th>        <th class=\"col_heading level0 col6\" >head_count</th>        <th class=\"col_heading level0 col7\" >percentage</th>    </tr></thead><tbody>\n",
       "                <tr>\n",
       "                                <td id=\"T_c84817ca_74f5_11ea_8062_701ce71031efrow0_col0\" class=\"data row0 col0\" >1</td>\n",
       "                        <td id=\"T_c84817ca_74f5_11ea_8062_701ce71031efrow0_col1\" class=\"data row0 col1\" >rust</td>\n",
       "                        <td id=\"T_c84817ca_74f5_11ea_8062_701ce71031efrow0_col2\" class=\"data row0 col2\" >25257</td>\n",
       "                        <td id=\"T_c84817ca_74f5_11ea_8062_701ce71031efrow0_col3\" class=\"data row0 col3\" >27500</td>\n",
       "                        <td id=\"T_c84817ca_74f5_11ea_8062_701ce71031efrow0_col4\" class=\"data row0 col4\" >9000</td>\n",
       "                        <td id=\"T_c84817ca_74f5_11ea_8062_701ce71031efrow0_col5\" class=\"data row0 col5\" >45000</td>\n",
       "                        <td id=\"T_c84817ca_74f5_11ea_8062_701ce71031efrow0_col6\" class=\"data row0 col6\" >242</td>\n",
       "                        <td id=\"T_c84817ca_74f5_11ea_8062_701ce71031efrow0_col7\" class=\"data row0 col7\" >0.16%</td>\n",
       "            </tr>\n",
       "            <tr>\n",
       "                                <td id=\"T_c84817ca_74f5_11ea_8062_701ce71031efrow1_col0\" class=\"data row1 col0\" >2</td>\n",
       "                        <td id=\"T_c84817ca_74f5_11ea_8062_701ce71031efrow1_col1\" class=\"data row1 col1\" >ruby</td>\n",
       "                        <td id=\"T_c84817ca_74f5_11ea_8062_701ce71031efrow1_col2\" class=\"data row1 col2\" >23824</td>\n",
       "                        <td id=\"T_c84817ca_74f5_11ea_8062_701ce71031efrow1_col3\" class=\"data row1 col3\" >20000</td>\n",
       "                        <td id=\"T_c84817ca_74f5_11ea_8062_701ce71031efrow1_col4\" class=\"data row1 col4\" >6145</td>\n",
       "                        <td id=\"T_c84817ca_74f5_11ea_8062_701ce71031efrow1_col5\" class=\"data row1 col5\" >45000</td>\n",
       "                        <td id=\"T_c84817ca_74f5_11ea_8062_701ce71031efrow1_col6\" class=\"data row1 col6\" >529</td>\n",
       "                        <td id=\"T_c84817ca_74f5_11ea_8062_701ce71031efrow1_col7\" class=\"data row1 col7\" >0.34%</td>\n",
       "            </tr>\n",
       "            <tr>\n",
       "                                <td id=\"T_c84817ca_74f5_11ea_8062_701ce71031efrow2_col0\" class=\"data row2 col0\" >3</td>\n",
       "                        <td id=\"T_c84817ca_74f5_11ea_8062_701ce71031efrow2_col1\" class=\"data row2 col1\" >scala</td>\n",
       "                        <td id=\"T_c84817ca_74f5_11ea_8062_701ce71031efrow2_col2\" class=\"data row2 col2\" >23030</td>\n",
       "                        <td id=\"T_c84817ca_74f5_11ea_8062_701ce71031efrow2_col3\" class=\"data row2 col3\" >20833</td>\n",
       "                        <td id=\"T_c84817ca_74f5_11ea_8062_701ce71031efrow2_col4\" class=\"data row2 col4\" >8342</td>\n",
       "                        <td id=\"T_c84817ca_74f5_11ea_8062_701ce71031efrow2_col5\" class=\"data row2 col5\" >45000</td>\n",
       "                        <td id=\"T_c84817ca_74f5_11ea_8062_701ce71031efrow2_col6\" class=\"data row2 col6\" >1157</td>\n",
       "                        <td id=\"T_c84817ca_74f5_11ea_8062_701ce71031efrow2_col7\" class=\"data row2 col7\" >0.75%</td>\n",
       "            </tr>\n",
       "            <tr>\n",
       "                                <td id=\"T_c84817ca_74f5_11ea_8062_701ce71031efrow3_col0\" class=\"data row3 col0\" >4</td>\n",
       "                        <td id=\"T_c84817ca_74f5_11ea_8062_701ce71031efrow3_col1\" class=\"data row3 col1\" >python</td>\n",
       "                        <td id=\"T_c84817ca_74f5_11ea_8062_701ce71031efrow3_col2\" class=\"data row3 col2\" >21944</td>\n",
       "                        <td id=\"T_c84817ca_74f5_11ea_8062_701ce71031efrow3_col3\" class=\"data row3 col3\" >20000</td>\n",
       "                        <td id=\"T_c84817ca_74f5_11ea_8062_701ce71031efrow3_col4\" class=\"data row3 col4\" >7000</td>\n",
       "                        <td id=\"T_c84817ca_74f5_11ea_8062_701ce71031efrow3_col5\" class=\"data row3 col5\" >45000</td>\n",
       "                        <td id=\"T_c84817ca_74f5_11ea_8062_701ce71031efrow3_col6\" class=\"data row3 col6\" >14077</td>\n",
       "                        <td id=\"T_c84817ca_74f5_11ea_8062_701ce71031efrow3_col7\" class=\"data row3 col7\" >9.08%</td>\n",
       "            </tr>\n",
       "            <tr>\n",
       "                                <td id=\"T_c84817ca_74f5_11ea_8062_701ce71031efrow4_col0\" class=\"data row4 col0\" >5</td>\n",
       "                        <td id=\"T_c84817ca_74f5_11ea_8062_701ce71031efrow4_col1\" class=\"data row4 col1\" >go</td>\n",
       "                        <td id=\"T_c84817ca_74f5_11ea_8062_701ce71031efrow4_col2\" class=\"data row4 col2\" >21766</td>\n",
       "                        <td id=\"T_c84817ca_74f5_11ea_8062_701ce71031efrow4_col3\" class=\"data row4 col3\" >20000</td>\n",
       "                        <td id=\"T_c84817ca_74f5_11ea_8062_701ce71031efrow4_col4\" class=\"data row4 col4\" >7554</td>\n",
       "                        <td id=\"T_c84817ca_74f5_11ea_8062_701ce71031efrow4_col5\" class=\"data row4 col5\" >45000</td>\n",
       "                        <td id=\"T_c84817ca_74f5_11ea_8062_701ce71031efrow4_col6\" class=\"data row4 col6\" >13335</td>\n",
       "                        <td id=\"T_c84817ca_74f5_11ea_8062_701ce71031efrow4_col7\" class=\"data row4 col7\" >8.60%</td>\n",
       "            </tr>\n",
       "            <tr>\n",
       "                                <td id=\"T_c84817ca_74f5_11ea_8062_701ce71031efrow5_col0\" class=\"data row5 col0\" >6</td>\n",
       "                        <td id=\"T_c84817ca_74f5_11ea_8062_701ce71031efrow5_col1\" class=\"data row5 col1\" >lua</td>\n",
       "                        <td id=\"T_c84817ca_74f5_11ea_8062_701ce71031efrow5_col2\" class=\"data row5 col2\" >21371</td>\n",
       "                        <td id=\"T_c84817ca_74f5_11ea_8062_701ce71031efrow5_col3\" class=\"data row5 col3\" >20000</td>\n",
       "                        <td id=\"T_c84817ca_74f5_11ea_8062_701ce71031efrow5_col4\" class=\"data row5 col4\" >7000</td>\n",
       "                        <td id=\"T_c84817ca_74f5_11ea_8062_701ce71031efrow5_col5\" class=\"data row5 col5\" >42071</td>\n",
       "                        <td id=\"T_c84817ca_74f5_11ea_8062_701ce71031efrow5_col6\" class=\"data row5 col6\" >1312</td>\n",
       "                        <td id=\"T_c84817ca_74f5_11ea_8062_701ce71031efrow5_col7\" class=\"data row5 col7\" >0.85%</td>\n",
       "            </tr>\n",
       "            <tr>\n",
       "                                <td id=\"T_c84817ca_74f5_11ea_8062_701ce71031efrow6_col0\" class=\"data row6 col0\" >7</td>\n",
       "                        <td id=\"T_c84817ca_74f5_11ea_8062_701ce71031efrow6_col1\" class=\"data row6 col1\" >r</td>\n",
       "                        <td id=\"T_c84817ca_74f5_11ea_8062_701ce71031efrow6_col2\" class=\"data row6 col2\" >20517</td>\n",
       "                        <td id=\"T_c84817ca_74f5_11ea_8062_701ce71031efrow6_col3\" class=\"data row6 col3\" >17500</td>\n",
       "                        <td id=\"T_c84817ca_74f5_11ea_8062_701ce71031efrow6_col4\" class=\"data row6 col4\" >5833</td>\n",
       "                        <td id=\"T_c84817ca_74f5_11ea_8062_701ce71031efrow6_col5\" class=\"data row6 col5\" >47175</td>\n",
       "                        <td id=\"T_c84817ca_74f5_11ea_8062_701ce71031efrow6_col6\" class=\"data row6 col6\" >1293</td>\n",
       "                        <td id=\"T_c84817ca_74f5_11ea_8062_701ce71031efrow6_col7\" class=\"data row6 col7\" >0.83%</td>\n",
       "            </tr>\n",
       "            <tr>\n",
       "                                <td id=\"T_c84817ca_74f5_11ea_8062_701ce71031efrow7_col0\" class=\"data row7 col0\" >8</td>\n",
       "                        <td id=\"T_c84817ca_74f5_11ea_8062_701ce71031efrow7_col1\" class=\"data row7 col1\" >matlab</td>\n",
       "                        <td id=\"T_c84817ca_74f5_11ea_8062_701ce71031efrow7_col2\" class=\"data row7 col2\" >20213</td>\n",
       "                        <td id=\"T_c84817ca_74f5_11ea_8062_701ce71031efrow7_col3\" class=\"data row7 col3\" >19000</td>\n",
       "                        <td id=\"T_c84817ca_74f5_11ea_8062_701ce71031efrow7_col4\" class=\"data row7 col4\" >7000</td>\n",
       "                        <td id=\"T_c84817ca_74f5_11ea_8062_701ce71031efrow7_col5\" class=\"data row7 col5\" >40000</td>\n",
       "                        <td id=\"T_c84817ca_74f5_11ea_8062_701ce71031efrow7_col6\" class=\"data row7 col6\" >2708</td>\n",
       "                        <td id=\"T_c84817ca_74f5_11ea_8062_701ce71031efrow7_col7\" class=\"data row7 col7\" >1.75%</td>\n",
       "            </tr>\n",
       "            <tr>\n",
       "                                <td id=\"T_c84817ca_74f5_11ea_8062_701ce71031efrow8_col0\" class=\"data row8 col0\" >9</td>\n",
       "                        <td id=\"T_c84817ca_74f5_11ea_8062_701ce71031efrow8_col1\" class=\"data row8 col1\" >perl</td>\n",
       "                        <td id=\"T_c84817ca_74f5_11ea_8062_701ce71031efrow8_col2\" class=\"data row8 col2\" >18982</td>\n",
       "                        <td id=\"T_c84817ca_74f5_11ea_8062_701ce71031efrow8_col3\" class=\"data row8 col3\" >17500</td>\n",
       "                        <td id=\"T_c84817ca_74f5_11ea_8062_701ce71031efrow8_col4\" class=\"data row8 col4\" >5250</td>\n",
       "                        <td id=\"T_c84817ca_74f5_11ea_8062_701ce71031efrow8_col5\" class=\"data row8 col5\" >43833</td>\n",
       "                        <td id=\"T_c84817ca_74f5_11ea_8062_701ce71031efrow8_col6\" class=\"data row8 col6\" >1022</td>\n",
       "                        <td id=\"T_c84817ca_74f5_11ea_8062_701ce71031efrow8_col7\" class=\"data row8 col7\" >0.66%</td>\n",
       "            </tr>\n",
       "            <tr>\n",
       "                                <td id=\"T_c84817ca_74f5_11ea_8062_701ce71031efrow9_col0\" class=\"data row9 col0\" >10</td>\n",
       "                        <td id=\"T_c84817ca_74f5_11ea_8062_701ce71031efrow9_col1\" class=\"data row9 col1\" >typescript</td>\n",
       "                        <td id=\"T_c84817ca_74f5_11ea_8062_701ce71031efrow9_col2\" class=\"data row9 col2\" >17839</td>\n",
       "                        <td id=\"T_c84817ca_74f5_11ea_8062_701ce71031efrow9_col3\" class=\"data row9 col3\" >16333</td>\n",
       "                        <td id=\"T_c84817ca_74f5_11ea_8062_701ce71031efrow9_col4\" class=\"data row9 col4\" >7312</td>\n",
       "                        <td id=\"T_c84817ca_74f5_11ea_8062_701ce71031efrow9_col5\" class=\"data row9 col5\" >37500</td>\n",
       "                        <td id=\"T_c84817ca_74f5_11ea_8062_701ce71031efrow9_col6\" class=\"data row9 col6\" >390</td>\n",
       "                        <td id=\"T_c84817ca_74f5_11ea_8062_701ce71031efrow9_col7\" class=\"data row9 col7\" >0.25%</td>\n",
       "            </tr>\n",
       "            <tr>\n",
       "                                <td id=\"T_c84817ca_74f5_11ea_8062_701ce71031efrow10_col0\" class=\"data row10 col0\" >11</td>\n",
       "                        <td id=\"T_c84817ca_74f5_11ea_8062_701ce71031efrow10_col1\" class=\"data row10 col1\" >cpp</td>\n",
       "                        <td id=\"T_c84817ca_74f5_11ea_8062_701ce71031efrow10_col2\" class=\"data row10 col2\" >17615</td>\n",
       "                        <td id=\"T_c84817ca_74f5_11ea_8062_701ce71031efrow10_col3\" class=\"data row10 col3\" >15000</td>\n",
       "                        <td id=\"T_c84817ca_74f5_11ea_8062_701ce71031efrow10_col4\" class=\"data row10 col4\" >6000</td>\n",
       "                        <td id=\"T_c84817ca_74f5_11ea_8062_701ce71031efrow10_col5\" class=\"data row10 col5\" >40000</td>\n",
       "                        <td id=\"T_c84817ca_74f5_11ea_8062_701ce71031efrow10_col6\" class=\"data row10 col6\" >39916</td>\n",
       "                        <td id=\"T_c84817ca_74f5_11ea_8062_701ce71031efrow10_col7\" class=\"data row10 col7\" >25.75%</td>\n",
       "            </tr>\n",
       "            <tr>\n",
       "                                <td id=\"T_c84817ca_74f5_11ea_8062_701ce71031efrow11_col0\" class=\"data row11 col0\" >12</td>\n",
       "                        <td id=\"T_c84817ca_74f5_11ea_8062_701ce71031efrow11_col1\" class=\"data row11 col1\" >php</td>\n",
       "                        <td id=\"T_c84817ca_74f5_11ea_8062_701ce71031efrow11_col2\" class=\"data row11 col2\" >17541</td>\n",
       "                        <td id=\"T_c84817ca_74f5_11ea_8062_701ce71031efrow11_col3\" class=\"data row11 col3\" >15000</td>\n",
       "                        <td id=\"T_c84817ca_74f5_11ea_8062_701ce71031efrow11_col4\" class=\"data row11 col4\" >5250</td>\n",
       "                        <td id=\"T_c84817ca_74f5_11ea_8062_701ce71031efrow11_col5\" class=\"data row11 col5\" >42500</td>\n",
       "                        <td id=\"T_c84817ca_74f5_11ea_8062_701ce71031efrow11_col6\" class=\"data row11 col6\" >5915</td>\n",
       "                        <td id=\"T_c84817ca_74f5_11ea_8062_701ce71031efrow11_col7\" class=\"data row11 col7\" >3.82%</td>\n",
       "            </tr>\n",
       "            <tr>\n",
       "                                <td id=\"T_c84817ca_74f5_11ea_8062_701ce71031efrow12_col0\" class=\"data row12 col0\" >13</td>\n",
       "                        <td id=\"T_c84817ca_74f5_11ea_8062_701ce71031efrow12_col1\" class=\"data row12 col1\" >swift</td>\n",
       "                        <td id=\"T_c84817ca_74f5_11ea_8062_701ce71031efrow12_col2\" class=\"data row12 col2\" >17446</td>\n",
       "                        <td id=\"T_c84817ca_74f5_11ea_8062_701ce71031efrow12_col3\" class=\"data row12 col3\" >16000</td>\n",
       "                        <td id=\"T_c84817ca_74f5_11ea_8062_701ce71031efrow12_col4\" class=\"data row12 col4\" >7525</td>\n",
       "                        <td id=\"T_c84817ca_74f5_11ea_8062_701ce71031efrow12_col5\" class=\"data row12 col5\" >35049</td>\n",
       "                        <td id=\"T_c84817ca_74f5_11ea_8062_701ce71031efrow12_col6\" class=\"data row12 col6\" >966</td>\n",
       "                        <td id=\"T_c84817ca_74f5_11ea_8062_701ce71031efrow12_col7\" class=\"data row12 col7\" >0.62%</td>\n",
       "            </tr>\n",
       "            <tr>\n",
       "                                <td id=\"T_c84817ca_74f5_11ea_8062_701ce71031efrow13_col0\" class=\"data row13 col0\" >14</td>\n",
       "                        <td id=\"T_c84817ca_74f5_11ea_8062_701ce71031efrow13_col1\" class=\"data row13 col1\" >kotlin</td>\n",
       "                        <td id=\"T_c84817ca_74f5_11ea_8062_701ce71031efrow13_col2\" class=\"data row13 col2\" >17401</td>\n",
       "                        <td id=\"T_c84817ca_74f5_11ea_8062_701ce71031efrow13_col3\" class=\"data row13 col3\" >17500</td>\n",
       "                        <td id=\"T_c84817ca_74f5_11ea_8062_701ce71031efrow13_col4\" class=\"data row13 col4\" >8000</td>\n",
       "                        <td id=\"T_c84817ca_74f5_11ea_8062_701ce71031efrow13_col5\" class=\"data row13 col5\" >34208</td>\n",
       "                        <td id=\"T_c84817ca_74f5_11ea_8062_701ce71031efrow13_col6\" class=\"data row13 col6\" >378</td>\n",
       "                        <td id=\"T_c84817ca_74f5_11ea_8062_701ce71031efrow13_col7\" class=\"data row13 col7\" >0.24%</td>\n",
       "            </tr>\n",
       "            <tr>\n",
       "                                <td id=\"T_c84817ca_74f5_11ea_8062_701ce71031efrow14_col0\" class=\"data row14 col0\" >15</td>\n",
       "                        <td id=\"T_c84817ca_74f5_11ea_8062_701ce71031efrow14_col1\" class=\"data row14 col1\" >java</td>\n",
       "                        <td id=\"T_c84817ca_74f5_11ea_8062_701ce71031efrow14_col2\" class=\"data row14 col2\" >16793</td>\n",
       "                        <td id=\"T_c84817ca_74f5_11ea_8062_701ce71031efrow14_col3\" class=\"data row14 col3\" >15000</td>\n",
       "                        <td id=\"T_c84817ca_74f5_11ea_8062_701ce71031efrow14_col4\" class=\"data row14 col4\" >7000</td>\n",
       "                        <td id=\"T_c84817ca_74f5_11ea_8062_701ce71031efrow14_col5\" class=\"data row14 col5\" >37500</td>\n",
       "                        <td id=\"T_c84817ca_74f5_11ea_8062_701ce71031efrow14_col6\" class=\"data row14 col6\" >42023</td>\n",
       "                        <td id=\"T_c84817ca_74f5_11ea_8062_701ce71031efrow14_col7\" class=\"data row14 col7\" >27.11%</td>\n",
       "            </tr>\n",
       "            <tr>\n",
       "                                <td id=\"T_c84817ca_74f5_11ea_8062_701ce71031efrow15_col0\" class=\"data row15 col0\" >16</td>\n",
       "                        <td id=\"T_c84817ca_74f5_11ea_8062_701ce71031efrow15_col1\" class=\"data row15 col1\" >haskell</td>\n",
       "                        <td id=\"T_c84817ca_74f5_11ea_8062_701ce71031efrow15_col2\" class=\"data row15 col2\" >15000</td>\n",
       "                        <td id=\"T_c84817ca_74f5_11ea_8062_701ce71031efrow15_col3\" class=\"data row15 col3\" >15000</td>\n",
       "                        <td id=\"T_c84817ca_74f5_11ea_8062_701ce71031efrow15_col4\" class=\"data row15 col4\" >11500</td>\n",
       "                        <td id=\"T_c84817ca_74f5_11ea_8062_701ce71031efrow15_col5\" class=\"data row15 col5\" >22000</td>\n",
       "                        <td id=\"T_c84817ca_74f5_11ea_8062_701ce71031efrow15_col6\" class=\"data row15 col6\" >28</td>\n",
       "                        <td id=\"T_c84817ca_74f5_11ea_8062_701ce71031efrow15_col7\" class=\"data row15 col7\" >0.02%</td>\n",
       "            </tr>\n",
       "            <tr>\n",
       "                                <td id=\"T_c84817ca_74f5_11ea_8062_701ce71031efrow16_col0\" class=\"data row16 col0\" >17</td>\n",
       "                        <td id=\"T_c84817ca_74f5_11ea_8062_701ce71031efrow16_col1\" class=\"data row16 col1\" >c_sharp</td>\n",
       "                        <td id=\"T_c84817ca_74f5_11ea_8062_701ce71031efrow16_col2\" class=\"data row16 col2\" >14281</td>\n",
       "                        <td id=\"T_c84817ca_74f5_11ea_8062_701ce71031efrow16_col3\" class=\"data row16 col3\" >12500</td>\n",
       "                        <td id=\"T_c84817ca_74f5_11ea_8062_701ce71031efrow16_col4\" class=\"data row16 col4\" >5250</td>\n",
       "                        <td id=\"T_c84817ca_74f5_11ea_8062_701ce71031efrow16_col5\" class=\"data row16 col5\" >37500</td>\n",
       "                        <td id=\"T_c84817ca_74f5_11ea_8062_701ce71031efrow16_col6\" class=\"data row16 col6\" >15032</td>\n",
       "                        <td id=\"T_c84817ca_74f5_11ea_8062_701ce71031efrow16_col7\" class=\"data row16 col7\" >9.70%</td>\n",
       "            </tr>\n",
       "            <tr>\n",
       "                                <td id=\"T_c84817ca_74f5_11ea_8062_701ce71031efrow17_col0\" class=\"data row17 col0\" >18</td>\n",
       "                        <td id=\"T_c84817ca_74f5_11ea_8062_701ce71031efrow17_col1\" class=\"data row17 col1\" >objective_c</td>\n",
       "                        <td id=\"T_c84817ca_74f5_11ea_8062_701ce71031efrow17_col2\" class=\"data row17 col2\" >14144</td>\n",
       "                        <td id=\"T_c84817ca_74f5_11ea_8062_701ce71031efrow17_col3\" class=\"data row17 col3\" >13000</td>\n",
       "                        <td id=\"T_c84817ca_74f5_11ea_8062_701ce71031efrow17_col4\" class=\"data row17 col4\" >6250</td>\n",
       "                        <td id=\"T_c84817ca_74f5_11ea_8062_701ce71031efrow17_col5\" class=\"data row17 col5\" >28125</td>\n",
       "                        <td id=\"T_c84817ca_74f5_11ea_8062_701ce71031efrow17_col6\" class=\"data row17 col6\" >85</td>\n",
       "                        <td id=\"T_c84817ca_74f5_11ea_8062_701ce71031efrow17_col7\" class=\"data row17 col7\" >0.05%</td>\n",
       "            </tr>\n",
       "            <tr>\n",
       "                                <td id=\"T_c84817ca_74f5_11ea_8062_701ce71031efrow18_col0\" class=\"data row18 col0\" >19</td>\n",
       "                        <td id=\"T_c84817ca_74f5_11ea_8062_701ce71031efrow18_col1\" class=\"data row18 col1\" >javascript</td>\n",
       "                        <td id=\"T_c84817ca_74f5_11ea_8062_701ce71031efrow18_col2\" class=\"data row18 col2\" >13904</td>\n",
       "                        <td id=\"T_c84817ca_74f5_11ea_8062_701ce71031efrow18_col3\" class=\"data row18 col3\" >12500</td>\n",
       "                        <td id=\"T_c84817ca_74f5_11ea_8062_701ce71031efrow18_col4\" class=\"data row18 col4\" >5250</td>\n",
       "                        <td id=\"T_c84817ca_74f5_11ea_8062_701ce71031efrow18_col5\" class=\"data row18 col5\" >27500</td>\n",
       "                        <td id=\"T_c84817ca_74f5_11ea_8062_701ce71031efrow18_col6\" class=\"data row18 col6\" >14050</td>\n",
       "                        <td id=\"T_c84817ca_74f5_11ea_8062_701ce71031efrow18_col7\" class=\"data row18 col7\" >9.06%</td>\n",
       "            </tr>\n",
       "            <tr>\n",
       "                                <td id=\"T_c84817ca_74f5_11ea_8062_701ce71031efrow19_col0\" class=\"data row19 col0\" >20</td>\n",
       "                        <td id=\"T_c84817ca_74f5_11ea_8062_701ce71031efrow19_col1\" class=\"data row19 col1\" >delphi</td>\n",
       "                        <td id=\"T_c84817ca_74f5_11ea_8062_701ce71031efrow19_col2\" class=\"data row19 col2\" >13007</td>\n",
       "                        <td id=\"T_c84817ca_74f5_11ea_8062_701ce71031efrow19_col3\" class=\"data row19 col3\" >12500</td>\n",
       "                        <td id=\"T_c84817ca_74f5_11ea_8062_701ce71031efrow19_col4\" class=\"data row19 col4\" >5517</td>\n",
       "                        <td id=\"T_c84817ca_74f5_11ea_8062_701ce71031efrow19_col5\" class=\"data row19 col5\" >22942</td>\n",
       "                        <td id=\"T_c84817ca_74f5_11ea_8062_701ce71031efrow19_col6\" class=\"data row19 col6\" >367</td>\n",
       "                        <td id=\"T_c84817ca_74f5_11ea_8062_701ce71031efrow19_col7\" class=\"data row19 col7\" >0.24%</td>\n",
       "            </tr>\n",
       "            <tr>\n",
       "                                <td id=\"T_c84817ca_74f5_11ea_8062_701ce71031efrow20_col0\" class=\"data row20 col0\" >21</td>\n",
       "                        <td id=\"T_c84817ca_74f5_11ea_8062_701ce71031efrow20_col1\" class=\"data row20 col1\" >julia</td>\n",
       "                        <td id=\"T_c84817ca_74f5_11ea_8062_701ce71031efrow20_col2\" class=\"data row20 col2\" >12500</td>\n",
       "                        <td id=\"T_c84817ca_74f5_11ea_8062_701ce71031efrow20_col3\" class=\"data row20 col3\" >12500</td>\n",
       "                        <td id=\"T_c84817ca_74f5_11ea_8062_701ce71031efrow20_col4\" class=\"data row20 col4\" >12500</td>\n",
       "                        <td id=\"T_c84817ca_74f5_11ea_8062_701ce71031efrow20_col5\" class=\"data row20 col5\" >12500</td>\n",
       "                        <td id=\"T_c84817ca_74f5_11ea_8062_701ce71031efrow20_col6\" class=\"data row20 col6\" >5</td>\n",
       "                        <td id=\"T_c84817ca_74f5_11ea_8062_701ce71031efrow20_col7\" class=\"data row20 col7\" >0.00%</td>\n",
       "            </tr>\n",
       "            <tr>\n",
       "                                <td id=\"T_c84817ca_74f5_11ea_8062_701ce71031efrow21_col0\" class=\"data row21 col0\" >22</td>\n",
       "                        <td id=\"T_c84817ca_74f5_11ea_8062_701ce71031efrow21_col1\" class=\"data row21 col1\" >visual_basic</td>\n",
       "                        <td id=\"T_c84817ca_74f5_11ea_8062_701ce71031efrow21_col2\" class=\"data row21 col2\" >12399</td>\n",
       "                        <td id=\"T_c84817ca_74f5_11ea_8062_701ce71031efrow21_col3\" class=\"data row21 col3\" >12167</td>\n",
       "                        <td id=\"T_c84817ca_74f5_11ea_8062_701ce71031efrow21_col4\" class=\"data row21 col4\" >6250</td>\n",
       "                        <td id=\"T_c84817ca_74f5_11ea_8062_701ce71031efrow21_col5\" class=\"data row21 col5\" >22500</td>\n",
       "                        <td id=\"T_c84817ca_74f5_11ea_8062_701ce71031efrow21_col6\" class=\"data row21 col6\" >19</td>\n",
       "                        <td id=\"T_c84817ca_74f5_11ea_8062_701ce71031efrow21_col7\" class=\"data row21 col7\" >0.01%</td>\n",
       "            </tr>\n",
       "            <tr>\n",
       "                                <td id=\"T_c84817ca_74f5_11ea_8062_701ce71031efrow22_col0\" class=\"data row22 col0\" >23</td>\n",
       "                        <td id=\"T_c84817ca_74f5_11ea_8062_701ce71031efrow22_col1\" class=\"data row22 col1\" >vba</td>\n",
       "                        <td id=\"T_c84817ca_74f5_11ea_8062_701ce71031efrow22_col2\" class=\"data row22 col2\" >12319</td>\n",
       "                        <td id=\"T_c84817ca_74f5_11ea_8062_701ce71031efrow22_col3\" class=\"data row22 col3\" >12000</td>\n",
       "                        <td id=\"T_c84817ca_74f5_11ea_8062_701ce71031efrow22_col4\" class=\"data row22 col4\" >6212</td>\n",
       "                        <td id=\"T_c84817ca_74f5_11ea_8062_701ce71031efrow22_col5\" class=\"data row22 col5\" >23538</td>\n",
       "                        <td id=\"T_c84817ca_74f5_11ea_8062_701ce71031efrow22_col6\" class=\"data row22 col6\" >177</td>\n",
       "                        <td id=\"T_c84817ca_74f5_11ea_8062_701ce71031efrow22_col7\" class=\"data row22 col7\" >0.11%</td>\n",
       "            </tr>\n",
       "    </tbody></table>"
      ],
      "text/plain": [
       "<pandas.io.formats.style.Styler at 0x196a024c908>"
      ]
     },
     "execution_count": 35,
     "metadata": {},
     "output_type": "execute_result"
    }
   ],
   "source": [
    "data_pl=get_sub_stats_by_prefix(data,'pl_')\n",
    "apply_style(data_pl)"
   ]
  },
  {
   "cell_type": "code",
   "execution_count": null,
   "metadata": {},
   "outputs": [],
   "source": []
  },
  {
   "cell_type": "markdown",
   "metadata": {},
   "source": [
    "数据显示，haskell才是最赚钱的编程语言。python是主流语言里面最赚钱的，比java的工资多了3000元！vb是最不赚钱的了。其中，最赚钱的编程语言和最不赚钱的，工资居然差了2倍。所以，要选好编程语言呀！"
   ]
  },
  {
   "cell_type": "markdown",
   "metadata": {},
   "source": [
    "# 教育"
   ]
  },
  {
   "cell_type": "code",
   "execution_count": 36,
   "metadata": {},
   "outputs": [],
   "source": [
    "edu_counts=data[~(data.edu=='')].groupby(by=['edu']).headcount.sum()"
   ]
  },
  {
   "cell_type": "code",
   "execution_count": 37,
   "metadata": {},
   "outputs": [
    {
     "data": {
      "text/plain": [
       "edu\n",
       "初中及以下        4\n",
       "博士         393\n",
       "大专       23132\n",
       "本科       59567\n",
       "硕士        4089\n",
       "高中         147\n",
       "Name: headcount, dtype: int64"
      ]
     },
     "execution_count": 37,
     "metadata": {},
     "output_type": "execute_result"
    }
   ],
   "source": [
    "edu_counts"
   ]
  },
  {
   "cell_type": "code",
   "execution_count": 38,
   "metadata": {},
   "outputs": [
    {
     "data": {
      "image/png": "[encoded data removed]",
      "text/plain": [
       "<Figure size 720x576 with 1 Axes>"
      ]
     },
     "metadata": {},
     "output_type": "display_data"
    }
   ],
   "source": [
    "plt.figure(figsize=(10,8))\n",
    "plt.pie(edu_counts.values, labels=edu_counts.index, autopct='%1.1f%%')\n",
    "plt.show()"
   ]
  },
  {
   "cell_type": "code",
   "execution_count": 39,
   "metadata": {},
   "outputs": [
    {
     "data": {
      "text/html": [
       "<style  type=\"text/css\" >\n",
       "</style><table id=\"T_cb52e258_74f5_11ea_95b1_701ce71031ef\" ><thead>    <tr>        <th class=\"col_heading level0 col0\" >edu</th>        <th class=\"col_heading level0 col1\" >salary_mean</th>        <th class=\"col_heading level0 col2\" >salary_95_min</th>        <th class=\"col_heading level0 col3\" >salary_median</th>        <th class=\"col_heading level0 col4\" >salary_95_max</th>        <th class=\"col_heading level0 col5\" >head_count</th>        <th class=\"col_heading level0 col6\" >percentage</th>    </tr></thead><tbody>\n",
       "                <tr>\n",
       "                                <td id=\"T_cb52e258_74f5_11ea_95b1_701ce71031efrow0_col0\" class=\"data row0 col0\" >博士</td>\n",
       "                        <td id=\"T_cb52e258_74f5_11ea_95b1_701ce71031efrow0_col1\" class=\"data row0 col1\" >29286</td>\n",
       "                        <td id=\"T_cb52e258_74f5_11ea_95b1_701ce71031efrow0_col2\" class=\"data row0 col2\" >13711</td>\n",
       "                        <td id=\"T_cb52e258_74f5_11ea_95b1_701ce71031efrow0_col3\" class=\"data row0 col3\" >29697</td>\n",
       "                        <td id=\"T_cb52e258_74f5_11ea_95b1_701ce71031efrow0_col4\" class=\"data row0 col4\" >50000</td>\n",
       "                        <td id=\"T_cb52e258_74f5_11ea_95b1_701ce71031efrow0_col5\" class=\"data row0 col5\" >393</td>\n",
       "                        <td id=\"T_cb52e258_74f5_11ea_95b1_701ce71031efrow0_col6\" class=\"data row0 col6\" >0.45%</td>\n",
       "            </tr>\n",
       "            <tr>\n",
       "                                <td id=\"T_cb52e258_74f5_11ea_95b1_701ce71031efrow1_col0\" class=\"data row1 col0\" >硕士</td>\n",
       "                        <td id=\"T_cb52e258_74f5_11ea_95b1_701ce71031efrow1_col1\" class=\"data row1 col1\" >21928</td>\n",
       "                        <td id=\"T_cb52e258_74f5_11ea_95b1_701ce71031efrow1_col2\" class=\"data row1 col2\" >9000</td>\n",
       "                        <td id=\"T_cb52e258_74f5_11ea_95b1_701ce71031efrow1_col3\" class=\"data row1 col3\" >20000</td>\n",
       "                        <td id=\"T_cb52e258_74f5_11ea_95b1_701ce71031efrow1_col4\" class=\"data row1 col4\" >45000</td>\n",
       "                        <td id=\"T_cb52e258_74f5_11ea_95b1_701ce71031efrow1_col5\" class=\"data row1 col5\" >4089</td>\n",
       "                        <td id=\"T_cb52e258_74f5_11ea_95b1_701ce71031efrow1_col6\" class=\"data row1 col6\" >4.68%</td>\n",
       "            </tr>\n",
       "            <tr>\n",
       "                                <td id=\"T_cb52e258_74f5_11ea_95b1_701ce71031efrow2_col0\" class=\"data row2 col0\" >本科</td>\n",
       "                        <td id=\"T_cb52e258_74f5_11ea_95b1_701ce71031efrow2_col1\" class=\"data row2 col1\" >17869</td>\n",
       "                        <td id=\"T_cb52e258_74f5_11ea_95b1_701ce71031efrow2_col2\" class=\"data row2 col2\" >7000</td>\n",
       "                        <td id=\"T_cb52e258_74f5_11ea_95b1_701ce71031efrow2_col3\" class=\"data row2 col3\" >15500</td>\n",
       "                        <td id=\"T_cb52e258_74f5_11ea_95b1_701ce71031efrow2_col4\" class=\"data row2 col4\" >40000</td>\n",
       "                        <td id=\"T_cb52e258_74f5_11ea_95b1_701ce71031efrow2_col5\" class=\"data row2 col5\" >59567</td>\n",
       "                        <td id=\"T_cb52e258_74f5_11ea_95b1_701ce71031efrow2_col6\" class=\"data row2 col6\" >68.21%</td>\n",
       "            </tr>\n",
       "            <tr>\n",
       "                                <td id=\"T_cb52e258_74f5_11ea_95b1_701ce71031efrow3_col0\" class=\"data row3 col0\" >大专</td>\n",
       "                        <td id=\"T_cb52e258_74f5_11ea_95b1_701ce71031efrow3_col1\" class=\"data row3 col1\" >14327</td>\n",
       "                        <td id=\"T_cb52e258_74f5_11ea_95b1_701ce71031efrow3_col2\" class=\"data row3 col2\" >5250</td>\n",
       "                        <td id=\"T_cb52e258_74f5_11ea_95b1_701ce71031efrow3_col3\" class=\"data row3 col3\" >12500</td>\n",
       "                        <td id=\"T_cb52e258_74f5_11ea_95b1_701ce71031efrow3_col4\" class=\"data row3 col4\" >32500</td>\n",
       "                        <td id=\"T_cb52e258_74f5_11ea_95b1_701ce71031efrow3_col5\" class=\"data row3 col5\" >23132</td>\n",
       "                        <td id=\"T_cb52e258_74f5_11ea_95b1_701ce71031efrow3_col6\" class=\"data row3 col6\" >26.49%</td>\n",
       "            </tr>\n",
       "            <tr>\n",
       "                                <td id=\"T_cb52e258_74f5_11ea_95b1_701ce71031efrow4_col0\" class=\"data row4 col0\" >初中及以下</td>\n",
       "                        <td id=\"T_cb52e258_74f5_11ea_95b1_701ce71031efrow4_col1\" class=\"data row4 col1\" >13750</td>\n",
       "                        <td id=\"T_cb52e258_74f5_11ea_95b1_701ce71031efrow4_col2\" class=\"data row4 col2\" >12500</td>\n",
       "                        <td id=\"T_cb52e258_74f5_11ea_95b1_701ce71031efrow4_col3\" class=\"data row4 col3\" >13750</td>\n",
       "                        <td id=\"T_cb52e258_74f5_11ea_95b1_701ce71031efrow4_col4\" class=\"data row4 col4\" >17500</td>\n",
       "                        <td id=\"T_cb52e258_74f5_11ea_95b1_701ce71031efrow4_col5\" class=\"data row4 col5\" >4</td>\n",
       "                        <td id=\"T_cb52e258_74f5_11ea_95b1_701ce71031efrow4_col6\" class=\"data row4 col6\" >0.00%</td>\n",
       "            </tr>\n",
       "            <tr>\n",
       "                                <td id=\"T_cb52e258_74f5_11ea_95b1_701ce71031efrow5_col0\" class=\"data row5 col0\" >高中</td>\n",
       "                        <td id=\"T_cb52e258_74f5_11ea_95b1_701ce71031efrow5_col1\" class=\"data row5 col1\" >7859</td>\n",
       "                        <td id=\"T_cb52e258_74f5_11ea_95b1_701ce71031efrow5_col2\" class=\"data row5 col2\" >4000</td>\n",
       "                        <td id=\"T_cb52e258_74f5_11ea_95b1_701ce71031efrow5_col3\" class=\"data row5 col3\" >7000</td>\n",
       "                        <td id=\"T_cb52e258_74f5_11ea_95b1_701ce71031efrow5_col4\" class=\"data row5 col4\" >16521</td>\n",
       "                        <td id=\"T_cb52e258_74f5_11ea_95b1_701ce71031efrow5_col5\" class=\"data row5 col5\" >147</td>\n",
       "                        <td id=\"T_cb52e258_74f5_11ea_95b1_701ce71031efrow5_col6\" class=\"data row5 col6\" >0.17%</td>\n",
       "            </tr>\n",
       "    </tbody></table>"
      ],
      "text/plain": [
       "<pandas.io.formats.style.Styler at 0x196a30ef748>"
      ]
     },
     "execution_count": 39,
     "metadata": {},
     "output_type": "execute_result"
    }
   ],
   "source": [
    "data_edu=get_sub_stats_by_col(data[data.edu.isin(['初中及以下','高中','大专','本科','硕士','博士'])], 'edu')\n",
    "apply_style(data_edu)"
   ]
  },
  {
   "cell_type": "code",
   "execution_count": 40,
   "metadata": {},
   "outputs": [],
   "source": [
    "salary_associate=data[data.edu=='大专'].monthly_salary\n",
    "salary_bachelor=data[data.edu=='本科'].monthly_salary\n",
    "salary_master=data[data.edu=='硕士'].monthly_salary\n",
    "salary_phd=data[data.edu=='博士'].monthly_salary"
   ]
  },
  {
   "cell_type": "code",
   "execution_count": null,
   "metadata": {},
   "outputs": [],
   "source": []
  },
  {
   "cell_type": "code",
   "execution_count": 41,
   "metadata": {},
   "outputs": [
    {
     "name": "stdout",
     "output_type": "stream",
     "text": [
      "大专，本科，硕士，博士的平均工资分别是13797，17863，22482，29386。中位数分别是12500， 16000，20833， 27500。\n"
     ]
    }
   ],
   "source": [
    "print('大专，本科，硕士，博士的平均工资分别是{:.0f}，{:.0f}，{:.0f}，{:.0f}。中位数分别是{:.0f}， {:.0f}，{:.0f}， {:.0f}。'.format(\n",
    "    salary_associate.mean(),salary_bachelor.mean(),salary_master.mean(),salary_phd.mean(),\n",
    "    salary_associate.median(),salary_bachelor.median(),salary_master.median(),salary_phd.median()))"
   ]
  },
  {
   "cell_type": "code",
   "execution_count": 42,
   "metadata": {},
   "outputs": [
    {
     "data": {
      "text/plain": [
       "F_onewayResult(statistic=49.15906338171529, pvalue=3.5953490470403533e-12)"
      ]
     },
     "execution_count": 42,
     "metadata": {},
     "output_type": "execute_result"
    }
   ],
   "source": [
    "stats.f_oneway(salary_phd, salary_master)"
   ]
  },
  {
   "cell_type": "code",
   "execution_count": 43,
   "metadata": {},
   "outputs": [
    {
     "data": {
      "text/plain": [
       "F_onewayResult(statistic=382.9235065968665, pvalue=1.7255778515048517e-84)"
      ]
     },
     "execution_count": 43,
     "metadata": {},
     "output_type": "execute_result"
    }
   ],
   "source": [
    "stats.f_oneway(salary_master, salary_bachelor)"
   ]
  },
  {
   "cell_type": "code",
   "execution_count": 44,
   "metadata": {},
   "outputs": [
    {
     "data": {
      "text/plain": [
       "F_onewayResult(statistic=1453.4162488548782, pvalue=1.52740520172859e-309)"
      ]
     },
     "execution_count": 44,
     "metadata": {},
     "output_type": "execute_result"
    }
   ],
   "source": [
    "stats.f_oneway(salary_bachelor, salary_associate)"
   ]
  },
  {
   "cell_type": "markdown",
   "metadata": {},
   "source": [
    "经过Oneway Anova Test，证明从大专到博士，学历每提高一级，工资都有显著的提高。"
   ]
  },
  {
   "cell_type": "code",
   "execution_count": 45,
   "metadata": {},
   "outputs": [
    {
     "data": {
      "image/png": "[encoded data removed]",
      "text/plain": [
       "<Figure size 432x288 with 1 Axes>"
      ]
     },
     "metadata": {
      "needs_background": "light"
     },
     "output_type": "display_data"
    }
   ],
   "source": [
    "\n",
    "order=['大专','本科','硕士','博士']\n",
    "a=sns.boxplot(y='edu',x='monthly_salary',order=order,data=data[data.edu.isin(order)], orient='h')\n",
    "plt.annotate('https://github.com/juwikuang/job_survey', xy=(0.5,1.5), xytext=(2, 1.55))\n",
    "plt.show()"
   ]
  },
  {
   "cell_type": "markdown",
   "metadata": {},
   "source": [
    "# 工作经验 Working Experience"
   ]
  },
  {
   "cell_type": "code",
   "execution_count": 46,
   "metadata": {},
   "outputs": [
    {
     "data": {
      "text/html": [
       "<style  type=\"text/css\" >\n",
       "</style><table id=\"T_d0a25476_74f5_11ea_a65e_701ce71031ef\" ><thead>    <tr>        <th class=\"col_heading level0 col0\" >experience</th>        <th class=\"col_heading level0 col1\" >salary_mean</th>        <th class=\"col_heading level0 col2\" >salary_95_min</th>        <th class=\"col_heading level0 col3\" >salary_median</th>        <th class=\"col_heading level0 col4\" >salary_95_max</th>        <th class=\"col_heading level0 col5\" >head_count</th>        <th class=\"col_heading level0 col6\" >percentage</th>    </tr></thead><tbody>\n",
       "                <tr>\n",
       "                                <td id=\"T_d0a25476_74f5_11ea_a65e_701ce71031efrow0_col0\" class=\"data row0 col0\" >10+</td>\n",
       "                        <td id=\"T_d0a25476_74f5_11ea_a65e_701ce71031efrow0_col1\" class=\"data row0 col1\" >32740</td>\n",
       "                        <td id=\"T_d0a25476_74f5_11ea_a65e_701ce71031efrow0_col2\" class=\"data row0 col2\" >12500</td>\n",
       "                        <td id=\"T_d0a25476_74f5_11ea_a65e_701ce71031efrow0_col3\" class=\"data row0 col3\" >30000</td>\n",
       "                        <td id=\"T_d0a25476_74f5_11ea_a65e_701ce71031efrow0_col4\" class=\"data row0 col4\" >59767</td>\n",
       "                        <td id=\"T_d0a25476_74f5_11ea_a65e_701ce71031efrow0_col5\" class=\"data row0 col5\" >408</td>\n",
       "                        <td id=\"T_d0a25476_74f5_11ea_a65e_701ce71031efrow0_col6\" class=\"data row0 col6\" >0.42%</td>\n",
       "            </tr>\n",
       "            <tr>\n",
       "                                <td id=\"T_d0a25476_74f5_11ea_a65e_701ce71031efrow1_col0\" class=\"data row1 col0\" >5_10</td>\n",
       "                        <td id=\"T_d0a25476_74f5_11ea_a65e_701ce71031efrow1_col1\" class=\"data row1 col1\" >22984</td>\n",
       "                        <td id=\"T_d0a25476_74f5_11ea_a65e_701ce71031efrow1_col2\" class=\"data row1 col2\" >11500</td>\n",
       "                        <td id=\"T_d0a25476_74f5_11ea_a65e_701ce71031efrow1_col3\" class=\"data row1 col3\" >20833</td>\n",
       "                        <td id=\"T_d0a25476_74f5_11ea_a65e_701ce71031efrow1_col4\" class=\"data row1 col4\" >45000</td>\n",
       "                        <td id=\"T_d0a25476_74f5_11ea_a65e_701ce71031efrow1_col5\" class=\"data row1 col5\" >14322</td>\n",
       "                        <td id=\"T_d0a25476_74f5_11ea_a65e_701ce71031efrow1_col6\" class=\"data row1 col6\" >14.76%</td>\n",
       "            </tr>\n",
       "            <tr>\n",
       "                                <td id=\"T_d0a25476_74f5_11ea_a65e_701ce71031efrow2_col0\" class=\"data row2 col0\" >3_5</td>\n",
       "                        <td id=\"T_d0a25476_74f5_11ea_a65e_701ce71031efrow2_col1\" class=\"data row2 col1\" >18254</td>\n",
       "                        <td id=\"T_d0a25476_74f5_11ea_a65e_701ce71031efrow2_col2\" class=\"data row2 col2\" >9000</td>\n",
       "                        <td id=\"T_d0a25476_74f5_11ea_a65e_701ce71031efrow2_col3\" class=\"data row2 col3\" >16000</td>\n",
       "                        <td id=\"T_d0a25476_74f5_11ea_a65e_701ce71031efrow2_col4\" class=\"data row2 col4\" >37500</td>\n",
       "                        <td id=\"T_d0a25476_74f5_11ea_a65e_701ce71031efrow2_col5\" class=\"data row2 col5\" >30961</td>\n",
       "                        <td id=\"T_d0a25476_74f5_11ea_a65e_701ce71031efrow2_col6\" class=\"data row2 col6\" >31.91%</td>\n",
       "            </tr>\n",
       "            <tr>\n",
       "                                <td id=\"T_d0a25476_74f5_11ea_a65e_701ce71031efrow3_col0\" class=\"data row3 col0\" ></td>\n",
       "                        <td id=\"T_d0a25476_74f5_11ea_a65e_701ce71031efrow3_col1\" class=\"data row3 col1\" >15265</td>\n",
       "                        <td id=\"T_d0a25476_74f5_11ea_a65e_701ce71031efrow3_col2\" class=\"data row3 col2\" >5000</td>\n",
       "                        <td id=\"T_d0a25476_74f5_11ea_a65e_701ce71031efrow3_col3\" class=\"data row3 col3\" >12500</td>\n",
       "                        <td id=\"T_d0a25476_74f5_11ea_a65e_701ce71031efrow3_col4\" class=\"data row3 col4\" >35410</td>\n",
       "                        <td id=\"T_d0a25476_74f5_11ea_a65e_701ce71031efrow3_col5\" class=\"data row3 col5\" >23504</td>\n",
       "                        <td id=\"T_d0a25476_74f5_11ea_a65e_701ce71031efrow3_col6\" class=\"data row3 col6\" >24.22%</td>\n",
       "            </tr>\n",
       "            <tr>\n",
       "                                <td id=\"T_d0a25476_74f5_11ea_a65e_701ce71031efrow4_col0\" class=\"data row4 col0\" >1_3</td>\n",
       "                        <td id=\"T_d0a25476_74f5_11ea_a65e_701ce71031efrow4_col1\" class=\"data row4 col1\" >13977</td>\n",
       "                        <td id=\"T_d0a25476_74f5_11ea_a65e_701ce71031efrow4_col2\" class=\"data row4 col2\" >6000</td>\n",
       "                        <td id=\"T_d0a25476_74f5_11ea_a65e_701ce71031efrow4_col3\" class=\"data row4 col3\" >12500</td>\n",
       "                        <td id=\"T_d0a25476_74f5_11ea_a65e_701ce71031efrow4_col4\" class=\"data row4 col4\" >35000</td>\n",
       "                        <td id=\"T_d0a25476_74f5_11ea_a65e_701ce71031efrow4_col5\" class=\"data row4 col5\" >27846</td>\n",
       "                        <td id=\"T_d0a25476_74f5_11ea_a65e_701ce71031efrow4_col6\" class=\"data row4 col6\" >28.70%</td>\n",
       "            </tr>\n",
       "    </tbody></table>"
      ],
      "text/plain": [
       "<pandas.io.formats.style.Styler at 0x196a34b5e48>"
      ]
     },
     "execution_count": 46,
     "metadata": {},
     "output_type": "execute_result"
    }
   ],
   "source": [
    "data_experience=get_sub_stats_by_col(data, 'experience')\n",
    "apply_style(data_experience)"
   ]
  },
  {
   "cell_type": "code",
   "execution_count": 47,
   "metadata": {},
   "outputs": [],
   "source": [
    "salary_we_10=data[data.experience=='10+'].monthly_salary\n",
    "salary_we_5_10=data[data.experience=='5_10'].monthly_salary\n",
    "salary_we_3_5=data[data.experience=='3_5'].monthly_salary\n",
    "salary_we_1_3=data[data.experience=='1_3'].monthly_salary\n",
    "salary_we_no=data[data.experience=='no'].monthly_salary"
   ]
  },
  {
   "cell_type": "code",
   "execution_count": 48,
   "metadata": {},
   "outputs": [
    {
     "data": {
      "image/png": "[encoded data removed]",
      "text/plain": [
       "<Figure size 432x288 with 1 Axes>"
      ]
     },
     "metadata": {
      "needs_background": "light"
     },
     "output_type": "display_data"
    }
   ],
   "source": [
    "\n",
    "order=['10+','5_10','3_5','1_3']\n",
    "sns.boxplot(y='experience',x='monthly_salary',order=order,data=data[data.experience.isin(order)], orient='h')\n",
    "plt.annotate('https://github.com/juwikuang/job_survey', xy=(1.5,1.5), xytext=(1.55, 1.55))\n",
    "plt.show()"
   ]
  },
  {
   "cell_type": "markdown",
   "metadata": {},
   "source": [
    "# 公司 Company"
   ]
  },
  {
   "cell_type": "markdown",
   "metadata": {},
   "source": [
    "## 公司性质 Company Type"
   ]
  },
  {
   "cell_type": "code",
   "execution_count": 49,
   "metadata": {},
   "outputs": [
    {
     "data": {
      "text/html": [
       "<style  type=\"text/css\" >\n",
       "</style><table id=\"T_d35a9efe_74f5_11ea_8858_701ce71031ef\" ><thead>    <tr>        <th class=\"col_heading level0 col0\" >company_type</th>        <th class=\"col_heading level0 col1\" >salary_mean</th>        <th class=\"col_heading level0 col2\" >salary_95_min</th>        <th class=\"col_heading level0 col3\" >salary_median</th>        <th class=\"col_heading level0 col4\" >salary_95_max</th>        <th class=\"col_heading level0 col5\" >head_count</th>        <th class=\"col_heading level0 col6\" >percentage</th>    </tr></thead><tbody>\n",
       "                <tr>\n",
       "                                <td id=\"T_d35a9efe_74f5_11ea_8858_701ce71031efrow0_col0\" class=\"data row0 col0\" >外资（欧美）</td>\n",
       "                        <td id=\"T_d35a9efe_74f5_11ea_8858_701ce71031efrow0_col1\" class=\"data row0 col1\" >18967</td>\n",
       "                        <td id=\"T_d35a9efe_74f5_11ea_8858_701ce71031efrow0_col2\" class=\"data row0 col2\" >7000</td>\n",
       "                        <td id=\"T_d35a9efe_74f5_11ea_8858_701ce71031efrow0_col3\" class=\"data row0 col3\" >17500</td>\n",
       "                        <td id=\"T_d35a9efe_74f5_11ea_8858_701ce71031efrow0_col4\" class=\"data row0 col4\" >40000</td>\n",
       "                        <td id=\"T_d35a9efe_74f5_11ea_8858_701ce71031efrow0_col5\" class=\"data row0 col5\" >5638</td>\n",
       "                        <td id=\"T_d35a9efe_74f5_11ea_8858_701ce71031efrow0_col6\" class=\"data row0 col6\" >5.81%</td>\n",
       "            </tr>\n",
       "            <tr>\n",
       "                                <td id=\"T_d35a9efe_74f5_11ea_8858_701ce71031efrow1_col0\" class=\"data row1 col0\" >合资</td>\n",
       "                        <td id=\"T_d35a9efe_74f5_11ea_8858_701ce71031efrow1_col1\" class=\"data row1 col1\" >17596</td>\n",
       "                        <td id=\"T_d35a9efe_74f5_11ea_8858_701ce71031efrow1_col2\" class=\"data row1 col2\" >7000</td>\n",
       "                        <td id=\"T_d35a9efe_74f5_11ea_8858_701ce71031efrow1_col3\" class=\"data row1 col3\" >15500</td>\n",
       "                        <td id=\"T_d35a9efe_74f5_11ea_8858_701ce71031efrow1_col4\" class=\"data row1 col4\" >37500</td>\n",
       "                        <td id=\"T_d35a9efe_74f5_11ea_8858_701ce71031efrow1_col5\" class=\"data row1 col5\" >7595</td>\n",
       "                        <td id=\"T_d35a9efe_74f5_11ea_8858_701ce71031efrow1_col6\" class=\"data row1 col6\" >7.83%</td>\n",
       "            </tr>\n",
       "            <tr>\n",
       "                                <td id=\"T_d35a9efe_74f5_11ea_8858_701ce71031efrow2_col0\" class=\"data row2 col0\" >国企</td>\n",
       "                        <td id=\"T_d35a9efe_74f5_11ea_8858_701ce71031efrow2_col1\" class=\"data row2 col1\" >17186</td>\n",
       "                        <td id=\"T_d35a9efe_74f5_11ea_8858_701ce71031efrow2_col2\" class=\"data row2 col2\" >7000</td>\n",
       "                        <td id=\"T_d35a9efe_74f5_11ea_8858_701ce71031efrow2_col3\" class=\"data row2 col3\" >15000</td>\n",
       "                        <td id=\"T_d35a9efe_74f5_11ea_8858_701ce71031efrow2_col4\" class=\"data row2 col4\" >45000</td>\n",
       "                        <td id=\"T_d35a9efe_74f5_11ea_8858_701ce71031efrow2_col5\" class=\"data row2 col5\" >7915</td>\n",
       "                        <td id=\"T_d35a9efe_74f5_11ea_8858_701ce71031efrow2_col6\" class=\"data row2 col6\" >8.16%</td>\n",
       "            </tr>\n",
       "            <tr>\n",
       "                                <td id=\"T_d35a9efe_74f5_11ea_8858_701ce71031efrow3_col0\" class=\"data row3 col0\" >民营公司</td>\n",
       "                        <td id=\"T_d35a9efe_74f5_11ea_8858_701ce71031efrow3_col1\" class=\"data row3 col1\" >16883</td>\n",
       "                        <td id=\"T_d35a9efe_74f5_11ea_8858_701ce71031efrow3_col2\" class=\"data row3 col2\" >6000</td>\n",
       "                        <td id=\"T_d35a9efe_74f5_11ea_8858_701ce71031efrow3_col3\" class=\"data row3 col3\" >15000</td>\n",
       "                        <td id=\"T_d35a9efe_74f5_11ea_8858_701ce71031efrow3_col4\" class=\"data row3 col4\" >39000</td>\n",
       "                        <td id=\"T_d35a9efe_74f5_11ea_8858_701ce71031efrow3_col5\" class=\"data row3 col5\" >69561</td>\n",
       "                        <td id=\"T_d35a9efe_74f5_11ea_8858_701ce71031efrow3_col6\" class=\"data row3 col6\" >71.68%</td>\n",
       "            </tr>\n",
       "            <tr>\n",
       "                                <td id=\"T_d35a9efe_74f5_11ea_8858_701ce71031efrow4_col0\" class=\"data row4 col0\" >外资（非欧美）</td>\n",
       "                        <td id=\"T_d35a9efe_74f5_11ea_8858_701ce71031efrow4_col1\" class=\"data row4 col1\" >16652</td>\n",
       "                        <td id=\"T_d35a9efe_74f5_11ea_8858_701ce71031efrow4_col2\" class=\"data row4 col2\" >6941</td>\n",
       "                        <td id=\"T_d35a9efe_74f5_11ea_8858_701ce71031efrow4_col3\" class=\"data row4 col3\" >14500</td>\n",
       "                        <td id=\"T_d35a9efe_74f5_11ea_8858_701ce71031efrow4_col4\" class=\"data row4 col4\" >37500</td>\n",
       "                        <td id=\"T_d35a9efe_74f5_11ea_8858_701ce71031efrow4_col5\" class=\"data row4 col5\" >5527</td>\n",
       "                        <td id=\"T_d35a9efe_74f5_11ea_8858_701ce71031efrow4_col6\" class=\"data row4 col6\" >5.70%</td>\n",
       "            </tr>\n",
       "            <tr>\n",
       "                                <td id=\"T_d35a9efe_74f5_11ea_8858_701ce71031efrow5_col0\" class=\"data row5 col0\" >事业单位</td>\n",
       "                        <td id=\"T_d35a9efe_74f5_11ea_8858_701ce71031efrow5_col1\" class=\"data row5 col1\" >16121</td>\n",
       "                        <td id=\"T_d35a9efe_74f5_11ea_8858_701ce71031efrow5_col2\" class=\"data row5 col2\" >7000</td>\n",
       "                        <td id=\"T_d35a9efe_74f5_11ea_8858_701ce71031efrow5_col3\" class=\"data row5 col3\" >14583</td>\n",
       "                        <td id=\"T_d35a9efe_74f5_11ea_8858_701ce71031efrow5_col4\" class=\"data row5 col4\" >35236</td>\n",
       "                        <td id=\"T_d35a9efe_74f5_11ea_8858_701ce71031efrow5_col5\" class=\"data row5 col5\" >683</td>\n",
       "                        <td id=\"T_d35a9efe_74f5_11ea_8858_701ce71031efrow5_col6\" class=\"data row5 col6\" >0.70%</td>\n",
       "            </tr>\n",
       "            <tr>\n",
       "                                <td id=\"T_d35a9efe_74f5_11ea_8858_701ce71031efrow6_col0\" class=\"data row6 col0\" >非营利组织</td>\n",
       "                        <td id=\"T_d35a9efe_74f5_11ea_8858_701ce71031efrow6_col1\" class=\"data row6 col1\" >14579</td>\n",
       "                        <td id=\"T_d35a9efe_74f5_11ea_8858_701ce71031efrow6_col2\" class=\"data row6 col2\" >7333</td>\n",
       "                        <td id=\"T_d35a9efe_74f5_11ea_8858_701ce71031efrow6_col3\" class=\"data row6 col3\" >14000</td>\n",
       "                        <td id=\"T_d35a9efe_74f5_11ea_8858_701ce71031efrow6_col4\" class=\"data row6 col4\" >31874</td>\n",
       "                        <td id=\"T_d35a9efe_74f5_11ea_8858_701ce71031efrow6_col5\" class=\"data row6 col5\" >90</td>\n",
       "                        <td id=\"T_d35a9efe_74f5_11ea_8858_701ce71031efrow6_col6\" class=\"data row6 col6\" >0.09%</td>\n",
       "            </tr>\n",
       "            <tr>\n",
       "                                <td id=\"T_d35a9efe_74f5_11ea_8858_701ce71031efrow7_col0\" class=\"data row7 col0\" >外企代表处</td>\n",
       "                        <td id=\"T_d35a9efe_74f5_11ea_8858_701ce71031efrow7_col1\" class=\"data row7 col1\" >10469</td>\n",
       "                        <td id=\"T_d35a9efe_74f5_11ea_8858_701ce71031efrow7_col2\" class=\"data row7 col2\" >1750</td>\n",
       "                        <td id=\"T_d35a9efe_74f5_11ea_8858_701ce71031efrow7_col3\" class=\"data row7 col3\" >8000</td>\n",
       "                        <td id=\"T_d35a9efe_74f5_11ea_8858_701ce71031efrow7_col4\" class=\"data row7 col4\" >22950</td>\n",
       "                        <td id=\"T_d35a9efe_74f5_11ea_8858_701ce71031efrow7_col5\" class=\"data row7 col5\" >32</td>\n",
       "                        <td id=\"T_d35a9efe_74f5_11ea_8858_701ce71031efrow7_col6\" class=\"data row7 col6\" >0.03%</td>\n",
       "            </tr>\n",
       "    </tbody></table>"
      ],
      "text/plain": [
       "<pandas.io.formats.style.Styler at 0x196a3176388>"
      ]
     },
     "execution_count": 49,
     "metadata": {},
     "output_type": "execute_result"
    }
   ],
   "source": [
    "data_company_type=get_sub_stats_by_col(data,'company_type')\n",
    "apply_style(data_company_type)"
   ]
  },
  {
   "cell_type": "markdown",
   "metadata": {},
   "source": [
    "us_eu是欧美外企，startup是创业公司，listed是上市公司，state是国企，private是私企，foreign是非欧美外企，其他不足1000个样本的不管了。"
   ]
  },
  {
   "cell_type": "markdown",
   "metadata": {},
   "source": [
    "## 公司规模 Company Size"
   ]
  },
  {
   "cell_type": "code",
   "execution_count": 50,
   "metadata": {},
   "outputs": [
    {
     "data": {
      "text/html": [
       "<style  type=\"text/css\" >\n",
       "</style><table id=\"T_d4087be6_74f5_11ea_a3eb_701ce71031ef\" ><thead>    <tr>        <th class=\"col_heading level0 col0\" >company_size</th>        <th class=\"col_heading level0 col1\" >salary_mean</th>        <th class=\"col_heading level0 col2\" >salary_95_min</th>        <th class=\"col_heading level0 col3\" >salary_median</th>        <th class=\"col_heading level0 col4\" >salary_95_max</th>        <th class=\"col_heading level0 col5\" >head_count</th>        <th class=\"col_heading level0 col6\" >percentage</th>    </tr></thead><tbody>\n",
       "                <tr>\n",
       "                                <td id=\"T_d4087be6_74f5_11ea_a3eb_701ce71031efrow0_col0\" class=\"data row0 col0\" >10000+</td>\n",
       "                        <td id=\"T_d4087be6_74f5_11ea_a3eb_701ce71031efrow0_col1\" class=\"data row0 col1\" >26316</td>\n",
       "                        <td id=\"T_d4087be6_74f5_11ea_a3eb_701ce71031efrow0_col2\" class=\"data row0 col2\" >7000</td>\n",
       "                        <td id=\"T_d4087be6_74f5_11ea_a3eb_701ce71031efrow0_col3\" class=\"data row0 col3\" >27500</td>\n",
       "                        <td id=\"T_d4087be6_74f5_11ea_a3eb_701ce71031efrow0_col4\" class=\"data row0 col4\" >46338</td>\n",
       "                        <td id=\"T_d4087be6_74f5_11ea_a3eb_701ce71031efrow0_col5\" class=\"data row0 col5\" >6553</td>\n",
       "                        <td id=\"T_d4087be6_74f5_11ea_a3eb_701ce71031efrow0_col6\" class=\"data row0 col6\" >6.75%</td>\n",
       "            </tr>\n",
       "            <tr>\n",
       "                                <td id=\"T_d4087be6_74f5_11ea_a3eb_701ce71031efrow1_col0\" class=\"data row1 col0\" >5000-10000</td>\n",
       "                        <td id=\"T_d4087be6_74f5_11ea_a3eb_701ce71031efrow1_col1\" class=\"data row1 col1\" >19612</td>\n",
       "                        <td id=\"T_d4087be6_74f5_11ea_a3eb_701ce71031efrow1_col2\" class=\"data row1 col2\" >7000</td>\n",
       "                        <td id=\"T_d4087be6_74f5_11ea_a3eb_701ce71031efrow1_col3\" class=\"data row1 col3\" >17100</td>\n",
       "                        <td id=\"T_d4087be6_74f5_11ea_a3eb_701ce71031efrow1_col4\" class=\"data row1 col4\" >45192</td>\n",
       "                        <td id=\"T_d4087be6_74f5_11ea_a3eb_701ce71031efrow1_col5\" class=\"data row1 col5\" >2565</td>\n",
       "                        <td id=\"T_d4087be6_74f5_11ea_a3eb_701ce71031efrow1_col6\" class=\"data row1 col6\" >2.64%</td>\n",
       "            </tr>\n",
       "            <tr>\n",
       "                                <td id=\"T_d4087be6_74f5_11ea_a3eb_701ce71031efrow2_col0\" class=\"data row2 col0\" >1000-5000</td>\n",
       "                        <td id=\"T_d4087be6_74f5_11ea_a3eb_701ce71031efrow2_col1\" class=\"data row2 col1\" >17736</td>\n",
       "                        <td id=\"T_d4087be6_74f5_11ea_a3eb_701ce71031efrow2_col2\" class=\"data row2 col2\" >7000</td>\n",
       "                        <td id=\"T_d4087be6_74f5_11ea_a3eb_701ce71031efrow2_col3\" class=\"data row2 col3\" >16500</td>\n",
       "                        <td id=\"T_d4087be6_74f5_11ea_a3eb_701ce71031efrow2_col4\" class=\"data row2 col4\" >37500</td>\n",
       "                        <td id=\"T_d4087be6_74f5_11ea_a3eb_701ce71031efrow2_col5\" class=\"data row2 col5\" >11669</td>\n",
       "                        <td id=\"T_d4087be6_74f5_11ea_a3eb_701ce71031efrow2_col6\" class=\"data row2 col6\" >12.02%</td>\n",
       "            </tr>\n",
       "            <tr>\n",
       "                                <td id=\"T_d4087be6_74f5_11ea_a3eb_701ce71031efrow3_col0\" class=\"data row3 col0\" >500-1000</td>\n",
       "                        <td id=\"T_d4087be6_74f5_11ea_a3eb_701ce71031efrow3_col1\" class=\"data row3 col1\" >17257</td>\n",
       "                        <td id=\"T_d4087be6_74f5_11ea_a3eb_701ce71031efrow3_col2\" class=\"data row3 col2\" >7000</td>\n",
       "                        <td id=\"T_d4087be6_74f5_11ea_a3eb_701ce71031efrow3_col3\" class=\"data row3 col3\" >15000</td>\n",
       "                        <td id=\"T_d4087be6_74f5_11ea_a3eb_701ce71031efrow3_col4\" class=\"data row3 col4\" >35000</td>\n",
       "                        <td id=\"T_d4087be6_74f5_11ea_a3eb_701ce71031efrow3_col5\" class=\"data row3 col5\" >9929</td>\n",
       "                        <td id=\"T_d4087be6_74f5_11ea_a3eb_701ce71031efrow3_col6\" class=\"data row3 col6\" >10.23%</td>\n",
       "            </tr>\n",
       "            <tr>\n",
       "                                <td id=\"T_d4087be6_74f5_11ea_a3eb_701ce71031efrow4_col0\" class=\"data row4 col0\" >150-500</td>\n",
       "                        <td id=\"T_d4087be6_74f5_11ea_a3eb_701ce71031efrow4_col1\" class=\"data row4 col1\" >16465</td>\n",
       "                        <td id=\"T_d4087be6_74f5_11ea_a3eb_701ce71031efrow4_col2\" class=\"data row4 col2\" >6500</td>\n",
       "                        <td id=\"T_d4087be6_74f5_11ea_a3eb_701ce71031efrow4_col3\" class=\"data row4 col3\" >15000</td>\n",
       "                        <td id=\"T_d4087be6_74f5_11ea_a3eb_701ce71031efrow4_col4\" class=\"data row4 col4\" >36652</td>\n",
       "                        <td id=\"T_d4087be6_74f5_11ea_a3eb_701ce71031efrow4_col5\" class=\"data row4 col5\" >22945</td>\n",
       "                        <td id=\"T_d4087be6_74f5_11ea_a3eb_701ce71031efrow4_col6\" class=\"data row4 col6\" >23.64%</td>\n",
       "            </tr>\n",
       "            <tr>\n",
       "                                <td id=\"T_d4087be6_74f5_11ea_a3eb_701ce71031efrow5_col0\" class=\"data row5 col0\" >50-150</td>\n",
       "                        <td id=\"T_d4087be6_74f5_11ea_a3eb_701ce71031efrow5_col1\" class=\"data row5 col1\" >15918</td>\n",
       "                        <td id=\"T_d4087be6_74f5_11ea_a3eb_701ce71031efrow5_col2\" class=\"data row5 col2\" >5250</td>\n",
       "                        <td id=\"T_d4087be6_74f5_11ea_a3eb_701ce71031efrow5_col3\" class=\"data row5 col3\" >15000</td>\n",
       "                        <td id=\"T_d4087be6_74f5_11ea_a3eb_701ce71031efrow5_col4\" class=\"data row5 col4\" >35000</td>\n",
       "                        <td id=\"T_d4087be6_74f5_11ea_a3eb_701ce71031efrow5_col5\" class=\"data row5 col5\" >28448</td>\n",
       "                        <td id=\"T_d4087be6_74f5_11ea_a3eb_701ce71031efrow5_col6\" class=\"data row5 col6\" >29.32%</td>\n",
       "            </tr>\n",
       "            <tr>\n",
       "                                <td id=\"T_d4087be6_74f5_11ea_a3eb_701ce71031efrow6_col0\" class=\"data row6 col0\" >50-</td>\n",
       "                        <td id=\"T_d4087be6_74f5_11ea_a3eb_701ce71031efrow6_col1\" class=\"data row6 col1\" >15038</td>\n",
       "                        <td id=\"T_d4087be6_74f5_11ea_a3eb_701ce71031efrow6_col2\" class=\"data row6 col2\" >5500</td>\n",
       "                        <td id=\"T_d4087be6_74f5_11ea_a3eb_701ce71031efrow6_col3\" class=\"data row6 col3\" >12500</td>\n",
       "                        <td id=\"T_d4087be6_74f5_11ea_a3eb_701ce71031efrow6_col4\" class=\"data row6 col4\" >42500</td>\n",
       "                        <td id=\"T_d4087be6_74f5_11ea_a3eb_701ce71031efrow6_col5\" class=\"data row6 col5\" >13197</td>\n",
       "                        <td id=\"T_d4087be6_74f5_11ea_a3eb_701ce71031efrow6_col6\" class=\"data row6 col6\" >13.60%</td>\n",
       "            </tr>\n",
       "            <tr>\n",
       "                                <td id=\"T_d4087be6_74f5_11ea_a3eb_701ce71031efrow7_col0\" class=\"data row7 col0\" ></td>\n",
       "                        <td id=\"T_d4087be6_74f5_11ea_a3eb_701ce71031efrow7_col1\" class=\"data row7 col1\" >14713</td>\n",
       "                        <td id=\"T_d4087be6_74f5_11ea_a3eb_701ce71031efrow7_col2\" class=\"data row7 col2\" >7000</td>\n",
       "                        <td id=\"T_d4087be6_74f5_11ea_a3eb_701ce71031efrow7_col3\" class=\"data row7 col3\" >12500</td>\n",
       "                        <td id=\"T_d4087be6_74f5_11ea_a3eb_701ce71031efrow7_col4\" class=\"data row7 col4\" >30000</td>\n",
       "                        <td id=\"T_d4087be6_74f5_11ea_a3eb_701ce71031efrow7_col5\" class=\"data row7 col5\" >1735</td>\n",
       "                        <td id=\"T_d4087be6_74f5_11ea_a3eb_701ce71031efrow7_col6\" class=\"data row7 col6\" >1.79%</td>\n",
       "            </tr>\n",
       "    </tbody></table>"
      ],
      "text/plain": [
       "<pandas.io.formats.style.Styler at 0x196a3210848>"
      ]
     },
     "execution_count": 50,
     "metadata": {},
     "output_type": "execute_result"
    }
   ],
   "source": [
    "data_company_size=get_sub_stats_by_col(data,'company_size')\n",
    "apply_style(data_company_size)"
   ]
  },
  {
   "cell_type": "markdown",
   "metadata": {},
   "source": [
    "公司越大，工资越高"
   ]
  },
  {
   "cell_type": "markdown",
   "metadata": {},
   "source": [
    "## 行业 Industry"
   ]
  },
  {
   "cell_type": "code",
   "execution_count": 51,
   "metadata": {},
   "outputs": [
    {
     "data": {
      "text/html": [
       "<style  type=\"text/css\" >\n",
       "</style><table id=\"T_d4c8fbdc_74f5_11ea_ad76_701ce71031ef\" ><thead>    <tr>        <th class=\"col_heading level0 col0\" >industry</th>        <th class=\"col_heading level0 col1\" >salary_mean</th>        <th class=\"col_heading level0 col2\" >salary_95_min</th>        <th class=\"col_heading level0 col3\" >salary_median</th>        <th class=\"col_heading level0 col4\" >salary_95_max</th>        <th class=\"col_heading level0 col5\" >head_count</th>        <th class=\"col_heading level0 col6\" >percentage</th>    </tr></thead><tbody>\n",
       "                <tr>\n",
       "                                <td id=\"T_d4c8fbdc_74f5_11ea_ad76_701ce71031efrow0_col0\" class=\"data row0 col0\" >finance</td>\n",
       "                        <td id=\"T_d4c8fbdc_74f5_11ea_ad76_701ce71031efrow0_col1\" class=\"data row0 col1\" >18202</td>\n",
       "                        <td id=\"T_d4c8fbdc_74f5_11ea_ad76_701ce71031efrow0_col2\" class=\"data row0 col2\" >7000</td>\n",
       "                        <td id=\"T_d4c8fbdc_74f5_11ea_ad76_701ce71031efrow0_col3\" class=\"data row0 col3\" >17500</td>\n",
       "                        <td id=\"T_d4c8fbdc_74f5_11ea_ad76_701ce71031efrow0_col4\" class=\"data row0 col4\" >37500</td>\n",
       "                        <td id=\"T_d4c8fbdc_74f5_11ea_ad76_701ce71031efrow0_col5\" class=\"data row0 col5\" >3517</td>\n",
       "                        <td id=\"T_d4c8fbdc_74f5_11ea_ad76_701ce71031efrow0_col6\" class=\"data row0 col6\" >3.62%</td>\n",
       "            </tr>\n",
       "            <tr>\n",
       "                                <td id=\"T_d4c8fbdc_74f5_11ea_ad76_701ce71031efrow1_col0\" class=\"data row1 col0\" ></td>\n",
       "                        <td id=\"T_d4c8fbdc_74f5_11ea_ad76_701ce71031efrow1_col1\" class=\"data row1 col1\" >18007</td>\n",
       "                        <td id=\"T_d4c8fbdc_74f5_11ea_ad76_701ce71031efrow1_col2\" class=\"data row1 col2\" >6938</td>\n",
       "                        <td id=\"T_d4c8fbdc_74f5_11ea_ad76_701ce71031efrow1_col3\" class=\"data row1 col3\" >17500</td>\n",
       "                        <td id=\"T_d4c8fbdc_74f5_11ea_ad76_701ce71031efrow1_col4\" class=\"data row1 col4\" >35000</td>\n",
       "                        <td id=\"T_d4c8fbdc_74f5_11ea_ad76_701ce71031efrow1_col5\" class=\"data row1 col5\" >430</td>\n",
       "                        <td id=\"T_d4c8fbdc_74f5_11ea_ad76_701ce71031efrow1_col6\" class=\"data row1 col6\" >0.44%</td>\n",
       "            </tr>\n",
       "            <tr>\n",
       "                                <td id=\"T_d4c8fbdc_74f5_11ea_ad76_701ce71031efrow2_col0\" class=\"data row2 col0\" >computer</td>\n",
       "                        <td id=\"T_d4c8fbdc_74f5_11ea_ad76_701ce71031efrow2_col1\" class=\"data row2 col1\" >17256</td>\n",
       "                        <td id=\"T_d4c8fbdc_74f5_11ea_ad76_701ce71031efrow2_col2\" class=\"data row2 col2\" >6000</td>\n",
       "                        <td id=\"T_d4c8fbdc_74f5_11ea_ad76_701ce71031efrow2_col3\" class=\"data row2 col3\" >15000</td>\n",
       "                        <td id=\"T_d4c8fbdc_74f5_11ea_ad76_701ce71031efrow2_col4\" class=\"data row2 col4\" >40000</td>\n",
       "                        <td id=\"T_d4c8fbdc_74f5_11ea_ad76_701ce71031efrow2_col5\" class=\"data row2 col5\" >74483</td>\n",
       "                        <td id=\"T_d4c8fbdc_74f5_11ea_ad76_701ce71031efrow2_col6\" class=\"data row2 col6\" >76.75%</td>\n",
       "            </tr>\n",
       "            <tr>\n",
       "                                <td id=\"T_d4c8fbdc_74f5_11ea_ad76_701ce71031efrow3_col0\" class=\"data row3 col0\" >edu</td>\n",
       "                        <td id=\"T_d4c8fbdc_74f5_11ea_ad76_701ce71031efrow3_col1\" class=\"data row3 col1\" >16924</td>\n",
       "                        <td id=\"T_d4c8fbdc_74f5_11ea_ad76_701ce71031efrow3_col2\" class=\"data row3 col2\" >7000</td>\n",
       "                        <td id=\"T_d4c8fbdc_74f5_11ea_ad76_701ce71031efrow3_col3\" class=\"data row3 col3\" >15000</td>\n",
       "                        <td id=\"T_d4c8fbdc_74f5_11ea_ad76_701ce71031efrow3_col4\" class=\"data row3 col4\" >40000</td>\n",
       "                        <td id=\"T_d4c8fbdc_74f5_11ea_ad76_701ce71031efrow3_col5\" class=\"data row3 col5\" >5632</td>\n",
       "                        <td id=\"T_d4c8fbdc_74f5_11ea_ad76_701ce71031efrow3_col6\" class=\"data row3 col6\" >5.80%</td>\n",
       "            </tr>\n",
       "            <tr>\n",
       "                                <td id=\"T_d4c8fbdc_74f5_11ea_ad76_701ce71031efrow4_col0\" class=\"data row4 col0\" >service</td>\n",
       "                        <td id=\"T_d4c8fbdc_74f5_11ea_ad76_701ce71031efrow4_col1\" class=\"data row4 col1\" >16217</td>\n",
       "                        <td id=\"T_d4c8fbdc_74f5_11ea_ad76_701ce71031efrow4_col2\" class=\"data row4 col2\" >7000</td>\n",
       "                        <td id=\"T_d4c8fbdc_74f5_11ea_ad76_701ce71031efrow4_col3\" class=\"data row4 col3\" >15000</td>\n",
       "                        <td id=\"T_d4c8fbdc_74f5_11ea_ad76_701ce71031efrow4_col4\" class=\"data row4 col4\" >30000</td>\n",
       "                        <td id=\"T_d4c8fbdc_74f5_11ea_ad76_701ce71031efrow4_col5\" class=\"data row4 col5\" >544</td>\n",
       "                        <td id=\"T_d4c8fbdc_74f5_11ea_ad76_701ce71031efrow4_col6\" class=\"data row4 col6\" >0.56%</td>\n",
       "            </tr>\n",
       "            <tr>\n",
       "                                <td id=\"T_d4c8fbdc_74f5_11ea_ad76_701ce71031efrow5_col0\" class=\"data row5 col0\" >medical</td>\n",
       "                        <td id=\"T_d4c8fbdc_74f5_11ea_ad76_701ce71031efrow5_col1\" class=\"data row5 col1\" >16138</td>\n",
       "                        <td id=\"T_d4c8fbdc_74f5_11ea_ad76_701ce71031efrow5_col2\" class=\"data row5 col2\" >7000</td>\n",
       "                        <td id=\"T_d4c8fbdc_74f5_11ea_ad76_701ce71031efrow5_col3\" class=\"data row5 col3\" >15000</td>\n",
       "                        <td id=\"T_d4c8fbdc_74f5_11ea_ad76_701ce71031efrow5_col4\" class=\"data row5 col4\" >30000</td>\n",
       "                        <td id=\"T_d4c8fbdc_74f5_11ea_ad76_701ce71031efrow5_col5\" class=\"data row5 col5\" >2082</td>\n",
       "                        <td id=\"T_d4c8fbdc_74f5_11ea_ad76_701ce71031efrow5_col6\" class=\"data row5 col6\" >2.15%</td>\n",
       "            </tr>\n",
       "            <tr>\n",
       "                                <td id=\"T_d4c8fbdc_74f5_11ea_ad76_701ce71031efrow6_col0\" class=\"data row6 col0\" >trade</td>\n",
       "                        <td id=\"T_d4c8fbdc_74f5_11ea_ad76_701ce71031efrow6_col1\" class=\"data row6 col1\" >15950</td>\n",
       "                        <td id=\"T_d4c8fbdc_74f5_11ea_ad76_701ce71031efrow6_col2\" class=\"data row6 col2\" >5500</td>\n",
       "                        <td id=\"T_d4c8fbdc_74f5_11ea_ad76_701ce71031efrow6_col3\" class=\"data row6 col3\" >14500</td>\n",
       "                        <td id=\"T_d4c8fbdc_74f5_11ea_ad76_701ce71031efrow6_col4\" class=\"data row6 col4\" >45000</td>\n",
       "                        <td id=\"T_d4c8fbdc_74f5_11ea_ad76_701ce71031efrow6_col5\" class=\"data row6 col5\" >4419</td>\n",
       "                        <td id=\"T_d4c8fbdc_74f5_11ea_ad76_701ce71031efrow6_col6\" class=\"data row6 col6\" >4.55%</td>\n",
       "            </tr>\n",
       "            <tr>\n",
       "                                <td id=\"T_d4c8fbdc_74f5_11ea_ad76_701ce71031efrow7_col0\" class=\"data row7 col0\" >logistic</td>\n",
       "                        <td id=\"T_d4c8fbdc_74f5_11ea_ad76_701ce71031efrow7_col1\" class=\"data row7 col1\" >15948</td>\n",
       "                        <td id=\"T_d4c8fbdc_74f5_11ea_ad76_701ce71031efrow7_col2\" class=\"data row7 col2\" >7000</td>\n",
       "                        <td id=\"T_d4c8fbdc_74f5_11ea_ad76_701ce71031efrow7_col3\" class=\"data row7 col3\" >13167</td>\n",
       "                        <td id=\"T_d4c8fbdc_74f5_11ea_ad76_701ce71031efrow7_col4\" class=\"data row7 col4\" >37500</td>\n",
       "                        <td id=\"T_d4c8fbdc_74f5_11ea_ad76_701ce71031efrow7_col5\" class=\"data row7 col5\" >1130</td>\n",
       "                        <td id=\"T_d4c8fbdc_74f5_11ea_ad76_701ce71031efrow7_col6\" class=\"data row7 col6\" >1.16%</td>\n",
       "            </tr>\n",
       "            <tr>\n",
       "                                <td id=\"T_d4c8fbdc_74f5_11ea_ad76_701ce71031efrow8_col0\" class=\"data row8 col0\" >realestate</td>\n",
       "                        <td id=\"T_d4c8fbdc_74f5_11ea_ad76_701ce71031efrow8_col1\" class=\"data row8 col1\" >15582</td>\n",
       "                        <td id=\"T_d4c8fbdc_74f5_11ea_ad76_701ce71031efrow8_col2\" class=\"data row8 col2\" >5250</td>\n",
       "                        <td id=\"T_d4c8fbdc_74f5_11ea_ad76_701ce71031efrow8_col3\" class=\"data row8 col3\" >13000</td>\n",
       "                        <td id=\"T_d4c8fbdc_74f5_11ea_ad76_701ce71031efrow8_col4\" class=\"data row8 col4\" >37500</td>\n",
       "                        <td id=\"T_d4c8fbdc_74f5_11ea_ad76_701ce71031efrow8_col5\" class=\"data row8 col5\" >1218</td>\n",
       "                        <td id=\"T_d4c8fbdc_74f5_11ea_ad76_701ce71031efrow8_col6\" class=\"data row8 col6\" >1.26%</td>\n",
       "            </tr>\n",
       "            <tr>\n",
       "                                <td id=\"T_d4c8fbdc_74f5_11ea_ad76_701ce71031efrow9_col0\" class=\"data row9 col0\" >gov</td>\n",
       "                        <td id=\"T_d4c8fbdc_74f5_11ea_ad76_701ce71031efrow9_col1\" class=\"data row9 col1\" >15168</td>\n",
       "                        <td id=\"T_d4c8fbdc_74f5_11ea_ad76_701ce71031efrow9_col2\" class=\"data row9 col2\" >5114</td>\n",
       "                        <td id=\"T_d4c8fbdc_74f5_11ea_ad76_701ce71031efrow9_col3\" class=\"data row9 col3\" >13500</td>\n",
       "                        <td id=\"T_d4c8fbdc_74f5_11ea_ad76_701ce71031efrow9_col4\" class=\"data row9 col4\" >33257</td>\n",
       "                        <td id=\"T_d4c8fbdc_74f5_11ea_ad76_701ce71031efrow9_col5\" class=\"data row9 col5\" >1271</td>\n",
       "                        <td id=\"T_d4c8fbdc_74f5_11ea_ad76_701ce71031efrow9_col6\" class=\"data row9 col6\" >1.31%</td>\n",
       "            </tr>\n",
       "            <tr>\n",
       "                                <td id=\"T_d4c8fbdc_74f5_11ea_ad76_701ce71031efrow10_col0\" class=\"data row10 col0\" >energy</td>\n",
       "                        <td id=\"T_d4c8fbdc_74f5_11ea_ad76_701ce71031efrow10_col1\" class=\"data row10 col1\" >14828</td>\n",
       "                        <td id=\"T_d4c8fbdc_74f5_11ea_ad76_701ce71031efrow10_col2\" class=\"data row10 col2\" >3750</td>\n",
       "                        <td id=\"T_d4c8fbdc_74f5_11ea_ad76_701ce71031efrow10_col3\" class=\"data row10 col3\" >14000</td>\n",
       "                        <td id=\"T_d4c8fbdc_74f5_11ea_ad76_701ce71031efrow10_col4\" class=\"data row10 col4\" >30000</td>\n",
       "                        <td id=\"T_d4c8fbdc_74f5_11ea_ad76_701ce71031efrow10_col5\" class=\"data row10 col5\" >1324</td>\n",
       "                        <td id=\"T_d4c8fbdc_74f5_11ea_ad76_701ce71031efrow10_col6\" class=\"data row10 col6\" >1.36%</td>\n",
       "            </tr>\n",
       "            <tr>\n",
       "                                <td id=\"T_d4c8fbdc_74f5_11ea_ad76_701ce71031efrow11_col0\" class=\"data row11 col0\" >ads</td>\n",
       "                        <td id=\"T_d4c8fbdc_74f5_11ea_ad76_701ce71031efrow11_col1\" class=\"data row11 col1\" >14619</td>\n",
       "                        <td id=\"T_d4c8fbdc_74f5_11ea_ad76_701ce71031efrow11_col2\" class=\"data row11 col2\" >5928</td>\n",
       "                        <td id=\"T_d4c8fbdc_74f5_11ea_ad76_701ce71031efrow11_col3\" class=\"data row11 col3\" >13389</td>\n",
       "                        <td id=\"T_d4c8fbdc_74f5_11ea_ad76_701ce71031efrow11_col4\" class=\"data row11 col4\" >29166</td>\n",
       "                        <td id=\"T_d4c8fbdc_74f5_11ea_ad76_701ce71031efrow11_col5\" class=\"data row11 col5\" >991</td>\n",
       "                        <td id=\"T_d4c8fbdc_74f5_11ea_ad76_701ce71031efrow11_col6\" class=\"data row11 col6\" >1.02%</td>\n",
       "            </tr>\n",
       "    </tbody></table>"
      ],
      "text/plain": [
       "<pandas.io.formats.style.Styler at 0x196a32b8b08>"
      ]
     },
     "execution_count": 51,
     "metadata": {},
     "output_type": "execute_result"
    }
   ],
   "source": [
    "data_industry=get_sub_stats_by_col(data,'industry')\n",
    "apply_style(data_industry)"
   ]
  },
  {
   "cell_type": "code",
   "execution_count": null,
   "metadata": {},
   "outputs": [],
   "source": []
  },
  {
   "cell_type": "code",
   "execution_count": null,
   "metadata": {},
   "outputs": [],
   "source": []
  }
 ],
 "metadata": {
  "kernelspec": {
   "display_name": "Python 3",
   "language": "python",
   "name": "python3"
  },
  "language_info": {
   "codemirror_mode": {
    "name": "ipython",
    "version": 3
   },
   "file_extension": ".py",
   "mimetype": "text/x-python",
   "name": "python",
   "nbconvert_exporter": "python",
   "pygments_lexer": "ipython3",
   "version": "3.7.4"
  }
 },
 "nbformat": 4,
 "nbformat_minor": 4
}
