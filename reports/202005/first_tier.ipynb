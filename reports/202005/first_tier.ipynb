{
 "cells": [
  {
   "cell_type": "code",
   "execution_count": 1,
   "metadata": {},
   "outputs": [],
   "source": [
    "from config import *"
   ]
  },
  {
   "cell_type": "code",
   "execution_count": 2,
   "metadata": {},
   "outputs": [
    {
     "name": "stdout",
     "output_type": "stream",
     "text": [
      "2020年4月\n"
     ]
    }
   ],
   "source": [
    "print(f'{year}年{month}月')"
   ]
  },
  {
   "cell_type": "markdown",
   "metadata": {},
   "source": [
    "# Developer Salary in First-Tier Cities 程序员工资调查\n",
    "我在4月1日到3日之间，抓取了某招聘网站的软件和互联网类招聘数据40万条，其中通过程序判断为程序员的14万条。地域方面，我选择了24个主要城市。不过本文只以一线城市为研究对象。这样是为了和我2017年6月的数据做对比。\n",
    "\n",
    "提到2017年的文章，现在居然还有很多人，把这篇文章拿出来炒作。对于社会来说，可气的是，他们直接把2017改成2019，就发表了，这不是骗人么？！对于我来说，可气的是，他们转载居然还冒充是原创，是可忍熟不可忍！"
   ]
  },
  {
   "cell_type": "code",
   "execution_count": 3,
   "metadata": {},
   "outputs": [],
   "source": [
    "import pandas as pd\n",
    "import sys\n",
    "sys.path.append('..')\n",
    "sys.path.append('../py')\n",
    "sys.path.append('../../py')\n",
    "import db\n",
    "import inspect\n",
    "import matplotlib.pyplot as plt\n",
    "plt.rcParams['font.sans-serif']=['SimHei'] #用来正常显示中文标签\n",
    "plt.rcParams['axes.unicode_minus']=False #用来正常显示负号\n",
    "import seaborn as sns\n",
    "import scipy.stats as stats\n",
    "import numpy as np\n",
    "import weighted\n",
    "%matplotlib inline"
   ]
  },
  {
   "cell_type": "code",
   "execution_count": 4,
   "metadata": {},
   "outputs": [],
   "source": [
    "conn=db.get_conn()\n",
    "data_original=pd.read_sql(sql=f\"select * from _{year}{month:02} where monthly_salary>0 and city in ('北京','上海','广州','深圳')  and monthly_salary<80000\", con=conn)\n",
    "conn.close()"
   ]
  },
  {
   "cell_type": "code",
   "execution_count": 5,
   "metadata": {},
   "outputs": [],
   "source": [
    "data=data_original"
   ]
  },
  {
   "cell_type": "code",
   "execution_count": 6,
   "metadata": {},
   "outputs": [],
   "source": [
    "#del data['publish_date']\n",
    "#del data['published_on_weekend']\n",
    "#del data['title']\n",
    "#del data['title']\n",
    "#del data['company_title']\n",
    "#del data['company_description']\n",
    "#del data['job_description']\n",
    "#del data['job_id']"
   ]
  },
  {
   "cell_type": "code",
   "execution_count": 7,
   "metadata": {},
   "outputs": [
    {
     "data": {
      "text/html": [
       "<div>\n",
       "<style scoped>\n",
       "    .dataframe tbody tr th:only-of-type {\n",
       "        vertical-align: middle;\n",
       "    }\n",
       "\n",
       "    .dataframe tbody tr th {\n",
       "        vertical-align: top;\n",
       "    }\n",
       "\n",
       "    .dataframe thead th {\n",
       "        text-align: right;\n",
       "    }\n",
       "</style>\n",
       "<table border=\"1\" class=\"dataframe\">\n",
       "  <thead>\n",
       "    <tr style=\"text-align: right;\">\n",
       "      <th></th>\n",
       "      <th>job_id</th>\n",
       "      <th>monthly_salary</th>\n",
       "      <th>headcount</th>\n",
       "      <th>title</th>\n",
       "      <th>zhinengleibie</th>\n",
       "      <th>career</th>\n",
       "      <th>real_province</th>\n",
       "      <th>province</th>\n",
       "      <th>city</th>\n",
       "      <th>company_id</th>\n",
       "      <th>...</th>\n",
       "      <th>bd_hbase</th>\n",
       "      <th>bd_storm</th>\n",
       "      <th>bd_pig</th>\n",
       "      <th>bd_mahout</th>\n",
       "      <th>bd_impala</th>\n",
       "      <th>bd_yarn</th>\n",
       "      <th>bd_alluxio</th>\n",
       "      <th>bd_flink</th>\n",
       "      <th>bd_presto</th>\n",
       "      <th>bd_heron</th>\n",
       "    </tr>\n",
       "  </thead>\n",
       "  <tbody>\n",
       "    <tr>\n",
       "      <th>57944</th>\n",
       "      <td>99101707</td>\n",
       "      <td>10000</td>\n",
       "      <td>500</td>\n",
       "      <td>高薪诚聘专车司机</td>\n",
       "      <td>推荐算法工程师</td>\n",
       "      <td>推荐算法工程师</td>\n",
       "      <td>None</td>\n",
       "      <td>上海</td>\n",
       "      <td>上海</td>\n",
       "      <td>co4768735</td>\n",
       "      <td>...</td>\n",
       "      <td>False</td>\n",
       "      <td>False</td>\n",
       "      <td>False</td>\n",
       "      <td>False</td>\n",
       "      <td>False</td>\n",
       "      <td>False</td>\n",
       "      <td>False</td>\n",
       "      <td>False</td>\n",
       "      <td>False</td>\n",
       "      <td>False</td>\n",
       "    </tr>\n",
       "    <tr>\n",
       "      <th>48720</th>\n",
       "      <td>120903677</td>\n",
       "      <td>12500</td>\n",
       "      <td>460</td>\n",
       "      <td>web前端开发</td>\n",
       "      <td>前端开发</td>\n",
       "      <td>前端开发</td>\n",
       "      <td>None</td>\n",
       "      <td>广东</td>\n",
       "      <td>深圳</td>\n",
       "      <td>co5810766</td>\n",
       "      <td>...</td>\n",
       "      <td>False</td>\n",
       "      <td>False</td>\n",
       "      <td>False</td>\n",
       "      <td>False</td>\n",
       "      <td>False</td>\n",
       "      <td>False</td>\n",
       "      <td>False</td>\n",
       "      <td>False</td>\n",
       "      <td>False</td>\n",
       "      <td>False</td>\n",
       "    </tr>\n",
       "    <tr>\n",
       "      <th>42221</th>\n",
       "      <td>120372068</td>\n",
       "      <td>9000</td>\n",
       "      <td>280</td>\n",
       "      <td>软件开发、数据分析、产品、设计类岗位</td>\n",
       "      <td>软件工程师</td>\n",
       "      <td>软件工程师</td>\n",
       "      <td>None</td>\n",
       "      <td>异地招聘</td>\n",
       "      <td>上海</td>\n",
       "      <td>co5782817</td>\n",
       "      <td>...</td>\n",
       "      <td>False</td>\n",
       "      <td>False</td>\n",
       "      <td>False</td>\n",
       "      <td>False</td>\n",
       "      <td>False</td>\n",
       "      <td>False</td>\n",
       "      <td>False</td>\n",
       "      <td>False</td>\n",
       "      <td>False</td>\n",
       "      <td>False</td>\n",
       "    </tr>\n",
       "    <tr>\n",
       "      <th>42220</th>\n",
       "      <td>120372004</td>\n",
       "      <td>9000</td>\n",
       "      <td>280</td>\n",
       "      <td>软件开发、数据分析、产品、设计类岗位</td>\n",
       "      <td>软件工程师</td>\n",
       "      <td>软件工程师</td>\n",
       "      <td>None</td>\n",
       "      <td>上海</td>\n",
       "      <td>上海</td>\n",
       "      <td>co5782817</td>\n",
       "      <td>...</td>\n",
       "      <td>False</td>\n",
       "      <td>False</td>\n",
       "      <td>False</td>\n",
       "      <td>False</td>\n",
       "      <td>False</td>\n",
       "      <td>False</td>\n",
       "      <td>False</td>\n",
       "      <td>False</td>\n",
       "      <td>False</td>\n",
       "      <td>False</td>\n",
       "    </tr>\n",
       "    <tr>\n",
       "      <th>19253</th>\n",
       "      <td>116717167</td>\n",
       "      <td>10000</td>\n",
       "      <td>200</td>\n",
       "      <td>海外业务软件工程师（2020届）</td>\n",
       "      <td>软件工程师</td>\n",
       "      <td>软件工程师</td>\n",
       "      <td>None</td>\n",
       "      <td>上海</td>\n",
       "      <td>上海</td>\n",
       "      <td>co618738</td>\n",
       "      <td>...</td>\n",
       "      <td>False</td>\n",
       "      <td>False</td>\n",
       "      <td>False</td>\n",
       "      <td>False</td>\n",
       "      <td>False</td>\n",
       "      <td>False</td>\n",
       "      <td>False</td>\n",
       "      <td>False</td>\n",
       "      <td>False</td>\n",
       "      <td>False</td>\n",
       "    </tr>\n",
       "  </tbody>\n",
       "</table>\n",
       "<p>5 rows × 114 columns</p>\n",
       "</div>"
      ],
      "text/plain": [
       "          job_id  monthly_salary  headcount               title zhinengleibie  \\\n",
       "57944   99101707           10000        500            高薪诚聘专车司机       推荐算法工程师   \n",
       "48720  120903677           12500        460             web前端开发          前端开发   \n",
       "42221  120372068            9000        280  软件开发、数据分析、产品、设计类岗位         软件工程师   \n",
       "42220  120372004            9000        280  软件开发、数据分析、产品、设计类岗位         软件工程师   \n",
       "19253  116717167           10000        200    海外业务软件工程师（2020届）         软件工程师   \n",
       "\n",
       "        career real_province province city company_id  ... bd_hbase bd_storm  \\\n",
       "57944  推荐算法工程师          None       上海   上海  co4768735  ...    False    False   \n",
       "48720     前端开发          None       广东   深圳  co5810766  ...    False    False   \n",
       "42221    软件工程师          None     异地招聘   上海  co5782817  ...    False    False   \n",
       "42220    软件工程师          None       上海   上海  co5782817  ...    False    False   \n",
       "19253    软件工程师          None       上海   上海   co618738  ...    False    False   \n",
       "\n",
       "       bd_pig bd_mahout  bd_impala  bd_yarn bd_alluxio bd_flink bd_presto  \\\n",
       "57944   False     False      False    False      False    False     False   \n",
       "48720   False     False      False    False      False    False     False   \n",
       "42221   False     False      False    False      False    False     False   \n",
       "42220   False     False      False    False      False    False     False   \n",
       "19253   False     False      False    False      False    False     False   \n",
       "\n",
       "      bd_heron  \n",
       "57944    False  \n",
       "48720    False  \n",
       "42221    False  \n",
       "42220    False  \n",
       "19253    False  \n",
       "\n",
       "[5 rows x 114 columns]"
      ]
     },
     "execution_count": 7,
     "metadata": {},
     "output_type": "execute_result"
    }
   ],
   "source": [
    "data=data.sort_values(by='headcount', ascending=False)\n",
    "data.head()"
   ]
  },
  {
   "cell_type": "code",
   "execution_count": 8,
   "metadata": {},
   "outputs": [],
   "source": [
    "def pd_weighted_mean(group, avg_name, weight_name):\n",
    "    \"\"\" http://stackoverflow.com/questions/10951341/pandas-dataframe-aggregate-function-using-multiple-columns\n",
    "    In rare instance, we may not have weights, so just return the mean. Customize this if your business case\n",
    "    should return otherwise.\n",
    "    \"\"\"\n",
    "    d = group[avg_name]\n",
    "    w = group[weight_name]\n",
    "    try:\n",
    "        return (d * w).sum() / w.sum()\n",
    "    except ZeroDivisionError:\n",
    "        return d.mean()\n"
   ]
  },
  {
   "cell_type": "markdown",
   "metadata": {},
   "source": [
    "# Unilateral Stats 总体统计"
   ]
  },
  {
   "cell_type": "markdown",
   "metadata": {},
   "source": [
    "有数据可知，程序员向一线城市集中的趋势非常明显。\n",
    "\n",
    "According to the statistics, significant amount of developers are in the first tier cities."
   ]
  },
  {
   "cell_type": "code",
   "execution_count": 9,
   "metadata": {},
   "outputs": [
    {
     "data": {
      "text/plain": [
       "(58340, 114)"
      ]
     },
     "execution_count": 9,
     "metadata": {},
     "output_type": "execute_result"
    }
   ],
   "source": [
    "data.shape"
   ]
  },
  {
   "cell_type": "code",
   "execution_count": 10,
   "metadata": {},
   "outputs": [
    {
     "data": {
      "text/plain": [
       "191275"
      ]
     },
     "execution_count": 10,
     "metadata": {},
     "output_type": "execute_result"
    }
   ],
   "source": [
    "data.headcount.sum()"
   ]
  },
  {
   "cell_type": "code",
   "execution_count": 11,
   "metadata": {},
   "outputs": [
    {
     "data": {
      "text/plain": [
       "array([ 5500., 11500., 14583., 20000., 37500.])"
      ]
     },
     "execution_count": 11,
     "metadata": {},
     "output_type": "execute_result"
    }
   ],
   "source": [
    "salary_mean=weighted.weighted_mean(data.monthly_salary.values, data.headcount.values)\n",
    "q=weighted.weighted_quantile(data.monthly_salary.values,[0.025,0.25,0.5,0.75,0.975], data.headcount.values)\n",
    "q"
   ]
  },
  {
   "cell_type": "code",
   "execution_count": 12,
   "metadata": {},
   "outputs": [
    {
     "name": "stdout",
     "output_type": "stream",
     "text": [
      "2020年4月中国一线城市程序员的平均工资为16438元，工资中位数为14583元，其中95%的人的工资位于5500到37500元之间。\n"
     ]
    }
   ],
   "source": [
    "print(f'{year}年{month}月中国一线城市程序员的平均工资为{salary_mean:.0f}元，工资中位数为{q[2]:.0f}元，其中95%的人的工资位于{q[0]:.0f}到{q[4]:.0f}元之间。')"
   ]
  },
  {
   "cell_type": "code",
   "execution_count": 13,
   "metadata": {},
   "outputs": [
    {
     "name": "stdout",
     "output_type": "stream",
     "text": [
      "In 2020, Developers in China earn 16438 Yuan as average, the median is 14583 Yuan, 95% of them earn between 5500 and 37500 Yuan.\n"
     ]
    }
   ],
   "source": [
    "print(f'In {year}, Developers in China earn {salary_mean:.0f} Yuan as average, '\n",
    "      f'the median is {q[2]:.0f} Yuan, 95% of them earn between {q[0]:.0f} and {q[4]:.0f} Yuan.')"
   ]
  },
  {
   "cell_type": "code",
   "execution_count": 14,
   "metadata": {},
   "outputs": [
    {
     "data": {
      "image/png": "[encoded data removed]",
      "text/plain": [
       "<Figure size 432x288 with 1 Axes>"
      ]
     },
     "metadata": {
      "needs_background": "light"
     },
     "output_type": "display_data"
    }
   ],
   "source": [
    "data.monthly_salary.hist()\n",
    "plt.show()"
   ]
  },
  {
   "cell_type": "markdown",
   "metadata": {},
   "source": [
    "It does not look like normal distribution."
   ]
  },
  {
   "cell_type": "code",
   "execution_count": 15,
   "metadata": {},
   "outputs": [],
   "source": [
    "from scipy import stats"
   ]
  },
  {
   "cell_type": "code",
   "execution_count": 16,
   "metadata": {},
   "outputs": [
    {
     "data": {
      "text/plain": [
       "NormaltestResult(statistic=18721.323749298317, pvalue=0.0)"
      ]
     },
     "execution_count": 16,
     "metadata": {},
     "output_type": "execute_result"
    }
   ],
   "source": [
    "stats.normaltest(data.monthly_salary)"
   ]
  },
  {
   "cell_type": "markdown",
   "metadata": {},
   "source": [
    "null hypothesis: x comes from a normal distribution\n",
    "    \n",
    "p=0\n",
    "\n",
    "The null hypothesis can be rejected\n",
    "\n",
    "conclusion: data is not normally distributed."
   ]
  },
  {
   "cell_type": "markdown",
   "metadata": {},
   "source": [
    "Zoom in"
   ]
  },
  {
   "cell_type": "code",
   "execution_count": 17,
   "metadata": {},
   "outputs": [
    {
     "data": {
      "image/png": "[encoded data removed]",
      "text/plain": [
       "<Figure size 432x288 with 1 Axes>"
      ]
     },
     "metadata": {
      "needs_background": "light"
     },
     "output_type": "display_data"
    }
   ],
   "source": [
    "data[data.monthly_salary<40000].monthly_salary.hist()\n",
    "plt.annotate('https://github.com/juwikuang/job_survey', xy=(0,0), xytext=(2000, 100), color='white')\n",
    "plt.show()"
   ]
  },
  {
   "cell_type": "markdown",
   "metadata": {},
   "source": [
    "## Role 角色"
   ]
  },
  {
   "cell_type": "code",
   "execution_count": 18,
   "metadata": {},
   "outputs": [],
   "source": [
    "#Common Functions\n",
    "def get_sub_stats_by_col(data, col):\n",
    "    categories=data[col].unique()\n",
    "    salary_mean=[]\n",
    "    salary_95_min=[]\n",
    "    salary_95_max=[]\n",
    "    salary_median=[]\n",
    "    \n",
    "\n",
    "    count=[]\n",
    "    \n",
    "    categorys_out=[]\n",
    "    for category in categories:\n",
    "        #print(feature)\n",
    "        idata=data[data[col]==category]\n",
    "        headcount=idata.headcount.sum()\n",
    "        values = idata.monthly_salary.values\n",
    "        weights = idata.headcount.values\n",
    "        #print(str(headcount))\n",
    "        if headcount==0:\n",
    "            continue\n",
    "        \n",
    "        salary_mean.append(np.average(values, weights=weights))\n",
    "        \n",
    "\n",
    "        q = weighted.weighted_quantile(values,[0.025,0.5,0.975],weights)\n",
    "        salary_95_min.append(q[0])\n",
    "        salary_median.append(q[1])\n",
    "        salary_95_max.append(q[2])\n",
    "        count.append(idata.headcount.sum())\n",
    "        categorys_out.append(category)\n",
    "    sub_data=pd.DataFrame()\n",
    "    sub_data[col]=[c for c in categorys_out]\n",
    "    sub_data['salary_mean']=salary_mean\n",
    "    sub_data['salary_95_min']=salary_95_min\n",
    "    sub_data['salary_median']=salary_median\n",
    "    sub_data['salary_95_max']=salary_95_max\n",
    "    sub_data['head_count']=count\n",
    "    sub_data['percentage']=count/np.sum(count)\n",
    "    sub_data=sub_data.sort_values(by='salary_mean', ascending=False)\n",
    "\n",
    "    return sub_data\n",
    "\n",
    "def get_sub_stats_by_prefix(data, prefix):\n",
    "    \n",
    "    features = [feature for feature in data.columns if feature.startswith(prefix)]\n",
    "    salary_mean=[]\n",
    "    salary_median=[]\n",
    "    salary_95_min=[]\n",
    "    salary_95_max=[]\n",
    "    count=[]\n",
    "    \n",
    "    features_out=[]\n",
    "    for feature in features:\n",
    "        #print(feature)\n",
    "        idata=data[data[feature]==1]\n",
    "        headcount=idata.headcount.sum()\n",
    "        values = idata.monthly_salary.values\n",
    "        weights = idata.headcount.values\n",
    "        #print(str(headcount))\n",
    "        if headcount==0:\n",
    "            continue\n",
    "        \n",
    "        salary_mean.append(weighted.weighted_mean(values, weights))\n",
    "        q = weighted.weighted_quantile(values,[0.025,0.5,0.975],weights)\n",
    "        salary_median.append(q[1])\n",
    "        salary_95_min.append(q[0])\n",
    "        salary_95_max.append(q[2])\n",
    "        count.append(idata.headcount.sum())\n",
    "        features_out.append(feature)\n",
    "    sub_data=pd.DataFrame()\n",
    "    sub_data['rank']=range(0,len(features_out))\n",
    "    sub_data[prefix]=[f.replace(prefix,'') for f in features_out]\n",
    "    sub_data['salary_mean']=salary_mean\n",
    "    sub_data['salary_median']=salary_median\n",
    "    sub_data['salary_95_min']=salary_95_min\n",
    "    sub_data['salary_95_max']=salary_95_max\n",
    "    sub_data['head_count']=count\n",
    "    sub_data['percentage']=count/np.sum(count)\n",
    "    sub_data=sub_data.sort_values(by='salary_mean', ascending=False)\n",
    "    sub_data['rank']=range(1,len(features_out)+1)\n",
    "    #sub_data=sub_data.reset_index()\n",
    "    return sub_data\n",
    "\n",
    "def apply_style(sub_data):\n",
    "    return sub_data.style.hide_index().format(\n",
    "    {\"salary_mean\":\"{:.0f}\",\"salary_median\":\"{:.0f}\",\"salary_95_min\":\"{:.0f}\",\"salary_95_max\":\"{:.0f}\",\"percentage\":\"{:.2%}\"})"
   ]
  },
  {
   "cell_type": "code",
   "execution_count": 19,
   "metadata": {},
   "outputs": [
    {
     "data": {
      "text/html": [
       "<style  type=\"text/css\" >\n",
       "</style><table id=\"T_08a7b7b6_7802_11ea_bc94_701ce71031ef\" ><thead>    <tr>        <th class=\"blank level0\" ></th>        <th class=\"col_heading level0 col0\" >career</th>        <th class=\"col_heading level0 col1\" >salary_mean</th>        <th class=\"col_heading level0 col2\" >salary_95_min</th>        <th class=\"col_heading level0 col3\" >salary_median</th>        <th class=\"col_heading level0 col4\" >salary_95_max</th>        <th class=\"col_heading level0 col5\" >head_count</th>        <th class=\"col_heading level0 col6\" >percentage</th>    </tr></thead><tbody>\n",
       "                <tr>\n",
       "                        <th id=\"T_08a7b7b6_7802_11ea_bc94_701ce71031eflevel0_row0\" class=\"row_heading level0 row0\" >46</th>\n",
       "                        <td id=\"T_08a7b7b6_7802_11ea_bc94_701ce71031efrow0_col0\" class=\"data row0 col0\" >CTO</td>\n",
       "                        <td id=\"T_08a7b7b6_7802_11ea_bc94_701ce71031efrow0_col1\" class=\"data row0 col1\" >39288</td>\n",
       "                        <td id=\"T_08a7b7b6_7802_11ea_bc94_701ce71031efrow0_col2\" class=\"data row0 col2\" >25000.000000</td>\n",
       "                        <td id=\"T_08a7b7b6_7802_11ea_bc94_701ce71031efrow0_col3\" class=\"data row0 col3\" >36250</td>\n",
       "                        <td id=\"T_08a7b7b6_7802_11ea_bc94_701ce71031efrow0_col4\" class=\"data row0 col4\" >69041.600000</td>\n",
       "                        <td id=\"T_08a7b7b6_7802_11ea_bc94_701ce71031efrow0_col5\" class=\"data row0 col5\" >24</td>\n",
       "                        <td id=\"T_08a7b7b6_7802_11ea_bc94_701ce71031efrow0_col6\" class=\"data row0 col6\" >0.01%</td>\n",
       "            </tr>\n",
       "            <tr>\n",
       "                        <th id=\"T_08a7b7b6_7802_11ea_bc94_701ce71031eflevel0_row1\" class=\"row_heading level0 row1\" >39</th>\n",
       "                        <td id=\"T_08a7b7b6_7802_11ea_bc94_701ce71031efrow1_col0\" class=\"data row1 col0\" >编译器开发工程师</td>\n",
       "                        <td id=\"T_08a7b7b6_7802_11ea_bc94_701ce71031efrow1_col1\" class=\"data row1 col1\" >30697</td>\n",
       "                        <td id=\"T_08a7b7b6_7802_11ea_bc94_701ce71031efrow1_col2\" class=\"data row1 col2\" >12500.000000</td>\n",
       "                        <td id=\"T_08a7b7b6_7802_11ea_bc94_701ce71031efrow1_col3\" class=\"data row1 col3\" >32500</td>\n",
       "                        <td id=\"T_08a7b7b6_7802_11ea_bc94_701ce71031efrow1_col4\" class=\"data row1 col4\" >39604.166667</td>\n",
       "                        <td id=\"T_08a7b7b6_7802_11ea_bc94_701ce71031efrow1_col5\" class=\"data row1 col5\" >39</td>\n",
       "                        <td id=\"T_08a7b7b6_7802_11ea_bc94_701ce71031efrow1_col6\" class=\"data row1 col6\" >0.02%</td>\n",
       "            </tr>\n",
       "            <tr>\n",
       "                        <th id=\"T_08a7b7b6_7802_11ea_bc94_701ce71031eflevel0_row2\" class=\"row_heading level0 row2\" >14</th>\n",
       "                        <td id=\"T_08a7b7b6_7802_11ea_bc94_701ce71031efrow2_col0\" class=\"data row2 col0\" >架构师</td>\n",
       "                        <td id=\"T_08a7b7b6_7802_11ea_bc94_701ce71031efrow2_col1\" class=\"data row2 col1\" >28198</td>\n",
       "                        <td id=\"T_08a7b7b6_7802_11ea_bc94_701ce71031efrow2_col2\" class=\"data row2 col2\" >11500.000000</td>\n",
       "                        <td id=\"T_08a7b7b6_7802_11ea_bc94_701ce71031efrow2_col3\" class=\"data row2 col3\" >27500</td>\n",
       "                        <td id=\"T_08a7b7b6_7802_11ea_bc94_701ce71031efrow2_col4\" class=\"data row2 col4\" >54270.250000</td>\n",
       "                        <td id=\"T_08a7b7b6_7802_11ea_bc94_701ce71031efrow2_col5\" class=\"data row2 col5\" >3615</td>\n",
       "                        <td id=\"T_08a7b7b6_7802_11ea_bc94_701ce71031efrow2_col6\" class=\"data row2 col6\" >1.89%</td>\n",
       "            </tr>\n",
       "            <tr>\n",
       "                        <th id=\"T_08a7b7b6_7802_11ea_bc94_701ce71031eflevel0_row3\" class=\"row_heading level0 row3\" >12</th>\n",
       "                        <td id=\"T_08a7b7b6_7802_11ea_bc94_701ce71031efrow3_col0\" class=\"data row3 col0\" >系统架构设计师</td>\n",
       "                        <td id=\"T_08a7b7b6_7802_11ea_bc94_701ce71031efrow3_col1\" class=\"data row3 col1\" >27350</td>\n",
       "                        <td id=\"T_08a7b7b6_7802_11ea_bc94_701ce71031efrow3_col2\" class=\"data row3 col2\" >7000.000000</td>\n",
       "                        <td id=\"T_08a7b7b6_7802_11ea_bc94_701ce71031efrow3_col3\" class=\"data row3 col3\" >28666</td>\n",
       "                        <td id=\"T_08a7b7b6_7802_11ea_bc94_701ce71031efrow3_col4\" class=\"data row3 col4\" >45833.000000</td>\n",
       "                        <td id=\"T_08a7b7b6_7802_11ea_bc94_701ce71031efrow3_col5\" class=\"data row3 col5\" >1273</td>\n",
       "                        <td id=\"T_08a7b7b6_7802_11ea_bc94_701ce71031efrow3_col6\" class=\"data row3 col6\" >0.67%</td>\n",
       "            </tr>\n",
       "            <tr>\n",
       "                        <th id=\"T_08a7b7b6_7802_11ea_bc94_701ce71031eflevel0_row4\" class=\"row_heading level0 row4\" >48</th>\n",
       "                        <td id=\"T_08a7b7b6_7802_11ea_bc94_701ce71031efrow4_col0\" class=\"data row4 col0\" >SLAM</td>\n",
       "                        <td id=\"T_08a7b7b6_7802_11ea_bc94_701ce71031efrow4_col1\" class=\"data row4 col1\" >26231</td>\n",
       "                        <td id=\"T_08a7b7b6_7802_11ea_bc94_701ce71031efrow4_col2\" class=\"data row4 col2\" >12500.000000</td>\n",
       "                        <td id=\"T_08a7b7b6_7802_11ea_bc94_701ce71031efrow4_col3\" class=\"data row4 col3\" >30000</td>\n",
       "                        <td id=\"T_08a7b7b6_7802_11ea_bc94_701ce71031efrow4_col4\" class=\"data row4 col4\" >30000.000000</td>\n",
       "                        <td id=\"T_08a7b7b6_7802_11ea_bc94_701ce71031efrow4_col5\" class=\"data row4 col5\" >13</td>\n",
       "                        <td id=\"T_08a7b7b6_7802_11ea_bc94_701ce71031efrow4_col6\" class=\"data row4 col6\" >0.01%</td>\n",
       "            </tr>\n",
       "            <tr>\n",
       "                        <th id=\"T_08a7b7b6_7802_11ea_bc94_701ce71031eflevel0_row5\" class=\"row_heading level0 row5\" >36</th>\n",
       "                        <td id=\"T_08a7b7b6_7802_11ea_bc94_701ce71031efrow5_col0\" class=\"data row5 col0\" >芯片</td>\n",
       "                        <td id=\"T_08a7b7b6_7802_11ea_bc94_701ce71031efrow5_col1\" class=\"data row5 col1\" >25508</td>\n",
       "                        <td id=\"T_08a7b7b6_7802_11ea_bc94_701ce71031efrow5_col2\" class=\"data row5 col2\" >10495.454545</td>\n",
       "                        <td id=\"T_08a7b7b6_7802_11ea_bc94_701ce71031efrow5_col3\" class=\"data row5 col3\" >22500</td>\n",
       "                        <td id=\"T_08a7b7b6_7802_11ea_bc94_701ce71031efrow5_col4\" class=\"data row5 col4\" >50000.000000</td>\n",
       "                        <td id=\"T_08a7b7b6_7802_11ea_bc94_701ce71031efrow5_col5\" class=\"data row5 col5\" >114</td>\n",
       "                        <td id=\"T_08a7b7b6_7802_11ea_bc94_701ce71031efrow5_col6\" class=\"data row5 col6\" >0.06%</td>\n",
       "            </tr>\n",
       "            <tr>\n",
       "                        <th id=\"T_08a7b7b6_7802_11ea_bc94_701ce71031eflevel0_row6\" class=\"row_heading level0 row6\" >42</th>\n",
       "                        <td id=\"T_08a7b7b6_7802_11ea_bc94_701ce71031efrow6_col0\" class=\"data row6 col0\" >ADAS</td>\n",
       "                        <td id=\"T_08a7b7b6_7802_11ea_bc94_701ce71031efrow6_col1\" class=\"data row6 col1\" >24086</td>\n",
       "                        <td id=\"T_08a7b7b6_7802_11ea_bc94_701ce71031efrow6_col2\" class=\"data row6 col2\" >10416.000000</td>\n",
       "                        <td id=\"T_08a7b7b6_7802_11ea_bc94_701ce71031efrow6_col3\" class=\"data row6 col3\" >26667</td>\n",
       "                        <td id=\"T_08a7b7b6_7802_11ea_bc94_701ce71031efrow6_col4\" class=\"data row6 col4\" >45291.350000</td>\n",
       "                        <td id=\"T_08a7b7b6_7802_11ea_bc94_701ce71031efrow6_col5\" class=\"data row6 col5\" >26</td>\n",
       "                        <td id=\"T_08a7b7b6_7802_11ea_bc94_701ce71031efrow6_col6\" class=\"data row6 col6\" >0.01%</td>\n",
       "            </tr>\n",
       "            <tr>\n",
       "                        <th id=\"T_08a7b7b6_7802_11ea_bc94_701ce71031eflevel0_row7\" class=\"row_heading level0 row7\" >22</th>\n",
       "                        <td id=\"T_08a7b7b6_7802_11ea_bc94_701ce71031efrow7_col0\" class=\"data row7 col0\" >机器学习</td>\n",
       "                        <td id=\"T_08a7b7b6_7802_11ea_bc94_701ce71031efrow7_col1\" class=\"data row7 col1\" >23818</td>\n",
       "                        <td id=\"T_08a7b7b6_7802_11ea_bc94_701ce71031efrow7_col2\" class=\"data row7 col2\" >5250.000000</td>\n",
       "                        <td id=\"T_08a7b7b6_7802_11ea_bc94_701ce71031efrow7_col3\" class=\"data row7 col3\" >22500</td>\n",
       "                        <td id=\"T_08a7b7b6_7802_11ea_bc94_701ce71031efrow7_col4\" class=\"data row7 col4\" >58333.000000</td>\n",
       "                        <td id=\"T_08a7b7b6_7802_11ea_bc94_701ce71031efrow7_col5\" class=\"data row7 col5\" >825</td>\n",
       "                        <td id=\"T_08a7b7b6_7802_11ea_bc94_701ce71031efrow7_col6\" class=\"data row7 col6\" >0.43%</td>\n",
       "            </tr>\n",
       "            <tr>\n",
       "                        <th id=\"T_08a7b7b6_7802_11ea_bc94_701ce71031eflevel0_row8\" class=\"row_heading level0 row8\" >5</th>\n",
       "                        <td id=\"T_08a7b7b6_7802_11ea_bc94_701ce71031efrow8_col0\" class=\"data row8 col0\" >算法工程师</td>\n",
       "                        <td id=\"T_08a7b7b6_7802_11ea_bc94_701ce71031efrow8_col1\" class=\"data row8 col1\" >22302</td>\n",
       "                        <td id=\"T_08a7b7b6_7802_11ea_bc94_701ce71031efrow8_col2\" class=\"data row8 col2\" >7500.000000</td>\n",
       "                        <td id=\"T_08a7b7b6_7802_11ea_bc94_701ce71031efrow8_col3\" class=\"data row8 col3\" >20833</td>\n",
       "                        <td id=\"T_08a7b7b6_7802_11ea_bc94_701ce71031efrow8_col4\" class=\"data row8 col4\" >45000.000000</td>\n",
       "                        <td id=\"T_08a7b7b6_7802_11ea_bc94_701ce71031efrow8_col5\" class=\"data row8 col5\" >6564</td>\n",
       "                        <td id=\"T_08a7b7b6_7802_11ea_bc94_701ce71031efrow8_col6\" class=\"data row8 col6\" >3.43%</td>\n",
       "            </tr>\n",
       "            <tr>\n",
       "                        <th id=\"T_08a7b7b6_7802_11ea_bc94_701ce71031eflevel0_row9\" class=\"row_heading level0 row9\" >26</th>\n",
       "                        <td id=\"T_08a7b7b6_7802_11ea_bc94_701ce71031efrow9_col0\" class=\"data row9 col0\" >图像算法工程师</td>\n",
       "                        <td id=\"T_08a7b7b6_7802_11ea_bc94_701ce71031efrow9_col1\" class=\"data row9 col1\" >22119</td>\n",
       "                        <td id=\"T_08a7b7b6_7802_11ea_bc94_701ce71031efrow9_col2\" class=\"data row9 col2\" >7000.000000</td>\n",
       "                        <td id=\"T_08a7b7b6_7802_11ea_bc94_701ce71031efrow9_col3\" class=\"data row9 col3\" >20000</td>\n",
       "                        <td id=\"T_08a7b7b6_7802_11ea_bc94_701ce71031efrow9_col4\" class=\"data row9 col4\" >45000.000000</td>\n",
       "                        <td id=\"T_08a7b7b6_7802_11ea_bc94_701ce71031efrow9_col5\" class=\"data row9 col5\" >1174</td>\n",
       "                        <td id=\"T_08a7b7b6_7802_11ea_bc94_701ce71031efrow9_col6\" class=\"data row9 col6\" >0.61%</td>\n",
       "            </tr>\n",
       "            <tr>\n",
       "                        <th id=\"T_08a7b7b6_7802_11ea_bc94_701ce71031eflevel0_row10\" class=\"row_heading level0 row10\" >37</th>\n",
       "                        <td id=\"T_08a7b7b6_7802_11ea_bc94_701ce71031efrow10_col0\" class=\"data row10 col0\" >FPGA</td>\n",
       "                        <td id=\"T_08a7b7b6_7802_11ea_bc94_701ce71031efrow10_col1\" class=\"data row10 col1\" >21306</td>\n",
       "                        <td id=\"T_08a7b7b6_7802_11ea_bc94_701ce71031efrow10_col2\" class=\"data row10 col2\" >10225.000000</td>\n",
       "                        <td id=\"T_08a7b7b6_7802_11ea_bc94_701ce71031efrow10_col3\" class=\"data row10 col3\" >20000</td>\n",
       "                        <td id=\"T_08a7b7b6_7802_11ea_bc94_701ce71031efrow10_col4\" class=\"data row10 col4\" >35458.150000</td>\n",
       "                        <td id=\"T_08a7b7b6_7802_11ea_bc94_701ce71031efrow10_col5\" class=\"data row10 col5\" >238</td>\n",
       "                        <td id=\"T_08a7b7b6_7802_11ea_bc94_701ce71031efrow10_col6\" class=\"data row10 col6\" >0.12%</td>\n",
       "            </tr>\n",
       "            <tr>\n",
       "                        <th id=\"T_08a7b7b6_7802_11ea_bc94_701ce71031eflevel0_row11\" class=\"row_heading level0 row11\" >41</th>\n",
       "                        <td id=\"T_08a7b7b6_7802_11ea_bc94_701ce71031efrow11_col0\" class=\"data row11 col0\" >DSP</td>\n",
       "                        <td id=\"T_08a7b7b6_7802_11ea_bc94_701ce71031efrow11_col1\" class=\"data row11 col1\" >20558</td>\n",
       "                        <td id=\"T_08a7b7b6_7802_11ea_bc94_701ce71031efrow11_col2\" class=\"data row11 col2\" >5683.928571</td>\n",
       "                        <td id=\"T_08a7b7b6_7802_11ea_bc94_701ce71031efrow11_col3\" class=\"data row11 col3\" >20000</td>\n",
       "                        <td id=\"T_08a7b7b6_7802_11ea_bc94_701ce71031efrow11_col4\" class=\"data row11 col4\" >49020.755000</td>\n",
       "                        <td id=\"T_08a7b7b6_7802_11ea_bc94_701ce71031efrow11_col5\" class=\"data row11 col5\" >147</td>\n",
       "                        <td id=\"T_08a7b7b6_7802_11ea_bc94_701ce71031efrow11_col6\" class=\"data row11 col6\" >0.08%</td>\n",
       "            </tr>\n",
       "            <tr>\n",
       "                        <th id=\"T_08a7b7b6_7802_11ea_bc94_701ce71031eflevel0_row12\" class=\"row_heading level0 row12\" >11</th>\n",
       "                        <td id=\"T_08a7b7b6_7802_11ea_bc94_701ce71031efrow12_col0\" class=\"data row12 col0\" >区块链开发</td>\n",
       "                        <td id=\"T_08a7b7b6_7802_11ea_bc94_701ce71031efrow12_col1\" class=\"data row12 col1\" >20442</td>\n",
       "                        <td id=\"T_08a7b7b6_7802_11ea_bc94_701ce71031efrow12_col2\" class=\"data row12 col2\" >7000.000000</td>\n",
       "                        <td id=\"T_08a7b7b6_7802_11ea_bc94_701ce71031efrow12_col3\" class=\"data row12 col3\" >17500</td>\n",
       "                        <td id=\"T_08a7b7b6_7802_11ea_bc94_701ce71031efrow12_col4\" class=\"data row12 col4\" >55500.000000</td>\n",
       "                        <td id=\"T_08a7b7b6_7802_11ea_bc94_701ce71031efrow12_col5\" class=\"data row12 col5\" >572</td>\n",
       "                        <td id=\"T_08a7b7b6_7802_11ea_bc94_701ce71031efrow12_col6\" class=\"data row12 col6\" >0.30%</td>\n",
       "            </tr>\n",
       "            <tr>\n",
       "                        <th id=\"T_08a7b7b6_7802_11ea_bc94_701ce71031eflevel0_row13\" class=\"row_heading level0 row13\" >17</th>\n",
       "                        <td id=\"T_08a7b7b6_7802_11ea_bc94_701ce71031efrow13_col0\" class=\"data row13 col0\" >Hadoop工程师</td>\n",
       "                        <td id=\"T_08a7b7b6_7802_11ea_bc94_701ce71031efrow13_col1\" class=\"data row13 col1\" >20124</td>\n",
       "                        <td id=\"T_08a7b7b6_7802_11ea_bc94_701ce71031efrow13_col2\" class=\"data row13 col2\" >7000.000000</td>\n",
       "                        <td id=\"T_08a7b7b6_7802_11ea_bc94_701ce71031efrow13_col3\" class=\"data row13 col3\" >17500</td>\n",
       "                        <td id=\"T_08a7b7b6_7802_11ea_bc94_701ce71031efrow13_col4\" class=\"data row13 col4\" >41516.666667</td>\n",
       "                        <td id=\"T_08a7b7b6_7802_11ea_bc94_701ce71031efrow13_col5\" class=\"data row13 col5\" >1569</td>\n",
       "                        <td id=\"T_08a7b7b6_7802_11ea_bc94_701ce71031efrow13_col6\" class=\"data row13 col6\" >0.82%</td>\n",
       "            </tr>\n",
       "            <tr>\n",
       "                        <th id=\"T_08a7b7b6_7802_11ea_bc94_701ce71031eflevel0_row14\" class=\"row_heading level0 row14\" >9</th>\n",
       "                        <td id=\"T_08a7b7b6_7802_11ea_bc94_701ce71031efrow14_col0\" class=\"data row14 col0\" >大数据</td>\n",
       "                        <td id=\"T_08a7b7b6_7802_11ea_bc94_701ce71031efrow14_col1\" class=\"data row14 col1\" >20001</td>\n",
       "                        <td id=\"T_08a7b7b6_7802_11ea_bc94_701ce71031efrow14_col2\" class=\"data row14 col2\" >7500.000000</td>\n",
       "                        <td id=\"T_08a7b7b6_7802_11ea_bc94_701ce71031efrow14_col3\" class=\"data row14 col3\" >17500</td>\n",
       "                        <td id=\"T_08a7b7b6_7802_11ea_bc94_701ce71031efrow14_col4\" class=\"data row14 col4\" >43812.500000</td>\n",
       "                        <td id=\"T_08a7b7b6_7802_11ea_bc94_701ce71031efrow14_col5\" class=\"data row14 col5\" >3759</td>\n",
       "                        <td id=\"T_08a7b7b6_7802_11ea_bc94_701ce71031efrow14_col6\" class=\"data row14 col6\" >1.97%</td>\n",
       "            </tr>\n",
       "            <tr>\n",
       "                        <th id=\"T_08a7b7b6_7802_11ea_bc94_701ce71031eflevel0_row15\" class=\"row_heading level0 row15\" >47</th>\n",
       "                        <td id=\"T_08a7b7b6_7802_11ea_bc94_701ce71031efrow15_col0\" class=\"data row15 col0\" >信号处理</td>\n",
       "                        <td id=\"T_08a7b7b6_7802_11ea_bc94_701ce71031efrow15_col1\" class=\"data row15 col1\" >18971</td>\n",
       "                        <td id=\"T_08a7b7b6_7802_11ea_bc94_701ce71031efrow15_col2\" class=\"data row15 col2\" >12500.000000</td>\n",
       "                        <td id=\"T_08a7b7b6_7802_11ea_bc94_701ce71031efrow15_col3\" class=\"data row15 col3\" >20833</td>\n",
       "                        <td id=\"T_08a7b7b6_7802_11ea_bc94_701ce71031efrow15_col4\" class=\"data row15 col4\" >22500.000000</td>\n",
       "                        <td id=\"T_08a7b7b6_7802_11ea_bc94_701ce71031efrow15_col5\" class=\"data row15 col5\" >17</td>\n",
       "                        <td id=\"T_08a7b7b6_7802_11ea_bc94_701ce71031efrow15_col6\" class=\"data row15 col6\" >0.01%</td>\n",
       "            </tr>\n",
       "            <tr>\n",
       "                        <th id=\"T_08a7b7b6_7802_11ea_bc94_701ce71031eflevel0_row16\" class=\"row_heading level0 row16\" >3</th>\n",
       "                        <td id=\"T_08a7b7b6_7802_11ea_bc94_701ce71031efrow16_col0\" class=\"data row16 col0\" >移动开发工程师</td>\n",
       "                        <td id=\"T_08a7b7b6_7802_11ea_bc94_701ce71031efrow16_col1\" class=\"data row16 col1\" >18764</td>\n",
       "                        <td id=\"T_08a7b7b6_7802_11ea_bc94_701ce71031efrow16_col2\" class=\"data row16 col2\" >7000.000000</td>\n",
       "                        <td id=\"T_08a7b7b6_7802_11ea_bc94_701ce71031efrow16_col3\" class=\"data row16 col3\" >16000</td>\n",
       "                        <td id=\"T_08a7b7b6_7802_11ea_bc94_701ce71031efrow16_col4\" class=\"data row16 col4\" >39350.000000</td>\n",
       "                        <td id=\"T_08a7b7b6_7802_11ea_bc94_701ce71031efrow16_col5\" class=\"data row16 col5\" >2938</td>\n",
       "                        <td id=\"T_08a7b7b6_7802_11ea_bc94_701ce71031efrow16_col6\" class=\"data row16 col6\" >1.54%</td>\n",
       "            </tr>\n",
       "            <tr>\n",
       "                        <th id=\"T_08a7b7b6_7802_11ea_bc94_701ce71031eflevel0_row17\" class=\"row_heading level0 row17\" >13</th>\n",
       "                        <td id=\"T_08a7b7b6_7802_11ea_bc94_701ce71031efrow17_col0\" class=\"data row17 col0\" >Unity3d开发工程师</td>\n",
       "                        <td id=\"T_08a7b7b6_7802_11ea_bc94_701ce71031efrow17_col1\" class=\"data row17 col1\" >18146</td>\n",
       "                        <td id=\"T_08a7b7b6_7802_11ea_bc94_701ce71031efrow17_col2\" class=\"data row17 col2\" >7108.333333</td>\n",
       "                        <td id=\"T_08a7b7b6_7802_11ea_bc94_701ce71031efrow17_col3\" class=\"data row17 col3\" >15000</td>\n",
       "                        <td id=\"T_08a7b7b6_7802_11ea_bc94_701ce71031efrow17_col4\" class=\"data row17 col4\" >41125.000000</td>\n",
       "                        <td id=\"T_08a7b7b6_7802_11ea_bc94_701ce71031efrow17_col5\" class=\"data row17 col5\" >486</td>\n",
       "                        <td id=\"T_08a7b7b6_7802_11ea_bc94_701ce71031efrow17_col6\" class=\"data row17 col6\" >0.25%</td>\n",
       "            </tr>\n",
       "            <tr>\n",
       "                        <th id=\"T_08a7b7b6_7802_11ea_bc94_701ce71031eflevel0_row18\" class=\"row_heading level0 row18\" >10</th>\n",
       "                        <td id=\"T_08a7b7b6_7802_11ea_bc94_701ce71031efrow18_col0\" class=\"data row18 col0\" >游戏开发工程师</td>\n",
       "                        <td id=\"T_08a7b7b6_7802_11ea_bc94_701ce71031efrow18_col1\" class=\"data row18 col1\" >17812</td>\n",
       "                        <td id=\"T_08a7b7b6_7802_11ea_bc94_701ce71031efrow18_col2\" class=\"data row18 col2\" >6500.000000</td>\n",
       "                        <td id=\"T_08a7b7b6_7802_11ea_bc94_701ce71031efrow18_col3\" class=\"data row18 col3\" >15000</td>\n",
       "                        <td id=\"T_08a7b7b6_7802_11ea_bc94_701ce71031efrow18_col4\" class=\"data row18 col4\" >44687.500000</td>\n",
       "                        <td id=\"T_08a7b7b6_7802_11ea_bc94_701ce71031efrow18_col5\" class=\"data row18 col5\" >3480</td>\n",
       "                        <td id=\"T_08a7b7b6_7802_11ea_bc94_701ce71031efrow18_col6\" class=\"data row18 col6\" >1.82%</td>\n",
       "            </tr>\n",
       "            <tr>\n",
       "                        <th id=\"T_08a7b7b6_7802_11ea_bc94_701ce71031eflevel0_row19\" class=\"row_heading level0 row19\" >20</th>\n",
       "                        <td id=\"T_08a7b7b6_7802_11ea_bc94_701ce71031efrow19_col0\" class=\"data row19 col0\" >iOS开发工程师</td>\n",
       "                        <td id=\"T_08a7b7b6_7802_11ea_bc94_701ce71031efrow19_col1\" class=\"data row19 col1\" >17433</td>\n",
       "                        <td id=\"T_08a7b7b6_7802_11ea_bc94_701ce71031efrow19_col2\" class=\"data row19 col2\" >9000.000000</td>\n",
       "                        <td id=\"T_08a7b7b6_7802_11ea_bc94_701ce71031efrow19_col3\" class=\"data row19 col3\" >16000</td>\n",
       "                        <td id=\"T_08a7b7b6_7802_11ea_bc94_701ce71031efrow19_col4\" class=\"data row19 col4\" >37428.571429</td>\n",
       "                        <td id=\"T_08a7b7b6_7802_11ea_bc94_701ce71031efrow19_col5\" class=\"data row19 col5\" >724</td>\n",
       "                        <td id=\"T_08a7b7b6_7802_11ea_bc94_701ce71031efrow19_col6\" class=\"data row19 col6\" >0.38%</td>\n",
       "            </tr>\n",
       "            <tr>\n",
       "                        <th id=\"T_08a7b7b6_7802_11ea_bc94_701ce71031eflevel0_row20\" class=\"row_heading level0 row20\" >31</th>\n",
       "                        <td id=\"T_08a7b7b6_7802_11ea_bc94_701ce71031efrow20_col0\" class=\"data row20 col0\" >机器人</td>\n",
       "                        <td id=\"T_08a7b7b6_7802_11ea_bc94_701ce71031efrow20_col1\" class=\"data row20 col1\" >17159</td>\n",
       "                        <td id=\"T_08a7b7b6_7802_11ea_bc94_701ce71031efrow20_col2\" class=\"data row20 col2\" >5283.333333</td>\n",
       "                        <td id=\"T_08a7b7b6_7802_11ea_bc94_701ce71031efrow20_col3\" class=\"data row20 col3\" >17500</td>\n",
       "                        <td id=\"T_08a7b7b6_7802_11ea_bc94_701ce71031efrow20_col4\" class=\"data row20 col4\" >40666.666667</td>\n",
       "                        <td id=\"T_08a7b7b6_7802_11ea_bc94_701ce71031efrow20_col5\" class=\"data row20 col5\" >244</td>\n",
       "                        <td id=\"T_08a7b7b6_7802_11ea_bc94_701ce71031efrow20_col6\" class=\"data row20 col6\" >0.13%</td>\n",
       "            </tr>\n",
       "            <tr>\n",
       "                        <th id=\"T_08a7b7b6_7802_11ea_bc94_701ce71031eflevel0_row21\" class=\"row_heading level0 row21\" >35</th>\n",
       "                        <td id=\"T_08a7b7b6_7802_11ea_bc94_701ce71031efrow21_col0\" class=\"data row21 col0\" >Unity3D</td>\n",
       "                        <td id=\"T_08a7b7b6_7802_11ea_bc94_701ce71031efrow21_col1\" class=\"data row21 col1\" >16913</td>\n",
       "                        <td id=\"T_08a7b7b6_7802_11ea_bc94_701ce71031efrow21_col2\" class=\"data row21 col2\" >7000.000000</td>\n",
       "                        <td id=\"T_08a7b7b6_7802_11ea_bc94_701ce71031efrow21_col3\" class=\"data row21 col3\" >15000</td>\n",
       "                        <td id=\"T_08a7b7b6_7802_11ea_bc94_701ce71031efrow21_col4\" class=\"data row21 col4\" >34756.250000</td>\n",
       "                        <td id=\"T_08a7b7b6_7802_11ea_bc94_701ce71031efrow21_col5\" class=\"data row21 col5\" >979</td>\n",
       "                        <td id=\"T_08a7b7b6_7802_11ea_bc94_701ce71031efrow21_col6\" class=\"data row21 col6\" >0.51%</td>\n",
       "            </tr>\n",
       "            <tr>\n",
       "                        <th id=\"T_08a7b7b6_7802_11ea_bc94_701ce71031eflevel0_row22\" class=\"row_heading level0 row22\" >16</th>\n",
       "                        <td id=\"T_08a7b7b6_7802_11ea_bc94_701ce71031efrow22_col0\" class=\"data row22 col0\" >图像处理工程师</td>\n",
       "                        <td id=\"T_08a7b7b6_7802_11ea_bc94_701ce71031efrow22_col1\" class=\"data row22 col1\" >16866</td>\n",
       "                        <td id=\"T_08a7b7b6_7802_11ea_bc94_701ce71031efrow22_col2\" class=\"data row22 col2\" >5250.000000</td>\n",
       "                        <td id=\"T_08a7b7b6_7802_11ea_bc94_701ce71031efrow22_col3\" class=\"data row22 col3\" >15000</td>\n",
       "                        <td id=\"T_08a7b7b6_7802_11ea_bc94_701ce71031efrow22_col4\" class=\"data row22 col4\" >35625.000000</td>\n",
       "                        <td id=\"T_08a7b7b6_7802_11ea_bc94_701ce71031efrow22_col5\" class=\"data row22 col5\" >290</td>\n",
       "                        <td id=\"T_08a7b7b6_7802_11ea_bc94_701ce71031efrow22_col6\" class=\"data row22 col6\" >0.15%</td>\n",
       "            </tr>\n",
       "            <tr>\n",
       "                        <th id=\"T_08a7b7b6_7802_11ea_bc94_701ce71031eflevel0_row23\" class=\"row_heading level0 row23\" >44</th>\n",
       "                        <td id=\"T_08a7b7b6_7802_11ea_bc94_701ce71031efrow23_col0\" class=\"data row23 col0\" >CAE</td>\n",
       "                        <td id=\"T_08a7b7b6_7802_11ea_bc94_701ce71031efrow23_col1\" class=\"data row23 col1\" >16442</td>\n",
       "                        <td id=\"T_08a7b7b6_7802_11ea_bc94_701ce71031efrow23_col2\" class=\"data row23 col2\" >3639.285714</td>\n",
       "                        <td id=\"T_08a7b7b6_7802_11ea_bc94_701ce71031efrow23_col3\" class=\"data row23 col3\" >15937</td>\n",
       "                        <td id=\"T_08a7b7b6_7802_11ea_bc94_701ce71031efrow23_col4\" class=\"data row23 col4\" >25000.000000</td>\n",
       "                        <td id=\"T_08a7b7b6_7802_11ea_bc94_701ce71031efrow23_col5\" class=\"data row23 col5\" >86</td>\n",
       "                        <td id=\"T_08a7b7b6_7802_11ea_bc94_701ce71031efrow23_col6\" class=\"data row23 col6\" >0.04%</td>\n",
       "            </tr>\n",
       "            <tr>\n",
       "                        <th id=\"T_08a7b7b6_7802_11ea_bc94_701ce71031eflevel0_row24\" class=\"row_heading level0 row24\" >6</th>\n",
       "                        <td id=\"T_08a7b7b6_7802_11ea_bc94_701ce71031efrow24_col0\" class=\"data row24 col0\" >深度学习工程师</td>\n",
       "                        <td id=\"T_08a7b7b6_7802_11ea_bc94_701ce71031efrow24_col1\" class=\"data row24 col1\" >16348</td>\n",
       "                        <td id=\"T_08a7b7b6_7802_11ea_bc94_701ce71031efrow24_col2\" class=\"data row24 col2\" >7000.000000</td>\n",
       "                        <td id=\"T_08a7b7b6_7802_11ea_bc94_701ce71031efrow24_col3\" class=\"data row24 col3\" >13580</td>\n",
       "                        <td id=\"T_08a7b7b6_7802_11ea_bc94_701ce71031efrow24_col4\" class=\"data row24 col4\" >40000.000000</td>\n",
       "                        <td id=\"T_08a7b7b6_7802_11ea_bc94_701ce71031efrow24_col5\" class=\"data row24 col5\" >198</td>\n",
       "                        <td id=\"T_08a7b7b6_7802_11ea_bc94_701ce71031efrow24_col6\" class=\"data row24 col6\" >0.10%</td>\n",
       "            </tr>\n",
       "            <tr>\n",
       "                        <th id=\"T_08a7b7b6_7802_11ea_bc94_701ce71031eflevel0_row25\" class=\"row_heading level0 row25\" >19</th>\n",
       "                        <td id=\"T_08a7b7b6_7802_11ea_bc94_701ce71031efrow25_col0\" class=\"data row25 col0\" >Android开发工程师</td>\n",
       "                        <td id=\"T_08a7b7b6_7802_11ea_bc94_701ce71031efrow25_col1\" class=\"data row25 col1\" >16151</td>\n",
       "                        <td id=\"T_08a7b7b6_7802_11ea_bc94_701ce71031efrow25_col2\" class=\"data row25 col2\" >7000.000000</td>\n",
       "                        <td id=\"T_08a7b7b6_7802_11ea_bc94_701ce71031efrow25_col3\" class=\"data row25 col3\" >15000</td>\n",
       "                        <td id=\"T_08a7b7b6_7802_11ea_bc94_701ce71031efrow25_col4\" class=\"data row25 col4\" >35000.000000</td>\n",
       "                        <td id=\"T_08a7b7b6_7802_11ea_bc94_701ce71031efrow25_col5\" class=\"data row25 col5\" >1590</td>\n",
       "                        <td id=\"T_08a7b7b6_7802_11ea_bc94_701ce71031efrow25_col6\" class=\"data row25 col6\" >0.83%</td>\n",
       "            </tr>\n",
       "            <tr>\n",
       "                        <th id=\"T_08a7b7b6_7802_11ea_bc94_701ce71031eflevel0_row26\" class=\"row_heading level0 row26\" >2</th>\n",
       "                        <td id=\"T_08a7b7b6_7802_11ea_bc94_701ce71031efrow26_col0\" class=\"data row26 col0\" >软件工程师</td>\n",
       "                        <td id=\"T_08a7b7b6_7802_11ea_bc94_701ce71031efrow26_col1\" class=\"data row26 col1\" >15903</td>\n",
       "                        <td id=\"T_08a7b7b6_7802_11ea_bc94_701ce71031efrow26_col2\" class=\"data row26 col2\" >6000.000000</td>\n",
       "                        <td id=\"T_08a7b7b6_7802_11ea_bc94_701ce71031efrow26_col3\" class=\"data row26 col3\" >14500</td>\n",
       "                        <td id=\"T_08a7b7b6_7802_11ea_bc94_701ce71031efrow26_col4\" class=\"data row26 col4\" >37500.000000</td>\n",
       "                        <td id=\"T_08a7b7b6_7802_11ea_bc94_701ce71031efrow26_col5\" class=\"data row26 col5\" >121296</td>\n",
       "                        <td id=\"T_08a7b7b6_7802_11ea_bc94_701ce71031efrow26_col6\" class=\"data row26 col6\" >63.41%</td>\n",
       "            </tr>\n",
       "            <tr>\n",
       "                        <th id=\"T_08a7b7b6_7802_11ea_bc94_701ce71031eflevel0_row27\" class=\"row_heading level0 row27\" >40</th>\n",
       "                        <td id=\"T_08a7b7b6_7802_11ea_bc94_701ce71031efrow27_col0\" class=\"data row27 col0\" >视觉软件工程师</td>\n",
       "                        <td id=\"T_08a7b7b6_7802_11ea_bc94_701ce71031efrow27_col1\" class=\"data row27 col1\" >15711</td>\n",
       "                        <td id=\"T_08a7b7b6_7802_11ea_bc94_701ce71031efrow27_col2\" class=\"data row27 col2\" >1750.000000</td>\n",
       "                        <td id=\"T_08a7b7b6_7802_11ea_bc94_701ce71031efrow27_col3\" class=\"data row27 col3\" >14833</td>\n",
       "                        <td id=\"T_08a7b7b6_7802_11ea_bc94_701ce71031efrow27_col4\" class=\"data row27 col4\" >29370.000000</td>\n",
       "                        <td id=\"T_08a7b7b6_7802_11ea_bc94_701ce71031efrow27_col5\" class=\"data row27 col5\" >178</td>\n",
       "                        <td id=\"T_08a7b7b6_7802_11ea_bc94_701ce71031efrow27_col6\" class=\"data row27 col6\" >0.09%</td>\n",
       "            </tr>\n",
       "            <tr>\n",
       "                        <th id=\"T_08a7b7b6_7802_11ea_bc94_701ce71031eflevel0_row28\" class=\"row_heading level0 row28\" >7</th>\n",
       "                        <td id=\"T_08a7b7b6_7802_11ea_bc94_701ce71031efrow28_col0\" class=\"data row28 col0\" >Web前端开发</td>\n",
       "                        <td id=\"T_08a7b7b6_7802_11ea_bc94_701ce71031efrow28_col1\" class=\"data row28 col1\" >15438</td>\n",
       "                        <td id=\"T_08a7b7b6_7802_11ea_bc94_701ce71031efrow28_col2\" class=\"data row28 col2\" >6766.666667</td>\n",
       "                        <td id=\"T_08a7b7b6_7802_11ea_bc94_701ce71031efrow28_col3\" class=\"data row28 col3\" >14000</td>\n",
       "                        <td id=\"T_08a7b7b6_7802_11ea_bc94_701ce71031efrow28_col4\" class=\"data row28 col4\" >30000.000000</td>\n",
       "                        <td id=\"T_08a7b7b6_7802_11ea_bc94_701ce71031efrow28_col5\" class=\"data row28 col5\" >12068</td>\n",
       "                        <td id=\"T_08a7b7b6_7802_11ea_bc94_701ce71031efrow28_col6\" class=\"data row28 col6\" >6.31%</td>\n",
       "            </tr>\n",
       "            <tr>\n",
       "                        <th id=\"T_08a7b7b6_7802_11ea_bc94_701ce71031eflevel0_row29\" class=\"row_heading level0 row29\" >0</th>\n",
       "                        <td id=\"T_08a7b7b6_7802_11ea_bc94_701ce71031efrow29_col0\" class=\"data row29 col0\" >推荐算法工程师</td>\n",
       "                        <td id=\"T_08a7b7b6_7802_11ea_bc94_701ce71031efrow29_col1\" class=\"data row29 col1\" >15305</td>\n",
       "                        <td id=\"T_08a7b7b6_7802_11ea_bc94_701ce71031efrow29_col2\" class=\"data row29 col2\" >5221.590909</td>\n",
       "                        <td id=\"T_08a7b7b6_7802_11ea_bc94_701ce71031efrow29_col3\" class=\"data row29 col3\" >12500</td>\n",
       "                        <td id=\"T_08a7b7b6_7802_11ea_bc94_701ce71031efrow29_col4\" class=\"data row29 col4\" >45000.000000</td>\n",
       "                        <td id=\"T_08a7b7b6_7802_11ea_bc94_701ce71031efrow29_col5\" class=\"data row29 col5\" >1435</td>\n",
       "                        <td id=\"T_08a7b7b6_7802_11ea_bc94_701ce71031efrow29_col6\" class=\"data row29 col6\" >0.75%</td>\n",
       "            </tr>\n",
       "            <tr>\n",
       "                        <th id=\"T_08a7b7b6_7802_11ea_bc94_701ce71031eflevel0_row30\" class=\"row_heading level0 row30\" >21</th>\n",
       "                        <td id=\"T_08a7b7b6_7802_11ea_bc94_701ce71031efrow30_col0\" class=\"data row30 col0\" >爬虫工程师</td>\n",
       "                        <td id=\"T_08a7b7b6_7802_11ea_bc94_701ce71031efrow30_col1\" class=\"data row30 col1\" >15258</td>\n",
       "                        <td id=\"T_08a7b7b6_7802_11ea_bc94_701ce71031efrow30_col2\" class=\"data row30 col2\" >7000.000000</td>\n",
       "                        <td id=\"T_08a7b7b6_7802_11ea_bc94_701ce71031efrow30_col3\" class=\"data row30 col3\" >15000</td>\n",
       "                        <td id=\"T_08a7b7b6_7802_11ea_bc94_701ce71031efrow30_col4\" class=\"data row30 col4\" >27500.000000</td>\n",
       "                        <td id=\"T_08a7b7b6_7802_11ea_bc94_701ce71031efrow30_col5\" class=\"data row30 col5\" >285</td>\n",
       "                        <td id=\"T_08a7b7b6_7802_11ea_bc94_701ce71031efrow30_col6\" class=\"data row30 col6\" >0.15%</td>\n",
       "            </tr>\n",
       "            <tr>\n",
       "                        <th id=\"T_08a7b7b6_7802_11ea_bc94_701ce71031eflevel0_row31\" class=\"row_heading level0 row31\" >18</th>\n",
       "                        <td id=\"T_08a7b7b6_7802_11ea_bc94_701ce71031efrow31_col0\" class=\"data row31 col0\" >大数据开发工程师</td>\n",
       "                        <td id=\"T_08a7b7b6_7802_11ea_bc94_701ce71031efrow31_col1\" class=\"data row31 col1\" >14684</td>\n",
       "                        <td id=\"T_08a7b7b6_7802_11ea_bc94_701ce71031efrow31_col2\" class=\"data row31 col2\" >5250.000000</td>\n",
       "                        <td id=\"T_08a7b7b6_7802_11ea_bc94_701ce71031efrow31_col3\" class=\"data row31 col3\" >12500</td>\n",
       "                        <td id=\"T_08a7b7b6_7802_11ea_bc94_701ce71031efrow31_col4\" class=\"data row31 col4\" >35000.000000</td>\n",
       "                        <td id=\"T_08a7b7b6_7802_11ea_bc94_701ce71031efrow31_col5\" class=\"data row31 col5\" >2606</td>\n",
       "                        <td id=\"T_08a7b7b6_7802_11ea_bc94_701ce71031efrow31_col6\" class=\"data row31 col6\" >1.36%</td>\n",
       "            </tr>\n",
       "            <tr>\n",
       "                        <th id=\"T_08a7b7b6_7802_11ea_bc94_701ce71031eflevel0_row32\" class=\"row_heading level0 row32\" >34</th>\n",
       "                        <td id=\"T_08a7b7b6_7802_11ea_bc94_701ce71031efrow32_col0\" class=\"data row32 col0\" >游戏客户端开发工程师</td>\n",
       "                        <td id=\"T_08a7b7b6_7802_11ea_bc94_701ce71031efrow32_col1\" class=\"data row32 col1\" >14679</td>\n",
       "                        <td id=\"T_08a7b7b6_7802_11ea_bc94_701ce71031efrow32_col2\" class=\"data row32 col2\" >5410.714286</td>\n",
       "                        <td id=\"T_08a7b7b6_7802_11ea_bc94_701ce71031efrow32_col3\" class=\"data row32 col3\" >12500</td>\n",
       "                        <td id=\"T_08a7b7b6_7802_11ea_bc94_701ce71031efrow32_col4\" class=\"data row32 col4\" >30000.000000</td>\n",
       "                        <td id=\"T_08a7b7b6_7802_11ea_bc94_701ce71031efrow32_col5\" class=\"data row32 col5\" >190</td>\n",
       "                        <td id=\"T_08a7b7b6_7802_11ea_bc94_701ce71031efrow32_col6\" class=\"data row32 col6\" >0.10%</td>\n",
       "            </tr>\n",
       "            <tr>\n",
       "                        <th id=\"T_08a7b7b6_7802_11ea_bc94_701ce71031eflevel0_row33\" class=\"row_heading level0 row33\" >27</th>\n",
       "                        <td id=\"T_08a7b7b6_7802_11ea_bc94_701ce71031efrow33_col0\" class=\"data row33 col0\" >GIS</td>\n",
       "                        <td id=\"T_08a7b7b6_7802_11ea_bc94_701ce71031efrow33_col1\" class=\"data row33 col1\" >14563</td>\n",
       "                        <td id=\"T_08a7b7b6_7802_11ea_bc94_701ce71031efrow33_col2\" class=\"data row33 col2\" >6000.000000</td>\n",
       "                        <td id=\"T_08a7b7b6_7802_11ea_bc94_701ce71031efrow33_col3\" class=\"data row33 col3\" >12500</td>\n",
       "                        <td id=\"T_08a7b7b6_7802_11ea_bc94_701ce71031efrow33_col4\" class=\"data row33 col4\" >25000.000000</td>\n",
       "                        <td id=\"T_08a7b7b6_7802_11ea_bc94_701ce71031efrow33_col5\" class=\"data row33 col5\" >674</td>\n",
       "                        <td id=\"T_08a7b7b6_7802_11ea_bc94_701ce71031efrow33_col6\" class=\"data row33 col6\" >0.35%</td>\n",
       "            </tr>\n",
       "            <tr>\n",
       "                        <th id=\"T_08a7b7b6_7802_11ea_bc94_701ce71031eflevel0_row34\" class=\"row_heading level0 row34\" >25</th>\n",
       "                        <td id=\"T_08a7b7b6_7802_11ea_bc94_701ce71031efrow34_col0\" class=\"data row34 col0\" >HTML5开发工程师</td>\n",
       "                        <td id=\"T_08a7b7b6_7802_11ea_bc94_701ce71031efrow34_col1\" class=\"data row34 col1\" >14489</td>\n",
       "                        <td id=\"T_08a7b7b6_7802_11ea_bc94_701ce71031efrow34_col2\" class=\"data row34 col2\" >6787.500000</td>\n",
       "                        <td id=\"T_08a7b7b6_7802_11ea_bc94_701ce71031efrow34_col3\" class=\"data row34 col3\" >13000</td>\n",
       "                        <td id=\"T_08a7b7b6_7802_11ea_bc94_701ce71031efrow34_col4\" class=\"data row34 col4\" >27500.000000</td>\n",
       "                        <td id=\"T_08a7b7b6_7802_11ea_bc94_701ce71031efrow34_col5\" class=\"data row34 col5\" >489</td>\n",
       "                        <td id=\"T_08a7b7b6_7802_11ea_bc94_701ce71031efrow34_col6\" class=\"data row34 col6\" >0.26%</td>\n",
       "            </tr>\n",
       "            <tr>\n",
       "                        <th id=\"T_08a7b7b6_7802_11ea_bc94_701ce71031eflevel0_row35\" class=\"row_heading level0 row35\" >24</th>\n",
       "                        <td id=\"T_08a7b7b6_7802_11ea_bc94_701ce71031efrow35_col0\" class=\"data row35 col0\" >ETL</td>\n",
       "                        <td id=\"T_08a7b7b6_7802_11ea_bc94_701ce71031efrow35_col1\" class=\"data row35 col1\" >14310</td>\n",
       "                        <td id=\"T_08a7b7b6_7802_11ea_bc94_701ce71031efrow35_col2\" class=\"data row35 col2\" >7000.000000</td>\n",
       "                        <td id=\"T_08a7b7b6_7802_11ea_bc94_701ce71031efrow35_col3\" class=\"data row35 col3\" >13071</td>\n",
       "                        <td id=\"T_08a7b7b6_7802_11ea_bc94_701ce71031efrow35_col4\" class=\"data row35 col4\" >22500.000000</td>\n",
       "                        <td id=\"T_08a7b7b6_7802_11ea_bc94_701ce71031efrow35_col5\" class=\"data row35 col5\" >739</td>\n",
       "                        <td id=\"T_08a7b7b6_7802_11ea_bc94_701ce71031efrow35_col6\" class=\"data row35 col6\" >0.39%</td>\n",
       "            </tr>\n",
       "            <tr>\n",
       "                        <th id=\"T_08a7b7b6_7802_11ea_bc94_701ce71031eflevel0_row36\" class=\"row_heading level0 row36\" >1</th>\n",
       "                        <td id=\"T_08a7b7b6_7802_11ea_bc94_701ce71031efrow36_col0\" class=\"data row36 col0\" >前端开发</td>\n",
       "                        <td id=\"T_08a7b7b6_7802_11ea_bc94_701ce71031efrow36_col1\" class=\"data row36 col1\" >14258</td>\n",
       "                        <td id=\"T_08a7b7b6_7802_11ea_bc94_701ce71031efrow36_col2\" class=\"data row36 col2\" >5000.000000</td>\n",
       "                        <td id=\"T_08a7b7b6_7802_11ea_bc94_701ce71031efrow36_col3\" class=\"data row36 col3\" >12500</td>\n",
       "                        <td id=\"T_08a7b7b6_7802_11ea_bc94_701ce71031efrow36_col4\" class=\"data row36 col4\" >35000.000000</td>\n",
       "                        <td id=\"T_08a7b7b6_7802_11ea_bc94_701ce71031efrow36_col5\" class=\"data row36 col5\" >4065</td>\n",
       "                        <td id=\"T_08a7b7b6_7802_11ea_bc94_701ce71031efrow36_col6\" class=\"data row36 col6\" >2.13%</td>\n",
       "            </tr>\n",
       "            <tr>\n",
       "                        <th id=\"T_08a7b7b6_7802_11ea_bc94_701ce71031eflevel0_row37\" class=\"row_heading level0 row37\" >43</th>\n",
       "                        <td id=\"T_08a7b7b6_7802_11ea_bc94_701ce71031efrow37_col0\" class=\"data row37 col0\" >Cocos2d-x开发工程师</td>\n",
       "                        <td id=\"T_08a7b7b6_7802_11ea_bc94_701ce71031efrow37_col1\" class=\"data row37 col1\" >14197</td>\n",
       "                        <td id=\"T_08a7b7b6_7802_11ea_bc94_701ce71031efrow37_col2\" class=\"data row37 col2\" >6412.500000</td>\n",
       "                        <td id=\"T_08a7b7b6_7802_11ea_bc94_701ce71031efrow37_col3\" class=\"data row37 col3\" >12500</td>\n",
       "                        <td id=\"T_08a7b7b6_7802_11ea_bc94_701ce71031efrow37_col4\" class=\"data row37 col4\" >27500.000000</td>\n",
       "                        <td id=\"T_08a7b7b6_7802_11ea_bc94_701ce71031efrow37_col5\" class=\"data row37 col5\" >71</td>\n",
       "                        <td id=\"T_08a7b7b6_7802_11ea_bc94_701ce71031efrow37_col6\" class=\"data row37 col6\" >0.04%</td>\n",
       "            </tr>\n",
       "            <tr>\n",
       "                        <th id=\"T_08a7b7b6_7802_11ea_bc94_701ce71031eflevel0_row38\" class=\"row_heading level0 row38\" >4</th>\n",
       "                        <td id=\"T_08a7b7b6_7802_11ea_bc94_701ce71031efrow38_col0\" class=\"data row38 col0\" >人工智能</td>\n",
       "                        <td id=\"T_08a7b7b6_7802_11ea_bc94_701ce71031efrow38_col1\" class=\"data row38 col1\" >13969</td>\n",
       "                        <td id=\"T_08a7b7b6_7802_11ea_bc94_701ce71031efrow38_col2\" class=\"data row38 col2\" >5250.000000</td>\n",
       "                        <td id=\"T_08a7b7b6_7802_11ea_bc94_701ce71031efrow38_col3\" class=\"data row38 col3\" >12500</td>\n",
       "                        <td id=\"T_08a7b7b6_7802_11ea_bc94_701ce71031efrow38_col4\" class=\"data row38 col4\" >45000.000000</td>\n",
       "                        <td id=\"T_08a7b7b6_7802_11ea_bc94_701ce71031efrow38_col5\" class=\"data row38 col5\" >11070</td>\n",
       "                        <td id=\"T_08a7b7b6_7802_11ea_bc94_701ce71031efrow38_col6\" class=\"data row38 col6\" >5.79%</td>\n",
       "            </tr>\n",
       "            <tr>\n",
       "                        <th id=\"T_08a7b7b6_7802_11ea_bc94_701ce71031eflevel0_row39\" class=\"row_heading level0 row39\" >29</th>\n",
       "                        <td id=\"T_08a7b7b6_7802_11ea_bc94_701ce71031efrow39_col0\" class=\"data row39 col0\" >机器视觉工程师</td>\n",
       "                        <td id=\"T_08a7b7b6_7802_11ea_bc94_701ce71031efrow39_col1\" class=\"data row39 col1\" >13686</td>\n",
       "                        <td id=\"T_08a7b7b6_7802_11ea_bc94_701ce71031efrow39_col2\" class=\"data row39 col2\" >5235.000000</td>\n",
       "                        <td id=\"T_08a7b7b6_7802_11ea_bc94_701ce71031efrow39_col3\" class=\"data row39 col3\" >12500</td>\n",
       "                        <td id=\"T_08a7b7b6_7802_11ea_bc94_701ce71031efrow39_col4\" class=\"data row39 col4\" >26916.666667</td>\n",
       "                        <td id=\"T_08a7b7b6_7802_11ea_bc94_701ce71031efrow39_col5\" class=\"data row39 col5\" >194</td>\n",
       "                        <td id=\"T_08a7b7b6_7802_11ea_bc94_701ce71031efrow39_col6\" class=\"data row39 col6\" >0.10%</td>\n",
       "            </tr>\n",
       "            <tr>\n",
       "                        <th id=\"T_08a7b7b6_7802_11ea_bc94_701ce71031eflevel0_row40\" class=\"row_heading level0 row40\" >38</th>\n",
       "                        <td id=\"T_08a7b7b6_7802_11ea_bc94_701ce71031efrow40_col0\" class=\"data row40 col0\" >爬虫开发工程师</td>\n",
       "                        <td id=\"T_08a7b7b6_7802_11ea_bc94_701ce71031efrow40_col1\" class=\"data row40 col1\" >13319</td>\n",
       "                        <td id=\"T_08a7b7b6_7802_11ea_bc94_701ce71031efrow40_col2\" class=\"data row40 col2\" >5650.000000</td>\n",
       "                        <td id=\"T_08a7b7b6_7802_11ea_bc94_701ce71031efrow40_col3\" class=\"data row40 col3\" >12500</td>\n",
       "                        <td id=\"T_08a7b7b6_7802_11ea_bc94_701ce71031efrow40_col4\" class=\"data row40 col4\" >29550.000000</td>\n",
       "                        <td id=\"T_08a7b7b6_7802_11ea_bc94_701ce71031efrow40_col5\" class=\"data row40 col5\" >138</td>\n",
       "                        <td id=\"T_08a7b7b6_7802_11ea_bc94_701ce71031efrow40_col6\" class=\"data row40 col6\" >0.07%</td>\n",
       "            </tr>\n",
       "            <tr>\n",
       "                        <th id=\"T_08a7b7b6_7802_11ea_bc94_701ce71031eflevel0_row41\" class=\"row_heading level0 row41\" >33</th>\n",
       "                        <td id=\"T_08a7b7b6_7802_11ea_bc94_701ce71031efrow41_col0\" class=\"data row41 col0\" >遥感</td>\n",
       "                        <td id=\"T_08a7b7b6_7802_11ea_bc94_701ce71031efrow41_col1\" class=\"data row41 col1\" >13303</td>\n",
       "                        <td id=\"T_08a7b7b6_7802_11ea_bc94_701ce71031efrow41_col2\" class=\"data row41 col2\" >9000.000000</td>\n",
       "                        <td id=\"T_08a7b7b6_7802_11ea_bc94_701ce71031efrow41_col3\" class=\"data row41 col3\" >12500</td>\n",
       "                        <td id=\"T_08a7b7b6_7802_11ea_bc94_701ce71031efrow41_col4\" class=\"data row41 col4\" >19444.250000</td>\n",
       "                        <td id=\"T_08a7b7b6_7802_11ea_bc94_701ce71031efrow41_col5\" class=\"data row41 col5\" >65</td>\n",
       "                        <td id=\"T_08a7b7b6_7802_11ea_bc94_701ce71031efrow41_col6\" class=\"data row41 col6\" >0.03%</td>\n",
       "            </tr>\n",
       "            <tr>\n",
       "                        <th id=\"T_08a7b7b6_7802_11ea_bc94_701ce71031eflevel0_row42\" class=\"row_heading level0 row42\" >8</th>\n",
       "                        <td id=\"T_08a7b7b6_7802_11ea_bc94_701ce71031efrow42_col0\" class=\"data row42 col0\" >搜索算法工程师</td>\n",
       "                        <td id=\"T_08a7b7b6_7802_11ea_bc94_701ce71031efrow42_col1\" class=\"data row42 col1\" >12896</td>\n",
       "                        <td id=\"T_08a7b7b6_7802_11ea_bc94_701ce71031efrow42_col2\" class=\"data row42 col2\" >5250.000000</td>\n",
       "                        <td id=\"T_08a7b7b6_7802_11ea_bc94_701ce71031efrow42_col3\" class=\"data row42 col3\" >10000</td>\n",
       "                        <td id=\"T_08a7b7b6_7802_11ea_bc94_701ce71031efrow42_col4\" class=\"data row42 col4\" >45000.000000</td>\n",
       "                        <td id=\"T_08a7b7b6_7802_11ea_bc94_701ce71031efrow42_col5\" class=\"data row42 col5\" >648</td>\n",
       "                        <td id=\"T_08a7b7b6_7802_11ea_bc94_701ce71031efrow42_col6\" class=\"data row42 col6\" >0.34%</td>\n",
       "            </tr>\n",
       "            <tr>\n",
       "                        <th id=\"T_08a7b7b6_7802_11ea_bc94_701ce71031eflevel0_row43\" class=\"row_heading level0 row43\" >28</th>\n",
       "                        <td id=\"T_08a7b7b6_7802_11ea_bc94_701ce71031efrow43_col0\" class=\"data row43 col0\" >系统分析员</td>\n",
       "                        <td id=\"T_08a7b7b6_7802_11ea_bc94_701ce71031efrow43_col1\" class=\"data row43 col1\" >12840</td>\n",
       "                        <td id=\"T_08a7b7b6_7802_11ea_bc94_701ce71031efrow43_col2\" class=\"data row43 col2\" >3750.000000</td>\n",
       "                        <td id=\"T_08a7b7b6_7802_11ea_bc94_701ce71031efrow43_col3\" class=\"data row43 col3\" >12500</td>\n",
       "                        <td id=\"T_08a7b7b6_7802_11ea_bc94_701ce71031efrow43_col4\" class=\"data row43 col4\" >25000.000000</td>\n",
       "                        <td id=\"T_08a7b7b6_7802_11ea_bc94_701ce71031efrow43_col5\" class=\"data row43 col5\" >485</td>\n",
       "                        <td id=\"T_08a7b7b6_7802_11ea_bc94_701ce71031efrow43_col6\" class=\"data row43 col6\" >0.25%</td>\n",
       "            </tr>\n",
       "            <tr>\n",
       "                        <th id=\"T_08a7b7b6_7802_11ea_bc94_701ce71031eflevel0_row44\" class=\"row_heading level0 row44\" >32</th>\n",
       "                        <td id=\"T_08a7b7b6_7802_11ea_bc94_701ce71031efrow44_col0\" class=\"data row44 col0\" >游戏服务端开发工程师</td>\n",
       "                        <td id=\"T_08a7b7b6_7802_11ea_bc94_701ce71031efrow44_col1\" class=\"data row44 col1\" >12718</td>\n",
       "                        <td id=\"T_08a7b7b6_7802_11ea_bc94_701ce71031efrow44_col2\" class=\"data row44 col2\" >5258.333333</td>\n",
       "                        <td id=\"T_08a7b7b6_7802_11ea_bc94_701ce71031efrow44_col3\" class=\"data row44 col3\" >12500</td>\n",
       "                        <td id=\"T_08a7b7b6_7802_11ea_bc94_701ce71031efrow44_col4\" class=\"data row44 col4\" >30000.000000</td>\n",
       "                        <td id=\"T_08a7b7b6_7802_11ea_bc94_701ce71031efrow44_col5\" class=\"data row44 col5\" >71</td>\n",
       "                        <td id=\"T_08a7b7b6_7802_11ea_bc94_701ce71031efrow44_col6\" class=\"data row44 col6\" >0.04%</td>\n",
       "            </tr>\n",
       "            <tr>\n",
       "                        <th id=\"T_08a7b7b6_7802_11ea_bc94_701ce71031eflevel0_row45\" class=\"row_heading level0 row45\" >45</th>\n",
       "                        <td id=\"T_08a7b7b6_7802_11ea_bc94_701ce71031efrow45_col0\" class=\"data row45 col0\" >生物信息</td>\n",
       "                        <td id=\"T_08a7b7b6_7802_11ea_bc94_701ce71031efrow45_col1\" class=\"data row45 col1\" >12609</td>\n",
       "                        <td id=\"T_08a7b7b6_7802_11ea_bc94_701ce71031efrow45_col2\" class=\"data row45 col2\" >7000.000000</td>\n",
       "                        <td id=\"T_08a7b7b6_7802_11ea_bc94_701ce71031efrow45_col3\" class=\"data row45 col3\" >14000</td>\n",
       "                        <td id=\"T_08a7b7b6_7802_11ea_bc94_701ce71031efrow45_col4\" class=\"data row45 col4\" >17387.500000</td>\n",
       "                        <td id=\"T_08a7b7b6_7802_11ea_bc94_701ce71031efrow45_col5\" class=\"data row45 col5\" >23</td>\n",
       "                        <td id=\"T_08a7b7b6_7802_11ea_bc94_701ce71031efrow45_col6\" class=\"data row45 col6\" >0.01%</td>\n",
       "            </tr>\n",
       "            <tr>\n",
       "                        <th id=\"T_08a7b7b6_7802_11ea_bc94_701ce71031eflevel0_row46\" class=\"row_heading level0 row46\" >15</th>\n",
       "                        <td id=\"T_08a7b7b6_7802_11ea_bc94_701ce71031efrow46_col0\" class=\"data row46 col0\" >小程序开发工程师</td>\n",
       "                        <td id=\"T_08a7b7b6_7802_11ea_bc94_701ce71031efrow46_col1\" class=\"data row46 col1\" >11807</td>\n",
       "                        <td id=\"T_08a7b7b6_7802_11ea_bc94_701ce71031efrow46_col2\" class=\"data row46 col2\" >5000.000000</td>\n",
       "                        <td id=\"T_08a7b7b6_7802_11ea_bc94_701ce71031efrow46_col3\" class=\"data row46 col3\" >10500</td>\n",
       "                        <td id=\"T_08a7b7b6_7802_11ea_bc94_701ce71031efrow46_col4\" class=\"data row46 col4\" >29742.850000</td>\n",
       "                        <td id=\"T_08a7b7b6_7802_11ea_bc94_701ce71031efrow46_col5\" class=\"data row46 col5\" >257</td>\n",
       "                        <td id=\"T_08a7b7b6_7802_11ea_bc94_701ce71031efrow46_col6\" class=\"data row46 col6\" >0.13%</td>\n",
       "            </tr>\n",
       "            <tr>\n",
       "                        <th id=\"T_08a7b7b6_7802_11ea_bc94_701ce71031eflevel0_row47\" class=\"row_heading level0 row47\" >23</th>\n",
       "                        <td id=\"T_08a7b7b6_7802_11ea_bc94_701ce71031efrow47_col0\" class=\"data row47 col0\" >系统工程师</td>\n",
       "                        <td id=\"T_08a7b7b6_7802_11ea_bc94_701ce71031efrow47_col1\" class=\"data row47 col1\" >11556</td>\n",
       "                        <td id=\"T_08a7b7b6_7802_11ea_bc94_701ce71031efrow47_col2\" class=\"data row47 col2\" >4200.000000</td>\n",
       "                        <td id=\"T_08a7b7b6_7802_11ea_bc94_701ce71031efrow47_col3\" class=\"data row47 col3\" >9500</td>\n",
       "                        <td id=\"T_08a7b7b6_7802_11ea_bc94_701ce71031efrow47_col4\" class=\"data row47 col4\" >27500.000000</td>\n",
       "                        <td id=\"T_08a7b7b6_7802_11ea_bc94_701ce71031efrow47_col5\" class=\"data row47 col5\" >3038</td>\n",
       "                        <td id=\"T_08a7b7b6_7802_11ea_bc94_701ce71031efrow47_col6\" class=\"data row47 col6\" >1.59%</td>\n",
       "            </tr>\n",
       "            <tr>\n",
       "                        <th id=\"T_08a7b7b6_7802_11ea_bc94_701ce71031eflevel0_row48\" class=\"row_heading level0 row48\" >30</th>\n",
       "                        <td id=\"T_08a7b7b6_7802_11ea_bc94_701ce71031efrow48_col0\" class=\"data row48 col0\" >网站架构设计师</td>\n",
       "                        <td id=\"T_08a7b7b6_7802_11ea_bc94_701ce71031efrow48_col1\" class=\"data row48 col1\" >10517</td>\n",
       "                        <td id=\"T_08a7b7b6_7802_11ea_bc94_701ce71031efrow48_col2\" class=\"data row48 col2\" >5000.000000</td>\n",
       "                        <td id=\"T_08a7b7b6_7802_11ea_bc94_701ce71031efrow48_col3\" class=\"data row48 col3\" >7000</td>\n",
       "                        <td id=\"T_08a7b7b6_7802_11ea_bc94_701ce71031efrow48_col4\" class=\"data row48 col4\" >32515.625000</td>\n",
       "                        <td id=\"T_08a7b7b6_7802_11ea_bc94_701ce71031efrow48_col5\" class=\"data row48 col5\" >206</td>\n",
       "                        <td id=\"T_08a7b7b6_7802_11ea_bc94_701ce71031efrow48_col6\" class=\"data row48 col6\" >0.11%</td>\n",
       "            </tr>\n",
       "    </tbody></table>"
      ],
      "text/plain": [
       "<pandas.io.formats.style.Styler at 0x1998b899588>"
      ]
     },
     "execution_count": 19,
     "metadata": {},
     "output_type": "execute_result"
    }
   ],
   "source": [
    "data_career = get_sub_stats_by_col(data,'career')\n",
    "data_career.style.format({\"salary_mean\":\"{:.0f}\",\"salary_median\":\"{:.0f}\",\"percentage\":\"{:.2%}\"})"
   ]
  },
  {
   "cell_type": "code",
   "execution_count": 20,
   "metadata": {},
   "outputs": [
    {
     "data": {
      "text/plain": [
       "16437.606482812706"
      ]
     },
     "execution_count": 20,
     "metadata": {},
     "output_type": "execute_result"
    }
   ],
   "source": [
    "np.sum(data.monthly_salary * data.headcount) / data.headcount.sum()"
   ]
  },
  {
   "cell_type": "code",
   "execution_count": 21,
   "metadata": {},
   "outputs": [
    {
     "data": {
      "text/plain": [
       "191275"
      ]
     },
     "execution_count": 21,
     "metadata": {},
     "output_type": "execute_result"
    }
   ],
   "source": [
    "data.headcount.sum()"
   ]
  },
  {
   "cell_type": "code",
   "execution_count": 22,
   "metadata": {},
   "outputs": [
    {
     "data": {
      "text/plain": [
       "count    58340.000000\n",
       "mean         3.278625\n",
       "std          5.051038\n",
       "min          1.000000\n",
       "25%          1.000000\n",
       "50%          2.000000\n",
       "75%          5.000000\n",
       "max        500.000000\n",
       "Name: headcount, dtype: float64"
      ]
     },
     "execution_count": 22,
     "metadata": {},
     "output_type": "execute_result"
    }
   ],
   "source": [
    "data.headcount.describe()"
   ]
  },
  {
   "cell_type": "code",
   "execution_count": 23,
   "metadata": {},
   "outputs": [],
   "source": [
    "pd.options.display.max_columns=100\n"
   ]
  },
  {
   "cell_type": "markdown",
   "metadata": {},
   "source": []
  },
  {
   "cell_type": "code",
   "execution_count": 24,
   "metadata": {},
   "outputs": [
    {
     "data": {
      "text/plain": [
       "191275"
      ]
     },
     "execution_count": 24,
     "metadata": {},
     "output_type": "execute_result"
    }
   ],
   "source": [
    "data.headcount.sum()"
   ]
  },
  {
   "cell_type": "markdown",
   "metadata": {},
   "source": [
    "# 城市"
   ]
  },
  {
   "cell_type": "code",
   "execution_count": 25,
   "metadata": {},
   "outputs": [],
   "source": [
    "headcount_by_cities = data.groupby(by='city').headcount.sum()"
   ]
  },
  {
   "cell_type": "code",
   "execution_count": 26,
   "metadata": {},
   "outputs": [
    {
     "data": {
      "text/plain": [
       "city\n",
       "上海    64372\n",
       "北京    32729\n",
       "广州    44663\n",
       "深圳    49511\n",
       "Name: headcount, dtype: int64"
      ]
     },
     "execution_count": 26,
     "metadata": {},
     "output_type": "execute_result"
    }
   ],
   "source": [
    "headcount_by_cities\n"
   ]
  },
  {
   "cell_type": "code",
   "execution_count": 27,
   "metadata": {},
   "outputs": [
    {
     "data": {
      "image/png": "[encoded data removed]",
      "text/plain": [
       "<Figure size 720x576 with 1 Axes>"
      ]
     },
     "metadata": {},
     "output_type": "display_data"
    }
   ],
   "source": [
    "plt.figure(figsize=(10,8))\n",
    "plt.pie(headcount_by_cities.values, labels=headcount_by_cities.index, autopct='%1.1f%%')\n",
    "plt.show()"
   ]
  },
  {
   "cell_type": "code",
   "execution_count": 28,
   "metadata": {},
   "outputs": [
    {
     "data": {
      "text/html": [
       "<style  type=\"text/css\" >\n",
       "</style><table id=\"T_08dbe73e_7802_11ea_b289_701ce71031ef\" ><thead>    <tr>        <th class=\"col_heading level0 col0\" >city</th>        <th class=\"col_heading level0 col1\" >salary_mean</th>        <th class=\"col_heading level0 col2\" >salary_95_min</th>        <th class=\"col_heading level0 col3\" >salary_median</th>        <th class=\"col_heading level0 col4\" >salary_95_max</th>        <th class=\"col_heading level0 col5\" >head_count</th>        <th class=\"col_heading level0 col6\" >percentage</th>    </tr></thead><tbody>\n",
       "                <tr>\n",
       "                                <td id=\"T_08dbe73e_7802_11ea_b289_701ce71031efrow0_col0\" class=\"data row0 col0\" >北京</td>\n",
       "                        <td id=\"T_08dbe73e_7802_11ea_b289_701ce71031efrow0_col1\" class=\"data row0 col1\" >18058</td>\n",
       "                        <td id=\"T_08dbe73e_7802_11ea_b289_701ce71031efrow0_col2\" class=\"data row0 col2\" >5250</td>\n",
       "                        <td id=\"T_08dbe73e_7802_11ea_b289_701ce71031efrow0_col3\" class=\"data row0 col3\" >15500</td>\n",
       "                        <td id=\"T_08dbe73e_7802_11ea_b289_701ce71031efrow0_col4\" class=\"data row0 col4\" >42500</td>\n",
       "                        <td id=\"T_08dbe73e_7802_11ea_b289_701ce71031efrow0_col5\" class=\"data row0 col5\" >32729</td>\n",
       "                        <td id=\"T_08dbe73e_7802_11ea_b289_701ce71031efrow0_col6\" class=\"data row0 col6\" >17.11%</td>\n",
       "            </tr>\n",
       "            <tr>\n",
       "                                <td id=\"T_08dbe73e_7802_11ea_b289_701ce71031efrow1_col0\" class=\"data row1 col0\" >上海</td>\n",
       "                        <td id=\"T_08dbe73e_7802_11ea_b289_701ce71031efrow1_col1\" class=\"data row1 col1\" >16863</td>\n",
       "                        <td id=\"T_08dbe73e_7802_11ea_b289_701ce71031efrow1_col2\" class=\"data row1 col2\" >6500</td>\n",
       "                        <td id=\"T_08dbe73e_7802_11ea_b289_701ce71031efrow1_col3\" class=\"data row1 col3\" >15000</td>\n",
       "                        <td id=\"T_08dbe73e_7802_11ea_b289_701ce71031efrow1_col4\" class=\"data row1 col4\" >40000</td>\n",
       "                        <td id=\"T_08dbe73e_7802_11ea_b289_701ce71031efrow1_col5\" class=\"data row1 col5\" >64372</td>\n",
       "                        <td id=\"T_08dbe73e_7802_11ea_b289_701ce71031efrow1_col6\" class=\"data row1 col6\" >33.65%</td>\n",
       "            </tr>\n",
       "            <tr>\n",
       "                                <td id=\"T_08dbe73e_7802_11ea_b289_701ce71031efrow2_col0\" class=\"data row2 col0\" >深圳</td>\n",
       "                        <td id=\"T_08dbe73e_7802_11ea_b289_701ce71031efrow2_col1\" class=\"data row2 col1\" >16623</td>\n",
       "                        <td id=\"T_08dbe73e_7802_11ea_b289_701ce71031efrow2_col2\" class=\"data row2 col2\" >6000</td>\n",
       "                        <td id=\"T_08dbe73e_7802_11ea_b289_701ce71031efrow2_col3\" class=\"data row2 col3\" >15000</td>\n",
       "                        <td id=\"T_08dbe73e_7802_11ea_b289_701ce71031efrow2_col4\" class=\"data row2 col4\" >37500</td>\n",
       "                        <td id=\"T_08dbe73e_7802_11ea_b289_701ce71031efrow2_col5\" class=\"data row2 col5\" >49511</td>\n",
       "                        <td id=\"T_08dbe73e_7802_11ea_b289_701ce71031efrow2_col6\" class=\"data row2 col6\" >25.88%</td>\n",
       "            </tr>\n",
       "            <tr>\n",
       "                                <td id=\"T_08dbe73e_7802_11ea_b289_701ce71031efrow3_col0\" class=\"data row3 col0\" >广州</td>\n",
       "                        <td id=\"T_08dbe73e_7802_11ea_b289_701ce71031efrow3_col1\" class=\"data row3 col1\" >14432</td>\n",
       "                        <td id=\"T_08dbe73e_7802_11ea_b289_701ce71031efrow3_col2\" class=\"data row3 col2\" >5250</td>\n",
       "                        <td id=\"T_08dbe73e_7802_11ea_b289_701ce71031efrow3_col3\" class=\"data row3 col3\" >12500</td>\n",
       "                        <td id=\"T_08dbe73e_7802_11ea_b289_701ce71031efrow3_col4\" class=\"data row3 col4\" >30000</td>\n",
       "                        <td id=\"T_08dbe73e_7802_11ea_b289_701ce71031efrow3_col5\" class=\"data row3 col5\" >44663</td>\n",
       "                        <td id=\"T_08dbe73e_7802_11ea_b289_701ce71031efrow3_col6\" class=\"data row3 col6\" >23.35%</td>\n",
       "            </tr>\n",
       "    </tbody></table>"
      ],
      "text/plain": [
       "<pandas.io.formats.style.Styler at 0x19987e64888>"
      ]
     },
     "execution_count": 28,
     "metadata": {},
     "output_type": "execute_result"
    }
   ],
   "source": [
    "data_pl=get_sub_stats_by_col(data,'city')\n",
    "apply_style(data_pl)"
   ]
  },
  {
   "cell_type": "code",
   "execution_count": 29,
   "metadata": {},
   "outputs": [],
   "source": [
    "salary_beijing=data[data.city=='北京'].monthly_salary\n",
    "salary_shanghai=data[data.city=='上海'].monthly_salary\n",
    "salary_guangzhou=data[data.city=='广州'].monthly_salary\n",
    "salary_shenzhen=data[data.city=='深圳'].monthly_salary"
   ]
  },
  {
   "cell_type": "code",
   "execution_count": null,
   "metadata": {},
   "outputs": [],
   "source": []
  },
  {
   "cell_type": "code",
   "execution_count": 30,
   "metadata": {},
   "outputs": [
    {
     "data": {
      "text/plain": [
       "F_onewayResult(statistic=136.33541200192516, pvalue=1.987014554011544e-31)"
      ]
     },
     "execution_count": 30,
     "metadata": {},
     "output_type": "execute_result"
    }
   ],
   "source": [
    "stats.f_oneway(salary_beijing, salary_shanghai)"
   ]
  },
  {
   "cell_type": "code",
   "execution_count": 31,
   "metadata": {},
   "outputs": [
    {
     "data": {
      "text/plain": [
       "F_onewayResult(statistic=108.23702744220992, pvalue=2.5924301089284636e-25)"
      ]
     },
     "execution_count": 31,
     "metadata": {},
     "output_type": "execute_result"
    }
   ],
   "source": [
    "stats.f_oneway(salary_shanghai, salary_shenzhen)"
   ]
  },
  {
   "cell_type": "code",
   "execution_count": 32,
   "metadata": {},
   "outputs": [
    {
     "data": {
      "text/plain": [
       "F_onewayResult(statistic=962.2188095896075, pvalue=5.9553797201273e-208)"
      ]
     },
     "execution_count": 32,
     "metadata": {},
     "output_type": "execute_result"
    }
   ],
   "source": [
    "stats.f_oneway(salary_shenzhen, salary_guangzhou)"
   ]
  },
  {
   "cell_type": "markdown",
   "metadata": {},
   "source": [
    "# 编程语言"
   ]
  },
  {
   "cell_type": "code",
   "execution_count": 33,
   "metadata": {},
   "outputs": [
    {
     "data": {
      "text/html": [
       "<style  type=\"text/css\" >\n",
       "</style><table id=\"T_090df39e_7802_11ea_b108_701ce71031ef\" ><thead>    <tr>        <th class=\"col_heading level0 col0\" >rank</th>        <th class=\"col_heading level0 col1\" >pl_</th>        <th class=\"col_heading level0 col2\" >salary_mean</th>        <th class=\"col_heading level0 col3\" >salary_median</th>        <th class=\"col_heading level0 col4\" >salary_95_min</th>        <th class=\"col_heading level0 col5\" >salary_95_max</th>        <th class=\"col_heading level0 col6\" >head_count</th>        <th class=\"col_heading level0 col7\" >percentage</th>    </tr></thead><tbody>\n",
       "                <tr>\n",
       "                                <td id=\"T_090df39e_7802_11ea_b108_701ce71031efrow0_col0\" class=\"data row0 col0\" >1</td>\n",
       "                        <td id=\"T_090df39e_7802_11ea_b108_701ce71031efrow0_col1\" class=\"data row0 col1\" >rust</td>\n",
       "                        <td id=\"T_090df39e_7802_11ea_b108_701ce71031efrow0_col2\" class=\"data row0 col2\" >22567</td>\n",
       "                        <td id=\"T_090df39e_7802_11ea_b108_701ce71031efrow0_col3\" class=\"data row0 col3\" >25000</td>\n",
       "                        <td id=\"T_090df39e_7802_11ea_b108_701ce71031efrow0_col4\" class=\"data row0 col4\" >4000</td>\n",
       "                        <td id=\"T_090df39e_7802_11ea_b108_701ce71031efrow0_col5\" class=\"data row0 col5\" >45000</td>\n",
       "                        <td id=\"T_090df39e_7802_11ea_b108_701ce71031efrow0_col6\" class=\"data row0 col6\" >458</td>\n",
       "                        <td id=\"T_090df39e_7802_11ea_b108_701ce71031efrow0_col7\" class=\"data row0 col7\" >0.17%</td>\n",
       "            </tr>\n",
       "            <tr>\n",
       "                                <td id=\"T_090df39e_7802_11ea_b108_701ce71031efrow1_col0\" class=\"data row1 col0\" >2</td>\n",
       "                        <td id=\"T_090df39e_7802_11ea_b108_701ce71031efrow1_col1\" class=\"data row1 col1\" >scala</td>\n",
       "                        <td id=\"T_090df39e_7802_11ea_b108_701ce71031efrow1_col2\" class=\"data row1 col2\" >22433</td>\n",
       "                        <td id=\"T_090df39e_7802_11ea_b108_701ce71031efrow1_col3\" class=\"data row1 col3\" >20250</td>\n",
       "                        <td id=\"T_090df39e_7802_11ea_b108_701ce71031efrow1_col4\" class=\"data row1 col4\" >8500</td>\n",
       "                        <td id=\"T_090df39e_7802_11ea_b108_701ce71031efrow1_col5\" class=\"data row1 col5\" >50000</td>\n",
       "                        <td id=\"T_090df39e_7802_11ea_b108_701ce71031efrow1_col6\" class=\"data row1 col6\" >2288</td>\n",
       "                        <td id=\"T_090df39e_7802_11ea_b108_701ce71031efrow1_col7\" class=\"data row1 col7\" >0.84%</td>\n",
       "            </tr>\n",
       "            <tr>\n",
       "                                <td id=\"T_090df39e_7802_11ea_b108_701ce71031efrow2_col0\" class=\"data row2 col0\" >3</td>\n",
       "                        <td id=\"T_090df39e_7802_11ea_b108_701ce71031efrow2_col1\" class=\"data row2 col1\" >ruby</td>\n",
       "                        <td id=\"T_090df39e_7802_11ea_b108_701ce71031efrow2_col2\" class=\"data row2 col2\" >21497</td>\n",
       "                        <td id=\"T_090df39e_7802_11ea_b108_701ce71031efrow2_col3\" class=\"data row2 col3\" >17500</td>\n",
       "                        <td id=\"T_090df39e_7802_11ea_b108_701ce71031efrow2_col4\" class=\"data row2 col4\" >4604</td>\n",
       "                        <td id=\"T_090df39e_7802_11ea_b108_701ce71031efrow2_col5\" class=\"data row2 col5\" >45000</td>\n",
       "                        <td id=\"T_090df39e_7802_11ea_b108_701ce71031efrow2_col6\" class=\"data row2 col6\" >1769</td>\n",
       "                        <td id=\"T_090df39e_7802_11ea_b108_701ce71031efrow2_col7\" class=\"data row2 col7\" >0.65%</td>\n",
       "            </tr>\n",
       "            <tr>\n",
       "                                <td id=\"T_090df39e_7802_11ea_b108_701ce71031efrow3_col0\" class=\"data row3 col0\" >4</td>\n",
       "                        <td id=\"T_090df39e_7802_11ea_b108_701ce71031efrow3_col1\" class=\"data row3 col1\" >matlab</td>\n",
       "                        <td id=\"T_090df39e_7802_11ea_b108_701ce71031efrow3_col2\" class=\"data row3 col2\" >20970</td>\n",
       "                        <td id=\"T_090df39e_7802_11ea_b108_701ce71031efrow3_col3\" class=\"data row3 col3\" >19000</td>\n",
       "                        <td id=\"T_090df39e_7802_11ea_b108_701ce71031efrow3_col4\" class=\"data row3 col4\" >7000</td>\n",
       "                        <td id=\"T_090df39e_7802_11ea_b108_701ce71031efrow3_col5\" class=\"data row3 col5\" >50000</td>\n",
       "                        <td id=\"T_090df39e_7802_11ea_b108_701ce71031efrow3_col6\" class=\"data row3 col6\" >3727</td>\n",
       "                        <td id=\"T_090df39e_7802_11ea_b108_701ce71031efrow3_col7\" class=\"data row3 col7\" >1.37%</td>\n",
       "            </tr>\n",
       "            <tr>\n",
       "                                <td id=\"T_090df39e_7802_11ea_b108_701ce71031efrow4_col0\" class=\"data row4 col0\" >5</td>\n",
       "                        <td id=\"T_090df39e_7802_11ea_b108_701ce71031efrow4_col1\" class=\"data row4 col1\" >python</td>\n",
       "                        <td id=\"T_090df39e_7802_11ea_b108_701ce71031efrow4_col2\" class=\"data row4 col2\" >20843</td>\n",
       "                        <td id=\"T_090df39e_7802_11ea_b108_701ce71031efrow4_col3\" class=\"data row4 col3\" >17500</td>\n",
       "                        <td id=\"T_090df39e_7802_11ea_b108_701ce71031efrow4_col4\" class=\"data row4 col4\" >7000</td>\n",
       "                        <td id=\"T_090df39e_7802_11ea_b108_701ce71031efrow4_col5\" class=\"data row4 col5\" >45000</td>\n",
       "                        <td id=\"T_090df39e_7802_11ea_b108_701ce71031efrow4_col6\" class=\"data row4 col6\" >25695</td>\n",
       "                        <td id=\"T_090df39e_7802_11ea_b108_701ce71031efrow4_col7\" class=\"data row4 col7\" >9.42%</td>\n",
       "            </tr>\n",
       "            <tr>\n",
       "                                <td id=\"T_090df39e_7802_11ea_b108_701ce71031efrow5_col0\" class=\"data row5 col0\" >6</td>\n",
       "                        <td id=\"T_090df39e_7802_11ea_b108_701ce71031efrow5_col1\" class=\"data row5 col1\" >go</td>\n",
       "                        <td id=\"T_090df39e_7802_11ea_b108_701ce71031efrow5_col2\" class=\"data row5 col2\" >20205</td>\n",
       "                        <td id=\"T_090df39e_7802_11ea_b108_701ce71031efrow5_col3\" class=\"data row5 col3\" >17500</td>\n",
       "                        <td id=\"T_090df39e_7802_11ea_b108_701ce71031efrow5_col4\" class=\"data row5 col4\" >7000</td>\n",
       "                        <td id=\"T_090df39e_7802_11ea_b108_701ce71031efrow5_col5\" class=\"data row5 col5\" >45000</td>\n",
       "                        <td id=\"T_090df39e_7802_11ea_b108_701ce71031efrow5_col6\" class=\"data row5 col6\" >22696</td>\n",
       "                        <td id=\"T_090df39e_7802_11ea_b108_701ce71031efrow5_col7\" class=\"data row5 col7\" >8.32%</td>\n",
       "            </tr>\n",
       "            <tr>\n",
       "                                <td id=\"T_090df39e_7802_11ea_b108_701ce71031efrow6_col0\" class=\"data row6 col0\" >7</td>\n",
       "                        <td id=\"T_090df39e_7802_11ea_b108_701ce71031efrow6_col1\" class=\"data row6 col1\" >lua</td>\n",
       "                        <td id=\"T_090df39e_7802_11ea_b108_701ce71031efrow6_col2\" class=\"data row6 col2\" >19792</td>\n",
       "                        <td id=\"T_090df39e_7802_11ea_b108_701ce71031efrow6_col3\" class=\"data row6 col3\" >17500</td>\n",
       "                        <td id=\"T_090df39e_7802_11ea_b108_701ce71031efrow6_col4\" class=\"data row6 col4\" >7000</td>\n",
       "                        <td id=\"T_090df39e_7802_11ea_b108_701ce71031efrow6_col5\" class=\"data row6 col5\" >41597</td>\n",
       "                        <td id=\"T_090df39e_7802_11ea_b108_701ce71031efrow6_col6\" class=\"data row6 col6\" >3505</td>\n",
       "                        <td id=\"T_090df39e_7802_11ea_b108_701ce71031efrow6_col7\" class=\"data row6 col7\" >1.28%</td>\n",
       "            </tr>\n",
       "            <tr>\n",
       "                                <td id=\"T_090df39e_7802_11ea_b108_701ce71031efrow7_col0\" class=\"data row7 col0\" >8</td>\n",
       "                        <td id=\"T_090df39e_7802_11ea_b108_701ce71031efrow7_col1\" class=\"data row7 col1\" >perl</td>\n",
       "                        <td id=\"T_090df39e_7802_11ea_b108_701ce71031efrow7_col2\" class=\"data row7 col2\" >19440</td>\n",
       "                        <td id=\"T_090df39e_7802_11ea_b108_701ce71031efrow7_col3\" class=\"data row7 col3\" >17500</td>\n",
       "                        <td id=\"T_090df39e_7802_11ea_b108_701ce71031efrow7_col4\" class=\"data row7 col4\" >5460</td>\n",
       "                        <td id=\"T_090df39e_7802_11ea_b108_701ce71031efrow7_col5\" class=\"data row7 col5\" >49833</td>\n",
       "                        <td id=\"T_090df39e_7802_11ea_b108_701ce71031efrow7_col6\" class=\"data row7 col6\" >1868</td>\n",
       "                        <td id=\"T_090df39e_7802_11ea_b108_701ce71031efrow7_col7\" class=\"data row7 col7\" >0.68%</td>\n",
       "            </tr>\n",
       "            <tr>\n",
       "                                <td id=\"T_090df39e_7802_11ea_b108_701ce71031efrow8_col0\" class=\"data row8 col0\" >9</td>\n",
       "                        <td id=\"T_090df39e_7802_11ea_b108_701ce71031efrow8_col1\" class=\"data row8 col1\" >kotlin</td>\n",
       "                        <td id=\"T_090df39e_7802_11ea_b108_701ce71031efrow8_col2\" class=\"data row8 col2\" >19124</td>\n",
       "                        <td id=\"T_090df39e_7802_11ea_b108_701ce71031efrow8_col3\" class=\"data row8 col3\" >17500</td>\n",
       "                        <td id=\"T_090df39e_7802_11ea_b108_701ce71031efrow8_col4\" class=\"data row8 col4\" >9000</td>\n",
       "                        <td id=\"T_090df39e_7802_11ea_b108_701ce71031efrow8_col5\" class=\"data row8 col5\" >37458</td>\n",
       "                        <td id=\"T_090df39e_7802_11ea_b108_701ce71031efrow8_col6\" class=\"data row8 col6\" >761</td>\n",
       "                        <td id=\"T_090df39e_7802_11ea_b108_701ce71031efrow8_col7\" class=\"data row8 col7\" >0.28%</td>\n",
       "            </tr>\n",
       "            <tr>\n",
       "                                <td id=\"T_090df39e_7802_11ea_b108_701ce71031efrow9_col0\" class=\"data row9 col0\" >10</td>\n",
       "                        <td id=\"T_090df39e_7802_11ea_b108_701ce71031efrow9_col1\" class=\"data row9 col1\" >r</td>\n",
       "                        <td id=\"T_090df39e_7802_11ea_b108_701ce71031efrow9_col2\" class=\"data row9 col2\" >19109</td>\n",
       "                        <td id=\"T_090df39e_7802_11ea_b108_701ce71031efrow9_col3\" class=\"data row9 col3\" >17500</td>\n",
       "                        <td id=\"T_090df39e_7802_11ea_b108_701ce71031efrow9_col4\" class=\"data row9 col4\" >5250</td>\n",
       "                        <td id=\"T_090df39e_7802_11ea_b108_701ce71031efrow9_col5\" class=\"data row9 col5\" >45000</td>\n",
       "                        <td id=\"T_090df39e_7802_11ea_b108_701ce71031efrow9_col6\" class=\"data row9 col6\" >2858</td>\n",
       "                        <td id=\"T_090df39e_7802_11ea_b108_701ce71031efrow9_col7\" class=\"data row9 col7\" >1.05%</td>\n",
       "            </tr>\n",
       "            <tr>\n",
       "                                <td id=\"T_090df39e_7802_11ea_b108_701ce71031efrow10_col0\" class=\"data row10 col0\" >11</td>\n",
       "                        <td id=\"T_090df39e_7802_11ea_b108_701ce71031efrow10_col1\" class=\"data row10 col1\" >swift</td>\n",
       "                        <td id=\"T_090df39e_7802_11ea_b108_701ce71031efrow10_col2\" class=\"data row10 col2\" >19028</td>\n",
       "                        <td id=\"T_090df39e_7802_11ea_b108_701ce71031efrow10_col3\" class=\"data row10 col3\" >17500</td>\n",
       "                        <td id=\"T_090df39e_7802_11ea_b108_701ce71031efrow10_col4\" class=\"data row10 col4\" >7500</td>\n",
       "                        <td id=\"T_090df39e_7802_11ea_b108_701ce71031efrow10_col5\" class=\"data row10 col5\" >37500</td>\n",
       "                        <td id=\"T_090df39e_7802_11ea_b108_701ce71031efrow10_col6\" class=\"data row10 col6\" >1865</td>\n",
       "                        <td id=\"T_090df39e_7802_11ea_b108_701ce71031efrow10_col7\" class=\"data row10 col7\" >0.68%</td>\n",
       "            </tr>\n",
       "            <tr>\n",
       "                                <td id=\"T_090df39e_7802_11ea_b108_701ce71031efrow11_col0\" class=\"data row11 col0\" >12</td>\n",
       "                        <td id=\"T_090df39e_7802_11ea_b108_701ce71031efrow11_col1\" class=\"data row11 col1\" >cpp</td>\n",
       "                        <td id=\"T_090df39e_7802_11ea_b108_701ce71031efrow11_col2\" class=\"data row11 col2\" >17522</td>\n",
       "                        <td id=\"T_090df39e_7802_11ea_b108_701ce71031efrow11_col3\" class=\"data row11 col3\" >15000</td>\n",
       "                        <td id=\"T_090df39e_7802_11ea_b108_701ce71031efrow11_col4\" class=\"data row11 col4\" >6500</td>\n",
       "                        <td id=\"T_090df39e_7802_11ea_b108_701ce71031efrow11_col5\" class=\"data row11 col5\" >40000</td>\n",
       "                        <td id=\"T_090df39e_7802_11ea_b108_701ce71031efrow11_col6\" class=\"data row11 col6\" >63318</td>\n",
       "                        <td id=\"T_090df39e_7802_11ea_b108_701ce71031efrow11_col7\" class=\"data row11 col7\" >23.21%</td>\n",
       "            </tr>\n",
       "            <tr>\n",
       "                                <td id=\"T_090df39e_7802_11ea_b108_701ce71031efrow12_col0\" class=\"data row12 col0\" >13</td>\n",
       "                        <td id=\"T_090df39e_7802_11ea_b108_701ce71031efrow12_col1\" class=\"data row12 col1\" >java</td>\n",
       "                        <td id=\"T_090df39e_7802_11ea_b108_701ce71031efrow12_col2\" class=\"data row12 col2\" >16849</td>\n",
       "                        <td id=\"T_090df39e_7802_11ea_b108_701ce71031efrow12_col3\" class=\"data row12 col3\" >15000</td>\n",
       "                        <td id=\"T_090df39e_7802_11ea_b108_701ce71031efrow12_col4\" class=\"data row12 col4\" >6500</td>\n",
       "                        <td id=\"T_090df39e_7802_11ea_b108_701ce71031efrow12_col5\" class=\"data row12 col5\" >37500</td>\n",
       "                        <td id=\"T_090df39e_7802_11ea_b108_701ce71031efrow12_col6\" class=\"data row12 col6\" >70892</td>\n",
       "                        <td id=\"T_090df39e_7802_11ea_b108_701ce71031efrow12_col7\" class=\"data row12 col7\" >25.98%</td>\n",
       "            </tr>\n",
       "            <tr>\n",
       "                                <td id=\"T_090df39e_7802_11ea_b108_701ce71031efrow13_col0\" class=\"data row13 col0\" >14</td>\n",
       "                        <td id=\"T_090df39e_7802_11ea_b108_701ce71031efrow13_col1\" class=\"data row13 col1\" >haskell</td>\n",
       "                        <td id=\"T_090df39e_7802_11ea_b108_701ce71031efrow13_col2\" class=\"data row13 col2\" >16818</td>\n",
       "                        <td id=\"T_090df39e_7802_11ea_b108_701ce71031efrow13_col3\" class=\"data row13 col3\" >15000</td>\n",
       "                        <td id=\"T_090df39e_7802_11ea_b108_701ce71031efrow13_col4\" class=\"data row13 col4\" >11500</td>\n",
       "                        <td id=\"T_090df39e_7802_11ea_b108_701ce71031efrow13_col5\" class=\"data row13 col5\" >27000</td>\n",
       "                        <td id=\"T_090df39e_7802_11ea_b108_701ce71031efrow13_col6\" class=\"data row13 col6\" >33</td>\n",
       "                        <td id=\"T_090df39e_7802_11ea_b108_701ce71031efrow13_col7\" class=\"data row13 col7\" >0.01%</td>\n",
       "            </tr>\n",
       "            <tr>\n",
       "                                <td id=\"T_090df39e_7802_11ea_b108_701ce71031efrow14_col0\" class=\"data row14 col0\" >15</td>\n",
       "                        <td id=\"T_090df39e_7802_11ea_b108_701ce71031efrow14_col1\" class=\"data row14 col1\" >typescript</td>\n",
       "                        <td id=\"T_090df39e_7802_11ea_b108_701ce71031efrow14_col2\" class=\"data row14 col2\" >16786</td>\n",
       "                        <td id=\"T_090df39e_7802_11ea_b108_701ce71031efrow14_col3\" class=\"data row14 col3\" >15000</td>\n",
       "                        <td id=\"T_090df39e_7802_11ea_b108_701ce71031efrow14_col4\" class=\"data row14 col4\" >7500</td>\n",
       "                        <td id=\"T_090df39e_7802_11ea_b108_701ce71031efrow14_col5\" class=\"data row14 col5\" >35589</td>\n",
       "                        <td id=\"T_090df39e_7802_11ea_b108_701ce71031efrow14_col6\" class=\"data row14 col6\" >2347</td>\n",
       "                        <td id=\"T_090df39e_7802_11ea_b108_701ce71031efrow14_col7\" class=\"data row14 col7\" >0.86%</td>\n",
       "            </tr>\n",
       "            <tr>\n",
       "                                <td id=\"T_090df39e_7802_11ea_b108_701ce71031efrow15_col0\" class=\"data row15 col0\" >16</td>\n",
       "                        <td id=\"T_090df39e_7802_11ea_b108_701ce71031efrow15_col1\" class=\"data row15 col1\" >php</td>\n",
       "                        <td id=\"T_090df39e_7802_11ea_b108_701ce71031efrow15_col2\" class=\"data row15 col2\" >16276</td>\n",
       "                        <td id=\"T_090df39e_7802_11ea_b108_701ce71031efrow15_col3\" class=\"data row15 col3\" >12500</td>\n",
       "                        <td id=\"T_090df39e_7802_11ea_b108_701ce71031efrow15_col4\" class=\"data row15 col4\" >5250</td>\n",
       "                        <td id=\"T_090df39e_7802_11ea_b108_701ce71031efrow15_col5\" class=\"data row15 col5\" >42500</td>\n",
       "                        <td id=\"T_090df39e_7802_11ea_b108_701ce71031efrow15_col6\" class=\"data row15 col6\" >10770</td>\n",
       "                        <td id=\"T_090df39e_7802_11ea_b108_701ce71031efrow15_col7\" class=\"data row15 col7\" >3.95%</td>\n",
       "            </tr>\n",
       "            <tr>\n",
       "                                <td id=\"T_090df39e_7802_11ea_b108_701ce71031efrow16_col0\" class=\"data row16 col0\" >17</td>\n",
       "                        <td id=\"T_090df39e_7802_11ea_b108_701ce71031efrow16_col1\" class=\"data row16 col1\" >objective_c</td>\n",
       "                        <td id=\"T_090df39e_7802_11ea_b108_701ce71031efrow16_col2\" class=\"data row16 col2\" >15447</td>\n",
       "                        <td id=\"T_090df39e_7802_11ea_b108_701ce71031efrow16_col3\" class=\"data row16 col3\" >15000</td>\n",
       "                        <td id=\"T_090df39e_7802_11ea_b108_701ce71031efrow16_col4\" class=\"data row16 col4\" >7012</td>\n",
       "                        <td id=\"T_090df39e_7802_11ea_b108_701ce71031efrow16_col5\" class=\"data row16 col5\" >26625</td>\n",
       "                        <td id=\"T_090df39e_7802_11ea_b108_701ce71031efrow16_col6\" class=\"data row16 col6\" >161</td>\n",
       "                        <td id=\"T_090df39e_7802_11ea_b108_701ce71031efrow16_col7\" class=\"data row16 col7\" >0.06%</td>\n",
       "            </tr>\n",
       "            <tr>\n",
       "                                <td id=\"T_090df39e_7802_11ea_b108_701ce71031efrow17_col0\" class=\"data row17 col0\" >18</td>\n",
       "                        <td id=\"T_090df39e_7802_11ea_b108_701ce71031efrow17_col1\" class=\"data row17 col1\" >c_sharp</td>\n",
       "                        <td id=\"T_090df39e_7802_11ea_b108_701ce71031efrow17_col2\" class=\"data row17 col2\" >14572</td>\n",
       "                        <td id=\"T_090df39e_7802_11ea_b108_701ce71031efrow17_col3\" class=\"data row17 col3\" >12500</td>\n",
       "                        <td id=\"T_090df39e_7802_11ea_b108_701ce71031efrow17_col4\" class=\"data row17 col4\" >5250</td>\n",
       "                        <td id=\"T_090df39e_7802_11ea_b108_701ce71031efrow17_col5\" class=\"data row17 col5\" >35000</td>\n",
       "                        <td id=\"T_090df39e_7802_11ea_b108_701ce71031efrow17_col6\" class=\"data row17 col6\" >21409</td>\n",
       "                        <td id=\"T_090df39e_7802_11ea_b108_701ce71031efrow17_col7\" class=\"data row17 col7\" >7.85%</td>\n",
       "            </tr>\n",
       "            <tr>\n",
       "                                <td id=\"T_090df39e_7802_11ea_b108_701ce71031efrow18_col0\" class=\"data row18 col0\" >19</td>\n",
       "                        <td id=\"T_090df39e_7802_11ea_b108_701ce71031efrow18_col1\" class=\"data row18 col1\" >javascript</td>\n",
       "                        <td id=\"T_090df39e_7802_11ea_b108_701ce71031efrow18_col2\" class=\"data row18 col2\" >14286</td>\n",
       "                        <td id=\"T_090df39e_7802_11ea_b108_701ce71031efrow18_col3\" class=\"data row18 col3\" >12500</td>\n",
       "                        <td id=\"T_090df39e_7802_11ea_b108_701ce71031efrow18_col4\" class=\"data row18 col4\" >6000</td>\n",
       "                        <td id=\"T_090df39e_7802_11ea_b108_701ce71031efrow18_col5\" class=\"data row18 col5\" >29166</td>\n",
       "                        <td id=\"T_090df39e_7802_11ea_b108_701ce71031efrow18_col6\" class=\"data row18 col6\" >35605</td>\n",
       "                        <td id=\"T_090df39e_7802_11ea_b108_701ce71031efrow18_col7\" class=\"data row18 col7\" >13.05%</td>\n",
       "            </tr>\n",
       "            <tr>\n",
       "                                <td id=\"T_090df39e_7802_11ea_b108_701ce71031efrow19_col0\" class=\"data row19 col0\" >20</td>\n",
       "                        <td id=\"T_090df39e_7802_11ea_b108_701ce71031efrow19_col1\" class=\"data row19 col1\" >julia</td>\n",
       "                        <td id=\"T_090df39e_7802_11ea_b108_701ce71031efrow19_col2\" class=\"data row19 col2\" >14167</td>\n",
       "                        <td id=\"T_090df39e_7802_11ea_b108_701ce71031efrow19_col3\" class=\"data row19 col3\" >14167</td>\n",
       "                        <td id=\"T_090df39e_7802_11ea_b108_701ce71031efrow19_col4\" class=\"data row19 col4\" >12500</td>\n",
       "                        <td id=\"T_090df39e_7802_11ea_b108_701ce71031efrow19_col5\" class=\"data row19 col5\" >22500</td>\n",
       "                        <td id=\"T_090df39e_7802_11ea_b108_701ce71031efrow19_col6\" class=\"data row19 col6\" >6</td>\n",
       "                        <td id=\"T_090df39e_7802_11ea_b108_701ce71031efrow19_col7\" class=\"data row19 col7\" >0.00%</td>\n",
       "            </tr>\n",
       "            <tr>\n",
       "                                <td id=\"T_090df39e_7802_11ea_b108_701ce71031efrow20_col0\" class=\"data row20 col0\" >21</td>\n",
       "                        <td id=\"T_090df39e_7802_11ea_b108_701ce71031efrow20_col1\" class=\"data row20 col1\" >delphi</td>\n",
       "                        <td id=\"T_090df39e_7802_11ea_b108_701ce71031efrow20_col2\" class=\"data row20 col2\" >13353</td>\n",
       "                        <td id=\"T_090df39e_7802_11ea_b108_701ce71031efrow20_col3\" class=\"data row20 col3\" >12500</td>\n",
       "                        <td id=\"T_090df39e_7802_11ea_b108_701ce71031efrow20_col4\" class=\"data row20 col4\" >5500</td>\n",
       "                        <td id=\"T_090df39e_7802_11ea_b108_701ce71031efrow20_col5\" class=\"data row20 col5\" >24000</td>\n",
       "                        <td id=\"T_090df39e_7802_11ea_b108_701ce71031efrow20_col6\" class=\"data row20 col6\" >437</td>\n",
       "                        <td id=\"T_090df39e_7802_11ea_b108_701ce71031efrow20_col7\" class=\"data row20 col7\" >0.16%</td>\n",
       "            </tr>\n",
       "            <tr>\n",
       "                                <td id=\"T_090df39e_7802_11ea_b108_701ce71031efrow21_col0\" class=\"data row21 col0\" >22</td>\n",
       "                        <td id=\"T_090df39e_7802_11ea_b108_701ce71031efrow21_col1\" class=\"data row21 col1\" >visual_basic</td>\n",
       "                        <td id=\"T_090df39e_7802_11ea_b108_701ce71031efrow21_col2\" class=\"data row21 col2\" >12199</td>\n",
       "                        <td id=\"T_090df39e_7802_11ea_b108_701ce71031efrow21_col3\" class=\"data row21 col3\" >12083</td>\n",
       "                        <td id=\"T_090df39e_7802_11ea_b108_701ce71031efrow21_col4\" class=\"data row21 col4\" >6400</td>\n",
       "                        <td id=\"T_090df39e_7802_11ea_b108_701ce71031efrow21_col5\" class=\"data row21 col5\" >22500</td>\n",
       "                        <td id=\"T_090df39e_7802_11ea_b108_701ce71031efrow21_col6\" class=\"data row21 col6\" >28</td>\n",
       "                        <td id=\"T_090df39e_7802_11ea_b108_701ce71031efrow21_col7\" class=\"data row21 col7\" >0.01%</td>\n",
       "            </tr>\n",
       "            <tr>\n",
       "                                <td id=\"T_090df39e_7802_11ea_b108_701ce71031efrow22_col0\" class=\"data row22 col0\" >23</td>\n",
       "                        <td id=\"T_090df39e_7802_11ea_b108_701ce71031efrow22_col1\" class=\"data row22 col1\" >vba</td>\n",
       "                        <td id=\"T_090df39e_7802_11ea_b108_701ce71031efrow22_col2\" class=\"data row22 col2\" >11564</td>\n",
       "                        <td id=\"T_090df39e_7802_11ea_b108_701ce71031efrow22_col3\" class=\"data row22 col3\" >11286</td>\n",
       "                        <td id=\"T_090df39e_7802_11ea_b108_701ce71031efrow22_col4\" class=\"data row22 col4\" >5250</td>\n",
       "                        <td id=\"T_090df39e_7802_11ea_b108_701ce71031efrow22_col5\" class=\"data row22 col5\" >22612</td>\n",
       "                        <td id=\"T_090df39e_7802_11ea_b108_701ce71031efrow22_col6\" class=\"data row22 col6\" >334</td>\n",
       "                        <td id=\"T_090df39e_7802_11ea_b108_701ce71031efrow22_col7\" class=\"data row22 col7\" >0.12%</td>\n",
       "            </tr>\n",
       "    </tbody></table>"
      ],
      "text/plain": [
       "<pandas.io.formats.style.Styler at 0x1998a25a908>"
      ]
     },
     "execution_count": 33,
     "metadata": {},
     "output_type": "execute_result"
    }
   ],
   "source": [
    "data_pl=get_sub_stats_by_prefix(data,'pl_')\n",
    "apply_style(data_pl)"
   ]
  },
  {
   "cell_type": "code",
   "execution_count": null,
   "metadata": {},
   "outputs": [],
   "source": []
  },
  {
   "cell_type": "markdown",
   "metadata": {},
   "source": [
    "数据显示，haskell才是最赚钱的编程语言。python是主流语言里面最赚钱的，比java的工资多了3000元！vb是最不赚钱的了。其中，最赚钱的编程语言和最不赚钱的，工资居然差了2倍。所以，要选好编程语言呀！"
   ]
  },
  {
   "cell_type": "markdown",
   "metadata": {},
   "source": [
    "# 教育"
   ]
  },
  {
   "cell_type": "code",
   "execution_count": 34,
   "metadata": {},
   "outputs": [],
   "source": [
    "edu_counts=data[~(data.edu=='')].groupby(by=['edu']).headcount.sum()"
   ]
  },
  {
   "cell_type": "code",
   "execution_count": 35,
   "metadata": {},
   "outputs": [
    {
     "data": {
      "text/plain": [
       "edu\n",
       "初中及以下        89\n",
       "博士          834\n",
       "大专        52821\n",
       "本科       111288\n",
       "硕士         6426\n",
       "高中          890\n",
       "Name: headcount, dtype: int64"
      ]
     },
     "execution_count": 35,
     "metadata": {},
     "output_type": "execute_result"
    }
   ],
   "source": [
    "edu_counts"
   ]
  },
  {
   "cell_type": "code",
   "execution_count": 36,
   "metadata": {},
   "outputs": [
    {
     "data": {
      "image/png": "[encoded data removed]",
      "text/plain": [
       "<Figure size 720x576 with 1 Axes>"
      ]
     },
     "metadata": {},
     "output_type": "display_data"
    }
   ],
   "source": [
    "plt.figure(figsize=(10,8))\n",
    "plt.pie(edu_counts.values, labels=edu_counts.index, autopct='%1.1f%%')\n",
    "plt.show()"
   ]
  },
  {
   "cell_type": "code",
   "execution_count": 37,
   "metadata": {},
   "outputs": [
    {
     "data": {
      "text/html": [
       "<style  type=\"text/css\" >\n",
       "</style><table id=\"T_09507ad0_7802_11ea_bc65_701ce71031ef\" ><thead>    <tr>        <th class=\"col_heading level0 col0\" >edu</th>        <th class=\"col_heading level0 col1\" >salary_mean</th>        <th class=\"col_heading level0 col2\" >salary_95_min</th>        <th class=\"col_heading level0 col3\" >salary_median</th>        <th class=\"col_heading level0 col4\" >salary_95_max</th>        <th class=\"col_heading level0 col5\" >head_count</th>        <th class=\"col_heading level0 col6\" >percentage</th>    </tr></thead><tbody>\n",
       "                <tr>\n",
       "                                <td id=\"T_09507ad0_7802_11ea_bc65_701ce71031efrow0_col0\" class=\"data row0 col0\" >博士</td>\n",
       "                        <td id=\"T_09507ad0_7802_11ea_bc65_701ce71031efrow0_col1\" class=\"data row0 col1\" >25557</td>\n",
       "                        <td id=\"T_09507ad0_7802_11ea_bc65_701ce71031efrow0_col2\" class=\"data row0 col2\" >1925</td>\n",
       "                        <td id=\"T_09507ad0_7802_11ea_bc65_701ce71031efrow0_col3\" class=\"data row0 col3\" >25000</td>\n",
       "                        <td id=\"T_09507ad0_7802_11ea_bc65_701ce71031efrow0_col4\" class=\"data row0 col4\" >50000</td>\n",
       "                        <td id=\"T_09507ad0_7802_11ea_bc65_701ce71031efrow0_col5\" class=\"data row0 col5\" >834</td>\n",
       "                        <td id=\"T_09507ad0_7802_11ea_bc65_701ce71031efrow0_col6\" class=\"data row0 col6\" >0.48%</td>\n",
       "            </tr>\n",
       "            <tr>\n",
       "                                <td id=\"T_09507ad0_7802_11ea_bc65_701ce71031efrow1_col0\" class=\"data row1 col0\" >硕士</td>\n",
       "                        <td id=\"T_09507ad0_7802_11ea_bc65_701ce71031efrow1_col1\" class=\"data row1 col1\" >21533</td>\n",
       "                        <td id=\"T_09507ad0_7802_11ea_bc65_701ce71031efrow1_col2\" class=\"data row1 col2\" >8000</td>\n",
       "                        <td id=\"T_09507ad0_7802_11ea_bc65_701ce71031efrow1_col3\" class=\"data row1 col3\" >20000</td>\n",
       "                        <td id=\"T_09507ad0_7802_11ea_bc65_701ce71031efrow1_col4\" class=\"data row1 col4\" >45000</td>\n",
       "                        <td id=\"T_09507ad0_7802_11ea_bc65_701ce71031efrow1_col5\" class=\"data row1 col5\" >6426</td>\n",
       "                        <td id=\"T_09507ad0_7802_11ea_bc65_701ce71031efrow1_col6\" class=\"data row1 col6\" >3.73%</td>\n",
       "            </tr>\n",
       "            <tr>\n",
       "                                <td id=\"T_09507ad0_7802_11ea_bc65_701ce71031efrow2_col0\" class=\"data row2 col0\" >本科</td>\n",
       "                        <td id=\"T_09507ad0_7802_11ea_bc65_701ce71031efrow2_col1\" class=\"data row2 col1\" >17384</td>\n",
       "                        <td id=\"T_09507ad0_7802_11ea_bc65_701ce71031efrow2_col2\" class=\"data row2 col2\" >6666</td>\n",
       "                        <td id=\"T_09507ad0_7802_11ea_bc65_701ce71031efrow2_col3\" class=\"data row2 col3\" >15000</td>\n",
       "                        <td id=\"T_09507ad0_7802_11ea_bc65_701ce71031efrow2_col4\" class=\"data row2 col4\" >40000</td>\n",
       "                        <td id=\"T_09507ad0_7802_11ea_bc65_701ce71031efrow2_col5\" class=\"data row2 col5\" >111288</td>\n",
       "                        <td id=\"T_09507ad0_7802_11ea_bc65_701ce71031efrow2_col6\" class=\"data row2 col6\" >64.57%</td>\n",
       "            </tr>\n",
       "            <tr>\n",
       "                                <td id=\"T_09507ad0_7802_11ea_bc65_701ce71031efrow3_col0\" class=\"data row3 col0\" >大专</td>\n",
       "                        <td id=\"T_09507ad0_7802_11ea_bc65_701ce71031efrow3_col1\" class=\"data row3 col1\" >14184</td>\n",
       "                        <td id=\"T_09507ad0_7802_11ea_bc65_701ce71031efrow3_col2\" class=\"data row3 col2\" >5250</td>\n",
       "                        <td id=\"T_09507ad0_7802_11ea_bc65_701ce71031efrow3_col3\" class=\"data row3 col3\" >12500</td>\n",
       "                        <td id=\"T_09507ad0_7802_11ea_bc65_701ce71031efrow3_col4\" class=\"data row3 col4\" >27500</td>\n",
       "                        <td id=\"T_09507ad0_7802_11ea_bc65_701ce71031efrow3_col5\" class=\"data row3 col5\" >52821</td>\n",
       "                        <td id=\"T_09507ad0_7802_11ea_bc65_701ce71031efrow3_col6\" class=\"data row3 col6\" >30.65%</td>\n",
       "            </tr>\n",
       "            <tr>\n",
       "                                <td id=\"T_09507ad0_7802_11ea_bc65_701ce71031efrow4_col0\" class=\"data row4 col0\" >高中</td>\n",
       "                        <td id=\"T_09507ad0_7802_11ea_bc65_701ce71031efrow4_col1\" class=\"data row4 col1\" >10375</td>\n",
       "                        <td id=\"T_09507ad0_7802_11ea_bc65_701ce71031efrow4_col2\" class=\"data row4 col2\" >4000</td>\n",
       "                        <td id=\"T_09507ad0_7802_11ea_bc65_701ce71031efrow4_col3\" class=\"data row4 col3\" >9000</td>\n",
       "                        <td id=\"T_09507ad0_7802_11ea_bc65_701ce71031efrow4_col4\" class=\"data row4 col4\" >35000</td>\n",
       "                        <td id=\"T_09507ad0_7802_11ea_bc65_701ce71031efrow4_col5\" class=\"data row4 col5\" >890</td>\n",
       "                        <td id=\"T_09507ad0_7802_11ea_bc65_701ce71031efrow4_col6\" class=\"data row4 col6\" >0.52%</td>\n",
       "            </tr>\n",
       "            <tr>\n",
       "                                <td id=\"T_09507ad0_7802_11ea_bc65_701ce71031efrow5_col0\" class=\"data row5 col0\" >初中及以下</td>\n",
       "                        <td id=\"T_09507ad0_7802_11ea_bc65_701ce71031efrow5_col1\" class=\"data row5 col1\" >7610</td>\n",
       "                        <td id=\"T_09507ad0_7802_11ea_bc65_701ce71031efrow5_col2\" class=\"data row5 col2\" >3750</td>\n",
       "                        <td id=\"T_09507ad0_7802_11ea_bc65_701ce71031efrow5_col3\" class=\"data row5 col3\" >7000</td>\n",
       "                        <td id=\"T_09507ad0_7802_11ea_bc65_701ce71031efrow5_col4\" class=\"data row5 col4\" >18875</td>\n",
       "                        <td id=\"T_09507ad0_7802_11ea_bc65_701ce71031efrow5_col5\" class=\"data row5 col5\" >89</td>\n",
       "                        <td id=\"T_09507ad0_7802_11ea_bc65_701ce71031efrow5_col6\" class=\"data row5 col6\" >0.05%</td>\n",
       "            </tr>\n",
       "    </tbody></table>"
      ],
      "text/plain": [
       "<pandas.io.formats.style.Styler at 0x1998f370908>"
      ]
     },
     "execution_count": 37,
     "metadata": {},
     "output_type": "execute_result"
    }
   ],
   "source": [
    "data_edu=get_sub_stats_by_col(data[data.edu.isin(['初中及以下','高中','大专','本科','硕士','博士'])], 'edu')\n",
    "apply_style(data_edu)"
   ]
  },
  {
   "cell_type": "code",
   "execution_count": 38,
   "metadata": {},
   "outputs": [],
   "source": [
    "salary_associate=data[data.edu=='大专'].monthly_salary\n",
    "salary_bachelor=data[data.edu=='本科'].monthly_salary\n",
    "salary_master=data[data.edu=='硕士'].monthly_salary\n",
    "salary_phd=data[data.edu=='博士'].monthly_salary"
   ]
  },
  {
   "cell_type": "code",
   "execution_count": null,
   "metadata": {},
   "outputs": [],
   "source": []
  },
  {
   "cell_type": "code",
   "execution_count": 39,
   "metadata": {},
   "outputs": [
    {
     "name": "stdout",
     "output_type": "stream",
     "text": [
      "大专，本科，硕士，博士的平均工资分别是13339，17463，22070，26975。中位数分别是12500， 15499，20000， 25000。\n"
     ]
    }
   ],
   "source": [
    "print('大专，本科，硕士，博士的平均工资分别是{:.0f}，{:.0f}，{:.0f}，{:.0f}。中位数分别是{:.0f}， {:.0f}，{:.0f}， {:.0f}。'.format(\n",
    "    salary_associate.mean(),salary_bachelor.mean(),salary_master.mean(),salary_phd.mean(),\n",
    "    salary_associate.median(),salary_bachelor.median(),salary_master.median(),salary_phd.median()))"
   ]
  },
  {
   "cell_type": "code",
   "execution_count": 40,
   "metadata": {},
   "outputs": [
    {
     "data": {
      "text/plain": [
       "F_onewayResult(statistic=46.767711989474115, pvalue=1.0194242794280853e-11)"
      ]
     },
     "execution_count": 40,
     "metadata": {},
     "output_type": "execute_result"
    }
   ],
   "source": [
    "stats.f_oneway(salary_phd, salary_master)"
   ]
  },
  {
   "cell_type": "code",
   "execution_count": 41,
   "metadata": {},
   "outputs": [
    {
     "data": {
      "text/plain": [
       "F_onewayResult(statistic=614.4596430531374, pvalue=1.4510494190432017e-134)"
      ]
     },
     "execution_count": 41,
     "metadata": {},
     "output_type": "execute_result"
    }
   ],
   "source": [
    "stats.f_oneway(salary_master, salary_bachelor)"
   ]
  },
  {
   "cell_type": "code",
   "execution_count": 42,
   "metadata": {},
   "outputs": [
    {
     "data": {
      "text/plain": [
       "F_onewayResult(statistic=3167.936712046677, pvalue=0.0)"
      ]
     },
     "execution_count": 42,
     "metadata": {},
     "output_type": "execute_result"
    }
   ],
   "source": [
    "stats.f_oneway(salary_bachelor, salary_associate)"
   ]
  },
  {
   "cell_type": "markdown",
   "metadata": {},
   "source": [
    "经过Oneway Anova Test，证明从大专到博士，学历每提高一级，工资都有显著的提高。"
   ]
  },
  {
   "cell_type": "code",
   "execution_count": 43,
   "metadata": {},
   "outputs": [
    {
     "data": {
      "image/png": "[encoded data removed]",
      "text/plain": [
       "<Figure size 432x288 with 1 Axes>"
      ]
     },
     "metadata": {
      "needs_background": "light"
     },
     "output_type": "display_data"
    }
   ],
   "source": [
    "\n",
    "order=['大专','本科','硕士','博士']\n",
    "a=sns.boxplot(y='edu',x='monthly_salary',order=order,data=data[data.edu.isin(order)], orient='h')\n",
    "plt.annotate('https://github.com/juwikuang/job_survey', xy=(0.5,1.5), xytext=(2, 1.55))\n",
    "plt.show()"
   ]
  },
  {
   "cell_type": "markdown",
   "metadata": {},
   "source": [
    "# 工作经验 Working Experience"
   ]
  },
  {
   "cell_type": "code",
   "execution_count": 44,
   "metadata": {},
   "outputs": [
    {
     "data": {
      "text/html": [
       "<style  type=\"text/css\" >\n",
       "</style><table id=\"T_09a99892_7802_11ea_8d29_701ce71031ef\" ><thead>    <tr>        <th class=\"col_heading level0 col0\" >experience</th>        <th class=\"col_heading level0 col1\" >salary_mean</th>        <th class=\"col_heading level0 col2\" >salary_95_min</th>        <th class=\"col_heading level0 col3\" >salary_median</th>        <th class=\"col_heading level0 col4\" >salary_95_max</th>        <th class=\"col_heading level0 col5\" >head_count</th>        <th class=\"col_heading level0 col6\" >percentage</th>    </tr></thead><tbody>\n",
       "                <tr>\n",
       "                                <td id=\"T_09a99892_7802_11ea_8d29_701ce71031efrow0_col0\" class=\"data row0 col0\" >10+</td>\n",
       "                        <td id=\"T_09a99892_7802_11ea_8d29_701ce71031efrow0_col1\" class=\"data row0 col1\" >31911</td>\n",
       "                        <td id=\"T_09a99892_7802_11ea_8d29_701ce71031efrow0_col2\" class=\"data row0 col2\" >12500</td>\n",
       "                        <td id=\"T_09a99892_7802_11ea_8d29_701ce71031efrow0_col3\" class=\"data row0 col3\" >30000</td>\n",
       "                        <td id=\"T_09a99892_7802_11ea_8d29_701ce71031efrow0_col4\" class=\"data row0 col4\" >60000</td>\n",
       "                        <td id=\"T_09a99892_7802_11ea_8d29_701ce71031efrow0_col5\" class=\"data row0 col5\" >675</td>\n",
       "                        <td id=\"T_09a99892_7802_11ea_8d29_701ce71031efrow0_col6\" class=\"data row0 col6\" >0.35%</td>\n",
       "            </tr>\n",
       "            <tr>\n",
       "                                <td id=\"T_09a99892_7802_11ea_8d29_701ce71031efrow1_col0\" class=\"data row1 col0\" >5_10</td>\n",
       "                        <td id=\"T_09a99892_7802_11ea_8d29_701ce71031efrow1_col1\" class=\"data row1 col1\" >23101</td>\n",
       "                        <td id=\"T_09a99892_7802_11ea_8d29_701ce71031efrow1_col2\" class=\"data row1 col2\" >11500</td>\n",
       "                        <td id=\"T_09a99892_7802_11ea_8d29_701ce71031efrow1_col3\" class=\"data row1 col3\" >20500</td>\n",
       "                        <td id=\"T_09a99892_7802_11ea_8d29_701ce71031efrow1_col4\" class=\"data row1 col4\" >45000</td>\n",
       "                        <td id=\"T_09a99892_7802_11ea_8d29_701ce71031efrow1_col5\" class=\"data row1 col5\" >24928</td>\n",
       "                        <td id=\"T_09a99892_7802_11ea_8d29_701ce71031efrow1_col6\" class=\"data row1 col6\" >13.03%</td>\n",
       "            </tr>\n",
       "            <tr>\n",
       "                                <td id=\"T_09a99892_7802_11ea_8d29_701ce71031efrow2_col0\" class=\"data row2 col0\" >3_5</td>\n",
       "                        <td id=\"T_09a99892_7802_11ea_8d29_701ce71031efrow2_col1\" class=\"data row2 col1\" >18060</td>\n",
       "                        <td id=\"T_09a99892_7802_11ea_8d29_701ce71031efrow2_col2\" class=\"data row2 col2\" >9000</td>\n",
       "                        <td id=\"T_09a99892_7802_11ea_8d29_701ce71031efrow2_col3\" class=\"data row2 col3\" >16500</td>\n",
       "                        <td id=\"T_09a99892_7802_11ea_8d29_701ce71031efrow2_col4\" class=\"data row2 col4\" >37500</td>\n",
       "                        <td id=\"T_09a99892_7802_11ea_8d29_701ce71031efrow2_col5\" class=\"data row2 col5\" >61571</td>\n",
       "                        <td id=\"T_09a99892_7802_11ea_8d29_701ce71031efrow2_col6\" class=\"data row2 col6\" >32.19%</td>\n",
       "            </tr>\n",
       "            <tr>\n",
       "                                <td id=\"T_09a99892_7802_11ea_8d29_701ce71031efrow3_col0\" class=\"data row3 col0\" ></td>\n",
       "                        <td id=\"T_09a99892_7802_11ea_8d29_701ce71031efrow3_col1\" class=\"data row3 col1\" >14052</td>\n",
       "                        <td id=\"T_09a99892_7802_11ea_8d29_701ce71031efrow3_col2\" class=\"data row3 col2\" >4750</td>\n",
       "                        <td id=\"T_09a99892_7802_11ea_8d29_701ce71031efrow3_col3\" class=\"data row3 col3\" >12500</td>\n",
       "                        <td id=\"T_09a99892_7802_11ea_8d29_701ce71031efrow3_col4\" class=\"data row3 col4\" >35000</td>\n",
       "                        <td id=\"T_09a99892_7802_11ea_8d29_701ce71031efrow3_col5\" class=\"data row3 col5\" >50801</td>\n",
       "                        <td id=\"T_09a99892_7802_11ea_8d29_701ce71031efrow3_col6\" class=\"data row3 col6\" >26.56%</td>\n",
       "            </tr>\n",
       "            <tr>\n",
       "                                <td id=\"T_09a99892_7802_11ea_8d29_701ce71031efrow4_col0\" class=\"data row4 col0\" >1_3</td>\n",
       "                        <td id=\"T_09a99892_7802_11ea_8d29_701ce71031efrow4_col1\" class=\"data row4 col1\" >13525</td>\n",
       "                        <td id=\"T_09a99892_7802_11ea_8d29_701ce71031efrow4_col2\" class=\"data row4 col2\" >5500</td>\n",
       "                        <td id=\"T_09a99892_7802_11ea_8d29_701ce71031efrow4_col3\" class=\"data row4 col3\" >12500</td>\n",
       "                        <td id=\"T_09a99892_7802_11ea_8d29_701ce71031efrow4_col4\" class=\"data row4 col4\" >30000</td>\n",
       "                        <td id=\"T_09a99892_7802_11ea_8d29_701ce71031efrow4_col5\" class=\"data row4 col5\" >53300</td>\n",
       "                        <td id=\"T_09a99892_7802_11ea_8d29_701ce71031efrow4_col6\" class=\"data row4 col6\" >27.87%</td>\n",
       "            </tr>\n",
       "    </tbody></table>"
      ],
      "text/plain": [
       "<pandas.io.formats.style.Styler at 0x199909dbcc8>"
      ]
     },
     "execution_count": 44,
     "metadata": {},
     "output_type": "execute_result"
    }
   ],
   "source": [
    "data_experience=get_sub_stats_by_col(data, 'experience')\n",
    "apply_style(data_experience)"
   ]
  },
  {
   "cell_type": "code",
   "execution_count": 45,
   "metadata": {},
   "outputs": [],
   "source": [
    "salary_we_10=data[data.experience=='10+'].monthly_salary\n",
    "salary_we_5_10=data[data.experience=='5_10'].monthly_salary\n",
    "salary_we_3_5=data[data.experience=='3_5'].monthly_salary\n",
    "salary_we_1_3=data[data.experience=='1_3'].monthly_salary\n",
    "salary_we_no=data[data.experience=='no'].monthly_salary"
   ]
  },
  {
   "cell_type": "code",
   "execution_count": 46,
   "metadata": {},
   "outputs": [
    {
     "data": {
      "image/png": "[encoded data removed]",
      "text/plain": [
       "<Figure size 432x288 with 1 Axes>"
      ]
     },
     "metadata": {
      "needs_background": "light"
     },
     "output_type": "display_data"
    }
   ],
   "source": [
    "\n",
    "order=['10+','5_10','3_5','1_3']\n",
    "sns.boxplot(y='experience',x='monthly_salary',order=order,data=data[data.experience.isin(order)], orient='h')\n",
    "plt.annotate('https://github.com/juwikuang/job_survey', xy=(1.5,1.5), xytext=(1.55, 1.55))\n",
    "plt.show()"
   ]
  },
  {
   "cell_type": "markdown",
   "metadata": {},
   "source": [
    "# 公司 Company"
   ]
  },
  {
   "cell_type": "markdown",
   "metadata": {},
   "source": [
    "## 公司性质 Company Type"
   ]
  },
  {
   "cell_type": "code",
   "execution_count": 47,
   "metadata": {},
   "outputs": [
    {
     "ename": "KeyError",
     "evalue": "'company_type'",
     "output_type": "error",
     "traceback": [
      "\u001b[1;31m---------------------------------------------------------------------------\u001b[0m",
      "\u001b[1;31mKeyError\u001b[0m                                  Traceback (most recent call last)",
      "\u001b[1;32mC:\\ProgramData\\Anaconda3\\lib\\site-packages\\pandas\\core\\indexes\\base.py\u001b[0m in \u001b[0;36mget_loc\u001b[1;34m(self, key, method, tolerance)\u001b[0m\n\u001b[0;32m   2645\u001b[0m             \u001b[1;32mtry\u001b[0m\u001b[1;33m:\u001b[0m\u001b[1;33m\u001b[0m\u001b[1;33m\u001b[0m\u001b[0m\n\u001b[1;32m-> 2646\u001b[1;33m                 \u001b[1;32mreturn\u001b[0m \u001b[0mself\u001b[0m\u001b[1;33m.\u001b[0m\u001b[0m_engine\u001b[0m\u001b[1;33m.\u001b[0m\u001b[0mget_loc\u001b[0m\u001b[1;33m(\u001b[0m\u001b[0mkey\u001b[0m\u001b[1;33m)\u001b[0m\u001b[1;33m\u001b[0m\u001b[1;33m\u001b[0m\u001b[0m\n\u001b[0m\u001b[0;32m   2647\u001b[0m             \u001b[1;32mexcept\u001b[0m \u001b[0mKeyError\u001b[0m\u001b[1;33m:\u001b[0m\u001b[1;33m\u001b[0m\u001b[1;33m\u001b[0m\u001b[0m\n",
      "\u001b[1;32mpandas\\_libs\\index.pyx\u001b[0m in \u001b[0;36mpandas._libs.index.IndexEngine.get_loc\u001b[1;34m()\u001b[0m\n",
      "\u001b[1;32mpandas\\_libs\\index.pyx\u001b[0m in \u001b[0;36mpandas._libs.index.IndexEngine.get_loc\u001b[1;34m()\u001b[0m\n",
      "\u001b[1;32mpandas\\_libs\\hashtable_class_helper.pxi\u001b[0m in \u001b[0;36mpandas._libs.hashtable.PyObjectHashTable.get_item\u001b[1;34m()\u001b[0m\n",
      "\u001b[1;32mpandas\\_libs\\hashtable_class_helper.pxi\u001b[0m in \u001b[0;36mpandas._libs.hashtable.PyObjectHashTable.get_item\u001b[1;34m()\u001b[0m\n",
      "\u001b[1;31mKeyError\u001b[0m: 'company_type'",
      "\nDuring handling of the above exception, another exception occurred:\n",
      "\u001b[1;31mKeyError\u001b[0m                                  Traceback (most recent call last)",
      "\u001b[1;32m<ipython-input-47-8570df4a4801>\u001b[0m in \u001b[0;36m<module>\u001b[1;34m\u001b[0m\n\u001b[1;32m----> 1\u001b[1;33m \u001b[0mdata_company_type\u001b[0m\u001b[1;33m=\u001b[0m\u001b[0mget_sub_stats_by_col\u001b[0m\u001b[1;33m(\u001b[0m\u001b[0mdata\u001b[0m\u001b[1;33m,\u001b[0m\u001b[1;34m'company_type'\u001b[0m\u001b[1;33m)\u001b[0m\u001b[1;33m\u001b[0m\u001b[1;33m\u001b[0m\u001b[0m\n\u001b[0m\u001b[0;32m      2\u001b[0m \u001b[0mapply_style\u001b[0m\u001b[1;33m(\u001b[0m\u001b[0mdata_company_type\u001b[0m\u001b[1;33m)\u001b[0m\u001b[1;33m\u001b[0m\u001b[1;33m\u001b[0m\u001b[0m\n",
      "\u001b[1;32m<ipython-input-18-d1d14471b9f6>\u001b[0m in \u001b[0;36mget_sub_stats_by_col\u001b[1;34m(data, col)\u001b[0m\n\u001b[0;32m      1\u001b[0m \u001b[1;31m#Common Functions\u001b[0m\u001b[1;33m\u001b[0m\u001b[1;33m\u001b[0m\u001b[1;33m\u001b[0m\u001b[0m\n\u001b[0;32m      2\u001b[0m \u001b[1;32mdef\u001b[0m \u001b[0mget_sub_stats_by_col\u001b[0m\u001b[1;33m(\u001b[0m\u001b[0mdata\u001b[0m\u001b[1;33m,\u001b[0m \u001b[0mcol\u001b[0m\u001b[1;33m)\u001b[0m\u001b[1;33m:\u001b[0m\u001b[1;33m\u001b[0m\u001b[1;33m\u001b[0m\u001b[0m\n\u001b[1;32m----> 3\u001b[1;33m     \u001b[0mcategories\u001b[0m\u001b[1;33m=\u001b[0m\u001b[0mdata\u001b[0m\u001b[1;33m[\u001b[0m\u001b[0mcol\u001b[0m\u001b[1;33m]\u001b[0m\u001b[1;33m.\u001b[0m\u001b[0munique\u001b[0m\u001b[1;33m(\u001b[0m\u001b[1;33m)\u001b[0m\u001b[1;33m\u001b[0m\u001b[1;33m\u001b[0m\u001b[0m\n\u001b[0m\u001b[0;32m      4\u001b[0m     \u001b[0msalary_mean\u001b[0m\u001b[1;33m=\u001b[0m\u001b[1;33m[\u001b[0m\u001b[1;33m]\u001b[0m\u001b[1;33m\u001b[0m\u001b[1;33m\u001b[0m\u001b[0m\n\u001b[0;32m      5\u001b[0m     \u001b[0msalary_95_min\u001b[0m\u001b[1;33m=\u001b[0m\u001b[1;33m[\u001b[0m\u001b[1;33m]\u001b[0m\u001b[1;33m\u001b[0m\u001b[1;33m\u001b[0m\u001b[0m\n",
      "\u001b[1;32mC:\\ProgramData\\Anaconda3\\lib\\site-packages\\pandas\\core\\frame.py\u001b[0m in \u001b[0;36m__getitem__\u001b[1;34m(self, key)\u001b[0m\n\u001b[0;32m   2798\u001b[0m             \u001b[1;32mif\u001b[0m \u001b[0mself\u001b[0m\u001b[1;33m.\u001b[0m\u001b[0mcolumns\u001b[0m\u001b[1;33m.\u001b[0m\u001b[0mnlevels\u001b[0m \u001b[1;33m>\u001b[0m \u001b[1;36m1\u001b[0m\u001b[1;33m:\u001b[0m\u001b[1;33m\u001b[0m\u001b[1;33m\u001b[0m\u001b[0m\n\u001b[0;32m   2799\u001b[0m                 \u001b[1;32mreturn\u001b[0m \u001b[0mself\u001b[0m\u001b[1;33m.\u001b[0m\u001b[0m_getitem_multilevel\u001b[0m\u001b[1;33m(\u001b[0m\u001b[0mkey\u001b[0m\u001b[1;33m)\u001b[0m\u001b[1;33m\u001b[0m\u001b[1;33m\u001b[0m\u001b[0m\n\u001b[1;32m-> 2800\u001b[1;33m             \u001b[0mindexer\u001b[0m \u001b[1;33m=\u001b[0m \u001b[0mself\u001b[0m\u001b[1;33m.\u001b[0m\u001b[0mcolumns\u001b[0m\u001b[1;33m.\u001b[0m\u001b[0mget_loc\u001b[0m\u001b[1;33m(\u001b[0m\u001b[0mkey\u001b[0m\u001b[1;33m)\u001b[0m\u001b[1;33m\u001b[0m\u001b[1;33m\u001b[0m\u001b[0m\n\u001b[0m\u001b[0;32m   2801\u001b[0m             \u001b[1;32mif\u001b[0m \u001b[0mis_integer\u001b[0m\u001b[1;33m(\u001b[0m\u001b[0mindexer\u001b[0m\u001b[1;33m)\u001b[0m\u001b[1;33m:\u001b[0m\u001b[1;33m\u001b[0m\u001b[1;33m\u001b[0m\u001b[0m\n\u001b[0;32m   2802\u001b[0m                 \u001b[0mindexer\u001b[0m \u001b[1;33m=\u001b[0m \u001b[1;33m[\u001b[0m\u001b[0mindexer\u001b[0m\u001b[1;33m]\u001b[0m\u001b[1;33m\u001b[0m\u001b[1;33m\u001b[0m\u001b[0m\n",
      "\u001b[1;32mC:\\ProgramData\\Anaconda3\\lib\\site-packages\\pandas\\core\\indexes\\base.py\u001b[0m in \u001b[0;36mget_loc\u001b[1;34m(self, key, method, tolerance)\u001b[0m\n\u001b[0;32m   2646\u001b[0m                 \u001b[1;32mreturn\u001b[0m \u001b[0mself\u001b[0m\u001b[1;33m.\u001b[0m\u001b[0m_engine\u001b[0m\u001b[1;33m.\u001b[0m\u001b[0mget_loc\u001b[0m\u001b[1;33m(\u001b[0m\u001b[0mkey\u001b[0m\u001b[1;33m)\u001b[0m\u001b[1;33m\u001b[0m\u001b[1;33m\u001b[0m\u001b[0m\n\u001b[0;32m   2647\u001b[0m             \u001b[1;32mexcept\u001b[0m \u001b[0mKeyError\u001b[0m\u001b[1;33m:\u001b[0m\u001b[1;33m\u001b[0m\u001b[1;33m\u001b[0m\u001b[0m\n\u001b[1;32m-> 2648\u001b[1;33m                 \u001b[1;32mreturn\u001b[0m \u001b[0mself\u001b[0m\u001b[1;33m.\u001b[0m\u001b[0m_engine\u001b[0m\u001b[1;33m.\u001b[0m\u001b[0mget_loc\u001b[0m\u001b[1;33m(\u001b[0m\u001b[0mself\u001b[0m\u001b[1;33m.\u001b[0m\u001b[0m_maybe_cast_indexer\u001b[0m\u001b[1;33m(\u001b[0m\u001b[0mkey\u001b[0m\u001b[1;33m)\u001b[0m\u001b[1;33m)\u001b[0m\u001b[1;33m\u001b[0m\u001b[1;33m\u001b[0m\u001b[0m\n\u001b[0m\u001b[0;32m   2649\u001b[0m         \u001b[0mindexer\u001b[0m \u001b[1;33m=\u001b[0m \u001b[0mself\u001b[0m\u001b[1;33m.\u001b[0m\u001b[0mget_indexer\u001b[0m\u001b[1;33m(\u001b[0m\u001b[1;33m[\u001b[0m\u001b[0mkey\u001b[0m\u001b[1;33m]\u001b[0m\u001b[1;33m,\u001b[0m \u001b[0mmethod\u001b[0m\u001b[1;33m=\u001b[0m\u001b[0mmethod\u001b[0m\u001b[1;33m,\u001b[0m \u001b[0mtolerance\u001b[0m\u001b[1;33m=\u001b[0m\u001b[0mtolerance\u001b[0m\u001b[1;33m)\u001b[0m\u001b[1;33m\u001b[0m\u001b[1;33m\u001b[0m\u001b[0m\n\u001b[0;32m   2650\u001b[0m         \u001b[1;32mif\u001b[0m \u001b[0mindexer\u001b[0m\u001b[1;33m.\u001b[0m\u001b[0mndim\u001b[0m \u001b[1;33m>\u001b[0m \u001b[1;36m1\u001b[0m \u001b[1;32mor\u001b[0m \u001b[0mindexer\u001b[0m\u001b[1;33m.\u001b[0m\u001b[0msize\u001b[0m \u001b[1;33m>\u001b[0m \u001b[1;36m1\u001b[0m\u001b[1;33m:\u001b[0m\u001b[1;33m\u001b[0m\u001b[1;33m\u001b[0m\u001b[0m\n",
      "\u001b[1;32mpandas\\_libs\\index.pyx\u001b[0m in \u001b[0;36mpandas._libs.index.IndexEngine.get_loc\u001b[1;34m()\u001b[0m\n",
      "\u001b[1;32mpandas\\_libs\\index.pyx\u001b[0m in \u001b[0;36mpandas._libs.index.IndexEngine.get_loc\u001b[1;34m()\u001b[0m\n",
      "\u001b[1;32mpandas\\_libs\\hashtable_class_helper.pxi\u001b[0m in \u001b[0;36mpandas._libs.hashtable.PyObjectHashTable.get_item\u001b[1;34m()\u001b[0m\n",
      "\u001b[1;32mpandas\\_libs\\hashtable_class_helper.pxi\u001b[0m in \u001b[0;36mpandas._libs.hashtable.PyObjectHashTable.get_item\u001b[1;34m()\u001b[0m\n",
      "\u001b[1;31mKeyError\u001b[0m: 'company_type'"
     ]
    }
   ],
   "source": [
    "data_company_type=get_sub_stats_by_col(data,'company_type')\n",
    "apply_style(data_company_type)"
   ]
  },
  {
   "cell_type": "markdown",
   "metadata": {},
   "source": [
    "us_eu是欧美外企，startup是创业公司，listed是上市公司，state是国企，private是私企，foreign是非欧美外企，其他不足1000个样本的不管了。"
   ]
  },
  {
   "cell_type": "markdown",
   "metadata": {},
   "source": [
    "## 公司规模 Company Size"
   ]
  },
  {
   "cell_type": "code",
   "execution_count": null,
   "metadata": {},
   "outputs": [],
   "source": [
    "data_company_size=get_sub_stats_by_col(data,'company_size')\n",
    "apply_style(data_company_size)"
   ]
  },
  {
   "cell_type": "markdown",
   "metadata": {},
   "source": [
    "公司越大，工资越高"
   ]
  },
  {
   "cell_type": "markdown",
   "metadata": {},
   "source": [
    "## 行业 Industry"
   ]
  },
  {
   "cell_type": "code",
   "execution_count": null,
   "metadata": {},
   "outputs": [],
   "source": [
    "data_industry=get_sub_stats_by_col(data,'industry')\n",
    "apply_style(data_industry)"
   ]
  },
  {
   "cell_type": "code",
   "execution_count": null,
   "metadata": {},
   "outputs": [],
   "source": []
  },
  {
   "cell_type": "code",
   "execution_count": null,
   "metadata": {},
   "outputs": [],
   "source": []
  }
 ],
 "metadata": {
  "kernelspec": {
   "display_name": "Python 3",
   "language": "python",
   "name": "python3"
  },
  "language_info": {
   "codemirror_mode": {
    "name": "ipython",
    "version": 3
   },
   "file_extension": ".py",
   "mimetype": "text/x-python",
   "name": "python",
   "nbconvert_exporter": "python",
   "pygments_lexer": "ipython3",
   "version": "3.7.4"
  }
 },
 "nbformat": 4,
 "nbformat_minor": 4
}
