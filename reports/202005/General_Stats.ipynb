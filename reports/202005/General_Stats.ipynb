{
 "cells": [
  {
   "cell_type": "code",
   "execution_count": 1,
   "metadata": {},
   "outputs": [],
   "source": [
    "from config import *"
   ]
  },
  {
   "cell_type": "code",
   "execution_count": 2,
   "metadata": {},
   "outputs": [
    {
     "name": "stdout",
     "output_type": "stream",
     "text": [
      "2020年5月\n"
     ]
    }
   ],
   "source": [
    "print(f'{year}年{month}月')"
   ]
  },
  {
   "cell_type": "code",
   "execution_count": 3,
   "metadata": {},
   "outputs": [],
   "source": [
    "import pandas as pd\n",
    "import matplotlib.pyplot as plt\n",
    "import sys\n",
    "sys.path.append('../../py')\n",
    "import db"
   ]
  },
  {
   "cell_type": "code",
   "execution_count": 4,
   "metadata": {},
   "outputs": [],
   "source": [
    "conn=db.get_conn()"
   ]
  },
  {
   "cell_type": "code",
   "execution_count": 5,
   "metadata": {},
   "outputs": [
    {
     "data": {
      "text/html": [
       "<div>\n",
       "<style scoped>\n",
       "    .dataframe tbody tr th:only-of-type {\n",
       "        vertical-align: middle;\n",
       "    }\n",
       "\n",
       "    .dataframe tbody tr th {\n",
       "        vertical-align: top;\n",
       "    }\n",
       "\n",
       "    .dataframe thead th {\n",
       "        text-align: right;\n",
       "    }\n",
       "</style>\n",
       "<table border=\"1\" class=\"dataframe\">\n",
       "  <thead>\n",
       "    <tr style=\"text-align: right;\">\n",
       "      <th></th>\n",
       "      <th>Month</th>\n",
       "      <th>Salary_Mean</th>\n",
       "      <th>Salary_Median</th>\n",
       "      <th>JD_Count</th>\n",
       "      <th>HeadCount</th>\n",
       "    </tr>\n",
       "  </thead>\n",
       "  <tbody>\n",
       "    <tr>\n",
       "      <th>0</th>\n",
       "      <td>201906</td>\n",
       "      <td>13387</td>\n",
       "      <td>12500</td>\n",
       "      <td>95375</td>\n",
       "      <td>306980</td>\n",
       "    </tr>\n",
       "    <tr>\n",
       "      <th>1</th>\n",
       "      <td>201907</td>\n",
       "      <td>13600</td>\n",
       "      <td>12500</td>\n",
       "      <td>91895</td>\n",
       "      <td>293948</td>\n",
       "    </tr>\n",
       "    <tr>\n",
       "      <th>2</th>\n",
       "      <td>201908</td>\n",
       "      <td>13785</td>\n",
       "      <td>12500</td>\n",
       "      <td>91631</td>\n",
       "      <td>289118</td>\n",
       "    </tr>\n",
       "    <tr>\n",
       "      <th>3</th>\n",
       "      <td>201909</td>\n",
       "      <td>13817</td>\n",
       "      <td>12500</td>\n",
       "      <td>87938</td>\n",
       "      <td>277901</td>\n",
       "    </tr>\n",
       "    <tr>\n",
       "      <th>4</th>\n",
       "      <td>201910</td>\n",
       "      <td>13730</td>\n",
       "      <td>12500</td>\n",
       "      <td>84654</td>\n",
       "      <td>269005</td>\n",
       "    </tr>\n",
       "    <tr>\n",
       "      <th>5</th>\n",
       "      <td>201911</td>\n",
       "      <td>13857</td>\n",
       "      <td>12500</td>\n",
       "      <td>81763</td>\n",
       "      <td>262185</td>\n",
       "    </tr>\n",
       "    <tr>\n",
       "      <th>6</th>\n",
       "      <td>201912</td>\n",
       "      <td>13938</td>\n",
       "      <td>12500</td>\n",
       "      <td>81142</td>\n",
       "      <td>260002</td>\n",
       "    </tr>\n",
       "    <tr>\n",
       "      <th>7</th>\n",
       "      <td>202001</td>\n",
       "      <td>14085</td>\n",
       "      <td>12500</td>\n",
       "      <td>74779</td>\n",
       "      <td>239779</td>\n",
       "    </tr>\n",
       "    <tr>\n",
       "      <th>8</th>\n",
       "      <td>202002</td>\n",
       "      <td>14525</td>\n",
       "      <td>12500</td>\n",
       "      <td>65189</td>\n",
       "      <td>204042</td>\n",
       "    </tr>\n",
       "    <tr>\n",
       "      <th>9</th>\n",
       "      <td>202003</td>\n",
       "      <td>14653</td>\n",
       "      <td>12500</td>\n",
       "      <td>60070</td>\n",
       "      <td>186531</td>\n",
       "    </tr>\n",
       "    <tr>\n",
       "      <th>10</th>\n",
       "      <td>202004</td>\n",
       "      <td>14481</td>\n",
       "      <td>12500</td>\n",
       "      <td>98178</td>\n",
       "      <td>294197</td>\n",
       "    </tr>\n",
       "    <tr>\n",
       "      <th>11</th>\n",
       "      <td>202005</td>\n",
       "      <td>14542</td>\n",
       "      <td>12500</td>\n",
       "      <td>103220</td>\n",
       "      <td>312761</td>\n",
       "    </tr>\n",
       "  </tbody>\n",
       "</table>\n",
       "</div>"
      ],
      "text/plain": [
       "     Month  Salary_Mean  Salary_Median  JD_Count  HeadCount\n",
       "0   201906        13387          12500     95375     306980\n",
       "1   201907        13600          12500     91895     293948\n",
       "2   201908        13785          12500     91631     289118\n",
       "3   201909        13817          12500     87938     277901\n",
       "4   201910        13730          12500     84654     269005\n",
       "5   201911        13857          12500     81763     262185\n",
       "6   201912        13938          12500     81142     260002\n",
       "7   202001        14085          12500     74779     239779\n",
       "8   202002        14525          12500     65189     204042\n",
       "9   202003        14653          12500     60070     186531\n",
       "10  202004        14481          12500     98178     294197\n",
       "11  202005        14542          12500    103220     312761"
      ]
     },
     "execution_count": 5,
     "metadata": {},
     "output_type": "execute_result"
    }
   ],
   "source": [
    "stat_data = pd.read_sql(sql='select * from MonthlyStats order by Month', con=conn)\n",
    "stat_data"
   ]
  },
  {
   "cell_type": "code",
   "execution_count": 6,
   "metadata": {},
   "outputs": [
    {
     "data": {
      "image/png": "[encoded data removed]",
      "text/plain": [
       "<Figure size 720x432 with 1 Axes>"
      ]
     },
     "metadata": {
      "needs_background": "light"
     },
     "output_type": "display_data"
    }
   ],
   "source": [
    "plt.figure(figsize=(10,6))\n",
    "plt.plot(\"Month\",\"Salary_Mean\",data=stat_data)\n",
    "plt.show()"
   ]
  },
  {
   "cell_type": "code",
   "execution_count": 7,
   "metadata": {},
   "outputs": [
    {
     "data": {
      "image/png": "[encoded data removed]",
      "text/plain": [
       "<Figure size 720x432 with 1 Axes>"
      ]
     },
     "metadata": {
      "needs_background": "light"
     },
     "output_type": "display_data"
    }
   ],
   "source": [
    "plt.figure(figsize=(10,6))\n",
    "plt.plot(\"Month\",\"JD_Count\",data=stat_data)\n",
    "plt.show()"
   ]
  },
  {
   "cell_type": "code",
   "execution_count": 8,
   "metadata": {},
   "outputs": [
    {
     "name": "stdout",
     "output_type": "stream",
     "text": [
      "[1.0]\n"
     ]
    },
    {
     "data": {
      "image/png": "[encoded data removed]",
      "text/plain": [
       "<Figure size 432x288 with 1 Axes>"
      ]
     },
     "metadata": {},
     "output_type": "display_data"
    }
   ],
   "source": [
    "counts=[]\n",
    "percentages=[]\n",
    "count1=conn.execute(f\"select COUNT(1) from _{year}{month:02}\").fetchall()[0][0]\n",
    "counts.append(count1)\n",
    "\n",
    "for i in range(1,month-6+1):\n",
    "    i_count=conn.execute(f\"select COUNT(1) from _{year}{month:02} a inner join _{year}{month-i:02} b on a.job_id=b.job_id\").fetchall()[0][0]\n",
    "    counts.append(i_count)\n",
    "    percentages.append((counts[i-1]-i_count)/counts[0])\n",
    "    \n",
    "percentages.append(counts[-1]/counts[0])\n",
    "print(percentages)\n",
    "\n",
    "labels=[]\n",
    "for i in range(1,month-6+1):\n",
    "    labels.append(i)\n",
    "labels.append(f\"{str(month-6+1)}+\")\n",
    "\n",
    "plt.pie(percentages, labels=labels)\n",
    "plt.title(\"Age of Jobs\")\n",
    "plt.show()"
   ]
  },
  {
   "cell_type": "markdown",
   "metadata": {},
   "source": [
    "# 按照职能统计平均工资"
   ]
  },
  {
   "cell_type": "code",
   "execution_count": 43,
   "metadata": {},
   "outputs": [],
   "source": [
    "data_original=pd.read_sql(sql=f\"select * from _{year}{month:02} where monthly_salary>0 and monthly_salary<100000\", con=db.get_conn())\n",
    "\n",
    "data_career=data_original.groupby(by='career').agg(\n",
    "    salary=pd.NamedAgg(column='monthly_salary', aggfunc='mean')\n",
    ")\n",
    "\n",
    "data_career['salary']=data_career['salary'].astype(int)\n",
    "\n",
    "data_career[f'2020年{month}月']=data_career['salary']\n",
    "del data_career['salary']"
   ]
  },
  {
   "cell_type": "code",
   "execution_count": 44,
   "metadata": {},
   "outputs": [],
   "source": [
    "data_original2019=pd.read_sql(sql=f\"select * from _{year-1}{month:02} where monthly_salary>0 and monthly_salary<100000\", con=db.get_conn())\n",
    "\n",
    "data_career2019=data_original2019.groupby(by='career').agg(\n",
    "    salary=pd.NamedAgg(column='monthly_salary', aggfunc='mean')\n",
    ")\n",
    "\n",
    "data_career2019[f'2019年{month}月']=data_career2019['salary'].astype(int)\n",
    "del data_career2019['salary']"
   ]
  },
  {
   "cell_type": "code",
   "execution_count": 45,
   "metadata": {},
   "outputs": [
    {
     "data": {
      "text/html": [
       "<div>\n",
       "<style scoped>\n",
       "    .dataframe tbody tr th:only-of-type {\n",
       "        vertical-align: middle;\n",
       "    }\n",
       "\n",
       "    .dataframe tbody tr th {\n",
       "        vertical-align: top;\n",
       "    }\n",
       "\n",
       "    .dataframe thead th {\n",
       "        text-align: right;\n",
       "    }\n",
       "</style>\n",
       "<table border=\"1\" class=\"dataframe\">\n",
       "  <thead>\n",
       "    <tr style=\"text-align: right;\">\n",
       "      <th></th>\n",
       "      <th>2019年5月</th>\n",
       "      <th>2020年5月</th>\n",
       "    </tr>\n",
       "    <tr>\n",
       "      <th>career</th>\n",
       "      <th></th>\n",
       "      <th></th>\n",
       "    </tr>\n",
       "  </thead>\n",
       "  <tbody>\n",
       "    <tr>\n",
       "      <th>ADAS</th>\n",
       "      <td>23771.0</td>\n",
       "      <td>18842.0</td>\n",
       "    </tr>\n",
       "    <tr>\n",
       "      <th>Android开发工程师</th>\n",
       "      <td>12766.0</td>\n",
       "      <td>14031.0</td>\n",
       "    </tr>\n",
       "    <tr>\n",
       "      <th>CAE</th>\n",
       "      <td>11870.0</td>\n",
       "      <td>14272.0</td>\n",
       "    </tr>\n",
       "    <tr>\n",
       "      <th>CTO</th>\n",
       "      <td>32500.0</td>\n",
       "      <td>42935.0</td>\n",
       "    </tr>\n",
       "    <tr>\n",
       "      <th>Cocos2d-x开发工程师</th>\n",
       "      <td>14449.0</td>\n",
       "      <td>16682.0</td>\n",
       "    </tr>\n",
       "    <tr>\n",
       "      <th>DSP</th>\n",
       "      <td>16412.0</td>\n",
       "      <td>14555.0</td>\n",
       "    </tr>\n",
       "    <tr>\n",
       "      <th>ETL</th>\n",
       "      <td>13861.0</td>\n",
       "      <td>13588.0</td>\n",
       "    </tr>\n",
       "    <tr>\n",
       "      <th>GIS</th>\n",
       "      <td>11646.0</td>\n",
       "      <td>12691.0</td>\n",
       "    </tr>\n",
       "    <tr>\n",
       "      <th>HTML5开发工程师</th>\n",
       "      <td>NaN</td>\n",
       "      <td>13599.0</td>\n",
       "    </tr>\n",
       "    <tr>\n",
       "      <th>Hadoop工程师</th>\n",
       "      <td>17478.0</td>\n",
       "      <td>17684.0</td>\n",
       "    </tr>\n",
       "    <tr>\n",
       "      <th>MES</th>\n",
       "      <td>11498.0</td>\n",
       "      <td>12319.0</td>\n",
       "    </tr>\n",
       "    <tr>\n",
       "      <th>SLAM</th>\n",
       "      <td>19135.0</td>\n",
       "      <td>18548.0</td>\n",
       "    </tr>\n",
       "    <tr>\n",
       "      <th>Unity3D</th>\n",
       "      <td>12213.0</td>\n",
       "      <td>14753.0</td>\n",
       "    </tr>\n",
       "    <tr>\n",
       "      <th>Unity3d开发工程师</th>\n",
       "      <td>NaN</td>\n",
       "      <td>16877.0</td>\n",
       "    </tr>\n",
       "    <tr>\n",
       "      <th>Web前端开发</th>\n",
       "      <td>NaN</td>\n",
       "      <td>12397.0</td>\n",
       "    </tr>\n",
       "    <tr>\n",
       "      <th>iOS开发工程师</th>\n",
       "      <td>NaN</td>\n",
       "      <td>15506.0</td>\n",
       "    </tr>\n",
       "    <tr>\n",
       "      <th>人工智能</th>\n",
       "      <td>19065.0</td>\n",
       "      <td>16642.0</td>\n",
       "    </tr>\n",
       "    <tr>\n",
       "      <th>信号处理</th>\n",
       "      <td>15210.0</td>\n",
       "      <td>15825.0</td>\n",
       "    </tr>\n",
       "    <tr>\n",
       "      <th>分布式</th>\n",
       "      <td>18766.0</td>\n",
       "      <td>20094.0</td>\n",
       "    </tr>\n",
       "    <tr>\n",
       "      <th>前端开发</th>\n",
       "      <td>NaN</td>\n",
       "      <td>11549.0</td>\n",
       "    </tr>\n",
       "    <tr>\n",
       "      <th>区块链开发</th>\n",
       "      <td>21345.0</td>\n",
       "      <td>19866.0</td>\n",
       "    </tr>\n",
       "    <tr>\n",
       "      <th>反作弊算法工程师</th>\n",
       "      <td>32916.0</td>\n",
       "      <td>30166.0</td>\n",
       "    </tr>\n",
       "    <tr>\n",
       "      <th>图像处理工程师</th>\n",
       "      <td>16369.0</td>\n",
       "      <td>17023.0</td>\n",
       "    </tr>\n",
       "    <tr>\n",
       "      <th>图像算法工程师</th>\n",
       "      <td>18391.0</td>\n",
       "      <td>20660.0</td>\n",
       "    </tr>\n",
       "    <tr>\n",
       "      <th>大数据</th>\n",
       "      <td>16525.0</td>\n",
       "      <td>16520.0</td>\n",
       "    </tr>\n",
       "    <tr>\n",
       "      <th>大数据开发工程师</th>\n",
       "      <td>NaN</td>\n",
       "      <td>13291.0</td>\n",
       "    </tr>\n",
       "    <tr>\n",
       "      <th>小程序开发工程师</th>\n",
       "      <td>NaN</td>\n",
       "      <td>10068.0</td>\n",
       "    </tr>\n",
       "    <tr>\n",
       "      <th>嵌入式软件开发</th>\n",
       "      <td>16072.0</td>\n",
       "      <td>13682.0</td>\n",
       "    </tr>\n",
       "    <tr>\n",
       "      <th>技术主管</th>\n",
       "      <td>17890.0</td>\n",
       "      <td>17139.0</td>\n",
       "    </tr>\n",
       "    <tr>\n",
       "      <th>推荐算法工程师</th>\n",
       "      <td>31381.0</td>\n",
       "      <td>32740.0</td>\n",
       "    </tr>\n",
       "    <tr>\n",
       "      <th>搜索算法工程师</th>\n",
       "      <td>33678.0</td>\n",
       "      <td>25978.0</td>\n",
       "    </tr>\n",
       "    <tr>\n",
       "      <th>敏捷教练</th>\n",
       "      <td>29388.0</td>\n",
       "      <td>28375.0</td>\n",
       "    </tr>\n",
       "    <tr>\n",
       "      <th>数据科学家</th>\n",
       "      <td>30356.0</td>\n",
       "      <td>28971.0</td>\n",
       "    </tr>\n",
       "    <tr>\n",
       "      <th>机器人</th>\n",
       "      <td>14258.0</td>\n",
       "      <td>15178.0</td>\n",
       "    </tr>\n",
       "    <tr>\n",
       "      <th>机器学习</th>\n",
       "      <td>25124.0</td>\n",
       "      <td>21073.0</td>\n",
       "    </tr>\n",
       "    <tr>\n",
       "      <th>机器视觉工程师</th>\n",
       "      <td>NaN</td>\n",
       "      <td>13733.0</td>\n",
       "    </tr>\n",
       "    <tr>\n",
       "      <th>架构师</th>\n",
       "      <td>24926.0</td>\n",
       "      <td>26059.0</td>\n",
       "    </tr>\n",
       "    <tr>\n",
       "      <th>深度学习工程师</th>\n",
       "      <td>24072.0</td>\n",
       "      <td>21661.0</td>\n",
       "    </tr>\n",
       "    <tr>\n",
       "      <th>游戏客户端开发工程师</th>\n",
       "      <td>NaN</td>\n",
       "      <td>16414.0</td>\n",
       "    </tr>\n",
       "    <tr>\n",
       "      <th>游戏开发工程师</th>\n",
       "      <td>NaN</td>\n",
       "      <td>17549.0</td>\n",
       "    </tr>\n",
       "    <tr>\n",
       "      <th>游戏服务端开发工程师</th>\n",
       "      <td>NaN</td>\n",
       "      <td>16452.0</td>\n",
       "    </tr>\n",
       "    <tr>\n",
       "      <th>爬虫开发工程师</th>\n",
       "      <td>14148.0</td>\n",
       "      <td>13584.0</td>\n",
       "    </tr>\n",
       "    <tr>\n",
       "      <th>生物信息</th>\n",
       "      <td>9125.0</td>\n",
       "      <td>11333.0</td>\n",
       "    </tr>\n",
       "    <tr>\n",
       "      <th>移动开发工程师</th>\n",
       "      <td>NaN</td>\n",
       "      <td>15926.0</td>\n",
       "    </tr>\n",
       "    <tr>\n",
       "      <th>算法工程师</th>\n",
       "      <td>19651.0</td>\n",
       "      <td>20098.0</td>\n",
       "    </tr>\n",
       "    <tr>\n",
       "      <th>系统分析员</th>\n",
       "      <td>NaN</td>\n",
       "      <td>12792.0</td>\n",
       "    </tr>\n",
       "    <tr>\n",
       "      <th>系统工程师</th>\n",
       "      <td>NaN</td>\n",
       "      <td>9897.0</td>\n",
       "    </tr>\n",
       "    <tr>\n",
       "      <th>系统架构师</th>\n",
       "      <td>15209.0</td>\n",
       "      <td>NaN</td>\n",
       "    </tr>\n",
       "    <tr>\n",
       "      <th>系统架构设计师</th>\n",
       "      <td>NaN</td>\n",
       "      <td>20589.0</td>\n",
       "    </tr>\n",
       "    <tr>\n",
       "      <th>编译器开发工程师</th>\n",
       "      <td>23355.0</td>\n",
       "      <td>25286.0</td>\n",
       "    </tr>\n",
       "    <tr>\n",
       "      <th>网站架构设计师</th>\n",
       "      <td>NaN</td>\n",
       "      <td>10772.0</td>\n",
       "    </tr>\n",
       "    <tr>\n",
       "      <th>自然语言处理（NLP）</th>\n",
       "      <td>24144.0</td>\n",
       "      <td>23572.0</td>\n",
       "    </tr>\n",
       "    <tr>\n",
       "      <th>芯片</th>\n",
       "      <td>22866.0</td>\n",
       "      <td>24565.0</td>\n",
       "    </tr>\n",
       "    <tr>\n",
       "      <th>视觉软件工程师</th>\n",
       "      <td>14057.0</td>\n",
       "      <td>14712.0</td>\n",
       "    </tr>\n",
       "    <tr>\n",
       "      <th>软件工程师</th>\n",
       "      <td>12486.0</td>\n",
       "      <td>13579.0</td>\n",
       "    </tr>\n",
       "    <tr>\n",
       "      <th>遥感</th>\n",
       "      <td>12956.0</td>\n",
       "      <td>12731.0</td>\n",
       "    </tr>\n",
       "    <tr>\n",
       "      <th>驱动工程师</th>\n",
       "      <td>16180.0</td>\n",
       "      <td>17992.0</td>\n",
       "    </tr>\n",
       "  </tbody>\n",
       "</table>\n",
       "</div>"
      ],
      "text/plain": [
       "                2019年5月  2020年5月\n",
       "career                          \n",
       "ADAS            23771.0  18842.0\n",
       "Android开发工程师    12766.0  14031.0\n",
       "CAE             11870.0  14272.0\n",
       "CTO             32500.0  42935.0\n",
       "Cocos2d-x开发工程师  14449.0  16682.0\n",
       "DSP             16412.0  14555.0\n",
       "ETL             13861.0  13588.0\n",
       "GIS             11646.0  12691.0\n",
       "HTML5开发工程师          NaN  13599.0\n",
       "Hadoop工程师       17478.0  17684.0\n",
       "MES             11498.0  12319.0\n",
       "SLAM            19135.0  18548.0\n",
       "Unity3D         12213.0  14753.0\n",
       "Unity3d开发工程师        NaN  16877.0\n",
       "Web前端开发             NaN  12397.0\n",
       "iOS开发工程师            NaN  15506.0\n",
       "人工智能            19065.0  16642.0\n",
       "信号处理            15210.0  15825.0\n",
       "分布式             18766.0  20094.0\n",
       "前端开发                NaN  11549.0\n",
       "区块链开发           21345.0  19866.0\n",
       "反作弊算法工程师        32916.0  30166.0\n",
       "图像处理工程师         16369.0  17023.0\n",
       "图像算法工程师         18391.0  20660.0\n",
       "大数据             16525.0  16520.0\n",
       "大数据开发工程师            NaN  13291.0\n",
       "小程序开发工程师            NaN  10068.0\n",
       "嵌入式软件开发         16072.0  13682.0\n",
       "技术主管            17890.0  17139.0\n",
       "推荐算法工程师         31381.0  32740.0\n",
       "搜索算法工程师         33678.0  25978.0\n",
       "敏捷教练            29388.0  28375.0\n",
       "数据科学家           30356.0  28971.0\n",
       "机器人             14258.0  15178.0\n",
       "机器学习            25124.0  21073.0\n",
       "机器视觉工程师             NaN  13733.0\n",
       "架构师             24926.0  26059.0\n",
       "深度学习工程师         24072.0  21661.0\n",
       "游戏客户端开发工程师          NaN  16414.0\n",
       "游戏开发工程师             NaN  17549.0\n",
       "游戏服务端开发工程师          NaN  16452.0\n",
       "爬虫开发工程师         14148.0  13584.0\n",
       "生物信息             9125.0  11333.0\n",
       "移动开发工程师             NaN  15926.0\n",
       "算法工程师           19651.0  20098.0\n",
       "系统分析员               NaN  12792.0\n",
       "系统工程师               NaN   9897.0\n",
       "系统架构师           15209.0      NaN\n",
       "系统架构设计师             NaN  20589.0\n",
       "编译器开发工程师        23355.0  25286.0\n",
       "网站架构设计师             NaN  10772.0\n",
       "自然语言处理（NLP）     24144.0  23572.0\n",
       "芯片              22866.0  24565.0\n",
       "视觉软件工程师         14057.0  14712.0\n",
       "软件工程师           12486.0  13579.0\n",
       "遥感              12956.0  12731.0\n",
       "驱动工程师           16180.0  17992.0"
      ]
     },
     "execution_count": 45,
     "metadata": {},
     "output_type": "execute_result"
    }
   ],
   "source": [
    "data_career2019.join(data_career, how='outer')"
   ]
  },
  {
   "cell_type": "code",
   "execution_count": null,
   "metadata": {},
   "outputs": [],
   "source": []
  },
  {
   "cell_type": "code",
   "execution_count": 13,
   "metadata": {},
   "outputs": [
    {
     "name": "stdout",
     "output_type": "stream",
     "text": [
      "\n",
      "        delete from [jobs].[dbo].[_201901] where city ='杭州' and title like '00%(职位编号：%)'\n",
      "        \n",
      "\n",
      "        delete from [jobs].[dbo].[_201902] where city ='杭州' and title like '00%(职位编号：%)'\n",
      "        \n",
      "\n",
      "        delete from [jobs].[dbo].[_201903] where city ='杭州' and title like '00%(职位编号：%)'\n",
      "        \n",
      "\n",
      "        delete from [jobs].[dbo].[_201904] where city ='杭州' and title like '00%(职位编号：%)'\n",
      "        \n",
      "\n",
      "        delete from [jobs].[dbo].[_201905] where city ='杭州' and title like '00%(职位编号：%)'\n",
      "        \n",
      "\n",
      "        delete from [jobs].[dbo].[_201906] where city ='杭州' and title like '00%(职位编号：%)'\n",
      "        \n",
      "\n",
      "        delete from [jobs].[dbo].[_201907] where city ='杭州' and title like '00%(职位编号：%)'\n",
      "        \n",
      "\n",
      "        delete from [jobs].[dbo].[_201908] where city ='杭州' and title like '00%(职位编号：%)'\n",
      "        \n",
      "\n",
      "        delete from [jobs].[dbo].[_201909] where city ='杭州' and title like '00%(职位编号：%)'\n",
      "        \n",
      "\n",
      "        delete from [jobs].[dbo].[_201910] where city ='杭州' and title like '00%(职位编号：%)'\n",
      "        \n",
      "\n",
      "        delete from [jobs].[dbo].[_201911] where city ='杭州' and title like '00%(职位编号：%)'\n",
      "        \n",
      "\n",
      "        delete from [jobs].[dbo].[_201912] where city ='杭州' and title like '00%(职位编号：%)'\n",
      "        \n",
      "\n",
      "        delete from [jobs].[dbo].[_202001] where city ='杭州' and title like '00%(职位编号：%)'\n",
      "        \n",
      "\n",
      "        delete from [jobs].[dbo].[_202002] where city ='杭州' and title like '00%(职位编号：%)'\n",
      "        \n",
      "\n",
      "        delete from [jobs].[dbo].[_202003] where city ='杭州' and title like '00%(职位编号：%)'\n",
      "        \n",
      "\n",
      "        delete from [jobs].[dbo].[_202004] where city ='杭州' and title like '00%(职位编号：%)'\n",
      "        \n",
      "\n",
      "        delete from [jobs].[dbo].[_202005] where city ='杭州' and title like '00%(职位编号：%)'\n",
      "        \n",
      "\n",
      "        delete from [jobs].[dbo].[_202006] where city ='杭州' and title like '00%(职位编号：%)'\n",
      "        \n",
      "\n",
      "        delete from [jobs].[dbo].[_202007] where city ='杭州' and title like '00%(职位编号：%)'\n",
      "        \n",
      "\n",
      "        delete from [jobs].[dbo].[_202008] where city ='杭州' and title like '00%(职位编号：%)'\n",
      "        \n",
      "\n",
      "        delete from [jobs].[dbo].[_202009] where city ='杭州' and title like '00%(职位编号：%)'\n",
      "        \n",
      "\n",
      "        delete from [jobs].[dbo].[_202010] where city ='杭州' and title like '00%(职位编号：%)'\n",
      "        \n",
      "\n",
      "        delete from [jobs].[dbo].[_202011] where city ='杭州' and title like '00%(职位编号：%)'\n",
      "        \n",
      "\n",
      "        delete from [jobs].[dbo].[_202012] where city ='杭州' and title like '00%(职位编号：%)'\n",
      "        \n"
     ]
    }
   ],
   "source": [
    "for _year in [2019, 2020]:\n",
    "    for _month in range(12):\n",
    "        sql=f\"\"\"\n",
    "        delete from [jobs].[dbo].[_{_year}{_month+1:02}] where city ='杭州' and title like '00%(职位编号：%)'\n",
    "        \"\"\"\n",
    "        print(sql)"
   ]
  },
  {
   "cell_type": "code",
   "execution_count": 14,
   "metadata": {},
   "outputs": [
    {
     "data": {
      "text/plain": [
       "\"\\n        delete from [jobs].[dbo].[_202012] where city ='杭州' and title like '00%(职位编号：%)'\\n        \""
      ]
     },
     "execution_count": 14,
     "metadata": {},
     "output_type": "execute_result"
    }
   ],
   "source": [
    "sql"
   ]
  },
  {
   "cell_type": "code",
   "execution_count": 46,
   "metadata": {},
   "outputs": [],
   "source": [
    "salary=data_original.monthly_salary.values"
   ]
  },
  {
   "cell_type": "code",
   "execution_count": 47,
   "metadata": {},
   "outputs": [],
   "source": [
    "salary.sort()"
   ]
  },
  {
   "cell_type": "code",
   "execution_count": 48,
   "metadata": {},
   "outputs": [
    {
     "data": {
      "text/html": [
       "<div>\n",
       "<style scoped>\n",
       "    .dataframe tbody tr th:only-of-type {\n",
       "        vertical-align: middle;\n",
       "    }\n",
       "\n",
       "    .dataframe tbody tr th {\n",
       "        vertical-align: top;\n",
       "    }\n",
       "\n",
       "    .dataframe thead th {\n",
       "        text-align: right;\n",
       "    }\n",
       "</style>\n",
       "<table border=\"1\" class=\"dataframe\">\n",
       "  <thead>\n",
       "    <tr style=\"text-align: right;\">\n",
       "      <th></th>\n",
       "      <th>job_id</th>\n",
       "      <th>monthly_salary</th>\n",
       "      <th>headcount</th>\n",
       "      <th>title</th>\n",
       "      <th>zhinengleibie</th>\n",
       "      <th>career</th>\n",
       "      <th>real_province</th>\n",
       "      <th>province</th>\n",
       "      <th>city</th>\n",
       "      <th>company_id</th>\n",
       "      <th>...</th>\n",
       "      <th>bd_hbase</th>\n",
       "      <th>bd_storm</th>\n",
       "      <th>bd_pig</th>\n",
       "      <th>bd_mahout</th>\n",
       "      <th>bd_impala</th>\n",
       "      <th>bd_yarn</th>\n",
       "      <th>bd_alluxio</th>\n",
       "      <th>bd_flink</th>\n",
       "      <th>bd_presto</th>\n",
       "      <th>bd_heron</th>\n",
       "    </tr>\n",
       "  </thead>\n",
       "  <tbody>\n",
       "  </tbody>\n",
       "</table>\n",
       "<p>0 rows × 114 columns</p>\n",
       "</div>"
      ],
      "text/plain": [
       "Empty DataFrame\n",
       "Columns: [job_id, monthly_salary, headcount, title, zhinengleibie, career, real_province, province, city, company_id, company_link, page_title, ageism, edu, english, japanese, experience, job_description, job_summary, job_tags, _996_yes, _996_no, publish_date, published_on_weekend, tag_baby_care, tag_five_insurance, tag_flexible, tag_no_overtime, tag_rest_one_day, tag_rest_two_days, tag_stock, db_Apache_Hive, db_CouchBase, db_CouchDB, db_DB2, db_DynamoDB, db_Elasticsearch, db_FileMaker, db_Firebase, db_Firebird, db_Hbase, db_Informix, db_Ingres, db_MariaDB, db_Memcached, db_MongoDB, db_MySQL, db_Neo4j, db_Netezza, db_Oracle, db_PostgreSQL, db_Redis, db_Riak, db_SAP_HANA, db_SQL_Server, db_SQLite, db_Solr, db_Splunk, db_Sybase, db_Teradata, db_dBase, phone_android, phone_app, phone_iso, pl_c_sharp, pl_cpp, pl_delphi, pl_go, pl_haskell, pl_java, pl_javascript, pl_julia, pl_kotlin, pl_lua, pl_matlab, pl_objective_c, pl_perl, pl_php, pl_python, pl_r, pl_ruby, pl_rust, pl_scala, pl_swift, pl_typescript, pl_vba, pl_visual_basic, ml_keras, ml_tensorflow, ml_pytorch, ml_caffe, ml_mxnet, ml_sklearn, ml_mllib, ml_tensorlayer, ml_paddlepaddle, ml_cntk, ml_theano, ml_mahout, bd_hadoop, ...]\n",
       "Index: []\n",
       "\n",
       "[0 rows x 114 columns]"
      ]
     },
     "execution_count": 48,
     "metadata": {},
     "output_type": "execute_result"
    }
   ],
   "source": [
    "data_original[data_original['monthly_salary'].isna()]"
   ]
  },
  {
   "cell_type": "code",
   "execution_count": 49,
   "metadata": {},
   "outputs": [],
   "source": [
    "import numpy as np"
   ]
  },
  {
   "cell_type": "code",
   "execution_count": 50,
   "metadata": {},
   "outputs": [],
   "source": [
    "def lorenz_curve(X):\n",
    "    X_lorenz = X.cumsum() / X.sum()\n",
    "    X_lorenz = np.insert(X_lorenz, 0, 0) \n",
    "    X_lorenz[0], X_lorenz[-1]\n",
    "    fig, ax = plt.subplots(figsize=[6,6])\n",
    "    ## scatter plot of Lorenz curve\n",
    "    ax.scatter(np.arange(X_lorenz.size)/(X_lorenz.size-1), X_lorenz, \n",
    "               color='darkgreen', s=1)\n",
    "    ## line plot of equality\n",
    "    ax.plot([0,1], [0,1], color='k')\n"
   ]
  },
  {
   "cell_type": "code",
   "execution_count": 51,
   "metadata": {},
   "outputs": [
    {
     "data": {
      "image/png": "[encoded data removed]",
      "text/plain": [
       "<Figure size 432x432 with 1 Axes>"
      ]
     },
     "metadata": {
      "needs_background": "light"
     },
     "output_type": "display_data"
    }
   ],
   "source": [
    "lorenz_curve(salary)"
   ]
  },
  {
   "cell_type": "code",
   "execution_count": 52,
   "metadata": {},
   "outputs": [],
   "source": [
    "def gini(arr):\n",
    "    ## first sort\n",
    "    sorted_arr = arr.copy()\n",
    "    sorted_arr.sort()\n",
    "    n = arr.size\n",
    "    coef_ = 2. / n\n",
    "    const_ = (n + 1.) / n\n",
    "    weighted_sum = sum([(i+1)*yi for i, yi in enumerate(sorted_arr)])\n",
    "    return coef_*weighted_sum/(sorted_arr.sum()) - const_\n"
   ]
  },
  {
   "cell_type": "code",
   "execution_count": 53,
   "metadata": {},
   "outputs": [
    {
     "data": {
      "text/plain": [
       "0.2623626763649891"
      ]
     },
     "execution_count": 53,
     "metadata": {},
     "output_type": "execute_result"
    }
   ],
   "source": [
    "gini(salary)"
   ]
  },
  {
   "cell_type": "code",
   "execution_count": 54,
   "metadata": {},
   "outputs": [
    {
     "data": {
      "text/plain": [
       "103245"
      ]
     },
     "execution_count": 54,
     "metadata": {},
     "output_type": "execute_result"
    }
   ],
   "source": [
    "len(salary)"
   ]
  },
  {
   "cell_type": "code",
   "execution_count": 61,
   "metadata": {},
   "outputs": [
    {
     "data": {
      "text/plain": [
       "0.24397374706114694"
      ]
     },
     "metadata": {},
     "output_type": "display_data"
    },
    {
     "data": {
      "text/plain": [
       "None"
      ]
     },
     "metadata": {},
     "output_type": "display_data"
    },
    {
     "data": {
      "image/png": "[encoded data removed]",
      "text/plain": [
       "<Figure size 432x432 with 1 Axes>"
      ]
     },
     "metadata": {
      "needs_background": "light"
     },
     "output_type": "display_data"
    }
   ],
   "source": [
    "city_salary=data_original.loc[data_original['city']=='北京'].monthly_salary.values\n",
    "display(gini(city_salary))\n",
    "display(lorenz_curve(city_salary))"
   ]
  },
  {
   "cell_type": "code",
   "execution_count": 62,
   "metadata": {},
   "outputs": [
    {
     "data": {
      "text/plain": [
       "0.26251723868532273"
      ]
     },
     "metadata": {},
     "output_type": "display_data"
    },
    {
     "data": {
      "text/plain": [
       "None"
      ]
     },
     "metadata": {},
     "output_type": "display_data"
    },
    {
     "data": {
      "image/png": "[encoded data removed]",
      "text/plain": [
       "<Figure size 432x432 with 1 Axes>"
      ]
     },
     "metadata": {
      "needs_background": "light"
     },
     "output_type": "display_data"
    }
   ],
   "source": [
    "city_salary=data_original.loc[data_original['city']=='杭州'].monthly_salary.values\n",
    "display(gini(city_salary))\n",
    "display(lorenz_curve(city_salary))"
   ]
  },
  {
   "cell_type": "code",
   "execution_count": 59,
   "metadata": {},
   "outputs": [
    {
     "data": {
      "text/plain": [
       "None"
      ]
     },
     "metadata": {},
     "output_type": "display_data"
    },
    {
     "data": {
      "image/png": "[encoded data removed]",
      "text/plain": [
       "<Figure size 432x432 with 1 Axes>"
      ]
     },
     "metadata": {
      "needs_background": "light"
     },
     "output_type": "display_data"
    }
   ],
   "source": []
  },
  {
   "cell_type": "code",
   "execution_count": null,
   "metadata": {},
   "outputs": [],
   "source": []
  }
 ],
 "metadata": {
  "kernelspec": {
   "display_name": "Python 3",
   "language": "python",
   "name": "python3"
  },
  "language_info": {
   "codemirror_mode": {
    "name": "ipython",
    "version": 3
   },
   "file_extension": ".py",
   "mimetype": "text/x-python",
   "name": "python",
   "nbconvert_exporter": "python",
   "pygments_lexer": "ipython3",
   "version": "3.7.4"
  }
 },
 "nbformat": 4,
 "nbformat_minor": 4
}
