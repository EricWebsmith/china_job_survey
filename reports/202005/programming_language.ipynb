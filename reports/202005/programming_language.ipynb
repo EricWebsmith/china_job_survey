{
 "cells": [
  {
   "cell_type": "code",
   "execution_count": 1,
   "metadata": {},
   "outputs": [],
   "source": [
    "from config import *\n"
   ]
  },
  {
   "cell_type": "code",
   "execution_count": 2,
   "metadata": {},
   "outputs": [
    {
     "name": "stdout",
     "output_type": "stream",
     "text": [
      "2020年5月\n"
     ]
    }
   ],
   "source": [
    "print(f'{year}年{month}月')"
   ]
  },
  {
   "cell_type": "code",
   "execution_count": 3,
   "metadata": {},
   "outputs": [],
   "source": [
    "import pandas as pd\n",
    "import sys\n",
    "sys.path.append('../../py')\n",
    "import db\n",
    "import weighted\n",
    "import inspect\n",
    "import matplotlib.pyplot as plt\n",
    "import scipy.stats as stats\n",
    "import numpy as np\n",
    "%matplotlib inline"
   ]
  },
  {
   "cell_type": "code",
   "execution_count": 4,
   "metadata": {},
   "outputs": [],
   "source": [
    "data_original=pd.read_sql(sql=f\"select * from _{year}{month:02} where monthly_salary>0 and monthly_salary<80000\", con=db.get_conn())"
   ]
  },
  {
   "cell_type": "code",
   "execution_count": 5,
   "metadata": {},
   "outputs": [
    {
     "data": {
      "text/plain": [
       "(103220, 114)"
      ]
     },
     "execution_count": 5,
     "metadata": {},
     "output_type": "execute_result"
    }
   ],
   "source": [
    "data_original.shape"
   ]
  },
  {
   "cell_type": "code",
   "execution_count": 6,
   "metadata": {},
   "outputs": [],
   "source": [
    "data = data_original"
   ]
  },
  {
   "cell_type": "code",
   "execution_count": null,
   "metadata": {},
   "outputs": [],
   "source": []
  },
  {
   "cell_type": "code",
   "execution_count": null,
   "metadata": {},
   "outputs": [],
   "source": []
  },
  {
   "cell_type": "code",
   "execution_count": 7,
   "metadata": {},
   "outputs": [
    {
     "ename": "KeyError",
     "evalue": "'company_title'",
     "output_type": "error",
     "traceback": [
      "\u001b[1;31m---------------------------------------------------------------------------\u001b[0m",
      "\u001b[1;31mKeyError\u001b[0m                                  Traceback (most recent call last)",
      "\u001b[1;32mC:\\ProgramData\\Anaconda3\\lib\\site-packages\\pandas\\core\\indexes\\base.py\u001b[0m in \u001b[0;36mget_loc\u001b[1;34m(self, key, method, tolerance)\u001b[0m\n\u001b[0;32m   2645\u001b[0m             \u001b[1;32mtry\u001b[0m\u001b[1;33m:\u001b[0m\u001b[1;33m\u001b[0m\u001b[1;33m\u001b[0m\u001b[0m\n\u001b[1;32m-> 2646\u001b[1;33m                 \u001b[1;32mreturn\u001b[0m \u001b[0mself\u001b[0m\u001b[1;33m.\u001b[0m\u001b[0m_engine\u001b[0m\u001b[1;33m.\u001b[0m\u001b[0mget_loc\u001b[0m\u001b[1;33m(\u001b[0m\u001b[0mkey\u001b[0m\u001b[1;33m)\u001b[0m\u001b[1;33m\u001b[0m\u001b[1;33m\u001b[0m\u001b[0m\n\u001b[0m\u001b[0;32m   2647\u001b[0m             \u001b[1;32mexcept\u001b[0m \u001b[0mKeyError\u001b[0m\u001b[1;33m:\u001b[0m\u001b[1;33m\u001b[0m\u001b[1;33m\u001b[0m\u001b[0m\n",
      "\u001b[1;32mpandas\\_libs\\index.pyx\u001b[0m in \u001b[0;36mpandas._libs.index.IndexEngine.get_loc\u001b[1;34m()\u001b[0m\n",
      "\u001b[1;32mpandas\\_libs\\index.pyx\u001b[0m in \u001b[0;36mpandas._libs.index.IndexEngine.get_loc\u001b[1;34m()\u001b[0m\n",
      "\u001b[1;32mpandas\\_libs\\hashtable_class_helper.pxi\u001b[0m in \u001b[0;36mpandas._libs.hashtable.PyObjectHashTable.get_item\u001b[1;34m()\u001b[0m\n",
      "\u001b[1;32mpandas\\_libs\\hashtable_class_helper.pxi\u001b[0m in \u001b[0;36mpandas._libs.hashtable.PyObjectHashTable.get_item\u001b[1;34m()\u001b[0m\n",
      "\u001b[1;31mKeyError\u001b[0m: 'company_title'",
      "\nDuring handling of the above exception, another exception occurred:\n",
      "\u001b[1;31mKeyError\u001b[0m                                  Traceback (most recent call last)",
      "\u001b[1;32m<ipython-input-7-1f95411a0cb6>\u001b[0m in \u001b[0;36m<module>\u001b[1;34m\u001b[0m\n\u001b[0;32m      2\u001b[0m \u001b[1;32mdel\u001b[0m \u001b[0mdata\u001b[0m\u001b[1;33m[\u001b[0m\u001b[1;34m'published_on_weekend'\u001b[0m\u001b[1;33m]\u001b[0m\u001b[1;33m\u001b[0m\u001b[1;33m\u001b[0m\u001b[0m\n\u001b[0;32m      3\u001b[0m \u001b[1;32mdel\u001b[0m \u001b[0mdata\u001b[0m\u001b[1;33m[\u001b[0m\u001b[1;34m'title'\u001b[0m\u001b[1;33m]\u001b[0m\u001b[1;33m\u001b[0m\u001b[1;33m\u001b[0m\u001b[0m\n\u001b[1;32m----> 4\u001b[1;33m \u001b[1;32mdel\u001b[0m \u001b[0mdata\u001b[0m\u001b[1;33m[\u001b[0m\u001b[1;34m'company_title'\u001b[0m\u001b[1;33m]\u001b[0m\u001b[1;33m\u001b[0m\u001b[1;33m\u001b[0m\u001b[0m\n\u001b[0m\u001b[0;32m      5\u001b[0m \u001b[1;32mdel\u001b[0m \u001b[0mdata\u001b[0m\u001b[1;33m[\u001b[0m\u001b[1;34m'company_description'\u001b[0m\u001b[1;33m]\u001b[0m\u001b[1;33m\u001b[0m\u001b[1;33m\u001b[0m\u001b[0m\n\u001b[0;32m      6\u001b[0m \u001b[1;32mdel\u001b[0m \u001b[0mdata\u001b[0m\u001b[1;33m[\u001b[0m\u001b[1;34m'job_description'\u001b[0m\u001b[1;33m]\u001b[0m\u001b[1;33m\u001b[0m\u001b[1;33m\u001b[0m\u001b[0m\n",
      "\u001b[1;32mC:\\ProgramData\\Anaconda3\\lib\\site-packages\\pandas\\core\\generic.py\u001b[0m in \u001b[0;36m__delitem__\u001b[1;34m(self, key)\u001b[0m\n\u001b[0;32m   3756\u001b[0m             \u001b[1;31m# there was no match, this call should raise the appropriate\u001b[0m\u001b[1;33m\u001b[0m\u001b[1;33m\u001b[0m\u001b[1;33m\u001b[0m\u001b[0m\n\u001b[0;32m   3757\u001b[0m             \u001b[1;31m# exception:\u001b[0m\u001b[1;33m\u001b[0m\u001b[1;33m\u001b[0m\u001b[1;33m\u001b[0m\u001b[0m\n\u001b[1;32m-> 3758\u001b[1;33m             \u001b[0mself\u001b[0m\u001b[1;33m.\u001b[0m\u001b[0m_data\u001b[0m\u001b[1;33m.\u001b[0m\u001b[0mdelete\u001b[0m\u001b[1;33m(\u001b[0m\u001b[0mkey\u001b[0m\u001b[1;33m)\u001b[0m\u001b[1;33m\u001b[0m\u001b[1;33m\u001b[0m\u001b[0m\n\u001b[0m\u001b[0;32m   3759\u001b[0m \u001b[1;33m\u001b[0m\u001b[0m\n\u001b[0;32m   3760\u001b[0m         \u001b[1;31m# delete from the caches\u001b[0m\u001b[1;33m\u001b[0m\u001b[1;33m\u001b[0m\u001b[1;33m\u001b[0m\u001b[0m\n",
      "\u001b[1;32mC:\\ProgramData\\Anaconda3\\lib\\site-packages\\pandas\\core\\internals\\managers.py\u001b[0m in \u001b[0;36mdelete\u001b[1;34m(self, item)\u001b[0m\n\u001b[0;32m   1000\u001b[0m         \u001b[0mDelete\u001b[0m \u001b[0mselected\u001b[0m \u001b[0mitem\u001b[0m \u001b[1;33m(\u001b[0m\u001b[0mitems\u001b[0m \u001b[1;32mif\u001b[0m \u001b[0mnon\u001b[0m\u001b[1;33m-\u001b[0m\u001b[0munique\u001b[0m\u001b[1;33m)\u001b[0m \u001b[1;32min\u001b[0m\u001b[1;33m-\u001b[0m\u001b[0mplace\u001b[0m\u001b[1;33m.\u001b[0m\u001b[1;33m\u001b[0m\u001b[1;33m\u001b[0m\u001b[0m\n\u001b[0;32m   1001\u001b[0m         \"\"\"\n\u001b[1;32m-> 1002\u001b[1;33m         \u001b[0mindexer\u001b[0m \u001b[1;33m=\u001b[0m \u001b[0mself\u001b[0m\u001b[1;33m.\u001b[0m\u001b[0mitems\u001b[0m\u001b[1;33m.\u001b[0m\u001b[0mget_loc\u001b[0m\u001b[1;33m(\u001b[0m\u001b[0mitem\u001b[0m\u001b[1;33m)\u001b[0m\u001b[1;33m\u001b[0m\u001b[1;33m\u001b[0m\u001b[0m\n\u001b[0m\u001b[0;32m   1003\u001b[0m \u001b[1;33m\u001b[0m\u001b[0m\n\u001b[0;32m   1004\u001b[0m         \u001b[0mis_deleted\u001b[0m \u001b[1;33m=\u001b[0m \u001b[0mnp\u001b[0m\u001b[1;33m.\u001b[0m\u001b[0mzeros\u001b[0m\u001b[1;33m(\u001b[0m\u001b[0mself\u001b[0m\u001b[1;33m.\u001b[0m\u001b[0mshape\u001b[0m\u001b[1;33m[\u001b[0m\u001b[1;36m0\u001b[0m\u001b[1;33m]\u001b[0m\u001b[1;33m,\u001b[0m \u001b[0mdtype\u001b[0m\u001b[1;33m=\u001b[0m\u001b[0mnp\u001b[0m\u001b[1;33m.\u001b[0m\u001b[0mbool_\u001b[0m\u001b[1;33m)\u001b[0m\u001b[1;33m\u001b[0m\u001b[1;33m\u001b[0m\u001b[0m\n",
      "\u001b[1;32mC:\\ProgramData\\Anaconda3\\lib\\site-packages\\pandas\\core\\indexes\\base.py\u001b[0m in \u001b[0;36mget_loc\u001b[1;34m(self, key, method, tolerance)\u001b[0m\n\u001b[0;32m   2646\u001b[0m                 \u001b[1;32mreturn\u001b[0m \u001b[0mself\u001b[0m\u001b[1;33m.\u001b[0m\u001b[0m_engine\u001b[0m\u001b[1;33m.\u001b[0m\u001b[0mget_loc\u001b[0m\u001b[1;33m(\u001b[0m\u001b[0mkey\u001b[0m\u001b[1;33m)\u001b[0m\u001b[1;33m\u001b[0m\u001b[1;33m\u001b[0m\u001b[0m\n\u001b[0;32m   2647\u001b[0m             \u001b[1;32mexcept\u001b[0m \u001b[0mKeyError\u001b[0m\u001b[1;33m:\u001b[0m\u001b[1;33m\u001b[0m\u001b[1;33m\u001b[0m\u001b[0m\n\u001b[1;32m-> 2648\u001b[1;33m                 \u001b[1;32mreturn\u001b[0m \u001b[0mself\u001b[0m\u001b[1;33m.\u001b[0m\u001b[0m_engine\u001b[0m\u001b[1;33m.\u001b[0m\u001b[0mget_loc\u001b[0m\u001b[1;33m(\u001b[0m\u001b[0mself\u001b[0m\u001b[1;33m.\u001b[0m\u001b[0m_maybe_cast_indexer\u001b[0m\u001b[1;33m(\u001b[0m\u001b[0mkey\u001b[0m\u001b[1;33m)\u001b[0m\u001b[1;33m)\u001b[0m\u001b[1;33m\u001b[0m\u001b[1;33m\u001b[0m\u001b[0m\n\u001b[0m\u001b[0;32m   2649\u001b[0m         \u001b[0mindexer\u001b[0m \u001b[1;33m=\u001b[0m \u001b[0mself\u001b[0m\u001b[1;33m.\u001b[0m\u001b[0mget_indexer\u001b[0m\u001b[1;33m(\u001b[0m\u001b[1;33m[\u001b[0m\u001b[0mkey\u001b[0m\u001b[1;33m]\u001b[0m\u001b[1;33m,\u001b[0m \u001b[0mmethod\u001b[0m\u001b[1;33m=\u001b[0m\u001b[0mmethod\u001b[0m\u001b[1;33m,\u001b[0m \u001b[0mtolerance\u001b[0m\u001b[1;33m=\u001b[0m\u001b[0mtolerance\u001b[0m\u001b[1;33m)\u001b[0m\u001b[1;33m\u001b[0m\u001b[1;33m\u001b[0m\u001b[0m\n\u001b[0;32m   2650\u001b[0m         \u001b[1;32mif\u001b[0m \u001b[0mindexer\u001b[0m\u001b[1;33m.\u001b[0m\u001b[0mndim\u001b[0m \u001b[1;33m>\u001b[0m \u001b[1;36m1\u001b[0m \u001b[1;32mor\u001b[0m \u001b[0mindexer\u001b[0m\u001b[1;33m.\u001b[0m\u001b[0msize\u001b[0m \u001b[1;33m>\u001b[0m \u001b[1;36m1\u001b[0m\u001b[1;33m:\u001b[0m\u001b[1;33m\u001b[0m\u001b[1;33m\u001b[0m\u001b[0m\n",
      "\u001b[1;32mpandas\\_libs\\index.pyx\u001b[0m in \u001b[0;36mpandas._libs.index.IndexEngine.get_loc\u001b[1;34m()\u001b[0m\n",
      "\u001b[1;32mpandas\\_libs\\index.pyx\u001b[0m in \u001b[0;36mpandas._libs.index.IndexEngine.get_loc\u001b[1;34m()\u001b[0m\n",
      "\u001b[1;32mpandas\\_libs\\hashtable_class_helper.pxi\u001b[0m in \u001b[0;36mpandas._libs.hashtable.PyObjectHashTable.get_item\u001b[1;34m()\u001b[0m\n",
      "\u001b[1;32mpandas\\_libs\\hashtable_class_helper.pxi\u001b[0m in \u001b[0;36mpandas._libs.hashtable.PyObjectHashTable.get_item\u001b[1;34m()\u001b[0m\n",
      "\u001b[1;31mKeyError\u001b[0m: 'company_title'"
     ]
    }
   ],
   "source": [
    "del data['publish_date']\n",
    "del data['published_on_weekend']\n",
    "del data['title']\n",
    "del data['company_title']\n",
    "del data['company_description']\n",
    "del data['job_description']\n",
    "del data['job_id']"
   ]
  },
  {
   "cell_type": "code",
   "execution_count": 8,
   "metadata": {},
   "outputs": [],
   "source": [
    "def get_sub_stats_by_prefix(data, prefix):\n",
    "    \n",
    "    features = [feature for feature in data.columns if feature.startswith(prefix)]\n",
    "    salary_mean=[]\n",
    "    salary_median=[]\n",
    "    salary_95_min=[]\n",
    "    salary_95_max=[]\n",
    "    count=[]\n",
    "    \n",
    "    features_out=[]\n",
    "    for feature in features:\n",
    "        #print(feature)\n",
    "        idata=data[data[feature]==1]\n",
    "        headcount=idata.headcount.sum()\n",
    "        values = idata.monthly_salary.values\n",
    "        weights = idata.headcount.values\n",
    "        #print(str(headcount))\n",
    "        if headcount==0:\n",
    "            continue\n",
    "        \n",
    "        salary_mean.append(weighted.weighted_mean(values, weights))\n",
    "        q = weighted.weighted_quantile(values,[0.025,0.5,0.975],weights)\n",
    "        salary_median.append(q[1])\n",
    "        salary_95_min.append(q[0])\n",
    "        salary_95_max.append(q[2])\n",
    "        count.append(idata.headcount.sum())\n",
    "        features_out.append(feature)\n",
    "    sub_data=pd.DataFrame()\n",
    "    sub_data['rank']=range(0,len(features_out))\n",
    "    sub_data[prefix]=[f.replace(prefix,'') for f in features_out]\n",
    "    sub_data['salary_mean']=salary_mean\n",
    "    sub_data['salary_median']=salary_median\n",
    "    sub_data['salary_95_min']=salary_95_min\n",
    "    sub_data['salary_95_max']=salary_95_max\n",
    "    sub_data['head_count']=count\n",
    "    sub_data['percentage']=count/np.sum(count)\n",
    "    sub_data=sub_data.sort_values(by='salary_mean', ascending=False)\n",
    "    sub_data['rank']=range(1,len(features_out)+1)\n",
    "    #sub_data=sub_data.reset_index()\n",
    "    return sub_data\n",
    "\n",
    "def apply_style(sub_data):\n",
    "    return sub_data.style.hide_index().format(\n",
    "        {\"percentage\":\"{:.2%}\",\"salary_mean\":\"{:.0f}\",\"salary_median\":\"{:.0f}\",\"salary_95_min\":\"{:.0f}\",\"salary_95_max\":\"{:.0f}\"})"
   ]
  },
  {
   "cell_type": "code",
   "execution_count": 9,
   "metadata": {},
   "outputs": [],
   "source": [
    "data_pl=get_sub_stats_by_prefix(data,'pl_')"
   ]
  },
  {
   "cell_type": "code",
   "execution_count": 10,
   "metadata": {},
   "outputs": [
    {
     "data": {
      "text/html": [
       "<style  type=\"text/css\" >\n",
       "</style><table id=\"T_bf776240_8b68_11ea_87db_701ce71031ef\" ><thead>    <tr>        <th class=\"col_heading level0 col0\" >rank</th>        <th class=\"col_heading level0 col1\" >pl_</th>        <th class=\"col_heading level0 col2\" >salary_mean</th>        <th class=\"col_heading level0 col3\" >salary_median</th>        <th class=\"col_heading level0 col4\" >salary_95_min</th>        <th class=\"col_heading level0 col5\" >salary_95_max</th>        <th class=\"col_heading level0 col6\" >head_count</th>        <th class=\"col_heading level0 col7\" >percentage</th>    </tr></thead><tbody>\n",
       "                <tr>\n",
       "                                <td id=\"T_bf776240_8b68_11ea_87db_701ce71031efrow0_col0\" class=\"data row0 col0\" >1</td>\n",
       "                        <td id=\"T_bf776240_8b68_11ea_87db_701ce71031efrow0_col1\" class=\"data row0 col1\" >scala</td>\n",
       "                        <td id=\"T_bf776240_8b68_11ea_87db_701ce71031efrow0_col2\" class=\"data row0 col2\" >20165</td>\n",
       "                        <td id=\"T_bf776240_8b68_11ea_87db_701ce71031efrow0_col3\" class=\"data row0 col3\" >18000</td>\n",
       "                        <td id=\"T_bf776240_8b68_11ea_87db_701ce71031efrow0_col4\" class=\"data row0 col4\" >7000</td>\n",
       "                        <td id=\"T_bf776240_8b68_11ea_87db_701ce71031efrow0_col5\" class=\"data row0 col5\" >45000</td>\n",
       "                        <td id=\"T_bf776240_8b68_11ea_87db_701ce71031efrow0_col6\" class=\"data row0 col6\" >3309</td>\n",
       "                        <td id=\"T_bf776240_8b68_11ea_87db_701ce71031efrow0_col7\" class=\"data row0 col7\" >0.71%</td>\n",
       "            </tr>\n",
       "            <tr>\n",
       "                                <td id=\"T_bf776240_8b68_11ea_87db_701ce71031efrow1_col0\" class=\"data row1 col0\" >2</td>\n",
       "                        <td id=\"T_bf776240_8b68_11ea_87db_701ce71031efrow1_col1\" class=\"data row1 col1\" >rust</td>\n",
       "                        <td id=\"T_bf776240_8b68_11ea_87db_701ce71031efrow1_col2\" class=\"data row1 col2\" >19364</td>\n",
       "                        <td id=\"T_bf776240_8b68_11ea_87db_701ce71031efrow1_col3\" class=\"data row1 col3\" >17500</td>\n",
       "                        <td id=\"T_bf776240_8b68_11ea_87db_701ce71031efrow1_col4\" class=\"data row1 col4\" >5398</td>\n",
       "                        <td id=\"T_bf776240_8b68_11ea_87db_701ce71031efrow1_col5\" class=\"data row1 col5\" >43687</td>\n",
       "                        <td id=\"T_bf776240_8b68_11ea_87db_701ce71031efrow1_col6\" class=\"data row1 col6\" >483</td>\n",
       "                        <td id=\"T_bf776240_8b68_11ea_87db_701ce71031efrow1_col7\" class=\"data row1 col7\" >0.10%</td>\n",
       "            </tr>\n",
       "            <tr>\n",
       "                                <td id=\"T_bf776240_8b68_11ea_87db_701ce71031efrow2_col0\" class=\"data row2 col0\" >3</td>\n",
       "                        <td id=\"T_bf776240_8b68_11ea_87db_701ce71031efrow2_col1\" class=\"data row2 col1\" >python</td>\n",
       "                        <td id=\"T_bf776240_8b68_11ea_87db_701ce71031efrow2_col2\" class=\"data row2 col2\" >18622</td>\n",
       "                        <td id=\"T_bf776240_8b68_11ea_87db_701ce71031efrow2_col3\" class=\"data row2 col3\" >17500</td>\n",
       "                        <td id=\"T_bf776240_8b68_11ea_87db_701ce71031efrow2_col4\" class=\"data row2 col4\" >6500</td>\n",
       "                        <td id=\"T_bf776240_8b68_11ea_87db_701ce71031efrow2_col5\" class=\"data row2 col5\" >45000</td>\n",
       "                        <td id=\"T_bf776240_8b68_11ea_87db_701ce71031efrow2_col6\" class=\"data row2 col6\" >36531</td>\n",
       "                        <td id=\"T_bf776240_8b68_11ea_87db_701ce71031efrow2_col7\" class=\"data row2 col7\" >7.81%</td>\n",
       "            </tr>\n",
       "            <tr>\n",
       "                                <td id=\"T_bf776240_8b68_11ea_87db_701ce71031efrow3_col0\" class=\"data row3 col0\" >4</td>\n",
       "                        <td id=\"T_bf776240_8b68_11ea_87db_701ce71031efrow3_col1\" class=\"data row3 col1\" >julia</td>\n",
       "                        <td id=\"T_bf776240_8b68_11ea_87db_701ce71031efrow3_col2\" class=\"data row3 col2\" >18455</td>\n",
       "                        <td id=\"T_bf776240_8b68_11ea_87db_701ce71031efrow3_col3\" class=\"data row3 col3\" >20214</td>\n",
       "                        <td id=\"T_bf776240_8b68_11ea_87db_701ce71031efrow3_col4\" class=\"data row3 col4\" >12500</td>\n",
       "                        <td id=\"T_bf776240_8b68_11ea_87db_701ce71031efrow3_col5\" class=\"data row3 col5\" >25000</td>\n",
       "                        <td id=\"T_bf776240_8b68_11ea_87db_701ce71031efrow3_col6\" class=\"data row3 col6\" >11</td>\n",
       "                        <td id=\"T_bf776240_8b68_11ea_87db_701ce71031efrow3_col7\" class=\"data row3 col7\" >0.00%</td>\n",
       "            </tr>\n",
       "            <tr>\n",
       "                                <td id=\"T_bf776240_8b68_11ea_87db_701ce71031efrow4_col0\" class=\"data row4 col0\" >5</td>\n",
       "                        <td id=\"T_bf776240_8b68_11ea_87db_701ce71031efrow4_col1\" class=\"data row4 col1\" >go</td>\n",
       "                        <td id=\"T_bf776240_8b68_11ea_87db_701ce71031efrow4_col2\" class=\"data row4 col2\" >18379</td>\n",
       "                        <td id=\"T_bf776240_8b68_11ea_87db_701ce71031efrow4_col3\" class=\"data row4 col3\" >17500</td>\n",
       "                        <td id=\"T_bf776240_8b68_11ea_87db_701ce71031efrow4_col4\" class=\"data row4 col4\" >7000</td>\n",
       "                        <td id=\"T_bf776240_8b68_11ea_87db_701ce71031efrow4_col5\" class=\"data row4 col5\" >42500</td>\n",
       "                        <td id=\"T_bf776240_8b68_11ea_87db_701ce71031efrow4_col6\" class=\"data row4 col6\" >32180</td>\n",
       "                        <td id=\"T_bf776240_8b68_11ea_87db_701ce71031efrow4_col7\" class=\"data row4 col7\" >6.88%</td>\n",
       "            </tr>\n",
       "            <tr>\n",
       "                                <td id=\"T_bf776240_8b68_11ea_87db_701ce71031efrow5_col0\" class=\"data row5 col0\" >6</td>\n",
       "                        <td id=\"T_bf776240_8b68_11ea_87db_701ce71031efrow5_col1\" class=\"data row5 col1\" >lua</td>\n",
       "                        <td id=\"T_bf776240_8b68_11ea_87db_701ce71031efrow5_col2\" class=\"data row5 col2\" >18349</td>\n",
       "                        <td id=\"T_bf776240_8b68_11ea_87db_701ce71031efrow5_col3\" class=\"data row5 col3\" >17357</td>\n",
       "                        <td id=\"T_bf776240_8b68_11ea_87db_701ce71031efrow5_col4\" class=\"data row5 col4\" >6000</td>\n",
       "                        <td id=\"T_bf776240_8b68_11ea_87db_701ce71031efrow5_col5\" class=\"data row5 col5\" >40000</td>\n",
       "                        <td id=\"T_bf776240_8b68_11ea_87db_701ce71031efrow5_col6\" class=\"data row5 col6\" >4328</td>\n",
       "                        <td id=\"T_bf776240_8b68_11ea_87db_701ce71031efrow5_col7\" class=\"data row5 col7\" >0.93%</td>\n",
       "            </tr>\n",
       "            <tr>\n",
       "                                <td id=\"T_bf776240_8b68_11ea_87db_701ce71031efrow6_col0\" class=\"data row6 col0\" >7</td>\n",
       "                        <td id=\"T_bf776240_8b68_11ea_87db_701ce71031efrow6_col1\" class=\"data row6 col1\" >matlab</td>\n",
       "                        <td id=\"T_bf776240_8b68_11ea_87db_701ce71031efrow6_col2\" class=\"data row6 col2\" >18295</td>\n",
       "                        <td id=\"T_bf776240_8b68_11ea_87db_701ce71031efrow6_col3\" class=\"data row6 col3\" >17500</td>\n",
       "                        <td id=\"T_bf776240_8b68_11ea_87db_701ce71031efrow6_col4\" class=\"data row6 col4\" >7000</td>\n",
       "                        <td id=\"T_bf776240_8b68_11ea_87db_701ce71031efrow6_col5\" class=\"data row6 col5\" >37500</td>\n",
       "                        <td id=\"T_bf776240_8b68_11ea_87db_701ce71031efrow6_col6\" class=\"data row6 col6\" >5800</td>\n",
       "                        <td id=\"T_bf776240_8b68_11ea_87db_701ce71031efrow6_col7\" class=\"data row6 col7\" >1.24%</td>\n",
       "            </tr>\n",
       "            <tr>\n",
       "                                <td id=\"T_bf776240_8b68_11ea_87db_701ce71031efrow7_col0\" class=\"data row7 col0\" >8</td>\n",
       "                        <td id=\"T_bf776240_8b68_11ea_87db_701ce71031efrow7_col1\" class=\"data row7 col1\" >ruby</td>\n",
       "                        <td id=\"T_bf776240_8b68_11ea_87db_701ce71031efrow7_col2\" class=\"data row7 col2\" >17851</td>\n",
       "                        <td id=\"T_bf776240_8b68_11ea_87db_701ce71031efrow7_col3\" class=\"data row7 col3\" >15800</td>\n",
       "                        <td id=\"T_bf776240_8b68_11ea_87db_701ce71031efrow7_col4\" class=\"data row7 col4\" >5250</td>\n",
       "                        <td id=\"T_bf776240_8b68_11ea_87db_701ce71031efrow7_col5\" class=\"data row7 col5\" >45000</td>\n",
       "                        <td id=\"T_bf776240_8b68_11ea_87db_701ce71031efrow7_col6\" class=\"data row7 col6\" >1557</td>\n",
       "                        <td id=\"T_bf776240_8b68_11ea_87db_701ce71031efrow7_col7\" class=\"data row7 col7\" >0.33%</td>\n",
       "            </tr>\n",
       "            <tr>\n",
       "                                <td id=\"T_bf776240_8b68_11ea_87db_701ce71031efrow8_col0\" class=\"data row8 col0\" >9</td>\n",
       "                        <td id=\"T_bf776240_8b68_11ea_87db_701ce71031efrow8_col1\" class=\"data row8 col1\" >r</td>\n",
       "                        <td id=\"T_bf776240_8b68_11ea_87db_701ce71031efrow8_col2\" class=\"data row8 col2\" >17513</td>\n",
       "                        <td id=\"T_bf776240_8b68_11ea_87db_701ce71031efrow8_col3\" class=\"data row8 col3\" >16000</td>\n",
       "                        <td id=\"T_bf776240_8b68_11ea_87db_701ce71031efrow8_col4\" class=\"data row8 col4\" >7000</td>\n",
       "                        <td id=\"T_bf776240_8b68_11ea_87db_701ce71031efrow8_col5\" class=\"data row8 col5\" >37500</td>\n",
       "                        <td id=\"T_bf776240_8b68_11ea_87db_701ce71031efrow8_col6\" class=\"data row8 col6\" >3760</td>\n",
       "                        <td id=\"T_bf776240_8b68_11ea_87db_701ce71031efrow8_col7\" class=\"data row8 col7\" >0.80%</td>\n",
       "            </tr>\n",
       "            <tr>\n",
       "                                <td id=\"T_bf776240_8b68_11ea_87db_701ce71031efrow9_col0\" class=\"data row9 col0\" >10</td>\n",
       "                        <td id=\"T_bf776240_8b68_11ea_87db_701ce71031efrow9_col1\" class=\"data row9 col1\" >swift</td>\n",
       "                        <td id=\"T_bf776240_8b68_11ea_87db_701ce71031efrow9_col2\" class=\"data row9 col2\" >17167</td>\n",
       "                        <td id=\"T_bf776240_8b68_11ea_87db_701ce71031efrow9_col3\" class=\"data row9 col3\" >15000</td>\n",
       "                        <td id=\"T_bf776240_8b68_11ea_87db_701ce71031efrow9_col4\" class=\"data row9 col4\" >6969</td>\n",
       "                        <td id=\"T_bf776240_8b68_11ea_87db_701ce71031efrow9_col5\" class=\"data row9 col5\" >37500</td>\n",
       "                        <td id=\"T_bf776240_8b68_11ea_87db_701ce71031efrow9_col6\" class=\"data row9 col6\" >2805</td>\n",
       "                        <td id=\"T_bf776240_8b68_11ea_87db_701ce71031efrow9_col7\" class=\"data row9 col7\" >0.60%</td>\n",
       "            </tr>\n",
       "            <tr>\n",
       "                                <td id=\"T_bf776240_8b68_11ea_87db_701ce71031efrow10_col0\" class=\"data row10 col0\" >11</td>\n",
       "                        <td id=\"T_bf776240_8b68_11ea_87db_701ce71031efrow10_col1\" class=\"data row10 col1\" >haskell</td>\n",
       "                        <td id=\"T_bf776240_8b68_11ea_87db_701ce71031efrow10_col2\" class=\"data row10 col2\" >17157</td>\n",
       "                        <td id=\"T_bf776240_8b68_11ea_87db_701ce71031efrow10_col3\" class=\"data row10 col3\" >15000</td>\n",
       "                        <td id=\"T_bf776240_8b68_11ea_87db_701ce71031efrow10_col4\" class=\"data row10 col4\" >11500</td>\n",
       "                        <td id=\"T_bf776240_8b68_11ea_87db_701ce71031efrow10_col5\" class=\"data row10 col5\" >32250</td>\n",
       "                        <td id=\"T_bf776240_8b68_11ea_87db_701ce71031efrow10_col6\" class=\"data row10 col6\" >35</td>\n",
       "                        <td id=\"T_bf776240_8b68_11ea_87db_701ce71031efrow10_col7\" class=\"data row10 col7\" >0.01%</td>\n",
       "            </tr>\n",
       "            <tr>\n",
       "                                <td id=\"T_bf776240_8b68_11ea_87db_701ce71031efrow11_col0\" class=\"data row11 col0\" >12</td>\n",
       "                        <td id=\"T_bf776240_8b68_11ea_87db_701ce71031efrow11_col1\" class=\"data row11 col1\" >perl</td>\n",
       "                        <td id=\"T_bf776240_8b68_11ea_87db_701ce71031efrow11_col2\" class=\"data row11 col2\" >17109</td>\n",
       "                        <td id=\"T_bf776240_8b68_11ea_87db_701ce71031efrow11_col3\" class=\"data row11 col3\" >15000</td>\n",
       "                        <td id=\"T_bf776240_8b68_11ea_87db_701ce71031efrow11_col4\" class=\"data row11 col4\" >5250</td>\n",
       "                        <td id=\"T_bf776240_8b68_11ea_87db_701ce71031efrow11_col5\" class=\"data row11 col5\" >45000</td>\n",
       "                        <td id=\"T_bf776240_8b68_11ea_87db_701ce71031efrow11_col6\" class=\"data row11 col6\" >2794</td>\n",
       "                        <td id=\"T_bf776240_8b68_11ea_87db_701ce71031efrow11_col7\" class=\"data row11 col7\" >0.60%</td>\n",
       "            </tr>\n",
       "            <tr>\n",
       "                                <td id=\"T_bf776240_8b68_11ea_87db_701ce71031efrow12_col0\" class=\"data row12 col0\" >13</td>\n",
       "                        <td id=\"T_bf776240_8b68_11ea_87db_701ce71031efrow12_col1\" class=\"data row12 col1\" >kotlin</td>\n",
       "                        <td id=\"T_bf776240_8b68_11ea_87db_701ce71031efrow12_col2\" class=\"data row12 col2\" >16433</td>\n",
       "                        <td id=\"T_bf776240_8b68_11ea_87db_701ce71031efrow12_col3\" class=\"data row12 col3\" >15000</td>\n",
       "                        <td id=\"T_bf776240_8b68_11ea_87db_701ce71031efrow12_col4\" class=\"data row12 col4\" >7000</td>\n",
       "                        <td id=\"T_bf776240_8b68_11ea_87db_701ce71031efrow12_col5\" class=\"data row12 col5\" >31000</td>\n",
       "                        <td id=\"T_bf776240_8b68_11ea_87db_701ce71031efrow12_col6\" class=\"data row12 col6\" >1140</td>\n",
       "                        <td id=\"T_bf776240_8b68_11ea_87db_701ce71031efrow12_col7\" class=\"data row12 col7\" >0.24%</td>\n",
       "            </tr>\n",
       "            <tr>\n",
       "                                <td id=\"T_bf776240_8b68_11ea_87db_701ce71031efrow13_col0\" class=\"data row13 col0\" >14</td>\n",
       "                        <td id=\"T_bf776240_8b68_11ea_87db_701ce71031efrow13_col1\" class=\"data row13 col1\" >cpp</td>\n",
       "                        <td id=\"T_bf776240_8b68_11ea_87db_701ce71031efrow13_col2\" class=\"data row13 col2\" >15441</td>\n",
       "                        <td id=\"T_bf776240_8b68_11ea_87db_701ce71031efrow13_col3\" class=\"data row13 col3\" >13000</td>\n",
       "                        <td id=\"T_bf776240_8b68_11ea_87db_701ce71031efrow13_col4\" class=\"data row13 col4\" >5500</td>\n",
       "                        <td id=\"T_bf776240_8b68_11ea_87db_701ce71031efrow13_col5\" class=\"data row13 col5\" >37500</td>\n",
       "                        <td id=\"T_bf776240_8b68_11ea_87db_701ce71031efrow13_col6\" class=\"data row13 col6\" >113032</td>\n",
       "                        <td id=\"T_bf776240_8b68_11ea_87db_701ce71031efrow13_col7\" class=\"data row13 col7\" >24.16%</td>\n",
       "            </tr>\n",
       "            <tr>\n",
       "                                <td id=\"T_bf776240_8b68_11ea_87db_701ce71031efrow14_col0\" class=\"data row14 col0\" >15</td>\n",
       "                        <td id=\"T_bf776240_8b68_11ea_87db_701ce71031efrow14_col1\" class=\"data row14 col1\" >objective_c</td>\n",
       "                        <td id=\"T_bf776240_8b68_11ea_87db_701ce71031efrow14_col2\" class=\"data row14 col2\" >14929</td>\n",
       "                        <td id=\"T_bf776240_8b68_11ea_87db_701ce71031efrow14_col3\" class=\"data row14 col3\" >13000</td>\n",
       "                        <td id=\"T_bf776240_8b68_11ea_87db_701ce71031efrow14_col4\" class=\"data row14 col4\" >6062</td>\n",
       "                        <td id=\"T_bf776240_8b68_11ea_87db_701ce71031efrow14_col5\" class=\"data row14 col5\" >31944</td>\n",
       "                        <td id=\"T_bf776240_8b68_11ea_87db_701ce71031efrow14_col6\" class=\"data row14 col6\" >250</td>\n",
       "                        <td id=\"T_bf776240_8b68_11ea_87db_701ce71031efrow14_col7\" class=\"data row14 col7\" >0.05%</td>\n",
       "            </tr>\n",
       "            <tr>\n",
       "                                <td id=\"T_bf776240_8b68_11ea_87db_701ce71031efrow15_col0\" class=\"data row15 col0\" >16</td>\n",
       "                        <td id=\"T_bf776240_8b68_11ea_87db_701ce71031efrow15_col1\" class=\"data row15 col1\" >typescript</td>\n",
       "                        <td id=\"T_bf776240_8b68_11ea_87db_701ce71031efrow15_col2\" class=\"data row15 col2\" >14824</td>\n",
       "                        <td id=\"T_bf776240_8b68_11ea_87db_701ce71031efrow15_col3\" class=\"data row15 col3\" >12500</td>\n",
       "                        <td id=\"T_bf776240_8b68_11ea_87db_701ce71031efrow15_col4\" class=\"data row15 col4\" >7000</td>\n",
       "                        <td id=\"T_bf776240_8b68_11ea_87db_701ce71031efrow15_col5\" class=\"data row15 col5\" >32500</td>\n",
       "                        <td id=\"T_bf776240_8b68_11ea_87db_701ce71031efrow15_col6\" class=\"data row15 col6\" >3612</td>\n",
       "                        <td id=\"T_bf776240_8b68_11ea_87db_701ce71031efrow15_col7\" class=\"data row15 col7\" >0.77%</td>\n",
       "            </tr>\n",
       "            <tr>\n",
       "                                <td id=\"T_bf776240_8b68_11ea_87db_701ce71031efrow16_col0\" class=\"data row16 col0\" >17</td>\n",
       "                        <td id=\"T_bf776240_8b68_11ea_87db_701ce71031efrow16_col1\" class=\"data row16 col1\" >php</td>\n",
       "                        <td id=\"T_bf776240_8b68_11ea_87db_701ce71031efrow16_col2\" class=\"data row16 col2\" >14701</td>\n",
       "                        <td id=\"T_bf776240_8b68_11ea_87db_701ce71031efrow16_col3\" class=\"data row16 col3\" >12500</td>\n",
       "                        <td id=\"T_bf776240_8b68_11ea_87db_701ce71031efrow16_col4\" class=\"data row16 col4\" >5250</td>\n",
       "                        <td id=\"T_bf776240_8b68_11ea_87db_701ce71031efrow16_col5\" class=\"data row16 col5\" >40000</td>\n",
       "                        <td id=\"T_bf776240_8b68_11ea_87db_701ce71031efrow16_col6\" class=\"data row16 col6\" >16199</td>\n",
       "                        <td id=\"T_bf776240_8b68_11ea_87db_701ce71031efrow16_col7\" class=\"data row16 col7\" >3.46%</td>\n",
       "            </tr>\n",
       "            <tr>\n",
       "                                <td id=\"T_bf776240_8b68_11ea_87db_701ce71031efrow17_col0\" class=\"data row17 col0\" >18</td>\n",
       "                        <td id=\"T_bf776240_8b68_11ea_87db_701ce71031efrow17_col1\" class=\"data row17 col1\" >java</td>\n",
       "                        <td id=\"T_bf776240_8b68_11ea_87db_701ce71031efrow17_col2\" class=\"data row17 col2\" >14545</td>\n",
       "                        <td id=\"T_bf776240_8b68_11ea_87db_701ce71031efrow17_col3\" class=\"data row17 col3\" >12500</td>\n",
       "                        <td id=\"T_bf776240_8b68_11ea_87db_701ce71031efrow17_col4\" class=\"data row17 col4\" >5250</td>\n",
       "                        <td id=\"T_bf776240_8b68_11ea_87db_701ce71031efrow17_col5\" class=\"data row17 col5\" >35000</td>\n",
       "                        <td id=\"T_bf776240_8b68_11ea_87db_701ce71031efrow17_col6\" class=\"data row17 col6\" >127049</td>\n",
       "                        <td id=\"T_bf776240_8b68_11ea_87db_701ce71031efrow17_col7\" class=\"data row17 col7\" >27.15%</td>\n",
       "            </tr>\n",
       "            <tr>\n",
       "                                <td id=\"T_bf776240_8b68_11ea_87db_701ce71031efrow18_col0\" class=\"data row18 col0\" >19</td>\n",
       "                        <td id=\"T_bf776240_8b68_11ea_87db_701ce71031efrow18_col1\" class=\"data row18 col1\" >c_sharp</td>\n",
       "                        <td id=\"T_bf776240_8b68_11ea_87db_701ce71031efrow18_col2\" class=\"data row18 col2\" >12888</td>\n",
       "                        <td id=\"T_bf776240_8b68_11ea_87db_701ce71031efrow18_col3\" class=\"data row18 col3\" >12000</td>\n",
       "                        <td id=\"T_bf776240_8b68_11ea_87db_701ce71031efrow18_col4\" class=\"data row18 col4\" >5250</td>\n",
       "                        <td id=\"T_bf776240_8b68_11ea_87db_701ce71031efrow18_col5\" class=\"data row18 col5\" >30000</td>\n",
       "                        <td id=\"T_bf776240_8b68_11ea_87db_701ce71031efrow18_col6\" class=\"data row18 col6\" >43249</td>\n",
       "                        <td id=\"T_bf776240_8b68_11ea_87db_701ce71031efrow18_col7\" class=\"data row18 col7\" >9.24%</td>\n",
       "            </tr>\n",
       "            <tr>\n",
       "                                <td id=\"T_bf776240_8b68_11ea_87db_701ce71031efrow19_col0\" class=\"data row19 col0\" >20</td>\n",
       "                        <td id=\"T_bf776240_8b68_11ea_87db_701ce71031efrow19_col1\" class=\"data row19 col1\" >visual_basic</td>\n",
       "                        <td id=\"T_bf776240_8b68_11ea_87db_701ce71031efrow19_col2\" class=\"data row19 col2\" >12729</td>\n",
       "                        <td id=\"T_bf776240_8b68_11ea_87db_701ce71031efrow19_col3\" class=\"data row19 col3\" >12500</td>\n",
       "                        <td id=\"T_bf776240_8b68_11ea_87db_701ce71031efrow19_col4\" class=\"data row19 col4\" >5250</td>\n",
       "                        <td id=\"T_bf776240_8b68_11ea_87db_701ce71031efrow19_col5\" class=\"data row19 col5\" >22500</td>\n",
       "                        <td id=\"T_bf776240_8b68_11ea_87db_701ce71031efrow19_col6\" class=\"data row19 col6\" >36</td>\n",
       "                        <td id=\"T_bf776240_8b68_11ea_87db_701ce71031efrow19_col7\" class=\"data row19 col7\" >0.01%</td>\n",
       "            </tr>\n",
       "            <tr>\n",
       "                                <td id=\"T_bf776240_8b68_11ea_87db_701ce71031efrow20_col0\" class=\"data row20 col0\" >21</td>\n",
       "                        <td id=\"T_bf776240_8b68_11ea_87db_701ce71031efrow20_col1\" class=\"data row20 col1\" >javascript</td>\n",
       "                        <td id=\"T_bf776240_8b68_11ea_87db_701ce71031efrow20_col2\" class=\"data row20 col2\" >12452</td>\n",
       "                        <td id=\"T_bf776240_8b68_11ea_87db_701ce71031efrow20_col3\" class=\"data row20 col3\" >11666</td>\n",
       "                        <td id=\"T_bf776240_8b68_11ea_87db_701ce71031efrow20_col4\" class=\"data row20 col4\" >5250</td>\n",
       "                        <td id=\"T_bf776240_8b68_11ea_87db_701ce71031efrow20_col5\" class=\"data row20 col5\" >25000</td>\n",
       "                        <td id=\"T_bf776240_8b68_11ea_87db_701ce71031efrow20_col6\" class=\"data row20 col6\" >68127</td>\n",
       "                        <td id=\"T_bf776240_8b68_11ea_87db_701ce71031efrow20_col7\" class=\"data row20 col7\" >14.56%</td>\n",
       "            </tr>\n",
       "            <tr>\n",
       "                                <td id=\"T_bf776240_8b68_11ea_87db_701ce71031efrow21_col0\" class=\"data row21 col0\" >22</td>\n",
       "                        <td id=\"T_bf776240_8b68_11ea_87db_701ce71031efrow21_col1\" class=\"data row21 col1\" >delphi</td>\n",
       "                        <td id=\"T_bf776240_8b68_11ea_87db_701ce71031efrow21_col2\" class=\"data row21 col2\" >11293</td>\n",
       "                        <td id=\"T_bf776240_8b68_11ea_87db_701ce71031efrow21_col3\" class=\"data row21 col3\" >10500</td>\n",
       "                        <td id=\"T_bf776240_8b68_11ea_87db_701ce71031efrow21_col4\" class=\"data row21 col4\" >5250</td>\n",
       "                        <td id=\"T_bf776240_8b68_11ea_87db_701ce71031efrow21_col5\" class=\"data row21 col5\" >22500</td>\n",
       "                        <td id=\"T_bf776240_8b68_11ea_87db_701ce71031efrow21_col6\" class=\"data row21 col6\" >1075</td>\n",
       "                        <td id=\"T_bf776240_8b68_11ea_87db_701ce71031efrow21_col7\" class=\"data row21 col7\" >0.23%</td>\n",
       "            </tr>\n",
       "            <tr>\n",
       "                                <td id=\"T_bf776240_8b68_11ea_87db_701ce71031efrow22_col0\" class=\"data row22 col0\" >23</td>\n",
       "                        <td id=\"T_bf776240_8b68_11ea_87db_701ce71031efrow22_col1\" class=\"data row22 col1\" >vba</td>\n",
       "                        <td id=\"T_bf776240_8b68_11ea_87db_701ce71031efrow22_col2\" class=\"data row22 col2\" >10742</td>\n",
       "                        <td id=\"T_bf776240_8b68_11ea_87db_701ce71031efrow22_col3\" class=\"data row22 col3\" >10500</td>\n",
       "                        <td id=\"T_bf776240_8b68_11ea_87db_701ce71031efrow22_col4\" class=\"data row22 col4\" >4016</td>\n",
       "                        <td id=\"T_bf776240_8b68_11ea_87db_701ce71031efrow22_col5\" class=\"data row22 col5\" >22500</td>\n",
       "                        <td id=\"T_bf776240_8b68_11ea_87db_701ce71031efrow22_col6\" class=\"data row22 col6\" >525</td>\n",
       "                        <td id=\"T_bf776240_8b68_11ea_87db_701ce71031efrow22_col7\" class=\"data row22 col7\" >0.11%</td>\n",
       "            </tr>\n",
       "    </tbody></table>"
      ],
      "text/plain": [
       "<pandas.io.formats.style.Styler at 0x25ee2a79588>"
      ]
     },
     "execution_count": 10,
     "metadata": {},
     "output_type": "execute_result"
    }
   ],
   "source": [
    "apply_style(data_pl)"
   ]
  },
  {
   "cell_type": "code",
   "execution_count": 11,
   "metadata": {},
   "outputs": [
    {
     "data": {
      "text/plain": [
       "(23, 8)"
      ]
     },
     "execution_count": 11,
     "metadata": {},
     "output_type": "execute_result"
    }
   ],
   "source": [
    "data_pl.shape"
   ]
  },
  {
   "cell_type": "code",
   "execution_count": 12,
   "metadata": {},
   "outputs": [],
   "source": [
    "data_pl=data_pl[['pl_','percentage']].sort_values(by='percentage', ascending=False)\n",
    "data_pl.reset_index(drop=True, inplace=True)"
   ]
  },
  {
   "cell_type": "code",
   "execution_count": null,
   "metadata": {},
   "outputs": [],
   "source": []
  },
  {
   "cell_type": "code",
   "execution_count": null,
   "metadata": {},
   "outputs": [],
   "source": []
  },
  {
   "cell_type": "code",
   "execution_count": 13,
   "metadata": {},
   "outputs": [
    {
     "data": {
      "text/html": [
       "<style  type=\"text/css\" >\n",
       "</style><table id=\"T_c1f37e02_8b68_11ea_83a7_701ce71031ef\" ><thead>    <tr>        <th class=\"col_heading level0 col0\" >rank</th>        <th class=\"col_heading level0 col1\" >pl_</th>        <th class=\"col_heading level0 col2\" >percentage</th>    </tr></thead><tbody>\n",
       "                <tr>\n",
       "                                <td id=\"T_c1f37e02_8b68_11ea_83a7_701ce71031efrow0_col0\" class=\"data row0 col0\" >1</td>\n",
       "                        <td id=\"T_c1f37e02_8b68_11ea_83a7_701ce71031efrow0_col1\" class=\"data row0 col1\" >java</td>\n",
       "                        <td id=\"T_c1f37e02_8b68_11ea_83a7_701ce71031efrow0_col2\" class=\"data row0 col2\" >27.15%</td>\n",
       "            </tr>\n",
       "            <tr>\n",
       "                                <td id=\"T_c1f37e02_8b68_11ea_83a7_701ce71031efrow1_col0\" class=\"data row1 col0\" >2</td>\n",
       "                        <td id=\"T_c1f37e02_8b68_11ea_83a7_701ce71031efrow1_col1\" class=\"data row1 col1\" >cpp</td>\n",
       "                        <td id=\"T_c1f37e02_8b68_11ea_83a7_701ce71031efrow1_col2\" class=\"data row1 col2\" >24.16%</td>\n",
       "            </tr>\n",
       "            <tr>\n",
       "                                <td id=\"T_c1f37e02_8b68_11ea_83a7_701ce71031efrow2_col0\" class=\"data row2 col0\" >3</td>\n",
       "                        <td id=\"T_c1f37e02_8b68_11ea_83a7_701ce71031efrow2_col1\" class=\"data row2 col1\" >javascript</td>\n",
       "                        <td id=\"T_c1f37e02_8b68_11ea_83a7_701ce71031efrow2_col2\" class=\"data row2 col2\" >14.56%</td>\n",
       "            </tr>\n",
       "            <tr>\n",
       "                                <td id=\"T_c1f37e02_8b68_11ea_83a7_701ce71031efrow3_col0\" class=\"data row3 col0\" >4</td>\n",
       "                        <td id=\"T_c1f37e02_8b68_11ea_83a7_701ce71031efrow3_col1\" class=\"data row3 col1\" >c_sharp</td>\n",
       "                        <td id=\"T_c1f37e02_8b68_11ea_83a7_701ce71031efrow3_col2\" class=\"data row3 col2\" >9.24%</td>\n",
       "            </tr>\n",
       "            <tr>\n",
       "                                <td id=\"T_c1f37e02_8b68_11ea_83a7_701ce71031efrow4_col0\" class=\"data row4 col0\" >5</td>\n",
       "                        <td id=\"T_c1f37e02_8b68_11ea_83a7_701ce71031efrow4_col1\" class=\"data row4 col1\" >python</td>\n",
       "                        <td id=\"T_c1f37e02_8b68_11ea_83a7_701ce71031efrow4_col2\" class=\"data row4 col2\" >7.81%</td>\n",
       "            </tr>\n",
       "            <tr>\n",
       "                                <td id=\"T_c1f37e02_8b68_11ea_83a7_701ce71031efrow5_col0\" class=\"data row5 col0\" >6</td>\n",
       "                        <td id=\"T_c1f37e02_8b68_11ea_83a7_701ce71031efrow5_col1\" class=\"data row5 col1\" >go</td>\n",
       "                        <td id=\"T_c1f37e02_8b68_11ea_83a7_701ce71031efrow5_col2\" class=\"data row5 col2\" >6.88%</td>\n",
       "            </tr>\n",
       "            <tr>\n",
       "                                <td id=\"T_c1f37e02_8b68_11ea_83a7_701ce71031efrow6_col0\" class=\"data row6 col0\" >7</td>\n",
       "                        <td id=\"T_c1f37e02_8b68_11ea_83a7_701ce71031efrow6_col1\" class=\"data row6 col1\" >php</td>\n",
       "                        <td id=\"T_c1f37e02_8b68_11ea_83a7_701ce71031efrow6_col2\" class=\"data row6 col2\" >3.46%</td>\n",
       "            </tr>\n",
       "            <tr>\n",
       "                                <td id=\"T_c1f37e02_8b68_11ea_83a7_701ce71031efrow7_col0\" class=\"data row7 col0\" >8</td>\n",
       "                        <td id=\"T_c1f37e02_8b68_11ea_83a7_701ce71031efrow7_col1\" class=\"data row7 col1\" >matlab</td>\n",
       "                        <td id=\"T_c1f37e02_8b68_11ea_83a7_701ce71031efrow7_col2\" class=\"data row7 col2\" >1.24%</td>\n",
       "            </tr>\n",
       "            <tr>\n",
       "                                <td id=\"T_c1f37e02_8b68_11ea_83a7_701ce71031efrow8_col0\" class=\"data row8 col0\" >9</td>\n",
       "                        <td id=\"T_c1f37e02_8b68_11ea_83a7_701ce71031efrow8_col1\" class=\"data row8 col1\" >lua</td>\n",
       "                        <td id=\"T_c1f37e02_8b68_11ea_83a7_701ce71031efrow8_col2\" class=\"data row8 col2\" >0.93%</td>\n",
       "            </tr>\n",
       "            <tr>\n",
       "                                <td id=\"T_c1f37e02_8b68_11ea_83a7_701ce71031efrow9_col0\" class=\"data row9 col0\" >10</td>\n",
       "                        <td id=\"T_c1f37e02_8b68_11ea_83a7_701ce71031efrow9_col1\" class=\"data row9 col1\" >r</td>\n",
       "                        <td id=\"T_c1f37e02_8b68_11ea_83a7_701ce71031efrow9_col2\" class=\"data row9 col2\" >0.80%</td>\n",
       "            </tr>\n",
       "            <tr>\n",
       "                                <td id=\"T_c1f37e02_8b68_11ea_83a7_701ce71031efrow10_col0\" class=\"data row10 col0\" >11</td>\n",
       "                        <td id=\"T_c1f37e02_8b68_11ea_83a7_701ce71031efrow10_col1\" class=\"data row10 col1\" >typescript</td>\n",
       "                        <td id=\"T_c1f37e02_8b68_11ea_83a7_701ce71031efrow10_col2\" class=\"data row10 col2\" >0.77%</td>\n",
       "            </tr>\n",
       "            <tr>\n",
       "                                <td id=\"T_c1f37e02_8b68_11ea_83a7_701ce71031efrow11_col0\" class=\"data row11 col0\" >12</td>\n",
       "                        <td id=\"T_c1f37e02_8b68_11ea_83a7_701ce71031efrow11_col1\" class=\"data row11 col1\" >scala</td>\n",
       "                        <td id=\"T_c1f37e02_8b68_11ea_83a7_701ce71031efrow11_col2\" class=\"data row11 col2\" >0.71%</td>\n",
       "            </tr>\n",
       "            <tr>\n",
       "                                <td id=\"T_c1f37e02_8b68_11ea_83a7_701ce71031efrow12_col0\" class=\"data row12 col0\" >13</td>\n",
       "                        <td id=\"T_c1f37e02_8b68_11ea_83a7_701ce71031efrow12_col1\" class=\"data row12 col1\" >swift</td>\n",
       "                        <td id=\"T_c1f37e02_8b68_11ea_83a7_701ce71031efrow12_col2\" class=\"data row12 col2\" >0.60%</td>\n",
       "            </tr>\n",
       "            <tr>\n",
       "                                <td id=\"T_c1f37e02_8b68_11ea_83a7_701ce71031efrow13_col0\" class=\"data row13 col0\" >14</td>\n",
       "                        <td id=\"T_c1f37e02_8b68_11ea_83a7_701ce71031efrow13_col1\" class=\"data row13 col1\" >perl</td>\n",
       "                        <td id=\"T_c1f37e02_8b68_11ea_83a7_701ce71031efrow13_col2\" class=\"data row13 col2\" >0.60%</td>\n",
       "            </tr>\n",
       "            <tr>\n",
       "                                <td id=\"T_c1f37e02_8b68_11ea_83a7_701ce71031efrow14_col0\" class=\"data row14 col0\" >15</td>\n",
       "                        <td id=\"T_c1f37e02_8b68_11ea_83a7_701ce71031efrow14_col1\" class=\"data row14 col1\" >ruby</td>\n",
       "                        <td id=\"T_c1f37e02_8b68_11ea_83a7_701ce71031efrow14_col2\" class=\"data row14 col2\" >0.33%</td>\n",
       "            </tr>\n",
       "            <tr>\n",
       "                                <td id=\"T_c1f37e02_8b68_11ea_83a7_701ce71031efrow15_col0\" class=\"data row15 col0\" >16</td>\n",
       "                        <td id=\"T_c1f37e02_8b68_11ea_83a7_701ce71031efrow15_col1\" class=\"data row15 col1\" >kotlin</td>\n",
       "                        <td id=\"T_c1f37e02_8b68_11ea_83a7_701ce71031efrow15_col2\" class=\"data row15 col2\" >0.24%</td>\n",
       "            </tr>\n",
       "            <tr>\n",
       "                                <td id=\"T_c1f37e02_8b68_11ea_83a7_701ce71031efrow16_col0\" class=\"data row16 col0\" >17</td>\n",
       "                        <td id=\"T_c1f37e02_8b68_11ea_83a7_701ce71031efrow16_col1\" class=\"data row16 col1\" >delphi</td>\n",
       "                        <td id=\"T_c1f37e02_8b68_11ea_83a7_701ce71031efrow16_col2\" class=\"data row16 col2\" >0.23%</td>\n",
       "            </tr>\n",
       "            <tr>\n",
       "                                <td id=\"T_c1f37e02_8b68_11ea_83a7_701ce71031efrow17_col0\" class=\"data row17 col0\" >18</td>\n",
       "                        <td id=\"T_c1f37e02_8b68_11ea_83a7_701ce71031efrow17_col1\" class=\"data row17 col1\" >vba</td>\n",
       "                        <td id=\"T_c1f37e02_8b68_11ea_83a7_701ce71031efrow17_col2\" class=\"data row17 col2\" >0.11%</td>\n",
       "            </tr>\n",
       "            <tr>\n",
       "                                <td id=\"T_c1f37e02_8b68_11ea_83a7_701ce71031efrow18_col0\" class=\"data row18 col0\" >19</td>\n",
       "                        <td id=\"T_c1f37e02_8b68_11ea_83a7_701ce71031efrow18_col1\" class=\"data row18 col1\" >rust</td>\n",
       "                        <td id=\"T_c1f37e02_8b68_11ea_83a7_701ce71031efrow18_col2\" class=\"data row18 col2\" >0.10%</td>\n",
       "            </tr>\n",
       "            <tr>\n",
       "                                <td id=\"T_c1f37e02_8b68_11ea_83a7_701ce71031efrow19_col0\" class=\"data row19 col0\" >20</td>\n",
       "                        <td id=\"T_c1f37e02_8b68_11ea_83a7_701ce71031efrow19_col1\" class=\"data row19 col1\" >objective_c</td>\n",
       "                        <td id=\"T_c1f37e02_8b68_11ea_83a7_701ce71031efrow19_col2\" class=\"data row19 col2\" >0.05%</td>\n",
       "            </tr>\n",
       "            <tr>\n",
       "                                <td id=\"T_c1f37e02_8b68_11ea_83a7_701ce71031efrow20_col0\" class=\"data row20 col0\" >21</td>\n",
       "                        <td id=\"T_c1f37e02_8b68_11ea_83a7_701ce71031efrow20_col1\" class=\"data row20 col1\" >visual_basic</td>\n",
       "                        <td id=\"T_c1f37e02_8b68_11ea_83a7_701ce71031efrow20_col2\" class=\"data row20 col2\" >0.01%</td>\n",
       "            </tr>\n",
       "            <tr>\n",
       "                                <td id=\"T_c1f37e02_8b68_11ea_83a7_701ce71031efrow21_col0\" class=\"data row21 col0\" >22</td>\n",
       "                        <td id=\"T_c1f37e02_8b68_11ea_83a7_701ce71031efrow21_col1\" class=\"data row21 col1\" >haskell</td>\n",
       "                        <td id=\"T_c1f37e02_8b68_11ea_83a7_701ce71031efrow21_col2\" class=\"data row21 col2\" >0.01%</td>\n",
       "            </tr>\n",
       "            <tr>\n",
       "                                <td id=\"T_c1f37e02_8b68_11ea_83a7_701ce71031efrow22_col0\" class=\"data row22 col0\" >23</td>\n",
       "                        <td id=\"T_c1f37e02_8b68_11ea_83a7_701ce71031efrow22_col1\" class=\"data row22 col1\" >julia</td>\n",
       "                        <td id=\"T_c1f37e02_8b68_11ea_83a7_701ce71031efrow22_col2\" class=\"data row22 col2\" >0.00%</td>\n",
       "            </tr>\n",
       "    </tbody></table>"
      ],
      "text/plain": [
       "<pandas.io.formats.style.Styler at 0x25ed32119c8>"
      ]
     },
     "execution_count": 13,
     "metadata": {},
     "output_type": "execute_result"
    }
   ],
   "source": [
    "\n",
    "data_pl['rank']=list(range(1,24))\n",
    "data_pl=data_pl[['rank','pl_','percentage']]\n",
    "#data_pl.style.format({\"percentage\":\"{:.2%}\"})\n",
    "data_pl.style.hide_index().format({\"percentage\":\"{:.2%}\"})"
   ]
  },
  {
   "cell_type": "code",
   "execution_count": 14,
   "metadata": {},
   "outputs": [
    {
     "data": {
      "image/png": "[encoded data removed]",
      "text/plain": [
       "<Figure size 1080x648 with 1 Axes>"
      ]
     },
     "metadata": {},
     "output_type": "display_data"
    }
   ],
   "source": [
    "data_pl=data_pl.sort_values(by='percentage')\n",
    "\n",
    "# Pie chart, where the slices will be ordered and plotted counter-clockwise:\n",
    "labels = data_pl['pl_']\n",
    "sizes = data_pl['percentage']\n",
    "#explode = (0, 0.1, 0, 0)  # only \"explode\" the 2nd slice (i.e. 'Hogs')\n",
    "\n",
    "fig1, ax1 = plt.subplots(figsize=(15, 9))\n",
    "ax1.pie(sizes, labels=labels, autopct='%1.1f%%',\n",
    "        shadow=True, startangle=90)\n",
    "ax1.axis('equal')  # Equal aspect ratio ensures that pie is drawn as a circle.\n",
    "plt.title(f\"Programming Languages in China, {year}{month:02}\")\n",
    "plt.show()"
   ]
  },
  {
   "cell_type": "markdown",
   "metadata": {},
   "source": [
    "## Word Cloud"
   ]
  },
  {
   "cell_type": "code",
   "execution_count": null,
   "metadata": {},
   "outputs": [],
   "source": [
    "from wordcloud import WordCloud\n",
    "wc=WordCloud()\n",
    "wc_dict = {}\n",
    "for index, row in data_pl.iterrows():\n",
    "    wc_dict[row['pl_']]=row['percentage']\n",
    "\n",
    "\n",
    "wc=wc.generate_from_frequencies(wc_dict)"
   ]
  },
  {
   "cell_type": "code",
   "execution_count": null,
   "metadata": {},
   "outputs": [],
   "source": [
    "wc_dict['c/c++']=0.33\n",
    "wc=wc.generate_from_frequencies(wc_dict)"
   ]
  },
  {
   "cell_type": "code",
   "execution_count": null,
   "metadata": {},
   "outputs": [],
   "source": [
    "plt.figure(figsize=(10,6))\n",
    "plt.imshow(wc, interpolation=\"bilinear\")\n",
    "plt.axis(\"off\")\n",
    "plt.show()"
   ]
  },
  {
   "cell_type": "code",
   "execution_count": null,
   "metadata": {},
   "outputs": [],
   "source": [
    "print(f'{year}年{month}月')"
   ]
  },
  {
   "cell_type": "code",
   "execution_count": null,
   "metadata": {},
   "outputs": [],
   "source": []
  }
 ],
 "metadata": {
  "kernelspec": {
   "display_name": "Python 3",
   "language": "python",
   "name": "python3"
  },
  "language_info": {
   "codemirror_mode": {
    "name": "ipython",
    "version": 3
   },
   "file_extension": ".py",
   "mimetype": "text/x-python",
   "name": "python",
   "nbconvert_exporter": "python",
   "pygments_lexer": "ipython3",
   "version": "3.7.4"
  }
 },
 "nbformat": 4,
 "nbformat_minor": 4
}
