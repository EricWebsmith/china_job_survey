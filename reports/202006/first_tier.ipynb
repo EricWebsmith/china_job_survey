{
 "cells": [
  {
   "cell_type": "code",
   "execution_count": 1,
   "metadata": {},
   "outputs": [],
   "source": [
    "from config import *"
   ]
  },
  {
   "cell_type": "code",
   "execution_count": 2,
   "metadata": {},
   "outputs": [
    {
     "name": "stdout",
     "output_type": "stream",
     "text": [
      "2020年6月\n"
     ]
    }
   ],
   "source": [
    "print(f'{year}年{month}月')"
   ]
  },
  {
   "cell_type": "markdown",
   "metadata": {},
   "source": [
    "# Developer Salary in First-Tier Cities 程序员工资调查\n",
    "我在4月1日到3日之间，抓取了某招聘网站的软件和互联网类招聘数据40万条，其中通过程序判断为程序员的14万条。地域方面，我选择了24个主要城市。不过本文只以一线城市为研究对象。这样是为了和我2017年6月的数据做对比。\n",
    "\n",
    "提到2017年的文章，现在居然还有很多人，把这篇文章拿出来炒作。对于社会来说，可气的是，他们直接把2017改成2019，就发表了，这不是骗人么？！对于我来说，可气的是，他们转载居然还冒充是原创，是可忍熟不可忍！"
   ]
  },
  {
   "cell_type": "code",
   "execution_count": 3,
   "metadata": {},
   "outputs": [],
   "source": [
    "import pandas as pd\n",
    "import sys\n",
    "sys.path.append('..')\n",
    "sys.path.append('../py')\n",
    "sys.path.append('../../py')\n",
    "import db\n",
    "import inspect\n",
    "import matplotlib.pyplot as plt\n",
    "plt.rcParams['font.sans-serif']=['SimHei'] #用来正常显示中文标签\n",
    "plt.rcParams['axes.unicode_minus']=False #用来正常显示负号\n",
    "import seaborn as sns\n",
    "import scipy.stats as stats\n",
    "import numpy as np\n",
    "import weighted\n",
    "%matplotlib inline"
   ]
  },
  {
   "cell_type": "code",
   "execution_count": 4,
   "metadata": {},
   "outputs": [],
   "source": [
    "conn=db.get_conn()\n",
    "data_original=pd.read_sql(sql=f\"select * from _{year}{month:02} where monthly_salary>0 and city in ('北京','上海','广州','深圳')  and monthly_salary<80000\", con=conn)\n",
    "conn.close()"
   ]
  },
  {
   "cell_type": "code",
   "execution_count": 5,
   "metadata": {},
   "outputs": [],
   "source": [
    "data=data_original"
   ]
  },
  {
   "cell_type": "code",
   "execution_count": 6,
   "metadata": {},
   "outputs": [],
   "source": [
    "#del data['publish_date']\n",
    "#del data['published_on_weekend']\n",
    "#del data['title']\n",
    "#del data['title']\n",
    "#del data['company_title']\n",
    "#del data['company_description']\n",
    "#del data['job_description']\n",
    "#del data['job_id']"
   ]
  },
  {
   "cell_type": "code",
   "execution_count": 7,
   "metadata": {},
   "outputs": [
    {
     "data": {
      "text/html": [
       "<div>\n",
       "<style scoped>\n",
       "    .dataframe tbody tr th:only-of-type {\n",
       "        vertical-align: middle;\n",
       "    }\n",
       "\n",
       "    .dataframe tbody tr th {\n",
       "        vertical-align: top;\n",
       "    }\n",
       "\n",
       "    .dataframe thead th {\n",
       "        text-align: right;\n",
       "    }\n",
       "</style>\n",
       "<table border=\"1\" class=\"dataframe\">\n",
       "  <thead>\n",
       "    <tr style=\"text-align: right;\">\n",
       "      <th></th>\n",
       "      <th>job_id</th>\n",
       "      <th>monthly_salary</th>\n",
       "      <th>headcount</th>\n",
       "      <th>title</th>\n",
       "      <th>zhinengleibie</th>\n",
       "      <th>career</th>\n",
       "      <th>real_province</th>\n",
       "      <th>province</th>\n",
       "      <th>city</th>\n",
       "      <th>company_id</th>\n",
       "      <th>...</th>\n",
       "      <th>bd_hbase</th>\n",
       "      <th>bd_storm</th>\n",
       "      <th>bd_pig</th>\n",
       "      <th>bd_mahout</th>\n",
       "      <th>bd_impala</th>\n",
       "      <th>bd_yarn</th>\n",
       "      <th>bd_alluxio</th>\n",
       "      <th>bd_flink</th>\n",
       "      <th>bd_presto</th>\n",
       "      <th>bd_heron</th>\n",
       "    </tr>\n",
       "  </thead>\n",
       "  <tbody>\n",
       "    <tr>\n",
       "      <th>34170</th>\n",
       "      <td>121349025</td>\n",
       "      <td>17500</td>\n",
       "      <td>100</td>\n",
       "      <td>Java开发工程师</td>\n",
       "      <td>Java开发工程师</td>\n",
       "      <td>软件工程师</td>\n",
       "      <td>None</td>\n",
       "      <td>北京</td>\n",
       "      <td>北京</td>\n",
       "      <td>co5835770</td>\n",
       "      <td>...</td>\n",
       "      <td>False</td>\n",
       "      <td>False</td>\n",
       "      <td>False</td>\n",
       "      <td>False</td>\n",
       "      <td>False</td>\n",
       "      <td>False</td>\n",
       "      <td>False</td>\n",
       "      <td>False</td>\n",
       "      <td>False</td>\n",
       "      <td>False</td>\n",
       "    </tr>\n",
       "    <tr>\n",
       "      <th>15737</th>\n",
       "      <td>117792359</td>\n",
       "      <td>12500</td>\n",
       "      <td>100</td>\n",
       "      <td>Java中级软件工程师</td>\n",
       "      <td>软件工程师</td>\n",
       "      <td>软件工程师</td>\n",
       "      <td>None</td>\n",
       "      <td>北京</td>\n",
       "      <td>北京</td>\n",
       "      <td>co110997</td>\n",
       "      <td>...</td>\n",
       "      <td>False</td>\n",
       "      <td>False</td>\n",
       "      <td>False</td>\n",
       "      <td>False</td>\n",
       "      <td>False</td>\n",
       "      <td>False</td>\n",
       "      <td>False</td>\n",
       "      <td>False</td>\n",
       "      <td>False</td>\n",
       "      <td>False</td>\n",
       "    </tr>\n",
       "    <tr>\n",
       "      <th>34167</th>\n",
       "      <td>121349022</td>\n",
       "      <td>17500</td>\n",
       "      <td>100</td>\n",
       "      <td>Java开发工程师</td>\n",
       "      <td>Java开发工程师</td>\n",
       "      <td>软件工程师</td>\n",
       "      <td>None</td>\n",
       "      <td>上海</td>\n",
       "      <td>上海</td>\n",
       "      <td>co5835770</td>\n",
       "      <td>...</td>\n",
       "      <td>False</td>\n",
       "      <td>False</td>\n",
       "      <td>False</td>\n",
       "      <td>False</td>\n",
       "      <td>False</td>\n",
       "      <td>False</td>\n",
       "      <td>False</td>\n",
       "      <td>False</td>\n",
       "      <td>False</td>\n",
       "      <td>False</td>\n",
       "    </tr>\n",
       "    <tr>\n",
       "      <th>34168</th>\n",
       "      <td>121349023</td>\n",
       "      <td>17500</td>\n",
       "      <td>100</td>\n",
       "      <td>Java开发工程师</td>\n",
       "      <td>Java开发工程师</td>\n",
       "      <td>软件工程师</td>\n",
       "      <td>None</td>\n",
       "      <td>广东</td>\n",
       "      <td>深圳</td>\n",
       "      <td>co5835770</td>\n",
       "      <td>...</td>\n",
       "      <td>False</td>\n",
       "      <td>False</td>\n",
       "      <td>False</td>\n",
       "      <td>False</td>\n",
       "      <td>False</td>\n",
       "      <td>False</td>\n",
       "      <td>False</td>\n",
       "      <td>False</td>\n",
       "      <td>False</td>\n",
       "      <td>False</td>\n",
       "    </tr>\n",
       "    <tr>\n",
       "      <th>34169</th>\n",
       "      <td>121349024</td>\n",
       "      <td>17500</td>\n",
       "      <td>100</td>\n",
       "      <td>Java开发工程师</td>\n",
       "      <td>Java开发工程师</td>\n",
       "      <td>软件工程师</td>\n",
       "      <td>None</td>\n",
       "      <td>广东</td>\n",
       "      <td>广州</td>\n",
       "      <td>co5835770</td>\n",
       "      <td>...</td>\n",
       "      <td>False</td>\n",
       "      <td>False</td>\n",
       "      <td>False</td>\n",
       "      <td>False</td>\n",
       "      <td>False</td>\n",
       "      <td>False</td>\n",
       "      <td>False</td>\n",
       "      <td>False</td>\n",
       "      <td>False</td>\n",
       "      <td>False</td>\n",
       "    </tr>\n",
       "  </tbody>\n",
       "</table>\n",
       "<p>5 rows × 114 columns</p>\n",
       "</div>"
      ],
      "text/plain": [
       "          job_id  monthly_salary  headcount        title zhinengleibie career  \\\n",
       "34170  121349025           17500        100    Java开发工程师     Java开发工程师  软件工程师   \n",
       "15737  117792359           12500        100  Java中级软件工程师         软件工程师  软件工程师   \n",
       "34167  121349022           17500        100    Java开发工程师     Java开发工程师  软件工程师   \n",
       "34168  121349023           17500        100    Java开发工程师     Java开发工程师  软件工程师   \n",
       "34169  121349024           17500        100    Java开发工程师     Java开发工程师  软件工程师   \n",
       "\n",
       "      real_province province city company_id  ... bd_hbase bd_storm  bd_pig  \\\n",
       "34170          None       北京   北京  co5835770  ...    False    False   False   \n",
       "15737          None       北京   北京   co110997  ...    False    False   False   \n",
       "34167          None       上海   上海  co5835770  ...    False    False   False   \n",
       "34168          None       广东   深圳  co5835770  ...    False    False   False   \n",
       "34169          None       广东   广州  co5835770  ...    False    False   False   \n",
       "\n",
       "      bd_mahout  bd_impala  bd_yarn bd_alluxio bd_flink bd_presto bd_heron  \n",
       "34170     False      False    False      False    False     False    False  \n",
       "15737     False      False    False      False    False     False    False  \n",
       "34167     False      False    False      False    False     False    False  \n",
       "34168     False      False    False      False    False     False    False  \n",
       "34169     False      False    False      False    False     False    False  \n",
       "\n",
       "[5 rows x 114 columns]"
      ]
     },
     "execution_count": 7,
     "metadata": {},
     "output_type": "execute_result"
    }
   ],
   "source": [
    "data=data.sort_values(by='headcount', ascending=False)\n",
    "data.head()"
   ]
  },
  {
   "cell_type": "code",
   "execution_count": 8,
   "metadata": {},
   "outputs": [],
   "source": [
    "def pd_weighted_mean(group, avg_name, weight_name):\n",
    "    \"\"\" http://stackoverflow.com/questions/10951341/pandas-dataframe-aggregate-function-using-multiple-columns\n",
    "    In rare instance, we may not have weights, so just return the mean. Customize this if your business case\n",
    "    should return otherwise.\n",
    "    \"\"\"\n",
    "    d = group[avg_name]\n",
    "    w = group[weight_name]\n",
    "    try:\n",
    "        return (d * w).sum() / w.sum()\n",
    "    except ZeroDivisionError:\n",
    "        return d.mean()\n"
   ]
  },
  {
   "cell_type": "markdown",
   "metadata": {},
   "source": [
    "# Unilateral Stats 总体统计"
   ]
  },
  {
   "cell_type": "markdown",
   "metadata": {},
   "source": [
    "有数据可知，程序员向一线城市集中的趋势非常明显。\n",
    "\n",
    "According to the statistics, significant amount of developers are in the first tier cities."
   ]
  },
  {
   "cell_type": "code",
   "execution_count": 9,
   "metadata": {},
   "outputs": [
    {
     "data": {
      "text/plain": [
       "(51255, 114)"
      ]
     },
     "execution_count": 9,
     "metadata": {},
     "output_type": "execute_result"
    }
   ],
   "source": [
    "data.shape"
   ]
  },
  {
   "cell_type": "code",
   "execution_count": 10,
   "metadata": {},
   "outputs": [
    {
     "data": {
      "text/plain": [
       "150049"
      ]
     },
     "execution_count": 10,
     "metadata": {},
     "output_type": "execute_result"
    }
   ],
   "source": [
    "data.headcount.sum()"
   ]
  },
  {
   "cell_type": "code",
   "execution_count": 11,
   "metadata": {},
   "outputs": [
    {
     "data": {
      "text/plain": [
       "array([ 6500., 12000., 15000., 20000., 37500.])"
      ]
     },
     "execution_count": 11,
     "metadata": {},
     "output_type": "execute_result"
    }
   ],
   "source": [
    "salary_mean=weighted.weighted_mean(data.monthly_salary.values, data.headcount.values)\n",
    "q=weighted.weighted_quantile(data.monthly_salary.values,[0.025,0.25,0.5,0.75,0.975], data.headcount.values)\n",
    "q"
   ]
  },
  {
   "cell_type": "code",
   "execution_count": 12,
   "metadata": {},
   "outputs": [
    {
     "name": "stdout",
     "output_type": "stream",
     "text": [
      "2020年6月中国一线城市程序员的平均工资为16855元，工资中位数为15000元，其中95%的人的工资位于6500到37500元之间。\n"
     ]
    }
   ],
   "source": [
    "print(f'{year}年{month}月中国一线城市程序员的平均工资为{salary_mean:.0f}元，工资中位数为{q[2]:.0f}元，其中95%的人的工资位于{q[0]:.0f}到{q[4]:.0f}元之间。')"
   ]
  },
  {
   "cell_type": "code",
   "execution_count": 13,
   "metadata": {},
   "outputs": [
    {
     "name": "stdout",
     "output_type": "stream",
     "text": [
      "In 2020, Developers in China earn 16855 Yuan as average, the median is 15000 Yuan, 95% of them earn between 6500 and 37500 Yuan.\n"
     ]
    }
   ],
   "source": [
    "print(f'In {year}, Developers in China earn {salary_mean:.0f} Yuan as average, '\n",
    "      f'the median is {q[2]:.0f} Yuan, 95% of them earn between {q[0]:.0f} and {q[4]:.0f} Yuan.')"
   ]
  },
  {
   "cell_type": "code",
   "execution_count": 14,
   "metadata": {},
   "outputs": [
    {
     "data": {
      "image/png": "[encoded data removed]",
      "text/plain": [
       "<Figure size 432x288 with 1 Axes>"
      ]
     },
     "metadata": {
      "needs_background": "light"
     },
     "output_type": "display_data"
    }
   ],
   "source": [
    "data.monthly_salary.hist()\n",
    "plt.show()"
   ]
  },
  {
   "cell_type": "markdown",
   "metadata": {},
   "source": [
    "It does not look like normal distribution."
   ]
  },
  {
   "cell_type": "code",
   "execution_count": 15,
   "metadata": {},
   "outputs": [],
   "source": [
    "from scipy import stats"
   ]
  },
  {
   "cell_type": "code",
   "execution_count": 16,
   "metadata": {},
   "outputs": [
    {
     "data": {
      "text/plain": [
       "NormaltestResult(statistic=18466.939918883647, pvalue=0.0)"
      ]
     },
     "execution_count": 16,
     "metadata": {},
     "output_type": "execute_result"
    }
   ],
   "source": [
    "stats.normaltest(data.monthly_salary)"
   ]
  },
  {
   "cell_type": "markdown",
   "metadata": {},
   "source": [
    "null hypothesis: x comes from a normal distribution\n",
    "    \n",
    "p=0\n",
    "\n",
    "The null hypothesis can be rejected\n",
    "\n",
    "conclusion: data is not normally distributed."
   ]
  },
  {
   "cell_type": "markdown",
   "metadata": {},
   "source": [
    "Zoom in"
   ]
  },
  {
   "cell_type": "code",
   "execution_count": 17,
   "metadata": {},
   "outputs": [
    {
     "data": {
      "image/png": "[encoded data removed]",
      "text/plain": [
       "<Figure size 432x288 with 1 Axes>"
      ]
     },
     "metadata": {
      "needs_background": "light"
     },
     "output_type": "display_data"
    }
   ],
   "source": [
    "data[data.monthly_salary<40000].monthly_salary.hist()\n",
    "plt.annotate('https://github.com/juwikuang/job_survey', xy=(0,0), xytext=(2000, 100), color='white')\n",
    "plt.show()"
   ]
  },
  {
   "cell_type": "markdown",
   "metadata": {},
   "source": [
    "## Role 角色"
   ]
  },
  {
   "cell_type": "code",
   "execution_count": 18,
   "metadata": {},
   "outputs": [],
   "source": [
    "#Common Functions\n",
    "def get_sub_stats_by_col(data, col):\n",
    "    categories=data[col].unique()\n",
    "    salary_mean=[]\n",
    "    salary_95_min=[]\n",
    "    salary_95_max=[]\n",
    "    salary_median=[]\n",
    "    \n",
    "\n",
    "    count=[]\n",
    "    \n",
    "    categorys_out=[]\n",
    "    for category in categories:\n",
    "        #print(feature)\n",
    "        idata=data[data[col]==category]\n",
    "        headcount=idata.headcount.sum()\n",
    "        values = idata.monthly_salary.values\n",
    "        weights = idata.headcount.values\n",
    "        #print(str(headcount))\n",
    "        if headcount==0:\n",
    "            continue\n",
    "        \n",
    "        salary_mean.append(np.average(values, weights=weights))\n",
    "        \n",
    "\n",
    "        q = weighted.weighted_quantile(values,[0.025,0.5,0.975],weights)\n",
    "        salary_95_min.append(q[0])\n",
    "        salary_median.append(q[1])\n",
    "        salary_95_max.append(q[2])\n",
    "        count.append(idata.headcount.sum())\n",
    "        categorys_out.append(category)\n",
    "    sub_data=pd.DataFrame()\n",
    "    sub_data[col]=[c for c in categorys_out]\n",
    "    sub_data['salary_mean']=salary_mean\n",
    "    sub_data['salary_95_min']=salary_95_min\n",
    "    sub_data['salary_median']=salary_median\n",
    "    sub_data['salary_95_max']=salary_95_max\n",
    "    sub_data['head_count']=count\n",
    "    sub_data['percentage']=count/np.sum(count)\n",
    "    sub_data=sub_data.sort_values(by='salary_mean', ascending=False)\n",
    "\n",
    "    return sub_data\n",
    "\n",
    "def get_sub_stats_by_prefix(data, prefix):\n",
    "    \n",
    "    features = [feature for feature in data.columns if feature.startswith(prefix)]\n",
    "    salary_mean=[]\n",
    "    salary_median=[]\n",
    "    salary_95_min=[]\n",
    "    salary_95_max=[]\n",
    "    count=[]\n",
    "    \n",
    "    features_out=[]\n",
    "    for feature in features:\n",
    "        #print(feature)\n",
    "        idata=data[data[feature]==1]\n",
    "        headcount=idata.headcount.sum()\n",
    "        values = idata.monthly_salary.values\n",
    "        weights = idata.headcount.values\n",
    "        #print(str(headcount))\n",
    "        if headcount==0:\n",
    "            continue\n",
    "        \n",
    "        salary_mean.append(weighted.weighted_mean(values, weights))\n",
    "        q = weighted.weighted_quantile(values,[0.025,0.5,0.975],weights)\n",
    "        salary_median.append(q[1])\n",
    "        salary_95_min.append(q[0])\n",
    "        salary_95_max.append(q[2])\n",
    "        count.append(idata.headcount.sum())\n",
    "        features_out.append(feature)\n",
    "    sub_data=pd.DataFrame()\n",
    "    sub_data['rank']=range(0,len(features_out))\n",
    "    sub_data[prefix]=[f.replace(prefix,'') for f in features_out]\n",
    "    sub_data['salary_mean']=salary_mean\n",
    "    sub_data['salary_median']=salary_median\n",
    "    sub_data['salary_95_min']=salary_95_min\n",
    "    sub_data['salary_95_max']=salary_95_max\n",
    "    sub_data['head_count']=count\n",
    "    sub_data['percentage']=count/np.sum(count)\n",
    "    sub_data=sub_data.sort_values(by='salary_mean', ascending=False)\n",
    "    sub_data['rank']=range(1,len(features_out)+1)\n",
    "    #sub_data=sub_data.reset_index()\n",
    "    return sub_data\n",
    "\n",
    "def apply_style(sub_data):\n",
    "    return sub_data.style.hide_index().format(\n",
    "    {\"salary_mean\":\"{:.0f}\",\"salary_median\":\"{:.0f}\",\"salary_95_min\":\"{:.0f}\",\"salary_95_max\":\"{:.0f}\",\"percentage\":\"{:.2%}\"})"
   ]
  },
  {
   "cell_type": "code",
   "execution_count": 19,
   "metadata": {},
   "outputs": [
    {
     "data": {
      "text/html": [
       "<style  type=\"text/css\" >\n",
       "</style><table id=\"T_3d8c44de_a4c5_11ea_adc1_701ce71031ef\" ><thead>    <tr>        <th class=\"blank level0\" ></th>        <th class=\"col_heading level0 col0\" >career</th>        <th class=\"col_heading level0 col1\" >salary_mean</th>        <th class=\"col_heading level0 col2\" >salary_95_min</th>        <th class=\"col_heading level0 col3\" >salary_median</th>        <th class=\"col_heading level0 col4\" >salary_95_max</th>        <th class=\"col_heading level0 col5\" >head_count</th>        <th class=\"col_heading level0 col6\" >percentage</th>    </tr></thead><tbody>\n",
       "                <tr>\n",
       "                        <th id=\"T_3d8c44de_a4c5_11ea_adc1_701ce71031eflevel0_row0\" class=\"row_heading level0 row0\" >46</th>\n",
       "                        <td id=\"T_3d8c44de_a4c5_11ea_adc1_701ce71031efrow0_col0\" class=\"data row0 col0\" >敏捷教练</td>\n",
       "                        <td id=\"T_3d8c44de_a4c5_11ea_adc1_701ce71031efrow0_col1\" class=\"data row0 col1\" >45000</td>\n",
       "                        <td id=\"T_3d8c44de_a4c5_11ea_adc1_701ce71031efrow0_col2\" class=\"data row0 col2\" >45000.000000</td>\n",
       "                        <td id=\"T_3d8c44de_a4c5_11ea_adc1_701ce71031efrow0_col3\" class=\"data row0 col3\" >45000</td>\n",
       "                        <td id=\"T_3d8c44de_a4c5_11ea_adc1_701ce71031efrow0_col4\" class=\"data row0 col4\" >45000.000000</td>\n",
       "                        <td id=\"T_3d8c44de_a4c5_11ea_adc1_701ce71031efrow0_col5\" class=\"data row0 col5\" >10</td>\n",
       "                        <td id=\"T_3d8c44de_a4c5_11ea_adc1_701ce71031efrow0_col6\" class=\"data row0 col6\" >0.01%</td>\n",
       "            </tr>\n",
       "            <tr>\n",
       "                        <th id=\"T_3d8c44de_a4c5_11ea_adc1_701ce71031eflevel0_row1\" class=\"row_heading level0 row1\" >40</th>\n",
       "                        <td id=\"T_3d8c44de_a4c5_11ea_adc1_701ce71031efrow1_col0\" class=\"data row1 col0\" >推荐算法工程师</td>\n",
       "                        <td id=\"T_3d8c44de_a4c5_11ea_adc1_701ce71031efrow1_col1\" class=\"data row1 col1\" >37967</td>\n",
       "                        <td id=\"T_3d8c44de_a4c5_11ea_adc1_701ce71031efrow1_col2\" class=\"data row1 col2\" >22500.000000</td>\n",
       "                        <td id=\"T_3d8c44de_a4c5_11ea_adc1_701ce71031efrow1_col3\" class=\"data row1 col3\" >32944</td>\n",
       "                        <td id=\"T_3d8c44de_a4c5_11ea_adc1_701ce71031efrow1_col4\" class=\"data row1 col4\" >65000.000000</td>\n",
       "                        <td id=\"T_3d8c44de_a4c5_11ea_adc1_701ce71031efrow1_col5\" class=\"data row1 col5\" >95</td>\n",
       "                        <td id=\"T_3d8c44de_a4c5_11ea_adc1_701ce71031efrow1_col6\" class=\"data row1 col6\" >0.06%</td>\n",
       "            </tr>\n",
       "            <tr>\n",
       "                        <th id=\"T_3d8c44de_a4c5_11ea_adc1_701ce71031eflevel0_row2\" class=\"row_heading level0 row2\" >54</th>\n",
       "                        <td id=\"T_3d8c44de_a4c5_11ea_adc1_701ce71031efrow2_col0\" class=\"data row2 col0\" >CTO</td>\n",
       "                        <td id=\"T_3d8c44de_a4c5_11ea_adc1_701ce71031efrow2_col1\" class=\"data row2 col1\" >36042</td>\n",
       "                        <td id=\"T_3d8c44de_a4c5_11ea_adc1_701ce71031efrow2_col2\" class=\"data row2 col2\" >14375.000000</td>\n",
       "                        <td id=\"T_3d8c44de_a4c5_11ea_adc1_701ce71031efrow2_col3\" class=\"data row2 col3\" >37083</td>\n",
       "                        <td id=\"T_3d8c44de_a4c5_11ea_adc1_701ce71031efrow2_col4\" class=\"data row2 col4\" >68562.400000</td>\n",
       "                        <td id=\"T_3d8c44de_a4c5_11ea_adc1_701ce71031efrow2_col5\" class=\"data row2 col5\" >26</td>\n",
       "                        <td id=\"T_3d8c44de_a4c5_11ea_adc1_701ce71031efrow2_col6\" class=\"data row2 col6\" >0.02%</td>\n",
       "            </tr>\n",
       "            <tr>\n",
       "                        <th id=\"T_3d8c44de_a4c5_11ea_adc1_701ce71031eflevel0_row3\" class=\"row_heading level0 row3\" >57</th>\n",
       "                        <td id=\"T_3d8c44de_a4c5_11ea_adc1_701ce71031efrow3_col0\" class=\"data row3 col0\" >反作弊算法工程师</td>\n",
       "                        <td id=\"T_3d8c44de_a4c5_11ea_adc1_701ce71031efrow3_col1\" class=\"data row3 col1\" >35062</td>\n",
       "                        <td id=\"T_3d8c44de_a4c5_11ea_adc1_701ce71031efrow3_col2\" class=\"data row3 col2\" >13000.000000</td>\n",
       "                        <td id=\"T_3d8c44de_a4c5_11ea_adc1_701ce71031efrow3_col3\" class=\"data row3 col3\" >37857</td>\n",
       "                        <td id=\"T_3d8c44de_a4c5_11ea_adc1_701ce71031efrow3_col4\" class=\"data row3 col4\" >40000.000000</td>\n",
       "                        <td id=\"T_3d8c44de_a4c5_11ea_adc1_701ce71031efrow3_col5\" class=\"data row3 col5\" >8</td>\n",
       "                        <td id=\"T_3d8c44de_a4c5_11ea_adc1_701ce71031efrow3_col6\" class=\"data row3 col6\" >0.01%</td>\n",
       "            </tr>\n",
       "            <tr>\n",
       "                        <th id=\"T_3d8c44de_a4c5_11ea_adc1_701ce71031eflevel0_row4\" class=\"row_heading level0 row4\" >49</th>\n",
       "                        <td id=\"T_3d8c44de_a4c5_11ea_adc1_701ce71031efrow4_col0\" class=\"data row4 col0\" >搜索算法工程师</td>\n",
       "                        <td id=\"T_3d8c44de_a4c5_11ea_adc1_701ce71031efrow4_col1\" class=\"data row4 col1\" >32545</td>\n",
       "                        <td id=\"T_3d8c44de_a4c5_11ea_adc1_701ce71031efrow4_col2\" class=\"data row4 col2\" >4725.000000</td>\n",
       "                        <td id=\"T_3d8c44de_a4c5_11ea_adc1_701ce71031efrow4_col3\" class=\"data row4 col3\" >25000</td>\n",
       "                        <td id=\"T_3d8c44de_a4c5_11ea_adc1_701ce71031efrow4_col4\" class=\"data row4 col4\" >75000.000000</td>\n",
       "                        <td id=\"T_3d8c44de_a4c5_11ea_adc1_701ce71031efrow4_col5\" class=\"data row4 col5\" >66</td>\n",
       "                        <td id=\"T_3d8c44de_a4c5_11ea_adc1_701ce71031efrow4_col6\" class=\"data row4 col6\" >0.04%</td>\n",
       "            </tr>\n",
       "            <tr>\n",
       "                        <th id=\"T_3d8c44de_a4c5_11ea_adc1_701ce71031eflevel0_row5\" class=\"row_heading level0 row5\" >50</th>\n",
       "                        <td id=\"T_3d8c44de_a4c5_11ea_adc1_701ce71031efrow5_col0\" class=\"data row5 col0\" >芯片</td>\n",
       "                        <td id=\"T_3d8c44de_a4c5_11ea_adc1_701ce71031efrow5_col1\" class=\"data row5 col1\" >31464</td>\n",
       "                        <td id=\"T_3d8c44de_a4c5_11ea_adc1_701ce71031efrow5_col2\" class=\"data row5 col2\" >9587.500000</td>\n",
       "                        <td id=\"T_3d8c44de_a4c5_11ea_adc1_701ce71031efrow5_col3\" class=\"data row5 col3\" >27500</td>\n",
       "                        <td id=\"T_3d8c44de_a4c5_11ea_adc1_701ce71031efrow5_col4\" class=\"data row5 col4\" >62500.000000</td>\n",
       "                        <td id=\"T_3d8c44de_a4c5_11ea_adc1_701ce71031efrow5_col5\" class=\"data row5 col5\" >88</td>\n",
       "                        <td id=\"T_3d8c44de_a4c5_11ea_adc1_701ce71031efrow5_col6\" class=\"data row5 col6\" >0.06%</td>\n",
       "            </tr>\n",
       "            <tr>\n",
       "                        <th id=\"T_3d8c44de_a4c5_11ea_adc1_701ce71031eflevel0_row6\" class=\"row_heading level0 row6\" >53</th>\n",
       "                        <td id=\"T_3d8c44de_a4c5_11ea_adc1_701ce71031efrow6_col0\" class=\"data row6 col0\" >编译器开发工程师</td>\n",
       "                        <td id=\"T_3d8c44de_a4c5_11ea_adc1_701ce71031efrow6_col1\" class=\"data row6 col1\" >31358</td>\n",
       "                        <td id=\"T_3d8c44de_a4c5_11ea_adc1_701ce71031efrow6_col2\" class=\"data row6 col2\" >18000.000000</td>\n",
       "                        <td id=\"T_3d8c44de_a4c5_11ea_adc1_701ce71031efrow6_col3\" class=\"data row6 col3\" >31250</td>\n",
       "                        <td id=\"T_3d8c44de_a4c5_11ea_adc1_701ce71031efrow6_col4\" class=\"data row6 col4\" >42500.000000</td>\n",
       "                        <td id=\"T_3d8c44de_a4c5_11ea_adc1_701ce71031efrow6_col5\" class=\"data row6 col5\" >20</td>\n",
       "                        <td id=\"T_3d8c44de_a4c5_11ea_adc1_701ce71031efrow6_col6\" class=\"data row6 col6\" >0.01%</td>\n",
       "            </tr>\n",
       "            <tr>\n",
       "                        <th id=\"T_3d8c44de_a4c5_11ea_adc1_701ce71031eflevel0_row7\" class=\"row_heading level0 row7\" >52</th>\n",
       "                        <td id=\"T_3d8c44de_a4c5_11ea_adc1_701ce71031efrow7_col0\" class=\"data row7 col0\" >数据科学家</td>\n",
       "                        <td id=\"T_3d8c44de_a4c5_11ea_adc1_701ce71031efrow7_col1\" class=\"data row7 col1\" >30205</td>\n",
       "                        <td id=\"T_3d8c44de_a4c5_11ea_adc1_701ce71031efrow7_col2\" class=\"data row7 col2\" >4479.166667</td>\n",
       "                        <td id=\"T_3d8c44de_a4c5_11ea_adc1_701ce71031efrow7_col3\" class=\"data row7 col3\" >28750</td>\n",
       "                        <td id=\"T_3d8c44de_a4c5_11ea_adc1_701ce71031efrow7_col4\" class=\"data row7 col4\" >74652.750000</td>\n",
       "                        <td id=\"T_3d8c44de_a4c5_11ea_adc1_701ce71031efrow7_col5\" class=\"data row7 col5\" >110</td>\n",
       "                        <td id=\"T_3d8c44de_a4c5_11ea_adc1_701ce71031efrow7_col6\" class=\"data row7 col6\" >0.07%</td>\n",
       "            </tr>\n",
       "            <tr>\n",
       "                        <th id=\"T_3d8c44de_a4c5_11ea_adc1_701ce71031eflevel0_row8\" class=\"row_heading level0 row8\" >6</th>\n",
       "                        <td id=\"T_3d8c44de_a4c5_11ea_adc1_701ce71031efrow8_col0\" class=\"data row8 col0\" >架构师</td>\n",
       "                        <td id=\"T_3d8c44de_a4c5_11ea_adc1_701ce71031efrow8_col1\" class=\"data row8 col1\" >29593</td>\n",
       "                        <td id=\"T_3d8c44de_a4c5_11ea_adc1_701ce71031efrow8_col2\" class=\"data row8 col2\" >11670.000000</td>\n",
       "                        <td id=\"T_3d8c44de_a4c5_11ea_adc1_701ce71031efrow8_col3\" class=\"data row8 col3\" >29000</td>\n",
       "                        <td id=\"T_3d8c44de_a4c5_11ea_adc1_701ce71031efrow8_col4\" class=\"data row8 col4\" >55000.000000</td>\n",
       "                        <td id=\"T_3d8c44de_a4c5_11ea_adc1_701ce71031efrow8_col5\" class=\"data row8 col5\" >3888</td>\n",
       "                        <td id=\"T_3d8c44de_a4c5_11ea_adc1_701ce71031efrow8_col6\" class=\"data row8 col6\" >2.59%</td>\n",
       "            </tr>\n",
       "            <tr>\n",
       "                        <th id=\"T_3d8c44de_a4c5_11ea_adc1_701ce71031eflevel0_row9\" class=\"row_heading level0 row9\" >55</th>\n",
       "                        <td id=\"T_3d8c44de_a4c5_11ea_adc1_701ce71031efrow9_col0\" class=\"data row9 col0\" >SLAM</td>\n",
       "                        <td id=\"T_3d8c44de_a4c5_11ea_adc1_701ce71031efrow9_col1\" class=\"data row9 col1\" >26583</td>\n",
       "                        <td id=\"T_3d8c44de_a4c5_11ea_adc1_701ce71031efrow9_col2\" class=\"data row9 col2\" >12500.000000</td>\n",
       "                        <td id=\"T_3d8c44de_a4c5_11ea_adc1_701ce71031efrow9_col3\" class=\"data row9 col3\" >29250</td>\n",
       "                        <td id=\"T_3d8c44de_a4c5_11ea_adc1_701ce71031efrow9_col4\" class=\"data row9 col4\" >30000.000000</td>\n",
       "                        <td id=\"T_3d8c44de_a4c5_11ea_adc1_701ce71031efrow9_col5\" class=\"data row9 col5\" >18</td>\n",
       "                        <td id=\"T_3d8c44de_a4c5_11ea_adc1_701ce71031efrow9_col6\" class=\"data row9 col6\" >0.01%</td>\n",
       "            </tr>\n",
       "            <tr>\n",
       "                        <th id=\"T_3d8c44de_a4c5_11ea_adc1_701ce71031eflevel0_row10\" class=\"row_heading level0 row10\" >28</th>\n",
       "                        <td id=\"T_3d8c44de_a4c5_11ea_adc1_701ce71031efrow10_col0\" class=\"data row10 col0\" >深度学习工程师</td>\n",
       "                        <td id=\"T_3d8c44de_a4c5_11ea_adc1_701ce71031efrow10_col1\" class=\"data row10 col1\" >26039</td>\n",
       "                        <td id=\"T_3d8c44de_a4c5_11ea_adc1_701ce71031efrow10_col2\" class=\"data row10 col2\" >7000.000000</td>\n",
       "                        <td id=\"T_3d8c44de_a4c5_11ea_adc1_701ce71031efrow10_col3\" class=\"data row10 col3\" >25000</td>\n",
       "                        <td id=\"T_3d8c44de_a4c5_11ea_adc1_701ce71031efrow10_col4\" class=\"data row10 col4\" >59583.250000</td>\n",
       "                        <td id=\"T_3d8c44de_a4c5_11ea_adc1_701ce71031efrow10_col5\" class=\"data row10 col5\" >315</td>\n",
       "                        <td id=\"T_3d8c44de_a4c5_11ea_adc1_701ce71031efrow10_col6\" class=\"data row10 col6\" >0.21%</td>\n",
       "            </tr>\n",
       "            <tr>\n",
       "                        <th id=\"T_3d8c44de_a4c5_11ea_adc1_701ce71031eflevel0_row11\" class=\"row_heading level0 row11\" >29</th>\n",
       "                        <td id=\"T_3d8c44de_a4c5_11ea_adc1_701ce71031efrow11_col0\" class=\"data row11 col0\" >自然语言处理（NLP）</td>\n",
       "                        <td id=\"T_3d8c44de_a4c5_11ea_adc1_701ce71031efrow11_col1\" class=\"data row11 col1\" >25878</td>\n",
       "                        <td id=\"T_3d8c44de_a4c5_11ea_adc1_701ce71031efrow11_col2\" class=\"data row11 col2\" >9000.000000</td>\n",
       "                        <td id=\"T_3d8c44de_a4c5_11ea_adc1_701ce71031efrow11_col3\" class=\"data row11 col3\" >25000</td>\n",
       "                        <td id=\"T_3d8c44de_a4c5_11ea_adc1_701ce71031efrow11_col4\" class=\"data row11 col4\" >60000.000000</td>\n",
       "                        <td id=\"T_3d8c44de_a4c5_11ea_adc1_701ce71031efrow11_col5\" class=\"data row11 col5\" >312</td>\n",
       "                        <td id=\"T_3d8c44de_a4c5_11ea_adc1_701ce71031efrow11_col6\" class=\"data row11 col6\" >0.21%</td>\n",
       "            </tr>\n",
       "            <tr>\n",
       "                        <th id=\"T_3d8c44de_a4c5_11ea_adc1_701ce71031eflevel0_row12\" class=\"row_heading level0 row12\" >8</th>\n",
       "                        <td id=\"T_3d8c44de_a4c5_11ea_adc1_701ce71031efrow12_col0\" class=\"data row12 col0\" >系统架构设计师</td>\n",
       "                        <td id=\"T_3d8c44de_a4c5_11ea_adc1_701ce71031efrow12_col1\" class=\"data row12 col1\" >25588</td>\n",
       "                        <td id=\"T_3d8c44de_a4c5_11ea_adc1_701ce71031efrow12_col2\" class=\"data row12 col2\" >7000.000000</td>\n",
       "                        <td id=\"T_3d8c44de_a4c5_11ea_adc1_701ce71031efrow12_col3\" class=\"data row12 col3\" >23550</td>\n",
       "                        <td id=\"T_3d8c44de_a4c5_11ea_adc1_701ce71031efrow12_col4\" class=\"data row12 col4\" >50000.000000</td>\n",
       "                        <td id=\"T_3d8c44de_a4c5_11ea_adc1_701ce71031efrow12_col5\" class=\"data row12 col5\" >700</td>\n",
       "                        <td id=\"T_3d8c44de_a4c5_11ea_adc1_701ce71031efrow12_col6\" class=\"data row12 col6\" >0.47%</td>\n",
       "            </tr>\n",
       "            <tr>\n",
       "                        <th id=\"T_3d8c44de_a4c5_11ea_adc1_701ce71031eflevel0_row13\" class=\"row_heading level0 row13\" >33</th>\n",
       "                        <td id=\"T_3d8c44de_a4c5_11ea_adc1_701ce71031efrow13_col0\" class=\"data row13 col0\" >机器学习</td>\n",
       "                        <td id=\"T_3d8c44de_a4c5_11ea_adc1_701ce71031efrow13_col1\" class=\"data row13 col1\" >25459</td>\n",
       "                        <td id=\"T_3d8c44de_a4c5_11ea_adc1_701ce71031efrow13_col2\" class=\"data row13 col2\" >7000.000000</td>\n",
       "                        <td id=\"T_3d8c44de_a4c5_11ea_adc1_701ce71031efrow13_col3\" class=\"data row13 col3\" >22500</td>\n",
       "                        <td id=\"T_3d8c44de_a4c5_11ea_adc1_701ce71031efrow13_col4\" class=\"data row13 col4\" >51277.666667</td>\n",
       "                        <td id=\"T_3d8c44de_a4c5_11ea_adc1_701ce71031efrow13_col5\" class=\"data row13 col5\" >340</td>\n",
       "                        <td id=\"T_3d8c44de_a4c5_11ea_adc1_701ce71031efrow13_col6\" class=\"data row13 col6\" >0.23%</td>\n",
       "            </tr>\n",
       "            <tr>\n",
       "                        <th id=\"T_3d8c44de_a4c5_11ea_adc1_701ce71031eflevel0_row14\" class=\"row_heading level0 row14\" >17</th>\n",
       "                        <td id=\"T_3d8c44de_a4c5_11ea_adc1_701ce71031efrow14_col0\" class=\"data row14 col0\" >算法工程师</td>\n",
       "                        <td id=\"T_3d8c44de_a4c5_11ea_adc1_701ce71031efrow14_col1\" class=\"data row14 col1\" >23225</td>\n",
       "                        <td id=\"T_3d8c44de_a4c5_11ea_adc1_701ce71031efrow14_col2\" class=\"data row14 col2\" >9000.000000</td>\n",
       "                        <td id=\"T_3d8c44de_a4c5_11ea_adc1_701ce71031efrow14_col3\" class=\"data row14 col3\" >22500</td>\n",
       "                        <td id=\"T_3d8c44de_a4c5_11ea_adc1_701ce71031efrow14_col4\" class=\"data row14 col4\" >45000.000000</td>\n",
       "                        <td id=\"T_3d8c44de_a4c5_11ea_adc1_701ce71031efrow14_col5\" class=\"data row14 col5\" >4529</td>\n",
       "                        <td id=\"T_3d8c44de_a4c5_11ea_adc1_701ce71031efrow14_col6\" class=\"data row14 col6\" >3.02%</td>\n",
       "            </tr>\n",
       "            <tr>\n",
       "                        <th id=\"T_3d8c44de_a4c5_11ea_adc1_701ce71031eflevel0_row15\" class=\"row_heading level0 row15\" >36</th>\n",
       "                        <td id=\"T_3d8c44de_a4c5_11ea_adc1_701ce71031efrow15_col0\" class=\"data row15 col0\" >图像算法工程师</td>\n",
       "                        <td id=\"T_3d8c44de_a4c5_11ea_adc1_701ce71031efrow15_col1\" class=\"data row15 col1\" >22773</td>\n",
       "                        <td id=\"T_3d8c44de_a4c5_11ea_adc1_701ce71031efrow15_col2\" class=\"data row15 col2\" >9000.000000</td>\n",
       "                        <td id=\"T_3d8c44de_a4c5_11ea_adc1_701ce71031efrow15_col3\" class=\"data row15 col3\" >22500</td>\n",
       "                        <td id=\"T_3d8c44de_a4c5_11ea_adc1_701ce71031efrow15_col4\" class=\"data row15 col4\" >45000.000000</td>\n",
       "                        <td id=\"T_3d8c44de_a4c5_11ea_adc1_701ce71031efrow15_col5\" class=\"data row15 col5\" >765</td>\n",
       "                        <td id=\"T_3d8c44de_a4c5_11ea_adc1_701ce71031efrow15_col6\" class=\"data row15 col6\" >0.51%</td>\n",
       "            </tr>\n",
       "            <tr>\n",
       "                        <th id=\"T_3d8c44de_a4c5_11ea_adc1_701ce71031eflevel0_row16\" class=\"row_heading level0 row16\" >5</th>\n",
       "                        <td id=\"T_3d8c44de_a4c5_11ea_adc1_701ce71031efrow16_col0\" class=\"data row16 col0\" >区块链开发</td>\n",
       "                        <td id=\"T_3d8c44de_a4c5_11ea_adc1_701ce71031efrow16_col1\" class=\"data row16 col1\" >21230</td>\n",
       "                        <td id=\"T_3d8c44de_a4c5_11ea_adc1_701ce71031efrow16_col2\" class=\"data row16 col2\" >9250.000000</td>\n",
       "                        <td id=\"T_3d8c44de_a4c5_11ea_adc1_701ce71031efrow16_col3\" class=\"data row16 col3\" >17500</td>\n",
       "                        <td id=\"T_3d8c44de_a4c5_11ea_adc1_701ce71031efrow16_col4\" class=\"data row16 col4\" >45000.000000</td>\n",
       "                        <td id=\"T_3d8c44de_a4c5_11ea_adc1_701ce71031efrow16_col5\" class=\"data row16 col5\" >480</td>\n",
       "                        <td id=\"T_3d8c44de_a4c5_11ea_adc1_701ce71031efrow16_col6\" class=\"data row16 col6\" >0.32%</td>\n",
       "            </tr>\n",
       "            <tr>\n",
       "                        <th id=\"T_3d8c44de_a4c5_11ea_adc1_701ce71031eflevel0_row17\" class=\"row_heading level0 row17\" >48</th>\n",
       "                        <td id=\"T_3d8c44de_a4c5_11ea_adc1_701ce71031efrow17_col0\" class=\"data row17 col0\" >ADAS</td>\n",
       "                        <td id=\"T_3d8c44de_a4c5_11ea_adc1_701ce71031efrow17_col1\" class=\"data row17 col1\" >20446</td>\n",
       "                        <td id=\"T_3d8c44de_a4c5_11ea_adc1_701ce71031efrow17_col2\" class=\"data row17 col2\" >12500.000000</td>\n",
       "                        <td id=\"T_3d8c44de_a4c5_11ea_adc1_701ce71031efrow17_col3\" class=\"data row17 col3\" >19000</td>\n",
       "                        <td id=\"T_3d8c44de_a4c5_11ea_adc1_701ce71031efrow17_col4\" class=\"data row17 col4\" >30000.000000</td>\n",
       "                        <td id=\"T_3d8c44de_a4c5_11ea_adc1_701ce71031efrow17_col5\" class=\"data row17 col5\" >43</td>\n",
       "                        <td id=\"T_3d8c44de_a4c5_11ea_adc1_701ce71031efrow17_col6\" class=\"data row17 col6\" >0.03%</td>\n",
       "            </tr>\n",
       "            <tr>\n",
       "                        <th id=\"T_3d8c44de_a4c5_11ea_adc1_701ce71031eflevel0_row18\" class=\"row_heading level0 row18\" >23</th>\n",
       "                        <td id=\"T_3d8c44de_a4c5_11ea_adc1_701ce71031efrow18_col0\" class=\"data row18 col0\" >分布式</td>\n",
       "                        <td id=\"T_3d8c44de_a4c5_11ea_adc1_701ce71031efrow18_col1\" class=\"data row18 col1\" >19964</td>\n",
       "                        <td id=\"T_3d8c44de_a4c5_11ea_adc1_701ce71031efrow18_col2\" class=\"data row18 col2\" >9427.500000</td>\n",
       "                        <td id=\"T_3d8c44de_a4c5_11ea_adc1_701ce71031efrow18_col3\" class=\"data row18 col3\" >17833</td>\n",
       "                        <td id=\"T_3d8c44de_a4c5_11ea_adc1_701ce71031efrow18_col4\" class=\"data row18 col4\" >39362.500000</td>\n",
       "                        <td id=\"T_3d8c44de_a4c5_11ea_adc1_701ce71031efrow18_col5\" class=\"data row18 col5\" >97</td>\n",
       "                        <td id=\"T_3d8c44de_a4c5_11ea_adc1_701ce71031efrow18_col6\" class=\"data row18 col6\" >0.06%</td>\n",
       "            </tr>\n",
       "            <tr>\n",
       "                        <th id=\"T_3d8c44de_a4c5_11ea_adc1_701ce71031eflevel0_row19\" class=\"row_heading level0 row19\" >30</th>\n",
       "                        <td id=\"T_3d8c44de_a4c5_11ea_adc1_701ce71031efrow19_col0\" class=\"data row19 col0\" >技术主管</td>\n",
       "                        <td id=\"T_3d8c44de_a4c5_11ea_adc1_701ce71031efrow19_col1\" class=\"data row19 col1\" >19858</td>\n",
       "                        <td id=\"T_3d8c44de_a4c5_11ea_adc1_701ce71031efrow19_col2\" class=\"data row19 col2\" >7000.000000</td>\n",
       "                        <td id=\"T_3d8c44de_a4c5_11ea_adc1_701ce71031efrow19_col3\" class=\"data row19 col3\" >17500</td>\n",
       "                        <td id=\"T_3d8c44de_a4c5_11ea_adc1_701ce71031efrow19_col4\" class=\"data row19 col4\" >60000.000000</td>\n",
       "                        <td id=\"T_3d8c44de_a4c5_11ea_adc1_701ce71031efrow19_col5\" class=\"data row19 col5\" >993</td>\n",
       "                        <td id=\"T_3d8c44de_a4c5_11ea_adc1_701ce71031efrow19_col6\" class=\"data row19 col6\" >0.66%</td>\n",
       "            </tr>\n",
       "            <tr>\n",
       "                        <th id=\"T_3d8c44de_a4c5_11ea_adc1_701ce71031eflevel0_row20\" class=\"row_heading level0 row20\" >19</th>\n",
       "                        <td id=\"T_3d8c44de_a4c5_11ea_adc1_701ce71031efrow20_col0\" class=\"data row20 col0\" >Hadoop工程师</td>\n",
       "                        <td id=\"T_3d8c44de_a4c5_11ea_adc1_701ce71031efrow20_col1\" class=\"data row20 col1\" >19771</td>\n",
       "                        <td id=\"T_3d8c44de_a4c5_11ea_adc1_701ce71031efrow20_col2\" class=\"data row20 col2\" >7562.500000</td>\n",
       "                        <td id=\"T_3d8c44de_a4c5_11ea_adc1_701ce71031efrow20_col3\" class=\"data row20 col3\" >17500</td>\n",
       "                        <td id=\"T_3d8c44de_a4c5_11ea_adc1_701ce71031efrow20_col4\" class=\"data row20 col4\" >44066.666667</td>\n",
       "                        <td id=\"T_3d8c44de_a4c5_11ea_adc1_701ce71031efrow20_col5\" class=\"data row20 col5\" >1410</td>\n",
       "                        <td id=\"T_3d8c44de_a4c5_11ea_adc1_701ce71031efrow20_col6\" class=\"data row20 col6\" >0.94%</td>\n",
       "            </tr>\n",
       "            <tr>\n",
       "                        <th id=\"T_3d8c44de_a4c5_11ea_adc1_701ce71031eflevel0_row21\" class=\"row_heading level0 row21\" >32</th>\n",
       "                        <td id=\"T_3d8c44de_a4c5_11ea_adc1_701ce71031efrow21_col0\" class=\"data row21 col0\" >Unity3d开发工程师</td>\n",
       "                        <td id=\"T_3d8c44de_a4c5_11ea_adc1_701ce71031efrow21_col1\" class=\"data row21 col1\" >19595</td>\n",
       "                        <td id=\"T_3d8c44de_a4c5_11ea_adc1_701ce71031efrow21_col2\" class=\"data row21 col2\" >7000.000000</td>\n",
       "                        <td id=\"T_3d8c44de_a4c5_11ea_adc1_701ce71031efrow21_col3\" class=\"data row21 col3\" >17000</td>\n",
       "                        <td id=\"T_3d8c44de_a4c5_11ea_adc1_701ce71031efrow21_col4\" class=\"data row21 col4\" >45000.000000</td>\n",
       "                        <td id=\"T_3d8c44de_a4c5_11ea_adc1_701ce71031efrow21_col5\" class=\"data row21 col5\" >638</td>\n",
       "                        <td id=\"T_3d8c44de_a4c5_11ea_adc1_701ce71031efrow21_col6\" class=\"data row21 col6\" >0.43%</td>\n",
       "            </tr>\n",
       "            <tr>\n",
       "                        <th id=\"T_3d8c44de_a4c5_11ea_adc1_701ce71031eflevel0_row22\" class=\"row_heading level0 row22\" >21</th>\n",
       "                        <td id=\"T_3d8c44de_a4c5_11ea_adc1_701ce71031efrow22_col0\" class=\"data row22 col0\" >游戏客户端开发工程师</td>\n",
       "                        <td id=\"T_3d8c44de_a4c5_11ea_adc1_701ce71031efrow22_col1\" class=\"data row22 col1\" >19479</td>\n",
       "                        <td id=\"T_3d8c44de_a4c5_11ea_adc1_701ce71031efrow22_col2\" class=\"data row22 col2\" >7000.000000</td>\n",
       "                        <td id=\"T_3d8c44de_a4c5_11ea_adc1_701ce71031efrow22_col3\" class=\"data row22 col3\" >17500</td>\n",
       "                        <td id=\"T_3d8c44de_a4c5_11ea_adc1_701ce71031efrow22_col4\" class=\"data row22 col4\" >41937.500000</td>\n",
       "                        <td id=\"T_3d8c44de_a4c5_11ea_adc1_701ce71031efrow22_col5\" class=\"data row22 col5\" >1798</td>\n",
       "                        <td id=\"T_3d8c44de_a4c5_11ea_adc1_701ce71031efrow22_col6\" class=\"data row22 col6\" >1.20%</td>\n",
       "            </tr>\n",
       "            <tr>\n",
       "                        <th id=\"T_3d8c44de_a4c5_11ea_adc1_701ce71031eflevel0_row23\" class=\"row_heading level0 row23\" >24</th>\n",
       "                        <td id=\"T_3d8c44de_a4c5_11ea_adc1_701ce71031efrow23_col0\" class=\"data row23 col0\" >驱动工程师</td>\n",
       "                        <td id=\"T_3d8c44de_a4c5_11ea_adc1_701ce71031efrow23_col1\" class=\"data row23 col1\" >19374</td>\n",
       "                        <td id=\"T_3d8c44de_a4c5_11ea_adc1_701ce71031efrow23_col2\" class=\"data row23 col2\" >8000.000000</td>\n",
       "                        <td id=\"T_3d8c44de_a4c5_11ea_adc1_701ce71031efrow23_col3\" class=\"data row23 col3\" >19000</td>\n",
       "                        <td id=\"T_3d8c44de_a4c5_11ea_adc1_701ce71031efrow23_col4\" class=\"data row23 col4\" >37500.000000</td>\n",
       "                        <td id=\"T_3d8c44de_a4c5_11ea_adc1_701ce71031efrow23_col5\" class=\"data row23 col5\" >1578</td>\n",
       "                        <td id=\"T_3d8c44de_a4c5_11ea_adc1_701ce71031efrow23_col6\" class=\"data row23 col6\" >1.05%</td>\n",
       "            </tr>\n",
       "            <tr>\n",
       "                        <th id=\"T_3d8c44de_a4c5_11ea_adc1_701ce71031eflevel0_row24\" class=\"row_heading level0 row24\" >41</th>\n",
       "                        <td id=\"T_3d8c44de_a4c5_11ea_adc1_701ce71031efrow24_col0\" class=\"data row24 col0\" >DSP</td>\n",
       "                        <td id=\"T_3d8c44de_a4c5_11ea_adc1_701ce71031efrow24_col1\" class=\"data row24 col1\" >19329</td>\n",
       "                        <td id=\"T_3d8c44de_a4c5_11ea_adc1_701ce71031efrow24_col2\" class=\"data row24 col2\" >7000.000000</td>\n",
       "                        <td id=\"T_3d8c44de_a4c5_11ea_adc1_701ce71031efrow24_col3\" class=\"data row24 col3\" >17500</td>\n",
       "                        <td id=\"T_3d8c44de_a4c5_11ea_adc1_701ce71031efrow24_col4\" class=\"data row24 col4\" >47833.160000</td>\n",
       "                        <td id=\"T_3d8c44de_a4c5_11ea_adc1_701ce71031efrow24_col5\" class=\"data row24 col5\" >204</td>\n",
       "                        <td id=\"T_3d8c44de_a4c5_11ea_adc1_701ce71031efrow24_col6\" class=\"data row24 col6\" >0.14%</td>\n",
       "            </tr>\n",
       "            <tr>\n",
       "                        <th id=\"T_3d8c44de_a4c5_11ea_adc1_701ce71031eflevel0_row25\" class=\"row_heading level0 row25\" >9</th>\n",
       "                        <td id=\"T_3d8c44de_a4c5_11ea_adc1_701ce71031efrow25_col0\" class=\"data row25 col0\" >游戏服务端开发工程师</td>\n",
       "                        <td id=\"T_3d8c44de_a4c5_11ea_adc1_701ce71031efrow25_col1\" class=\"data row25 col1\" >19096</td>\n",
       "                        <td id=\"T_3d8c44de_a4c5_11ea_adc1_701ce71031efrow25_col2\" class=\"data row25 col2\" >7500.000000</td>\n",
       "                        <td id=\"T_3d8c44de_a4c5_11ea_adc1_701ce71031efrow25_col3\" class=\"data row25 col3\" >17500</td>\n",
       "                        <td id=\"T_3d8c44de_a4c5_11ea_adc1_701ce71031efrow25_col4\" class=\"data row25 col4\" >35239.200000</td>\n",
       "                        <td id=\"T_3d8c44de_a4c5_11ea_adc1_701ce71031efrow25_col5\" class=\"data row25 col5\" >1191</td>\n",
       "                        <td id=\"T_3d8c44de_a4c5_11ea_adc1_701ce71031efrow25_col6\" class=\"data row25 col6\" >0.79%</td>\n",
       "            </tr>\n",
       "            <tr>\n",
       "                        <th id=\"T_3d8c44de_a4c5_11ea_adc1_701ce71031eflevel0_row26\" class=\"row_heading level0 row26\" >3</th>\n",
       "                        <td id=\"T_3d8c44de_a4c5_11ea_adc1_701ce71031efrow26_col0\" class=\"data row26 col0\" >大数据</td>\n",
       "                        <td id=\"T_3d8c44de_a4c5_11ea_adc1_701ce71031efrow26_col1\" class=\"data row26 col1\" >18939</td>\n",
       "                        <td id=\"T_3d8c44de_a4c5_11ea_adc1_701ce71031efrow26_col2\" class=\"data row26 col2\" >9000.000000</td>\n",
       "                        <td id=\"T_3d8c44de_a4c5_11ea_adc1_701ce71031efrow26_col3\" class=\"data row26 col3\" >17500</td>\n",
       "                        <td id=\"T_3d8c44de_a4c5_11ea_adc1_701ce71031efrow26_col4\" class=\"data row26 col4\" >37500.000000</td>\n",
       "                        <td id=\"T_3d8c44de_a4c5_11ea_adc1_701ce71031efrow26_col5\" class=\"data row26 col5\" >2818</td>\n",
       "                        <td id=\"T_3d8c44de_a4c5_11ea_adc1_701ce71031efrow26_col6\" class=\"data row26 col6\" >1.88%</td>\n",
       "            </tr>\n",
       "            <tr>\n",
       "                        <th id=\"T_3d8c44de_a4c5_11ea_adc1_701ce71031eflevel0_row27\" class=\"row_heading level0 row27\" >38</th>\n",
       "                        <td id=\"T_3d8c44de_a4c5_11ea_adc1_701ce71031efrow27_col0\" class=\"data row27 col0\" >图像处理工程师</td>\n",
       "                        <td id=\"T_3d8c44de_a4c5_11ea_adc1_701ce71031efrow27_col1\" class=\"data row27 col1\" >18919</td>\n",
       "                        <td id=\"T_3d8c44de_a4c5_11ea_adc1_701ce71031efrow27_col2\" class=\"data row27 col2\" >4525.000000</td>\n",
       "                        <td id=\"T_3d8c44de_a4c5_11ea_adc1_701ce71031efrow27_col3\" class=\"data row27 col3\" >17500</td>\n",
       "                        <td id=\"T_3d8c44de_a4c5_11ea_adc1_701ce71031efrow27_col4\" class=\"data row27 col4\" >45000.000000</td>\n",
       "                        <td id=\"T_3d8c44de_a4c5_11ea_adc1_701ce71031efrow27_col5\" class=\"data row27 col5\" >403</td>\n",
       "                        <td id=\"T_3d8c44de_a4c5_11ea_adc1_701ce71031efrow27_col6\" class=\"data row27 col6\" >0.27%</td>\n",
       "            </tr>\n",
       "            <tr>\n",
       "                        <th id=\"T_3d8c44de_a4c5_11ea_adc1_701ce71031eflevel0_row28\" class=\"row_heading level0 row28\" >16</th>\n",
       "                        <td id=\"T_3d8c44de_a4c5_11ea_adc1_701ce71031efrow28_col0\" class=\"data row28 col0\" >移动开发工程师</td>\n",
       "                        <td id=\"T_3d8c44de_a4c5_11ea_adc1_701ce71031efrow28_col1\" class=\"data row28 col1\" >18651</td>\n",
       "                        <td id=\"T_3d8c44de_a4c5_11ea_adc1_701ce71031efrow28_col2\" class=\"data row28 col2\" >5652.500000</td>\n",
       "                        <td id=\"T_3d8c44de_a4c5_11ea_adc1_701ce71031efrow28_col3\" class=\"data row28 col3\" >15500</td>\n",
       "                        <td id=\"T_3d8c44de_a4c5_11ea_adc1_701ce71031efrow28_col4\" class=\"data row28 col4\" >39562.500000</td>\n",
       "                        <td id=\"T_3d8c44de_a4c5_11ea_adc1_701ce71031efrow28_col5\" class=\"data row28 col5\" >1521</td>\n",
       "                        <td id=\"T_3d8c44de_a4c5_11ea_adc1_701ce71031efrow28_col6\" class=\"data row28 col6\" >1.01%</td>\n",
       "            </tr>\n",
       "            <tr>\n",
       "                        <th id=\"T_3d8c44de_a4c5_11ea_adc1_701ce71031eflevel0_row29\" class=\"row_heading level0 row29\" >44</th>\n",
       "                        <td id=\"T_3d8c44de_a4c5_11ea_adc1_701ce71031efrow29_col0\" class=\"data row29 col0\" >Cocos2d-x开发工程师</td>\n",
       "                        <td id=\"T_3d8c44de_a4c5_11ea_adc1_701ce71031efrow29_col1\" class=\"data row29 col1\" >18475</td>\n",
       "                        <td id=\"T_3d8c44de_a4c5_11ea_adc1_701ce71031efrow29_col2\" class=\"data row29 col2\" >10131.878571</td>\n",
       "                        <td id=\"T_3d8c44de_a4c5_11ea_adc1_701ce71031efrow29_col3\" class=\"data row29 col3\" >15000</td>\n",
       "                        <td id=\"T_3d8c44de_a4c5_11ea_adc1_701ce71031efrow29_col4\" class=\"data row29 col4\" >40000.000000</td>\n",
       "                        <td id=\"T_3d8c44de_a4c5_11ea_adc1_701ce71031efrow29_col5\" class=\"data row29 col5\" >217</td>\n",
       "                        <td id=\"T_3d8c44de_a4c5_11ea_adc1_701ce71031efrow29_col6\" class=\"data row29 col6\" >0.14%</td>\n",
       "            </tr>\n",
       "            <tr>\n",
       "                        <th id=\"T_3d8c44de_a4c5_11ea_adc1_701ce71031eflevel0_row30\" class=\"row_heading level0 row30\" >14</th>\n",
       "                        <td id=\"T_3d8c44de_a4c5_11ea_adc1_701ce71031efrow30_col0\" class=\"data row30 col0\" >游戏开发工程师</td>\n",
       "                        <td id=\"T_3d8c44de_a4c5_11ea_adc1_701ce71031efrow30_col1\" class=\"data row30 col1\" >17887</td>\n",
       "                        <td id=\"T_3d8c44de_a4c5_11ea_adc1_701ce71031efrow30_col2\" class=\"data row30 col2\" >5051.250000</td>\n",
       "                        <td id=\"T_3d8c44de_a4c5_11ea_adc1_701ce71031efrow30_col3\" class=\"data row30 col3\" >15000</td>\n",
       "                        <td id=\"T_3d8c44de_a4c5_11ea_adc1_701ce71031efrow30_col4\" class=\"data row30 col4\" >46987.500000</td>\n",
       "                        <td id=\"T_3d8c44de_a4c5_11ea_adc1_701ce71031efrow30_col5\" class=\"data row30 col5\" >1141</td>\n",
       "                        <td id=\"T_3d8c44de_a4c5_11ea_adc1_701ce71031efrow30_col6\" class=\"data row30 col6\" >0.76%</td>\n",
       "            </tr>\n",
       "            <tr>\n",
       "                        <th id=\"T_3d8c44de_a4c5_11ea_adc1_701ce71031eflevel0_row31\" class=\"row_heading level0 row31\" >12</th>\n",
       "                        <td id=\"T_3d8c44de_a4c5_11ea_adc1_701ce71031efrow31_col0\" class=\"data row31 col0\" >人工智能</td>\n",
       "                        <td id=\"T_3d8c44de_a4c5_11ea_adc1_701ce71031efrow31_col1\" class=\"data row31 col1\" >17824</td>\n",
       "                        <td id=\"T_3d8c44de_a4c5_11ea_adc1_701ce71031efrow31_col2\" class=\"data row31 col2\" >5250.000000</td>\n",
       "                        <td id=\"T_3d8c44de_a4c5_11ea_adc1_701ce71031efrow31_col3\" class=\"data row31 col3\" >17500</td>\n",
       "                        <td id=\"T_3d8c44de_a4c5_11ea_adc1_701ce71031efrow31_col4\" class=\"data row31 col4\" >40000.000000</td>\n",
       "                        <td id=\"T_3d8c44de_a4c5_11ea_adc1_701ce71031efrow31_col5\" class=\"data row31 col5\" >647</td>\n",
       "                        <td id=\"T_3d8c44de_a4c5_11ea_adc1_701ce71031efrow31_col6\" class=\"data row31 col6\" >0.43%</td>\n",
       "            </tr>\n",
       "            <tr>\n",
       "                        <th id=\"T_3d8c44de_a4c5_11ea_adc1_701ce71031eflevel0_row32\" class=\"row_heading level0 row32\" >45</th>\n",
       "                        <td id=\"T_3d8c44de_a4c5_11ea_adc1_701ce71031efrow32_col0\" class=\"data row32 col0\" >机器人</td>\n",
       "                        <td id=\"T_3d8c44de_a4c5_11ea_adc1_701ce71031efrow32_col1\" class=\"data row32 col1\" >17355</td>\n",
       "                        <td id=\"T_3d8c44de_a4c5_11ea_adc1_701ce71031efrow32_col2\" class=\"data row32 col2\" >6000.000000</td>\n",
       "                        <td id=\"T_3d8c44de_a4c5_11ea_adc1_701ce71031efrow32_col3\" class=\"data row32 col3\" >17500</td>\n",
       "                        <td id=\"T_3d8c44de_a4c5_11ea_adc1_701ce71031efrow32_col4\" class=\"data row32 col4\" >39937.500000</td>\n",
       "                        <td id=\"T_3d8c44de_a4c5_11ea_adc1_701ce71031efrow32_col5\" class=\"data row32 col5\" >181</td>\n",
       "                        <td id=\"T_3d8c44de_a4c5_11ea_adc1_701ce71031efrow32_col6\" class=\"data row32 col6\" >0.12%</td>\n",
       "            </tr>\n",
       "            <tr>\n",
       "                        <th id=\"T_3d8c44de_a4c5_11ea_adc1_701ce71031eflevel0_row33\" class=\"row_heading level0 row33\" >13</th>\n",
       "                        <td id=\"T_3d8c44de_a4c5_11ea_adc1_701ce71031efrow33_col0\" class=\"data row33 col0\" >iOS开发工程师</td>\n",
       "                        <td id=\"T_3d8c44de_a4c5_11ea_adc1_701ce71031efrow33_col1\" class=\"data row33 col1\" >17187</td>\n",
       "                        <td id=\"T_3d8c44de_a4c5_11ea_adc1_701ce71031efrow33_col2\" class=\"data row33 col2\" >7000.000000</td>\n",
       "                        <td id=\"T_3d8c44de_a4c5_11ea_adc1_701ce71031efrow33_col3\" class=\"data row33 col3\" >15000</td>\n",
       "                        <td id=\"T_3d8c44de_a4c5_11ea_adc1_701ce71031efrow33_col4\" class=\"data row33 col4\" >37983.333333</td>\n",
       "                        <td id=\"T_3d8c44de_a4c5_11ea_adc1_701ce71031efrow33_col5\" class=\"data row33 col5\" >1022</td>\n",
       "                        <td id=\"T_3d8c44de_a4c5_11ea_adc1_701ce71031efrow33_col6\" class=\"data row33 col6\" >0.68%</td>\n",
       "            </tr>\n",
       "            <tr>\n",
       "                        <th id=\"T_3d8c44de_a4c5_11ea_adc1_701ce71031eflevel0_row34\" class=\"row_heading level0 row34\" >26</th>\n",
       "                        <td id=\"T_3d8c44de_a4c5_11ea_adc1_701ce71031efrow34_col0\" class=\"data row34 col0\" >Unity3D</td>\n",
       "                        <td id=\"T_3d8c44de_a4c5_11ea_adc1_701ce71031efrow34_col1\" class=\"data row34 col1\" >16864</td>\n",
       "                        <td id=\"T_3d8c44de_a4c5_11ea_adc1_701ce71031efrow34_col2\" class=\"data row34 col2\" >6500.000000</td>\n",
       "                        <td id=\"T_3d8c44de_a4c5_11ea_adc1_701ce71031efrow34_col3\" class=\"data row34 col3\" >15000</td>\n",
       "                        <td id=\"T_3d8c44de_a4c5_11ea_adc1_701ce71031efrow34_col4\" class=\"data row34 col4\" >34681.250000</td>\n",
       "                        <td id=\"T_3d8c44de_a4c5_11ea_adc1_701ce71031efrow34_col5\" class=\"data row34 col5\" >951</td>\n",
       "                        <td id=\"T_3d8c44de_a4c5_11ea_adc1_701ce71031efrow34_col6\" class=\"data row34 col6\" >0.63%</td>\n",
       "            </tr>\n",
       "            <tr>\n",
       "                        <th id=\"T_3d8c44de_a4c5_11ea_adc1_701ce71031eflevel0_row35\" class=\"row_heading level0 row35\" >37</th>\n",
       "                        <td id=\"T_3d8c44de_a4c5_11ea_adc1_701ce71031efrow35_col0\" class=\"data row35 col0\" >视觉软件工程师</td>\n",
       "                        <td id=\"T_3d8c44de_a4c5_11ea_adc1_701ce71031efrow35_col1\" class=\"data row35 col1\" >16485</td>\n",
       "                        <td id=\"T_3d8c44de_a4c5_11ea_adc1_701ce71031efrow35_col2\" class=\"data row35 col2\" >8862.500000</td>\n",
       "                        <td id=\"T_3d8c44de_a4c5_11ea_adc1_701ce71031efrow35_col3\" class=\"data row35 col3\" >15000</td>\n",
       "                        <td id=\"T_3d8c44de_a4c5_11ea_adc1_701ce71031efrow35_col4\" class=\"data row35 col4\" >30000.000000</td>\n",
       "                        <td id=\"T_3d8c44de_a4c5_11ea_adc1_701ce71031efrow35_col5\" class=\"data row35 col5\" >189</td>\n",
       "                        <td id=\"T_3d8c44de_a4c5_11ea_adc1_701ce71031efrow35_col6\" class=\"data row35 col6\" >0.13%</td>\n",
       "            </tr>\n",
       "            <tr>\n",
       "                        <th id=\"T_3d8c44de_a4c5_11ea_adc1_701ce71031eflevel0_row36\" class=\"row_heading level0 row36\" >2</th>\n",
       "                        <td id=\"T_3d8c44de_a4c5_11ea_adc1_701ce71031efrow36_col0\" class=\"data row36 col0\" >Android开发工程师</td>\n",
       "                        <td id=\"T_3d8c44de_a4c5_11ea_adc1_701ce71031efrow36_col1\" class=\"data row36 col1\" >16476</td>\n",
       "                        <td id=\"T_3d8c44de_a4c5_11ea_adc1_701ce71031efrow36_col2\" class=\"data row36 col2\" >7000.000000</td>\n",
       "                        <td id=\"T_3d8c44de_a4c5_11ea_adc1_701ce71031efrow36_col3\" class=\"data row36 col3\" >15000</td>\n",
       "                        <td id=\"T_3d8c44de_a4c5_11ea_adc1_701ce71031efrow36_col4\" class=\"data row36 col4\" >37500.000000</td>\n",
       "                        <td id=\"T_3d8c44de_a4c5_11ea_adc1_701ce71031efrow36_col5\" class=\"data row36 col5\" >7698</td>\n",
       "                        <td id=\"T_3d8c44de_a4c5_11ea_adc1_701ce71031efrow36_col6\" class=\"data row36 col6\" >5.13%</td>\n",
       "            </tr>\n",
       "            <tr>\n",
       "                        <th id=\"T_3d8c44de_a4c5_11ea_adc1_701ce71031eflevel0_row37\" class=\"row_heading level0 row37\" >25</th>\n",
       "                        <td id=\"T_3d8c44de_a4c5_11ea_adc1_701ce71031efrow37_col0\" class=\"data row37 col0\" >图像识别工程师</td>\n",
       "                        <td id=\"T_3d8c44de_a4c5_11ea_adc1_701ce71031efrow37_col1\" class=\"data row37 col1\" >16309</td>\n",
       "                        <td id=\"T_3d8c44de_a4c5_11ea_adc1_701ce71031efrow37_col2\" class=\"data row37 col2\" >3750.000000</td>\n",
       "                        <td id=\"T_3d8c44de_a4c5_11ea_adc1_701ce71031efrow37_col3\" class=\"data row37 col3\" >16875</td>\n",
       "                        <td id=\"T_3d8c44de_a4c5_11ea_adc1_701ce71031efrow37_col4\" class=\"data row37 col4\" >35000.000000</td>\n",
       "                        <td id=\"T_3d8c44de_a4c5_11ea_adc1_701ce71031efrow37_col5\" class=\"data row37 col5\" >66</td>\n",
       "                        <td id=\"T_3d8c44de_a4c5_11ea_adc1_701ce71031efrow37_col6\" class=\"data row37 col6\" >0.04%</td>\n",
       "            </tr>\n",
       "            <tr>\n",
       "                        <th id=\"T_3d8c44de_a4c5_11ea_adc1_701ce71031eflevel0_row38\" class=\"row_heading level0 row38\" >0</th>\n",
       "                        <td id=\"T_3d8c44de_a4c5_11ea_adc1_701ce71031efrow38_col0\" class=\"data row38 col0\" >软件工程师</td>\n",
       "                        <td id=\"T_3d8c44de_a4c5_11ea_adc1_701ce71031efrow38_col1\" class=\"data row38 col1\" >16036</td>\n",
       "                        <td id=\"T_3d8c44de_a4c5_11ea_adc1_701ce71031efrow38_col2\" class=\"data row38 col2\" >7000.000000</td>\n",
       "                        <td id=\"T_3d8c44de_a4c5_11ea_adc1_701ce71031efrow38_col3\" class=\"data row38 col3\" >15000</td>\n",
       "                        <td id=\"T_3d8c44de_a4c5_11ea_adc1_701ce71031efrow38_col4\" class=\"data row38 col4\" >37500.000000</td>\n",
       "                        <td id=\"T_3d8c44de_a4c5_11ea_adc1_701ce71031efrow38_col5\" class=\"data row38 col5\" >89646</td>\n",
       "                        <td id=\"T_3d8c44de_a4c5_11ea_adc1_701ce71031efrow38_col6\" class=\"data row38 col6\" >59.74%</td>\n",
       "            </tr>\n",
       "            <tr>\n",
       "                        <th id=\"T_3d8c44de_a4c5_11ea_adc1_701ce71031eflevel0_row39\" class=\"row_heading level0 row39\" >11</th>\n",
       "                        <td id=\"T_3d8c44de_a4c5_11ea_adc1_701ce71031efrow39_col0\" class=\"data row39 col0\" >嵌入式软件开发</td>\n",
       "                        <td id=\"T_3d8c44de_a4c5_11ea_adc1_701ce71031efrow39_col1\" class=\"data row39 col1\" >15711</td>\n",
       "                        <td id=\"T_3d8c44de_a4c5_11ea_adc1_701ce71031efrow39_col2\" class=\"data row39 col2\" >6000.000000</td>\n",
       "                        <td id=\"T_3d8c44de_a4c5_11ea_adc1_701ce71031efrow39_col3\" class=\"data row39 col3\" >14000</td>\n",
       "                        <td id=\"T_3d8c44de_a4c5_11ea_adc1_701ce71031efrow39_col4\" class=\"data row39 col4\" >35000.000000</td>\n",
       "                        <td id=\"T_3d8c44de_a4c5_11ea_adc1_701ce71031efrow39_col5\" class=\"data row39 col5\" >3326</td>\n",
       "                        <td id=\"T_3d8c44de_a4c5_11ea_adc1_701ce71031efrow39_col6\" class=\"data row39 col6\" >2.22%</td>\n",
       "            </tr>\n",
       "            <tr>\n",
       "                        <th id=\"T_3d8c44de_a4c5_11ea_adc1_701ce71031eflevel0_row40\" class=\"row_heading level0 row40\" >47</th>\n",
       "                        <td id=\"T_3d8c44de_a4c5_11ea_adc1_701ce71031efrow40_col0\" class=\"data row40 col0\" >CAE</td>\n",
       "                        <td id=\"T_3d8c44de_a4c5_11ea_adc1_701ce71031efrow40_col1\" class=\"data row40 col1\" >15109</td>\n",
       "                        <td id=\"T_3d8c44de_a4c5_11ea_adc1_701ce71031efrow40_col2\" class=\"data row40 col2\" >2366.071429</td>\n",
       "                        <td id=\"T_3d8c44de_a4c5_11ea_adc1_701ce71031efrow40_col3\" class=\"data row40 col3\" >14857</td>\n",
       "                        <td id=\"T_3d8c44de_a4c5_11ea_adc1_701ce71031efrow40_col4\" class=\"data row40 col4\" >22916.000000</td>\n",
       "                        <td id=\"T_3d8c44de_a4c5_11ea_adc1_701ce71031efrow40_col5\" class=\"data row40 col5\" >55</td>\n",
       "                        <td id=\"T_3d8c44de_a4c5_11ea_adc1_701ce71031efrow40_col6\" class=\"data row40 col6\" >0.04%</td>\n",
       "            </tr>\n",
       "            <tr>\n",
       "                        <th id=\"T_3d8c44de_a4c5_11ea_adc1_701ce71031eflevel0_row41\" class=\"row_heading level0 row41\" >22</th>\n",
       "                        <td id=\"T_3d8c44de_a4c5_11ea_adc1_701ce71031efrow41_col0\" class=\"data row41 col0\" >ETL</td>\n",
       "                        <td id=\"T_3d8c44de_a4c5_11ea_adc1_701ce71031efrow41_col1\" class=\"data row41 col1\" >15072</td>\n",
       "                        <td id=\"T_3d8c44de_a4c5_11ea_adc1_701ce71031efrow41_col2\" class=\"data row41 col2\" >7000.000000</td>\n",
       "                        <td id=\"T_3d8c44de_a4c5_11ea_adc1_701ce71031efrow41_col3\" class=\"data row41 col3\" >14000</td>\n",
       "                        <td id=\"T_3d8c44de_a4c5_11ea_adc1_701ce71031efrow41_col4\" class=\"data row41 col4\" >26400.000000</td>\n",
       "                        <td id=\"T_3d8c44de_a4c5_11ea_adc1_701ce71031efrow41_col5\" class=\"data row41 col5\" >544</td>\n",
       "                        <td id=\"T_3d8c44de_a4c5_11ea_adc1_701ce71031efrow41_col6\" class=\"data row41 col6\" >0.36%</td>\n",
       "            </tr>\n",
       "            <tr>\n",
       "                        <th id=\"T_3d8c44de_a4c5_11ea_adc1_701ce71031eflevel0_row42\" class=\"row_heading level0 row42\" >39</th>\n",
       "                        <td id=\"T_3d8c44de_a4c5_11ea_adc1_701ce71031efrow42_col0\" class=\"data row42 col0\" >语音识别工程师</td>\n",
       "                        <td id=\"T_3d8c44de_a4c5_11ea_adc1_701ce71031efrow42_col1\" class=\"data row42 col1\" >14991</td>\n",
       "                        <td id=\"T_3d8c44de_a4c5_11ea_adc1_701ce71031efrow42_col2\" class=\"data row42 col2\" >7000.000000</td>\n",
       "                        <td id=\"T_3d8c44de_a4c5_11ea_adc1_701ce71031efrow42_col3\" class=\"data row42 col3\" >16000</td>\n",
       "                        <td id=\"T_3d8c44de_a4c5_11ea_adc1_701ce71031efrow42_col4\" class=\"data row42 col4\" >32000.000000</td>\n",
       "                        <td id=\"T_3d8c44de_a4c5_11ea_adc1_701ce71031efrow42_col5\" class=\"data row42 col5\" >53</td>\n",
       "                        <td id=\"T_3d8c44de_a4c5_11ea_adc1_701ce71031efrow42_col6\" class=\"data row42 col6\" >0.04%</td>\n",
       "            </tr>\n",
       "            <tr>\n",
       "                        <th id=\"T_3d8c44de_a4c5_11ea_adc1_701ce71031eflevel0_row43\" class=\"row_heading level0 row43\" >15</th>\n",
       "                        <td id=\"T_3d8c44de_a4c5_11ea_adc1_701ce71031efrow43_col0\" class=\"data row43 col0\" >大数据开发工程师</td>\n",
       "                        <td id=\"T_3d8c44de_a4c5_11ea_adc1_701ce71031efrow43_col1\" class=\"data row43 col1\" >14909</td>\n",
       "                        <td id=\"T_3d8c44de_a4c5_11ea_adc1_701ce71031efrow43_col2\" class=\"data row43 col2\" >5250.000000</td>\n",
       "                        <td id=\"T_3d8c44de_a4c5_11ea_adc1_701ce71031efrow43_col3\" class=\"data row43 col3\" >12500</td>\n",
       "                        <td id=\"T_3d8c44de_a4c5_11ea_adc1_701ce71031efrow43_col4\" class=\"data row43 col4\" >37500.000000</td>\n",
       "                        <td id=\"T_3d8c44de_a4c5_11ea_adc1_701ce71031efrow43_col5\" class=\"data row43 col5\" >1461</td>\n",
       "                        <td id=\"T_3d8c44de_a4c5_11ea_adc1_701ce71031efrow43_col6\" class=\"data row43 col6\" >0.97%</td>\n",
       "            </tr>\n",
       "            <tr>\n",
       "                        <th id=\"T_3d8c44de_a4c5_11ea_adc1_701ce71031eflevel0_row44\" class=\"row_heading level0 row44\" >51</th>\n",
       "                        <td id=\"T_3d8c44de_a4c5_11ea_adc1_701ce71031efrow44_col0\" class=\"data row44 col0\" >信号处理</td>\n",
       "                        <td id=\"T_3d8c44de_a4c5_11ea_adc1_701ce71031efrow44_col1\" class=\"data row44 col1\" >14789</td>\n",
       "                        <td id=\"T_3d8c44de_a4c5_11ea_adc1_701ce71031efrow44_col2\" class=\"data row44 col2\" >1750.000000</td>\n",
       "                        <td id=\"T_3d8c44de_a4c5_11ea_adc1_701ce71031efrow44_col3\" class=\"data row44 col3\" >13833</td>\n",
       "                        <td id=\"T_3d8c44de_a4c5_11ea_adc1_701ce71031efrow44_col4\" class=\"data row44 col4\" >22500.000000</td>\n",
       "                        <td id=\"T_3d8c44de_a4c5_11ea_adc1_701ce71031efrow44_col5\" class=\"data row44 col5\" >19</td>\n",
       "                        <td id=\"T_3d8c44de_a4c5_11ea_adc1_701ce71031efrow44_col6\" class=\"data row44 col6\" >0.01%</td>\n",
       "            </tr>\n",
       "            <tr>\n",
       "                        <th id=\"T_3d8c44de_a4c5_11ea_adc1_701ce71031eflevel0_row45\" class=\"row_heading level0 row45\" >27</th>\n",
       "                        <td id=\"T_3d8c44de_a4c5_11ea_adc1_701ce71031efrow45_col0\" class=\"data row45 col0\" >GIS</td>\n",
       "                        <td id=\"T_3d8c44de_a4c5_11ea_adc1_701ce71031efrow45_col1\" class=\"data row45 col1\" >14614</td>\n",
       "                        <td id=\"T_3d8c44de_a4c5_11ea_adc1_701ce71031efrow45_col2\" class=\"data row45 col2\" >6051.785714</td>\n",
       "                        <td id=\"T_3d8c44de_a4c5_11ea_adc1_701ce71031efrow45_col3\" class=\"data row45 col3\" >12900</td>\n",
       "                        <td id=\"T_3d8c44de_a4c5_11ea_adc1_701ce71031efrow45_col4\" class=\"data row45 col4\" >25000.000000</td>\n",
       "                        <td id=\"T_3d8c44de_a4c5_11ea_adc1_701ce71031efrow45_col5\" class=\"data row45 col5\" >649</td>\n",
       "                        <td id=\"T_3d8c44de_a4c5_11ea_adc1_701ce71031efrow45_col6\" class=\"data row45 col6\" >0.43%</td>\n",
       "            </tr>\n",
       "            <tr>\n",
       "                        <th id=\"T_3d8c44de_a4c5_11ea_adc1_701ce71031eflevel0_row46\" class=\"row_heading level0 row46\" >7</th>\n",
       "                        <td id=\"T_3d8c44de_a4c5_11ea_adc1_701ce71031efrow46_col0\" class=\"data row46 col0\" >Web前端开发</td>\n",
       "                        <td id=\"T_3d8c44de_a4c5_11ea_adc1_701ce71031efrow46_col1\" class=\"data row46 col1\" >14550</td>\n",
       "                        <td id=\"T_3d8c44de_a4c5_11ea_adc1_701ce71031efrow46_col2\" class=\"data row46 col2\" >6000.000000</td>\n",
       "                        <td id=\"T_3d8c44de_a4c5_11ea_adc1_701ce71031efrow46_col3\" class=\"data row46 col3\" >12500</td>\n",
       "                        <td id=\"T_3d8c44de_a4c5_11ea_adc1_701ce71031efrow46_col4\" class=\"data row46 col4\" >30000.000000</td>\n",
       "                        <td id=\"T_3d8c44de_a4c5_11ea_adc1_701ce71031efrow46_col5\" class=\"data row46 col5\" >9714</td>\n",
       "                        <td id=\"T_3d8c44de_a4c5_11ea_adc1_701ce71031efrow46_col6\" class=\"data row46 col6\" >6.47%</td>\n",
       "            </tr>\n",
       "            <tr>\n",
       "                        <th id=\"T_3d8c44de_a4c5_11ea_adc1_701ce71031eflevel0_row47\" class=\"row_heading level0 row47\" >34</th>\n",
       "                        <td id=\"T_3d8c44de_a4c5_11ea_adc1_701ce71031efrow47_col0\" class=\"data row47 col0\" >爬虫开发工程师</td>\n",
       "                        <td id=\"T_3d8c44de_a4c5_11ea_adc1_701ce71031efrow47_col1\" class=\"data row47 col1\" >14357</td>\n",
       "                        <td id=\"T_3d8c44de_a4c5_11ea_adc1_701ce71031efrow47_col2\" class=\"data row47 col2\" >7000.000000</td>\n",
       "                        <td id=\"T_3d8c44de_a4c5_11ea_adc1_701ce71031efrow47_col3\" class=\"data row47 col3\" >13000</td>\n",
       "                        <td id=\"T_3d8c44de_a4c5_11ea_adc1_701ce71031efrow47_col4\" class=\"data row47 col4\" >27500.000000</td>\n",
       "                        <td id=\"T_3d8c44de_a4c5_11ea_adc1_701ce71031efrow47_col5\" class=\"data row47 col5\" >384</td>\n",
       "                        <td id=\"T_3d8c44de_a4c5_11ea_adc1_701ce71031efrow47_col6\" class=\"data row47 col6\" >0.26%</td>\n",
       "            </tr>\n",
       "            <tr>\n",
       "                        <th id=\"T_3d8c44de_a4c5_11ea_adc1_701ce71031eflevel0_row48\" class=\"row_heading level0 row48\" >42</th>\n",
       "                        <td id=\"T_3d8c44de_a4c5_11ea_adc1_701ce71031efrow48_col0\" class=\"data row48 col0\" >MES</td>\n",
       "                        <td id=\"T_3d8c44de_a4c5_11ea_adc1_701ce71031efrow48_col1\" class=\"data row48 col1\" >13906</td>\n",
       "                        <td id=\"T_3d8c44de_a4c5_11ea_adc1_701ce71031efrow48_col2\" class=\"data row48 col2\" >7000.000000</td>\n",
       "                        <td id=\"T_3d8c44de_a4c5_11ea_adc1_701ce71031efrow48_col3\" class=\"data row48 col3\" >12500</td>\n",
       "                        <td id=\"T_3d8c44de_a4c5_11ea_adc1_701ce71031efrow48_col4\" class=\"data row48 col4\" >25000.000000</td>\n",
       "                        <td id=\"T_3d8c44de_a4c5_11ea_adc1_701ce71031efrow48_col5\" class=\"data row48 col5\" >227</td>\n",
       "                        <td id=\"T_3d8c44de_a4c5_11ea_adc1_701ce71031efrow48_col6\" class=\"data row48 col6\" >0.15%</td>\n",
       "            </tr>\n",
       "            <tr>\n",
       "                        <th id=\"T_3d8c44de_a4c5_11ea_adc1_701ce71031eflevel0_row49\" class=\"row_heading level0 row49\" >4</th>\n",
       "                        <td id=\"T_3d8c44de_a4c5_11ea_adc1_701ce71031efrow49_col0\" class=\"data row49 col0\" >前端开发</td>\n",
       "                        <td id=\"T_3d8c44de_a4c5_11ea_adc1_701ce71031efrow49_col1\" class=\"data row49 col1\" >13732</td>\n",
       "                        <td id=\"T_3d8c44de_a4c5_11ea_adc1_701ce71031efrow49_col2\" class=\"data row49 col2\" >5250.000000</td>\n",
       "                        <td id=\"T_3d8c44de_a4c5_11ea_adc1_701ce71031efrow49_col3\" class=\"data row49 col3\" >12500</td>\n",
       "                        <td id=\"T_3d8c44de_a4c5_11ea_adc1_701ce71031efrow49_col4\" class=\"data row49 col4\" >30000.000000</td>\n",
       "                        <td id=\"T_3d8c44de_a4c5_11ea_adc1_701ce71031efrow49_col5\" class=\"data row49 col5\" >1766</td>\n",
       "                        <td id=\"T_3d8c44de_a4c5_11ea_adc1_701ce71031efrow49_col6\" class=\"data row49 col6\" >1.18%</td>\n",
       "            </tr>\n",
       "            <tr>\n",
       "                        <th id=\"T_3d8c44de_a4c5_11ea_adc1_701ce71031eflevel0_row50\" class=\"row_heading level0 row50\" >18</th>\n",
       "                        <td id=\"T_3d8c44de_a4c5_11ea_adc1_701ce71031efrow50_col0\" class=\"data row50 col0\" >HTML5开发工程师</td>\n",
       "                        <td id=\"T_3d8c44de_a4c5_11ea_adc1_701ce71031efrow50_col1\" class=\"data row50 col1\" >13110</td>\n",
       "                        <td id=\"T_3d8c44de_a4c5_11ea_adc1_701ce71031efrow50_col2\" class=\"data row50 col2\" >1250.000000</td>\n",
       "                        <td id=\"T_3d8c44de_a4c5_11ea_adc1_701ce71031efrow50_col3\" class=\"data row50 col3\" >12500</td>\n",
       "                        <td id=\"T_3d8c44de_a4c5_11ea_adc1_701ce71031efrow50_col4\" class=\"data row50 col4\" >25757.142857</td>\n",
       "                        <td id=\"T_3d8c44de_a4c5_11ea_adc1_701ce71031efrow50_col5\" class=\"data row50 col5\" >161</td>\n",
       "                        <td id=\"T_3d8c44de_a4c5_11ea_adc1_701ce71031efrow50_col6\" class=\"data row50 col6\" >0.11%</td>\n",
       "            </tr>\n",
       "            <tr>\n",
       "                        <th id=\"T_3d8c44de_a4c5_11ea_adc1_701ce71031eflevel0_row51\" class=\"row_heading level0 row51\" >43</th>\n",
       "                        <td id=\"T_3d8c44de_a4c5_11ea_adc1_701ce71031efrow51_col0\" class=\"data row51 col0\" >网站架构设计师</td>\n",
       "                        <td id=\"T_3d8c44de_a4c5_11ea_adc1_701ce71031efrow51_col1\" class=\"data row51 col1\" >13002</td>\n",
       "                        <td id=\"T_3d8c44de_a4c5_11ea_adc1_701ce71031efrow51_col2\" class=\"data row51 col2\" >3750.000000</td>\n",
       "                        <td id=\"T_3d8c44de_a4c5_11ea_adc1_701ce71031efrow51_col3\" class=\"data row51 col3\" >11500</td>\n",
       "                        <td id=\"T_3d8c44de_a4c5_11ea_adc1_701ce71031efrow51_col4\" class=\"data row51 col4\" >30054.687500</td>\n",
       "                        <td id=\"T_3d8c44de_a4c5_11ea_adc1_701ce71031efrow51_col5\" class=\"data row51 col5\" >253</td>\n",
       "                        <td id=\"T_3d8c44de_a4c5_11ea_adc1_701ce71031efrow51_col6\" class=\"data row51 col6\" >0.17%</td>\n",
       "            </tr>\n",
       "            <tr>\n",
       "                        <th id=\"T_3d8c44de_a4c5_11ea_adc1_701ce71031eflevel0_row52\" class=\"row_heading level0 row52\" >10</th>\n",
       "                        <td id=\"T_3d8c44de_a4c5_11ea_adc1_701ce71031efrow52_col0\" class=\"data row52 col0\" >小程序开发工程师</td>\n",
       "                        <td id=\"T_3d8c44de_a4c5_11ea_adc1_701ce71031efrow52_col1\" class=\"data row52 col1\" >12980</td>\n",
       "                        <td id=\"T_3d8c44de_a4c5_11ea_adc1_701ce71031efrow52_col2\" class=\"data row52 col2\" >5581.250000</td>\n",
       "                        <td id=\"T_3d8c44de_a4c5_11ea_adc1_701ce71031efrow52_col3\" class=\"data row52 col3\" >12500</td>\n",
       "                        <td id=\"T_3d8c44de_a4c5_11ea_adc1_701ce71031efrow52_col4\" class=\"data row52 col4\" >24000.000000</td>\n",
       "                        <td id=\"T_3d8c44de_a4c5_11ea_adc1_701ce71031efrow52_col5\" class=\"data row52 col5\" >2179</td>\n",
       "                        <td id=\"T_3d8c44de_a4c5_11ea_adc1_701ce71031efrow52_col6\" class=\"data row52 col6\" >1.45%</td>\n",
       "            </tr>\n",
       "            <tr>\n",
       "                        <th id=\"T_3d8c44de_a4c5_11ea_adc1_701ce71031eflevel0_row53\" class=\"row_heading level0 row53\" >35</th>\n",
       "                        <td id=\"T_3d8c44de_a4c5_11ea_adc1_701ce71031efrow53_col0\" class=\"data row53 col0\" >遥感</td>\n",
       "                        <td id=\"T_3d8c44de_a4c5_11ea_adc1_701ce71031efrow53_col1\" class=\"data row53 col1\" >12680</td>\n",
       "                        <td id=\"T_3d8c44de_a4c5_11ea_adc1_701ce71031efrow53_col2\" class=\"data row53 col2\" >9000.000000</td>\n",
       "                        <td id=\"T_3d8c44de_a4c5_11ea_adc1_701ce71031efrow53_col3\" class=\"data row53 col3\" >11458</td>\n",
       "                        <td id=\"T_3d8c44de_a4c5_11ea_adc1_701ce71031efrow53_col4\" class=\"data row53 col4\" >20833.000000</td>\n",
       "                        <td id=\"T_3d8c44de_a4c5_11ea_adc1_701ce71031efrow53_col5\" class=\"data row53 col5\" >37</td>\n",
       "                        <td id=\"T_3d8c44de_a4c5_11ea_adc1_701ce71031efrow53_col6\" class=\"data row53 col6\" >0.02%</td>\n",
       "            </tr>\n",
       "            <tr>\n",
       "                        <th id=\"T_3d8c44de_a4c5_11ea_adc1_701ce71031eflevel0_row54\" class=\"row_heading level0 row54\" >31</th>\n",
       "                        <td id=\"T_3d8c44de_a4c5_11ea_adc1_701ce71031efrow54_col0\" class=\"data row54 col0\" >系统分析员</td>\n",
       "                        <td id=\"T_3d8c44de_a4c5_11ea_adc1_701ce71031efrow54_col1\" class=\"data row54 col1\" >12677</td>\n",
       "                        <td id=\"T_3d8c44de_a4c5_11ea_adc1_701ce71031efrow54_col2\" class=\"data row54 col2\" >3750.000000</td>\n",
       "                        <td id=\"T_3d8c44de_a4c5_11ea_adc1_701ce71031efrow54_col3\" class=\"data row54 col3\" >11500</td>\n",
       "                        <td id=\"T_3d8c44de_a4c5_11ea_adc1_701ce71031efrow54_col4\" class=\"data row54 col4\" >23087.633333</td>\n",
       "                        <td id=\"T_3d8c44de_a4c5_11ea_adc1_701ce71031efrow54_col5\" class=\"data row54 col5\" >441</td>\n",
       "                        <td id=\"T_3d8c44de_a4c5_11ea_adc1_701ce71031efrow54_col6\" class=\"data row54 col6\" >0.29%</td>\n",
       "            </tr>\n",
       "            <tr>\n",
       "                        <th id=\"T_3d8c44de_a4c5_11ea_adc1_701ce71031eflevel0_row55\" class=\"row_heading level0 row55\" >56</th>\n",
       "                        <td id=\"T_3d8c44de_a4c5_11ea_adc1_701ce71031efrow55_col0\" class=\"data row55 col0\" >生物信息</td>\n",
       "                        <td id=\"T_3d8c44de_a4c5_11ea_adc1_701ce71031efrow55_col1\" class=\"data row55 col1\" >12150</td>\n",
       "                        <td id=\"T_3d8c44de_a4c5_11ea_adc1_701ce71031efrow55_col2\" class=\"data row55 col2\" >8000.000000</td>\n",
       "                        <td id=\"T_3d8c44de_a4c5_11ea_adc1_701ce71031efrow55_col3\" class=\"data row55 col3\" >12750</td>\n",
       "                        <td id=\"T_3d8c44de_a4c5_11ea_adc1_701ce71031efrow55_col4\" class=\"data row55 col4\" >16000.000000</td>\n",
       "                        <td id=\"T_3d8c44de_a4c5_11ea_adc1_701ce71031efrow55_col5\" class=\"data row55 col5\" >10</td>\n",
       "                        <td id=\"T_3d8c44de_a4c5_11ea_adc1_701ce71031efrow55_col6\" class=\"data row55 col6\" >0.01%</td>\n",
       "            </tr>\n",
       "            <tr>\n",
       "                        <th id=\"T_3d8c44de_a4c5_11ea_adc1_701ce71031eflevel0_row56\" class=\"row_heading level0 row56\" >20</th>\n",
       "                        <td id=\"T_3d8c44de_a4c5_11ea_adc1_701ce71031efrow56_col0\" class=\"data row56 col0\" >系统工程师</td>\n",
       "                        <td id=\"T_3d8c44de_a4c5_11ea_adc1_701ce71031efrow56_col1\" class=\"data row56 col1\" >11955</td>\n",
       "                        <td id=\"T_3d8c44de_a4c5_11ea_adc1_701ce71031efrow56_col2\" class=\"data row56 col2\" >4250.000000</td>\n",
       "                        <td id=\"T_3d8c44de_a4c5_11ea_adc1_701ce71031efrow56_col3\" class=\"data row56 col3\" >10000</td>\n",
       "                        <td id=\"T_3d8c44de_a4c5_11ea_adc1_701ce71031efrow56_col4\" class=\"data row56 col4\" >27500.000000</td>\n",
       "                        <td id=\"T_3d8c44de_a4c5_11ea_adc1_701ce71031efrow56_col5\" class=\"data row56 col5\" >2109</td>\n",
       "                        <td id=\"T_3d8c44de_a4c5_11ea_adc1_701ce71031efrow56_col6\" class=\"data row56 col6\" >1.41%</td>\n",
       "            </tr>\n",
       "            <tr>\n",
       "                        <th id=\"T_3d8c44de_a4c5_11ea_adc1_701ce71031eflevel0_row57\" class=\"row_heading level0 row57\" >1</th>\n",
       "                        <td id=\"T_3d8c44de_a4c5_11ea_adc1_701ce71031efrow57_col0\" class=\"data row57 col0\" >机器视觉工程师</td>\n",
       "                        <td id=\"T_3d8c44de_a4c5_11ea_adc1_701ce71031efrow57_col1\" class=\"data row57 col1\" >11470</td>\n",
       "                        <td id=\"T_3d8c44de_a4c5_11ea_adc1_701ce71031efrow57_col2\" class=\"data row57 col2\" >2966.707921</td>\n",
       "                        <td id=\"T_3d8c44de_a4c5_11ea_adc1_701ce71031efrow57_col3\" class=\"data row57 col3\" >10833</td>\n",
       "                        <td id=\"T_3d8c44de_a4c5_11ea_adc1_701ce71031efrow57_col4\" class=\"data row57 col4\" >28902.216667</td>\n",
       "                        <td id=\"T_3d8c44de_a4c5_11ea_adc1_701ce71031efrow57_col5\" class=\"data row57 col5\" >439</td>\n",
       "                        <td id=\"T_3d8c44de_a4c5_11ea_adc1_701ce71031efrow57_col6\" class=\"data row57 col6\" >0.29%</td>\n",
       "            </tr>\n",
       "    </tbody></table>"
      ],
      "text/plain": [
       "<pandas.io.formats.style.Styler at 0x170b177bac8>"
      ]
     },
     "execution_count": 19,
     "metadata": {},
     "output_type": "execute_result"
    }
   ],
   "source": [
    "data_career = get_sub_stats_by_col(data,'career')\n",
    "data_career.style.format({\"salary_mean\":\"{:.0f}\",\"salary_median\":\"{:.0f}\",\"percentage\":\"{:.2%}\"})"
   ]
  },
  {
   "cell_type": "code",
   "execution_count": 20,
   "metadata": {},
   "outputs": [
    {
     "data": {
      "text/plain": [
       "16855.413411618872"
      ]
     },
     "execution_count": 20,
     "metadata": {},
     "output_type": "execute_result"
    }
   ],
   "source": [
    "np.sum(data.monthly_salary * data.headcount) / data.headcount.sum()"
   ]
  },
  {
   "cell_type": "code",
   "execution_count": 21,
   "metadata": {},
   "outputs": [
    {
     "data": {
      "text/plain": [
       "150049"
      ]
     },
     "execution_count": 21,
     "metadata": {},
     "output_type": "execute_result"
    }
   ],
   "source": [
    "data.headcount.sum()"
   ]
  },
  {
   "cell_type": "code",
   "execution_count": 22,
   "metadata": {},
   "outputs": [
    {
     "data": {
      "text/plain": [
       "count    51255.000000\n",
       "mean         2.927500\n",
       "std          2.795304\n",
       "min          1.000000\n",
       "25%          1.000000\n",
       "50%          2.000000\n",
       "75%          5.000000\n",
       "max        100.000000\n",
       "Name: headcount, dtype: float64"
      ]
     },
     "execution_count": 22,
     "metadata": {},
     "output_type": "execute_result"
    }
   ],
   "source": [
    "data.headcount.describe()"
   ]
  },
  {
   "cell_type": "code",
   "execution_count": 23,
   "metadata": {},
   "outputs": [],
   "source": [
    "pd.options.display.max_columns=100\n"
   ]
  },
  {
   "cell_type": "markdown",
   "metadata": {},
   "source": []
  },
  {
   "cell_type": "code",
   "execution_count": 24,
   "metadata": {},
   "outputs": [
    {
     "data": {
      "text/plain": [
       "150049"
      ]
     },
     "execution_count": 24,
     "metadata": {},
     "output_type": "execute_result"
    }
   ],
   "source": [
    "data.headcount.sum()"
   ]
  },
  {
   "cell_type": "markdown",
   "metadata": {},
   "source": [
    "# 城市"
   ]
  },
  {
   "cell_type": "code",
   "execution_count": 25,
   "metadata": {},
   "outputs": [],
   "source": [
    "headcount_by_cities = data.groupby(by='city').headcount.sum()"
   ]
  },
  {
   "cell_type": "code",
   "execution_count": 26,
   "metadata": {},
   "outputs": [
    {
     "data": {
      "text/plain": [
       "city\n",
       "上海    50209\n",
       "北京    23986\n",
       "广州    32044\n",
       "深圳    43810\n",
       "Name: headcount, dtype: int64"
      ]
     },
     "execution_count": 26,
     "metadata": {},
     "output_type": "execute_result"
    }
   ],
   "source": [
    "headcount_by_cities\n"
   ]
  },
  {
   "cell_type": "code",
   "execution_count": 27,
   "metadata": {},
   "outputs": [
    {
     "data": {
      "image/png": "[encoded data removed]",
      "text/plain": [
       "<Figure size 720x576 with 1 Axes>"
      ]
     },
     "metadata": {},
     "output_type": "display_data"
    }
   ],
   "source": [
    "plt.figure(figsize=(10,8))\n",
    "plt.pie(headcount_by_cities.values, labels=headcount_by_cities.index, autopct='%1.1f%%')\n",
    "plt.show()"
   ]
  },
  {
   "cell_type": "code",
   "execution_count": 28,
   "metadata": {},
   "outputs": [
    {
     "data": {
      "text/html": [
       "<style  type=\"text/css\" >\n",
       "</style><table id=\"T_5358b1ac_a4c5_11ea_89b0_701ce71031ef\" ><thead>    <tr>        <th class=\"col_heading level0 col0\" >city</th>        <th class=\"col_heading level0 col1\" >salary_mean</th>        <th class=\"col_heading level0 col2\" >salary_95_min</th>        <th class=\"col_heading level0 col3\" >salary_median</th>        <th class=\"col_heading level0 col4\" >salary_95_max</th>        <th class=\"col_heading level0 col5\" >head_count</th>        <th class=\"col_heading level0 col6\" >percentage</th>    </tr></thead><tbody>\n",
       "                <tr>\n",
       "                                <td id=\"T_5358b1ac_a4c5_11ea_89b0_701ce71031efrow0_col0\" class=\"data row0 col0\" >北京</td>\n",
       "                        <td id=\"T_5358b1ac_a4c5_11ea_89b0_701ce71031efrow0_col1\" class=\"data row0 col1\" >19082</td>\n",
       "                        <td id=\"T_5358b1ac_a4c5_11ea_89b0_701ce71031efrow0_col2\" class=\"data row0 col2\" >7000</td>\n",
       "                        <td id=\"T_5358b1ac_a4c5_11ea_89b0_701ce71031efrow0_col3\" class=\"data row0 col3\" >17500</td>\n",
       "                        <td id=\"T_5358b1ac_a4c5_11ea_89b0_701ce71031efrow0_col4\" class=\"data row0 col4\" >45000</td>\n",
       "                        <td id=\"T_5358b1ac_a4c5_11ea_89b0_701ce71031efrow0_col5\" class=\"data row0 col5\" >23986</td>\n",
       "                        <td id=\"T_5358b1ac_a4c5_11ea_89b0_701ce71031efrow0_col6\" class=\"data row0 col6\" >15.99%</td>\n",
       "            </tr>\n",
       "            <tr>\n",
       "                                <td id=\"T_5358b1ac_a4c5_11ea_89b0_701ce71031efrow1_col0\" class=\"data row1 col0\" >上海</td>\n",
       "                        <td id=\"T_5358b1ac_a4c5_11ea_89b0_701ce71031efrow1_col1\" class=\"data row1 col1\" >17382</td>\n",
       "                        <td id=\"T_5358b1ac_a4c5_11ea_89b0_701ce71031efrow1_col2\" class=\"data row1 col2\" >7000</td>\n",
       "                        <td id=\"T_5358b1ac_a4c5_11ea_89b0_701ce71031efrow1_col3\" class=\"data row1 col3\" >15500</td>\n",
       "                        <td id=\"T_5358b1ac_a4c5_11ea_89b0_701ce71031efrow1_col4\" class=\"data row1 col4\" >37500</td>\n",
       "                        <td id=\"T_5358b1ac_a4c5_11ea_89b0_701ce71031efrow1_col5\" class=\"data row1 col5\" >50209</td>\n",
       "                        <td id=\"T_5358b1ac_a4c5_11ea_89b0_701ce71031efrow1_col6\" class=\"data row1 col6\" >33.46%</td>\n",
       "            </tr>\n",
       "            <tr>\n",
       "                                <td id=\"T_5358b1ac_a4c5_11ea_89b0_701ce71031efrow2_col0\" class=\"data row2 col0\" >深圳</td>\n",
       "                        <td id=\"T_5358b1ac_a4c5_11ea_89b0_701ce71031efrow2_col1\" class=\"data row2 col1\" >16952</td>\n",
       "                        <td id=\"T_5358b1ac_a4c5_11ea_89b0_701ce71031efrow2_col2\" class=\"data row2 col2\" >7000</td>\n",
       "                        <td id=\"T_5358b1ac_a4c5_11ea_89b0_701ce71031efrow2_col3\" class=\"data row2 col3\" >15000</td>\n",
       "                        <td id=\"T_5358b1ac_a4c5_11ea_89b0_701ce71031efrow2_col4\" class=\"data row2 col4\" >37500</td>\n",
       "                        <td id=\"T_5358b1ac_a4c5_11ea_89b0_701ce71031efrow2_col5\" class=\"data row2 col5\" >43810</td>\n",
       "                        <td id=\"T_5358b1ac_a4c5_11ea_89b0_701ce71031efrow2_col6\" class=\"data row2 col6\" >29.20%</td>\n",
       "            </tr>\n",
       "            <tr>\n",
       "                                <td id=\"T_5358b1ac_a4c5_11ea_89b0_701ce71031efrow3_col0\" class=\"data row3 col0\" >广州</td>\n",
       "                        <td id=\"T_5358b1ac_a4c5_11ea_89b0_701ce71031efrow3_col1\" class=\"data row3 col1\" >14233</td>\n",
       "                        <td id=\"T_5358b1ac_a4c5_11ea_89b0_701ce71031efrow3_col2\" class=\"data row3 col2\" >5250</td>\n",
       "                        <td id=\"T_5358b1ac_a4c5_11ea_89b0_701ce71031efrow3_col3\" class=\"data row3 col3\" >12500</td>\n",
       "                        <td id=\"T_5358b1ac_a4c5_11ea_89b0_701ce71031efrow3_col4\" class=\"data row3 col4\" >30000</td>\n",
       "                        <td id=\"T_5358b1ac_a4c5_11ea_89b0_701ce71031efrow3_col5\" class=\"data row3 col5\" >32044</td>\n",
       "                        <td id=\"T_5358b1ac_a4c5_11ea_89b0_701ce71031efrow3_col6\" class=\"data row3 col6\" >21.36%</td>\n",
       "            </tr>\n",
       "    </tbody></table>"
      ],
      "text/plain": [
       "<pandas.io.formats.style.Styler at 0x170abcf3688>"
      ]
     },
     "execution_count": 28,
     "metadata": {},
     "output_type": "execute_result"
    }
   ],
   "source": [
    "data_pl=get_sub_stats_by_col(data,'city')\n",
    "apply_style(data_pl)"
   ]
  },
  {
   "cell_type": "code",
   "execution_count": 29,
   "metadata": {},
   "outputs": [],
   "source": [
    "salary_beijing=data[data.city=='北京'].monthly_salary\n",
    "salary_shanghai=data[data.city=='上海'].monthly_salary\n",
    "salary_guangzhou=data[data.city=='广州'].monthly_salary\n",
    "salary_shenzhen=data[data.city=='深圳'].monthly_salary"
   ]
  },
  {
   "cell_type": "code",
   "execution_count": null,
   "metadata": {},
   "outputs": [],
   "source": []
  },
  {
   "cell_type": "code",
   "execution_count": 30,
   "metadata": {},
   "outputs": [
    {
     "data": {
      "text/plain": [
       "F_onewayResult(statistic=205.48160532595708, pvalue=2.0538712238357685e-46)"
      ]
     },
     "execution_count": 30,
     "metadata": {},
     "output_type": "execute_result"
    }
   ],
   "source": [
    "stats.f_oneway(salary_beijing, salary_shanghai)"
   ]
  },
  {
   "cell_type": "code",
   "execution_count": 31,
   "metadata": {},
   "outputs": [
    {
     "data": {
      "text/plain": [
       "F_onewayResult(statistic=89.98462631779309, pvalue=2.5579984278351924e-21)"
      ]
     },
     "execution_count": 31,
     "metadata": {},
     "output_type": "execute_result"
    }
   ],
   "source": [
    "stats.f_oneway(salary_shanghai, salary_shenzhen)"
   ]
  },
  {
   "cell_type": "code",
   "execution_count": 32,
   "metadata": {},
   "outputs": [
    {
     "data": {
      "text/plain": [
       "F_onewayResult(statistic=866.534633505006, pvalue=1.7504249676397344e-187)"
      ]
     },
     "execution_count": 32,
     "metadata": {},
     "output_type": "execute_result"
    }
   ],
   "source": [
    "stats.f_oneway(salary_shenzhen, salary_guangzhou)"
   ]
  },
  {
   "cell_type": "markdown",
   "metadata": {},
   "source": [
    "# 编程语言"
   ]
  },
  {
   "cell_type": "code",
   "execution_count": 33,
   "metadata": {},
   "outputs": [
    {
     "data": {
      "text/html": [
       "<style  type=\"text/css\" >\n",
       "</style><table id=\"T_59af550c_a4c5_11ea_bced_701ce71031ef\" ><thead>    <tr>        <th class=\"col_heading level0 col0\" >rank</th>        <th class=\"col_heading level0 col1\" >pl_</th>        <th class=\"col_heading level0 col2\" >salary_mean</th>        <th class=\"col_heading level0 col3\" >salary_median</th>        <th class=\"col_heading level0 col4\" >salary_95_min</th>        <th class=\"col_heading level0 col5\" >salary_95_max</th>        <th class=\"col_heading level0 col6\" >head_count</th>        <th class=\"col_heading level0 col7\" >percentage</th>    </tr></thead><tbody>\n",
       "                <tr>\n",
       "                                <td id=\"T_59af550c_a4c5_11ea_bced_701ce71031efrow0_col0\" class=\"data row0 col0\" >1</td>\n",
       "                        <td id=\"T_59af550c_a4c5_11ea_bced_701ce71031efrow0_col1\" class=\"data row0 col1\" >julia</td>\n",
       "                        <td id=\"T_59af550c_a4c5_11ea_bced_701ce71031efrow0_col2\" class=\"data row0 col2\" >24375</td>\n",
       "                        <td id=\"T_59af550c_a4c5_11ea_bced_701ce71031efrow0_col3\" class=\"data row0 col3\" >24375</td>\n",
       "                        <td id=\"T_59af550c_a4c5_11ea_bced_701ce71031efrow0_col4\" class=\"data row0 col4\" >22500</td>\n",
       "                        <td id=\"T_59af550c_a4c5_11ea_bced_701ce71031efrow0_col5\" class=\"data row0 col5\" >25000</td>\n",
       "                        <td id=\"T_59af550c_a4c5_11ea_bced_701ce71031efrow0_col6\" class=\"data row0 col6\" >4</td>\n",
       "                        <td id=\"T_59af550c_a4c5_11ea_bced_701ce71031efrow0_col7\" class=\"data row0 col7\" >0.00%</td>\n",
       "            </tr>\n",
       "            <tr>\n",
       "                                <td id=\"T_59af550c_a4c5_11ea_bced_701ce71031efrow1_col0\" class=\"data row1 col0\" >2</td>\n",
       "                        <td id=\"T_59af550c_a4c5_11ea_bced_701ce71031efrow1_col1\" class=\"data row1 col1\" >rust</td>\n",
       "                        <td id=\"T_59af550c_a4c5_11ea_bced_701ce71031efrow1_col2\" class=\"data row1 col2\" >24023</td>\n",
       "                        <td id=\"T_59af550c_a4c5_11ea_bced_701ce71031efrow1_col3\" class=\"data row1 col3\" >22500</td>\n",
       "                        <td id=\"T_59af550c_a4c5_11ea_bced_701ce71031efrow1_col4\" class=\"data row1 col4\" >9271</td>\n",
       "                        <td id=\"T_59af550c_a4c5_11ea_bced_701ce71031efrow1_col5\" class=\"data row1 col5\" >45844</td>\n",
       "                        <td id=\"T_59af550c_a4c5_11ea_bced_701ce71031efrow1_col6\" class=\"data row1 col6\" >233</td>\n",
       "                        <td id=\"T_59af550c_a4c5_11ea_bced_701ce71031efrow1_col7\" class=\"data row1 col7\" >0.10%</td>\n",
       "            </tr>\n",
       "            <tr>\n",
       "                                <td id=\"T_59af550c_a4c5_11ea_bced_701ce71031efrow2_col0\" class=\"data row2 col0\" >3</td>\n",
       "                        <td id=\"T_59af550c_a4c5_11ea_bced_701ce71031efrow2_col1\" class=\"data row2 col1\" >scala</td>\n",
       "                        <td id=\"T_59af550c_a4c5_11ea_bced_701ce71031efrow2_col2\" class=\"data row2 col2\" >22795</td>\n",
       "                        <td id=\"T_59af550c_a4c5_11ea_bced_701ce71031efrow2_col3\" class=\"data row2 col3\" >20000</td>\n",
       "                        <td id=\"T_59af550c_a4c5_11ea_bced_701ce71031efrow2_col4\" class=\"data row2 col4\" >9000</td>\n",
       "                        <td id=\"T_59af550c_a4c5_11ea_bced_701ce71031efrow2_col5\" class=\"data row2 col5\" >50000</td>\n",
       "                        <td id=\"T_59af550c_a4c5_11ea_bced_701ce71031efrow2_col6\" class=\"data row2 col6\" >1888</td>\n",
       "                        <td id=\"T_59af550c_a4c5_11ea_bced_701ce71031efrow2_col7\" class=\"data row2 col7\" >0.84%</td>\n",
       "            </tr>\n",
       "            <tr>\n",
       "                                <td id=\"T_59af550c_a4c5_11ea_bced_701ce71031efrow3_col0\" class=\"data row3 col0\" >4</td>\n",
       "                        <td id=\"T_59af550c_a4c5_11ea_bced_701ce71031efrow3_col1\" class=\"data row3 col1\" >matlab</td>\n",
       "                        <td id=\"T_59af550c_a4c5_11ea_bced_701ce71031efrow3_col2\" class=\"data row3 col2\" >21294</td>\n",
       "                        <td id=\"T_59af550c_a4c5_11ea_bced_701ce71031efrow3_col3\" class=\"data row3 col3\" >20000</td>\n",
       "                        <td id=\"T_59af550c_a4c5_11ea_bced_701ce71031efrow3_col4\" class=\"data row3 col4\" >9000</td>\n",
       "                        <td id=\"T_59af550c_a4c5_11ea_bced_701ce71031efrow3_col5\" class=\"data row3 col5\" >40000</td>\n",
       "                        <td id=\"T_59af550c_a4c5_11ea_bced_701ce71031efrow3_col6\" class=\"data row3 col6\" >2750</td>\n",
       "                        <td id=\"T_59af550c_a4c5_11ea_bced_701ce71031efrow3_col7\" class=\"data row3 col7\" >1.22%</td>\n",
       "            </tr>\n",
       "            <tr>\n",
       "                                <td id=\"T_59af550c_a4c5_11ea_bced_701ce71031efrow4_col0\" class=\"data row4 col0\" >5</td>\n",
       "                        <td id=\"T_59af550c_a4c5_11ea_bced_701ce71031efrow4_col1\" class=\"data row4 col1\" >python</td>\n",
       "                        <td id=\"T_59af550c_a4c5_11ea_bced_701ce71031efrow4_col2\" class=\"data row4 col2\" >21077</td>\n",
       "                        <td id=\"T_59af550c_a4c5_11ea_bced_701ce71031efrow4_col3\" class=\"data row4 col3\" >18500</td>\n",
       "                        <td id=\"T_59af550c_a4c5_11ea_bced_701ce71031efrow4_col4\" class=\"data row4 col4\" >7000</td>\n",
       "                        <td id=\"T_59af550c_a4c5_11ea_bced_701ce71031efrow4_col5\" class=\"data row4 col5\" >45000</td>\n",
       "                        <td id=\"T_59af550c_a4c5_11ea_bced_701ce71031efrow4_col6\" class=\"data row4 col6\" >19509</td>\n",
       "                        <td id=\"T_59af550c_a4c5_11ea_bced_701ce71031efrow4_col7\" class=\"data row4 col7\" >8.65%</td>\n",
       "            </tr>\n",
       "            <tr>\n",
       "                                <td id=\"T_59af550c_a4c5_11ea_bced_701ce71031efrow5_col0\" class=\"data row5 col0\" >6</td>\n",
       "                        <td id=\"T_59af550c_a4c5_11ea_bced_701ce71031efrow5_col1\" class=\"data row5 col1\" >go</td>\n",
       "                        <td id=\"T_59af550c_a4c5_11ea_bced_701ce71031efrow5_col2\" class=\"data row5 col2\" >20288</td>\n",
       "                        <td id=\"T_59af550c_a4c5_11ea_bced_701ce71031efrow5_col3\" class=\"data row5 col3\" >17500</td>\n",
       "                        <td id=\"T_59af550c_a4c5_11ea_bced_701ce71031efrow5_col4\" class=\"data row5 col4\" >7500</td>\n",
       "                        <td id=\"T_59af550c_a4c5_11ea_bced_701ce71031efrow5_col5\" class=\"data row5 col5\" >45000</td>\n",
       "                        <td id=\"T_59af550c_a4c5_11ea_bced_701ce71031efrow5_col6\" class=\"data row5 col6\" >18381</td>\n",
       "                        <td id=\"T_59af550c_a4c5_11ea_bced_701ce71031efrow5_col7\" class=\"data row5 col7\" >8.15%</td>\n",
       "            </tr>\n",
       "            <tr>\n",
       "                                <td id=\"T_59af550c_a4c5_11ea_bced_701ce71031efrow6_col0\" class=\"data row6 col0\" >7</td>\n",
       "                        <td id=\"T_59af550c_a4c5_11ea_bced_701ce71031efrow6_col1\" class=\"data row6 col1\" >r</td>\n",
       "                        <td id=\"T_59af550c_a4c5_11ea_bced_701ce71031efrow6_col2\" class=\"data row6 col2\" >19777</td>\n",
       "                        <td id=\"T_59af550c_a4c5_11ea_bced_701ce71031efrow6_col3\" class=\"data row6 col3\" >17500</td>\n",
       "                        <td id=\"T_59af550c_a4c5_11ea_bced_701ce71031efrow6_col4\" class=\"data row6 col4\" >7000</td>\n",
       "                        <td id=\"T_59af550c_a4c5_11ea_bced_701ce71031efrow6_col5\" class=\"data row6 col5\" >40000</td>\n",
       "                        <td id=\"T_59af550c_a4c5_11ea_bced_701ce71031efrow6_col6\" class=\"data row6 col6\" >1860</td>\n",
       "                        <td id=\"T_59af550c_a4c5_11ea_bced_701ce71031efrow6_col7\" class=\"data row6 col7\" >0.82%</td>\n",
       "            </tr>\n",
       "            <tr>\n",
       "                                <td id=\"T_59af550c_a4c5_11ea_bced_701ce71031efrow7_col0\" class=\"data row7 col0\" >8</td>\n",
       "                        <td id=\"T_59af550c_a4c5_11ea_bced_701ce71031efrow7_col1\" class=\"data row7 col1\" >lua</td>\n",
       "                        <td id=\"T_59af550c_a4c5_11ea_bced_701ce71031efrow7_col2\" class=\"data row7 col2\" >19594</td>\n",
       "                        <td id=\"T_59af550c_a4c5_11ea_bced_701ce71031efrow7_col3\" class=\"data row7 col3\" >17500</td>\n",
       "                        <td id=\"T_59af550c_a4c5_11ea_bced_701ce71031efrow7_col4\" class=\"data row7 col4\" >7000</td>\n",
       "                        <td id=\"T_59af550c_a4c5_11ea_bced_701ce71031efrow7_col5\" class=\"data row7 col5\" >40275</td>\n",
       "                        <td id=\"T_59af550c_a4c5_11ea_bced_701ce71031efrow7_col6\" class=\"data row7 col6\" >2758</td>\n",
       "                        <td id=\"T_59af550c_a4c5_11ea_bced_701ce71031efrow7_col7\" class=\"data row7 col7\" >1.22%</td>\n",
       "            </tr>\n",
       "            <tr>\n",
       "                                <td id=\"T_59af550c_a4c5_11ea_bced_701ce71031efrow8_col0\" class=\"data row8 col0\" >9</td>\n",
       "                        <td id=\"T_59af550c_a4c5_11ea_bced_701ce71031efrow8_col1\" class=\"data row8 col1\" >swift</td>\n",
       "                        <td id=\"T_59af550c_a4c5_11ea_bced_701ce71031efrow8_col2\" class=\"data row8 col2\" >19326</td>\n",
       "                        <td id=\"T_59af550c_a4c5_11ea_bced_701ce71031efrow8_col3\" class=\"data row8 col3\" >17500</td>\n",
       "                        <td id=\"T_59af550c_a4c5_11ea_bced_701ce71031efrow8_col4\" class=\"data row8 col4\" >8500</td>\n",
       "                        <td id=\"T_59af550c_a4c5_11ea_bced_701ce71031efrow8_col5\" class=\"data row8 col5\" >40000</td>\n",
       "                        <td id=\"T_59af550c_a4c5_11ea_bced_701ce71031efrow8_col6\" class=\"data row8 col6\" >1605</td>\n",
       "                        <td id=\"T_59af550c_a4c5_11ea_bced_701ce71031efrow8_col7\" class=\"data row8 col7\" >0.71%</td>\n",
       "            </tr>\n",
       "            <tr>\n",
       "                                <td id=\"T_59af550c_a4c5_11ea_bced_701ce71031efrow9_col0\" class=\"data row9 col0\" >10</td>\n",
       "                        <td id=\"T_59af550c_a4c5_11ea_bced_701ce71031efrow9_col1\" class=\"data row9 col1\" >perl</td>\n",
       "                        <td id=\"T_59af550c_a4c5_11ea_bced_701ce71031efrow9_col2\" class=\"data row9 col2\" >18927</td>\n",
       "                        <td id=\"T_59af550c_a4c5_11ea_bced_701ce71031efrow9_col3\" class=\"data row9 col3\" >17500</td>\n",
       "                        <td id=\"T_59af550c_a4c5_11ea_bced_701ce71031efrow9_col4\" class=\"data row9 col4\" >7000</td>\n",
       "                        <td id=\"T_59af550c_a4c5_11ea_bced_701ce71031efrow9_col5\" class=\"data row9 col5\" >50000</td>\n",
       "                        <td id=\"T_59af550c_a4c5_11ea_bced_701ce71031efrow9_col6\" class=\"data row9 col6\" >1562</td>\n",
       "                        <td id=\"T_59af550c_a4c5_11ea_bced_701ce71031efrow9_col7\" class=\"data row9 col7\" >0.69%</td>\n",
       "            </tr>\n",
       "            <tr>\n",
       "                                <td id=\"T_59af550c_a4c5_11ea_bced_701ce71031efrow10_col0\" class=\"data row10 col0\" >11</td>\n",
       "                        <td id=\"T_59af550c_a4c5_11ea_bced_701ce71031efrow10_col1\" class=\"data row10 col1\" >ruby</td>\n",
       "                        <td id=\"T_59af550c_a4c5_11ea_bced_701ce71031efrow10_col2\" class=\"data row10 col2\" >18560</td>\n",
       "                        <td id=\"T_59af550c_a4c5_11ea_bced_701ce71031efrow10_col3\" class=\"data row10 col3\" >17500</td>\n",
       "                        <td id=\"T_59af550c_a4c5_11ea_bced_701ce71031efrow10_col4\" class=\"data row10 col4\" >5340</td>\n",
       "                        <td id=\"T_59af550c_a4c5_11ea_bced_701ce71031efrow10_col5\" class=\"data row10 col5\" >49176</td>\n",
       "                        <td id=\"T_59af550c_a4c5_11ea_bced_701ce71031efrow10_col6\" class=\"data row10 col6\" >836</td>\n",
       "                        <td id=\"T_59af550c_a4c5_11ea_bced_701ce71031efrow10_col7\" class=\"data row10 col7\" >0.37%</td>\n",
       "            </tr>\n",
       "            <tr>\n",
       "                                <td id=\"T_59af550c_a4c5_11ea_bced_701ce71031efrow11_col0\" class=\"data row11 col0\" >12</td>\n",
       "                        <td id=\"T_59af550c_a4c5_11ea_bced_701ce71031efrow11_col1\" class=\"data row11 col1\" >cpp</td>\n",
       "                        <td id=\"T_59af550c_a4c5_11ea_bced_701ce71031efrow11_col2\" class=\"data row11 col2\" >17789</td>\n",
       "                        <td id=\"T_59af550c_a4c5_11ea_bced_701ce71031efrow11_col3\" class=\"data row11 col3\" >15500</td>\n",
       "                        <td id=\"T_59af550c_a4c5_11ea_bced_701ce71031efrow11_col4\" class=\"data row11 col4\" >7000</td>\n",
       "                        <td id=\"T_59af550c_a4c5_11ea_bced_701ce71031efrow11_col5\" class=\"data row11 col5\" >40000</td>\n",
       "                        <td id=\"T_59af550c_a4c5_11ea_bced_701ce71031efrow11_col6\" class=\"data row11 col6\" >54481</td>\n",
       "                        <td id=\"T_59af550c_a4c5_11ea_bced_701ce71031efrow11_col7\" class=\"data row11 col7\" >24.16%</td>\n",
       "            </tr>\n",
       "            <tr>\n",
       "                                <td id=\"T_59af550c_a4c5_11ea_bced_701ce71031efrow12_col0\" class=\"data row12 col0\" >13</td>\n",
       "                        <td id=\"T_59af550c_a4c5_11ea_bced_701ce71031efrow12_col1\" class=\"data row12 col1\" >kotlin</td>\n",
       "                        <td id=\"T_59af550c_a4c5_11ea_bced_701ce71031efrow12_col2\" class=\"data row12 col2\" >17714</td>\n",
       "                        <td id=\"T_59af550c_a4c5_11ea_bced_701ce71031efrow12_col3\" class=\"data row12 col3\" >17500</td>\n",
       "                        <td id=\"T_59af550c_a4c5_11ea_bced_701ce71031efrow12_col4\" class=\"data row12 col4\" >8000</td>\n",
       "                        <td id=\"T_59af550c_a4c5_11ea_bced_701ce71031efrow12_col5\" class=\"data row12 col5\" >30854</td>\n",
       "                        <td id=\"T_59af550c_a4c5_11ea_bced_701ce71031efrow12_col6\" class=\"data row12 col6\" >739</td>\n",
       "                        <td id=\"T_59af550c_a4c5_11ea_bced_701ce71031efrow12_col7\" class=\"data row12 col7\" >0.33%</td>\n",
       "            </tr>\n",
       "            <tr>\n",
       "                                <td id=\"T_59af550c_a4c5_11ea_bced_701ce71031efrow13_col0\" class=\"data row13 col0\" >14</td>\n",
       "                        <td id=\"T_59af550c_a4c5_11ea_bced_701ce71031efrow13_col1\" class=\"data row13 col1\" >haskell</td>\n",
       "                        <td id=\"T_59af550c_a4c5_11ea_bced_701ce71031efrow13_col2\" class=\"data row13 col2\" >17281</td>\n",
       "                        <td id=\"T_59af550c_a4c5_11ea_bced_701ce71031efrow13_col3\" class=\"data row13 col3\" >15000</td>\n",
       "                        <td id=\"T_59af550c_a4c5_11ea_bced_701ce71031efrow13_col4\" class=\"data row13 col4\" >11500</td>\n",
       "                        <td id=\"T_59af550c_a4c5_11ea_bced_701ce71031efrow13_col5\" class=\"data row13 col5\" >32400</td>\n",
       "                        <td id=\"T_59af550c_a4c5_11ea_bced_701ce71031efrow13_col6\" class=\"data row13 col6\" >32</td>\n",
       "                        <td id=\"T_59af550c_a4c5_11ea_bced_701ce71031efrow13_col7\" class=\"data row13 col7\" >0.01%</td>\n",
       "            </tr>\n",
       "            <tr>\n",
       "                                <td id=\"T_59af550c_a4c5_11ea_bced_701ce71031efrow14_col0\" class=\"data row14 col0\" >15</td>\n",
       "                        <td id=\"T_59af550c_a4c5_11ea_bced_701ce71031efrow14_col1\" class=\"data row14 col1\" >typescript</td>\n",
       "                        <td id=\"T_59af550c_a4c5_11ea_bced_701ce71031efrow14_col2\" class=\"data row14 col2\" >16973</td>\n",
       "                        <td id=\"T_59af550c_a4c5_11ea_bced_701ce71031efrow14_col3\" class=\"data row14 col3\" >15000</td>\n",
       "                        <td id=\"T_59af550c_a4c5_11ea_bced_701ce71031efrow14_col4\" class=\"data row14 col4\" >7500</td>\n",
       "                        <td id=\"T_59af550c_a4c5_11ea_bced_701ce71031efrow14_col5\" class=\"data row14 col5\" >37708</td>\n",
       "                        <td id=\"T_59af550c_a4c5_11ea_bced_701ce71031efrow14_col6\" class=\"data row14 col6\" >2135</td>\n",
       "                        <td id=\"T_59af550c_a4c5_11ea_bced_701ce71031efrow14_col7\" class=\"data row14 col7\" >0.95%</td>\n",
       "            </tr>\n",
       "            <tr>\n",
       "                                <td id=\"T_59af550c_a4c5_11ea_bced_701ce71031efrow15_col0\" class=\"data row15 col0\" >16</td>\n",
       "                        <td id=\"T_59af550c_a4c5_11ea_bced_701ce71031efrow15_col1\" class=\"data row15 col1\" >java</td>\n",
       "                        <td id=\"T_59af550c_a4c5_11ea_bced_701ce71031efrow15_col2\" class=\"data row15 col2\" >16943</td>\n",
       "                        <td id=\"T_59af550c_a4c5_11ea_bced_701ce71031efrow15_col3\" class=\"data row15 col3\" >15000</td>\n",
       "                        <td id=\"T_59af550c_a4c5_11ea_bced_701ce71031efrow15_col4\" class=\"data row15 col4\" >7000</td>\n",
       "                        <td id=\"T_59af550c_a4c5_11ea_bced_701ce71031efrow15_col5\" class=\"data row15 col5\" >37500</td>\n",
       "                        <td id=\"T_59af550c_a4c5_11ea_bced_701ce71031efrow15_col6\" class=\"data row15 col6\" >59138</td>\n",
       "                        <td id=\"T_59af550c_a4c5_11ea_bced_701ce71031efrow15_col7\" class=\"data row15 col7\" >26.22%</td>\n",
       "            </tr>\n",
       "            <tr>\n",
       "                                <td id=\"T_59af550c_a4c5_11ea_bced_701ce71031efrow16_col0\" class=\"data row16 col0\" >17</td>\n",
       "                        <td id=\"T_59af550c_a4c5_11ea_bced_701ce71031efrow16_col1\" class=\"data row16 col1\" >php</td>\n",
       "                        <td id=\"T_59af550c_a4c5_11ea_bced_701ce71031efrow16_col2\" class=\"data row16 col2\" >16233</td>\n",
       "                        <td id=\"T_59af550c_a4c5_11ea_bced_701ce71031efrow16_col3\" class=\"data row16 col3\" >14000</td>\n",
       "                        <td id=\"T_59af550c_a4c5_11ea_bced_701ce71031efrow16_col4\" class=\"data row16 col4\" >5250</td>\n",
       "                        <td id=\"T_59af550c_a4c5_11ea_bced_701ce71031efrow16_col5\" class=\"data row16 col5\" >40000</td>\n",
       "                        <td id=\"T_59af550c_a4c5_11ea_bced_701ce71031efrow16_col6\" class=\"data row16 col6\" >8383</td>\n",
       "                        <td id=\"T_59af550c_a4c5_11ea_bced_701ce71031efrow16_col7\" class=\"data row16 col7\" >3.72%</td>\n",
       "            </tr>\n",
       "            <tr>\n",
       "                                <td id=\"T_59af550c_a4c5_11ea_bced_701ce71031efrow17_col0\" class=\"data row17 col0\" >18</td>\n",
       "                        <td id=\"T_59af550c_a4c5_11ea_bced_701ce71031efrow17_col1\" class=\"data row17 col1\" >objective_c</td>\n",
       "                        <td id=\"T_59af550c_a4c5_11ea_bced_701ce71031efrow17_col2\" class=\"data row17 col2\" >15151</td>\n",
       "                        <td id=\"T_59af550c_a4c5_11ea_bced_701ce71031efrow17_col3\" class=\"data row17 col3\" >13000</td>\n",
       "                        <td id=\"T_59af550c_a4c5_11ea_bced_701ce71031efrow17_col4\" class=\"data row17 col4\" >6286</td>\n",
       "                        <td id=\"T_59af550c_a4c5_11ea_bced_701ce71031efrow17_col5\" class=\"data row17 col5\" >35000</td>\n",
       "                        <td id=\"T_59af550c_a4c5_11ea_bced_701ce71031efrow17_col6\" class=\"data row17 col6\" >104</td>\n",
       "                        <td id=\"T_59af550c_a4c5_11ea_bced_701ce71031efrow17_col7\" class=\"data row17 col7\" >0.05%</td>\n",
       "            </tr>\n",
       "            <tr>\n",
       "                                <td id=\"T_59af550c_a4c5_11ea_bced_701ce71031efrow18_col0\" class=\"data row18 col0\" >19</td>\n",
       "                        <td id=\"T_59af550c_a4c5_11ea_bced_701ce71031efrow18_col1\" class=\"data row18 col1\" >c_sharp</td>\n",
       "                        <td id=\"T_59af550c_a4c5_11ea_bced_701ce71031efrow18_col2\" class=\"data row18 col2\" >14546</td>\n",
       "                        <td id=\"T_59af550c_a4c5_11ea_bced_701ce71031efrow18_col3\" class=\"data row18 col3\" >12500</td>\n",
       "                        <td id=\"T_59af550c_a4c5_11ea_bced_701ce71031efrow18_col4\" class=\"data row18 col4\" >6000</td>\n",
       "                        <td id=\"T_59af550c_a4c5_11ea_bced_701ce71031efrow18_col5\" class=\"data row18 col5\" >32500</td>\n",
       "                        <td id=\"T_59af550c_a4c5_11ea_bced_701ce71031efrow18_col6\" class=\"data row18 col6\" >17461</td>\n",
       "                        <td id=\"T_59af550c_a4c5_11ea_bced_701ce71031efrow18_col7\" class=\"data row18 col7\" >7.74%</td>\n",
       "            </tr>\n",
       "            <tr>\n",
       "                                <td id=\"T_59af550c_a4c5_11ea_bced_701ce71031efrow19_col0\" class=\"data row19 col0\" >20</td>\n",
       "                        <td id=\"T_59af550c_a4c5_11ea_bced_701ce71031efrow19_col1\" class=\"data row19 col1\" >javascript</td>\n",
       "                        <td id=\"T_59af550c_a4c5_11ea_bced_701ce71031efrow19_col2\" class=\"data row19 col2\" >14387</td>\n",
       "                        <td id=\"T_59af550c_a4c5_11ea_bced_701ce71031efrow19_col3\" class=\"data row19 col3\" >12500</td>\n",
       "                        <td id=\"T_59af550c_a4c5_11ea_bced_701ce71031efrow19_col4\" class=\"data row19 col4\" >6500</td>\n",
       "                        <td id=\"T_59af550c_a4c5_11ea_bced_701ce71031efrow19_col5\" class=\"data row19 col5\" >30000</td>\n",
       "                        <td id=\"T_59af550c_a4c5_11ea_bced_701ce71031efrow19_col6\" class=\"data row19 col6\" >30983</td>\n",
       "                        <td id=\"T_59af550c_a4c5_11ea_bced_701ce71031efrow19_col7\" class=\"data row19 col7\" >13.74%</td>\n",
       "            </tr>\n",
       "            <tr>\n",
       "                                <td id=\"T_59af550c_a4c5_11ea_bced_701ce71031efrow20_col0\" class=\"data row20 col0\" >21</td>\n",
       "                        <td id=\"T_59af550c_a4c5_11ea_bced_701ce71031efrow20_col1\" class=\"data row20 col1\" >visual_basic</td>\n",
       "                        <td id=\"T_59af550c_a4c5_11ea_bced_701ce71031efrow20_col2\" class=\"data row20 col2\" >13837</td>\n",
       "                        <td id=\"T_59af550c_a4c5_11ea_bced_701ce71031efrow20_col3\" class=\"data row20 col3\" >12500</td>\n",
       "                        <td id=\"T_59af550c_a4c5_11ea_bced_701ce71031efrow20_col4\" class=\"data row20 col4\" >6962</td>\n",
       "                        <td id=\"T_59af550c_a4c5_11ea_bced_701ce71031efrow20_col5\" class=\"data row20 col5\" >22500</td>\n",
       "                        <td id=\"T_59af550c_a4c5_11ea_bced_701ce71031efrow20_col6\" class=\"data row20 col6\" >26</td>\n",
       "                        <td id=\"T_59af550c_a4c5_11ea_bced_701ce71031efrow20_col7\" class=\"data row20 col7\" >0.01%</td>\n",
       "            </tr>\n",
       "            <tr>\n",
       "                                <td id=\"T_59af550c_a4c5_11ea_bced_701ce71031efrow21_col0\" class=\"data row21 col0\" >22</td>\n",
       "                        <td id=\"T_59af550c_a4c5_11ea_bced_701ce71031efrow21_col1\" class=\"data row21 col1\" >delphi</td>\n",
       "                        <td id=\"T_59af550c_a4c5_11ea_bced_701ce71031efrow21_col2\" class=\"data row21 col2\" >12580</td>\n",
       "                        <td id=\"T_59af550c_a4c5_11ea_bced_701ce71031efrow21_col3\" class=\"data row21 col3\" >12500</td>\n",
       "                        <td id=\"T_59af550c_a4c5_11ea_bced_701ce71031efrow21_col4\" class=\"data row21 col4\" >5557</td>\n",
       "                        <td id=\"T_59af550c_a4c5_11ea_bced_701ce71031efrow21_col5\" class=\"data row21 col5\" >22607</td>\n",
       "                        <td id=\"T_59af550c_a4c5_11ea_bced_701ce71031efrow21_col6\" class=\"data row21 col6\" >384</td>\n",
       "                        <td id=\"T_59af550c_a4c5_11ea_bced_701ce71031efrow21_col7\" class=\"data row21 col7\" >0.17%</td>\n",
       "            </tr>\n",
       "            <tr>\n",
       "                                <td id=\"T_59af550c_a4c5_11ea_bced_701ce71031efrow22_col0\" class=\"data row22 col0\" >23</td>\n",
       "                        <td id=\"T_59af550c_a4c5_11ea_bced_701ce71031efrow22_col1\" class=\"data row22 col1\" >vba</td>\n",
       "                        <td id=\"T_59af550c_a4c5_11ea_bced_701ce71031efrow22_col2\" class=\"data row22 col2\" >11581</td>\n",
       "                        <td id=\"T_59af550c_a4c5_11ea_bced_701ce71031efrow22_col3\" class=\"data row22 col3\" >11000</td>\n",
       "                        <td id=\"T_59af550c_a4c5_11ea_bced_701ce71031efrow22_col4\" class=\"data row22 col4\" >4821</td>\n",
       "                        <td id=\"T_59af550c_a4c5_11ea_bced_701ce71031efrow22_col5\" class=\"data row22 col5\" >22500</td>\n",
       "                        <td id=\"T_59af550c_a4c5_11ea_bced_701ce71031efrow22_col6\" class=\"data row22 col6\" >270</td>\n",
       "                        <td id=\"T_59af550c_a4c5_11ea_bced_701ce71031efrow22_col7\" class=\"data row22 col7\" >0.12%</td>\n",
       "            </tr>\n",
       "    </tbody></table>"
      ],
      "text/plain": [
       "<pandas.io.formats.style.Styler at 0x170ac1b4608>"
      ]
     },
     "execution_count": 33,
     "metadata": {},
     "output_type": "execute_result"
    }
   ],
   "source": [
    "data_pl=get_sub_stats_by_prefix(data,'pl_')\n",
    "apply_style(data_pl)"
   ]
  },
  {
   "cell_type": "code",
   "execution_count": null,
   "metadata": {},
   "outputs": [],
   "source": []
  },
  {
   "cell_type": "markdown",
   "metadata": {},
   "source": [
    "数据显示，haskell才是最赚钱的编程语言。python是主流语言里面最赚钱的，比java的工资多了3000元！vb是最不赚钱的了。其中，最赚钱的编程语言和最不赚钱的，工资居然差了2倍。所以，要选好编程语言呀！"
   ]
  },
  {
   "cell_type": "markdown",
   "metadata": {},
   "source": [
    "# 教育"
   ]
  },
  {
   "cell_type": "code",
   "execution_count": 34,
   "metadata": {},
   "outputs": [],
   "source": [
    "edu_counts=data[~(data.edu=='')].groupby(by=['edu']).headcount.sum()"
   ]
  },
  {
   "cell_type": "code",
   "execution_count": 35,
   "metadata": {},
   "outputs": [
    {
     "data": {
      "text/plain": [
       "edu\n",
       "初中及以下       16\n",
       "博士         295\n",
       "大专       39962\n",
       "本科       95368\n",
       "硕士        4110\n",
       "高中         235\n",
       "Name: headcount, dtype: int64"
      ]
     },
     "execution_count": 35,
     "metadata": {},
     "output_type": "execute_result"
    }
   ],
   "source": [
    "edu_counts"
   ]
  },
  {
   "cell_type": "code",
   "execution_count": 36,
   "metadata": {},
   "outputs": [
    {
     "data": {
      "image/png": "[encoded data removed]",
      "text/plain": [
       "<Figure size 720x576 with 1 Axes>"
      ]
     },
     "metadata": {},
     "output_type": "display_data"
    }
   ],
   "source": [
    "plt.figure(figsize=(10,8))\n",
    "plt.pie(edu_counts.values, labels=edu_counts.index, autopct='%1.1f%%')\n",
    "plt.show()"
   ]
  },
  {
   "cell_type": "code",
   "execution_count": 37,
   "metadata": {},
   "outputs": [
    {
     "data": {
      "text/html": [
       "<style  type=\"text/css\" >\n",
       "</style><table id=\"T_606d66b6_a4c5_11ea_bd5f_701ce71031ef\" ><thead>    <tr>        <th class=\"col_heading level0 col0\" >edu</th>        <th class=\"col_heading level0 col1\" >salary_mean</th>        <th class=\"col_heading level0 col2\" >salary_95_min</th>        <th class=\"col_heading level0 col3\" >salary_median</th>        <th class=\"col_heading level0 col4\" >salary_95_max</th>        <th class=\"col_heading level0 col5\" >head_count</th>        <th class=\"col_heading level0 col6\" >percentage</th>    </tr></thead><tbody>\n",
       "                <tr>\n",
       "                                <td id=\"T_606d66b6_a4c5_11ea_bd5f_701ce71031efrow0_col0\" class=\"data row0 col0\" >博士</td>\n",
       "                        <td id=\"T_606d66b6_a4c5_11ea_bd5f_701ce71031efrow0_col1\" class=\"data row0 col1\" >30560</td>\n",
       "                        <td id=\"T_606d66b6_a4c5_11ea_bd5f_701ce71031efrow0_col2\" class=\"data row0 col2\" >2902</td>\n",
       "                        <td id=\"T_606d66b6_a4c5_11ea_bd5f_701ce71031efrow0_col3\" class=\"data row0 col3\" >30000</td>\n",
       "                        <td id=\"T_606d66b6_a4c5_11ea_bd5f_701ce71031efrow0_col4\" class=\"data row0 col4\" >62500</td>\n",
       "                        <td id=\"T_606d66b6_a4c5_11ea_bd5f_701ce71031efrow0_col5\" class=\"data row0 col5\" >295</td>\n",
       "                        <td id=\"T_606d66b6_a4c5_11ea_bd5f_701ce71031efrow0_col6\" class=\"data row0 col6\" >0.21%</td>\n",
       "            </tr>\n",
       "            <tr>\n",
       "                                <td id=\"T_606d66b6_a4c5_11ea_bd5f_701ce71031efrow1_col0\" class=\"data row1 col0\" >硕士</td>\n",
       "                        <td id=\"T_606d66b6_a4c5_11ea_bd5f_701ce71031efrow1_col1\" class=\"data row1 col1\" >24084</td>\n",
       "                        <td id=\"T_606d66b6_a4c5_11ea_bd5f_701ce71031efrow1_col2\" class=\"data row1 col2\" >9000</td>\n",
       "                        <td id=\"T_606d66b6_a4c5_11ea_bd5f_701ce71031efrow1_col3\" class=\"data row1 col3\" >22500</td>\n",
       "                        <td id=\"T_606d66b6_a4c5_11ea_bd5f_701ce71031efrow1_col4\" class=\"data row1 col4\" >50000</td>\n",
       "                        <td id=\"T_606d66b6_a4c5_11ea_bd5f_701ce71031efrow1_col5\" class=\"data row1 col5\" >4110</td>\n",
       "                        <td id=\"T_606d66b6_a4c5_11ea_bd5f_701ce71031efrow1_col6\" class=\"data row1 col6\" >2.94%</td>\n",
       "            </tr>\n",
       "            <tr>\n",
       "                                <td id=\"T_606d66b6_a4c5_11ea_bd5f_701ce71031efrow2_col0\" class=\"data row2 col0\" >本科</td>\n",
       "                        <td id=\"T_606d66b6_a4c5_11ea_bd5f_701ce71031efrow2_col1\" class=\"data row2 col1\" >17895</td>\n",
       "                        <td id=\"T_606d66b6_a4c5_11ea_bd5f_701ce71031efrow2_col2\" class=\"data row2 col2\" >7000</td>\n",
       "                        <td id=\"T_606d66b6_a4c5_11ea_bd5f_701ce71031efrow2_col3\" class=\"data row2 col3\" >16000</td>\n",
       "                        <td id=\"T_606d66b6_a4c5_11ea_bd5f_701ce71031efrow2_col4\" class=\"data row2 col4\" >39000</td>\n",
       "                        <td id=\"T_606d66b6_a4c5_11ea_bd5f_701ce71031efrow2_col5\" class=\"data row2 col5\" >95368</td>\n",
       "                        <td id=\"T_606d66b6_a4c5_11ea_bd5f_701ce71031efrow2_col6\" class=\"data row2 col6\" >68.13%</td>\n",
       "            </tr>\n",
       "            <tr>\n",
       "                                <td id=\"T_606d66b6_a4c5_11ea_bd5f_701ce71031efrow3_col0\" class=\"data row3 col0\" >大专</td>\n",
       "                        <td id=\"T_606d66b6_a4c5_11ea_bd5f_701ce71031efrow3_col1\" class=\"data row3 col1\" >13780</td>\n",
       "                        <td id=\"T_606d66b6_a4c5_11ea_bd5f_701ce71031efrow3_col2\" class=\"data row3 col2\" >5250</td>\n",
       "                        <td id=\"T_606d66b6_a4c5_11ea_bd5f_701ce71031efrow3_col3\" class=\"data row3 col3\" >12500</td>\n",
       "                        <td id=\"T_606d66b6_a4c5_11ea_bd5f_701ce71031efrow3_col4\" class=\"data row3 col4\" >29166</td>\n",
       "                        <td id=\"T_606d66b6_a4c5_11ea_bd5f_701ce71031efrow3_col5\" class=\"data row3 col5\" >39962</td>\n",
       "                        <td id=\"T_606d66b6_a4c5_11ea_bd5f_701ce71031efrow3_col6\" class=\"data row3 col6\" >28.55%</td>\n",
       "            </tr>\n",
       "            <tr>\n",
       "                                <td id=\"T_606d66b6_a4c5_11ea_bd5f_701ce71031efrow4_col0\" class=\"data row4 col0\" >高中</td>\n",
       "                        <td id=\"T_606d66b6_a4c5_11ea_bd5f_701ce71031efrow4_col1\" class=\"data row4 col1\" >10398</td>\n",
       "                        <td id=\"T_606d66b6_a4c5_11ea_bd5f_701ce71031efrow4_col2\" class=\"data row4 col2\" >4500</td>\n",
       "                        <td id=\"T_606d66b6_a4c5_11ea_bd5f_701ce71031efrow4_col3\" class=\"data row4 col3\" >9000</td>\n",
       "                        <td id=\"T_606d66b6_a4c5_11ea_bd5f_701ce71031efrow4_col4\" class=\"data row4 col4\" >29490</td>\n",
       "                        <td id=\"T_606d66b6_a4c5_11ea_bd5f_701ce71031efrow4_col5\" class=\"data row4 col5\" >235</td>\n",
       "                        <td id=\"T_606d66b6_a4c5_11ea_bd5f_701ce71031efrow4_col6\" class=\"data row4 col6\" >0.17%</td>\n",
       "            </tr>\n",
       "            <tr>\n",
       "                                <td id=\"T_606d66b6_a4c5_11ea_bd5f_701ce71031efrow5_col0\" class=\"data row5 col0\" >初中及以下</td>\n",
       "                        <td id=\"T_606d66b6_a4c5_11ea_bd5f_701ce71031efrow5_col1\" class=\"data row5 col1\" >9609</td>\n",
       "                        <td id=\"T_606d66b6_a4c5_11ea_bd5f_701ce71031efrow5_col2\" class=\"data row5 col2\" >3750</td>\n",
       "                        <td id=\"T_606d66b6_a4c5_11ea_bd5f_701ce71031efrow5_col3\" class=\"data row5 col3\" >5938</td>\n",
       "                        <td id=\"T_606d66b6_a4c5_11ea_bd5f_701ce71031efrow5_col4\" class=\"data row5 col4\" >27500</td>\n",
       "                        <td id=\"T_606d66b6_a4c5_11ea_bd5f_701ce71031efrow5_col5\" class=\"data row5 col5\" >16</td>\n",
       "                        <td id=\"T_606d66b6_a4c5_11ea_bd5f_701ce71031efrow5_col6\" class=\"data row5 col6\" >0.01%</td>\n",
       "            </tr>\n",
       "    </tbody></table>"
      ],
      "text/plain": [
       "<pandas.io.formats.style.Styler at 0x170ac1fc688>"
      ]
     },
     "execution_count": 37,
     "metadata": {},
     "output_type": "execute_result"
    }
   ],
   "source": [
    "data_edu=get_sub_stats_by_col(data[data.edu.isin(['初中及以下','高中','大专','本科','硕士','博士'])], 'edu')\n",
    "apply_style(data_edu)"
   ]
  },
  {
   "cell_type": "code",
   "execution_count": 38,
   "metadata": {},
   "outputs": [],
   "source": [
    "salary_associate=data[data.edu=='大专'].monthly_salary\n",
    "salary_bachelor=data[data.edu=='本科'].monthly_salary\n",
    "salary_master=data[data.edu=='硕士'].monthly_salary\n",
    "salary_phd=data[data.edu=='博士'].monthly_salary"
   ]
  },
  {
   "cell_type": "code",
   "execution_count": null,
   "metadata": {},
   "outputs": [],
   "source": []
  },
  {
   "cell_type": "code",
   "execution_count": 39,
   "metadata": {},
   "outputs": [
    {
     "name": "stdout",
     "output_type": "stream",
     "text": [
      "大专，本科，硕士，博士的平均工资分别是13496，17701，24011，30635。中位数分别是12500， 16000，22500， 29583。\n"
     ]
    }
   ],
   "source": [
    "print('大专，本科，硕士，博士的平均工资分别是{:.0f}，{:.0f}，{:.0f}，{:.0f}。中位数分别是{:.0f}， {:.0f}，{:.0f}， {:.0f}。'.format(\n",
    "    salary_associate.mean(),salary_bachelor.mean(),salary_master.mean(),salary_phd.mean(),\n",
    "    salary_associate.median(),salary_bachelor.median(),salary_master.median(),salary_phd.median()))"
   ]
  },
  {
   "cell_type": "code",
   "execution_count": 40,
   "metadata": {},
   "outputs": [
    {
     "data": {
      "text/plain": [
       "F_onewayResult(statistic=36.896670082132296, pvalue=1.549123744944814e-09)"
      ]
     },
     "execution_count": 40,
     "metadata": {},
     "output_type": "execute_result"
    }
   ],
   "source": [
    "stats.f_oneway(salary_phd, salary_master)"
   ]
  },
  {
   "cell_type": "code",
   "execution_count": 41,
   "metadata": {},
   "outputs": [
    {
     "data": {
      "text/plain": [
       "F_onewayResult(statistic=870.3740430680201, pvalue=6.11894353838828e-189)"
      ]
     },
     "execution_count": 41,
     "metadata": {},
     "output_type": "execute_result"
    }
   ],
   "source": [
    "stats.f_oneway(salary_master, salary_bachelor)"
   ]
  },
  {
   "cell_type": "code",
   "execution_count": 42,
   "metadata": {},
   "outputs": [
    {
     "data": {
      "text/plain": [
       "F_onewayResult(statistic=3048.6432681467486, pvalue=0.0)"
      ]
     },
     "execution_count": 42,
     "metadata": {},
     "output_type": "execute_result"
    }
   ],
   "source": [
    "stats.f_oneway(salary_bachelor, salary_associate)"
   ]
  },
  {
   "cell_type": "markdown",
   "metadata": {},
   "source": [
    "经过Oneway Anova Test，证明从大专到博士，学历每提高一级，工资都有显著的提高。"
   ]
  },
  {
   "cell_type": "code",
   "execution_count": 43,
   "metadata": {},
   "outputs": [
    {
     "data": {
      "image/png": "[encoded data removed]",
      "text/plain": [
       "<Figure size 432x288 with 1 Axes>"
      ]
     },
     "metadata": {
      "needs_background": "light"
     },
     "output_type": "display_data"
    }
   ],
   "source": [
    "\n",
    "order=['大专','本科','硕士','博士']\n",
    "a=sns.boxplot(y='edu',x='monthly_salary',order=order,data=data[data.edu.isin(order)], orient='h')\n",
    "plt.annotate('https://github.com/juwikuang/job_survey', xy=(0.5,1.5), xytext=(2, 1.55))\n",
    "plt.show()"
   ]
  },
  {
   "cell_type": "markdown",
   "metadata": {},
   "source": [
    "# 工作经验 Working Experience"
   ]
  },
  {
   "cell_type": "code",
   "execution_count": 44,
   "metadata": {},
   "outputs": [
    {
     "data": {
      "text/html": [
       "<style  type=\"text/css\" >\n",
       "</style><table id=\"T_670d1aae_a4c5_11ea_b5d9_701ce71031ef\" ><thead>    <tr>        <th class=\"col_heading level0 col0\" >experience</th>        <th class=\"col_heading level0 col1\" >salary_mean</th>        <th class=\"col_heading level0 col2\" >salary_95_min</th>        <th class=\"col_heading level0 col3\" >salary_median</th>        <th class=\"col_heading level0 col4\" >salary_95_max</th>        <th class=\"col_heading level0 col5\" >head_count</th>        <th class=\"col_heading level0 col6\" >percentage</th>    </tr></thead><tbody>\n",
       "                <tr>\n",
       "                                <td id=\"T_670d1aae_a4c5_11ea_b5d9_701ce71031efrow0_col0\" class=\"data row0 col0\" >10+</td>\n",
       "                        <td id=\"T_670d1aae_a4c5_11ea_b5d9_701ce71031efrow0_col1\" class=\"data row0 col1\" >31370</td>\n",
       "                        <td id=\"T_670d1aae_a4c5_11ea_b5d9_701ce71031efrow0_col2\" class=\"data row0 col2\" >10000</td>\n",
       "                        <td id=\"T_670d1aae_a4c5_11ea_b5d9_701ce71031efrow0_col3\" class=\"data row0 col3\" >30000</td>\n",
       "                        <td id=\"T_670d1aae_a4c5_11ea_b5d9_701ce71031efrow0_col4\" class=\"data row0 col4\" >60000</td>\n",
       "                        <td id=\"T_670d1aae_a4c5_11ea_b5d9_701ce71031efrow0_col5\" class=\"data row0 col5\" >584</td>\n",
       "                        <td id=\"T_670d1aae_a4c5_11ea_b5d9_701ce71031efrow0_col6\" class=\"data row0 col6\" >0.39%</td>\n",
       "            </tr>\n",
       "            <tr>\n",
       "                                <td id=\"T_670d1aae_a4c5_11ea_b5d9_701ce71031efrow1_col0\" class=\"data row1 col0\" >5_10</td>\n",
       "                        <td id=\"T_670d1aae_a4c5_11ea_b5d9_701ce71031efrow1_col1\" class=\"data row1 col1\" >22753</td>\n",
       "                        <td id=\"T_670d1aae_a4c5_11ea_b5d9_701ce71031efrow1_col2\" class=\"data row1 col2\" >11500</td>\n",
       "                        <td id=\"T_670d1aae_a4c5_11ea_b5d9_701ce71031efrow1_col3\" class=\"data row1 col3\" >20000</td>\n",
       "                        <td id=\"T_670d1aae_a4c5_11ea_b5d9_701ce71031efrow1_col4\" class=\"data row1 col4\" >45000</td>\n",
       "                        <td id=\"T_670d1aae_a4c5_11ea_b5d9_701ce71031efrow1_col5\" class=\"data row1 col5\" >24615</td>\n",
       "                        <td id=\"T_670d1aae_a4c5_11ea_b5d9_701ce71031efrow1_col6\" class=\"data row1 col6\" >16.40%</td>\n",
       "            </tr>\n",
       "            <tr>\n",
       "                                <td id=\"T_670d1aae_a4c5_11ea_b5d9_701ce71031efrow2_col0\" class=\"data row2 col0\" >3_5</td>\n",
       "                        <td id=\"T_670d1aae_a4c5_11ea_b5d9_701ce71031efrow2_col1\" class=\"data row2 col1\" >17637</td>\n",
       "                        <td id=\"T_670d1aae_a4c5_11ea_b5d9_701ce71031efrow2_col2\" class=\"data row2 col2\" >9000</td>\n",
       "                        <td id=\"T_670d1aae_a4c5_11ea_b5d9_701ce71031efrow2_col3\" class=\"data row2 col3\" >15500</td>\n",
       "                        <td id=\"T_670d1aae_a4c5_11ea_b5d9_701ce71031efrow2_col4\" class=\"data row2 col4\" >37500</td>\n",
       "                        <td id=\"T_670d1aae_a4c5_11ea_b5d9_701ce71031efrow2_col5\" class=\"data row2 col5\" >57421</td>\n",
       "                        <td id=\"T_670d1aae_a4c5_11ea_b5d9_701ce71031efrow2_col6\" class=\"data row2 col6\" >38.27%</td>\n",
       "            </tr>\n",
       "            <tr>\n",
       "                                <td id=\"T_670d1aae_a4c5_11ea_b5d9_701ce71031efrow3_col0\" class=\"data row3 col0\" ></td>\n",
       "                        <td id=\"T_670d1aae_a4c5_11ea_b5d9_701ce71031efrow3_col1\" class=\"data row3 col1\" >15866</td>\n",
       "                        <td id=\"T_670d1aae_a4c5_11ea_b5d9_701ce71031efrow3_col2\" class=\"data row3 col2\" >5250</td>\n",
       "                        <td id=\"T_670d1aae_a4c5_11ea_b5d9_701ce71031efrow3_col3\" class=\"data row3 col3\" >14000</td>\n",
       "                        <td id=\"T_670d1aae_a4c5_11ea_b5d9_701ce71031efrow3_col4\" class=\"data row3 col4\" >35000</td>\n",
       "                        <td id=\"T_670d1aae_a4c5_11ea_b5d9_701ce71031efrow3_col5\" class=\"data row3 col5\" >16392</td>\n",
       "                        <td id=\"T_670d1aae_a4c5_11ea_b5d9_701ce71031efrow3_col6\" class=\"data row3 col6\" >10.92%</td>\n",
       "            </tr>\n",
       "            <tr>\n",
       "                                <td id=\"T_670d1aae_a4c5_11ea_b5d9_701ce71031efrow4_col0\" class=\"data row4 col0\" >1_3</td>\n",
       "                        <td id=\"T_670d1aae_a4c5_11ea_b5d9_701ce71031efrow4_col1\" class=\"data row4 col1\" >13283</td>\n",
       "                        <td id=\"T_670d1aae_a4c5_11ea_b5d9_701ce71031efrow4_col2\" class=\"data row4 col2\" >5250</td>\n",
       "                        <td id=\"T_670d1aae_a4c5_11ea_b5d9_701ce71031efrow4_col3\" class=\"data row4 col3\" >12500</td>\n",
       "                        <td id=\"T_670d1aae_a4c5_11ea_b5d9_701ce71031efrow4_col4\" class=\"data row4 col4\" >30000</td>\n",
       "                        <td id=\"T_670d1aae_a4c5_11ea_b5d9_701ce71031efrow4_col5\" class=\"data row4 col5\" >51037</td>\n",
       "                        <td id=\"T_670d1aae_a4c5_11ea_b5d9_701ce71031efrow4_col6\" class=\"data row4 col6\" >34.01%</td>\n",
       "            </tr>\n",
       "    </tbody></table>"
      ],
      "text/plain": [
       "<pandas.io.formats.style.Styler at 0x170afb53ac8>"
      ]
     },
     "execution_count": 44,
     "metadata": {},
     "output_type": "execute_result"
    }
   ],
   "source": [
    "data_experience=get_sub_stats_by_col(data, 'experience')\n",
    "apply_style(data_experience)"
   ]
  },
  {
   "cell_type": "code",
   "execution_count": 45,
   "metadata": {},
   "outputs": [],
   "source": [
    "salary_we_10=data[data.experience=='10+'].monthly_salary\n",
    "salary_we_5_10=data[data.experience=='5_10'].monthly_salary\n",
    "salary_we_3_5=data[data.experience=='3_5'].monthly_salary\n",
    "salary_we_1_3=data[data.experience=='1_3'].monthly_salary\n",
    "salary_we_no=data[data.experience=='no'].monthly_salary"
   ]
  },
  {
   "cell_type": "code",
   "execution_count": 46,
   "metadata": {},
   "outputs": [
    {
     "data": {
      "image/png": "[encoded data removed]",
      "text/plain": [
       "<Figure size 432x288 with 1 Axes>"
      ]
     },
     "metadata": {
      "needs_background": "light"
     },
     "output_type": "display_data"
    }
   ],
   "source": [
    "\n",
    "order=['10+','5_10','3_5','1_3']\n",
    "sns.boxplot(y='experience',x='monthly_salary',order=order,data=data[data.experience.isin(order)], orient='h')\n",
    "plt.annotate('https://github.com/juwikuang/job_survey', xy=(1.5,1.5), xytext=(1.55, 1.55))\n",
    "plt.show()"
   ]
  },
  {
   "cell_type": "markdown",
   "metadata": {},
   "source": [
    "# 公司 Company"
   ]
  },
  {
   "cell_type": "markdown",
   "metadata": {},
   "source": [
    "## 公司性质 Company Type"
   ]
  },
  {
   "cell_type": "code",
   "execution_count": null,
   "metadata": {},
   "outputs": [],
   "source": [
    "data_company_type=get_sub_stats_by_col(data,'company_type')\n",
    "apply_style(data_company_type)"
   ]
  },
  {
   "cell_type": "markdown",
   "metadata": {},
   "source": [
    "us_eu是欧美外企，startup是创业公司，listed是上市公司，state是国企，private是私企，foreign是非欧美外企，其他不足1000个样本的不管了。"
   ]
  },
  {
   "cell_type": "markdown",
   "metadata": {},
   "source": [
    "## 公司规模 Company Size"
   ]
  },
  {
   "cell_type": "code",
   "execution_count": null,
   "metadata": {},
   "outputs": [],
   "source": [
    "data_company_size=get_sub_stats_by_col(data,'company_size')\n",
    "apply_style(data_company_size)"
   ]
  },
  {
   "cell_type": "markdown",
   "metadata": {},
   "source": [
    "公司越大，工资越高"
   ]
  },
  {
   "cell_type": "markdown",
   "metadata": {},
   "source": [
    "## 行业 Industry"
   ]
  },
  {
   "cell_type": "code",
   "execution_count": null,
   "metadata": {},
   "outputs": [],
   "source": [
    "data_industry=get_sub_stats_by_col(data,'industry')\n",
    "apply_style(data_industry)"
   ]
  },
  {
   "cell_type": "code",
   "execution_count": null,
   "metadata": {},
   "outputs": [],
   "source": []
  },
  {
   "cell_type": "code",
   "execution_count": null,
   "metadata": {},
   "outputs": [],
   "source": []
  }
 ],
 "metadata": {
  "kernelspec": {
   "display_name": "Python 3",
   "language": "python",
   "name": "python3"
  },
  "language_info": {
   "codemirror_mode": {
    "name": "ipython",
    "version": 3
   },
   "file_extension": ".py",
   "mimetype": "text/x-python",
   "name": "python",
   "nbconvert_exporter": "python",
   "pygments_lexer": "ipython3",
   "version": "3.7.4"
  }
 },
 "nbformat": 4,
 "nbformat_minor": 4
}
