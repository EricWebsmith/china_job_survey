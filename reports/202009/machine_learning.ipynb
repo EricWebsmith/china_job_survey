{
 "cells": [
  {
   "cell_type": "code",
   "execution_count": 1,
   "metadata": {},
   "outputs": [],
   "source": [
    "from config import *"
   ]
  },
  {
   "cell_type": "code",
   "execution_count": 2,
   "metadata": {},
   "outputs": [
    {
     "name": "stdout",
     "output_type": "stream",
     "text": [
      "2020年9月\n"
     ]
    }
   ],
   "source": [
    "print(f'{year}年{month}月')"
   ]
  },
  {
   "cell_type": "markdown",
   "metadata": {},
   "source": []
  },
  {
   "cell_type": "code",
   "execution_count": 3,
   "metadata": {},
   "outputs": [],
   "source": [
    "import pandas as pd\n",
    "import sys\n",
    "sys.path.append('..')\n",
    "sys.path.append('../py')\n",
    "sys.path.append('../../py')\n",
    "import db\n",
    "import inspect\n",
    "import matplotlib.pyplot as plt\n",
    "plt.rcParams['font.sans-serif']=['Micrsoft YaHei'] #用来正常显示中文标签\n",
    "plt.rcParams['axes.unicode_minus']=False #用来正常显示负号\n",
    "import seaborn as sns\n",
    "import scipy.stats as stats\n",
    "import numpy as np\n",
    "import weighted\n",
    "%matplotlib inline"
   ]
  },
  {
   "cell_type": "code",
   "execution_count": 4,
   "metadata": {},
   "outputs": [],
   "source": [
    "conn=db.get_conn()\n",
    "data=pd.read_sql(sql=f\"select * from jobs where year_month={year}{month:02} and monthly_salary>0 and career='机器学习' and monthly_salary<80000\", con=conn)\n",
    "conn.close()"
   ]
  },
  {
   "cell_type": "code",
   "execution_count": null,
   "metadata": {},
   "outputs": [],
   "source": []
  },
  {
   "cell_type": "code",
   "execution_count": 5,
   "metadata": {},
   "outputs": [],
   "source": [
    "#del data['publish_date']\n",
    "#del data['published_on_weekend']\n",
    "#del data['title']\n",
    "#del data['title']\n",
    "#del data['company_title']\n",
    "#del data['company_description']\n",
    "#del data['job_description']\n",
    "#del data['job_id']"
   ]
  },
  {
   "cell_type": "code",
   "execution_count": 6,
   "metadata": {},
   "outputs": [
    {
     "data": {
      "text/html": [
       "<div>\n",
       "<style scoped>\n",
       "    .dataframe tbody tr th:only-of-type {\n",
       "        vertical-align: middle;\n",
       "    }\n",
       "\n",
       "    .dataframe tbody tr th {\n",
       "        vertical-align: top;\n",
       "    }\n",
       "\n",
       "    .dataframe thead th {\n",
       "        text-align: right;\n",
       "    }\n",
       "</style>\n",
       "<table border=\"1\" class=\"dataframe\">\n",
       "  <thead>\n",
       "    <tr style=\"text-align: right;\">\n",
       "      <th></th>\n",
       "      <th>job_id</th>\n",
       "      <th>year_month</th>\n",
       "      <th>monthly_salary</th>\n",
       "      <th>headcount</th>\n",
       "      <th>title</th>\n",
       "      <th>page_title</th>\n",
       "      <th>zhinengleibie</th>\n",
       "      <th>career</th>\n",
       "      <th>city</th>\n",
       "      <th>province</th>\n",
       "      <th>...</th>\n",
       "      <th>bd_hbase</th>\n",
       "      <th>bd_storm</th>\n",
       "      <th>bd_pig</th>\n",
       "      <th>bd_mahout</th>\n",
       "      <th>bd_impala</th>\n",
       "      <th>bd_yarn</th>\n",
       "      <th>bd_alluxio</th>\n",
       "      <th>bd_flink</th>\n",
       "      <th>bd_presto</th>\n",
       "      <th>bd_heron</th>\n",
       "    </tr>\n",
       "  </thead>\n",
       "  <tbody>\n",
       "    <tr>\n",
       "      <th>197</th>\n",
       "      <td>122057593</td>\n",
       "      <td>202009</td>\n",
       "      <td>5250</td>\n",
       "      <td>12</td>\n",
       "      <td>机器学习工程师助理</td>\n",
       "      <td>【郑州机器学习工程师助理_机器学习工程师助理招聘_河南艾茵斯物联网科技有限公司】-前程无忧官...</td>\n",
       "      <td>机器学习工程师</td>\n",
       "      <td>机器学习</td>\n",
       "      <td>郑州</td>\n",
       "      <td>河南</td>\n",
       "      <td>...</td>\n",
       "      <td>False</td>\n",
       "      <td>False</td>\n",
       "      <td>False</td>\n",
       "      <td>False</td>\n",
       "      <td>False</td>\n",
       "      <td>False</td>\n",
       "      <td>False</td>\n",
       "      <td>False</td>\n",
       "      <td>False</td>\n",
       "      <td>False</td>\n",
       "    </tr>\n",
       "  </tbody>\n",
       "</table>\n",
       "<p>1 rows × 118 columns</p>\n",
       "</div>"
      ],
      "text/plain": [
       "        job_id  year_month  monthly_salary  headcount      title  \\\n",
       "197  122057593      202009            5250         12  机器学习工程师助理   \n",
       "\n",
       "                                            page_title zhinengleibie career  \\\n",
       "197  【郑州机器学习工程师助理_机器学习工程师助理招聘_河南艾茵斯物联网科技有限公司】-前程无忧官...       机器学习工程师   机器学习   \n",
       "\n",
       "    city province  ... bd_hbase  bd_storm  bd_pig  bd_mahout  bd_impala  \\\n",
       "197   郑州       河南  ...    False     False   False      False      False   \n",
       "\n",
       "     bd_yarn  bd_alluxio  bd_flink  bd_presto  bd_heron  \n",
       "197    False       False     False      False     False  \n",
       "\n",
       "[1 rows x 118 columns]"
      ]
     },
     "execution_count": 6,
     "metadata": {},
     "output_type": "execute_result"
    }
   ],
   "source": [
    "data=data.sort_values(by='headcount', ascending=False)\n",
    "data.head(1)"
   ]
  },
  {
   "cell_type": "code",
   "execution_count": 7,
   "metadata": {},
   "outputs": [],
   "source": [
    "def pd_weighted_mean(group, avg_name, weight_name):\n",
    "    \"\"\" http://stackoverflow.com/questions/10951341/pandas-dataframe-aggregate-function-using-multiple-columns\n",
    "    In rare instance, we may not have weights, so just return the mean. Customize this if your business case\n",
    "    should return otherwise.\n",
    "    \"\"\"\n",
    "    d = group[avg_name]\n",
    "    w = group[weight_name]\n",
    "    try:\n",
    "        return (d * w).sum() / w.sum()\n",
    "    except ZeroDivisionError:\n",
    "        return d.mean()\n"
   ]
  },
  {
   "cell_type": "markdown",
   "metadata": {},
   "source": [
    "# Unilateral Stats 总体统计"
   ]
  },
  {
   "cell_type": "markdown",
   "metadata": {},
   "source": [
    "有数据可知，程序员向一线城市集中的趋势非常明显。\n",
    "\n",
    "According to the statistics, significant amount of developers are in the first tier cities."
   ]
  },
  {
   "cell_type": "code",
   "execution_count": 8,
   "metadata": {},
   "outputs": [
    {
     "data": {
      "text/plain": [
       "(435, 118)"
      ]
     },
     "execution_count": 8,
     "metadata": {},
     "output_type": "execute_result"
    }
   ],
   "source": [
    "data.shape"
   ]
  },
  {
   "cell_type": "code",
   "execution_count": 9,
   "metadata": {},
   "outputs": [
    {
     "data": {
      "text/plain": [
       "1256"
      ]
     },
     "execution_count": 9,
     "metadata": {},
     "output_type": "execute_result"
    }
   ],
   "source": [
    "data.headcount.sum()"
   ]
  },
  {
   "cell_type": "code",
   "execution_count": 10,
   "metadata": {},
   "outputs": [
    {
     "data": {
      "text/plain": [
       "array([ 5250., 10000., 17500., 27500., 52920.])"
      ]
     },
     "execution_count": 10,
     "metadata": {},
     "output_type": "execute_result"
    }
   ],
   "source": [
    "salary_mean=weighted.weighted_mean(data.monthly_salary.values, data.headcount.values)\n",
    "q=weighted.weighted_quantile(data.monthly_salary.values,[0.025,0.25,0.5,0.75,0.975], data.headcount.values)\n",
    "q"
   ]
  },
  {
   "cell_type": "code",
   "execution_count": 11,
   "metadata": {},
   "outputs": [
    {
     "name": "stdout",
     "output_type": "stream",
     "text": [
      "2020年9月中国机器学习工程师的平均工资为20207元，工资中位数为17500元，其中95%的人的工资位于5250到52920元之间。\n"
     ]
    }
   ],
   "source": [
    "print(f'{year}年{month}月中国机器学习工程师的平均工资为{salary_mean:.0f}元，工资中位数为{q[2]:.0f}元，其中95%的人的工资位于{q[0]:.0f}到{q[4]:.0f}元之间。')"
   ]
  },
  {
   "cell_type": "code",
   "execution_count": 12,
   "metadata": {},
   "outputs": [
    {
     "name": "stdout",
     "output_type": "stream",
     "text": [
      "In 2020, Developers in China earn 20207 Yuan as average, the median is 17500 Yuan, 95% of them earn between 5250 and 52920 Yuan.\n"
     ]
    }
   ],
   "source": [
    "print(f'In {year}, Developers in China earn {salary_mean:.0f} Yuan as average, '\n",
    "      f'the median is {q[2]:.0f} Yuan, 95% of them earn between {q[0]:.0f} and {q[4]:.0f} Yuan.')"
   ]
  },
  {
   "cell_type": "code",
   "execution_count": 13,
   "metadata": {},
   "outputs": [
    {
     "name": "stderr",
     "output_type": "stream",
     "text": [
      "findfont: Font family ['sans-serif'] not found. Falling back to DejaVu Sans.\n"
     ]
    },
    {
     "data": {
      "image/png": "[encoded data removed]",
      "text/plain": [
       "<Figure size 432x288 with 1 Axes>"
      ]
     },
     "metadata": {
      "needs_background": "light"
     },
     "output_type": "display_data"
    }
   ],
   "source": [
    "data.monthly_salary.hist()\n",
    "plt.show()"
   ]
  },
  {
   "cell_type": "markdown",
   "metadata": {},
   "source": [
    "It does not look like normal distribution."
   ]
  },
  {
   "cell_type": "code",
   "execution_count": 14,
   "metadata": {},
   "outputs": [],
   "source": [
    "from scipy import stats"
   ]
  },
  {
   "cell_type": "markdown",
   "metadata": {},
   "source": [
    "## Role 角色"
   ]
  },
  {
   "cell_type": "code",
   "execution_count": 15,
   "metadata": {},
   "outputs": [],
   "source": [
    "#Common Functions\n",
    "def get_sub_stats_by_col(data, col):\n",
    "    categories=data[col].unique()\n",
    "    salary_mean=[]\n",
    "    salary_95_min=[]\n",
    "    salary_95_max=[]\n",
    "    salary_median=[]\n",
    "    \n",
    "\n",
    "    count=[]\n",
    "    \n",
    "    categorys_out=[]\n",
    "    for category in categories:\n",
    "        #print(feature)\n",
    "        idata=data[data[col]==category]\n",
    "        headcount=idata.headcount.sum()\n",
    "        values = idata.monthly_salary.values\n",
    "        weights = idata.headcount.values\n",
    "        #print(str(headcount))\n",
    "        if headcount==0:\n",
    "            continue\n",
    "        \n",
    "        salary_mean.append(np.average(values, weights=weights))\n",
    "        \n",
    "\n",
    "        q = weighted.weighted_quantile(values,[0.025,0.5,0.975],weights)\n",
    "        salary_95_min.append(q[0])\n",
    "        salary_median.append(q[1])\n",
    "        salary_95_max.append(q[2])\n",
    "        count.append(idata.headcount.sum())\n",
    "        categorys_out.append(category)\n",
    "    sub_data=pd.DataFrame()\n",
    "    sub_data[col]=[c for c in categorys_out]\n",
    "    sub_data['salary_mean']=salary_mean\n",
    "    sub_data['salary_95_min']=salary_95_min\n",
    "    sub_data['salary_median']=salary_median\n",
    "    sub_data['salary_95_max']=salary_95_max\n",
    "    sub_data['head_count']=count\n",
    "    sub_data['percentage']=count/np.sum(count)\n",
    "    sub_data=sub_data.sort_values(by='salary_mean', ascending=False)\n",
    "\n",
    "    return sub_data\n",
    "\n",
    "def get_sub_stats_by_prefix(data, prefix):\n",
    "    \n",
    "    features = [feature for feature in data.columns if feature.startswith(prefix)]\n",
    "    salary_mean=[]\n",
    "    salary_median=[]\n",
    "    salary_95_min=[]\n",
    "    salary_95_max=[]\n",
    "    count=[]\n",
    "    \n",
    "    features_out=[]\n",
    "    for feature in features:\n",
    "        #print(feature)\n",
    "        idata=data[data[feature]==1]\n",
    "        headcount=idata.headcount.sum()\n",
    "        values = idata.monthly_salary.values\n",
    "        weights = idata.headcount.values\n",
    "        #print(str(headcount))\n",
    "        if headcount==0:\n",
    "            continue\n",
    "        \n",
    "        salary_mean.append(weighted.weighted_mean(values, weights))\n",
    "        q = weighted.weighted_quantile(values,[0.025,0.5,0.975],weights)\n",
    "        salary_median.append(q[1])\n",
    "        salary_95_min.append(q[0])\n",
    "        salary_95_max.append(q[2])\n",
    "        count.append(idata.headcount.sum())\n",
    "        features_out.append(feature)\n",
    "    sub_data=pd.DataFrame()\n",
    "    sub_data['rank']=range(0,len(features_out))\n",
    "    sub_data[prefix]=[f.replace(prefix,'') for f in features_out]\n",
    "    sub_data['salary_mean']=salary_mean\n",
    "    sub_data['salary_median']=salary_median\n",
    "    sub_data['salary_95_min']=salary_95_min\n",
    "    sub_data['salary_95_max']=salary_95_max\n",
    "    sub_data['head_count']=count\n",
    "    sub_data['percentage']=count/np.sum(count)\n",
    "    sub_data=sub_data.sort_values(by='salary_mean', ascending=False)\n",
    "    sub_data['rank']=range(1,len(features_out)+1)\n",
    "    #sub_data=sub_data.reset_index()\n",
    "    return sub_data\n",
    "\n",
    "def apply_style(sub_data):\n",
    "    return sub_data.style.hide_index().format(\n",
    "    {\"salary_mean\":\"{:.0f}\",\"salary_median\":\"{:.0f}\",\"salary_95_min\":\"{:.0f}\",\"salary_95_max\":\"{:.0f}\",\"percentage\":\"{:.2%}\"})"
   ]
  },
  {
   "cell_type": "code",
   "execution_count": 16,
   "metadata": {},
   "outputs": [
    {
     "data": {
      "text/html": [
       "<style  type=\"text/css\" >\n",
       "</style><table id=\"T_abc3e195_f1ee_11ea_a63f_701ce71031ef\" ><thead>    <tr>        <th class=\"blank level0\" ></th>        <th class=\"col_heading level0 col0\" >career</th>        <th class=\"col_heading level0 col1\" >salary_mean</th>        <th class=\"col_heading level0 col2\" >salary_95_min</th>        <th class=\"col_heading level0 col3\" >salary_median</th>        <th class=\"col_heading level0 col4\" >salary_95_max</th>        <th class=\"col_heading level0 col5\" >head_count</th>        <th class=\"col_heading level0 col6\" >percentage</th>    </tr></thead><tbody>\n",
       "                <tr>\n",
       "                        <th id=\"T_abc3e195_f1ee_11ea_a63f_701ce71031eflevel0_row0\" class=\"row_heading level0 row0\" >0</th>\n",
       "                        <td id=\"T_abc3e195_f1ee_11ea_a63f_701ce71031efrow0_col0\" class=\"data row0 col0\" >机器学习</td>\n",
       "                        <td id=\"T_abc3e195_f1ee_11ea_a63f_701ce71031efrow0_col1\" class=\"data row0 col1\" >20207</td>\n",
       "                        <td id=\"T_abc3e195_f1ee_11ea_a63f_701ce71031efrow0_col2\" class=\"data row0 col2\" >5250.000000</td>\n",
       "                        <td id=\"T_abc3e195_f1ee_11ea_a63f_701ce71031efrow0_col3\" class=\"data row0 col3\" >17500</td>\n",
       "                        <td id=\"T_abc3e195_f1ee_11ea_a63f_701ce71031efrow0_col4\" class=\"data row0 col4\" >52920.000000</td>\n",
       "                        <td id=\"T_abc3e195_f1ee_11ea_a63f_701ce71031efrow0_col5\" class=\"data row0 col5\" >1256</td>\n",
       "                        <td id=\"T_abc3e195_f1ee_11ea_a63f_701ce71031efrow0_col6\" class=\"data row0 col6\" >100.00%</td>\n",
       "            </tr>\n",
       "    </tbody></table>"
      ],
      "text/plain": [
       "<pandas.io.formats.style.Styler at 0x16da6aa0160>"
      ]
     },
     "execution_count": 16,
     "metadata": {},
     "output_type": "execute_result"
    }
   ],
   "source": [
    "data_career = get_sub_stats_by_col(data,'career')\n",
    "data_career.style.format({\"salary_mean\":\"{:.0f}\",\"salary_median\":\"{:.0f}\",\"percentage\":\"{:.2%}\"})"
   ]
  },
  {
   "cell_type": "code",
   "execution_count": 17,
   "metadata": {},
   "outputs": [
    {
     "data": {
      "text/plain": [
       "20206.839171974523"
      ]
     },
     "execution_count": 17,
     "metadata": {},
     "output_type": "execute_result"
    }
   ],
   "source": [
    "np.sum(data.monthly_salary * data.headcount) / data.headcount.sum()"
   ]
  },
  {
   "cell_type": "code",
   "execution_count": 18,
   "metadata": {},
   "outputs": [
    {
     "data": {
      "text/plain": [
       "1256"
      ]
     },
     "execution_count": 18,
     "metadata": {},
     "output_type": "execute_result"
    }
   ],
   "source": [
    "data.headcount.sum()"
   ]
  },
  {
   "cell_type": "code",
   "execution_count": 19,
   "metadata": {},
   "outputs": [
    {
     "data": {
      "text/plain": [
       "count    435.000000\n",
       "mean       2.887356\n",
       "std        2.089848\n",
       "min        1.000000\n",
       "25%        1.000000\n",
       "50%        2.000000\n",
       "75%        5.000000\n",
       "max       12.000000\n",
       "Name: headcount, dtype: float64"
      ]
     },
     "execution_count": 19,
     "metadata": {},
     "output_type": "execute_result"
    }
   ],
   "source": [
    "data.headcount.describe()"
   ]
  },
  {
   "cell_type": "code",
   "execution_count": 20,
   "metadata": {},
   "outputs": [],
   "source": [
    "pd.options.display.max_columns=100\n"
   ]
  },
  {
   "cell_type": "markdown",
   "metadata": {},
   "source": []
  },
  {
   "cell_type": "code",
   "execution_count": 21,
   "metadata": {},
   "outputs": [
    {
     "data": {
      "text/plain": [
       "1256"
      ]
     },
     "execution_count": 21,
     "metadata": {},
     "output_type": "execute_result"
    }
   ],
   "source": [
    "data.headcount.sum()"
   ]
  },
  {
   "cell_type": "markdown",
   "metadata": {},
   "source": [
    "# 城市"
   ]
  },
  {
   "cell_type": "code",
   "execution_count": 22,
   "metadata": {},
   "outputs": [
    {
     "data": {
      "text/html": [
       "<style  type=\"text/css\" >\n",
       "</style><table id=\"T_abddb224_f1ee_11ea_908b_701ce71031ef\" ><thead>    <tr>        <th class=\"col_heading level0 col0\" >city</th>        <th class=\"col_heading level0 col1\" >salary_mean</th>        <th class=\"col_heading level0 col2\" >salary_95_min</th>        <th class=\"col_heading level0 col3\" >salary_median</th>        <th class=\"col_heading level0 col4\" >salary_95_max</th>        <th class=\"col_heading level0 col5\" >head_count</th>        <th class=\"col_heading level0 col6\" >percentage</th>    </tr></thead><tbody>\n",
       "                <tr>\n",
       "                                <td id=\"T_abddb224_f1ee_11ea_908b_701ce71031efrow0_col0\" class=\"data row0 col0\" >北京</td>\n",
       "                        <td id=\"T_abddb224_f1ee_11ea_908b_701ce71031efrow0_col1\" class=\"data row0 col1\" >30174</td>\n",
       "                        <td id=\"T_abddb224_f1ee_11ea_908b_701ce71031efrow0_col2\" class=\"data row0 col2\" >8367</td>\n",
       "                        <td id=\"T_abddb224_f1ee_11ea_908b_701ce71031efrow0_col3\" class=\"data row0 col3\" >30000</td>\n",
       "                        <td id=\"T_abddb224_f1ee_11ea_908b_701ce71031efrow0_col4\" class=\"data row0 col4\" >60000</td>\n",
       "                        <td id=\"T_abddb224_f1ee_11ea_908b_701ce71031efrow0_col5\" class=\"data row0 col5\" >182</td>\n",
       "                        <td id=\"T_abddb224_f1ee_11ea_908b_701ce71031efrow0_col6\" class=\"data row0 col6\" >14.49%</td>\n",
       "            </tr>\n",
       "            <tr>\n",
       "                                <td id=\"T_abddb224_f1ee_11ea_908b_701ce71031efrow1_col0\" class=\"data row1 col0\" >深圳</td>\n",
       "                        <td id=\"T_abddb224_f1ee_11ea_908b_701ce71031efrow1_col1\" class=\"data row1 col1\" >26564</td>\n",
       "                        <td id=\"T_abddb224_f1ee_11ea_908b_701ce71031efrow1_col2\" class=\"data row1 col2\" >7000</td>\n",
       "                        <td id=\"T_abddb224_f1ee_11ea_908b_701ce71031efrow1_col3\" class=\"data row1 col3\" >22500</td>\n",
       "                        <td id=\"T_abddb224_f1ee_11ea_908b_701ce71031efrow1_col4\" class=\"data row1 col4\" >56610</td>\n",
       "                        <td id=\"T_abddb224_f1ee_11ea_908b_701ce71031efrow1_col5\" class=\"data row1 col5\" >213</td>\n",
       "                        <td id=\"T_abddb224_f1ee_11ea_908b_701ce71031efrow1_col6\" class=\"data row1 col6\" >16.96%</td>\n",
       "            </tr>\n",
       "            <tr>\n",
       "                                <td id=\"T_abddb224_f1ee_11ea_908b_701ce71031efrow2_col0\" class=\"data row2 col0\" >上海</td>\n",
       "                        <td id=\"T_abddb224_f1ee_11ea_908b_701ce71031efrow2_col1\" class=\"data row2 col1\" >24658</td>\n",
       "                        <td id=\"T_abddb224_f1ee_11ea_908b_701ce71031efrow2_col2\" class=\"data row2 col2\" >7000</td>\n",
       "                        <td id=\"T_abddb224_f1ee_11ea_908b_701ce71031efrow2_col3\" class=\"data row2 col3\" >22500</td>\n",
       "                        <td id=\"T_abddb224_f1ee_11ea_908b_701ce71031efrow2_col4\" class=\"data row2 col4\" >59167</td>\n",
       "                        <td id=\"T_abddb224_f1ee_11ea_908b_701ce71031efrow2_col5\" class=\"data row2 col5\" >244</td>\n",
       "                        <td id=\"T_abddb224_f1ee_11ea_908b_701ce71031efrow2_col6\" class=\"data row2 col6\" >19.43%</td>\n",
       "            </tr>\n",
       "            <tr>\n",
       "                                <td id=\"T_abddb224_f1ee_11ea_908b_701ce71031efrow3_col0\" class=\"data row3 col0\" >广州</td>\n",
       "                        <td id=\"T_abddb224_f1ee_11ea_908b_701ce71031efrow3_col1\" class=\"data row3 col1\" >15642</td>\n",
       "                        <td id=\"T_abddb224_f1ee_11ea_908b_701ce71031efrow3_col2\" class=\"data row3 col2\" >1750</td>\n",
       "                        <td id=\"T_abddb224_f1ee_11ea_908b_701ce71031efrow3_col3\" class=\"data row3 col3\" >12500</td>\n",
       "                        <td id=\"T_abddb224_f1ee_11ea_908b_701ce71031efrow3_col4\" class=\"data row3 col4\" >35000</td>\n",
       "                        <td id=\"T_abddb224_f1ee_11ea_908b_701ce71031efrow3_col5\" class=\"data row3 col5\" >100</td>\n",
       "                        <td id=\"T_abddb224_f1ee_11ea_908b_701ce71031efrow3_col6\" class=\"data row3 col6\" >7.96%</td>\n",
       "            </tr>\n",
       "            <tr>\n",
       "                                <td id=\"T_abddb224_f1ee_11ea_908b_701ce71031efrow4_col0\" class=\"data row4 col0\" >武汉</td>\n",
       "                        <td id=\"T_abddb224_f1ee_11ea_908b_701ce71031efrow4_col1\" class=\"data row4 col1\" >15484</td>\n",
       "                        <td id=\"T_abddb224_f1ee_11ea_908b_701ce71031efrow4_col2\" class=\"data row4 col2\" >1950</td>\n",
       "                        <td id=\"T_abddb224_f1ee_11ea_908b_701ce71031efrow4_col3\" class=\"data row4 col3\" >16500</td>\n",
       "                        <td id=\"T_abddb224_f1ee_11ea_908b_701ce71031efrow4_col4\" class=\"data row4 col4\" >27167</td>\n",
       "                        <td id=\"T_abddb224_f1ee_11ea_908b_701ce71031efrow4_col5\" class=\"data row4 col5\" >54</td>\n",
       "                        <td id=\"T_abddb224_f1ee_11ea_908b_701ce71031efrow4_col6\" class=\"data row4 col6\" >4.30%</td>\n",
       "            </tr>\n",
       "            <tr>\n",
       "                                <td id=\"T_abddb224_f1ee_11ea_908b_701ce71031efrow5_col0\" class=\"data row5 col0\" >哈尔滨</td>\n",
       "                        <td id=\"T_abddb224_f1ee_11ea_908b_701ce71031efrow5_col1\" class=\"data row5 col1\" >5250</td>\n",
       "                        <td id=\"T_abddb224_f1ee_11ea_908b_701ce71031efrow5_col2\" class=\"data row5 col2\" >5250</td>\n",
       "                        <td id=\"T_abddb224_f1ee_11ea_908b_701ce71031efrow5_col3\" class=\"data row5 col3\" >5250</td>\n",
       "                        <td id=\"T_abddb224_f1ee_11ea_908b_701ce71031efrow5_col4\" class=\"data row5 col4\" >5250</td>\n",
       "                        <td id=\"T_abddb224_f1ee_11ea_908b_701ce71031efrow5_col5\" class=\"data row5 col5\" >67</td>\n",
       "                        <td id=\"T_abddb224_f1ee_11ea_908b_701ce71031efrow5_col6\" class=\"data row5 col6\" >5.33%</td>\n",
       "            </tr>\n",
       "    </tbody></table>"
      ],
      "text/plain": [
       "<pandas.io.formats.style.Styler at 0x16da0cfc8b0>"
      ]
     },
     "execution_count": 22,
     "metadata": {},
     "output_type": "execute_result"
    }
   ],
   "source": [
    "data_pl=get_sub_stats_by_col(data,'city')\n",
    "data_pl=data_pl[data_pl['head_count']>50]\n",
    "apply_style(data_pl)"
   ]
  },
  {
   "cell_type": "code",
   "execution_count": 23,
   "metadata": {},
   "outputs": [
    {
     "data": {
      "text/plain": [
       "0.3152866242038217"
      ]
     },
     "execution_count": 23,
     "metadata": {},
     "output_type": "execute_result"
    }
   ],
   "source": [
    "other=1-data_pl['percentage'].sum()\n",
    "other"
   ]
  },
  {
   "cell_type": "code",
   "execution_count": 24,
   "metadata": {},
   "outputs": [],
   "source": [
    "head_counts=list(data_pl['percentage'].values)\n",
    "head_counts.append(other)\n",
    "head_counts\n",
    "\n",
    "labels=list(data_pl['city'].values)\n",
    "labels.append('其他')"
   ]
  },
  {
   "cell_type": "code",
   "execution_count": 25,
   "metadata": {},
   "outputs": [
    {
     "name": "stderr",
     "output_type": "stream",
     "text": [
      "findfont: Font family ['sans-serif'] not found. Falling back to DejaVu Sans.\n",
      "E:\\ProgramData\\Anaconda3\\lib\\site-packages\\matplotlib\\backends\\backend_agg.py:214: RuntimeWarning: Glyph 31639 missing from current font.\n",
      "  font.set_text(s, 0.0, flags=flags)\n",
      "E:\\ProgramData\\Anaconda3\\lib\\site-packages\\matplotlib\\backends\\backend_agg.py:214: RuntimeWarning: Glyph 27861 missing from current font.\n",
      "  font.set_text(s, 0.0, flags=flags)\n",
      "E:\\ProgramData\\Anaconda3\\lib\\site-packages\\matplotlib\\backends\\backend_agg.py:214: RuntimeWarning: Glyph 24037 missing from current font.\n",
      "  font.set_text(s, 0.0, flags=flags)\n",
      "E:\\ProgramData\\Anaconda3\\lib\\site-packages\\matplotlib\\backends\\backend_agg.py:214: RuntimeWarning: Glyph 31243 missing from current font.\n",
      "  font.set_text(s, 0.0, flags=flags)\n",
      "E:\\ProgramData\\Anaconda3\\lib\\site-packages\\matplotlib\\backends\\backend_agg.py:214: RuntimeWarning: Glyph 24072 missing from current font.\n",
      "  font.set_text(s, 0.0, flags=flags)\n",
      "E:\\ProgramData\\Anaconda3\\lib\\site-packages\\matplotlib\\backends\\backend_agg.py:214: RuntimeWarning: Glyph 21435 missing from current font.\n",
      "  font.set_text(s, 0.0, flags=flags)\n",
      "E:\\ProgramData\\Anaconda3\\lib\\site-packages\\matplotlib\\backends\\backend_agg.py:214: RuntimeWarning: Glyph 21738 missing from current font.\n",
      "  font.set_text(s, 0.0, flags=flags)\n",
      "E:\\ProgramData\\Anaconda3\\lib\\site-packages\\matplotlib\\backends\\backend_agg.py:214: RuntimeWarning: Glyph 37324 missing from current font.\n",
      "  font.set_text(s, 0.0, flags=flags)\n",
      "E:\\ProgramData\\Anaconda3\\lib\\site-packages\\matplotlib\\backends\\backend_agg.py:214: RuntimeWarning: Glyph 21271 missing from current font.\n",
      "  font.set_text(s, 0.0, flags=flags)\n",
      "E:\\ProgramData\\Anaconda3\\lib\\site-packages\\matplotlib\\backends\\backend_agg.py:214: RuntimeWarning: Glyph 20140 missing from current font.\n",
      "  font.set_text(s, 0.0, flags=flags)\n",
      "E:\\ProgramData\\Anaconda3\\lib\\site-packages\\matplotlib\\backends\\backend_agg.py:214: RuntimeWarning: Glyph 28145 missing from current font.\n",
      "  font.set_text(s, 0.0, flags=flags)\n",
      "E:\\ProgramData\\Anaconda3\\lib\\site-packages\\matplotlib\\backends\\backend_agg.py:214: RuntimeWarning: Glyph 22323 missing from current font.\n",
      "  font.set_text(s, 0.0, flags=flags)\n",
      "E:\\ProgramData\\Anaconda3\\lib\\site-packages\\matplotlib\\backends\\backend_agg.py:214: RuntimeWarning: Glyph 19978 missing from current font.\n",
      "  font.set_text(s, 0.0, flags=flags)\n",
      "E:\\ProgramData\\Anaconda3\\lib\\site-packages\\matplotlib\\backends\\backend_agg.py:214: RuntimeWarning: Glyph 28023 missing from current font.\n",
      "  font.set_text(s, 0.0, flags=flags)\n",
      "E:\\ProgramData\\Anaconda3\\lib\\site-packages\\matplotlib\\backends\\backend_agg.py:214: RuntimeWarning: Glyph 24191 missing from current font.\n",
      "  font.set_text(s, 0.0, flags=flags)\n",
      "E:\\ProgramData\\Anaconda3\\lib\\site-packages\\matplotlib\\backends\\backend_agg.py:214: RuntimeWarning: Glyph 24030 missing from current font.\n",
      "  font.set_text(s, 0.0, flags=flags)\n",
      "E:\\ProgramData\\Anaconda3\\lib\\site-packages\\matplotlib\\backends\\backend_agg.py:214: RuntimeWarning: Glyph 27494 missing from current font.\n",
      "  font.set_text(s, 0.0, flags=flags)\n",
      "E:\\ProgramData\\Anaconda3\\lib\\site-packages\\matplotlib\\backends\\backend_agg.py:214: RuntimeWarning: Glyph 27721 missing from current font.\n",
      "  font.set_text(s, 0.0, flags=flags)\n",
      "E:\\ProgramData\\Anaconda3\\lib\\site-packages\\matplotlib\\backends\\backend_agg.py:214: RuntimeWarning: Glyph 21704 missing from current font.\n",
      "  font.set_text(s, 0.0, flags=flags)\n",
      "E:\\ProgramData\\Anaconda3\\lib\\site-packages\\matplotlib\\backends\\backend_agg.py:214: RuntimeWarning: Glyph 23572 missing from current font.\n",
      "  font.set_text(s, 0.0, flags=flags)\n",
      "E:\\ProgramData\\Anaconda3\\lib\\site-packages\\matplotlib\\backends\\backend_agg.py:214: RuntimeWarning: Glyph 28392 missing from current font.\n",
      "  font.set_text(s, 0.0, flags=flags)\n",
      "E:\\ProgramData\\Anaconda3\\lib\\site-packages\\matplotlib\\backends\\backend_agg.py:214: RuntimeWarning: Glyph 20854 missing from current font.\n",
      "  font.set_text(s, 0.0, flags=flags)\n",
      "E:\\ProgramData\\Anaconda3\\lib\\site-packages\\matplotlib\\backends\\backend_agg.py:214: RuntimeWarning: Glyph 20182 missing from current font.\n",
      "  font.set_text(s, 0.0, flags=flags)\n",
      "E:\\ProgramData\\Anaconda3\\lib\\site-packages\\matplotlib\\backends\\backend_agg.py:183: RuntimeWarning: Glyph 21271 missing from current font.\n",
      "  font.set_text(s, 0, flags=flags)\n",
      "E:\\ProgramData\\Anaconda3\\lib\\site-packages\\matplotlib\\backends\\backend_agg.py:183: RuntimeWarning: Glyph 20140 missing from current font.\n",
      "  font.set_text(s, 0, flags=flags)\n",
      "E:\\ProgramData\\Anaconda3\\lib\\site-packages\\matplotlib\\backends\\backend_agg.py:183: RuntimeWarning: Glyph 28145 missing from current font.\n",
      "  font.set_text(s, 0, flags=flags)\n",
      "E:\\ProgramData\\Anaconda3\\lib\\site-packages\\matplotlib\\backends\\backend_agg.py:183: RuntimeWarning: Glyph 22323 missing from current font.\n",
      "  font.set_text(s, 0, flags=flags)\n",
      "E:\\ProgramData\\Anaconda3\\lib\\site-packages\\matplotlib\\backends\\backend_agg.py:183: RuntimeWarning: Glyph 19978 missing from current font.\n",
      "  font.set_text(s, 0, flags=flags)\n",
      "E:\\ProgramData\\Anaconda3\\lib\\site-packages\\matplotlib\\backends\\backend_agg.py:183: RuntimeWarning: Glyph 28023 missing from current font.\n",
      "  font.set_text(s, 0, flags=flags)\n",
      "E:\\ProgramData\\Anaconda3\\lib\\site-packages\\matplotlib\\backends\\backend_agg.py:183: RuntimeWarning: Glyph 24191 missing from current font.\n",
      "  font.set_text(s, 0, flags=flags)\n",
      "E:\\ProgramData\\Anaconda3\\lib\\site-packages\\matplotlib\\backends\\backend_agg.py:183: RuntimeWarning: Glyph 24030 missing from current font.\n",
      "  font.set_text(s, 0, flags=flags)\n",
      "E:\\ProgramData\\Anaconda3\\lib\\site-packages\\matplotlib\\backends\\backend_agg.py:183: RuntimeWarning: Glyph 27494 missing from current font.\n",
      "  font.set_text(s, 0, flags=flags)\n",
      "E:\\ProgramData\\Anaconda3\\lib\\site-packages\\matplotlib\\backends\\backend_agg.py:183: RuntimeWarning: Glyph 27721 missing from current font.\n",
      "  font.set_text(s, 0, flags=flags)\n",
      "E:\\ProgramData\\Anaconda3\\lib\\site-packages\\matplotlib\\backends\\backend_agg.py:183: RuntimeWarning: Glyph 21704 missing from current font.\n",
      "  font.set_text(s, 0, flags=flags)\n",
      "E:\\ProgramData\\Anaconda3\\lib\\site-packages\\matplotlib\\backends\\backend_agg.py:183: RuntimeWarning: Glyph 23572 missing from current font.\n",
      "  font.set_text(s, 0, flags=flags)\n",
      "E:\\ProgramData\\Anaconda3\\lib\\site-packages\\matplotlib\\backends\\backend_agg.py:183: RuntimeWarning: Glyph 28392 missing from current font.\n",
      "  font.set_text(s, 0, flags=flags)\n",
      "E:\\ProgramData\\Anaconda3\\lib\\site-packages\\matplotlib\\backends\\backend_agg.py:183: RuntimeWarning: Glyph 20854 missing from current font.\n",
      "  font.set_text(s, 0, flags=flags)\n",
      "E:\\ProgramData\\Anaconda3\\lib\\site-packages\\matplotlib\\backends\\backend_agg.py:183: RuntimeWarning: Glyph 20182 missing from current font.\n",
      "  font.set_text(s, 0, flags=flags)\n",
      "E:\\ProgramData\\Anaconda3\\lib\\site-packages\\matplotlib\\backends\\backend_agg.py:183: RuntimeWarning: Glyph 31639 missing from current font.\n",
      "  font.set_text(s, 0, flags=flags)\n",
      "E:\\ProgramData\\Anaconda3\\lib\\site-packages\\matplotlib\\backends\\backend_agg.py:183: RuntimeWarning: Glyph 27861 missing from current font.\n",
      "  font.set_text(s, 0, flags=flags)\n",
      "E:\\ProgramData\\Anaconda3\\lib\\site-packages\\matplotlib\\backends\\backend_agg.py:183: RuntimeWarning: Glyph 24037 missing from current font.\n",
      "  font.set_text(s, 0, flags=flags)\n",
      "E:\\ProgramData\\Anaconda3\\lib\\site-packages\\matplotlib\\backends\\backend_agg.py:183: RuntimeWarning: Glyph 31243 missing from current font.\n",
      "  font.set_text(s, 0, flags=flags)\n",
      "E:\\ProgramData\\Anaconda3\\lib\\site-packages\\matplotlib\\backends\\backend_agg.py:183: RuntimeWarning: Glyph 24072 missing from current font.\n",
      "  font.set_text(s, 0, flags=flags)\n",
      "E:\\ProgramData\\Anaconda3\\lib\\site-packages\\matplotlib\\backends\\backend_agg.py:183: RuntimeWarning: Glyph 21435 missing from current font.\n",
      "  font.set_text(s, 0, flags=flags)\n",
      "E:\\ProgramData\\Anaconda3\\lib\\site-packages\\matplotlib\\backends\\backend_agg.py:183: RuntimeWarning: Glyph 21738 missing from current font.\n",
      "  font.set_text(s, 0, flags=flags)\n",
      "E:\\ProgramData\\Anaconda3\\lib\\site-packages\\matplotlib\\backends\\backend_agg.py:183: RuntimeWarning: Glyph 37324 missing from current font.\n",
      "  font.set_text(s, 0, flags=flags)\n"
     ]
    },
    {
     "data": {
      "image/png": "[encoded data removed]",
      "text/plain": [
       "<Figure size 720x576 with 1 Axes>"
      ]
     },
     "metadata": {},
     "output_type": "display_data"
    }
   ],
   "source": [
    "\n",
    "plt.figure(figsize=(10,8))\n",
    "plt.pie(head_counts, labels=labels, autopct='%1.1f%%')\n",
    "plt.title(f'算法工程师去哪里')\n",
    "plt.show()"
   ]
  },
  {
   "cell_type": "markdown",
   "metadata": {},
   "source": [
    "# 编程语言"
   ]
  },
  {
   "cell_type": "code",
   "execution_count": 26,
   "metadata": {
    "scrolled": true
   },
   "outputs": [
    {
     "data": {
      "text/html": [
       "<style  type=\"text/css\" >\n",
       "</style><table id=\"T_abf9a6e8_f1ee_11ea_8b77_701ce71031ef\" ><thead>    <tr>        <th class=\"col_heading level0 col0\" >rank</th>        <th class=\"col_heading level0 col1\" >pl_</th>        <th class=\"col_heading level0 col2\" >salary_mean</th>        <th class=\"col_heading level0 col3\" >salary_median</th>        <th class=\"col_heading level0 col4\" >salary_95_min</th>        <th class=\"col_heading level0 col5\" >salary_95_max</th>        <th class=\"col_heading level0 col6\" >head_count</th>        <th class=\"col_heading level0 col7\" >percentage</th>    </tr></thead><tbody>\n",
       "                <tr>\n",
       "                                <td id=\"T_abf9a6e8_f1ee_11ea_8b77_701ce71031efrow0_col0\" class=\"data row0 col0\" >1</td>\n",
       "                        <td id=\"T_abf9a6e8_f1ee_11ea_8b77_701ce71031efrow0_col1\" class=\"data row0 col1\" >go</td>\n",
       "                        <td id=\"T_abf9a6e8_f1ee_11ea_8b77_701ce71031efrow0_col2\" class=\"data row0 col2\" >29093</td>\n",
       "                        <td id=\"T_abf9a6e8_f1ee_11ea_8b77_701ce71031efrow0_col3\" class=\"data row0 col3\" >30312</td>\n",
       "                        <td id=\"T_abf9a6e8_f1ee_11ea_8b77_701ce71031efrow0_col4\" class=\"data row0 col4\" >7000</td>\n",
       "                        <td id=\"T_abf9a6e8_f1ee_11ea_8b77_701ce71031efrow0_col5\" class=\"data row0 col5\" >60034</td>\n",
       "                        <td id=\"T_abf9a6e8_f1ee_11ea_8b77_701ce71031efrow0_col6\" class=\"data row0 col6\" >93</td>\n",
       "                        <td id=\"T_abf9a6e8_f1ee_11ea_8b77_701ce71031efrow0_col7\" class=\"data row0 col7\" >5.56%</td>\n",
       "            </tr>\n",
       "            <tr>\n",
       "                                <td id=\"T_abf9a6e8_f1ee_11ea_8b77_701ce71031efrow1_col0\" class=\"data row1 col0\" >2</td>\n",
       "                        <td id=\"T_abf9a6e8_f1ee_11ea_8b77_701ce71031efrow1_col1\" class=\"data row1 col1\" >cpp</td>\n",
       "                        <td id=\"T_abf9a6e8_f1ee_11ea_8b77_701ce71031efrow1_col2\" class=\"data row1 col2\" >26837</td>\n",
       "                        <td id=\"T_abf9a6e8_f1ee_11ea_8b77_701ce71031efrow1_col3\" class=\"data row1 col3\" >22500</td>\n",
       "                        <td id=\"T_abf9a6e8_f1ee_11ea_8b77_701ce71031efrow1_col4\" class=\"data row1 col4\" >6612</td>\n",
       "                        <td id=\"T_abf9a6e8_f1ee_11ea_8b77_701ce71031efrow1_col5\" class=\"data row1 col5\" >60000</td>\n",
       "                        <td id=\"T_abf9a6e8_f1ee_11ea_8b77_701ce71031efrow1_col6\" class=\"data row1 col6\" >409</td>\n",
       "                        <td id=\"T_abf9a6e8_f1ee_11ea_8b77_701ce71031efrow1_col7\" class=\"data row1 col7\" >24.46%</td>\n",
       "            </tr>\n",
       "            <tr>\n",
       "                                <td id=\"T_abf9a6e8_f1ee_11ea_8b77_701ce71031efrow2_col0\" class=\"data row2 col0\" >3</td>\n",
       "                        <td id=\"T_abf9a6e8_f1ee_11ea_8b77_701ce71031efrow2_col1\" class=\"data row2 col1\" >python</td>\n",
       "                        <td id=\"T_abf9a6e8_f1ee_11ea_8b77_701ce71031efrow2_col2\" class=\"data row2 col2\" >24448</td>\n",
       "                        <td id=\"T_abf9a6e8_f1ee_11ea_8b77_701ce71031efrow2_col3\" class=\"data row2 col3\" >20000</td>\n",
       "                        <td id=\"T_abf9a6e8_f1ee_11ea_8b77_701ce71031efrow2_col4\" class=\"data row2 col4\" >5250</td>\n",
       "                        <td id=\"T_abf9a6e8_f1ee_11ea_8b77_701ce71031efrow2_col5\" class=\"data row2 col5\" >60000</td>\n",
       "                        <td id=\"T_abf9a6e8_f1ee_11ea_8b77_701ce71031efrow2_col6\" class=\"data row2 col6\" >588</td>\n",
       "                        <td id=\"T_abf9a6e8_f1ee_11ea_8b77_701ce71031efrow2_col7\" class=\"data row2 col7\" >35.17%</td>\n",
       "            </tr>\n",
       "            <tr>\n",
       "                                <td id=\"T_abf9a6e8_f1ee_11ea_8b77_701ce71031efrow3_col0\" class=\"data row3 col0\" >4</td>\n",
       "                        <td id=\"T_abf9a6e8_f1ee_11ea_8b77_701ce71031efrow3_col1\" class=\"data row3 col1\" >scala</td>\n",
       "                        <td id=\"T_abf9a6e8_f1ee_11ea_8b77_701ce71031efrow3_col2\" class=\"data row3 col2\" >23610</td>\n",
       "                        <td id=\"T_abf9a6e8_f1ee_11ea_8b77_701ce71031efrow3_col3\" class=\"data row3 col3\" >22500</td>\n",
       "                        <td id=\"T_abf9a6e8_f1ee_11ea_8b77_701ce71031efrow3_col4\" class=\"data row3 col4\" >1750</td>\n",
       "                        <td id=\"T_abf9a6e8_f1ee_11ea_8b77_701ce71031efrow3_col5\" class=\"data row3 col5\" >50208</td>\n",
       "                        <td id=\"T_abf9a6e8_f1ee_11ea_8b77_701ce71031efrow3_col6\" class=\"data row3 col6\" >54</td>\n",
       "                        <td id=\"T_abf9a6e8_f1ee_11ea_8b77_701ce71031efrow3_col7\" class=\"data row3 col7\" >3.23%</td>\n",
       "            </tr>\n",
       "            <tr>\n",
       "                                <td id=\"T_abf9a6e8_f1ee_11ea_8b77_701ce71031efrow4_col0\" class=\"data row4 col0\" >5</td>\n",
       "                        <td id=\"T_abf9a6e8_f1ee_11ea_8b77_701ce71031efrow4_col1\" class=\"data row4 col1\" >matlab</td>\n",
       "                        <td id=\"T_abf9a6e8_f1ee_11ea_8b77_701ce71031efrow4_col2\" class=\"data row4 col2\" >21951</td>\n",
       "                        <td id=\"T_abf9a6e8_f1ee_11ea_8b77_701ce71031efrow4_col3\" class=\"data row4 col3\" >20000</td>\n",
       "                        <td id=\"T_abf9a6e8_f1ee_11ea_8b77_701ce71031efrow4_col4\" class=\"data row4 col4\" >5250</td>\n",
       "                        <td id=\"T_abf9a6e8_f1ee_11ea_8b77_701ce71031efrow4_col5\" class=\"data row4 col5\" >62500</td>\n",
       "                        <td id=\"T_abf9a6e8_f1ee_11ea_8b77_701ce71031efrow4_col6\" class=\"data row4 col6\" >88</td>\n",
       "                        <td id=\"T_abf9a6e8_f1ee_11ea_8b77_701ce71031efrow4_col7\" class=\"data row4 col7\" >5.26%</td>\n",
       "            </tr>\n",
       "            <tr>\n",
       "                                <td id=\"T_abf9a6e8_f1ee_11ea_8b77_701ce71031efrow5_col0\" class=\"data row5 col0\" >6</td>\n",
       "                        <td id=\"T_abf9a6e8_f1ee_11ea_8b77_701ce71031efrow5_col1\" class=\"data row5 col1\" >java</td>\n",
       "                        <td id=\"T_abf9a6e8_f1ee_11ea_8b77_701ce71031efrow5_col2\" class=\"data row5 col2\" >20826</td>\n",
       "                        <td id=\"T_abf9a6e8_f1ee_11ea_8b77_701ce71031efrow5_col3\" class=\"data row5 col3\" >20000</td>\n",
       "                        <td id=\"T_abf9a6e8_f1ee_11ea_8b77_701ce71031efrow5_col4\" class=\"data row5 col4\" >4562</td>\n",
       "                        <td id=\"T_abf9a6e8_f1ee_11ea_8b77_701ce71031efrow5_col5\" class=\"data row5 col5\" >40000</td>\n",
       "                        <td id=\"T_abf9a6e8_f1ee_11ea_8b77_701ce71031efrow5_col6\" class=\"data row5 col6\" >275</td>\n",
       "                        <td id=\"T_abf9a6e8_f1ee_11ea_8b77_701ce71031efrow5_col7\" class=\"data row5 col7\" >16.45%</td>\n",
       "            </tr>\n",
       "            <tr>\n",
       "                                <td id=\"T_abf9a6e8_f1ee_11ea_8b77_701ce71031efrow6_col0\" class=\"data row6 col0\" >8</td>\n",
       "                        <td id=\"T_abf9a6e8_f1ee_11ea_8b77_701ce71031efrow6_col1\" class=\"data row6 col1\" >r</td>\n",
       "                        <td id=\"T_abf9a6e8_f1ee_11ea_8b77_701ce71031efrow6_col2\" class=\"data row6 col2\" >20076</td>\n",
       "                        <td id=\"T_abf9a6e8_f1ee_11ea_8b77_701ce71031efrow6_col3\" class=\"data row6 col3\" >20000</td>\n",
       "                        <td id=\"T_abf9a6e8_f1ee_11ea_8b77_701ce71031efrow6_col4\" class=\"data row6 col4\" >1925</td>\n",
       "                        <td id=\"T_abf9a6e8_f1ee_11ea_8b77_701ce71031efrow6_col5\" class=\"data row6 col5\" >41875</td>\n",
       "                        <td id=\"T_abf9a6e8_f1ee_11ea_8b77_701ce71031efrow6_col6\" class=\"data row6 col6\" >117</td>\n",
       "                        <td id=\"T_abf9a6e8_f1ee_11ea_8b77_701ce71031efrow6_col7\" class=\"data row6 col7\" >7.00%</td>\n",
       "            </tr>\n",
       "    </tbody></table>"
      ],
      "text/plain": [
       "<pandas.io.formats.style.Styler at 0x16da6aa00a0>"
      ]
     },
     "execution_count": 26,
     "metadata": {},
     "output_type": "execute_result"
    }
   ],
   "source": [
    "data_pl=get_sub_stats_by_prefix(data,'pl_')\n",
    "data_pl=data_pl[data_pl['head_count']>50]\n",
    "apply_style(data_pl)"
   ]
  },
  {
   "cell_type": "code",
   "execution_count": 27,
   "metadata": {},
   "outputs": [
    {
     "name": "stderr",
     "output_type": "stream",
     "text": [
      "E:\\ProgramData\\Anaconda3\\lib\\site-packages\\matplotlib\\backends\\backend_agg.py:214: RuntimeWarning: Glyph 30340 missing from current font.\n",
      "  font.set_text(s, 0.0, flags=flags)\n",
      "E:\\ProgramData\\Anaconda3\\lib\\site-packages\\matplotlib\\backends\\backend_agg.py:214: RuntimeWarning: Glyph 32534 missing from current font.\n",
      "  font.set_text(s, 0.0, flags=flags)\n",
      "E:\\ProgramData\\Anaconda3\\lib\\site-packages\\matplotlib\\backends\\backend_agg.py:214: RuntimeWarning: Glyph 35821 missing from current font.\n",
      "  font.set_text(s, 0.0, flags=flags)\n",
      "E:\\ProgramData\\Anaconda3\\lib\\site-packages\\matplotlib\\backends\\backend_agg.py:214: RuntimeWarning: Glyph 35328 missing from current font.\n",
      "  font.set_text(s, 0.0, flags=flags)\n",
      "E:\\ProgramData\\Anaconda3\\lib\\site-packages\\matplotlib\\backends\\backend_agg.py:183: RuntimeWarning: Glyph 30340 missing from current font.\n",
      "  font.set_text(s, 0, flags=flags)\n",
      "E:\\ProgramData\\Anaconda3\\lib\\site-packages\\matplotlib\\backends\\backend_agg.py:183: RuntimeWarning: Glyph 32534 missing from current font.\n",
      "  font.set_text(s, 0, flags=flags)\n",
      "E:\\ProgramData\\Anaconda3\\lib\\site-packages\\matplotlib\\backends\\backend_agg.py:183: RuntimeWarning: Glyph 35821 missing from current font.\n",
      "  font.set_text(s, 0, flags=flags)\n",
      "E:\\ProgramData\\Anaconda3\\lib\\site-packages\\matplotlib\\backends\\backend_agg.py:183: RuntimeWarning: Glyph 35328 missing from current font.\n",
      "  font.set_text(s, 0, flags=flags)\n"
     ]
    },
    {
     "data": {
      "image/png": "[encoded data removed]",
      "text/plain": [
       "<Figure size 720x576 with 1 Axes>"
      ]
     },
     "metadata": {},
     "output_type": "display_data"
    }
   ],
   "source": [
    "head_counts=list(data_pl['percentage'].values)\n",
    "head_counts.append(other)\n",
    "head_counts\n",
    "\n",
    "labels=list(data_pl['pl_'].values)\n",
    "labels.append('其他')\n",
    "\n",
    "plt.figure(figsize=(10,8))\n",
    "plt.pie(head_counts, labels=labels, autopct='%1.0f%%')\n",
    "plt.title(f'算法工程师的编程语言')\n",
    "plt.show()"
   ]
  },
  {
   "cell_type": "markdown",
   "metadata": {},
   "source": [
    "## 大数据工具 "
   ]
  },
  {
   "cell_type": "code",
   "execution_count": 28,
   "metadata": {},
   "outputs": [
    {
     "data": {
      "text/html": [
       "<style  type=\"text/css\" >\n",
       "</style><table id=\"T_ac0a3af5_f1ee_11ea_b165_701ce71031ef\" ><thead>    <tr>        <th class=\"col_heading level0 col0\" >rank</th>        <th class=\"col_heading level0 col1\" >bd_</th>        <th class=\"col_heading level0 col2\" >salary_mean</th>        <th class=\"col_heading level0 col3\" >salary_median</th>        <th class=\"col_heading level0 col4\" >salary_95_min</th>        <th class=\"col_heading level0 col5\" >salary_95_max</th>        <th class=\"col_heading level0 col6\" >head_count</th>        <th class=\"col_heading level0 col7\" >percentage</th>    </tr></thead><tbody>\n",
       "                <tr>\n",
       "                                <td id=\"T_ac0a3af5_f1ee_11ea_b165_701ce71031efrow0_col0\" class=\"data row0 col0\" >2</td>\n",
       "                        <td id=\"T_ac0a3af5_f1ee_11ea_b165_701ce71031efrow0_col1\" class=\"data row0 col1\" >flink</td>\n",
       "                        <td id=\"T_ac0a3af5_f1ee_11ea_b165_701ce71031efrow0_col2\" class=\"data row0 col2\" >33871</td>\n",
       "                        <td id=\"T_ac0a3af5_f1ee_11ea_b165_701ce71031efrow0_col3\" class=\"data row0 col3\" >35000</td>\n",
       "                        <td id=\"T_ac0a3af5_f1ee_11ea_b165_701ce71031efrow0_col4\" class=\"data row0 col4\" >20250</td>\n",
       "                        <td id=\"T_ac0a3af5_f1ee_11ea_b165_701ce71031efrow0_col5\" class=\"data row0 col5\" >40000</td>\n",
       "                        <td id=\"T_ac0a3af5_f1ee_11ea_b165_701ce71031efrow0_col6\" class=\"data row0 col6\" >31</td>\n",
       "                        <td id=\"T_ac0a3af5_f1ee_11ea_b165_701ce71031efrow0_col7\" class=\"data row0 col7\" >7.18%</td>\n",
       "            </tr>\n",
       "            <tr>\n",
       "                                <td id=\"T_ac0a3af5_f1ee_11ea_b165_701ce71031efrow1_col0\" class=\"data row1 col0\" >3</td>\n",
       "                        <td id=\"T_ac0a3af5_f1ee_11ea_b165_701ce71031efrow1_col1\" class=\"data row1 col1\" >storm</td>\n",
       "                        <td id=\"T_ac0a3af5_f1ee_11ea_b165_701ce71031efrow1_col2\" class=\"data row1 col2\" >29444</td>\n",
       "                        <td id=\"T_ac0a3af5_f1ee_11ea_b165_701ce71031efrow1_col3\" class=\"data row1 col3\" >35000</td>\n",
       "                        <td id=\"T_ac0a3af5_f1ee_11ea_b165_701ce71031efrow1_col4\" class=\"data row1 col4\" >17500</td>\n",
       "                        <td id=\"T_ac0a3af5_f1ee_11ea_b165_701ce71031efrow1_col5\" class=\"data row1 col5\" >40000</td>\n",
       "                        <td id=\"T_ac0a3af5_f1ee_11ea_b165_701ce71031efrow1_col6\" class=\"data row1 col6\" >18</td>\n",
       "                        <td id=\"T_ac0a3af5_f1ee_11ea_b165_701ce71031efrow1_col7\" class=\"data row1 col7\" >4.17%</td>\n",
       "            </tr>\n",
       "            <tr>\n",
       "                                <td id=\"T_ac0a3af5_f1ee_11ea_b165_701ce71031efrow2_col0\" class=\"data row2 col0\" >4</td>\n",
       "                        <td id=\"T_ac0a3af5_f1ee_11ea_b165_701ce71031efrow2_col1\" class=\"data row2 col1\" >hive</td>\n",
       "                        <td id=\"T_ac0a3af5_f1ee_11ea_b165_701ce71031efrow2_col2\" class=\"data row2 col2\" >28883</td>\n",
       "                        <td id=\"T_ac0a3af5_f1ee_11ea_b165_701ce71031efrow2_col3\" class=\"data row2 col3\" >30000</td>\n",
       "                        <td id=\"T_ac0a3af5_f1ee_11ea_b165_701ce71031efrow2_col4\" class=\"data row2 col4\" >1750</td>\n",
       "                        <td id=\"T_ac0a3af5_f1ee_11ea_b165_701ce71031efrow2_col5\" class=\"data row2 col5\" >61857</td>\n",
       "                        <td id=\"T_ac0a3af5_f1ee_11ea_b165_701ce71031efrow2_col6\" class=\"data row2 col6\" >62</td>\n",
       "                        <td id=\"T_ac0a3af5_f1ee_11ea_b165_701ce71031efrow2_col7\" class=\"data row2 col7\" >14.35%</td>\n",
       "            </tr>\n",
       "            <tr>\n",
       "                                <td id=\"T_ac0a3af5_f1ee_11ea_b165_701ce71031efrow3_col0\" class=\"data row3 col0\" >5</td>\n",
       "                        <td id=\"T_ac0a3af5_f1ee_11ea_b165_701ce71031efrow3_col1\" class=\"data row3 col1\" >hadoop</td>\n",
       "                        <td id=\"T_ac0a3af5_f1ee_11ea_b165_701ce71031efrow3_col2\" class=\"data row3 col2\" >27981</td>\n",
       "                        <td id=\"T_ac0a3af5_f1ee_11ea_b165_701ce71031efrow3_col3\" class=\"data row3 col3\" >30000</td>\n",
       "                        <td id=\"T_ac0a3af5_f1ee_11ea_b165_701ce71031efrow3_col4\" class=\"data row3 col4\" >2777</td>\n",
       "                        <td id=\"T_ac0a3af5_f1ee_11ea_b165_701ce71031efrow3_col5\" class=\"data row3 col5\" >53180</td>\n",
       "                        <td id=\"T_ac0a3af5_f1ee_11ea_b165_701ce71031efrow3_col6\" class=\"data row3 col6\" >117</td>\n",
       "                        <td id=\"T_ac0a3af5_f1ee_11ea_b165_701ce71031efrow3_col7\" class=\"data row3 col7\" >27.08%</td>\n",
       "            </tr>\n",
       "            <tr>\n",
       "                                <td id=\"T_ac0a3af5_f1ee_11ea_b165_701ce71031efrow4_col0\" class=\"data row4 col0\" >6</td>\n",
       "                        <td id=\"T_ac0a3af5_f1ee_11ea_b165_701ce71031efrow4_col1\" class=\"data row4 col1\" >spark</td>\n",
       "                        <td id=\"T_ac0a3af5_f1ee_11ea_b165_701ce71031efrow4_col2\" class=\"data row4 col2\" >27977</td>\n",
       "                        <td id=\"T_ac0a3af5_f1ee_11ea_b165_701ce71031efrow4_col3\" class=\"data row4 col3\" >30000</td>\n",
       "                        <td id=\"T_ac0a3af5_f1ee_11ea_b165_701ce71031efrow4_col4\" class=\"data row4 col4\" >5260</td>\n",
       "                        <td id=\"T_ac0a3af5_f1ee_11ea_b165_701ce71031efrow4_col5\" class=\"data row4 col5\" >48389</td>\n",
       "                        <td id=\"T_ac0a3af5_f1ee_11ea_b165_701ce71031efrow4_col6\" class=\"data row4 col6\" >172</td>\n",
       "                        <td id=\"T_ac0a3af5_f1ee_11ea_b165_701ce71031efrow4_col7\" class=\"data row4 col7\" >39.81%</td>\n",
       "            </tr>\n",
       "            <tr>\n",
       "                                <td id=\"T_ac0a3af5_f1ee_11ea_b165_701ce71031efrow5_col0\" class=\"data row5 col0\" >7</td>\n",
       "                        <td id=\"T_ac0a3af5_f1ee_11ea_b165_701ce71031efrow5_col1\" class=\"data row5 col1\" >hbase</td>\n",
       "                        <td id=\"T_ac0a3af5_f1ee_11ea_b165_701ce71031efrow5_col2\" class=\"data row5 col2\" >17116</td>\n",
       "                        <td id=\"T_ac0a3af5_f1ee_11ea_b165_701ce71031efrow5_col3\" class=\"data row5 col3\" >15000</td>\n",
       "                        <td id=\"T_ac0a3af5_f1ee_11ea_b165_701ce71031efrow5_col4\" class=\"data row5 col4\" >1750</td>\n",
       "                        <td id=\"T_ac0a3af5_f1ee_11ea_b165_701ce71031efrow5_col5\" class=\"data row5 col5\" >35000</td>\n",
       "                        <td id=\"T_ac0a3af5_f1ee_11ea_b165_701ce71031efrow5_col6\" class=\"data row5 col6\" >18</td>\n",
       "                        <td id=\"T_ac0a3af5_f1ee_11ea_b165_701ce71031efrow5_col7\" class=\"data row5 col7\" >4.17%</td>\n",
       "            </tr>\n",
       "            <tr>\n",
       "                                <td id=\"T_ac0a3af5_f1ee_11ea_b165_701ce71031efrow6_col0\" class=\"data row6 col0\" >8</td>\n",
       "                        <td id=\"T_ac0a3af5_f1ee_11ea_b165_701ce71031efrow6_col1\" class=\"data row6 col1\" >kafka</td>\n",
       "                        <td id=\"T_ac0a3af5_f1ee_11ea_b165_701ce71031efrow6_col2\" class=\"data row6 col2\" >12250</td>\n",
       "                        <td id=\"T_ac0a3af5_f1ee_11ea_b165_701ce71031efrow6_col3\" class=\"data row6 col3\" >11393</td>\n",
       "                        <td id=\"T_ac0a3af5_f1ee_11ea_b165_701ce71031efrow6_col4\" class=\"data row6 col4\" >1750</td>\n",
       "                        <td id=\"T_ac0a3af5_f1ee_11ea_b165_701ce71031efrow6_col5\" class=\"data row6 col5\" >35000</td>\n",
       "                        <td id=\"T_ac0a3af5_f1ee_11ea_b165_701ce71031efrow6_col6\" class=\"data row6 col6\" >11</td>\n",
       "                        <td id=\"T_ac0a3af5_f1ee_11ea_b165_701ce71031efrow6_col7\" class=\"data row6 col7\" >2.55%</td>\n",
       "            </tr>\n",
       "    </tbody></table>"
      ],
      "text/plain": [
       "<pandas.io.formats.style.Styler at 0x16da6f3e0d0>"
      ]
     },
     "execution_count": 28,
     "metadata": {},
     "output_type": "execute_result"
    }
   ],
   "source": [
    "data_pl=get_sub_stats_by_prefix(data,'bd_')\n",
    "data_pl=data_pl[data_pl['head_count']>10]\n",
    "apply_style(data_pl)"
   ]
  },
  {
   "cell_type": "code",
   "execution_count": 29,
   "metadata": {},
   "outputs": [
    {
     "name": "stderr",
     "output_type": "stream",
     "text": [
      "E:\\ProgramData\\Anaconda3\\lib\\site-packages\\matplotlib\\backends\\backend_agg.py:214: RuntimeWarning: Glyph 22823 missing from current font.\n",
      "  font.set_text(s, 0.0, flags=flags)\n",
      "E:\\ProgramData\\Anaconda3\\lib\\site-packages\\matplotlib\\backends\\backend_agg.py:214: RuntimeWarning: Glyph 25968 missing from current font.\n",
      "  font.set_text(s, 0.0, flags=flags)\n",
      "E:\\ProgramData\\Anaconda3\\lib\\site-packages\\matplotlib\\backends\\backend_agg.py:214: RuntimeWarning: Glyph 25454 missing from current font.\n",
      "  font.set_text(s, 0.0, flags=flags)\n",
      "E:\\ProgramData\\Anaconda3\\lib\\site-packages\\matplotlib\\backends\\backend_agg.py:214: RuntimeWarning: Glyph 20855 missing from current font.\n",
      "  font.set_text(s, 0.0, flags=flags)\n",
      "E:\\ProgramData\\Anaconda3\\lib\\site-packages\\matplotlib\\backends\\backend_agg.py:183: RuntimeWarning: Glyph 22823 missing from current font.\n",
      "  font.set_text(s, 0, flags=flags)\n",
      "E:\\ProgramData\\Anaconda3\\lib\\site-packages\\matplotlib\\backends\\backend_agg.py:183: RuntimeWarning: Glyph 25968 missing from current font.\n",
      "  font.set_text(s, 0, flags=flags)\n",
      "E:\\ProgramData\\Anaconda3\\lib\\site-packages\\matplotlib\\backends\\backend_agg.py:183: RuntimeWarning: Glyph 25454 missing from current font.\n",
      "  font.set_text(s, 0, flags=flags)\n",
      "E:\\ProgramData\\Anaconda3\\lib\\site-packages\\matplotlib\\backends\\backend_agg.py:183: RuntimeWarning: Glyph 20855 missing from current font.\n",
      "  font.set_text(s, 0, flags=flags)\n"
     ]
    },
    {
     "data": {
      "image/png": "[encoded data removed]",
      "text/plain": [
       "<Figure size 720x576 with 1 Axes>"
      ]
     },
     "metadata": {},
     "output_type": "display_data"
    }
   ],
   "source": [
    "other=1-data_pl['percentage'].values.sum()\n",
    "head_counts=list(data_pl['percentage'].values)\n",
    "head_counts.append(other)\n",
    "head_counts\n",
    "\n",
    "labels=list(data_pl['bd_'].values)\n",
    "labels.append('其他')\n",
    "\n",
    "plt.figure(figsize=(10,8))\n",
    "plt.pie(head_counts, labels=labels, autopct='%1.0f%%')\n",
    "plt.title(f'算法工程师的大数据工具')\n",
    "plt.show()"
   ]
  },
  {
   "cell_type": "markdown",
   "metadata": {},
   "source": [
    "## 机器学习工具 "
   ]
  },
  {
   "cell_type": "code",
   "execution_count": 30,
   "metadata": {},
   "outputs": [
    {
     "data": {
      "text/html": [
       "<style  type=\"text/css\" >\n",
       "</style><table id=\"T_ac2283d7_f1ee_11ea_b123_701ce71031ef\" ><thead>    <tr>        <th class=\"col_heading level0 col0\" >rank</th>        <th class=\"col_heading level0 col1\" >ml_</th>        <th class=\"col_heading level0 col2\" >salary_mean</th>        <th class=\"col_heading level0 col3\" >salary_median</th>        <th class=\"col_heading level0 col4\" >salary_95_min</th>        <th class=\"col_heading level0 col5\" >salary_95_max</th>        <th class=\"col_heading level0 col6\" >head_count</th>        <th class=\"col_heading level0 col7\" >percentage</th>    </tr></thead><tbody>\n",
       "                <tr>\n",
       "                                <td id=\"T_ac2283d7_f1ee_11ea_b123_701ce71031efrow0_col0\" class=\"data row0 col0\" >1</td>\n",
       "                        <td id=\"T_ac2283d7_f1ee_11ea_b123_701ce71031efrow0_col1\" class=\"data row0 col1\" >pytorch</td>\n",
       "                        <td id=\"T_ac2283d7_f1ee_11ea_b123_701ce71031efrow0_col2\" class=\"data row0 col2\" >28044</td>\n",
       "                        <td id=\"T_ac2283d7_f1ee_11ea_b123_701ce71031efrow0_col3\" class=\"data row0 col3\" >24857</td>\n",
       "                        <td id=\"T_ac2283d7_f1ee_11ea_b123_701ce71031efrow0_col4\" class=\"data row0 col4\" >12554</td>\n",
       "                        <td id=\"T_ac2283d7_f1ee_11ea_b123_701ce71031efrow0_col5\" class=\"data row0 col5\" >54861</td>\n",
       "                        <td id=\"T_ac2283d7_f1ee_11ea_b123_701ce71031efrow0_col6\" class=\"data row0 col6\" >155</td>\n",
       "                        <td id=\"T_ac2283d7_f1ee_11ea_b123_701ce71031efrow0_col7\" class=\"data row0 col7\" >15.02%</td>\n",
       "            </tr>\n",
       "            <tr>\n",
       "                                <td id=\"T_ac2283d7_f1ee_11ea_b123_701ce71031efrow1_col0\" class=\"data row1 col0\" >2</td>\n",
       "                        <td id=\"T_ac2283d7_f1ee_11ea_b123_701ce71031efrow1_col1\" class=\"data row1 col1\" >mxnet</td>\n",
       "                        <td id=\"T_ac2283d7_f1ee_11ea_b123_701ce71031efrow1_col2\" class=\"data row1 col2\" >27677</td>\n",
       "                        <td id=\"T_ac2283d7_f1ee_11ea_b123_701ce71031efrow1_col3\" class=\"data row1 col3\" >22500</td>\n",
       "                        <td id=\"T_ac2283d7_f1ee_11ea_b123_701ce71031efrow1_col4\" class=\"data row1 col4\" >14106</td>\n",
       "                        <td id=\"T_ac2283d7_f1ee_11ea_b123_701ce71031efrow1_col5\" class=\"data row1 col5\" >62500</td>\n",
       "                        <td id=\"T_ac2283d7_f1ee_11ea_b123_701ce71031efrow1_col6\" class=\"data row1 col6\" >99</td>\n",
       "                        <td id=\"T_ac2283d7_f1ee_11ea_b123_701ce71031efrow1_col7\" class=\"data row1 col7\" >9.59%</td>\n",
       "            </tr>\n",
       "            <tr>\n",
       "                                <td id=\"T_ac2283d7_f1ee_11ea_b123_701ce71031efrow2_col0\" class=\"data row2 col0\" >3</td>\n",
       "                        <td id=\"T_ac2283d7_f1ee_11ea_b123_701ce71031efrow2_col1\" class=\"data row2 col1\" >tensorflow</td>\n",
       "                        <td id=\"T_ac2283d7_f1ee_11ea_b123_701ce71031efrow2_col2\" class=\"data row2 col2\" >27100</td>\n",
       "                        <td id=\"T_ac2283d7_f1ee_11ea_b123_701ce71031efrow2_col3\" class=\"data row2 col3\" >25000</td>\n",
       "                        <td id=\"T_ac2283d7_f1ee_11ea_b123_701ce71031efrow2_col4\" class=\"data row2 col4\" >5705</td>\n",
       "                        <td id=\"T_ac2283d7_f1ee_11ea_b123_701ce71031efrow2_col5\" class=\"data row2 col5\" >59292</td>\n",
       "                        <td id=\"T_ac2283d7_f1ee_11ea_b123_701ce71031efrow2_col6\" class=\"data row2 col6\" >342</td>\n",
       "                        <td id=\"T_ac2283d7_f1ee_11ea_b123_701ce71031efrow2_col7\" class=\"data row2 col7\" >33.14%</td>\n",
       "            </tr>\n",
       "            <tr>\n",
       "                                <td id=\"T_ac2283d7_f1ee_11ea_b123_701ce71031efrow3_col0\" class=\"data row3 col0\" >4</td>\n",
       "                        <td id=\"T_ac2283d7_f1ee_11ea_b123_701ce71031efrow3_col1\" class=\"data row3 col1\" >caffe</td>\n",
       "                        <td id=\"T_ac2283d7_f1ee_11ea_b123_701ce71031efrow3_col2\" class=\"data row3 col2\" >26224</td>\n",
       "                        <td id=\"T_ac2283d7_f1ee_11ea_b123_701ce71031efrow3_col3\" class=\"data row3 col3\" >25000</td>\n",
       "                        <td id=\"T_ac2283d7_f1ee_11ea_b123_701ce71031efrow3_col4\" class=\"data row3 col4\" >5250</td>\n",
       "                        <td id=\"T_ac2283d7_f1ee_11ea_b123_701ce71031efrow3_col5\" class=\"data row3 col5\" >60417</td>\n",
       "                        <td id=\"T_ac2283d7_f1ee_11ea_b123_701ce71031efrow3_col6\" class=\"data row3 col6\" >200</td>\n",
       "                        <td id=\"T_ac2283d7_f1ee_11ea_b123_701ce71031efrow3_col7\" class=\"data row3 col7\" >19.38%</td>\n",
       "            </tr>\n",
       "            <tr>\n",
       "                                <td id=\"T_ac2283d7_f1ee_11ea_b123_701ce71031efrow4_col0\" class=\"data row4 col0\" >5</td>\n",
       "                        <td id=\"T_ac2283d7_f1ee_11ea_b123_701ce71031efrow4_col1\" class=\"data row4 col1\" >keras</td>\n",
       "                        <td id=\"T_ac2283d7_f1ee_11ea_b123_701ce71031efrow4_col2\" class=\"data row4 col2\" >25204</td>\n",
       "                        <td id=\"T_ac2283d7_f1ee_11ea_b123_701ce71031efrow4_col3\" class=\"data row4 col3\" >22500</td>\n",
       "                        <td id=\"T_ac2283d7_f1ee_11ea_b123_701ce71031efrow4_col4\" class=\"data row4 col4\" >5250</td>\n",
       "                        <td id=\"T_ac2283d7_f1ee_11ea_b123_701ce71031efrow4_col5\" class=\"data row4 col5\" >62237</td>\n",
       "                        <td id=\"T_ac2283d7_f1ee_11ea_b123_701ce71031efrow4_col6\" class=\"data row4 col6\" >103</td>\n",
       "                        <td id=\"T_ac2283d7_f1ee_11ea_b123_701ce71031efrow4_col7\" class=\"data row4 col7\" >9.98%</td>\n",
       "            </tr>\n",
       "            <tr>\n",
       "                                <td id=\"T_ac2283d7_f1ee_11ea_b123_701ce71031efrow5_col0\" class=\"data row5 col0\" >6</td>\n",
       "                        <td id=\"T_ac2283d7_f1ee_11ea_b123_701ce71031efrow5_col1\" class=\"data row5 col1\" >sklearn</td>\n",
       "                        <td id=\"T_ac2283d7_f1ee_11ea_b123_701ce71031efrow5_col2\" class=\"data row5 col2\" >23703</td>\n",
       "                        <td id=\"T_ac2283d7_f1ee_11ea_b123_701ce71031efrow5_col3\" class=\"data row5 col3\" >20278</td>\n",
       "                        <td id=\"T_ac2283d7_f1ee_11ea_b123_701ce71031efrow5_col4\" class=\"data row5 col4\" >12500</td>\n",
       "                        <td id=\"T_ac2283d7_f1ee_11ea_b123_701ce71031efrow5_col5\" class=\"data row5 col5\" >45000</td>\n",
       "                        <td id=\"T_ac2283d7_f1ee_11ea_b123_701ce71031efrow5_col6\" class=\"data row5 col6\" >83</td>\n",
       "                        <td id=\"T_ac2283d7_f1ee_11ea_b123_701ce71031efrow5_col7\" class=\"data row5 col7\" >8.04%</td>\n",
       "            </tr>\n",
       "    </tbody></table>"
      ],
      "text/plain": [
       "<pandas.io.formats.style.Styler at 0x16da62b8310>"
      ]
     },
     "execution_count": 30,
     "metadata": {},
     "output_type": "execute_result"
    }
   ],
   "source": [
    "data_pl=get_sub_stats_by_prefix(data,'ml_')\n",
    "data_pl=data_pl[data_pl['head_count']>50]\n",
    "apply_style(data_pl)"
   ]
  },
  {
   "cell_type": "code",
   "execution_count": 31,
   "metadata": {},
   "outputs": [
    {
     "data": {
      "text/plain": [
       "0.9515503875968991"
      ]
     },
     "execution_count": 31,
     "metadata": {},
     "output_type": "execute_result"
    }
   ],
   "source": [
    "data_pl['percentage'].values.sum()"
   ]
  },
  {
   "cell_type": "code",
   "execution_count": 32,
   "metadata": {},
   "outputs": [
    {
     "name": "stderr",
     "output_type": "stream",
     "text": [
      "E:\\ProgramData\\Anaconda3\\lib\\site-packages\\matplotlib\\backends\\backend_agg.py:214: RuntimeWarning: Glyph 26426 missing from current font.\n",
      "  font.set_text(s, 0.0, flags=flags)\n",
      "E:\\ProgramData\\Anaconda3\\lib\\site-packages\\matplotlib\\backends\\backend_agg.py:214: RuntimeWarning: Glyph 22120 missing from current font.\n",
      "  font.set_text(s, 0.0, flags=flags)\n",
      "E:\\ProgramData\\Anaconda3\\lib\\site-packages\\matplotlib\\backends\\backend_agg.py:214: RuntimeWarning: Glyph 23398 missing from current font.\n",
      "  font.set_text(s, 0.0, flags=flags)\n",
      "E:\\ProgramData\\Anaconda3\\lib\\site-packages\\matplotlib\\backends\\backend_agg.py:214: RuntimeWarning: Glyph 20064 missing from current font.\n",
      "  font.set_text(s, 0.0, flags=flags)\n",
      "E:\\ProgramData\\Anaconda3\\lib\\site-packages\\matplotlib\\backends\\backend_agg.py:214: RuntimeWarning: Glyph 24211 missing from current font.\n",
      "  font.set_text(s, 0.0, flags=flags)\n",
      "E:\\ProgramData\\Anaconda3\\lib\\site-packages\\matplotlib\\backends\\backend_agg.py:183: RuntimeWarning: Glyph 26426 missing from current font.\n",
      "  font.set_text(s, 0, flags=flags)\n",
      "E:\\ProgramData\\Anaconda3\\lib\\site-packages\\matplotlib\\backends\\backend_agg.py:183: RuntimeWarning: Glyph 22120 missing from current font.\n",
      "  font.set_text(s, 0, flags=flags)\n",
      "E:\\ProgramData\\Anaconda3\\lib\\site-packages\\matplotlib\\backends\\backend_agg.py:183: RuntimeWarning: Glyph 23398 missing from current font.\n",
      "  font.set_text(s, 0, flags=flags)\n",
      "E:\\ProgramData\\Anaconda3\\lib\\site-packages\\matplotlib\\backends\\backend_agg.py:183: RuntimeWarning: Glyph 20064 missing from current font.\n",
      "  font.set_text(s, 0, flags=flags)\n",
      "E:\\ProgramData\\Anaconda3\\lib\\site-packages\\matplotlib\\backends\\backend_agg.py:183: RuntimeWarning: Glyph 24211 missing from current font.\n",
      "  font.set_text(s, 0, flags=flags)\n"
     ]
    },
    {
     "data": {
      "image/png": "[encoded data removed]",
      "text/plain": [
       "<Figure size 720x576 with 1 Axes>"
      ]
     },
     "metadata": {},
     "output_type": "display_data"
    }
   ],
   "source": [
    "other=1-data_pl['percentage'].values.sum()\n",
    "head_counts=list(data_pl['percentage'].values)\n",
    "head_counts.append(other)\n",
    "head_counts\n",
    "\n",
    "labels=list(data_pl['ml_'].values)\n",
    "labels.append('其他')\n",
    "\n",
    "plt.figure(figsize=(10,8))\n",
    "plt.pie(head_counts, labels=labels, autopct='%1.0f%%')\n",
    "plt.title(f'算法工程师的机器学习库')\n",
    "plt.show()"
   ]
  },
  {
   "cell_type": "markdown",
   "metadata": {},
   "source": [
    "## 英语"
   ]
  },
  {
   "cell_type": "code",
   "execution_count": null,
   "metadata": {},
   "outputs": [],
   "source": []
  },
  {
   "cell_type": "code",
   "execution_count": 33,
   "metadata": {},
   "outputs": [],
   "source": [
    "all_=data.shape[0]\n",
    "en=data[data['lang_english']==1].shape[0]\n",
    "other=all_-en"
   ]
  },
  {
   "cell_type": "code",
   "execution_count": 34,
   "metadata": {},
   "outputs": [
    {
     "name": "stderr",
     "output_type": "stream",
     "text": [
      "E:\\ProgramData\\Anaconda3\\lib\\site-packages\\matplotlib\\backends\\backend_agg.py:214: RuntimeWarning: Glyph 35201 missing from current font.\n",
      "  font.set_text(s, 0.0, flags=flags)\n",
      "E:\\ProgramData\\Anaconda3\\lib\\site-packages\\matplotlib\\backends\\backend_agg.py:214: RuntimeWarning: Glyph 27714 missing from current font.\n",
      "  font.set_text(s, 0.0, flags=flags)\n",
      "E:\\ProgramData\\Anaconda3\\lib\\site-packages\\matplotlib\\backends\\backend_agg.py:214: RuntimeWarning: Glyph 33521 missing from current font.\n",
      "  font.set_text(s, 0.0, flags=flags)\n",
      "E:\\ProgramData\\Anaconda3\\lib\\site-packages\\matplotlib\\backends\\backend_agg.py:214: RuntimeWarning: Glyph 27809 missing from current font.\n",
      "  font.set_text(s, 0.0, flags=flags)\n",
      "E:\\ProgramData\\Anaconda3\\lib\\site-packages\\matplotlib\\backends\\backend_agg.py:214: RuntimeWarning: Glyph 35828 missing from current font.\n",
      "  font.set_text(s, 0.0, flags=flags)\n",
      "E:\\ProgramData\\Anaconda3\\lib\\site-packages\\matplotlib\\backends\\backend_agg.py:183: RuntimeWarning: Glyph 35201 missing from current font.\n",
      "  font.set_text(s, 0, flags=flags)\n",
      "E:\\ProgramData\\Anaconda3\\lib\\site-packages\\matplotlib\\backends\\backend_agg.py:183: RuntimeWarning: Glyph 27714 missing from current font.\n",
      "  font.set_text(s, 0, flags=flags)\n",
      "E:\\ProgramData\\Anaconda3\\lib\\site-packages\\matplotlib\\backends\\backend_agg.py:183: RuntimeWarning: Glyph 33521 missing from current font.\n",
      "  font.set_text(s, 0, flags=flags)\n",
      "E:\\ProgramData\\Anaconda3\\lib\\site-packages\\matplotlib\\backends\\backend_agg.py:183: RuntimeWarning: Glyph 27809 missing from current font.\n",
      "  font.set_text(s, 0, flags=flags)\n",
      "E:\\ProgramData\\Anaconda3\\lib\\site-packages\\matplotlib\\backends\\backend_agg.py:183: RuntimeWarning: Glyph 35828 missing from current font.\n",
      "  font.set_text(s, 0, flags=flags)\n"
     ]
    },
    {
     "data": {
      "image/png": "[encoded data removed]",
      "text/plain": [
       "<Figure size 720x576 with 1 Axes>"
      ]
     },
     "metadata": {},
     "output_type": "display_data"
    }
   ],
   "source": [
    "plt.figure(figsize=(10,8))\n",
    "plt.pie([en,other], labels=['要求英语','没说'])\n",
    "plt.show()"
   ]
  },
  {
   "cell_type": "markdown",
   "metadata": {},
   "source": [
    "# 教育"
   ]
  },
  {
   "cell_type": "code",
   "execution_count": 35,
   "metadata": {},
   "outputs": [],
   "source": [
    "edu_counts=data[~(data.edu=='')].groupby(by=['edu']).headcount.sum()"
   ]
  },
  {
   "cell_type": "code",
   "execution_count": 36,
   "metadata": {},
   "outputs": [
    {
     "data": {
      "text/plain": [
       "edu\n",
       "博士     19\n",
       "大专    214\n",
       "本科    681\n",
       "硕士    268\n",
       "高中     10\n",
       "Name: headcount, dtype: int64"
      ]
     },
     "execution_count": 36,
     "metadata": {},
     "output_type": "execute_result"
    }
   ],
   "source": [
    "edu_counts"
   ]
  },
  {
   "cell_type": "code",
   "execution_count": 37,
   "metadata": {},
   "outputs": [
    {
     "name": "stderr",
     "output_type": "stream",
     "text": [
      "E:\\ProgramData\\Anaconda3\\lib\\site-packages\\matplotlib\\backends\\backend_agg.py:214: RuntimeWarning: Glyph 21338 missing from current font.\n",
      "  font.set_text(s, 0.0, flags=flags)\n",
      "E:\\ProgramData\\Anaconda3\\lib\\site-packages\\matplotlib\\backends\\backend_agg.py:214: RuntimeWarning: Glyph 22763 missing from current font.\n",
      "  font.set_text(s, 0.0, flags=flags)\n",
      "E:\\ProgramData\\Anaconda3\\lib\\site-packages\\matplotlib\\backends\\backend_agg.py:214: RuntimeWarning: Glyph 19987 missing from current font.\n",
      "  font.set_text(s, 0.0, flags=flags)\n",
      "E:\\ProgramData\\Anaconda3\\lib\\site-packages\\matplotlib\\backends\\backend_agg.py:214: RuntimeWarning: Glyph 26412 missing from current font.\n",
      "  font.set_text(s, 0.0, flags=flags)\n",
      "E:\\ProgramData\\Anaconda3\\lib\\site-packages\\matplotlib\\backends\\backend_agg.py:214: RuntimeWarning: Glyph 31185 missing from current font.\n",
      "  font.set_text(s, 0.0, flags=flags)\n",
      "E:\\ProgramData\\Anaconda3\\lib\\site-packages\\matplotlib\\backends\\backend_agg.py:214: RuntimeWarning: Glyph 30805 missing from current font.\n",
      "  font.set_text(s, 0.0, flags=flags)\n",
      "E:\\ProgramData\\Anaconda3\\lib\\site-packages\\matplotlib\\backends\\backend_agg.py:214: RuntimeWarning: Glyph 39640 missing from current font.\n",
      "  font.set_text(s, 0.0, flags=flags)\n",
      "E:\\ProgramData\\Anaconda3\\lib\\site-packages\\matplotlib\\backends\\backend_agg.py:214: RuntimeWarning: Glyph 20013 missing from current font.\n",
      "  font.set_text(s, 0.0, flags=flags)\n",
      "E:\\ProgramData\\Anaconda3\\lib\\site-packages\\matplotlib\\backends\\backend_agg.py:183: RuntimeWarning: Glyph 21338 missing from current font.\n",
      "  font.set_text(s, 0, flags=flags)\n",
      "E:\\ProgramData\\Anaconda3\\lib\\site-packages\\matplotlib\\backends\\backend_agg.py:183: RuntimeWarning: Glyph 22763 missing from current font.\n",
      "  font.set_text(s, 0, flags=flags)\n",
      "E:\\ProgramData\\Anaconda3\\lib\\site-packages\\matplotlib\\backends\\backend_agg.py:183: RuntimeWarning: Glyph 19987 missing from current font.\n",
      "  font.set_text(s, 0, flags=flags)\n",
      "E:\\ProgramData\\Anaconda3\\lib\\site-packages\\matplotlib\\backends\\backend_agg.py:183: RuntimeWarning: Glyph 26412 missing from current font.\n",
      "  font.set_text(s, 0, flags=flags)\n",
      "E:\\ProgramData\\Anaconda3\\lib\\site-packages\\matplotlib\\backends\\backend_agg.py:183: RuntimeWarning: Glyph 31185 missing from current font.\n",
      "  font.set_text(s, 0, flags=flags)\n",
      "E:\\ProgramData\\Anaconda3\\lib\\site-packages\\matplotlib\\backends\\backend_agg.py:183: RuntimeWarning: Glyph 30805 missing from current font.\n",
      "  font.set_text(s, 0, flags=flags)\n",
      "E:\\ProgramData\\Anaconda3\\lib\\site-packages\\matplotlib\\backends\\backend_agg.py:183: RuntimeWarning: Glyph 39640 missing from current font.\n",
      "  font.set_text(s, 0, flags=flags)\n",
      "E:\\ProgramData\\Anaconda3\\lib\\site-packages\\matplotlib\\backends\\backend_agg.py:183: RuntimeWarning: Glyph 20013 missing from current font.\n",
      "  font.set_text(s, 0, flags=flags)\n"
     ]
    },
    {
     "data": {
      "image/png": "[encoded data removed]",
      "text/plain": [
       "<Figure size 720x576 with 1 Axes>"
      ]
     },
     "metadata": {},
     "output_type": "display_data"
    }
   ],
   "source": [
    "plt.figure(figsize=(10,8))\n",
    "plt.pie(edu_counts.values, labels=edu_counts.index, autopct='%1.1f%%')\n",
    "plt.show()"
   ]
  },
  {
   "cell_type": "code",
   "execution_count": 38,
   "metadata": {},
   "outputs": [
    {
     "data": {
      "text/html": [
       "<style  type=\"text/css\" >\n",
       "</style><table id=\"T_ac53b2dc_f1ee_11ea_9c0d_701ce71031ef\" ><thead>    <tr>        <th class=\"col_heading level0 col0\" >edu</th>        <th class=\"col_heading level0 col1\" >salary_mean</th>        <th class=\"col_heading level0 col2\" >salary_95_min</th>        <th class=\"col_heading level0 col3\" >salary_median</th>        <th class=\"col_heading level0 col4\" >salary_95_max</th>        <th class=\"col_heading level0 col5\" >head_count</th>        <th class=\"col_heading level0 col6\" >percentage</th>    </tr></thead><tbody>\n",
       "                <tr>\n",
       "                                <td id=\"T_ac53b2dc_f1ee_11ea_9c0d_701ce71031efrow0_col0\" class=\"data row0 col0\" >博士</td>\n",
       "                        <td id=\"T_ac53b2dc_f1ee_11ea_9c0d_701ce71031efrow0_col1\" class=\"data row0 col1\" >31474</td>\n",
       "                        <td id=\"T_ac53b2dc_f1ee_11ea_9c0d_701ce71031efrow0_col2\" class=\"data row0 col2\" >15500</td>\n",
       "                        <td id=\"T_ac53b2dc_f1ee_11ea_9c0d_701ce71031efrow0_col3\" class=\"data row0 col3\" >31562</td>\n",
       "                        <td id=\"T_ac53b2dc_f1ee_11ea_9c0d_701ce71031efrow0_col4\" class=\"data row0 col4\" >45000</td>\n",
       "                        <td id=\"T_ac53b2dc_f1ee_11ea_9c0d_701ce71031efrow0_col5\" class=\"data row0 col5\" >19</td>\n",
       "                        <td id=\"T_ac53b2dc_f1ee_11ea_9c0d_701ce71031efrow0_col6\" class=\"data row0 col6\" >1.59%</td>\n",
       "            </tr>\n",
       "            <tr>\n",
       "                                <td id=\"T_ac53b2dc_f1ee_11ea_9c0d_701ce71031efrow1_col0\" class=\"data row1 col0\" >硕士</td>\n",
       "                        <td id=\"T_ac53b2dc_f1ee_11ea_9c0d_701ce71031efrow1_col1\" class=\"data row1 col1\" >27500</td>\n",
       "                        <td id=\"T_ac53b2dc_f1ee_11ea_9c0d_701ce71031efrow1_col2\" class=\"data row1 col2\" >10416</td>\n",
       "                        <td id=\"T_ac53b2dc_f1ee_11ea_9c0d_701ce71031efrow1_col3\" class=\"data row1 col3\" >22500</td>\n",
       "                        <td id=\"T_ac53b2dc_f1ee_11ea_9c0d_701ce71031efrow1_col4\" class=\"data row1 col4\" >61900</td>\n",
       "                        <td id=\"T_ac53b2dc_f1ee_11ea_9c0d_701ce71031efrow1_col5\" class=\"data row1 col5\" >268</td>\n",
       "                        <td id=\"T_ac53b2dc_f1ee_11ea_9c0d_701ce71031efrow1_col6\" class=\"data row1 col6\" >22.48%</td>\n",
       "            </tr>\n",
       "            <tr>\n",
       "                                <td id=\"T_ac53b2dc_f1ee_11ea_9c0d_701ce71031efrow2_col0\" class=\"data row2 col0\" >本科</td>\n",
       "                        <td id=\"T_ac53b2dc_f1ee_11ea_9c0d_701ce71031efrow2_col1\" class=\"data row2 col1\" >20791</td>\n",
       "                        <td id=\"T_ac53b2dc_f1ee_11ea_9c0d_701ce71031efrow2_col2\" class=\"data row2 col2\" >6302</td>\n",
       "                        <td id=\"T_ac53b2dc_f1ee_11ea_9c0d_701ce71031efrow2_col3\" class=\"data row2 col3\" >17500</td>\n",
       "                        <td id=\"T_ac53b2dc_f1ee_11ea_9c0d_701ce71031efrow2_col4\" class=\"data row2 col4\" >45000</td>\n",
       "                        <td id=\"T_ac53b2dc_f1ee_11ea_9c0d_701ce71031efrow2_col5\" class=\"data row2 col5\" >681</td>\n",
       "                        <td id=\"T_ac53b2dc_f1ee_11ea_9c0d_701ce71031efrow2_col6\" class=\"data row2 col6\" >57.13%</td>\n",
       "            </tr>\n",
       "            <tr>\n",
       "                                <td id=\"T_ac53b2dc_f1ee_11ea_9c0d_701ce71031efrow3_col0\" class=\"data row3 col0\" >大专</td>\n",
       "                        <td id=\"T_ac53b2dc_f1ee_11ea_9c0d_701ce71031efrow3_col1\" class=\"data row3 col1\" >10665</td>\n",
       "                        <td id=\"T_ac53b2dc_f1ee_11ea_9c0d_701ce71031efrow3_col2\" class=\"data row3 col2\" >3928</td>\n",
       "                        <td id=\"T_ac53b2dc_f1ee_11ea_9c0d_701ce71031efrow3_col3\" class=\"data row3 col3\" >8667</td>\n",
       "                        <td id=\"T_ac53b2dc_f1ee_11ea_9c0d_701ce71031efrow3_col4\" class=\"data row3 col4\" >51450</td>\n",
       "                        <td id=\"T_ac53b2dc_f1ee_11ea_9c0d_701ce71031efrow3_col5\" class=\"data row3 col5\" >214</td>\n",
       "                        <td id=\"T_ac53b2dc_f1ee_11ea_9c0d_701ce71031efrow3_col6\" class=\"data row3 col6\" >17.95%</td>\n",
       "            </tr>\n",
       "            <tr>\n",
       "                                <td id=\"T_ac53b2dc_f1ee_11ea_9c0d_701ce71031efrow4_col0\" class=\"data row4 col0\" >高中</td>\n",
       "                        <td id=\"T_ac53b2dc_f1ee_11ea_9c0d_701ce71031efrow4_col1\" class=\"data row4 col1\" >6165</td>\n",
       "                        <td id=\"T_ac53b2dc_f1ee_11ea_9c0d_701ce71031efrow4_col2\" class=\"data row4 col2\" >5250</td>\n",
       "                        <td id=\"T_ac53b2dc_f1ee_11ea_9c0d_701ce71031efrow4_col3\" class=\"data row4 col3\" >5250</td>\n",
       "                        <td id=\"T_ac53b2dc_f1ee_11ea_9c0d_701ce71031efrow4_col4\" class=\"data row4 col4\" >11000</td>\n",
       "                        <td id=\"T_ac53b2dc_f1ee_11ea_9c0d_701ce71031efrow4_col5\" class=\"data row4 col5\" >10</td>\n",
       "                        <td id=\"T_ac53b2dc_f1ee_11ea_9c0d_701ce71031efrow4_col6\" class=\"data row4 col6\" >0.84%</td>\n",
       "            </tr>\n",
       "    </tbody></table>"
      ],
      "text/plain": [
       "<pandas.io.formats.style.Styler at 0x16da6f4e550>"
      ]
     },
     "execution_count": 38,
     "metadata": {},
     "output_type": "execute_result"
    }
   ],
   "source": [
    "data_edu=get_sub_stats_by_col(data[data.edu.isin(['初中及以下','高中','大专','本科','硕士','博士'])], 'edu')\n",
    "apply_style(data_edu)"
   ]
  },
  {
   "cell_type": "code",
   "execution_count": 39,
   "metadata": {},
   "outputs": [],
   "source": [
    "salary_associate=data[data.edu=='大专'].monthly_salary\n",
    "salary_bachelor=data[data.edu=='本科'].monthly_salary\n",
    "salary_master=data[data.edu=='硕士'].monthly_salary\n",
    "salary_phd=data[data.edu=='博士'].monthly_salary"
   ]
  },
  {
   "cell_type": "code",
   "execution_count": null,
   "metadata": {},
   "outputs": [],
   "source": []
  },
  {
   "cell_type": "code",
   "execution_count": 40,
   "metadata": {},
   "outputs": [
    {
     "name": "stdout",
     "output_type": "stream",
     "text": [
      "大专，本科，硕士，博士的平均工资分别是9672，20293，27722，29705。中位数分别是6750， 17500，22500， 27500。\n"
     ]
    }
   ],
   "source": [
    "print('大专，本科，硕士，博士的平均工资分别是{:.0f}，{:.0f}，{:.0f}，{:.0f}。中位数分别是{:.0f}， {:.0f}，{:.0f}， {:.0f}。'.format(\n",
    "    salary_associate.mean(),salary_bachelor.mean(),salary_master.mean(),salary_phd.mean(),\n",
    "    salary_associate.median(),salary_bachelor.median(),salary_master.median(),salary_phd.median()))"
   ]
  },
  {
   "cell_type": "code",
   "execution_count": 41,
   "metadata": {},
   "outputs": [
    {
     "data": {
      "text/plain": [
       "F_onewayResult(statistic=0.20322321379072028, pvalue=0.6531482085462637)"
      ]
     },
     "execution_count": 41,
     "metadata": {},
     "output_type": "execute_result"
    }
   ],
   "source": [
    "stats.f_oneway(salary_phd, salary_master)"
   ]
  },
  {
   "cell_type": "code",
   "execution_count": 42,
   "metadata": {},
   "outputs": [
    {
     "data": {
      "text/plain": [
       "F_onewayResult(statistic=24.528452591198427, pvalue=1.1893516211726615e-06)"
      ]
     },
     "execution_count": 42,
     "metadata": {},
     "output_type": "execute_result"
    }
   ],
   "source": [
    "stats.f_oneway(salary_master, salary_bachelor)"
   ]
  },
  {
   "cell_type": "code",
   "execution_count": 43,
   "metadata": {},
   "outputs": [
    {
     "data": {
      "text/plain": [
       "F_onewayResult(statistic=60.48086083240348, pvalue=1.1091370234415008e-13)"
      ]
     },
     "execution_count": 43,
     "metadata": {},
     "output_type": "execute_result"
    }
   ],
   "source": [
    "stats.f_oneway(salary_bachelor, salary_associate)"
   ]
  },
  {
   "cell_type": "markdown",
   "metadata": {},
   "source": [
    "经过Oneway Anova Test，证明从大专到博士，学历每提高一级，工资都有显著的提高。"
   ]
  },
  {
   "cell_type": "code",
   "execution_count": 44,
   "metadata": {},
   "outputs": [
    {
     "name": "stderr",
     "output_type": "stream",
     "text": [
      "E:\\ProgramData\\Anaconda3\\lib\\site-packages\\matplotlib\\backends\\backend_agg.py:214: RuntimeWarning: Glyph 22823 missing from current font.\n",
      "  font.set_text(s, 0.0, flags=flags)\n",
      "E:\\ProgramData\\Anaconda3\\lib\\site-packages\\matplotlib\\backends\\backend_agg.py:214: RuntimeWarning: Glyph 19987 missing from current font.\n",
      "  font.set_text(s, 0.0, flags=flags)\n",
      "E:\\ProgramData\\Anaconda3\\lib\\site-packages\\matplotlib\\backends\\backend_agg.py:214: RuntimeWarning: Glyph 26412 missing from current font.\n",
      "  font.set_text(s, 0.0, flags=flags)\n",
      "E:\\ProgramData\\Anaconda3\\lib\\site-packages\\matplotlib\\backends\\backend_agg.py:214: RuntimeWarning: Glyph 31185 missing from current font.\n",
      "  font.set_text(s, 0.0, flags=flags)\n",
      "E:\\ProgramData\\Anaconda3\\lib\\site-packages\\matplotlib\\backends\\backend_agg.py:214: RuntimeWarning: Glyph 30805 missing from current font.\n",
      "  font.set_text(s, 0.0, flags=flags)\n",
      "E:\\ProgramData\\Anaconda3\\lib\\site-packages\\matplotlib\\backends\\backend_agg.py:214: RuntimeWarning: Glyph 22763 missing from current font.\n",
      "  font.set_text(s, 0.0, flags=flags)\n",
      "E:\\ProgramData\\Anaconda3\\lib\\site-packages\\matplotlib\\backends\\backend_agg.py:214: RuntimeWarning: Glyph 21338 missing from current font.\n",
      "  font.set_text(s, 0.0, flags=flags)\n",
      "E:\\ProgramData\\Anaconda3\\lib\\site-packages\\matplotlib\\backends\\backend_agg.py:183: RuntimeWarning: Glyph 22823 missing from current font.\n",
      "  font.set_text(s, 0, flags=flags)\n",
      "E:\\ProgramData\\Anaconda3\\lib\\site-packages\\matplotlib\\backends\\backend_agg.py:183: RuntimeWarning: Glyph 19987 missing from current font.\n",
      "  font.set_text(s, 0, flags=flags)\n",
      "E:\\ProgramData\\Anaconda3\\lib\\site-packages\\matplotlib\\backends\\backend_agg.py:183: RuntimeWarning: Glyph 26412 missing from current font.\n",
      "  font.set_text(s, 0, flags=flags)\n",
      "E:\\ProgramData\\Anaconda3\\lib\\site-packages\\matplotlib\\backends\\backend_agg.py:183: RuntimeWarning: Glyph 31185 missing from current font.\n",
      "  font.set_text(s, 0, flags=flags)\n",
      "E:\\ProgramData\\Anaconda3\\lib\\site-packages\\matplotlib\\backends\\backend_agg.py:183: RuntimeWarning: Glyph 30805 missing from current font.\n",
      "  font.set_text(s, 0, flags=flags)\n",
      "E:\\ProgramData\\Anaconda3\\lib\\site-packages\\matplotlib\\backends\\backend_agg.py:183: RuntimeWarning: Glyph 22763 missing from current font.\n",
      "  font.set_text(s, 0, flags=flags)\n",
      "E:\\ProgramData\\Anaconda3\\lib\\site-packages\\matplotlib\\backends\\backend_agg.py:183: RuntimeWarning: Glyph 21338 missing from current font.\n",
      "  font.set_text(s, 0, flags=flags)\n"
     ]
    },
    {
     "data": {
      "image/png": "[encoded data removed]",
      "text/plain": [
       "<Figure size 432x288 with 1 Axes>"
      ]
     },
     "metadata": {
      "needs_background": "light"
     },
     "output_type": "display_data"
    }
   ],
   "source": [
    "\n",
    "order=['大专','本科','硕士','博士']\n",
    "a=sns.boxplot(y='edu',x='monthly_salary',order=order,data=data[data.edu.isin(order)], orient='h')\n",
    "plt.annotate('https://github.com/juwikuang/job_survey', xy=(0.5,1.5), xytext=(2, 1.55))\n",
    "plt.show()"
   ]
  },
  {
   "cell_type": "markdown",
   "metadata": {},
   "source": [
    "# 工作经验 Working Experience"
   ]
  },
  {
   "cell_type": "code",
   "execution_count": 45,
   "metadata": {},
   "outputs": [
    {
     "data": {
      "text/html": [
       "<style  type=\"text/css\" >\n",
       "</style><table id=\"T_acfcb4f1_f1ee_11ea_98cd_701ce71031ef\" ><thead>    <tr>        <th class=\"col_heading level0 col0\" >experience</th>        <th class=\"col_heading level0 col1\" >salary_mean</th>        <th class=\"col_heading level0 col2\" >salary_95_min</th>        <th class=\"col_heading level0 col3\" >salary_median</th>        <th class=\"col_heading level0 col4\" >salary_95_max</th>        <th class=\"col_heading level0 col5\" >head_count</th>        <th class=\"col_heading level0 col6\" >percentage</th>    </tr></thead><tbody>\n",
       "                <tr>\n",
       "                                <td id=\"T_acfcb4f1_f1ee_11ea_98cd_701ce71031efrow0_col0\" class=\"data row0 col0\" >10+</td>\n",
       "                        <td id=\"T_acfcb4f1_f1ee_11ea_98cd_701ce71031efrow0_col1\" class=\"data row0 col1\" >55000</td>\n",
       "                        <td id=\"T_acfcb4f1_f1ee_11ea_98cd_701ce71031efrow0_col2\" class=\"data row0 col2\" >22500</td>\n",
       "                        <td id=\"T_acfcb4f1_f1ee_11ea_98cd_701ce71031efrow0_col3\" class=\"data row0 col3\" >67500</td>\n",
       "                        <td id=\"T_acfcb4f1_f1ee_11ea_98cd_701ce71031efrow0_col4\" class=\"data row0 col4\" >75000</td>\n",
       "                        <td id=\"T_acfcb4f1_f1ee_11ea_98cd_701ce71031efrow0_col5\" class=\"data row0 col5\" >3</td>\n",
       "                        <td id=\"T_acfcb4f1_f1ee_11ea_98cd_701ce71031efrow0_col6\" class=\"data row0 col6\" >0.24%</td>\n",
       "            </tr>\n",
       "            <tr>\n",
       "                                <td id=\"T_acfcb4f1_f1ee_11ea_98cd_701ce71031efrow1_col0\" class=\"data row1 col0\" >5_10</td>\n",
       "                        <td id=\"T_acfcb4f1_f1ee_11ea_98cd_701ce71031efrow1_col1\" class=\"data row1 col1\" >31702</td>\n",
       "                        <td id=\"T_acfcb4f1_f1ee_11ea_98cd_701ce71031efrow1_col2\" class=\"data row1 col2\" >10667</td>\n",
       "                        <td id=\"T_acfcb4f1_f1ee_11ea_98cd_701ce71031efrow1_col3\" class=\"data row1 col3\" >31250</td>\n",
       "                        <td id=\"T_acfcb4f1_f1ee_11ea_98cd_701ce71031efrow1_col4\" class=\"data row1 col4\" >60000</td>\n",
       "                        <td id=\"T_acfcb4f1_f1ee_11ea_98cd_701ce71031efrow1_col5\" class=\"data row1 col5\" >100</td>\n",
       "                        <td id=\"T_acfcb4f1_f1ee_11ea_98cd_701ce71031efrow1_col6\" class=\"data row1 col6\" >7.96%</td>\n",
       "            </tr>\n",
       "            <tr>\n",
       "                                <td id=\"T_acfcb4f1_f1ee_11ea_98cd_701ce71031efrow2_col0\" class=\"data row2 col0\" >3_5</td>\n",
       "                        <td id=\"T_acfcb4f1_f1ee_11ea_98cd_701ce71031efrow2_col1\" class=\"data row2 col1\" >24815</td>\n",
       "                        <td id=\"T_acfcb4f1_f1ee_11ea_98cd_701ce71031efrow2_col2\" class=\"data row2 col2\" >6971</td>\n",
       "                        <td id=\"T_acfcb4f1_f1ee_11ea_98cd_701ce71031efrow2_col3\" class=\"data row2 col3\" >21875</td>\n",
       "                        <td id=\"T_acfcb4f1_f1ee_11ea_98cd_701ce71031efrow2_col4\" class=\"data row2 col4\" >45978</td>\n",
       "                        <td id=\"T_acfcb4f1_f1ee_11ea_98cd_701ce71031efrow2_col5\" class=\"data row2 col5\" >378</td>\n",
       "                        <td id=\"T_acfcb4f1_f1ee_11ea_98cd_701ce71031efrow2_col6\" class=\"data row2 col6\" >30.10%</td>\n",
       "            </tr>\n",
       "            <tr>\n",
       "                                <td id=\"T_acfcb4f1_f1ee_11ea_98cd_701ce71031efrow3_col0\" class=\"data row3 col0\" >1_3</td>\n",
       "                        <td id=\"T_acfcb4f1_f1ee_11ea_98cd_701ce71031efrow3_col1\" class=\"data row3 col1\" >16408</td>\n",
       "                        <td id=\"T_acfcb4f1_f1ee_11ea_98cd_701ce71031efrow3_col2\" class=\"data row3 col2\" >5381</td>\n",
       "                        <td id=\"T_acfcb4f1_f1ee_11ea_98cd_701ce71031efrow3_col3\" class=\"data row3 col3\" >12500</td>\n",
       "                        <td id=\"T_acfcb4f1_f1ee_11ea_98cd_701ce71031efrow3_col4\" class=\"data row3 col4\" >45000</td>\n",
       "                        <td id=\"T_acfcb4f1_f1ee_11ea_98cd_701ce71031efrow3_col5\" class=\"data row3 col5\" >495</td>\n",
       "                        <td id=\"T_acfcb4f1_f1ee_11ea_98cd_701ce71031efrow3_col6\" class=\"data row3 col6\" >39.41%</td>\n",
       "            </tr>\n",
       "            <tr>\n",
       "                                <td id=\"T_acfcb4f1_f1ee_11ea_98cd_701ce71031efrow4_col0\" class=\"data row4 col0\" ></td>\n",
       "                        <td id=\"T_acfcb4f1_f1ee_11ea_98cd_701ce71031efrow4_col1\" class=\"data row4 col1\" >16223</td>\n",
       "                        <td id=\"T_acfcb4f1_f1ee_11ea_98cd_701ce71031efrow4_col2\" class=\"data row4 col2\" >3750</td>\n",
       "                        <td id=\"T_acfcb4f1_f1ee_11ea_98cd_701ce71031efrow4_col3\" class=\"data row4 col3\" >9714</td>\n",
       "                        <td id=\"T_acfcb4f1_f1ee_11ea_98cd_701ce71031efrow4_col4\" class=\"data row4 col4\" >60250</td>\n",
       "                        <td id=\"T_acfcb4f1_f1ee_11ea_98cd_701ce71031efrow4_col5\" class=\"data row4 col5\" >280</td>\n",
       "                        <td id=\"T_acfcb4f1_f1ee_11ea_98cd_701ce71031efrow4_col6\" class=\"data row4 col6\" >22.29%</td>\n",
       "            </tr>\n",
       "    </tbody></table>"
      ],
      "text/plain": [
       "<pandas.io.formats.style.Styler at 0x16da62b8c10>"
      ]
     },
     "execution_count": 45,
     "metadata": {},
     "output_type": "execute_result"
    }
   ],
   "source": [
    "data_experience=get_sub_stats_by_col(data, 'experience')\n",
    "apply_style(data_experience)"
   ]
  },
  {
   "cell_type": "code",
   "execution_count": 46,
   "metadata": {},
   "outputs": [],
   "source": [
    "salary_we_10=data[data.experience=='10+'].monthly_salary\n",
    "salary_we_5_10=data[data.experience=='5_10'].monthly_salary\n",
    "salary_we_3_5=data[data.experience=='3_5'].monthly_salary\n",
    "salary_we_1_3=data[data.experience=='1_3'].monthly_salary\n",
    "salary_we_no=data[data.experience=='no'].monthly_salary"
   ]
  },
  {
   "cell_type": "code",
   "execution_count": 47,
   "metadata": {},
   "outputs": [
    {
     "data": {
      "image/png": "[encoded data removed]",
      "text/plain": [
       "<Figure size 432x288 with 1 Axes>"
      ]
     },
     "metadata": {
      "needs_background": "light"
     },
     "output_type": "display_data"
    }
   ],
   "source": [
    "\n",
    "order=['10+','5_10','3_5','1_3']\n",
    "sns.boxplot(y='experience',x='monthly_salary',order=order,data=data[data.experience.isin(order)], orient='h')\n",
    "plt.annotate('https://github.com/juwikuang/job_survey', xy=(1.5,1.5), xytext=(1.55, 1.55))\n",
    "plt.show()"
   ]
  },
  {
   "cell_type": "code",
   "execution_count": null,
   "metadata": {},
   "outputs": [],
   "source": []
  }
 ],
 "metadata": {
  "kernelspec": {
   "display_name": "Python 3",
   "language": "python",
   "name": "python3"
  },
  "language_info": {
   "codemirror_mode": {
    "name": "ipython",
    "version": 3
   },
   "file_extension": ".py",
   "mimetype": "text/x-python",
   "name": "python",
   "nbconvert_exporter": "python",
   "pygments_lexer": "ipython3",
   "version": "3.8.3"
  }
 },
 "nbformat": 4,
 "nbformat_minor": 4
}
