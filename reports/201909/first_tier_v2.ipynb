{
 "cells": [
  {
   "cell_type": "code",
   "execution_count": 1,
   "metadata": {},
   "outputs": [],
   "source": [
    "year=2019\n",
    "month=9"
   ]
  },
  {
   "cell_type": "markdown",
   "metadata": {},
   "source": [
    "# Developer Salary in First-Tier Cities 程序员工资调查\n",
    "我在4月1日到3日之间，抓取了某招聘网站的软件和互联网类招聘数据40万条，其中通过程序判断为程序员的14万条。地域方面，我选择了24个主要城市。不过本文只以一线城市为研究对象。这样是为了和我2017年6月的数据做对比。\n",
    "\n",
    "提到2017年的文章，现在居然还有很多人，把这篇文章拿出来炒作。对于社会来说，可气的是，他们直接把2017改成2019，就发表了，这不是骗人么？！对于我来说，可气的是，他们转载居然还冒充是原创，是可忍熟不可忍！"
   ]
  },
  {
   "cell_type": "code",
   "execution_count": 2,
   "metadata": {},
   "outputs": [],
   "source": [
    "import pandas as pd\n",
    "import sys\n",
    "sys.path.append('..')\n",
    "sys.path.append('../py')\n",
    "sys.path.append('../../py')\n",
    "import db\n",
    "import inspect\n",
    "import matplotlib.pyplot as plt\n",
    "plt.rcParams['font.sans-serif']=['SimHei'] #用来正常显示中文标签\n",
    "plt.rcParams['axes.unicode_minus']=False #用来正常显示负号\n",
    "import seaborn as sns\n",
    "import scipy.stats as stats\n",
    "import numpy as np\n",
    "import weighted\n",
    "%matplotlib inline"
   ]
  },
  {
   "cell_type": "code",
   "execution_count": 3,
   "metadata": {},
   "outputs": [],
   "source": [
    "conn=db.get_conn()\n",
    "data_original=pd.read_sql(sql=f\"select * from _{year}{month:02} where monthly_salary>0 and monthly_salary<80000 and city in ('北京','上海','广州','深圳')  and monthly_salary<80000 and YEAR(publish_date)={year} and MONTH(publish_date)={month}  \", con=conn)\n",
    "conn.close()"
   ]
  },
  {
   "cell_type": "code",
   "execution_count": 4,
   "metadata": {},
   "outputs": [],
   "source": [
    "error_job_ids=['104660258','104142922','108434795','101357291','106253516','110368302','111391233','108665401','109277048'\n",
    "                  ,'73857191','108584955','102824950','102824949','111391233','110884556']\n",
    "data=data_original[~data_original.job_id.isin(error_job_ids)]"
   ]
  },
  {
   "cell_type": "code",
   "execution_count": 5,
   "metadata": {},
   "outputs": [],
   "source": [
    "#del data['publish_date']\n",
    "#del data['published_on_weekend']\n",
    "#del data['title']\n",
    "#del data['title']\n",
    "#del data['company_title']\n",
    "#del data['company_description']\n",
    "#del data['job_description']\n",
    "#del data['job_id']"
   ]
  },
  {
   "cell_type": "code",
   "execution_count": 6,
   "metadata": {},
   "outputs": [
    {
     "data": {
      "text/html": [
       "<div>\n",
       "<style scoped>\n",
       "    .dataframe tbody tr th:only-of-type {\n",
       "        vertical-align: middle;\n",
       "    }\n",
       "\n",
       "    .dataframe tbody tr th {\n",
       "        vertical-align: top;\n",
       "    }\n",
       "\n",
       "    .dataframe thead th {\n",
       "        text-align: right;\n",
       "    }\n",
       "</style>\n",
       "<table border=\"1\" class=\"dataframe\">\n",
       "  <thead>\n",
       "    <tr style=\"text-align: right;\">\n",
       "      <th></th>\n",
       "      <th>job_id</th>\n",
       "      <th>monthly_salary</th>\n",
       "      <th>headcount</th>\n",
       "      <th>title</th>\n",
       "      <th>zhinengleibie</th>\n",
       "      <th>career</th>\n",
       "      <th>real_province</th>\n",
       "      <th>province</th>\n",
       "      <th>city</th>\n",
       "      <th>company_description</th>\n",
       "      <th>...</th>\n",
       "      <th>pl_visual_basic</th>\n",
       "      <th>publish_date</th>\n",
       "      <th>published_on_weekend</th>\n",
       "      <th>tag_baby_care</th>\n",
       "      <th>tag_five_insurance</th>\n",
       "      <th>tag_flexible</th>\n",
       "      <th>tag_no_overtime</th>\n",
       "      <th>tag_rest_one_day</th>\n",
       "      <th>tag_rest_two_days</th>\n",
       "      <th>tag_stock</th>\n",
       "    </tr>\n",
       "  </thead>\n",
       "  <tbody>\n",
       "    <tr>\n",
       "      <th>18004</th>\n",
       "      <td>116717167</td>\n",
       "      <td>10000</td>\n",
       "      <td>200</td>\n",
       "      <td>海外业务软件工程师（2020届）</td>\n",
       "      <td>软件工程师</td>\n",
       "      <td>一般程序员</td>\n",
       "      <td>None</td>\n",
       "      <td>上海</td>\n",
       "      <td>上海</td>\n",
       "      <td>上海海隆软件有限公司成立于1989年4月，是国内著名软件企业、国家规划布局内重点软件企业。公...</td>\n",
       "      <td>...</td>\n",
       "      <td>False</td>\n",
       "      <td>2019-09-02</td>\n",
       "      <td>False</td>\n",
       "      <td>False</td>\n",
       "      <td>True</td>\n",
       "      <td>True</td>\n",
       "      <td>False</td>\n",
       "      <td>False</td>\n",
       "      <td>False</td>\n",
       "      <td>False</td>\n",
       "    </tr>\n",
       "    <tr>\n",
       "      <th>11141</th>\n",
       "      <td>114568087</td>\n",
       "      <td>3750</td>\n",
       "      <td>151</td>\n",
       "      <td>C#软件开发</td>\n",
       "      <td>软件工程师</td>\n",
       "      <td>一般程序员</td>\n",
       "      <td>None</td>\n",
       "      <td>北京</td>\n",
       "      <td>北京</td>\n",
       "      <td>北京其然科技有限公司，名字源于，顺 其其自 然然，主旨顺其自然、水到渠成。北京其然科技有限公...</td>\n",
       "      <td>...</td>\n",
       "      <td>False</td>\n",
       "      <td>2019-09-02</td>\n",
       "      <td>False</td>\n",
       "      <td>False</td>\n",
       "      <td>False</td>\n",
       "      <td>False</td>\n",
       "      <td>False</td>\n",
       "      <td>False</td>\n",
       "      <td>False</td>\n",
       "      <td>False</td>\n",
       "    </tr>\n",
       "    <tr>\n",
       "      <th>3335</th>\n",
       "      <td>108834444</td>\n",
       "      <td>15000</td>\n",
       "      <td>150</td>\n",
       "      <td>Java开发工程师</td>\n",
       "      <td>软件工程师</td>\n",
       "      <td>一般程序员</td>\n",
       "      <td>None</td>\n",
       "      <td>北京</td>\n",
       "      <td>北京</td>\n",
       "      <td>大连华信计算机技术股份有限公司（简称大连华信）是一家面向全球客户提供领先的应用软件产品、信息...</td>\n",
       "      <td>...</td>\n",
       "      <td>False</td>\n",
       "      <td>2019-09-02</td>\n",
       "      <td>False</td>\n",
       "      <td>False</td>\n",
       "      <td>True</td>\n",
       "      <td>False</td>\n",
       "      <td>False</td>\n",
       "      <td>False</td>\n",
       "      <td>False</td>\n",
       "      <td>False</td>\n",
       "    </tr>\n",
       "    <tr>\n",
       "      <th>6036</th>\n",
       "      <td>111488967</td>\n",
       "      <td>8500</td>\n",
       "      <td>90</td>\n",
       "      <td>开发工程师</td>\n",
       "      <td>软件工程师</td>\n",
       "      <td>一般程序员</td>\n",
       "      <td>None</td>\n",
       "      <td>广东</td>\n",
       "      <td>深圳</td>\n",
       "      <td>东华医为科技有限公司（简称东华医为）成立于2012年5月，注册资金5000万，是东华软件股份...</td>\n",
       "      <td>...</td>\n",
       "      <td>False</td>\n",
       "      <td>2019-09-02</td>\n",
       "      <td>False</td>\n",
       "      <td>False</td>\n",
       "      <td>True</td>\n",
       "      <td>False</td>\n",
       "      <td>False</td>\n",
       "      <td>False</td>\n",
       "      <td>False</td>\n",
       "      <td>False</td>\n",
       "    </tr>\n",
       "    <tr>\n",
       "      <th>6035</th>\n",
       "      <td>111488966</td>\n",
       "      <td>8500</td>\n",
       "      <td>90</td>\n",
       "      <td>开发工程师</td>\n",
       "      <td>软件工程师</td>\n",
       "      <td>一般程序员</td>\n",
       "      <td>None</td>\n",
       "      <td>广东</td>\n",
       "      <td>广州</td>\n",
       "      <td>东华医为科技有限公司（简称东华医为）成立于2012年5月，注册资金5000万，是东华软件股份...</td>\n",
       "      <td>...</td>\n",
       "      <td>False</td>\n",
       "      <td>2019-09-02</td>\n",
       "      <td>False</td>\n",
       "      <td>False</td>\n",
       "      <td>True</td>\n",
       "      <td>False</td>\n",
       "      <td>False</td>\n",
       "      <td>False</td>\n",
       "      <td>False</td>\n",
       "      <td>False</td>\n",
       "    </tr>\n",
       "  </tbody>\n",
       "</table>\n",
       "<p>5 rows × 94 columns</p>\n",
       "</div>"
      ],
      "text/plain": [
       "          job_id  monthly_salary  headcount             title zhinengleibie  \\\n",
       "18004  116717167           10000        200  海外业务软件工程师（2020届）         软件工程师   \n",
       "11141  114568087            3750        151            C#软件开发         软件工程师   \n",
       "3335   108834444           15000        150         Java开发工程师         软件工程师   \n",
       "6036   111488967            8500         90             开发工程师         软件工程师   \n",
       "6035   111488966            8500         90             开发工程师         软件工程师   \n",
       "\n",
       "      career real_province province city  \\\n",
       "18004  一般程序员          None       上海   上海   \n",
       "11141  一般程序员          None       北京   北京   \n",
       "3335   一般程序员          None       北京   北京   \n",
       "6036   一般程序员          None       广东   深圳   \n",
       "6035   一般程序员          None       广东   广州   \n",
       "\n",
       "                                     company_description    ...      \\\n",
       "18004  上海海隆软件有限公司成立于1989年4月，是国内著名软件企业、国家规划布局内重点软件企业。公...    ...       \n",
       "11141  北京其然科技有限公司，名字源于，顺 其其自 然然，主旨顺其自然、水到渠成。北京其然科技有限公...    ...       \n",
       "3335   大连华信计算机技术股份有限公司（简称大连华信）是一家面向全球客户提供领先的应用软件产品、信息...    ...       \n",
       "6036   东华医为科技有限公司（简称东华医为）成立于2012年5月，注册资金5000万，是东华软件股份...    ...       \n",
       "6035   东华医为科技有限公司（简称东华医为）成立于2012年5月，注册资金5000万，是东华软件股份...    ...       \n",
       "\n",
       "      pl_visual_basic publish_date published_on_weekend tag_baby_care  \\\n",
       "18004           False   2019-09-02                False         False   \n",
       "11141           False   2019-09-02                False         False   \n",
       "3335            False   2019-09-02                False         False   \n",
       "6036            False   2019-09-02                False         False   \n",
       "6035            False   2019-09-02                False         False   \n",
       "\n",
       "       tag_five_insurance  tag_flexible  tag_no_overtime  tag_rest_one_day  \\\n",
       "18004                True          True            False             False   \n",
       "11141               False         False            False             False   \n",
       "3335                 True         False            False             False   \n",
       "6036                 True         False            False             False   \n",
       "6035                 True         False            False             False   \n",
       "\n",
       "       tag_rest_two_days  tag_stock  \n",
       "18004              False      False  \n",
       "11141              False      False  \n",
       "3335               False      False  \n",
       "6036               False      False  \n",
       "6035               False      False  \n",
       "\n",
       "[5 rows x 94 columns]"
      ]
     },
     "execution_count": 6,
     "metadata": {},
     "output_type": "execute_result"
    }
   ],
   "source": [
    "data=data.sort_values(by='headcount', ascending=False)\n",
    "data.head()"
   ]
  },
  {
   "cell_type": "code",
   "execution_count": 7,
   "metadata": {},
   "outputs": [],
   "source": [
    "def pd_weighted_mean(group, avg_name, weight_name):\n",
    "    \"\"\" http://stackoverflow.com/questions/10951341/pandas-dataframe-aggregate-function-using-multiple-columns\n",
    "    In rare instance, we may not have weights, so just return the mean. Customize this if your business case\n",
    "    should return otherwise.\n",
    "    \"\"\"\n",
    "    d = group[avg_name]\n",
    "    w = group[weight_name]\n",
    "    try:\n",
    "        return (d * w).sum() / w.sum()\n",
    "    except ZeroDivisionError:\n",
    "        return d.mean()\n"
   ]
  },
  {
   "cell_type": "markdown",
   "metadata": {},
   "source": [
    "# Unilateral Stats 总体统计"
   ]
  },
  {
   "cell_type": "markdown",
   "metadata": {},
   "source": [
    "有数据可知，程序员向一线城市集中的趋势非常明显。\n",
    "\n",
    "According to the statistics, significant amount of developers are in the first tier cities."
   ]
  },
  {
   "cell_type": "code",
   "execution_count": 8,
   "metadata": {},
   "outputs": [
    {
     "data": {
      "text/plain": [
       "(22498, 94)"
      ]
     },
     "execution_count": 8,
     "metadata": {},
     "output_type": "execute_result"
    }
   ],
   "source": [
    "data.shape"
   ]
  },
  {
   "cell_type": "code",
   "execution_count": 9,
   "metadata": {},
   "outputs": [
    {
     "data": {
      "text/plain": [
       "70039"
      ]
     },
     "execution_count": 9,
     "metadata": {},
     "output_type": "execute_result"
    }
   ],
   "source": [
    "data.headcount.sum()"
   ]
  },
  {
   "cell_type": "code",
   "execution_count": 10,
   "metadata": {},
   "outputs": [
    {
     "data": {
      "text/plain": [
       "array([ 5000., 10499., 14000., 20000., 37500.])"
      ]
     },
     "execution_count": 10,
     "metadata": {},
     "output_type": "execute_result"
    }
   ],
   "source": [
    "salary_mean=weighted.weighted_mean(data.monthly_salary.values, data.headcount.values)\n",
    "q=weighted.weighted_quantile(data.monthly_salary.values,[0.025,0.25,0.5,0.75,0.975], data.headcount.values)\n",
    "q"
   ]
  },
  {
   "cell_type": "code",
   "execution_count": 11,
   "metadata": {},
   "outputs": [
    {
     "name": "stdout",
     "output_type": "stream",
     "text": [
      "2019年9月中国一线城市程序员的平均工资为15761元，工资中位数为14000元，其中95%的人的工资位于5000到37500元之间。\n"
     ]
    }
   ],
   "source": [
    "print(f'{year}年{month}月中国一线城市程序员的平均工资为{salary_mean:.0f}元，工资中位数为{q[2]:.0f}元，其中95%的人的工资位于{q[0]:.0f}到{q[4]:.0f}元之间。')"
   ]
  },
  {
   "cell_type": "code",
   "execution_count": 12,
   "metadata": {},
   "outputs": [
    {
     "name": "stdout",
     "output_type": "stream",
     "text": [
      "In 2019, Developers in China earn 15761 Yuan as average, the median is 14000 Yuan, 95% of them earn between 5000 and 37500 Yuan.\n"
     ]
    }
   ],
   "source": [
    "print(f'In {year}, Developers in China earn {salary_mean:.0f} Yuan as average, '\n",
    "      f'the median is {q[2]:.0f} Yuan, 95% of them earn between {q[0]:.0f} and {q[4]:.0f} Yuan.')"
   ]
  },
  {
   "cell_type": "code",
   "execution_count": 13,
   "metadata": {},
   "outputs": [
    {
     "data": {
      "text/plain": [
       "<matplotlib.axes._subplots.AxesSubplot at 0x1f158a92e80>"
      ]
     },
     "execution_count": 13,
     "metadata": {},
     "output_type": "execute_result"
    },
    {
     "data": {
      "image/png": "[encoded data removed]",
      "text/plain": [
       "<Figure size 432x288 with 1 Axes>"
      ]
     },
     "metadata": {
      "needs_background": "light"
     },
     "output_type": "display_data"
    }
   ],
   "source": [
    "data.monthly_salary.hist()"
   ]
  },
  {
   "cell_type": "markdown",
   "metadata": {},
   "source": [
    "It does not look like normal distribution."
   ]
  },
  {
   "cell_type": "code",
   "execution_count": 14,
   "metadata": {},
   "outputs": [],
   "source": [
    "from scipy import stats"
   ]
  },
  {
   "cell_type": "code",
   "execution_count": 15,
   "metadata": {},
   "outputs": [
    {
     "data": {
      "text/plain": [
       "NormaltestResult(statistic=8005.814162220586, pvalue=0.0)"
      ]
     },
     "execution_count": 15,
     "metadata": {},
     "output_type": "execute_result"
    }
   ],
   "source": [
    "stats.normaltest(data.monthly_salary)"
   ]
  },
  {
   "cell_type": "markdown",
   "metadata": {},
   "source": [
    "null hypothesis: x comes from a normal distribution\n",
    "    \n",
    "p=0\n",
    "\n",
    "The null hypothesis can be rejected\n",
    "\n",
    "conclusion: data is not normally distributed."
   ]
  },
  {
   "cell_type": "markdown",
   "metadata": {},
   "source": [
    "Zoom in"
   ]
  },
  {
   "cell_type": "code",
   "execution_count": 16,
   "metadata": {},
   "outputs": [
    {
     "data": {
      "image/png": "[encoded data removed]",
      "text/plain": [
       "<Figure size 432x288 with 1 Axes>"
      ]
     },
     "metadata": {
      "needs_background": "light"
     },
     "output_type": "display_data"
    }
   ],
   "source": [
    "data[data.monthly_salary<40000].monthly_salary.hist()\n",
    "plt.annotate('https://github.com/juwikuang/job_survey', xy=(0,0), xytext=(2000, 100), color='white')\n",
    "plt.show()"
   ]
  },
  {
   "cell_type": "markdown",
   "metadata": {},
   "source": [
    "## Role 角色"
   ]
  },
  {
   "cell_type": "code",
   "execution_count": 17,
   "metadata": {},
   "outputs": [],
   "source": [
    "#Common Functions\n",
    "def get_sub_stats_by_col(data, col):\n",
    "    categories=data[col].unique()\n",
    "    salary_mean=[]\n",
    "    salary_95_min=[]\n",
    "    salary_95_max=[]\n",
    "    salary_median=[]\n",
    "    \n",
    "\n",
    "    count=[]\n",
    "    \n",
    "    categorys_out=[]\n",
    "    for category in categories:\n",
    "        #print(feature)\n",
    "        idata=data[data[col]==category]\n",
    "        headcount=idata.headcount.sum()\n",
    "        values = idata.monthly_salary.values\n",
    "        weights = idata.headcount.values\n",
    "        #print(str(headcount))\n",
    "        if headcount==0:\n",
    "            continue\n",
    "        \n",
    "        salary_mean.append(np.average(values, weights=weights))\n",
    "        \n",
    "\n",
    "        q = weighted.weighted_quantile(values,[0.025,0.5,0.975],weights)\n",
    "        salary_95_min.append(q[0])\n",
    "        salary_median.append(q[1])\n",
    "        salary_95_max.append(q[2])\n",
    "        count.append(idata.headcount.sum())\n",
    "        categorys_out.append(category)\n",
    "    sub_data=pd.DataFrame()\n",
    "    sub_data[col]=[c for c in categorys_out]\n",
    "    sub_data['salary_mean']=salary_mean\n",
    "    sub_data['salary_95_min']=salary_95_min\n",
    "    sub_data['salary_median']=salary_median\n",
    "    sub_data['salary_95_max']=salary_95_max\n",
    "    sub_data['head_count']=count\n",
    "    sub_data['percentage']=count/np.sum(count)\n",
    "    sub_data=sub_data.sort_values(by='salary_mean', ascending=False)\n",
    "\n",
    "    return sub_data\n",
    "\n",
    "def get_sub_stats_by_prefix(data, prefix):\n",
    "    \n",
    "    features = [feature for feature in data.columns if feature.startswith(prefix)]\n",
    "    salary_mean=[]\n",
    "    salary_median=[]\n",
    "    salary_95_min=[]\n",
    "    salary_95_max=[]\n",
    "    count=[]\n",
    "    \n",
    "    features_out=[]\n",
    "    for feature in features:\n",
    "        #print(feature)\n",
    "        idata=data[data[feature]==1]\n",
    "        headcount=idata.headcount.sum()\n",
    "        values = idata.monthly_salary.values\n",
    "        weights = idata.headcount.values\n",
    "        #print(str(headcount))\n",
    "        if headcount==0:\n",
    "            continue\n",
    "        \n",
    "        salary_mean.append(weighted.weighted_mean(values, weights))\n",
    "        q = weighted.weighted_quantile(values,[0.025,0.5,0.975],weights)\n",
    "        salary_median.append(q[1])\n",
    "        salary_95_min.append(q[0])\n",
    "        salary_95_max.append(q[2])\n",
    "        count.append(idata.headcount.sum())\n",
    "        features_out.append(feature)\n",
    "    sub_data=pd.DataFrame()\n",
    "    sub_data['rank']=range(0,len(features_out))\n",
    "    sub_data[prefix]=[f.replace(prefix,'') for f in features_out]\n",
    "    sub_data['salary_mean']=salary_mean\n",
    "    sub_data['salary_median']=salary_median\n",
    "    sub_data['salary_95_min']=salary_95_min\n",
    "    sub_data['salary_95_max']=salary_95_max\n",
    "    sub_data['head_count']=count\n",
    "    sub_data['percentage']=count/np.sum(count)\n",
    "    sub_data=sub_data.sort_values(by='salary_mean', ascending=False)\n",
    "    sub_data['rank']=range(1,len(features_out)+1)\n",
    "    #sub_data=sub_data.reset_index()\n",
    "    return sub_data\n",
    "\n",
    "def apply_style(sub_data):\n",
    "    return sub_data.style.hide_index().format(\n",
    "    {\"salary_mean\":\"{:.0f}\",\"salary_median\":\"{:.0f}\",\"salary_95_min\":\"{:.0f}\",\"salary_95_max\":\"{:.0f}\",\"percentage\":\"{:.2%}\"})"
   ]
  },
  {
   "cell_type": "code",
   "execution_count": 18,
   "metadata": {},
   "outputs": [
    {
     "data": {
      "text/html": [
       "<style  type=\"text/css\" >\n",
       "</style>  \n",
       "<table id=\"T_9dc6934a_cf78_11e9_ba52_701ce71031ef\" > \n",
       "<thead>    <tr> \n",
       "        <th class=\"blank level0\" ></th> \n",
       "        <th class=\"col_heading level0 col0\" >career</th> \n",
       "        <th class=\"col_heading level0 col1\" >salary_mean</th> \n",
       "        <th class=\"col_heading level0 col2\" >salary_95_min</th> \n",
       "        <th class=\"col_heading level0 col3\" >salary_median</th> \n",
       "        <th class=\"col_heading level0 col4\" >salary_95_max</th> \n",
       "        <th class=\"col_heading level0 col5\" >head_count</th> \n",
       "        <th class=\"col_heading level0 col6\" >percentage</th> \n",
       "    </tr></thead> \n",
       "<tbody>    <tr> \n",
       "        <th id=\"T_9dc6934a_cf78_11e9_ba52_701ce71031eflevel0_row0\" class=\"row_heading level0 row0\" >1</th> \n",
       "        <td id=\"T_9dc6934a_cf78_11e9_ba52_701ce71031efrow0_col0\" class=\"data row0 col0\" >系统架构师</td> \n",
       "        <td id=\"T_9dc6934a_cf78_11e9_ba52_701ce71031efrow0_col1\" class=\"data row0 col1\" >24494</td> \n",
       "        <td id=\"T_9dc6934a_cf78_11e9_ba52_701ce71031efrow0_col2\" class=\"data row0 col2\" >5250</td> \n",
       "        <td id=\"T_9dc6934a_cf78_11e9_ba52_701ce71031efrow0_col3\" class=\"data row0 col3\" >22500</td> \n",
       "        <td id=\"T_9dc6934a_cf78_11e9_ba52_701ce71031efrow0_col4\" class=\"data row0 col4\" >50000</td> \n",
       "        <td id=\"T_9dc6934a_cf78_11e9_ba52_701ce71031efrow0_col5\" class=\"data row0 col5\" >2807</td> \n",
       "        <td id=\"T_9dc6934a_cf78_11e9_ba52_701ce71031efrow0_col6\" class=\"data row0 col6\" >4.01%</td> \n",
       "    </tr>    <tr> \n",
       "        <th id=\"T_9dc6934a_cf78_11e9_ba52_701ce71031eflevel0_row1\" class=\"row_heading level0 row1\" >2</th> \n",
       "        <td id=\"T_9dc6934a_cf78_11e9_ba52_701ce71031efrow1_col0\" class=\"data row1 col0\" >算法工程师</td> \n",
       "        <td id=\"T_9dc6934a_cf78_11e9_ba52_701ce71031efrow1_col1\" class=\"data row1 col1\" >21538</td> \n",
       "        <td id=\"T_9dc6934a_cf78_11e9_ba52_701ce71031efrow1_col2\" class=\"data row1 col2\" >6000</td> \n",
       "        <td id=\"T_9dc6934a_cf78_11e9_ba52_701ce71031efrow1_col3\" class=\"data row1 col3\" >20000</td> \n",
       "        <td id=\"T_9dc6934a_cf78_11e9_ba52_701ce71031efrow1_col4\" class=\"data row1 col4\" >45608.1</td> \n",
       "        <td id=\"T_9dc6934a_cf78_11e9_ba52_701ce71031efrow1_col5\" class=\"data row1 col5\" >6714</td> \n",
       "        <td id=\"T_9dc6934a_cf78_11e9_ba52_701ce71031efrow1_col6\" class=\"data row1 col6\" >9.59%</td> \n",
       "    </tr>    <tr> \n",
       "        <th id=\"T_9dc6934a_cf78_11e9_ba52_701ce71031eflevel0_row2\" class=\"row_heading level0 row2\" >0</th> \n",
       "        <td id=\"T_9dc6934a_cf78_11e9_ba52_701ce71031efrow2_col0\" class=\"data row2 col0\" >一般程序员</td> \n",
       "        <td id=\"T_9dc6934a_cf78_11e9_ba52_701ce71031efrow2_col1\" class=\"data row2 col1\" >14719</td> \n",
       "        <td id=\"T_9dc6934a_cf78_11e9_ba52_701ce71031efrow2_col2\" class=\"data row2 col2\" >5000</td> \n",
       "        <td id=\"T_9dc6934a_cf78_11e9_ba52_701ce71031efrow2_col3\" class=\"data row2 col3\" >12500</td> \n",
       "        <td id=\"T_9dc6934a_cf78_11e9_ba52_701ce71031efrow2_col4\" class=\"data row2 col4\" >33740.6</td> \n",
       "        <td id=\"T_9dc6934a_cf78_11e9_ba52_701ce71031efrow2_col5\" class=\"data row2 col5\" >60394</td> \n",
       "        <td id=\"T_9dc6934a_cf78_11e9_ba52_701ce71031efrow2_col6\" class=\"data row2 col6\" >86.23%</td> \n",
       "    </tr>    <tr> \n",
       "        <th id=\"T_9dc6934a_cf78_11e9_ba52_701ce71031eflevel0_row3\" class=\"row_heading level0 row3\" >3</th> \n",
       "        <td id=\"T_9dc6934a_cf78_11e9_ba52_701ce71031efrow3_col0\" class=\"data row3 col0\" >爬虫工程师</td> \n",
       "        <td id=\"T_9dc6934a_cf78_11e9_ba52_701ce71031efrow3_col1\" class=\"data row3 col1\" >12500</td> \n",
       "        <td id=\"T_9dc6934a_cf78_11e9_ba52_701ce71031efrow3_col2\" class=\"data row3 col2\" >3650</td> \n",
       "        <td id=\"T_9dc6934a_cf78_11e9_ba52_701ce71031efrow3_col3\" class=\"data row3 col3\" >12500</td> \n",
       "        <td id=\"T_9dc6934a_cf78_11e9_ba52_701ce71031efrow3_col4\" class=\"data row3 col4\" >24000</td> \n",
       "        <td id=\"T_9dc6934a_cf78_11e9_ba52_701ce71031efrow3_col5\" class=\"data row3 col5\" >116</td> \n",
       "        <td id=\"T_9dc6934a_cf78_11e9_ba52_701ce71031efrow3_col6\" class=\"data row3 col6\" >0.17%</td> \n",
       "    </tr>    <tr> \n",
       "        <th id=\"T_9dc6934a_cf78_11e9_ba52_701ce71031eflevel0_row4\" class=\"row_heading level0 row4\" >4</th> \n",
       "        <td id=\"T_9dc6934a_cf78_11e9_ba52_701ce71031efrow4_col0\" class=\"data row4 col0\" >生物信息工程师</td> \n",
       "        <td id=\"T_9dc6934a_cf78_11e9_ba52_701ce71031efrow4_col1\" class=\"data row4 col1\" >11750</td> \n",
       "        <td id=\"T_9dc6934a_cf78_11e9_ba52_701ce71031efrow4_col2\" class=\"data row4 col2\" >8000</td> \n",
       "        <td id=\"T_9dc6934a_cf78_11e9_ba52_701ce71031efrow4_col3\" class=\"data row4 col3\" >11750</td> \n",
       "        <td id=\"T_9dc6934a_cf78_11e9_ba52_701ce71031efrow4_col4\" class=\"data row4 col4\" >14000</td> \n",
       "        <td id=\"T_9dc6934a_cf78_11e9_ba52_701ce71031efrow4_col5\" class=\"data row4 col5\" >8</td> \n",
       "        <td id=\"T_9dc6934a_cf78_11e9_ba52_701ce71031efrow4_col6\" class=\"data row4 col6\" >0.01%</td> \n",
       "    </tr></tbody> \n",
       "</table> "
      ],
      "text/plain": [
       "<pandas.io.formats.style.Styler at 0x1f1509171d0>"
      ]
     },
     "execution_count": 18,
     "metadata": {},
     "output_type": "execute_result"
    }
   ],
   "source": [
    "data_career = get_sub_stats_by_col(data,'career')\n",
    "data_career.style.format({\"salary_mean\":\"{:.0f}\",\"salary_median\":\"{:.0f}\",\"percentage\":\"{:.2%}\"})"
   ]
  },
  {
   "cell_type": "code",
   "execution_count": 19,
   "metadata": {},
   "outputs": [
    {
     "data": {
      "text/plain": [
       "15760.569796827482"
      ]
     },
     "execution_count": 19,
     "metadata": {},
     "output_type": "execute_result"
    }
   ],
   "source": [
    "np.sum(data.monthly_salary * data.headcount) / data.headcount.sum()"
   ]
  },
  {
   "cell_type": "code",
   "execution_count": 20,
   "metadata": {},
   "outputs": [
    {
     "data": {
      "text/plain": [
       "70039"
      ]
     },
     "execution_count": 20,
     "metadata": {},
     "output_type": "execute_result"
    }
   ],
   "source": [
    "data.headcount.sum()"
   ]
  },
  {
   "cell_type": "code",
   "execution_count": 21,
   "metadata": {},
   "outputs": [
    {
     "data": {
      "text/plain": [
       "count    22498.000000\n",
       "mean         3.113121\n",
       "std          3.543324\n",
       "min          1.000000\n",
       "25%          1.000000\n",
       "50%          2.000000\n",
       "75%          5.000000\n",
       "max        200.000000\n",
       "Name: headcount, dtype: float64"
      ]
     },
     "execution_count": 21,
     "metadata": {},
     "output_type": "execute_result"
    }
   ],
   "source": [
    "data.headcount.describe()"
   ]
  },
  {
   "cell_type": "code",
   "execution_count": 22,
   "metadata": {},
   "outputs": [
    {
     "data": {
      "text/html": [
       "<div>\n",
       "<style scoped>\n",
       "    .dataframe tbody tr th:only-of-type {\n",
       "        vertical-align: middle;\n",
       "    }\n",
       "\n",
       "    .dataframe tbody tr th {\n",
       "        vertical-align: top;\n",
       "    }\n",
       "\n",
       "    .dataframe thead th {\n",
       "        text-align: right;\n",
       "    }\n",
       "</style>\n",
       "<table border=\"1\" class=\"dataframe\">\n",
       "  <thead>\n",
       "    <tr style=\"text-align: right;\">\n",
       "      <th></th>\n",
       "      <th>job_id</th>\n",
       "      <th>monthly_salary</th>\n",
       "      <th>headcount</th>\n",
       "      <th>title</th>\n",
       "      <th>zhinengleibie</th>\n",
       "      <th>career</th>\n",
       "      <th>real_province</th>\n",
       "      <th>province</th>\n",
       "      <th>city</th>\n",
       "      <th>company_description</th>\n",
       "      <th>company_size</th>\n",
       "      <th>company_title</th>\n",
       "      <th>company_type</th>\n",
       "      <th>page_title</th>\n",
       "      <th>ageism</th>\n",
       "      <th>db_Apache_Hive</th>\n",
       "      <th>db_CouchBase</th>\n",
       "      <th>db_CouchDB</th>\n",
       "      <th>db_DB2</th>\n",
       "      <th>db_DynamoDB</th>\n",
       "      <th>db_Elasticsearch</th>\n",
       "      <th>db_FileMaker</th>\n",
       "      <th>db_Firebase</th>\n",
       "      <th>db_Firebird</th>\n",
       "      <th>db_Hbase</th>\n",
       "      <th>db_Informix</th>\n",
       "      <th>db_Ingres</th>\n",
       "      <th>db_MariaDB</th>\n",
       "      <th>db_Memcached</th>\n",
       "      <th>db_MongoDB</th>\n",
       "      <th>db_MySQL</th>\n",
       "      <th>db_Neo4j</th>\n",
       "      <th>db_Netezza</th>\n",
       "      <th>db_Oracle</th>\n",
       "      <th>db_PostgreSQL</th>\n",
       "      <th>db_Redis</th>\n",
       "      <th>db_Riak</th>\n",
       "      <th>db_SAP_HANA</th>\n",
       "      <th>db_SQL_Server</th>\n",
       "      <th>db_SQLite</th>\n",
       "      <th>db_Solr</th>\n",
       "      <th>db_Splunk</th>\n",
       "      <th>db_Sybase</th>\n",
       "      <th>db_Teradata</th>\n",
       "      <th>db_dBase</th>\n",
       "      <th>edu</th>\n",
       "      <th>english</th>\n",
       "      <th>experience</th>\n",
       "      <th>expert_adas</th>\n",
       "      <th>expert_blockchain</th>\n",
       "      <th>expert_embed</th>\n",
       "      <th>expert_expert</th>\n",
       "      <th>expert_gis</th>\n",
       "      <th>_996_yes</th>\n",
       "      <th>_996_no</th>\n",
       "      <th>industry</th>\n",
       "      <th>japanese</th>\n",
       "      <th>job_description</th>\n",
       "      <th>job_summary</th>\n",
       "      <th>job_tags</th>\n",
       "      <th>phone_android</th>\n",
       "      <th>phone_app</th>\n",
       "      <th>phone_iso</th>\n",
       "      <th>pl_c_sharp</th>\n",
       "      <th>pl_cpp</th>\n",
       "      <th>pl_delphi</th>\n",
       "      <th>pl_go</th>\n",
       "      <th>pl_haskell</th>\n",
       "      <th>pl_java</th>\n",
       "      <th>pl_javascript</th>\n",
       "      <th>pl_julia</th>\n",
       "      <th>pl_kotlin</th>\n",
       "      <th>pl_lua</th>\n",
       "      <th>pl_matlab</th>\n",
       "      <th>pl_objective_c</th>\n",
       "      <th>pl_perl</th>\n",
       "      <th>pl_php</th>\n",
       "      <th>pl_python</th>\n",
       "      <th>pl_ruby</th>\n",
       "      <th>pl_rust</th>\n",
       "      <th>pl_scrala</th>\n",
       "      <th>pl_swift</th>\n",
       "      <th>pl_typescript</th>\n",
       "      <th>pl_vba</th>\n",
       "      <th>pl_visual_basic</th>\n",
       "      <th>publish_date</th>\n",
       "      <th>published_on_weekend</th>\n",
       "      <th>tag_baby_care</th>\n",
       "      <th>tag_five_insurance</th>\n",
       "      <th>tag_flexible</th>\n",
       "      <th>tag_no_overtime</th>\n",
       "      <th>tag_rest_one_day</th>\n",
       "      <th>tag_rest_two_days</th>\n",
       "      <th>tag_stock</th>\n",
       "    </tr>\n",
       "  </thead>\n",
       "  <tbody>\n",
       "    <tr>\n",
       "      <th>18004</th>\n",
       "      <td>116717167</td>\n",
       "      <td>10000</td>\n",
       "      <td>200</td>\n",
       "      <td>海外业务软件工程师（2020届）</td>\n",
       "      <td>软件工程师</td>\n",
       "      <td>一般程序员</td>\n",
       "      <td>None</td>\n",
       "      <td>上海</td>\n",
       "      <td>上海</td>\n",
       "      <td>上海海隆软件有限公司成立于1989年4月，是国内著名软件企业、国家规划布局内重点软件企业。公...</td>\n",
       "      <td>1000-5000</td>\n",
       "      <td>上海海隆软件有限公司</td>\n",
       "      <td>民营公司</td>\n",
       "      <td>【上海-徐汇区海外业务软件工程师（2020届）_海外业务软件工程师（2020届）招聘_上海海...</td>\n",
       "      <td>False</td>\n",
       "      <td>False</td>\n",
       "      <td>False</td>\n",
       "      <td>False</td>\n",
       "      <td>False</td>\n",
       "      <td>False</td>\n",
       "      <td>False</td>\n",
       "      <td>False</td>\n",
       "      <td>False</td>\n",
       "      <td>False</td>\n",
       "      <td>False</td>\n",
       "      <td>False</td>\n",
       "      <td>False</td>\n",
       "      <td>False</td>\n",
       "      <td>False</td>\n",
       "      <td>False</td>\n",
       "      <td>False</td>\n",
       "      <td>False</td>\n",
       "      <td>False</td>\n",
       "      <td>True</td>\n",
       "      <td>False</td>\n",
       "      <td>False</td>\n",
       "      <td>False</td>\n",
       "      <td>False</td>\n",
       "      <td>False</td>\n",
       "      <td>False</td>\n",
       "      <td>False</td>\n",
       "      <td>False</td>\n",
       "      <td>False</td>\n",
       "      <td>False</td>\n",
       "      <td>False</td>\n",
       "      <td>本科</td>\n",
       "      <td>False</td>\n",
       "      <td>no</td>\n",
       "      <td>False</td>\n",
       "      <td>False</td>\n",
       "      <td>False</td>\n",
       "      <td>False</td>\n",
       "      <td>False</td>\n",
       "      <td>False</td>\n",
       "      <td>False</td>\n",
       "      <td>computer</td>\n",
       "      <td>True</td>\n",
       "      <td>针对有志从事软件开发的应届毕业生，在毕业后可选择进入公司培训中心，接受脱产带薪培训，培训内容...</td>\n",
       "      <td>上海-徐汇区|无工作经验|本科|招200人|09-02发布</td>\n",
       "      <td>五险一金,专业培训,员工旅游,年终奖金,弹性工作,定期体检,出国机会,绩效奖金,工作午餐,加薪晋升</td>\n",
       "      <td>False</td>\n",
       "      <td>False</td>\n",
       "      <td>False</td>\n",
       "      <td>True</td>\n",
       "      <td>True</td>\n",
       "      <td>False</td>\n",
       "      <td>False</td>\n",
       "      <td>False</td>\n",
       "      <td>True</td>\n",
       "      <td>False</td>\n",
       "      <td>False</td>\n",
       "      <td>False</td>\n",
       "      <td>False</td>\n",
       "      <td>False</td>\n",
       "      <td>False</td>\n",
       "      <td>False</td>\n",
       "      <td>False</td>\n",
       "      <td>True</td>\n",
       "      <td>False</td>\n",
       "      <td>False</td>\n",
       "      <td>False</td>\n",
       "      <td>False</td>\n",
       "      <td>False</td>\n",
       "      <td>False</td>\n",
       "      <td>False</td>\n",
       "      <td>2019-09-02</td>\n",
       "      <td>False</td>\n",
       "      <td>False</td>\n",
       "      <td>True</td>\n",
       "      <td>True</td>\n",
       "      <td>False</td>\n",
       "      <td>False</td>\n",
       "      <td>False</td>\n",
       "      <td>False</td>\n",
       "    </tr>\n",
       "    <tr>\n",
       "      <th>11141</th>\n",
       "      <td>114568087</td>\n",
       "      <td>3750</td>\n",
       "      <td>151</td>\n",
       "      <td>C#软件开发</td>\n",
       "      <td>软件工程师</td>\n",
       "      <td>一般程序员</td>\n",
       "      <td>None</td>\n",
       "      <td>北京</td>\n",
       "      <td>北京</td>\n",
       "      <td>北京其然科技有限公司，名字源于，顺 其其自 然然，主旨顺其自然、水到渠成。北京其然科技有限公...</td>\n",
       "      <td>50-150</td>\n",
       "      <td>北京其然科技有限公司</td>\n",
       "      <td>民营公司</td>\n",
       "      <td>【北京-海淀区C#软件开发_C#软件开发招聘_北京其然科技有限公司】-前程无忧官方招聘网站</td>\n",
       "      <td>False</td>\n",
       "      <td>False</td>\n",
       "      <td>False</td>\n",
       "      <td>False</td>\n",
       "      <td>False</td>\n",
       "      <td>False</td>\n",
       "      <td>False</td>\n",
       "      <td>False</td>\n",
       "      <td>False</td>\n",
       "      <td>False</td>\n",
       "      <td>False</td>\n",
       "      <td>False</td>\n",
       "      <td>False</td>\n",
       "      <td>False</td>\n",
       "      <td>False</td>\n",
       "      <td>False</td>\n",
       "      <td>False</td>\n",
       "      <td>False</td>\n",
       "      <td>False</td>\n",
       "      <td>False</td>\n",
       "      <td>False</td>\n",
       "      <td>False</td>\n",
       "      <td>False</td>\n",
       "      <td>False</td>\n",
       "      <td>False</td>\n",
       "      <td>False</td>\n",
       "      <td>False</td>\n",
       "      <td>False</td>\n",
       "      <td>False</td>\n",
       "      <td>False</td>\n",
       "      <td>False</td>\n",
       "      <td>大专</td>\n",
       "      <td>False</td>\n",
       "      <td>no</td>\n",
       "      <td>False</td>\n",
       "      <td>False</td>\n",
       "      <td>False</td>\n",
       "      <td>False</td>\n",
       "      <td>False</td>\n",
       "      <td>False</td>\n",
       "      <td>False</td>\n",
       "      <td>computer</td>\n",
       "      <td>False</td>\n",
       "      <td>熟悉面向对象思想熟悉.Net架构体系精通C#开发语言熟悉WinFrom开发熟悉Asp.Net...</td>\n",
       "      <td>北京-海淀区|无工作经验|大专|招151人|09-02发布</td>\n",
       "      <td></td>\n",
       "      <td>False</td>\n",
       "      <td>False</td>\n",
       "      <td>False</td>\n",
       "      <td>True</td>\n",
       "      <td>False</td>\n",
       "      <td>False</td>\n",
       "      <td>False</td>\n",
       "      <td>False</td>\n",
       "      <td>False</td>\n",
       "      <td>True</td>\n",
       "      <td>False</td>\n",
       "      <td>False</td>\n",
       "      <td>False</td>\n",
       "      <td>False</td>\n",
       "      <td>False</td>\n",
       "      <td>False</td>\n",
       "      <td>False</td>\n",
       "      <td>False</td>\n",
       "      <td>False</td>\n",
       "      <td>False</td>\n",
       "      <td>False</td>\n",
       "      <td>False</td>\n",
       "      <td>False</td>\n",
       "      <td>False</td>\n",
       "      <td>False</td>\n",
       "      <td>2019-09-02</td>\n",
       "      <td>False</td>\n",
       "      <td>False</td>\n",
       "      <td>False</td>\n",
       "      <td>False</td>\n",
       "      <td>False</td>\n",
       "      <td>False</td>\n",
       "      <td>False</td>\n",
       "      <td>False</td>\n",
       "    </tr>\n",
       "    <tr>\n",
       "      <th>3335</th>\n",
       "      <td>108834444</td>\n",
       "      <td>15000</td>\n",
       "      <td>150</td>\n",
       "      <td>Java开发工程师</td>\n",
       "      <td>软件工程师</td>\n",
       "      <td>一般程序员</td>\n",
       "      <td>None</td>\n",
       "      <td>北京</td>\n",
       "      <td>北京</td>\n",
       "      <td>大连华信计算机技术股份有限公司（简称大连华信）是一家面向全球客户提供领先的应用软件产品、信息...</td>\n",
       "      <td>5000-10000</td>\n",
       "      <td>大连华信计算机技术股份有限公司</td>\n",
       "      <td>合资</td>\n",
       "      <td>【北京-朝阳区Java开发工程师_Java开发工程师招聘_大连华信计算机技术股份有限公司】-...</td>\n",
       "      <td>False</td>\n",
       "      <td>False</td>\n",
       "      <td>False</td>\n",
       "      <td>False</td>\n",
       "      <td>False</td>\n",
       "      <td>False</td>\n",
       "      <td>False</td>\n",
       "      <td>False</td>\n",
       "      <td>False</td>\n",
       "      <td>False</td>\n",
       "      <td>False</td>\n",
       "      <td>False</td>\n",
       "      <td>False</td>\n",
       "      <td>False</td>\n",
       "      <td>False</td>\n",
       "      <td>False</td>\n",
       "      <td>True</td>\n",
       "      <td>False</td>\n",
       "      <td>False</td>\n",
       "      <td>True</td>\n",
       "      <td>False</td>\n",
       "      <td>False</td>\n",
       "      <td>False</td>\n",
       "      <td>False</td>\n",
       "      <td>False</td>\n",
       "      <td>False</td>\n",
       "      <td>False</td>\n",
       "      <td>False</td>\n",
       "      <td>False</td>\n",
       "      <td>False</td>\n",
       "      <td>False</td>\n",
       "      <td>本科</td>\n",
       "      <td>False</td>\n",
       "      <td>5_10</td>\n",
       "      <td>False</td>\n",
       "      <td>False</td>\n",
       "      <td>False</td>\n",
       "      <td>False</td>\n",
       "      <td>False</td>\n",
       "      <td>False</td>\n",
       "      <td>False</td>\n",
       "      <td>computer</td>\n",
       "      <td>False</td>\n",
       "      <td>1、5年以上java开发工作经验。2、有丰富研发经验；深入理解SpringCloud、spr...</td>\n",
       "      <td>北京-朝阳区|5-7年经验|本科|招150人|09-02发布</td>\n",
       "      <td>五险一金,补充医疗保险,定期体检,年终奖金</td>\n",
       "      <td>False</td>\n",
       "      <td>False</td>\n",
       "      <td>False</td>\n",
       "      <td>False</td>\n",
       "      <td>False</td>\n",
       "      <td>False</td>\n",
       "      <td>True</td>\n",
       "      <td>False</td>\n",
       "      <td>True</td>\n",
       "      <td>False</td>\n",
       "      <td>False</td>\n",
       "      <td>False</td>\n",
       "      <td>False</td>\n",
       "      <td>False</td>\n",
       "      <td>False</td>\n",
       "      <td>False</td>\n",
       "      <td>False</td>\n",
       "      <td>True</td>\n",
       "      <td>False</td>\n",
       "      <td>False</td>\n",
       "      <td>False</td>\n",
       "      <td>False</td>\n",
       "      <td>False</td>\n",
       "      <td>False</td>\n",
       "      <td>False</td>\n",
       "      <td>2019-09-02</td>\n",
       "      <td>False</td>\n",
       "      <td>False</td>\n",
       "      <td>True</td>\n",
       "      <td>False</td>\n",
       "      <td>False</td>\n",
       "      <td>False</td>\n",
       "      <td>False</td>\n",
       "      <td>False</td>\n",
       "    </tr>\n",
       "    <tr>\n",
       "      <th>6035</th>\n",
       "      <td>111488966</td>\n",
       "      <td>8500</td>\n",
       "      <td>90</td>\n",
       "      <td>开发工程师</td>\n",
       "      <td>软件工程师</td>\n",
       "      <td>一般程序员</td>\n",
       "      <td>None</td>\n",
       "      <td>广东</td>\n",
       "      <td>广州</td>\n",
       "      <td>东华医为科技有限公司（简称东华医为）成立于2012年5月，注册资金5000万，是东华软件股份...</td>\n",
       "      <td>1000-5000</td>\n",
       "      <td>东华医为科技有限公司</td>\n",
       "      <td>民营公司</td>\n",
       "      <td>【广州开发工程师_开发工程师招聘_东华医为科技有限公司】-前程无忧官方招聘网站</td>\n",
       "      <td>False</td>\n",
       "      <td>False</td>\n",
       "      <td>False</td>\n",
       "      <td>False</td>\n",
       "      <td>False</td>\n",
       "      <td>False</td>\n",
       "      <td>False</td>\n",
       "      <td>False</td>\n",
       "      <td>False</td>\n",
       "      <td>False</td>\n",
       "      <td>False</td>\n",
       "      <td>False</td>\n",
       "      <td>False</td>\n",
       "      <td>False</td>\n",
       "      <td>False</td>\n",
       "      <td>False</td>\n",
       "      <td>True</td>\n",
       "      <td>False</td>\n",
       "      <td>False</td>\n",
       "      <td>True</td>\n",
       "      <td>False</td>\n",
       "      <td>False</td>\n",
       "      <td>False</td>\n",
       "      <td>False</td>\n",
       "      <td>True</td>\n",
       "      <td>False</td>\n",
       "      <td>False</td>\n",
       "      <td>False</td>\n",
       "      <td>False</td>\n",
       "      <td>False</td>\n",
       "      <td>False</td>\n",
       "      <td>本科</td>\n",
       "      <td>False</td>\n",
       "      <td>no</td>\n",
       "      <td>False</td>\n",
       "      <td>False</td>\n",
       "      <td>False</td>\n",
       "      <td>False</td>\n",
       "      <td>False</td>\n",
       "      <td>False</td>\n",
       "      <td>False</td>\n",
       "      <td>medical</td>\n",
       "      <td>False</td>\n",
       "      <td>工作职责：1、软件的程序设计与代码编写。 2、有关技术方案、文档的编写，软件单元的测试。 3...</td>\n",
       "      <td>广州|无工作经验|本科|招90人|09-02发布</td>\n",
       "      <td>五险一金,通讯补贴,年终奖金,定期体检</td>\n",
       "      <td>False</td>\n",
       "      <td>False</td>\n",
       "      <td>False</td>\n",
       "      <td>True</td>\n",
       "      <td>False</td>\n",
       "      <td>False</td>\n",
       "      <td>False</td>\n",
       "      <td>False</td>\n",
       "      <td>False</td>\n",
       "      <td>True</td>\n",
       "      <td>False</td>\n",
       "      <td>False</td>\n",
       "      <td>False</td>\n",
       "      <td>False</td>\n",
       "      <td>False</td>\n",
       "      <td>False</td>\n",
       "      <td>True</td>\n",
       "      <td>False</td>\n",
       "      <td>False</td>\n",
       "      <td>False</td>\n",
       "      <td>False</td>\n",
       "      <td>False</td>\n",
       "      <td>False</td>\n",
       "      <td>False</td>\n",
       "      <td>False</td>\n",
       "      <td>2019-09-02</td>\n",
       "      <td>False</td>\n",
       "      <td>False</td>\n",
       "      <td>True</td>\n",
       "      <td>False</td>\n",
       "      <td>False</td>\n",
       "      <td>False</td>\n",
       "      <td>False</td>\n",
       "      <td>False</td>\n",
       "    </tr>\n",
       "    <tr>\n",
       "      <th>17624</th>\n",
       "      <td>116654652</td>\n",
       "      <td>9000</td>\n",
       "      <td>90</td>\n",
       "      <td>JAVA开发工程师（广州）</td>\n",
       "      <td>软件工程师</td>\n",
       "      <td>一般程序员</td>\n",
       "      <td>None</td>\n",
       "      <td>广东</td>\n",
       "      <td>广州</td>\n",
       "      <td>公司简介广东亿迅科技有限公司，成立于2001年11月，注册资金1.5 亿元，于2007年12...</td>\n",
       "      <td>1000-5000</td>\n",
       "      <td>广东亿迅科技有限公司</td>\n",
       "      <td>国企</td>\n",
       "      <td>【广州-海珠区JAVA开发工程师（广州）_JAVA开发工程师（广州）招聘_广东亿迅科技有限公...</td>\n",
       "      <td>False</td>\n",
       "      <td>False</td>\n",
       "      <td>False</td>\n",
       "      <td>False</td>\n",
       "      <td>False</td>\n",
       "      <td>False</td>\n",
       "      <td>False</td>\n",
       "      <td>False</td>\n",
       "      <td>False</td>\n",
       "      <td>False</td>\n",
       "      <td>False</td>\n",
       "      <td>False</td>\n",
       "      <td>False</td>\n",
       "      <td>False</td>\n",
       "      <td>False</td>\n",
       "      <td>False</td>\n",
       "      <td>False</td>\n",
       "      <td>False</td>\n",
       "      <td>False</td>\n",
       "      <td>False</td>\n",
       "      <td>False</td>\n",
       "      <td>False</td>\n",
       "      <td>False</td>\n",
       "      <td>False</td>\n",
       "      <td>False</td>\n",
       "      <td>False</td>\n",
       "      <td>False</td>\n",
       "      <td>False</td>\n",
       "      <td>False</td>\n",
       "      <td>False</td>\n",
       "      <td>False</td>\n",
       "      <td>本科</td>\n",
       "      <td>False</td>\n",
       "      <td>no</td>\n",
       "      <td>False</td>\n",
       "      <td>False</td>\n",
       "      <td>False</td>\n",
       "      <td>False</td>\n",
       "      <td>False</td>\n",
       "      <td>False</td>\n",
       "      <td>False</td>\n",
       "      <td>computer</td>\n",
       "      <td>False</td>\n",
       "      <td>工作职责:1、按照工作进度和编程工作规范编写系统中的关键模块的程序；2、按照项目负责人的要求...</td>\n",
       "      <td>广州-海珠区|无工作经验|本科|招90人|09-02发布</td>\n",
       "      <td>五险一金,通讯补贴,定期体检,专业培训,补充医疗保险,餐饮补贴</td>\n",
       "      <td>False</td>\n",
       "      <td>False</td>\n",
       "      <td>False</td>\n",
       "      <td>False</td>\n",
       "      <td>False</td>\n",
       "      <td>False</td>\n",
       "      <td>False</td>\n",
       "      <td>False</td>\n",
       "      <td>True</td>\n",
       "      <td>False</td>\n",
       "      <td>False</td>\n",
       "      <td>False</td>\n",
       "      <td>False</td>\n",
       "      <td>False</td>\n",
       "      <td>False</td>\n",
       "      <td>False</td>\n",
       "      <td>False</td>\n",
       "      <td>False</td>\n",
       "      <td>False</td>\n",
       "      <td>False</td>\n",
       "      <td>False</td>\n",
       "      <td>False</td>\n",
       "      <td>False</td>\n",
       "      <td>False</td>\n",
       "      <td>False</td>\n",
       "      <td>2019-09-02</td>\n",
       "      <td>False</td>\n",
       "      <td>False</td>\n",
       "      <td>True</td>\n",
       "      <td>False</td>\n",
       "      <td>False</td>\n",
       "      <td>False</td>\n",
       "      <td>False</td>\n",
       "      <td>False</td>\n",
       "    </tr>\n",
       "  </tbody>\n",
       "</table>\n",
       "</div>"
      ],
      "text/plain": [
       "          job_id  monthly_salary  headcount             title zhinengleibie  \\\n",
       "18004  116717167           10000        200  海外业务软件工程师（2020届）         软件工程师   \n",
       "11141  114568087            3750        151            C#软件开发         软件工程师   \n",
       "3335   108834444           15000        150         Java开发工程师         软件工程师   \n",
       "6035   111488966            8500         90             开发工程师         软件工程师   \n",
       "17624  116654652            9000         90     JAVA开发工程师（广州）         软件工程师   \n",
       "\n",
       "      career real_province province city  \\\n",
       "18004  一般程序员          None       上海   上海   \n",
       "11141  一般程序员          None       北京   北京   \n",
       "3335   一般程序员          None       北京   北京   \n",
       "6035   一般程序员          None       广东   广州   \n",
       "17624  一般程序员          None       广东   广州   \n",
       "\n",
       "                                     company_description company_size  \\\n",
       "18004  上海海隆软件有限公司成立于1989年4月，是国内著名软件企业、国家规划布局内重点软件企业。公...    1000-5000   \n",
       "11141  北京其然科技有限公司，名字源于，顺 其其自 然然，主旨顺其自然、水到渠成。北京其然科技有限公...       50-150   \n",
       "3335   大连华信计算机技术股份有限公司（简称大连华信）是一家面向全球客户提供领先的应用软件产品、信息...   5000-10000   \n",
       "6035   东华医为科技有限公司（简称东华医为）成立于2012年5月，注册资金5000万，是东华软件股份...    1000-5000   \n",
       "17624  公司简介广东亿迅科技有限公司，成立于2001年11月，注册资金1.5 亿元，于2007年12...    1000-5000   \n",
       "\n",
       "         company_title company_type  \\\n",
       "18004       上海海隆软件有限公司         民营公司   \n",
       "11141       北京其然科技有限公司         民营公司   \n",
       "3335   大连华信计算机技术股份有限公司           合资   \n",
       "6035        东华医为科技有限公司         民营公司   \n",
       "17624       广东亿迅科技有限公司           国企   \n",
       "\n",
       "                                              page_title  ageism  \\\n",
       "18004  【上海-徐汇区海外业务软件工程师（2020届）_海外业务软件工程师（2020届）招聘_上海海...   False   \n",
       "11141      【北京-海淀区C#软件开发_C#软件开发招聘_北京其然科技有限公司】-前程无忧官方招聘网站   False   \n",
       "3335   【北京-朝阳区Java开发工程师_Java开发工程师招聘_大连华信计算机技术股份有限公司】-...   False   \n",
       "6035             【广州开发工程师_开发工程师招聘_东华医为科技有限公司】-前程无忧官方招聘网站   False   \n",
       "17624  【广州-海珠区JAVA开发工程师（广州）_JAVA开发工程师（广州）招聘_广东亿迅科技有限公...   False   \n",
       "\n",
       "       db_Apache_Hive  db_CouchBase  db_CouchDB  db_DB2  db_DynamoDB  \\\n",
       "18004           False         False       False   False        False   \n",
       "11141           False         False       False   False        False   \n",
       "3335            False         False       False   False        False   \n",
       "6035            False         False       False   False        False   \n",
       "17624           False         False       False   False        False   \n",
       "\n",
       "       db_Elasticsearch  db_FileMaker  db_Firebase  db_Firebird  db_Hbase  \\\n",
       "18004             False         False        False        False     False   \n",
       "11141             False         False        False        False     False   \n",
       "3335              False         False        False        False     False   \n",
       "6035              False         False        False        False     False   \n",
       "17624             False         False        False        False     False   \n",
       "\n",
       "       db_Informix  db_Ingres  db_MariaDB  db_Memcached  db_MongoDB  db_MySQL  \\\n",
       "18004        False      False       False         False       False     False   \n",
       "11141        False      False       False         False       False     False   \n",
       "3335         False      False       False         False       False      True   \n",
       "6035         False      False       False         False       False      True   \n",
       "17624        False      False       False         False       False     False   \n",
       "\n",
       "       db_Neo4j  db_Netezza  db_Oracle  db_PostgreSQL  db_Redis  db_Riak  \\\n",
       "18004     False       False       True          False     False    False   \n",
       "11141     False       False      False          False     False    False   \n",
       "3335      False       False       True          False     False    False   \n",
       "6035      False       False       True          False     False    False   \n",
       "17624     False       False      False          False     False    False   \n",
       "\n",
       "       db_SAP_HANA  db_SQL_Server  db_SQLite  db_Solr  db_Splunk  db_Sybase  \\\n",
       "18004        False          False      False    False      False      False   \n",
       "11141        False          False      False    False      False      False   \n",
       "3335         False          False      False    False      False      False   \n",
       "6035         False           True      False    False      False      False   \n",
       "17624        False          False      False    False      False      False   \n",
       "\n",
       "       db_Teradata  db_dBase edu  english experience  expert_adas  \\\n",
       "18004        False     False  本科    False         no        False   \n",
       "11141        False     False  大专    False         no        False   \n",
       "3335         False     False  本科    False       5_10        False   \n",
       "6035         False     False  本科    False         no        False   \n",
       "17624        False     False  本科    False         no        False   \n",
       "\n",
       "       expert_blockchain  expert_embed  expert_expert  expert_gis  _996_yes  \\\n",
       "18004              False         False          False       False     False   \n",
       "11141              False         False          False       False     False   \n",
       "3335               False         False          False       False     False   \n",
       "6035               False         False          False       False     False   \n",
       "17624              False         False          False       False     False   \n",
       "\n",
       "       _996_no  industry  japanese  \\\n",
       "18004    False  computer      True   \n",
       "11141    False  computer     False   \n",
       "3335     False  computer     False   \n",
       "6035     False   medical     False   \n",
       "17624    False  computer     False   \n",
       "\n",
       "                                         job_description  \\\n",
       "18004  针对有志从事软件开发的应届毕业生，在毕业后可选择进入公司培训中心，接受脱产带薪培训，培训内容...   \n",
       "11141  熟悉面向对象思想熟悉.Net架构体系精通C#开发语言熟悉WinFrom开发熟悉Asp.Net...   \n",
       "3335   1、5年以上java开发工作经验。2、有丰富研发经验；深入理解SpringCloud、spr...   \n",
       "6035   工作职责：1、软件的程序设计与代码编写。 2、有关技术方案、文档的编写，软件单元的测试。 3...   \n",
       "17624  工作职责:1、按照工作进度和编程工作规范编写系统中的关键模块的程序；2、按照项目负责人的要求...   \n",
       "\n",
       "                          job_summary  \\\n",
       "18004   上海-徐汇区|无工作经验|本科|招200人|09-02发布   \n",
       "11141   北京-海淀区|无工作经验|大专|招151人|09-02发布   \n",
       "3335   北京-朝阳区|5-7年经验|本科|招150人|09-02发布   \n",
       "6035         广州|无工作经验|本科|招90人|09-02发布   \n",
       "17624    广州-海珠区|无工作经验|本科|招90人|09-02发布   \n",
       "\n",
       "                                                job_tags  phone_android  \\\n",
       "18004  五险一金,专业培训,员工旅游,年终奖金,弹性工作,定期体检,出国机会,绩效奖金,工作午餐,加薪晋升          False   \n",
       "11141                                                             False   \n",
       "3335                               五险一金,补充医疗保险,定期体检,年终奖金          False   \n",
       "6035                                 五险一金,通讯补贴,年终奖金,定期体检          False   \n",
       "17624                    五险一金,通讯补贴,定期体检,专业培训,补充医疗保险,餐饮补贴          False   \n",
       "\n",
       "       phone_app  phone_iso  pl_c_sharp  pl_cpp  pl_delphi  pl_go  pl_haskell  \\\n",
       "18004      False      False        True    True      False  False       False   \n",
       "11141      False      False        True   False      False  False       False   \n",
       "3335       False      False       False   False      False   True       False   \n",
       "6035       False      False        True   False      False  False       False   \n",
       "17624      False      False       False   False      False  False       False   \n",
       "\n",
       "       pl_java  pl_javascript  pl_julia  pl_kotlin  pl_lua  pl_matlab  \\\n",
       "18004     True          False     False      False   False      False   \n",
       "11141    False           True     False      False   False      False   \n",
       "3335      True          False     False      False   False      False   \n",
       "6035     False           True     False      False   False      False   \n",
       "17624     True          False     False      False   False      False   \n",
       "\n",
       "       pl_objective_c  pl_perl  pl_php  pl_python  pl_ruby  pl_rust  \\\n",
       "18004           False    False   False       True    False    False   \n",
       "11141           False    False   False      False    False    False   \n",
       "3335            False    False   False       True    False    False   \n",
       "6035            False    False    True      False    False    False   \n",
       "17624           False    False   False      False    False    False   \n",
       "\n",
       "       pl_scrala  pl_swift  pl_typescript  pl_vba  pl_visual_basic  \\\n",
       "18004      False     False          False   False            False   \n",
       "11141      False     False          False   False            False   \n",
       "3335       False     False          False   False            False   \n",
       "6035       False     False          False   False            False   \n",
       "17624      False     False          False   False            False   \n",
       "\n",
       "      publish_date  published_on_weekend  tag_baby_care  tag_five_insurance  \\\n",
       "18004   2019-09-02                 False          False                True   \n",
       "11141   2019-09-02                 False          False               False   \n",
       "3335    2019-09-02                 False          False                True   \n",
       "6035    2019-09-02                 False          False                True   \n",
       "17624   2019-09-02                 False          False                True   \n",
       "\n",
       "       tag_flexible  tag_no_overtime  tag_rest_one_day  tag_rest_two_days  \\\n",
       "18004          True            False             False              False   \n",
       "11141         False            False             False              False   \n",
       "3335          False            False             False              False   \n",
       "6035          False            False             False              False   \n",
       "17624         False            False             False              False   \n",
       "\n",
       "       tag_stock  \n",
       "18004      False  \n",
       "11141      False  \n",
       "3335       False  \n",
       "6035       False  \n",
       "17624      False  "
      ]
     },
     "execution_count": 22,
     "metadata": {},
     "output_type": "execute_result"
    }
   ],
   "source": [
    "pd.options.display.max_columns=100\n",
    "data.sort_values(by='headcount', ascending=False).head()"
   ]
  },
  {
   "cell_type": "markdown",
   "metadata": {},
   "source": []
  },
  {
   "cell_type": "code",
   "execution_count": 23,
   "metadata": {},
   "outputs": [
    {
     "data": {
      "text/plain": [
       "70039"
      ]
     },
     "execution_count": 23,
     "metadata": {},
     "output_type": "execute_result"
    }
   ],
   "source": [
    "data.headcount.sum()"
   ]
  },
  {
   "cell_type": "markdown",
   "metadata": {},
   "source": [
    "# 城市"
   ]
  },
  {
   "cell_type": "code",
   "execution_count": 24,
   "metadata": {},
   "outputs": [],
   "source": [
    "headcount_by_cities = data.groupby(by='city').headcount.sum()"
   ]
  },
  {
   "cell_type": "code",
   "execution_count": 25,
   "metadata": {},
   "outputs": [
    {
     "data": {
      "text/plain": [
       "city\n",
       "上海    23762\n",
       "北京    10880\n",
       "广州    16002\n",
       "深圳    19395\n",
       "Name: headcount, dtype: int64"
      ]
     },
     "execution_count": 25,
     "metadata": {},
     "output_type": "execute_result"
    }
   ],
   "source": [
    "headcount_by_cities\n"
   ]
  },
  {
   "cell_type": "code",
   "execution_count": 26,
   "metadata": {},
   "outputs": [
    {
     "data": {
      "text/plain": [
       "([<matplotlib.patches.Wedge at 0x1f15a53dda0>,\n",
       "  <matplotlib.patches.Wedge at 0x1f15d460518>,\n",
       "  <matplotlib.patches.Wedge at 0x1f15d460c18>,\n",
       "  <matplotlib.patches.Wedge at 0x1f15d45e358>],\n",
       " [Text(0.5321439955042652, 0.9627163486971418, '上海'),\n",
       "  Text(-0.9535681200425816, 0.5483683437603386, '北京'),\n",
       "  Text(-0.8526240713220423, -0.6950051748024795, '广州'),\n",
       "  Text(0.7093421420548432, -0.840734039696887, '深圳')],\n",
       " [Text(0.2902603611841446, 0.5251180083802591, '33.9%'),\n",
       "  Text(-0.5201280654777717, 0.2991100056874574, '15.5%'),\n",
       "  Text(-0.4650676752665685, -0.3790937317104433, '22.8%'),\n",
       "  Text(0.3869138956662781, -0.4585822034710292, '27.7%')])"
      ]
     },
     "execution_count": 26,
     "metadata": {},
     "output_type": "execute_result"
    },
    {
     "data": {
      "image/png": "[encoded data removed]",
      "text/plain": [
       "<Figure size 720x576 with 1 Axes>"
      ]
     },
     "metadata": {},
     "output_type": "display_data"
    }
   ],
   "source": [
    "plt.figure(figsize=(10,8))\n",
    "plt.pie(headcount_by_cities.values, labels=headcount_by_cities.index, autopct='%1.1f%%')"
   ]
  },
  {
   "cell_type": "code",
   "execution_count": 27,
   "metadata": {},
   "outputs": [
    {
     "data": {
      "text/html": [
       "<style  type=\"text/css\" >\n",
       "</style>  \n",
       "<table id=\"T_9e001b0c_cf78_11e9_8437_701ce71031ef\" > \n",
       "<thead>    <tr> \n",
       "        <th class=\"col_heading level0 col0\" >city</th> \n",
       "        <th class=\"col_heading level0 col1\" >salary_mean</th> \n",
       "        <th class=\"col_heading level0 col2\" >salary_95_min</th> \n",
       "        <th class=\"col_heading level0 col3\" >salary_median</th> \n",
       "        <th class=\"col_heading level0 col4\" >salary_95_max</th> \n",
       "        <th class=\"col_heading level0 col5\" >head_count</th> \n",
       "        <th class=\"col_heading level0 col6\" >percentage</th> \n",
       "    </tr></thead> \n",
       "<tbody>    <tr> \n",
       "        <td id=\"T_9e001b0c_cf78_11e9_8437_701ce71031efrow0_col0\" class=\"data row0 col0\" >北京</td> \n",
       "        <td id=\"T_9e001b0c_cf78_11e9_8437_701ce71031efrow0_col1\" class=\"data row0 col1\" >16979</td> \n",
       "        <td id=\"T_9e001b0c_cf78_11e9_8437_701ce71031efrow0_col2\" class=\"data row0 col2\" >3750</td> \n",
       "        <td id=\"T_9e001b0c_cf78_11e9_8437_701ce71031efrow0_col3\" class=\"data row0 col3\" >15000</td> \n",
       "        <td id=\"T_9e001b0c_cf78_11e9_8437_701ce71031efrow0_col4\" class=\"data row0 col4\" >42500</td> \n",
       "        <td id=\"T_9e001b0c_cf78_11e9_8437_701ce71031efrow0_col5\" class=\"data row0 col5\" >10880</td> \n",
       "        <td id=\"T_9e001b0c_cf78_11e9_8437_701ce71031efrow0_col6\" class=\"data row0 col6\" >15.53%</td> \n",
       "    </tr>    <tr> \n",
       "        <td id=\"T_9e001b0c_cf78_11e9_8437_701ce71031efrow1_col0\" class=\"data row1 col0\" >上海</td> \n",
       "        <td id=\"T_9e001b0c_cf78_11e9_8437_701ce71031efrow1_col1\" class=\"data row1 col1\" >16439</td> \n",
       "        <td id=\"T_9e001b0c_cf78_11e9_8437_701ce71031efrow1_col2\" class=\"data row1 col2\" >5500</td> \n",
       "        <td id=\"T_9e001b0c_cf78_11e9_8437_701ce71031efrow1_col3\" class=\"data row1 col3\" >15000</td> \n",
       "        <td id=\"T_9e001b0c_cf78_11e9_8437_701ce71031efrow1_col4\" class=\"data row1 col4\" >37500</td> \n",
       "        <td id=\"T_9e001b0c_cf78_11e9_8437_701ce71031efrow1_col5\" class=\"data row1 col5\" >23762</td> \n",
       "        <td id=\"T_9e001b0c_cf78_11e9_8437_701ce71031efrow1_col6\" class=\"data row1 col6\" >33.93%</td> \n",
       "    </tr>    <tr> \n",
       "        <td id=\"T_9e001b0c_cf78_11e9_8437_701ce71031efrow2_col0\" class=\"data row2 col0\" >深圳</td> \n",
       "        <td id=\"T_9e001b0c_cf78_11e9_8437_701ce71031efrow2_col1\" class=\"data row2 col1\" >16094</td> \n",
       "        <td id=\"T_9e001b0c_cf78_11e9_8437_701ce71031efrow2_col2\" class=\"data row2 col2\" >5250</td> \n",
       "        <td id=\"T_9e001b0c_cf78_11e9_8437_701ce71031efrow2_col3\" class=\"data row2 col3\" >14333</td> \n",
       "        <td id=\"T_9e001b0c_cf78_11e9_8437_701ce71031efrow2_col4\" class=\"data row2 col4\" >37500</td> \n",
       "        <td id=\"T_9e001b0c_cf78_11e9_8437_701ce71031efrow2_col5\" class=\"data row2 col5\" >19395</td> \n",
       "        <td id=\"T_9e001b0c_cf78_11e9_8437_701ce71031efrow2_col6\" class=\"data row2 col6\" >27.69%</td> \n",
       "    </tr>    <tr> \n",
       "        <td id=\"T_9e001b0c_cf78_11e9_8437_701ce71031efrow3_col0\" class=\"data row3 col0\" >广州</td> \n",
       "        <td id=\"T_9e001b0c_cf78_11e9_8437_701ce71031efrow3_col1\" class=\"data row3 col1\" >13519</td> \n",
       "        <td id=\"T_9e001b0c_cf78_11e9_8437_701ce71031efrow3_col2\" class=\"data row3 col2\" >3750</td> \n",
       "        <td id=\"T_9e001b0c_cf78_11e9_8437_701ce71031efrow3_col3\" class=\"data row3 col3\" >12500</td> \n",
       "        <td id=\"T_9e001b0c_cf78_11e9_8437_701ce71031efrow3_col4\" class=\"data row3 col4\" >30000</td> \n",
       "        <td id=\"T_9e001b0c_cf78_11e9_8437_701ce71031efrow3_col5\" class=\"data row3 col5\" >16002</td> \n",
       "        <td id=\"T_9e001b0c_cf78_11e9_8437_701ce71031efrow3_col6\" class=\"data row3 col6\" >22.85%</td> \n",
       "    </tr></tbody> \n",
       "</table> "
      ],
      "text/plain": [
       "<pandas.io.formats.style.Styler at 0x1f15cf59278>"
      ]
     },
     "execution_count": 27,
     "metadata": {},
     "output_type": "execute_result"
    }
   ],
   "source": [
    "data_pl=get_sub_stats_by_col(data,'city')\n",
    "apply_style(data_pl)"
   ]
  },
  {
   "cell_type": "code",
   "execution_count": 28,
   "metadata": {},
   "outputs": [],
   "source": [
    "salary_beijing=data[data.city=='北京'].monthly_salary\n",
    "salary_shanghai=data[data.city=='上海'].monthly_salary\n",
    "salary_guangzhou=data[data.city=='广州'].monthly_salary\n",
    "salary_shenzhen=data[data.city=='深圳'].monthly_salary"
   ]
  },
  {
   "cell_type": "code",
   "execution_count": null,
   "metadata": {},
   "outputs": [],
   "source": []
  },
  {
   "cell_type": "code",
   "execution_count": 29,
   "metadata": {},
   "outputs": [
    {
     "data": {
      "text/plain": [
       "F_onewayResult(statistic=19.220702046601424, pvalue=1.1758946188313447e-05)"
      ]
     },
     "execution_count": 29,
     "metadata": {},
     "output_type": "execute_result"
    }
   ],
   "source": [
    "stats.f_oneway(salary_beijing, salary_shanghai)"
   ]
  },
  {
   "cell_type": "code",
   "execution_count": 30,
   "metadata": {},
   "outputs": [
    {
     "data": {
      "text/plain": [
       "F_onewayResult(statistic=64.48071221734195, pvalue=1.0517229190547286e-15)"
      ]
     },
     "execution_count": 30,
     "metadata": {},
     "output_type": "execute_result"
    }
   ],
   "source": [
    "stats.f_oneway(salary_shanghai, salary_shenzhen)"
   ]
  },
  {
   "cell_type": "code",
   "execution_count": 31,
   "metadata": {},
   "outputs": [
    {
     "data": {
      "text/plain": [
       "F_onewayResult(statistic=324.8842651551726, pvalue=1.0776918289295962e-71)"
      ]
     },
     "execution_count": 31,
     "metadata": {},
     "output_type": "execute_result"
    }
   ],
   "source": [
    "stats.f_oneway(salary_shenzhen, salary_guangzhou)"
   ]
  },
  {
   "cell_type": "markdown",
   "metadata": {},
   "source": [
    "# 编程语言"
   ]
  },
  {
   "cell_type": "code",
   "execution_count": 32,
   "metadata": {},
   "outputs": [
    {
     "data": {
      "text/html": [
       "<style  type=\"text/css\" >\n",
       "</style>  \n",
       "<table id=\"T_9e1550a4_cf78_11e9_8a56_701ce71031ef\" > \n",
       "<thead>    <tr> \n",
       "        <th class=\"col_heading level0 col0\" >rank</th> \n",
       "        <th class=\"col_heading level0 col1\" >pl_</th> \n",
       "        <th class=\"col_heading level0 col2\" >salary_mean</th> \n",
       "        <th class=\"col_heading level0 col3\" >salary_median</th> \n",
       "        <th class=\"col_heading level0 col4\" >salary_95_min</th> \n",
       "        <th class=\"col_heading level0 col5\" >salary_95_max</th> \n",
       "        <th class=\"col_heading level0 col6\" >head_count</th> \n",
       "        <th class=\"col_heading level0 col7\" >percentage</th> \n",
       "    </tr></thead> \n",
       "<tbody>    <tr> \n",
       "        <td id=\"T_9e1550a4_cf78_11e9_8a56_701ce71031efrow0_col0\" class=\"data row0 col0\" >1</td> \n",
       "        <td id=\"T_9e1550a4_cf78_11e9_8a56_701ce71031efrow0_col1\" class=\"data row0 col1\" >rust</td> \n",
       "        <td id=\"T_9e1550a4_cf78_11e9_8a56_701ce71031efrow0_col2\" class=\"data row0 col2\" >26423</td> \n",
       "        <td id=\"T_9e1550a4_cf78_11e9_8a56_701ce71031efrow0_col3\" class=\"data row0 col3\" >29444</td> \n",
       "        <td id=\"T_9e1550a4_cf78_11e9_8a56_701ce71031efrow0_col4\" class=\"data row0 col4\" >8275</td> \n",
       "        <td id=\"T_9e1550a4_cf78_11e9_8a56_701ce71031efrow0_col5\" class=\"data row0 col5\" >60000</td> \n",
       "        <td id=\"T_9e1550a4_cf78_11e9_8a56_701ce71031efrow0_col6\" class=\"data row0 col6\" >113</td> \n",
       "        <td id=\"T_9e1550a4_cf78_11e9_8a56_701ce71031efrow0_col7\" class=\"data row0 col7\" >0.11%</td> \n",
       "    </tr>    <tr> \n",
       "        <td id=\"T_9e1550a4_cf78_11e9_8a56_701ce71031efrow1_col0\" class=\"data row1 col0\" >2</td> \n",
       "        <td id=\"T_9e1550a4_cf78_11e9_8a56_701ce71031efrow1_col1\" class=\"data row1 col1\" >lua</td> \n",
       "        <td id=\"T_9e1550a4_cf78_11e9_8a56_701ce71031efrow1_col2\" class=\"data row1 col2\" >19917</td> \n",
       "        <td id=\"T_9e1550a4_cf78_11e9_8a56_701ce71031efrow1_col3\" class=\"data row1 col3\" >20000</td> \n",
       "        <td id=\"T_9e1550a4_cf78_11e9_8a56_701ce71031efrow1_col4\" class=\"data row1 col4\" >6158</td> \n",
       "        <td id=\"T_9e1550a4_cf78_11e9_8a56_701ce71031efrow1_col5\" class=\"data row1 col5\" >40000</td> \n",
       "        <td id=\"T_9e1550a4_cf78_11e9_8a56_701ce71031efrow1_col6\" class=\"data row1 col6\" >1076</td> \n",
       "        <td id=\"T_9e1550a4_cf78_11e9_8a56_701ce71031efrow1_col7\" class=\"data row1 col7\" >1.08%</td> \n",
       "    </tr>    <tr> \n",
       "        <td id=\"T_9e1550a4_cf78_11e9_8a56_701ce71031efrow2_col0\" class=\"data row2 col0\" >3</td> \n",
       "        <td id=\"T_9e1550a4_cf78_11e9_8a56_701ce71031efrow2_col1\" class=\"data row2 col1\" >python</td> \n",
       "        <td id=\"T_9e1550a4_cf78_11e9_8a56_701ce71031efrow2_col2\" class=\"data row2 col2\" >19885</td> \n",
       "        <td id=\"T_9e1550a4_cf78_11e9_8a56_701ce71031efrow2_col3\" class=\"data row2 col3\" >17500</td> \n",
       "        <td id=\"T_9e1550a4_cf78_11e9_8a56_701ce71031efrow2_col4\" class=\"data row2 col4\" >5000</td> \n",
       "        <td id=\"T_9e1550a4_cf78_11e9_8a56_701ce71031efrow2_col5\" class=\"data row2 col5\" >45000</td> \n",
       "        <td id=\"T_9e1550a4_cf78_11e9_8a56_701ce71031efrow2_col6\" class=\"data row2 col6\" >8997</td> \n",
       "        <td id=\"T_9e1550a4_cf78_11e9_8a56_701ce71031efrow2_col7\" class=\"data row2 col7\" >9.03%</td> \n",
       "    </tr>    <tr> \n",
       "        <td id=\"T_9e1550a4_cf78_11e9_8a56_701ce71031efrow3_col0\" class=\"data row3 col0\" >4</td> \n",
       "        <td id=\"T_9e1550a4_cf78_11e9_8a56_701ce71031efrow3_col1\" class=\"data row3 col1\" >go</td> \n",
       "        <td id=\"T_9e1550a4_cf78_11e9_8a56_701ce71031efrow3_col2\" class=\"data row3 col2\" >19860</td> \n",
       "        <td id=\"T_9e1550a4_cf78_11e9_8a56_701ce71031efrow3_col3\" class=\"data row3 col3\" >17500</td> \n",
       "        <td id=\"T_9e1550a4_cf78_11e9_8a56_701ce71031efrow3_col4\" class=\"data row3 col4\" >7000</td> \n",
       "        <td id=\"T_9e1550a4_cf78_11e9_8a56_701ce71031efrow3_col5\" class=\"data row3 col5\" >45000</td> \n",
       "        <td id=\"T_9e1550a4_cf78_11e9_8a56_701ce71031efrow3_col6\" class=\"data row3 col6\" >8786</td> \n",
       "        <td id=\"T_9e1550a4_cf78_11e9_8a56_701ce71031efrow3_col7\" class=\"data row3 col7\" >8.82%</td> \n",
       "    </tr>    <tr> \n",
       "        <td id=\"T_9e1550a4_cf78_11e9_8a56_701ce71031efrow4_col0\" class=\"data row4 col0\" >5</td> \n",
       "        <td id=\"T_9e1550a4_cf78_11e9_8a56_701ce71031efrow4_col1\" class=\"data row4 col1\" >matlab</td> \n",
       "        <td id=\"T_9e1550a4_cf78_11e9_8a56_701ce71031efrow4_col2\" class=\"data row4 col2\" >19695</td> \n",
       "        <td id=\"T_9e1550a4_cf78_11e9_8a56_701ce71031efrow4_col3\" class=\"data row4 col3\" >17500</td> \n",
       "        <td id=\"T_9e1550a4_cf78_11e9_8a56_701ce71031efrow4_col4\" class=\"data row4 col4\" >5604</td> \n",
       "        <td id=\"T_9e1550a4_cf78_11e9_8a56_701ce71031efrow4_col5\" class=\"data row4 col5\" >45000</td> \n",
       "        <td id=\"T_9e1550a4_cf78_11e9_8a56_701ce71031efrow4_col6\" class=\"data row4 col6\" >1542</td> \n",
       "        <td id=\"T_9e1550a4_cf78_11e9_8a56_701ce71031efrow4_col7\" class=\"data row4 col7\" >1.55%</td> \n",
       "    </tr>    <tr> \n",
       "        <td id=\"T_9e1550a4_cf78_11e9_8a56_701ce71031efrow5_col0\" class=\"data row5 col0\" >6</td> \n",
       "        <td id=\"T_9e1550a4_cf78_11e9_8a56_701ce71031efrow5_col1\" class=\"data row5 col1\" >kotlin</td> \n",
       "        <td id=\"T_9e1550a4_cf78_11e9_8a56_701ce71031efrow5_col2\" class=\"data row5 col2\" >18161</td> \n",
       "        <td id=\"T_9e1550a4_cf78_11e9_8a56_701ce71031efrow5_col3\" class=\"data row5 col3\" >15000</td> \n",
       "        <td id=\"T_9e1550a4_cf78_11e9_8a56_701ce71031efrow5_col4\" class=\"data row5 col4\" >8000</td> \n",
       "        <td id=\"T_9e1550a4_cf78_11e9_8a56_701ce71031efrow5_col5\" class=\"data row5 col5\" >60000</td> \n",
       "        <td id=\"T_9e1550a4_cf78_11e9_8a56_701ce71031efrow5_col6\" class=\"data row5 col6\" >374</td> \n",
       "        <td id=\"T_9e1550a4_cf78_11e9_8a56_701ce71031efrow5_col7\" class=\"data row5 col7\" >0.38%</td> \n",
       "    </tr>    <tr> \n",
       "        <td id=\"T_9e1550a4_cf78_11e9_8a56_701ce71031efrow6_col0\" class=\"data row6 col0\" >7</td> \n",
       "        <td id=\"T_9e1550a4_cf78_11e9_8a56_701ce71031efrow6_col1\" class=\"data row6 col1\" >perl</td> \n",
       "        <td id=\"T_9e1550a4_cf78_11e9_8a56_701ce71031efrow6_col2\" class=\"data row6 col2\" >18066</td> \n",
       "        <td id=\"T_9e1550a4_cf78_11e9_8a56_701ce71031efrow6_col3\" class=\"data row6 col3\" >15000</td> \n",
       "        <td id=\"T_9e1550a4_cf78_11e9_8a56_701ce71031efrow6_col4\" class=\"data row6 col4\" >5000</td> \n",
       "        <td id=\"T_9e1550a4_cf78_11e9_8a56_701ce71031efrow6_col5\" class=\"data row6 col5\" >45833</td> \n",
       "        <td id=\"T_9e1550a4_cf78_11e9_8a56_701ce71031efrow6_col6\" class=\"data row6 col6\" >733</td> \n",
       "        <td id=\"T_9e1550a4_cf78_11e9_8a56_701ce71031efrow6_col7\" class=\"data row6 col7\" >0.74%</td> \n",
       "    </tr>    <tr> \n",
       "        <td id=\"T_9e1550a4_cf78_11e9_8a56_701ce71031efrow7_col0\" class=\"data row7 col0\" >8</td> \n",
       "        <td id=\"T_9e1550a4_cf78_11e9_8a56_701ce71031efrow7_col1\" class=\"data row7 col1\" >cpp</td> \n",
       "        <td id=\"T_9e1550a4_cf78_11e9_8a56_701ce71031efrow7_col2\" class=\"data row7 col2\" >17909</td> \n",
       "        <td id=\"T_9e1550a4_cf78_11e9_8a56_701ce71031efrow7_col3\" class=\"data row7 col3\" >15000</td> \n",
       "        <td id=\"T_9e1550a4_cf78_11e9_8a56_701ce71031efrow7_col4\" class=\"data row7 col4\" >5250</td> \n",
       "        <td id=\"T_9e1550a4_cf78_11e9_8a56_701ce71031efrow7_col5\" class=\"data row7 col5\" >40000</td> \n",
       "        <td id=\"T_9e1550a4_cf78_11e9_8a56_701ce71031efrow7_col6\" class=\"data row7 col6\" >16658</td> \n",
       "        <td id=\"T_9e1550a4_cf78_11e9_8a56_701ce71031efrow7_col7\" class=\"data row7 col7\" >16.72%</td> \n",
       "    </tr>    <tr> \n",
       "        <td id=\"T_9e1550a4_cf78_11e9_8a56_701ce71031efrow8_col0\" class=\"data row8 col0\" >9</td> \n",
       "        <td id=\"T_9e1550a4_cf78_11e9_8a56_701ce71031efrow8_col1\" class=\"data row8 col1\" >ruby</td> \n",
       "        <td id=\"T_9e1550a4_cf78_11e9_8a56_701ce71031efrow8_col2\" class=\"data row8 col2\" >17659</td> \n",
       "        <td id=\"T_9e1550a4_cf78_11e9_8a56_701ce71031efrow8_col3\" class=\"data row8 col3\" >17500</td> \n",
       "        <td id=\"T_9e1550a4_cf78_11e9_8a56_701ce71031efrow8_col4\" class=\"data row8 col4\" >2932</td> \n",
       "        <td id=\"T_9e1550a4_cf78_11e9_8a56_701ce71031efrow8_col5\" class=\"data row8 col5\" >34680</td> \n",
       "        <td id=\"T_9e1550a4_cf78_11e9_8a56_701ce71031efrow8_col6\" class=\"data row8 col6\" >283</td> \n",
       "        <td id=\"T_9e1550a4_cf78_11e9_8a56_701ce71031efrow8_col7\" class=\"data row8 col7\" >0.28%</td> \n",
       "    </tr>    <tr> \n",
       "        <td id=\"T_9e1550a4_cf78_11e9_8a56_701ce71031efrow9_col0\" class=\"data row9 col0\" >10</td> \n",
       "        <td id=\"T_9e1550a4_cf78_11e9_8a56_701ce71031efrow9_col1\" class=\"data row9 col1\" >swift</td> \n",
       "        <td id=\"T_9e1550a4_cf78_11e9_8a56_701ce71031efrow9_col2\" class=\"data row9 col2\" >17186</td> \n",
       "        <td id=\"T_9e1550a4_cf78_11e9_8a56_701ce71031efrow9_col3\" class=\"data row9 col3\" >15917</td> \n",
       "        <td id=\"T_9e1550a4_cf78_11e9_8a56_701ce71031efrow9_col4\" class=\"data row9 col4\" >7000</td> \n",
       "        <td id=\"T_9e1550a4_cf78_11e9_8a56_701ce71031efrow9_col5\" class=\"data row9 col5\" >30000</td> \n",
       "        <td id=\"T_9e1550a4_cf78_11e9_8a56_701ce71031efrow9_col6\" class=\"data row9 col6\" >974</td> \n",
       "        <td id=\"T_9e1550a4_cf78_11e9_8a56_701ce71031efrow9_col7\" class=\"data row9 col7\" >0.98%</td> \n",
       "    </tr>    <tr> \n",
       "        <td id=\"T_9e1550a4_cf78_11e9_8a56_701ce71031efrow10_col0\" class=\"data row10 col0\" >11</td> \n",
       "        <td id=\"T_9e1550a4_cf78_11e9_8a56_701ce71031efrow10_col1\" class=\"data row10 col1\" >haskell</td> \n",
       "        <td id=\"T_9e1550a4_cf78_11e9_8a56_701ce71031efrow10_col2\" class=\"data row10 col2\" >16875</td> \n",
       "        <td id=\"T_9e1550a4_cf78_11e9_8a56_701ce71031efrow10_col3\" class=\"data row10 col3\" >15000</td> \n",
       "        <td id=\"T_9e1550a4_cf78_11e9_8a56_701ce71031efrow10_col4\" class=\"data row10 col4\" >7500</td> \n",
       "        <td id=\"T_9e1550a4_cf78_11e9_8a56_701ce71031efrow10_col5\" class=\"data row10 col5\" >25000</td> \n",
       "        <td id=\"T_9e1550a4_cf78_11e9_8a56_701ce71031efrow10_col6\" class=\"data row10 col6\" >40</td> \n",
       "        <td id=\"T_9e1550a4_cf78_11e9_8a56_701ce71031efrow10_col7\" class=\"data row10 col7\" >0.04%</td> \n",
       "    </tr>    <tr> \n",
       "        <td id=\"T_9e1550a4_cf78_11e9_8a56_701ce71031efrow11_col0\" class=\"data row11 col0\" >12</td> \n",
       "        <td id=\"T_9e1550a4_cf78_11e9_8a56_701ce71031efrow11_col1\" class=\"data row11 col1\" >julia</td> \n",
       "        <td id=\"T_9e1550a4_cf78_11e9_8a56_701ce71031efrow11_col2\" class=\"data row11 col2\" >16250</td> \n",
       "        <td id=\"T_9e1550a4_cf78_11e9_8a56_701ce71031efrow11_col3\" class=\"data row11 col3\" >16250</td> \n",
       "        <td id=\"T_9e1550a4_cf78_11e9_8a56_701ce71031efrow11_col4\" class=\"data row11 col4\" >2500</td> \n",
       "        <td id=\"T_9e1550a4_cf78_11e9_8a56_701ce71031efrow11_col5\" class=\"data row11 col5\" >30000</td> \n",
       "        <td id=\"T_9e1550a4_cf78_11e9_8a56_701ce71031efrow11_col6\" class=\"data row11 col6\" >2</td> \n",
       "        <td id=\"T_9e1550a4_cf78_11e9_8a56_701ce71031efrow11_col7\" class=\"data row11 col7\" >0.00%</td> \n",
       "    </tr>    <tr> \n",
       "        <td id=\"T_9e1550a4_cf78_11e9_8a56_701ce71031efrow12_col0\" class=\"data row12 col0\" >13</td> \n",
       "        <td id=\"T_9e1550a4_cf78_11e9_8a56_701ce71031efrow12_col1\" class=\"data row12 col1\" >java</td> \n",
       "        <td id=\"T_9e1550a4_cf78_11e9_8a56_701ce71031efrow12_col2\" class=\"data row12 col2\" >16115</td> \n",
       "        <td id=\"T_9e1550a4_cf78_11e9_8a56_701ce71031efrow12_col3\" class=\"data row12 col3\" >14166</td> \n",
       "        <td id=\"T_9e1550a4_cf78_11e9_8a56_701ce71031efrow12_col4\" class=\"data row12 col4\" >5250</td> \n",
       "        <td id=\"T_9e1550a4_cf78_11e9_8a56_701ce71031efrow12_col5\" class=\"data row12 col5\" >37500</td> \n",
       "        <td id=\"T_9e1550a4_cf78_11e9_8a56_701ce71031efrow12_col6\" class=\"data row12 col6\" >30814</td> \n",
       "        <td id=\"T_9e1550a4_cf78_11e9_8a56_701ce71031efrow12_col7\" class=\"data row12 col7\" >30.94%</td> \n",
       "    </tr>    <tr> \n",
       "        <td id=\"T_9e1550a4_cf78_11e9_8a56_701ce71031efrow13_col0\" class=\"data row13 col0\" >14</td> \n",
       "        <td id=\"T_9e1550a4_cf78_11e9_8a56_701ce71031efrow13_col1\" class=\"data row13 col1\" >typescript</td> \n",
       "        <td id=\"T_9e1550a4_cf78_11e9_8a56_701ce71031efrow13_col2\" class=\"data row13 col2\" >15395</td> \n",
       "        <td id=\"T_9e1550a4_cf78_11e9_8a56_701ce71031efrow13_col3\" class=\"data row13 col3\" >12500</td> \n",
       "        <td id=\"T_9e1550a4_cf78_11e9_8a56_701ce71031efrow13_col4\" class=\"data row13 col4\" >6668</td> \n",
       "        <td id=\"T_9e1550a4_cf78_11e9_8a56_701ce71031efrow13_col5\" class=\"data row13 col5\" >33825</td> \n",
       "        <td id=\"T_9e1550a4_cf78_11e9_8a56_701ce71031efrow13_col6\" class=\"data row13 col6\" >267</td> \n",
       "        <td id=\"T_9e1550a4_cf78_11e9_8a56_701ce71031efrow13_col7\" class=\"data row13 col7\" >0.27%</td> \n",
       "    </tr>    <tr> \n",
       "        <td id=\"T_9e1550a4_cf78_11e9_8a56_701ce71031efrow14_col0\" class=\"data row14 col0\" >15</td> \n",
       "        <td id=\"T_9e1550a4_cf78_11e9_8a56_701ce71031efrow14_col1\" class=\"data row14 col1\" >php</td> \n",
       "        <td id=\"T_9e1550a4_cf78_11e9_8a56_701ce71031efrow14_col2\" class=\"data row14 col2\" >15049</td> \n",
       "        <td id=\"T_9e1550a4_cf78_11e9_8a56_701ce71031efrow14_col3\" class=\"data row14 col3\" >12500</td> \n",
       "        <td id=\"T_9e1550a4_cf78_11e9_8a56_701ce71031efrow14_col4\" class=\"data row14 col4\" >5250</td> \n",
       "        <td id=\"T_9e1550a4_cf78_11e9_8a56_701ce71031efrow14_col5\" class=\"data row14 col5\" >35000</td> \n",
       "        <td id=\"T_9e1550a4_cf78_11e9_8a56_701ce71031efrow14_col6\" class=\"data row14 col6\" >5128</td> \n",
       "        <td id=\"T_9e1550a4_cf78_11e9_8a56_701ce71031efrow14_col7\" class=\"data row14 col7\" >5.15%</td> \n",
       "    </tr>    <tr> \n",
       "        <td id=\"T_9e1550a4_cf78_11e9_8a56_701ce71031efrow15_col0\" class=\"data row15 col0\" >16</td> \n",
       "        <td id=\"T_9e1550a4_cf78_11e9_8a56_701ce71031efrow15_col1\" class=\"data row15 col1\" >objective_c</td> \n",
       "        <td id=\"T_9e1550a4_cf78_11e9_8a56_701ce71031efrow15_col2\" class=\"data row15 col2\" >14322</td> \n",
       "        <td id=\"T_9e1550a4_cf78_11e9_8a56_701ce71031efrow15_col3\" class=\"data row15 col3\" >12857</td> \n",
       "        <td id=\"T_9e1550a4_cf78_11e9_8a56_701ce71031efrow15_col4\" class=\"data row15 col4\" >4671</td> \n",
       "        <td id=\"T_9e1550a4_cf78_11e9_8a56_701ce71031efrow15_col5\" class=\"data row15 col5\" >22500</td> \n",
       "        <td id=\"T_9e1550a4_cf78_11e9_8a56_701ce71031efrow15_col6\" class=\"data row15 col6\" >132</td> \n",
       "        <td id=\"T_9e1550a4_cf78_11e9_8a56_701ce71031efrow15_col7\" class=\"data row15 col7\" >0.13%</td> \n",
       "    </tr>    <tr> \n",
       "        <td id=\"T_9e1550a4_cf78_11e9_8a56_701ce71031efrow16_col0\" class=\"data row16 col0\" >17</td> \n",
       "        <td id=\"T_9e1550a4_cf78_11e9_8a56_701ce71031efrow16_col1\" class=\"data row16 col1\" >vba</td> \n",
       "        <td id=\"T_9e1550a4_cf78_11e9_8a56_701ce71031efrow16_col2\" class=\"data row16 col2\" >13876</td> \n",
       "        <td id=\"T_9e1550a4_cf78_11e9_8a56_701ce71031efrow16_col3\" class=\"data row16 col3\" >12750</td> \n",
       "        <td id=\"T_9e1550a4_cf78_11e9_8a56_701ce71031efrow16_col4\" class=\"data row16 col4\" >6981</td> \n",
       "        <td id=\"T_9e1550a4_cf78_11e9_8a56_701ce71031efrow16_col5\" class=\"data row16 col5\" >25000</td> \n",
       "        <td id=\"T_9e1550a4_cf78_11e9_8a56_701ce71031efrow16_col6\" class=\"data row16 col6\" >97</td> \n",
       "        <td id=\"T_9e1550a4_cf78_11e9_8a56_701ce71031efrow16_col7\" class=\"data row16 col7\" >0.10%</td> \n",
       "    </tr>    <tr> \n",
       "        <td id=\"T_9e1550a4_cf78_11e9_8a56_701ce71031efrow17_col0\" class=\"data row17 col0\" >18</td> \n",
       "        <td id=\"T_9e1550a4_cf78_11e9_8a56_701ce71031efrow17_col1\" class=\"data row17 col1\" >delphi</td> \n",
       "        <td id=\"T_9e1550a4_cf78_11e9_8a56_701ce71031efrow17_col2\" class=\"data row17 col2\" >13393</td> \n",
       "        <td id=\"T_9e1550a4_cf78_11e9_8a56_701ce71031efrow17_col3\" class=\"data row17 col3\" >12500</td> \n",
       "        <td id=\"T_9e1550a4_cf78_11e9_8a56_701ce71031efrow17_col4\" class=\"data row17 col4\" >5500</td> \n",
       "        <td id=\"T_9e1550a4_cf78_11e9_8a56_701ce71031efrow17_col5\" class=\"data row17 col5\" >27500</td> \n",
       "        <td id=\"T_9e1550a4_cf78_11e9_8a56_701ce71031efrow17_col6\" class=\"data row17 col6\" >232</td> \n",
       "        <td id=\"T_9e1550a4_cf78_11e9_8a56_701ce71031efrow17_col7\" class=\"data row17 col7\" >0.23%</td> \n",
       "    </tr>    <tr> \n",
       "        <td id=\"T_9e1550a4_cf78_11e9_8a56_701ce71031efrow18_col0\" class=\"data row18 col0\" >19</td> \n",
       "        <td id=\"T_9e1550a4_cf78_11e9_8a56_701ce71031efrow18_col1\" class=\"data row18 col1\" >javascript</td> \n",
       "        <td id=\"T_9e1550a4_cf78_11e9_8a56_701ce71031efrow18_col2\" class=\"data row18 col2\" >13316</td> \n",
       "        <td id=\"T_9e1550a4_cf78_11e9_8a56_701ce71031efrow18_col3\" class=\"data row18 col3\" >12500</td> \n",
       "        <td id=\"T_9e1550a4_cf78_11e9_8a56_701ce71031efrow18_col4\" class=\"data row18 col4\" >3939</td> \n",
       "        <td id=\"T_9e1550a4_cf78_11e9_8a56_701ce71031efrow18_col5\" class=\"data row18 col5\" >27500</td> \n",
       "        <td id=\"T_9e1550a4_cf78_11e9_8a56_701ce71031efrow18_col6\" class=\"data row18 col6\" >12006</td> \n",
       "        <td id=\"T_9e1550a4_cf78_11e9_8a56_701ce71031efrow18_col7\" class=\"data row18 col7\" >12.05%</td> \n",
       "    </tr>    <tr> \n",
       "        <td id=\"T_9e1550a4_cf78_11e9_8a56_701ce71031efrow19_col0\" class=\"data row19 col0\" >20</td> \n",
       "        <td id=\"T_9e1550a4_cf78_11e9_8a56_701ce71031efrow19_col1\" class=\"data row19 col1\" >c_sharp</td> \n",
       "        <td id=\"T_9e1550a4_cf78_11e9_8a56_701ce71031efrow19_col2\" class=\"data row19 col2\" >12884</td> \n",
       "        <td id=\"T_9e1550a4_cf78_11e9_8a56_701ce71031efrow19_col3\" class=\"data row19 col3\" >12500</td> \n",
       "        <td id=\"T_9e1550a4_cf78_11e9_8a56_701ce71031efrow19_col4\" class=\"data row19 col4\" >3750</td> \n",
       "        <td id=\"T_9e1550a4_cf78_11e9_8a56_701ce71031efrow19_col5\" class=\"data row19 col5\" >27500</td> \n",
       "        <td id=\"T_9e1550a4_cf78_11e9_8a56_701ce71031efrow19_col6\" class=\"data row19 col6\" >11335</td> \n",
       "        <td id=\"T_9e1550a4_cf78_11e9_8a56_701ce71031efrow19_col7\" class=\"data row19 col7\" >11.38%</td> \n",
       "    </tr>    <tr> \n",
       "        <td id=\"T_9e1550a4_cf78_11e9_8a56_701ce71031efrow20_col0\" class=\"data row20 col0\" >21</td> \n",
       "        <td id=\"T_9e1550a4_cf78_11e9_8a56_701ce71031efrow20_col1\" class=\"data row20 col1\" >visual_basic</td> \n",
       "        <td id=\"T_9e1550a4_cf78_11e9_8a56_701ce71031efrow20_col2\" class=\"data row20 col2\" >12653</td> \n",
       "        <td id=\"T_9e1550a4_cf78_11e9_8a56_701ce71031efrow20_col3\" class=\"data row20 col3\" >12167</td> \n",
       "        <td id=\"T_9e1550a4_cf78_11e9_8a56_701ce71031efrow20_col4\" class=\"data row20 col4\" >6250</td> \n",
       "        <td id=\"T_9e1550a4_cf78_11e9_8a56_701ce71031efrow20_col5\" class=\"data row20 col5\" >22500</td> \n",
       "        <td id=\"T_9e1550a4_cf78_11e9_8a56_701ce71031efrow20_col6\" class=\"data row20 col6\" >12</td> \n",
       "        <td id=\"T_9e1550a4_cf78_11e9_8a56_701ce71031efrow20_col7\" class=\"data row20 col7\" >0.01%</td> \n",
       "    </tr></tbody> \n",
       "</table> "
      ],
      "text/plain": [
       "<pandas.io.formats.style.Styler at 0x1f15d4407b8>"
      ]
     },
     "execution_count": 32,
     "metadata": {},
     "output_type": "execute_result"
    }
   ],
   "source": [
    "data_pl=get_sub_stats_by_prefix(data,'pl_')\n",
    "apply_style(data_pl)"
   ]
  },
  {
   "cell_type": "code",
   "execution_count": null,
   "metadata": {},
   "outputs": [],
   "source": []
  },
  {
   "cell_type": "markdown",
   "metadata": {},
   "source": [
    "数据显示，haskell才是最赚钱的编程语言。python是主流语言里面最赚钱的，比java的工资多了3000元！vb是最不赚钱的了。其中，最赚钱的编程语言和最不赚钱的，工资居然差了2倍。所以，要选好编程语言呀！"
   ]
  },
  {
   "cell_type": "markdown",
   "metadata": {},
   "source": [
    "# 教育"
   ]
  },
  {
   "cell_type": "code",
   "execution_count": 33,
   "metadata": {},
   "outputs": [],
   "source": [
    "edu_counts=data[~(data.edu=='')].groupby(by=['edu']).headcount.sum()"
   ]
  },
  {
   "cell_type": "code",
   "execution_count": 34,
   "metadata": {},
   "outputs": [
    {
     "data": {
      "text/plain": [
       "edu\n",
       "初中及以下        7\n",
       "博士         115\n",
       "大专       19161\n",
       "本科       37899\n",
       "硕士        1932\n",
       "高中         260\n",
       "Name: headcount, dtype: int64"
      ]
     },
     "execution_count": 34,
     "metadata": {},
     "output_type": "execute_result"
    }
   ],
   "source": [
    "edu_counts"
   ]
  },
  {
   "cell_type": "code",
   "execution_count": 35,
   "metadata": {},
   "outputs": [
    {
     "data": {
      "text/plain": [
       "([<matplotlib.patches.Wedge at 0x1f15d486630>,\n",
       "  <matplotlib.patches.Wedge at 0x1f15d486da0>,\n",
       "  <matplotlib.patches.Wedge at 0x1f15d48e4e0>,\n",
       "  <matplotlib.patches.Wedge at 0x1f15d48ebe0>,\n",
       "  <matplotlib.patches.Wedge at 0x1f15d499320>,\n",
       "  <matplotlib.patches.Wedge at 0x1f15d499a20>],\n",
       " [Text(1.0999999245488463, 0.0004074218117246266, '初中及以下'),\n",
       "  Text(1.099974375963616, 0.007508143808815682, '博士'),\n",
       "  Text(0.5693570237392687, 0.9411867931068529, '大专'),\n",
       "  Text(-0.6800441670136861, -0.8646039156230221, '本科'),\n",
       "  Text(1.0907551296863862, -0.14231390326610857, '硕士'),\n",
       "  Text(1.0998959112663538, -0.015132229827664441, '高中')],\n",
       " [Text(0.5999999588448252, 0.00022223007912252355, '0.0%'),\n",
       "  Text(0.5999860232528814, 0.0040953511684449165, '0.2%'),\n",
       "  Text(0.31055837658505564, 0.5133746144219197, '32.3%'),\n",
       "  Text(-0.3709331820074651, -0.4716021357943756, '63.8%'),\n",
       "  Text(0.5949573434653015, -0.07762576541787738, '3.3%'),\n",
       "  Text(0.599943224327102, -0.008253943542362422, '0.4%')])"
      ]
     },
     "execution_count": 35,
     "metadata": {},
     "output_type": "execute_result"
    },
    {
     "data": {
      "image/png": "[encoded data removed]",
      "text/plain": [
       "<Figure size 720x576 with 1 Axes>"
      ]
     },
     "metadata": {},
     "output_type": "display_data"
    }
   ],
   "source": [
    "plt.figure(figsize=(10,8))\n",
    "plt.pie(edu_counts.values, labels=edu_counts.index, autopct='%1.1f%%')"
   ]
  },
  {
   "cell_type": "code",
   "execution_count": 36,
   "metadata": {},
   "outputs": [
    {
     "data": {
      "text/html": [
       "<style  type=\"text/css\" >\n",
       "</style>  \n",
       "<table id=\"T_9e33d56c_cf78_11e9_878d_701ce71031ef\" > \n",
       "<thead>    <tr> \n",
       "        <th class=\"col_heading level0 col0\" >edu</th> \n",
       "        <th class=\"col_heading level0 col1\" >salary_mean</th> \n",
       "        <th class=\"col_heading level0 col2\" >salary_95_min</th> \n",
       "        <th class=\"col_heading level0 col3\" >salary_median</th> \n",
       "        <th class=\"col_heading level0 col4\" >salary_95_max</th> \n",
       "        <th class=\"col_heading level0 col5\" >head_count</th> \n",
       "        <th class=\"col_heading level0 col6\" >percentage</th> \n",
       "    </tr></thead> \n",
       "<tbody>    <tr> \n",
       "        <td id=\"T_9e33d56c_cf78_11e9_878d_701ce71031efrow0_col0\" class=\"data row0 col0\" >博士</td> \n",
       "        <td id=\"T_9e33d56c_cf78_11e9_878d_701ce71031efrow0_col1\" class=\"data row0 col1\" >26419</td> \n",
       "        <td id=\"T_9e33d56c_cf78_11e9_878d_701ce71031efrow0_col2\" class=\"data row0 col2\" >12500</td> \n",
       "        <td id=\"T_9e33d56c_cf78_11e9_878d_701ce71031efrow0_col3\" class=\"data row0 col3\" >22500</td> \n",
       "        <td id=\"T_9e33d56c_cf78_11e9_878d_701ce71031efrow0_col4\" class=\"data row0 col4\" >50781</td> \n",
       "        <td id=\"T_9e33d56c_cf78_11e9_878d_701ce71031efrow0_col5\" class=\"data row0 col5\" >115</td> \n",
       "        <td id=\"T_9e33d56c_cf78_11e9_878d_701ce71031efrow0_col6\" class=\"data row0 col6\" >0.19%</td> \n",
       "    </tr>    <tr> \n",
       "        <td id=\"T_9e33d56c_cf78_11e9_878d_701ce71031efrow1_col0\" class=\"data row1 col0\" >硕士</td> \n",
       "        <td id=\"T_9e33d56c_cf78_11e9_878d_701ce71031efrow1_col1\" class=\"data row1 col1\" >21788</td> \n",
       "        <td id=\"T_9e33d56c_cf78_11e9_878d_701ce71031efrow1_col2\" class=\"data row1 col2\" >3750</td> \n",
       "        <td id=\"T_9e33d56c_cf78_11e9_878d_701ce71031efrow1_col3\" class=\"data row1 col3\" >20833</td> \n",
       "        <td id=\"T_9e33d56c_cf78_11e9_878d_701ce71031efrow1_col4\" class=\"data row1 col4\" >45000</td> \n",
       "        <td id=\"T_9e33d56c_cf78_11e9_878d_701ce71031efrow1_col5\" class=\"data row1 col5\" >1932</td> \n",
       "        <td id=\"T_9e33d56c_cf78_11e9_878d_701ce71031efrow1_col6\" class=\"data row1 col6\" >3.25%</td> \n",
       "    </tr>    <tr> \n",
       "        <td id=\"T_9e33d56c_cf78_11e9_878d_701ce71031efrow2_col0\" class=\"data row2 col0\" >本科</td> \n",
       "        <td id=\"T_9e33d56c_cf78_11e9_878d_701ce71031efrow2_col1\" class=\"data row2 col1\" >17065</td> \n",
       "        <td id=\"T_9e33d56c_cf78_11e9_878d_701ce71031efrow2_col2\" class=\"data row2 col2\" >5250</td> \n",
       "        <td id=\"T_9e33d56c_cf78_11e9_878d_701ce71031efrow2_col3\" class=\"data row2 col3\" >15000</td> \n",
       "        <td id=\"T_9e33d56c_cf78_11e9_878d_701ce71031efrow2_col4\" class=\"data row2 col4\" >40000</td> \n",
       "        <td id=\"T_9e33d56c_cf78_11e9_878d_701ce71031efrow2_col5\" class=\"data row2 col5\" >37899</td> \n",
       "        <td id=\"T_9e33d56c_cf78_11e9_878d_701ce71031efrow2_col6\" class=\"data row2 col6\" >63.83%</td> \n",
       "    </tr>    <tr> \n",
       "        <td id=\"T_9e33d56c_cf78_11e9_878d_701ce71031efrow3_col0\" class=\"data row3 col0\" >初中及以下</td> \n",
       "        <td id=\"T_9e33d56c_cf78_11e9_878d_701ce71031efrow3_col1\" class=\"data row3 col1\" >16214</td> \n",
       "        <td id=\"T_9e33d56c_cf78_11e9_878d_701ce71031efrow3_col2\" class=\"data row3 col2\" >6000</td> \n",
       "        <td id=\"T_9e33d56c_cf78_11e9_878d_701ce71031efrow3_col3\" class=\"data row3 col3\" >12500</td> \n",
       "        <td id=\"T_9e33d56c_cf78_11e9_878d_701ce71031efrow3_col4\" class=\"data row3 col4\" >30000</td> \n",
       "        <td id=\"T_9e33d56c_cf78_11e9_878d_701ce71031efrow3_col5\" class=\"data row3 col5\" >7</td> \n",
       "        <td id=\"T_9e33d56c_cf78_11e9_878d_701ce71031efrow3_col6\" class=\"data row3 col6\" >0.01%</td> \n",
       "    </tr>    <tr> \n",
       "        <td id=\"T_9e33d56c_cf78_11e9_878d_701ce71031efrow4_col0\" class=\"data row4 col0\" >大专</td> \n",
       "        <td id=\"T_9e33d56c_cf78_11e9_878d_701ce71031efrow4_col1\" class=\"data row4 col1\" >13178</td> \n",
       "        <td id=\"T_9e33d56c_cf78_11e9_878d_701ce71031efrow4_col2\" class=\"data row4 col2\" >3750</td> \n",
       "        <td id=\"T_9e33d56c_cf78_11e9_878d_701ce71031efrow4_col3\" class=\"data row4 col3\" >12500</td> \n",
       "        <td id=\"T_9e33d56c_cf78_11e9_878d_701ce71031efrow4_col4\" class=\"data row4 col4\" >29166</td> \n",
       "        <td id=\"T_9e33d56c_cf78_11e9_878d_701ce71031efrow4_col5\" class=\"data row4 col5\" >19161</td> \n",
       "        <td id=\"T_9e33d56c_cf78_11e9_878d_701ce71031efrow4_col6\" class=\"data row4 col6\" >32.27%</td> \n",
       "    </tr>    <tr> \n",
       "        <td id=\"T_9e33d56c_cf78_11e9_878d_701ce71031efrow5_col0\" class=\"data row5 col0\" >高中</td> \n",
       "        <td id=\"T_9e33d56c_cf78_11e9_878d_701ce71031efrow5_col1\" class=\"data row5 col1\" >8066</td> \n",
       "        <td id=\"T_9e33d56c_cf78_11e9_878d_701ce71031efrow5_col2\" class=\"data row5 col2\" >3750</td> \n",
       "        <td id=\"T_9e33d56c_cf78_11e9_878d_701ce71031efrow5_col3\" class=\"data row5 col3\" >6500</td> \n",
       "        <td id=\"T_9e33d56c_cf78_11e9_878d_701ce71031efrow5_col4\" class=\"data row5 col4\" >38571</td> \n",
       "        <td id=\"T_9e33d56c_cf78_11e9_878d_701ce71031efrow5_col5\" class=\"data row5 col5\" >260</td> \n",
       "        <td id=\"T_9e33d56c_cf78_11e9_878d_701ce71031efrow5_col6\" class=\"data row5 col6\" >0.44%</td> \n",
       "    </tr></tbody> \n",
       "</table> "
      ],
      "text/plain": [
       "<pandas.io.formats.style.Styler at 0x1f15d4407f0>"
      ]
     },
     "execution_count": 36,
     "metadata": {},
     "output_type": "execute_result"
    }
   ],
   "source": [
    "data_edu=get_sub_stats_by_col(data[data.edu.isin(['初中及以下','高中','大专','本科','硕士','博士'])], 'edu')\n",
    "apply_style(data_edu)"
   ]
  },
  {
   "cell_type": "code",
   "execution_count": 37,
   "metadata": {},
   "outputs": [],
   "source": [
    "salary_associate=data[data.edu=='大专'].monthly_salary\n",
    "salary_bachelor=data[data.edu=='本科'].monthly_salary\n",
    "salary_master=data[data.edu=='硕士'].monthly_salary\n",
    "salary_phd=data[data.edu=='博士'].monthly_salary"
   ]
  },
  {
   "cell_type": "code",
   "execution_count": null,
   "metadata": {},
   "outputs": [],
   "source": []
  },
  {
   "cell_type": "code",
   "execution_count": 38,
   "metadata": {},
   "outputs": [
    {
     "name": "stdout",
     "output_type": "stream",
     "text": [
      "大专，本科，硕士，博士的平均工资分别是13406，17333，22260，30322。中位数分别是12500， 15000，20833， 27500。\n"
     ]
    }
   ],
   "source": [
    "print('大专，本科，硕士，博士的平均工资分别是{:.0f}，{:.0f}，{:.0f}，{:.0f}。中位数分别是{:.0f}， {:.0f}，{:.0f}， {:.0f}。'.format(\n",
    "    salary_associate.mean(),salary_bachelor.mean(),salary_master.mean(),salary_phd.mean(),\n",
    "    salary_associate.median(),salary_bachelor.median(),salary_master.median(),salary_phd.median()))"
   ]
  },
  {
   "cell_type": "code",
   "execution_count": 39,
   "metadata": {},
   "outputs": [
    {
     "data": {
      "text/plain": [
       "F_onewayResult(statistic=23.171951509082557, pvalue=1.7947259360804315e-06)"
      ]
     },
     "execution_count": 39,
     "metadata": {},
     "output_type": "execute_result"
    }
   ],
   "source": [
    "stats.f_oneway(salary_phd, salary_master)"
   ]
  },
  {
   "cell_type": "code",
   "execution_count": 40,
   "metadata": {},
   "outputs": [
    {
     "data": {
      "text/plain": [
       "F_onewayResult(statistic=223.80800888040434, pvalue=3.398449607416261e-50)"
      ]
     },
     "execution_count": 40,
     "metadata": {},
     "output_type": "execute_result"
    }
   ],
   "source": [
    "stats.f_oneway(salary_master, salary_bachelor)"
   ]
  },
  {
   "cell_type": "code",
   "execution_count": 41,
   "metadata": {},
   "outputs": [
    {
     "data": {
      "text/plain": [
       "F_onewayResult(statistic=1056.9213896994295, pvalue=1.512465375687874e-225)"
      ]
     },
     "execution_count": 41,
     "metadata": {},
     "output_type": "execute_result"
    }
   ],
   "source": [
    "stats.f_oneway(salary_bachelor, salary_associate)"
   ]
  },
  {
   "cell_type": "markdown",
   "metadata": {},
   "source": [
    "经过Oneway Anova Test，证明从大专到博士，学历每提高一级，工资都有显著的提高。"
   ]
  },
  {
   "cell_type": "code",
   "execution_count": 42,
   "metadata": {},
   "outputs": [
    {
     "data": {
      "image/png": "[encoded data removed]",
      "text/plain": [
       "<Figure size 432x288 with 1 Axes>"
      ]
     },
     "metadata": {
      "needs_background": "light"
     },
     "output_type": "display_data"
    }
   ],
   "source": [
    "\n",
    "order=['大专','本科','硕士','博士']\n",
    "a=sns.boxplot(y='edu',x='monthly_salary',order=order,data=data[data.edu.isin(order)], orient='h')\n",
    "plt.annotate('https://github.com/juwikuang/job_survey', xy=(0.5,1.5), xytext=(2, 1.55))\n",
    "plt.show()"
   ]
  },
  {
   "cell_type": "markdown",
   "metadata": {},
   "source": [
    "# 工作经验 Working Experience"
   ]
  },
  {
   "cell_type": "code",
   "execution_count": 43,
   "metadata": {},
   "outputs": [
    {
     "data": {
      "text/html": [
       "<style  type=\"text/css\" >\n",
       "</style>  \n",
       "<table id=\"T_9e5c1dc6_cf78_11e9_b7ed_701ce71031ef\" > \n",
       "<thead>    <tr> \n",
       "        <th class=\"col_heading level0 col0\" >experience</th> \n",
       "        <th class=\"col_heading level0 col1\" >salary_mean</th> \n",
       "        <th class=\"col_heading level0 col2\" >salary_95_min</th> \n",
       "        <th class=\"col_heading level0 col3\" >salary_median</th> \n",
       "        <th class=\"col_heading level0 col4\" >salary_95_max</th> \n",
       "        <th class=\"col_heading level0 col5\" >head_count</th> \n",
       "        <th class=\"col_heading level0 col6\" >percentage</th> \n",
       "    </tr></thead> \n",
       "<tbody>    <tr> \n",
       "        <td id=\"T_9e5c1dc6_cf78_11e9_b7ed_701ce71031efrow0_col0\" class=\"data row0 col0\" >10+</td> \n",
       "        <td id=\"T_9e5c1dc6_cf78_11e9_b7ed_701ce71031efrow0_col1\" class=\"data row0 col1\" >29107</td> \n",
       "        <td id=\"T_9e5c1dc6_cf78_11e9_b7ed_701ce71031efrow0_col2\" class=\"data row0 col2\" >9000</td> \n",
       "        <td id=\"T_9e5c1dc6_cf78_11e9_b7ed_701ce71031efrow0_col3\" class=\"data row0 col3\" >27500</td> \n",
       "        <td id=\"T_9e5c1dc6_cf78_11e9_b7ed_701ce71031efrow0_col4\" class=\"data row0 col4\" >50000</td> \n",
       "        <td id=\"T_9e5c1dc6_cf78_11e9_b7ed_701ce71031efrow0_col5\" class=\"data row0 col5\" >204</td> \n",
       "        <td id=\"T_9e5c1dc6_cf78_11e9_b7ed_701ce71031efrow0_col6\" class=\"data row0 col6\" >0.29%</td> \n",
       "    </tr>    <tr> \n",
       "        <td id=\"T_9e5c1dc6_cf78_11e9_b7ed_701ce71031efrow1_col0\" class=\"data row1 col0\" >5_10</td> \n",
       "        <td id=\"T_9e5c1dc6_cf78_11e9_b7ed_701ce71031efrow1_col1\" class=\"data row1 col1\" >22342</td> \n",
       "        <td id=\"T_9e5c1dc6_cf78_11e9_b7ed_701ce71031efrow1_col2\" class=\"data row1 col2\" >11500</td> \n",
       "        <td id=\"T_9e5c1dc6_cf78_11e9_b7ed_701ce71031efrow1_col3\" class=\"data row1 col3\" >20000</td> \n",
       "        <td id=\"T_9e5c1dc6_cf78_11e9_b7ed_701ce71031efrow1_col4\" class=\"data row1 col4\" >45000</td> \n",
       "        <td id=\"T_9e5c1dc6_cf78_11e9_b7ed_701ce71031efrow1_col5\" class=\"data row1 col5\" >8782</td> \n",
       "        <td id=\"T_9e5c1dc6_cf78_11e9_b7ed_701ce71031efrow1_col6\" class=\"data row1 col6\" >12.54%</td> \n",
       "    </tr>    <tr> \n",
       "        <td id=\"T_9e5c1dc6_cf78_11e9_b7ed_701ce71031efrow2_col0\" class=\"data row2 col0\" >3_5</td> \n",
       "        <td id=\"T_9e5c1dc6_cf78_11e9_b7ed_701ce71031efrow2_col1\" class=\"data row2 col1\" >17452</td> \n",
       "        <td id=\"T_9e5c1dc6_cf78_11e9_b7ed_701ce71031efrow2_col2\" class=\"data row2 col2\" >9000</td> \n",
       "        <td id=\"T_9e5c1dc6_cf78_11e9_b7ed_701ce71031efrow2_col3\" class=\"data row2 col3\" >15000</td> \n",
       "        <td id=\"T_9e5c1dc6_cf78_11e9_b7ed_701ce71031efrow2_col4\" class=\"data row2 col4\" >37500</td> \n",
       "        <td id=\"T_9e5c1dc6_cf78_11e9_b7ed_701ce71031efrow2_col5\" class=\"data row2 col5\" >20678</td> \n",
       "        <td id=\"T_9e5c1dc6_cf78_11e9_b7ed_701ce71031efrow2_col6\" class=\"data row2 col6\" >29.52%</td> \n",
       "    </tr>    <tr> \n",
       "        <td id=\"T_9e5c1dc6_cf78_11e9_b7ed_701ce71031efrow3_col0\" class=\"data row3 col0\" >no</td> \n",
       "        <td id=\"T_9e5c1dc6_cf78_11e9_b7ed_701ce71031efrow3_col1\" class=\"data row3 col1\" >13645</td> \n",
       "        <td id=\"T_9e5c1dc6_cf78_11e9_b7ed_701ce71031efrow3_col2\" class=\"data row3 col2\" >3750</td> \n",
       "        <td id=\"T_9e5c1dc6_cf78_11e9_b7ed_701ce71031efrow3_col3\" class=\"data row3 col3\" >12500</td> \n",
       "        <td id=\"T_9e5c1dc6_cf78_11e9_b7ed_701ce71031efrow3_col4\" class=\"data row3 col4\" >35000</td> \n",
       "        <td id=\"T_9e5c1dc6_cf78_11e9_b7ed_701ce71031efrow3_col5\" class=\"data row3 col5\" >21192</td> \n",
       "        <td id=\"T_9e5c1dc6_cf78_11e9_b7ed_701ce71031efrow3_col6\" class=\"data row3 col6\" >30.26%</td> \n",
       "    </tr>    <tr> \n",
       "        <td id=\"T_9e5c1dc6_cf78_11e9_b7ed_701ce71031efrow4_col0\" class=\"data row4 col0\" >1_3</td> \n",
       "        <td id=\"T_9e5c1dc6_cf78_11e9_b7ed_701ce71031efrow4_col1\" class=\"data row4 col1\" >13118</td> \n",
       "        <td id=\"T_9e5c1dc6_cf78_11e9_b7ed_701ce71031efrow4_col2\" class=\"data row4 col2\" >5250</td> \n",
       "        <td id=\"T_9e5c1dc6_cf78_11e9_b7ed_701ce71031efrow4_col3\" class=\"data row4 col3\" >12500</td> \n",
       "        <td id=\"T_9e5c1dc6_cf78_11e9_b7ed_701ce71031efrow4_col4\" class=\"data row4 col4\" >30000</td> \n",
       "        <td id=\"T_9e5c1dc6_cf78_11e9_b7ed_701ce71031efrow4_col5\" class=\"data row4 col5\" >19183</td> \n",
       "        <td id=\"T_9e5c1dc6_cf78_11e9_b7ed_701ce71031efrow4_col6\" class=\"data row4 col6\" >27.39%</td> \n",
       "    </tr></tbody> \n",
       "</table> "
      ],
      "text/plain": [
       "<pandas.io.formats.style.Styler at 0x1f15d4b4fd0>"
      ]
     },
     "execution_count": 43,
     "metadata": {},
     "output_type": "execute_result"
    }
   ],
   "source": [
    "data_experience=get_sub_stats_by_col(data, 'experience')\n",
    "apply_style(data_experience)"
   ]
  },
  {
   "cell_type": "code",
   "execution_count": 44,
   "metadata": {},
   "outputs": [],
   "source": [
    "salary_we_10=data[data.experience=='10+'].monthly_salary\n",
    "salary_we_5_10=data[data.experience=='5_10'].monthly_salary\n",
    "salary_we_3_5=data[data.experience=='3_5'].monthly_salary\n",
    "salary_we_1_3=data[data.experience=='1_3'].monthly_salary\n",
    "salary_we_no=data[data.experience=='no'].monthly_salary"
   ]
  },
  {
   "cell_type": "code",
   "execution_count": 45,
   "metadata": {},
   "outputs": [
    {
     "data": {
      "image/png": "[encoded data removed]",
      "text/plain": [
       "<Figure size 432x288 with 1 Axes>"
      ]
     },
     "metadata": {
      "needs_background": "light"
     },
     "output_type": "display_data"
    }
   ],
   "source": [
    "\n",
    "order=['10+','5_10','3_5','1_3']\n",
    "sns.boxplot(y='experience',x='monthly_salary',order=order,data=data[data.experience.isin(order)], orient='h')\n",
    "plt.annotate('https://github.com/juwikuang/job_survey', xy=(1.5,1.5), xytext=(1.55, 1.55))\n",
    "plt.show()"
   ]
  },
  {
   "cell_type": "markdown",
   "metadata": {},
   "source": [
    "# 公司 Company"
   ]
  },
  {
   "cell_type": "markdown",
   "metadata": {},
   "source": [
    "## 公司性质 Company Type"
   ]
  },
  {
   "cell_type": "code",
   "execution_count": 46,
   "metadata": {},
   "outputs": [
    {
     "data": {
      "text/html": [
       "<style  type=\"text/css\" >\n",
       "</style>  \n",
       "<table id=\"T_9e8416e8_cf78_11e9_8980_701ce71031ef\" > \n",
       "<thead>    <tr> \n",
       "        <th class=\"col_heading level0 col0\" >company_type</th> \n",
       "        <th class=\"col_heading level0 col1\" >salary_mean</th> \n",
       "        <th class=\"col_heading level0 col2\" >salary_95_min</th> \n",
       "        <th class=\"col_heading level0 col3\" >salary_median</th> \n",
       "        <th class=\"col_heading level0 col4\" >salary_95_max</th> \n",
       "        <th class=\"col_heading level0 col5\" >head_count</th> \n",
       "        <th class=\"col_heading level0 col6\" >percentage</th> \n",
       "    </tr></thead> \n",
       "<tbody>    <tr> \n",
       "        <td id=\"T_9e8416e8_cf78_11e9_8980_701ce71031efrow0_col0\" class=\"data row0 col0\" >外资（欧美）</td> \n",
       "        <td id=\"T_9e8416e8_cf78_11e9_8980_701ce71031efrow0_col1\" class=\"data row0 col1\" >19342</td> \n",
       "        <td id=\"T_9e8416e8_cf78_11e9_8980_701ce71031efrow0_col2\" class=\"data row0 col2\" >7000</td> \n",
       "        <td id=\"T_9e8416e8_cf78_11e9_8980_701ce71031efrow0_col3\" class=\"data row0 col3\" >17500</td> \n",
       "        <td id=\"T_9e8416e8_cf78_11e9_8980_701ce71031efrow0_col4\" class=\"data row0 col4\" >45000</td> \n",
       "        <td id=\"T_9e8416e8_cf78_11e9_8980_701ce71031efrow0_col5\" class=\"data row0 col5\" >3486</td> \n",
       "        <td id=\"T_9e8416e8_cf78_11e9_8980_701ce71031efrow0_col6\" class=\"data row0 col6\" >4.98%</td> \n",
       "    </tr>    <tr> \n",
       "        <td id=\"T_9e8416e8_cf78_11e9_8980_701ce71031efrow1_col0\" class=\"data row1 col0\" >民营公司</td> \n",
       "        <td id=\"T_9e8416e8_cf78_11e9_8980_701ce71031efrow1_col1\" class=\"data row1 col1\" >15652</td> \n",
       "        <td id=\"T_9e8416e8_cf78_11e9_8980_701ce71031efrow1_col2\" class=\"data row1 col2\" >5000</td> \n",
       "        <td id=\"T_9e8416e8_cf78_11e9_8980_701ce71031efrow1_col3\" class=\"data row1 col3\" >13500</td> \n",
       "        <td id=\"T_9e8416e8_cf78_11e9_8980_701ce71031efrow1_col4\" class=\"data row1 col4\" >37500</td> \n",
       "        <td id=\"T_9e8416e8_cf78_11e9_8980_701ce71031efrow1_col5\" class=\"data row1 col5\" >52748</td> \n",
       "        <td id=\"T_9e8416e8_cf78_11e9_8980_701ce71031efrow1_col6\" class=\"data row1 col6\" >75.31%</td> \n",
       "    </tr>    <tr> \n",
       "        <td id=\"T_9e8416e8_cf78_11e9_8980_701ce71031efrow2_col0\" class=\"data row2 col0\" >外资（非欧美）</td> \n",
       "        <td id=\"T_9e8416e8_cf78_11e9_8980_701ce71031efrow2_col1\" class=\"data row2 col1\" >15561</td> \n",
       "        <td id=\"T_9e8416e8_cf78_11e9_8980_701ce71031efrow2_col2\" class=\"data row2 col2\" >5250</td> \n",
       "        <td id=\"T_9e8416e8_cf78_11e9_8980_701ce71031efrow2_col3\" class=\"data row2 col3\" >14000</td> \n",
       "        <td id=\"T_9e8416e8_cf78_11e9_8980_701ce71031efrow2_col4\" class=\"data row2 col4\" >32500</td> \n",
       "        <td id=\"T_9e8416e8_cf78_11e9_8980_701ce71031efrow2_col5\" class=\"data row2 col5\" >3790</td> \n",
       "        <td id=\"T_9e8416e8_cf78_11e9_8980_701ce71031efrow2_col6\" class=\"data row2 col6\" >5.41%</td> \n",
       "    </tr>    <tr> \n",
       "        <td id=\"T_9e8416e8_cf78_11e9_8980_701ce71031efrow3_col0\" class=\"data row3 col0\" >合资</td> \n",
       "        <td id=\"T_9e8416e8_cf78_11e9_8980_701ce71031efrow3_col1\" class=\"data row3 col1\" >15370</td> \n",
       "        <td id=\"T_9e8416e8_cf78_11e9_8980_701ce71031efrow3_col2\" class=\"data row3 col2\" >5500</td> \n",
       "        <td id=\"T_9e8416e8_cf78_11e9_8980_701ce71031efrow3_col3\" class=\"data row3 col3\" >13500</td> \n",
       "        <td id=\"T_9e8416e8_cf78_11e9_8980_701ce71031efrow3_col4\" class=\"data row3 col4\" >32500</td> \n",
       "        <td id=\"T_9e8416e8_cf78_11e9_8980_701ce71031efrow3_col5\" class=\"data row3 col5\" >6665</td> \n",
       "        <td id=\"T_9e8416e8_cf78_11e9_8980_701ce71031efrow3_col6\" class=\"data row3 col6\" >9.52%</td> \n",
       "    </tr>    <tr> \n",
       "        <td id=\"T_9e8416e8_cf78_11e9_8980_701ce71031efrow4_col0\" class=\"data row4 col0\" >国企</td> \n",
       "        <td id=\"T_9e8416e8_cf78_11e9_8980_701ce71031efrow4_col1\" class=\"data row4 col1\" >14857</td> \n",
       "        <td id=\"T_9e8416e8_cf78_11e9_8980_701ce71031efrow4_col2\" class=\"data row4 col2\" >4042</td> \n",
       "        <td id=\"T_9e8416e8_cf78_11e9_8980_701ce71031efrow4_col3\" class=\"data row4 col3\" >14000</td> \n",
       "        <td id=\"T_9e8416e8_cf78_11e9_8980_701ce71031efrow4_col4\" class=\"data row4 col4\" >30000</td> \n",
       "        <td id=\"T_9e8416e8_cf78_11e9_8980_701ce71031efrow4_col5\" class=\"data row4 col5\" >3114</td> \n",
       "        <td id=\"T_9e8416e8_cf78_11e9_8980_701ce71031efrow4_col6\" class=\"data row4 col6\" >4.45%</td> \n",
       "    </tr>    <tr> \n",
       "        <td id=\"T_9e8416e8_cf78_11e9_8980_701ce71031efrow5_col0\" class=\"data row5 col0\" >事业单位</td> \n",
       "        <td id=\"T_9e8416e8_cf78_11e9_8980_701ce71031efrow5_col1\" class=\"data row5 col1\" >13913</td> \n",
       "        <td id=\"T_9e8416e8_cf78_11e9_8980_701ce71031efrow5_col2\" class=\"data row5 col2\" >5250</td> \n",
       "        <td id=\"T_9e8416e8_cf78_11e9_8980_701ce71031efrow5_col3\" class=\"data row5 col3\" >12500</td> \n",
       "        <td id=\"T_9e8416e8_cf78_11e9_8980_701ce71031efrow5_col4\" class=\"data row5 col4\" >25000</td> \n",
       "        <td id=\"T_9e8416e8_cf78_11e9_8980_701ce71031efrow5_col5\" class=\"data row5 col5\" >185</td> \n",
       "        <td id=\"T_9e8416e8_cf78_11e9_8980_701ce71031efrow5_col6\" class=\"data row5 col6\" >0.26%</td> \n",
       "    </tr>    <tr> \n",
       "        <td id=\"T_9e8416e8_cf78_11e9_8980_701ce71031efrow6_col0\" class=\"data row6 col0\" >外企代表处</td> \n",
       "        <td id=\"T_9e8416e8_cf78_11e9_8980_701ce71031efrow6_col1\" class=\"data row6 col1\" >11393</td> \n",
       "        <td id=\"T_9e8416e8_cf78_11e9_8980_701ce71031efrow6_col2\" class=\"data row6 col2\" >9000</td> \n",
       "        <td id=\"T_9e8416e8_cf78_11e9_8980_701ce71031efrow6_col3\" class=\"data row6 col3\" >9000</td> \n",
       "        <td id=\"T_9e8416e8_cf78_11e9_8980_701ce71031efrow6_col4\" class=\"data row6 col4\" >21000</td> \n",
       "        <td id=\"T_9e8416e8_cf78_11e9_8980_701ce71031efrow6_col5\" class=\"data row6 col5\" >14</td> \n",
       "        <td id=\"T_9e8416e8_cf78_11e9_8980_701ce71031efrow6_col6\" class=\"data row6 col6\" >0.02%</td> \n",
       "    </tr>    <tr> \n",
       "        <td id=\"T_9e8416e8_cf78_11e9_8980_701ce71031efrow7_col0\" class=\"data row7 col0\" >非营利组织</td> \n",
       "        <td id=\"T_9e8416e8_cf78_11e9_8980_701ce71031efrow7_col1\" class=\"data row7 col1\" >11270</td> \n",
       "        <td id=\"T_9e8416e8_cf78_11e9_8980_701ce71031efrow7_col2\" class=\"data row7 col2\" >5250</td> \n",
       "        <td id=\"T_9e8416e8_cf78_11e9_8980_701ce71031efrow7_col3\" class=\"data row7 col3\" >12250</td> \n",
       "        <td id=\"T_9e8416e8_cf78_11e9_8980_701ce71031efrow7_col4\" class=\"data row7 col4\" >16437</td> \n",
       "        <td id=\"T_9e8416e8_cf78_11e9_8980_701ce71031efrow7_col5\" class=\"data row7 col5\" >37</td> \n",
       "        <td id=\"T_9e8416e8_cf78_11e9_8980_701ce71031efrow7_col6\" class=\"data row7 col6\" >0.05%</td> \n",
       "    </tr></tbody> \n",
       "</table> "
      ],
      "text/plain": [
       "<pandas.io.formats.style.Styler at 0x1f15d4b4908>"
      ]
     },
     "execution_count": 46,
     "metadata": {},
     "output_type": "execute_result"
    }
   ],
   "source": [
    "data_company_type=get_sub_stats_by_col(data,'company_type')\n",
    "apply_style(data_company_type)"
   ]
  },
  {
   "cell_type": "markdown",
   "metadata": {},
   "source": [
    "us_eu是欧美外企，startup是创业公司，listed是上市公司，state是国企，private是私企，foreign是非欧美外企，其他不足1000个样本的不管了。"
   ]
  },
  {
   "cell_type": "markdown",
   "metadata": {},
   "source": [
    "## 公司规模 Company Size"
   ]
  },
  {
   "cell_type": "code",
   "execution_count": 47,
   "metadata": {},
   "outputs": [
    {
     "data": {
      "text/html": [
       "<style  type=\"text/css\" >\n",
       "</style>  \n",
       "<table id=\"T_9e91fadc_cf78_11e9_91be_701ce71031ef\" > \n",
       "<thead>    <tr> \n",
       "        <th class=\"col_heading level0 col0\" >company_size</th> \n",
       "        <th class=\"col_heading level0 col1\" >salary_mean</th> \n",
       "        <th class=\"col_heading level0 col2\" >salary_95_min</th> \n",
       "        <th class=\"col_heading level0 col3\" >salary_median</th> \n",
       "        <th class=\"col_heading level0 col4\" >salary_95_max</th> \n",
       "        <th class=\"col_heading level0 col5\" >head_count</th> \n",
       "        <th class=\"col_heading level0 col6\" >percentage</th> \n",
       "    </tr></thead> \n",
       "<tbody>    <tr> \n",
       "        <td id=\"T_9e91fadc_cf78_11e9_91be_701ce71031efrow0_col0\" class=\"data row0 col0\" >10000+</td> \n",
       "        <td id=\"T_9e91fadc_cf78_11e9_91be_701ce71031efrow0_col1\" class=\"data row0 col1\" >23951</td> \n",
       "        <td id=\"T_9e91fadc_cf78_11e9_91be_701ce71031efrow0_col2\" class=\"data row0 col2\" >4500</td> \n",
       "        <td id=\"T_9e91fadc_cf78_11e9_91be_701ce71031efrow0_col3\" class=\"data row0 col3\" >24000</td> \n",
       "        <td id=\"T_9e91fadc_cf78_11e9_91be_701ce71031efrow0_col4\" class=\"data row0 col4\" >52500</td> \n",
       "        <td id=\"T_9e91fadc_cf78_11e9_91be_701ce71031efrow0_col5\" class=\"data row0 col5\" >3764</td> \n",
       "        <td id=\"T_9e91fadc_cf78_11e9_91be_701ce71031efrow0_col6\" class=\"data row0 col6\" >5.37%</td> \n",
       "    </tr>    <tr> \n",
       "        <td id=\"T_9e91fadc_cf78_11e9_91be_701ce71031efrow1_col0\" class=\"data row1 col0\" >1000-5000</td> \n",
       "        <td id=\"T_9e91fadc_cf78_11e9_91be_701ce71031efrow1_col1\" class=\"data row1 col1\" >16764</td> \n",
       "        <td id=\"T_9e91fadc_cf78_11e9_91be_701ce71031efrow1_col2\" class=\"data row1 col2\" >5655</td> \n",
       "        <td id=\"T_9e91fadc_cf78_11e9_91be_701ce71031efrow1_col3\" class=\"data row1 col3\" >15000</td> \n",
       "        <td id=\"T_9e91fadc_cf78_11e9_91be_701ce71031efrow1_col4\" class=\"data row1 col4\" >40000</td> \n",
       "        <td id=\"T_9e91fadc_cf78_11e9_91be_701ce71031efrow1_col5\" class=\"data row1 col5\" >8322</td> \n",
       "        <td id=\"T_9e91fadc_cf78_11e9_91be_701ce71031efrow1_col6\" class=\"data row1 col6\" >11.88%</td> \n",
       "    </tr>    <tr> \n",
       "        <td id=\"T_9e91fadc_cf78_11e9_91be_701ce71031efrow2_col0\" class=\"data row2 col0\" >5000-10000</td> \n",
       "        <td id=\"T_9e91fadc_cf78_11e9_91be_701ce71031efrow2_col1\" class=\"data row2 col1\" >16687</td> \n",
       "        <td id=\"T_9e91fadc_cf78_11e9_91be_701ce71031efrow2_col2\" class=\"data row2 col2\" >7000</td> \n",
       "        <td id=\"T_9e91fadc_cf78_11e9_91be_701ce71031efrow2_col3\" class=\"data row2 col3\" >15000</td> \n",
       "        <td id=\"T_9e91fadc_cf78_11e9_91be_701ce71031efrow2_col4\" class=\"data row2 col4\" >34970</td> \n",
       "        <td id=\"T_9e91fadc_cf78_11e9_91be_701ce71031efrow2_col5\" class=\"data row2 col5\" >1464</td> \n",
       "        <td id=\"T_9e91fadc_cf78_11e9_91be_701ce71031efrow2_col6\" class=\"data row2 col6\" >2.09%</td> \n",
       "    </tr>    <tr> \n",
       "        <td id=\"T_9e91fadc_cf78_11e9_91be_701ce71031efrow3_col0\" class=\"data row3 col0\" >500-1000</td> \n",
       "        <td id=\"T_9e91fadc_cf78_11e9_91be_701ce71031efrow3_col1\" class=\"data row3 col1\" >16652</td> \n",
       "        <td id=\"T_9e91fadc_cf78_11e9_91be_701ce71031efrow3_col2\" class=\"data row3 col2\" >5250</td> \n",
       "        <td id=\"T_9e91fadc_cf78_11e9_91be_701ce71031efrow3_col3\" class=\"data row3 col3\" >15000</td> \n",
       "        <td id=\"T_9e91fadc_cf78_11e9_91be_701ce71031efrow3_col4\" class=\"data row3 col4\" >35000</td> \n",
       "        <td id=\"T_9e91fadc_cf78_11e9_91be_701ce71031efrow3_col5\" class=\"data row3 col5\" >7309</td> \n",
       "        <td id=\"T_9e91fadc_cf78_11e9_91be_701ce71031efrow3_col6\" class=\"data row3 col6\" >10.44%</td> \n",
       "    </tr>    <tr> \n",
       "        <td id=\"T_9e91fadc_cf78_11e9_91be_701ce71031efrow4_col0\" class=\"data row4 col0\" >150-500</td> \n",
       "        <td id=\"T_9e91fadc_cf78_11e9_91be_701ce71031efrow4_col1\" class=\"data row4 col1\" >15700</td> \n",
       "        <td id=\"T_9e91fadc_cf78_11e9_91be_701ce71031efrow4_col2\" class=\"data row4 col2\" >5250</td> \n",
       "        <td id=\"T_9e91fadc_cf78_11e9_91be_701ce71031efrow4_col3\" class=\"data row4 col3\" >14000</td> \n",
       "        <td id=\"T_9e91fadc_cf78_11e9_91be_701ce71031efrow4_col4\" class=\"data row4 col4\" >35000</td> \n",
       "        <td id=\"T_9e91fadc_cf78_11e9_91be_701ce71031efrow4_col5\" class=\"data row4 col5\" >18040</td> \n",
       "        <td id=\"T_9e91fadc_cf78_11e9_91be_701ce71031efrow4_col6\" class=\"data row4 col6\" >25.76%</td> \n",
       "    </tr>    <tr> \n",
       "        <td id=\"T_9e91fadc_cf78_11e9_91be_701ce71031efrow5_col0\" class=\"data row5 col0\" >50-150</td> \n",
       "        <td id=\"T_9e91fadc_cf78_11e9_91be_701ce71031efrow5_col1\" class=\"data row5 col1\" >14693</td> \n",
       "        <td id=\"T_9e91fadc_cf78_11e9_91be_701ce71031efrow5_col2\" class=\"data row5 col2\" >4250</td> \n",
       "        <td id=\"T_9e91fadc_cf78_11e9_91be_701ce71031efrow5_col3\" class=\"data row5 col3\" >12500</td> \n",
       "        <td id=\"T_9e91fadc_cf78_11e9_91be_701ce71031efrow5_col4\" class=\"data row5 col4\" >31250</td> \n",
       "        <td id=\"T_9e91fadc_cf78_11e9_91be_701ce71031efrow5_col5\" class=\"data row5 col5\" >21682</td> \n",
       "        <td id=\"T_9e91fadc_cf78_11e9_91be_701ce71031efrow5_col6\" class=\"data row5 col6\" >30.96%</td> \n",
       "    </tr>    <tr> \n",
       "        <td id=\"T_9e91fadc_cf78_11e9_91be_701ce71031efrow6_col0\" class=\"data row6 col0\" >50-</td> \n",
       "        <td id=\"T_9e91fadc_cf78_11e9_91be_701ce71031efrow6_col1\" class=\"data row6 col1\" >13730</td> \n",
       "        <td id=\"T_9e91fadc_cf78_11e9_91be_701ce71031efrow6_col2\" class=\"data row6 col2\" >4500</td> \n",
       "        <td id=\"T_9e91fadc_cf78_11e9_91be_701ce71031efrow6_col3\" class=\"data row6 col3\" >12500</td> \n",
       "        <td id=\"T_9e91fadc_cf78_11e9_91be_701ce71031efrow6_col4\" class=\"data row6 col4\" >30000</td> \n",
       "        <td id=\"T_9e91fadc_cf78_11e9_91be_701ce71031efrow6_col5\" class=\"data row6 col5\" >8402</td> \n",
       "        <td id=\"T_9e91fadc_cf78_11e9_91be_701ce71031efrow6_col6\" class=\"data row6 col6\" >12.00%</td> \n",
       "    </tr>    <tr> \n",
       "        <td id=\"T_9e91fadc_cf78_11e9_91be_701ce71031efrow7_col0\" class=\"data row7 col0\" ></td> \n",
       "        <td id=\"T_9e91fadc_cf78_11e9_91be_701ce71031efrow7_col1\" class=\"data row7 col1\" >10317</td> \n",
       "        <td id=\"T_9e91fadc_cf78_11e9_91be_701ce71031efrow7_col2\" class=\"data row7 col2\" >7000</td> \n",
       "        <td id=\"T_9e91fadc_cf78_11e9_91be_701ce71031efrow7_col3\" class=\"data row7 col3\" >7000</td> \n",
       "        <td id=\"T_9e91fadc_cf78_11e9_91be_701ce71031efrow7_col4\" class=\"data row7 col4\" >30000</td> \n",
       "        <td id=\"T_9e91fadc_cf78_11e9_91be_701ce71031efrow7_col5\" class=\"data row7 col5\" >1056</td> \n",
       "        <td id=\"T_9e91fadc_cf78_11e9_91be_701ce71031efrow7_col6\" class=\"data row7 col6\" >1.51%</td> \n",
       "    </tr></tbody> \n",
       "</table> "
      ],
      "text/plain": [
       "<pandas.io.formats.style.Styler at 0x1f15d873da0>"
      ]
     },
     "execution_count": 47,
     "metadata": {},
     "output_type": "execute_result"
    }
   ],
   "source": [
    "data_company_size=get_sub_stats_by_col(data,'company_size')\n",
    "apply_style(data_company_size)"
   ]
  },
  {
   "cell_type": "markdown",
   "metadata": {},
   "source": [
    "公司越大，工资越高"
   ]
  },
  {
   "cell_type": "markdown",
   "metadata": {},
   "source": [
    "## 行业 Industry"
   ]
  },
  {
   "cell_type": "code",
   "execution_count": 48,
   "metadata": {},
   "outputs": [
    {
     "data": {
      "text/html": [
       "<style  type=\"text/css\" >\n",
       "</style>  \n",
       "<table id=\"T_9e9d456e_cf78_11e9_8d66_701ce71031ef\" > \n",
       "<thead>    <tr> \n",
       "        <th class=\"col_heading level0 col0\" >industry</th> \n",
       "        <th class=\"col_heading level0 col1\" >salary_mean</th> \n",
       "        <th class=\"col_heading level0 col2\" >salary_95_min</th> \n",
       "        <th class=\"col_heading level0 col3\" >salary_median</th> \n",
       "        <th class=\"col_heading level0 col4\" >salary_95_max</th> \n",
       "        <th class=\"col_heading level0 col5\" >head_count</th> \n",
       "        <th class=\"col_heading level0 col6\" >percentage</th> \n",
       "    </tr></thead> \n",
       "<tbody>    <tr> \n",
       "        <td id=\"T_9e9d456e_cf78_11e9_8d66_701ce71031efrow0_col0\" class=\"data row0 col0\" >finance</td> \n",
       "        <td id=\"T_9e9d456e_cf78_11e9_8d66_701ce71031efrow0_col1\" class=\"data row0 col1\" >17267</td> \n",
       "        <td id=\"T_9e9d456e_cf78_11e9_8d66_701ce71031efrow0_col2\" class=\"data row0 col2\" >5210</td> \n",
       "        <td id=\"T_9e9d456e_cf78_11e9_8d66_701ce71031efrow0_col3\" class=\"data row0 col3\" >16231</td> \n",
       "        <td id=\"T_9e9d456e_cf78_11e9_8d66_701ce71031efrow0_col4\" class=\"data row0 col4\" >37500</td> \n",
       "        <td id=\"T_9e9d456e_cf78_11e9_8d66_701ce71031efrow0_col5\" class=\"data row0 col5\" >2233</td> \n",
       "        <td id=\"T_9e9d456e_cf78_11e9_8d66_701ce71031efrow0_col6\" class=\"data row0 col6\" >3.19%</td> \n",
       "    </tr>    <tr> \n",
       "        <td id=\"T_9e9d456e_cf78_11e9_8d66_701ce71031efrow1_col0\" class=\"data row1 col0\" >ads</td> \n",
       "        <td id=\"T_9e9d456e_cf78_11e9_8d66_701ce71031efrow1_col1\" class=\"data row1 col1\" >16174</td> \n",
       "        <td id=\"T_9e9d456e_cf78_11e9_8d66_701ce71031efrow1_col2\" class=\"data row1 col2\" >5250</td> \n",
       "        <td id=\"T_9e9d456e_cf78_11e9_8d66_701ce71031efrow1_col3\" class=\"data row1 col3\" >12500</td> \n",
       "        <td id=\"T_9e9d456e_cf78_11e9_8d66_701ce71031efrow1_col4\" class=\"data row1 col4\" >42500</td> \n",
       "        <td id=\"T_9e9d456e_cf78_11e9_8d66_701ce71031efrow1_col5\" class=\"data row1 col5\" >821</td> \n",
       "        <td id=\"T_9e9d456e_cf78_11e9_8d66_701ce71031efrow1_col6\" class=\"data row1 col6\" >1.17%</td> \n",
       "    </tr>    <tr> \n",
       "        <td id=\"T_9e9d456e_cf78_11e9_8d66_701ce71031efrow2_col0\" class=\"data row2 col0\" >computer</td> \n",
       "        <td id=\"T_9e9d456e_cf78_11e9_8d66_701ce71031efrow2_col1\" class=\"data row2 col1\" >15926</td> \n",
       "        <td id=\"T_9e9d456e_cf78_11e9_8d66_701ce71031efrow2_col2\" class=\"data row2 col2\" >4750</td> \n",
       "        <td id=\"T_9e9d456e_cf78_11e9_8d66_701ce71031efrow2_col3\" class=\"data row2 col3\" >14000</td> \n",
       "        <td id=\"T_9e9d456e_cf78_11e9_8d66_701ce71031efrow2_col4\" class=\"data row2 col4\" >37500</td> \n",
       "        <td id=\"T_9e9d456e_cf78_11e9_8d66_701ce71031efrow2_col5\" class=\"data row2 col5\" >52656</td> \n",
       "        <td id=\"T_9e9d456e_cf78_11e9_8d66_701ce71031efrow2_col6\" class=\"data row2 col6\" >75.18%</td> \n",
       "    </tr>    <tr> \n",
       "        <td id=\"T_9e9d456e_cf78_11e9_8d66_701ce71031efrow3_col0\" class=\"data row3 col0\" >service</td> \n",
       "        <td id=\"T_9e9d456e_cf78_11e9_8d66_701ce71031efrow3_col1\" class=\"data row3 col1\" >15904</td> \n",
       "        <td id=\"T_9e9d456e_cf78_11e9_8d66_701ce71031efrow3_col2\" class=\"data row3 col2\" >6500</td> \n",
       "        <td id=\"T_9e9d456e_cf78_11e9_8d66_701ce71031efrow3_col3\" class=\"data row3 col3\" >15000</td> \n",
       "        <td id=\"T_9e9d456e_cf78_11e9_8d66_701ce71031efrow3_col4\" class=\"data row3 col4\" >30000</td> \n",
       "        <td id=\"T_9e9d456e_cf78_11e9_8d66_701ce71031efrow3_col5\" class=\"data row3 col5\" >623</td> \n",
       "        <td id=\"T_9e9d456e_cf78_11e9_8d66_701ce71031efrow3_col6\" class=\"data row3 col6\" >0.89%</td> \n",
       "    </tr>    <tr> \n",
       "        <td id=\"T_9e9d456e_cf78_11e9_8d66_701ce71031efrow4_col0\" class=\"data row4 col0\" >trade</td> \n",
       "        <td id=\"T_9e9d456e_cf78_11e9_8d66_701ce71031efrow4_col1\" class=\"data row4 col1\" >15441</td> \n",
       "        <td id=\"T_9e9d456e_cf78_11e9_8d66_701ce71031efrow4_col2\" class=\"data row4 col2\" >5462</td> \n",
       "        <td id=\"T_9e9d456e_cf78_11e9_8d66_701ce71031efrow4_col3\" class=\"data row4 col3\" >14500</td> \n",
       "        <td id=\"T_9e9d456e_cf78_11e9_8d66_701ce71031efrow4_col4\" class=\"data row4 col4\" >32500</td> \n",
       "        <td id=\"T_9e9d456e_cf78_11e9_8d66_701ce71031efrow4_col5\" class=\"data row4 col5\" >4164</td> \n",
       "        <td id=\"T_9e9d456e_cf78_11e9_8d66_701ce71031efrow4_col6\" class=\"data row4 col6\" >5.95%</td> \n",
       "    </tr>    <tr> \n",
       "        <td id=\"T_9e9d456e_cf78_11e9_8d66_701ce71031efrow5_col0\" class=\"data row5 col0\" >energy</td> \n",
       "        <td id=\"T_9e9d456e_cf78_11e9_8d66_701ce71031efrow5_col1\" class=\"data row5 col1\" >14948</td> \n",
       "        <td id=\"T_9e9d456e_cf78_11e9_8d66_701ce71031efrow5_col2\" class=\"data row5 col2\" >4425</td> \n",
       "        <td id=\"T_9e9d456e_cf78_11e9_8d66_701ce71031efrow5_col3\" class=\"data row5 col3\" >15000</td> \n",
       "        <td id=\"T_9e9d456e_cf78_11e9_8d66_701ce71031efrow5_col4\" class=\"data row5 col4\" >30000</td> \n",
       "        <td id=\"T_9e9d456e_cf78_11e9_8d66_701ce71031efrow5_col5\" class=\"data row5 col5\" >683</td> \n",
       "        <td id=\"T_9e9d456e_cf78_11e9_8d66_701ce71031efrow5_col6\" class=\"data row5 col6\" >0.98%</td> \n",
       "    </tr>    <tr> \n",
       "        <td id=\"T_9e9d456e_cf78_11e9_8d66_701ce71031efrow6_col0\" class=\"data row6 col0\" >edu</td> \n",
       "        <td id=\"T_9e9d456e_cf78_11e9_8d66_701ce71031efrow6_col1\" class=\"data row6 col1\" >14820</td> \n",
       "        <td id=\"T_9e9d456e_cf78_11e9_8d66_701ce71031efrow6_col2\" class=\"data row6 col2\" >6000</td> \n",
       "        <td id=\"T_9e9d456e_cf78_11e9_8d66_701ce71031efrow6_col3\" class=\"data row6 col3\" >12500</td> \n",
       "        <td id=\"T_9e9d456e_cf78_11e9_8d66_701ce71031efrow6_col4\" class=\"data row6 col4\" >35000</td> \n",
       "        <td id=\"T_9e9d456e_cf78_11e9_8d66_701ce71031efrow6_col5\" class=\"data row6 col5\" >4732</td> \n",
       "        <td id=\"T_9e9d456e_cf78_11e9_8d66_701ce71031efrow6_col6\" class=\"data row6 col6\" >6.76%</td> \n",
       "    </tr>    <tr> \n",
       "        <td id=\"T_9e9d456e_cf78_11e9_8d66_701ce71031efrow7_col0\" class=\"data row7 col0\" >logistic</td> \n",
       "        <td id=\"T_9e9d456e_cf78_11e9_8d66_701ce71031efrow7_col1\" class=\"data row7 col1\" >14669</td> \n",
       "        <td id=\"T_9e9d456e_cf78_11e9_8d66_701ce71031efrow7_col2\" class=\"data row7 col2\" >7000</td> \n",
       "        <td id=\"T_9e9d456e_cf78_11e9_8d66_701ce71031efrow7_col3\" class=\"data row7 col3\" >12500</td> \n",
       "        <td id=\"T_9e9d456e_cf78_11e9_8d66_701ce71031efrow7_col4\" class=\"data row7 col4\" >30000</td> \n",
       "        <td id=\"T_9e9d456e_cf78_11e9_8d66_701ce71031efrow7_col5\" class=\"data row7 col5\" >808</td> \n",
       "        <td id=\"T_9e9d456e_cf78_11e9_8d66_701ce71031efrow7_col6\" class=\"data row7 col6\" >1.15%</td> \n",
       "    </tr>    <tr> \n",
       "        <td id=\"T_9e9d456e_cf78_11e9_8d66_701ce71031efrow8_col0\" class=\"data row8 col0\" >realestate</td> \n",
       "        <td id=\"T_9e9d456e_cf78_11e9_8d66_701ce71031efrow8_col1\" class=\"data row8 col1\" >14625</td> \n",
       "        <td id=\"T_9e9d456e_cf78_11e9_8d66_701ce71031efrow8_col2\" class=\"data row8 col2\" >4440</td> \n",
       "        <td id=\"T_9e9d456e_cf78_11e9_8d66_701ce71031efrow8_col3\" class=\"data row8 col3\" >12500</td> \n",
       "        <td id=\"T_9e9d456e_cf78_11e9_8d66_701ce71031efrow8_col4\" class=\"data row8 col4\" >28544</td> \n",
       "        <td id=\"T_9e9d456e_cf78_11e9_8d66_701ce71031efrow8_col5\" class=\"data row8 col5\" >996</td> \n",
       "        <td id=\"T_9e9d456e_cf78_11e9_8d66_701ce71031efrow8_col6\" class=\"data row8 col6\" >1.42%</td> \n",
       "    </tr>    <tr> \n",
       "        <td id=\"T_9e9d456e_cf78_11e9_8d66_701ce71031efrow9_col0\" class=\"data row9 col0\" >gov</td> \n",
       "        <td id=\"T_9e9d456e_cf78_11e9_8d66_701ce71031efrow9_col1\" class=\"data row9 col1\" >14586</td> \n",
       "        <td id=\"T_9e9d456e_cf78_11e9_8d66_701ce71031efrow9_col2\" class=\"data row9 col2\" >5068</td> \n",
       "        <td id=\"T_9e9d456e_cf78_11e9_8d66_701ce71031efrow9_col3\" class=\"data row9 col3\" >14000</td> \n",
       "        <td id=\"T_9e9d456e_cf78_11e9_8d66_701ce71031efrow9_col4\" class=\"data row9 col4\" >29166</td> \n",
       "        <td id=\"T_9e9d456e_cf78_11e9_8d66_701ce71031efrow9_col5\" class=\"data row9 col5\" >803</td> \n",
       "        <td id=\"T_9e9d456e_cf78_11e9_8d66_701ce71031efrow9_col6\" class=\"data row9 col6\" >1.15%</td> \n",
       "    </tr>    <tr> \n",
       "        <td id=\"T_9e9d456e_cf78_11e9_8d66_701ce71031efrow10_col0\" class=\"data row10 col0\" >medical</td> \n",
       "        <td id=\"T_9e9d456e_cf78_11e9_8d66_701ce71031efrow10_col1\" class=\"data row10 col1\" >13655</td> \n",
       "        <td id=\"T_9e9d456e_cf78_11e9_8d66_701ce71031efrow10_col2\" class=\"data row10 col2\" >3750</td> \n",
       "        <td id=\"T_9e9d456e_cf78_11e9_8d66_701ce71031efrow10_col3\" class=\"data row10 col3\" >12500</td> \n",
       "        <td id=\"T_9e9d456e_cf78_11e9_8d66_701ce71031efrow10_col4\" class=\"data row10 col4\" >27500</td> \n",
       "        <td id=\"T_9e9d456e_cf78_11e9_8d66_701ce71031efrow10_col5\" class=\"data row10 col5\" >1520</td> \n",
       "        <td id=\"T_9e9d456e_cf78_11e9_8d66_701ce71031efrow10_col6\" class=\"data row10 col6\" >2.17%</td> \n",
       "    </tr></tbody> \n",
       "</table> "
      ],
      "text/plain": [
       "<pandas.io.formats.style.Styler at 0x1f15d9b12b0>"
      ]
     },
     "execution_count": 48,
     "metadata": {},
     "output_type": "execute_result"
    }
   ],
   "source": [
    "data_industry=get_sub_stats_by_col(data,'industry')\n",
    "apply_style(data_industry)"
   ]
  },
  {
   "cell_type": "code",
   "execution_count": null,
   "metadata": {},
   "outputs": [],
   "source": []
  },
  {
   "cell_type": "code",
   "execution_count": null,
   "metadata": {},
   "outputs": [],
   "source": []
  }
 ],
 "metadata": {
  "kernelspec": {
   "display_name": "Python 3",
   "language": "python",
   "name": "python3"
  },
  "language_info": {
   "codemirror_mode": {
    "name": "ipython",
    "version": 3
   },
   "file_extension": ".py",
   "mimetype": "text/x-python",
   "name": "python",
   "nbconvert_exporter": "python",
   "pygments_lexer": "ipython3",
   "version": "3.7.1"
  }
 },
 "nbformat": 4,
 "nbformat_minor": 2
}
