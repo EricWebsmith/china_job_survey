{
 "cells": [
  {
   "cell_type": "code",
   "execution_count": null,
   "metadata": {
    "collapsed": true
   },
   "outputs": [],
   "source": []
  },
  {
   "cell_type": "markdown",
   "metadata": {},
   "source": [
    "# Developer Salary in China 全国程序员工资调查\n",
    "我在4月1日到3日之间，抓取了某招聘网站的软件和互联网类招聘数据40万条，其中通过程序判断为程序员的14万条。地域方面，我选择了24个主要城市。"
   ]
  },
  {
   "cell_type": "code",
   "execution_count": 1,
   "metadata": {},
   "outputs": [],
   "source": [
    "import pandas as pd\n",
    "import db\n",
    "import inspect\n",
    "import matplotlib.pyplot as plt\n",
    "import seaborn as sns\n",
    "import scipy.stats as stats\n",
    "import numpy as np\n",
    "%matplotlib inline"
   ]
  },
  {
   "cell_type": "code",
   "execution_count": 3,
   "metadata": {},
   "outputs": [],
   "source": [
    "conn=db.get_conn()\n",
    "data_original=pd.read_sql(sql=\"select * from _201904 where monthly_salary>0 and monthly_salary<15\", con=conn)\n",
    "conn.close()"
   ]
  },
  {
   "cell_type": "code",
   "execution_count": 4,
   "metadata": {},
   "outputs": [],
   "source": [
    "error_job_ids=['104660258','104142922','108434795','101357291','106253516','110368302','111391233','108665401','109277048'\n",
    "                  ,'73857191','108584955','102824950','102824949','111391233','110884556']\n",
    "data=data_original[~data_original.job_id.isin(error_job_ids)]"
   ]
  },
  {
   "cell_type": "code",
   "execution_count": 5,
   "metadata": {},
   "outputs": [],
   "source": [
    "del data['publish_date']\n",
    "del data['published_on_weekend']\n",
    "del data['title']\n",
    "del data['company_title']\n",
    "del data['company_description']\n",
    "del data['job_description']\n",
    "del data['job_id']"
   ]
  },
  {
   "cell_type": "code",
   "execution_count": null,
   "metadata": {},
   "outputs": [],
   "source": []
  },
  {
   "cell_type": "markdown",
   "metadata": {},
   "source": [
    "# Unilateral Stats 总体统计"
   ]
  },
  {
   "cell_type": "code",
   "execution_count": null,
   "metadata": {},
   "outputs": [],
   "source": []
  },
  {
   "cell_type": "code",
   "execution_count": null,
   "metadata": {},
   "outputs": [],
   "source": []
  },
  {
   "cell_type": "markdown",
   "metadata": {},
   "source": [
    "有数据可知，程序员向一线城市集中的趋势非常明显。\n",
    "\n",
    "According to the statistics, significant amount of developers are in the first tier cities."
   ]
  },
  {
   "cell_type": "code",
   "execution_count": 6,
   "metadata": {},
   "outputs": [
    {
     "name": "stdout",
     "output_type": "stream",
     "text": [
      "2019年中国大陆一二线城市程序员的平均工资为13756元，工资中位数为12500元，其中95%的人的工资位于3750到33333元之间。\n"
     ]
    }
   ],
   "source": [
    "salary_mean=data.monthly_salary.mean()*10000\n",
    "salary_median=data.monthly_salary.median()*10000\n",
    "q=np.quantile(data.monthly_salary,[0.025,0.975])*10000\n",
    "print('2019年中国大陆一二线城市程序员的平均工资为{:.0f}元，工资中位数为{:.0f}元，其中95%的人的工资位于{:.0f}到{:.0f}元之间。'\n",
    "      .format(salary_mean, salary_median, q[0], q[1]))"
   ]
  },
  {
   "cell_type": "code",
   "execution_count": 7,
   "metadata": {},
   "outputs": [
    {
     "name": "stdout",
     "output_type": "stream",
     "text": [
      "In 2019, Developers in China earn 13756 Yuan as average, the median is 12500 Yuan, 95% of them earn between 3750 and 33333 Yuan.\n"
     ]
    }
   ],
   "source": [
    "print('In 2019, Developers in China earn {:.0f} Yuan as average, '\n",
    "      'the median is {:.0f} Yuan, 95% of them earn between {:.0f} and {:.0f} Yuan.'\n",
    "      .format(salary_mean, salary_median, q[0], q[1]))"
   ]
  },
  {
   "cell_type": "code",
   "execution_count": null,
   "metadata": {},
   "outputs": [],
   "source": []
  },
  {
   "cell_type": "code",
   "execution_count": null,
   "metadata": {},
   "outputs": [],
   "source": []
  },
  {
   "cell_type": "code",
   "execution_count": 8,
   "metadata": {},
   "outputs": [
    {
     "data": {
      "text/plain": [
       "<matplotlib.axes._subplots.AxesSubplot at 0x1f7c0716748>"
      ]
     },
     "execution_count": 8,
     "metadata": {},
     "output_type": "execute_result"
    },
    {
     "data": {
      "image/png": "[encoded data removed]",
      "text/plain": [
       "<Figure size 432x288 with 1 Axes>"
      ]
     },
     "metadata": {
      "needs_background": "light"
     },
     "output_type": "display_data"
    }
   ],
   "source": [
    "data.monthly_salary.hist()"
   ]
  },
  {
   "cell_type": "markdown",
   "metadata": {},
   "source": [
    "It does not look like normal distribution."
   ]
  },
  {
   "cell_type": "code",
   "execution_count": 9,
   "metadata": {},
   "outputs": [],
   "source": [
    "from scipy import stats"
   ]
  },
  {
   "cell_type": "code",
   "execution_count": 10,
   "metadata": {},
   "outputs": [
    {
     "data": {
      "text/plain": [
       "NormaltestResult(statistic=80485.89395778668, pvalue=0.0)"
      ]
     },
     "execution_count": 10,
     "metadata": {},
     "output_type": "execute_result"
    }
   ],
   "source": [
    "stats.normaltest(data.monthly_salary)"
   ]
  },
  {
   "cell_type": "markdown",
   "metadata": {},
   "source": [
    "null hypothesis: x comes from a normal distribution\n",
    "    \n",
    "p=0\n",
    "\n",
    "The null hypothesis can be rejected\n",
    "\n",
    "conclusion: data is not normally distributed."
   ]
  },
  {
   "cell_type": "markdown",
   "metadata": {},
   "source": [
    "Zoom in"
   ]
  },
  {
   "cell_type": "code",
   "execution_count": 13,
   "metadata": {},
   "outputs": [
    {
     "data": {
      "image/png": "[encoded data removed]",
      "text/plain": [
       "<Figure size 432x288 with 1 Axes>"
      ]
     },
     "metadata": {
      "needs_background": "light"
     },
     "output_type": "display_data"
    }
   ],
   "source": [
    "data[data.monthly_salary<4].monthly_salary.hist()\n",
    "plt.annotate('https://github.com/juwikuang/china_job_survey', xy=(0,0), xytext=(0.15, 500), color='white')\n",
    "plt.show()"
   ]
  },
  {
   "cell_type": "code",
   "execution_count": null,
   "metadata": {},
   "outputs": [],
   "source": []
  },
  {
   "cell_type": "code",
   "execution_count": null,
   "metadata": {},
   "outputs": [],
   "source": []
  },
  {
   "cell_type": "markdown",
   "metadata": {},
   "source": [
    "## Role 角色"
   ]
  },
  {
   "cell_type": "code",
   "execution_count": 14,
   "metadata": {},
   "outputs": [],
   "source": [
    "def get_sub_stats(data, prefix):\n",
    "    \n",
    "    features = [feature for feature in data.columns if feature.startswith(prefix)]\n",
    "    salary_mean=[]\n",
    "    salary_median=[]\n",
    "    count=[]\n",
    "    for feature in features:\n",
    "        salary_mean.append(data[data[feature]==1].monthly_salary.mean()*10000)\n",
    "        salary_median.append(data[data[feature]==1].monthly_salary.median()*10000)\n",
    "        count.append(data[data[feature]==1].shape[0])\n",
    "    sub_data=pd.DataFrame()\n",
    "    sub_data[prefix]=[f.replace(prefix,'') for f in features]\n",
    "    sub_data['salary_mean']=salary_mean\n",
    "    sub_data['salary_median']=salary_median\n",
    "    sub_data['head_count']=count\n",
    "    sub_data['percentage']=count/np.sum(count)\n",
    "    sub_data=sub_data.sort_values(by='salary_mean', ascending=False)\n",
    "\n",
    "    return sub_data"
   ]
  },
  {
   "cell_type": "code",
   "execution_count": 15,
   "metadata": {},
   "outputs": [],
   "source": [
    "def add_category_column(data, prefix):\n",
    "    prefix_=prefix+\"_\"\n",
    "    features = [feature for feature in data.columns if feature.startswith(prefix)]\n",
    "    data.loc[:,prefix]=['']*data.shape[0]\n",
    "    for feature in features:\n",
    "        data.loc[data[feature]==1,prefix]=feature.replace(prefix_,'')\n",
    "    return data"
   ]
  },
  {
   "cell_type": "code",
   "execution_count": 16,
   "metadata": {},
   "outputs": [
    {
     "data": {
      "text/html": [
       "<style  type=\"text/css\" >\n",
       "</style>  \n",
       "<table id=\"T_bfbad1fa_59bd_11e9_83ec_701ce71031ef\" > \n",
       "<thead>    <tr> \n",
       "        <th class=\"blank level0\" ></th> \n",
       "        <th class=\"col_heading level0 col0\" >career_</th> \n",
       "        <th class=\"col_heading level0 col1\" >salary_mean</th> \n",
       "        <th class=\"col_heading level0 col2\" >salary_median</th> \n",
       "        <th class=\"col_heading level0 col3\" >head_count</th> \n",
       "        <th class=\"col_heading level0 col4\" >percentage</th> \n",
       "    </tr></thead> \n",
       "<tbody>    <tr> \n",
       "        <th id=\"T_bfbad1fa_59bd_11e9_83ec_701ce71031eflevel0_row0\" class=\"row_heading level0 row0\" >1</th> \n",
       "        <td id=\"T_bfbad1fa_59bd_11e9_83ec_701ce71031efrow0_col0\" class=\"data row0 col0\" >architect</td> \n",
       "        <td id=\"T_bfbad1fa_59bd_11e9_83ec_701ce71031efrow0_col1\" class=\"data row0 col1\" >21490.6</td> \n",
       "        <td id=\"T_bfbad1fa_59bd_11e9_83ec_701ce71031efrow0_col2\" class=\"data row0 col2\" >20000</td> \n",
       "        <td id=\"T_bfbad1fa_59bd_11e9_83ec_701ce71031efrow0_col3\" class=\"data row0 col3\" >6233</td> \n",
       "        <td id=\"T_bfbad1fa_59bd_11e9_83ec_701ce71031efrow0_col4\" class=\"data row0 col4\" >4.36%</td> \n",
       "    </tr>    <tr> \n",
       "        <th id=\"T_bfbad1fa_59bd_11e9_83ec_701ce71031eflevel0_row1\" class=\"row_heading level0 row1\" >0</th> \n",
       "        <td id=\"T_bfbad1fa_59bd_11e9_83ec_701ce71031efrow1_col0\" class=\"data row1 col0\" >algorithm</td> \n",
       "        <td id=\"T_bfbad1fa_59bd_11e9_83ec_701ce71031efrow1_col1\" class=\"data row1 col1\" >20312</td> \n",
       "        <td id=\"T_bfbad1fa_59bd_11e9_83ec_701ce71031efrow1_col2\" class=\"data row1 col2\" >18000</td> \n",
       "        <td id=\"T_bfbad1fa_59bd_11e9_83ec_701ce71031efrow1_col3\" class=\"data row1 col3\" >15821</td> \n",
       "        <td id=\"T_bfbad1fa_59bd_11e9_83ec_701ce71031efrow1_col4\" class=\"data row1 col4\" >11.06%</td> \n",
       "    </tr>    <tr> \n",
       "        <th id=\"T_bfbad1fa_59bd_11e9_83ec_701ce71031eflevel0_row2\" class=\"row_heading level0 row2\" >3</th> \n",
       "        <td id=\"T_bfbad1fa_59bd_11e9_83ec_701ce71031efrow2_col0\" class=\"data row2 col0\" >spider</td> \n",
       "        <td id=\"T_bfbad1fa_59bd_11e9_83ec_701ce71031efrow2_col1\" class=\"data row2 col1\" >13876.9</td> \n",
       "        <td id=\"T_bfbad1fa_59bd_11e9_83ec_701ce71031efrow2_col2\" class=\"data row2 col2\" >12500</td> \n",
       "        <td id=\"T_bfbad1fa_59bd_11e9_83ec_701ce71031efrow2_col3\" class=\"data row2 col3\" >297</td> \n",
       "        <td id=\"T_bfbad1fa_59bd_11e9_83ec_701ce71031efrow2_col4\" class=\"data row2 col4\" >0.21%</td> \n",
       "    </tr>    <tr> \n",
       "        <th id=\"T_bfbad1fa_59bd_11e9_83ec_701ce71031eflevel0_row3\" class=\"row_heading level0 row3\" >2</th> \n",
       "        <td id=\"T_bfbad1fa_59bd_11e9_83ec_701ce71031efrow3_col0\" class=\"data row3 col0\" >software_engineer</td> \n",
       "        <td id=\"T_bfbad1fa_59bd_11e9_83ec_701ce71031efrow3_col1\" class=\"data row3 col1\" >12817.3</td> \n",
       "        <td id=\"T_bfbad1fa_59bd_11e9_83ec_701ce71031efrow3_col2\" class=\"data row3 col2\" >12500</td> \n",
       "        <td id=\"T_bfbad1fa_59bd_11e9_83ec_701ce71031efrow3_col3\" class=\"data row3 col3\" >120746</td> \n",
       "        <td id=\"T_bfbad1fa_59bd_11e9_83ec_701ce71031efrow3_col4\" class=\"data row3 col4\" >84.38%</td> \n",
       "    </tr></tbody> \n",
       "</table> "
      ],
      "text/plain": [
       "<pandas.io.formats.style.Styler at 0x1f798616748>"
      ]
     },
     "execution_count": 16,
     "metadata": {},
     "output_type": "execute_result"
    }
   ],
   "source": [
    "data_career=get_sub_stats(data,'career_')\n",
    "data_career.style.format({\"percentage\":\"{:.2%}\"})"
   ]
  },
  {
   "cell_type": "markdown",
   "metadata": {},
   "source": [
    "有表可知，架构师的工资平均为2.1万，算法工程师为2万，普通程序员为1万3。\n"
   ]
  },
  {
   "cell_type": "code",
   "execution_count": 17,
   "metadata": {},
   "outputs": [
    {
     "data": {
      "text/plain": [
       "F_onewayResult(statistic=15108.459348816918, pvalue=0.0)"
      ]
     },
     "execution_count": 17,
     "metadata": {},
     "output_type": "execute_result"
    }
   ],
   "source": [
    "career_architect_salary=data[data.career_architect==1].monthly_salary\n",
    "career_algorithm_salary=data[data.career_algorithm==1].monthly_salary\n",
    "career_software_engineer_salary=data[data.career_software_engineer==1].monthly_salary\n",
    "stats.f_oneway(career_algorithm_salary, career_software_engineer_salary)"
   ]
  },
  {
   "cell_type": "code",
   "execution_count": 18,
   "metadata": {},
   "outputs": [
    {
     "data": {
      "text/plain": [
       "F_onewayResult(statistic=50.85401453755663, pvalue=1.0257032259318573e-12)"
      ]
     },
     "execution_count": 18,
     "metadata": {},
     "output_type": "execute_result"
    }
   ],
   "source": [
    "stats.f_oneway(career_architect_salary, career_algorithm_salary)"
   ]
  },
  {
   "cell_type": "code",
   "execution_count": null,
   "metadata": {},
   "outputs": [],
   "source": []
  },
  {
   "cell_type": "markdown",
   "metadata": {},
   "source": [
    "统计表面，架构师，算法工程师，普通程序员之间的平均工资差异是显著的。"
   ]
  },
  {
   "cell_type": "markdown",
   "metadata": {},
   "source": [
    "# 编程语言"
   ]
  },
  {
   "cell_type": "code",
   "execution_count": 20,
   "metadata": {},
   "outputs": [
    {
     "data": {
      "text/html": [
       "<style  type=\"text/css\" >\n",
       "</style>  \n",
       "<table id=\"T_c9ceab64_59bd_11e9_a7b7_701ce71031ef\" > \n",
       "<thead>    <tr> \n",
       "        <th class=\"blank level0\" ></th> \n",
       "        <th class=\"col_heading level0 col0\" >pl_</th> \n",
       "        <th class=\"col_heading level0 col1\" >salary_mean</th> \n",
       "        <th class=\"col_heading level0 col2\" >salary_median</th> \n",
       "        <th class=\"col_heading level0 col3\" >head_count</th> \n",
       "        <th class=\"col_heading level0 col4\" >percentage</th> \n",
       "    </tr></thead> \n",
       "<tbody>    <tr> \n",
       "        <th id=\"T_c9ceab64_59bd_11e9_a7b7_701ce71031eflevel0_row0\" class=\"row_heading level0 row0\" >7</th> \n",
       "        <td id=\"T_c9ceab64_59bd_11e9_a7b7_701ce71031efrow0_col0\" class=\"data row0 col0\" >java</td> \n",
       "        <td id=\"T_c9ceab64_59bd_11e9_a7b7_701ce71031efrow0_col1\" class=\"data row0 col1\" >14155.7</td> \n",
       "        <td id=\"T_c9ceab64_59bd_11e9_a7b7_701ce71031efrow0_col2\" class=\"data row0 col2\" >12500</td> \n",
       "        <td id=\"T_c9ceab64_59bd_11e9_a7b7_701ce71031efrow0_col3\" class=\"data row0 col3\" >53327</td> \n",
       "        <td id=\"T_c9ceab64_59bd_11e9_a7b7_701ce71031efrow0_col4\" class=\"data row0 col4\" >29.28%</td> \n",
       "    </tr>    <tr> \n",
       "        <th id=\"T_c9ceab64_59bd_11e9_a7b7_701ce71031eflevel0_row1\" class=\"row_heading level0 row1\" >2</th> \n",
       "        <td id=\"T_c9ceab64_59bd_11e9_a7b7_701ce71031efrow1_col0\" class=\"data row1 col0\" >cpp</td> \n",
       "        <td id=\"T_c9ceab64_59bd_11e9_a7b7_701ce71031efrow1_col1\" class=\"data row1 col1\" >15869.1</td> \n",
       "        <td id=\"T_c9ceab64_59bd_11e9_a7b7_701ce71031efrow1_col2\" class=\"data row1 col2\" >14000</td> \n",
       "        <td id=\"T_c9ceab64_59bd_11e9_a7b7_701ce71031efrow1_col3\" class=\"data row1 col3\" >29281</td> \n",
       "        <td id=\"T_c9ceab64_59bd_11e9_a7b7_701ce71031efrow1_col4\" class=\"data row1 col4\" >16.08%</td> \n",
       "    </tr>    <tr> \n",
       "        <th id=\"T_c9ceab64_59bd_11e9_a7b7_701ce71031eflevel0_row2\" class=\"row_heading level0 row2\" >8</th> \n",
       "        <td id=\"T_c9ceab64_59bd_11e9_a7b7_701ce71031efrow2_col0\" class=\"data row2 col0\" >javascript</td> \n",
       "        <td id=\"T_c9ceab64_59bd_11e9_a7b7_701ce71031efrow2_col1\" class=\"data row2 col1\" >12274.7</td> \n",
       "        <td id=\"T_c9ceab64_59bd_11e9_a7b7_701ce71031efrow2_col2\" class=\"data row2 col2\" >11500</td> \n",
       "        <td id=\"T_c9ceab64_59bd_11e9_a7b7_701ce71031efrow2_col3\" class=\"data row2 col3\" >27483</td> \n",
       "        <td id=\"T_c9ceab64_59bd_11e9_a7b7_701ce71031efrow2_col4\" class=\"data row2 col4\" >15.09%</td> \n",
       "    </tr>    <tr> \n",
       "        <th id=\"T_c9ceab64_59bd_11e9_a7b7_701ce71031eflevel0_row3\" class=\"row_heading level0 row3\" >1</th> \n",
       "        <td id=\"T_c9ceab64_59bd_11e9_a7b7_701ce71031efrow3_col0\" class=\"data row3 col0\" >c_sharp</td> \n",
       "        <td id=\"T_c9ceab64_59bd_11e9_a7b7_701ce71031efrow3_col1\" class=\"data row3 col1\" >12008.1</td> \n",
       "        <td id=\"T_c9ceab64_59bd_11e9_a7b7_701ce71031efrow3_col2\" class=\"data row3 col2\" >11500</td> \n",
       "        <td id=\"T_c9ceab64_59bd_11e9_a7b7_701ce71031efrow3_col3\" class=\"data row3 col3\" >19954</td> \n",
       "        <td id=\"T_c9ceab64_59bd_11e9_a7b7_701ce71031efrow3_col4\" class=\"data row3 col4\" >10.96%</td> \n",
       "    </tr>    <tr> \n",
       "        <th id=\"T_c9ceab64_59bd_11e9_a7b7_701ce71031eflevel0_row4\" class=\"row_heading level0 row4\" >16</th> \n",
       "        <td id=\"T_c9ceab64_59bd_11e9_a7b7_701ce71031efrow4_col0\" class=\"data row4 col0\" >python</td> \n",
       "        <td id=\"T_c9ceab64_59bd_11e9_a7b7_701ce71031efrow4_col1\" class=\"data row4 col1\" >17751.1</td> \n",
       "        <td id=\"T_c9ceab64_59bd_11e9_a7b7_701ce71031efrow4_col2\" class=\"data row4 col2\" >15000</td> \n",
       "        <td id=\"T_c9ceab64_59bd_11e9_a7b7_701ce71031efrow4_col3\" class=\"data row4 col3\" >14946</td> \n",
       "        <td id=\"T_c9ceab64_59bd_11e9_a7b7_701ce71031efrow4_col4\" class=\"data row4 col4\" >8.21%</td> \n",
       "    </tr>    <tr> \n",
       "        <th id=\"T_c9ceab64_59bd_11e9_a7b7_701ce71031eflevel0_row5\" class=\"row_heading level0 row5\" >4</th> \n",
       "        <td id=\"T_c9ceab64_59bd_11e9_a7b7_701ce71031efrow5_col0\" class=\"data row5 col0\" >go</td> \n",
       "        <td id=\"T_c9ceab64_59bd_11e9_a7b7_701ce71031efrow5_col1\" class=\"data row5 col1\" >17567.8</td> \n",
       "        <td id=\"T_c9ceab64_59bd_11e9_a7b7_701ce71031efrow5_col2\" class=\"data row5 col2\" >15000</td> \n",
       "        <td id=\"T_c9ceab64_59bd_11e9_a7b7_701ce71031efrow5_col3\" class=\"data row5 col3\" >12630</td> \n",
       "        <td id=\"T_c9ceab64_59bd_11e9_a7b7_701ce71031efrow5_col4\" class=\"data row5 col4\" >6.94%</td> \n",
       "    </tr>    <tr> \n",
       "        <th id=\"T_c9ceab64_59bd_11e9_a7b7_701ce71031eflevel0_row6\" class=\"row_heading level0 row6\" >15</th> \n",
       "        <td id=\"T_c9ceab64_59bd_11e9_a7b7_701ce71031efrow6_col0\" class=\"data row6 col0\" >php</td> \n",
       "        <td id=\"T_c9ceab64_59bd_11e9_a7b7_701ce71031efrow6_col1\" class=\"data row6 col1\" >13163.2</td> \n",
       "        <td id=\"T_c9ceab64_59bd_11e9_a7b7_701ce71031efrow6_col2\" class=\"data row6 col2\" >12000</td> \n",
       "        <td id=\"T_c9ceab64_59bd_11e9_a7b7_701ce71031efrow6_col3\" class=\"data row6 col3\" >9457</td> \n",
       "        <td id=\"T_c9ceab64_59bd_11e9_a7b7_701ce71031efrow6_col4\" class=\"data row6 col4\" >5.19%</td> \n",
       "    </tr>    <tr> \n",
       "        <th id=\"T_c9ceab64_59bd_11e9_a7b7_701ce71031eflevel0_row7\" class=\"row_heading level0 row7\" >12</th> \n",
       "        <td id=\"T_c9ceab64_59bd_11e9_a7b7_701ce71031efrow7_col0\" class=\"data row7 col0\" >matlab</td> \n",
       "        <td id=\"T_c9ceab64_59bd_11e9_a7b7_701ce71031efrow7_col1\" class=\"data row7 col1\" >17720.6</td> \n",
       "        <td id=\"T_c9ceab64_59bd_11e9_a7b7_701ce71031efrow7_col2\" class=\"data row7 col2\" >16000</td> \n",
       "        <td id=\"T_c9ceab64_59bd_11e9_a7b7_701ce71031efrow7_col3\" class=\"data row7 col3\" >2691</td> \n",
       "        <td id=\"T_c9ceab64_59bd_11e9_a7b7_701ce71031efrow7_col4\" class=\"data row7 col4\" >1.48%</td> \n",
       "    </tr>    <tr> \n",
       "        <th id=\"T_c9ceab64_59bd_11e9_a7b7_701ce71031eflevel0_row8\" class=\"row_heading level0 row8\" >11</th> \n",
       "        <td id=\"T_c9ceab64_59bd_11e9_a7b7_701ce71031efrow8_col0\" class=\"data row8 col0\" >lua</td> \n",
       "        <td id=\"T_c9ceab64_59bd_11e9_a7b7_701ce71031efrow8_col1\" class=\"data row8 col1\" >16210.1</td> \n",
       "        <td id=\"T_c9ceab64_59bd_11e9_a7b7_701ce71031efrow8_col2\" class=\"data row8 col2\" >15000</td> \n",
       "        <td id=\"T_c9ceab64_59bd_11e9_a7b7_701ce71031efrow8_col3\" class=\"data row8 col3\" >2327</td> \n",
       "        <td id=\"T_c9ceab64_59bd_11e9_a7b7_701ce71031efrow8_col4\" class=\"data row8 col4\" >1.28%</td> \n",
       "    </tr>    <tr> \n",
       "        <th id=\"T_c9ceab64_59bd_11e9_a7b7_701ce71031eflevel0_row9\" class=\"row_heading level0 row9\" >20</th> \n",
       "        <td id=\"T_c9ceab64_59bd_11e9_a7b7_701ce71031efrow9_col0\" class=\"data row9 col0\" >swift</td> \n",
       "        <td id=\"T_c9ceab64_59bd_11e9_a7b7_701ce71031efrow9_col1\" class=\"data row9 col1\" >14246.1</td> \n",
       "        <td id=\"T_c9ceab64_59bd_11e9_a7b7_701ce71031efrow9_col2\" class=\"data row9 col2\" >12500</td> \n",
       "        <td id=\"T_c9ceab64_59bd_11e9_a7b7_701ce71031efrow9_col3\" class=\"data row9 col3\" >1515</td> \n",
       "        <td id=\"T_c9ceab64_59bd_11e9_a7b7_701ce71031efrow9_col4\" class=\"data row9 col4\" >0.83%</td> \n",
       "    </tr>    <tr> \n",
       "        <th id=\"T_c9ceab64_59bd_11e9_a7b7_701ce71031eflevel0_row10\" class=\"row_heading level0 row10\" >19</th> \n",
       "        <td id=\"T_c9ceab64_59bd_11e9_a7b7_701ce71031efrow10_col0\" class=\"data row10 col0\" >scala</td> \n",
       "        <td id=\"T_c9ceab64_59bd_11e9_a7b7_701ce71031efrow10_col1\" class=\"data row10 col1\" >20518.4</td> \n",
       "        <td id=\"T_c9ceab64_59bd_11e9_a7b7_701ce71031efrow10_col2\" class=\"data row10 col2\" >18500</td> \n",
       "        <td id=\"T_c9ceab64_59bd_11e9_a7b7_701ce71031efrow10_col3\" class=\"data row10 col3\" >1443</td> \n",
       "        <td id=\"T_c9ceab64_59bd_11e9_a7b7_701ce71031efrow10_col4\" class=\"data row10 col4\" >0.79%</td> \n",
       "    </tr>    <tr> \n",
       "        <th id=\"T_c9ceab64_59bd_11e9_a7b7_701ce71031eflevel0_row11\" class=\"row_heading level0 row11\" >14</th> \n",
       "        <td id=\"T_c9ceab64_59bd_11e9_a7b7_701ce71031efrow11_col0\" class=\"data row11 col0\" >perl</td> \n",
       "        <td id=\"T_c9ceab64_59bd_11e9_a7b7_701ce71031efrow11_col1\" class=\"data row11 col1\" >17219.9</td> \n",
       "        <td id=\"T_c9ceab64_59bd_11e9_a7b7_701ce71031efrow11_col2\" class=\"data row11 col2\" >15000</td> \n",
       "        <td id=\"T_c9ceab64_59bd_11e9_a7b7_701ce71031efrow11_col3\" class=\"data row11 col3\" >1381</td> \n",
       "        <td id=\"T_c9ceab64_59bd_11e9_a7b7_701ce71031efrow11_col4\" class=\"data row11 col4\" >0.76%</td> \n",
       "    </tr>    <tr> \n",
       "        <th id=\"T_c9ceab64_59bd_11e9_a7b7_701ce71031eflevel0_row12\" class=\"row_heading level0 row12\" >0</th> \n",
       "        <td id=\"T_c9ceab64_59bd_11e9_a7b7_701ce71031efrow12_col0\" class=\"data row12 col0\" >assembly</td> \n",
       "        <td id=\"T_c9ceab64_59bd_11e9_a7b7_701ce71031efrow12_col1\" class=\"data row12 col1\" >15411</td> \n",
       "        <td id=\"T_c9ceab64_59bd_11e9_a7b7_701ce71031efrow12_col2\" class=\"data row12 col2\" >13000</td> \n",
       "        <td id=\"T_c9ceab64_59bd_11e9_a7b7_701ce71031efrow12_col3\" class=\"data row12 col3\" >1095</td> \n",
       "        <td id=\"T_c9ceab64_59bd_11e9_a7b7_701ce71031efrow12_col4\" class=\"data row12 col4\" >0.60%</td> \n",
       "    </tr>    <tr> \n",
       "        <th id=\"T_c9ceab64_59bd_11e9_a7b7_701ce71031eflevel0_row13\" class=\"row_heading level0 row13\" >21</th> \n",
       "        <td id=\"T_c9ceab64_59bd_11e9_a7b7_701ce71031efrow13_col0\" class=\"data row13 col0\" >typescript</td> \n",
       "        <td id=\"T_c9ceab64_59bd_11e9_a7b7_701ce71031efrow13_col1\" class=\"data row13 col1\" >14287.9</td> \n",
       "        <td id=\"T_c9ceab64_59bd_11e9_a7b7_701ce71031efrow13_col2\" class=\"data row13 col2\" >12500</td> \n",
       "        <td id=\"T_c9ceab64_59bd_11e9_a7b7_701ce71031efrow13_col3\" class=\"data row13 col3\" >983</td> \n",
       "        <td id=\"T_c9ceab64_59bd_11e9_a7b7_701ce71031efrow13_col4\" class=\"data row13 col4\" >0.54%</td> \n",
       "    </tr>    <tr> \n",
       "        <th id=\"T_c9ceab64_59bd_11e9_a7b7_701ce71031eflevel0_row14\" class=\"row_heading level0 row14\" >17</th> \n",
       "        <td id=\"T_c9ceab64_59bd_11e9_a7b7_701ce71031efrow14_col0\" class=\"data row14 col0\" >ruby</td> \n",
       "        <td id=\"T_c9ceab64_59bd_11e9_a7b7_701ce71031efrow14_col1\" class=\"data row14 col1\" >16159.7</td> \n",
       "        <td id=\"T_c9ceab64_59bd_11e9_a7b7_701ce71031efrow14_col2\" class=\"data row14 col2\" >14500</td> \n",
       "        <td id=\"T_c9ceab64_59bd_11e9_a7b7_701ce71031efrow14_col3\" class=\"data row14 col3\" >716</td> \n",
       "        <td id=\"T_c9ceab64_59bd_11e9_a7b7_701ce71031efrow14_col4\" class=\"data row14 col4\" >0.39%</td> \n",
       "    </tr>    <tr> \n",
       "        <th id=\"T_c9ceab64_59bd_11e9_a7b7_701ce71031eflevel0_row15\" class=\"row_heading level0 row15\" >25</th> \n",
       "        <td id=\"T_c9ceab64_59bd_11e9_a7b7_701ce71031efrow15_col0\" class=\"data row15 col0\" >r</td> \n",
       "        <td id=\"T_c9ceab64_59bd_11e9_a7b7_701ce71031efrow15_col1\" class=\"data row15 col1\" >17300.9</td> \n",
       "        <td id=\"T_c9ceab64_59bd_11e9_a7b7_701ce71031efrow15_col2\" class=\"data row15 col2\" >15000</td> \n",
       "        <td id=\"T_c9ceab64_59bd_11e9_a7b7_701ce71031efrow15_col3\" class=\"data row15 col3\" >648</td> \n",
       "        <td id=\"T_c9ceab64_59bd_11e9_a7b7_701ce71031efrow15_col4\" class=\"data row15 col4\" >0.36%</td> \n",
       "    </tr>    <tr> \n",
       "        <th id=\"T_c9ceab64_59bd_11e9_a7b7_701ce71031eflevel0_row16\" class=\"row_heading level0 row16\" >3</th> \n",
       "        <td id=\"T_c9ceab64_59bd_11e9_a7b7_701ce71031efrow16_col0\" class=\"data row16 col0\" >delphi</td> \n",
       "        <td id=\"T_c9ceab64_59bd_11e9_a7b7_701ce71031efrow16_col1\" class=\"data row16 col1\" >10740.6</td> \n",
       "        <td id=\"T_c9ceab64_59bd_11e9_a7b7_701ce71031efrow16_col2\" class=\"data row16 col2\" >10000</td> \n",
       "        <td id=\"T_c9ceab64_59bd_11e9_a7b7_701ce71031efrow16_col3\" class=\"data row16 col3\" >562</td> \n",
       "        <td id=\"T_c9ceab64_59bd_11e9_a7b7_701ce71031efrow16_col4\" class=\"data row16 col4\" >0.31%</td> \n",
       "    </tr>    <tr> \n",
       "        <th id=\"T_c9ceab64_59bd_11e9_a7b7_701ce71031eflevel0_row17\" class=\"row_heading level0 row17\" >24</th> \n",
       "        <td id=\"T_c9ceab64_59bd_11e9_a7b7_701ce71031efrow17_col0\" class=\"data row17 col0\" >visual_basic_net</td> \n",
       "        <td id=\"T_c9ceab64_59bd_11e9_a7b7_701ce71031efrow17_col1\" class=\"data row17 col1\" >12252.3</td> \n",
       "        <td id=\"T_c9ceab64_59bd_11e9_a7b7_701ce71031efrow17_col2\" class=\"data row17 col2\" >10000</td> \n",
       "        <td id=\"T_c9ceab64_59bd_11e9_a7b7_701ce71031efrow17_col3\" class=\"data row17 col3\" >556</td> \n",
       "        <td id=\"T_c9ceab64_59bd_11e9_a7b7_701ce71031efrow17_col4\" class=\"data row17 col4\" >0.31%</td> \n",
       "    </tr>    <tr> \n",
       "        <th id=\"T_c9ceab64_59bd_11e9_a7b7_701ce71031eflevel0_row18\" class=\"row_heading level0 row18\" >10</th> \n",
       "        <td id=\"T_c9ceab64_59bd_11e9_a7b7_701ce71031efrow18_col0\" class=\"data row18 col0\" >kotlin</td> \n",
       "        <td id=\"T_c9ceab64_59bd_11e9_a7b7_701ce71031efrow18_col1\" class=\"data row18 col1\" >14866.8</td> \n",
       "        <td id=\"T_c9ceab64_59bd_11e9_a7b7_701ce71031efrow18_col2\" class=\"data row18 col2\" >12500</td> \n",
       "        <td id=\"T_c9ceab64_59bd_11e9_a7b7_701ce71031efrow18_col3\" class=\"data row18 col3\" >412</td> \n",
       "        <td id=\"T_c9ceab64_59bd_11e9_a7b7_701ce71031efrow18_col4\" class=\"data row18 col4\" >0.23%</td> \n",
       "    </tr>    <tr> \n",
       "        <th id=\"T_c9ceab64_59bd_11e9_a7b7_701ce71031eflevel0_row19\" class=\"row_heading level0 row19\" >13</th> \n",
       "        <td id=\"T_c9ceab64_59bd_11e9_a7b7_701ce71031efrow19_col0\" class=\"data row19 col0\" >objective_c</td> \n",
       "        <td id=\"T_c9ceab64_59bd_11e9_a7b7_701ce71031efrow19_col1\" class=\"data row19 col1\" >13493</td> \n",
       "        <td id=\"T_c9ceab64_59bd_11e9_a7b7_701ce71031efrow19_col2\" class=\"data row19 col2\" >12500</td> \n",
       "        <td id=\"T_c9ceab64_59bd_11e9_a7b7_701ce71031efrow19_col3\" class=\"data row19 col3\" >216</td> \n",
       "        <td id=\"T_c9ceab64_59bd_11e9_a7b7_701ce71031efrow19_col4\" class=\"data row19 col4\" >0.12%</td> \n",
       "    </tr>    <tr> \n",
       "        <th id=\"T_c9ceab64_59bd_11e9_a7b7_701ce71031eflevel0_row20\" class=\"row_heading level0 row20\" >22</th> \n",
       "        <td id=\"T_c9ceab64_59bd_11e9_a7b7_701ce71031efrow20_col0\" class=\"data row20 col0\" >vba</td> \n",
       "        <td id=\"T_c9ceab64_59bd_11e9_a7b7_701ce71031efrow20_col1\" class=\"data row20 col1\" >11461</td> \n",
       "        <td id=\"T_c9ceab64_59bd_11e9_a7b7_701ce71031efrow20_col2\" class=\"data row20 col2\" >11000</td> \n",
       "        <td id=\"T_c9ceab64_59bd_11e9_a7b7_701ce71031efrow20_col3\" class=\"data row20 col3\" >204</td> \n",
       "        <td id=\"T_c9ceab64_59bd_11e9_a7b7_701ce71031efrow20_col4\" class=\"data row20 col4\" >0.11%</td> \n",
       "    </tr>    <tr> \n",
       "        <th id=\"T_c9ceab64_59bd_11e9_a7b7_701ce71031eflevel0_row21\" class=\"row_heading level0 row21\" >18</th> \n",
       "        <td id=\"T_c9ceab64_59bd_11e9_a7b7_701ce71031efrow21_col0\" class=\"data row21 col0\" >rust</td> \n",
       "        <td id=\"T_c9ceab64_59bd_11e9_a7b7_701ce71031efrow21_col1\" class=\"data row21 col1\" >19343.9</td> \n",
       "        <td id=\"T_c9ceab64_59bd_11e9_a7b7_701ce71031efrow21_col2\" class=\"data row21 col2\" >17250</td> \n",
       "        <td id=\"T_c9ceab64_59bd_11e9_a7b7_701ce71031efrow21_col3\" class=\"data row21 col3\" >158</td> \n",
       "        <td id=\"T_c9ceab64_59bd_11e9_a7b7_701ce71031efrow21_col4\" class=\"data row21 col4\" >0.09%</td> \n",
       "    </tr>    <tr> \n",
       "        <th id=\"T_c9ceab64_59bd_11e9_a7b7_701ce71031eflevel0_row22\" class=\"row_heading level0 row22\" >5</th> \n",
       "        <td id=\"T_c9ceab64_59bd_11e9_a7b7_701ce71031efrow22_col0\" class=\"data row22 col0\" >groovy</td> \n",
       "        <td id=\"T_c9ceab64_59bd_11e9_a7b7_701ce71031efrow22_col1\" class=\"data row22 col1\" >17969.9</td> \n",
       "        <td id=\"T_c9ceab64_59bd_11e9_a7b7_701ce71031efrow22_col2\" class=\"data row22 col2\" >16500</td> \n",
       "        <td id=\"T_c9ceab64_59bd_11e9_a7b7_701ce71031efrow22_col3\" class=\"data row22 col3\" >83</td> \n",
       "        <td id=\"T_c9ceab64_59bd_11e9_a7b7_701ce71031efrow22_col4\" class=\"data row22 col4\" >0.05%</td> \n",
       "    </tr>    <tr> \n",
       "        <th id=\"T_c9ceab64_59bd_11e9_a7b7_701ce71031eflevel0_row23\" class=\"row_heading level0 row23\" >23</th> \n",
       "        <td id=\"T_c9ceab64_59bd_11e9_a7b7_701ce71031efrow23_col0\" class=\"data row23 col0\" >visual_basic</td> \n",
       "        <td id=\"T_c9ceab64_59bd_11e9_a7b7_701ce71031efrow23_col1\" class=\"data row23 col1\" >11034</td> \n",
       "        <td id=\"T_c9ceab64_59bd_11e9_a7b7_701ce71031efrow23_col2\" class=\"data row23 col2\" >11500</td> \n",
       "        <td id=\"T_c9ceab64_59bd_11e9_a7b7_701ce71031efrow23_col3\" class=\"data row23 col3\" >27</td> \n",
       "        <td id=\"T_c9ceab64_59bd_11e9_a7b7_701ce71031efrow23_col4\" class=\"data row23 col4\" >0.01%</td> \n",
       "    </tr>    <tr> \n",
       "        <th id=\"T_c9ceab64_59bd_11e9_a7b7_701ce71031eflevel0_row24\" class=\"row_heading level0 row24\" >6</th> \n",
       "        <td id=\"T_c9ceab64_59bd_11e9_a7b7_701ce71031efrow24_col0\" class=\"data row24 col0\" >haskell</td> \n",
       "        <td id=\"T_c9ceab64_59bd_11e9_a7b7_701ce71031efrow24_col1\" class=\"data row24 col1\" >24371.8</td> \n",
       "        <td id=\"T_c9ceab64_59bd_11e9_a7b7_701ce71031efrow24_col2\" class=\"data row24 col2\" >22500</td> \n",
       "        <td id=\"T_c9ceab64_59bd_11e9_a7b7_701ce71031efrow24_col3\" class=\"data row24 col3\" >13</td> \n",
       "        <td id=\"T_c9ceab64_59bd_11e9_a7b7_701ce71031efrow24_col4\" class=\"data row24 col4\" >0.01%</td> \n",
       "    </tr>    <tr> \n",
       "        <th id=\"T_c9ceab64_59bd_11e9_a7b7_701ce71031eflevel0_row25\" class=\"row_heading level0 row25\" >9</th> \n",
       "        <td id=\"T_c9ceab64_59bd_11e9_a7b7_701ce71031efrow25_col0\" class=\"data row25 col0\" >julia</td> \n",
       "        <td id=\"T_c9ceab64_59bd_11e9_a7b7_701ce71031efrow25_col1\" class=\"data row25 col1\" >14383.3</td> \n",
       "        <td id=\"T_c9ceab64_59bd_11e9_a7b7_701ce71031efrow25_col2\" class=\"data row25 col2\" >14000</td> \n",
       "        <td id=\"T_c9ceab64_59bd_11e9_a7b7_701ce71031efrow25_col3\" class=\"data row25 col3\" >5</td> \n",
       "        <td id=\"T_c9ceab64_59bd_11e9_a7b7_701ce71031efrow25_col4\" class=\"data row25 col4\" >0.00%</td> \n",
       "    </tr></tbody> \n",
       "</table> "
      ],
      "text/plain": [
       "<pandas.io.formats.style.Styler at 0x1f79f19fb00>"
      ]
     },
     "execution_count": 20,
     "metadata": {},
     "output_type": "execute_result"
    }
   ],
   "source": [
    "data_pl=get_sub_stats(data,'pl_')\n",
    "data_pl.sort_values(by='head_count',ascending=False).style.format({\"percentage\":\"{:.2%}\"})"
   ]
  },
  {
   "cell_type": "markdown",
   "metadata": {},
   "source": [
    "数据显示，haskell才是最赚钱的编程语言。python是主流语言里面最赚钱的，比java的工资多了3000元！vb是最不赚钱的了。其中，最赚钱的编程语言和最不赚钱的，工资居然差了2倍。所以，要选好编程语言呀！"
   ]
  },
  {
   "cell_type": "markdown",
   "metadata": {},
   "source": [
    "# 教育"
   ]
  },
  {
   "cell_type": "code",
   "execution_count": 21,
   "metadata": {},
   "outputs": [
    {
     "data": {
      "text/html": [
       "<style  type=\"text/css\" >\n",
       "</style>  \n",
       "<table id=\"T_d8a33298_59bd_11e9_861a_701ce71031ef\" > \n",
       "<thead>    <tr> \n",
       "        <th class=\"blank level0\" ></th> \n",
       "        <th class=\"col_heading level0 col0\" >edu_</th> \n",
       "        <th class=\"col_heading level0 col1\" >salary_mean</th> \n",
       "        <th class=\"col_heading level0 col2\" >salary_median</th> \n",
       "        <th class=\"col_heading level0 col3\" >head_count</th> \n",
       "        <th class=\"col_heading level0 col4\" >percentage</th> \n",
       "    </tr></thead> \n",
       "<tbody>    <tr> \n",
       "        <th id=\"T_d8a33298_59bd_11e9_861a_701ce71031eflevel0_row0\" class=\"row_heading level0 row0\" >5</th> \n",
       "        <td id=\"T_d8a33298_59bd_11e9_861a_701ce71031efrow0_col0\" class=\"data row0 col0\" >phd</td> \n",
       "        <td id=\"T_d8a33298_59bd_11e9_861a_701ce71031efrow0_col1\" class=\"data row0 col1\" >29591.5</td> \n",
       "        <td id=\"T_d8a33298_59bd_11e9_861a_701ce71031efrow0_col2\" class=\"data row0 col2\" >25000</td> \n",
       "        <td id=\"T_d8a33298_59bd_11e9_861a_701ce71031efrow0_col3\" class=\"data row0 col3\" >174</td> \n",
       "        <td id=\"T_d8a33298_59bd_11e9_861a_701ce71031efrow0_col4\" class=\"data row0 col4\" >0.15%</td> \n",
       "    </tr>    <tr> \n",
       "        <th id=\"T_d8a33298_59bd_11e9_861a_701ce71031eflevel0_row1\" class=\"row_heading level0 row1\" >3</th> \n",
       "        <td id=\"T_d8a33298_59bd_11e9_861a_701ce71031efrow1_col0\" class=\"data row1 col0\" >master</td> \n",
       "        <td id=\"T_d8a33298_59bd_11e9_861a_701ce71031efrow1_col1\" class=\"data row1 col1\" >20689.4</td> \n",
       "        <td id=\"T_d8a33298_59bd_11e9_861a_701ce71031efrow1_col2\" class=\"data row1 col2\" >18000</td> \n",
       "        <td id=\"T_d8a33298_59bd_11e9_861a_701ce71031efrow1_col3\" class=\"data row1 col3\" >3591</td> \n",
       "        <td id=\"T_d8a33298_59bd_11e9_861a_701ce71031efrow1_col4\" class=\"data row1 col4\" >3.10%</td> \n",
       "    </tr>    <tr> \n",
       "        <th id=\"T_d8a33298_59bd_11e9_861a_701ce71031eflevel0_row2\" class=\"row_heading level0 row2\" >1</th> \n",
       "        <td id=\"T_d8a33298_59bd_11e9_861a_701ce71031efrow2_col0\" class=\"data row2 col0\" >bachelor</td> \n",
       "        <td id=\"T_d8a33298_59bd_11e9_861a_701ce71031efrow2_col1\" class=\"data row2 col1\" >15020.8</td> \n",
       "        <td id=\"T_d8a33298_59bd_11e9_861a_701ce71031efrow2_col2\" class=\"data row2 col2\" >12500</td> \n",
       "        <td id=\"T_d8a33298_59bd_11e9_861a_701ce71031efrow2_col3\" class=\"data row2 col3\" >72031</td> \n",
       "        <td id=\"T_d8a33298_59bd_11e9_861a_701ce71031efrow2_col4\" class=\"data row2 col4\" >62.14%</td> \n",
       "    </tr>    <tr> \n",
       "        <th id=\"T_d8a33298_59bd_11e9_861a_701ce71031eflevel0_row3\" class=\"row_heading level0 row3\" >0</th> \n",
       "        <td id=\"T_d8a33298_59bd_11e9_861a_701ce71031efrow3_col0\" class=\"data row3 col0\" >associate</td> \n",
       "        <td id=\"T_d8a33298_59bd_11e9_861a_701ce71031efrow3_col1\" class=\"data row3 col1\" >11137.1</td> \n",
       "        <td id=\"T_d8a33298_59bd_11e9_861a_701ce71031efrow3_col2\" class=\"data row3 col2\" >10000</td> \n",
       "        <td id=\"T_d8a33298_59bd_11e9_861a_701ce71031efrow3_col3\" class=\"data row3 col3\" >39624</td> \n",
       "        <td id=\"T_d8a33298_59bd_11e9_861a_701ce71031efrow3_col4\" class=\"data row3 col4\" >34.18%</td> \n",
       "    </tr>    <tr> \n",
       "        <th id=\"T_d8a33298_59bd_11e9_861a_701ce71031eflevel0_row4\" class=\"row_heading level0 row4\" >4</th> \n",
       "        <td id=\"T_d8a33298_59bd_11e9_861a_701ce71031efrow4_col0\" class=\"data row4 col0\" >middle_school</td> \n",
       "        <td id=\"T_d8a33298_59bd_11e9_861a_701ce71031efrow4_col1\" class=\"data row4 col1\" >9396.55</td> \n",
       "        <td id=\"T_d8a33298_59bd_11e9_861a_701ce71031efrow4_col2\" class=\"data row4 col2\" >7000</td> \n",
       "        <td id=\"T_d8a33298_59bd_11e9_861a_701ce71031efrow4_col3\" class=\"data row4 col3\" >58</td> \n",
       "        <td id=\"T_d8a33298_59bd_11e9_861a_701ce71031efrow4_col4\" class=\"data row4 col4\" >0.05%</td> \n",
       "    </tr>    <tr> \n",
       "        <th id=\"T_d8a33298_59bd_11e9_861a_701ce71031eflevel0_row5\" class=\"row_heading level0 row5\" >2</th> \n",
       "        <td id=\"T_d8a33298_59bd_11e9_861a_701ce71031efrow5_col0\" class=\"data row5 col0\" >high_school</td> \n",
       "        <td id=\"T_d8a33298_59bd_11e9_861a_701ce71031efrow5_col1\" class=\"data row5 col1\" >8333.78</td> \n",
       "        <td id=\"T_d8a33298_59bd_11e9_861a_701ce71031efrow5_col2\" class=\"data row5 col2\" >7000</td> \n",
       "        <td id=\"T_d8a33298_59bd_11e9_861a_701ce71031efrow5_col3\" class=\"data row5 col3\" >448</td> \n",
       "        <td id=\"T_d8a33298_59bd_11e9_861a_701ce71031efrow5_col4\" class=\"data row5 col4\" >0.39%</td> \n",
       "    </tr></tbody> \n",
       "</table> "
      ],
      "text/plain": [
       "<pandas.io.formats.style.Styler at 0x1f793ea5550>"
      ]
     },
     "execution_count": 21,
     "metadata": {},
     "output_type": "execute_result"
    }
   ],
   "source": [
    "data_edu=get_sub_stats(data,'edu_')\n",
    "data_edu.style.format({\"percentage\":\"{:.2%}\"})"
   ]
  },
  {
   "cell_type": "markdown",
   "metadata": {},
   "source": [
    "大专，本科，硕士，博士的平均工资分别是12828，16840，23084，30308。中位数分别是12500， 15000，21000， 29000。"
   ]
  },
  {
   "cell_type": "code",
   "execution_count": 22,
   "metadata": {},
   "outputs": [],
   "source": [
    "salary_phd=data[data.edu_phd==1].monthly_salary * 10000\n",
    "salary_master=data[data.edu_master==1].monthly_salary * 10000\n",
    "salary_bachelor=data[data.edu_bachelor==1].monthly_salary * 10000\n",
    "salary_associate=data[data.edu_associate==1].monthly_salary * 10000"
   ]
  },
  {
   "cell_type": "code",
   "execution_count": 23,
   "metadata": {},
   "outputs": [
    {
     "name": "stdout",
     "output_type": "stream",
     "text": [
      "大专，本科，硕士，博士的平均工资分别是11137，15021，20689，29591。中位数分别是10000， 12500，18000， 25000。\n"
     ]
    }
   ],
   "source": [
    "print('大专，本科，硕士，博士的平均工资分别是{:.0f}，{:.0f}，{:.0f}，{:.0f}。中位数分别是{:.0f}， {:.0f}，{:.0f}， {:.0f}。'.format(\n",
    "    salary_associate.mean(),salary_bachelor.mean(),salary_master.mean(),salary_phd.mean(),\n",
    "    salary_associate.median(),salary_bachelor.median(),salary_master.median(),salary_phd.median()))"
   ]
  },
  {
   "cell_type": "code",
   "execution_count": 24,
   "metadata": {},
   "outputs": [
    {
     "data": {
      "text/plain": [
       "F_onewayResult(statistic=99.52151746106234, pvalue=3.7529701049822114e-23)"
      ]
     },
     "execution_count": 24,
     "metadata": {},
     "output_type": "execute_result"
    }
   ],
   "source": [
    "stats.f_oneway(salary_phd, salary_master)"
   ]
  },
  {
   "cell_type": "code",
   "execution_count": 25,
   "metadata": {},
   "outputs": [
    {
     "data": {
      "text/plain": [
       "F_onewayResult(statistic=1688.374319851099, pvalue=0.0)"
      ]
     },
     "execution_count": 25,
     "metadata": {},
     "output_type": "execute_result"
    }
   ],
   "source": [
    "stats.f_oneway(salary_master, salary_bachelor)"
   ]
  },
  {
   "cell_type": "code",
   "execution_count": 26,
   "metadata": {},
   "outputs": [
    {
     "data": {
      "text/plain": [
       "F_onewayResult(statistic=7542.405799147878, pvalue=0.0)"
      ]
     },
     "execution_count": 26,
     "metadata": {},
     "output_type": "execute_result"
    }
   ],
   "source": [
    "stats.f_oneway(salary_bachelor, salary_associate)"
   ]
  },
  {
   "cell_type": "markdown",
   "metadata": {},
   "source": [
    "经过Oneway Anova Test，证明从大专到博士，学历每提高一级，工资都有显著的提高。"
   ]
  },
  {
   "cell_type": "code",
   "execution_count": 27,
   "metadata": {},
   "outputs": [
    {
     "name": "stderr",
     "output_type": "stream",
     "text": [
      "C:\\ProgramData\\Anaconda3\\lib\\site-packages\\pandas\\core\\indexing.py:362: SettingWithCopyWarning: \n",
      "A value is trying to be set on a copy of a slice from a DataFrame.\n",
      "Try using .loc[row_indexer,col_indexer] = value instead\n",
      "\n",
      "See the caveats in the documentation: http://pandas.pydata.org/pandas-docs/stable/indexing.html#indexing-view-versus-copy\n",
      "  self.obj[key] = _infer_fill_value(value)\n",
      "C:\\ProgramData\\Anaconda3\\lib\\site-packages\\pandas\\core\\indexing.py:543: SettingWithCopyWarning: \n",
      "A value is trying to be set on a copy of a slice from a DataFrame.\n",
      "Try using .loc[row_indexer,col_indexer] = value instead\n",
      "\n",
      "See the caveats in the documentation: http://pandas.pydata.org/pandas-docs/stable/indexing.html#indexing-view-versus-copy\n",
      "  self.obj[item] = s\n"
     ]
    },
    {
     "data": {
      "image/png": "[encoded data removed]",
      "text/plain": [
       "<Figure size 432x288 with 1 Axes>"
      ]
     },
     "metadata": {
      "needs_background": "light"
     },
     "output_type": "display_data"
    }
   ],
   "source": [
    "data=add_category_column(data,'edu')\n",
    "order=['phd','master','bachelor','associate']\n",
    "a=sns.boxplot(y='edu',x='monthly_salary',order=order,data=data[data.edu.isin(order)], orient='h')\n",
    "plt.annotate('https://github.com/juwikuang/job_survey', xy=(0.5,1.5), xytext=(2, 1.55))\n",
    "plt.show()"
   ]
  },
  {
   "cell_type": "markdown",
   "metadata": {},
   "source": [
    "# 工作经验 Working Experience"
   ]
  },
  {
   "cell_type": "code",
   "execution_count": 28,
   "metadata": {},
   "outputs": [
    {
     "data": {
      "text/html": [
       "<style  type=\"text/css\" >\n",
       "</style>  \n",
       "<table id=\"T_df639d30_59bd_11e9_9913_701ce71031ef\" > \n",
       "<thead>    <tr> \n",
       "        <th class=\"blank level0\" ></th> \n",
       "        <th class=\"col_heading level0 col0\" >experience_</th> \n",
       "        <th class=\"col_heading level0 col1\" >salary_mean</th> \n",
       "        <th class=\"col_heading level0 col2\" >salary_median</th> \n",
       "        <th class=\"col_heading level0 col3\" >head_count</th> \n",
       "        <th class=\"col_heading level0 col4\" >percentage</th> \n",
       "    </tr></thead> \n",
       "<tbody>    <tr> \n",
       "        <th id=\"T_df639d30_59bd_11e9_9913_701ce71031eflevel0_row0\" class=\"row_heading level0 row0\" >0</th> \n",
       "        <td id=\"T_df639d30_59bd_11e9_9913_701ce71031efrow0_col0\" class=\"data row0 col0\" >10</td> \n",
       "        <td id=\"T_df639d30_59bd_11e9_9913_701ce71031efrow0_col1\" class=\"data row0 col1\" >29943.1</td> \n",
       "        <td id=\"T_df639d30_59bd_11e9_9913_701ce71031efrow0_col2\" class=\"data row0 col2\" >27500</td> \n",
       "        <td id=\"T_df639d30_59bd_11e9_9913_701ce71031efrow0_col3\" class=\"data row0 col3\" >472</td> \n",
       "        <td id=\"T_df639d30_59bd_11e9_9913_701ce71031efrow0_col4\" class=\"data row0 col4\" >0.34%</td> \n",
       "    </tr>    <tr> \n",
       "        <th id=\"T_df639d30_59bd_11e9_9913_701ce71031eflevel0_row1\" class=\"row_heading level0 row1\" >3</th> \n",
       "        <td id=\"T_df639d30_59bd_11e9_9913_701ce71031efrow1_col0\" class=\"data row1 col0\" >5_10</td> \n",
       "        <td id=\"T_df639d30_59bd_11e9_9913_701ce71031efrow1_col1\" class=\"data row1 col1\" >20636</td> \n",
       "        <td id=\"T_df639d30_59bd_11e9_9913_701ce71031efrow1_col2\" class=\"data row1 col2\" >19000</td> \n",
       "        <td id=\"T_df639d30_59bd_11e9_9913_701ce71031efrow1_col3\" class=\"data row1 col3\" >17281</td> \n",
       "        <td id=\"T_df639d30_59bd_11e9_9913_701ce71031efrow1_col4\" class=\"data row1 col4\" >12.38%</td> \n",
       "    </tr>    <tr> \n",
       "        <th id=\"T_df639d30_59bd_11e9_9913_701ce71031eflevel0_row2\" class=\"row_heading level0 row2\" >2</th> \n",
       "        <td id=\"T_df639d30_59bd_11e9_9913_701ce71031efrow2_col0\" class=\"data row2 col0\" >3_5</td> \n",
       "        <td id=\"T_df639d30_59bd_11e9_9913_701ce71031efrow2_col1\" class=\"data row2 col1\" >15022</td> \n",
       "        <td id=\"T_df639d30_59bd_11e9_9913_701ce71031efrow2_col2\" class=\"data row2 col2\" >12500</td> \n",
       "        <td id=\"T_df639d30_59bd_11e9_9913_701ce71031efrow2_col3\" class=\"data row2 col3\" >40163</td> \n",
       "        <td id=\"T_df639d30_59bd_11e9_9913_701ce71031efrow2_col4\" class=\"data row2 col4\" >28.78%</td> \n",
       "    </tr>    <tr> \n",
       "        <th id=\"T_df639d30_59bd_11e9_9913_701ce71031eflevel0_row3\" class=\"row_heading level0 row3\" >4</th> \n",
       "        <td id=\"T_df639d30_59bd_11e9_9913_701ce71031efrow3_col0\" class=\"data row3 col0\" >no</td> \n",
       "        <td id=\"T_df639d30_59bd_11e9_9913_701ce71031efrow3_col1\" class=\"data row3 col1\" >11874.3</td> \n",
       "        <td id=\"T_df639d30_59bd_11e9_9913_701ce71031efrow3_col2\" class=\"data row3 col2\" >10416.7</td> \n",
       "        <td id=\"T_df639d30_59bd_11e9_9913_701ce71031efrow3_col3\" class=\"data row3 col3\" >38124</td> \n",
       "        <td id=\"T_df639d30_59bd_11e9_9913_701ce71031efrow3_col4\" class=\"data row3 col4\" >27.32%</td> \n",
       "    </tr>    <tr> \n",
       "        <th id=\"T_df639d30_59bd_11e9_9913_701ce71031eflevel0_row4\" class=\"row_heading level0 row4\" >1</th> \n",
       "        <td id=\"T_df639d30_59bd_11e9_9913_701ce71031efrow4_col0\" class=\"data row4 col0\" >1_3</td> \n",
       "        <td id=\"T_df639d30_59bd_11e9_9913_701ce71031efrow4_col1\" class=\"data row4 col1\" >11328.5</td> \n",
       "        <td id=\"T_df639d30_59bd_11e9_9913_701ce71031efrow4_col2\" class=\"data row4 col2\" >10416.7</td> \n",
       "        <td id=\"T_df639d30_59bd_11e9_9913_701ce71031efrow4_col3\" class=\"data row4 col3\" >43526</td> \n",
       "        <td id=\"T_df639d30_59bd_11e9_9913_701ce71031efrow4_col4\" class=\"data row4 col4\" >31.19%</td> \n",
       "    </tr></tbody> \n",
       "</table> "
      ],
      "text/plain": [
       "<pandas.io.formats.style.Styler at 0x1f79f2a4940>"
      ]
     },
     "execution_count": 28,
     "metadata": {},
     "output_type": "execute_result"
    }
   ],
   "source": [
    "data_experience=get_sub_stats(data,'experience_')\n",
    "data_experience.style.format({\"percentage\":\"{:.2%}\"})"
   ]
  },
  {
   "cell_type": "code",
   "execution_count": 29,
   "metadata": {},
   "outputs": [],
   "source": [
    "salary_we_10=data[data.experience_10==1].monthly_salary * 10000\n",
    "salary_we_5_10=data[data.experience_5_10==1].monthly_salary * 10000\n",
    "salary_we_3_5=data[data.experience_3_5==1].monthly_salary * 10000\n",
    "salary_we_1_3=data[data.experience_1_3==1].monthly_salary * 10000\n",
    "salary_we_no=data[data.experience_no==1].monthly_salary * 10000"
   ]
  },
  {
   "cell_type": "code",
   "execution_count": 30,
   "metadata": {},
   "outputs": [
    {
     "data": {
      "image/png": "[encoded data removed]",
      "text/plain": [
       "<Figure size 432x288 with 1 Axes>"
      ]
     },
     "metadata": {
      "needs_background": "light"
     },
     "output_type": "display_data"
    }
   ],
   "source": [
    "data=add_category_column(data,'experience')\n",
    "order=['10','5_10','3_5','1_3']\n",
    "sns.boxplot(y='experience',x='monthly_salary',order=order,data=data[data.experience.isin(order)], orient='h')\n",
    "plt.annotate('https://github.com/juwikuang/job_survey', xy=(1.5,1.5), xytext=(1.55, 1.55))\n",
    "plt.show()"
   ]
  },
  {
   "cell_type": "code",
   "execution_count": null,
   "metadata": {},
   "outputs": [],
   "source": []
  },
  {
   "cell_type": "code",
   "execution_count": null,
   "metadata": {},
   "outputs": [],
   "source": []
  },
  {
   "cell_type": "markdown",
   "metadata": {},
   "source": [
    "数据显示，工资会随着工作经验的增长而增长。不过，我感觉那些招十年工作经验的，基本上都是架构师等职位。如果你的工作经验是一年的工作经验重复十次，应该拿不到那么高的工资。这个以后我还会仔细分析。"
   ]
  },
  {
   "cell_type": "markdown",
   "metadata": {},
   "source": [
    "# 城市 City"
   ]
  },
  {
   "cell_type": "code",
   "execution_count": 31,
   "metadata": {},
   "outputs": [
    {
     "data": {
      "text/html": [
       "<style  type=\"text/css\" >\n",
       "</style>  \n",
       "<table id=\"T_e2ec8cee_59bd_11e9_b6dc_701ce71031ef\" > \n",
       "<thead>    <tr> \n",
       "        <th class=\"blank level0\" ></th> \n",
       "        <th class=\"col_heading level0 col0\" >city_</th> \n",
       "        <th class=\"col_heading level0 col1\" >salary_mean</th> \n",
       "        <th class=\"col_heading level0 col2\" >salary_median</th> \n",
       "        <th class=\"col_heading level0 col3\" >head_count</th> \n",
       "        <th class=\"col_heading level0 col4\" >percentage</th> \n",
       "    </tr></thead> \n",
       "<tbody>    <tr> \n",
       "        <th id=\"T_e2ec8cee_59bd_11e9_b6dc_701ce71031eflevel0_row0\" class=\"row_heading level0 row0\" >0</th> \n",
       "        <td id=\"T_e2ec8cee_59bd_11e9_b6dc_701ce71031efrow0_col0\" class=\"data row0 col0\" >beijing</td> \n",
       "        <td id=\"T_e2ec8cee_59bd_11e9_b6dc_701ce71031efrow0_col1\" class=\"data row0 col1\" >17453</td> \n",
       "        <td id=\"T_e2ec8cee_59bd_11e9_b6dc_701ce71031efrow0_col2\" class=\"data row0 col2\" >15000</td> \n",
       "        <td id=\"T_e2ec8cee_59bd_11e9_b6dc_701ce71031efrow0_col3\" class=\"data row0 col3\" >13823</td> \n",
       "        <td id=\"T_e2ec8cee_59bd_11e9_b6dc_701ce71031efrow0_col4\" class=\"data row0 col4\" >9.90%</td> \n",
       "    </tr>    <tr> \n",
       "        <th id=\"T_e2ec8cee_59bd_11e9_b6dc_701ce71031eflevel0_row1\" class=\"row_heading level0 row1\" >17</th> \n",
       "        <td id=\"T_e2ec8cee_59bd_11e9_b6dc_701ce71031efrow1_col0\" class=\"data row1 col0\" >shanghai</td> \n",
       "        <td id=\"T_e2ec8cee_59bd_11e9_b6dc_701ce71031efrow1_col1\" class=\"data row1 col1\" >16626</td> \n",
       "        <td id=\"T_e2ec8cee_59bd_11e9_b6dc_701ce71031efrow1_col2\" class=\"data row1 col2\" >15000</td> \n",
       "        <td id=\"T_e2ec8cee_59bd_11e9_b6dc_701ce71031efrow1_col3\" class=\"data row1 col3\" >25888</td> \n",
       "        <td id=\"T_e2ec8cee_59bd_11e9_b6dc_701ce71031efrow1_col4\" class=\"data row1 col4\" >18.55%</td> \n",
       "    </tr>    <tr> \n",
       "        <th id=\"T_e2ec8cee_59bd_11e9_b6dc_701ce71031eflevel0_row2\" class=\"row_heading level0 row2\" >19</th> \n",
       "        <td id=\"T_e2ec8cee_59bd_11e9_b6dc_701ce71031efrow2_col0\" class=\"data row2 col0\" >shenzhen</td> \n",
       "        <td id=\"T_e2ec8cee_59bd_11e9_b6dc_701ce71031efrow2_col1\" class=\"data row2 col1\" >15631</td> \n",
       "        <td id=\"T_e2ec8cee_59bd_11e9_b6dc_701ce71031efrow2_col2\" class=\"data row2 col2\" >14000</td> \n",
       "        <td id=\"T_e2ec8cee_59bd_11e9_b6dc_701ce71031efrow2_col3\" class=\"data row2 col3\" >20757</td> \n",
       "        <td id=\"T_e2ec8cee_59bd_11e9_b6dc_701ce71031efrow2_col4\" class=\"data row2 col4\" >14.87%</td> \n",
       "    </tr>    <tr> \n",
       "        <th id=\"T_e2ec8cee_59bd_11e9_b6dc_701ce71031eflevel0_row3\" class=\"row_heading level0 row3\" >9</th> \n",
       "        <td id=\"T_e2ec8cee_59bd_11e9_b6dc_701ce71031efrow3_col0\" class=\"data row3 col0\" >hangzhou</td> \n",
       "        <td id=\"T_e2ec8cee_59bd_11e9_b6dc_701ce71031efrow3_col1\" class=\"data row3 col1\" >14977</td> \n",
       "        <td id=\"T_e2ec8cee_59bd_11e9_b6dc_701ce71031efrow3_col2\" class=\"data row3 col2\" >12500</td> \n",
       "        <td id=\"T_e2ec8cee_59bd_11e9_b6dc_701ce71031efrow3_col3\" class=\"data row3 col3\" >8690</td> \n",
       "        <td id=\"T_e2ec8cee_59bd_11e9_b6dc_701ce71031efrow3_col4\" class=\"data row3 col4\" >6.23%</td> \n",
       "    </tr>    <tr> \n",
       "        <th id=\"T_e2ec8cee_59bd_11e9_b6dc_701ce71031eflevel0_row4\" class=\"row_heading level0 row4\" >8</th> \n",
       "        <td id=\"T_e2ec8cee_59bd_11e9_b6dc_701ce71031efrow4_col0\" class=\"data row4 col0\" >guangzhou</td> \n",
       "        <td id=\"T_e2ec8cee_59bd_11e9_b6dc_701ce71031efrow4_col1\" class=\"data row4 col1\" >13032</td> \n",
       "        <td id=\"T_e2ec8cee_59bd_11e9_b6dc_701ce71031efrow4_col2\" class=\"data row4 col2\" >12000</td> \n",
       "        <td id=\"T_e2ec8cee_59bd_11e9_b6dc_701ce71031efrow4_col3\" class=\"data row4 col3\" >17068</td> \n",
       "        <td id=\"T_e2ec8cee_59bd_11e9_b6dc_701ce71031efrow4_col4\" class=\"data row4 col4\" >12.23%</td> \n",
       "    </tr>    <tr> \n",
       "        <th id=\"T_e2ec8cee_59bd_11e9_b6dc_701ce71031eflevel0_row5\" class=\"row_heading level0 row5\" >14</th> \n",
       "        <td id=\"T_e2ec8cee_59bd_11e9_b6dc_701ce71031efrow5_col0\" class=\"data row5 col0\" >nanjing</td> \n",
       "        <td id=\"T_e2ec8cee_59bd_11e9_b6dc_701ce71031efrow5_col1\" class=\"data row5 col1\" >12874</td> \n",
       "        <td id=\"T_e2ec8cee_59bd_11e9_b6dc_701ce71031efrow5_col2\" class=\"data row5 col2\" >12500</td> \n",
       "        <td id=\"T_e2ec8cee_59bd_11e9_b6dc_701ce71031efrow5_col3\" class=\"data row5 col3\" >7091</td> \n",
       "        <td id=\"T_e2ec8cee_59bd_11e9_b6dc_701ce71031efrow5_col4\" class=\"data row5 col4\" >5.08%</td> \n",
       "    </tr>    <tr> \n",
       "        <th id=\"T_e2ec8cee_59bd_11e9_b6dc_701ce71031eflevel0_row6\" class=\"row_heading level0 row6\" >3</th> \n",
       "        <td id=\"T_e2ec8cee_59bd_11e9_b6dc_701ce71031efrow6_col0\" class=\"data row6 col0\" >chengdu</td> \n",
       "        <td id=\"T_e2ec8cee_59bd_11e9_b6dc_701ce71031efrow6_col1\" class=\"data row6 col1\" >11896</td> \n",
       "        <td id=\"T_e2ec8cee_59bd_11e9_b6dc_701ce71031efrow6_col2\" class=\"data row6 col2\" >11500</td> \n",
       "        <td id=\"T_e2ec8cee_59bd_11e9_b6dc_701ce71031efrow6_col3\" class=\"data row6 col3\" >7028</td> \n",
       "        <td id=\"T_e2ec8cee_59bd_11e9_b6dc_701ce71031efrow6_col4\" class=\"data row6 col4\" >5.04%</td> \n",
       "    </tr>    <tr> \n",
       "        <th id=\"T_e2ec8cee_59bd_11e9_b6dc_701ce71031eflevel0_row7\" class=\"row_heading level0 row7\" >6</th> \n",
       "        <td id=\"T_e2ec8cee_59bd_11e9_b6dc_701ce71031efrow7_col0\" class=\"data row7 col0\" >dongguan</td> \n",
       "        <td id=\"T_e2ec8cee_59bd_11e9_b6dc_701ce71031efrow7_col1\" class=\"data row7 col1\" >11353</td> \n",
       "        <td id=\"T_e2ec8cee_59bd_11e9_b6dc_701ce71031efrow7_col2\" class=\"data row7 col2\" >10417</td> \n",
       "        <td id=\"T_e2ec8cee_59bd_11e9_b6dc_701ce71031efrow7_col3\" class=\"data row7 col3\" >1632</td> \n",
       "        <td id=\"T_e2ec8cee_59bd_11e9_b6dc_701ce71031efrow7_col4\" class=\"data row7 col4\" >1.17%</td> \n",
       "    </tr>    <tr> \n",
       "        <th id=\"T_e2ec8cee_59bd_11e9_b6dc_701ce71031eflevel0_row8\" class=\"row_heading level0 row8\" >22</th> \n",
       "        <td id=\"T_e2ec8cee_59bd_11e9_b6dc_701ce71031efrow8_col0\" class=\"data row8 col0\" >xian</td> \n",
       "        <td id=\"T_e2ec8cee_59bd_11e9_b6dc_701ce71031efrow8_col1\" class=\"data row8 col1\" >11075</td> \n",
       "        <td id=\"T_e2ec8cee_59bd_11e9_b6dc_701ce71031efrow8_col2\" class=\"data row8 col2\" >10000</td> \n",
       "        <td id=\"T_e2ec8cee_59bd_11e9_b6dc_701ce71031efrow8_col3\" class=\"data row8 col3\" >3833</td> \n",
       "        <td id=\"T_e2ec8cee_59bd_11e9_b6dc_701ce71031efrow8_col4\" class=\"data row8 col4\" >2.75%</td> \n",
       "    </tr>    <tr> \n",
       "        <th id=\"T_e2ec8cee_59bd_11e9_b6dc_701ce71031eflevel0_row9\" class=\"row_heading level0 row9\" >21</th> \n",
       "        <td id=\"T_e2ec8cee_59bd_11e9_b6dc_701ce71031efrow9_col0\" class=\"data row9 col0\" >wuhan</td> \n",
       "        <td id=\"T_e2ec8cee_59bd_11e9_b6dc_701ce71031efrow9_col1\" class=\"data row9 col1\" >11074</td> \n",
       "        <td id=\"T_e2ec8cee_59bd_11e9_b6dc_701ce71031efrow9_col2\" class=\"data row9 col2\" >10417</td> \n",
       "        <td id=\"T_e2ec8cee_59bd_11e9_b6dc_701ce71031efrow9_col3\" class=\"data row9 col3\" >8027</td> \n",
       "        <td id=\"T_e2ec8cee_59bd_11e9_b6dc_701ce71031efrow9_col4\" class=\"data row9 col4\" >5.75%</td> \n",
       "    </tr>    <tr> \n",
       "        <th id=\"T_e2ec8cee_59bd_11e9_b6dc_701ce71031eflevel0_row10\" class=\"row_heading level0 row10\" >20</th> \n",
       "        <td id=\"T_e2ec8cee_59bd_11e9_b6dc_701ce71031efrow10_col0\" class=\"data row10 col0\" >tianjin</td> \n",
       "        <td id=\"T_e2ec8cee_59bd_11e9_b6dc_701ce71031efrow10_col1\" class=\"data row10 col1\" >10988</td> \n",
       "        <td id=\"T_e2ec8cee_59bd_11e9_b6dc_701ce71031efrow10_col2\" class=\"data row10 col2\" >10000</td> \n",
       "        <td id=\"T_e2ec8cee_59bd_11e9_b6dc_701ce71031efrow10_col3\" class=\"data row10 col3\" >1147</td> \n",
       "        <td id=\"T_e2ec8cee_59bd_11e9_b6dc_701ce71031efrow10_col4\" class=\"data row10 col4\" >0.82%</td> \n",
       "    </tr>    <tr> \n",
       "        <th id=\"T_e2ec8cee_59bd_11e9_b6dc_701ce71031eflevel0_row11\" class=\"row_heading level0 row11\" >2</th> \n",
       "        <td id=\"T_e2ec8cee_59bd_11e9_b6dc_701ce71031efrow11_col0\" class=\"data row11 col0\" >changsha</td> \n",
       "        <td id=\"T_e2ec8cee_59bd_11e9_b6dc_701ce71031efrow11_col1\" class=\"data row11 col1\" >10847</td> \n",
       "        <td id=\"T_e2ec8cee_59bd_11e9_b6dc_701ce71031efrow11_col2\" class=\"data row11 col2\" >10000</td> \n",
       "        <td id=\"T_e2ec8cee_59bd_11e9_b6dc_701ce71031efrow11_col3\" class=\"data row11 col3\" >3354</td> \n",
       "        <td id=\"T_e2ec8cee_59bd_11e9_b6dc_701ce71031efrow11_col4\" class=\"data row11 col4\" >2.40%</td> \n",
       "    </tr>    <tr> \n",
       "        <th id=\"T_e2ec8cee_59bd_11e9_b6dc_701ce71031eflevel0_row12\" class=\"row_heading level0 row12\" >15</th> \n",
       "        <td id=\"T_e2ec8cee_59bd_11e9_b6dc_701ce71031efrow12_col0\" class=\"data row12 col0\" >ningbo</td> \n",
       "        <td id=\"T_e2ec8cee_59bd_11e9_b6dc_701ce71031efrow12_col1\" class=\"data row12 col1\" >10809</td> \n",
       "        <td id=\"T_e2ec8cee_59bd_11e9_b6dc_701ce71031efrow12_col2\" class=\"data row12 col2\" >10000</td> \n",
       "        <td id=\"T_e2ec8cee_59bd_11e9_b6dc_701ce71031efrow12_col3\" class=\"data row12 col3\" >1485</td> \n",
       "        <td id=\"T_e2ec8cee_59bd_11e9_b6dc_701ce71031efrow12_col4\" class=\"data row12 col4\" >1.06%</td> \n",
       "    </tr>    <tr> \n",
       "        <th id=\"T_e2ec8cee_59bd_11e9_b6dc_701ce71031eflevel0_row13\" class=\"row_heading level0 row13\" >7</th> \n",
       "        <td id=\"T_e2ec8cee_59bd_11e9_b6dc_701ce71031efrow13_col0\" class=\"data row13 col0\" >fuzhou</td> \n",
       "        <td id=\"T_e2ec8cee_59bd_11e9_b6dc_701ce71031efrow13_col1\" class=\"data row13 col1\" >10062</td> \n",
       "        <td id=\"T_e2ec8cee_59bd_11e9_b6dc_701ce71031efrow13_col2\" class=\"data row13 col2\" >9000</td> \n",
       "        <td id=\"T_e2ec8cee_59bd_11e9_b6dc_701ce71031efrow13_col3\" class=\"data row13 col3\" >2085</td> \n",
       "        <td id=\"T_e2ec8cee_59bd_11e9_b6dc_701ce71031efrow13_col4\" class=\"data row13 col4\" >1.49%</td> \n",
       "    </tr>    <tr> \n",
       "        <th id=\"T_e2ec8cee_59bd_11e9_b6dc_701ce71031eflevel0_row14\" class=\"row_heading level0 row14\" >5</th> \n",
       "        <td id=\"T_e2ec8cee_59bd_11e9_b6dc_701ce71031efrow14_col0\" class=\"data row14 col0\" >dalian</td> \n",
       "        <td id=\"T_e2ec8cee_59bd_11e9_b6dc_701ce71031efrow14_col1\" class=\"data row14 col1\" >10030</td> \n",
       "        <td id=\"T_e2ec8cee_59bd_11e9_b6dc_701ce71031efrow14_col2\" class=\"data row14 col2\" >9000</td> \n",
       "        <td id=\"T_e2ec8cee_59bd_11e9_b6dc_701ce71031efrow14_col3\" class=\"data row14 col3\" >2889</td> \n",
       "        <td id=\"T_e2ec8cee_59bd_11e9_b6dc_701ce71031efrow14_col4\" class=\"data row14 col4\" >2.07%</td> \n",
       "    </tr>    <tr> \n",
       "        <th id=\"T_e2ec8cee_59bd_11e9_b6dc_701ce71031eflevel0_row15\" class=\"row_heading level0 row15\" >4</th> \n",
       "        <td id=\"T_e2ec8cee_59bd_11e9_b6dc_701ce71031efrow15_col0\" class=\"data row15 col0\" >chongqing</td> \n",
       "        <td id=\"T_e2ec8cee_59bd_11e9_b6dc_701ce71031efrow15_col1\" class=\"data row15 col1\" >10017</td> \n",
       "        <td id=\"T_e2ec8cee_59bd_11e9_b6dc_701ce71031efrow15_col2\" class=\"data row15 col2\" >9000</td> \n",
       "        <td id=\"T_e2ec8cee_59bd_11e9_b6dc_701ce71031efrow15_col3\" class=\"data row15 col3\" >2570</td> \n",
       "        <td id=\"T_e2ec8cee_59bd_11e9_b6dc_701ce71031efrow15_col4\" class=\"data row15 col4\" >1.84%</td> \n",
       "    </tr>    <tr> \n",
       "        <th id=\"T_e2ec8cee_59bd_11e9_b6dc_701ce71031eflevel0_row16\" class=\"row_heading level0 row16\" >16</th> \n",
       "        <td id=\"T_e2ec8cee_59bd_11e9_b6dc_701ce71031efrow16_col0\" class=\"data row16 col0\" >qingdao</td> \n",
       "        <td id=\"T_e2ec8cee_59bd_11e9_b6dc_701ce71031efrow16_col1\" class=\"data row16 col1\" >9549</td> \n",
       "        <td id=\"T_e2ec8cee_59bd_11e9_b6dc_701ce71031efrow16_col2\" class=\"data row16 col2\" >8750</td> \n",
       "        <td id=\"T_e2ec8cee_59bd_11e9_b6dc_701ce71031efrow16_col3\" class=\"data row16 col3\" >1385</td> \n",
       "        <td id=\"T_e2ec8cee_59bd_11e9_b6dc_701ce71031efrow16_col4\" class=\"data row16 col4\" >0.99%</td> \n",
       "    </tr>    <tr> \n",
       "        <th id=\"T_e2ec8cee_59bd_11e9_b6dc_701ce71031eflevel0_row17\" class=\"row_heading level0 row17\" >12</th> \n",
       "        <td id=\"T_e2ec8cee_59bd_11e9_b6dc_701ce71031efrow17_col0\" class=\"data row17 col0\" >jinan</td> \n",
       "        <td id=\"T_e2ec8cee_59bd_11e9_b6dc_701ce71031efrow17_col1\" class=\"data row17 col1\" >9375</td> \n",
       "        <td id=\"T_e2ec8cee_59bd_11e9_b6dc_701ce71031efrow17_col2\" class=\"data row17 col2\" >8500</td> \n",
       "        <td id=\"T_e2ec8cee_59bd_11e9_b6dc_701ce71031efrow17_col3\" class=\"data row17 col3\" >1479</td> \n",
       "        <td id=\"T_e2ec8cee_59bd_11e9_b6dc_701ce71031efrow17_col4\" class=\"data row17 col4\" >1.06%</td> \n",
       "    </tr>    <tr> \n",
       "        <th id=\"T_e2ec8cee_59bd_11e9_b6dc_701ce71031eflevel0_row18\" class=\"row_heading level0 row18\" >11</th> \n",
       "        <td id=\"T_e2ec8cee_59bd_11e9_b6dc_701ce71031efrow18_col0\" class=\"data row18 col0\" >hefei</td> \n",
       "        <td id=\"T_e2ec8cee_59bd_11e9_b6dc_701ce71031efrow18_col1\" class=\"data row18 col1\" >9252</td> \n",
       "        <td id=\"T_e2ec8cee_59bd_11e9_b6dc_701ce71031efrow18_col2\" class=\"data row18 col2\" >8500</td> \n",
       "        <td id=\"T_e2ec8cee_59bd_11e9_b6dc_701ce71031efrow18_col3\" class=\"data row18 col3\" >3071</td> \n",
       "        <td id=\"T_e2ec8cee_59bd_11e9_b6dc_701ce71031efrow18_col4\" class=\"data row18 col4\" >2.20%</td> \n",
       "    </tr>    <tr> \n",
       "        <th id=\"T_e2ec8cee_59bd_11e9_b6dc_701ce71031eflevel0_row19\" class=\"row_heading level0 row19\" >1</th> \n",
       "        <td id=\"T_e2ec8cee_59bd_11e9_b6dc_701ce71031efrow19_col0\" class=\"data row19 col0\" >changchun</td> \n",
       "        <td id=\"T_e2ec8cee_59bd_11e9_b6dc_701ce71031efrow19_col1\" class=\"data row19 col1\" >8580</td> \n",
       "        <td id=\"T_e2ec8cee_59bd_11e9_b6dc_701ce71031efrow19_col2\" class=\"data row19 col2\" >7000</td> \n",
       "        <td id=\"T_e2ec8cee_59bd_11e9_b6dc_701ce71031efrow19_col3\" class=\"data row19 col3\" >614</td> \n",
       "        <td id=\"T_e2ec8cee_59bd_11e9_b6dc_701ce71031efrow19_col4\" class=\"data row19 col4\" >0.44%</td> \n",
       "    </tr>    <tr> \n",
       "        <th id=\"T_e2ec8cee_59bd_11e9_b6dc_701ce71031eflevel0_row20\" class=\"row_heading level0 row20\" >13</th> \n",
       "        <td id=\"T_e2ec8cee_59bd_11e9_b6dc_701ce71031efrow20_col0\" class=\"data row20 col0\" >kuming</td> \n",
       "        <td id=\"T_e2ec8cee_59bd_11e9_b6dc_701ce71031efrow20_col1\" class=\"data row20 col1\" >8458</td> \n",
       "        <td id=\"T_e2ec8cee_59bd_11e9_b6dc_701ce71031efrow20_col2\" class=\"data row20 col2\" >8000</td> \n",
       "        <td id=\"T_e2ec8cee_59bd_11e9_b6dc_701ce71031efrow20_col3\" class=\"data row20 col3\" >1011</td> \n",
       "        <td id=\"T_e2ec8cee_59bd_11e9_b6dc_701ce71031efrow20_col4\" class=\"data row20 col4\" >0.72%</td> \n",
       "    </tr>    <tr> \n",
       "        <th id=\"T_e2ec8cee_59bd_11e9_b6dc_701ce71031eflevel0_row21\" class=\"row_heading level0 row21\" >23</th> \n",
       "        <td id=\"T_e2ec8cee_59bd_11e9_b6dc_701ce71031efrow21_col0\" class=\"data row21 col0\" >zhengzhou</td> \n",
       "        <td id=\"T_e2ec8cee_59bd_11e9_b6dc_701ce71031efrow21_col1\" class=\"data row21 col1\" >8348</td> \n",
       "        <td id=\"T_e2ec8cee_59bd_11e9_b6dc_701ce71031efrow21_col2\" class=\"data row21 col2\" >7000</td> \n",
       "        <td id=\"T_e2ec8cee_59bd_11e9_b6dc_701ce71031efrow21_col3\" class=\"data row21 col3\" >2317</td> \n",
       "        <td id=\"T_e2ec8cee_59bd_11e9_b6dc_701ce71031efrow21_col4\" class=\"data row21 col4\" >1.66%</td> \n",
       "    </tr>    <tr> \n",
       "        <th id=\"T_e2ec8cee_59bd_11e9_b6dc_701ce71031eflevel0_row22\" class=\"row_heading level0 row22\" >18</th> \n",
       "        <td id=\"T_e2ec8cee_59bd_11e9_b6dc_701ce71031efrow22_col0\" class=\"data row22 col0\" >shenyang</td> \n",
       "        <td id=\"T_e2ec8cee_59bd_11e9_b6dc_701ce71031efrow22_col1\" class=\"data row22 col1\" >7851</td> \n",
       "        <td id=\"T_e2ec8cee_59bd_11e9_b6dc_701ce71031efrow22_col2\" class=\"data row22 col2\" >7000</td> \n",
       "        <td id=\"T_e2ec8cee_59bd_11e9_b6dc_701ce71031efrow22_col3\" class=\"data row22 col3\" >1452</td> \n",
       "        <td id=\"T_e2ec8cee_59bd_11e9_b6dc_701ce71031efrow22_col4\" class=\"data row22 col4\" >1.04%</td> \n",
       "    </tr>    <tr> \n",
       "        <th id=\"T_e2ec8cee_59bd_11e9_b6dc_701ce71031eflevel0_row23\" class=\"row_heading level0 row23\" >10</th> \n",
       "        <td id=\"T_e2ec8cee_59bd_11e9_b6dc_701ce71031efrow23_col0\" class=\"data row23 col0\" >harbin</td> \n",
       "        <td id=\"T_e2ec8cee_59bd_11e9_b6dc_701ce71031efrow23_col1\" class=\"data row23 col1\" >6403</td> \n",
       "        <td id=\"T_e2ec8cee_59bd_11e9_b6dc_701ce71031efrow23_col2\" class=\"data row23 col2\" >5250</td> \n",
       "        <td id=\"T_e2ec8cee_59bd_11e9_b6dc_701ce71031efrow23_col3\" class=\"data row23 col3\" >870</td> \n",
       "        <td id=\"T_e2ec8cee_59bd_11e9_b6dc_701ce71031efrow23_col4\" class=\"data row23 col4\" >0.62%</td> \n",
       "    </tr></tbody> \n",
       "</table> "
      ],
      "text/plain": [
       "<pandas.io.formats.style.Styler at 0x1f79f2a4710>"
      ]
     },
     "execution_count": 31,
     "metadata": {},
     "output_type": "execute_result"
    }
   ],
   "source": [
    "data_city=get_sub_stats(data,'city_')\n",
    "data_city.style.format({\"percentage\":\"{:.2%}\",\"salary_mean\":\"{:.0f}\",\"salary_median\":\"{:.0f}\"})"
   ]
  },
  {
   "cell_type": "markdown",
   "metadata": {},
   "source": [
    "程序员收入最高的城市分别为：北京，上海，深圳，广州"
   ]
  },
  {
   "cell_type": "code",
   "execution_count": null,
   "metadata": {},
   "outputs": [],
   "source": []
  },
  {
   "cell_type": "code",
   "execution_count": 32,
   "metadata": {},
   "outputs": [
    {
     "data": {
      "image/png": "[encoded data removed]",
      "text/plain": [
       "<Figure size 432x288 with 1 Axes>"
      ]
     },
     "metadata": {
      "needs_background": "light"
     },
     "output_type": "display_data"
    }
   ],
   "source": [
    "data=add_category_column(data,'city')\n",
    "#order=['shenzhen','guangzhou','shanghai','beijing']\n",
    "order=['beijing','shanghai','guangzhou','shenzhen']\n",
    "\n",
    "sns.boxplot(y='city',x='monthly_salary',order=order,data=data[data.city.isin(order)], orient='h')\n",
    "plt.annotate('https://github.com/juwikuang/job_survey', xy=(0.5,1.5), xytext=(1.2, 1.55))\n",
    "plt.show()"
   ]
  },
  {
   "cell_type": "code",
   "execution_count": 33,
   "metadata": {},
   "outputs": [
    {
     "data": {
      "text/html": [
       "<style  type=\"text/css\" >\n",
       "</style>  \n",
       "<table id=\"T_e7175bcc_59bd_11e9_87d3_701ce71031ef\" > \n",
       "<thead>    <tr> \n",
       "        <th class=\"blank level0\" ></th> \n",
       "        <th class=\"col_heading level0 col0\" >city_</th> \n",
       "        <th class=\"col_heading level0 col1\" >salary_mean</th> \n",
       "        <th class=\"col_heading level0 col2\" >salary_median</th> \n",
       "        <th class=\"col_heading level0 col3\" >head_count</th> \n",
       "        <th class=\"col_heading level0 col4\" >percentage</th> \n",
       "    </tr></thead> \n",
       "<tbody>    <tr> \n",
       "        <th id=\"T_e7175bcc_59bd_11e9_87d3_701ce71031eflevel0_row0\" class=\"row_heading level0 row0\" >17</th> \n",
       "        <td id=\"T_e7175bcc_59bd_11e9_87d3_701ce71031efrow0_col0\" class=\"data row0 col0\" >shanghai</td> \n",
       "        <td id=\"T_e7175bcc_59bd_11e9_87d3_701ce71031efrow0_col1\" class=\"data row0 col1\" >16626</td> \n",
       "        <td id=\"T_e7175bcc_59bd_11e9_87d3_701ce71031efrow0_col2\" class=\"data row0 col2\" >15000</td> \n",
       "        <td id=\"T_e7175bcc_59bd_11e9_87d3_701ce71031efrow0_col3\" class=\"data row0 col3\" >25888</td> \n",
       "        <td id=\"T_e7175bcc_59bd_11e9_87d3_701ce71031efrow0_col4\" class=\"data row0 col4\" >18.55%</td> \n",
       "    </tr>    <tr> \n",
       "        <th id=\"T_e7175bcc_59bd_11e9_87d3_701ce71031eflevel0_row1\" class=\"row_heading level0 row1\" >19</th> \n",
       "        <td id=\"T_e7175bcc_59bd_11e9_87d3_701ce71031efrow1_col0\" class=\"data row1 col0\" >shenzhen</td> \n",
       "        <td id=\"T_e7175bcc_59bd_11e9_87d3_701ce71031efrow1_col1\" class=\"data row1 col1\" >15631</td> \n",
       "        <td id=\"T_e7175bcc_59bd_11e9_87d3_701ce71031efrow1_col2\" class=\"data row1 col2\" >14000</td> \n",
       "        <td id=\"T_e7175bcc_59bd_11e9_87d3_701ce71031efrow1_col3\" class=\"data row1 col3\" >20757</td> \n",
       "        <td id=\"T_e7175bcc_59bd_11e9_87d3_701ce71031efrow1_col4\" class=\"data row1 col4\" >14.87%</td> \n",
       "    </tr>    <tr> \n",
       "        <th id=\"T_e7175bcc_59bd_11e9_87d3_701ce71031eflevel0_row2\" class=\"row_heading level0 row2\" >8</th> \n",
       "        <td id=\"T_e7175bcc_59bd_11e9_87d3_701ce71031efrow2_col0\" class=\"data row2 col0\" >guangzhou</td> \n",
       "        <td id=\"T_e7175bcc_59bd_11e9_87d3_701ce71031efrow2_col1\" class=\"data row2 col1\" >13032</td> \n",
       "        <td id=\"T_e7175bcc_59bd_11e9_87d3_701ce71031efrow2_col2\" class=\"data row2 col2\" >12000</td> \n",
       "        <td id=\"T_e7175bcc_59bd_11e9_87d3_701ce71031efrow2_col3\" class=\"data row2 col3\" >17068</td> \n",
       "        <td id=\"T_e7175bcc_59bd_11e9_87d3_701ce71031efrow2_col4\" class=\"data row2 col4\" >12.23%</td> \n",
       "    </tr>    <tr> \n",
       "        <th id=\"T_e7175bcc_59bd_11e9_87d3_701ce71031eflevel0_row3\" class=\"row_heading level0 row3\" >0</th> \n",
       "        <td id=\"T_e7175bcc_59bd_11e9_87d3_701ce71031efrow3_col0\" class=\"data row3 col0\" >beijing</td> \n",
       "        <td id=\"T_e7175bcc_59bd_11e9_87d3_701ce71031efrow3_col1\" class=\"data row3 col1\" >17453</td> \n",
       "        <td id=\"T_e7175bcc_59bd_11e9_87d3_701ce71031efrow3_col2\" class=\"data row3 col2\" >15000</td> \n",
       "        <td id=\"T_e7175bcc_59bd_11e9_87d3_701ce71031efrow3_col3\" class=\"data row3 col3\" >13823</td> \n",
       "        <td id=\"T_e7175bcc_59bd_11e9_87d3_701ce71031efrow3_col4\" class=\"data row3 col4\" >9.90%</td> \n",
       "    </tr>    <tr> \n",
       "        <th id=\"T_e7175bcc_59bd_11e9_87d3_701ce71031eflevel0_row4\" class=\"row_heading level0 row4\" >9</th> \n",
       "        <td id=\"T_e7175bcc_59bd_11e9_87d3_701ce71031efrow4_col0\" class=\"data row4 col0\" >hangzhou</td> \n",
       "        <td id=\"T_e7175bcc_59bd_11e9_87d3_701ce71031efrow4_col1\" class=\"data row4 col1\" >14977</td> \n",
       "        <td id=\"T_e7175bcc_59bd_11e9_87d3_701ce71031efrow4_col2\" class=\"data row4 col2\" >12500</td> \n",
       "        <td id=\"T_e7175bcc_59bd_11e9_87d3_701ce71031efrow4_col3\" class=\"data row4 col3\" >8690</td> \n",
       "        <td id=\"T_e7175bcc_59bd_11e9_87d3_701ce71031efrow4_col4\" class=\"data row4 col4\" >6.23%</td> \n",
       "    </tr>    <tr> \n",
       "        <th id=\"T_e7175bcc_59bd_11e9_87d3_701ce71031eflevel0_row5\" class=\"row_heading level0 row5\" >21</th> \n",
       "        <td id=\"T_e7175bcc_59bd_11e9_87d3_701ce71031efrow5_col0\" class=\"data row5 col0\" >wuhan</td> \n",
       "        <td id=\"T_e7175bcc_59bd_11e9_87d3_701ce71031efrow5_col1\" class=\"data row5 col1\" >11074</td> \n",
       "        <td id=\"T_e7175bcc_59bd_11e9_87d3_701ce71031efrow5_col2\" class=\"data row5 col2\" >10417</td> \n",
       "        <td id=\"T_e7175bcc_59bd_11e9_87d3_701ce71031efrow5_col3\" class=\"data row5 col3\" >8027</td> \n",
       "        <td id=\"T_e7175bcc_59bd_11e9_87d3_701ce71031efrow5_col4\" class=\"data row5 col4\" >5.75%</td> \n",
       "    </tr>    <tr> \n",
       "        <th id=\"T_e7175bcc_59bd_11e9_87d3_701ce71031eflevel0_row6\" class=\"row_heading level0 row6\" >14</th> \n",
       "        <td id=\"T_e7175bcc_59bd_11e9_87d3_701ce71031efrow6_col0\" class=\"data row6 col0\" >nanjing</td> \n",
       "        <td id=\"T_e7175bcc_59bd_11e9_87d3_701ce71031efrow6_col1\" class=\"data row6 col1\" >12874</td> \n",
       "        <td id=\"T_e7175bcc_59bd_11e9_87d3_701ce71031efrow6_col2\" class=\"data row6 col2\" >12500</td> \n",
       "        <td id=\"T_e7175bcc_59bd_11e9_87d3_701ce71031efrow6_col3\" class=\"data row6 col3\" >7091</td> \n",
       "        <td id=\"T_e7175bcc_59bd_11e9_87d3_701ce71031efrow6_col4\" class=\"data row6 col4\" >5.08%</td> \n",
       "    </tr>    <tr> \n",
       "        <th id=\"T_e7175bcc_59bd_11e9_87d3_701ce71031eflevel0_row7\" class=\"row_heading level0 row7\" >3</th> \n",
       "        <td id=\"T_e7175bcc_59bd_11e9_87d3_701ce71031efrow7_col0\" class=\"data row7 col0\" >chengdu</td> \n",
       "        <td id=\"T_e7175bcc_59bd_11e9_87d3_701ce71031efrow7_col1\" class=\"data row7 col1\" >11896</td> \n",
       "        <td id=\"T_e7175bcc_59bd_11e9_87d3_701ce71031efrow7_col2\" class=\"data row7 col2\" >11500</td> \n",
       "        <td id=\"T_e7175bcc_59bd_11e9_87d3_701ce71031efrow7_col3\" class=\"data row7 col3\" >7028</td> \n",
       "        <td id=\"T_e7175bcc_59bd_11e9_87d3_701ce71031efrow7_col4\" class=\"data row7 col4\" >5.04%</td> \n",
       "    </tr>    <tr> \n",
       "        <th id=\"T_e7175bcc_59bd_11e9_87d3_701ce71031eflevel0_row8\" class=\"row_heading level0 row8\" >22</th> \n",
       "        <td id=\"T_e7175bcc_59bd_11e9_87d3_701ce71031efrow8_col0\" class=\"data row8 col0\" >xian</td> \n",
       "        <td id=\"T_e7175bcc_59bd_11e9_87d3_701ce71031efrow8_col1\" class=\"data row8 col1\" >11075</td> \n",
       "        <td id=\"T_e7175bcc_59bd_11e9_87d3_701ce71031efrow8_col2\" class=\"data row8 col2\" >10000</td> \n",
       "        <td id=\"T_e7175bcc_59bd_11e9_87d3_701ce71031efrow8_col3\" class=\"data row8 col3\" >3833</td> \n",
       "        <td id=\"T_e7175bcc_59bd_11e9_87d3_701ce71031efrow8_col4\" class=\"data row8 col4\" >2.75%</td> \n",
       "    </tr>    <tr> \n",
       "        <th id=\"T_e7175bcc_59bd_11e9_87d3_701ce71031eflevel0_row9\" class=\"row_heading level0 row9\" >2</th> \n",
       "        <td id=\"T_e7175bcc_59bd_11e9_87d3_701ce71031efrow9_col0\" class=\"data row9 col0\" >changsha</td> \n",
       "        <td id=\"T_e7175bcc_59bd_11e9_87d3_701ce71031efrow9_col1\" class=\"data row9 col1\" >10847</td> \n",
       "        <td id=\"T_e7175bcc_59bd_11e9_87d3_701ce71031efrow9_col2\" class=\"data row9 col2\" >10000</td> \n",
       "        <td id=\"T_e7175bcc_59bd_11e9_87d3_701ce71031efrow9_col3\" class=\"data row9 col3\" >3354</td> \n",
       "        <td id=\"T_e7175bcc_59bd_11e9_87d3_701ce71031efrow9_col4\" class=\"data row9 col4\" >2.40%</td> \n",
       "    </tr>    <tr> \n",
       "        <th id=\"T_e7175bcc_59bd_11e9_87d3_701ce71031eflevel0_row10\" class=\"row_heading level0 row10\" >11</th> \n",
       "        <td id=\"T_e7175bcc_59bd_11e9_87d3_701ce71031efrow10_col0\" class=\"data row10 col0\" >hefei</td> \n",
       "        <td id=\"T_e7175bcc_59bd_11e9_87d3_701ce71031efrow10_col1\" class=\"data row10 col1\" >9252</td> \n",
       "        <td id=\"T_e7175bcc_59bd_11e9_87d3_701ce71031efrow10_col2\" class=\"data row10 col2\" >8500</td> \n",
       "        <td id=\"T_e7175bcc_59bd_11e9_87d3_701ce71031efrow10_col3\" class=\"data row10 col3\" >3071</td> \n",
       "        <td id=\"T_e7175bcc_59bd_11e9_87d3_701ce71031efrow10_col4\" class=\"data row10 col4\" >2.20%</td> \n",
       "    </tr>    <tr> \n",
       "        <th id=\"T_e7175bcc_59bd_11e9_87d3_701ce71031eflevel0_row11\" class=\"row_heading level0 row11\" >5</th> \n",
       "        <td id=\"T_e7175bcc_59bd_11e9_87d3_701ce71031efrow11_col0\" class=\"data row11 col0\" >dalian</td> \n",
       "        <td id=\"T_e7175bcc_59bd_11e9_87d3_701ce71031efrow11_col1\" class=\"data row11 col1\" >10030</td> \n",
       "        <td id=\"T_e7175bcc_59bd_11e9_87d3_701ce71031efrow11_col2\" class=\"data row11 col2\" >9000</td> \n",
       "        <td id=\"T_e7175bcc_59bd_11e9_87d3_701ce71031efrow11_col3\" class=\"data row11 col3\" >2889</td> \n",
       "        <td id=\"T_e7175bcc_59bd_11e9_87d3_701ce71031efrow11_col4\" class=\"data row11 col4\" >2.07%</td> \n",
       "    </tr>    <tr> \n",
       "        <th id=\"T_e7175bcc_59bd_11e9_87d3_701ce71031eflevel0_row12\" class=\"row_heading level0 row12\" >4</th> \n",
       "        <td id=\"T_e7175bcc_59bd_11e9_87d3_701ce71031efrow12_col0\" class=\"data row12 col0\" >chongqing</td> \n",
       "        <td id=\"T_e7175bcc_59bd_11e9_87d3_701ce71031efrow12_col1\" class=\"data row12 col1\" >10017</td> \n",
       "        <td id=\"T_e7175bcc_59bd_11e9_87d3_701ce71031efrow12_col2\" class=\"data row12 col2\" >9000</td> \n",
       "        <td id=\"T_e7175bcc_59bd_11e9_87d3_701ce71031efrow12_col3\" class=\"data row12 col3\" >2570</td> \n",
       "        <td id=\"T_e7175bcc_59bd_11e9_87d3_701ce71031efrow12_col4\" class=\"data row12 col4\" >1.84%</td> \n",
       "    </tr>    <tr> \n",
       "        <th id=\"T_e7175bcc_59bd_11e9_87d3_701ce71031eflevel0_row13\" class=\"row_heading level0 row13\" >23</th> \n",
       "        <td id=\"T_e7175bcc_59bd_11e9_87d3_701ce71031efrow13_col0\" class=\"data row13 col0\" >zhengzhou</td> \n",
       "        <td id=\"T_e7175bcc_59bd_11e9_87d3_701ce71031efrow13_col1\" class=\"data row13 col1\" >8348</td> \n",
       "        <td id=\"T_e7175bcc_59bd_11e9_87d3_701ce71031efrow13_col2\" class=\"data row13 col2\" >7000</td> \n",
       "        <td id=\"T_e7175bcc_59bd_11e9_87d3_701ce71031efrow13_col3\" class=\"data row13 col3\" >2317</td> \n",
       "        <td id=\"T_e7175bcc_59bd_11e9_87d3_701ce71031efrow13_col4\" class=\"data row13 col4\" >1.66%</td> \n",
       "    </tr>    <tr> \n",
       "        <th id=\"T_e7175bcc_59bd_11e9_87d3_701ce71031eflevel0_row14\" class=\"row_heading level0 row14\" >7</th> \n",
       "        <td id=\"T_e7175bcc_59bd_11e9_87d3_701ce71031efrow14_col0\" class=\"data row14 col0\" >fuzhou</td> \n",
       "        <td id=\"T_e7175bcc_59bd_11e9_87d3_701ce71031efrow14_col1\" class=\"data row14 col1\" >10062</td> \n",
       "        <td id=\"T_e7175bcc_59bd_11e9_87d3_701ce71031efrow14_col2\" class=\"data row14 col2\" >9000</td> \n",
       "        <td id=\"T_e7175bcc_59bd_11e9_87d3_701ce71031efrow14_col3\" class=\"data row14 col3\" >2085</td> \n",
       "        <td id=\"T_e7175bcc_59bd_11e9_87d3_701ce71031efrow14_col4\" class=\"data row14 col4\" >1.49%</td> \n",
       "    </tr>    <tr> \n",
       "        <th id=\"T_e7175bcc_59bd_11e9_87d3_701ce71031eflevel0_row15\" class=\"row_heading level0 row15\" >6</th> \n",
       "        <td id=\"T_e7175bcc_59bd_11e9_87d3_701ce71031efrow15_col0\" class=\"data row15 col0\" >dongguan</td> \n",
       "        <td id=\"T_e7175bcc_59bd_11e9_87d3_701ce71031efrow15_col1\" class=\"data row15 col1\" >11353</td> \n",
       "        <td id=\"T_e7175bcc_59bd_11e9_87d3_701ce71031efrow15_col2\" class=\"data row15 col2\" >10417</td> \n",
       "        <td id=\"T_e7175bcc_59bd_11e9_87d3_701ce71031efrow15_col3\" class=\"data row15 col3\" >1632</td> \n",
       "        <td id=\"T_e7175bcc_59bd_11e9_87d3_701ce71031efrow15_col4\" class=\"data row15 col4\" >1.17%</td> \n",
       "    </tr>    <tr> \n",
       "        <th id=\"T_e7175bcc_59bd_11e9_87d3_701ce71031eflevel0_row16\" class=\"row_heading level0 row16\" >15</th> \n",
       "        <td id=\"T_e7175bcc_59bd_11e9_87d3_701ce71031efrow16_col0\" class=\"data row16 col0\" >ningbo</td> \n",
       "        <td id=\"T_e7175bcc_59bd_11e9_87d3_701ce71031efrow16_col1\" class=\"data row16 col1\" >10809</td> \n",
       "        <td id=\"T_e7175bcc_59bd_11e9_87d3_701ce71031efrow16_col2\" class=\"data row16 col2\" >10000</td> \n",
       "        <td id=\"T_e7175bcc_59bd_11e9_87d3_701ce71031efrow16_col3\" class=\"data row16 col3\" >1485</td> \n",
       "        <td id=\"T_e7175bcc_59bd_11e9_87d3_701ce71031efrow16_col4\" class=\"data row16 col4\" >1.06%</td> \n",
       "    </tr>    <tr> \n",
       "        <th id=\"T_e7175bcc_59bd_11e9_87d3_701ce71031eflevel0_row17\" class=\"row_heading level0 row17\" >12</th> \n",
       "        <td id=\"T_e7175bcc_59bd_11e9_87d3_701ce71031efrow17_col0\" class=\"data row17 col0\" >jinan</td> \n",
       "        <td id=\"T_e7175bcc_59bd_11e9_87d3_701ce71031efrow17_col1\" class=\"data row17 col1\" >9375</td> \n",
       "        <td id=\"T_e7175bcc_59bd_11e9_87d3_701ce71031efrow17_col2\" class=\"data row17 col2\" >8500</td> \n",
       "        <td id=\"T_e7175bcc_59bd_11e9_87d3_701ce71031efrow17_col3\" class=\"data row17 col3\" >1479</td> \n",
       "        <td id=\"T_e7175bcc_59bd_11e9_87d3_701ce71031efrow17_col4\" class=\"data row17 col4\" >1.06%</td> \n",
       "    </tr>    <tr> \n",
       "        <th id=\"T_e7175bcc_59bd_11e9_87d3_701ce71031eflevel0_row18\" class=\"row_heading level0 row18\" >18</th> \n",
       "        <td id=\"T_e7175bcc_59bd_11e9_87d3_701ce71031efrow18_col0\" class=\"data row18 col0\" >shenyang</td> \n",
       "        <td id=\"T_e7175bcc_59bd_11e9_87d3_701ce71031efrow18_col1\" class=\"data row18 col1\" >7851</td> \n",
       "        <td id=\"T_e7175bcc_59bd_11e9_87d3_701ce71031efrow18_col2\" class=\"data row18 col2\" >7000</td> \n",
       "        <td id=\"T_e7175bcc_59bd_11e9_87d3_701ce71031efrow18_col3\" class=\"data row18 col3\" >1452</td> \n",
       "        <td id=\"T_e7175bcc_59bd_11e9_87d3_701ce71031efrow18_col4\" class=\"data row18 col4\" >1.04%</td> \n",
       "    </tr>    <tr> \n",
       "        <th id=\"T_e7175bcc_59bd_11e9_87d3_701ce71031eflevel0_row19\" class=\"row_heading level0 row19\" >16</th> \n",
       "        <td id=\"T_e7175bcc_59bd_11e9_87d3_701ce71031efrow19_col0\" class=\"data row19 col0\" >qingdao</td> \n",
       "        <td id=\"T_e7175bcc_59bd_11e9_87d3_701ce71031efrow19_col1\" class=\"data row19 col1\" >9549</td> \n",
       "        <td id=\"T_e7175bcc_59bd_11e9_87d3_701ce71031efrow19_col2\" class=\"data row19 col2\" >8750</td> \n",
       "        <td id=\"T_e7175bcc_59bd_11e9_87d3_701ce71031efrow19_col3\" class=\"data row19 col3\" >1385</td> \n",
       "        <td id=\"T_e7175bcc_59bd_11e9_87d3_701ce71031efrow19_col4\" class=\"data row19 col4\" >0.99%</td> \n",
       "    </tr>    <tr> \n",
       "        <th id=\"T_e7175bcc_59bd_11e9_87d3_701ce71031eflevel0_row20\" class=\"row_heading level0 row20\" >20</th> \n",
       "        <td id=\"T_e7175bcc_59bd_11e9_87d3_701ce71031efrow20_col0\" class=\"data row20 col0\" >tianjin</td> \n",
       "        <td id=\"T_e7175bcc_59bd_11e9_87d3_701ce71031efrow20_col1\" class=\"data row20 col1\" >10988</td> \n",
       "        <td id=\"T_e7175bcc_59bd_11e9_87d3_701ce71031efrow20_col2\" class=\"data row20 col2\" >10000</td> \n",
       "        <td id=\"T_e7175bcc_59bd_11e9_87d3_701ce71031efrow20_col3\" class=\"data row20 col3\" >1147</td> \n",
       "        <td id=\"T_e7175bcc_59bd_11e9_87d3_701ce71031efrow20_col4\" class=\"data row20 col4\" >0.82%</td> \n",
       "    </tr>    <tr> \n",
       "        <th id=\"T_e7175bcc_59bd_11e9_87d3_701ce71031eflevel0_row21\" class=\"row_heading level0 row21\" >13</th> \n",
       "        <td id=\"T_e7175bcc_59bd_11e9_87d3_701ce71031efrow21_col0\" class=\"data row21 col0\" >kuming</td> \n",
       "        <td id=\"T_e7175bcc_59bd_11e9_87d3_701ce71031efrow21_col1\" class=\"data row21 col1\" >8458</td> \n",
       "        <td id=\"T_e7175bcc_59bd_11e9_87d3_701ce71031efrow21_col2\" class=\"data row21 col2\" >8000</td> \n",
       "        <td id=\"T_e7175bcc_59bd_11e9_87d3_701ce71031efrow21_col3\" class=\"data row21 col3\" >1011</td> \n",
       "        <td id=\"T_e7175bcc_59bd_11e9_87d3_701ce71031efrow21_col4\" class=\"data row21 col4\" >0.72%</td> \n",
       "    </tr>    <tr> \n",
       "        <th id=\"T_e7175bcc_59bd_11e9_87d3_701ce71031eflevel0_row22\" class=\"row_heading level0 row22\" >10</th> \n",
       "        <td id=\"T_e7175bcc_59bd_11e9_87d3_701ce71031efrow22_col0\" class=\"data row22 col0\" >harbin</td> \n",
       "        <td id=\"T_e7175bcc_59bd_11e9_87d3_701ce71031efrow22_col1\" class=\"data row22 col1\" >6403</td> \n",
       "        <td id=\"T_e7175bcc_59bd_11e9_87d3_701ce71031efrow22_col2\" class=\"data row22 col2\" >5250</td> \n",
       "        <td id=\"T_e7175bcc_59bd_11e9_87d3_701ce71031efrow22_col3\" class=\"data row22 col3\" >870</td> \n",
       "        <td id=\"T_e7175bcc_59bd_11e9_87d3_701ce71031efrow22_col4\" class=\"data row22 col4\" >0.62%</td> \n",
       "    </tr>    <tr> \n",
       "        <th id=\"T_e7175bcc_59bd_11e9_87d3_701ce71031eflevel0_row23\" class=\"row_heading level0 row23\" >1</th> \n",
       "        <td id=\"T_e7175bcc_59bd_11e9_87d3_701ce71031efrow23_col0\" class=\"data row23 col0\" >changchun</td> \n",
       "        <td id=\"T_e7175bcc_59bd_11e9_87d3_701ce71031efrow23_col1\" class=\"data row23 col1\" >8580</td> \n",
       "        <td id=\"T_e7175bcc_59bd_11e9_87d3_701ce71031efrow23_col2\" class=\"data row23 col2\" >7000</td> \n",
       "        <td id=\"T_e7175bcc_59bd_11e9_87d3_701ce71031efrow23_col3\" class=\"data row23 col3\" >614</td> \n",
       "        <td id=\"T_e7175bcc_59bd_11e9_87d3_701ce71031efrow23_col4\" class=\"data row23 col4\" >0.44%</td> \n",
       "    </tr></tbody> \n",
       "</table> "
      ],
      "text/plain": [
       "<pandas.io.formats.style.Styler at 0x1f787d2add8>"
      ]
     },
     "execution_count": 33,
     "metadata": {},
     "output_type": "execute_result"
    }
   ],
   "source": [
    "data_city.sort_values(by='head_count', ascending=False).style.format({\"percentage\":\"{:.2%}\",\"salary_mean\":\"{:.0f}\",\"salary_median\":\"{:.0f}\"})"
   ]
  },
  {
   "cell_type": "code",
   "execution_count": null,
   "metadata": {},
   "outputs": [],
   "source": []
  },
  {
   "cell_type": "code",
   "execution_count": 34,
   "metadata": {},
   "outputs": [
    {
     "data": {
      "text/plain": [
       "<BarContainer object of 24 artists>"
      ]
     },
     "execution_count": 34,
     "metadata": {},
     "output_type": "execute_result"
    },
    {
     "data": {
      "image/png": "[encoded data removed]",
      "text/plain": [
       "<Figure size 432x288 with 1 Axes>"
      ]
     },
     "metadata": {
      "needs_background": "light"
     },
     "output_type": "display_data"
    }
   ],
   "source": [
    "plt.bar(data_city.city_, data_city.head_count)"
   ]
  },
  {
   "cell_type": "markdown",
   "metadata": {},
   "source": [
    "# 公司 Company"
   ]
  },
  {
   "cell_type": "markdown",
   "metadata": {},
   "source": [
    "## 公司性质 Company Type"
   ]
  },
  {
   "cell_type": "code",
   "execution_count": 35,
   "metadata": {},
   "outputs": [
    {
     "data": {
      "text/html": [
       "<style  type=\"text/css\" >\n",
       "</style>  \n",
       "<table id=\"T_ea32492e_59bd_11e9_9ac6_701ce71031ef\" > \n",
       "<thead>    <tr> \n",
       "        <th class=\"blank level0\" ></th> \n",
       "        <th class=\"col_heading level0 col0\" >company_type_</th> \n",
       "        <th class=\"col_heading level0 col1\" >salary_mean</th> \n",
       "        <th class=\"col_heading level0 col2\" >salary_median</th> \n",
       "        <th class=\"col_heading level0 col3\" >head_count</th> \n",
       "        <th class=\"col_heading level0 col4\" >percentage</th> \n",
       "    </tr></thead> \n",
       "<tbody>    <tr> \n",
       "        <th id=\"T_ea32492e_59bd_11e9_9ac6_701ce71031eflevel0_row0\" class=\"row_heading level0 row0\" >9</th> \n",
       "        <td id=\"T_ea32492e_59bd_11e9_9ac6_701ce71031efrow0_col0\" class=\"data row0 col0\" >us_eu</td> \n",
       "        <td id=\"T_ea32492e_59bd_11e9_9ac6_701ce71031efrow0_col1\" class=\"data row0 col1\" >16553</td> \n",
       "        <td id=\"T_ea32492e_59bd_11e9_9ac6_701ce71031efrow0_col2\" class=\"data row0 col2\" >15000</td> \n",
       "        <td id=\"T_ea32492e_59bd_11e9_9ac6_701ce71031efrow0_col3\" class=\"data row0 col3\" >5289</td> \n",
       "        <td id=\"T_ea32492e_59bd_11e9_9ac6_701ce71031efrow0_col4\" class=\"data row0 col4\" >4.07%</td> \n",
       "    </tr>    <tr> \n",
       "        <th id=\"T_ea32492e_59bd_11e9_9ac6_701ce71031eflevel0_row1\" class=\"row_heading level0 row1\" >2</th> \n",
       "        <td id=\"T_ea32492e_59bd_11e9_9ac6_701ce71031efrow1_col0\" class=\"data row1 col0\" >foreign_rep</td> \n",
       "        <td id=\"T_ea32492e_59bd_11e9_9ac6_701ce71031efrow1_col1\" class=\"data row1 col1\" >16158</td> \n",
       "        <td id=\"T_ea32492e_59bd_11e9_9ac6_701ce71031efrow1_col2\" class=\"data row1 col2\" >15000</td> \n",
       "        <td id=\"T_ea32492e_59bd_11e9_9ac6_701ce71031efrow1_col3\" class=\"data row1 col3\" >108</td> \n",
       "        <td id=\"T_ea32492e_59bd_11e9_9ac6_701ce71031efrow1_col4\" class=\"data row1 col4\" >0.08%</td> \n",
       "    </tr>    <tr> \n",
       "        <th id=\"T_ea32492e_59bd_11e9_9ac6_701ce71031eflevel0_row2\" class=\"row_heading level0 row2\" >3</th> \n",
       "        <td id=\"T_ea32492e_59bd_11e9_9ac6_701ce71031efrow2_col0\" class=\"data row2 col0\" >listed</td> \n",
       "        <td id=\"T_ea32492e_59bd_11e9_9ac6_701ce71031efrow2_col1\" class=\"data row2 col1\" >14597</td> \n",
       "        <td id=\"T_ea32492e_59bd_11e9_9ac6_701ce71031efrow2_col2\" class=\"data row2 col2\" >12500</td> \n",
       "        <td id=\"T_ea32492e_59bd_11e9_9ac6_701ce71031efrow2_col3\" class=\"data row2 col3\" >12400</td> \n",
       "        <td id=\"T_ea32492e_59bd_11e9_9ac6_701ce71031efrow2_col4\" class=\"data row2 col4\" >9.55%</td> \n",
       "    </tr>    <tr> \n",
       "        <th id=\"T_ea32492e_59bd_11e9_9ac6_701ce71031eflevel0_row3\" class=\"row_heading level0 row3\" >7</th> \n",
       "        <td id=\"T_ea32492e_59bd_11e9_9ac6_701ce71031efrow3_col0\" class=\"data row3 col0\" >startup</td> \n",
       "        <td id=\"T_ea32492e_59bd_11e9_9ac6_701ce71031efrow3_col1\" class=\"data row3 col1\" >14408</td> \n",
       "        <td id=\"T_ea32492e_59bd_11e9_9ac6_701ce71031efrow3_col2\" class=\"data row3 col2\" >12500</td> \n",
       "        <td id=\"T_ea32492e_59bd_11e9_9ac6_701ce71031efrow3_col3\" class=\"data row3 col3\" >3221</td> \n",
       "        <td id=\"T_ea32492e_59bd_11e9_9ac6_701ce71031efrow3_col4\" class=\"data row3 col4\" >2.48%</td> \n",
       "    </tr>    <tr> \n",
       "        <th id=\"T_ea32492e_59bd_11e9_9ac6_701ce71031eflevel0_row4\" class=\"row_heading level0 row4\" >0</th> \n",
       "        <td id=\"T_ea32492e_59bd_11e9_9ac6_701ce71031efrow4_col0\" class=\"data row4 col0\" >foreign</td> \n",
       "        <td id=\"T_ea32492e_59bd_11e9_9ac6_701ce71031efrow4_col1\" class=\"data row4 col1\" >13904</td> \n",
       "        <td id=\"T_ea32492e_59bd_11e9_9ac6_701ce71031efrow4_col2\" class=\"data row4 col2\" >12500</td> \n",
       "        <td id=\"T_ea32492e_59bd_11e9_9ac6_701ce71031efrow4_col3\" class=\"data row4 col3\" >5830</td> \n",
       "        <td id=\"T_ea32492e_59bd_11e9_9ac6_701ce71031efrow4_col4\" class=\"data row4 col4\" >4.49%</td> \n",
       "    </tr>    <tr> \n",
       "        <th id=\"T_ea32492e_59bd_11e9_9ac6_701ce71031eflevel0_row5\" class=\"row_heading level0 row5\" >8</th> \n",
       "        <td id=\"T_ea32492e_59bd_11e9_9ac6_701ce71031efrow5_col0\" class=\"data row5 col0\" >state</td> \n",
       "        <td id=\"T_ea32492e_59bd_11e9_9ac6_701ce71031efrow5_col1\" class=\"data row5 col1\" >13819</td> \n",
       "        <td id=\"T_ea32492e_59bd_11e9_9ac6_701ce71031efrow5_col2\" class=\"data row5 col2\" >12500</td> \n",
       "        <td id=\"T_ea32492e_59bd_11e9_9ac6_701ce71031efrow5_col3\" class=\"data row5 col3\" >7478</td> \n",
       "        <td id=\"T_ea32492e_59bd_11e9_9ac6_701ce71031efrow5_col4\" class=\"data row5 col4\" >5.76%</td> \n",
       "    </tr>    <tr> \n",
       "        <th id=\"T_ea32492e_59bd_11e9_9ac6_701ce71031eflevel0_row6\" class=\"row_heading level0 row6\" >5</th> \n",
       "        <td id=\"T_ea32492e_59bd_11e9_9ac6_701ce71031efrow6_col0\" class=\"data row6 col0\" >private</td> \n",
       "        <td id=\"T_ea32492e_59bd_11e9_9ac6_701ce71031efrow6_col1\" class=\"data row6 col1\" >13359</td> \n",
       "        <td id=\"T_ea32492e_59bd_11e9_9ac6_701ce71031efrow6_col2\" class=\"data row6 col2\" >12500</td> \n",
       "        <td id=\"T_ea32492e_59bd_11e9_9ac6_701ce71031efrow6_col3\" class=\"data row6 col3\" >94473</td> \n",
       "        <td id=\"T_ea32492e_59bd_11e9_9ac6_701ce71031efrow6_col4\" class=\"data row6 col4\" >72.79%</td> \n",
       "    </tr>    <tr> \n",
       "        <th id=\"T_ea32492e_59bd_11e9_9ac6_701ce71031eflevel0_row7\" class=\"row_heading level0 row7\" >1</th> \n",
       "        <td id=\"T_ea32492e_59bd_11e9_9ac6_701ce71031efrow7_col0\" class=\"data row7 col0\" >foreign_gov</td> \n",
       "        <td id=\"T_ea32492e_59bd_11e9_9ac6_701ce71031efrow7_col1\" class=\"data row7 col1\" >13347</td> \n",
       "        <td id=\"T_ea32492e_59bd_11e9_9ac6_701ce71031efrow7_col2\" class=\"data row7 col2\" >11667</td> \n",
       "        <td id=\"T_ea32492e_59bd_11e9_9ac6_701ce71031efrow7_col3\" class=\"data row7 col3\" >18</td> \n",
       "        <td id=\"T_ea32492e_59bd_11e9_9ac6_701ce71031efrow7_col4\" class=\"data row7 col4\" >0.01%</td> \n",
       "    </tr>    <tr> \n",
       "        <th id=\"T_ea32492e_59bd_11e9_9ac6_701ce71031eflevel0_row8\" class=\"row_heading level0 row8\" >6</th> \n",
       "        <td id=\"T_ea32492e_59bd_11e9_9ac6_701ce71031efrow8_col0\" class=\"data row8 col0\" >public_institution</td> \n",
       "        <td id=\"T_ea32492e_59bd_11e9_9ac6_701ce71031efrow8_col1\" class=\"data row8 col1\" >13137</td> \n",
       "        <td id=\"T_ea32492e_59bd_11e9_9ac6_701ce71031efrow8_col2\" class=\"data row8 col2\" >11667</td> \n",
       "        <td id=\"T_ea32492e_59bd_11e9_9ac6_701ce71031efrow8_col3\" class=\"data row8 col3\" >841</td> \n",
       "        <td id=\"T_ea32492e_59bd_11e9_9ac6_701ce71031efrow8_col4\" class=\"data row8 col4\" >0.65%</td> \n",
       "    </tr>    <tr> \n",
       "        <th id=\"T_ea32492e_59bd_11e9_9ac6_701ce71031eflevel0_row9\" class=\"row_heading level0 row9\" >4</th> \n",
       "        <td id=\"T_ea32492e_59bd_11e9_9ac6_701ce71031efrow9_col0\" class=\"data row9 col0\" >non_profit</td> \n",
       "        <td id=\"T_ea32492e_59bd_11e9_9ac6_701ce71031efrow9_col1\" class=\"data row9 col1\" >10167</td> \n",
       "        <td id=\"T_ea32492e_59bd_11e9_9ac6_701ce71031efrow9_col2\" class=\"data row9 col2\" >10000</td> \n",
       "        <td id=\"T_ea32492e_59bd_11e9_9ac6_701ce71031efrow9_col3\" class=\"data row9 col3\" >139</td> \n",
       "        <td id=\"T_ea32492e_59bd_11e9_9ac6_701ce71031efrow9_col4\" class=\"data row9 col4\" >0.11%</td> \n",
       "    </tr></tbody> \n",
       "</table> "
      ],
      "text/plain": [
       "<pandas.io.formats.style.Styler at 0x1f78b1bb898>"
      ]
     },
     "execution_count": 35,
     "metadata": {},
     "output_type": "execute_result"
    }
   ],
   "source": [
    "data_company_type=get_sub_stats(data,'company_type_')\n",
    "data_company_type.style.format({\"percentage\":\"{:.2%}\",\"salary_mean\":\"{:.0f}\",\"salary_median\":\"{:.0f}\"})"
   ]
  },
  {
   "cell_type": "markdown",
   "metadata": {},
   "source": [
    "us_eu是欧美外企，startup是创业公司，listed是上市公司，state是国企，private是私企，foreign是非欧美外企，其他不足1000个样本的不管了。"
   ]
  },
  {
   "cell_type": "code",
   "execution_count": 36,
   "metadata": {},
   "outputs": [],
   "source": [
    "salary_us_eu=data[data.company_type_us_eu==1].monthly_salary\n",
    "salary_startup=data[data.company_type_startup==1].monthly_salary\n",
    "salary_listed=data[data.company_type_listed==1].monthly_salary"
   ]
  },
  {
   "cell_type": "code",
   "execution_count": 37,
   "metadata": {},
   "outputs": [
    {
     "data": {
      "text/plain": [
       "F_onewayResult(statistic=119.77184496249959, pvalue=1.0851072054106644e-27)"
      ]
     },
     "execution_count": 37,
     "metadata": {},
     "output_type": "execute_result"
    }
   ],
   "source": [
    "stats.f_oneway(salary_us_eu,salary_startup)"
   ]
  },
  {
   "cell_type": "code",
   "execution_count": 38,
   "metadata": {},
   "outputs": [
    {
     "data": {
      "text/plain": [
       "F_onewayResult(statistic=230.18298018979925, pvalue=1.1499907691025375e-51)"
      ]
     },
     "execution_count": 38,
     "metadata": {},
     "output_type": "execute_result"
    }
   ],
   "source": [
    "stats.f_oneway(salary_us_eu,salary_listed)"
   ]
  },
  {
   "cell_type": "markdown",
   "metadata": {},
   "source": [
    "由上报可知，欧美外企的工资显著高于其他企业。比创业公司和上司公司足足高了2000元呀。要努力学好英语呀！\n",
    "\n",
    "顺便做个广告，大家如果想通过看美剧或者看英文书提高英语，可以上我的网站，美剧单词网。里面会把你不懂的单词列出来，你再去听美剧，听英语有声书（网站提供），就能听懂了。\n",
    "\n",
    "https://www.tvshowwords.com/\n"
   ]
  },
  {
   "cell_type": "markdown",
   "metadata": {},
   "source": [
    "## 公司规模 Company Size"
   ]
  },
  {
   "cell_type": "code",
   "execution_count": 39,
   "metadata": {},
   "outputs": [
    {
     "data": {
      "text/html": [
       "<style  type=\"text/css\" >\n",
       "</style>  \n",
       "<table id=\"T_ecd54af6_59bd_11e9_8430_701ce71031ef\" > \n",
       "<thead>    <tr> \n",
       "        <th class=\"blank level0\" ></th> \n",
       "        <th class=\"col_heading level0 col0\" >company_size_</th> \n",
       "        <th class=\"col_heading level0 col1\" >salary_mean</th> \n",
       "        <th class=\"col_heading level0 col2\" >salary_median</th> \n",
       "        <th class=\"col_heading level0 col3\" >head_count</th> \n",
       "        <th class=\"col_heading level0 col4\" >percentage</th> \n",
       "    </tr></thead> \n",
       "<tbody>    <tr> \n",
       "        <th id=\"T_ecd54af6_59bd_11e9_8430_701ce71031eflevel0_row0\" class=\"row_heading level0 row0\" >0</th> \n",
       "        <td id=\"T_ecd54af6_59bd_11e9_8430_701ce71031efrow0_col0\" class=\"data row0 col0\" >10000</td> \n",
       "        <td id=\"T_ecd54af6_59bd_11e9_8430_701ce71031efrow0_col1\" class=\"data row0 col1\" >19133</td> \n",
       "        <td id=\"T_ecd54af6_59bd_11e9_8430_701ce71031efrow0_col2\" class=\"data row0 col2\" >15000</td> \n",
       "        <td id=\"T_ecd54af6_59bd_11e9_8430_701ce71031efrow0_col3\" class=\"data row0 col3\" >5705</td> \n",
       "        <td id=\"T_ecd54af6_59bd_11e9_8430_701ce71031efrow0_col4\" class=\"data row0 col4\" >4.10%</td> \n",
       "    </tr>    <tr> \n",
       "        <th id=\"T_ecd54af6_59bd_11e9_8430_701ce71031eflevel0_row1\" class=\"row_heading level0 row1\" >4</th> \n",
       "        <td id=\"T_ecd54af6_59bd_11e9_8430_701ce71031efrow1_col0\" class=\"data row1 col0\" >5000_10000</td> \n",
       "        <td id=\"T_ecd54af6_59bd_11e9_8430_701ce71031efrow1_col1\" class=\"data row1 col1\" >15322</td> \n",
       "        <td id=\"T_ecd54af6_59bd_11e9_8430_701ce71031efrow1_col2\" class=\"data row1 col2\" >13500</td> \n",
       "        <td id=\"T_ecd54af6_59bd_11e9_8430_701ce71031efrow1_col3\" class=\"data row1 col3\" >2753</td> \n",
       "        <td id=\"T_ecd54af6_59bd_11e9_8430_701ce71031efrow1_col4\" class=\"data row1 col4\" >1.98%</td> \n",
       "    </tr>    <tr> \n",
       "        <th id=\"T_ecd54af6_59bd_11e9_8430_701ce71031eflevel0_row2\" class=\"row_heading level0 row2\" >1</th> \n",
       "        <td id=\"T_ecd54af6_59bd_11e9_8430_701ce71031efrow2_col0\" class=\"data row2 col0\" >1000_5000</td> \n",
       "        <td id=\"T_ecd54af6_59bd_11e9_8430_701ce71031efrow2_col1\" class=\"data row2 col1\" >15248</td> \n",
       "        <td id=\"T_ecd54af6_59bd_11e9_8430_701ce71031efrow2_col2\" class=\"data row2 col2\" >13500</td> \n",
       "        <td id=\"T_ecd54af6_59bd_11e9_8430_701ce71031efrow2_col3\" class=\"data row2 col3\" >17578</td> \n",
       "        <td id=\"T_ecd54af6_59bd_11e9_8430_701ce71031efrow2_col4\" class=\"data row2 col4\" >12.64%</td> \n",
       "    </tr>    <tr> \n",
       "        <th id=\"T_ecd54af6_59bd_11e9_8430_701ce71031eflevel0_row3\" class=\"row_heading level0 row3\" >5</th> \n",
       "        <td id=\"T_ecd54af6_59bd_11e9_8430_701ce71031efrow3_col0\" class=\"data row3 col0\" >500_1000</td> \n",
       "        <td id=\"T_ecd54af6_59bd_11e9_8430_701ce71031efrow3_col1\" class=\"data row3 col1\" >14714</td> \n",
       "        <td id=\"T_ecd54af6_59bd_11e9_8430_701ce71031efrow3_col2\" class=\"data row3 col2\" >12500</td> \n",
       "        <td id=\"T_ecd54af6_59bd_11e9_8430_701ce71031efrow3_col3\" class=\"data row3 col3\" >14103</td> \n",
       "        <td id=\"T_ecd54af6_59bd_11e9_8430_701ce71031efrow3_col4\" class=\"data row3 col4\" >10.14%</td> \n",
       "    </tr>    <tr> \n",
       "        <th id=\"T_ecd54af6_59bd_11e9_8430_701ce71031eflevel0_row4\" class=\"row_heading level0 row4\" >2</th> \n",
       "        <td id=\"T_ecd54af6_59bd_11e9_8430_701ce71031efrow4_col0\" class=\"data row4 col0\" >150_500</td> \n",
       "        <td id=\"T_ecd54af6_59bd_11e9_8430_701ce71031efrow4_col1\" class=\"data row4 col1\" >13620</td> \n",
       "        <td id=\"T_ecd54af6_59bd_11e9_8430_701ce71031efrow4_col2\" class=\"data row4 col2\" >12500</td> \n",
       "        <td id=\"T_ecd54af6_59bd_11e9_8430_701ce71031efrow4_col3\" class=\"data row4 col3\" >32541</td> \n",
       "        <td id=\"T_ecd54af6_59bd_11e9_8430_701ce71031efrow4_col4\" class=\"data row4 col4\" >23.40%</td> \n",
       "    </tr>    <tr> \n",
       "        <th id=\"T_ecd54af6_59bd_11e9_8430_701ce71031eflevel0_row5\" class=\"row_heading level0 row5\" >6</th> \n",
       "        <td id=\"T_ecd54af6_59bd_11e9_8430_701ce71031efrow5_col0\" class=\"data row5 col0\" >50_150</td> \n",
       "        <td id=\"T_ecd54af6_59bd_11e9_8430_701ce71031efrow5_col1\" class=\"data row5 col1\" >12902</td> \n",
       "        <td id=\"T_ecd54af6_59bd_11e9_8430_701ce71031efrow5_col2\" class=\"data row5 col2\" >12000</td> \n",
       "        <td id=\"T_ecd54af6_59bd_11e9_8430_701ce71031efrow5_col3\" class=\"data row5 col3\" >42630</td> \n",
       "        <td id=\"T_ecd54af6_59bd_11e9_8430_701ce71031efrow5_col4\" class=\"data row5 col4\" >30.65%</td> \n",
       "    </tr>    <tr> \n",
       "        <th id=\"T_ecd54af6_59bd_11e9_8430_701ce71031eflevel0_row6\" class=\"row_heading level0 row6\" >3</th> \n",
       "        <td id=\"T_ecd54af6_59bd_11e9_8430_701ce71031efrow6_col0\" class=\"data row6 col0\" >50</td> \n",
       "        <td id=\"T_ecd54af6_59bd_11e9_8430_701ce71031efrow6_col1\" class=\"data row6 col1\" >12288</td> \n",
       "        <td id=\"T_ecd54af6_59bd_11e9_8430_701ce71031efrow6_col2\" class=\"data row6 col2\" >11500</td> \n",
       "        <td id=\"T_ecd54af6_59bd_11e9_8430_701ce71031efrow6_col3\" class=\"data row6 col3\" >23762</td> \n",
       "        <td id=\"T_ecd54af6_59bd_11e9_8430_701ce71031efrow6_col4\" class=\"data row6 col4\" >17.09%</td> \n",
       "    </tr></tbody> \n",
       "</table> "
      ],
      "text/plain": [
       "<pandas.io.formats.style.Styler at 0x1f78e7180b8>"
      ]
     },
     "execution_count": 39,
     "metadata": {},
     "output_type": "execute_result"
    }
   ],
   "source": [
    "data_company_size=get_sub_stats(data,'company_size_')\n",
    "data_company_size.style.format({\"percentage\":\"{:.2%}\",\"salary_mean\":\"{:.0f}\",\"salary_median\":\"{:.0f}\"})"
   ]
  },
  {
   "cell_type": "markdown",
   "metadata": {},
   "source": [
    "公司越大，工资越高"
   ]
  },
  {
   "cell_type": "markdown",
   "metadata": {},
   "source": [
    "## 行业 Industry"
   ]
  },
  {
   "cell_type": "code",
   "execution_count": 40,
   "metadata": {},
   "outputs": [
    {
     "data": {
      "text/html": [
       "<style  type=\"text/css\" >\n",
       "</style>  \n",
       "<table id=\"T_ee764028_59bd_11e9_b49e_701ce71031ef\" > \n",
       "<thead>    <tr> \n",
       "        <th class=\"blank level0\" ></th> \n",
       "        <th class=\"col_heading level0 col0\" >industry_</th> \n",
       "        <th class=\"col_heading level0 col1\" >salary_mean</th> \n",
       "        <th class=\"col_heading level0 col2\" >salary_median</th> \n",
       "        <th class=\"col_heading level0 col3\" >head_count</th> \n",
       "        <th class=\"col_heading level0 col4\" >percentage</th> \n",
       "    </tr></thead> \n",
       "<tbody>    <tr> \n",
       "        <th id=\"T_ee764028_59bd_11e9_b49e_701ce71031eflevel0_row0\" class=\"row_heading level0 row0\" >4</th> \n",
       "        <td id=\"T_ee764028_59bd_11e9_b49e_701ce71031efrow0_col0\" class=\"data row0 col0\" >finance</td> \n",
       "        <td id=\"T_ee764028_59bd_11e9_b49e_701ce71031efrow0_col1\" class=\"data row0 col1\" >15934</td> \n",
       "        <td id=\"T_ee764028_59bd_11e9_b49e_701ce71031efrow0_col2\" class=\"data row0 col2\" >14583</td> \n",
       "        <td id=\"T_ee764028_59bd_11e9_b49e_701ce71031efrow0_col3\" class=\"data row0 col3\" >5586</td> \n",
       "        <td id=\"T_ee764028_59bd_11e9_b49e_701ce71031efrow0_col4\" class=\"data row0 col4\" >3.33%</td> \n",
       "    </tr>    <tr> \n",
       "        <th id=\"T_ee764028_59bd_11e9_b49e_701ce71031eflevel0_row1\" class=\"row_heading level0 row1\" >2</th> \n",
       "        <td id=\"T_ee764028_59bd_11e9_b49e_701ce71031efrow1_col0\" class=\"data row1 col0\" >edu</td> \n",
       "        <td id=\"T_ee764028_59bd_11e9_b49e_701ce71031efrow1_col1\" class=\"data row1 col1\" >15066</td> \n",
       "        <td id=\"T_ee764028_59bd_11e9_b49e_701ce71031efrow1_col2\" class=\"data row1 col2\" >12500</td> \n",
       "        <td id=\"T_ee764028_59bd_11e9_b49e_701ce71031efrow1_col3\" class=\"data row1 col3\" >10084</td> \n",
       "        <td id=\"T_ee764028_59bd_11e9_b49e_701ce71031efrow1_col4\" class=\"data row1 col4\" >6.01%</td> \n",
       "    </tr>    <tr> \n",
       "        <th id=\"T_ee764028_59bd_11e9_b49e_701ce71031eflevel0_row2\" class=\"row_heading level0 row2\" >6</th> \n",
       "        <td id=\"T_ee764028_59bd_11e9_b49e_701ce71031efrow2_col0\" class=\"data row2 col0\" >logistic</td> \n",
       "        <td id=\"T_ee764028_59bd_11e9_b49e_701ce71031efrow2_col1\" class=\"data row2 col1\" >14341</td> \n",
       "        <td id=\"T_ee764028_59bd_11e9_b49e_701ce71031efrow2_col2\" class=\"data row2 col2\" >12500</td> \n",
       "        <td id=\"T_ee764028_59bd_11e9_b49e_701ce71031efrow2_col3\" class=\"data row2 col3\" >2268</td> \n",
       "        <td id=\"T_ee764028_59bd_11e9_b49e_701ce71031efrow2_col4\" class=\"data row2 col4\" >1.35%</td> \n",
       "    </tr>    <tr> \n",
       "        <th id=\"T_ee764028_59bd_11e9_b49e_701ce71031eflevel0_row3\" class=\"row_heading level0 row3\" >9</th> \n",
       "        <td id=\"T_ee764028_59bd_11e9_b49e_701ce71031efrow3_col0\" class=\"data row3 col0\" >service</td> \n",
       "        <td id=\"T_ee764028_59bd_11e9_b49e_701ce71031efrow3_col1\" class=\"data row3 col1\" >14236</td> \n",
       "        <td id=\"T_ee764028_59bd_11e9_b49e_701ce71031efrow3_col2\" class=\"data row3 col2\" >12500</td> \n",
       "        <td id=\"T_ee764028_59bd_11e9_b49e_701ce71031efrow3_col3\" class=\"data row3 col3\" >1432</td> \n",
       "        <td id=\"T_ee764028_59bd_11e9_b49e_701ce71031efrow3_col4\" class=\"data row3 col4\" >0.85%</td> \n",
       "    </tr>    <tr> \n",
       "        <th id=\"T_ee764028_59bd_11e9_b49e_701ce71031eflevel0_row4\" class=\"row_heading level0 row4\" >1</th> \n",
       "        <td id=\"T_ee764028_59bd_11e9_b49e_701ce71031efrow4_col0\" class=\"data row4 col0\" >computer</td> \n",
       "        <td id=\"T_ee764028_59bd_11e9_b49e_701ce71031efrow4_col1\" class=\"data row4 col1\" >13756</td> \n",
       "        <td id=\"T_ee764028_59bd_11e9_b49e_701ce71031efrow4_col2\" class=\"data row4 col2\" >12500</td> \n",
       "        <td id=\"T_ee764028_59bd_11e9_b49e_701ce71031efrow4_col3\" class=\"data row4 col3\" >119772</td> \n",
       "        <td id=\"T_ee764028_59bd_11e9_b49e_701ce71031efrow4_col4\" class=\"data row4 col4\" >71.33%</td> \n",
       "    </tr>    <tr> \n",
       "        <th id=\"T_ee764028_59bd_11e9_b49e_701ce71031eflevel0_row5\" class=\"row_heading level0 row5\" >10</th> \n",
       "        <td id=\"T_ee764028_59bd_11e9_b49e_701ce71031efrow5_col0\" class=\"data row5 col0\" >trade</td> \n",
       "        <td id=\"T_ee764028_59bd_11e9_b49e_701ce71031efrow5_col1\" class=\"data row5 col1\" >13682</td> \n",
       "        <td id=\"T_ee764028_59bd_11e9_b49e_701ce71031efrow5_col2\" class=\"data row5 col2\" >12500</td> \n",
       "        <td id=\"T_ee764028_59bd_11e9_b49e_701ce71031efrow5_col3\" class=\"data row5 col3\" >11629</td> \n",
       "        <td id=\"T_ee764028_59bd_11e9_b49e_701ce71031efrow5_col4\" class=\"data row5 col4\" >6.93%</td> \n",
       "    </tr>    <tr> \n",
       "        <th id=\"T_ee764028_59bd_11e9_b49e_701ce71031eflevel0_row6\" class=\"row_heading level0 row6\" >5</th> \n",
       "        <td id=\"T_ee764028_59bd_11e9_b49e_701ce71031efrow6_col0\" class=\"data row6 col0\" >gov</td> \n",
       "        <td id=\"T_ee764028_59bd_11e9_b49e_701ce71031efrow6_col1\" class=\"data row6 col1\" >13413</td> \n",
       "        <td id=\"T_ee764028_59bd_11e9_b49e_701ce71031efrow6_col2\" class=\"data row6 col2\" >12500</td> \n",
       "        <td id=\"T_ee764028_59bd_11e9_b49e_701ce71031efrow6_col3\" class=\"data row6 col3\" >3510</td> \n",
       "        <td id=\"T_ee764028_59bd_11e9_b49e_701ce71031efrow6_col4\" class=\"data row6 col4\" >2.09%</td> \n",
       "    </tr>    <tr> \n",
       "        <th id=\"T_ee764028_59bd_11e9_b49e_701ce71031eflevel0_row7\" class=\"row_heading level0 row7\" >7</th> \n",
       "        <td id=\"T_ee764028_59bd_11e9_b49e_701ce71031efrow7_col0\" class=\"data row7 col0\" >medical</td> \n",
       "        <td id=\"T_ee764028_59bd_11e9_b49e_701ce71031efrow7_col1\" class=\"data row7 col1\" >12950</td> \n",
       "        <td id=\"T_ee764028_59bd_11e9_b49e_701ce71031efrow7_col2\" class=\"data row7 col2\" >12500</td> \n",
       "        <td id=\"T_ee764028_59bd_11e9_b49e_701ce71031efrow7_col3\" class=\"data row7 col3\" >4309</td> \n",
       "        <td id=\"T_ee764028_59bd_11e9_b49e_701ce71031efrow7_col4\" class=\"data row7 col4\" >2.57%</td> \n",
       "    </tr>    <tr> \n",
       "        <th id=\"T_ee764028_59bd_11e9_b49e_701ce71031eflevel0_row8\" class=\"row_heading level0 row8\" >8</th> \n",
       "        <td id=\"T_ee764028_59bd_11e9_b49e_701ce71031efrow8_col0\" class=\"data row8 col0\" >realestate</td> \n",
       "        <td id=\"T_ee764028_59bd_11e9_b49e_701ce71031efrow8_col1\" class=\"data row8 col1\" >12855</td> \n",
       "        <td id=\"T_ee764028_59bd_11e9_b49e_701ce71031efrow8_col2\" class=\"data row8 col2\" >12000</td> \n",
       "        <td id=\"T_ee764028_59bd_11e9_b49e_701ce71031efrow8_col3\" class=\"data row8 col3\" >3122</td> \n",
       "        <td id=\"T_ee764028_59bd_11e9_b49e_701ce71031efrow8_col4\" class=\"data row8 col4\" >1.86%</td> \n",
       "    </tr>    <tr> \n",
       "        <th id=\"T_ee764028_59bd_11e9_b49e_701ce71031eflevel0_row9\" class=\"row_heading level0 row9\" >3</th> \n",
       "        <td id=\"T_ee764028_59bd_11e9_b49e_701ce71031efrow9_col0\" class=\"data row9 col0\" >energy</td> \n",
       "        <td id=\"T_ee764028_59bd_11e9_b49e_701ce71031efrow9_col1\" class=\"data row9 col1\" >12729</td> \n",
       "        <td id=\"T_ee764028_59bd_11e9_b49e_701ce71031efrow9_col2\" class=\"data row9 col2\" >12000</td> \n",
       "        <td id=\"T_ee764028_59bd_11e9_b49e_701ce71031efrow9_col3\" class=\"data row9 col3\" >3178</td> \n",
       "        <td id=\"T_ee764028_59bd_11e9_b49e_701ce71031efrow9_col4\" class=\"data row9 col4\" >1.89%</td> \n",
       "    </tr>    <tr> \n",
       "        <th id=\"T_ee764028_59bd_11e9_b49e_701ce71031eflevel0_row10\" class=\"row_heading level0 row10\" >0</th> \n",
       "        <td id=\"T_ee764028_59bd_11e9_b49e_701ce71031efrow10_col0\" class=\"data row10 col0\" >ads</td> \n",
       "        <td id=\"T_ee764028_59bd_11e9_b49e_701ce71031efrow10_col1\" class=\"data row10 col1\" >12515</td> \n",
       "        <td id=\"T_ee764028_59bd_11e9_b49e_701ce71031efrow10_col2\" class=\"data row10 col2\" >11500</td> \n",
       "        <td id=\"T_ee764028_59bd_11e9_b49e_701ce71031efrow10_col3\" class=\"data row10 col3\" >3034</td> \n",
       "        <td id=\"T_ee764028_59bd_11e9_b49e_701ce71031efrow10_col4\" class=\"data row10 col4\" >1.81%</td> \n",
       "    </tr></tbody> \n",
       "</table> "
      ],
      "text/plain": [
       "<pandas.io.formats.style.Styler at 0x1f790904240>"
      ]
     },
     "execution_count": 40,
     "metadata": {},
     "output_type": "execute_result"
    }
   ],
   "source": [
    "data_industry=get_sub_stats(data,'industry_')\n",
    "data_industry.style.format({\"percentage\":\"{:.2%}\",\"salary_mean\":\"{:.0f}\",\"salary_median\":\"{:.0f}\"})"
   ]
  },
  {
   "cell_type": "markdown",
   "metadata": {},
   "source": [
    "金融业果然是工资最高的。"
   ]
  },
  {
   "cell_type": "code",
   "execution_count": null,
   "metadata": {},
   "outputs": [],
   "source": []
  },
  {
   "cell_type": "code",
   "execution_count": null,
   "metadata": {},
   "outputs": [],
   "source": []
  }
 ],
 "metadata": {
  "kernelspec": {
   "display_name": "Python 3",
   "language": "python",
   "name": "python3"
  },
  "language_info": {
   "codemirror_mode": {
    "name": "ipython",
    "version": 3
   },
   "file_extension": ".py",
   "mimetype": "text/x-python",
   "name": "python",
   "nbconvert_exporter": "python",
   "pygments_lexer": "ipython3",
   "version": "3.7.1"
  }
 },
 "nbformat": 4,
 "nbformat_minor": 2
}
