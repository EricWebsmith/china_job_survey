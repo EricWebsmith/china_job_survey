{
 "cells": [
  {
   "cell_type": "code",
   "execution_count": 1,
   "metadata": {},
   "outputs": [],
   "source": [
    "from config import *"
   ]
  },
  {
   "cell_type": "code",
   "execution_count": 2,
   "metadata": {},
   "outputs": [
    {
     "name": "stdout",
     "output_type": "stream",
     "text": [
      "2020年3月\n"
     ]
    }
   ],
   "source": [
    "print(f'{year}年{month}月')"
   ]
  },
  {
   "cell_type": "markdown",
   "metadata": {},
   "source": [
    "# Developer Salary in First-Tier Cities 程序员工资调查\n",
    "我在4月1日到3日之间，抓取了某招聘网站的软件和互联网类招聘数据40万条，其中通过程序判断为程序员的14万条。地域方面，我选择了24个主要城市。不过本文只以一线城市为研究对象。这样是为了和我2017年6月的数据做对比。\n",
    "\n",
    "提到2017年的文章，现在居然还有很多人，把这篇文章拿出来炒作。对于社会来说，可气的是，他们直接把2017改成2019，就发表了，这不是骗人么？！对于我来说，可气的是，他们转载居然还冒充是原创，是可忍熟不可忍！"
   ]
  },
  {
   "cell_type": "code",
   "execution_count": 3,
   "metadata": {},
   "outputs": [],
   "source": [
    "import pandas as pd\n",
    "import sys\n",
    "sys.path.append('..')\n",
    "sys.path.append('../py')\n",
    "sys.path.append('../../py')\n",
    "import db\n",
    "import inspect\n",
    "import matplotlib.pyplot as plt\n",
    "plt.rcParams['font.sans-serif']=['SimHei'] #用来正常显示中文标签\n",
    "plt.rcParams['axes.unicode_minus']=False #用来正常显示负号\n",
    "import seaborn as sns\n",
    "import scipy.stats as stats\n",
    "import numpy as np\n",
    "import weighted\n",
    "%matplotlib inline"
   ]
  },
  {
   "cell_type": "code",
   "execution_count": 4,
   "metadata": {},
   "outputs": [],
   "source": [
    "conn=db.get_conn()\n",
    "data_original=pd.read_sql(sql=f\"select * from _{year}{month:02} where monthly_salary>0 and city in ('北京','上海','广州','深圳')  and monthly_salary<80000\", con=conn)\n",
    "conn.close()"
   ]
  },
  {
   "cell_type": "code",
   "execution_count": null,
   "metadata": {},
   "outputs": [],
   "source": []
  },
  {
   "cell_type": "code",
   "execution_count": 6,
   "metadata": {},
   "outputs": [],
   "source": [
    "#del data['publish_date']\n",
    "#del data['published_on_weekend']\n",
    "#del data['title']\n",
    "#del data['title']\n",
    "#del data['company_title']\n",
    "#del data['company_description']\n",
    "#del data['job_description']\n",
    "#del data['job_id']"
   ]
  },
  {
   "cell_type": "code",
   "execution_count": 7,
   "metadata": {},
   "outputs": [
    {
     "data": {
      "text/html": [
       "<div>\n",
       "<style scoped>\n",
       "    .dataframe tbody tr th:only-of-type {\n",
       "        vertical-align: middle;\n",
       "    }\n",
       "\n",
       "    .dataframe tbody tr th {\n",
       "        vertical-align: top;\n",
       "    }\n",
       "\n",
       "    .dataframe thead th {\n",
       "        text-align: right;\n",
       "    }\n",
       "</style>\n",
       "<table border=\"1\" class=\"dataframe\">\n",
       "  <thead>\n",
       "    <tr style=\"text-align: right;\">\n",
       "      <th></th>\n",
       "      <th>job_id</th>\n",
       "      <th>monthly_salary</th>\n",
       "      <th>headcount</th>\n",
       "      <th>title</th>\n",
       "      <th>zhinengleibie</th>\n",
       "      <th>career</th>\n",
       "      <th>real_province</th>\n",
       "      <th>province</th>\n",
       "      <th>city</th>\n",
       "      <th>company_description</th>\n",
       "      <th>...</th>\n",
       "      <th>bd_flink</th>\n",
       "      <th>bd_presto</th>\n",
       "      <th>bd_heron</th>\n",
       "      <th>ml_sklearn</th>\n",
       "      <th>ml_mllib</th>\n",
       "      <th>ml_tensorlayer</th>\n",
       "      <th>ml_paddlepaddle</th>\n",
       "      <th>ml_cntk</th>\n",
       "      <th>ml_theano</th>\n",
       "      <th>ml_mahout</th>\n",
       "    </tr>\n",
       "  </thead>\n",
       "  <tbody>\n",
       "    <tr>\n",
       "      <th>13672</th>\n",
       "      <td>116717167</td>\n",
       "      <td>10000</td>\n",
       "      <td>200</td>\n",
       "      <td>海外业务软件工程师（2020届）</td>\n",
       "      <td>软件工程师</td>\n",
       "      <td>一般程序员</td>\n",
       "      <td>None</td>\n",
       "      <td>上海</td>\n",
       "      <td>上海</td>\n",
       "      <td>上海海隆软件有限公司成立于1989年4月，是国内著名软件企业、国家规划布局内重点软件企业。公...</td>\n",
       "      <td>...</td>\n",
       "      <td>False</td>\n",
       "      <td>False</td>\n",
       "      <td>False</td>\n",
       "      <td>False</td>\n",
       "      <td>False</td>\n",
       "      <td>False</td>\n",
       "      <td>False</td>\n",
       "      <td>False</td>\n",
       "      <td>False</td>\n",
       "      <td>False</td>\n",
       "    </tr>\n",
       "    <tr>\n",
       "      <th>9429</th>\n",
       "      <td>114568087</td>\n",
       "      <td>3750</td>\n",
       "      <td>151</td>\n",
       "      <td>C#软件开发工程师（雄安新区岗位）</td>\n",
       "      <td>软件工程师</td>\n",
       "      <td>一般程序员</td>\n",
       "      <td>None</td>\n",
       "      <td>北京</td>\n",
       "      <td>北京</td>\n",
       "      <td>北京其然科技有限公司，名字源于，顺 其其自 然然，主旨顺其自然、水到渠成。北京其然科技有限公...</td>\n",
       "      <td>...</td>\n",
       "      <td>False</td>\n",
       "      <td>False</td>\n",
       "      <td>False</td>\n",
       "      <td>False</td>\n",
       "      <td>False</td>\n",
       "      <td>False</td>\n",
       "      <td>False</td>\n",
       "      <td>False</td>\n",
       "      <td>False</td>\n",
       "      <td>False</td>\n",
       "    </tr>\n",
       "    <tr>\n",
       "      <th>3255</th>\n",
       "      <td>108834444</td>\n",
       "      <td>15000</td>\n",
       "      <td>150</td>\n",
       "      <td>Java开发工程师</td>\n",
       "      <td>软件工程师</td>\n",
       "      <td>一般程序员</td>\n",
       "      <td>None</td>\n",
       "      <td>北京</td>\n",
       "      <td>北京</td>\n",
       "      <td>大连华信计算机技术股份有限公司（简称大连华信）是一家面向全球客户提供领先的应用软件产品、信息...</td>\n",
       "      <td>...</td>\n",
       "      <td>False</td>\n",
       "      <td>False</td>\n",
       "      <td>False</td>\n",
       "      <td>False</td>\n",
       "      <td>False</td>\n",
       "      <td>False</td>\n",
       "      <td>False</td>\n",
       "      <td>False</td>\n",
       "      <td>False</td>\n",
       "      <td>False</td>\n",
       "    </tr>\n",
       "    <tr>\n",
       "      <th>16334</th>\n",
       "      <td>117792359</td>\n",
       "      <td>12500</td>\n",
       "      <td>100</td>\n",
       "      <td>Java中级软件工程师</td>\n",
       "      <td>软件工程师</td>\n",
       "      <td>一般程序员</td>\n",
       "      <td>None</td>\n",
       "      <td>北京</td>\n",
       "      <td>北京</td>\n",
       "      <td>长城计算机软件与系统有限公司（简称长城软件）是中国电子信息产业集团有限公司（简称中国电子）计...</td>\n",
       "      <td>...</td>\n",
       "      <td>False</td>\n",
       "      <td>False</td>\n",
       "      <td>False</td>\n",
       "      <td>False</td>\n",
       "      <td>False</td>\n",
       "      <td>False</td>\n",
       "      <td>False</td>\n",
       "      <td>False</td>\n",
       "      <td>False</td>\n",
       "      <td>False</td>\n",
       "    </tr>\n",
       "    <tr>\n",
       "      <th>14586</th>\n",
       "      <td>117143097</td>\n",
       "      <td>13541</td>\n",
       "      <td>99</td>\n",
       "      <td>2020届校园招聘（技术类）</td>\n",
       "      <td>软件工程师</td>\n",
       "      <td>算法工程师</td>\n",
       "      <td>None</td>\n",
       "      <td>北京</td>\n",
       "      <td>北京</td>\n",
       "      <td>富士康工业互联网股份有限公司是全球领先的通信网络设备、云服务设备、精密工具及工业机器人专业设...</td>\n",
       "      <td>...</td>\n",
       "      <td>False</td>\n",
       "      <td>False</td>\n",
       "      <td>False</td>\n",
       "      <td>False</td>\n",
       "      <td>False</td>\n",
       "      <td>False</td>\n",
       "      <td>False</td>\n",
       "      <td>False</td>\n",
       "      <td>False</td>\n",
       "      <td>False</td>\n",
       "    </tr>\n",
       "  </tbody>\n",
       "</table>\n",
       "<p>5 rows × 122 columns</p>\n",
       "</div>"
      ],
      "text/plain": [
       "          job_id  monthly_salary  headcount              title zhinengleibie  \\\n",
       "13672  116717167           10000        200   海外业务软件工程师（2020届）         软件工程师   \n",
       "9429   114568087            3750        151  C#软件开发工程师（雄安新区岗位）         软件工程师   \n",
       "3255   108834444           15000        150          Java开发工程师         软件工程师   \n",
       "16334  117792359           12500        100        Java中级软件工程师         软件工程师   \n",
       "14586  117143097           13541         99     2020届校园招聘（技术类）         软件工程师   \n",
       "\n",
       "      career real_province province city  \\\n",
       "13672  一般程序员          None       上海   上海   \n",
       "9429   一般程序员          None       北京   北京   \n",
       "3255   一般程序员          None       北京   北京   \n",
       "16334  一般程序员          None       北京   北京   \n",
       "14586  算法工程师          None       北京   北京   \n",
       "\n",
       "                                     company_description  ... bd_flink  \\\n",
       "13672  上海海隆软件有限公司成立于1989年4月，是国内著名软件企业、国家规划布局内重点软件企业。公...  ...    False   \n",
       "9429   北京其然科技有限公司，名字源于，顺 其其自 然然，主旨顺其自然、水到渠成。北京其然科技有限公...  ...    False   \n",
       "3255   大连华信计算机技术股份有限公司（简称大连华信）是一家面向全球客户提供领先的应用软件产品、信息...  ...    False   \n",
       "16334  长城计算机软件与系统有限公司（简称长城软件）是中国电子信息产业集团有限公司（简称中国电子）计...  ...    False   \n",
       "14586  富士康工业互联网股份有限公司是全球领先的通信网络设备、云服务设备、精密工具及工业机器人专业设...  ...    False   \n",
       "\n",
       "      bd_presto bd_heron ml_sklearn  ml_mllib  ml_tensorlayer  \\\n",
       "13672     False    False      False     False           False   \n",
       "9429      False    False      False     False           False   \n",
       "3255      False    False      False     False           False   \n",
       "16334     False    False      False     False           False   \n",
       "14586     False    False      False     False           False   \n",
       "\n",
       "       ml_paddlepaddle  ml_cntk  ml_theano  ml_mahout  \n",
       "13672            False    False      False      False  \n",
       "9429             False    False      False      False  \n",
       "3255             False    False      False      False  \n",
       "16334            False    False      False      False  \n",
       "14586            False    False      False      False  \n",
       "\n",
       "[5 rows x 122 columns]"
      ]
     },
     "execution_count": 7,
     "metadata": {},
     "output_type": "execute_result"
    }
   ],
   "source": [
    "data=data.sort_values(by='headcount', ascending=False)\n",
    "data.head()"
   ]
  },
  {
   "cell_type": "code",
   "execution_count": 8,
   "metadata": {},
   "outputs": [],
   "source": [
    "def pd_weighted_mean(group, avg_name, weight_name):\n",
    "    \"\"\" http://stackoverflow.com/questions/10951341/pandas-dataframe-aggregate-function-using-multiple-columns\n",
    "    In rare instance, we may not have weights, so just return the mean. Customize this if your business case\n",
    "    should return otherwise.\n",
    "    \"\"\"\n",
    "    d = group[avg_name]\n",
    "    w = group[weight_name]\n",
    "    try:\n",
    "        return (d * w).sum() / w.sum()\n",
    "    except ZeroDivisionError:\n",
    "        return d.mean()\n"
   ]
  },
  {
   "cell_type": "markdown",
   "metadata": {},
   "source": [
    "# Unilateral Stats 总体统计"
   ]
  },
  {
   "cell_type": "markdown",
   "metadata": {},
   "source": [
    "有数据可知，程序员向一线城市集中的趋势非常明显。\n",
    "\n",
    "According to the statistics, significant amount of developers are in the first tier cities."
   ]
  },
  {
   "cell_type": "code",
   "execution_count": 9,
   "metadata": {},
   "outputs": [
    {
     "data": {
      "text/plain": [
       "(32090, 122)"
      ]
     },
     "execution_count": 9,
     "metadata": {},
     "output_type": "execute_result"
    }
   ],
   "source": [
    "data.shape"
   ]
  },
  {
   "cell_type": "code",
   "execution_count": 10,
   "metadata": {},
   "outputs": [
    {
     "data": {
      "text/plain": [
       "101390"
      ]
     },
     "execution_count": 10,
     "metadata": {},
     "output_type": "execute_result"
    }
   ],
   "source": [
    "data.headcount.sum()"
   ]
  },
  {
   "cell_type": "code",
   "execution_count": 11,
   "metadata": {},
   "outputs": [
    {
     "data": {
      "text/plain": [
       "array([ 5150., 11500., 15000., 20000., 37500.])"
      ]
     },
     "execution_count": 11,
     "metadata": {},
     "output_type": "execute_result"
    }
   ],
   "source": [
    "salary_mean=weighted.weighted_mean(data.monthly_salary.values, data.headcount.values)\n",
    "q=weighted.weighted_quantile(data.monthly_salary.values,[0.025,0.25,0.5,0.75,0.975], data.headcount.values)\n",
    "q"
   ]
  },
  {
   "cell_type": "code",
   "execution_count": 12,
   "metadata": {},
   "outputs": [
    {
     "name": "stdout",
     "output_type": "stream",
     "text": [
      "2020年3月中国一线城市程序员的平均工资为16619元，工资中位数为15000元，其中95%的人的工资位于5150到37500元之间。\n"
     ]
    }
   ],
   "source": [
    "print(f'{year}年{month}月中国一线城市程序员的平均工资为{salary_mean:.0f}元，工资中位数为{q[2]:.0f}元，其中95%的人的工资位于{q[0]:.0f}到{q[4]:.0f}元之间。')"
   ]
  },
  {
   "cell_type": "code",
   "execution_count": 13,
   "metadata": {},
   "outputs": [
    {
     "name": "stdout",
     "output_type": "stream",
     "text": [
      "In 2020, Developers in China earn 16619 Yuan as average, the median is 15000 Yuan, 95% of them earn between 5150 and 37500 Yuan.\n"
     ]
    }
   ],
   "source": [
    "print(f'In {year}, Developers in China earn {salary_mean:.0f} Yuan as average, '\n",
    "      f'the median is {q[2]:.0f} Yuan, 95% of them earn between {q[0]:.0f} and {q[4]:.0f} Yuan.')"
   ]
  },
  {
   "cell_type": "code",
   "execution_count": 15,
   "metadata": {},
   "outputs": [
    {
     "data": {
      "image/png": "[encoded data removed]",
      "text/plain": [
       "<Figure size 432x288 with 1 Axes>"
      ]
     },
     "metadata": {
      "needs_background": "light"
     },
     "output_type": "display_data"
    }
   ],
   "source": [
    "data.monthly_salary.hist()\n",
    "plt.show()"
   ]
  },
  {
   "cell_type": "markdown",
   "metadata": {},
   "source": [
    "It does not look like normal distribution."
   ]
  },
  {
   "cell_type": "code",
   "execution_count": 16,
   "metadata": {},
   "outputs": [],
   "source": [
    "from scipy import stats"
   ]
  },
  {
   "cell_type": "code",
   "execution_count": 17,
   "metadata": {},
   "outputs": [
    {
     "data": {
      "text/plain": [
       "NormaltestResult(statistic=9384.050777140506, pvalue=0.0)"
      ]
     },
     "execution_count": 17,
     "metadata": {},
     "output_type": "execute_result"
    }
   ],
   "source": [
    "stats.normaltest(data.monthly_salary)"
   ]
  },
  {
   "cell_type": "markdown",
   "metadata": {},
   "source": [
    "null hypothesis: x comes from a normal distribution\n",
    "    \n",
    "p=0\n",
    "\n",
    "The null hypothesis can be rejected\n",
    "\n",
    "conclusion: data is not normally distributed."
   ]
  },
  {
   "cell_type": "markdown",
   "metadata": {},
   "source": [
    "Zoom in"
   ]
  },
  {
   "cell_type": "code",
   "execution_count": 18,
   "metadata": {},
   "outputs": [
    {
     "data": {
      "image/png": "[encoded data removed]",
      "text/plain": [
       "<Figure size 432x288 with 1 Axes>"
      ]
     },
     "metadata": {
      "needs_background": "light"
     },
     "output_type": "display_data"
    }
   ],
   "source": [
    "data[data.monthly_salary<40000].monthly_salary.hist()\n",
    "plt.annotate('https://github.com/juwikuang/job_survey', xy=(0,0), xytext=(2000, 100), color='white')\n",
    "plt.show()"
   ]
  },
  {
   "cell_type": "markdown",
   "metadata": {},
   "source": [
    "## Role 角色"
   ]
  },
  {
   "cell_type": "code",
   "execution_count": 19,
   "metadata": {},
   "outputs": [],
   "source": [
    "#Common Functions\n",
    "def get_sub_stats_by_col(data, col):\n",
    "    categories=data[col].unique()\n",
    "    salary_mean=[]\n",
    "    salary_95_min=[]\n",
    "    salary_95_max=[]\n",
    "    salary_median=[]\n",
    "    \n",
    "\n",
    "    count=[]\n",
    "    \n",
    "    categorys_out=[]\n",
    "    for category in categories:\n",
    "        #print(feature)\n",
    "        idata=data[data[col]==category]\n",
    "        headcount=idata.headcount.sum()\n",
    "        values = idata.monthly_salary.values\n",
    "        weights = idata.headcount.values\n",
    "        #print(str(headcount))\n",
    "        if headcount==0:\n",
    "            continue\n",
    "        \n",
    "        salary_mean.append(np.average(values, weights=weights))\n",
    "        \n",
    "\n",
    "        q = weighted.weighted_quantile(values,[0.025,0.5,0.975],weights)\n",
    "        salary_95_min.append(q[0])\n",
    "        salary_median.append(q[1])\n",
    "        salary_95_max.append(q[2])\n",
    "        count.append(idata.headcount.sum())\n",
    "        categorys_out.append(category)\n",
    "    sub_data=pd.DataFrame()\n",
    "    sub_data[col]=[c for c in categorys_out]\n",
    "    sub_data['salary_mean']=salary_mean\n",
    "    sub_data['salary_95_min']=salary_95_min\n",
    "    sub_data['salary_median']=salary_median\n",
    "    sub_data['salary_95_max']=salary_95_max\n",
    "    sub_data['head_count']=count\n",
    "    sub_data['percentage']=count/np.sum(count)\n",
    "    sub_data=sub_data.sort_values(by='salary_mean', ascending=False)\n",
    "\n",
    "    return sub_data\n",
    "\n",
    "def get_sub_stats_by_prefix(data, prefix):\n",
    "    \n",
    "    features = [feature for feature in data.columns if feature.startswith(prefix)]\n",
    "    salary_mean=[]\n",
    "    salary_median=[]\n",
    "    salary_95_min=[]\n",
    "    salary_95_max=[]\n",
    "    count=[]\n",
    "    \n",
    "    features_out=[]\n",
    "    for feature in features:\n",
    "        #print(feature)\n",
    "        idata=data[data[feature]==1]\n",
    "        headcount=idata.headcount.sum()\n",
    "        values = idata.monthly_salary.values\n",
    "        weights = idata.headcount.values\n",
    "        #print(str(headcount))\n",
    "        if headcount==0:\n",
    "            continue\n",
    "        \n",
    "        salary_mean.append(weighted.weighted_mean(values, weights))\n",
    "        q = weighted.weighted_quantile(values,[0.025,0.5,0.975],weights)\n",
    "        salary_median.append(q[1])\n",
    "        salary_95_min.append(q[0])\n",
    "        salary_95_max.append(q[2])\n",
    "        count.append(idata.headcount.sum())\n",
    "        features_out.append(feature)\n",
    "    sub_data=pd.DataFrame()\n",
    "    sub_data['rank']=range(0,len(features_out))\n",
    "    sub_data[prefix]=[f.replace(prefix,'') for f in features_out]\n",
    "    sub_data['salary_mean']=salary_mean\n",
    "    sub_data['salary_median']=salary_median\n",
    "    sub_data['salary_95_min']=salary_95_min\n",
    "    sub_data['salary_95_max']=salary_95_max\n",
    "    sub_data['head_count']=count\n",
    "    sub_data['percentage']=count/np.sum(count)\n",
    "    sub_data=sub_data.sort_values(by='salary_mean', ascending=False)\n",
    "    sub_data['rank']=range(1,len(features_out)+1)\n",
    "    #sub_data=sub_data.reset_index()\n",
    "    return sub_data\n",
    "\n",
    "def apply_style(sub_data):\n",
    "    return sub_data.style.hide_index().format(\n",
    "    {\"salary_mean\":\"{:.0f}\",\"salary_median\":\"{:.0f}\",\"salary_95_min\":\"{:.0f}\",\"salary_95_max\":\"{:.0f}\",\"percentage\":\"{:.2%}\"})"
   ]
  },
  {
   "cell_type": "code",
   "execution_count": 20,
   "metadata": {},
   "outputs": [
    {
     "data": {
      "text/html": [
       "<style  type=\"text/css\" >\n",
       "</style><table id=\"T_93b83f38_5c9b_11ea_9761_701ce71031ef\" ><thead>    <tr>        <th class=\"blank level0\" ></th>        <th class=\"col_heading level0 col0\" >career</th>        <th class=\"col_heading level0 col1\" >salary_mean</th>        <th class=\"col_heading level0 col2\" >salary_95_min</th>        <th class=\"col_heading level0 col3\" >salary_median</th>        <th class=\"col_heading level0 col4\" >salary_95_max</th>        <th class=\"col_heading level0 col5\" >head_count</th>        <th class=\"col_heading level0 col6\" >percentage</th>    </tr></thead><tbody>\n",
       "                <tr>\n",
       "                        <th id=\"T_93b83f38_5c9b_11ea_9761_701ce71031eflevel0_row0\" class=\"row_heading level0 row0\" >2</th>\n",
       "                        <td id=\"T_93b83f38_5c9b_11ea_9761_701ce71031efrow0_col0\" class=\"data row0 col0\" >系统架构师</td>\n",
       "                        <td id=\"T_93b83f38_5c9b_11ea_9761_701ce71031efrow0_col1\" class=\"data row0 col1\" >25642</td>\n",
       "                        <td id=\"T_93b83f38_5c9b_11ea_9761_701ce71031efrow0_col2\" class=\"data row0 col2\" >6339.285714</td>\n",
       "                        <td id=\"T_93b83f38_5c9b_11ea_9761_701ce71031efrow0_col3\" class=\"data row0 col3\" >25000</td>\n",
       "                        <td id=\"T_93b83f38_5c9b_11ea_9761_701ce71031efrow0_col4\" class=\"data row0 col4\" >50000.000000</td>\n",
       "                        <td id=\"T_93b83f38_5c9b_11ea_9761_701ce71031efrow0_col5\" class=\"data row0 col5\" >4950</td>\n",
       "                        <td id=\"T_93b83f38_5c9b_11ea_9761_701ce71031efrow0_col6\" class=\"data row0 col6\" >4.88%</td>\n",
       "            </tr>\n",
       "            <tr>\n",
       "                        <th id=\"T_93b83f38_5c9b_11ea_9761_701ce71031eflevel0_row1\" class=\"row_heading level0 row1\" >1</th>\n",
       "                        <td id=\"T_93b83f38_5c9b_11ea_9761_701ce71031efrow1_col0\" class=\"data row1 col0\" >算法工程师</td>\n",
       "                        <td id=\"T_93b83f38_5c9b_11ea_9761_701ce71031efrow1_col1\" class=\"data row1 col1\" >21605</td>\n",
       "                        <td id=\"T_93b83f38_5c9b_11ea_9761_701ce71031efrow1_col2\" class=\"data row1 col2\" >5750.000000</td>\n",
       "                        <td id=\"T_93b83f38_5c9b_11ea_9761_701ce71031efrow1_col3\" class=\"data row1 col3\" >20000</td>\n",
       "                        <td id=\"T_93b83f38_5c9b_11ea_9761_701ce71031efrow1_col4\" class=\"data row1 col4\" >48000.000000</td>\n",
       "                        <td id=\"T_93b83f38_5c9b_11ea_9761_701ce71031efrow1_col5\" class=\"data row1 col5\" >11421</td>\n",
       "                        <td id=\"T_93b83f38_5c9b_11ea_9761_701ce71031efrow1_col6\" class=\"data row1 col6\" >11.26%</td>\n",
       "            </tr>\n",
       "            <tr>\n",
       "                        <th id=\"T_93b83f38_5c9b_11ea_9761_701ce71031eflevel0_row2\" class=\"row_heading level0 row2\" >0</th>\n",
       "                        <td id=\"T_93b83f38_5c9b_11ea_9761_701ce71031efrow2_col0\" class=\"data row2 col0\" >一般程序员</td>\n",
       "                        <td id=\"T_93b83f38_5c9b_11ea_9761_701ce71031efrow2_col1\" class=\"data row2 col1\" >15428</td>\n",
       "                        <td id=\"T_93b83f38_5c9b_11ea_9761_701ce71031efrow2_col2\" class=\"data row2 col2\" >5000.000000</td>\n",
       "                        <td id=\"T_93b83f38_5c9b_11ea_9761_701ce71031efrow2_col3\" class=\"data row2 col3\" >14000</td>\n",
       "                        <td id=\"T_93b83f38_5c9b_11ea_9761_701ce71031efrow2_col4\" class=\"data row2 col4\" >35000.000000</td>\n",
       "                        <td id=\"T_93b83f38_5c9b_11ea_9761_701ce71031efrow2_col5\" class=\"data row2 col5\" >84870</td>\n",
       "                        <td id=\"T_93b83f38_5c9b_11ea_9761_701ce71031efrow2_col6\" class=\"data row2 col6\" >83.71%</td>\n",
       "            </tr>\n",
       "            <tr>\n",
       "                        <th id=\"T_93b83f38_5c9b_11ea_9761_701ce71031eflevel0_row3\" class=\"row_heading level0 row3\" >3</th>\n",
       "                        <td id=\"T_93b83f38_5c9b_11ea_9761_701ce71031efrow3_col0\" class=\"data row3 col0\" >爬虫工程师</td>\n",
       "                        <td id=\"T_93b83f38_5c9b_11ea_9761_701ce71031efrow3_col1\" class=\"data row3 col1\" >12912</td>\n",
       "                        <td id=\"T_93b83f38_5c9b_11ea_9761_701ce71031efrow3_col2\" class=\"data row3 col2\" >2192.857143</td>\n",
       "                        <td id=\"T_93b83f38_5c9b_11ea_9761_701ce71031efrow3_col3\" class=\"data row3 col3\" >12500</td>\n",
       "                        <td id=\"T_93b83f38_5c9b_11ea_9761_701ce71031efrow3_col4\" class=\"data row3 col4\" >27041.666667</td>\n",
       "                        <td id=\"T_93b83f38_5c9b_11ea_9761_701ce71031efrow3_col5\" class=\"data row3 col5\" >131</td>\n",
       "                        <td id=\"T_93b83f38_5c9b_11ea_9761_701ce71031efrow3_col6\" class=\"data row3 col6\" >0.13%</td>\n",
       "            </tr>\n",
       "            <tr>\n",
       "                        <th id=\"T_93b83f38_5c9b_11ea_9761_701ce71031eflevel0_row4\" class=\"row_heading level0 row4\" >4</th>\n",
       "                        <td id=\"T_93b83f38_5c9b_11ea_9761_701ce71031efrow4_col0\" class=\"data row4 col0\" >生物信息工程师</td>\n",
       "                        <td id=\"T_93b83f38_5c9b_11ea_9761_701ce71031efrow4_col1\" class=\"data row4 col1\" >11944</td>\n",
       "                        <td id=\"T_93b83f38_5c9b_11ea_9761_701ce71031efrow4_col2\" class=\"data row4 col2\" >7000.000000</td>\n",
       "                        <td id=\"T_93b83f38_5c9b_11ea_9761_701ce71031efrow4_col3\" class=\"data row4 col3\" >13357</td>\n",
       "                        <td id=\"T_93b83f38_5c9b_11ea_9761_701ce71031efrow4_col4\" class=\"data row4 col4\" >15000.000000</td>\n",
       "                        <td id=\"T_93b83f38_5c9b_11ea_9761_701ce71031efrow4_col5\" class=\"data row4 col5\" >18</td>\n",
       "                        <td id=\"T_93b83f38_5c9b_11ea_9761_701ce71031efrow4_col6\" class=\"data row4 col6\" >0.02%</td>\n",
       "            </tr>\n",
       "    </tbody></table>"
      ],
      "text/plain": [
       "<pandas.io.formats.style.Styler at 0x2b185b9b588>"
      ]
     },
     "execution_count": 20,
     "metadata": {},
     "output_type": "execute_result"
    }
   ],
   "source": [
    "data_career = get_sub_stats_by_col(data,'career')\n",
    "data_career.style.format({\"salary_mean\":\"{:.0f}\",\"salary_median\":\"{:.0f}\",\"percentage\":\"{:.2%}\"})"
   ]
  },
  {
   "cell_type": "code",
   "execution_count": 21,
   "metadata": {},
   "outputs": [
    {
     "data": {
      "text/plain": [
       "16618.574987671367"
      ]
     },
     "execution_count": 21,
     "metadata": {},
     "output_type": "execute_result"
    }
   ],
   "source": [
    "np.sum(data.monthly_salary * data.headcount) / data.headcount.sum()"
   ]
  },
  {
   "cell_type": "code",
   "execution_count": 22,
   "metadata": {},
   "outputs": [
    {
     "data": {
      "text/plain": [
       "101390"
      ]
     },
     "execution_count": 22,
     "metadata": {},
     "output_type": "execute_result"
    }
   ],
   "source": [
    "data.headcount.sum()"
   ]
  },
  {
   "cell_type": "code",
   "execution_count": 23,
   "metadata": {},
   "outputs": [
    {
     "data": {
      "text/plain": [
       "count    32090.000000\n",
       "mean         3.159551\n",
       "std          3.673775\n",
       "min          1.000000\n",
       "25%          1.000000\n",
       "50%          2.000000\n",
       "75%          5.000000\n",
       "max        200.000000\n",
       "Name: headcount, dtype: float64"
      ]
     },
     "execution_count": 23,
     "metadata": {},
     "output_type": "execute_result"
    }
   ],
   "source": [
    "data.headcount.describe()"
   ]
  },
  {
   "cell_type": "code",
   "execution_count": 24,
   "metadata": {},
   "outputs": [],
   "source": [
    "pd.options.display.max_columns=100\n"
   ]
  },
  {
   "cell_type": "markdown",
   "metadata": {},
   "source": []
  },
  {
   "cell_type": "code",
   "execution_count": 25,
   "metadata": {},
   "outputs": [
    {
     "data": {
      "text/plain": [
       "101390"
      ]
     },
     "execution_count": 25,
     "metadata": {},
     "output_type": "execute_result"
    }
   ],
   "source": [
    "data.headcount.sum()"
   ]
  },
  {
   "cell_type": "markdown",
   "metadata": {},
   "source": [
    "# 城市"
   ]
  },
  {
   "cell_type": "code",
   "execution_count": 26,
   "metadata": {},
   "outputs": [],
   "source": [
    "headcount_by_cities = data.groupby(by='city').headcount.sum()"
   ]
  },
  {
   "cell_type": "code",
   "execution_count": 27,
   "metadata": {},
   "outputs": [
    {
     "data": {
      "text/plain": [
       "city\n",
       "上海    34604\n",
       "北京    18386\n",
       "广州    21094\n",
       "深圳    27306\n",
       "Name: headcount, dtype: int64"
      ]
     },
     "execution_count": 27,
     "metadata": {},
     "output_type": "execute_result"
    }
   ],
   "source": [
    "headcount_by_cities\n"
   ]
  },
  {
   "cell_type": "code",
   "execution_count": 28,
   "metadata": {},
   "outputs": [
    {
     "data": {
      "image/png": "[encoded data removed]",
      "text/plain": [
       "<Figure size 720x576 with 1 Axes>"
      ]
     },
     "metadata": {},
     "output_type": "display_data"
    }
   ],
   "source": [
    "plt.figure(figsize=(10,8))\n",
    "plt.pie(headcount_by_cities.values, labels=headcount_by_cities.index, autopct='%1.1f%%')\n",
    "plt.show()"
   ]
  },
  {
   "cell_type": "code",
   "execution_count": 29,
   "metadata": {},
   "outputs": [
    {
     "data": {
      "text/html": [
       "<style  type=\"text/css\" >\n",
       "</style><table id=\"T_a06a96b6_5c9b_11ea_aeae_701ce71031ef\" ><thead>    <tr>        <th class=\"col_heading level0 col0\" >city</th>        <th class=\"col_heading level0 col1\" >salary_mean</th>        <th class=\"col_heading level0 col2\" >salary_95_min</th>        <th class=\"col_heading level0 col3\" >salary_median</th>        <th class=\"col_heading level0 col4\" >salary_95_max</th>        <th class=\"col_heading level0 col5\" >head_count</th>        <th class=\"col_heading level0 col6\" >percentage</th>    </tr></thead><tbody>\n",
       "                <tr>\n",
       "                                <td id=\"T_a06a96b6_5c9b_11ea_aeae_701ce71031efrow0_col0\" class=\"data row0 col0\" >北京</td>\n",
       "                        <td id=\"T_a06a96b6_5c9b_11ea_aeae_701ce71031efrow0_col1\" class=\"data row0 col1\" >18543</td>\n",
       "                        <td id=\"T_a06a96b6_5c9b_11ea_aeae_701ce71031efrow0_col2\" class=\"data row0 col2\" >3750</td>\n",
       "                        <td id=\"T_a06a96b6_5c9b_11ea_aeae_701ce71031efrow0_col3\" class=\"data row0 col3\" >15500</td>\n",
       "                        <td id=\"T_a06a96b6_5c9b_11ea_aeae_701ce71031efrow0_col4\" class=\"data row0 col4\" >45000</td>\n",
       "                        <td id=\"T_a06a96b6_5c9b_11ea_aeae_701ce71031efrow0_col5\" class=\"data row0 col5\" >18386</td>\n",
       "                        <td id=\"T_a06a96b6_5c9b_11ea_aeae_701ce71031efrow0_col6\" class=\"data row0 col6\" >18.13%</td>\n",
       "            </tr>\n",
       "            <tr>\n",
       "                                <td id=\"T_a06a96b6_5c9b_11ea_aeae_701ce71031efrow1_col0\" class=\"data row1 col0\" >上海</td>\n",
       "                        <td id=\"T_a06a96b6_5c9b_11ea_aeae_701ce71031efrow1_col1\" class=\"data row1 col1\" >17114</td>\n",
       "                        <td id=\"T_a06a96b6_5c9b_11ea_aeae_701ce71031efrow1_col2\" class=\"data row1 col2\" >5250</td>\n",
       "                        <td id=\"T_a06a96b6_5c9b_11ea_aeae_701ce71031efrow1_col3\" class=\"data row1 col3\" >15000</td>\n",
       "                        <td id=\"T_a06a96b6_5c9b_11ea_aeae_701ce71031efrow1_col4\" class=\"data row1 col4\" >37500</td>\n",
       "                        <td id=\"T_a06a96b6_5c9b_11ea_aeae_701ce71031efrow1_col5\" class=\"data row1 col5\" >34604</td>\n",
       "                        <td id=\"T_a06a96b6_5c9b_11ea_aeae_701ce71031efrow1_col6\" class=\"data row1 col6\" >34.13%</td>\n",
       "            </tr>\n",
       "            <tr>\n",
       "                                <td id=\"T_a06a96b6_5c9b_11ea_aeae_701ce71031efrow2_col0\" class=\"data row2 col0\" >深圳</td>\n",
       "                        <td id=\"T_a06a96b6_5c9b_11ea_aeae_701ce71031efrow2_col1\" class=\"data row2 col1\" >16912</td>\n",
       "                        <td id=\"T_a06a96b6_5c9b_11ea_aeae_701ce71031efrow2_col2\" class=\"data row2 col2\" >6000</td>\n",
       "                        <td id=\"T_a06a96b6_5c9b_11ea_aeae_701ce71031efrow2_col3\" class=\"data row2 col3\" >15000</td>\n",
       "                        <td id=\"T_a06a96b6_5c9b_11ea_aeae_701ce71031efrow2_col4\" class=\"data row2 col4\" >37500</td>\n",
       "                        <td id=\"T_a06a96b6_5c9b_11ea_aeae_701ce71031efrow2_col5\" class=\"data row2 col5\" >27306</td>\n",
       "                        <td id=\"T_a06a96b6_5c9b_11ea_aeae_701ce71031efrow2_col6\" class=\"data row2 col6\" >26.93%</td>\n",
       "            </tr>\n",
       "            <tr>\n",
       "                                <td id=\"T_a06a96b6_5c9b_11ea_aeae_701ce71031efrow3_col0\" class=\"data row3 col0\" >广州</td>\n",
       "                        <td id=\"T_a06a96b6_5c9b_11ea_aeae_701ce71031efrow3_col1\" class=\"data row3 col1\" >13749</td>\n",
       "                        <td id=\"T_a06a96b6_5c9b_11ea_aeae_701ce71031efrow3_col2\" class=\"data row3 col2\" >3750</td>\n",
       "                        <td id=\"T_a06a96b6_5c9b_11ea_aeae_701ce71031efrow3_col3\" class=\"data row3 col3\" >12500</td>\n",
       "                        <td id=\"T_a06a96b6_5c9b_11ea_aeae_701ce71031efrow3_col4\" class=\"data row3 col4\" >30000</td>\n",
       "                        <td id=\"T_a06a96b6_5c9b_11ea_aeae_701ce71031efrow3_col5\" class=\"data row3 col5\" >21094</td>\n",
       "                        <td id=\"T_a06a96b6_5c9b_11ea_aeae_701ce71031efrow3_col6\" class=\"data row3 col6\" >20.80%</td>\n",
       "            </tr>\n",
       "    </tbody></table>"
      ],
      "text/plain": [
       "<pandas.io.formats.style.Styler at 0x2b1870ec3c8>"
      ]
     },
     "execution_count": 29,
     "metadata": {},
     "output_type": "execute_result"
    }
   ],
   "source": [
    "data_pl=get_sub_stats_by_col(data,'city')\n",
    "apply_style(data_pl)"
   ]
  },
  {
   "cell_type": "code",
   "execution_count": 30,
   "metadata": {},
   "outputs": [],
   "source": [
    "salary_beijing=data[data.city=='北京'].monthly_salary\n",
    "salary_shanghai=data[data.city=='上海'].monthly_salary\n",
    "salary_guangzhou=data[data.city=='广州'].monthly_salary\n",
    "salary_shenzhen=data[data.city=='深圳'].monthly_salary"
   ]
  },
  {
   "cell_type": "code",
   "execution_count": null,
   "metadata": {},
   "outputs": [],
   "source": []
  },
  {
   "cell_type": "code",
   "execution_count": 31,
   "metadata": {},
   "outputs": [
    {
     "data": {
      "text/plain": [
       "F_onewayResult(statistic=105.14462985829374, pvalue=1.3541512935623587e-24)"
      ]
     },
     "execution_count": 31,
     "metadata": {},
     "output_type": "execute_result"
    }
   ],
   "source": [
    "stats.f_oneway(salary_beijing, salary_shanghai)"
   ]
  },
  {
   "cell_type": "code",
   "execution_count": 32,
   "metadata": {},
   "outputs": [
    {
     "data": {
      "text/plain": [
       "F_onewayResult(statistic=24.465500561790115, pvalue=7.625976927092516e-07)"
      ]
     },
     "execution_count": 32,
     "metadata": {},
     "output_type": "execute_result"
    }
   ],
   "source": [
    "stats.f_oneway(salary_shanghai, salary_shenzhen)"
   ]
  },
  {
   "cell_type": "code",
   "execution_count": 33,
   "metadata": {},
   "outputs": [
    {
     "data": {
      "text/plain": [
       "F_onewayResult(statistic=592.2390094071645, pvalue=1.6535043395609112e-128)"
      ]
     },
     "execution_count": 33,
     "metadata": {},
     "output_type": "execute_result"
    }
   ],
   "source": [
    "stats.f_oneway(salary_shenzhen, salary_guangzhou)"
   ]
  },
  {
   "cell_type": "markdown",
   "metadata": {},
   "source": [
    "# 编程语言"
   ]
  },
  {
   "cell_type": "code",
   "execution_count": 34,
   "metadata": {},
   "outputs": [
    {
     "data": {
      "text/html": [
       "<style  type=\"text/css\" >\n",
       "</style><table id=\"T_a4d78b3e_5c9b_11ea_ad3b_701ce71031ef\" ><thead>    <tr>        <th class=\"col_heading level0 col0\" >rank</th>        <th class=\"col_heading level0 col1\" >pl_</th>        <th class=\"col_heading level0 col2\" >salary_mean</th>        <th class=\"col_heading level0 col3\" >salary_median</th>        <th class=\"col_heading level0 col4\" >salary_95_min</th>        <th class=\"col_heading level0 col5\" >salary_95_max</th>        <th class=\"col_heading level0 col6\" >head_count</th>        <th class=\"col_heading level0 col7\" >percentage</th>    </tr></thead><tbody>\n",
       "                <tr>\n",
       "                                <td id=\"T_a4d78b3e_5c9b_11ea_ad3b_701ce71031efrow0_col0\" class=\"data row0 col0\" >1</td>\n",
       "                        <td id=\"T_a4d78b3e_5c9b_11ea_ad3b_701ce71031efrow0_col1\" class=\"data row0 col1\" >rust</td>\n",
       "                        <td id=\"T_a4d78b3e_5c9b_11ea_ad3b_701ce71031efrow0_col2\" class=\"data row0 col2\" >27040</td>\n",
       "                        <td id=\"T_a4d78b3e_5c9b_11ea_ad3b_701ce71031efrow0_col3\" class=\"data row0 col3\" >29166</td>\n",
       "                        <td id=\"T_a4d78b3e_5c9b_11ea_ad3b_701ce71031efrow0_col4\" class=\"data row0 col4\" >9238</td>\n",
       "                        <td id=\"T_a4d78b3e_5c9b_11ea_ad3b_701ce71031efrow0_col5\" class=\"data row0 col5\" >45250</td>\n",
       "                        <td id=\"T_a4d78b3e_5c9b_11ea_ad3b_701ce71031efrow0_col6\" class=\"data row0 col6\" >218</td>\n",
       "                        <td id=\"T_a4d78b3e_5c9b_11ea_ad3b_701ce71031efrow0_col7\" class=\"data row0 col7\" >0.14%</td>\n",
       "            </tr>\n",
       "            <tr>\n",
       "                                <td id=\"T_a4d78b3e_5c9b_11ea_ad3b_701ce71031efrow1_col0\" class=\"data row1 col0\" >2</td>\n",
       "                        <td id=\"T_a4d78b3e_5c9b_11ea_ad3b_701ce71031efrow1_col1\" class=\"data row1 col1\" >scala</td>\n",
       "                        <td id=\"T_a4d78b3e_5c9b_11ea_ad3b_701ce71031efrow1_col2\" class=\"data row1 col2\" >22601</td>\n",
       "                        <td id=\"T_a4d78b3e_5c9b_11ea_ad3b_701ce71031efrow1_col3\" class=\"data row1 col3\" >20833</td>\n",
       "                        <td id=\"T_a4d78b3e_5c9b_11ea_ad3b_701ce71031efrow1_col4\" class=\"data row1 col4\" >8000</td>\n",
       "                        <td id=\"T_a4d78b3e_5c9b_11ea_ad3b_701ce71031efrow1_col5\" class=\"data row1 col5\" >45000</td>\n",
       "                        <td id=\"T_a4d78b3e_5c9b_11ea_ad3b_701ce71031efrow1_col6\" class=\"data row1 col6\" >1080</td>\n",
       "                        <td id=\"T_a4d78b3e_5c9b_11ea_ad3b_701ce71031efrow1_col7\" class=\"data row1 col7\" >0.67%</td>\n",
       "            </tr>\n",
       "            <tr>\n",
       "                                <td id=\"T_a4d78b3e_5c9b_11ea_ad3b_701ce71031efrow2_col0\" class=\"data row2 col0\" >3</td>\n",
       "                        <td id=\"T_a4d78b3e_5c9b_11ea_ad3b_701ce71031efrow2_col1\" class=\"data row2 col1\" >python</td>\n",
       "                        <td id=\"T_a4d78b3e_5c9b_11ea_ad3b_701ce71031efrow2_col2\" class=\"data row2 col2\" >21010</td>\n",
       "                        <td id=\"T_a4d78b3e_5c9b_11ea_ad3b_701ce71031efrow2_col3\" class=\"data row2 col3\" >18500</td>\n",
       "                        <td id=\"T_a4d78b3e_5c9b_11ea_ad3b_701ce71031efrow2_col4\" class=\"data row2 col4\" >6250</td>\n",
       "                        <td id=\"T_a4d78b3e_5c9b_11ea_ad3b_701ce71031efrow2_col5\" class=\"data row2 col5\" >45000</td>\n",
       "                        <td id=\"T_a4d78b3e_5c9b_11ea_ad3b_701ce71031efrow2_col6\" class=\"data row2 col6\" >14112</td>\n",
       "                        <td id=\"T_a4d78b3e_5c9b_11ea_ad3b_701ce71031efrow2_col7\" class=\"data row2 col7\" >8.79%</td>\n",
       "            </tr>\n",
       "            <tr>\n",
       "                                <td id=\"T_a4d78b3e_5c9b_11ea_ad3b_701ce71031efrow3_col0\" class=\"data row3 col0\" >4</td>\n",
       "                        <td id=\"T_a4d78b3e_5c9b_11ea_ad3b_701ce71031efrow3_col1\" class=\"data row3 col1\" >go</td>\n",
       "                        <td id=\"T_a4d78b3e_5c9b_11ea_ad3b_701ce71031efrow3_col2\" class=\"data row3 col2\" >20903</td>\n",
       "                        <td id=\"T_a4d78b3e_5c9b_11ea_ad3b_701ce71031efrow3_col3\" class=\"data row3 col3\" >18000</td>\n",
       "                        <td id=\"T_a4d78b3e_5c9b_11ea_ad3b_701ce71031efrow3_col4\" class=\"data row3 col4\" >7000</td>\n",
       "                        <td id=\"T_a4d78b3e_5c9b_11ea_ad3b_701ce71031efrow3_col5\" class=\"data row3 col5\" >45000</td>\n",
       "                        <td id=\"T_a4d78b3e_5c9b_11ea_ad3b_701ce71031efrow3_col6\" class=\"data row3 col6\" >13504</td>\n",
       "                        <td id=\"T_a4d78b3e_5c9b_11ea_ad3b_701ce71031efrow3_col7\" class=\"data row3 col7\" >8.41%</td>\n",
       "            </tr>\n",
       "            <tr>\n",
       "                                <td id=\"T_a4d78b3e_5c9b_11ea_ad3b_701ce71031efrow4_col0\" class=\"data row4 col0\" >5</td>\n",
       "                        <td id=\"T_a4d78b3e_5c9b_11ea_ad3b_701ce71031efrow4_col1\" class=\"data row4 col1\" >lua</td>\n",
       "                        <td id=\"T_a4d78b3e_5c9b_11ea_ad3b_701ce71031efrow4_col2\" class=\"data row4 col2\" >20607</td>\n",
       "                        <td id=\"T_a4d78b3e_5c9b_11ea_ad3b_701ce71031efrow4_col3\" class=\"data row4 col3\" >20000</td>\n",
       "                        <td id=\"T_a4d78b3e_5c9b_11ea_ad3b_701ce71031efrow4_col4\" class=\"data row4 col4\" >6218</td>\n",
       "                        <td id=\"T_a4d78b3e_5c9b_11ea_ad3b_701ce71031efrow4_col5\" class=\"data row4 col5\" >41666</td>\n",
       "                        <td id=\"T_a4d78b3e_5c9b_11ea_ad3b_701ce71031efrow4_col6\" class=\"data row4 col6\" >1482</td>\n",
       "                        <td id=\"T_a4d78b3e_5c9b_11ea_ad3b_701ce71031efrow4_col7\" class=\"data row4 col7\" >0.92%</td>\n",
       "            </tr>\n",
       "            <tr>\n",
       "                                <td id=\"T_a4d78b3e_5c9b_11ea_ad3b_701ce71031efrow5_col0\" class=\"data row5 col0\" >6</td>\n",
       "                        <td id=\"T_a4d78b3e_5c9b_11ea_ad3b_701ce71031efrow5_col1\" class=\"data row5 col1\" >r</td>\n",
       "                        <td id=\"T_a4d78b3e_5c9b_11ea_ad3b_701ce71031efrow5_col2\" class=\"data row5 col2\" >19944</td>\n",
       "                        <td id=\"T_a4d78b3e_5c9b_11ea_ad3b_701ce71031efrow5_col3\" class=\"data row5 col3\" >17500</td>\n",
       "                        <td id=\"T_a4d78b3e_5c9b_11ea_ad3b_701ce71031efrow5_col4\" class=\"data row5 col4\" >5231</td>\n",
       "                        <td id=\"T_a4d78b3e_5c9b_11ea_ad3b_701ce71031efrow5_col5\" class=\"data row5 col5\" >43437</td>\n",
       "                        <td id=\"T_a4d78b3e_5c9b_11ea_ad3b_701ce71031efrow5_col6\" class=\"data row5 col6\" >1335</td>\n",
       "                        <td id=\"T_a4d78b3e_5c9b_11ea_ad3b_701ce71031efrow5_col7\" class=\"data row5 col7\" >0.83%</td>\n",
       "            </tr>\n",
       "            <tr>\n",
       "                                <td id=\"T_a4d78b3e_5c9b_11ea_ad3b_701ce71031efrow6_col0\" class=\"data row6 col0\" >7</td>\n",
       "                        <td id=\"T_a4d78b3e_5c9b_11ea_ad3b_701ce71031efrow6_col1\" class=\"data row6 col1\" >matlab</td>\n",
       "                        <td id=\"T_a4d78b3e_5c9b_11ea_ad3b_701ce71031efrow6_col2\" class=\"data row6 col2\" >19769</td>\n",
       "                        <td id=\"T_a4d78b3e_5c9b_11ea_ad3b_701ce71031efrow6_col3\" class=\"data row6 col3\" >18222</td>\n",
       "                        <td id=\"T_a4d78b3e_5c9b_11ea_ad3b_701ce71031efrow6_col4\" class=\"data row6 col4\" >5291</td>\n",
       "                        <td id=\"T_a4d78b3e_5c9b_11ea_ad3b_701ce71031efrow6_col5\" class=\"data row6 col5\" >40000</td>\n",
       "                        <td id=\"T_a4d78b3e_5c9b_11ea_ad3b_701ce71031efrow6_col6\" class=\"data row6 col6\" >2621</td>\n",
       "                        <td id=\"T_a4d78b3e_5c9b_11ea_ad3b_701ce71031efrow6_col7\" class=\"data row6 col7\" >1.63%</td>\n",
       "            </tr>\n",
       "            <tr>\n",
       "                                <td id=\"T_a4d78b3e_5c9b_11ea_ad3b_701ce71031efrow7_col0\" class=\"data row7 col0\" >8</td>\n",
       "                        <td id=\"T_a4d78b3e_5c9b_11ea_ad3b_701ce71031efrow7_col1\" class=\"data row7 col1\" >typescript</td>\n",
       "                        <td id=\"T_a4d78b3e_5c9b_11ea_ad3b_701ce71031efrow7_col2\" class=\"data row7 col2\" >19212</td>\n",
       "                        <td id=\"T_a4d78b3e_5c9b_11ea_ad3b_701ce71031efrow7_col3\" class=\"data row7 col3\" >22500</td>\n",
       "                        <td id=\"T_a4d78b3e_5c9b_11ea_ad3b_701ce71031efrow7_col4\" class=\"data row7 col4\" >3569</td>\n",
       "                        <td id=\"T_a4d78b3e_5c9b_11ea_ad3b_701ce71031efrow7_col5\" class=\"data row7 col5\" >35000</td>\n",
       "                        <td id=\"T_a4d78b3e_5c9b_11ea_ad3b_701ce71031efrow7_col6\" class=\"data row7 col6\" >814</td>\n",
       "                        <td id=\"T_a4d78b3e_5c9b_11ea_ad3b_701ce71031efrow7_col7\" class=\"data row7 col7\" >0.51%</td>\n",
       "            </tr>\n",
       "            <tr>\n",
       "                                <td id=\"T_a4d78b3e_5c9b_11ea_ad3b_701ce71031efrow8_col0\" class=\"data row8 col0\" >9</td>\n",
       "                        <td id=\"T_a4d78b3e_5c9b_11ea_ad3b_701ce71031efrow8_col1\" class=\"data row8 col1\" >ruby</td>\n",
       "                        <td id=\"T_a4d78b3e_5c9b_11ea_ad3b_701ce71031efrow8_col2\" class=\"data row8 col2\" >18797</td>\n",
       "                        <td id=\"T_a4d78b3e_5c9b_11ea_ad3b_701ce71031efrow8_col3\" class=\"data row8 col3\" >17500</td>\n",
       "                        <td id=\"T_a4d78b3e_5c9b_11ea_ad3b_701ce71031efrow8_col4\" class=\"data row8 col4\" >3525</td>\n",
       "                        <td id=\"T_a4d78b3e_5c9b_11ea_ad3b_701ce71031efrow8_col5\" class=\"data row8 col5\" >37500</td>\n",
       "                        <td id=\"T_a4d78b3e_5c9b_11ea_ad3b_701ce71031efrow8_col6\" class=\"data row8 col6\" >446</td>\n",
       "                        <td id=\"T_a4d78b3e_5c9b_11ea_ad3b_701ce71031efrow8_col7\" class=\"data row8 col7\" >0.28%</td>\n",
       "            </tr>\n",
       "            <tr>\n",
       "                                <td id=\"T_a4d78b3e_5c9b_11ea_ad3b_701ce71031efrow9_col0\" class=\"data row9 col0\" >10</td>\n",
       "                        <td id=\"T_a4d78b3e_5c9b_11ea_ad3b_701ce71031efrow9_col1\" class=\"data row9 col1\" >perl</td>\n",
       "                        <td id=\"T_a4d78b3e_5c9b_11ea_ad3b_701ce71031efrow9_col2\" class=\"data row9 col2\" >18714</td>\n",
       "                        <td id=\"T_a4d78b3e_5c9b_11ea_ad3b_701ce71031efrow9_col3\" class=\"data row9 col3\" >17500</td>\n",
       "                        <td id=\"T_a4d78b3e_5c9b_11ea_ad3b_701ce71031efrow9_col4\" class=\"data row9 col4\" >5000</td>\n",
       "                        <td id=\"T_a4d78b3e_5c9b_11ea_ad3b_701ce71031efrow9_col5\" class=\"data row9 col5\" >40000</td>\n",
       "                        <td id=\"T_a4d78b3e_5c9b_11ea_ad3b_701ce71031efrow9_col6\" class=\"data row9 col6\" >1079</td>\n",
       "                        <td id=\"T_a4d78b3e_5c9b_11ea_ad3b_701ce71031efrow9_col7\" class=\"data row9 col7\" >0.67%</td>\n",
       "            </tr>\n",
       "            <tr>\n",
       "                                <td id=\"T_a4d78b3e_5c9b_11ea_ad3b_701ce71031efrow10_col0\" class=\"data row10 col0\" >11</td>\n",
       "                        <td id=\"T_a4d78b3e_5c9b_11ea_ad3b_701ce71031efrow10_col1\" class=\"data row10 col1\" >swift</td>\n",
       "                        <td id=\"T_a4d78b3e_5c9b_11ea_ad3b_701ce71031efrow10_col2\" class=\"data row10 col2\" >17479</td>\n",
       "                        <td id=\"T_a4d78b3e_5c9b_11ea_ad3b_701ce71031efrow10_col3\" class=\"data row10 col3\" >16000</td>\n",
       "                        <td id=\"T_a4d78b3e_5c9b_11ea_ad3b_701ce71031efrow10_col4\" class=\"data row10 col4\" >7288</td>\n",
       "                        <td id=\"T_a4d78b3e_5c9b_11ea_ad3b_701ce71031efrow10_col5\" class=\"data row10 col5\" >39275</td>\n",
       "                        <td id=\"T_a4d78b3e_5c9b_11ea_ad3b_701ce71031efrow10_col6\" class=\"data row10 col6\" >1089</td>\n",
       "                        <td id=\"T_a4d78b3e_5c9b_11ea_ad3b_701ce71031efrow10_col7\" class=\"data row10 col7\" >0.68%</td>\n",
       "            </tr>\n",
       "            <tr>\n",
       "                                <td id=\"T_a4d78b3e_5c9b_11ea_ad3b_701ce71031efrow11_col0\" class=\"data row11 col0\" >12</td>\n",
       "                        <td id=\"T_a4d78b3e_5c9b_11ea_ad3b_701ce71031efrow11_col1\" class=\"data row11 col1\" >kotlin</td>\n",
       "                        <td id=\"T_a4d78b3e_5c9b_11ea_ad3b_701ce71031efrow11_col2\" class=\"data row11 col2\" >17228</td>\n",
       "                        <td id=\"T_a4d78b3e_5c9b_11ea_ad3b_701ce71031efrow11_col3\" class=\"data row11 col3\" >17500</td>\n",
       "                        <td id=\"T_a4d78b3e_5c9b_11ea_ad3b_701ce71031efrow11_col4\" class=\"data row11 col4\" >7000</td>\n",
       "                        <td id=\"T_a4d78b3e_5c9b_11ea_ad3b_701ce71031efrow11_col5\" class=\"data row11 col5\" >42937</td>\n",
       "                        <td id=\"T_a4d78b3e_5c9b_11ea_ad3b_701ce71031efrow11_col6\" class=\"data row11 col6\" >406</td>\n",
       "                        <td id=\"T_a4d78b3e_5c9b_11ea_ad3b_701ce71031efrow11_col7\" class=\"data row11 col7\" >0.25%</td>\n",
       "            </tr>\n",
       "            <tr>\n",
       "                                <td id=\"T_a4d78b3e_5c9b_11ea_ad3b_701ce71031efrow12_col0\" class=\"data row12 col0\" >13</td>\n",
       "                        <td id=\"T_a4d78b3e_5c9b_11ea_ad3b_701ce71031efrow12_col1\" class=\"data row12 col1\" >cpp</td>\n",
       "                        <td id=\"T_a4d78b3e_5c9b_11ea_ad3b_701ce71031efrow12_col2\" class=\"data row12 col2\" >17143</td>\n",
       "                        <td id=\"T_a4d78b3e_5c9b_11ea_ad3b_701ce71031efrow12_col3\" class=\"data row12 col3\" >15000</td>\n",
       "                        <td id=\"T_a4d78b3e_5c9b_11ea_ad3b_701ce71031efrow12_col4\" class=\"data row12 col4\" >5000</td>\n",
       "                        <td id=\"T_a4d78b3e_5c9b_11ea_ad3b_701ce71031efrow12_col5\" class=\"data row12 col5\" >40000</td>\n",
       "                        <td id=\"T_a4d78b3e_5c9b_11ea_ad3b_701ce71031efrow12_col6\" class=\"data row12 col6\" >40795</td>\n",
       "                        <td id=\"T_a4d78b3e_5c9b_11ea_ad3b_701ce71031efrow12_col7\" class=\"data row12 col7\" >25.40%</td>\n",
       "            </tr>\n",
       "            <tr>\n",
       "                                <td id=\"T_a4d78b3e_5c9b_11ea_ad3b_701ce71031efrow13_col0\" class=\"data row13 col0\" >14</td>\n",
       "                        <td id=\"T_a4d78b3e_5c9b_11ea_ad3b_701ce71031efrow13_col1\" class=\"data row13 col1\" >haskell</td>\n",
       "                        <td id=\"T_a4d78b3e_5c9b_11ea_ad3b_701ce71031efrow13_col2\" class=\"data row13 col2\" >17037</td>\n",
       "                        <td id=\"T_a4d78b3e_5c9b_11ea_ad3b_701ce71031efrow13_col3\" class=\"data row13 col3\" >15000</td>\n",
       "                        <td id=\"T_a4d78b3e_5c9b_11ea_ad3b_701ce71031efrow13_col4\" class=\"data row13 col4\" >11500</td>\n",
       "                        <td id=\"T_a4d78b3e_5c9b_11ea_ad3b_701ce71031efrow13_col5\" class=\"data row13 col5\" >27000</td>\n",
       "                        <td id=\"T_a4d78b3e_5c9b_11ea_ad3b_701ce71031efrow13_col6\" class=\"data row13 col6\" >27</td>\n",
       "                        <td id=\"T_a4d78b3e_5c9b_11ea_ad3b_701ce71031efrow13_col7\" class=\"data row13 col7\" >0.02%</td>\n",
       "            </tr>\n",
       "            <tr>\n",
       "                                <td id=\"T_a4d78b3e_5c9b_11ea_ad3b_701ce71031efrow14_col0\" class=\"data row14 col0\" >15</td>\n",
       "                        <td id=\"T_a4d78b3e_5c9b_11ea_ad3b_701ce71031efrow14_col1\" class=\"data row14 col1\" >php</td>\n",
       "                        <td id=\"T_a4d78b3e_5c9b_11ea_ad3b_701ce71031efrow14_col2\" class=\"data row14 col2\" >16507</td>\n",
       "                        <td id=\"T_a4d78b3e_5c9b_11ea_ad3b_701ce71031efrow14_col3\" class=\"data row14 col3\" >14000</td>\n",
       "                        <td id=\"T_a4d78b3e_5c9b_11ea_ad3b_701ce71031efrow14_col4\" class=\"data row14 col4\" >4994</td>\n",
       "                        <td id=\"T_a4d78b3e_5c9b_11ea_ad3b_701ce71031efrow14_col5\" class=\"data row14 col5\" >37500</td>\n",
       "                        <td id=\"T_a4d78b3e_5c9b_11ea_ad3b_701ce71031efrow14_col6\" class=\"data row14 col6\" >6264</td>\n",
       "                        <td id=\"T_a4d78b3e_5c9b_11ea_ad3b_701ce71031efrow14_col7\" class=\"data row14 col7\" >3.90%</td>\n",
       "            </tr>\n",
       "            <tr>\n",
       "                                <td id=\"T_a4d78b3e_5c9b_11ea_ad3b_701ce71031efrow15_col0\" class=\"data row15 col0\" >16</td>\n",
       "                        <td id=\"T_a4d78b3e_5c9b_11ea_ad3b_701ce71031efrow15_col1\" class=\"data row15 col1\" >java</td>\n",
       "                        <td id=\"T_a4d78b3e_5c9b_11ea_ad3b_701ce71031efrow15_col2\" class=\"data row15 col2\" >16274</td>\n",
       "                        <td id=\"T_a4d78b3e_5c9b_11ea_ad3b_701ce71031efrow15_col3\" class=\"data row15 col3\" >15000</td>\n",
       "                        <td id=\"T_a4d78b3e_5c9b_11ea_ad3b_701ce71031efrow15_col4\" class=\"data row15 col4\" >5000</td>\n",
       "                        <td id=\"T_a4d78b3e_5c9b_11ea_ad3b_701ce71031efrow15_col5\" class=\"data row15 col5\" >37500</td>\n",
       "                        <td id=\"T_a4d78b3e_5c9b_11ea_ad3b_701ce71031efrow15_col6\" class=\"data row15 col6\" >43664</td>\n",
       "                        <td id=\"T_a4d78b3e_5c9b_11ea_ad3b_701ce71031efrow15_col7\" class=\"data row15 col7\" >27.18%</td>\n",
       "            </tr>\n",
       "            <tr>\n",
       "                                <td id=\"T_a4d78b3e_5c9b_11ea_ad3b_701ce71031efrow16_col0\" class=\"data row16 col0\" >17</td>\n",
       "                        <td id=\"T_a4d78b3e_5c9b_11ea_ad3b_701ce71031efrow16_col1\" class=\"data row16 col1\" >objective_c</td>\n",
       "                        <td id=\"T_a4d78b3e_5c9b_11ea_ad3b_701ce71031efrow16_col2\" class=\"data row16 col2\" >14279</td>\n",
       "                        <td id=\"T_a4d78b3e_5c9b_11ea_ad3b_701ce71031efrow16_col3\" class=\"data row16 col3\" >13000</td>\n",
       "                        <td id=\"T_a4d78b3e_5c9b_11ea_ad3b_701ce71031efrow16_col4\" class=\"data row16 col4\" >4544</td>\n",
       "                        <td id=\"T_a4d78b3e_5c9b_11ea_ad3b_701ce71031efrow16_col5\" class=\"data row16 col5\" >25937</td>\n",
       "                        <td id=\"T_a4d78b3e_5c9b_11ea_ad3b_701ce71031efrow16_col6\" class=\"data row16 col6\" >105</td>\n",
       "                        <td id=\"T_a4d78b3e_5c9b_11ea_ad3b_701ce71031efrow16_col7\" class=\"data row16 col7\" >0.07%</td>\n",
       "            </tr>\n",
       "            <tr>\n",
       "                                <td id=\"T_a4d78b3e_5c9b_11ea_ad3b_701ce71031efrow17_col0\" class=\"data row17 col0\" >18</td>\n",
       "                        <td id=\"T_a4d78b3e_5c9b_11ea_ad3b_701ce71031efrow17_col1\" class=\"data row17 col1\" >javascript</td>\n",
       "                        <td id=\"T_a4d78b3e_5c9b_11ea_ad3b_701ce71031efrow17_col2\" class=\"data row17 col2\" >13850</td>\n",
       "                        <td id=\"T_a4d78b3e_5c9b_11ea_ad3b_701ce71031efrow17_col3\" class=\"data row17 col3\" >12500</td>\n",
       "                        <td id=\"T_a4d78b3e_5c9b_11ea_ad3b_701ce71031efrow17_col4\" class=\"data row17 col4\" >3750</td>\n",
       "                        <td id=\"T_a4d78b3e_5c9b_11ea_ad3b_701ce71031efrow17_col5\" class=\"data row17 col5\" >27500</td>\n",
       "                        <td id=\"T_a4d78b3e_5c9b_11ea_ad3b_701ce71031efrow17_col6\" class=\"data row17 col6\" >15402</td>\n",
       "                        <td id=\"T_a4d78b3e_5c9b_11ea_ad3b_701ce71031efrow17_col7\" class=\"data row17 col7\" >9.59%</td>\n",
       "            </tr>\n",
       "            <tr>\n",
       "                                <td id=\"T_a4d78b3e_5c9b_11ea_ad3b_701ce71031efrow18_col0\" class=\"data row18 col0\" >19</td>\n",
       "                        <td id=\"T_a4d78b3e_5c9b_11ea_ad3b_701ce71031efrow18_col1\" class=\"data row18 col1\" >c_sharp</td>\n",
       "                        <td id=\"T_a4d78b3e_5c9b_11ea_ad3b_701ce71031efrow18_col2\" class=\"data row18 col2\" >13681</td>\n",
       "                        <td id=\"T_a4d78b3e_5c9b_11ea_ad3b_701ce71031efrow18_col3\" class=\"data row18 col3\" >12500</td>\n",
       "                        <td id=\"T_a4d78b3e_5c9b_11ea_ad3b_701ce71031efrow18_col4\" class=\"data row18 col4\" >3750</td>\n",
       "                        <td id=\"T_a4d78b3e_5c9b_11ea_ad3b_701ce71031efrow18_col5\" class=\"data row18 col5\" >30000</td>\n",
       "                        <td id=\"T_a4d78b3e_5c9b_11ea_ad3b_701ce71031efrow18_col6\" class=\"data row18 col6\" >15638</td>\n",
       "                        <td id=\"T_a4d78b3e_5c9b_11ea_ad3b_701ce71031efrow18_col7\" class=\"data row18 col7\" >9.74%</td>\n",
       "            </tr>\n",
       "            <tr>\n",
       "                                <td id=\"T_a4d78b3e_5c9b_11ea_ad3b_701ce71031efrow19_col0\" class=\"data row19 col0\" >20</td>\n",
       "                        <td id=\"T_a4d78b3e_5c9b_11ea_ad3b_701ce71031efrow19_col1\" class=\"data row19 col1\" >delphi</td>\n",
       "                        <td id=\"T_a4d78b3e_5c9b_11ea_ad3b_701ce71031efrow19_col2\" class=\"data row19 col2\" >13077</td>\n",
       "                        <td id=\"T_a4d78b3e_5c9b_11ea_ad3b_701ce71031efrow19_col3\" class=\"data row19 col3\" >12500</td>\n",
       "                        <td id=\"T_a4d78b3e_5c9b_11ea_ad3b_701ce71031efrow19_col4\" class=\"data row19 col4\" >4292</td>\n",
       "                        <td id=\"T_a4d78b3e_5c9b_11ea_ad3b_701ce71031efrow19_col5\" class=\"data row19 col5\" >25417</td>\n",
       "                        <td id=\"T_a4d78b3e_5c9b_11ea_ad3b_701ce71031efrow19_col6\" class=\"data row19 col6\" >350</td>\n",
       "                        <td id=\"T_a4d78b3e_5c9b_11ea_ad3b_701ce71031efrow19_col7\" class=\"data row19 col7\" >0.22%</td>\n",
       "            </tr>\n",
       "            <tr>\n",
       "                                <td id=\"T_a4d78b3e_5c9b_11ea_ad3b_701ce71031efrow20_col0\" class=\"data row20 col0\" >21</td>\n",
       "                        <td id=\"T_a4d78b3e_5c9b_11ea_ad3b_701ce71031efrow20_col1\" class=\"data row20 col1\" >visual_basic</td>\n",
       "                        <td id=\"T_a4d78b3e_5c9b_11ea_ad3b_701ce71031efrow20_col2\" class=\"data row20 col2\" >12696</td>\n",
       "                        <td id=\"T_a4d78b3e_5c9b_11ea_ad3b_701ce71031efrow20_col3\" class=\"data row20 col3\" >12250</td>\n",
       "                        <td id=\"T_a4d78b3e_5c9b_11ea_ad3b_701ce71031efrow20_col4\" class=\"data row20 col4\" >6250</td>\n",
       "                        <td id=\"T_a4d78b3e_5c9b_11ea_ad3b_701ce71031efrow20_col5\" class=\"data row20 col5\" >22500</td>\n",
       "                        <td id=\"T_a4d78b3e_5c9b_11ea_ad3b_701ce71031efrow20_col6\" class=\"data row20 col6\" >14</td>\n",
       "                        <td id=\"T_a4d78b3e_5c9b_11ea_ad3b_701ce71031efrow20_col7\" class=\"data row20 col7\" >0.01%</td>\n",
       "            </tr>\n",
       "            <tr>\n",
       "                                <td id=\"T_a4d78b3e_5c9b_11ea_ad3b_701ce71031efrow21_col0\" class=\"data row21 col0\" >22</td>\n",
       "                        <td id=\"T_a4d78b3e_5c9b_11ea_ad3b_701ce71031efrow21_col1\" class=\"data row21 col1\" >vba</td>\n",
       "                        <td id=\"T_a4d78b3e_5c9b_11ea_ad3b_701ce71031efrow21_col2\" class=\"data row21 col2\" >12629</td>\n",
       "                        <td id=\"T_a4d78b3e_5c9b_11ea_ad3b_701ce71031efrow21_col3\" class=\"data row21 col3\" >12000</td>\n",
       "                        <td id=\"T_a4d78b3e_5c9b_11ea_ad3b_701ce71031efrow21_col4\" class=\"data row21 col4\" >5262</td>\n",
       "                        <td id=\"T_a4d78b3e_5c9b_11ea_ad3b_701ce71031efrow21_col5\" class=\"data row21 col5\" >23987</td>\n",
       "                        <td id=\"T_a4d78b3e_5c9b_11ea_ad3b_701ce71031efrow21_col6\" class=\"data row21 col6\" >181</td>\n",
       "                        <td id=\"T_a4d78b3e_5c9b_11ea_ad3b_701ce71031efrow21_col7\" class=\"data row21 col7\" >0.11%</td>\n",
       "            </tr>\n",
       "            <tr>\n",
       "                                <td id=\"T_a4d78b3e_5c9b_11ea_ad3b_701ce71031efrow22_col0\" class=\"data row22 col0\" >23</td>\n",
       "                        <td id=\"T_a4d78b3e_5c9b_11ea_ad3b_701ce71031efrow22_col1\" class=\"data row22 col1\" >julia</td>\n",
       "                        <td id=\"T_a4d78b3e_5c9b_11ea_ad3b_701ce71031efrow22_col2\" class=\"data row22 col2\" >12500</td>\n",
       "                        <td id=\"T_a4d78b3e_5c9b_11ea_ad3b_701ce71031efrow22_col3\" class=\"data row22 col3\" >12500</td>\n",
       "                        <td id=\"T_a4d78b3e_5c9b_11ea_ad3b_701ce71031efrow22_col4\" class=\"data row22 col4\" >12500</td>\n",
       "                        <td id=\"T_a4d78b3e_5c9b_11ea_ad3b_701ce71031efrow22_col5\" class=\"data row22 col5\" >12500</td>\n",
       "                        <td id=\"T_a4d78b3e_5c9b_11ea_ad3b_701ce71031efrow22_col6\" class=\"data row22 col6\" >8</td>\n",
       "                        <td id=\"T_a4d78b3e_5c9b_11ea_ad3b_701ce71031efrow22_col7\" class=\"data row22 col7\" >0.00%</td>\n",
       "            </tr>\n",
       "    </tbody></table>"
      ],
      "text/plain": [
       "<pandas.io.formats.style.Styler at 0x2b18a66c908>"
      ]
     },
     "execution_count": 34,
     "metadata": {},
     "output_type": "execute_result"
    }
   ],
   "source": [
    "data_pl=get_sub_stats_by_prefix(data,'pl_')\n",
    "apply_style(data_pl)"
   ]
  },
  {
   "cell_type": "code",
   "execution_count": null,
   "metadata": {},
   "outputs": [],
   "source": []
  },
  {
   "cell_type": "markdown",
   "metadata": {},
   "source": [
    "数据显示，haskell才是最赚钱的编程语言。python是主流语言里面最赚钱的，比java的工资多了3000元！vb是最不赚钱的了。其中，最赚钱的编程语言和最不赚钱的，工资居然差了2倍。所以，要选好编程语言呀！"
   ]
  },
  {
   "cell_type": "markdown",
   "metadata": {},
   "source": [
    "# 教育"
   ]
  },
  {
   "cell_type": "code",
   "execution_count": 35,
   "metadata": {},
   "outputs": [],
   "source": [
    "edu_counts=data[~(data.edu=='')].groupby(by=['edu']).headcount.sum()"
   ]
  },
  {
   "cell_type": "code",
   "execution_count": 36,
   "metadata": {},
   "outputs": [
    {
     "data": {
      "text/plain": [
       "edu\n",
       "初中及以下        9\n",
       "博士         325\n",
       "大专       25175\n",
       "本科       59263\n",
       "硕士        3837\n",
       "高中         172\n",
       "Name: headcount, dtype: int64"
      ]
     },
     "execution_count": 36,
     "metadata": {},
     "output_type": "execute_result"
    }
   ],
   "source": [
    "edu_counts"
   ]
  },
  {
   "cell_type": "code",
   "execution_count": 37,
   "metadata": {},
   "outputs": [
    {
     "data": {
      "image/png": "[encoded data removed]",
      "text/plain": [
       "<Figure size 720x576 with 1 Axes>"
      ]
     },
     "metadata": {},
     "output_type": "display_data"
    }
   ],
   "source": [
    "plt.figure(figsize=(10,8))\n",
    "plt.pie(edu_counts.values, labels=edu_counts.index, autopct='%1.1f%%')\n",
    "plt.show()"
   ]
  },
  {
   "cell_type": "code",
   "execution_count": 38,
   "metadata": {},
   "outputs": [
    {
     "data": {
      "text/html": [
       "<style  type=\"text/css\" >\n",
       "</style><table id=\"T_af281f78_5c9b_11ea_90b6_701ce71031ef\" ><thead>    <tr>        <th class=\"col_heading level0 col0\" >edu</th>        <th class=\"col_heading level0 col1\" >salary_mean</th>        <th class=\"col_heading level0 col2\" >salary_95_min</th>        <th class=\"col_heading level0 col3\" >salary_median</th>        <th class=\"col_heading level0 col4\" >salary_95_max</th>        <th class=\"col_heading level0 col5\" >head_count</th>        <th class=\"col_heading level0 col6\" >percentage</th>    </tr></thead><tbody>\n",
       "                <tr>\n",
       "                                <td id=\"T_af281f78_5c9b_11ea_90b6_701ce71031efrow0_col0\" class=\"data row0 col0\" >博士</td>\n",
       "                        <td id=\"T_af281f78_5c9b_11ea_90b6_701ce71031efrow0_col1\" class=\"data row0 col1\" >30601</td>\n",
       "                        <td id=\"T_af281f78_5c9b_11ea_90b6_701ce71031efrow0_col2\" class=\"data row0 col2\" >15499</td>\n",
       "                        <td id=\"T_af281f78_5c9b_11ea_90b6_701ce71031efrow0_col3\" class=\"data row0 col3\" >30000</td>\n",
       "                        <td id=\"T_af281f78_5c9b_11ea_90b6_701ce71031efrow0_col4\" class=\"data row0 col4\" >50000</td>\n",
       "                        <td id=\"T_af281f78_5c9b_11ea_90b6_701ce71031efrow0_col5\" class=\"data row0 col5\" >325</td>\n",
       "                        <td id=\"T_af281f78_5c9b_11ea_90b6_701ce71031efrow0_col6\" class=\"data row0 col6\" >0.37%</td>\n",
       "            </tr>\n",
       "            <tr>\n",
       "                                <td id=\"T_af281f78_5c9b_11ea_90b6_701ce71031efrow1_col0\" class=\"data row1 col0\" >硕士</td>\n",
       "                        <td id=\"T_af281f78_5c9b_11ea_90b6_701ce71031efrow1_col1\" class=\"data row1 col1\" >21898</td>\n",
       "                        <td id=\"T_af281f78_5c9b_11ea_90b6_701ce71031efrow1_col2\" class=\"data row1 col2\" >4520</td>\n",
       "                        <td id=\"T_af281f78_5c9b_11ea_90b6_701ce71031efrow1_col3\" class=\"data row1 col3\" >20000</td>\n",
       "                        <td id=\"T_af281f78_5c9b_11ea_90b6_701ce71031efrow1_col4\" class=\"data row1 col4\" >46312</td>\n",
       "                        <td id=\"T_af281f78_5c9b_11ea_90b6_701ce71031efrow1_col5\" class=\"data row1 col5\" >3837</td>\n",
       "                        <td id=\"T_af281f78_5c9b_11ea_90b6_701ce71031efrow1_col6\" class=\"data row1 col6\" >4.32%</td>\n",
       "            </tr>\n",
       "            <tr>\n",
       "                                <td id=\"T_af281f78_5c9b_11ea_90b6_701ce71031efrow2_col0\" class=\"data row2 col0\" >本科</td>\n",
       "                        <td id=\"T_af281f78_5c9b_11ea_90b6_701ce71031efrow2_col1\" class=\"data row2 col1\" >17560</td>\n",
       "                        <td id=\"T_af281f78_5c9b_11ea_90b6_701ce71031efrow2_col2\" class=\"data row2 col2\" >5250</td>\n",
       "                        <td id=\"T_af281f78_5c9b_11ea_90b6_701ce71031efrow2_col3\" class=\"data row2 col3\" >15000</td>\n",
       "                        <td id=\"T_af281f78_5c9b_11ea_90b6_701ce71031efrow2_col4\" class=\"data row2 col4\" >40000</td>\n",
       "                        <td id=\"T_af281f78_5c9b_11ea_90b6_701ce71031efrow2_col5\" class=\"data row2 col5\" >59263</td>\n",
       "                        <td id=\"T_af281f78_5c9b_11ea_90b6_701ce71031efrow2_col6\" class=\"data row2 col6\" >66.75%</td>\n",
       "            </tr>\n",
       "            <tr>\n",
       "                                <td id=\"T_af281f78_5c9b_11ea_90b6_701ce71031efrow3_col0\" class=\"data row3 col0\" >大专</td>\n",
       "                        <td id=\"T_af281f78_5c9b_11ea_90b6_701ce71031efrow3_col1\" class=\"data row3 col1\" >13880</td>\n",
       "                        <td id=\"T_af281f78_5c9b_11ea_90b6_701ce71031efrow3_col2\" class=\"data row3 col2\" >4297</td>\n",
       "                        <td id=\"T_af281f78_5c9b_11ea_90b6_701ce71031efrow3_col3\" class=\"data row3 col3\" >12500</td>\n",
       "                        <td id=\"T_af281f78_5c9b_11ea_90b6_701ce71031efrow3_col4\" class=\"data row3 col4\" >30000</td>\n",
       "                        <td id=\"T_af281f78_5c9b_11ea_90b6_701ce71031efrow3_col5\" class=\"data row3 col5\" >25175</td>\n",
       "                        <td id=\"T_af281f78_5c9b_11ea_90b6_701ce71031efrow3_col6\" class=\"data row3 col6\" >28.36%</td>\n",
       "            </tr>\n",
       "            <tr>\n",
       "                                <td id=\"T_af281f78_5c9b_11ea_90b6_701ce71031efrow4_col0\" class=\"data row4 col0\" >初中及以下</td>\n",
       "                        <td id=\"T_af281f78_5c9b_11ea_90b6_701ce71031efrow4_col1\" class=\"data row4 col1\" >12278</td>\n",
       "                        <td id=\"T_af281f78_5c9b_11ea_90b6_701ce71031efrow4_col2\" class=\"data row4 col2\" >9000</td>\n",
       "                        <td id=\"T_af281f78_5c9b_11ea_90b6_701ce71031efrow4_col3\" class=\"data row4 col3\" >12500</td>\n",
       "                        <td id=\"T_af281f78_5c9b_11ea_90b6_701ce71031efrow4_col4\" class=\"data row4 col4\" >17500</td>\n",
       "                        <td id=\"T_af281f78_5c9b_11ea_90b6_701ce71031efrow4_col5\" class=\"data row4 col5\" >9</td>\n",
       "                        <td id=\"T_af281f78_5c9b_11ea_90b6_701ce71031efrow4_col6\" class=\"data row4 col6\" >0.01%</td>\n",
       "            </tr>\n",
       "            <tr>\n",
       "                                <td id=\"T_af281f78_5c9b_11ea_90b6_701ce71031efrow5_col0\" class=\"data row5 col0\" >高中</td>\n",
       "                        <td id=\"T_af281f78_5c9b_11ea_90b6_701ce71031efrow5_col1\" class=\"data row5 col1\" >8336</td>\n",
       "                        <td id=\"T_af281f78_5c9b_11ea_90b6_701ce71031efrow5_col2\" class=\"data row5 col2\" >2800</td>\n",
       "                        <td id=\"T_af281f78_5c9b_11ea_90b6_701ce71031efrow5_col3\" class=\"data row5 col3\" >7000</td>\n",
       "                        <td id=\"T_af281f78_5c9b_11ea_90b6_701ce71031efrow5_col4\" class=\"data row5 col4\" >24700</td>\n",
       "                        <td id=\"T_af281f78_5c9b_11ea_90b6_701ce71031efrow5_col5\" class=\"data row5 col5\" >172</td>\n",
       "                        <td id=\"T_af281f78_5c9b_11ea_90b6_701ce71031efrow5_col6\" class=\"data row5 col6\" >0.19%</td>\n",
       "            </tr>\n",
       "    </tbody></table>"
      ],
      "text/plain": [
       "<pandas.io.formats.style.Styler at 0x2b18a684948>"
      ]
     },
     "execution_count": 38,
     "metadata": {},
     "output_type": "execute_result"
    }
   ],
   "source": [
    "data_edu=get_sub_stats_by_col(data[data.edu.isin(['初中及以下','高中','大专','本科','硕士','博士'])], 'edu')\n",
    "apply_style(data_edu)"
   ]
  },
  {
   "cell_type": "code",
   "execution_count": 39,
   "metadata": {},
   "outputs": [],
   "source": [
    "salary_associate=data[data.edu=='大专'].monthly_salary\n",
    "salary_bachelor=data[data.edu=='本科'].monthly_salary\n",
    "salary_master=data[data.edu=='硕士'].monthly_salary\n",
    "salary_phd=data[data.edu=='博士'].monthly_salary"
   ]
  },
  {
   "cell_type": "code",
   "execution_count": null,
   "metadata": {},
   "outputs": [],
   "source": []
  },
  {
   "cell_type": "code",
   "execution_count": 40,
   "metadata": {},
   "outputs": [
    {
     "name": "stdout",
     "output_type": "stream",
     "text": [
      "大专，本科，硕士，博士的平均工资分别是13661，17677，22371，30774。中位数分别是12500， 16000，20833， 29166。\n"
     ]
    }
   ],
   "source": [
    "print('大专，本科，硕士，博士的平均工资分别是{:.0f}，{:.0f}，{:.0f}，{:.0f}。中位数分别是{:.0f}， {:.0f}，{:.0f}， {:.0f}。'.format(\n",
    "    salary_associate.mean(),salary_bachelor.mean(),salary_master.mean(),salary_phd.mean(),\n",
    "    salary_associate.median(),salary_bachelor.median(),salary_master.median(),salary_phd.median()))"
   ]
  },
  {
   "cell_type": "code",
   "execution_count": 41,
   "metadata": {},
   "outputs": [
    {
     "data": {
      "text/plain": [
       "F_onewayResult(statistic=61.80903027445163, pvalue=7.504940867541805e-15)"
      ]
     },
     "execution_count": 41,
     "metadata": {},
     "output_type": "execute_result"
    }
   ],
   "source": [
    "stats.f_oneway(salary_phd, salary_master)"
   ]
  },
  {
   "cell_type": "code",
   "execution_count": 42,
   "metadata": {},
   "outputs": [
    {
     "data": {
      "text/plain": [
       "F_onewayResult(statistic=379.33743792581106, pvalue=9.82658945708907e-84)"
      ]
     },
     "execution_count": 42,
     "metadata": {},
     "output_type": "execute_result"
    }
   ],
   "source": [
    "stats.f_oneway(salary_master, salary_bachelor)"
   ]
  },
  {
   "cell_type": "code",
   "execution_count": 43,
   "metadata": {},
   "outputs": [
    {
     "data": {
      "text/plain": [
       "F_onewayResult(statistic=1498.525075631907, pvalue=4.2457e-319)"
      ]
     },
     "execution_count": 43,
     "metadata": {},
     "output_type": "execute_result"
    }
   ],
   "source": [
    "stats.f_oneway(salary_bachelor, salary_associate)"
   ]
  },
  {
   "cell_type": "markdown",
   "metadata": {},
   "source": [
    "经过Oneway Anova Test，证明从大专到博士，学历每提高一级，工资都有显著的提高。"
   ]
  },
  {
   "cell_type": "code",
   "execution_count": 44,
   "metadata": {},
   "outputs": [
    {
     "data": {
      "image/png": "[encoded data removed]",
      "text/plain": [
       "<Figure size 432x288 with 1 Axes>"
      ]
     },
     "metadata": {
      "needs_background": "light"
     },
     "output_type": "display_data"
    }
   ],
   "source": [
    "\n",
    "order=['大专','本科','硕士','博士']\n",
    "a=sns.boxplot(y='edu',x='monthly_salary',order=order,data=data[data.edu.isin(order)], orient='h')\n",
    "plt.annotate('https://github.com/juwikuang/job_survey', xy=(0.5,1.5), xytext=(2, 1.55))\n",
    "plt.show()"
   ]
  },
  {
   "cell_type": "markdown",
   "metadata": {},
   "source": [
    "# 工作经验 Working Experience"
   ]
  },
  {
   "cell_type": "code",
   "execution_count": 45,
   "metadata": {},
   "outputs": [
    {
     "data": {
      "text/html": [
       "<style  type=\"text/css\" >\n",
       "</style><table id=\"T_b6f9642c_5c9b_11ea_b1b5_701ce71031ef\" ><thead>    <tr>        <th class=\"col_heading level0 col0\" >experience</th>        <th class=\"col_heading level0 col1\" >salary_mean</th>        <th class=\"col_heading level0 col2\" >salary_95_min</th>        <th class=\"col_heading level0 col3\" >salary_median</th>        <th class=\"col_heading level0 col4\" >salary_95_max</th>        <th class=\"col_heading level0 col5\" >head_count</th>        <th class=\"col_heading level0 col6\" >percentage</th>    </tr></thead><tbody>\n",
       "                <tr>\n",
       "                                <td id=\"T_b6f9642c_5c9b_11ea_b1b5_701ce71031efrow0_col0\" class=\"data row0 col0\" >10+</td>\n",
       "                        <td id=\"T_b6f9642c_5c9b_11ea_b1b5_701ce71031efrow0_col1\" class=\"data row0 col1\" >31247</td>\n",
       "                        <td id=\"T_b6f9642c_5c9b_11ea_b1b5_701ce71031efrow0_col2\" class=\"data row0 col2\" >12500</td>\n",
       "                        <td id=\"T_b6f9642c_5c9b_11ea_b1b5_701ce71031efrow0_col3\" class=\"data row0 col3\" >30000</td>\n",
       "                        <td id=\"T_b6f9642c_5c9b_11ea_b1b5_701ce71031efrow0_col4\" class=\"data row0 col4\" >55000</td>\n",
       "                        <td id=\"T_b6f9642c_5c9b_11ea_b1b5_701ce71031efrow0_col5\" class=\"data row0 col5\" >399</td>\n",
       "                        <td id=\"T_b6f9642c_5c9b_11ea_b1b5_701ce71031efrow0_col6\" class=\"data row0 col6\" >0.39%</td>\n",
       "            </tr>\n",
       "            <tr>\n",
       "                                <td id=\"T_b6f9642c_5c9b_11ea_b1b5_701ce71031efrow1_col0\" class=\"data row1 col0\" >5_10</td>\n",
       "                        <td id=\"T_b6f9642c_5c9b_11ea_b1b5_701ce71031efrow1_col1\" class=\"data row1 col1\" >22488</td>\n",
       "                        <td id=\"T_b6f9642c_5c9b_11ea_b1b5_701ce71031efrow1_col2\" class=\"data row1 col2\" >11500</td>\n",
       "                        <td id=\"T_b6f9642c_5c9b_11ea_b1b5_701ce71031efrow1_col3\" class=\"data row1 col3\" >20000</td>\n",
       "                        <td id=\"T_b6f9642c_5c9b_11ea_b1b5_701ce71031efrow1_col4\" class=\"data row1 col4\" >45000</td>\n",
       "                        <td id=\"T_b6f9642c_5c9b_11ea_b1b5_701ce71031efrow1_col5\" class=\"data row1 col5\" >14567</td>\n",
       "                        <td id=\"T_b6f9642c_5c9b_11ea_b1b5_701ce71031efrow1_col6\" class=\"data row1 col6\" >14.37%</td>\n",
       "            </tr>\n",
       "            <tr>\n",
       "                                <td id=\"T_b6f9642c_5c9b_11ea_b1b5_701ce71031efrow2_col0\" class=\"data row2 col0\" >3_5</td>\n",
       "                        <td id=\"T_b6f9642c_5c9b_11ea_b1b5_701ce71031efrow2_col1\" class=\"data row2 col1\" >17968</td>\n",
       "                        <td id=\"T_b6f9642c_5c9b_11ea_b1b5_701ce71031efrow2_col2\" class=\"data row2 col2\" >9000</td>\n",
       "                        <td id=\"T_b6f9642c_5c9b_11ea_b1b5_701ce71031efrow2_col3\" class=\"data row2 col3\" >15500</td>\n",
       "                        <td id=\"T_b6f9642c_5c9b_11ea_b1b5_701ce71031efrow2_col4\" class=\"data row2 col4\" >37500</td>\n",
       "                        <td id=\"T_b6f9642c_5c9b_11ea_b1b5_701ce71031efrow2_col5\" class=\"data row2 col5\" >31378</td>\n",
       "                        <td id=\"T_b6f9642c_5c9b_11ea_b1b5_701ce71031efrow2_col6\" class=\"data row2 col6\" >30.95%</td>\n",
       "            </tr>\n",
       "            <tr>\n",
       "                                <td id=\"T_b6f9642c_5c9b_11ea_b1b5_701ce71031efrow3_col0\" class=\"data row3 col0\" ></td>\n",
       "                        <td id=\"T_b6f9642c_5c9b_11ea_b1b5_701ce71031efrow3_col1\" class=\"data row3 col1\" >14534</td>\n",
       "                        <td id=\"T_b6f9642c_5c9b_11ea_b1b5_701ce71031efrow3_col2\" class=\"data row3 col2\" >3500</td>\n",
       "                        <td id=\"T_b6f9642c_5c9b_11ea_b1b5_701ce71031efrow3_col3\" class=\"data row3 col3\" >12500</td>\n",
       "                        <td id=\"T_b6f9642c_5c9b_11ea_b1b5_701ce71031efrow3_col4\" class=\"data row3 col4\" >36000</td>\n",
       "                        <td id=\"T_b6f9642c_5c9b_11ea_b1b5_701ce71031efrow3_col5\" class=\"data row3 col5\" >26951</td>\n",
       "                        <td id=\"T_b6f9642c_5c9b_11ea_b1b5_701ce71031efrow3_col6\" class=\"data row3 col6\" >26.58%</td>\n",
       "            </tr>\n",
       "            <tr>\n",
       "                                <td id=\"T_b6f9642c_5c9b_11ea_b1b5_701ce71031efrow4_col0\" class=\"data row4 col0\" >1_3</td>\n",
       "                        <td id=\"T_b6f9642c_5c9b_11ea_b1b5_701ce71031efrow4_col1\" class=\"data row4 col1\" >13861</td>\n",
       "                        <td id=\"T_b6f9642c_5c9b_11ea_b1b5_701ce71031efrow4_col2\" class=\"data row4 col2\" >5750</td>\n",
       "                        <td id=\"T_b6f9642c_5c9b_11ea_b1b5_701ce71031efrow4_col3\" class=\"data row4 col3\" >12500</td>\n",
       "                        <td id=\"T_b6f9642c_5c9b_11ea_b1b5_701ce71031efrow4_col4\" class=\"data row4 col4\" >30000</td>\n",
       "                        <td id=\"T_b6f9642c_5c9b_11ea_b1b5_701ce71031efrow4_col5\" class=\"data row4 col5\" >28095</td>\n",
       "                        <td id=\"T_b6f9642c_5c9b_11ea_b1b5_701ce71031efrow4_col6\" class=\"data row4 col6\" >27.71%</td>\n",
       "            </tr>\n",
       "    </tbody></table>"
      ],
      "text/plain": [
       "<pandas.io.formats.style.Styler at 0x2b185c9b4c8>"
      ]
     },
     "execution_count": 45,
     "metadata": {},
     "output_type": "execute_result"
    }
   ],
   "source": [
    "data_experience=get_sub_stats_by_col(data, 'experience')\n",
    "apply_style(data_experience)"
   ]
  },
  {
   "cell_type": "code",
   "execution_count": 46,
   "metadata": {},
   "outputs": [],
   "source": [
    "salary_we_10=data[data.experience=='10+'].monthly_salary\n",
    "salary_we_5_10=data[data.experience=='5_10'].monthly_salary\n",
    "salary_we_3_5=data[data.experience=='3_5'].monthly_salary\n",
    "salary_we_1_3=data[data.experience=='1_3'].monthly_salary\n",
    "salary_we_no=data[data.experience=='no'].monthly_salary"
   ]
  },
  {
   "cell_type": "code",
   "execution_count": 47,
   "metadata": {},
   "outputs": [
    {
     "data": {
      "image/png": "[encoded data removed]",
      "text/plain": [
       "<Figure size 432x288 with 1 Axes>"
      ]
     },
     "metadata": {
      "needs_background": "light"
     },
     "output_type": "display_data"
    }
   ],
   "source": [
    "\n",
    "order=['10+','5_10','3_5','1_3']\n",
    "sns.boxplot(y='experience',x='monthly_salary',order=order,data=data[data.experience.isin(order)], orient='h')\n",
    "plt.annotate('https://github.com/juwikuang/job_survey', xy=(1.5,1.5), xytext=(1.55, 1.55))\n",
    "plt.show()"
   ]
  },
  {
   "cell_type": "markdown",
   "metadata": {},
   "source": [
    "# 公司 Company"
   ]
  },
  {
   "cell_type": "markdown",
   "metadata": {},
   "source": [
    "## 公司性质 Company Type"
   ]
  },
  {
   "cell_type": "code",
   "execution_count": 48,
   "metadata": {},
   "outputs": [
    {
     "data": {
      "text/html": [
       "<style  type=\"text/css\" >\n",
       "</style><table id=\"T_ba113b86_5c9b_11ea_8edd_701ce71031ef\" ><thead>    <tr>        <th class=\"col_heading level0 col0\" >company_type</th>        <th class=\"col_heading level0 col1\" >salary_mean</th>        <th class=\"col_heading level0 col2\" >salary_95_min</th>        <th class=\"col_heading level0 col3\" >salary_median</th>        <th class=\"col_heading level0 col4\" >salary_95_max</th>        <th class=\"col_heading level0 col5\" >head_count</th>        <th class=\"col_heading level0 col6\" >percentage</th>    </tr></thead><tbody>\n",
       "                <tr>\n",
       "                                <td id=\"T_ba113b86_5c9b_11ea_8edd_701ce71031efrow0_col0\" class=\"data row0 col0\" >外资（欧美）</td>\n",
       "                        <td id=\"T_ba113b86_5c9b_11ea_8edd_701ce71031efrow0_col1\" class=\"data row0 col1\" >19094</td>\n",
       "                        <td id=\"T_ba113b86_5c9b_11ea_8edd_701ce71031efrow0_col2\" class=\"data row0 col2\" >6855</td>\n",
       "                        <td id=\"T_ba113b86_5c9b_11ea_8edd_701ce71031efrow0_col3\" class=\"data row0 col3\" >17500</td>\n",
       "                        <td id=\"T_ba113b86_5c9b_11ea_8edd_701ce71031efrow0_col4\" class=\"data row0 col4\" >40000</td>\n",
       "                        <td id=\"T_ba113b86_5c9b_11ea_8edd_701ce71031efrow0_col5\" class=\"data row0 col5\" >5642</td>\n",
       "                        <td id=\"T_ba113b86_5c9b_11ea_8edd_701ce71031efrow0_col6\" class=\"data row0 col6\" >5.56%</td>\n",
       "            </tr>\n",
       "            <tr>\n",
       "                                <td id=\"T_ba113b86_5c9b_11ea_8edd_701ce71031efrow1_col0\" class=\"data row1 col0\" >国企</td>\n",
       "                        <td id=\"T_ba113b86_5c9b_11ea_8edd_701ce71031efrow1_col1\" class=\"data row1 col1\" >17279</td>\n",
       "                        <td id=\"T_ba113b86_5c9b_11ea_8edd_701ce71031efrow1_col2\" class=\"data row1 col2\" >3750</td>\n",
       "                        <td id=\"T_ba113b86_5c9b_11ea_8edd_701ce71031efrow1_col3\" class=\"data row1 col3\" >15000</td>\n",
       "                        <td id=\"T_ba113b86_5c9b_11ea_8edd_701ce71031efrow1_col4\" class=\"data row1 col4\" >45000</td>\n",
       "                        <td id=\"T_ba113b86_5c9b_11ea_8edd_701ce71031efrow1_col5\" class=\"data row1 col5\" >7072</td>\n",
       "                        <td id=\"T_ba113b86_5c9b_11ea_8edd_701ce71031efrow1_col6\" class=\"data row1 col6\" >6.98%</td>\n",
       "            </tr>\n",
       "            <tr>\n",
       "                                <td id=\"T_ba113b86_5c9b_11ea_8edd_701ce71031efrow2_col0\" class=\"data row2 col0\" >合资</td>\n",
       "                        <td id=\"T_ba113b86_5c9b_11ea_8edd_701ce71031efrow2_col1\" class=\"data row2 col1\" >16946</td>\n",
       "                        <td id=\"T_ba113b86_5c9b_11ea_8edd_701ce71031efrow2_col2\" class=\"data row2 col2\" >5250</td>\n",
       "                        <td id=\"T_ba113b86_5c9b_11ea_8edd_701ce71031efrow2_col3\" class=\"data row2 col3\" >15000</td>\n",
       "                        <td id=\"T_ba113b86_5c9b_11ea_8edd_701ce71031efrow2_col4\" class=\"data row2 col4\" >37500</td>\n",
       "                        <td id=\"T_ba113b86_5c9b_11ea_8edd_701ce71031efrow2_col5\" class=\"data row2 col5\" >8533</td>\n",
       "                        <td id=\"T_ba113b86_5c9b_11ea_8edd_701ce71031efrow2_col6\" class=\"data row2 col6\" >8.42%</td>\n",
       "            </tr>\n",
       "            <tr>\n",
       "                                <td id=\"T_ba113b86_5c9b_11ea_8edd_701ce71031efrow3_col0\" class=\"data row3 col0\" >民营公司</td>\n",
       "                        <td id=\"T_ba113b86_5c9b_11ea_8edd_701ce71031efrow3_col1\" class=\"data row3 col1\" >16372</td>\n",
       "                        <td id=\"T_ba113b86_5c9b_11ea_8edd_701ce71031efrow3_col2\" class=\"data row3 col2\" >5000</td>\n",
       "                        <td id=\"T_ba113b86_5c9b_11ea_8edd_701ce71031efrow3_col3\" class=\"data row3 col3\" >15000</td>\n",
       "                        <td id=\"T_ba113b86_5c9b_11ea_8edd_701ce71031efrow3_col4\" class=\"data row3 col4\" >37500</td>\n",
       "                        <td id=\"T_ba113b86_5c9b_11ea_8edd_701ce71031efrow3_col5\" class=\"data row3 col5\" >73744</td>\n",
       "                        <td id=\"T_ba113b86_5c9b_11ea_8edd_701ce71031efrow3_col6\" class=\"data row3 col6\" >72.73%</td>\n",
       "            </tr>\n",
       "            <tr>\n",
       "                                <td id=\"T_ba113b86_5c9b_11ea_8edd_701ce71031efrow4_col0\" class=\"data row4 col0\" >非营利组织</td>\n",
       "                        <td id=\"T_ba113b86_5c9b_11ea_8edd_701ce71031efrow4_col1\" class=\"data row4 col1\" >16299</td>\n",
       "                        <td id=\"T_ba113b86_5c9b_11ea_8edd_701ce71031efrow4_col2\" class=\"data row4 col2\" >4867</td>\n",
       "                        <td id=\"T_ba113b86_5c9b_11ea_8edd_701ce71031efrow4_col3\" class=\"data row4 col3\" >12875</td>\n",
       "                        <td id=\"T_ba113b86_5c9b_11ea_8edd_701ce71031efrow4_col4\" class=\"data row4 col4\" >39333</td>\n",
       "                        <td id=\"T_ba113b86_5c9b_11ea_8edd_701ce71031efrow4_col5\" class=\"data row4 col5\" >68</td>\n",
       "                        <td id=\"T_ba113b86_5c9b_11ea_8edd_701ce71031efrow4_col6\" class=\"data row4 col6\" >0.07%</td>\n",
       "            </tr>\n",
       "            <tr>\n",
       "                                <td id=\"T_ba113b86_5c9b_11ea_8edd_701ce71031efrow5_col0\" class=\"data row5 col0\" >外资（非欧美）</td>\n",
       "                        <td id=\"T_ba113b86_5c9b_11ea_8edd_701ce71031efrow5_col1\" class=\"data row5 col1\" >16254</td>\n",
       "                        <td id=\"T_ba113b86_5c9b_11ea_8edd_701ce71031efrow5_col2\" class=\"data row5 col2\" >5770</td>\n",
       "                        <td id=\"T_ba113b86_5c9b_11ea_8edd_701ce71031efrow5_col3\" class=\"data row5 col3\" >14000</td>\n",
       "                        <td id=\"T_ba113b86_5c9b_11ea_8edd_701ce71031efrow5_col4\" class=\"data row5 col4\" >37500</td>\n",
       "                        <td id=\"T_ba113b86_5c9b_11ea_8edd_701ce71031efrow5_col5\" class=\"data row5 col5\" >5754</td>\n",
       "                        <td id=\"T_ba113b86_5c9b_11ea_8edd_701ce71031efrow5_col6\" class=\"data row5 col6\" >5.68%</td>\n",
       "            </tr>\n",
       "            <tr>\n",
       "                                <td id=\"T_ba113b86_5c9b_11ea_8edd_701ce71031efrow6_col0\" class=\"data row6 col0\" >事业单位</td>\n",
       "                        <td id=\"T_ba113b86_5c9b_11ea_8edd_701ce71031efrow6_col1\" class=\"data row6 col1\" >14904</td>\n",
       "                        <td id=\"T_ba113b86_5c9b_11ea_8edd_701ce71031efrow6_col2\" class=\"data row6 col2\" >6804</td>\n",
       "                        <td id=\"T_ba113b86_5c9b_11ea_8edd_701ce71031efrow6_col3\" class=\"data row6 col3\" >14583</td>\n",
       "                        <td id=\"T_ba113b86_5c9b_11ea_8edd_701ce71031efrow6_col4\" class=\"data row6 col4\" >35000</td>\n",
       "                        <td id=\"T_ba113b86_5c9b_11ea_8edd_701ce71031efrow6_col5\" class=\"data row6 col5\" >533</td>\n",
       "                        <td id=\"T_ba113b86_5c9b_11ea_8edd_701ce71031efrow6_col6\" class=\"data row6 col6\" >0.53%</td>\n",
       "            </tr>\n",
       "            <tr>\n",
       "                                <td id=\"T_ba113b86_5c9b_11ea_8edd_701ce71031efrow7_col0\" class=\"data row7 col0\" >外企代表处</td>\n",
       "                        <td id=\"T_ba113b86_5c9b_11ea_8edd_701ce71031efrow7_col1\" class=\"data row7 col1\" >12545</td>\n",
       "                        <td id=\"T_ba113b86_5c9b_11ea_8edd_701ce71031efrow7_col2\" class=\"data row7 col2\" >1750</td>\n",
       "                        <td id=\"T_ba113b86_5c9b_11ea_8edd_701ce71031efrow7_col3\" class=\"data row7 col3\" >16136</td>\n",
       "                        <td id=\"T_ba113b86_5c9b_11ea_8edd_701ce71031efrow7_col4\" class=\"data row7 col4\" >22900</td>\n",
       "                        <td id=\"T_ba113b86_5c9b_11ea_8edd_701ce71031efrow7_col5\" class=\"data row7 col5\" >44</td>\n",
       "                        <td id=\"T_ba113b86_5c9b_11ea_8edd_701ce71031efrow7_col6\" class=\"data row7 col6\" >0.04%</td>\n",
       "            </tr>\n",
       "    </tbody></table>"
      ],
      "text/plain": [
       "<pandas.io.formats.style.Styler at 0x2b18e627d08>"
      ]
     },
     "execution_count": 48,
     "metadata": {},
     "output_type": "execute_result"
    }
   ],
   "source": [
    "data_company_type=get_sub_stats_by_col(data,'company_type')\n",
    "apply_style(data_company_type)"
   ]
  },
  {
   "cell_type": "markdown",
   "metadata": {},
   "source": [
    "us_eu是欧美外企，startup是创业公司，listed是上市公司，state是国企，private是私企，foreign是非欧美外企，其他不足1000个样本的不管了。"
   ]
  },
  {
   "cell_type": "markdown",
   "metadata": {},
   "source": [
    "## 公司规模 Company Size"
   ]
  },
  {
   "cell_type": "code",
   "execution_count": 49,
   "metadata": {},
   "outputs": [
    {
     "data": {
      "text/html": [
       "<style  type=\"text/css\" >\n",
       "</style><table id=\"T_bb7f2090_5c9b_11ea_8778_701ce71031ef\" ><thead>    <tr>        <th class=\"col_heading level0 col0\" >company_size</th>        <th class=\"col_heading level0 col1\" >salary_mean</th>        <th class=\"col_heading level0 col2\" >salary_95_min</th>        <th class=\"col_heading level0 col3\" >salary_median</th>        <th class=\"col_heading level0 col4\" >salary_95_max</th>        <th class=\"col_heading level0 col5\" >head_count</th>        <th class=\"col_heading level0 col6\" >percentage</th>    </tr></thead><tbody>\n",
       "                <tr>\n",
       "                                <td id=\"T_bb7f2090_5c9b_11ea_8778_701ce71031efrow0_col0\" class=\"data row0 col0\" >10000+</td>\n",
       "                        <td id=\"T_bb7f2090_5c9b_11ea_8778_701ce71031efrow0_col1\" class=\"data row0 col1\" >24938</td>\n",
       "                        <td id=\"T_bb7f2090_5c9b_11ea_8778_701ce71031efrow0_col2\" class=\"data row0 col2\" >7000</td>\n",
       "                        <td id=\"T_bb7f2090_5c9b_11ea_8778_701ce71031efrow0_col3\" class=\"data row0 col3\" >22500</td>\n",
       "                        <td id=\"T_bb7f2090_5c9b_11ea_8778_701ce71031efrow0_col4\" class=\"data row0 col4\" >50000</td>\n",
       "                        <td id=\"T_bb7f2090_5c9b_11ea_8778_701ce71031efrow0_col5\" class=\"data row0 col5\" >7011</td>\n",
       "                        <td id=\"T_bb7f2090_5c9b_11ea_8778_701ce71031efrow0_col6\" class=\"data row0 col6\" >6.91%</td>\n",
       "            </tr>\n",
       "            <tr>\n",
       "                                <td id=\"T_bb7f2090_5c9b_11ea_8778_701ce71031efrow1_col0\" class=\"data row1 col0\" >5000-10000</td>\n",
       "                        <td id=\"T_bb7f2090_5c9b_11ea_8778_701ce71031efrow1_col1\" class=\"data row1 col1\" >19293</td>\n",
       "                        <td id=\"T_bb7f2090_5c9b_11ea_8778_701ce71031efrow1_col2\" class=\"data row1 col2\" >7000</td>\n",
       "                        <td id=\"T_bb7f2090_5c9b_11ea_8778_701ce71031efrow1_col3\" class=\"data row1 col3\" >16000</td>\n",
       "                        <td id=\"T_bb7f2090_5c9b_11ea_8778_701ce71031efrow1_col4\" class=\"data row1 col4\" >45000</td>\n",
       "                        <td id=\"T_bb7f2090_5c9b_11ea_8778_701ce71031efrow1_col5\" class=\"data row1 col5\" >2665</td>\n",
       "                        <td id=\"T_bb7f2090_5c9b_11ea_8778_701ce71031efrow1_col6\" class=\"data row1 col6\" >2.63%</td>\n",
       "            </tr>\n",
       "            <tr>\n",
       "                                <td id=\"T_bb7f2090_5c9b_11ea_8778_701ce71031efrow2_col0\" class=\"data row2 col0\" ></td>\n",
       "                        <td id=\"T_bb7f2090_5c9b_11ea_8778_701ce71031efrow2_col1\" class=\"data row2 col1\" >17461</td>\n",
       "                        <td id=\"T_bb7f2090_5c9b_11ea_8778_701ce71031efrow2_col2\" class=\"data row2 col2\" >6250</td>\n",
       "                        <td id=\"T_bb7f2090_5c9b_11ea_8778_701ce71031efrow2_col3\" class=\"data row2 col3\" >15500</td>\n",
       "                        <td id=\"T_bb7f2090_5c9b_11ea_8778_701ce71031efrow2_col4\" class=\"data row2 col4\" >37744</td>\n",
       "                        <td id=\"T_bb7f2090_5c9b_11ea_8778_701ce71031efrow2_col5\" class=\"data row2 col5\" >581</td>\n",
       "                        <td id=\"T_bb7f2090_5c9b_11ea_8778_701ce71031efrow2_col6\" class=\"data row2 col6\" >0.57%</td>\n",
       "            </tr>\n",
       "            <tr>\n",
       "                                <td id=\"T_bb7f2090_5c9b_11ea_8778_701ce71031efrow3_col0\" class=\"data row3 col0\" >500-1000</td>\n",
       "                        <td id=\"T_bb7f2090_5c9b_11ea_8778_701ce71031efrow3_col1\" class=\"data row3 col1\" >17141</td>\n",
       "                        <td id=\"T_bb7f2090_5c9b_11ea_8778_701ce71031efrow3_col2\" class=\"data row3 col2\" >5250</td>\n",
       "                        <td id=\"T_bb7f2090_5c9b_11ea_8778_701ce71031efrow3_col3\" class=\"data row3 col3\" >15000</td>\n",
       "                        <td id=\"T_bb7f2090_5c9b_11ea_8778_701ce71031efrow3_col4\" class=\"data row3 col4\" >35000</td>\n",
       "                        <td id=\"T_bb7f2090_5c9b_11ea_8778_701ce71031efrow3_col5\" class=\"data row3 col5\" >10064</td>\n",
       "                        <td id=\"T_bb7f2090_5c9b_11ea_8778_701ce71031efrow3_col6\" class=\"data row3 col6\" >9.93%</td>\n",
       "            </tr>\n",
       "            <tr>\n",
       "                                <td id=\"T_bb7f2090_5c9b_11ea_8778_701ce71031efrow4_col0\" class=\"data row4 col0\" >1000-5000</td>\n",
       "                        <td id=\"T_bb7f2090_5c9b_11ea_8778_701ce71031efrow4_col1\" class=\"data row4 col1\" >17103</td>\n",
       "                        <td id=\"T_bb7f2090_5c9b_11ea_8778_701ce71031efrow4_col2\" class=\"data row4 col2\" >6000</td>\n",
       "                        <td id=\"T_bb7f2090_5c9b_11ea_8778_701ce71031efrow4_col3\" class=\"data row4 col3\" >15499</td>\n",
       "                        <td id=\"T_bb7f2090_5c9b_11ea_8778_701ce71031efrow4_col4\" class=\"data row4 col4\" >37500</td>\n",
       "                        <td id=\"T_bb7f2090_5c9b_11ea_8778_701ce71031efrow4_col5\" class=\"data row4 col5\" >12920</td>\n",
       "                        <td id=\"T_bb7f2090_5c9b_11ea_8778_701ce71031efrow4_col6\" class=\"data row4 col6\" >12.74%</td>\n",
       "            </tr>\n",
       "            <tr>\n",
       "                                <td id=\"T_bb7f2090_5c9b_11ea_8778_701ce71031efrow5_col0\" class=\"data row5 col0\" >150-500</td>\n",
       "                        <td id=\"T_bb7f2090_5c9b_11ea_8778_701ce71031efrow5_col1\" class=\"data row5 col1\" >16251</td>\n",
       "                        <td id=\"T_bb7f2090_5c9b_11ea_8778_701ce71031efrow5_col2\" class=\"data row5 col2\" >5250</td>\n",
       "                        <td id=\"T_bb7f2090_5c9b_11ea_8778_701ce71031efrow5_col3\" class=\"data row5 col3\" >15000</td>\n",
       "                        <td id=\"T_bb7f2090_5c9b_11ea_8778_701ce71031efrow5_col4\" class=\"data row5 col4\" >35000</td>\n",
       "                        <td id=\"T_bb7f2090_5c9b_11ea_8778_701ce71031efrow5_col5\" class=\"data row5 col5\" >24277</td>\n",
       "                        <td id=\"T_bb7f2090_5c9b_11ea_8778_701ce71031efrow5_col6\" class=\"data row5 col6\" >23.94%</td>\n",
       "            </tr>\n",
       "            <tr>\n",
       "                                <td id=\"T_bb7f2090_5c9b_11ea_8778_701ce71031efrow6_col0\" class=\"data row6 col0\" >50-150</td>\n",
       "                        <td id=\"T_bb7f2090_5c9b_11ea_8778_701ce71031efrow6_col1\" class=\"data row6 col1\" >15339</td>\n",
       "                        <td id=\"T_bb7f2090_5c9b_11ea_8778_701ce71031efrow6_col2\" class=\"data row6 col2\" >4500</td>\n",
       "                        <td id=\"T_bb7f2090_5c9b_11ea_8778_701ce71031efrow6_col3\" class=\"data row6 col3\" >14000</td>\n",
       "                        <td id=\"T_bb7f2090_5c9b_11ea_8778_701ce71031efrow6_col4\" class=\"data row6 col4\" >35000</td>\n",
       "                        <td id=\"T_bb7f2090_5c9b_11ea_8778_701ce71031efrow6_col5\" class=\"data row6 col5\" >30385</td>\n",
       "                        <td id=\"T_bb7f2090_5c9b_11ea_8778_701ce71031efrow6_col6\" class=\"data row6 col6\" >29.97%</td>\n",
       "            </tr>\n",
       "            <tr>\n",
       "                                <td id=\"T_bb7f2090_5c9b_11ea_8778_701ce71031efrow7_col0\" class=\"data row7 col0\" >50-</td>\n",
       "                        <td id=\"T_bb7f2090_5c9b_11ea_8778_701ce71031efrow7_col1\" class=\"data row7 col1\" >14419</td>\n",
       "                        <td id=\"T_bb7f2090_5c9b_11ea_8778_701ce71031efrow7_col2\" class=\"data row7 col2\" >4000</td>\n",
       "                        <td id=\"T_bb7f2090_5c9b_11ea_8778_701ce71031efrow7_col3\" class=\"data row7 col3\" >12500</td>\n",
       "                        <td id=\"T_bb7f2090_5c9b_11ea_8778_701ce71031efrow7_col4\" class=\"data row7 col4\" >35000</td>\n",
       "                        <td id=\"T_bb7f2090_5c9b_11ea_8778_701ce71031efrow7_col5\" class=\"data row7 col5\" >13487</td>\n",
       "                        <td id=\"T_bb7f2090_5c9b_11ea_8778_701ce71031efrow7_col6\" class=\"data row7 col6\" >13.30%</td>\n",
       "            </tr>\n",
       "    </tbody></table>"
      ],
      "text/plain": [
       "<pandas.io.formats.style.Styler at 0x2b1846a30c8>"
      ]
     },
     "execution_count": 49,
     "metadata": {},
     "output_type": "execute_result"
    }
   ],
   "source": [
    "data_company_size=get_sub_stats_by_col(data,'company_size')\n",
    "apply_style(data_company_size)"
   ]
  },
  {
   "cell_type": "markdown",
   "metadata": {},
   "source": [
    "公司越大，工资越高"
   ]
  },
  {
   "cell_type": "markdown",
   "metadata": {},
   "source": [
    "## 行业 Industry"
   ]
  },
  {
   "cell_type": "code",
   "execution_count": 50,
   "metadata": {},
   "outputs": [
    {
     "data": {
      "text/html": [
       "<style  type=\"text/css\" >\n",
       "</style><table id=\"T_bce6637a_5c9b_11ea_af27_701ce71031ef\" ><thead>    <tr>        <th class=\"col_heading level0 col0\" >industry</th>        <th class=\"col_heading level0 col1\" >salary_mean</th>        <th class=\"col_heading level0 col2\" >salary_95_min</th>        <th class=\"col_heading level0 col3\" >salary_median</th>        <th class=\"col_heading level0 col4\" >salary_95_max</th>        <th class=\"col_heading level0 col5\" >head_count</th>        <th class=\"col_heading level0 col6\" >percentage</th>    </tr></thead><tbody>\n",
       "                <tr>\n",
       "                                <td id=\"T_bce6637a_5c9b_11ea_af27_701ce71031efrow0_col0\" class=\"data row0 col0\" >logistic</td>\n",
       "                        <td id=\"T_bce6637a_5c9b_11ea_af27_701ce71031efrow0_col1\" class=\"data row0 col1\" >19107</td>\n",
       "                        <td id=\"T_bce6637a_5c9b_11ea_af27_701ce71031efrow0_col2\" class=\"data row0 col2\" >5680</td>\n",
       "                        <td id=\"T_bce6637a_5c9b_11ea_af27_701ce71031efrow0_col3\" class=\"data row0 col3\" >15424</td>\n",
       "                        <td id=\"T_bce6637a_5c9b_11ea_af27_701ce71031efrow0_col4\" class=\"data row0 col4\" >48000</td>\n",
       "                        <td id=\"T_bce6637a_5c9b_11ea_af27_701ce71031efrow0_col5\" class=\"data row0 col5\" >1566</td>\n",
       "                        <td id=\"T_bce6637a_5c9b_11ea_af27_701ce71031efrow0_col6\" class=\"data row0 col6\" >1.54%</td>\n",
       "            </tr>\n",
       "            <tr>\n",
       "                                <td id=\"T_bce6637a_5c9b_11ea_af27_701ce71031efrow1_col0\" class=\"data row1 col0\" >finance</td>\n",
       "                        <td id=\"T_bce6637a_5c9b_11ea_af27_701ce71031efrow1_col1\" class=\"data row1 col1\" >18092</td>\n",
       "                        <td id=\"T_bce6637a_5c9b_11ea_af27_701ce71031efrow1_col2\" class=\"data row1 col2\" >5250</td>\n",
       "                        <td id=\"T_bce6637a_5c9b_11ea_af27_701ce71031efrow1_col3\" class=\"data row1 col3\" >17500</td>\n",
       "                        <td id=\"T_bce6637a_5c9b_11ea_af27_701ce71031efrow1_col4\" class=\"data row1 col4\" >36167</td>\n",
       "                        <td id=\"T_bce6637a_5c9b_11ea_af27_701ce71031efrow1_col5\" class=\"data row1 col5\" >3472</td>\n",
       "                        <td id=\"T_bce6637a_5c9b_11ea_af27_701ce71031efrow1_col6\" class=\"data row1 col6\" >3.42%</td>\n",
       "            </tr>\n",
       "            <tr>\n",
       "                                <td id=\"T_bce6637a_5c9b_11ea_af27_701ce71031efrow2_col0\" class=\"data row2 col0\" >computer</td>\n",
       "                        <td id=\"T_bce6637a_5c9b_11ea_af27_701ce71031efrow2_col1\" class=\"data row2 col1\" >16775</td>\n",
       "                        <td id=\"T_bce6637a_5c9b_11ea_af27_701ce71031efrow2_col2\" class=\"data row2 col2\" >5000</td>\n",
       "                        <td id=\"T_bce6637a_5c9b_11ea_af27_701ce71031efrow2_col3\" class=\"data row2 col3\" >15000</td>\n",
       "                        <td id=\"T_bce6637a_5c9b_11ea_af27_701ce71031efrow2_col4\" class=\"data row2 col4\" >37500</td>\n",
       "                        <td id=\"T_bce6637a_5c9b_11ea_af27_701ce71031efrow2_col5\" class=\"data row2 col5\" >77207</td>\n",
       "                        <td id=\"T_bce6637a_5c9b_11ea_af27_701ce71031efrow2_col6\" class=\"data row2 col6\" >76.15%</td>\n",
       "            </tr>\n",
       "            <tr>\n",
       "                                <td id=\"T_bce6637a_5c9b_11ea_af27_701ce71031efrow3_col0\" class=\"data row3 col0\" >edu</td>\n",
       "                        <td id=\"T_bce6637a_5c9b_11ea_af27_701ce71031efrow3_col1\" class=\"data row3 col1\" >16613</td>\n",
       "                        <td id=\"T_bce6637a_5c9b_11ea_af27_701ce71031efrow3_col2\" class=\"data row3 col2\" >6500</td>\n",
       "                        <td id=\"T_bce6637a_5c9b_11ea_af27_701ce71031efrow3_col3\" class=\"data row3 col3\" >15000</td>\n",
       "                        <td id=\"T_bce6637a_5c9b_11ea_af27_701ce71031efrow3_col4\" class=\"data row3 col4\" >38150</td>\n",
       "                        <td id=\"T_bce6637a_5c9b_11ea_af27_701ce71031efrow3_col5\" class=\"data row3 col5\" >5848</td>\n",
       "                        <td id=\"T_bce6637a_5c9b_11ea_af27_701ce71031efrow3_col6\" class=\"data row3 col6\" >5.77%</td>\n",
       "            </tr>\n",
       "            <tr>\n",
       "                                <td id=\"T_bce6637a_5c9b_11ea_af27_701ce71031efrow4_col0\" class=\"data row4 col0\" >service</td>\n",
       "                        <td id=\"T_bce6637a_5c9b_11ea_af27_701ce71031efrow4_col1\" class=\"data row4 col1\" >15630</td>\n",
       "                        <td id=\"T_bce6637a_5c9b_11ea_af27_701ce71031efrow4_col2\" class=\"data row4 col2\" >6500</td>\n",
       "                        <td id=\"T_bce6637a_5c9b_11ea_af27_701ce71031efrow4_col3\" class=\"data row4 col3\" >15000</td>\n",
       "                        <td id=\"T_bce6637a_5c9b_11ea_af27_701ce71031efrow4_col4\" class=\"data row4 col4\" >30000</td>\n",
       "                        <td id=\"T_bce6637a_5c9b_11ea_af27_701ce71031efrow4_col5\" class=\"data row4 col5\" >572</td>\n",
       "                        <td id=\"T_bce6637a_5c9b_11ea_af27_701ce71031efrow4_col6\" class=\"data row4 col6\" >0.56%</td>\n",
       "            </tr>\n",
       "            <tr>\n",
       "                                <td id=\"T_bce6637a_5c9b_11ea_af27_701ce71031efrow5_col0\" class=\"data row5 col0\" >trade</td>\n",
       "                        <td id=\"T_bce6637a_5c9b_11ea_af27_701ce71031efrow5_col1\" class=\"data row5 col1\" >15245</td>\n",
       "                        <td id=\"T_bce6637a_5c9b_11ea_af27_701ce71031efrow5_col2\" class=\"data row5 col2\" >5250</td>\n",
       "                        <td id=\"T_bce6637a_5c9b_11ea_af27_701ce71031efrow5_col3\" class=\"data row5 col3\" >14000</td>\n",
       "                        <td id=\"T_bce6637a_5c9b_11ea_af27_701ce71031efrow5_col4\" class=\"data row5 col4\" >30000</td>\n",
       "                        <td id=\"T_bce6637a_5c9b_11ea_af27_701ce71031efrow5_col5\" class=\"data row5 col5\" >5739</td>\n",
       "                        <td id=\"T_bce6637a_5c9b_11ea_af27_701ce71031efrow5_col6\" class=\"data row5 col6\" >5.66%</td>\n",
       "            </tr>\n",
       "            <tr>\n",
       "                                <td id=\"T_bce6637a_5c9b_11ea_af27_701ce71031efrow6_col0\" class=\"data row6 col0\" >ads</td>\n",
       "                        <td id=\"T_bce6637a_5c9b_11ea_af27_701ce71031efrow6_col1\" class=\"data row6 col1\" >14906</td>\n",
       "                        <td id=\"T_bce6637a_5c9b_11ea_af27_701ce71031efrow6_col2\" class=\"data row6 col2\" >5889</td>\n",
       "                        <td id=\"T_bce6637a_5c9b_11ea_af27_701ce71031efrow6_col3\" class=\"data row6 col3\" >13929</td>\n",
       "                        <td id=\"T_bce6637a_5c9b_11ea_af27_701ce71031efrow6_col4\" class=\"data row6 col4\" >29166</td>\n",
       "                        <td id=\"T_bce6637a_5c9b_11ea_af27_701ce71031efrow6_col5\" class=\"data row6 col5\" >1067</td>\n",
       "                        <td id=\"T_bce6637a_5c9b_11ea_af27_701ce71031efrow6_col6\" class=\"data row6 col6\" >1.05%</td>\n",
       "            </tr>\n",
       "            <tr>\n",
       "                                <td id=\"T_bce6637a_5c9b_11ea_af27_701ce71031efrow7_col0\" class=\"data row7 col0\" >gov</td>\n",
       "                        <td id=\"T_bce6637a_5c9b_11ea_af27_701ce71031efrow7_col1\" class=\"data row7 col1\" >14893</td>\n",
       "                        <td id=\"T_bce6637a_5c9b_11ea_af27_701ce71031efrow7_col2\" class=\"data row7 col2\" >3725</td>\n",
       "                        <td id=\"T_bce6637a_5c9b_11ea_af27_701ce71031efrow7_col3\" class=\"data row7 col3\" >13500</td>\n",
       "                        <td id=\"T_bce6637a_5c9b_11ea_af27_701ce71031efrow7_col4\" class=\"data row7 col4\" >32827</td>\n",
       "                        <td id=\"T_bce6637a_5c9b_11ea_af27_701ce71031efrow7_col5\" class=\"data row7 col5\" >1285</td>\n",
       "                        <td id=\"T_bce6637a_5c9b_11ea_af27_701ce71031efrow7_col6\" class=\"data row7 col6\" >1.27%</td>\n",
       "            </tr>\n",
       "            <tr>\n",
       "                                <td id=\"T_bce6637a_5c9b_11ea_af27_701ce71031efrow8_col0\" class=\"data row8 col0\" >realestate</td>\n",
       "                        <td id=\"T_bce6637a_5c9b_11ea_af27_701ce71031efrow8_col1\" class=\"data row8 col1\" >14851</td>\n",
       "                        <td id=\"T_bce6637a_5c9b_11ea_af27_701ce71031efrow8_col2\" class=\"data row8 col2\" >4712</td>\n",
       "                        <td id=\"T_bce6637a_5c9b_11ea_af27_701ce71031efrow8_col3\" class=\"data row8 col3\" >12500</td>\n",
       "                        <td id=\"T_bce6637a_5c9b_11ea_af27_701ce71031efrow8_col4\" class=\"data row8 col4\" >37188</td>\n",
       "                        <td id=\"T_bce6637a_5c9b_11ea_af27_701ce71031efrow8_col5\" class=\"data row8 col5\" >1385</td>\n",
       "                        <td id=\"T_bce6637a_5c9b_11ea_af27_701ce71031efrow8_col6\" class=\"data row8 col6\" >1.37%</td>\n",
       "            </tr>\n",
       "            <tr>\n",
       "                                <td id=\"T_bce6637a_5c9b_11ea_af27_701ce71031efrow9_col0\" class=\"data row9 col0\" >medical</td>\n",
       "                        <td id=\"T_bce6637a_5c9b_11ea_af27_701ce71031efrow9_col1\" class=\"data row9 col1\" >14777</td>\n",
       "                        <td id=\"T_bce6637a_5c9b_11ea_af27_701ce71031efrow9_col2\" class=\"data row9 col2\" >3750</td>\n",
       "                        <td id=\"T_bce6637a_5c9b_11ea_af27_701ce71031efrow9_col3\" class=\"data row9 col3\" >14000</td>\n",
       "                        <td id=\"T_bce6637a_5c9b_11ea_af27_701ce71031efrow9_col4\" class=\"data row9 col4\" >30000</td>\n",
       "                        <td id=\"T_bce6637a_5c9b_11ea_af27_701ce71031efrow9_col5\" class=\"data row9 col5\" >2197</td>\n",
       "                        <td id=\"T_bce6637a_5c9b_11ea_af27_701ce71031efrow9_col6\" class=\"data row9 col6\" >2.17%</td>\n",
       "            </tr>\n",
       "            <tr>\n",
       "                                <td id=\"T_bce6637a_5c9b_11ea_af27_701ce71031efrow10_col0\" class=\"data row10 col0\" >energy</td>\n",
       "                        <td id=\"T_bce6637a_5c9b_11ea_af27_701ce71031efrow10_col1\" class=\"data row10 col1\" >14624</td>\n",
       "                        <td id=\"T_bce6637a_5c9b_11ea_af27_701ce71031efrow10_col2\" class=\"data row10 col2\" >3750</td>\n",
       "                        <td id=\"T_bce6637a_5c9b_11ea_af27_701ce71031efrow10_col3\" class=\"data row10 col3\" >14722</td>\n",
       "                        <td id=\"T_bce6637a_5c9b_11ea_af27_701ce71031efrow10_col4\" class=\"data row10 col4\" >30000</td>\n",
       "                        <td id=\"T_bce6637a_5c9b_11ea_af27_701ce71031efrow10_col5\" class=\"data row10 col5\" >1052</td>\n",
       "                        <td id=\"T_bce6637a_5c9b_11ea_af27_701ce71031efrow10_col6\" class=\"data row10 col6\" >1.04%</td>\n",
       "            </tr>\n",
       "    </tbody></table>"
      ],
      "text/plain": [
       "<pandas.io.formats.style.Styler at 0x2b18e6f2f08>"
      ]
     },
     "execution_count": 50,
     "metadata": {},
     "output_type": "execute_result"
    }
   ],
   "source": [
    "data_industry=get_sub_stats_by_col(data,'industry')\n",
    "apply_style(data_industry)"
   ]
  },
  {
   "cell_type": "code",
   "execution_count": null,
   "metadata": {},
   "outputs": [],
   "source": []
  },
  {
   "cell_type": "code",
   "execution_count": null,
   "metadata": {},
   "outputs": [],
   "source": []
  }
 ],
 "metadata": {
  "kernelspec": {
   "display_name": "Python 3",
   "language": "python",
   "name": "python3"
  },
  "language_info": {
   "codemirror_mode": {
    "name": "ipython",
    "version": 3
   },
   "file_extension": ".py",
   "mimetype": "text/x-python",
   "name": "python",
   "nbconvert_exporter": "python",
   "pygments_lexer": "ipython3",
   "version": "3.7.4"
  }
 },
 "nbformat": 4,
 "nbformat_minor": 2
}
