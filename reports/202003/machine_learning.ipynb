{
 "cells": [
  {
   "cell_type": "code",
   "execution_count": 2,
   "metadata": {},
   "outputs": [],
   "source": [
    "from config import *"
   ]
  },
  {
   "cell_type": "code",
   "execution_count": 3,
   "metadata": {},
   "outputs": [
    {
     "name": "stdout",
     "output_type": "stream",
     "text": [
      "2020年3月\n"
     ]
    }
   ],
   "source": [
    "print(f'{year}年{month}月')"
   ]
  },
  {
   "cell_type": "markdown",
   "metadata": {},
   "source": []
  },
  {
   "cell_type": "code",
   "execution_count": 4,
   "metadata": {},
   "outputs": [],
   "source": [
    "import pandas as pd\n",
    "import sys\n",
    "sys.path.append('..')\n",
    "sys.path.append('../py')\n",
    "sys.path.append('../../py')\n",
    "import db\n",
    "import inspect\n",
    "import matplotlib.pyplot as plt\n",
    "plt.rcParams['font.sans-serif']=['SimHei'] #用来正常显示中文标签\n",
    "plt.rcParams['axes.unicode_minus']=False #用来正常显示负号\n",
    "import seaborn as sns\n",
    "import scipy.stats as stats\n",
    "import numpy as np\n",
    "import weighted\n",
    "%matplotlib inline"
   ]
  },
  {
   "cell_type": "code",
   "execution_count": 5,
   "metadata": {},
   "outputs": [],
   "source": [
    "conn=db.get_conn()\n",
    "data=pd.read_sql(sql=f\"select * from _{year}{month:02} where monthly_salary>0 and career='机器学习'  and monthly_salary<80000\", con=conn)\n",
    "conn.close()"
   ]
  },
  {
   "cell_type": "code",
   "execution_count": null,
   "metadata": {},
   "outputs": [],
   "source": []
  },
  {
   "cell_type": "code",
   "execution_count": 6,
   "metadata": {},
   "outputs": [],
   "source": [
    "#del data['publish_date']\n",
    "#del data['published_on_weekend']\n",
    "#del data['title']\n",
    "#del data['title']\n",
    "#del data['company_title']\n",
    "#del data['company_description']\n",
    "#del data['job_description']\n",
    "#del data['job_id']"
   ]
  },
  {
   "cell_type": "code",
   "execution_count": 7,
   "metadata": {},
   "outputs": [
    {
     "data": {
      "text/html": [
       "<div>\n",
       "<style scoped>\n",
       "    .dataframe tbody tr th:only-of-type {\n",
       "        vertical-align: middle;\n",
       "    }\n",
       "\n",
       "    .dataframe tbody tr th {\n",
       "        vertical-align: top;\n",
       "    }\n",
       "\n",
       "    .dataframe thead th {\n",
       "        text-align: right;\n",
       "    }\n",
       "</style>\n",
       "<table border=\"1\" class=\"dataframe\">\n",
       "  <thead>\n",
       "    <tr style=\"text-align: right;\">\n",
       "      <th></th>\n",
       "      <th>job_id</th>\n",
       "      <th>monthly_salary</th>\n",
       "      <th>headcount</th>\n",
       "      <th>title</th>\n",
       "      <th>zhinengleibie</th>\n",
       "      <th>career</th>\n",
       "      <th>real_province</th>\n",
       "      <th>province</th>\n",
       "      <th>city</th>\n",
       "      <th>company_description</th>\n",
       "      <th>...</th>\n",
       "      <th>bd_flink</th>\n",
       "      <th>bd_presto</th>\n",
       "      <th>bd_heron</th>\n",
       "      <th>ml_sklearn</th>\n",
       "      <th>ml_mllib</th>\n",
       "      <th>ml_tensorlayer</th>\n",
       "      <th>ml_paddlepaddle</th>\n",
       "      <th>ml_cntk</th>\n",
       "      <th>ml_theano</th>\n",
       "      <th>ml_mahout</th>\n",
       "    </tr>\n",
       "  </thead>\n",
       "  <tbody>\n",
       "    <tr>\n",
       "      <th>431</th>\n",
       "      <td>117502838</td>\n",
       "      <td>10000</td>\n",
       "      <td>50</td>\n",
       "      <td>2020届应届毕业生</td>\n",
       "      <td>深度学习工程师</td>\n",
       "      <td>机器学习</td>\n",
       "      <td>None</td>\n",
       "      <td>广东</td>\n",
       "      <td>深圳</td>\n",
       "      <td>集团简介：豪恩创建于1995年，是一家按照现代化企业管理运作的科技集团型公司。产业涉及汽车电...</td>\n",
       "      <td>...</td>\n",
       "      <td>False</td>\n",
       "      <td>False</td>\n",
       "      <td>False</td>\n",
       "      <td>False</td>\n",
       "      <td>False</td>\n",
       "      <td>False</td>\n",
       "      <td>False</td>\n",
       "      <td>False</td>\n",
       "      <td>False</td>\n",
       "      <td>False</td>\n",
       "    </tr>\n",
       "  </tbody>\n",
       "</table>\n",
       "<p>1 rows × 122 columns</p>\n",
       "</div>"
      ],
      "text/plain": [
       "        job_id  monthly_salary  headcount       title zhinengleibie career  \\\n",
       "431  117502838           10000         50  2020届应届毕业生       深度学习工程师   机器学习   \n",
       "\n",
       "    real_province province city  \\\n",
       "431          None       广东   深圳   \n",
       "\n",
       "                                   company_description  ... bd_flink  \\\n",
       "431  集团简介：豪恩创建于1995年，是一家按照现代化企业管理运作的科技集团型公司。产业涉及汽车电...  ...    False   \n",
       "\n",
       "    bd_presto bd_heron ml_sklearn  ml_mllib  ml_tensorlayer  ml_paddlepaddle  \\\n",
       "431     False    False      False     False           False            False   \n",
       "\n",
       "     ml_cntk  ml_theano  ml_mahout  \n",
       "431    False      False      False  \n",
       "\n",
       "[1 rows x 122 columns]"
      ]
     },
     "execution_count": 7,
     "metadata": {},
     "output_type": "execute_result"
    }
   ],
   "source": [
    "data=data.sort_values(by='headcount', ascending=False)\n",
    "data.head(1)"
   ]
  },
  {
   "cell_type": "code",
   "execution_count": 8,
   "metadata": {},
   "outputs": [],
   "source": [
    "def pd_weighted_mean(group, avg_name, weight_name):\n",
    "    \"\"\" http://stackoverflow.com/questions/10951341/pandas-dataframe-aggregate-function-using-multiple-columns\n",
    "    In rare instance, we may not have weights, so just return the mean. Customize this if your business case\n",
    "    should return otherwise.\n",
    "    \"\"\"\n",
    "    d = group[avg_name]\n",
    "    w = group[weight_name]\n",
    "    try:\n",
    "        return (d * w).sum() / w.sum()\n",
    "    except ZeroDivisionError:\n",
    "        return d.mean()\n"
   ]
  },
  {
   "cell_type": "markdown",
   "metadata": {},
   "source": [
    "# Unilateral Stats 总体统计"
   ]
  },
  {
   "cell_type": "markdown",
   "metadata": {},
   "source": [
    "有数据可知，程序员向一线城市集中的趋势非常明显。\n",
    "\n",
    "According to the statistics, significant amount of developers are in the first tier cities."
   ]
  },
  {
   "cell_type": "code",
   "execution_count": 9,
   "metadata": {},
   "outputs": [
    {
     "data": {
      "text/plain": [
       "(873, 122)"
      ]
     },
     "execution_count": 9,
     "metadata": {},
     "output_type": "execute_result"
    }
   ],
   "source": [
    "data.shape"
   ]
  },
  {
   "cell_type": "code",
   "execution_count": 10,
   "metadata": {},
   "outputs": [
    {
     "data": {
      "text/plain": [
       "2790"
      ]
     },
     "execution_count": 10,
     "metadata": {},
     "output_type": "execute_result"
    }
   ],
   "source": [
    "data.headcount.sum()"
   ]
  },
  {
   "cell_type": "code",
   "execution_count": 11,
   "metadata": {},
   "outputs": [
    {
     "data": {
      "text/plain": [
       "array([ 5250., 12500., 20833., 30000., 50000.])"
      ]
     },
     "execution_count": 11,
     "metadata": {},
     "output_type": "execute_result"
    }
   ],
   "source": [
    "salary_mean=weighted.weighted_mean(data.monthly_salary.values, data.headcount.values)\n",
    "q=weighted.weighted_quantile(data.monthly_salary.values,[0.025,0.25,0.5,0.75,0.975], data.headcount.values)\n",
    "q"
   ]
  },
  {
   "cell_type": "code",
   "execution_count": 12,
   "metadata": {},
   "outputs": [
    {
     "name": "stdout",
     "output_type": "stream",
     "text": [
      "2020年3月中国机器学习工程师的平均工资为22609元，工资中位数为20833元，其中95%的人的工资位于5250到50000元之间。\n"
     ]
    }
   ],
   "source": [
    "print(f'{year}年{month}月中国机器学习工程师的平均工资为{salary_mean:.0f}元，工资中位数为{q[2]:.0f}元，其中95%的人的工资位于{q[0]:.0f}到{q[4]:.0f}元之间。')"
   ]
  },
  {
   "cell_type": "code",
   "execution_count": 13,
   "metadata": {},
   "outputs": [
    {
     "name": "stdout",
     "output_type": "stream",
     "text": [
      "In 2020, Developers in China earn 22609 Yuan as average, the median is 20833 Yuan, 95% of them earn between 5250 and 50000 Yuan.\n"
     ]
    }
   ],
   "source": [
    "print(f'In {year}, Developers in China earn {salary_mean:.0f} Yuan as average, '\n",
    "      f'the median is {q[2]:.0f} Yuan, 95% of them earn between {q[0]:.0f} and {q[4]:.0f} Yuan.')"
   ]
  },
  {
   "cell_type": "code",
   "execution_count": 14,
   "metadata": {},
   "outputs": [
    {
     "data": {
      "image/png": "[encoded data removed]",
      "text/plain": [
       "<Figure size 432x288 with 1 Axes>"
      ]
     },
     "metadata": {
      "needs_background": "light"
     },
     "output_type": "display_data"
    }
   ],
   "source": [
    "data.monthly_salary.hist()\n",
    "plt.show()"
   ]
  },
  {
   "cell_type": "markdown",
   "metadata": {},
   "source": [
    "It does not look like normal distribution."
   ]
  },
  {
   "cell_type": "code",
   "execution_count": 15,
   "metadata": {},
   "outputs": [],
   "source": [
    "from scipy import stats"
   ]
  },
  {
   "cell_type": "markdown",
   "metadata": {},
   "source": [
    "## Role 角色"
   ]
  },
  {
   "cell_type": "code",
   "execution_count": 16,
   "metadata": {},
   "outputs": [],
   "source": [
    "#Common Functions\n",
    "def get_sub_stats_by_col(data, col):\n",
    "    categories=data[col].unique()\n",
    "    salary_mean=[]\n",
    "    salary_95_min=[]\n",
    "    salary_95_max=[]\n",
    "    salary_median=[]\n",
    "    \n",
    "\n",
    "    count=[]\n",
    "    \n",
    "    categorys_out=[]\n",
    "    for category in categories:\n",
    "        #print(feature)\n",
    "        idata=data[data[col]==category]\n",
    "        headcount=idata.headcount.sum()\n",
    "        values = idata.monthly_salary.values\n",
    "        weights = idata.headcount.values\n",
    "        #print(str(headcount))\n",
    "        if headcount==0:\n",
    "            continue\n",
    "        \n",
    "        salary_mean.append(np.average(values, weights=weights))\n",
    "        \n",
    "\n",
    "        q = weighted.weighted_quantile(values,[0.025,0.5,0.975],weights)\n",
    "        salary_95_min.append(q[0])\n",
    "        salary_median.append(q[1])\n",
    "        salary_95_max.append(q[2])\n",
    "        count.append(idata.headcount.sum())\n",
    "        categorys_out.append(category)\n",
    "    sub_data=pd.DataFrame()\n",
    "    sub_data[col]=[c for c in categorys_out]\n",
    "    sub_data['salary_mean']=salary_mean\n",
    "    sub_data['salary_95_min']=salary_95_min\n",
    "    sub_data['salary_median']=salary_median\n",
    "    sub_data['salary_95_max']=salary_95_max\n",
    "    sub_data['head_count']=count\n",
    "    sub_data['percentage']=count/np.sum(count)\n",
    "    sub_data=sub_data.sort_values(by='salary_mean', ascending=False)\n",
    "\n",
    "    return sub_data\n",
    "\n",
    "def get_sub_stats_by_prefix(data, prefix):\n",
    "    \n",
    "    features = [feature for feature in data.columns if feature.startswith(prefix)]\n",
    "    salary_mean=[]\n",
    "    salary_median=[]\n",
    "    salary_95_min=[]\n",
    "    salary_95_max=[]\n",
    "    count=[]\n",
    "    \n",
    "    features_out=[]\n",
    "    for feature in features:\n",
    "        #print(feature)\n",
    "        idata=data[data[feature]==1]\n",
    "        headcount=idata.headcount.sum()\n",
    "        values = idata.monthly_salary.values\n",
    "        weights = idata.headcount.values\n",
    "        #print(str(headcount))\n",
    "        if headcount==0:\n",
    "            continue\n",
    "        \n",
    "        salary_mean.append(weighted.weighted_mean(values, weights))\n",
    "        q = weighted.weighted_quantile(values,[0.025,0.5,0.975],weights)\n",
    "        salary_median.append(q[1])\n",
    "        salary_95_min.append(q[0])\n",
    "        salary_95_max.append(q[2])\n",
    "        count.append(idata.headcount.sum())\n",
    "        features_out.append(feature)\n",
    "    sub_data=pd.DataFrame()\n",
    "    sub_data['rank']=range(0,len(features_out))\n",
    "    sub_data[prefix]=[f.replace(prefix,'') for f in features_out]\n",
    "    sub_data['salary_mean']=salary_mean\n",
    "    sub_data['salary_median']=salary_median\n",
    "    sub_data['salary_95_min']=salary_95_min\n",
    "    sub_data['salary_95_max']=salary_95_max\n",
    "    sub_data['head_count']=count\n",
    "    sub_data['percentage']=count/np.sum(count)\n",
    "    sub_data=sub_data.sort_values(by='salary_mean', ascending=False)\n",
    "    sub_data['rank']=range(1,len(features_out)+1)\n",
    "    #sub_data=sub_data.reset_index()\n",
    "    return sub_data\n",
    "\n",
    "def apply_style(sub_data):\n",
    "    return sub_data.style.hide_index().format(\n",
    "    {\"salary_mean\":\"{:.0f}\",\"salary_median\":\"{:.0f}\",\"salary_95_min\":\"{:.0f}\",\"salary_95_max\":\"{:.0f}\",\"percentage\":\"{:.2%}\"})"
   ]
  },
  {
   "cell_type": "code",
   "execution_count": 17,
   "metadata": {},
   "outputs": [
    {
     "data": {
      "text/html": [
       "<style  type=\"text/css\" >\n",
       "</style><table id=\"T_84d69c46_5d5f_11ea_8f41_701ce71031ef\" ><thead>    <tr>        <th class=\"blank level0\" ></th>        <th class=\"col_heading level0 col0\" >career</th>        <th class=\"col_heading level0 col1\" >salary_mean</th>        <th class=\"col_heading level0 col2\" >salary_95_min</th>        <th class=\"col_heading level0 col3\" >salary_median</th>        <th class=\"col_heading level0 col4\" >salary_95_max</th>        <th class=\"col_heading level0 col5\" >head_count</th>        <th class=\"col_heading level0 col6\" >percentage</th>    </tr></thead><tbody>\n",
       "                <tr>\n",
       "                        <th id=\"T_84d69c46_5d5f_11ea_8f41_701ce71031eflevel0_row0\" class=\"row_heading level0 row0\" >0</th>\n",
       "                        <td id=\"T_84d69c46_5d5f_11ea_8f41_701ce71031efrow0_col0\" class=\"data row0 col0\" >机器学习</td>\n",
       "                        <td id=\"T_84d69c46_5d5f_11ea_8f41_701ce71031efrow0_col1\" class=\"data row0 col1\" >22609</td>\n",
       "                        <td id=\"T_84d69c46_5d5f_11ea_8f41_701ce71031efrow0_col2\" class=\"data row0 col2\" >5250.000000</td>\n",
       "                        <td id=\"T_84d69c46_5d5f_11ea_8f41_701ce71031efrow0_col3\" class=\"data row0 col3\" >20833</td>\n",
       "                        <td id=\"T_84d69c46_5d5f_11ea_8f41_701ce71031efrow0_col4\" class=\"data row0 col4\" >50000.000000</td>\n",
       "                        <td id=\"T_84d69c46_5d5f_11ea_8f41_701ce71031efrow0_col5\" class=\"data row0 col5\" >2790</td>\n",
       "                        <td id=\"T_84d69c46_5d5f_11ea_8f41_701ce71031efrow0_col6\" class=\"data row0 col6\" >100.00%</td>\n",
       "            </tr>\n",
       "    </tbody></table>"
      ],
      "text/plain": [
       "<pandas.io.formats.style.Styler at 0x1ebcc46f608>"
      ]
     },
     "execution_count": 17,
     "metadata": {},
     "output_type": "execute_result"
    }
   ],
   "source": [
    "data_career = get_sub_stats_by_col(data,'career')\n",
    "data_career.style.format({\"salary_mean\":\"{:.0f}\",\"salary_median\":\"{:.0f}\",\"percentage\":\"{:.2%}\"})"
   ]
  },
  {
   "cell_type": "code",
   "execution_count": 18,
   "metadata": {},
   "outputs": [
    {
     "data": {
      "text/plain": [
       "22608.586738351256"
      ]
     },
     "execution_count": 18,
     "metadata": {},
     "output_type": "execute_result"
    }
   ],
   "source": [
    "np.sum(data.monthly_salary * data.headcount) / data.headcount.sum()"
   ]
  },
  {
   "cell_type": "code",
   "execution_count": 19,
   "metadata": {},
   "outputs": [
    {
     "data": {
      "text/plain": [
       "2790"
      ]
     },
     "execution_count": 19,
     "metadata": {},
     "output_type": "execute_result"
    }
   ],
   "source": [
    "data.headcount.sum()"
   ]
  },
  {
   "cell_type": "code",
   "execution_count": 20,
   "metadata": {},
   "outputs": [
    {
     "data": {
      "text/plain": [
       "count    873.000000\n",
       "mean       3.195876\n",
       "std        3.420376\n",
       "min        1.000000\n",
       "25%        1.000000\n",
       "50%        2.000000\n",
       "75%        5.000000\n",
       "max       50.000000\n",
       "Name: headcount, dtype: float64"
      ]
     },
     "execution_count": 20,
     "metadata": {},
     "output_type": "execute_result"
    }
   ],
   "source": [
    "data.headcount.describe()"
   ]
  },
  {
   "cell_type": "code",
   "execution_count": 21,
   "metadata": {},
   "outputs": [],
   "source": [
    "pd.options.display.max_columns=100\n"
   ]
  },
  {
   "cell_type": "markdown",
   "metadata": {},
   "source": []
  },
  {
   "cell_type": "code",
   "execution_count": 279,
   "metadata": {},
   "outputs": [
    {
     "data": {
      "text/plain": [
       "2790"
      ]
     },
     "execution_count": 279,
     "metadata": {},
     "output_type": "execute_result"
    }
   ],
   "source": [
    "data.headcount.sum()"
   ]
  },
  {
   "cell_type": "markdown",
   "metadata": {},
   "source": [
    "# 城市"
   ]
  },
  {
   "cell_type": "code",
   "execution_count": 286,
   "metadata": {},
   "outputs": [
    {
     "data": {
      "text/html": [
       "<style  type=\"text/css\" >\n",
       "</style><table id=\"T_6336941c_5cc0_11ea_a4b6_701ce71031ef\" ><thead>    <tr>        <th class=\"col_heading level0 col0\" >city</th>        <th class=\"col_heading level0 col1\" >salary_mean</th>        <th class=\"col_heading level0 col2\" >salary_95_min</th>        <th class=\"col_heading level0 col3\" >salary_median</th>        <th class=\"col_heading level0 col4\" >salary_95_max</th>        <th class=\"col_heading level0 col5\" >head_count</th>        <th class=\"col_heading level0 col6\" >percentage</th>    </tr></thead><tbody>\n",
       "                <tr>\n",
       "                                <td id=\"T_6336941c_5cc0_11ea_a4b6_701ce71031efrow0_col0\" class=\"data row0 col0\" >上海</td>\n",
       "                        <td id=\"T_6336941c_5cc0_11ea_a4b6_701ce71031efrow0_col1\" class=\"data row0 col1\" >27560</td>\n",
       "                        <td id=\"T_6336941c_5cc0_11ea_a4b6_701ce71031efrow0_col2\" class=\"data row0 col2\" >7000</td>\n",
       "                        <td id=\"T_6336941c_5cc0_11ea_a4b6_701ce71031efrow0_col3\" class=\"data row0 col3\" >27500</td>\n",
       "                        <td id=\"T_6336941c_5cc0_11ea_a4b6_701ce71031efrow0_col4\" class=\"data row0 col4\" >62212</td>\n",
       "                        <td id=\"T_6336941c_5cc0_11ea_a4b6_701ce71031efrow0_col5\" class=\"data row0 col5\" >603</td>\n",
       "                        <td id=\"T_6336941c_5cc0_11ea_a4b6_701ce71031efrow0_col6\" class=\"data row0 col6\" >21.61%</td>\n",
       "            </tr>\n",
       "            <tr>\n",
       "                                <td id=\"T_6336941c_5cc0_11ea_a4b6_701ce71031efrow1_col0\" class=\"data row1 col0\" >北京</td>\n",
       "                        <td id=\"T_6336941c_5cc0_11ea_a4b6_701ce71031efrow1_col1\" class=\"data row1 col1\" >25948</td>\n",
       "                        <td id=\"T_6336941c_5cc0_11ea_a4b6_701ce71031efrow1_col2\" class=\"data row1 col2\" >7000</td>\n",
       "                        <td id=\"T_6336941c_5cc0_11ea_a4b6_701ce71031efrow1_col3\" class=\"data row1 col3\" >25000</td>\n",
       "                        <td id=\"T_6336941c_5cc0_11ea_a4b6_701ce71031efrow1_col4\" class=\"data row1 col4\" >48021</td>\n",
       "                        <td id=\"T_6336941c_5cc0_11ea_a4b6_701ce71031efrow1_col5\" class=\"data row1 col5\" >555</td>\n",
       "                        <td id=\"T_6336941c_5cc0_11ea_a4b6_701ce71031efrow1_col6\" class=\"data row1 col6\" >19.89%</td>\n",
       "            </tr>\n",
       "            <tr>\n",
       "                                <td id=\"T_6336941c_5cc0_11ea_a4b6_701ce71031efrow2_col0\" class=\"data row2 col0\" >杭州</td>\n",
       "                        <td id=\"T_6336941c_5cc0_11ea_a4b6_701ce71031efrow2_col1\" class=\"data row2 col1\" >24498</td>\n",
       "                        <td id=\"T_6336941c_5cc0_11ea_a4b6_701ce71031efrow2_col2\" class=\"data row2 col2\" >3750</td>\n",
       "                        <td id=\"T_6336941c_5cc0_11ea_a4b6_701ce71031efrow2_col3\" class=\"data row2 col3\" >22500</td>\n",
       "                        <td id=\"T_6336941c_5cc0_11ea_a4b6_701ce71031efrow2_col4\" class=\"data row2 col4\" >54375</td>\n",
       "                        <td id=\"T_6336941c_5cc0_11ea_a4b6_701ce71031efrow2_col5\" class=\"data row2 col5\" >120</td>\n",
       "                        <td id=\"T_6336941c_5cc0_11ea_a4b6_701ce71031efrow2_col6\" class=\"data row2 col6\" >4.30%</td>\n",
       "            </tr>\n",
       "            <tr>\n",
       "                                <td id=\"T_6336941c_5cc0_11ea_a4b6_701ce71031efrow3_col0\" class=\"data row3 col0\" >深圳</td>\n",
       "                        <td id=\"T_6336941c_5cc0_11ea_a4b6_701ce71031efrow3_col1\" class=\"data row3 col1\" >23913</td>\n",
       "                        <td id=\"T_6336941c_5cc0_11ea_a4b6_701ce71031efrow3_col2\" class=\"data row3 col2\" >5011</td>\n",
       "                        <td id=\"T_6336941c_5cc0_11ea_a4b6_701ce71031efrow3_col3\" class=\"data row3 col3\" >22500</td>\n",
       "                        <td id=\"T_6336941c_5cc0_11ea_a4b6_701ce71031efrow3_col4\" class=\"data row3 col4\" >55106</td>\n",
       "                        <td id=\"T_6336941c_5cc0_11ea_a4b6_701ce71031efrow3_col5\" class=\"data row3 col5\" >413</td>\n",
       "                        <td id=\"T_6336941c_5cc0_11ea_a4b6_701ce71031efrow3_col6\" class=\"data row3 col6\" >14.80%</td>\n",
       "            </tr>\n",
       "            <tr>\n",
       "                                <td id=\"T_6336941c_5cc0_11ea_a4b6_701ce71031efrow4_col0\" class=\"data row4 col0\" >广州</td>\n",
       "                        <td id=\"T_6336941c_5cc0_11ea_a4b6_701ce71031efrow4_col1\" class=\"data row4 col1\" >21624</td>\n",
       "                        <td id=\"T_6336941c_5cc0_11ea_a4b6_701ce71031efrow4_col2\" class=\"data row4 col2\" >11000</td>\n",
       "                        <td id=\"T_6336941c_5cc0_11ea_a4b6_701ce71031efrow4_col3\" class=\"data row4 col3\" >19750</td>\n",
       "                        <td id=\"T_6336941c_5cc0_11ea_a4b6_701ce71031efrow4_col4\" class=\"data row4 col4\" >41967</td>\n",
       "                        <td id=\"T_6336941c_5cc0_11ea_a4b6_701ce71031efrow4_col5\" class=\"data row4 col5\" >322</td>\n",
       "                        <td id=\"T_6336941c_5cc0_11ea_a4b6_701ce71031efrow4_col6\" class=\"data row4 col6\" >11.54%</td>\n",
       "            </tr>\n",
       "            <tr>\n",
       "                                <td id=\"T_6336941c_5cc0_11ea_a4b6_701ce71031efrow5_col0\" class=\"data row5 col0\" >南京</td>\n",
       "                        <td id=\"T_6336941c_5cc0_11ea_a4b6_701ce71031efrow5_col1\" class=\"data row5 col1\" >20411</td>\n",
       "                        <td id=\"T_6336941c_5cc0_11ea_a4b6_701ce71031efrow5_col2\" class=\"data row5 col2\" >8210</td>\n",
       "                        <td id=\"T_6336941c_5cc0_11ea_a4b6_701ce71031efrow5_col3\" class=\"data row5 col3\" >20000</td>\n",
       "                        <td id=\"T_6336941c_5cc0_11ea_a4b6_701ce71031efrow5_col4\" class=\"data row5 col4\" >38850</td>\n",
       "                        <td id=\"T_6336941c_5cc0_11ea_a4b6_701ce71031efrow5_col5\" class=\"data row5 col5\" >142</td>\n",
       "                        <td id=\"T_6336941c_5cc0_11ea_a4b6_701ce71031efrow5_col6\" class=\"data row5 col6\" >5.09%</td>\n",
       "            </tr>\n",
       "            <tr>\n",
       "                                <td id=\"T_6336941c_5cc0_11ea_a4b6_701ce71031efrow6_col0\" class=\"data row6 col0\" >成都</td>\n",
       "                        <td id=\"T_6336941c_5cc0_11ea_a4b6_701ce71031efrow6_col1\" class=\"data row6 col1\" >16860</td>\n",
       "                        <td id=\"T_6336941c_5cc0_11ea_a4b6_701ce71031efrow6_col2\" class=\"data row6 col2\" >5267</td>\n",
       "                        <td id=\"T_6336941c_5cc0_11ea_a4b6_701ce71031efrow6_col3\" class=\"data row6 col3\" >14167</td>\n",
       "                        <td id=\"T_6336941c_5cc0_11ea_a4b6_701ce71031efrow6_col4\" class=\"data row6 col4\" >34917</td>\n",
       "                        <td id=\"T_6336941c_5cc0_11ea_a4b6_701ce71031efrow6_col5\" class=\"data row6 col5\" >108</td>\n",
       "                        <td id=\"T_6336941c_5cc0_11ea_a4b6_701ce71031efrow6_col6\" class=\"data row6 col6\" >3.87%</td>\n",
       "            </tr>\n",
       "    </tbody></table>"
      ],
      "text/plain": [
       "<pandas.io.formats.style.Styler at 0x19230442088>"
      ]
     },
     "execution_count": 286,
     "metadata": {},
     "output_type": "execute_result"
    }
   ],
   "source": [
    "data_pl=get_sub_stats_by_col(data,'city')\n",
    "data_pl=data_pl[data_pl['head_count']>100]\n",
    "apply_style(data_pl)"
   ]
  },
  {
   "cell_type": "code",
   "execution_count": 287,
   "metadata": {},
   "outputs": [
    {
     "data": {
      "text/plain": [
       "0.18888888888888888"
      ]
     },
     "execution_count": 287,
     "metadata": {},
     "output_type": "execute_result"
    }
   ],
   "source": [
    "other=1-data_pl['percentage'].sum()\n",
    "other"
   ]
  },
  {
   "cell_type": "code",
   "execution_count": 288,
   "metadata": {},
   "outputs": [],
   "source": [
    "head_counts=list(data_pl['percentage'].values)\n",
    "head_counts.append(other)\n",
    "head_counts\n",
    "\n",
    "labels=list(data_pl['city'].values)\n",
    "labels.append('其他')"
   ]
  },
  {
   "cell_type": "code",
   "execution_count": 289,
   "metadata": {},
   "outputs": [
    {
     "data": {
      "image/png": "[encoded data removed]",
      "text/plain": [
       "<Figure size 720x576 with 1 Axes>"
      ]
     },
     "metadata": {},
     "output_type": "display_data"
    }
   ],
   "source": [
    "\n",
    "plt.figure(figsize=(10,8))\n",
    "plt.pie(head_counts, labels=labels, autopct='%1.1f%%')\n",
    "plt.title(f'算法工程师去哪里')\n",
    "plt.show()"
   ]
  },
  {
   "cell_type": "markdown",
   "metadata": {},
   "source": [
    "# 编程语言"
   ]
  },
  {
   "cell_type": "code",
   "execution_count": 299,
   "metadata": {
    "scrolled": true
   },
   "outputs": [
    {
     "data": {
      "text/html": [
       "<style  type=\"text/css\" >\n",
       "</style><table id=\"T_a189f96e_5cc0_11ea_8a63_701ce71031ef\" ><thead>    <tr>        <th class=\"col_heading level0 col0\" >rank</th>        <th class=\"col_heading level0 col1\" >pl_</th>        <th class=\"col_heading level0 col2\" >salary_mean</th>        <th class=\"col_heading level0 col3\" >salary_median</th>        <th class=\"col_heading level0 col4\" >salary_95_min</th>        <th class=\"col_heading level0 col5\" >salary_95_max</th>        <th class=\"col_heading level0 col6\" >head_count</th>        <th class=\"col_heading level0 col7\" >percentage</th>    </tr></thead><tbody>\n",
       "                <tr>\n",
       "                                <td id=\"T_a189f96e_5cc0_11ea_8a63_701ce71031efrow0_col0\" class=\"data row0 col0\" >1</td>\n",
       "                        <td id=\"T_a189f96e_5cc0_11ea_8a63_701ce71031efrow0_col1\" class=\"data row0 col1\" >go</td>\n",
       "                        <td id=\"T_a189f96e_5cc0_11ea_8a63_701ce71031efrow0_col2\" class=\"data row0 col2\" >28429</td>\n",
       "                        <td id=\"T_a189f96e_5cc0_11ea_8a63_701ce71031efrow0_col3\" class=\"data row0 col3\" >29154</td>\n",
       "                        <td id=\"T_a189f96e_5cc0_11ea_8a63_701ce71031efrow0_col4\" class=\"data row0 col4\" >6311</td>\n",
       "                        <td id=\"T_a189f96e_5cc0_11ea_8a63_701ce71031efrow0_col5\" class=\"data row0 col5\" >55639</td>\n",
       "                        <td id=\"T_a189f96e_5cc0_11ea_8a63_701ce71031efrow0_col6\" class=\"data row0 col6\" >197</td>\n",
       "                        <td id=\"T_a189f96e_5cc0_11ea_8a63_701ce71031efrow0_col7\" class=\"data row0 col7\" >3.81%</td>\n",
       "            </tr>\n",
       "            <tr>\n",
       "                                <td id=\"T_a189f96e_5cc0_11ea_8a63_701ce71031efrow1_col0\" class=\"data row1 col0\" >2</td>\n",
       "                        <td id=\"T_a189f96e_5cc0_11ea_8a63_701ce71031efrow1_col1\" class=\"data row1 col1\" >r</td>\n",
       "                        <td id=\"T_a189f96e_5cc0_11ea_8a63_701ce71031efrow1_col2\" class=\"data row1 col2\" >27837</td>\n",
       "                        <td id=\"T_a189f96e_5cc0_11ea_8a63_701ce71031efrow1_col3\" class=\"data row1 col3\" >27500</td>\n",
       "                        <td id=\"T_a189f96e_5cc0_11ea_8a63_701ce71031efrow1_col4\" class=\"data row1 col4\" >9950</td>\n",
       "                        <td id=\"T_a189f96e_5cc0_11ea_8a63_701ce71031efrow1_col5\" class=\"data row1 col5\" >58333</td>\n",
       "                        <td id=\"T_a189f96e_5cc0_11ea_8a63_701ce71031efrow1_col6\" class=\"data row1 col6\" >176</td>\n",
       "                        <td id=\"T_a189f96e_5cc0_11ea_8a63_701ce71031efrow1_col7\" class=\"data row1 col7\" >3.41%</td>\n",
       "            </tr>\n",
       "            <tr>\n",
       "                                <td id=\"T_a189f96e_5cc0_11ea_8a63_701ce71031efrow2_col0\" class=\"data row2 col0\" >4</td>\n",
       "                        <td id=\"T_a189f96e_5cc0_11ea_8a63_701ce71031efrow2_col1\" class=\"data row2 col1\" >scala</td>\n",
       "                        <td id=\"T_a189f96e_5cc0_11ea_8a63_701ce71031efrow2_col2\" class=\"data row2 col2\" >26795</td>\n",
       "                        <td id=\"T_a189f96e_5cc0_11ea_8a63_701ce71031efrow2_col3\" class=\"data row2 col3\" >27500</td>\n",
       "                        <td id=\"T_a189f96e_5cc0_11ea_8a63_701ce71031efrow2_col4\" class=\"data row2 col4\" >7500</td>\n",
       "                        <td id=\"T_a189f96e_5cc0_11ea_8a63_701ce71031efrow2_col5\" class=\"data row2 col5\" >50000</td>\n",
       "                        <td id=\"T_a189f96e_5cc0_11ea_8a63_701ce71031efrow2_col6\" class=\"data row2 col6\" >82</td>\n",
       "                        <td id=\"T_a189f96e_5cc0_11ea_8a63_701ce71031efrow2_col7\" class=\"data row2 col7\" >1.59%</td>\n",
       "            </tr>\n",
       "            <tr>\n",
       "                                <td id=\"T_a189f96e_5cc0_11ea_8a63_701ce71031efrow3_col0\" class=\"data row3 col0\" >6</td>\n",
       "                        <td id=\"T_a189f96e_5cc0_11ea_8a63_701ce71031efrow3_col1\" class=\"data row3 col1\" >matlab</td>\n",
       "                        <td id=\"T_a189f96e_5cc0_11ea_8a63_701ce71031efrow3_col2\" class=\"data row3 col2\" >24239</td>\n",
       "                        <td id=\"T_a189f96e_5cc0_11ea_8a63_701ce71031efrow3_col3\" class=\"data row3 col3\" >22500</td>\n",
       "                        <td id=\"T_a189f96e_5cc0_11ea_8a63_701ce71031efrow3_col4\" class=\"data row3 col4\" >3750</td>\n",
       "                        <td id=\"T_a189f96e_5cc0_11ea_8a63_701ce71031efrow3_col5\" class=\"data row3 col5\" >60722</td>\n",
       "                        <td id=\"T_a189f96e_5cc0_11ea_8a63_701ce71031efrow3_col6\" class=\"data row3 col6\" >228</td>\n",
       "                        <td id=\"T_a189f96e_5cc0_11ea_8a63_701ce71031efrow3_col7\" class=\"data row3 col7\" >4.41%</td>\n",
       "            </tr>\n",
       "            <tr>\n",
       "                                <td id=\"T_a189f96e_5cc0_11ea_8a63_701ce71031efrow4_col0\" class=\"data row4 col0\" >7</td>\n",
       "                        <td id=\"T_a189f96e_5cc0_11ea_8a63_701ce71031efrow4_col1\" class=\"data row4 col1\" >cpp</td>\n",
       "                        <td id=\"T_a189f96e_5cc0_11ea_8a63_701ce71031efrow4_col2\" class=\"data row4 col2\" >23474</td>\n",
       "                        <td id=\"T_a189f96e_5cc0_11ea_8a63_701ce71031efrow4_col3\" class=\"data row4 col3\" >20833</td>\n",
       "                        <td id=\"T_a189f96e_5cc0_11ea_8a63_701ce71031efrow4_col4\" class=\"data row4 col4\" >5250</td>\n",
       "                        <td id=\"T_a189f96e_5cc0_11ea_8a63_701ce71031efrow4_col5\" class=\"data row4 col5\" >58333</td>\n",
       "                        <td id=\"T_a189f96e_5cc0_11ea_8a63_701ce71031efrow4_col6\" class=\"data row4 col6\" >1548</td>\n",
       "                        <td id=\"T_a189f96e_5cc0_11ea_8a63_701ce71031efrow4_col7\" class=\"data row4 col7\" >29.95%</td>\n",
       "            </tr>\n",
       "            <tr>\n",
       "                                <td id=\"T_a189f96e_5cc0_11ea_8a63_701ce71031efrow5_col0\" class=\"data row5 col0\" >8</td>\n",
       "                        <td id=\"T_a189f96e_5cc0_11ea_8a63_701ce71031efrow5_col1\" class=\"data row5 col1\" >python</td>\n",
       "                        <td id=\"T_a189f96e_5cc0_11ea_8a63_701ce71031efrow5_col2\" class=\"data row5 col2\" >23377</td>\n",
       "                        <td id=\"T_a189f96e_5cc0_11ea_8a63_701ce71031efrow5_col3\" class=\"data row5 col3\" >22500</td>\n",
       "                        <td id=\"T_a189f96e_5cc0_11ea_8a63_701ce71031efrow5_col4\" class=\"data row5 col4\" >5250</td>\n",
       "                        <td id=\"T_a189f96e_5cc0_11ea_8a63_701ce71031efrow5_col5\" class=\"data row5 col5\" >58333</td>\n",
       "                        <td id=\"T_a189f96e_5cc0_11ea_8a63_701ce71031efrow5_col6\" class=\"data row5 col6\" >1827</td>\n",
       "                        <td id=\"T_a189f96e_5cc0_11ea_8a63_701ce71031efrow5_col7\" class=\"data row5 col7\" >35.35%</td>\n",
       "            </tr>\n",
       "            <tr>\n",
       "                                <td id=\"T_a189f96e_5cc0_11ea_8a63_701ce71031efrow6_col0\" class=\"data row6 col0\" >10</td>\n",
       "                        <td id=\"T_a189f96e_5cc0_11ea_8a63_701ce71031efrow6_col1\" class=\"data row6 col1\" >java</td>\n",
       "                        <td id=\"T_a189f96e_5cc0_11ea_8a63_701ce71031efrow6_col2\" class=\"data row6 col2\" >21561</td>\n",
       "                        <td id=\"T_a189f96e_5cc0_11ea_8a63_701ce71031efrow6_col3\" class=\"data row6 col3\" >20000</td>\n",
       "                        <td id=\"T_a189f96e_5cc0_11ea_8a63_701ce71031efrow6_col4\" class=\"data row6 col4\" >3803</td>\n",
       "                        <td id=\"T_a189f96e_5cc0_11ea_8a63_701ce71031efrow6_col5\" class=\"data row6 col5\" >47333</td>\n",
       "                        <td id=\"T_a189f96e_5cc0_11ea_8a63_701ce71031efrow6_col6\" class=\"data row6 col6\" >812</td>\n",
       "                        <td id=\"T_a189f96e_5cc0_11ea_8a63_701ce71031efrow6_col7\" class=\"data row6 col7\" >15.71%</td>\n",
       "            </tr>\n",
       "            <tr>\n",
       "                                <td id=\"T_a189f96e_5cc0_11ea_8a63_701ce71031efrow7_col0\" class=\"data row7 col0\" >13</td>\n",
       "                        <td id=\"T_a189f96e_5cc0_11ea_8a63_701ce71031efrow7_col1\" class=\"data row7 col1\" >php</td>\n",
       "                        <td id=\"T_a189f96e_5cc0_11ea_8a63_701ce71031efrow7_col2\" class=\"data row7 col2\" >14988</td>\n",
       "                        <td id=\"T_a189f96e_5cc0_11ea_8a63_701ce71031efrow7_col3\" class=\"data row7 col3\" >8412</td>\n",
       "                        <td id=\"T_a189f96e_5cc0_11ea_8a63_701ce71031efrow7_col4\" class=\"data row7 col4\" >5250</td>\n",
       "                        <td id=\"T_a189f96e_5cc0_11ea_8a63_701ce71031efrow7_col5\" class=\"data row7 col5\" >41161</td>\n",
       "                        <td id=\"T_a189f96e_5cc0_11ea_8a63_701ce71031efrow7_col6\" class=\"data row7 col6\" >83</td>\n",
       "                        <td id=\"T_a189f96e_5cc0_11ea_8a63_701ce71031efrow7_col7\" class=\"data row7 col7\" >1.61%</td>\n",
       "            </tr>\n",
       "            <tr>\n",
       "                                <td id=\"T_a189f96e_5cc0_11ea_8a63_701ce71031efrow8_col0\" class=\"data row8 col0\" >14</td>\n",
       "                        <td id=\"T_a189f96e_5cc0_11ea_8a63_701ce71031efrow8_col1\" class=\"data row8 col1\" >c_sharp</td>\n",
       "                        <td id=\"T_a189f96e_5cc0_11ea_8a63_701ce71031efrow8_col2\" class=\"data row8 col2\" >10850</td>\n",
       "                        <td id=\"T_a189f96e_5cc0_11ea_8a63_701ce71031efrow8_col3\" class=\"data row8 col3\" >8267</td>\n",
       "                        <td id=\"T_a189f96e_5cc0_11ea_8a63_701ce71031efrow8_col4\" class=\"data row8 col4\" >5250</td>\n",
       "                        <td id=\"T_a189f96e_5cc0_11ea_8a63_701ce71031efrow8_col5\" class=\"data row8 col5\" >27646</td>\n",
       "                        <td id=\"T_a189f96e_5cc0_11ea_8a63_701ce71031efrow8_col6\" class=\"data row8 col6\" >133</td>\n",
       "                        <td id=\"T_a189f96e_5cc0_11ea_8a63_701ce71031efrow8_col7\" class=\"data row8 col7\" >2.57%</td>\n",
       "            </tr>\n",
       "    </tbody></table>"
      ],
      "text/plain": [
       "<pandas.io.formats.style.Styler at 0x19231d51f48>"
      ]
     },
     "execution_count": 299,
     "metadata": {},
     "output_type": "execute_result"
    }
   ],
   "source": [
    "data_pl=get_sub_stats_by_prefix(data,'pl_')\n",
    "data_pl=data_pl[data_pl['head_count']>50]\n",
    "apply_style(data_pl)"
   ]
  },
  {
   "cell_type": "code",
   "execution_count": 300,
   "metadata": {},
   "outputs": [
    {
     "data": {
      "image/png": "[encoded data removed]",
      "text/plain": [
       "<Figure size 720x576 with 1 Axes>"
      ]
     },
     "metadata": {},
     "output_type": "display_data"
    }
   ],
   "source": [
    "head_counts=list(data_pl['percentage'].values)\n",
    "head_counts.append(other)\n",
    "head_counts\n",
    "\n",
    "labels=list(data_pl['pl_'].values)\n",
    "labels.append('其他')\n",
    "\n",
    "plt.figure(figsize=(10,8))\n",
    "plt.pie(head_counts, labels=labels, autopct='%1.0f%%')\n",
    "plt.title(f'算法工程师的编程语言')\n",
    "plt.show()"
   ]
  },
  {
   "cell_type": "markdown",
   "metadata": {},
   "source": [
    "## 大数据工具 "
   ]
  },
  {
   "cell_type": "code",
   "execution_count": 301,
   "metadata": {},
   "outputs": [
    {
     "data": {
      "text/html": [
       "<style  type=\"text/css\" >\n",
       "</style><table id=\"T_e3676406_5cc0_11ea_9d85_701ce71031ef\" ><thead>    <tr>        <th class=\"col_heading level0 col0\" >rank</th>        <th class=\"col_heading level0 col1\" >bd_</th>        <th class=\"col_heading level0 col2\" >salary_mean</th>        <th class=\"col_heading level0 col3\" >salary_median</th>        <th class=\"col_heading level0 col4\" >salary_95_min</th>        <th class=\"col_heading level0 col5\" >salary_95_max</th>        <th class=\"col_heading level0 col6\" >head_count</th>        <th class=\"col_heading level0 col7\" >percentage</th>    </tr></thead><tbody>\n",
       "                <tr>\n",
       "                                <td id=\"T_e3676406_5cc0_11ea_9d85_701ce71031efrow0_col0\" class=\"data row0 col0\" >2</td>\n",
       "                        <td id=\"T_e3676406_5cc0_11ea_9d85_701ce71031efrow0_col1\" class=\"data row0 col1\" >hive</td>\n",
       "                        <td id=\"T_e3676406_5cc0_11ea_9d85_701ce71031efrow0_col2\" class=\"data row0 col2\" >33637</td>\n",
       "                        <td id=\"T_e3676406_5cc0_11ea_9d85_701ce71031efrow0_col3\" class=\"data row0 col3\" >33214</td>\n",
       "                        <td id=\"T_e3676406_5cc0_11ea_9d85_701ce71031efrow0_col4\" class=\"data row0 col4\" >15521</td>\n",
       "                        <td id=\"T_e3676406_5cc0_11ea_9d85_701ce71031efrow0_col5\" class=\"data row0 col5\" >65000</td>\n",
       "                        <td id=\"T_e3676406_5cc0_11ea_9d85_701ce71031efrow0_col6\" class=\"data row0 col6\" >85</td>\n",
       "                        <td id=\"T_e3676406_5cc0_11ea_9d85_701ce71031efrow0_col7\" class=\"data row0 col7\" >10.48%</td>\n",
       "            </tr>\n",
       "            <tr>\n",
       "                                <td id=\"T_e3676406_5cc0_11ea_9d85_701ce71031efrow1_col0\" class=\"data row1 col0\" >3</td>\n",
       "                        <td id=\"T_e3676406_5cc0_11ea_9d85_701ce71031efrow1_col1\" class=\"data row1 col1\" >storm</td>\n",
       "                        <td id=\"T_e3676406_5cc0_11ea_9d85_701ce71031efrow1_col2\" class=\"data row1 col2\" >33537</td>\n",
       "                        <td id=\"T_e3676406_5cc0_11ea_9d85_701ce71031efrow1_col3\" class=\"data row1 col3\" >27500</td>\n",
       "                        <td id=\"T_e3676406_5cc0_11ea_9d85_701ce71031efrow1_col4\" class=\"data row1 col4\" >12554</td>\n",
       "                        <td id=\"T_e3676406_5cc0_11ea_9d85_701ce71031efrow1_col5\" class=\"data row1 col5\" >65000</td>\n",
       "                        <td id=\"T_e3676406_5cc0_11ea_9d85_701ce71031efrow1_col6\" class=\"data row1 col6\" >45</td>\n",
       "                        <td id=\"T_e3676406_5cc0_11ea_9d85_701ce71031efrow1_col7\" class=\"data row1 col7\" >5.55%</td>\n",
       "            </tr>\n",
       "            <tr>\n",
       "                                <td id=\"T_e3676406_5cc0_11ea_9d85_701ce71031efrow2_col0\" class=\"data row2 col0\" >4</td>\n",
       "                        <td id=\"T_e3676406_5cc0_11ea_9d85_701ce71031efrow2_col1\" class=\"data row2 col1\" >hbase</td>\n",
       "                        <td id=\"T_e3676406_5cc0_11ea_9d85_701ce71031efrow2_col2\" class=\"data row2 col2\" >32500</td>\n",
       "                        <td id=\"T_e3676406_5cc0_11ea_9d85_701ce71031efrow2_col3\" class=\"data row2 col3\" >32200</td>\n",
       "                        <td id=\"T_e3676406_5cc0_11ea_9d85_701ce71031efrow2_col4\" class=\"data row2 col4\" >14000</td>\n",
       "                        <td id=\"T_e3676406_5cc0_11ea_9d85_701ce71031efrow2_col5\" class=\"data row2 col5\" >60000</td>\n",
       "                        <td id=\"T_e3676406_5cc0_11ea_9d85_701ce71031efrow2_col6\" class=\"data row2 col6\" >12</td>\n",
       "                        <td id=\"T_e3676406_5cc0_11ea_9d85_701ce71031efrow2_col7\" class=\"data row2 col7\" >1.48%</td>\n",
       "            </tr>\n",
       "            <tr>\n",
       "                                <td id=\"T_e3676406_5cc0_11ea_9d85_701ce71031efrow3_col0\" class=\"data row3 col0\" >6</td>\n",
       "                        <td id=\"T_e3676406_5cc0_11ea_9d85_701ce71031efrow3_col1\" class=\"data row3 col1\" >kafka</td>\n",
       "                        <td id=\"T_e3676406_5cc0_11ea_9d85_701ce71031efrow3_col2\" class=\"data row3 col2\" >29306</td>\n",
       "                        <td id=\"T_e3676406_5cc0_11ea_9d85_701ce71031efrow3_col3\" class=\"data row3 col3\" >30833</td>\n",
       "                        <td id=\"T_e3676406_5cc0_11ea_9d85_701ce71031efrow3_col4\" class=\"data row3 col4\" >12500</td>\n",
       "                        <td id=\"T_e3676406_5cc0_11ea_9d85_701ce71031efrow3_col5\" class=\"data row3 col5\" >60000</td>\n",
       "                        <td id=\"T_e3676406_5cc0_11ea_9d85_701ce71031efrow3_col6\" class=\"data row3 col6\" >18</td>\n",
       "                        <td id=\"T_e3676406_5cc0_11ea_9d85_701ce71031efrow3_col7\" class=\"data row3 col7\" >2.22%</td>\n",
       "            </tr>\n",
       "            <tr>\n",
       "                                <td id=\"T_e3676406_5cc0_11ea_9d85_701ce71031efrow4_col0\" class=\"data row4 col0\" >7</td>\n",
       "                        <td id=\"T_e3676406_5cc0_11ea_9d85_701ce71031efrow4_col1\" class=\"data row4 col1\" >hadoop</td>\n",
       "                        <td id=\"T_e3676406_5cc0_11ea_9d85_701ce71031efrow4_col2\" class=\"data row4 col2\" >28007</td>\n",
       "                        <td id=\"T_e3676406_5cc0_11ea_9d85_701ce71031efrow4_col3\" class=\"data row4 col3\" >27500</td>\n",
       "                        <td id=\"T_e3676406_5cc0_11ea_9d85_701ce71031efrow4_col4\" class=\"data row4 col4\" >7000</td>\n",
       "                        <td id=\"T_e3676406_5cc0_11ea_9d85_701ce71031efrow4_col5\" class=\"data row4 col5\" >60000</td>\n",
       "                        <td id=\"T_e3676406_5cc0_11ea_9d85_701ce71031efrow4_col6\" class=\"data row4 col6\" >293</td>\n",
       "                        <td id=\"T_e3676406_5cc0_11ea_9d85_701ce71031efrow4_col7\" class=\"data row4 col7\" >36.13%</td>\n",
       "            </tr>\n",
       "            <tr>\n",
       "                                <td id=\"T_e3676406_5cc0_11ea_9d85_701ce71031efrow5_col0\" class=\"data row5 col0\" >9</td>\n",
       "                        <td id=\"T_e3676406_5cc0_11ea_9d85_701ce71031efrow5_col1\" class=\"data row5 col1\" >spark</td>\n",
       "                        <td id=\"T_e3676406_5cc0_11ea_9d85_701ce71031efrow5_col2\" class=\"data row5 col2\" >27001</td>\n",
       "                        <td id=\"T_e3676406_5cc0_11ea_9d85_701ce71031efrow5_col3\" class=\"data row5 col3\" >27500</td>\n",
       "                        <td id=\"T_e3676406_5cc0_11ea_9d85_701ce71031efrow5_col4\" class=\"data row5 col4\" >7000</td>\n",
       "                        <td id=\"T_e3676406_5cc0_11ea_9d85_701ce71031efrow5_col5\" class=\"data row5 col5\" >55000</td>\n",
       "                        <td id=\"T_e3676406_5cc0_11ea_9d85_701ce71031efrow5_col6\" class=\"data row5 col6\" >316</td>\n",
       "                        <td id=\"T_e3676406_5cc0_11ea_9d85_701ce71031efrow5_col7\" class=\"data row5 col7\" >38.96%</td>\n",
       "            </tr>\n",
       "            <tr>\n",
       "                                <td id=\"T_e3676406_5cc0_11ea_9d85_701ce71031efrow6_col0\" class=\"data row6 col0\" >10</td>\n",
       "                        <td id=\"T_e3676406_5cc0_11ea_9d85_701ce71031efrow6_col1\" class=\"data row6 col1\" >flink</td>\n",
       "                        <td id=\"T_e3676406_5cc0_11ea_9d85_701ce71031efrow6_col2\" class=\"data row6 col2\" >22315</td>\n",
       "                        <td id=\"T_e3676406_5cc0_11ea_9d85_701ce71031efrow6_col3\" class=\"data row6 col3\" >23333</td>\n",
       "                        <td id=\"T_e3676406_5cc0_11ea_9d85_701ce71031efrow6_col4\" class=\"data row6 col4\" >7000</td>\n",
       "                        <td id=\"T_e3676406_5cc0_11ea_9d85_701ce71031efrow6_col5\" class=\"data row6 col5\" >37500</td>\n",
       "                        <td id=\"T_e3676406_5cc0_11ea_9d85_701ce71031efrow6_col6\" class=\"data row6 col6\" >27</td>\n",
       "                        <td id=\"T_e3676406_5cc0_11ea_9d85_701ce71031efrow6_col7\" class=\"data row6 col7\" >3.33%</td>\n",
       "            </tr>\n",
       "    </tbody></table>"
      ],
      "text/plain": [
       "<pandas.io.formats.style.Styler at 0x19231c362c8>"
      ]
     },
     "execution_count": 301,
     "metadata": {},
     "output_type": "execute_result"
    }
   ],
   "source": [
    "data_pl=get_sub_stats_by_prefix(data,'bd_')\n",
    "data_pl=data_pl[data_pl['head_count']>10]\n",
    "apply_style(data_pl)"
   ]
  },
  {
   "cell_type": "code",
   "execution_count": 302,
   "metadata": {},
   "outputs": [
    {
     "data": {
      "image/png": "[encoded data removed]",
      "text/plain": [
       "<Figure size 720x576 with 1 Axes>"
      ]
     },
     "metadata": {},
     "output_type": "display_data"
    }
   ],
   "source": [
    "other=1-data_pl['percentage'].values.sum()\n",
    "head_counts=list(data_pl['percentage'].values)\n",
    "head_counts.append(other)\n",
    "head_counts\n",
    "\n",
    "labels=list(data_pl['bd_'].values)\n",
    "labels.append('其他')\n",
    "\n",
    "plt.figure(figsize=(10,8))\n",
    "plt.pie(head_counts, labels=labels, autopct='%1.0f%%')\n",
    "plt.title(f'算法工程师的大数据工具')\n",
    "plt.show()"
   ]
  },
  {
   "cell_type": "markdown",
   "metadata": {},
   "source": [
    "## 机器学习工具 "
   ]
  },
  {
   "cell_type": "code",
   "execution_count": 303,
   "metadata": {},
   "outputs": [
    {
     "data": {
      "text/html": [
       "<style  type=\"text/css\" >\n",
       "</style><table id=\"T_e5d2581c_5cc0_11ea_bbe9_701ce71031ef\" ><thead>    <tr>        <th class=\"col_heading level0 col0\" >rank</th>        <th class=\"col_heading level0 col1\" >ml_</th>        <th class=\"col_heading level0 col2\" >salary_mean</th>        <th class=\"col_heading level0 col3\" >salary_median</th>        <th class=\"col_heading level0 col4\" >salary_95_min</th>        <th class=\"col_heading level0 col5\" >salary_95_max</th>        <th class=\"col_heading level0 col6\" >head_count</th>        <th class=\"col_heading level0 col7\" >percentage</th>    </tr></thead><tbody>\n",
       "                <tr>\n",
       "                                <td id=\"T_e5d2581c_5cc0_11ea_bbe9_701ce71031efrow0_col0\" class=\"data row0 col0\" >1</td>\n",
       "                        <td id=\"T_e5d2581c_5cc0_11ea_bbe9_701ce71031efrow0_col1\" class=\"data row0 col1\" >mxnet</td>\n",
       "                        <td id=\"T_e5d2581c_5cc0_11ea_bbe9_701ce71031efrow0_col2\" class=\"data row0 col2\" >28295</td>\n",
       "                        <td id=\"T_e5d2581c_5cc0_11ea_bbe9_701ce71031efrow0_col3\" class=\"data row0 col3\" >27500</td>\n",
       "                        <td id=\"T_e5d2581c_5cc0_11ea_bbe9_701ce71031efrow0_col4\" class=\"data row0 col4\" >9014</td>\n",
       "                        <td id=\"T_e5d2581c_5cc0_11ea_bbe9_701ce71031efrow0_col5\" class=\"data row0 col5\" >60000</td>\n",
       "                        <td id=\"T_e5d2581c_5cc0_11ea_bbe9_701ce71031efrow0_col6\" class=\"data row0 col6\" >301</td>\n",
       "                        <td id=\"T_e5d2581c_5cc0_11ea_bbe9_701ce71031efrow0_col7\" class=\"data row0 col7\" >9.42%</td>\n",
       "            </tr>\n",
       "            <tr>\n",
       "                                <td id=\"T_e5d2581c_5cc0_11ea_bbe9_701ce71031efrow1_col0\" class=\"data row1 col0\" >2</td>\n",
       "                        <td id=\"T_e5d2581c_5cc0_11ea_bbe9_701ce71031efrow1_col1\" class=\"data row1 col1\" >keras</td>\n",
       "                        <td id=\"T_e5d2581c_5cc0_11ea_bbe9_701ce71031efrow1_col2\" class=\"data row1 col2\" >26092</td>\n",
       "                        <td id=\"T_e5d2581c_5cc0_11ea_bbe9_701ce71031efrow1_col3\" class=\"data row1 col3\" >22500</td>\n",
       "                        <td id=\"T_e5d2581c_5cc0_11ea_bbe9_701ce71031efrow1_col4\" class=\"data row1 col4\" >9339</td>\n",
       "                        <td id=\"T_e5d2581c_5cc0_11ea_bbe9_701ce71031efrow1_col5\" class=\"data row1 col5\" >58417</td>\n",
       "                        <td id=\"T_e5d2581c_5cc0_11ea_bbe9_701ce71031efrow1_col6\" class=\"data row1 col6\" >239</td>\n",
       "                        <td id=\"T_e5d2581c_5cc0_11ea_bbe9_701ce71031efrow1_col7\" class=\"data row1 col7\" >7.48%</td>\n",
       "            </tr>\n",
       "            <tr>\n",
       "                                <td id=\"T_e5d2581c_5cc0_11ea_bbe9_701ce71031efrow2_col0\" class=\"data row2 col0\" >3</td>\n",
       "                        <td id=\"T_e5d2581c_5cc0_11ea_bbe9_701ce71031efrow2_col1\" class=\"data row2 col1\" >pytorch</td>\n",
       "                        <td id=\"T_e5d2581c_5cc0_11ea_bbe9_701ce71031efrow2_col2\" class=\"data row2 col2\" >25679</td>\n",
       "                        <td id=\"T_e5d2581c_5cc0_11ea_bbe9_701ce71031efrow2_col3\" class=\"data row2 col3\" >25000</td>\n",
       "                        <td id=\"T_e5d2581c_5cc0_11ea_bbe9_701ce71031efrow2_col4\" class=\"data row2 col4\" >7000</td>\n",
       "                        <td id=\"T_e5d2581c_5cc0_11ea_bbe9_701ce71031efrow2_col5\" class=\"data row2 col5\" >60000</td>\n",
       "                        <td id=\"T_e5d2581c_5cc0_11ea_bbe9_701ce71031efrow2_col6\" class=\"data row2 col6\" >458</td>\n",
       "                        <td id=\"T_e5d2581c_5cc0_11ea_bbe9_701ce71031efrow2_col7\" class=\"data row2 col7\" >14.33%</td>\n",
       "            </tr>\n",
       "            <tr>\n",
       "                                <td id=\"T_e5d2581c_5cc0_11ea_bbe9_701ce71031efrow3_col0\" class=\"data row3 col0\" >4</td>\n",
       "                        <td id=\"T_e5d2581c_5cc0_11ea_bbe9_701ce71031efrow3_col1\" class=\"data row3 col1\" >sklearn</td>\n",
       "                        <td id=\"T_e5d2581c_5cc0_11ea_bbe9_701ce71031efrow3_col2\" class=\"data row3 col2\" >25111</td>\n",
       "                        <td id=\"T_e5d2581c_5cc0_11ea_bbe9_701ce71031efrow3_col3\" class=\"data row3 col3\" >22500</td>\n",
       "                        <td id=\"T_e5d2581c_5cc0_11ea_bbe9_701ce71031efrow3_col4\" class=\"data row3 col4\" >9000</td>\n",
       "                        <td id=\"T_e5d2581c_5cc0_11ea_bbe9_701ce71031efrow3_col5\" class=\"data row3 col5\" >58879</td>\n",
       "                        <td id=\"T_e5d2581c_5cc0_11ea_bbe9_701ce71031efrow3_col6\" class=\"data row3 col6\" >168</td>\n",
       "                        <td id=\"T_e5d2581c_5cc0_11ea_bbe9_701ce71031efrow3_col7\" class=\"data row3 col7\" >5.25%</td>\n",
       "            </tr>\n",
       "            <tr>\n",
       "                                <td id=\"T_e5d2581c_5cc0_11ea_bbe9_701ce71031efrow4_col0\" class=\"data row4 col0\" >5</td>\n",
       "                        <td id=\"T_e5d2581c_5cc0_11ea_bbe9_701ce71031efrow4_col1\" class=\"data row4 col1\" >tensorflow</td>\n",
       "                        <td id=\"T_e5d2581c_5cc0_11ea_bbe9_701ce71031efrow4_col2\" class=\"data row4 col2\" >24152</td>\n",
       "                        <td id=\"T_e5d2581c_5cc0_11ea_bbe9_701ce71031efrow4_col3\" class=\"data row4 col3\" >22500</td>\n",
       "                        <td id=\"T_e5d2581c_5cc0_11ea_bbe9_701ce71031efrow4_col4\" class=\"data row4 col4\" >7000</td>\n",
       "                        <td id=\"T_e5d2581c_5cc0_11ea_bbe9_701ce71031efrow4_col5\" class=\"data row4 col5\" >49662</td>\n",
       "                        <td id=\"T_e5d2581c_5cc0_11ea_bbe9_701ce71031efrow4_col6\" class=\"data row4 col6\" >1127</td>\n",
       "                        <td id=\"T_e5d2581c_5cc0_11ea_bbe9_701ce71031efrow4_col7\" class=\"data row4 col7\" >35.25%</td>\n",
       "            </tr>\n",
       "            <tr>\n",
       "                                <td id=\"T_e5d2581c_5cc0_11ea_bbe9_701ce71031efrow5_col0\" class=\"data row5 col0\" >6</td>\n",
       "                        <td id=\"T_e5d2581c_5cc0_11ea_bbe9_701ce71031efrow5_col1\" class=\"data row5 col1\" >caffe</td>\n",
       "                        <td id=\"T_e5d2581c_5cc0_11ea_bbe9_701ce71031efrow5_col2\" class=\"data row5 col2\" >23785</td>\n",
       "                        <td id=\"T_e5d2581c_5cc0_11ea_bbe9_701ce71031efrow5_col3\" class=\"data row5 col3\" >20833</td>\n",
       "                        <td id=\"T_e5d2581c_5cc0_11ea_bbe9_701ce71031efrow5_col4\" class=\"data row5 col4\" >6725</td>\n",
       "                        <td id=\"T_e5d2581c_5cc0_11ea_bbe9_701ce71031efrow5_col5\" class=\"data row5 col5\" >58333</td>\n",
       "                        <td id=\"T_e5d2581c_5cc0_11ea_bbe9_701ce71031efrow5_col6\" class=\"data row5 col6\" >703</td>\n",
       "                        <td id=\"T_e5d2581c_5cc0_11ea_bbe9_701ce71031efrow5_col7\" class=\"data row5 col7\" >21.99%</td>\n",
       "            </tr>\n",
       "            <tr>\n",
       "                                <td id=\"T_e5d2581c_5cc0_11ea_bbe9_701ce71031efrow6_col0\" class=\"data row6 col0\" >7</td>\n",
       "                        <td id=\"T_e5d2581c_5cc0_11ea_bbe9_701ce71031efrow6_col1\" class=\"data row6 col1\" >theano</td>\n",
       "                        <td id=\"T_e5d2581c_5cc0_11ea_bbe9_701ce71031efrow6_col2\" class=\"data row6 col2\" >22557</td>\n",
       "                        <td id=\"T_e5d2581c_5cc0_11ea_bbe9_701ce71031efrow6_col3\" class=\"data row6 col3\" >22500</td>\n",
       "                        <td id=\"T_e5d2581c_5cc0_11ea_bbe9_701ce71031efrow6_col4\" class=\"data row6 col4\" >12500</td>\n",
       "                        <td id=\"T_e5d2581c_5cc0_11ea_bbe9_701ce71031efrow6_col5\" class=\"data row6 col5\" >39594</td>\n",
       "                        <td id=\"T_e5d2581c_5cc0_11ea_bbe9_701ce71031efrow6_col6\" class=\"data row6 col6\" >153</td>\n",
       "                        <td id=\"T_e5d2581c_5cc0_11ea_bbe9_701ce71031efrow6_col7\" class=\"data row6 col7\" >4.79%</td>\n",
       "            </tr>\n",
       "    </tbody></table>"
      ],
      "text/plain": [
       "<pandas.io.formats.style.Styler at 0x19231d4c708>"
      ]
     },
     "execution_count": 303,
     "metadata": {},
     "output_type": "execute_result"
    }
   ],
   "source": [
    "data_pl=get_sub_stats_by_prefix(data,'ml_')\n",
    "data_pl=data_pl[data_pl['head_count']>100]\n",
    "apply_style(data_pl)"
   ]
  },
  {
   "cell_type": "code",
   "execution_count": 304,
   "metadata": {},
   "outputs": [
    {
     "data": {
      "text/plain": [
       "0.9849859243040351"
      ]
     },
     "execution_count": 304,
     "metadata": {},
     "output_type": "execute_result"
    }
   ],
   "source": [
    "data_pl['percentage'].values.sum()"
   ]
  },
  {
   "cell_type": "code",
   "execution_count": 305,
   "metadata": {},
   "outputs": [
    {
     "data": {
      "image/png": "[encoded data removed]",
      "text/plain": [
       "<Figure size 720x576 with 1 Axes>"
      ]
     },
     "metadata": {},
     "output_type": "display_data"
    }
   ],
   "source": [
    "other=1-data_pl['percentage'].values.sum()\n",
    "head_counts=list(data_pl['percentage'].values)\n",
    "head_counts.append(other)\n",
    "head_counts\n",
    "\n",
    "labels=list(data_pl['ml_'].values)\n",
    "labels.append('其他')\n",
    "\n",
    "plt.figure(figsize=(10,8))\n",
    "plt.pie(head_counts, labels=labels, autopct='%1.0f%%')\n",
    "plt.title(f'算法工程师的机器学习库')\n",
    "plt.show()"
   ]
  },
  {
   "cell_type": "markdown",
   "metadata": {},
   "source": [
    "## 英语"
   ]
  },
  {
   "cell_type": "code",
   "execution_count": null,
   "metadata": {},
   "outputs": [],
   "source": []
  },
  {
   "cell_type": "code",
   "execution_count": 23,
   "metadata": {},
   "outputs": [],
   "source": [
    "all_=data.shape[0]\n",
    "en=data[data['english']==1].shape[0]\n",
    "other=all_-en"
   ]
  },
  {
   "cell_type": "code",
   "execution_count": 24,
   "metadata": {},
   "outputs": [
    {
     "data": {
      "image/png": "[encoded data removed]",
      "text/plain": [
       "<Figure size 720x576 with 1 Axes>"
      ]
     },
     "metadata": {},
     "output_type": "display_data"
    }
   ],
   "source": [
    "plt.figure(figsize=(10,8))\n",
    "plt.pie([en,other], labels=['要求英语','没说'])\n",
    "plt.show()"
   ]
  },
  {
   "cell_type": "markdown",
   "metadata": {},
   "source": [
    "# 教育"
   ]
  },
  {
   "cell_type": "code",
   "execution_count": 25,
   "metadata": {},
   "outputs": [],
   "source": [
    "edu_counts=data[~(data.edu=='')].groupby(by=['edu']).headcount.sum()"
   ]
  },
  {
   "cell_type": "code",
   "execution_count": 26,
   "metadata": {},
   "outputs": [
    {
     "data": {
      "text/plain": [
       "edu\n",
       "博士     119\n",
       "大专     260\n",
       "本科    1325\n",
       "硕士     741\n",
       "高中       2\n",
       "Name: headcount, dtype: int64"
      ]
     },
     "execution_count": 26,
     "metadata": {},
     "output_type": "execute_result"
    }
   ],
   "source": [
    "edu_counts"
   ]
  },
  {
   "cell_type": "code",
   "execution_count": 27,
   "metadata": {},
   "outputs": [
    {
     "data": {
      "image/png": "[encoded data removed]",
      "text/plain": [
       "<Figure size 720x576 with 1 Axes>"
      ]
     },
     "metadata": {},
     "output_type": "display_data"
    }
   ],
   "source": [
    "plt.figure(figsize=(10,8))\n",
    "plt.pie(edu_counts.values, labels=edu_counts.index, autopct='%1.1f%%')\n",
    "plt.show()"
   ]
  },
  {
   "cell_type": "code",
   "execution_count": 311,
   "metadata": {},
   "outputs": [
    {
     "data": {
      "text/html": [
       "<style  type=\"text/css\" >\n",
       "</style><table id=\"T_f4a1d31e_5cc0_11ea_9d8d_701ce71031ef\" ><thead>    <tr>        <th class=\"col_heading level0 col0\" >edu</th>        <th class=\"col_heading level0 col1\" >salary_mean</th>        <th class=\"col_heading level0 col2\" >salary_95_min</th>        <th class=\"col_heading level0 col3\" >salary_median</th>        <th class=\"col_heading level0 col4\" >salary_95_max</th>        <th class=\"col_heading level0 col5\" >head_count</th>        <th class=\"col_heading level0 col6\" >percentage</th>    </tr></thead><tbody>\n",
       "                <tr>\n",
       "                                <td id=\"T_f4a1d31e_5cc0_11ea_9d8d_701ce71031efrow0_col0\" class=\"data row0 col0\" >博士</td>\n",
       "                        <td id=\"T_f4a1d31e_5cc0_11ea_9d8d_701ce71031efrow0_col1\" class=\"data row0 col1\" >27184</td>\n",
       "                        <td id=\"T_f4a1d31e_5cc0_11ea_9d8d_701ce71031efrow0_col2\" class=\"data row0 col2\" >17469</td>\n",
       "                        <td id=\"T_f4a1d31e_5cc0_11ea_9d8d_701ce71031efrow0_col3\" class=\"data row0 col3\" >27500</td>\n",
       "                        <td id=\"T_f4a1d31e_5cc0_11ea_9d8d_701ce71031efrow0_col4\" class=\"data row0 col4\" >54263</td>\n",
       "                        <td id=\"T_f4a1d31e_5cc0_11ea_9d8d_701ce71031efrow0_col5\" class=\"data row0 col5\" >119</td>\n",
       "                        <td id=\"T_f4a1d31e_5cc0_11ea_9d8d_701ce71031efrow0_col6\" class=\"data row0 col6\" >4.86%</td>\n",
       "            </tr>\n",
       "            <tr>\n",
       "                                <td id=\"T_f4a1d31e_5cc0_11ea_9d8d_701ce71031efrow1_col0\" class=\"data row1 col0\" >硕士</td>\n",
       "                        <td id=\"T_f4a1d31e_5cc0_11ea_9d8d_701ce71031efrow1_col1\" class=\"data row1 col1\" >25217</td>\n",
       "                        <td id=\"T_f4a1d31e_5cc0_11ea_9d8d_701ce71031efrow1_col2\" class=\"data row1 col2\" >10000</td>\n",
       "                        <td id=\"T_f4a1d31e_5cc0_11ea_9d8d_701ce71031efrow1_col3\" class=\"data row1 col3\" >22500</td>\n",
       "                        <td id=\"T_f4a1d31e_5cc0_11ea_9d8d_701ce71031efrow1_col4\" class=\"data row1 col4\" >53967</td>\n",
       "                        <td id=\"T_f4a1d31e_5cc0_11ea_9d8d_701ce71031efrow1_col5\" class=\"data row1 col5\" >741</td>\n",
       "                        <td id=\"T_f4a1d31e_5cc0_11ea_9d8d_701ce71031efrow1_col6\" class=\"data row1 col6\" >30.28%</td>\n",
       "            </tr>\n",
       "            <tr>\n",
       "                                <td id=\"T_f4a1d31e_5cc0_11ea_9d8d_701ce71031efrow2_col0\" class=\"data row2 col0\" >本科</td>\n",
       "                        <td id=\"T_f4a1d31e_5cc0_11ea_9d8d_701ce71031efrow2_col1\" class=\"data row2 col1\" >24000</td>\n",
       "                        <td id=\"T_f4a1d31e_5cc0_11ea_9d8d_701ce71031efrow2_col2\" class=\"data row2 col2\" >7000</td>\n",
       "                        <td id=\"T_f4a1d31e_5cc0_11ea_9d8d_701ce71031efrow2_col3\" class=\"data row2 col3\" >22500</td>\n",
       "                        <td id=\"T_f4a1d31e_5cc0_11ea_9d8d_701ce71031efrow2_col4\" class=\"data row2 col4\" >48437</td>\n",
       "                        <td id=\"T_f4a1d31e_5cc0_11ea_9d8d_701ce71031efrow2_col5\" class=\"data row2 col5\" >1325</td>\n",
       "                        <td id=\"T_f4a1d31e_5cc0_11ea_9d8d_701ce71031efrow2_col6\" class=\"data row2 col6\" >54.15%</td>\n",
       "            </tr>\n",
       "            <tr>\n",
       "                                <td id=\"T_f4a1d31e_5cc0_11ea_9d8d_701ce71031efrow3_col0\" class=\"data row3 col0\" >大专</td>\n",
       "                        <td id=\"T_f4a1d31e_5cc0_11ea_9d8d_701ce71031efrow3_col1\" class=\"data row3 col1\" >9830</td>\n",
       "                        <td id=\"T_f4a1d31e_5cc0_11ea_9d8d_701ce71031efrow3_col2\" class=\"data row3 col2\" >3805</td>\n",
       "                        <td id=\"T_f4a1d31e_5cc0_11ea_9d8d_701ce71031efrow3_col3\" class=\"data row3 col3\" >7000</td>\n",
       "                        <td id=\"T_f4a1d31e_5cc0_11ea_9d8d_701ce71031efrow3_col4\" class=\"data row3 col4\" >26786</td>\n",
       "                        <td id=\"T_f4a1d31e_5cc0_11ea_9d8d_701ce71031efrow3_col5\" class=\"data row3 col5\" >260</td>\n",
       "                        <td id=\"T_f4a1d31e_5cc0_11ea_9d8d_701ce71031efrow3_col6\" class=\"data row3 col6\" >10.63%</td>\n",
       "            </tr>\n",
       "            <tr>\n",
       "                                <td id=\"T_f4a1d31e_5cc0_11ea_9d8d_701ce71031efrow4_col0\" class=\"data row4 col0\" >高中</td>\n",
       "                        <td id=\"T_f4a1d31e_5cc0_11ea_9d8d_701ce71031efrow4_col1\" class=\"data row4 col1\" >5875</td>\n",
       "                        <td id=\"T_f4a1d31e_5cc0_11ea_9d8d_701ce71031efrow4_col2\" class=\"data row4 col2\" >4750</td>\n",
       "                        <td id=\"T_f4a1d31e_5cc0_11ea_9d8d_701ce71031efrow4_col3\" class=\"data row4 col3\" >5875</td>\n",
       "                        <td id=\"T_f4a1d31e_5cc0_11ea_9d8d_701ce71031efrow4_col4\" class=\"data row4 col4\" >7000</td>\n",
       "                        <td id=\"T_f4a1d31e_5cc0_11ea_9d8d_701ce71031efrow4_col5\" class=\"data row4 col5\" >2</td>\n",
       "                        <td id=\"T_f4a1d31e_5cc0_11ea_9d8d_701ce71031efrow4_col6\" class=\"data row4 col6\" >0.08%</td>\n",
       "            </tr>\n",
       "    </tbody></table>"
      ],
      "text/plain": [
       "<pandas.io.formats.style.Styler at 0x19234920f08>"
      ]
     },
     "execution_count": 311,
     "metadata": {},
     "output_type": "execute_result"
    }
   ],
   "source": [
    "data_edu=get_sub_stats_by_col(data[data.edu.isin(['初中及以下','高中','大专','本科','硕士','博士'])], 'edu')\n",
    "apply_style(data_edu)"
   ]
  },
  {
   "cell_type": "code",
   "execution_count": 312,
   "metadata": {},
   "outputs": [],
   "source": [
    "salary_associate=data[data.edu=='大专'].monthly_salary\n",
    "salary_bachelor=data[data.edu=='本科'].monthly_salary\n",
    "salary_master=data[data.edu=='硕士'].monthly_salary\n",
    "salary_phd=data[data.edu=='博士'].monthly_salary"
   ]
  },
  {
   "cell_type": "code",
   "execution_count": null,
   "metadata": {},
   "outputs": [],
   "source": []
  },
  {
   "cell_type": "code",
   "execution_count": 313,
   "metadata": {},
   "outputs": [
    {
     "name": "stdout",
     "output_type": "stream",
     "text": [
      "大专，本科，硕士，博士的平均工资分别是11406，23224，24403，30006。中位数分别是9000， 21500，22500， 27500。\n"
     ]
    }
   ],
   "source": [
    "print('大专，本科，硕士，博士的平均工资分别是{:.0f}，{:.0f}，{:.0f}，{:.0f}。中位数分别是{:.0f}， {:.0f}，{:.0f}， {:.0f}。'.format(\n",
    "    salary_associate.mean(),salary_bachelor.mean(),salary_master.mean(),salary_phd.mean(),\n",
    "    salary_associate.median(),salary_bachelor.median(),salary_master.median(),salary_phd.median()))"
   ]
  },
  {
   "cell_type": "code",
   "execution_count": 314,
   "metadata": {},
   "outputs": [
    {
     "data": {
      "text/plain": [
       "F_onewayResult(statistic=9.30965197268674, pvalue=0.002502240773058869)"
      ]
     },
     "execution_count": 314,
     "metadata": {},
     "output_type": "execute_result"
    }
   ],
   "source": [
    "stats.f_oneway(salary_phd, salary_master)"
   ]
  },
  {
   "cell_type": "code",
   "execution_count": 315,
   "metadata": {},
   "outputs": [
    {
     "data": {
      "text/plain": [
       "F_onewayResult(statistic=1.7137682733121973, pvalue=0.19093937936927335)"
      ]
     },
     "execution_count": 315,
     "metadata": {},
     "output_type": "execute_result"
    }
   ],
   "source": [
    "stats.f_oneway(salary_master, salary_bachelor)"
   ]
  },
  {
   "cell_type": "code",
   "execution_count": 316,
   "metadata": {},
   "outputs": [
    {
     "data": {
      "text/plain": [
       "F_onewayResult(statistic=59.4378531195539, pvalue=6.800647889450831e-14)"
      ]
     },
     "execution_count": 316,
     "metadata": {},
     "output_type": "execute_result"
    }
   ],
   "source": [
    "stats.f_oneway(salary_bachelor, salary_associate)"
   ]
  },
  {
   "cell_type": "markdown",
   "metadata": {},
   "source": [
    "经过Oneway Anova Test，证明从大专到博士，学历每提高一级，工资都有显著的提高。"
   ]
  },
  {
   "cell_type": "code",
   "execution_count": 317,
   "metadata": {},
   "outputs": [
    {
     "data": {
      "image/png": "[encoded data removed]",
      "text/plain": [
       "<Figure size 432x288 with 1 Axes>"
      ]
     },
     "metadata": {
      "needs_background": "light"
     },
     "output_type": "display_data"
    }
   ],
   "source": [
    "\n",
    "order=['大专','本科','硕士','博士']\n",
    "a=sns.boxplot(y='edu',x='monthly_salary',order=order,data=data[data.edu.isin(order)], orient='h')\n",
    "plt.annotate('https://github.com/juwikuang/job_survey', xy=(0.5,1.5), xytext=(2, 1.55))\n",
    "plt.show()"
   ]
  },
  {
   "cell_type": "markdown",
   "metadata": {},
   "source": [
    "# 工作经验 Working Experience"
   ]
  },
  {
   "cell_type": "code",
   "execution_count": 318,
   "metadata": {},
   "outputs": [
    {
     "data": {
      "text/html": [
       "<style  type=\"text/css\" >\n",
       "</style><table id=\"T_ff16c28c_5cc0_11ea_909a_701ce71031ef\" ><thead>    <tr>        <th class=\"col_heading level0 col0\" >experience</th>        <th class=\"col_heading level0 col1\" >salary_mean</th>        <th class=\"col_heading level0 col2\" >salary_95_min</th>        <th class=\"col_heading level0 col3\" >salary_median</th>        <th class=\"col_heading level0 col4\" >salary_95_max</th>        <th class=\"col_heading level0 col5\" >head_count</th>        <th class=\"col_heading level0 col6\" >percentage</th>    </tr></thead><tbody>\n",
       "                <tr>\n",
       "                                <td id=\"T_ff16c28c_5cc0_11ea_909a_701ce71031efrow0_col0\" class=\"data row0 col0\" >10+</td>\n",
       "                        <td id=\"T_ff16c28c_5cc0_11ea_909a_701ce71031efrow0_col1\" class=\"data row0 col1\" >36000</td>\n",
       "                        <td id=\"T_ff16c28c_5cc0_11ea_909a_701ce71031efrow0_col2\" class=\"data row0 col2\" >30000</td>\n",
       "                        <td id=\"T_ff16c28c_5cc0_11ea_909a_701ce71031efrow0_col3\" class=\"data row0 col3\" >36250</td>\n",
       "                        <td id=\"T_ff16c28c_5cc0_11ea_909a_701ce71031efrow0_col4\" class=\"data row0 col4\" >40000</td>\n",
       "                        <td id=\"T_ff16c28c_5cc0_11ea_909a_701ce71031efrow0_col5\" class=\"data row0 col5\" >5</td>\n",
       "                        <td id=\"T_ff16c28c_5cc0_11ea_909a_701ce71031efrow0_col6\" class=\"data row0 col6\" >0.18%</td>\n",
       "            </tr>\n",
       "            <tr>\n",
       "                                <td id=\"T_ff16c28c_5cc0_11ea_909a_701ce71031efrow1_col0\" class=\"data row1 col0\" >5_10</td>\n",
       "                        <td id=\"T_ff16c28c_5cc0_11ea_909a_701ce71031efrow1_col1\" class=\"data row1 col1\" >31819</td>\n",
       "                        <td id=\"T_ff16c28c_5cc0_11ea_909a_701ce71031efrow1_col2\" class=\"data row1 col2\" >6843</td>\n",
       "                        <td id=\"T_ff16c28c_5cc0_11ea_909a_701ce71031efrow1_col3\" class=\"data row1 col3\" >30000</td>\n",
       "                        <td id=\"T_ff16c28c_5cc0_11ea_909a_701ce71031efrow1_col4\" class=\"data row1 col4\" >60000</td>\n",
       "                        <td id=\"T_ff16c28c_5cc0_11ea_909a_701ce71031efrow1_col5\" class=\"data row1 col5\" >219</td>\n",
       "                        <td id=\"T_ff16c28c_5cc0_11ea_909a_701ce71031efrow1_col6\" class=\"data row1 col6\" >7.85%</td>\n",
       "            </tr>\n",
       "            <tr>\n",
       "                                <td id=\"T_ff16c28c_5cc0_11ea_909a_701ce71031efrow2_col0\" class=\"data row2 col0\" >3_5</td>\n",
       "                        <td id=\"T_ff16c28c_5cc0_11ea_909a_701ce71031efrow2_col1\" class=\"data row2 col1\" >26836</td>\n",
       "                        <td id=\"T_ff16c28c_5cc0_11ea_909a_701ce71031efrow2_col2\" class=\"data row2 col2\" >11500</td>\n",
       "                        <td id=\"T_ff16c28c_5cc0_11ea_909a_701ce71031efrow2_col3\" class=\"data row2 col3\" >25000</td>\n",
       "                        <td id=\"T_ff16c28c_5cc0_11ea_909a_701ce71031efrow2_col4\" class=\"data row2 col4\" >49875</td>\n",
       "                        <td id=\"T_ff16c28c_5cc0_11ea_909a_701ce71031efrow2_col5\" class=\"data row2 col5\" >662</td>\n",
       "                        <td id=\"T_ff16c28c_5cc0_11ea_909a_701ce71031efrow2_col6\" class=\"data row2 col6\" >23.73%</td>\n",
       "            </tr>\n",
       "            <tr>\n",
       "                                <td id=\"T_ff16c28c_5cc0_11ea_909a_701ce71031efrow3_col0\" class=\"data row3 col0\" >1_3</td>\n",
       "                        <td id=\"T_ff16c28c_5cc0_11ea_909a_701ce71031efrow3_col1\" class=\"data row3 col1\" >22743</td>\n",
       "                        <td id=\"T_ff16c28c_5cc0_11ea_909a_701ce71031efrow3_col2\" class=\"data row3 col2\" >7469</td>\n",
       "                        <td id=\"T_ff16c28c_5cc0_11ea_909a_701ce71031efrow3_col3\" class=\"data row3 col3\" >20833</td>\n",
       "                        <td id=\"T_ff16c28c_5cc0_11ea_909a_701ce71031efrow3_col4\" class=\"data row3 col4\" >40966</td>\n",
       "                        <td id=\"T_ff16c28c_5cc0_11ea_909a_701ce71031efrow3_col5\" class=\"data row3 col5\" >795</td>\n",
       "                        <td id=\"T_ff16c28c_5cc0_11ea_909a_701ce71031efrow3_col6\" class=\"data row3 col6\" >28.49%</td>\n",
       "            </tr>\n",
       "            <tr>\n",
       "                                <td id=\"T_ff16c28c_5cc0_11ea_909a_701ce71031efrow4_col0\" class=\"data row4 col0\" ></td>\n",
       "                        <td id=\"T_ff16c28c_5cc0_11ea_909a_701ce71031efrow4_col1\" class=\"data row4 col1\" >18110</td>\n",
       "                        <td id=\"T_ff16c28c_5cc0_11ea_909a_701ce71031efrow4_col2\" class=\"data row4 col2\" >4009</td>\n",
       "                        <td id=\"T_ff16c28c_5cc0_11ea_909a_701ce71031efrow4_col3\" class=\"data row4 col3\" >14940</td>\n",
       "                        <td id=\"T_ff16c28c_5cc0_11ea_909a_701ce71031efrow4_col4\" class=\"data row4 col4\" >49510</td>\n",
       "                        <td id=\"T_ff16c28c_5cc0_11ea_909a_701ce71031efrow4_col5\" class=\"data row4 col5\" >1109</td>\n",
       "                        <td id=\"T_ff16c28c_5cc0_11ea_909a_701ce71031efrow4_col6\" class=\"data row4 col6\" >39.75%</td>\n",
       "            </tr>\n",
       "    </tbody></table>"
      ],
      "text/plain": [
       "<pandas.io.formats.style.Styler at 0x192349c8888>"
      ]
     },
     "execution_count": 318,
     "metadata": {},
     "output_type": "execute_result"
    }
   ],
   "source": [
    "data_experience=get_sub_stats_by_col(data, 'experience')\n",
    "apply_style(data_experience)"
   ]
  },
  {
   "cell_type": "code",
   "execution_count": 319,
   "metadata": {},
   "outputs": [],
   "source": [
    "salary_we_10=data[data.experience=='10+'].monthly_salary\n",
    "salary_we_5_10=data[data.experience=='5_10'].monthly_salary\n",
    "salary_we_3_5=data[data.experience=='3_5'].monthly_salary\n",
    "salary_we_1_3=data[data.experience=='1_3'].monthly_salary\n",
    "salary_we_no=data[data.experience=='no'].monthly_salary"
   ]
  },
  {
   "cell_type": "code",
   "execution_count": 320,
   "metadata": {},
   "outputs": [
    {
     "data": {
      "image/png": "[encoded data removed]",
      "text/plain": [
       "<Figure size 432x288 with 1 Axes>"
      ]
     },
     "metadata": {
      "needs_background": "light"
     },
     "output_type": "display_data"
    }
   ],
   "source": [
    "\n",
    "order=['10+','5_10','3_5','1_3']\n",
    "sns.boxplot(y='experience',x='monthly_salary',order=order,data=data[data.experience.isin(order)], orient='h')\n",
    "plt.annotate('https://github.com/juwikuang/job_survey', xy=(1.5,1.5), xytext=(1.55, 1.55))\n",
    "plt.show()"
   ]
  },
  {
   "cell_type": "markdown",
   "metadata": {},
   "source": [
    "# 公司 Company"
   ]
  },
  {
   "cell_type": "markdown",
   "metadata": {},
   "source": [
    "## 公司性质 Company Type"
   ]
  },
  {
   "cell_type": "code",
   "execution_count": 321,
   "metadata": {},
   "outputs": [
    {
     "data": {
      "text/html": [
       "<style  type=\"text/css\" >\n",
       "</style><table id=\"T_04e4c9c2_5cc1_11ea_b103_701ce71031ef\" ><thead>    <tr>        <th class=\"col_heading level0 col0\" >company_type</th>        <th class=\"col_heading level0 col1\" >salary_mean</th>        <th class=\"col_heading level0 col2\" >salary_95_min</th>        <th class=\"col_heading level0 col3\" >salary_median</th>        <th class=\"col_heading level0 col4\" >salary_95_max</th>        <th class=\"col_heading level0 col5\" >head_count</th>        <th class=\"col_heading level0 col6\" >percentage</th>    </tr></thead><tbody>\n",
       "                <tr>\n",
       "                                <td id=\"T_04e4c9c2_5cc1_11ea_b103_701ce71031efrow0_col0\" class=\"data row0 col0\" >非营利组织</td>\n",
       "                        <td id=\"T_04e4c9c2_5cc1_11ea_b103_701ce71031efrow0_col1\" class=\"data row0 col1\" >26625</td>\n",
       "                        <td id=\"T_04e4c9c2_5cc1_11ea_b103_701ce71031efrow0_col2\" class=\"data row0 col2\" >11500</td>\n",
       "                        <td id=\"T_04e4c9c2_5cc1_11ea_b103_701ce71031efrow0_col3\" class=\"data row0 col3\" >27357</td>\n",
       "                        <td id=\"T_04e4c9c2_5cc1_11ea_b103_701ce71031efrow0_col4\" class=\"data row0 col4\" >40000</td>\n",
       "                        <td id=\"T_04e4c9c2_5cc1_11ea_b103_701ce71031efrow0_col5\" class=\"data row0 col5\" >8</td>\n",
       "                        <td id=\"T_04e4c9c2_5cc1_11ea_b103_701ce71031efrow0_col6\" class=\"data row0 col6\" >0.29%</td>\n",
       "            </tr>\n",
       "            <tr>\n",
       "                                <td id=\"T_04e4c9c2_5cc1_11ea_b103_701ce71031efrow1_col0\" class=\"data row1 col0\" >外资（欧美）</td>\n",
       "                        <td id=\"T_04e4c9c2_5cc1_11ea_b103_701ce71031efrow1_col1\" class=\"data row1 col1\" >25986</td>\n",
       "                        <td id=\"T_04e4c9c2_5cc1_11ea_b103_701ce71031efrow1_col2\" class=\"data row1 col2\" >4975</td>\n",
       "                        <td id=\"T_04e4c9c2_5cc1_11ea_b103_701ce71031efrow1_col3\" class=\"data row1 col3\" >22500</td>\n",
       "                        <td id=\"T_04e4c9c2_5cc1_11ea_b103_701ce71031efrow1_col4\" class=\"data row1 col4\" >60000</td>\n",
       "                        <td id=\"T_04e4c9c2_5cc1_11ea_b103_701ce71031efrow1_col5\" class=\"data row1 col5\" >169</td>\n",
       "                        <td id=\"T_04e4c9c2_5cc1_11ea_b103_701ce71031efrow1_col6\" class=\"data row1 col6\" >6.06%</td>\n",
       "            </tr>\n",
       "            <tr>\n",
       "                                <td id=\"T_04e4c9c2_5cc1_11ea_b103_701ce71031efrow2_col0\" class=\"data row2 col0\" >外资（非欧美）</td>\n",
       "                        <td id=\"T_04e4c9c2_5cc1_11ea_b103_701ce71031efrow2_col1\" class=\"data row2 col1\" >25198</td>\n",
       "                        <td id=\"T_04e4c9c2_5cc1_11ea_b103_701ce71031efrow2_col2\" class=\"data row2 col2\" >12500</td>\n",
       "                        <td id=\"T_04e4c9c2_5cc1_11ea_b103_701ce71031efrow2_col3\" class=\"data row2 col3\" >22500</td>\n",
       "                        <td id=\"T_04e4c9c2_5cc1_11ea_b103_701ce71031efrow2_col4\" class=\"data row2 col4\" >47708</td>\n",
       "                        <td id=\"T_04e4c9c2_5cc1_11ea_b103_701ce71031efrow2_col5\" class=\"data row2 col5\" >126</td>\n",
       "                        <td id=\"T_04e4c9c2_5cc1_11ea_b103_701ce71031efrow2_col6\" class=\"data row2 col6\" >4.52%</td>\n",
       "            </tr>\n",
       "            <tr>\n",
       "                                <td id=\"T_04e4c9c2_5cc1_11ea_b103_701ce71031efrow3_col0\" class=\"data row3 col0\" >合资</td>\n",
       "                        <td id=\"T_04e4c9c2_5cc1_11ea_b103_701ce71031efrow3_col1\" class=\"data row3 col1\" >23408</td>\n",
       "                        <td id=\"T_04e4c9c2_5cc1_11ea_b103_701ce71031efrow3_col2\" class=\"data row3 col2\" >5597</td>\n",
       "                        <td id=\"T_04e4c9c2_5cc1_11ea_b103_701ce71031efrow3_col3\" class=\"data row3 col3\" >22500</td>\n",
       "                        <td id=\"T_04e4c9c2_5cc1_11ea_b103_701ce71031efrow3_col4\" class=\"data row3 col4\" >47232</td>\n",
       "                        <td id=\"T_04e4c9c2_5cc1_11ea_b103_701ce71031efrow3_col5\" class=\"data row3 col5\" >331</td>\n",
       "                        <td id=\"T_04e4c9c2_5cc1_11ea_b103_701ce71031efrow3_col6\" class=\"data row3 col6\" >11.86%</td>\n",
       "            </tr>\n",
       "            <tr>\n",
       "                                <td id=\"T_04e4c9c2_5cc1_11ea_b103_701ce71031efrow4_col0\" class=\"data row4 col0\" >民营公司</td>\n",
       "                        <td id=\"T_04e4c9c2_5cc1_11ea_b103_701ce71031efrow4_col1\" class=\"data row4 col1\" >22599</td>\n",
       "                        <td id=\"T_04e4c9c2_5cc1_11ea_b103_701ce71031efrow4_col2\" class=\"data row4 col2\" >5250</td>\n",
       "                        <td id=\"T_04e4c9c2_5cc1_11ea_b103_701ce71031efrow4_col3\" class=\"data row4 col3\" >20000</td>\n",
       "                        <td id=\"T_04e4c9c2_5cc1_11ea_b103_701ce71031efrow4_col4\" class=\"data row4 col4\" >53667</td>\n",
       "                        <td id=\"T_04e4c9c2_5cc1_11ea_b103_701ce71031efrow4_col5\" class=\"data row4 col5\" >1830</td>\n",
       "                        <td id=\"T_04e4c9c2_5cc1_11ea_b103_701ce71031efrow4_col6\" class=\"data row4 col6\" >65.59%</td>\n",
       "            </tr>\n",
       "            <tr>\n",
       "                                <td id=\"T_04e4c9c2_5cc1_11ea_b103_701ce71031efrow5_col0\" class=\"data row5 col0\" >国企</td>\n",
       "                        <td id=\"T_04e4c9c2_5cc1_11ea_b103_701ce71031efrow5_col1\" class=\"data row5 col1\" >19473</td>\n",
       "                        <td id=\"T_04e4c9c2_5cc1_11ea_b103_701ce71031efrow5_col2\" class=\"data row5 col2\" >6480</td>\n",
       "                        <td id=\"T_04e4c9c2_5cc1_11ea_b103_701ce71031efrow5_col3\" class=\"data row5 col3\" >17500</td>\n",
       "                        <td id=\"T_04e4c9c2_5cc1_11ea_b103_701ce71031efrow5_col4\" class=\"data row5 col4\" >32266</td>\n",
       "                        <td id=\"T_04e4c9c2_5cc1_11ea_b103_701ce71031efrow5_col5\" class=\"data row5 col5\" >274</td>\n",
       "                        <td id=\"T_04e4c9c2_5cc1_11ea_b103_701ce71031efrow5_col6\" class=\"data row5 col6\" >9.82%</td>\n",
       "            </tr>\n",
       "            <tr>\n",
       "                                <td id=\"T_04e4c9c2_5cc1_11ea_b103_701ce71031efrow6_col0\" class=\"data row6 col0\" >事业单位</td>\n",
       "                        <td id=\"T_04e4c9c2_5cc1_11ea_b103_701ce71031efrow6_col1\" class=\"data row6 col1\" >16498</td>\n",
       "                        <td id=\"T_04e4c9c2_5cc1_11ea_b103_701ce71031efrow6_col2\" class=\"data row6 col2\" >6543</td>\n",
       "                        <td id=\"T_04e4c9c2_5cc1_11ea_b103_701ce71031efrow6_col3\" class=\"data row6 col3\" >11500</td>\n",
       "                        <td id=\"T_04e4c9c2_5cc1_11ea_b103_701ce71031efrow6_col4\" class=\"data row6 col4\" >35000</td>\n",
       "                        <td id=\"T_04e4c9c2_5cc1_11ea_b103_701ce71031efrow6_col5\" class=\"data row6 col5\" >52</td>\n",
       "                        <td id=\"T_04e4c9c2_5cc1_11ea_b103_701ce71031efrow6_col6\" class=\"data row6 col6\" >1.86%</td>\n",
       "            </tr>\n",
       "    </tbody></table>"
      ],
      "text/plain": [
       "<pandas.io.formats.style.Styler at 0x192348c7408>"
      ]
     },
     "execution_count": 321,
     "metadata": {},
     "output_type": "execute_result"
    }
   ],
   "source": [
    "data_company_type=get_sub_stats_by_col(data,'company_type')\n",
    "apply_style(data_company_type)"
   ]
  },
  {
   "cell_type": "markdown",
   "metadata": {},
   "source": [
    "us_eu是欧美外企，startup是创业公司，listed是上市公司，state是国企，private是私企，foreign是非欧美外企，其他不足1000个样本的不管了。"
   ]
  },
  {
   "cell_type": "markdown",
   "metadata": {},
   "source": [
    "## 公司规模 Company Size"
   ]
  },
  {
   "cell_type": "code",
   "execution_count": 322,
   "metadata": {},
   "outputs": [
    {
     "data": {
      "text/html": [
       "<style  type=\"text/css\" >\n",
       "</style><table id=\"T_05e18368_5cc1_11ea_9ecd_701ce71031ef\" ><thead>    <tr>        <th class=\"col_heading level0 col0\" >company_size</th>        <th class=\"col_heading level0 col1\" >salary_mean</th>        <th class=\"col_heading level0 col2\" >salary_95_min</th>        <th class=\"col_heading level0 col3\" >salary_median</th>        <th class=\"col_heading level0 col4\" >salary_95_max</th>        <th class=\"col_heading level0 col5\" >head_count</th>        <th class=\"col_heading level0 col6\" >percentage</th>    </tr></thead><tbody>\n",
       "                <tr>\n",
       "                                <td id=\"T_05e18368_5cc1_11ea_9ecd_701ce71031efrow0_col0\" class=\"data row0 col0\" >10000+</td>\n",
       "                        <td id=\"T_05e18368_5cc1_11ea_9ecd_701ce71031efrow0_col1\" class=\"data row0 col1\" >35437</td>\n",
       "                        <td id=\"T_05e18368_5cc1_11ea_9ecd_701ce71031efrow0_col2\" class=\"data row0 col2\" >15900</td>\n",
       "                        <td id=\"T_05e18368_5cc1_11ea_9ecd_701ce71031efrow0_col3\" class=\"data row0 col3\" >35000</td>\n",
       "                        <td id=\"T_05e18368_5cc1_11ea_9ecd_701ce71031efrow0_col4\" class=\"data row0 col4\" >57842</td>\n",
       "                        <td id=\"T_05e18368_5cc1_11ea_9ecd_701ce71031efrow0_col5\" class=\"data row0 col5\" >354</td>\n",
       "                        <td id=\"T_05e18368_5cc1_11ea_9ecd_701ce71031efrow0_col6\" class=\"data row0 col6\" >12.69%</td>\n",
       "            </tr>\n",
       "            <tr>\n",
       "                                <td id=\"T_05e18368_5cc1_11ea_9ecd_701ce71031efrow1_col0\" class=\"data row1 col0\" >500-1000</td>\n",
       "                        <td id=\"T_05e18368_5cc1_11ea_9ecd_701ce71031efrow1_col1\" class=\"data row1 col1\" >22497</td>\n",
       "                        <td id=\"T_05e18368_5cc1_11ea_9ecd_701ce71031efrow1_col2\" class=\"data row1 col2\" >5596</td>\n",
       "                        <td id=\"T_05e18368_5cc1_11ea_9ecd_701ce71031efrow1_col3\" class=\"data row1 col3\" >20000</td>\n",
       "                        <td id=\"T_05e18368_5cc1_11ea_9ecd_701ce71031efrow1_col4\" class=\"data row1 col4\" >60075</td>\n",
       "                        <td id=\"T_05e18368_5cc1_11ea_9ecd_701ce71031efrow1_col5\" class=\"data row1 col5\" >297</td>\n",
       "                        <td id=\"T_05e18368_5cc1_11ea_9ecd_701ce71031efrow1_col6\" class=\"data row1 col6\" >10.65%</td>\n",
       "            </tr>\n",
       "            <tr>\n",
       "                                <td id=\"T_05e18368_5cc1_11ea_9ecd_701ce71031efrow2_col0\" class=\"data row2 col0\" >1000-5000</td>\n",
       "                        <td id=\"T_05e18368_5cc1_11ea_9ecd_701ce71031efrow2_col1\" class=\"data row2 col1\" >21880</td>\n",
       "                        <td id=\"T_05e18368_5cc1_11ea_9ecd_701ce71031efrow2_col2\" class=\"data row2 col2\" >7279</td>\n",
       "                        <td id=\"T_05e18368_5cc1_11ea_9ecd_701ce71031efrow2_col3\" class=\"data row2 col3\" >20833</td>\n",
       "                        <td id=\"T_05e18368_5cc1_11ea_9ecd_701ce71031efrow2_col4\" class=\"data row2 col4\" >45000</td>\n",
       "                        <td id=\"T_05e18368_5cc1_11ea_9ecd_701ce71031efrow2_col5\" class=\"data row2 col5\" >438</td>\n",
       "                        <td id=\"T_05e18368_5cc1_11ea_9ecd_701ce71031efrow2_col6\" class=\"data row2 col6\" >15.70%</td>\n",
       "            </tr>\n",
       "            <tr>\n",
       "                                <td id=\"T_05e18368_5cc1_11ea_9ecd_701ce71031efrow3_col0\" class=\"data row3 col0\" >150-500</td>\n",
       "                        <td id=\"T_05e18368_5cc1_11ea_9ecd_701ce71031efrow3_col1\" class=\"data row3 col1\" >21742</td>\n",
       "                        <td id=\"T_05e18368_5cc1_11ea_9ecd_701ce71031efrow3_col2\" class=\"data row3 col2\" >6650</td>\n",
       "                        <td id=\"T_05e18368_5cc1_11ea_9ecd_701ce71031efrow3_col3\" class=\"data row3 col3\" >20000</td>\n",
       "                        <td id=\"T_05e18368_5cc1_11ea_9ecd_701ce71031efrow3_col4\" class=\"data row3 col4\" >50625</td>\n",
       "                        <td id=\"T_05e18368_5cc1_11ea_9ecd_701ce71031efrow3_col5\" class=\"data row3 col5\" >639</td>\n",
       "                        <td id=\"T_05e18368_5cc1_11ea_9ecd_701ce71031efrow3_col6\" class=\"data row3 col6\" >22.90%</td>\n",
       "            </tr>\n",
       "            <tr>\n",
       "                                <td id=\"T_05e18368_5cc1_11ea_9ecd_701ce71031efrow4_col0\" class=\"data row4 col0\" >5000-10000</td>\n",
       "                        <td id=\"T_05e18368_5cc1_11ea_9ecd_701ce71031efrow4_col1\" class=\"data row4 col1\" >21673</td>\n",
       "                        <td id=\"T_05e18368_5cc1_11ea_9ecd_701ce71031efrow4_col2\" class=\"data row4 col2\" >5250</td>\n",
       "                        <td id=\"T_05e18368_5cc1_11ea_9ecd_701ce71031efrow4_col3\" class=\"data row4 col3\" >15000</td>\n",
       "                        <td id=\"T_05e18368_5cc1_11ea_9ecd_701ce71031efrow4_col4\" class=\"data row4 col4\" >39344</td>\n",
       "                        <td id=\"T_05e18368_5cc1_11ea_9ecd_701ce71031efrow4_col5\" class=\"data row4 col5\" >61</td>\n",
       "                        <td id=\"T_05e18368_5cc1_11ea_9ecd_701ce71031efrow4_col6\" class=\"data row4 col6\" >2.19%</td>\n",
       "            </tr>\n",
       "            <tr>\n",
       "                                <td id=\"T_05e18368_5cc1_11ea_9ecd_701ce71031efrow5_col0\" class=\"data row5 col0\" >50-</td>\n",
       "                        <td id=\"T_05e18368_5cc1_11ea_9ecd_701ce71031efrow5_col1\" class=\"data row5 col1\" >20434</td>\n",
       "                        <td id=\"T_05e18368_5cc1_11ea_9ecd_701ce71031efrow5_col2\" class=\"data row5 col2\" >4650</td>\n",
       "                        <td id=\"T_05e18368_5cc1_11ea_9ecd_701ce71031efrow5_col3\" class=\"data row5 col3\" >15500</td>\n",
       "                        <td id=\"T_05e18368_5cc1_11ea_9ecd_701ce71031efrow5_col4\" class=\"data row5 col4\" >61643</td>\n",
       "                        <td id=\"T_05e18368_5cc1_11ea_9ecd_701ce71031efrow5_col5\" class=\"data row5 col5\" >348</td>\n",
       "                        <td id=\"T_05e18368_5cc1_11ea_9ecd_701ce71031efrow5_col6\" class=\"data row5 col6\" >12.47%</td>\n",
       "            </tr>\n",
       "            <tr>\n",
       "                                <td id=\"T_05e18368_5cc1_11ea_9ecd_701ce71031efrow6_col0\" class=\"data row6 col0\" >50-150</td>\n",
       "                        <td id=\"T_05e18368_5cc1_11ea_9ecd_701ce71031efrow6_col1\" class=\"data row6 col1\" >18423</td>\n",
       "                        <td id=\"T_05e18368_5cc1_11ea_9ecd_701ce71031efrow6_col2\" class=\"data row6 col2\" >5081</td>\n",
       "                        <td id=\"T_05e18368_5cc1_11ea_9ecd_701ce71031efrow6_col3\" class=\"data row6 col3\" >17500</td>\n",
       "                        <td id=\"T_05e18368_5cc1_11ea_9ecd_701ce71031efrow6_col4\" class=\"data row6 col4\" >40000</td>\n",
       "                        <td id=\"T_05e18368_5cc1_11ea_9ecd_701ce71031efrow6_col5\" class=\"data row6 col5\" >638</td>\n",
       "                        <td id=\"T_05e18368_5cc1_11ea_9ecd_701ce71031efrow6_col6\" class=\"data row6 col6\" >22.87%</td>\n",
       "            </tr>\n",
       "            <tr>\n",
       "                                <td id=\"T_05e18368_5cc1_11ea_9ecd_701ce71031efrow7_col0\" class=\"data row7 col0\" ></td>\n",
       "                        <td id=\"T_05e18368_5cc1_11ea_9ecd_701ce71031efrow7_col1\" class=\"data row7 col1\" >12517</td>\n",
       "                        <td id=\"T_05e18368_5cc1_11ea_9ecd_701ce71031efrow7_col2\" class=\"data row7 col2\" >3750</td>\n",
       "                        <td id=\"T_05e18368_5cc1_11ea_9ecd_701ce71031efrow7_col3\" class=\"data row7 col3\" >8000</td>\n",
       "                        <td id=\"T_05e18368_5cc1_11ea_9ecd_701ce71031efrow7_col4\" class=\"data row7 col4\" >55000</td>\n",
       "                        <td id=\"T_05e18368_5cc1_11ea_9ecd_701ce71031efrow7_col5\" class=\"data row7 col5\" >15</td>\n",
       "                        <td id=\"T_05e18368_5cc1_11ea_9ecd_701ce71031efrow7_col6\" class=\"data row7 col6\" >0.54%</td>\n",
       "            </tr>\n",
       "    </tbody></table>"
      ],
      "text/plain": [
       "<pandas.io.formats.style.Styler at 0x1923498b248>"
      ]
     },
     "execution_count": 322,
     "metadata": {},
     "output_type": "execute_result"
    }
   ],
   "source": [
    "data_company_size=get_sub_stats_by_col(data,'company_size')\n",
    "apply_style(data_company_size)"
   ]
  },
  {
   "cell_type": "markdown",
   "metadata": {},
   "source": [
    "公司越大，工资越高"
   ]
  },
  {
   "cell_type": "markdown",
   "metadata": {},
   "source": [
    "## 行业 Industry"
   ]
  },
  {
   "cell_type": "code",
   "execution_count": 323,
   "metadata": {},
   "outputs": [
    {
     "data": {
      "text/html": [
       "<style  type=\"text/css\" >\n",
       "</style><table id=\"T_06fe32a2_5cc1_11ea_9af0_701ce71031ef\" ><thead>    <tr>        <th class=\"col_heading level0 col0\" >industry</th>        <th class=\"col_heading level0 col1\" >salary_mean</th>        <th class=\"col_heading level0 col2\" >salary_95_min</th>        <th class=\"col_heading level0 col3\" >salary_median</th>        <th class=\"col_heading level0 col4\" >salary_95_max</th>        <th class=\"col_heading level0 col5\" >head_count</th>        <th class=\"col_heading level0 col6\" >percentage</th>    </tr></thead><tbody>\n",
       "                <tr>\n",
       "                                <td id=\"T_06fe32a2_5cc1_11ea_9af0_701ce71031efrow0_col0\" class=\"data row0 col0\" >logistic</td>\n",
       "                        <td id=\"T_06fe32a2_5cc1_11ea_9af0_701ce71031efrow0_col1\" class=\"data row0 col1\" >32963</td>\n",
       "                        <td id=\"T_06fe32a2_5cc1_11ea_9af0_701ce71031efrow0_col2\" class=\"data row0 col2\" >8225</td>\n",
       "                        <td id=\"T_06fe32a2_5cc1_11ea_9af0_701ce71031efrow0_col3\" class=\"data row0 col3\" >36000</td>\n",
       "                        <td id=\"T_06fe32a2_5cc1_11ea_9af0_701ce71031efrow0_col4\" class=\"data row0 col4\" >54000</td>\n",
       "                        <td id=\"T_06fe32a2_5cc1_11ea_9af0_701ce71031efrow0_col5\" class=\"data row0 col5\" >47</td>\n",
       "                        <td id=\"T_06fe32a2_5cc1_11ea_9af0_701ce71031efrow0_col6\" class=\"data row0 col6\" >1.68%</td>\n",
       "            </tr>\n",
       "            <tr>\n",
       "                                <td id=\"T_06fe32a2_5cc1_11ea_9af0_701ce71031efrow1_col0\" class=\"data row1 col0\" >finance</td>\n",
       "                        <td id=\"T_06fe32a2_5cc1_11ea_9af0_701ce71031efrow1_col1\" class=\"data row1 col1\" >27314</td>\n",
       "                        <td id=\"T_06fe32a2_5cc1_11ea_9af0_701ce71031efrow1_col2\" class=\"data row1 col2\" >6425</td>\n",
       "                        <td id=\"T_06fe32a2_5cc1_11ea_9af0_701ce71031efrow1_col3\" class=\"data row1 col3\" >26429</td>\n",
       "                        <td id=\"T_06fe32a2_5cc1_11ea_9af0_701ce71031efrow1_col4\" class=\"data row1 col4\" >71296</td>\n",
       "                        <td id=\"T_06fe32a2_5cc1_11ea_9af0_701ce71031efrow1_col5\" class=\"data row1 col5\" >117</td>\n",
       "                        <td id=\"T_06fe32a2_5cc1_11ea_9af0_701ce71031efrow1_col6\" class=\"data row1 col6\" >4.19%</td>\n",
       "            </tr>\n",
       "            <tr>\n",
       "                                <td id=\"T_06fe32a2_5cc1_11ea_9af0_701ce71031efrow2_col0\" class=\"data row2 col0\" >computer</td>\n",
       "                        <td id=\"T_06fe32a2_5cc1_11ea_9af0_701ce71031efrow2_col1\" class=\"data row2 col1\" >23206</td>\n",
       "                        <td id=\"T_06fe32a2_5cc1_11ea_9af0_701ce71031efrow2_col2\" class=\"data row2 col2\" >5250</td>\n",
       "                        <td id=\"T_06fe32a2_5cc1_11ea_9af0_701ce71031efrow2_col3\" class=\"data row2 col3\" >22500</td>\n",
       "                        <td id=\"T_06fe32a2_5cc1_11ea_9af0_701ce71031efrow2_col4\" class=\"data row2 col4\" >48250</td>\n",
       "                        <td id=\"T_06fe32a2_5cc1_11ea_9af0_701ce71031efrow2_col5\" class=\"data row2 col5\" >2080</td>\n",
       "                        <td id=\"T_06fe32a2_5cc1_11ea_9af0_701ce71031efrow2_col6\" class=\"data row2 col6\" >74.55%</td>\n",
       "            </tr>\n",
       "            <tr>\n",
       "                                <td id=\"T_06fe32a2_5cc1_11ea_9af0_701ce71031efrow3_col0\" class=\"data row3 col0\" >edu</td>\n",
       "                        <td id=\"T_06fe32a2_5cc1_11ea_9af0_701ce71031efrow3_col1\" class=\"data row3 col1\" >22672</td>\n",
       "                        <td id=\"T_06fe32a2_5cc1_11ea_9af0_701ce71031efrow3_col2\" class=\"data row3 col2\" >5250</td>\n",
       "                        <td id=\"T_06fe32a2_5cc1_11ea_9af0_701ce71031efrow3_col3\" class=\"data row3 col3\" >20000</td>\n",
       "                        <td id=\"T_06fe32a2_5cc1_11ea_9af0_701ce71031efrow3_col4\" class=\"data row3 col4\" >61143</td>\n",
       "                        <td id=\"T_06fe32a2_5cc1_11ea_9af0_701ce71031efrow3_col5\" class=\"data row3 col5\" >176</td>\n",
       "                        <td id=\"T_06fe32a2_5cc1_11ea_9af0_701ce71031efrow3_col6\" class=\"data row3 col6\" >6.31%</td>\n",
       "            </tr>\n",
       "            <tr>\n",
       "                                <td id=\"T_06fe32a2_5cc1_11ea_9af0_701ce71031efrow4_col0\" class=\"data row4 col0\" >gov</td>\n",
       "                        <td id=\"T_06fe32a2_5cc1_11ea_9af0_701ce71031efrow4_col1\" class=\"data row4 col1\" >22320</td>\n",
       "                        <td id=\"T_06fe32a2_5cc1_11ea_9af0_701ce71031efrow4_col2\" class=\"data row4 col2\" >11500</td>\n",
       "                        <td id=\"T_06fe32a2_5cc1_11ea_9af0_701ce71031efrow4_col3\" class=\"data row4 col3\" >18333</td>\n",
       "                        <td id=\"T_06fe32a2_5cc1_11ea_9af0_701ce71031efrow4_col4\" class=\"data row4 col4\" >37500</td>\n",
       "                        <td id=\"T_06fe32a2_5cc1_11ea_9af0_701ce71031efrow4_col5\" class=\"data row4 col5\" >25</td>\n",
       "                        <td id=\"T_06fe32a2_5cc1_11ea_9af0_701ce71031efrow4_col6\" class=\"data row4 col6\" >0.90%</td>\n",
       "            </tr>\n",
       "            <tr>\n",
       "                                <td id=\"T_06fe32a2_5cc1_11ea_9af0_701ce71031efrow5_col0\" class=\"data row5 col0\" >medical</td>\n",
       "                        <td id=\"T_06fe32a2_5cc1_11ea_9af0_701ce71031efrow5_col1\" class=\"data row5 col1\" >19405</td>\n",
       "                        <td id=\"T_06fe32a2_5cc1_11ea_9af0_701ce71031efrow5_col2\" class=\"data row5 col2\" >5533</td>\n",
       "                        <td id=\"T_06fe32a2_5cc1_11ea_9af0_701ce71031efrow5_col3\" class=\"data row5 col3\" >17500</td>\n",
       "                        <td id=\"T_06fe32a2_5cc1_11ea_9af0_701ce71031efrow5_col4\" class=\"data row5 col4\" >50333</td>\n",
       "                        <td id=\"T_06fe32a2_5cc1_11ea_9af0_701ce71031efrow5_col5\" class=\"data row5 col5\" >56</td>\n",
       "                        <td id=\"T_06fe32a2_5cc1_11ea_9af0_701ce71031efrow5_col6\" class=\"data row5 col6\" >2.01%</td>\n",
       "            </tr>\n",
       "            <tr>\n",
       "                                <td id=\"T_06fe32a2_5cc1_11ea_9af0_701ce71031efrow6_col0\" class=\"data row6 col0\" >energy</td>\n",
       "                        <td id=\"T_06fe32a2_5cc1_11ea_9af0_701ce71031efrow6_col1\" class=\"data row6 col1\" >19385</td>\n",
       "                        <td id=\"T_06fe32a2_5cc1_11ea_9af0_701ce71031efrow6_col2\" class=\"data row6 col2\" >10416</td>\n",
       "                        <td id=\"T_06fe32a2_5cc1_11ea_9af0_701ce71031efrow6_col3\" class=\"data row6 col3\" >17917</td>\n",
       "                        <td id=\"T_06fe32a2_5cc1_11ea_9af0_701ce71031efrow6_col4\" class=\"data row6 col4\" >37500</td>\n",
       "                        <td id=\"T_06fe32a2_5cc1_11ea_9af0_701ce71031efrow6_col5\" class=\"data row6 col5\" >28</td>\n",
       "                        <td id=\"T_06fe32a2_5cc1_11ea_9af0_701ce71031efrow6_col6\" class=\"data row6 col6\" >1.00%</td>\n",
       "            </tr>\n",
       "            <tr>\n",
       "                                <td id=\"T_06fe32a2_5cc1_11ea_9af0_701ce71031efrow7_col0\" class=\"data row7 col0\" >trade</td>\n",
       "                        <td id=\"T_06fe32a2_5cc1_11ea_9af0_701ce71031efrow7_col1\" class=\"data row7 col1\" >16365</td>\n",
       "                        <td id=\"T_06fe32a2_5cc1_11ea_9af0_701ce71031efrow7_col2\" class=\"data row7 col2\" >6446</td>\n",
       "                        <td id=\"T_06fe32a2_5cc1_11ea_9af0_701ce71031efrow7_col3\" class=\"data row7 col3\" >12500</td>\n",
       "                        <td id=\"T_06fe32a2_5cc1_11ea_9af0_701ce71031efrow7_col4\" class=\"data row7 col4\" >37500</td>\n",
       "                        <td id=\"T_06fe32a2_5cc1_11ea_9af0_701ce71031efrow7_col5\" class=\"data row7 col5\" >165</td>\n",
       "                        <td id=\"T_06fe32a2_5cc1_11ea_9af0_701ce71031efrow7_col6\" class=\"data row7 col6\" >5.91%</td>\n",
       "            </tr>\n",
       "            <tr>\n",
       "                                <td id=\"T_06fe32a2_5cc1_11ea_9af0_701ce71031efrow8_col0\" class=\"data row8 col0\" >service</td>\n",
       "                        <td id=\"T_06fe32a2_5cc1_11ea_9af0_701ce71031efrow8_col1\" class=\"data row8 col1\" >13182</td>\n",
       "                        <td id=\"T_06fe32a2_5cc1_11ea_9af0_701ce71031efrow8_col2\" class=\"data row8 col2\" >12500</td>\n",
       "                        <td id=\"T_06fe32a2_5cc1_11ea_9af0_701ce71031efrow8_col3\" class=\"data row8 col3\" >12812</td>\n",
       "                        <td id=\"T_06fe32a2_5cc1_11ea_9af0_701ce71031efrow8_col4\" class=\"data row8 col4\" >25937</td>\n",
       "                        <td id=\"T_06fe32a2_5cc1_11ea_9af0_701ce71031efrow8_col5\" class=\"data row8 col5\" >33</td>\n",
       "                        <td id=\"T_06fe32a2_5cc1_11ea_9af0_701ce71031efrow8_col6\" class=\"data row8 col6\" >1.18%</td>\n",
       "            </tr>\n",
       "            <tr>\n",
       "                                <td id=\"T_06fe32a2_5cc1_11ea_9af0_701ce71031efrow9_col0\" class=\"data row9 col0\" >ads</td>\n",
       "                        <td id=\"T_06fe32a2_5cc1_11ea_9af0_701ce71031efrow9_col1\" class=\"data row9 col1\" >12244</td>\n",
       "                        <td id=\"T_06fe32a2_5cc1_11ea_9af0_701ce71031efrow9_col2\" class=\"data row9 col2\" >7000</td>\n",
       "                        <td id=\"T_06fe32a2_5cc1_11ea_9af0_701ce71031efrow9_col3\" class=\"data row9 col3\" >7000</td>\n",
       "                        <td id=\"T_06fe32a2_5cc1_11ea_9af0_701ce71031efrow9_col4\" class=\"data row9 col4\" >38750</td>\n",
       "                        <td id=\"T_06fe32a2_5cc1_11ea_9af0_701ce71031efrow9_col5\" class=\"data row9 col5\" >45</td>\n",
       "                        <td id=\"T_06fe32a2_5cc1_11ea_9af0_701ce71031efrow9_col6\" class=\"data row9 col6\" >1.61%</td>\n",
       "            </tr>\n",
       "            <tr>\n",
       "                                <td id=\"T_06fe32a2_5cc1_11ea_9af0_701ce71031efrow10_col0\" class=\"data row10 col0\" >realestate</td>\n",
       "                        <td id=\"T_06fe32a2_5cc1_11ea_9af0_701ce71031efrow10_col1\" class=\"data row10 col1\" >11111</td>\n",
       "                        <td id=\"T_06fe32a2_5cc1_11ea_9af0_701ce71031efrow10_col2\" class=\"data row10 col2\" >7000</td>\n",
       "                        <td id=\"T_06fe32a2_5cc1_11ea_9af0_701ce71031efrow10_col3\" class=\"data row10 col3\" >8438</td>\n",
       "                        <td id=\"T_06fe32a2_5cc1_11ea_9af0_701ce71031efrow10_col4\" class=\"data row10 col4\" >25000</td>\n",
       "                        <td id=\"T_06fe32a2_5cc1_11ea_9af0_701ce71031efrow10_col5\" class=\"data row10 col5\" >18</td>\n",
       "                        <td id=\"T_06fe32a2_5cc1_11ea_9af0_701ce71031efrow10_col6\" class=\"data row10 col6\" >0.65%</td>\n",
       "            </tr>\n",
       "    </tbody></table>"
      ],
      "text/plain": [
       "<pandas.io.formats.style.Styler at 0x192347f29c8>"
      ]
     },
     "execution_count": 323,
     "metadata": {},
     "output_type": "execute_result"
    }
   ],
   "source": [
    "data_industry=get_sub_stats_by_col(data,'industry')\n",
    "apply_style(data_industry)"
   ]
  },
  {
   "cell_type": "code",
   "execution_count": null,
   "metadata": {},
   "outputs": [],
   "source": []
  },
  {
   "cell_type": "code",
   "execution_count": null,
   "metadata": {},
   "outputs": [],
   "source": []
  }
 ],
 "metadata": {
  "kernelspec": {
   "display_name": "Python 3",
   "language": "python",
   "name": "python3"
  },
  "language_info": {
   "codemirror_mode": {
    "name": "ipython",
    "version": 3
   },
   "file_extension": ".py",
   "mimetype": "text/x-python",
   "name": "python",
   "nbconvert_exporter": "python",
   "pygments_lexer": "ipython3",
   "version": "3.7.4"
  }
 },
 "nbformat": 4,
 "nbformat_minor": 2
}
