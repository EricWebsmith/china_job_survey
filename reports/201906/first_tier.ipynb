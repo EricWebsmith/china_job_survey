{
 "cells": [
  {
   "cell_type": "code",
   "execution_count": 1,
   "metadata": {},
   "outputs": [],
   "source": [
    "year=2019\n",
    "month=6"
   ]
  },
  {
   "cell_type": "markdown",
   "metadata": {},
   "source": [
    "# Developer Salary in First-Tier Cities 程序员工资调查\n",
    "我在4月1日到3日之间，抓取了某招聘网站的软件和互联网类招聘数据40万条，其中通过程序判断为程序员的14万条。地域方面，我选择了24个主要城市。不过本文只以一线城市为研究对象。这样是为了和我2017年6月的数据做对比。\n",
    "\n",
    "提到2017年的文章，现在居然还有很多人，把这篇文章拿出来炒作。对于社会来说，可气的是，他们直接把2017改成2019，就发表了，这不是骗人么？！对于我来说，可气的是，他们转载居然还冒充是原创，是可忍熟不可忍！"
   ]
  },
  {
   "cell_type": "code",
   "execution_count": 2,
   "metadata": {},
   "outputs": [],
   "source": [
    "import pandas as pd\n",
    "import sys\n",
    "sys.path.append('..')\n",
    "sys.path.append('../py')\n",
    "sys.path.append('../../py')\n",
    "import db\n",
    "import inspect\n",
    "import matplotlib.pyplot as plt\n",
    "plt.rcParams['font.sans-serif']=['SimHei'] #用来正常显示中文标签\n",
    "plt.rcParams['axes.unicode_minus']=False #用来正常显示负号\n",
    "import seaborn as sns\n",
    "import scipy.stats as stats\n",
    "import numpy as np\n",
    "import weighted\n",
    "%matplotlib inline"
   ]
  },
  {
   "cell_type": "code",
   "execution_count": 3,
   "metadata": {},
   "outputs": [],
   "source": [
    "conn=db.get_conn()\n",
    "data_original=pd.read_sql(sql=f\"select * from _{year}{month:02} where monthly_salary>0 and monthly_salary<80000 and city in ('北京','上海','广州','深圳')  and monthly_salary<80000 and YEAR(publish_date)={year}\", con=conn)\n",
    "conn.close()"
   ]
  },
  {
   "cell_type": "code",
   "execution_count": 4,
   "metadata": {},
   "outputs": [],
   "source": [
    "error_job_ids=['104660258','104142922','108434795','101357291','106253516','110368302','111391233','108665401','109277048'\n",
    "                  ,'73857191','108584955','102824950','102824949','111391233','110884556']\n",
    "data=data_original[~data_original.job_id.isin(error_job_ids)]"
   ]
  },
  {
   "cell_type": "code",
   "execution_count": 5,
   "metadata": {},
   "outputs": [],
   "source": [
    "#del data['publish_date']\n",
    "#del data['published_on_weekend']\n",
    "#del data['title']\n",
    "#del data['title']\n",
    "#del data['company_title']\n",
    "#del data['company_description']\n",
    "#del data['job_description']\n",
    "#del data['job_id']"
   ]
  },
  {
   "cell_type": "code",
   "execution_count": null,
   "metadata": {},
   "outputs": [],
   "source": []
  },
  {
   "cell_type": "code",
   "execution_count": 7,
   "metadata": {},
   "outputs": [],
   "source": [
    "def pd_weighted_mean(group, avg_name, weight_name):\n",
    "    \"\"\" http://stackoverflow.com/questions/10951341/pandas-dataframe-aggregate-function-using-multiple-columns\n",
    "    In rare instance, we may not have weights, so just return the mean. Customize this if your business case\n",
    "    should return otherwise.\n",
    "    \"\"\"\n",
    "    d = group[avg_name]\n",
    "    w = group[weight_name]\n",
    "    try:\n",
    "        return (d * w).sum() / w.sum()\n",
    "    except ZeroDivisionError:\n",
    "        return d.mean()\n"
   ]
  },
  {
   "cell_type": "markdown",
   "metadata": {},
   "source": [
    "# Unilateral Stats 总体统计"
   ]
  },
  {
   "cell_type": "markdown",
   "metadata": {},
   "source": [
    "有数据可知，程序员向一线城市集中的趋势非常明显。\n",
    "\n",
    "According to the statistics, significant amount of developers are in the first tier cities."
   ]
  },
  {
   "cell_type": "code",
   "execution_count": 8,
   "metadata": {},
   "outputs": [
    {
     "data": {
      "text/plain": [
       "(48069, 94)"
      ]
     },
     "execution_count": 8,
     "metadata": {},
     "output_type": "execute_result"
    }
   ],
   "source": [
    "data.shape"
   ]
  },
  {
   "cell_type": "code",
   "execution_count": 9,
   "metadata": {},
   "outputs": [
    {
     "data": {
      "text/plain": [
       "150520"
      ]
     },
     "execution_count": 9,
     "metadata": {},
     "output_type": "execute_result"
    }
   ],
   "source": [
    "data.headcount.sum()"
   ]
  },
  {
   "cell_type": "code",
   "execution_count": 10,
   "metadata": {},
   "outputs": [
    {
     "data": {
      "text/plain": [
       "array([ 4500.        , 10499.28571429, 13500.        , 19000.        ,\n",
       "       37500.        ])"
      ]
     },
     "execution_count": 10,
     "metadata": {},
     "output_type": "execute_result"
    }
   ],
   "source": [
    "salary_mean=weighted.weighted_mean(data.monthly_salary.values, data.headcount.values)\n",
    "q=weighted.weighted_quantile(data.monthly_salary.values,[0.025,0.25,0.5,0.75,0.975], data.headcount.values)\n",
    "q"
   ]
  },
  {
   "cell_type": "code",
   "execution_count": 11,
   "metadata": {},
   "outputs": [
    {
     "name": "stdout",
     "output_type": "stream",
     "text": [
      "2019年6月中国一线城市程序员的平均工资为15671元，工资中位数为13500元，其中95%的人的工资位于4500到37500元之间。\n"
     ]
    }
   ],
   "source": [
    "print(f'{year}年{month}月中国一线城市程序员的平均工资为{salary_mean:.0f}元，工资中位数为{q[2]:.0f}元，其中95%的人的工资位于{q[0]:.0f}到{q[4]:.0f}元之间。')"
   ]
  },
  {
   "cell_type": "code",
   "execution_count": 12,
   "metadata": {},
   "outputs": [
    {
     "name": "stdout",
     "output_type": "stream",
     "text": [
      "In 2019, Developers in China earn 15671 Yuan as average, the median is 13500 Yuan, 95% of them earn between 4500 and 37500 Yuan.\n"
     ]
    }
   ],
   "source": [
    "print(f'In {year}, Developers in China earn {salary_mean:.0f} Yuan as average, '\n",
    "      f'the median is {q[2]:.0f} Yuan, 95% of them earn between {q[0]:.0f} and {q[4]:.0f} Yuan.')"
   ]
  },
  {
   "cell_type": "code",
   "execution_count": 13,
   "metadata": {},
   "outputs": [
    {
     "data": {
      "text/plain": [
       "<matplotlib.axes._subplots.AxesSubplot at 0x1e4898c0408>"
      ]
     },
     "execution_count": 13,
     "metadata": {},
     "output_type": "execute_result"
    },
    {
     "data": {
      "image/png": "[encoded data removed]",
      "text/plain": [
       "<Figure size 432x288 with 1 Axes>"
      ]
     },
     "metadata": {
      "needs_background": "light"
     },
     "output_type": "display_data"
    }
   ],
   "source": [
    "data.monthly_salary.hist()"
   ]
  },
  {
   "cell_type": "markdown",
   "metadata": {},
   "source": [
    "It does not look like normal distribution."
   ]
  },
  {
   "cell_type": "code",
   "execution_count": 14,
   "metadata": {},
   "outputs": [],
   "source": [
    "from scipy import stats"
   ]
  },
  {
   "cell_type": "code",
   "execution_count": 15,
   "metadata": {},
   "outputs": [
    {
     "data": {
      "text/plain": [
       "NormaltestResult(statistic=16161.56545740752, pvalue=0.0)"
      ]
     },
     "execution_count": 15,
     "metadata": {},
     "output_type": "execute_result"
    }
   ],
   "source": [
    "stats.normaltest(data.monthly_salary)"
   ]
  },
  {
   "cell_type": "markdown",
   "metadata": {},
   "source": [
    "null hypothesis: x comes from a normal distribution\n",
    "    \n",
    "p=0\n",
    "\n",
    "The null hypothesis can be rejected\n",
    "\n",
    "conclusion: data is not normally distributed."
   ]
  },
  {
   "cell_type": "markdown",
   "metadata": {},
   "source": [
    "Zoom in"
   ]
  },
  {
   "cell_type": "code",
   "execution_count": 16,
   "metadata": {},
   "outputs": [
    {
     "data": {
      "image/png": "[encoded data removed]",
      "text/plain": [
       "<Figure size 432x288 with 1 Axes>"
      ]
     },
     "metadata": {
      "needs_background": "light"
     },
     "output_type": "display_data"
    }
   ],
   "source": [
    "data[data.monthly_salary<40000].monthly_salary.hist()\n",
    "plt.annotate('https://github.com/juwikuang/job_survey', xy=(0,0), xytext=(2000, 100), color='white')\n",
    "plt.show()"
   ]
  },
  {
   "cell_type": "markdown",
   "metadata": {},
   "source": [
    "## Role 角色"
   ]
  },
  {
   "cell_type": "code",
   "execution_count": 17,
   "metadata": {},
   "outputs": [],
   "source": [
    "#Common Functions\n",
    "def get_sub_stats_by_col(data, col):\n",
    "    categories=data[col].unique()\n",
    "    salary_mean=[]\n",
    "    salary_95_min=[]\n",
    "    salary_95_max=[]\n",
    "    salary_median=[]\n",
    "    \n",
    "\n",
    "    count=[]\n",
    "    \n",
    "    categorys_out=[]\n",
    "    for category in categories:\n",
    "        #print(feature)\n",
    "        idata=data[data[col]==category]\n",
    "        headcount=idata.headcount.sum()\n",
    "        values = idata.monthly_salary.values\n",
    "        weights = idata.headcount.values\n",
    "        #print(str(headcount))\n",
    "        if headcount==0:\n",
    "            continue\n",
    "        \n",
    "        salary_mean.append(np.average(values, weights=weights))\n",
    "        \n",
    "\n",
    "        q = weighted.weighted_quantile(values,[0.025,0.5,0.975],weights)\n",
    "        salary_95_min.append(q[0])\n",
    "        salary_median.append(q[1])\n",
    "        salary_95_max.append(q[2])\n",
    "        count.append(idata.headcount.sum())\n",
    "        categorys_out.append(category)\n",
    "    sub_data=pd.DataFrame()\n",
    "    sub_data[col]=[c for c in categorys_out]\n",
    "    sub_data['salary_mean']=salary_mean\n",
    "    sub_data['salary_95_min']=salary_95_min\n",
    "    sub_data['salary_median']=salary_median\n",
    "    sub_data['salary_95_max']=salary_95_max\n",
    "    sub_data['head_count']=count\n",
    "    sub_data['percentage']=count/np.sum(count)\n",
    "    sub_data=sub_data.sort_values(by='salary_mean', ascending=False)\n",
    "\n",
    "    return sub_data\n",
    "\n",
    "def get_sub_stats_by_prefix(data, prefix):\n",
    "    \n",
    "    features = [feature for feature in data.columns if feature.startswith(prefix)]\n",
    "    salary_mean=[]\n",
    "    salary_median=[]\n",
    "    salary_95_min=[]\n",
    "    salary_95_max=[]\n",
    "    count=[]\n",
    "    \n",
    "    features_out=[]\n",
    "    for feature in features:\n",
    "        #print(feature)\n",
    "        idata=data[data[feature]==1]\n",
    "        headcount=idata.headcount.sum()\n",
    "        values = idata.monthly_salary.values\n",
    "        weights = idata.headcount.values\n",
    "        #print(str(headcount))\n",
    "        if headcount==0:\n",
    "            continue\n",
    "        \n",
    "        salary_mean.append(weighted.weighted_mean(values, weights))\n",
    "        q = weighted.weighted_quantile(values,[0.025,0.5,0.975],weights)\n",
    "        salary_median.append(q[1])\n",
    "        salary_95_min.append(q[0])\n",
    "        salary_95_max.append(q[2])\n",
    "        count.append(idata.headcount.sum())\n",
    "        features_out.append(feature)\n",
    "    sub_data=pd.DataFrame()\n",
    "    sub_data['rank']=range(0,len(features_out))\n",
    "    sub_data[prefix]=[f.replace(prefix,'') for f in features_out]\n",
    "    sub_data['salary_mean']=salary_mean\n",
    "    sub_data['salary_median']=salary_median\n",
    "    sub_data['salary_95_min']=salary_95_min\n",
    "    sub_data['salary_95_max']=salary_95_max\n",
    "    sub_data['head_count']=count\n",
    "    sub_data['percentage']=count/np.sum(count)\n",
    "    sub_data=sub_data.sort_values(by='salary_mean', ascending=False)\n",
    "    sub_data['rank']=range(1,len(features_out)+1)\n",
    "    #sub_data=sub_data.reset_index()\n",
    "    return sub_data\n",
    "\n",
    "def apply_style(sub_data):\n",
    "    return sub_data.style.hide_index().format(\n",
    "    {\"salary_mean\":\"{:.0f}\",\"salary_median\":\"{:.0f}\",\"salary_95_min\":\"{:.0f}\",\"salary_95_max\":\"{:.0f}\",\"percentage\":\"{:.2%}\"})"
   ]
  },
  {
   "cell_type": "code",
   "execution_count": 18,
   "metadata": {},
   "outputs": [
    {
     "data": {
      "text/html": [
       "<style  type=\"text/css\" >\n",
       "</style><table id=\"T_ca84a646_2f5d_11ea_ac95_701ce71031ef\" ><thead>    <tr>        <th class=\"blank level0\" ></th>        <th class=\"col_heading level0 col0\" >career</th>        <th class=\"col_heading level0 col1\" >salary_mean</th>        <th class=\"col_heading level0 col2\" >salary_95_min</th>        <th class=\"col_heading level0 col3\" >salary_median</th>        <th class=\"col_heading level0 col4\" >salary_95_max</th>        <th class=\"col_heading level0 col5\" >head_count</th>        <th class=\"col_heading level0 col6\" >percentage</th>    </tr></thead><tbody>\n",
       "                <tr>\n",
       "                        <th id=\"T_ca84a646_2f5d_11ea_ac95_701ce71031eflevel0_row0\" class=\"row_heading level0 row0\" >2</th>\n",
       "                        <td id=\"T_ca84a646_2f5d_11ea_ac95_701ce71031efrow0_col0\" class=\"data row0 col0\" >系统架构师</td>\n",
       "                        <td id=\"T_ca84a646_2f5d_11ea_ac95_701ce71031efrow0_col1\" class=\"data row0 col1\" >24938</td>\n",
       "                        <td id=\"T_ca84a646_2f5d_11ea_ac95_701ce71031efrow0_col2\" class=\"data row0 col2\" >5250</td>\n",
       "                        <td id=\"T_ca84a646_2f5d_11ea_ac95_701ce71031efrow0_col3\" class=\"data row0 col3\" >22500</td>\n",
       "                        <td id=\"T_ca84a646_2f5d_11ea_ac95_701ce71031efrow0_col4\" class=\"data row0 col4\" >52500</td>\n",
       "                        <td id=\"T_ca84a646_2f5d_11ea_ac95_701ce71031efrow0_col5\" class=\"data row0 col5\" >6316</td>\n",
       "                        <td id=\"T_ca84a646_2f5d_11ea_ac95_701ce71031efrow0_col6\" class=\"data row0 col6\" >4.20%</td>\n",
       "            </tr>\n",
       "            <tr>\n",
       "                        <th id=\"T_ca84a646_2f5d_11ea_ac95_701ce71031eflevel0_row1\" class=\"row_heading level0 row1\" >1</th>\n",
       "                        <td id=\"T_ca84a646_2f5d_11ea_ac95_701ce71031efrow1_col0\" class=\"data row1 col0\" >算法工程师</td>\n",
       "                        <td id=\"T_ca84a646_2f5d_11ea_ac95_701ce71031efrow1_col1\" class=\"data row1 col1\" >22686</td>\n",
       "                        <td id=\"T_ca84a646_2f5d_11ea_ac95_701ce71031efrow1_col2\" class=\"data row1 col2\" >6000</td>\n",
       "                        <td id=\"T_ca84a646_2f5d_11ea_ac95_701ce71031efrow1_col3\" class=\"data row1 col3\" >20833</td>\n",
       "                        <td id=\"T_ca84a646_2f5d_11ea_ac95_701ce71031efrow1_col4\" class=\"data row1 col4\" >45833</td>\n",
       "                        <td id=\"T_ca84a646_2f5d_11ea_ac95_701ce71031efrow1_col5\" class=\"data row1 col5\" >13529</td>\n",
       "                        <td id=\"T_ca84a646_2f5d_11ea_ac95_701ce71031efrow1_col6\" class=\"data row1 col6\" >8.99%</td>\n",
       "            </tr>\n",
       "            <tr>\n",
       "                        <th id=\"T_ca84a646_2f5d_11ea_ac95_701ce71031eflevel0_row2\" class=\"row_heading level0 row2\" >3</th>\n",
       "                        <td id=\"T_ca84a646_2f5d_11ea_ac95_701ce71031efrow2_col0\" class=\"data row2 col0\" >爬虫工程师</td>\n",
       "                        <td id=\"T_ca84a646_2f5d_11ea_ac95_701ce71031efrow2_col1\" class=\"data row2 col1\" >16298</td>\n",
       "                        <td id=\"T_ca84a646_2f5d_11ea_ac95_701ce71031efrow2_col2\" class=\"data row2 col2\" >3750</td>\n",
       "                        <td id=\"T_ca84a646_2f5d_11ea_ac95_701ce71031efrow2_col3\" class=\"data row2 col3\" >15000</td>\n",
       "                        <td id=\"T_ca84a646_2f5d_11ea_ac95_701ce71031efrow2_col4\" class=\"data row2 col4\" >37500</td>\n",
       "                        <td id=\"T_ca84a646_2f5d_11ea_ac95_701ce71031efrow2_col5\" class=\"data row2 col5\" >340</td>\n",
       "                        <td id=\"T_ca84a646_2f5d_11ea_ac95_701ce71031efrow2_col6\" class=\"data row2 col6\" >0.23%</td>\n",
       "            </tr>\n",
       "            <tr>\n",
       "                        <th id=\"T_ca84a646_2f5d_11ea_ac95_701ce71031eflevel0_row3\" class=\"row_heading level0 row3\" >0</th>\n",
       "                        <td id=\"T_ca84a646_2f5d_11ea_ac95_701ce71031efrow3_col0\" class=\"data row3 col0\" >一般程序员</td>\n",
       "                        <td id=\"T_ca84a646_2f5d_11ea_ac95_701ce71031efrow3_col1\" class=\"data row3 col1\" >14493</td>\n",
       "                        <td id=\"T_ca84a646_2f5d_11ea_ac95_701ce71031efrow3_col2\" class=\"data row3 col2\" >4500</td>\n",
       "                        <td id=\"T_ca84a646_2f5d_11ea_ac95_701ce71031efrow3_col3\" class=\"data row3 col3\" >12500</td>\n",
       "                        <td id=\"T_ca84a646_2f5d_11ea_ac95_701ce71031efrow3_col4\" class=\"data row3 col4\" >32500</td>\n",
       "                        <td id=\"T_ca84a646_2f5d_11ea_ac95_701ce71031efrow3_col5\" class=\"data row3 col5\" >130285</td>\n",
       "                        <td id=\"T_ca84a646_2f5d_11ea_ac95_701ce71031efrow3_col6\" class=\"data row3 col6\" >86.56%</td>\n",
       "            </tr>\n",
       "            <tr>\n",
       "                        <th id=\"T_ca84a646_2f5d_11ea_ac95_701ce71031eflevel0_row4\" class=\"row_heading level0 row4\" >4</th>\n",
       "                        <td id=\"T_ca84a646_2f5d_11ea_ac95_701ce71031efrow4_col0\" class=\"data row4 col0\" >生物信息工程师</td>\n",
       "                        <td id=\"T_ca84a646_2f5d_11ea_ac95_701ce71031efrow4_col1\" class=\"data row4 col1\" >9820</td>\n",
       "                        <td id=\"T_ca84a646_2f5d_11ea_ac95_701ce71031efrow4_col2\" class=\"data row4 col2\" >4500</td>\n",
       "                        <td id=\"T_ca84a646_2f5d_11ea_ac95_701ce71031efrow4_col3\" class=\"data row4 col3\" >8875</td>\n",
       "                        <td id=\"T_ca84a646_2f5d_11ea_ac95_701ce71031efrow4_col4\" class=\"data row4 col4\" >17187.5</td>\n",
       "                        <td id=\"T_ca84a646_2f5d_11ea_ac95_701ce71031efrow4_col5\" class=\"data row4 col5\" >50</td>\n",
       "                        <td id=\"T_ca84a646_2f5d_11ea_ac95_701ce71031efrow4_col6\" class=\"data row4 col6\" >0.03%</td>\n",
       "            </tr>\n",
       "    </tbody></table>"
      ],
      "text/plain": [
       "<pandas.io.formats.style.Styler at 0x1e487fb7f08>"
      ]
     },
     "execution_count": 18,
     "metadata": {},
     "output_type": "execute_result"
    }
   ],
   "source": [
    "data_career = get_sub_stats_by_col(data,'career')\n",
    "data_career.style.format({\"salary_mean\":\"{:.0f}\",\"salary_median\":\"{:.0f}\",\"percentage\":\"{:.2%}\"})"
   ]
  },
  {
   "cell_type": "code",
   "execution_count": 19,
   "metadata": {},
   "outputs": [
    {
     "data": {
      "text/plain": [
       "15670.540539463194"
      ]
     },
     "execution_count": 19,
     "metadata": {},
     "output_type": "execute_result"
    }
   ],
   "source": [
    "np.sum(data.monthly_salary * data.headcount) / data.headcount.sum()"
   ]
  },
  {
   "cell_type": "code",
   "execution_count": 20,
   "metadata": {},
   "outputs": [
    {
     "data": {
      "text/plain": [
       "150520"
      ]
     },
     "execution_count": 20,
     "metadata": {},
     "output_type": "execute_result"
    }
   ],
   "source": [
    "data.headcount.sum()"
   ]
  },
  {
   "cell_type": "code",
   "execution_count": 21,
   "metadata": {},
   "outputs": [
    {
     "data": {
      "text/plain": [
       "count    48069.000000\n",
       "mean         3.131332\n",
       "std          3.371964\n",
       "min          1.000000\n",
       "25%          1.000000\n",
       "50%          2.000000\n",
       "75%          5.000000\n",
       "max        200.000000\n",
       "Name: headcount, dtype: float64"
      ]
     },
     "execution_count": 21,
     "metadata": {},
     "output_type": "execute_result"
    }
   ],
   "source": [
    "data.headcount.describe()"
   ]
  },
  {
   "cell_type": "code",
   "execution_count": 22,
   "metadata": {},
   "outputs": [
    {
     "data": {
      "text/html": [
       "<div>\n",
       "<style scoped>\n",
       "    .dataframe tbody tr th:only-of-type {\n",
       "        vertical-align: middle;\n",
       "    }\n",
       "\n",
       "    .dataframe tbody tr th {\n",
       "        vertical-align: top;\n",
       "    }\n",
       "\n",
       "    .dataframe thead th {\n",
       "        text-align: right;\n",
       "    }\n",
       "</style>\n",
       "<table border=\"1\" class=\"dataframe\">\n",
       "  <thead>\n",
       "    <tr style=\"text-align: right;\">\n",
       "      <th></th>\n",
       "      <th>job_id</th>\n",
       "      <th>monthly_salary</th>\n",
       "      <th>headcount</th>\n",
       "      <th>title</th>\n",
       "      <th>zhinengleibie</th>\n",
       "      <th>career</th>\n",
       "      <th>real_province</th>\n",
       "      <th>province</th>\n",
       "      <th>city</th>\n",
       "      <th>company_description</th>\n",
       "      <th>company_size</th>\n",
       "      <th>company_title</th>\n",
       "      <th>company_type</th>\n",
       "      <th>page_title</th>\n",
       "      <th>ageism</th>\n",
       "      <th>db_Apache_Hive</th>\n",
       "      <th>db_CouchBase</th>\n",
       "      <th>db_CouchDB</th>\n",
       "      <th>db_DB2</th>\n",
       "      <th>db_DynamoDB</th>\n",
       "      <th>db_Elasticsearch</th>\n",
       "      <th>db_FileMaker</th>\n",
       "      <th>db_Firebase</th>\n",
       "      <th>db_Firebird</th>\n",
       "      <th>db_Hbase</th>\n",
       "      <th>db_Informix</th>\n",
       "      <th>db_Ingres</th>\n",
       "      <th>db_MariaDB</th>\n",
       "      <th>db_Memcached</th>\n",
       "      <th>db_MongoDB</th>\n",
       "      <th>db_MySQL</th>\n",
       "      <th>db_Neo4j</th>\n",
       "      <th>db_Netezza</th>\n",
       "      <th>db_Oracle</th>\n",
       "      <th>db_PostgreSQL</th>\n",
       "      <th>db_Redis</th>\n",
       "      <th>db_Riak</th>\n",
       "      <th>db_SAP_HANA</th>\n",
       "      <th>db_SQL_Server</th>\n",
       "      <th>db_SQLite</th>\n",
       "      <th>db_Solr</th>\n",
       "      <th>db_Splunk</th>\n",
       "      <th>db_Sybase</th>\n",
       "      <th>db_Teradata</th>\n",
       "      <th>db_dBase</th>\n",
       "      <th>edu</th>\n",
       "      <th>english</th>\n",
       "      <th>experience</th>\n",
       "      <th>expert_adas</th>\n",
       "      <th>expert_blockchain</th>\n",
       "      <th>expert_embed</th>\n",
       "      <th>expert_expert</th>\n",
       "      <th>expert_gis</th>\n",
       "      <th>_996_yes</th>\n",
       "      <th>_996_no</th>\n",
       "      <th>industry</th>\n",
       "      <th>japanese</th>\n",
       "      <th>job_description</th>\n",
       "      <th>job_summary</th>\n",
       "      <th>job_tags</th>\n",
       "      <th>phone_android</th>\n",
       "      <th>phone_app</th>\n",
       "      <th>phone_iso</th>\n",
       "      <th>pl_c_sharp</th>\n",
       "      <th>pl_cpp</th>\n",
       "      <th>pl_delphi</th>\n",
       "      <th>pl_go</th>\n",
       "      <th>pl_haskell</th>\n",
       "      <th>pl_java</th>\n",
       "      <th>pl_javascript</th>\n",
       "      <th>pl_julia</th>\n",
       "      <th>pl_kotlin</th>\n",
       "      <th>pl_lua</th>\n",
       "      <th>pl_matlab</th>\n",
       "      <th>pl_objective_c</th>\n",
       "      <th>pl_perl</th>\n",
       "      <th>pl_php</th>\n",
       "      <th>pl_python</th>\n",
       "      <th>pl_ruby</th>\n",
       "      <th>pl_rust</th>\n",
       "      <th>pl_scrala</th>\n",
       "      <th>pl_swift</th>\n",
       "      <th>pl_typescript</th>\n",
       "      <th>pl_vba</th>\n",
       "      <th>pl_visual_basic</th>\n",
       "      <th>publish_date</th>\n",
       "      <th>published_on_weekend</th>\n",
       "      <th>tag_baby_care</th>\n",
       "      <th>tag_five_insurance</th>\n",
       "      <th>tag_flexible</th>\n",
       "      <th>tag_no_overtime</th>\n",
       "      <th>tag_rest_one_day</th>\n",
       "      <th>tag_rest_two_days</th>\n",
       "      <th>tag_stock</th>\n",
       "    </tr>\n",
       "  </thead>\n",
       "  <tbody>\n",
       "    <tr>\n",
       "      <td>40467</td>\n",
       "      <td>75596794</td>\n",
       "      <td>7500</td>\n",
       "      <td>200</td>\n",
       "      <td>JAVA 工程师</td>\n",
       "      <td>软件工程师</td>\n",
       "      <td>一般程序员</td>\n",
       "      <td>None</td>\n",
       "      <td>广东</td>\n",
       "      <td>深圳</td>\n",
       "      <td>四方精创资讯有限公司（简称四方精创），是从事金融行业it综合服务和软件协同服务的高端应用软件...</td>\n",
       "      <td>500-1000</td>\n",
       "      <td>深圳四方精创资讯股份有限公司</td>\n",
       "      <td>合资</td>\n",
       "      <td>【深圳JAVA 工程师_JAVA 工程师招聘_深圳四方精创资讯股份有限公司】-前程无忧官方招聘网站</td>\n",
       "      <td>False</td>\n",
       "      <td>False</td>\n",
       "      <td>False</td>\n",
       "      <td>False</td>\n",
       "      <td>False</td>\n",
       "      <td>False</td>\n",
       "      <td>False</td>\n",
       "      <td>False</td>\n",
       "      <td>False</td>\n",
       "      <td>False</td>\n",
       "      <td>False</td>\n",
       "      <td>False</td>\n",
       "      <td>False</td>\n",
       "      <td>False</td>\n",
       "      <td>False</td>\n",
       "      <td>False</td>\n",
       "      <td>True</td>\n",
       "      <td>False</td>\n",
       "      <td>False</td>\n",
       "      <td>True</td>\n",
       "      <td>False</td>\n",
       "      <td>False</td>\n",
       "      <td>False</td>\n",
       "      <td>False</td>\n",
       "      <td>False</td>\n",
       "      <td>False</td>\n",
       "      <td>False</td>\n",
       "      <td>False</td>\n",
       "      <td>False</td>\n",
       "      <td>False</td>\n",
       "      <td>False</td>\n",
       "      <td>本科</td>\n",
       "      <td>False</td>\n",
       "      <td>1_3</td>\n",
       "      <td>False</td>\n",
       "      <td>False</td>\n",
       "      <td>False</td>\n",
       "      <td>False</td>\n",
       "      <td>False</td>\n",
       "      <td>False</td>\n",
       "      <td>False</td>\n",
       "      <td>computer</td>\n",
       "      <td>False</td>\n",
       "      <td>岗位职责1.按照上级计划和安排进行技术开发工作；2. 负责金融行业应用平台后端模块开发工作；...</td>\n",
       "      <td>深圳|1年经验|本科|招200人|05-23发布</td>\n",
       "      <td>五险一金,专业培训,年终奖金,员工旅游</td>\n",
       "      <td>False</td>\n",
       "      <td>False</td>\n",
       "      <td>False</td>\n",
       "      <td>False</td>\n",
       "      <td>False</td>\n",
       "      <td>False</td>\n",
       "      <td>False</td>\n",
       "      <td>False</td>\n",
       "      <td>True</td>\n",
       "      <td>False</td>\n",
       "      <td>False</td>\n",
       "      <td>False</td>\n",
       "      <td>False</td>\n",
       "      <td>False</td>\n",
       "      <td>False</td>\n",
       "      <td>False</td>\n",
       "      <td>False</td>\n",
       "      <td>False</td>\n",
       "      <td>False</td>\n",
       "      <td>False</td>\n",
       "      <td>False</td>\n",
       "      <td>False</td>\n",
       "      <td>False</td>\n",
       "      <td>False</td>\n",
       "      <td>False</td>\n",
       "      <td>2019-05-23</td>\n",
       "      <td>False</td>\n",
       "      <td>False</td>\n",
       "      <td>True</td>\n",
       "      <td>False</td>\n",
       "      <td>False</td>\n",
       "      <td>False</td>\n",
       "      <td>False</td>\n",
       "      <td>False</td>\n",
       "    </tr>\n",
       "    <tr>\n",
       "      <td>19757</td>\n",
       "      <td>110969579</td>\n",
       "      <td>12500</td>\n",
       "      <td>200</td>\n",
       "      <td>JAVA开发工程师（2019届应届毕业生）</td>\n",
       "      <td>软件工程师</td>\n",
       "      <td>一般程序员</td>\n",
       "      <td>None</td>\n",
       "      <td>广东</td>\n",
       "      <td>广州</td>\n",
       "      <td>广州汇智通信技术有限公司是专业从事国家特殊通信系统研制工作的大型国有控股混合所有制企业。公司...</td>\n",
       "      <td>1000-5000</td>\n",
       "      <td>广州汇智通信技术有限公司</td>\n",
       "      <td>国企</td>\n",
       "      <td>【广州JAVA开发工程师（2019届应届毕业生）_JAVA开发工程师（2019届应届毕业生）...</td>\n",
       "      <td>False</td>\n",
       "      <td>False</td>\n",
       "      <td>False</td>\n",
       "      <td>False</td>\n",
       "      <td>False</td>\n",
       "      <td>False</td>\n",
       "      <td>False</td>\n",
       "      <td>False</td>\n",
       "      <td>False</td>\n",
       "      <td>False</td>\n",
       "      <td>False</td>\n",
       "      <td>False</td>\n",
       "      <td>False</td>\n",
       "      <td>False</td>\n",
       "      <td>False</td>\n",
       "      <td>False</td>\n",
       "      <td>False</td>\n",
       "      <td>False</td>\n",
       "      <td>False</td>\n",
       "      <td>False</td>\n",
       "      <td>False</td>\n",
       "      <td>False</td>\n",
       "      <td>False</td>\n",
       "      <td>False</td>\n",
       "      <td>False</td>\n",
       "      <td>False</td>\n",
       "      <td>False</td>\n",
       "      <td>False</td>\n",
       "      <td>False</td>\n",
       "      <td>False</td>\n",
       "      <td>False</td>\n",
       "      <td>本科</td>\n",
       "      <td>False</td>\n",
       "      <td>no</td>\n",
       "      <td>False</td>\n",
       "      <td>False</td>\n",
       "      <td>False</td>\n",
       "      <td>False</td>\n",
       "      <td>False</td>\n",
       "      <td>False</td>\n",
       "      <td>False</td>\n",
       "      <td>computer</td>\n",
       "      <td>False</td>\n",
       "      <td>广州汇智通信技术有限公司                                  ...</td>\n",
       "      <td>广州|无工作经验|本科|招200人|05-27发布</td>\n",
       "      <td>五险一金,补充医疗保险,补充公积金,交通补贴,年终奖金,绩效奖金,通讯补贴,定期体检,餐饮补贴</td>\n",
       "      <td>False</td>\n",
       "      <td>True</td>\n",
       "      <td>True</td>\n",
       "      <td>True</td>\n",
       "      <td>True</td>\n",
       "      <td>False</td>\n",
       "      <td>False</td>\n",
       "      <td>False</td>\n",
       "      <td>True</td>\n",
       "      <td>False</td>\n",
       "      <td>False</td>\n",
       "      <td>False</td>\n",
       "      <td>False</td>\n",
       "      <td>False</td>\n",
       "      <td>False</td>\n",
       "      <td>False</td>\n",
       "      <td>False</td>\n",
       "      <td>False</td>\n",
       "      <td>False</td>\n",
       "      <td>False</td>\n",
       "      <td>False</td>\n",
       "      <td>False</td>\n",
       "      <td>False</td>\n",
       "      <td>False</td>\n",
       "      <td>False</td>\n",
       "      <td>2019-05-27</td>\n",
       "      <td>False</td>\n",
       "      <td>False</td>\n",
       "      <td>True</td>\n",
       "      <td>False</td>\n",
       "      <td>False</td>\n",
       "      <td>False</td>\n",
       "      <td>False</td>\n",
       "      <td>False</td>\n",
       "    </tr>\n",
       "    <tr>\n",
       "      <td>12137</td>\n",
       "      <td>108834444</td>\n",
       "      <td>15000</td>\n",
       "      <td>150</td>\n",
       "      <td>Java开发工程师</td>\n",
       "      <td>软件工程师</td>\n",
       "      <td>一般程序员</td>\n",
       "      <td>None</td>\n",
       "      <td>北京</td>\n",
       "      <td>北京</td>\n",
       "      <td>大连华信计算机技术股份有限公司（简称大连华信）是一家面向全球客户提供领先的应用软件产品、信息...</td>\n",
       "      <td>5000-10000</td>\n",
       "      <td>大连华信计算机技术股份有限公司</td>\n",
       "      <td>合资</td>\n",
       "      <td>【北京-朝阳区Java开发工程师_Java开发工程师招聘_大连华信计算机技术股份有限公司】-...</td>\n",
       "      <td>False</td>\n",
       "      <td>False</td>\n",
       "      <td>False</td>\n",
       "      <td>False</td>\n",
       "      <td>False</td>\n",
       "      <td>False</td>\n",
       "      <td>False</td>\n",
       "      <td>False</td>\n",
       "      <td>False</td>\n",
       "      <td>False</td>\n",
       "      <td>False</td>\n",
       "      <td>False</td>\n",
       "      <td>False</td>\n",
       "      <td>False</td>\n",
       "      <td>False</td>\n",
       "      <td>False</td>\n",
       "      <td>True</td>\n",
       "      <td>False</td>\n",
       "      <td>False</td>\n",
       "      <td>True</td>\n",
       "      <td>False</td>\n",
       "      <td>False</td>\n",
       "      <td>False</td>\n",
       "      <td>False</td>\n",
       "      <td>False</td>\n",
       "      <td>False</td>\n",
       "      <td>False</td>\n",
       "      <td>False</td>\n",
       "      <td>False</td>\n",
       "      <td>False</td>\n",
       "      <td>False</td>\n",
       "      <td>本科</td>\n",
       "      <td>False</td>\n",
       "      <td>5_10</td>\n",
       "      <td>False</td>\n",
       "      <td>False</td>\n",
       "      <td>False</td>\n",
       "      <td>False</td>\n",
       "      <td>False</td>\n",
       "      <td>False</td>\n",
       "      <td>False</td>\n",
       "      <td>computer</td>\n",
       "      <td>False</td>\n",
       "      <td>1、5年以上java开发工作经验。2、有丰富研发经验；深入理解SpringCloud、spr...</td>\n",
       "      <td>北京-朝阳区|5-7年经验|本科|招150人|05-30发布</td>\n",
       "      <td>五险一金,补充医疗保险,定期体检,年终奖金</td>\n",
       "      <td>False</td>\n",
       "      <td>False</td>\n",
       "      <td>False</td>\n",
       "      <td>False</td>\n",
       "      <td>False</td>\n",
       "      <td>False</td>\n",
       "      <td>True</td>\n",
       "      <td>False</td>\n",
       "      <td>True</td>\n",
       "      <td>False</td>\n",
       "      <td>False</td>\n",
       "      <td>False</td>\n",
       "      <td>False</td>\n",
       "      <td>False</td>\n",
       "      <td>False</td>\n",
       "      <td>False</td>\n",
       "      <td>False</td>\n",
       "      <td>True</td>\n",
       "      <td>False</td>\n",
       "      <td>False</td>\n",
       "      <td>False</td>\n",
       "      <td>False</td>\n",
       "      <td>False</td>\n",
       "      <td>False</td>\n",
       "      <td>False</td>\n",
       "      <td>2019-05-30</td>\n",
       "      <td>False</td>\n",
       "      <td>False</td>\n",
       "      <td>True</td>\n",
       "      <td>False</td>\n",
       "      <td>False</td>\n",
       "      <td>False</td>\n",
       "      <td>False</td>\n",
       "      <td>False</td>\n",
       "    </tr>\n",
       "    <tr>\n",
       "      <td>24768</td>\n",
       "      <td>112071980</td>\n",
       "      <td>12500</td>\n",
       "      <td>150</td>\n",
       "      <td>Java研发工程师（WEB）-广州</td>\n",
       "      <td>高级软件工程师</td>\n",
       "      <td>一般程序员</td>\n",
       "      <td>None</td>\n",
       "      <td>广东</td>\n",
       "      <td>广州</td>\n",
       "      <td>美亚柏科公司简介厦门市美亚柏科信息股份有限公司（股票简称：美亚柏科，股票代码：300188）...</td>\n",
       "      <td>1000-5000</td>\n",
       "      <td>厦门市美亚柏科信息股份有限公司</td>\n",
       "      <td>民营公司</td>\n",
       "      <td>【广州-海珠区Java研发工程师（WEB）-广州_Java研发工程师（WEB）-广州招聘_厦...</td>\n",
       "      <td>False</td>\n",
       "      <td>False</td>\n",
       "      <td>False</td>\n",
       "      <td>False</td>\n",
       "      <td>False</td>\n",
       "      <td>False</td>\n",
       "      <td>False</td>\n",
       "      <td>False</td>\n",
       "      <td>False</td>\n",
       "      <td>False</td>\n",
       "      <td>False</td>\n",
       "      <td>False</td>\n",
       "      <td>False</td>\n",
       "      <td>False</td>\n",
       "      <td>False</td>\n",
       "      <td>False</td>\n",
       "      <td>False</td>\n",
       "      <td>False</td>\n",
       "      <td>False</td>\n",
       "      <td>False</td>\n",
       "      <td>False</td>\n",
       "      <td>False</td>\n",
       "      <td>False</td>\n",
       "      <td>False</td>\n",
       "      <td>False</td>\n",
       "      <td>False</td>\n",
       "      <td>False</td>\n",
       "      <td>False</td>\n",
       "      <td>False</td>\n",
       "      <td>False</td>\n",
       "      <td>False</td>\n",
       "      <td>本科</td>\n",
       "      <td>False</td>\n",
       "      <td>3_5</td>\n",
       "      <td>False</td>\n",
       "      <td>False</td>\n",
       "      <td>False</td>\n",
       "      <td>False</td>\n",
       "      <td>False</td>\n",
       "      <td>False</td>\n",
       "      <td>False</td>\n",
       "      <td>computer</td>\n",
       "      <td>False</td>\n",
       "      <td>工作职责:1)\\t基于海量数据的WEB应用研发。2)\\t数据可视化设计与实现。3)\\t根据业...</td>\n",
       "      <td>广州-海珠区|3-4年经验|本科|招150人|04-26发布</td>\n",
       "      <td>五险一金,免费班车,员工旅游,交通补贴,餐饮补贴,年终奖金,弹性工作,股票期权</td>\n",
       "      <td>False</td>\n",
       "      <td>False</td>\n",
       "      <td>False</td>\n",
       "      <td>False</td>\n",
       "      <td>False</td>\n",
       "      <td>False</td>\n",
       "      <td>False</td>\n",
       "      <td>False</td>\n",
       "      <td>True</td>\n",
       "      <td>True</td>\n",
       "      <td>False</td>\n",
       "      <td>False</td>\n",
       "      <td>False</td>\n",
       "      <td>False</td>\n",
       "      <td>False</td>\n",
       "      <td>False</td>\n",
       "      <td>False</td>\n",
       "      <td>False</td>\n",
       "      <td>False</td>\n",
       "      <td>False</td>\n",
       "      <td>False</td>\n",
       "      <td>False</td>\n",
       "      <td>False</td>\n",
       "      <td>False</td>\n",
       "      <td>False</td>\n",
       "      <td>2019-04-26</td>\n",
       "      <td>False</td>\n",
       "      <td>False</td>\n",
       "      <td>True</td>\n",
       "      <td>True</td>\n",
       "      <td>False</td>\n",
       "      <td>False</td>\n",
       "      <td>False</td>\n",
       "      <td>True</td>\n",
       "    </tr>\n",
       "    <tr>\n",
       "      <td>10097</td>\n",
       "      <td>107969622</td>\n",
       "      <td>23000</td>\n",
       "      <td>100</td>\n",
       "      <td>研发工程师 - 抖音/火山/Faceu/轻颜\\t\\t\\t\\t(职位编号：27935)</td>\n",
       "      <td>互联网软件开发工程师</td>\n",
       "      <td>一般程序员</td>\n",
       "      <td>None</td>\n",
       "      <td>北京</td>\n",
       "      <td>北京</td>\n",
       "      <td>字节跳动，是全球第一家将人工智能应用到主产品的科技公司。短短6年，我们从最初的一个“今日头条...</td>\n",
       "      <td>10000+</td>\n",
       "      <td>字节跳动</td>\n",
       "      <td>民营公司</td>\n",
       "      <td>【北京研发工程师 - 抖音/火山/Faceu/轻颜_研发工程师 - 抖音/火山/Faceu/...</td>\n",
       "      <td>False</td>\n",
       "      <td>False</td>\n",
       "      <td>False</td>\n",
       "      <td>False</td>\n",
       "      <td>False</td>\n",
       "      <td>False</td>\n",
       "      <td>False</td>\n",
       "      <td>False</td>\n",
       "      <td>False</td>\n",
       "      <td>False</td>\n",
       "      <td>False</td>\n",
       "      <td>False</td>\n",
       "      <td>False</td>\n",
       "      <td>False</td>\n",
       "      <td>False</td>\n",
       "      <td>False</td>\n",
       "      <td>False</td>\n",
       "      <td>False</td>\n",
       "      <td>False</td>\n",
       "      <td>False</td>\n",
       "      <td>False</td>\n",
       "      <td>False</td>\n",
       "      <td>False</td>\n",
       "      <td>False</td>\n",
       "      <td>False</td>\n",
       "      <td>False</td>\n",
       "      <td>False</td>\n",
       "      <td>False</td>\n",
       "      <td>False</td>\n",
       "      <td>False</td>\n",
       "      <td>False</td>\n",
       "      <td>本科</td>\n",
       "      <td>False</td>\n",
       "      <td>no</td>\n",
       "      <td>False</td>\n",
       "      <td>False</td>\n",
       "      <td>False</td>\n",
       "      <td>False</td>\n",
       "      <td>False</td>\n",
       "      <td>True</td>\n",
       "      <td>False</td>\n",
       "      <td>computer</td>\n",
       "      <td>False</td>\n",
       "      <td>职位描述:1、参与互娱核心产品的开发、迭代；2、参与各专项技术调研，新技术引入等前瞻项目；3...</td>\n",
       "      <td>北京|无工作经验|本科|招100人|05-30发布</td>\n",
       "      <td>六险一金,弹性工作,免费三餐,餐补,租房补贴,带薪休假,休闲下午茶,扁平管理,过亿用户,职业大牛</td>\n",
       "      <td>True</td>\n",
       "      <td>True</td>\n",
       "      <td>False</td>\n",
       "      <td>False</td>\n",
       "      <td>False</td>\n",
       "      <td>False</td>\n",
       "      <td>False</td>\n",
       "      <td>False</td>\n",
       "      <td>False</td>\n",
       "      <td>False</td>\n",
       "      <td>False</td>\n",
       "      <td>False</td>\n",
       "      <td>False</td>\n",
       "      <td>False</td>\n",
       "      <td>False</td>\n",
       "      <td>False</td>\n",
       "      <td>False</td>\n",
       "      <td>False</td>\n",
       "      <td>False</td>\n",
       "      <td>False</td>\n",
       "      <td>False</td>\n",
       "      <td>False</td>\n",
       "      <td>False</td>\n",
       "      <td>False</td>\n",
       "      <td>False</td>\n",
       "      <td>2019-05-30</td>\n",
       "      <td>False</td>\n",
       "      <td>False</td>\n",
       "      <td>False</td>\n",
       "      <td>True</td>\n",
       "      <td>False</td>\n",
       "      <td>False</td>\n",
       "      <td>False</td>\n",
       "      <td>False</td>\n",
       "    </tr>\n",
       "  </tbody>\n",
       "</table>\n",
       "</div>"
      ],
      "text/plain": [
       "          job_id  monthly_salary  headcount  \\\n",
       "40467   75596794            7500        200   \n",
       "19757  110969579           12500        200   \n",
       "12137  108834444           15000        150   \n",
       "24768  112071980           12500        150   \n",
       "10097  107969622           23000        100   \n",
       "\n",
       "                                            title zhinengleibie career  \\\n",
       "40467                                    JAVA 工程师         软件工程师  一般程序员   \n",
       "19757                       JAVA开发工程师（2019届应届毕业生）         软件工程师  一般程序员   \n",
       "12137                                   Java开发工程师         软件工程师  一般程序员   \n",
       "24768                           Java研发工程师（WEB）-广州       高级软件工程师  一般程序员   \n",
       "10097  研发工程师 - 抖音/火山/Faceu/轻颜\\t\\t\\t\\t(职位编号：27935)    互联网软件开发工程师  一般程序员   \n",
       "\n",
       "      real_province province city  \\\n",
       "40467          None       广东   深圳   \n",
       "19757          None       广东   广州   \n",
       "12137          None       北京   北京   \n",
       "24768          None       广东   广州   \n",
       "10097          None       北京   北京   \n",
       "\n",
       "                                     company_description company_size  \\\n",
       "40467  四方精创资讯有限公司（简称四方精创），是从事金融行业it综合服务和软件协同服务的高端应用软件...     500-1000   \n",
       "19757  广州汇智通信技术有限公司是专业从事国家特殊通信系统研制工作的大型国有控股混合所有制企业。公司...    1000-5000   \n",
       "12137  大连华信计算机技术股份有限公司（简称大连华信）是一家面向全球客户提供领先的应用软件产品、信息...   5000-10000   \n",
       "24768  美亚柏科公司简介厦门市美亚柏科信息股份有限公司（股票简称：美亚柏科，股票代码：300188）...    1000-5000   \n",
       "10097  字节跳动，是全球第一家将人工智能应用到主产品的科技公司。短短6年，我们从最初的一个“今日头条...       10000+   \n",
       "\n",
       "         company_title company_type  \\\n",
       "40467   深圳四方精创资讯股份有限公司           合资   \n",
       "19757     广州汇智通信技术有限公司           国企   \n",
       "12137  大连华信计算机技术股份有限公司           合资   \n",
       "24768  厦门市美亚柏科信息股份有限公司         民营公司   \n",
       "10097             字节跳动         民营公司   \n",
       "\n",
       "                                              page_title  ageism  \\\n",
       "40467  【深圳JAVA 工程师_JAVA 工程师招聘_深圳四方精创资讯股份有限公司】-前程无忧官方招聘网站   False   \n",
       "19757  【广州JAVA开发工程师（2019届应届毕业生）_JAVA开发工程师（2019届应届毕业生）...   False   \n",
       "12137  【北京-朝阳区Java开发工程师_Java开发工程师招聘_大连华信计算机技术股份有限公司】-...   False   \n",
       "24768  【广州-海珠区Java研发工程师（WEB）-广州_Java研发工程师（WEB）-广州招聘_厦...   False   \n",
       "10097  【北京研发工程师 - 抖音/火山/Faceu/轻颜_研发工程师 - 抖音/火山/Faceu/...   False   \n",
       "\n",
       "       db_Apache_Hive  db_CouchBase  db_CouchDB  db_DB2  db_DynamoDB  \\\n",
       "40467           False         False       False   False        False   \n",
       "19757           False         False       False   False        False   \n",
       "12137           False         False       False   False        False   \n",
       "24768           False         False       False   False        False   \n",
       "10097           False         False       False   False        False   \n",
       "\n",
       "       db_Elasticsearch  db_FileMaker  db_Firebase  db_Firebird  db_Hbase  \\\n",
       "40467             False         False        False        False     False   \n",
       "19757             False         False        False        False     False   \n",
       "12137             False         False        False        False     False   \n",
       "24768             False         False        False        False     False   \n",
       "10097             False         False        False        False     False   \n",
       "\n",
       "       db_Informix  db_Ingres  db_MariaDB  db_Memcached  db_MongoDB  db_MySQL  \\\n",
       "40467        False      False       False         False       False      True   \n",
       "19757        False      False       False         False       False     False   \n",
       "12137        False      False       False         False       False      True   \n",
       "24768        False      False       False         False       False     False   \n",
       "10097        False      False       False         False       False     False   \n",
       "\n",
       "       db_Neo4j  db_Netezza  db_Oracle  db_PostgreSQL  db_Redis  db_Riak  \\\n",
       "40467     False       False       True          False     False    False   \n",
       "19757     False       False      False          False     False    False   \n",
       "12137     False       False       True          False     False    False   \n",
       "24768     False       False      False          False     False    False   \n",
       "10097     False       False      False          False     False    False   \n",
       "\n",
       "       db_SAP_HANA  db_SQL_Server  db_SQLite  db_Solr  db_Splunk  db_Sybase  \\\n",
       "40467        False          False      False    False      False      False   \n",
       "19757        False          False      False    False      False      False   \n",
       "12137        False          False      False    False      False      False   \n",
       "24768        False          False      False    False      False      False   \n",
       "10097        False          False      False    False      False      False   \n",
       "\n",
       "       db_Teradata  db_dBase edu  english experience  expert_adas  \\\n",
       "40467        False     False  本科    False        1_3        False   \n",
       "19757        False     False  本科    False         no        False   \n",
       "12137        False     False  本科    False       5_10        False   \n",
       "24768        False     False  本科    False        3_5        False   \n",
       "10097        False     False  本科    False         no        False   \n",
       "\n",
       "       expert_blockchain  expert_embed  expert_expert  expert_gis  _996_yes  \\\n",
       "40467              False         False          False       False     False   \n",
       "19757              False         False          False       False     False   \n",
       "12137              False         False          False       False     False   \n",
       "24768              False         False          False       False     False   \n",
       "10097              False         False          False       False      True   \n",
       "\n",
       "       _996_no  industry  japanese  \\\n",
       "40467    False  computer     False   \n",
       "19757    False  computer     False   \n",
       "12137    False  computer     False   \n",
       "24768    False  computer     False   \n",
       "10097    False  computer     False   \n",
       "\n",
       "                                         job_description  \\\n",
       "40467  岗位职责1.按照上级计划和安排进行技术开发工作；2. 负责金融行业应用平台后端模块开发工作；...   \n",
       "19757  广州汇智通信技术有限公司                                  ...   \n",
       "12137  1、5年以上java开发工作经验。2、有丰富研发经验；深入理解SpringCloud、spr...   \n",
       "24768  工作职责:1)\\t基于海量数据的WEB应用研发。2)\\t数据可视化设计与实现。3)\\t根据业...   \n",
       "10097  职位描述:1、参与互娱核心产品的开发、迭代；2、参与各专项技术调研，新技术引入等前瞻项目；3...   \n",
       "\n",
       "                          job_summary  \\\n",
       "40467        深圳|1年经验|本科|招200人|05-23发布   \n",
       "19757       广州|无工作经验|本科|招200人|05-27发布   \n",
       "12137  北京-朝阳区|5-7年经验|本科|招150人|05-30发布   \n",
       "24768  广州-海珠区|3-4年经验|本科|招150人|04-26发布   \n",
       "10097       北京|无工作经验|本科|招100人|05-30发布   \n",
       "\n",
       "                                               job_tags  phone_android  \\\n",
       "40467                               五险一金,专业培训,年终奖金,员工旅游          False   \n",
       "19757   五险一金,补充医疗保险,补充公积金,交通补贴,年终奖金,绩效奖金,通讯补贴,定期体检,餐饮补贴          False   \n",
       "12137                             五险一金,补充医疗保险,定期体检,年终奖金          False   \n",
       "24768           五险一金,免费班车,员工旅游,交通补贴,餐饮补贴,年终奖金,弹性工作,股票期权          False   \n",
       "10097  六险一金,弹性工作,免费三餐,餐补,租房补贴,带薪休假,休闲下午茶,扁平管理,过亿用户,职业大牛           True   \n",
       "\n",
       "       phone_app  phone_iso  pl_c_sharp  pl_cpp  pl_delphi  pl_go  pl_haskell  \\\n",
       "40467      False      False       False   False      False  False       False   \n",
       "19757       True       True        True    True      False  False       False   \n",
       "12137      False      False       False   False      False   True       False   \n",
       "24768      False      False       False   False      False  False       False   \n",
       "10097       True      False       False   False      False  False       False   \n",
       "\n",
       "       pl_java  pl_javascript  pl_julia  pl_kotlin  pl_lua  pl_matlab  \\\n",
       "40467     True          False     False      False   False      False   \n",
       "19757     True          False     False      False   False      False   \n",
       "12137     True          False     False      False   False      False   \n",
       "24768     True           True     False      False   False      False   \n",
       "10097    False          False     False      False   False      False   \n",
       "\n",
       "       pl_objective_c  pl_perl  pl_php  pl_python  pl_ruby  pl_rust  \\\n",
       "40467           False    False   False      False    False    False   \n",
       "19757           False    False   False      False    False    False   \n",
       "12137           False    False   False       True    False    False   \n",
       "24768           False    False   False      False    False    False   \n",
       "10097           False    False   False      False    False    False   \n",
       "\n",
       "       pl_scrala  pl_swift  pl_typescript  pl_vba  pl_visual_basic  \\\n",
       "40467      False     False          False   False            False   \n",
       "19757      False     False          False   False            False   \n",
       "12137      False     False          False   False            False   \n",
       "24768      False     False          False   False            False   \n",
       "10097      False     False          False   False            False   \n",
       "\n",
       "      publish_date  published_on_weekend  tag_baby_care  tag_five_insurance  \\\n",
       "40467   2019-05-23                 False          False                True   \n",
       "19757   2019-05-27                 False          False                True   \n",
       "12137   2019-05-30                 False          False                True   \n",
       "24768   2019-04-26                 False          False                True   \n",
       "10097   2019-05-30                 False          False               False   \n",
       "\n",
       "       tag_flexible  tag_no_overtime  tag_rest_one_day  tag_rest_two_days  \\\n",
       "40467         False            False             False              False   \n",
       "19757         False            False             False              False   \n",
       "12137         False            False             False              False   \n",
       "24768          True            False             False              False   \n",
       "10097          True            False             False              False   \n",
       "\n",
       "       tag_stock  \n",
       "40467      False  \n",
       "19757      False  \n",
       "12137      False  \n",
       "24768       True  \n",
       "10097      False  "
      ]
     },
     "execution_count": 22,
     "metadata": {},
     "output_type": "execute_result"
    }
   ],
   "source": [
    "pd.options.display.max_columns=100\n",
    "data.sort_values(by='headcount', ascending=False).head()"
   ]
  },
  {
   "cell_type": "markdown",
   "metadata": {},
   "source": []
  },
  {
   "cell_type": "code",
   "execution_count": 23,
   "metadata": {},
   "outputs": [
    {
     "data": {
      "text/plain": [
       "150520"
      ]
     },
     "execution_count": 23,
     "metadata": {},
     "output_type": "execute_result"
    }
   ],
   "source": [
    "data.headcount.sum()"
   ]
  },
  {
   "cell_type": "markdown",
   "metadata": {},
   "source": [
    "# 城市"
   ]
  },
  {
   "cell_type": "code",
   "execution_count": 24,
   "metadata": {},
   "outputs": [],
   "source": [
    "headcount_by_cities = data.groupby(by='city').headcount.sum()"
   ]
  },
  {
   "cell_type": "code",
   "execution_count": 25,
   "metadata": {},
   "outputs": [
    {
     "data": {
      "text/plain": [
       "city\n",
       "上海    51135\n",
       "北京    27995\n",
       "广州    31832\n",
       "深圳    39558\n",
       "Name: headcount, dtype: int64"
      ]
     },
     "execution_count": 25,
     "metadata": {},
     "output_type": "execute_result"
    }
   ],
   "source": [
    "headcount_by_cities\n"
   ]
  },
  {
   "cell_type": "code",
   "execution_count": 26,
   "metadata": {},
   "outputs": [
    {
     "data": {
      "image/png": "[encoded data removed]",
      "text/plain": [
       "<Figure size 720x576 with 1 Axes>"
      ]
     },
     "metadata": {},
     "output_type": "display_data"
    }
   ],
   "source": [
    "plt.figure(figsize=(10,8))\n",
    "plt.pie(headcount_by_cities.values, labels=headcount_by_cities.index, autopct='%1.1f%%')\n",
    "plt.show()"
   ]
  },
  {
   "cell_type": "code",
   "execution_count": 27,
   "metadata": {},
   "outputs": [
    {
     "data": {
      "text/html": [
       "<style  type=\"text/css\" >\n",
       "</style><table id=\"T_cab7c454_2f5d_11ea_a3a7_701ce71031ef\" ><thead>    <tr>        <th class=\"col_heading level0 col0\" >city</th>        <th class=\"col_heading level0 col1\" >salary_mean</th>        <th class=\"col_heading level0 col2\" >salary_95_min</th>        <th class=\"col_heading level0 col3\" >salary_median</th>        <th class=\"col_heading level0 col4\" >salary_95_max</th>        <th class=\"col_heading level0 col5\" >head_count</th>        <th class=\"col_heading level0 col6\" >percentage</th>    </tr></thead><tbody>\n",
       "                <tr>\n",
       "                                <td id=\"T_cab7c454_2f5d_11ea_a3a7_701ce71031efrow0_col0\" class=\"data row0 col0\" >北京</td>\n",
       "                        <td id=\"T_cab7c454_2f5d_11ea_a3a7_701ce71031efrow0_col1\" class=\"data row0 col1\" >17327</td>\n",
       "                        <td id=\"T_cab7c454_2f5d_11ea_a3a7_701ce71031efrow0_col2\" class=\"data row0 col2\" >4500</td>\n",
       "                        <td id=\"T_cab7c454_2f5d_11ea_a3a7_701ce71031efrow0_col3\" class=\"data row0 col3\" >15000</td>\n",
       "                        <td id=\"T_cab7c454_2f5d_11ea_a3a7_701ce71031efrow0_col4\" class=\"data row0 col4\" >45000</td>\n",
       "                        <td id=\"T_cab7c454_2f5d_11ea_a3a7_701ce71031efrow0_col5\" class=\"data row0 col5\" >27995</td>\n",
       "                        <td id=\"T_cab7c454_2f5d_11ea_a3a7_701ce71031efrow0_col6\" class=\"data row0 col6\" >18.60%</td>\n",
       "            </tr>\n",
       "            <tr>\n",
       "                                <td id=\"T_cab7c454_2f5d_11ea_a3a7_701ce71031efrow1_col0\" class=\"data row1 col0\" >上海</td>\n",
       "                        <td id=\"T_cab7c454_2f5d_11ea_a3a7_701ce71031efrow1_col1\" class=\"data row1 col1\" >16163</td>\n",
       "                        <td id=\"T_cab7c454_2f5d_11ea_a3a7_701ce71031efrow1_col2\" class=\"data row1 col2\" >5250</td>\n",
       "                        <td id=\"T_cab7c454_2f5d_11ea_a3a7_701ce71031efrow1_col3\" class=\"data row1 col3\" >14583</td>\n",
       "                        <td id=\"T_cab7c454_2f5d_11ea_a3a7_701ce71031efrow1_col4\" class=\"data row1 col4\" >37500</td>\n",
       "                        <td id=\"T_cab7c454_2f5d_11ea_a3a7_701ce71031efrow1_col5\" class=\"data row1 col5\" >51135</td>\n",
       "                        <td id=\"T_cab7c454_2f5d_11ea_a3a7_701ce71031efrow1_col6\" class=\"data row1 col6\" >33.97%</td>\n",
       "            </tr>\n",
       "            <tr>\n",
       "                                <td id=\"T_cab7c454_2f5d_11ea_a3a7_701ce71031efrow2_col0\" class=\"data row2 col0\" >深圳</td>\n",
       "                        <td id=\"T_cab7c454_2f5d_11ea_a3a7_701ce71031efrow2_col1\" class=\"data row2 col1\" >15969</td>\n",
       "                        <td id=\"T_cab7c454_2f5d_11ea_a3a7_701ce71031efrow2_col2\" class=\"data row2 col2\" >5250</td>\n",
       "                        <td id=\"T_cab7c454_2f5d_11ea_a3a7_701ce71031efrow2_col3\" class=\"data row2 col3\" >14500</td>\n",
       "                        <td id=\"T_cab7c454_2f5d_11ea_a3a7_701ce71031efrow2_col4\" class=\"data row2 col4\" >37500</td>\n",
       "                        <td id=\"T_cab7c454_2f5d_11ea_a3a7_701ce71031efrow2_col5\" class=\"data row2 col5\" >39558</td>\n",
       "                        <td id=\"T_cab7c454_2f5d_11ea_a3a7_701ce71031efrow2_col6\" class=\"data row2 col6\" >26.28%</td>\n",
       "            </tr>\n",
       "            <tr>\n",
       "                                <td id=\"T_cab7c454_2f5d_11ea_a3a7_701ce71031efrow3_col0\" class=\"data row3 col0\" >广州</td>\n",
       "                        <td id=\"T_cab7c454_2f5d_11ea_a3a7_701ce71031efrow3_col1\" class=\"data row3 col1\" >13052</td>\n",
       "                        <td id=\"T_cab7c454_2f5d_11ea_a3a7_701ce71031efrow3_col2\" class=\"data row3 col2\" >3750</td>\n",
       "                        <td id=\"T_cab7c454_2f5d_11ea_a3a7_701ce71031efrow3_col3\" class=\"data row3 col3\" >12500</td>\n",
       "                        <td id=\"T_cab7c454_2f5d_11ea_a3a7_701ce71031efrow3_col4\" class=\"data row3 col4\" >30000</td>\n",
       "                        <td id=\"T_cab7c454_2f5d_11ea_a3a7_701ce71031efrow3_col5\" class=\"data row3 col5\" >31832</td>\n",
       "                        <td id=\"T_cab7c454_2f5d_11ea_a3a7_701ce71031efrow3_col6\" class=\"data row3 col6\" >21.15%</td>\n",
       "            </tr>\n",
       "    </tbody></table>"
      ],
      "text/plain": [
       "<pandas.io.formats.style.Styler at 0x1e48656e348>"
      ]
     },
     "execution_count": 27,
     "metadata": {},
     "output_type": "execute_result"
    }
   ],
   "source": [
    "data_pl=get_sub_stats_by_col(data,'city')\n",
    "apply_style(data_pl)"
   ]
  },
  {
   "cell_type": "code",
   "execution_count": 28,
   "metadata": {},
   "outputs": [],
   "source": [
    "salary_beijing=data[data.city=='北京'].monthly_salary\n",
    "salary_shanghai=data[data.city=='上海'].monthly_salary\n",
    "salary_guangzhou=data[data.city=='广州'].monthly_salary\n",
    "salary_shenzhen=data[data.city=='深圳'].monthly_salary"
   ]
  },
  {
   "cell_type": "code",
   "execution_count": null,
   "metadata": {},
   "outputs": [],
   "source": []
  },
  {
   "cell_type": "code",
   "execution_count": 29,
   "metadata": {},
   "outputs": [
    {
     "data": {
      "text/plain": [
       "F_onewayResult(statistic=50.84526200888846, pvalue=1.0275957592210318e-12)"
      ]
     },
     "execution_count": 29,
     "metadata": {},
     "output_type": "execute_result"
    }
   ],
   "source": [
    "stats.f_oneway(salary_beijing, salary_shanghai)"
   ]
  },
  {
   "cell_type": "code",
   "execution_count": 30,
   "metadata": {},
   "outputs": [
    {
     "data": {
      "text/plain": [
       "F_onewayResult(statistic=97.47689113559011, pvalue=5.913839956892184e-23)"
      ]
     },
     "execution_count": 30,
     "metadata": {},
     "output_type": "execute_result"
    }
   ],
   "source": [
    "stats.f_oneway(salary_shanghai, salary_shenzhen)"
   ]
  },
  {
   "cell_type": "code",
   "execution_count": 31,
   "metadata": {},
   "outputs": [
    {
     "data": {
      "text/plain": [
       "F_onewayResult(statistic=753.081327355426, pvalue=2.8787315861164444e-163)"
      ]
     },
     "execution_count": 31,
     "metadata": {},
     "output_type": "execute_result"
    }
   ],
   "source": [
    "stats.f_oneway(salary_shenzhen, salary_guangzhou)"
   ]
  },
  {
   "cell_type": "markdown",
   "metadata": {},
   "source": [
    "# 编程语言"
   ]
  },
  {
   "cell_type": "code",
   "execution_count": 32,
   "metadata": {},
   "outputs": [
    {
     "data": {
      "text/html": [
       "<style  type=\"text/css\" >\n",
       "</style><table id=\"T_cad8e0a8_2f5d_11ea_836b_701ce71031ef\" ><thead>    <tr>        <th class=\"col_heading level0 col0\" >rank</th>        <th class=\"col_heading level0 col1\" >pl_</th>        <th class=\"col_heading level0 col2\" >salary_mean</th>        <th class=\"col_heading level0 col3\" >salary_median</th>        <th class=\"col_heading level0 col4\" >salary_95_min</th>        <th class=\"col_heading level0 col5\" >salary_95_max</th>        <th class=\"col_heading level0 col6\" >head_count</th>        <th class=\"col_heading level0 col7\" >percentage</th>    </tr></thead><tbody>\n",
       "                <tr>\n",
       "                                <td id=\"T_cad8e0a8_2f5d_11ea_836b_701ce71031efrow0_col0\" class=\"data row0 col0\" >1</td>\n",
       "                        <td id=\"T_cad8e0a8_2f5d_11ea_836b_701ce71031efrow0_col1\" class=\"data row0 col1\" >julia</td>\n",
       "                        <td id=\"T_cad8e0a8_2f5d_11ea_836b_701ce71031efrow0_col2\" class=\"data row0 col2\" >27500</td>\n",
       "                        <td id=\"T_cad8e0a8_2f5d_11ea_836b_701ce71031efrow0_col3\" class=\"data row0 col3\" >27500</td>\n",
       "                        <td id=\"T_cad8e0a8_2f5d_11ea_836b_701ce71031efrow0_col4\" class=\"data row0 col4\" >17500</td>\n",
       "                        <td id=\"T_cad8e0a8_2f5d_11ea_836b_701ce71031efrow0_col5\" class=\"data row0 col5\" >37500</td>\n",
       "                        <td id=\"T_cad8e0a8_2f5d_11ea_836b_701ce71031efrow0_col6\" class=\"data row0 col6\" >2</td>\n",
       "                        <td id=\"T_cad8e0a8_2f5d_11ea_836b_701ce71031efrow0_col7\" class=\"data row0 col7\" >0.00%</td>\n",
       "            </tr>\n",
       "            <tr>\n",
       "                                <td id=\"T_cad8e0a8_2f5d_11ea_836b_701ce71031efrow1_col0\" class=\"data row1 col0\" >2</td>\n",
       "                        <td id=\"T_cad8e0a8_2f5d_11ea_836b_701ce71031efrow1_col1\" class=\"data row1 col1\" >rust</td>\n",
       "                        <td id=\"T_cad8e0a8_2f5d_11ea_836b_701ce71031efrow1_col2\" class=\"data row1 col2\" >25854</td>\n",
       "                        <td id=\"T_cad8e0a8_2f5d_11ea_836b_701ce71031efrow1_col3\" class=\"data row1 col3\" >20000</td>\n",
       "                        <td id=\"T_cad8e0a8_2f5d_11ea_836b_701ce71031efrow1_col4\" class=\"data row1 col4\" >8633</td>\n",
       "                        <td id=\"T_cad8e0a8_2f5d_11ea_836b_701ce71031efrow1_col5\" class=\"data row1 col5\" >62125</td>\n",
       "                        <td id=\"T_cad8e0a8_2f5d_11ea_836b_701ce71031efrow1_col6\" class=\"data row1 col6\" >169</td>\n",
       "                        <td id=\"T_cad8e0a8_2f5d_11ea_836b_701ce71031efrow1_col7\" class=\"data row1 col7\" >0.08%</td>\n",
       "            </tr>\n",
       "            <tr>\n",
       "                                <td id=\"T_cad8e0a8_2f5d_11ea_836b_701ce71031efrow2_col0\" class=\"data row2 col0\" >3</td>\n",
       "                        <td id=\"T_cad8e0a8_2f5d_11ea_836b_701ce71031efrow2_col1\" class=\"data row2 col1\" >haskell</td>\n",
       "                        <td id=\"T_cad8e0a8_2f5d_11ea_836b_701ce71031efrow2_col2\" class=\"data row2 col2\" >24255</td>\n",
       "                        <td id=\"T_cad8e0a8_2f5d_11ea_836b_701ce71031efrow2_col3\" class=\"data row2 col3\" >20278</td>\n",
       "                        <td id=\"T_cad8e0a8_2f5d_11ea_836b_701ce71031efrow2_col4\" class=\"data row2 col4\" >7875</td>\n",
       "                        <td id=\"T_cad8e0a8_2f5d_11ea_836b_701ce71031efrow2_col5\" class=\"data row2 col5\" >45000</td>\n",
       "                        <td id=\"T_cad8e0a8_2f5d_11ea_836b_701ce71031efrow2_col6\" class=\"data row2 col6\" >47</td>\n",
       "                        <td id=\"T_cad8e0a8_2f5d_11ea_836b_701ce71031efrow2_col7\" class=\"data row2 col7\" >0.02%</td>\n",
       "            </tr>\n",
       "            <tr>\n",
       "                                <td id=\"T_cad8e0a8_2f5d_11ea_836b_701ce71031efrow3_col0\" class=\"data row3 col0\" >4</td>\n",
       "                        <td id=\"T_cad8e0a8_2f5d_11ea_836b_701ce71031efrow3_col1\" class=\"data row3 col1\" >python</td>\n",
       "                        <td id=\"T_cad8e0a8_2f5d_11ea_836b_701ce71031efrow3_col2\" class=\"data row3 col2\" >20645</td>\n",
       "                        <td id=\"T_cad8e0a8_2f5d_11ea_836b_701ce71031efrow3_col3\" class=\"data row3 col3\" >18000</td>\n",
       "                        <td id=\"T_cad8e0a8_2f5d_11ea_836b_701ce71031efrow3_col4\" class=\"data row3 col4\" >4500</td>\n",
       "                        <td id=\"T_cad8e0a8_2f5d_11ea_836b_701ce71031efrow3_col5\" class=\"data row3 col5\" >45000</td>\n",
       "                        <td id=\"T_cad8e0a8_2f5d_11ea_836b_701ce71031efrow3_col6\" class=\"data row3 col6\" >17887</td>\n",
       "                        <td id=\"T_cad8e0a8_2f5d_11ea_836b_701ce71031efrow3_col7\" class=\"data row3 col7\" >8.51%</td>\n",
       "            </tr>\n",
       "            <tr>\n",
       "                                <td id=\"T_cad8e0a8_2f5d_11ea_836b_701ce71031efrow4_col0\" class=\"data row4 col0\" >5</td>\n",
       "                        <td id=\"T_cad8e0a8_2f5d_11ea_836b_701ce71031efrow4_col1\" class=\"data row4 col1\" >matlab</td>\n",
       "                        <td id=\"T_cad8e0a8_2f5d_11ea_836b_701ce71031efrow4_col2\" class=\"data row4 col2\" >20089</td>\n",
       "                        <td id=\"T_cad8e0a8_2f5d_11ea_836b_701ce71031efrow4_col3\" class=\"data row4 col3\" >18500</td>\n",
       "                        <td id=\"T_cad8e0a8_2f5d_11ea_836b_701ce71031efrow4_col4\" class=\"data row4 col4\" >5565</td>\n",
       "                        <td id=\"T_cad8e0a8_2f5d_11ea_836b_701ce71031efrow4_col5\" class=\"data row4 col5\" >40000</td>\n",
       "                        <td id=\"T_cad8e0a8_2f5d_11ea_836b_701ce71031efrow4_col6\" class=\"data row4 col6\" >3002</td>\n",
       "                        <td id=\"T_cad8e0a8_2f5d_11ea_836b_701ce71031efrow4_col7\" class=\"data row4 col7\" >1.43%</td>\n",
       "            </tr>\n",
       "            <tr>\n",
       "                                <td id=\"T_cad8e0a8_2f5d_11ea_836b_701ce71031efrow5_col0\" class=\"data row5 col0\" >6</td>\n",
       "                        <td id=\"T_cad8e0a8_2f5d_11ea_836b_701ce71031efrow5_col1\" class=\"data row5 col1\" >go</td>\n",
       "                        <td id=\"T_cad8e0a8_2f5d_11ea_836b_701ce71031efrow5_col2\" class=\"data row5 col2\" >19893</td>\n",
       "                        <td id=\"T_cad8e0a8_2f5d_11ea_836b_701ce71031efrow5_col3\" class=\"data row5 col3\" >17500</td>\n",
       "                        <td id=\"T_cad8e0a8_2f5d_11ea_836b_701ce71031efrow5_col4\" class=\"data row5 col4\" >6000</td>\n",
       "                        <td id=\"T_cad8e0a8_2f5d_11ea_836b_701ce71031efrow5_col5\" class=\"data row5 col5\" >45000</td>\n",
       "                        <td id=\"T_cad8e0a8_2f5d_11ea_836b_701ce71031efrow5_col6\" class=\"data row5 col6\" >18060</td>\n",
       "                        <td id=\"T_cad8e0a8_2f5d_11ea_836b_701ce71031efrow5_col7\" class=\"data row5 col7\" >8.60%</td>\n",
       "            </tr>\n",
       "            <tr>\n",
       "                                <td id=\"T_cad8e0a8_2f5d_11ea_836b_701ce71031efrow6_col0\" class=\"data row6 col0\" >7</td>\n",
       "                        <td id=\"T_cad8e0a8_2f5d_11ea_836b_701ce71031efrow6_col1\" class=\"data row6 col1\" >lua</td>\n",
       "                        <td id=\"T_cad8e0a8_2f5d_11ea_836b_701ce71031efrow6_col2\" class=\"data row6 col2\" >18814</td>\n",
       "                        <td id=\"T_cad8e0a8_2f5d_11ea_836b_701ce71031efrow6_col3\" class=\"data row6 col3\" >17500</td>\n",
       "                        <td id=\"T_cad8e0a8_2f5d_11ea_836b_701ce71031efrow6_col4\" class=\"data row6 col4\" >5131</td>\n",
       "                        <td id=\"T_cad8e0a8_2f5d_11ea_836b_701ce71031efrow6_col5\" class=\"data row6 col5\" >40000</td>\n",
       "                        <td id=\"T_cad8e0a8_2f5d_11ea_836b_701ce71031efrow6_col6\" class=\"data row6 col6\" >1944</td>\n",
       "                        <td id=\"T_cad8e0a8_2f5d_11ea_836b_701ce71031efrow6_col7\" class=\"data row6 col7\" >0.93%</td>\n",
       "            </tr>\n",
       "            <tr>\n",
       "                                <td id=\"T_cad8e0a8_2f5d_11ea_836b_701ce71031efrow7_col0\" class=\"data row7 col0\" >8</td>\n",
       "                        <td id=\"T_cad8e0a8_2f5d_11ea_836b_701ce71031efrow7_col1\" class=\"data row7 col1\" >perl</td>\n",
       "                        <td id=\"T_cad8e0a8_2f5d_11ea_836b_701ce71031efrow7_col2\" class=\"data row7 col2\" >18664</td>\n",
       "                        <td id=\"T_cad8e0a8_2f5d_11ea_836b_701ce71031efrow7_col3\" class=\"data row7 col3\" >15500</td>\n",
       "                        <td id=\"T_cad8e0a8_2f5d_11ea_836b_701ce71031efrow7_col4\" class=\"data row7 col4\" >4268</td>\n",
       "                        <td id=\"T_cad8e0a8_2f5d_11ea_836b_701ce71031efrow7_col5\" class=\"data row7 col5\" >45726</td>\n",
       "                        <td id=\"T_cad8e0a8_2f5d_11ea_836b_701ce71031efrow7_col6\" class=\"data row7 col6\" >1678</td>\n",
       "                        <td id=\"T_cad8e0a8_2f5d_11ea_836b_701ce71031efrow7_col7\" class=\"data row7 col7\" >0.80%</td>\n",
       "            </tr>\n",
       "            <tr>\n",
       "                                <td id=\"T_cad8e0a8_2f5d_11ea_836b_701ce71031efrow8_col0\" class=\"data row8 col0\" >9</td>\n",
       "                        <td id=\"T_cad8e0a8_2f5d_11ea_836b_701ce71031efrow8_col1\" class=\"data row8 col1\" >kotlin</td>\n",
       "                        <td id=\"T_cad8e0a8_2f5d_11ea_836b_701ce71031efrow8_col2\" class=\"data row8 col2\" >18003</td>\n",
       "                        <td id=\"T_cad8e0a8_2f5d_11ea_836b_701ce71031efrow8_col3\" class=\"data row8 col3\" >15571</td>\n",
       "                        <td id=\"T_cad8e0a8_2f5d_11ea_836b_701ce71031efrow8_col4\" class=\"data row8 col4\" >7000</td>\n",
       "                        <td id=\"T_cad8e0a8_2f5d_11ea_836b_701ce71031efrow8_col5\" class=\"data row8 col5\" >47781</td>\n",
       "                        <td id=\"T_cad8e0a8_2f5d_11ea_836b_701ce71031efrow8_col6\" class=\"data row8 col6\" >491</td>\n",
       "                        <td id=\"T_cad8e0a8_2f5d_11ea_836b_701ce71031efrow8_col7\" class=\"data row8 col7\" >0.23%</td>\n",
       "            </tr>\n",
       "            <tr>\n",
       "                                <td id=\"T_cad8e0a8_2f5d_11ea_836b_701ce71031efrow9_col0\" class=\"data row9 col0\" >10</td>\n",
       "                        <td id=\"T_cad8e0a8_2f5d_11ea_836b_701ce71031efrow9_col1\" class=\"data row9 col1\" >cpp</td>\n",
       "                        <td id=\"T_cad8e0a8_2f5d_11ea_836b_701ce71031efrow9_col2\" class=\"data row9 col2\" >17842</td>\n",
       "                        <td id=\"T_cad8e0a8_2f5d_11ea_836b_701ce71031efrow9_col3\" class=\"data row9 col3\" >15000</td>\n",
       "                        <td id=\"T_cad8e0a8_2f5d_11ea_836b_701ce71031efrow9_col4\" class=\"data row9 col4\" >5000</td>\n",
       "                        <td id=\"T_cad8e0a8_2f5d_11ea_836b_701ce71031efrow9_col5\" class=\"data row9 col5\" >40000</td>\n",
       "                        <td id=\"T_cad8e0a8_2f5d_11ea_836b_701ce71031efrow9_col6\" class=\"data row9 col6\" >34456</td>\n",
       "                        <td id=\"T_cad8e0a8_2f5d_11ea_836b_701ce71031efrow9_col7\" class=\"data row9 col7\" >16.40%</td>\n",
       "            </tr>\n",
       "            <tr>\n",
       "                                <td id=\"T_cad8e0a8_2f5d_11ea_836b_701ce71031efrow10_col0\" class=\"data row10 col0\" >11</td>\n",
       "                        <td id=\"T_cad8e0a8_2f5d_11ea_836b_701ce71031efrow10_col1\" class=\"data row10 col1\" >ruby</td>\n",
       "                        <td id=\"T_cad8e0a8_2f5d_11ea_836b_701ce71031efrow10_col2\" class=\"data row10 col2\" >17278</td>\n",
       "                        <td id=\"T_cad8e0a8_2f5d_11ea_836b_701ce71031efrow10_col3\" class=\"data row10 col3\" >16517</td>\n",
       "                        <td id=\"T_cad8e0a8_2f5d_11ea_836b_701ce71031efrow10_col4\" class=\"data row10 col4\" >4857</td>\n",
       "                        <td id=\"T_cad8e0a8_2f5d_11ea_836b_701ce71031efrow10_col5\" class=\"data row10 col5\" >35000</td>\n",
       "                        <td id=\"T_cad8e0a8_2f5d_11ea_836b_701ce71031efrow10_col6\" class=\"data row10 col6\" >640</td>\n",
       "                        <td id=\"T_cad8e0a8_2f5d_11ea_836b_701ce71031efrow10_col7\" class=\"data row10 col7\" >0.30%</td>\n",
       "            </tr>\n",
       "            <tr>\n",
       "                                <td id=\"T_cad8e0a8_2f5d_11ea_836b_701ce71031efrow11_col0\" class=\"data row11 col0\" >12</td>\n",
       "                        <td id=\"T_cad8e0a8_2f5d_11ea_836b_701ce71031efrow11_col1\" class=\"data row11 col1\" >swift</td>\n",
       "                        <td id=\"T_cad8e0a8_2f5d_11ea_836b_701ce71031efrow11_col2\" class=\"data row11 col2\" >16210</td>\n",
       "                        <td id=\"T_cad8e0a8_2f5d_11ea_836b_701ce71031efrow11_col3\" class=\"data row11 col3\" >15000</td>\n",
       "                        <td id=\"T_cad8e0a8_2f5d_11ea_836b_701ce71031efrow11_col4\" class=\"data row11 col4\" >5250</td>\n",
       "                        <td id=\"T_cad8e0a8_2f5d_11ea_836b_701ce71031efrow11_col5\" class=\"data row11 col5\" >37500</td>\n",
       "                        <td id=\"T_cad8e0a8_2f5d_11ea_836b_701ce71031efrow11_col6\" class=\"data row11 col6\" >2078</td>\n",
       "                        <td id=\"T_cad8e0a8_2f5d_11ea_836b_701ce71031efrow11_col7\" class=\"data row11 col7\" >0.99%</td>\n",
       "            </tr>\n",
       "            <tr>\n",
       "                                <td id=\"T_cad8e0a8_2f5d_11ea_836b_701ce71031efrow12_col0\" class=\"data row12 col0\" >13</td>\n",
       "                        <td id=\"T_cad8e0a8_2f5d_11ea_836b_701ce71031efrow12_col1\" class=\"data row12 col1\" >java</td>\n",
       "                        <td id=\"T_cad8e0a8_2f5d_11ea_836b_701ce71031efrow12_col2\" class=\"data row12 col2\" >15704</td>\n",
       "                        <td id=\"T_cad8e0a8_2f5d_11ea_836b_701ce71031efrow12_col3\" class=\"data row12 col3\" >14000</td>\n",
       "                        <td id=\"T_cad8e0a8_2f5d_11ea_836b_701ce71031efrow12_col4\" class=\"data row12 col4\" >4750</td>\n",
       "                        <td id=\"T_cad8e0a8_2f5d_11ea_836b_701ce71031efrow12_col5\" class=\"data row12 col5\" >37500</td>\n",
       "                        <td id=\"T_cad8e0a8_2f5d_11ea_836b_701ce71031efrow12_col6\" class=\"data row12 col6\" >67787</td>\n",
       "                        <td id=\"T_cad8e0a8_2f5d_11ea_836b_701ce71031efrow12_col7\" class=\"data row12 col7\" >32.27%</td>\n",
       "            </tr>\n",
       "            <tr>\n",
       "                                <td id=\"T_cad8e0a8_2f5d_11ea_836b_701ce71031efrow13_col0\" class=\"data row13 col0\" >14</td>\n",
       "                        <td id=\"T_cad8e0a8_2f5d_11ea_836b_701ce71031efrow13_col1\" class=\"data row13 col1\" >typescript</td>\n",
       "                        <td id=\"T_cad8e0a8_2f5d_11ea_836b_701ce71031efrow13_col2\" class=\"data row13 col2\" >15492</td>\n",
       "                        <td id=\"T_cad8e0a8_2f5d_11ea_836b_701ce71031efrow13_col3\" class=\"data row13 col3\" >15000</td>\n",
       "                        <td id=\"T_cad8e0a8_2f5d_11ea_836b_701ce71031efrow13_col4\" class=\"data row13 col4\" >6500</td>\n",
       "                        <td id=\"T_cad8e0a8_2f5d_11ea_836b_701ce71031efrow13_col5\" class=\"data row13 col5\" >32500</td>\n",
       "                        <td id=\"T_cad8e0a8_2f5d_11ea_836b_701ce71031efrow13_col6\" class=\"data row13 col6\" >741</td>\n",
       "                        <td id=\"T_cad8e0a8_2f5d_11ea_836b_701ce71031efrow13_col7\" class=\"data row13 col7\" >0.35%</td>\n",
       "            </tr>\n",
       "            <tr>\n",
       "                                <td id=\"T_cad8e0a8_2f5d_11ea_836b_701ce71031efrow14_col0\" class=\"data row14 col0\" >15</td>\n",
       "                        <td id=\"T_cad8e0a8_2f5d_11ea_836b_701ce71031efrow14_col1\" class=\"data row14 col1\" >php</td>\n",
       "                        <td id=\"T_cad8e0a8_2f5d_11ea_836b_701ce71031efrow14_col2\" class=\"data row14 col2\" >15058</td>\n",
       "                        <td id=\"T_cad8e0a8_2f5d_11ea_836b_701ce71031efrow14_col3\" class=\"data row14 col3\" >12500</td>\n",
       "                        <td id=\"T_cad8e0a8_2f5d_11ea_836b_701ce71031efrow14_col4\" class=\"data row14 col4\" >4000</td>\n",
       "                        <td id=\"T_cad8e0a8_2f5d_11ea_836b_701ce71031efrow14_col5\" class=\"data row14 col5\" >37500</td>\n",
       "                        <td id=\"T_cad8e0a8_2f5d_11ea_836b_701ce71031efrow14_col6\" class=\"data row14 col6\" >10817</td>\n",
       "                        <td id=\"T_cad8e0a8_2f5d_11ea_836b_701ce71031efrow14_col7\" class=\"data row14 col7\" >5.15%</td>\n",
       "            </tr>\n",
       "            <tr>\n",
       "                                <td id=\"T_cad8e0a8_2f5d_11ea_836b_701ce71031efrow15_col0\" class=\"data row15 col0\" >16</td>\n",
       "                        <td id=\"T_cad8e0a8_2f5d_11ea_836b_701ce71031efrow15_col1\" class=\"data row15 col1\" >objective_c</td>\n",
       "                        <td id=\"T_cad8e0a8_2f5d_11ea_836b_701ce71031efrow15_col2\" class=\"data row15 col2\" >14772</td>\n",
       "                        <td id=\"T_cad8e0a8_2f5d_11ea_836b_701ce71031efrow15_col3\" class=\"data row15 col3\" >12500</td>\n",
       "                        <td id=\"T_cad8e0a8_2f5d_11ea_836b_701ce71031efrow15_col4\" class=\"data row15 col4\" >7000</td>\n",
       "                        <td id=\"T_cad8e0a8_2f5d_11ea_836b_701ce71031efrow15_col5\" class=\"data row15 col5\" >27179</td>\n",
       "                        <td id=\"T_cad8e0a8_2f5d_11ea_836b_701ce71031efrow15_col6\" class=\"data row15 col6\" >298</td>\n",
       "                        <td id=\"T_cad8e0a8_2f5d_11ea_836b_701ce71031efrow15_col7\" class=\"data row15 col7\" >0.14%</td>\n",
       "            </tr>\n",
       "            <tr>\n",
       "                                <td id=\"T_cad8e0a8_2f5d_11ea_836b_701ce71031efrow16_col0\" class=\"data row16 col0\" >17</td>\n",
       "                        <td id=\"T_cad8e0a8_2f5d_11ea_836b_701ce71031efrow16_col1\" class=\"data row16 col1\" >visual_basic</td>\n",
       "                        <td id=\"T_cad8e0a8_2f5d_11ea_836b_701ce71031efrow16_col2\" class=\"data row16 col2\" >14540</td>\n",
       "                        <td id=\"T_cad8e0a8_2f5d_11ea_836b_701ce71031efrow16_col3\" class=\"data row16 col3\" >12500</td>\n",
       "                        <td id=\"T_cad8e0a8_2f5d_11ea_836b_701ce71031efrow16_col4\" class=\"data row16 col4\" >6494</td>\n",
       "                        <td id=\"T_cad8e0a8_2f5d_11ea_836b_701ce71031efrow16_col5\" class=\"data row16 col5\" >30000</td>\n",
       "                        <td id=\"T_cad8e0a8_2f5d_11ea_836b_701ce71031efrow16_col6\" class=\"data row16 col6\" >33</td>\n",
       "                        <td id=\"T_cad8e0a8_2f5d_11ea_836b_701ce71031efrow16_col7\" class=\"data row16 col7\" >0.02%</td>\n",
       "            </tr>\n",
       "            <tr>\n",
       "                                <td id=\"T_cad8e0a8_2f5d_11ea_836b_701ce71031efrow17_col0\" class=\"data row17 col0\" >18</td>\n",
       "                        <td id=\"T_cad8e0a8_2f5d_11ea_836b_701ce71031efrow17_col1\" class=\"data row17 col1\" >javascript</td>\n",
       "                        <td id=\"T_cad8e0a8_2f5d_11ea_836b_701ce71031efrow17_col2\" class=\"data row17 col2\" >13378</td>\n",
       "                        <td id=\"T_cad8e0a8_2f5d_11ea_836b_701ce71031efrow17_col3\" class=\"data row17 col3\" >12500</td>\n",
       "                        <td id=\"T_cad8e0a8_2f5d_11ea_836b_701ce71031efrow17_col4\" class=\"data row17 col4\" >5000</td>\n",
       "                        <td id=\"T_cad8e0a8_2f5d_11ea_836b_701ce71031efrow17_col5\" class=\"data row17 col5\" >27500</td>\n",
       "                        <td id=\"T_cad8e0a8_2f5d_11ea_836b_701ce71031efrow17_col6\" class=\"data row17 col6\" >26489</td>\n",
       "                        <td id=\"T_cad8e0a8_2f5d_11ea_836b_701ce71031efrow17_col7\" class=\"data row17 col7\" >12.61%</td>\n",
       "            </tr>\n",
       "            <tr>\n",
       "                                <td id=\"T_cad8e0a8_2f5d_11ea_836b_701ce71031efrow18_col0\" class=\"data row18 col0\" >19</td>\n",
       "                        <td id=\"T_cad8e0a8_2f5d_11ea_836b_701ce71031efrow18_col1\" class=\"data row18 col1\" >c_sharp</td>\n",
       "                        <td id=\"T_cad8e0a8_2f5d_11ea_836b_701ce71031efrow18_col2\" class=\"data row18 col2\" >12834</td>\n",
       "                        <td id=\"T_cad8e0a8_2f5d_11ea_836b_701ce71031efrow18_col3\" class=\"data row18 col3\" >12500</td>\n",
       "                        <td id=\"T_cad8e0a8_2f5d_11ea_836b_701ce71031efrow18_col4\" class=\"data row18 col4\" >4508</td>\n",
       "                        <td id=\"T_cad8e0a8_2f5d_11ea_836b_701ce71031efrow18_col5\" class=\"data row18 col5\" >27500</td>\n",
       "                        <td id=\"T_cad8e0a8_2f5d_11ea_836b_701ce71031efrow18_col6\" class=\"data row18 col6\" >22751</td>\n",
       "                        <td id=\"T_cad8e0a8_2f5d_11ea_836b_701ce71031efrow18_col7\" class=\"data row18 col7\" >10.83%</td>\n",
       "            </tr>\n",
       "            <tr>\n",
       "                                <td id=\"T_cad8e0a8_2f5d_11ea_836b_701ce71031efrow19_col0\" class=\"data row19 col0\" >20</td>\n",
       "                        <td id=\"T_cad8e0a8_2f5d_11ea_836b_701ce71031efrow19_col1\" class=\"data row19 col1\" >delphi</td>\n",
       "                        <td id=\"T_cad8e0a8_2f5d_11ea_836b_701ce71031efrow19_col2\" class=\"data row19 col2\" >12526</td>\n",
       "                        <td id=\"T_cad8e0a8_2f5d_11ea_836b_701ce71031efrow19_col3\" class=\"data row19 col3\" >12500</td>\n",
       "                        <td id=\"T_cad8e0a8_2f5d_11ea_836b_701ce71031efrow19_col4\" class=\"data row19 col4\" >4917</td>\n",
       "                        <td id=\"T_cad8e0a8_2f5d_11ea_836b_701ce71031efrow19_col5\" class=\"data row19 col5\" >25000</td>\n",
       "                        <td id=\"T_cad8e0a8_2f5d_11ea_836b_701ce71031efrow19_col6\" class=\"data row19 col6\" >490</td>\n",
       "                        <td id=\"T_cad8e0a8_2f5d_11ea_836b_701ce71031efrow19_col7\" class=\"data row19 col7\" >0.23%</td>\n",
       "            </tr>\n",
       "            <tr>\n",
       "                                <td id=\"T_cad8e0a8_2f5d_11ea_836b_701ce71031efrow20_col0\" class=\"data row20 col0\" >21</td>\n",
       "                        <td id=\"T_cad8e0a8_2f5d_11ea_836b_701ce71031efrow20_col1\" class=\"data row20 col1\" >vba</td>\n",
       "                        <td id=\"T_cad8e0a8_2f5d_11ea_836b_701ce71031efrow20_col2\" class=\"data row20 col2\" >12169</td>\n",
       "                        <td id=\"T_cad8e0a8_2f5d_11ea_836b_701ce71031efrow20_col3\" class=\"data row20 col3\" >11000</td>\n",
       "                        <td id=\"T_cad8e0a8_2f5d_11ea_836b_701ce71031efrow20_col4\" class=\"data row20 col4\" >5250</td>\n",
       "                        <td id=\"T_cad8e0a8_2f5d_11ea_836b_701ce71031efrow20_col5\" class=\"data row20 col5\" >25000</td>\n",
       "                        <td id=\"T_cad8e0a8_2f5d_11ea_836b_701ce71031efrow20_col6\" class=\"data row20 col6\" >210</td>\n",
       "                        <td id=\"T_cad8e0a8_2f5d_11ea_836b_701ce71031efrow20_col7\" class=\"data row20 col7\" >0.10%</td>\n",
       "            </tr>\n",
       "    </tbody></table>"
      ],
      "text/plain": [
       "<pandas.io.formats.style.Styler at 0x1e487d5e808>"
      ]
     },
     "execution_count": 32,
     "metadata": {},
     "output_type": "execute_result"
    }
   ],
   "source": [
    "data_pl=get_sub_stats_by_prefix(data,'pl_')\n",
    "apply_style(data_pl)"
   ]
  },
  {
   "cell_type": "code",
   "execution_count": null,
   "metadata": {},
   "outputs": [],
   "source": []
  },
  {
   "cell_type": "markdown",
   "metadata": {},
   "source": [
    "数据显示，haskell才是最赚钱的编程语言。python是主流语言里面最赚钱的，比java的工资多了3000元！vb是最不赚钱的了。其中，最赚钱的编程语言和最不赚钱的，工资居然差了2倍。所以，要选好编程语言呀！"
   ]
  },
  {
   "cell_type": "markdown",
   "metadata": {},
   "source": [
    "# 教育"
   ]
  },
  {
   "cell_type": "code",
   "execution_count": 33,
   "metadata": {},
   "outputs": [],
   "source": [
    "edu_counts=data[~(data.edu=='')].groupby(by=['edu']).headcount.sum()"
   ]
  },
  {
   "cell_type": "code",
   "execution_count": 34,
   "metadata": {},
   "outputs": [
    {
     "data": {
      "text/plain": [
       "edu\n",
       "初中及以下        9\n",
       "博士         224\n",
       "大专       38683\n",
       "本科       82164\n",
       "硕士        4265\n",
       "高中         436\n",
       "Name: headcount, dtype: int64"
      ]
     },
     "execution_count": 34,
     "metadata": {},
     "output_type": "execute_result"
    }
   ],
   "source": [
    "edu_counts"
   ]
  },
  {
   "cell_type": "code",
   "execution_count": 35,
   "metadata": {},
   "outputs": [
    {
     "data": {
      "image/png": "[encoded data removed]",
      "text/plain": [
       "<Figure size 720x576 with 1 Axes>"
      ]
     },
     "metadata": {},
     "output_type": "display_data"
    }
   ],
   "source": [
    "plt.figure(figsize=(10,8))\n",
    "plt.pie(edu_counts.values, labels=edu_counts.index, autopct='%1.1f%%')\n",
    "plt.show()"
   ]
  },
  {
   "cell_type": "code",
   "execution_count": 36,
   "metadata": {},
   "outputs": [
    {
     "data": {
      "text/html": [
       "<style  type=\"text/css\" >\n",
       "</style><table id=\"T_cb049fe2_2f5d_11ea_8b77_701ce71031ef\" ><thead>    <tr>        <th class=\"col_heading level0 col0\" >edu</th>        <th class=\"col_heading level0 col1\" >salary_mean</th>        <th class=\"col_heading level0 col2\" >salary_95_min</th>        <th class=\"col_heading level0 col3\" >salary_median</th>        <th class=\"col_heading level0 col4\" >salary_95_max</th>        <th class=\"col_heading level0 col5\" >head_count</th>        <th class=\"col_heading level0 col6\" >percentage</th>    </tr></thead><tbody>\n",
       "                <tr>\n",
       "                                <td id=\"T_cb049fe2_2f5d_11ea_8b77_701ce71031efrow0_col0\" class=\"data row0 col0\" >博士</td>\n",
       "                        <td id=\"T_cb049fe2_2f5d_11ea_8b77_701ce71031efrow0_col1\" class=\"data row0 col1\" >30215</td>\n",
       "                        <td id=\"T_cb049fe2_2f5d_11ea_8b77_701ce71031efrow0_col2\" class=\"data row0 col2\" >13452</td>\n",
       "                        <td id=\"T_cb049fe2_2f5d_11ea_8b77_701ce71031efrow0_col3\" class=\"data row0 col3\" >29000</td>\n",
       "                        <td id=\"T_cb049fe2_2f5d_11ea_8b77_701ce71031efrow0_col4\" class=\"data row0 col4\" >56500</td>\n",
       "                        <td id=\"T_cb049fe2_2f5d_11ea_8b77_701ce71031efrow0_col5\" class=\"data row0 col5\" >224</td>\n",
       "                        <td id=\"T_cb049fe2_2f5d_11ea_8b77_701ce71031efrow0_col6\" class=\"data row0 col6\" >0.18%</td>\n",
       "            </tr>\n",
       "            <tr>\n",
       "                                <td id=\"T_cb049fe2_2f5d_11ea_8b77_701ce71031efrow1_col0\" class=\"data row1 col0\" >硕士</td>\n",
       "                        <td id=\"T_cb049fe2_2f5d_11ea_8b77_701ce71031efrow1_col1\" class=\"data row1 col1\" >22025</td>\n",
       "                        <td id=\"T_cb049fe2_2f5d_11ea_8b77_701ce71031efrow1_col2\" class=\"data row1 col2\" >3842</td>\n",
       "                        <td id=\"T_cb049fe2_2f5d_11ea_8b77_701ce71031efrow1_col3\" class=\"data row1 col3\" >20000</td>\n",
       "                        <td id=\"T_cb049fe2_2f5d_11ea_8b77_701ce71031efrow1_col4\" class=\"data row1 col4\" >45521</td>\n",
       "                        <td id=\"T_cb049fe2_2f5d_11ea_8b77_701ce71031efrow1_col5\" class=\"data row1 col5\" >4265</td>\n",
       "                        <td id=\"T_cb049fe2_2f5d_11ea_8b77_701ce71031efrow1_col6\" class=\"data row1 col6\" >3.39%</td>\n",
       "            </tr>\n",
       "            <tr>\n",
       "                                <td id=\"T_cb049fe2_2f5d_11ea_8b77_701ce71031efrow2_col0\" class=\"data row2 col0\" >本科</td>\n",
       "                        <td id=\"T_cb049fe2_2f5d_11ea_8b77_701ce71031efrow2_col1\" class=\"data row2 col1\" >16829</td>\n",
       "                        <td id=\"T_cb049fe2_2f5d_11ea_8b77_701ce71031efrow2_col2\" class=\"data row2 col2\" >5250</td>\n",
       "                        <td id=\"T_cb049fe2_2f5d_11ea_8b77_701ce71031efrow2_col3\" class=\"data row2 col3\" >15000</td>\n",
       "                        <td id=\"T_cb049fe2_2f5d_11ea_8b77_701ce71031efrow2_col4\" class=\"data row2 col4\" >37500</td>\n",
       "                        <td id=\"T_cb049fe2_2f5d_11ea_8b77_701ce71031efrow2_col5\" class=\"data row2 col5\" >82164</td>\n",
       "                        <td id=\"T_cb049fe2_2f5d_11ea_8b77_701ce71031efrow2_col6\" class=\"data row2 col6\" >65.32%</td>\n",
       "            </tr>\n",
       "            <tr>\n",
       "                                <td id=\"T_cb049fe2_2f5d_11ea_8b77_701ce71031efrow3_col0\" class=\"data row3 col0\" >初中及以下</td>\n",
       "                        <td id=\"T_cb049fe2_2f5d_11ea_8b77_701ce71031efrow3_col1\" class=\"data row3 col1\" >16111</td>\n",
       "                        <td id=\"T_cb049fe2_2f5d_11ea_8b77_701ce71031efrow3_col2\" class=\"data row3 col2\" >10000</td>\n",
       "                        <td id=\"T_cb049fe2_2f5d_11ea_8b77_701ce71031efrow3_col3\" class=\"data row3 col3\" >12500</td>\n",
       "                        <td id=\"T_cb049fe2_2f5d_11ea_8b77_701ce71031efrow3_col4\" class=\"data row3 col4\" >30000</td>\n",
       "                        <td id=\"T_cb049fe2_2f5d_11ea_8b77_701ce71031efrow3_col5\" class=\"data row3 col5\" >9</td>\n",
       "                        <td id=\"T_cb049fe2_2f5d_11ea_8b77_701ce71031efrow3_col6\" class=\"data row3 col6\" >0.01%</td>\n",
       "            </tr>\n",
       "            <tr>\n",
       "                                <td id=\"T_cb049fe2_2f5d_11ea_8b77_701ce71031efrow4_col0\" class=\"data row4 col0\" >大专</td>\n",
       "                        <td id=\"T_cb049fe2_2f5d_11ea_8b77_701ce71031efrow4_col1\" class=\"data row4 col1\" >12663</td>\n",
       "                        <td id=\"T_cb049fe2_2f5d_11ea_8b77_701ce71031efrow4_col2\" class=\"data row4 col2\" >4000</td>\n",
       "                        <td id=\"T_cb049fe2_2f5d_11ea_8b77_701ce71031efrow4_col3\" class=\"data row4 col3\" >12500</td>\n",
       "                        <td id=\"T_cb049fe2_2f5d_11ea_8b77_701ce71031efrow4_col4\" class=\"data row4 col4\" >27500</td>\n",
       "                        <td id=\"T_cb049fe2_2f5d_11ea_8b77_701ce71031efrow4_col5\" class=\"data row4 col5\" >38683</td>\n",
       "                        <td id=\"T_cb049fe2_2f5d_11ea_8b77_701ce71031efrow4_col6\" class=\"data row4 col6\" >30.75%</td>\n",
       "            </tr>\n",
       "            <tr>\n",
       "                                <td id=\"T_cb049fe2_2f5d_11ea_8b77_701ce71031efrow5_col0\" class=\"data row5 col0\" >高中</td>\n",
       "                        <td id=\"T_cb049fe2_2f5d_11ea_8b77_701ce71031efrow5_col1\" class=\"data row5 col1\" >8815</td>\n",
       "                        <td id=\"T_cb049fe2_2f5d_11ea_8b77_701ce71031efrow5_col2\" class=\"data row5 col2\" >3540</td>\n",
       "                        <td id=\"T_cb049fe2_2f5d_11ea_8b77_701ce71031efrow5_col3\" class=\"data row5 col3\" >7000</td>\n",
       "                        <td id=\"T_cb049fe2_2f5d_11ea_8b77_701ce71031efrow5_col4\" class=\"data row5 col4\" >24333</td>\n",
       "                        <td id=\"T_cb049fe2_2f5d_11ea_8b77_701ce71031efrow5_col5\" class=\"data row5 col5\" >436</td>\n",
       "                        <td id=\"T_cb049fe2_2f5d_11ea_8b77_701ce71031efrow5_col6\" class=\"data row5 col6\" >0.35%</td>\n",
       "            </tr>\n",
       "    </tbody></table>"
      ],
      "text/plain": [
       "<pandas.io.formats.style.Styler at 0x1e486a5d548>"
      ]
     },
     "execution_count": 36,
     "metadata": {},
     "output_type": "execute_result"
    }
   ],
   "source": [
    "data_edu=get_sub_stats_by_col(data[data.edu.isin(['初中及以下','高中','大专','本科','硕士','博士'])], 'edu')\n",
    "apply_style(data_edu)"
   ]
  },
  {
   "cell_type": "code",
   "execution_count": 37,
   "metadata": {},
   "outputs": [],
   "source": [
    "salary_associate=data[data.edu=='大专'].monthly_salary\n",
    "salary_bachelor=data[data.edu=='本科'].monthly_salary\n",
    "salary_master=data[data.edu=='硕士'].monthly_salary\n",
    "salary_phd=data[data.edu=='博士'].monthly_salary"
   ]
  },
  {
   "cell_type": "code",
   "execution_count": null,
   "metadata": {},
   "outputs": [],
   "source": []
  },
  {
   "cell_type": "code",
   "execution_count": 38,
   "metadata": {},
   "outputs": [
    {
     "name": "stdout",
     "output_type": "stream",
     "text": [
      "大专，本科，硕士，博士的平均工资分别是12886，17124，22339，31055。中位数分别是12500， 15000，20000， 29166。\n"
     ]
    }
   ],
   "source": [
    "print('大专，本科，硕士，博士的平均工资分别是{:.0f}，{:.0f}，{:.0f}，{:.0f}。中位数分别是{:.0f}， {:.0f}，{:.0f}， {:.0f}。'.format(\n",
    "    salary_associate.mean(),salary_bachelor.mean(),salary_master.mean(),salary_phd.mean(),\n",
    "    salary_associate.median(),salary_bachelor.median(),salary_master.median(),salary_phd.median()))"
   ]
  },
  {
   "cell_type": "code",
   "execution_count": 39,
   "metadata": {},
   "outputs": [
    {
     "data": {
      "text/plain": [
       "F_onewayResult(statistic=50.58838736859085, pvalue=1.7170968416536228e-12)"
      ]
     },
     "execution_count": 39,
     "metadata": {},
     "output_type": "execute_result"
    }
   ],
   "source": [
    "stats.f_oneway(salary_phd, salary_master)"
   ]
  },
  {
   "cell_type": "code",
   "execution_count": 40,
   "metadata": {},
   "outputs": [
    {
     "data": {
      "text/plain": [
       "F_onewayResult(statistic=538.6931956652704, pvalue=4.615420197073877e-118)"
      ]
     },
     "execution_count": 40,
     "metadata": {},
     "output_type": "execute_result"
    }
   ],
   "source": [
    "stats.f_oneway(salary_master, salary_bachelor)"
   ]
  },
  {
   "cell_type": "code",
   "execution_count": 41,
   "metadata": {},
   "outputs": [
    {
     "data": {
      "text/plain": [
       "F_onewayResult(statistic=2675.1407626078626, pvalue=0.0)"
      ]
     },
     "execution_count": 41,
     "metadata": {},
     "output_type": "execute_result"
    }
   ],
   "source": [
    "stats.f_oneway(salary_bachelor, salary_associate)"
   ]
  },
  {
   "cell_type": "markdown",
   "metadata": {},
   "source": [
    "经过Oneway Anova Test，证明从大专到博士，学历每提高一级，工资都有显著的提高。"
   ]
  },
  {
   "cell_type": "code",
   "execution_count": 42,
   "metadata": {},
   "outputs": [
    {
     "data": {
      "image/png": "[encoded data removed]",
      "text/plain": [
       "<Figure size 432x288 with 1 Axes>"
      ]
     },
     "metadata": {
      "needs_background": "light"
     },
     "output_type": "display_data"
    }
   ],
   "source": [
    "\n",
    "order=['大专','本科','硕士','博士']\n",
    "a=sns.boxplot(y='edu',x='monthly_salary',order=order,data=data[data.edu.isin(order)], orient='h')\n",
    "plt.annotate('https://github.com/juwikuang/job_survey', xy=(0.5,1.5), xytext=(2, 1.55))\n",
    "plt.show()"
   ]
  },
  {
   "cell_type": "markdown",
   "metadata": {},
   "source": [
    "# 工作经验 Working Experience"
   ]
  },
  {
   "cell_type": "code",
   "execution_count": 43,
   "metadata": {},
   "outputs": [
    {
     "data": {
      "text/html": [
       "<style  type=\"text/css\" >\n",
       "</style><table id=\"T_cb43f300_2f5d_11ea_b447_701ce71031ef\" ><thead>    <tr>        <th class=\"col_heading level0 col0\" >experience</th>        <th class=\"col_heading level0 col1\" >salary_mean</th>        <th class=\"col_heading level0 col2\" >salary_95_min</th>        <th class=\"col_heading level0 col3\" >salary_median</th>        <th class=\"col_heading level0 col4\" >salary_95_max</th>        <th class=\"col_heading level0 col5\" >head_count</th>        <th class=\"col_heading level0 col6\" >percentage</th>    </tr></thead><tbody>\n",
       "                <tr>\n",
       "                                <td id=\"T_cb43f300_2f5d_11ea_b447_701ce71031efrow0_col0\" class=\"data row0 col0\" >10+</td>\n",
       "                        <td id=\"T_cb43f300_2f5d_11ea_b447_701ce71031efrow0_col1\" class=\"data row0 col1\" >31636</td>\n",
       "                        <td id=\"T_cb43f300_2f5d_11ea_b447_701ce71031efrow0_col2\" class=\"data row0 col2\" >12500</td>\n",
       "                        <td id=\"T_cb43f300_2f5d_11ea_b447_701ce71031efrow0_col3\" class=\"data row0 col3\" >30000</td>\n",
       "                        <td id=\"T_cb43f300_2f5d_11ea_b447_701ce71031efrow0_col4\" class=\"data row0 col4\" >60000</td>\n",
       "                        <td id=\"T_cb43f300_2f5d_11ea_b447_701ce71031efrow0_col5\" class=\"data row0 col5\" >428</td>\n",
       "                        <td id=\"T_cb43f300_2f5d_11ea_b447_701ce71031efrow0_col6\" class=\"data row0 col6\" >0.28%</td>\n",
       "            </tr>\n",
       "            <tr>\n",
       "                                <td id=\"T_cb43f300_2f5d_11ea_b447_701ce71031efrow1_col0\" class=\"data row1 col0\" >5_10</td>\n",
       "                        <td id=\"T_cb43f300_2f5d_11ea_b447_701ce71031efrow1_col1\" class=\"data row1 col1\" >22503</td>\n",
       "                        <td id=\"T_cb43f300_2f5d_11ea_b447_701ce71031efrow1_col2\" class=\"data row1 col2\" >11500</td>\n",
       "                        <td id=\"T_cb43f300_2f5d_11ea_b447_701ce71031efrow1_col3\" class=\"data row1 col3\" >20000</td>\n",
       "                        <td id=\"T_cb43f300_2f5d_11ea_b447_701ce71031efrow1_col4\" class=\"data row1 col4\" >45000</td>\n",
       "                        <td id=\"T_cb43f300_2f5d_11ea_b447_701ce71031efrow1_col5\" class=\"data row1 col5\" >19267</td>\n",
       "                        <td id=\"T_cb43f300_2f5d_11ea_b447_701ce71031efrow1_col6\" class=\"data row1 col6\" >12.80%</td>\n",
       "            </tr>\n",
       "            <tr>\n",
       "                                <td id=\"T_cb43f300_2f5d_11ea_b447_701ce71031efrow2_col0\" class=\"data row2 col0\" >3_5</td>\n",
       "                        <td id=\"T_cb43f300_2f5d_11ea_b447_701ce71031efrow2_col1\" class=\"data row2 col1\" >17215</td>\n",
       "                        <td id=\"T_cb43f300_2f5d_11ea_b447_701ce71031efrow2_col2\" class=\"data row2 col2\" >8500</td>\n",
       "                        <td id=\"T_cb43f300_2f5d_11ea_b447_701ce71031efrow2_col3\" class=\"data row2 col3\" >15000</td>\n",
       "                        <td id=\"T_cb43f300_2f5d_11ea_b447_701ce71031efrow2_col4\" class=\"data row2 col4\" >37500</td>\n",
       "                        <td id=\"T_cb43f300_2f5d_11ea_b447_701ce71031efrow2_col5\" class=\"data row2 col5\" >45923</td>\n",
       "                        <td id=\"T_cb43f300_2f5d_11ea_b447_701ce71031efrow2_col6\" class=\"data row2 col6\" >30.51%</td>\n",
       "            </tr>\n",
       "            <tr>\n",
       "                                <td id=\"T_cb43f300_2f5d_11ea_b447_701ce71031efrow3_col0\" class=\"data row3 col0\" >no</td>\n",
       "                        <td id=\"T_cb43f300_2f5d_11ea_b447_701ce71031efrow3_col1\" class=\"data row3 col1\" >13634</td>\n",
       "                        <td id=\"T_cb43f300_2f5d_11ea_b447_701ce71031efrow3_col2\" class=\"data row3 col2\" >3500</td>\n",
       "                        <td id=\"T_cb43f300_2f5d_11ea_b447_701ce71031efrow3_col3\" class=\"data row3 col3\" >12500</td>\n",
       "                        <td id=\"T_cb43f300_2f5d_11ea_b447_701ce71031efrow3_col4\" class=\"data row3 col4\" >35000</td>\n",
       "                        <td id=\"T_cb43f300_2f5d_11ea_b447_701ce71031efrow3_col5\" class=\"data row3 col5\" >41878</td>\n",
       "                        <td id=\"T_cb43f300_2f5d_11ea_b447_701ce71031efrow3_col6\" class=\"data row3 col6\" >27.82%</td>\n",
       "            </tr>\n",
       "            <tr>\n",
       "                                <td id=\"T_cb43f300_2f5d_11ea_b447_701ce71031efrow4_col0\" class=\"data row4 col0\" >1_3</td>\n",
       "                        <td id=\"T_cb43f300_2f5d_11ea_b447_701ce71031efrow4_col1\" class=\"data row4 col1\" >12785</td>\n",
       "                        <td id=\"T_cb43f300_2f5d_11ea_b447_701ce71031efrow4_col2\" class=\"data row4 col2\" >5250</td>\n",
       "                        <td id=\"T_cb43f300_2f5d_11ea_b447_701ce71031efrow4_col3\" class=\"data row4 col3\" >11500</td>\n",
       "                        <td id=\"T_cb43f300_2f5d_11ea_b447_701ce71031efrow4_col4\" class=\"data row4 col4\" >30000</td>\n",
       "                        <td id=\"T_cb43f300_2f5d_11ea_b447_701ce71031efrow4_col5\" class=\"data row4 col5\" >43024</td>\n",
       "                        <td id=\"T_cb43f300_2f5d_11ea_b447_701ce71031efrow4_col6\" class=\"data row4 col6\" >28.58%</td>\n",
       "            </tr>\n",
       "    </tbody></table>"
      ],
      "text/plain": [
       "<pandas.io.formats.style.Styler at 0x1e48697d208>"
      ]
     },
     "execution_count": 43,
     "metadata": {},
     "output_type": "execute_result"
    }
   ],
   "source": [
    "data_experience=get_sub_stats_by_col(data, 'experience')\n",
    "apply_style(data_experience)"
   ]
  },
  {
   "cell_type": "code",
   "execution_count": 44,
   "metadata": {},
   "outputs": [],
   "source": [
    "salary_we_10=data[data.experience=='10+'].monthly_salary\n",
    "salary_we_5_10=data[data.experience=='5_10'].monthly_salary\n",
    "salary_we_3_5=data[data.experience=='3_5'].monthly_salary\n",
    "salary_we_1_3=data[data.experience=='1_3'].monthly_salary\n",
    "salary_we_no=data[data.experience=='no'].monthly_salary"
   ]
  },
  {
   "cell_type": "code",
   "execution_count": 45,
   "metadata": {},
   "outputs": [
    {
     "data": {
      "image/png": "[encoded data removed]",
      "text/plain": [
       "<Figure size 432x288 with 1 Axes>"
      ]
     },
     "metadata": {
      "needs_background": "light"
     },
     "output_type": "display_data"
    }
   ],
   "source": [
    "\n",
    "order=['10+','5_10','3_5','1_3']\n",
    "sns.boxplot(y='experience',x='monthly_salary',order=order,data=data[data.experience.isin(order)], orient='h')\n",
    "plt.annotate('https://github.com/juwikuang/job_survey', xy=(1.5,1.5), xytext=(1.55, 1.55))\n",
    "plt.show()"
   ]
  },
  {
   "cell_type": "markdown",
   "metadata": {},
   "source": [
    "# 公司 Company"
   ]
  },
  {
   "cell_type": "markdown",
   "metadata": {},
   "source": [
    "## 公司性质 Company Type"
   ]
  },
  {
   "cell_type": "code",
   "execution_count": 46,
   "metadata": {},
   "outputs": [
    {
     "data": {
      "text/html": [
       "<style  type=\"text/css\" >\n",
       "</style><table id=\"T_cb81c086_2f5d_11ea_83f5_701ce71031ef\" ><thead>    <tr>        <th class=\"col_heading level0 col0\" >company_type</th>        <th class=\"col_heading level0 col1\" >salary_mean</th>        <th class=\"col_heading level0 col2\" >salary_95_min</th>        <th class=\"col_heading level0 col3\" >salary_median</th>        <th class=\"col_heading level0 col4\" >salary_95_max</th>        <th class=\"col_heading level0 col5\" >head_count</th>        <th class=\"col_heading level0 col6\" >percentage</th>    </tr></thead><tbody>\n",
       "                <tr>\n",
       "                                <td id=\"T_cb81c086_2f5d_11ea_83f5_701ce71031efrow0_col0\" class=\"data row0 col0\" >事业单位</td>\n",
       "                        <td id=\"T_cb81c086_2f5d_11ea_83f5_701ce71031efrow0_col1\" class=\"data row0 col1\" >21660</td>\n",
       "                        <td id=\"T_cb81c086_2f5d_11ea_83f5_701ce71031efrow0_col2\" class=\"data row0 col2\" >3345</td>\n",
       "                        <td id=\"T_cb81c086_2f5d_11ea_83f5_701ce71031efrow0_col3\" class=\"data row0 col3\" >17500</td>\n",
       "                        <td id=\"T_cb81c086_2f5d_11ea_83f5_701ce71031efrow0_col4\" class=\"data row0 col4\" >60000</td>\n",
       "                        <td id=\"T_cb81c086_2f5d_11ea_83f5_701ce71031efrow0_col5\" class=\"data row0 col5\" >1149</td>\n",
       "                        <td id=\"T_cb81c086_2f5d_11ea_83f5_701ce71031efrow0_col6\" class=\"data row0 col6\" >0.76%</td>\n",
       "            </tr>\n",
       "            <tr>\n",
       "                                <td id=\"T_cb81c086_2f5d_11ea_83f5_701ce71031efrow1_col0\" class=\"data row1 col0\" >外资（欧美）</td>\n",
       "                        <td id=\"T_cb81c086_2f5d_11ea_83f5_701ce71031efrow1_col1\" class=\"data row1 col1\" >18426</td>\n",
       "                        <td id=\"T_cb81c086_2f5d_11ea_83f5_701ce71031efrow1_col2\" class=\"data row1 col2\" >6000</td>\n",
       "                        <td id=\"T_cb81c086_2f5d_11ea_83f5_701ce71031efrow1_col3\" class=\"data row1 col3\" >17500</td>\n",
       "                        <td id=\"T_cb81c086_2f5d_11ea_83f5_701ce71031efrow1_col4\" class=\"data row1 col4\" >42312</td>\n",
       "                        <td id=\"T_cb81c086_2f5d_11ea_83f5_701ce71031efrow1_col5\" class=\"data row1 col5\" >7629</td>\n",
       "                        <td id=\"T_cb81c086_2f5d_11ea_83f5_701ce71031efrow1_col6\" class=\"data row1 col6\" >5.07%</td>\n",
       "            </tr>\n",
       "            <tr>\n",
       "                                <td id=\"T_cb81c086_2f5d_11ea_83f5_701ce71031efrow2_col0\" class=\"data row2 col0\" >合资</td>\n",
       "                        <td id=\"T_cb81c086_2f5d_11ea_83f5_701ce71031efrow2_col1\" class=\"data row2 col1\" >15970</td>\n",
       "                        <td id=\"T_cb81c086_2f5d_11ea_83f5_701ce71031efrow2_col2\" class=\"data row2 col2\" >6250</td>\n",
       "                        <td id=\"T_cb81c086_2f5d_11ea_83f5_701ce71031efrow2_col3\" class=\"data row2 col3\" >14000</td>\n",
       "                        <td id=\"T_cb81c086_2f5d_11ea_83f5_701ce71031efrow2_col4\" class=\"data row2 col4\" >35000</td>\n",
       "                        <td id=\"T_cb81c086_2f5d_11ea_83f5_701ce71031efrow2_col5\" class=\"data row2 col5\" >13944</td>\n",
       "                        <td id=\"T_cb81c086_2f5d_11ea_83f5_701ce71031efrow2_col6\" class=\"data row2 col6\" >9.26%</td>\n",
       "            </tr>\n",
       "            <tr>\n",
       "                                <td id=\"T_cb81c086_2f5d_11ea_83f5_701ce71031efrow3_col0\" class=\"data row3 col0\" >民营公司</td>\n",
       "                        <td id=\"T_cb81c086_2f5d_11ea_83f5_701ce71031efrow3_col1\" class=\"data row3 col1\" >15493</td>\n",
       "                        <td id=\"T_cb81c086_2f5d_11ea_83f5_701ce71031efrow3_col2\" class=\"data row3 col2\" >4500</td>\n",
       "                        <td id=\"T_cb81c086_2f5d_11ea_83f5_701ce71031efrow3_col3\" class=\"data row3 col3\" >13000</td>\n",
       "                        <td id=\"T_cb81c086_2f5d_11ea_83f5_701ce71031efrow3_col4\" class=\"data row3 col4\" >37500</td>\n",
       "                        <td id=\"T_cb81c086_2f5d_11ea_83f5_701ce71031efrow3_col5\" class=\"data row3 col5\" >109909</td>\n",
       "                        <td id=\"T_cb81c086_2f5d_11ea_83f5_701ce71031efrow3_col6\" class=\"data row3 col6\" >73.02%</td>\n",
       "            </tr>\n",
       "            <tr>\n",
       "                                <td id=\"T_cb81c086_2f5d_11ea_83f5_701ce71031efrow4_col0\" class=\"data row4 col0\" >外资（非欧美）</td>\n",
       "                        <td id=\"T_cb81c086_2f5d_11ea_83f5_701ce71031efrow4_col1\" class=\"data row4 col1\" >15376</td>\n",
       "                        <td id=\"T_cb81c086_2f5d_11ea_83f5_701ce71031efrow4_col2\" class=\"data row4 col2\" >5250</td>\n",
       "                        <td id=\"T_cb81c086_2f5d_11ea_83f5_701ce71031efrow4_col3\" class=\"data row4 col3\" >13000</td>\n",
       "                        <td id=\"T_cb81c086_2f5d_11ea_83f5_701ce71031efrow4_col4\" class=\"data row4 col4\" >35000</td>\n",
       "                        <td id=\"T_cb81c086_2f5d_11ea_83f5_701ce71031efrow4_col5\" class=\"data row4 col5\" >8138</td>\n",
       "                        <td id=\"T_cb81c086_2f5d_11ea_83f5_701ce71031efrow4_col6\" class=\"data row4 col6\" >5.41%</td>\n",
       "            </tr>\n",
       "            <tr>\n",
       "                                <td id=\"T_cb81c086_2f5d_11ea_83f5_701ce71031efrow5_col0\" class=\"data row5 col0\" >国企</td>\n",
       "                        <td id=\"T_cb81c086_2f5d_11ea_83f5_701ce71031efrow5_col1\" class=\"data row5 col1\" >14805</td>\n",
       "                        <td id=\"T_cb81c086_2f5d_11ea_83f5_701ce71031efrow5_col2\" class=\"data row5 col2\" >3750</td>\n",
       "                        <td id=\"T_cb81c086_2f5d_11ea_83f5_701ce71031efrow5_col3\" class=\"data row5 col3\" >12500</td>\n",
       "                        <td id=\"T_cb81c086_2f5d_11ea_83f5_701ce71031efrow5_col4\" class=\"data row5 col4\" >32500</td>\n",
       "                        <td id=\"T_cb81c086_2f5d_11ea_83f5_701ce71031efrow5_col5\" class=\"data row5 col5\" >9339</td>\n",
       "                        <td id=\"T_cb81c086_2f5d_11ea_83f5_701ce71031efrow5_col6\" class=\"data row5 col6\" >6.20%</td>\n",
       "            </tr>\n",
       "            <tr>\n",
       "                                <td id=\"T_cb81c086_2f5d_11ea_83f5_701ce71031efrow6_col0\" class=\"data row6 col0\" >外企代表处</td>\n",
       "                        <td id=\"T_cb81c086_2f5d_11ea_83f5_701ce71031efrow6_col1\" class=\"data row6 col1\" >13190</td>\n",
       "                        <td id=\"T_cb81c086_2f5d_11ea_83f5_701ce71031efrow6_col2\" class=\"data row6 col2\" >4364</td>\n",
       "                        <td id=\"T_cb81c086_2f5d_11ea_83f5_701ce71031efrow6_col3\" class=\"data row6 col3\" >12500</td>\n",
       "                        <td id=\"T_cb81c086_2f5d_11ea_83f5_701ce71031efrow6_col4\" class=\"data row6 col4\" >35000</td>\n",
       "                        <td id=\"T_cb81c086_2f5d_11ea_83f5_701ce71031efrow6_col5\" class=\"data row6 col5\" >117</td>\n",
       "                        <td id=\"T_cb81c086_2f5d_11ea_83f5_701ce71031efrow6_col6\" class=\"data row6 col6\" >0.08%</td>\n",
       "            </tr>\n",
       "            <tr>\n",
       "                                <td id=\"T_cb81c086_2f5d_11ea_83f5_701ce71031efrow7_col0\" class=\"data row7 col0\" >非营利组织</td>\n",
       "                        <td id=\"T_cb81c086_2f5d_11ea_83f5_701ce71031efrow7_col1\" class=\"data row7 col1\" >10821</td>\n",
       "                        <td id=\"T_cb81c086_2f5d_11ea_83f5_701ce71031efrow7_col2\" class=\"data row7 col2\" >5279</td>\n",
       "                        <td id=\"T_cb81c086_2f5d_11ea_83f5_701ce71031efrow7_col3\" class=\"data row7 col3\" >10937</td>\n",
       "                        <td id=\"T_cb81c086_2f5d_11ea_83f5_701ce71031efrow7_col4\" class=\"data row7 col4\" >17500</td>\n",
       "                        <td id=\"T_cb81c086_2f5d_11ea_83f5_701ce71031efrow7_col5\" class=\"data row7 col5\" >114</td>\n",
       "                        <td id=\"T_cb81c086_2f5d_11ea_83f5_701ce71031efrow7_col6\" class=\"data row7 col6\" >0.08%</td>\n",
       "            </tr>\n",
       "            <tr>\n",
       "                                <td id=\"T_cb81c086_2f5d_11ea_83f5_701ce71031efrow8_col0\" class=\"data row8 col0\" >政府机关</td>\n",
       "                        <td id=\"T_cb81c086_2f5d_11ea_83f5_701ce71031efrow8_col1\" class=\"data row8 col1\" >8745</td>\n",
       "                        <td id=\"T_cb81c086_2f5d_11ea_83f5_701ce71031efrow8_col2\" class=\"data row8 col2\" >5379</td>\n",
       "                        <td id=\"T_cb81c086_2f5d_11ea_83f5_701ce71031efrow8_col3\" class=\"data row8 col3\" >7000</td>\n",
       "                        <td id=\"T_cb81c086_2f5d_11ea_83f5_701ce71031efrow8_col4\" class=\"data row8 col4\" >17500</td>\n",
       "                        <td id=\"T_cb81c086_2f5d_11ea_83f5_701ce71031efrow8_col5\" class=\"data row8 col5\" >181</td>\n",
       "                        <td id=\"T_cb81c086_2f5d_11ea_83f5_701ce71031efrow8_col6\" class=\"data row8 col6\" >0.12%</td>\n",
       "            </tr>\n",
       "    </tbody></table>"
      ],
      "text/plain": [
       "<pandas.io.formats.style.Styler at 0x1e494a92048>"
      ]
     },
     "execution_count": 46,
     "metadata": {},
     "output_type": "execute_result"
    }
   ],
   "source": [
    "data_company_type=get_sub_stats_by_col(data,'company_type')\n",
    "apply_style(data_company_type)"
   ]
  },
  {
   "cell_type": "markdown",
   "metadata": {},
   "source": [
    "us_eu是欧美外企，startup是创业公司，listed是上市公司，state是国企，private是私企，foreign是非欧美外企，其他不足1000个样本的不管了。"
   ]
  },
  {
   "cell_type": "markdown",
   "metadata": {},
   "source": [
    "## 公司规模 Company Size"
   ]
  },
  {
   "cell_type": "code",
   "execution_count": 47,
   "metadata": {},
   "outputs": [
    {
     "data": {
      "text/html": [
       "<style  type=\"text/css\" >\n",
       "</style><table id=\"T_cb94fa6c_2f5d_11ea_a2eb_701ce71031ef\" ><thead>    <tr>        <th class=\"col_heading level0 col0\" >company_size</th>        <th class=\"col_heading level0 col1\" >salary_mean</th>        <th class=\"col_heading level0 col2\" >salary_95_min</th>        <th class=\"col_heading level0 col3\" >salary_median</th>        <th class=\"col_heading level0 col4\" >salary_95_max</th>        <th class=\"col_heading level0 col5\" >head_count</th>        <th class=\"col_heading level0 col6\" >percentage</th>    </tr></thead><tbody>\n",
       "                <tr>\n",
       "                                <td id=\"T_cb94fa6c_2f5d_11ea_a2eb_701ce71031efrow0_col0\" class=\"data row0 col0\" >10000+</td>\n",
       "                        <td id=\"T_cb94fa6c_2f5d_11ea_a2eb_701ce71031efrow0_col1\" class=\"data row0 col1\" >23455</td>\n",
       "                        <td id=\"T_cb94fa6c_2f5d_11ea_a2eb_701ce71031efrow0_col2\" class=\"data row0 col2\" >5250</td>\n",
       "                        <td id=\"T_cb94fa6c_2f5d_11ea_a2eb_701ce71031efrow0_col3\" class=\"data row0 col3\" >21500</td>\n",
       "                        <td id=\"T_cb94fa6c_2f5d_11ea_a2eb_701ce71031efrow0_col4\" class=\"data row0 col4\" >52500</td>\n",
       "                        <td id=\"T_cb94fa6c_2f5d_11ea_a2eb_701ce71031efrow0_col5\" class=\"data row0 col5\" >9185</td>\n",
       "                        <td id=\"T_cb94fa6c_2f5d_11ea_a2eb_701ce71031efrow0_col6\" class=\"data row0 col6\" >6.10%</td>\n",
       "            </tr>\n",
       "            <tr>\n",
       "                                <td id=\"T_cb94fa6c_2f5d_11ea_a2eb_701ce71031efrow1_col0\" class=\"data row1 col0\" >5000-10000</td>\n",
       "                        <td id=\"T_cb94fa6c_2f5d_11ea_a2eb_701ce71031efrow1_col1\" class=\"data row1 col1\" >17625</td>\n",
       "                        <td id=\"T_cb94fa6c_2f5d_11ea_a2eb_701ce71031efrow1_col2\" class=\"data row1 col2\" >6526</td>\n",
       "                        <td id=\"T_cb94fa6c_2f5d_11ea_a2eb_701ce71031efrow1_col3\" class=\"data row1 col3\" >15000</td>\n",
       "                        <td id=\"T_cb94fa6c_2f5d_11ea_a2eb_701ce71031efrow1_col4\" class=\"data row1 col4\" >45000</td>\n",
       "                        <td id=\"T_cb94fa6c_2f5d_11ea_a2eb_701ce71031efrow1_col5\" class=\"data row1 col5\" >3584</td>\n",
       "                        <td id=\"T_cb94fa6c_2f5d_11ea_a2eb_701ce71031efrow1_col6\" class=\"data row1 col6\" >2.38%</td>\n",
       "            </tr>\n",
       "            <tr>\n",
       "                                <td id=\"T_cb94fa6c_2f5d_11ea_a2eb_701ce71031efrow2_col0\" class=\"data row2 col0\" >1000-5000</td>\n",
       "                        <td id=\"T_cb94fa6c_2f5d_11ea_a2eb_701ce71031efrow2_col1\" class=\"data row2 col1\" >16764</td>\n",
       "                        <td id=\"T_cb94fa6c_2f5d_11ea_a2eb_701ce71031efrow2_col2\" class=\"data row2 col2\" >5000</td>\n",
       "                        <td id=\"T_cb94fa6c_2f5d_11ea_a2eb_701ce71031efrow2_col3\" class=\"data row2 col3\" >15000</td>\n",
       "                        <td id=\"T_cb94fa6c_2f5d_11ea_a2eb_701ce71031efrow2_col4\" class=\"data row2 col4\" >37500</td>\n",
       "                        <td id=\"T_cb94fa6c_2f5d_11ea_a2eb_701ce71031efrow2_col5\" class=\"data row2 col5\" >18363</td>\n",
       "                        <td id=\"T_cb94fa6c_2f5d_11ea_a2eb_701ce71031efrow2_col6\" class=\"data row2 col6\" >12.20%</td>\n",
       "            </tr>\n",
       "            <tr>\n",
       "                                <td id=\"T_cb94fa6c_2f5d_11ea_a2eb_701ce71031efrow3_col0\" class=\"data row3 col0\" >500-1000</td>\n",
       "                        <td id=\"T_cb94fa6c_2f5d_11ea_a2eb_701ce71031efrow3_col1\" class=\"data row3 col1\" >16719</td>\n",
       "                        <td id=\"T_cb94fa6c_2f5d_11ea_a2eb_701ce71031efrow3_col2\" class=\"data row3 col2\" >5250</td>\n",
       "                        <td id=\"T_cb94fa6c_2f5d_11ea_a2eb_701ce71031efrow3_col3\" class=\"data row3 col3\" >15000</td>\n",
       "                        <td id=\"T_cb94fa6c_2f5d_11ea_a2eb_701ce71031efrow3_col4\" class=\"data row3 col4\" >37500</td>\n",
       "                        <td id=\"T_cb94fa6c_2f5d_11ea_a2eb_701ce71031efrow3_col5\" class=\"data row3 col5\" >15637</td>\n",
       "                        <td id=\"T_cb94fa6c_2f5d_11ea_a2eb_701ce71031efrow3_col6\" class=\"data row3 col6\" >10.39%</td>\n",
       "            </tr>\n",
       "            <tr>\n",
       "                                <td id=\"T_cb94fa6c_2f5d_11ea_a2eb_701ce71031efrow4_col0\" class=\"data row4 col0\" ></td>\n",
       "                        <td id=\"T_cb94fa6c_2f5d_11ea_a2eb_701ce71031efrow4_col1\" class=\"data row4 col1\" >15752</td>\n",
       "                        <td id=\"T_cb94fa6c_2f5d_11ea_a2eb_701ce71031efrow4_col2\" class=\"data row4 col2\" >5948</td>\n",
       "                        <td id=\"T_cb94fa6c_2f5d_11ea_a2eb_701ce71031efrow4_col3\" class=\"data row4 col3\" >12500</td>\n",
       "                        <td id=\"T_cb94fa6c_2f5d_11ea_a2eb_701ce71031efrow4_col4\" class=\"data row4 col4\" >50000</td>\n",
       "                        <td id=\"T_cb94fa6c_2f5d_11ea_a2eb_701ce71031efrow4_col5\" class=\"data row4 col5\" >1011</td>\n",
       "                        <td id=\"T_cb94fa6c_2f5d_11ea_a2eb_701ce71031efrow4_col6\" class=\"data row4 col6\" >0.67%</td>\n",
       "            </tr>\n",
       "            <tr>\n",
       "                                <td id=\"T_cb94fa6c_2f5d_11ea_a2eb_701ce71031efrow5_col0\" class=\"data row5 col0\" >150-500</td>\n",
       "                        <td id=\"T_cb94fa6c_2f5d_11ea_a2eb_701ce71031efrow5_col1\" class=\"data row5 col1\" >15250</td>\n",
       "                        <td id=\"T_cb94fa6c_2f5d_11ea_a2eb_701ce71031efrow5_col2\" class=\"data row5 col2\" >5250</td>\n",
       "                        <td id=\"T_cb94fa6c_2f5d_11ea_a2eb_701ce71031efrow5_col3\" class=\"data row5 col3\" >14000</td>\n",
       "                        <td id=\"T_cb94fa6c_2f5d_11ea_a2eb_701ce71031efrow5_col4\" class=\"data row5 col4\" >33659</td>\n",
       "                        <td id=\"T_cb94fa6c_2f5d_11ea_a2eb_701ce71031efrow5_col5\" class=\"data row5 col5\" >34579</td>\n",
       "                        <td id=\"T_cb94fa6c_2f5d_11ea_a2eb_701ce71031efrow5_col6\" class=\"data row5 col6\" >22.97%</td>\n",
       "            </tr>\n",
       "            <tr>\n",
       "                                <td id=\"T_cb94fa6c_2f5d_11ea_a2eb_701ce71031efrow6_col0\" class=\"data row6 col0\" >50-150</td>\n",
       "                        <td id=\"T_cb94fa6c_2f5d_11ea_a2eb_701ce71031efrow6_col1\" class=\"data row6 col1\" >14681</td>\n",
       "                        <td id=\"T_cb94fa6c_2f5d_11ea_a2eb_701ce71031efrow6_col2\" class=\"data row6 col2\" >4428</td>\n",
       "                        <td id=\"T_cb94fa6c_2f5d_11ea_a2eb_701ce71031efrow6_col3\" class=\"data row6 col3\" >12500</td>\n",
       "                        <td id=\"T_cb94fa6c_2f5d_11ea_a2eb_701ce71031efrow6_col4\" class=\"data row6 col4\" >35000</td>\n",
       "                        <td id=\"T_cb94fa6c_2f5d_11ea_a2eb_701ce71031efrow6_col5\" class=\"data row6 col5\" >44344</td>\n",
       "                        <td id=\"T_cb94fa6c_2f5d_11ea_a2eb_701ce71031efrow6_col6\" class=\"data row6 col6\" >29.46%</td>\n",
       "            </tr>\n",
       "            <tr>\n",
       "                                <td id=\"T_cb94fa6c_2f5d_11ea_a2eb_701ce71031efrow7_col0\" class=\"data row7 col0\" >50-</td>\n",
       "                        <td id=\"T_cb94fa6c_2f5d_11ea_a2eb_701ce71031efrow7_col1\" class=\"data row7 col1\" >13293</td>\n",
       "                        <td id=\"T_cb94fa6c_2f5d_11ea_a2eb_701ce71031efrow7_col2\" class=\"data row7 col2\" >3750</td>\n",
       "                        <td id=\"T_cb94fa6c_2f5d_11ea_a2eb_701ce71031efrow7_col3\" class=\"data row7 col3\" >12500</td>\n",
       "                        <td id=\"T_cb94fa6c_2f5d_11ea_a2eb_701ce71031efrow7_col4\" class=\"data row7 col4\" >30000</td>\n",
       "                        <td id=\"T_cb94fa6c_2f5d_11ea_a2eb_701ce71031efrow7_col5\" class=\"data row7 col5\" >23817</td>\n",
       "                        <td id=\"T_cb94fa6c_2f5d_11ea_a2eb_701ce71031efrow7_col6\" class=\"data row7 col6\" >15.82%</td>\n",
       "            </tr>\n",
       "    </tbody></table>"
      ],
      "text/plain": [
       "<pandas.io.formats.style.Styler at 0x1e487cd8f08>"
      ]
     },
     "execution_count": 47,
     "metadata": {},
     "output_type": "execute_result"
    }
   ],
   "source": [
    "data_company_size=get_sub_stats_by_col(data,'company_size')\n",
    "apply_style(data_company_size)"
   ]
  },
  {
   "cell_type": "markdown",
   "metadata": {},
   "source": [
    "公司越大，工资越高"
   ]
  },
  {
   "cell_type": "markdown",
   "metadata": {},
   "source": [
    "## 行业 Industry"
   ]
  },
  {
   "cell_type": "code",
   "execution_count": 48,
   "metadata": {},
   "outputs": [
    {
     "data": {
      "text/html": [
       "<style  type=\"text/css\" >\n",
       "</style><table id=\"T_cbabddb4_2f5d_11ea_9824_701ce71031ef\" ><thead>    <tr>        <th class=\"col_heading level0 col0\" >industry</th>        <th class=\"col_heading level0 col1\" >salary_mean</th>        <th class=\"col_heading level0 col2\" >salary_95_min</th>        <th class=\"col_heading level0 col3\" >salary_median</th>        <th class=\"col_heading level0 col4\" >salary_95_max</th>        <th class=\"col_heading level0 col5\" >head_count</th>        <th class=\"col_heading level0 col6\" >percentage</th>    </tr></thead><tbody>\n",
       "                <tr>\n",
       "                                <td id=\"T_cbabddb4_2f5d_11ea_9824_701ce71031efrow0_col0\" class=\"data row0 col0\" >finance</td>\n",
       "                        <td id=\"T_cbabddb4_2f5d_11ea_9824_701ce71031efrow0_col1\" class=\"data row0 col1\" >17212</td>\n",
       "                        <td id=\"T_cbabddb4_2f5d_11ea_9824_701ce71031efrow0_col2\" class=\"data row0 col2\" >5250</td>\n",
       "                        <td id=\"T_cbabddb4_2f5d_11ea_9824_701ce71031efrow0_col3\" class=\"data row0 col3\" >16000</td>\n",
       "                        <td id=\"T_cbabddb4_2f5d_11ea_9824_701ce71031efrow0_col4\" class=\"data row0 col4\" >35000</td>\n",
       "                        <td id=\"T_cbabddb4_2f5d_11ea_9824_701ce71031efrow0_col5\" class=\"data row0 col5\" >5377</td>\n",
       "                        <td id=\"T_cbabddb4_2f5d_11ea_9824_701ce71031efrow0_col6\" class=\"data row0 col6\" >3.57%</td>\n",
       "            </tr>\n",
       "            <tr>\n",
       "                                <td id=\"T_cbabddb4_2f5d_11ea_9824_701ce71031efrow1_col0\" class=\"data row1 col0\" >service</td>\n",
       "                        <td id=\"T_cbabddb4_2f5d_11ea_9824_701ce71031efrow1_col1\" class=\"data row1 col1\" >16368</td>\n",
       "                        <td id=\"T_cbabddb4_2f5d_11ea_9824_701ce71031efrow1_col2\" class=\"data row1 col2\" >3750</td>\n",
       "                        <td id=\"T_cbabddb4_2f5d_11ea_9824_701ce71031efrow1_col3\" class=\"data row1 col3\" >15000</td>\n",
       "                        <td id=\"T_cbabddb4_2f5d_11ea_9824_701ce71031efrow1_col4\" class=\"data row1 col4\" >40000</td>\n",
       "                        <td id=\"T_cbabddb4_2f5d_11ea_9824_701ce71031efrow1_col5\" class=\"data row1 col5\" >1105</td>\n",
       "                        <td id=\"T_cbabddb4_2f5d_11ea_9824_701ce71031efrow1_col6\" class=\"data row1 col6\" >0.73%</td>\n",
       "            </tr>\n",
       "            <tr>\n",
       "                                <td id=\"T_cbabddb4_2f5d_11ea_9824_701ce71031efrow2_col0\" class=\"data row2 col0\" >logistic</td>\n",
       "                        <td id=\"T_cbabddb4_2f5d_11ea_9824_701ce71031efrow2_col1\" class=\"data row2 col1\" >16051</td>\n",
       "                        <td id=\"T_cbabddb4_2f5d_11ea_9824_701ce71031efrow2_col2\" class=\"data row2 col2\" >5250</td>\n",
       "                        <td id=\"T_cbabddb4_2f5d_11ea_9824_701ce71031efrow2_col3\" class=\"data row2 col3\" >13000</td>\n",
       "                        <td id=\"T_cbabddb4_2f5d_11ea_9824_701ce71031efrow2_col4\" class=\"data row2 col4\" >35000</td>\n",
       "                        <td id=\"T_cbabddb4_2f5d_11ea_9824_701ce71031efrow2_col5\" class=\"data row2 col5\" >1755</td>\n",
       "                        <td id=\"T_cbabddb4_2f5d_11ea_9824_701ce71031efrow2_col6\" class=\"data row2 col6\" >1.17%</td>\n",
       "            </tr>\n",
       "            <tr>\n",
       "                                <td id=\"T_cbabddb4_2f5d_11ea_9824_701ce71031efrow3_col0\" class=\"data row3 col0\" >edu</td>\n",
       "                        <td id=\"T_cbabddb4_2f5d_11ea_9824_701ce71031efrow3_col1\" class=\"data row3 col1\" >15754</td>\n",
       "                        <td id=\"T_cbabddb4_2f5d_11ea_9824_701ce71031efrow3_col2\" class=\"data row3 col2\" >5250</td>\n",
       "                        <td id=\"T_cbabddb4_2f5d_11ea_9824_701ce71031efrow3_col3\" class=\"data row3 col3\" >13000</td>\n",
       "                        <td id=\"T_cbabddb4_2f5d_11ea_9824_701ce71031efrow3_col4\" class=\"data row3 col4\" >37500</td>\n",
       "                        <td id=\"T_cbabddb4_2f5d_11ea_9824_701ce71031efrow3_col5\" class=\"data row3 col5\" >8841</td>\n",
       "                        <td id=\"T_cbabddb4_2f5d_11ea_9824_701ce71031efrow3_col6\" class=\"data row3 col6\" >5.87%</td>\n",
       "            </tr>\n",
       "            <tr>\n",
       "                                <td id=\"T_cbabddb4_2f5d_11ea_9824_701ce71031efrow4_col0\" class=\"data row4 col0\" >computer</td>\n",
       "                        <td id=\"T_cbabddb4_2f5d_11ea_9824_701ce71031efrow4_col1\" class=\"data row4 col1\" >15730</td>\n",
       "                        <td id=\"T_cbabddb4_2f5d_11ea_9824_701ce71031efrow4_col2\" class=\"data row4 col2\" >4500</td>\n",
       "                        <td id=\"T_cbabddb4_2f5d_11ea_9824_701ce71031efrow4_col3\" class=\"data row4 col3\" >13500</td>\n",
       "                        <td id=\"T_cbabddb4_2f5d_11ea_9824_701ce71031efrow4_col4\" class=\"data row4 col4\" >37500</td>\n",
       "                        <td id=\"T_cbabddb4_2f5d_11ea_9824_701ce71031efrow4_col5\" class=\"data row4 col5\" >113905</td>\n",
       "                        <td id=\"T_cbabddb4_2f5d_11ea_9824_701ce71031efrow4_col6\" class=\"data row4 col6\" >75.67%</td>\n",
       "            </tr>\n",
       "            <tr>\n",
       "                                <td id=\"T_cbabddb4_2f5d_11ea_9824_701ce71031efrow5_col0\" class=\"data row5 col0\" >trade</td>\n",
       "                        <td id=\"T_cbabddb4_2f5d_11ea_9824_701ce71031efrow5_col1\" class=\"data row5 col1\" >15479</td>\n",
       "                        <td id=\"T_cbabddb4_2f5d_11ea_9824_701ce71031efrow5_col2\" class=\"data row5 col2\" >5250</td>\n",
       "                        <td id=\"T_cbabddb4_2f5d_11ea_9824_701ce71031efrow5_col3\" class=\"data row5 col3\" >14000</td>\n",
       "                        <td id=\"T_cbabddb4_2f5d_11ea_9824_701ce71031efrow5_col4\" class=\"data row5 col4\" >35000</td>\n",
       "                        <td id=\"T_cbabddb4_2f5d_11ea_9824_701ce71031efrow5_col5\" class=\"data row5 col5\" >8689</td>\n",
       "                        <td id=\"T_cbabddb4_2f5d_11ea_9824_701ce71031efrow5_col6\" class=\"data row5 col6\" >5.77%</td>\n",
       "            </tr>\n",
       "            <tr>\n",
       "                                <td id=\"T_cbabddb4_2f5d_11ea_9824_701ce71031efrow6_col0\" class=\"data row6 col0\" >ads</td>\n",
       "                        <td id=\"T_cbabddb4_2f5d_11ea_9824_701ce71031efrow6_col1\" class=\"data row6 col1\" >15081</td>\n",
       "                        <td id=\"T_cbabddb4_2f5d_11ea_9824_701ce71031efrow6_col2\" class=\"data row6 col2\" >5250</td>\n",
       "                        <td id=\"T_cbabddb4_2f5d_11ea_9824_701ce71031efrow6_col3\" class=\"data row6 col3\" >12500</td>\n",
       "                        <td id=\"T_cbabddb4_2f5d_11ea_9824_701ce71031efrow6_col4\" class=\"data row6 col4\" >35000</td>\n",
       "                        <td id=\"T_cbabddb4_2f5d_11ea_9824_701ce71031efrow6_col5\" class=\"data row6 col5\" >2174</td>\n",
       "                        <td id=\"T_cbabddb4_2f5d_11ea_9824_701ce71031efrow6_col6\" class=\"data row6 col6\" >1.44%</td>\n",
       "            </tr>\n",
       "            <tr>\n",
       "                                <td id=\"T_cbabddb4_2f5d_11ea_9824_701ce71031efrow7_col0\" class=\"data row7 col0\" >medical</td>\n",
       "                        <td id=\"T_cbabddb4_2f5d_11ea_9824_701ce71031efrow7_col1\" class=\"data row7 col1\" >14504</td>\n",
       "                        <td id=\"T_cbabddb4_2f5d_11ea_9824_701ce71031efrow7_col2\" class=\"data row7 col2\" >4482</td>\n",
       "                        <td id=\"T_cbabddb4_2f5d_11ea_9824_701ce71031efrow7_col3\" class=\"data row7 col3\" >13500</td>\n",
       "                        <td id=\"T_cbabddb4_2f5d_11ea_9824_701ce71031efrow7_col4\" class=\"data row7 col4\" >30000</td>\n",
       "                        <td id=\"T_cbabddb4_2f5d_11ea_9824_701ce71031efrow7_col5\" class=\"data row7 col5\" >3231</td>\n",
       "                        <td id=\"T_cbabddb4_2f5d_11ea_9824_701ce71031efrow7_col6\" class=\"data row7 col6\" >2.15%</td>\n",
       "            </tr>\n",
       "            <tr>\n",
       "                                <td id=\"T_cbabddb4_2f5d_11ea_9824_701ce71031efrow8_col0\" class=\"data row8 col0\" >realestate</td>\n",
       "                        <td id=\"T_cbabddb4_2f5d_11ea_9824_701ce71031efrow8_col1\" class=\"data row8 col1\" >13927</td>\n",
       "                        <td id=\"T_cbabddb4_2f5d_11ea_9824_701ce71031efrow8_col2\" class=\"data row8 col2\" >3750</td>\n",
       "                        <td id=\"T_cbabddb4_2f5d_11ea_9824_701ce71031efrow8_col3\" class=\"data row8 col3\" >12500</td>\n",
       "                        <td id=\"T_cbabddb4_2f5d_11ea_9824_701ce71031efrow8_col4\" class=\"data row8 col4\" >30000</td>\n",
       "                        <td id=\"T_cbabddb4_2f5d_11ea_9824_701ce71031efrow8_col5\" class=\"data row8 col5\" >2063</td>\n",
       "                        <td id=\"T_cbabddb4_2f5d_11ea_9824_701ce71031efrow8_col6\" class=\"data row8 col6\" >1.37%</td>\n",
       "            </tr>\n",
       "            <tr>\n",
       "                                <td id=\"T_cbabddb4_2f5d_11ea_9824_701ce71031efrow9_col0\" class=\"data row9 col0\" >energy</td>\n",
       "                        <td id=\"T_cbabddb4_2f5d_11ea_9824_701ce71031efrow9_col1\" class=\"data row9 col1\" >13815</td>\n",
       "                        <td id=\"T_cbabddb4_2f5d_11ea_9824_701ce71031efrow9_col2\" class=\"data row9 col2\" >5250</td>\n",
       "                        <td id=\"T_cbabddb4_2f5d_11ea_9824_701ce71031efrow9_col3\" class=\"data row9 col3\" >12500</td>\n",
       "                        <td id=\"T_cbabddb4_2f5d_11ea_9824_701ce71031efrow9_col4\" class=\"data row9 col4\" >25000</td>\n",
       "                        <td id=\"T_cbabddb4_2f5d_11ea_9824_701ce71031efrow9_col5\" class=\"data row9 col5\" >1474</td>\n",
       "                        <td id=\"T_cbabddb4_2f5d_11ea_9824_701ce71031efrow9_col6\" class=\"data row9 col6\" >0.98%</td>\n",
       "            </tr>\n",
       "            <tr>\n",
       "                                <td id=\"T_cbabddb4_2f5d_11ea_9824_701ce71031efrow10_col0\" class=\"data row10 col0\" >gov</td>\n",
       "                        <td id=\"T_cbabddb4_2f5d_11ea_9824_701ce71031efrow10_col1\" class=\"data row10 col1\" >13475</td>\n",
       "                        <td id=\"T_cbabddb4_2f5d_11ea_9824_701ce71031efrow10_col2\" class=\"data row10 col2\" >3750</td>\n",
       "                        <td id=\"T_cbabddb4_2f5d_11ea_9824_701ce71031efrow10_col3\" class=\"data row10 col3\" >12500</td>\n",
       "                        <td id=\"T_cbabddb4_2f5d_11ea_9824_701ce71031efrow10_col4\" class=\"data row10 col4\" >30000</td>\n",
       "                        <td id=\"T_cbabddb4_2f5d_11ea_9824_701ce71031efrow10_col5\" class=\"data row10 col5\" >1906</td>\n",
       "                        <td id=\"T_cbabddb4_2f5d_11ea_9824_701ce71031efrow10_col6\" class=\"data row10 col6\" >1.27%</td>\n",
       "            </tr>\n",
       "    </tbody></table>"
      ],
      "text/plain": [
       "<pandas.io.formats.style.Styler at 0x1e494a89f88>"
      ]
     },
     "execution_count": 48,
     "metadata": {},
     "output_type": "execute_result"
    }
   ],
   "source": [
    "data_industry=get_sub_stats_by_col(data,'industry')\n",
    "apply_style(data_industry)"
   ]
  },
  {
   "cell_type": "code",
   "execution_count": null,
   "metadata": {},
   "outputs": [],
   "source": []
  },
  {
   "cell_type": "code",
   "execution_count": null,
   "metadata": {},
   "outputs": [],
   "source": []
  }
 ],
 "metadata": {
  "kernelspec": {
   "display_name": "Python 3",
   "language": "python",
   "name": "python3"
  },
  "language_info": {
   "codemirror_mode": {
    "name": "ipython",
    "version": 3
   },
   "file_extension": ".py",
   "mimetype": "text/x-python",
   "name": "python",
   "nbconvert_exporter": "python",
   "pygments_lexer": "ipython3",
   "version": "3.7.4"
  }
 },
 "nbformat": 4,
 "nbformat_minor": 2
}
