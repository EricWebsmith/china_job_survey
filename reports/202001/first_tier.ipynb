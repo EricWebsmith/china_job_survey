{
 "cells": [
  {
   "cell_type": "code",
   "execution_count": 1,
   "metadata": {},
   "outputs": [],
   "source": [
    "from config import *"
   ]
  },
  {
   "cell_type": "code",
   "execution_count": 2,
   "metadata": {},
   "outputs": [
    {
     "name": "stdout",
     "output_type": "stream",
     "text": [
      "2020年1月\n"
     ]
    }
   ],
   "source": [
    "print(f'{year}年{month}月')"
   ]
  },
  {
   "cell_type": "markdown",
   "metadata": {},
   "source": [
    "# Developer Salary in First-Tier Cities 程序员工资调查\n",
    "我在4月1日到3日之间，抓取了某招聘网站的软件和互联网类招聘数据40万条，其中通过程序判断为程序员的14万条。地域方面，我选择了24个主要城市。不过本文只以一线城市为研究对象。这样是为了和我2017年6月的数据做对比。\n",
    "\n",
    "提到2017年的文章，现在居然还有很多人，把这篇文章拿出来炒作。对于社会来说，可气的是，他们直接把2017改成2019，就发表了，这不是骗人么？！对于我来说，可气的是，他们转载居然还冒充是原创，是可忍熟不可忍！"
   ]
  },
  {
   "cell_type": "code",
   "execution_count": 3,
   "metadata": {},
   "outputs": [],
   "source": [
    "import pandas as pd\n",
    "import sys\n",
    "sys.path.append('..')\n",
    "sys.path.append('../py')\n",
    "sys.path.append('../../py')\n",
    "import db\n",
    "import inspect\n",
    "import matplotlib.pyplot as plt\n",
    "plt.rcParams['font.sans-serif']=['SimHei'] #用来正常显示中文标签\n",
    "plt.rcParams['axes.unicode_minus']=False #用来正常显示负号\n",
    "import seaborn as sns\n",
    "import scipy.stats as stats\n",
    "import numpy as np\n",
    "import weighted\n",
    "%matplotlib inline"
   ]
  },
  {
   "cell_type": "code",
   "execution_count": 4,
   "metadata": {},
   "outputs": [],
   "source": [
    "conn=db.get_conn()\n",
    "data_original=pd.read_sql(sql=f\"select * from _{year}{month:02} where monthly_salary>0 and city in ('北京','上海','广州','深圳')  and monthly_salary<80000\", con=conn)\n",
    "conn.close()"
   ]
  },
  {
   "cell_type": "code",
   "execution_count": 5,
   "metadata": {},
   "outputs": [],
   "source": [
    "error_job_ids=['104660258','104142922','108434795','101357291','106253516','110368302','111391233','108665401','109277048'\n",
    "                  ,'73857191','108584955','102824950','102824949','111391233','110884556']\n",
    "data=data_original[~data_original.job_id.isin(error_job_ids)]"
   ]
  },
  {
   "cell_type": "code",
   "execution_count": 6,
   "metadata": {},
   "outputs": [],
   "source": [
    "#del data['publish_date']\n",
    "#del data['published_on_weekend']\n",
    "#del data['title']\n",
    "#del data['title']\n",
    "#del data['company_title']\n",
    "#del data['company_description']\n",
    "#del data['job_description']\n",
    "#del data['job_id']"
   ]
  },
  {
   "cell_type": "code",
   "execution_count": 7,
   "metadata": {},
   "outputs": [
    {
     "data": {
      "text/html": [
       "<div>\n",
       "<style scoped>\n",
       "    .dataframe tbody tr th:only-of-type {\n",
       "        vertical-align: middle;\n",
       "    }\n",
       "\n",
       "    .dataframe tbody tr th {\n",
       "        vertical-align: top;\n",
       "    }\n",
       "\n",
       "    .dataframe thead th {\n",
       "        text-align: right;\n",
       "    }\n",
       "</style>\n",
       "<table border=\"1\" class=\"dataframe\">\n",
       "  <thead>\n",
       "    <tr style=\"text-align: right;\">\n",
       "      <th></th>\n",
       "      <th>job_id</th>\n",
       "      <th>monthly_salary</th>\n",
       "      <th>headcount</th>\n",
       "      <th>title</th>\n",
       "      <th>zhinengleibie</th>\n",
       "      <th>career</th>\n",
       "      <th>real_province</th>\n",
       "      <th>province</th>\n",
       "      <th>city</th>\n",
       "      <th>company_description</th>\n",
       "      <th>...</th>\n",
       "      <th>pl_visual_basic</th>\n",
       "      <th>publish_date</th>\n",
       "      <th>published_on_weekend</th>\n",
       "      <th>tag_baby_care</th>\n",
       "      <th>tag_five_insurance</th>\n",
       "      <th>tag_flexible</th>\n",
       "      <th>tag_no_overtime</th>\n",
       "      <th>tag_rest_one_day</th>\n",
       "      <th>tag_rest_two_days</th>\n",
       "      <th>tag_stock</th>\n",
       "    </tr>\n",
       "  </thead>\n",
       "  <tbody>\n",
       "    <tr>\n",
       "      <td>27199</td>\n",
       "      <td>118720034</td>\n",
       "      <td>17500</td>\n",
       "      <td>222</td>\n",
       "      <td>高级后台开发工程师/Java开发工程师（北京）</td>\n",
       "      <td>软件工程师</td>\n",
       "      <td>一般程序员</td>\n",
       "      <td>None</td>\n",
       "      <td>北京</td>\n",
       "      <td>北京</td>\n",
       "      <td>营销实验室Convertlab（上海欣兆阳信息科技有限公司）为企业提供创新的数字营销平台DM...</td>\n",
       "      <td>...</td>\n",
       "      <td>False</td>\n",
       "      <td>2019-12-25</td>\n",
       "      <td>False</td>\n",
       "      <td>False</td>\n",
       "      <td>True</td>\n",
       "      <td>True</td>\n",
       "      <td>False</td>\n",
       "      <td>False</td>\n",
       "      <td>False</td>\n",
       "      <td>True</td>\n",
       "    </tr>\n",
       "    <tr>\n",
       "      <td>18898</td>\n",
       "      <td>116813374</td>\n",
       "      <td>12916</td>\n",
       "      <td>200</td>\n",
       "      <td>Java开发工程师（2020届）</td>\n",
       "      <td>软件工程师</td>\n",
       "      <td>算法工程师</td>\n",
       "      <td>None</td>\n",
       "      <td>广东</td>\n",
       "      <td>广州</td>\n",
       "      <td>广州汇智通信技术有限公司是专业从事国家特殊通信系统研制工作的大型国有控股混合所有制企业。公司...</td>\n",
       "      <td>...</td>\n",
       "      <td>False</td>\n",
       "      <td>2019-12-03</td>\n",
       "      <td>False</td>\n",
       "      <td>False</td>\n",
       "      <td>True</td>\n",
       "      <td>False</td>\n",
       "      <td>False</td>\n",
       "      <td>False</td>\n",
       "      <td>False</td>\n",
       "      <td>False</td>\n",
       "    </tr>\n",
       "    <tr>\n",
       "      <td>18571</td>\n",
       "      <td>116717167</td>\n",
       "      <td>10000</td>\n",
       "      <td>200</td>\n",
       "      <td>海外业务软件工程师（2020届）</td>\n",
       "      <td>软件工程师</td>\n",
       "      <td>一般程序员</td>\n",
       "      <td>None</td>\n",
       "      <td>上海</td>\n",
       "      <td>上海</td>\n",
       "      <td>上海海隆软件有限公司成立于1989年4月，是国内著名软件企业、国家规划布局内重点软件企业。公...</td>\n",
       "      <td>...</td>\n",
       "      <td>False</td>\n",
       "      <td>2019-01-02</td>\n",
       "      <td>False</td>\n",
       "      <td>False</td>\n",
       "      <td>True</td>\n",
       "      <td>True</td>\n",
       "      <td>False</td>\n",
       "      <td>False</td>\n",
       "      <td>False</td>\n",
       "      <td>False</td>\n",
       "    </tr>\n",
       "    <tr>\n",
       "      <td>12578</td>\n",
       "      <td>114568087</td>\n",
       "      <td>3750</td>\n",
       "      <td>151</td>\n",
       "      <td>C#软件开发工程师（雄安新区岗位）</td>\n",
       "      <td>软件工程师</td>\n",
       "      <td>一般程序员</td>\n",
       "      <td>None</td>\n",
       "      <td>北京</td>\n",
       "      <td>北京</td>\n",
       "      <td>北京其然科技有限公司，名字源于，顺 其其自 然然，主旨顺其自然、水到渠成。北京其然科技有限公...</td>\n",
       "      <td>...</td>\n",
       "      <td>False</td>\n",
       "      <td>2019-12-26</td>\n",
       "      <td>False</td>\n",
       "      <td>False</td>\n",
       "      <td>False</td>\n",
       "      <td>False</td>\n",
       "      <td>False</td>\n",
       "      <td>False</td>\n",
       "      <td>False</td>\n",
       "      <td>False</td>\n",
       "    </tr>\n",
       "    <tr>\n",
       "      <td>4054</td>\n",
       "      <td>108834444</td>\n",
       "      <td>15000</td>\n",
       "      <td>150</td>\n",
       "      <td>Java开发工程师</td>\n",
       "      <td>软件工程师</td>\n",
       "      <td>一般程序员</td>\n",
       "      <td>None</td>\n",
       "      <td>北京</td>\n",
       "      <td>北京</td>\n",
       "      <td>大连华信计算机技术股份有限公司（简称大连华信）是一家面向全球客户提供领先的应用软件产品、信息...</td>\n",
       "      <td>...</td>\n",
       "      <td>False</td>\n",
       "      <td>2019-01-02</td>\n",
       "      <td>False</td>\n",
       "      <td>False</td>\n",
       "      <td>True</td>\n",
       "      <td>False</td>\n",
       "      <td>False</td>\n",
       "      <td>False</td>\n",
       "      <td>False</td>\n",
       "      <td>False</td>\n",
       "    </tr>\n",
       "  </tbody>\n",
       "</table>\n",
       "<p>5 rows × 94 columns</p>\n",
       "</div>"
      ],
      "text/plain": [
       "          job_id  monthly_salary  headcount                    title  \\\n",
       "27199  118720034           17500        222  高级后台开发工程师/Java开发工程师（北京）   \n",
       "18898  116813374           12916        200         Java开发工程师（2020届）   \n",
       "18571  116717167           10000        200         海外业务软件工程师（2020届）   \n",
       "12578  114568087            3750        151        C#软件开发工程师（雄安新区岗位）   \n",
       "4054   108834444           15000        150                Java开发工程师   \n",
       "\n",
       "      zhinengleibie career real_province province city  \\\n",
       "27199         软件工程师  一般程序员          None       北京   北京   \n",
       "18898         软件工程师  算法工程师          None       广东   广州   \n",
       "18571         软件工程师  一般程序员          None       上海   上海   \n",
       "12578         软件工程师  一般程序员          None       北京   北京   \n",
       "4054          软件工程师  一般程序员          None       北京   北京   \n",
       "\n",
       "                                     company_description  ... pl_visual_basic  \\\n",
       "27199  营销实验室Convertlab（上海欣兆阳信息科技有限公司）为企业提供创新的数字营销平台DM...  ...           False   \n",
       "18898  广州汇智通信技术有限公司是专业从事国家特殊通信系统研制工作的大型国有控股混合所有制企业。公司...  ...           False   \n",
       "18571  上海海隆软件有限公司成立于1989年4月，是国内著名软件企业、国家规划布局内重点软件企业。公...  ...           False   \n",
       "12578  北京其然科技有限公司，名字源于，顺 其其自 然然，主旨顺其自然、水到渠成。北京其然科技有限公...  ...           False   \n",
       "4054   大连华信计算机技术股份有限公司（简称大连华信）是一家面向全球客户提供领先的应用软件产品、信息...  ...           False   \n",
       "\n",
       "      publish_date published_on_weekend tag_baby_care  tag_five_insurance  \\\n",
       "27199   2019-12-25                False         False                True   \n",
       "18898   2019-12-03                False         False                True   \n",
       "18571   2019-01-02                False         False                True   \n",
       "12578   2019-12-26                False         False               False   \n",
       "4054    2019-01-02                False         False                True   \n",
       "\n",
       "       tag_flexible  tag_no_overtime  tag_rest_one_day  tag_rest_two_days  \\\n",
       "27199          True            False             False              False   \n",
       "18898         False            False             False              False   \n",
       "18571          True            False             False              False   \n",
       "12578         False            False             False              False   \n",
       "4054          False            False             False              False   \n",
       "\n",
       "       tag_stock  \n",
       "27199       True  \n",
       "18898      False  \n",
       "18571      False  \n",
       "12578      False  \n",
       "4054       False  \n",
       "\n",
       "[5 rows x 94 columns]"
      ]
     },
     "execution_count": 7,
     "metadata": {},
     "output_type": "execute_result"
    }
   ],
   "source": [
    "data=data.sort_values(by='headcount', ascending=False)\n",
    "data.head()"
   ]
  },
  {
   "cell_type": "code",
   "execution_count": 8,
   "metadata": {},
   "outputs": [],
   "source": [
    "def pd_weighted_mean(group, avg_name, weight_name):\n",
    "    \"\"\" http://stackoverflow.com/questions/10951341/pandas-dataframe-aggregate-function-using-multiple-columns\n",
    "    In rare instance, we may not have weights, so just return the mean. Customize this if your business case\n",
    "    should return otherwise.\n",
    "    \"\"\"\n",
    "    d = group[avg_name]\n",
    "    w = group[weight_name]\n",
    "    try:\n",
    "        return (d * w).sum() / w.sum()\n",
    "    except ZeroDivisionError:\n",
    "        return d.mean()\n"
   ]
  },
  {
   "cell_type": "markdown",
   "metadata": {},
   "source": [
    "# Unilateral Stats 总体统计"
   ]
  },
  {
   "cell_type": "markdown",
   "metadata": {},
   "source": [
    "有数据可知，程序员向一线城市集中的趋势非常明显。\n",
    "\n",
    "According to the statistics, significant amount of developers are in the first tier cities."
   ]
  },
  {
   "cell_type": "code",
   "execution_count": 9,
   "metadata": {},
   "outputs": [
    {
     "data": {
      "text/plain": [
       "(38115, 94)"
      ]
     },
     "execution_count": 9,
     "metadata": {},
     "output_type": "execute_result"
    }
   ],
   "source": [
    "data.shape"
   ]
  },
  {
   "cell_type": "code",
   "execution_count": 10,
   "metadata": {},
   "outputs": [
    {
     "data": {
      "text/plain": [
       "120827"
      ]
     },
     "execution_count": 10,
     "metadata": {},
     "output_type": "execute_result"
    }
   ],
   "source": [
    "data.headcount.sum()"
   ]
  },
  {
   "cell_type": "code",
   "execution_count": 11,
   "metadata": {},
   "outputs": [
    {
     "data": {
      "text/plain": [
       "array([ 5000., 11500., 14583., 20000., 37500.])"
      ]
     },
     "execution_count": 11,
     "metadata": {},
     "output_type": "execute_result"
    }
   ],
   "source": [
    "salary_mean=weighted.weighted_mean(data.monthly_salary.values, data.headcount.values)\n",
    "q=weighted.weighted_quantile(data.monthly_salary.values,[0.025,0.25,0.5,0.75,0.975], data.headcount.values)\n",
    "q"
   ]
  },
  {
   "cell_type": "code",
   "execution_count": 12,
   "metadata": {},
   "outputs": [
    {
     "name": "stdout",
     "output_type": "stream",
     "text": [
      "2020年1月中国一线城市程序员的平均工资为16285元，工资中位数为14583元，其中95%的人的工资位于5000到37500元之间。\n"
     ]
    }
   ],
   "source": [
    "print(f'{year}年{month}月中国一线城市程序员的平均工资为{salary_mean:.0f}元，工资中位数为{q[2]:.0f}元，其中95%的人的工资位于{q[0]:.0f}到{q[4]:.0f}元之间。')"
   ]
  },
  {
   "cell_type": "code",
   "execution_count": 13,
   "metadata": {},
   "outputs": [
    {
     "name": "stdout",
     "output_type": "stream",
     "text": [
      "In 2020, Developers in China earn 16285 Yuan as average, the median is 14583 Yuan, 95% of them earn between 5000 and 37500 Yuan.\n"
     ]
    }
   ],
   "source": [
    "print(f'In {year}, Developers in China earn {salary_mean:.0f} Yuan as average, '\n",
    "      f'the median is {q[2]:.0f} Yuan, 95% of them earn between {q[0]:.0f} and {q[4]:.0f} Yuan.')"
   ]
  },
  {
   "cell_type": "code",
   "execution_count": 14,
   "metadata": {},
   "outputs": [
    {
     "data": {
      "text/plain": [
       "<matplotlib.axes._subplots.AxesSubplot at 0x2560671f648>"
      ]
     },
     "execution_count": 14,
     "metadata": {},
     "output_type": "execute_result"
    },
    {
     "data": {
      "image/png": "[encoded data removed]",
      "text/plain": [
       "<Figure size 432x288 with 1 Axes>"
      ]
     },
     "metadata": {
      "needs_background": "light"
     },
     "output_type": "display_data"
    }
   ],
   "source": [
    "data.monthly_salary.hist()"
   ]
  },
  {
   "cell_type": "markdown",
   "metadata": {},
   "source": [
    "It does not look like normal distribution."
   ]
  },
  {
   "cell_type": "code",
   "execution_count": 15,
   "metadata": {},
   "outputs": [],
   "source": [
    "from scipy import stats"
   ]
  },
  {
   "cell_type": "code",
   "execution_count": 16,
   "metadata": {},
   "outputs": [
    {
     "data": {
      "text/plain": [
       "NormaltestResult(statistic=11572.799483675622, pvalue=0.0)"
      ]
     },
     "execution_count": 16,
     "metadata": {},
     "output_type": "execute_result"
    }
   ],
   "source": [
    "stats.normaltest(data.monthly_salary)"
   ]
  },
  {
   "cell_type": "markdown",
   "metadata": {},
   "source": [
    "null hypothesis: x comes from a normal distribution\n",
    "    \n",
    "p=0\n",
    "\n",
    "The null hypothesis can be rejected\n",
    "\n",
    "conclusion: data is not normally distributed."
   ]
  },
  {
   "cell_type": "markdown",
   "metadata": {},
   "source": [
    "Zoom in"
   ]
  },
  {
   "cell_type": "code",
   "execution_count": 17,
   "metadata": {},
   "outputs": [
    {
     "data": {
      "image/png": "[encoded data removed]",
      "text/plain": [
       "<Figure size 432x288 with 1 Axes>"
      ]
     },
     "metadata": {
      "needs_background": "light"
     },
     "output_type": "display_data"
    }
   ],
   "source": [
    "data[data.monthly_salary<40000].monthly_salary.hist()\n",
    "plt.annotate('https://github.com/juwikuang/job_survey', xy=(0,0), xytext=(2000, 100), color='white')\n",
    "plt.show()"
   ]
  },
  {
   "cell_type": "markdown",
   "metadata": {},
   "source": [
    "## Role 角色"
   ]
  },
  {
   "cell_type": "code",
   "execution_count": 18,
   "metadata": {},
   "outputs": [],
   "source": [
    "#Common Functions\n",
    "def get_sub_stats_by_col(data, col):\n",
    "    categories=data[col].unique()\n",
    "    salary_mean=[]\n",
    "    salary_95_min=[]\n",
    "    salary_95_max=[]\n",
    "    salary_median=[]\n",
    "    \n",
    "\n",
    "    count=[]\n",
    "    \n",
    "    categorys_out=[]\n",
    "    for category in categories:\n",
    "        #print(feature)\n",
    "        idata=data[data[col]==category]\n",
    "        headcount=idata.headcount.sum()\n",
    "        values = idata.monthly_salary.values\n",
    "        weights = idata.headcount.values\n",
    "        #print(str(headcount))\n",
    "        if headcount==0:\n",
    "            continue\n",
    "        \n",
    "        salary_mean.append(np.average(values, weights=weights))\n",
    "        \n",
    "\n",
    "        q = weighted.weighted_quantile(values,[0.025,0.5,0.975],weights)\n",
    "        salary_95_min.append(q[0])\n",
    "        salary_median.append(q[1])\n",
    "        salary_95_max.append(q[2])\n",
    "        count.append(idata.headcount.sum())\n",
    "        categorys_out.append(category)\n",
    "    sub_data=pd.DataFrame()\n",
    "    sub_data[col]=[c for c in categorys_out]\n",
    "    sub_data['salary_mean']=salary_mean\n",
    "    sub_data['salary_95_min']=salary_95_min\n",
    "    sub_data['salary_median']=salary_median\n",
    "    sub_data['salary_95_max']=salary_95_max\n",
    "    sub_data['head_count']=count\n",
    "    sub_data['percentage']=count/np.sum(count)\n",
    "    sub_data=sub_data.sort_values(by='salary_mean', ascending=False)\n",
    "\n",
    "    return sub_data\n",
    "\n",
    "def get_sub_stats_by_prefix(data, prefix):\n",
    "    \n",
    "    features = [feature for feature in data.columns if feature.startswith(prefix)]\n",
    "    salary_mean=[]\n",
    "    salary_median=[]\n",
    "    salary_95_min=[]\n",
    "    salary_95_max=[]\n",
    "    count=[]\n",
    "    \n",
    "    features_out=[]\n",
    "    for feature in features:\n",
    "        #print(feature)\n",
    "        idata=data[data[feature]==1]\n",
    "        headcount=idata.headcount.sum()\n",
    "        values = idata.monthly_salary.values\n",
    "        weights = idata.headcount.values\n",
    "        #print(str(headcount))\n",
    "        if headcount==0:\n",
    "            continue\n",
    "        \n",
    "        salary_mean.append(weighted.weighted_mean(values, weights))\n",
    "        q = weighted.weighted_quantile(values,[0.025,0.5,0.975],weights)\n",
    "        salary_median.append(q[1])\n",
    "        salary_95_min.append(q[0])\n",
    "        salary_95_max.append(q[2])\n",
    "        count.append(idata.headcount.sum())\n",
    "        features_out.append(feature)\n",
    "    sub_data=pd.DataFrame()\n",
    "    sub_data['rank']=range(0,len(features_out))\n",
    "    sub_data[prefix]=[f.replace(prefix,'') for f in features_out]\n",
    "    sub_data['salary_mean']=salary_mean\n",
    "    sub_data['salary_median']=salary_median\n",
    "    sub_data['salary_95_min']=salary_95_min\n",
    "    sub_data['salary_95_max']=salary_95_max\n",
    "    sub_data['head_count']=count\n",
    "    sub_data['percentage']=count/np.sum(count)\n",
    "    sub_data=sub_data.sort_values(by='salary_mean', ascending=False)\n",
    "    sub_data['rank']=range(1,len(features_out)+1)\n",
    "    #sub_data=sub_data.reset_index()\n",
    "    return sub_data\n",
    "\n",
    "def apply_style(sub_data):\n",
    "    return sub_data.style.hide_index().format(\n",
    "    {\"salary_mean\":\"{:.0f}\",\"salary_median\":\"{:.0f}\",\"salary_95_min\":\"{:.0f}\",\"salary_95_max\":\"{:.0f}\",\"percentage\":\"{:.2%}\"})"
   ]
  },
  {
   "cell_type": "code",
   "execution_count": 19,
   "metadata": {},
   "outputs": [
    {
     "data": {
      "text/html": [
       "<style  type=\"text/css\" >\n",
       "</style><table id=\"T_4af15578_2f5c_11ea_bfd3_701ce71031ef\" ><thead>    <tr>        <th class=\"blank level0\" ></th>        <th class=\"col_heading level0 col0\" >career</th>        <th class=\"col_heading level0 col1\" >salary_mean</th>        <th class=\"col_heading level0 col2\" >salary_95_min</th>        <th class=\"col_heading level0 col3\" >salary_median</th>        <th class=\"col_heading level0 col4\" >salary_95_max</th>        <th class=\"col_heading level0 col5\" >head_count</th>        <th class=\"col_heading level0 col6\" >percentage</th>    </tr></thead><tbody>\n",
       "                <tr>\n",
       "                        <th id=\"T_4af15578_2f5c_11ea_bfd3_701ce71031eflevel0_row0\" class=\"row_heading level0 row0\" >2</th>\n",
       "                        <td id=\"T_4af15578_2f5c_11ea_bfd3_701ce71031efrow0_col0\" class=\"data row0 col0\" >系统架构师</td>\n",
       "                        <td id=\"T_4af15578_2f5c_11ea_bfd3_701ce71031efrow0_col1\" class=\"data row0 col1\" >25364</td>\n",
       "                        <td id=\"T_4af15578_2f5c_11ea_bfd3_701ce71031efrow0_col2\" class=\"data row0 col2\" >6000</td>\n",
       "                        <td id=\"T_4af15578_2f5c_11ea_bfd3_701ce71031efrow0_col3\" class=\"data row0 col3\" >23000</td>\n",
       "                        <td id=\"T_4af15578_2f5c_11ea_bfd3_701ce71031efrow0_col4\" class=\"data row0 col4\" >50000</td>\n",
       "                        <td id=\"T_4af15578_2f5c_11ea_bfd3_701ce71031efrow0_col5\" class=\"data row0 col5\" >5061</td>\n",
       "                        <td id=\"T_4af15578_2f5c_11ea_bfd3_701ce71031efrow0_col6\" class=\"data row0 col6\" >4.19%</td>\n",
       "            </tr>\n",
       "            <tr>\n",
       "                        <th id=\"T_4af15578_2f5c_11ea_bfd3_701ce71031eflevel0_row1\" class=\"row_heading level0 row1\" >1</th>\n",
       "                        <td id=\"T_4af15578_2f5c_11ea_bfd3_701ce71031efrow1_col0\" class=\"data row1 col0\" >算法工程师</td>\n",
       "                        <td id=\"T_4af15578_2f5c_11ea_bfd3_701ce71031efrow1_col1\" class=\"data row1 col1\" >21182</td>\n",
       "                        <td id=\"T_4af15578_2f5c_11ea_bfd3_701ce71031efrow1_col2\" class=\"data row1 col2\" >5500</td>\n",
       "                        <td id=\"T_4af15578_2f5c_11ea_bfd3_701ce71031efrow1_col3\" class=\"data row1 col3\" >20000</td>\n",
       "                        <td id=\"T_4af15578_2f5c_11ea_bfd3_701ce71031efrow1_col4\" class=\"data row1 col4\" >45000</td>\n",
       "                        <td id=\"T_4af15578_2f5c_11ea_bfd3_701ce71031efrow1_col5\" class=\"data row1 col5\" >13018</td>\n",
       "                        <td id=\"T_4af15578_2f5c_11ea_bfd3_701ce71031efrow1_col6\" class=\"data row1 col6\" >10.77%</td>\n",
       "            </tr>\n",
       "            <tr>\n",
       "                        <th id=\"T_4af15578_2f5c_11ea_bfd3_701ce71031eflevel0_row2\" class=\"row_heading level0 row2\" >0</th>\n",
       "                        <td id=\"T_4af15578_2f5c_11ea_bfd3_701ce71031efrow2_col0\" class=\"data row2 col0\" >一般程序员</td>\n",
       "                        <td id=\"T_4af15578_2f5c_11ea_bfd3_701ce71031efrow2_col1\" class=\"data row2 col1\" >15223</td>\n",
       "                        <td id=\"T_4af15578_2f5c_11ea_bfd3_701ce71031efrow2_col2\" class=\"data row2 col2\" >5000</td>\n",
       "                        <td id=\"T_4af15578_2f5c_11ea_bfd3_701ce71031efrow2_col3\" class=\"data row2 col3\" >13500</td>\n",
       "                        <td id=\"T_4af15578_2f5c_11ea_bfd3_701ce71031efrow2_col4\" class=\"data row2 col4\" >35000</td>\n",
       "                        <td id=\"T_4af15578_2f5c_11ea_bfd3_701ce71031efrow2_col5\" class=\"data row2 col5\" >102550</td>\n",
       "                        <td id=\"T_4af15578_2f5c_11ea_bfd3_701ce71031efrow2_col6\" class=\"data row2 col6\" >84.87%</td>\n",
       "            </tr>\n",
       "            <tr>\n",
       "                        <th id=\"T_4af15578_2f5c_11ea_bfd3_701ce71031eflevel0_row3\" class=\"row_heading level0 row3\" >3</th>\n",
       "                        <td id=\"T_4af15578_2f5c_11ea_bfd3_701ce71031efrow3_col0\" class=\"data row3 col0\" >爬虫工程师</td>\n",
       "                        <td id=\"T_4af15578_2f5c_11ea_bfd3_701ce71031efrow3_col1\" class=\"data row3 col1\" >12567</td>\n",
       "                        <td id=\"T_4af15578_2f5c_11ea_bfd3_701ce71031efrow3_col2\" class=\"data row3 col2\" >2764.29</td>\n",
       "                        <td id=\"T_4af15578_2f5c_11ea_bfd3_701ce71031efrow3_col3\" class=\"data row3 col3\" >12500</td>\n",
       "                        <td id=\"T_4af15578_2f5c_11ea_bfd3_701ce71031efrow3_col4\" class=\"data row3 col4\" >26583.3</td>\n",
       "                        <td id=\"T_4af15578_2f5c_11ea_bfd3_701ce71031efrow3_col5\" class=\"data row3 col5\" >171</td>\n",
       "                        <td id=\"T_4af15578_2f5c_11ea_bfd3_701ce71031efrow3_col6\" class=\"data row3 col6\" >0.14%</td>\n",
       "            </tr>\n",
       "            <tr>\n",
       "                        <th id=\"T_4af15578_2f5c_11ea_bfd3_701ce71031eflevel0_row4\" class=\"row_heading level0 row4\" >4</th>\n",
       "                        <td id=\"T_4af15578_2f5c_11ea_bfd3_701ce71031efrow4_col0\" class=\"data row4 col0\" >生物信息工程师</td>\n",
       "                        <td id=\"T_4af15578_2f5c_11ea_bfd3_701ce71031efrow4_col1\" class=\"data row4 col1\" >11389</td>\n",
       "                        <td id=\"T_4af15578_2f5c_11ea_bfd3_701ce71031efrow4_col2\" class=\"data row4 col2\" >7000</td>\n",
       "                        <td id=\"T_4af15578_2f5c_11ea_bfd3_701ce71031efrow4_col3\" class=\"data row4 col3\" >12500</td>\n",
       "                        <td id=\"T_4af15578_2f5c_11ea_bfd3_701ce71031efrow4_col4\" class=\"data row4 col4\" >15000</td>\n",
       "                        <td id=\"T_4af15578_2f5c_11ea_bfd3_701ce71031efrow4_col5\" class=\"data row4 col5\" >27</td>\n",
       "                        <td id=\"T_4af15578_2f5c_11ea_bfd3_701ce71031efrow4_col6\" class=\"data row4 col6\" >0.02%</td>\n",
       "            </tr>\n",
       "    </tbody></table>"
      ],
      "text/plain": [
       "<pandas.io.formats.style.Styler at 0x25603b2b608>"
      ]
     },
     "execution_count": 19,
     "metadata": {},
     "output_type": "execute_result"
    }
   ],
   "source": [
    "data_career = get_sub_stats_by_col(data,'career')\n",
    "data_career.style.format({\"salary_mean\":\"{:.0f}\",\"salary_median\":\"{:.0f}\",\"percentage\":\"{:.2%}\"})"
   ]
  },
  {
   "cell_type": "code",
   "execution_count": 20,
   "metadata": {},
   "outputs": [
    {
     "data": {
      "text/plain": [
       "16285.028040090378"
      ]
     },
     "execution_count": 20,
     "metadata": {},
     "output_type": "execute_result"
    }
   ],
   "source": [
    "np.sum(data.monthly_salary * data.headcount) / data.headcount.sum()"
   ]
  },
  {
   "cell_type": "code",
   "execution_count": 21,
   "metadata": {},
   "outputs": [
    {
     "data": {
      "text/plain": [
       "120827"
      ]
     },
     "execution_count": 21,
     "metadata": {},
     "output_type": "execute_result"
    }
   ],
   "source": [
    "data.headcount.sum()"
   ]
  },
  {
   "cell_type": "code",
   "execution_count": 22,
   "metadata": {},
   "outputs": [
    {
     "data": {
      "text/plain": [
       "count    38115.000000\n",
       "mean         3.170064\n",
       "std          3.912043\n",
       "min          1.000000\n",
       "25%          1.000000\n",
       "50%          2.000000\n",
       "75%          5.000000\n",
       "max        222.000000\n",
       "Name: headcount, dtype: float64"
      ]
     },
     "execution_count": 22,
     "metadata": {},
     "output_type": "execute_result"
    }
   ],
   "source": [
    "data.headcount.describe()"
   ]
  },
  {
   "cell_type": "code",
   "execution_count": 50,
   "metadata": {},
   "outputs": [],
   "source": [
    "pd.options.display.max_columns=100\n"
   ]
  },
  {
   "cell_type": "markdown",
   "metadata": {},
   "source": []
  },
  {
   "cell_type": "code",
   "execution_count": 24,
   "metadata": {},
   "outputs": [
    {
     "data": {
      "text/plain": [
       "120827"
      ]
     },
     "execution_count": 24,
     "metadata": {},
     "output_type": "execute_result"
    }
   ],
   "source": [
    "data.headcount.sum()"
   ]
  },
  {
   "cell_type": "markdown",
   "metadata": {},
   "source": [
    "# 城市"
   ]
  },
  {
   "cell_type": "code",
   "execution_count": 25,
   "metadata": {},
   "outputs": [],
   "source": [
    "headcount_by_cities = data.groupby(by='city').headcount.sum()"
   ]
  },
  {
   "cell_type": "code",
   "execution_count": 26,
   "metadata": {},
   "outputs": [
    {
     "data": {
      "text/plain": [
       "city\n",
       "上海    39614\n",
       "北京    22805\n",
       "广州    25081\n",
       "深圳    33327\n",
       "Name: headcount, dtype: int64"
      ]
     },
     "execution_count": 26,
     "metadata": {},
     "output_type": "execute_result"
    }
   ],
   "source": [
    "headcount_by_cities\n"
   ]
  },
  {
   "cell_type": "code",
   "execution_count": 27,
   "metadata": {},
   "outputs": [
    {
     "data": {
      "image/png": "[encoded data removed]",
      "text/plain": [
       "<Figure size 720x576 with 1 Axes>"
      ]
     },
     "metadata": {},
     "output_type": "display_data"
    }
   ],
   "source": [
    "plt.figure(figsize=(10,8))\n",
    "plt.pie(headcount_by_cities.values, labels=headcount_by_cities.index, autopct='%1.1f%%')\n",
    "plt.show()"
   ]
  },
  {
   "cell_type": "code",
   "execution_count": 28,
   "metadata": {},
   "outputs": [
    {
     "data": {
      "text/html": [
       "<style  type=\"text/css\" >\n",
       "</style><table id=\"T_4b233ae6_2f5c_11ea_8e06_701ce71031ef\" ><thead>    <tr>        <th class=\"col_heading level0 col0\" >city</th>        <th class=\"col_heading level0 col1\" >salary_mean</th>        <th class=\"col_heading level0 col2\" >salary_95_min</th>        <th class=\"col_heading level0 col3\" >salary_median</th>        <th class=\"col_heading level0 col4\" >salary_95_max</th>        <th class=\"col_heading level0 col5\" >head_count</th>        <th class=\"col_heading level0 col6\" >percentage</th>    </tr></thead><tbody>\n",
       "                <tr>\n",
       "                                <td id=\"T_4b233ae6_2f5c_11ea_8e06_701ce71031efrow0_col0\" class=\"data row0 col0\" >北京</td>\n",
       "                        <td id=\"T_4b233ae6_2f5c_11ea_8e06_701ce71031efrow0_col1\" class=\"data row0 col1\" >18048</td>\n",
       "                        <td id=\"T_4b233ae6_2f5c_11ea_8e06_701ce71031efrow0_col2\" class=\"data row0 col2\" >3750</td>\n",
       "                        <td id=\"T_4b233ae6_2f5c_11ea_8e06_701ce71031efrow0_col3\" class=\"data row0 col3\" >15000</td>\n",
       "                        <td id=\"T_4b233ae6_2f5c_11ea_8e06_701ce71031efrow0_col4\" class=\"data row0 col4\" >45000</td>\n",
       "                        <td id=\"T_4b233ae6_2f5c_11ea_8e06_701ce71031efrow0_col5\" class=\"data row0 col5\" >22805</td>\n",
       "                        <td id=\"T_4b233ae6_2f5c_11ea_8e06_701ce71031efrow0_col6\" class=\"data row0 col6\" >18.87%</td>\n",
       "            </tr>\n",
       "            <tr>\n",
       "                                <td id=\"T_4b233ae6_2f5c_11ea_8e06_701ce71031efrow1_col0\" class=\"data row1 col0\" >上海</td>\n",
       "                        <td id=\"T_4b233ae6_2f5c_11ea_8e06_701ce71031efrow1_col1\" class=\"data row1 col1\" >16653</td>\n",
       "                        <td id=\"T_4b233ae6_2f5c_11ea_8e06_701ce71031efrow1_col2\" class=\"data row1 col2\" >5250</td>\n",
       "                        <td id=\"T_4b233ae6_2f5c_11ea_8e06_701ce71031efrow1_col3\" class=\"data row1 col3\" >15000</td>\n",
       "                        <td id=\"T_4b233ae6_2f5c_11ea_8e06_701ce71031efrow1_col4\" class=\"data row1 col4\" >37500</td>\n",
       "                        <td id=\"T_4b233ae6_2f5c_11ea_8e06_701ce71031efrow1_col5\" class=\"data row1 col5\" >39614</td>\n",
       "                        <td id=\"T_4b233ae6_2f5c_11ea_8e06_701ce71031efrow1_col6\" class=\"data row1 col6\" >32.79%</td>\n",
       "            </tr>\n",
       "            <tr>\n",
       "                                <td id=\"T_4b233ae6_2f5c_11ea_8e06_701ce71031efrow2_col0\" class=\"data row2 col0\" >深圳</td>\n",
       "                        <td id=\"T_4b233ae6_2f5c_11ea_8e06_701ce71031efrow2_col1\" class=\"data row2 col1\" >16488</td>\n",
       "                        <td id=\"T_4b233ae6_2f5c_11ea_8e06_701ce71031efrow2_col2\" class=\"data row2 col2\" >6000</td>\n",
       "                        <td id=\"T_4b233ae6_2f5c_11ea_8e06_701ce71031efrow2_col3\" class=\"data row2 col3\" >15000</td>\n",
       "                        <td id=\"T_4b233ae6_2f5c_11ea_8e06_701ce71031efrow2_col4\" class=\"data row2 col4\" >37500</td>\n",
       "                        <td id=\"T_4b233ae6_2f5c_11ea_8e06_701ce71031efrow2_col5\" class=\"data row2 col5\" >33327</td>\n",
       "                        <td id=\"T_4b233ae6_2f5c_11ea_8e06_701ce71031efrow2_col6\" class=\"data row2 col6\" >27.58%</td>\n",
       "            </tr>\n",
       "            <tr>\n",
       "                                <td id=\"T_4b233ae6_2f5c_11ea_8e06_701ce71031efrow3_col0\" class=\"data row3 col0\" >广州</td>\n",
       "                        <td id=\"T_4b233ae6_2f5c_11ea_8e06_701ce71031efrow3_col1\" class=\"data row3 col1\" >13831</td>\n",
       "                        <td id=\"T_4b233ae6_2f5c_11ea_8e06_701ce71031efrow3_col2\" class=\"data row3 col2\" >3750</td>\n",
       "                        <td id=\"T_4b233ae6_2f5c_11ea_8e06_701ce71031efrow3_col3\" class=\"data row3 col3\" >12500</td>\n",
       "                        <td id=\"T_4b233ae6_2f5c_11ea_8e06_701ce71031efrow3_col4\" class=\"data row3 col4\" >30000</td>\n",
       "                        <td id=\"T_4b233ae6_2f5c_11ea_8e06_701ce71031efrow3_col5\" class=\"data row3 col5\" >25081</td>\n",
       "                        <td id=\"T_4b233ae6_2f5c_11ea_8e06_701ce71031efrow3_col6\" class=\"data row3 col6\" >20.76%</td>\n",
       "            </tr>\n",
       "    </tbody></table>"
      ],
      "text/plain": [
       "<pandas.io.formats.style.Styler at 0x25602693a48>"
      ]
     },
     "execution_count": 28,
     "metadata": {},
     "output_type": "execute_result"
    }
   ],
   "source": [
    "data_pl=get_sub_stats_by_col(data,'city')\n",
    "apply_style(data_pl)"
   ]
  },
  {
   "cell_type": "code",
   "execution_count": 29,
   "metadata": {},
   "outputs": [],
   "source": [
    "salary_beijing=data[data.city=='北京'].monthly_salary\n",
    "salary_shanghai=data[data.city=='上海'].monthly_salary\n",
    "salary_guangzhou=data[data.city=='广州'].monthly_salary\n",
    "salary_shenzhen=data[data.city=='深圳'].monthly_salary"
   ]
  },
  {
   "cell_type": "code",
   "execution_count": null,
   "metadata": {},
   "outputs": [],
   "source": []
  },
  {
   "cell_type": "code",
   "execution_count": 30,
   "metadata": {},
   "outputs": [
    {
     "data": {
      "text/plain": [
       "F_onewayResult(statistic=93.24902474821212, pvalue=5.184770014585789e-22)"
      ]
     },
     "execution_count": 30,
     "metadata": {},
     "output_type": "execute_result"
    }
   ],
   "source": [
    "stats.f_oneway(salary_beijing, salary_shanghai)"
   ]
  },
  {
   "cell_type": "code",
   "execution_count": 31,
   "metadata": {},
   "outputs": [
    {
     "data": {
      "text/plain": [
       "F_onewayResult(statistic=38.17288463174944, pvalue=6.578694915859506e-10)"
      ]
     },
     "execution_count": 31,
     "metadata": {},
     "output_type": "execute_result"
    }
   ],
   "source": [
    "stats.f_oneway(salary_shanghai, salary_shenzhen)"
   ]
  },
  {
   "cell_type": "code",
   "execution_count": 32,
   "metadata": {},
   "outputs": [
    {
     "data": {
      "text/plain": [
       "F_onewayResult(statistic=583.4919444081208, pvalue=5.066099401116921e-127)"
      ]
     },
     "execution_count": 32,
     "metadata": {},
     "output_type": "execute_result"
    }
   ],
   "source": [
    "stats.f_oneway(salary_shenzhen, salary_guangzhou)"
   ]
  },
  {
   "cell_type": "markdown",
   "metadata": {},
   "source": [
    "# 编程语言"
   ]
  },
  {
   "cell_type": "code",
   "execution_count": 33,
   "metadata": {},
   "outputs": [
    {
     "data": {
      "text/html": [
       "<style  type=\"text/css\" >\n",
       "</style><table id=\"T_4b3fc9c8_2f5c_11ea_b2fa_701ce71031ef\" ><thead>    <tr>        <th class=\"col_heading level0 col0\" >rank</th>        <th class=\"col_heading level0 col1\" >pl_</th>        <th class=\"col_heading level0 col2\" >salary_mean</th>        <th class=\"col_heading level0 col3\" >salary_median</th>        <th class=\"col_heading level0 col4\" >salary_95_min</th>        <th class=\"col_heading level0 col5\" >salary_95_max</th>        <th class=\"col_heading level0 col6\" >head_count</th>        <th class=\"col_heading level0 col7\" >percentage</th>    </tr></thead><tbody>\n",
       "                <tr>\n",
       "                                <td id=\"T_4b3fc9c8_2f5c_11ea_b2fa_701ce71031efrow0_col0\" class=\"data row0 col0\" >1</td>\n",
       "                        <td id=\"T_4b3fc9c8_2f5c_11ea_b2fa_701ce71031efrow0_col1\" class=\"data row0 col1\" >rust</td>\n",
       "                        <td id=\"T_4b3fc9c8_2f5c_11ea_b2fa_701ce71031efrow0_col2\" class=\"data row0 col2\" >25914</td>\n",
       "                        <td id=\"T_4b3fc9c8_2f5c_11ea_b2fa_701ce71031efrow0_col3\" class=\"data row0 col3\" >27250</td>\n",
       "                        <td id=\"T_4b3fc9c8_2f5c_11ea_b2fa_701ce71031efrow0_col4\" class=\"data row0 col4\" >9000</td>\n",
       "                        <td id=\"T_4b3fc9c8_2f5c_11ea_b2fa_701ce71031efrow0_col5\" class=\"data row0 col5\" >50521</td>\n",
       "                        <td id=\"T_4b3fc9c8_2f5c_11ea_b2fa_701ce71031efrow0_col6\" class=\"data row0 col6\" >250</td>\n",
       "                        <td id=\"T_4b3fc9c8_2f5c_11ea_b2fa_701ce71031efrow0_col7\" class=\"data row0 col7\" >0.15%</td>\n",
       "            </tr>\n",
       "            <tr>\n",
       "                                <td id=\"T_4b3fc9c8_2f5c_11ea_b2fa_701ce71031efrow1_col0\" class=\"data row1 col0\" >2</td>\n",
       "                        <td id=\"T_4b3fc9c8_2f5c_11ea_b2fa_701ce71031efrow1_col1\" class=\"data row1 col1\" >python</td>\n",
       "                        <td id=\"T_4b3fc9c8_2f5c_11ea_b2fa_701ce71031efrow1_col2\" class=\"data row1 col2\" >20639</td>\n",
       "                        <td id=\"T_4b3fc9c8_2f5c_11ea_b2fa_701ce71031efrow1_col3\" class=\"data row1 col3\" >17500</td>\n",
       "                        <td id=\"T_4b3fc9c8_2f5c_11ea_b2fa_701ce71031efrow1_col4\" class=\"data row1 col4\" >5500</td>\n",
       "                        <td id=\"T_4b3fc9c8_2f5c_11ea_b2fa_701ce71031efrow1_col5\" class=\"data row1 col5\" >45000</td>\n",
       "                        <td id=\"T_4b3fc9c8_2f5c_11ea_b2fa_701ce71031efrow1_col6\" class=\"data row1 col6\" >15814</td>\n",
       "                        <td id=\"T_4b3fc9c8_2f5c_11ea_b2fa_701ce71031efrow1_col7\" class=\"data row1 col7\" >9.35%</td>\n",
       "            </tr>\n",
       "            <tr>\n",
       "                                <td id=\"T_4b3fc9c8_2f5c_11ea_b2fa_701ce71031efrow2_col0\" class=\"data row2 col0\" >3</td>\n",
       "                        <td id=\"T_4b3fc9c8_2f5c_11ea_b2fa_701ce71031efrow2_col1\" class=\"data row2 col1\" >go</td>\n",
       "                        <td id=\"T_4b3fc9c8_2f5c_11ea_b2fa_701ce71031efrow2_col2\" class=\"data row2 col2\" >20324</td>\n",
       "                        <td id=\"T_4b3fc9c8_2f5c_11ea_b2fa_701ce71031efrow2_col3\" class=\"data row2 col3\" >17500</td>\n",
       "                        <td id=\"T_4b3fc9c8_2f5c_11ea_b2fa_701ce71031efrow2_col4\" class=\"data row2 col4\" >7000</td>\n",
       "                        <td id=\"T_4b3fc9c8_2f5c_11ea_b2fa_701ce71031efrow2_col5\" class=\"data row2 col5\" >45000</td>\n",
       "                        <td id=\"T_4b3fc9c8_2f5c_11ea_b2fa_701ce71031efrow2_col6\" class=\"data row2 col6\" >15279</td>\n",
       "                        <td id=\"T_4b3fc9c8_2f5c_11ea_b2fa_701ce71031efrow2_col7\" class=\"data row2 col7\" >9.04%</td>\n",
       "            </tr>\n",
       "            <tr>\n",
       "                                <td id=\"T_4b3fc9c8_2f5c_11ea_b2fa_701ce71031efrow3_col0\" class=\"data row3 col0\" >4</td>\n",
       "                        <td id=\"T_4b3fc9c8_2f5c_11ea_b2fa_701ce71031efrow3_col1\" class=\"data row3 col1\" >lua</td>\n",
       "                        <td id=\"T_4b3fc9c8_2f5c_11ea_b2fa_701ce71031efrow3_col2\" class=\"data row3 col2\" >20181</td>\n",
       "                        <td id=\"T_4b3fc9c8_2f5c_11ea_b2fa_701ce71031efrow3_col3\" class=\"data row3 col3\" >19000</td>\n",
       "                        <td id=\"T_4b3fc9c8_2f5c_11ea_b2fa_701ce71031efrow3_col4\" class=\"data row3 col4\" >6460</td>\n",
       "                        <td id=\"T_4b3fc9c8_2f5c_11ea_b2fa_701ce71031efrow3_col5\" class=\"data row3 col5\" >40000</td>\n",
       "                        <td id=\"T_4b3fc9c8_2f5c_11ea_b2fa_701ce71031efrow3_col6\" class=\"data row3 col6\" >1633</td>\n",
       "                        <td id=\"T_4b3fc9c8_2f5c_11ea_b2fa_701ce71031efrow3_col7\" class=\"data row3 col7\" >0.97%</td>\n",
       "            </tr>\n",
       "            <tr>\n",
       "                                <td id=\"T_4b3fc9c8_2f5c_11ea_b2fa_701ce71031efrow4_col0\" class=\"data row4 col0\" >5</td>\n",
       "                        <td id=\"T_4b3fc9c8_2f5c_11ea_b2fa_701ce71031efrow4_col1\" class=\"data row4 col1\" >matlab</td>\n",
       "                        <td id=\"T_4b3fc9c8_2f5c_11ea_b2fa_701ce71031efrow4_col2\" class=\"data row4 col2\" >19706</td>\n",
       "                        <td id=\"T_4b3fc9c8_2f5c_11ea_b2fa_701ce71031efrow4_col3\" class=\"data row4 col3\" >17500</td>\n",
       "                        <td id=\"T_4b3fc9c8_2f5c_11ea_b2fa_701ce71031efrow4_col4\" class=\"data row4 col4\" >5271</td>\n",
       "                        <td id=\"T_4b3fc9c8_2f5c_11ea_b2fa_701ce71031efrow4_col5\" class=\"data row4 col5\" >40000</td>\n",
       "                        <td id=\"T_4b3fc9c8_2f5c_11ea_b2fa_701ce71031efrow4_col6\" class=\"data row4 col6\" >2651</td>\n",
       "                        <td id=\"T_4b3fc9c8_2f5c_11ea_b2fa_701ce71031efrow4_col7\" class=\"data row4 col7\" >1.57%</td>\n",
       "            </tr>\n",
       "            <tr>\n",
       "                                <td id=\"T_4b3fc9c8_2f5c_11ea_b2fa_701ce71031efrow5_col0\" class=\"data row5 col0\" >6</td>\n",
       "                        <td id=\"T_4b3fc9c8_2f5c_11ea_b2fa_701ce71031efrow5_col1\" class=\"data row5 col1\" >typescript</td>\n",
       "                        <td id=\"T_4b3fc9c8_2f5c_11ea_b2fa_701ce71031efrow5_col2\" class=\"data row5 col2\" >19226</td>\n",
       "                        <td id=\"T_4b3fc9c8_2f5c_11ea_b2fa_701ce71031efrow5_col3\" class=\"data row5 col3\" >22500</td>\n",
       "                        <td id=\"T_4b3fc9c8_2f5c_11ea_b2fa_701ce71031efrow5_col4\" class=\"data row5 col4\" >6500</td>\n",
       "                        <td id=\"T_4b3fc9c8_2f5c_11ea_b2fa_701ce71031efrow5_col5\" class=\"data row5 col5\" >35000</td>\n",
       "                        <td id=\"T_4b3fc9c8_2f5c_11ea_b2fa_701ce71031efrow5_col6\" class=\"data row5 col6\" >882</td>\n",
       "                        <td id=\"T_4b3fc9c8_2f5c_11ea_b2fa_701ce71031efrow5_col7\" class=\"data row5 col7\" >0.52%</td>\n",
       "            </tr>\n",
       "            <tr>\n",
       "                                <td id=\"T_4b3fc9c8_2f5c_11ea_b2fa_701ce71031efrow6_col0\" class=\"data row6 col0\" >7</td>\n",
       "                        <td id=\"T_4b3fc9c8_2f5c_11ea_b2fa_701ce71031efrow6_col1\" class=\"data row6 col1\" >haskell</td>\n",
       "                        <td id=\"T_4b3fc9c8_2f5c_11ea_b2fa_701ce71031efrow6_col2\" class=\"data row6 col2\" >19000</td>\n",
       "                        <td id=\"T_4b3fc9c8_2f5c_11ea_b2fa_701ce71031efrow6_col3\" class=\"data row6 col3\" >18929</td>\n",
       "                        <td id=\"T_4b3fc9c8_2f5c_11ea_b2fa_701ce71031efrow6_col4\" class=\"data row6 col4\" >11500</td>\n",
       "                        <td id=\"T_4b3fc9c8_2f5c_11ea_b2fa_701ce71031efrow6_col5\" class=\"data row6 col5\" >27000</td>\n",
       "                        <td id=\"T_4b3fc9c8_2f5c_11ea_b2fa_701ce71031efrow6_col6\" class=\"data row6 col6\" >45</td>\n",
       "                        <td id=\"T_4b3fc9c8_2f5c_11ea_b2fa_701ce71031efrow6_col7\" class=\"data row6 col7\" >0.03%</td>\n",
       "            </tr>\n",
       "            <tr>\n",
       "                                <td id=\"T_4b3fc9c8_2f5c_11ea_b2fa_701ce71031efrow7_col0\" class=\"data row7 col0\" >8</td>\n",
       "                        <td id=\"T_4b3fc9c8_2f5c_11ea_b2fa_701ce71031efrow7_col1\" class=\"data row7 col1\" >cpp</td>\n",
       "                        <td id=\"T_4b3fc9c8_2f5c_11ea_b2fa_701ce71031efrow7_col2\" class=\"data row7 col2\" >18483</td>\n",
       "                        <td id=\"T_4b3fc9c8_2f5c_11ea_b2fa_701ce71031efrow7_col3\" class=\"data row7 col3\" >16500</td>\n",
       "                        <td id=\"T_4b3fc9c8_2f5c_11ea_b2fa_701ce71031efrow7_col4\" class=\"data row7 col4\" >5250</td>\n",
       "                        <td id=\"T_4b3fc9c8_2f5c_11ea_b2fa_701ce71031efrow7_col5\" class=\"data row7 col5\" >40000</td>\n",
       "                        <td id=\"T_4b3fc9c8_2f5c_11ea_b2fa_701ce71031efrow7_col6\" class=\"data row7 col6\" >29077</td>\n",
       "                        <td id=\"T_4b3fc9c8_2f5c_11ea_b2fa_701ce71031efrow7_col7\" class=\"data row7 col7\" >17.20%</td>\n",
       "            </tr>\n",
       "            <tr>\n",
       "                                <td id=\"T_4b3fc9c8_2f5c_11ea_b2fa_701ce71031efrow8_col0\" class=\"data row8 col0\" >9</td>\n",
       "                        <td id=\"T_4b3fc9c8_2f5c_11ea_b2fa_701ce71031efrow8_col1\" class=\"data row8 col1\" >kotlin</td>\n",
       "                        <td id=\"T_4b3fc9c8_2f5c_11ea_b2fa_701ce71031efrow8_col2\" class=\"data row8 col2\" >18312</td>\n",
       "                        <td id=\"T_4b3fc9c8_2f5c_11ea_b2fa_701ce71031efrow8_col3\" class=\"data row8 col3\" >17500</td>\n",
       "                        <td id=\"T_4b3fc9c8_2f5c_11ea_b2fa_701ce71031efrow8_col4\" class=\"data row8 col4\" >7000</td>\n",
       "                        <td id=\"T_4b3fc9c8_2f5c_11ea_b2fa_701ce71031efrow8_col5\" class=\"data row8 col5\" >35000</td>\n",
       "                        <td id=\"T_4b3fc9c8_2f5c_11ea_b2fa_701ce71031efrow8_col6\" class=\"data row8 col6\" >572</td>\n",
       "                        <td id=\"T_4b3fc9c8_2f5c_11ea_b2fa_701ce71031efrow8_col7\" class=\"data row8 col7\" >0.34%</td>\n",
       "            </tr>\n",
       "            <tr>\n",
       "                                <td id=\"T_4b3fc9c8_2f5c_11ea_b2fa_701ce71031efrow9_col0\" class=\"data row9 col0\" >10</td>\n",
       "                        <td id=\"T_4b3fc9c8_2f5c_11ea_b2fa_701ce71031efrow9_col1\" class=\"data row9 col1\" >ruby</td>\n",
       "                        <td id=\"T_4b3fc9c8_2f5c_11ea_b2fa_701ce71031efrow9_col2\" class=\"data row9 col2\" >18118</td>\n",
       "                        <td id=\"T_4b3fc9c8_2f5c_11ea_b2fa_701ce71031efrow9_col3\" class=\"data row9 col3\" >17500</td>\n",
       "                        <td id=\"T_4b3fc9c8_2f5c_11ea_b2fa_701ce71031efrow9_col4\" class=\"data row9 col4\" >3848</td>\n",
       "                        <td id=\"T_4b3fc9c8_2f5c_11ea_b2fa_701ce71031efrow9_col5\" class=\"data row9 col5\" >37391</td>\n",
       "                        <td id=\"T_4b3fc9c8_2f5c_11ea_b2fa_701ce71031efrow9_col6\" class=\"data row9 col6\" >547</td>\n",
       "                        <td id=\"T_4b3fc9c8_2f5c_11ea_b2fa_701ce71031efrow9_col7\" class=\"data row9 col7\" >0.32%</td>\n",
       "            </tr>\n",
       "            <tr>\n",
       "                                <td id=\"T_4b3fc9c8_2f5c_11ea_b2fa_701ce71031efrow10_col0\" class=\"data row10 col0\" >11</td>\n",
       "                        <td id=\"T_4b3fc9c8_2f5c_11ea_b2fa_701ce71031efrow10_col1\" class=\"data row10 col1\" >perl</td>\n",
       "                        <td id=\"T_4b3fc9c8_2f5c_11ea_b2fa_701ce71031efrow10_col2\" class=\"data row10 col2\" >18028</td>\n",
       "                        <td id=\"T_4b3fc9c8_2f5c_11ea_b2fa_701ce71031efrow10_col3\" class=\"data row10 col3\" >16500</td>\n",
       "                        <td id=\"T_4b3fc9c8_2f5c_11ea_b2fa_701ce71031efrow10_col4\" class=\"data row10 col4\" >4890</td>\n",
       "                        <td id=\"T_4b3fc9c8_2f5c_11ea_b2fa_701ce71031efrow10_col5\" class=\"data row10 col5\" >40000</td>\n",
       "                        <td id=\"T_4b3fc9c8_2f5c_11ea_b2fa_701ce71031efrow10_col6\" class=\"data row10 col6\" >1256</td>\n",
       "                        <td id=\"T_4b3fc9c8_2f5c_11ea_b2fa_701ce71031efrow10_col7\" class=\"data row10 col7\" >0.74%</td>\n",
       "            </tr>\n",
       "            <tr>\n",
       "                                <td id=\"T_4b3fc9c8_2f5c_11ea_b2fa_701ce71031efrow11_col0\" class=\"data row11 col0\" >12</td>\n",
       "                        <td id=\"T_4b3fc9c8_2f5c_11ea_b2fa_701ce71031efrow11_col1\" class=\"data row11 col1\" >julia</td>\n",
       "                        <td id=\"T_4b3fc9c8_2f5c_11ea_b2fa_701ce71031efrow11_col2\" class=\"data row11 col2\" >17308</td>\n",
       "                        <td id=\"T_4b3fc9c8_2f5c_11ea_b2fa_701ce71031efrow11_col3\" class=\"data row11 col3\" >12500</td>\n",
       "                        <td id=\"T_4b3fc9c8_2f5c_11ea_b2fa_701ce71031efrow11_col4\" class=\"data row11 col4\" >12500</td>\n",
       "                        <td id=\"T_4b3fc9c8_2f5c_11ea_b2fa_701ce71031efrow11_col5\" class=\"data row11 col5\" >25000</td>\n",
       "                        <td id=\"T_4b3fc9c8_2f5c_11ea_b2fa_701ce71031efrow11_col6\" class=\"data row11 col6\" >13</td>\n",
       "                        <td id=\"T_4b3fc9c8_2f5c_11ea_b2fa_701ce71031efrow11_col7\" class=\"data row11 col7\" >0.01%</td>\n",
       "            </tr>\n",
       "            <tr>\n",
       "                                <td id=\"T_4b3fc9c8_2f5c_11ea_b2fa_701ce71031efrow12_col0\" class=\"data row12 col0\" >13</td>\n",
       "                        <td id=\"T_4b3fc9c8_2f5c_11ea_b2fa_701ce71031efrow12_col1\" class=\"data row12 col1\" >swift</td>\n",
       "                        <td id=\"T_4b3fc9c8_2f5c_11ea_b2fa_701ce71031efrow12_col2\" class=\"data row12 col2\" >16932</td>\n",
       "                        <td id=\"T_4b3fc9c8_2f5c_11ea_b2fa_701ce71031efrow12_col3\" class=\"data row12 col3\" >15500</td>\n",
       "                        <td id=\"T_4b3fc9c8_2f5c_11ea_b2fa_701ce71031efrow12_col4\" class=\"data row12 col4\" >6114</td>\n",
       "                        <td id=\"T_4b3fc9c8_2f5c_11ea_b2fa_701ce71031efrow12_col5\" class=\"data row12 col5\" >35958</td>\n",
       "                        <td id=\"T_4b3fc9c8_2f5c_11ea_b2fa_701ce71031efrow12_col6\" class=\"data row12 col6\" >1391</td>\n",
       "                        <td id=\"T_4b3fc9c8_2f5c_11ea_b2fa_701ce71031efrow12_col7\" class=\"data row12 col7\" >0.82%</td>\n",
       "            </tr>\n",
       "            <tr>\n",
       "                                <td id=\"T_4b3fc9c8_2f5c_11ea_b2fa_701ce71031efrow13_col0\" class=\"data row13 col0\" >14</td>\n",
       "                        <td id=\"T_4b3fc9c8_2f5c_11ea_b2fa_701ce71031efrow13_col1\" class=\"data row13 col1\" >objective_c</td>\n",
       "                        <td id=\"T_4b3fc9c8_2f5c_11ea_b2fa_701ce71031efrow13_col2\" class=\"data row13 col2\" >16096</td>\n",
       "                        <td id=\"T_4b3fc9c8_2f5c_11ea_b2fa_701ce71031efrow13_col3\" class=\"data row13 col3\" >13667</td>\n",
       "                        <td id=\"T_4b3fc9c8_2f5c_11ea_b2fa_701ce71031efrow13_col4\" class=\"data row13 col4\" >4711</td>\n",
       "                        <td id=\"T_4b3fc9c8_2f5c_11ea_b2fa_701ce71031efrow13_col5\" class=\"data row13 col5\" >43812</td>\n",
       "                        <td id=\"T_4b3fc9c8_2f5c_11ea_b2fa_701ce71031efrow13_col6\" class=\"data row13 col6\" >159</td>\n",
       "                        <td id=\"T_4b3fc9c8_2f5c_11ea_b2fa_701ce71031efrow13_col7\" class=\"data row13 col7\" >0.09%</td>\n",
       "            </tr>\n",
       "            <tr>\n",
       "                                <td id=\"T_4b3fc9c8_2f5c_11ea_b2fa_701ce71031efrow14_col0\" class=\"data row14 col0\" >15</td>\n",
       "                        <td id=\"T_4b3fc9c8_2f5c_11ea_b2fa_701ce71031efrow14_col1\" class=\"data row14 col1\" >java</td>\n",
       "                        <td id=\"T_4b3fc9c8_2f5c_11ea_b2fa_701ce71031efrow14_col2\" class=\"data row14 col2\" >16084</td>\n",
       "                        <td id=\"T_4b3fc9c8_2f5c_11ea_b2fa_701ce71031efrow14_col3\" class=\"data row14 col3\" >14500</td>\n",
       "                        <td id=\"T_4b3fc9c8_2f5c_11ea_b2fa_701ce71031efrow14_col4\" class=\"data row14 col4\" >5095</td>\n",
       "                        <td id=\"T_4b3fc9c8_2f5c_11ea_b2fa_701ce71031efrow14_col5\" class=\"data row14 col5\" >37500</td>\n",
       "                        <td id=\"T_4b3fc9c8_2f5c_11ea_b2fa_701ce71031efrow14_col6\" class=\"data row14 col6\" >53856</td>\n",
       "                        <td id=\"T_4b3fc9c8_2f5c_11ea_b2fa_701ce71031efrow14_col7\" class=\"data row14 col7\" >31.85%</td>\n",
       "            </tr>\n",
       "            <tr>\n",
       "                                <td id=\"T_4b3fc9c8_2f5c_11ea_b2fa_701ce71031efrow15_col0\" class=\"data row15 col0\" >16</td>\n",
       "                        <td id=\"T_4b3fc9c8_2f5c_11ea_b2fa_701ce71031efrow15_col1\" class=\"data row15 col1\" >php</td>\n",
       "                        <td id=\"T_4b3fc9c8_2f5c_11ea_b2fa_701ce71031efrow15_col2\" class=\"data row15 col2\" >15767</td>\n",
       "                        <td id=\"T_4b3fc9c8_2f5c_11ea_b2fa_701ce71031efrow15_col3\" class=\"data row15 col3\" >12999</td>\n",
       "                        <td id=\"T_4b3fc9c8_2f5c_11ea_b2fa_701ce71031efrow15_col4\" class=\"data row15 col4\" >4500</td>\n",
       "                        <td id=\"T_4b3fc9c8_2f5c_11ea_b2fa_701ce71031efrow15_col5\" class=\"data row15 col5\" >37500</td>\n",
       "                        <td id=\"T_4b3fc9c8_2f5c_11ea_b2fa_701ce71031efrow15_col6\" class=\"data row15 col6\" >7267</td>\n",
       "                        <td id=\"T_4b3fc9c8_2f5c_11ea_b2fa_701ce71031efrow15_col7\" class=\"data row15 col7\" >4.30%</td>\n",
       "            </tr>\n",
       "            <tr>\n",
       "                                <td id=\"T_4b3fc9c8_2f5c_11ea_b2fa_701ce71031efrow16_col0\" class=\"data row16 col0\" >17</td>\n",
       "                        <td id=\"T_4b3fc9c8_2f5c_11ea_b2fa_701ce71031efrow16_col1\" class=\"data row16 col1\" >visual_basic</td>\n",
       "                        <td id=\"T_4b3fc9c8_2f5c_11ea_b2fa_701ce71031efrow16_col2\" class=\"data row16 col2\" >14367</td>\n",
       "                        <td id=\"T_4b3fc9c8_2f5c_11ea_b2fa_701ce71031efrow16_col3\" class=\"data row16 col3\" >14792</td>\n",
       "                        <td id=\"T_4b3fc9c8_2f5c_11ea_b2fa_701ce71031efrow16_col4\" class=\"data row16 col4\" >6250</td>\n",
       "                        <td id=\"T_4b3fc9c8_2f5c_11ea_b2fa_701ce71031efrow16_col5\" class=\"data row16 col5\" >22500</td>\n",
       "                        <td id=\"T_4b3fc9c8_2f5c_11ea_b2fa_701ce71031efrow16_col6\" class=\"data row16 col6\" >20</td>\n",
       "                        <td id=\"T_4b3fc9c8_2f5c_11ea_b2fa_701ce71031efrow16_col7\" class=\"data row16 col7\" >0.01%</td>\n",
       "            </tr>\n",
       "            <tr>\n",
       "                                <td id=\"T_4b3fc9c8_2f5c_11ea_b2fa_701ce71031efrow17_col0\" class=\"data row17 col0\" >18</td>\n",
       "                        <td id=\"T_4b3fc9c8_2f5c_11ea_b2fa_701ce71031efrow17_col1\" class=\"data row17 col1\" >javascript</td>\n",
       "                        <td id=\"T_4b3fc9c8_2f5c_11ea_b2fa_701ce71031efrow17_col2\" class=\"data row17 col2\" >13982</td>\n",
       "                        <td id=\"T_4b3fc9c8_2f5c_11ea_b2fa_701ce71031efrow17_col3\" class=\"data row17 col3\" >12500</td>\n",
       "                        <td id=\"T_4b3fc9c8_2f5c_11ea_b2fa_701ce71031efrow17_col4\" class=\"data row17 col4\" >3750</td>\n",
       "                        <td id=\"T_4b3fc9c8_2f5c_11ea_b2fa_701ce71031efrow17_col5\" class=\"data row17 col5\" >29166</td>\n",
       "                        <td id=\"T_4b3fc9c8_2f5c_11ea_b2fa_701ce71031efrow17_col6\" class=\"data row17 col6\" >19215</td>\n",
       "                        <td id=\"T_4b3fc9c8_2f5c_11ea_b2fa_701ce71031efrow17_col7\" class=\"data row17 col7\" >11.36%</td>\n",
       "            </tr>\n",
       "            <tr>\n",
       "                                <td id=\"T_4b3fc9c8_2f5c_11ea_b2fa_701ce71031efrow18_col0\" class=\"data row18 col0\" >19</td>\n",
       "                        <td id=\"T_4b3fc9c8_2f5c_11ea_b2fa_701ce71031efrow18_col1\" class=\"data row18 col1\" >c_sharp</td>\n",
       "                        <td id=\"T_4b3fc9c8_2f5c_11ea_b2fa_701ce71031efrow18_col2\" class=\"data row18 col2\" >13408</td>\n",
       "                        <td id=\"T_4b3fc9c8_2f5c_11ea_b2fa_701ce71031efrow18_col3\" class=\"data row18 col3\" >12500</td>\n",
       "                        <td id=\"T_4b3fc9c8_2f5c_11ea_b2fa_701ce71031efrow18_col4\" class=\"data row18 col4\" >4000</td>\n",
       "                        <td id=\"T_4b3fc9c8_2f5c_11ea_b2fa_701ce71031efrow18_col5\" class=\"data row18 col5\" >27500</td>\n",
       "                        <td id=\"T_4b3fc9c8_2f5c_11ea_b2fa_701ce71031efrow18_col6\" class=\"data row18 col6\" >18464</td>\n",
       "                        <td id=\"T_4b3fc9c8_2f5c_11ea_b2fa_701ce71031efrow18_col7\" class=\"data row18 col7\" >10.92%</td>\n",
       "            </tr>\n",
       "            <tr>\n",
       "                                <td id=\"T_4b3fc9c8_2f5c_11ea_b2fa_701ce71031efrow19_col0\" class=\"data row19 col0\" >20</td>\n",
       "                        <td id=\"T_4b3fc9c8_2f5c_11ea_b2fa_701ce71031efrow19_col1\" class=\"data row19 col1\" >delphi</td>\n",
       "                        <td id=\"T_4b3fc9c8_2f5c_11ea_b2fa_701ce71031efrow19_col2\" class=\"data row19 col2\" >12476</td>\n",
       "                        <td id=\"T_4b3fc9c8_2f5c_11ea_b2fa_701ce71031efrow19_col3\" class=\"data row19 col3\" >12500</td>\n",
       "                        <td id=\"T_4b3fc9c8_2f5c_11ea_b2fa_701ce71031efrow19_col4\" class=\"data row19 col4\" >4967</td>\n",
       "                        <td id=\"T_4b3fc9c8_2f5c_11ea_b2fa_701ce71031efrow19_col5\" class=\"data row19 col5\" >22657</td>\n",
       "                        <td id=\"T_4b3fc9c8_2f5c_11ea_b2fa_701ce71031efrow19_col6\" class=\"data row19 col6\" >416</td>\n",
       "                        <td id=\"T_4b3fc9c8_2f5c_11ea_b2fa_701ce71031efrow19_col7\" class=\"data row19 col7\" >0.25%</td>\n",
       "            </tr>\n",
       "            <tr>\n",
       "                                <td id=\"T_4b3fc9c8_2f5c_11ea_b2fa_701ce71031efrow20_col0\" class=\"data row20 col0\" >21</td>\n",
       "                        <td id=\"T_4b3fc9c8_2f5c_11ea_b2fa_701ce71031efrow20_col1\" class=\"data row20 col1\" >vba</td>\n",
       "                        <td id=\"T_4b3fc9c8_2f5c_11ea_b2fa_701ce71031efrow20_col2\" class=\"data row20 col2\" >12401</td>\n",
       "                        <td id=\"T_4b3fc9c8_2f5c_11ea_b2fa_701ce71031efrow20_col3\" class=\"data row20 col3\" >11500</td>\n",
       "                        <td id=\"T_4b3fc9c8_2f5c_11ea_b2fa_701ce71031efrow20_col4\" class=\"data row20 col4\" >5768</td>\n",
       "                        <td id=\"T_4b3fc9c8_2f5c_11ea_b2fa_701ce71031efrow20_col5\" class=\"data row20 col5\" >26292</td>\n",
       "                        <td id=\"T_4b3fc9c8_2f5c_11ea_b2fa_701ce71031efrow20_col6\" class=\"data row20 col6\" >278</td>\n",
       "                        <td id=\"T_4b3fc9c8_2f5c_11ea_b2fa_701ce71031efrow20_col7\" class=\"data row20 col7\" >0.16%</td>\n",
       "            </tr>\n",
       "    </tbody></table>"
      ],
      "text/plain": [
       "<pandas.io.formats.style.Styler at 0x2560ccbcb48>"
      ]
     },
     "execution_count": 33,
     "metadata": {},
     "output_type": "execute_result"
    }
   ],
   "source": [
    "data_pl=get_sub_stats_by_prefix(data,'pl_')\n",
    "apply_style(data_pl)"
   ]
  },
  {
   "cell_type": "code",
   "execution_count": null,
   "metadata": {},
   "outputs": [],
   "source": []
  },
  {
   "cell_type": "markdown",
   "metadata": {},
   "source": [
    "数据显示，haskell才是最赚钱的编程语言。python是主流语言里面最赚钱的，比java的工资多了3000元！vb是最不赚钱的了。其中，最赚钱的编程语言和最不赚钱的，工资居然差了2倍。所以，要选好编程语言呀！"
   ]
  },
  {
   "cell_type": "markdown",
   "metadata": {},
   "source": [
    "# 教育"
   ]
  },
  {
   "cell_type": "code",
   "execution_count": 34,
   "metadata": {},
   "outputs": [],
   "source": [
    "edu_counts=data[~(data.edu=='')].groupby(by=['edu']).headcount.sum()"
   ]
  },
  {
   "cell_type": "code",
   "execution_count": 35,
   "metadata": {},
   "outputs": [
    {
     "data": {
      "text/plain": [
       "edu\n",
       "初中及以下       15\n",
       "博士         268\n",
       "大专       30246\n",
       "本科       68184\n",
       "硕士        4233\n",
       "高中         219\n",
       "Name: headcount, dtype: int64"
      ]
     },
     "execution_count": 35,
     "metadata": {},
     "output_type": "execute_result"
    }
   ],
   "source": [
    "edu_counts"
   ]
  },
  {
   "cell_type": "code",
   "execution_count": 36,
   "metadata": {},
   "outputs": [
    {
     "data": {
      "image/png": "[encoded data removed]",
      "text/plain": [
       "<Figure size 720x576 with 1 Axes>"
      ]
     },
     "metadata": {},
     "output_type": "display_data"
    }
   ],
   "source": [
    "plt.figure(figsize=(10,8))\n",
    "plt.pie(edu_counts.values, labels=edu_counts.index, autopct='%1.1f%%')\n",
    "plt.show()"
   ]
  },
  {
   "cell_type": "code",
   "execution_count": 37,
   "metadata": {},
   "outputs": [
    {
     "data": {
      "text/html": [
       "<style  type=\"text/css\" >\n",
       "</style><table id=\"T_4b6d9068_2f5c_11ea_895a_701ce71031ef\" ><thead>    <tr>        <th class=\"col_heading level0 col0\" >edu</th>        <th class=\"col_heading level0 col1\" >salary_mean</th>        <th class=\"col_heading level0 col2\" >salary_95_min</th>        <th class=\"col_heading level0 col3\" >salary_median</th>        <th class=\"col_heading level0 col4\" >salary_95_max</th>        <th class=\"col_heading level0 col5\" >head_count</th>        <th class=\"col_heading level0 col6\" >percentage</th>    </tr></thead><tbody>\n",
       "                <tr>\n",
       "                                <td id=\"T_4b6d9068_2f5c_11ea_895a_701ce71031efrow0_col0\" class=\"data row0 col0\" >博士</td>\n",
       "                        <td id=\"T_4b6d9068_2f5c_11ea_895a_701ce71031efrow0_col1\" class=\"data row0 col1\" >31687</td>\n",
       "                        <td id=\"T_4b6d9068_2f5c_11ea_895a_701ce71031efrow0_col2\" class=\"data row0 col2\" >14814</td>\n",
       "                        <td id=\"T_4b6d9068_2f5c_11ea_895a_701ce71031efrow0_col3\" class=\"data row0 col3\" >30000</td>\n",
       "                        <td id=\"T_4b6d9068_2f5c_11ea_895a_701ce71031efrow0_col4\" class=\"data row0 col4\" >54933</td>\n",
       "                        <td id=\"T_4b6d9068_2f5c_11ea_895a_701ce71031efrow0_col5\" class=\"data row0 col5\" >268</td>\n",
       "                        <td id=\"T_4b6d9068_2f5c_11ea_895a_701ce71031efrow0_col6\" class=\"data row0 col6\" >0.26%</td>\n",
       "            </tr>\n",
       "            <tr>\n",
       "                                <td id=\"T_4b6d9068_2f5c_11ea_895a_701ce71031efrow1_col0\" class=\"data row1 col0\" >硕士</td>\n",
       "                        <td id=\"T_4b6d9068_2f5c_11ea_895a_701ce71031efrow1_col1\" class=\"data row1 col1\" >21311</td>\n",
       "                        <td id=\"T_4b6d9068_2f5c_11ea_895a_701ce71031efrow1_col2\" class=\"data row1 col2\" >4000</td>\n",
       "                        <td id=\"T_4b6d9068_2f5c_11ea_895a_701ce71031efrow1_col3\" class=\"data row1 col3\" >20000</td>\n",
       "                        <td id=\"T_4b6d9068_2f5c_11ea_895a_701ce71031efrow1_col4\" class=\"data row1 col4\" >45000</td>\n",
       "                        <td id=\"T_4b6d9068_2f5c_11ea_895a_701ce71031efrow1_col5\" class=\"data row1 col5\" >4233</td>\n",
       "                        <td id=\"T_4b6d9068_2f5c_11ea_895a_701ce71031efrow1_col6\" class=\"data row1 col6\" >4.10%</td>\n",
       "            </tr>\n",
       "            <tr>\n",
       "                                <td id=\"T_4b6d9068_2f5c_11ea_895a_701ce71031efrow2_col0\" class=\"data row2 col0\" >本科</td>\n",
       "                        <td id=\"T_4b6d9068_2f5c_11ea_895a_701ce71031efrow2_col1\" class=\"data row2 col1\" >17161</td>\n",
       "                        <td id=\"T_4b6d9068_2f5c_11ea_895a_701ce71031efrow2_col2\" class=\"data row2 col2\" >5250</td>\n",
       "                        <td id=\"T_4b6d9068_2f5c_11ea_895a_701ce71031efrow2_col3\" class=\"data row2 col3\" >15000</td>\n",
       "                        <td id=\"T_4b6d9068_2f5c_11ea_895a_701ce71031efrow2_col4\" class=\"data row2 col4\" >37500</td>\n",
       "                        <td id=\"T_4b6d9068_2f5c_11ea_895a_701ce71031efrow2_col5\" class=\"data row2 col5\" >68184</td>\n",
       "                        <td id=\"T_4b6d9068_2f5c_11ea_895a_701ce71031efrow2_col6\" class=\"data row2 col6\" >66.09%</td>\n",
       "            </tr>\n",
       "            <tr>\n",
       "                                <td id=\"T_4b6d9068_2f5c_11ea_895a_701ce71031efrow3_col0\" class=\"data row3 col0\" >大专</td>\n",
       "                        <td id=\"T_4b6d9068_2f5c_11ea_895a_701ce71031efrow3_col1\" class=\"data row3 col1\" >13632</td>\n",
       "                        <td id=\"T_4b6d9068_2f5c_11ea_895a_701ce71031efrow3_col2\" class=\"data row3 col2\" >4500</td>\n",
       "                        <td id=\"T_4b6d9068_2f5c_11ea_895a_701ce71031efrow3_col3\" class=\"data row3 col3\" >12500</td>\n",
       "                        <td id=\"T_4b6d9068_2f5c_11ea_895a_701ce71031efrow3_col4\" class=\"data row3 col4\" >27500</td>\n",
       "                        <td id=\"T_4b6d9068_2f5c_11ea_895a_701ce71031efrow3_col5\" class=\"data row3 col5\" >30246</td>\n",
       "                        <td id=\"T_4b6d9068_2f5c_11ea_895a_701ce71031efrow3_col6\" class=\"data row3 col6\" >29.32%</td>\n",
       "            </tr>\n",
       "            <tr>\n",
       "                                <td id=\"T_4b6d9068_2f5c_11ea_895a_701ce71031efrow4_col0\" class=\"data row4 col0\" >初中及以下</td>\n",
       "                        <td id=\"T_4b6d9068_2f5c_11ea_895a_701ce71031efrow4_col1\" class=\"data row4 col1\" >13200</td>\n",
       "                        <td id=\"T_4b6d9068_2f5c_11ea_895a_701ce71031efrow4_col2\" class=\"data row4 col2\" >9000</td>\n",
       "                        <td id=\"T_4b6d9068_2f5c_11ea_895a_701ce71031efrow4_col3\" class=\"data row4 col3\" >11100</td>\n",
       "                        <td id=\"T_4b6d9068_2f5c_11ea_895a_701ce71031efrow4_col4\" class=\"data row4 col4\" >30000</td>\n",
       "                        <td id=\"T_4b6d9068_2f5c_11ea_895a_701ce71031efrow4_col5\" class=\"data row4 col5\" >15</td>\n",
       "                        <td id=\"T_4b6d9068_2f5c_11ea_895a_701ce71031efrow4_col6\" class=\"data row4 col6\" >0.01%</td>\n",
       "            </tr>\n",
       "            <tr>\n",
       "                                <td id=\"T_4b6d9068_2f5c_11ea_895a_701ce71031efrow5_col0\" class=\"data row5 col0\" >高中</td>\n",
       "                        <td id=\"T_4b6d9068_2f5c_11ea_895a_701ce71031efrow5_col1\" class=\"data row5 col1\" >8970</td>\n",
       "                        <td id=\"T_4b6d9068_2f5c_11ea_895a_701ce71031efrow5_col2\" class=\"data row5 col2\" >4622</td>\n",
       "                        <td id=\"T_4b6d9068_2f5c_11ea_895a_701ce71031efrow5_col3\" class=\"data row5 col3\" >7000</td>\n",
       "                        <td id=\"T_4b6d9068_2f5c_11ea_895a_701ce71031efrow5_col4\" class=\"data row5 col4\" >23550</td>\n",
       "                        <td id=\"T_4b6d9068_2f5c_11ea_895a_701ce71031efrow5_col5\" class=\"data row5 col5\" >219</td>\n",
       "                        <td id=\"T_4b6d9068_2f5c_11ea_895a_701ce71031efrow5_col6\" class=\"data row5 col6\" >0.21%</td>\n",
       "            </tr>\n",
       "    </tbody></table>"
      ],
      "text/plain": [
       "<pandas.io.formats.style.Styler at 0x2560f3eb088>"
      ]
     },
     "execution_count": 37,
     "metadata": {},
     "output_type": "execute_result"
    }
   ],
   "source": [
    "data_edu=get_sub_stats_by_col(data[data.edu.isin(['初中及以下','高中','大专','本科','硕士','博士'])], 'edu')\n",
    "apply_style(data_edu)"
   ]
  },
  {
   "cell_type": "code",
   "execution_count": 38,
   "metadata": {},
   "outputs": [],
   "source": [
    "salary_associate=data[data.edu=='大专'].monthly_salary\n",
    "salary_bachelor=data[data.edu=='本科'].monthly_salary\n",
    "salary_master=data[data.edu=='硕士'].monthly_salary\n",
    "salary_phd=data[data.edu=='博士'].monthly_salary"
   ]
  },
  {
   "cell_type": "code",
   "execution_count": null,
   "metadata": {},
   "outputs": [],
   "source": []
  },
  {
   "cell_type": "code",
   "execution_count": 39,
   "metadata": {},
   "outputs": [
    {
     "name": "stdout",
     "output_type": "stream",
     "text": [
      "大专，本科，硕士，博士的平均工资分别是13481，17417，21798，32183。中位数分别是12500， 15500，20000， 30000。\n"
     ]
    }
   ],
   "source": [
    "print('大专，本科，硕士，博士的平均工资分别是{:.0f}，{:.0f}，{:.0f}，{:.0f}。中位数分别是{:.0f}， {:.0f}，{:.0f}， {:.0f}。'.format(\n",
    "    salary_associate.mean(),salary_bachelor.mean(),salary_master.mean(),salary_phd.mean(),\n",
    "    salary_associate.median(),salary_bachelor.median(),salary_master.median(),salary_phd.median()))"
   ]
  },
  {
   "cell_type": "code",
   "execution_count": 40,
   "metadata": {},
   "outputs": [
    {
     "data": {
      "text/plain": [
       "F_onewayResult(statistic=99.82075932370368, pvalue=8.531566536982412e-23)"
      ]
     },
     "execution_count": 40,
     "metadata": {},
     "output_type": "execute_result"
    }
   ],
   "source": [
    "stats.f_oneway(salary_phd, salary_master)"
   ]
  },
  {
   "cell_type": "code",
   "execution_count": 41,
   "metadata": {},
   "outputs": [
    {
     "data": {
      "text/plain": [
       "F_onewayResult(statistic=368.64021013143685, pvalue=1.5732344246209446e-81)"
      ]
     },
     "execution_count": 41,
     "metadata": {},
     "output_type": "execute_result"
    }
   ],
   "source": [
    "stats.f_oneway(salary_master, salary_bachelor)"
   ]
  },
  {
   "cell_type": "code",
   "execution_count": 42,
   "metadata": {},
   "outputs": [
    {
     "data": {
      "text/plain": [
       "F_onewayResult(statistic=1790.6486660491666, pvalue=0.0)"
      ]
     },
     "execution_count": 42,
     "metadata": {},
     "output_type": "execute_result"
    }
   ],
   "source": [
    "stats.f_oneway(salary_bachelor, salary_associate)"
   ]
  },
  {
   "cell_type": "markdown",
   "metadata": {},
   "source": [
    "经过Oneway Anova Test，证明从大专到博士，学历每提高一级，工资都有显著的提高。"
   ]
  },
  {
   "cell_type": "code",
   "execution_count": 43,
   "metadata": {},
   "outputs": [
    {
     "data": {
      "image/png": "[encoded data removed]",
      "text/plain": [
       "<Figure size 432x288 with 1 Axes>"
      ]
     },
     "metadata": {
      "needs_background": "light"
     },
     "output_type": "display_data"
    }
   ],
   "source": [
    "\n",
    "order=['大专','本科','硕士','博士']\n",
    "a=sns.boxplot(y='edu',x='monthly_salary',order=order,data=data[data.edu.isin(order)], orient='h')\n",
    "plt.annotate('https://github.com/juwikuang/job_survey', xy=(0.5,1.5), xytext=(2, 1.55))\n",
    "plt.show()"
   ]
  },
  {
   "cell_type": "markdown",
   "metadata": {},
   "source": [
    "# 工作经验 Working Experience"
   ]
  },
  {
   "cell_type": "code",
   "execution_count": 44,
   "metadata": {},
   "outputs": [
    {
     "data": {
      "text/html": [
       "<style  type=\"text/css\" >\n",
       "</style><table id=\"T_4ba42fe8_2f5c_11ea_922d_701ce71031ef\" ><thead>    <tr>        <th class=\"col_heading level0 col0\" >experience</th>        <th class=\"col_heading level0 col1\" >salary_mean</th>        <th class=\"col_heading level0 col2\" >salary_95_min</th>        <th class=\"col_heading level0 col3\" >salary_median</th>        <th class=\"col_heading level0 col4\" >salary_95_max</th>        <th class=\"col_heading level0 col5\" >head_count</th>        <th class=\"col_heading level0 col6\" >percentage</th>    </tr></thead><tbody>\n",
       "                <tr>\n",
       "                                <td id=\"T_4ba42fe8_2f5c_11ea_922d_701ce71031efrow0_col0\" class=\"data row0 col0\" >10+</td>\n",
       "                        <td id=\"T_4ba42fe8_2f5c_11ea_922d_701ce71031efrow0_col1\" class=\"data row0 col1\" >31526</td>\n",
       "                        <td id=\"T_4ba42fe8_2f5c_11ea_922d_701ce71031efrow0_col2\" class=\"data row0 col2\" >12391</td>\n",
       "                        <td id=\"T_4ba42fe8_2f5c_11ea_922d_701ce71031efrow0_col3\" class=\"data row0 col3\" >30000</td>\n",
       "                        <td id=\"T_4ba42fe8_2f5c_11ea_922d_701ce71031efrow0_col4\" class=\"data row0 col4\" >58700</td>\n",
       "                        <td id=\"T_4ba42fe8_2f5c_11ea_922d_701ce71031efrow0_col5\" class=\"data row0 col5\" >416</td>\n",
       "                        <td id=\"T_4ba42fe8_2f5c_11ea_922d_701ce71031efrow0_col6\" class=\"data row0 col6\" >0.34%</td>\n",
       "            </tr>\n",
       "            <tr>\n",
       "                                <td id=\"T_4ba42fe8_2f5c_11ea_922d_701ce71031efrow1_col0\" class=\"data row1 col0\" >5_10</td>\n",
       "                        <td id=\"T_4ba42fe8_2f5c_11ea_922d_701ce71031efrow1_col1\" class=\"data row1 col1\" >22010</td>\n",
       "                        <td id=\"T_4ba42fe8_2f5c_11ea_922d_701ce71031efrow1_col2\" class=\"data row1 col2\" >11500</td>\n",
       "                        <td id=\"T_4ba42fe8_2f5c_11ea_922d_701ce71031efrow1_col3\" class=\"data row1 col3\" >20000</td>\n",
       "                        <td id=\"T_4ba42fe8_2f5c_11ea_922d_701ce71031efrow1_col4\" class=\"data row1 col4\" >45000</td>\n",
       "                        <td id=\"T_4ba42fe8_2f5c_11ea_922d_701ce71031efrow1_col5\" class=\"data row1 col5\" >16535</td>\n",
       "                        <td id=\"T_4ba42fe8_2f5c_11ea_922d_701ce71031efrow1_col6\" class=\"data row1 col6\" >13.68%</td>\n",
       "            </tr>\n",
       "            <tr>\n",
       "                                <td id=\"T_4ba42fe8_2f5c_11ea_922d_701ce71031efrow2_col0\" class=\"data row2 col0\" >3_5</td>\n",
       "                        <td id=\"T_4ba42fe8_2f5c_11ea_922d_701ce71031efrow2_col1\" class=\"data row2 col1\" >17429</td>\n",
       "                        <td id=\"T_4ba42fe8_2f5c_11ea_922d_701ce71031efrow2_col2\" class=\"data row2 col2\" >9000</td>\n",
       "                        <td id=\"T_4ba42fe8_2f5c_11ea_922d_701ce71031efrow2_col3\" class=\"data row2 col3\" >15000</td>\n",
       "                        <td id=\"T_4ba42fe8_2f5c_11ea_922d_701ce71031efrow2_col4\" class=\"data row2 col4\" >37500</td>\n",
       "                        <td id=\"T_4ba42fe8_2f5c_11ea_922d_701ce71031efrow2_col5\" class=\"data row2 col5\" >37186</td>\n",
       "                        <td id=\"T_4ba42fe8_2f5c_11ea_922d_701ce71031efrow2_col6\" class=\"data row2 col6\" >30.78%</td>\n",
       "            </tr>\n",
       "            <tr>\n",
       "                                <td id=\"T_4ba42fe8_2f5c_11ea_922d_701ce71031efrow3_col0\" class=\"data row3 col0\" >no</td>\n",
       "                        <td id=\"T_4ba42fe8_2f5c_11ea_922d_701ce71031efrow3_col1\" class=\"data row3 col1\" >14687</td>\n",
       "                        <td id=\"T_4ba42fe8_2f5c_11ea_922d_701ce71031efrow3_col2\" class=\"data row3 col2\" >3500</td>\n",
       "                        <td id=\"T_4ba42fe8_2f5c_11ea_922d_701ce71031efrow3_col3\" class=\"data row3 col3\" >12500</td>\n",
       "                        <td id=\"T_4ba42fe8_2f5c_11ea_922d_701ce71031efrow3_col4\" class=\"data row3 col4\" >37500</td>\n",
       "                        <td id=\"T_4ba42fe8_2f5c_11ea_922d_701ce71031efrow3_col5\" class=\"data row3 col5\" >34820</td>\n",
       "                        <td id=\"T_4ba42fe8_2f5c_11ea_922d_701ce71031efrow3_col6\" class=\"data row3 col6\" >28.82%</td>\n",
       "            </tr>\n",
       "            <tr>\n",
       "                                <td id=\"T_4ba42fe8_2f5c_11ea_922d_701ce71031efrow4_col0\" class=\"data row4 col0\" >1_3</td>\n",
       "                        <td id=\"T_4ba42fe8_2f5c_11ea_922d_701ce71031efrow4_col1\" class=\"data row4 col1\" >13527</td>\n",
       "                        <td id=\"T_4ba42fe8_2f5c_11ea_922d_701ce71031efrow4_col2\" class=\"data row4 col2\" >5500</td>\n",
       "                        <td id=\"T_4ba42fe8_2f5c_11ea_922d_701ce71031efrow4_col3\" class=\"data row4 col3\" >12500</td>\n",
       "                        <td id=\"T_4ba42fe8_2f5c_11ea_922d_701ce71031efrow4_col4\" class=\"data row4 col4\" >30000</td>\n",
       "                        <td id=\"T_4ba42fe8_2f5c_11ea_922d_701ce71031efrow4_col5\" class=\"data row4 col5\" >31870</td>\n",
       "                        <td id=\"T_4ba42fe8_2f5c_11ea_922d_701ce71031efrow4_col6\" class=\"data row4 col6\" >26.38%</td>\n",
       "            </tr>\n",
       "    </tbody></table>"
      ],
      "text/plain": [
       "<pandas.io.formats.style.Styler at 0x256102e1588>"
      ]
     },
     "execution_count": 44,
     "metadata": {},
     "output_type": "execute_result"
    }
   ],
   "source": [
    "data_experience=get_sub_stats_by_col(data, 'experience')\n",
    "apply_style(data_experience)"
   ]
  },
  {
   "cell_type": "code",
   "execution_count": 45,
   "metadata": {},
   "outputs": [],
   "source": [
    "salary_we_10=data[data.experience=='10+'].monthly_salary\n",
    "salary_we_5_10=data[data.experience=='5_10'].monthly_salary\n",
    "salary_we_3_5=data[data.experience=='3_5'].monthly_salary\n",
    "salary_we_1_3=data[data.experience=='1_3'].monthly_salary\n",
    "salary_we_no=data[data.experience=='no'].monthly_salary"
   ]
  },
  {
   "cell_type": "code",
   "execution_count": 46,
   "metadata": {},
   "outputs": [
    {
     "data": {
      "image/png": "[encoded data removed]",
      "text/plain": [
       "<Figure size 432x288 with 1 Axes>"
      ]
     },
     "metadata": {
      "needs_background": "light"
     },
     "output_type": "display_data"
    }
   ],
   "source": [
    "\n",
    "order=['10+','5_10','3_5','1_3']\n",
    "sns.boxplot(y='experience',x='monthly_salary',order=order,data=data[data.experience.isin(order)], orient='h')\n",
    "plt.annotate('https://github.com/juwikuang/job_survey', xy=(1.5,1.5), xytext=(1.55, 1.55))\n",
    "plt.show()"
   ]
  },
  {
   "cell_type": "markdown",
   "metadata": {},
   "source": [
    "# 公司 Company"
   ]
  },
  {
   "cell_type": "markdown",
   "metadata": {},
   "source": [
    "## 公司性质 Company Type"
   ]
  },
  {
   "cell_type": "code",
   "execution_count": 47,
   "metadata": {},
   "outputs": [
    {
     "data": {
      "text/html": [
       "<style  type=\"text/css\" >\n",
       "</style><table id=\"T_4bda5c36_2f5c_11ea_9f77_701ce71031ef\" ><thead>    <tr>        <th class=\"col_heading level0 col0\" >company_type</th>        <th class=\"col_heading level0 col1\" >salary_mean</th>        <th class=\"col_heading level0 col2\" >salary_95_min</th>        <th class=\"col_heading level0 col3\" >salary_median</th>        <th class=\"col_heading level0 col4\" >salary_95_max</th>        <th class=\"col_heading level0 col5\" >head_count</th>        <th class=\"col_heading level0 col6\" >percentage</th>    </tr></thead><tbody>\n",
       "                <tr>\n",
       "                                <td id=\"T_4bda5c36_2f5c_11ea_9f77_701ce71031efrow0_col0\" class=\"data row0 col0\" >外资（欧美）</td>\n",
       "                        <td id=\"T_4bda5c36_2f5c_11ea_9f77_701ce71031efrow0_col1\" class=\"data row0 col1\" >19689</td>\n",
       "                        <td id=\"T_4bda5c36_2f5c_11ea_9f77_701ce71031efrow0_col2\" class=\"data row0 col2\" >6000</td>\n",
       "                        <td id=\"T_4bda5c36_2f5c_11ea_9f77_701ce71031efrow0_col3\" class=\"data row0 col3\" >17500</td>\n",
       "                        <td id=\"T_4bda5c36_2f5c_11ea_9f77_701ce71031efrow0_col4\" class=\"data row0 col4\" >45000</td>\n",
       "                        <td id=\"T_4bda5c36_2f5c_11ea_9f77_701ce71031efrow0_col5\" class=\"data row0 col5\" >6593</td>\n",
       "                        <td id=\"T_4bda5c36_2f5c_11ea_9f77_701ce71031efrow0_col6\" class=\"data row0 col6\" >5.46%</td>\n",
       "            </tr>\n",
       "            <tr>\n",
       "                                <td id=\"T_4bda5c36_2f5c_11ea_9f77_701ce71031efrow1_col0\" class=\"data row1 col0\" >合资</td>\n",
       "                        <td id=\"T_4bda5c36_2f5c_11ea_9f77_701ce71031efrow1_col1\" class=\"data row1 col1\" >16436</td>\n",
       "                        <td id=\"T_4bda5c36_2f5c_11ea_9f77_701ce71031efrow1_col2\" class=\"data row1 col2\" >6000</td>\n",
       "                        <td id=\"T_4bda5c36_2f5c_11ea_9f77_701ce71031efrow1_col3\" class=\"data row1 col3\" >15000</td>\n",
       "                        <td id=\"T_4bda5c36_2f5c_11ea_9f77_701ce71031efrow1_col4\" class=\"data row1 col4\" >35144</td>\n",
       "                        <td id=\"T_4bda5c36_2f5c_11ea_9f77_701ce71031efrow1_col5\" class=\"data row1 col5\" >10751</td>\n",
       "                        <td id=\"T_4bda5c36_2f5c_11ea_9f77_701ce71031efrow1_col6\" class=\"data row1 col6\" >8.90%</td>\n",
       "            </tr>\n",
       "            <tr>\n",
       "                                <td id=\"T_4bda5c36_2f5c_11ea_9f77_701ce71031efrow2_col0\" class=\"data row2 col0\" >民营公司</td>\n",
       "                        <td id=\"T_4bda5c36_2f5c_11ea_9f77_701ce71031efrow2_col1\" class=\"data row2 col1\" >16098</td>\n",
       "                        <td id=\"T_4bda5c36_2f5c_11ea_9f77_701ce71031efrow2_col2\" class=\"data row2 col2\" >5000</td>\n",
       "                        <td id=\"T_4bda5c36_2f5c_11ea_9f77_701ce71031efrow2_col3\" class=\"data row2 col3\" >14000</td>\n",
       "                        <td id=\"T_4bda5c36_2f5c_11ea_9f77_701ce71031efrow2_col4\" class=\"data row2 col4\" >37500</td>\n",
       "                        <td id=\"T_4bda5c36_2f5c_11ea_9f77_701ce71031efrow2_col5\" class=\"data row2 col5\" >88217</td>\n",
       "                        <td id=\"T_4bda5c36_2f5c_11ea_9f77_701ce71031efrow2_col6\" class=\"data row2 col6\" >73.01%</td>\n",
       "            </tr>\n",
       "            <tr>\n",
       "                                <td id=\"T_4bda5c36_2f5c_11ea_9f77_701ce71031efrow3_col0\" class=\"data row3 col0\" >国企</td>\n",
       "                        <td id=\"T_4bda5c36_2f5c_11ea_9f77_701ce71031efrow3_col1\" class=\"data row3 col1\" >15894</td>\n",
       "                        <td id=\"T_4bda5c36_2f5c_11ea_9f77_701ce71031efrow3_col2\" class=\"data row3 col2\" >3500</td>\n",
       "                        <td id=\"T_4bda5c36_2f5c_11ea_9f77_701ce71031efrow3_col3\" class=\"data row3 col3\" >14000</td>\n",
       "                        <td id=\"T_4bda5c36_2f5c_11ea_9f77_701ce71031efrow3_col4\" class=\"data row3 col4\" >45000</td>\n",
       "                        <td id=\"T_4bda5c36_2f5c_11ea_9f77_701ce71031efrow3_col5\" class=\"data row3 col5\" >7631</td>\n",
       "                        <td id=\"T_4bda5c36_2f5c_11ea_9f77_701ce71031efrow3_col6\" class=\"data row3 col6\" >6.32%</td>\n",
       "            </tr>\n",
       "            <tr>\n",
       "                                <td id=\"T_4bda5c36_2f5c_11ea_9f77_701ce71031efrow4_col0\" class=\"data row4 col0\" >外资（非欧美）</td>\n",
       "                        <td id=\"T_4bda5c36_2f5c_11ea_9f77_701ce71031efrow4_col1\" class=\"data row4 col1\" >15860</td>\n",
       "                        <td id=\"T_4bda5c36_2f5c_11ea_9f77_701ce71031efrow4_col2\" class=\"data row4 col2\" >5250</td>\n",
       "                        <td id=\"T_4bda5c36_2f5c_11ea_9f77_701ce71031efrow4_col3\" class=\"data row4 col3\" >14000</td>\n",
       "                        <td id=\"T_4bda5c36_2f5c_11ea_9f77_701ce71031efrow4_col4\" class=\"data row4 col4\" >36563</td>\n",
       "                        <td id=\"T_4bda5c36_2f5c_11ea_9f77_701ce71031efrow4_col5\" class=\"data row4 col5\" >6955</td>\n",
       "                        <td id=\"T_4bda5c36_2f5c_11ea_9f77_701ce71031efrow4_col6\" class=\"data row4 col6\" >5.76%</td>\n",
       "            </tr>\n",
       "            <tr>\n",
       "                                <td id=\"T_4bda5c36_2f5c_11ea_9f77_701ce71031efrow5_col0\" class=\"data row5 col0\" >非营利组织</td>\n",
       "                        <td id=\"T_4bda5c36_2f5c_11ea_9f77_701ce71031efrow5_col1\" class=\"data row5 col1\" >14499</td>\n",
       "                        <td id=\"T_4bda5c36_2f5c_11ea_9f77_701ce71031efrow5_col2\" class=\"data row5 col2\" >6288</td>\n",
       "                        <td id=\"T_4bda5c36_2f5c_11ea_9f77_701ce71031efrow5_col3\" class=\"data row5 col3\" >12500</td>\n",
       "                        <td id=\"T_4bda5c36_2f5c_11ea_9f77_701ce71031efrow5_col4\" class=\"data row5 col4\" >29124</td>\n",
       "                        <td id=\"T_4bda5c36_2f5c_11ea_9f77_701ce71031efrow5_col5\" class=\"data row5 col5\" >103</td>\n",
       "                        <td id=\"T_4bda5c36_2f5c_11ea_9f77_701ce71031efrow5_col6\" class=\"data row5 col6\" >0.09%</td>\n",
       "            </tr>\n",
       "            <tr>\n",
       "                                <td id=\"T_4bda5c36_2f5c_11ea_9f77_701ce71031efrow6_col0\" class=\"data row6 col0\" >事业单位</td>\n",
       "                        <td id=\"T_4bda5c36_2f5c_11ea_9f77_701ce71031efrow6_col1\" class=\"data row6 col1\" >13899</td>\n",
       "                        <td id=\"T_4bda5c36_2f5c_11ea_9f77_701ce71031efrow6_col2\" class=\"data row6 col2\" >5250</td>\n",
       "                        <td id=\"T_4bda5c36_2f5c_11ea_9f77_701ce71031efrow6_col3\" class=\"data row6 col3\" >12500</td>\n",
       "                        <td id=\"T_4bda5c36_2f5c_11ea_9f77_701ce71031efrow6_col4\" class=\"data row6 col4\" >30725</td>\n",
       "                        <td id=\"T_4bda5c36_2f5c_11ea_9f77_701ce71031efrow6_col5\" class=\"data row6 col5\" >531</td>\n",
       "                        <td id=\"T_4bda5c36_2f5c_11ea_9f77_701ce71031efrow6_col6\" class=\"data row6 col6\" >0.44%</td>\n",
       "            </tr>\n",
       "            <tr>\n",
       "                                <td id=\"T_4bda5c36_2f5c_11ea_9f77_701ce71031efrow7_col0\" class=\"data row7 col0\" >外企代表处</td>\n",
       "                        <td id=\"T_4bda5c36_2f5c_11ea_9f77_701ce71031efrow7_col1\" class=\"data row7 col1\" >13043</td>\n",
       "                        <td id=\"T_4bda5c36_2f5c_11ea_9f77_701ce71031efrow7_col2\" class=\"data row7 col2\" >7000</td>\n",
       "                        <td id=\"T_4bda5c36_2f5c_11ea_9f77_701ce71031efrow7_col3\" class=\"data row7 col3\" >11667</td>\n",
       "                        <td id=\"T_4bda5c36_2f5c_11ea_9f77_701ce71031efrow7_col4\" class=\"data row7 col4\" >22133</td>\n",
       "                        <td id=\"T_4bda5c36_2f5c_11ea_9f77_701ce71031efrow7_col5\" class=\"data row7 col5\" >46</td>\n",
       "                        <td id=\"T_4bda5c36_2f5c_11ea_9f77_701ce71031efrow7_col6\" class=\"data row7 col6\" >0.04%</td>\n",
       "            </tr>\n",
       "    </tbody></table>"
      ],
      "text/plain": [
       "<pandas.io.formats.style.Styler at 0x25610356b88>"
      ]
     },
     "execution_count": 47,
     "metadata": {},
     "output_type": "execute_result"
    }
   ],
   "source": [
    "data_company_type=get_sub_stats_by_col(data,'company_type')\n",
    "apply_style(data_company_type)"
   ]
  },
  {
   "cell_type": "markdown",
   "metadata": {},
   "source": [
    "us_eu是欧美外企，startup是创业公司，listed是上市公司，state是国企，private是私企，foreign是非欧美外企，其他不足1000个样本的不管了。"
   ]
  },
  {
   "cell_type": "markdown",
   "metadata": {},
   "source": [
    "## 公司规模 Company Size"
   ]
  },
  {
   "cell_type": "code",
   "execution_count": 48,
   "metadata": {},
   "outputs": [
    {
     "data": {
      "text/html": [
       "<style  type=\"text/css\" >\n",
       "</style><table id=\"T_4bead6ee_2f5c_11ea_b3fa_701ce71031ef\" ><thead>    <tr>        <th class=\"col_heading level0 col0\" >company_size</th>        <th class=\"col_heading level0 col1\" >salary_mean</th>        <th class=\"col_heading level0 col2\" >salary_95_min</th>        <th class=\"col_heading level0 col3\" >salary_median</th>        <th class=\"col_heading level0 col4\" >salary_95_max</th>        <th class=\"col_heading level0 col5\" >head_count</th>        <th class=\"col_heading level0 col6\" >percentage</th>    </tr></thead><tbody>\n",
       "                <tr>\n",
       "                                <td id=\"T_4bead6ee_2f5c_11ea_b3fa_701ce71031efrow0_col0\" class=\"data row0 col0\" >10000+</td>\n",
       "                        <td id=\"T_4bead6ee_2f5c_11ea_b3fa_701ce71031efrow0_col1\" class=\"data row0 col1\" >24086</td>\n",
       "                        <td id=\"T_4bead6ee_2f5c_11ea_b3fa_701ce71031efrow0_col2\" class=\"data row0 col2\" >7000</td>\n",
       "                        <td id=\"T_4bead6ee_2f5c_11ea_b3fa_701ce71031efrow0_col3\" class=\"data row0 col3\" >22500</td>\n",
       "                        <td id=\"T_4bead6ee_2f5c_11ea_b3fa_701ce71031efrow0_col4\" class=\"data row0 col4\" >45000</td>\n",
       "                        <td id=\"T_4bead6ee_2f5c_11ea_b3fa_701ce71031efrow0_col5\" class=\"data row0 col5\" >7704</td>\n",
       "                        <td id=\"T_4bead6ee_2f5c_11ea_b3fa_701ce71031efrow0_col6\" class=\"data row0 col6\" >6.38%</td>\n",
       "            </tr>\n",
       "            <tr>\n",
       "                                <td id=\"T_4bead6ee_2f5c_11ea_b3fa_701ce71031efrow1_col0\" class=\"data row1 col0\" ></td>\n",
       "                        <td id=\"T_4bead6ee_2f5c_11ea_b3fa_701ce71031efrow1_col1\" class=\"data row1 col1\" >21587</td>\n",
       "                        <td id=\"T_4bead6ee_2f5c_11ea_b3fa_701ce71031efrow1_col2\" class=\"data row1 col2\" >7000</td>\n",
       "                        <td id=\"T_4bead6ee_2f5c_11ea_b3fa_701ce71031efrow1_col3\" class=\"data row1 col3\" >17500</td>\n",
       "                        <td id=\"T_4bead6ee_2f5c_11ea_b3fa_701ce71031efrow1_col4\" class=\"data row1 col4\" >58333</td>\n",
       "                        <td id=\"T_4bead6ee_2f5c_11ea_b3fa_701ce71031efrow1_col5\" class=\"data row1 col5\" >944</td>\n",
       "                        <td id=\"T_4bead6ee_2f5c_11ea_b3fa_701ce71031efrow1_col6\" class=\"data row1 col6\" >0.78%</td>\n",
       "            </tr>\n",
       "            <tr>\n",
       "                                <td id=\"T_4bead6ee_2f5c_11ea_b3fa_701ce71031efrow2_col0\" class=\"data row2 col0\" >5000-10000</td>\n",
       "                        <td id=\"T_4bead6ee_2f5c_11ea_b3fa_701ce71031efrow2_col1\" class=\"data row2 col1\" >19490</td>\n",
       "                        <td id=\"T_4bead6ee_2f5c_11ea_b3fa_701ce71031efrow2_col2\" class=\"data row2 col2\" >7000</td>\n",
       "                        <td id=\"T_4bead6ee_2f5c_11ea_b3fa_701ce71031efrow2_col3\" class=\"data row2 col3\" >17500</td>\n",
       "                        <td id=\"T_4bead6ee_2f5c_11ea_b3fa_701ce71031efrow2_col4\" class=\"data row2 col4\" >45000</td>\n",
       "                        <td id=\"T_4bead6ee_2f5c_11ea_b3fa_701ce71031efrow2_col5\" class=\"data row2 col5\" >3291</td>\n",
       "                        <td id=\"T_4bead6ee_2f5c_11ea_b3fa_701ce71031efrow2_col6\" class=\"data row2 col6\" >2.72%</td>\n",
       "            </tr>\n",
       "            <tr>\n",
       "                                <td id=\"T_4bead6ee_2f5c_11ea_b3fa_701ce71031efrow3_col0\" class=\"data row3 col0\" >500-1000</td>\n",
       "                        <td id=\"T_4bead6ee_2f5c_11ea_b3fa_701ce71031efrow3_col1\" class=\"data row3 col1\" >16639</td>\n",
       "                        <td id=\"T_4bead6ee_2f5c_11ea_b3fa_701ce71031efrow3_col2\" class=\"data row3 col2\" >3750</td>\n",
       "                        <td id=\"T_4bead6ee_2f5c_11ea_b3fa_701ce71031efrow3_col3\" class=\"data row3 col3\" >15000</td>\n",
       "                        <td id=\"T_4bead6ee_2f5c_11ea_b3fa_701ce71031efrow3_col4\" class=\"data row3 col4\" >35000</td>\n",
       "                        <td id=\"T_4bead6ee_2f5c_11ea_b3fa_701ce71031efrow3_col5\" class=\"data row3 col5\" >11838</td>\n",
       "                        <td id=\"T_4bead6ee_2f5c_11ea_b3fa_701ce71031efrow3_col6\" class=\"data row3 col6\" >9.80%</td>\n",
       "            </tr>\n",
       "            <tr>\n",
       "                                <td id=\"T_4bead6ee_2f5c_11ea_b3fa_701ce71031efrow4_col0\" class=\"data row4 col0\" >1000-5000</td>\n",
       "                        <td id=\"T_4bead6ee_2f5c_11ea_b3fa_701ce71031efrow4_col1\" class=\"data row4 col1\" >16599</td>\n",
       "                        <td id=\"T_4bead6ee_2f5c_11ea_b3fa_701ce71031efrow4_col2\" class=\"data row4 col2\" >5500</td>\n",
       "                        <td id=\"T_4bead6ee_2f5c_11ea_b3fa_701ce71031efrow4_col3\" class=\"data row4 col3\" >15000</td>\n",
       "                        <td id=\"T_4bead6ee_2f5c_11ea_b3fa_701ce71031efrow4_col4\" class=\"data row4 col4\" >35000</td>\n",
       "                        <td id=\"T_4bead6ee_2f5c_11ea_b3fa_701ce71031efrow4_col5\" class=\"data row4 col5\" >15922</td>\n",
       "                        <td id=\"T_4bead6ee_2f5c_11ea_b3fa_701ce71031efrow4_col6\" class=\"data row4 col6\" >13.18%</td>\n",
       "            </tr>\n",
       "            <tr>\n",
       "                                <td id=\"T_4bead6ee_2f5c_11ea_b3fa_701ce71031efrow5_col0\" class=\"data row5 col0\" >150-500</td>\n",
       "                        <td id=\"T_4bead6ee_2f5c_11ea_b3fa_701ce71031efrow5_col1\" class=\"data row5 col1\" >15950</td>\n",
       "                        <td id=\"T_4bead6ee_2f5c_11ea_b3fa_701ce71031efrow5_col2\" class=\"data row5 col2\" >5250</td>\n",
       "                        <td id=\"T_4bead6ee_2f5c_11ea_b3fa_701ce71031efrow5_col3\" class=\"data row5 col3\" >14583</td>\n",
       "                        <td id=\"T_4bead6ee_2f5c_11ea_b3fa_701ce71031efrow5_col4\" class=\"data row5 col4\" >35000</td>\n",
       "                        <td id=\"T_4bead6ee_2f5c_11ea_b3fa_701ce71031efrow5_col5\" class=\"data row5 col5\" >27593</td>\n",
       "                        <td id=\"T_4bead6ee_2f5c_11ea_b3fa_701ce71031efrow5_col6\" class=\"data row5 col6\" >22.84%</td>\n",
       "            </tr>\n",
       "            <tr>\n",
       "                                <td id=\"T_4bead6ee_2f5c_11ea_b3fa_701ce71031efrow6_col0\" class=\"data row6 col0\" >50-150</td>\n",
       "                        <td id=\"T_4bead6ee_2f5c_11ea_b3fa_701ce71031efrow6_col1\" class=\"data row6 col1\" >15260</td>\n",
       "                        <td id=\"T_4bead6ee_2f5c_11ea_b3fa_701ce71031efrow6_col2\" class=\"data row6 col2\" >4500</td>\n",
       "                        <td id=\"T_4bead6ee_2f5c_11ea_b3fa_701ce71031efrow6_col3\" class=\"data row6 col3\" >14000</td>\n",
       "                        <td id=\"T_4bead6ee_2f5c_11ea_b3fa_701ce71031efrow6_col4\" class=\"data row6 col4\" >35000</td>\n",
       "                        <td id=\"T_4bead6ee_2f5c_11ea_b3fa_701ce71031efrow6_col5\" class=\"data row6 col5\" >36693</td>\n",
       "                        <td id=\"T_4bead6ee_2f5c_11ea_b3fa_701ce71031efrow6_col6\" class=\"data row6 col6\" >30.37%</td>\n",
       "            </tr>\n",
       "            <tr>\n",
       "                                <td id=\"T_4bead6ee_2f5c_11ea_b3fa_701ce71031efrow7_col0\" class=\"data row7 col0\" >50-</td>\n",
       "                        <td id=\"T_4bead6ee_2f5c_11ea_b3fa_701ce71031efrow7_col1\" class=\"data row7 col1\" >14030</td>\n",
       "                        <td id=\"T_4bead6ee_2f5c_11ea_b3fa_701ce71031efrow7_col2\" class=\"data row7 col2\" >4500</td>\n",
       "                        <td id=\"T_4bead6ee_2f5c_11ea_b3fa_701ce71031efrow7_col3\" class=\"data row7 col3\" >12500</td>\n",
       "                        <td id=\"T_4bead6ee_2f5c_11ea_b3fa_701ce71031efrow7_col4\" class=\"data row7 col4\" >32500</td>\n",
       "                        <td id=\"T_4bead6ee_2f5c_11ea_b3fa_701ce71031efrow7_col5\" class=\"data row7 col5\" >16842</td>\n",
       "                        <td id=\"T_4bead6ee_2f5c_11ea_b3fa_701ce71031efrow7_col6\" class=\"data row7 col6\" >13.94%</td>\n",
       "            </tr>\n",
       "    </tbody></table>"
      ],
      "text/plain": [
       "<pandas.io.formats.style.Styler at 0x2561035c348>"
      ]
     },
     "execution_count": 48,
     "metadata": {},
     "output_type": "execute_result"
    }
   ],
   "source": [
    "data_company_size=get_sub_stats_by_col(data,'company_size')\n",
    "apply_style(data_company_size)"
   ]
  },
  {
   "cell_type": "markdown",
   "metadata": {},
   "source": [
    "公司越大，工资越高"
   ]
  },
  {
   "cell_type": "markdown",
   "metadata": {},
   "source": [
    "## 行业 Industry"
   ]
  },
  {
   "cell_type": "code",
   "execution_count": 49,
   "metadata": {},
   "outputs": [
    {
     "data": {
      "text/html": [
       "<style  type=\"text/css\" >\n",
       "</style><table id=\"T_4c000b62_2f5c_11ea_927a_701ce71031ef\" ><thead>    <tr>        <th class=\"col_heading level0 col0\" >industry</th>        <th class=\"col_heading level0 col1\" >salary_mean</th>        <th class=\"col_heading level0 col2\" >salary_95_min</th>        <th class=\"col_heading level0 col3\" >salary_median</th>        <th class=\"col_heading level0 col4\" >salary_95_max</th>        <th class=\"col_heading level0 col5\" >head_count</th>        <th class=\"col_heading level0 col6\" >percentage</th>    </tr></thead><tbody>\n",
       "                <tr>\n",
       "                                <td id=\"T_4c000b62_2f5c_11ea_927a_701ce71031efrow0_col0\" class=\"data row0 col0\" >finance</td>\n",
       "                        <td id=\"T_4c000b62_2f5c_11ea_927a_701ce71031efrow0_col1\" class=\"data row0 col1\" >18916</td>\n",
       "                        <td id=\"T_4c000b62_2f5c_11ea_927a_701ce71031efrow0_col2\" class=\"data row0 col2\" >5500</td>\n",
       "                        <td id=\"T_4c000b62_2f5c_11ea_927a_701ce71031efrow0_col3\" class=\"data row0 col3\" >17500</td>\n",
       "                        <td id=\"T_4c000b62_2f5c_11ea_927a_701ce71031efrow0_col4\" class=\"data row0 col4\" >58333</td>\n",
       "                        <td id=\"T_4c000b62_2f5c_11ea_927a_701ce71031efrow0_col5\" class=\"data row0 col5\" >4050</td>\n",
       "                        <td id=\"T_4c000b62_2f5c_11ea_927a_701ce71031efrow0_col6\" class=\"data row0 col6\" >3.35%</td>\n",
       "            </tr>\n",
       "            <tr>\n",
       "                                <td id=\"T_4c000b62_2f5c_11ea_927a_701ce71031efrow1_col0\" class=\"data row1 col0\" >logistic</td>\n",
       "                        <td id=\"T_4c000b62_2f5c_11ea_927a_701ce71031efrow1_col1\" class=\"data row1 col1\" >18590</td>\n",
       "                        <td id=\"T_4c000b62_2f5c_11ea_927a_701ce71031efrow1_col2\" class=\"data row1 col2\" >6000</td>\n",
       "                        <td id=\"T_4c000b62_2f5c_11ea_927a_701ce71031efrow1_col3\" class=\"data row1 col3\" >15499</td>\n",
       "                        <td id=\"T_4c000b62_2f5c_11ea_927a_701ce71031efrow1_col4\" class=\"data row1 col4\" >43225</td>\n",
       "                        <td id=\"T_4c000b62_2f5c_11ea_927a_701ce71031efrow1_col5\" class=\"data row1 col5\" >1851</td>\n",
       "                        <td id=\"T_4c000b62_2f5c_11ea_927a_701ce71031efrow1_col6\" class=\"data row1 col6\" >1.53%</td>\n",
       "            </tr>\n",
       "            <tr>\n",
       "                                <td id=\"T_4c000b62_2f5c_11ea_927a_701ce71031efrow2_col0\" class=\"data row2 col0\" >edu</td>\n",
       "                        <td id=\"T_4c000b62_2f5c_11ea_927a_701ce71031efrow2_col1\" class=\"data row2 col1\" >16586</td>\n",
       "                        <td id=\"T_4c000b62_2f5c_11ea_927a_701ce71031efrow2_col2\" class=\"data row2 col2\" >5250</td>\n",
       "                        <td id=\"T_4c000b62_2f5c_11ea_927a_701ce71031efrow2_col3\" class=\"data row2 col3\" >15000</td>\n",
       "                        <td id=\"T_4c000b62_2f5c_11ea_927a_701ce71031efrow2_col4\" class=\"data row2 col4\" >41666</td>\n",
       "                        <td id=\"T_4c000b62_2f5c_11ea_927a_701ce71031efrow2_col5\" class=\"data row2 col5\" >7001</td>\n",
       "                        <td id=\"T_4c000b62_2f5c_11ea_927a_701ce71031efrow2_col6\" class=\"data row2 col6\" >5.79%</td>\n",
       "            </tr>\n",
       "            <tr>\n",
       "                                <td id=\"T_4c000b62_2f5c_11ea_927a_701ce71031efrow3_col0\" class=\"data row3 col0\" >computer</td>\n",
       "                        <td id=\"T_4c000b62_2f5c_11ea_927a_701ce71031efrow3_col1\" class=\"data row3 col1\" >16282</td>\n",
       "                        <td id=\"T_4c000b62_2f5c_11ea_927a_701ce71031efrow3_col2\" class=\"data row3 col2\" >5000</td>\n",
       "                        <td id=\"T_4c000b62_2f5c_11ea_927a_701ce71031efrow3_col3\" class=\"data row3 col3\" >14583</td>\n",
       "                        <td id=\"T_4c000b62_2f5c_11ea_927a_701ce71031efrow3_col4\" class=\"data row3 col4\" >37500</td>\n",
       "                        <td id=\"T_4c000b62_2f5c_11ea_927a_701ce71031efrow3_col5\" class=\"data row3 col5\" >92345</td>\n",
       "                        <td id=\"T_4c000b62_2f5c_11ea_927a_701ce71031efrow3_col6\" class=\"data row3 col6\" >76.43%</td>\n",
       "            </tr>\n",
       "            <tr>\n",
       "                                <td id=\"T_4c000b62_2f5c_11ea_927a_701ce71031efrow4_col0\" class=\"data row4 col0\" >trade</td>\n",
       "                        <td id=\"T_4c000b62_2f5c_11ea_927a_701ce71031efrow4_col1\" class=\"data row4 col1\" >15409</td>\n",
       "                        <td id=\"T_4c000b62_2f5c_11ea_927a_701ce71031efrow4_col2\" class=\"data row4 col2\" >5250</td>\n",
       "                        <td id=\"T_4c000b62_2f5c_11ea_927a_701ce71031efrow4_col3\" class=\"data row4 col3\" >14000</td>\n",
       "                        <td id=\"T_4c000b62_2f5c_11ea_927a_701ce71031efrow4_col4\" class=\"data row4 col4\" >33333</td>\n",
       "                        <td id=\"T_4c000b62_2f5c_11ea_927a_701ce71031efrow4_col5\" class=\"data row4 col5\" >6836</td>\n",
       "                        <td id=\"T_4c000b62_2f5c_11ea_927a_701ce71031efrow4_col6\" class=\"data row4 col6\" >5.66%</td>\n",
       "            </tr>\n",
       "            <tr>\n",
       "                                <td id=\"T_4c000b62_2f5c_11ea_927a_701ce71031efrow5_col0\" class=\"data row5 col0\" >service</td>\n",
       "                        <td id=\"T_4c000b62_2f5c_11ea_927a_701ce71031efrow5_col1\" class=\"data row5 col1\" >15408</td>\n",
       "                        <td id=\"T_4c000b62_2f5c_11ea_927a_701ce71031efrow5_col2\" class=\"data row5 col2\" >6500</td>\n",
       "                        <td id=\"T_4c000b62_2f5c_11ea_927a_701ce71031efrow5_col3\" class=\"data row5 col3\" >15000</td>\n",
       "                        <td id=\"T_4c000b62_2f5c_11ea_927a_701ce71031efrow5_col4\" class=\"data row5 col4\" >30000</td>\n",
       "                        <td id=\"T_4c000b62_2f5c_11ea_927a_701ce71031efrow5_col5\" class=\"data row5 col5\" >687</td>\n",
       "                        <td id=\"T_4c000b62_2f5c_11ea_927a_701ce71031efrow5_col6\" class=\"data row5 col6\" >0.57%</td>\n",
       "            </tr>\n",
       "            <tr>\n",
       "                                <td id=\"T_4c000b62_2f5c_11ea_927a_701ce71031efrow6_col0\" class=\"data row6 col0\" >gov</td>\n",
       "                        <td id=\"T_4c000b62_2f5c_11ea_927a_701ce71031efrow6_col1\" class=\"data row6 col1\" >15205</td>\n",
       "                        <td id=\"T_4c000b62_2f5c_11ea_927a_701ce71031efrow6_col2\" class=\"data row6 col2\" >3082</td>\n",
       "                        <td id=\"T_4c000b62_2f5c_11ea_927a_701ce71031efrow6_col3\" class=\"data row6 col3\" >13000</td>\n",
       "                        <td id=\"T_4c000b62_2f5c_11ea_927a_701ce71031efrow6_col4\" class=\"data row6 col4\" >34508</td>\n",
       "                        <td id=\"T_4c000b62_2f5c_11ea_927a_701ce71031efrow6_col5\" class=\"data row6 col5\" >1359</td>\n",
       "                        <td id=\"T_4c000b62_2f5c_11ea_927a_701ce71031efrow6_col6\" class=\"data row6 col6\" >1.12%</td>\n",
       "            </tr>\n",
       "            <tr>\n",
       "                                <td id=\"T_4c000b62_2f5c_11ea_927a_701ce71031efrow7_col0\" class=\"data row7 col0\" >ads</td>\n",
       "                        <td id=\"T_4c000b62_2f5c_11ea_927a_701ce71031efrow7_col1\" class=\"data row7 col1\" >15174</td>\n",
       "                        <td id=\"T_4c000b62_2f5c_11ea_927a_701ce71031efrow7_col2\" class=\"data row7 col2\" >5815</td>\n",
       "                        <td id=\"T_4c000b62_2f5c_11ea_927a_701ce71031efrow7_col3\" class=\"data row7 col3\" >12916</td>\n",
       "                        <td id=\"T_4c000b62_2f5c_11ea_927a_701ce71031efrow7_col4\" class=\"data row7 col4\" >35000</td>\n",
       "                        <td id=\"T_4c000b62_2f5c_11ea_927a_701ce71031efrow7_col5\" class=\"data row7 col5\" >1314</td>\n",
       "                        <td id=\"T_4c000b62_2f5c_11ea_927a_701ce71031efrow7_col6\" class=\"data row7 col6\" >1.09%</td>\n",
       "            </tr>\n",
       "            <tr>\n",
       "                                <td id=\"T_4c000b62_2f5c_11ea_927a_701ce71031efrow8_col0\" class=\"data row8 col0\" >energy</td>\n",
       "                        <td id=\"T_4c000b62_2f5c_11ea_927a_701ce71031efrow8_col1\" class=\"data row8 col1\" >15135</td>\n",
       "                        <td id=\"T_4c000b62_2f5c_11ea_927a_701ce71031efrow8_col2\" class=\"data row8 col2\" >5250</td>\n",
       "                        <td id=\"T_4c000b62_2f5c_11ea_927a_701ce71031efrow8_col3\" class=\"data row8 col3\" >15000</td>\n",
       "                        <td id=\"T_4c000b62_2f5c_11ea_927a_701ce71031efrow8_col4\" class=\"data row8 col4\" >30000</td>\n",
       "                        <td id=\"T_4c000b62_2f5c_11ea_927a_701ce71031efrow8_col5\" class=\"data row8 col5\" >1066</td>\n",
       "                        <td id=\"T_4c000b62_2f5c_11ea_927a_701ce71031efrow8_col6\" class=\"data row8 col6\" >0.88%</td>\n",
       "            </tr>\n",
       "            <tr>\n",
       "                                <td id=\"T_4c000b62_2f5c_11ea_927a_701ce71031efrow9_col0\" class=\"data row9 col0\" >medical</td>\n",
       "                        <td id=\"T_4c000b62_2f5c_11ea_927a_701ce71031efrow9_col1\" class=\"data row9 col1\" >14970</td>\n",
       "                        <td id=\"T_4c000b62_2f5c_11ea_927a_701ce71031efrow9_col2\" class=\"data row9 col2\" >4731</td>\n",
       "                        <td id=\"T_4c000b62_2f5c_11ea_927a_701ce71031efrow9_col3\" class=\"data row9 col3\" >14000</td>\n",
       "                        <td id=\"T_4c000b62_2f5c_11ea_927a_701ce71031efrow9_col4\" class=\"data row9 col4\" >30000</td>\n",
       "                        <td id=\"T_4c000b62_2f5c_11ea_927a_701ce71031efrow9_col5\" class=\"data row9 col5\" >2574</td>\n",
       "                        <td id=\"T_4c000b62_2f5c_11ea_927a_701ce71031efrow9_col6\" class=\"data row9 col6\" >2.13%</td>\n",
       "            </tr>\n",
       "            <tr>\n",
       "                                <td id=\"T_4c000b62_2f5c_11ea_927a_701ce71031efrow10_col0\" class=\"data row10 col0\" >realestate</td>\n",
       "                        <td id=\"T_4c000b62_2f5c_11ea_927a_701ce71031efrow10_col1\" class=\"data row10 col1\" >14775</td>\n",
       "                        <td id=\"T_4c000b62_2f5c_11ea_927a_701ce71031efrow10_col2\" class=\"data row10 col2\" >3750</td>\n",
       "                        <td id=\"T_4c000b62_2f5c_11ea_927a_701ce71031efrow10_col3\" class=\"data row10 col3\" >13000</td>\n",
       "                        <td id=\"T_4c000b62_2f5c_11ea_927a_701ce71031efrow10_col4\" class=\"data row10 col4\" >35000</td>\n",
       "                        <td id=\"T_4c000b62_2f5c_11ea_927a_701ce71031efrow10_col5\" class=\"data row10 col5\" >1744</td>\n",
       "                        <td id=\"T_4c000b62_2f5c_11ea_927a_701ce71031efrow10_col6\" class=\"data row10 col6\" >1.44%</td>\n",
       "            </tr>\n",
       "    </tbody></table>"
      ],
      "text/plain": [
       "<pandas.io.formats.style.Styler at 0x25610315f88>"
      ]
     },
     "execution_count": 49,
     "metadata": {},
     "output_type": "execute_result"
    }
   ],
   "source": [
    "data_industry=get_sub_stats_by_col(data,'industry')\n",
    "apply_style(data_industry)"
   ]
  },
  {
   "cell_type": "code",
   "execution_count": null,
   "metadata": {},
   "outputs": [],
   "source": []
  },
  {
   "cell_type": "code",
   "execution_count": null,
   "metadata": {},
   "outputs": [],
   "source": []
  }
 ],
 "metadata": {
  "kernelspec": {
   "display_name": "Python 3",
   "language": "python",
   "name": "python3"
  },
  "language_info": {
   "codemirror_mode": {
    "name": "ipython",
    "version": 3
   },
   "file_extension": ".py",
   "mimetype": "text/x-python",
   "name": "python",
   "nbconvert_exporter": "python",
   "pygments_lexer": "ipython3",
   "version": "3.7.4"
  }
 },
 "nbformat": 4,
 "nbformat_minor": 2
}
