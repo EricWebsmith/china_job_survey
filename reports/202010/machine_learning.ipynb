{
 "cells": [
  {
   "cell_type": "code",
   "execution_count": 1,
   "metadata": {},
   "outputs": [],
   "source": [
    "from config import *"
   ]
  },
  {
   "cell_type": "code",
   "execution_count": 2,
   "metadata": {},
   "outputs": [
    {
     "name": "stdout",
     "output_type": "stream",
     "text": [
      "2020年10月\n"
     ]
    }
   ],
   "source": [
    "print(f'{year}年{month}月')"
   ]
  },
  {
   "cell_type": "markdown",
   "metadata": {},
   "source": []
  },
  {
   "cell_type": "code",
   "execution_count": 3,
   "metadata": {},
   "outputs": [],
   "source": [
    "import pandas as pd\n",
    "import sys\n",
    "sys.path.append('..')\n",
    "sys.path.append('../py')\n",
    "sys.path.append('../../py')\n",
    "import db\n",
    "import inspect\n",
    "import matplotlib.pyplot as plt\n",
    "plt.rcParams['font.sans-serif']=['Microsoft YaHei'] #用来正常显示中文标签\n",
    "plt.rcParams['axes.unicode_minus']=False #用来正常显示负号\n",
    "import seaborn as sns\n",
    "import scipy.stats as stats\n",
    "import numpy as np\n",
    "import weighted\n",
    "%matplotlib inline"
   ]
  },
  {
   "cell_type": "code",
   "execution_count": 4,
   "metadata": {},
   "outputs": [],
   "source": [
    "conn=db.get_conn()\n",
    "data=pd.read_sql(sql=f\"select * from jobs where year_month={year}{month:02} and monthly_salary>0 and career='机器学习' and monthly_salary<100000\", con=conn)\n",
    "conn.close()"
   ]
  },
  {
   "cell_type": "code",
   "execution_count": null,
   "metadata": {},
   "outputs": [],
   "source": []
  },
  {
   "cell_type": "code",
   "execution_count": 5,
   "metadata": {},
   "outputs": [],
   "source": [
    "#del data['publish_date']\n",
    "#del data['published_on_weekend']\n",
    "#del data['title']\n",
    "#del data['title']\n",
    "#del data['company_title']\n",
    "#del data['company_description']\n",
    "#del data['job_description']\n",
    "#del data['job_id']"
   ]
  },
  {
   "cell_type": "code",
   "execution_count": 6,
   "metadata": {},
   "outputs": [
    {
     "data": {
      "text/html": [
       "<div>\n",
       "<style scoped>\n",
       "    .dataframe tbody tr th:only-of-type {\n",
       "        vertical-align: middle;\n",
       "    }\n",
       "\n",
       "    .dataframe tbody tr th {\n",
       "        vertical-align: top;\n",
       "    }\n",
       "\n",
       "    .dataframe thead th {\n",
       "        text-align: right;\n",
       "    }\n",
       "</style>\n",
       "<table border=\"1\" class=\"dataframe\">\n",
       "  <thead>\n",
       "    <tr style=\"text-align: right;\">\n",
       "      <th></th>\n",
       "      <th>job_id</th>\n",
       "      <th>year_month</th>\n",
       "      <th>monthly_salary</th>\n",
       "      <th>headcount</th>\n",
       "      <th>title</th>\n",
       "      <th>page_title</th>\n",
       "      <th>zhinengleibie</th>\n",
       "      <th>career</th>\n",
       "      <th>city</th>\n",
       "      <th>province</th>\n",
       "      <th>...</th>\n",
       "      <th>bd_hbase</th>\n",
       "      <th>bd_storm</th>\n",
       "      <th>bd_pig</th>\n",
       "      <th>bd_mahout</th>\n",
       "      <th>bd_impala</th>\n",
       "      <th>bd_yarn</th>\n",
       "      <th>bd_alluxio</th>\n",
       "      <th>bd_flink</th>\n",
       "      <th>bd_presto</th>\n",
       "      <th>bd_heron</th>\n",
       "    </tr>\n",
       "  </thead>\n",
       "  <tbody>\n",
       "    <tr>\n",
       "      <th>166</th>\n",
       "      <td>122057593</td>\n",
       "      <td>202010</td>\n",
       "      <td>5250</td>\n",
       "      <td>12</td>\n",
       "      <td>机器学习工程师助理</td>\n",
       "      <td>【郑州机器学习工程师助理_机器学习工程师助理招聘_河南艾茵斯物联网科技有限公司】-前程无忧官...</td>\n",
       "      <td>机器学习工程师</td>\n",
       "      <td>机器学习</td>\n",
       "      <td>郑州</td>\n",
       "      <td>河南</td>\n",
       "      <td>...</td>\n",
       "      <td>False</td>\n",
       "      <td>False</td>\n",
       "      <td>False</td>\n",
       "      <td>False</td>\n",
       "      <td>False</td>\n",
       "      <td>False</td>\n",
       "      <td>False</td>\n",
       "      <td>False</td>\n",
       "      <td>False</td>\n",
       "      <td>False</td>\n",
       "    </tr>\n",
       "  </tbody>\n",
       "</table>\n",
       "<p>1 rows × 118 columns</p>\n",
       "</div>"
      ],
      "text/plain": [
       "        job_id  year_month  monthly_salary  headcount      title  \\\n",
       "166  122057593      202010            5250         12  机器学习工程师助理   \n",
       "\n",
       "                                            page_title zhinengleibie career  \\\n",
       "166  【郑州机器学习工程师助理_机器学习工程师助理招聘_河南艾茵斯物联网科技有限公司】-前程无忧官...       机器学习工程师   机器学习   \n",
       "\n",
       "    city province  ... bd_hbase  bd_storm  bd_pig  bd_mahout  bd_impala  \\\n",
       "166   郑州       河南  ...    False     False   False      False      False   \n",
       "\n",
       "     bd_yarn  bd_alluxio  bd_flink  bd_presto  bd_heron  \n",
       "166    False       False     False      False     False  \n",
       "\n",
       "[1 rows x 118 columns]"
      ]
     },
     "execution_count": 6,
     "metadata": {},
     "output_type": "execute_result"
    }
   ],
   "source": [
    "data=data.sort_values(by='headcount', ascending=False)\n",
    "data.head(1)"
   ]
  },
  {
   "cell_type": "code",
   "execution_count": 7,
   "metadata": {},
   "outputs": [],
   "source": [
    "def pd_weighted_mean(group, avg_name, weight_name):\n",
    "    \"\"\" http://stackoverflow.com/questions/10951341/pandas-dataframe-aggregate-function-using-multiple-columns\n",
    "    In rare instance, we may not have weights, so just return the mean. Customize this if your business case\n",
    "    should return otherwise.\n",
    "    \"\"\"\n",
    "    d = group[avg_name]\n",
    "    w = group[weight_name]\n",
    "    try:\n",
    "        return (d * w).sum() / w.sum()\n",
    "    except ZeroDivisionError:\n",
    "        return d.mean()\n"
   ]
  },
  {
   "cell_type": "markdown",
   "metadata": {},
   "source": [
    "# Unilateral Stats 总体统计"
   ]
  },
  {
   "cell_type": "markdown",
   "metadata": {},
   "source": [
    "有数据可知，程序员向一线城市集中的趋势非常明显。\n",
    "\n",
    "According to the statistics, significant amount of developers are in the first tier cities."
   ]
  },
  {
   "cell_type": "code",
   "execution_count": 8,
   "metadata": {},
   "outputs": [
    {
     "data": {
      "text/plain": [
       "(419, 118)"
      ]
     },
     "execution_count": 8,
     "metadata": {},
     "output_type": "execute_result"
    }
   ],
   "source": [
    "data.shape"
   ]
  },
  {
   "cell_type": "code",
   "execution_count": 9,
   "metadata": {},
   "outputs": [
    {
     "data": {
      "text/plain": [
       "1218"
      ]
     },
     "execution_count": 9,
     "metadata": {},
     "output_type": "execute_result"
    }
   ],
   "source": [
    "data.headcount.sum()"
   ]
  },
  {
   "cell_type": "code",
   "execution_count": 10,
   "metadata": {},
   "outputs": [
    {
     "data": {
      "text/plain": [
       "array([ 5250., 10416., 16000., 27500., 53240.])"
      ]
     },
     "execution_count": 10,
     "metadata": {},
     "output_type": "execute_result"
    }
   ],
   "source": [
    "salary_mean=weighted.weighted_mean(data.monthly_salary.values, data.headcount.values)\n",
    "q=weighted.weighted_quantile(data.monthly_salary.values,[0.025,0.25,0.5,0.75,0.975], data.headcount.values)\n",
    "q"
   ]
  },
  {
   "cell_type": "code",
   "execution_count": 11,
   "metadata": {},
   "outputs": [
    {
     "name": "stdout",
     "output_type": "stream",
     "text": [
      "2020年10月中国机器学习工程师的平均工资为20071元，工资中位数为16000元，其中95%的人的工资位于5250到53240元之间。\n"
     ]
    }
   ],
   "source": [
    "print(f'{year}年{month}月中国机器学习工程师的平均工资为{salary_mean:.0f}元，工资中位数为{q[2]:.0f}元，其中95%的人的工资位于{q[0]:.0f}到{q[4]:.0f}元之间。')"
   ]
  },
  {
   "cell_type": "code",
   "execution_count": 12,
   "metadata": {},
   "outputs": [
    {
     "name": "stdout",
     "output_type": "stream",
     "text": [
      "In 2020, Developers in China earn 20071 Yuan as average, the median is 16000 Yuan, 95% of them earn between 5250 and 53240 Yuan.\n"
     ]
    }
   ],
   "source": [
    "print(f'In {year}, Developers in China earn {salary_mean:.0f} Yuan as average, '\n",
    "      f'the median is {q[2]:.0f} Yuan, 95% of them earn between {q[0]:.0f} and {q[4]:.0f} Yuan.')"
   ]
  },
  {
   "cell_type": "code",
   "execution_count": 13,
   "metadata": {},
   "outputs": [
    {
     "data": {
      "image/png": "[encoded data removed]",
      "text/plain": [
       "<Figure size 432x288 with 1 Axes>"
      ]
     },
     "metadata": {
      "needs_background": "light"
     },
     "output_type": "display_data"
    }
   ],
   "source": [
    "data.monthly_salary.hist()\n",
    "plt.show()"
   ]
  },
  {
   "cell_type": "markdown",
   "metadata": {},
   "source": [
    "It does not look like normal distribution."
   ]
  },
  {
   "cell_type": "code",
   "execution_count": 14,
   "metadata": {},
   "outputs": [],
   "source": [
    "from scipy import stats"
   ]
  },
  {
   "cell_type": "markdown",
   "metadata": {},
   "source": [
    "## Role 角色"
   ]
  },
  {
   "cell_type": "code",
   "execution_count": 15,
   "metadata": {},
   "outputs": [],
   "source": [
    "#Common Functions\n",
    "def get_sub_stats_by_col(data, col):\n",
    "    categories=data[col].unique()\n",
    "    salary_mean=[]\n",
    "    salary_95_min=[]\n",
    "    salary_95_max=[]\n",
    "    salary_median=[]\n",
    "    \n",
    "\n",
    "    count=[]\n",
    "    \n",
    "    categorys_out=[]\n",
    "    for category in categories:\n",
    "        #print(feature)\n",
    "        idata=data[data[col]==category]\n",
    "        headcount=idata.headcount.sum()\n",
    "        values = idata.monthly_salary.values\n",
    "        weights = idata.headcount.values\n",
    "        #print(str(headcount))\n",
    "        if headcount==0:\n",
    "            continue\n",
    "        \n",
    "        salary_mean.append(np.average(values, weights=weights))\n",
    "        \n",
    "\n",
    "        q = weighted.weighted_quantile(values,[0.025,0.5,0.975],weights)\n",
    "        salary_95_min.append(q[0])\n",
    "        salary_median.append(q[1])\n",
    "        salary_95_max.append(q[2])\n",
    "        count.append(idata.headcount.sum())\n",
    "        categorys_out.append(category)\n",
    "    sub_data=pd.DataFrame()\n",
    "    sub_data[col]=[c for c in categorys_out]\n",
    "    sub_data['salary_mean']=salary_mean\n",
    "    sub_data['salary_95_min']=salary_95_min\n",
    "    sub_data['salary_median']=salary_median\n",
    "    sub_data['salary_95_max']=salary_95_max\n",
    "    sub_data['head_count']=count\n",
    "    sub_data['percentage']=count/np.sum(count)\n",
    "    sub_data=sub_data.sort_values(by='salary_mean', ascending=False)\n",
    "\n",
    "    return sub_data\n",
    "\n",
    "def get_sub_stats_by_prefix(data, prefix):\n",
    "    \n",
    "    features = [feature for feature in data.columns if feature.startswith(prefix)]\n",
    "    salary_mean=[]\n",
    "    salary_median=[]\n",
    "    salary_95_min=[]\n",
    "    salary_95_max=[]\n",
    "    count=[]\n",
    "    \n",
    "    features_out=[]\n",
    "    for feature in features:\n",
    "        #print(feature)\n",
    "        idata=data[data[feature]==1]\n",
    "        headcount=idata.headcount.sum()\n",
    "        values = idata.monthly_salary.values\n",
    "        weights = idata.headcount.values\n",
    "        #print(str(headcount))\n",
    "        if headcount==0:\n",
    "            continue\n",
    "        \n",
    "        salary_mean.append(weighted.weighted_mean(values, weights))\n",
    "        q = weighted.weighted_quantile(values,[0.025,0.5,0.975],weights)\n",
    "        salary_median.append(q[1])\n",
    "        salary_95_min.append(q[0])\n",
    "        salary_95_max.append(q[2])\n",
    "        count.append(idata.headcount.sum())\n",
    "        features_out.append(feature)\n",
    "    sub_data=pd.DataFrame()\n",
    "    sub_data['rank']=range(0,len(features_out))\n",
    "    sub_data[prefix]=[f.replace(prefix,'') for f in features_out]\n",
    "    sub_data['salary_mean']=salary_mean\n",
    "    sub_data['salary_median']=salary_median\n",
    "    sub_data['salary_95_min']=salary_95_min\n",
    "    sub_data['salary_95_max']=salary_95_max\n",
    "    sub_data['head_count']=count\n",
    "    sub_data['percentage']=count/np.sum(count)\n",
    "    sub_data=sub_data.sort_values(by='salary_mean', ascending=False)\n",
    "    sub_data['rank']=range(1,len(features_out)+1)\n",
    "    #sub_data=sub_data.reset_index()\n",
    "    return sub_data\n",
    "\n",
    "def apply_style(sub_data):\n",
    "    return sub_data.style.hide_index().format(\n",
    "    {\"salary_mean\":\"{:.0f}\",\"salary_median\":\"{:.0f}\",\"salary_95_min\":\"{:.0f}\",\"salary_95_max\":\"{:.0f}\",\"percentage\":\"{:.2%}\"})"
   ]
  },
  {
   "cell_type": "code",
   "execution_count": 16,
   "metadata": {},
   "outputs": [
    {
     "data": {
      "text/html": [
       "<style  type=\"text/css\" >\n",
       "</style><table id=\"T_b35ad16a_04b8_11eb_81a7_701ce71031ef\" ><thead>    <tr>        <th class=\"blank level0\" ></th>        <th class=\"col_heading level0 col0\" >career</th>        <th class=\"col_heading level0 col1\" >salary_mean</th>        <th class=\"col_heading level0 col2\" >salary_95_min</th>        <th class=\"col_heading level0 col3\" >salary_median</th>        <th class=\"col_heading level0 col4\" >salary_95_max</th>        <th class=\"col_heading level0 col5\" >head_count</th>        <th class=\"col_heading level0 col6\" >percentage</th>    </tr></thead><tbody>\n",
       "                <tr>\n",
       "                        <th id=\"T_b35ad16a_04b8_11eb_81a7_701ce71031eflevel0_row0\" class=\"row_heading level0 row0\" >0</th>\n",
       "                        <td id=\"T_b35ad16a_04b8_11eb_81a7_701ce71031efrow0_col0\" class=\"data row0 col0\" >机器学习</td>\n",
       "                        <td id=\"T_b35ad16a_04b8_11eb_81a7_701ce71031efrow0_col1\" class=\"data row0 col1\" >20071</td>\n",
       "                        <td id=\"T_b35ad16a_04b8_11eb_81a7_701ce71031efrow0_col2\" class=\"data row0 col2\" >5250.000000</td>\n",
       "                        <td id=\"T_b35ad16a_04b8_11eb_81a7_701ce71031efrow0_col3\" class=\"data row0 col3\" >16000</td>\n",
       "                        <td id=\"T_b35ad16a_04b8_11eb_81a7_701ce71031efrow0_col4\" class=\"data row0 col4\" >53240.000000</td>\n",
       "                        <td id=\"T_b35ad16a_04b8_11eb_81a7_701ce71031efrow0_col5\" class=\"data row0 col5\" >1218</td>\n",
       "                        <td id=\"T_b35ad16a_04b8_11eb_81a7_701ce71031efrow0_col6\" class=\"data row0 col6\" >100.00%</td>\n",
       "            </tr>\n",
       "    </tbody></table>"
      ],
      "text/plain": [
       "<pandas.io.formats.style.Styler at 0x22e8bcd3790>"
      ]
     },
     "execution_count": 16,
     "metadata": {},
     "output_type": "execute_result"
    }
   ],
   "source": [
    "data_career = get_sub_stats_by_col(data,'career')\n",
    "data_career.style.format({\"salary_mean\":\"{:.0f}\",\"salary_median\":\"{:.0f}\",\"percentage\":\"{:.2%}\"})"
   ]
  },
  {
   "cell_type": "code",
   "execution_count": 17,
   "metadata": {},
   "outputs": [
    {
     "data": {
      "text/plain": [
       "20071.090311986864"
      ]
     },
     "execution_count": 17,
     "metadata": {},
     "output_type": "execute_result"
    }
   ],
   "source": [
    "np.sum(data.monthly_salary * data.headcount) / data.headcount.sum()"
   ]
  },
  {
   "cell_type": "code",
   "execution_count": 18,
   "metadata": {},
   "outputs": [
    {
     "data": {
      "text/plain": [
       "1218"
      ]
     },
     "execution_count": 18,
     "metadata": {},
     "output_type": "execute_result"
    }
   ],
   "source": [
    "data.headcount.sum()"
   ]
  },
  {
   "cell_type": "code",
   "execution_count": 19,
   "metadata": {},
   "outputs": [
    {
     "data": {
      "text/plain": [
       "count    419.000000\n",
       "mean       2.906921\n",
       "std        2.107954\n",
       "min        1.000000\n",
       "25%        1.000000\n",
       "50%        2.000000\n",
       "75%        5.000000\n",
       "max       12.000000\n",
       "Name: headcount, dtype: float64"
      ]
     },
     "execution_count": 19,
     "metadata": {},
     "output_type": "execute_result"
    }
   ],
   "source": [
    "data.headcount.describe()"
   ]
  },
  {
   "cell_type": "code",
   "execution_count": 20,
   "metadata": {},
   "outputs": [],
   "source": [
    "pd.options.display.max_columns=100\n"
   ]
  },
  {
   "cell_type": "markdown",
   "metadata": {},
   "source": []
  },
  {
   "cell_type": "code",
   "execution_count": 21,
   "metadata": {},
   "outputs": [
    {
     "data": {
      "text/plain": [
       "1218"
      ]
     },
     "execution_count": 21,
     "metadata": {},
     "output_type": "execute_result"
    }
   ],
   "source": [
    "data.headcount.sum()"
   ]
  },
  {
   "cell_type": "markdown",
   "metadata": {},
   "source": [
    "# 城市"
   ]
  },
  {
   "cell_type": "code",
   "execution_count": 48,
   "metadata": {},
   "outputs": [
    {
     "data": {
      "text/html": [
       "<style  type=\"text/css\" >\n",
       "</style><table id=\"T_ef3cd734_04b8_11eb_b139_701ce71031ef\" ><thead>    <tr>        <th class=\"col_heading level0 col0\" >city</th>        <th class=\"col_heading level0 col1\" >salary_mean</th>        <th class=\"col_heading level0 col2\" >salary_95_min</th>        <th class=\"col_heading level0 col3\" >salary_median</th>        <th class=\"col_heading level0 col4\" >salary_95_max</th>        <th class=\"col_heading level0 col5\" >head_count</th>        <th class=\"col_heading level0 col6\" >percentage</th>    </tr></thead><tbody>\n",
       "                <tr>\n",
       "                                <td id=\"T_ef3cd734_04b8_11eb_b139_701ce71031efrow0_col0\" class=\"data row0 col0\" >北京</td>\n",
       "                        <td id=\"T_ef3cd734_04b8_11eb_b139_701ce71031efrow0_col1\" class=\"data row0 col1\" >29433</td>\n",
       "                        <td id=\"T_ef3cd734_04b8_11eb_b139_701ce71031efrow0_col2\" class=\"data row0 col2\" >8517</td>\n",
       "                        <td id=\"T_ef3cd734_04b8_11eb_b139_701ce71031efrow0_col3\" class=\"data row0 col3\" >30000</td>\n",
       "                        <td id=\"T_ef3cd734_04b8_11eb_b139_701ce71031efrow0_col4\" class=\"data row0 col4\" >59908</td>\n",
       "                        <td id=\"T_ef3cd734_04b8_11eb_b139_701ce71031efrow0_col5\" class=\"data row0 col5\" >191</td>\n",
       "                        <td id=\"T_ef3cd734_04b8_11eb_b139_701ce71031efrow0_col6\" class=\"data row0 col6\" >15.68%</td>\n",
       "            </tr>\n",
       "            <tr>\n",
       "                                <td id=\"T_ef3cd734_04b8_11eb_b139_701ce71031efrow1_col0\" class=\"data row1 col0\" >上海</td>\n",
       "                        <td id=\"T_ef3cd734_04b8_11eb_b139_701ce71031efrow1_col1\" class=\"data row1 col1\" >26734</td>\n",
       "                        <td id=\"T_ef3cd734_04b8_11eb_b139_701ce71031efrow1_col2\" class=\"data row1 col2\" >7000</td>\n",
       "                        <td id=\"T_ef3cd734_04b8_11eb_b139_701ce71031efrow1_col3\" class=\"data row1 col3\" >24167</td>\n",
       "                        <td id=\"T_ef3cd734_04b8_11eb_b139_701ce71031efrow1_col4\" class=\"data row1 col4\" >65312</td>\n",
       "                        <td id=\"T_ef3cd734_04b8_11eb_b139_701ce71031efrow1_col5\" class=\"data row1 col5\" >193</td>\n",
       "                        <td id=\"T_ef3cd734_04b8_11eb_b139_701ce71031efrow1_col6\" class=\"data row1 col6\" >15.85%</td>\n",
       "            </tr>\n",
       "            <tr>\n",
       "                                <td id=\"T_ef3cd734_04b8_11eb_b139_701ce71031efrow2_col0\" class=\"data row2 col0\" >深圳</td>\n",
       "                        <td id=\"T_ef3cd734_04b8_11eb_b139_701ce71031efrow2_col1\" class=\"data row2 col1\" >24821</td>\n",
       "                        <td id=\"T_ef3cd734_04b8_11eb_b139_701ce71031efrow2_col2\" class=\"data row2 col2\" >6883</td>\n",
       "                        <td id=\"T_ef3cd734_04b8_11eb_b139_701ce71031efrow2_col3\" class=\"data row2 col3\" >20600</td>\n",
       "                        <td id=\"T_ef3cd734_04b8_11eb_b139_701ce71031efrow2_col4\" class=\"data row2 col4\" >56430</td>\n",
       "                        <td id=\"T_ef3cd734_04b8_11eb_b139_701ce71031efrow2_col5\" class=\"data row2 col5\" >219</td>\n",
       "                        <td id=\"T_ef3cd734_04b8_11eb_b139_701ce71031efrow2_col6\" class=\"data row2 col6\" >17.98%</td>\n",
       "            </tr>\n",
       "            <tr>\n",
       "                                <td id=\"T_ef3cd734_04b8_11eb_b139_701ce71031efrow3_col0\" class=\"data row3 col0\" >成都</td>\n",
       "                        <td id=\"T_ef3cd734_04b8_11eb_b139_701ce71031efrow3_col1\" class=\"data row3 col1\" >18250</td>\n",
       "                        <td id=\"T_ef3cd734_04b8_11eb_b139_701ce71031efrow3_col2\" class=\"data row3 col2\" >3750</td>\n",
       "                        <td id=\"T_ef3cd734_04b8_11eb_b139_701ce71031efrow3_col3\" class=\"data row3 col3\" >19375</td>\n",
       "                        <td id=\"T_ef3cd734_04b8_11eb_b139_701ce71031efrow3_col4\" class=\"data row3 col4\" >29166</td>\n",
       "                        <td id=\"T_ef3cd734_04b8_11eb_b139_701ce71031efrow3_col5\" class=\"data row3 col5\" >43</td>\n",
       "                        <td id=\"T_ef3cd734_04b8_11eb_b139_701ce71031efrow3_col6\" class=\"data row3 col6\" >3.53%</td>\n",
       "            </tr>\n",
       "            <tr>\n",
       "                                <td id=\"T_ef3cd734_04b8_11eb_b139_701ce71031efrow4_col0\" class=\"data row4 col0\" >南京</td>\n",
       "                        <td id=\"T_ef3cd734_04b8_11eb_b139_701ce71031efrow4_col1\" class=\"data row4 col1\" >17931</td>\n",
       "                        <td id=\"T_ef3cd734_04b8_11eb_b139_701ce71031efrow4_col2\" class=\"data row4 col2\" >9542</td>\n",
       "                        <td id=\"T_ef3cd734_04b8_11eb_b139_701ce71031efrow4_col3\" class=\"data row4 col3\" >17636</td>\n",
       "                        <td id=\"T_ef3cd734_04b8_11eb_b139_701ce71031efrow4_col4\" class=\"data row4 col4\" >45750</td>\n",
       "                        <td id=\"T_ef3cd734_04b8_11eb_b139_701ce71031efrow4_col5\" class=\"data row4 col5\" >46</td>\n",
       "                        <td id=\"T_ef3cd734_04b8_11eb_b139_701ce71031efrow4_col6\" class=\"data row4 col6\" >3.78%</td>\n",
       "            </tr>\n",
       "            <tr>\n",
       "                                <td id=\"T_ef3cd734_04b8_11eb_b139_701ce71031efrow5_col0\" class=\"data row5 col0\" >杭州</td>\n",
       "                        <td id=\"T_ef3cd734_04b8_11eb_b139_701ce71031efrow5_col1\" class=\"data row5 col1\" >16292</td>\n",
       "                        <td id=\"T_ef3cd734_04b8_11eb_b139_701ce71031efrow5_col2\" class=\"data row5 col2\" >6200</td>\n",
       "                        <td id=\"T_ef3cd734_04b8_11eb_b139_701ce71031efrow5_col3\" class=\"data row5 col3\" >15000</td>\n",
       "                        <td id=\"T_ef3cd734_04b8_11eb_b139_701ce71031efrow5_col4\" class=\"data row5 col4\" >26500</td>\n",
       "                        <td id=\"T_ef3cd734_04b8_11eb_b139_701ce71031efrow5_col5\" class=\"data row5 col5\" >36</td>\n",
       "                        <td id=\"T_ef3cd734_04b8_11eb_b139_701ce71031efrow5_col6\" class=\"data row5 col6\" >2.96%</td>\n",
       "            </tr>\n",
       "            <tr>\n",
       "                                <td id=\"T_ef3cd734_04b8_11eb_b139_701ce71031efrow6_col0\" class=\"data row6 col0\" >广州</td>\n",
       "                        <td id=\"T_ef3cd734_04b8_11eb_b139_701ce71031efrow6_col1\" class=\"data row6 col1\" >15901</td>\n",
       "                        <td id=\"T_ef3cd734_04b8_11eb_b139_701ce71031efrow6_col2\" class=\"data row6 col2\" >5727</td>\n",
       "                        <td id=\"T_ef3cd734_04b8_11eb_b139_701ce71031efrow6_col3\" class=\"data row6 col3\" >12500</td>\n",
       "                        <td id=\"T_ef3cd734_04b8_11eb_b139_701ce71031efrow6_col4\" class=\"data row6 col4\" >35000</td>\n",
       "                        <td id=\"T_ef3cd734_04b8_11eb_b139_701ce71031efrow6_col5\" class=\"data row6 col5\" >93</td>\n",
       "                        <td id=\"T_ef3cd734_04b8_11eb_b139_701ce71031efrow6_col6\" class=\"data row6 col6\" >7.64%</td>\n",
       "            </tr>\n",
       "            <tr>\n",
       "                                <td id=\"T_ef3cd734_04b8_11eb_b139_701ce71031efrow7_col0\" class=\"data row7 col0\" >武汉</td>\n",
       "                        <td id=\"T_ef3cd734_04b8_11eb_b139_701ce71031efrow7_col1\" class=\"data row7 col1\" >15513</td>\n",
       "                        <td id=\"T_ef3cd734_04b8_11eb_b139_701ce71031efrow7_col2\" class=\"data row7 col2\" >5558</td>\n",
       "                        <td id=\"T_ef3cd734_04b8_11eb_b139_701ce71031efrow7_col3\" class=\"data row7 col3\" >16833</td>\n",
       "                        <td id=\"T_ef3cd734_04b8_11eb_b139_701ce71031efrow7_col4\" class=\"data row7 col4\" >25000</td>\n",
       "                        <td id=\"T_ef3cd734_04b8_11eb_b139_701ce71031efrow7_col5\" class=\"data row7 col5\" >51</td>\n",
       "                        <td id=\"T_ef3cd734_04b8_11eb_b139_701ce71031efrow7_col6\" class=\"data row7 col6\" >4.19%</td>\n",
       "            </tr>\n",
       "            <tr>\n",
       "                                <td id=\"T_ef3cd734_04b8_11eb_b139_701ce71031efrow8_col0\" class=\"data row8 col0\" >苏州</td>\n",
       "                        <td id=\"T_ef3cd734_04b8_11eb_b139_701ce71031efrow8_col1\" class=\"data row8 col1\" >14462</td>\n",
       "                        <td id=\"T_ef3cd734_04b8_11eb_b139_701ce71031efrow8_col2\" class=\"data row8 col2\" >5250</td>\n",
       "                        <td id=\"T_ef3cd734_04b8_11eb_b139_701ce71031efrow8_col3\" class=\"data row8 col3\" >12500</td>\n",
       "                        <td id=\"T_ef3cd734_04b8_11eb_b139_701ce71031efrow8_col4\" class=\"data row8 col4\" >42375</td>\n",
       "                        <td id=\"T_ef3cd734_04b8_11eb_b139_701ce71031efrow8_col5\" class=\"data row8 col5\" >26</td>\n",
       "                        <td id=\"T_ef3cd734_04b8_11eb_b139_701ce71031efrow8_col6\" class=\"data row8 col6\" >2.13%</td>\n",
       "            </tr>\n",
       "            <tr>\n",
       "                                <td id=\"T_ef3cd734_04b8_11eb_b139_701ce71031efrow9_col0\" class=\"data row9 col0\" >西安</td>\n",
       "                        <td id=\"T_ef3cd734_04b8_11eb_b139_701ce71031efrow9_col1\" class=\"data row9 col1\" >13741</td>\n",
       "                        <td id=\"T_ef3cd734_04b8_11eb_b139_701ce71031efrow9_col2\" class=\"data row9 col2\" >6500</td>\n",
       "                        <td id=\"T_ef3cd734_04b8_11eb_b139_701ce71031efrow9_col3\" class=\"data row9 col3\" >13900</td>\n",
       "                        <td id=\"T_ef3cd734_04b8_11eb_b139_701ce71031efrow9_col4\" class=\"data row9 col4\" >22500</td>\n",
       "                        <td id=\"T_ef3cd734_04b8_11eb_b139_701ce71031efrow9_col5\" class=\"data row9 col5\" >45</td>\n",
       "                        <td id=\"T_ef3cd734_04b8_11eb_b139_701ce71031efrow9_col6\" class=\"data row9 col6\" >3.69%</td>\n",
       "            </tr>\n",
       "            <tr>\n",
       "                                <td id=\"T_ef3cd734_04b8_11eb_b139_701ce71031efrow10_col0\" class=\"data row10 col0\" >长沙</td>\n",
       "                        <td id=\"T_ef3cd734_04b8_11eb_b139_701ce71031efrow10_col1\" class=\"data row10 col1\" >13482</td>\n",
       "                        <td id=\"T_ef3cd734_04b8_11eb_b139_701ce71031efrow10_col2\" class=\"data row10 col2\" >7500</td>\n",
       "                        <td id=\"T_ef3cd734_04b8_11eb_b139_701ce71031efrow10_col3\" class=\"data row10 col3\" >12500</td>\n",
       "                        <td id=\"T_ef3cd734_04b8_11eb_b139_701ce71031efrow10_col4\" class=\"data row10 col4\" >29375</td>\n",
       "                        <td id=\"T_ef3cd734_04b8_11eb_b139_701ce71031efrow10_col5\" class=\"data row10 col5\" >23</td>\n",
       "                        <td id=\"T_ef3cd734_04b8_11eb_b139_701ce71031efrow10_col6\" class=\"data row10 col6\" >1.89%</td>\n",
       "            </tr>\n",
       "            <tr>\n",
       "                                <td id=\"T_ef3cd734_04b8_11eb_b139_701ce71031efrow11_col0\" class=\"data row11 col0\" >哈尔滨</td>\n",
       "                        <td id=\"T_ef3cd734_04b8_11eb_b139_701ce71031efrow11_col1\" class=\"data row11 col1\" >5250</td>\n",
       "                        <td id=\"T_ef3cd734_04b8_11eb_b139_701ce71031efrow11_col2\" class=\"data row11 col2\" >5250</td>\n",
       "                        <td id=\"T_ef3cd734_04b8_11eb_b139_701ce71031efrow11_col3\" class=\"data row11 col3\" >5250</td>\n",
       "                        <td id=\"T_ef3cd734_04b8_11eb_b139_701ce71031efrow11_col4\" class=\"data row11 col4\" >5250</td>\n",
       "                        <td id=\"T_ef3cd734_04b8_11eb_b139_701ce71031efrow11_col5\" class=\"data row11 col5\" >59</td>\n",
       "                        <td id=\"T_ef3cd734_04b8_11eb_b139_701ce71031efrow11_col6\" class=\"data row11 col6\" >4.84%</td>\n",
       "            </tr>\n",
       "            <tr>\n",
       "                                <td id=\"T_ef3cd734_04b8_11eb_b139_701ce71031efrow12_col0\" class=\"data row12 col0\" >重庆</td>\n",
       "                        <td id=\"T_ef3cd734_04b8_11eb_b139_701ce71031efrow12_col1\" class=\"data row12 col1\" >5250</td>\n",
       "                        <td id=\"T_ef3cd734_04b8_11eb_b139_701ce71031efrow12_col2\" class=\"data row12 col2\" >3750</td>\n",
       "                        <td id=\"T_ef3cd734_04b8_11eb_b139_701ce71031efrow12_col3\" class=\"data row12 col3\" >4950</td>\n",
       "                        <td id=\"T_ef3cd734_04b8_11eb_b139_701ce71031efrow12_col4\" class=\"data row12 col4\" >9500</td>\n",
       "                        <td id=\"T_ef3cd734_04b8_11eb_b139_701ce71031efrow12_col5\" class=\"data row12 col5\" >23</td>\n",
       "                        <td id=\"T_ef3cd734_04b8_11eb_b139_701ce71031efrow12_col6\" class=\"data row12 col6\" >1.89%</td>\n",
       "            </tr>\n",
       "    </tbody></table>"
      ],
      "text/plain": [
       "<pandas.io.formats.style.Styler at 0x22e8c2d8640>"
      ]
     },
     "execution_count": 48,
     "metadata": {},
     "output_type": "execute_result"
    }
   ],
   "source": [
    "data_pl=get_sub_stats_by_col(data,'city')\n",
    "data_pl=data_pl[data_pl['head_count']>20]\n",
    "apply_style(data_pl)"
   ]
  },
  {
   "cell_type": "code",
   "execution_count": 49,
   "metadata": {},
   "outputs": [
    {
     "data": {
      "text/plain": [
       "0.1395730706075533"
      ]
     },
     "execution_count": 49,
     "metadata": {},
     "output_type": "execute_result"
    }
   ],
   "source": [
    "other=1-data_pl['percentage'].sum()\n",
    "other"
   ]
  },
  {
   "cell_type": "code",
   "execution_count": 50,
   "metadata": {},
   "outputs": [],
   "source": [
    "head_counts=list(data_pl['percentage'].values)\n",
    "head_counts.append(other)\n",
    "head_counts\n",
    "\n",
    "labels=list(data_pl['city'].values)\n",
    "labels.append('其他')"
   ]
  },
  {
   "cell_type": "code",
   "execution_count": 52,
   "metadata": {},
   "outputs": [
    {
     "data": {
      "image/png": "[encoded data removed]",
      "text/plain": [
       "<Figure size 720x576 with 1 Axes>"
      ]
     },
     "metadata": {},
     "output_type": "display_data"
    }
   ],
   "source": [
    "\n",
    "plt.figure(figsize=(10,8))\n",
    "plt.pie(head_counts, labels=labels, autopct='%1.0f%%')\n",
    "plt.title(f'算法工程师去哪里')\n",
    "plt.show()"
   ]
  },
  {
   "cell_type": "markdown",
   "metadata": {},
   "source": [
    "# 编程语言"
   ]
  },
  {
   "cell_type": "code",
   "execution_count": 26,
   "metadata": {
    "scrolled": true
   },
   "outputs": [
    {
     "data": {
      "text/html": [
       "<style  type=\"text/css\" >\n",
       "</style><table id=\"T_b38e97ec_04b8_11eb_84b4_701ce71031ef\" ><thead>    <tr>        <th class=\"col_heading level0 col0\" >rank</th>        <th class=\"col_heading level0 col1\" >pl_</th>        <th class=\"col_heading level0 col2\" >salary_mean</th>        <th class=\"col_heading level0 col3\" >salary_median</th>        <th class=\"col_heading level0 col4\" >salary_95_min</th>        <th class=\"col_heading level0 col5\" >salary_95_max</th>        <th class=\"col_heading level0 col6\" >head_count</th>        <th class=\"col_heading level0 col7\" >percentage</th>    </tr></thead><tbody>\n",
       "                <tr>\n",
       "                                <td id=\"T_b38e97ec_04b8_11eb_84b4_701ce71031efrow0_col0\" class=\"data row0 col0\" >1</td>\n",
       "                        <td id=\"T_b38e97ec_04b8_11eb_84b4_701ce71031efrow0_col1\" class=\"data row0 col1\" >go</td>\n",
       "                        <td id=\"T_b38e97ec_04b8_11eb_84b4_701ce71031efrow0_col2\" class=\"data row0 col2\" >32074</td>\n",
       "                        <td id=\"T_b38e97ec_04b8_11eb_84b4_701ce71031efrow0_col3\" class=\"data row0 col3\" >32444</td>\n",
       "                        <td id=\"T_b38e97ec_04b8_11eb_84b4_701ce71031efrow0_col4\" class=\"data row0 col4\" >14075</td>\n",
       "                        <td id=\"T_b38e97ec_04b8_11eb_84b4_701ce71031efrow0_col5\" class=\"data row0 col5\" >54864</td>\n",
       "                        <td id=\"T_b38e97ec_04b8_11eb_84b4_701ce71031efrow0_col6\" class=\"data row0 col6\" >63</td>\n",
       "                        <td id=\"T_b38e97ec_04b8_11eb_84b4_701ce71031efrow0_col7\" class=\"data row0 col7\" >4.35%</td>\n",
       "            </tr>\n",
       "            <tr>\n",
       "                                <td id=\"T_b38e97ec_04b8_11eb_84b4_701ce71031efrow1_col0\" class=\"data row1 col0\" >2</td>\n",
       "                        <td id=\"T_b38e97ec_04b8_11eb_84b4_701ce71031efrow1_col1\" class=\"data row1 col1\" >cpp</td>\n",
       "                        <td id=\"T_b38e97ec_04b8_11eb_84b4_701ce71031efrow1_col2\" class=\"data row1 col2\" >26422</td>\n",
       "                        <td id=\"T_b38e97ec_04b8_11eb_84b4_701ce71031efrow1_col3\" class=\"data row1 col3\" >22500</td>\n",
       "                        <td id=\"T_b38e97ec_04b8_11eb_84b4_701ce71031efrow1_col4\" class=\"data row1 col4\" >6031</td>\n",
       "                        <td id=\"T_b38e97ec_04b8_11eb_84b4_701ce71031efrow1_col5\" class=\"data row1 col5\" >60625</td>\n",
       "                        <td id=\"T_b38e97ec_04b8_11eb_84b4_701ce71031efrow1_col6\" class=\"data row1 col6\" >370</td>\n",
       "                        <td id=\"T_b38e97ec_04b8_11eb_84b4_701ce71031efrow1_col7\" class=\"data row1 col7\" >25.53%</td>\n",
       "            </tr>\n",
       "            <tr>\n",
       "                                <td id=\"T_b38e97ec_04b8_11eb_84b4_701ce71031efrow2_col0\" class=\"data row2 col0\" >3</td>\n",
       "                        <td id=\"T_b38e97ec_04b8_11eb_84b4_701ce71031efrow2_col1\" class=\"data row2 col1\" >python</td>\n",
       "                        <td id=\"T_b38e97ec_04b8_11eb_84b4_701ce71031efrow2_col2\" class=\"data row2 col2\" >24449</td>\n",
       "                        <td id=\"T_b38e97ec_04b8_11eb_84b4_701ce71031efrow2_col3\" class=\"data row2 col3\" >20000</td>\n",
       "                        <td id=\"T_b38e97ec_04b8_11eb_84b4_701ce71031efrow2_col4\" class=\"data row2 col4\" >5250</td>\n",
       "                        <td id=\"T_b38e97ec_04b8_11eb_84b4_701ce71031efrow2_col5\" class=\"data row2 col5\" >60000</td>\n",
       "                        <td id=\"T_b38e97ec_04b8_11eb_84b4_701ce71031efrow2_col6\" class=\"data row2 col6\" >523</td>\n",
       "                        <td id=\"T_b38e97ec_04b8_11eb_84b4_701ce71031efrow2_col7\" class=\"data row2 col7\" >36.09%</td>\n",
       "            </tr>\n",
       "            <tr>\n",
       "                                <td id=\"T_b38e97ec_04b8_11eb_84b4_701ce71031efrow3_col0\" class=\"data row3 col0\" >5</td>\n",
       "                        <td id=\"T_b38e97ec_04b8_11eb_84b4_701ce71031efrow3_col1\" class=\"data row3 col1\" >java</td>\n",
       "                        <td id=\"T_b38e97ec_04b8_11eb_84b4_701ce71031efrow3_col2\" class=\"data row3 col2\" >21231</td>\n",
       "                        <td id=\"T_b38e97ec_04b8_11eb_84b4_701ce71031efrow3_col3\" class=\"data row3 col3\" >17500</td>\n",
       "                        <td id=\"T_b38e97ec_04b8_11eb_84b4_701ce71031efrow3_col4\" class=\"data row3 col4\" >9000</td>\n",
       "                        <td id=\"T_b38e97ec_04b8_11eb_84b4_701ce71031efrow3_col5\" class=\"data row3 col5\" >44521</td>\n",
       "                        <td id=\"T_b38e97ec_04b8_11eb_84b4_701ce71031efrow3_col6\" class=\"data row3 col6\" >247</td>\n",
       "                        <td id=\"T_b38e97ec_04b8_11eb_84b4_701ce71031efrow3_col7\" class=\"data row3 col7\" >17.05%</td>\n",
       "            </tr>\n",
       "            <tr>\n",
       "                                <td id=\"T_b38e97ec_04b8_11eb_84b4_701ce71031efrow4_col0\" class=\"data row4 col0\" >6</td>\n",
       "                        <td id=\"T_b38e97ec_04b8_11eb_84b4_701ce71031efrow4_col1\" class=\"data row4 col1\" >matlab</td>\n",
       "                        <td id=\"T_b38e97ec_04b8_11eb_84b4_701ce71031efrow4_col2\" class=\"data row4 col2\" >20952</td>\n",
       "                        <td id=\"T_b38e97ec_04b8_11eb_84b4_701ce71031efrow4_col3\" class=\"data row4 col3\" >19643</td>\n",
       "                        <td id=\"T_b38e97ec_04b8_11eb_84b4_701ce71031efrow4_col4\" class=\"data row4 col4\" >5250</td>\n",
       "                        <td id=\"T_b38e97ec_04b8_11eb_84b4_701ce71031efrow4_col5\" class=\"data row4 col5\" >62500</td>\n",
       "                        <td id=\"T_b38e97ec_04b8_11eb_84b4_701ce71031efrow4_col6\" class=\"data row4 col6\" >77</td>\n",
       "                        <td id=\"T_b38e97ec_04b8_11eb_84b4_701ce71031efrow4_col7\" class=\"data row4 col7\" >5.31%</td>\n",
       "            </tr>\n",
       "            <tr>\n",
       "                                <td id=\"T_b38e97ec_04b8_11eb_84b4_701ce71031efrow5_col0\" class=\"data row5 col0\" >9</td>\n",
       "                        <td id=\"T_b38e97ec_04b8_11eb_84b4_701ce71031efrow5_col1\" class=\"data row5 col1\" >r</td>\n",
       "                        <td id=\"T_b38e97ec_04b8_11eb_84b4_701ce71031efrow5_col2\" class=\"data row5 col2\" >19163</td>\n",
       "                        <td id=\"T_b38e97ec_04b8_11eb_84b4_701ce71031efrow5_col3\" class=\"data row5 col3\" >17500</td>\n",
       "                        <td id=\"T_b38e97ec_04b8_11eb_84b4_701ce71031efrow5_col4\" class=\"data row5 col4\" >5250</td>\n",
       "                        <td id=\"T_b38e97ec_04b8_11eb_84b4_701ce71031efrow5_col5\" class=\"data row5 col5\" >39232</td>\n",
       "                        <td id=\"T_b38e97ec_04b8_11eb_84b4_701ce71031efrow5_col6\" class=\"data row5 col6\" >83</td>\n",
       "                        <td id=\"T_b38e97ec_04b8_11eb_84b4_701ce71031efrow5_col7\" class=\"data row5 col7\" >5.73%</td>\n",
       "            </tr>\n",
       "    </tbody></table>"
      ],
      "text/plain": [
       "<pandas.io.formats.style.Styler at 0x22e85f88070>"
      ]
     },
     "execution_count": 26,
     "metadata": {},
     "output_type": "execute_result"
    }
   ],
   "source": [
    "data_pl=get_sub_stats_by_prefix(data,'pl_')\n",
    "data_pl=data_pl[data_pl['head_count']>50]\n",
    "apply_style(data_pl)"
   ]
  },
  {
   "cell_type": "code",
   "execution_count": 27,
   "metadata": {},
   "outputs": [
    {
     "data": {
      "image/png": "[encoded data removed]",
      "text/plain": [
       "<Figure size 720x576 with 1 Axes>"
      ]
     },
     "metadata": {},
     "output_type": "display_data"
    }
   ],
   "source": [
    "head_counts=list(data_pl['percentage'].values)\n",
    "head_counts.append(other)\n",
    "head_counts\n",
    "\n",
    "labels=list(data_pl['pl_'].values)\n",
    "labels.append('其他')\n",
    "\n",
    "plt.figure(figsize=(10,8))\n",
    "plt.pie(head_counts, labels=labels, autopct='%1.0f%%')\n",
    "plt.title(f'算法工程师的编程语言')\n",
    "plt.show()"
   ]
  },
  {
   "cell_type": "markdown",
   "metadata": {},
   "source": [
    "## 大数据工具 "
   ]
  },
  {
   "cell_type": "code",
   "execution_count": 28,
   "metadata": {},
   "outputs": [
    {
     "data": {
      "text/html": [
       "<style  type=\"text/css\" >\n",
       "</style><table id=\"T_b3a031d0_04b8_11eb_9d58_701ce71031ef\" ><thead>    <tr>        <th class=\"col_heading level0 col0\" >rank</th>        <th class=\"col_heading level0 col1\" >bd_</th>        <th class=\"col_heading level0 col2\" >salary_mean</th>        <th class=\"col_heading level0 col3\" >salary_median</th>        <th class=\"col_heading level0 col4\" >salary_95_min</th>        <th class=\"col_heading level0 col5\" >salary_95_max</th>        <th class=\"col_heading level0 col6\" >head_count</th>        <th class=\"col_heading level0 col7\" >percentage</th>    </tr></thead><tbody>\n",
       "                <tr>\n",
       "                                <td id=\"T_b3a031d0_04b8_11eb_9d58_701ce71031efrow0_col0\" class=\"data row0 col0\" >1</td>\n",
       "                        <td id=\"T_b3a031d0_04b8_11eb_9d58_701ce71031efrow0_col1\" class=\"data row0 col1\" >flink</td>\n",
       "                        <td id=\"T_b3a031d0_04b8_11eb_9d58_701ce71031efrow0_col2\" class=\"data row0 col2\" >35714</td>\n",
       "                        <td id=\"T_b3a031d0_04b8_11eb_9d58_701ce71031efrow0_col3\" class=\"data row0 col3\" >36818</td>\n",
       "                        <td id=\"T_b3a031d0_04b8_11eb_9d58_701ce71031efrow0_col4\" class=\"data row0 col4\" >21250</td>\n",
       "                        <td id=\"T_b3a031d0_04b8_11eb_9d58_701ce71031efrow0_col5\" class=\"data row0 col5\" >42500</td>\n",
       "                        <td id=\"T_b3a031d0_04b8_11eb_9d58_701ce71031efrow0_col6\" class=\"data row0 col6\" >35</td>\n",
       "                        <td id=\"T_b3a031d0_04b8_11eb_9d58_701ce71031efrow0_col7\" class=\"data row0 col7\" >9.33%</td>\n",
       "            </tr>\n",
       "            <tr>\n",
       "                                <td id=\"T_b3a031d0_04b8_11eb_9d58_701ce71031efrow1_col0\" class=\"data row1 col0\" >3</td>\n",
       "                        <td id=\"T_b3a031d0_04b8_11eb_9d58_701ce71031efrow1_col1\" class=\"data row1 col1\" >hive</td>\n",
       "                        <td id=\"T_b3a031d0_04b8_11eb_9d58_701ce71031efrow1_col2\" class=\"data row1 col2\" >30454</td>\n",
       "                        <td id=\"T_b3a031d0_04b8_11eb_9d58_701ce71031efrow1_col3\" class=\"data row1 col3\" >32500</td>\n",
       "                        <td id=\"T_b3a031d0_04b8_11eb_9d58_701ce71031efrow1_col4\" class=\"data row1 col4\" >12500</td>\n",
       "                        <td id=\"T_b3a031d0_04b8_11eb_9d58_701ce71031efrow1_col5\" class=\"data row1 col5\" >45000</td>\n",
       "                        <td id=\"T_b3a031d0_04b8_11eb_9d58_701ce71031efrow1_col6\" class=\"data row1 col6\" >54</td>\n",
       "                        <td id=\"T_b3a031d0_04b8_11eb_9d58_701ce71031efrow1_col7\" class=\"data row1 col7\" >14.40%</td>\n",
       "            </tr>\n",
       "            <tr>\n",
       "                                <td id=\"T_b3a031d0_04b8_11eb_9d58_701ce71031efrow2_col0\" class=\"data row2 col0\" >4</td>\n",
       "                        <td id=\"T_b3a031d0_04b8_11eb_9d58_701ce71031efrow2_col1\" class=\"data row2 col1\" >spark</td>\n",
       "                        <td id=\"T_b3a031d0_04b8_11eb_9d58_701ce71031efrow2_col2\" class=\"data row2 col2\" >27026</td>\n",
       "                        <td id=\"T_b3a031d0_04b8_11eb_9d58_701ce71031efrow2_col3\" class=\"data row2 col3\" >27500</td>\n",
       "                        <td id=\"T_b3a031d0_04b8_11eb_9d58_701ce71031efrow2_col4\" class=\"data row2 col4\" >11740</td>\n",
       "                        <td id=\"T_b3a031d0_04b8_11eb_9d58_701ce71031efrow2_col5\" class=\"data row2 col5\" >51000</td>\n",
       "                        <td id=\"T_b3a031d0_04b8_11eb_9d58_701ce71031efrow2_col6\" class=\"data row2 col6\" >148</td>\n",
       "                        <td id=\"T_b3a031d0_04b8_11eb_9d58_701ce71031efrow2_col7\" class=\"data row2 col7\" >39.47%</td>\n",
       "            </tr>\n",
       "            <tr>\n",
       "                                <td id=\"T_b3a031d0_04b8_11eb_9d58_701ce71031efrow3_col0\" class=\"data row3 col0\" >5</td>\n",
       "                        <td id=\"T_b3a031d0_04b8_11eb_9d58_701ce71031efrow3_col1\" class=\"data row3 col1\" >hadoop</td>\n",
       "                        <td id=\"T_b3a031d0_04b8_11eb_9d58_701ce71031efrow3_col2\" class=\"data row3 col2\" >25578</td>\n",
       "                        <td id=\"T_b3a031d0_04b8_11eb_9d58_701ce71031efrow3_col3\" class=\"data row3 col3\" >25000</td>\n",
       "                        <td id=\"T_b3a031d0_04b8_11eb_9d58_701ce71031efrow3_col4\" class=\"data row3 col4\" >11500</td>\n",
       "                        <td id=\"T_b3a031d0_04b8_11eb_9d58_701ce71031efrow3_col5\" class=\"data row3 col5\" >57273</td>\n",
       "                        <td id=\"T_b3a031d0_04b8_11eb_9d58_701ce71031efrow3_col6\" class=\"data row3 col6\" >95</td>\n",
       "                        <td id=\"T_b3a031d0_04b8_11eb_9d58_701ce71031efrow3_col7\" class=\"data row3 col7\" >25.33%</td>\n",
       "            </tr>\n",
       "            <tr>\n",
       "                                <td id=\"T_b3a031d0_04b8_11eb_9d58_701ce71031efrow4_col0\" class=\"data row4 col0\" >6</td>\n",
       "                        <td id=\"T_b3a031d0_04b8_11eb_9d58_701ce71031efrow4_col1\" class=\"data row4 col1\" >yarn</td>\n",
       "                        <td id=\"T_b3a031d0_04b8_11eb_9d58_701ce71031efrow4_col2\" class=\"data row4 col2\" >23269</td>\n",
       "                        <td id=\"T_b3a031d0_04b8_11eb_9d58_701ce71031efrow4_col3\" class=\"data row4 col3\" >23269</td>\n",
       "                        <td id=\"T_b3a031d0_04b8_11eb_9d58_701ce71031efrow4_col4\" class=\"data row4 col4\" >19000</td>\n",
       "                        <td id=\"T_b3a031d0_04b8_11eb_9d58_701ce71031efrow4_col5\" class=\"data row4 col5\" >37500</td>\n",
       "                        <td id=\"T_b3a031d0_04b8_11eb_9d58_701ce71031efrow4_col6\" class=\"data row4 col6\" >13</td>\n",
       "                        <td id=\"T_b3a031d0_04b8_11eb_9d58_701ce71031efrow4_col7\" class=\"data row4 col7\" >3.47%</td>\n",
       "            </tr>\n",
       "            <tr>\n",
       "                                <td id=\"T_b3a031d0_04b8_11eb_9d58_701ce71031efrow5_col0\" class=\"data row5 col0\" >7</td>\n",
       "                        <td id=\"T_b3a031d0_04b8_11eb_9d58_701ce71031efrow5_col1\" class=\"data row5 col1\" >hbase</td>\n",
       "                        <td id=\"T_b3a031d0_04b8_11eb_9d58_701ce71031efrow5_col2\" class=\"data row5 col2\" >23026</td>\n",
       "                        <td id=\"T_b3a031d0_04b8_11eb_9d58_701ce71031efrow5_col3\" class=\"data row5 col3\" >20833</td>\n",
       "                        <td id=\"T_b3a031d0_04b8_11eb_9d58_701ce71031efrow5_col4\" class=\"data row5 col4\" >13000</td>\n",
       "                        <td id=\"T_b3a031d0_04b8_11eb_9d58_701ce71031efrow5_col5\" class=\"data row5 col5\" >35000</td>\n",
       "                        <td id=\"T_b3a031d0_04b8_11eb_9d58_701ce71031efrow5_col6\" class=\"data row5 col6\" >13</td>\n",
       "                        <td id=\"T_b3a031d0_04b8_11eb_9d58_701ce71031efrow5_col7\" class=\"data row5 col7\" >3.47%</td>\n",
       "            </tr>\n",
       "    </tbody></table>"
      ],
      "text/plain": [
       "<pandas.io.formats.style.Styler at 0x22e8c1e9cd0>"
      ]
     },
     "execution_count": 28,
     "metadata": {},
     "output_type": "execute_result"
    }
   ],
   "source": [
    "data_pl=get_sub_stats_by_prefix(data,'bd_')\n",
    "data_pl=data_pl[data_pl['head_count']>10]\n",
    "apply_style(data_pl)"
   ]
  },
  {
   "cell_type": "code",
   "execution_count": 29,
   "metadata": {},
   "outputs": [
    {
     "data": {
      "image/png": "[encoded data removed]",
      "text/plain": [
       "<Figure size 720x576 with 1 Axes>"
      ]
     },
     "metadata": {},
     "output_type": "display_data"
    }
   ],
   "source": [
    "other=1-data_pl['percentage'].values.sum()\n",
    "head_counts=list(data_pl['percentage'].values)\n",
    "head_counts.append(other)\n",
    "head_counts\n",
    "\n",
    "labels=list(data_pl['bd_'].values)\n",
    "labels.append('其他')\n",
    "\n",
    "plt.figure(figsize=(10,8))\n",
    "plt.pie(head_counts, labels=labels, autopct='%1.0f%%')\n",
    "plt.title(f'算法工程师的大数据工具')\n",
    "plt.show()"
   ]
  },
  {
   "cell_type": "markdown",
   "metadata": {},
   "source": [
    "## 机器学习工具 "
   ]
  },
  {
   "cell_type": "code",
   "execution_count": 30,
   "metadata": {},
   "outputs": [
    {
     "data": {
      "text/html": [
       "<style  type=\"text/css\" >\n",
       "</style><table id=\"T_b3b56af2_04b8_11eb_8276_701ce71031ef\" ><thead>    <tr>        <th class=\"col_heading level0 col0\" >rank</th>        <th class=\"col_heading level0 col1\" >ml_</th>        <th class=\"col_heading level0 col2\" >salary_mean</th>        <th class=\"col_heading level0 col3\" >salary_median</th>        <th class=\"col_heading level0 col4\" >salary_95_min</th>        <th class=\"col_heading level0 col5\" >salary_95_max</th>        <th class=\"col_heading level0 col6\" >head_count</th>        <th class=\"col_heading level0 col7\" >percentage</th>    </tr></thead><tbody>\n",
       "                <tr>\n",
       "                                <td id=\"T_b3b56af2_04b8_11eb_8276_701ce71031efrow0_col0\" class=\"data row0 col0\" >1</td>\n",
       "                        <td id=\"T_b3b56af2_04b8_11eb_8276_701ce71031efrow0_col1\" class=\"data row0 col1\" >pytorch</td>\n",
       "                        <td id=\"T_b3b56af2_04b8_11eb_8276_701ce71031efrow0_col2\" class=\"data row0 col2\" >28040</td>\n",
       "                        <td id=\"T_b3b56af2_04b8_11eb_8276_701ce71031efrow0_col3\" class=\"data row0 col3\" >24300</td>\n",
       "                        <td id=\"T_b3b56af2_04b8_11eb_8276_701ce71031efrow0_col4\" class=\"data row0 col4\" >12564</td>\n",
       "                        <td id=\"T_b3b56af2_04b8_11eb_8276_701ce71031efrow0_col5\" class=\"data row0 col5\" >58875</td>\n",
       "                        <td id=\"T_b3b56af2_04b8_11eb_8276_701ce71031efrow0_col6\" class=\"data row0 col6\" >158</td>\n",
       "                        <td id=\"T_b3b56af2_04b8_11eb_8276_701ce71031efrow0_col7\" class=\"data row0 col7\" >17.04%</td>\n",
       "            </tr>\n",
       "            <tr>\n",
       "                                <td id=\"T_b3b56af2_04b8_11eb_8276_701ce71031efrow1_col0\" class=\"data row1 col0\" >2</td>\n",
       "                        <td id=\"T_b3b56af2_04b8_11eb_8276_701ce71031efrow1_col1\" class=\"data row1 col1\" >mxnet</td>\n",
       "                        <td id=\"T_b3b56af2_04b8_11eb_8276_701ce71031efrow1_col2\" class=\"data row1 col2\" >27471</td>\n",
       "                        <td id=\"T_b3b56af2_04b8_11eb_8276_701ce71031efrow1_col3\" class=\"data row1 col3\" >22500</td>\n",
       "                        <td id=\"T_b3b56af2_04b8_11eb_8276_701ce71031efrow1_col4\" class=\"data row1 col4\" >13844</td>\n",
       "                        <td id=\"T_b3b56af2_04b8_11eb_8276_701ce71031efrow1_col5\" class=\"data row1 col5\" >62500</td>\n",
       "                        <td id=\"T_b3b56af2_04b8_11eb_8276_701ce71031efrow1_col6\" class=\"data row1 col6\" >85</td>\n",
       "                        <td id=\"T_b3b56af2_04b8_11eb_8276_701ce71031efrow1_col7\" class=\"data row1 col7\" >9.17%</td>\n",
       "            </tr>\n",
       "            <tr>\n",
       "                                <td id=\"T_b3b56af2_04b8_11eb_8276_701ce71031efrow2_col0\" class=\"data row2 col0\" >3</td>\n",
       "                        <td id=\"T_b3b56af2_04b8_11eb_8276_701ce71031efrow2_col1\" class=\"data row2 col1\" >tensorflow</td>\n",
       "                        <td id=\"T_b3b56af2_04b8_11eb_8276_701ce71031efrow2_col2\" class=\"data row2 col2\" >26237</td>\n",
       "                        <td id=\"T_b3b56af2_04b8_11eb_8276_701ce71031efrow2_col3\" class=\"data row2 col3\" >25000</td>\n",
       "                        <td id=\"T_b3b56af2_04b8_11eb_8276_701ce71031efrow2_col4\" class=\"data row2 col4\" >5598</td>\n",
       "                        <td id=\"T_b3b56af2_04b8_11eb_8276_701ce71031efrow2_col5\" class=\"data row2 col5\" >55167</td>\n",
       "                        <td id=\"T_b3b56af2_04b8_11eb_8276_701ce71031efrow2_col6\" class=\"data row2 col6\" >318</td>\n",
       "                        <td id=\"T_b3b56af2_04b8_11eb_8276_701ce71031efrow2_col7\" class=\"data row2 col7\" >34.30%</td>\n",
       "            </tr>\n",
       "            <tr>\n",
       "                                <td id=\"T_b3b56af2_04b8_11eb_8276_701ce71031efrow3_col0\" class=\"data row3 col0\" >4</td>\n",
       "                        <td id=\"T_b3b56af2_04b8_11eb_8276_701ce71031efrow3_col1\" class=\"data row3 col1\" >keras</td>\n",
       "                        <td id=\"T_b3b56af2_04b8_11eb_8276_701ce71031efrow3_col2\" class=\"data row3 col2\" >25718</td>\n",
       "                        <td id=\"T_b3b56af2_04b8_11eb_8276_701ce71031efrow3_col3\" class=\"data row3 col3\" >22500</td>\n",
       "                        <td id=\"T_b3b56af2_04b8_11eb_8276_701ce71031efrow3_col4\" class=\"data row3 col4\" >5250</td>\n",
       "                        <td id=\"T_b3b56af2_04b8_11eb_8276_701ce71031efrow3_col5\" class=\"data row3 col5\" >62500</td>\n",
       "                        <td id=\"T_b3b56af2_04b8_11eb_8276_701ce71031efrow3_col6\" class=\"data row3 col6\" >85</td>\n",
       "                        <td id=\"T_b3b56af2_04b8_11eb_8276_701ce71031efrow3_col7\" class=\"data row3 col7\" >9.17%</td>\n",
       "            </tr>\n",
       "            <tr>\n",
       "                                <td id=\"T_b3b56af2_04b8_11eb_8276_701ce71031efrow4_col0\" class=\"data row4 col0\" >5</td>\n",
       "                        <td id=\"T_b3b56af2_04b8_11eb_8276_701ce71031efrow4_col1\" class=\"data row4 col1\" >caffe</td>\n",
       "                        <td id=\"T_b3b56af2_04b8_11eb_8276_701ce71031efrow4_col2\" class=\"data row4 col2\" >24720</td>\n",
       "                        <td id=\"T_b3b56af2_04b8_11eb_8276_701ce71031efrow4_col3\" class=\"data row4 col3\" >24143</td>\n",
       "                        <td id=\"T_b3b56af2_04b8_11eb_8276_701ce71031efrow4_col4\" class=\"data row4 col4\" >5250</td>\n",
       "                        <td id=\"T_b3b56af2_04b8_11eb_8276_701ce71031efrow4_col5\" class=\"data row4 col5\" >61042</td>\n",
       "                        <td id=\"T_b3b56af2_04b8_11eb_8276_701ce71031efrow4_col6\" class=\"data row4 col6\" >170</td>\n",
       "                        <td id=\"T_b3b56af2_04b8_11eb_8276_701ce71031efrow4_col7\" class=\"data row4 col7\" >18.34%</td>\n",
       "            </tr>\n",
       "            <tr>\n",
       "                                <td id=\"T_b3b56af2_04b8_11eb_8276_701ce71031efrow5_col0\" class=\"data row5 col0\" >6</td>\n",
       "                        <td id=\"T_b3b56af2_04b8_11eb_8276_701ce71031efrow5_col1\" class=\"data row5 col1\" >sklearn</td>\n",
       "                        <td id=\"T_b3b56af2_04b8_11eb_8276_701ce71031efrow5_col2\" class=\"data row5 col2\" >22289</td>\n",
       "                        <td id=\"T_b3b56af2_04b8_11eb_8276_701ce71031efrow5_col3\" class=\"data row5 col3\" >17917</td>\n",
       "                        <td id=\"T_b3b56af2_04b8_11eb_8276_701ce71031efrow5_col4\" class=\"data row5 col4\" >12500</td>\n",
       "                        <td id=\"T_b3b56af2_04b8_11eb_8276_701ce71031efrow5_col5\" class=\"data row5 col5\" >45000</td>\n",
       "                        <td id=\"T_b3b56af2_04b8_11eb_8276_701ce71031efrow5_col6\" class=\"data row5 col6\" >64</td>\n",
       "                        <td id=\"T_b3b56af2_04b8_11eb_8276_701ce71031efrow5_col7\" class=\"data row5 col7\" >6.90%</td>\n",
       "            </tr>\n",
       "    </tbody></table>"
      ],
      "text/plain": [
       "<pandas.io.formats.style.Styler at 0x22e8b422b50>"
      ]
     },
     "execution_count": 30,
     "metadata": {},
     "output_type": "execute_result"
    }
   ],
   "source": [
    "data_pl=get_sub_stats_by_prefix(data,'ml_')\n",
    "data_pl=data_pl[data_pl['head_count']>50]\n",
    "apply_style(data_pl)"
   ]
  },
  {
   "cell_type": "code",
   "execution_count": 31,
   "metadata": {},
   "outputs": [
    {
     "data": {
      "text/plain": [
       "0.9492988133764834"
      ]
     },
     "execution_count": 31,
     "metadata": {},
     "output_type": "execute_result"
    }
   ],
   "source": [
    "data_pl['percentage'].values.sum()"
   ]
  },
  {
   "cell_type": "code",
   "execution_count": 32,
   "metadata": {},
   "outputs": [
    {
     "data": {
      "image/png": "[encoded data removed]",
      "text/plain": [
       "<Figure size 720x576 with 1 Axes>"
      ]
     },
     "metadata": {},
     "output_type": "display_data"
    }
   ],
   "source": [
    "other=1-data_pl['percentage'].values.sum()\n",
    "head_counts=list(data_pl['percentage'].values)\n",
    "head_counts.append(other)\n",
    "head_counts\n",
    "\n",
    "labels=list(data_pl['ml_'].values)\n",
    "labels.append('其他')\n",
    "\n",
    "plt.figure(figsize=(10,8))\n",
    "plt.pie(head_counts, labels=labels, autopct='%1.0f%%')\n",
    "plt.title(f'算法工程师的机器学习库')\n",
    "plt.show()"
   ]
  },
  {
   "cell_type": "markdown",
   "metadata": {},
   "source": [
    "## 英语"
   ]
  },
  {
   "cell_type": "code",
   "execution_count": null,
   "metadata": {},
   "outputs": [],
   "source": []
  },
  {
   "cell_type": "code",
   "execution_count": 33,
   "metadata": {},
   "outputs": [],
   "source": [
    "all_=data.shape[0]\n",
    "en=data[data['lang_english']==1].shape[0]\n",
    "other=all_-en"
   ]
  },
  {
   "cell_type": "code",
   "execution_count": 34,
   "metadata": {},
   "outputs": [
    {
     "data": {
      "image/png": "[encoded data removed]",
      "text/plain": [
       "<Figure size 720x576 with 1 Axes>"
      ]
     },
     "metadata": {},
     "output_type": "display_data"
    }
   ],
   "source": [
    "plt.figure(figsize=(10,8))\n",
    "plt.pie([en,other], labels=['要求英语','没说'])\n",
    "plt.show()"
   ]
  },
  {
   "cell_type": "markdown",
   "metadata": {},
   "source": [
    "# 教育"
   ]
  },
  {
   "cell_type": "code",
   "execution_count": 35,
   "metadata": {},
   "outputs": [],
   "source": [
    "edu_counts=data[~(data.edu=='')].groupby(by=['edu']).headcount.sum()"
   ]
  },
  {
   "cell_type": "code",
   "execution_count": 36,
   "metadata": {},
   "outputs": [
    {
     "data": {
      "text/plain": [
       "edu\n",
       "初中及以下      2\n",
       "博士        12\n",
       "大专       182\n",
       "本科       719\n",
       "硕士       242\n",
       "高中         5\n",
       "Name: headcount, dtype: int64"
      ]
     },
     "execution_count": 36,
     "metadata": {},
     "output_type": "execute_result"
    }
   ],
   "source": [
    "edu_counts"
   ]
  },
  {
   "cell_type": "code",
   "execution_count": 37,
   "metadata": {},
   "outputs": [
    {
     "data": {
      "image/png": "[encoded data removed]",
      "text/plain": [
       "<Figure size 720x576 with 1 Axes>"
      ]
     },
     "metadata": {},
     "output_type": "display_data"
    }
   ],
   "source": [
    "plt.figure(figsize=(10,8))\n",
    "plt.pie(edu_counts.values, labels=edu_counts.index, autopct='%1.1f%%')\n",
    "plt.show()"
   ]
  },
  {
   "cell_type": "code",
   "execution_count": 38,
   "metadata": {},
   "outputs": [
    {
     "data": {
      "text/html": [
       "<style  type=\"text/css\" >\n",
       "</style><table id=\"T_b3e579ca_04b8_11eb_8632_701ce71031ef\" ><thead>    <tr>        <th class=\"col_heading level0 col0\" >edu</th>        <th class=\"col_heading level0 col1\" >salary_mean</th>        <th class=\"col_heading level0 col2\" >salary_95_min</th>        <th class=\"col_heading level0 col3\" >salary_median</th>        <th class=\"col_heading level0 col4\" >salary_95_max</th>        <th class=\"col_heading level0 col5\" >head_count</th>        <th class=\"col_heading level0 col6\" >percentage</th>    </tr></thead><tbody>\n",
       "                <tr>\n",
       "                                <td id=\"T_b3e579ca_04b8_11eb_8632_701ce71031efrow0_col0\" class=\"data row0 col0\" >博士</td>\n",
       "                        <td id=\"T_b3e579ca_04b8_11eb_8632_701ce71031efrow0_col1\" class=\"data row0 col1\" >27958</td>\n",
       "                        <td id=\"T_b3e579ca_04b8_11eb_8632_701ce71031efrow0_col2\" class=\"data row0 col2\" >15500</td>\n",
       "                        <td id=\"T_b3e579ca_04b8_11eb_8632_701ce71031efrow0_col3\" class=\"data row0 col3\" >27500</td>\n",
       "                        <td id=\"T_b3e579ca_04b8_11eb_8632_701ce71031efrow0_col4\" class=\"data row0 col4\" >45000</td>\n",
       "                        <td id=\"T_b3e579ca_04b8_11eb_8632_701ce71031efrow0_col5\" class=\"data row0 col5\" >12</td>\n",
       "                        <td id=\"T_b3e579ca_04b8_11eb_8632_701ce71031efrow0_col6\" class=\"data row0 col6\" >1.03%</td>\n",
       "            </tr>\n",
       "            <tr>\n",
       "                                <td id=\"T_b3e579ca_04b8_11eb_8632_701ce71031efrow1_col0\" class=\"data row1 col0\" >硕士</td>\n",
       "                        <td id=\"T_b3e579ca_04b8_11eb_8632_701ce71031efrow1_col1\" class=\"data row1 col1\" >26393</td>\n",
       "                        <td id=\"T_b3e579ca_04b8_11eb_8632_701ce71031efrow1_col2\" class=\"data row1 col2\" >10416</td>\n",
       "                        <td id=\"T_b3e579ca_04b8_11eb_8632_701ce71031efrow1_col3\" class=\"data row1 col3\" >21500</td>\n",
       "                        <td id=\"T_b3e579ca_04b8_11eb_8632_701ce71031efrow1_col4\" class=\"data row1 col4\" >61225</td>\n",
       "                        <td id=\"T_b3e579ca_04b8_11eb_8632_701ce71031efrow1_col5\" class=\"data row1 col5\" >242</td>\n",
       "                        <td id=\"T_b3e579ca_04b8_11eb_8632_701ce71031efrow1_col6\" class=\"data row1 col6\" >20.83%</td>\n",
       "            </tr>\n",
       "            <tr>\n",
       "                                <td id=\"T_b3e579ca_04b8_11eb_8632_701ce71031efrow2_col0\" class=\"data row2 col0\" >本科</td>\n",
       "                        <td id=\"T_b3e579ca_04b8_11eb_8632_701ce71031efrow2_col1\" class=\"data row2 col1\" >20883</td>\n",
       "                        <td id=\"T_b3e579ca_04b8_11eb_8632_701ce71031efrow2_col2\" class=\"data row2 col2\" >6500</td>\n",
       "                        <td id=\"T_b3e579ca_04b8_11eb_8632_701ce71031efrow2_col3\" class=\"data row2 col3\" >17500</td>\n",
       "                        <td id=\"T_b3e579ca_04b8_11eb_8632_701ce71031efrow2_col4\" class=\"data row2 col4\" >45000</td>\n",
       "                        <td id=\"T_b3e579ca_04b8_11eb_8632_701ce71031efrow2_col5\" class=\"data row2 col5\" >719</td>\n",
       "                        <td id=\"T_b3e579ca_04b8_11eb_8632_701ce71031efrow2_col6\" class=\"data row2 col6\" >61.88%</td>\n",
       "            </tr>\n",
       "            <tr>\n",
       "                                <td id=\"T_b3e579ca_04b8_11eb_8632_701ce71031efrow3_col0\" class=\"data row3 col0\" >大专</td>\n",
       "                        <td id=\"T_b3e579ca_04b8_11eb_8632_701ce71031efrow3_col1\" class=\"data row3 col1\" >9693</td>\n",
       "                        <td id=\"T_b3e579ca_04b8_11eb_8632_701ce71031efrow3_col2\" class=\"data row3 col2\" >3878</td>\n",
       "                        <td id=\"T_b3e579ca_04b8_11eb_8632_701ce71031efrow3_col3\" class=\"data row3 col3\" >7000</td>\n",
       "                        <td id=\"T_b3e579ca_04b8_11eb_8632_701ce71031efrow3_col4\" class=\"data row3 col4\" >41550</td>\n",
       "                        <td id=\"T_b3e579ca_04b8_11eb_8632_701ce71031efrow3_col5\" class=\"data row3 col5\" >182</td>\n",
       "                        <td id=\"T_b3e579ca_04b8_11eb_8632_701ce71031efrow3_col6\" class=\"data row3 col6\" >15.66%</td>\n",
       "            </tr>\n",
       "            <tr>\n",
       "                                <td id=\"T_b3e579ca_04b8_11eb_8632_701ce71031efrow4_col0\" class=\"data row4 col0\" >高中</td>\n",
       "                        <td id=\"T_b3e579ca_04b8_11eb_8632_701ce71031efrow4_col1\" class=\"data row4 col1\" >6600</td>\n",
       "                        <td id=\"T_b3e579ca_04b8_11eb_8632_701ce71031efrow4_col2\" class=\"data row4 col2\" >5250</td>\n",
       "                        <td id=\"T_b3e579ca_04b8_11eb_8632_701ce71031efrow4_col3\" class=\"data row4 col3\" >5625</td>\n",
       "                        <td id=\"T_b3e579ca_04b8_11eb_8632_701ce71031efrow4_col4\" class=\"data row4 col4\" >11000</td>\n",
       "                        <td id=\"T_b3e579ca_04b8_11eb_8632_701ce71031efrow4_col5\" class=\"data row4 col5\" >5</td>\n",
       "                        <td id=\"T_b3e579ca_04b8_11eb_8632_701ce71031efrow4_col6\" class=\"data row4 col6\" >0.43%</td>\n",
       "            </tr>\n",
       "            <tr>\n",
       "                                <td id=\"T_b3e579ca_04b8_11eb_8632_701ce71031efrow5_col0\" class=\"data row5 col0\" >初中及以下</td>\n",
       "                        <td id=\"T_b3e579ca_04b8_11eb_8632_701ce71031efrow5_col1\" class=\"data row5 col1\" >3750</td>\n",
       "                        <td id=\"T_b3e579ca_04b8_11eb_8632_701ce71031efrow5_col2\" class=\"data row5 col2\" >3750</td>\n",
       "                        <td id=\"T_b3e579ca_04b8_11eb_8632_701ce71031efrow5_col3\" class=\"data row5 col3\" >3750</td>\n",
       "                        <td id=\"T_b3e579ca_04b8_11eb_8632_701ce71031efrow5_col4\" class=\"data row5 col4\" >3750</td>\n",
       "                        <td id=\"T_b3e579ca_04b8_11eb_8632_701ce71031efrow5_col5\" class=\"data row5 col5\" >2</td>\n",
       "                        <td id=\"T_b3e579ca_04b8_11eb_8632_701ce71031efrow5_col6\" class=\"data row5 col6\" >0.17%</td>\n",
       "            </tr>\n",
       "    </tbody></table>"
      ],
      "text/plain": [
       "<pandas.io.formats.style.Styler at 0x22e8c3fbd90>"
      ]
     },
     "execution_count": 38,
     "metadata": {},
     "output_type": "execute_result"
    }
   ],
   "source": [
    "data_edu=get_sub_stats_by_col(data[data.edu.isin(['初中及以下','高中','大专','本科','硕士','博士'])], 'edu')\n",
    "apply_style(data_edu)"
   ]
  },
  {
   "cell_type": "code",
   "execution_count": 39,
   "metadata": {},
   "outputs": [],
   "source": [
    "salary_associate=data[data.edu=='大专'].monthly_salary\n",
    "salary_bachelor=data[data.edu=='本科'].monthly_salary\n",
    "salary_master=data[data.edu=='硕士'].monthly_salary\n",
    "salary_phd=data[data.edu=='博士'].monthly_salary"
   ]
  },
  {
   "cell_type": "code",
   "execution_count": null,
   "metadata": {},
   "outputs": [],
   "source": []
  },
  {
   "cell_type": "code",
   "execution_count": 40,
   "metadata": {},
   "outputs": [
    {
     "name": "stdout",
     "output_type": "stream",
     "text": [
      "大专，本科，硕士，博士的平均工资分别是8974，20358，26399，28389。中位数分别是6800， 17500，22500， 27500。\n"
     ]
    }
   ],
   "source": [
    "print('大专，本科，硕士，博士的平均工资分别是{:.0f}，{:.0f}，{:.0f}，{:.0f}。中位数分别是{:.0f}， {:.0f}，{:.0f}， {:.0f}。'.format(\n",
    "    salary_associate.mean(),salary_bachelor.mean(),salary_master.mean(),salary_phd.mean(),\n",
    "    salary_associate.median(),salary_bachelor.median(),salary_master.median(),salary_phd.median()))"
   ]
  },
  {
   "cell_type": "code",
   "execution_count": 41,
   "metadata": {},
   "outputs": [
    {
     "data": {
      "text/plain": [
       "F_onewayResult(statistic=0.17065136315446547, pvalue=0.68053842737469)"
      ]
     },
     "execution_count": 41,
     "metadata": {},
     "output_type": "execute_result"
    }
   ],
   "source": [
    "stats.f_oneway(salary_phd, salary_master)"
   ]
  },
  {
   "cell_type": "code",
   "execution_count": 42,
   "metadata": {},
   "outputs": [
    {
     "data": {
      "text/plain": [
       "F_onewayResult(statistic=14.137367832029998, pvalue=0.0002032028748979273)"
      ]
     },
     "execution_count": 42,
     "metadata": {},
     "output_type": "execute_result"
    }
   ],
   "source": [
    "stats.f_oneway(salary_master, salary_bachelor)"
   ]
  },
  {
   "cell_type": "code",
   "execution_count": 43,
   "metadata": {},
   "outputs": [
    {
     "data": {
      "text/plain": [
       "F_onewayResult(statistic=62.48650014436631, pvalue=4.9842754375235197e-14)"
      ]
     },
     "execution_count": 43,
     "metadata": {},
     "output_type": "execute_result"
    }
   ],
   "source": [
    "stats.f_oneway(salary_bachelor, salary_associate)"
   ]
  },
  {
   "cell_type": "markdown",
   "metadata": {},
   "source": [
    "经过Oneway Anova Test，证明从大专到博士，学历每提高一级，工资都有显著的提高。"
   ]
  },
  {
   "cell_type": "code",
   "execution_count": 44,
   "metadata": {},
   "outputs": [
    {
     "data": {
      "image/png": "[encoded data removed]",
      "text/plain": [
       "<Figure size 432x288 with 1 Axes>"
      ]
     },
     "metadata": {
      "needs_background": "light"
     },
     "output_type": "display_data"
    }
   ],
   "source": [
    "\n",
    "order=['大专','本科','硕士','博士']\n",
    "a=sns.boxplot(y='edu',x='monthly_salary',order=order,data=data[data.edu.isin(order)], orient='h')\n",
    "plt.annotate('https://github.com/juwikuang/job_survey', xy=(0.5,1.5), xytext=(2, 1.55))\n",
    "plt.show()"
   ]
  },
  {
   "cell_type": "markdown",
   "metadata": {},
   "source": [
    "# 工作经验 Working Experience"
   ]
  },
  {
   "cell_type": "code",
   "execution_count": 45,
   "metadata": {},
   "outputs": [
    {
     "data": {
      "text/html": [
       "<style  type=\"text/css\" >\n",
       "</style><table id=\"T_b40a03a2_04b8_11eb_9aa6_701ce71031ef\" ><thead>    <tr>        <th class=\"col_heading level0 col0\" >experience</th>        <th class=\"col_heading level0 col1\" >salary_mean</th>        <th class=\"col_heading level0 col2\" >salary_95_min</th>        <th class=\"col_heading level0 col3\" >salary_median</th>        <th class=\"col_heading level0 col4\" >salary_95_max</th>        <th class=\"col_heading level0 col5\" >head_count</th>        <th class=\"col_heading level0 col6\" >percentage</th>    </tr></thead><tbody>\n",
       "                <tr>\n",
       "                                <td id=\"T_b40a03a2_04b8_11eb_9aa6_701ce71031efrow0_col0\" class=\"data row0 col0\" >10+</td>\n",
       "                        <td id=\"T_b40a03a2_04b8_11eb_9aa6_701ce71031efrow0_col1\" class=\"data row0 col1\" >67000</td>\n",
       "                        <td id=\"T_b40a03a2_04b8_11eb_9aa6_701ce71031efrow0_col2\" class=\"data row0 col2\" >22500</td>\n",
       "                        <td id=\"T_b40a03a2_04b8_11eb_9aa6_701ce71031efrow0_col3\" class=\"data row0 col3\" >75000</td>\n",
       "                        <td id=\"T_b40a03a2_04b8_11eb_9aa6_701ce71031efrow0_col4\" class=\"data row0 col4\" >85000</td>\n",
       "                        <td id=\"T_b40a03a2_04b8_11eb_9aa6_701ce71031efrow0_col5\" class=\"data row0 col5\" >5</td>\n",
       "                        <td id=\"T_b40a03a2_04b8_11eb_9aa6_701ce71031efrow0_col6\" class=\"data row0 col6\" >0.41%</td>\n",
       "            </tr>\n",
       "            <tr>\n",
       "                                <td id=\"T_b40a03a2_04b8_11eb_9aa6_701ce71031efrow1_col0\" class=\"data row1 col0\" >5_10</td>\n",
       "                        <td id=\"T_b40a03a2_04b8_11eb_9aa6_701ce71031efrow1_col1\" class=\"data row1 col1\" >30858</td>\n",
       "                        <td id=\"T_b40a03a2_04b8_11eb_9aa6_701ce71031efrow1_col2\" class=\"data row1 col2\" >9875</td>\n",
       "                        <td id=\"T_b40a03a2_04b8_11eb_9aa6_701ce71031efrow1_col3\" class=\"data row1 col3\" >30000</td>\n",
       "                        <td id=\"T_b40a03a2_04b8_11eb_9aa6_701ce71031efrow1_col4\" class=\"data row1 col4\" >60000</td>\n",
       "                        <td id=\"T_b40a03a2_04b8_11eb_9aa6_701ce71031efrow1_col5\" class=\"data row1 col5\" >81</td>\n",
       "                        <td id=\"T_b40a03a2_04b8_11eb_9aa6_701ce71031efrow1_col6\" class=\"data row1 col6\" >6.65%</td>\n",
       "            </tr>\n",
       "            <tr>\n",
       "                                <td id=\"T_b40a03a2_04b8_11eb_9aa6_701ce71031efrow2_col0\" class=\"data row2 col0\" >3_5</td>\n",
       "                        <td id=\"T_b40a03a2_04b8_11eb_9aa6_701ce71031efrow2_col1\" class=\"data row2 col1\" >25180</td>\n",
       "                        <td id=\"T_b40a03a2_04b8_11eb_9aa6_701ce71031efrow2_col2\" class=\"data row2 col2\" >8500</td>\n",
       "                        <td id=\"T_b40a03a2_04b8_11eb_9aa6_701ce71031efrow2_col3\" class=\"data row2 col3\" >22375</td>\n",
       "                        <td id=\"T_b40a03a2_04b8_11eb_9aa6_701ce71031efrow2_col4\" class=\"data row2 col4\" >49500</td>\n",
       "                        <td id=\"T_b40a03a2_04b8_11eb_9aa6_701ce71031efrow2_col5\" class=\"data row2 col5\" >320</td>\n",
       "                        <td id=\"T_b40a03a2_04b8_11eb_9aa6_701ce71031efrow2_col6\" class=\"data row2 col6\" >26.27%</td>\n",
       "            </tr>\n",
       "            <tr>\n",
       "                                <td id=\"T_b40a03a2_04b8_11eb_9aa6_701ce71031efrow3_col0\" class=\"data row3 col0\" ></td>\n",
       "                        <td id=\"T_b40a03a2_04b8_11eb_9aa6_701ce71031efrow3_col1\" class=\"data row3 col1\" >17453</td>\n",
       "                        <td id=\"T_b40a03a2_04b8_11eb_9aa6_701ce71031efrow3_col2\" class=\"data row3 col2\" >3750</td>\n",
       "                        <td id=\"T_b40a03a2_04b8_11eb_9aa6_701ce71031efrow3_col3\" class=\"data row3 col3\" >12333</td>\n",
       "                        <td id=\"T_b40a03a2_04b8_11eb_9aa6_701ce71031efrow3_col4\" class=\"data row3 col4\" >59100</td>\n",
       "                        <td id=\"T_b40a03a2_04b8_11eb_9aa6_701ce71031efrow3_col5\" class=\"data row3 col5\" >315</td>\n",
       "                        <td id=\"T_b40a03a2_04b8_11eb_9aa6_701ce71031efrow3_col6\" class=\"data row3 col6\" >25.86%</td>\n",
       "            </tr>\n",
       "            <tr>\n",
       "                                <td id=\"T_b40a03a2_04b8_11eb_9aa6_701ce71031efrow4_col0\" class=\"data row4 col0\" >1_3</td>\n",
       "                        <td id=\"T_b40a03a2_04b8_11eb_9aa6_701ce71031efrow4_col1\" class=\"data row4 col1\" >16211</td>\n",
       "                        <td id=\"T_b40a03a2_04b8_11eb_9aa6_701ce71031efrow4_col2\" class=\"data row4 col2\" >5250</td>\n",
       "                        <td id=\"T_b40a03a2_04b8_11eb_9aa6_701ce71031efrow4_col3\" class=\"data row4 col3\" >12500</td>\n",
       "                        <td id=\"T_b40a03a2_04b8_11eb_9aa6_701ce71031efrow4_col4\" class=\"data row4 col4\" >45000</td>\n",
       "                        <td id=\"T_b40a03a2_04b8_11eb_9aa6_701ce71031efrow4_col5\" class=\"data row4 col5\" >497</td>\n",
       "                        <td id=\"T_b40a03a2_04b8_11eb_9aa6_701ce71031efrow4_col6\" class=\"data row4 col6\" >40.80%</td>\n",
       "            </tr>\n",
       "    </tbody></table>"
      ],
      "text/plain": [
       "<pandas.io.formats.style.Styler at 0x22e8c2b99d0>"
      ]
     },
     "execution_count": 45,
     "metadata": {},
     "output_type": "execute_result"
    }
   ],
   "source": [
    "data_experience=get_sub_stats_by_col(data, 'experience')\n",
    "apply_style(data_experience)"
   ]
  },
  {
   "cell_type": "code",
   "execution_count": 46,
   "metadata": {},
   "outputs": [],
   "source": [
    "salary_we_10=data[data.experience=='10+'].monthly_salary\n",
    "salary_we_5_10=data[data.experience=='5_10'].monthly_salary\n",
    "salary_we_3_5=data[data.experience=='3_5'].monthly_salary\n",
    "salary_we_1_3=data[data.experience=='1_3'].monthly_salary\n",
    "salary_we_no=data[data.experience=='no'].monthly_salary"
   ]
  },
  {
   "cell_type": "code",
   "execution_count": 47,
   "metadata": {},
   "outputs": [
    {
     "data": {
      "image/png": "[encoded data removed]",
      "text/plain": [
       "<Figure size 432x288 with 1 Axes>"
      ]
     },
     "metadata": {
      "needs_background": "light"
     },
     "output_type": "display_data"
    }
   ],
   "source": [
    "\n",
    "order=['10+','5_10','3_5','1_3']\n",
    "sns.boxplot(y='experience',x='monthly_salary',order=order,data=data[data.experience.isin(order)], orient='h')\n",
    "plt.annotate('https://github.com/juwikuang/job_survey', xy=(1.5,1.5), xytext=(1.55, 1.55))\n",
    "plt.show()"
   ]
  },
  {
   "cell_type": "code",
   "execution_count": null,
   "metadata": {},
   "outputs": [],
   "source": []
  }
 ],
 "metadata": {
  "kernelspec": {
   "display_name": "Python 3",
   "language": "python",
   "name": "python3"
  },
  "language_info": {
   "codemirror_mode": {
    "name": "ipython",
    "version": 3
   },
   "file_extension": ".py",
   "mimetype": "text/x-python",
   "name": "python",
   "nbconvert_exporter": "python",
   "pygments_lexer": "ipython3",
   "version": "3.8.3"
  }
 },
 "nbformat": 4,
 "nbformat_minor": 4
}
