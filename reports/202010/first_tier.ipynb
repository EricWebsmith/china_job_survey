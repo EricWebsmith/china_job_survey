{
 "cells": [
  {
   "cell_type": "code",
   "execution_count": 1,
   "metadata": {},
   "outputs": [],
   "source": [
    "from config import *"
   ]
  },
  {
   "cell_type": "code",
   "execution_count": 2,
   "metadata": {},
   "outputs": [
    {
     "name": "stdout",
     "output_type": "stream",
     "text": [
      "2020年10月\n"
     ]
    }
   ],
   "source": [
    "print(f'{year}年{month}月')"
   ]
  },
  {
   "cell_type": "markdown",
   "metadata": {},
   "source": [
    "# Developer Salary in First-Tier Cities 程序员工资调查\n",
    "我在4月1日到3日之间，抓取了某招聘网站的软件和互联网类招聘数据40万条，其中通过程序判断为程序员的14万条。地域方面，我选择了24个主要城市。不过本文只以一线城市为研究对象。这样是为了和我2017年6月的数据做对比。\n",
    "\n",
    "提到2017年的文章，现在居然还有很多人，把这篇文章拿出来炒作。对于社会来说，可气的是，他们直接把2017改成2019，就发表了，这不是骗人么？！对于我来说，可气的是，他们转载居然还冒充是原创，是可忍熟不可忍！"
   ]
  },
  {
   "cell_type": "code",
   "execution_count": 3,
   "metadata": {},
   "outputs": [],
   "source": [
    "import pandas as pd\n",
    "import sys\n",
    "sys.path.append('..')\n",
    "sys.path.append('../py')\n",
    "sys.path.append('../../py')\n",
    "import db\n",
    "import inspect\n",
    "import matplotlib.pyplot as plt\n",
    "plt.rcParams['font.sans-serif']=['Microsoft YaHei'] #用来正常显示中文标签\n",
    "plt.rcParams['axes.unicode_minus']=False #用来正常显示负号\n",
    "import seaborn as sns\n",
    "import scipy.stats as stats\n",
    "import numpy as np\n",
    "import weighted\n",
    "%matplotlib inline"
   ]
  },
  {
   "cell_type": "code",
   "execution_count": 4,
   "metadata": {},
   "outputs": [],
   "source": [
    "conn=db.get_conn()\n",
    "data_original=pd.read_sql(sql=f\"select * from jobs where year_month= {year}{month:02} and monthly_salary>0 and city in ('北京','上海','广州','深圳')  and monthly_salary<80000\", con=conn)\n",
    "conn.close()"
   ]
  },
  {
   "cell_type": "code",
   "execution_count": 5,
   "metadata": {},
   "outputs": [],
   "source": [
    "data=data_original"
   ]
  },
  {
   "cell_type": "code",
   "execution_count": 6,
   "metadata": {},
   "outputs": [],
   "source": [
    "#del data['publish_date']\n",
    "#del data['published_on_weekend']\n",
    "#del data['title']\n",
    "#del data['title']\n",
    "#del data['company_title']\n",
    "#del data['company_description']\n",
    "#del data['job_description']\n",
    "#del data['job_id']"
   ]
  },
  {
   "cell_type": "code",
   "execution_count": 7,
   "metadata": {},
   "outputs": [
    {
     "data": {
      "text/html": [
       "<div>\n",
       "<style scoped>\n",
       "    .dataframe tbody tr th:only-of-type {\n",
       "        vertical-align: middle;\n",
       "    }\n",
       "\n",
       "    .dataframe tbody tr th {\n",
       "        vertical-align: top;\n",
       "    }\n",
       "\n",
       "    .dataframe thead th {\n",
       "        text-align: right;\n",
       "    }\n",
       "</style>\n",
       "<table border=\"1\" class=\"dataframe\">\n",
       "  <thead>\n",
       "    <tr style=\"text-align: right;\">\n",
       "      <th></th>\n",
       "      <th>job_id</th>\n",
       "      <th>year_month</th>\n",
       "      <th>monthly_salary</th>\n",
       "      <th>headcount</th>\n",
       "      <th>title</th>\n",
       "      <th>page_title</th>\n",
       "      <th>zhinengleibie</th>\n",
       "      <th>career</th>\n",
       "      <th>city</th>\n",
       "      <th>province</th>\n",
       "      <th>...</th>\n",
       "      <th>bd_hbase</th>\n",
       "      <th>bd_storm</th>\n",
       "      <th>bd_pig</th>\n",
       "      <th>bd_mahout</th>\n",
       "      <th>bd_impala</th>\n",
       "      <th>bd_yarn</th>\n",
       "      <th>bd_alluxio</th>\n",
       "      <th>bd_flink</th>\n",
       "      <th>bd_presto</th>\n",
       "      <th>bd_heron</th>\n",
       "    </tr>\n",
       "  </thead>\n",
       "  <tbody>\n",
       "    <tr>\n",
       "      <th>41661</th>\n",
       "      <td>124606324</td>\n",
       "      <td>202010</td>\n",
       "      <td>19000</td>\n",
       "      <td>100</td>\n",
       "      <td>中高级java开发工程师</td>\n",
       "      <td>【深圳-南山区中高级java开发工程师_中高级java开发工程师招聘_天阳宏业科技股份有限公...</td>\n",
       "      <td>Java开发工程师</td>\n",
       "      <td>软件工程师</td>\n",
       "      <td>深圳</td>\n",
       "      <td>广东</td>\n",
       "      <td>...</td>\n",
       "      <td>False</td>\n",
       "      <td>False</td>\n",
       "      <td>False</td>\n",
       "      <td>False</td>\n",
       "      <td>False</td>\n",
       "      <td>False</td>\n",
       "      <td>False</td>\n",
       "      <td>False</td>\n",
       "      <td>False</td>\n",
       "      <td>False</td>\n",
       "    </tr>\n",
       "    <tr>\n",
       "      <th>33679</th>\n",
       "      <td>123677205</td>\n",
       "      <td>202010</td>\n",
       "      <td>12500</td>\n",
       "      <td>100</td>\n",
       "      <td>通讯算法工程师</td>\n",
       "      <td>【上海-松江区通讯算法工程师_通讯算法工程师招聘_上海知掘教育科技有限公司】-前程无忧官方招聘网站</td>\n",
       "      <td>算法工程师</td>\n",
       "      <td>算法工程师</td>\n",
       "      <td>上海</td>\n",
       "      <td>上海</td>\n",
       "      <td>...</td>\n",
       "      <td>False</td>\n",
       "      <td>False</td>\n",
       "      <td>False</td>\n",
       "      <td>False</td>\n",
       "      <td>False</td>\n",
       "      <td>False</td>\n",
       "      <td>False</td>\n",
       "      <td>False</td>\n",
       "      <td>False</td>\n",
       "      <td>False</td>\n",
       "    </tr>\n",
       "    <tr>\n",
       "      <th>10533</th>\n",
       "      <td>117792359</td>\n",
       "      <td>202010</td>\n",
       "      <td>12500</td>\n",
       "      <td>100</td>\n",
       "      <td>Java中级软件工程师</td>\n",
       "      <td>【北京-海淀区Java中级软件工程师_Java中级软件工程师招聘_长城计算机软件与系统有限公...</td>\n",
       "      <td>软件工程师</td>\n",
       "      <td>软件工程师</td>\n",
       "      <td>北京</td>\n",
       "      <td>北京</td>\n",
       "      <td>...</td>\n",
       "      <td>False</td>\n",
       "      <td>False</td>\n",
       "      <td>False</td>\n",
       "      <td>False</td>\n",
       "      <td>False</td>\n",
       "      <td>False</td>\n",
       "      <td>False</td>\n",
       "      <td>False</td>\n",
       "      <td>False</td>\n",
       "      <td>False</td>\n",
       "    </tr>\n",
       "    <tr>\n",
       "      <th>22410</th>\n",
       "      <td>121783038</td>\n",
       "      <td>202010</td>\n",
       "      <td>4750</td>\n",
       "      <td>100</td>\n",
       "      <td>储备干部（技术和管理方向）</td>\n",
       "      <td>【深圳-龙岗区储备干部（技术和管理方向）_储备干部（技术和管理方向）招聘_深圳双十科技有限公...</td>\n",
       "      <td>机器视觉工程师</td>\n",
       "      <td>机器视觉工程师</td>\n",
       "      <td>深圳</td>\n",
       "      <td>广东</td>\n",
       "      <td>...</td>\n",
       "      <td>False</td>\n",
       "      <td>False</td>\n",
       "      <td>False</td>\n",
       "      <td>False</td>\n",
       "      <td>False</td>\n",
       "      <td>False</td>\n",
       "      <td>False</td>\n",
       "      <td>False</td>\n",
       "      <td>False</td>\n",
       "      <td>False</td>\n",
       "    </tr>\n",
       "    <tr>\n",
       "      <th>39490</th>\n",
       "      <td>124354454</td>\n",
       "      <td>202010</td>\n",
       "      <td>20000</td>\n",
       "      <td>100</td>\n",
       "      <td>中高级java工程师（银行核心项目）</td>\n",
       "      <td>【上海-浦东新区中高级java工程师（银行核心项目）_中高级java工程师（银行核心项目）招...</td>\n",
       "      <td>Java开发工程师</td>\n",
       "      <td>软件工程师</td>\n",
       "      <td>上海</td>\n",
       "      <td>上海</td>\n",
       "      <td>...</td>\n",
       "      <td>False</td>\n",
       "      <td>False</td>\n",
       "      <td>False</td>\n",
       "      <td>False</td>\n",
       "      <td>False</td>\n",
       "      <td>False</td>\n",
       "      <td>False</td>\n",
       "      <td>False</td>\n",
       "      <td>False</td>\n",
       "      <td>False</td>\n",
       "    </tr>\n",
       "  </tbody>\n",
       "</table>\n",
       "<p>5 rows × 118 columns</p>\n",
       "</div>"
      ],
      "text/plain": [
       "          job_id  year_month  monthly_salary  headcount               title  \\\n",
       "41661  124606324      202010           19000        100        中高级java开发工程师   \n",
       "33679  123677205      202010           12500        100             通讯算法工程师   \n",
       "10533  117792359      202010           12500        100         Java中级软件工程师   \n",
       "22410  121783038      202010            4750        100       储备干部（技术和管理方向）   \n",
       "39490  124354454      202010           20000        100  中高级java工程师（银行核心项目）   \n",
       "\n",
       "                                              page_title zhinengleibie  \\\n",
       "41661  【深圳-南山区中高级java开发工程师_中高级java开发工程师招聘_天阳宏业科技股份有限公...     Java开发工程师   \n",
       "33679  【上海-松江区通讯算法工程师_通讯算法工程师招聘_上海知掘教育科技有限公司】-前程无忧官方招聘网站         算法工程师   \n",
       "10533  【北京-海淀区Java中级软件工程师_Java中级软件工程师招聘_长城计算机软件与系统有限公...         软件工程师   \n",
       "22410  【深圳-龙岗区储备干部（技术和管理方向）_储备干部（技术和管理方向）招聘_深圳双十科技有限公...       机器视觉工程师   \n",
       "39490  【上海-浦东新区中高级java工程师（银行核心项目）_中高级java工程师（银行核心项目）招...     Java开发工程师   \n",
       "\n",
       "        career city province  ... bd_hbase  bd_storm  bd_pig  bd_mahout  \\\n",
       "41661    软件工程师   深圳       广东  ...    False     False   False      False   \n",
       "33679    算法工程师   上海       上海  ...    False     False   False      False   \n",
       "10533    软件工程师   北京       北京  ...    False     False   False      False   \n",
       "22410  机器视觉工程师   深圳       广东  ...    False     False   False      False   \n",
       "39490    软件工程师   上海       上海  ...    False     False   False      False   \n",
       "\n",
       "       bd_impala  bd_yarn  bd_alluxio  bd_flink  bd_presto  bd_heron  \n",
       "41661      False    False       False     False      False     False  \n",
       "33679      False    False       False     False      False     False  \n",
       "10533      False    False       False     False      False     False  \n",
       "22410      False    False       False     False      False     False  \n",
       "39490      False    False       False     False      False     False  \n",
       "\n",
       "[5 rows x 118 columns]"
      ]
     },
     "execution_count": 7,
     "metadata": {},
     "output_type": "execute_result"
    }
   ],
   "source": [
    "data=data.sort_values(by='headcount', ascending=False)\n",
    "data.head()"
   ]
  },
  {
   "cell_type": "code",
   "execution_count": 8,
   "metadata": {},
   "outputs": [],
   "source": [
    "def pd_weighted_mean(group, avg_name, weight_name):\n",
    "    \"\"\" http://stackoverflow.com/questions/10951341/pandas-dataframe-aggregate-function-using-multiple-columns\n",
    "    In rare instance, we may not have weights, so just return the mean. Customize this if your business case\n",
    "    should return otherwise.\n",
    "    \"\"\"\n",
    "    d = group[avg_name]\n",
    "    w = group[weight_name]\n",
    "    try:\n",
    "        return (d * w).sum() / w.sum()\n",
    "    except ZeroDivisionError:\n",
    "        return d.mean()\n"
   ]
  },
  {
   "cell_type": "markdown",
   "metadata": {},
   "source": [
    "# Unilateral Stats 总体统计"
   ]
  },
  {
   "cell_type": "markdown",
   "metadata": {},
   "source": [
    "有数据可知，程序员向一线城市集中的趋势非常明显。\n",
    "\n",
    "According to the statistics, significant amount of developers are in the first tier cities."
   ]
  },
  {
   "cell_type": "code",
   "execution_count": 9,
   "metadata": {},
   "outputs": [
    {
     "data": {
      "text/plain": [
       "(60661, 118)"
      ]
     },
     "execution_count": 9,
     "metadata": {},
     "output_type": "execute_result"
    }
   ],
   "source": [
    "data.shape"
   ]
  },
  {
   "cell_type": "code",
   "execution_count": 10,
   "metadata": {},
   "outputs": [
    {
     "data": {
      "text/plain": [
       "176017"
      ]
     },
     "execution_count": 10,
     "metadata": {},
     "output_type": "execute_result"
    }
   ],
   "source": [
    "data.headcount.sum()"
   ]
  },
  {
   "cell_type": "code",
   "execution_count": 11,
   "metadata": {},
   "outputs": [
    {
     "data": {
      "text/plain": [
       "array([ 6500., 12500., 15000., 20000., 37500.])"
      ]
     },
     "execution_count": 11,
     "metadata": {},
     "output_type": "execute_result"
    }
   ],
   "source": [
    "salary_mean=weighted.weighted_mean(data.monthly_salary.values, data.headcount.values)\n",
    "q=weighted.weighted_quantile(data.monthly_salary.values,[0.025,0.25,0.5,0.75,0.975], data.headcount.values)\n",
    "q"
   ]
  },
  {
   "cell_type": "code",
   "execution_count": 12,
   "metadata": {},
   "outputs": [
    {
     "name": "stdout",
     "output_type": "stream",
     "text": [
      "2020年10月中国一线城市程序员的平均工资为16958元，工资中位数为15000元，其中95%的人的工资位于6500到37500元之间。\n"
     ]
    }
   ],
   "source": [
    "print(f'{year}年{month}月中国一线城市程序员的平均工资为{salary_mean:.0f}元，工资中位数为{q[2]:.0f}元，其中95%的人的工资位于{q[0]:.0f}到{q[4]:.0f}元之间。')"
   ]
  },
  {
   "cell_type": "code",
   "execution_count": 13,
   "metadata": {},
   "outputs": [
    {
     "name": "stdout",
     "output_type": "stream",
     "text": [
      "In 2020, Developers in China earn 16958 Yuan as average, the median is 15000 Yuan, 95% of them earn between 6500 and 37500 Yuan.\n"
     ]
    }
   ],
   "source": [
    "print(f'In {year}, Developers in China earn {salary_mean:.0f} Yuan as average, '\n",
    "      f'the median is {q[2]:.0f} Yuan, 95% of them earn between {q[0]:.0f} and {q[4]:.0f} Yuan.')"
   ]
  },
  {
   "cell_type": "code",
   "execution_count": 14,
   "metadata": {},
   "outputs": [
    {
     "data": {
      "image/png": "[encoded data removed]",
      "text/plain": [
       "<Figure size 432x288 with 1 Axes>"
      ]
     },
     "metadata": {
      "needs_background": "light"
     },
     "output_type": "display_data"
    }
   ],
   "source": [
    "data.monthly_salary.hist()\n",
    "plt.show()"
   ]
  },
  {
   "cell_type": "markdown",
   "metadata": {},
   "source": [
    "It does not look like normal distribution."
   ]
  },
  {
   "cell_type": "code",
   "execution_count": 15,
   "metadata": {},
   "outputs": [],
   "source": [
    "from scipy import stats"
   ]
  },
  {
   "cell_type": "code",
   "execution_count": 16,
   "metadata": {},
   "outputs": [
    {
     "data": {
      "text/plain": [
       "NormaltestResult(statistic=21340.63051981668, pvalue=0.0)"
      ]
     },
     "execution_count": 16,
     "metadata": {},
     "output_type": "execute_result"
    }
   ],
   "source": [
    "stats.normaltest(data.monthly_salary)"
   ]
  },
  {
   "cell_type": "markdown",
   "metadata": {},
   "source": [
    "null hypothesis: x comes from a normal distribution\n",
    "    \n",
    "p=0\n",
    "\n",
    "The null hypothesis can be rejected\n",
    "\n",
    "conclusion: data is not normally distributed."
   ]
  },
  {
   "cell_type": "markdown",
   "metadata": {},
   "source": [
    "Zoom in"
   ]
  },
  {
   "cell_type": "code",
   "execution_count": 17,
   "metadata": {},
   "outputs": [
    {
     "data": {
      "image/png": "[encoded data removed]",
      "text/plain": [
       "<Figure size 432x288 with 1 Axes>"
      ]
     },
     "metadata": {
      "needs_background": "light"
     },
     "output_type": "display_data"
    }
   ],
   "source": [
    "data[data.monthly_salary<40000].monthly_salary.hist()\n",
    "plt.annotate('https://github.com/juwikuang/job_survey', xy=(0,0), xytext=(2000, 100), color='white')\n",
    "plt.show()"
   ]
  },
  {
   "cell_type": "markdown",
   "metadata": {},
   "source": [
    "## Role 角色"
   ]
  },
  {
   "cell_type": "code",
   "execution_count": 18,
   "metadata": {},
   "outputs": [],
   "source": [
    "#Common Functions\n",
    "def get_sub_stats_by_col(data, col):\n",
    "    categories=data[col].unique()\n",
    "    salary_mean=[]\n",
    "    salary_95_min=[]\n",
    "    salary_95_max=[]\n",
    "    salary_median=[]\n",
    "    \n",
    "\n",
    "    count=[]\n",
    "    \n",
    "    categorys_out=[]\n",
    "    for category in categories:\n",
    "        #print(feature)\n",
    "        idata=data[data[col]==category]\n",
    "        headcount=idata.headcount.sum()\n",
    "        values = idata.monthly_salary.values\n",
    "        weights = idata.headcount.values\n",
    "        #print(str(headcount))\n",
    "        if headcount==0:\n",
    "            continue\n",
    "        \n",
    "        salary_mean.append(np.average(values, weights=weights))\n",
    "        \n",
    "\n",
    "        q = weighted.weighted_quantile(values,[0.025,0.5,0.975],weights)\n",
    "        salary_95_min.append(q[0])\n",
    "        salary_median.append(q[1])\n",
    "        salary_95_max.append(q[2])\n",
    "        count.append(idata.headcount.sum())\n",
    "        categorys_out.append(category)\n",
    "    sub_data=pd.DataFrame()\n",
    "    sub_data[col]=[c for c in categorys_out]\n",
    "    sub_data['salary_mean']=salary_mean\n",
    "    sub_data['salary_95_min']=salary_95_min\n",
    "    sub_data['salary_median']=salary_median\n",
    "    sub_data['salary_95_max']=salary_95_max\n",
    "    sub_data['head_count']=count\n",
    "    sub_data['percentage']=count/np.sum(count)\n",
    "    sub_data=sub_data.sort_values(by='salary_mean', ascending=False)\n",
    "\n",
    "    return sub_data\n",
    "\n",
    "def get_sub_stats_by_prefix(data, prefix):\n",
    "    \n",
    "    features = [feature for feature in data.columns if feature.startswith(prefix)]\n",
    "    salary_mean=[]\n",
    "    salary_median=[]\n",
    "    salary_95_min=[]\n",
    "    salary_95_max=[]\n",
    "    count=[]\n",
    "    \n",
    "    features_out=[]\n",
    "    for feature in features:\n",
    "        #print(feature)\n",
    "        idata=data[data[feature]==1]\n",
    "        headcount=idata.headcount.sum()\n",
    "        values = idata.monthly_salary.values\n",
    "        weights = idata.headcount.values\n",
    "        #print(str(headcount))\n",
    "        if headcount==0:\n",
    "            continue\n",
    "        \n",
    "        salary_mean.append(weighted.weighted_mean(values, weights))\n",
    "        q = weighted.weighted_quantile(values,[0.025,0.5,0.975],weights)\n",
    "        salary_median.append(q[1])\n",
    "        salary_95_min.append(q[0])\n",
    "        salary_95_max.append(q[2])\n",
    "        count.append(idata.headcount.sum())\n",
    "        features_out.append(feature)\n",
    "    sub_data=pd.DataFrame()\n",
    "    sub_data['rank']=range(0,len(features_out))\n",
    "    sub_data[prefix]=[f.replace(prefix,'') for f in features_out]\n",
    "    sub_data['salary_mean']=salary_mean\n",
    "    sub_data['salary_median']=salary_median\n",
    "    sub_data['salary_95_min']=salary_95_min\n",
    "    sub_data['salary_95_max']=salary_95_max\n",
    "    sub_data['head_count']=count\n",
    "    sub_data['percentage']=count/np.sum(count)\n",
    "    sub_data=sub_data.sort_values(by='salary_mean', ascending=False)\n",
    "    sub_data['rank']=range(1,len(features_out)+1)\n",
    "    #sub_data=sub_data.reset_index()\n",
    "    return sub_data\n",
    "\n",
    "def apply_style(sub_data):\n",
    "    return sub_data.style.hide_index().format(\n",
    "    {\"salary_mean\":\"{:.0f}\",\"salary_median\":\"{:.0f}\",\"salary_95_min\":\"{:.0f}\",\"salary_95_max\":\"{:.0f}\",\"percentage\":\"{:.2%}\"})"
   ]
  },
  {
   "cell_type": "code",
   "execution_count": 19,
   "metadata": {},
   "outputs": [
    {
     "data": {
      "text/html": [
       "<style  type=\"text/css\" >\n",
       "</style><table id=\"T_63cd32ab_049f_11eb_8f12_701ce71031ef\" ><thead>    <tr>        <th class=\"blank level0\" ></th>        <th class=\"col_heading level0 col0\" >career</th>        <th class=\"col_heading level0 col1\" >salary_mean</th>        <th class=\"col_heading level0 col2\" >salary_95_min</th>        <th class=\"col_heading level0 col3\" >salary_median</th>        <th class=\"col_heading level0 col4\" >salary_95_max</th>        <th class=\"col_heading level0 col5\" >head_count</th>        <th class=\"col_heading level0 col6\" >percentage</th>    </tr></thead><tbody>\n",
       "                <tr>\n",
       "                        <th id=\"T_63cd32ab_049f_11eb_8f12_701ce71031eflevel0_row0\" class=\"row_heading level0 row0\" >59</th>\n",
       "                        <td id=\"T_63cd32ab_049f_11eb_8f12_701ce71031efrow0_col0\" class=\"data row0 col0\" >编译器开发工程师</td>\n",
       "                        <td id=\"T_63cd32ab_049f_11eb_8f12_701ce71031efrow0_col1\" class=\"data row0 col1\" >38646</td>\n",
       "                        <td id=\"T_63cd32ab_049f_11eb_8f12_701ce71031efrow0_col2\" class=\"data row0 col2\" >22667</td>\n",
       "                        <td id=\"T_63cd32ab_049f_11eb_8f12_701ce71031efrow0_col3\" class=\"data row0 col3\" >37500</td>\n",
       "                        <td id=\"T_63cd32ab_049f_11eb_8f12_701ce71031efrow0_col4\" class=\"data row0 col4\" >54166</td>\n",
       "                        <td id=\"T_63cd32ab_049f_11eb_8f12_701ce71031efrow0_col5\" class=\"data row0 col5\" >24</td>\n",
       "                        <td id=\"T_63cd32ab_049f_11eb_8f12_701ce71031efrow0_col6\" class=\"data row0 col6\" >0.01%</td>\n",
       "            </tr>\n",
       "            <tr>\n",
       "                        <th id=\"T_63cd32ab_049f_11eb_8f12_701ce71031eflevel0_row1\" class=\"row_heading level0 row1\" >62</th>\n",
       "                        <td id=\"T_63cd32ab_049f_11eb_8f12_701ce71031efrow1_col0\" class=\"data row1 col0\" >反作弊算法工程师</td>\n",
       "                        <td id=\"T_63cd32ab_049f_11eb_8f12_701ce71031efrow1_col1\" class=\"data row1 col1\" >36875</td>\n",
       "                        <td id=\"T_63cd32ab_049f_11eb_8f12_701ce71031efrow1_col2\" class=\"data row1 col2\" >35000</td>\n",
       "                        <td id=\"T_63cd32ab_049f_11eb_8f12_701ce71031efrow1_col3\" class=\"data row1 col3\" >36750</td>\n",
       "                        <td id=\"T_63cd32ab_049f_11eb_8f12_701ce71031efrow1_col4\" class=\"data row1 col4\" >40000</td>\n",
       "                        <td id=\"T_63cd32ab_049f_11eb_8f12_701ce71031efrow1_col5\" class=\"data row1 col5\" >12</td>\n",
       "                        <td id=\"T_63cd32ab_049f_11eb_8f12_701ce71031efrow1_col6\" class=\"data row1 col6\" >0.01%</td>\n",
       "            </tr>\n",
       "            <tr>\n",
       "                        <th id=\"T_63cd32ab_049f_11eb_8f12_701ce71031eflevel0_row2\" class=\"row_heading level0 row2\" >58</th>\n",
       "                        <td id=\"T_63cd32ab_049f_11eb_8f12_701ce71031efrow2_col0\" class=\"data row2 col0\" >芯片</td>\n",
       "                        <td id=\"T_63cd32ab_049f_11eb_8f12_701ce71031efrow2_col1\" class=\"data row2 col1\" >34873</td>\n",
       "                        <td id=\"T_63cd32ab_049f_11eb_8f12_701ce71031efrow2_col2\" class=\"data row2 col2\" >12500</td>\n",
       "                        <td id=\"T_63cd32ab_049f_11eb_8f12_701ce71031efrow2_col3\" class=\"data row2 col3\" >28124</td>\n",
       "                        <td id=\"T_63cd32ab_049f_11eb_8f12_701ce71031efrow2_col4\" class=\"data row2 col4\" >62500</td>\n",
       "                        <td id=\"T_63cd32ab_049f_11eb_8f12_701ce71031efrow2_col5\" class=\"data row2 col5\" >53</td>\n",
       "                        <td id=\"T_63cd32ab_049f_11eb_8f12_701ce71031efrow2_col6\" class=\"data row2 col6\" >0.03%</td>\n",
       "            </tr>\n",
       "            <tr>\n",
       "                        <th id=\"T_63cd32ab_049f_11eb_8f12_701ce71031eflevel0_row3\" class=\"row_heading level0 row3\" >27</th>\n",
       "                        <td id=\"T_63cd32ab_049f_11eb_8f12_701ce71031efrow3_col0\" class=\"data row3 col0\" >推荐算法工程师</td>\n",
       "                        <td id=\"T_63cd32ab_049f_11eb_8f12_701ce71031efrow3_col1\" class=\"data row3 col1\" >34636</td>\n",
       "                        <td id=\"T_63cd32ab_049f_11eb_8f12_701ce71031efrow3_col2\" class=\"data row3 col2\" >16388</td>\n",
       "                        <td id=\"T_63cd32ab_049f_11eb_8f12_701ce71031efrow3_col3\" class=\"data row3 col3\" >35000</td>\n",
       "                        <td id=\"T_63cd32ab_049f_11eb_8f12_701ce71031efrow3_col4\" class=\"data row3 col4\" >57929</td>\n",
       "                        <td id=\"T_63cd32ab_049f_11eb_8f12_701ce71031efrow3_col5\" class=\"data row3 col5\" >171</td>\n",
       "                        <td id=\"T_63cd32ab_049f_11eb_8f12_701ce71031efrow3_col6\" class=\"data row3 col6\" >0.10%</td>\n",
       "            </tr>\n",
       "            <tr>\n",
       "                        <th id=\"T_63cd32ab_049f_11eb_8f12_701ce71031eflevel0_row4\" class=\"row_heading level0 row4\" >6</th>\n",
       "                        <td id=\"T_63cd32ab_049f_11eb_8f12_701ce71031efrow4_col0\" class=\"data row4 col0\" >架构师</td>\n",
       "                        <td id=\"T_63cd32ab_049f_11eb_8f12_701ce71031efrow4_col1\" class=\"data row4 col1\" >30481</td>\n",
       "                        <td id=\"T_63cd32ab_049f_11eb_8f12_701ce71031efrow4_col2\" class=\"data row4 col2\" >12500</td>\n",
       "                        <td id=\"T_63cd32ab_049f_11eb_8f12_701ce71031efrow4_col3\" class=\"data row4 col3\" >29166</td>\n",
       "                        <td id=\"T_63cd32ab_049f_11eb_8f12_701ce71031efrow4_col4\" class=\"data row4 col4\" >55000</td>\n",
       "                        <td id=\"T_63cd32ab_049f_11eb_8f12_701ce71031efrow4_col5\" class=\"data row4 col5\" >3998</td>\n",
       "                        <td id=\"T_63cd32ab_049f_11eb_8f12_701ce71031efrow4_col6\" class=\"data row4 col6\" >2.27%</td>\n",
       "            </tr>\n",
       "            <tr>\n",
       "                        <th id=\"T_63cd32ab_049f_11eb_8f12_701ce71031eflevel0_row5\" class=\"row_heading level0 row5\" >45</th>\n",
       "                        <td id=\"T_63cd32ab_049f_11eb_8f12_701ce71031efrow5_col0\" class=\"data row5 col0\" >搜索算法工程师</td>\n",
       "                        <td id=\"T_63cd32ab_049f_11eb_8f12_701ce71031efrow5_col1\" class=\"data row5 col1\" >29926</td>\n",
       "                        <td id=\"T_63cd32ab_049f_11eb_8f12_701ce71031efrow5_col2\" class=\"data row5 col2\" >15064</td>\n",
       "                        <td id=\"T_63cd32ab_049f_11eb_8f12_701ce71031efrow5_col3\" class=\"data row5 col3\" >25000</td>\n",
       "                        <td id=\"T_63cd32ab_049f_11eb_8f12_701ce71031efrow5_col4\" class=\"data row5 col4\" >75000</td>\n",
       "                        <td id=\"T_63cd32ab_049f_11eb_8f12_701ce71031efrow5_col5\" class=\"data row5 col5\" >74</td>\n",
       "                        <td id=\"T_63cd32ab_049f_11eb_8f12_701ce71031efrow5_col6\" class=\"data row5 col6\" >0.04%</td>\n",
       "            </tr>\n",
       "            <tr>\n",
       "                        <th id=\"T_63cd32ab_049f_11eb_8f12_701ce71031eflevel0_row6\" class=\"row_heading level0 row6\" >60</th>\n",
       "                        <td id=\"T_63cd32ab_049f_11eb_8f12_701ce71031efrow6_col0\" class=\"data row6 col0\" >SLAM</td>\n",
       "                        <td id=\"T_63cd32ab_049f_11eb_8f12_701ce71031efrow6_col1\" class=\"data row6 col1\" >29773</td>\n",
       "                        <td id=\"T_63cd32ab_049f_11eb_8f12_701ce71031efrow6_col2\" class=\"data row6 col2\" >27500</td>\n",
       "                        <td id=\"T_63cd32ab_049f_11eb_8f12_701ce71031efrow6_col3\" class=\"data row6 col3\" >30000</td>\n",
       "                        <td id=\"T_63cd32ab_049f_11eb_8f12_701ce71031efrow6_col4\" class=\"data row6 col4\" >30000</td>\n",
       "                        <td id=\"T_63cd32ab_049f_11eb_8f12_701ce71031efrow6_col5\" class=\"data row6 col5\" >11</td>\n",
       "                        <td id=\"T_63cd32ab_049f_11eb_8f12_701ce71031efrow6_col6\" class=\"data row6 col6\" >0.01%</td>\n",
       "            </tr>\n",
       "            <tr>\n",
       "                        <th id=\"T_63cd32ab_049f_11eb_8f12_701ce71031eflevel0_row7\" class=\"row_heading level0 row7\" >52</th>\n",
       "                        <td id=\"T_63cd32ab_049f_11eb_8f12_701ce71031efrow7_col0\" class=\"data row7 col0\" >CTO</td>\n",
       "                        <td id=\"T_63cd32ab_049f_11eb_8f12_701ce71031efrow7_col1\" class=\"data row7 col1\" >29180</td>\n",
       "                        <td id=\"T_63cd32ab_049f_11eb_8f12_701ce71031efrow7_col2\" class=\"data row7 col2\" >8000</td>\n",
       "                        <td id=\"T_63cd32ab_049f_11eb_8f12_701ce71031efrow7_col3\" class=\"data row7 col3\" >25000</td>\n",
       "                        <td id=\"T_63cd32ab_049f_11eb_8f12_701ce71031efrow7_col4\" class=\"data row7 col4\" >64917</td>\n",
       "                        <td id=\"T_63cd32ab_049f_11eb_8f12_701ce71031efrow7_col5\" class=\"data row7 col5\" >64</td>\n",
       "                        <td id=\"T_63cd32ab_049f_11eb_8f12_701ce71031efrow7_col6\" class=\"data row7 col6\" >0.04%</td>\n",
       "            </tr>\n",
       "            <tr>\n",
       "                        <th id=\"T_63cd32ab_049f_11eb_8f12_701ce71031eflevel0_row8\" class=\"row_heading level0 row8\" >44</th>\n",
       "                        <td id=\"T_63cd32ab_049f_11eb_8f12_701ce71031efrow8_col0\" class=\"data row8 col0\" >数据科学家</td>\n",
       "                        <td id=\"T_63cd32ab_049f_11eb_8f12_701ce71031efrow8_col1\" class=\"data row8 col1\" >27040</td>\n",
       "                        <td id=\"T_63cd32ab_049f_11eb_8f12_701ce71031efrow8_col2\" class=\"data row8 col2\" >8635</td>\n",
       "                        <td id=\"T_63cd32ab_049f_11eb_8f12_701ce71031efrow8_col3\" class=\"data row8 col3\" >27500</td>\n",
       "                        <td id=\"T_63cd32ab_049f_11eb_8f12_701ce71031efrow8_col4\" class=\"data row8 col4\" >49882</td>\n",
       "                        <td id=\"T_63cd32ab_049f_11eb_8f12_701ce71031efrow8_col5\" class=\"data row8 col5\" >167</td>\n",
       "                        <td id=\"T_63cd32ab_049f_11eb_8f12_701ce71031efrow8_col6\" class=\"data row8 col6\" >0.09%</td>\n",
       "            </tr>\n",
       "            <tr>\n",
       "                        <th id=\"T_63cd32ab_049f_11eb_8f12_701ce71031eflevel0_row9\" class=\"row_heading level0 row9\" >33</th>\n",
       "                        <td id=\"T_63cd32ab_049f_11eb_8f12_701ce71031efrow9_col0\" class=\"data row9 col0\" >自然语言处理（NLP）</td>\n",
       "                        <td id=\"T_63cd32ab_049f_11eb_8f12_701ce71031efrow9_col1\" class=\"data row9 col1\" >26434</td>\n",
       "                        <td id=\"T_63cd32ab_049f_11eb_8f12_701ce71031efrow9_col2\" class=\"data row9 col2\" >4500</td>\n",
       "                        <td id=\"T_63cd32ab_049f_11eb_8f12_701ce71031efrow9_col3\" class=\"data row9 col3\" >22500</td>\n",
       "                        <td id=\"T_63cd32ab_049f_11eb_8f12_701ce71031efrow9_col4\" class=\"data row9 col4\" >58042</td>\n",
       "                        <td id=\"T_63cd32ab_049f_11eb_8f12_701ce71031efrow9_col5\" class=\"data row9 col5\" >387</td>\n",
       "                        <td id=\"T_63cd32ab_049f_11eb_8f12_701ce71031efrow9_col6\" class=\"data row9 col6\" >0.22%</td>\n",
       "            </tr>\n",
       "            <tr>\n",
       "                        <th id=\"T_63cd32ab_049f_11eb_8f12_701ce71031eflevel0_row10\" class=\"row_heading level0 row10\" >40</th>\n",
       "                        <td id=\"T_63cd32ab_049f_11eb_8f12_701ce71031efrow10_col0\" class=\"data row10 col0\" >深度学习工程师</td>\n",
       "                        <td id=\"T_63cd32ab_049f_11eb_8f12_701ce71031efrow10_col1\" class=\"data row10 col1\" >25363</td>\n",
       "                        <td id=\"T_63cd32ab_049f_11eb_8f12_701ce71031efrow10_col2\" class=\"data row10 col2\" >7000</td>\n",
       "                        <td id=\"T_63cd32ab_049f_11eb_8f12_701ce71031efrow10_col3\" class=\"data row10 col3\" >25000</td>\n",
       "                        <td id=\"T_63cd32ab_049f_11eb_8f12_701ce71031efrow10_col4\" class=\"data row10 col4\" >55929</td>\n",
       "                        <td id=\"T_63cd32ab_049f_11eb_8f12_701ce71031efrow10_col5\" class=\"data row10 col5\" >354</td>\n",
       "                        <td id=\"T_63cd32ab_049f_11eb_8f12_701ce71031efrow10_col6\" class=\"data row10 col6\" >0.20%</td>\n",
       "            </tr>\n",
       "            <tr>\n",
       "                        <th id=\"T_63cd32ab_049f_11eb_8f12_701ce71031eflevel0_row11\" class=\"row_heading level0 row11\" >36</th>\n",
       "                        <td id=\"T_63cd32ab_049f_11eb_8f12_701ce71031efrow11_col0\" class=\"data row11 col0\" >机器学习</td>\n",
       "                        <td id=\"T_63cd32ab_049f_11eb_8f12_701ce71031efrow11_col1\" class=\"data row11 col1\" >25085</td>\n",
       "                        <td id=\"T_63cd32ab_049f_11eb_8f12_701ce71031efrow11_col2\" class=\"data row11 col2\" >7000</td>\n",
       "                        <td id=\"T_63cd32ab_049f_11eb_8f12_701ce71031efrow11_col3\" class=\"data row11 col3\" >21875</td>\n",
       "                        <td id=\"T_63cd32ab_049f_11eb_8f12_701ce71031efrow11_col4\" class=\"data row11 col4\" >59342</td>\n",
       "                        <td id=\"T_63cd32ab_049f_11eb_8f12_701ce71031efrow11_col5\" class=\"data row11 col5\" >699</td>\n",
       "                        <td id=\"T_63cd32ab_049f_11eb_8f12_701ce71031efrow11_col6\" class=\"data row11 col6\" >0.40%</td>\n",
       "            </tr>\n",
       "            <tr>\n",
       "                        <th id=\"T_63cd32ab_049f_11eb_8f12_701ce71031eflevel0_row12\" class=\"row_heading level0 row12\" >63</th>\n",
       "                        <td id=\"T_63cd32ab_049f_11eb_8f12_701ce71031efrow12_col0\" class=\"data row12 col0\" >敏捷教练</td>\n",
       "                        <td id=\"T_63cd32ab_049f_11eb_8f12_701ce71031efrow12_col1\" class=\"data row12 col1\" >23571</td>\n",
       "                        <td id=\"T_63cd32ab_049f_11eb_8f12_701ce71031efrow12_col2\" class=\"data row12 col2\" >22500</td>\n",
       "                        <td id=\"T_63cd32ab_049f_11eb_8f12_701ce71031efrow12_col3\" class=\"data row12 col3\" >23333</td>\n",
       "                        <td id=\"T_63cd32ab_049f_11eb_8f12_701ce71031efrow12_col4\" class=\"data row12 col4\" >27500</td>\n",
       "                        <td id=\"T_63cd32ab_049f_11eb_8f12_701ce71031efrow12_col5\" class=\"data row12 col5\" >7</td>\n",
       "                        <td id=\"T_63cd32ab_049f_11eb_8f12_701ce71031efrow12_col6\" class=\"data row12 col6\" >0.00%</td>\n",
       "            </tr>\n",
       "            <tr>\n",
       "                        <th id=\"T_63cd32ab_049f_11eb_8f12_701ce71031eflevel0_row13\" class=\"row_heading level0 row13\" >1</th>\n",
       "                        <td id=\"T_63cd32ab_049f_11eb_8f12_701ce71031efrow13_col0\" class=\"data row13 col0\" >算法工程师</td>\n",
       "                        <td id=\"T_63cd32ab_049f_11eb_8f12_701ce71031efrow13_col1\" class=\"data row13 col1\" >23537</td>\n",
       "                        <td id=\"T_63cd32ab_049f_11eb_8f12_701ce71031efrow13_col2\" class=\"data row13 col2\" >9000</td>\n",
       "                        <td id=\"T_63cd32ab_049f_11eb_8f12_701ce71031efrow13_col3\" class=\"data row13 col3\" >22500</td>\n",
       "                        <td id=\"T_63cd32ab_049f_11eb_8f12_701ce71031efrow13_col4\" class=\"data row13 col4\" >45441</td>\n",
       "                        <td id=\"T_63cd32ab_049f_11eb_8f12_701ce71031efrow13_col5\" class=\"data row13 col5\" >5087</td>\n",
       "                        <td id=\"T_63cd32ab_049f_11eb_8f12_701ce71031efrow13_col6\" class=\"data row13 col6\" >2.89%</td>\n",
       "            </tr>\n",
       "            <tr>\n",
       "                        <th id=\"T_63cd32ab_049f_11eb_8f12_701ce71031eflevel0_row14\" class=\"row_heading level0 row14\" >11</th>\n",
       "                        <td id=\"T_63cd32ab_049f_11eb_8f12_701ce71031efrow14_col0\" class=\"data row14 col0\" >系统架构设计师</td>\n",
       "                        <td id=\"T_63cd32ab_049f_11eb_8f12_701ce71031efrow14_col1\" class=\"data row14 col1\" >23101</td>\n",
       "                        <td id=\"T_63cd32ab_049f_11eb_8f12_701ce71031efrow14_col2\" class=\"data row14 col2\" >7500</td>\n",
       "                        <td id=\"T_63cd32ab_049f_11eb_8f12_701ce71031efrow14_col3\" class=\"data row14 col3\" >20000</td>\n",
       "                        <td id=\"T_63cd32ab_049f_11eb_8f12_701ce71031efrow14_col4\" class=\"data row14 col4\" >45000</td>\n",
       "                        <td id=\"T_63cd32ab_049f_11eb_8f12_701ce71031efrow14_col5\" class=\"data row14 col5\" >1583</td>\n",
       "                        <td id=\"T_63cd32ab_049f_11eb_8f12_701ce71031efrow14_col6\" class=\"data row14 col6\" >0.90%</td>\n",
       "            </tr>\n",
       "            <tr>\n",
       "                        <th id=\"T_63cd32ab_049f_11eb_8f12_701ce71031eflevel0_row15\" class=\"row_heading level0 row15\" >31</th>\n",
       "                        <td id=\"T_63cd32ab_049f_11eb_8f12_701ce71031efrow15_col0\" class=\"data row15 col0\" >图像算法工程师</td>\n",
       "                        <td id=\"T_63cd32ab_049f_11eb_8f12_701ce71031efrow15_col1\" class=\"data row15 col1\" >22939</td>\n",
       "                        <td id=\"T_63cd32ab_049f_11eb_8f12_701ce71031efrow15_col2\" class=\"data row15 col2\" >9000</td>\n",
       "                        <td id=\"T_63cd32ab_049f_11eb_8f12_701ce71031efrow15_col3\" class=\"data row15 col3\" >21500</td>\n",
       "                        <td id=\"T_63cd32ab_049f_11eb_8f12_701ce71031efrow15_col4\" class=\"data row15 col4\" >45000</td>\n",
       "                        <td id=\"T_63cd32ab_049f_11eb_8f12_701ce71031efrow15_col5\" class=\"data row15 col5\" >1182</td>\n",
       "                        <td id=\"T_63cd32ab_049f_11eb_8f12_701ce71031efrow15_col6\" class=\"data row15 col6\" >0.67%</td>\n",
       "            </tr>\n",
       "            <tr>\n",
       "                        <th id=\"T_63cd32ab_049f_11eb_8f12_701ce71031eflevel0_row16\" class=\"row_heading level0 row16\" >61</th>\n",
       "                        <td id=\"T_63cd32ab_049f_11eb_8f12_701ce71031efrow16_col0\" class=\"data row16 col0\" >ADAS</td>\n",
       "                        <td id=\"T_63cd32ab_049f_11eb_8f12_701ce71031efrow16_col1\" class=\"data row16 col1\" >22624</td>\n",
       "                        <td id=\"T_63cd32ab_049f_11eb_8f12_701ce71031efrow16_col2\" class=\"data row16 col2\" >13050</td>\n",
       "                        <td id=\"T_63cd32ab_049f_11eb_8f12_701ce71031efrow16_col3\" class=\"data row16 col3\" >23000</td>\n",
       "                        <td id=\"T_63cd32ab_049f_11eb_8f12_701ce71031efrow16_col4\" class=\"data row16 col4\" >30000</td>\n",
       "                        <td id=\"T_63cd32ab_049f_11eb_8f12_701ce71031efrow16_col5\" class=\"data row16 col5\" >31</td>\n",
       "                        <td id=\"T_63cd32ab_049f_11eb_8f12_701ce71031efrow16_col6\" class=\"data row16 col6\" >0.02%</td>\n",
       "            </tr>\n",
       "            <tr>\n",
       "                        <th id=\"T_63cd32ab_049f_11eb_8f12_701ce71031eflevel0_row17\" class=\"row_heading level0 row17\" >16</th>\n",
       "                        <td id=\"T_63cd32ab_049f_11eb_8f12_701ce71031efrow17_col0\" class=\"data row17 col0\" >分布式</td>\n",
       "                        <td id=\"T_63cd32ab_049f_11eb_8f12_701ce71031efrow17_col1\" class=\"data row17 col1\" >22024</td>\n",
       "                        <td id=\"T_63cd32ab_049f_11eb_8f12_701ce71031efrow17_col2\" class=\"data row17 col2\" >10500</td>\n",
       "                        <td id=\"T_63cd32ab_049f_11eb_8f12_701ce71031efrow17_col3\" class=\"data row17 col3\" >20700</td>\n",
       "                        <td id=\"T_63cd32ab_049f_11eb_8f12_701ce71031efrow17_col4\" class=\"data row17 col4\" >48187</td>\n",
       "                        <td id=\"T_63cd32ab_049f_11eb_8f12_701ce71031efrow17_col5\" class=\"data row17 col5\" >83</td>\n",
       "                        <td id=\"T_63cd32ab_049f_11eb_8f12_701ce71031efrow17_col6\" class=\"data row17 col6\" >0.05%</td>\n",
       "            </tr>\n",
       "            <tr>\n",
       "                        <th id=\"T_63cd32ab_049f_11eb_8f12_701ce71031eflevel0_row18\" class=\"row_heading level0 row18\" >22</th>\n",
       "                        <td id=\"T_63cd32ab_049f_11eb_8f12_701ce71031efrow18_col0\" class=\"data row18 col0\" >技术主管</td>\n",
       "                        <td id=\"T_63cd32ab_049f_11eb_8f12_701ce71031efrow18_col1\" class=\"data row18 col1\" >20676</td>\n",
       "                        <td id=\"T_63cd32ab_049f_11eb_8f12_701ce71031efrow18_col2\" class=\"data row18 col2\" >6500</td>\n",
       "                        <td id=\"T_63cd32ab_049f_11eb_8f12_701ce71031efrow18_col3\" class=\"data row18 col3\" >17500</td>\n",
       "                        <td id=\"T_63cd32ab_049f_11eb_8f12_701ce71031efrow18_col4\" class=\"data row18 col4\" >61000</td>\n",
       "                        <td id=\"T_63cd32ab_049f_11eb_8f12_701ce71031efrow18_col5\" class=\"data row18 col5\" >1004</td>\n",
       "                        <td id=\"T_63cd32ab_049f_11eb_8f12_701ce71031efrow18_col6\" class=\"data row18 col6\" >0.57%</td>\n",
       "            </tr>\n",
       "            <tr>\n",
       "                        <th id=\"T_63cd32ab_049f_11eb_8f12_701ce71031eflevel0_row19\" class=\"row_heading level0 row19\" >47</th>\n",
       "                        <td id=\"T_63cd32ab_049f_11eb_8f12_701ce71031efrow19_col0\" class=\"data row19 col0\" >DSP</td>\n",
       "                        <td id=\"T_63cd32ab_049f_11eb_8f12_701ce71031efrow19_col1\" class=\"data row19 col1\" >20586</td>\n",
       "                        <td id=\"T_63cd32ab_049f_11eb_8f12_701ce71031efrow19_col2\" class=\"data row19 col2\" >2168</td>\n",
       "                        <td id=\"T_63cd32ab_049f_11eb_8f12_701ce71031efrow19_col3\" class=\"data row19 col3\" >17833</td>\n",
       "                        <td id=\"T_63cd32ab_049f_11eb_8f12_701ce71031efrow19_col4\" class=\"data row19 col4\" >54166</td>\n",
       "                        <td id=\"T_63cd32ab_049f_11eb_8f12_701ce71031efrow19_col5\" class=\"data row19 col5\" >205</td>\n",
       "                        <td id=\"T_63cd32ab_049f_11eb_8f12_701ce71031efrow19_col6\" class=\"data row19 col6\" >0.12%</td>\n",
       "            </tr>\n",
       "            <tr>\n",
       "                        <th id=\"T_63cd32ab_049f_11eb_8f12_701ce71031eflevel0_row20\" class=\"row_heading level0 row20\" >19</th>\n",
       "                        <td id=\"T_63cd32ab_049f_11eb_8f12_701ce71031efrow20_col0\" class=\"data row20 col0\" >人工智能</td>\n",
       "                        <td id=\"T_63cd32ab_049f_11eb_8f12_701ce71031efrow20_col1\" class=\"data row20 col1\" >20442</td>\n",
       "                        <td id=\"T_63cd32ab_049f_11eb_8f12_701ce71031efrow20_col2\" class=\"data row20 col2\" >7000</td>\n",
       "                        <td id=\"T_63cd32ab_049f_11eb_8f12_701ce71031efrow20_col3\" class=\"data row20 col3\" >18520</td>\n",
       "                        <td id=\"T_63cd32ab_049f_11eb_8f12_701ce71031efrow20_col4\" class=\"data row20 col4\" >40000</td>\n",
       "                        <td id=\"T_63cd32ab_049f_11eb_8f12_701ce71031efrow20_col5\" class=\"data row20 col5\" >332</td>\n",
       "                        <td id=\"T_63cd32ab_049f_11eb_8f12_701ce71031efrow20_col6\" class=\"data row20 col6\" >0.19%</td>\n",
       "            </tr>\n",
       "            <tr>\n",
       "                        <th id=\"T_63cd32ab_049f_11eb_8f12_701ce71031eflevel0_row21\" class=\"row_heading level0 row21\" >21</th>\n",
       "                        <td id=\"T_63cd32ab_049f_11eb_8f12_701ce71031efrow21_col0\" class=\"data row21 col0\" >区块链开发</td>\n",
       "                        <td id=\"T_63cd32ab_049f_11eb_8f12_701ce71031efrow21_col1\" class=\"data row21 col1\" >20066</td>\n",
       "                        <td id=\"T_63cd32ab_049f_11eb_8f12_701ce71031efrow21_col2\" class=\"data row21 col2\" >3763</td>\n",
       "                        <td id=\"T_63cd32ab_049f_11eb_8f12_701ce71031efrow21_col3\" class=\"data row21 col3\" >20000</td>\n",
       "                        <td id=\"T_63cd32ab_049f_11eb_8f12_701ce71031efrow21_col4\" class=\"data row21 col4\" >35000</td>\n",
       "                        <td id=\"T_63cd32ab_049f_11eb_8f12_701ce71031efrow21_col5\" class=\"data row21 col5\" >482</td>\n",
       "                        <td id=\"T_63cd32ab_049f_11eb_8f12_701ce71031efrow21_col6\" class=\"data row21 col6\" >0.27%</td>\n",
       "            </tr>\n",
       "            <tr>\n",
       "                        <th id=\"T_63cd32ab_049f_11eb_8f12_701ce71031eflevel0_row22\" class=\"row_heading level0 row22\" >38</th>\n",
       "                        <td id=\"T_63cd32ab_049f_11eb_8f12_701ce71031efrow22_col0\" class=\"data row22 col0\" >Unity3d开发工程师</td>\n",
       "                        <td id=\"T_63cd32ab_049f_11eb_8f12_701ce71031efrow22_col1\" class=\"data row22 col1\" >19978</td>\n",
       "                        <td id=\"T_63cd32ab_049f_11eb_8f12_701ce71031efrow22_col2\" class=\"data row22 col2\" >7250</td>\n",
       "                        <td id=\"T_63cd32ab_049f_11eb_8f12_701ce71031efrow22_col3\" class=\"data row22 col3\" >18083</td>\n",
       "                        <td id=\"T_63cd32ab_049f_11eb_8f12_701ce71031efrow22_col4\" class=\"data row22 col4\" >42875</td>\n",
       "                        <td id=\"T_63cd32ab_049f_11eb_8f12_701ce71031efrow22_col5\" class=\"data row22 col5\" >670</td>\n",
       "                        <td id=\"T_63cd32ab_049f_11eb_8f12_701ce71031efrow22_col6\" class=\"data row22 col6\" >0.38%</td>\n",
       "            </tr>\n",
       "            <tr>\n",
       "                        <th id=\"T_63cd32ab_049f_11eb_8f12_701ce71031eflevel0_row23\" class=\"row_heading level0 row23\" >14</th>\n",
       "                        <td id=\"T_63cd32ab_049f_11eb_8f12_701ce71031efrow23_col0\" class=\"data row23 col0\" >驱动工程师</td>\n",
       "                        <td id=\"T_63cd32ab_049f_11eb_8f12_701ce71031efrow23_col1\" class=\"data row23 col1\" >19896</td>\n",
       "                        <td id=\"T_63cd32ab_049f_11eb_8f12_701ce71031efrow23_col2\" class=\"data row23 col2\" >10000</td>\n",
       "                        <td id=\"T_63cd32ab_049f_11eb_8f12_701ce71031efrow23_col3\" class=\"data row23 col3\" >20000</td>\n",
       "                        <td id=\"T_63cd32ab_049f_11eb_8f12_701ce71031efrow23_col4\" class=\"data row23 col4\" >35000</td>\n",
       "                        <td id=\"T_63cd32ab_049f_11eb_8f12_701ce71031efrow23_col5\" class=\"data row23 col5\" >1834</td>\n",
       "                        <td id=\"T_63cd32ab_049f_11eb_8f12_701ce71031efrow23_col6\" class=\"data row23 col6\" >1.04%</td>\n",
       "            </tr>\n",
       "            <tr>\n",
       "                        <th id=\"T_63cd32ab_049f_11eb_8f12_701ce71031eflevel0_row24\" class=\"row_heading level0 row24\" >13</th>\n",
       "                        <td id=\"T_63cd32ab_049f_11eb_8f12_701ce71031efrow24_col0\" class=\"data row24 col0\" >游戏开发工程师</td>\n",
       "                        <td id=\"T_63cd32ab_049f_11eb_8f12_701ce71031efrow24_col1\" class=\"data row24 col1\" >19253</td>\n",
       "                        <td id=\"T_63cd32ab_049f_11eb_8f12_701ce71031efrow24_col2\" class=\"data row24 col2\" >7000</td>\n",
       "                        <td id=\"T_63cd32ab_049f_11eb_8f12_701ce71031efrow24_col3\" class=\"data row24 col3\" >17500</td>\n",
       "                        <td id=\"T_63cd32ab_049f_11eb_8f12_701ce71031efrow24_col4\" class=\"data row24 col4\" >42500</td>\n",
       "                        <td id=\"T_63cd32ab_049f_11eb_8f12_701ce71031efrow24_col5\" class=\"data row24 col5\" >2389</td>\n",
       "                        <td id=\"T_63cd32ab_049f_11eb_8f12_701ce71031efrow24_col6\" class=\"data row24 col6\" >1.36%</td>\n",
       "            </tr>\n",
       "            <tr>\n",
       "                        <th id=\"T_63cd32ab_049f_11eb_8f12_701ce71031eflevel0_row25\" class=\"row_heading level0 row25\" >5</th>\n",
       "                        <td id=\"T_63cd32ab_049f_11eb_8f12_701ce71031efrow25_col0\" class=\"data row25 col0\" >大数据</td>\n",
       "                        <td id=\"T_63cd32ab_049f_11eb_8f12_701ce71031efrow25_col1\" class=\"data row25 col1\" >18702</td>\n",
       "                        <td id=\"T_63cd32ab_049f_11eb_8f12_701ce71031efrow25_col2\" class=\"data row25 col2\" >7000</td>\n",
       "                        <td id=\"T_63cd32ab_049f_11eb_8f12_701ce71031efrow25_col3\" class=\"data row25 col3\" >17500</td>\n",
       "                        <td id=\"T_63cd32ab_049f_11eb_8f12_701ce71031efrow25_col4\" class=\"data row25 col4\" >41551</td>\n",
       "                        <td id=\"T_63cd32ab_049f_11eb_8f12_701ce71031efrow25_col5\" class=\"data row25 col5\" >3678</td>\n",
       "                        <td id=\"T_63cd32ab_049f_11eb_8f12_701ce71031efrow25_col6\" class=\"data row25 col6\" >2.09%</td>\n",
       "            </tr>\n",
       "            <tr>\n",
       "                        <th id=\"T_63cd32ab_049f_11eb_8f12_701ce71031eflevel0_row26\" class=\"row_heading level0 row26\" >25</th>\n",
       "                        <td id=\"T_63cd32ab_049f_11eb_8f12_701ce71031efrow26_col0\" class=\"data row26 col0\" >移动开发工程师</td>\n",
       "                        <td id=\"T_63cd32ab_049f_11eb_8f12_701ce71031efrow26_col1\" class=\"data row26 col1\" >18539</td>\n",
       "                        <td id=\"T_63cd32ab_049f_11eb_8f12_701ce71031efrow26_col2\" class=\"data row26 col2\" >5630</td>\n",
       "                        <td id=\"T_63cd32ab_049f_11eb_8f12_701ce71031efrow26_col3\" class=\"data row26 col3\" >16000</td>\n",
       "                        <td id=\"T_63cd32ab_049f_11eb_8f12_701ce71031efrow26_col4\" class=\"data row26 col4\" >37500</td>\n",
       "                        <td id=\"T_63cd32ab_049f_11eb_8f12_701ce71031efrow26_col5\" class=\"data row26 col5\" >1705</td>\n",
       "                        <td id=\"T_63cd32ab_049f_11eb_8f12_701ce71031efrow26_col6\" class=\"data row26 col6\" >0.97%</td>\n",
       "            </tr>\n",
       "            <tr>\n",
       "                        <th id=\"T_63cd32ab_049f_11eb_8f12_701ce71031eflevel0_row27\" class=\"row_heading level0 row27\" >55</th>\n",
       "                        <td id=\"T_63cd32ab_049f_11eb_8f12_701ce71031efrow27_col0\" class=\"data row27 col0\" >游戏服务端开发工程师</td>\n",
       "                        <td id=\"T_63cd32ab_049f_11eb_8f12_701ce71031efrow27_col1\" class=\"data row27 col1\" >18479</td>\n",
       "                        <td id=\"T_63cd32ab_049f_11eb_8f12_701ce71031efrow27_col2\" class=\"data row27 col2\" >6723</td>\n",
       "                        <td id=\"T_63cd32ab_049f_11eb_8f12_701ce71031efrow27_col3\" class=\"data row27 col3\" >17500</td>\n",
       "                        <td id=\"T_63cd32ab_049f_11eb_8f12_701ce71031efrow27_col4\" class=\"data row27 col4\" >36354</td>\n",
       "                        <td id=\"T_63cd32ab_049f_11eb_8f12_701ce71031efrow27_col5\" class=\"data row27 col5\" >355</td>\n",
       "                        <td id=\"T_63cd32ab_049f_11eb_8f12_701ce71031efrow27_col6\" class=\"data row27 col6\" >0.20%</td>\n",
       "            </tr>\n",
       "            <tr>\n",
       "                        <th id=\"T_63cd32ab_049f_11eb_8f12_701ce71031eflevel0_row28\" class=\"row_heading level0 row28\" >39</th>\n",
       "                        <td id=\"T_63cd32ab_049f_11eb_8f12_701ce71031efrow28_col0\" class=\"data row28 col0\" >图像处理工程师</td>\n",
       "                        <td id=\"T_63cd32ab_049f_11eb_8f12_701ce71031efrow28_col1\" class=\"data row28 col1\" >18232</td>\n",
       "                        <td id=\"T_63cd32ab_049f_11eb_8f12_701ce71031efrow28_col2\" class=\"data row28 col2\" >5618</td>\n",
       "                        <td id=\"T_63cd32ab_049f_11eb_8f12_701ce71031efrow28_col3\" class=\"data row28 col3\" >17500</td>\n",
       "                        <td id=\"T_63cd32ab_049f_11eb_8f12_701ce71031efrow28_col4\" class=\"data row28 col4\" >45000</td>\n",
       "                        <td id=\"T_63cd32ab_049f_11eb_8f12_701ce71031efrow28_col5\" class=\"data row28 col5\" >441</td>\n",
       "                        <td id=\"T_63cd32ab_049f_11eb_8f12_701ce71031efrow28_col6\" class=\"data row28 col6\" >0.25%</td>\n",
       "            </tr>\n",
       "            <tr>\n",
       "                        <th id=\"T_63cd32ab_049f_11eb_8f12_701ce71031eflevel0_row29\" class=\"row_heading level0 row29\" >54</th>\n",
       "                        <td id=\"T_63cd32ab_049f_11eb_8f12_701ce71031efrow29_col0\" class=\"data row29 col0\" >游戏客户端开发工程师</td>\n",
       "                        <td id=\"T_63cd32ab_049f_11eb_8f12_701ce71031efrow29_col1\" class=\"data row29 col1\" >17968</td>\n",
       "                        <td id=\"T_63cd32ab_049f_11eb_8f12_701ce71031efrow29_col2\" class=\"data row29 col2\" >7500</td>\n",
       "                        <td id=\"T_63cd32ab_049f_11eb_8f12_701ce71031efrow29_col3\" class=\"data row29 col3\" >17500</td>\n",
       "                        <td id=\"T_63cd32ab_049f_11eb_8f12_701ce71031efrow29_col4\" class=\"data row29 col4\" >30000</td>\n",
       "                        <td id=\"T_63cd32ab_049f_11eb_8f12_701ce71031efrow29_col5\" class=\"data row29 col5\" >334</td>\n",
       "                        <td id=\"T_63cd32ab_049f_11eb_8f12_701ce71031efrow29_col6\" class=\"data row29 col6\" >0.19%</td>\n",
       "            </tr>\n",
       "            <tr>\n",
       "                        <th id=\"T_63cd32ab_049f_11eb_8f12_701ce71031eflevel0_row30\" class=\"row_heading level0 row30\" >18</th>\n",
       "                        <td id=\"T_63cd32ab_049f_11eb_8f12_701ce71031efrow30_col0\" class=\"data row30 col0\" >大数据开发工程师</td>\n",
       "                        <td id=\"T_63cd32ab_049f_11eb_8f12_701ce71031efrow30_col1\" class=\"data row30 col1\" >17639</td>\n",
       "                        <td id=\"T_63cd32ab_049f_11eb_8f12_701ce71031efrow30_col2\" class=\"data row30 col2\" >6000</td>\n",
       "                        <td id=\"T_63cd32ab_049f_11eb_8f12_701ce71031efrow30_col3\" class=\"data row30 col3\" >15000</td>\n",
       "                        <td id=\"T_63cd32ab_049f_11eb_8f12_701ce71031efrow30_col4\" class=\"data row30 col4\" >40000</td>\n",
       "                        <td id=\"T_63cd32ab_049f_11eb_8f12_701ce71031efrow30_col5\" class=\"data row30 col5\" >1694</td>\n",
       "                        <td id=\"T_63cd32ab_049f_11eb_8f12_701ce71031efrow30_col6\" class=\"data row30 col6\" >0.96%</td>\n",
       "            </tr>\n",
       "            <tr>\n",
       "                        <th id=\"T_63cd32ab_049f_11eb_8f12_701ce71031eflevel0_row31\" class=\"row_heading level0 row31\" >46</th>\n",
       "                        <td id=\"T_63cd32ab_049f_11eb_8f12_701ce71031efrow31_col0\" class=\"data row31 col0\" >Hadoop工程师</td>\n",
       "                        <td id=\"T_63cd32ab_049f_11eb_8f12_701ce71031efrow31_col1\" class=\"data row31 col1\" >17602</td>\n",
       "                        <td id=\"T_63cd32ab_049f_11eb_8f12_701ce71031efrow31_col2\" class=\"data row31 col2\" >10062</td>\n",
       "                        <td id=\"T_63cd32ab_049f_11eb_8f12_701ce71031efrow31_col3\" class=\"data row31 col3\" >15000</td>\n",
       "                        <td id=\"T_63cd32ab_049f_11eb_8f12_701ce71031efrow31_col4\" class=\"data row31 col4\" >41167</td>\n",
       "                        <td id=\"T_63cd32ab_049f_11eb_8f12_701ce71031efrow31_col5\" class=\"data row31 col5\" >133</td>\n",
       "                        <td id=\"T_63cd32ab_049f_11eb_8f12_701ce71031efrow31_col6\" class=\"data row31 col6\" >0.08%</td>\n",
       "            </tr>\n",
       "            <tr>\n",
       "                        <th id=\"T_63cd32ab_049f_11eb_8f12_701ce71031eflevel0_row32\" class=\"row_heading level0 row32\" >57</th>\n",
       "                        <td id=\"T_63cd32ab_049f_11eb_8f12_701ce71031efrow32_col0\" class=\"data row32 col0\" >CAE</td>\n",
       "                        <td id=\"T_63cd32ab_049f_11eb_8f12_701ce71031efrow32_col1\" class=\"data row32 col1\" >17515</td>\n",
       "                        <td id=\"T_63cd32ab_049f_11eb_8f12_701ce71031efrow32_col2\" class=\"data row32 col2\" >9000</td>\n",
       "                        <td id=\"T_63cd32ab_049f_11eb_8f12_701ce71031efrow32_col3\" class=\"data row32 col3\" >17500</td>\n",
       "                        <td id=\"T_63cd32ab_049f_11eb_8f12_701ce71031efrow32_col4\" class=\"data row32 col4\" >22916</td>\n",
       "                        <td id=\"T_63cd32ab_049f_11eb_8f12_701ce71031efrow32_col5\" class=\"data row32 col5\" >44</td>\n",
       "                        <td id=\"T_63cd32ab_049f_11eb_8f12_701ce71031efrow32_col6\" class=\"data row32 col6\" >0.02%</td>\n",
       "            </tr>\n",
       "            <tr>\n",
       "                        <th id=\"T_63cd32ab_049f_11eb_8f12_701ce71031eflevel0_row33\" class=\"row_heading level0 row33\" >37</th>\n",
       "                        <td id=\"T_63cd32ab_049f_11eb_8f12_701ce71031efrow33_col0\" class=\"data row33 col0\" >Cocos2d-x开发工程师</td>\n",
       "                        <td id=\"T_63cd32ab_049f_11eb_8f12_701ce71031efrow33_col1\" class=\"data row33 col1\" >17357</td>\n",
       "                        <td id=\"T_63cd32ab_049f_11eb_8f12_701ce71031efrow33_col2\" class=\"data row33 col2\" >5750</td>\n",
       "                        <td id=\"T_63cd32ab_049f_11eb_8f12_701ce71031efrow33_col3\" class=\"data row33 col3\" >17500</td>\n",
       "                        <td id=\"T_63cd32ab_049f_11eb_8f12_701ce71031efrow33_col4\" class=\"data row33 col4\" >32875</td>\n",
       "                        <td id=\"T_63cd32ab_049f_11eb_8f12_701ce71031efrow33_col5\" class=\"data row33 col5\" >390</td>\n",
       "                        <td id=\"T_63cd32ab_049f_11eb_8f12_701ce71031efrow33_col6\" class=\"data row33 col6\" >0.22%</td>\n",
       "            </tr>\n",
       "            <tr>\n",
       "                        <th id=\"T_63cd32ab_049f_11eb_8f12_701ce71031eflevel0_row34\" class=\"row_heading level0 row34\" >35</th>\n",
       "                        <td id=\"T_63cd32ab_049f_11eb_8f12_701ce71031efrow34_col0\" class=\"data row34 col0\" >Unity3D</td>\n",
       "                        <td id=\"T_63cd32ab_049f_11eb_8f12_701ce71031efrow34_col1\" class=\"data row34 col1\" >17276</td>\n",
       "                        <td id=\"T_63cd32ab_049f_11eb_8f12_701ce71031efrow34_col2\" class=\"data row34 col2\" >6500</td>\n",
       "                        <td id=\"T_63cd32ab_049f_11eb_8f12_701ce71031efrow34_col3\" class=\"data row34 col3\" >16000</td>\n",
       "                        <td id=\"T_63cd32ab_049f_11eb_8f12_701ce71031efrow34_col4\" class=\"data row34 col4\" >37500</td>\n",
       "                        <td id=\"T_63cd32ab_049f_11eb_8f12_701ce71031efrow34_col5\" class=\"data row34 col5\" >1078</td>\n",
       "                        <td id=\"T_63cd32ab_049f_11eb_8f12_701ce71031efrow34_col6\" class=\"data row34 col6\" >0.61%</td>\n",
       "            </tr>\n",
       "            <tr>\n",
       "                        <th id=\"T_63cd32ab_049f_11eb_8f12_701ce71031eflevel0_row35\" class=\"row_heading level0 row35\" >28</th>\n",
       "                        <td id=\"T_63cd32ab_049f_11eb_8f12_701ce71031efrow35_col0\" class=\"data row35 col0\" >iOS开发工程师</td>\n",
       "                        <td id=\"T_63cd32ab_049f_11eb_8f12_701ce71031efrow35_col1\" class=\"data row35 col1\" >17235</td>\n",
       "                        <td id=\"T_63cd32ab_049f_11eb_8f12_701ce71031efrow35_col2\" class=\"data row35 col2\" >8500</td>\n",
       "                        <td id=\"T_63cd32ab_049f_11eb_8f12_701ce71031efrow35_col3\" class=\"data row35 col3\" >15500</td>\n",
       "                        <td id=\"T_63cd32ab_049f_11eb_8f12_701ce71031efrow35_col4\" class=\"data row35 col4\" >35000</td>\n",
       "                        <td id=\"T_63cd32ab_049f_11eb_8f12_701ce71031efrow35_col5\" class=\"data row35 col5\" >2116</td>\n",
       "                        <td id=\"T_63cd32ab_049f_11eb_8f12_701ce71031efrow35_col6\" class=\"data row35 col6\" >1.20%</td>\n",
       "            </tr>\n",
       "            <tr>\n",
       "                        <th id=\"T_63cd32ab_049f_11eb_8f12_701ce71031eflevel0_row36\" class=\"row_heading level0 row36\" >3</th>\n",
       "                        <td id=\"T_63cd32ab_049f_11eb_8f12_701ce71031efrow36_col0\" class=\"data row36 col0\" >Android开发工程师</td>\n",
       "                        <td id=\"T_63cd32ab_049f_11eb_8f12_701ce71031efrow36_col1\" class=\"data row36 col1\" >17147</td>\n",
       "                        <td id=\"T_63cd32ab_049f_11eb_8f12_701ce71031efrow36_col2\" class=\"data row36 col2\" >7500</td>\n",
       "                        <td id=\"T_63cd32ab_049f_11eb_8f12_701ce71031efrow36_col3\" class=\"data row36 col3\" >15500</td>\n",
       "                        <td id=\"T_63cd32ab_049f_11eb_8f12_701ce71031efrow36_col4\" class=\"data row36 col4\" >37500</td>\n",
       "                        <td id=\"T_63cd32ab_049f_11eb_8f12_701ce71031efrow36_col5\" class=\"data row36 col5\" >9105</td>\n",
       "                        <td id=\"T_63cd32ab_049f_11eb_8f12_701ce71031efrow36_col6\" class=\"data row36 col6\" >5.17%</td>\n",
       "            </tr>\n",
       "            <tr>\n",
       "                        <th id=\"T_63cd32ab_049f_11eb_8f12_701ce71031eflevel0_row37\" class=\"row_heading level0 row37\" >48</th>\n",
       "                        <td id=\"T_63cd32ab_049f_11eb_8f12_701ce71031efrow37_col0\" class=\"data row37 col0\" >语音识别工程师</td>\n",
       "                        <td id=\"T_63cd32ab_049f_11eb_8f12_701ce71031efrow37_col1\" class=\"data row37 col1\" >16887</td>\n",
       "                        <td id=\"T_63cd32ab_049f_11eb_8f12_701ce71031efrow37_col2\" class=\"data row37 col2\" >4750</td>\n",
       "                        <td id=\"T_63cd32ab_049f_11eb_8f12_701ce71031efrow37_col3\" class=\"data row37 col3\" >17500</td>\n",
       "                        <td id=\"T_63cd32ab_049f_11eb_8f12_701ce71031efrow37_col4\" class=\"data row37 col4\" >33792</td>\n",
       "                        <td id=\"T_63cd32ab_049f_11eb_8f12_701ce71031efrow37_col5\" class=\"data row37 col5\" >78</td>\n",
       "                        <td id=\"T_63cd32ab_049f_11eb_8f12_701ce71031efrow37_col6\" class=\"data row37 col6\" >0.04%</td>\n",
       "            </tr>\n",
       "            <tr>\n",
       "                        <th id=\"T_63cd32ab_049f_11eb_8f12_701ce71031eflevel0_row38\" class=\"row_heading level0 row38\" >26</th>\n",
       "                        <td id=\"T_63cd32ab_049f_11eb_8f12_701ce71031efrow38_col0\" class=\"data row38 col0\" >数据仓库工程师</td>\n",
       "                        <td id=\"T_63cd32ab_049f_11eb_8f12_701ce71031efrow38_col1\" class=\"data row38 col1\" >16424</td>\n",
       "                        <td id=\"T_63cd32ab_049f_11eb_8f12_701ce71031efrow38_col2\" class=\"data row38 col2\" >5250</td>\n",
       "                        <td id=\"T_63cd32ab_049f_11eb_8f12_701ce71031efrow38_col3\" class=\"data row38 col3\" >15000</td>\n",
       "                        <td id=\"T_63cd32ab_049f_11eb_8f12_701ce71031efrow38_col4\" class=\"data row38 col4\" >37500</td>\n",
       "                        <td id=\"T_63cd32ab_049f_11eb_8f12_701ce71031efrow38_col5\" class=\"data row38 col5\" >519</td>\n",
       "                        <td id=\"T_63cd32ab_049f_11eb_8f12_701ce71031efrow38_col6\" class=\"data row38 col6\" >0.29%</td>\n",
       "            </tr>\n",
       "            <tr>\n",
       "                        <th id=\"T_63cd32ab_049f_11eb_8f12_701ce71031eflevel0_row39\" class=\"row_heading level0 row39\" >34</th>\n",
       "                        <td id=\"T_63cd32ab_049f_11eb_8f12_701ce71031efrow39_col0\" class=\"data row39 col0\" >视觉软件工程师</td>\n",
       "                        <td id=\"T_63cd32ab_049f_11eb_8f12_701ce71031efrow39_col1\" class=\"data row39 col1\" >16423</td>\n",
       "                        <td id=\"T_63cd32ab_049f_11eb_8f12_701ce71031efrow39_col2\" class=\"data row39 col2\" >9000</td>\n",
       "                        <td id=\"T_63cd32ab_049f_11eb_8f12_701ce71031efrow39_col3\" class=\"data row39 col3\" >15000</td>\n",
       "                        <td id=\"T_63cd32ab_049f_11eb_8f12_701ce71031efrow39_col4\" class=\"data row39 col4\" >26619</td>\n",
       "                        <td id=\"T_63cd32ab_049f_11eb_8f12_701ce71031efrow39_col5\" class=\"data row39 col5\" >174</td>\n",
       "                        <td id=\"T_63cd32ab_049f_11eb_8f12_701ce71031efrow39_col6\" class=\"data row39 col6\" >0.10%</td>\n",
       "            </tr>\n",
       "            <tr>\n",
       "                        <th id=\"T_63cd32ab_049f_11eb_8f12_701ce71031eflevel0_row40\" class=\"row_heading level0 row40\" >9</th>\n",
       "                        <td id=\"T_63cd32ab_049f_11eb_8f12_701ce71031efrow40_col0\" class=\"data row40 col0\" >嵌入式软件开发</td>\n",
       "                        <td id=\"T_63cd32ab_049f_11eb_8f12_701ce71031efrow40_col1\" class=\"data row40 col1\" >16321</td>\n",
       "                        <td id=\"T_63cd32ab_049f_11eb_8f12_701ce71031efrow40_col2\" class=\"data row40 col2\" >7000</td>\n",
       "                        <td id=\"T_63cd32ab_049f_11eb_8f12_701ce71031efrow40_col3\" class=\"data row40 col3\" >15000</td>\n",
       "                        <td id=\"T_63cd32ab_049f_11eb_8f12_701ce71031efrow40_col4\" class=\"data row40 col4\" >31250</td>\n",
       "                        <td id=\"T_63cd32ab_049f_11eb_8f12_701ce71031efrow40_col5\" class=\"data row40 col5\" >13594</td>\n",
       "                        <td id=\"T_63cd32ab_049f_11eb_8f12_701ce71031efrow40_col6\" class=\"data row40 col6\" >7.72%</td>\n",
       "            </tr>\n",
       "            <tr>\n",
       "                        <th id=\"T_63cd32ab_049f_11eb_8f12_701ce71031eflevel0_row41\" class=\"row_heading level0 row41\" >0</th>\n",
       "                        <td id=\"T_63cd32ab_049f_11eb_8f12_701ce71031efrow41_col0\" class=\"data row41 col0\" >软件工程师</td>\n",
       "                        <td id=\"T_63cd32ab_049f_11eb_8f12_701ce71031efrow41_col1\" class=\"data row41 col1\" >16260</td>\n",
       "                        <td id=\"T_63cd32ab_049f_11eb_8f12_701ce71031efrow41_col2\" class=\"data row41 col2\" >7000</td>\n",
       "                        <td id=\"T_63cd32ab_049f_11eb_8f12_701ce71031efrow41_col3\" class=\"data row41 col3\" >15000</td>\n",
       "                        <td id=\"T_63cd32ab_049f_11eb_8f12_701ce71031efrow41_col4\" class=\"data row41 col4\" >37500</td>\n",
       "                        <td id=\"T_63cd32ab_049f_11eb_8f12_701ce71031efrow41_col5\" class=\"data row41 col5\" >86748</td>\n",
       "                        <td id=\"T_63cd32ab_049f_11eb_8f12_701ce71031efrow41_col6\" class=\"data row41 col6\" >49.28%</td>\n",
       "            </tr>\n",
       "            <tr>\n",
       "                        <th id=\"T_63cd32ab_049f_11eb_8f12_701ce71031eflevel0_row42\" class=\"row_heading level0 row42\" >56</th>\n",
       "                        <td id=\"T_63cd32ab_049f_11eb_8f12_701ce71031efrow42_col0\" class=\"data row42 col0\" >机器人</td>\n",
       "                        <td id=\"T_63cd32ab_049f_11eb_8f12_701ce71031efrow42_col1\" class=\"data row42 col1\" >16199</td>\n",
       "                        <td id=\"T_63cd32ab_049f_11eb_8f12_701ce71031efrow42_col2\" class=\"data row42 col2\" >6225</td>\n",
       "                        <td id=\"T_63cd32ab_049f_11eb_8f12_701ce71031efrow42_col3\" class=\"data row42 col3\" >16250</td>\n",
       "                        <td id=\"T_63cd32ab_049f_11eb_8f12_701ce71031efrow42_col4\" class=\"data row42 col4\" >32975</td>\n",
       "                        <td id=\"T_63cd32ab_049f_11eb_8f12_701ce71031efrow42_col5\" class=\"data row42 col5\" >158</td>\n",
       "                        <td id=\"T_63cd32ab_049f_11eb_8f12_701ce71031efrow42_col6\" class=\"data row42 col6\" >0.09%</td>\n",
       "            </tr>\n",
       "            <tr>\n",
       "                        <th id=\"T_63cd32ab_049f_11eb_8f12_701ce71031eflevel0_row43\" class=\"row_heading level0 row43\" >43</th>\n",
       "                        <td id=\"T_63cd32ab_049f_11eb_8f12_701ce71031efrow43_col0\" class=\"data row43 col0\" >图像识别工程师</td>\n",
       "                        <td id=\"T_63cd32ab_049f_11eb_8f12_701ce71031efrow43_col1\" class=\"data row43 col1\" >15876</td>\n",
       "                        <td id=\"T_63cd32ab_049f_11eb_8f12_701ce71031efrow43_col2\" class=\"data row43 col2\" >6504</td>\n",
       "                        <td id=\"T_63cd32ab_049f_11eb_8f12_701ce71031efrow43_col3\" class=\"data row43 col3\" >13643</td>\n",
       "                        <td id=\"T_63cd32ab_049f_11eb_8f12_701ce71031efrow43_col4\" class=\"data row43 col4\" >30000</td>\n",
       "                        <td id=\"T_63cd32ab_049f_11eb_8f12_701ce71031efrow43_col5\" class=\"data row43 col5\" >146</td>\n",
       "                        <td id=\"T_63cd32ab_049f_11eb_8f12_701ce71031efrow43_col6\" class=\"data row43 col6\" >0.08%</td>\n",
       "            </tr>\n",
       "            <tr>\n",
       "                        <th id=\"T_63cd32ab_049f_11eb_8f12_701ce71031eflevel0_row44\" class=\"row_heading level0 row44\" >8</th>\n",
       "                        <td id=\"T_63cd32ab_049f_11eb_8f12_701ce71031efrow44_col0\" class=\"data row44 col0\" >前端开发</td>\n",
       "                        <td id=\"T_63cd32ab_049f_11eb_8f12_701ce71031efrow44_col1\" class=\"data row44 col1\" >15574</td>\n",
       "                        <td id=\"T_63cd32ab_049f_11eb_8f12_701ce71031efrow44_col2\" class=\"data row44 col2\" >5500</td>\n",
       "                        <td id=\"T_63cd32ab_049f_11eb_8f12_701ce71031efrow44_col3\" class=\"data row44 col3\" >12500</td>\n",
       "                        <td id=\"T_63cd32ab_049f_11eb_8f12_701ce71031efrow44_col4\" class=\"data row44 col4\" >36250</td>\n",
       "                        <td id=\"T_63cd32ab_049f_11eb_8f12_701ce71031efrow44_col5\" class=\"data row44 col5\" >685</td>\n",
       "                        <td id=\"T_63cd32ab_049f_11eb_8f12_701ce71031efrow44_col6\" class=\"data row44 col6\" >0.39%</td>\n",
       "            </tr>\n",
       "            <tr>\n",
       "                        <th id=\"T_63cd32ab_049f_11eb_8f12_701ce71031eflevel0_row45\" class=\"row_heading level0 row45\" >53</th>\n",
       "                        <td id=\"T_63cd32ab_049f_11eb_8f12_701ce71031efrow45_col0\" class=\"data row45 col0\" >数据建模工程师</td>\n",
       "                        <td id=\"T_63cd32ab_049f_11eb_8f12_701ce71031efrow45_col1\" class=\"data row45 col1\" >15401</td>\n",
       "                        <td id=\"T_63cd32ab_049f_11eb_8f12_701ce71031efrow45_col2\" class=\"data row45 col2\" >5700</td>\n",
       "                        <td id=\"T_63cd32ab_049f_11eb_8f12_701ce71031efrow45_col3\" class=\"data row45 col3\" >13000</td>\n",
       "                        <td id=\"T_63cd32ab_049f_11eb_8f12_701ce71031efrow45_col4\" class=\"data row45 col4\" >34167</td>\n",
       "                        <td id=\"T_63cd32ab_049f_11eb_8f12_701ce71031efrow45_col5\" class=\"data row45 col5\" >340</td>\n",
       "                        <td id=\"T_63cd32ab_049f_11eb_8f12_701ce71031efrow45_col6\" class=\"data row45 col6\" >0.19%</td>\n",
       "            </tr>\n",
       "            <tr>\n",
       "                        <th id=\"T_63cd32ab_049f_11eb_8f12_701ce71031eflevel0_row46\" class=\"row_heading level0 row46\" >10</th>\n",
       "                        <td id=\"T_63cd32ab_049f_11eb_8f12_701ce71031efrow46_col0\" class=\"data row46 col0\" >BI工程师</td>\n",
       "                        <td id=\"T_63cd32ab_049f_11eb_8f12_701ce71031efrow46_col1\" class=\"data row46 col1\" >15047</td>\n",
       "                        <td id=\"T_63cd32ab_049f_11eb_8f12_701ce71031efrow46_col2\" class=\"data row46 col2\" >6531</td>\n",
       "                        <td id=\"T_63cd32ab_049f_11eb_8f12_701ce71031efrow46_col3\" class=\"data row46 col3\" >14000</td>\n",
       "                        <td id=\"T_63cd32ab_049f_11eb_8f12_701ce71031efrow46_col4\" class=\"data row46 col4\" >34083</td>\n",
       "                        <td id=\"T_63cd32ab_049f_11eb_8f12_701ce71031efrow46_col5\" class=\"data row46 col5\" >966</td>\n",
       "                        <td id=\"T_63cd32ab_049f_11eb_8f12_701ce71031efrow46_col6\" class=\"data row46 col6\" >0.55%</td>\n",
       "            </tr>\n",
       "            <tr>\n",
       "                        <th id=\"T_63cd32ab_049f_11eb_8f12_701ce71031eflevel0_row47\" class=\"row_heading level0 row47\" >12</th>\n",
       "                        <td id=\"T_63cd32ab_049f_11eb_8f12_701ce71031efrow47_col0\" class=\"data row47 col0\" >ETL</td>\n",
       "                        <td id=\"T_63cd32ab_049f_11eb_8f12_701ce71031efrow47_col1\" class=\"data row47 col1\" >14945</td>\n",
       "                        <td id=\"T_63cd32ab_049f_11eb_8f12_701ce71031efrow47_col2\" class=\"data row47 col2\" >7000</td>\n",
       "                        <td id=\"T_63cd32ab_049f_11eb_8f12_701ce71031efrow47_col3\" class=\"data row47 col3\" >14000</td>\n",
       "                        <td id=\"T_63cd32ab_049f_11eb_8f12_701ce71031efrow47_col4\" class=\"data row47 col4\" >30000</td>\n",
       "                        <td id=\"T_63cd32ab_049f_11eb_8f12_701ce71031efrow47_col5\" class=\"data row47 col5\" >973</td>\n",
       "                        <td id=\"T_63cd32ab_049f_11eb_8f12_701ce71031efrow47_col6\" class=\"data row47 col6\" >0.55%</td>\n",
       "            </tr>\n",
       "            <tr>\n",
       "                        <th id=\"T_63cd32ab_049f_11eb_8f12_701ce71031eflevel0_row48\" class=\"row_heading level0 row48\" >41</th>\n",
       "                        <td id=\"T_63cd32ab_049f_11eb_8f12_701ce71031efrow48_col0\" class=\"data row48 col0\" >数据分析经理主管</td>\n",
       "                        <td id=\"T_63cd32ab_049f_11eb_8f12_701ce71031efrow48_col1\" class=\"data row48 col1\" >14845</td>\n",
       "                        <td id=\"T_63cd32ab_049f_11eb_8f12_701ce71031efrow48_col2\" class=\"data row48 col2\" >5250</td>\n",
       "                        <td id=\"T_63cd32ab_049f_11eb_8f12_701ce71031efrow48_col3\" class=\"data row48 col3\" >12500</td>\n",
       "                        <td id=\"T_63cd32ab_049f_11eb_8f12_701ce71031efrow48_col4\" class=\"data row48 col4\" >35000</td>\n",
       "                        <td id=\"T_63cd32ab_049f_11eb_8f12_701ce71031efrow48_col5\" class=\"data row48 col5\" >435</td>\n",
       "                        <td id=\"T_63cd32ab_049f_11eb_8f12_701ce71031efrow48_col6\" class=\"data row48 col6\" >0.25%</td>\n",
       "            </tr>\n",
       "            <tr>\n",
       "                        <th id=\"T_63cd32ab_049f_11eb_8f12_701ce71031eflevel0_row49\" class=\"row_heading level0 row49\" >49</th>\n",
       "                        <td id=\"T_63cd32ab_049f_11eb_8f12_701ce71031efrow49_col0\" class=\"data row49 col0\" >MES</td>\n",
       "                        <td id=\"T_63cd32ab_049f_11eb_8f12_701ce71031efrow49_col1\" class=\"data row49 col1\" >14825</td>\n",
       "                        <td id=\"T_63cd32ab_049f_11eb_8f12_701ce71031efrow49_col2\" class=\"data row49 col2\" >6000</td>\n",
       "                        <td id=\"T_63cd32ab_049f_11eb_8f12_701ce71031efrow49_col3\" class=\"data row49 col3\" >14167</td>\n",
       "                        <td id=\"T_63cd32ab_049f_11eb_8f12_701ce71031efrow49_col4\" class=\"data row49 col4\" >25000</td>\n",
       "                        <td id=\"T_63cd32ab_049f_11eb_8f12_701ce71031efrow49_col5\" class=\"data row49 col5\" >295</td>\n",
       "                        <td id=\"T_63cd32ab_049f_11eb_8f12_701ce71031efrow49_col6\" class=\"data row49 col6\" >0.17%</td>\n",
       "            </tr>\n",
       "            <tr>\n",
       "                        <th id=\"T_63cd32ab_049f_11eb_8f12_701ce71031eflevel0_row50\" class=\"row_heading level0 row50\" >7</th>\n",
       "                        <td id=\"T_63cd32ab_049f_11eb_8f12_701ce71031efrow50_col0\" class=\"data row50 col0\" >HTML5开发工程师</td>\n",
       "                        <td id=\"T_63cd32ab_049f_11eb_8f12_701ce71031efrow50_col1\" class=\"data row50 col1\" >14734</td>\n",
       "                        <td id=\"T_63cd32ab_049f_11eb_8f12_701ce71031efrow50_col2\" class=\"data row50 col2\" >7000</td>\n",
       "                        <td id=\"T_63cd32ab_049f_11eb_8f12_701ce71031efrow50_col3\" class=\"data row50 col3\" >13472</td>\n",
       "                        <td id=\"T_63cd32ab_049f_11eb_8f12_701ce71031efrow50_col4\" class=\"data row50 col4\" >30000</td>\n",
       "                        <td id=\"T_63cd32ab_049f_11eb_8f12_701ce71031efrow50_col5\" class=\"data row50 col5\" >3400</td>\n",
       "                        <td id=\"T_63cd32ab_049f_11eb_8f12_701ce71031efrow50_col6\" class=\"data row50 col6\" >1.93%</td>\n",
       "            </tr>\n",
       "            <tr>\n",
       "                        <th id=\"T_63cd32ab_049f_11eb_8f12_701ce71031eflevel0_row51\" class=\"row_heading level0 row51\" >4</th>\n",
       "                        <td id=\"T_63cd32ab_049f_11eb_8f12_701ce71031efrow51_col0\" class=\"data row51 col0\" >Web前端开发</td>\n",
       "                        <td id=\"T_63cd32ab_049f_11eb_8f12_701ce71031efrow51_col1\" class=\"data row51 col1\" >14676</td>\n",
       "                        <td id=\"T_63cd32ab_049f_11eb_8f12_701ce71031efrow51_col2\" class=\"data row51 col2\" >6591</td>\n",
       "                        <td id=\"T_63cd32ab_049f_11eb_8f12_701ce71031efrow51_col3\" class=\"data row51 col3\" >13000</td>\n",
       "                        <td id=\"T_63cd32ab_049f_11eb_8f12_701ce71031efrow51_col4\" class=\"data row51 col4\" >30000</td>\n",
       "                        <td id=\"T_63cd32ab_049f_11eb_8f12_701ce71031efrow51_col5\" class=\"data row51 col5\" >17155</td>\n",
       "                        <td id=\"T_63cd32ab_049f_11eb_8f12_701ce71031efrow51_col6\" class=\"data row51 col6\" >9.75%</td>\n",
       "            </tr>\n",
       "            <tr>\n",
       "                        <th id=\"T_63cd32ab_049f_11eb_8f12_701ce71031eflevel0_row52\" class=\"row_heading level0 row52\" >51</th>\n",
       "                        <td id=\"T_63cd32ab_049f_11eb_8f12_701ce71031efrow52_col0\" class=\"data row52 col0\" >小程序开发工程师</td>\n",
       "                        <td id=\"T_63cd32ab_049f_11eb_8f12_701ce71031efrow52_col1\" class=\"data row52 col1\" >14559</td>\n",
       "                        <td id=\"T_63cd32ab_049f_11eb_8f12_701ce71031efrow52_col2\" class=\"data row52 col2\" >5571</td>\n",
       "                        <td id=\"T_63cd32ab_049f_11eb_8f12_701ce71031efrow52_col3\" class=\"data row52 col3\" >12500</td>\n",
       "                        <td id=\"T_63cd32ab_049f_11eb_8f12_701ce71031efrow52_col4\" class=\"data row52 col4\" >35000</td>\n",
       "                        <td id=\"T_63cd32ab_049f_11eb_8f12_701ce71031efrow52_col5\" class=\"data row52 col5\" >355</td>\n",
       "                        <td id=\"T_63cd32ab_049f_11eb_8f12_701ce71031efrow52_col6\" class=\"data row52 col6\" >0.20%</td>\n",
       "            </tr>\n",
       "            <tr>\n",
       "                        <th id=\"T_63cd32ab_049f_11eb_8f12_701ce71031eflevel0_row53\" class=\"row_heading level0 row53\" >30</th>\n",
       "                        <td id=\"T_63cd32ab_049f_11eb_8f12_701ce71031efrow53_col0\" class=\"data row53 col0\" >ETL开发工程师</td>\n",
       "                        <td id=\"T_63cd32ab_049f_11eb_8f12_701ce71031efrow53_col1\" class=\"data row53 col1\" >14549</td>\n",
       "                        <td id=\"T_63cd32ab_049f_11eb_8f12_701ce71031efrow53_col2\" class=\"data row53 col2\" >7000</td>\n",
       "                        <td id=\"T_63cd32ab_049f_11eb_8f12_701ce71031efrow53_col3\" class=\"data row53 col3\" >12500</td>\n",
       "                        <td id=\"T_63cd32ab_049f_11eb_8f12_701ce71031efrow53_col4\" class=\"data row53 col4\" >27500</td>\n",
       "                        <td id=\"T_63cd32ab_049f_11eb_8f12_701ce71031efrow53_col5\" class=\"data row53 col5\" >379</td>\n",
       "                        <td id=\"T_63cd32ab_049f_11eb_8f12_701ce71031efrow53_col6\" class=\"data row53 col6\" >0.22%</td>\n",
       "            </tr>\n",
       "            <tr>\n",
       "                        <th id=\"T_63cd32ab_049f_11eb_8f12_701ce71031eflevel0_row54\" class=\"row_heading level0 row54\" >24</th>\n",
       "                        <td id=\"T_63cd32ab_049f_11eb_8f12_701ce71031efrow54_col0\" class=\"data row54 col0\" >GIS</td>\n",
       "                        <td id=\"T_63cd32ab_049f_11eb_8f12_701ce71031efrow54_col1\" class=\"data row54 col1\" >14318</td>\n",
       "                        <td id=\"T_63cd32ab_049f_11eb_8f12_701ce71031efrow54_col2\" class=\"data row54 col2\" >6864</td>\n",
       "                        <td id=\"T_63cd32ab_049f_11eb_8f12_701ce71031efrow54_col3\" class=\"data row54 col3\" >12500</td>\n",
       "                        <td id=\"T_63cd32ab_049f_11eb_8f12_701ce71031efrow54_col4\" class=\"data row54 col4\" >25000</td>\n",
       "                        <td id=\"T_63cd32ab_049f_11eb_8f12_701ce71031efrow54_col5\" class=\"data row54 col5\" >642</td>\n",
       "                        <td id=\"T_63cd32ab_049f_11eb_8f12_701ce71031efrow54_col6\" class=\"data row54 col6\" >0.36%</td>\n",
       "            </tr>\n",
       "            <tr>\n",
       "                        <th id=\"T_63cd32ab_049f_11eb_8f12_701ce71031eflevel0_row55\" class=\"row_heading level0 row55\" >65</th>\n",
       "                        <td id=\"T_63cd32ab_049f_11eb_8f12_701ce71031efrow55_col0\" class=\"data row55 col0\" >信号处理</td>\n",
       "                        <td id=\"T_63cd32ab_049f_11eb_8f12_701ce71031efrow55_col1\" class=\"data row55 col1\" >14167</td>\n",
       "                        <td id=\"T_63cd32ab_049f_11eb_8f12_701ce71031efrow55_col2\" class=\"data row55 col2\" >12500</td>\n",
       "                        <td id=\"T_63cd32ab_049f_11eb_8f12_701ce71031efrow55_col3\" class=\"data row55 col3\" >12500</td>\n",
       "                        <td id=\"T_63cd32ab_049f_11eb_8f12_701ce71031efrow55_col4\" class=\"data row55 col4\" >29166</td>\n",
       "                        <td id=\"T_63cd32ab_049f_11eb_8f12_701ce71031efrow55_col5\" class=\"data row55 col5\" >13</td>\n",
       "                        <td id=\"T_63cd32ab_049f_11eb_8f12_701ce71031efrow55_col6\" class=\"data row55 col6\" >0.01%</td>\n",
       "            </tr>\n",
       "            <tr>\n",
       "                        <th id=\"T_63cd32ab_049f_11eb_8f12_701ce71031eflevel0_row56\" class=\"row_heading level0 row56\" >64</th>\n",
       "                        <td id=\"T_63cd32ab_049f_11eb_8f12_701ce71031efrow56_col0\" class=\"data row56 col0\" >生物信息</td>\n",
       "                        <td id=\"T_63cd32ab_049f_11eb_8f12_701ce71031efrow56_col1\" class=\"data row56 col1\" >13688</td>\n",
       "                        <td id=\"T_63cd32ab_049f_11eb_8f12_701ce71031efrow56_col2\" class=\"data row56 col2\" >8000</td>\n",
       "                        <td id=\"T_63cd32ab_049f_11eb_8f12_701ce71031efrow56_col3\" class=\"data row56 col3\" >13000</td>\n",
       "                        <td id=\"T_63cd32ab_049f_11eb_8f12_701ce71031efrow56_col4\" class=\"data row56 col4\" >30000</td>\n",
       "                        <td id=\"T_63cd32ab_049f_11eb_8f12_701ce71031efrow56_col5\" class=\"data row56 col5\" >16</td>\n",
       "                        <td id=\"T_63cd32ab_049f_11eb_8f12_701ce71031efrow56_col6\" class=\"data row56 col6\" >0.01%</td>\n",
       "            </tr>\n",
       "            <tr>\n",
       "                        <th id=\"T_63cd32ab_049f_11eb_8f12_701ce71031eflevel0_row57\" class=\"row_heading level0 row57\" >20</th>\n",
       "                        <td id=\"T_63cd32ab_049f_11eb_8f12_701ce71031efrow57_col0\" class=\"data row57 col0\" >系统分析员</td>\n",
       "                        <td id=\"T_63cd32ab_049f_11eb_8f12_701ce71031efrow57_col1\" class=\"data row57 col1\" >13610</td>\n",
       "                        <td id=\"T_63cd32ab_049f_11eb_8f12_701ce71031efrow57_col2\" class=\"data row57 col2\" >3750</td>\n",
       "                        <td id=\"T_63cd32ab_049f_11eb_8f12_701ce71031efrow57_col3\" class=\"data row57 col3\" >12500</td>\n",
       "                        <td id=\"T_63cd32ab_049f_11eb_8f12_701ce71031efrow57_col4\" class=\"data row57 col4\" >31250</td>\n",
       "                        <td id=\"T_63cd32ab_049f_11eb_8f12_701ce71031efrow57_col5\" class=\"data row57 col5\" >551</td>\n",
       "                        <td id=\"T_63cd32ab_049f_11eb_8f12_701ce71031efrow57_col6\" class=\"data row57 col6\" >0.31%</td>\n",
       "            </tr>\n",
       "            <tr>\n",
       "                        <th id=\"T_63cd32ab_049f_11eb_8f12_701ce71031eflevel0_row58\" class=\"row_heading level0 row58\" >32</th>\n",
       "                        <td id=\"T_63cd32ab_049f_11eb_8f12_701ce71031efrow58_col0\" class=\"data row58 col0\" >爬虫开发工程师</td>\n",
       "                        <td id=\"T_63cd32ab_049f_11eb_8f12_701ce71031efrow58_col1\" class=\"data row58 col1\" >13518</td>\n",
       "                        <td id=\"T_63cd32ab_049f_11eb_8f12_701ce71031efrow58_col2\" class=\"data row58 col2\" >5750</td>\n",
       "                        <td id=\"T_63cd32ab_049f_11eb_8f12_701ce71031efrow58_col3\" class=\"data row58 col3\" >12500</td>\n",
       "                        <td id=\"T_63cd32ab_049f_11eb_8f12_701ce71031efrow58_col4\" class=\"data row58 col4\" >25000</td>\n",
       "                        <td id=\"T_63cd32ab_049f_11eb_8f12_701ce71031efrow58_col5\" class=\"data row58 col5\" >382</td>\n",
       "                        <td id=\"T_63cd32ab_049f_11eb_8f12_701ce71031efrow58_col6\" class=\"data row58 col6\" >0.22%</td>\n",
       "            </tr>\n",
       "            <tr>\n",
       "                        <th id=\"T_63cd32ab_049f_11eb_8f12_701ce71031eflevel0_row59\" class=\"row_heading level0 row59\" >42</th>\n",
       "                        <td id=\"T_63cd32ab_049f_11eb_8f12_701ce71031efrow59_col0\" class=\"data row59 col0\" >遥感</td>\n",
       "                        <td id=\"T_63cd32ab_049f_11eb_8f12_701ce71031efrow59_col1\" class=\"data row59 col1\" >13255</td>\n",
       "                        <td id=\"T_63cd32ab_049f_11eb_8f12_701ce71031efrow59_col2\" class=\"data row59 col2\" >5573</td>\n",
       "                        <td id=\"T_63cd32ab_049f_11eb_8f12_701ce71031efrow59_col3\" class=\"data row59 col3\" >13633</td>\n",
       "                        <td id=\"T_63cd32ab_049f_11eb_8f12_701ce71031efrow59_col4\" class=\"data row59 col4\" >19750</td>\n",
       "                        <td id=\"T_63cd32ab_049f_11eb_8f12_701ce71031efrow59_col5\" class=\"data row59 col5\" >48</td>\n",
       "                        <td id=\"T_63cd32ab_049f_11eb_8f12_701ce71031efrow59_col6\" class=\"data row59 col6\" >0.03%</td>\n",
       "            </tr>\n",
       "            <tr>\n",
       "                        <th id=\"T_63cd32ab_049f_11eb_8f12_701ce71031eflevel0_row60\" class=\"row_heading level0 row60\" >29</th>\n",
       "                        <td id=\"T_63cd32ab_049f_11eb_8f12_701ce71031efrow60_col0\" class=\"data row60 col0\" >数据治理工程师</td>\n",
       "                        <td id=\"T_63cd32ab_049f_11eb_8f12_701ce71031efrow60_col1\" class=\"data row60 col1\" >12801</td>\n",
       "                        <td id=\"T_63cd32ab_049f_11eb_8f12_701ce71031efrow60_col2\" class=\"data row60 col2\" >6000</td>\n",
       "                        <td id=\"T_63cd32ab_049f_11eb_8f12_701ce71031efrow60_col3\" class=\"data row60 col3\" >12500</td>\n",
       "                        <td id=\"T_63cd32ab_049f_11eb_8f12_701ce71031efrow60_col4\" class=\"data row60 col4\" >30000</td>\n",
       "                        <td id=\"T_63cd32ab_049f_11eb_8f12_701ce71031efrow60_col5\" class=\"data row60 col5\" >210</td>\n",
       "                        <td id=\"T_63cd32ab_049f_11eb_8f12_701ce71031efrow60_col6\" class=\"data row60 col6\" >0.12%</td>\n",
       "            </tr>\n",
       "            <tr>\n",
       "                        <th id=\"T_63cd32ab_049f_11eb_8f12_701ce71031eflevel0_row61\" class=\"row_heading level0 row61\" >2</th>\n",
       "                        <td id=\"T_63cd32ab_049f_11eb_8f12_701ce71031efrow61_col0\" class=\"data row61 col0\" >机器视觉工程师</td>\n",
       "                        <td id=\"T_63cd32ab_049f_11eb_8f12_701ce71031efrow61_col1\" class=\"data row61 col1\" >12419</td>\n",
       "                        <td id=\"T_63cd32ab_049f_11eb_8f12_701ce71031efrow61_col2\" class=\"data row61 col2\" >2427</td>\n",
       "                        <td id=\"T_63cd32ab_049f_11eb_8f12_701ce71031efrow61_col3\" class=\"data row61 col3\" >12500</td>\n",
       "                        <td id=\"T_63cd32ab_049f_11eb_8f12_701ce71031efrow61_col4\" class=\"data row61 col4\" >27708</td>\n",
       "                        <td id=\"T_63cd32ab_049f_11eb_8f12_701ce71031efrow61_col5\" class=\"data row61 col5\" >525</td>\n",
       "                        <td id=\"T_63cd32ab_049f_11eb_8f12_701ce71031efrow61_col6\" class=\"data row61 col6\" >0.30%</td>\n",
       "            </tr>\n",
       "            <tr>\n",
       "                        <th id=\"T_63cd32ab_049f_11eb_8f12_701ce71031eflevel0_row62\" class=\"row_heading level0 row62\" >15</th>\n",
       "                        <td id=\"T_63cd32ab_049f_11eb_8f12_701ce71031efrow62_col0\" class=\"data row62 col0\" >数据分析师</td>\n",
       "                        <td id=\"T_63cd32ab_049f_11eb_8f12_701ce71031efrow62_col1\" class=\"data row62 col1\" >12292</td>\n",
       "                        <td id=\"T_63cd32ab_049f_11eb_8f12_701ce71031efrow62_col2\" class=\"data row62 col2\" >5000</td>\n",
       "                        <td id=\"T_63cd32ab_049f_11eb_8f12_701ce71031efrow62_col3\" class=\"data row62 col3\" >10500</td>\n",
       "                        <td id=\"T_63cd32ab_049f_11eb_8f12_701ce71031efrow62_col4\" class=\"data row62 col4\" >29779</td>\n",
       "                        <td id=\"T_63cd32ab_049f_11eb_8f12_701ce71031efrow62_col5\" class=\"data row62 col5\" >3993</td>\n",
       "                        <td id=\"T_63cd32ab_049f_11eb_8f12_701ce71031efrow62_col6\" class=\"data row62 col6\" >2.27%</td>\n",
       "            </tr>\n",
       "            <tr>\n",
       "                        <th id=\"T_63cd32ab_049f_11eb_8f12_701ce71031eflevel0_row63\" class=\"row_heading level0 row63\" >50</th>\n",
       "                        <td id=\"T_63cd32ab_049f_11eb_8f12_701ce71031efrow63_col0\" class=\"data row63 col0\" >网站架构设计师</td>\n",
       "                        <td id=\"T_63cd32ab_049f_11eb_8f12_701ce71031efrow63_col1\" class=\"data row63 col1\" >11653</td>\n",
       "                        <td id=\"T_63cd32ab_049f_11eb_8f12_701ce71031efrow63_col2\" class=\"data row63 col2\" >5150</td>\n",
       "                        <td id=\"T_63cd32ab_049f_11eb_8f12_701ce71031efrow63_col3\" class=\"data row63 col3\" >9000</td>\n",
       "                        <td id=\"T_63cd32ab_049f_11eb_8f12_701ce71031efrow63_col4\" class=\"data row63 col4\" >27500</td>\n",
       "                        <td id=\"T_63cd32ab_049f_11eb_8f12_701ce71031efrow63_col5\" class=\"data row63 col5\" >176</td>\n",
       "                        <td id=\"T_63cd32ab_049f_11eb_8f12_701ce71031efrow63_col6\" class=\"data row63 col6\" >0.10%</td>\n",
       "            </tr>\n",
       "            <tr>\n",
       "                        <th id=\"T_63cd32ab_049f_11eb_8f12_701ce71031eflevel0_row64\" class=\"row_heading level0 row64\" >17</th>\n",
       "                        <td id=\"T_63cd32ab_049f_11eb_8f12_701ce71031efrow64_col0\" class=\"data row64 col0\" >数据</td>\n",
       "                        <td id=\"T_63cd32ab_049f_11eb_8f12_701ce71031efrow64_col1\" class=\"data row64 col1\" >10934</td>\n",
       "                        <td id=\"T_63cd32ab_049f_11eb_8f12_701ce71031efrow64_col2\" class=\"data row64 col2\" >3750</td>\n",
       "                        <td id=\"T_63cd32ab_049f_11eb_8f12_701ce71031efrow64_col3\" class=\"data row64 col3\" >7500</td>\n",
       "                        <td id=\"T_63cd32ab_049f_11eb_8f12_701ce71031efrow64_col4\" class=\"data row64 col4\" >30000</td>\n",
       "                        <td id=\"T_63cd32ab_049f_11eb_8f12_701ce71031efrow64_col5\" class=\"data row64 col5\" >624</td>\n",
       "                        <td id=\"T_63cd32ab_049f_11eb_8f12_701ce71031efrow64_col6\" class=\"data row64 col6\" >0.35%</td>\n",
       "            </tr>\n",
       "            <tr>\n",
       "                        <th id=\"T_63cd32ab_049f_11eb_8f12_701ce71031eflevel0_row65\" class=\"row_heading level0 row65\" >23</th>\n",
       "                        <td id=\"T_63cd32ab_049f_11eb_8f12_701ce71031efrow65_col0\" class=\"data row65 col0\" >数据采集工程师</td>\n",
       "                        <td id=\"T_63cd32ab_049f_11eb_8f12_701ce71031efrow65_col1\" class=\"data row65 col1\" >9813</td>\n",
       "                        <td id=\"T_63cd32ab_049f_11eb_8f12_701ce71031efrow65_col2\" class=\"data row65 col2\" >3851</td>\n",
       "                        <td id=\"T_63cd32ab_049f_11eb_8f12_701ce71031efrow65_col3\" class=\"data row65 col3\" >7600</td>\n",
       "                        <td id=\"T_63cd32ab_049f_11eb_8f12_701ce71031efrow65_col4\" class=\"data row65 col4\" >25812</td>\n",
       "                        <td id=\"T_63cd32ab_049f_11eb_8f12_701ce71031efrow65_col5\" class=\"data row65 col5\" >461</td>\n",
       "                        <td id=\"T_63cd32ab_049f_11eb_8f12_701ce71031efrow65_col6\" class=\"data row65 col6\" >0.26%</td>\n",
       "            </tr>\n",
       "    </tbody></table>"
      ],
      "text/plain": [
       "<pandas.io.formats.style.Styler at 0x1a5f8ea7bb0>"
      ]
     },
     "execution_count": 19,
     "metadata": {},
     "output_type": "execute_result"
    }
   ],
   "source": [
    "data_career = get_sub_stats_by_col(data,'career')\n",
    "data_career.style.format({\"salary_mean\":\"{:.0f}\",\"salary_median\":\"{:.0f}\",\"salary_95_min\":\"{:.0f}\",\"salary_95_max\":\"{:.0f}\",\"percentage\":\"{:.2%}\"})"
   ]
  },
  {
   "cell_type": "code",
   "execution_count": 20,
   "metadata": {},
   "outputs": [
    {
     "data": {
      "text/plain": [
       "16958.479021912655"
      ]
     },
     "execution_count": 20,
     "metadata": {},
     "output_type": "execute_result"
    }
   ],
   "source": [
    "np.sum(data.monthly_salary * data.headcount) / data.headcount.sum()"
   ]
  },
  {
   "cell_type": "code",
   "execution_count": 21,
   "metadata": {},
   "outputs": [
    {
     "data": {
      "text/plain": [
       "176017"
      ]
     },
     "execution_count": 21,
     "metadata": {},
     "output_type": "execute_result"
    }
   ],
   "source": [
    "data.headcount.sum()"
   ]
  },
  {
   "cell_type": "code",
   "execution_count": 22,
   "metadata": {},
   "outputs": [
    {
     "data": {
      "text/plain": [
       "count    60661.000000\n",
       "mean         2.901650\n",
       "std          2.783237\n",
       "min          1.000000\n",
       "25%          1.000000\n",
       "50%          2.000000\n",
       "75%          5.000000\n",
       "max        100.000000\n",
       "Name: headcount, dtype: float64"
      ]
     },
     "execution_count": 22,
     "metadata": {},
     "output_type": "execute_result"
    }
   ],
   "source": [
    "data.headcount.describe()"
   ]
  },
  {
   "cell_type": "code",
   "execution_count": 23,
   "metadata": {},
   "outputs": [],
   "source": [
    "pd.options.display.max_columns=100\n"
   ]
  },
  {
   "cell_type": "markdown",
   "metadata": {},
   "source": []
  },
  {
   "cell_type": "code",
   "execution_count": 24,
   "metadata": {},
   "outputs": [
    {
     "data": {
      "text/plain": [
       "176017"
      ]
     },
     "execution_count": 24,
     "metadata": {},
     "output_type": "execute_result"
    }
   ],
   "source": [
    "data.headcount.sum()"
   ]
  },
  {
   "cell_type": "markdown",
   "metadata": {},
   "source": [
    "# 城市"
   ]
  },
  {
   "cell_type": "code",
   "execution_count": 25,
   "metadata": {},
   "outputs": [],
   "source": [
    "headcount_by_cities = data.groupby(by='city').headcount.sum()"
   ]
  },
  {
   "cell_type": "code",
   "execution_count": 26,
   "metadata": {},
   "outputs": [
    {
     "data": {
      "text/plain": [
       "city\n",
       "上海    58613\n",
       "北京    29211\n",
       "广州    35048\n",
       "深圳    53145\n",
       "Name: headcount, dtype: int64"
      ]
     },
     "execution_count": 26,
     "metadata": {},
     "output_type": "execute_result"
    }
   ],
   "source": [
    "headcount_by_cities\n"
   ]
  },
  {
   "cell_type": "code",
   "execution_count": 27,
   "metadata": {},
   "outputs": [
    {
     "data": {
      "image/png": "[encoded data removed]",
      "text/plain": [
       "<Figure size 720x576 with 1 Axes>"
      ]
     },
     "metadata": {},
     "output_type": "display_data"
    }
   ],
   "source": [
    "plt.figure(figsize=(10,8))\n",
    "plt.pie(headcount_by_cities.values, labels=headcount_by_cities.index, autopct='%1.1f%%')\n",
    "plt.show()"
   ]
  },
  {
   "cell_type": "code",
   "execution_count": 28,
   "metadata": {},
   "outputs": [
    {
     "data": {
      "text/html": [
       "<style  type=\"text/css\" >\n",
       "</style><table id=\"T_645bc71d_049f_11eb_835b_701ce71031ef\" ><thead>    <tr>        <th class=\"col_heading level0 col0\" >city</th>        <th class=\"col_heading level0 col1\" >salary_mean</th>        <th class=\"col_heading level0 col2\" >salary_95_min</th>        <th class=\"col_heading level0 col3\" >salary_median</th>        <th class=\"col_heading level0 col4\" >salary_95_max</th>        <th class=\"col_heading level0 col5\" >head_count</th>        <th class=\"col_heading level0 col6\" >percentage</th>    </tr></thead><tbody>\n",
       "                <tr>\n",
       "                                <td id=\"T_645bc71d_049f_11eb_835b_701ce71031efrow0_col0\" class=\"data row0 col0\" >北京</td>\n",
       "                        <td id=\"T_645bc71d_049f_11eb_835b_701ce71031efrow0_col1\" class=\"data row0 col1\" >19042</td>\n",
       "                        <td id=\"T_645bc71d_049f_11eb_835b_701ce71031efrow0_col2\" class=\"data row0 col2\" >6000</td>\n",
       "                        <td id=\"T_645bc71d_049f_11eb_835b_701ce71031efrow0_col3\" class=\"data row0 col3\" >16666</td>\n",
       "                        <td id=\"T_645bc71d_049f_11eb_835b_701ce71031efrow0_col4\" class=\"data row0 col4\" >45000</td>\n",
       "                        <td id=\"T_645bc71d_049f_11eb_835b_701ce71031efrow0_col5\" class=\"data row0 col5\" >29211</td>\n",
       "                        <td id=\"T_645bc71d_049f_11eb_835b_701ce71031efrow0_col6\" class=\"data row0 col6\" >16.60%</td>\n",
       "            </tr>\n",
       "            <tr>\n",
       "                                <td id=\"T_645bc71d_049f_11eb_835b_701ce71031efrow1_col0\" class=\"data row1 col0\" >上海</td>\n",
       "                        <td id=\"T_645bc71d_049f_11eb_835b_701ce71031efrow1_col1\" class=\"data row1 col1\" >17690</td>\n",
       "                        <td id=\"T_645bc71d_049f_11eb_835b_701ce71031efrow1_col2\" class=\"data row1 col2\" >7000</td>\n",
       "                        <td id=\"T_645bc71d_049f_11eb_835b_701ce71031efrow1_col3\" class=\"data row1 col3\" >16000</td>\n",
       "                        <td id=\"T_645bc71d_049f_11eb_835b_701ce71031efrow1_col4\" class=\"data row1 col4\" >40000</td>\n",
       "                        <td id=\"T_645bc71d_049f_11eb_835b_701ce71031efrow1_col5\" class=\"data row1 col5\" >58613</td>\n",
       "                        <td id=\"T_645bc71d_049f_11eb_835b_701ce71031efrow1_col6\" class=\"data row1 col6\" >33.30%</td>\n",
       "            </tr>\n",
       "            <tr>\n",
       "                                <td id=\"T_645bc71d_049f_11eb_835b_701ce71031efrow2_col0\" class=\"data row2 col0\" >深圳</td>\n",
       "                        <td id=\"T_645bc71d_049f_11eb_835b_701ce71031efrow2_col1\" class=\"data row2 col1\" >16915</td>\n",
       "                        <td id=\"T_645bc71d_049f_11eb_835b_701ce71031efrow2_col2\" class=\"data row2 col2\" >7000</td>\n",
       "                        <td id=\"T_645bc71d_049f_11eb_835b_701ce71031efrow2_col3\" class=\"data row2 col3\" >15000</td>\n",
       "                        <td id=\"T_645bc71d_049f_11eb_835b_701ce71031efrow2_col4\" class=\"data row2 col4\" >37500</td>\n",
       "                        <td id=\"T_645bc71d_049f_11eb_835b_701ce71031efrow2_col5\" class=\"data row2 col5\" >53145</td>\n",
       "                        <td id=\"T_645bc71d_049f_11eb_835b_701ce71031efrow2_col6\" class=\"data row2 col6\" >30.19%</td>\n",
       "            </tr>\n",
       "            <tr>\n",
       "                                <td id=\"T_645bc71d_049f_11eb_835b_701ce71031efrow3_col0\" class=\"data row3 col0\" >广州</td>\n",
       "                        <td id=\"T_645bc71d_049f_11eb_835b_701ce71031efrow3_col1\" class=\"data row3 col1\" >14064</td>\n",
       "                        <td id=\"T_645bc71d_049f_11eb_835b_701ce71031efrow3_col2\" class=\"data row3 col2\" >5500</td>\n",
       "                        <td id=\"T_645bc71d_049f_11eb_835b_701ce71031efrow3_col3\" class=\"data row3 col3\" >12500</td>\n",
       "                        <td id=\"T_645bc71d_049f_11eb_835b_701ce71031efrow3_col4\" class=\"data row3 col4\" >30000</td>\n",
       "                        <td id=\"T_645bc71d_049f_11eb_835b_701ce71031efrow3_col5\" class=\"data row3 col5\" >35048</td>\n",
       "                        <td id=\"T_645bc71d_049f_11eb_835b_701ce71031efrow3_col6\" class=\"data row3 col6\" >19.91%</td>\n",
       "            </tr>\n",
       "    </tbody></table>"
      ],
      "text/plain": [
       "<pandas.io.formats.style.Styler at 0x1a5eeb63160>"
      ]
     },
     "execution_count": 28,
     "metadata": {},
     "output_type": "execute_result"
    }
   ],
   "source": [
    "data_pl=get_sub_stats_by_col(data,'city')\n",
    "apply_style(data_pl)"
   ]
  },
  {
   "cell_type": "code",
   "execution_count": 29,
   "metadata": {},
   "outputs": [],
   "source": [
    "salary_beijing=data[data.city=='北京'].monthly_salary\n",
    "salary_shanghai=data[data.city=='上海'].monthly_salary\n",
    "salary_guangzhou=data[data.city=='广州'].monthly_salary\n",
    "salary_shenzhen=data[data.city=='深圳'].monthly_salary"
   ]
  },
  {
   "cell_type": "code",
   "execution_count": null,
   "metadata": {},
   "outputs": [],
   "source": []
  },
  {
   "cell_type": "code",
   "execution_count": 30,
   "metadata": {},
   "outputs": [
    {
     "data": {
      "text/plain": [
       "F_onewayResult(statistic=148.48354465345508, pvalue=4.497505080179466e-34)"
      ]
     },
     "execution_count": 30,
     "metadata": {},
     "output_type": "execute_result"
    }
   ],
   "source": [
    "stats.f_oneway(salary_beijing, salary_shanghai)"
   ]
  },
  {
   "cell_type": "code",
   "execution_count": 31,
   "metadata": {},
   "outputs": [
    {
     "data": {
      "text/plain": [
       "F_onewayResult(statistic=146.85057180388245, pvalue=9.73032249800819e-34)"
      ]
     },
     "execution_count": 31,
     "metadata": {},
     "output_type": "execute_result"
    }
   ],
   "source": [
    "stats.f_oneway(salary_shanghai, salary_shenzhen)"
   ]
  },
  {
   "cell_type": "code",
   "execution_count": 32,
   "metadata": {},
   "outputs": [
    {
     "data": {
      "text/plain": [
       "F_onewayResult(statistic=1170.622328891339, pvalue=6.408170707418962e-252)"
      ]
     },
     "execution_count": 32,
     "metadata": {},
     "output_type": "execute_result"
    }
   ],
   "source": [
    "stats.f_oneway(salary_shenzhen, salary_guangzhou)"
   ]
  },
  {
   "cell_type": "markdown",
   "metadata": {},
   "source": [
    "# 编程语言"
   ]
  },
  {
   "cell_type": "code",
   "execution_count": 33,
   "metadata": {},
   "outputs": [
    {
     "data": {
      "text/html": [
       "<style  type=\"text/css\" >\n",
       "</style><table id=\"T_649947dd_049f_11eb_ace4_701ce71031ef\" ><thead>    <tr>        <th class=\"col_heading level0 col0\" >rank</th>        <th class=\"col_heading level0 col1\" >pl_</th>        <th class=\"col_heading level0 col2\" >salary_mean</th>        <th class=\"col_heading level0 col3\" >salary_median</th>        <th class=\"col_heading level0 col4\" >salary_95_min</th>        <th class=\"col_heading level0 col5\" >salary_95_max</th>        <th class=\"col_heading level0 col6\" >head_count</th>        <th class=\"col_heading level0 col7\" >percentage</th>    </tr></thead><tbody>\n",
       "                <tr>\n",
       "                                <td id=\"T_649947dd_049f_11eb_ace4_701ce71031efrow0_col0\" class=\"data row0 col0\" >1</td>\n",
       "                        <td id=\"T_649947dd_049f_11eb_ace4_701ce71031efrow0_col1\" class=\"data row0 col1\" >rust</td>\n",
       "                        <td id=\"T_649947dd_049f_11eb_ace4_701ce71031efrow0_col2\" class=\"data row0 col2\" >24037</td>\n",
       "                        <td id=\"T_649947dd_049f_11eb_ace4_701ce71031efrow0_col3\" class=\"data row0 col3\" >22500</td>\n",
       "                        <td id=\"T_649947dd_049f_11eb_ace4_701ce71031efrow0_col4\" class=\"data row0 col4\" >11500</td>\n",
       "                        <td id=\"T_649947dd_049f_11eb_ace4_701ce71031efrow0_col5\" class=\"data row0 col5\" >46292</td>\n",
       "                        <td id=\"T_649947dd_049f_11eb_ace4_701ce71031efrow0_col6\" class=\"data row0 col6\" >309</td>\n",
       "                        <td id=\"T_649947dd_049f_11eb_ace4_701ce71031efrow0_col7\" class=\"data row0 col7\" >0.12%</td>\n",
       "            </tr>\n",
       "            <tr>\n",
       "                                <td id=\"T_649947dd_049f_11eb_ace4_701ce71031efrow1_col0\" class=\"data row1 col0\" >2</td>\n",
       "                        <td id=\"T_649947dd_049f_11eb_ace4_701ce71031efrow1_col1\" class=\"data row1 col1\" >julia</td>\n",
       "                        <td id=\"T_649947dd_049f_11eb_ace4_701ce71031efrow1_col2\" class=\"data row1 col2\" >23167</td>\n",
       "                        <td id=\"T_649947dd_049f_11eb_ace4_701ce71031efrow1_col3\" class=\"data row1 col3\" >23750</td>\n",
       "                        <td id=\"T_649947dd_049f_11eb_ace4_701ce71031efrow1_col4\" class=\"data row1 col4\" >13333</td>\n",
       "                        <td id=\"T_649947dd_049f_11eb_ace4_701ce71031efrow1_col5\" class=\"data row1 col5\" >40000</td>\n",
       "                        <td id=\"T_649947dd_049f_11eb_ace4_701ce71031efrow1_col6\" class=\"data row1 col6\" >10</td>\n",
       "                        <td id=\"T_649947dd_049f_11eb_ace4_701ce71031efrow1_col7\" class=\"data row1 col7\" >0.00%</td>\n",
       "            </tr>\n",
       "            <tr>\n",
       "                                <td id=\"T_649947dd_049f_11eb_ace4_701ce71031efrow2_col0\" class=\"data row2 col0\" >3</td>\n",
       "                        <td id=\"T_649947dd_049f_11eb_ace4_701ce71031efrow2_col1\" class=\"data row2 col1\" >scala</td>\n",
       "                        <td id=\"T_649947dd_049f_11eb_ace4_701ce71031efrow2_col2\" class=\"data row2 col2\" >21824</td>\n",
       "                        <td id=\"T_649947dd_049f_11eb_ace4_701ce71031efrow2_col3\" class=\"data row2 col3\" >20000</td>\n",
       "                        <td id=\"T_649947dd_049f_11eb_ace4_701ce71031efrow2_col4\" class=\"data row2 col4\" >9000</td>\n",
       "                        <td id=\"T_649947dd_049f_11eb_ace4_701ce71031efrow2_col5\" class=\"data row2 col5\" >45000</td>\n",
       "                        <td id=\"T_649947dd_049f_11eb_ace4_701ce71031efrow2_col6\" class=\"data row2 col6\" >2158</td>\n",
       "                        <td id=\"T_649947dd_049f_11eb_ace4_701ce71031efrow2_col7\" class=\"data row2 col7\" >0.86%</td>\n",
       "            </tr>\n",
       "            <tr>\n",
       "                                <td id=\"T_649947dd_049f_11eb_ace4_701ce71031efrow3_col0\" class=\"data row3 col0\" >4</td>\n",
       "                        <td id=\"T_649947dd_049f_11eb_ace4_701ce71031efrow3_col1\" class=\"data row3 col1\" >matlab</td>\n",
       "                        <td id=\"T_649947dd_049f_11eb_ace4_701ce71031efrow3_col2\" class=\"data row3 col2\" >20731</td>\n",
       "                        <td id=\"T_649947dd_049f_11eb_ace4_701ce71031efrow3_col3\" class=\"data row3 col3\" >20000</td>\n",
       "                        <td id=\"T_649947dd_049f_11eb_ace4_701ce71031efrow3_col4\" class=\"data row3 col4\" >7000</td>\n",
       "                        <td id=\"T_649947dd_049f_11eb_ace4_701ce71031efrow3_col5\" class=\"data row3 col5\" >40000</td>\n",
       "                        <td id=\"T_649947dd_049f_11eb_ace4_701ce71031efrow3_col6\" class=\"data row3 col6\" >3075</td>\n",
       "                        <td id=\"T_649947dd_049f_11eb_ace4_701ce71031efrow3_col7\" class=\"data row3 col7\" >1.23%</td>\n",
       "            </tr>\n",
       "            <tr>\n",
       "                                <td id=\"T_649947dd_049f_11eb_ace4_701ce71031efrow4_col0\" class=\"data row4 col0\" >5</td>\n",
       "                        <td id=\"T_649947dd_049f_11eb_ace4_701ce71031efrow4_col1\" class=\"data row4 col1\" >python</td>\n",
       "                        <td id=\"T_649947dd_049f_11eb_ace4_701ce71031efrow4_col2\" class=\"data row4 col2\" >20493</td>\n",
       "                        <td id=\"T_649947dd_049f_11eb_ace4_701ce71031efrow4_col3\" class=\"data row4 col3\" >17500</td>\n",
       "                        <td id=\"T_649947dd_049f_11eb_ace4_701ce71031efrow4_col4\" class=\"data row4 col4\" >7000</td>\n",
       "                        <td id=\"T_649947dd_049f_11eb_ace4_701ce71031efrow4_col5\" class=\"data row4 col5\" >45000</td>\n",
       "                        <td id=\"T_649947dd_049f_11eb_ace4_701ce71031efrow4_col6\" class=\"data row4 col6\" >21837</td>\n",
       "                        <td id=\"T_649947dd_049f_11eb_ace4_701ce71031efrow4_col7\" class=\"data row4 col7\" >8.71%</td>\n",
       "            </tr>\n",
       "            <tr>\n",
       "                                <td id=\"T_649947dd_049f_11eb_ace4_701ce71031efrow5_col0\" class=\"data row5 col0\" >6</td>\n",
       "                        <td id=\"T_649947dd_049f_11eb_ace4_701ce71031efrow5_col1\" class=\"data row5 col1\" >go</td>\n",
       "                        <td id=\"T_649947dd_049f_11eb_ace4_701ce71031efrow5_col2\" class=\"data row5 col2\" >20491</td>\n",
       "                        <td id=\"T_649947dd_049f_11eb_ace4_701ce71031efrow5_col3\" class=\"data row5 col3\" >17500</td>\n",
       "                        <td id=\"T_649947dd_049f_11eb_ace4_701ce71031efrow5_col4\" class=\"data row5 col4\" >8000</td>\n",
       "                        <td id=\"T_649947dd_049f_11eb_ace4_701ce71031efrow5_col5\" class=\"data row5 col5\" >45000</td>\n",
       "                        <td id=\"T_649947dd_049f_11eb_ace4_701ce71031efrow5_col6\" class=\"data row5 col6\" >19111</td>\n",
       "                        <td id=\"T_649947dd_049f_11eb_ace4_701ce71031efrow5_col7\" class=\"data row5 col7\" >7.62%</td>\n",
       "            </tr>\n",
       "            <tr>\n",
       "                                <td id=\"T_649947dd_049f_11eb_ace4_701ce71031efrow6_col0\" class=\"data row6 col0\" >7</td>\n",
       "                        <td id=\"T_649947dd_049f_11eb_ace4_701ce71031efrow6_col1\" class=\"data row6 col1\" >lua</td>\n",
       "                        <td id=\"T_649947dd_049f_11eb_ace4_701ce71031efrow6_col2\" class=\"data row6 col2\" >20169</td>\n",
       "                        <td id=\"T_649947dd_049f_11eb_ace4_701ce71031efrow6_col3\" class=\"data row6 col3\" >18500</td>\n",
       "                        <td id=\"T_649947dd_049f_11eb_ace4_701ce71031efrow6_col4\" class=\"data row6 col4\" >7500</td>\n",
       "                        <td id=\"T_649947dd_049f_11eb_ace4_701ce71031efrow6_col5\" class=\"data row6 col5\" >42342</td>\n",
       "                        <td id=\"T_649947dd_049f_11eb_ace4_701ce71031efrow6_col6\" class=\"data row6 col6\" >2858</td>\n",
       "                        <td id=\"T_649947dd_049f_11eb_ace4_701ce71031efrow6_col7\" class=\"data row6 col7\" >1.14%</td>\n",
       "            </tr>\n",
       "            <tr>\n",
       "                                <td id=\"T_649947dd_049f_11eb_ace4_701ce71031efrow7_col0\" class=\"data row7 col0\" >8</td>\n",
       "                        <td id=\"T_649947dd_049f_11eb_ace4_701ce71031efrow7_col1\" class=\"data row7 col1\" >perl</td>\n",
       "                        <td id=\"T_649947dd_049f_11eb_ace4_701ce71031efrow7_col2\" class=\"data row7 col2\" >19547</td>\n",
       "                        <td id=\"T_649947dd_049f_11eb_ace4_701ce71031efrow7_col3\" class=\"data row7 col3\" >17500</td>\n",
       "                        <td id=\"T_649947dd_049f_11eb_ace4_701ce71031efrow7_col4\" class=\"data row7 col4\" >7489</td>\n",
       "                        <td id=\"T_649947dd_049f_11eb_ace4_701ce71031efrow7_col5\" class=\"data row7 col5\" >41666</td>\n",
       "                        <td id=\"T_649947dd_049f_11eb_ace4_701ce71031efrow7_col6\" class=\"data row7 col6\" >1357</td>\n",
       "                        <td id=\"T_649947dd_049f_11eb_ace4_701ce71031efrow7_col7\" class=\"data row7 col7\" >0.54%</td>\n",
       "            </tr>\n",
       "            <tr>\n",
       "                                <td id=\"T_649947dd_049f_11eb_ace4_701ce71031efrow8_col0\" class=\"data row8 col0\" >9</td>\n",
       "                        <td id=\"T_649947dd_049f_11eb_ace4_701ce71031efrow8_col1\" class=\"data row8 col1\" >swift</td>\n",
       "                        <td id=\"T_649947dd_049f_11eb_ace4_701ce71031efrow8_col2\" class=\"data row8 col2\" >19295</td>\n",
       "                        <td id=\"T_649947dd_049f_11eb_ace4_701ce71031efrow8_col3\" class=\"data row8 col3\" >17500</td>\n",
       "                        <td id=\"T_649947dd_049f_11eb_ace4_701ce71031efrow8_col4\" class=\"data row8 col4\" >9000</td>\n",
       "                        <td id=\"T_649947dd_049f_11eb_ace4_701ce71031efrow8_col5\" class=\"data row8 col5\" >43725</td>\n",
       "                        <td id=\"T_649947dd_049f_11eb_ace4_701ce71031efrow8_col6\" class=\"data row8 col6\" >1791</td>\n",
       "                        <td id=\"T_649947dd_049f_11eb_ace4_701ce71031efrow8_col7\" class=\"data row8 col7\" >0.71%</td>\n",
       "            </tr>\n",
       "            <tr>\n",
       "                                <td id=\"T_649947dd_049f_11eb_ace4_701ce71031efrow9_col0\" class=\"data row9 col0\" >10</td>\n",
       "                        <td id=\"T_649947dd_049f_11eb_ace4_701ce71031efrow9_col1\" class=\"data row9 col1\" >r</td>\n",
       "                        <td id=\"T_649947dd_049f_11eb_ace4_701ce71031efrow9_col2\" class=\"data row9 col2\" >18621</td>\n",
       "                        <td id=\"T_649947dd_049f_11eb_ace4_701ce71031efrow9_col3\" class=\"data row9 col3\" >17500</td>\n",
       "                        <td id=\"T_649947dd_049f_11eb_ace4_701ce71031efrow9_col4\" class=\"data row9 col4\" >6500</td>\n",
       "                        <td id=\"T_649947dd_049f_11eb_ace4_701ce71031efrow9_col5\" class=\"data row9 col5\" >40000</td>\n",
       "                        <td id=\"T_649947dd_049f_11eb_ace4_701ce71031efrow9_col6\" class=\"data row9 col6\" >2704</td>\n",
       "                        <td id=\"T_649947dd_049f_11eb_ace4_701ce71031efrow9_col7\" class=\"data row9 col7\" >1.08%</td>\n",
       "            </tr>\n",
       "            <tr>\n",
       "                                <td id=\"T_649947dd_049f_11eb_ace4_701ce71031efrow10_col0\" class=\"data row10 col0\" >11</td>\n",
       "                        <td id=\"T_649947dd_049f_11eb_ace4_701ce71031efrow10_col1\" class=\"data row10 col1\" >kotlin</td>\n",
       "                        <td id=\"T_649947dd_049f_11eb_ace4_701ce71031efrow10_col2\" class=\"data row10 col2\" >18454</td>\n",
       "                        <td id=\"T_649947dd_049f_11eb_ace4_701ce71031efrow10_col3\" class=\"data row10 col3\" >17500</td>\n",
       "                        <td id=\"T_649947dd_049f_11eb_ace4_701ce71031efrow10_col4\" class=\"data row10 col4\" >8162</td>\n",
       "                        <td id=\"T_649947dd_049f_11eb_ace4_701ce71031efrow10_col5\" class=\"data row10 col5\" >38012</td>\n",
       "                        <td id=\"T_649947dd_049f_11eb_ace4_701ce71031efrow10_col6\" class=\"data row10 col6\" >1059</td>\n",
       "                        <td id=\"T_649947dd_049f_11eb_ace4_701ce71031efrow10_col7\" class=\"data row10 col7\" >0.42%</td>\n",
       "            </tr>\n",
       "            <tr>\n",
       "                                <td id=\"T_649947dd_049f_11eb_ace4_701ce71031efrow11_col0\" class=\"data row11 col0\" >12</td>\n",
       "                        <td id=\"T_649947dd_049f_11eb_ace4_701ce71031efrow11_col1\" class=\"data row11 col1\" >cpp</td>\n",
       "                        <td id=\"T_649947dd_049f_11eb_ace4_701ce71031efrow11_col2\" class=\"data row11 col2\" >18009</td>\n",
       "                        <td id=\"T_649947dd_049f_11eb_ace4_701ce71031efrow11_col3\" class=\"data row11 col3\" >16000</td>\n",
       "                        <td id=\"T_649947dd_049f_11eb_ace4_701ce71031efrow11_col4\" class=\"data row11 col4\" >7000</td>\n",
       "                        <td id=\"T_649947dd_049f_11eb_ace4_701ce71031efrow11_col5\" class=\"data row11 col5\" >40000</td>\n",
       "                        <td id=\"T_649947dd_049f_11eb_ace4_701ce71031efrow11_col6\" class=\"data row11 col6\" >63490</td>\n",
       "                        <td id=\"T_649947dd_049f_11eb_ace4_701ce71031efrow11_col7\" class=\"data row11 col7\" >25.31%</td>\n",
       "            </tr>\n",
       "            <tr>\n",
       "                                <td id=\"T_649947dd_049f_11eb_ace4_701ce71031efrow12_col0\" class=\"data row12 col0\" >13</td>\n",
       "                        <td id=\"T_649947dd_049f_11eb_ace4_701ce71031efrow12_col1\" class=\"data row12 col1\" >ruby</td>\n",
       "                        <td id=\"T_649947dd_049f_11eb_ace4_701ce71031efrow12_col2\" class=\"data row12 col2\" >17903</td>\n",
       "                        <td id=\"T_649947dd_049f_11eb_ace4_701ce71031efrow12_col3\" class=\"data row12 col3\" >15125</td>\n",
       "                        <td id=\"T_649947dd_049f_11eb_ace4_701ce71031efrow12_col4\" class=\"data row12 col4\" >7000</td>\n",
       "                        <td id=\"T_649947dd_049f_11eb_ace4_701ce71031efrow12_col5\" class=\"data row12 col5\" >37500</td>\n",
       "                        <td id=\"T_649947dd_049f_11eb_ace4_701ce71031efrow12_col6\" class=\"data row12 col6\" >739</td>\n",
       "                        <td id=\"T_649947dd_049f_11eb_ace4_701ce71031efrow12_col7\" class=\"data row12 col7\" >0.29%</td>\n",
       "            </tr>\n",
       "            <tr>\n",
       "                                <td id=\"T_649947dd_049f_11eb_ace4_701ce71031efrow13_col0\" class=\"data row13 col0\" >14</td>\n",
       "                        <td id=\"T_649947dd_049f_11eb_ace4_701ce71031efrow13_col1\" class=\"data row13 col1\" >java</td>\n",
       "                        <td id=\"T_649947dd_049f_11eb_ace4_701ce71031efrow13_col2\" class=\"data row13 col2\" >17101</td>\n",
       "                        <td id=\"T_649947dd_049f_11eb_ace4_701ce71031efrow13_col3\" class=\"data row13 col3\" >15000</td>\n",
       "                        <td id=\"T_649947dd_049f_11eb_ace4_701ce71031efrow13_col4\" class=\"data row13 col4\" >7000</td>\n",
       "                        <td id=\"T_649947dd_049f_11eb_ace4_701ce71031efrow13_col5\" class=\"data row13 col5\" >37500</td>\n",
       "                        <td id=\"T_649947dd_049f_11eb_ace4_701ce71031efrow13_col6\" class=\"data row13 col6\" >68190</td>\n",
       "                        <td id=\"T_649947dd_049f_11eb_ace4_701ce71031efrow13_col7\" class=\"data row13 col7\" >27.19%</td>\n",
       "            </tr>\n",
       "            <tr>\n",
       "                                <td id=\"T_649947dd_049f_11eb_ace4_701ce71031efrow14_col0\" class=\"data row14 col0\" >15</td>\n",
       "                        <td id=\"T_649947dd_049f_11eb_ace4_701ce71031efrow14_col1\" class=\"data row14 col1\" >typescript</td>\n",
       "                        <td id=\"T_649947dd_049f_11eb_ace4_701ce71031efrow14_col2\" class=\"data row14 col2\" >16819</td>\n",
       "                        <td id=\"T_649947dd_049f_11eb_ace4_701ce71031efrow14_col3\" class=\"data row14 col3\" >15000</td>\n",
       "                        <td id=\"T_649947dd_049f_11eb_ace4_701ce71031efrow14_col4\" class=\"data row14 col4\" >7500</td>\n",
       "                        <td id=\"T_649947dd_049f_11eb_ace4_701ce71031efrow14_col5\" class=\"data row14 col5\" >38256</td>\n",
       "                        <td id=\"T_649947dd_049f_11eb_ace4_701ce71031efrow14_col6\" class=\"data row14 col6\" >2319</td>\n",
       "                        <td id=\"T_649947dd_049f_11eb_ace4_701ce71031efrow14_col7\" class=\"data row14 col7\" >0.92%</td>\n",
       "            </tr>\n",
       "            <tr>\n",
       "                                <td id=\"T_649947dd_049f_11eb_ace4_701ce71031efrow15_col0\" class=\"data row15 col0\" >16</td>\n",
       "                        <td id=\"T_649947dd_049f_11eb_ace4_701ce71031efrow15_col1\" class=\"data row15 col1\" >php</td>\n",
       "                        <td id=\"T_649947dd_049f_11eb_ace4_701ce71031efrow15_col2\" class=\"data row15 col2\" >16566</td>\n",
       "                        <td id=\"T_649947dd_049f_11eb_ace4_701ce71031efrow15_col3\" class=\"data row15 col3\" >14000</td>\n",
       "                        <td id=\"T_649947dd_049f_11eb_ace4_701ce71031efrow15_col4\" class=\"data row15 col4\" >5500</td>\n",
       "                        <td id=\"T_649947dd_049f_11eb_ace4_701ce71031efrow15_col5\" class=\"data row15 col5\" >37500</td>\n",
       "                        <td id=\"T_649947dd_049f_11eb_ace4_701ce71031efrow15_col6\" class=\"data row15 col6\" >8010</td>\n",
       "                        <td id=\"T_649947dd_049f_11eb_ace4_701ce71031efrow15_col7\" class=\"data row15 col7\" >3.19%</td>\n",
       "            </tr>\n",
       "            <tr>\n",
       "                                <td id=\"T_649947dd_049f_11eb_ace4_701ce71031efrow16_col0\" class=\"data row16 col0\" >17</td>\n",
       "                        <td id=\"T_649947dd_049f_11eb_ace4_701ce71031efrow16_col1\" class=\"data row16 col1\" >haskell</td>\n",
       "                        <td id=\"T_649947dd_049f_11eb_ace4_701ce71031efrow16_col2\" class=\"data row16 col2\" >15591</td>\n",
       "                        <td id=\"T_649947dd_049f_11eb_ace4_701ce71031efrow16_col3\" class=\"data row16 col3\" >15000</td>\n",
       "                        <td id=\"T_649947dd_049f_11eb_ace4_701ce71031efrow16_col4\" class=\"data row16 col4\" >11500</td>\n",
       "                        <td id=\"T_649947dd_049f_11eb_ace4_701ce71031efrow16_col5\" class=\"data row16 col5\" >32475</td>\n",
       "                        <td id=\"T_649947dd_049f_11eb_ace4_701ce71031efrow16_col6\" class=\"data row16 col6\" >22</td>\n",
       "                        <td id=\"T_649947dd_049f_11eb_ace4_701ce71031efrow16_col7\" class=\"data row16 col7\" >0.01%</td>\n",
       "            </tr>\n",
       "            <tr>\n",
       "                                <td id=\"T_649947dd_049f_11eb_ace4_701ce71031efrow17_col0\" class=\"data row17 col0\" >18</td>\n",
       "                        <td id=\"T_649947dd_049f_11eb_ace4_701ce71031efrow17_col1\" class=\"data row17 col1\" >objective_c</td>\n",
       "                        <td id=\"T_649947dd_049f_11eb_ace4_701ce71031efrow17_col2\" class=\"data row17 col2\" >15512</td>\n",
       "                        <td id=\"T_649947dd_049f_11eb_ace4_701ce71031efrow17_col3\" class=\"data row17 col3\" >12500</td>\n",
       "                        <td id=\"T_649947dd_049f_11eb_ace4_701ce71031efrow17_col4\" class=\"data row17 col4\" >7700</td>\n",
       "                        <td id=\"T_649947dd_049f_11eb_ace4_701ce71031efrow17_col5\" class=\"data row17 col5\" >44033</td>\n",
       "                        <td id=\"T_649947dd_049f_11eb_ace4_701ce71031efrow17_col6\" class=\"data row17 col6\" >108</td>\n",
       "                        <td id=\"T_649947dd_049f_11eb_ace4_701ce71031efrow17_col7\" class=\"data row17 col7\" >0.04%</td>\n",
       "            </tr>\n",
       "            <tr>\n",
       "                                <td id=\"T_649947dd_049f_11eb_ace4_701ce71031efrow18_col0\" class=\"data row18 col0\" >19</td>\n",
       "                        <td id=\"T_649947dd_049f_11eb_ace4_701ce71031efrow18_col1\" class=\"data row18 col1\" >c_sharp</td>\n",
       "                        <td id=\"T_649947dd_049f_11eb_ace4_701ce71031efrow18_col2\" class=\"data row18 col2\" >14748</td>\n",
       "                        <td id=\"T_649947dd_049f_11eb_ace4_701ce71031efrow18_col3\" class=\"data row18 col3\" >13000</td>\n",
       "                        <td id=\"T_649947dd_049f_11eb_ace4_701ce71031efrow18_col4\" class=\"data row18 col4\" >6000</td>\n",
       "                        <td id=\"T_649947dd_049f_11eb_ace4_701ce71031efrow18_col5\" class=\"data row18 col5\" >30000</td>\n",
       "                        <td id=\"T_649947dd_049f_11eb_ace4_701ce71031efrow18_col6\" class=\"data row18 col6\" >17842</td>\n",
       "                        <td id=\"T_649947dd_049f_11eb_ace4_701ce71031efrow18_col7\" class=\"data row18 col7\" >7.11%</td>\n",
       "            </tr>\n",
       "            <tr>\n",
       "                                <td id=\"T_649947dd_049f_11eb_ace4_701ce71031efrow19_col0\" class=\"data row19 col0\" >20</td>\n",
       "                        <td id=\"T_649947dd_049f_11eb_ace4_701ce71031efrow19_col1\" class=\"data row19 col1\" >javascript</td>\n",
       "                        <td id=\"T_649947dd_049f_11eb_ace4_701ce71031efrow19_col2\" class=\"data row19 col2\" >14597</td>\n",
       "                        <td id=\"T_649947dd_049f_11eb_ace4_701ce71031efrow19_col3\" class=\"data row19 col3\" >12500</td>\n",
       "                        <td id=\"T_649947dd_049f_11eb_ace4_701ce71031efrow19_col4\" class=\"data row19 col4\" >7000</td>\n",
       "                        <td id=\"T_649947dd_049f_11eb_ace4_701ce71031efrow19_col5\" class=\"data row19 col5\" >30000</td>\n",
       "                        <td id=\"T_649947dd_049f_11eb_ace4_701ce71031efrow19_col6\" class=\"data row19 col6\" >33124</td>\n",
       "                        <td id=\"T_649947dd_049f_11eb_ace4_701ce71031efrow19_col7\" class=\"data row19 col7\" >13.21%</td>\n",
       "            </tr>\n",
       "            <tr>\n",
       "                                <td id=\"T_649947dd_049f_11eb_ace4_701ce71031efrow20_col0\" class=\"data row20 col0\" >21</td>\n",
       "                        <td id=\"T_649947dd_049f_11eb_ace4_701ce71031efrow20_col1\" class=\"data row20 col1\" >visual_basic</td>\n",
       "                        <td id=\"T_649947dd_049f_11eb_ace4_701ce71031efrow20_col2\" class=\"data row20 col2\" >14081</td>\n",
       "                        <td id=\"T_649947dd_049f_11eb_ace4_701ce71031efrow20_col3\" class=\"data row20 col3\" >12500</td>\n",
       "                        <td id=\"T_649947dd_049f_11eb_ace4_701ce71031efrow20_col4\" class=\"data row20 col4\" >6882</td>\n",
       "                        <td id=\"T_649947dd_049f_11eb_ace4_701ce71031efrow20_col5\" class=\"data row20 col5\" >22500</td>\n",
       "                        <td id=\"T_649947dd_049f_11eb_ace4_701ce71031efrow20_col6\" class=\"data row20 col6\" >43</td>\n",
       "                        <td id=\"T_649947dd_049f_11eb_ace4_701ce71031efrow20_col7\" class=\"data row20 col7\" >0.02%</td>\n",
       "            </tr>\n",
       "            <tr>\n",
       "                                <td id=\"T_649947dd_049f_11eb_ace4_701ce71031efrow21_col0\" class=\"data row21 col0\" >22</td>\n",
       "                        <td id=\"T_649947dd_049f_11eb_ace4_701ce71031efrow21_col1\" class=\"data row21 col1\" >delphi</td>\n",
       "                        <td id=\"T_649947dd_049f_11eb_ace4_701ce71031efrow21_col2\" class=\"data row21 col2\" >13121</td>\n",
       "                        <td id=\"T_649947dd_049f_11eb_ace4_701ce71031efrow21_col3\" class=\"data row21 col3\" >12500</td>\n",
       "                        <td id=\"T_649947dd_049f_11eb_ace4_701ce71031efrow21_col4\" class=\"data row21 col4\" >5496</td>\n",
       "                        <td id=\"T_649947dd_049f_11eb_ace4_701ce71031efrow21_col5\" class=\"data row21 col5\" >22500</td>\n",
       "                        <td id=\"T_649947dd_049f_11eb_ace4_701ce71031efrow21_col6\" class=\"data row21 col6\" >318</td>\n",
       "                        <td id=\"T_649947dd_049f_11eb_ace4_701ce71031efrow21_col7\" class=\"data row21 col7\" >0.13%</td>\n",
       "            </tr>\n",
       "            <tr>\n",
       "                                <td id=\"T_649947dd_049f_11eb_ace4_701ce71031efrow22_col0\" class=\"data row22 col0\" >23</td>\n",
       "                        <td id=\"T_649947dd_049f_11eb_ace4_701ce71031efrow22_col1\" class=\"data row22 col1\" >vba</td>\n",
       "                        <td id=\"T_649947dd_049f_11eb_ace4_701ce71031efrow22_col2\" class=\"data row22 col2\" >12143</td>\n",
       "                        <td id=\"T_649947dd_049f_11eb_ace4_701ce71031efrow22_col3\" class=\"data row22 col3\" >11500</td>\n",
       "                        <td id=\"T_649947dd_049f_11eb_ace4_701ce71031efrow22_col4\" class=\"data row22 col4\" >5262</td>\n",
       "                        <td id=\"T_649947dd_049f_11eb_ace4_701ce71031efrow22_col5\" class=\"data row22 col5\" >23208</td>\n",
       "                        <td id=\"T_649947dd_049f_11eb_ace4_701ce71031efrow22_col6\" class=\"data row22 col6\" >343</td>\n",
       "                        <td id=\"T_649947dd_049f_11eb_ace4_701ce71031efrow22_col7\" class=\"data row22 col7\" >0.14%</td>\n",
       "            </tr>\n",
       "    </tbody></table>"
      ],
      "text/plain": [
       "<pandas.io.formats.style.Styler at 0x1a5f7a83280>"
      ]
     },
     "execution_count": 33,
     "metadata": {},
     "output_type": "execute_result"
    }
   ],
   "source": [
    "data_pl=get_sub_stats_by_prefix(data,'pl_')\n",
    "apply_style(data_pl)"
   ]
  },
  {
   "cell_type": "code",
   "execution_count": null,
   "metadata": {},
   "outputs": [],
   "source": []
  },
  {
   "cell_type": "markdown",
   "metadata": {},
   "source": [
    "数据显示，haskell才是最赚钱的编程语言。python是主流语言里面最赚钱的，比java的工资多了3000元！vb是最不赚钱的了。其中，最赚钱的编程语言和最不赚钱的，工资居然差了2倍。所以，要选好编程语言呀！"
   ]
  },
  {
   "cell_type": "markdown",
   "metadata": {},
   "source": [
    "# 教育"
   ]
  },
  {
   "cell_type": "code",
   "execution_count": 34,
   "metadata": {},
   "outputs": [],
   "source": [
    "edu_counts=data[~(data.edu=='')].groupby(by=['edu']).headcount.sum()"
   ]
  },
  {
   "cell_type": "code",
   "execution_count": 35,
   "metadata": {},
   "outputs": [
    {
     "data": {
      "text/plain": [
       "edu\n",
       "初中及以下        10\n",
       "博士          275\n",
       "大专        47817\n",
       "本科       116225\n",
       "硕士         4608\n",
       "高中          255\n",
       "Name: headcount, dtype: int64"
      ]
     },
     "execution_count": 35,
     "metadata": {},
     "output_type": "execute_result"
    }
   ],
   "source": [
    "edu_counts"
   ]
  },
  {
   "cell_type": "code",
   "execution_count": 36,
   "metadata": {},
   "outputs": [
    {
     "data": {
      "image/png": "[encoded data removed]",
      "text/plain": [
       "<Figure size 720x576 with 1 Axes>"
      ]
     },
     "metadata": {},
     "output_type": "display_data"
    }
   ],
   "source": [
    "plt.figure(figsize=(10,8))\n",
    "plt.pie(edu_counts.values, labels=edu_counts.index, autopct='%1.1f%%')\n",
    "plt.show()"
   ]
  },
  {
   "cell_type": "code",
   "execution_count": 37,
   "metadata": {},
   "outputs": [
    {
     "data": {
      "text/html": [
       "<style  type=\"text/css\" >\n",
       "</style><table id=\"T_64d48a2f_049f_11eb_b373_701ce71031ef\" ><thead>    <tr>        <th class=\"col_heading level0 col0\" >edu</th>        <th class=\"col_heading level0 col1\" >salary_mean</th>        <th class=\"col_heading level0 col2\" >salary_95_min</th>        <th class=\"col_heading level0 col3\" >salary_median</th>        <th class=\"col_heading level0 col4\" >salary_95_max</th>        <th class=\"col_heading level0 col5\" >head_count</th>        <th class=\"col_heading level0 col6\" >percentage</th>    </tr></thead><tbody>\n",
       "                <tr>\n",
       "                                <td id=\"T_64d48a2f_049f_11eb_b373_701ce71031efrow0_col0\" class=\"data row0 col0\" >博士</td>\n",
       "                        <td id=\"T_64d48a2f_049f_11eb_b373_701ce71031efrow0_col1\" class=\"data row0 col1\" >29100</td>\n",
       "                        <td id=\"T_64d48a2f_049f_11eb_b373_701ce71031efrow0_col2\" class=\"data row0 col2\" >10817</td>\n",
       "                        <td id=\"T_64d48a2f_049f_11eb_b373_701ce71031efrow0_col3\" class=\"data row0 col3\" >27500</td>\n",
       "                        <td id=\"T_64d48a2f_049f_11eb_b373_701ce71031efrow0_col4\" class=\"data row0 col4\" >62500</td>\n",
       "                        <td id=\"T_64d48a2f_049f_11eb_b373_701ce71031efrow0_col5\" class=\"data row0 col5\" >275</td>\n",
       "                        <td id=\"T_64d48a2f_049f_11eb_b373_701ce71031efrow0_col6\" class=\"data row0 col6\" >0.16%</td>\n",
       "            </tr>\n",
       "            <tr>\n",
       "                                <td id=\"T_64d48a2f_049f_11eb_b373_701ce71031efrow1_col0\" class=\"data row1 col0\" >硕士</td>\n",
       "                        <td id=\"T_64d48a2f_049f_11eb_b373_701ce71031efrow1_col1\" class=\"data row1 col1\" >23984</td>\n",
       "                        <td id=\"T_64d48a2f_049f_11eb_b373_701ce71031efrow1_col2\" class=\"data row1 col2\" >9000</td>\n",
       "                        <td id=\"T_64d48a2f_049f_11eb_b373_701ce71031efrow1_col3\" class=\"data row1 col3\" >22500</td>\n",
       "                        <td id=\"T_64d48a2f_049f_11eb_b373_701ce71031efrow1_col4\" class=\"data row1 col4\" >50000</td>\n",
       "                        <td id=\"T_64d48a2f_049f_11eb_b373_701ce71031efrow1_col5\" class=\"data row1 col5\" >4608</td>\n",
       "                        <td id=\"T_64d48a2f_049f_11eb_b373_701ce71031efrow1_col6\" class=\"data row1 col6\" >2.72%</td>\n",
       "            </tr>\n",
       "            <tr>\n",
       "                                <td id=\"T_64d48a2f_049f_11eb_b373_701ce71031efrow2_col0\" class=\"data row2 col0\" >本科</td>\n",
       "                        <td id=\"T_64d48a2f_049f_11eb_b373_701ce71031efrow2_col1\" class=\"data row2 col1\" >18016</td>\n",
       "                        <td id=\"T_64d48a2f_049f_11eb_b373_701ce71031efrow2_col2\" class=\"data row2 col2\" >7000</td>\n",
       "                        <td id=\"T_64d48a2f_049f_11eb_b373_701ce71031efrow2_col3\" class=\"data row2 col3\" >16000</td>\n",
       "                        <td id=\"T_64d48a2f_049f_11eb_b373_701ce71031efrow2_col4\" class=\"data row2 col4\" >40000</td>\n",
       "                        <td id=\"T_64d48a2f_049f_11eb_b373_701ce71031efrow2_col5\" class=\"data row2 col5\" >116225</td>\n",
       "                        <td id=\"T_64d48a2f_049f_11eb_b373_701ce71031efrow2_col6\" class=\"data row2 col6\" >68.69%</td>\n",
       "            </tr>\n",
       "            <tr>\n",
       "                                <td id=\"T_64d48a2f_049f_11eb_b373_701ce71031efrow3_col0\" class=\"data row3 col0\" >大专</td>\n",
       "                        <td id=\"T_64d48a2f_049f_11eb_b373_701ce71031efrow3_col1\" class=\"data row3 col1\" >13858</td>\n",
       "                        <td id=\"T_64d48a2f_049f_11eb_b373_701ce71031efrow3_col2\" class=\"data row3 col2\" >5250</td>\n",
       "                        <td id=\"T_64d48a2f_049f_11eb_b373_701ce71031efrow3_col3\" class=\"data row3 col3\" >12500</td>\n",
       "                        <td id=\"T_64d48a2f_049f_11eb_b373_701ce71031efrow3_col4\" class=\"data row3 col4\" >27500</td>\n",
       "                        <td id=\"T_64d48a2f_049f_11eb_b373_701ce71031efrow3_col5\" class=\"data row3 col5\" >47817</td>\n",
       "                        <td id=\"T_64d48a2f_049f_11eb_b373_701ce71031efrow3_col6\" class=\"data row3 col6\" >28.26%</td>\n",
       "            </tr>\n",
       "            <tr>\n",
       "                                <td id=\"T_64d48a2f_049f_11eb_b373_701ce71031efrow4_col0\" class=\"data row4 col0\" >初中及以下</td>\n",
       "                        <td id=\"T_64d48a2f_049f_11eb_b373_701ce71031efrow4_col1\" class=\"data row4 col1\" >10125</td>\n",
       "                        <td id=\"T_64d48a2f_049f_11eb_b373_701ce71031efrow4_col2\" class=\"data row4 col2\" >3750</td>\n",
       "                        <td id=\"T_64d48a2f_049f_11eb_b373_701ce71031efrow4_col3\" class=\"data row4 col3\" >9219</td>\n",
       "                        <td id=\"T_64d48a2f_049f_11eb_b373_701ce71031efrow4_col4\" class=\"data row4 col4\" >27500</td>\n",
       "                        <td id=\"T_64d48a2f_049f_11eb_b373_701ce71031efrow4_col5\" class=\"data row4 col5\" >10</td>\n",
       "                        <td id=\"T_64d48a2f_049f_11eb_b373_701ce71031efrow4_col6\" class=\"data row4 col6\" >0.01%</td>\n",
       "            </tr>\n",
       "            <tr>\n",
       "                                <td id=\"T_64d48a2f_049f_11eb_b373_701ce71031efrow5_col0\" class=\"data row5 col0\" >高中</td>\n",
       "                        <td id=\"T_64d48a2f_049f_11eb_b373_701ce71031efrow5_col1\" class=\"data row5 col1\" >7638</td>\n",
       "                        <td id=\"T_64d48a2f_049f_11eb_b373_701ce71031efrow5_col2\" class=\"data row5 col2\" >3750</td>\n",
       "                        <td id=\"T_64d48a2f_049f_11eb_b373_701ce71031efrow5_col3\" class=\"data row5 col3\" >7000</td>\n",
       "                        <td id=\"T_64d48a2f_049f_11eb_b373_701ce71031efrow5_col4\" class=\"data row5 col4\" >17688</td>\n",
       "                        <td id=\"T_64d48a2f_049f_11eb_b373_701ce71031efrow5_col5\" class=\"data row5 col5\" >255</td>\n",
       "                        <td id=\"T_64d48a2f_049f_11eb_b373_701ce71031efrow5_col6\" class=\"data row5 col6\" >0.15%</td>\n",
       "            </tr>\n",
       "    </tbody></table>"
      ],
      "text/plain": [
       "<pandas.io.formats.style.Styler at 0x1a5fe41d0a0>"
      ]
     },
     "execution_count": 37,
     "metadata": {},
     "output_type": "execute_result"
    }
   ],
   "source": [
    "data_edu=get_sub_stats_by_col(data[data.edu.isin(['初中及以下','高中','大专','本科','硕士','博士'])], 'edu')\n",
    "apply_style(data_edu)"
   ]
  },
  {
   "cell_type": "code",
   "execution_count": 38,
   "metadata": {},
   "outputs": [],
   "source": [
    "salary_associate=data[data.edu=='大专'].monthly_salary\n",
    "salary_bachelor=data[data.edu=='本科'].monthly_salary\n",
    "salary_master=data[data.edu=='硕士'].monthly_salary\n",
    "salary_phd=data[data.edu=='博士'].monthly_salary"
   ]
  },
  {
   "cell_type": "code",
   "execution_count": null,
   "metadata": {},
   "outputs": [],
   "source": []
  },
  {
   "cell_type": "code",
   "execution_count": 39,
   "metadata": {},
   "outputs": [
    {
     "name": "stdout",
     "output_type": "stream",
     "text": [
      "大专，本科，硕士，博士的平均工资分别是13639，17817，24318，31165。中位数分别是12500， 16000，22500， 27500。\n"
     ]
    }
   ],
   "source": [
    "print('大专，本科，硕士，博士的平均工资分别是{:.0f}，{:.0f}，{:.0f}，{:.0f}。中位数分别是{:.0f}， {:.0f}，{:.0f}， {:.0f}。'.format(\n",
    "    salary_associate.mean(),salary_bachelor.mean(),salary_master.mean(),salary_phd.mean(),\n",
    "    salary_associate.median(),salary_bachelor.median(),salary_master.median(),salary_phd.median()))"
   ]
  },
  {
   "cell_type": "code",
   "execution_count": 40,
   "metadata": {},
   "outputs": [
    {
     "data": {
      "text/plain": [
       "F_onewayResult(statistic=43.39502315126161, pvalue=5.802900382035746e-11)"
      ]
     },
     "execution_count": 40,
     "metadata": {},
     "output_type": "execute_result"
    }
   ],
   "source": [
    "stats.f_oneway(salary_phd, salary_master)"
   ]
  },
  {
   "cell_type": "code",
   "execution_count": 41,
   "metadata": {},
   "outputs": [
    {
     "data": {
      "text/plain": [
       "F_onewayResult(statistic=1073.832983782171, pvalue=1.351714574803962e-232)"
      ]
     },
     "execution_count": 41,
     "metadata": {},
     "output_type": "execute_result"
    }
   ],
   "source": [
    "stats.f_oneway(salary_master, salary_bachelor)"
   ]
  },
  {
   "cell_type": "code",
   "execution_count": 42,
   "metadata": {},
   "outputs": [
    {
     "data": {
      "text/plain": [
       "F_onewayResult(statistic=3664.892567252987, pvalue=0.0)"
      ]
     },
     "execution_count": 42,
     "metadata": {},
     "output_type": "execute_result"
    }
   ],
   "source": [
    "stats.f_oneway(salary_bachelor, salary_associate)"
   ]
  },
  {
   "cell_type": "markdown",
   "metadata": {},
   "source": [
    "经过Oneway Anova Test，证明从大专到博士，学历每提高一级，工资都有显著的提高。"
   ]
  },
  {
   "cell_type": "code",
   "execution_count": 43,
   "metadata": {},
   "outputs": [
    {
     "data": {
      "image/png": "[encoded data removed]",
      "text/plain": [
       "<Figure size 432x288 with 1 Axes>"
      ]
     },
     "metadata": {
      "needs_background": "light"
     },
     "output_type": "display_data"
    }
   ],
   "source": [
    "\n",
    "order=['大专','本科','硕士','博士']\n",
    "a=sns.boxplot(y='edu',x='monthly_salary',order=order,data=data[data.edu.isin(order)], orient='h')\n",
    "plt.annotate('https://github.com/juwikuang/job_survey', xy=(0.5,1.5), xytext=(2, 1.55))\n",
    "plt.show()"
   ]
  },
  {
   "cell_type": "markdown",
   "metadata": {},
   "source": [
    "# 工作经验 Working Experience"
   ]
  },
  {
   "cell_type": "code",
   "execution_count": 44,
   "metadata": {},
   "outputs": [
    {
     "data": {
      "text/html": [
       "<style  type=\"text/css\" >\n",
       "</style><table id=\"T_65414b1d_049f_11eb_9b88_701ce71031ef\" ><thead>    <tr>        <th class=\"col_heading level0 col0\" >experience</th>        <th class=\"col_heading level0 col1\" >salary_mean</th>        <th class=\"col_heading level0 col2\" >salary_95_min</th>        <th class=\"col_heading level0 col3\" >salary_median</th>        <th class=\"col_heading level0 col4\" >salary_95_max</th>        <th class=\"col_heading level0 col5\" >head_count</th>        <th class=\"col_heading level0 col6\" >percentage</th>    </tr></thead><tbody>\n",
       "                <tr>\n",
       "                                <td id=\"T_65414b1d_049f_11eb_9b88_701ce71031efrow0_col0\" class=\"data row0 col0\" >10+</td>\n",
       "                        <td id=\"T_65414b1d_049f_11eb_9b88_701ce71031efrow0_col1\" class=\"data row0 col1\" >31396</td>\n",
       "                        <td id=\"T_65414b1d_049f_11eb_9b88_701ce71031efrow0_col2\" class=\"data row0 col2\" >12500</td>\n",
       "                        <td id=\"T_65414b1d_049f_11eb_9b88_701ce71031efrow0_col3\" class=\"data row0 col3\" >30000</td>\n",
       "                        <td id=\"T_65414b1d_049f_11eb_9b88_701ce71031efrow0_col4\" class=\"data row0 col4\" >55000</td>\n",
       "                        <td id=\"T_65414b1d_049f_11eb_9b88_701ce71031efrow0_col5\" class=\"data row0 col5\" >747</td>\n",
       "                        <td id=\"T_65414b1d_049f_11eb_9b88_701ce71031efrow0_col6\" class=\"data row0 col6\" >0.42%</td>\n",
       "            </tr>\n",
       "            <tr>\n",
       "                                <td id=\"T_65414b1d_049f_11eb_9b88_701ce71031efrow1_col0\" class=\"data row1 col0\" >5_10</td>\n",
       "                        <td id=\"T_65414b1d_049f_11eb_9b88_701ce71031efrow1_col1\" class=\"data row1 col1\" >22872</td>\n",
       "                        <td id=\"T_65414b1d_049f_11eb_9b88_701ce71031efrow1_col2\" class=\"data row1 col2\" >11500</td>\n",
       "                        <td id=\"T_65414b1d_049f_11eb_9b88_701ce71031efrow1_col3\" class=\"data row1 col3\" >20500</td>\n",
       "                        <td id=\"T_65414b1d_049f_11eb_9b88_701ce71031efrow1_col4\" class=\"data row1 col4\" >45000</td>\n",
       "                        <td id=\"T_65414b1d_049f_11eb_9b88_701ce71031efrow1_col5\" class=\"data row1 col5\" >29973</td>\n",
       "                        <td id=\"T_65414b1d_049f_11eb_9b88_701ce71031efrow1_col6\" class=\"data row1 col6\" >17.03%</td>\n",
       "            </tr>\n",
       "            <tr>\n",
       "                                <td id=\"T_65414b1d_049f_11eb_9b88_701ce71031efrow2_col0\" class=\"data row2 col0\" >3_5</td>\n",
       "                        <td id=\"T_65414b1d_049f_11eb_9b88_701ce71031efrow2_col1\" class=\"data row2 col1\" >17701</td>\n",
       "                        <td id=\"T_65414b1d_049f_11eb_9b88_701ce71031efrow2_col2\" class=\"data row2 col2\" >9000</td>\n",
       "                        <td id=\"T_65414b1d_049f_11eb_9b88_701ce71031efrow2_col3\" class=\"data row2 col3\" >16000</td>\n",
       "                        <td id=\"T_65414b1d_049f_11eb_9b88_701ce71031efrow2_col4\" class=\"data row2 col4\" >37500</td>\n",
       "                        <td id=\"T_65414b1d_049f_11eb_9b88_701ce71031efrow2_col5\" class=\"data row2 col5\" >71385</td>\n",
       "                        <td id=\"T_65414b1d_049f_11eb_9b88_701ce71031efrow2_col6\" class=\"data row2 col6\" >40.56%</td>\n",
       "            </tr>\n",
       "            <tr>\n",
       "                                <td id=\"T_65414b1d_049f_11eb_9b88_701ce71031efrow3_col0\" class=\"data row3 col0\" ></td>\n",
       "                        <td id=\"T_65414b1d_049f_11eb_9b88_701ce71031efrow3_col1\" class=\"data row3 col1\" >15199</td>\n",
       "                        <td id=\"T_65414b1d_049f_11eb_9b88_701ce71031efrow3_col2\" class=\"data row3 col2\" >5000</td>\n",
       "                        <td id=\"T_65414b1d_049f_11eb_9b88_701ce71031efrow3_col3\" class=\"data row3 col3\" >12500</td>\n",
       "                        <td id=\"T_65414b1d_049f_11eb_9b88_701ce71031efrow3_col4\" class=\"data row3 col4\" >37500</td>\n",
       "                        <td id=\"T_65414b1d_049f_11eb_9b88_701ce71031efrow3_col5\" class=\"data row3 col5\" >13510</td>\n",
       "                        <td id=\"T_65414b1d_049f_11eb_9b88_701ce71031efrow3_col6\" class=\"data row3 col6\" >7.68%</td>\n",
       "            </tr>\n",
       "            <tr>\n",
       "                                <td id=\"T_65414b1d_049f_11eb_9b88_701ce71031efrow4_col0\" class=\"data row4 col0\" >1_3</td>\n",
       "                        <td id=\"T_65414b1d_049f_11eb_9b88_701ce71031efrow4_col1\" class=\"data row4 col1\" >13361</td>\n",
       "                        <td id=\"T_65414b1d_049f_11eb_9b88_701ce71031efrow4_col2\" class=\"data row4 col2\" >5751</td>\n",
       "                        <td id=\"T_65414b1d_049f_11eb_9b88_701ce71031efrow4_col3\" class=\"data row4 col3\" >12500</td>\n",
       "                        <td id=\"T_65414b1d_049f_11eb_9b88_701ce71031efrow4_col4\" class=\"data row4 col4\" >30000</td>\n",
       "                        <td id=\"T_65414b1d_049f_11eb_9b88_701ce71031efrow4_col5\" class=\"data row4 col5\" >60402</td>\n",
       "                        <td id=\"T_65414b1d_049f_11eb_9b88_701ce71031efrow4_col6\" class=\"data row4 col6\" >34.32%</td>\n",
       "            </tr>\n",
       "    </tbody></table>"
      ],
      "text/plain": [
       "<pandas.io.formats.style.Styler at 0x1a5fff97310>"
      ]
     },
     "execution_count": 44,
     "metadata": {},
     "output_type": "execute_result"
    }
   ],
   "source": [
    "data_experience=get_sub_stats_by_col(data, 'experience')\n",
    "apply_style(data_experience)"
   ]
  },
  {
   "cell_type": "code",
   "execution_count": 45,
   "metadata": {},
   "outputs": [],
   "source": [
    "salary_we_10=data[data.experience=='10+'].monthly_salary\n",
    "salary_we_5_10=data[data.experience=='5_10'].monthly_salary\n",
    "salary_we_3_5=data[data.experience=='3_5'].monthly_salary\n",
    "salary_we_1_3=data[data.experience=='1_3'].monthly_salary\n",
    "salary_we_no=data[data.experience=='no'].monthly_salary"
   ]
  },
  {
   "cell_type": "code",
   "execution_count": 46,
   "metadata": {},
   "outputs": [
    {
     "data": {
      "image/png": "[encoded data removed]",
      "text/plain": [
       "<Figure size 432x288 with 1 Axes>"
      ]
     },
     "metadata": {
      "needs_background": "light"
     },
     "output_type": "display_data"
    }
   ],
   "source": [
    "\n",
    "order=['10+','5_10','3_5','1_3']\n",
    "sns.boxplot(y='experience',x='monthly_salary',order=order,data=data[data.experience.isin(order)], orient='h')\n",
    "plt.annotate('https://github.com/juwikuang/job_survey', xy=(1.5,1.5), xytext=(1.55, 1.55))\n",
    "plt.show()"
   ]
  },
  {
   "cell_type": "markdown",
   "metadata": {},
   "source": [
    "# 公司 Company"
   ]
  },
  {
   "cell_type": "markdown",
   "metadata": {},
   "source": [
    "## 公司性质 Company Type"
   ]
  },
  {
   "cell_type": "code",
   "execution_count": 47,
   "metadata": {},
   "outputs": [
    {
     "ename": "KeyError",
     "evalue": "'company_type'",
     "output_type": "error",
     "traceback": [
      "\u001b[1;31m---------------------------------------------------------------------------\u001b[0m",
      "\u001b[1;31mKeyError\u001b[0m                                  Traceback (most recent call last)",
      "\u001b[1;32mE:\\ProgramData\\Anaconda3\\lib\\site-packages\\pandas\\core\\indexes\\base.py\u001b[0m in \u001b[0;36mget_loc\u001b[1;34m(self, key, method, tolerance)\u001b[0m\n\u001b[0;32m   2645\u001b[0m             \u001b[1;32mtry\u001b[0m\u001b[1;33m:\u001b[0m\u001b[1;33m\u001b[0m\u001b[1;33m\u001b[0m\u001b[0m\n\u001b[1;32m-> 2646\u001b[1;33m                 \u001b[1;32mreturn\u001b[0m \u001b[0mself\u001b[0m\u001b[1;33m.\u001b[0m\u001b[0m_engine\u001b[0m\u001b[1;33m.\u001b[0m\u001b[0mget_loc\u001b[0m\u001b[1;33m(\u001b[0m\u001b[0mkey\u001b[0m\u001b[1;33m)\u001b[0m\u001b[1;33m\u001b[0m\u001b[1;33m\u001b[0m\u001b[0m\n\u001b[0m\u001b[0;32m   2647\u001b[0m             \u001b[1;32mexcept\u001b[0m \u001b[0mKeyError\u001b[0m\u001b[1;33m:\u001b[0m\u001b[1;33m\u001b[0m\u001b[1;33m\u001b[0m\u001b[0m\n",
      "\u001b[1;32mpandas\\_libs\\index.pyx\u001b[0m in \u001b[0;36mpandas._libs.index.IndexEngine.get_loc\u001b[1;34m()\u001b[0m\n",
      "\u001b[1;32mpandas\\_libs\\index.pyx\u001b[0m in \u001b[0;36mpandas._libs.index.IndexEngine.get_loc\u001b[1;34m()\u001b[0m\n",
      "\u001b[1;32mpandas\\_libs\\hashtable_class_helper.pxi\u001b[0m in \u001b[0;36mpandas._libs.hashtable.PyObjectHashTable.get_item\u001b[1;34m()\u001b[0m\n",
      "\u001b[1;32mpandas\\_libs\\hashtable_class_helper.pxi\u001b[0m in \u001b[0;36mpandas._libs.hashtable.PyObjectHashTable.get_item\u001b[1;34m()\u001b[0m\n",
      "\u001b[1;31mKeyError\u001b[0m: 'company_type'",
      "\nDuring handling of the above exception, another exception occurred:\n",
      "\u001b[1;31mKeyError\u001b[0m                                  Traceback (most recent call last)",
      "\u001b[1;32m<ipython-input-47-8570df4a4801>\u001b[0m in \u001b[0;36m<module>\u001b[1;34m\u001b[0m\n\u001b[1;32m----> 1\u001b[1;33m \u001b[0mdata_company_type\u001b[0m\u001b[1;33m=\u001b[0m\u001b[0mget_sub_stats_by_col\u001b[0m\u001b[1;33m(\u001b[0m\u001b[0mdata\u001b[0m\u001b[1;33m,\u001b[0m\u001b[1;34m'company_type'\u001b[0m\u001b[1;33m)\u001b[0m\u001b[1;33m\u001b[0m\u001b[1;33m\u001b[0m\u001b[0m\n\u001b[0m\u001b[0;32m      2\u001b[0m \u001b[0mapply_style\u001b[0m\u001b[1;33m(\u001b[0m\u001b[0mdata_company_type\u001b[0m\u001b[1;33m)\u001b[0m\u001b[1;33m\u001b[0m\u001b[1;33m\u001b[0m\u001b[0m\n",
      "\u001b[1;32m<ipython-input-18-d1d14471b9f6>\u001b[0m in \u001b[0;36mget_sub_stats_by_col\u001b[1;34m(data, col)\u001b[0m\n\u001b[0;32m      1\u001b[0m \u001b[1;31m#Common Functions\u001b[0m\u001b[1;33m\u001b[0m\u001b[1;33m\u001b[0m\u001b[1;33m\u001b[0m\u001b[0m\n\u001b[0;32m      2\u001b[0m \u001b[1;32mdef\u001b[0m \u001b[0mget_sub_stats_by_col\u001b[0m\u001b[1;33m(\u001b[0m\u001b[0mdata\u001b[0m\u001b[1;33m,\u001b[0m \u001b[0mcol\u001b[0m\u001b[1;33m)\u001b[0m\u001b[1;33m:\u001b[0m\u001b[1;33m\u001b[0m\u001b[1;33m\u001b[0m\u001b[0m\n\u001b[1;32m----> 3\u001b[1;33m     \u001b[0mcategories\u001b[0m\u001b[1;33m=\u001b[0m\u001b[0mdata\u001b[0m\u001b[1;33m[\u001b[0m\u001b[0mcol\u001b[0m\u001b[1;33m]\u001b[0m\u001b[1;33m.\u001b[0m\u001b[0munique\u001b[0m\u001b[1;33m(\u001b[0m\u001b[1;33m)\u001b[0m\u001b[1;33m\u001b[0m\u001b[1;33m\u001b[0m\u001b[0m\n\u001b[0m\u001b[0;32m      4\u001b[0m     \u001b[0msalary_mean\u001b[0m\u001b[1;33m=\u001b[0m\u001b[1;33m[\u001b[0m\u001b[1;33m]\u001b[0m\u001b[1;33m\u001b[0m\u001b[1;33m\u001b[0m\u001b[0m\n\u001b[0;32m      5\u001b[0m     \u001b[0msalary_95_min\u001b[0m\u001b[1;33m=\u001b[0m\u001b[1;33m[\u001b[0m\u001b[1;33m]\u001b[0m\u001b[1;33m\u001b[0m\u001b[1;33m\u001b[0m\u001b[0m\n",
      "\u001b[1;32mE:\\ProgramData\\Anaconda3\\lib\\site-packages\\pandas\\core\\frame.py\u001b[0m in \u001b[0;36m__getitem__\u001b[1;34m(self, key)\u001b[0m\n\u001b[0;32m   2798\u001b[0m             \u001b[1;32mif\u001b[0m \u001b[0mself\u001b[0m\u001b[1;33m.\u001b[0m\u001b[0mcolumns\u001b[0m\u001b[1;33m.\u001b[0m\u001b[0mnlevels\u001b[0m \u001b[1;33m>\u001b[0m \u001b[1;36m1\u001b[0m\u001b[1;33m:\u001b[0m\u001b[1;33m\u001b[0m\u001b[1;33m\u001b[0m\u001b[0m\n\u001b[0;32m   2799\u001b[0m                 \u001b[1;32mreturn\u001b[0m \u001b[0mself\u001b[0m\u001b[1;33m.\u001b[0m\u001b[0m_getitem_multilevel\u001b[0m\u001b[1;33m(\u001b[0m\u001b[0mkey\u001b[0m\u001b[1;33m)\u001b[0m\u001b[1;33m\u001b[0m\u001b[1;33m\u001b[0m\u001b[0m\n\u001b[1;32m-> 2800\u001b[1;33m             \u001b[0mindexer\u001b[0m \u001b[1;33m=\u001b[0m \u001b[0mself\u001b[0m\u001b[1;33m.\u001b[0m\u001b[0mcolumns\u001b[0m\u001b[1;33m.\u001b[0m\u001b[0mget_loc\u001b[0m\u001b[1;33m(\u001b[0m\u001b[0mkey\u001b[0m\u001b[1;33m)\u001b[0m\u001b[1;33m\u001b[0m\u001b[1;33m\u001b[0m\u001b[0m\n\u001b[0m\u001b[0;32m   2801\u001b[0m             \u001b[1;32mif\u001b[0m \u001b[0mis_integer\u001b[0m\u001b[1;33m(\u001b[0m\u001b[0mindexer\u001b[0m\u001b[1;33m)\u001b[0m\u001b[1;33m:\u001b[0m\u001b[1;33m\u001b[0m\u001b[1;33m\u001b[0m\u001b[0m\n\u001b[0;32m   2802\u001b[0m                 \u001b[0mindexer\u001b[0m \u001b[1;33m=\u001b[0m \u001b[1;33m[\u001b[0m\u001b[0mindexer\u001b[0m\u001b[1;33m]\u001b[0m\u001b[1;33m\u001b[0m\u001b[1;33m\u001b[0m\u001b[0m\n",
      "\u001b[1;32mE:\\ProgramData\\Anaconda3\\lib\\site-packages\\pandas\\core\\indexes\\base.py\u001b[0m in \u001b[0;36mget_loc\u001b[1;34m(self, key, method, tolerance)\u001b[0m\n\u001b[0;32m   2646\u001b[0m                 \u001b[1;32mreturn\u001b[0m \u001b[0mself\u001b[0m\u001b[1;33m.\u001b[0m\u001b[0m_engine\u001b[0m\u001b[1;33m.\u001b[0m\u001b[0mget_loc\u001b[0m\u001b[1;33m(\u001b[0m\u001b[0mkey\u001b[0m\u001b[1;33m)\u001b[0m\u001b[1;33m\u001b[0m\u001b[1;33m\u001b[0m\u001b[0m\n\u001b[0;32m   2647\u001b[0m             \u001b[1;32mexcept\u001b[0m \u001b[0mKeyError\u001b[0m\u001b[1;33m:\u001b[0m\u001b[1;33m\u001b[0m\u001b[1;33m\u001b[0m\u001b[0m\n\u001b[1;32m-> 2648\u001b[1;33m                 \u001b[1;32mreturn\u001b[0m \u001b[0mself\u001b[0m\u001b[1;33m.\u001b[0m\u001b[0m_engine\u001b[0m\u001b[1;33m.\u001b[0m\u001b[0mget_loc\u001b[0m\u001b[1;33m(\u001b[0m\u001b[0mself\u001b[0m\u001b[1;33m.\u001b[0m\u001b[0m_maybe_cast_indexer\u001b[0m\u001b[1;33m(\u001b[0m\u001b[0mkey\u001b[0m\u001b[1;33m)\u001b[0m\u001b[1;33m)\u001b[0m\u001b[1;33m\u001b[0m\u001b[1;33m\u001b[0m\u001b[0m\n\u001b[0m\u001b[0;32m   2649\u001b[0m         \u001b[0mindexer\u001b[0m \u001b[1;33m=\u001b[0m \u001b[0mself\u001b[0m\u001b[1;33m.\u001b[0m\u001b[0mget_indexer\u001b[0m\u001b[1;33m(\u001b[0m\u001b[1;33m[\u001b[0m\u001b[0mkey\u001b[0m\u001b[1;33m]\u001b[0m\u001b[1;33m,\u001b[0m \u001b[0mmethod\u001b[0m\u001b[1;33m=\u001b[0m\u001b[0mmethod\u001b[0m\u001b[1;33m,\u001b[0m \u001b[0mtolerance\u001b[0m\u001b[1;33m=\u001b[0m\u001b[0mtolerance\u001b[0m\u001b[1;33m)\u001b[0m\u001b[1;33m\u001b[0m\u001b[1;33m\u001b[0m\u001b[0m\n\u001b[0;32m   2650\u001b[0m         \u001b[1;32mif\u001b[0m \u001b[0mindexer\u001b[0m\u001b[1;33m.\u001b[0m\u001b[0mndim\u001b[0m \u001b[1;33m>\u001b[0m \u001b[1;36m1\u001b[0m \u001b[1;32mor\u001b[0m \u001b[0mindexer\u001b[0m\u001b[1;33m.\u001b[0m\u001b[0msize\u001b[0m \u001b[1;33m>\u001b[0m \u001b[1;36m1\u001b[0m\u001b[1;33m:\u001b[0m\u001b[1;33m\u001b[0m\u001b[1;33m\u001b[0m\u001b[0m\n",
      "\u001b[1;32mpandas\\_libs\\index.pyx\u001b[0m in \u001b[0;36mpandas._libs.index.IndexEngine.get_loc\u001b[1;34m()\u001b[0m\n",
      "\u001b[1;32mpandas\\_libs\\index.pyx\u001b[0m in \u001b[0;36mpandas._libs.index.IndexEngine.get_loc\u001b[1;34m()\u001b[0m\n",
      "\u001b[1;32mpandas\\_libs\\hashtable_class_helper.pxi\u001b[0m in \u001b[0;36mpandas._libs.hashtable.PyObjectHashTable.get_item\u001b[1;34m()\u001b[0m\n",
      "\u001b[1;32mpandas\\_libs\\hashtable_class_helper.pxi\u001b[0m in \u001b[0;36mpandas._libs.hashtable.PyObjectHashTable.get_item\u001b[1;34m()\u001b[0m\n",
      "\u001b[1;31mKeyError\u001b[0m: 'company_type'"
     ]
    }
   ],
   "source": [
    "data_company_type=get_sub_stats_by_col(data,'company_type')\n",
    "apply_style(data_company_type)"
   ]
  },
  {
   "cell_type": "markdown",
   "metadata": {},
   "source": [
    "us_eu是欧美外企，startup是创业公司，listed是上市公司，state是国企，private是私企，foreign是非欧美外企，其他不足1000个样本的不管了。"
   ]
  },
  {
   "cell_type": "markdown",
   "metadata": {},
   "source": [
    "## 公司规模 Company Size"
   ]
  },
  {
   "cell_type": "code",
   "execution_count": null,
   "metadata": {},
   "outputs": [],
   "source": [
    "data_company_size=get_sub_stats_by_col(data,'company_size')\n",
    "apply_style(data_company_size)"
   ]
  },
  {
   "cell_type": "markdown",
   "metadata": {},
   "source": [
    "公司越大，工资越高"
   ]
  },
  {
   "cell_type": "markdown",
   "metadata": {},
   "source": [
    "## 行业 Industry"
   ]
  },
  {
   "cell_type": "code",
   "execution_count": null,
   "metadata": {},
   "outputs": [],
   "source": [
    "data_industry=get_sub_stats_by_col(data,'industry')\n",
    "apply_style(data_industry)"
   ]
  },
  {
   "cell_type": "code",
   "execution_count": null,
   "metadata": {},
   "outputs": [],
   "source": []
  },
  {
   "cell_type": "code",
   "execution_count": null,
   "metadata": {},
   "outputs": [],
   "source": []
  }
 ],
 "metadata": {
  "kernelspec": {
   "display_name": "Python 3",
   "language": "python",
   "name": "python3"
  },
  "language_info": {
   "codemirror_mode": {
    "name": "ipython",
    "version": 3
   },
   "file_extension": ".py",
   "mimetype": "text/x-python",
   "name": "python",
   "nbconvert_exporter": "python",
   "pygments_lexer": "ipython3",
   "version": "3.8.3"
  }
 },
 "nbformat": 4,
 "nbformat_minor": 4
}
