{
 "cells": [
  {
   "cell_type": "code",
   "execution_count": 1,
   "metadata": {},
   "outputs": [],
   "source": [
    "provinces = {}\n",
    "provinces['北京'] = '010000'\n",
    "provinces['上海'] = '020000'\n",
    "provinces['广东'] = '030000'\n",
    "provinces['深圳'] = '040000'\n",
    "provinces['天津'] = '050000'\n",
    "provinces['重庆'] = '060000'\n",
    "provinces['江苏'] = '070000'\n",
    "provinces['浙江'] = '080000'\n",
    "provinces['四川'] = '090000'"
   ]
  },
  {
   "cell_type": "code",
   "execution_count": 2,
   "metadata": {},
   "outputs": [
    {
     "data": {
      "text/plain": [
       "{'北京': '010000',\n",
       " '上海': '020000',\n",
       " '广东': '030000',\n",
       " '深圳': '040000',\n",
       " '天津': '050000',\n",
       " '重庆': '060000',\n",
       " '江苏': '070000',\n",
       " '浙江': '080000',\n",
       " '四川': '090000'}"
      ]
     },
     "execution_count": 2,
     "metadata": {},
     "output_type": "execute_result"
    }
   ],
   "source": [
    "provinces"
   ]
  },
  {
   "cell_type": "code",
   "execution_count": 3,
   "metadata": {},
   "outputs": [
    {
     "data": {
      "text/plain": [
       "dict_items([('北京', '010000'), ('上海', '020000'), ('广东', '030000'), ('深圳', '040000'), ('天津', '050000'), ('重庆', '060000'), ('江苏', '070000'), ('浙江', '080000'), ('四川', '090000')])"
      ]
     },
     "execution_count": 3,
     "metadata": {},
     "output_type": "execute_result"
    }
   ],
   "source": [
    "provinces.items()"
   ]
  },
  {
   "cell_type": "code",
   "execution_count": 7,
   "metadata": {},
   "outputs": [
    {
     "data": {
      "text/plain": [
       "[('四川', '090000'),\n",
       " ('浙江', '080000'),\n",
       " ('江苏', '070000'),\n",
       " ('重庆', '060000'),\n",
       " ('天津', '050000'),\n",
       " ('深圳', '040000'),\n",
       " ('广东', '030000'),\n",
       " ('上海', '020000'),\n",
       " ('北京', '010000')]"
      ]
     },
     "execution_count": 7,
     "metadata": {},
     "output_type": "execute_result"
    }
   ],
   "source": [
    "list(provinces.items())[::-1]"
   ]
  },
  {
   "cell_type": "code",
   "execution_count": null,
   "metadata": {},
   "outputs": [],
   "source": []
  }
 ],
 "metadata": {
  "kernelspec": {
   "display_name": "Python 3",
   "language": "python",
   "name": "python3"
  },
  "language_info": {
   "codemirror_mode": {
    "name": "ipython",
    "version": 3
   },
   "file_extension": ".py",
   "mimetype": "text/x-python",
   "name": "python",
   "nbconvert_exporter": "python",
   "pygments_lexer": "ipython3",
   "version": "3.7.6"
  }
 },
 "nbformat": 4,
 "nbformat_minor": 4
}
