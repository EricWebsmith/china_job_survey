{
 "cells": [
  {
   "cell_type": "code",
   "execution_count": 2,
   "metadata": {},
   "outputs": [],
   "source": [
    "import pandas as pd\n",
    "pd.options.display.max_rows = 100\n",
    "import sys\n",
    "sys.path.append('..')\n",
    "import db\n",
    "import inspect\n",
    "import matplotlib.pyplot as plt\n",
    "import seaborn as sns\n",
    "import scipy.stats as stats\n",
    "from scipy.stats import norm\n",
    "%matplotlib inline"
   ]
  },
  {
   "cell_type": "code",
   "execution_count": 20,
   "metadata": {},
   "outputs": [],
   "source": [
    "conn=db.get_conn()\n",
    "data_original=pd.read_sql(sql=\"select * from _201904 where monthly_salary>0 and monthly_salary<8 order by monthly_salary\", con=conn)\n",
    "conn.close()"
   ]
  },
  {
   "cell_type": "code",
   "execution_count": 21,
   "metadata": {},
   "outputs": [],
   "source": [
    "error_job_ids=['104660258','104142922','108434795','101357291','106253516','110368302','111391233','108665401','109277048'\n",
    "                  ,'73857191','108584955','102824950','102824949','111391233','110884556']\n",
    "data=data_original[~data_original.job_id.isin(error_job_ids)]"
   ]
  },
  {
   "cell_type": "code",
   "execution_count": 55,
   "metadata": {},
   "outputs": [
    {
     "data": {
      "text/plain": [
       "city       career   \n",
       "beijing    algorithm    2.433175\n",
       "           architect    2.600841\n",
       "           software     1.569145\n",
       "           spider       1.720098\n",
       "changchun  algorithm    1.215476\n",
       "           architect    0.903261\n",
       "           software     0.787901\n",
       "changsha   algorithm    1.474053\n",
       "           architect    1.497261\n",
       "           software     1.030152\n",
       "           spider       0.903125\n",
       "chengdu    algorithm    1.615625\n",
       "           architect    1.833598\n",
       "           software     1.116914\n",
       "           spider       1.167647\n",
       "chongqing  algorithm    1.353246\n",
       "           architect    1.446535\n",
       "           software     0.955639\n",
       "           spider       1.050000\n",
       "dalian     algorithm    1.318056\n",
       "           architect    1.781303\n",
       "           software     0.969545\n",
       "dongguan   algorithm    1.534824\n",
       "           architect    1.583547\n",
       "           software     1.071373\n",
       "           spider       1.100000\n",
       "fuzhou     algorithm    1.344469\n",
       "           architect    1.406944\n",
       "           software     0.972521\n",
       "           spider       0.575000\n",
       "guangzhou  algorithm    1.790865\n",
       "           architect    1.992640\n",
       "           software     1.225094\n",
       "           spider       1.295122\n",
       "hangzhou   algorithm    2.013235\n",
       "           architect    2.412240\n",
       "           software     1.373845\n",
       "           spider       1.391667\n",
       "harbin     algorithm    0.872436\n",
       "           architect    0.880556\n",
       "           software     0.623805\n",
       "hefei      algorithm    0.883218\n",
       "           architect    1.316667\n",
       "           software     0.919629\n",
       "           spider       1.223750\n",
       "jinan      algorithm    1.218087\n",
       "           architect    1.492292\n",
       "           software     0.900922\n",
       "           spider       1.750000\n",
       "kunming    algorithm    1.085476\n",
       "           architect    1.137745\n",
       "           software     0.826346\n",
       "nanjing    algorithm    1.710387\n",
       "           architect    1.937305\n",
       "           software     1.214797\n",
       "           spider       1.307500\n",
       "ningbo     algorithm    1.498695\n",
       "           architect    1.560185\n",
       "           software     1.035883\n",
       "           spider       1.129167\n",
       "qingdao    algorithm    1.305769\n",
       "           architect    1.758333\n",
       "           software     0.889313\n",
       "           spider       0.600000\n",
       "shanghai   algorithm    2.240037\n",
       "           architect    2.482177\n",
       "           software     1.547717\n",
       "           spider       1.617029\n",
       "shenyang   algorithm    1.060526\n",
       "           architect    0.979124\n",
       "           software     0.760619\n",
       "           spider       0.600000\n",
       "shenzhen   algorithm    2.123061\n",
       "           architect    2.435316\n",
       "           software     1.457303\n",
       "           spider       1.367124\n",
       "tianjin    algorithm    1.322766\n",
       "           architect    1.543548\n",
       "           software     1.063934\n",
       "wuhan      algorithm    1.505974\n",
       "           architect    1.651782\n",
       "           software     1.040440\n",
       "           spider       0.982692\n",
       "xian       algorithm    1.408309\n",
       "           architect    1.832370\n",
       "           software     1.041860\n",
       "           spider       0.900000\n",
       "zhengzhou  algorithm    1.076287\n",
       "           architect    1.002949\n",
       "           software     0.809355\n",
       "           spider       0.833333\n",
       "Name: monthly_salary, dtype: float64"
      ]
     },
     "execution_count": 55,
     "metadata": {},
     "output_type": "execute_result"
    }
   ],
   "source": [
    "data.groupby(['city','career']).monthly_salary.mean()"
   ]
  },
  {
   "cell_type": "code",
   "execution_count": 56,
   "metadata": {},
   "outputs": [],
   "source": [
    "software=data[data.career_software_engineer].groupby(['city']).monthly_salary.mean()\n",
    "algorithm=data[data.career_algorithm].groupby(['city']).monthly_salary.mean()\n",
    "architect=data[data.career_architect].groupby(['city']).monthly_salary.mean()"
   ]
  },
  {
   "cell_type": "code",
   "execution_count": 57,
   "metadata": {},
   "outputs": [],
   "source": [
    "software=data[data.career_software_engineer].groupby(['city']).monthly_salary.mean()\n",
    "software=software.values.reshape((24,1))"
   ]
  },
  {
   "cell_type": "code",
   "execution_count": 58,
   "metadata": {},
   "outputs": [],
   "source": [
    "from sklearn.linear_model import LinearRegression"
   ]
  },
  {
   "cell_type": "code",
   "execution_count": null,
   "metadata": {},
   "outputs": [],
   "source": []
  },
  {
   "cell_type": "code",
   "execution_count": 60,
   "metadata": {},
   "outputs": [],
   "source": [
    "lr=LinearRegression(fit_intercept=False)\n",
    "model=lr.fit(software, algorithm)\n"
   ]
  },
  {
   "cell_type": "code",
   "execution_count": 61,
   "metadata": {},
   "outputs": [
    {
     "data": {
      "text/plain": [
       "0.9204228391403857"
      ]
     },
     "execution_count": 61,
     "metadata": {},
     "output_type": "execute_result"
    }
   ],
   "source": [
    "model.score(software, algorithm)"
   ]
  },
  {
   "cell_type": "code",
   "execution_count": 62,
   "metadata": {},
   "outputs": [
    {
     "data": {
      "text/plain": [
       "array([1.41303926])"
      ]
     },
     "execution_count": 62,
     "metadata": {},
     "output_type": "execute_result"
    }
   ],
   "source": [
    "model.coef_"
   ]
  },
  {
   "cell_type": "code",
   "execution_count": 63,
   "metadata": {},
   "outputs": [],
   "source": [
    "lr=LinearRegression(fit_intercept=False)\n",
    "model=lr.fit(software, architect)"
   ]
  },
  {
   "cell_type": "code",
   "execution_count": 64,
   "metadata": {},
   "outputs": [
    {
     "data": {
      "text/plain": [
       "0.8759423363481792"
      ]
     },
     "execution_count": 64,
     "metadata": {},
     "output_type": "execute_result"
    }
   ],
   "source": [
    "model.score(software, architect)"
   ]
  },
  {
   "cell_type": "code",
   "execution_count": 65,
   "metadata": {},
   "outputs": [
    {
     "data": {
      "text/plain": [
       "array([1.58369615])"
      ]
     },
     "execution_count": 65,
     "metadata": {},
     "output_type": "execute_result"
    }
   ],
   "source": [
    "model.coef_"
   ]
  },
  {
   "cell_type": "code",
   "execution_count": null,
   "metadata": {},
   "outputs": [],
   "source": []
  },
  {
   "cell_type": "code",
   "execution_count": null,
   "metadata": {},
   "outputs": [],
   "source": []
  }
 ],
 "metadata": {
  "kernelspec": {
   "display_name": "Python 3",
   "language": "python",
   "name": "python3"
  },
  "language_info": {
   "codemirror_mode": {
    "name": "ipython",
    "version": 3
   },
   "file_extension": ".py",
   "mimetype": "text/x-python",
   "name": "python",
   "nbconvert_exporter": "python",
   "pygments_lexer": "ipython3",
   "version": "3.7.1"
  }
 },
 "nbformat": 4,
 "nbformat_minor": 2
}
