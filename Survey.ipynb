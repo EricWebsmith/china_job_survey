{
 "cells": [
  {
   "cell_type": "markdown",
   "metadata": {},
   "source": [
    "# Salary Survey"
   ]
  },
  {
   "cell_type": "code",
   "execution_count": 1,
   "metadata": {},
   "outputs": [],
   "source": [
    "import pandas as pd\n",
    "import db\n",
    "import inspect\n",
    "import matplotlib.pyplot as plt\n",
    "import scipy.stats as stats\n",
    "import numpy as np\n",
    "%matplotlib inline"
   ]
  },
  {
   "cell_type": "code",
   "execution_count": 2,
   "metadata": {},
   "outputs": [],
   "source": [
    "data_original=pd.read_sql(sql=\"select * from _201904 where monthly_salary>0 and monthly_salary<150000\", con=db.get_conn())"
   ]
  },
  {
   "cell_type": "code",
   "execution_count": 3,
   "metadata": {},
   "outputs": [
    {
     "data": {
      "text/plain": [
       "(139688, 159)"
      ]
     },
     "execution_count": 3,
     "metadata": {},
     "output_type": "execute_result"
    }
   ],
   "source": [
    "data_original.shape"
   ]
  },
  {
   "cell_type": "code",
   "execution_count": 4,
   "metadata": {},
   "outputs": [],
   "source": [
    "error_job_ids=['104660258','104142922','108434795','101357291','106253516','110368302','111391233','108665401','109277048'\n",
    "                  ,'73857191','108584955','102824950','102824949','111391233','110884556']"
   ]
  },
  {
   "cell_type": "code",
   "execution_count": 5,
   "metadata": {},
   "outputs": [],
   "source": [
    "data=data_original[~data_original.job_id.isin(error_job_ids)]"
   ]
  },
  {
   "cell_type": "code",
   "execution_count": 6,
   "metadata": {},
   "outputs": [
    {
     "data": {
      "text/plain": [
       "(139675, 159)"
      ]
     },
     "execution_count": 6,
     "metadata": {},
     "output_type": "execute_result"
    }
   ],
   "source": [
    "data.shape"
   ]
  },
  {
   "cell_type": "code",
   "execution_count": 7,
   "metadata": {},
   "outputs": [],
   "source": [
    "del data['publish_date']\n",
    "del data['published_on_weekend']\n",
    "del data['title']\n",
    "del data['company_title']\n",
    "del data['company_description']\n",
    "del data['job_description']\n",
    "del data['job_id']"
   ]
  },
  {
   "cell_type": "code",
   "execution_count": null,
   "metadata": {},
   "outputs": [],
   "source": []
  },
  {
   "cell_type": "markdown",
   "metadata": {},
   "source": [
    "## Salary Distribution"
   ]
  },
  {
   "cell_type": "code",
   "execution_count": 8,
   "metadata": {},
   "outputs": [
    {
     "data": {
      "text/plain": [
       "<matplotlib.axes._subplots.AxesSubplot at 0x1fcc8853860>"
      ]
     },
     "execution_count": 8,
     "metadata": {},
     "output_type": "execute_result"
    },
    {
     "data": {
      "image/png": "[encoded data removed]",
      "text/plain": [
       "<Figure size 432x288 with 1 Axes>"
      ]
     },
     "metadata": {
      "needs_background": "light"
     },
     "output_type": "display_data"
    }
   ],
   "source": [
    "data.monthly_salary.hist()"
   ]
  },
  {
   "cell_type": "markdown",
   "metadata": {},
   "source": [
    "It does not look like normal distribution."
   ]
  },
  {
   "cell_type": "code",
   "execution_count": 115,
   "metadata": {},
   "outputs": [],
   "source": [
    "from scipy import stats"
   ]
  },
  {
   "cell_type": "code",
   "execution_count": 116,
   "metadata": {},
   "outputs": [
    {
     "data": {
      "text/plain": [
       "NormaltestResult(statistic=80485.89395778668, pvalue=0.0)"
      ]
     },
     "execution_count": 116,
     "metadata": {},
     "output_type": "execute_result"
    }
   ],
   "source": [
    "stats.normaltest(data.monthly_salary)"
   ]
  },
  {
   "cell_type": "markdown",
   "metadata": {},
   "source": [
    "null hypothesis: x comes from a normal distribution\n",
    "    \n",
    "p=0\n",
    "\n",
    "The null hypothesis can be rejected\n",
    "\n",
    "conclusion: data is not normally distributed."
   ]
  },
  {
   "cell_type": "markdown",
   "metadata": {},
   "source": [
    "Zoom in"
   ]
  },
  {
   "cell_type": "code",
   "execution_count": 117,
   "metadata": {},
   "outputs": [
    {
     "data": {
      "text/plain": [
       "<matplotlib.axes._subplots.AxesSubplot at 0x1eb28bf1278>"
      ]
     },
     "execution_count": 117,
     "metadata": {},
     "output_type": "execute_result"
    },
    {
     "data": {
      "image/png": "[encoded data removed]",
      "text/plain": [
       "<Figure size 432x288 with 1 Axes>"
      ]
     },
     "metadata": {
      "needs_background": "light"
     },
     "output_type": "display_data"
    }
   ],
   "source": [
    "data[data.monthly_salary<40000].monthly_salary.hist()"
   ]
  },
  {
   "cell_type": "code",
   "execution_count": 118,
   "metadata": {},
   "outputs": [
    {
     "data": {
      "text/plain": [
       "12500.0"
      ]
     },
     "execution_count": 118,
     "metadata": {},
     "output_type": "execute_result"
    }
   ],
   "source": [
    "data.monthly_salary.median()"
   ]
  },
  {
   "cell_type": "code",
   "execution_count": 119,
   "metadata": {},
   "outputs": [
    {
     "data": {
      "text/plain": [
       "13755.868728773368"
      ]
     },
     "execution_count": 119,
     "metadata": {},
     "output_type": "execute_result"
    }
   ],
   "source": [
    "data.monthly_salary.mean()"
   ]
  },
  {
   "cell_type": "markdown",
   "metadata": {},
   "source": [
    "## Role"
   ]
  },
  {
   "cell_type": "code",
   "execution_count": 132,
   "metadata": {},
   "outputs": [],
   "source": [
    "def get_sub_stats(data, prefix):\n",
    "    \n",
    "    features = [feature for feature in data.columns if feature.startswith(prefix)]\n",
    "    salary_mean=[]\n",
    "    salary_median=[]\n",
    "    count=[]\n",
    "    for feature in features:\n",
    "        salary_mean.append(data[data[feature]==1].monthly_salary.mean())\n",
    "        salary_median.append(data[data[feature]==1].monthly_salary.median())\n",
    "        count.append(data[data[feature]==1].shape[0])\n",
    "    sub_data=pd.DataFrame()\n",
    "    sub_data[prefix]=features\n",
    "    sub_data['salary_mean']=salary_mean\n",
    "    sub_data['salary_median']=salary_median\n",
    "    sub_data['head_count']=count\n",
    "    sub_data['percentage']=count/np.sum(count)\n",
    "    sub_data=sub_data.sort_values(by='salary_mean', ascending=False)\n",
    "\n",
    "    return sub_data"
   ]
  },
  {
   "cell_type": "code",
   "execution_count": 133,
   "metadata": {},
   "outputs": [
    {
     "data": {
      "text/html": [
       "<div>\n",
       "<style scoped>\n",
       "    .dataframe tbody tr th:only-of-type {\n",
       "        vertical-align: middle;\n",
       "    }\n",
       "\n",
       "    .dataframe tbody tr th {\n",
       "        vertical-align: top;\n",
       "    }\n",
       "\n",
       "    .dataframe thead th {\n",
       "        text-align: right;\n",
       "    }\n",
       "</style>\n",
       "<table border=\"1\" class=\"dataframe\">\n",
       "  <thead>\n",
       "    <tr style=\"text-align: right;\">\n",
       "      <th></th>\n",
       "      <th>career</th>\n",
       "      <th>salary_mean</th>\n",
       "      <th>salary_median</th>\n",
       "      <th>head_count</th>\n",
       "      <th>percentage</th>\n",
       "    </tr>\n",
       "  </thead>\n",
       "  <tbody>\n",
       "    <tr>\n",
       "      <th>1</th>\n",
       "      <td>career_architect</td>\n",
       "      <td>21490.567677</td>\n",
       "      <td>20000.0</td>\n",
       "      <td>6233</td>\n",
       "      <td>0.038575</td>\n",
       "    </tr>\n",
       "    <tr>\n",
       "      <th>0</th>\n",
       "      <td>career_algorithm</td>\n",
       "      <td>20325.387597</td>\n",
       "      <td>18000.0</td>\n",
       "      <td>15781</td>\n",
       "      <td>0.097667</td>\n",
       "    </tr>\n",
       "    <tr>\n",
       "      <th>2</th>\n",
       "      <td>career_software_engineer</td>\n",
       "      <td>13755.868729</td>\n",
       "      <td>12500.0</td>\n",
       "      <td>139566</td>\n",
       "      <td>0.863758</td>\n",
       "    </tr>\n",
       "  </tbody>\n",
       "</table>\n",
       "</div>"
      ],
      "text/plain": [
       "                     career   salary_mean  salary_median  head_count  \\\n",
       "1          career_architect  21490.567677        20000.0        6233   \n",
       "0          career_algorithm  20325.387597        18000.0       15781   \n",
       "2  career_software_engineer  13755.868729        12500.0      139566   \n",
       "\n",
       "   percentage  \n",
       "1    0.038575  \n",
       "0    0.097667  \n",
       "2    0.863758  "
      ]
     },
     "execution_count": 133,
     "metadata": {},
     "output_type": "execute_result"
    }
   ],
   "source": [
    "data_career=get_sub_stats(data,'career')\n",
    "data_career"
   ]
  },
  {
   "cell_type": "markdown",
   "metadata": {},
   "source": [
    "有表可知，架构师的工资平均为2.1万，算法工程师为2万，普通程序员为1万4。\n"
   ]
  },
  {
   "cell_type": "code",
   "execution_count": 139,
   "metadata": {},
   "outputs": [
    {
     "data": {
      "text/plain": [
       "F_onewayResult(statistic=9378.448428344665, pvalue=0.0)"
      ]
     },
     "execution_count": 139,
     "metadata": {},
     "output_type": "execute_result"
    }
   ],
   "source": [
    "career_architect_salary=data[data.career_architect==1].monthly_salary\n",
    "career_algorithm_salary=data[data.career_algorithm==1].monthly_salary\n",
    "career_software_engineer_salary=data[data.career_software_engineer==1].monthly_salary\n",
    "stats.f_oneway(career_algorithm_salary, career_software_engineer_salary)"
   ]
  },
  {
   "cell_type": "code",
   "execution_count": 140,
   "metadata": {},
   "outputs": [
    {
     "data": {
      "text/plain": [
       "F_onewayResult(statistic=49.63271312626023, pvalue=1.908616793279803e-12)"
      ]
     },
     "execution_count": 140,
     "metadata": {},
     "output_type": "execute_result"
    }
   ],
   "source": [
    "stats.f_oneway(career_architect_salary, career_algorithm_salary)"
   ]
  },
  {
   "cell_type": "markdown",
   "metadata": {},
   "source": [
    "统计表面，架构师，算法工程师，普通程序员之间的平均工资差异是显著的。"
   ]
  },
  {
   "cell_type": "markdown",
   "metadata": {},
   "source": [
    "## Where are the Developers"
   ]
  },
  {
   "cell_type": "code",
   "execution_count": 71,
   "metadata": {},
   "outputs": [
    {
     "data": {
      "text/html": [
       "<div>\n",
       "<style scoped>\n",
       "    .dataframe tbody tr th:only-of-type {\n",
       "        vertical-align: middle;\n",
       "    }\n",
       "\n",
       "    .dataframe tbody tr th {\n",
       "        vertical-align: top;\n",
       "    }\n",
       "\n",
       "    .dataframe thead th {\n",
       "        text-align: right;\n",
       "    }\n",
       "</style>\n",
       "<table border=\"1\" class=\"dataframe\">\n",
       "  <thead>\n",
       "    <tr style=\"text-align: right;\">\n",
       "      <th></th>\n",
       "      <th>city</th>\n",
       "      <th>salary</th>\n",
       "      <th>head_count</th>\n",
       "      <th>percentage</th>\n",
       "    </tr>\n",
       "  </thead>\n",
       "  <tbody>\n",
       "    <tr>\n",
       "      <th>0</th>\n",
       "      <td>city_beijing</td>\n",
       "      <td>17453.108346</td>\n",
       "      <td>13823</td>\n",
       "      <td>0.099043</td>\n",
       "    </tr>\n",
       "    <tr>\n",
       "      <th>17</th>\n",
       "      <td>city_shanghai</td>\n",
       "      <td>16626.365819</td>\n",
       "      <td>25888</td>\n",
       "      <td>0.185489</td>\n",
       "    </tr>\n",
       "    <tr>\n",
       "      <th>19</th>\n",
       "      <td>city_shenzhen</td>\n",
       "      <td>15631.343242</td>\n",
       "      <td>20757</td>\n",
       "      <td>0.148725</td>\n",
       "    </tr>\n",
       "    <tr>\n",
       "      <th>9</th>\n",
       "      <td>city_hangzhou</td>\n",
       "      <td>14976.923667</td>\n",
       "      <td>8690</td>\n",
       "      <td>0.062264</td>\n",
       "    </tr>\n",
       "    <tr>\n",
       "      <th>8</th>\n",
       "      <td>city_guangzhou</td>\n",
       "      <td>13031.734825</td>\n",
       "      <td>17068</td>\n",
       "      <td>0.122293</td>\n",
       "    </tr>\n",
       "    <tr>\n",
       "      <th>14</th>\n",
       "      <td>city_nanjing</td>\n",
       "      <td>12874.243172</td>\n",
       "      <td>7091</td>\n",
       "      <td>0.050808</td>\n",
       "    </tr>\n",
       "    <tr>\n",
       "      <th>3</th>\n",
       "      <td>city_chengdu</td>\n",
       "      <td>11895.973250</td>\n",
       "      <td>7028</td>\n",
       "      <td>0.050356</td>\n",
       "    </tr>\n",
       "    <tr>\n",
       "      <th>6</th>\n",
       "      <td>city_dongguan</td>\n",
       "      <td>11352.660335</td>\n",
       "      <td>1632</td>\n",
       "      <td>0.011693</td>\n",
       "    </tr>\n",
       "    <tr>\n",
       "      <th>22</th>\n",
       "      <td>city_xian</td>\n",
       "      <td>11075.391338</td>\n",
       "      <td>3833</td>\n",
       "      <td>0.027464</td>\n",
       "    </tr>\n",
       "    <tr>\n",
       "      <th>21</th>\n",
       "      <td>city_wuhan</td>\n",
       "      <td>11074.196462</td>\n",
       "      <td>8027</td>\n",
       "      <td>0.057514</td>\n",
       "    </tr>\n",
       "    <tr>\n",
       "      <th>20</th>\n",
       "      <td>city_tianjin</td>\n",
       "      <td>10987.852368</td>\n",
       "      <td>1147</td>\n",
       "      <td>0.008218</td>\n",
       "    </tr>\n",
       "    <tr>\n",
       "      <th>2</th>\n",
       "      <td>city_changsha</td>\n",
       "      <td>10847.045816</td>\n",
       "      <td>3354</td>\n",
       "      <td>0.024032</td>\n",
       "    </tr>\n",
       "    <tr>\n",
       "      <th>15</th>\n",
       "      <td>city_ningbo</td>\n",
       "      <td>10809.416386</td>\n",
       "      <td>1485</td>\n",
       "      <td>0.010640</td>\n",
       "    </tr>\n",
       "    <tr>\n",
       "      <th>7</th>\n",
       "      <td>city_fuzhou</td>\n",
       "      <td>10062.398082</td>\n",
       "      <td>2085</td>\n",
       "      <td>0.014939</td>\n",
       "    </tr>\n",
       "    <tr>\n",
       "      <th>5</th>\n",
       "      <td>city_dalian</td>\n",
       "      <td>10030.425753</td>\n",
       "      <td>2889</td>\n",
       "      <td>0.020700</td>\n",
       "    </tr>\n",
       "    <tr>\n",
       "      <th>4</th>\n",
       "      <td>city_chongqing</td>\n",
       "      <td>10016.517510</td>\n",
       "      <td>2570</td>\n",
       "      <td>0.018414</td>\n",
       "    </tr>\n",
       "    <tr>\n",
       "      <th>16</th>\n",
       "      <td>city_qingdao</td>\n",
       "      <td>9548.856799</td>\n",
       "      <td>1385</td>\n",
       "      <td>0.009924</td>\n",
       "    </tr>\n",
       "    <tr>\n",
       "      <th>12</th>\n",
       "      <td>city_jinan</td>\n",
       "      <td>9375.090151</td>\n",
       "      <td>1479</td>\n",
       "      <td>0.010597</td>\n",
       "    </tr>\n",
       "    <tr>\n",
       "      <th>11</th>\n",
       "      <td>city_hefei</td>\n",
       "      <td>9251.720395</td>\n",
       "      <td>3071</td>\n",
       "      <td>0.022004</td>\n",
       "    </tr>\n",
       "    <tr>\n",
       "      <th>1</th>\n",
       "      <td>city_changchun</td>\n",
       "      <td>8579.913138</td>\n",
       "      <td>614</td>\n",
       "      <td>0.004399</td>\n",
       "    </tr>\n",
       "    <tr>\n",
       "      <th>13</th>\n",
       "      <td>city_kuming</td>\n",
       "      <td>8457.888229</td>\n",
       "      <td>1011</td>\n",
       "      <td>0.007244</td>\n",
       "    </tr>\n",
       "    <tr>\n",
       "      <th>23</th>\n",
       "      <td>city_zhengzhou</td>\n",
       "      <td>8348.115379</td>\n",
       "      <td>2317</td>\n",
       "      <td>0.016601</td>\n",
       "    </tr>\n",
       "    <tr>\n",
       "      <th>18</th>\n",
       "      <td>city_shenyang</td>\n",
       "      <td>7850.849403</td>\n",
       "      <td>1452</td>\n",
       "      <td>0.010404</td>\n",
       "    </tr>\n",
       "    <tr>\n",
       "      <th>10</th>\n",
       "      <td>city_harbin</td>\n",
       "      <td>6402.624521</td>\n",
       "      <td>870</td>\n",
       "      <td>0.006234</td>\n",
       "    </tr>\n",
       "  </tbody>\n",
       "</table>\n",
       "</div>"
      ],
      "text/plain": [
       "              city        salary  head_count  percentage\n",
       "0     city_beijing  17453.108346       13823    0.099043\n",
       "17   city_shanghai  16626.365819       25888    0.185489\n",
       "19   city_shenzhen  15631.343242       20757    0.148725\n",
       "9    city_hangzhou  14976.923667        8690    0.062264\n",
       "8   city_guangzhou  13031.734825       17068    0.122293\n",
       "14    city_nanjing  12874.243172        7091    0.050808\n",
       "3     city_chengdu  11895.973250        7028    0.050356\n",
       "6    city_dongguan  11352.660335        1632    0.011693\n",
       "22       city_xian  11075.391338        3833    0.027464\n",
       "21      city_wuhan  11074.196462        8027    0.057514\n",
       "20    city_tianjin  10987.852368        1147    0.008218\n",
       "2    city_changsha  10847.045816        3354    0.024032\n",
       "15     city_ningbo  10809.416386        1485    0.010640\n",
       "7      city_fuzhou  10062.398082        2085    0.014939\n",
       "5      city_dalian  10030.425753        2889    0.020700\n",
       "4   city_chongqing  10016.517510        2570    0.018414\n",
       "16    city_qingdao   9548.856799        1385    0.009924\n",
       "12      city_jinan   9375.090151        1479    0.010597\n",
       "11      city_hefei   9251.720395        3071    0.022004\n",
       "1   city_changchun   8579.913138         614    0.004399\n",
       "13     city_kuming   8457.888229        1011    0.007244\n",
       "23  city_zhengzhou   8348.115379        2317    0.016601\n",
       "18   city_shenyang   7850.849403        1452    0.010404\n",
       "10     city_harbin   6402.624521         870    0.006234"
      ]
     },
     "execution_count": 71,
     "metadata": {},
     "output_type": "execute_result"
    }
   ],
   "source": [
    "data_city=get_sub_stats(data,'city')\n",
    "data_city"
   ]
  },
  {
   "cell_type": "markdown",
   "metadata": {},
   "source": [
    "程序员收入最高的城市分别为：北京，上海，深圳，杭州，广州，南京，成都，东莞等。"
   ]
  },
  {
   "cell_type": "code",
   "execution_count": 52,
   "metadata": {},
   "outputs": [
    {
     "data": {
      "text/html": [
       "<div>\n",
       "<style scoped>\n",
       "    .dataframe tbody tr th:only-of-type {\n",
       "        vertical-align: middle;\n",
       "    }\n",
       "\n",
       "    .dataframe tbody tr th {\n",
       "        vertical-align: top;\n",
       "    }\n",
       "\n",
       "    .dataframe thead th {\n",
       "        text-align: right;\n",
       "    }\n",
       "</style>\n",
       "<table border=\"1\" class=\"dataframe\">\n",
       "  <thead>\n",
       "    <tr style=\"text-align: right;\">\n",
       "      <th></th>\n",
       "      <th>city</th>\n",
       "      <th>salary</th>\n",
       "      <th>head_count</th>\n",
       "      <th>percentage</th>\n",
       "    </tr>\n",
       "  </thead>\n",
       "  <tbody>\n",
       "    <tr>\n",
       "      <th>17</th>\n",
       "      <td>city_shanghai</td>\n",
       "      <td>16626.365819</td>\n",
       "      <td>25888</td>\n",
       "      <td>0.185489</td>\n",
       "    </tr>\n",
       "    <tr>\n",
       "      <th>19</th>\n",
       "      <td>city_shenzhen</td>\n",
       "      <td>15631.343242</td>\n",
       "      <td>20757</td>\n",
       "      <td>0.148725</td>\n",
       "    </tr>\n",
       "    <tr>\n",
       "      <th>8</th>\n",
       "      <td>city_guangzhou</td>\n",
       "      <td>13031.734825</td>\n",
       "      <td>17068</td>\n",
       "      <td>0.122293</td>\n",
       "    </tr>\n",
       "    <tr>\n",
       "      <th>0</th>\n",
       "      <td>city_beijing</td>\n",
       "      <td>17453.108346</td>\n",
       "      <td>13823</td>\n",
       "      <td>0.099043</td>\n",
       "    </tr>\n",
       "    <tr>\n",
       "      <th>9</th>\n",
       "      <td>city_hangzhou</td>\n",
       "      <td>14976.923667</td>\n",
       "      <td>8690</td>\n",
       "      <td>0.062264</td>\n",
       "    </tr>\n",
       "    <tr>\n",
       "      <th>21</th>\n",
       "      <td>city_wuhan</td>\n",
       "      <td>11074.196462</td>\n",
       "      <td>8027</td>\n",
       "      <td>0.057514</td>\n",
       "    </tr>\n",
       "    <tr>\n",
       "      <th>14</th>\n",
       "      <td>city_nanjing</td>\n",
       "      <td>12874.243172</td>\n",
       "      <td>7091</td>\n",
       "      <td>0.050808</td>\n",
       "    </tr>\n",
       "    <tr>\n",
       "      <th>3</th>\n",
       "      <td>city_chengdu</td>\n",
       "      <td>11895.973250</td>\n",
       "      <td>7028</td>\n",
       "      <td>0.050356</td>\n",
       "    </tr>\n",
       "    <tr>\n",
       "      <th>22</th>\n",
       "      <td>city_xian</td>\n",
       "      <td>11075.391338</td>\n",
       "      <td>3833</td>\n",
       "      <td>0.027464</td>\n",
       "    </tr>\n",
       "    <tr>\n",
       "      <th>2</th>\n",
       "      <td>city_changsha</td>\n",
       "      <td>10847.045816</td>\n",
       "      <td>3354</td>\n",
       "      <td>0.024032</td>\n",
       "    </tr>\n",
       "    <tr>\n",
       "      <th>11</th>\n",
       "      <td>city_hefei</td>\n",
       "      <td>9251.720395</td>\n",
       "      <td>3071</td>\n",
       "      <td>0.022004</td>\n",
       "    </tr>\n",
       "    <tr>\n",
       "      <th>5</th>\n",
       "      <td>city_dalian</td>\n",
       "      <td>10030.425753</td>\n",
       "      <td>2889</td>\n",
       "      <td>0.020700</td>\n",
       "    </tr>\n",
       "    <tr>\n",
       "      <th>4</th>\n",
       "      <td>city_chongqing</td>\n",
       "      <td>10016.517510</td>\n",
       "      <td>2570</td>\n",
       "      <td>0.018414</td>\n",
       "    </tr>\n",
       "    <tr>\n",
       "      <th>23</th>\n",
       "      <td>city_zhengzhou</td>\n",
       "      <td>8348.115379</td>\n",
       "      <td>2317</td>\n",
       "      <td>0.016601</td>\n",
       "    </tr>\n",
       "    <tr>\n",
       "      <th>7</th>\n",
       "      <td>city_fuzhou</td>\n",
       "      <td>10062.398082</td>\n",
       "      <td>2085</td>\n",
       "      <td>0.014939</td>\n",
       "    </tr>\n",
       "    <tr>\n",
       "      <th>6</th>\n",
       "      <td>city_dongguan</td>\n",
       "      <td>11352.660335</td>\n",
       "      <td>1632</td>\n",
       "      <td>0.011693</td>\n",
       "    </tr>\n",
       "    <tr>\n",
       "      <th>15</th>\n",
       "      <td>city_ningbo</td>\n",
       "      <td>10809.416386</td>\n",
       "      <td>1485</td>\n",
       "      <td>0.010640</td>\n",
       "    </tr>\n",
       "    <tr>\n",
       "      <th>12</th>\n",
       "      <td>city_jinan</td>\n",
       "      <td>9375.090151</td>\n",
       "      <td>1479</td>\n",
       "      <td>0.010597</td>\n",
       "    </tr>\n",
       "    <tr>\n",
       "      <th>18</th>\n",
       "      <td>city_shenyang</td>\n",
       "      <td>7850.849403</td>\n",
       "      <td>1452</td>\n",
       "      <td>0.010404</td>\n",
       "    </tr>\n",
       "    <tr>\n",
       "      <th>16</th>\n",
       "      <td>city_qingdao</td>\n",
       "      <td>9548.856799</td>\n",
       "      <td>1385</td>\n",
       "      <td>0.009924</td>\n",
       "    </tr>\n",
       "    <tr>\n",
       "      <th>20</th>\n",
       "      <td>city_tianjin</td>\n",
       "      <td>10987.852368</td>\n",
       "      <td>1147</td>\n",
       "      <td>0.008218</td>\n",
       "    </tr>\n",
       "    <tr>\n",
       "      <th>13</th>\n",
       "      <td>city_kuming</td>\n",
       "      <td>8457.888229</td>\n",
       "      <td>1011</td>\n",
       "      <td>0.007244</td>\n",
       "    </tr>\n",
       "    <tr>\n",
       "      <th>10</th>\n",
       "      <td>city_harbin</td>\n",
       "      <td>6402.624521</td>\n",
       "      <td>870</td>\n",
       "      <td>0.006234</td>\n",
       "    </tr>\n",
       "    <tr>\n",
       "      <th>1</th>\n",
       "      <td>city_changchun</td>\n",
       "      <td>8579.913138</td>\n",
       "      <td>614</td>\n",
       "      <td>0.004399</td>\n",
       "    </tr>\n",
       "  </tbody>\n",
       "</table>\n",
       "</div>"
      ],
      "text/plain": [
       "              city        salary  head_count  percentage\n",
       "17   city_shanghai  16626.365819       25888    0.185489\n",
       "19   city_shenzhen  15631.343242       20757    0.148725\n",
       "8   city_guangzhou  13031.734825       17068    0.122293\n",
       "0     city_beijing  17453.108346       13823    0.099043\n",
       "9    city_hangzhou  14976.923667        8690    0.062264\n",
       "21      city_wuhan  11074.196462        8027    0.057514\n",
       "14    city_nanjing  12874.243172        7091    0.050808\n",
       "3     city_chengdu  11895.973250        7028    0.050356\n",
       "22       city_xian  11075.391338        3833    0.027464\n",
       "2    city_changsha  10847.045816        3354    0.024032\n",
       "11      city_hefei   9251.720395        3071    0.022004\n",
       "5      city_dalian  10030.425753        2889    0.020700\n",
       "4   city_chongqing  10016.517510        2570    0.018414\n",
       "23  city_zhengzhou   8348.115379        2317    0.016601\n",
       "7      city_fuzhou  10062.398082        2085    0.014939\n",
       "6    city_dongguan  11352.660335        1632    0.011693\n",
       "15     city_ningbo  10809.416386        1485    0.010640\n",
       "12      city_jinan   9375.090151        1479    0.010597\n",
       "18   city_shenyang   7850.849403        1452    0.010404\n",
       "16    city_qingdao   9548.856799        1385    0.009924\n",
       "20    city_tianjin  10987.852368        1147    0.008218\n",
       "13     city_kuming   8457.888229        1011    0.007244\n",
       "10     city_harbin   6402.624521         870    0.006234\n",
       "1   city_changchun   8579.913138         614    0.004399"
      ]
     },
     "execution_count": 52,
     "metadata": {},
     "output_type": "execute_result"
    }
   ],
   "source": [
    "data_city.sort_values(by='head_count', ascending=False)"
   ]
  },
  {
   "cell_type": "code",
   "execution_count": 56,
   "metadata": {},
   "outputs": [
    {
     "name": "stdout",
     "output_type": "stream",
     "text": [
      "四个一线城市的程序员就业机会占24座城市的55.56%\n"
     ]
    }
   ],
   "source": [
    "first_tier_percentage=data_city[data_city.city.isin(['city_beijing','city_shanghai','city_guangzhou','city_shenzhen'])].percentage.sum()\n",
    "print('四个一线城市的程序员就业机会占{0}座城市的{1:.2%}'.format(data_city.shape[0],first_tier_percentage))"
   ]
  },
  {
   "cell_type": "markdown",
   "metadata": {},
   "source": [
    "由此可见，程序员向一线城市集中的趋势十分明显。\n",
    "\n",
    "按照程序员容量，重新划分一二三线城市：\n",
    "\n",
    "一线：北京，上海，广州，深圳\n",
    "\n",
    "二线：杭州，武汉，南京，成都\n",
    "\n",
    "三线：西安，长沙，合肥，大连，重庆，郑州，福州，东莞，宁波，济南，沈阳，青岛，天津，昆明。\n",
    "\n",
    "四线：哈尔滨，长春等\n",
    "\n",
    "五线：等等等"
   ]
  },
  {
   "cell_type": "code",
   "execution_count": null,
   "metadata": {},
   "outputs": [],
   "source": []
  },
  {
   "cell_type": "markdown",
   "metadata": {},
   "source": [
    "## Databases Popularity\n",
    "### Database"
   ]
  },
  {
   "cell_type": "code",
   "execution_count": 59,
   "metadata": {},
   "outputs": [
    {
     "data": {
      "text/html": [
       "<div>\n",
       "<style scoped>\n",
       "    .dataframe tbody tr th:only-of-type {\n",
       "        vertical-align: middle;\n",
       "    }\n",
       "\n",
       "    .dataframe tbody tr th {\n",
       "        vertical-align: top;\n",
       "    }\n",
       "\n",
       "    .dataframe thead th {\n",
       "        text-align: right;\n",
       "    }\n",
       "</style>\n",
       "<table border=\"1\" class=\"dataframe\">\n",
       "  <thead>\n",
       "    <tr style=\"text-align: right;\">\n",
       "      <th></th>\n",
       "      <th>db</th>\n",
       "      <th>salary</th>\n",
       "      <th>head_count</th>\n",
       "      <th>percentage</th>\n",
       "    </tr>\n",
       "  </thead>\n",
       "  <tbody>\n",
       "    <tr>\n",
       "      <th>17</th>\n",
       "      <td>db_Netezza</td>\n",
       "      <td>27300.000000</td>\n",
       "      <td>5</td>\n",
       "      <td>0.000045</td>\n",
       "    </tr>\n",
       "    <tr>\n",
       "      <th>11</th>\n",
       "      <td>db_Ingres</td>\n",
       "      <td>21500.000000</td>\n",
       "      <td>5</td>\n",
       "      <td>0.000045</td>\n",
       "    </tr>\n",
       "    <tr>\n",
       "      <th>16</th>\n",
       "      <td>db_Neo4j</td>\n",
       "      <td>20033.088235</td>\n",
       "      <td>102</td>\n",
       "      <td>0.000923</td>\n",
       "    </tr>\n",
       "    <tr>\n",
       "      <th>4</th>\n",
       "      <td>db_DynamoDB</td>\n",
       "      <td>19197.916667</td>\n",
       "      <td>24</td>\n",
       "      <td>0.000217</td>\n",
       "    </tr>\n",
       "    <tr>\n",
       "      <th>1</th>\n",
       "      <td>db_CouchBase</td>\n",
       "      <td>18709.459459</td>\n",
       "      <td>37</td>\n",
       "      <td>0.000335</td>\n",
       "    </tr>\n",
       "    <tr>\n",
       "      <th>9</th>\n",
       "      <td>db_Hbase</td>\n",
       "      <td>18531.896909</td>\n",
       "      <td>3214</td>\n",
       "      <td>0.029089</td>\n",
       "    </tr>\n",
       "    <tr>\n",
       "      <th>5</th>\n",
       "      <td>db_Elasticsearch</td>\n",
       "      <td>18008.434764</td>\n",
       "      <td>1561</td>\n",
       "      <td>0.014128</td>\n",
       "    </tr>\n",
       "    <tr>\n",
       "      <th>2</th>\n",
       "      <td>db_CouchDB</td>\n",
       "      <td>17904.761905</td>\n",
       "      <td>21</td>\n",
       "      <td>0.000190</td>\n",
       "    </tr>\n",
       "    <tr>\n",
       "      <th>25</th>\n",
       "      <td>db_Solr</td>\n",
       "      <td>17568.148926</td>\n",
       "      <td>714</td>\n",
       "      <td>0.006462</td>\n",
       "    </tr>\n",
       "    <tr>\n",
       "      <th>26</th>\n",
       "      <td>db_Splunk</td>\n",
       "      <td>17482.142857</td>\n",
       "      <td>28</td>\n",
       "      <td>0.000253</td>\n",
       "    </tr>\n",
       "    <tr>\n",
       "      <th>14</th>\n",
       "      <td>db_MongoDB</td>\n",
       "      <td>16451.658177</td>\n",
       "      <td>6282</td>\n",
       "      <td>0.056856</td>\n",
       "    </tr>\n",
       "    <tr>\n",
       "      <th>22</th>\n",
       "      <td>db_SAP_HANA</td>\n",
       "      <td>16116.666667</td>\n",
       "      <td>30</td>\n",
       "      <td>0.000272</td>\n",
       "    </tr>\n",
       "    <tr>\n",
       "      <th>20</th>\n",
       "      <td>db_Redis</td>\n",
       "      <td>16073.004824</td>\n",
       "      <td>14581</td>\n",
       "      <td>0.131967</td>\n",
       "    </tr>\n",
       "    <tr>\n",
       "      <th>13</th>\n",
       "      <td>db_Memcached</td>\n",
       "      <td>15968.959878</td>\n",
       "      <td>2293</td>\n",
       "      <td>0.020753</td>\n",
       "    </tr>\n",
       "    <tr>\n",
       "      <th>28</th>\n",
       "      <td>db_Teradata</td>\n",
       "      <td>15723.744292</td>\n",
       "      <td>146</td>\n",
       "      <td>0.001321</td>\n",
       "    </tr>\n",
       "    <tr>\n",
       "      <th>21</th>\n",
       "      <td>db_Riak</td>\n",
       "      <td>15625.000000</td>\n",
       "      <td>4</td>\n",
       "      <td>0.000036</td>\n",
       "    </tr>\n",
       "    <tr>\n",
       "      <th>12</th>\n",
       "      <td>db_MariaDB</td>\n",
       "      <td>15254.545455</td>\n",
       "      <td>110</td>\n",
       "      <td>0.000996</td>\n",
       "    </tr>\n",
       "    <tr>\n",
       "      <th>7</th>\n",
       "      <td>db_Firebase</td>\n",
       "      <td>15166.666667</td>\n",
       "      <td>6</td>\n",
       "      <td>0.000054</td>\n",
       "    </tr>\n",
       "    <tr>\n",
       "      <th>19</th>\n",
       "      <td>db_PostgreSQL</td>\n",
       "      <td>14929.289676</td>\n",
       "      <td>1863</td>\n",
       "      <td>0.016861</td>\n",
       "    </tr>\n",
       "    <tr>\n",
       "      <th>15</th>\n",
       "      <td>db_MySQL</td>\n",
       "      <td>13777.641738</td>\n",
       "      <td>36264</td>\n",
       "      <td>0.328211</td>\n",
       "    </tr>\n",
       "    <tr>\n",
       "      <th>24</th>\n",
       "      <td>db_SQLite</td>\n",
       "      <td>12880.956532</td>\n",
       "      <td>1434</td>\n",
       "      <td>0.012979</td>\n",
       "    </tr>\n",
       "    <tr>\n",
       "      <th>18</th>\n",
       "      <td>db_Oracle</td>\n",
       "      <td>12653.985456</td>\n",
       "      <td>28236</td>\n",
       "      <td>0.255553</td>\n",
       "    </tr>\n",
       "    <tr>\n",
       "      <th>3</th>\n",
       "      <td>db_DB2</td>\n",
       "      <td>12639.861919</td>\n",
       "      <td>2752</td>\n",
       "      <td>0.024907</td>\n",
       "    </tr>\n",
       "    <tr>\n",
       "      <th>27</th>\n",
       "      <td>db_Sybase</td>\n",
       "      <td>12061.340206</td>\n",
       "      <td>582</td>\n",
       "      <td>0.005267</td>\n",
       "    </tr>\n",
       "    <tr>\n",
       "      <th>23</th>\n",
       "      <td>db_SQL_Server</td>\n",
       "      <td>11694.509873</td>\n",
       "      <td>9977</td>\n",
       "      <td>0.090298</td>\n",
       "    </tr>\n",
       "    <tr>\n",
       "      <th>29</th>\n",
       "      <td>db_dBase</td>\n",
       "      <td>11583.333333</td>\n",
       "      <td>6</td>\n",
       "      <td>0.000054</td>\n",
       "    </tr>\n",
       "    <tr>\n",
       "      <th>8</th>\n",
       "      <td>db_Firebird</td>\n",
       "      <td>11000.000000</td>\n",
       "      <td>7</td>\n",
       "      <td>0.000063</td>\n",
       "    </tr>\n",
       "    <tr>\n",
       "      <th>10</th>\n",
       "      <td>db_Informix</td>\n",
       "      <td>10912.378641</td>\n",
       "      <td>206</td>\n",
       "      <td>0.001864</td>\n",
       "    </tr>\n",
       "    <tr>\n",
       "      <th>0</th>\n",
       "      <td>db_Apache_Hive</td>\n",
       "      <td>NaN</td>\n",
       "      <td>0</td>\n",
       "      <td>0.000000</td>\n",
       "    </tr>\n",
       "    <tr>\n",
       "      <th>6</th>\n",
       "      <td>db_FileMaker</td>\n",
       "      <td>NaN</td>\n",
       "      <td>0</td>\n",
       "      <td>0.000000</td>\n",
       "    </tr>\n",
       "  </tbody>\n",
       "</table>\n",
       "</div>"
      ],
      "text/plain": [
       "                  db        salary  head_count  percentage\n",
       "17        db_Netezza  27300.000000           5    0.000045\n",
       "11         db_Ingres  21500.000000           5    0.000045\n",
       "16          db_Neo4j  20033.088235         102    0.000923\n",
       "4        db_DynamoDB  19197.916667          24    0.000217\n",
       "1       db_CouchBase  18709.459459          37    0.000335\n",
       "9           db_Hbase  18531.896909        3214    0.029089\n",
       "5   db_Elasticsearch  18008.434764        1561    0.014128\n",
       "2         db_CouchDB  17904.761905          21    0.000190\n",
       "25           db_Solr  17568.148926         714    0.006462\n",
       "26         db_Splunk  17482.142857          28    0.000253\n",
       "14        db_MongoDB  16451.658177        6282    0.056856\n",
       "22       db_SAP_HANA  16116.666667          30    0.000272\n",
       "20          db_Redis  16073.004824       14581    0.131967\n",
       "13      db_Memcached  15968.959878        2293    0.020753\n",
       "28       db_Teradata  15723.744292         146    0.001321\n",
       "21           db_Riak  15625.000000           4    0.000036\n",
       "12        db_MariaDB  15254.545455         110    0.000996\n",
       "7        db_Firebase  15166.666667           6    0.000054\n",
       "19     db_PostgreSQL  14929.289676        1863    0.016861\n",
       "15          db_MySQL  13777.641738       36264    0.328211\n",
       "24         db_SQLite  12880.956532        1434    0.012979\n",
       "18         db_Oracle  12653.985456       28236    0.255553\n",
       "3             db_DB2  12639.861919        2752    0.024907\n",
       "27         db_Sybase  12061.340206         582    0.005267\n",
       "23     db_SQL_Server  11694.509873        9977    0.090298\n",
       "29          db_dBase  11583.333333           6    0.000054\n",
       "8        db_Firebird  11000.000000           7    0.000063\n",
       "10       db_Informix  10912.378641         206    0.001864\n",
       "0     db_Apache_Hive           NaN           0    0.000000\n",
       "6       db_FileMaker           NaN           0    0.000000"
      ]
     },
     "execution_count": 59,
     "metadata": {},
     "output_type": "execute_result"
    }
   ],
   "source": [
    "data_db=get_sub_stats(data,'db')\n",
    "data_db"
   ]
  },
  {
   "cell_type": "markdown",
   "metadata": {},
   "source": [
    "数据显示，掌握Netezza，Ingres，Neo4j，DynamoDB，CouchBase等数据库技术，可以带来高收入。"
   ]
  },
  {
   "cell_type": "code",
   "execution_count": 61,
   "metadata": {},
   "outputs": [
    {
     "data": {
      "text/html": [
       "<div>\n",
       "<style scoped>\n",
       "    .dataframe tbody tr th:only-of-type {\n",
       "        vertical-align: middle;\n",
       "    }\n",
       "\n",
       "    .dataframe tbody tr th {\n",
       "        vertical-align: top;\n",
       "    }\n",
       "\n",
       "    .dataframe thead th {\n",
       "        text-align: right;\n",
       "    }\n",
       "</style>\n",
       "<table border=\"1\" class=\"dataframe\">\n",
       "  <thead>\n",
       "    <tr style=\"text-align: right;\">\n",
       "      <th></th>\n",
       "      <th>db</th>\n",
       "      <th>salary</th>\n",
       "      <th>head_count</th>\n",
       "      <th>percentage</th>\n",
       "    </tr>\n",
       "  </thead>\n",
       "  <tbody>\n",
       "    <tr>\n",
       "      <th>15</th>\n",
       "      <td>db_MySQL</td>\n",
       "      <td>13777.641738</td>\n",
       "      <td>36264</td>\n",
       "      <td>0.328211</td>\n",
       "    </tr>\n",
       "    <tr>\n",
       "      <th>18</th>\n",
       "      <td>db_Oracle</td>\n",
       "      <td>12653.985456</td>\n",
       "      <td>28236</td>\n",
       "      <td>0.255553</td>\n",
       "    </tr>\n",
       "    <tr>\n",
       "      <th>20</th>\n",
       "      <td>db_Redis</td>\n",
       "      <td>16073.004824</td>\n",
       "      <td>14581</td>\n",
       "      <td>0.131967</td>\n",
       "    </tr>\n",
       "    <tr>\n",
       "      <th>23</th>\n",
       "      <td>db_SQL_Server</td>\n",
       "      <td>11694.509873</td>\n",
       "      <td>9977</td>\n",
       "      <td>0.090298</td>\n",
       "    </tr>\n",
       "    <tr>\n",
       "      <th>14</th>\n",
       "      <td>db_MongoDB</td>\n",
       "      <td>16451.658177</td>\n",
       "      <td>6282</td>\n",
       "      <td>0.056856</td>\n",
       "    </tr>\n",
       "    <tr>\n",
       "      <th>9</th>\n",
       "      <td>db_Hbase</td>\n",
       "      <td>18531.896909</td>\n",
       "      <td>3214</td>\n",
       "      <td>0.029089</td>\n",
       "    </tr>\n",
       "    <tr>\n",
       "      <th>3</th>\n",
       "      <td>db_DB2</td>\n",
       "      <td>12639.861919</td>\n",
       "      <td>2752</td>\n",
       "      <td>0.024907</td>\n",
       "    </tr>\n",
       "    <tr>\n",
       "      <th>13</th>\n",
       "      <td>db_Memcached</td>\n",
       "      <td>15968.959878</td>\n",
       "      <td>2293</td>\n",
       "      <td>0.020753</td>\n",
       "    </tr>\n",
       "    <tr>\n",
       "      <th>19</th>\n",
       "      <td>db_PostgreSQL</td>\n",
       "      <td>14929.289676</td>\n",
       "      <td>1863</td>\n",
       "      <td>0.016861</td>\n",
       "    </tr>\n",
       "    <tr>\n",
       "      <th>5</th>\n",
       "      <td>db_Elasticsearch</td>\n",
       "      <td>18008.434764</td>\n",
       "      <td>1561</td>\n",
       "      <td>0.014128</td>\n",
       "    </tr>\n",
       "    <tr>\n",
       "      <th>24</th>\n",
       "      <td>db_SQLite</td>\n",
       "      <td>12880.956532</td>\n",
       "      <td>1434</td>\n",
       "      <td>0.012979</td>\n",
       "    </tr>\n",
       "    <tr>\n",
       "      <th>25</th>\n",
       "      <td>db_Solr</td>\n",
       "      <td>17568.148926</td>\n",
       "      <td>714</td>\n",
       "      <td>0.006462</td>\n",
       "    </tr>\n",
       "    <tr>\n",
       "      <th>27</th>\n",
       "      <td>db_Sybase</td>\n",
       "      <td>12061.340206</td>\n",
       "      <td>582</td>\n",
       "      <td>0.005267</td>\n",
       "    </tr>\n",
       "    <tr>\n",
       "      <th>10</th>\n",
       "      <td>db_Informix</td>\n",
       "      <td>10912.378641</td>\n",
       "      <td>206</td>\n",
       "      <td>0.001864</td>\n",
       "    </tr>\n",
       "    <tr>\n",
       "      <th>28</th>\n",
       "      <td>db_Teradata</td>\n",
       "      <td>15723.744292</td>\n",
       "      <td>146</td>\n",
       "      <td>0.001321</td>\n",
       "    </tr>\n",
       "    <tr>\n",
       "      <th>12</th>\n",
       "      <td>db_MariaDB</td>\n",
       "      <td>15254.545455</td>\n",
       "      <td>110</td>\n",
       "      <td>0.000996</td>\n",
       "    </tr>\n",
       "    <tr>\n",
       "      <th>16</th>\n",
       "      <td>db_Neo4j</td>\n",
       "      <td>20033.088235</td>\n",
       "      <td>102</td>\n",
       "      <td>0.000923</td>\n",
       "    </tr>\n",
       "    <tr>\n",
       "      <th>1</th>\n",
       "      <td>db_CouchBase</td>\n",
       "      <td>18709.459459</td>\n",
       "      <td>37</td>\n",
       "      <td>0.000335</td>\n",
       "    </tr>\n",
       "    <tr>\n",
       "      <th>22</th>\n",
       "      <td>db_SAP_HANA</td>\n",
       "      <td>16116.666667</td>\n",
       "      <td>30</td>\n",
       "      <td>0.000272</td>\n",
       "    </tr>\n",
       "    <tr>\n",
       "      <th>26</th>\n",
       "      <td>db_Splunk</td>\n",
       "      <td>17482.142857</td>\n",
       "      <td>28</td>\n",
       "      <td>0.000253</td>\n",
       "    </tr>\n",
       "    <tr>\n",
       "      <th>4</th>\n",
       "      <td>db_DynamoDB</td>\n",
       "      <td>19197.916667</td>\n",
       "      <td>24</td>\n",
       "      <td>0.000217</td>\n",
       "    </tr>\n",
       "    <tr>\n",
       "      <th>2</th>\n",
       "      <td>db_CouchDB</td>\n",
       "      <td>17904.761905</td>\n",
       "      <td>21</td>\n",
       "      <td>0.000190</td>\n",
       "    </tr>\n",
       "    <tr>\n",
       "      <th>8</th>\n",
       "      <td>db_Firebird</td>\n",
       "      <td>11000.000000</td>\n",
       "      <td>7</td>\n",
       "      <td>0.000063</td>\n",
       "    </tr>\n",
       "    <tr>\n",
       "      <th>7</th>\n",
       "      <td>db_Firebase</td>\n",
       "      <td>15166.666667</td>\n",
       "      <td>6</td>\n",
       "      <td>0.000054</td>\n",
       "    </tr>\n",
       "    <tr>\n",
       "      <th>29</th>\n",
       "      <td>db_dBase</td>\n",
       "      <td>11583.333333</td>\n",
       "      <td>6</td>\n",
       "      <td>0.000054</td>\n",
       "    </tr>\n",
       "    <tr>\n",
       "      <th>11</th>\n",
       "      <td>db_Ingres</td>\n",
       "      <td>21500.000000</td>\n",
       "      <td>5</td>\n",
       "      <td>0.000045</td>\n",
       "    </tr>\n",
       "    <tr>\n",
       "      <th>17</th>\n",
       "      <td>db_Netezza</td>\n",
       "      <td>27300.000000</td>\n",
       "      <td>5</td>\n",
       "      <td>0.000045</td>\n",
       "    </tr>\n",
       "    <tr>\n",
       "      <th>21</th>\n",
       "      <td>db_Riak</td>\n",
       "      <td>15625.000000</td>\n",
       "      <td>4</td>\n",
       "      <td>0.000036</td>\n",
       "    </tr>\n",
       "    <tr>\n",
       "      <th>0</th>\n",
       "      <td>db_Apache_Hive</td>\n",
       "      <td>NaN</td>\n",
       "      <td>0</td>\n",
       "      <td>0.000000</td>\n",
       "    </tr>\n",
       "    <tr>\n",
       "      <th>6</th>\n",
       "      <td>db_FileMaker</td>\n",
       "      <td>NaN</td>\n",
       "      <td>0</td>\n",
       "      <td>0.000000</td>\n",
       "    </tr>\n",
       "  </tbody>\n",
       "</table>\n",
       "</div>"
      ],
      "text/plain": [
       "                  db        salary  head_count  percentage\n",
       "15          db_MySQL  13777.641738       36264    0.328211\n",
       "18         db_Oracle  12653.985456       28236    0.255553\n",
       "20          db_Redis  16073.004824       14581    0.131967\n",
       "23     db_SQL_Server  11694.509873        9977    0.090298\n",
       "14        db_MongoDB  16451.658177        6282    0.056856\n",
       "9           db_Hbase  18531.896909        3214    0.029089\n",
       "3             db_DB2  12639.861919        2752    0.024907\n",
       "13      db_Memcached  15968.959878        2293    0.020753\n",
       "19     db_PostgreSQL  14929.289676        1863    0.016861\n",
       "5   db_Elasticsearch  18008.434764        1561    0.014128\n",
       "24         db_SQLite  12880.956532        1434    0.012979\n",
       "25           db_Solr  17568.148926         714    0.006462\n",
       "27         db_Sybase  12061.340206         582    0.005267\n",
       "10       db_Informix  10912.378641         206    0.001864\n",
       "28       db_Teradata  15723.744292         146    0.001321\n",
       "12        db_MariaDB  15254.545455         110    0.000996\n",
       "16          db_Neo4j  20033.088235         102    0.000923\n",
       "1       db_CouchBase  18709.459459          37    0.000335\n",
       "22       db_SAP_HANA  16116.666667          30    0.000272\n",
       "26         db_Splunk  17482.142857          28    0.000253\n",
       "4        db_DynamoDB  19197.916667          24    0.000217\n",
       "2         db_CouchDB  17904.761905          21    0.000190\n",
       "8        db_Firebird  11000.000000           7    0.000063\n",
       "7        db_Firebase  15166.666667           6    0.000054\n",
       "29          db_dBase  11583.333333           6    0.000054\n",
       "11         db_Ingres  21500.000000           5    0.000045\n",
       "17        db_Netezza  27300.000000           5    0.000045\n",
       "21           db_Riak  15625.000000           4    0.000036\n",
       "0     db_Apache_Hive           NaN           0    0.000000\n",
       "6       db_FileMaker           NaN           0    0.000000"
      ]
     },
     "execution_count": 61,
     "metadata": {},
     "output_type": "execute_result"
    }
   ],
   "source": [
    "data_db.sort_values(by='head_count', ascending=False)"
   ]
  },
  {
   "cell_type": "markdown",
   "metadata": {},
   "source": [
    "由此可见，MySQL（33%），Oracle（26%），Redis（13%），SQL Server(9%)占据了绝大多数市场份额。"
   ]
  },
  {
   "cell_type": "markdown",
   "metadata": {},
   "source": [
    "## Programming Languages"
   ]
  },
  {
   "cell_type": "code",
   "execution_count": 62,
   "metadata": {},
   "outputs": [],
   "source": [
    "data_pl=get_sub_stats(data,'pl')"
   ]
  },
  {
   "cell_type": "code",
   "execution_count": 66,
   "metadata": {},
   "outputs": [
    {
     "data": {
      "text/html": [
       "<div>\n",
       "<style scoped>\n",
       "    .dataframe tbody tr th:only-of-type {\n",
       "        vertical-align: middle;\n",
       "    }\n",
       "\n",
       "    .dataframe tbody tr th {\n",
       "        vertical-align: top;\n",
       "    }\n",
       "\n",
       "    .dataframe thead th {\n",
       "        text-align: right;\n",
       "    }\n",
       "</style>\n",
       "<table border=\"1\" class=\"dataframe\">\n",
       "  <thead>\n",
       "    <tr style=\"text-align: right;\">\n",
       "      <th></th>\n",
       "      <th>pl</th>\n",
       "      <th>salary</th>\n",
       "      <th>head_count</th>\n",
       "      <th>percentage</th>\n",
       "    </tr>\n",
       "  </thead>\n",
       "  <tbody>\n",
       "    <tr>\n",
       "      <th>5</th>\n",
       "      <td>pl_java</td>\n",
       "      <td>14155.706303</td>\n",
       "      <td>53327</td>\n",
       "      <td>0.299106</td>\n",
       "    </tr>\n",
       "    <tr>\n",
       "      <th>1</th>\n",
       "      <td>pl_cpp</td>\n",
       "      <td>15869.083763</td>\n",
       "      <td>29281</td>\n",
       "      <td>0.164234</td>\n",
       "    </tr>\n",
       "    <tr>\n",
       "      <th>6</th>\n",
       "      <td>pl_javascript</td>\n",
       "      <td>12274.682531</td>\n",
       "      <td>27483</td>\n",
       "      <td>0.154149</td>\n",
       "    </tr>\n",
       "    <tr>\n",
       "      <th>0</th>\n",
       "      <td>pl_c_sharp</td>\n",
       "      <td>12008.116585</td>\n",
       "      <td>19954</td>\n",
       "      <td>0.111920</td>\n",
       "    </tr>\n",
       "    <tr>\n",
       "      <th>14</th>\n",
       "      <td>pl_python</td>\n",
       "      <td>17751.090593</td>\n",
       "      <td>14946</td>\n",
       "      <td>0.083831</td>\n",
       "    </tr>\n",
       "    <tr>\n",
       "      <th>3</th>\n",
       "      <td>pl_go</td>\n",
       "      <td>17567.808789</td>\n",
       "      <td>12630</td>\n",
       "      <td>0.070840</td>\n",
       "    </tr>\n",
       "    <tr>\n",
       "      <th>13</th>\n",
       "      <td>pl_php</td>\n",
       "      <td>13163.163089</td>\n",
       "      <td>9457</td>\n",
       "      <td>0.053043</td>\n",
       "    </tr>\n",
       "    <tr>\n",
       "      <th>10</th>\n",
       "      <td>pl_matlab</td>\n",
       "      <td>17720.568562</td>\n",
       "      <td>2691</td>\n",
       "      <td>0.015094</td>\n",
       "    </tr>\n",
       "    <tr>\n",
       "      <th>9</th>\n",
       "      <td>pl_lua</td>\n",
       "      <td>16210.063028</td>\n",
       "      <td>2327</td>\n",
       "      <td>0.013052</td>\n",
       "    </tr>\n",
       "    <tr>\n",
       "      <th>18</th>\n",
       "      <td>pl_swift</td>\n",
       "      <td>14246.094609</td>\n",
       "      <td>1515</td>\n",
       "      <td>0.008497</td>\n",
       "    </tr>\n",
       "    <tr>\n",
       "      <th>12</th>\n",
       "      <td>pl_perl</td>\n",
       "      <td>17219.907072</td>\n",
       "      <td>1381</td>\n",
       "      <td>0.007746</td>\n",
       "    </tr>\n",
       "    <tr>\n",
       "      <th>19</th>\n",
       "      <td>pl_typescript</td>\n",
       "      <td>14287.894201</td>\n",
       "      <td>983</td>\n",
       "      <td>0.005514</td>\n",
       "    </tr>\n",
       "    <tr>\n",
       "      <th>15</th>\n",
       "      <td>pl_ruby</td>\n",
       "      <td>16159.683426</td>\n",
       "      <td>716</td>\n",
       "      <td>0.004016</td>\n",
       "    </tr>\n",
       "    <tr>\n",
       "      <th>2</th>\n",
       "      <td>pl_delphi</td>\n",
       "      <td>10740.599051</td>\n",
       "      <td>562</td>\n",
       "      <td>0.003152</td>\n",
       "    </tr>\n",
       "    <tr>\n",
       "      <th>8</th>\n",
       "      <td>pl_kotlin</td>\n",
       "      <td>14866.808252</td>\n",
       "      <td>412</td>\n",
       "      <td>0.002311</td>\n",
       "    </tr>\n",
       "    <tr>\n",
       "      <th>11</th>\n",
       "      <td>pl_objective_c</td>\n",
       "      <td>13492.978395</td>\n",
       "      <td>216</td>\n",
       "      <td>0.001212</td>\n",
       "    </tr>\n",
       "    <tr>\n",
       "      <th>20</th>\n",
       "      <td>pl_vba</td>\n",
       "      <td>11461.029412</td>\n",
       "      <td>204</td>\n",
       "      <td>0.001144</td>\n",
       "    </tr>\n",
       "    <tr>\n",
       "      <th>16</th>\n",
       "      <td>pl_rust</td>\n",
       "      <td>19343.881857</td>\n",
       "      <td>158</td>\n",
       "      <td>0.000886</td>\n",
       "    </tr>\n",
       "    <tr>\n",
       "      <th>21</th>\n",
       "      <td>pl_visual_basic</td>\n",
       "      <td>11033.950617</td>\n",
       "      <td>27</td>\n",
       "      <td>0.000151</td>\n",
       "    </tr>\n",
       "    <tr>\n",
       "      <th>4</th>\n",
       "      <td>pl_haskell</td>\n",
       "      <td>24371.794872</td>\n",
       "      <td>13</td>\n",
       "      <td>0.000073</td>\n",
       "    </tr>\n",
       "    <tr>\n",
       "      <th>7</th>\n",
       "      <td>pl_julia</td>\n",
       "      <td>14383.333333</td>\n",
       "      <td>5</td>\n",
       "      <td>0.000028</td>\n",
       "    </tr>\n",
       "    <tr>\n",
       "      <th>17</th>\n",
       "      <td>pl_scrala</td>\n",
       "      <td>NaN</td>\n",
       "      <td>0</td>\n",
       "      <td>0.000000</td>\n",
       "    </tr>\n",
       "  </tbody>\n",
       "</table>\n",
       "</div>"
      ],
      "text/plain": [
       "                 pl        salary  head_count  percentage\n",
       "5           pl_java  14155.706303       53327    0.299106\n",
       "1            pl_cpp  15869.083763       29281    0.164234\n",
       "6     pl_javascript  12274.682531       27483    0.154149\n",
       "0        pl_c_sharp  12008.116585       19954    0.111920\n",
       "14        pl_python  17751.090593       14946    0.083831\n",
       "3             pl_go  17567.808789       12630    0.070840\n",
       "13           pl_php  13163.163089        9457    0.053043\n",
       "10        pl_matlab  17720.568562        2691    0.015094\n",
       "9            pl_lua  16210.063028        2327    0.013052\n",
       "18         pl_swift  14246.094609        1515    0.008497\n",
       "12          pl_perl  17219.907072        1381    0.007746\n",
       "19    pl_typescript  14287.894201         983    0.005514\n",
       "15          pl_ruby  16159.683426         716    0.004016\n",
       "2         pl_delphi  10740.599051         562    0.003152\n",
       "8         pl_kotlin  14866.808252         412    0.002311\n",
       "11   pl_objective_c  13492.978395         216    0.001212\n",
       "20           pl_vba  11461.029412         204    0.001144\n",
       "16          pl_rust  19343.881857         158    0.000886\n",
       "21  pl_visual_basic  11033.950617          27    0.000151\n",
       "4        pl_haskell  24371.794872          13    0.000073\n",
       "7          pl_julia  14383.333333           5    0.000028\n",
       "17        pl_scrala           NaN           0    0.000000"
      ]
     },
     "execution_count": 66,
     "metadata": {},
     "output_type": "execute_result"
    }
   ],
   "source": [
    "data_pl.sort_values(by='head_count', ascending=False)"
   ]
  },
  {
   "cell_type": "markdown",
   "metadata": {},
   "source": [
    "数据显示，java的市场份额是最大的，占了30%。其份额约等于第二和第三位，既C++和javascript，的总和。其他主流语言为javascript，c#，python，go和php。而这七大主流语言中，python和go的工资最高，达到了17000。javascript和c#的工资最低，只有12000。"
   ]
  },
  {
   "cell_type": "code",
   "execution_count": 67,
   "metadata": {},
   "outputs": [
    {
     "data": {
      "text/html": [
       "<div>\n",
       "<style scoped>\n",
       "    .dataframe tbody tr th:only-of-type {\n",
       "        vertical-align: middle;\n",
       "    }\n",
       "\n",
       "    .dataframe tbody tr th {\n",
       "        vertical-align: top;\n",
       "    }\n",
       "\n",
       "    .dataframe thead th {\n",
       "        text-align: right;\n",
       "    }\n",
       "</style>\n",
       "<table border=\"1\" class=\"dataframe\">\n",
       "  <thead>\n",
       "    <tr style=\"text-align: right;\">\n",
       "      <th></th>\n",
       "      <th>pl</th>\n",
       "      <th>salary</th>\n",
       "      <th>head_count</th>\n",
       "      <th>percentage</th>\n",
       "    </tr>\n",
       "  </thead>\n",
       "  <tbody>\n",
       "    <tr>\n",
       "      <th>4</th>\n",
       "      <td>pl_haskell</td>\n",
       "      <td>24371.794872</td>\n",
       "      <td>13</td>\n",
       "      <td>0.000073</td>\n",
       "    </tr>\n",
       "    <tr>\n",
       "      <th>16</th>\n",
       "      <td>pl_rust</td>\n",
       "      <td>19343.881857</td>\n",
       "      <td>158</td>\n",
       "      <td>0.000886</td>\n",
       "    </tr>\n",
       "    <tr>\n",
       "      <th>14</th>\n",
       "      <td>pl_python</td>\n",
       "      <td>17751.090593</td>\n",
       "      <td>14946</td>\n",
       "      <td>0.083831</td>\n",
       "    </tr>\n",
       "    <tr>\n",
       "      <th>10</th>\n",
       "      <td>pl_matlab</td>\n",
       "      <td>17720.568562</td>\n",
       "      <td>2691</td>\n",
       "      <td>0.015094</td>\n",
       "    </tr>\n",
       "    <tr>\n",
       "      <th>3</th>\n",
       "      <td>pl_go</td>\n",
       "      <td>17567.808789</td>\n",
       "      <td>12630</td>\n",
       "      <td>0.070840</td>\n",
       "    </tr>\n",
       "    <tr>\n",
       "      <th>12</th>\n",
       "      <td>pl_perl</td>\n",
       "      <td>17219.907072</td>\n",
       "      <td>1381</td>\n",
       "      <td>0.007746</td>\n",
       "    </tr>\n",
       "    <tr>\n",
       "      <th>9</th>\n",
       "      <td>pl_lua</td>\n",
       "      <td>16210.063028</td>\n",
       "      <td>2327</td>\n",
       "      <td>0.013052</td>\n",
       "    </tr>\n",
       "    <tr>\n",
       "      <th>15</th>\n",
       "      <td>pl_ruby</td>\n",
       "      <td>16159.683426</td>\n",
       "      <td>716</td>\n",
       "      <td>0.004016</td>\n",
       "    </tr>\n",
       "    <tr>\n",
       "      <th>1</th>\n",
       "      <td>pl_cpp</td>\n",
       "      <td>15869.083763</td>\n",
       "      <td>29281</td>\n",
       "      <td>0.164234</td>\n",
       "    </tr>\n",
       "    <tr>\n",
       "      <th>8</th>\n",
       "      <td>pl_kotlin</td>\n",
       "      <td>14866.808252</td>\n",
       "      <td>412</td>\n",
       "      <td>0.002311</td>\n",
       "    </tr>\n",
       "    <tr>\n",
       "      <th>7</th>\n",
       "      <td>pl_julia</td>\n",
       "      <td>14383.333333</td>\n",
       "      <td>5</td>\n",
       "      <td>0.000028</td>\n",
       "    </tr>\n",
       "    <tr>\n",
       "      <th>19</th>\n",
       "      <td>pl_typescript</td>\n",
       "      <td>14287.894201</td>\n",
       "      <td>983</td>\n",
       "      <td>0.005514</td>\n",
       "    </tr>\n",
       "    <tr>\n",
       "      <th>18</th>\n",
       "      <td>pl_swift</td>\n",
       "      <td>14246.094609</td>\n",
       "      <td>1515</td>\n",
       "      <td>0.008497</td>\n",
       "    </tr>\n",
       "    <tr>\n",
       "      <th>5</th>\n",
       "      <td>pl_java</td>\n",
       "      <td>14155.706303</td>\n",
       "      <td>53327</td>\n",
       "      <td>0.299106</td>\n",
       "    </tr>\n",
       "    <tr>\n",
       "      <th>11</th>\n",
       "      <td>pl_objective_c</td>\n",
       "      <td>13492.978395</td>\n",
       "      <td>216</td>\n",
       "      <td>0.001212</td>\n",
       "    </tr>\n",
       "    <tr>\n",
       "      <th>13</th>\n",
       "      <td>pl_php</td>\n",
       "      <td>13163.163089</td>\n",
       "      <td>9457</td>\n",
       "      <td>0.053043</td>\n",
       "    </tr>\n",
       "    <tr>\n",
       "      <th>6</th>\n",
       "      <td>pl_javascript</td>\n",
       "      <td>12274.682531</td>\n",
       "      <td>27483</td>\n",
       "      <td>0.154149</td>\n",
       "    </tr>\n",
       "    <tr>\n",
       "      <th>0</th>\n",
       "      <td>pl_c_sharp</td>\n",
       "      <td>12008.116585</td>\n",
       "      <td>19954</td>\n",
       "      <td>0.111920</td>\n",
       "    </tr>\n",
       "    <tr>\n",
       "      <th>20</th>\n",
       "      <td>pl_vba</td>\n",
       "      <td>11461.029412</td>\n",
       "      <td>204</td>\n",
       "      <td>0.001144</td>\n",
       "    </tr>\n",
       "    <tr>\n",
       "      <th>21</th>\n",
       "      <td>pl_visual_basic</td>\n",
       "      <td>11033.950617</td>\n",
       "      <td>27</td>\n",
       "      <td>0.000151</td>\n",
       "    </tr>\n",
       "    <tr>\n",
       "      <th>2</th>\n",
       "      <td>pl_delphi</td>\n",
       "      <td>10740.599051</td>\n",
       "      <td>562</td>\n",
       "      <td>0.003152</td>\n",
       "    </tr>\n",
       "    <tr>\n",
       "      <th>17</th>\n",
       "      <td>pl_scrala</td>\n",
       "      <td>NaN</td>\n",
       "      <td>0</td>\n",
       "      <td>0.000000</td>\n",
       "    </tr>\n",
       "  </tbody>\n",
       "</table>\n",
       "</div>"
      ],
      "text/plain": [
       "                 pl        salary  head_count  percentage\n",
       "4        pl_haskell  24371.794872          13    0.000073\n",
       "16          pl_rust  19343.881857         158    0.000886\n",
       "14        pl_python  17751.090593       14946    0.083831\n",
       "10        pl_matlab  17720.568562        2691    0.015094\n",
       "3             pl_go  17567.808789       12630    0.070840\n",
       "12          pl_perl  17219.907072        1381    0.007746\n",
       "9            pl_lua  16210.063028        2327    0.013052\n",
       "15          pl_ruby  16159.683426         716    0.004016\n",
       "1            pl_cpp  15869.083763       29281    0.164234\n",
       "8         pl_kotlin  14866.808252         412    0.002311\n",
       "7          pl_julia  14383.333333           5    0.000028\n",
       "19    pl_typescript  14287.894201         983    0.005514\n",
       "18         pl_swift  14246.094609        1515    0.008497\n",
       "5           pl_java  14155.706303       53327    0.299106\n",
       "11   pl_objective_c  13492.978395         216    0.001212\n",
       "13           pl_php  13163.163089        9457    0.053043\n",
       "6     pl_javascript  12274.682531       27483    0.154149\n",
       "0        pl_c_sharp  12008.116585       19954    0.111920\n",
       "20           pl_vba  11461.029412         204    0.001144\n",
       "21  pl_visual_basic  11033.950617          27    0.000151\n",
       "2         pl_delphi  10740.599051         562    0.003152\n",
       "17        pl_scrala           NaN           0    0.000000"
      ]
     },
     "execution_count": 67,
     "metadata": {},
     "output_type": "execute_result"
    }
   ],
   "source": [
    "data_pl"
   ]
  },
  {
   "cell_type": "markdown",
   "metadata": {},
   "source": [
    "从工资上面看，haskell的工资遥遥领先，一个月2万3呀！我连忙查了一下，什么是haskell。kaskell是一门函数式functional langugae。我大学里函数式语言考试（F#）还拿了100分呢（一半人都挂了），现在后悔没有搞函数式编程，不知道转行是不是来得及。"
   ]
  },
  {
   "cell_type": "code",
   "execution_count": 19,
   "metadata": {},
   "outputs": [
    {
     "data": {
      "text/plain": [
       "company_size_50_150        40202.0\n",
       "company_size_150_500       30493.0\n",
       "company_size_50            22544.0\n",
       "company_size_1000_5000     16753.0\n",
       "company_size_500_1000      13408.0\n",
       "company_size_10000          5433.0\n",
       "company_size_5000_10000     2601.0\n",
       "dtype: float64"
      ]
     },
     "execution_count": 19,
     "metadata": {},
     "output_type": "execute_result"
    }
   ],
   "source": [
    "get_subset(data_sum, 'company_size_')"
   ]
  },
  {
   "cell_type": "code",
   "execution_count": 25,
   "metadata": {},
   "outputs": [
    {
     "data": {
      "text/plain": [
       "company_size_10000         19133.420976\n",
       "company_size_5000_10000    15321.567381\n",
       "company_size_1000_5000     15247.573198\n",
       "company_size_500_1000      14714.131745\n",
       "company_size_150_500       13620.251887\n",
       "company_size_50_150        12901.782978\n",
       "company_size_50            12288.195438\n",
       "dtype: float64"
      ]
     },
     "execution_count": 25,
     "metadata": {},
     "output_type": "execute_result"
    }
   ],
   "source": [
    "get_mean_salary_by('company_size_')"
   ]
  },
  {
   "cell_type": "code",
   "execution_count": 20,
   "metadata": {},
   "outputs": [
    {
     "data": {
      "text/plain": [
       "company_type_private               88787.0\n",
       "company_type_listed                11800.0\n",
       "company_type_state                  7301.0\n",
       "company_type_foreign                5378.0\n",
       "company_type_us_eu                  5113.0\n",
       "company_type_startup                3079.0\n",
       "company_type_public_institution      824.0\n",
       "company_type_non_profit              133.0\n",
       "company_type_foreign_rep              98.0\n",
       "company_type_foreign_gov              18.0\n",
       "dtype: float64"
      ]
     },
     "execution_count": 20,
     "metadata": {},
     "output_type": "execute_result"
    }
   ],
   "source": [
    "get_subset(data_sum, 'company_type_')"
   ]
  },
  {
   "cell_type": "code",
   "execution_count": 26,
   "metadata": {},
   "outputs": [
    {
     "data": {
      "text/plain": [
       "company_type_us_eu                 16553.452133\n",
       "company_type_foreign_rep           16158.179012\n",
       "company_type_listed                14597.330645\n",
       "company_type_startup               14407.678775\n",
       "company_type_foreign               13904.301029\n",
       "company_type_state                 13818.917714\n",
       "company_type_private               13358.761498\n",
       "company_type_foreign_gov           13347.222222\n",
       "company_type_public_institution    13137.405866\n",
       "company_type_non_profit            10167.386091\n",
       "dtype: float64"
      ]
     },
     "execution_count": 26,
     "metadata": {},
     "output_type": "execute_result"
    }
   ],
   "source": [
    "get_mean_salary_by('company_type_')"
   ]
  },
  {
   "cell_type": "code",
   "execution_count": 21,
   "metadata": {},
   "outputs": [],
   "source": [
    "data_industry=get_subset(data_sum, 'industry_')"
   ]
  },
  {
   "cell_type": "code",
   "execution_count": 22,
   "metadata": {},
   "outputs": [
    {
     "data": {
      "text/plain": [
       "industry_computer      113090.0\n",
       "industry_trade          10821.0\n",
       "industry_edu             9779.0\n",
       "industry_finance         5296.0\n",
       "industry_medical         4092.0\n",
       "industry_gov             3330.0\n",
       "industry_energy          3016.0\n",
       "industry_realestate      2988.0\n",
       "industry_ads             2876.0\n",
       "industry_logistic        2164.0\n",
       "industry_service         1348.0\n",
       "dtype: float64"
      ]
     },
     "execution_count": 22,
     "metadata": {},
     "output_type": "execute_result"
    }
   ],
   "source": [
    "data_industry"
   ]
  },
  {
   "cell_type": "code",
   "execution_count": 27,
   "metadata": {},
   "outputs": [
    {
     "data": {
      "text/plain": [
       "industry_finance       15933.725683\n",
       "industry_edu           15065.823747\n",
       "industry_logistic      14341.192681\n",
       "industry_service       14236.452514\n",
       "industry_computer      13756.265933\n",
       "industry_trade         13681.545418\n",
       "industry_gov           13412.566477\n",
       "industry_medical       12949.943916\n",
       "industry_realestate    12855.498612\n",
       "industry_energy        12729.150934\n",
       "industry_ads           12514.656120\n",
       "dtype: float64"
      ]
     },
     "execution_count": 27,
     "metadata": {},
     "output_type": "execute_result"
    }
   ],
   "source": [
    "get_mean_salary_by('industry_')"
   ]
  },
  {
   "cell_type": "code",
   "execution_count": 23,
   "metadata": {},
   "outputs": [
    {
     "data": {
      "text/plain": [
       "experience_1_3     40876.0\n",
       "experience_3_5     37925.0\n",
       "experience_no      36288.0\n",
       "experience_5_10    16370.0\n",
       "experience_10        459.0\n",
       "dtype: float64"
      ]
     },
     "execution_count": 23,
     "metadata": {},
     "output_type": "execute_result"
    }
   ],
   "source": [
    "get_subset(data_sum, 'experience_')"
   ]
  },
  {
   "cell_type": "code",
   "execution_count": 28,
   "metadata": {},
   "outputs": [
    {
     "data": {
      "text/plain": [
       "experience_10      29943.149718\n",
       "experience_5_10    20635.954227\n",
       "experience_3_5     15021.980430\n",
       "experience_no      11874.269926\n",
       "experience_1_3     11328.539647\n",
       "dtype: float64"
      ]
     },
     "execution_count": 28,
     "metadata": {},
     "output_type": "execute_result"
    }
   ],
   "source": [
    "get_mean_salary_by('experience_')"
   ]
  },
  {
   "cell_type": "markdown",
   "metadata": {},
   "source": [
    "## 工资分布"
   ]
  },
  {
   "cell_type": "code",
   "execution_count": 85,
   "metadata": {},
   "outputs": [
    {
     "data": {
      "text/plain": [
       "<matplotlib.axes._subplots.AxesSubplot at 0x1eb11272048>"
      ]
     },
     "execution_count": 85,
     "metadata": {},
     "output_type": "execute_result"
    },
    {
     "data": {
      "image/png": "[encoded data removed]",
      "text/plain": [
       "<Figure size 432x288 with 1 Axes>"
      ]
     },
     "metadata": {
      "needs_background": "light"
     },
     "output_type": "display_data"
    }
   ],
   "source": [
    "data.monthly_salary.hist()"
   ]
  },
  {
   "cell_type": "code",
   "execution_count": 86,
   "metadata": {},
   "outputs": [
    {
     "data": {
      "text/plain": [
       "<matplotlib.axes._subplots.AxesSubplot at 0x1eb739bec18>"
      ]
     },
     "execution_count": 86,
     "metadata": {},
     "output_type": "execute_result"
    },
    {
     "data": {
      "image/png": "[encoded data removed]",
      "text/plain": [
       "<Figure size 432x288 with 1 Axes>"
      ]
     },
     "metadata": {
      "needs_background": "light"
     },
     "output_type": "display_data"
    }
   ],
   "source": [
    "data[data.monthly_salary<40000].monthly_salary.hist()"
   ]
  },
  {
   "cell_type": "code",
   "execution_count": 89,
   "metadata": {},
   "outputs": [
    {
     "data": {
      "text/plain": [
       "<matplotlib.axes._subplots.AxesSubplot at 0x1eb74a79780>"
      ]
     },
     "execution_count": 89,
     "metadata": {},
     "output_type": "execute_result"
    },
    {
     "data": {
      "image/png": "[encoded data removed]",
      "text/plain": [
       "<Figure size 432x288 with 1 Axes>"
      ]
     },
     "metadata": {
      "needs_background": "light"
     },
     "output_type": "display_data"
    }
   ],
   "source": [
    "data[data.monthly_salary>40000].monthly_salary.hist()"
   ]
  },
  {
   "cell_type": "code",
   "execution_count": null,
   "metadata": {},
   "outputs": [],
   "source": []
  },
  {
   "cell_type": "code",
   "execution_count": 75,
   "metadata": {},
   "outputs": [
    {
     "data": {
      "text/plain": [
       "1000.0"
      ]
     },
     "execution_count": 75,
     "metadata": {},
     "output_type": "execute_result"
    }
   ],
   "source": [
    "data.monthly_salary.min()"
   ]
  },
  {
   "cell_type": "code",
   "execution_count": 76,
   "metadata": {},
   "outputs": [
    {
     "data": {
      "text/plain": [
       "140000.0"
      ]
     },
     "execution_count": 76,
     "metadata": {},
     "output_type": "execute_result"
    }
   ],
   "source": [
    "data.monthly_salary.max()"
   ]
  },
  {
   "cell_type": "code",
   "execution_count": 77,
   "metadata": {},
   "outputs": [
    {
     "data": {
      "text/plain": [
       "12500.0"
      ]
     },
     "execution_count": 77,
     "metadata": {},
     "output_type": "execute_result"
    }
   ],
   "source": [
    "data.monthly_salary.median()"
   ]
  },
  {
   "cell_type": "code",
   "execution_count": 78,
   "metadata": {},
   "outputs": [
    {
     "data": {
      "text/plain": [
       "13755.868728773368"
      ]
     },
     "execution_count": 78,
     "metadata": {},
     "output_type": "execute_result"
    }
   ],
   "source": [
    "data.monthly_salary.mean()"
   ]
  },
  {
   "cell_type": "code",
   "execution_count": 90,
   "metadata": {},
   "outputs": [],
   "source": [
    "from scipy import stats"
   ]
  },
  {
   "cell_type": "code",
   "execution_count": 91,
   "metadata": {},
   "outputs": [
    {
     "data": {
      "text/plain": [
       "NormaltestResult(statistic=80485.89395778668, pvalue=0.0)"
      ]
     },
     "execution_count": 91,
     "metadata": {},
     "output_type": "execute_result"
    }
   ],
   "source": [
    "stats.normaltest(data.monthly_salary)"
   ]
  },
  {
   "cell_type": "code",
   "execution_count": 92,
   "metadata": {},
   "outputs": [],
   "source": [
    "?stats.normaltest"
   ]
  },
  {
   "cell_type": "code",
   "execution_count": 95,
   "metadata": {},
   "outputs": [],
   "source": [
    "a=[1,1,1,1,1,1,1,1,1,1,1,1,1,1,1,1,1,1,1,1,1,1,1,1,1,1,1,1,1,1,1,1,1,11,1,1,1,1,1,1,1,1,1,1,1,1,1,1,1,1]"
   ]
  },
  {
   "cell_type": "code",
   "execution_count": 96,
   "metadata": {},
   "outputs": [
    {
     "data": {
      "text/plain": [
       "NormaltestResult(statistic=112.24649953711291, pvalue=4.226514069652413e-25)"
      ]
     },
     "execution_count": 96,
     "metadata": {},
     "output_type": "execute_result"
    }
   ],
   "source": [
    "stats.normaltest(a)"
   ]
  },
  {
   "cell_type": "markdown",
   "metadata": {},
   "source": [
    "null hypothesis: x comes from a normal distribution\n",
    "p=0\n",
    "The null hypothesis can be rejected\n",
    "conclusion: data is not normally distributed."
   ]
  },
  {
   "cell_type": "code",
   "execution_count": null,
   "metadata": {},
   "outputs": [],
   "source": []
  }
 ],
 "metadata": {
  "kernelspec": {
   "display_name": "Python 3",
   "language": "python",
   "name": "python3"
  },
  "language_info": {
   "codemirror_mode": {
    "name": "ipython",
    "version": 3
   },
   "file_extension": ".py",
   "mimetype": "text/x-python",
   "name": "python",
   "nbconvert_exporter": "python",
   "pygments_lexer": "ipython3",
   "version": "3.7.1"
  }
 },
 "nbformat": 4,
 "nbformat_minor": 2
}
