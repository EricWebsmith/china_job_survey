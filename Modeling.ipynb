{
 "cells": [
  {
   "cell_type": "markdown",
   "metadata": {},
   "source": [
    "# Modeling"
   ]
  },
  {
   "cell_type": "code",
   "execution_count": 1,
   "metadata": {},
   "outputs": [],
   "source": [
    "import pandas as pd\n",
    "import db\n",
    "import inspect\n",
    "import matplotlib.pyplot as plt\n",
    "import scipy.stats as stats\n",
    "%matplotlib inline"
   ]
  },
  {
   "cell_type": "code",
   "execution_count": 3,
   "metadata": {},
   "outputs": [],
   "source": [
    "data_original=pd.read_sql(sql=\"select * from _51jobs where monthly_salary>0 and monthly_salary<100000 order by monthly_salary\", con=db.get_conn())"
   ]
  },
  {
   "cell_type": "code",
   "execution_count": 4,
   "metadata": {},
   "outputs": [
    {
     "data": {
      "text/plain": [
       "(139531, 142)"
      ]
     },
     "execution_count": 4,
     "metadata": {},
     "output_type": "execute_result"
    }
   ],
   "source": [
    "data_original.shape"
   ]
  },
  {
   "cell_type": "code",
   "execution_count": 5,
   "metadata": {},
   "outputs": [],
   "source": [
    "error_job_ids=['104660258','104142922','108434795','101357291','106253516','110368302','111391233','108665401','109277048'\n",
    "                  ,'73857191','108584955','102824950','102824949','111391233','110884556']"
   ]
  },
  {
   "cell_type": "code",
   "execution_count": 6,
   "metadata": {},
   "outputs": [],
   "source": [
    "data=data_original[~data_original.job_id.isin(error_job_ids)]"
   ]
  },
  {
   "cell_type": "code",
   "execution_count": 7,
   "metadata": {},
   "outputs": [
    {
     "data": {
      "text/plain": [
       "(139531, 142)"
      ]
     },
     "execution_count": 7,
     "metadata": {},
     "output_type": "execute_result"
    }
   ],
   "source": [
    "data.shape"
   ]
  },
  {
   "cell_type": "code",
   "execution_count": 8,
   "metadata": {},
   "outputs": [],
   "source": [
    "del data['publish_date']\n",
    "del data['published_on_weekend']\n",
    "del data['title']\n",
    "del data['company_title']\n",
    "del data['company_description']\n",
    "del data['job_description']\n",
    "del data['job_id']\n",
    "del data['career_software_engineer']"
   ]
  },
  {
   "cell_type": "code",
   "execution_count": null,
   "metadata": {},
   "outputs": [],
   "source": [
    "def del_by_count(data, threshold):\n",
    "    for col in data.columns:\n",
    "        if data[col].sum()<1000:\n",
    "            data=data[data[col]==0]\n",
    "            del data[col]\n",
    "            print(col+\" deleted\")\n",
    "    return data  "
   ]
  },
  {
   "cell_type": "code",
   "execution_count": 10,
   "metadata": {},
   "outputs": [
    {
     "name": "stdout",
     "output_type": "stream",
     "text": [
      "city_changchun deleted\n",
      "city_harbin deleted\n",
      "company_type_foreign_gov deleted\n",
      "company_type_foreign_rep deleted\n",
      "company_type_non_profit deleted\n",
      "company_type_public_institution deleted\n",
      "db_Apache_Hive deleted\n",
      "db_CouchBase deleted\n",
      "db_CouchDB deleted\n",
      "db_DynamoDB deleted\n",
      "db_FileMaker deleted\n",
      "db_Firebase deleted\n",
      "db_Firebird deleted\n",
      "db_Informix deleted\n",
      "db_Ingres deleted\n",
      "db_MariaDB deleted\n",
      "db_Neo4j deleted\n",
      "db_Netezza deleted\n",
      "db_Riak deleted\n",
      "db_SAP_HANA deleted\n",
      "db_Solr deleted\n",
      "db_Splunk deleted\n",
      "db_Sybase deleted\n",
      "db_Teradata deleted\n",
      "db_dBase deleted\n",
      "edu_high_school deleted\n",
      "edu_middle_school deleted\n",
      "edu_phd deleted\n",
      "experience_10 deleted\n",
      "pl_delphi deleted\n",
      "pl_haskell deleted\n",
      "pl_julia deleted\n",
      "pl_kotlin deleted\n",
      "pl_objective_c deleted\n",
      "pl_ruby deleted\n",
      "pl_rust deleted\n",
      "pl_scrala deleted\n",
      "pl_typescript deleted\n",
      "pl_vba deleted\n",
      "pl_visual_basic deleted\n",
      "tag_baby_care deleted\n",
      "tag_no_overtime deleted\n",
      "tag_rest_one_day deleted\n"
     ]
    }
   ],
   "source": [
    "data=del_by_count(data,1000)"
   ]
  },
  {
   "cell_type": "code",
   "execution_count": 11,
   "metadata": {},
   "outputs": [
    {
     "name": "stdout",
     "output_type": "stream",
     "text": [
      "city_kuming deleted\n"
     ]
    }
   ],
   "source": [
    "data=del_by_count(data,1000)"
   ]
  },
  {
   "cell_type": "code",
   "execution_count": 12,
   "metadata": {},
   "outputs": [],
   "source": [
    "data=del_by_count(data,1000)"
   ]
  },
  {
   "cell_type": "code",
   "execution_count": 13,
   "metadata": {},
   "outputs": [
    {
     "data": {
      "text/plain": [
       "(129542, 90)"
      ]
     },
     "execution_count": 13,
     "metadata": {},
     "output_type": "execute_result"
    }
   ],
   "source": [
    "data.shape"
   ]
  },
  {
   "cell_type": "code",
   "execution_count": 139,
   "metadata": {},
   "outputs": [],
   "source": [
    "def del_by_prefix(data, pref):\n",
    "    for col in data.columns:\n",
    "        if col.startswith(pref):\n",
    "            del data[col]"
   ]
  },
  {
   "cell_type": "code",
   "execution_count": 241,
   "metadata": {},
   "outputs": [],
   "source": [
    "del_by_prefix(data, 'city_')"
   ]
  },
  {
   "cell_type": "code",
   "execution_count": 257,
   "metadata": {},
   "outputs": [],
   "source": [
    "del_by_prefix(data, 'company_type')"
   ]
  },
  {
   "cell_type": "code",
   "execution_count": 258,
   "metadata": {},
   "outputs": [],
   "source": [
    "del_by_prefix(data, 'db_')"
   ]
  },
  {
   "cell_type": "code",
   "execution_count": 14,
   "metadata": {},
   "outputs": [],
   "source": [
    "import numpy as np\n",
    "from sklearn.tree import DecisionTreeRegressor\n",
    "from sklearn.model_selection  import train_test_split\n",
    "from sklearn import tree"
   ]
  },
  {
   "cell_type": "code",
   "execution_count": 15,
   "metadata": {},
   "outputs": [],
   "source": [
    "#y=np.log(data.monthly_salary)\n",
    "y=data.monthly_salary\n",
    "X=data.drop('monthly_salary', axis=1)"
   ]
  },
  {
   "cell_type": "code",
   "execution_count": 16,
   "metadata": {},
   "outputs": [],
   "source": [
    "X_train, X_test, y_train, y_test = train_test_split(X, y, test_size=0.33, random_state=42)"
   ]
  },
  {
   "cell_type": "code",
   "execution_count": 17,
   "metadata": {},
   "outputs": [],
   "source": [
    "from sklearn.linear_model import LinearRegression"
   ]
  },
  {
   "cell_type": "code",
   "execution_count": 18,
   "metadata": {},
   "outputs": [],
   "source": [
    "lr=LinearRegression()"
   ]
  },
  {
   "cell_type": "code",
   "execution_count": 19,
   "metadata": {},
   "outputs": [],
   "source": [
    "lr_model=lr.fit(X_train, y_train)"
   ]
  },
  {
   "cell_type": "code",
   "execution_count": 20,
   "metadata": {},
   "outputs": [
    {
     "data": {
      "text/plain": [
       "0.419744771996575"
      ]
     },
     "execution_count": 20,
     "metadata": {},
     "output_type": "execute_result"
    }
   ],
   "source": [
    "lr_model.score(X_train, y_train)"
   ]
  },
  {
   "cell_type": "code",
   "execution_count": 21,
   "metadata": {},
   "outputs": [
    {
     "data": {
      "text/plain": [
       "0.4117210081416889"
      ]
     },
     "execution_count": 21,
     "metadata": {},
     "output_type": "execute_result"
    }
   ],
   "source": [
    "lr_model.score(X_test, y_test)"
   ]
  },
  {
   "cell_type": "markdown",
   "metadata": {},
   "source": [
    "我们的 baseline设置为r squared=0.43"
   ]
  },
  {
   "cell_type": "code",
   "execution_count": null,
   "metadata": {},
   "outputs": [],
   "source": []
  },
  {
   "cell_type": "code",
   "execution_count": null,
   "metadata": {},
   "outputs": [],
   "source": []
  },
  {
   "cell_type": "code",
   "execution_count": 23,
   "metadata": {},
   "outputs": [
    {
     "data": {
      "text/plain": [
       "Index(['ageism', 'career_algorithm', 'career_architect', 'city_beijing',\n",
       "       'city_changsha', 'city_chengdu', 'city_chongqing', 'city_dalian',\n",
       "       'city_dongguan', 'city_fuzhou', 'city_guangzhou', 'city_hangzhou',\n",
       "       'city_hefei', 'city_jinan', 'city_nanjing', 'city_ningbo',\n",
       "       'city_qingdao', 'city_shanghai', 'city_shenyang', 'city_shenzhen',\n",
       "       'city_tianjin', 'city_wuhan', 'city_xian', 'city_zhengzhou',\n",
       "       'company_size_10000', 'company_size_1000_5000', 'company_size_150_500',\n",
       "       'company_size_50', 'company_size_5000_10000', 'company_size_500_1000',\n",
       "       'company_size_50_150', 'company_tpye_jv', 'company_type_foreign',\n",
       "       'company_type_listed', 'company_type_private', 'company_type_startup',\n",
       "       'company_type_state', 'company_type_us_eu', 'db_DB2',\n",
       "       'db_Elasticsearch', 'db_Hbase', 'db_Memcached', 'db_MongoDB',\n",
       "       'db_MySQL', 'db_Oracle', 'db_PostgreSQL', 'db_Redis', 'db_SQL_Server',\n",
       "       'db_SQLite', 'edu_associate', 'edu_bachelor', 'edu_master', 'english',\n",
       "       'experience_1_3', 'experience_3_5', 'experience_5_10', 'experience_no',\n",
       "       'icu_996', 'industry_ads', 'industry_computer', 'industry_edu',\n",
       "       'industry_energy', 'industry_finance', 'industry_gov',\n",
       "       'industry_logistic', 'industry_medical', 'industry_realestate',\n",
       "       'industry_service', 'industry_trade', 'japanese', 'non_996',\n",
       "       'phone_android', 'phone_app', 'phone_iso', 'pl_c_sharp', 'pl_cpp',\n",
       "       'pl_go', 'pl_java', 'pl_javascript', 'pl_lua', 'pl_matlab', 'pl_perl',\n",
       "       'pl_php', 'pl_python', 'pl_swift', 'tag_five_insurance', 'tag_flexible',\n",
       "       'tag_rest_two_days', 'tag_stock'],\n",
       "      dtype='object')"
      ]
     },
     "execution_count": 23,
     "metadata": {},
     "output_type": "execute_result"
    }
   ],
   "source": []
  },
  {
   "cell_type": "code",
   "execution_count": 24,
   "metadata": {},
   "outputs": [
    {
     "data": {
      "text/plain": [
       "89"
      ]
     },
     "execution_count": 24,
     "metadata": {},
     "output_type": "execute_result"
    }
   ],
   "source": [
    "len(X.columns)"
   ]
  },
  {
   "cell_type": "code",
   "execution_count": 25,
   "metadata": {},
   "outputs": [
    {
     "data": {
      "text/plain": [
       "89"
      ]
     },
     "execution_count": 25,
     "metadata": {},
     "output_type": "execute_result"
    }
   ],
   "source": [
    "len(lr.coef_)"
   ]
  },
  {
   "cell_type": "code",
   "execution_count": 26,
   "metadata": {},
   "outputs": [],
   "source": [
    "data_coef=pd.DataFrame()"
   ]
  },
  {
   "cell_type": "code",
   "execution_count": 27,
   "metadata": {},
   "outputs": [],
   "source": [
    "data_coef['col']=X.columns"
   ]
  },
  {
   "cell_type": "code",
   "execution_count": 28,
   "metadata": {},
   "outputs": [],
   "source": [
    "data_coef['coef']=lr.coef_"
   ]
  },
  {
   "cell_type": "code",
   "execution_count": 29,
   "metadata": {},
   "outputs": [
    {
     "data": {
      "text/html": [
       "<div>\n",
       "<style scoped>\n",
       "    .dataframe tbody tr th:only-of-type {\n",
       "        vertical-align: middle;\n",
       "    }\n",
       "\n",
       "    .dataframe tbody tr th {\n",
       "        vertical-align: top;\n",
       "    }\n",
       "\n",
       "    .dataframe thead th {\n",
       "        text-align: right;\n",
       "    }\n",
       "</style>\n",
       "<table border=\"1\" class=\"dataframe\">\n",
       "  <thead>\n",
       "    <tr style=\"text-align: right;\">\n",
       "      <th></th>\n",
       "      <th>col</th>\n",
       "      <th>coef</th>\n",
       "    </tr>\n",
       "  </thead>\n",
       "  <tbody>\n",
       "    <tr>\n",
       "      <th>0</th>\n",
       "      <td>ageism</td>\n",
       "      <td>-8.036666e+02</td>\n",
       "    </tr>\n",
       "    <tr>\n",
       "      <th>1</th>\n",
       "      <td>career_algorithm</td>\n",
       "      <td>4.092876e+03</td>\n",
       "    </tr>\n",
       "    <tr>\n",
       "      <th>2</th>\n",
       "      <td>career_architect</td>\n",
       "      <td>2.864420e+03</td>\n",
       "    </tr>\n",
       "    <tr>\n",
       "      <th>3</th>\n",
       "      <td>city_beijing</td>\n",
       "      <td>7.158540e+15</td>\n",
       "    </tr>\n",
       "    <tr>\n",
       "      <th>4</th>\n",
       "      <td>city_changsha</td>\n",
       "      <td>7.158540e+15</td>\n",
       "    </tr>\n",
       "    <tr>\n",
       "      <th>5</th>\n",
       "      <td>city_chengdu</td>\n",
       "      <td>7.158540e+15</td>\n",
       "    </tr>\n",
       "    <tr>\n",
       "      <th>6</th>\n",
       "      <td>city_chongqing</td>\n",
       "      <td>7.158540e+15</td>\n",
       "    </tr>\n",
       "    <tr>\n",
       "      <th>7</th>\n",
       "      <td>city_dalian</td>\n",
       "      <td>7.158540e+15</td>\n",
       "    </tr>\n",
       "    <tr>\n",
       "      <th>8</th>\n",
       "      <td>city_dongguan</td>\n",
       "      <td>7.158540e+15</td>\n",
       "    </tr>\n",
       "    <tr>\n",
       "      <th>9</th>\n",
       "      <td>city_fuzhou</td>\n",
       "      <td>7.158540e+15</td>\n",
       "    </tr>\n",
       "    <tr>\n",
       "      <th>10</th>\n",
       "      <td>city_guangzhou</td>\n",
       "      <td>7.158540e+15</td>\n",
       "    </tr>\n",
       "    <tr>\n",
       "      <th>11</th>\n",
       "      <td>city_hangzhou</td>\n",
       "      <td>7.158540e+15</td>\n",
       "    </tr>\n",
       "    <tr>\n",
       "      <th>12</th>\n",
       "      <td>city_hefei</td>\n",
       "      <td>7.158540e+15</td>\n",
       "    </tr>\n",
       "    <tr>\n",
       "      <th>13</th>\n",
       "      <td>city_jinan</td>\n",
       "      <td>7.158540e+15</td>\n",
       "    </tr>\n",
       "    <tr>\n",
       "      <th>14</th>\n",
       "      <td>city_nanjing</td>\n",
       "      <td>7.158540e+15</td>\n",
       "    </tr>\n",
       "    <tr>\n",
       "      <th>15</th>\n",
       "      <td>city_ningbo</td>\n",
       "      <td>7.158540e+15</td>\n",
       "    </tr>\n",
       "    <tr>\n",
       "      <th>16</th>\n",
       "      <td>city_qingdao</td>\n",
       "      <td>7.158540e+15</td>\n",
       "    </tr>\n",
       "    <tr>\n",
       "      <th>17</th>\n",
       "      <td>city_shanghai</td>\n",
       "      <td>7.158540e+15</td>\n",
       "    </tr>\n",
       "    <tr>\n",
       "      <th>18</th>\n",
       "      <td>city_shenyang</td>\n",
       "      <td>7.158540e+15</td>\n",
       "    </tr>\n",
       "    <tr>\n",
       "      <th>19</th>\n",
       "      <td>city_shenzhen</td>\n",
       "      <td>7.158540e+15</td>\n",
       "    </tr>\n",
       "    <tr>\n",
       "      <th>20</th>\n",
       "      <td>city_tianjin</td>\n",
       "      <td>7.158540e+15</td>\n",
       "    </tr>\n",
       "    <tr>\n",
       "      <th>21</th>\n",
       "      <td>city_wuhan</td>\n",
       "      <td>7.158540e+15</td>\n",
       "    </tr>\n",
       "    <tr>\n",
       "      <th>22</th>\n",
       "      <td>city_xian</td>\n",
       "      <td>7.158540e+15</td>\n",
       "    </tr>\n",
       "    <tr>\n",
       "      <th>23</th>\n",
       "      <td>city_zhengzhou</td>\n",
       "      <td>7.158540e+15</td>\n",
       "    </tr>\n",
       "    <tr>\n",
       "      <th>24</th>\n",
       "      <td>company_size_10000</td>\n",
       "      <td>2.250750e+03</td>\n",
       "    </tr>\n",
       "    <tr>\n",
       "      <th>25</th>\n",
       "      <td>company_size_1000_5000</td>\n",
       "      <td>-7.506250e+02</td>\n",
       "    </tr>\n",
       "    <tr>\n",
       "      <th>26</th>\n",
       "      <td>company_size_150_500</td>\n",
       "      <td>-1.784625e+03</td>\n",
       "    </tr>\n",
       "    <tr>\n",
       "      <th>27</th>\n",
       "      <td>company_size_50</td>\n",
       "      <td>-2.650125e+03</td>\n",
       "    </tr>\n",
       "    <tr>\n",
       "      <th>28</th>\n",
       "      <td>company_size_5000_10000</td>\n",
       "      <td>-5.952500e+02</td>\n",
       "    </tr>\n",
       "    <tr>\n",
       "      <th>29</th>\n",
       "      <td>company_size_500_1000</td>\n",
       "      <td>-1.090969e+03</td>\n",
       "    </tr>\n",
       "    <tr>\n",
       "      <th>30</th>\n",
       "      <td>company_size_50_150</td>\n",
       "      <td>-2.218250e+03</td>\n",
       "    </tr>\n",
       "    <tr>\n",
       "      <th>31</th>\n",
       "      <td>company_tpye_jv</td>\n",
       "      <td>-4.104596e+16</td>\n",
       "    </tr>\n",
       "    <tr>\n",
       "      <th>32</th>\n",
       "      <td>company_type_foreign</td>\n",
       "      <td>-4.104596e+16</td>\n",
       "    </tr>\n",
       "    <tr>\n",
       "      <th>33</th>\n",
       "      <td>company_type_listed</td>\n",
       "      <td>-4.104596e+16</td>\n",
       "    </tr>\n",
       "    <tr>\n",
       "      <th>34</th>\n",
       "      <td>company_type_private</td>\n",
       "      <td>-4.104596e+16</td>\n",
       "    </tr>\n",
       "    <tr>\n",
       "      <th>35</th>\n",
       "      <td>company_type_startup</td>\n",
       "      <td>-4.104596e+16</td>\n",
       "    </tr>\n",
       "    <tr>\n",
       "      <th>36</th>\n",
       "      <td>company_type_state</td>\n",
       "      <td>-4.104596e+16</td>\n",
       "    </tr>\n",
       "    <tr>\n",
       "      <th>37</th>\n",
       "      <td>company_type_us_eu</td>\n",
       "      <td>-4.104596e+16</td>\n",
       "    </tr>\n",
       "    <tr>\n",
       "      <th>38</th>\n",
       "      <td>db_DB2</td>\n",
       "      <td>-4.669375e+02</td>\n",
       "    </tr>\n",
       "    <tr>\n",
       "      <th>39</th>\n",
       "      <td>db_Elasticsearch</td>\n",
       "      <td>5.830312e+02</td>\n",
       "    </tr>\n",
       "    <tr>\n",
       "      <th>40</th>\n",
       "      <td>db_Hbase</td>\n",
       "      <td>1.132500e+03</td>\n",
       "    </tr>\n",
       "    <tr>\n",
       "      <th>41</th>\n",
       "      <td>db_Memcached</td>\n",
       "      <td>9.937500e+00</td>\n",
       "    </tr>\n",
       "    <tr>\n",
       "      <th>42</th>\n",
       "      <td>db_MongoDB</td>\n",
       "      <td>-1.792812e+03</td>\n",
       "    </tr>\n",
       "    <tr>\n",
       "      <th>43</th>\n",
       "      <td>db_MySQL</td>\n",
       "      <td>2.812500e+01</td>\n",
       "    </tr>\n",
       "    <tr>\n",
       "      <th>44</th>\n",
       "      <td>db_Oracle</td>\n",
       "      <td>-5.967500e+02</td>\n",
       "    </tr>\n",
       "    <tr>\n",
       "      <th>45</th>\n",
       "      <td>db_PostgreSQL</td>\n",
       "      <td>7.262500e+01</td>\n",
       "    </tr>\n",
       "    <tr>\n",
       "      <th>46</th>\n",
       "      <td>db_Redis</td>\n",
       "      <td>9.121250e+02</td>\n",
       "    </tr>\n",
       "    <tr>\n",
       "      <th>47</th>\n",
       "      <td>db_SQL_Server</td>\n",
       "      <td>-3.035000e+02</td>\n",
       "    </tr>\n",
       "    <tr>\n",
       "      <th>48</th>\n",
       "      <td>db_SQLite</td>\n",
       "      <td>-2.299805e+02</td>\n",
       "    </tr>\n",
       "    <tr>\n",
       "      <th>49</th>\n",
       "      <td>edu_associate</td>\n",
       "      <td>-2.240000e+03</td>\n",
       "    </tr>\n",
       "  </tbody>\n",
       "</table>\n",
       "</div>"
      ],
      "text/plain": [
       "                        col          coef\n",
       "0                    ageism -8.036666e+02\n",
       "1          career_algorithm  4.092876e+03\n",
       "2          career_architect  2.864420e+03\n",
       "3              city_beijing  7.158540e+15\n",
       "4             city_changsha  7.158540e+15\n",
       "5              city_chengdu  7.158540e+15\n",
       "6            city_chongqing  7.158540e+15\n",
       "7               city_dalian  7.158540e+15\n",
       "8             city_dongguan  7.158540e+15\n",
       "9               city_fuzhou  7.158540e+15\n",
       "10           city_guangzhou  7.158540e+15\n",
       "11            city_hangzhou  7.158540e+15\n",
       "12               city_hefei  7.158540e+15\n",
       "13               city_jinan  7.158540e+15\n",
       "14             city_nanjing  7.158540e+15\n",
       "15              city_ningbo  7.158540e+15\n",
       "16             city_qingdao  7.158540e+15\n",
       "17            city_shanghai  7.158540e+15\n",
       "18            city_shenyang  7.158540e+15\n",
       "19            city_shenzhen  7.158540e+15\n",
       "20             city_tianjin  7.158540e+15\n",
       "21               city_wuhan  7.158540e+15\n",
       "22                city_xian  7.158540e+15\n",
       "23           city_zhengzhou  7.158540e+15\n",
       "24       company_size_10000  2.250750e+03\n",
       "25   company_size_1000_5000 -7.506250e+02\n",
       "26     company_size_150_500 -1.784625e+03\n",
       "27          company_size_50 -2.650125e+03\n",
       "28  company_size_5000_10000 -5.952500e+02\n",
       "29    company_size_500_1000 -1.090969e+03\n",
       "30      company_size_50_150 -2.218250e+03\n",
       "31          company_tpye_jv -4.104596e+16\n",
       "32     company_type_foreign -4.104596e+16\n",
       "33      company_type_listed -4.104596e+16\n",
       "34     company_type_private -4.104596e+16\n",
       "35     company_type_startup -4.104596e+16\n",
       "36       company_type_state -4.104596e+16\n",
       "37       company_type_us_eu -4.104596e+16\n",
       "38                   db_DB2 -4.669375e+02\n",
       "39         db_Elasticsearch  5.830312e+02\n",
       "40                 db_Hbase  1.132500e+03\n",
       "41             db_Memcached  9.937500e+00\n",
       "42               db_MongoDB -1.792812e+03\n",
       "43                 db_MySQL  2.812500e+01\n",
       "44                db_Oracle -5.967500e+02\n",
       "45            db_PostgreSQL  7.262500e+01\n",
       "46                 db_Redis  9.121250e+02\n",
       "47            db_SQL_Server -3.035000e+02\n",
       "48                db_SQLite -2.299805e+02\n",
       "49            edu_associate -2.240000e+03"
      ]
     },
     "execution_count": 29,
     "metadata": {},
     "output_type": "execute_result"
    }
   ],
   "source": [
    "data_coef.head(50)"
   ]
  },
  {
   "cell_type": "code",
   "execution_count": 30,
   "metadata": {},
   "outputs": [
    {
     "data": {
      "text/html": [
       "<div>\n",
       "<style scoped>\n",
       "    .dataframe tbody tr th:only-of-type {\n",
       "        vertical-align: middle;\n",
       "    }\n",
       "\n",
       "    .dataframe tbody tr th {\n",
       "        vertical-align: top;\n",
       "    }\n",
       "\n",
       "    .dataframe thead th {\n",
       "        text-align: right;\n",
       "    }\n",
       "</style>\n",
       "<table border=\"1\" class=\"dataframe\">\n",
       "  <thead>\n",
       "    <tr style=\"text-align: right;\">\n",
       "      <th></th>\n",
       "      <th>col</th>\n",
       "      <th>coef</th>\n",
       "    </tr>\n",
       "  </thead>\n",
       "  <tbody>\n",
       "    <tr>\n",
       "      <th>39</th>\n",
       "      <td>db_Elasticsearch</td>\n",
       "      <td>5.830312e+02</td>\n",
       "    </tr>\n",
       "    <tr>\n",
       "      <th>40</th>\n",
       "      <td>db_Hbase</td>\n",
       "      <td>1.132500e+03</td>\n",
       "    </tr>\n",
       "    <tr>\n",
       "      <th>41</th>\n",
       "      <td>db_Memcached</td>\n",
       "      <td>9.937500e+00</td>\n",
       "    </tr>\n",
       "    <tr>\n",
       "      <th>42</th>\n",
       "      <td>db_MongoDB</td>\n",
       "      <td>-1.792812e+03</td>\n",
       "    </tr>\n",
       "    <tr>\n",
       "      <th>43</th>\n",
       "      <td>db_MySQL</td>\n",
       "      <td>2.812500e+01</td>\n",
       "    </tr>\n",
       "    <tr>\n",
       "      <th>44</th>\n",
       "      <td>db_Oracle</td>\n",
       "      <td>-5.967500e+02</td>\n",
       "    </tr>\n",
       "    <tr>\n",
       "      <th>45</th>\n",
       "      <td>db_PostgreSQL</td>\n",
       "      <td>7.262500e+01</td>\n",
       "    </tr>\n",
       "    <tr>\n",
       "      <th>46</th>\n",
       "      <td>db_Redis</td>\n",
       "      <td>9.121250e+02</td>\n",
       "    </tr>\n",
       "    <tr>\n",
       "      <th>47</th>\n",
       "      <td>db_SQL_Server</td>\n",
       "      <td>-3.035000e+02</td>\n",
       "    </tr>\n",
       "    <tr>\n",
       "      <th>48</th>\n",
       "      <td>db_SQLite</td>\n",
       "      <td>-2.299805e+02</td>\n",
       "    </tr>\n",
       "    <tr>\n",
       "      <th>49</th>\n",
       "      <td>edu_associate</td>\n",
       "      <td>-2.240000e+03</td>\n",
       "    </tr>\n",
       "    <tr>\n",
       "      <th>50</th>\n",
       "      <td>edu_bachelor</td>\n",
       "      <td>-7.150000e+02</td>\n",
       "    </tr>\n",
       "    <tr>\n",
       "      <th>51</th>\n",
       "      <td>edu_master</td>\n",
       "      <td>2.901000e+03</td>\n",
       "    </tr>\n",
       "    <tr>\n",
       "      <th>52</th>\n",
       "      <td>english</td>\n",
       "      <td>-2.910000e+02</td>\n",
       "    </tr>\n",
       "    <tr>\n",
       "      <th>53</th>\n",
       "      <td>experience_1_3</td>\n",
       "      <td>-2.198356e+16</td>\n",
       "    </tr>\n",
       "    <tr>\n",
       "      <th>54</th>\n",
       "      <td>experience_3_5</td>\n",
       "      <td>-2.198356e+16</td>\n",
       "    </tr>\n",
       "    <tr>\n",
       "      <th>55</th>\n",
       "      <td>experience_5_10</td>\n",
       "      <td>-2.198356e+16</td>\n",
       "    </tr>\n",
       "    <tr>\n",
       "      <th>56</th>\n",
       "      <td>experience_no</td>\n",
       "      <td>-2.198356e+16</td>\n",
       "    </tr>\n",
       "    <tr>\n",
       "      <th>57</th>\n",
       "      <td>icu_996</td>\n",
       "      <td>1.785000e+02</td>\n",
       "    </tr>\n",
       "    <tr>\n",
       "      <th>58</th>\n",
       "      <td>industry_ads</td>\n",
       "      <td>-9.850000e+01</td>\n",
       "    </tr>\n",
       "    <tr>\n",
       "      <th>59</th>\n",
       "      <td>industry_computer</td>\n",
       "      <td>1.581250e+02</td>\n",
       "    </tr>\n",
       "    <tr>\n",
       "      <th>60</th>\n",
       "      <td>industry_edu</td>\n",
       "      <td>1.064500e+03</td>\n",
       "    </tr>\n",
       "    <tr>\n",
       "      <th>61</th>\n",
       "      <td>industry_energy</td>\n",
       "      <td>-7.262500e+02</td>\n",
       "    </tr>\n",
       "    <tr>\n",
       "      <th>62</th>\n",
       "      <td>industry_finance</td>\n",
       "      <td>8.653750e+02</td>\n",
       "    </tr>\n",
       "    <tr>\n",
       "      <th>63</th>\n",
       "      <td>industry_gov</td>\n",
       "      <td>-7.451875e+02</td>\n",
       "    </tr>\n",
       "    <tr>\n",
       "      <th>64</th>\n",
       "      <td>industry_logistic</td>\n",
       "      <td>8.262500e+01</td>\n",
       "    </tr>\n",
       "    <tr>\n",
       "      <th>65</th>\n",
       "      <td>industry_medical</td>\n",
       "      <td>-7.930625e+02</td>\n",
       "    </tr>\n",
       "    <tr>\n",
       "      <th>66</th>\n",
       "      <td>industry_realestate</td>\n",
       "      <td>-5.195000e+02</td>\n",
       "    </tr>\n",
       "    <tr>\n",
       "      <th>67</th>\n",
       "      <td>industry_service</td>\n",
       "      <td>-2.448750e+02</td>\n",
       "    </tr>\n",
       "    <tr>\n",
       "      <th>68</th>\n",
       "      <td>industry_trade</td>\n",
       "      <td>-4.848750e+02</td>\n",
       "    </tr>\n",
       "    <tr>\n",
       "      <th>69</th>\n",
       "      <td>japanese</td>\n",
       "      <td>1.467125e+03</td>\n",
       "    </tr>\n",
       "    <tr>\n",
       "      <th>70</th>\n",
       "      <td>non_996</td>\n",
       "      <td>-1.055500e+03</td>\n",
       "    </tr>\n",
       "    <tr>\n",
       "      <th>71</th>\n",
       "      <td>phone_android</td>\n",
       "      <td>3.055000e+02</td>\n",
       "    </tr>\n",
       "    <tr>\n",
       "      <th>72</th>\n",
       "      <td>phone_app</td>\n",
       "      <td>4.665000e+02</td>\n",
       "    </tr>\n",
       "    <tr>\n",
       "      <th>73</th>\n",
       "      <td>phone_iso</td>\n",
       "      <td>9.031250e+01</td>\n",
       "    </tr>\n",
       "    <tr>\n",
       "      <th>74</th>\n",
       "      <td>pl_c_sharp</td>\n",
       "      <td>-4.376250e+02</td>\n",
       "    </tr>\n",
       "    <tr>\n",
       "      <th>75</th>\n",
       "      <td>pl_cpp</td>\n",
       "      <td>1.498500e+03</td>\n",
       "    </tr>\n",
       "    <tr>\n",
       "      <th>76</th>\n",
       "      <td>pl_go</td>\n",
       "      <td>2.284000e+03</td>\n",
       "    </tr>\n",
       "    <tr>\n",
       "      <th>77</th>\n",
       "      <td>pl_java</td>\n",
       "      <td>-9.700000e+01</td>\n",
       "    </tr>\n",
       "    <tr>\n",
       "      <th>78</th>\n",
       "      <td>pl_javascript</td>\n",
       "      <td>-4.095000e+02</td>\n",
       "    </tr>\n",
       "    <tr>\n",
       "      <th>79</th>\n",
       "      <td>pl_lua</td>\n",
       "      <td>1.902234e+03</td>\n",
       "    </tr>\n",
       "    <tr>\n",
       "      <th>80</th>\n",
       "      <td>pl_matlab</td>\n",
       "      <td>-3.579375e+02</td>\n",
       "    </tr>\n",
       "    <tr>\n",
       "      <th>81</th>\n",
       "      <td>pl_perl</td>\n",
       "      <td>1.730000e+02</td>\n",
       "    </tr>\n",
       "    <tr>\n",
       "      <th>82</th>\n",
       "      <td>pl_php</td>\n",
       "      <td>-6.475000e+01</td>\n",
       "    </tr>\n",
       "    <tr>\n",
       "      <th>83</th>\n",
       "      <td>pl_python</td>\n",
       "      <td>1.093500e+03</td>\n",
       "    </tr>\n",
       "    <tr>\n",
       "      <th>84</th>\n",
       "      <td>pl_swift</td>\n",
       "      <td>1.285000e+02</td>\n",
       "    </tr>\n",
       "    <tr>\n",
       "      <th>85</th>\n",
       "      <td>tag_five_insurance</td>\n",
       "      <td>-3.052500e+02</td>\n",
       "    </tr>\n",
       "    <tr>\n",
       "      <th>86</th>\n",
       "      <td>tag_flexible</td>\n",
       "      <td>8.435000e+02</td>\n",
       "    </tr>\n",
       "    <tr>\n",
       "      <th>87</th>\n",
       "      <td>tag_rest_two_days</td>\n",
       "      <td>7.300000e+02</td>\n",
       "    </tr>\n",
       "    <tr>\n",
       "      <th>88</th>\n",
       "      <td>tag_stock</td>\n",
       "      <td>7.196250e+02</td>\n",
       "    </tr>\n",
       "  </tbody>\n",
       "</table>\n",
       "</div>"
      ],
      "text/plain": [
       "                    col          coef\n",
       "39     db_Elasticsearch  5.830312e+02\n",
       "40             db_Hbase  1.132500e+03\n",
       "41         db_Memcached  9.937500e+00\n",
       "42           db_MongoDB -1.792812e+03\n",
       "43             db_MySQL  2.812500e+01\n",
       "44            db_Oracle -5.967500e+02\n",
       "45        db_PostgreSQL  7.262500e+01\n",
       "46             db_Redis  9.121250e+02\n",
       "47        db_SQL_Server -3.035000e+02\n",
       "48            db_SQLite -2.299805e+02\n",
       "49        edu_associate -2.240000e+03\n",
       "50         edu_bachelor -7.150000e+02\n",
       "51           edu_master  2.901000e+03\n",
       "52              english -2.910000e+02\n",
       "53       experience_1_3 -2.198356e+16\n",
       "54       experience_3_5 -2.198356e+16\n",
       "55      experience_5_10 -2.198356e+16\n",
       "56        experience_no -2.198356e+16\n",
       "57              icu_996  1.785000e+02\n",
       "58         industry_ads -9.850000e+01\n",
       "59    industry_computer  1.581250e+02\n",
       "60         industry_edu  1.064500e+03\n",
       "61      industry_energy -7.262500e+02\n",
       "62     industry_finance  8.653750e+02\n",
       "63         industry_gov -7.451875e+02\n",
       "64    industry_logistic  8.262500e+01\n",
       "65     industry_medical -7.930625e+02\n",
       "66  industry_realestate -5.195000e+02\n",
       "67     industry_service -2.448750e+02\n",
       "68       industry_trade -4.848750e+02\n",
       "69             japanese  1.467125e+03\n",
       "70              non_996 -1.055500e+03\n",
       "71        phone_android  3.055000e+02\n",
       "72            phone_app  4.665000e+02\n",
       "73            phone_iso  9.031250e+01\n",
       "74           pl_c_sharp -4.376250e+02\n",
       "75               pl_cpp  1.498500e+03\n",
       "76                pl_go  2.284000e+03\n",
       "77              pl_java -9.700000e+01\n",
       "78        pl_javascript -4.095000e+02\n",
       "79               pl_lua  1.902234e+03\n",
       "80            pl_matlab -3.579375e+02\n",
       "81              pl_perl  1.730000e+02\n",
       "82               pl_php -6.475000e+01\n",
       "83            pl_python  1.093500e+03\n",
       "84             pl_swift  1.285000e+02\n",
       "85   tag_five_insurance -3.052500e+02\n",
       "86         tag_flexible  8.435000e+02\n",
       "87    tag_rest_two_days  7.300000e+02\n",
       "88            tag_stock  7.196250e+02"
      ]
     },
     "execution_count": 30,
     "metadata": {},
     "output_type": "execute_result"
    }
   ],
   "source": [
    "data_coef.tail(50)"
   ]
  },
  {
   "cell_type": "code",
   "execution_count": 31,
   "metadata": {},
   "outputs": [
    {
     "data": {
      "text/plain": [
       "5.5870977471649e+16"
      ]
     },
     "execution_count": 31,
     "metadata": {},
     "output_type": "execute_result"
    }
   ],
   "source": [
    "lr_model.intercept_"
   ]
  },
  {
   "cell_type": "code",
   "execution_count": null,
   "metadata": {},
   "outputs": [],
   "source": []
  }
 ],
 "metadata": {
  "kernelspec": {
   "display_name": "Python 3",
   "language": "python",
   "name": "python3"
  },
  "language_info": {
   "codemirror_mode": {
    "name": "ipython",
    "version": 3
   },
   "file_extension": ".py",
   "mimetype": "text/x-python",
   "name": "python",
   "nbconvert_exporter": "python",
   "pygments_lexer": "ipython3",
   "version": "3.7.1"
  }
 },
 "nbformat": 4,
 "nbformat_minor": 2
}
