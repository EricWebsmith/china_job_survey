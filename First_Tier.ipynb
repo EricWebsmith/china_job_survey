{
 "cells": [
  {
   "cell_type": "markdown",
   "metadata": {},
   "source": [
    "# Salary in First Tier Cities 一线城市工资调查\n",
    "我在4月1日到3日之间，抓取了某招聘网站的软件和互联网类招聘数据40万条，其中通过程序判断为程序员的14万条。地域方面，我选择了24个主要城市。不过本文只以一线城市为研究对象。这样是为了和我2017年6月的数据做对比。\n",
    "\n",
    "提到2017年的文章，现在居然还有很多人，把这篇文章拿出来炒作。对于社会来说，可气的是，他们直接把2017改成2019，就发表了，这不是骗人么？！对于我来说，可气的是，他们转载居然还冒充是原创，是可忍熟不可忍！"
   ]
  },
  {
   "cell_type": "code",
   "execution_count": 2,
   "metadata": {},
   "outputs": [],
   "source": [
    "import pandas as pd\n",
    "import db\n",
    "import inspect\n",
    "import matplotlib.pyplot as plt\n",
    "import seaborn as sns\n",
    "import scipy.stats as stats\n",
    "import numpy as np\n",
    "%matplotlib inline"
   ]
  },
  {
   "cell_type": "code",
   "execution_count": 3,
   "metadata": {},
   "outputs": [],
   "source": [
    "conn=db.get_conn()\n",
    "developers_in_24_cities=conn.execute('select count(1) from _51jobs where monthly_salary>0 and monthly_salary<15').fetchall()[0][0]\n",
    "data_original=pd.read_sql(sql=\"select * from _51jobs where (city_beijing=1 or city_shanghai=1 or city_guangzhou=1 or city_shenzhen=1) and monthly_salary>0 and monthly_salary<15\", con=conn)\n",
    "conn.close()"
   ]
  },
  {
   "cell_type": "code",
   "execution_count": 4,
   "metadata": {},
   "outputs": [],
   "source": [
    "error_job_ids=['104660258','104142922','108434795','101357291','106253516','110368302','111391233','108665401','109277048'\n",
    "                  ,'73857191','108584955','102824950','102824949','111391233','110884556']\n",
    "data=data_original[~data_original.job_id.isin(error_job_ids)]"
   ]
  },
  {
   "cell_type": "code",
   "execution_count": 5,
   "metadata": {},
   "outputs": [],
   "source": [
    "del data['publish_date']\n",
    "del data['published_on_weekend']\n",
    "del data['title']\n",
    "del data['company_title']\n",
    "del data['company_description']\n",
    "del data['job_description']\n",
    "del data['job_id']"
   ]
  },
  {
   "cell_type": "code",
   "execution_count": 6,
   "metadata": {},
   "outputs": [],
   "source": [
    "for col in data.columns:\n",
    "    if col.startswith('city_') and not col in ['city_beijing','city_shanghai','city_guangzhou','city_shenzhen']:\n",
    "        del data[col]"
   ]
  },
  {
   "cell_type": "markdown",
   "metadata": {},
   "source": [
    "# Unilateral Stats 总体统计"
   ]
  },
  {
   "cell_type": "code",
   "execution_count": 7,
   "metadata": {},
   "outputs": [
    {
     "name": "stdout",
     "output_type": "stream",
     "text": [
      "139573 Jobs found in all the 24 major cities in China. 77536 or 55.55% of them are in the first tier cities.\n"
     ]
    }
   ],
   "source": [
    "print('{} Jobs found in all the 24 major cities in China. {} or {:.2%} of them are in the first tier cities.'.\n",
    "      format(developers_in_24_cities, data.shape[0], data.shape[0]*1.0/developers_in_24_cities))"
   ]
  },
  {
   "cell_type": "code",
   "execution_count": 8,
   "metadata": {},
   "outputs": [
    {
     "name": "stdout",
     "output_type": "stream",
     "text": [
      "在24个主要城市中，共找到139573个职位，其中77536（55.55%）属于一线城市。\n"
     ]
    }
   ],
   "source": [
    "print('在24个主要城市中，共找到{}个职位，其中{}（{:.2%}）属于一线城市。'.\n",
    "      format(developers_in_24_cities, data.shape[0], data.shape[0]*1.0/developers_in_24_cities))"
   ]
  },
  {
   "cell_type": "markdown",
   "metadata": {},
   "source": [
    "有数据可知，程序员向一线城市集中的趋势非常明显。\n",
    "\n",
    "According to the statistics, significant amount of developers are in the first tier cities."
   ]
  },
  {
   "cell_type": "code",
   "execution_count": 9,
   "metadata": {},
   "outputs": [
    {
     "name": "stdout",
     "output_type": "stream",
     "text": [
      "2019年中国大陆一线城市程序员的平均工资为15716元，工资中位数为14000元，其中95%的人的工资位于5250到36500元之间。\n"
     ]
    }
   ],
   "source": [
    "salary_mean=data.monthly_salary.mean()*10000\n",
    "salary_median=data.monthly_salary.median()*10000\n",
    "q=np.quantile(data.monthly_salary,[0.025,0.975])*10000\n",
    "print('2019年中国大陆一线城市程序员的平均工资为{:.0f}元，工资中位数为{:.0f}元，其中95%的人的工资位于{:.0f}到{:.0f}元之间。'\n",
    "      .format(salary_mean, salary_median, q[0], q[1]))"
   ]
  },
  {
   "cell_type": "code",
   "execution_count": 10,
   "metadata": {},
   "outputs": [
    {
     "name": "stdout",
     "output_type": "stream",
     "text": [
      "In 2019, Developers in the first tier cities earn 15716 Yuan as average, the median is 14000 Yuan, 95% of them earn between 5250 and 36500 Yuan.\n"
     ]
    }
   ],
   "source": [
    "print('In 2019, Developers in the first tier cities earn {:.0f} Yuan as average, '\n",
    "      'the median is {:.0f} Yuan, 95% of them earn between {:.0f} and {:.0f} Yuan.'\n",
    "      .format(salary_mean, salary_median, q[0], q[1]))"
   ]
  },
  {
   "cell_type": "code",
   "execution_count": null,
   "metadata": {},
   "outputs": [],
   "source": []
  },
  {
   "cell_type": "code",
   "execution_count": null,
   "metadata": {},
   "outputs": [],
   "source": []
  },
  {
   "cell_type": "code",
   "execution_count": 11,
   "metadata": {},
   "outputs": [
    {
     "data": {
      "text/plain": [
       "<matplotlib.axes._subplots.AxesSubplot at 0x22daa9572e8>"
      ]
     },
     "execution_count": 11,
     "metadata": {},
     "output_type": "execute_result"
    },
    {
     "data": {
      "image/png": "[encoded data removed]",
      "text/plain": [
       "<Figure size 432x288 with 1 Axes>"
      ]
     },
     "metadata": {
      "needs_background": "light"
     },
     "output_type": "display_data"
    }
   ],
   "source": [
    "data.monthly_salary.hist()"
   ]
  },
  {
   "cell_type": "markdown",
   "metadata": {},
   "source": [
    "It does not look like normal distribution."
   ]
  },
  {
   "cell_type": "code",
   "execution_count": 12,
   "metadata": {},
   "outputs": [],
   "source": [
    "from scipy import stats"
   ]
  },
  {
   "cell_type": "code",
   "execution_count": 13,
   "metadata": {},
   "outputs": [
    {
     "data": {
      "text/plain": [
       "NormaltestResult(statistic=42343.17993165874, pvalue=0.0)"
      ]
     },
     "execution_count": 13,
     "metadata": {},
     "output_type": "execute_result"
    }
   ],
   "source": [
    "stats.normaltest(data.monthly_salary)"
   ]
  },
  {
   "cell_type": "markdown",
   "metadata": {},
   "source": [
    "null hypothesis: x comes from a normal distribution\n",
    "    \n",
    "p=0\n",
    "\n",
    "The null hypothesis can be rejected\n",
    "\n",
    "conclusion: data is not normally distributed."
   ]
  },
  {
   "cell_type": "markdown",
   "metadata": {},
   "source": [
    "Zoom in"
   ]
  },
  {
   "cell_type": "code",
   "execution_count": 17,
   "metadata": {},
   "outputs": [
    {
     "data": {
      "image/png": "[encoded data removed]",
      "text/plain": [
       "<Figure size 432x288 with 1 Axes>"
      ]
     },
     "metadata": {
      "needs_background": "light"
     },
     "output_type": "display_data"
    }
   ],
   "source": [
    "data[data.monthly_salary<4].monthly_salary.hist()\n",
    "plt.annotate('https://github.com/juwikuang/job_survey', xy=(0,0), xytext=(0.5, 500), color='white')\n",
    "plt.show()"
   ]
  },
  {
   "cell_type": "code",
   "execution_count": null,
   "metadata": {},
   "outputs": [],
   "source": []
  },
  {
   "cell_type": "code",
   "execution_count": null,
   "metadata": {},
   "outputs": [],
   "source": []
  },
  {
   "cell_type": "markdown",
   "metadata": {},
   "source": [
    "## Role 角色"
   ]
  },
  {
   "cell_type": "code",
   "execution_count": 19,
   "metadata": {},
   "outputs": [],
   "source": [
    "def get_sub_stats(data, prefix):\n",
    "    \n",
    "    features = [feature for feature in data.columns if feature.startswith(prefix)]\n",
    "    salary_mean=[]\n",
    "    salary_median=[]\n",
    "    count=[]\n",
    "    for feature in features:\n",
    "        salary_mean.append(data[data[feature]==1].monthly_salary.mean()*10000)\n",
    "        salary_median.append(data[data[feature]==1].monthly_salary.median()*10000)\n",
    "        count.append(data[data[feature]==1].shape[0])\n",
    "    sub_data=pd.DataFrame()\n",
    "    sub_data[prefix]=[f.replace(prefix,'') for f in features]\n",
    "    sub_data['salary_mean']=salary_mean\n",
    "    sub_data['salary_median']=salary_median\n",
    "    sub_data['head_count']=count\n",
    "    sub_data['percentage']=count/np.sum(count)\n",
    "    sub_data=sub_data.sort_values(by='salary_mean', ascending=False)\n",
    "\n",
    "    return sub_data\n",
    "\n",
    "\n",
    "    "
   ]
  },
  {
   "cell_type": "code",
   "execution_count": 20,
   "metadata": {},
   "outputs": [],
   "source": [
    "def add_category_column(data, prefix):\n",
    "    prefix_=prefix+\"_\"\n",
    "    features = [feature for feature in data.columns if feature.startswith(prefix)]\n",
    "    data.loc[:,prefix]=['']*data.shape[0]\n",
    "    for feature in features:\n",
    "        data.loc[data[feature]==1,prefix]=feature.replace(prefix_,'')\n",
    "    #data[prefix]=new_column\n",
    "    return data"
   ]
  },
  {
   "cell_type": "code",
   "execution_count": 21,
   "metadata": {},
   "outputs": [
    {
     "data": {
      "text/html": [
       "<style  type=\"text/css\" >\n",
       "</style>  \n",
       "<table id=\"T_ff44a2da_582f_11e9_a048_701ce71031ef\" > \n",
       "<thead>    <tr> \n",
       "        <th class=\"blank level0\" ></th> \n",
       "        <th class=\"col_heading level0 col0\" >career_</th> \n",
       "        <th class=\"col_heading level0 col1\" >salary_mean</th> \n",
       "        <th class=\"col_heading level0 col2\" >salary_median</th> \n",
       "        <th class=\"col_heading level0 col3\" >head_count</th> \n",
       "        <th class=\"col_heading level0 col4\" >percentage</th> \n",
       "    </tr></thead> \n",
       "<tbody>    <tr> \n",
       "        <th id=\"T_ff44a2da_582f_11e9_a048_701ce71031eflevel0_row0\" class=\"row_heading level0 row0\" >1</th> \n",
       "        <td id=\"T_ff44a2da_582f_11e9_a048_701ce71031efrow0_col0\" class=\"data row0 col0\" >architect</td> \n",
       "        <td id=\"T_ff44a2da_582f_11e9_a048_701ce71031efrow0_col1\" class=\"data row0 col1\" >24003.4</td> \n",
       "        <td id=\"T_ff44a2da_582f_11e9_a048_701ce71031efrow0_col2\" class=\"data row0 col2\" >22500</td> \n",
       "        <td id=\"T_ff44a2da_582f_11e9_a048_701ce71031efrow0_col3\" class=\"data row0 col3\" >3810</td> \n",
       "        <td id=\"T_ff44a2da_582f_11e9_a048_701ce71031efrow0_col4\" class=\"data row0 col4\" >4.78%</td> \n",
       "    </tr>    <tr> \n",
       "        <th id=\"T_ff44a2da_582f_11e9_a048_701ce71031eflevel0_row1\" class=\"row_heading level0 row1\" >0</th> \n",
       "        <td id=\"T_ff44a2da_582f_11e9_a048_701ce71031efrow1_col0\" class=\"data row1 col0\" >algorithm</td> \n",
       "        <td id=\"T_ff44a2da_582f_11e9_a048_701ce71031efrow1_col1\" class=\"data row1 col1\" >23149.6</td> \n",
       "        <td id=\"T_ff44a2da_582f_11e9_a048_701ce71031efrow1_col2\" class=\"data row1 col2\" >22500</td> \n",
       "        <td id=\"T_ff44a2da_582f_11e9_a048_701ce71031efrow1_col3\" class=\"data row1 col3\" >9306</td> \n",
       "        <td id=\"T_ff44a2da_582f_11e9_a048_701ce71031efrow1_col4\" class=\"data row1 col4\" >11.67%</td> \n",
       "    </tr>    <tr> \n",
       "        <th id=\"T_ff44a2da_582f_11e9_a048_701ce71031eflevel0_row2\" class=\"row_heading level0 row2\" >2</th> \n",
       "        <td id=\"T_ff44a2da_582f_11e9_a048_701ce71031efrow2_col0\" class=\"data row2 col0\" >software_engineer</td> \n",
       "        <td id=\"T_ff44a2da_582f_11e9_a048_701ce71031efrow2_col1\" class=\"data row2 col1\" >14575.9</td> \n",
       "        <td id=\"T_ff44a2da_582f_11e9_a048_701ce71031efrow2_col2\" class=\"data row2 col2\" >12500</td> \n",
       "        <td id=\"T_ff44a2da_582f_11e9_a048_701ce71031efrow2_col3\" class=\"data row2 col3\" >66605</td> \n",
       "        <td id=\"T_ff44a2da_582f_11e9_a048_701ce71031efrow2_col4\" class=\"data row2 col4\" >83.55%</td> \n",
       "    </tr></tbody> \n",
       "</table> "
      ],
      "text/plain": [
       "<pandas.io.formats.style.Styler at 0x22da2d1c208>"
      ]
     },
     "execution_count": 21,
     "metadata": {},
     "output_type": "execute_result"
    }
   ],
   "source": [
    "data_career=get_sub_stats(data,'career_')\n",
    "data_career.style.format({\"percentage\":\"{:.2%}\"})"
   ]
  },
  {
   "cell_type": "markdown",
   "metadata": {},
   "source": [
    "有表可知，架构师的工资平均为2.1万，算法工程师为2万，普通程序员为1万4。\n"
   ]
  },
  {
   "cell_type": "code",
   "execution_count": 22,
   "metadata": {},
   "outputs": [
    {
     "data": {
      "text/plain": [
       "F_onewayResult(statistic=10318.190675760517, pvalue=0.0)"
      ]
     },
     "execution_count": 22,
     "metadata": {},
     "output_type": "execute_result"
    }
   ],
   "source": [
    "career_architect_salary=data[data.career_architect==1].monthly_salary\n",
    "career_algorithm_salary=data[data.career_algorithm==1].monthly_salary\n",
    "career_software_engineer_salary=data[data.career_software_engineer==1].monthly_salary\n",
    "stats.f_oneway(career_algorithm_salary, career_software_engineer_salary)"
   ]
  },
  {
   "cell_type": "code",
   "execution_count": 23,
   "metadata": {},
   "outputs": [
    {
     "data": {
      "text/plain": [
       "F_onewayResult(statistic=15.425156918591176, pvalue=8.627749154400873e-05)"
      ]
     },
     "execution_count": 23,
     "metadata": {},
     "output_type": "execute_result"
    }
   ],
   "source": [
    "stats.f_oneway(career_architect_salary, career_algorithm_salary)"
   ]
  },
  {
   "cell_type": "code",
   "execution_count": null,
   "metadata": {},
   "outputs": [],
   "source": []
  },
  {
   "cell_type": "markdown",
   "metadata": {},
   "source": [
    "统计表面，架构师，算法工程师，普通程序员之间的平均工资差异是显著的。"
   ]
  },
  {
   "cell_type": "markdown",
   "metadata": {},
   "source": [
    "# 编程语言"
   ]
  },
  {
   "cell_type": "code",
   "execution_count": 24,
   "metadata": {},
   "outputs": [
    {
     "data": {
      "text/html": [
       "<style  type=\"text/css\" >\n",
       "</style>  \n",
       "<table id=\"T_fffb98b6_582f_11e9_b335_701ce71031ef\" > \n",
       "<thead>    <tr> \n",
       "        <th class=\"blank level0\" ></th> \n",
       "        <th class=\"col_heading level0 col0\" >pl_</th> \n",
       "        <th class=\"col_heading level0 col1\" >salary_mean</th> \n",
       "        <th class=\"col_heading level0 col2\" >salary_median</th> \n",
       "        <th class=\"col_heading level0 col3\" >head_count</th> \n",
       "        <th class=\"col_heading level0 col4\" >percentage</th> \n",
       "    </tr></thead> \n",
       "<tbody>    <tr> \n",
       "        <th id=\"T_fffb98b6_582f_11e9_b335_701ce71031eflevel0_row0\" class=\"row_heading level0 row0\" >6</th> \n",
       "        <td id=\"T_fffb98b6_582f_11e9_b335_701ce71031efrow0_col0\" class=\"data row0 col0\" >haskell</td> \n",
       "        <td id=\"T_fffb98b6_582f_11e9_b335_701ce71031efrow0_col1\" class=\"data row0 col1\" >25666.7</td> \n",
       "        <td id=\"T_fffb98b6_582f_11e9_b335_701ce71031efrow0_col2\" class=\"data row0 col2\" >26250</td> \n",
       "        <td id=\"T_fffb98b6_582f_11e9_b335_701ce71031efrow0_col3\" class=\"data row0 col3\" >10</td> \n",
       "        <td id=\"T_fffb98b6_582f_11e9_b335_701ce71031efrow0_col4\" class=\"data row0 col4\" >0.01%</td> \n",
       "    </tr>    <tr> \n",
       "        <th id=\"T_fffb98b6_582f_11e9_b335_701ce71031eflevel0_row1\" class=\"row_heading level0 row1\" >9</th> \n",
       "        <td id=\"T_fffb98b6_582f_11e9_b335_701ce71031efrow1_col0\" class=\"data row1 col0\" >julia</td> \n",
       "        <td id=\"T_fffb98b6_582f_11e9_b335_701ce71031efrow1_col1\" class=\"data row1 col1\" >23750</td> \n",
       "        <td id=\"T_fffb98b6_582f_11e9_b335_701ce71031efrow1_col2\" class=\"data row1 col2\" >23750</td> \n",
       "        <td id=\"T_fffb98b6_582f_11e9_b335_701ce71031efrow1_col3\" class=\"data row1 col3\" >2</td> \n",
       "        <td id=\"T_fffb98b6_582f_11e9_b335_701ce71031efrow1_col4\" class=\"data row1 col4\" >0.00%</td> \n",
       "    </tr>    <tr> \n",
       "        <th id=\"T_fffb98b6_582f_11e9_b335_701ce71031eflevel0_row2\" class=\"row_heading level0 row2\" >18</th> \n",
       "        <td id=\"T_fffb98b6_582f_11e9_b335_701ce71031efrow2_col0\" class=\"data row2 col0\" >rust</td> \n",
       "        <td id=\"T_fffb98b6_582f_11e9_b335_701ce71031efrow2_col1\" class=\"data row2 col1\" >22746.5</td> \n",
       "        <td id=\"T_fffb98b6_582f_11e9_b335_701ce71031efrow2_col2\" class=\"data row2 col2\" >20000</td> \n",
       "        <td id=\"T_fffb98b6_582f_11e9_b335_701ce71031efrow2_col3\" class=\"data row2 col3\" >95</td> \n",
       "        <td id=\"T_fffb98b6_582f_11e9_b335_701ce71031efrow2_col4\" class=\"data row2 col4\" >0.09%</td> \n",
       "    </tr>    <tr> \n",
       "        <th id=\"T_fffb98b6_582f_11e9_b335_701ce71031eflevel0_row3\" class=\"row_heading level0 row3\" >19</th> \n",
       "        <td id=\"T_fffb98b6_582f_11e9_b335_701ce71031efrow3_col0\" class=\"data row3 col0\" >scala</td> \n",
       "        <td id=\"T_fffb98b6_582f_11e9_b335_701ce71031efrow3_col1\" class=\"data row3 col1\" >22622</td> \n",
       "        <td id=\"T_fffb98b6_582f_11e9_b335_701ce71031efrow3_col2\" class=\"data row3 col2\" >20833.3</td> \n",
       "        <td id=\"T_fffb98b6_582f_11e9_b335_701ce71031efrow3_col3\" class=\"data row3 col3\" >917</td> \n",
       "        <td id=\"T_fffb98b6_582f_11e9_b335_701ce71031efrow3_col4\" class=\"data row3 col4\" >0.88%</td> \n",
       "    </tr>    <tr> \n",
       "        <th id=\"T_fffb98b6_582f_11e9_b335_701ce71031eflevel0_row4\" class=\"row_heading level0 row4\" >5</th> \n",
       "        <td id=\"T_fffb98b6_582f_11e9_b335_701ce71031efrow4_col0\" class=\"data row4 col0\" >groovy</td> \n",
       "        <td id=\"T_fffb98b6_582f_11e9_b335_701ce71031efrow4_col1\" class=\"data row4 col1\" >20411.7</td> \n",
       "        <td id=\"T_fffb98b6_582f_11e9_b335_701ce71031efrow4_col2\" class=\"data row4 col2\" >17500</td> \n",
       "        <td id=\"T_fffb98b6_582f_11e9_b335_701ce71031efrow4_col3\" class=\"data row4 col3\" >50</td> \n",
       "        <td id=\"T_fffb98b6_582f_11e9_b335_701ce71031efrow4_col4\" class=\"data row4 col4\" >0.05%</td> \n",
       "    </tr>    <tr> \n",
       "        <th id=\"T_fffb98b6_582f_11e9_b335_701ce71031eflevel0_row5\" class=\"row_heading level0 row5\" >12</th> \n",
       "        <td id=\"T_fffb98b6_582f_11e9_b335_701ce71031efrow5_col0\" class=\"data row5 col0\" >matlab</td> \n",
       "        <td id=\"T_fffb98b6_582f_11e9_b335_701ce71031efrow5_col1\" class=\"data row5 col1\" >19937.8</td> \n",
       "        <td id=\"T_fffb98b6_582f_11e9_b335_701ce71031efrow5_col2\" class=\"data row5 col2\" >17500</td> \n",
       "        <td id=\"T_fffb98b6_582f_11e9_b335_701ce71031efrow5_col3\" class=\"data row5 col3\" >1522</td> \n",
       "        <td id=\"T_fffb98b6_582f_11e9_b335_701ce71031efrow5_col4\" class=\"data row5 col4\" >1.46%</td> \n",
       "    </tr>    <tr> \n",
       "        <th id=\"T_fffb98b6_582f_11e9_b335_701ce71031eflevel0_row6\" class=\"row_heading level0 row6\" >16</th> \n",
       "        <td id=\"T_fffb98b6_582f_11e9_b335_701ce71031efrow6_col0\" class=\"data row6 col0\" >python</td> \n",
       "        <td id=\"T_fffb98b6_582f_11e9_b335_701ce71031efrow6_col1\" class=\"data row6 col1\" >19708.6</td> \n",
       "        <td id=\"T_fffb98b6_582f_11e9_b335_701ce71031efrow6_col2\" class=\"data row6 col2\" >17500</td> \n",
       "        <td id=\"T_fffb98b6_582f_11e9_b335_701ce71031efrow6_col3\" class=\"data row6 col3\" >9355</td> \n",
       "        <td id=\"T_fffb98b6_582f_11e9_b335_701ce71031efrow6_col4\" class=\"data row6 col4\" >8.97%</td> \n",
       "    </tr>    <tr> \n",
       "        <th id=\"T_fffb98b6_582f_11e9_b335_701ce71031eflevel0_row7\" class=\"row_heading level0 row7\" >4</th> \n",
       "        <td id=\"T_fffb98b6_582f_11e9_b335_701ce71031efrow7_col0\" class=\"data row7 col0\" >go</td> \n",
       "        <td id=\"T_fffb98b6_582f_11e9_b335_701ce71031efrow7_col1\" class=\"data row7 col1\" >19388.2</td> \n",
       "        <td id=\"T_fffb98b6_582f_11e9_b335_701ce71031efrow7_col2\" class=\"data row7 col2\" >17500</td> \n",
       "        <td id=\"T_fffb98b6_582f_11e9_b335_701ce71031efrow7_col3\" class=\"data row7 col3\" >8298</td> \n",
       "        <td id=\"T_fffb98b6_582f_11e9_b335_701ce71031efrow7_col4\" class=\"data row7 col4\" >7.96%</td> \n",
       "    </tr>    <tr> \n",
       "        <th id=\"T_fffb98b6_582f_11e9_b335_701ce71031eflevel0_row8\" class=\"row_heading level0 row8\" >25</th> \n",
       "        <td id=\"T_fffb98b6_582f_11e9_b335_701ce71031efrow8_col0\" class=\"data row8 col0\" >r</td> \n",
       "        <td id=\"T_fffb98b6_582f_11e9_b335_701ce71031efrow8_col1\" class=\"data row8 col1\" >19366</td> \n",
       "        <td id=\"T_fffb98b6_582f_11e9_b335_701ce71031efrow8_col2\" class=\"data row8 col2\" >17500</td> \n",
       "        <td id=\"T_fffb98b6_582f_11e9_b335_701ce71031efrow8_col3\" class=\"data row8 col3\" >400</td> \n",
       "        <td id=\"T_fffb98b6_582f_11e9_b335_701ce71031efrow8_col4\" class=\"data row8 col4\" >0.38%</td> \n",
       "    </tr>    <tr> \n",
       "        <th id=\"T_fffb98b6_582f_11e9_b335_701ce71031eflevel0_row9\" class=\"row_heading level0 row9\" >14</th> \n",
       "        <td id=\"T_fffb98b6_582f_11e9_b335_701ce71031efrow9_col0\" class=\"data row9 col0\" >perl</td> \n",
       "        <td id=\"T_fffb98b6_582f_11e9_b335_701ce71031efrow9_col1\" class=\"data row9 col1\" >18748.3</td> \n",
       "        <td id=\"T_fffb98b6_582f_11e9_b335_701ce71031efrow9_col2\" class=\"data row9 col2\" >17500</td> \n",
       "        <td id=\"T_fffb98b6_582f_11e9_b335_701ce71031efrow9_col3\" class=\"data row9 col3\" >920</td> \n",
       "        <td id=\"T_fffb98b6_582f_11e9_b335_701ce71031efrow9_col4\" class=\"data row9 col4\" >0.88%</td> \n",
       "    </tr>    <tr> \n",
       "        <th id=\"T_fffb98b6_582f_11e9_b335_701ce71031eflevel0_row10\" class=\"row_heading level0 row10\" >2</th> \n",
       "        <td id=\"T_fffb98b6_582f_11e9_b335_701ce71031efrow10_col0\" class=\"data row10 col0\" >cpp</td> \n",
       "        <td id=\"T_fffb98b6_582f_11e9_b335_701ce71031efrow10_col1\" class=\"data row10 col1\" >17745.9</td> \n",
       "        <td id=\"T_fffb98b6_582f_11e9_b335_701ce71031efrow10_col2\" class=\"data row10 col2\" >15000</td> \n",
       "        <td id=\"T_fffb98b6_582f_11e9_b335_701ce71031efrow10_col3\" class=\"data row10 col3\" >17154</td> \n",
       "        <td id=\"T_fffb98b6_582f_11e9_b335_701ce71031efrow10_col4\" class=\"data row10 col4\" >16.45%</td> \n",
       "    </tr>    <tr> \n",
       "        <th id=\"T_fffb98b6_582f_11e9_b335_701ce71031eflevel0_row11\" class=\"row_heading level0 row11\" >17</th> \n",
       "        <td id=\"T_fffb98b6_582f_11e9_b335_701ce71031efrow11_col0\" class=\"data row11 col0\" >ruby</td> \n",
       "        <td id=\"T_fffb98b6_582f_11e9_b335_701ce71031efrow11_col1\" class=\"data row11 col1\" >17577.4</td> \n",
       "        <td id=\"T_fffb98b6_582f_11e9_b335_701ce71031efrow11_col2\" class=\"data row11 col2\" >17500</td> \n",
       "        <td id=\"T_fffb98b6_582f_11e9_b335_701ce71031efrow11_col3\" class=\"data row11 col3\" >404</td> \n",
       "        <td id=\"T_fffb98b6_582f_11e9_b335_701ce71031efrow11_col4\" class=\"data row11 col4\" >0.39%</td> \n",
       "    </tr>    <tr> \n",
       "        <th id=\"T_fffb98b6_582f_11e9_b335_701ce71031eflevel0_row12\" class=\"row_heading level0 row12\" >11</th> \n",
       "        <td id=\"T_fffb98b6_582f_11e9_b335_701ce71031efrow12_col0\" class=\"data row12 col0\" >lua</td> \n",
       "        <td id=\"T_fffb98b6_582f_11e9_b335_701ce71031efrow12_col1\" class=\"data row12 col1\" >17079.8</td> \n",
       "        <td id=\"T_fffb98b6_582f_11e9_b335_701ce71031efrow12_col2\" class=\"data row12 col2\" >15000</td> \n",
       "        <td id=\"T_fffb98b6_582f_11e9_b335_701ce71031efrow12_col3\" class=\"data row12 col3\" >1609</td> \n",
       "        <td id=\"T_fffb98b6_582f_11e9_b335_701ce71031efrow12_col4\" class=\"data row12 col4\" >1.54%</td> \n",
       "    </tr>    <tr> \n",
       "        <th id=\"T_fffb98b6_582f_11e9_b335_701ce71031eflevel0_row13\" class=\"row_heading level0 row13\" >10</th> \n",
       "        <td id=\"T_fffb98b6_582f_11e9_b335_701ce71031efrow13_col0\" class=\"data row13 col0\" >kotlin</td> \n",
       "        <td id=\"T_fffb98b6_582f_11e9_b335_701ce71031efrow13_col1\" class=\"data row13 col1\" >16869.5</td> \n",
       "        <td id=\"T_fffb98b6_582f_11e9_b335_701ce71031efrow13_col2\" class=\"data row13 col2\" >15000</td> \n",
       "        <td id=\"T_fffb98b6_582f_11e9_b335_701ce71031efrow13_col3\" class=\"data row13 col3\" >264</td> \n",
       "        <td id=\"T_fffb98b6_582f_11e9_b335_701ce71031efrow13_col4\" class=\"data row13 col4\" >0.25%</td> \n",
       "    </tr>    <tr> \n",
       "        <th id=\"T_fffb98b6_582f_11e9_b335_701ce71031eflevel0_row14\" class=\"row_heading level0 row14\" >7</th> \n",
       "        <td id=\"T_fffb98b6_582f_11e9_b335_701ce71031efrow14_col0\" class=\"data row14 col0\" >java</td> \n",
       "        <td id=\"T_fffb98b6_582f_11e9_b335_701ce71031efrow14_col1\" class=\"data row14 col1\" >16267.5</td> \n",
       "        <td id=\"T_fffb98b6_582f_11e9_b335_701ce71031efrow14_col2\" class=\"data row14 col2\" >15000</td> \n",
       "        <td id=\"T_fffb98b6_582f_11e9_b335_701ce71031efrow14_col3\" class=\"data row14 col3\" >29060</td> \n",
       "        <td id=\"T_fffb98b6_582f_11e9_b335_701ce71031efrow14_col4\" class=\"data row14 col4\" >27.87%</td> \n",
       "    </tr>    <tr> \n",
       "        <th id=\"T_fffb98b6_582f_11e9_b335_701ce71031eflevel0_row15\" class=\"row_heading level0 row15\" >0</th> \n",
       "        <td id=\"T_fffb98b6_582f_11e9_b335_701ce71031efrow15_col0\" class=\"data row15 col0\" >assembly</td> \n",
       "        <td id=\"T_fffb98b6_582f_11e9_b335_701ce71031efrow15_col1\" class=\"data row15 col1\" >16140.1</td> \n",
       "        <td id=\"T_fffb98b6_582f_11e9_b335_701ce71031efrow15_col2\" class=\"data row15 col2\" >15000</td> \n",
       "        <td id=\"T_fffb98b6_582f_11e9_b335_701ce71031efrow15_col3\" class=\"data row15 col3\" >699</td> \n",
       "        <td id=\"T_fffb98b6_582f_11e9_b335_701ce71031efrow15_col4\" class=\"data row15 col4\" >0.67%</td> \n",
       "    </tr>    <tr> \n",
       "        <th id=\"T_fffb98b6_582f_11e9_b335_701ce71031eflevel0_row16\" class=\"row_heading level0 row16\" >20</th> \n",
       "        <td id=\"T_fffb98b6_582f_11e9_b335_701ce71031efrow16_col0\" class=\"data row16 col0\" >swift</td> \n",
       "        <td id=\"T_fffb98b6_582f_11e9_b335_701ce71031efrow16_col1\" class=\"data row16 col1\" >16111.8</td> \n",
       "        <td id=\"T_fffb98b6_582f_11e9_b335_701ce71031efrow16_col2\" class=\"data row16 col2\" >14000</td> \n",
       "        <td id=\"T_fffb98b6_582f_11e9_b335_701ce71031efrow16_col3\" class=\"data row16 col3\" >948</td> \n",
       "        <td id=\"T_fffb98b6_582f_11e9_b335_701ce71031efrow16_col4\" class=\"data row16 col4\" >0.91%</td> \n",
       "    </tr>    <tr> \n",
       "        <th id=\"T_fffb98b6_582f_11e9_b335_701ce71031eflevel0_row17\" class=\"row_heading level0 row17\" >21</th> \n",
       "        <td id=\"T_fffb98b6_582f_11e9_b335_701ce71031efrow17_col0\" class=\"data row17 col0\" >typescript</td> \n",
       "        <td id=\"T_fffb98b6_582f_11e9_b335_701ce71031efrow17_col1\" class=\"data row17 col1\" >15181.2</td> \n",
       "        <td id=\"T_fffb98b6_582f_11e9_b335_701ce71031efrow17_col2\" class=\"data row17 col2\" >14000</td> \n",
       "        <td id=\"T_fffb98b6_582f_11e9_b335_701ce71031efrow17_col3\" class=\"data row17 col3\" >678</td> \n",
       "        <td id=\"T_fffb98b6_582f_11e9_b335_701ce71031efrow17_col4\" class=\"data row17 col4\" >0.65%</td> \n",
       "    </tr>    <tr> \n",
       "        <th id=\"T_fffb98b6_582f_11e9_b335_701ce71031eflevel0_row18\" class=\"row_heading level0 row18\" >13</th> \n",
       "        <td id=\"T_fffb98b6_582f_11e9_b335_701ce71031efrow18_col0\" class=\"data row18 col0\" >objective_c</td> \n",
       "        <td id=\"T_fffb98b6_582f_11e9_b335_701ce71031efrow18_col1\" class=\"data row18 col1\" >14783.1</td> \n",
       "        <td id=\"T_fffb98b6_582f_11e9_b335_701ce71031efrow18_col2\" class=\"data row18 col2\" >12500</td> \n",
       "        <td id=\"T_fffb98b6_582f_11e9_b335_701ce71031efrow18_col3\" class=\"data row18 col3\" >146</td> \n",
       "        <td id=\"T_fffb98b6_582f_11e9_b335_701ce71031efrow18_col4\" class=\"data row18 col4\" >0.14%</td> \n",
       "    </tr>    <tr> \n",
       "        <th id=\"T_fffb98b6_582f_11e9_b335_701ce71031eflevel0_row19\" class=\"row_heading level0 row19\" >15</th> \n",
       "        <td id=\"T_fffb98b6_582f_11e9_b335_701ce71031efrow19_col0\" class=\"data row19 col0\" >php</td> \n",
       "        <td id=\"T_fffb98b6_582f_11e9_b335_701ce71031efrow19_col1\" class=\"data row19 col1\" >14779.4</td> \n",
       "        <td id=\"T_fffb98b6_582f_11e9_b335_701ce71031efrow19_col2\" class=\"data row19 col2\" >12500</td> \n",
       "        <td id=\"T_fffb98b6_582f_11e9_b335_701ce71031efrow19_col3\" class=\"data row19 col3\" >5587</td> \n",
       "        <td id=\"T_fffb98b6_582f_11e9_b335_701ce71031efrow19_col4\" class=\"data row19 col4\" >5.36%</td> \n",
       "    </tr>    <tr> \n",
       "        <th id=\"T_fffb98b6_582f_11e9_b335_701ce71031eflevel0_row20\" class=\"row_heading level0 row20\" >8</th> \n",
       "        <td id=\"T_fffb98b6_582f_11e9_b335_701ce71031efrow20_col0\" class=\"data row20 col0\" >javascript</td> \n",
       "        <td id=\"T_fffb98b6_582f_11e9_b335_701ce71031efrow20_col1\" class=\"data row20 col1\" >13840.9</td> \n",
       "        <td id=\"T_fffb98b6_582f_11e9_b335_701ce71031efrow20_col2\" class=\"data row20 col2\" >12500</td> \n",
       "        <td id=\"T_fffb98b6_582f_11e9_b335_701ce71031efrow20_col3\" class=\"data row20 col3\" >15164</td> \n",
       "        <td id=\"T_fffb98b6_582f_11e9_b335_701ce71031efrow20_col4\" class=\"data row20 col4\" >14.54%</td> \n",
       "    </tr>    <tr> \n",
       "        <th id=\"T_fffb98b6_582f_11e9_b335_701ce71031eflevel0_row21\" class=\"row_heading level0 row21\" >1</th> \n",
       "        <td id=\"T_fffb98b6_582f_11e9_b335_701ce71031efrow21_col0\" class=\"data row21 col0\" >c_sharp</td> \n",
       "        <td id=\"T_fffb98b6_582f_11e9_b335_701ce71031efrow21_col1\" class=\"data row21 col1\" >13463.5</td> \n",
       "        <td id=\"T_fffb98b6_582f_11e9_b335_701ce71031efrow21_col2\" class=\"data row21 col2\" >12500</td> \n",
       "        <td id=\"T_fffb98b6_582f_11e9_b335_701ce71031efrow21_col3\" class=\"data row21 col3\" >10332</td> \n",
       "        <td id=\"T_fffb98b6_582f_11e9_b335_701ce71031efrow21_col4\" class=\"data row21 col4\" >9.91%</td> \n",
       "    </tr>    <tr> \n",
       "        <th id=\"T_fffb98b6_582f_11e9_b335_701ce71031eflevel0_row22\" class=\"row_heading level0 row22\" >24</th> \n",
       "        <td id=\"T_fffb98b6_582f_11e9_b335_701ce71031efrow22_col0\" class=\"data row22 col0\" >visual_basic_net</td> \n",
       "        <td id=\"T_fffb98b6_582f_11e9_b335_701ce71031efrow22_col1\" class=\"data row22 col1\" >13031.9</td> \n",
       "        <td id=\"T_fffb98b6_582f_11e9_b335_701ce71031efrow22_col2\" class=\"data row22 col2\" >12500</td> \n",
       "        <td id=\"T_fffb98b6_582f_11e9_b335_701ce71031efrow22_col3\" class=\"data row22 col3\" >268</td> \n",
       "        <td id=\"T_fffb98b6_582f_11e9_b335_701ce71031efrow22_col4\" class=\"data row22 col4\" >0.26%</td> \n",
       "    </tr>    <tr> \n",
       "        <th id=\"T_fffb98b6_582f_11e9_b335_701ce71031eflevel0_row23\" class=\"row_heading level0 row23\" >22</th> \n",
       "        <td id=\"T_fffb98b6_582f_11e9_b335_701ce71031efrow23_col0\" class=\"data row23 col0\" >vba</td> \n",
       "        <td id=\"T_fffb98b6_582f_11e9_b335_701ce71031efrow23_col1\" class=\"data row23 col1\" >13028.5</td> \n",
       "        <td id=\"T_fffb98b6_582f_11e9_b335_701ce71031efrow23_col2\" class=\"data row23 col2\" >12500</td> \n",
       "        <td id=\"T_fffb98b6_582f_11e9_b335_701ce71031efrow23_col3\" class=\"data row23 col3\" >114</td> \n",
       "        <td id=\"T_fffb98b6_582f_11e9_b335_701ce71031efrow23_col4\" class=\"data row23 col4\" >0.11%</td> \n",
       "    </tr>    <tr> \n",
       "        <th id=\"T_fffb98b6_582f_11e9_b335_701ce71031eflevel0_row24\" class=\"row_heading level0 row24\" >3</th> \n",
       "        <td id=\"T_fffb98b6_582f_11e9_b335_701ce71031efrow24_col0\" class=\"data row24 col0\" >delphi</td> \n",
       "        <td id=\"T_fffb98b6_582f_11e9_b335_701ce71031efrow24_col1\" class=\"data row24 col1\" >11855.2</td> \n",
       "        <td id=\"T_fffb98b6_582f_11e9_b335_701ce71031efrow24_col2\" class=\"data row24 col2\" >11500</td> \n",
       "        <td id=\"T_fffb98b6_582f_11e9_b335_701ce71031efrow24_col3\" class=\"data row24 col3\" >254</td> \n",
       "        <td id=\"T_fffb98b6_582f_11e9_b335_701ce71031efrow24_col4\" class=\"data row24 col4\" >0.24%</td> \n",
       "    </tr>    <tr> \n",
       "        <th id=\"T_fffb98b6_582f_11e9_b335_701ce71031eflevel0_row25\" class=\"row_heading level0 row25\" >23</th> \n",
       "        <td id=\"T_fffb98b6_582f_11e9_b335_701ce71031efrow25_col0\" class=\"data row25 col0\" >visual_basic</td> \n",
       "        <td id=\"T_fffb98b6_582f_11e9_b335_701ce71031efrow25_col1\" class=\"data row25 col1\" >11652.8</td> \n",
       "        <td id=\"T_fffb98b6_582f_11e9_b335_701ce71031efrow25_col2\" class=\"data row25 col2\" >12000</td> \n",
       "        <td id=\"T_fffb98b6_582f_11e9_b335_701ce71031efrow25_col3\" class=\"data row25 col3\" >18</td> \n",
       "        <td id=\"T_fffb98b6_582f_11e9_b335_701ce71031efrow25_col4\" class=\"data row25 col4\" >0.02%</td> \n",
       "    </tr></tbody> \n",
       "</table> "
      ],
      "text/plain": [
       "<pandas.io.formats.style.Styler at 0x22db141bb38>"
      ]
     },
     "execution_count": 24,
     "metadata": {},
     "output_type": "execute_result"
    }
   ],
   "source": [
    "data_pl=get_sub_stats(data,'pl_')\n",
    "data_pl.style.format({\"percentage\":\"{:.2%}\"})"
   ]
  },
  {
   "cell_type": "markdown",
   "metadata": {},
   "source": [
    "数据显示，haskell才是最赚钱的编程语言。python是主流语言里面最赚钱的，比java的工资多了3000元！vb是最不赚钱的了。其中，最赚钱的编程语言和最不赚钱的，工资居然差了2倍。所以，要选好编程语言呀！"
   ]
  },
  {
   "cell_type": "markdown",
   "metadata": {},
   "source": [
    "# 教育"
   ]
  },
  {
   "cell_type": "code",
   "execution_count": 25,
   "metadata": {},
   "outputs": [
    {
     "data": {
      "text/html": [
       "<style  type=\"text/css\" >\n",
       "</style>  \n",
       "<table id=\"T_00910c7e_5830_11e9_90e2_701ce71031ef\" > \n",
       "<thead>    <tr> \n",
       "        <th class=\"blank level0\" ></th> \n",
       "        <th class=\"col_heading level0 col0\" >edu_</th> \n",
       "        <th class=\"col_heading level0 col1\" >salary_mean</th> \n",
       "        <th class=\"col_heading level0 col2\" >salary_median</th> \n",
       "        <th class=\"col_heading level0 col3\" >head_count</th> \n",
       "        <th class=\"col_heading level0 col4\" >percentage</th> \n",
       "    </tr></thead> \n",
       "<tbody>    <tr> \n",
       "        <th id=\"T_00910c7e_5830_11e9_90e2_701ce71031eflevel0_row0\" class=\"row_heading level0 row0\" >5</th> \n",
       "        <td id=\"T_00910c7e_5830_11e9_90e2_701ce71031efrow0_col0\" class=\"data row0 col0\" >phd</td> \n",
       "        <td id=\"T_00910c7e_5830_11e9_90e2_701ce71031efrow0_col1\" class=\"data row0 col1\" >30308</td> \n",
       "        <td id=\"T_00910c7e_5830_11e9_90e2_701ce71031efrow0_col2\" class=\"data row0 col2\" >29000</td> \n",
       "        <td id=\"T_00910c7e_5830_11e9_90e2_701ce71031efrow0_col3\" class=\"data row0 col3\" >112</td> \n",
       "        <td id=\"T_00910c7e_5830_11e9_90e2_701ce71031efrow0_col4\" class=\"data row0 col4\" >0.17%</td> \n",
       "    </tr>    <tr> \n",
       "        <th id=\"T_00910c7e_5830_11e9_90e2_701ce71031eflevel0_row1\" class=\"row_heading level0 row1\" >3</th> \n",
       "        <td id=\"T_00910c7e_5830_11e9_90e2_701ce71031efrow1_col0\" class=\"data row1 col0\" >master</td> \n",
       "        <td id=\"T_00910c7e_5830_11e9_90e2_701ce71031efrow1_col1\" class=\"data row1 col1\" >23084.4</td> \n",
       "        <td id=\"T_00910c7e_5830_11e9_90e2_701ce71031efrow1_col2\" class=\"data row1 col2\" >21000</td> \n",
       "        <td id=\"T_00910c7e_5830_11e9_90e2_701ce71031efrow1_col3\" class=\"data row1 col3\" >2051</td> \n",
       "        <td id=\"T_00910c7e_5830_11e9_90e2_701ce71031efrow1_col4\" class=\"data row1 col4\" >3.13%</td> \n",
       "    </tr>    <tr> \n",
       "        <th id=\"T_00910c7e_5830_11e9_90e2_701ce71031eflevel0_row2\" class=\"row_heading level0 row2\" >1</th> \n",
       "        <td id=\"T_00910c7e_5830_11e9_90e2_701ce71031efrow2_col0\" class=\"data row2 col0\" >bachelor</td> \n",
       "        <td id=\"T_00910c7e_5830_11e9_90e2_701ce71031efrow2_col1\" class=\"data row2 col1\" >16840.8</td> \n",
       "        <td id=\"T_00910c7e_5830_11e9_90e2_701ce71031efrow2_col2\" class=\"data row2 col2\" >15000</td> \n",
       "        <td id=\"T_00910c7e_5830_11e9_90e2_701ce71031efrow2_col3\" class=\"data row2 col3\" >42268</td> \n",
       "        <td id=\"T_00910c7e_5830_11e9_90e2_701ce71031efrow2_col4\" class=\"data row2 col4\" >64.50%</td> \n",
       "    </tr>    <tr> \n",
       "        <th id=\"T_00910c7e_5830_11e9_90e2_701ce71031eflevel0_row3\" class=\"row_heading level0 row3\" >0</th> \n",
       "        <td id=\"T_00910c7e_5830_11e9_90e2_701ce71031efrow3_col0\" class=\"data row3 col0\" >associate</td> \n",
       "        <td id=\"T_00910c7e_5830_11e9_90e2_701ce71031efrow3_col1\" class=\"data row3 col1\" >12828.3</td> \n",
       "        <td id=\"T_00910c7e_5830_11e9_90e2_701ce71031efrow3_col2\" class=\"data row3 col2\" >12500</td> \n",
       "        <td id=\"T_00910c7e_5830_11e9_90e2_701ce71031efrow3_col3\" class=\"data row3 col3\" >20879</td> \n",
       "        <td id=\"T_00910c7e_5830_11e9_90e2_701ce71031efrow3_col4\" class=\"data row3 col4\" >31.86%</td> \n",
       "    </tr>    <tr> \n",
       "        <th id=\"T_00910c7e_5830_11e9_90e2_701ce71031eflevel0_row4\" class=\"row_heading level0 row4\" >4</th> \n",
       "        <td id=\"T_00910c7e_5830_11e9_90e2_701ce71031efrow4_col0\" class=\"data row4 col0\" >middle_school</td> \n",
       "        <td id=\"T_00910c7e_5830_11e9_90e2_701ce71031efrow4_col1\" class=\"data row4 col1\" >11798.1</td> \n",
       "        <td id=\"T_00910c7e_5830_11e9_90e2_701ce71031efrow4_col2\" class=\"data row4 col2\" >7000</td> \n",
       "        <td id=\"T_00910c7e_5830_11e9_90e2_701ce71031efrow4_col3\" class=\"data row4 col3\" >26</td> \n",
       "        <td id=\"T_00910c7e_5830_11e9_90e2_701ce71031efrow4_col4\" class=\"data row4 col4\" >0.04%</td> \n",
       "    </tr>    <tr> \n",
       "        <th id=\"T_00910c7e_5830_11e9_90e2_701ce71031eflevel0_row5\" class=\"row_heading level0 row5\" >2</th> \n",
       "        <td id=\"T_00910c7e_5830_11e9_90e2_701ce71031efrow5_col0\" class=\"data row5 col0\" >high_school</td> \n",
       "        <td id=\"T_00910c7e_5830_11e9_90e2_701ce71031efrow5_col1\" class=\"data row5 col1\" >9580.51</td> \n",
       "        <td id=\"T_00910c7e_5830_11e9_90e2_701ce71031efrow5_col2\" class=\"data row5 col2\" >7000</td> \n",
       "        <td id=\"T_00910c7e_5830_11e9_90e2_701ce71031efrow5_col3\" class=\"data row5 col3\" >195</td> \n",
       "        <td id=\"T_00910c7e_5830_11e9_90e2_701ce71031efrow5_col4\" class=\"data row5 col4\" >0.30%</td> \n",
       "    </tr></tbody> \n",
       "</table> "
      ],
      "text/plain": [
       "<pandas.io.formats.style.Styler at 0x22da1b5eb00>"
      ]
     },
     "execution_count": 25,
     "metadata": {},
     "output_type": "execute_result"
    }
   ],
   "source": [
    "data_edu=get_sub_stats(data,'edu_')\n",
    "data_edu.style.format({\"percentage\":\"{:.2%}\"})"
   ]
  },
  {
   "cell_type": "markdown",
   "metadata": {},
   "source": [
    "大专，本科，硕士，博士的平均工资分别是12828，16840，23084，30308。中位数分别是12500， 15000，21000， 29000。"
   ]
  },
  {
   "cell_type": "code",
   "execution_count": 26,
   "metadata": {},
   "outputs": [],
   "source": [
    "salary_phd=data[data.edu_phd==1].monthly_salary\n",
    "salary_master=data[data.edu_master==1].monthly_salary\n",
    "salary_bachelor=data[data.edu_bachelor==1].monthly_salary\n",
    "salary_associate=data[data.edu_associate==1].monthly_salary"
   ]
  },
  {
   "cell_type": "code",
   "execution_count": 27,
   "metadata": {},
   "outputs": [
    {
     "data": {
      "text/plain": [
       "F_onewayResult(statistic=37.99934598382358, pvalue=8.419586730682308e-10)"
      ]
     },
     "execution_count": 27,
     "metadata": {},
     "output_type": "execute_result"
    }
   ],
   "source": [
    "stats.f_oneway(salary_phd, salary_master)"
   ]
  },
  {
   "cell_type": "code",
   "execution_count": 28,
   "metadata": {},
   "outputs": [
    {
     "data": {
      "text/plain": [
       "F_onewayResult(statistic=1039.3610697025629, pvalue=2.0403673390552008e-225)"
      ]
     },
     "execution_count": 28,
     "metadata": {},
     "output_type": "execute_result"
    }
   ],
   "source": [
    "stats.f_oneway(salary_master, salary_bachelor)"
   ]
  },
  {
   "cell_type": "code",
   "execution_count": 29,
   "metadata": {},
   "outputs": [
    {
     "data": {
      "text/plain": [
       "F_onewayResult(statistic=3866.5985931587775, pvalue=0.0)"
      ]
     },
     "execution_count": 29,
     "metadata": {},
     "output_type": "execute_result"
    }
   ],
   "source": [
    "stats.f_oneway(salary_bachelor, salary_associate)"
   ]
  },
  {
   "cell_type": "code",
   "execution_count": 30,
   "metadata": {},
   "outputs": [
    {
     "name": "stderr",
     "output_type": "stream",
     "text": [
      "UsageError: Line magic function `%watermark` not found.\n"
     ]
    }
   ],
   "source": [
    "%watermark --iversions"
   ]
  },
  {
   "cell_type": "code",
   "execution_count": null,
   "metadata": {},
   "outputs": [],
   "source": []
  },
  {
   "cell_type": "code",
   "execution_count": null,
   "metadata": {},
   "outputs": [],
   "source": []
  },
  {
   "cell_type": "markdown",
   "metadata": {},
   "source": [
    "经过Oneway Anova Test，证明从大专到博士，学历每提高一级，工资都有显著的提高。"
   ]
  },
  {
   "cell_type": "code",
   "execution_count": 49,
   "metadata": {},
   "outputs": [
    {
     "data": {
      "image/png": "[encoded data removed]",
      "text/plain": [
       "<Figure size 432x288 with 1 Axes>"
      ]
     },
     "metadata": {
      "needs_background": "light"
     },
     "output_type": "display_data"
    }
   ],
   "source": [
    "data=add_category_column(data,'edu')\n",
    "order=['phd','master','bachelor','associate']\n",
    "a=sns.boxplot(y='edu',x='monthly_salary',order=order,data=data[data.edu.isin(order)], orient='h')\n",
    "plt.annotate('https://github.com/juwikuang/job_survey', xy=(0.5,1.5), xytext=(2, 1.55))\n",
    "plt.show()"
   ]
  },
  {
   "cell_type": "markdown",
   "metadata": {},
   "source": [
    "# 工作经验 Working Experience"
   ]
  },
  {
   "cell_type": "code",
   "execution_count": 32,
   "metadata": {},
   "outputs": [
    {
     "data": {
      "text/html": [
       "<style  type=\"text/css\" >\n",
       "</style>  \n",
       "<table id=\"T_0317bfb0_5830_11e9_a607_701ce71031ef\" > \n",
       "<thead>    <tr> \n",
       "        <th class=\"blank level0\" ></th> \n",
       "        <th class=\"col_heading level0 col0\" >experience_</th> \n",
       "        <th class=\"col_heading level0 col1\" >salary_mean</th> \n",
       "        <th class=\"col_heading level0 col2\" >salary_median</th> \n",
       "        <th class=\"col_heading level0 col3\" >head_count</th> \n",
       "        <th class=\"col_heading level0 col4\" >percentage</th> \n",
       "    </tr></thead> \n",
       "<tbody>    <tr> \n",
       "        <th id=\"T_0317bfb0_5830_11e9_a607_701ce71031eflevel0_row0\" class=\"row_heading level0 row0\" >0</th> \n",
       "        <td id=\"T_0317bfb0_5830_11e9_a607_701ce71031efrow0_col0\" class=\"data row0 col0\" >10</td> \n",
       "        <td id=\"T_0317bfb0_5830_11e9_a607_701ce71031efrow0_col1\" class=\"data row0 col1\" >32645.6</td> \n",
       "        <td id=\"T_0317bfb0_5830_11e9_a607_701ce71031efrow0_col2\" class=\"data row0 col2\" >30000</td> \n",
       "        <td id=\"T_0317bfb0_5830_11e9_a607_701ce71031efrow0_col3\" class=\"data row0 col3\" >305</td> \n",
       "        <td id=\"T_0317bfb0_5830_11e9_a607_701ce71031efrow0_col4\" class=\"data row0 col4\" >0.39%</td> \n",
       "    </tr>    <tr> \n",
       "        <th id=\"T_0317bfb0_5830_11e9_a607_701ce71031eflevel0_row1\" class=\"row_heading level0 row1\" >3</th> \n",
       "        <td id=\"T_0317bfb0_5830_11e9_a607_701ce71031efrow1_col0\" class=\"data row1 col0\" >5_10</td> \n",
       "        <td id=\"T_0317bfb0_5830_11e9_a607_701ce71031efrow1_col1\" class=\"data row1 col1\" >22569.4</td> \n",
       "        <td id=\"T_0317bfb0_5830_11e9_a607_701ce71031efrow1_col2\" class=\"data row1 col2\" >20500</td> \n",
       "        <td id=\"T_0317bfb0_5830_11e9_a607_701ce71031efrow1_col3\" class=\"data row1 col3\" >11100</td> \n",
       "        <td id=\"T_0317bfb0_5830_11e9_a607_701ce71031efrow1_col4\" class=\"data row1 col4\" >14.32%</td> \n",
       "    </tr>    <tr> \n",
       "        <th id=\"T_0317bfb0_5830_11e9_a607_701ce71031eflevel0_row2\" class=\"row_heading level0 row2\" >2</th> \n",
       "        <td id=\"T_0317bfb0_5830_11e9_a607_701ce71031efrow2_col0\" class=\"data row2 col0\" >3_5</td> \n",
       "        <td id=\"T_0317bfb0_5830_11e9_a607_701ce71031efrow2_col1\" class=\"data row2 col1\" >16587.6</td> \n",
       "        <td id=\"T_0317bfb0_5830_11e9_a607_701ce71031efrow2_col2\" class=\"data row2 col2\" >15000</td> \n",
       "        <td id=\"T_0317bfb0_5830_11e9_a607_701ce71031efrow2_col3\" class=\"data row2 col3\" >23940</td> \n",
       "        <td id=\"T_0317bfb0_5830_11e9_a607_701ce71031efrow2_col4\" class=\"data row2 col4\" >30.88%</td> \n",
       "    </tr>    <tr> \n",
       "        <th id=\"T_0317bfb0_5830_11e9_a607_701ce71031eflevel0_row3\" class=\"row_heading level0 row3\" >4</th> \n",
       "        <td id=\"T_0317bfb0_5830_11e9_a607_701ce71031efrow3_col0\" class=\"data row3 col0\" >no</td> \n",
       "        <td id=\"T_0317bfb0_5830_11e9_a607_701ce71031efrow3_col1\" class=\"data row3 col1\" >14244.6</td> \n",
       "        <td id=\"T_0317bfb0_5830_11e9_a607_701ce71031efrow3_col2\" class=\"data row3 col2\" >12500</td> \n",
       "        <td id=\"T_0317bfb0_5830_11e9_a607_701ce71031efrow3_col3\" class=\"data row3 col3\" >18327</td> \n",
       "        <td id=\"T_0317bfb0_5830_11e9_a607_701ce71031efrow3_col4\" class=\"data row3 col4\" >23.64%</td> \n",
       "    </tr>    <tr> \n",
       "        <th id=\"T_0317bfb0_5830_11e9_a607_701ce71031eflevel0_row4\" class=\"row_heading level0 row4\" >1</th> \n",
       "        <td id=\"T_0317bfb0_5830_11e9_a607_701ce71031efrow4_col0\" class=\"data row4 col0\" >1_3</td> \n",
       "        <td id=\"T_0317bfb0_5830_11e9_a607_701ce71031efrow4_col1\" class=\"data row4 col1\" >12567.8</td> \n",
       "        <td id=\"T_0317bfb0_5830_11e9_a607_701ce71031efrow4_col2\" class=\"data row4 col2\" >11500</td> \n",
       "        <td id=\"T_0317bfb0_5830_11e9_a607_701ce71031efrow4_col3\" class=\"data row4 col3\" >23864</td> \n",
       "        <td id=\"T_0317bfb0_5830_11e9_a607_701ce71031efrow4_col4\" class=\"data row4 col4\" >30.78%</td> \n",
       "    </tr></tbody> \n",
       "</table> "
      ],
      "text/plain": [
       "<pandas.io.formats.style.Styler at 0x22db14d9470>"
      ]
     },
     "execution_count": 32,
     "metadata": {},
     "output_type": "execute_result"
    }
   ],
   "source": [
    "data_experience=get_sub_stats(data,'experience_')\n",
    "data_experience.style.format({\"percentage\":\"{:.2%}\"})"
   ]
  },
  {
   "cell_type": "code",
   "execution_count": 33,
   "metadata": {},
   "outputs": [],
   "source": [
    "salary_we_10=data[data.experience_10==1].monthly_salary * 10000\n",
    "salary_we_5_10=data[data.experience_5_10==1].monthly_salary * 10000\n",
    "salary_we_3_5=data[data.experience_3_5==1].monthly_salary * 10000\n",
    "salary_we_1_3=data[data.experience_1_3==1].monthly_salary * 10000\n",
    "salary_we_no=data[data.experience_no==1].monthly_salary * 10000"
   ]
  },
  {
   "cell_type": "code",
   "execution_count": 34,
   "metadata": {},
   "outputs": [
    {
     "data": {
      "image/png": "[encoded data removed]",
      "text/plain": [
       "<Figure size 432x288 with 1 Axes>"
      ]
     },
     "metadata": {
      "needs_background": "light"
     },
     "output_type": "display_data"
    }
   ],
   "source": [
    "data=add_category_column(data,'experience')\n",
    "order=['10','5_10','3_5','1_3']\n",
    "sns.boxplot(y='experience',x='monthly_salary',order=order,data=data[data.experience.isin(order)], orient='h')\n",
    "plt.annotate('https://github.com/juwikuang/job_survey', xy=(1.5,1.5), xytext=(1.55, 1.55))\n",
    "plt.show()"
   ]
  },
  {
   "cell_type": "code",
   "execution_count": null,
   "metadata": {},
   "outputs": [],
   "source": []
  },
  {
   "cell_type": "code",
   "execution_count": null,
   "metadata": {},
   "outputs": [],
   "source": []
  },
  {
   "cell_type": "markdown",
   "metadata": {},
   "source": [
    "数据显示，工资会随着工作经验的增长而增长。不过，我感觉那些招十年工作经验的，基本上都是架构师等职位。如果你的工作经验是一年的工作经验重复十次，应该拿不到那么高的工资。这个以后我还会仔细分析。"
   ]
  },
  {
   "cell_type": "markdown",
   "metadata": {},
   "source": [
    "# 城市 City"
   ]
  },
  {
   "cell_type": "code",
   "execution_count": 35,
   "metadata": {},
   "outputs": [
    {
     "data": {
      "text/html": [
       "<style  type=\"text/css\" >\n",
       "</style>  \n",
       "<table id=\"T_04a5dc70_5830_11e9_a1bb_701ce71031ef\" > \n",
       "<thead>    <tr> \n",
       "        <th class=\"blank level0\" ></th> \n",
       "        <th class=\"col_heading level0 col0\" >city_</th> \n",
       "        <th class=\"col_heading level0 col1\" >salary_mean</th> \n",
       "        <th class=\"col_heading level0 col2\" >salary_median</th> \n",
       "        <th class=\"col_heading level0 col3\" >head_count</th> \n",
       "        <th class=\"col_heading level0 col4\" >percentage</th> \n",
       "    </tr></thead> \n",
       "<tbody>    <tr> \n",
       "        <th id=\"T_04a5dc70_5830_11e9_a1bb_701ce71031eflevel0_row0\" class=\"row_heading level0 row0\" >0</th> \n",
       "        <td id=\"T_04a5dc70_5830_11e9_a1bb_701ce71031efrow0_col0\" class=\"data row0 col0\" >beijing</td> \n",
       "        <td id=\"T_04a5dc70_5830_11e9_a1bb_701ce71031efrow0_col1\" class=\"data row0 col1\" >17453.1</td> \n",
       "        <td id=\"T_04a5dc70_5830_11e9_a1bb_701ce71031efrow0_col2\" class=\"data row0 col2\" >15000</td> \n",
       "        <td id=\"T_04a5dc70_5830_11e9_a1bb_701ce71031efrow0_col3\" class=\"data row0 col3\" >13823</td> \n",
       "        <td id=\"T_04a5dc70_5830_11e9_a1bb_701ce71031efrow0_col4\" class=\"data row0 col4\" >17.83%</td> \n",
       "    </tr>    <tr> \n",
       "        <th id=\"T_04a5dc70_5830_11e9_a1bb_701ce71031eflevel0_row1\" class=\"row_heading level0 row1\" >2</th> \n",
       "        <td id=\"T_04a5dc70_5830_11e9_a1bb_701ce71031efrow1_col0\" class=\"data row1 col0\" >shanghai</td> \n",
       "        <td id=\"T_04a5dc70_5830_11e9_a1bb_701ce71031efrow1_col1\" class=\"data row1 col1\" >16626.4</td> \n",
       "        <td id=\"T_04a5dc70_5830_11e9_a1bb_701ce71031efrow1_col2\" class=\"data row1 col2\" >15000</td> \n",
       "        <td id=\"T_04a5dc70_5830_11e9_a1bb_701ce71031efrow1_col3\" class=\"data row1 col3\" >25888</td> \n",
       "        <td id=\"T_04a5dc70_5830_11e9_a1bb_701ce71031efrow1_col4\" class=\"data row1 col4\" >33.39%</td> \n",
       "    </tr>    <tr> \n",
       "        <th id=\"T_04a5dc70_5830_11e9_a1bb_701ce71031eflevel0_row2\" class=\"row_heading level0 row2\" >3</th> \n",
       "        <td id=\"T_04a5dc70_5830_11e9_a1bb_701ce71031efrow2_col0\" class=\"data row2 col0\" >shenzhen</td> \n",
       "        <td id=\"T_04a5dc70_5830_11e9_a1bb_701ce71031efrow2_col1\" class=\"data row2 col1\" >15631.3</td> \n",
       "        <td id=\"T_04a5dc70_5830_11e9_a1bb_701ce71031efrow2_col2\" class=\"data row2 col2\" >14000</td> \n",
       "        <td id=\"T_04a5dc70_5830_11e9_a1bb_701ce71031efrow2_col3\" class=\"data row2 col3\" >20757</td> \n",
       "        <td id=\"T_04a5dc70_5830_11e9_a1bb_701ce71031efrow2_col4\" class=\"data row2 col4\" >26.77%</td> \n",
       "    </tr>    <tr> \n",
       "        <th id=\"T_04a5dc70_5830_11e9_a1bb_701ce71031eflevel0_row3\" class=\"row_heading level0 row3\" >1</th> \n",
       "        <td id=\"T_04a5dc70_5830_11e9_a1bb_701ce71031efrow3_col0\" class=\"data row3 col0\" >guangzhou</td> \n",
       "        <td id=\"T_04a5dc70_5830_11e9_a1bb_701ce71031efrow3_col1\" class=\"data row3 col1\" >13031.7</td> \n",
       "        <td id=\"T_04a5dc70_5830_11e9_a1bb_701ce71031efrow3_col2\" class=\"data row3 col2\" >12000</td> \n",
       "        <td id=\"T_04a5dc70_5830_11e9_a1bb_701ce71031efrow3_col3\" class=\"data row3 col3\" >17068</td> \n",
       "        <td id=\"T_04a5dc70_5830_11e9_a1bb_701ce71031efrow3_col4\" class=\"data row3 col4\" >22.01%</td> \n",
       "    </tr></tbody> \n",
       "</table> "
      ],
      "text/plain": [
       "<pandas.io.formats.style.Styler at 0x22db141b908>"
      ]
     },
     "execution_count": 35,
     "metadata": {},
     "output_type": "execute_result"
    }
   ],
   "source": [
    "data_city=get_sub_stats(data,'city_')\n",
    "data_city.style.format({\"percentage\":\"{:.2%}\"})"
   ]
  },
  {
   "cell_type": "markdown",
   "metadata": {},
   "source": [
    "程序员收入最高的城市分别为：北京，上海，深圳，广州"
   ]
  },
  {
   "cell_type": "code",
   "execution_count": 36,
   "metadata": {},
   "outputs": [],
   "source": [
    "salary_beijing=data[data.city_beijing==1].monthly_salary\n",
    "salary_shanghai=data[data.city_shanghai==1].monthly_salary\n",
    "salary_guangzhou=data[data.city_guangzhou==1].monthly_salary\n",
    "salary_shenzhen=data[data.city_shenzhen==1].monthly_salary"
   ]
  },
  {
   "cell_type": "code",
   "execution_count": 37,
   "metadata": {},
   "outputs": [
    {
     "data": {
      "image/png": "[encoded data removed]",
      "text/plain": [
       "<Figure size 432x288 with 1 Axes>"
      ]
     },
     "metadata": {
      "needs_background": "light"
     },
     "output_type": "display_data"
    }
   ],
   "source": [
    "data=add_category_column(data,'city')\n",
    "order=['shenzhen','guangzhou','shanghai','beijing']\n",
    "order=['beijing','shanghai','guangzhou','shenzhen']\n",
    "\n",
    "sns.boxplot(y='city',x='monthly_salary',order=order,data=data[data.city.isin(order)], orient='h')\n",
    "plt.annotate('https://github.com/juwikuang/job_survey', xy=(0.5,1.5), xytext=(1.2, 1.55))\n",
    "plt.show()"
   ]
  },
  {
   "cell_type": "code",
   "execution_count": null,
   "metadata": {},
   "outputs": [],
   "source": []
  },
  {
   "cell_type": "code",
   "execution_count": 38,
   "metadata": {},
   "outputs": [
    {
     "data": {
      "text/plain": [
       "F_onewayResult(statistic=80.32434741890425, pvalue=3.3121643665903536e-19)"
      ]
     },
     "execution_count": 38,
     "metadata": {},
     "output_type": "execute_result"
    }
   ],
   "source": [
    "stats.f_oneway(salary_beijing, salary_shanghai)"
   ]
  },
  {
   "cell_type": "code",
   "execution_count": 39,
   "metadata": {},
   "outputs": [
    {
     "data": {
      "text/plain": [
       "F_onewayResult(statistic=2290.0597614426306, pvalue=0.0)"
      ]
     },
     "execution_count": 39,
     "metadata": {},
     "output_type": "execute_result"
    }
   ],
   "source": [
    "stats.f_oneway(salary_shanghai, salary_guangzhou)"
   ]
  },
  {
   "cell_type": "code",
   "execution_count": 40,
   "metadata": {},
   "outputs": [
    {
     "data": {
      "text/plain": [
       "F_onewayResult(statistic=1191.135261747661, pvalue=5.103034674562747e-257)"
      ]
     },
     "execution_count": 40,
     "metadata": {},
     "output_type": "execute_result"
    }
   ],
   "source": [
    "stats.f_oneway(salary_guangzhou, salary_shenzhen)"
   ]
  },
  {
   "cell_type": "markdown",
   "metadata": {},
   "source": [
    "统计（Oneway Anova）显示，任何两个城市之间的平均工资差异都是显著的。\n",
    "\n",
    "The average salary between the four cities are significant different."
   ]
  },
  {
   "cell_type": "code",
   "execution_count": 41,
   "metadata": {},
   "outputs": [
    {
     "data": {
      "text/html": [
       "<style  type=\"text/css\" >\n",
       "</style>  \n",
       "<table id=\"T_06604d5c_5830_11e9_835c_701ce71031ef\" > \n",
       "<thead>    <tr> \n",
       "        <th class=\"blank level0\" ></th> \n",
       "        <th class=\"col_heading level0 col0\" >city_</th> \n",
       "        <th class=\"col_heading level0 col1\" >salary_mean</th> \n",
       "        <th class=\"col_heading level0 col2\" >salary_median</th> \n",
       "        <th class=\"col_heading level0 col3\" >head_count</th> \n",
       "        <th class=\"col_heading level0 col4\" >percentage</th> \n",
       "    </tr></thead> \n",
       "<tbody>    <tr> \n",
       "        <th id=\"T_06604d5c_5830_11e9_835c_701ce71031eflevel0_row0\" class=\"row_heading level0 row0\" >2</th> \n",
       "        <td id=\"T_06604d5c_5830_11e9_835c_701ce71031efrow0_col0\" class=\"data row0 col0\" >shanghai</td> \n",
       "        <td id=\"T_06604d5c_5830_11e9_835c_701ce71031efrow0_col1\" class=\"data row0 col1\" >16626.4</td> \n",
       "        <td id=\"T_06604d5c_5830_11e9_835c_701ce71031efrow0_col2\" class=\"data row0 col2\" >15000</td> \n",
       "        <td id=\"T_06604d5c_5830_11e9_835c_701ce71031efrow0_col3\" class=\"data row0 col3\" >25888</td> \n",
       "        <td id=\"T_06604d5c_5830_11e9_835c_701ce71031efrow0_col4\" class=\"data row0 col4\" >33.39%</td> \n",
       "    </tr>    <tr> \n",
       "        <th id=\"T_06604d5c_5830_11e9_835c_701ce71031eflevel0_row1\" class=\"row_heading level0 row1\" >3</th> \n",
       "        <td id=\"T_06604d5c_5830_11e9_835c_701ce71031efrow1_col0\" class=\"data row1 col0\" >shenzhen</td> \n",
       "        <td id=\"T_06604d5c_5830_11e9_835c_701ce71031efrow1_col1\" class=\"data row1 col1\" >15631.3</td> \n",
       "        <td id=\"T_06604d5c_5830_11e9_835c_701ce71031efrow1_col2\" class=\"data row1 col2\" >14000</td> \n",
       "        <td id=\"T_06604d5c_5830_11e9_835c_701ce71031efrow1_col3\" class=\"data row1 col3\" >20757</td> \n",
       "        <td id=\"T_06604d5c_5830_11e9_835c_701ce71031efrow1_col4\" class=\"data row1 col4\" >26.77%</td> \n",
       "    </tr>    <tr> \n",
       "        <th id=\"T_06604d5c_5830_11e9_835c_701ce71031eflevel0_row2\" class=\"row_heading level0 row2\" >1</th> \n",
       "        <td id=\"T_06604d5c_5830_11e9_835c_701ce71031efrow2_col0\" class=\"data row2 col0\" >guangzhou</td> \n",
       "        <td id=\"T_06604d5c_5830_11e9_835c_701ce71031efrow2_col1\" class=\"data row2 col1\" >13031.7</td> \n",
       "        <td id=\"T_06604d5c_5830_11e9_835c_701ce71031efrow2_col2\" class=\"data row2 col2\" >12000</td> \n",
       "        <td id=\"T_06604d5c_5830_11e9_835c_701ce71031efrow2_col3\" class=\"data row2 col3\" >17068</td> \n",
       "        <td id=\"T_06604d5c_5830_11e9_835c_701ce71031efrow2_col4\" class=\"data row2 col4\" >22.01%</td> \n",
       "    </tr>    <tr> \n",
       "        <th id=\"T_06604d5c_5830_11e9_835c_701ce71031eflevel0_row3\" class=\"row_heading level0 row3\" >0</th> \n",
       "        <td id=\"T_06604d5c_5830_11e9_835c_701ce71031efrow3_col0\" class=\"data row3 col0\" >beijing</td> \n",
       "        <td id=\"T_06604d5c_5830_11e9_835c_701ce71031efrow3_col1\" class=\"data row3 col1\" >17453.1</td> \n",
       "        <td id=\"T_06604d5c_5830_11e9_835c_701ce71031efrow3_col2\" class=\"data row3 col2\" >15000</td> \n",
       "        <td id=\"T_06604d5c_5830_11e9_835c_701ce71031efrow3_col3\" class=\"data row3 col3\" >13823</td> \n",
       "        <td id=\"T_06604d5c_5830_11e9_835c_701ce71031efrow3_col4\" class=\"data row3 col4\" >17.83%</td> \n",
       "    </tr></tbody> \n",
       "</table> "
      ],
      "text/plain": [
       "<pandas.io.formats.style.Styler at 0x22da628e0f0>"
      ]
     },
     "execution_count": 41,
     "metadata": {},
     "output_type": "execute_result"
    }
   ],
   "source": [
    "data_city.sort_values(by='head_count', ascending=False).style.format({\"percentage\":\"{:.2%}\"})"
   ]
  },
  {
   "cell_type": "code",
   "execution_count": null,
   "metadata": {},
   "outputs": [],
   "source": []
  },
  {
   "cell_type": "code",
   "execution_count": 42,
   "metadata": {},
   "outputs": [
    {
     "data": {
      "text/plain": [
       "<BarContainer object of 4 artists>"
      ]
     },
     "execution_count": 42,
     "metadata": {},
     "output_type": "execute_result"
    },
    {
     "data": {
      "image/png": "[encoded data removed]",
      "text/plain": [
       "<Figure size 432x288 with 1 Axes>"
      ]
     },
     "metadata": {
      "needs_background": "light"
     },
     "output_type": "display_data"
    }
   ],
   "source": [
    "plt.bar(data_city.city_, data_city.head_count)"
   ]
  },
  {
   "cell_type": "markdown",
   "metadata": {},
   "source": [
    "# 公司 Company"
   ]
  },
  {
   "cell_type": "markdown",
   "metadata": {},
   "source": [
    "## 公司性质 Company Type"
   ]
  },
  {
   "cell_type": "code",
   "execution_count": 43,
   "metadata": {},
   "outputs": [
    {
     "data": {
      "text/html": [
       "<style  type=\"text/css\" >\n",
       "</style>  \n",
       "<table id=\"T_07574292_5830_11e9_855b_701ce71031ef\" > \n",
       "<thead>    <tr> \n",
       "        <th class=\"blank level0\" ></th> \n",
       "        <th class=\"col_heading level0 col0\" >company_type_</th> \n",
       "        <th class=\"col_heading level0 col1\" >salary_mean</th> \n",
       "        <th class=\"col_heading level0 col2\" >salary_median</th> \n",
       "        <th class=\"col_heading level0 col3\" >head_count</th> \n",
       "        <th class=\"col_heading level0 col4\" >percentage</th> \n",
       "    </tr></thead> \n",
       "<tbody>    <tr> \n",
       "        <th id=\"T_07574292_5830_11e9_855b_701ce71031eflevel0_row0\" class=\"row_heading level0 row0\" >9</th> \n",
       "        <td id=\"T_07574292_5830_11e9_855b_701ce71031efrow0_col0\" class=\"data row0 col0\" >us_eu</td> \n",
       "        <td id=\"T_07574292_5830_11e9_855b_701ce71031efrow0_col1\" class=\"data row0 col1\" >18301.1</td> \n",
       "        <td id=\"T_07574292_5830_11e9_855b_701ce71031efrow0_col2\" class=\"data row0 col2\" >17500</td> \n",
       "        <td id=\"T_07574292_5830_11e9_855b_701ce71031efrow0_col3\" class=\"data row0 col3\" >3531</td> \n",
       "        <td id=\"T_07574292_5830_11e9_855b_701ce71031efrow0_col4\" class=\"data row0 col4\" >4.96%</td> \n",
       "    </tr>    <tr> \n",
       "        <th id=\"T_07574292_5830_11e9_855b_701ce71031eflevel0_row1\" class=\"row_heading level0 row1\" >7</th> \n",
       "        <td id=\"T_07574292_5830_11e9_855b_701ce71031efrow1_col0\" class=\"data row1 col0\" >startup</td> \n",
       "        <td id=\"T_07574292_5830_11e9_855b_701ce71031efrow1_col1\" class=\"data row1 col1\" >16353.1</td> \n",
       "        <td id=\"T_07574292_5830_11e9_855b_701ce71031efrow1_col2\" class=\"data row1 col2\" >15000</td> \n",
       "        <td id=\"T_07574292_5830_11e9_855b_701ce71031efrow1_col3\" class=\"data row1 col3\" >1777</td> \n",
       "        <td id=\"T_07574292_5830_11e9_855b_701ce71031efrow1_col4\" class=\"data row1 col4\" >2.50%</td> \n",
       "    </tr>    <tr> \n",
       "        <th id=\"T_07574292_5830_11e9_855b_701ce71031eflevel0_row2\" class=\"row_heading level0 row2\" >3</th> \n",
       "        <td id=\"T_07574292_5830_11e9_855b_701ce71031efrow2_col0\" class=\"data row2 col0\" >listed</td> \n",
       "        <td id=\"T_07574292_5830_11e9_855b_701ce71031efrow2_col1\" class=\"data row2 col1\" >16278.8</td> \n",
       "        <td id=\"T_07574292_5830_11e9_855b_701ce71031efrow2_col2\" class=\"data row2 col2\" >15000</td> \n",
       "        <td id=\"T_07574292_5830_11e9_855b_701ce71031efrow2_col3\" class=\"data row2 col3\" >7197</td> \n",
       "        <td id=\"T_07574292_5830_11e9_855b_701ce71031efrow2_col4\" class=\"data row2 col4\" >10.12%</td> \n",
       "    </tr>    <tr> \n",
       "        <th id=\"T_07574292_5830_11e9_855b_701ce71031eflevel0_row3\" class=\"row_heading level0 row3\" >2</th> \n",
       "        <td id=\"T_07574292_5830_11e9_855b_701ce71031efrow3_col0\" class=\"data row3 col0\" >foreign_rep</td> \n",
       "        <td id=\"T_07574292_5830_11e9_855b_701ce71031efrow3_col1\" class=\"data row3 col1\" >15714.3</td> \n",
       "        <td id=\"T_07574292_5830_11e9_855b_701ce71031efrow3_col2\" class=\"data row3 col2\" >12500</td> \n",
       "        <td id=\"T_07574292_5830_11e9_855b_701ce71031efrow3_col3\" class=\"data row3 col3\" >56</td> \n",
       "        <td id=\"T_07574292_5830_11e9_855b_701ce71031efrow3_col4\" class=\"data row3 col4\" >0.08%</td> \n",
       "    </tr>    <tr> \n",
       "        <th id=\"T_07574292_5830_11e9_855b_701ce71031eflevel0_row4\" class=\"row_heading level0 row4\" >8</th> \n",
       "        <td id=\"T_07574292_5830_11e9_855b_701ce71031efrow4_col0\" class=\"data row4 col0\" >state</td> \n",
       "        <td id=\"T_07574292_5830_11e9_855b_701ce71031efrow4_col1\" class=\"data row4 col1\" >15500.8</td> \n",
       "        <td id=\"T_07574292_5830_11e9_855b_701ce71031efrow4_col2\" class=\"data row4 col2\" >14000</td> \n",
       "        <td id=\"T_07574292_5830_11e9_855b_701ce71031efrow4_col3\" class=\"data row4 col3\" >3795</td> \n",
       "        <td id=\"T_07574292_5830_11e9_855b_701ce71031efrow4_col4\" class=\"data row4 col4\" >5.33%</td> \n",
       "    </tr>    <tr> \n",
       "        <th id=\"T_07574292_5830_11e9_855b_701ce71031eflevel0_row5\" class=\"row_heading level0 row5\" >5</th> \n",
       "        <td id=\"T_07574292_5830_11e9_855b_701ce71031efrow5_col0\" class=\"data row5 col0\" >private</td> \n",
       "        <td id=\"T_07574292_5830_11e9_855b_701ce71031efrow5_col1\" class=\"data row5 col1\" >15451.8</td> \n",
       "        <td id=\"T_07574292_5830_11e9_855b_701ce71031efrow5_col2\" class=\"data row5 col2\" >13000</td> \n",
       "        <td id=\"T_07574292_5830_11e9_855b_701ce71031efrow5_col3\" class=\"data row5 col3\" >50380</td> \n",
       "        <td id=\"T_07574292_5830_11e9_855b_701ce71031efrow5_col4\" class=\"data row5 col4\" >70.81%</td> \n",
       "    </tr>    <tr> \n",
       "        <th id=\"T_07574292_5830_11e9_855b_701ce71031eflevel0_row6\" class=\"row_heading level0 row6\" >0</th> \n",
       "        <td id=\"T_07574292_5830_11e9_855b_701ce71031efrow6_col0\" class=\"data row6 col0\" >foreign</td> \n",
       "        <td id=\"T_07574292_5830_11e9_855b_701ce71031efrow6_col1\" class=\"data row6 col1\" >15226.2</td> \n",
       "        <td id=\"T_07574292_5830_11e9_855b_701ce71031efrow6_col2\" class=\"data row6 col2\" >12500</td> \n",
       "        <td id=\"T_07574292_5830_11e9_855b_701ce71031efrow6_col3\" class=\"data row6 col3\" >3895</td> \n",
       "        <td id=\"T_07574292_5830_11e9_855b_701ce71031efrow6_col4\" class=\"data row6 col4\" >5.47%</td> \n",
       "    </tr>    <tr> \n",
       "        <th id=\"T_07574292_5830_11e9_855b_701ce71031eflevel0_row7\" class=\"row_heading level0 row7\" >6</th> \n",
       "        <td id=\"T_07574292_5830_11e9_855b_701ce71031efrow7_col0\" class=\"data row7 col0\" >public_institution</td> \n",
       "        <td id=\"T_07574292_5830_11e9_855b_701ce71031efrow7_col1\" class=\"data row7 col1\" >14149.4</td> \n",
       "        <td id=\"T_07574292_5830_11e9_855b_701ce71031efrow7_col2\" class=\"data row7 col2\" >12500</td> \n",
       "        <td id=\"T_07574292_5830_11e9_855b_701ce71031efrow7_col3\" class=\"data row7 col3\" >436</td> \n",
       "        <td id=\"T_07574292_5830_11e9_855b_701ce71031efrow7_col4\" class=\"data row7 col4\" >0.61%</td> \n",
       "    </tr>    <tr> \n",
       "        <th id=\"T_07574292_5830_11e9_855b_701ce71031eflevel0_row8\" class=\"row_heading level0 row8\" >4</th> \n",
       "        <td id=\"T_07574292_5830_11e9_855b_701ce71031efrow8_col0\" class=\"data row8 col0\" >non_profit</td> \n",
       "        <td id=\"T_07574292_5830_11e9_855b_701ce71031efrow8_col1\" class=\"data row8 col1\" >11548.8</td> \n",
       "        <td id=\"T_07574292_5830_11e9_855b_701ce71031efrow8_col2\" class=\"data row8 col2\" >10500</td> \n",
       "        <td id=\"T_07574292_5830_11e9_855b_701ce71031efrow8_col3\" class=\"data row8 col3\" >70</td> \n",
       "        <td id=\"T_07574292_5830_11e9_855b_701ce71031efrow8_col4\" class=\"data row8 col4\" >0.10%</td> \n",
       "    </tr>    <tr> \n",
       "        <th id=\"T_07574292_5830_11e9_855b_701ce71031eflevel0_row9\" class=\"row_heading level0 row9\" >1</th> \n",
       "        <td id=\"T_07574292_5830_11e9_855b_701ce71031efrow9_col0\" class=\"data row9 col0\" >foreign_gov</td> \n",
       "        <td id=\"T_07574292_5830_11e9_855b_701ce71031efrow9_col1\" class=\"data row9 col1\" >10527.8</td> \n",
       "        <td id=\"T_07574292_5830_11e9_855b_701ce71031efrow9_col2\" class=\"data row9 col2\" >7000</td> \n",
       "        <td id=\"T_07574292_5830_11e9_855b_701ce71031efrow9_col3\" class=\"data row9 col3\" >9</td> \n",
       "        <td id=\"T_07574292_5830_11e9_855b_701ce71031efrow9_col4\" class=\"data row9 col4\" >0.01%</td> \n",
       "    </tr></tbody> \n",
       "</table> "
      ],
      "text/plain": [
       "<pandas.io.formats.style.Styler at 0x22da855a6a0>"
      ]
     },
     "execution_count": 43,
     "metadata": {},
     "output_type": "execute_result"
    }
   ],
   "source": [
    "data_company_type=get_sub_stats(data,'company_type_')\n",
    "data_company_type.style.format({\"percentage\":\"{:.2%}\"})"
   ]
  },
  {
   "cell_type": "markdown",
   "metadata": {},
   "source": [
    "us_eu是欧美外企，startup是创业公司，listed是上市公司，state是国企，private是私企，foreign是非欧美外企，其他不足1000个样本的不管了。"
   ]
  },
  {
   "cell_type": "code",
   "execution_count": 44,
   "metadata": {},
   "outputs": [],
   "source": [
    "salary_us_eu=data[data.company_type_us_eu==1].monthly_salary\n",
    "salary_startup=data[data.company_type_startup==1].monthly_salary\n",
    "salary_listed=data[data.company_type_listed==1].monthly_salary"
   ]
  },
  {
   "cell_type": "code",
   "execution_count": 45,
   "metadata": {},
   "outputs": [
    {
     "data": {
      "text/plain": [
       "F_onewayResult(statistic=53.96465474051579, pvalue=2.351111467004394e-13)"
      ]
     },
     "execution_count": 45,
     "metadata": {},
     "output_type": "execute_result"
    }
   ],
   "source": [
    "stats.f_oneway(salary_us_eu,salary_startup)"
   ]
  },
  {
   "cell_type": "code",
   "execution_count": 46,
   "metadata": {},
   "outputs": [
    {
     "data": {
      "text/plain": [
       "F_onewayResult(statistic=146.1796365323301, pvalue=1.9559438664827014e-33)"
      ]
     },
     "execution_count": 46,
     "metadata": {},
     "output_type": "execute_result"
    }
   ],
   "source": [
    "stats.f_oneway(salary_us_eu,salary_listed)"
   ]
  },
  {
   "cell_type": "markdown",
   "metadata": {},
   "source": [
    "由上报可知，欧美外企的工资显著高于其他企业。比创业公司和上司公司足足高了2000元呀。要努力学好英语呀！\n",
    "\n",
    "顺便做个广告，大家如果想通过看美剧或者看英文书提高英语，可以上我的网站，美剧单词网。里面会把你不懂的单词列出来，你再去听美剧，听英语有声书（网站提供），就能听懂了。\n",
    "\n",
    "https://www.tvshowwords.com/\n"
   ]
  },
  {
   "cell_type": "markdown",
   "metadata": {},
   "source": [
    "## 公司规模 Company Size"
   ]
  },
  {
   "cell_type": "code",
   "execution_count": 47,
   "metadata": {},
   "outputs": [
    {
     "data": {
      "text/html": [
       "<style  type=\"text/css\" >\n",
       "</style>  \n",
       "<table id=\"T_08a16912_5830_11e9_9e82_701ce71031ef\" > \n",
       "<thead>    <tr> \n",
       "        <th class=\"blank level0\" ></th> \n",
       "        <th class=\"col_heading level0 col0\" >company_size_</th> \n",
       "        <th class=\"col_heading level0 col1\" >salary_mean</th> \n",
       "        <th class=\"col_heading level0 col2\" >salary_median</th> \n",
       "        <th class=\"col_heading level0 col3\" >head_count</th> \n",
       "        <th class=\"col_heading level0 col4\" >percentage</th> \n",
       "    </tr></thead> \n",
       "<tbody>    <tr> \n",
       "        <th id=\"T_08a16912_5830_11e9_9e82_701ce71031eflevel0_row0\" class=\"row_heading level0 row0\" >0</th> \n",
       "        <td id=\"T_08a16912_5830_11e9_9e82_701ce71031efrow0_col0\" class=\"data row0 col0\" >10000</td> \n",
       "        <td id=\"T_08a16912_5830_11e9_9e82_701ce71031efrow0_col1\" class=\"data row0 col1\" >21269.5</td> \n",
       "        <td id=\"T_08a16912_5830_11e9_9e82_701ce71031efrow0_col2\" class=\"data row0 col2\" >17500</td> \n",
       "        <td id=\"T_08a16912_5830_11e9_9e82_701ce71031efrow0_col3\" class=\"data row0 col3\" >3676</td> \n",
       "        <td id=\"T_08a16912_5830_11e9_9e82_701ce71031efrow0_col4\" class=\"data row0 col4\" >4.76%</td> \n",
       "    </tr>    <tr> \n",
       "        <th id=\"T_08a16912_5830_11e9_9e82_701ce71031eflevel0_row1\" class=\"row_heading level0 row1\" >1</th> \n",
       "        <td id=\"T_08a16912_5830_11e9_9e82_701ce71031efrow1_col0\" class=\"data row1 col0\" >1000_5000</td> \n",
       "        <td id=\"T_08a16912_5830_11e9_9e82_701ce71031efrow1_col1\" class=\"data row1 col1\" >16960</td> \n",
       "        <td id=\"T_08a16912_5830_11e9_9e82_701ce71031efrow1_col2\" class=\"data row1 col2\" >15000</td> \n",
       "        <td id=\"T_08a16912_5830_11e9_9e82_701ce71031efrow1_col3\" class=\"data row1 col3\" >10858</td> \n",
       "        <td id=\"T_08a16912_5830_11e9_9e82_701ce71031efrow1_col4\" class=\"data row1 col4\" >14.06%</td> \n",
       "    </tr>    <tr> \n",
       "        <th id=\"T_08a16912_5830_11e9_9e82_701ce71031eflevel0_row2\" class=\"row_heading level0 row2\" >4</th> \n",
       "        <td id=\"T_08a16912_5830_11e9_9e82_701ce71031efrow2_col0\" class=\"data row2 col0\" >5000_10000</td> \n",
       "        <td id=\"T_08a16912_5830_11e9_9e82_701ce71031efrow2_col1\" class=\"data row2 col1\" >16854.4</td> \n",
       "        <td id=\"T_08a16912_5830_11e9_9e82_701ce71031efrow2_col2\" class=\"data row2 col2\" >15000</td> \n",
       "        <td id=\"T_08a16912_5830_11e9_9e82_701ce71031efrow2_col3\" class=\"data row2 col3\" >1784</td> \n",
       "        <td id=\"T_08a16912_5830_11e9_9e82_701ce71031efrow2_col4\" class=\"data row2 col4\" >2.31%</td> \n",
       "    </tr>    <tr> \n",
       "        <th id=\"T_08a16912_5830_11e9_9e82_701ce71031eflevel0_row3\" class=\"row_heading level0 row3\" >5</th> \n",
       "        <td id=\"T_08a16912_5830_11e9_9e82_701ce71031efrow3_col0\" class=\"data row3 col0\" >500_1000</td> \n",
       "        <td id=\"T_08a16912_5830_11e9_9e82_701ce71031efrow3_col1\" class=\"data row3 col1\" >16762.5</td> \n",
       "        <td id=\"T_08a16912_5830_11e9_9e82_701ce71031efrow3_col2\" class=\"data row3 col2\" >15000</td> \n",
       "        <td id=\"T_08a16912_5830_11e9_9e82_701ce71031efrow3_col3\" class=\"data row3 col3\" >8274</td> \n",
       "        <td id=\"T_08a16912_5830_11e9_9e82_701ce71031efrow3_col4\" class=\"data row3 col4\" >10.71%</td> \n",
       "    </tr>    <tr> \n",
       "        <th id=\"T_08a16912_5830_11e9_9e82_701ce71031eflevel0_row4\" class=\"row_heading level0 row4\" >2</th> \n",
       "        <td id=\"T_08a16912_5830_11e9_9e82_701ce71031efrow4_col0\" class=\"data row4 col0\" >150_500</td> \n",
       "        <td id=\"T_08a16912_5830_11e9_9e82_701ce71031efrow4_col1\" class=\"data row4 col1\" >15714.7</td> \n",
       "        <td id=\"T_08a16912_5830_11e9_9e82_701ce71031efrow4_col2\" class=\"data row4 col2\" >14000</td> \n",
       "        <td id=\"T_08a16912_5830_11e9_9e82_701ce71031efrow4_col3\" class=\"data row4 col3\" >17839</td> \n",
       "        <td id=\"T_08a16912_5830_11e9_9e82_701ce71031efrow4_col4\" class=\"data row4 col4\" >23.09%</td> \n",
       "    </tr>    <tr> \n",
       "        <th id=\"T_08a16912_5830_11e9_9e82_701ce71031eflevel0_row5\" class=\"row_heading level0 row5\" >6</th> \n",
       "        <td id=\"T_08a16912_5830_11e9_9e82_701ce71031efrow5_col0\" class=\"data row5 col0\" >50_150</td> \n",
       "        <td id=\"T_08a16912_5830_11e9_9e82_701ce71031efrow5_col1\" class=\"data row5 col1\" >14682.2</td> \n",
       "        <td id=\"T_08a16912_5830_11e9_9e82_701ce71031efrow5_col2\" class=\"data row5 col2\" >12500</td> \n",
       "        <td id=\"T_08a16912_5830_11e9_9e82_701ce71031efrow5_col3\" class=\"data row5 col3\" >22547</td> \n",
       "        <td id=\"T_08a16912_5830_11e9_9e82_701ce71031efrow5_col4\" class=\"data row5 col4\" >29.19%</td> \n",
       "    </tr>    <tr> \n",
       "        <th id=\"T_08a16912_5830_11e9_9e82_701ce71031eflevel0_row6\" class=\"row_heading level0 row6\" >3</th> \n",
       "        <td id=\"T_08a16912_5830_11e9_9e82_701ce71031efrow6_col0\" class=\"data row6 col0\" >50</td> \n",
       "        <td id=\"T_08a16912_5830_11e9_9e82_701ce71031efrow6_col1\" class=\"data row6 col1\" >13900.6</td> \n",
       "        <td id=\"T_08a16912_5830_11e9_9e82_701ce71031efrow6_col2\" class=\"data row6 col2\" >12500</td> \n",
       "        <td id=\"T_08a16912_5830_11e9_9e82_701ce71031efrow6_col3\" class=\"data row6 col3\" >12268</td> \n",
       "        <td id=\"T_08a16912_5830_11e9_9e82_701ce71031efrow6_col4\" class=\"data row6 col4\" >15.88%</td> \n",
       "    </tr></tbody> \n",
       "</table> "
      ],
      "text/plain": [
       "<pandas.io.formats.style.Styler at 0x22da8550f28>"
      ]
     },
     "execution_count": 47,
     "metadata": {},
     "output_type": "execute_result"
    }
   ],
   "source": [
    "data_company_size=get_sub_stats(data,'company_size_')\n",
    "data_company_size.style.format({\"percentage\":\"{:.2%}\"})"
   ]
  },
  {
   "cell_type": "markdown",
   "metadata": {},
   "source": [
    "公司越大，工资越高"
   ]
  },
  {
   "cell_type": "markdown",
   "metadata": {},
   "source": [
    "## 行业 Industry"
   ]
  },
  {
   "cell_type": "code",
   "execution_count": 48,
   "metadata": {},
   "outputs": [
    {
     "data": {
      "text/html": [
       "<style  type=\"text/css\" >\n",
       "</style>  \n",
       "<table id=\"T_0941e5c2_5830_11e9_a12d_701ce71031ef\" > \n",
       "<thead>    <tr> \n",
       "        <th class=\"blank level0\" ></th> \n",
       "        <th class=\"col_heading level0 col0\" >industry_</th> \n",
       "        <th class=\"col_heading level0 col1\" >salary_mean</th> \n",
       "        <th class=\"col_heading level0 col2\" >salary_median</th> \n",
       "        <th class=\"col_heading level0 col3\" >head_count</th> \n",
       "        <th class=\"col_heading level0 col4\" >percentage</th> \n",
       "    </tr></thead> \n",
       "<tbody>    <tr> \n",
       "        <th id=\"T_0941e5c2_5830_11e9_a12d_701ce71031eflevel0_row0\" class=\"row_heading level0 row0\" >4</th> \n",
       "        <td id=\"T_0941e5c2_5830_11e9_a12d_701ce71031efrow0_col0\" class=\"data row0 col0\" >finance</td> \n",
       "        <td id=\"T_0941e5c2_5830_11e9_a12d_701ce71031efrow0_col1\" class=\"data row0 col1\" >17488.9</td> \n",
       "        <td id=\"T_0941e5c2_5830_11e9_a12d_701ce71031efrow0_col2\" class=\"data row0 col2\" >16000</td> \n",
       "        <td id=\"T_0941e5c2_5830_11e9_a12d_701ce71031efrow0_col3\" class=\"data row0 col3\" >3766</td> \n",
       "        <td id=\"T_0941e5c2_5830_11e9_a12d_701ce71031efrow0_col4\" class=\"data row0 col4\" >3.99%</td> \n",
       "    </tr>    <tr> \n",
       "        <th id=\"T_0941e5c2_5830_11e9_a12d_701ce71031eflevel0_row1\" class=\"row_heading level0 row1\" >2</th> \n",
       "        <td id=\"T_0941e5c2_5830_11e9_a12d_701ce71031efrow1_col0\" class=\"data row1 col0\" >edu</td> \n",
       "        <td id=\"T_0941e5c2_5830_11e9_a12d_701ce71031efrow1_col1\" class=\"data row1 col1\" >17159.8</td> \n",
       "        <td id=\"T_0941e5c2_5830_11e9_a12d_701ce71031efrow1_col2\" class=\"data row1 col2\" >15000</td> \n",
       "        <td id=\"T_0941e5c2_5830_11e9_a12d_701ce71031efrow1_col3\" class=\"data row1 col3\" >5812</td> \n",
       "        <td id=\"T_0941e5c2_5830_11e9_a12d_701ce71031efrow1_col4\" class=\"data row1 col4\" >6.16%</td> \n",
       "    </tr>    <tr> \n",
       "        <th id=\"T_0941e5c2_5830_11e9_a12d_701ce71031eflevel0_row2\" class=\"row_heading level0 row2\" >9</th> \n",
       "        <td id=\"T_0941e5c2_5830_11e9_a12d_701ce71031efrow2_col0\" class=\"data row2 col0\" >service</td> \n",
       "        <td id=\"T_0941e5c2_5830_11e9_a12d_701ce71031efrow2_col1\" class=\"data row2 col1\" >16134.1</td> \n",
       "        <td id=\"T_0941e5c2_5830_11e9_a12d_701ce71031efrow2_col2\" class=\"data row2 col2\" >14583.3</td> \n",
       "        <td id=\"T_0941e5c2_5830_11e9_a12d_701ce71031efrow2_col3\" class=\"data row2 col3\" >933</td> \n",
       "        <td id=\"T_0941e5c2_5830_11e9_a12d_701ce71031efrow2_col4\" class=\"data row2 col4\" >0.99%</td> \n",
       "    </tr>    <tr> \n",
       "        <th id=\"T_0941e5c2_5830_11e9_a12d_701ce71031eflevel0_row3\" class=\"row_heading level0 row3\" >6</th> \n",
       "        <td id=\"T_0941e5c2_5830_11e9_a12d_701ce71031efrow3_col0\" class=\"data row3 col0\" >logistic</td> \n",
       "        <td id=\"T_0941e5c2_5830_11e9_a12d_701ce71031efrow3_col1\" class=\"data row3 col1\" >15996.2</td> \n",
       "        <td id=\"T_0941e5c2_5830_11e9_a12d_701ce71031efrow3_col2\" class=\"data row3 col2\" >14000</td> \n",
       "        <td id=\"T_0941e5c2_5830_11e9_a12d_701ce71031efrow3_col3\" class=\"data row3 col3\" >1350</td> \n",
       "        <td id=\"T_0941e5c2_5830_11e9_a12d_701ce71031efrow3_col4\" class=\"data row3 col4\" >1.43%</td> \n",
       "    </tr>    <tr> \n",
       "        <th id=\"T_0941e5c2_5830_11e9_a12d_701ce71031eflevel0_row4\" class=\"row_heading level0 row4\" >1</th> \n",
       "        <td id=\"T_0941e5c2_5830_11e9_a12d_701ce71031efrow4_col0\" class=\"data row4 col0\" >computer</td> \n",
       "        <td id=\"T_0941e5c2_5830_11e9_a12d_701ce71031efrow4_col1\" class=\"data row4 col1\" >15752.1</td> \n",
       "        <td id=\"T_0941e5c2_5830_11e9_a12d_701ce71031efrow4_col2\" class=\"data row4 col2\" >14000</td> \n",
       "        <td id=\"T_0941e5c2_5830_11e9_a12d_701ce71031efrow4_col3\" class=\"data row4 col3\" >65762</td> \n",
       "        <td id=\"T_0941e5c2_5830_11e9_a12d_701ce71031efrow4_col4\" class=\"data row4 col4\" >69.72%</td> \n",
       "    </tr>    <tr> \n",
       "        <th id=\"T_0941e5c2_5830_11e9_a12d_701ce71031eflevel0_row5\" class=\"row_heading level0 row5\" >5</th> \n",
       "        <td id=\"T_0941e5c2_5830_11e9_a12d_701ce71031efrow5_col0\" class=\"data row5 col0\" >gov</td> \n",
       "        <td id=\"T_0941e5c2_5830_11e9_a12d_701ce71031efrow5_col1\" class=\"data row5 col1\" >15275.6</td> \n",
       "        <td id=\"T_0941e5c2_5830_11e9_a12d_701ce71031efrow5_col2\" class=\"data row5 col2\" >12500</td> \n",
       "        <td id=\"T_0941e5c2_5830_11e9_a12d_701ce71031efrow5_col3\" class=\"data row5 col3\" >1954</td> \n",
       "        <td id=\"T_0941e5c2_5830_11e9_a12d_701ce71031efrow5_col4\" class=\"data row5 col4\" >2.07%</td> \n",
       "    </tr>    <tr> \n",
       "        <th id=\"T_0941e5c2_5830_11e9_a12d_701ce71031eflevel0_row6\" class=\"row_heading level0 row6\" >10</th> \n",
       "        <td id=\"T_0941e5c2_5830_11e9_a12d_701ce71031efrow6_col0\" class=\"data row6 col0\" >trade</td> \n",
       "        <td id=\"T_0941e5c2_5830_11e9_a12d_701ce71031efrow6_col1\" class=\"data row6 col1\" >15062.7</td> \n",
       "        <td id=\"T_0941e5c2_5830_11e9_a12d_701ce71031efrow6_col2\" class=\"data row6 col2\" >12500</td> \n",
       "        <td id=\"T_0941e5c2_5830_11e9_a12d_701ce71031efrow6_col3\" class=\"data row6 col3\" >7199</td> \n",
       "        <td id=\"T_0941e5c2_5830_11e9_a12d_701ce71031efrow6_col4\" class=\"data row6 col4\" >7.63%</td> \n",
       "    </tr>    <tr> \n",
       "        <th id=\"T_0941e5c2_5830_11e9_a12d_701ce71031eflevel0_row7\" class=\"row_heading level0 row7\" >7</th> \n",
       "        <td id=\"T_0941e5c2_5830_11e9_a12d_701ce71031efrow7_col0\" class=\"data row7 col0\" >medical</td> \n",
       "        <td id=\"T_0941e5c2_5830_11e9_a12d_701ce71031efrow7_col1\" class=\"data row7 col1\" >14738.3</td> \n",
       "        <td id=\"T_0941e5c2_5830_11e9_a12d_701ce71031efrow7_col2\" class=\"data row7 col2\" >13000</td> \n",
       "        <td id=\"T_0941e5c2_5830_11e9_a12d_701ce71031efrow7_col3\" class=\"data row7 col3\" >2386</td> \n",
       "        <td id=\"T_0941e5c2_5830_11e9_a12d_701ce71031efrow7_col4\" class=\"data row7 col4\" >2.53%</td> \n",
       "    </tr>    <tr> \n",
       "        <th id=\"T_0941e5c2_5830_11e9_a12d_701ce71031eflevel0_row8\" class=\"row_heading level0 row8\" >8</th> \n",
       "        <td id=\"T_0941e5c2_5830_11e9_a12d_701ce71031efrow8_col0\" class=\"data row8 col0\" >realestate</td> \n",
       "        <td id=\"T_0941e5c2_5830_11e9_a12d_701ce71031efrow8_col1\" class=\"data row8 col1\" >14676.8</td> \n",
       "        <td id=\"T_0941e5c2_5830_11e9_a12d_701ce71031efrow8_col2\" class=\"data row8 col2\" >12500</td> \n",
       "        <td id=\"T_0941e5c2_5830_11e9_a12d_701ce71031efrow8_col3\" class=\"data row8 col3\" >1710</td> \n",
       "        <td id=\"T_0941e5c2_5830_11e9_a12d_701ce71031efrow8_col4\" class=\"data row8 col4\" >1.81%</td> \n",
       "    </tr>    <tr> \n",
       "        <th id=\"T_0941e5c2_5830_11e9_a12d_701ce71031eflevel0_row9\" class=\"row_heading level0 row9\" >0</th> \n",
       "        <td id=\"T_0941e5c2_5830_11e9_a12d_701ce71031efrow9_col0\" class=\"data row9 col0\" >ads</td> \n",
       "        <td id=\"T_0941e5c2_5830_11e9_a12d_701ce71031efrow9_col1\" class=\"data row9 col1\" >14406.6</td> \n",
       "        <td id=\"T_0941e5c2_5830_11e9_a12d_701ce71031efrow9_col2\" class=\"data row9 col2\" >12500</td> \n",
       "        <td id=\"T_0941e5c2_5830_11e9_a12d_701ce71031efrow9_col3\" class=\"data row9 col3\" >1815</td> \n",
       "        <td id=\"T_0941e5c2_5830_11e9_a12d_701ce71031efrow9_col4\" class=\"data row9 col4\" >1.92%</td> \n",
       "    </tr>    <tr> \n",
       "        <th id=\"T_0941e5c2_5830_11e9_a12d_701ce71031eflevel0_row10\" class=\"row_heading level0 row10\" >3</th> \n",
       "        <td id=\"T_0941e5c2_5830_11e9_a12d_701ce71031efrow10_col0\" class=\"data row10 col0\" >energy</td> \n",
       "        <td id=\"T_0941e5c2_5830_11e9_a12d_701ce71031efrow10_col1\" class=\"data row10 col1\" >14319.6</td> \n",
       "        <td id=\"T_0941e5c2_5830_11e9_a12d_701ce71031efrow10_col2\" class=\"data row10 col2\" >12500</td> \n",
       "        <td id=\"T_0941e5c2_5830_11e9_a12d_701ce71031efrow10_col3\" class=\"data row10 col3\" >1635</td> \n",
       "        <td id=\"T_0941e5c2_5830_11e9_a12d_701ce71031efrow10_col4\" class=\"data row10 col4\" >1.73%</td> \n",
       "    </tr></tbody> \n",
       "</table> "
      ],
      "text/plain": [
       "<pandas.io.formats.style.Styler at 0x22daddc9390>"
      ]
     },
     "execution_count": 48,
     "metadata": {},
     "output_type": "execute_result"
    }
   ],
   "source": [
    "data_industry=get_sub_stats(data,'industry_')\n",
    "data_industry.style.format({\"percentage\":\"{:.2%}\"})"
   ]
  },
  {
   "cell_type": "markdown",
   "metadata": {},
   "source": [
    "金融业果然是工资最高的。"
   ]
  },
  {
   "cell_type": "code",
   "execution_count": null,
   "metadata": {},
   "outputs": [],
   "source": []
  },
  {
   "cell_type": "code",
   "execution_count": null,
   "metadata": {},
   "outputs": [],
   "source": []
  }
 ],
 "metadata": {
  "kernelspec": {
   "display_name": "Python 3",
   "language": "python",
   "name": "python3"
  },
  "language_info": {
   "codemirror_mode": {
    "name": "ipython",
    "version": 3
   },
   "file_extension": ".py",
   "mimetype": "text/x-python",
   "name": "python",
   "nbconvert_exporter": "python",
   "pygments_lexer": "ipython3",
   "version": "3.7.1"
  }
 },
 "nbformat": 4,
 "nbformat_minor": 2
}
