{
 "cells": [
  {
   "cell_type": "markdown",
   "metadata": {},
   "source": [
    "# Salary in First Tier Cities 一线城市工资调查\n",
    "我在4月1日到3日之间，抓取了某招聘网站的软件和互联网类招聘数据40万条，其中通过程序判断为程序员的14万条。地域方面，我选择了24个主要城市。不过本文只以一线城市为研究对象。这样是为了和我2017年6月的数据做对比。\n",
    "\n",
    "提到2017年的文章，现在居然还有很多人，把这篇文章拿出来炒作。对于社会来说，可气的是，他们直接把2017改成2019，就发表了，这不是骗人么？！对于我来说，可气的是，他们转载居然还冒充是原创，是可忍熟不可忍！"
   ]
  },
  {
   "cell_type": "markdown",
   "metadata": {},
   "source": []
  },
  {
   "cell_type": "code",
   "execution_count": 1,
   "metadata": {},
   "outputs": [],
   "source": [
    "import pandas as pd\n",
    "import db\n",
    "import inspect\n",
    "import matplotlib.pyplot as plt\n",
    "import scipy.stats as stats\n",
    "import numpy as np\n",
    "%matplotlib inline"
   ]
  },
  {
   "cell_type": "code",
   "execution_count": 40,
   "metadata": {},
   "outputs": [],
   "source": [
    "conn=db.get_conn()\n",
    "developers_in_24_cities=conn.execute('select count(1) from _51jobs where monthly_salary>0 and monthly_salary<15').fetchall()[0][0]\n",
    "data_original=pd.read_sql(sql=\"select * from _51jobs where (city_beijing=1 or city_shanghai=1 or city_guangzhou=1 or city_shenzhen=1) and monthly_salary>0 and monthly_salary<15\", con=conn)\n",
    "conn.close()"
   ]
  },
  {
   "cell_type": "code",
   "execution_count": 41,
   "metadata": {},
   "outputs": [],
   "source": [
    "error_job_ids=['104660258','104142922','108434795','101357291','106253516','110368302','111391233','108665401','109277048'\n",
    "                  ,'73857191','108584955','102824950','102824949','111391233','110884556']\n",
    "data=data_original[~data_original.job_id.isin(error_job_ids)]"
   ]
  },
  {
   "cell_type": "code",
   "execution_count": 42,
   "metadata": {},
   "outputs": [],
   "source": [
    "del data['publish_date']\n",
    "del data['published_on_weekend']\n",
    "del data['title']\n",
    "del data['company_title']\n",
    "del data['company_description']\n",
    "del data['job_description']\n",
    "del data['job_id']"
   ]
  },
  {
   "cell_type": "code",
   "execution_count": 68,
   "metadata": {},
   "outputs": [],
   "source": [
    "for col in data.columns:\n",
    "    if col.startswith('city_') and not col in ['city_beijing','city_shanghai','city_guangzhou','city_shenzhen']:\n",
    "        del data[col]"
   ]
  },
  {
   "cell_type": "markdown",
   "metadata": {},
   "source": [
    "# Unilateral Stats 总体统计"
   ]
  },
  {
   "cell_type": "code",
   "execution_count": 69,
   "metadata": {},
   "outputs": [
    {
     "name": "stdout",
     "output_type": "stream",
     "text": [
      "139573 Jobs found in all the 24 major cities in China. 77536 or 55.55% of them are in the first tier cities.\n"
     ]
    }
   ],
   "source": [
    "print('{} Jobs found in all the 24 major cities in China. {} or {:.2%} of them are in the first tier cities.'.\n",
    "      format(developers_in_24_cities, data.shape[0], data.shape[0]*1.0/developers_in_24_cities))"
   ]
  },
  {
   "cell_type": "code",
   "execution_count": 70,
   "metadata": {},
   "outputs": [
    {
     "name": "stdout",
     "output_type": "stream",
     "text": [
      "在24个主要城市中，共找到139573个职位，其中77536（55.55%）属于一线城市。\n"
     ]
    }
   ],
   "source": [
    "print('在24个主要城市中，共找到{}个职位，其中{}（{:.2%}）属于一线城市。'.\n",
    "      format(developers_in_24_cities, data.shape[0], data.shape[0]*1.0/developers_in_24_cities))"
   ]
  },
  {
   "cell_type": "markdown",
   "metadata": {},
   "source": [
    "有数据可知，程序员向一线城市集中的趋势非常明显。\n",
    "\n",
    "According to the statistics, significant amount of developers are in the first tier cities."
   ]
  },
  {
   "cell_type": "code",
   "execution_count": 71,
   "metadata": {},
   "outputs": [
    {
     "name": "stdout",
     "output_type": "stream",
     "text": [
      "2019年中国大陆一线城市程序员的平均工资为15716元，工资中位数为14000元，其中95%的人的工资位于5250到36500元之间。\n"
     ]
    }
   ],
   "source": [
    "salary_mean=data.monthly_salary.mean()*10000\n",
    "salary_median=data.monthly_salary.median()*10000\n",
    "q=np.quantile(data.monthly_salary,[0.025,0.975])*10000\n",
    "print('2019年中国大陆一线城市程序员的平均工资为{:.0f}元，工资中位数为{:.0f}元，其中95%的人的工资位于{:.0f}到{:.0f}元之间。'\n",
    "      .format(salary_mean, salary_median, q[0], q[1]))"
   ]
  },
  {
   "cell_type": "code",
   "execution_count": 72,
   "metadata": {},
   "outputs": [
    {
     "name": "stdout",
     "output_type": "stream",
     "text": [
      "In 2019, Developers in the first tier cities earn 15716 Yuan as average, the median is 14000 Yuan, 95% of them earn between 5250 and 36500 Yuan.\n"
     ]
    }
   ],
   "source": [
    "print('In 2019, Developers in the first tier cities earn {:.0f} Yuan as average, '\n",
    "      'the median is {:.0f} Yuan, 95% of them earn between {:.0f} and {:.0f} Yuan.'\n",
    "      .format(salary_mean, salary_median, q[0], q[1]))"
   ]
  },
  {
   "cell_type": "code",
   "execution_count": null,
   "metadata": {},
   "outputs": [],
   "source": []
  },
  {
   "cell_type": "code",
   "execution_count": null,
   "metadata": {},
   "outputs": [],
   "source": []
  },
  {
   "cell_type": "code",
   "execution_count": 73,
   "metadata": {},
   "outputs": [
    {
     "data": {
      "text/plain": [
       "<matplotlib.axes._subplots.AxesSubplot at 0x1b76e78a128>"
      ]
     },
     "execution_count": 73,
     "metadata": {},
     "output_type": "execute_result"
    },
    {
     "data": {
      "image/png": "[encoded data removed]",
      "text/plain": [
       "<Figure size 432x288 with 1 Axes>"
      ]
     },
     "metadata": {
      "needs_background": "light"
     },
     "output_type": "display_data"
    }
   ],
   "source": [
    "data.monthly_salary.hist()"
   ]
  },
  {
   "cell_type": "markdown",
   "metadata": {},
   "source": [
    "It does not look like normal distribution."
   ]
  },
  {
   "cell_type": "code",
   "execution_count": 74,
   "metadata": {},
   "outputs": [],
   "source": [
    "from scipy import stats"
   ]
  },
  {
   "cell_type": "code",
   "execution_count": 75,
   "metadata": {},
   "outputs": [
    {
     "data": {
      "text/plain": [
       "NormaltestResult(statistic=42343.17993165874, pvalue=0.0)"
      ]
     },
     "execution_count": 75,
     "metadata": {},
     "output_type": "execute_result"
    }
   ],
   "source": [
    "stats.normaltest(data.monthly_salary)"
   ]
  },
  {
   "cell_type": "markdown",
   "metadata": {},
   "source": [
    "null hypothesis: x comes from a normal distribution\n",
    "    \n",
    "p=0\n",
    "\n",
    "The null hypothesis can be rejected\n",
    "\n",
    "conclusion: data is not normally distributed."
   ]
  },
  {
   "cell_type": "markdown",
   "metadata": {},
   "source": [
    "Zoom in"
   ]
  },
  {
   "cell_type": "code",
   "execution_count": 76,
   "metadata": {},
   "outputs": [
    {
     "data": {
      "text/plain": [
       "<matplotlib.axes._subplots.AxesSubplot at 0x1b76e299f28>"
      ]
     },
     "execution_count": 76,
     "metadata": {},
     "output_type": "execute_result"
    },
    {
     "data": {
      "image/png": "[encoded data removed]",
      "text/plain": [
       "<Figure size 432x288 with 1 Axes>"
      ]
     },
     "metadata": {
      "needs_background": "light"
     },
     "output_type": "display_data"
    }
   ],
   "source": [
    "data[data.monthly_salary<4].monthly_salary.hist()"
   ]
  },
  {
   "cell_type": "code",
   "execution_count": null,
   "metadata": {},
   "outputs": [],
   "source": []
  },
  {
   "cell_type": "code",
   "execution_count": null,
   "metadata": {},
   "outputs": [],
   "source": []
  },
  {
   "cell_type": "markdown",
   "metadata": {},
   "source": [
    "## Role 角色"
   ]
  },
  {
   "cell_type": "code",
   "execution_count": 156,
   "metadata": {},
   "outputs": [],
   "source": [
    "def get_sub_stats(data, prefix):\n",
    "    \n",
    "    features = [feature for feature in data.columns if feature.startswith(prefix)]\n",
    "    salary_mean=[]\n",
    "    salary_median=[]\n",
    "    count=[]\n",
    "    for feature in features:\n",
    "        salary_mean.append(data[data[feature]==1].monthly_salary.mean()*10000)\n",
    "        salary_median.append(data[data[feature]==1].monthly_salary.median()*10000)\n",
    "        count.append(data[data[feature]==1].shape[0])\n",
    "    sub_data=pd.DataFrame()\n",
    "    sub_data[prefix]=[f.replace(prefix,'') for f in features]\n",
    "    sub_data['salary_mean']=salary_mean\n",
    "    sub_data['salary_median']=salary_median\n",
    "    sub_data['head_count']=count\n",
    "    sub_data['percentage']=count/np.sum(count)\n",
    "    sub_data=sub_data.sort_values(by='salary_mean', ascending=False)\n",
    "\n",
    "    return sub_data"
   ]
  },
  {
   "cell_type": "code",
   "execution_count": 157,
   "metadata": {},
   "outputs": [
    {
     "data": {
      "text/html": [
       "<style  type=\"text/css\" >\n",
       "</style>  \n",
       "<table id=\"T_2fbba594_57a5_11e9_874a_701ce71031ef\" > \n",
       "<thead>    <tr> \n",
       "        <th class=\"blank level0\" ></th> \n",
       "        <th class=\"col_heading level0 col0\" >career_</th> \n",
       "        <th class=\"col_heading level0 col1\" >salary_mean</th> \n",
       "        <th class=\"col_heading level0 col2\" >salary_median</th> \n",
       "        <th class=\"col_heading level0 col3\" >head_count</th> \n",
       "        <th class=\"col_heading level0 col4\" >percentage</th> \n",
       "    </tr></thead> \n",
       "<tbody>    <tr> \n",
       "        <th id=\"T_2fbba594_57a5_11e9_874a_701ce71031eflevel0_row0\" class=\"row_heading level0 row0\" >1</th> \n",
       "        <td id=\"T_2fbba594_57a5_11e9_874a_701ce71031efrow0_col0\" class=\"data row0 col0\" >architect</td> \n",
       "        <td id=\"T_2fbba594_57a5_11e9_874a_701ce71031efrow0_col1\" class=\"data row0 col1\" >24003.4</td> \n",
       "        <td id=\"T_2fbba594_57a5_11e9_874a_701ce71031efrow0_col2\" class=\"data row0 col2\" >22500</td> \n",
       "        <td id=\"T_2fbba594_57a5_11e9_874a_701ce71031efrow0_col3\" class=\"data row0 col3\" >3810</td> \n",
       "        <td id=\"T_2fbba594_57a5_11e9_874a_701ce71031efrow0_col4\" class=\"data row0 col4\" >4.78%</td> \n",
       "    </tr>    <tr> \n",
       "        <th id=\"T_2fbba594_57a5_11e9_874a_701ce71031eflevel0_row1\" class=\"row_heading level0 row1\" >0</th> \n",
       "        <td id=\"T_2fbba594_57a5_11e9_874a_701ce71031efrow1_col0\" class=\"data row1 col0\" >algorithm</td> \n",
       "        <td id=\"T_2fbba594_57a5_11e9_874a_701ce71031efrow1_col1\" class=\"data row1 col1\" >23149.6</td> \n",
       "        <td id=\"T_2fbba594_57a5_11e9_874a_701ce71031efrow1_col2\" class=\"data row1 col2\" >22500</td> \n",
       "        <td id=\"T_2fbba594_57a5_11e9_874a_701ce71031efrow1_col3\" class=\"data row1 col3\" >9306</td> \n",
       "        <td id=\"T_2fbba594_57a5_11e9_874a_701ce71031efrow1_col4\" class=\"data row1 col4\" >11.67%</td> \n",
       "    </tr>    <tr> \n",
       "        <th id=\"T_2fbba594_57a5_11e9_874a_701ce71031eflevel0_row2\" class=\"row_heading level0 row2\" >2</th> \n",
       "        <td id=\"T_2fbba594_57a5_11e9_874a_701ce71031efrow2_col0\" class=\"data row2 col0\" >software_engineer</td> \n",
       "        <td id=\"T_2fbba594_57a5_11e9_874a_701ce71031efrow2_col1\" class=\"data row2 col1\" >14575.9</td> \n",
       "        <td id=\"T_2fbba594_57a5_11e9_874a_701ce71031efrow2_col2\" class=\"data row2 col2\" >12500</td> \n",
       "        <td id=\"T_2fbba594_57a5_11e9_874a_701ce71031efrow2_col3\" class=\"data row2 col3\" >66605</td> \n",
       "        <td id=\"T_2fbba594_57a5_11e9_874a_701ce71031efrow2_col4\" class=\"data row2 col4\" >83.55%</td> \n",
       "    </tr></tbody> \n",
       "</table> "
      ],
      "text/plain": [
       "<pandas.io.formats.style.Styler at 0x1b76d0c3c18>"
      ]
     },
     "execution_count": 157,
     "metadata": {},
     "output_type": "execute_result"
    }
   ],
   "source": [
    "data_career=get_sub_stats(data,'career_')\n",
    "data_career.style.format({\"percentage\":\"{:.2%}\"})"
   ]
  },
  {
   "cell_type": "markdown",
   "metadata": {},
   "source": [
    "有表可知，架构师的工资平均为2.1万，算法工程师为2万，普通程序员为1万4。\n"
   ]
  },
  {
   "cell_type": "code",
   "execution_count": 158,
   "metadata": {},
   "outputs": [
    {
     "data": {
      "text/plain": [
       "F_onewayResult(statistic=10318.190675760517, pvalue=0.0)"
      ]
     },
     "execution_count": 158,
     "metadata": {},
     "output_type": "execute_result"
    }
   ],
   "source": [
    "career_architect_salary=data[data.career_architect==1].monthly_salary\n",
    "career_algorithm_salary=data[data.career_algorithm==1].monthly_salary\n",
    "career_software_engineer_salary=data[data.career_software_engineer==1].monthly_salary\n",
    "stats.f_oneway(career_algorithm_salary, career_software_engineer_salary)"
   ]
  },
  {
   "cell_type": "code",
   "execution_count": 159,
   "metadata": {},
   "outputs": [
    {
     "data": {
      "text/plain": [
       "F_onewayResult(statistic=15.425156918591176, pvalue=8.627749154400873e-05)"
      ]
     },
     "execution_count": 159,
     "metadata": {},
     "output_type": "execute_result"
    }
   ],
   "source": [
    "stats.f_oneway(career_architect_salary, career_algorithm_salary)"
   ]
  },
  {
   "cell_type": "markdown",
   "metadata": {},
   "source": [
    "统计表面，架构师，算法工程师，普通程序员之间的平均工资差异是显著的。"
   ]
  },
  {
   "cell_type": "markdown",
   "metadata": {},
   "source": [
    "# 教育"
   ]
  },
  {
   "cell_type": "code",
   "execution_count": 160,
   "metadata": {},
   "outputs": [
    {
     "data": {
      "text/html": [
       "<style  type=\"text/css\" >\n",
       "</style>  \n",
       "<table id=\"T_397cdf1a_57a5_11e9_b372_701ce71031ef\" > \n",
       "<thead>    <tr> \n",
       "        <th class=\"blank level0\" ></th> \n",
       "        <th class=\"col_heading level0 col0\" >edu_</th> \n",
       "        <th class=\"col_heading level0 col1\" >salary_mean</th> \n",
       "        <th class=\"col_heading level0 col2\" >salary_median</th> \n",
       "        <th class=\"col_heading level0 col3\" >head_count</th> \n",
       "        <th class=\"col_heading level0 col4\" >percentage</th> \n",
       "    </tr></thead> \n",
       "<tbody>    <tr> \n",
       "        <th id=\"T_397cdf1a_57a5_11e9_b372_701ce71031eflevel0_row0\" class=\"row_heading level0 row0\" >5</th> \n",
       "        <td id=\"T_397cdf1a_57a5_11e9_b372_701ce71031efrow0_col0\" class=\"data row0 col0\" >phd</td> \n",
       "        <td id=\"T_397cdf1a_57a5_11e9_b372_701ce71031efrow0_col1\" class=\"data row0 col1\" >30308</td> \n",
       "        <td id=\"T_397cdf1a_57a5_11e9_b372_701ce71031efrow0_col2\" class=\"data row0 col2\" >29000</td> \n",
       "        <td id=\"T_397cdf1a_57a5_11e9_b372_701ce71031efrow0_col3\" class=\"data row0 col3\" >112</td> \n",
       "        <td id=\"T_397cdf1a_57a5_11e9_b372_701ce71031efrow0_col4\" class=\"data row0 col4\" >0.17%</td> \n",
       "    </tr>    <tr> \n",
       "        <th id=\"T_397cdf1a_57a5_11e9_b372_701ce71031eflevel0_row1\" class=\"row_heading level0 row1\" >3</th> \n",
       "        <td id=\"T_397cdf1a_57a5_11e9_b372_701ce71031efrow1_col0\" class=\"data row1 col0\" >master</td> \n",
       "        <td id=\"T_397cdf1a_57a5_11e9_b372_701ce71031efrow1_col1\" class=\"data row1 col1\" >23084.4</td> \n",
       "        <td id=\"T_397cdf1a_57a5_11e9_b372_701ce71031efrow1_col2\" class=\"data row1 col2\" >21000</td> \n",
       "        <td id=\"T_397cdf1a_57a5_11e9_b372_701ce71031efrow1_col3\" class=\"data row1 col3\" >2051</td> \n",
       "        <td id=\"T_397cdf1a_57a5_11e9_b372_701ce71031efrow1_col4\" class=\"data row1 col4\" >3.13%</td> \n",
       "    </tr>    <tr> \n",
       "        <th id=\"T_397cdf1a_57a5_11e9_b372_701ce71031eflevel0_row2\" class=\"row_heading level0 row2\" >1</th> \n",
       "        <td id=\"T_397cdf1a_57a5_11e9_b372_701ce71031efrow2_col0\" class=\"data row2 col0\" >bachelor</td> \n",
       "        <td id=\"T_397cdf1a_57a5_11e9_b372_701ce71031efrow2_col1\" class=\"data row2 col1\" >16840.8</td> \n",
       "        <td id=\"T_397cdf1a_57a5_11e9_b372_701ce71031efrow2_col2\" class=\"data row2 col2\" >15000</td> \n",
       "        <td id=\"T_397cdf1a_57a5_11e9_b372_701ce71031efrow2_col3\" class=\"data row2 col3\" >42268</td> \n",
       "        <td id=\"T_397cdf1a_57a5_11e9_b372_701ce71031efrow2_col4\" class=\"data row2 col4\" >64.50%</td> \n",
       "    </tr>    <tr> \n",
       "        <th id=\"T_397cdf1a_57a5_11e9_b372_701ce71031eflevel0_row3\" class=\"row_heading level0 row3\" >0</th> \n",
       "        <td id=\"T_397cdf1a_57a5_11e9_b372_701ce71031efrow3_col0\" class=\"data row3 col0\" >associate</td> \n",
       "        <td id=\"T_397cdf1a_57a5_11e9_b372_701ce71031efrow3_col1\" class=\"data row3 col1\" >12828.3</td> \n",
       "        <td id=\"T_397cdf1a_57a5_11e9_b372_701ce71031efrow3_col2\" class=\"data row3 col2\" >12500</td> \n",
       "        <td id=\"T_397cdf1a_57a5_11e9_b372_701ce71031efrow3_col3\" class=\"data row3 col3\" >20879</td> \n",
       "        <td id=\"T_397cdf1a_57a5_11e9_b372_701ce71031efrow3_col4\" class=\"data row3 col4\" >31.86%</td> \n",
       "    </tr>    <tr> \n",
       "        <th id=\"T_397cdf1a_57a5_11e9_b372_701ce71031eflevel0_row4\" class=\"row_heading level0 row4\" >4</th> \n",
       "        <td id=\"T_397cdf1a_57a5_11e9_b372_701ce71031efrow4_col0\" class=\"data row4 col0\" >middle_school</td> \n",
       "        <td id=\"T_397cdf1a_57a5_11e9_b372_701ce71031efrow4_col1\" class=\"data row4 col1\" >11798.1</td> \n",
       "        <td id=\"T_397cdf1a_57a5_11e9_b372_701ce71031efrow4_col2\" class=\"data row4 col2\" >7000</td> \n",
       "        <td id=\"T_397cdf1a_57a5_11e9_b372_701ce71031efrow4_col3\" class=\"data row4 col3\" >26</td> \n",
       "        <td id=\"T_397cdf1a_57a5_11e9_b372_701ce71031efrow4_col4\" class=\"data row4 col4\" >0.04%</td> \n",
       "    </tr>    <tr> \n",
       "        <th id=\"T_397cdf1a_57a5_11e9_b372_701ce71031eflevel0_row5\" class=\"row_heading level0 row5\" >2</th> \n",
       "        <td id=\"T_397cdf1a_57a5_11e9_b372_701ce71031efrow5_col0\" class=\"data row5 col0\" >high_school</td> \n",
       "        <td id=\"T_397cdf1a_57a5_11e9_b372_701ce71031efrow5_col1\" class=\"data row5 col1\" >9580.51</td> \n",
       "        <td id=\"T_397cdf1a_57a5_11e9_b372_701ce71031efrow5_col2\" class=\"data row5 col2\" >7000</td> \n",
       "        <td id=\"T_397cdf1a_57a5_11e9_b372_701ce71031efrow5_col3\" class=\"data row5 col3\" >195</td> \n",
       "        <td id=\"T_397cdf1a_57a5_11e9_b372_701ce71031efrow5_col4\" class=\"data row5 col4\" >0.30%</td> \n",
       "    </tr></tbody> \n",
       "</table> "
      ],
      "text/plain": [
       "<pandas.io.formats.style.Styler at 0x1b76d0c33c8>"
      ]
     },
     "execution_count": 160,
     "metadata": {},
     "output_type": "execute_result"
    }
   ],
   "source": [
    "data_edu=get_sub_stats(data,'edu_')\n",
    "data_edu.style.format({\"percentage\":\"{:.2%}\"})"
   ]
  },
  {
   "cell_type": "markdown",
   "metadata": {},
   "source": [
    "大专，本科，硕士，博士的平均工资分别是12828，16840，23084，30308。中位数分别是12500， 15000，21000， 29000。"
   ]
  },
  {
   "cell_type": "code",
   "execution_count": 144,
   "metadata": {},
   "outputs": [],
   "source": [
    "salary_phd=data[data.edu_phd==1].monthly_salary\n",
    "salary_master=data[data.edu_master==1].monthly_salary\n",
    "salary_bachelor=data[data.edu_bachelor==1].monthly_salary\n",
    "salary_associate=data[data.edu_associate==1].monthly_salary"
   ]
  },
  {
   "cell_type": "code",
   "execution_count": 145,
   "metadata": {},
   "outputs": [
    {
     "data": {
      "text/plain": [
       "F_onewayResult(statistic=37.99934598382358, pvalue=8.419586730682308e-10)"
      ]
     },
     "execution_count": 145,
     "metadata": {},
     "output_type": "execute_result"
    }
   ],
   "source": [
    "stats.f_oneway(salary_phd, salary_master)"
   ]
  },
  {
   "cell_type": "code",
   "execution_count": 146,
   "metadata": {},
   "outputs": [
    {
     "data": {
      "text/plain": [
       "F_onewayResult(statistic=1039.3610697025629, pvalue=2.0403673390552008e-225)"
      ]
     },
     "execution_count": 146,
     "metadata": {},
     "output_type": "execute_result"
    }
   ],
   "source": [
    "stats.f_oneway(salary_master, salary_bachelor)"
   ]
  },
  {
   "cell_type": "code",
   "execution_count": 147,
   "metadata": {},
   "outputs": [
    {
     "data": {
      "text/plain": [
       "F_onewayResult(statistic=3866.5985931587775, pvalue=0.0)"
      ]
     },
     "execution_count": 147,
     "metadata": {},
     "output_type": "execute_result"
    }
   ],
   "source": [
    "stats.f_oneway(salary_bachelor, salary_associate)"
   ]
  },
  {
   "cell_type": "code",
   "execution_count": null,
   "metadata": {},
   "outputs": [],
   "source": []
  },
  {
   "cell_type": "markdown",
   "metadata": {},
   "source": [
    "经过Oneway Anova Test，证明从大专到博士，学历每提高一级，工资都有显著的提高。"
   ]
  },
  {
   "cell_type": "code",
   "execution_count": 187,
   "metadata": {},
   "outputs": [
    {
     "data": {
      "text/plain": [
       "{'whiskers': [<matplotlib.lines.Line2D at 0x1b773455a20>,\n",
       "  <matplotlib.lines.Line2D at 0x1b773455d68>,\n",
       "  <matplotlib.lines.Line2D at 0x1b771e1bef0>,\n",
       "  <matplotlib.lines.Line2D at 0x1b771e314e0>,\n",
       "  <matplotlib.lines.Line2D at 0x1b7732c98d0>,\n",
       "  <matplotlib.lines.Line2D at 0x1b7732c9c18>,\n",
       "  <matplotlib.lines.Line2D at 0x1b7732bcda0>,\n",
       "  <matplotlib.lines.Line2D at 0x1b7732cf390>],\n",
       " 'caps': [<matplotlib.lines.Line2D at 0x1b773455e48>,\n",
       "  <matplotlib.lines.Line2D at 0x1b771e1b438>,\n",
       "  <matplotlib.lines.Line2D at 0x1b771e31828>,\n",
       "  <matplotlib.lines.Line2D at 0x1b771e31b70>,\n",
       "  <matplotlib.lines.Line2D at 0x1b7732c9f60>,\n",
       "  <matplotlib.lines.Line2D at 0x1b7732bc2e8>,\n",
       "  <matplotlib.lines.Line2D at 0x1b7732cf6d8>,\n",
       "  <matplotlib.lines.Line2D at 0x1b7732cfa20>],\n",
       " 'boxes': [<matplotlib.lines.Line2D at 0x1b773455630>,\n",
       "  <matplotlib.lines.Line2D at 0x1b771e1be10>,\n",
       "  <matplotlib.lines.Line2D at 0x1b7732c9588>,\n",
       "  <matplotlib.lines.Line2D at 0x1b7732bccc0>],\n",
       " 'medians': [<matplotlib.lines.Line2D at 0x1b771e1b780>,\n",
       "  <matplotlib.lines.Line2D at 0x1b771e31eb8>,\n",
       "  <matplotlib.lines.Line2D at 0x1b7732bc630>,\n",
       "  <matplotlib.lines.Line2D at 0x1b7732cfd68>],\n",
       " 'fliers': [<matplotlib.lines.Line2D at 0x1b771e1bac8>,\n",
       "  <matplotlib.lines.Line2D at 0x1b771e31f98>,\n",
       "  <matplotlib.lines.Line2D at 0x1b7732bc978>,\n",
       "  <matplotlib.lines.Line2D at 0x1b7732cfe48>],\n",
       " 'means': []}"
      ]
     },
     "execution_count": 187,
     "metadata": {},
     "output_type": "execute_result"
    },
    {
     "data": {
      "image/png": "[encoded data removed]",
      "text/plain": [
       "<Figure size 432x288 with 1 Axes>"
      ]
     },
     "metadata": {
      "needs_background": "light"
     },
     "output_type": "display_data"
    }
   ],
   "source": [
    "plt.boxplot([salary_associate,salary_bachelor,salary_master,salary_phd],\n",
    "           labels=['Associate','Bachelor','Master','PhD'], vert=False)"
   ]
  },
  {
   "cell_type": "markdown",
   "metadata": {},
   "source": [
    "# 工作经验 Working Experience"
   ]
  },
  {
   "cell_type": "code",
   "execution_count": 176,
   "metadata": {},
   "outputs": [
    {
     "data": {
      "text/html": [
       "<style  type=\"text/css\" >\n",
       "</style>  \n",
       "<table id=\"T_d46db8f6_57a5_11e9_8334_701ce71031ef\" > \n",
       "<thead>    <tr> \n",
       "        <th class=\"blank level0\" ></th> \n",
       "        <th class=\"col_heading level0 col0\" >experience_</th> \n",
       "        <th class=\"col_heading level0 col1\" >salary_mean</th> \n",
       "        <th class=\"col_heading level0 col2\" >salary_median</th> \n",
       "        <th class=\"col_heading level0 col3\" >head_count</th> \n",
       "        <th class=\"col_heading level0 col4\" >percentage</th> \n",
       "    </tr></thead> \n",
       "<tbody>    <tr> \n",
       "        <th id=\"T_d46db8f6_57a5_11e9_8334_701ce71031eflevel0_row0\" class=\"row_heading level0 row0\" >0</th> \n",
       "        <td id=\"T_d46db8f6_57a5_11e9_8334_701ce71031efrow0_col0\" class=\"data row0 col0\" >10</td> \n",
       "        <td id=\"T_d46db8f6_57a5_11e9_8334_701ce71031efrow0_col1\" class=\"data row0 col1\" >32645.6</td> \n",
       "        <td id=\"T_d46db8f6_57a5_11e9_8334_701ce71031efrow0_col2\" class=\"data row0 col2\" >30000</td> \n",
       "        <td id=\"T_d46db8f6_57a5_11e9_8334_701ce71031efrow0_col3\" class=\"data row0 col3\" >305</td> \n",
       "        <td id=\"T_d46db8f6_57a5_11e9_8334_701ce71031efrow0_col4\" class=\"data row0 col4\" >0.39%</td> \n",
       "    </tr>    <tr> \n",
       "        <th id=\"T_d46db8f6_57a5_11e9_8334_701ce71031eflevel0_row1\" class=\"row_heading level0 row1\" >3</th> \n",
       "        <td id=\"T_d46db8f6_57a5_11e9_8334_701ce71031efrow1_col0\" class=\"data row1 col0\" >5_10</td> \n",
       "        <td id=\"T_d46db8f6_57a5_11e9_8334_701ce71031efrow1_col1\" class=\"data row1 col1\" >22569.4</td> \n",
       "        <td id=\"T_d46db8f6_57a5_11e9_8334_701ce71031efrow1_col2\" class=\"data row1 col2\" >20500</td> \n",
       "        <td id=\"T_d46db8f6_57a5_11e9_8334_701ce71031efrow1_col3\" class=\"data row1 col3\" >11100</td> \n",
       "        <td id=\"T_d46db8f6_57a5_11e9_8334_701ce71031efrow1_col4\" class=\"data row1 col4\" >14.32%</td> \n",
       "    </tr>    <tr> \n",
       "        <th id=\"T_d46db8f6_57a5_11e9_8334_701ce71031eflevel0_row2\" class=\"row_heading level0 row2\" >2</th> \n",
       "        <td id=\"T_d46db8f6_57a5_11e9_8334_701ce71031efrow2_col0\" class=\"data row2 col0\" >3_5</td> \n",
       "        <td id=\"T_d46db8f6_57a5_11e9_8334_701ce71031efrow2_col1\" class=\"data row2 col1\" >16587.6</td> \n",
       "        <td id=\"T_d46db8f6_57a5_11e9_8334_701ce71031efrow2_col2\" class=\"data row2 col2\" >15000</td> \n",
       "        <td id=\"T_d46db8f6_57a5_11e9_8334_701ce71031efrow2_col3\" class=\"data row2 col3\" >23940</td> \n",
       "        <td id=\"T_d46db8f6_57a5_11e9_8334_701ce71031efrow2_col4\" class=\"data row2 col4\" >30.88%</td> \n",
       "    </tr>    <tr> \n",
       "        <th id=\"T_d46db8f6_57a5_11e9_8334_701ce71031eflevel0_row3\" class=\"row_heading level0 row3\" >4</th> \n",
       "        <td id=\"T_d46db8f6_57a5_11e9_8334_701ce71031efrow3_col0\" class=\"data row3 col0\" >no</td> \n",
       "        <td id=\"T_d46db8f6_57a5_11e9_8334_701ce71031efrow3_col1\" class=\"data row3 col1\" >14244.6</td> \n",
       "        <td id=\"T_d46db8f6_57a5_11e9_8334_701ce71031efrow3_col2\" class=\"data row3 col2\" >12500</td> \n",
       "        <td id=\"T_d46db8f6_57a5_11e9_8334_701ce71031efrow3_col3\" class=\"data row3 col3\" >18327</td> \n",
       "        <td id=\"T_d46db8f6_57a5_11e9_8334_701ce71031efrow3_col4\" class=\"data row3 col4\" >23.64%</td> \n",
       "    </tr>    <tr> \n",
       "        <th id=\"T_d46db8f6_57a5_11e9_8334_701ce71031eflevel0_row4\" class=\"row_heading level0 row4\" >1</th> \n",
       "        <td id=\"T_d46db8f6_57a5_11e9_8334_701ce71031efrow4_col0\" class=\"data row4 col0\" >1_3</td> \n",
       "        <td id=\"T_d46db8f6_57a5_11e9_8334_701ce71031efrow4_col1\" class=\"data row4 col1\" >12567.8</td> \n",
       "        <td id=\"T_d46db8f6_57a5_11e9_8334_701ce71031efrow4_col2\" class=\"data row4 col2\" >11500</td> \n",
       "        <td id=\"T_d46db8f6_57a5_11e9_8334_701ce71031efrow4_col3\" class=\"data row4 col3\" >23864</td> \n",
       "        <td id=\"T_d46db8f6_57a5_11e9_8334_701ce71031efrow4_col4\" class=\"data row4 col4\" >30.78%</td> \n",
       "    </tr></tbody> \n",
       "</table> "
      ],
      "text/plain": [
       "<pandas.io.formats.style.Styler at 0x1b75ed75a90>"
      ]
     },
     "execution_count": 176,
     "metadata": {},
     "output_type": "execute_result"
    }
   ],
   "source": [
    "data_experience=get_sub_stats(data,'experience_')\n",
    "data_experience.style.format({\"percentage\":\"{:.2%}\"})"
   ]
  },
  {
   "cell_type": "code",
   "execution_count": 182,
   "metadata": {},
   "outputs": [],
   "source": [
    "salary_we_10=data[data.experience_10==1].monthly_salary * 10000\n",
    "salary_we_5_10=data[data.experience_5_10==1].monthly_salary * 10000\n",
    "salary_we_3_5=data[data.experience_3_5==1].monthly_salary * 10000\n",
    "salary_we_1_3=data[data.experience_1_3==1].monthly_salary * 10000\n",
    "salary_we_no=data[data.experience_no==1].monthly_salary * 10000"
   ]
  },
  {
   "cell_type": "code",
   "execution_count": 185,
   "metadata": {},
   "outputs": [
    {
     "data": {
      "text/plain": [
       "{'whiskers': [<matplotlib.lines.Line2D at 0x1b773558da0>,\n",
       "  <matplotlib.lines.Line2D at 0x1b773558e80>,\n",
       "  <matplotlib.lines.Line2D at 0x1b76f6d0518>,\n",
       "  <matplotlib.lines.Line2D at 0x1b76f6d0860>,\n",
       "  <matplotlib.lines.Line2D at 0x1b76f6e6c50>,\n",
       "  <matplotlib.lines.Line2D at 0x1b76f6e6f98>,\n",
       "  <matplotlib.lines.Line2D at 0x1b773c023c8>,\n",
       "  <matplotlib.lines.Line2D at 0x1b773c02710>,\n",
       "  <matplotlib.lines.Line2D at 0x1b773c13b00>,\n",
       "  <matplotlib.lines.Line2D at 0x1b773c13e48>],\n",
       " 'caps': [<matplotlib.lines.Line2D at 0x1b773566470>,\n",
       "  <matplotlib.lines.Line2D at 0x1b7735667b8>,\n",
       "  <matplotlib.lines.Line2D at 0x1b76f6d0ba8>,\n",
       "  <matplotlib.lines.Line2D at 0x1b76f6d0ef0>,\n",
       "  <matplotlib.lines.Line2D at 0x1b76f6f1320>,\n",
       "  <matplotlib.lines.Line2D at 0x1b76f6f1668>,\n",
       "  <matplotlib.lines.Line2D at 0x1b773c02a58>,\n",
       "  <matplotlib.lines.Line2D at 0x1b773c02da0>,\n",
       "  <matplotlib.lines.Line2D at 0x1b773c13f28>,\n",
       "  <matplotlib.lines.Line2D at 0x1b773c2b518>],\n",
       " 'boxes': [<matplotlib.lines.Line2D at 0x1b77354fd68>,\n",
       "  <matplotlib.lines.Line2D at 0x1b773566ef0>,\n",
       "  <matplotlib.lines.Line2D at 0x1b76f6e6908>,\n",
       "  <matplotlib.lines.Line2D at 0x1b76f6f1da0>,\n",
       "  <matplotlib.lines.Line2D at 0x1b773c137b8>],\n",
       " 'medians': [<matplotlib.lines.Line2D at 0x1b773566b00>,\n",
       "  <matplotlib.lines.Line2D at 0x1b76f6d0fd0>,\n",
       "  <matplotlib.lines.Line2D at 0x1b76f6f19b0>,\n",
       "  <matplotlib.lines.Line2D at 0x1b773c02e80>,\n",
       "  <matplotlib.lines.Line2D at 0x1b773c2b860>],\n",
       " 'fliers': [<matplotlib.lines.Line2D at 0x1b773566e48>,\n",
       "  <matplotlib.lines.Line2D at 0x1b76f6e65c0>,\n",
       "  <matplotlib.lines.Line2D at 0x1b76f6f1cf8>,\n",
       "  <matplotlib.lines.Line2D at 0x1b773c13470>,\n",
       "  <matplotlib.lines.Line2D at 0x1b773c2bba8>],\n",
       " 'means': []}"
      ]
     },
     "execution_count": 185,
     "metadata": {},
     "output_type": "execute_result"
    },
    {
     "data": {
      "image/png": "[encoded data removed]",
      "text/plain": [
       "<Figure size 432x288 with 1 Axes>"
      ]
     },
     "metadata": {
      "needs_background": "light"
     },
     "output_type": "display_data"
    }
   ],
   "source": [
    "plt.boxplot([salary_we_no,salary_we_1_3,salary_we_3_5,salary_we_5_10,salary_we_10], \n",
    "            labels=['0','1-3','3-5','5-10','10+'],  vert=False)"
   ]
  },
  {
   "cell_type": "markdown",
   "metadata": {},
   "source": [
    "数据显示，工资会随着工作经验的增长而增长。不过，我感觉那些招十年工作经验的，基本上都是架构师等职位。如果你的工作经验是一年的工作经验重复十次，应该拿不到那么高的工资。这个以后我还会仔细分析。"
   ]
  },
  {
   "cell_type": "markdown",
   "metadata": {},
   "source": [
    "# 城市 City"
   ]
  },
  {
   "cell_type": "code",
   "execution_count": 161,
   "metadata": {},
   "outputs": [
    {
     "data": {
      "text/html": [
       "<style  type=\"text/css\" >\n",
       "</style>  \n",
       "<table id=\"T_8fdfa566_57a5_11e9_b942_701ce71031ef\" > \n",
       "<thead>    <tr> \n",
       "        <th class=\"blank level0\" ></th> \n",
       "        <th class=\"col_heading level0 col0\" >city_</th> \n",
       "        <th class=\"col_heading level0 col1\" >salary_mean</th> \n",
       "        <th class=\"col_heading level0 col2\" >salary_median</th> \n",
       "        <th class=\"col_heading level0 col3\" >head_count</th> \n",
       "        <th class=\"col_heading level0 col4\" >percentage</th> \n",
       "    </tr></thead> \n",
       "<tbody>    <tr> \n",
       "        <th id=\"T_8fdfa566_57a5_11e9_b942_701ce71031eflevel0_row0\" class=\"row_heading level0 row0\" >0</th> \n",
       "        <td id=\"T_8fdfa566_57a5_11e9_b942_701ce71031efrow0_col0\" class=\"data row0 col0\" >beijing</td> \n",
       "        <td id=\"T_8fdfa566_57a5_11e9_b942_701ce71031efrow0_col1\" class=\"data row0 col1\" >17453.1</td> \n",
       "        <td id=\"T_8fdfa566_57a5_11e9_b942_701ce71031efrow0_col2\" class=\"data row0 col2\" >15000</td> \n",
       "        <td id=\"T_8fdfa566_57a5_11e9_b942_701ce71031efrow0_col3\" class=\"data row0 col3\" >13823</td> \n",
       "        <td id=\"T_8fdfa566_57a5_11e9_b942_701ce71031efrow0_col4\" class=\"data row0 col4\" >17.83%</td> \n",
       "    </tr>    <tr> \n",
       "        <th id=\"T_8fdfa566_57a5_11e9_b942_701ce71031eflevel0_row1\" class=\"row_heading level0 row1\" >2</th> \n",
       "        <td id=\"T_8fdfa566_57a5_11e9_b942_701ce71031efrow1_col0\" class=\"data row1 col0\" >shanghai</td> \n",
       "        <td id=\"T_8fdfa566_57a5_11e9_b942_701ce71031efrow1_col1\" class=\"data row1 col1\" >16626.4</td> \n",
       "        <td id=\"T_8fdfa566_57a5_11e9_b942_701ce71031efrow1_col2\" class=\"data row1 col2\" >15000</td> \n",
       "        <td id=\"T_8fdfa566_57a5_11e9_b942_701ce71031efrow1_col3\" class=\"data row1 col3\" >25888</td> \n",
       "        <td id=\"T_8fdfa566_57a5_11e9_b942_701ce71031efrow1_col4\" class=\"data row1 col4\" >33.39%</td> \n",
       "    </tr>    <tr> \n",
       "        <th id=\"T_8fdfa566_57a5_11e9_b942_701ce71031eflevel0_row2\" class=\"row_heading level0 row2\" >3</th> \n",
       "        <td id=\"T_8fdfa566_57a5_11e9_b942_701ce71031efrow2_col0\" class=\"data row2 col0\" >shenzhen</td> \n",
       "        <td id=\"T_8fdfa566_57a5_11e9_b942_701ce71031efrow2_col1\" class=\"data row2 col1\" >15631.3</td> \n",
       "        <td id=\"T_8fdfa566_57a5_11e9_b942_701ce71031efrow2_col2\" class=\"data row2 col2\" >14000</td> \n",
       "        <td id=\"T_8fdfa566_57a5_11e9_b942_701ce71031efrow2_col3\" class=\"data row2 col3\" >20757</td> \n",
       "        <td id=\"T_8fdfa566_57a5_11e9_b942_701ce71031efrow2_col4\" class=\"data row2 col4\" >26.77%</td> \n",
       "    </tr>    <tr> \n",
       "        <th id=\"T_8fdfa566_57a5_11e9_b942_701ce71031eflevel0_row3\" class=\"row_heading level0 row3\" >1</th> \n",
       "        <td id=\"T_8fdfa566_57a5_11e9_b942_701ce71031efrow3_col0\" class=\"data row3 col0\" >guangzhou</td> \n",
       "        <td id=\"T_8fdfa566_57a5_11e9_b942_701ce71031efrow3_col1\" class=\"data row3 col1\" >13031.7</td> \n",
       "        <td id=\"T_8fdfa566_57a5_11e9_b942_701ce71031efrow3_col2\" class=\"data row3 col2\" >12000</td> \n",
       "        <td id=\"T_8fdfa566_57a5_11e9_b942_701ce71031efrow3_col3\" class=\"data row3 col3\" >17068</td> \n",
       "        <td id=\"T_8fdfa566_57a5_11e9_b942_701ce71031efrow3_col4\" class=\"data row3 col4\" >22.01%</td> \n",
       "    </tr></tbody> \n",
       "</table> "
      ],
      "text/plain": [
       "<pandas.io.formats.style.Styler at 0x1b76d0c3080>"
      ]
     },
     "execution_count": 161,
     "metadata": {},
     "output_type": "execute_result"
    }
   ],
   "source": [
    "data_city=get_sub_stats(data,'city_')\n",
    "data_city.style.format({\"percentage\":\"{:.2%}\"})"
   ]
  },
  {
   "cell_type": "markdown",
   "metadata": {},
   "source": [
    "程序员收入最高的城市分别为：北京，上海，深圳，广州"
   ]
  },
  {
   "cell_type": "code",
   "execution_count": 162,
   "metadata": {},
   "outputs": [],
   "source": [
    "salary_beijing=data[data.city_beijing==1].monthly_salary\n",
    "salary_shanghai=data[data.city_shanghai==1].monthly_salary\n",
    "salary_guangzhou=data[data.city_guangzhou==1].monthly_salary\n",
    "salary_shenzhen=data[data.city_shenzhen==1].monthly_salary"
   ]
  },
  {
   "cell_type": "code",
   "execution_count": null,
   "metadata": {},
   "outputs": [],
   "source": []
  },
  {
   "cell_type": "code",
   "execution_count": 164,
   "metadata": {},
   "outputs": [
    {
     "data": {
      "text/plain": [
       "{'whiskers': [<matplotlib.lines.Line2D at 0x1b76d0d56a0>,\n",
       "  <matplotlib.lines.Line2D at 0x1b76d0d5d30>,\n",
       "  <matplotlib.lines.Line2D at 0x1b76d0f0550>,\n",
       "  <matplotlib.lines.Line2D at 0x1b76d0f0be0>,\n",
       "  <matplotlib.lines.Line2D at 0x1b766a8b7b8>,\n",
       "  <matplotlib.lines.Line2D at 0x1b766a8b668>,\n",
       "  <matplotlib.lines.Line2D at 0x1b75e37bfd0>,\n",
       "  <matplotlib.lines.Line2D at 0x1b762765e10>],\n",
       " 'caps': [<matplotlib.lines.Line2D at 0x1b76d0d5ef0>,\n",
       "  <matplotlib.lines.Line2D at 0x1b76d0daa90>,\n",
       "  <matplotlib.lines.Line2D at 0x1b76d0f0da0>,\n",
       "  <matplotlib.lines.Line2D at 0x1b76cdc88d0>,\n",
       "  <matplotlib.lines.Line2D at 0x1b76d217588>,\n",
       "  <matplotlib.lines.Line2D at 0x1b76d0f55c0>,\n",
       "  <matplotlib.lines.Line2D at 0x1b75e7ff6d8>,\n",
       "  <matplotlib.lines.Line2D at 0x1b76cac4748>],\n",
       " 'boxes': [<matplotlib.lines.Line2D at 0x1b76d0c8e80>,\n",
       "  <matplotlib.lines.Line2D at 0x1b76d0e8e80>,\n",
       "  <matplotlib.lines.Line2D at 0x1b766a289e8>,\n",
       "  <matplotlib.lines.Line2D at 0x1b75e37b940>],\n",
       " 'medians': [<matplotlib.lines.Line2D at 0x1b76d0dac50>,\n",
       "  <matplotlib.lines.Line2D at 0x1b76cdc8cf8>,\n",
       "  <matplotlib.lines.Line2D at 0x1b76d0f5a90>,\n",
       "  <matplotlib.lines.Line2D at 0x1b76cac4080>],\n",
       " 'fliers': [<matplotlib.lines.Line2D at 0x1b76d0e87f0>,\n",
       "  <matplotlib.lines.Line2D at 0x1b76d113a20>,\n",
       "  <matplotlib.lines.Line2D at 0x1b75255eef0>,\n",
       "  <matplotlib.lines.Line2D at 0x1b75e52e748>],\n",
       " 'means': []}"
      ]
     },
     "execution_count": 164,
     "metadata": {},
     "output_type": "execute_result"
    },
    {
     "data": {
      "image/png": "[encoded data removed]",
      "text/plain": [
       "<Figure size 432x288 with 1 Axes>"
      ]
     },
     "metadata": {
      "needs_background": "light"
     },
     "output_type": "display_data"
    }
   ],
   "source": [
    "plt.boxplot([salary_beijing,salary_shanghai,salary_guangzhou,salary_shenzhen], vert=False, labels=['beijing','shanghai','guangzhou','shenzhen'])"
   ]
  },
  {
   "cell_type": "code",
   "execution_count": 165,
   "metadata": {},
   "outputs": [
    {
     "data": {
      "text/plain": [
       "F_onewayResult(statistic=80.32434741890425, pvalue=3.3121643665903536e-19)"
      ]
     },
     "execution_count": 165,
     "metadata": {},
     "output_type": "execute_result"
    }
   ],
   "source": [
    "stats.f_oneway(salary_beijing, salary_shanghai)"
   ]
  },
  {
   "cell_type": "code",
   "execution_count": 166,
   "metadata": {},
   "outputs": [
    {
     "data": {
      "text/plain": [
       "F_onewayResult(statistic=2290.0597614426306, pvalue=0.0)"
      ]
     },
     "execution_count": 166,
     "metadata": {},
     "output_type": "execute_result"
    }
   ],
   "source": [
    "stats.f_oneway(salary_shanghai, salary_guangzhou)"
   ]
  },
  {
   "cell_type": "code",
   "execution_count": 167,
   "metadata": {},
   "outputs": [
    {
     "data": {
      "text/plain": [
       "F_onewayResult(statistic=1191.135261747661, pvalue=5.103034674562747e-257)"
      ]
     },
     "execution_count": 167,
     "metadata": {},
     "output_type": "execute_result"
    }
   ],
   "source": [
    "stats.f_oneway(salary_guangzhou, salary_shenzhen)"
   ]
  },
  {
   "cell_type": "markdown",
   "metadata": {},
   "source": [
    "统计（Oneway Anova）显示，任何两个城市之间的平均工资差异都是显著的。\n",
    "\n",
    "The average salary between the four cities are significant different."
   ]
  },
  {
   "cell_type": "code",
   "execution_count": 168,
   "metadata": {},
   "outputs": [
    {
     "data": {
      "text/html": [
       "<style  type=\"text/css\" >\n",
       "</style>  \n",
       "<table id=\"T_998b4000_57a5_11e9_836f_701ce71031ef\" > \n",
       "<thead>    <tr> \n",
       "        <th class=\"blank level0\" ></th> \n",
       "        <th class=\"col_heading level0 col0\" >city_</th> \n",
       "        <th class=\"col_heading level0 col1\" >salary_mean</th> \n",
       "        <th class=\"col_heading level0 col2\" >salary_median</th> \n",
       "        <th class=\"col_heading level0 col3\" >head_count</th> \n",
       "        <th class=\"col_heading level0 col4\" >percentage</th> \n",
       "    </tr></thead> \n",
       "<tbody>    <tr> \n",
       "        <th id=\"T_998b4000_57a5_11e9_836f_701ce71031eflevel0_row0\" class=\"row_heading level0 row0\" >2</th> \n",
       "        <td id=\"T_998b4000_57a5_11e9_836f_701ce71031efrow0_col0\" class=\"data row0 col0\" >shanghai</td> \n",
       "        <td id=\"T_998b4000_57a5_11e9_836f_701ce71031efrow0_col1\" class=\"data row0 col1\" >16626.4</td> \n",
       "        <td id=\"T_998b4000_57a5_11e9_836f_701ce71031efrow0_col2\" class=\"data row0 col2\" >15000</td> \n",
       "        <td id=\"T_998b4000_57a5_11e9_836f_701ce71031efrow0_col3\" class=\"data row0 col3\" >25888</td> \n",
       "        <td id=\"T_998b4000_57a5_11e9_836f_701ce71031efrow0_col4\" class=\"data row0 col4\" >33.39%</td> \n",
       "    </tr>    <tr> \n",
       "        <th id=\"T_998b4000_57a5_11e9_836f_701ce71031eflevel0_row1\" class=\"row_heading level0 row1\" >3</th> \n",
       "        <td id=\"T_998b4000_57a5_11e9_836f_701ce71031efrow1_col0\" class=\"data row1 col0\" >shenzhen</td> \n",
       "        <td id=\"T_998b4000_57a5_11e9_836f_701ce71031efrow1_col1\" class=\"data row1 col1\" >15631.3</td> \n",
       "        <td id=\"T_998b4000_57a5_11e9_836f_701ce71031efrow1_col2\" class=\"data row1 col2\" >14000</td> \n",
       "        <td id=\"T_998b4000_57a5_11e9_836f_701ce71031efrow1_col3\" class=\"data row1 col3\" >20757</td> \n",
       "        <td id=\"T_998b4000_57a5_11e9_836f_701ce71031efrow1_col4\" class=\"data row1 col4\" >26.77%</td> \n",
       "    </tr>    <tr> \n",
       "        <th id=\"T_998b4000_57a5_11e9_836f_701ce71031eflevel0_row2\" class=\"row_heading level0 row2\" >1</th> \n",
       "        <td id=\"T_998b4000_57a5_11e9_836f_701ce71031efrow2_col0\" class=\"data row2 col0\" >guangzhou</td> \n",
       "        <td id=\"T_998b4000_57a5_11e9_836f_701ce71031efrow2_col1\" class=\"data row2 col1\" >13031.7</td> \n",
       "        <td id=\"T_998b4000_57a5_11e9_836f_701ce71031efrow2_col2\" class=\"data row2 col2\" >12000</td> \n",
       "        <td id=\"T_998b4000_57a5_11e9_836f_701ce71031efrow2_col3\" class=\"data row2 col3\" >17068</td> \n",
       "        <td id=\"T_998b4000_57a5_11e9_836f_701ce71031efrow2_col4\" class=\"data row2 col4\" >22.01%</td> \n",
       "    </tr>    <tr> \n",
       "        <th id=\"T_998b4000_57a5_11e9_836f_701ce71031eflevel0_row3\" class=\"row_heading level0 row3\" >0</th> \n",
       "        <td id=\"T_998b4000_57a5_11e9_836f_701ce71031efrow3_col0\" class=\"data row3 col0\" >beijing</td> \n",
       "        <td id=\"T_998b4000_57a5_11e9_836f_701ce71031efrow3_col1\" class=\"data row3 col1\" >17453.1</td> \n",
       "        <td id=\"T_998b4000_57a5_11e9_836f_701ce71031efrow3_col2\" class=\"data row3 col2\" >15000</td> \n",
       "        <td id=\"T_998b4000_57a5_11e9_836f_701ce71031efrow3_col3\" class=\"data row3 col3\" >13823</td> \n",
       "        <td id=\"T_998b4000_57a5_11e9_836f_701ce71031efrow3_col4\" class=\"data row3 col4\" >17.83%</td> \n",
       "    </tr></tbody> \n",
       "</table> "
      ],
      "text/plain": [
       "<pandas.io.formats.style.Styler at 0x1b766987160>"
      ]
     },
     "execution_count": 168,
     "metadata": {},
     "output_type": "execute_result"
    }
   ],
   "source": [
    "data_city.sort_values(by='head_count', ascending=False).style.format({\"percentage\":\"{:.2%}\"})"
   ]
  },
  {
   "cell_type": "code",
   "execution_count": null,
   "metadata": {},
   "outputs": [],
   "source": []
  },
  {
   "cell_type": "code",
   "execution_count": 169,
   "metadata": {},
   "outputs": [
    {
     "data": {
      "text/plain": [
       "<BarContainer object of 4 artists>"
      ]
     },
     "execution_count": 169,
     "metadata": {},
     "output_type": "execute_result"
    },
    {
     "data": {
      "image/png": "[encoded data removed]",
      "text/plain": [
       "<Figure size 432x288 with 1 Axes>"
      ]
     },
     "metadata": {
      "needs_background": "light"
     },
     "output_type": "display_data"
    }
   ],
   "source": [
    "plt.bar(data_city.city_, data_city.head_count)"
   ]
  },
  {
   "cell_type": "markdown",
   "metadata": {},
   "source": [
    "# 公司 Company"
   ]
  },
  {
   "cell_type": "markdown",
   "metadata": {},
   "source": [
    "## 公司性质 Company Type"
   ]
  },
  {
   "cell_type": "code",
   "execution_count": 170,
   "metadata": {},
   "outputs": [
    {
     "data": {
      "text/html": [
       "<style  type=\"text/css\" >\n",
       "</style>  \n",
       "<table id=\"T_9c3d3746_57a5_11e9_9fef_701ce71031ef\" > \n",
       "<thead>    <tr> \n",
       "        <th class=\"blank level0\" ></th> \n",
       "        <th class=\"col_heading level0 col0\" >company_type_</th> \n",
       "        <th class=\"col_heading level0 col1\" >salary_mean</th> \n",
       "        <th class=\"col_heading level0 col2\" >salary_median</th> \n",
       "        <th class=\"col_heading level0 col3\" >head_count</th> \n",
       "        <th class=\"col_heading level0 col4\" >percentage</th> \n",
       "    </tr></thead> \n",
       "<tbody>    <tr> \n",
       "        <th id=\"T_9c3d3746_57a5_11e9_9fef_701ce71031eflevel0_row0\" class=\"row_heading level0 row0\" >9</th> \n",
       "        <td id=\"T_9c3d3746_57a5_11e9_9fef_701ce71031efrow0_col0\" class=\"data row0 col0\" >us_eu</td> \n",
       "        <td id=\"T_9c3d3746_57a5_11e9_9fef_701ce71031efrow0_col1\" class=\"data row0 col1\" >18301.1</td> \n",
       "        <td id=\"T_9c3d3746_57a5_11e9_9fef_701ce71031efrow0_col2\" class=\"data row0 col2\" >17500</td> \n",
       "        <td id=\"T_9c3d3746_57a5_11e9_9fef_701ce71031efrow0_col3\" class=\"data row0 col3\" >3531</td> \n",
       "        <td id=\"T_9c3d3746_57a5_11e9_9fef_701ce71031efrow0_col4\" class=\"data row0 col4\" >4.96%</td> \n",
       "    </tr>    <tr> \n",
       "        <th id=\"T_9c3d3746_57a5_11e9_9fef_701ce71031eflevel0_row1\" class=\"row_heading level0 row1\" >7</th> \n",
       "        <td id=\"T_9c3d3746_57a5_11e9_9fef_701ce71031efrow1_col0\" class=\"data row1 col0\" >startup</td> \n",
       "        <td id=\"T_9c3d3746_57a5_11e9_9fef_701ce71031efrow1_col1\" class=\"data row1 col1\" >16353.1</td> \n",
       "        <td id=\"T_9c3d3746_57a5_11e9_9fef_701ce71031efrow1_col2\" class=\"data row1 col2\" >15000</td> \n",
       "        <td id=\"T_9c3d3746_57a5_11e9_9fef_701ce71031efrow1_col3\" class=\"data row1 col3\" >1777</td> \n",
       "        <td id=\"T_9c3d3746_57a5_11e9_9fef_701ce71031efrow1_col4\" class=\"data row1 col4\" >2.50%</td> \n",
       "    </tr>    <tr> \n",
       "        <th id=\"T_9c3d3746_57a5_11e9_9fef_701ce71031eflevel0_row2\" class=\"row_heading level0 row2\" >3</th> \n",
       "        <td id=\"T_9c3d3746_57a5_11e9_9fef_701ce71031efrow2_col0\" class=\"data row2 col0\" >listed</td> \n",
       "        <td id=\"T_9c3d3746_57a5_11e9_9fef_701ce71031efrow2_col1\" class=\"data row2 col1\" >16278.8</td> \n",
       "        <td id=\"T_9c3d3746_57a5_11e9_9fef_701ce71031efrow2_col2\" class=\"data row2 col2\" >15000</td> \n",
       "        <td id=\"T_9c3d3746_57a5_11e9_9fef_701ce71031efrow2_col3\" class=\"data row2 col3\" >7197</td> \n",
       "        <td id=\"T_9c3d3746_57a5_11e9_9fef_701ce71031efrow2_col4\" class=\"data row2 col4\" >10.12%</td> \n",
       "    </tr>    <tr> \n",
       "        <th id=\"T_9c3d3746_57a5_11e9_9fef_701ce71031eflevel0_row3\" class=\"row_heading level0 row3\" >2</th> \n",
       "        <td id=\"T_9c3d3746_57a5_11e9_9fef_701ce71031efrow3_col0\" class=\"data row3 col0\" >foreign_rep</td> \n",
       "        <td id=\"T_9c3d3746_57a5_11e9_9fef_701ce71031efrow3_col1\" class=\"data row3 col1\" >15714.3</td> \n",
       "        <td id=\"T_9c3d3746_57a5_11e9_9fef_701ce71031efrow3_col2\" class=\"data row3 col2\" >12500</td> \n",
       "        <td id=\"T_9c3d3746_57a5_11e9_9fef_701ce71031efrow3_col3\" class=\"data row3 col3\" >56</td> \n",
       "        <td id=\"T_9c3d3746_57a5_11e9_9fef_701ce71031efrow3_col4\" class=\"data row3 col4\" >0.08%</td> \n",
       "    </tr>    <tr> \n",
       "        <th id=\"T_9c3d3746_57a5_11e9_9fef_701ce71031eflevel0_row4\" class=\"row_heading level0 row4\" >8</th> \n",
       "        <td id=\"T_9c3d3746_57a5_11e9_9fef_701ce71031efrow4_col0\" class=\"data row4 col0\" >state</td> \n",
       "        <td id=\"T_9c3d3746_57a5_11e9_9fef_701ce71031efrow4_col1\" class=\"data row4 col1\" >15500.8</td> \n",
       "        <td id=\"T_9c3d3746_57a5_11e9_9fef_701ce71031efrow4_col2\" class=\"data row4 col2\" >14000</td> \n",
       "        <td id=\"T_9c3d3746_57a5_11e9_9fef_701ce71031efrow4_col3\" class=\"data row4 col3\" >3795</td> \n",
       "        <td id=\"T_9c3d3746_57a5_11e9_9fef_701ce71031efrow4_col4\" class=\"data row4 col4\" >5.33%</td> \n",
       "    </tr>    <tr> \n",
       "        <th id=\"T_9c3d3746_57a5_11e9_9fef_701ce71031eflevel0_row5\" class=\"row_heading level0 row5\" >5</th> \n",
       "        <td id=\"T_9c3d3746_57a5_11e9_9fef_701ce71031efrow5_col0\" class=\"data row5 col0\" >private</td> \n",
       "        <td id=\"T_9c3d3746_57a5_11e9_9fef_701ce71031efrow5_col1\" class=\"data row5 col1\" >15451.8</td> \n",
       "        <td id=\"T_9c3d3746_57a5_11e9_9fef_701ce71031efrow5_col2\" class=\"data row5 col2\" >13000</td> \n",
       "        <td id=\"T_9c3d3746_57a5_11e9_9fef_701ce71031efrow5_col3\" class=\"data row5 col3\" >50380</td> \n",
       "        <td id=\"T_9c3d3746_57a5_11e9_9fef_701ce71031efrow5_col4\" class=\"data row5 col4\" >70.81%</td> \n",
       "    </tr>    <tr> \n",
       "        <th id=\"T_9c3d3746_57a5_11e9_9fef_701ce71031eflevel0_row6\" class=\"row_heading level0 row6\" >0</th> \n",
       "        <td id=\"T_9c3d3746_57a5_11e9_9fef_701ce71031efrow6_col0\" class=\"data row6 col0\" >foreign</td> \n",
       "        <td id=\"T_9c3d3746_57a5_11e9_9fef_701ce71031efrow6_col1\" class=\"data row6 col1\" >15226.2</td> \n",
       "        <td id=\"T_9c3d3746_57a5_11e9_9fef_701ce71031efrow6_col2\" class=\"data row6 col2\" >12500</td> \n",
       "        <td id=\"T_9c3d3746_57a5_11e9_9fef_701ce71031efrow6_col3\" class=\"data row6 col3\" >3895</td> \n",
       "        <td id=\"T_9c3d3746_57a5_11e9_9fef_701ce71031efrow6_col4\" class=\"data row6 col4\" >5.47%</td> \n",
       "    </tr>    <tr> \n",
       "        <th id=\"T_9c3d3746_57a5_11e9_9fef_701ce71031eflevel0_row7\" class=\"row_heading level0 row7\" >6</th> \n",
       "        <td id=\"T_9c3d3746_57a5_11e9_9fef_701ce71031efrow7_col0\" class=\"data row7 col0\" >public_institution</td> \n",
       "        <td id=\"T_9c3d3746_57a5_11e9_9fef_701ce71031efrow7_col1\" class=\"data row7 col1\" >14149.4</td> \n",
       "        <td id=\"T_9c3d3746_57a5_11e9_9fef_701ce71031efrow7_col2\" class=\"data row7 col2\" >12500</td> \n",
       "        <td id=\"T_9c3d3746_57a5_11e9_9fef_701ce71031efrow7_col3\" class=\"data row7 col3\" >436</td> \n",
       "        <td id=\"T_9c3d3746_57a5_11e9_9fef_701ce71031efrow7_col4\" class=\"data row7 col4\" >0.61%</td> \n",
       "    </tr>    <tr> \n",
       "        <th id=\"T_9c3d3746_57a5_11e9_9fef_701ce71031eflevel0_row8\" class=\"row_heading level0 row8\" >4</th> \n",
       "        <td id=\"T_9c3d3746_57a5_11e9_9fef_701ce71031efrow8_col0\" class=\"data row8 col0\" >non_profit</td> \n",
       "        <td id=\"T_9c3d3746_57a5_11e9_9fef_701ce71031efrow8_col1\" class=\"data row8 col1\" >11548.8</td> \n",
       "        <td id=\"T_9c3d3746_57a5_11e9_9fef_701ce71031efrow8_col2\" class=\"data row8 col2\" >10500</td> \n",
       "        <td id=\"T_9c3d3746_57a5_11e9_9fef_701ce71031efrow8_col3\" class=\"data row8 col3\" >70</td> \n",
       "        <td id=\"T_9c3d3746_57a5_11e9_9fef_701ce71031efrow8_col4\" class=\"data row8 col4\" >0.10%</td> \n",
       "    </tr>    <tr> \n",
       "        <th id=\"T_9c3d3746_57a5_11e9_9fef_701ce71031eflevel0_row9\" class=\"row_heading level0 row9\" >1</th> \n",
       "        <td id=\"T_9c3d3746_57a5_11e9_9fef_701ce71031efrow9_col0\" class=\"data row9 col0\" >foreign_gov</td> \n",
       "        <td id=\"T_9c3d3746_57a5_11e9_9fef_701ce71031efrow9_col1\" class=\"data row9 col1\" >10527.8</td> \n",
       "        <td id=\"T_9c3d3746_57a5_11e9_9fef_701ce71031efrow9_col2\" class=\"data row9 col2\" >7000</td> \n",
       "        <td id=\"T_9c3d3746_57a5_11e9_9fef_701ce71031efrow9_col3\" class=\"data row9 col3\" >9</td> \n",
       "        <td id=\"T_9c3d3746_57a5_11e9_9fef_701ce71031efrow9_col4\" class=\"data row9 col4\" >0.01%</td> \n",
       "    </tr></tbody> \n",
       "</table> "
      ],
      "text/plain": [
       "<pandas.io.formats.style.Styler at 0x1b76cc950f0>"
      ]
     },
     "execution_count": 170,
     "metadata": {},
     "output_type": "execute_result"
    }
   ],
   "source": [
    "data_company_type=get_sub_stats(data,'company_type_')\n",
    "data_company_type.style.format({\"percentage\":\"{:.2%}\"})"
   ]
  },
  {
   "cell_type": "markdown",
   "metadata": {},
   "source": [
    "us_eu是欧美外企，startup是创业公司，listed是上市公司，state是国企，private是私企，foreign是非欧美外企，其他不足1000个样本的不管了。"
   ]
  },
  {
   "cell_type": "code",
   "execution_count": 171,
   "metadata": {},
   "outputs": [],
   "source": [
    "salary_us_eu=data[data.company_type_us_eu==1].monthly_salary\n",
    "salary_startup=data[data.company_type_startup==1].monthly_salary\n",
    "salary_listed=data[data.company_type_listed==1].monthly_salary"
   ]
  },
  {
   "cell_type": "code",
   "execution_count": 172,
   "metadata": {},
   "outputs": [
    {
     "data": {
      "text/plain": [
       "F_onewayResult(statistic=53.96465474051579, pvalue=2.351111467004394e-13)"
      ]
     },
     "execution_count": 172,
     "metadata": {},
     "output_type": "execute_result"
    }
   ],
   "source": [
    "stats.f_oneway(salary_us_eu,salary_startup)"
   ]
  },
  {
   "cell_type": "code",
   "execution_count": 173,
   "metadata": {},
   "outputs": [
    {
     "data": {
      "text/plain": [
       "F_onewayResult(statistic=146.1796365323301, pvalue=1.9559438664827014e-33)"
      ]
     },
     "execution_count": 173,
     "metadata": {},
     "output_type": "execute_result"
    }
   ],
   "source": [
    "stats.f_oneway(salary_us_eu,salary_listed)"
   ]
  },
  {
   "cell_type": "markdown",
   "metadata": {},
   "source": [
    "由上报可知，欧美外企的工资显著高于其他企业。比创业公司和上司公司足足高了2000元呀。要努力学好英语呀！\n",
    "\n",
    "顺便做个广告，大家如果想通过看美剧或者看英文书提高英语，可以上我的网站，美剧单词网。里面会把你不懂的单词列出来，你再去听美剧，听英语有声书（网站提供），就能听懂了。\n",
    "\n",
    "https://www.tvshowwords.com/\n"
   ]
  },
  {
   "cell_type": "markdown",
   "metadata": {},
   "source": [
    "## 公司规模 Company Size"
   ]
  },
  {
   "cell_type": "code",
   "execution_count": 174,
   "metadata": {},
   "outputs": [
    {
     "data": {
      "text/html": [
       "<style  type=\"text/css\" >\n",
       "</style>  \n",
       "<table id=\"T_9e8c9b42_57a5_11e9_843a_701ce71031ef\" > \n",
       "<thead>    <tr> \n",
       "        <th class=\"blank level0\" ></th> \n",
       "        <th class=\"col_heading level0 col0\" >company_size_</th> \n",
       "        <th class=\"col_heading level0 col1\" >salary_mean</th> \n",
       "        <th class=\"col_heading level0 col2\" >salary_median</th> \n",
       "        <th class=\"col_heading level0 col3\" >head_count</th> \n",
       "        <th class=\"col_heading level0 col4\" >percentage</th> \n",
       "    </tr></thead> \n",
       "<tbody>    <tr> \n",
       "        <th id=\"T_9e8c9b42_57a5_11e9_843a_701ce71031eflevel0_row0\" class=\"row_heading level0 row0\" >0</th> \n",
       "        <td id=\"T_9e8c9b42_57a5_11e9_843a_701ce71031efrow0_col0\" class=\"data row0 col0\" >10000</td> \n",
       "        <td id=\"T_9e8c9b42_57a5_11e9_843a_701ce71031efrow0_col1\" class=\"data row0 col1\" >21269.5</td> \n",
       "        <td id=\"T_9e8c9b42_57a5_11e9_843a_701ce71031efrow0_col2\" class=\"data row0 col2\" >17500</td> \n",
       "        <td id=\"T_9e8c9b42_57a5_11e9_843a_701ce71031efrow0_col3\" class=\"data row0 col3\" >3676</td> \n",
       "        <td id=\"T_9e8c9b42_57a5_11e9_843a_701ce71031efrow0_col4\" class=\"data row0 col4\" >4.76%</td> \n",
       "    </tr>    <tr> \n",
       "        <th id=\"T_9e8c9b42_57a5_11e9_843a_701ce71031eflevel0_row1\" class=\"row_heading level0 row1\" >1</th> \n",
       "        <td id=\"T_9e8c9b42_57a5_11e9_843a_701ce71031efrow1_col0\" class=\"data row1 col0\" >1000_5000</td> \n",
       "        <td id=\"T_9e8c9b42_57a5_11e9_843a_701ce71031efrow1_col1\" class=\"data row1 col1\" >16960</td> \n",
       "        <td id=\"T_9e8c9b42_57a5_11e9_843a_701ce71031efrow1_col2\" class=\"data row1 col2\" >15000</td> \n",
       "        <td id=\"T_9e8c9b42_57a5_11e9_843a_701ce71031efrow1_col3\" class=\"data row1 col3\" >10858</td> \n",
       "        <td id=\"T_9e8c9b42_57a5_11e9_843a_701ce71031efrow1_col4\" class=\"data row1 col4\" >14.06%</td> \n",
       "    </tr>    <tr> \n",
       "        <th id=\"T_9e8c9b42_57a5_11e9_843a_701ce71031eflevel0_row2\" class=\"row_heading level0 row2\" >4</th> \n",
       "        <td id=\"T_9e8c9b42_57a5_11e9_843a_701ce71031efrow2_col0\" class=\"data row2 col0\" >5000_10000</td> \n",
       "        <td id=\"T_9e8c9b42_57a5_11e9_843a_701ce71031efrow2_col1\" class=\"data row2 col1\" >16854.4</td> \n",
       "        <td id=\"T_9e8c9b42_57a5_11e9_843a_701ce71031efrow2_col2\" class=\"data row2 col2\" >15000</td> \n",
       "        <td id=\"T_9e8c9b42_57a5_11e9_843a_701ce71031efrow2_col3\" class=\"data row2 col3\" >1784</td> \n",
       "        <td id=\"T_9e8c9b42_57a5_11e9_843a_701ce71031efrow2_col4\" class=\"data row2 col4\" >2.31%</td> \n",
       "    </tr>    <tr> \n",
       "        <th id=\"T_9e8c9b42_57a5_11e9_843a_701ce71031eflevel0_row3\" class=\"row_heading level0 row3\" >5</th> \n",
       "        <td id=\"T_9e8c9b42_57a5_11e9_843a_701ce71031efrow3_col0\" class=\"data row3 col0\" >500_1000</td> \n",
       "        <td id=\"T_9e8c9b42_57a5_11e9_843a_701ce71031efrow3_col1\" class=\"data row3 col1\" >16762.5</td> \n",
       "        <td id=\"T_9e8c9b42_57a5_11e9_843a_701ce71031efrow3_col2\" class=\"data row3 col2\" >15000</td> \n",
       "        <td id=\"T_9e8c9b42_57a5_11e9_843a_701ce71031efrow3_col3\" class=\"data row3 col3\" >8274</td> \n",
       "        <td id=\"T_9e8c9b42_57a5_11e9_843a_701ce71031efrow3_col4\" class=\"data row3 col4\" >10.71%</td> \n",
       "    </tr>    <tr> \n",
       "        <th id=\"T_9e8c9b42_57a5_11e9_843a_701ce71031eflevel0_row4\" class=\"row_heading level0 row4\" >2</th> \n",
       "        <td id=\"T_9e8c9b42_57a5_11e9_843a_701ce71031efrow4_col0\" class=\"data row4 col0\" >150_500</td> \n",
       "        <td id=\"T_9e8c9b42_57a5_11e9_843a_701ce71031efrow4_col1\" class=\"data row4 col1\" >15714.7</td> \n",
       "        <td id=\"T_9e8c9b42_57a5_11e9_843a_701ce71031efrow4_col2\" class=\"data row4 col2\" >14000</td> \n",
       "        <td id=\"T_9e8c9b42_57a5_11e9_843a_701ce71031efrow4_col3\" class=\"data row4 col3\" >17839</td> \n",
       "        <td id=\"T_9e8c9b42_57a5_11e9_843a_701ce71031efrow4_col4\" class=\"data row4 col4\" >23.09%</td> \n",
       "    </tr>    <tr> \n",
       "        <th id=\"T_9e8c9b42_57a5_11e9_843a_701ce71031eflevel0_row5\" class=\"row_heading level0 row5\" >6</th> \n",
       "        <td id=\"T_9e8c9b42_57a5_11e9_843a_701ce71031efrow5_col0\" class=\"data row5 col0\" >50_150</td> \n",
       "        <td id=\"T_9e8c9b42_57a5_11e9_843a_701ce71031efrow5_col1\" class=\"data row5 col1\" >14682.2</td> \n",
       "        <td id=\"T_9e8c9b42_57a5_11e9_843a_701ce71031efrow5_col2\" class=\"data row5 col2\" >12500</td> \n",
       "        <td id=\"T_9e8c9b42_57a5_11e9_843a_701ce71031efrow5_col3\" class=\"data row5 col3\" >22547</td> \n",
       "        <td id=\"T_9e8c9b42_57a5_11e9_843a_701ce71031efrow5_col4\" class=\"data row5 col4\" >29.19%</td> \n",
       "    </tr>    <tr> \n",
       "        <th id=\"T_9e8c9b42_57a5_11e9_843a_701ce71031eflevel0_row6\" class=\"row_heading level0 row6\" >3</th> \n",
       "        <td id=\"T_9e8c9b42_57a5_11e9_843a_701ce71031efrow6_col0\" class=\"data row6 col0\" >50</td> \n",
       "        <td id=\"T_9e8c9b42_57a5_11e9_843a_701ce71031efrow6_col1\" class=\"data row6 col1\" >13900.6</td> \n",
       "        <td id=\"T_9e8c9b42_57a5_11e9_843a_701ce71031efrow6_col2\" class=\"data row6 col2\" >12500</td> \n",
       "        <td id=\"T_9e8c9b42_57a5_11e9_843a_701ce71031efrow6_col3\" class=\"data row6 col3\" >12268</td> \n",
       "        <td id=\"T_9e8c9b42_57a5_11e9_843a_701ce71031efrow6_col4\" class=\"data row6 col4\" >15.88%</td> \n",
       "    </tr></tbody> \n",
       "</table> "
      ],
      "text/plain": [
       "<pandas.io.formats.style.Styler at 0x1b76ccb9780>"
      ]
     },
     "execution_count": 174,
     "metadata": {},
     "output_type": "execute_result"
    }
   ],
   "source": [
    "data_company_size=get_sub_stats(data,'company_size_')\n",
    "data_company_size.style.format({\"percentage\":\"{:.2%}\"})"
   ]
  },
  {
   "cell_type": "markdown",
   "metadata": {},
   "source": [
    "公司越大，工资越高"
   ]
  },
  {
   "cell_type": "markdown",
   "metadata": {},
   "source": [
    "## 行业 Industry"
   ]
  },
  {
   "cell_type": "code",
   "execution_count": 175,
   "metadata": {},
   "outputs": [
    {
     "data": {
      "text/html": [
       "<style  type=\"text/css\" >\n",
       "</style>  \n",
       "<table id=\"T_a0616170_57a5_11e9_bfc2_701ce71031ef\" > \n",
       "<thead>    <tr> \n",
       "        <th class=\"blank level0\" ></th> \n",
       "        <th class=\"col_heading level0 col0\" >industry_</th> \n",
       "        <th class=\"col_heading level0 col1\" >salary_mean</th> \n",
       "        <th class=\"col_heading level0 col2\" >salary_median</th> \n",
       "        <th class=\"col_heading level0 col3\" >head_count</th> \n",
       "        <th class=\"col_heading level0 col4\" >percentage</th> \n",
       "    </tr></thead> \n",
       "<tbody>    <tr> \n",
       "        <th id=\"T_a0616170_57a5_11e9_bfc2_701ce71031eflevel0_row0\" class=\"row_heading level0 row0\" >4</th> \n",
       "        <td id=\"T_a0616170_57a5_11e9_bfc2_701ce71031efrow0_col0\" class=\"data row0 col0\" >finance</td> \n",
       "        <td id=\"T_a0616170_57a5_11e9_bfc2_701ce71031efrow0_col1\" class=\"data row0 col1\" >17488.9</td> \n",
       "        <td id=\"T_a0616170_57a5_11e9_bfc2_701ce71031efrow0_col2\" class=\"data row0 col2\" >16000</td> \n",
       "        <td id=\"T_a0616170_57a5_11e9_bfc2_701ce71031efrow0_col3\" class=\"data row0 col3\" >3766</td> \n",
       "        <td id=\"T_a0616170_57a5_11e9_bfc2_701ce71031efrow0_col4\" class=\"data row0 col4\" >3.99%</td> \n",
       "    </tr>    <tr> \n",
       "        <th id=\"T_a0616170_57a5_11e9_bfc2_701ce71031eflevel0_row1\" class=\"row_heading level0 row1\" >2</th> \n",
       "        <td id=\"T_a0616170_57a5_11e9_bfc2_701ce71031efrow1_col0\" class=\"data row1 col0\" >edu</td> \n",
       "        <td id=\"T_a0616170_57a5_11e9_bfc2_701ce71031efrow1_col1\" class=\"data row1 col1\" >17159.8</td> \n",
       "        <td id=\"T_a0616170_57a5_11e9_bfc2_701ce71031efrow1_col2\" class=\"data row1 col2\" >15000</td> \n",
       "        <td id=\"T_a0616170_57a5_11e9_bfc2_701ce71031efrow1_col3\" class=\"data row1 col3\" >5812</td> \n",
       "        <td id=\"T_a0616170_57a5_11e9_bfc2_701ce71031efrow1_col4\" class=\"data row1 col4\" >6.16%</td> \n",
       "    </tr>    <tr> \n",
       "        <th id=\"T_a0616170_57a5_11e9_bfc2_701ce71031eflevel0_row2\" class=\"row_heading level0 row2\" >9</th> \n",
       "        <td id=\"T_a0616170_57a5_11e9_bfc2_701ce71031efrow2_col0\" class=\"data row2 col0\" >service</td> \n",
       "        <td id=\"T_a0616170_57a5_11e9_bfc2_701ce71031efrow2_col1\" class=\"data row2 col1\" >16134.1</td> \n",
       "        <td id=\"T_a0616170_57a5_11e9_bfc2_701ce71031efrow2_col2\" class=\"data row2 col2\" >14583.3</td> \n",
       "        <td id=\"T_a0616170_57a5_11e9_bfc2_701ce71031efrow2_col3\" class=\"data row2 col3\" >933</td> \n",
       "        <td id=\"T_a0616170_57a5_11e9_bfc2_701ce71031efrow2_col4\" class=\"data row2 col4\" >0.99%</td> \n",
       "    </tr>    <tr> \n",
       "        <th id=\"T_a0616170_57a5_11e9_bfc2_701ce71031eflevel0_row3\" class=\"row_heading level0 row3\" >6</th> \n",
       "        <td id=\"T_a0616170_57a5_11e9_bfc2_701ce71031efrow3_col0\" class=\"data row3 col0\" >logistic</td> \n",
       "        <td id=\"T_a0616170_57a5_11e9_bfc2_701ce71031efrow3_col1\" class=\"data row3 col1\" >15996.2</td> \n",
       "        <td id=\"T_a0616170_57a5_11e9_bfc2_701ce71031efrow3_col2\" class=\"data row3 col2\" >14000</td> \n",
       "        <td id=\"T_a0616170_57a5_11e9_bfc2_701ce71031efrow3_col3\" class=\"data row3 col3\" >1350</td> \n",
       "        <td id=\"T_a0616170_57a5_11e9_bfc2_701ce71031efrow3_col4\" class=\"data row3 col4\" >1.43%</td> \n",
       "    </tr>    <tr> \n",
       "        <th id=\"T_a0616170_57a5_11e9_bfc2_701ce71031eflevel0_row4\" class=\"row_heading level0 row4\" >1</th> \n",
       "        <td id=\"T_a0616170_57a5_11e9_bfc2_701ce71031efrow4_col0\" class=\"data row4 col0\" >computer</td> \n",
       "        <td id=\"T_a0616170_57a5_11e9_bfc2_701ce71031efrow4_col1\" class=\"data row4 col1\" >15752.1</td> \n",
       "        <td id=\"T_a0616170_57a5_11e9_bfc2_701ce71031efrow4_col2\" class=\"data row4 col2\" >14000</td> \n",
       "        <td id=\"T_a0616170_57a5_11e9_bfc2_701ce71031efrow4_col3\" class=\"data row4 col3\" >65762</td> \n",
       "        <td id=\"T_a0616170_57a5_11e9_bfc2_701ce71031efrow4_col4\" class=\"data row4 col4\" >69.72%</td> \n",
       "    </tr>    <tr> \n",
       "        <th id=\"T_a0616170_57a5_11e9_bfc2_701ce71031eflevel0_row5\" class=\"row_heading level0 row5\" >5</th> \n",
       "        <td id=\"T_a0616170_57a5_11e9_bfc2_701ce71031efrow5_col0\" class=\"data row5 col0\" >gov</td> \n",
       "        <td id=\"T_a0616170_57a5_11e9_bfc2_701ce71031efrow5_col1\" class=\"data row5 col1\" >15275.6</td> \n",
       "        <td id=\"T_a0616170_57a5_11e9_bfc2_701ce71031efrow5_col2\" class=\"data row5 col2\" >12500</td> \n",
       "        <td id=\"T_a0616170_57a5_11e9_bfc2_701ce71031efrow5_col3\" class=\"data row5 col3\" >1954</td> \n",
       "        <td id=\"T_a0616170_57a5_11e9_bfc2_701ce71031efrow5_col4\" class=\"data row5 col4\" >2.07%</td> \n",
       "    </tr>    <tr> \n",
       "        <th id=\"T_a0616170_57a5_11e9_bfc2_701ce71031eflevel0_row6\" class=\"row_heading level0 row6\" >10</th> \n",
       "        <td id=\"T_a0616170_57a5_11e9_bfc2_701ce71031efrow6_col0\" class=\"data row6 col0\" >trade</td> \n",
       "        <td id=\"T_a0616170_57a5_11e9_bfc2_701ce71031efrow6_col1\" class=\"data row6 col1\" >15062.7</td> \n",
       "        <td id=\"T_a0616170_57a5_11e9_bfc2_701ce71031efrow6_col2\" class=\"data row6 col2\" >12500</td> \n",
       "        <td id=\"T_a0616170_57a5_11e9_bfc2_701ce71031efrow6_col3\" class=\"data row6 col3\" >7199</td> \n",
       "        <td id=\"T_a0616170_57a5_11e9_bfc2_701ce71031efrow6_col4\" class=\"data row6 col4\" >7.63%</td> \n",
       "    </tr>    <tr> \n",
       "        <th id=\"T_a0616170_57a5_11e9_bfc2_701ce71031eflevel0_row7\" class=\"row_heading level0 row7\" >7</th> \n",
       "        <td id=\"T_a0616170_57a5_11e9_bfc2_701ce71031efrow7_col0\" class=\"data row7 col0\" >medical</td> \n",
       "        <td id=\"T_a0616170_57a5_11e9_bfc2_701ce71031efrow7_col1\" class=\"data row7 col1\" >14738.3</td> \n",
       "        <td id=\"T_a0616170_57a5_11e9_bfc2_701ce71031efrow7_col2\" class=\"data row7 col2\" >13000</td> \n",
       "        <td id=\"T_a0616170_57a5_11e9_bfc2_701ce71031efrow7_col3\" class=\"data row7 col3\" >2386</td> \n",
       "        <td id=\"T_a0616170_57a5_11e9_bfc2_701ce71031efrow7_col4\" class=\"data row7 col4\" >2.53%</td> \n",
       "    </tr>    <tr> \n",
       "        <th id=\"T_a0616170_57a5_11e9_bfc2_701ce71031eflevel0_row8\" class=\"row_heading level0 row8\" >8</th> \n",
       "        <td id=\"T_a0616170_57a5_11e9_bfc2_701ce71031efrow8_col0\" class=\"data row8 col0\" >realestate</td> \n",
       "        <td id=\"T_a0616170_57a5_11e9_bfc2_701ce71031efrow8_col1\" class=\"data row8 col1\" >14676.8</td> \n",
       "        <td id=\"T_a0616170_57a5_11e9_bfc2_701ce71031efrow8_col2\" class=\"data row8 col2\" >12500</td> \n",
       "        <td id=\"T_a0616170_57a5_11e9_bfc2_701ce71031efrow8_col3\" class=\"data row8 col3\" >1710</td> \n",
       "        <td id=\"T_a0616170_57a5_11e9_bfc2_701ce71031efrow8_col4\" class=\"data row8 col4\" >1.81%</td> \n",
       "    </tr>    <tr> \n",
       "        <th id=\"T_a0616170_57a5_11e9_bfc2_701ce71031eflevel0_row9\" class=\"row_heading level0 row9\" >0</th> \n",
       "        <td id=\"T_a0616170_57a5_11e9_bfc2_701ce71031efrow9_col0\" class=\"data row9 col0\" >ads</td> \n",
       "        <td id=\"T_a0616170_57a5_11e9_bfc2_701ce71031efrow9_col1\" class=\"data row9 col1\" >14406.6</td> \n",
       "        <td id=\"T_a0616170_57a5_11e9_bfc2_701ce71031efrow9_col2\" class=\"data row9 col2\" >12500</td> \n",
       "        <td id=\"T_a0616170_57a5_11e9_bfc2_701ce71031efrow9_col3\" class=\"data row9 col3\" >1815</td> \n",
       "        <td id=\"T_a0616170_57a5_11e9_bfc2_701ce71031efrow9_col4\" class=\"data row9 col4\" >1.92%</td> \n",
       "    </tr>    <tr> \n",
       "        <th id=\"T_a0616170_57a5_11e9_bfc2_701ce71031eflevel0_row10\" class=\"row_heading level0 row10\" >3</th> \n",
       "        <td id=\"T_a0616170_57a5_11e9_bfc2_701ce71031efrow10_col0\" class=\"data row10 col0\" >energy</td> \n",
       "        <td id=\"T_a0616170_57a5_11e9_bfc2_701ce71031efrow10_col1\" class=\"data row10 col1\" >14319.6</td> \n",
       "        <td id=\"T_a0616170_57a5_11e9_bfc2_701ce71031efrow10_col2\" class=\"data row10 col2\" >12500</td> \n",
       "        <td id=\"T_a0616170_57a5_11e9_bfc2_701ce71031efrow10_col3\" class=\"data row10 col3\" >1635</td> \n",
       "        <td id=\"T_a0616170_57a5_11e9_bfc2_701ce71031efrow10_col4\" class=\"data row10 col4\" >1.73%</td> \n",
       "    </tr></tbody> \n",
       "</table> "
      ],
      "text/plain": [
       "<pandas.io.formats.style.Styler at 0x1b75e3cfda0>"
      ]
     },
     "execution_count": 175,
     "metadata": {},
     "output_type": "execute_result"
    }
   ],
   "source": [
    "data_industry=get_sub_stats(data,'industry_')\n",
    "data_industry.style.format({\"percentage\":\"{:.2%}\"})"
   ]
  },
  {
   "cell_type": "markdown",
   "metadata": {},
   "source": [
    "金融业果然是工资最高的。"
   ]
  },
  {
   "cell_type": "code",
   "execution_count": null,
   "metadata": {},
   "outputs": [],
   "source": []
  }
 ],
 "metadata": {
  "kernelspec": {
   "display_name": "Python 3",
   "language": "python",
   "name": "python3"
  },
  "language_info": {
   "codemirror_mode": {
    "name": "ipython",
    "version": 3
   },
   "file_extension": ".py",
   "mimetype": "text/x-python",
   "name": "python",
   "nbconvert_exporter": "python",
   "pygments_lexer": "ipython3",
   "version": "3.7.1"
  }
 },
 "nbformat": 4,
 "nbformat_minor": 2
}
