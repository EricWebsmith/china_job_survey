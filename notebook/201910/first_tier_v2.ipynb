{
 "cells": [
  {
   "cell_type": "code",
   "execution_count": 1,
   "metadata": {},
   "outputs": [],
   "source": [
    "year=2019\n",
    "month=10"
   ]
  },
  {
   "cell_type": "markdown",
   "metadata": {},
   "source": [
    "# Developer Salary in First-Tier Cities 程序员工资调查\n",
    "我在4月1日到3日之间，抓取了某招聘网站的软件和互联网类招聘数据40万条，其中通过程序判断为程序员的14万条。地域方面，我选择了24个主要城市。不过本文只以一线城市为研究对象。这样是为了和我2017年6月的数据做对比。\n",
    "\n",
    "提到2017年的文章，现在居然还有很多人，把这篇文章拿出来炒作。对于社会来说，可气的是，他们直接把2017改成2019，就发表了，这不是骗人么？！对于我来说，可气的是，他们转载居然还冒充是原创，是可忍熟不可忍！"
   ]
  },
  {
   "cell_type": "code",
   "execution_count": 2,
   "metadata": {},
   "outputs": [],
   "source": [
    "import pandas as pd\n",
    "import sys\n",
    "sys.path.append('..')\n",
    "sys.path.append('../py')\n",
    "sys.path.append('../../py')\n",
    "import db\n",
    "import inspect\n",
    "import matplotlib.pyplot as plt\n",
    "plt.rcParams['font.sans-serif']=['SimHei'] #用来正常显示中文标签\n",
    "plt.rcParams['axes.unicode_minus']=False #用来正常显示负号\n",
    "import seaborn as sns\n",
    "import scipy.stats as stats\n",
    "import numpy as np\n",
    "import weighted\n",
    "%matplotlib inline"
   ]
  },
  {
   "cell_type": "code",
   "execution_count": 3,
   "metadata": {},
   "outputs": [],
   "source": [
    "conn=db.get_conn()\n",
    "data_original=pd.read_sql(sql=f\"select * from _{year}{month:02} where monthly_salary>0 and monthly_salary<80000 and city in ('北京','上海','广州','深圳')  and monthly_salary<80000 and YEAR(publish_date)={year} and MONTH(publish_date)={month}  \", con=conn)\n",
    "conn.close()"
   ]
  },
  {
   "cell_type": "code",
   "execution_count": 4,
   "metadata": {},
   "outputs": [],
   "source": [
    "error_job_ids=['104660258','104142922','108434795','101357291','106253516','110368302','111391233','108665401','109277048'\n",
    "                  ,'73857191','108584955','102824950','102824949','111391233','110884556']\n",
    "data=data_original[~data_original.job_id.isin(error_job_ids)]"
   ]
  },
  {
   "cell_type": "code",
   "execution_count": 5,
   "metadata": {},
   "outputs": [],
   "source": [
    "#del data['publish_date']\n",
    "#del data['published_on_weekend']\n",
    "#del data['title']\n",
    "#del data['title']\n",
    "#del data['company_title']\n",
    "#del data['company_description']\n",
    "#del data['job_description']\n",
    "#del data['job_id']"
   ]
  },
  {
   "cell_type": "code",
   "execution_count": 6,
   "metadata": {},
   "outputs": [
    {
     "data": {
      "text/html": [
       "<div>\n",
       "<style scoped>\n",
       "    .dataframe tbody tr th:only-of-type {\n",
       "        vertical-align: middle;\n",
       "    }\n",
       "\n",
       "    .dataframe tbody tr th {\n",
       "        vertical-align: top;\n",
       "    }\n",
       "\n",
       "    .dataframe thead th {\n",
       "        text-align: right;\n",
       "    }\n",
       "</style>\n",
       "<table border=\"1\" class=\"dataframe\">\n",
       "  <thead>\n",
       "    <tr style=\"text-align: right;\">\n",
       "      <th></th>\n",
       "      <th>job_id</th>\n",
       "      <th>monthly_salary</th>\n",
       "      <th>headcount</th>\n",
       "      <th>title</th>\n",
       "      <th>zhinengleibie</th>\n",
       "      <th>career</th>\n",
       "      <th>real_province</th>\n",
       "      <th>province</th>\n",
       "      <th>city</th>\n",
       "      <th>company_description</th>\n",
       "      <th>...</th>\n",
       "      <th>pl_visual_basic</th>\n",
       "      <th>publish_date</th>\n",
       "      <th>published_on_weekend</th>\n",
       "      <th>tag_baby_care</th>\n",
       "      <th>tag_five_insurance</th>\n",
       "      <th>tag_flexible</th>\n",
       "      <th>tag_no_overtime</th>\n",
       "      <th>tag_rest_one_day</th>\n",
       "      <th>tag_rest_two_days</th>\n",
       "      <th>tag_stock</th>\n",
       "    </tr>\n",
       "  </thead>\n",
       "  <tbody>\n",
       "    <tr>\n",
       "      <th>2509</th>\n",
       "      <td>116717167</td>\n",
       "      <td>10000</td>\n",
       "      <td>200</td>\n",
       "      <td>海外业务软件工程师（2020届）</td>\n",
       "      <td>软件工程师</td>\n",
       "      <td>一般程序员</td>\n",
       "      <td>None</td>\n",
       "      <td>上海</td>\n",
       "      <td>上海</td>\n",
       "      <td>上海海隆软件有限公司成立于1989年4月，是国内著名软件企业、国家规划布局内重点软件企业。公...</td>\n",
       "      <td>...</td>\n",
       "      <td>False</td>\n",
       "      <td>2019-10-02</td>\n",
       "      <td>False</td>\n",
       "      <td>False</td>\n",
       "      <td>True</td>\n",
       "      <td>True</td>\n",
       "      <td>False</td>\n",
       "      <td>False</td>\n",
       "      <td>False</td>\n",
       "      <td>False</td>\n",
       "    </tr>\n",
       "    <tr>\n",
       "      <th>3554</th>\n",
       "      <td>117502838</td>\n",
       "      <td>10000</td>\n",
       "      <td>50</td>\n",
       "      <td>2020届应届毕业生</td>\n",
       "      <td>深度学习工程师</td>\n",
       "      <td>算法工程师</td>\n",
       "      <td>None</td>\n",
       "      <td>广东</td>\n",
       "      <td>深圳</td>\n",
       "      <td>集团简介：豪恩创建于1995年，是一家按照现代化企业管理运作的科技集团型公司。产业涉及汽车电...</td>\n",
       "      <td>...</td>\n",
       "      <td>False</td>\n",
       "      <td>2019-10-02</td>\n",
       "      <td>False</td>\n",
       "      <td>False</td>\n",
       "      <td>True</td>\n",
       "      <td>False</td>\n",
       "      <td>False</td>\n",
       "      <td>False</td>\n",
       "      <td>False</td>\n",
       "      <td>False</td>\n",
       "    </tr>\n",
       "    <tr>\n",
       "      <th>546</th>\n",
       "      <td>109088859</td>\n",
       "      <td>5250</td>\n",
       "      <td>50</td>\n",
       "      <td>安卓程序员</td>\n",
       "      <td>互联网软件开发工程师</td>\n",
       "      <td>一般程序员</td>\n",
       "      <td>None</td>\n",
       "      <td>广东</td>\n",
       "      <td>广州</td>\n",
       "      <td>象蓝（广州）股份有限公司（以下简称象蓝）成立于2017年9月，是一家专注项目融资，项目研发，...</td>\n",
       "      <td>...</td>\n",
       "      <td>False</td>\n",
       "      <td>2019-10-02</td>\n",
       "      <td>False</td>\n",
       "      <td>False</td>\n",
       "      <td>False</td>\n",
       "      <td>False</td>\n",
       "      <td>False</td>\n",
       "      <td>False</td>\n",
       "      <td>False</td>\n",
       "      <td>False</td>\n",
       "    </tr>\n",
       "    <tr>\n",
       "      <th>545</th>\n",
       "      <td>109088047</td>\n",
       "      <td>5250</td>\n",
       "      <td>50</td>\n",
       "      <td>开发资深程序</td>\n",
       "      <td>系统架构设计师</td>\n",
       "      <td>系统架构师</td>\n",
       "      <td>None</td>\n",
       "      <td>广东</td>\n",
       "      <td>广州</td>\n",
       "      <td>象蓝（广州）股份有限公司（以下简称象蓝）成立于2017年9月，是一家专注项目融资，项目研发，...</td>\n",
       "      <td>...</td>\n",
       "      <td>False</td>\n",
       "      <td>2019-10-02</td>\n",
       "      <td>False</td>\n",
       "      <td>False</td>\n",
       "      <td>False</td>\n",
       "      <td>False</td>\n",
       "      <td>False</td>\n",
       "      <td>False</td>\n",
       "      <td>False</td>\n",
       "      <td>False</td>\n",
       "    </tr>\n",
       "    <tr>\n",
       "      <th>547</th>\n",
       "      <td>109088921</td>\n",
       "      <td>5250</td>\n",
       "      <td>50</td>\n",
       "      <td>ios程序员</td>\n",
       "      <td>互联网软件开发工程师</td>\n",
       "      <td>一般程序员</td>\n",
       "      <td>None</td>\n",
       "      <td>广东</td>\n",
       "      <td>广州</td>\n",
       "      <td>象蓝（广州）股份有限公司（以下简称象蓝）成立于2017年9月，是一家专注项目融资，项目研发，...</td>\n",
       "      <td>...</td>\n",
       "      <td>False</td>\n",
       "      <td>2019-10-02</td>\n",
       "      <td>False</td>\n",
       "      <td>False</td>\n",
       "      <td>False</td>\n",
       "      <td>False</td>\n",
       "      <td>False</td>\n",
       "      <td>False</td>\n",
       "      <td>False</td>\n",
       "      <td>False</td>\n",
       "    </tr>\n",
       "  </tbody>\n",
       "</table>\n",
       "<p>5 rows × 94 columns</p>\n",
       "</div>"
      ],
      "text/plain": [
       "         job_id  monthly_salary  headcount             title zhinengleibie  \\\n",
       "2509  116717167           10000        200  海外业务软件工程师（2020届）         软件工程师   \n",
       "3554  117502838           10000         50        2020届应届毕业生       深度学习工程师   \n",
       "546   109088859            5250         50             安卓程序员    互联网软件开发工程师   \n",
       "545   109088047            5250         50            开发资深程序       系统架构设计师   \n",
       "547   109088921            5250         50            ios程序员    互联网软件开发工程师   \n",
       "\n",
       "     career real_province province city  \\\n",
       "2509  一般程序员          None       上海   上海   \n",
       "3554  算法工程师          None       广东   深圳   \n",
       "546   一般程序员          None       广东   广州   \n",
       "545   系统架构师          None       广东   广州   \n",
       "547   一般程序员          None       广东   广州   \n",
       "\n",
       "                                    company_description    ...      \\\n",
       "2509  上海海隆软件有限公司成立于1989年4月，是国内著名软件企业、国家规划布局内重点软件企业。公...    ...       \n",
       "3554  集团简介：豪恩创建于1995年，是一家按照现代化企业管理运作的科技集团型公司。产业涉及汽车电...    ...       \n",
       "546   象蓝（广州）股份有限公司（以下简称象蓝）成立于2017年9月，是一家专注项目融资，项目研发，...    ...       \n",
       "545   象蓝（广州）股份有限公司（以下简称象蓝）成立于2017年9月，是一家专注项目融资，项目研发，...    ...       \n",
       "547   象蓝（广州）股份有限公司（以下简称象蓝）成立于2017年9月，是一家专注项目融资，项目研发，...    ...       \n",
       "\n",
       "     pl_visual_basic publish_date published_on_weekend tag_baby_care  \\\n",
       "2509           False   2019-10-02                False         False   \n",
       "3554           False   2019-10-02                False         False   \n",
       "546            False   2019-10-02                False         False   \n",
       "545            False   2019-10-02                False         False   \n",
       "547            False   2019-10-02                False         False   \n",
       "\n",
       "      tag_five_insurance  tag_flexible  tag_no_overtime  tag_rest_one_day  \\\n",
       "2509                True          True            False             False   \n",
       "3554                True         False            False             False   \n",
       "546                False         False            False             False   \n",
       "545                False         False            False             False   \n",
       "547                False         False            False             False   \n",
       "\n",
       "      tag_rest_two_days  tag_stock  \n",
       "2509              False      False  \n",
       "3554              False      False  \n",
       "546               False      False  \n",
       "545               False      False  \n",
       "547               False      False  \n",
       "\n",
       "[5 rows x 94 columns]"
      ]
     },
     "execution_count": 6,
     "metadata": {},
     "output_type": "execute_result"
    }
   ],
   "source": [
    "data=data.sort_values(by='headcount', ascending=False)\n",
    "data.head()"
   ]
  },
  {
   "cell_type": "code",
   "execution_count": 7,
   "metadata": {},
   "outputs": [],
   "source": [
    "def pd_weighted_mean(group, avg_name, weight_name):\n",
    "    \"\"\" http://stackoverflow.com/questions/10951341/pandas-dataframe-aggregate-function-using-multiple-columns\n",
    "    In rare instance, we may not have weights, so just return the mean. Customize this if your business case\n",
    "    should return otherwise.\n",
    "    \"\"\"\n",
    "    d = group[avg_name]\n",
    "    w = group[weight_name]\n",
    "    try:\n",
    "        return (d * w).sum() / w.sum()\n",
    "    except ZeroDivisionError:\n",
    "        return d.mean()\n"
   ]
  },
  {
   "cell_type": "markdown",
   "metadata": {},
   "source": [
    "# Unilateral Stats 总体统计"
   ]
  },
  {
   "cell_type": "markdown",
   "metadata": {},
   "source": [
    "有数据可知，程序员向一线城市集中的趋势非常明显。\n",
    "\n",
    "According to the statistics, significant amount of developers are in the first tier cities."
   ]
  },
  {
   "cell_type": "code",
   "execution_count": 8,
   "metadata": {},
   "outputs": [
    {
     "data": {
      "text/plain": [
       "(4223, 94)"
      ]
     },
     "execution_count": 8,
     "metadata": {},
     "output_type": "execute_result"
    }
   ],
   "source": [
    "data.shape"
   ]
  },
  {
   "cell_type": "code",
   "execution_count": 9,
   "metadata": {},
   "outputs": [
    {
     "data": {
      "text/plain": [
       "15183"
      ]
     },
     "execution_count": 9,
     "metadata": {},
     "output_type": "execute_result"
    }
   ],
   "source": [
    "data.headcount.sum()"
   ]
  },
  {
   "cell_type": "code",
   "execution_count": 10,
   "metadata": {},
   "outputs": [
    {
     "data": {
      "text/plain": [
       "array([ 5000., 10500., 15000., 22500., 40000.])"
      ]
     },
     "execution_count": 10,
     "metadata": {},
     "output_type": "execute_result"
    }
   ],
   "source": [
    "salary_mean=weighted.weighted_mean(data.monthly_salary.values, data.headcount.values)\n",
    "q=weighted.weighted_quantile(data.monthly_salary.values,[0.025,0.25,0.5,0.75,0.975], data.headcount.values)\n",
    "q"
   ]
  },
  {
   "cell_type": "code",
   "execution_count": 11,
   "metadata": {},
   "outputs": [
    {
     "name": "stdout",
     "output_type": "stream",
     "text": [
      "2019年10月中国一线城市程序员的平均工资为17465元，工资中位数为15000元，其中95%的人的工资位于5000到40000元之间。\n"
     ]
    }
   ],
   "source": [
    "print(f'{year}年{month}月中国一线城市程序员的平均工资为{salary_mean:.0f}元，工资中位数为{q[2]:.0f}元，其中95%的人的工资位于{q[0]:.0f}到{q[4]:.0f}元之间。')"
   ]
  },
  {
   "cell_type": "code",
   "execution_count": 12,
   "metadata": {},
   "outputs": [
    {
     "name": "stdout",
     "output_type": "stream",
     "text": [
      "In 2019, Developers in China earn 17465 Yuan as average, the median is 15000 Yuan, 95% of them earn between 5000 and 40000 Yuan.\n"
     ]
    }
   ],
   "source": [
    "print(f'In {year}, Developers in China earn {salary_mean:.0f} Yuan as average, '\n",
    "      f'the median is {q[2]:.0f} Yuan, 95% of them earn between {q[0]:.0f} and {q[4]:.0f} Yuan.')"
   ]
  },
  {
   "cell_type": "code",
   "execution_count": 13,
   "metadata": {},
   "outputs": [
    {
     "data": {
      "text/plain": [
       "<matplotlib.axes._subplots.AxesSubplot at 0x1a361ce20b8>"
      ]
     },
     "execution_count": 13,
     "metadata": {},
     "output_type": "execute_result"
    },
    {
     "data": {
      "image/png": "[encoded data removed]",
      "text/plain": [
       "<Figure size 432x288 with 1 Axes>"
      ]
     },
     "metadata": {
      "needs_background": "light"
     },
     "output_type": "display_data"
    }
   ],
   "source": [
    "data.monthly_salary.hist()"
   ]
  },
  {
   "cell_type": "markdown",
   "metadata": {},
   "source": [
    "It does not look like normal distribution."
   ]
  },
  {
   "cell_type": "code",
   "execution_count": 14,
   "metadata": {},
   "outputs": [],
   "source": [
    "from scipy import stats"
   ]
  },
  {
   "cell_type": "code",
   "execution_count": 15,
   "metadata": {},
   "outputs": [
    {
     "data": {
      "text/plain": [
       "NormaltestResult(statistic=1085.1180909652855, pvalue=2.3420730686742865e-236)"
      ]
     },
     "execution_count": 15,
     "metadata": {},
     "output_type": "execute_result"
    }
   ],
   "source": [
    "stats.normaltest(data.monthly_salary)"
   ]
  },
  {
   "cell_type": "markdown",
   "metadata": {},
   "source": [
    "null hypothesis: x comes from a normal distribution\n",
    "    \n",
    "p=0\n",
    "\n",
    "The null hypothesis can be rejected\n",
    "\n",
    "conclusion: data is not normally distributed."
   ]
  },
  {
   "cell_type": "markdown",
   "metadata": {},
   "source": [
    "Zoom in"
   ]
  },
  {
   "cell_type": "code",
   "execution_count": 16,
   "metadata": {},
   "outputs": [
    {
     "data": {
      "image/png": "[encoded data removed]",
      "text/plain": [
       "<Figure size 432x288 with 1 Axes>"
      ]
     },
     "metadata": {
      "needs_background": "light"
     },
     "output_type": "display_data"
    }
   ],
   "source": [
    "data[data.monthly_salary<40000].monthly_salary.hist()\n",
    "plt.annotate('https://github.com/juwikuang/job_survey', xy=(0,0), xytext=(2000, 100), color='white')\n",
    "plt.show()"
   ]
  },
  {
   "cell_type": "markdown",
   "metadata": {},
   "source": [
    "## Role 角色"
   ]
  },
  {
   "cell_type": "code",
   "execution_count": 17,
   "metadata": {},
   "outputs": [],
   "source": [
    "#Common Functions\n",
    "def get_sub_stats_by_col(data, col):\n",
    "    categories=data[col].unique()\n",
    "    salary_mean=[]\n",
    "    salary_95_min=[]\n",
    "    salary_95_max=[]\n",
    "    salary_median=[]\n",
    "    \n",
    "\n",
    "    count=[]\n",
    "    \n",
    "    categorys_out=[]\n",
    "    for category in categories:\n",
    "        #print(feature)\n",
    "        idata=data[data[col]==category]\n",
    "        headcount=idata.headcount.sum()\n",
    "        values = idata.monthly_salary.values\n",
    "        weights = idata.headcount.values\n",
    "        #print(str(headcount))\n",
    "        if headcount==0:\n",
    "            continue\n",
    "        \n",
    "        salary_mean.append(np.average(values, weights=weights))\n",
    "        \n",
    "\n",
    "        q = weighted.weighted_quantile(values,[0.025,0.5,0.975],weights)\n",
    "        salary_95_min.append(q[0])\n",
    "        salary_median.append(q[1])\n",
    "        salary_95_max.append(q[2])\n",
    "        count.append(idata.headcount.sum())\n",
    "        categorys_out.append(category)\n",
    "    sub_data=pd.DataFrame()\n",
    "    sub_data[col]=[c for c in categorys_out]\n",
    "    sub_data['salary_mean']=salary_mean\n",
    "    sub_data['salary_95_min']=salary_95_min\n",
    "    sub_data['salary_median']=salary_median\n",
    "    sub_data['salary_95_max']=salary_95_max\n",
    "    sub_data['head_count']=count\n",
    "    sub_data['percentage']=count/np.sum(count)\n",
    "    sub_data=sub_data.sort_values(by='salary_mean', ascending=False)\n",
    "\n",
    "    return sub_data\n",
    "\n",
    "def get_sub_stats_by_prefix(data, prefix):\n",
    "    \n",
    "    features = [feature for feature in data.columns if feature.startswith(prefix)]\n",
    "    salary_mean=[]\n",
    "    salary_median=[]\n",
    "    salary_95_min=[]\n",
    "    salary_95_max=[]\n",
    "    count=[]\n",
    "    \n",
    "    features_out=[]\n",
    "    for feature in features:\n",
    "        #print(feature)\n",
    "        idata=data[data[feature]==1]\n",
    "        headcount=idata.headcount.sum()\n",
    "        values = idata.monthly_salary.values\n",
    "        weights = idata.headcount.values\n",
    "        #print(str(headcount))\n",
    "        if headcount==0:\n",
    "            continue\n",
    "        \n",
    "        salary_mean.append(weighted.weighted_mean(values, weights))\n",
    "        q = weighted.weighted_quantile(values,[0.025,0.5,0.975],weights)\n",
    "        salary_median.append(q[1])\n",
    "        salary_95_min.append(q[0])\n",
    "        salary_95_max.append(q[2])\n",
    "        count.append(idata.headcount.sum())\n",
    "        features_out.append(feature)\n",
    "    sub_data=pd.DataFrame()\n",
    "    sub_data['rank']=range(0,len(features_out))\n",
    "    sub_data[prefix]=[f.replace(prefix,'') for f in features_out]\n",
    "    sub_data['salary_mean']=salary_mean\n",
    "    sub_data['salary_median']=salary_median\n",
    "    sub_data['salary_95_min']=salary_95_min\n",
    "    sub_data['salary_95_max']=salary_95_max\n",
    "    sub_data['head_count']=count\n",
    "    sub_data['percentage']=count/np.sum(count)\n",
    "    sub_data=sub_data.sort_values(by='salary_mean', ascending=False)\n",
    "    sub_data['rank']=range(1,len(features_out)+1)\n",
    "    #sub_data=sub_data.reset_index()\n",
    "    return sub_data\n",
    "\n",
    "def apply_style(sub_data):\n",
    "    return sub_data.style.hide_index().format(\n",
    "    {\"salary_mean\":\"{:.0f}\",\"salary_median\":\"{:.0f}\",\"salary_95_min\":\"{:.0f}\",\"salary_95_max\":\"{:.0f}\",\"percentage\":\"{:.2%}\"})"
   ]
  },
  {
   "cell_type": "code",
   "execution_count": 18,
   "metadata": {},
   "outputs": [
    {
     "data": {
      "text/html": [
       "<style  type=\"text/css\" >\n",
       "</style>  \n",
       "<table id=\"T_88b4b3e8_e58e_11e9_81ec_701ce71031ef\" > \n",
       "<thead>    <tr> \n",
       "        <th class=\"blank level0\" ></th> \n",
       "        <th class=\"col_heading level0 col0\" >career</th> \n",
       "        <th class=\"col_heading level0 col1\" >salary_mean</th> \n",
       "        <th class=\"col_heading level0 col2\" >salary_95_min</th> \n",
       "        <th class=\"col_heading level0 col3\" >salary_median</th> \n",
       "        <th class=\"col_heading level0 col4\" >salary_95_max</th> \n",
       "        <th class=\"col_heading level0 col5\" >head_count</th> \n",
       "        <th class=\"col_heading level0 col6\" >percentage</th> \n",
       "    </tr></thead> \n",
       "<tbody>    <tr> \n",
       "        <th id=\"T_88b4b3e8_e58e_11e9_81ec_701ce71031eflevel0_row0\" class=\"row_heading level0 row0\" >2</th> \n",
       "        <td id=\"T_88b4b3e8_e58e_11e9_81ec_701ce71031efrow0_col0\" class=\"data row0 col0\" >系统架构师</td> \n",
       "        <td id=\"T_88b4b3e8_e58e_11e9_81ec_701ce71031efrow0_col1\" class=\"data row0 col1\" >25632</td> \n",
       "        <td id=\"T_88b4b3e8_e58e_11e9_81ec_701ce71031efrow0_col2\" class=\"data row0 col2\" >4880.45</td> \n",
       "        <td id=\"T_88b4b3e8_e58e_11e9_81ec_701ce71031efrow0_col3\" class=\"data row0 col3\" >25000</td> \n",
       "        <td id=\"T_88b4b3e8_e58e_11e9_81ec_701ce71031efrow0_col4\" class=\"data row0 col4\" >52500</td> \n",
       "        <td id=\"T_88b4b3e8_e58e_11e9_81ec_701ce71031efrow0_col5\" class=\"data row0 col5\" >698</td> \n",
       "        <td id=\"T_88b4b3e8_e58e_11e9_81ec_701ce71031efrow0_col6\" class=\"data row0 col6\" >4.60%</td> \n",
       "    </tr>    <tr> \n",
       "        <th id=\"T_88b4b3e8_e58e_11e9_81ec_701ce71031eflevel0_row1\" class=\"row_heading level0 row1\" >1</th> \n",
       "        <td id=\"T_88b4b3e8_e58e_11e9_81ec_701ce71031efrow1_col0\" class=\"data row1 col0\" >算法工程师</td> \n",
       "        <td id=\"T_88b4b3e8_e58e_11e9_81ec_701ce71031efrow1_col1\" class=\"data row1 col1\" >21369</td> \n",
       "        <td id=\"T_88b4b3e8_e58e_11e9_81ec_701ce71031efrow1_col2\" class=\"data row1 col2\" >5984.09</td> \n",
       "        <td id=\"T_88b4b3e8_e58e_11e9_81ec_701ce71031efrow1_col3\" class=\"data row1 col3\" >20000</td> \n",
       "        <td id=\"T_88b4b3e8_e58e_11e9_81ec_701ce71031efrow1_col4\" class=\"data row1 col4\" >45916.3</td> \n",
       "        <td id=\"T_88b4b3e8_e58e_11e9_81ec_701ce71031efrow1_col5\" class=\"data row1 col5\" >1553</td> \n",
       "        <td id=\"T_88b4b3e8_e58e_11e9_81ec_701ce71031efrow1_col6\" class=\"data row1 col6\" >10.23%</td> \n",
       "    </tr>    <tr> \n",
       "        <th id=\"T_88b4b3e8_e58e_11e9_81ec_701ce71031eflevel0_row2\" class=\"row_heading level0 row2\" >0</th> \n",
       "        <td id=\"T_88b4b3e8_e58e_11e9_81ec_701ce71031efrow2_col0\" class=\"data row2 col0\" >一般程序员</td> \n",
       "        <td id=\"T_88b4b3e8_e58e_11e9_81ec_701ce71031efrow2_col1\" class=\"data row2 col1\" >16564</td> \n",
       "        <td id=\"T_88b4b3e8_e58e_11e9_81ec_701ce71031efrow2_col2\" class=\"data row2 col2\" >4500</td> \n",
       "        <td id=\"T_88b4b3e8_e58e_11e9_81ec_701ce71031efrow2_col3\" class=\"data row2 col3\" >14000</td> \n",
       "        <td id=\"T_88b4b3e8_e58e_11e9_81ec_701ce71031efrow2_col4\" class=\"data row2 col4\" >37500</td> \n",
       "        <td id=\"T_88b4b3e8_e58e_11e9_81ec_701ce71031efrow2_col5\" class=\"data row2 col5\" >12911</td> \n",
       "        <td id=\"T_88b4b3e8_e58e_11e9_81ec_701ce71031efrow2_col6\" class=\"data row2 col6\" >85.04%</td> \n",
       "    </tr>    <tr> \n",
       "        <th id=\"T_88b4b3e8_e58e_11e9_81ec_701ce71031eflevel0_row3\" class=\"row_heading level0 row3\" >3</th> \n",
       "        <td id=\"T_88b4b3e8_e58e_11e9_81ec_701ce71031efrow3_col0\" class=\"data row3 col0\" >爬虫工程师</td> \n",
       "        <td id=\"T_88b4b3e8_e58e_11e9_81ec_701ce71031efrow3_col1\" class=\"data row3 col1\" >11444</td> \n",
       "        <td id=\"T_88b4b3e8_e58e_11e9_81ec_701ce71031efrow3_col2\" class=\"data row3 col2\" >6500</td> \n",
       "        <td id=\"T_88b4b3e8_e58e_11e9_81ec_701ce71031efrow3_col3\" class=\"data row3 col3\" >12000</td> \n",
       "        <td id=\"T_88b4b3e8_e58e_11e9_81ec_701ce71031efrow3_col4\" class=\"data row3 col4\" >14000</td> \n",
       "        <td id=\"T_88b4b3e8_e58e_11e9_81ec_701ce71031efrow3_col5\" class=\"data row3 col5\" >18</td> \n",
       "        <td id=\"T_88b4b3e8_e58e_11e9_81ec_701ce71031efrow3_col6\" class=\"data row3 col6\" >0.12%</td> \n",
       "    </tr>    <tr> \n",
       "        <th id=\"T_88b4b3e8_e58e_11e9_81ec_701ce71031eflevel0_row4\" class=\"row_heading level0 row4\" >4</th> \n",
       "        <td id=\"T_88b4b3e8_e58e_11e9_81ec_701ce71031efrow4_col0\" class=\"data row4 col0\" >生物信息工程师</td> \n",
       "        <td id=\"T_88b4b3e8_e58e_11e9_81ec_701ce71031efrow4_col1\" class=\"data row4 col1\" >8000</td> \n",
       "        <td id=\"T_88b4b3e8_e58e_11e9_81ec_701ce71031efrow4_col2\" class=\"data row4 col2\" >8000</td> \n",
       "        <td id=\"T_88b4b3e8_e58e_11e9_81ec_701ce71031efrow4_col3\" class=\"data row4 col3\" >8000</td> \n",
       "        <td id=\"T_88b4b3e8_e58e_11e9_81ec_701ce71031efrow4_col4\" class=\"data row4 col4\" >8000</td> \n",
       "        <td id=\"T_88b4b3e8_e58e_11e9_81ec_701ce71031efrow4_col5\" class=\"data row4 col5\" >3</td> \n",
       "        <td id=\"T_88b4b3e8_e58e_11e9_81ec_701ce71031efrow4_col6\" class=\"data row4 col6\" >0.02%</td> \n",
       "    </tr></tbody> \n",
       "</table> "
      ],
      "text/plain": [
       "<pandas.io.formats.style.Styler at 0x1a361ab9b38>"
      ]
     },
     "execution_count": 18,
     "metadata": {},
     "output_type": "execute_result"
    }
   ],
   "source": [
    "data_career = get_sub_stats_by_col(data,'career')\n",
    "data_career.style.format({\"salary_mean\":\"{:.0f}\",\"salary_median\":\"{:.0f}\",\"percentage\":\"{:.2%}\"})"
   ]
  },
  {
   "cell_type": "code",
   "execution_count": 19,
   "metadata": {},
   "outputs": [
    {
     "data": {
      "text/plain": [
       "17464.793519067378"
      ]
     },
     "execution_count": 19,
     "metadata": {},
     "output_type": "execute_result"
    }
   ],
   "source": [
    "np.sum(data.monthly_salary * data.headcount) / data.headcount.sum()"
   ]
  },
  {
   "cell_type": "code",
   "execution_count": 20,
   "metadata": {},
   "outputs": [
    {
     "data": {
      "text/plain": [
       "15183"
      ]
     },
     "execution_count": 20,
     "metadata": {},
     "output_type": "execute_result"
    }
   ],
   "source": [
    "data.headcount.sum()"
   ]
  },
  {
   "cell_type": "code",
   "execution_count": 21,
   "metadata": {},
   "outputs": [
    {
     "data": {
      "text/plain": [
       "count    4223.000000\n",
       "mean        3.595311\n",
       "std         4.659444\n",
       "min         1.000000\n",
       "25%         1.000000\n",
       "50%         3.000000\n",
       "75%         5.000000\n",
       "max       200.000000\n",
       "Name: headcount, dtype: float64"
      ]
     },
     "execution_count": 21,
     "metadata": {},
     "output_type": "execute_result"
    }
   ],
   "source": [
    "data.headcount.describe()"
   ]
  },
  {
   "cell_type": "code",
   "execution_count": 22,
   "metadata": {},
   "outputs": [
    {
     "data": {
      "text/html": [
       "<div>\n",
       "<style scoped>\n",
       "    .dataframe tbody tr th:only-of-type {\n",
       "        vertical-align: middle;\n",
       "    }\n",
       "\n",
       "    .dataframe tbody tr th {\n",
       "        vertical-align: top;\n",
       "    }\n",
       "\n",
       "    .dataframe thead th {\n",
       "        text-align: right;\n",
       "    }\n",
       "</style>\n",
       "<table border=\"1\" class=\"dataframe\">\n",
       "  <thead>\n",
       "    <tr style=\"text-align: right;\">\n",
       "      <th></th>\n",
       "      <th>job_id</th>\n",
       "      <th>monthly_salary</th>\n",
       "      <th>headcount</th>\n",
       "      <th>title</th>\n",
       "      <th>zhinengleibie</th>\n",
       "      <th>career</th>\n",
       "      <th>real_province</th>\n",
       "      <th>province</th>\n",
       "      <th>city</th>\n",
       "      <th>company_description</th>\n",
       "      <th>company_size</th>\n",
       "      <th>company_title</th>\n",
       "      <th>company_type</th>\n",
       "      <th>page_title</th>\n",
       "      <th>ageism</th>\n",
       "      <th>db_Apache_Hive</th>\n",
       "      <th>db_CouchBase</th>\n",
       "      <th>db_CouchDB</th>\n",
       "      <th>db_DB2</th>\n",
       "      <th>db_DynamoDB</th>\n",
       "      <th>db_Elasticsearch</th>\n",
       "      <th>db_FileMaker</th>\n",
       "      <th>db_Firebase</th>\n",
       "      <th>db_Firebird</th>\n",
       "      <th>db_Hbase</th>\n",
       "      <th>db_Informix</th>\n",
       "      <th>db_Ingres</th>\n",
       "      <th>db_MariaDB</th>\n",
       "      <th>db_Memcached</th>\n",
       "      <th>db_MongoDB</th>\n",
       "      <th>db_MySQL</th>\n",
       "      <th>db_Neo4j</th>\n",
       "      <th>db_Netezza</th>\n",
       "      <th>db_Oracle</th>\n",
       "      <th>db_PostgreSQL</th>\n",
       "      <th>db_Redis</th>\n",
       "      <th>db_Riak</th>\n",
       "      <th>db_SAP_HANA</th>\n",
       "      <th>db_SQL_Server</th>\n",
       "      <th>db_SQLite</th>\n",
       "      <th>db_Solr</th>\n",
       "      <th>db_Splunk</th>\n",
       "      <th>db_Sybase</th>\n",
       "      <th>db_Teradata</th>\n",
       "      <th>db_dBase</th>\n",
       "      <th>edu</th>\n",
       "      <th>english</th>\n",
       "      <th>experience</th>\n",
       "      <th>expert_adas</th>\n",
       "      <th>expert_blockchain</th>\n",
       "      <th>expert_embed</th>\n",
       "      <th>expert_expert</th>\n",
       "      <th>expert_gis</th>\n",
       "      <th>_996_yes</th>\n",
       "      <th>_996_no</th>\n",
       "      <th>industry</th>\n",
       "      <th>japanese</th>\n",
       "      <th>job_description</th>\n",
       "      <th>job_summary</th>\n",
       "      <th>job_tags</th>\n",
       "      <th>phone_android</th>\n",
       "      <th>phone_app</th>\n",
       "      <th>phone_iso</th>\n",
       "      <th>pl_c_sharp</th>\n",
       "      <th>pl_cpp</th>\n",
       "      <th>pl_delphi</th>\n",
       "      <th>pl_go</th>\n",
       "      <th>pl_haskell</th>\n",
       "      <th>pl_java</th>\n",
       "      <th>pl_javascript</th>\n",
       "      <th>pl_julia</th>\n",
       "      <th>pl_kotlin</th>\n",
       "      <th>pl_lua</th>\n",
       "      <th>pl_matlab</th>\n",
       "      <th>pl_objective_c</th>\n",
       "      <th>pl_perl</th>\n",
       "      <th>pl_php</th>\n",
       "      <th>pl_python</th>\n",
       "      <th>pl_ruby</th>\n",
       "      <th>pl_rust</th>\n",
       "      <th>pl_scrala</th>\n",
       "      <th>pl_swift</th>\n",
       "      <th>pl_typescript</th>\n",
       "      <th>pl_vba</th>\n",
       "      <th>pl_visual_basic</th>\n",
       "      <th>publish_date</th>\n",
       "      <th>published_on_weekend</th>\n",
       "      <th>tag_baby_care</th>\n",
       "      <th>tag_five_insurance</th>\n",
       "      <th>tag_flexible</th>\n",
       "      <th>tag_no_overtime</th>\n",
       "      <th>tag_rest_one_day</th>\n",
       "      <th>tag_rest_two_days</th>\n",
       "      <th>tag_stock</th>\n",
       "    </tr>\n",
       "  </thead>\n",
       "  <tbody>\n",
       "    <tr>\n",
       "      <th>2509</th>\n",
       "      <td>116717167</td>\n",
       "      <td>10000</td>\n",
       "      <td>200</td>\n",
       "      <td>海外业务软件工程师（2020届）</td>\n",
       "      <td>软件工程师</td>\n",
       "      <td>一般程序员</td>\n",
       "      <td>None</td>\n",
       "      <td>上海</td>\n",
       "      <td>上海</td>\n",
       "      <td>上海海隆软件有限公司成立于1989年4月，是国内著名软件企业、国家规划布局内重点软件企业。公...</td>\n",
       "      <td>1000-5000</td>\n",
       "      <td>上海海隆软件有限公司</td>\n",
       "      <td>民营公司</td>\n",
       "      <td>【上海-徐汇区海外业务软件工程师（2020届）_海外业务软件工程师（2020届）招聘_上海海...</td>\n",
       "      <td>False</td>\n",
       "      <td>False</td>\n",
       "      <td>False</td>\n",
       "      <td>False</td>\n",
       "      <td>False</td>\n",
       "      <td>False</td>\n",
       "      <td>False</td>\n",
       "      <td>False</td>\n",
       "      <td>False</td>\n",
       "      <td>False</td>\n",
       "      <td>False</td>\n",
       "      <td>False</td>\n",
       "      <td>False</td>\n",
       "      <td>False</td>\n",
       "      <td>False</td>\n",
       "      <td>False</td>\n",
       "      <td>False</td>\n",
       "      <td>False</td>\n",
       "      <td>False</td>\n",
       "      <td>True</td>\n",
       "      <td>False</td>\n",
       "      <td>False</td>\n",
       "      <td>False</td>\n",
       "      <td>False</td>\n",
       "      <td>False</td>\n",
       "      <td>False</td>\n",
       "      <td>False</td>\n",
       "      <td>False</td>\n",
       "      <td>False</td>\n",
       "      <td>False</td>\n",
       "      <td>False</td>\n",
       "      <td>本科</td>\n",
       "      <td>False</td>\n",
       "      <td>no</td>\n",
       "      <td>False</td>\n",
       "      <td>False</td>\n",
       "      <td>False</td>\n",
       "      <td>False</td>\n",
       "      <td>False</td>\n",
       "      <td>False</td>\n",
       "      <td>False</td>\n",
       "      <td>computer</td>\n",
       "      <td>True</td>\n",
       "      <td>针对有志从事软件开发的应届毕业生，在毕业后可选择进入公司培训中心，接受脱产带薪培训，培训内容...</td>\n",
       "      <td>上海-徐汇区|无工作经验|本科|招200人|10-02发布</td>\n",
       "      <td>五险一金,专业培训,员工旅游,年终奖金,弹性工作,定期体检,出国机会,绩效奖金,工作午餐,加薪晋升</td>\n",
       "      <td>False</td>\n",
       "      <td>False</td>\n",
       "      <td>False</td>\n",
       "      <td>True</td>\n",
       "      <td>True</td>\n",
       "      <td>False</td>\n",
       "      <td>False</td>\n",
       "      <td>False</td>\n",
       "      <td>True</td>\n",
       "      <td>False</td>\n",
       "      <td>False</td>\n",
       "      <td>False</td>\n",
       "      <td>False</td>\n",
       "      <td>False</td>\n",
       "      <td>False</td>\n",
       "      <td>False</td>\n",
       "      <td>False</td>\n",
       "      <td>True</td>\n",
       "      <td>False</td>\n",
       "      <td>False</td>\n",
       "      <td>False</td>\n",
       "      <td>False</td>\n",
       "      <td>False</td>\n",
       "      <td>False</td>\n",
       "      <td>False</td>\n",
       "      <td>2019-10-02</td>\n",
       "      <td>False</td>\n",
       "      <td>False</td>\n",
       "      <td>True</td>\n",
       "      <td>True</td>\n",
       "      <td>False</td>\n",
       "      <td>False</td>\n",
       "      <td>False</td>\n",
       "      <td>False</td>\n",
       "    </tr>\n",
       "    <tr>\n",
       "      <th>546</th>\n",
       "      <td>109088859</td>\n",
       "      <td>5250</td>\n",
       "      <td>50</td>\n",
       "      <td>安卓程序员</td>\n",
       "      <td>互联网软件开发工程师</td>\n",
       "      <td>一般程序员</td>\n",
       "      <td>None</td>\n",
       "      <td>广东</td>\n",
       "      <td>广州</td>\n",
       "      <td>象蓝（广州）股份有限公司（以下简称象蓝）成立于2017年9月，是一家专注项目融资，项目研发，...</td>\n",
       "      <td>50-150</td>\n",
       "      <td>象蓝（广州）股份有限公司</td>\n",
       "      <td>民营公司</td>\n",
       "      <td>【广州-白云区安卓程序员_安卓程序员招聘_象蓝（广州）股份有限公司】-前程无忧官方招聘网站</td>\n",
       "      <td>False</td>\n",
       "      <td>False</td>\n",
       "      <td>False</td>\n",
       "      <td>False</td>\n",
       "      <td>False</td>\n",
       "      <td>False</td>\n",
       "      <td>False</td>\n",
       "      <td>False</td>\n",
       "      <td>False</td>\n",
       "      <td>False</td>\n",
       "      <td>False</td>\n",
       "      <td>False</td>\n",
       "      <td>False</td>\n",
       "      <td>False</td>\n",
       "      <td>False</td>\n",
       "      <td>False</td>\n",
       "      <td>False</td>\n",
       "      <td>False</td>\n",
       "      <td>False</td>\n",
       "      <td>False</td>\n",
       "      <td>False</td>\n",
       "      <td>False</td>\n",
       "      <td>False</td>\n",
       "      <td>False</td>\n",
       "      <td>False</td>\n",
       "      <td>False</td>\n",
       "      <td>False</td>\n",
       "      <td>False</td>\n",
       "      <td>False</td>\n",
       "      <td>False</td>\n",
       "      <td>False</td>\n",
       "      <td>大专</td>\n",
       "      <td>False</td>\n",
       "      <td>1_3</td>\n",
       "      <td>False</td>\n",
       "      <td>False</td>\n",
       "      <td>False</td>\n",
       "      <td>False</td>\n",
       "      <td>False</td>\n",
       "      <td>False</td>\n",
       "      <td>False</td>\n",
       "      <td>computer</td>\n",
       "      <td>False</td>\n",
       "      <td>负责APP开发程序员，进行详细设计、代码开发，配合测试，高质量完成项目。象蓝（广州）股份有限...</td>\n",
       "      <td>广州-白云区|2年经验|大专|招50人|10-02发布|普通话熟练</td>\n",
       "      <td>绩效奖金,全勤奖</td>\n",
       "      <td>False</td>\n",
       "      <td>False</td>\n",
       "      <td>False</td>\n",
       "      <td>False</td>\n",
       "      <td>False</td>\n",
       "      <td>False</td>\n",
       "      <td>False</td>\n",
       "      <td>False</td>\n",
       "      <td>False</td>\n",
       "      <td>False</td>\n",
       "      <td>False</td>\n",
       "      <td>False</td>\n",
       "      <td>False</td>\n",
       "      <td>False</td>\n",
       "      <td>False</td>\n",
       "      <td>False</td>\n",
       "      <td>False</td>\n",
       "      <td>False</td>\n",
       "      <td>False</td>\n",
       "      <td>False</td>\n",
       "      <td>False</td>\n",
       "      <td>False</td>\n",
       "      <td>False</td>\n",
       "      <td>False</td>\n",
       "      <td>False</td>\n",
       "      <td>2019-10-02</td>\n",
       "      <td>False</td>\n",
       "      <td>False</td>\n",
       "      <td>False</td>\n",
       "      <td>False</td>\n",
       "      <td>False</td>\n",
       "      <td>False</td>\n",
       "      <td>False</td>\n",
       "      <td>False</td>\n",
       "    </tr>\n",
       "    <tr>\n",
       "      <th>545</th>\n",
       "      <td>109088047</td>\n",
       "      <td>5250</td>\n",
       "      <td>50</td>\n",
       "      <td>开发资深程序</td>\n",
       "      <td>系统架构设计师</td>\n",
       "      <td>系统架构师</td>\n",
       "      <td>None</td>\n",
       "      <td>广东</td>\n",
       "      <td>广州</td>\n",
       "      <td>象蓝（广州）股份有限公司（以下简称象蓝）成立于2017年9月，是一家专注项目融资，项目研发，...</td>\n",
       "      <td>50-150</td>\n",
       "      <td>象蓝（广州）股份有限公司</td>\n",
       "      <td>民营公司</td>\n",
       "      <td>【广州-白云区开发资深程序_开发资深程序招聘_象蓝（广州）股份有限公司】-前程无忧官方招聘网站</td>\n",
       "      <td>False</td>\n",
       "      <td>False</td>\n",
       "      <td>False</td>\n",
       "      <td>False</td>\n",
       "      <td>False</td>\n",
       "      <td>False</td>\n",
       "      <td>False</td>\n",
       "      <td>False</td>\n",
       "      <td>False</td>\n",
       "      <td>False</td>\n",
       "      <td>False</td>\n",
       "      <td>False</td>\n",
       "      <td>False</td>\n",
       "      <td>False</td>\n",
       "      <td>False</td>\n",
       "      <td>False</td>\n",
       "      <td>False</td>\n",
       "      <td>False</td>\n",
       "      <td>False</td>\n",
       "      <td>False</td>\n",
       "      <td>False</td>\n",
       "      <td>False</td>\n",
       "      <td>False</td>\n",
       "      <td>False</td>\n",
       "      <td>False</td>\n",
       "      <td>False</td>\n",
       "      <td>False</td>\n",
       "      <td>False</td>\n",
       "      <td>False</td>\n",
       "      <td>False</td>\n",
       "      <td>False</td>\n",
       "      <td>大专</td>\n",
       "      <td>False</td>\n",
       "      <td>1_3</td>\n",
       "      <td>False</td>\n",
       "      <td>False</td>\n",
       "      <td>False</td>\n",
       "      <td>False</td>\n",
       "      <td>False</td>\n",
       "      <td>False</td>\n",
       "      <td>False</td>\n",
       "      <td>computer</td>\n",
       "      <td>False</td>\n",
       "      <td>负责APP移动架构师/移动开发资深程序，负责产品采用什么技术，制定前后台交互规则，是否采用框...</td>\n",
       "      <td>广州-白云区|2年经验|大专|招50人|10-02发布|普通话熟练</td>\n",
       "      <td>绩效奖金,全勤奖</td>\n",
       "      <td>False</td>\n",
       "      <td>False</td>\n",
       "      <td>False</td>\n",
       "      <td>False</td>\n",
       "      <td>False</td>\n",
       "      <td>False</td>\n",
       "      <td>False</td>\n",
       "      <td>False</td>\n",
       "      <td>False</td>\n",
       "      <td>False</td>\n",
       "      <td>False</td>\n",
       "      <td>False</td>\n",
       "      <td>False</td>\n",
       "      <td>False</td>\n",
       "      <td>False</td>\n",
       "      <td>False</td>\n",
       "      <td>False</td>\n",
       "      <td>False</td>\n",
       "      <td>False</td>\n",
       "      <td>False</td>\n",
       "      <td>False</td>\n",
       "      <td>False</td>\n",
       "      <td>False</td>\n",
       "      <td>False</td>\n",
       "      <td>False</td>\n",
       "      <td>2019-10-02</td>\n",
       "      <td>False</td>\n",
       "      <td>False</td>\n",
       "      <td>False</td>\n",
       "      <td>False</td>\n",
       "      <td>False</td>\n",
       "      <td>False</td>\n",
       "      <td>False</td>\n",
       "      <td>False</td>\n",
       "    </tr>\n",
       "    <tr>\n",
       "      <th>547</th>\n",
       "      <td>109088921</td>\n",
       "      <td>5250</td>\n",
       "      <td>50</td>\n",
       "      <td>ios程序员</td>\n",
       "      <td>互联网软件开发工程师</td>\n",
       "      <td>一般程序员</td>\n",
       "      <td>None</td>\n",
       "      <td>广东</td>\n",
       "      <td>广州</td>\n",
       "      <td>象蓝（广州）股份有限公司（以下简称象蓝）成立于2017年9月，是一家专注项目融资，项目研发，...</td>\n",
       "      <td>50-150</td>\n",
       "      <td>象蓝（广州）股份有限公司</td>\n",
       "      <td>民营公司</td>\n",
       "      <td>【广州-白云区ios程序员_ios程序员招聘_象蓝（广州）股份有限公司】-前程无忧官方招聘网站</td>\n",
       "      <td>False</td>\n",
       "      <td>False</td>\n",
       "      <td>False</td>\n",
       "      <td>False</td>\n",
       "      <td>False</td>\n",
       "      <td>False</td>\n",
       "      <td>False</td>\n",
       "      <td>False</td>\n",
       "      <td>False</td>\n",
       "      <td>False</td>\n",
       "      <td>False</td>\n",
       "      <td>False</td>\n",
       "      <td>False</td>\n",
       "      <td>False</td>\n",
       "      <td>False</td>\n",
       "      <td>False</td>\n",
       "      <td>False</td>\n",
       "      <td>False</td>\n",
       "      <td>False</td>\n",
       "      <td>False</td>\n",
       "      <td>False</td>\n",
       "      <td>False</td>\n",
       "      <td>False</td>\n",
       "      <td>False</td>\n",
       "      <td>False</td>\n",
       "      <td>False</td>\n",
       "      <td>False</td>\n",
       "      <td>False</td>\n",
       "      <td>False</td>\n",
       "      <td>False</td>\n",
       "      <td>False</td>\n",
       "      <td>大专</td>\n",
       "      <td>False</td>\n",
       "      <td>1_3</td>\n",
       "      <td>False</td>\n",
       "      <td>False</td>\n",
       "      <td>False</td>\n",
       "      <td>False</td>\n",
       "      <td>False</td>\n",
       "      <td>False</td>\n",
       "      <td>False</td>\n",
       "      <td>computer</td>\n",
       "      <td>False</td>\n",
       "      <td>负责APP开发，进行详细设计、代码开发，配合测试，高质量完成项目。象蓝（广州）股份有限公司，...</td>\n",
       "      <td>广州-白云区|2年经验|大专|招50人|10-02发布|普通话熟练</td>\n",
       "      <td>绩效奖金,全勤奖</td>\n",
       "      <td>False</td>\n",
       "      <td>False</td>\n",
       "      <td>False</td>\n",
       "      <td>False</td>\n",
       "      <td>False</td>\n",
       "      <td>False</td>\n",
       "      <td>False</td>\n",
       "      <td>False</td>\n",
       "      <td>False</td>\n",
       "      <td>False</td>\n",
       "      <td>False</td>\n",
       "      <td>False</td>\n",
       "      <td>False</td>\n",
       "      <td>False</td>\n",
       "      <td>False</td>\n",
       "      <td>False</td>\n",
       "      <td>False</td>\n",
       "      <td>False</td>\n",
       "      <td>False</td>\n",
       "      <td>False</td>\n",
       "      <td>False</td>\n",
       "      <td>False</td>\n",
       "      <td>False</td>\n",
       "      <td>False</td>\n",
       "      <td>False</td>\n",
       "      <td>2019-10-02</td>\n",
       "      <td>False</td>\n",
       "      <td>False</td>\n",
       "      <td>False</td>\n",
       "      <td>False</td>\n",
       "      <td>False</td>\n",
       "      <td>False</td>\n",
       "      <td>False</td>\n",
       "      <td>False</td>\n",
       "    </tr>\n",
       "    <tr>\n",
       "      <th>3554</th>\n",
       "      <td>117502838</td>\n",
       "      <td>10000</td>\n",
       "      <td>50</td>\n",
       "      <td>2020届应届毕业生</td>\n",
       "      <td>深度学习工程师</td>\n",
       "      <td>算法工程师</td>\n",
       "      <td>None</td>\n",
       "      <td>广东</td>\n",
       "      <td>深圳</td>\n",
       "      <td>集团简介：豪恩创建于1995年，是一家按照现代化企业管理运作的科技集团型公司。产业涉及汽车电...</td>\n",
       "      <td>1000-5000</td>\n",
       "      <td>深圳市豪恩科技集团股份有限公司</td>\n",
       "      <td>民营公司</td>\n",
       "      <td>【深圳-龙华新区2020届应届毕业生_2020届应届毕业生招聘_深圳市豪恩科技集团股份有限公...</td>\n",
       "      <td>False</td>\n",
       "      <td>False</td>\n",
       "      <td>False</td>\n",
       "      <td>False</td>\n",
       "      <td>False</td>\n",
       "      <td>False</td>\n",
       "      <td>False</td>\n",
       "      <td>False</td>\n",
       "      <td>False</td>\n",
       "      <td>False</td>\n",
       "      <td>False</td>\n",
       "      <td>False</td>\n",
       "      <td>False</td>\n",
       "      <td>False</td>\n",
       "      <td>False</td>\n",
       "      <td>False</td>\n",
       "      <td>False</td>\n",
       "      <td>False</td>\n",
       "      <td>False</td>\n",
       "      <td>False</td>\n",
       "      <td>False</td>\n",
       "      <td>False</td>\n",
       "      <td>False</td>\n",
       "      <td>False</td>\n",
       "      <td>False</td>\n",
       "      <td>False</td>\n",
       "      <td>False</td>\n",
       "      <td>False</td>\n",
       "      <td>False</td>\n",
       "      <td>False</td>\n",
       "      <td>False</td>\n",
       "      <td></td>\n",
       "      <td>True</td>\n",
       "      <td>no</td>\n",
       "      <td>False</td>\n",
       "      <td>False</td>\n",
       "      <td>False</td>\n",
       "      <td>False</td>\n",
       "      <td>False</td>\n",
       "      <td>False</td>\n",
       "      <td>False</td>\n",
       "      <td>trade</td>\n",
       "      <td>False</td>\n",
       "      <td>招聘职位： 研发类：深度学习、图像算法、算法（毫米波雷达）、软件、硬件、结构 专业要求：计算...</td>\n",
       "      <td>深圳-龙华新区|无工作经验|招50人|10-02发布</td>\n",
       "      <td>五险一金,免费班车,员工旅游,年终奖金,绩效奖金,定期体检,带薪年假,提供食宿</td>\n",
       "      <td>False</td>\n",
       "      <td>False</td>\n",
       "      <td>False</td>\n",
       "      <td>False</td>\n",
       "      <td>False</td>\n",
       "      <td>False</td>\n",
       "      <td>False</td>\n",
       "      <td>False</td>\n",
       "      <td>False</td>\n",
       "      <td>False</td>\n",
       "      <td>False</td>\n",
       "      <td>False</td>\n",
       "      <td>False</td>\n",
       "      <td>False</td>\n",
       "      <td>False</td>\n",
       "      <td>False</td>\n",
       "      <td>False</td>\n",
       "      <td>False</td>\n",
       "      <td>False</td>\n",
       "      <td>False</td>\n",
       "      <td>False</td>\n",
       "      <td>False</td>\n",
       "      <td>False</td>\n",
       "      <td>False</td>\n",
       "      <td>False</td>\n",
       "      <td>2019-10-02</td>\n",
       "      <td>False</td>\n",
       "      <td>False</td>\n",
       "      <td>True</td>\n",
       "      <td>False</td>\n",
       "      <td>False</td>\n",
       "      <td>False</td>\n",
       "      <td>False</td>\n",
       "      <td>False</td>\n",
       "    </tr>\n",
       "  </tbody>\n",
       "</table>\n",
       "</div>"
      ],
      "text/plain": [
       "         job_id  monthly_salary  headcount             title zhinengleibie  \\\n",
       "2509  116717167           10000        200  海外业务软件工程师（2020届）         软件工程师   \n",
       "546   109088859            5250         50             安卓程序员    互联网软件开发工程师   \n",
       "545   109088047            5250         50            开发资深程序       系统架构设计师   \n",
       "547   109088921            5250         50            ios程序员    互联网软件开发工程师   \n",
       "3554  117502838           10000         50        2020届应届毕业生       深度学习工程师   \n",
       "\n",
       "     career real_province province city  \\\n",
       "2509  一般程序员          None       上海   上海   \n",
       "546   一般程序员          None       广东   广州   \n",
       "545   系统架构师          None       广东   广州   \n",
       "547   一般程序员          None       广东   广州   \n",
       "3554  算法工程师          None       广东   深圳   \n",
       "\n",
       "                                    company_description company_size  \\\n",
       "2509  上海海隆软件有限公司成立于1989年4月，是国内著名软件企业、国家规划布局内重点软件企业。公...    1000-5000   \n",
       "546   象蓝（广州）股份有限公司（以下简称象蓝）成立于2017年9月，是一家专注项目融资，项目研发，...       50-150   \n",
       "545   象蓝（广州）股份有限公司（以下简称象蓝）成立于2017年9月，是一家专注项目融资，项目研发，...       50-150   \n",
       "547   象蓝（广州）股份有限公司（以下简称象蓝）成立于2017年9月，是一家专注项目融资，项目研发，...       50-150   \n",
       "3554  集团简介：豪恩创建于1995年，是一家按照现代化企业管理运作的科技集团型公司。产业涉及汽车电...    1000-5000   \n",
       "\n",
       "        company_title company_type  \\\n",
       "2509       上海海隆软件有限公司         民营公司   \n",
       "546      象蓝（广州）股份有限公司         民营公司   \n",
       "545      象蓝（广州）股份有限公司         民营公司   \n",
       "547      象蓝（广州）股份有限公司         民营公司   \n",
       "3554  深圳市豪恩科技集团股份有限公司         民营公司   \n",
       "\n",
       "                                             page_title  ageism  \\\n",
       "2509  【上海-徐汇区海外业务软件工程师（2020届）_海外业务软件工程师（2020届）招聘_上海海...   False   \n",
       "546       【广州-白云区安卓程序员_安卓程序员招聘_象蓝（广州）股份有限公司】-前程无忧官方招聘网站   False   \n",
       "545     【广州-白云区开发资深程序_开发资深程序招聘_象蓝（广州）股份有限公司】-前程无忧官方招聘网站   False   \n",
       "547     【广州-白云区ios程序员_ios程序员招聘_象蓝（广州）股份有限公司】-前程无忧官方招聘网站   False   \n",
       "3554  【深圳-龙华新区2020届应届毕业生_2020届应届毕业生招聘_深圳市豪恩科技集团股份有限公...   False   \n",
       "\n",
       "      db_Apache_Hive  db_CouchBase  db_CouchDB  db_DB2  db_DynamoDB  \\\n",
       "2509           False         False       False   False        False   \n",
       "546            False         False       False   False        False   \n",
       "545            False         False       False   False        False   \n",
       "547            False         False       False   False        False   \n",
       "3554           False         False       False   False        False   \n",
       "\n",
       "      db_Elasticsearch  db_FileMaker  db_Firebase  db_Firebird  db_Hbase  \\\n",
       "2509             False         False        False        False     False   \n",
       "546              False         False        False        False     False   \n",
       "545              False         False        False        False     False   \n",
       "547              False         False        False        False     False   \n",
       "3554             False         False        False        False     False   \n",
       "\n",
       "      db_Informix  db_Ingres  db_MariaDB  db_Memcached  db_MongoDB  db_MySQL  \\\n",
       "2509        False      False       False         False       False     False   \n",
       "546         False      False       False         False       False     False   \n",
       "545         False      False       False         False       False     False   \n",
       "547         False      False       False         False       False     False   \n",
       "3554        False      False       False         False       False     False   \n",
       "\n",
       "      db_Neo4j  db_Netezza  db_Oracle  db_PostgreSQL  db_Redis  db_Riak  \\\n",
       "2509     False       False       True          False     False    False   \n",
       "546      False       False      False          False     False    False   \n",
       "545      False       False      False          False     False    False   \n",
       "547      False       False      False          False     False    False   \n",
       "3554     False       False      False          False     False    False   \n",
       "\n",
       "      db_SAP_HANA  db_SQL_Server  db_SQLite  db_Solr  db_Splunk  db_Sybase  \\\n",
       "2509        False          False      False    False      False      False   \n",
       "546         False          False      False    False      False      False   \n",
       "545         False          False      False    False      False      False   \n",
       "547         False          False      False    False      False      False   \n",
       "3554        False          False      False    False      False      False   \n",
       "\n",
       "      db_Teradata  db_dBase edu  english experience  expert_adas  \\\n",
       "2509        False     False  本科    False         no        False   \n",
       "546         False     False  大专    False        1_3        False   \n",
       "545         False     False  大专    False        1_3        False   \n",
       "547         False     False  大专    False        1_3        False   \n",
       "3554        False     False         True         no        False   \n",
       "\n",
       "      expert_blockchain  expert_embed  expert_expert  expert_gis  _996_yes  \\\n",
       "2509              False         False          False       False     False   \n",
       "546               False         False          False       False     False   \n",
       "545               False         False          False       False     False   \n",
       "547               False         False          False       False     False   \n",
       "3554              False         False          False       False     False   \n",
       "\n",
       "      _996_no  industry  japanese  \\\n",
       "2509    False  computer      True   \n",
       "546     False  computer     False   \n",
       "545     False  computer     False   \n",
       "547     False  computer     False   \n",
       "3554    False     trade     False   \n",
       "\n",
       "                                        job_description  \\\n",
       "2509  针对有志从事软件开发的应届毕业生，在毕业后可选择进入公司培训中心，接受脱产带薪培训，培训内容...   \n",
       "546   负责APP开发程序员，进行详细设计、代码开发，配合测试，高质量完成项目。象蓝（广州）股份有限...   \n",
       "545   负责APP移动架构师/移动开发资深程序，负责产品采用什么技术，制定前后台交互规则，是否采用框...   \n",
       "547   负责APP开发，进行详细设计、代码开发，配合测试，高质量完成项目。象蓝（广州）股份有限公司，...   \n",
       "3554  招聘职位： 研发类：深度学习、图像算法、算法（毫米波雷达）、软件、硬件、结构 专业要求：计算...   \n",
       "\n",
       "                            job_summary  \\\n",
       "2509      上海-徐汇区|无工作经验|本科|招200人|10-02发布   \n",
       "546   广州-白云区|2年经验|大专|招50人|10-02发布|普通话熟练   \n",
       "545   广州-白云区|2年经验|大专|招50人|10-02发布|普通话熟练   \n",
       "547   广州-白云区|2年经验|大专|招50人|10-02发布|普通话熟练   \n",
       "3554         深圳-龙华新区|无工作经验|招50人|10-02发布   \n",
       "\n",
       "                                               job_tags  phone_android  \\\n",
       "2509  五险一金,专业培训,员工旅游,年终奖金,弹性工作,定期体检,出国机会,绩效奖金,工作午餐,加薪晋升          False   \n",
       "546                                            绩效奖金,全勤奖          False   \n",
       "545                                            绩效奖金,全勤奖          False   \n",
       "547                                            绩效奖金,全勤奖          False   \n",
       "3554            五险一金,免费班车,员工旅游,年终奖金,绩效奖金,定期体检,带薪年假,提供食宿          False   \n",
       "\n",
       "      phone_app  phone_iso  pl_c_sharp  pl_cpp  pl_delphi  pl_go  pl_haskell  \\\n",
       "2509      False      False        True    True      False  False       False   \n",
       "546       False      False       False   False      False  False       False   \n",
       "545       False      False       False   False      False  False       False   \n",
       "547       False      False       False   False      False  False       False   \n",
       "3554      False      False       False   False      False  False       False   \n",
       "\n",
       "      pl_java  pl_javascript  pl_julia  pl_kotlin  pl_lua  pl_matlab  \\\n",
       "2509     True          False     False      False   False      False   \n",
       "546     False          False     False      False   False      False   \n",
       "545     False          False     False      False   False      False   \n",
       "547     False          False     False      False   False      False   \n",
       "3554    False          False     False      False   False      False   \n",
       "\n",
       "      pl_objective_c  pl_perl  pl_php  pl_python  pl_ruby  pl_rust  pl_scrala  \\\n",
       "2509           False    False   False       True    False    False      False   \n",
       "546            False    False   False      False    False    False      False   \n",
       "545            False    False   False      False    False    False      False   \n",
       "547            False    False   False      False    False    False      False   \n",
       "3554           False    False   False      False    False    False      False   \n",
       "\n",
       "      pl_swift  pl_typescript  pl_vba  pl_visual_basic publish_date  \\\n",
       "2509     False          False   False            False   2019-10-02   \n",
       "546      False          False   False            False   2019-10-02   \n",
       "545      False          False   False            False   2019-10-02   \n",
       "547      False          False   False            False   2019-10-02   \n",
       "3554     False          False   False            False   2019-10-02   \n",
       "\n",
       "      published_on_weekend  tag_baby_care  tag_five_insurance  tag_flexible  \\\n",
       "2509                 False          False                True          True   \n",
       "546                  False          False               False         False   \n",
       "545                  False          False               False         False   \n",
       "547                  False          False               False         False   \n",
       "3554                 False          False                True         False   \n",
       "\n",
       "      tag_no_overtime  tag_rest_one_day  tag_rest_two_days  tag_stock  \n",
       "2509            False             False              False      False  \n",
       "546             False             False              False      False  \n",
       "545             False             False              False      False  \n",
       "547             False             False              False      False  \n",
       "3554            False             False              False      False  "
      ]
     },
     "execution_count": 22,
     "metadata": {},
     "output_type": "execute_result"
    }
   ],
   "source": [
    "pd.options.display.max_columns=100\n",
    "data.sort_values(by='headcount', ascending=False).head()"
   ]
  },
  {
   "cell_type": "markdown",
   "metadata": {},
   "source": []
  },
  {
   "cell_type": "code",
   "execution_count": 23,
   "metadata": {},
   "outputs": [
    {
     "data": {
      "text/plain": [
       "15183"
      ]
     },
     "execution_count": 23,
     "metadata": {},
     "output_type": "execute_result"
    }
   ],
   "source": [
    "data.headcount.sum()"
   ]
  },
  {
   "cell_type": "markdown",
   "metadata": {},
   "source": [
    "# 城市"
   ]
  },
  {
   "cell_type": "code",
   "execution_count": 24,
   "metadata": {},
   "outputs": [],
   "source": [
    "headcount_by_cities = data.groupby(by='city').headcount.sum()"
   ]
  },
  {
   "cell_type": "code",
   "execution_count": 25,
   "metadata": {},
   "outputs": [
    {
     "data": {
      "text/plain": [
       "city\n",
       "上海    5565\n",
       "北京    3007\n",
       "广州    3403\n",
       "深圳    3208\n",
       "Name: headcount, dtype: int64"
      ]
     },
     "execution_count": 25,
     "metadata": {},
     "output_type": "execute_result"
    }
   ],
   "source": [
    "headcount_by_cities\n"
   ]
  },
  {
   "cell_type": "code",
   "execution_count": 26,
   "metadata": {},
   "outputs": [
    {
     "data": {
      "text/plain": [
       "([<matplotlib.patches.Wedge at 0x1a3640ae128>,\n",
       "  <matplotlib.patches.Wedge at 0x1a3640ae898>,\n",
       "  <matplotlib.patches.Wedge at 0x1a3640aef98>,\n",
       "  <matplotlib.patches.Wedge at 0x1a3640b66d8>],\n",
       " [Text(0.44784689098521263, 1.0047055102042983, '上海'),\n",
       "  Text(-1.074336587679079, 0.23622213353975277, '北京'),\n",
       "  Text(-0.48923317353005363, -0.9852161701462845, '广州'),\n",
       "  Text(0.8664334048940944, -0.677711704844786, '深圳')],\n",
       " [Text(0.2442801223555705, 0.5480211873841626, '36.7%'),\n",
       "  Text(-0.5860017750976794, 0.12884843647622876, '19.8%'),\n",
       "  Text(-0.26685445828912013, -0.5373906382616096, '22.4%'),\n",
       "  Text(0.47260003903314235, -0.3696609299153378, '21.1%')])"
      ]
     },
     "execution_count": 26,
     "metadata": {},
     "output_type": "execute_result"
    },
    {
     "data": {
      "image/png": "[encoded data removed]",
      "text/plain": [
       "<Figure size 720x576 with 1 Axes>"
      ]
     },
     "metadata": {},
     "output_type": "display_data"
    }
   ],
   "source": [
    "plt.figure(figsize=(10,8))\n",
    "plt.pie(headcount_by_cities.values, labels=headcount_by_cities.index, autopct='%1.1f%%')"
   ]
  },
  {
   "cell_type": "code",
   "execution_count": 27,
   "metadata": {},
   "outputs": [
    {
     "data": {
      "text/html": [
       "<style  type=\"text/css\" >\n",
       "</style>  \n",
       "<table id=\"T_88e96618_e58e_11e9_af0a_701ce71031ef\" > \n",
       "<thead>    <tr> \n",
       "        <th class=\"col_heading level0 col0\" >city</th> \n",
       "        <th class=\"col_heading level0 col1\" >salary_mean</th> \n",
       "        <th class=\"col_heading level0 col2\" >salary_95_min</th> \n",
       "        <th class=\"col_heading level0 col3\" >salary_median</th> \n",
       "        <th class=\"col_heading level0 col4\" >salary_95_max</th> \n",
       "        <th class=\"col_heading level0 col5\" >head_count</th> \n",
       "        <th class=\"col_heading level0 col6\" >percentage</th> \n",
       "    </tr></thead> \n",
       "<tbody>    <tr> \n",
       "        <td id=\"T_88e96618_e58e_11e9_af0a_701ce71031efrow0_col0\" class=\"data row0 col0\" >北京</td> \n",
       "        <td id=\"T_88e96618_e58e_11e9_af0a_701ce71031efrow0_col1\" class=\"data row0 col1\" >21005</td> \n",
       "        <td id=\"T_88e96618_e58e_11e9_af0a_701ce71031efrow0_col2\" class=\"data row0 col2\" >4500</td> \n",
       "        <td id=\"T_88e96618_e58e_11e9_af0a_701ce71031efrow0_col3\" class=\"data row0 col3\" >17500</td> \n",
       "        <td id=\"T_88e96618_e58e_11e9_af0a_701ce71031efrow0_col4\" class=\"data row0 col4\" >45000</td> \n",
       "        <td id=\"T_88e96618_e58e_11e9_af0a_701ce71031efrow0_col5\" class=\"data row0 col5\" >3007</td> \n",
       "        <td id=\"T_88e96618_e58e_11e9_af0a_701ce71031efrow0_col6\" class=\"data row0 col6\" >19.81%</td> \n",
       "    </tr>    <tr> \n",
       "        <td id=\"T_88e96618_e58e_11e9_af0a_701ce71031efrow1_col0\" class=\"data row1 col0\" >深圳</td> \n",
       "        <td id=\"T_88e96618_e58e_11e9_af0a_701ce71031efrow1_col1\" class=\"data row1 col1\" >18274</td> \n",
       "        <td id=\"T_88e96618_e58e_11e9_af0a_701ce71031efrow1_col2\" class=\"data row1 col2\" >5250</td> \n",
       "        <td id=\"T_88e96618_e58e_11e9_af0a_701ce71031efrow1_col3\" class=\"data row1 col3\" >15000</td> \n",
       "        <td id=\"T_88e96618_e58e_11e9_af0a_701ce71031efrow1_col4\" class=\"data row1 col4\" >40984</td> \n",
       "        <td id=\"T_88e96618_e58e_11e9_af0a_701ce71031efrow1_col5\" class=\"data row1 col5\" >3208</td> \n",
       "        <td id=\"T_88e96618_e58e_11e9_af0a_701ce71031efrow1_col6\" class=\"data row1 col6\" >21.13%</td> \n",
       "    </tr>    <tr> \n",
       "        <td id=\"T_88e96618_e58e_11e9_af0a_701ce71031efrow2_col0\" class=\"data row2 col0\" >上海</td> \n",
       "        <td id=\"T_88e96618_e58e_11e9_af0a_701ce71031efrow2_col1\" class=\"data row2 col1\" >16954</td> \n",
       "        <td id=\"T_88e96618_e58e_11e9_af0a_701ce71031efrow2_col2\" class=\"data row2 col2\" >5250</td> \n",
       "        <td id=\"T_88e96618_e58e_11e9_af0a_701ce71031efrow2_col3\" class=\"data row2 col3\" >15000</td> \n",
       "        <td id=\"T_88e96618_e58e_11e9_af0a_701ce71031efrow2_col4\" class=\"data row2 col4\" >37500</td> \n",
       "        <td id=\"T_88e96618_e58e_11e9_af0a_701ce71031efrow2_col5\" class=\"data row2 col5\" >5565</td> \n",
       "        <td id=\"T_88e96618_e58e_11e9_af0a_701ce71031efrow2_col6\" class=\"data row2 col6\" >36.65%</td> \n",
       "    </tr>    <tr> \n",
       "        <td id=\"T_88e96618_e58e_11e9_af0a_701ce71031efrow3_col0\" class=\"data row3 col0\" >广州</td> \n",
       "        <td id=\"T_88e96618_e58e_11e9_af0a_701ce71031efrow3_col1\" class=\"data row3 col1\" >14410</td> \n",
       "        <td id=\"T_88e96618_e58e_11e9_af0a_701ce71031efrow3_col2\" class=\"data row3 col2\" >3839</td> \n",
       "        <td id=\"T_88e96618_e58e_11e9_af0a_701ce71031efrow3_col3\" class=\"data row3 col3\" >12500</td> \n",
       "        <td id=\"T_88e96618_e58e_11e9_af0a_701ce71031efrow3_col4\" class=\"data row3 col4\" >35000</td> \n",
       "        <td id=\"T_88e96618_e58e_11e9_af0a_701ce71031efrow3_col5\" class=\"data row3 col5\" >3403</td> \n",
       "        <td id=\"T_88e96618_e58e_11e9_af0a_701ce71031efrow3_col6\" class=\"data row3 col6\" >22.41%</td> \n",
       "    </tr></tbody> \n",
       "</table> "
      ],
      "text/plain": [
       "<pandas.io.formats.style.Styler at 0x1a3640a9400>"
      ]
     },
     "execution_count": 27,
     "metadata": {},
     "output_type": "execute_result"
    }
   ],
   "source": [
    "data_pl=get_sub_stats_by_col(data,'city')\n",
    "apply_style(data_pl)"
   ]
  },
  {
   "cell_type": "code",
   "execution_count": 28,
   "metadata": {},
   "outputs": [],
   "source": [
    "salary_beijing=data[data.city=='北京'].monthly_salary\n",
    "salary_shanghai=data[data.city=='上海'].monthly_salary\n",
    "salary_guangzhou=data[data.city=='广州'].monthly_salary\n",
    "salary_shenzhen=data[data.city=='深圳'].monthly_salary"
   ]
  },
  {
   "cell_type": "code",
   "execution_count": null,
   "metadata": {},
   "outputs": [],
   "source": []
  },
  {
   "cell_type": "code",
   "execution_count": 29,
   "metadata": {},
   "outputs": [
    {
     "data": {
      "text/plain": [
       "F_onewayResult(statistic=93.84548271741176, pvalue=8.80238856456703e-22)"
      ]
     },
     "execution_count": 29,
     "metadata": {},
     "output_type": "execute_result"
    }
   ],
   "source": [
    "stats.f_oneway(salary_beijing, salary_shanghai)"
   ]
  },
  {
   "cell_type": "code",
   "execution_count": 30,
   "metadata": {},
   "outputs": [
    {
     "data": {
      "text/plain": [
       "F_onewayResult(statistic=0.10325266838669381, pvalue=0.74798799837756)"
      ]
     },
     "execution_count": 30,
     "metadata": {},
     "output_type": "execute_result"
    }
   ],
   "source": [
    "stats.f_oneway(salary_shanghai, salary_shenzhen)"
   ]
  },
  {
   "cell_type": "code",
   "execution_count": 31,
   "metadata": {},
   "outputs": [
    {
     "data": {
      "text/plain": [
       "F_onewayResult(statistic=93.00393645395916, pvalue=1.6010392483945981e-21)"
      ]
     },
     "execution_count": 31,
     "metadata": {},
     "output_type": "execute_result"
    }
   ],
   "source": [
    "stats.f_oneway(salary_shenzhen, salary_guangzhou)"
   ]
  },
  {
   "cell_type": "markdown",
   "metadata": {},
   "source": [
    "# 编程语言"
   ]
  },
  {
   "cell_type": "code",
   "execution_count": 32,
   "metadata": {},
   "outputs": [
    {
     "data": {
      "text/html": [
       "<style  type=\"text/css\" >\n",
       "</style>  \n",
       "<table id=\"T_88f6fbb0_e58e_11e9_babe_701ce71031ef\" > \n",
       "<thead>    <tr> \n",
       "        <th class=\"col_heading level0 col0\" >rank</th> \n",
       "        <th class=\"col_heading level0 col1\" >pl_</th> \n",
       "        <th class=\"col_heading level0 col2\" >salary_mean</th> \n",
       "        <th class=\"col_heading level0 col3\" >salary_median</th> \n",
       "        <th class=\"col_heading level0 col4\" >salary_95_min</th> \n",
       "        <th class=\"col_heading level0 col5\" >salary_95_max</th> \n",
       "        <th class=\"col_heading level0 col6\" >head_count</th> \n",
       "        <th class=\"col_heading level0 col7\" >percentage</th> \n",
       "    </tr></thead> \n",
       "<tbody>    <tr> \n",
       "        <td id=\"T_88f6fbb0_e58e_11e9_babe_701ce71031efrow0_col0\" class=\"data row0 col0\" >1</td> \n",
       "        <td id=\"T_88f6fbb0_e58e_11e9_babe_701ce71031efrow0_col1\" class=\"data row0 col1\" >rust</td> \n",
       "        <td id=\"T_88f6fbb0_e58e_11e9_babe_701ce71031efrow0_col2\" class=\"data row0 col2\" >27831</td> \n",
       "        <td id=\"T_88f6fbb0_e58e_11e9_babe_701ce71031efrow0_col3\" class=\"data row0 col3\" >31667</td> \n",
       "        <td id=\"T_88f6fbb0_e58e_11e9_babe_701ce71031efrow0_col4\" class=\"data row0 col4\" >9000</td> \n",
       "        <td id=\"T_88f6fbb0_e58e_11e9_babe_701ce71031efrow0_col5\" class=\"data row0 col5\" >45000</td> \n",
       "        <td id=\"T_88f6fbb0_e58e_11e9_babe_701ce71031efrow0_col6\" class=\"data row0 col6\" >62</td> \n",
       "        <td id=\"T_88f6fbb0_e58e_11e9_babe_701ce71031efrow0_col7\" class=\"data row0 col7\" >0.28%</td> \n",
       "    </tr>    <tr> \n",
       "        <td id=\"T_88f6fbb0_e58e_11e9_babe_701ce71031efrow1_col0\" class=\"data row1 col0\" >2</td> \n",
       "        <td id=\"T_88f6fbb0_e58e_11e9_babe_701ce71031efrow1_col1\" class=\"data row1 col1\" >go</td> \n",
       "        <td id=\"T_88f6fbb0_e58e_11e9_babe_701ce71031efrow1_col2\" class=\"data row1 col2\" >22932</td> \n",
       "        <td id=\"T_88f6fbb0_e58e_11e9_babe_701ce71031efrow1_col3\" class=\"data row1 col3\" >22500</td> \n",
       "        <td id=\"T_88f6fbb0_e58e_11e9_babe_701ce71031efrow1_col4\" class=\"data row1 col4\" >4500</td> \n",
       "        <td id=\"T_88f6fbb0_e58e_11e9_babe_701ce71031efrow1_col5\" class=\"data row1 col5\" >45000</td> \n",
       "        <td id=\"T_88f6fbb0_e58e_11e9_babe_701ce71031efrow1_col6\" class=\"data row1 col6\" >2444</td> \n",
       "        <td id=\"T_88f6fbb0_e58e_11e9_babe_701ce71031efrow1_col7\" class=\"data row1 col7\" >10.87%</td> \n",
       "    </tr>    <tr> \n",
       "        <td id=\"T_88f6fbb0_e58e_11e9_babe_701ce71031efrow2_col0\" class=\"data row2 col0\" >3</td> \n",
       "        <td id=\"T_88f6fbb0_e58e_11e9_babe_701ce71031efrow2_col1\" class=\"data row2 col1\" >lua</td> \n",
       "        <td id=\"T_88f6fbb0_e58e_11e9_babe_701ce71031efrow2_col2\" class=\"data row2 col2\" >22846</td> \n",
       "        <td id=\"T_88f6fbb0_e58e_11e9_babe_701ce71031efrow2_col3\" class=\"data row2 col3\" >25000</td> \n",
       "        <td id=\"T_88f6fbb0_e58e_11e9_babe_701ce71031efrow2_col4\" class=\"data row2 col4\" >10000</td> \n",
       "        <td id=\"T_88f6fbb0_e58e_11e9_babe_701ce71031efrow2_col5\" class=\"data row2 col5\" >40000</td> \n",
       "        <td id=\"T_88f6fbb0_e58e_11e9_babe_701ce71031efrow2_col6\" class=\"data row2 col6\" >343</td> \n",
       "        <td id=\"T_88f6fbb0_e58e_11e9_babe_701ce71031efrow2_col7\" class=\"data row2 col7\" >1.53%</td> \n",
       "    </tr>    <tr> \n",
       "        <td id=\"T_88f6fbb0_e58e_11e9_babe_701ce71031efrow3_col0\" class=\"data row3 col0\" >4</td> \n",
       "        <td id=\"T_88f6fbb0_e58e_11e9_babe_701ce71031efrow3_col1\" class=\"data row3 col1\" >swift</td> \n",
       "        <td id=\"T_88f6fbb0_e58e_11e9_babe_701ce71031efrow3_col2\" class=\"data row3 col2\" >21986</td> \n",
       "        <td id=\"T_88f6fbb0_e58e_11e9_babe_701ce71031efrow3_col3\" class=\"data row3 col3\" >21500</td> \n",
       "        <td id=\"T_88f6fbb0_e58e_11e9_babe_701ce71031efrow3_col4\" class=\"data row3 col4\" >8554</td> \n",
       "        <td id=\"T_88f6fbb0_e58e_11e9_babe_701ce71031efrow3_col5\" class=\"data row3 col5\" >37260</td> \n",
       "        <td id=\"T_88f6fbb0_e58e_11e9_babe_701ce71031efrow3_col6\" class=\"data row3 col6\" >284</td> \n",
       "        <td id=\"T_88f6fbb0_e58e_11e9_babe_701ce71031efrow3_col7\" class=\"data row3 col7\" >1.26%</td> \n",
       "    </tr>    <tr> \n",
       "        <td id=\"T_88f6fbb0_e58e_11e9_babe_701ce71031efrow4_col0\" class=\"data row4 col0\" >5</td> \n",
       "        <td id=\"T_88f6fbb0_e58e_11e9_babe_701ce71031efrow4_col1\" class=\"data row4 col1\" >python</td> \n",
       "        <td id=\"T_88f6fbb0_e58e_11e9_babe_701ce71031efrow4_col2\" class=\"data row4 col2\" >21197</td> \n",
       "        <td id=\"T_88f6fbb0_e58e_11e9_babe_701ce71031efrow4_col3\" class=\"data row4 col3\" >19000</td> \n",
       "        <td id=\"T_88f6fbb0_e58e_11e9_babe_701ce71031efrow4_col4\" class=\"data row4 col4\" >4500</td> \n",
       "        <td id=\"T_88f6fbb0_e58e_11e9_babe_701ce71031efrow4_col5\" class=\"data row4 col5\" >45000</td> \n",
       "        <td id=\"T_88f6fbb0_e58e_11e9_babe_701ce71031efrow4_col6\" class=\"data row4 col6\" >2642</td> \n",
       "        <td id=\"T_88f6fbb0_e58e_11e9_babe_701ce71031efrow4_col7\" class=\"data row4 col7\" >11.75%</td> \n",
       "    </tr>    <tr> \n",
       "        <td id=\"T_88f6fbb0_e58e_11e9_babe_701ce71031efrow5_col0\" class=\"data row5 col0\" >6</td> \n",
       "        <td id=\"T_88f6fbb0_e58e_11e9_babe_701ce71031efrow5_col1\" class=\"data row5 col1\" >kotlin</td> \n",
       "        <td id=\"T_88f6fbb0_e58e_11e9_babe_701ce71031efrow5_col2\" class=\"data row5 col2\" >20377</td> \n",
       "        <td id=\"T_88f6fbb0_e58e_11e9_babe_701ce71031efrow5_col3\" class=\"data row5 col3\" >24318</td> \n",
       "        <td id=\"T_88f6fbb0_e58e_11e9_babe_701ce71031efrow5_col4\" class=\"data row5 col4\" >9011</td> \n",
       "        <td id=\"T_88f6fbb0_e58e_11e9_babe_701ce71031efrow5_col5\" class=\"data row5 col5\" >33169</td> \n",
       "        <td id=\"T_88f6fbb0_e58e_11e9_babe_701ce71031efrow5_col6\" class=\"data row5 col6\" >81</td> \n",
       "        <td id=\"T_88f6fbb0_e58e_11e9_babe_701ce71031efrow5_col7\" class=\"data row5 col7\" >0.36%</td> \n",
       "    </tr>    <tr> \n",
       "        <td id=\"T_88f6fbb0_e58e_11e9_babe_701ce71031efrow6_col0\" class=\"data row6 col0\" >7</td> \n",
       "        <td id=\"T_88f6fbb0_e58e_11e9_babe_701ce71031efrow6_col1\" class=\"data row6 col1\" >matlab</td> \n",
       "        <td id=\"T_88f6fbb0_e58e_11e9_babe_701ce71031efrow6_col2\" class=\"data row6 col2\" >19556</td> \n",
       "        <td id=\"T_88f6fbb0_e58e_11e9_babe_701ce71031efrow6_col3\" class=\"data row6 col3\" >17500</td> \n",
       "        <td id=\"T_88f6fbb0_e58e_11e9_babe_701ce71031efrow6_col4\" class=\"data row6 col4\" >8850</td> \n",
       "        <td id=\"T_88f6fbb0_e58e_11e9_babe_701ce71031efrow6_col5\" class=\"data row6 col5\" >41143</td> \n",
       "        <td id=\"T_88f6fbb0_e58e_11e9_babe_701ce71031efrow6_col6\" class=\"data row6 col6\" >288</td> \n",
       "        <td id=\"T_88f6fbb0_e58e_11e9_babe_701ce71031efrow6_col7\" class=\"data row6 col7\" >1.28%</td> \n",
       "    </tr>    <tr> \n",
       "        <td id=\"T_88f6fbb0_e58e_11e9_babe_701ce71031efrow7_col0\" class=\"data row7 col0\" >8</td> \n",
       "        <td id=\"T_88f6fbb0_e58e_11e9_babe_701ce71031efrow7_col1\" class=\"data row7 col1\" >cpp</td> \n",
       "        <td id=\"T_88f6fbb0_e58e_11e9_babe_701ce71031efrow7_col2\" class=\"data row7 col2\" >19163</td> \n",
       "        <td id=\"T_88f6fbb0_e58e_11e9_babe_701ce71031efrow7_col3\" class=\"data row7 col3\" >17500</td> \n",
       "        <td id=\"T_88f6fbb0_e58e_11e9_babe_701ce71031efrow7_col4\" class=\"data row7 col4\" >5250</td> \n",
       "        <td id=\"T_88f6fbb0_e58e_11e9_babe_701ce71031efrow7_col5\" class=\"data row7 col5\" >45000</td> \n",
       "        <td id=\"T_88f6fbb0_e58e_11e9_babe_701ce71031efrow7_col6\" class=\"data row7 col6\" >3897</td> \n",
       "        <td id=\"T_88f6fbb0_e58e_11e9_babe_701ce71031efrow7_col7\" class=\"data row7 col7\" >17.33%</td> \n",
       "    </tr>    <tr> \n",
       "        <td id=\"T_88f6fbb0_e58e_11e9_babe_701ce71031efrow8_col0\" class=\"data row8 col0\" >9</td> \n",
       "        <td id=\"T_88f6fbb0_e58e_11e9_babe_701ce71031efrow8_col1\" class=\"data row8 col1\" >php</td> \n",
       "        <td id=\"T_88f6fbb0_e58e_11e9_babe_701ce71031efrow8_col2\" class=\"data row8 col2\" >18914</td> \n",
       "        <td id=\"T_88f6fbb0_e58e_11e9_babe_701ce71031efrow8_col3\" class=\"data row8 col3\" >15000</td> \n",
       "        <td id=\"T_88f6fbb0_e58e_11e9_babe_701ce71031efrow8_col4\" class=\"data row8 col4\" >4181</td> \n",
       "        <td id=\"T_88f6fbb0_e58e_11e9_babe_701ce71031efrow8_col5\" class=\"data row8 col5\" >45000</td> \n",
       "        <td id=\"T_88f6fbb0_e58e_11e9_babe_701ce71031efrow8_col6\" class=\"data row8 col6\" >1255</td> \n",
       "        <td id=\"T_88f6fbb0_e58e_11e9_babe_701ce71031efrow8_col7\" class=\"data row8 col7\" >5.58%</td> \n",
       "    </tr>    <tr> \n",
       "        <td id=\"T_88f6fbb0_e58e_11e9_babe_701ce71031efrow9_col0\" class=\"data row9 col0\" >10</td> \n",
       "        <td id=\"T_88f6fbb0_e58e_11e9_babe_701ce71031efrow9_col1\" class=\"data row9 col1\" >java</td> \n",
       "        <td id=\"T_88f6fbb0_e58e_11e9_babe_701ce71031efrow9_col2\" class=\"data row9 col2\" >17064</td> \n",
       "        <td id=\"T_88f6fbb0_e58e_11e9_babe_701ce71031efrow9_col3\" class=\"data row9 col3\" >15000</td> \n",
       "        <td id=\"T_88f6fbb0_e58e_11e9_babe_701ce71031efrow9_col4\" class=\"data row9 col4\" >4542</td> \n",
       "        <td id=\"T_88f6fbb0_e58e_11e9_babe_701ce71031efrow9_col5\" class=\"data row9 col5\" >37500</td> \n",
       "        <td id=\"T_88f6fbb0_e58e_11e9_babe_701ce71031efrow9_col6\" class=\"data row9 col6\" >6214</td> \n",
       "        <td id=\"T_88f6fbb0_e58e_11e9_babe_701ce71031efrow9_col7\" class=\"data row9 col7\" >27.64%</td> \n",
       "    </tr>    <tr> \n",
       "        <td id=\"T_88f6fbb0_e58e_11e9_babe_701ce71031efrow10_col0\" class=\"data row10 col0\" >11</td> \n",
       "        <td id=\"T_88f6fbb0_e58e_11e9_babe_701ce71031efrow10_col1\" class=\"data row10 col1\" >typescript</td> \n",
       "        <td id=\"T_88f6fbb0_e58e_11e9_babe_701ce71031efrow10_col2\" class=\"data row10 col2\" >16478</td> \n",
       "        <td id=\"T_88f6fbb0_e58e_11e9_babe_701ce71031efrow10_col3\" class=\"data row10 col3\" >17500</td> \n",
       "        <td id=\"T_88f6fbb0_e58e_11e9_babe_701ce71031efrow10_col4\" class=\"data row10 col4\" >9000</td> \n",
       "        <td id=\"T_88f6fbb0_e58e_11e9_babe_701ce71031efrow10_col5\" class=\"data row10 col5\" >35000</td> \n",
       "        <td id=\"T_88f6fbb0_e58e_11e9_babe_701ce71031efrow10_col6\" class=\"data row10 col6\" >68</td> \n",
       "        <td id=\"T_88f6fbb0_e58e_11e9_babe_701ce71031efrow10_col7\" class=\"data row10 col7\" >0.30%</td> \n",
       "    </tr>    <tr> \n",
       "        <td id=\"T_88f6fbb0_e58e_11e9_babe_701ce71031efrow11_col0\" class=\"data row11 col0\" >12</td> \n",
       "        <td id=\"T_88f6fbb0_e58e_11e9_babe_701ce71031efrow11_col1\" class=\"data row11 col1\" >perl</td> \n",
       "        <td id=\"T_88f6fbb0_e58e_11e9_babe_701ce71031efrow11_col2\" class=\"data row11 col2\" >15864</td> \n",
       "        <td id=\"T_88f6fbb0_e58e_11e9_babe_701ce71031efrow11_col3\" class=\"data row11 col3\" >12714</td> \n",
       "        <td id=\"T_88f6fbb0_e58e_11e9_babe_701ce71031efrow11_col4\" class=\"data row11 col4\" >4375</td> \n",
       "        <td id=\"T_88f6fbb0_e58e_11e9_babe_701ce71031efrow11_col5\" class=\"data row11 col5\" >38333</td> \n",
       "        <td id=\"T_88f6fbb0_e58e_11e9_babe_701ce71031efrow11_col6\" class=\"data row11 col6\" >180</td> \n",
       "        <td id=\"T_88f6fbb0_e58e_11e9_babe_701ce71031efrow11_col7\" class=\"data row11 col7\" >0.80%</td> \n",
       "    </tr>    <tr> \n",
       "        <td id=\"T_88f6fbb0_e58e_11e9_babe_701ce71031efrow12_col0\" class=\"data row12 col0\" >13</td> \n",
       "        <td id=\"T_88f6fbb0_e58e_11e9_babe_701ce71031efrow12_col1\" class=\"data row12 col1\" >ruby</td> \n",
       "        <td id=\"T_88f6fbb0_e58e_11e9_babe_701ce71031efrow12_col2\" class=\"data row12 col2\" >14557</td> \n",
       "        <td id=\"T_88f6fbb0_e58e_11e9_babe_701ce71031efrow12_col3\" class=\"data row12 col3\" >16667</td> \n",
       "        <td id=\"T_88f6fbb0_e58e_11e9_babe_701ce71031efrow12_col4\" class=\"data row12 col4\" >2500</td> \n",
       "        <td id=\"T_88f6fbb0_e58e_11e9_babe_701ce71031efrow12_col5\" class=\"data row12 col5\" >32000</td> \n",
       "        <td id=\"T_88f6fbb0_e58e_11e9_babe_701ce71031efrow12_col6\" class=\"data row12 col6\" >44</td> \n",
       "        <td id=\"T_88f6fbb0_e58e_11e9_babe_701ce71031efrow12_col7\" class=\"data row12 col7\" >0.20%</td> \n",
       "    </tr>    <tr> \n",
       "        <td id=\"T_88f6fbb0_e58e_11e9_babe_701ce71031efrow13_col0\" class=\"data row13 col0\" >14</td> \n",
       "        <td id=\"T_88f6fbb0_e58e_11e9_babe_701ce71031efrow13_col1\" class=\"data row13 col1\" >javascript</td> \n",
       "        <td id=\"T_88f6fbb0_e58e_11e9_babe_701ce71031efrow13_col2\" class=\"data row13 col2\" >14254</td> \n",
       "        <td id=\"T_88f6fbb0_e58e_11e9_babe_701ce71031efrow13_col3\" class=\"data row13 col3\" >12500</td> \n",
       "        <td id=\"T_88f6fbb0_e58e_11e9_babe_701ce71031efrow13_col4\" class=\"data row13 col4\" >5000</td> \n",
       "        <td id=\"T_88f6fbb0_e58e_11e9_babe_701ce71031efrow13_col5\" class=\"data row13 col5\" >30000</td> \n",
       "        <td id=\"T_88f6fbb0_e58e_11e9_babe_701ce71031efrow13_col6\" class=\"data row13 col6\" >2204</td> \n",
       "        <td id=\"T_88f6fbb0_e58e_11e9_babe_701ce71031efrow13_col7\" class=\"data row13 col7\" >9.80%</td> \n",
       "    </tr>    <tr> \n",
       "        <td id=\"T_88f6fbb0_e58e_11e9_babe_701ce71031efrow14_col0\" class=\"data row14 col0\" >15</td> \n",
       "        <td id=\"T_88f6fbb0_e58e_11e9_babe_701ce71031efrow14_col1\" class=\"data row14 col1\" >c_sharp</td> \n",
       "        <td id=\"T_88f6fbb0_e58e_11e9_babe_701ce71031efrow14_col2\" class=\"data row14 col2\" >13906</td> \n",
       "        <td id=\"T_88f6fbb0_e58e_11e9_babe_701ce71031efrow14_col3\" class=\"data row14 col3\" >12500</td> \n",
       "        <td id=\"T_88f6fbb0_e58e_11e9_babe_701ce71031efrow14_col4\" class=\"data row14 col4\" >5500</td> \n",
       "        <td id=\"T_88f6fbb0_e58e_11e9_babe_701ce71031efrow14_col5\" class=\"data row14 col5\" >30000</td> \n",
       "        <td id=\"T_88f6fbb0_e58e_11e9_babe_701ce71031efrow14_col6\" class=\"data row14 col6\" >2373</td> \n",
       "        <td id=\"T_88f6fbb0_e58e_11e9_babe_701ce71031efrow14_col7\" class=\"data row14 col7\" >10.56%</td> \n",
       "    </tr>    <tr> \n",
       "        <td id=\"T_88f6fbb0_e58e_11e9_babe_701ce71031efrow15_col0\" class=\"data row15 col0\" >16</td> \n",
       "        <td id=\"T_88f6fbb0_e58e_11e9_babe_701ce71031efrow15_col1\" class=\"data row15 col1\" >objective_c</td> \n",
       "        <td id=\"T_88f6fbb0_e58e_11e9_babe_701ce71031efrow15_col2\" class=\"data row15 col2\" >13226</td> \n",
       "        <td id=\"T_88f6fbb0_e58e_11e9_babe_701ce71031efrow15_col3\" class=\"data row15 col3\" >12500</td> \n",
       "        <td id=\"T_88f6fbb0_e58e_11e9_babe_701ce71031efrow15_col4\" class=\"data row15 col4\" >9000</td> \n",
       "        <td id=\"T_88f6fbb0_e58e_11e9_babe_701ce71031efrow15_col5\" class=\"data row15 col5\" >26537</td> \n",
       "        <td id=\"T_88f6fbb0_e58e_11e9_babe_701ce71031efrow15_col6\" class=\"data row15 col6\" >31</td> \n",
       "        <td id=\"T_88f6fbb0_e58e_11e9_babe_701ce71031efrow15_col7\" class=\"data row15 col7\" >0.14%</td> \n",
       "    </tr>    <tr> \n",
       "        <td id=\"T_88f6fbb0_e58e_11e9_babe_701ce71031efrow16_col0\" class=\"data row16 col0\" >17</td> \n",
       "        <td id=\"T_88f6fbb0_e58e_11e9_babe_701ce71031efrow16_col1\" class=\"data row16 col1\" >visual_basic</td> \n",
       "        <td id=\"T_88f6fbb0_e58e_11e9_babe_701ce71031efrow16_col2\" class=\"data row16 col2\" >12333</td> \n",
       "        <td id=\"T_88f6fbb0_e58e_11e9_babe_701ce71031efrow16_col3\" class=\"data row16 col3\" >12333</td> \n",
       "        <td id=\"T_88f6fbb0_e58e_11e9_babe_701ce71031efrow16_col4\" class=\"data row16 col4\" >9000</td> \n",
       "        <td id=\"T_88f6fbb0_e58e_11e9_babe_701ce71031efrow16_col5\" class=\"data row16 col5\" >14000</td> \n",
       "        <td id=\"T_88f6fbb0_e58e_11e9_babe_701ce71031efrow16_col6\" class=\"data row16 col6\" >3</td> \n",
       "        <td id=\"T_88f6fbb0_e58e_11e9_babe_701ce71031efrow16_col7\" class=\"data row16 col7\" >0.01%</td> \n",
       "    </tr>    <tr> \n",
       "        <td id=\"T_88f6fbb0_e58e_11e9_babe_701ce71031efrow17_col0\" class=\"data row17 col0\" >18</td> \n",
       "        <td id=\"T_88f6fbb0_e58e_11e9_babe_701ce71031efrow17_col1\" class=\"data row17 col1\" >vba</td> \n",
       "        <td id=\"T_88f6fbb0_e58e_11e9_babe_701ce71031efrow17_col2\" class=\"data row17 col2\" >11395</td> \n",
       "        <td id=\"T_88f6fbb0_e58e_11e9_babe_701ce71031efrow17_col3\" class=\"data row17 col3\" >11833</td> \n",
       "        <td id=\"T_88f6fbb0_e58e_11e9_babe_701ce71031efrow17_col4\" class=\"data row17 col4\" >6500</td> \n",
       "        <td id=\"T_88f6fbb0_e58e_11e9_babe_701ce71031efrow17_col5\" class=\"data row17 col5\" >15000</td> \n",
       "        <td id=\"T_88f6fbb0_e58e_11e9_babe_701ce71031efrow17_col6\" class=\"data row17 col6\" >19</td> \n",
       "        <td id=\"T_88f6fbb0_e58e_11e9_babe_701ce71031efrow17_col7\" class=\"data row17 col7\" >0.08%</td> \n",
       "    </tr>    <tr> \n",
       "        <td id=\"T_88f6fbb0_e58e_11e9_babe_701ce71031efrow18_col0\" class=\"data row18 col0\" >19</td> \n",
       "        <td id=\"T_88f6fbb0_e58e_11e9_babe_701ce71031efrow18_col1\" class=\"data row18 col1\" >delphi</td> \n",
       "        <td id=\"T_88f6fbb0_e58e_11e9_babe_701ce71031efrow18_col2\" class=\"data row18 col2\" >9738</td> \n",
       "        <td id=\"T_88f6fbb0_e58e_11e9_babe_701ce71031efrow18_col3\" class=\"data row18 col3\" >10125</td> \n",
       "        <td id=\"T_88f6fbb0_e58e_11e9_babe_701ce71031efrow18_col4\" class=\"data row18 col4\" >2500</td> \n",
       "        <td id=\"T_88f6fbb0_e58e_11e9_babe_701ce71031efrow18_col5\" class=\"data row18 col5\" >16775</td> \n",
       "        <td id=\"T_88f6fbb0_e58e_11e9_babe_701ce71031efrow18_col6\" class=\"data row18 col6\" >49</td> \n",
       "        <td id=\"T_88f6fbb0_e58e_11e9_babe_701ce71031efrow18_col7\" class=\"data row18 col7\" >0.22%</td> \n",
       "    </tr></tbody> \n",
       "</table> "
      ],
      "text/plain": [
       "<pandas.io.formats.style.Styler at 0x1a36031ebe0>"
      ]
     },
     "execution_count": 32,
     "metadata": {},
     "output_type": "execute_result"
    }
   ],
   "source": [
    "data_pl=get_sub_stats_by_prefix(data,'pl_')\n",
    "apply_style(data_pl)"
   ]
  },
  {
   "cell_type": "code",
   "execution_count": null,
   "metadata": {},
   "outputs": [],
   "source": []
  },
  {
   "cell_type": "markdown",
   "metadata": {},
   "source": [
    "数据显示，haskell才是最赚钱的编程语言。python是主流语言里面最赚钱的，比java的工资多了3000元！vb是最不赚钱的了。其中，最赚钱的编程语言和最不赚钱的，工资居然差了2倍。所以，要选好编程语言呀！"
   ]
  },
  {
   "cell_type": "markdown",
   "metadata": {},
   "source": [
    "# 教育"
   ]
  },
  {
   "cell_type": "code",
   "execution_count": 33,
   "metadata": {},
   "outputs": [],
   "source": [
    "edu_counts=data[~(data.edu=='')].groupby(by=['edu']).headcount.sum()"
   ]
  },
  {
   "cell_type": "code",
   "execution_count": 34,
   "metadata": {},
   "outputs": [
    {
     "data": {
      "text/plain": [
       "edu\n",
       "初中及以下       2\n",
       "博士          4\n",
       "大专       4060\n",
       "本科       8861\n",
       "硕士        503\n",
       "高中         17\n",
       "Name: headcount, dtype: int64"
      ]
     },
     "execution_count": 34,
     "metadata": {},
     "output_type": "execute_result"
    }
   ],
   "source": [
    "edu_counts"
   ]
  },
  {
   "cell_type": "code",
   "execution_count": 35,
   "metadata": {},
   "outputs": [
    {
     "data": {
      "text/plain": [
       "([<matplotlib.patches.Wedge at 0x1a363f9f908>,\n",
       "  <matplotlib.patches.Wedge at 0x1a363faa0f0>,\n",
       "  <matplotlib.patches.Wedge at 0x1a363faa7f0>,\n",
       "  <matplotlib.patches.Wedge at 0x1a363faaef0>,\n",
       "  <matplotlib.patches.Wedge at 0x1a363fb4630>,\n",
       "  <matplotlib.patches.Wedge at 0x1a363fb4d30>],\n",
       " [Text(1.0999998799197497, 0.0005139810661011047, '初中及以下'),\n",
       "  Text(1.0999980787165191, 0.0020559231422413826, '博士'),\n",
       "  Text(0.6386587668644843, 0.8956087200932874, '大专'),\n",
       "  Text(-0.7436255006443333, -0.8105683899532875, '本科'),\n",
       "  Text(1.0913544669302566, -0.13764238995082834, '硕士'),\n",
       "  Text(1.0999913233967604, -0.004369033284831516, '高中')],\n",
       " [Text(0.5999999345016817, 0.0002803533087824207, '0.0%'),\n",
       "  Text(0.5999989520271922, 0.001121412623040754, '0.0%'),\n",
       "  Text(0.3483593273806278, 0.48851384732361125, '30.2%'),\n",
       "  Text(-0.4056139094423636, -0.44212821270179314, '65.9%'),\n",
       "  Text(0.5952842546892307, -0.07507766724590637, '3.7%'),\n",
       "  Text(0.5999952673073238, -0.0023831090644535536, '0.1%')])"
      ]
     },
     "execution_count": 35,
     "metadata": {},
     "output_type": "execute_result"
    },
    {
     "data": {
      "image/png": "[encoded data removed]",
      "text/plain": [
       "<Figure size 720x576 with 1 Axes>"
      ]
     },
     "metadata": {},
     "output_type": "display_data"
    }
   ],
   "source": [
    "plt.figure(figsize=(10,8))\n",
    "plt.pie(edu_counts.values, labels=edu_counts.index, autopct='%1.1f%%')"
   ]
  },
  {
   "cell_type": "code",
   "execution_count": 36,
   "metadata": {},
   "outputs": [
    {
     "data": {
      "text/html": [
       "<style  type=\"text/css\" >\n",
       "</style>  \n",
       "<table id=\"T_890fd9ae_e58e_11e9_a5ec_701ce71031ef\" > \n",
       "<thead>    <tr> \n",
       "        <th class=\"col_heading level0 col0\" >edu</th> \n",
       "        <th class=\"col_heading level0 col1\" >salary_mean</th> \n",
       "        <th class=\"col_heading level0 col2\" >salary_95_min</th> \n",
       "        <th class=\"col_heading level0 col3\" >salary_median</th> \n",
       "        <th class=\"col_heading level0 col4\" >salary_95_max</th> \n",
       "        <th class=\"col_heading level0 col5\" >head_count</th> \n",
       "        <th class=\"col_heading level0 col6\" >percentage</th> \n",
       "    </tr></thead> \n",
       "<tbody>    <tr> \n",
       "        <td id=\"T_890fd9ae_e58e_11e9_a5ec_701ce71031efrow0_col0\" class=\"data row0 col0\" >博士</td> \n",
       "        <td id=\"T_890fd9ae_e58e_11e9_a5ec_701ce71031efrow0_col1\" class=\"data row0 col1\" >30875</td> \n",
       "        <td id=\"T_890fd9ae_e58e_11e9_a5ec_701ce71031efrow0_col2\" class=\"data row0 col2\" >18500</td> \n",
       "        <td id=\"T_890fd9ae_e58e_11e9_a5ec_701ce71031efrow0_col3\" class=\"data row0 col3\" >27500</td> \n",
       "        <td id=\"T_890fd9ae_e58e_11e9_a5ec_701ce71031efrow0_col4\" class=\"data row0 col4\" >50000</td> \n",
       "        <td id=\"T_890fd9ae_e58e_11e9_a5ec_701ce71031efrow0_col5\" class=\"data row0 col5\" >4</td> \n",
       "        <td id=\"T_890fd9ae_e58e_11e9_a5ec_701ce71031efrow0_col6\" class=\"data row0 col6\" >0.03%</td> \n",
       "    </tr>    <tr> \n",
       "        <td id=\"T_890fd9ae_e58e_11e9_a5ec_701ce71031efrow1_col0\" class=\"data row1 col0\" >本科</td> \n",
       "        <td id=\"T_890fd9ae_e58e_11e9_a5ec_701ce71031efrow1_col1\" class=\"data row1 col1\" >18877</td> \n",
       "        <td id=\"T_890fd9ae_e58e_11e9_a5ec_701ce71031efrow1_col2\" class=\"data row1 col2\" >4500</td> \n",
       "        <td id=\"T_890fd9ae_e58e_11e9_a5ec_701ce71031efrow1_col3\" class=\"data row1 col3\" >16000</td> \n",
       "        <td id=\"T_890fd9ae_e58e_11e9_a5ec_701ce71031efrow1_col4\" class=\"data row1 col4\" >45000</td> \n",
       "        <td id=\"T_890fd9ae_e58e_11e9_a5ec_701ce71031efrow1_col5\" class=\"data row1 col5\" >8861</td> \n",
       "        <td id=\"T_890fd9ae_e58e_11e9_a5ec_701ce71031efrow1_col6\" class=\"data row1 col6\" >65.90%</td> \n",
       "    </tr>    <tr> \n",
       "        <td id=\"T_890fd9ae_e58e_11e9_a5ec_701ce71031efrow2_col0\" class=\"data row2 col0\" >硕士</td> \n",
       "        <td id=\"T_890fd9ae_e58e_11e9_a5ec_701ce71031efrow2_col1\" class=\"data row2 col1\" >18362</td> \n",
       "        <td id=\"T_890fd9ae_e58e_11e9_a5ec_701ce71031efrow2_col2\" class=\"data row2 col2\" >4139</td> \n",
       "        <td id=\"T_890fd9ae_e58e_11e9_a5ec_701ce71031efrow2_col3\" class=\"data row2 col3\" >17500</td> \n",
       "        <td id=\"T_890fd9ae_e58e_11e9_a5ec_701ce71031efrow2_col4\" class=\"data row2 col4\" >41583</td> \n",
       "        <td id=\"T_890fd9ae_e58e_11e9_a5ec_701ce71031efrow2_col5\" class=\"data row2 col5\" >503</td> \n",
       "        <td id=\"T_890fd9ae_e58e_11e9_a5ec_701ce71031efrow2_col6\" class=\"data row2 col6\" >3.74%</td> \n",
       "    </tr>    <tr> \n",
       "        <td id=\"T_890fd9ae_e58e_11e9_a5ec_701ce71031efrow3_col0\" class=\"data row3 col0\" >大专</td> \n",
       "        <td id=\"T_890fd9ae_e58e_11e9_a5ec_701ce71031efrow3_col1\" class=\"data row3 col1\" >15183</td> \n",
       "        <td id=\"T_890fd9ae_e58e_11e9_a5ec_701ce71031efrow3_col2\" class=\"data row3 col2\" >4500</td> \n",
       "        <td id=\"T_890fd9ae_e58e_11e9_a5ec_701ce71031efrow3_col3\" class=\"data row3 col3\" >12500</td> \n",
       "        <td id=\"T_890fd9ae_e58e_11e9_a5ec_701ce71031efrow3_col4\" class=\"data row3 col4\" >35000</td> \n",
       "        <td id=\"T_890fd9ae_e58e_11e9_a5ec_701ce71031efrow3_col5\" class=\"data row3 col5\" >4060</td> \n",
       "        <td id=\"T_890fd9ae_e58e_11e9_a5ec_701ce71031efrow3_col6\" class=\"data row3 col6\" >30.19%</td> \n",
       "    </tr>    <tr> \n",
       "        <td id=\"T_890fd9ae_e58e_11e9_a5ec_701ce71031efrow4_col0\" class=\"data row4 col0\" >初中及以下</td> \n",
       "        <td id=\"T_890fd9ae_e58e_11e9_a5ec_701ce71031efrow4_col1\" class=\"data row4 col1\" >10000</td> \n",
       "        <td id=\"T_890fd9ae_e58e_11e9_a5ec_701ce71031efrow4_col2\" class=\"data row4 col2\" >10000</td> \n",
       "        <td id=\"T_890fd9ae_e58e_11e9_a5ec_701ce71031efrow4_col3\" class=\"data row4 col3\" >10000</td> \n",
       "        <td id=\"T_890fd9ae_e58e_11e9_a5ec_701ce71031efrow4_col4\" class=\"data row4 col4\" >10000</td> \n",
       "        <td id=\"T_890fd9ae_e58e_11e9_a5ec_701ce71031efrow4_col5\" class=\"data row4 col5\" >2</td> \n",
       "        <td id=\"T_890fd9ae_e58e_11e9_a5ec_701ce71031efrow4_col6\" class=\"data row4 col6\" >0.01%</td> \n",
       "    </tr>    <tr> \n",
       "        <td id=\"T_890fd9ae_e58e_11e9_a5ec_701ce71031efrow5_col0\" class=\"data row5 col0\" >高中</td> \n",
       "        <td id=\"T_890fd9ae_e58e_11e9_a5ec_701ce71031efrow5_col1\" class=\"data row5 col1\" >7000</td> \n",
       "        <td id=\"T_890fd9ae_e58e_11e9_a5ec_701ce71031efrow5_col2\" class=\"data row5 col2\" >5250</td> \n",
       "        <td id=\"T_890fd9ae_e58e_11e9_a5ec_701ce71031efrow5_col3\" class=\"data row5 col3\" >7000</td> \n",
       "        <td id=\"T_890fd9ae_e58e_11e9_a5ec_701ce71031efrow5_col4\" class=\"data row5 col4\" >10500</td> \n",
       "        <td id=\"T_890fd9ae_e58e_11e9_a5ec_701ce71031efrow5_col5\" class=\"data row5 col5\" >17</td> \n",
       "        <td id=\"T_890fd9ae_e58e_11e9_a5ec_701ce71031efrow5_col6\" class=\"data row5 col6\" >0.13%</td> \n",
       "    </tr></tbody> \n",
       "</table> "
      ],
      "text/plain": [
       "<pandas.io.formats.style.Styler at 0x1a3602f61d0>"
      ]
     },
     "execution_count": 36,
     "metadata": {},
     "output_type": "execute_result"
    }
   ],
   "source": [
    "data_edu=get_sub_stats_by_col(data[data.edu.isin(['初中及以下','高中','大专','本科','硕士','博士'])], 'edu')\n",
    "apply_style(data_edu)"
   ]
  },
  {
   "cell_type": "code",
   "execution_count": 37,
   "metadata": {},
   "outputs": [],
   "source": [
    "salary_associate=data[data.edu=='大专'].monthly_salary\n",
    "salary_bachelor=data[data.edu=='本科'].monthly_salary\n",
    "salary_master=data[data.edu=='硕士'].monthly_salary\n",
    "salary_phd=data[data.edu=='博士'].monthly_salary"
   ]
  },
  {
   "cell_type": "code",
   "execution_count": null,
   "metadata": {},
   "outputs": [],
   "source": []
  },
  {
   "cell_type": "code",
   "execution_count": 38,
   "metadata": {},
   "outputs": [
    {
     "name": "stdout",
     "output_type": "stream",
     "text": [
      "大专，本科，硕士，博士的平均工资分别是14156，18589，19344，32000。中位数分别是12500， 16000，19750， 27500。\n"
     ]
    }
   ],
   "source": [
    "print('大专，本科，硕士，博士的平均工资分别是{:.0f}，{:.0f}，{:.0f}，{:.0f}。中位数分别是{:.0f}， {:.0f}，{:.0f}， {:.0f}。'.format(\n",
    "    salary_associate.mean(),salary_bachelor.mean(),salary_master.mean(),salary_phd.mean(),\n",
    "    salary_associate.median(),salary_bachelor.median(),salary_master.median(),salary_phd.median()))"
   ]
  },
  {
   "cell_type": "code",
   "execution_count": 39,
   "metadata": {},
   "outputs": [
    {
     "data": {
      "text/plain": [
       "F_onewayResult(statistic=5.6792544353086285, pvalue=0.018332164428682025)"
      ]
     },
     "execution_count": 39,
     "metadata": {},
     "output_type": "execute_result"
    }
   ],
   "source": [
    "stats.f_oneway(salary_phd, salary_master)"
   ]
  },
  {
   "cell_type": "code",
   "execution_count": 40,
   "metadata": {},
   "outputs": [
    {
     "data": {
      "text/plain": [
       "F_onewayResult(statistic=0.8238041359705677, pvalue=0.3641517811587448)"
      ]
     },
     "execution_count": 40,
     "metadata": {},
     "output_type": "execute_result"
    }
   ],
   "source": [
    "stats.f_oneway(salary_master, salary_bachelor)"
   ]
  },
  {
   "cell_type": "code",
   "execution_count": 41,
   "metadata": {},
   "outputs": [
    {
     "data": {
      "text/plain": [
       "F_onewayResult(statistic=165.78850663683775, pvalue=4.074045181289053e-37)"
      ]
     },
     "execution_count": 41,
     "metadata": {},
     "output_type": "execute_result"
    }
   ],
   "source": [
    "stats.f_oneway(salary_bachelor, salary_associate)"
   ]
  },
  {
   "cell_type": "markdown",
   "metadata": {},
   "source": [
    "经过Oneway Anova Test，证明从大专到博士，学历每提高一级，工资都有显著的提高。"
   ]
  },
  {
   "cell_type": "code",
   "execution_count": 42,
   "metadata": {},
   "outputs": [
    {
     "data": {
      "image/png": "[encoded data removed]",
      "text/plain": [
       "<Figure size 432x288 with 1 Axes>"
      ]
     },
     "metadata": {
      "needs_background": "light"
     },
     "output_type": "display_data"
    }
   ],
   "source": [
    "\n",
    "order=['大专','本科','硕士','博士']\n",
    "a=sns.boxplot(y='edu',x='monthly_salary',order=order,data=data[data.edu.isin(order)], orient='h')\n",
    "plt.annotate('https://github.com/juwikuang/job_survey', xy=(0.5,1.5), xytext=(2, 1.55))\n",
    "plt.show()"
   ]
  },
  {
   "cell_type": "markdown",
   "metadata": {},
   "source": [
    "# 工作经验 Working Experience"
   ]
  },
  {
   "cell_type": "code",
   "execution_count": 43,
   "metadata": {},
   "outputs": [
    {
     "data": {
      "text/html": [
       "<style  type=\"text/css\" >\n",
       "</style>  \n",
       "<table id=\"T_893a9338_e58e_11e9_9aa3_701ce71031ef\" > \n",
       "<thead>    <tr> \n",
       "        <th class=\"col_heading level0 col0\" >experience</th> \n",
       "        <th class=\"col_heading level0 col1\" >salary_mean</th> \n",
       "        <th class=\"col_heading level0 col2\" >salary_95_min</th> \n",
       "        <th class=\"col_heading level0 col3\" >salary_median</th> \n",
       "        <th class=\"col_heading level0 col4\" >salary_95_max</th> \n",
       "        <th class=\"col_heading level0 col5\" >head_count</th> \n",
       "        <th class=\"col_heading level0 col6\" >percentage</th> \n",
       "    </tr></thead> \n",
       "<tbody>    <tr> \n",
       "        <td id=\"T_893a9338_e58e_11e9_9aa3_701ce71031efrow0_col0\" class=\"data row0 col0\" >10+</td> \n",
       "        <td id=\"T_893a9338_e58e_11e9_9aa3_701ce71031efrow0_col1\" class=\"data row0 col1\" >34728</td> \n",
       "        <td id=\"T_893a9338_e58e_11e9_9aa3_701ce71031efrow0_col2\" class=\"data row0 col2\" >5538</td> \n",
       "        <td id=\"T_893a9338_e58e_11e9_9aa3_701ce71031efrow0_col3\" class=\"data row0 col3\" >30833</td> \n",
       "        <td id=\"T_893a9338_e58e_11e9_9aa3_701ce71031efrow0_col4\" class=\"data row0 col4\" >60000</td> \n",
       "        <td id=\"T_893a9338_e58e_11e9_9aa3_701ce71031efrow0_col5\" class=\"data row0 col5\" >53</td> \n",
       "        <td id=\"T_893a9338_e58e_11e9_9aa3_701ce71031efrow0_col6\" class=\"data row0 col6\" >0.35%</td> \n",
       "    </tr>    <tr> \n",
       "        <td id=\"T_893a9338_e58e_11e9_9aa3_701ce71031efrow1_col0\" class=\"data row1 col0\" >5_10</td> \n",
       "        <td id=\"T_893a9338_e58e_11e9_9aa3_701ce71031efrow1_col1\" class=\"data row1 col1\" >23736</td> \n",
       "        <td id=\"T_893a9338_e58e_11e9_9aa3_701ce71031efrow1_col2\" class=\"data row1 col2\" >12000</td> \n",
       "        <td id=\"T_893a9338_e58e_11e9_9aa3_701ce71031efrow1_col3\" class=\"data row1 col3\" >20500</td> \n",
       "        <td id=\"T_893a9338_e58e_11e9_9aa3_701ce71031efrow1_col4\" class=\"data row1 col4\" >52500</td> \n",
       "        <td id=\"T_893a9338_e58e_11e9_9aa3_701ce71031efrow1_col5\" class=\"data row1 col5\" >1521</td> \n",
       "        <td id=\"T_893a9338_e58e_11e9_9aa3_701ce71031efrow1_col6\" class=\"data row1 col6\" >10.02%</td> \n",
       "    </tr>    <tr> \n",
       "        <td id=\"T_893a9338_e58e_11e9_9aa3_701ce71031efrow2_col0\" class=\"data row2 col0\" >3_5</td> \n",
       "        <td id=\"T_893a9338_e58e_11e9_9aa3_701ce71031efrow2_col1\" class=\"data row2 col1\" >20993</td> \n",
       "        <td id=\"T_893a9338_e58e_11e9_9aa3_701ce71031efrow2_col2\" class=\"data row2 col2\" >9000</td> \n",
       "        <td id=\"T_893a9338_e58e_11e9_9aa3_701ce71031efrow2_col3\" class=\"data row2 col3\" >17500</td> \n",
       "        <td id=\"T_893a9338_e58e_11e9_9aa3_701ce71031efrow2_col4\" class=\"data row2 col4\" >45000</td> \n",
       "        <td id=\"T_893a9338_e58e_11e9_9aa3_701ce71031efrow2_col5\" class=\"data row2 col5\" >4273</td> \n",
       "        <td id=\"T_893a9338_e58e_11e9_9aa3_701ce71031efrow2_col6\" class=\"data row2 col6\" >28.14%</td> \n",
       "    </tr>    <tr> \n",
       "        <td id=\"T_893a9338_e58e_11e9_9aa3_701ce71031efrow3_col0\" class=\"data row3 col0\" >no</td> \n",
       "        <td id=\"T_893a9338_e58e_11e9_9aa3_701ce71031efrow3_col1\" class=\"data row3 col1\" >15247</td> \n",
       "        <td id=\"T_893a9338_e58e_11e9_9aa3_701ce71031efrow3_col2\" class=\"data row3 col2\" >3750</td> \n",
       "        <td id=\"T_893a9338_e58e_11e9_9aa3_701ce71031efrow3_col3\" class=\"data row3 col3\" >12500</td> \n",
       "        <td id=\"T_893a9338_e58e_11e9_9aa3_701ce71031efrow3_col4\" class=\"data row3 col4\" >35000</td> \n",
       "        <td id=\"T_893a9338_e58e_11e9_9aa3_701ce71031efrow3_col5\" class=\"data row3 col5\" >5407</td> \n",
       "        <td id=\"T_893a9338_e58e_11e9_9aa3_701ce71031efrow3_col6\" class=\"data row3 col6\" >35.61%</td> \n",
       "    </tr>    <tr> \n",
       "        <td id=\"T_893a9338_e58e_11e9_9aa3_701ce71031efrow4_col0\" class=\"data row4 col0\" >1_3</td> \n",
       "        <td id=\"T_893a9338_e58e_11e9_9aa3_701ce71031efrow4_col1\" class=\"data row4 col1\" >14019</td> \n",
       "        <td id=\"T_893a9338_e58e_11e9_9aa3_701ce71031efrow4_col2\" class=\"data row4 col2\" >5250</td> \n",
       "        <td id=\"T_893a9338_e58e_11e9_9aa3_701ce71031efrow4_col3\" class=\"data row4 col3\" >12500</td> \n",
       "        <td id=\"T_893a9338_e58e_11e9_9aa3_701ce71031efrow4_col4\" class=\"data row4 col4\" >30000</td> \n",
       "        <td id=\"T_893a9338_e58e_11e9_9aa3_701ce71031efrow4_col5\" class=\"data row4 col5\" >3929</td> \n",
       "        <td id=\"T_893a9338_e58e_11e9_9aa3_701ce71031efrow4_col6\" class=\"data row4 col6\" >25.88%</td> \n",
       "    </tr></tbody> \n",
       "</table> "
      ],
      "text/plain": [
       "<pandas.io.formats.style.Styler at 0x1a364003fd0>"
      ]
     },
     "execution_count": 43,
     "metadata": {},
     "output_type": "execute_result"
    }
   ],
   "source": [
    "data_experience=get_sub_stats_by_col(data, 'experience')\n",
    "apply_style(data_experience)"
   ]
  },
  {
   "cell_type": "code",
   "execution_count": 44,
   "metadata": {},
   "outputs": [],
   "source": [
    "salary_we_10=data[data.experience=='10+'].monthly_salary\n",
    "salary_we_5_10=data[data.experience=='5_10'].monthly_salary\n",
    "salary_we_3_5=data[data.experience=='3_5'].monthly_salary\n",
    "salary_we_1_3=data[data.experience=='1_3'].monthly_salary\n",
    "salary_we_no=data[data.experience=='no'].monthly_salary"
   ]
  },
  {
   "cell_type": "code",
   "execution_count": 45,
   "metadata": {},
   "outputs": [
    {
     "data": {
      "image/png": "[encoded data removed]",
      "text/plain": [
       "<Figure size 432x288 with 1 Axes>"
      ]
     },
     "metadata": {
      "needs_background": "light"
     },
     "output_type": "display_data"
    }
   ],
   "source": [
    "\n",
    "order=['10+','5_10','3_5','1_3']\n",
    "sns.boxplot(y='experience',x='monthly_salary',order=order,data=data[data.experience.isin(order)], orient='h')\n",
    "plt.annotate('https://github.com/juwikuang/job_survey', xy=(1.5,1.5), xytext=(1.55, 1.55))\n",
    "plt.show()"
   ]
  },
  {
   "cell_type": "markdown",
   "metadata": {},
   "source": [
    "# 公司 Company"
   ]
  },
  {
   "cell_type": "markdown",
   "metadata": {},
   "source": [
    "## 公司性质 Company Type"
   ]
  },
  {
   "cell_type": "code",
   "execution_count": 46,
   "metadata": {},
   "outputs": [
    {
     "data": {
      "text/html": [
       "<style  type=\"text/css\" >\n",
       "</style>  \n",
       "<table id=\"T_8958c9a2_e58e_11e9_8ba4_701ce71031ef\" > \n",
       "<thead>    <tr> \n",
       "        <th class=\"col_heading level0 col0\" >company_type</th> \n",
       "        <th class=\"col_heading level0 col1\" >salary_mean</th> \n",
       "        <th class=\"col_heading level0 col2\" >salary_95_min</th> \n",
       "        <th class=\"col_heading level0 col3\" >salary_median</th> \n",
       "        <th class=\"col_heading level0 col4\" >salary_95_max</th> \n",
       "        <th class=\"col_heading level0 col5\" >head_count</th> \n",
       "        <th class=\"col_heading level0 col6\" >percentage</th> \n",
       "    </tr></thead> \n",
       "<tbody>    <tr> \n",
       "        <td id=\"T_8958c9a2_e58e_11e9_8ba4_701ce71031efrow0_col0\" class=\"data row0 col0\" >外资（欧美）</td> \n",
       "        <td id=\"T_8958c9a2_e58e_11e9_8ba4_701ce71031efrow0_col1\" class=\"data row0 col1\" >18393</td> \n",
       "        <td id=\"T_8958c9a2_e58e_11e9_8ba4_701ce71031efrow0_col2\" class=\"data row0 col2\" >6813</td> \n",
       "        <td id=\"T_8958c9a2_e58e_11e9_8ba4_701ce71031efrow0_col3\" class=\"data row0 col3\" >17500</td> \n",
       "        <td id=\"T_8958c9a2_e58e_11e9_8ba4_701ce71031efrow0_col4\" class=\"data row0 col4\" >35000</td> \n",
       "        <td id=\"T_8958c9a2_e58e_11e9_8ba4_701ce71031efrow0_col5\" class=\"data row0 col5\" >1125</td> \n",
       "        <td id=\"T_8958c9a2_e58e_11e9_8ba4_701ce71031efrow0_col6\" class=\"data row0 col6\" >7.41%</td> \n",
       "    </tr>    <tr> \n",
       "        <td id=\"T_8958c9a2_e58e_11e9_8ba4_701ce71031efrow1_col0\" class=\"data row1 col0\" >民营公司</td> \n",
       "        <td id=\"T_8958c9a2_e58e_11e9_8ba4_701ce71031efrow1_col1\" class=\"data row1 col1\" >17789</td> \n",
       "        <td id=\"T_8958c9a2_e58e_11e9_8ba4_701ce71031efrow1_col2\" class=\"data row1 col2\" >4500</td> \n",
       "        <td id=\"T_8958c9a2_e58e_11e9_8ba4_701ce71031efrow1_col3\" class=\"data row1 col3\" >15000</td> \n",
       "        <td id=\"T_8958c9a2_e58e_11e9_8ba4_701ce71031efrow1_col4\" class=\"data row1 col4\" >41118</td> \n",
       "        <td id=\"T_8958c9a2_e58e_11e9_8ba4_701ce71031efrow1_col5\" class=\"data row1 col5\" >11561</td> \n",
       "        <td id=\"T_8958c9a2_e58e_11e9_8ba4_701ce71031efrow1_col6\" class=\"data row1 col6\" >76.14%</td> \n",
       "    </tr>    <tr> \n",
       "        <td id=\"T_8958c9a2_e58e_11e9_8ba4_701ce71031efrow2_col0\" class=\"data row2 col0\" >外资（非欧美）</td> \n",
       "        <td id=\"T_8958c9a2_e58e_11e9_8ba4_701ce71031efrow2_col1\" class=\"data row2 col1\" >17018</td> \n",
       "        <td id=\"T_8958c9a2_e58e_11e9_8ba4_701ce71031efrow2_col2\" class=\"data row2 col2\" >5733</td> \n",
       "        <td id=\"T_8958c9a2_e58e_11e9_8ba4_701ce71031efrow2_col3\" class=\"data row2 col3\" >15000</td> \n",
       "        <td id=\"T_8958c9a2_e58e_11e9_8ba4_701ce71031efrow2_col4\" class=\"data row2 col4\" >39212</td> \n",
       "        <td id=\"T_8958c9a2_e58e_11e9_8ba4_701ce71031efrow2_col5\" class=\"data row2 col5\" >658</td> \n",
       "        <td id=\"T_8958c9a2_e58e_11e9_8ba4_701ce71031efrow2_col6\" class=\"data row2 col6\" >4.33%</td> \n",
       "    </tr>    <tr> \n",
       "        <td id=\"T_8958c9a2_e58e_11e9_8ba4_701ce71031efrow3_col0\" class=\"data row3 col0\" >合资</td> \n",
       "        <td id=\"T_8958c9a2_e58e_11e9_8ba4_701ce71031efrow3_col1\" class=\"data row3 col1\" >15960</td> \n",
       "        <td id=\"T_8958c9a2_e58e_11e9_8ba4_701ce71031efrow3_col2\" class=\"data row3 col2\" >3714</td> \n",
       "        <td id=\"T_8958c9a2_e58e_11e9_8ba4_701ce71031efrow3_col3\" class=\"data row3 col3\" >15000</td> \n",
       "        <td id=\"T_8958c9a2_e58e_11e9_8ba4_701ce71031efrow3_col4\" class=\"data row3 col4\" >30225</td> \n",
       "        <td id=\"T_8958c9a2_e58e_11e9_8ba4_701ce71031efrow3_col5\" class=\"data row3 col5\" >934</td> \n",
       "        <td id=\"T_8958c9a2_e58e_11e9_8ba4_701ce71031efrow3_col6\" class=\"data row3 col6\" >6.15%</td> \n",
       "    </tr>    <tr> \n",
       "        <td id=\"T_8958c9a2_e58e_11e9_8ba4_701ce71031efrow4_col0\" class=\"data row4 col0\" >非营利组织</td> \n",
       "        <td id=\"T_8958c9a2_e58e_11e9_8ba4_701ce71031efrow4_col1\" class=\"data row4 col1\" >15000</td> \n",
       "        <td id=\"T_8958c9a2_e58e_11e9_8ba4_701ce71031efrow4_col2\" class=\"data row4 col2\" >6500</td> \n",
       "        <td id=\"T_8958c9a2_e58e_11e9_8ba4_701ce71031efrow4_col3\" class=\"data row4 col3\" >11600</td> \n",
       "        <td id=\"T_8958c9a2_e58e_11e9_8ba4_701ce71031efrow4_col4\" class=\"data row4 col4\" >27500</td> \n",
       "        <td id=\"T_8958c9a2_e58e_11e9_8ba4_701ce71031efrow4_col5\" class=\"data row4 col5\" >16</td> \n",
       "        <td id=\"T_8958c9a2_e58e_11e9_8ba4_701ce71031efrow4_col6\" class=\"data row4 col6\" >0.11%</td> \n",
       "    </tr>    <tr> \n",
       "        <td id=\"T_8958c9a2_e58e_11e9_8ba4_701ce71031efrow5_col0\" class=\"data row5 col0\" >国企</td> \n",
       "        <td id=\"T_8958c9a2_e58e_11e9_8ba4_701ce71031efrow5_col1\" class=\"data row5 col1\" >14068</td> \n",
       "        <td id=\"T_8958c9a2_e58e_11e9_8ba4_701ce71031efrow5_col2\" class=\"data row5 col2\" >5298</td> \n",
       "        <td id=\"T_8958c9a2_e58e_11e9_8ba4_701ce71031efrow5_col3\" class=\"data row5 col3\" >12500</td> \n",
       "        <td id=\"T_8958c9a2_e58e_11e9_8ba4_701ce71031efrow5_col4\" class=\"data row5 col4\" >25000</td> \n",
       "        <td id=\"T_8958c9a2_e58e_11e9_8ba4_701ce71031efrow5_col5\" class=\"data row5 col5\" >869</td> \n",
       "        <td id=\"T_8958c9a2_e58e_11e9_8ba4_701ce71031efrow5_col6\" class=\"data row5 col6\" >5.72%</td> \n",
       "    </tr>    <tr> \n",
       "        <td id=\"T_8958c9a2_e58e_11e9_8ba4_701ce71031efrow6_col0\" class=\"data row6 col0\" >事业单位</td> \n",
       "        <td id=\"T_8958c9a2_e58e_11e9_8ba4_701ce71031efrow6_col1\" class=\"data row6 col1\" >12471</td> \n",
       "        <td id=\"T_8958c9a2_e58e_11e9_8ba4_701ce71031efrow6_col2\" class=\"data row6 col2\" >8000</td> \n",
       "        <td id=\"T_8958c9a2_e58e_11e9_8ba4_701ce71031efrow6_col3\" class=\"data row6 col3\" >12500</td> \n",
       "        <td id=\"T_8958c9a2_e58e_11e9_8ba4_701ce71031efrow6_col4\" class=\"data row6 col4\" >17500</td> \n",
       "        <td id=\"T_8958c9a2_e58e_11e9_8ba4_701ce71031efrow6_col5\" class=\"data row6 col5\" >20</td> \n",
       "        <td id=\"T_8958c9a2_e58e_11e9_8ba4_701ce71031efrow6_col6\" class=\"data row6 col6\" >0.13%</td> \n",
       "    </tr></tbody> \n",
       "</table> "
      ],
      "text/plain": [
       "<pandas.io.formats.style.Styler at 0x1a364003588>"
      ]
     },
     "execution_count": 46,
     "metadata": {},
     "output_type": "execute_result"
    }
   ],
   "source": [
    "data_company_type=get_sub_stats_by_col(data,'company_type')\n",
    "apply_style(data_company_type)"
   ]
  },
  {
   "cell_type": "markdown",
   "metadata": {},
   "source": [
    "us_eu是欧美外企，startup是创业公司，listed是上市公司，state是国企，private是私企，foreign是非欧美外企，其他不足1000个样本的不管了。"
   ]
  },
  {
   "cell_type": "markdown",
   "metadata": {},
   "source": [
    "## 公司规模 Company Size"
   ]
  },
  {
   "cell_type": "code",
   "execution_count": 47,
   "metadata": {},
   "outputs": [
    {
     "data": {
      "text/html": [
       "<style  type=\"text/css\" >\n",
       "</style>  \n",
       "<table id=\"T_896091d8_e58e_11e9_93e2_701ce71031ef\" > \n",
       "<thead>    <tr> \n",
       "        <th class=\"col_heading level0 col0\" >company_size</th> \n",
       "        <th class=\"col_heading level0 col1\" >salary_mean</th> \n",
       "        <th class=\"col_heading level0 col2\" >salary_95_min</th> \n",
       "        <th class=\"col_heading level0 col3\" >salary_median</th> \n",
       "        <th class=\"col_heading level0 col4\" >salary_95_max</th> \n",
       "        <th class=\"col_heading level0 col5\" >head_count</th> \n",
       "        <th class=\"col_heading level0 col6\" >percentage</th> \n",
       "    </tr></thead> \n",
       "<tbody>    <tr> \n",
       "        <td id=\"T_896091d8_e58e_11e9_93e2_701ce71031efrow0_col0\" class=\"data row0 col0\" >10000+</td> \n",
       "        <td id=\"T_896091d8_e58e_11e9_93e2_701ce71031efrow0_col1\" class=\"data row0 col1\" >26345</td> \n",
       "        <td id=\"T_896091d8_e58e_11e9_93e2_701ce71031efrow0_col2\" class=\"data row0 col2\" >4500</td> \n",
       "        <td id=\"T_896091d8_e58e_11e9_93e2_701ce71031efrow0_col3\" class=\"data row0 col3\" >30000</td> \n",
       "        <td id=\"T_896091d8_e58e_11e9_93e2_701ce71031efrow0_col4\" class=\"data row0 col4\" >52500</td> \n",
       "        <td id=\"T_896091d8_e58e_11e9_93e2_701ce71031efrow0_col5\" class=\"data row0 col5\" >2468</td> \n",
       "        <td id=\"T_896091d8_e58e_11e9_93e2_701ce71031efrow0_col6\" class=\"data row0 col6\" >16.26%</td> \n",
       "    </tr>    <tr> \n",
       "        <td id=\"T_896091d8_e58e_11e9_93e2_701ce71031efrow1_col0\" class=\"data row1 col0\" >5000-10000</td> \n",
       "        <td id=\"T_896091d8_e58e_11e9_93e2_701ce71031efrow1_col1\" class=\"data row1 col1\" >20248</td> \n",
       "        <td id=\"T_896091d8_e58e_11e9_93e2_701ce71031efrow1_col2\" class=\"data row1 col2\" >9000</td> \n",
       "        <td id=\"T_896091d8_e58e_11e9_93e2_701ce71031efrow1_col3\" class=\"data row1 col3\" >20000</td> \n",
       "        <td id=\"T_896091d8_e58e_11e9_93e2_701ce71031efrow1_col4\" class=\"data row1 col4\" >45000</td> \n",
       "        <td id=\"T_896091d8_e58e_11e9_93e2_701ce71031efrow1_col5\" class=\"data row1 col5\" >399</td> \n",
       "        <td id=\"T_896091d8_e58e_11e9_93e2_701ce71031efrow1_col6\" class=\"data row1 col6\" >2.63%</td> \n",
       "    </tr>    <tr> \n",
       "        <td id=\"T_896091d8_e58e_11e9_93e2_701ce71031efrow2_col0\" class=\"data row2 col0\" >1000-5000</td> \n",
       "        <td id=\"T_896091d8_e58e_11e9_93e2_701ce71031efrow2_col1\" class=\"data row2 col1\" >17603</td> \n",
       "        <td id=\"T_896091d8_e58e_11e9_93e2_701ce71031efrow2_col2\" class=\"data row2 col2\" >5250</td> \n",
       "        <td id=\"T_896091d8_e58e_11e9_93e2_701ce71031efrow2_col3\" class=\"data row2 col3\" >15000</td> \n",
       "        <td id=\"T_896091d8_e58e_11e9_93e2_701ce71031efrow2_col4\" class=\"data row2 col4\" >42833</td> \n",
       "        <td id=\"T_896091d8_e58e_11e9_93e2_701ce71031efrow2_col5\" class=\"data row2 col5\" >1412</td> \n",
       "        <td id=\"T_896091d8_e58e_11e9_93e2_701ce71031efrow2_col6\" class=\"data row2 col6\" >9.30%</td> \n",
       "    </tr>    <tr> \n",
       "        <td id=\"T_896091d8_e58e_11e9_93e2_701ce71031efrow3_col0\" class=\"data row3 col0\" >150-500</td> \n",
       "        <td id=\"T_896091d8_e58e_11e9_93e2_701ce71031efrow3_col1\" class=\"data row3 col1\" >16887</td> \n",
       "        <td id=\"T_896091d8_e58e_11e9_93e2_701ce71031efrow3_col2\" class=\"data row3 col2\" >6250</td> \n",
       "        <td id=\"T_896091d8_e58e_11e9_93e2_701ce71031efrow3_col3\" class=\"data row3 col3\" >15000</td> \n",
       "        <td id=\"T_896091d8_e58e_11e9_93e2_701ce71031efrow3_col4\" class=\"data row3 col4\" >35000</td> \n",
       "        <td id=\"T_896091d8_e58e_11e9_93e2_701ce71031efrow3_col5\" class=\"data row3 col5\" >3028</td> \n",
       "        <td id=\"T_896091d8_e58e_11e9_93e2_701ce71031efrow3_col6\" class=\"data row3 col6\" >19.94%</td> \n",
       "    </tr>    <tr> \n",
       "        <td id=\"T_896091d8_e58e_11e9_93e2_701ce71031efrow4_col0\" class=\"data row4 col0\" >500-1000</td> \n",
       "        <td id=\"T_896091d8_e58e_11e9_93e2_701ce71031efrow4_col1\" class=\"data row4 col1\" >16029</td> \n",
       "        <td id=\"T_896091d8_e58e_11e9_93e2_701ce71031efrow4_col2\" class=\"data row4 col2\" >5250</td> \n",
       "        <td id=\"T_896091d8_e58e_11e9_93e2_701ce71031efrow4_col3\" class=\"data row4 col3\" >15000</td> \n",
       "        <td id=\"T_896091d8_e58e_11e9_93e2_701ce71031efrow4_col4\" class=\"data row4 col4\" >34133</td> \n",
       "        <td id=\"T_896091d8_e58e_11e9_93e2_701ce71031efrow4_col5\" class=\"data row4 col5\" >962</td> \n",
       "        <td id=\"T_896091d8_e58e_11e9_93e2_701ce71031efrow4_col6\" class=\"data row4 col6\" >6.34%</td> \n",
       "    </tr>    <tr> \n",
       "        <td id=\"T_896091d8_e58e_11e9_93e2_701ce71031efrow5_col0\" class=\"data row5 col0\" >50-150</td> \n",
       "        <td id=\"T_896091d8_e58e_11e9_93e2_701ce71031efrow5_col1\" class=\"data row5 col1\" >15390</td> \n",
       "        <td id=\"T_896091d8_e58e_11e9_93e2_701ce71031efrow5_col2\" class=\"data row5 col2\" >5250</td> \n",
       "        <td id=\"T_896091d8_e58e_11e9_93e2_701ce71031efrow5_col3\" class=\"data row5 col3\" >15000</td> \n",
       "        <td id=\"T_896091d8_e58e_11e9_93e2_701ce71031efrow5_col4\" class=\"data row5 col4\" >30000</td> \n",
       "        <td id=\"T_896091d8_e58e_11e9_93e2_701ce71031efrow5_col5\" class=\"data row5 col5\" >4281</td> \n",
       "        <td id=\"T_896091d8_e58e_11e9_93e2_701ce71031efrow5_col6\" class=\"data row5 col6\" >28.20%</td> \n",
       "    </tr>    <tr> \n",
       "        <td id=\"T_896091d8_e58e_11e9_93e2_701ce71031efrow6_col0\" class=\"data row6 col0\" >50-</td> \n",
       "        <td id=\"T_896091d8_e58e_11e9_93e2_701ce71031efrow6_col1\" class=\"data row6 col1\" >13371</td> \n",
       "        <td id=\"T_896091d8_e58e_11e9_93e2_701ce71031efrow6_col2\" class=\"data row6 col2\" >2500</td> \n",
       "        <td id=\"T_896091d8_e58e_11e9_93e2_701ce71031efrow6_col3\" class=\"data row6 col3\" >12500</td> \n",
       "        <td id=\"T_896091d8_e58e_11e9_93e2_701ce71031efrow6_col4\" class=\"data row6 col4\" >33625</td> \n",
       "        <td id=\"T_896091d8_e58e_11e9_93e2_701ce71031efrow6_col5\" class=\"data row6 col5\" >2006</td> \n",
       "        <td id=\"T_896091d8_e58e_11e9_93e2_701ce71031efrow6_col6\" class=\"data row6 col6\" >13.21%</td> \n",
       "    </tr>    <tr> \n",
       "        <td id=\"T_896091d8_e58e_11e9_93e2_701ce71031efrow7_col0\" class=\"data row7 col0\" ></td> \n",
       "        <td id=\"T_896091d8_e58e_11e9_93e2_701ce71031efrow7_col1\" class=\"data row7 col1\" >12682</td> \n",
       "        <td id=\"T_896091d8_e58e_11e9_93e2_701ce71031efrow7_col2\" class=\"data row7 col2\" >4779</td> \n",
       "        <td id=\"T_896091d8_e58e_11e9_93e2_701ce71031efrow7_col3\" class=\"data row7 col3\" >12500</td> \n",
       "        <td id=\"T_896091d8_e58e_11e9_93e2_701ce71031efrow7_col4\" class=\"data row7 col4\" >22500</td> \n",
       "        <td id=\"T_896091d8_e58e_11e9_93e2_701ce71031efrow7_col5\" class=\"data row7 col5\" >627</td> \n",
       "        <td id=\"T_896091d8_e58e_11e9_93e2_701ce71031efrow7_col6\" class=\"data row7 col6\" >4.13%</td> \n",
       "    </tr></tbody> \n",
       "</table> "
      ],
      "text/plain": [
       "<pandas.io.formats.style.Styler at 0x1a3640c7668>"
      ]
     },
     "execution_count": 47,
     "metadata": {},
     "output_type": "execute_result"
    }
   ],
   "source": [
    "data_company_size=get_sub_stats_by_col(data,'company_size')\n",
    "apply_style(data_company_size)"
   ]
  },
  {
   "cell_type": "markdown",
   "metadata": {},
   "source": [
    "公司越大，工资越高"
   ]
  },
  {
   "cell_type": "markdown",
   "metadata": {},
   "source": [
    "## 行业 Industry"
   ]
  },
  {
   "cell_type": "code",
   "execution_count": 48,
   "metadata": {},
   "outputs": [
    {
     "data": {
      "text/html": [
       "<style  type=\"text/css\" >\n",
       "</style>  \n",
       "<table id=\"T_8966ac3e_e58e_11e9_9c44_701ce71031ef\" > \n",
       "<thead>    <tr> \n",
       "        <th class=\"col_heading level0 col0\" >industry</th> \n",
       "        <th class=\"col_heading level0 col1\" >salary_mean</th> \n",
       "        <th class=\"col_heading level0 col2\" >salary_95_min</th> \n",
       "        <th class=\"col_heading level0 col3\" >salary_median</th> \n",
       "        <th class=\"col_heading level0 col4\" >salary_95_max</th> \n",
       "        <th class=\"col_heading level0 col5\" >head_count</th> \n",
       "        <th class=\"col_heading level0 col6\" >percentage</th> \n",
       "    </tr></thead> \n",
       "<tbody>    <tr> \n",
       "        <td id=\"T_8966ac3e_e58e_11e9_9c44_701ce71031efrow0_col0\" class=\"data row0 col0\" >computer</td> \n",
       "        <td id=\"T_8966ac3e_e58e_11e9_9c44_701ce71031efrow0_col1\" class=\"data row0 col1\" >18077</td> \n",
       "        <td id=\"T_8966ac3e_e58e_11e9_9c44_701ce71031efrow0_col2\" class=\"data row0 col2\" >4500</td> \n",
       "        <td id=\"T_8966ac3e_e58e_11e9_9c44_701ce71031efrow0_col3\" class=\"data row0 col3\" >15000</td> \n",
       "        <td id=\"T_8966ac3e_e58e_11e9_9c44_701ce71031efrow0_col4\" class=\"data row0 col4\" >45000</td> \n",
       "        <td id=\"T_8966ac3e_e58e_11e9_9c44_701ce71031efrow0_col5\" class=\"data row0 col5\" >12131</td> \n",
       "        <td id=\"T_8966ac3e_e58e_11e9_9c44_701ce71031efrow0_col6\" class=\"data row0 col6\" >79.90%</td> \n",
       "    </tr>    <tr> \n",
       "        <td id=\"T_8966ac3e_e58e_11e9_9c44_701ce71031efrow1_col0\" class=\"data row1 col0\" >finance</td> \n",
       "        <td id=\"T_8966ac3e_e58e_11e9_9c44_701ce71031efrow1_col1\" class=\"data row1 col1\" >17496</td> \n",
       "        <td id=\"T_8966ac3e_e58e_11e9_9c44_701ce71031efrow1_col2\" class=\"data row1 col2\" >5458</td> \n",
       "        <td id=\"T_8966ac3e_e58e_11e9_9c44_701ce71031efrow1_col3\" class=\"data row1 col3\" >15000</td> \n",
       "        <td id=\"T_8966ac3e_e58e_11e9_9c44_701ce71031efrow1_col4\" class=\"data row1 col4\" >38750</td> \n",
       "        <td id=\"T_8966ac3e_e58e_11e9_9c44_701ce71031efrow1_col5\" class=\"data row1 col5\" >360</td> \n",
       "        <td id=\"T_8966ac3e_e58e_11e9_9c44_701ce71031efrow1_col6\" class=\"data row1 col6\" >2.37%</td> \n",
       "    </tr>    <tr> \n",
       "        <td id=\"T_8966ac3e_e58e_11e9_9c44_701ce71031efrow2_col0\" class=\"data row2 col0\" >edu</td> \n",
       "        <td id=\"T_8966ac3e_e58e_11e9_9c44_701ce71031efrow2_col1\" class=\"data row2 col1\" >15717</td> \n",
       "        <td id=\"T_8966ac3e_e58e_11e9_9c44_701ce71031efrow2_col2\" class=\"data row2 col2\" >7000</td> \n",
       "        <td id=\"T_8966ac3e_e58e_11e9_9c44_701ce71031efrow2_col3\" class=\"data row2 col3\" >13667</td> \n",
       "        <td id=\"T_8966ac3e_e58e_11e9_9c44_701ce71031efrow2_col4\" class=\"data row2 col4\" >35161</td> \n",
       "        <td id=\"T_8966ac3e_e58e_11e9_9c44_701ce71031efrow2_col5\" class=\"data row2 col5\" >951</td> \n",
       "        <td id=\"T_8966ac3e_e58e_11e9_9c44_701ce71031efrow2_col6\" class=\"data row2 col6\" >6.26%</td> \n",
       "    </tr>    <tr> \n",
       "        <td id=\"T_8966ac3e_e58e_11e9_9c44_701ce71031efrow3_col0\" class=\"data row3 col0\" >gov</td> \n",
       "        <td id=\"T_8966ac3e_e58e_11e9_9c44_701ce71031efrow3_col1\" class=\"data row3 col1\" >15252</td> \n",
       "        <td id=\"T_8966ac3e_e58e_11e9_9c44_701ce71031efrow3_col2\" class=\"data row3 col2\" >5806</td> \n",
       "        <td id=\"T_8966ac3e_e58e_11e9_9c44_701ce71031efrow3_col3\" class=\"data row3 col3\" >12500</td> \n",
       "        <td id=\"T_8966ac3e_e58e_11e9_9c44_701ce71031efrow3_col4\" class=\"data row3 col4\" >34437</td> \n",
       "        <td id=\"T_8966ac3e_e58e_11e9_9c44_701ce71031efrow3_col5\" class=\"data row3 col5\" >109</td> \n",
       "        <td id=\"T_8966ac3e_e58e_11e9_9c44_701ce71031efrow3_col6\" class=\"data row3 col6\" >0.72%</td> \n",
       "    </tr>    <tr> \n",
       "        <td id=\"T_8966ac3e_e58e_11e9_9c44_701ce71031efrow4_col0\" class=\"data row4 col0\" >trade</td> \n",
       "        <td id=\"T_8966ac3e_e58e_11e9_9c44_701ce71031efrow4_col1\" class=\"data row4 col1\" >14700</td> \n",
       "        <td id=\"T_8966ac3e_e58e_11e9_9c44_701ce71031efrow4_col2\" class=\"data row4 col2\" >6500</td> \n",
       "        <td id=\"T_8966ac3e_e58e_11e9_9c44_701ce71031efrow4_col3\" class=\"data row4 col3\" >12500</td> \n",
       "        <td id=\"T_8966ac3e_e58e_11e9_9c44_701ce71031efrow4_col4\" class=\"data row4 col4\" >31375</td> \n",
       "        <td id=\"T_8966ac3e_e58e_11e9_9c44_701ce71031efrow4_col5\" class=\"data row4 col5\" >674</td> \n",
       "        <td id=\"T_8966ac3e_e58e_11e9_9c44_701ce71031efrow4_col6\" class=\"data row4 col6\" >4.44%</td> \n",
       "    </tr>    <tr> \n",
       "        <td id=\"T_8966ac3e_e58e_11e9_9c44_701ce71031efrow5_col0\" class=\"data row5 col0\" >ads</td> \n",
       "        <td id=\"T_8966ac3e_e58e_11e9_9c44_701ce71031efrow5_col1\" class=\"data row5 col1\" >14582</td> \n",
       "        <td id=\"T_8966ac3e_e58e_11e9_9c44_701ce71031efrow5_col2\" class=\"data row5 col2\" >5250</td> \n",
       "        <td id=\"T_8966ac3e_e58e_11e9_9c44_701ce71031efrow5_col3\" class=\"data row5 col3\" >12450</td> \n",
       "        <td id=\"T_8966ac3e_e58e_11e9_9c44_701ce71031efrow5_col4\" class=\"data row5 col4\" >34375</td> \n",
       "        <td id=\"T_8966ac3e_e58e_11e9_9c44_701ce71031efrow5_col5\" class=\"data row5 col5\" >190</td> \n",
       "        <td id=\"T_8966ac3e_e58e_11e9_9c44_701ce71031efrow5_col6\" class=\"data row5 col6\" >1.25%</td> \n",
       "    </tr>    <tr> \n",
       "        <td id=\"T_8966ac3e_e58e_11e9_9c44_701ce71031efrow6_col0\" class=\"data row6 col0\" >logistic</td> \n",
       "        <td id=\"T_8966ac3e_e58e_11e9_9c44_701ce71031efrow6_col1\" class=\"data row6 col1\" >14069</td> \n",
       "        <td id=\"T_8966ac3e_e58e_11e9_9c44_701ce71031efrow6_col2\" class=\"data row6 col2\" >5388</td> \n",
       "        <td id=\"T_8966ac3e_e58e_11e9_9c44_701ce71031efrow6_col3\" class=\"data row6 col3\" >12500</td> \n",
       "        <td id=\"T_8966ac3e_e58e_11e9_9c44_701ce71031efrow6_col4\" class=\"data row6 col4\" >21467</td> \n",
       "        <td id=\"T_8966ac3e_e58e_11e9_9c44_701ce71031efrow6_col5\" class=\"data row6 col5\" >144</td> \n",
       "        <td id=\"T_8966ac3e_e58e_11e9_9c44_701ce71031efrow6_col6\" class=\"data row6 col6\" >0.95%</td> \n",
       "    </tr>    <tr> \n",
       "        <td id=\"T_8966ac3e_e58e_11e9_9c44_701ce71031efrow7_col0\" class=\"data row7 col0\" >service</td> \n",
       "        <td id=\"T_8966ac3e_e58e_11e9_9c44_701ce71031efrow7_col1\" class=\"data row7 col1\" >14020</td> \n",
       "        <td id=\"T_8966ac3e_e58e_11e9_9c44_701ce71031efrow7_col2\" class=\"data row7 col2\" >7000</td> \n",
       "        <td id=\"T_8966ac3e_e58e_11e9_9c44_701ce71031efrow7_col3\" class=\"data row7 col3\" >12500</td> \n",
       "        <td id=\"T_8966ac3e_e58e_11e9_9c44_701ce71031efrow7_col4\" class=\"data row7 col4\" >27583</td> \n",
       "        <td id=\"T_8966ac3e_e58e_11e9_9c44_701ce71031efrow7_col5\" class=\"data row7 col5\" >136</td> \n",
       "        <td id=\"T_8966ac3e_e58e_11e9_9c44_701ce71031efrow7_col6\" class=\"data row7 col6\" >0.90%</td> \n",
       "    </tr>    <tr> \n",
       "        <td id=\"T_8966ac3e_e58e_11e9_9c44_701ce71031efrow8_col0\" class=\"data row8 col0\" >realestate</td> \n",
       "        <td id=\"T_8966ac3e_e58e_11e9_9c44_701ce71031efrow8_col1\" class=\"data row8 col1\" >13886</td> \n",
       "        <td id=\"T_8966ac3e_e58e_11e9_9c44_701ce71031efrow8_col2\" class=\"data row8 col2\" >6250</td> \n",
       "        <td id=\"T_8966ac3e_e58e_11e9_9c44_701ce71031efrow8_col3\" class=\"data row8 col3\" >12500</td> \n",
       "        <td id=\"T_8966ac3e_e58e_11e9_9c44_701ce71031efrow8_col4\" class=\"data row8 col4\" >22500</td> \n",
       "        <td id=\"T_8966ac3e_e58e_11e9_9c44_701ce71031efrow8_col5\" class=\"data row8 col5\" >190</td> \n",
       "        <td id=\"T_8966ac3e_e58e_11e9_9c44_701ce71031efrow8_col6\" class=\"data row8 col6\" >1.25%</td> \n",
       "    </tr>    <tr> \n",
       "        <td id=\"T_8966ac3e_e58e_11e9_9c44_701ce71031efrow9_col0\" class=\"data row9 col0\" >medical</td> \n",
       "        <td id=\"T_8966ac3e_e58e_11e9_9c44_701ce71031efrow9_col1\" class=\"data row9 col1\" >12830</td> \n",
       "        <td id=\"T_8966ac3e_e58e_11e9_9c44_701ce71031efrow9_col2\" class=\"data row9 col2\" >2500</td> \n",
       "        <td id=\"T_8966ac3e_e58e_11e9_9c44_701ce71031efrow9_col3\" class=\"data row9 col3\" >12500</td> \n",
       "        <td id=\"T_8966ac3e_e58e_11e9_9c44_701ce71031efrow9_col4\" class=\"data row9 col4\" >23425</td> \n",
       "        <td id=\"T_8966ac3e_e58e_11e9_9c44_701ce71031efrow9_col5\" class=\"data row9 col5\" >183</td> \n",
       "        <td id=\"T_8966ac3e_e58e_11e9_9c44_701ce71031efrow9_col6\" class=\"data row9 col6\" >1.21%</td> \n",
       "    </tr>    <tr> \n",
       "        <td id=\"T_8966ac3e_e58e_11e9_9c44_701ce71031efrow10_col0\" class=\"data row10 col0\" >energy</td> \n",
       "        <td id=\"T_8966ac3e_e58e_11e9_9c44_701ce71031efrow10_col1\" class=\"data row10 col1\" >11874</td> \n",
       "        <td id=\"T_8966ac3e_e58e_11e9_9c44_701ce71031efrow10_col2\" class=\"data row10 col2\" >5010</td> \n",
       "        <td id=\"T_8966ac3e_e58e_11e9_9c44_701ce71031efrow10_col3\" class=\"data row10 col3\" >11500</td> \n",
       "        <td id=\"T_8966ac3e_e58e_11e9_9c44_701ce71031efrow10_col4\" class=\"data row10 col4\" >24732</td> \n",
       "        <td id=\"T_8966ac3e_e58e_11e9_9c44_701ce71031efrow10_col5\" class=\"data row10 col5\" >115</td> \n",
       "        <td id=\"T_8966ac3e_e58e_11e9_9c44_701ce71031efrow10_col6\" class=\"data row10 col6\" >0.76%</td> \n",
       "    </tr></tbody> \n",
       "</table> "
      ],
      "text/plain": [
       "<pandas.io.formats.style.Styler at 0x1a363ff5128>"
      ]
     },
     "execution_count": 48,
     "metadata": {},
     "output_type": "execute_result"
    }
   ],
   "source": [
    "data_industry=get_sub_stats_by_col(data,'industry')\n",
    "apply_style(data_industry)"
   ]
  },
  {
   "cell_type": "code",
   "execution_count": null,
   "metadata": {},
   "outputs": [],
   "source": []
  },
  {
   "cell_type": "code",
   "execution_count": null,
   "metadata": {},
   "outputs": [],
   "source": []
  }
 ],
 "metadata": {
  "kernelspec": {
   "display_name": "Python 3",
   "language": "python",
   "name": "python3"
  },
  "language_info": {
   "codemirror_mode": {
    "name": "ipython",
    "version": 3
   },
   "file_extension": ".py",
   "mimetype": "text/x-python",
   "name": "python",
   "nbconvert_exporter": "python",
   "pygments_lexer": "ipython3",
   "version": "3.7.1"
  }
 },
 "nbformat": 4,
 "nbformat_minor": 2
}
