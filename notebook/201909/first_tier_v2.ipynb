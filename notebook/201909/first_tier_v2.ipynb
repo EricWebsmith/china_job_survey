{
 "cells": [
  {
   "cell_type": "code",
   "execution_count": 1,
   "metadata": {},
   "outputs": [],
   "source": [
    "year=2019\n",
    "month=9"
   ]
  },
  {
   "cell_type": "markdown",
   "metadata": {},
   "source": [
    "# Developer Salary in First-Tier Cities 程序员工资调查\n",
    "我在4月1日到3日之间，抓取了某招聘网站的软件和互联网类招聘数据40万条，其中通过程序判断为程序员的14万条。地域方面，我选择了24个主要城市。不过本文只以一线城市为研究对象。这样是为了和我2017年6月的数据做对比。\n",
    "\n",
    "提到2017年的文章，现在居然还有很多人，把这篇文章拿出来炒作。对于社会来说，可气的是，他们直接把2017改成2019，就发表了，这不是骗人么？！对于我来说，可气的是，他们转载居然还冒充是原创，是可忍熟不可忍！"
   ]
  },
  {
   "cell_type": "code",
   "execution_count": 2,
   "metadata": {},
   "outputs": [],
   "source": [
    "import pandas as pd\n",
    "import sys\n",
    "sys.path.append('..')\n",
    "sys.path.append('../py')\n",
    "sys.path.append('../../py')\n",
    "import db\n",
    "import inspect\n",
    "import matplotlib.pyplot as plt\n",
    "plt.rcParams['font.sans-serif']=['SimHei'] #用来正常显示中文标签\n",
    "plt.rcParams['axes.unicode_minus']=False #用来正常显示负号\n",
    "import seaborn as sns\n",
    "import scipy.stats as stats\n",
    "import numpy as np\n",
    "import weighted\n",
    "%matplotlib inline"
   ]
  },
  {
   "cell_type": "code",
   "execution_count": 3,
   "metadata": {},
   "outputs": [],
   "source": [
    "conn=db.get_conn()\n",
    "data_original=pd.read_sql(sql=f\"select * from _{year}{month:02} where monthly_salary>0 and monthly_salary<80000 and city in ('北京','上海','广州','深圳')  and monthly_salary<80000 and YEAR(publish_date)={year} and MONTH(publish_date)={month}  \", con=conn)\n",
    "conn.close()"
   ]
  },
  {
   "cell_type": "code",
   "execution_count": 4,
   "metadata": {},
   "outputs": [],
   "source": [
    "error_job_ids=['104660258','104142922','108434795','101357291','106253516','110368302','111391233','108665401','109277048'\n",
    "                  ,'73857191','108584955','102824950','102824949','111391233','110884556']\n",
    "data=data_original[~data_original.job_id.isin(error_job_ids)]"
   ]
  },
  {
   "cell_type": "code",
   "execution_count": 5,
   "metadata": {},
   "outputs": [],
   "source": [
    "#del data['publish_date']\n",
    "#del data['published_on_weekend']\n",
    "#del data['title']\n",
    "#del data['title']\n",
    "#del data['company_title']\n",
    "#del data['company_description']\n",
    "#del data['job_description']\n",
    "#del data['job_id']"
   ]
  },
  {
   "cell_type": "code",
   "execution_count": 6,
   "metadata": {},
   "outputs": [
    {
     "data": {
      "text/html": [
       "<div>\n",
       "<style scoped>\n",
       "    .dataframe tbody tr th:only-of-type {\n",
       "        vertical-align: middle;\n",
       "    }\n",
       "\n",
       "    .dataframe tbody tr th {\n",
       "        vertical-align: top;\n",
       "    }\n",
       "\n",
       "    .dataframe thead th {\n",
       "        text-align: right;\n",
       "    }\n",
       "</style>\n",
       "<table border=\"1\" class=\"dataframe\">\n",
       "  <thead>\n",
       "    <tr style=\"text-align: right;\">\n",
       "      <th></th>\n",
       "      <th>job_id</th>\n",
       "      <th>monthly_salary</th>\n",
       "      <th>headcount</th>\n",
       "      <th>title</th>\n",
       "      <th>zhinengleibie</th>\n",
       "      <th>career</th>\n",
       "      <th>real_province</th>\n",
       "      <th>province</th>\n",
       "      <th>city</th>\n",
       "      <th>company_description</th>\n",
       "      <th>...</th>\n",
       "      <th>pl_visual_basic</th>\n",
       "      <th>publish_date</th>\n",
       "      <th>published_on_weekend</th>\n",
       "      <th>tag_baby_care</th>\n",
       "      <th>tag_five_insurance</th>\n",
       "      <th>tag_flexible</th>\n",
       "      <th>tag_no_overtime</th>\n",
       "      <th>tag_rest_one_day</th>\n",
       "      <th>tag_rest_two_days</th>\n",
       "      <th>tag_stock</th>\n",
       "    </tr>\n",
       "  </thead>\n",
       "  <tbody>\n",
       "    <tr>\n",
       "      <th>5920</th>\n",
       "      <td>114568087</td>\n",
       "      <td>3750</td>\n",
       "      <td>151</td>\n",
       "      <td>C#软件开发</td>\n",
       "      <td>软件工程师</td>\n",
       "      <td>一般程序员</td>\n",
       "      <td>None</td>\n",
       "      <td>北京</td>\n",
       "      <td>北京</td>\n",
       "      <td>北京其然科技有限公司，名字源于，顺 其其自 然然，主旨顺其自然、水到渠成。北京其然科技有限公...</td>\n",
       "      <td>...</td>\n",
       "      <td>False</td>\n",
       "      <td>2019-09-02</td>\n",
       "      <td>False</td>\n",
       "      <td>False</td>\n",
       "      <td>False</td>\n",
       "      <td>False</td>\n",
       "      <td>False</td>\n",
       "      <td>False</td>\n",
       "      <td>False</td>\n",
       "      <td>False</td>\n",
       "    </tr>\n",
       "    <tr>\n",
       "      <th>1853</th>\n",
       "      <td>108834444</td>\n",
       "      <td>15000</td>\n",
       "      <td>150</td>\n",
       "      <td>Java开发工程师</td>\n",
       "      <td>软件工程师</td>\n",
       "      <td>一般程序员</td>\n",
       "      <td>None</td>\n",
       "      <td>北京</td>\n",
       "      <td>北京</td>\n",
       "      <td>大连华信计算机技术股份有限公司（简称大连华信）是一家面向全球客户提供领先的应用软件产品、信息...</td>\n",
       "      <td>...</td>\n",
       "      <td>False</td>\n",
       "      <td>2019-09-02</td>\n",
       "      <td>False</td>\n",
       "      <td>False</td>\n",
       "      <td>True</td>\n",
       "      <td>False</td>\n",
       "      <td>False</td>\n",
       "      <td>False</td>\n",
       "      <td>False</td>\n",
       "      <td>False</td>\n",
       "    </tr>\n",
       "    <tr>\n",
       "      <th>5834</th>\n",
       "      <td>114489048</td>\n",
       "      <td>14000</td>\n",
       "      <td>80</td>\n",
       "      <td>开发工程师</td>\n",
       "      <td>软件工程师</td>\n",
       "      <td>一般程序员</td>\n",
       "      <td>None</td>\n",
       "      <td>北京</td>\n",
       "      <td>北京</td>\n",
       "      <td>长城计算机软件与系统有限公司（简称长城软件）是中国电子信息产业集团有限公司（简称中国电子）计...</td>\n",
       "      <td>...</td>\n",
       "      <td>False</td>\n",
       "      <td>2019-09-02</td>\n",
       "      <td>False</td>\n",
       "      <td>False</td>\n",
       "      <td>True</td>\n",
       "      <td>True</td>\n",
       "      <td>False</td>\n",
       "      <td>False</td>\n",
       "      <td>False</td>\n",
       "      <td>False</td>\n",
       "    </tr>\n",
       "    <tr>\n",
       "      <th>8857</th>\n",
       "      <td>50929897</td>\n",
       "      <td>14000</td>\n",
       "      <td>50</td>\n",
       "      <td>软件开发工程师（java）-初级、中级、高级</td>\n",
       "      <td>高级软件工程师</td>\n",
       "      <td>一般程序员</td>\n",
       "      <td>None</td>\n",
       "      <td>广东</td>\n",
       "      <td>深圳</td>\n",
       "      <td>深圳市康拓普信息技术有限公司（shenzhen comtop information tec...</td>\n",
       "      <td>...</td>\n",
       "      <td>False</td>\n",
       "      <td>2019-09-02</td>\n",
       "      <td>False</td>\n",
       "      <td>False</td>\n",
       "      <td>False</td>\n",
       "      <td>False</td>\n",
       "      <td>False</td>\n",
       "      <td>False</td>\n",
       "      <td>False</td>\n",
       "      <td>False</td>\n",
       "    </tr>\n",
       "    <tr>\n",
       "      <th>3201</th>\n",
       "      <td>111277959</td>\n",
       "      <td>12500</td>\n",
       "      <td>30</td>\n",
       "      <td>中级JAVA工程师BS方向</td>\n",
       "      <td>软件工程师</td>\n",
       "      <td>一般程序员</td>\n",
       "      <td>None</td>\n",
       "      <td>北京</td>\n",
       "      <td>北京</td>\n",
       "      <td>北京华宇泰聚科技有限公司介绍    北京华宇泰聚科技有限公司成立于2013年3月，注册资金5...</td>\n",
       "      <td>...</td>\n",
       "      <td>False</td>\n",
       "      <td>2019-09-02</td>\n",
       "      <td>False</td>\n",
       "      <td>False</td>\n",
       "      <td>True</td>\n",
       "      <td>False</td>\n",
       "      <td>False</td>\n",
       "      <td>False</td>\n",
       "      <td>False</td>\n",
       "      <td>False</td>\n",
       "    </tr>\n",
       "  </tbody>\n",
       "</table>\n",
       "<p>5 rows × 94 columns</p>\n",
       "</div>"
      ],
      "text/plain": [
       "         job_id  monthly_salary  headcount                   title  \\\n",
       "5920  114568087            3750        151                  C#软件开发   \n",
       "1853  108834444           15000        150               Java开发工程师   \n",
       "5834  114489048           14000         80                   开发工程师   \n",
       "8857   50929897           14000         50  软件开发工程师（java）-初级、中级、高级   \n",
       "3201  111277959           12500         30           中级JAVA工程师BS方向   \n",
       "\n",
       "     zhinengleibie career real_province province city  \\\n",
       "5920         软件工程师  一般程序员          None       北京   北京   \n",
       "1853         软件工程师  一般程序员          None       北京   北京   \n",
       "5834         软件工程师  一般程序员          None       北京   北京   \n",
       "8857       高级软件工程师  一般程序员          None       广东   深圳   \n",
       "3201         软件工程师  一般程序员          None       北京   北京   \n",
       "\n",
       "                                    company_description    ...      \\\n",
       "5920  北京其然科技有限公司，名字源于，顺 其其自 然然，主旨顺其自然、水到渠成。北京其然科技有限公...    ...       \n",
       "1853  大连华信计算机技术股份有限公司（简称大连华信）是一家面向全球客户提供领先的应用软件产品、信息...    ...       \n",
       "5834  长城计算机软件与系统有限公司（简称长城软件）是中国电子信息产业集团有限公司（简称中国电子）计...    ...       \n",
       "8857  深圳市康拓普信息技术有限公司（shenzhen comtop information tec...    ...       \n",
       "3201  北京华宇泰聚科技有限公司介绍    北京华宇泰聚科技有限公司成立于2013年3月，注册资金5...    ...       \n",
       "\n",
       "     pl_visual_basic publish_date published_on_weekend tag_baby_care  \\\n",
       "5920           False   2019-09-02                False         False   \n",
       "1853           False   2019-09-02                False         False   \n",
       "5834           False   2019-09-02                False         False   \n",
       "8857           False   2019-09-02                False         False   \n",
       "3201           False   2019-09-02                False         False   \n",
       "\n",
       "      tag_five_insurance  tag_flexible  tag_no_overtime  tag_rest_one_day  \\\n",
       "5920               False         False            False             False   \n",
       "1853                True         False            False             False   \n",
       "5834                True          True            False             False   \n",
       "8857               False         False            False             False   \n",
       "3201                True         False            False             False   \n",
       "\n",
       "      tag_rest_two_days  tag_stock  \n",
       "5920              False      False  \n",
       "1853              False      False  \n",
       "5834              False      False  \n",
       "8857              False      False  \n",
       "3201              False      False  \n",
       "\n",
       "[5 rows x 94 columns]"
      ]
     },
     "execution_count": 6,
     "metadata": {},
     "output_type": "execute_result"
    }
   ],
   "source": [
    "data=data.sort_values(by='headcount', ascending=False)\n",
    "data.head()"
   ]
  },
  {
   "cell_type": "code",
   "execution_count": 7,
   "metadata": {},
   "outputs": [],
   "source": [
    "def pd_weighted_mean(group, avg_name, weight_name):\n",
    "    \"\"\" http://stackoverflow.com/questions/10951341/pandas-dataframe-aggregate-function-using-multiple-columns\n",
    "    In rare instance, we may not have weights, so just return the mean. Customize this if your business case\n",
    "    should return otherwise.\n",
    "    \"\"\"\n",
    "    d = group[avg_name]\n",
    "    w = group[weight_name]\n",
    "    try:\n",
    "        return (d * w).sum() / w.sum()\n",
    "    except ZeroDivisionError:\n",
    "        return d.mean()\n"
   ]
  },
  {
   "cell_type": "markdown",
   "metadata": {},
   "source": [
    "# Unilateral Stats 总体统计"
   ]
  },
  {
   "cell_type": "markdown",
   "metadata": {},
   "source": [
    "有数据可知，程序员向一线城市集中的趋势非常明显。\n",
    "\n",
    "According to the statistics, significant amount of developers are in the first tier cities."
   ]
  },
  {
   "cell_type": "code",
   "execution_count": 8,
   "metadata": {},
   "outputs": [
    {
     "data": {
      "text/plain": [
       "(10622, 94)"
      ]
     },
     "execution_count": 8,
     "metadata": {},
     "output_type": "execute_result"
    }
   ],
   "source": [
    "data.shape"
   ]
  },
  {
   "cell_type": "code",
   "execution_count": 9,
   "metadata": {},
   "outputs": [
    {
     "data": {
      "text/plain": [
       "34000"
      ]
     },
     "execution_count": 9,
     "metadata": {},
     "output_type": "execute_result"
    }
   ],
   "source": [
    "data.headcount.sum()"
   ]
  },
  {
   "cell_type": "code",
   "execution_count": 10,
   "metadata": {},
   "outputs": [
    {
     "data": {
      "text/plain": [
       "array([ 5785., 12000., 15000., 20000., 35000.])"
      ]
     },
     "execution_count": 10,
     "metadata": {},
     "output_type": "execute_result"
    }
   ],
   "source": [
    "salary_mean=weighted.weighted_mean(data.monthly_salary.values, data.headcount.values)\n",
    "q=weighted.weighted_quantile(data.monthly_salary.values,[0.025,0.25,0.5,0.75,0.975], data.headcount.values)\n",
    "q"
   ]
  },
  {
   "cell_type": "code",
   "execution_count": 11,
   "metadata": {},
   "outputs": [
    {
     "name": "stdout",
     "output_type": "stream",
     "text": [
      "2019年9月中国一线城市程序员的平均工资为16376元，工资中位数为15000元，其中95%的人的工资位于5785到35000元之间。\n"
     ]
    }
   ],
   "source": [
    "print(f'{year}年{month}月中国一线城市程序员的平均工资为{salary_mean:.0f}元，工资中位数为{q[2]:.0f}元，其中95%的人的工资位于{q[0]:.0f}到{q[4]:.0f}元之间。')"
   ]
  },
  {
   "cell_type": "code",
   "execution_count": 12,
   "metadata": {},
   "outputs": [
    {
     "name": "stdout",
     "output_type": "stream",
     "text": [
      "In 2019, Developers in China earn 16376 Yuan as average, the median is 15000 Yuan, 95% of them earn between 5785 and 35000 Yuan.\n"
     ]
    }
   ],
   "source": [
    "print(f'In {year}, Developers in China earn {salary_mean:.0f} Yuan as average, '\n",
    "      f'the median is {q[2]:.0f} Yuan, 95% of them earn between {q[0]:.0f} and {q[4]:.0f} Yuan.')"
   ]
  },
  {
   "cell_type": "code",
   "execution_count": 13,
   "metadata": {},
   "outputs": [
    {
     "data": {
      "text/plain": [
       "<matplotlib.axes._subplots.AxesSubplot at 0x20c8b2910b8>"
      ]
     },
     "execution_count": 13,
     "metadata": {},
     "output_type": "execute_result"
    },
    {
     "data": {
      "image/png": "[encoded data removed]",
      "text/plain": [
       "<Figure size 432x288 with 1 Axes>"
      ]
     },
     "metadata": {
      "needs_background": "light"
     },
     "output_type": "display_data"
    }
   ],
   "source": [
    "data.monthly_salary.hist()"
   ]
  },
  {
   "cell_type": "markdown",
   "metadata": {},
   "source": [
    "It does not look like normal distribution."
   ]
  },
  {
   "cell_type": "code",
   "execution_count": 14,
   "metadata": {},
   "outputs": [],
   "source": [
    "from scipy import stats"
   ]
  },
  {
   "cell_type": "code",
   "execution_count": 15,
   "metadata": {},
   "outputs": [
    {
     "data": {
      "text/plain": [
       "NormaltestResult(statistic=3364.8825997516997, pvalue=0.0)"
      ]
     },
     "execution_count": 15,
     "metadata": {},
     "output_type": "execute_result"
    }
   ],
   "source": [
    "stats.normaltest(data.monthly_salary)"
   ]
  },
  {
   "cell_type": "markdown",
   "metadata": {},
   "source": [
    "null hypothesis: x comes from a normal distribution\n",
    "    \n",
    "p=0\n",
    "\n",
    "The null hypothesis can be rejected\n",
    "\n",
    "conclusion: data is not normally distributed."
   ]
  },
  {
   "cell_type": "markdown",
   "metadata": {},
   "source": [
    "Zoom in"
   ]
  },
  {
   "cell_type": "code",
   "execution_count": 16,
   "metadata": {},
   "outputs": [
    {
     "data": {
      "image/png": "[encoded data removed]",
      "text/plain": [
       "<Figure size 432x288 with 1 Axes>"
      ]
     },
     "metadata": {
      "needs_background": "light"
     },
     "output_type": "display_data"
    }
   ],
   "source": [
    "data[data.monthly_salary<40000].monthly_salary.hist()\n",
    "plt.annotate('https://github.com/juwikuang/job_survey', xy=(0,0), xytext=(2000, 100), color='white')\n",
    "plt.show()"
   ]
  },
  {
   "cell_type": "markdown",
   "metadata": {},
   "source": [
    "## Role 角色"
   ]
  },
  {
   "cell_type": "code",
   "execution_count": 17,
   "metadata": {},
   "outputs": [],
   "source": [
    "#Common Functions\n",
    "def get_sub_stats_by_col(data, col):\n",
    "    categories=data[col].unique()\n",
    "    salary_mean=[]\n",
    "    salary_95_min=[]\n",
    "    salary_95_max=[]\n",
    "    salary_median=[]\n",
    "    \n",
    "\n",
    "    count=[]\n",
    "    \n",
    "    categorys_out=[]\n",
    "    for category in categories:\n",
    "        #print(feature)\n",
    "        idata=data[data[col]==category]\n",
    "        headcount=idata.headcount.sum()\n",
    "        values = idata.monthly_salary.values\n",
    "        weights = idata.headcount.values\n",
    "        #print(str(headcount))\n",
    "        if headcount==0:\n",
    "            continue\n",
    "        \n",
    "        salary_mean.append(np.average(values, weights=weights))\n",
    "        \n",
    "\n",
    "        q = weighted.weighted_quantile(values,[0.025,0.5,0.975],weights)\n",
    "        salary_95_min.append(q[0])\n",
    "        salary_median.append(q[1])\n",
    "        salary_95_max.append(q[2])\n",
    "        count.append(idata.headcount.sum())\n",
    "        categorys_out.append(category)\n",
    "    sub_data=pd.DataFrame()\n",
    "    sub_data[col]=[c for c in categorys_out]\n",
    "    sub_data['salary_mean']=salary_mean\n",
    "    sub_data['salary_95_min']=salary_95_min\n",
    "    sub_data['salary_median']=salary_median\n",
    "    sub_data['salary_95_max']=salary_95_max\n",
    "    sub_data['head_count']=count\n",
    "    sub_data['percentage']=count/np.sum(count)\n",
    "    sub_data=sub_data.sort_values(by='salary_mean', ascending=False)\n",
    "\n",
    "    return sub_data\n",
    "\n",
    "def get_sub_stats_by_prefix(data, prefix):\n",
    "    \n",
    "    features = [feature for feature in data.columns if feature.startswith(prefix)]\n",
    "    salary_mean=[]\n",
    "    salary_median=[]\n",
    "    salary_95_min=[]\n",
    "    salary_95_max=[]\n",
    "    count=[]\n",
    "    \n",
    "    features_out=[]\n",
    "    for feature in features:\n",
    "        #print(feature)\n",
    "        idata=data[data[feature]==1]\n",
    "        headcount=idata.headcount.sum()\n",
    "        values = idata.monthly_salary.values\n",
    "        weights = idata.headcount.values\n",
    "        #print(str(headcount))\n",
    "        if headcount==0:\n",
    "            continue\n",
    "        \n",
    "        salary_mean.append(weighted.weighted_mean(values, weights))\n",
    "        q = weighted.weighted_quantile(values,[0.025,0.5,0.975],weights)\n",
    "        salary_median.append(q[1])\n",
    "        salary_95_min.append(q[0])\n",
    "        salary_95_max.append(q[2])\n",
    "        count.append(idata.headcount.sum())\n",
    "        features_out.append(feature)\n",
    "    sub_data=pd.DataFrame()\n",
    "    sub_data['rank']=range(0,len(features_out))\n",
    "    sub_data[prefix]=[f.replace(prefix,'') for f in features_out]\n",
    "    sub_data['salary_mean']=salary_mean\n",
    "    sub_data['salary_median']=salary_median\n",
    "    sub_data['salary_95_min']=salary_95_min\n",
    "    sub_data['salary_95_max']=salary_95_max\n",
    "    sub_data['head_count']=count\n",
    "    sub_data['percentage']=count/np.sum(count)\n",
    "    sub_data=sub_data.sort_values(by='salary_mean', ascending=False)\n",
    "    sub_data['rank']=range(1,len(features_out)+1)\n",
    "    #sub_data=sub_data.reset_index()\n",
    "    return sub_data\n",
    "\n",
    "def apply_style(sub_data):\n",
    "    return sub_data.style.hide_index().format(\n",
    "    {\"salary_mean\":\"{:.0f}\",\"salary_median\":\"{:.0f}\",\"salary_95_min\":\"{:.0f}\",\"salary_95_max\":\"{:.0f}\",\"percentage\":\"{:.2%}\"})"
   ]
  },
  {
   "cell_type": "code",
   "execution_count": 18,
   "metadata": {},
   "outputs": [
    {
     "data": {
      "text/html": [
       "<style  type=\"text/css\" >\n",
       "</style>  \n",
       "<table id=\"T_da76432e_ce68_11e9_a8b8_701ce71031ef\" > \n",
       "<thead>    <tr> \n",
       "        <th class=\"blank level0\" ></th> \n",
       "        <th class=\"col_heading level0 col0\" >career</th> \n",
       "        <th class=\"col_heading level0 col1\" >salary_mean</th> \n",
       "        <th class=\"col_heading level0 col2\" >salary_95_min</th> \n",
       "        <th class=\"col_heading level0 col3\" >salary_median</th> \n",
       "        <th class=\"col_heading level0 col4\" >salary_95_max</th> \n",
       "        <th class=\"col_heading level0 col5\" >head_count</th> \n",
       "        <th class=\"col_heading level0 col6\" >percentage</th> \n",
       "    </tr></thead> \n",
       "<tbody>    <tr> \n",
       "        <th id=\"T_da76432e_ce68_11e9_a8b8_701ce71031eflevel0_row0\" class=\"row_heading level0 row0\" >2</th> \n",
       "        <td id=\"T_da76432e_ce68_11e9_a8b8_701ce71031efrow0_col0\" class=\"data row0 col0\" >系统架构师</td> \n",
       "        <td id=\"T_da76432e_ce68_11e9_a8b8_701ce71031efrow0_col1\" class=\"data row0 col1\" >24695</td> \n",
       "        <td id=\"T_da76432e_ce68_11e9_a8b8_701ce71031efrow0_col2\" class=\"data row0 col2\" >11496.4</td> \n",
       "        <td id=\"T_da76432e_ce68_11e9_a8b8_701ce71031efrow0_col3\" class=\"data row0 col3\" >22500</td> \n",
       "        <td id=\"T_da76432e_ce68_11e9_a8b8_701ce71031efrow0_col4\" class=\"data row0 col4\" >50000</td> \n",
       "        <td id=\"T_da76432e_ce68_11e9_a8b8_701ce71031efrow0_col5\" class=\"data row0 col5\" >859</td> \n",
       "        <td id=\"T_da76432e_ce68_11e9_a8b8_701ce71031efrow0_col6\" class=\"data row0 col6\" >2.53%</td> \n",
       "    </tr>    <tr> \n",
       "        <th id=\"T_da76432e_ce68_11e9_a8b8_701ce71031eflevel0_row1\" class=\"row_heading level0 row1\" >1</th> \n",
       "        <td id=\"T_da76432e_ce68_11e9_a8b8_701ce71031efrow1_col0\" class=\"data row1 col0\" >算法工程师</td> \n",
       "        <td id=\"T_da76432e_ce68_11e9_a8b8_701ce71031efrow1_col1\" class=\"data row1 col1\" >22214</td> \n",
       "        <td id=\"T_da76432e_ce68_11e9_a8b8_701ce71031efrow1_col2\" class=\"data row1 col2\" >7000</td> \n",
       "        <td id=\"T_da76432e_ce68_11e9_a8b8_701ce71031efrow1_col3\" class=\"data row1 col3\" >20000</td> \n",
       "        <td id=\"T_da76432e_ce68_11e9_a8b8_701ce71031efrow1_col4\" class=\"data row1 col4\" >50000</td> \n",
       "        <td id=\"T_da76432e_ce68_11e9_a8b8_701ce71031efrow1_col5\" class=\"data row1 col5\" >1931</td> \n",
       "        <td id=\"T_da76432e_ce68_11e9_a8b8_701ce71031efrow1_col6\" class=\"data row1 col6\" >5.68%</td> \n",
       "    </tr>    <tr> \n",
       "        <th id=\"T_da76432e_ce68_11e9_a8b8_701ce71031eflevel0_row2\" class=\"row_heading level0 row2\" >0</th> \n",
       "        <td id=\"T_da76432e_ce68_11e9_a8b8_701ce71031efrow2_col0\" class=\"data row2 col0\" >一般程序员</td> \n",
       "        <td id=\"T_da76432e_ce68_11e9_a8b8_701ce71031efrow2_col1\" class=\"data row2 col1\" >15789</td> \n",
       "        <td id=\"T_da76432e_ce68_11e9_a8b8_701ce71031efrow2_col2\" class=\"data row2 col2\" >5500</td> \n",
       "        <td id=\"T_da76432e_ce68_11e9_a8b8_701ce71031efrow2_col3\" class=\"data row2 col3\" >15000</td> \n",
       "        <td id=\"T_da76432e_ce68_11e9_a8b8_701ce71031efrow2_col4\" class=\"data row2 col4\" >31250</td> \n",
       "        <td id=\"T_da76432e_ce68_11e9_a8b8_701ce71031efrow2_col5\" class=\"data row2 col5\" >31154</td> \n",
       "        <td id=\"T_da76432e_ce68_11e9_a8b8_701ce71031efrow2_col6\" class=\"data row2 col6\" >91.63%</td> \n",
       "    </tr>    <tr> \n",
       "        <th id=\"T_da76432e_ce68_11e9_a8b8_701ce71031eflevel0_row3\" class=\"row_heading level0 row3\" >3</th> \n",
       "        <td id=\"T_da76432e_ce68_11e9_a8b8_701ce71031efrow3_col0\" class=\"data row3 col0\" >爬虫工程师</td> \n",
       "        <td id=\"T_da76432e_ce68_11e9_a8b8_701ce71031efrow3_col1\" class=\"data row3 col1\" >14039</td> \n",
       "        <td id=\"T_da76432e_ce68_11e9_a8b8_701ce71031efrow3_col2\" class=\"data row3 col2\" >2403.12</td> \n",
       "        <td id=\"T_da76432e_ce68_11e9_a8b8_701ce71031efrow3_col3\" class=\"data row3 col3\" >12500</td> \n",
       "        <td id=\"T_da76432e_ce68_11e9_a8b8_701ce71031efrow3_col4\" class=\"data row3 col4\" >32708.3</td> \n",
       "        <td id=\"T_da76432e_ce68_11e9_a8b8_701ce71031efrow3_col5\" class=\"data row3 col5\" >51</td> \n",
       "        <td id=\"T_da76432e_ce68_11e9_a8b8_701ce71031efrow3_col6\" class=\"data row3 col6\" >0.15%</td> \n",
       "    </tr>    <tr> \n",
       "        <th id=\"T_da76432e_ce68_11e9_a8b8_701ce71031eflevel0_row4\" class=\"row_heading level0 row4\" >4</th> \n",
       "        <td id=\"T_da76432e_ce68_11e9_a8b8_701ce71031efrow4_col0\" class=\"data row4 col0\" >生物信息工程师</td> \n",
       "        <td id=\"T_da76432e_ce68_11e9_a8b8_701ce71031efrow4_col1\" class=\"data row4 col1\" >14000</td> \n",
       "        <td id=\"T_da76432e_ce68_11e9_a8b8_701ce71031efrow4_col2\" class=\"data row4 col2\" >14000</td> \n",
       "        <td id=\"T_da76432e_ce68_11e9_a8b8_701ce71031efrow4_col3\" class=\"data row4 col3\" >14000</td> \n",
       "        <td id=\"T_da76432e_ce68_11e9_a8b8_701ce71031efrow4_col4\" class=\"data row4 col4\" >14000</td> \n",
       "        <td id=\"T_da76432e_ce68_11e9_a8b8_701ce71031efrow4_col5\" class=\"data row4 col5\" >5</td> \n",
       "        <td id=\"T_da76432e_ce68_11e9_a8b8_701ce71031efrow4_col6\" class=\"data row4 col6\" >0.01%</td> \n",
       "    </tr></tbody> \n",
       "</table> "
      ],
      "text/plain": [
       "<pandas.io.formats.style.Styler at 0x20c8af1a438>"
      ]
     },
     "execution_count": 18,
     "metadata": {},
     "output_type": "execute_result"
    }
   ],
   "source": [
    "data_career = get_sub_stats_by_col(data,'career')\n",
    "data_career.style.format({\"salary_mean\":\"{:.0f}\",\"salary_median\":\"{:.0f}\",\"percentage\":\"{:.2%}\"})"
   ]
  },
  {
   "cell_type": "code",
   "execution_count": 19,
   "metadata": {},
   "outputs": [
    {
     "data": {
      "text/plain": [
       "16376.404264705883"
      ]
     },
     "execution_count": 19,
     "metadata": {},
     "output_type": "execute_result"
    }
   ],
   "source": [
    "np.sum(data.monthly_salary * data.headcount) / data.headcount.sum()"
   ]
  },
  {
   "cell_type": "code",
   "execution_count": 20,
   "metadata": {},
   "outputs": [
    {
     "data": {
      "text/plain": [
       "34000"
      ]
     },
     "execution_count": 20,
     "metadata": {},
     "output_type": "execute_result"
    }
   ],
   "source": [
    "data.headcount.sum()"
   ]
  },
  {
   "cell_type": "code",
   "execution_count": 21,
   "metadata": {},
   "outputs": [
    {
     "data": {
      "text/plain": [
       "count    10622.000000\n",
       "mean         3.200904\n",
       "std          3.472019\n",
       "min          1.000000\n",
       "25%          1.000000\n",
       "50%          2.000000\n",
       "75%          5.000000\n",
       "max        151.000000\n",
       "Name: headcount, dtype: float64"
      ]
     },
     "execution_count": 21,
     "metadata": {},
     "output_type": "execute_result"
    }
   ],
   "source": [
    "data.headcount.describe()"
   ]
  },
  {
   "cell_type": "code",
   "execution_count": 22,
   "metadata": {},
   "outputs": [
    {
     "data": {
      "text/html": [
       "<div>\n",
       "<style scoped>\n",
       "    .dataframe tbody tr th:only-of-type {\n",
       "        vertical-align: middle;\n",
       "    }\n",
       "\n",
       "    .dataframe tbody tr th {\n",
       "        vertical-align: top;\n",
       "    }\n",
       "\n",
       "    .dataframe thead th {\n",
       "        text-align: right;\n",
       "    }\n",
       "</style>\n",
       "<table border=\"1\" class=\"dataframe\">\n",
       "  <thead>\n",
       "    <tr style=\"text-align: right;\">\n",
       "      <th></th>\n",
       "      <th>job_id</th>\n",
       "      <th>monthly_salary</th>\n",
       "      <th>headcount</th>\n",
       "      <th>title</th>\n",
       "      <th>zhinengleibie</th>\n",
       "      <th>career</th>\n",
       "      <th>real_province</th>\n",
       "      <th>province</th>\n",
       "      <th>city</th>\n",
       "      <th>company_description</th>\n",
       "      <th>company_size</th>\n",
       "      <th>company_title</th>\n",
       "      <th>company_type</th>\n",
       "      <th>page_title</th>\n",
       "      <th>ageism</th>\n",
       "      <th>db_Apache_Hive</th>\n",
       "      <th>db_CouchBase</th>\n",
       "      <th>db_CouchDB</th>\n",
       "      <th>db_DB2</th>\n",
       "      <th>db_DynamoDB</th>\n",
       "      <th>db_Elasticsearch</th>\n",
       "      <th>db_FileMaker</th>\n",
       "      <th>db_Firebase</th>\n",
       "      <th>db_Firebird</th>\n",
       "      <th>db_Hbase</th>\n",
       "      <th>db_Informix</th>\n",
       "      <th>db_Ingres</th>\n",
       "      <th>db_MariaDB</th>\n",
       "      <th>db_Memcached</th>\n",
       "      <th>db_MongoDB</th>\n",
       "      <th>db_MySQL</th>\n",
       "      <th>db_Neo4j</th>\n",
       "      <th>db_Netezza</th>\n",
       "      <th>db_Oracle</th>\n",
       "      <th>db_PostgreSQL</th>\n",
       "      <th>db_Redis</th>\n",
       "      <th>db_Riak</th>\n",
       "      <th>db_SAP_HANA</th>\n",
       "      <th>db_SQL_Server</th>\n",
       "      <th>db_SQLite</th>\n",
       "      <th>db_Solr</th>\n",
       "      <th>db_Splunk</th>\n",
       "      <th>db_Sybase</th>\n",
       "      <th>db_Teradata</th>\n",
       "      <th>db_dBase</th>\n",
       "      <th>edu</th>\n",
       "      <th>english</th>\n",
       "      <th>experience</th>\n",
       "      <th>expert_adas</th>\n",
       "      <th>expert_blockchain</th>\n",
       "      <th>expert_embed</th>\n",
       "      <th>expert_expert</th>\n",
       "      <th>expert_gis</th>\n",
       "      <th>_996_yes</th>\n",
       "      <th>_996_no</th>\n",
       "      <th>industry</th>\n",
       "      <th>japanese</th>\n",
       "      <th>job_description</th>\n",
       "      <th>job_summary</th>\n",
       "      <th>job_tags</th>\n",
       "      <th>phone_android</th>\n",
       "      <th>phone_app</th>\n",
       "      <th>phone_iso</th>\n",
       "      <th>pl_c_sharp</th>\n",
       "      <th>pl_cpp</th>\n",
       "      <th>pl_delphi</th>\n",
       "      <th>pl_go</th>\n",
       "      <th>pl_haskell</th>\n",
       "      <th>pl_java</th>\n",
       "      <th>pl_javascript</th>\n",
       "      <th>pl_julia</th>\n",
       "      <th>pl_kotlin</th>\n",
       "      <th>pl_lua</th>\n",
       "      <th>pl_matlab</th>\n",
       "      <th>pl_objective_c</th>\n",
       "      <th>pl_perl</th>\n",
       "      <th>pl_php</th>\n",
       "      <th>pl_python</th>\n",
       "      <th>pl_ruby</th>\n",
       "      <th>pl_rust</th>\n",
       "      <th>pl_scrala</th>\n",
       "      <th>pl_swift</th>\n",
       "      <th>pl_typescript</th>\n",
       "      <th>pl_vba</th>\n",
       "      <th>pl_visual_basic</th>\n",
       "      <th>publish_date</th>\n",
       "      <th>published_on_weekend</th>\n",
       "      <th>tag_baby_care</th>\n",
       "      <th>tag_five_insurance</th>\n",
       "      <th>tag_flexible</th>\n",
       "      <th>tag_no_overtime</th>\n",
       "      <th>tag_rest_one_day</th>\n",
       "      <th>tag_rest_two_days</th>\n",
       "      <th>tag_stock</th>\n",
       "    </tr>\n",
       "  </thead>\n",
       "  <tbody>\n",
       "    <tr>\n",
       "      <th>5920</th>\n",
       "      <td>114568087</td>\n",
       "      <td>3750</td>\n",
       "      <td>151</td>\n",
       "      <td>C#软件开发</td>\n",
       "      <td>软件工程师</td>\n",
       "      <td>一般程序员</td>\n",
       "      <td>None</td>\n",
       "      <td>北京</td>\n",
       "      <td>北京</td>\n",
       "      <td>北京其然科技有限公司，名字源于，顺 其其自 然然，主旨顺其自然、水到渠成。北京其然科技有限公...</td>\n",
       "      <td>50-150</td>\n",
       "      <td>北京其然科技有限公司</td>\n",
       "      <td>民营公司</td>\n",
       "      <td>【北京-海淀区C#软件开发_C#软件开发招聘_北京其然科技有限公司】-前程无忧官方招聘网站</td>\n",
       "      <td>False</td>\n",
       "      <td>False</td>\n",
       "      <td>False</td>\n",
       "      <td>False</td>\n",
       "      <td>False</td>\n",
       "      <td>False</td>\n",
       "      <td>False</td>\n",
       "      <td>False</td>\n",
       "      <td>False</td>\n",
       "      <td>False</td>\n",
       "      <td>False</td>\n",
       "      <td>False</td>\n",
       "      <td>False</td>\n",
       "      <td>False</td>\n",
       "      <td>False</td>\n",
       "      <td>False</td>\n",
       "      <td>False</td>\n",
       "      <td>False</td>\n",
       "      <td>False</td>\n",
       "      <td>False</td>\n",
       "      <td>False</td>\n",
       "      <td>False</td>\n",
       "      <td>False</td>\n",
       "      <td>False</td>\n",
       "      <td>False</td>\n",
       "      <td>False</td>\n",
       "      <td>False</td>\n",
       "      <td>False</td>\n",
       "      <td>False</td>\n",
       "      <td>False</td>\n",
       "      <td>False</td>\n",
       "      <td>大专</td>\n",
       "      <td>False</td>\n",
       "      <td>no</td>\n",
       "      <td>False</td>\n",
       "      <td>False</td>\n",
       "      <td>False</td>\n",
       "      <td>False</td>\n",
       "      <td>False</td>\n",
       "      <td>False</td>\n",
       "      <td>False</td>\n",
       "      <td>computer</td>\n",
       "      <td>False</td>\n",
       "      <td>熟悉面向对象思想熟悉.Net架构体系精通C#开发语言熟悉WinFrom开发熟悉Asp.Net...</td>\n",
       "      <td>北京-海淀区|无工作经验|大专|招151人|09-02发布</td>\n",
       "      <td></td>\n",
       "      <td>False</td>\n",
       "      <td>False</td>\n",
       "      <td>False</td>\n",
       "      <td>True</td>\n",
       "      <td>False</td>\n",
       "      <td>False</td>\n",
       "      <td>False</td>\n",
       "      <td>False</td>\n",
       "      <td>False</td>\n",
       "      <td>True</td>\n",
       "      <td>False</td>\n",
       "      <td>False</td>\n",
       "      <td>False</td>\n",
       "      <td>False</td>\n",
       "      <td>False</td>\n",
       "      <td>False</td>\n",
       "      <td>False</td>\n",
       "      <td>False</td>\n",
       "      <td>False</td>\n",
       "      <td>False</td>\n",
       "      <td>False</td>\n",
       "      <td>False</td>\n",
       "      <td>False</td>\n",
       "      <td>False</td>\n",
       "      <td>False</td>\n",
       "      <td>2019-09-02</td>\n",
       "      <td>False</td>\n",
       "      <td>False</td>\n",
       "      <td>False</td>\n",
       "      <td>False</td>\n",
       "      <td>False</td>\n",
       "      <td>False</td>\n",
       "      <td>False</td>\n",
       "      <td>False</td>\n",
       "    </tr>\n",
       "    <tr>\n",
       "      <th>1853</th>\n",
       "      <td>108834444</td>\n",
       "      <td>15000</td>\n",
       "      <td>150</td>\n",
       "      <td>Java开发工程师</td>\n",
       "      <td>软件工程师</td>\n",
       "      <td>一般程序员</td>\n",
       "      <td>None</td>\n",
       "      <td>北京</td>\n",
       "      <td>北京</td>\n",
       "      <td>大连华信计算机技术股份有限公司（简称大连华信）是一家面向全球客户提供领先的应用软件产品、信息...</td>\n",
       "      <td>5000-10000</td>\n",
       "      <td>大连华信计算机技术股份有限公司</td>\n",
       "      <td>合资</td>\n",
       "      <td>【北京-朝阳区Java开发工程师_Java开发工程师招聘_大连华信计算机技术股份有限公司】-...</td>\n",
       "      <td>False</td>\n",
       "      <td>False</td>\n",
       "      <td>False</td>\n",
       "      <td>False</td>\n",
       "      <td>False</td>\n",
       "      <td>False</td>\n",
       "      <td>False</td>\n",
       "      <td>False</td>\n",
       "      <td>False</td>\n",
       "      <td>False</td>\n",
       "      <td>False</td>\n",
       "      <td>False</td>\n",
       "      <td>False</td>\n",
       "      <td>False</td>\n",
       "      <td>False</td>\n",
       "      <td>False</td>\n",
       "      <td>True</td>\n",
       "      <td>False</td>\n",
       "      <td>False</td>\n",
       "      <td>True</td>\n",
       "      <td>False</td>\n",
       "      <td>False</td>\n",
       "      <td>False</td>\n",
       "      <td>False</td>\n",
       "      <td>False</td>\n",
       "      <td>False</td>\n",
       "      <td>False</td>\n",
       "      <td>False</td>\n",
       "      <td>False</td>\n",
       "      <td>False</td>\n",
       "      <td>False</td>\n",
       "      <td>本科</td>\n",
       "      <td>False</td>\n",
       "      <td>5_10</td>\n",
       "      <td>False</td>\n",
       "      <td>False</td>\n",
       "      <td>False</td>\n",
       "      <td>False</td>\n",
       "      <td>False</td>\n",
       "      <td>False</td>\n",
       "      <td>False</td>\n",
       "      <td>computer</td>\n",
       "      <td>False</td>\n",
       "      <td>1、5年以上java开发工作经验。2、有丰富研发经验；深入理解SpringCloud、spr...</td>\n",
       "      <td>北京-朝阳区|5-7年经验|本科|招150人|09-02发布</td>\n",
       "      <td>五险一金,补充医疗保险,定期体检,年终奖金</td>\n",
       "      <td>False</td>\n",
       "      <td>False</td>\n",
       "      <td>False</td>\n",
       "      <td>False</td>\n",
       "      <td>False</td>\n",
       "      <td>False</td>\n",
       "      <td>True</td>\n",
       "      <td>False</td>\n",
       "      <td>True</td>\n",
       "      <td>False</td>\n",
       "      <td>False</td>\n",
       "      <td>False</td>\n",
       "      <td>False</td>\n",
       "      <td>False</td>\n",
       "      <td>False</td>\n",
       "      <td>False</td>\n",
       "      <td>False</td>\n",
       "      <td>True</td>\n",
       "      <td>False</td>\n",
       "      <td>False</td>\n",
       "      <td>False</td>\n",
       "      <td>False</td>\n",
       "      <td>False</td>\n",
       "      <td>False</td>\n",
       "      <td>False</td>\n",
       "      <td>2019-09-02</td>\n",
       "      <td>False</td>\n",
       "      <td>False</td>\n",
       "      <td>True</td>\n",
       "      <td>False</td>\n",
       "      <td>False</td>\n",
       "      <td>False</td>\n",
       "      <td>False</td>\n",
       "      <td>False</td>\n",
       "    </tr>\n",
       "    <tr>\n",
       "      <th>5834</th>\n",
       "      <td>114489048</td>\n",
       "      <td>14000</td>\n",
       "      <td>80</td>\n",
       "      <td>开发工程师</td>\n",
       "      <td>软件工程师</td>\n",
       "      <td>一般程序员</td>\n",
       "      <td>None</td>\n",
       "      <td>北京</td>\n",
       "      <td>北京</td>\n",
       "      <td>长城计算机软件与系统有限公司（简称长城软件）是中国电子信息产业集团有限公司（简称中国电子）计...</td>\n",
       "      <td>500-1000</td>\n",
       "      <td>长城计算机软件与系统有限公司</td>\n",
       "      <td>国企</td>\n",
       "      <td>【北京-海淀区开发工程师_开发工程师招聘_长城计算机软件与系统有限公司】-前程无忧官方招聘网站</td>\n",
       "      <td>False</td>\n",
       "      <td>False</td>\n",
       "      <td>False</td>\n",
       "      <td>False</td>\n",
       "      <td>False</td>\n",
       "      <td>False</td>\n",
       "      <td>False</td>\n",
       "      <td>False</td>\n",
       "      <td>False</td>\n",
       "      <td>False</td>\n",
       "      <td>False</td>\n",
       "      <td>False</td>\n",
       "      <td>False</td>\n",
       "      <td>False</td>\n",
       "      <td>False</td>\n",
       "      <td>False</td>\n",
       "      <td>True</td>\n",
       "      <td>False</td>\n",
       "      <td>False</td>\n",
       "      <td>False</td>\n",
       "      <td>False</td>\n",
       "      <td>False</td>\n",
       "      <td>False</td>\n",
       "      <td>False</td>\n",
       "      <td>False</td>\n",
       "      <td>False</td>\n",
       "      <td>False</td>\n",
       "      <td>False</td>\n",
       "      <td>False</td>\n",
       "      <td>False</td>\n",
       "      <td>False</td>\n",
       "      <td></td>\n",
       "      <td>False</td>\n",
       "      <td>3_5</td>\n",
       "      <td>False</td>\n",
       "      <td>False</td>\n",
       "      <td>False</td>\n",
       "      <td>False</td>\n",
       "      <td>False</td>\n",
       "      <td>False</td>\n",
       "      <td>False</td>\n",
       "      <td>computer</td>\n",
       "      <td>False</td>\n",
       "      <td>1、按系统设计完成功能模块的代码编写；2、编写模块详细设计文档，和相关技术资料；3、负责对开...</td>\n",
       "      <td>北京-海淀区|3-4年经验|招80人|09-02发布</td>\n",
       "      <td>五险一金,补充医疗保险,交通补贴,餐饮补贴,绩效奖金,年终奖金,弹性工作,定期体检</td>\n",
       "      <td>False</td>\n",
       "      <td>False</td>\n",
       "      <td>False</td>\n",
       "      <td>False</td>\n",
       "      <td>False</td>\n",
       "      <td>False</td>\n",
       "      <td>False</td>\n",
       "      <td>False</td>\n",
       "      <td>False</td>\n",
       "      <td>False</td>\n",
       "      <td>False</td>\n",
       "      <td>False</td>\n",
       "      <td>False</td>\n",
       "      <td>False</td>\n",
       "      <td>False</td>\n",
       "      <td>False</td>\n",
       "      <td>False</td>\n",
       "      <td>False</td>\n",
       "      <td>False</td>\n",
       "      <td>False</td>\n",
       "      <td>False</td>\n",
       "      <td>False</td>\n",
       "      <td>False</td>\n",
       "      <td>False</td>\n",
       "      <td>False</td>\n",
       "      <td>2019-09-02</td>\n",
       "      <td>False</td>\n",
       "      <td>False</td>\n",
       "      <td>True</td>\n",
       "      <td>True</td>\n",
       "      <td>False</td>\n",
       "      <td>False</td>\n",
       "      <td>False</td>\n",
       "      <td>False</td>\n",
       "    </tr>\n",
       "    <tr>\n",
       "      <th>8857</th>\n",
       "      <td>50929897</td>\n",
       "      <td>14000</td>\n",
       "      <td>50</td>\n",
       "      <td>软件开发工程师（java）-初级、中级、高级</td>\n",
       "      <td>高级软件工程师</td>\n",
       "      <td>一般程序员</td>\n",
       "      <td>None</td>\n",
       "      <td>广东</td>\n",
       "      <td>深圳</td>\n",
       "      <td>深圳市康拓普信息技术有限公司（shenzhen comtop information tec...</td>\n",
       "      <td>1000-5000</td>\n",
       "      <td>深圳市康拓普信息技术有限公司</td>\n",
       "      <td>国企</td>\n",
       "      <td>【深圳-南山区软件开发工程师（java）-初级、中级、高级_软件开发工程师（java）-初级...</td>\n",
       "      <td>False</td>\n",
       "      <td>False</td>\n",
       "      <td>False</td>\n",
       "      <td>False</td>\n",
       "      <td>False</td>\n",
       "      <td>False</td>\n",
       "      <td>False</td>\n",
       "      <td>False</td>\n",
       "      <td>False</td>\n",
       "      <td>False</td>\n",
       "      <td>False</td>\n",
       "      <td>False</td>\n",
       "      <td>False</td>\n",
       "      <td>False</td>\n",
       "      <td>False</td>\n",
       "      <td>False</td>\n",
       "      <td>False</td>\n",
       "      <td>False</td>\n",
       "      <td>False</td>\n",
       "      <td>True</td>\n",
       "      <td>False</td>\n",
       "      <td>False</td>\n",
       "      <td>False</td>\n",
       "      <td>False</td>\n",
       "      <td>False</td>\n",
       "      <td>False</td>\n",
       "      <td>False</td>\n",
       "      <td>False</td>\n",
       "      <td>False</td>\n",
       "      <td>False</td>\n",
       "      <td>False</td>\n",
       "      <td>本科</td>\n",
       "      <td>False</td>\n",
       "      <td>3_5</td>\n",
       "      <td>False</td>\n",
       "      <td>False</td>\n",
       "      <td>False</td>\n",
       "      <td>False</td>\n",
       "      <td>False</td>\n",
       "      <td>False</td>\n",
       "      <td>False</td>\n",
       "      <td>computer</td>\n",
       "      <td>False</td>\n",
       "      <td>1、本科及以上学历，计算机、软件工程及相关专业；2、两年及以上软件开发经验，有系统分析设计的...</td>\n",
       "      <td>深圳-南山区|3-4年经验|本科|招50人|09-02发布</td>\n",
       "      <td></td>\n",
       "      <td>False</td>\n",
       "      <td>False</td>\n",
       "      <td>False</td>\n",
       "      <td>False</td>\n",
       "      <td>False</td>\n",
       "      <td>False</td>\n",
       "      <td>False</td>\n",
       "      <td>False</td>\n",
       "      <td>True</td>\n",
       "      <td>False</td>\n",
       "      <td>False</td>\n",
       "      <td>False</td>\n",
       "      <td>False</td>\n",
       "      <td>False</td>\n",
       "      <td>False</td>\n",
       "      <td>False</td>\n",
       "      <td>False</td>\n",
       "      <td>False</td>\n",
       "      <td>False</td>\n",
       "      <td>False</td>\n",
       "      <td>False</td>\n",
       "      <td>False</td>\n",
       "      <td>False</td>\n",
       "      <td>False</td>\n",
       "      <td>False</td>\n",
       "      <td>2019-09-02</td>\n",
       "      <td>False</td>\n",
       "      <td>False</td>\n",
       "      <td>False</td>\n",
       "      <td>False</td>\n",
       "      <td>False</td>\n",
       "      <td>False</td>\n",
       "      <td>False</td>\n",
       "      <td>False</td>\n",
       "    </tr>\n",
       "    <tr>\n",
       "      <th>4312</th>\n",
       "      <td>112867835</td>\n",
       "      <td>18000</td>\n",
       "      <td>30</td>\n",
       "      <td>Java开发工程师（赴百度车联网）</td>\n",
       "      <td>软件工程师</td>\n",
       "      <td>一般程序员</td>\n",
       "      <td>None</td>\n",
       "      <td>北京</td>\n",
       "      <td>北京</td>\n",
       "      <td>上海微创软件股份有限公司已经成为软件生态链全覆盖的跨国公司。2002年，由美国微软公司和上海...</td>\n",
       "      <td>5000-10000</td>\n",
       "      <td>上海微创软件股份有限公司</td>\n",
       "      <td>合资</td>\n",
       "      <td>【北京Java开发工程师（赴百度车联网）_Java开发工程师（赴百度车联网）招聘_上海微创软...</td>\n",
       "      <td>False</td>\n",
       "      <td>False</td>\n",
       "      <td>False</td>\n",
       "      <td>False</td>\n",
       "      <td>False</td>\n",
       "      <td>False</td>\n",
       "      <td>False</td>\n",
       "      <td>False</td>\n",
       "      <td>False</td>\n",
       "      <td>False</td>\n",
       "      <td>False</td>\n",
       "      <td>False</td>\n",
       "      <td>False</td>\n",
       "      <td>False</td>\n",
       "      <td>False</td>\n",
       "      <td>False</td>\n",
       "      <td>True</td>\n",
       "      <td>False</td>\n",
       "      <td>False</td>\n",
       "      <td>False</td>\n",
       "      <td>False</td>\n",
       "      <td>True</td>\n",
       "      <td>False</td>\n",
       "      <td>False</td>\n",
       "      <td>False</td>\n",
       "      <td>False</td>\n",
       "      <td>False</td>\n",
       "      <td>False</td>\n",
       "      <td>False</td>\n",
       "      <td>False</td>\n",
       "      <td>False</td>\n",
       "      <td>本科</td>\n",
       "      <td>False</td>\n",
       "      <td>3_5</td>\n",
       "      <td>False</td>\n",
       "      <td>False</td>\n",
       "      <td>False</td>\n",
       "      <td>False</td>\n",
       "      <td>False</td>\n",
       "      <td>False</td>\n",
       "      <td>False</td>\n",
       "      <td>computer</td>\n",
       "      <td>False</td>\n",
       "      <td>职责描述：负责智慧交通应用平台、数据服务接口对接的研发工作配合产品、设计等其他角色,为业务提...</td>\n",
       "      <td>北京|3-4年经验|本科|招30人|09-02发布</td>\n",
       "      <td>五险一金,补充医疗保险,免费班车,弹性工作,定期体检,绩效奖金,年终奖金,专业培训,员工旅游...</td>\n",
       "      <td>False</td>\n",
       "      <td>False</td>\n",
       "      <td>False</td>\n",
       "      <td>False</td>\n",
       "      <td>False</td>\n",
       "      <td>False</td>\n",
       "      <td>False</td>\n",
       "      <td>False</td>\n",
       "      <td>True</td>\n",
       "      <td>False</td>\n",
       "      <td>False</td>\n",
       "      <td>False</td>\n",
       "      <td>False</td>\n",
       "      <td>False</td>\n",
       "      <td>False</td>\n",
       "      <td>False</td>\n",
       "      <td>False</td>\n",
       "      <td>False</td>\n",
       "      <td>False</td>\n",
       "      <td>False</td>\n",
       "      <td>False</td>\n",
       "      <td>False</td>\n",
       "      <td>False</td>\n",
       "      <td>False</td>\n",
       "      <td>False</td>\n",
       "      <td>2019-09-02</td>\n",
       "      <td>False</td>\n",
       "      <td>False</td>\n",
       "      <td>True</td>\n",
       "      <td>True</td>\n",
       "      <td>False</td>\n",
       "      <td>False</td>\n",
       "      <td>False</td>\n",
       "      <td>False</td>\n",
       "    </tr>\n",
       "  </tbody>\n",
       "</table>\n",
       "</div>"
      ],
      "text/plain": [
       "         job_id  monthly_salary  headcount                   title  \\\n",
       "5920  114568087            3750        151                  C#软件开发   \n",
       "1853  108834444           15000        150               Java开发工程师   \n",
       "5834  114489048           14000         80                   开发工程师   \n",
       "8857   50929897           14000         50  软件开发工程师（java）-初级、中级、高级   \n",
       "4312  112867835           18000         30       Java开发工程师（赴百度车联网）   \n",
       "\n",
       "     zhinengleibie career real_province province city  \\\n",
       "5920         软件工程师  一般程序员          None       北京   北京   \n",
       "1853         软件工程师  一般程序员          None       北京   北京   \n",
       "5834         软件工程师  一般程序员          None       北京   北京   \n",
       "8857       高级软件工程师  一般程序员          None       广东   深圳   \n",
       "4312         软件工程师  一般程序员          None       北京   北京   \n",
       "\n",
       "                                    company_description company_size  \\\n",
       "5920  北京其然科技有限公司，名字源于，顺 其其自 然然，主旨顺其自然、水到渠成。北京其然科技有限公...       50-150   \n",
       "1853  大连华信计算机技术股份有限公司（简称大连华信）是一家面向全球客户提供领先的应用软件产品、信息...   5000-10000   \n",
       "5834  长城计算机软件与系统有限公司（简称长城软件）是中国电子信息产业集团有限公司（简称中国电子）计...     500-1000   \n",
       "8857  深圳市康拓普信息技术有限公司（shenzhen comtop information tec...    1000-5000   \n",
       "4312  上海微创软件股份有限公司已经成为软件生态链全覆盖的跨国公司。2002年，由美国微软公司和上海...   5000-10000   \n",
       "\n",
       "        company_title company_type  \\\n",
       "5920       北京其然科技有限公司         民营公司   \n",
       "1853  大连华信计算机技术股份有限公司           合资   \n",
       "5834   长城计算机软件与系统有限公司           国企   \n",
       "8857   深圳市康拓普信息技术有限公司           国企   \n",
       "4312     上海微创软件股份有限公司           合资   \n",
       "\n",
       "                                             page_title  ageism  \\\n",
       "5920      【北京-海淀区C#软件开发_C#软件开发招聘_北京其然科技有限公司】-前程无忧官方招聘网站   False   \n",
       "1853  【北京-朝阳区Java开发工程师_Java开发工程师招聘_大连华信计算机技术股份有限公司】-...   False   \n",
       "5834    【北京-海淀区开发工程师_开发工程师招聘_长城计算机软件与系统有限公司】-前程无忧官方招聘网站   False   \n",
       "8857  【深圳-南山区软件开发工程师（java）-初级、中级、高级_软件开发工程师（java）-初级...   False   \n",
       "4312  【北京Java开发工程师（赴百度车联网）_Java开发工程师（赴百度车联网）招聘_上海微创软...   False   \n",
       "\n",
       "      db_Apache_Hive  db_CouchBase  db_CouchDB  db_DB2  db_DynamoDB  \\\n",
       "5920           False         False       False   False        False   \n",
       "1853           False         False       False   False        False   \n",
       "5834           False         False       False   False        False   \n",
       "8857           False         False       False   False        False   \n",
       "4312           False         False       False   False        False   \n",
       "\n",
       "      db_Elasticsearch  db_FileMaker  db_Firebase  db_Firebird  db_Hbase  \\\n",
       "5920             False         False        False        False     False   \n",
       "1853             False         False        False        False     False   \n",
       "5834             False         False        False        False     False   \n",
       "8857             False         False        False        False     False   \n",
       "4312             False         False        False        False     False   \n",
       "\n",
       "      db_Informix  db_Ingres  db_MariaDB  db_Memcached  db_MongoDB  db_MySQL  \\\n",
       "5920        False      False       False         False       False     False   \n",
       "1853        False      False       False         False       False      True   \n",
       "5834        False      False       False         False       False      True   \n",
       "8857        False      False       False         False       False     False   \n",
       "4312        False      False       False         False       False      True   \n",
       "\n",
       "      db_Neo4j  db_Netezza  db_Oracle  db_PostgreSQL  db_Redis  db_Riak  \\\n",
       "5920     False       False      False          False     False    False   \n",
       "1853     False       False       True          False     False    False   \n",
       "5834     False       False      False          False     False    False   \n",
       "8857     False       False       True          False     False    False   \n",
       "4312     False       False      False          False      True    False   \n",
       "\n",
       "      db_SAP_HANA  db_SQL_Server  db_SQLite  db_Solr  db_Splunk  db_Sybase  \\\n",
       "5920        False          False      False    False      False      False   \n",
       "1853        False          False      False    False      False      False   \n",
       "5834        False          False      False    False      False      False   \n",
       "8857        False          False      False    False      False      False   \n",
       "4312        False          False      False    False      False      False   \n",
       "\n",
       "      db_Teradata  db_dBase edu  english experience  expert_adas  \\\n",
       "5920        False     False  大专    False         no        False   \n",
       "1853        False     False  本科    False       5_10        False   \n",
       "5834        False     False        False        3_5        False   \n",
       "8857        False     False  本科    False        3_5        False   \n",
       "4312        False     False  本科    False        3_5        False   \n",
       "\n",
       "      expert_blockchain  expert_embed  expert_expert  expert_gis  _996_yes  \\\n",
       "5920              False         False          False       False     False   \n",
       "1853              False         False          False       False     False   \n",
       "5834              False         False          False       False     False   \n",
       "8857              False         False          False       False     False   \n",
       "4312              False         False          False       False     False   \n",
       "\n",
       "      _996_no  industry  japanese  \\\n",
       "5920    False  computer     False   \n",
       "1853    False  computer     False   \n",
       "5834    False  computer     False   \n",
       "8857    False  computer     False   \n",
       "4312    False  computer     False   \n",
       "\n",
       "                                        job_description  \\\n",
       "5920  熟悉面向对象思想熟悉.Net架构体系精通C#开发语言熟悉WinFrom开发熟悉Asp.Net...   \n",
       "1853  1、5年以上java开发工作经验。2、有丰富研发经验；深入理解SpringCloud、spr...   \n",
       "5834  1、按系统设计完成功能模块的代码编写；2、编写模块详细设计文档，和相关技术资料；3、负责对开...   \n",
       "8857  1、本科及以上学历，计算机、软件工程及相关专业；2、两年及以上软件开发经验，有系统分析设计的...   \n",
       "4312  职责描述：负责智慧交通应用平台、数据服务接口对接的研发工作配合产品、设计等其他角色,为业务提...   \n",
       "\n",
       "                         job_summary  \\\n",
       "5920   北京-海淀区|无工作经验|大专|招151人|09-02发布   \n",
       "1853  北京-朝阳区|5-7年经验|本科|招150人|09-02发布   \n",
       "5834      北京-海淀区|3-4年经验|招80人|09-02发布   \n",
       "8857   深圳-南山区|3-4年经验|本科|招50人|09-02发布   \n",
       "4312       北京|3-4年经验|本科|招30人|09-02发布   \n",
       "\n",
       "                                               job_tags  phone_android  \\\n",
       "5920                                                             False   \n",
       "1853                              五险一金,补充医疗保险,定期体检,年终奖金          False   \n",
       "5834          五险一金,补充医疗保险,交通补贴,餐饮补贴,绩效奖金,年终奖金,弹性工作,定期体检          False   \n",
       "8857                                                             False   \n",
       "4312  五险一金,补充医疗保险,免费班车,弹性工作,定期体检,绩效奖金,年终奖金,专业培训,员工旅游...          False   \n",
       "\n",
       "      phone_app  phone_iso  pl_c_sharp  pl_cpp  pl_delphi  pl_go  pl_haskell  \\\n",
       "5920      False      False        True   False      False  False       False   \n",
       "1853      False      False       False   False      False   True       False   \n",
       "5834      False      False       False   False      False  False       False   \n",
       "8857      False      False       False   False      False  False       False   \n",
       "4312      False      False       False   False      False  False       False   \n",
       "\n",
       "      pl_java  pl_javascript  pl_julia  pl_kotlin  pl_lua  pl_matlab  \\\n",
       "5920    False           True     False      False   False      False   \n",
       "1853     True          False     False      False   False      False   \n",
       "5834    False          False     False      False   False      False   \n",
       "8857     True          False     False      False   False      False   \n",
       "4312     True          False     False      False   False      False   \n",
       "\n",
       "      pl_objective_c  pl_perl  pl_php  pl_python  pl_ruby  pl_rust  pl_scrala  \\\n",
       "5920           False    False   False      False    False    False      False   \n",
       "1853           False    False   False       True    False    False      False   \n",
       "5834           False    False   False      False    False    False      False   \n",
       "8857           False    False   False      False    False    False      False   \n",
       "4312           False    False   False      False    False    False      False   \n",
       "\n",
       "      pl_swift  pl_typescript  pl_vba  pl_visual_basic publish_date  \\\n",
       "5920     False          False   False            False   2019-09-02   \n",
       "1853     False          False   False            False   2019-09-02   \n",
       "5834     False          False   False            False   2019-09-02   \n",
       "8857     False          False   False            False   2019-09-02   \n",
       "4312     False          False   False            False   2019-09-02   \n",
       "\n",
       "      published_on_weekend  tag_baby_care  tag_five_insurance  tag_flexible  \\\n",
       "5920                 False          False               False         False   \n",
       "1853                 False          False                True         False   \n",
       "5834                 False          False                True          True   \n",
       "8857                 False          False               False         False   \n",
       "4312                 False          False                True          True   \n",
       "\n",
       "      tag_no_overtime  tag_rest_one_day  tag_rest_two_days  tag_stock  \n",
       "5920            False             False              False      False  \n",
       "1853            False             False              False      False  \n",
       "5834            False             False              False      False  \n",
       "8857            False             False              False      False  \n",
       "4312            False             False              False      False  "
      ]
     },
     "execution_count": 22,
     "metadata": {},
     "output_type": "execute_result"
    }
   ],
   "source": [
    "pd.options.display.max_columns=100\n",
    "data.sort_values(by='headcount', ascending=False).head()"
   ]
  },
  {
   "cell_type": "markdown",
   "metadata": {},
   "source": []
  },
  {
   "cell_type": "code",
   "execution_count": 23,
   "metadata": {},
   "outputs": [
    {
     "data": {
      "text/plain": [
       "34000"
      ]
     },
     "execution_count": 23,
     "metadata": {},
     "output_type": "execute_result"
    }
   ],
   "source": [
    "data.headcount.sum()"
   ]
  },
  {
   "cell_type": "markdown",
   "metadata": {},
   "source": [
    "# 城市"
   ]
  },
  {
   "cell_type": "code",
   "execution_count": 24,
   "metadata": {},
   "outputs": [],
   "source": [
    "headcount_by_cities = data.groupby(by='city').headcount.sum()"
   ]
  },
  {
   "cell_type": "code",
   "execution_count": 25,
   "metadata": {},
   "outputs": [
    {
     "data": {
      "text/plain": [
       "city\n",
       "上海    14849\n",
       "北京     8435\n",
       "广州     5025\n",
       "深圳     5691\n",
       "Name: headcount, dtype: int64"
      ]
     },
     "execution_count": 25,
     "metadata": {},
     "output_type": "execute_result"
    }
   ],
   "source": [
    "headcount_by_cities\n"
   ]
  },
  {
   "cell_type": "code",
   "execution_count": 26,
   "metadata": {},
   "outputs": [
    {
     "data": {
      "text/plain": [
       "([<matplotlib.patches.Wedge at 0x20c8e9674e0>,\n",
       "  <matplotlib.patches.Wedge at 0x20c8e967be0>,\n",
       "  <matplotlib.patches.Wedge at 0x20c8e96f320>,\n",
       "  <matplotlib.patches.Wedge at 0x20c8e96fa20>],\n",
       " [Text(0.21719056138331205, 1.078345148848921, '上海'),\n",
       "  Text(-1.0207587977651587, -0.4099408210766866, '北京'),\n",
       "  Text(0.060242299565178056, -1.0983491545693016, '广州'),\n",
       "  Text(0.9513889605076022, -0.5521404221973465, '深圳')],\n",
       " [Text(0.11846757893635201, 0.5881882630085024, '43.7%'),\n",
       "  Text(-0.5567775260537229, -0.22360408422364722, '24.8%'),\n",
       "  Text(0.03285943612646075, -0.5990995388559827, '14.8%'),\n",
       "  Text(0.5189394330041467, -0.30116750301673445, '16.7%')])"
      ]
     },
     "execution_count": 26,
     "metadata": {},
     "output_type": "execute_result"
    },
    {
     "data": {
      "image/png": "[encoded data removed]",
      "text/plain": [
       "<Figure size 720x576 with 1 Axes>"
      ]
     },
     "metadata": {},
     "output_type": "display_data"
    }
   ],
   "source": [
    "plt.figure(figsize=(10,8))\n",
    "plt.pie(headcount_by_cities.values, labels=headcount_by_cities.index, autopct='%1.1f%%')"
   ]
  },
  {
   "cell_type": "code",
   "execution_count": 27,
   "metadata": {},
   "outputs": [
    {
     "data": {
      "text/html": [
       "<style  type=\"text/css\" >\n",
       "</style>  \n",
       "<table id=\"T_dab40e50_ce68_11e9_bcac_701ce71031ef\" > \n",
       "<thead>    <tr> \n",
       "        <th class=\"col_heading level0 col0\" >city</th> \n",
       "        <th class=\"col_heading level0 col1\" >salary_mean</th> \n",
       "        <th class=\"col_heading level0 col2\" >salary_95_min</th> \n",
       "        <th class=\"col_heading level0 col3\" >salary_median</th> \n",
       "        <th class=\"col_heading level0 col4\" >salary_95_max</th> \n",
       "        <th class=\"col_heading level0 col5\" >head_count</th> \n",
       "        <th class=\"col_heading level0 col6\" >percentage</th> \n",
       "    </tr></thead> \n",
       "<tbody>    <tr> \n",
       "        <td id=\"T_dab40e50_ce68_11e9_bcac_701ce71031efrow0_col0\" class=\"data row0 col0\" >深圳</td> \n",
       "        <td id=\"T_dab40e50_ce68_11e9_bcac_701ce71031efrow0_col1\" class=\"data row0 col1\" >18124</td> \n",
       "        <td id=\"T_dab40e50_ce68_11e9_bcac_701ce71031efrow0_col2\" class=\"data row0 col2\" >8500</td> \n",
       "        <td id=\"T_dab40e50_ce68_11e9_bcac_701ce71031efrow0_col3\" class=\"data row0 col3\" >17500</td> \n",
       "        <td id=\"T_dab40e50_ce68_11e9_bcac_701ce71031efrow0_col4\" class=\"data row0 col4\" >35000</td> \n",
       "        <td id=\"T_dab40e50_ce68_11e9_bcac_701ce71031efrow0_col5\" class=\"data row0 col5\" >5691</td> \n",
       "        <td id=\"T_dab40e50_ce68_11e9_bcac_701ce71031efrow0_col6\" class=\"data row0 col6\" >16.74%</td> \n",
       "    </tr>    <tr> \n",
       "        <td id=\"T_dab40e50_ce68_11e9_bcac_701ce71031efrow1_col0\" class=\"data row1 col0\" >上海</td> \n",
       "        <td id=\"T_dab40e50_ce68_11e9_bcac_701ce71031efrow1_col1\" class=\"data row1 col1\" >16478</td> \n",
       "        <td id=\"T_dab40e50_ce68_11e9_bcac_701ce71031efrow1_col2\" class=\"data row1 col2\" >6000</td> \n",
       "        <td id=\"T_dab40e50_ce68_11e9_bcac_701ce71031efrow1_col3\" class=\"data row1 col3\" >15000</td> \n",
       "        <td id=\"T_dab40e50_ce68_11e9_bcac_701ce71031efrow1_col4\" class=\"data row1 col4\" >35000</td> \n",
       "        <td id=\"T_dab40e50_ce68_11e9_bcac_701ce71031efrow1_col5\" class=\"data row1 col5\" >14849</td> \n",
       "        <td id=\"T_dab40e50_ce68_11e9_bcac_701ce71031efrow1_col6\" class=\"data row1 col6\" >43.67%</td> \n",
       "    </tr>    <tr> \n",
       "        <td id=\"T_dab40e50_ce68_11e9_bcac_701ce71031efrow2_col0\" class=\"data row2 col0\" >广州</td> \n",
       "        <td id=\"T_dab40e50_ce68_11e9_bcac_701ce71031efrow2_col1\" class=\"data row2 col1\" >15873</td> \n",
       "        <td id=\"T_dab40e50_ce68_11e9_bcac_701ce71031efrow2_col2\" class=\"data row2 col2\" >7000</td> \n",
       "        <td id=\"T_dab40e50_ce68_11e9_bcac_701ce71031efrow2_col3\" class=\"data row2 col3\" >15000</td> \n",
       "        <td id=\"T_dab40e50_ce68_11e9_bcac_701ce71031efrow2_col4\" class=\"data row2 col4\" >30000</td> \n",
       "        <td id=\"T_dab40e50_ce68_11e9_bcac_701ce71031efrow2_col5\" class=\"data row2 col5\" >5025</td> \n",
       "        <td id=\"T_dab40e50_ce68_11e9_bcac_701ce71031efrow2_col6\" class=\"data row2 col6\" >14.78%</td> \n",
       "    </tr>    <tr> \n",
       "        <td id=\"T_dab40e50_ce68_11e9_bcac_701ce71031efrow3_col0\" class=\"data row3 col0\" >北京</td> \n",
       "        <td id=\"T_dab40e50_ce68_11e9_bcac_701ce71031efrow3_col1\" class=\"data row3 col1\" >15317</td> \n",
       "        <td id=\"T_dab40e50_ce68_11e9_bcac_701ce71031efrow3_col2\" class=\"data row3 col2\" >3770</td> \n",
       "        <td id=\"T_dab40e50_ce68_11e9_bcac_701ce71031efrow3_col3\" class=\"data row3 col3\" >14000</td> \n",
       "        <td id=\"T_dab40e50_ce68_11e9_bcac_701ce71031efrow3_col4\" class=\"data row3 col4\" >35000</td> \n",
       "        <td id=\"T_dab40e50_ce68_11e9_bcac_701ce71031efrow3_col5\" class=\"data row3 col5\" >8435</td> \n",
       "        <td id=\"T_dab40e50_ce68_11e9_bcac_701ce71031efrow3_col6\" class=\"data row3 col6\" >24.81%</td> \n",
       "    </tr></tbody> \n",
       "</table> "
      ],
      "text/plain": [
       "<pandas.io.formats.style.Styler at 0x20c8e8ab198>"
      ]
     },
     "execution_count": 27,
     "metadata": {},
     "output_type": "execute_result"
    }
   ],
   "source": [
    "data_pl=get_sub_stats_by_col(data,'city')\n",
    "apply_style(data_pl)"
   ]
  },
  {
   "cell_type": "code",
   "execution_count": 28,
   "metadata": {},
   "outputs": [],
   "source": [
    "salary_beijing=data[data.city=='北京'].monthly_salary\n",
    "salary_shanghai=data[data.city=='上海'].monthly_salary\n",
    "salary_guangzhou=data[data.city=='广州'].monthly_salary\n",
    "salary_shenzhen=data[data.city=='深圳'].monthly_salary"
   ]
  },
  {
   "cell_type": "code",
   "execution_count": null,
   "metadata": {},
   "outputs": [],
   "source": []
  },
  {
   "cell_type": "code",
   "execution_count": 29,
   "metadata": {},
   "outputs": [
    {
     "data": {
      "text/plain": [
       "F_onewayResult(statistic=8.285279703443672, pvalue=0.004008943277280999)"
      ]
     },
     "execution_count": 29,
     "metadata": {},
     "output_type": "execute_result"
    }
   ],
   "source": [
    "stats.f_oneway(salary_beijing, salary_shanghai)"
   ]
  },
  {
   "cell_type": "code",
   "execution_count": 30,
   "metadata": {},
   "outputs": [
    {
     "data": {
      "text/plain": [
       "F_onewayResult(statistic=49.033317242468236, pvalue=2.7645613257969312e-12)"
      ]
     },
     "execution_count": 30,
     "metadata": {},
     "output_type": "execute_result"
    }
   ],
   "source": [
    "stats.f_oneway(salary_shanghai, salary_shenzhen)"
   ]
  },
  {
   "cell_type": "code",
   "execution_count": 31,
   "metadata": {},
   "outputs": [
    {
     "data": {
      "text/plain": [
       "F_onewayResult(statistic=143.74309815421827, pvalue=1.6340011131150627e-32)"
      ]
     },
     "execution_count": 31,
     "metadata": {},
     "output_type": "execute_result"
    }
   ],
   "source": [
    "stats.f_oneway(salary_shenzhen, salary_guangzhou)"
   ]
  },
  {
   "cell_type": "markdown",
   "metadata": {},
   "source": [
    "# 编程语言"
   ]
  },
  {
   "cell_type": "code",
   "execution_count": 32,
   "metadata": {},
   "outputs": [
    {
     "data": {
      "text/html": [
       "<style  type=\"text/css\" >\n",
       "</style>  \n",
       "<table id=\"T_dacb3fdc_ce68_11e9_8dc9_701ce71031ef\" > \n",
       "<thead>    <tr> \n",
       "        <th class=\"col_heading level0 col0\" >rank</th> \n",
       "        <th class=\"col_heading level0 col1\" >pl_</th> \n",
       "        <th class=\"col_heading level0 col2\" >salary_mean</th> \n",
       "        <th class=\"col_heading level0 col3\" >salary_median</th> \n",
       "        <th class=\"col_heading level0 col4\" >salary_95_min</th> \n",
       "        <th class=\"col_heading level0 col5\" >salary_95_max</th> \n",
       "        <th class=\"col_heading level0 col6\" >head_count</th> \n",
       "        <th class=\"col_heading level0 col7\" >percentage</th> \n",
       "    </tr></thead> \n",
       "<tbody>    <tr> \n",
       "        <td id=\"T_dacb3fdc_ce68_11e9_8dc9_701ce71031efrow0_col0\" class=\"data row0 col0\" >1</td> \n",
       "        <td id=\"T_dacb3fdc_ce68_11e9_8dc9_701ce71031efrow0_col1\" class=\"data row0 col1\" >rust</td> \n",
       "        <td id=\"T_dacb3fdc_ce68_11e9_8dc9_701ce71031efrow0_col2\" class=\"data row0 col2\" >29863</td> \n",
       "        <td id=\"T_dacb3fdc_ce68_11e9_8dc9_701ce71031efrow0_col3\" class=\"data row0 col3\" >31935</td> \n",
       "        <td id=\"T_dacb3fdc_ce68_11e9_8dc9_701ce71031efrow0_col4\" class=\"data row0 col4\" >8500</td> \n",
       "        <td id=\"T_dacb3fdc_ce68_11e9_8dc9_701ce71031efrow0_col5\" class=\"data row0 col5\" >60000</td> \n",
       "        <td id=\"T_dacb3fdc_ce68_11e9_8dc9_701ce71031efrow0_col6\" class=\"data row0 col6\" >73</td> \n",
       "        <td id=\"T_dacb3fdc_ce68_11e9_8dc9_701ce71031efrow0_col7\" class=\"data row0 col7\" >0.15%</td> \n",
       "    </tr>    <tr> \n",
       "        <td id=\"T_dacb3fdc_ce68_11e9_8dc9_701ce71031efrow1_col0\" class=\"data row1 col0\" >2</td> \n",
       "        <td id=\"T_dacb3fdc_ce68_11e9_8dc9_701ce71031efrow1_col1\" class=\"data row1 col1\" >lua</td> \n",
       "        <td id=\"T_dacb3fdc_ce68_11e9_8dc9_701ce71031efrow1_col2\" class=\"data row1 col2\" >22336</td> \n",
       "        <td id=\"T_dacb3fdc_ce68_11e9_8dc9_701ce71031efrow1_col3\" class=\"data row1 col3\" >22500</td> \n",
       "        <td id=\"T_dacb3fdc_ce68_11e9_8dc9_701ce71031efrow1_col4\" class=\"data row1 col4\" >9075</td> \n",
       "        <td id=\"T_dacb3fdc_ce68_11e9_8dc9_701ce71031efrow1_col5\" class=\"data row1 col5\" >36708</td> \n",
       "        <td id=\"T_dacb3fdc_ce68_11e9_8dc9_701ce71031efrow1_col6\" class=\"data row1 col6\" >438</td> \n",
       "        <td id=\"T_dacb3fdc_ce68_11e9_8dc9_701ce71031efrow1_col7\" class=\"data row1 col7\" >0.88%</td> \n",
       "    </tr>    <tr> \n",
       "        <td id=\"T_dacb3fdc_ce68_11e9_8dc9_701ce71031efrow2_col0\" class=\"data row2 col0\" >3</td> \n",
       "        <td id=\"T_dacb3fdc_ce68_11e9_8dc9_701ce71031efrow2_col1\" class=\"data row2 col1\" >go</td> \n",
       "        <td id=\"T_dacb3fdc_ce68_11e9_8dc9_701ce71031efrow2_col2\" class=\"data row2 col2\" >19865</td> \n",
       "        <td id=\"T_dacb3fdc_ce68_11e9_8dc9_701ce71031efrow2_col3\" class=\"data row2 col3\" >17923</td> \n",
       "        <td id=\"T_dacb3fdc_ce68_11e9_8dc9_701ce71031efrow2_col4\" class=\"data row2 col4\" >9000</td> \n",
       "        <td id=\"T_dacb3fdc_ce68_11e9_8dc9_701ce71031efrow2_col5\" class=\"data row2 col5\" >40000</td> \n",
       "        <td id=\"T_dacb3fdc_ce68_11e9_8dc9_701ce71031efrow2_col6\" class=\"data row2 col6\" >4842</td> \n",
       "        <td id=\"T_dacb3fdc_ce68_11e9_8dc9_701ce71031efrow2_col7\" class=\"data row2 col7\" >9.71%</td> \n",
       "    </tr>    <tr> \n",
       "        <td id=\"T_dacb3fdc_ce68_11e9_8dc9_701ce71031efrow3_col0\" class=\"data row3 col0\" >4</td> \n",
       "        <td id=\"T_dacb3fdc_ce68_11e9_8dc9_701ce71031efrow3_col1\" class=\"data row3 col1\" >perl</td> \n",
       "        <td id=\"T_dacb3fdc_ce68_11e9_8dc9_701ce71031efrow3_col2\" class=\"data row3 col2\" >19737</td> \n",
       "        <td id=\"T_dacb3fdc_ce68_11e9_8dc9_701ce71031efrow3_col3\" class=\"data row3 col3\" >17500</td> \n",
       "        <td id=\"T_dacb3fdc_ce68_11e9_8dc9_701ce71031efrow3_col4\" class=\"data row3 col4\" >3750</td> \n",
       "        <td id=\"T_dacb3fdc_ce68_11e9_8dc9_701ce71031efrow3_col5\" class=\"data row3 col5\" >48521</td> \n",
       "        <td id=\"T_dacb3fdc_ce68_11e9_8dc9_701ce71031efrow3_col6\" class=\"data row3 col6\" >371</td> \n",
       "        <td id=\"T_dacb3fdc_ce68_11e9_8dc9_701ce71031efrow3_col7\" class=\"data row3 col7\" >0.74%</td> \n",
       "    </tr>    <tr> \n",
       "        <td id=\"T_dacb3fdc_ce68_11e9_8dc9_701ce71031efrow4_col0\" class=\"data row4 col0\" >5</td> \n",
       "        <td id=\"T_dacb3fdc_ce68_11e9_8dc9_701ce71031efrow4_col1\" class=\"data row4 col1\" >python</td> \n",
       "        <td id=\"T_dacb3fdc_ce68_11e9_8dc9_701ce71031efrow4_col2\" class=\"data row4 col2\" >19609</td> \n",
       "        <td id=\"T_dacb3fdc_ce68_11e9_8dc9_701ce71031efrow4_col3\" class=\"data row4 col3\" >17500</td> \n",
       "        <td id=\"T_dacb3fdc_ce68_11e9_8dc9_701ce71031efrow4_col4\" class=\"data row4 col4\" >6500</td> \n",
       "        <td id=\"T_dacb3fdc_ce68_11e9_8dc9_701ce71031efrow4_col5\" class=\"data row4 col5\" >45000</td> \n",
       "        <td id=\"T_dacb3fdc_ce68_11e9_8dc9_701ce71031efrow4_col6\" class=\"data row4 col6\" >3883</td> \n",
       "        <td id=\"T_dacb3fdc_ce68_11e9_8dc9_701ce71031efrow4_col7\" class=\"data row4 col7\" >7.79%</td> \n",
       "    </tr>    <tr> \n",
       "        <td id=\"T_dacb3fdc_ce68_11e9_8dc9_701ce71031efrow5_col0\" class=\"data row5 col0\" >6</td> \n",
       "        <td id=\"T_dacb3fdc_ce68_11e9_8dc9_701ce71031efrow5_col1\" class=\"data row5 col1\" >matlab</td> \n",
       "        <td id=\"T_dacb3fdc_ce68_11e9_8dc9_701ce71031efrow5_col2\" class=\"data row5 col2\" >19544</td> \n",
       "        <td id=\"T_dacb3fdc_ce68_11e9_8dc9_701ce71031efrow5_col3\" class=\"data row5 col3\" >17500</td> \n",
       "        <td id=\"T_dacb3fdc_ce68_11e9_8dc9_701ce71031efrow5_col4\" class=\"data row5 col4\" >4225</td> \n",
       "        <td id=\"T_dacb3fdc_ce68_11e9_8dc9_701ce71031efrow5_col5\" class=\"data row5 col5\" >60000</td> \n",
       "        <td id=\"T_dacb3fdc_ce68_11e9_8dc9_701ce71031efrow5_col6\" class=\"data row5 col6\" >474</td> \n",
       "        <td id=\"T_dacb3fdc_ce68_11e9_8dc9_701ce71031efrow5_col7\" class=\"data row5 col7\" >0.95%</td> \n",
       "    </tr>    <tr> \n",
       "        <td id=\"T_dacb3fdc_ce68_11e9_8dc9_701ce71031efrow6_col0\" class=\"data row6 col0\" >7</td> \n",
       "        <td id=\"T_dacb3fdc_ce68_11e9_8dc9_701ce71031efrow6_col1\" class=\"data row6 col1\" >kotlin</td> \n",
       "        <td id=\"T_dacb3fdc_ce68_11e9_8dc9_701ce71031efrow6_col2\" class=\"data row6 col2\" >18961</td> \n",
       "        <td id=\"T_dacb3fdc_ce68_11e9_8dc9_701ce71031efrow6_col3\" class=\"data row6 col3\" >17500</td> \n",
       "        <td id=\"T_dacb3fdc_ce68_11e9_8dc9_701ce71031efrow6_col4\" class=\"data row6 col4\" >11500</td> \n",
       "        <td id=\"T_dacb3fdc_ce68_11e9_8dc9_701ce71031efrow6_col5\" class=\"data row6 col5\" >60000</td> \n",
       "        <td id=\"T_dacb3fdc_ce68_11e9_8dc9_701ce71031efrow6_col6\" class=\"data row6 col6\" >129</td> \n",
       "        <td id=\"T_dacb3fdc_ce68_11e9_8dc9_701ce71031efrow6_col7\" class=\"data row6 col7\" >0.26%</td> \n",
       "    </tr>    <tr> \n",
       "        <td id=\"T_dacb3fdc_ce68_11e9_8dc9_701ce71031efrow7_col0\" class=\"data row7 col0\" >8</td> \n",
       "        <td id=\"T_dacb3fdc_ce68_11e9_8dc9_701ce71031efrow7_col1\" class=\"data row7 col1\" >swift</td> \n",
       "        <td id=\"T_dacb3fdc_ce68_11e9_8dc9_701ce71031efrow7_col2\" class=\"data row7 col2\" >18938</td> \n",
       "        <td id=\"T_dacb3fdc_ce68_11e9_8dc9_701ce71031efrow7_col3\" class=\"data row7 col3\" >20000</td> \n",
       "        <td id=\"T_dacb3fdc_ce68_11e9_8dc9_701ce71031efrow7_col4\" class=\"data row7 col4\" >9000</td> \n",
       "        <td id=\"T_dacb3fdc_ce68_11e9_8dc9_701ce71031efrow7_col5\" class=\"data row7 col5\" >27500</td> \n",
       "        <td id=\"T_dacb3fdc_ce68_11e9_8dc9_701ce71031efrow7_col6\" class=\"data row7 col6\" >376</td> \n",
       "        <td id=\"T_dacb3fdc_ce68_11e9_8dc9_701ce71031efrow7_col7\" class=\"data row7 col7\" >0.75%</td> \n",
       "    </tr>    <tr> \n",
       "        <td id=\"T_dacb3fdc_ce68_11e9_8dc9_701ce71031efrow8_col0\" class=\"data row8 col0\" >9</td> \n",
       "        <td id=\"T_dacb3fdc_ce68_11e9_8dc9_701ce71031efrow8_col1\" class=\"data row8 col1\" >cpp</td> \n",
       "        <td id=\"T_dacb3fdc_ce68_11e9_8dc9_701ce71031efrow8_col2\" class=\"data row8 col2\" >18300</td> \n",
       "        <td id=\"T_dacb3fdc_ce68_11e9_8dc9_701ce71031efrow8_col3\" class=\"data row8 col3\" >17500</td> \n",
       "        <td id=\"T_dacb3fdc_ce68_11e9_8dc9_701ce71031efrow8_col4\" class=\"data row8 col4\" >6000</td> \n",
       "        <td id=\"T_dacb3fdc_ce68_11e9_8dc9_701ce71031efrow8_col5\" class=\"data row8 col5\" >40000</td> \n",
       "        <td id=\"T_dacb3fdc_ce68_11e9_8dc9_701ce71031efrow8_col6\" class=\"data row8 col6\" >7951</td> \n",
       "        <td id=\"T_dacb3fdc_ce68_11e9_8dc9_701ce71031efrow8_col7\" class=\"data row8 col7\" >15.95%</td> \n",
       "    </tr>    <tr> \n",
       "        <td id=\"T_dacb3fdc_ce68_11e9_8dc9_701ce71031efrow9_col0\" class=\"data row9 col0\" >10</td> \n",
       "        <td id=\"T_dacb3fdc_ce68_11e9_8dc9_701ce71031efrow9_col1\" class=\"data row9 col1\" >ruby</td> \n",
       "        <td id=\"T_dacb3fdc_ce68_11e9_8dc9_701ce71031efrow9_col2\" class=\"data row9 col2\" >18048</td> \n",
       "        <td id=\"T_dacb3fdc_ce68_11e9_8dc9_701ce71031efrow9_col3\" class=\"data row9 col3\" >18000</td> \n",
       "        <td id=\"T_dacb3fdc_ce68_11e9_8dc9_701ce71031efrow9_col4\" class=\"data row9 col4\" >2500</td> \n",
       "        <td id=\"T_dacb3fdc_ce68_11e9_8dc9_701ce71031efrow9_col5\" class=\"data row9 col5\" >35297</td> \n",
       "        <td id=\"T_dacb3fdc_ce68_11e9_8dc9_701ce71031efrow9_col6\" class=\"data row9 col6\" >187</td> \n",
       "        <td id=\"T_dacb3fdc_ce68_11e9_8dc9_701ce71031efrow9_col7\" class=\"data row9 col7\" >0.38%</td> \n",
       "    </tr>    <tr> \n",
       "        <td id=\"T_dacb3fdc_ce68_11e9_8dc9_701ce71031efrow10_col0\" class=\"data row10 col0\" >11</td> \n",
       "        <td id=\"T_dacb3fdc_ce68_11e9_8dc9_701ce71031efrow10_col1\" class=\"data row10 col1\" >typescript</td> \n",
       "        <td id=\"T_dacb3fdc_ce68_11e9_8dc9_701ce71031efrow10_col2\" class=\"data row10 col2\" >17652</td> \n",
       "        <td id=\"T_dacb3fdc_ce68_11e9_8dc9_701ce71031efrow10_col3\" class=\"data row10 col3\" >17500</td> \n",
       "        <td id=\"T_dacb3fdc_ce68_11e9_8dc9_701ce71031efrow10_col4\" class=\"data row10 col4\" >8912</td> \n",
       "        <td id=\"T_dacb3fdc_ce68_11e9_8dc9_701ce71031efrow10_col5\" class=\"data row10 col5\" >33917</td> \n",
       "        <td id=\"T_dacb3fdc_ce68_11e9_8dc9_701ce71031efrow10_col6\" class=\"data row10 col6\" >93</td> \n",
       "        <td id=\"T_dacb3fdc_ce68_11e9_8dc9_701ce71031efrow10_col7\" class=\"data row10 col7\" >0.19%</td> \n",
       "    </tr>    <tr> \n",
       "        <td id=\"T_dacb3fdc_ce68_11e9_8dc9_701ce71031efrow11_col0\" class=\"data row11 col0\" >12</td> \n",
       "        <td id=\"T_dacb3fdc_ce68_11e9_8dc9_701ce71031efrow11_col1\" class=\"data row11 col1\" >java</td> \n",
       "        <td id=\"T_dacb3fdc_ce68_11e9_8dc9_701ce71031efrow11_col2\" class=\"data row11 col2\" >16616</td> \n",
       "        <td id=\"T_dacb3fdc_ce68_11e9_8dc9_701ce71031efrow11_col3\" class=\"data row11 col3\" >15000</td> \n",
       "        <td id=\"T_dacb3fdc_ce68_11e9_8dc9_701ce71031efrow11_col4\" class=\"data row11 col4\" >6500</td> \n",
       "        <td id=\"T_dacb3fdc_ce68_11e9_8dc9_701ce71031efrow11_col5\" class=\"data row11 col5\" >32500</td> \n",
       "        <td id=\"T_dacb3fdc_ce68_11e9_8dc9_701ce71031efrow11_col6\" class=\"data row11 col6\" >16292</td> \n",
       "        <td id=\"T_dacb3fdc_ce68_11e9_8dc9_701ce71031efrow11_col7\" class=\"data row11 col7\" >32.68%</td> \n",
       "    </tr>    <tr> \n",
       "        <td id=\"T_dacb3fdc_ce68_11e9_8dc9_701ce71031efrow12_col0\" class=\"data row12 col0\" >13</td> \n",
       "        <td id=\"T_dacb3fdc_ce68_11e9_8dc9_701ce71031efrow12_col1\" class=\"data row12 col1\" >php</td> \n",
       "        <td id=\"T_dacb3fdc_ce68_11e9_8dc9_701ce71031efrow12_col2\" class=\"data row12 col2\" >16332</td> \n",
       "        <td id=\"T_dacb3fdc_ce68_11e9_8dc9_701ce71031efrow12_col3\" class=\"data row12 col3\" >15000</td> \n",
       "        <td id=\"T_dacb3fdc_ce68_11e9_8dc9_701ce71031efrow12_col4\" class=\"data row12 col4\" >5250</td> \n",
       "        <td id=\"T_dacb3fdc_ce68_11e9_8dc9_701ce71031efrow12_col5\" class=\"data row12 col5\" >35000</td> \n",
       "        <td id=\"T_dacb3fdc_ce68_11e9_8dc9_701ce71031efrow12_col6\" class=\"data row12 col6\" >2208</td> \n",
       "        <td id=\"T_dacb3fdc_ce68_11e9_8dc9_701ce71031efrow12_col7\" class=\"data row12 col7\" >4.43%</td> \n",
       "    </tr>    <tr> \n",
       "        <td id=\"T_dacb3fdc_ce68_11e9_8dc9_701ce71031efrow13_col0\" class=\"data row13 col0\" >14</td> \n",
       "        <td id=\"T_dacb3fdc_ce68_11e9_8dc9_701ce71031efrow13_col1\" class=\"data row13 col1\" >delphi</td> \n",
       "        <td id=\"T_dacb3fdc_ce68_11e9_8dc9_701ce71031efrow13_col2\" class=\"data row13 col2\" >15353</td> \n",
       "        <td id=\"T_dacb3fdc_ce68_11e9_8dc9_701ce71031efrow13_col3\" class=\"data row13 col3\" >15000</td> \n",
       "        <td id=\"T_dacb3fdc_ce68_11e9_8dc9_701ce71031efrow13_col4\" class=\"data row13 col4\" >7267</td> \n",
       "        <td id=\"T_dacb3fdc_ce68_11e9_8dc9_701ce71031efrow13_col5\" class=\"data row13 col5\" >27500</td> \n",
       "        <td id=\"T_dacb3fdc_ce68_11e9_8dc9_701ce71031efrow13_col6\" class=\"data row13 col6\" >92</td> \n",
       "        <td id=\"T_dacb3fdc_ce68_11e9_8dc9_701ce71031efrow13_col7\" class=\"data row13 col7\" >0.18%</td> \n",
       "    </tr>    <tr> \n",
       "        <td id=\"T_dacb3fdc_ce68_11e9_8dc9_701ce71031efrow14_col0\" class=\"data row14 col0\" >15</td> \n",
       "        <td id=\"T_dacb3fdc_ce68_11e9_8dc9_701ce71031efrow14_col1\" class=\"data row14 col1\" >vba</td> \n",
       "        <td id=\"T_dacb3fdc_ce68_11e9_8dc9_701ce71031efrow14_col2\" class=\"data row14 col2\" >14564</td> \n",
       "        <td id=\"T_dacb3fdc_ce68_11e9_8dc9_701ce71031efrow14_col3\" class=\"data row14 col3\" >13800</td> \n",
       "        <td id=\"T_dacb3fdc_ce68_11e9_8dc9_701ce71031efrow14_col4\" class=\"data row14 col4\" >7894</td> \n",
       "        <td id=\"T_dacb3fdc_ce68_11e9_8dc9_701ce71031efrow14_col5\" class=\"data row14 col5\" >25000</td> \n",
       "        <td id=\"T_dacb3fdc_ce68_11e9_8dc9_701ce71031efrow14_col6\" class=\"data row14 col6\" >59</td> \n",
       "        <td id=\"T_dacb3fdc_ce68_11e9_8dc9_701ce71031efrow14_col7\" class=\"data row14 col7\" >0.12%</td> \n",
       "    </tr>    <tr> \n",
       "        <td id=\"T_dacb3fdc_ce68_11e9_8dc9_701ce71031efrow15_col0\" class=\"data row15 col0\" >16</td> \n",
       "        <td id=\"T_dacb3fdc_ce68_11e9_8dc9_701ce71031efrow15_col1\" class=\"data row15 col1\" >objective_c</td> \n",
       "        <td id=\"T_dacb3fdc_ce68_11e9_8dc9_701ce71031efrow15_col2\" class=\"data row15 col2\" >14544</td> \n",
       "        <td id=\"T_dacb3fdc_ce68_11e9_8dc9_701ce71031efrow15_col3\" class=\"data row15 col3\" >13667</td> \n",
       "        <td id=\"T_dacb3fdc_ce68_11e9_8dc9_701ce71031efrow15_col4\" class=\"data row15 col4\" >7000</td> \n",
       "        <td id=\"T_dacb3fdc_ce68_11e9_8dc9_701ce71031efrow15_col5\" class=\"data row15 col5\" >22500</td> \n",
       "        <td id=\"T_dacb3fdc_ce68_11e9_8dc9_701ce71031efrow15_col6\" class=\"data row15 col6\" >34</td> \n",
       "        <td id=\"T_dacb3fdc_ce68_11e9_8dc9_701ce71031efrow15_col7\" class=\"data row15 col7\" >0.07%</td> \n",
       "    </tr>    <tr> \n",
       "        <td id=\"T_dacb3fdc_ce68_11e9_8dc9_701ce71031efrow16_col0\" class=\"data row16 col0\" >17</td> \n",
       "        <td id=\"T_dacb3fdc_ce68_11e9_8dc9_701ce71031efrow16_col1\" class=\"data row16 col1\" >javascript</td> \n",
       "        <td id=\"T_dacb3fdc_ce68_11e9_8dc9_701ce71031efrow16_col2\" class=\"data row16 col2\" >14277</td> \n",
       "        <td id=\"T_dacb3fdc_ce68_11e9_8dc9_701ce71031efrow16_col3\" class=\"data row16 col3\" >12500</td> \n",
       "        <td id=\"T_dacb3fdc_ce68_11e9_8dc9_701ce71031efrow16_col4\" class=\"data row16 col4\" >3892</td> \n",
       "        <td id=\"T_dacb3fdc_ce68_11e9_8dc9_701ce71031efrow16_col5\" class=\"data row16 col5\" >27500</td> \n",
       "        <td id=\"T_dacb3fdc_ce68_11e9_8dc9_701ce71031efrow16_col6\" class=\"data row16 col6\" >6467</td> \n",
       "        <td id=\"T_dacb3fdc_ce68_11e9_8dc9_701ce71031efrow16_col7\" class=\"data row16 col7\" >12.97%</td> \n",
       "    </tr>    <tr> \n",
       "        <td id=\"T_dacb3fdc_ce68_11e9_8dc9_701ce71031efrow17_col0\" class=\"data row17 col0\" >18</td> \n",
       "        <td id=\"T_dacb3fdc_ce68_11e9_8dc9_701ce71031efrow17_col1\" class=\"data row17 col1\" >visual_basic</td> \n",
       "        <td id=\"T_dacb3fdc_ce68_11e9_8dc9_701ce71031efrow17_col2\" class=\"data row17 col2\" >13620</td> \n",
       "        <td id=\"T_dacb3fdc_ce68_11e9_8dc9_701ce71031efrow17_col3\" class=\"data row17 col3\" >12500</td> \n",
       "        <td id=\"T_dacb3fdc_ce68_11e9_8dc9_701ce71031efrow17_col4\" class=\"data row17 col4\" >10500</td> \n",
       "        <td id=\"T_dacb3fdc_ce68_11e9_8dc9_701ce71031efrow17_col5\" class=\"data row17 col5\" >22500</td> \n",
       "        <td id=\"T_dacb3fdc_ce68_11e9_8dc9_701ce71031efrow17_col6\" class=\"data row17 col6\" >9</td> \n",
       "        <td id=\"T_dacb3fdc_ce68_11e9_8dc9_701ce71031efrow17_col7\" class=\"data row17 col7\" >0.02%</td> \n",
       "    </tr>    <tr> \n",
       "        <td id=\"T_dacb3fdc_ce68_11e9_8dc9_701ce71031efrow18_col0\" class=\"data row18 col0\" >19</td> \n",
       "        <td id=\"T_dacb3fdc_ce68_11e9_8dc9_701ce71031efrow18_col1\" class=\"data row18 col1\" >c_sharp</td> \n",
       "        <td id=\"T_dacb3fdc_ce68_11e9_8dc9_701ce71031efrow18_col2\" class=\"data row18 col2\" >13606</td> \n",
       "        <td id=\"T_dacb3fdc_ce68_11e9_8dc9_701ce71031efrow18_col3\" class=\"data row18 col3\" >12500</td> \n",
       "        <td id=\"T_dacb3fdc_ce68_11e9_8dc9_701ce71031efrow18_col4\" class=\"data row18 col4\" >3750</td> \n",
       "        <td id=\"T_dacb3fdc_ce68_11e9_8dc9_701ce71031efrow18_col5\" class=\"data row18 col5\" >27500</td> \n",
       "        <td id=\"T_dacb3fdc_ce68_11e9_8dc9_701ce71031efrow18_col6\" class=\"data row18 col6\" >5866</td> \n",
       "        <td id=\"T_dacb3fdc_ce68_11e9_8dc9_701ce71031efrow18_col7\" class=\"data row18 col7\" >11.77%</td> \n",
       "    </tr>    <tr> \n",
       "        <td id=\"T_dacb3fdc_ce68_11e9_8dc9_701ce71031efrow19_col0\" class=\"data row19 col0\" >20</td> \n",
       "        <td id=\"T_dacb3fdc_ce68_11e9_8dc9_701ce71031efrow19_col1\" class=\"data row19 col1\" >haskell</td> \n",
       "        <td id=\"T_dacb3fdc_ce68_11e9_8dc9_701ce71031efrow19_col2\" class=\"data row19 col2\" >11250</td> \n",
       "        <td id=\"T_dacb3fdc_ce68_11e9_8dc9_701ce71031efrow19_col3\" class=\"data row19 col3\" >10000</td> \n",
       "        <td id=\"T_dacb3fdc_ce68_11e9_8dc9_701ce71031efrow19_col4\" class=\"data row19 col4\" >7500</td> \n",
       "        <td id=\"T_dacb3fdc_ce68_11e9_8dc9_701ce71031efrow19_col5\" class=\"data row19 col5\" >15000</td> \n",
       "        <td id=\"T_dacb3fdc_ce68_11e9_8dc9_701ce71031efrow19_col6\" class=\"data row19 col6\" >8</td> \n",
       "        <td id=\"T_dacb3fdc_ce68_11e9_8dc9_701ce71031efrow19_col7\" class=\"data row19 col7\" >0.02%</td> \n",
       "    </tr></tbody> \n",
       "</table> "
      ],
      "text/plain": [
       "<pandas.io.formats.style.Styler at 0x20c8e98ceb8>"
      ]
     },
     "execution_count": 32,
     "metadata": {},
     "output_type": "execute_result"
    }
   ],
   "source": [
    "data_pl=get_sub_stats_by_prefix(data,'pl_')\n",
    "apply_style(data_pl)"
   ]
  },
  {
   "cell_type": "code",
   "execution_count": null,
   "metadata": {},
   "outputs": [],
   "source": []
  },
  {
   "cell_type": "markdown",
   "metadata": {},
   "source": [
    "数据显示，haskell才是最赚钱的编程语言。python是主流语言里面最赚钱的，比java的工资多了3000元！vb是最不赚钱的了。其中，最赚钱的编程语言和最不赚钱的，工资居然差了2倍。所以，要选好编程语言呀！"
   ]
  },
  {
   "cell_type": "markdown",
   "metadata": {},
   "source": [
    "# 教育"
   ]
  },
  {
   "cell_type": "code",
   "execution_count": 33,
   "metadata": {},
   "outputs": [],
   "source": [
    "edu_counts=data[~(data.edu=='')].groupby(by=['edu']).headcount.sum()"
   ]
  },
  {
   "cell_type": "code",
   "execution_count": 34,
   "metadata": {},
   "outputs": [
    {
     "data": {
      "text/plain": [
       "edu\n",
       "初中及以下        3\n",
       "博士          36\n",
       "大专        8883\n",
       "本科       18644\n",
       "硕士         646\n",
       "高中          49\n",
       "Name: headcount, dtype: int64"
      ]
     },
     "execution_count": 34,
     "metadata": {},
     "output_type": "execute_result"
    }
   ],
   "source": [
    "edu_counts"
   ]
  },
  {
   "cell_type": "code",
   "execution_count": 35,
   "metadata": {},
   "outputs": [
    {
     "data": {
      "text/plain": [
       "([<matplotlib.patches.Wedge at 0x20c8de53588>,\n",
       "  <matplotlib.patches.Wedge at 0x20c8deb19b0>,\n",
       "  <matplotlib.patches.Wedge at 0x20c8de474e0>,\n",
       "  <matplotlib.patches.Wedge at 0x20c8de47ba8>,\n",
       "  <matplotlib.patches.Wedge at 0x20c8de7a2e8>,\n",
       "  <matplotlib.patches.Wedge at 0x20c8de7ad30>],\n",
       " [Text(1.0999999388312116, 0.0003668396529731221, '初中及以下'),\n",
       "  Text(1.0999880109381792, 0.005135736779506383, '博士'),\n",
       "  Text(0.5979042787235421, 0.9233149373231655, '大专'),\n",
       "  Text(-0.6711685070300838, -0.8715118101156223, '本科'),\n",
       "  Text(1.0962400186488368, -0.09087255643371238, '硕士'),\n",
       "  Text(1.0999836815467305, -0.005991688484976911, '高中')],\n",
       " [Text(0.5999999666352063, 0.0002000943561671575, '0.0%'),\n",
       "  Text(0.599993460511734, 0.0028013109706398454, '0.1%'),\n",
       "  Text(0.3261296065764775, 0.5036263294489993, '31.4%'),\n",
       "  Text(-0.36609191292550025, -0.4753700782448848, '66.0%'),\n",
       "  Text(0.5979491010811836, -0.049566848963843106, '2.3%'),\n",
       "  Text(0.5999910990254893, -0.0032681937190783147, '0.2%')])"
      ]
     },
     "execution_count": 35,
     "metadata": {},
     "output_type": "execute_result"
    },
    {
     "data": {
      "image/png": "[encoded data removed]",
      "text/plain": [
       "<Figure size 720x576 with 1 Axes>"
      ]
     },
     "metadata": {},
     "output_type": "display_data"
    }
   ],
   "source": [
    "plt.figure(figsize=(10,8))\n",
    "plt.pie(edu_counts.values, labels=edu_counts.index, autopct='%1.1f%%')"
   ]
  },
  {
   "cell_type": "code",
   "execution_count": 36,
   "metadata": {},
   "outputs": [
    {
     "data": {
      "text/html": [
       "<style  type=\"text/css\" >\n",
       "</style>  \n",
       "<table id=\"T_daeaaf14_ce68_11e9_b2fa_701ce71031ef\" > \n",
       "<thead>    <tr> \n",
       "        <th class=\"col_heading level0 col0\" >edu</th> \n",
       "        <th class=\"col_heading level0 col1\" >salary_mean</th> \n",
       "        <th class=\"col_heading level0 col2\" >salary_95_min</th> \n",
       "        <th class=\"col_heading level0 col3\" >salary_median</th> \n",
       "        <th class=\"col_heading level0 col4\" >salary_95_max</th> \n",
       "        <th class=\"col_heading level0 col5\" >head_count</th> \n",
       "        <th class=\"col_heading level0 col6\" >percentage</th> \n",
       "    </tr></thead> \n",
       "<tbody>    <tr> \n",
       "        <td id=\"T_daeaaf14_ce68_11e9_b2fa_701ce71031efrow0_col0\" class=\"data row0 col0\" >博士</td> \n",
       "        <td id=\"T_daeaaf14_ce68_11e9_b2fa_701ce71031efrow0_col1\" class=\"data row0 col1\" >27213</td> \n",
       "        <td id=\"T_daeaaf14_ce68_11e9_b2fa_701ce71031efrow0_col2\" class=\"data row0 col2\" >11033</td> \n",
       "        <td id=\"T_daeaaf14_ce68_11e9_b2fa_701ce71031efrow0_col3\" class=\"data row0 col3\" >22500</td> \n",
       "        <td id=\"T_daeaaf14_ce68_11e9_b2fa_701ce71031efrow0_col4\" class=\"data row0 col4\" >60000</td> \n",
       "        <td id=\"T_daeaaf14_ce68_11e9_b2fa_701ce71031efrow0_col5\" class=\"data row0 col5\" >36</td> \n",
       "        <td id=\"T_daeaaf14_ce68_11e9_b2fa_701ce71031efrow0_col6\" class=\"data row0 col6\" >0.13%</td> \n",
       "    </tr>    <tr> \n",
       "        <td id=\"T_daeaaf14_ce68_11e9_b2fa_701ce71031efrow1_col0\" class=\"data row1 col0\" >硕士</td> \n",
       "        <td id=\"T_daeaaf14_ce68_11e9_b2fa_701ce71031efrow1_col1\" class=\"data row1 col1\" >21025</td> \n",
       "        <td id=\"T_daeaaf14_ce68_11e9_b2fa_701ce71031efrow1_col2\" class=\"data row1 col2\" >7000</td> \n",
       "        <td id=\"T_daeaaf14_ce68_11e9_b2fa_701ce71031efrow1_col3\" class=\"data row1 col3\" >20000</td> \n",
       "        <td id=\"T_daeaaf14_ce68_11e9_b2fa_701ce71031efrow1_col4\" class=\"data row1 col4\" >48238</td> \n",
       "        <td id=\"T_daeaaf14_ce68_11e9_b2fa_701ce71031efrow1_col5\" class=\"data row1 col5\" >646</td> \n",
       "        <td id=\"T_daeaaf14_ce68_11e9_b2fa_701ce71031efrow1_col6\" class=\"data row1 col6\" >2.29%</td> \n",
       "    </tr>    <tr> \n",
       "        <td id=\"T_daeaaf14_ce68_11e9_b2fa_701ce71031efrow2_col0\" class=\"data row2 col0\" >本科</td> \n",
       "        <td id=\"T_daeaaf14_ce68_11e9_b2fa_701ce71031efrow2_col1\" class=\"data row2 col1\" >17383</td> \n",
       "        <td id=\"T_daeaaf14_ce68_11e9_b2fa_701ce71031efrow2_col2\" class=\"data row2 col2\" >6500</td> \n",
       "        <td id=\"T_daeaaf14_ce68_11e9_b2fa_701ce71031efrow2_col3\" class=\"data row2 col3\" >16000</td> \n",
       "        <td id=\"T_daeaaf14_ce68_11e9_b2fa_701ce71031efrow2_col4\" class=\"data row2 col4\" >35840</td> \n",
       "        <td id=\"T_daeaaf14_ce68_11e9_b2fa_701ce71031efrow2_col5\" class=\"data row2 col5\" >18644</td> \n",
       "        <td id=\"T_daeaaf14_ce68_11e9_b2fa_701ce71031efrow2_col6\" class=\"data row2 col6\" >65.97%</td> \n",
       "    </tr>    <tr> \n",
       "        <td id=\"T_daeaaf14_ce68_11e9_b2fa_701ce71031efrow3_col0\" class=\"data row3 col0\" >大专</td> \n",
       "        <td id=\"T_daeaaf14_ce68_11e9_b2fa_701ce71031efrow3_col1\" class=\"data row3 col1\" >14578</td> \n",
       "        <td id=\"T_daeaaf14_ce68_11e9_b2fa_701ce71031efrow3_col2\" class=\"data row3 col2\" >3750</td> \n",
       "        <td id=\"T_daeaaf14_ce68_11e9_b2fa_701ce71031efrow3_col3\" class=\"data row3 col3\" >12500</td> \n",
       "        <td id=\"T_daeaaf14_ce68_11e9_b2fa_701ce71031efrow3_col4\" class=\"data row3 col4\" >30000</td> \n",
       "        <td id=\"T_daeaaf14_ce68_11e9_b2fa_701ce71031efrow3_col5\" class=\"data row3 col5\" >8883</td> \n",
       "        <td id=\"T_daeaaf14_ce68_11e9_b2fa_701ce71031efrow3_col6\" class=\"data row3 col6\" >31.43%</td> \n",
       "    </tr>    <tr> \n",
       "        <td id=\"T_daeaaf14_ce68_11e9_b2fa_701ce71031efrow4_col0\" class=\"data row4 col0\" >高中</td> \n",
       "        <td id=\"T_daeaaf14_ce68_11e9_b2fa_701ce71031efrow4_col1\" class=\"data row4 col1\" >14082</td> \n",
       "        <td id=\"T_daeaaf14_ce68_11e9_b2fa_701ce71031efrow4_col2\" class=\"data row4 col2\" >3750</td> \n",
       "        <td id=\"T_daeaaf14_ce68_11e9_b2fa_701ce71031efrow4_col3\" class=\"data row4 col3\" >7000</td> \n",
       "        <td id=\"T_daeaaf14_ce68_11e9_b2fa_701ce71031efrow4_col4\" class=\"data row4 col4\" >60000</td> \n",
       "        <td id=\"T_daeaaf14_ce68_11e9_b2fa_701ce71031efrow4_col5\" class=\"data row4 col5\" >49</td> \n",
       "        <td id=\"T_daeaaf14_ce68_11e9_b2fa_701ce71031efrow4_col6\" class=\"data row4 col6\" >0.17%</td> \n",
       "    </tr>    <tr> \n",
       "        <td id=\"T_daeaaf14_ce68_11e9_b2fa_701ce71031efrow5_col0\" class=\"data row5 col0\" >初中及以下</td> \n",
       "        <td id=\"T_daeaaf14_ce68_11e9_b2fa_701ce71031efrow5_col1\" class=\"data row5 col1\" >12500</td> \n",
       "        <td id=\"T_daeaaf14_ce68_11e9_b2fa_701ce71031efrow5_col2\" class=\"data row5 col2\" >12500</td> \n",
       "        <td id=\"T_daeaaf14_ce68_11e9_b2fa_701ce71031efrow5_col3\" class=\"data row5 col3\" >12500</td> \n",
       "        <td id=\"T_daeaaf14_ce68_11e9_b2fa_701ce71031efrow5_col4\" class=\"data row5 col4\" >12500</td> \n",
       "        <td id=\"T_daeaaf14_ce68_11e9_b2fa_701ce71031efrow5_col5\" class=\"data row5 col5\" >3</td> \n",
       "        <td id=\"T_daeaaf14_ce68_11e9_b2fa_701ce71031efrow5_col6\" class=\"data row5 col6\" >0.01%</td> \n",
       "    </tr></tbody> \n",
       "</table> "
      ],
      "text/plain": [
       "<pandas.io.formats.style.Styler at 0x20c8e993278>"
      ]
     },
     "execution_count": 36,
     "metadata": {},
     "output_type": "execute_result"
    }
   ],
   "source": [
    "data_edu=get_sub_stats_by_col(data[data.edu.isin(['初中及以下','高中','大专','本科','硕士','博士'])], 'edu')\n",
    "apply_style(data_edu)"
   ]
  },
  {
   "cell_type": "code",
   "execution_count": 37,
   "metadata": {},
   "outputs": [],
   "source": [
    "salary_associate=data[data.edu=='大专'].monthly_salary\n",
    "salary_bachelor=data[data.edu=='本科'].monthly_salary\n",
    "salary_master=data[data.edu=='硕士'].monthly_salary\n",
    "salary_phd=data[data.edu=='博士'].monthly_salary"
   ]
  },
  {
   "cell_type": "code",
   "execution_count": null,
   "metadata": {},
   "outputs": [],
   "source": []
  },
  {
   "cell_type": "code",
   "execution_count": 38,
   "metadata": {},
   "outputs": [
    {
     "name": "stdout",
     "output_type": "stream",
     "text": [
      "大专，本科，硕士，博士的平均工资分别是14997，17651，21161，32657。中位数分别是14000， 17500，20000， 37500。\n"
     ]
    }
   ],
   "source": [
    "print('大专，本科，硕士，博士的平均工资分别是{:.0f}，{:.0f}，{:.0f}，{:.0f}。中位数分别是{:.0f}， {:.0f}，{:.0f}， {:.0f}。'.format(\n",
    "    salary_associate.mean(),salary_bachelor.mean(),salary_master.mean(),salary_phd.mean(),\n",
    "    salary_associate.median(),salary_bachelor.median(),salary_master.median(),salary_phd.median()))"
   ]
  },
  {
   "cell_type": "code",
   "execution_count": 39,
   "metadata": {},
   "outputs": [
    {
     "data": {
      "text/plain": [
       "F_onewayResult(statistic=18.770590847060635, pvalue=2.1397627108513435e-05)"
      ]
     },
     "execution_count": 39,
     "metadata": {},
     "output_type": "execute_result"
    }
   ],
   "source": [
    "stats.f_oneway(salary_phd, salary_master)"
   ]
  },
  {
   "cell_type": "code",
   "execution_count": 40,
   "metadata": {},
   "outputs": [
    {
     "data": {
      "text/plain": [
       "F_onewayResult(statistic=48.77591548961803, pvalue=3.1548321494668512e-12)"
      ]
     },
     "execution_count": 40,
     "metadata": {},
     "output_type": "execute_result"
    }
   ],
   "source": [
    "stats.f_oneway(salary_master, salary_bachelor)"
   ]
  },
  {
   "cell_type": "code",
   "execution_count": 41,
   "metadata": {},
   "outputs": [
    {
     "data": {
      "text/plain": [
       "F_onewayResult(statistic=250.54969332103445, pvalue=1.1557471866168965e-55)"
      ]
     },
     "execution_count": 41,
     "metadata": {},
     "output_type": "execute_result"
    }
   ],
   "source": [
    "stats.f_oneway(salary_bachelor, salary_associate)"
   ]
  },
  {
   "cell_type": "markdown",
   "metadata": {},
   "source": [
    "经过Oneway Anova Test，证明从大专到博士，学历每提高一级，工资都有显著的提高。"
   ]
  },
  {
   "cell_type": "code",
   "execution_count": 42,
   "metadata": {},
   "outputs": [
    {
     "data": {
      "image/png": "[encoded data removed]",
      "text/plain": [
       "<Figure size 432x288 with 1 Axes>"
      ]
     },
     "metadata": {
      "needs_background": "light"
     },
     "output_type": "display_data"
    }
   ],
   "source": [
    "\n",
    "order=['大专','本科','硕士','博士']\n",
    "a=sns.boxplot(y='edu',x='monthly_salary',order=order,data=data[data.edu.isin(order)], orient='h')\n",
    "plt.annotate('https://github.com/juwikuang/job_survey', xy=(0.5,1.5), xytext=(2, 1.55))\n",
    "plt.show()"
   ]
  },
  {
   "cell_type": "markdown",
   "metadata": {},
   "source": [
    "# 工作经验 Working Experience"
   ]
  },
  {
   "cell_type": "code",
   "execution_count": 43,
   "metadata": {},
   "outputs": [
    {
     "data": {
      "text/html": [
       "<style  type=\"text/css\" >\n",
       "</style>  \n",
       "<table id=\"T_db151b9c_ce68_11e9_8fc7_701ce71031ef\" > \n",
       "<thead>    <tr> \n",
       "        <th class=\"col_heading level0 col0\" >experience</th> \n",
       "        <th class=\"col_heading level0 col1\" >salary_mean</th> \n",
       "        <th class=\"col_heading level0 col2\" >salary_95_min</th> \n",
       "        <th class=\"col_heading level0 col3\" >salary_median</th> \n",
       "        <th class=\"col_heading level0 col4\" >salary_95_max</th> \n",
       "        <th class=\"col_heading level0 col5\" >head_count</th> \n",
       "        <th class=\"col_heading level0 col6\" >percentage</th> \n",
       "    </tr></thead> \n",
       "<tbody>    <tr> \n",
       "        <td id=\"T_db151b9c_ce68_11e9_8fc7_701ce71031efrow0_col0\" class=\"data row0 col0\" >10+</td> \n",
       "        <td id=\"T_db151b9c_ce68_11e9_8fc7_701ce71031efrow0_col1\" class=\"data row0 col1\" >27084</td> \n",
       "        <td id=\"T_db151b9c_ce68_11e9_8fc7_701ce71031efrow0_col2\" class=\"data row0 col2\" >8875</td> \n",
       "        <td id=\"T_db151b9c_ce68_11e9_8fc7_701ce71031efrow0_col3\" class=\"data row0 col3\" >27500</td> \n",
       "        <td id=\"T_db151b9c_ce68_11e9_8fc7_701ce71031efrow0_col4\" class=\"data row0 col4\" >51736</td> \n",
       "        <td id=\"T_db151b9c_ce68_11e9_8fc7_701ce71031efrow0_col5\" class=\"data row0 col5\" >115</td> \n",
       "        <td id=\"T_db151b9c_ce68_11e9_8fc7_701ce71031efrow0_col6\" class=\"data row0 col6\" >0.34%</td> \n",
       "    </tr>    <tr> \n",
       "        <td id=\"T_db151b9c_ce68_11e9_8fc7_701ce71031efrow1_col0\" class=\"data row1 col0\" >5_10</td> \n",
       "        <td id=\"T_db151b9c_ce68_11e9_8fc7_701ce71031efrow1_col1\" class=\"data row1 col1\" >21305</td> \n",
       "        <td id=\"T_db151b9c_ce68_11e9_8fc7_701ce71031efrow1_col2\" class=\"data row1 col2\" >11500</td> \n",
       "        <td id=\"T_db151b9c_ce68_11e9_8fc7_701ce71031efrow1_col3\" class=\"data row1 col3\" >20000</td> \n",
       "        <td id=\"T_db151b9c_ce68_11e9_8fc7_701ce71031efrow1_col4\" class=\"data row1 col4\" >40000</td> \n",
       "        <td id=\"T_db151b9c_ce68_11e9_8fc7_701ce71031efrow1_col5\" class=\"data row1 col5\" >5736</td> \n",
       "        <td id=\"T_db151b9c_ce68_11e9_8fc7_701ce71031efrow1_col6\" class=\"data row1 col6\" >16.87%</td> \n",
       "    </tr>    <tr> \n",
       "        <td id=\"T_db151b9c_ce68_11e9_8fc7_701ce71031efrow2_col0\" class=\"data row2 col0\" >3_5</td> \n",
       "        <td id=\"T_db151b9c_ce68_11e9_8fc7_701ce71031efrow2_col1\" class=\"data row2 col1\" >17138</td> \n",
       "        <td id=\"T_db151b9c_ce68_11e9_8fc7_701ce71031efrow2_col2\" class=\"data row2 col2\" >9000</td> \n",
       "        <td id=\"T_db151b9c_ce68_11e9_8fc7_701ce71031efrow2_col3\" class=\"data row2 col3\" >15000</td> \n",
       "        <td id=\"T_db151b9c_ce68_11e9_8fc7_701ce71031efrow2_col4\" class=\"data row2 col4\" >34800</td> \n",
       "        <td id=\"T_db151b9c_ce68_11e9_8fc7_701ce71031efrow2_col5\" class=\"data row2 col5\" >10628</td> \n",
       "        <td id=\"T_db151b9c_ce68_11e9_8fc7_701ce71031efrow2_col6\" class=\"data row2 col6\" >31.26%</td> \n",
       "    </tr>    <tr> \n",
       "        <td id=\"T_db151b9c_ce68_11e9_8fc7_701ce71031efrow3_col0\" class=\"data row3 col0\" >no</td> \n",
       "        <td id=\"T_db151b9c_ce68_11e9_8fc7_701ce71031efrow3_col1\" class=\"data row3 col1\" >14752</td> \n",
       "        <td id=\"T_db151b9c_ce68_11e9_8fc7_701ce71031efrow3_col2\" class=\"data row3 col2\" >3750</td> \n",
       "        <td id=\"T_db151b9c_ce68_11e9_8fc7_701ce71031efrow3_col3\" class=\"data row3 col3\" >12500</td> \n",
       "        <td id=\"T_db151b9c_ce68_11e9_8fc7_701ce71031efrow3_col4\" class=\"data row3 col4\" >35000</td> \n",
       "        <td id=\"T_db151b9c_ce68_11e9_8fc7_701ce71031efrow3_col5\" class=\"data row3 col5\" >9988</td> \n",
       "        <td id=\"T_db151b9c_ce68_11e9_8fc7_701ce71031efrow3_col6\" class=\"data row3 col6\" >29.38%</td> \n",
       "    </tr>    <tr> \n",
       "        <td id=\"T_db151b9c_ce68_11e9_8fc7_701ce71031efrow4_col0\" class=\"data row4 col0\" >1_3</td> \n",
       "        <td id=\"T_db151b9c_ce68_11e9_8fc7_701ce71031efrow4_col1\" class=\"data row4 col1\" >13539</td> \n",
       "        <td id=\"T_db151b9c_ce68_11e9_8fc7_701ce71031efrow4_col2\" class=\"data row4 col2\" >7000</td> \n",
       "        <td id=\"T_db151b9c_ce68_11e9_8fc7_701ce71031efrow4_col3\" class=\"data row4 col3\" >12500</td> \n",
       "        <td id=\"T_db151b9c_ce68_11e9_8fc7_701ce71031efrow4_col4\" class=\"data row4 col4\" >29000</td> \n",
       "        <td id=\"T_db151b9c_ce68_11e9_8fc7_701ce71031efrow4_col5\" class=\"data row4 col5\" >7533</td> \n",
       "        <td id=\"T_db151b9c_ce68_11e9_8fc7_701ce71031efrow4_col6\" class=\"data row4 col6\" >22.16%</td> \n",
       "    </tr></tbody> \n",
       "</table> "
      ],
      "text/plain": [
       "<pandas.io.formats.style.Styler at 0x20c8e993470>"
      ]
     },
     "execution_count": 43,
     "metadata": {},
     "output_type": "execute_result"
    }
   ],
   "source": [
    "data_experience=get_sub_stats_by_col(data, 'experience')\n",
    "apply_style(data_experience)"
   ]
  },
  {
   "cell_type": "code",
   "execution_count": 44,
   "metadata": {},
   "outputs": [],
   "source": [
    "salary_we_10=data[data.experience=='10+'].monthly_salary\n",
    "salary_we_5_10=data[data.experience=='5_10'].monthly_salary\n",
    "salary_we_3_5=data[data.experience=='3_5'].monthly_salary\n",
    "salary_we_1_3=data[data.experience=='1_3'].monthly_salary\n",
    "salary_we_no=data[data.experience=='no'].monthly_salary"
   ]
  },
  {
   "cell_type": "code",
   "execution_count": 45,
   "metadata": {},
   "outputs": [
    {
     "data": {
      "image/png": "[encoded data removed]",
      "text/plain": [
       "<Figure size 432x288 with 1 Axes>"
      ]
     },
     "metadata": {
      "needs_background": "light"
     },
     "output_type": "display_data"
    }
   ],
   "source": [
    "\n",
    "order=['10+','5_10','3_5','1_3']\n",
    "sns.boxplot(y='experience',x='monthly_salary',order=order,data=data[data.experience.isin(order)], orient='h')\n",
    "plt.annotate('https://github.com/juwikuang/job_survey', xy=(1.5,1.5), xytext=(1.55, 1.55))\n",
    "plt.show()"
   ]
  },
  {
   "cell_type": "markdown",
   "metadata": {},
   "source": [
    "# 公司 Company"
   ]
  },
  {
   "cell_type": "markdown",
   "metadata": {},
   "source": [
    "## 公司性质 Company Type"
   ]
  },
  {
   "cell_type": "code",
   "execution_count": 46,
   "metadata": {},
   "outputs": [
    {
     "data": {
      "text/html": [
       "<style  type=\"text/css\" >\n",
       "</style>  \n",
       "<table id=\"T_db365eec_ce68_11e9_81ae_701ce71031ef\" > \n",
       "<thead>    <tr> \n",
       "        <th class=\"col_heading level0 col0\" >company_type</th> \n",
       "        <th class=\"col_heading level0 col1\" >salary_mean</th> \n",
       "        <th class=\"col_heading level0 col2\" >salary_95_min</th> \n",
       "        <th class=\"col_heading level0 col3\" >salary_median</th> \n",
       "        <th class=\"col_heading level0 col4\" >salary_95_max</th> \n",
       "        <th class=\"col_heading level0 col5\" >head_count</th> \n",
       "        <th class=\"col_heading level0 col6\" >percentage</th> \n",
       "    </tr></thead> \n",
       "<tbody>    <tr> \n",
       "        <td id=\"T_db365eec_ce68_11e9_81ae_701ce71031efrow0_col0\" class=\"data row0 col0\" >外资（欧美）</td> \n",
       "        <td id=\"T_db365eec_ce68_11e9_81ae_701ce71031efrow0_col1\" class=\"data row0 col1\" >20495</td> \n",
       "        <td id=\"T_db365eec_ce68_11e9_81ae_701ce71031efrow0_col2\" class=\"data row0 col2\" >7000</td> \n",
       "        <td id=\"T_db365eec_ce68_11e9_81ae_701ce71031efrow0_col3\" class=\"data row0 col3\" >18450</td> \n",
       "        <td id=\"T_db365eec_ce68_11e9_81ae_701ce71031efrow0_col4\" class=\"data row0 col4\" >45033</td> \n",
       "        <td id=\"T_db365eec_ce68_11e9_81ae_701ce71031efrow0_col5\" class=\"data row0 col5\" >1852</td> \n",
       "        <td id=\"T_db365eec_ce68_11e9_81ae_701ce71031efrow0_col6\" class=\"data row0 col6\" >5.45%</td> \n",
       "    </tr>    <tr> \n",
       "        <td id=\"T_db365eec_ce68_11e9_81ae_701ce71031efrow1_col0\" class=\"data row1 col0\" >外企代表处</td> \n",
       "        <td id=\"T_db365eec_ce68_11e9_81ae_701ce71031efrow1_col1\" class=\"data row1 col1\" >17375</td> \n",
       "        <td id=\"T_db365eec_ce68_11e9_81ae_701ce71031efrow1_col2\" class=\"data row1 col2\" >12500</td> \n",
       "        <td id=\"T_db365eec_ce68_11e9_81ae_701ce71031efrow1_col3\" class=\"data row1 col3\" >17000</td> \n",
       "        <td id=\"T_db365eec_ce68_11e9_81ae_701ce71031efrow1_col4\" class=\"data row1 col4\" >21000</td> \n",
       "        <td id=\"T_db365eec_ce68_11e9_81ae_701ce71031efrow1_col5\" class=\"data row1 col5\" >4</td> \n",
       "        <td id=\"T_db365eec_ce68_11e9_81ae_701ce71031efrow1_col6\" class=\"data row1 col6\" >0.01%</td> \n",
       "    </tr>    <tr> \n",
       "        <td id=\"T_db365eec_ce68_11e9_81ae_701ce71031efrow2_col0\" class=\"data row2 col0\" >民营公司</td> \n",
       "        <td id=\"T_db365eec_ce68_11e9_81ae_701ce71031efrow2_col1\" class=\"data row2 col1\" >16242</td> \n",
       "        <td id=\"T_db365eec_ce68_11e9_81ae_701ce71031efrow2_col2\" class=\"data row2 col2\" >5331</td> \n",
       "        <td id=\"T_db365eec_ce68_11e9_81ae_701ce71031efrow2_col3\" class=\"data row2 col3\" >15000</td> \n",
       "        <td id=\"T_db365eec_ce68_11e9_81ae_701ce71031efrow2_col4\" class=\"data row2 col4\" >35000</td> \n",
       "        <td id=\"T_db365eec_ce68_11e9_81ae_701ce71031efrow2_col5\" class=\"data row2 col5\" >24677</td> \n",
       "        <td id=\"T_db365eec_ce68_11e9_81ae_701ce71031efrow2_col6\" class=\"data row2 col6\" >72.58%</td> \n",
       "    </tr>    <tr> \n",
       "        <td id=\"T_db365eec_ce68_11e9_81ae_701ce71031efrow3_col0\" class=\"data row3 col0\" >外资（非欧美）</td> \n",
       "        <td id=\"T_db365eec_ce68_11e9_81ae_701ce71031efrow3_col1\" class=\"data row3 col1\" >16112</td> \n",
       "        <td id=\"T_db365eec_ce68_11e9_81ae_701ce71031efrow3_col2\" class=\"data row3 col2\" >7000</td> \n",
       "        <td id=\"T_db365eec_ce68_11e9_81ae_701ce71031efrow3_col3\" class=\"data row3 col3\" >15000</td> \n",
       "        <td id=\"T_db365eec_ce68_11e9_81ae_701ce71031efrow3_col4\" class=\"data row3 col4\" >30000</td> \n",
       "        <td id=\"T_db365eec_ce68_11e9_81ae_701ce71031efrow3_col5\" class=\"data row3 col5\" >1910</td> \n",
       "        <td id=\"T_db365eec_ce68_11e9_81ae_701ce71031efrow3_col6\" class=\"data row3 col6\" >5.62%</td> \n",
       "    </tr>    <tr> \n",
       "        <td id=\"T_db365eec_ce68_11e9_81ae_701ce71031efrow4_col0\" class=\"data row4 col0\" >合资</td> \n",
       "        <td id=\"T_db365eec_ce68_11e9_81ae_701ce71031efrow4_col1\" class=\"data row4 col1\" >15949</td> \n",
       "        <td id=\"T_db365eec_ce68_11e9_81ae_701ce71031efrow4_col2\" class=\"data row4 col2\" >7000</td> \n",
       "        <td id=\"T_db365eec_ce68_11e9_81ae_701ce71031efrow4_col3\" class=\"data row4 col3\" >15000</td> \n",
       "        <td id=\"T_db365eec_ce68_11e9_81ae_701ce71031efrow4_col4\" class=\"data row4 col4\" >31250</td> \n",
       "        <td id=\"T_db365eec_ce68_11e9_81ae_701ce71031efrow4_col5\" class=\"data row4 col5\" >3604</td> \n",
       "        <td id=\"T_db365eec_ce68_11e9_81ae_701ce71031efrow4_col6\" class=\"data row4 col6\" >10.60%</td> \n",
       "    </tr>    <tr> \n",
       "        <td id=\"T_db365eec_ce68_11e9_81ae_701ce71031efrow5_col0\" class=\"data row5 col0\" >国企</td> \n",
       "        <td id=\"T_db365eec_ce68_11e9_81ae_701ce71031efrow5_col1\" class=\"data row5 col1\" >15308</td> \n",
       "        <td id=\"T_db365eec_ce68_11e9_81ae_701ce71031efrow5_col2\" class=\"data row5 col2\" >5250</td> \n",
       "        <td id=\"T_db365eec_ce68_11e9_81ae_701ce71031efrow5_col3\" class=\"data row5 col3\" >14000</td> \n",
       "        <td id=\"T_db365eec_ce68_11e9_81ae_701ce71031efrow5_col4\" class=\"data row5 col4\" >30000</td> \n",
       "        <td id=\"T_db365eec_ce68_11e9_81ae_701ce71031efrow5_col5\" class=\"data row5 col5\" >1842</td> \n",
       "        <td id=\"T_db365eec_ce68_11e9_81ae_701ce71031efrow5_col6\" class=\"data row5 col6\" >5.42%</td> \n",
       "    </tr>    <tr> \n",
       "        <td id=\"T_db365eec_ce68_11e9_81ae_701ce71031efrow6_col0\" class=\"data row6 col0\" >事业单位</td> \n",
       "        <td id=\"T_db365eec_ce68_11e9_81ae_701ce71031efrow6_col1\" class=\"data row6 col1\" >14592</td> \n",
       "        <td id=\"T_db365eec_ce68_11e9_81ae_701ce71031efrow6_col2\" class=\"data row6 col2\" >6500</td> \n",
       "        <td id=\"T_db365eec_ce68_11e9_81ae_701ce71031efrow6_col3\" class=\"data row6 col3\" >13583</td> \n",
       "        <td id=\"T_db365eec_ce68_11e9_81ae_701ce71031efrow6_col4\" class=\"data row6 col4\" >22875</td> \n",
       "        <td id=\"T_db365eec_ce68_11e9_81ae_701ce71031efrow6_col5\" class=\"data row6 col5\" >94</td> \n",
       "        <td id=\"T_db365eec_ce68_11e9_81ae_701ce71031efrow6_col6\" class=\"data row6 col6\" >0.28%</td> \n",
       "    </tr>    <tr> \n",
       "        <td id=\"T_db365eec_ce68_11e9_81ae_701ce71031efrow7_col0\" class=\"data row7 col0\" >非营利组织</td> \n",
       "        <td id=\"T_db365eec_ce68_11e9_81ae_701ce71031efrow7_col1\" class=\"data row7 col1\" >8882</td> \n",
       "        <td id=\"T_db365eec_ce68_11e9_81ae_701ce71031efrow7_col2\" class=\"data row7 col2\" >5250</td> \n",
       "        <td id=\"T_db365eec_ce68_11e9_81ae_701ce71031efrow7_col3\" class=\"data row7 col3\" >6833</td> \n",
       "        <td id=\"T_db365eec_ce68_11e9_81ae_701ce71031efrow7_col4\" class=\"data row7 col4\" >17500</td> \n",
       "        <td id=\"T_db365eec_ce68_11e9_81ae_701ce71031efrow7_col5\" class=\"data row7 col5\" >17</td> \n",
       "        <td id=\"T_db365eec_ce68_11e9_81ae_701ce71031efrow7_col6\" class=\"data row7 col6\" >0.05%</td> \n",
       "    </tr></tbody> \n",
       "</table> "
      ],
      "text/plain": [
       "<pandas.io.formats.style.Styler at 0x20c8cc807b8>"
      ]
     },
     "execution_count": 46,
     "metadata": {},
     "output_type": "execute_result"
    }
   ],
   "source": [
    "data_company_type=get_sub_stats_by_col(data,'company_type')\n",
    "apply_style(data_company_type)"
   ]
  },
  {
   "cell_type": "markdown",
   "metadata": {},
   "source": [
    "us_eu是欧美外企，startup是创业公司，listed是上市公司，state是国企，private是私企，foreign是非欧美外企，其他不足1000个样本的不管了。"
   ]
  },
  {
   "cell_type": "markdown",
   "metadata": {},
   "source": [
    "## 公司规模 Company Size"
   ]
  },
  {
   "cell_type": "code",
   "execution_count": 47,
   "metadata": {},
   "outputs": [
    {
     "data": {
      "text/html": [
       "<style  type=\"text/css\" >\n",
       "</style>  \n",
       "<table id=\"T_db3d146e_ce68_11e9_bb09_701ce71031ef\" > \n",
       "<thead>    <tr> \n",
       "        <th class=\"col_heading level0 col0\" >company_size</th> \n",
       "        <th class=\"col_heading level0 col1\" >salary_mean</th> \n",
       "        <th class=\"col_heading level0 col2\" >salary_95_min</th> \n",
       "        <th class=\"col_heading level0 col3\" >salary_median</th> \n",
       "        <th class=\"col_heading level0 col4\" >salary_95_max</th> \n",
       "        <th class=\"col_heading level0 col5\" >head_count</th> \n",
       "        <th class=\"col_heading level0 col6\" >percentage</th> \n",
       "    </tr></thead> \n",
       "<tbody>    <tr> \n",
       "        <td id=\"T_db3d146e_ce68_11e9_bb09_701ce71031efrow0_col0\" class=\"data row0 col0\" >10000+</td> \n",
       "        <td id=\"T_db3d146e_ce68_11e9_bb09_701ce71031efrow0_col1\" class=\"data row0 col1\" >19900</td> \n",
       "        <td id=\"T_db3d146e_ce68_11e9_bb09_701ce71031efrow0_col2\" class=\"data row0 col2\" >5250</td> \n",
       "        <td id=\"T_db3d146e_ce68_11e9_bb09_701ce71031efrow0_col3\" class=\"data row0 col3\" >17500</td> \n",
       "        <td id=\"T_db3d146e_ce68_11e9_bb09_701ce71031efrow0_col4\" class=\"data row0 col4\" >48050</td> \n",
       "        <td id=\"T_db3d146e_ce68_11e9_bb09_701ce71031efrow0_col5\" class=\"data row0 col5\" >818</td> \n",
       "        <td id=\"T_db3d146e_ce68_11e9_bb09_701ce71031efrow0_col6\" class=\"data row0 col6\" >2.41%</td> \n",
       "    </tr>    <tr> \n",
       "        <td id=\"T_db3d146e_ce68_11e9_bb09_701ce71031efrow1_col0\" class=\"data row1 col0\" >1000-5000</td> \n",
       "        <td id=\"T_db3d146e_ce68_11e9_bb09_701ce71031efrow1_col1\" class=\"data row1 col1\" >18838</td> \n",
       "        <td id=\"T_db3d146e_ce68_11e9_bb09_701ce71031efrow1_col2\" class=\"data row1 col2\" >7000</td> \n",
       "        <td id=\"T_db3d146e_ce68_11e9_bb09_701ce71031efrow1_col3\" class=\"data row1 col3\" >17500</td> \n",
       "        <td id=\"T_db3d146e_ce68_11e9_bb09_701ce71031efrow1_col4\" class=\"data row1 col4\" >40000</td> \n",
       "        <td id=\"T_db3d146e_ce68_11e9_bb09_701ce71031efrow1_col5\" class=\"data row1 col5\" >3801</td> \n",
       "        <td id=\"T_db3d146e_ce68_11e9_bb09_701ce71031efrow1_col6\" class=\"data row1 col6\" >11.18%</td> \n",
       "    </tr>    <tr> \n",
       "        <td id=\"T_db3d146e_ce68_11e9_bb09_701ce71031efrow2_col0\" class=\"data row2 col0\" >500-1000</td> \n",
       "        <td id=\"T_db3d146e_ce68_11e9_bb09_701ce71031efrow2_col1\" class=\"data row2 col1\" >18043</td> \n",
       "        <td id=\"T_db3d146e_ce68_11e9_bb09_701ce71031efrow2_col2\" class=\"data row2 col2\" >7000</td> \n",
       "        <td id=\"T_db3d146e_ce68_11e9_bb09_701ce71031efrow2_col3\" class=\"data row2 col3\" >17000</td> \n",
       "        <td id=\"T_db3d146e_ce68_11e9_bb09_701ce71031efrow2_col4\" class=\"data row2 col4\" >40000</td> \n",
       "        <td id=\"T_db3d146e_ce68_11e9_bb09_701ce71031efrow2_col5\" class=\"data row2 col5\" >3631</td> \n",
       "        <td id=\"T_db3d146e_ce68_11e9_bb09_701ce71031efrow2_col6\" class=\"data row2 col6\" >10.68%</td> \n",
       "    </tr>    <tr> \n",
       "        <td id=\"T_db3d146e_ce68_11e9_bb09_701ce71031efrow3_col0\" class=\"data row3 col0\" >150-500</td> \n",
       "        <td id=\"T_db3d146e_ce68_11e9_bb09_701ce71031efrow3_col1\" class=\"data row3 col1\" >16198</td> \n",
       "        <td id=\"T_db3d146e_ce68_11e9_bb09_701ce71031efrow3_col2\" class=\"data row3 col2\" >7000</td> \n",
       "        <td id=\"T_db3d146e_ce68_11e9_bb09_701ce71031efrow3_col3\" class=\"data row3 col3\" >15000</td> \n",
       "        <td id=\"T_db3d146e_ce68_11e9_bb09_701ce71031efrow3_col4\" class=\"data row3 col4\" >35000</td> \n",
       "        <td id=\"T_db3d146e_ce68_11e9_bb09_701ce71031efrow3_col5\" class=\"data row3 col5\" >9408</td> \n",
       "        <td id=\"T_db3d146e_ce68_11e9_bb09_701ce71031efrow3_col6\" class=\"data row3 col6\" >27.67%</td> \n",
       "    </tr>    <tr> \n",
       "        <td id=\"T_db3d146e_ce68_11e9_bb09_701ce71031efrow4_col0\" class=\"data row4 col0\" >5000-10000</td> \n",
       "        <td id=\"T_db3d146e_ce68_11e9_bb09_701ce71031efrow4_col1\" class=\"data row4 col1\" >15864</td> \n",
       "        <td id=\"T_db3d146e_ce68_11e9_bb09_701ce71031efrow4_col2\" class=\"data row4 col2\" >7000</td> \n",
       "        <td id=\"T_db3d146e_ce68_11e9_bb09_701ce71031efrow4_col3\" class=\"data row4 col3\" >15000</td> \n",
       "        <td id=\"T_db3d146e_ce68_11e9_bb09_701ce71031efrow4_col4\" class=\"data row4 col4\" >30000</td> \n",
       "        <td id=\"T_db3d146e_ce68_11e9_bb09_701ce71031efrow4_col5\" class=\"data row4 col5\" >747</td> \n",
       "        <td id=\"T_db3d146e_ce68_11e9_bb09_701ce71031efrow4_col6\" class=\"data row4 col6\" >2.20%</td> \n",
       "    </tr>    <tr> \n",
       "        <td id=\"T_db3d146e_ce68_11e9_bb09_701ce71031efrow5_col0\" class=\"data row5 col0\" >50-150</td> \n",
       "        <td id=\"T_db3d146e_ce68_11e9_bb09_701ce71031efrow5_col1\" class=\"data row5 col1\" >15721</td> \n",
       "        <td id=\"T_db3d146e_ce68_11e9_bb09_701ce71031efrow5_col2\" class=\"data row5 col2\" >4072</td> \n",
       "        <td id=\"T_db3d146e_ce68_11e9_bb09_701ce71031efrow5_col3\" class=\"data row5 col3\" >15000</td> \n",
       "        <td id=\"T_db3d146e_ce68_11e9_bb09_701ce71031efrow5_col4\" class=\"data row5 col4\" >30000</td> \n",
       "        <td id=\"T_db3d146e_ce68_11e9_bb09_701ce71031efrow5_col5\" class=\"data row5 col5\" >11152</td> \n",
       "        <td id=\"T_db3d146e_ce68_11e9_bb09_701ce71031efrow5_col6\" class=\"data row5 col6\" >32.80%</td> \n",
       "    </tr>    <tr> \n",
       "        <td id=\"T_db3d146e_ce68_11e9_bb09_701ce71031efrow6_col0\" class=\"data row6 col0\" >50-</td> \n",
       "        <td id=\"T_db3d146e_ce68_11e9_bb09_701ce71031efrow6_col1\" class=\"data row6 col1\" >14947</td> \n",
       "        <td id=\"T_db3d146e_ce68_11e9_bb09_701ce71031efrow6_col2\" class=\"data row6 col2\" >5462</td> \n",
       "        <td id=\"T_db3d146e_ce68_11e9_bb09_701ce71031efrow6_col3\" class=\"data row6 col3\" >13000</td> \n",
       "        <td id=\"T_db3d146e_ce68_11e9_bb09_701ce71031efrow6_col4\" class=\"data row6 col4\" >32500</td> \n",
       "        <td id=\"T_db3d146e_ce68_11e9_bb09_701ce71031efrow6_col5\" class=\"data row6 col5\" >3969</td> \n",
       "        <td id=\"T_db3d146e_ce68_11e9_bb09_701ce71031efrow6_col6\" class=\"data row6 col6\" >11.67%</td> \n",
       "    </tr>    <tr> \n",
       "        <td id=\"T_db3d146e_ce68_11e9_bb09_701ce71031efrow7_col0\" class=\"data row7 col0\" ></td> \n",
       "        <td id=\"T_db3d146e_ce68_11e9_bb09_701ce71031efrow7_col1\" class=\"data row7 col1\" >9527</td> \n",
       "        <td id=\"T_db3d146e_ce68_11e9_bb09_701ce71031efrow7_col2\" class=\"data row7 col2\" >7000</td> \n",
       "        <td id=\"T_db3d146e_ce68_11e9_bb09_701ce71031efrow7_col3\" class=\"data row7 col3\" >7000</td> \n",
       "        <td id=\"T_db3d146e_ce68_11e9_bb09_701ce71031efrow7_col4\" class=\"data row7 col4\" >27500</td> \n",
       "        <td id=\"T_db3d146e_ce68_11e9_bb09_701ce71031efrow7_col5\" class=\"data row7 col5\" >474</td> \n",
       "        <td id=\"T_db3d146e_ce68_11e9_bb09_701ce71031efrow7_col6\" class=\"data row7 col6\" >1.39%</td> \n",
       "    </tr></tbody> \n",
       "</table> "
      ],
      "text/plain": [
       "<pandas.io.formats.style.Styler at 0x20c8fdcada0>"
      ]
     },
     "execution_count": 47,
     "metadata": {},
     "output_type": "execute_result"
    }
   ],
   "source": [
    "data_company_size=get_sub_stats_by_col(data,'company_size')\n",
    "apply_style(data_company_size)"
   ]
  },
  {
   "cell_type": "markdown",
   "metadata": {},
   "source": [
    "公司越大，工资越高"
   ]
  },
  {
   "cell_type": "markdown",
   "metadata": {},
   "source": [
    "## 行业 Industry"
   ]
  },
  {
   "cell_type": "code",
   "execution_count": 48,
   "metadata": {},
   "outputs": [
    {
     "data": {
      "text/html": [
       "<style  type=\"text/css\" >\n",
       "</style>  \n",
       "<table id=\"T_db45c840_ce68_11e9_a738_701ce71031ef\" > \n",
       "<thead>    <tr> \n",
       "        <th class=\"col_heading level0 col0\" >industry</th> \n",
       "        <th class=\"col_heading level0 col1\" >salary_mean</th> \n",
       "        <th class=\"col_heading level0 col2\" >salary_95_min</th> \n",
       "        <th class=\"col_heading level0 col3\" >salary_median</th> \n",
       "        <th class=\"col_heading level0 col4\" >salary_95_max</th> \n",
       "        <th class=\"col_heading level0 col5\" >head_count</th> \n",
       "        <th class=\"col_heading level0 col6\" >percentage</th> \n",
       "    </tr></thead> \n",
       "<tbody>    <tr> \n",
       "        <td id=\"T_db45c840_ce68_11e9_a738_701ce71031efrow0_col0\" class=\"data row0 col0\" >service</td> \n",
       "        <td id=\"T_db45c840_ce68_11e9_a738_701ce71031efrow0_col1\" class=\"data row0 col1\" >19097</td> \n",
       "        <td id=\"T_db45c840_ce68_11e9_a738_701ce71031efrow0_col2\" class=\"data row0 col2\" >7000</td> \n",
       "        <td id=\"T_db45c840_ce68_11e9_a738_701ce71031efrow0_col3\" class=\"data row0 col3\" >17500</td> \n",
       "        <td id=\"T_db45c840_ce68_11e9_a738_701ce71031efrow0_col4\" class=\"data row0 col4\" >32992</td> \n",
       "        <td id=\"T_db45c840_ce68_11e9_a738_701ce71031efrow0_col5\" class=\"data row0 col5\" >261</td> \n",
       "        <td id=\"T_db45c840_ce68_11e9_a738_701ce71031efrow0_col6\" class=\"data row0 col6\" >0.77%</td> \n",
       "    </tr>    <tr> \n",
       "        <td id=\"T_db45c840_ce68_11e9_a738_701ce71031efrow1_col0\" class=\"data row1 col0\" >finance</td> \n",
       "        <td id=\"T_db45c840_ce68_11e9_a738_701ce71031efrow1_col1\" class=\"data row1 col1\" >18167</td> \n",
       "        <td id=\"T_db45c840_ce68_11e9_a738_701ce71031efrow1_col2\" class=\"data row1 col2\" >5250</td> \n",
       "        <td id=\"T_db45c840_ce68_11e9_a738_701ce71031efrow1_col3\" class=\"data row1 col3\" >17500</td> \n",
       "        <td id=\"T_db45c840_ce68_11e9_a738_701ce71031efrow1_col4\" class=\"data row1 col4\" >35000</td> \n",
       "        <td id=\"T_db45c840_ce68_11e9_a738_701ce71031efrow1_col5\" class=\"data row1 col5\" >1296</td> \n",
       "        <td id=\"T_db45c840_ce68_11e9_a738_701ce71031efrow1_col6\" class=\"data row1 col6\" >3.81%</td> \n",
       "    </tr>    <tr> \n",
       "        <td id=\"T_db45c840_ce68_11e9_a738_701ce71031efrow2_col0\" class=\"data row2 col0\" >ads</td> \n",
       "        <td id=\"T_db45c840_ce68_11e9_a738_701ce71031efrow2_col1\" class=\"data row2 col1\" >16968</td> \n",
       "        <td id=\"T_db45c840_ce68_11e9_a738_701ce71031efrow2_col2\" class=\"data row2 col2\" >6129</td> \n",
       "        <td id=\"T_db45c840_ce68_11e9_a738_701ce71031efrow2_col3\" class=\"data row2 col3\" >15000</td> \n",
       "        <td id=\"T_db45c840_ce68_11e9_a738_701ce71031efrow2_col4\" class=\"data row2 col4\" >50000</td> \n",
       "        <td id=\"T_db45c840_ce68_11e9_a738_701ce71031efrow2_col5\" class=\"data row2 col5\" >273</td> \n",
       "        <td id=\"T_db45c840_ce68_11e9_a738_701ce71031efrow2_col6\" class=\"data row2 col6\" >0.80%</td> \n",
       "    </tr>    <tr> \n",
       "        <td id=\"T_db45c840_ce68_11e9_a738_701ce71031efrow3_col0\" class=\"data row3 col0\" >computer</td> \n",
       "        <td id=\"T_db45c840_ce68_11e9_a738_701ce71031efrow3_col1\" class=\"data row3 col1\" >16521</td> \n",
       "        <td id=\"T_db45c840_ce68_11e9_a738_701ce71031efrow3_col2\" class=\"data row3 col2\" >5406</td> \n",
       "        <td id=\"T_db45c840_ce68_11e9_a738_701ce71031efrow3_col3\" class=\"data row3 col3\" >15000</td> \n",
       "        <td id=\"T_db45c840_ce68_11e9_a738_701ce71031efrow3_col4\" class=\"data row3 col4\" >35000</td> \n",
       "        <td id=\"T_db45c840_ce68_11e9_a738_701ce71031efrow3_col5\" class=\"data row3 col5\" >25298</td> \n",
       "        <td id=\"T_db45c840_ce68_11e9_a738_701ce71031efrow3_col6\" class=\"data row3 col6\" >74.41%</td> \n",
       "    </tr>    <tr> \n",
       "        <td id=\"T_db45c840_ce68_11e9_a738_701ce71031efrow4_col0\" class=\"data row4 col0\" >trade</td> \n",
       "        <td id=\"T_db45c840_ce68_11e9_a738_701ce71031efrow4_col1\" class=\"data row4 col1\" >16362</td> \n",
       "        <td id=\"T_db45c840_ce68_11e9_a738_701ce71031efrow4_col2\" class=\"data row4 col2\" >6000</td> \n",
       "        <td id=\"T_db45c840_ce68_11e9_a738_701ce71031efrow4_col3\" class=\"data row4 col3\" >15000</td> \n",
       "        <td id=\"T_db45c840_ce68_11e9_a738_701ce71031efrow4_col4\" class=\"data row4 col4\" >30750</td> \n",
       "        <td id=\"T_db45c840_ce68_11e9_a738_701ce71031efrow4_col5\" class=\"data row4 col5\" >1742</td> \n",
       "        <td id=\"T_db45c840_ce68_11e9_a738_701ce71031efrow4_col6\" class=\"data row4 col6\" >5.12%</td> \n",
       "    </tr>    <tr> \n",
       "        <td id=\"T_db45c840_ce68_11e9_a738_701ce71031efrow5_col0\" class=\"data row5 col0\" >logistic</td> \n",
       "        <td id=\"T_db45c840_ce68_11e9_a738_701ce71031efrow5_col1\" class=\"data row5 col1\" >15592</td> \n",
       "        <td id=\"T_db45c840_ce68_11e9_a738_701ce71031efrow5_col2\" class=\"data row5 col2\" >7804</td> \n",
       "        <td id=\"T_db45c840_ce68_11e9_a738_701ce71031efrow5_col3\" class=\"data row5 col3\" >14583</td> \n",
       "        <td id=\"T_db45c840_ce68_11e9_a738_701ce71031efrow5_col4\" class=\"data row5 col4\" >29374</td> \n",
       "        <td id=\"T_db45c840_ce68_11e9_a738_701ce71031efrow5_col5\" class=\"data row5 col5\" >406</td> \n",
       "        <td id=\"T_db45c840_ce68_11e9_a738_701ce71031efrow5_col6\" class=\"data row5 col6\" >1.19%</td> \n",
       "    </tr>    <tr> \n",
       "        <td id=\"T_db45c840_ce68_11e9_a738_701ce71031efrow6_col0\" class=\"data row6 col0\" >realestate</td> \n",
       "        <td id=\"T_db45c840_ce68_11e9_a738_701ce71031efrow6_col1\" class=\"data row6 col1\" >15556</td> \n",
       "        <td id=\"T_db45c840_ce68_11e9_a738_701ce71031efrow6_col2\" class=\"data row6 col2\" >7000</td> \n",
       "        <td id=\"T_db45c840_ce68_11e9_a738_701ce71031efrow6_col3\" class=\"data row6 col3\" >13667</td> \n",
       "        <td id=\"T_db45c840_ce68_11e9_a738_701ce71031efrow6_col4\" class=\"data row6 col4\" >29531</td> \n",
       "        <td id=\"T_db45c840_ce68_11e9_a738_701ce71031efrow6_col5\" class=\"data row6 col5\" >445</td> \n",
       "        <td id=\"T_db45c840_ce68_11e9_a738_701ce71031efrow6_col6\" class=\"data row6 col6\" >1.31%</td> \n",
       "    </tr>    <tr> \n",
       "        <td id=\"T_db45c840_ce68_11e9_a738_701ce71031efrow7_col0\" class=\"data row7 col0\" >energy</td> \n",
       "        <td id=\"T_db45c840_ce68_11e9_a738_701ce71031efrow7_col1\" class=\"data row7 col1\" >15544</td> \n",
       "        <td id=\"T_db45c840_ce68_11e9_a738_701ce71031efrow7_col2\" class=\"data row7 col2\" >2450</td> \n",
       "        <td id=\"T_db45c840_ce68_11e9_a738_701ce71031efrow7_col3\" class=\"data row7 col3\" >15000</td> \n",
       "        <td id=\"T_db45c840_ce68_11e9_a738_701ce71031efrow7_col4\" class=\"data row7 col4\" >31750</td> \n",
       "        <td id=\"T_db45c840_ce68_11e9_a738_701ce71031efrow7_col5\" class=\"data row7 col5\" >359</td> \n",
       "        <td id=\"T_db45c840_ce68_11e9_a738_701ce71031efrow7_col6\" class=\"data row7 col6\" >1.06%</td> \n",
       "    </tr>    <tr> \n",
       "        <td id=\"T_db45c840_ce68_11e9_a738_701ce71031efrow8_col0\" class=\"data row8 col0\" >gov</td> \n",
       "        <td id=\"T_db45c840_ce68_11e9_a738_701ce71031efrow8_col1\" class=\"data row8 col1\" >15357</td> \n",
       "        <td id=\"T_db45c840_ce68_11e9_a738_701ce71031efrow8_col2\" class=\"data row8 col2\" >7000</td> \n",
       "        <td id=\"T_db45c840_ce68_11e9_a738_701ce71031efrow8_col3\" class=\"data row8 col3\" >15000</td> \n",
       "        <td id=\"T_db45c840_ce68_11e9_a738_701ce71031efrow8_col4\" class=\"data row8 col4\" >28458</td> \n",
       "        <td id=\"T_db45c840_ce68_11e9_a738_701ce71031efrow8_col5\" class=\"data row8 col5\" >431</td> \n",
       "        <td id=\"T_db45c840_ce68_11e9_a738_701ce71031efrow8_col6\" class=\"data row8 col6\" >1.27%</td> \n",
       "    </tr>    <tr> \n",
       "        <td id=\"T_db45c840_ce68_11e9_a738_701ce71031efrow9_col0\" class=\"data row9 col0\" >medical</td> \n",
       "        <td id=\"T_db45c840_ce68_11e9_a738_701ce71031efrow9_col1\" class=\"data row9 col1\" >14984</td> \n",
       "        <td id=\"T_db45c840_ce68_11e9_a738_701ce71031efrow9_col2\" class=\"data row9 col2\" >7000</td> \n",
       "        <td id=\"T_db45c840_ce68_11e9_a738_701ce71031efrow9_col3\" class=\"data row9 col3\" >14000</td> \n",
       "        <td id=\"T_db45c840_ce68_11e9_a738_701ce71031efrow9_col4\" class=\"data row9 col4\" >27500</td> \n",
       "        <td id=\"T_db45c840_ce68_11e9_a738_701ce71031efrow9_col5\" class=\"data row9 col5\" >660</td> \n",
       "        <td id=\"T_db45c840_ce68_11e9_a738_701ce71031efrow9_col6\" class=\"data row9 col6\" >1.94%</td> \n",
       "    </tr>    <tr> \n",
       "        <td id=\"T_db45c840_ce68_11e9_a738_701ce71031efrow10_col0\" class=\"data row10 col0\" >edu</td> \n",
       "        <td id=\"T_db45c840_ce68_11e9_a738_701ce71031efrow10_col1\" class=\"data row10 col1\" >14796</td> \n",
       "        <td id=\"T_db45c840_ce68_11e9_a738_701ce71031efrow10_col2\" class=\"data row10 col2\" >7000</td> \n",
       "        <td id=\"T_db45c840_ce68_11e9_a738_701ce71031efrow10_col3\" class=\"data row10 col3\" >12500</td> \n",
       "        <td id=\"T_db45c840_ce68_11e9_a738_701ce71031efrow10_col4\" class=\"data row10 col4\" >35000</td> \n",
       "        <td id=\"T_db45c840_ce68_11e9_a738_701ce71031efrow10_col5\" class=\"data row10 col5\" >2829</td> \n",
       "        <td id=\"T_db45c840_ce68_11e9_a738_701ce71031efrow10_col6\" class=\"data row10 col6\" >8.32%</td> \n",
       "    </tr></tbody> \n",
       "</table> "
      ],
      "text/plain": [
       "<pandas.io.formats.style.Styler at 0x20c8e9352b0>"
      ]
     },
     "execution_count": 48,
     "metadata": {},
     "output_type": "execute_result"
    }
   ],
   "source": [
    "data_industry=get_sub_stats_by_col(data,'industry')\n",
    "apply_style(data_industry)"
   ]
  },
  {
   "cell_type": "code",
   "execution_count": null,
   "metadata": {},
   "outputs": [],
   "source": []
  },
  {
   "cell_type": "code",
   "execution_count": null,
   "metadata": {},
   "outputs": [],
   "source": []
  }
 ],
 "metadata": {
  "kernelspec": {
   "display_name": "Python 3",
   "language": "python",
   "name": "python3"
  },
  "language_info": {
   "codemirror_mode": {
    "name": "ipython",
    "version": 3
   },
   "file_extension": ".py",
   "mimetype": "text/x-python",
   "name": "python",
   "nbconvert_exporter": "python",
   "pygments_lexer": "ipython3",
   "version": "3.7.1"
  }
 },
 "nbformat": 4,
 "nbformat_minor": 2
}
