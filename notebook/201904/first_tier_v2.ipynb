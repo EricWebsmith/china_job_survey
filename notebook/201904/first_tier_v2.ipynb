{
 "cells": [
  {
   "cell_type": "markdown",
   "metadata": {},
   "source": [
    "# Developer Salary in First-Tier Cities 程序员工资调查\n",
    "我在4月1日到3日之间，抓取了某招聘网站的软件和互联网类招聘数据40万条，其中通过程序判断为程序员的14万条。地域方面，我选择了24个主要城市。不过本文只以一线城市为研究对象。这样是为了和我2017年6月的数据做对比。\n",
    "\n",
    "提到2017年的文章，现在居然还有很多人，把这篇文章拿出来炒作。对于社会来说，可气的是，他们直接把2017改成2019，就发表了，这不是骗人么？！对于我来说，可气的是，他们转载居然还冒充是原创，是可忍熟不可忍！"
   ]
  },
  {
   "cell_type": "code",
   "execution_count": 1,
   "metadata": {},
   "outputs": [],
   "source": [
    "import pandas as pd\n",
    "import sys\n",
    "sys.path.append('..')\n",
    "sys.path.append('../py')\n",
    "import db\n",
    "import inspect\n",
    "import matplotlib.pyplot as plt\n",
    "plt.rcParams['font.sans-serif']=['SimHei'] #用来正常显示中文标签\n",
    "plt.rcParams['axes.unicode_minus']=False #用来正常显示负号\n",
    "import seaborn as sns\n",
    "import scipy.stats as stats\n",
    "import numpy as np\n",
    "import weighted\n",
    "%matplotlib inline"
   ]
  },
  {
   "cell_type": "code",
   "execution_count": 12,
   "metadata": {},
   "outputs": [],
   "source": [
    "conn=db.get_conn()\n",
    "data_original=pd.read_sql(sql=\"select * from _201903v2 where monthly_salary>0 and monthly_salary<80000 and city in ('beijing','shanghai','guangzhou','shenzhen')  and monthly_salary<80000 and YEAR(publish_date)=2019 and MONTH(publish_date)=3  \", con=conn)\n",
    "conn.close()"
   ]
  },
  {
   "cell_type": "code",
   "execution_count": 13,
   "metadata": {},
   "outputs": [],
   "source": [
    "error_job_ids=['104660258','104142922','108434795','101357291','106253516','110368302','111391233','108665401','109277048'\n",
    "                  ,'73857191','108584955','102824950','102824949','111391233','110884556']\n",
    "data=data_original[~data_original.job_id.isin(error_job_ids)]"
   ]
  },
  {
   "cell_type": "code",
   "execution_count": 14,
   "metadata": {},
   "outputs": [],
   "source": [
    "#del data['publish_date']\n",
    "#del data['published_on_weekend']\n",
    "#del data['title']\n",
    "#del data['title']\n",
    "#del data['company_title']\n",
    "#del data['company_description']\n",
    "#del data['job_description']\n",
    "#del data['job_id']"
   ]
  },
  {
   "cell_type": "code",
   "execution_count": 15,
   "metadata": {},
   "outputs": [
    {
     "data": {
      "text/html": [
       "<div>\n",
       "<style scoped>\n",
       "    .dataframe tbody tr th:only-of-type {\n",
       "        vertical-align: middle;\n",
       "    }\n",
       "\n",
       "    .dataframe tbody tr th {\n",
       "        vertical-align: top;\n",
       "    }\n",
       "\n",
       "    .dataframe thead th {\n",
       "        text-align: right;\n",
       "    }\n",
       "</style>\n",
       "<table border=\"1\" class=\"dataframe\">\n",
       "  <thead>\n",
       "    <tr style=\"text-align: right;\">\n",
       "      <th></th>\n",
       "      <th>job_id</th>\n",
       "      <th>monthly_salary</th>\n",
       "      <th>headcount</th>\n",
       "      <th>title</th>\n",
       "      <th>career</th>\n",
       "      <th>city</th>\n",
       "      <th>company_description</th>\n",
       "      <th>company_size</th>\n",
       "      <th>company_title</th>\n",
       "      <th>company_type</th>\n",
       "      <th>...</th>\n",
       "      <th>pl_visual_basic</th>\n",
       "      <th>publish_date</th>\n",
       "      <th>published_on_weekend</th>\n",
       "      <th>tag_baby_care</th>\n",
       "      <th>tag_five_insurance</th>\n",
       "      <th>tag_flexible</th>\n",
       "      <th>tag_no_overtime</th>\n",
       "      <th>tag_rest_one_day</th>\n",
       "      <th>tag_rest_two_days</th>\n",
       "      <th>tag_stock</th>\n",
       "    </tr>\n",
       "  </thead>\n",
       "  <tbody>\n",
       "    <tr>\n",
       "      <th>12265</th>\n",
       "      <td>109606295</td>\n",
       "      <td>7000.0</td>\n",
       "      <td>450</td>\n",
       "      <td>网游公司招聘（游戏推广、维护、设计）</td>\n",
       "      <td>一般程序员</td>\n",
       "      <td>guangzhou</td>\n",
       "      <td>广州川山教育是集远程高等学历教育、职业化教育、各类培训考证于一体的综合性教育机构。自成立以来...</td>\n",
       "      <td>50-</td>\n",
       "      <td>广州川山教育科技有限公司</td>\n",
       "      <td>民营公司</td>\n",
       "      <td>...</td>\n",
       "      <td>False</td>\n",
       "      <td>2019-03-13</td>\n",
       "      <td>False</td>\n",
       "      <td>False</td>\n",
       "      <td>False</td>\n",
       "      <td>False</td>\n",
       "      <td>False</td>\n",
       "      <td>False</td>\n",
       "      <td>False</td>\n",
       "      <td>False</td>\n",
       "    </tr>\n",
       "    <tr>\n",
       "      <th>24089</th>\n",
       "      <td>75596794</td>\n",
       "      <td>7500.0</td>\n",
       "      <td>200</td>\n",
       "      <td>JAVA 工程师</td>\n",
       "      <td>一般程序员</td>\n",
       "      <td>shenzhen</td>\n",
       "      <td>四方精创资讯有限公司（简称四方精创），是从事金融行业it综合服务和软件协同服务的高端应用软件...</td>\n",
       "      <td>500-1000人</td>\n",
       "      <td>深圳四方精创资讯股份有限公司</td>\n",
       "      <td>合资</td>\n",
       "      <td>...</td>\n",
       "      <td>False</td>\n",
       "      <td>2019-03-26</td>\n",
       "      <td>False</td>\n",
       "      <td>False</td>\n",
       "      <td>True</td>\n",
       "      <td>False</td>\n",
       "      <td>False</td>\n",
       "      <td>False</td>\n",
       "      <td>False</td>\n",
       "      <td>False</td>\n",
       "    </tr>\n",
       "    <tr>\n",
       "      <th>17331</th>\n",
       "      <td>110969579</td>\n",
       "      <td>12500.0</td>\n",
       "      <td>200</td>\n",
       "      <td>JAVA开发工程师（2019届应届毕业生）</td>\n",
       "      <td>一般程序员</td>\n",
       "      <td>guangzhou</td>\n",
       "      <td>广州汇智通信技术有限公司是专业从事国家特殊通信系统研制工作的大型国有控股混合所有制企业。公司...</td>\n",
       "      <td>1000-5000</td>\n",
       "      <td>广州汇智通信技术有限公司</td>\n",
       "      <td>国企</td>\n",
       "      <td>...</td>\n",
       "      <td>False</td>\n",
       "      <td>2019-03-31</td>\n",
       "      <td>True</td>\n",
       "      <td>False</td>\n",
       "      <td>True</td>\n",
       "      <td>False</td>\n",
       "      <td>False</td>\n",
       "      <td>False</td>\n",
       "      <td>False</td>\n",
       "      <td>False</td>\n",
       "    </tr>\n",
       "    <tr>\n",
       "      <th>16825</th>\n",
       "      <td>110864187</td>\n",
       "      <td>7000.0</td>\n",
       "      <td>150</td>\n",
       "      <td>初级测试工程师</td>\n",
       "      <td>一般程序员</td>\n",
       "      <td>beijing</td>\n",
       "      <td>···</td>\n",
       "      <td>50-150</td>\n",
       "      <td>北京领航绿色科技有限公司</td>\n",
       "      <td>民营公司</td>\n",
       "      <td>...</td>\n",
       "      <td>False</td>\n",
       "      <td>2019-03-26</td>\n",
       "      <td>False</td>\n",
       "      <td>False</td>\n",
       "      <td>True</td>\n",
       "      <td>False</td>\n",
       "      <td>False</td>\n",
       "      <td>False</td>\n",
       "      <td>False</td>\n",
       "      <td>False</td>\n",
       "    </tr>\n",
       "    <tr>\n",
       "      <th>10363</th>\n",
       "      <td>108834444</td>\n",
       "      <td>15000.0</td>\n",
       "      <td>150</td>\n",
       "      <td>Java开发工程师</td>\n",
       "      <td>一般程序员</td>\n",
       "      <td>beijing</td>\n",
       "      <td>大连华信计算机技术股份有限公司（简称大连华信）是一家面向全球客户提供领先的应用软件产品、信息...</td>\n",
       "      <td>5000-10000</td>\n",
       "      <td>大连华信计算机技术股份有限公司</td>\n",
       "      <td>合资</td>\n",
       "      <td>...</td>\n",
       "      <td>False</td>\n",
       "      <td>2019-03-29</td>\n",
       "      <td>False</td>\n",
       "      <td>False</td>\n",
       "      <td>True</td>\n",
       "      <td>False</td>\n",
       "      <td>False</td>\n",
       "      <td>False</td>\n",
       "      <td>False</td>\n",
       "      <td>False</td>\n",
       "    </tr>\n",
       "  </tbody>\n",
       "</table>\n",
       "<p>5 rows × 90 columns</p>\n",
       "</div>"
      ],
      "text/plain": [
       "          job_id  monthly_salary  headcount                  title career  \\\n",
       "12265  109606295          7000.0        450     网游公司招聘（游戏推广、维护、设计）  一般程序员   \n",
       "24089   75596794          7500.0        200               JAVA 工程师  一般程序员   \n",
       "17331  110969579         12500.0        200  JAVA开发工程师（2019届应届毕业生）  一般程序员   \n",
       "16825  110864187          7000.0        150                初级测试工程师  一般程序员   \n",
       "10363  108834444         15000.0        150              Java开发工程师  一般程序员   \n",
       "\n",
       "            city                                company_description  \\\n",
       "12265  guangzhou  广州川山教育是集远程高等学历教育、职业化教育、各类培训考证于一体的综合性教育机构。自成立以来...   \n",
       "24089   shenzhen  四方精创资讯有限公司（简称四方精创），是从事金融行业it综合服务和软件协同服务的高端应用软件...   \n",
       "17331  guangzhou  广州汇智通信技术有限公司是专业从事国家特殊通信系统研制工作的大型国有控股混合所有制企业。公司...   \n",
       "16825    beijing                                                ···   \n",
       "10363    beijing  大连华信计算机技术股份有限公司（简称大连华信）是一家面向全球客户提供领先的应用软件产品、信息...   \n",
       "\n",
       "      company_size    company_title company_type    ...      pl_visual_basic  \\\n",
       "12265          50-     广州川山教育科技有限公司         民营公司    ...                False   \n",
       "24089    500-1000人   深圳四方精创资讯股份有限公司           合资    ...                False   \n",
       "17331    1000-5000     广州汇智通信技术有限公司           国企    ...                False   \n",
       "16825       50-150     北京领航绿色科技有限公司         民营公司    ...                False   \n",
       "10363   5000-10000  大连华信计算机技术股份有限公司           合资    ...                False   \n",
       "\n",
       "       publish_date  published_on_weekend  tag_baby_care  tag_five_insurance  \\\n",
       "12265    2019-03-13                 False          False               False   \n",
       "24089    2019-03-26                 False          False                True   \n",
       "17331    2019-03-31                  True          False                True   \n",
       "16825    2019-03-26                 False          False                True   \n",
       "10363    2019-03-29                 False          False                True   \n",
       "\n",
       "       tag_flexible  tag_no_overtime  tag_rest_one_day  tag_rest_two_days  \\\n",
       "12265         False            False             False              False   \n",
       "24089         False            False             False              False   \n",
       "17331         False            False             False              False   \n",
       "16825         False            False             False              False   \n",
       "10363         False            False             False              False   \n",
       "\n",
       "       tag_stock  \n",
       "12265      False  \n",
       "24089      False  \n",
       "17331      False  \n",
       "16825      False  \n",
       "10363      False  \n",
       "\n",
       "[5 rows x 90 columns]"
      ]
     },
     "execution_count": 15,
     "metadata": {},
     "output_type": "execute_result"
    }
   ],
   "source": [
    "data=data.sort_values(by='headcount', ascending=False)\n",
    "data.head()"
   ]
  },
  {
   "cell_type": "code",
   "execution_count": 16,
   "metadata": {},
   "outputs": [],
   "source": [
    "def pd_weighted_mean(group, avg_name, weight_name):\n",
    "    \"\"\" http://stackoverflow.com/questions/10951341/pandas-dataframe-aggregate-function-using-multiple-columns\n",
    "    In rare instance, we may not have weights, so just return the mean. Customize this if your business case\n",
    "    should return otherwise.\n",
    "    \"\"\"\n",
    "    d = group[avg_name]\n",
    "    w = group[weight_name]\n",
    "    try:\n",
    "        return (d * w).sum() / w.sum()\n",
    "    except ZeroDivisionError:\n",
    "        return d.mean()\n"
   ]
  },
  {
   "cell_type": "markdown",
   "metadata": {},
   "source": [
    "# Unilateral Stats 总体统计"
   ]
  },
  {
   "cell_type": "markdown",
   "metadata": {},
   "source": [
    "有数据可知，程序员向一线城市集中的趋势非常明显。\n",
    "\n",
    "According to the statistics, significant amount of developers are in the first tier cities."
   ]
  },
  {
   "cell_type": "code",
   "execution_count": 17,
   "metadata": {},
   "outputs": [
    {
     "data": {
      "text/plain": [
       "(29471, 90)"
      ]
     },
     "execution_count": 17,
     "metadata": {},
     "output_type": "execute_result"
    }
   ],
   "source": [
    "data.shape"
   ]
  },
  {
   "cell_type": "code",
   "execution_count": 18,
   "metadata": {},
   "outputs": [
    {
     "data": {
      "text/plain": [
       "96798"
      ]
     },
     "execution_count": 18,
     "metadata": {},
     "output_type": "execute_result"
    }
   ],
   "source": [
    "data.headcount.sum()"
   ]
  },
  {
   "cell_type": "code",
   "execution_count": 19,
   "metadata": {},
   "outputs": [
    {
     "data": {
      "text/plain": [
       "array([ 4250., 10000., 12500., 18000., 35000.])"
      ]
     },
     "execution_count": 19,
     "metadata": {},
     "output_type": "execute_result"
    }
   ],
   "source": [
    "salary_mean=weighted.weighted_mean(data.monthly_salary.values, data.headcount.values)\n",
    "q=weighted.weighted_quantile(data.monthly_salary.values,[0.025,0.25,0.5,0.75,0.975], data.headcount.values)\n",
    "q"
   ]
  },
  {
   "cell_type": "code",
   "execution_count": 20,
   "metadata": {},
   "outputs": [
    {
     "name": "stdout",
     "output_type": "stream",
     "text": [
      "2019年中国一线城市程序员的平均工资为15338元，工资中位数为12500元，其中95%的人的工资位于4250到35000元之间。\n"
     ]
    }
   ],
   "source": [
    "print('2019年中国一线城市程序员的平均工资为{:.0f}元，工资中位数为{:.0f}元，其中95%的人的工资位于{:.0f}到{:.0f}元之间。'\n",
    "      .format(salary_mean, q[2], q[0], q[4]))"
   ]
  },
  {
   "cell_type": "code",
   "execution_count": 21,
   "metadata": {},
   "outputs": [
    {
     "name": "stdout",
     "output_type": "stream",
     "text": [
      "In 2019, Developers in China earn 15338 Yuan as average, the median is 12500 Yuan, 95% of them earn between 4250 and 35000 Yuan.\n"
     ]
    }
   ],
   "source": [
    "print('In 2019, Developers in China earn {:.0f} Yuan as average, '\n",
    "      'the median is {:.0f} Yuan, 95% of them earn between {:.0f} and {:.0f} Yuan.'\n",
    "      .format(salary_mean, q[2], q[0], q[4]))"
   ]
  },
  {
   "cell_type": "code",
   "execution_count": 22,
   "metadata": {},
   "outputs": [
    {
     "data": {
      "text/plain": [
       "<matplotlib.axes._subplots.AxesSubplot at 0x1ac75ae59e8>"
      ]
     },
     "execution_count": 22,
     "metadata": {},
     "output_type": "execute_result"
    },
    {
     "data": {
      "image/png": "[encoded data removed]",
      "text/plain": [
       "<Figure size 432x288 with 1 Axes>"
      ]
     },
     "metadata": {
      "needs_background": "light"
     },
     "output_type": "display_data"
    }
   ],
   "source": [
    "data.monthly_salary.hist()"
   ]
  },
  {
   "cell_type": "markdown",
   "metadata": {},
   "source": [
    "It does not look like normal distribution."
   ]
  },
  {
   "cell_type": "code",
   "execution_count": 23,
   "metadata": {},
   "outputs": [],
   "source": [
    "from scipy import stats"
   ]
  },
  {
   "cell_type": "code",
   "execution_count": 24,
   "metadata": {},
   "outputs": [
    {
     "data": {
      "text/plain": [
       "NormaltestResult(statistic=9846.640645281357, pvalue=0.0)"
      ]
     },
     "execution_count": 24,
     "metadata": {},
     "output_type": "execute_result"
    }
   ],
   "source": [
    "stats.normaltest(data.monthly_salary)"
   ]
  },
  {
   "cell_type": "markdown",
   "metadata": {},
   "source": [
    "null hypothesis: x comes from a normal distribution\n",
    "    \n",
    "p=0\n",
    "\n",
    "The null hypothesis can be rejected\n",
    "\n",
    "conclusion: data is not normally distributed."
   ]
  },
  {
   "cell_type": "markdown",
   "metadata": {},
   "source": [
    "Zoom in"
   ]
  },
  {
   "cell_type": "code",
   "execution_count": 25,
   "metadata": {},
   "outputs": [
    {
     "data": {
      "image/png": "[encoded data removed]",
      "text/plain": [
       "<Figure size 432x288 with 1 Axes>"
      ]
     },
     "metadata": {
      "needs_background": "light"
     },
     "output_type": "display_data"
    }
   ],
   "source": [
    "data[data.monthly_salary<40000].monthly_salary.hist()\n",
    "plt.annotate('https://github.com/juwikuang/job_survey', xy=(0,0), xytext=(2000, 100), color='white')\n",
    "plt.show()"
   ]
  },
  {
   "cell_type": "markdown",
   "metadata": {},
   "source": [
    "## Role 角色"
   ]
  },
  {
   "cell_type": "code",
   "execution_count": 26,
   "metadata": {},
   "outputs": [],
   "source": [
    "#Common Functions\n",
    "def get_sub_stats_by_col(data, col):\n",
    "    categories=data[col].unique()\n",
    "    salary_mean=[]\n",
    "    salary_95_min=[]\n",
    "    salary_95_max=[]\n",
    "    salary_median=[]\n",
    "    \n",
    "\n",
    "    count=[]\n",
    "    \n",
    "    categorys_out=[]\n",
    "    for category in categories:\n",
    "        #print(feature)\n",
    "        idata=data[data[col]==category]\n",
    "        headcount=idata.headcount.sum()\n",
    "        values = idata.monthly_salary.values\n",
    "        weights = idata.headcount.values\n",
    "        #print(str(headcount))\n",
    "        if headcount==0:\n",
    "            continue\n",
    "        \n",
    "        salary_mean.append(np.average(values, weights=weights))\n",
    "        \n",
    "\n",
    "        q = weighted.weighted_quantile(values,[0.025,0.5,0.975],weights)\n",
    "        salary_95_min.append(q[0])\n",
    "        salary_median.append(q[1])\n",
    "        salary_95_max.append(q[2])\n",
    "        count.append(idata.headcount.sum())\n",
    "        categorys_out.append(category)\n",
    "    sub_data=pd.DataFrame()\n",
    "    sub_data[col]=[c for c in categorys_out]\n",
    "    sub_data['salary_mean']=salary_mean\n",
    "    sub_data['salary_95_min']=salary_95_min\n",
    "    sub_data['salary_median']=salary_median\n",
    "    sub_data['salary_95_max']=salary_95_max\n",
    "    sub_data['head_count']=count\n",
    "    sub_data['percentage']=count/np.sum(count)\n",
    "    sub_data=sub_data.sort_values(by='salary_mean', ascending=False)\n",
    "\n",
    "    return sub_data\n",
    "\n",
    "def get_sub_stats_by_prefix(data, prefix):\n",
    "    \n",
    "    features = [feature for feature in data.columns if feature.startswith(prefix)]\n",
    "    salary_mean=[]\n",
    "    salary_median=[]\n",
    "    salary_95_min=[]\n",
    "    salary_95_max=[]\n",
    "    count=[]\n",
    "    \n",
    "    features_out=[]\n",
    "    for feature in features:\n",
    "        #print(feature)\n",
    "        idata=data[data[feature]==1]\n",
    "        headcount=idata.headcount.sum()\n",
    "        values = idata.monthly_salary.values\n",
    "        weights = idata.headcount.values\n",
    "        #print(str(headcount))\n",
    "        if headcount==0:\n",
    "            continue\n",
    "        \n",
    "        salary_mean.append(weighted.weighted_mean(values, weights))\n",
    "        q = weighted.weighted_quantile(values,[0.025,0.5,0.975],weights)\n",
    "        salary_median.append(q[1])\n",
    "        salary_95_min.append(q[0])\n",
    "        salary_95_max.append(q[2])\n",
    "        count.append(idata.headcount.sum())\n",
    "        features_out.append(feature)\n",
    "    sub_data=pd.DataFrame()\n",
    "    sub_data['rank']=range(0,len(features_out))\n",
    "    sub_data[prefix]=[f.replace(prefix,'') for f in features_out]\n",
    "    sub_data['salary_mean']=salary_mean\n",
    "    sub_data['salary_median']=salary_median\n",
    "    sub_data['salary_95_min']=salary_95_min\n",
    "    sub_data['salary_95_max']=salary_95_max\n",
    "    sub_data['head_count']=count\n",
    "    sub_data['percentage']=count/np.sum(count)\n",
    "    sub_data=sub_data.sort_values(by='salary_mean', ascending=False)\n",
    "    sub_data['rank']=range(1,len(features_out)+1)\n",
    "    #sub_data=sub_data.reset_index()\n",
    "    return sub_data\n",
    "\n",
    "def apply_style(sub_data):\n",
    "    return sub_data.style.hide_index().format(\n",
    "    {\"salary_mean\":\"{:.0f}\",\"salary_median\":\"{:.0f}\",\"salary_95_min\":\"{:.0f}\",\"salary_95_max\":\"{:.0f}\",\"percentage\":\"{:.2%}\"})"
   ]
  },
  {
   "cell_type": "code",
   "execution_count": 27,
   "metadata": {},
   "outputs": [
    {
     "data": {
      "text/html": [
       "<style  type=\"text/css\" >\n",
       "</style>  \n",
       "<table id=\"T_31e4ee68_69d4_11e9_9daa_701ce71031ef\" > \n",
       "<thead>    <tr> \n",
       "        <th class=\"blank level0\" ></th> \n",
       "        <th class=\"col_heading level0 col0\" >career</th> \n",
       "        <th class=\"col_heading level0 col1\" >salary_mean</th> \n",
       "        <th class=\"col_heading level0 col2\" >salary_95_min</th> \n",
       "        <th class=\"col_heading level0 col3\" >salary_median</th> \n",
       "        <th class=\"col_heading level0 col4\" >salary_95_max</th> \n",
       "        <th class=\"col_heading level0 col5\" >head_count</th> \n",
       "        <th class=\"col_heading level0 col6\" >percentage</th> \n",
       "    </tr></thead> \n",
       "<tbody>    <tr> \n",
       "        <th id=\"T_31e4ee68_69d4_11e9_9daa_701ce71031eflevel0_row0\" class=\"row_heading level0 row0\" >1</th> \n",
       "        <td id=\"T_31e4ee68_69d4_11e9_9daa_701ce71031efrow0_col0\" class=\"data row0 col0\" >算法工程师</td> \n",
       "        <td id=\"T_31e4ee68_69d4_11e9_9daa_701ce71031efrow0_col1\" class=\"data row0 col1\" >23335</td> \n",
       "        <td id=\"T_31e4ee68_69d4_11e9_9daa_701ce71031efrow0_col2\" class=\"data row0 col2\" >5500</td> \n",
       "        <td id=\"T_31e4ee68_69d4_11e9_9daa_701ce71031efrow0_col3\" class=\"data row0 col3\" >20833</td> \n",
       "        <td id=\"T_31e4ee68_69d4_11e9_9daa_701ce71031efrow0_col4\" class=\"data row0 col4\" >65000</td> \n",
       "        <td id=\"T_31e4ee68_69d4_11e9_9daa_701ce71031efrow0_col5\" class=\"data row0 col5\" >9144</td> \n",
       "        <td id=\"T_31e4ee68_69d4_11e9_9daa_701ce71031efrow0_col6\" class=\"data row0 col6\" >9.45%</td> \n",
       "    </tr>    <tr> \n",
       "        <th id=\"T_31e4ee68_69d4_11e9_9daa_701ce71031eflevel0_row1\" class=\"row_heading level0 row1\" >2</th> \n",
       "        <td id=\"T_31e4ee68_69d4_11e9_9daa_701ce71031efrow1_col0\" class=\"data row1 col0\" >系统架构师</td> \n",
       "        <td id=\"T_31e4ee68_69d4_11e9_9daa_701ce71031efrow1_col1\" class=\"data row1 col1\" >21935</td> \n",
       "        <td id=\"T_31e4ee68_69d4_11e9_9daa_701ce71031efrow1_col2\" class=\"data row1 col2\" >5250</td> \n",
       "        <td id=\"T_31e4ee68_69d4_11e9_9daa_701ce71031efrow1_col3\" class=\"data row1 col3\" >20000</td> \n",
       "        <td id=\"T_31e4ee68_69d4_11e9_9daa_701ce71031efrow1_col4\" class=\"data row1 col4\" >45000</td> \n",
       "        <td id=\"T_31e4ee68_69d4_11e9_9daa_701ce71031efrow1_col5\" class=\"data row1 col5\" >4839</td> \n",
       "        <td id=\"T_31e4ee68_69d4_11e9_9daa_701ce71031efrow1_col6\" class=\"data row1 col6\" >5.00%</td> \n",
       "    </tr>    <tr> \n",
       "        <th id=\"T_31e4ee68_69d4_11e9_9daa_701ce71031eflevel0_row2\" class=\"row_heading level0 row2\" >4</th> \n",
       "        <td id=\"T_31e4ee68_69d4_11e9_9daa_701ce71031efrow2_col0\" class=\"data row2 col0\" >爬虫工程师</td> \n",
       "        <td id=\"T_31e4ee68_69d4_11e9_9daa_701ce71031efrow2_col1\" class=\"data row2 col1\" >15529</td> \n",
       "        <td id=\"T_31e4ee68_69d4_11e9_9daa_701ce71031efrow2_col2\" class=\"data row2 col2\" >2387.5</td> \n",
       "        <td id=\"T_31e4ee68_69d4_11e9_9daa_701ce71031efrow2_col3\" class=\"data row2 col3\" >14389</td> \n",
       "        <td id=\"T_31e4ee68_69d4_11e9_9daa_701ce71031efrow2_col4\" class=\"data row2 col4\" >36979.2</td> \n",
       "        <td id=\"T_31e4ee68_69d4_11e9_9daa_701ce71031efrow2_col5\" class=\"data row2 col5\" >205</td> \n",
       "        <td id=\"T_31e4ee68_69d4_11e9_9daa_701ce71031efrow2_col6\" class=\"data row2 col6\" >0.21%</td> \n",
       "    </tr>    <tr> \n",
       "        <th id=\"T_31e4ee68_69d4_11e9_9daa_701ce71031eflevel0_row3\" class=\"row_heading level0 row3\" >0</th> \n",
       "        <td id=\"T_31e4ee68_69d4_11e9_9daa_701ce71031efrow3_col0\" class=\"data row3 col0\" >一般程序员</td> \n",
       "        <td id=\"T_31e4ee68_69d4_11e9_9daa_701ce71031efrow3_col1\" class=\"data row3 col1\" >14068</td> \n",
       "        <td id=\"T_31e4ee68_69d4_11e9_9daa_701ce71031efrow3_col2\" class=\"data row3 col2\" >4000</td> \n",
       "        <td id=\"T_31e4ee68_69d4_11e9_9daa_701ce71031efrow3_col3\" class=\"data row3 col3\" >12500</td> \n",
       "        <td id=\"T_31e4ee68_69d4_11e9_9daa_701ce71031efrow3_col4\" class=\"data row3 col4\" >30000</td> \n",
       "        <td id=\"T_31e4ee68_69d4_11e9_9daa_701ce71031efrow3_col5\" class=\"data row3 col5\" >82563</td> \n",
       "        <td id=\"T_31e4ee68_69d4_11e9_9daa_701ce71031efrow3_col6\" class=\"data row3 col6\" >85.29%</td> \n",
       "    </tr>    <tr> \n",
       "        <th id=\"T_31e4ee68_69d4_11e9_9daa_701ce71031eflevel0_row4\" class=\"row_heading level0 row4\" >3</th> \n",
       "        <td id=\"T_31e4ee68_69d4_11e9_9daa_701ce71031efrow4_col0\" class=\"data row4 col0\" >生物信息工程师</td> \n",
       "        <td id=\"T_31e4ee68_69d4_11e9_9daa_701ce71031efrow4_col1\" class=\"data row4 col1\" >10574</td> \n",
       "        <td id=\"T_31e4ee68_69d4_11e9_9daa_701ce71031efrow4_col2\" class=\"data row4 col2\" >4500</td> \n",
       "        <td id=\"T_31e4ee68_69d4_11e9_9daa_701ce71031efrow4_col3\" class=\"data row4 col3\" >8875</td> \n",
       "        <td id=\"T_31e4ee68_69d4_11e9_9daa_701ce71031efrow4_col4\" class=\"data row4 col4\" >22500</td> \n",
       "        <td id=\"T_31e4ee68_69d4_11e9_9daa_701ce71031efrow4_col5\" class=\"data row4 col5\" >47</td> \n",
       "        <td id=\"T_31e4ee68_69d4_11e9_9daa_701ce71031efrow4_col6\" class=\"data row4 col6\" >0.05%</td> \n",
       "    </tr></tbody> \n",
       "</table> "
      ],
      "text/plain": [
       "<pandas.io.formats.style.Styler at 0x1ac75d0d278>"
      ]
     },
     "execution_count": 27,
     "metadata": {},
     "output_type": "execute_result"
    }
   ],
   "source": [
    "data_career = get_sub_stats_by_col(data,'career')\n",
    "data_career.style.format({\"salary_mean\":\"{:.0f}\",\"salary_median\":\"{:.0f}\",\"percentage\":\"{:.2%}\"})"
   ]
  },
  {
   "cell_type": "code",
   "execution_count": 28,
   "metadata": {},
   "outputs": [
    {
     "data": {
      "text/plain": [
       "15338.291166484158"
      ]
     },
     "execution_count": 28,
     "metadata": {},
     "output_type": "execute_result"
    }
   ],
   "source": [
    "np.sum(data.monthly_salary * data.headcount) / data.headcount.sum()"
   ]
  },
  {
   "cell_type": "code",
   "execution_count": 29,
   "metadata": {},
   "outputs": [
    {
     "data": {
      "text/plain": [
       "96798"
      ]
     },
     "execution_count": 29,
     "metadata": {},
     "output_type": "execute_result"
    }
   ],
   "source": [
    "data.headcount.sum()"
   ]
  },
  {
   "cell_type": "code",
   "execution_count": 30,
   "metadata": {},
   "outputs": [
    {
     "data": {
      "text/plain": [
       "count    29471.000000\n",
       "mean         3.284517\n",
       "std          4.778860\n",
       "min          1.000000\n",
       "25%          1.000000\n",
       "50%          2.000000\n",
       "75%          5.000000\n",
       "max        450.000000\n",
       "Name: headcount, dtype: float64"
      ]
     },
     "execution_count": 30,
     "metadata": {},
     "output_type": "execute_result"
    }
   ],
   "source": [
    "data.headcount.describe()"
   ]
  },
  {
   "cell_type": "code",
   "execution_count": 31,
   "metadata": {},
   "outputs": [
    {
     "data": {
      "text/html": [
       "<div>\n",
       "<style scoped>\n",
       "    .dataframe tbody tr th:only-of-type {\n",
       "        vertical-align: middle;\n",
       "    }\n",
       "\n",
       "    .dataframe tbody tr th {\n",
       "        vertical-align: top;\n",
       "    }\n",
       "\n",
       "    .dataframe thead th {\n",
       "        text-align: right;\n",
       "    }\n",
       "</style>\n",
       "<table border=\"1\" class=\"dataframe\">\n",
       "  <thead>\n",
       "    <tr style=\"text-align: right;\">\n",
       "      <th></th>\n",
       "      <th>job_id</th>\n",
       "      <th>monthly_salary</th>\n",
       "      <th>headcount</th>\n",
       "      <th>title</th>\n",
       "      <th>career</th>\n",
       "      <th>city</th>\n",
       "      <th>company_description</th>\n",
       "      <th>company_size</th>\n",
       "      <th>company_title</th>\n",
       "      <th>company_type</th>\n",
       "      <th>ageism</th>\n",
       "      <th>db_Apache_Hive</th>\n",
       "      <th>db_CouchBase</th>\n",
       "      <th>db_CouchDB</th>\n",
       "      <th>db_DB2</th>\n",
       "      <th>db_DynamoDB</th>\n",
       "      <th>db_Elasticsearch</th>\n",
       "      <th>db_FileMaker</th>\n",
       "      <th>db_Firebase</th>\n",
       "      <th>db_Firebird</th>\n",
       "      <th>db_Hbase</th>\n",
       "      <th>db_Informix</th>\n",
       "      <th>db_Ingres</th>\n",
       "      <th>db_MariaDB</th>\n",
       "      <th>db_Memcached</th>\n",
       "      <th>db_MongoDB</th>\n",
       "      <th>db_MySQL</th>\n",
       "      <th>db_Neo4j</th>\n",
       "      <th>db_Netezza</th>\n",
       "      <th>db_Oracle</th>\n",
       "      <th>db_PostgreSQL</th>\n",
       "      <th>db_Redis</th>\n",
       "      <th>db_Riak</th>\n",
       "      <th>db_SAP_HANA</th>\n",
       "      <th>db_SQL_Server</th>\n",
       "      <th>db_SQLite</th>\n",
       "      <th>db_Solr</th>\n",
       "      <th>db_Splunk</th>\n",
       "      <th>db_Sybase</th>\n",
       "      <th>db_Teradata</th>\n",
       "      <th>db_dBase</th>\n",
       "      <th>edu</th>\n",
       "      <th>english</th>\n",
       "      <th>experience</th>\n",
       "      <th>expert_adas</th>\n",
       "      <th>expert_blockchain</th>\n",
       "      <th>expert_embed</th>\n",
       "      <th>expert_expert</th>\n",
       "      <th>expert_gis</th>\n",
       "      <th>_996_yes</th>\n",
       "      <th>_996_no</th>\n",
       "      <th>industry</th>\n",
       "      <th>japanese</th>\n",
       "      <th>job_description</th>\n",
       "      <th>job_summary</th>\n",
       "      <th>job_tags</th>\n",
       "      <th>phone_android</th>\n",
       "      <th>phone_app</th>\n",
       "      <th>phone_iso</th>\n",
       "      <th>pl_c_sharp</th>\n",
       "      <th>pl_cpp</th>\n",
       "      <th>pl_delphi</th>\n",
       "      <th>pl_go</th>\n",
       "      <th>pl_haskell</th>\n",
       "      <th>pl_java</th>\n",
       "      <th>pl_javascript</th>\n",
       "      <th>pl_julia</th>\n",
       "      <th>pl_kotlin</th>\n",
       "      <th>pl_lua</th>\n",
       "      <th>pl_matlab</th>\n",
       "      <th>pl_objective_c</th>\n",
       "      <th>pl_perl</th>\n",
       "      <th>pl_php</th>\n",
       "      <th>pl_python</th>\n",
       "      <th>pl_ruby</th>\n",
       "      <th>pl_rust</th>\n",
       "      <th>pl_scrala</th>\n",
       "      <th>pl_swift</th>\n",
       "      <th>pl_typescript</th>\n",
       "      <th>pl_vba</th>\n",
       "      <th>pl_visual_basic</th>\n",
       "      <th>publish_date</th>\n",
       "      <th>published_on_weekend</th>\n",
       "      <th>tag_baby_care</th>\n",
       "      <th>tag_five_insurance</th>\n",
       "      <th>tag_flexible</th>\n",
       "      <th>tag_no_overtime</th>\n",
       "      <th>tag_rest_one_day</th>\n",
       "      <th>tag_rest_two_days</th>\n",
       "      <th>tag_stock</th>\n",
       "    </tr>\n",
       "  </thead>\n",
       "  <tbody>\n",
       "    <tr>\n",
       "      <th>12265</th>\n",
       "      <td>109606295</td>\n",
       "      <td>7000.0</td>\n",
       "      <td>450</td>\n",
       "      <td>网游公司招聘（游戏推广、维护、设计）</td>\n",
       "      <td>一般程序员</td>\n",
       "      <td>guangzhou</td>\n",
       "      <td>广州川山教育是集远程高等学历教育、职业化教育、各类培训考证于一体的综合性教育机构。自成立以来...</td>\n",
       "      <td>50-</td>\n",
       "      <td>广州川山教育科技有限公司</td>\n",
       "      <td>民营公司</td>\n",
       "      <td>True</td>\n",
       "      <td>False</td>\n",
       "      <td>False</td>\n",
       "      <td>False</td>\n",
       "      <td>False</td>\n",
       "      <td>False</td>\n",
       "      <td>False</td>\n",
       "      <td>False</td>\n",
       "      <td>False</td>\n",
       "      <td>False</td>\n",
       "      <td>False</td>\n",
       "      <td>False</td>\n",
       "      <td>False</td>\n",
       "      <td>False</td>\n",
       "      <td>False</td>\n",
       "      <td>False</td>\n",
       "      <td>False</td>\n",
       "      <td>False</td>\n",
       "      <td>False</td>\n",
       "      <td>False</td>\n",
       "      <td>False</td>\n",
       "      <td>False</td>\n",
       "      <td>False</td>\n",
       "      <td>False</td>\n",
       "      <td>False</td>\n",
       "      <td>False</td>\n",
       "      <td>False</td>\n",
       "      <td>False</td>\n",
       "      <td>False</td>\n",
       "      <td>False</td>\n",
       "      <td>False</td>\n",
       "      <td>大专</td>\n",
       "      <td>False</td>\n",
       "      <td>no</td>\n",
       "      <td>False</td>\n",
       "      <td>False</td>\n",
       "      <td>False</td>\n",
       "      <td>False</td>\n",
       "      <td>False</td>\n",
       "      <td>False</td>\n",
       "      <td>True</td>\n",
       "      <td>edu</td>\n",
       "      <td>False</td>\n",
       "      <td>月薪3500-8000底薪+补助+社保、五险一金、部分双休。部门免费包住，2.工作地点：可申...</td>\n",
       "      <td>广州-天河区|无工作经验|大专|招450人|03-13发布</td>\n",
       "      <td>绩效奖金,全勤奖,专业培训,节日福利</td>\n",
       "      <td>False</td>\n",
       "      <td>False</td>\n",
       "      <td>False</td>\n",
       "      <td>False</td>\n",
       "      <td>False</td>\n",
       "      <td>False</td>\n",
       "      <td>False</td>\n",
       "      <td>False</td>\n",
       "      <td>False</td>\n",
       "      <td>False</td>\n",
       "      <td>False</td>\n",
       "      <td>False</td>\n",
       "      <td>False</td>\n",
       "      <td>False</td>\n",
       "      <td>False</td>\n",
       "      <td>False</td>\n",
       "      <td>False</td>\n",
       "      <td>False</td>\n",
       "      <td>False</td>\n",
       "      <td>False</td>\n",
       "      <td>False</td>\n",
       "      <td>False</td>\n",
       "      <td>False</td>\n",
       "      <td>False</td>\n",
       "      <td>False</td>\n",
       "      <td>2019-03-13</td>\n",
       "      <td>False</td>\n",
       "      <td>False</td>\n",
       "      <td>False</td>\n",
       "      <td>False</td>\n",
       "      <td>False</td>\n",
       "      <td>False</td>\n",
       "      <td>False</td>\n",
       "      <td>False</td>\n",
       "    </tr>\n",
       "    <tr>\n",
       "      <th>17331</th>\n",
       "      <td>110969579</td>\n",
       "      <td>12500.0</td>\n",
       "      <td>200</td>\n",
       "      <td>JAVA开发工程师（2019届应届毕业生）</td>\n",
       "      <td>一般程序员</td>\n",
       "      <td>guangzhou</td>\n",
       "      <td>广州汇智通信技术有限公司是专业从事国家特殊通信系统研制工作的大型国有控股混合所有制企业。公司...</td>\n",
       "      <td>1000-5000</td>\n",
       "      <td>广州汇智通信技术有限公司</td>\n",
       "      <td>国企</td>\n",
       "      <td>False</td>\n",
       "      <td>False</td>\n",
       "      <td>False</td>\n",
       "      <td>False</td>\n",
       "      <td>False</td>\n",
       "      <td>False</td>\n",
       "      <td>False</td>\n",
       "      <td>False</td>\n",
       "      <td>False</td>\n",
       "      <td>False</td>\n",
       "      <td>False</td>\n",
       "      <td>False</td>\n",
       "      <td>False</td>\n",
       "      <td>False</td>\n",
       "      <td>False</td>\n",
       "      <td>False</td>\n",
       "      <td>False</td>\n",
       "      <td>False</td>\n",
       "      <td>False</td>\n",
       "      <td>False</td>\n",
       "      <td>False</td>\n",
       "      <td>False</td>\n",
       "      <td>False</td>\n",
       "      <td>False</td>\n",
       "      <td>False</td>\n",
       "      <td>False</td>\n",
       "      <td>False</td>\n",
       "      <td>False</td>\n",
       "      <td>False</td>\n",
       "      <td>False</td>\n",
       "      <td>False</td>\n",
       "      <td>本科</td>\n",
       "      <td>False</td>\n",
       "      <td>no</td>\n",
       "      <td>False</td>\n",
       "      <td>False</td>\n",
       "      <td>False</td>\n",
       "      <td>False</td>\n",
       "      <td>False</td>\n",
       "      <td>True</td>\n",
       "      <td>False</td>\n",
       "      <td>computer</td>\n",
       "      <td>False</td>\n",
       "      <td>广州汇智通信技术有限公司                                  ...</td>\n",
       "      <td>广州|无工作经验|本科|招200人|03-31发布</td>\n",
       "      <td>五险一金,补充医疗保险,补充公积金,交通补贴,年终奖金,绩效奖金,通讯补贴,定期体检,餐饮补贴</td>\n",
       "      <td>False</td>\n",
       "      <td>True</td>\n",
       "      <td>True</td>\n",
       "      <td>True</td>\n",
       "      <td>True</td>\n",
       "      <td>False</td>\n",
       "      <td>False</td>\n",
       "      <td>False</td>\n",
       "      <td>True</td>\n",
       "      <td>False</td>\n",
       "      <td>False</td>\n",
       "      <td>False</td>\n",
       "      <td>False</td>\n",
       "      <td>False</td>\n",
       "      <td>False</td>\n",
       "      <td>False</td>\n",
       "      <td>False</td>\n",
       "      <td>False</td>\n",
       "      <td>False</td>\n",
       "      <td>False</td>\n",
       "      <td>False</td>\n",
       "      <td>False</td>\n",
       "      <td>False</td>\n",
       "      <td>False</td>\n",
       "      <td>False</td>\n",
       "      <td>2019-03-31</td>\n",
       "      <td>True</td>\n",
       "      <td>False</td>\n",
       "      <td>True</td>\n",
       "      <td>False</td>\n",
       "      <td>False</td>\n",
       "      <td>False</td>\n",
       "      <td>False</td>\n",
       "      <td>False</td>\n",
       "    </tr>\n",
       "    <tr>\n",
       "      <th>24089</th>\n",
       "      <td>75596794</td>\n",
       "      <td>7500.0</td>\n",
       "      <td>200</td>\n",
       "      <td>JAVA 工程师</td>\n",
       "      <td>一般程序员</td>\n",
       "      <td>shenzhen</td>\n",
       "      <td>四方精创资讯有限公司（简称四方精创），是从事金融行业it综合服务和软件协同服务的高端应用软件...</td>\n",
       "      <td>500-1000人</td>\n",
       "      <td>深圳四方精创资讯股份有限公司</td>\n",
       "      <td>合资</td>\n",
       "      <td>False</td>\n",
       "      <td>False</td>\n",
       "      <td>False</td>\n",
       "      <td>False</td>\n",
       "      <td>False</td>\n",
       "      <td>False</td>\n",
       "      <td>False</td>\n",
       "      <td>False</td>\n",
       "      <td>False</td>\n",
       "      <td>False</td>\n",
       "      <td>False</td>\n",
       "      <td>False</td>\n",
       "      <td>False</td>\n",
       "      <td>False</td>\n",
       "      <td>False</td>\n",
       "      <td>False</td>\n",
       "      <td>True</td>\n",
       "      <td>False</td>\n",
       "      <td>False</td>\n",
       "      <td>True</td>\n",
       "      <td>False</td>\n",
       "      <td>False</td>\n",
       "      <td>False</td>\n",
       "      <td>False</td>\n",
       "      <td>False</td>\n",
       "      <td>False</td>\n",
       "      <td>False</td>\n",
       "      <td>False</td>\n",
       "      <td>False</td>\n",
       "      <td>False</td>\n",
       "      <td>False</td>\n",
       "      <td>本科</td>\n",
       "      <td>False</td>\n",
       "      <td>1_3</td>\n",
       "      <td>False</td>\n",
       "      <td>False</td>\n",
       "      <td>False</td>\n",
       "      <td>False</td>\n",
       "      <td>False</td>\n",
       "      <td>False</td>\n",
       "      <td>False</td>\n",
       "      <td>computer</td>\n",
       "      <td>False</td>\n",
       "      <td>岗位职责1.按照上级计划和安排进行技术开发工作；2. 负责金融行业应用平台后端模块开发工作；...</td>\n",
       "      <td>深圳|1年经验|本科|招200人|03-26发布</td>\n",
       "      <td>五险一金,专业培训,年终奖金,员工旅游</td>\n",
       "      <td>False</td>\n",
       "      <td>False</td>\n",
       "      <td>False</td>\n",
       "      <td>False</td>\n",
       "      <td>False</td>\n",
       "      <td>False</td>\n",
       "      <td>False</td>\n",
       "      <td>False</td>\n",
       "      <td>True</td>\n",
       "      <td>False</td>\n",
       "      <td>False</td>\n",
       "      <td>False</td>\n",
       "      <td>False</td>\n",
       "      <td>False</td>\n",
       "      <td>False</td>\n",
       "      <td>False</td>\n",
       "      <td>False</td>\n",
       "      <td>False</td>\n",
       "      <td>False</td>\n",
       "      <td>False</td>\n",
       "      <td>False</td>\n",
       "      <td>False</td>\n",
       "      <td>False</td>\n",
       "      <td>False</td>\n",
       "      <td>False</td>\n",
       "      <td>2019-03-26</td>\n",
       "      <td>False</td>\n",
       "      <td>False</td>\n",
       "      <td>True</td>\n",
       "      <td>False</td>\n",
       "      <td>False</td>\n",
       "      <td>False</td>\n",
       "      <td>False</td>\n",
       "      <td>False</td>\n",
       "    </tr>\n",
       "    <tr>\n",
       "      <th>16825</th>\n",
       "      <td>110864187</td>\n",
       "      <td>7000.0</td>\n",
       "      <td>150</td>\n",
       "      <td>初级测试工程师</td>\n",
       "      <td>一般程序员</td>\n",
       "      <td>beijing</td>\n",
       "      <td>···</td>\n",
       "      <td>50-150</td>\n",
       "      <td>北京领航绿色科技有限公司</td>\n",
       "      <td>民营公司</td>\n",
       "      <td>False</td>\n",
       "      <td>False</td>\n",
       "      <td>False</td>\n",
       "      <td>False</td>\n",
       "      <td>False</td>\n",
       "      <td>False</td>\n",
       "      <td>False</td>\n",
       "      <td>False</td>\n",
       "      <td>False</td>\n",
       "      <td>False</td>\n",
       "      <td>False</td>\n",
       "      <td>False</td>\n",
       "      <td>False</td>\n",
       "      <td>False</td>\n",
       "      <td>False</td>\n",
       "      <td>False</td>\n",
       "      <td>True</td>\n",
       "      <td>False</td>\n",
       "      <td>False</td>\n",
       "      <td>False</td>\n",
       "      <td>False</td>\n",
       "      <td>False</td>\n",
       "      <td>False</td>\n",
       "      <td>False</td>\n",
       "      <td>False</td>\n",
       "      <td>False</td>\n",
       "      <td>False</td>\n",
       "      <td>False</td>\n",
       "      <td>False</td>\n",
       "      <td>False</td>\n",
       "      <td>False</td>\n",
       "      <td>大专</td>\n",
       "      <td>False</td>\n",
       "      <td>no</td>\n",
       "      <td>False</td>\n",
       "      <td>False</td>\n",
       "      <td>False</td>\n",
       "      <td>False</td>\n",
       "      <td>False</td>\n",
       "      <td>False</td>\n",
       "      <td>True</td>\n",
       "      <td>finance</td>\n",
       "      <td>False</td>\n",
       "      <td>工作职业一;1.根据软件测试计划和测试方案，设计测试数据和测试用例。            ...</td>\n",
       "      <td>北京-朝阳区|无工作经验|大专|招150人|03-26发布</td>\n",
       "      <td>五险一金,免费班车,交通补贴,餐饮补贴,绩效奖金</td>\n",
       "      <td>False</td>\n",
       "      <td>False</td>\n",
       "      <td>False</td>\n",
       "      <td>False</td>\n",
       "      <td>False</td>\n",
       "      <td>False</td>\n",
       "      <td>False</td>\n",
       "      <td>False</td>\n",
       "      <td>False</td>\n",
       "      <td>False</td>\n",
       "      <td>False</td>\n",
       "      <td>False</td>\n",
       "      <td>False</td>\n",
       "      <td>False</td>\n",
       "      <td>False</td>\n",
       "      <td>False</td>\n",
       "      <td>False</td>\n",
       "      <td>False</td>\n",
       "      <td>False</td>\n",
       "      <td>False</td>\n",
       "      <td>False</td>\n",
       "      <td>False</td>\n",
       "      <td>False</td>\n",
       "      <td>False</td>\n",
       "      <td>False</td>\n",
       "      <td>2019-03-26</td>\n",
       "      <td>False</td>\n",
       "      <td>False</td>\n",
       "      <td>True</td>\n",
       "      <td>False</td>\n",
       "      <td>False</td>\n",
       "      <td>False</td>\n",
       "      <td>False</td>\n",
       "      <td>False</td>\n",
       "    </tr>\n",
       "    <tr>\n",
       "      <th>10363</th>\n",
       "      <td>108834444</td>\n",
       "      <td>15000.0</td>\n",
       "      <td>150</td>\n",
       "      <td>Java开发工程师</td>\n",
       "      <td>一般程序员</td>\n",
       "      <td>beijing</td>\n",
       "      <td>大连华信计算机技术股份有限公司（简称大连华信）是一家面向全球客户提供领先的应用软件产品、信息...</td>\n",
       "      <td>5000-10000</td>\n",
       "      <td>大连华信计算机技术股份有限公司</td>\n",
       "      <td>合资</td>\n",
       "      <td>False</td>\n",
       "      <td>False</td>\n",
       "      <td>False</td>\n",
       "      <td>False</td>\n",
       "      <td>False</td>\n",
       "      <td>False</td>\n",
       "      <td>False</td>\n",
       "      <td>False</td>\n",
       "      <td>False</td>\n",
       "      <td>False</td>\n",
       "      <td>False</td>\n",
       "      <td>False</td>\n",
       "      <td>False</td>\n",
       "      <td>False</td>\n",
       "      <td>False</td>\n",
       "      <td>False</td>\n",
       "      <td>True</td>\n",
       "      <td>False</td>\n",
       "      <td>False</td>\n",
       "      <td>True</td>\n",
       "      <td>False</td>\n",
       "      <td>False</td>\n",
       "      <td>False</td>\n",
       "      <td>False</td>\n",
       "      <td>False</td>\n",
       "      <td>False</td>\n",
       "      <td>False</td>\n",
       "      <td>False</td>\n",
       "      <td>False</td>\n",
       "      <td>False</td>\n",
       "      <td>False</td>\n",
       "      <td>本科</td>\n",
       "      <td>False</td>\n",
       "      <td>5_10</td>\n",
       "      <td>False</td>\n",
       "      <td>False</td>\n",
       "      <td>False</td>\n",
       "      <td>False</td>\n",
       "      <td>False</td>\n",
       "      <td>False</td>\n",
       "      <td>False</td>\n",
       "      <td>computer</td>\n",
       "      <td>False</td>\n",
       "      <td>1、5年以上java开发工作经验。2、有丰富研发经验；深入理解SpringCloud、spr...</td>\n",
       "      <td>北京-朝阳区|5-7年经验|本科|招150人|03-29发布</td>\n",
       "      <td>五险一金,补充医疗保险,定期体检,年终奖金</td>\n",
       "      <td>False</td>\n",
       "      <td>False</td>\n",
       "      <td>False</td>\n",
       "      <td>False</td>\n",
       "      <td>False</td>\n",
       "      <td>False</td>\n",
       "      <td>True</td>\n",
       "      <td>False</td>\n",
       "      <td>True</td>\n",
       "      <td>False</td>\n",
       "      <td>False</td>\n",
       "      <td>False</td>\n",
       "      <td>False</td>\n",
       "      <td>False</td>\n",
       "      <td>False</td>\n",
       "      <td>False</td>\n",
       "      <td>False</td>\n",
       "      <td>True</td>\n",
       "      <td>False</td>\n",
       "      <td>False</td>\n",
       "      <td>False</td>\n",
       "      <td>False</td>\n",
       "      <td>False</td>\n",
       "      <td>False</td>\n",
       "      <td>False</td>\n",
       "      <td>2019-03-29</td>\n",
       "      <td>False</td>\n",
       "      <td>False</td>\n",
       "      <td>True</td>\n",
       "      <td>False</td>\n",
       "      <td>False</td>\n",
       "      <td>False</td>\n",
       "      <td>False</td>\n",
       "      <td>False</td>\n",
       "    </tr>\n",
       "  </tbody>\n",
       "</table>\n",
       "</div>"
      ],
      "text/plain": [
       "          job_id  monthly_salary  headcount                  title career  \\\n",
       "12265  109606295          7000.0        450     网游公司招聘（游戏推广、维护、设计）  一般程序员   \n",
       "17331  110969579         12500.0        200  JAVA开发工程师（2019届应届毕业生）  一般程序员   \n",
       "24089   75596794          7500.0        200               JAVA 工程师  一般程序员   \n",
       "16825  110864187          7000.0        150                初级测试工程师  一般程序员   \n",
       "10363  108834444         15000.0        150              Java开发工程师  一般程序员   \n",
       "\n",
       "            city                                company_description  \\\n",
       "12265  guangzhou  广州川山教育是集远程高等学历教育、职业化教育、各类培训考证于一体的综合性教育机构。自成立以来...   \n",
       "17331  guangzhou  广州汇智通信技术有限公司是专业从事国家特殊通信系统研制工作的大型国有控股混合所有制企业。公司...   \n",
       "24089   shenzhen  四方精创资讯有限公司（简称四方精创），是从事金融行业it综合服务和软件协同服务的高端应用软件...   \n",
       "16825    beijing                                                ···   \n",
       "10363    beijing  大连华信计算机技术股份有限公司（简称大连华信）是一家面向全球客户提供领先的应用软件产品、信息...   \n",
       "\n",
       "      company_size    company_title company_type  ageism  db_Apache_Hive  \\\n",
       "12265          50-     广州川山教育科技有限公司         民营公司    True           False   \n",
       "17331    1000-5000     广州汇智通信技术有限公司           国企   False           False   \n",
       "24089    500-1000人   深圳四方精创资讯股份有限公司           合资   False           False   \n",
       "16825       50-150     北京领航绿色科技有限公司         民营公司   False           False   \n",
       "10363   5000-10000  大连华信计算机技术股份有限公司           合资   False           False   \n",
       "\n",
       "       db_CouchBase  db_CouchDB  db_DB2  db_DynamoDB  db_Elasticsearch  \\\n",
       "12265         False       False   False        False             False   \n",
       "17331         False       False   False        False             False   \n",
       "24089         False       False   False        False             False   \n",
       "16825         False       False   False        False             False   \n",
       "10363         False       False   False        False             False   \n",
       "\n",
       "       db_FileMaker  db_Firebase  db_Firebird  db_Hbase  db_Informix  \\\n",
       "12265         False        False        False     False        False   \n",
       "17331         False        False        False     False        False   \n",
       "24089         False        False        False     False        False   \n",
       "16825         False        False        False     False        False   \n",
       "10363         False        False        False     False        False   \n",
       "\n",
       "       db_Ingres  db_MariaDB  db_Memcached  db_MongoDB  db_MySQL  db_Neo4j  \\\n",
       "12265      False       False         False       False     False     False   \n",
       "17331      False       False         False       False     False     False   \n",
       "24089      False       False         False       False      True     False   \n",
       "16825      False       False         False       False      True     False   \n",
       "10363      False       False         False       False      True     False   \n",
       "\n",
       "       db_Netezza  db_Oracle  db_PostgreSQL  db_Redis  db_Riak  db_SAP_HANA  \\\n",
       "12265       False      False          False     False    False        False   \n",
       "17331       False      False          False     False    False        False   \n",
       "24089       False       True          False     False    False        False   \n",
       "16825       False      False          False     False    False        False   \n",
       "10363       False       True          False     False    False        False   \n",
       "\n",
       "       db_SQL_Server  db_SQLite  db_Solr  db_Splunk  db_Sybase  db_Teradata  \\\n",
       "12265          False      False    False      False      False        False   \n",
       "17331          False      False    False      False      False        False   \n",
       "24089          False      False    False      False      False        False   \n",
       "16825          False      False    False      False      False        False   \n",
       "10363          False      False    False      False      False        False   \n",
       "\n",
       "       db_dBase edu  english experience  expert_adas  expert_blockchain  \\\n",
       "12265     False  大专    False         no        False              False   \n",
       "17331     False  本科    False         no        False              False   \n",
       "24089     False  本科    False        1_3        False              False   \n",
       "16825     False  大专    False         no        False              False   \n",
       "10363     False  本科    False       5_10        False              False   \n",
       "\n",
       "       expert_embed  expert_expert  expert_gis  _996_yes  _996_no  industry  \\\n",
       "12265         False          False       False     False     True       edu   \n",
       "17331         False          False       False      True    False  computer   \n",
       "24089         False          False       False     False    False  computer   \n",
       "16825         False          False       False     False     True   finance   \n",
       "10363         False          False       False     False    False  computer   \n",
       "\n",
       "       japanese                                    job_description  \\\n",
       "12265     False  月薪3500-8000底薪+补助+社保、五险一金、部分双休。部门免费包住，2.工作地点：可申...   \n",
       "17331     False  广州汇智通信技术有限公司                                  ...   \n",
       "24089     False  岗位职责1.按照上级计划和安排进行技术开发工作；2. 负责金融行业应用平台后端模块开发工作；...   \n",
       "16825     False  工作职业一;1.根据软件测试计划和测试方案，设计测试数据和测试用例。            ...   \n",
       "10363     False  1、5年以上java开发工作经验。2、有丰富研发经验；深入理解SpringCloud、spr...   \n",
       "\n",
       "                          job_summary  \\\n",
       "12265   广州-天河区|无工作经验|大专|招450人|03-13发布   \n",
       "17331       广州|无工作经验|本科|招200人|03-31发布   \n",
       "24089        深圳|1年经验|本科|招200人|03-26发布   \n",
       "16825   北京-朝阳区|无工作经验|大专|招150人|03-26发布   \n",
       "10363  北京-朝阳区|5-7年经验|本科|招150人|03-29发布   \n",
       "\n",
       "                                              job_tags  phone_android  \\\n",
       "12265                               绩效奖金,全勤奖,专业培训,节日福利          False   \n",
       "17331  五险一金,补充医疗保险,补充公积金,交通补贴,年终奖金,绩效奖金,通讯补贴,定期体检,餐饮补贴          False   \n",
       "24089                              五险一金,专业培训,年终奖金,员工旅游          False   \n",
       "16825                         五险一金,免费班车,交通补贴,餐饮补贴,绩效奖金          False   \n",
       "10363                            五险一金,补充医疗保险,定期体检,年终奖金          False   \n",
       "\n",
       "       phone_app  phone_iso  pl_c_sharp  pl_cpp  pl_delphi  pl_go  pl_haskell  \\\n",
       "12265      False      False       False   False      False  False       False   \n",
       "17331       True       True        True    True      False  False       False   \n",
       "24089      False      False       False   False      False  False       False   \n",
       "16825      False      False       False   False      False  False       False   \n",
       "10363      False      False       False   False      False   True       False   \n",
       "\n",
       "       pl_java  pl_javascript  pl_julia  pl_kotlin  pl_lua  pl_matlab  \\\n",
       "12265    False          False     False      False   False      False   \n",
       "17331     True          False     False      False   False      False   \n",
       "24089     True          False     False      False   False      False   \n",
       "16825    False          False     False      False   False      False   \n",
       "10363     True          False     False      False   False      False   \n",
       "\n",
       "       pl_objective_c  pl_perl  pl_php  pl_python  pl_ruby  pl_rust  \\\n",
       "12265           False    False   False      False    False    False   \n",
       "17331           False    False   False      False    False    False   \n",
       "24089           False    False   False      False    False    False   \n",
       "16825           False    False   False      False    False    False   \n",
       "10363           False    False   False       True    False    False   \n",
       "\n",
       "       pl_scrala  pl_swift  pl_typescript  pl_vba  pl_visual_basic  \\\n",
       "12265      False     False          False   False            False   \n",
       "17331      False     False          False   False            False   \n",
       "24089      False     False          False   False            False   \n",
       "16825      False     False          False   False            False   \n",
       "10363      False     False          False   False            False   \n",
       "\n",
       "      publish_date  published_on_weekend  tag_baby_care  tag_five_insurance  \\\n",
       "12265   2019-03-13                 False          False               False   \n",
       "17331   2019-03-31                  True          False                True   \n",
       "24089   2019-03-26                 False          False                True   \n",
       "16825   2019-03-26                 False          False                True   \n",
       "10363   2019-03-29                 False          False                True   \n",
       "\n",
       "       tag_flexible  tag_no_overtime  tag_rest_one_day  tag_rest_two_days  \\\n",
       "12265         False            False             False              False   \n",
       "17331         False            False             False              False   \n",
       "24089         False            False             False              False   \n",
       "16825         False            False             False              False   \n",
       "10363         False            False             False              False   \n",
       "\n",
       "       tag_stock  \n",
       "12265      False  \n",
       "17331      False  \n",
       "24089      False  \n",
       "16825      False  \n",
       "10363      False  "
      ]
     },
     "execution_count": 31,
     "metadata": {},
     "output_type": "execute_result"
    }
   ],
   "source": [
    "pd.options.display.max_columns=100\n",
    "data.sort_values(by='headcount', ascending=False).head()"
   ]
  },
  {
   "cell_type": "markdown",
   "metadata": {},
   "source": []
  },
  {
   "cell_type": "code",
   "execution_count": 32,
   "metadata": {},
   "outputs": [
    {
     "data": {
      "text/plain": [
       "96798"
      ]
     },
     "execution_count": 32,
     "metadata": {},
     "output_type": "execute_result"
    }
   ],
   "source": [
    "data.headcount.sum()"
   ]
  },
  {
   "cell_type": "markdown",
   "metadata": {},
   "source": [
    "# 城市"
   ]
  },
  {
   "cell_type": "code",
   "execution_count": 33,
   "metadata": {},
   "outputs": [],
   "source": [
    "headcount_by_cities = data.groupby(by='city').headcount.sum()"
   ]
  },
  {
   "cell_type": "code",
   "execution_count": 34,
   "metadata": {},
   "outputs": [
    {
     "data": {
      "text/plain": [
       "city\n",
       "beijing      28346\n",
       "guangzhou    15715\n",
       "shanghai     33078\n",
       "shenzhen     19659\n",
       "Name: headcount, dtype: int64"
      ]
     },
     "execution_count": 34,
     "metadata": {},
     "output_type": "execute_result"
    }
   ],
   "source": [
    "headcount_by_cities\n"
   ]
  },
  {
   "cell_type": "code",
   "execution_count": 35,
   "metadata": {},
   "outputs": [
    {
     "data": {
      "text/plain": [
       "([<matplotlib.patches.Wedge at 0x1ac792b1940>,\n",
       "  <matplotlib.patches.Wedge at 0x1ac792b1978>,\n",
       "  <matplotlib.patches.Wedge at 0x1ac00b3a860>,\n",
       "  <matplotlib.patches.Wedge at 0x1ac004ee6a0>],\n",
       " [Text(0.666425429219182, 0.8751440723046859, 'beijing'),\n",
       "  Text(-0.7729682300594752, 0.7826366432251447, 'guangzhou'),\n",
       "  Text(-0.772688780446907, -0.7829125420961601, 'shanghai'),\n",
       "  Text(0.8835940174934654, -0.6551805951413379, 'shenzhen')],\n",
       " [Text(0.3635047795740992, 0.47735131216619225, '29.3%'),\n",
       "  Text(-0.4216190345778955, 0.4268927144864425, '16.2%'),\n",
       "  Text(-0.4214666075164947, -0.42704320477972363, '34.2%'),\n",
       "  Text(0.4819603731782538, -0.35737123371345697, '20.3%')])"
      ]
     },
     "execution_count": 35,
     "metadata": {},
     "output_type": "execute_result"
    },
    {
     "data": {
      "image/png": "[encoded data removed]",
      "text/plain": [
       "<Figure size 720x576 with 1 Axes>"
      ]
     },
     "metadata": {},
     "output_type": "display_data"
    }
   ],
   "source": [
    "plt.figure(figsize=(10,8))\n",
    "plt.pie(headcount_by_cities.values, labels=headcount_by_cities.index, autopct='%1.1f%%')"
   ]
  },
  {
   "cell_type": "code",
   "execution_count": 36,
   "metadata": {},
   "outputs": [
    {
     "data": {
      "text/html": [
       "<style  type=\"text/css\" >\n",
       "</style>  \n",
       "<table id=\"T_5264ae3e_69d4_11e9_a7bc_701ce71031ef\" > \n",
       "<thead>    <tr> \n",
       "        <th class=\"col_heading level0 col0\" >city</th> \n",
       "        <th class=\"col_heading level0 col1\" >salary_mean</th> \n",
       "        <th class=\"col_heading level0 col2\" >salary_95_min</th> \n",
       "        <th class=\"col_heading level0 col3\" >salary_median</th> \n",
       "        <th class=\"col_heading level0 col4\" >salary_95_max</th> \n",
       "        <th class=\"col_heading level0 col5\" >head_count</th> \n",
       "        <th class=\"col_heading level0 col6\" >percentage</th> \n",
       "    </tr></thead> \n",
       "<tbody>    <tr> \n",
       "        <td id=\"T_5264ae3e_69d4_11e9_a7bc_701ce71031efrow0_col0\" class=\"data row0 col0\" >beijing</td> \n",
       "        <td id=\"T_5264ae3e_69d4_11e9_a7bc_701ce71031efrow0_col1\" class=\"data row0 col1\" >16277</td> \n",
       "        <td id=\"T_5264ae3e_69d4_11e9_a7bc_701ce71031efrow0_col2\" class=\"data row0 col2\" >3750</td> \n",
       "        <td id=\"T_5264ae3e_69d4_11e9_a7bc_701ce71031efrow0_col3\" class=\"data row0 col3\" >13000</td> \n",
       "        <td id=\"T_5264ae3e_69d4_11e9_a7bc_701ce71031efrow0_col4\" class=\"data row0 col4\" >40000</td> \n",
       "        <td id=\"T_5264ae3e_69d4_11e9_a7bc_701ce71031efrow0_col5\" class=\"data row0 col5\" >28346</td> \n",
       "        <td id=\"T_5264ae3e_69d4_11e9_a7bc_701ce71031efrow0_col6\" class=\"data row0 col6\" >29.28%</td> \n",
       "    </tr>    <tr> \n",
       "        <td id=\"T_5264ae3e_69d4_11e9_a7bc_701ce71031efrow1_col0\" class=\"data row1 col0\" >shanghai</td> \n",
       "        <td id=\"T_5264ae3e_69d4_11e9_a7bc_701ce71031efrow1_col1\" class=\"data row1 col1\" >15842</td> \n",
       "        <td id=\"T_5264ae3e_69d4_11e9_a7bc_701ce71031efrow1_col2\" class=\"data row1 col2\" >5250</td> \n",
       "        <td id=\"T_5264ae3e_69d4_11e9_a7bc_701ce71031efrow1_col3\" class=\"data row1 col3\" >14583</td> \n",
       "        <td id=\"T_5264ae3e_69d4_11e9_a7bc_701ce71031efrow1_col4\" class=\"data row1 col4\" >35000</td> \n",
       "        <td id=\"T_5264ae3e_69d4_11e9_a7bc_701ce71031efrow1_col5\" class=\"data row1 col5\" >33078</td> \n",
       "        <td id=\"T_5264ae3e_69d4_11e9_a7bc_701ce71031efrow1_col6\" class=\"data row1 col6\" >34.17%</td> \n",
       "    </tr>    <tr> \n",
       "        <td id=\"T_5264ae3e_69d4_11e9_a7bc_701ce71031efrow2_col0\" class=\"data row2 col0\" >shenzhen</td> \n",
       "        <td id=\"T_5264ae3e_69d4_11e9_a7bc_701ce71031efrow2_col1\" class=\"data row2 col1\" >15324</td> \n",
       "        <td id=\"T_5264ae3e_69d4_11e9_a7bc_701ce71031efrow2_col2\" class=\"data row2 col2\" >5250</td> \n",
       "        <td id=\"T_5264ae3e_69d4_11e9_a7bc_701ce71031efrow2_col3\" class=\"data row2 col3\" >13500</td> \n",
       "        <td id=\"T_5264ae3e_69d4_11e9_a7bc_701ce71031efrow2_col4\" class=\"data row2 col4\" >33333</td> \n",
       "        <td id=\"T_5264ae3e_69d4_11e9_a7bc_701ce71031efrow2_col5\" class=\"data row2 col5\" >19659</td> \n",
       "        <td id=\"T_5264ae3e_69d4_11e9_a7bc_701ce71031efrow2_col6\" class=\"data row2 col6\" >20.31%</td> \n",
       "    </tr>    <tr> \n",
       "        <td id=\"T_5264ae3e_69d4_11e9_a7bc_701ce71031efrow3_col0\" class=\"data row3 col0\" >guangzhou</td> \n",
       "        <td id=\"T_5264ae3e_69d4_11e9_a7bc_701ce71031efrow3_col1\" class=\"data row3 col1\" >12602</td> \n",
       "        <td id=\"T_5264ae3e_69d4_11e9_a7bc_701ce71031efrow3_col2\" class=\"data row3 col2\" >3750</td> \n",
       "        <td id=\"T_5264ae3e_69d4_11e9_a7bc_701ce71031efrow3_col3\" class=\"data row3 col3\" >11500</td> \n",
       "        <td id=\"T_5264ae3e_69d4_11e9_a7bc_701ce71031efrow3_col4\" class=\"data row3 col4\" >30000</td> \n",
       "        <td id=\"T_5264ae3e_69d4_11e9_a7bc_701ce71031efrow3_col5\" class=\"data row3 col5\" >15715</td> \n",
       "        <td id=\"T_5264ae3e_69d4_11e9_a7bc_701ce71031efrow3_col6\" class=\"data row3 col6\" >16.23%</td> \n",
       "    </tr></tbody> \n",
       "</table> "
      ],
      "text/plain": [
       "<pandas.io.formats.style.Styler at 0x1ac785de9e8>"
      ]
     },
     "execution_count": 36,
     "metadata": {},
     "output_type": "execute_result"
    }
   ],
   "source": [
    "data_pl=get_sub_stats_by_col(data,'city')\n",
    "apply_style(data_pl)"
   ]
  },
  {
   "cell_type": "code",
   "execution_count": 37,
   "metadata": {},
   "outputs": [],
   "source": [
    "salary_beijing=data[data.city=='beijing'].monthly_salary\n",
    "salary_shanghai=data[data.city=='shanghai'].monthly_salary\n",
    "salary_guangzhou=data[data.city=='guangzhou'].monthly_salary\n",
    "salary_shenzhen=data[data.city=='shenzhen'].monthly_salary"
   ]
  },
  {
   "cell_type": "code",
   "execution_count": null,
   "metadata": {},
   "outputs": [],
   "source": []
  },
  {
   "cell_type": "code",
   "execution_count": 40,
   "metadata": {},
   "outputs": [
    {
     "data": {
      "text/plain": [
       "F_onewayResult(statistic=22.14420803123768, pvalue=2.5476227318434546e-06)"
      ]
     },
     "execution_count": 40,
     "metadata": {},
     "output_type": "execute_result"
    }
   ],
   "source": [
    "stats.f_oneway(salary_beijing, salary_shanghai)"
   ]
  },
  {
   "cell_type": "code",
   "execution_count": 41,
   "metadata": {},
   "outputs": [
    {
     "data": {
      "text/plain": [
       "F_onewayResult(statistic=69.48085457393445, pvalue=8.308768347444971e-17)"
      ]
     },
     "execution_count": 41,
     "metadata": {},
     "output_type": "execute_result"
    }
   ],
   "source": [
    "stats.f_oneway(salary_shanghai, salary_shenzhen)"
   ]
  },
  {
   "cell_type": "code",
   "execution_count": 42,
   "metadata": {},
   "outputs": [
    {
     "data": {
      "text/plain": [
       "F_onewayResult(statistic=358.6452808447892, pvalue=9.592982639112029e-79)"
      ]
     },
     "execution_count": 42,
     "metadata": {},
     "output_type": "execute_result"
    }
   ],
   "source": [
    "stats.f_oneway(salary_shenzhen, salary_guangzhou)"
   ]
  },
  {
   "cell_type": "markdown",
   "metadata": {},
   "source": [
    "# 编程语言"
   ]
  },
  {
   "cell_type": "code",
   "execution_count": 44,
   "metadata": {},
   "outputs": [
    {
     "data": {
      "text/html": [
       "<style  type=\"text/css\" >\n",
       "</style>  \n",
       "<table id=\"T_5cceedc0_69d4_11e9_bbf9_701ce71031ef\" > \n",
       "<thead>    <tr> \n",
       "        <th class=\"col_heading level0 col0\" >rank</th> \n",
       "        <th class=\"col_heading level0 col1\" >pl_</th> \n",
       "        <th class=\"col_heading level0 col2\" >salary_mean</th> \n",
       "        <th class=\"col_heading level0 col3\" >salary_median</th> \n",
       "        <th class=\"col_heading level0 col4\" >salary_95_min</th> \n",
       "        <th class=\"col_heading level0 col5\" >salary_95_max</th> \n",
       "        <th class=\"col_heading level0 col6\" >head_count</th> \n",
       "        <th class=\"col_heading level0 col7\" >percentage</th> \n",
       "    </tr></thead> \n",
       "<tbody>    <tr> \n",
       "        <td id=\"T_5cceedc0_69d4_11e9_bbf9_701ce71031efrow0_col0\" class=\"data row0 col0\" >1</td> \n",
       "        <td id=\"T_5cceedc0_69d4_11e9_bbf9_701ce71031efrow0_col1\" class=\"data row0 col1\" >haskell</td> \n",
       "        <td id=\"T_5cceedc0_69d4_11e9_bbf9_701ce71031efrow0_col2\" class=\"data row0 col2\" >28854</td> \n",
       "        <td id=\"T_5cceedc0_69d4_11e9_bbf9_701ce71031efrow0_col3\" class=\"data row0 col3\" >30500</td> \n",
       "        <td id=\"T_5cceedc0_69d4_11e9_bbf9_701ce71031efrow0_col4\" class=\"data row0 col4\" >7500</td> \n",
       "        <td id=\"T_5cceedc0_69d4_11e9_bbf9_701ce71031efrow0_col5\" class=\"data row0 col5\" >45000</td> \n",
       "        <td id=\"T_5cceedc0_69d4_11e9_bbf9_701ce71031efrow0_col6\" class=\"data row0 col6\" >32</td> \n",
       "        <td id=\"T_5cceedc0_69d4_11e9_bbf9_701ce71031efrow0_col7\" class=\"data row0 col7\" >0.02%</td> \n",
       "    </tr>    <tr> \n",
       "        <td id=\"T_5cceedc0_69d4_11e9_bbf9_701ce71031efrow1_col0\" class=\"data row1 col0\" >2</td> \n",
       "        <td id=\"T_5cceedc0_69d4_11e9_bbf9_701ce71031efrow1_col1\" class=\"data row1 col1\" >julia</td> \n",
       "        <td id=\"T_5cceedc0_69d4_11e9_bbf9_701ce71031efrow1_col2\" class=\"data row1 col2\" >26875</td> \n",
       "        <td id=\"T_5cceedc0_69d4_11e9_bbf9_701ce71031efrow1_col3\" class=\"data row1 col3\" >26875</td> \n",
       "        <td id=\"T_5cceedc0_69d4_11e9_bbf9_701ce71031efrow1_col4\" class=\"data row1 col4\" >17500</td> \n",
       "        <td id=\"T_5cceedc0_69d4_11e9_bbf9_701ce71031efrow1_col5\" class=\"data row1 col5\" >30000</td> \n",
       "        <td id=\"T_5cceedc0_69d4_11e9_bbf9_701ce71031efrow1_col6\" class=\"data row1 col6\" >4</td> \n",
       "        <td id=\"T_5cceedc0_69d4_11e9_bbf9_701ce71031efrow1_col7\" class=\"data row1 col7\" >0.00%</td> \n",
       "    </tr>    <tr> \n",
       "        <td id=\"T_5cceedc0_69d4_11e9_bbf9_701ce71031efrow2_col0\" class=\"data row2 col0\" >3</td> \n",
       "        <td id=\"T_5cceedc0_69d4_11e9_bbf9_701ce71031efrow2_col1\" class=\"data row2 col1\" >rust</td> \n",
       "        <td id=\"T_5cceedc0_69d4_11e9_bbf9_701ce71031efrow2_col2\" class=\"data row2 col2\" >23490</td> \n",
       "        <td id=\"T_5cceedc0_69d4_11e9_bbf9_701ce71031efrow2_col3\" class=\"data row2 col3\" >22500</td> \n",
       "        <td id=\"T_5cceedc0_69d4_11e9_bbf9_701ce71031efrow2_col4\" class=\"data row2 col4\" >7000</td> \n",
       "        <td id=\"T_5cceedc0_69d4_11e9_bbf9_701ce71031efrow2_col5\" class=\"data row2 col5\" >45833</td> \n",
       "        <td id=\"T_5cceedc0_69d4_11e9_bbf9_701ce71031efrow2_col6\" class=\"data row2 col6\" >124</td> \n",
       "        <td id=\"T_5cceedc0_69d4_11e9_bbf9_701ce71031efrow2_col7\" class=\"data row2 col7\" >0.09%</td> \n",
       "    </tr>    <tr> \n",
       "        <td id=\"T_5cceedc0_69d4_11e9_bbf9_701ce71031efrow3_col0\" class=\"data row3 col0\" >4</td> \n",
       "        <td id=\"T_5cceedc0_69d4_11e9_bbf9_701ce71031efrow3_col1\" class=\"data row3 col1\" >python</td> \n",
       "        <td id=\"T_5cceedc0_69d4_11e9_bbf9_701ce71031efrow3_col2\" class=\"data row3 col2\" >20011</td> \n",
       "        <td id=\"T_5cceedc0_69d4_11e9_bbf9_701ce71031efrow3_col3\" class=\"data row3 col3\" >17500</td> \n",
       "        <td id=\"T_5cceedc0_69d4_11e9_bbf9_701ce71031efrow3_col4\" class=\"data row3 col4\" >5250</td> \n",
       "        <td id=\"T_5cceedc0_69d4_11e9_bbf9_701ce71031efrow3_col5\" class=\"data row3 col5\" >45000</td> \n",
       "        <td id=\"T_5cceedc0_69d4_11e9_bbf9_701ce71031efrow3_col6\" class=\"data row3 col6\" >11744</td> \n",
       "        <td id=\"T_5cceedc0_69d4_11e9_bbf9_701ce71031efrow3_col7\" class=\"data row3 col7\" >8.67%</td> \n",
       "    </tr>    <tr> \n",
       "        <td id=\"T_5cceedc0_69d4_11e9_bbf9_701ce71031efrow4_col0\" class=\"data row4 col0\" >5</td> \n",
       "        <td id=\"T_5cceedc0_69d4_11e9_bbf9_701ce71031efrow4_col1\" class=\"data row4 col1\" >matlab</td> \n",
       "        <td id=\"T_5cceedc0_69d4_11e9_bbf9_701ce71031efrow4_col2\" class=\"data row4 col2\" >19966</td> \n",
       "        <td id=\"T_5cceedc0_69d4_11e9_bbf9_701ce71031efrow4_col3\" class=\"data row4 col3\" >18000</td> \n",
       "        <td id=\"T_5cceedc0_69d4_11e9_bbf9_701ce71031efrow4_col4\" class=\"data row4 col4\" >6332</td> \n",
       "        <td id=\"T_5cceedc0_69d4_11e9_bbf9_701ce71031efrow4_col5\" class=\"data row4 col5\" >40000</td> \n",
       "        <td id=\"T_5cceedc0_69d4_11e9_bbf9_701ce71031efrow4_col6\" class=\"data row4 col6\" >2085</td> \n",
       "        <td id=\"T_5cceedc0_69d4_11e9_bbf9_701ce71031efrow4_col7\" class=\"data row4 col7\" >1.54%</td> \n",
       "    </tr>    <tr> \n",
       "        <td id=\"T_5cceedc0_69d4_11e9_bbf9_701ce71031efrow5_col0\" class=\"data row5 col0\" >6</td> \n",
       "        <td id=\"T_5cceedc0_69d4_11e9_bbf9_701ce71031efrow5_col1\" class=\"data row5 col1\" >go</td> \n",
       "        <td id=\"T_5cceedc0_69d4_11e9_bbf9_701ce71031efrow5_col2\" class=\"data row5 col2\" >19213</td> \n",
       "        <td id=\"T_5cceedc0_69d4_11e9_bbf9_701ce71031efrow5_col3\" class=\"data row5 col3\" >17500</td> \n",
       "        <td id=\"T_5cceedc0_69d4_11e9_bbf9_701ce71031efrow5_col4\" class=\"data row5 col4\" >6500</td> \n",
       "        <td id=\"T_5cceedc0_69d4_11e9_bbf9_701ce71031efrow5_col5\" class=\"data row5 col5\" >40000</td> \n",
       "        <td id=\"T_5cceedc0_69d4_11e9_bbf9_701ce71031efrow5_col6\" class=\"data row5 col6\" >10525</td> \n",
       "        <td id=\"T_5cceedc0_69d4_11e9_bbf9_701ce71031efrow5_col7\" class=\"data row5 col7\" >7.77%</td> \n",
       "    </tr>    <tr> \n",
       "        <td id=\"T_5cceedc0_69d4_11e9_bbf9_701ce71031efrow6_col0\" class=\"data row6 col0\" >7</td> \n",
       "        <td id=\"T_5cceedc0_69d4_11e9_bbf9_701ce71031efrow6_col1\" class=\"data row6 col1\" >perl</td> \n",
       "        <td id=\"T_5cceedc0_69d4_11e9_bbf9_701ce71031efrow6_col2\" class=\"data row6 col2\" >19149</td> \n",
       "        <td id=\"T_5cceedc0_69d4_11e9_bbf9_701ce71031efrow6_col3\" class=\"data row6 col3\" >17500</td> \n",
       "        <td id=\"T_5cceedc0_69d4_11e9_bbf9_701ce71031efrow6_col4\" class=\"data row6 col4\" >3750</td> \n",
       "        <td id=\"T_5cceedc0_69d4_11e9_bbf9_701ce71031efrow6_col5\" class=\"data row6 col5\" >46506</td> \n",
       "        <td id=\"T_5cceedc0_69d4_11e9_bbf9_701ce71031efrow6_col6\" class=\"data row6 col6\" >1237</td> \n",
       "        <td id=\"T_5cceedc0_69d4_11e9_bbf9_701ce71031efrow6_col7\" class=\"data row6 col7\" >0.91%</td> \n",
       "    </tr>    <tr> \n",
       "        <td id=\"T_5cceedc0_69d4_11e9_bbf9_701ce71031efrow7_col0\" class=\"data row7 col0\" >8</td> \n",
       "        <td id=\"T_5cceedc0_69d4_11e9_bbf9_701ce71031efrow7_col1\" class=\"data row7 col1\" >cpp</td> \n",
       "        <td id=\"T_5cceedc0_69d4_11e9_bbf9_701ce71031efrow7_col2\" class=\"data row7 col2\" >17618</td> \n",
       "        <td id=\"T_5cceedc0_69d4_11e9_bbf9_701ce71031efrow7_col3\" class=\"data row7 col3\" >15000</td> \n",
       "        <td id=\"T_5cceedc0_69d4_11e9_bbf9_701ce71031efrow7_col4\" class=\"data row7 col4\" >5000</td> \n",
       "        <td id=\"T_5cceedc0_69d4_11e9_bbf9_701ce71031efrow7_col5\" class=\"data row7 col5\" >40000</td> \n",
       "        <td id=\"T_5cceedc0_69d4_11e9_bbf9_701ce71031efrow7_col6\" class=\"data row7 col6\" >22521</td> \n",
       "        <td id=\"T_5cceedc0_69d4_11e9_bbf9_701ce71031efrow7_col7\" class=\"data row7 col7\" >16.62%</td> \n",
       "    </tr>    <tr> \n",
       "        <td id=\"T_5cceedc0_69d4_11e9_bbf9_701ce71031efrow8_col0\" class=\"data row8 col0\" >9</td> \n",
       "        <td id=\"T_5cceedc0_69d4_11e9_bbf9_701ce71031efrow8_col1\" class=\"data row8 col1\" >lua</td> \n",
       "        <td id=\"T_5cceedc0_69d4_11e9_bbf9_701ce71031efrow8_col2\" class=\"data row8 col2\" >17118</td> \n",
       "        <td id=\"T_5cceedc0_69d4_11e9_bbf9_701ce71031efrow8_col3\" class=\"data row8 col3\" >15000</td> \n",
       "        <td id=\"T_5cceedc0_69d4_11e9_bbf9_701ce71031efrow8_col4\" class=\"data row8 col4\" >6592</td> \n",
       "        <td id=\"T_5cceedc0_69d4_11e9_bbf9_701ce71031efrow8_col5\" class=\"data row8 col5\" >35000</td> \n",
       "        <td id=\"T_5cceedc0_69d4_11e9_bbf9_701ce71031efrow8_col6\" class=\"data row8 col6\" >1784</td> \n",
       "        <td id=\"T_5cceedc0_69d4_11e9_bbf9_701ce71031efrow8_col7\" class=\"data row8 col7\" >1.32%</td> \n",
       "    </tr>    <tr> \n",
       "        <td id=\"T_5cceedc0_69d4_11e9_bbf9_701ce71031efrow9_col0\" class=\"data row9 col0\" >10</td> \n",
       "        <td id=\"T_5cceedc0_69d4_11e9_bbf9_701ce71031efrow9_col1\" class=\"data row9 col1\" >kotlin</td> \n",
       "        <td id=\"T_5cceedc0_69d4_11e9_bbf9_701ce71031efrow9_col2\" class=\"data row9 col2\" >17112</td> \n",
       "        <td id=\"T_5cceedc0_69d4_11e9_bbf9_701ce71031efrow9_col3\" class=\"data row9 col3\" >13000</td> \n",
       "        <td id=\"T_5cceedc0_69d4_11e9_bbf9_701ce71031efrow9_col4\" class=\"data row9 col4\" >7500</td> \n",
       "        <td id=\"T_5cceedc0_69d4_11e9_bbf9_701ce71031efrow9_col5\" class=\"data row9 col5\" >31050</td> \n",
       "        <td id=\"T_5cceedc0_69d4_11e9_bbf9_701ce71031efrow9_col6\" class=\"data row9 col6\" >296</td> \n",
       "        <td id=\"T_5cceedc0_69d4_11e9_bbf9_701ce71031efrow9_col7\" class=\"data row9 col7\" >0.22%</td> \n",
       "    </tr>    <tr> \n",
       "        <td id=\"T_5cceedc0_69d4_11e9_bbf9_701ce71031efrow10_col0\" class=\"data row10 col0\" >11</td> \n",
       "        <td id=\"T_5cceedc0_69d4_11e9_bbf9_701ce71031efrow10_col1\" class=\"data row10 col1\" >ruby</td> \n",
       "        <td id=\"T_5cceedc0_69d4_11e9_bbf9_701ce71031efrow10_col2\" class=\"data row10 col2\" >16308</td> \n",
       "        <td id=\"T_5cceedc0_69d4_11e9_bbf9_701ce71031efrow10_col3\" class=\"data row10 col3\" >16000</td> \n",
       "        <td id=\"T_5cceedc0_69d4_11e9_bbf9_701ce71031efrow10_col4\" class=\"data row10 col4\" >1750</td> \n",
       "        <td id=\"T_5cceedc0_69d4_11e9_bbf9_701ce71031efrow10_col5\" class=\"data row10 col5\" >32469</td> \n",
       "        <td id=\"T_5cceedc0_69d4_11e9_bbf9_701ce71031efrow10_col6\" class=\"data row10 col6\" >463</td> \n",
       "        <td id=\"T_5cceedc0_69d4_11e9_bbf9_701ce71031efrow10_col7\" class=\"data row10 col7\" >0.34%</td> \n",
       "    </tr>    <tr> \n",
       "        <td id=\"T_5cceedc0_69d4_11e9_bbf9_701ce71031efrow11_col0\" class=\"data row11 col0\" >12</td> \n",
       "        <td id=\"T_5cceedc0_69d4_11e9_bbf9_701ce71031efrow11_col1\" class=\"data row11 col1\" >typescript</td> \n",
       "        <td id=\"T_5cceedc0_69d4_11e9_bbf9_701ce71031efrow11_col2\" class=\"data row11 col2\" >15888</td> \n",
       "        <td id=\"T_5cceedc0_69d4_11e9_bbf9_701ce71031efrow11_col3\" class=\"data row11 col3\" >15000</td> \n",
       "        <td id=\"T_5cceedc0_69d4_11e9_bbf9_701ce71031efrow11_col4\" class=\"data row11 col4\" >6367</td> \n",
       "        <td id=\"T_5cceedc0_69d4_11e9_bbf9_701ce71031efrow11_col5\" class=\"data row11 col5\" >30000</td> \n",
       "        <td id=\"T_5cceedc0_69d4_11e9_bbf9_701ce71031efrow11_col6\" class=\"data row11 col6\" >464</td> \n",
       "        <td id=\"T_5cceedc0_69d4_11e9_bbf9_701ce71031efrow11_col7\" class=\"data row11 col7\" >0.34%</td> \n",
       "    </tr>    <tr> \n",
       "        <td id=\"T_5cceedc0_69d4_11e9_bbf9_701ce71031efrow12_col0\" class=\"data row12 col0\" >13</td> \n",
       "        <td id=\"T_5cceedc0_69d4_11e9_bbf9_701ce71031efrow12_col1\" class=\"data row12 col1\" >java</td> \n",
       "        <td id=\"T_5cceedc0_69d4_11e9_bbf9_701ce71031efrow12_col2\" class=\"data row12 col2\" >15444</td> \n",
       "        <td id=\"T_5cceedc0_69d4_11e9_bbf9_701ce71031efrow12_col3\" class=\"data row12 col3\" >13500</td> \n",
       "        <td id=\"T_5cceedc0_69d4_11e9_bbf9_701ce71031efrow12_col4\" class=\"data row12 col4\" >3750</td> \n",
       "        <td id=\"T_5cceedc0_69d4_11e9_bbf9_701ce71031efrow12_col5\" class=\"data row12 col5\" >35000</td> \n",
       "        <td id=\"T_5cceedc0_69d4_11e9_bbf9_701ce71031efrow12_col6\" class=\"data row12 col6\" >42799</td> \n",
       "        <td id=\"T_5cceedc0_69d4_11e9_bbf9_701ce71031efrow12_col7\" class=\"data row12 col7\" >31.58%</td> \n",
       "    </tr>    <tr> \n",
       "        <td id=\"T_5cceedc0_69d4_11e9_bbf9_701ce71031efrow13_col0\" class=\"data row13 col0\" >14</td> \n",
       "        <td id=\"T_5cceedc0_69d4_11e9_bbf9_701ce71031efrow13_col1\" class=\"data row13 col1\" >swift</td> \n",
       "        <td id=\"T_5cceedc0_69d4_11e9_bbf9_701ce71031efrow13_col2\" class=\"data row13 col2\" >15356</td> \n",
       "        <td id=\"T_5cceedc0_69d4_11e9_bbf9_701ce71031efrow13_col3\" class=\"data row13 col3\" >15000</td> \n",
       "        <td id=\"T_5cceedc0_69d4_11e9_bbf9_701ce71031efrow13_col4\" class=\"data row13 col4\" >5362</td> \n",
       "        <td id=\"T_5cceedc0_69d4_11e9_bbf9_701ce71031efrow13_col5\" class=\"data row13 col5\" >30000</td> \n",
       "        <td id=\"T_5cceedc0_69d4_11e9_bbf9_701ce71031efrow13_col6\" class=\"data row13 col6\" >1114</td> \n",
       "        <td id=\"T_5cceedc0_69d4_11e9_bbf9_701ce71031efrow13_col7\" class=\"data row13 col7\" >0.82%</td> \n",
       "    </tr>    <tr> \n",
       "        <td id=\"T_5cceedc0_69d4_11e9_bbf9_701ce71031efrow14_col0\" class=\"data row14 col0\" >15</td> \n",
       "        <td id=\"T_5cceedc0_69d4_11e9_bbf9_701ce71031efrow14_col1\" class=\"data row14 col1\" >objective_c</td> \n",
       "        <td id=\"T_5cceedc0_69d4_11e9_bbf9_701ce71031efrow14_col2\" class=\"data row14 col2\" >14612</td> \n",
       "        <td id=\"T_5cceedc0_69d4_11e9_bbf9_701ce71031efrow14_col3\" class=\"data row14 col3\" >12550</td> \n",
       "        <td id=\"T_5cceedc0_69d4_11e9_bbf9_701ce71031efrow14_col4\" class=\"data row14 col4\" >6869</td> \n",
       "        <td id=\"T_5cceedc0_69d4_11e9_bbf9_701ce71031efrow14_col5\" class=\"data row14 col5\" >27500</td> \n",
       "        <td id=\"T_5cceedc0_69d4_11e9_bbf9_701ce71031efrow14_col6\" class=\"data row14 col6\" >208</td> \n",
       "        <td id=\"T_5cceedc0_69d4_11e9_bbf9_701ce71031efrow14_col7\" class=\"data row14 col7\" >0.15%</td> \n",
       "    </tr>    <tr> \n",
       "        <td id=\"T_5cceedc0_69d4_11e9_bbf9_701ce71031efrow15_col0\" class=\"data row15 col0\" >16</td> \n",
       "        <td id=\"T_5cceedc0_69d4_11e9_bbf9_701ce71031efrow15_col1\" class=\"data row15 col1\" >php</td> \n",
       "        <td id=\"T_5cceedc0_69d4_11e9_bbf9_701ce71031efrow15_col2\" class=\"data row15 col2\" >14223</td> \n",
       "        <td id=\"T_5cceedc0_69d4_11e9_bbf9_701ce71031efrow15_col3\" class=\"data row15 col3\" >12500</td> \n",
       "        <td id=\"T_5cceedc0_69d4_11e9_bbf9_701ce71031efrow15_col4\" class=\"data row15 col4\" >3750</td> \n",
       "        <td id=\"T_5cceedc0_69d4_11e9_bbf9_701ce71031efrow15_col5\" class=\"data row15 col5\" >35000</td> \n",
       "        <td id=\"T_5cceedc0_69d4_11e9_bbf9_701ce71031efrow15_col6\" class=\"data row15 col6\" >6717</td> \n",
       "        <td id=\"T_5cceedc0_69d4_11e9_bbf9_701ce71031efrow15_col7\" class=\"data row15 col7\" >4.96%</td> \n",
       "    </tr>    <tr> \n",
       "        <td id=\"T_5cceedc0_69d4_11e9_bbf9_701ce71031efrow16_col0\" class=\"data row16 col0\" >17</td> \n",
       "        <td id=\"T_5cceedc0_69d4_11e9_bbf9_701ce71031efrow16_col1\" class=\"data row16 col1\" >javascript</td> \n",
       "        <td id=\"T_5cceedc0_69d4_11e9_bbf9_701ce71031efrow16_col2\" class=\"data row16 col2\" >13379</td> \n",
       "        <td id=\"T_5cceedc0_69d4_11e9_bbf9_701ce71031efrow16_col3\" class=\"data row16 col3\" >12500</td> \n",
       "        <td id=\"T_5cceedc0_69d4_11e9_bbf9_701ce71031efrow16_col4\" class=\"data row16 col4\" >5000</td> \n",
       "        <td id=\"T_5cceedc0_69d4_11e9_bbf9_701ce71031efrow16_col5\" class=\"data row16 col5\" >27500</td> \n",
       "        <td id=\"T_5cceedc0_69d4_11e9_bbf9_701ce71031efrow16_col6\" class=\"data row16 col6\" >17907</td> \n",
       "        <td id=\"T_5cceedc0_69d4_11e9_bbf9_701ce71031efrow16_col7\" class=\"data row16 col7\" >13.21%</td> \n",
       "    </tr>    <tr> \n",
       "        <td id=\"T_5cceedc0_69d4_11e9_bbf9_701ce71031efrow17_col0\" class=\"data row17 col0\" >18</td> \n",
       "        <td id=\"T_5cceedc0_69d4_11e9_bbf9_701ce71031efrow17_col1\" class=\"data row17 col1\" >c_sharp</td> \n",
       "        <td id=\"T_5cceedc0_69d4_11e9_bbf9_701ce71031efrow17_col2\" class=\"data row17 col2\" >12863</td> \n",
       "        <td id=\"T_5cceedc0_69d4_11e9_bbf9_701ce71031efrow17_col3\" class=\"data row17 col3\" >12500</td> \n",
       "        <td id=\"T_5cceedc0_69d4_11e9_bbf9_701ce71031efrow17_col4\" class=\"data row17 col4\" >4000</td> \n",
       "        <td id=\"T_5cceedc0_69d4_11e9_bbf9_701ce71031efrow17_col5\" class=\"data row17 col5\" >25000</td> \n",
       "        <td id=\"T_5cceedc0_69d4_11e9_bbf9_701ce71031efrow17_col6\" class=\"data row17 col6\" >15024</td> \n",
       "        <td id=\"T_5cceedc0_69d4_11e9_bbf9_701ce71031efrow17_col7\" class=\"data row17 col7\" >11.09%</td> \n",
       "    </tr>    <tr> \n",
       "        <td id=\"T_5cceedc0_69d4_11e9_bbf9_701ce71031efrow18_col0\" class=\"data row18 col0\" >19</td> \n",
       "        <td id=\"T_5cceedc0_69d4_11e9_bbf9_701ce71031efrow18_col1\" class=\"data row18 col1\" >vba</td> \n",
       "        <td id=\"T_5cceedc0_69d4_11e9_bbf9_701ce71031efrow18_col2\" class=\"data row18 col2\" >12777</td> \n",
       "        <td id=\"T_5cceedc0_69d4_11e9_bbf9_701ce71031efrow18_col3\" class=\"data row18 col3\" >12500</td> \n",
       "        <td id=\"T_5cceedc0_69d4_11e9_bbf9_701ce71031efrow18_col4\" class=\"data row18 col4\" >7000</td> \n",
       "        <td id=\"T_5cceedc0_69d4_11e9_bbf9_701ce71031efrow18_col5\" class=\"data row18 col5\" >20000</td> \n",
       "        <td id=\"T_5cceedc0_69d4_11e9_bbf9_701ce71031efrow18_col6\" class=\"data row18 col6\" >163</td> \n",
       "        <td id=\"T_5cceedc0_69d4_11e9_bbf9_701ce71031efrow18_col7\" class=\"data row18 col7\" >0.12%</td> \n",
       "    </tr>    <tr> \n",
       "        <td id=\"T_5cceedc0_69d4_11e9_bbf9_701ce71031efrow19_col0\" class=\"data row19 col0\" >20</td> \n",
       "        <td id=\"T_5cceedc0_69d4_11e9_bbf9_701ce71031efrow19_col1\" class=\"data row19 col1\" >delphi</td> \n",
       "        <td id=\"T_5cceedc0_69d4_11e9_bbf9_701ce71031efrow19_col2\" class=\"data row19 col2\" >12690</td> \n",
       "        <td id=\"T_5cceedc0_69d4_11e9_bbf9_701ce71031efrow19_col3\" class=\"data row19 col3\" >12500</td> \n",
       "        <td id=\"T_5cceedc0_69d4_11e9_bbf9_701ce71031efrow19_col4\" class=\"data row19 col4\" >5510</td> \n",
       "        <td id=\"T_5cceedc0_69d4_11e9_bbf9_701ce71031efrow19_col5\" class=\"data row19 col5\" >25000</td> \n",
       "        <td id=\"T_5cceedc0_69d4_11e9_bbf9_701ce71031efrow19_col6\" class=\"data row19 col6\" >282</td> \n",
       "        <td id=\"T_5cceedc0_69d4_11e9_bbf9_701ce71031efrow19_col7\" class=\"data row19 col7\" >0.21%</td> \n",
       "    </tr>    <tr> \n",
       "        <td id=\"T_5cceedc0_69d4_11e9_bbf9_701ce71031efrow20_col0\" class=\"data row20 col0\" >21</td> \n",
       "        <td id=\"T_5cceedc0_69d4_11e9_bbf9_701ce71031efrow20_col1\" class=\"data row20 col1\" >visual_basic</td> \n",
       "        <td id=\"T_5cceedc0_69d4_11e9_bbf9_701ce71031efrow20_col2\" class=\"data row20 col2\" >9344</td> \n",
       "        <td id=\"T_5cceedc0_69d4_11e9_bbf9_701ce71031efrow20_col3\" class=\"data row20 col3\" >8533</td> \n",
       "        <td id=\"T_5cceedc0_69d4_11e9_bbf9_701ce71031efrow20_col4\" class=\"data row20 col4\" >6325</td> \n",
       "        <td id=\"T_5cceedc0_69d4_11e9_bbf9_701ce71031efrow20_col5\" class=\"data row20 col5\" >17000</td> \n",
       "        <td id=\"T_5cceedc0_69d4_11e9_bbf9_701ce71031efrow20_col6\" class=\"data row20 col6\" >24</td> \n",
       "        <td id=\"T_5cceedc0_69d4_11e9_bbf9_701ce71031efrow20_col7\" class=\"data row20 col7\" >0.02%</td> \n",
       "    </tr></tbody> \n",
       "</table> "
      ],
      "text/plain": [
       "<pandas.io.formats.style.Styler at 0x1ac79c29208>"
      ]
     },
     "execution_count": 44,
     "metadata": {},
     "output_type": "execute_result"
    }
   ],
   "source": [
    "data_pl=get_sub_stats_by_prefix(data,'pl_')\n",
    "apply_style(data_pl)"
   ]
  },
  {
   "cell_type": "code",
   "execution_count": null,
   "metadata": {},
   "outputs": [],
   "source": []
  },
  {
   "cell_type": "markdown",
   "metadata": {},
   "source": [
    "数据显示，haskell才是最赚钱的编程语言。python是主流语言里面最赚钱的，比java的工资多了3000元！vb是最不赚钱的了。其中，最赚钱的编程语言和最不赚钱的，工资居然差了2倍。所以，要选好编程语言呀！"
   ]
  },
  {
   "cell_type": "markdown",
   "metadata": {},
   "source": [
    "# 教育"
   ]
  },
  {
   "cell_type": "code",
   "execution_count": 45,
   "metadata": {},
   "outputs": [],
   "source": [
    "edu_counts=data[~(data.edu=='')].groupby(by=['edu']).headcount.sum()"
   ]
  },
  {
   "cell_type": "code",
   "execution_count": 46,
   "metadata": {},
   "outputs": [
    {
     "data": {
      "text/plain": [
       "edu\n",
       "初中及以下       23\n",
       "博士         125\n",
       "大专       24813\n",
       "本科       51847\n",
       "硕士        2943\n",
       "高中         145\n",
       "Name: headcount, dtype: int64"
      ]
     },
     "execution_count": 46,
     "metadata": {},
     "output_type": "execute_result"
    }
   ],
   "source": [
    "edu_counts"
   ]
  },
  {
   "cell_type": "code",
   "execution_count": 47,
   "metadata": {},
   "outputs": [
    {
     "data": {
      "text/plain": [
       "([<matplotlib.patches.Wedge at 0x1ac00b39748>,\n",
       "  <matplotlib.patches.Wedge at 0x1ac00b39eb8>,\n",
       "  <matplotlib.patches.Wedge at 0x1ac00b385f8>,\n",
       "  <matplotlib.patches.Wedge at 0x1ac00b38cf8>,\n",
       "  <matplotlib.patches.Wedge at 0x1ac00b42438>,\n",
       "  <matplotlib.patches.Wedge at 0x1ac00b42b38>],\n",
       " [Text(1.0999995501497521, 0.0009948217644271528, '初中及以下'),\n",
       "  Text(1.0999751341709423, 0.00739622914855375, '博士'),\n",
       "  Text(0.6060289350218147, 0.9180026851356838, '大专'),\n",
       "  Text(-0.7176238767234895, -0.8336761790745554, '本科'),\n",
       "  Text(1.0911235484865336, -0.1394611126377361, '硕士'),\n",
       "  Text(1.0999821203397868, -0.006271756754451032, '高中')],\n",
       " [Text(0.5999997546271375, 0.0005426300533239014, '0.0%'),\n",
       "  Text(0.5999864368205139, 0.004034306808302045, '0.2%'),\n",
       "  Text(0.3305612372846261, 0.5007287373467366, '31.1%'),\n",
       "  Text(-0.3914312054855397, -0.45473246131339373, '64.9%'),\n",
       "  Text(0.5951582991744728, -0.0760696978024015, '3.7%'),\n",
       "  Text(0.5999902474580655, -0.0034209582297005624, '0.2%')])"
      ]
     },
     "execution_count": 47,
     "metadata": {},
     "output_type": "execute_result"
    },
    {
     "data": {
      "image/png": "[encoded data removed]",
      "text/plain": [
       "<Figure size 720x576 with 1 Axes>"
      ]
     },
     "metadata": {},
     "output_type": "display_data"
    }
   ],
   "source": [
    "plt.figure(figsize=(10,8))\n",
    "plt.pie(edu_counts.values, labels=edu_counts.index, autopct='%1.1f%%')"
   ]
  },
  {
   "cell_type": "code",
   "execution_count": 48,
   "metadata": {},
   "outputs": [
    {
     "data": {
      "text/html": [
       "<style  type=\"text/css\" >\n",
       "</style>  \n",
       "<table id=\"T_842bd94c_69d4_11e9_a3e8_701ce71031ef\" > \n",
       "<thead>    <tr> \n",
       "        <th class=\"col_heading level0 col0\" >edu</th> \n",
       "        <th class=\"col_heading level0 col1\" >salary_mean</th> \n",
       "        <th class=\"col_heading level0 col2\" >salary_95_min</th> \n",
       "        <th class=\"col_heading level0 col3\" >salary_median</th> \n",
       "        <th class=\"col_heading level0 col4\" >salary_95_max</th> \n",
       "        <th class=\"col_heading level0 col5\" >head_count</th> \n",
       "        <th class=\"col_heading level0 col6\" >percentage</th> \n",
       "    </tr></thead> \n",
       "<tbody>    <tr> \n",
       "        <td id=\"T_842bd94c_69d4_11e9_a3e8_701ce71031efrow0_col0\" class=\"data row0 col0\" >博士</td> \n",
       "        <td id=\"T_842bd94c_69d4_11e9_a3e8_701ce71031efrow0_col1\" class=\"data row0 col1\" >26983</td> \n",
       "        <td id=\"T_842bd94c_69d4_11e9_a3e8_701ce71031efrow0_col2\" class=\"data row0 col2\" >12500</td> \n",
       "        <td id=\"T_842bd94c_69d4_11e9_a3e8_701ce71031efrow0_col3\" class=\"data row0 col3\" >26389</td> \n",
       "        <td id=\"T_842bd94c_69d4_11e9_a3e8_701ce71031efrow0_col4\" class=\"data row0 col4\" >55000</td> \n",
       "        <td id=\"T_842bd94c_69d4_11e9_a3e8_701ce71031efrow0_col5\" class=\"data row0 col5\" >125</td> \n",
       "        <td id=\"T_842bd94c_69d4_11e9_a3e8_701ce71031efrow0_col6\" class=\"data row0 col6\" >0.16%</td> \n",
       "    </tr>    <tr> \n",
       "        <td id=\"T_842bd94c_69d4_11e9_a3e8_701ce71031efrow1_col0\" class=\"data row1 col0\" >硕士</td> \n",
       "        <td id=\"T_842bd94c_69d4_11e9_a3e8_701ce71031efrow1_col1\" class=\"data row1 col1\" >21761</td> \n",
       "        <td id=\"T_842bd94c_69d4_11e9_a3e8_701ce71031efrow1_col2\" class=\"data row1 col2\" >5250</td> \n",
       "        <td id=\"T_842bd94c_69d4_11e9_a3e8_701ce71031efrow1_col3\" class=\"data row1 col3\" >20000</td> \n",
       "        <td id=\"T_842bd94c_69d4_11e9_a3e8_701ce71031efrow1_col4\" class=\"data row1 col4\" >47375</td> \n",
       "        <td id=\"T_842bd94c_69d4_11e9_a3e8_701ce71031efrow1_col5\" class=\"data row1 col5\" >2943</td> \n",
       "        <td id=\"T_842bd94c_69d4_11e9_a3e8_701ce71031efrow1_col6\" class=\"data row1 col6\" >3.68%</td> \n",
       "    </tr>    <tr> \n",
       "        <td id=\"T_842bd94c_69d4_11e9_a3e8_701ce71031efrow2_col0\" class=\"data row2 col0\" >本科</td> \n",
       "        <td id=\"T_842bd94c_69d4_11e9_a3e8_701ce71031efrow2_col1\" class=\"data row2 col1\" >16431</td> \n",
       "        <td id=\"T_842bd94c_69d4_11e9_a3e8_701ce71031efrow2_col2\" class=\"data row2 col2\" >4750</td> \n",
       "        <td id=\"T_842bd94c_69d4_11e9_a3e8_701ce71031efrow2_col3\" class=\"data row2 col3\" >15000</td> \n",
       "        <td id=\"T_842bd94c_69d4_11e9_a3e8_701ce71031efrow2_col4\" class=\"data row2 col4\" >37500</td> \n",
       "        <td id=\"T_842bd94c_69d4_11e9_a3e8_701ce71031efrow2_col5\" class=\"data row2 col5\" >51847</td> \n",
       "        <td id=\"T_842bd94c_69d4_11e9_a3e8_701ce71031efrow2_col6\" class=\"data row2 col6\" >64.89%</td> \n",
       "    </tr>    <tr> \n",
       "        <td id=\"T_842bd94c_69d4_11e9_a3e8_701ce71031efrow3_col0\" class=\"data row3 col0\" >大专</td> \n",
       "        <td id=\"T_842bd94c_69d4_11e9_a3e8_701ce71031efrow3_col1\" class=\"data row3 col1\" >12592</td> \n",
       "        <td id=\"T_842bd94c_69d4_11e9_a3e8_701ce71031efrow3_col2\" class=\"data row3 col2\" >4500</td> \n",
       "        <td id=\"T_842bd94c_69d4_11e9_a3e8_701ce71031efrow3_col3\" class=\"data row3 col3\" >12500</td> \n",
       "        <td id=\"T_842bd94c_69d4_11e9_a3e8_701ce71031efrow3_col4\" class=\"data row3 col4\" >27500</td> \n",
       "        <td id=\"T_842bd94c_69d4_11e9_a3e8_701ce71031efrow3_col5\" class=\"data row3 col5\" >24813</td> \n",
       "        <td id=\"T_842bd94c_69d4_11e9_a3e8_701ce71031efrow3_col6\" class=\"data row3 col6\" >31.06%</td> \n",
       "    </tr>    <tr> \n",
       "        <td id=\"T_842bd94c_69d4_11e9_a3e8_701ce71031efrow4_col0\" class=\"data row4 col0\" >初中及以下</td> \n",
       "        <td id=\"T_842bd94c_69d4_11e9_a3e8_701ce71031efrow4_col1\" class=\"data row4 col1\" >9739</td> \n",
       "        <td id=\"T_842bd94c_69d4_11e9_a3e8_701ce71031efrow4_col2\" class=\"data row4 col2\" >4200</td> \n",
       "        <td id=\"T_842bd94c_69d4_11e9_a3e8_701ce71031efrow4_col3\" class=\"data row4 col3\" >9636</td> \n",
       "        <td id=\"T_842bd94c_69d4_11e9_a3e8_701ce71031efrow4_col4\" class=\"data row4 col4\" >12500</td> \n",
       "        <td id=\"T_842bd94c_69d4_11e9_a3e8_701ce71031efrow4_col5\" class=\"data row4 col5\" >23</td> \n",
       "        <td id=\"T_842bd94c_69d4_11e9_a3e8_701ce71031efrow4_col6\" class=\"data row4 col6\" >0.03%</td> \n",
       "    </tr>    <tr> \n",
       "        <td id=\"T_842bd94c_69d4_11e9_a3e8_701ce71031efrow5_col0\" class=\"data row5 col0\" >高中</td> \n",
       "        <td id=\"T_842bd94c_69d4_11e9_a3e8_701ce71031efrow5_col1\" class=\"data row5 col1\" >8040</td> \n",
       "        <td id=\"T_842bd94c_69d4_11e9_a3e8_701ce71031efrow5_col2\" class=\"data row5 col2\" >2500</td> \n",
       "        <td id=\"T_842bd94c_69d4_11e9_a3e8_701ce71031efrow5_col3\" class=\"data row5 col3\" >6227</td> \n",
       "        <td id=\"T_842bd94c_69d4_11e9_a3e8_701ce71031efrow5_col4\" class=\"data row5 col4\" >18250</td> \n",
       "        <td id=\"T_842bd94c_69d4_11e9_a3e8_701ce71031efrow5_col5\" class=\"data row5 col5\" >145</td> \n",
       "        <td id=\"T_842bd94c_69d4_11e9_a3e8_701ce71031efrow5_col6\" class=\"data row5 col6\" >0.18%</td> \n",
       "    </tr></tbody> \n",
       "</table> "
      ],
      "text/plain": [
       "<pandas.io.formats.style.Styler at 0x1ac004db198>"
      ]
     },
     "execution_count": 48,
     "metadata": {},
     "output_type": "execute_result"
    }
   ],
   "source": [
    "data_edu=get_sub_stats_by_col(data[data.edu.isin(['初中及以下','高中','大专','本科','硕士','博士'])], 'edu')\n",
    "apply_style(data_edu)"
   ]
  },
  {
   "cell_type": "code",
   "execution_count": 49,
   "metadata": {},
   "outputs": [],
   "source": [
    "salary_associate=data[data.edu=='大专'].monthly_salary\n",
    "salary_bachelor=data[data.edu=='本科'].monthly_salary\n",
    "salary_master=data[data.edu=='硕士'].monthly_salary\n",
    "salary_phd=data[data.edu=='博士'].monthly_salary"
   ]
  },
  {
   "cell_type": "code",
   "execution_count": null,
   "metadata": {},
   "outputs": [],
   "source": []
  },
  {
   "cell_type": "code",
   "execution_count": 50,
   "metadata": {},
   "outputs": [
    {
     "name": "stdout",
     "output_type": "stream",
     "text": [
      "大专，本科，硕士，博士的平均工资分别是12860，16802，22170，27051。中位数分别是12500， 15000，20000， 26042。\n"
     ]
    }
   ],
   "source": [
    "print('大专，本科，硕士，博士的平均工资分别是{:.0f}，{:.0f}，{:.0f}，{:.0f}。中位数分别是{:.0f}， {:.0f}，{:.0f}， {:.0f}。'.format(\n",
    "    salary_associate.mean(),salary_bachelor.mean(),salary_master.mean(),salary_phd.mean(),\n",
    "    salary_associate.median(),salary_bachelor.median(),salary_master.median(),salary_phd.median()))"
   ]
  },
  {
   "cell_type": "code",
   "execution_count": 51,
   "metadata": {},
   "outputs": [
    {
     "data": {
      "text/plain": [
       "F_onewayResult(statistic=8.764739067777986, pvalue=0.0031408601732829155)"
      ]
     },
     "execution_count": 51,
     "metadata": {},
     "output_type": "execute_result"
    }
   ],
   "source": [
    "stats.f_oneway(salary_phd, salary_master)"
   ]
  },
  {
   "cell_type": "code",
   "execution_count": 52,
   "metadata": {},
   "outputs": [
    {
     "data": {
      "text/plain": [
       "F_onewayResult(statistic=399.3412362436886, pvalue=7.630474542602564e-88)"
      ]
     },
     "execution_count": 52,
     "metadata": {},
     "output_type": "execute_result"
    }
   ],
   "source": [
    "stats.f_oneway(salary_master, salary_bachelor)"
   ]
  },
  {
   "cell_type": "code",
   "execution_count": 53,
   "metadata": {},
   "outputs": [
    {
     "data": {
      "text/plain": [
       "F_onewayResult(statistic=1461.1693896259414, pvalue=2.936825036082e-310)"
      ]
     },
     "execution_count": 53,
     "metadata": {},
     "output_type": "execute_result"
    }
   ],
   "source": [
    "stats.f_oneway(salary_bachelor, salary_associate)"
   ]
  },
  {
   "cell_type": "markdown",
   "metadata": {},
   "source": [
    "经过Oneway Anova Test，证明从大专到博士，学历每提高一级，工资都有显著的提高。"
   ]
  },
  {
   "cell_type": "code",
   "execution_count": 54,
   "metadata": {},
   "outputs": [
    {
     "data": {
      "image/png": "[encoded data removed]",
      "text/plain": [
       "<Figure size 432x288 with 1 Axes>"
      ]
     },
     "metadata": {
      "needs_background": "light"
     },
     "output_type": "display_data"
    }
   ],
   "source": [
    "\n",
    "order=['大专','本科','硕士','博士']\n",
    "a=sns.boxplot(y='edu',x='monthly_salary',order=order,data=data[data.edu.isin(order)], orient='h')\n",
    "plt.annotate('https://github.com/juwikuang/job_survey', xy=(0.5,1.5), xytext=(2, 1.55))\n",
    "plt.show()"
   ]
  },
  {
   "cell_type": "markdown",
   "metadata": {},
   "source": [
    "# 工作经验 Working Experience"
   ]
  },
  {
   "cell_type": "code",
   "execution_count": 55,
   "metadata": {},
   "outputs": [
    {
     "data": {
      "text/html": [
       "<style  type=\"text/css\" >\n",
       "</style>  \n",
       "<table id=\"T_96c92af6_69d4_11e9_9ee6_701ce71031ef\" > \n",
       "<thead>    <tr> \n",
       "        <th class=\"col_heading level0 col0\" >experience</th> \n",
       "        <th class=\"col_heading level0 col1\" >salary_mean</th> \n",
       "        <th class=\"col_heading level0 col2\" >salary_95_min</th> \n",
       "        <th class=\"col_heading level0 col3\" >salary_median</th> \n",
       "        <th class=\"col_heading level0 col4\" >salary_95_max</th> \n",
       "        <th class=\"col_heading level0 col5\" >head_count</th> \n",
       "        <th class=\"col_heading level0 col6\" >percentage</th> \n",
       "    </tr></thead> \n",
       "<tbody>    <tr> \n",
       "        <td id=\"T_96c92af6_69d4_11e9_9ee6_701ce71031efrow0_col0\" class=\"data row0 col0\" >10+</td> \n",
       "        <td id=\"T_96c92af6_69d4_11e9_9ee6_701ce71031efrow0_col1\" class=\"data row0 col1\" >30655</td> \n",
       "        <td id=\"T_96c92af6_69d4_11e9_9ee6_701ce71031efrow0_col2\" class=\"data row0 col2\" >11600</td> \n",
       "        <td id=\"T_96c92af6_69d4_11e9_9ee6_701ce71031efrow0_col3\" class=\"data row0 col3\" >27500</td> \n",
       "        <td id=\"T_96c92af6_69d4_11e9_9ee6_701ce71031efrow0_col4\" class=\"data row0 col4\" >56806</td> \n",
       "        <td id=\"T_96c92af6_69d4_11e9_9ee6_701ce71031efrow0_col5\" class=\"data row0 col5\" >264</td> \n",
       "        <td id=\"T_96c92af6_69d4_11e9_9ee6_701ce71031efrow0_col6\" class=\"data row0 col6\" >0.27%</td> \n",
       "    </tr>    <tr> \n",
       "        <td id=\"T_96c92af6_69d4_11e9_9ee6_701ce71031efrow1_col0\" class=\"data row1 col0\" >5_10</td> \n",
       "        <td id=\"T_96c92af6_69d4_11e9_9ee6_701ce71031efrow1_col1\" class=\"data row1 col1\" >21983</td> \n",
       "        <td id=\"T_96c92af6_69d4_11e9_9ee6_701ce71031efrow1_col2\" class=\"data row1 col2\" >11500</td> \n",
       "        <td id=\"T_96c92af6_69d4_11e9_9ee6_701ce71031efrow1_col3\" class=\"data row1 col3\" >20000</td> \n",
       "        <td id=\"T_96c92af6_69d4_11e9_9ee6_701ce71031efrow1_col4\" class=\"data row1 col4\" >45000</td> \n",
       "        <td id=\"T_96c92af6_69d4_11e9_9ee6_701ce71031efrow1_col5\" class=\"data row1 col5\" >11686</td> \n",
       "        <td id=\"T_96c92af6_69d4_11e9_9ee6_701ce71031efrow1_col6\" class=\"data row1 col6\" >12.07%</td> \n",
       "    </tr>    <tr> \n",
       "        <td id=\"T_96c92af6_69d4_11e9_9ee6_701ce71031efrow2_col0\" class=\"data row2 col0\" >3_5</td> \n",
       "        <td id=\"T_96c92af6_69d4_11e9_9ee6_701ce71031efrow2_col1\" class=\"data row2 col1\" >16836</td> \n",
       "        <td id=\"T_96c92af6_69d4_11e9_9ee6_701ce71031efrow2_col2\" class=\"data row2 col2\" >7500</td> \n",
       "        <td id=\"T_96c92af6_69d4_11e9_9ee6_701ce71031efrow2_col3\" class=\"data row2 col3\" >15000</td> \n",
       "        <td id=\"T_96c92af6_69d4_11e9_9ee6_701ce71031efrow2_col4\" class=\"data row2 col4\" >37500</td> \n",
       "        <td id=\"T_96c92af6_69d4_11e9_9ee6_701ce71031efrow2_col5\" class=\"data row2 col5\" >29002</td> \n",
       "        <td id=\"T_96c92af6_69d4_11e9_9ee6_701ce71031efrow2_col6\" class=\"data row2 col6\" >29.96%</td> \n",
       "    </tr>    <tr> \n",
       "        <td id=\"T_96c92af6_69d4_11e9_9ee6_701ce71031efrow3_col0\" class=\"data row3 col0\" >no</td> \n",
       "        <td id=\"T_96c92af6_69d4_11e9_9ee6_701ce71031efrow3_col1\" class=\"data row3 col1\" >13563</td> \n",
       "        <td id=\"T_96c92af6_69d4_11e9_9ee6_701ce71031efrow3_col2\" class=\"data row3 col2\" >3412</td> \n",
       "        <td id=\"T_96c92af6_69d4_11e9_9ee6_701ce71031efrow3_col3\" class=\"data row3 col3\" >12500</td> \n",
       "        <td id=\"T_96c92af6_69d4_11e9_9ee6_701ce71031efrow3_col4\" class=\"data row3 col4\" >33961</td> \n",
       "        <td id=\"T_96c92af6_69d4_11e9_9ee6_701ce71031efrow3_col5\" class=\"data row3 col5\" >28987</td> \n",
       "        <td id=\"T_96c92af6_69d4_11e9_9ee6_701ce71031efrow3_col6\" class=\"data row3 col6\" >29.95%</td> \n",
       "    </tr>    <tr> \n",
       "        <td id=\"T_96c92af6_69d4_11e9_9ee6_701ce71031efrow4_col0\" class=\"data row4 col0\" >1_3</td> \n",
       "        <td id=\"T_96c92af6_69d4_11e9_9ee6_701ce71031efrow4_col1\" class=\"data row4 col1\" >12596</td> \n",
       "        <td id=\"T_96c92af6_69d4_11e9_9ee6_701ce71031efrow4_col2\" class=\"data row4 col2\" >5250</td> \n",
       "        <td id=\"T_96c92af6_69d4_11e9_9ee6_701ce71031efrow4_col3\" class=\"data row4 col3\" >11500</td> \n",
       "        <td id=\"T_96c92af6_69d4_11e9_9ee6_701ce71031efrow4_col4\" class=\"data row4 col4\" >29167</td> \n",
       "        <td id=\"T_96c92af6_69d4_11e9_9ee6_701ce71031efrow4_col5\" class=\"data row4 col5\" >26859</td> \n",
       "        <td id=\"T_96c92af6_69d4_11e9_9ee6_701ce71031efrow4_col6\" class=\"data row4 col6\" >27.75%</td> \n",
       "    </tr></tbody> \n",
       "</table> "
      ],
      "text/plain": [
       "<pandas.io.formats.style.Styler at 0x1ac00ad22e8>"
      ]
     },
     "execution_count": 55,
     "metadata": {},
     "output_type": "execute_result"
    }
   ],
   "source": [
    "data_experience=get_sub_stats_by_col(data, 'experience')\n",
    "apply_style(data_experience)"
   ]
  },
  {
   "cell_type": "code",
   "execution_count": 56,
   "metadata": {},
   "outputs": [],
   "source": [
    "salary_we_10=data[data.experience=='10+'].monthly_salary\n",
    "salary_we_5_10=data[data.experience=='5_10'].monthly_salary\n",
    "salary_we_3_5=data[data.experience=='3_5'].monthly_salary\n",
    "salary_we_1_3=data[data.experience=='1_3'].monthly_salary\n",
    "salary_we_no=data[data.experience=='no'].monthly_salary"
   ]
  },
  {
   "cell_type": "code",
   "execution_count": 57,
   "metadata": {},
   "outputs": [
    {
     "data": {
      "image/png": "[encoded data removed]",
      "text/plain": [
       "<Figure size 432x288 with 1 Axes>"
      ]
     },
     "metadata": {
      "needs_background": "light"
     },
     "output_type": "display_data"
    }
   ],
   "source": [
    "\n",
    "order=['10+','5_10','3_5','1_3']\n",
    "sns.boxplot(y='experience',x='monthly_salary',order=order,data=data[data.experience.isin(order)], orient='h')\n",
    "plt.annotate('https://github.com/juwikuang/job_survey', xy=(1.5,1.5), xytext=(1.55, 1.55))\n",
    "plt.show()"
   ]
  },
  {
   "cell_type": "markdown",
   "metadata": {},
   "source": [
    "# 公司 Company"
   ]
  },
  {
   "cell_type": "markdown",
   "metadata": {},
   "source": [
    "## 公司性质 Company Type"
   ]
  },
  {
   "cell_type": "code",
   "execution_count": 58,
   "metadata": {},
   "outputs": [
    {
     "data": {
      "text/html": [
       "<style  type=\"text/css\" >\n",
       "</style>  \n",
       "<table id=\"T_9d17799a_69d4_11e9_ba84_701ce71031ef\" > \n",
       "<thead>    <tr> \n",
       "        <th class=\"col_heading level0 col0\" >company_type</th> \n",
       "        <th class=\"col_heading level0 col1\" >salary_mean</th> \n",
       "        <th class=\"col_heading level0 col2\" >salary_95_min</th> \n",
       "        <th class=\"col_heading level0 col3\" >salary_median</th> \n",
       "        <th class=\"col_heading level0 col4\" >salary_95_max</th> \n",
       "        <th class=\"col_heading level0 col5\" >head_count</th> \n",
       "        <th class=\"col_heading level0 col6\" >percentage</th> \n",
       "    </tr></thead> \n",
       "<tbody>    <tr> \n",
       "        <td id=\"T_9d17799a_69d4_11e9_ba84_701ce71031efrow0_col0\" class=\"data row0 col0\" >外资（欧美）</td> \n",
       "        <td id=\"T_9d17799a_69d4_11e9_ba84_701ce71031efrow0_col1\" class=\"data row0 col1\" >18394</td> \n",
       "        <td id=\"T_9d17799a_69d4_11e9_ba84_701ce71031efrow0_col2\" class=\"data row0 col2\" >3750</td> \n",
       "        <td id=\"T_9d17799a_69d4_11e9_ba84_701ce71031efrow0_col3\" class=\"data row0 col3\" >17500</td> \n",
       "        <td id=\"T_9d17799a_69d4_11e9_ba84_701ce71031efrow0_col4\" class=\"data row0 col4\" >40000</td> \n",
       "        <td id=\"T_9d17799a_69d4_11e9_ba84_701ce71031efrow0_col5\" class=\"data row0 col5\" >5410</td> \n",
       "        <td id=\"T_9d17799a_69d4_11e9_ba84_701ce71031efrow0_col6\" class=\"data row0 col6\" >5.59%</td> \n",
       "    </tr>    <tr> \n",
       "        <td id=\"T_9d17799a_69d4_11e9_ba84_701ce71031efrow1_col0\" class=\"data row1 col0\" >合资</td> \n",
       "        <td id=\"T_9d17799a_69d4_11e9_ba84_701ce71031efrow1_col1\" class=\"data row1 col1\" >16171</td> \n",
       "        <td id=\"T_9d17799a_69d4_11e9_ba84_701ce71031efrow1_col2\" class=\"data row1 col2\" >5250</td> \n",
       "        <td id=\"T_9d17799a_69d4_11e9_ba84_701ce71031efrow1_col3\" class=\"data row1 col3\" >15000</td> \n",
       "        <td id=\"T_9d17799a_69d4_11e9_ba84_701ce71031efrow1_col4\" class=\"data row1 col4\" >35000</td> \n",
       "        <td id=\"T_9d17799a_69d4_11e9_ba84_701ce71031efrow1_col5\" class=\"data row1 col5\" >9043</td> \n",
       "        <td id=\"T_9d17799a_69d4_11e9_ba84_701ce71031efrow1_col6\" class=\"data row1 col6\" >9.34%</td> \n",
       "    </tr>    <tr> \n",
       "        <td id=\"T_9d17799a_69d4_11e9_ba84_701ce71031efrow2_col0\" class=\"data row2 col0\" >民营公司</td> \n",
       "        <td id=\"T_9d17799a_69d4_11e9_ba84_701ce71031efrow2_col1\" class=\"data row2 col1\" >15137</td> \n",
       "        <td id=\"T_9d17799a_69d4_11e9_ba84_701ce71031efrow2_col2\" class=\"data row2 col2\" >4000</td> \n",
       "        <td id=\"T_9d17799a_69d4_11e9_ba84_701ce71031efrow2_col3\" class=\"data row2 col3\" >12500</td> \n",
       "        <td id=\"T_9d17799a_69d4_11e9_ba84_701ce71031efrow2_col4\" class=\"data row2 col4\" >36140</td> \n",
       "        <td id=\"T_9d17799a_69d4_11e9_ba84_701ce71031efrow2_col5\" class=\"data row2 col5\" >69200</td> \n",
       "        <td id=\"T_9d17799a_69d4_11e9_ba84_701ce71031efrow2_col6\" class=\"data row2 col6\" >71.49%</td> \n",
       "    </tr>    <tr> \n",
       "        <td id=\"T_9d17799a_69d4_11e9_ba84_701ce71031efrow3_col0\" class=\"data row3 col0\" >外资（非欧美）</td> \n",
       "        <td id=\"T_9d17799a_69d4_11e9_ba84_701ce71031efrow3_col1\" class=\"data row3 col1\" >15001</td> \n",
       "        <td id=\"T_9d17799a_69d4_11e9_ba84_701ce71031efrow3_col2\" class=\"data row3 col2\" >4000</td> \n",
       "        <td id=\"T_9d17799a_69d4_11e9_ba84_701ce71031efrow3_col3\" class=\"data row3 col3\" >13000</td> \n",
       "        <td id=\"T_9d17799a_69d4_11e9_ba84_701ce71031efrow3_col4\" class=\"data row3 col4\" >32500</td> \n",
       "        <td id=\"T_9d17799a_69d4_11e9_ba84_701ce71031efrow3_col5\" class=\"data row3 col5\" >4803</td> \n",
       "        <td id=\"T_9d17799a_69d4_11e9_ba84_701ce71031efrow3_col6\" class=\"data row3 col6\" >4.96%</td> \n",
       "    </tr>    <tr> \n",
       "        <td id=\"T_9d17799a_69d4_11e9_ba84_701ce71031efrow4_col0\" class=\"data row4 col0\" >外企代表处</td> \n",
       "        <td id=\"T_9d17799a_69d4_11e9_ba84_701ce71031efrow4_col1\" class=\"data row4 col1\" >14876</td> \n",
       "        <td id=\"T_9d17799a_69d4_11e9_ba84_701ce71031efrow4_col2\" class=\"data row4 col2\" >7000</td> \n",
       "        <td id=\"T_9d17799a_69d4_11e9_ba84_701ce71031efrow4_col3\" class=\"data row4 col3\" >12500</td> \n",
       "        <td id=\"T_9d17799a_69d4_11e9_ba84_701ce71031efrow4_col4\" class=\"data row4 col4\" >28594</td> \n",
       "        <td id=\"T_9d17799a_69d4_11e9_ba84_701ce71031efrow4_col5\" class=\"data row4 col5\" >82</td> \n",
       "        <td id=\"T_9d17799a_69d4_11e9_ba84_701ce71031efrow4_col6\" class=\"data row4 col6\" >0.08%</td> \n",
       "    </tr>    <tr> \n",
       "        <td id=\"T_9d17799a_69d4_11e9_ba84_701ce71031efrow5_col0\" class=\"data row5 col0\" >国企</td> \n",
       "        <td id=\"T_9d17799a_69d4_11e9_ba84_701ce71031efrow5_col1\" class=\"data row5 col1\" >14596</td> \n",
       "        <td id=\"T_9d17799a_69d4_11e9_ba84_701ce71031efrow5_col2\" class=\"data row5 col2\" >5073</td> \n",
       "        <td id=\"T_9d17799a_69d4_11e9_ba84_701ce71031efrow5_col3\" class=\"data row5 col3\" >12500</td> \n",
       "        <td id=\"T_9d17799a_69d4_11e9_ba84_701ce71031efrow5_col4\" class=\"data row5 col4\" >30000</td> \n",
       "        <td id=\"T_9d17799a_69d4_11e9_ba84_701ce71031efrow5_col5\" class=\"data row5 col5\" >7191</td> \n",
       "        <td id=\"T_9d17799a_69d4_11e9_ba84_701ce71031efrow5_col6\" class=\"data row5 col6\" >7.43%</td> \n",
       "    </tr>    <tr> \n",
       "        <td id=\"T_9d17799a_69d4_11e9_ba84_701ce71031efrow6_col0\" class=\"data row6 col0\" >事业单位</td> \n",
       "        <td id=\"T_9d17799a_69d4_11e9_ba84_701ce71031efrow6_col1\" class=\"data row6 col1\" >13432</td> \n",
       "        <td id=\"T_9d17799a_69d4_11e9_ba84_701ce71031efrow6_col2\" class=\"data row6 col2\" >4617</td> \n",
       "        <td id=\"T_9d17799a_69d4_11e9_ba84_701ce71031efrow6_col3\" class=\"data row6 col3\" >12000</td> \n",
       "        <td id=\"T_9d17799a_69d4_11e9_ba84_701ce71031efrow6_col4\" class=\"data row6 col4\" >29167</td> \n",
       "        <td id=\"T_9d17799a_69d4_11e9_ba84_701ce71031efrow6_col5\" class=\"data row6 col5\" >861</td> \n",
       "        <td id=\"T_9d17799a_69d4_11e9_ba84_701ce71031efrow6_col6\" class=\"data row6 col6\" >0.89%</td> \n",
       "    </tr>    <tr> \n",
       "        <td id=\"T_9d17799a_69d4_11e9_ba84_701ce71031efrow7_col0\" class=\"data row7 col0\" >非营利组织</td> \n",
       "        <td id=\"T_9d17799a_69d4_11e9_ba84_701ce71031efrow7_col1\" class=\"data row7 col1\" >10059</td> \n",
       "        <td id=\"T_9d17799a_69d4_11e9_ba84_701ce71031efrow7_col2\" class=\"data row7 col2\" >6000</td> \n",
       "        <td id=\"T_9d17799a_69d4_11e9_ba84_701ce71031efrow7_col3\" class=\"data row7 col3\" >9786</td> \n",
       "        <td id=\"T_9d17799a_69d4_11e9_ba84_701ce71031efrow7_col4\" class=\"data row7 col4\" >18300</td> \n",
       "        <td id=\"T_9d17799a_69d4_11e9_ba84_701ce71031efrow7_col5\" class=\"data row7 col5\" >52</td> \n",
       "        <td id=\"T_9d17799a_69d4_11e9_ba84_701ce71031efrow7_col6\" class=\"data row7 col6\" >0.05%</td> \n",
       "    </tr>    <tr> \n",
       "        <td id=\"T_9d17799a_69d4_11e9_ba84_701ce71031efrow8_col0\" class=\"data row8 col0\" >政府机关</td> \n",
       "        <td id=\"T_9d17799a_69d4_11e9_ba84_701ce71031efrow8_col1\" class=\"data row8 col1\" >7396</td> \n",
       "        <td id=\"T_9d17799a_69d4_11e9_ba84_701ce71031efrow8_col2\" class=\"data row8 col2\" >5339</td> \n",
       "        <td id=\"T_9d17799a_69d4_11e9_ba84_701ce71031efrow8_col3\" class=\"data row8 col3\" >7000</td> \n",
       "        <td id=\"T_9d17799a_69d4_11e9_ba84_701ce71031efrow8_col4\" class=\"data row8 col4\" >15635</td> \n",
       "        <td id=\"T_9d17799a_69d4_11e9_ba84_701ce71031efrow8_col5\" class=\"data row8 col5\" >156</td> \n",
       "        <td id=\"T_9d17799a_69d4_11e9_ba84_701ce71031efrow8_col6\" class=\"data row8 col6\" >0.16%</td> \n",
       "    </tr></tbody> \n",
       "</table> "
      ],
      "text/plain": [
       "<pandas.io.formats.style.Styler at 0x1ac00b5c940>"
      ]
     },
     "execution_count": 58,
     "metadata": {},
     "output_type": "execute_result"
    }
   ],
   "source": [
    "data_company_type=get_sub_stats_by_col(data,'company_type')\n",
    "apply_style(data_company_type)"
   ]
  },
  {
   "cell_type": "markdown",
   "metadata": {},
   "source": [
    "us_eu是欧美外企，startup是创业公司，listed是上市公司，state是国企，private是私企，foreign是非欧美外企，其他不足1000个样本的不管了。"
   ]
  },
  {
   "cell_type": "markdown",
   "metadata": {},
   "source": [
    "## 公司规模 Company Size"
   ]
  },
  {
   "cell_type": "code",
   "execution_count": 59,
   "metadata": {},
   "outputs": [
    {
     "data": {
      "text/html": [
       "<style  type=\"text/css\" >\n",
       "</style>  \n",
       "<table id=\"T_a113d738_69d4_11e9_8099_701ce71031ef\" > \n",
       "<thead>    <tr> \n",
       "        <th class=\"col_heading level0 col0\" >company_size</th> \n",
       "        <th class=\"col_heading level0 col1\" >salary_mean</th> \n",
       "        <th class=\"col_heading level0 col2\" >salary_95_min</th> \n",
       "        <th class=\"col_heading level0 col3\" >salary_median</th> \n",
       "        <th class=\"col_heading level0 col4\" >salary_95_max</th> \n",
       "        <th class=\"col_heading level0 col5\" >head_count</th> \n",
       "        <th class=\"col_heading level0 col6\" >percentage</th> \n",
       "    </tr></thead> \n",
       "<tbody>    <tr> \n",
       "        <td id=\"T_a113d738_69d4_11e9_8099_701ce71031efrow0_col0\" class=\"data row0 col0\" >10000+</td> \n",
       "        <td id=\"T_a113d738_69d4_11e9_8099_701ce71031efrow0_col1\" class=\"data row0 col1\" >19725</td> \n",
       "        <td id=\"T_a113d738_69d4_11e9_8099_701ce71031efrow0_col2\" class=\"data row0 col2\" >3793</td> \n",
       "        <td id=\"T_a113d738_69d4_11e9_8099_701ce71031efrow0_col3\" class=\"data row0 col3\" >17500</td> \n",
       "        <td id=\"T_a113d738_69d4_11e9_8099_701ce71031efrow0_col4\" class=\"data row0 col4\" >45000</td> \n",
       "        <td id=\"T_a113d738_69d4_11e9_8099_701ce71031efrow0_col5\" class=\"data row0 col5\" >4344</td> \n",
       "        <td id=\"T_a113d738_69d4_11e9_8099_701ce71031efrow0_col6\" class=\"data row0 col6\" >4.49%</td> \n",
       "    </tr>    <tr> \n",
       "        <td id=\"T_a113d738_69d4_11e9_8099_701ce71031efrow1_col0\" class=\"data row1 col0\" >500-1000人</td> \n",
       "        <td id=\"T_a113d738_69d4_11e9_8099_701ce71031efrow1_col1\" class=\"data row1 col1\" >17374</td> \n",
       "        <td id=\"T_a113d738_69d4_11e9_8099_701ce71031efrow1_col2\" class=\"data row1 col2\" >5250</td> \n",
       "        <td id=\"T_a113d738_69d4_11e9_8099_701ce71031efrow1_col3\" class=\"data row1 col3\" >15000</td> \n",
       "        <td id=\"T_a113d738_69d4_11e9_8099_701ce71031efrow1_col4\" class=\"data row1 col4\" >61180</td> \n",
       "        <td id=\"T_a113d738_69d4_11e9_8099_701ce71031efrow1_col5\" class=\"data row1 col5\" >10222</td> \n",
       "        <td id=\"T_a113d738_69d4_11e9_8099_701ce71031efrow1_col6\" class=\"data row1 col6\" >10.56%</td> \n",
       "    </tr>    <tr> \n",
       "        <td id=\"T_a113d738_69d4_11e9_8099_701ce71031efrow2_col0\" class=\"data row2 col0\" >1000-5000</td> \n",
       "        <td id=\"T_a113d738_69d4_11e9_8099_701ce71031efrow2_col1\" class=\"data row2 col1\" >16966</td> \n",
       "        <td id=\"T_a113d738_69d4_11e9_8099_701ce71031efrow2_col2\" class=\"data row2 col2\" >5000</td> \n",
       "        <td id=\"T_a113d738_69d4_11e9_8099_701ce71031efrow2_col3\" class=\"data row2 col3\" >15000</td> \n",
       "        <td id=\"T_a113d738_69d4_11e9_8099_701ce71031efrow2_col4\" class=\"data row2 col4\" >37500</td> \n",
       "        <td id=\"T_a113d738_69d4_11e9_8099_701ce71031efrow2_col5\" class=\"data row2 col5\" >12059</td> \n",
       "        <td id=\"T_a113d738_69d4_11e9_8099_701ce71031efrow2_col6\" class=\"data row2 col6\" >12.46%</td> \n",
       "    </tr>    <tr> \n",
       "        <td id=\"T_a113d738_69d4_11e9_8099_701ce71031efrow3_col0\" class=\"data row3 col0\" ></td> \n",
       "        <td id=\"T_a113d738_69d4_11e9_8099_701ce71031efrow3_col1\" class=\"data row3 col1\" >16846</td> \n",
       "        <td id=\"T_a113d738_69d4_11e9_8099_701ce71031efrow3_col2\" class=\"data row3 col2\" >5250</td> \n",
       "        <td id=\"T_a113d738_69d4_11e9_8099_701ce71031efrow3_col3\" class=\"data row3 col3\" >12500</td> \n",
       "        <td id=\"T_a113d738_69d4_11e9_8099_701ce71031efrow3_col4\" class=\"data row3 col4\" >50000</td> \n",
       "        <td id=\"T_a113d738_69d4_11e9_8099_701ce71031efrow3_col5\" class=\"data row3 col5\" >542</td> \n",
       "        <td id=\"T_a113d738_69d4_11e9_8099_701ce71031efrow3_col6\" class=\"data row3 col6\" >0.56%</td> \n",
       "    </tr>    <tr> \n",
       "        <td id=\"T_a113d738_69d4_11e9_8099_701ce71031efrow4_col0\" class=\"data row4 col0\" >5000-10000</td> \n",
       "        <td id=\"T_a113d738_69d4_11e9_8099_701ce71031efrow4_col1\" class=\"data row4 col1\" >16118</td> \n",
       "        <td id=\"T_a113d738_69d4_11e9_8099_701ce71031efrow4_col2\" class=\"data row4 col2\" >5226</td> \n",
       "        <td id=\"T_a113d738_69d4_11e9_8099_701ce71031efrow4_col3\" class=\"data row4 col3\" >15000</td> \n",
       "        <td id=\"T_a113d738_69d4_11e9_8099_701ce71031efrow4_col4\" class=\"data row4 col4\" >32500</td> \n",
       "        <td id=\"T_a113d738_69d4_11e9_8099_701ce71031efrow4_col5\" class=\"data row4 col5\" >2154</td> \n",
       "        <td id=\"T_a113d738_69d4_11e9_8099_701ce71031efrow4_col6\" class=\"data row4 col6\" >2.23%</td> \n",
       "    </tr>    <tr> \n",
       "        <td id=\"T_a113d738_69d4_11e9_8099_701ce71031efrow5_col0\" class=\"data row5 col0\" >150-500</td> \n",
       "        <td id=\"T_a113d738_69d4_11e9_8099_701ce71031efrow5_col1\" class=\"data row5 col1\" >15348</td> \n",
       "        <td id=\"T_a113d738_69d4_11e9_8099_701ce71031efrow5_col2\" class=\"data row5 col2\" >5250</td> \n",
       "        <td id=\"T_a113d738_69d4_11e9_8099_701ce71031efrow5_col3\" class=\"data row5 col3\" >14000</td> \n",
       "        <td id=\"T_a113d738_69d4_11e9_8099_701ce71031efrow5_col4\" class=\"data row5 col4\" >33750</td> \n",
       "        <td id=\"T_a113d738_69d4_11e9_8099_701ce71031efrow5_col5\" class=\"data row5 col5\" >20433</td> \n",
       "        <td id=\"T_a113d738_69d4_11e9_8099_701ce71031efrow5_col6\" class=\"data row5 col6\" >21.11%</td> \n",
       "    </tr>    <tr> \n",
       "        <td id=\"T_a113d738_69d4_11e9_8099_701ce71031efrow6_col0\" class=\"data row6 col0\" >50-150</td> \n",
       "        <td id=\"T_a113d738_69d4_11e9_8099_701ce71031efrow6_col1\" class=\"data row6 col1\" >14403</td> \n",
       "        <td id=\"T_a113d738_69d4_11e9_8099_701ce71031efrow6_col2\" class=\"data row6 col2\" >3750</td> \n",
       "        <td id=\"T_a113d738_69d4_11e9_8099_701ce71031efrow6_col3\" class=\"data row6 col3\" >12500</td> \n",
       "        <td id=\"T_a113d738_69d4_11e9_8099_701ce71031efrow6_col4\" class=\"data row6 col4\" >35000</td> \n",
       "        <td id=\"T_a113d738_69d4_11e9_8099_701ce71031efrow6_col5\" class=\"data row6 col5\" >29462</td> \n",
       "        <td id=\"T_a113d738_69d4_11e9_8099_701ce71031efrow6_col6\" class=\"data row6 col6\" >30.44%</td> \n",
       "    </tr>    <tr> \n",
       "        <td id=\"T_a113d738_69d4_11e9_8099_701ce71031efrow7_col0\" class=\"data row7 col0\" >50-</td> \n",
       "        <td id=\"T_a113d738_69d4_11e9_8099_701ce71031efrow7_col1\" class=\"data row7 col1\" >13369</td> \n",
       "        <td id=\"T_a113d738_69d4_11e9_8099_701ce71031efrow7_col2\" class=\"data row7 col2\" >3750</td> \n",
       "        <td id=\"T_a113d738_69d4_11e9_8099_701ce71031efrow7_col3\" class=\"data row7 col3\" >12500</td> \n",
       "        <td id=\"T_a113d738_69d4_11e9_8099_701ce71031efrow7_col4\" class=\"data row7 col4\" >30000</td> \n",
       "        <td id=\"T_a113d738_69d4_11e9_8099_701ce71031efrow7_col5\" class=\"data row7 col5\" >17582</td> \n",
       "        <td id=\"T_a113d738_69d4_11e9_8099_701ce71031efrow7_col6\" class=\"data row7 col6\" >18.16%</td> \n",
       "    </tr></tbody> \n",
       "</table> "
      ],
      "text/plain": [
       "<pandas.io.formats.style.Styler at 0x1ac01228588>"
      ]
     },
     "execution_count": 59,
     "metadata": {},
     "output_type": "execute_result"
    }
   ],
   "source": [
    "data_company_size=get_sub_stats_by_col(data,'company_size')\n",
    "apply_style(data_company_size)"
   ]
  },
  {
   "cell_type": "markdown",
   "metadata": {},
   "source": [
    "公司越大，工资越高"
   ]
  },
  {
   "cell_type": "markdown",
   "metadata": {},
   "source": [
    "## 行业 Industry"
   ]
  },
  {
   "cell_type": "code",
   "execution_count": 60,
   "metadata": {},
   "outputs": [
    {
     "data": {
      "text/html": [
       "<style  type=\"text/css\" >\n",
       "</style>  \n",
       "<table id=\"T_a3485b54_69d4_11e9_8d55_701ce71031ef\" > \n",
       "<thead>    <tr> \n",
       "        <th class=\"col_heading level0 col0\" >industry</th> \n",
       "        <th class=\"col_heading level0 col1\" >salary_mean</th> \n",
       "        <th class=\"col_heading level0 col2\" >salary_95_min</th> \n",
       "        <th class=\"col_heading level0 col3\" >salary_median</th> \n",
       "        <th class=\"col_heading level0 col4\" >salary_95_max</th> \n",
       "        <th class=\"col_heading level0 col5\" >head_count</th> \n",
       "        <th class=\"col_heading level0 col6\" >percentage</th> \n",
       "    </tr></thead> \n",
       "<tbody>    <tr> \n",
       "        <td id=\"T_a3485b54_69d4_11e9_8d55_701ce71031efrow0_col0\" class=\"data row0 col0\" >service</td> \n",
       "        <td id=\"T_a3485b54_69d4_11e9_8d55_701ce71031efrow0_col1\" class=\"data row0 col1\" >16622</td> \n",
       "        <td id=\"T_a3485b54_69d4_11e9_8d55_701ce71031efrow0_col2\" class=\"data row0 col2\" >5250</td> \n",
       "        <td id=\"T_a3485b54_69d4_11e9_8d55_701ce71031efrow0_col3\" class=\"data row0 col3\" >15000</td> \n",
       "        <td id=\"T_a3485b54_69d4_11e9_8d55_701ce71031efrow0_col4\" class=\"data row0 col4\" >42531</td> \n",
       "        <td id=\"T_a3485b54_69d4_11e9_8d55_701ce71031efrow0_col5\" class=\"data row0 col5\" >617</td> \n",
       "        <td id=\"T_a3485b54_69d4_11e9_8d55_701ce71031efrow0_col6\" class=\"data row0 col6\" >0.64%</td> \n",
       "    </tr>    <tr> \n",
       "        <td id=\"T_a3485b54_69d4_11e9_8d55_701ce71031efrow1_col0\" class=\"data row1 col0\" >finance</td> \n",
       "        <td id=\"T_a3485b54_69d4_11e9_8d55_701ce71031efrow1_col1\" class=\"data row1 col1\" >16482</td> \n",
       "        <td id=\"T_a3485b54_69d4_11e9_8d55_701ce71031efrow1_col2\" class=\"data row1 col2\" >5250</td> \n",
       "        <td id=\"T_a3485b54_69d4_11e9_8d55_701ce71031efrow1_col3\" class=\"data row1 col3\" >15000</td> \n",
       "        <td id=\"T_a3485b54_69d4_11e9_8d55_701ce71031efrow1_col4\" class=\"data row1 col4\" >35000</td> \n",
       "        <td id=\"T_a3485b54_69d4_11e9_8d55_701ce71031efrow1_col5\" class=\"data row1 col5\" >3725</td> \n",
       "        <td id=\"T_a3485b54_69d4_11e9_8d55_701ce71031efrow1_col6\" class=\"data row1 col6\" >3.85%</td> \n",
       "    </tr>    <tr> \n",
       "        <td id=\"T_a3485b54_69d4_11e9_8d55_701ce71031efrow2_col0\" class=\"data row2 col0\" >computer</td> \n",
       "        <td id=\"T_a3485b54_69d4_11e9_8d55_701ce71031efrow2_col1\" class=\"data row2 col1\" >15421</td> \n",
       "        <td id=\"T_a3485b54_69d4_11e9_8d55_701ce71031efrow2_col2\" class=\"data row2 col2\" >4000</td> \n",
       "        <td id=\"T_a3485b54_69d4_11e9_8d55_701ce71031efrow2_col3\" class=\"data row2 col3\" >13000</td> \n",
       "        <td id=\"T_a3485b54_69d4_11e9_8d55_701ce71031efrow2_col4\" class=\"data row2 col4\" >37500</td> \n",
       "        <td id=\"T_a3485b54_69d4_11e9_8d55_701ce71031efrow2_col5\" class=\"data row2 col5\" >73131</td> \n",
       "        <td id=\"T_a3485b54_69d4_11e9_8d55_701ce71031efrow2_col6\" class=\"data row2 col6\" >75.55%</td> \n",
       "    </tr>    <tr> \n",
       "        <td id=\"T_a3485b54_69d4_11e9_8d55_701ce71031efrow3_col0\" class=\"data row3 col0\" >gov</td> \n",
       "        <td id=\"T_a3485b54_69d4_11e9_8d55_701ce71031efrow3_col1\" class=\"data row3 col1\" >15260</td> \n",
       "        <td id=\"T_a3485b54_69d4_11e9_8d55_701ce71031efrow3_col2\" class=\"data row3 col2\" >4642</td> \n",
       "        <td id=\"T_a3485b54_69d4_11e9_8d55_701ce71031efrow3_col3\" class=\"data row3 col3\" >12667</td> \n",
       "        <td id=\"T_a3485b54_69d4_11e9_8d55_701ce71031efrow3_col4\" class=\"data row3 col4\" >31250</td> \n",
       "        <td id=\"T_a3485b54_69d4_11e9_8d55_701ce71031efrow3_col5\" class=\"data row3 col5\" >1119</td> \n",
       "        <td id=\"T_a3485b54_69d4_11e9_8d55_701ce71031efrow3_col6\" class=\"data row3 col6\" >1.16%</td> \n",
       "    </tr>    <tr> \n",
       "        <td id=\"T_a3485b54_69d4_11e9_8d55_701ce71031efrow4_col0\" class=\"data row4 col0\" >trade</td> \n",
       "        <td id=\"T_a3485b54_69d4_11e9_8d55_701ce71031efrow4_col1\" class=\"data row4 col1\" >15240</td> \n",
       "        <td id=\"T_a3485b54_69d4_11e9_8d55_701ce71031efrow4_col2\" class=\"data row4 col2\" >5250</td> \n",
       "        <td id=\"T_a3485b54_69d4_11e9_8d55_701ce71031efrow4_col3\" class=\"data row4 col3\" >13000</td> \n",
       "        <td id=\"T_a3485b54_69d4_11e9_8d55_701ce71031efrow4_col4\" class=\"data row4 col4\" >35000</td> \n",
       "        <td id=\"T_a3485b54_69d4_11e9_8d55_701ce71031efrow4_col5\" class=\"data row4 col5\" >4852</td> \n",
       "        <td id=\"T_a3485b54_69d4_11e9_8d55_701ce71031efrow4_col6\" class=\"data row4 col6\" >5.01%</td> \n",
       "    </tr>    <tr> \n",
       "        <td id=\"T_a3485b54_69d4_11e9_8d55_701ce71031efrow5_col0\" class=\"data row5 col0\" >realestate</td> \n",
       "        <td id=\"T_a3485b54_69d4_11e9_8d55_701ce71031efrow5_col1\" class=\"data row5 col1\" >15185</td> \n",
       "        <td id=\"T_a3485b54_69d4_11e9_8d55_701ce71031efrow5_col2\" class=\"data row5 col2\" >4500</td> \n",
       "        <td id=\"T_a3485b54_69d4_11e9_8d55_701ce71031efrow5_col3\" class=\"data row5 col3\" >13875</td> \n",
       "        <td id=\"T_a3485b54_69d4_11e9_8d55_701ce71031efrow5_col4\" class=\"data row5 col4\" >33952</td> \n",
       "        <td id=\"T_a3485b54_69d4_11e9_8d55_701ce71031efrow5_col5\" class=\"data row5 col5\" >1196</td> \n",
       "        <td id=\"T_a3485b54_69d4_11e9_8d55_701ce71031efrow5_col6\" class=\"data row5 col6\" >1.24%</td> \n",
       "    </tr>    <tr> \n",
       "        <td id=\"T_a3485b54_69d4_11e9_8d55_701ce71031efrow6_col0\" class=\"data row6 col0\" >edu</td> \n",
       "        <td id=\"T_a3485b54_69d4_11e9_8d55_701ce71031efrow6_col1\" class=\"data row6 col1\" >14687</td> \n",
       "        <td id=\"T_a3485b54_69d4_11e9_8d55_701ce71031efrow6_col2\" class=\"data row6 col2\" >1750</td> \n",
       "        <td id=\"T_a3485b54_69d4_11e9_8d55_701ce71031efrow6_col3\" class=\"data row6 col3\" >12500</td> \n",
       "        <td id=\"T_a3485b54_69d4_11e9_8d55_701ce71031efrow6_col4\" class=\"data row6 col4\" >36203</td> \n",
       "        <td id=\"T_a3485b54_69d4_11e9_8d55_701ce71031efrow6_col5\" class=\"data row6 col5\" >6777</td> \n",
       "        <td id=\"T_a3485b54_69d4_11e9_8d55_701ce71031efrow6_col6\" class=\"data row6 col6\" >7.00%</td> \n",
       "    </tr>    <tr> \n",
       "        <td id=\"T_a3485b54_69d4_11e9_8d55_701ce71031efrow7_col0\" class=\"data row7 col0\" >logistic</td> \n",
       "        <td id=\"T_a3485b54_69d4_11e9_8d55_701ce71031efrow7_col1\" class=\"data row7 col1\" >14609</td> \n",
       "        <td id=\"T_a3485b54_69d4_11e9_8d55_701ce71031efrow7_col2\" class=\"data row7 col2\" >5000</td> \n",
       "        <td id=\"T_a3485b54_69d4_11e9_8d55_701ce71031efrow7_col3\" class=\"data row7 col3\" >12500</td> \n",
       "        <td id=\"T_a3485b54_69d4_11e9_8d55_701ce71031efrow7_col4\" class=\"data row7 col4\" >30000</td> \n",
       "        <td id=\"T_a3485b54_69d4_11e9_8d55_701ce71031efrow7_col5\" class=\"data row7 col5\" >1145</td> \n",
       "        <td id=\"T_a3485b54_69d4_11e9_8d55_701ce71031efrow7_col6\" class=\"data row7 col6\" >1.18%</td> \n",
       "    </tr>    <tr> \n",
       "        <td id=\"T_a3485b54_69d4_11e9_8d55_701ce71031efrow8_col0\" class=\"data row8 col0\" >medical</td> \n",
       "        <td id=\"T_a3485b54_69d4_11e9_8d55_701ce71031efrow8_col1\" class=\"data row8 col1\" >14596</td> \n",
       "        <td id=\"T_a3485b54_69d4_11e9_8d55_701ce71031efrow8_col2\" class=\"data row8 col2\" >4935</td> \n",
       "        <td id=\"T_a3485b54_69d4_11e9_8d55_701ce71031efrow8_col3\" class=\"data row8 col3\" >12500</td> \n",
       "        <td id=\"T_a3485b54_69d4_11e9_8d55_701ce71031efrow8_col4\" class=\"data row8 col4\" >30000</td> \n",
       "        <td id=\"T_a3485b54_69d4_11e9_8d55_701ce71031efrow8_col5\" class=\"data row8 col5\" >1989</td> \n",
       "        <td id=\"T_a3485b54_69d4_11e9_8d55_701ce71031efrow8_col6\" class=\"data row8 col6\" >2.05%</td> \n",
       "    </tr>    <tr> \n",
       "        <td id=\"T_a3485b54_69d4_11e9_8d55_701ce71031efrow9_col0\" class=\"data row9 col0\" >energy</td> \n",
       "        <td id=\"T_a3485b54_69d4_11e9_8d55_701ce71031efrow9_col1\" class=\"data row9 col1\" >13759</td> \n",
       "        <td id=\"T_a3485b54_69d4_11e9_8d55_701ce71031efrow9_col2\" class=\"data row9 col2\" >5250</td> \n",
       "        <td id=\"T_a3485b54_69d4_11e9_8d55_701ce71031efrow9_col3\" class=\"data row9 col3\" >12500</td> \n",
       "        <td id=\"T_a3485b54_69d4_11e9_8d55_701ce71031efrow9_col4\" class=\"data row9 col4\" >27500</td> \n",
       "        <td id=\"T_a3485b54_69d4_11e9_8d55_701ce71031efrow9_col5\" class=\"data row9 col5\" >980</td> \n",
       "        <td id=\"T_a3485b54_69d4_11e9_8d55_701ce71031efrow9_col6\" class=\"data row9 col6\" >1.01%</td> \n",
       "    </tr>    <tr> \n",
       "        <td id=\"T_a3485b54_69d4_11e9_8d55_701ce71031efrow10_col0\" class=\"data row10 col0\" >ads</td> \n",
       "        <td id=\"T_a3485b54_69d4_11e9_8d55_701ce71031efrow10_col1\" class=\"data row10 col1\" >13703</td> \n",
       "        <td id=\"T_a3485b54_69d4_11e9_8d55_701ce71031efrow10_col2\" class=\"data row10 col2\" >3750</td> \n",
       "        <td id=\"T_a3485b54_69d4_11e9_8d55_701ce71031efrow10_col3\" class=\"data row10 col3\" >12500</td> \n",
       "        <td id=\"T_a3485b54_69d4_11e9_8d55_701ce71031efrow10_col4\" class=\"data row10 col4\" >32500</td> \n",
       "        <td id=\"T_a3485b54_69d4_11e9_8d55_701ce71031efrow10_col5\" class=\"data row10 col5\" >1260</td> \n",
       "        <td id=\"T_a3485b54_69d4_11e9_8d55_701ce71031efrow10_col6\" class=\"data row10 col6\" >1.30%</td> \n",
       "    </tr>    <tr> \n",
       "        <td id=\"T_a3485b54_69d4_11e9_8d55_701ce71031efrow11_col0\" class=\"data row11 col0\" ></td> \n",
       "        <td id=\"T_a3485b54_69d4_11e9_8d55_701ce71031efrow11_col1\" class=\"data row11 col1\" >12929</td> \n",
       "        <td id=\"T_a3485b54_69d4_11e9_8d55_701ce71031efrow11_col2\" class=\"data row11 col2\" >12500</td> \n",
       "        <td id=\"T_a3485b54_69d4_11e9_8d55_701ce71031efrow11_col3\" class=\"data row11 col3\" >12929</td> \n",
       "        <td id=\"T_a3485b54_69d4_11e9_8d55_701ce71031efrow11_col4\" class=\"data row11 col4\" >14000</td> \n",
       "        <td id=\"T_a3485b54_69d4_11e9_8d55_701ce71031efrow11_col5\" class=\"data row11 col5\" >7</td> \n",
       "        <td id=\"T_a3485b54_69d4_11e9_8d55_701ce71031efrow11_col6\" class=\"data row11 col6\" >0.01%</td> \n",
       "    </tr></tbody> \n",
       "</table> "
      ],
      "text/plain": [
       "<pandas.io.formats.style.Styler at 0x1ac00adc7b8>"
      ]
     },
     "execution_count": 60,
     "metadata": {},
     "output_type": "execute_result"
    }
   ],
   "source": [
    "data_industry=get_sub_stats_by_col(data,'industry')\n",
    "apply_style(data_industry)"
   ]
  },
  {
   "cell_type": "code",
   "execution_count": null,
   "metadata": {},
   "outputs": [],
   "source": []
  },
  {
   "cell_type": "code",
   "execution_count": null,
   "metadata": {},
   "outputs": [],
   "source": []
  }
 ],
 "metadata": {
  "kernelspec": {
   "display_name": "Python 3",
   "language": "python",
   "name": "python3"
  },
  "language_info": {
   "codemirror_mode": {
    "name": "ipython",
    "version": 3
   },
   "file_extension": ".py",
   "mimetype": "text/x-python",
   "name": "python",
   "nbconvert_exporter": "python",
   "pygments_lexer": "ipython3",
   "version": "3.7.1"
  }
 },
 "nbformat": 4,
 "nbformat_minor": 2
}
