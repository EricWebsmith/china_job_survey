{
 "cells": [
  {
   "cell_type": "code",
   "execution_count": 1,
   "metadata": {},
   "outputs": [],
   "source": [
    "year=2019\n",
    "month=7"
   ]
  },
  {
   "cell_type": "markdown",
   "metadata": {},
   "source": [
    "# Developer Salary in First-Tier Cities 程序员工资调查\n",
    "我在4月1日到3日之间，抓取了某招聘网站的软件和互联网类招聘数据40万条，其中通过程序判断为程序员的14万条。地域方面，我选择了24个主要城市。不过本文只以一线城市为研究对象。这样是为了和我2017年6月的数据做对比。\n",
    "\n",
    "提到2017年的文章，现在居然还有很多人，把这篇文章拿出来炒作。对于社会来说，可气的是，他们直接把2017改成2019，就发表了，这不是骗人么？！对于我来说，可气的是，他们转载居然还冒充是原创，是可忍熟不可忍！"
   ]
  },
  {
   "cell_type": "code",
   "execution_count": 2,
   "metadata": {},
   "outputs": [],
   "source": [
    "import pandas as pd\n",
    "import sys\n",
    "sys.path.append('..')\n",
    "sys.path.append('../py')\n",
    "import db\n",
    "import inspect\n",
    "import matplotlib.pyplot as plt\n",
    "plt.rcParams['font.sans-serif']=['SimHei'] #用来正常显示中文标签\n",
    "plt.rcParams['axes.unicode_minus']=False #用来正常显示负号\n",
    "import seaborn as sns\n",
    "import scipy.stats as stats\n",
    "import numpy as np\n",
    "import weighted\n",
    "%matplotlib inline"
   ]
  },
  {
   "cell_type": "code",
   "execution_count": 3,
   "metadata": {},
   "outputs": [],
   "source": [
    "conn=db.get_conn()\n",
    "data_original=pd.read_sql(sql=f\"select * from _{year}{month:02} where monthly_salary>0 and monthly_salary<80000 and city in ('北京','上海','广州','深圳')  and monthly_salary<80000 and YEAR(publish_date)={year} and MONTH(publish_date)={month}  \", con=conn)\n",
    "conn.close()"
   ]
  },
  {
   "cell_type": "code",
   "execution_count": 4,
   "metadata": {},
   "outputs": [],
   "source": [
    "error_job_ids=['104660258','104142922','108434795','101357291','106253516','110368302','111391233','108665401','109277048'\n",
    "                  ,'73857191','108584955','102824950','102824949','111391233','110884556']\n",
    "data=data_original[~data_original.job_id.isin(error_job_ids)]"
   ]
  },
  {
   "cell_type": "code",
   "execution_count": 5,
   "metadata": {},
   "outputs": [],
   "source": [
    "#del data['publish_date']\n",
    "#del data['published_on_weekend']\n",
    "#del data['title']\n",
    "#del data['title']\n",
    "#del data['company_title']\n",
    "#del data['company_description']\n",
    "#del data['job_description']\n",
    "#del data['job_id']"
   ]
  },
  {
   "cell_type": "code",
   "execution_count": 6,
   "metadata": {},
   "outputs": [
    {
     "data": {
      "text/html": [
       "<div>\n",
       "<style scoped>\n",
       "    .dataframe tbody tr th:only-of-type {\n",
       "        vertical-align: middle;\n",
       "    }\n",
       "\n",
       "    .dataframe tbody tr th {\n",
       "        vertical-align: top;\n",
       "    }\n",
       "\n",
       "    .dataframe thead th {\n",
       "        text-align: right;\n",
       "    }\n",
       "</style>\n",
       "<table border=\"1\" class=\"dataframe\">\n",
       "  <thead>\n",
       "    <tr style=\"text-align: right;\">\n",
       "      <th></th>\n",
       "      <th>job_id</th>\n",
       "      <th>monthly_salary</th>\n",
       "      <th>headcount</th>\n",
       "      <th>title</th>\n",
       "      <th>zhinengleibie</th>\n",
       "      <th>career</th>\n",
       "      <th>real_province</th>\n",
       "      <th>province</th>\n",
       "      <th>city</th>\n",
       "      <th>company_description</th>\n",
       "      <th>...</th>\n",
       "      <th>pl_visual_basic</th>\n",
       "      <th>publish_date</th>\n",
       "      <th>published_on_weekend</th>\n",
       "      <th>tag_baby_care</th>\n",
       "      <th>tag_five_insurance</th>\n",
       "      <th>tag_flexible</th>\n",
       "      <th>tag_no_overtime</th>\n",
       "      <th>tag_rest_one_day</th>\n",
       "      <th>tag_rest_two_days</th>\n",
       "      <th>tag_stock</th>\n",
       "    </tr>\n",
       "  </thead>\n",
       "  <tbody>\n",
       "    <tr>\n",
       "      <th>30817</th>\n",
       "      <td>75596794</td>\n",
       "      <td>7500</td>\n",
       "      <td>200</td>\n",
       "      <td>JAVA 工程师</td>\n",
       "      <td>软件工程师</td>\n",
       "      <td>一般程序员</td>\n",
       "      <td>None</td>\n",
       "      <td>广东</td>\n",
       "      <td>深圳</td>\n",
       "      <td>四方精创资讯有限公司（简称四方精创），是从事金融行业it综合服务和软件协同服务的高端应用软件...</td>\n",
       "      <td>...</td>\n",
       "      <td>False</td>\n",
       "      <td>2019-07-31</td>\n",
       "      <td>False</td>\n",
       "      <td>False</td>\n",
       "      <td>True</td>\n",
       "      <td>False</td>\n",
       "      <td>False</td>\n",
       "      <td>False</td>\n",
       "      <td>False</td>\n",
       "      <td>False</td>\n",
       "    </tr>\n",
       "    <tr>\n",
       "      <th>10742</th>\n",
       "      <td>110969579</td>\n",
       "      <td>12500</td>\n",
       "      <td>200</td>\n",
       "      <td>JAVA开发工程师（2019届应届毕业生）</td>\n",
       "      <td>软件工程师</td>\n",
       "      <td>一般程序员</td>\n",
       "      <td>None</td>\n",
       "      <td>广东</td>\n",
       "      <td>广州</td>\n",
       "      <td>广州汇智通信技术有限公司是专业从事国家特殊通信系统研制工作的大型国有控股混合所有制企业。公司...</td>\n",
       "      <td>...</td>\n",
       "      <td>False</td>\n",
       "      <td>2019-07-15</td>\n",
       "      <td>False</td>\n",
       "      <td>False</td>\n",
       "      <td>True</td>\n",
       "      <td>False</td>\n",
       "      <td>False</td>\n",
       "      <td>False</td>\n",
       "      <td>False</td>\n",
       "      <td>False</td>\n",
       "    </tr>\n",
       "    <tr>\n",
       "      <th>22409</th>\n",
       "      <td>114568087</td>\n",
       "      <td>3750</td>\n",
       "      <td>151</td>\n",
       "      <td>C#软件开发</td>\n",
       "      <td>软件工程师</td>\n",
       "      <td>一般程序员</td>\n",
       "      <td>None</td>\n",
       "      <td>北京</td>\n",
       "      <td>北京</td>\n",
       "      <td>北京其然科技有限公司，名字源于，顺 其其自 然然，主旨顺其自然、水到渠成。北京其然科技有限公...</td>\n",
       "      <td>...</td>\n",
       "      <td>False</td>\n",
       "      <td>2019-07-31</td>\n",
       "      <td>False</td>\n",
       "      <td>False</td>\n",
       "      <td>False</td>\n",
       "      <td>False</td>\n",
       "      <td>False</td>\n",
       "      <td>False</td>\n",
       "      <td>False</td>\n",
       "      <td>False</td>\n",
       "    </tr>\n",
       "    <tr>\n",
       "      <th>6525</th>\n",
       "      <td>108834444</td>\n",
       "      <td>15000</td>\n",
       "      <td>150</td>\n",
       "      <td>Java开发工程师</td>\n",
       "      <td>软件工程师</td>\n",
       "      <td>一般程序员</td>\n",
       "      <td>None</td>\n",
       "      <td>北京</td>\n",
       "      <td>北京</td>\n",
       "      <td>大连华信计算机技术股份有限公司（简称大连华信）是一家面向全球客户提供领先的应用软件产品、信息...</td>\n",
       "      <td>...</td>\n",
       "      <td>False</td>\n",
       "      <td>2019-07-31</td>\n",
       "      <td>False</td>\n",
       "      <td>False</td>\n",
       "      <td>True</td>\n",
       "      <td>False</td>\n",
       "      <td>False</td>\n",
       "      <td>False</td>\n",
       "      <td>False</td>\n",
       "      <td>False</td>\n",
       "    </tr>\n",
       "    <tr>\n",
       "      <th>11923</th>\n",
       "      <td>111488966</td>\n",
       "      <td>8500</td>\n",
       "      <td>90</td>\n",
       "      <td>开发工程师</td>\n",
       "      <td>软件工程师</td>\n",
       "      <td>一般程序员</td>\n",
       "      <td>None</td>\n",
       "      <td>广东</td>\n",
       "      <td>广州</td>\n",
       "      <td>东华医为科技有限公司（简称东华医为）成立于2012年5月，注册资金5000万，是东华软件股份...</td>\n",
       "      <td>...</td>\n",
       "      <td>False</td>\n",
       "      <td>2019-07-31</td>\n",
       "      <td>False</td>\n",
       "      <td>False</td>\n",
       "      <td>True</td>\n",
       "      <td>False</td>\n",
       "      <td>False</td>\n",
       "      <td>False</td>\n",
       "      <td>False</td>\n",
       "      <td>False</td>\n",
       "    </tr>\n",
       "  </tbody>\n",
       "</table>\n",
       "<p>5 rows × 94 columns</p>\n",
       "</div>"
      ],
      "text/plain": [
       "          job_id  monthly_salary  headcount                  title  \\\n",
       "30817   75596794            7500        200               JAVA 工程师   \n",
       "10742  110969579           12500        200  JAVA开发工程师（2019届应届毕业生）   \n",
       "22409  114568087            3750        151                 C#软件开发   \n",
       "6525   108834444           15000        150              Java开发工程师   \n",
       "11923  111488966            8500         90                  开发工程师   \n",
       "\n",
       "      zhinengleibie career real_province province city  \\\n",
       "30817         软件工程师  一般程序员          None       广东   深圳   \n",
       "10742         软件工程师  一般程序员          None       广东   广州   \n",
       "22409         软件工程师  一般程序员          None       北京   北京   \n",
       "6525          软件工程师  一般程序员          None       北京   北京   \n",
       "11923         软件工程师  一般程序员          None       广东   广州   \n",
       "\n",
       "                                     company_description    ...      \\\n",
       "30817  四方精创资讯有限公司（简称四方精创），是从事金融行业it综合服务和软件协同服务的高端应用软件...    ...       \n",
       "10742  广州汇智通信技术有限公司是专业从事国家特殊通信系统研制工作的大型国有控股混合所有制企业。公司...    ...       \n",
       "22409  北京其然科技有限公司，名字源于，顺 其其自 然然，主旨顺其自然、水到渠成。北京其然科技有限公...    ...       \n",
       "6525   大连华信计算机技术股份有限公司（简称大连华信）是一家面向全球客户提供领先的应用软件产品、信息...    ...       \n",
       "11923  东华医为科技有限公司（简称东华医为）成立于2012年5月，注册资金5000万，是东华软件股份...    ...       \n",
       "\n",
       "      pl_visual_basic publish_date published_on_weekend tag_baby_care  \\\n",
       "30817           False   2019-07-31                False         False   \n",
       "10742           False   2019-07-15                False         False   \n",
       "22409           False   2019-07-31                False         False   \n",
       "6525            False   2019-07-31                False         False   \n",
       "11923           False   2019-07-31                False         False   \n",
       "\n",
       "       tag_five_insurance  tag_flexible  tag_no_overtime  tag_rest_one_day  \\\n",
       "30817                True         False            False             False   \n",
       "10742                True         False            False             False   \n",
       "22409               False         False            False             False   \n",
       "6525                 True         False            False             False   \n",
       "11923                True         False            False             False   \n",
       "\n",
       "       tag_rest_two_days  tag_stock  \n",
       "30817              False      False  \n",
       "10742              False      False  \n",
       "22409              False      False  \n",
       "6525               False      False  \n",
       "11923              False      False  \n",
       "\n",
       "[5 rows x 94 columns]"
      ]
     },
     "execution_count": 6,
     "metadata": {},
     "output_type": "execute_result"
    }
   ],
   "source": [
    "data=data.sort_values(by='headcount', ascending=False)\n",
    "data.head()"
   ]
  },
  {
   "cell_type": "code",
   "execution_count": 7,
   "metadata": {},
   "outputs": [],
   "source": [
    "def pd_weighted_mean(group, avg_name, weight_name):\n",
    "    \"\"\" http://stackoverflow.com/questions/10951341/pandas-dataframe-aggregate-function-using-multiple-columns\n",
    "    In rare instance, we may not have weights, so just return the mean. Customize this if your business case\n",
    "    should return otherwise.\n",
    "    \"\"\"\n",
    "    d = group[avg_name]\n",
    "    w = group[weight_name]\n",
    "    try:\n",
    "        return (d * w).sum() / w.sum()\n",
    "    except ZeroDivisionError:\n",
    "        return d.mean()\n"
   ]
  },
  {
   "cell_type": "markdown",
   "metadata": {},
   "source": [
    "# Unilateral Stats 总体统计"
   ]
  },
  {
   "cell_type": "markdown",
   "metadata": {},
   "source": [
    "有数据可知，程序员向一线城市集中的趋势非常明显。\n",
    "\n",
    "According to the statistics, significant amount of developers are in the first tier cities."
   ]
  },
  {
   "cell_type": "code",
   "execution_count": 8,
   "metadata": {},
   "outputs": [
    {
     "data": {
      "text/plain": [
       "(35811, 94)"
      ]
     },
     "execution_count": 8,
     "metadata": {},
     "output_type": "execute_result"
    }
   ],
   "source": [
    "data.shape"
   ]
  },
  {
   "cell_type": "code",
   "execution_count": 9,
   "metadata": {},
   "outputs": [
    {
     "data": {
      "text/plain": [
       "110621"
      ]
     },
     "execution_count": 9,
     "metadata": {},
     "output_type": "execute_result"
    }
   ],
   "source": [
    "data.headcount.sum()"
   ]
  },
  {
   "cell_type": "code",
   "execution_count": 10,
   "metadata": {},
   "outputs": [
    {
     "data": {
      "text/plain": [
       "array([ 5000., 11000., 14000., 20000., 37500.])"
      ]
     },
     "execution_count": 10,
     "metadata": {},
     "output_type": "execute_result"
    }
   ],
   "source": [
    "salary_mean=weighted.weighted_mean(data.monthly_salary.values, data.headcount.values)\n",
    "q=weighted.weighted_quantile(data.monthly_salary.values,[0.025,0.25,0.5,0.75,0.975], data.headcount.values)\n",
    "q"
   ]
  },
  {
   "cell_type": "code",
   "execution_count": 11,
   "metadata": {},
   "outputs": [
    {
     "name": "stdout",
     "output_type": "stream",
     "text": [
      "2019年7月中国一线城市程序员的平均工资为16113元，工资中位数为14000元，其中95%的人的工资位于5000到37500元之间。\n"
     ]
    }
   ],
   "source": [
    "print(f'{year}年{month}月中国一线城市程序员的平均工资为{salary_mean:.0f}元，工资中位数为{q[2]:.0f}元，其中95%的人的工资位于{q[0]:.0f}到{q[4]:.0f}元之间。')"
   ]
  },
  {
   "cell_type": "code",
   "execution_count": 12,
   "metadata": {},
   "outputs": [
    {
     "name": "stdout",
     "output_type": "stream",
     "text": [
      "In 2019, Developers in China earn 16113 Yuan as average, the median is 14000 Yuan, 95% of them earn between 5000 and 37500 Yuan.\n"
     ]
    }
   ],
   "source": [
    "print(f'In {year}, Developers in China earn {salary_mean:.0f} Yuan as average, '\n",
    "      f'the median is {q[2]:.0f} Yuan, 95% of them earn between {q[0]:.0f} and {q[4]:.0f} Yuan.')"
   ]
  },
  {
   "cell_type": "code",
   "execution_count": 13,
   "metadata": {},
   "outputs": [
    {
     "data": {
      "text/plain": [
       "<matplotlib.axes._subplots.AxesSubplot at 0x25945b1a9e8>"
      ]
     },
     "execution_count": 13,
     "metadata": {},
     "output_type": "execute_result"
    },
    {
     "data": {
      "image/png": "[encoded data removed]",
      "text/plain": [
       "<Figure size 432x288 with 1 Axes>"
      ]
     },
     "metadata": {
      "needs_background": "light"
     },
     "output_type": "display_data"
    }
   ],
   "source": [
    "data.monthly_salary.hist()"
   ]
  },
  {
   "cell_type": "markdown",
   "metadata": {},
   "source": [
    "It does not look like normal distribution."
   ]
  },
  {
   "cell_type": "code",
   "execution_count": 14,
   "metadata": {},
   "outputs": [],
   "source": [
    "from scipy import stats"
   ]
  },
  {
   "cell_type": "code",
   "execution_count": 15,
   "metadata": {},
   "outputs": [
    {
     "data": {
      "text/plain": [
       "NormaltestResult(statistic=11667.41872307721, pvalue=0.0)"
      ]
     },
     "execution_count": 15,
     "metadata": {},
     "output_type": "execute_result"
    }
   ],
   "source": [
    "stats.normaltest(data.monthly_salary)"
   ]
  },
  {
   "cell_type": "markdown",
   "metadata": {},
   "source": [
    "null hypothesis: x comes from a normal distribution\n",
    "    \n",
    "p=0\n",
    "\n",
    "The null hypothesis can be rejected\n",
    "\n",
    "conclusion: data is not normally distributed."
   ]
  },
  {
   "cell_type": "markdown",
   "metadata": {},
   "source": [
    "Zoom in"
   ]
  },
  {
   "cell_type": "code",
   "execution_count": 16,
   "metadata": {},
   "outputs": [
    {
     "data": {
      "image/png": "[encoded data removed]",
      "text/plain": [
       "<Figure size 432x288 with 1 Axes>"
      ]
     },
     "metadata": {
      "needs_background": "light"
     },
     "output_type": "display_data"
    }
   ],
   "source": [
    "data[data.monthly_salary<40000].monthly_salary.hist()\n",
    "plt.annotate('https://github.com/juwikuang/job_survey', xy=(0,0), xytext=(2000, 100), color='white')\n",
    "plt.show()"
   ]
  },
  {
   "cell_type": "markdown",
   "metadata": {},
   "source": [
    "## Role 角色"
   ]
  },
  {
   "cell_type": "code",
   "execution_count": 17,
   "metadata": {},
   "outputs": [],
   "source": [
    "#Common Functions\n",
    "def get_sub_stats_by_col(data, col):\n",
    "    categories=data[col].unique()\n",
    "    salary_mean=[]\n",
    "    salary_95_min=[]\n",
    "    salary_95_max=[]\n",
    "    salary_median=[]\n",
    "    \n",
    "\n",
    "    count=[]\n",
    "    \n",
    "    categorys_out=[]\n",
    "    for category in categories:\n",
    "        #print(feature)\n",
    "        idata=data[data[col]==category]\n",
    "        headcount=idata.headcount.sum()\n",
    "        values = idata.monthly_salary.values\n",
    "        weights = idata.headcount.values\n",
    "        #print(str(headcount))\n",
    "        if headcount==0:\n",
    "            continue\n",
    "        \n",
    "        salary_mean.append(np.average(values, weights=weights))\n",
    "        \n",
    "\n",
    "        q = weighted.weighted_quantile(values,[0.025,0.5,0.975],weights)\n",
    "        salary_95_min.append(q[0])\n",
    "        salary_median.append(q[1])\n",
    "        salary_95_max.append(q[2])\n",
    "        count.append(idata.headcount.sum())\n",
    "        categorys_out.append(category)\n",
    "    sub_data=pd.DataFrame()\n",
    "    sub_data[col]=[c for c in categorys_out]\n",
    "    sub_data['salary_mean']=salary_mean\n",
    "    sub_data['salary_95_min']=salary_95_min\n",
    "    sub_data['salary_median']=salary_median\n",
    "    sub_data['salary_95_max']=salary_95_max\n",
    "    sub_data['head_count']=count\n",
    "    sub_data['percentage']=count/np.sum(count)\n",
    "    sub_data=sub_data.sort_values(by='salary_mean', ascending=False)\n",
    "\n",
    "    return sub_data\n",
    "\n",
    "def get_sub_stats_by_prefix(data, prefix):\n",
    "    \n",
    "    features = [feature for feature in data.columns if feature.startswith(prefix)]\n",
    "    salary_mean=[]\n",
    "    salary_median=[]\n",
    "    salary_95_min=[]\n",
    "    salary_95_max=[]\n",
    "    count=[]\n",
    "    \n",
    "    features_out=[]\n",
    "    for feature in features:\n",
    "        #print(feature)\n",
    "        idata=data[data[feature]==1]\n",
    "        headcount=idata.headcount.sum()\n",
    "        values = idata.monthly_salary.values\n",
    "        weights = idata.headcount.values\n",
    "        #print(str(headcount))\n",
    "        if headcount==0:\n",
    "            continue\n",
    "        \n",
    "        salary_mean.append(weighted.weighted_mean(values, weights))\n",
    "        q = weighted.weighted_quantile(values,[0.025,0.5,0.975],weights)\n",
    "        salary_median.append(q[1])\n",
    "        salary_95_min.append(q[0])\n",
    "        salary_95_max.append(q[2])\n",
    "        count.append(idata.headcount.sum())\n",
    "        features_out.append(feature)\n",
    "    sub_data=pd.DataFrame()\n",
    "    sub_data['rank']=range(0,len(features_out))\n",
    "    sub_data[prefix]=[f.replace(prefix,'') for f in features_out]\n",
    "    sub_data['salary_mean']=salary_mean\n",
    "    sub_data['salary_median']=salary_median\n",
    "    sub_data['salary_95_min']=salary_95_min\n",
    "    sub_data['salary_95_max']=salary_95_max\n",
    "    sub_data['head_count']=count\n",
    "    sub_data['percentage']=count/np.sum(count)\n",
    "    sub_data=sub_data.sort_values(by='salary_mean', ascending=False)\n",
    "    sub_data['rank']=range(1,len(features_out)+1)\n",
    "    #sub_data=sub_data.reset_index()\n",
    "    return sub_data\n",
    "\n",
    "def apply_style(sub_data):\n",
    "    return sub_data.style.hide_index().format(\n",
    "    {\"salary_mean\":\"{:.0f}\",\"salary_median\":\"{:.0f}\",\"salary_95_min\":\"{:.0f}\",\"salary_95_max\":\"{:.0f}\",\"percentage\":\"{:.2%}\"})"
   ]
  },
  {
   "cell_type": "code",
   "execution_count": 18,
   "metadata": {},
   "outputs": [
    {
     "data": {
      "text/html": [
       "<style  type=\"text/css\" >\n",
       "</style>  \n",
       "<table id=\"T_5a6ded34_b594_11e9_855e_701ce71031ef\" > \n",
       "<thead>    <tr> \n",
       "        <th class=\"blank level0\" ></th> \n",
       "        <th class=\"col_heading level0 col0\" >career</th> \n",
       "        <th class=\"col_heading level0 col1\" >salary_mean</th> \n",
       "        <th class=\"col_heading level0 col2\" >salary_95_min</th> \n",
       "        <th class=\"col_heading level0 col3\" >salary_median</th> \n",
       "        <th class=\"col_heading level0 col4\" >salary_95_max</th> \n",
       "        <th class=\"col_heading level0 col5\" >head_count</th> \n",
       "        <th class=\"col_heading level0 col6\" >percentage</th> \n",
       "    </tr></thead> \n",
       "<tbody>    <tr> \n",
       "        <th id=\"T_5a6ded34_b594_11e9_855e_701ce71031eflevel0_row0\" class=\"row_heading level0 row0\" >2</th> \n",
       "        <td id=\"T_5a6ded34_b594_11e9_855e_701ce71031efrow0_col0\" class=\"data row0 col0\" >系统架构师</td> \n",
       "        <td id=\"T_5a6ded34_b594_11e9_855e_701ce71031efrow0_col1\" class=\"data row0 col1\" >26233</td> \n",
       "        <td id=\"T_5a6ded34_b594_11e9_855e_701ce71031efrow0_col2\" class=\"data row0 col2\" >5250</td> \n",
       "        <td id=\"T_5a6ded34_b594_11e9_855e_701ce71031efrow0_col3\" class=\"data row0 col3\" >25000</td> \n",
       "        <td id=\"T_5a6ded34_b594_11e9_855e_701ce71031efrow0_col4\" class=\"data row0 col4\" >52500</td> \n",
       "        <td id=\"T_5a6ded34_b594_11e9_855e_701ce71031efrow0_col5\" class=\"data row0 col5\" >4657</td> \n",
       "        <td id=\"T_5a6ded34_b594_11e9_855e_701ce71031efrow0_col6\" class=\"data row0 col6\" >4.21%</td> \n",
       "    </tr>    <tr> \n",
       "        <th id=\"T_5a6ded34_b594_11e9_855e_701ce71031eflevel0_row1\" class=\"row_heading level0 row1\" >1</th> \n",
       "        <td id=\"T_5a6ded34_b594_11e9_855e_701ce71031efrow1_col0\" class=\"data row1 col0\" >算法工程师</td> \n",
       "        <td id=\"T_5a6ded34_b594_11e9_855e_701ce71031efrow1_col1\" class=\"data row1 col1\" >22545</td> \n",
       "        <td id=\"T_5a6ded34_b594_11e9_855e_701ce71031efrow1_col2\" class=\"data row1 col2\" >5250</td> \n",
       "        <td id=\"T_5a6ded34_b594_11e9_855e_701ce71031efrow1_col3\" class=\"data row1 col3\" >21000</td> \n",
       "        <td id=\"T_5a6ded34_b594_11e9_855e_701ce71031efrow1_col4\" class=\"data row1 col4\" >45000</td> \n",
       "        <td id=\"T_5a6ded34_b594_11e9_855e_701ce71031efrow1_col5\" class=\"data row1 col5\" >10247</td> \n",
       "        <td id=\"T_5a6ded34_b594_11e9_855e_701ce71031efrow1_col6\" class=\"data row1 col6\" >9.26%</td> \n",
       "    </tr>    <tr> \n",
       "        <th id=\"T_5a6ded34_b594_11e9_855e_701ce71031eflevel0_row2\" class=\"row_heading level0 row2\" >0</th> \n",
       "        <td id=\"T_5a6ded34_b594_11e9_855e_701ce71031efrow2_col0\" class=\"data row2 col0\" >一般程序员</td> \n",
       "        <td id=\"T_5a6ded34_b594_11e9_855e_701ce71031efrow2_col1\" class=\"data row2 col1\" >14936</td> \n",
       "        <td id=\"T_5a6ded34_b594_11e9_855e_701ce71031efrow2_col2\" class=\"data row2 col2\" >4500</td> \n",
       "        <td id=\"T_5a6ded34_b594_11e9_855e_701ce71031efrow2_col3\" class=\"data row2 col3\" >12500</td> \n",
       "        <td id=\"T_5a6ded34_b594_11e9_855e_701ce71031efrow2_col4\" class=\"data row2 col4\" >35000</td> \n",
       "        <td id=\"T_5a6ded34_b594_11e9_855e_701ce71031efrow2_col5\" class=\"data row2 col5\" >95478</td> \n",
       "        <td id=\"T_5a6ded34_b594_11e9_855e_701ce71031efrow2_col6\" class=\"data row2 col6\" >86.31%</td> \n",
       "    </tr>    <tr> \n",
       "        <th id=\"T_5a6ded34_b594_11e9_855e_701ce71031eflevel0_row3\" class=\"row_heading level0 row3\" >3</th> \n",
       "        <td id=\"T_5a6ded34_b594_11e9_855e_701ce71031efrow3_col0\" class=\"data row3 col0\" >爬虫工程师</td> \n",
       "        <td id=\"T_5a6ded34_b594_11e9_855e_701ce71031efrow3_col1\" class=\"data row3 col1\" >13651</td> \n",
       "        <td id=\"T_5a6ded34_b594_11e9_855e_701ce71031efrow3_col2\" class=\"data row3 col2\" >3487.5</td> \n",
       "        <td id=\"T_5a6ded34_b594_11e9_855e_701ce71031efrow3_col3\" class=\"data row3 col3\" >12500</td> \n",
       "        <td id=\"T_5a6ded34_b594_11e9_855e_701ce71031efrow3_col4\" class=\"data row3 col4\" >37500</td> \n",
       "        <td id=\"T_5a6ded34_b594_11e9_855e_701ce71031efrow3_col5\" class=\"data row3 col5\" >219</td> \n",
       "        <td id=\"T_5a6ded34_b594_11e9_855e_701ce71031efrow3_col6\" class=\"data row3 col6\" >0.20%</td> \n",
       "    </tr>    <tr> \n",
       "        <th id=\"T_5a6ded34_b594_11e9_855e_701ce71031eflevel0_row4\" class=\"row_heading level0 row4\" >4</th> \n",
       "        <td id=\"T_5a6ded34_b594_11e9_855e_701ce71031efrow4_col0\" class=\"data row4 col0\" >生物信息工程师</td> \n",
       "        <td id=\"T_5a6ded34_b594_11e9_855e_701ce71031efrow4_col1\" class=\"data row4 col1\" >10125</td> \n",
       "        <td id=\"T_5a6ded34_b594_11e9_855e_701ce71031efrow4_col2\" class=\"data row4 col2\" >7000</td> \n",
       "        <td id=\"T_5a6ded34_b594_11e9_855e_701ce71031efrow4_col3\" class=\"data row4 col3\" >8900</td> \n",
       "        <td id=\"T_5a6ded34_b594_11e9_855e_701ce71031efrow4_col4\" class=\"data row4 col4\" >14000</td> \n",
       "        <td id=\"T_5a6ded34_b594_11e9_855e_701ce71031efrow4_col5\" class=\"data row4 col5\" >20</td> \n",
       "        <td id=\"T_5a6ded34_b594_11e9_855e_701ce71031efrow4_col6\" class=\"data row4 col6\" >0.02%</td> \n",
       "    </tr></tbody> \n",
       "</table> "
      ],
      "text/plain": [
       "<pandas.io.formats.style.Styler at 0x25946e55ba8>"
      ]
     },
     "execution_count": 18,
     "metadata": {},
     "output_type": "execute_result"
    }
   ],
   "source": [
    "data_career = get_sub_stats_by_col(data,'career')\n",
    "data_career.style.format({\"salary_mean\":\"{:.0f}\",\"salary_median\":\"{:.0f}\",\"percentage\":\"{:.2%}\"})"
   ]
  },
  {
   "cell_type": "code",
   "execution_count": 19,
   "metadata": {},
   "outputs": [
    {
     "data": {
      "text/plain": [
       "16113.131927934117"
      ]
     },
     "execution_count": 19,
     "metadata": {},
     "output_type": "execute_result"
    }
   ],
   "source": [
    "np.sum(data.monthly_salary * data.headcount) / data.headcount.sum()"
   ]
  },
  {
   "cell_type": "code",
   "execution_count": 20,
   "metadata": {},
   "outputs": [
    {
     "data": {
      "text/plain": [
       "110621"
      ]
     },
     "execution_count": 20,
     "metadata": {},
     "output_type": "execute_result"
    }
   ],
   "source": [
    "data.headcount.sum()"
   ]
  },
  {
   "cell_type": "code",
   "execution_count": 21,
   "metadata": {},
   "outputs": [
    {
     "data": {
      "text/plain": [
       "count    35811.000000\n",
       "mean         3.089023\n",
       "std          3.376158\n",
       "min          0.000000\n",
       "25%          1.000000\n",
       "50%          2.000000\n",
       "75%          5.000000\n",
       "max        200.000000\n",
       "Name: headcount, dtype: float64"
      ]
     },
     "execution_count": 21,
     "metadata": {},
     "output_type": "execute_result"
    }
   ],
   "source": [
    "data.headcount.describe()"
   ]
  },
  {
   "cell_type": "code",
   "execution_count": 22,
   "metadata": {},
   "outputs": [
    {
     "data": {
      "text/html": [
       "<div>\n",
       "<style scoped>\n",
       "    .dataframe tbody tr th:only-of-type {\n",
       "        vertical-align: middle;\n",
       "    }\n",
       "\n",
       "    .dataframe tbody tr th {\n",
       "        vertical-align: top;\n",
       "    }\n",
       "\n",
       "    .dataframe thead th {\n",
       "        text-align: right;\n",
       "    }\n",
       "</style>\n",
       "<table border=\"1\" class=\"dataframe\">\n",
       "  <thead>\n",
       "    <tr style=\"text-align: right;\">\n",
       "      <th></th>\n",
       "      <th>job_id</th>\n",
       "      <th>monthly_salary</th>\n",
       "      <th>headcount</th>\n",
       "      <th>title</th>\n",
       "      <th>zhinengleibie</th>\n",
       "      <th>career</th>\n",
       "      <th>real_province</th>\n",
       "      <th>province</th>\n",
       "      <th>city</th>\n",
       "      <th>company_description</th>\n",
       "      <th>company_size</th>\n",
       "      <th>company_title</th>\n",
       "      <th>company_type</th>\n",
       "      <th>page_title</th>\n",
       "      <th>ageism</th>\n",
       "      <th>db_Apache_Hive</th>\n",
       "      <th>db_CouchBase</th>\n",
       "      <th>db_CouchDB</th>\n",
       "      <th>db_DB2</th>\n",
       "      <th>db_DynamoDB</th>\n",
       "      <th>db_Elasticsearch</th>\n",
       "      <th>db_FileMaker</th>\n",
       "      <th>db_Firebase</th>\n",
       "      <th>db_Firebird</th>\n",
       "      <th>db_Hbase</th>\n",
       "      <th>db_Informix</th>\n",
       "      <th>db_Ingres</th>\n",
       "      <th>db_MariaDB</th>\n",
       "      <th>db_Memcached</th>\n",
       "      <th>db_MongoDB</th>\n",
       "      <th>db_MySQL</th>\n",
       "      <th>db_Neo4j</th>\n",
       "      <th>db_Netezza</th>\n",
       "      <th>db_Oracle</th>\n",
       "      <th>db_PostgreSQL</th>\n",
       "      <th>db_Redis</th>\n",
       "      <th>db_Riak</th>\n",
       "      <th>db_SAP_HANA</th>\n",
       "      <th>db_SQL_Server</th>\n",
       "      <th>db_SQLite</th>\n",
       "      <th>db_Solr</th>\n",
       "      <th>db_Splunk</th>\n",
       "      <th>db_Sybase</th>\n",
       "      <th>db_Teradata</th>\n",
       "      <th>db_dBase</th>\n",
       "      <th>edu</th>\n",
       "      <th>english</th>\n",
       "      <th>experience</th>\n",
       "      <th>expert_adas</th>\n",
       "      <th>expert_blockchain</th>\n",
       "      <th>expert_embed</th>\n",
       "      <th>expert_expert</th>\n",
       "      <th>expert_gis</th>\n",
       "      <th>_996_yes</th>\n",
       "      <th>_996_no</th>\n",
       "      <th>industry</th>\n",
       "      <th>japanese</th>\n",
       "      <th>job_description</th>\n",
       "      <th>job_summary</th>\n",
       "      <th>job_tags</th>\n",
       "      <th>phone_android</th>\n",
       "      <th>phone_app</th>\n",
       "      <th>phone_iso</th>\n",
       "      <th>pl_c_sharp</th>\n",
       "      <th>pl_cpp</th>\n",
       "      <th>pl_delphi</th>\n",
       "      <th>pl_go</th>\n",
       "      <th>pl_haskell</th>\n",
       "      <th>pl_java</th>\n",
       "      <th>pl_javascript</th>\n",
       "      <th>pl_julia</th>\n",
       "      <th>pl_kotlin</th>\n",
       "      <th>pl_lua</th>\n",
       "      <th>pl_matlab</th>\n",
       "      <th>pl_objective_c</th>\n",
       "      <th>pl_perl</th>\n",
       "      <th>pl_php</th>\n",
       "      <th>pl_python</th>\n",
       "      <th>pl_ruby</th>\n",
       "      <th>pl_rust</th>\n",
       "      <th>pl_scrala</th>\n",
       "      <th>pl_swift</th>\n",
       "      <th>pl_typescript</th>\n",
       "      <th>pl_vba</th>\n",
       "      <th>pl_visual_basic</th>\n",
       "      <th>publish_date</th>\n",
       "      <th>published_on_weekend</th>\n",
       "      <th>tag_baby_care</th>\n",
       "      <th>tag_five_insurance</th>\n",
       "      <th>tag_flexible</th>\n",
       "      <th>tag_no_overtime</th>\n",
       "      <th>tag_rest_one_day</th>\n",
       "      <th>tag_rest_two_days</th>\n",
       "      <th>tag_stock</th>\n",
       "    </tr>\n",
       "  </thead>\n",
       "  <tbody>\n",
       "    <tr>\n",
       "      <th>30817</th>\n",
       "      <td>75596794</td>\n",
       "      <td>7500</td>\n",
       "      <td>200</td>\n",
       "      <td>JAVA 工程师</td>\n",
       "      <td>软件工程师</td>\n",
       "      <td>一般程序员</td>\n",
       "      <td>None</td>\n",
       "      <td>广东</td>\n",
       "      <td>深圳</td>\n",
       "      <td>四方精创资讯有限公司（简称四方精创），是从事金融行业it综合服务和软件协同服务的高端应用软件...</td>\n",
       "      <td>500-1000</td>\n",
       "      <td>深圳四方精创资讯股份有限公司</td>\n",
       "      <td>合资</td>\n",
       "      <td>【深圳JAVA 工程师_JAVA 工程师招聘_深圳四方精创资讯股份有限公司】-前程无忧官方招聘网站</td>\n",
       "      <td>False</td>\n",
       "      <td>False</td>\n",
       "      <td>False</td>\n",
       "      <td>False</td>\n",
       "      <td>False</td>\n",
       "      <td>False</td>\n",
       "      <td>False</td>\n",
       "      <td>False</td>\n",
       "      <td>False</td>\n",
       "      <td>False</td>\n",
       "      <td>False</td>\n",
       "      <td>False</td>\n",
       "      <td>False</td>\n",
       "      <td>False</td>\n",
       "      <td>False</td>\n",
       "      <td>False</td>\n",
       "      <td>True</td>\n",
       "      <td>False</td>\n",
       "      <td>False</td>\n",
       "      <td>True</td>\n",
       "      <td>False</td>\n",
       "      <td>False</td>\n",
       "      <td>False</td>\n",
       "      <td>False</td>\n",
       "      <td>False</td>\n",
       "      <td>False</td>\n",
       "      <td>False</td>\n",
       "      <td>False</td>\n",
       "      <td>False</td>\n",
       "      <td>False</td>\n",
       "      <td>False</td>\n",
       "      <td>本科</td>\n",
       "      <td>False</td>\n",
       "      <td>1_3</td>\n",
       "      <td>False</td>\n",
       "      <td>False</td>\n",
       "      <td>False</td>\n",
       "      <td>False</td>\n",
       "      <td>False</td>\n",
       "      <td>False</td>\n",
       "      <td>False</td>\n",
       "      <td>computer</td>\n",
       "      <td>False</td>\n",
       "      <td>岗位职责1.按照上级计划和安排进行技术开发工作；2. 负责金融行业应用平台后端模块开发工作；...</td>\n",
       "      <td>深圳|1年经验|本科|招200人|07-31发布</td>\n",
       "      <td>五险一金,专业培训,年终奖金,员工旅游</td>\n",
       "      <td>False</td>\n",
       "      <td>False</td>\n",
       "      <td>False</td>\n",
       "      <td>False</td>\n",
       "      <td>False</td>\n",
       "      <td>False</td>\n",
       "      <td>False</td>\n",
       "      <td>False</td>\n",
       "      <td>True</td>\n",
       "      <td>False</td>\n",
       "      <td>False</td>\n",
       "      <td>False</td>\n",
       "      <td>False</td>\n",
       "      <td>False</td>\n",
       "      <td>False</td>\n",
       "      <td>False</td>\n",
       "      <td>False</td>\n",
       "      <td>False</td>\n",
       "      <td>False</td>\n",
       "      <td>False</td>\n",
       "      <td>False</td>\n",
       "      <td>False</td>\n",
       "      <td>False</td>\n",
       "      <td>False</td>\n",
       "      <td>False</td>\n",
       "      <td>2019-07-31</td>\n",
       "      <td>False</td>\n",
       "      <td>False</td>\n",
       "      <td>True</td>\n",
       "      <td>False</td>\n",
       "      <td>False</td>\n",
       "      <td>False</td>\n",
       "      <td>False</td>\n",
       "      <td>False</td>\n",
       "    </tr>\n",
       "    <tr>\n",
       "      <th>10742</th>\n",
       "      <td>110969579</td>\n",
       "      <td>12500</td>\n",
       "      <td>200</td>\n",
       "      <td>JAVA开发工程师（2019届应届毕业生）</td>\n",
       "      <td>软件工程师</td>\n",
       "      <td>一般程序员</td>\n",
       "      <td>None</td>\n",
       "      <td>广东</td>\n",
       "      <td>广州</td>\n",
       "      <td>广州汇智通信技术有限公司是专业从事国家特殊通信系统研制工作的大型国有控股混合所有制企业。公司...</td>\n",
       "      <td>1000-5000</td>\n",
       "      <td>广州汇智通信技术有限公司</td>\n",
       "      <td>国企</td>\n",
       "      <td>【广州JAVA开发工程师（2019届应届毕业生）_JAVA开发工程师（2019届应届毕业生）...</td>\n",
       "      <td>False</td>\n",
       "      <td>False</td>\n",
       "      <td>False</td>\n",
       "      <td>False</td>\n",
       "      <td>False</td>\n",
       "      <td>False</td>\n",
       "      <td>False</td>\n",
       "      <td>False</td>\n",
       "      <td>False</td>\n",
       "      <td>False</td>\n",
       "      <td>False</td>\n",
       "      <td>False</td>\n",
       "      <td>False</td>\n",
       "      <td>False</td>\n",
       "      <td>False</td>\n",
       "      <td>False</td>\n",
       "      <td>False</td>\n",
       "      <td>False</td>\n",
       "      <td>False</td>\n",
       "      <td>False</td>\n",
       "      <td>False</td>\n",
       "      <td>False</td>\n",
       "      <td>False</td>\n",
       "      <td>False</td>\n",
       "      <td>False</td>\n",
       "      <td>False</td>\n",
       "      <td>False</td>\n",
       "      <td>False</td>\n",
       "      <td>False</td>\n",
       "      <td>False</td>\n",
       "      <td>False</td>\n",
       "      <td>本科</td>\n",
       "      <td>False</td>\n",
       "      <td>no</td>\n",
       "      <td>False</td>\n",
       "      <td>False</td>\n",
       "      <td>False</td>\n",
       "      <td>False</td>\n",
       "      <td>False</td>\n",
       "      <td>False</td>\n",
       "      <td>False</td>\n",
       "      <td>computer</td>\n",
       "      <td>False</td>\n",
       "      <td>广州汇智通信技术有限公司                                  ...</td>\n",
       "      <td>广州|无工作经验|本科|招200人|07-15发布</td>\n",
       "      <td>五险一金,补充医疗保险,补充公积金,交通补贴,年终奖金,绩效奖金,通讯补贴,定期体检,餐饮补贴</td>\n",
       "      <td>False</td>\n",
       "      <td>True</td>\n",
       "      <td>True</td>\n",
       "      <td>True</td>\n",
       "      <td>True</td>\n",
       "      <td>False</td>\n",
       "      <td>False</td>\n",
       "      <td>False</td>\n",
       "      <td>True</td>\n",
       "      <td>False</td>\n",
       "      <td>False</td>\n",
       "      <td>False</td>\n",
       "      <td>False</td>\n",
       "      <td>False</td>\n",
       "      <td>False</td>\n",
       "      <td>False</td>\n",
       "      <td>False</td>\n",
       "      <td>False</td>\n",
       "      <td>False</td>\n",
       "      <td>False</td>\n",
       "      <td>False</td>\n",
       "      <td>False</td>\n",
       "      <td>False</td>\n",
       "      <td>False</td>\n",
       "      <td>False</td>\n",
       "      <td>2019-07-15</td>\n",
       "      <td>False</td>\n",
       "      <td>False</td>\n",
       "      <td>True</td>\n",
       "      <td>False</td>\n",
       "      <td>False</td>\n",
       "      <td>False</td>\n",
       "      <td>False</td>\n",
       "      <td>False</td>\n",
       "    </tr>\n",
       "    <tr>\n",
       "      <th>22409</th>\n",
       "      <td>114568087</td>\n",
       "      <td>3750</td>\n",
       "      <td>151</td>\n",
       "      <td>C#软件开发</td>\n",
       "      <td>软件工程师</td>\n",
       "      <td>一般程序员</td>\n",
       "      <td>None</td>\n",
       "      <td>北京</td>\n",
       "      <td>北京</td>\n",
       "      <td>北京其然科技有限公司，名字源于，顺 其其自 然然，主旨顺其自然、水到渠成。北京其然科技有限公...</td>\n",
       "      <td>50-150</td>\n",
       "      <td>北京其然科技有限公司</td>\n",
       "      <td>民营公司</td>\n",
       "      <td>【北京-海淀区C#软件开发_C#软件开发招聘_北京其然科技有限公司】-前程无忧官方招聘网站</td>\n",
       "      <td>False</td>\n",
       "      <td>False</td>\n",
       "      <td>False</td>\n",
       "      <td>False</td>\n",
       "      <td>False</td>\n",
       "      <td>False</td>\n",
       "      <td>False</td>\n",
       "      <td>False</td>\n",
       "      <td>False</td>\n",
       "      <td>False</td>\n",
       "      <td>False</td>\n",
       "      <td>False</td>\n",
       "      <td>False</td>\n",
       "      <td>False</td>\n",
       "      <td>False</td>\n",
       "      <td>False</td>\n",
       "      <td>False</td>\n",
       "      <td>False</td>\n",
       "      <td>False</td>\n",
       "      <td>False</td>\n",
       "      <td>False</td>\n",
       "      <td>False</td>\n",
       "      <td>False</td>\n",
       "      <td>False</td>\n",
       "      <td>False</td>\n",
       "      <td>False</td>\n",
       "      <td>False</td>\n",
       "      <td>False</td>\n",
       "      <td>False</td>\n",
       "      <td>False</td>\n",
       "      <td>False</td>\n",
       "      <td>大专</td>\n",
       "      <td>False</td>\n",
       "      <td>no</td>\n",
       "      <td>False</td>\n",
       "      <td>False</td>\n",
       "      <td>False</td>\n",
       "      <td>False</td>\n",
       "      <td>False</td>\n",
       "      <td>False</td>\n",
       "      <td>False</td>\n",
       "      <td>computer</td>\n",
       "      <td>False</td>\n",
       "      <td>熟悉面向对象思想熟悉.Net架构体系精通C#开发语言熟悉WinFrom开发熟悉Asp.Net...</td>\n",
       "      <td>北京-海淀区|无工作经验|大专|招151人|07-31发布</td>\n",
       "      <td></td>\n",
       "      <td>False</td>\n",
       "      <td>False</td>\n",
       "      <td>False</td>\n",
       "      <td>True</td>\n",
       "      <td>False</td>\n",
       "      <td>False</td>\n",
       "      <td>False</td>\n",
       "      <td>False</td>\n",
       "      <td>False</td>\n",
       "      <td>True</td>\n",
       "      <td>False</td>\n",
       "      <td>False</td>\n",
       "      <td>False</td>\n",
       "      <td>False</td>\n",
       "      <td>False</td>\n",
       "      <td>False</td>\n",
       "      <td>False</td>\n",
       "      <td>False</td>\n",
       "      <td>False</td>\n",
       "      <td>False</td>\n",
       "      <td>False</td>\n",
       "      <td>False</td>\n",
       "      <td>False</td>\n",
       "      <td>False</td>\n",
       "      <td>False</td>\n",
       "      <td>2019-07-31</td>\n",
       "      <td>False</td>\n",
       "      <td>False</td>\n",
       "      <td>False</td>\n",
       "      <td>False</td>\n",
       "      <td>False</td>\n",
       "      <td>False</td>\n",
       "      <td>False</td>\n",
       "      <td>False</td>\n",
       "    </tr>\n",
       "    <tr>\n",
       "      <th>6525</th>\n",
       "      <td>108834444</td>\n",
       "      <td>15000</td>\n",
       "      <td>150</td>\n",
       "      <td>Java开发工程师</td>\n",
       "      <td>软件工程师</td>\n",
       "      <td>一般程序员</td>\n",
       "      <td>None</td>\n",
       "      <td>北京</td>\n",
       "      <td>北京</td>\n",
       "      <td>大连华信计算机技术股份有限公司（简称大连华信）是一家面向全球客户提供领先的应用软件产品、信息...</td>\n",
       "      <td>5000-10000</td>\n",
       "      <td>大连华信计算机技术股份有限公司</td>\n",
       "      <td>合资</td>\n",
       "      <td>【北京-朝阳区Java开发工程师_Java开发工程师招聘_大连华信计算机技术股份有限公司】-...</td>\n",
       "      <td>False</td>\n",
       "      <td>False</td>\n",
       "      <td>False</td>\n",
       "      <td>False</td>\n",
       "      <td>False</td>\n",
       "      <td>False</td>\n",
       "      <td>False</td>\n",
       "      <td>False</td>\n",
       "      <td>False</td>\n",
       "      <td>False</td>\n",
       "      <td>False</td>\n",
       "      <td>False</td>\n",
       "      <td>False</td>\n",
       "      <td>False</td>\n",
       "      <td>False</td>\n",
       "      <td>False</td>\n",
       "      <td>True</td>\n",
       "      <td>False</td>\n",
       "      <td>False</td>\n",
       "      <td>True</td>\n",
       "      <td>False</td>\n",
       "      <td>False</td>\n",
       "      <td>False</td>\n",
       "      <td>False</td>\n",
       "      <td>False</td>\n",
       "      <td>False</td>\n",
       "      <td>False</td>\n",
       "      <td>False</td>\n",
       "      <td>False</td>\n",
       "      <td>False</td>\n",
       "      <td>False</td>\n",
       "      <td>本科</td>\n",
       "      <td>False</td>\n",
       "      <td>5_10</td>\n",
       "      <td>False</td>\n",
       "      <td>False</td>\n",
       "      <td>False</td>\n",
       "      <td>False</td>\n",
       "      <td>False</td>\n",
       "      <td>False</td>\n",
       "      <td>False</td>\n",
       "      <td>computer</td>\n",
       "      <td>False</td>\n",
       "      <td>1、5年以上java开发工作经验。2、有丰富研发经验；深入理解SpringCloud、spr...</td>\n",
       "      <td>北京-朝阳区|5-7年经验|本科|招150人|07-31发布</td>\n",
       "      <td>五险一金,补充医疗保险,定期体检,年终奖金</td>\n",
       "      <td>False</td>\n",
       "      <td>False</td>\n",
       "      <td>False</td>\n",
       "      <td>False</td>\n",
       "      <td>False</td>\n",
       "      <td>False</td>\n",
       "      <td>True</td>\n",
       "      <td>False</td>\n",
       "      <td>True</td>\n",
       "      <td>False</td>\n",
       "      <td>False</td>\n",
       "      <td>False</td>\n",
       "      <td>False</td>\n",
       "      <td>False</td>\n",
       "      <td>False</td>\n",
       "      <td>False</td>\n",
       "      <td>False</td>\n",
       "      <td>True</td>\n",
       "      <td>False</td>\n",
       "      <td>False</td>\n",
       "      <td>False</td>\n",
       "      <td>False</td>\n",
       "      <td>False</td>\n",
       "      <td>False</td>\n",
       "      <td>False</td>\n",
       "      <td>2019-07-31</td>\n",
       "      <td>False</td>\n",
       "      <td>False</td>\n",
       "      <td>True</td>\n",
       "      <td>False</td>\n",
       "      <td>False</td>\n",
       "      <td>False</td>\n",
       "      <td>False</td>\n",
       "      <td>False</td>\n",
       "    </tr>\n",
       "    <tr>\n",
       "      <th>11923</th>\n",
       "      <td>111488966</td>\n",
       "      <td>8500</td>\n",
       "      <td>90</td>\n",
       "      <td>开发工程师</td>\n",
       "      <td>软件工程师</td>\n",
       "      <td>一般程序员</td>\n",
       "      <td>None</td>\n",
       "      <td>广东</td>\n",
       "      <td>广州</td>\n",
       "      <td>东华医为科技有限公司（简称东华医为）成立于2012年5月，注册资金5000万，是东华软件股份...</td>\n",
       "      <td>1000-5000</td>\n",
       "      <td>东华医为科技有限公司</td>\n",
       "      <td>民营公司</td>\n",
       "      <td>【广州开发工程师_开发工程师招聘_东华医为科技有限公司】-前程无忧官方招聘网站</td>\n",
       "      <td>False</td>\n",
       "      <td>False</td>\n",
       "      <td>False</td>\n",
       "      <td>False</td>\n",
       "      <td>False</td>\n",
       "      <td>False</td>\n",
       "      <td>False</td>\n",
       "      <td>False</td>\n",
       "      <td>False</td>\n",
       "      <td>False</td>\n",
       "      <td>False</td>\n",
       "      <td>False</td>\n",
       "      <td>False</td>\n",
       "      <td>False</td>\n",
       "      <td>False</td>\n",
       "      <td>False</td>\n",
       "      <td>True</td>\n",
       "      <td>False</td>\n",
       "      <td>False</td>\n",
       "      <td>True</td>\n",
       "      <td>False</td>\n",
       "      <td>False</td>\n",
       "      <td>False</td>\n",
       "      <td>False</td>\n",
       "      <td>True</td>\n",
       "      <td>False</td>\n",
       "      <td>False</td>\n",
       "      <td>False</td>\n",
       "      <td>False</td>\n",
       "      <td>False</td>\n",
       "      <td>False</td>\n",
       "      <td>本科</td>\n",
       "      <td>False</td>\n",
       "      <td>no</td>\n",
       "      <td>False</td>\n",
       "      <td>False</td>\n",
       "      <td>False</td>\n",
       "      <td>False</td>\n",
       "      <td>False</td>\n",
       "      <td>False</td>\n",
       "      <td>False</td>\n",
       "      <td>medical</td>\n",
       "      <td>False</td>\n",
       "      <td>工作职责：1、软件的程序设计与代码编写。 2、有关技术方案、文档的编写，软件单元的测试。 3...</td>\n",
       "      <td>广州|无工作经验|本科|招90人|07-31发布</td>\n",
       "      <td>五险一金,通讯补贴,年终奖金,定期体检</td>\n",
       "      <td>False</td>\n",
       "      <td>False</td>\n",
       "      <td>False</td>\n",
       "      <td>True</td>\n",
       "      <td>False</td>\n",
       "      <td>False</td>\n",
       "      <td>False</td>\n",
       "      <td>False</td>\n",
       "      <td>False</td>\n",
       "      <td>True</td>\n",
       "      <td>False</td>\n",
       "      <td>False</td>\n",
       "      <td>False</td>\n",
       "      <td>False</td>\n",
       "      <td>False</td>\n",
       "      <td>False</td>\n",
       "      <td>True</td>\n",
       "      <td>False</td>\n",
       "      <td>False</td>\n",
       "      <td>False</td>\n",
       "      <td>False</td>\n",
       "      <td>False</td>\n",
       "      <td>False</td>\n",
       "      <td>False</td>\n",
       "      <td>False</td>\n",
       "      <td>2019-07-31</td>\n",
       "      <td>False</td>\n",
       "      <td>False</td>\n",
       "      <td>True</td>\n",
       "      <td>False</td>\n",
       "      <td>False</td>\n",
       "      <td>False</td>\n",
       "      <td>False</td>\n",
       "      <td>False</td>\n",
       "    </tr>\n",
       "  </tbody>\n",
       "</table>\n",
       "</div>"
      ],
      "text/plain": [
       "          job_id  monthly_salary  headcount                  title  \\\n",
       "30817   75596794            7500        200               JAVA 工程师   \n",
       "10742  110969579           12500        200  JAVA开发工程师（2019届应届毕业生）   \n",
       "22409  114568087            3750        151                 C#软件开发   \n",
       "6525   108834444           15000        150              Java开发工程师   \n",
       "11923  111488966            8500         90                  开发工程师   \n",
       "\n",
       "      zhinengleibie career real_province province city  \\\n",
       "30817         软件工程师  一般程序员          None       广东   深圳   \n",
       "10742         软件工程师  一般程序员          None       广东   广州   \n",
       "22409         软件工程师  一般程序员          None       北京   北京   \n",
       "6525          软件工程师  一般程序员          None       北京   北京   \n",
       "11923         软件工程师  一般程序员          None       广东   广州   \n",
       "\n",
       "                                     company_description company_size  \\\n",
       "30817  四方精创资讯有限公司（简称四方精创），是从事金融行业it综合服务和软件协同服务的高端应用软件...     500-1000   \n",
       "10742  广州汇智通信技术有限公司是专业从事国家特殊通信系统研制工作的大型国有控股混合所有制企业。公司...    1000-5000   \n",
       "22409  北京其然科技有限公司，名字源于，顺 其其自 然然，主旨顺其自然、水到渠成。北京其然科技有限公...       50-150   \n",
       "6525   大连华信计算机技术股份有限公司（简称大连华信）是一家面向全球客户提供领先的应用软件产品、信息...   5000-10000   \n",
       "11923  东华医为科技有限公司（简称东华医为）成立于2012年5月，注册资金5000万，是东华软件股份...    1000-5000   \n",
       "\n",
       "         company_title company_type  \\\n",
       "30817   深圳四方精创资讯股份有限公司           合资   \n",
       "10742     广州汇智通信技术有限公司           国企   \n",
       "22409       北京其然科技有限公司         民营公司   \n",
       "6525   大连华信计算机技术股份有限公司           合资   \n",
       "11923       东华医为科技有限公司         民营公司   \n",
       "\n",
       "                                              page_title  ageism  \\\n",
       "30817  【深圳JAVA 工程师_JAVA 工程师招聘_深圳四方精创资讯股份有限公司】-前程无忧官方招聘网站   False   \n",
       "10742  【广州JAVA开发工程师（2019届应届毕业生）_JAVA开发工程师（2019届应届毕业生）...   False   \n",
       "22409      【北京-海淀区C#软件开发_C#软件开发招聘_北京其然科技有限公司】-前程无忧官方招聘网站   False   \n",
       "6525   【北京-朝阳区Java开发工程师_Java开发工程师招聘_大连华信计算机技术股份有限公司】-...   False   \n",
       "11923            【广州开发工程师_开发工程师招聘_东华医为科技有限公司】-前程无忧官方招聘网站   False   \n",
       "\n",
       "       db_Apache_Hive  db_CouchBase  db_CouchDB  db_DB2  db_DynamoDB  \\\n",
       "30817           False         False       False   False        False   \n",
       "10742           False         False       False   False        False   \n",
       "22409           False         False       False   False        False   \n",
       "6525            False         False       False   False        False   \n",
       "11923           False         False       False   False        False   \n",
       "\n",
       "       db_Elasticsearch  db_FileMaker  db_Firebase  db_Firebird  db_Hbase  \\\n",
       "30817             False         False        False        False     False   \n",
       "10742             False         False        False        False     False   \n",
       "22409             False         False        False        False     False   \n",
       "6525              False         False        False        False     False   \n",
       "11923             False         False        False        False     False   \n",
       "\n",
       "       db_Informix  db_Ingres  db_MariaDB  db_Memcached  db_MongoDB  db_MySQL  \\\n",
       "30817        False      False       False         False       False      True   \n",
       "10742        False      False       False         False       False     False   \n",
       "22409        False      False       False         False       False     False   \n",
       "6525         False      False       False         False       False      True   \n",
       "11923        False      False       False         False       False      True   \n",
       "\n",
       "       db_Neo4j  db_Netezza  db_Oracle  db_PostgreSQL  db_Redis  db_Riak  \\\n",
       "30817     False       False       True          False     False    False   \n",
       "10742     False       False      False          False     False    False   \n",
       "22409     False       False      False          False     False    False   \n",
       "6525      False       False       True          False     False    False   \n",
       "11923     False       False       True          False     False    False   \n",
       "\n",
       "       db_SAP_HANA  db_SQL_Server  db_SQLite  db_Solr  db_Splunk  db_Sybase  \\\n",
       "30817        False          False      False    False      False      False   \n",
       "10742        False          False      False    False      False      False   \n",
       "22409        False          False      False    False      False      False   \n",
       "6525         False          False      False    False      False      False   \n",
       "11923        False           True      False    False      False      False   \n",
       "\n",
       "       db_Teradata  db_dBase edu  english experience  expert_adas  \\\n",
       "30817        False     False  本科    False        1_3        False   \n",
       "10742        False     False  本科    False         no        False   \n",
       "22409        False     False  大专    False         no        False   \n",
       "6525         False     False  本科    False       5_10        False   \n",
       "11923        False     False  本科    False         no        False   \n",
       "\n",
       "       expert_blockchain  expert_embed  expert_expert  expert_gis  _996_yes  \\\n",
       "30817              False         False          False       False     False   \n",
       "10742              False         False          False       False     False   \n",
       "22409              False         False          False       False     False   \n",
       "6525               False         False          False       False     False   \n",
       "11923              False         False          False       False     False   \n",
       "\n",
       "       _996_no  industry  japanese  \\\n",
       "30817    False  computer     False   \n",
       "10742    False  computer     False   \n",
       "22409    False  computer     False   \n",
       "6525     False  computer     False   \n",
       "11923    False   medical     False   \n",
       "\n",
       "                                         job_description  \\\n",
       "30817  岗位职责1.按照上级计划和安排进行技术开发工作；2. 负责金融行业应用平台后端模块开发工作；...   \n",
       "10742  广州汇智通信技术有限公司                                  ...   \n",
       "22409  熟悉面向对象思想熟悉.Net架构体系精通C#开发语言熟悉WinFrom开发熟悉Asp.Net...   \n",
       "6525   1、5年以上java开发工作经验。2、有丰富研发经验；深入理解SpringCloud、spr...   \n",
       "11923  工作职责：1、软件的程序设计与代码编写。 2、有关技术方案、文档的编写，软件单元的测试。 3...   \n",
       "\n",
       "                          job_summary  \\\n",
       "30817        深圳|1年经验|本科|招200人|07-31发布   \n",
       "10742       广州|无工作经验|本科|招200人|07-15发布   \n",
       "22409   北京-海淀区|无工作经验|大专|招151人|07-31发布   \n",
       "6525   北京-朝阳区|5-7年经验|本科|招150人|07-31发布   \n",
       "11923        广州|无工作经验|本科|招90人|07-31发布   \n",
       "\n",
       "                                              job_tags  phone_android  \\\n",
       "30817                              五险一金,专业培训,年终奖金,员工旅游          False   \n",
       "10742  五险一金,补充医疗保险,补充公积金,交通补贴,年终奖金,绩效奖金,通讯补贴,定期体检,餐饮补贴          False   \n",
       "22409                                                           False   \n",
       "6525                             五险一金,补充医疗保险,定期体检,年终奖金          False   \n",
       "11923                              五险一金,通讯补贴,年终奖金,定期体检          False   \n",
       "\n",
       "       phone_app  phone_iso  pl_c_sharp  pl_cpp  pl_delphi  pl_go  pl_haskell  \\\n",
       "30817      False      False       False   False      False  False       False   \n",
       "10742       True       True        True    True      False  False       False   \n",
       "22409      False      False        True   False      False  False       False   \n",
       "6525       False      False       False   False      False   True       False   \n",
       "11923      False      False        True   False      False  False       False   \n",
       "\n",
       "       pl_java  pl_javascript  pl_julia  pl_kotlin  pl_lua  pl_matlab  \\\n",
       "30817     True          False     False      False   False      False   \n",
       "10742     True          False     False      False   False      False   \n",
       "22409    False           True     False      False   False      False   \n",
       "6525      True          False     False      False   False      False   \n",
       "11923    False           True     False      False   False      False   \n",
       "\n",
       "       pl_objective_c  pl_perl  pl_php  pl_python  pl_ruby  pl_rust  \\\n",
       "30817           False    False   False      False    False    False   \n",
       "10742           False    False   False      False    False    False   \n",
       "22409           False    False   False      False    False    False   \n",
       "6525            False    False   False       True    False    False   \n",
       "11923           False    False    True      False    False    False   \n",
       "\n",
       "       pl_scrala  pl_swift  pl_typescript  pl_vba  pl_visual_basic  \\\n",
       "30817      False     False          False   False            False   \n",
       "10742      False     False          False   False            False   \n",
       "22409      False     False          False   False            False   \n",
       "6525       False     False          False   False            False   \n",
       "11923      False     False          False   False            False   \n",
       "\n",
       "      publish_date  published_on_weekend  tag_baby_care  tag_five_insurance  \\\n",
       "30817   2019-07-31                 False          False                True   \n",
       "10742   2019-07-15                 False          False                True   \n",
       "22409   2019-07-31                 False          False               False   \n",
       "6525    2019-07-31                 False          False                True   \n",
       "11923   2019-07-31                 False          False                True   \n",
       "\n",
       "       tag_flexible  tag_no_overtime  tag_rest_one_day  tag_rest_two_days  \\\n",
       "30817         False            False             False              False   \n",
       "10742         False            False             False              False   \n",
       "22409         False            False             False              False   \n",
       "6525          False            False             False              False   \n",
       "11923         False            False             False              False   \n",
       "\n",
       "       tag_stock  \n",
       "30817      False  \n",
       "10742      False  \n",
       "22409      False  \n",
       "6525       False  \n",
       "11923      False  "
      ]
     },
     "execution_count": 22,
     "metadata": {},
     "output_type": "execute_result"
    }
   ],
   "source": [
    "pd.options.display.max_columns=100\n",
    "data.sort_values(by='headcount', ascending=False).head()"
   ]
  },
  {
   "cell_type": "markdown",
   "metadata": {},
   "source": []
  },
  {
   "cell_type": "code",
   "execution_count": 23,
   "metadata": {},
   "outputs": [
    {
     "data": {
      "text/plain": [
       "110621"
      ]
     },
     "execution_count": 23,
     "metadata": {},
     "output_type": "execute_result"
    }
   ],
   "source": [
    "data.headcount.sum()"
   ]
  },
  {
   "cell_type": "markdown",
   "metadata": {},
   "source": [
    "# 城市"
   ]
  },
  {
   "cell_type": "code",
   "execution_count": 24,
   "metadata": {},
   "outputs": [],
   "source": [
    "headcount_by_cities = data.groupby(by='city').headcount.sum()"
   ]
  },
  {
   "cell_type": "code",
   "execution_count": 25,
   "metadata": {},
   "outputs": [
    {
     "data": {
      "text/plain": [
       "city\n",
       "上海    36182\n",
       "北京    21211\n",
       "广州    22563\n",
       "深圳    30665\n",
       "Name: headcount, dtype: int64"
      ]
     },
     "execution_count": 25,
     "metadata": {},
     "output_type": "execute_result"
    }
   ],
   "source": [
    "headcount_by_cities\n"
   ]
  },
  {
   "cell_type": "code",
   "execution_count": 26,
   "metadata": {},
   "outputs": [
    {
     "data": {
      "text/plain": [
       "([<matplotlib.patches.Wedge at 0x25950908128>,\n",
       "  <matplotlib.patches.Wedge at 0x25950908860>,\n",
       "  <matplotlib.patches.Wedge at 0x25950908f60>,\n",
       "  <matplotlib.patches.Wedge at 0x259509066a0>],\n",
       " [Text(0.5686052095131852, 0.9416411820404135, '上海'),\n",
       "  Text(-0.9736037862723731, 0.5119527979766293, '北京'),\n",
       "  Text(-0.7980280801715526, -0.7570674892357393, '广州'),\n",
       "  Text(0.7085742158405794, -0.8413813526849214, '深圳')],\n",
       " [Text(0.31014829609810096, 0.5136224629311346, '32.7%'),\n",
       "  Text(-0.5310566106940217, 0.27924698071452503, '19.2%'),\n",
       "  Text(-0.43528804372993773, -0.4129459032194941, '20.4%'),\n",
       "  Text(0.3864950268221342, -0.45893528328268435, '27.7%')])"
      ]
     },
     "execution_count": 26,
     "metadata": {},
     "output_type": "execute_result"
    },
    {
     "data": {
      "image/png": "[encoded data removed]",
      "text/plain": [
       "<Figure size 720x576 with 1 Axes>"
      ]
     },
     "metadata": {},
     "output_type": "display_data"
    }
   ],
   "source": [
    "plt.figure(figsize=(10,8))\n",
    "plt.pie(headcount_by_cities.values, labels=headcount_by_cities.index, autopct='%1.1f%%')"
   ]
  },
  {
   "cell_type": "code",
   "execution_count": 27,
   "metadata": {},
   "outputs": [
    {
     "data": {
      "text/html": [
       "<style  type=\"text/css\" >\n",
       "</style>  \n",
       "<table id=\"T_5ac7a9f6_b594_11e9_8e58_701ce71031ef\" > \n",
       "<thead>    <tr> \n",
       "        <th class=\"col_heading level0 col0\" >city</th> \n",
       "        <th class=\"col_heading level0 col1\" >salary_mean</th> \n",
       "        <th class=\"col_heading level0 col2\" >salary_95_min</th> \n",
       "        <th class=\"col_heading level0 col3\" >salary_median</th> \n",
       "        <th class=\"col_heading level0 col4\" >salary_95_max</th> \n",
       "        <th class=\"col_heading level0 col5\" >head_count</th> \n",
       "        <th class=\"col_heading level0 col6\" >percentage</th> \n",
       "    </tr></thead> \n",
       "<tbody>    <tr> \n",
       "        <td id=\"T_5ac7a9f6_b594_11e9_8e58_701ce71031efrow0_col0\" class=\"data row0 col0\" >北京</td> \n",
       "        <td id=\"T_5ac7a9f6_b594_11e9_8e58_701ce71031efrow0_col1\" class=\"data row0 col1\" >17638</td> \n",
       "        <td id=\"T_5ac7a9f6_b594_11e9_8e58_701ce71031efrow0_col2\" class=\"data row0 col2\" >3750</td> \n",
       "        <td id=\"T_5ac7a9f6_b594_11e9_8e58_701ce71031efrow0_col3\" class=\"data row0 col3\" >15000</td> \n",
       "        <td id=\"T_5ac7a9f6_b594_11e9_8e58_701ce71031efrow0_col4\" class=\"data row0 col4\" >45000</td> \n",
       "        <td id=\"T_5ac7a9f6_b594_11e9_8e58_701ce71031efrow0_col5\" class=\"data row0 col5\" >21211</td> \n",
       "        <td id=\"T_5ac7a9f6_b594_11e9_8e58_701ce71031efrow0_col6\" class=\"data row0 col6\" >19.17%</td> \n",
       "    </tr>    <tr> \n",
       "        <td id=\"T_5ac7a9f6_b594_11e9_8e58_701ce71031efrow1_col0\" class=\"data row1 col0\" >上海</td> \n",
       "        <td id=\"T_5ac7a9f6_b594_11e9_8e58_701ce71031efrow1_col1\" class=\"data row1 col1\" >16631</td> \n",
       "        <td id=\"T_5ac7a9f6_b594_11e9_8e58_701ce71031efrow1_col2\" class=\"data row1 col2\" >5250</td> \n",
       "        <td id=\"T_5ac7a9f6_b594_11e9_8e58_701ce71031efrow1_col3\" class=\"data row1 col3\" >15000</td> \n",
       "        <td id=\"T_5ac7a9f6_b594_11e9_8e58_701ce71031efrow1_col4\" class=\"data row1 col4\" >37500</td> \n",
       "        <td id=\"T_5ac7a9f6_b594_11e9_8e58_701ce71031efrow1_col5\" class=\"data row1 col5\" >36182</td> \n",
       "        <td id=\"T_5ac7a9f6_b594_11e9_8e58_701ce71031efrow1_col6\" class=\"data row1 col6\" >32.71%</td> \n",
       "    </tr>    <tr> \n",
       "        <td id=\"T_5ac7a9f6_b594_11e9_8e58_701ce71031efrow2_col0\" class=\"data row2 col0\" >深圳</td> \n",
       "        <td id=\"T_5ac7a9f6_b594_11e9_8e58_701ce71031efrow2_col1\" class=\"data row2 col1\" >16354</td> \n",
       "        <td id=\"T_5ac7a9f6_b594_11e9_8e58_701ce71031efrow2_col2\" class=\"data row2 col2\" >5500</td> \n",
       "        <td id=\"T_5ac7a9f6_b594_11e9_8e58_701ce71031efrow2_col3\" class=\"data row2 col3\" >15000</td> \n",
       "        <td id=\"T_5ac7a9f6_b594_11e9_8e58_701ce71031efrow2_col4\" class=\"data row2 col4\" >37500</td> \n",
       "        <td id=\"T_5ac7a9f6_b594_11e9_8e58_701ce71031efrow2_col5\" class=\"data row2 col5\" >30665</td> \n",
       "        <td id=\"T_5ac7a9f6_b594_11e9_8e58_701ce71031efrow2_col6\" class=\"data row2 col6\" >27.72%</td> \n",
       "    </tr>    <tr> \n",
       "        <td id=\"T_5ac7a9f6_b594_11e9_8e58_701ce71031efrow3_col0\" class=\"data row3 col0\" >广州</td> \n",
       "        <td id=\"T_5ac7a9f6_b594_11e9_8e58_701ce71031efrow3_col1\" class=\"data row3 col1\" >13523</td> \n",
       "        <td id=\"T_5ac7a9f6_b594_11e9_8e58_701ce71031efrow3_col2\" class=\"data row3 col2\" >3750</td> \n",
       "        <td id=\"T_5ac7a9f6_b594_11e9_8e58_701ce71031efrow3_col3\" class=\"data row3 col3\" >12500</td> \n",
       "        <td id=\"T_5ac7a9f6_b594_11e9_8e58_701ce71031efrow3_col4\" class=\"data row3 col4\" >33423</td> \n",
       "        <td id=\"T_5ac7a9f6_b594_11e9_8e58_701ce71031efrow3_col5\" class=\"data row3 col5\" >22563</td> \n",
       "        <td id=\"T_5ac7a9f6_b594_11e9_8e58_701ce71031efrow3_col6\" class=\"data row3 col6\" >20.40%</td> \n",
       "    </tr></tbody> \n",
       "</table> "
      ],
      "text/plain": [
       "<pandas.io.formats.style.Styler at 0x259507b7d68>"
      ]
     },
     "execution_count": 27,
     "metadata": {},
     "output_type": "execute_result"
    }
   ],
   "source": [
    "data_pl=get_sub_stats_by_col(data,'city')\n",
    "apply_style(data_pl)"
   ]
  },
  {
   "cell_type": "code",
   "execution_count": 28,
   "metadata": {},
   "outputs": [],
   "source": [
    "salary_beijing=data[data.city=='北京'].monthly_salary\n",
    "salary_shanghai=data[data.city=='上海'].monthly_salary\n",
    "salary_guangzhou=data[data.city=='广州'].monthly_salary\n",
    "salary_shenzhen=data[data.city=='深圳'].monthly_salary"
   ]
  },
  {
   "cell_type": "code",
   "execution_count": null,
   "metadata": {},
   "outputs": [],
   "source": []
  },
  {
   "cell_type": "code",
   "execution_count": 29,
   "metadata": {},
   "outputs": [
    {
     "data": {
      "text/plain": [
       "F_onewayResult(statistic=55.94487891616511, pvalue=7.800810643951674e-14)"
      ]
     },
     "execution_count": 29,
     "metadata": {},
     "output_type": "execute_result"
    }
   ],
   "source": [
    "stats.f_oneway(salary_beijing, salary_shanghai)"
   ]
  },
  {
   "cell_type": "code",
   "execution_count": 30,
   "metadata": {},
   "outputs": [
    {
     "data": {
      "text/plain": [
       "F_onewayResult(statistic=60.048290754922576, pvalue=9.652840226186673e-15)"
      ]
     },
     "execution_count": 30,
     "metadata": {},
     "output_type": "execute_result"
    }
   ],
   "source": [
    "stats.f_oneway(salary_shanghai, salary_shenzhen)"
   ]
  },
  {
   "cell_type": "code",
   "execution_count": 31,
   "metadata": {},
   "outputs": [
    {
     "data": {
      "text/plain": [
       "F_onewayResult(statistic=496.04194817060295, pvalue=1.9806675312556773e-108)"
      ]
     },
     "execution_count": 31,
     "metadata": {},
     "output_type": "execute_result"
    }
   ],
   "source": [
    "stats.f_oneway(salary_shenzhen, salary_guangzhou)"
   ]
  },
  {
   "cell_type": "markdown",
   "metadata": {},
   "source": [
    "# 编程语言"
   ]
  },
  {
   "cell_type": "code",
   "execution_count": 32,
   "metadata": {},
   "outputs": [
    {
     "data": {
      "text/html": [
       "<style  type=\"text/css\" >\n",
       "</style>  \n",
       "<table id=\"T_5af0367a_b594_11e9_a600_701ce71031ef\" > \n",
       "<thead>    <tr> \n",
       "        <th class=\"col_heading level0 col0\" >rank</th> \n",
       "        <th class=\"col_heading level0 col1\" >pl_</th> \n",
       "        <th class=\"col_heading level0 col2\" >salary_mean</th> \n",
       "        <th class=\"col_heading level0 col3\" >salary_median</th> \n",
       "        <th class=\"col_heading level0 col4\" >salary_95_min</th> \n",
       "        <th class=\"col_heading level0 col5\" >salary_95_max</th> \n",
       "        <th class=\"col_heading level0 col6\" >head_count</th> \n",
       "        <th class=\"col_heading level0 col7\" >percentage</th> \n",
       "    </tr></thead> \n",
       "<tbody>    <tr> \n",
       "        <td id=\"T_5af0367a_b594_11e9_a600_701ce71031efrow0_col0\" class=\"data row0 col0\" >1</td> \n",
       "        <td id=\"T_5af0367a_b594_11e9_a600_701ce71031efrow0_col1\" class=\"data row0 col1\" >haskell</td> \n",
       "        <td id=\"T_5af0367a_b594_11e9_a600_701ce71031efrow0_col2\" class=\"data row0 col2\" >27578</td> \n",
       "        <td id=\"T_5af0367a_b594_11e9_a600_701ce71031efrow0_col3\" class=\"data row0 col3\" >26250</td> \n",
       "        <td id=\"T_5af0367a_b594_11e9_a600_701ce71031efrow0_col4\" class=\"data row0 col4\" >7500</td> \n",
       "        <td id=\"T_5af0367a_b594_11e9_a600_701ce71031efrow0_col5\" class=\"data row0 col5\" >45000</td> \n",
       "        <td id=\"T_5af0367a_b594_11e9_a600_701ce71031efrow0_col6\" class=\"data row0 col6\" >32</td> \n",
       "        <td id=\"T_5af0367a_b594_11e9_a600_701ce71031efrow0_col7\" class=\"data row0 col7\" >0.02%</td> \n",
       "    </tr>    <tr> \n",
       "        <td id=\"T_5af0367a_b594_11e9_a600_701ce71031efrow1_col0\" class=\"data row1 col0\" >2</td> \n",
       "        <td id=\"T_5af0367a_b594_11e9_a600_701ce71031efrow1_col1\" class=\"data row1 col1\" >rust</td> \n",
       "        <td id=\"T_5af0367a_b594_11e9_a600_701ce71031efrow1_col2\" class=\"data row1 col2\" >26030</td> \n",
       "        <td id=\"T_5af0367a_b594_11e9_a600_701ce71031efrow1_col3\" class=\"data row1 col3\" >20000</td> \n",
       "        <td id=\"T_5af0367a_b594_11e9_a600_701ce71031efrow1_col4\" class=\"data row1 col4\" >8500</td> \n",
       "        <td id=\"T_5af0367a_b594_11e9_a600_701ce71031efrow1_col5\" class=\"data row1 col5\" >60000</td> \n",
       "        <td id=\"T_5af0367a_b594_11e9_a600_701ce71031efrow1_col6\" class=\"data row1 col6\" >140</td> \n",
       "        <td id=\"T_5af0367a_b594_11e9_a600_701ce71031efrow1_col7\" class=\"data row1 col7\" >0.09%</td> \n",
       "    </tr>    <tr> \n",
       "        <td id=\"T_5af0367a_b594_11e9_a600_701ce71031efrow2_col0\" class=\"data row2 col0\" >3</td> \n",
       "        <td id=\"T_5af0367a_b594_11e9_a600_701ce71031efrow2_col1\" class=\"data row2 col1\" >python</td> \n",
       "        <td id=\"T_5af0367a_b594_11e9_a600_701ce71031efrow2_col2\" class=\"data row2 col2\" >20748</td> \n",
       "        <td id=\"T_5af0367a_b594_11e9_a600_701ce71031efrow2_col3\" class=\"data row2 col3\" >18000</td> \n",
       "        <td id=\"T_5af0367a_b594_11e9_a600_701ce71031efrow2_col4\" class=\"data row2 col4\" >5000</td> \n",
       "        <td id=\"T_5af0367a_b594_11e9_a600_701ce71031efrow2_col5\" class=\"data row2 col5\" >45000</td> \n",
       "        <td id=\"T_5af0367a_b594_11e9_a600_701ce71031efrow2_col6\" class=\"data row2 col6\" >13901</td> \n",
       "        <td id=\"T_5af0367a_b594_11e9_a600_701ce71031efrow2_col7\" class=\"data row2 col7\" >8.95%</td> \n",
       "    </tr>    <tr> \n",
       "        <td id=\"T_5af0367a_b594_11e9_a600_701ce71031efrow3_col0\" class=\"data row3 col0\" >4</td> \n",
       "        <td id=\"T_5af0367a_b594_11e9_a600_701ce71031efrow3_col1\" class=\"data row3 col1\" >go</td> \n",
       "        <td id=\"T_5af0367a_b594_11e9_a600_701ce71031efrow3_col2\" class=\"data row3 col2\" >20254</td> \n",
       "        <td id=\"T_5af0367a_b594_11e9_a600_701ce71031efrow3_col3\" class=\"data row3 col3\" >17500</td> \n",
       "        <td id=\"T_5af0367a_b594_11e9_a600_701ce71031efrow3_col4\" class=\"data row3 col4\" >6500</td> \n",
       "        <td id=\"T_5af0367a_b594_11e9_a600_701ce71031efrow3_col5\" class=\"data row3 col5\" >45000</td> \n",
       "        <td id=\"T_5af0367a_b594_11e9_a600_701ce71031efrow3_col6\" class=\"data row3 col6\" >13499</td> \n",
       "        <td id=\"T_5af0367a_b594_11e9_a600_701ce71031efrow3_col7\" class=\"data row3 col7\" >8.69%</td> \n",
       "    </tr>    <tr> \n",
       "        <td id=\"T_5af0367a_b594_11e9_a600_701ce71031efrow4_col0\" class=\"data row4 col0\" >5</td> \n",
       "        <td id=\"T_5af0367a_b594_11e9_a600_701ce71031efrow4_col1\" class=\"data row4 col1\" >matlab</td> \n",
       "        <td id=\"T_5af0367a_b594_11e9_a600_701ce71031efrow4_col2\" class=\"data row4 col2\" >20058</td> \n",
       "        <td id=\"T_5af0367a_b594_11e9_a600_701ce71031efrow4_col3\" class=\"data row4 col3\" >18750</td> \n",
       "        <td id=\"T_5af0367a_b594_11e9_a600_701ce71031efrow4_col4\" class=\"data row4 col4\" >5833</td> \n",
       "        <td id=\"T_5af0367a_b594_11e9_a600_701ce71031efrow4_col5\" class=\"data row4 col5\" >40000</td> \n",
       "        <td id=\"T_5af0367a_b594_11e9_a600_701ce71031efrow4_col6\" class=\"data row4 col6\" >2300</td> \n",
       "        <td id=\"T_5af0367a_b594_11e9_a600_701ce71031efrow4_col7\" class=\"data row4 col7\" >1.48%</td> \n",
       "    </tr>    <tr> \n",
       "        <td id=\"T_5af0367a_b594_11e9_a600_701ce71031efrow5_col0\" class=\"data row5 col0\" >6</td> \n",
       "        <td id=\"T_5af0367a_b594_11e9_a600_701ce71031efrow5_col1\" class=\"data row5 col1\" >lua</td> \n",
       "        <td id=\"T_5af0367a_b594_11e9_a600_701ce71031efrow5_col2\" class=\"data row5 col2\" >19039</td> \n",
       "        <td id=\"T_5af0367a_b594_11e9_a600_701ce71031efrow5_col3\" class=\"data row5 col3\" >17500</td> \n",
       "        <td id=\"T_5af0367a_b594_11e9_a600_701ce71031efrow5_col4\" class=\"data row5 col4\" >4148</td> \n",
       "        <td id=\"T_5af0367a_b594_11e9_a600_701ce71031efrow5_col5\" class=\"data row5 col5\" >45000</td> \n",
       "        <td id=\"T_5af0367a_b594_11e9_a600_701ce71031efrow5_col6\" class=\"data row5 col6\" >1422</td> \n",
       "        <td id=\"T_5af0367a_b594_11e9_a600_701ce71031efrow5_col7\" class=\"data row5 col7\" >0.92%</td> \n",
       "    </tr>    <tr> \n",
       "        <td id=\"T_5af0367a_b594_11e9_a600_701ce71031efrow6_col0\" class=\"data row6 col0\" >7</td> \n",
       "        <td id=\"T_5af0367a_b594_11e9_a600_701ce71031efrow6_col1\" class=\"data row6 col1\" >kotlin</td> \n",
       "        <td id=\"T_5af0367a_b594_11e9_a600_701ce71031efrow6_col2\" class=\"data row6 col2\" >18784</td> \n",
       "        <td id=\"T_5af0367a_b594_11e9_a600_701ce71031efrow6_col3\" class=\"data row6 col3\" >17500</td> \n",
       "        <td id=\"T_5af0367a_b594_11e9_a600_701ce71031efrow6_col4\" class=\"data row6 col4\" >7000</td> \n",
       "        <td id=\"T_5af0367a_b594_11e9_a600_701ce71031efrow6_col5\" class=\"data row6 col5\" >60000</td> \n",
       "        <td id=\"T_5af0367a_b594_11e9_a600_701ce71031efrow6_col6\" class=\"data row6 col6\" >465</td> \n",
       "        <td id=\"T_5af0367a_b594_11e9_a600_701ce71031efrow6_col7\" class=\"data row6 col7\" >0.30%</td> \n",
       "    </tr>    <tr> \n",
       "        <td id=\"T_5af0367a_b594_11e9_a600_701ce71031efrow7_col0\" class=\"data row7 col0\" >8</td> \n",
       "        <td id=\"T_5af0367a_b594_11e9_a600_701ce71031efrow7_col1\" class=\"data row7 col1\" >perl</td> \n",
       "        <td id=\"T_5af0367a_b594_11e9_a600_701ce71031efrow7_col2\" class=\"data row7 col2\" >18423</td> \n",
       "        <td id=\"T_5af0367a_b594_11e9_a600_701ce71031efrow7_col3\" class=\"data row7 col3\" >16500</td> \n",
       "        <td id=\"T_5af0367a_b594_11e9_a600_701ce71031efrow7_col4\" class=\"data row7 col4\" >6500</td> \n",
       "        <td id=\"T_5af0367a_b594_11e9_a600_701ce71031efrow7_col5\" class=\"data row7 col5\" >45000</td> \n",
       "        <td id=\"T_5af0367a_b594_11e9_a600_701ce71031efrow7_col6\" class=\"data row7 col6\" >1354</td> \n",
       "        <td id=\"T_5af0367a_b594_11e9_a600_701ce71031efrow7_col7\" class=\"data row7 col7\" >0.87%</td> \n",
       "    </tr>    <tr> \n",
       "        <td id=\"T_5af0367a_b594_11e9_a600_701ce71031efrow8_col0\" class=\"data row8 col0\" >9</td> \n",
       "        <td id=\"T_5af0367a_b594_11e9_a600_701ce71031efrow8_col1\" class=\"data row8 col1\" >cpp</td> \n",
       "        <td id=\"T_5af0367a_b594_11e9_a600_701ce71031efrow8_col2\" class=\"data row8 col2\" >18167</td> \n",
       "        <td id=\"T_5af0367a_b594_11e9_a600_701ce71031efrow8_col3\" class=\"data row8 col3\" >16000</td> \n",
       "        <td id=\"T_5af0367a_b594_11e9_a600_701ce71031efrow8_col4\" class=\"data row8 col4\" >5000</td> \n",
       "        <td id=\"T_5af0367a_b594_11e9_a600_701ce71031efrow8_col5\" class=\"data row8 col5\" >40000</td> \n",
       "        <td id=\"T_5af0367a_b594_11e9_a600_701ce71031efrow8_col6\" class=\"data row8 col6\" >25676</td> \n",
       "        <td id=\"T_5af0367a_b594_11e9_a600_701ce71031efrow8_col7\" class=\"data row8 col7\" >16.53%</td> \n",
       "    </tr>    <tr> \n",
       "        <td id=\"T_5af0367a_b594_11e9_a600_701ce71031efrow9_col0\" class=\"data row9 col0\" >10</td> \n",
       "        <td id=\"T_5af0367a_b594_11e9_a600_701ce71031efrow9_col1\" class=\"data row9 col1\" >ruby</td> \n",
       "        <td id=\"T_5af0367a_b594_11e9_a600_701ce71031efrow9_col2\" class=\"data row9 col2\" >18016</td> \n",
       "        <td id=\"T_5af0367a_b594_11e9_a600_701ce71031efrow9_col3\" class=\"data row9 col3\" >17500</td> \n",
       "        <td id=\"T_5af0367a_b594_11e9_a600_701ce71031efrow9_col4\" class=\"data row9 col4\" >7000</td> \n",
       "        <td id=\"T_5af0367a_b594_11e9_a600_701ce71031efrow9_col5\" class=\"data row9 col5\" >35000</td> \n",
       "        <td id=\"T_5af0367a_b594_11e9_a600_701ce71031efrow9_col6\" class=\"data row9 col6\" >481</td> \n",
       "        <td id=\"T_5af0367a_b594_11e9_a600_701ce71031efrow9_col7\" class=\"data row9 col7\" >0.31%</td> \n",
       "    </tr>    <tr> \n",
       "        <td id=\"T_5af0367a_b594_11e9_a600_701ce71031efrow10_col0\" class=\"data row10 col0\" >11</td> \n",
       "        <td id=\"T_5af0367a_b594_11e9_a600_701ce71031efrow10_col1\" class=\"data row10 col1\" >swift</td> \n",
       "        <td id=\"T_5af0367a_b594_11e9_a600_701ce71031efrow10_col2\" class=\"data row10 col2\" >16634</td> \n",
       "        <td id=\"T_5af0367a_b594_11e9_a600_701ce71031efrow10_col3\" class=\"data row10 col3\" >14000</td> \n",
       "        <td id=\"T_5af0367a_b594_11e9_a600_701ce71031efrow10_col4\" class=\"data row10 col4\" >5250</td> \n",
       "        <td id=\"T_5af0367a_b594_11e9_a600_701ce71031efrow10_col5\" class=\"data row10 col5\" >37500</td> \n",
       "        <td id=\"T_5af0367a_b594_11e9_a600_701ce71031efrow10_col6\" class=\"data row10 col6\" >1381</td> \n",
       "        <td id=\"T_5af0367a_b594_11e9_a600_701ce71031efrow10_col7\" class=\"data row10 col7\" >0.89%</td> \n",
       "    </tr>    <tr> \n",
       "        <td id=\"T_5af0367a_b594_11e9_a600_701ce71031efrow11_col0\" class=\"data row11 col0\" >12</td> \n",
       "        <td id=\"T_5af0367a_b594_11e9_a600_701ce71031efrow11_col1\" class=\"data row11 col1\" >java</td> \n",
       "        <td id=\"T_5af0367a_b594_11e9_a600_701ce71031efrow11_col2\" class=\"data row11 col2\" >16008</td> \n",
       "        <td id=\"T_5af0367a_b594_11e9_a600_701ce71031efrow11_col3\" class=\"data row11 col3\" >14000</td> \n",
       "        <td id=\"T_5af0367a_b594_11e9_a600_701ce71031efrow11_col4\" class=\"data row11 col4\" >5000</td> \n",
       "        <td id=\"T_5af0367a_b594_11e9_a600_701ce71031efrow11_col5\" class=\"data row11 col5\" >37500</td> \n",
       "        <td id=\"T_5af0367a_b594_11e9_a600_701ce71031efrow11_col6\" class=\"data row11 col6\" >50193</td> \n",
       "        <td id=\"T_5af0367a_b594_11e9_a600_701ce71031efrow11_col7\" class=\"data row11 col7\" >32.31%</td> \n",
       "    </tr>    <tr> \n",
       "        <td id=\"T_5af0367a_b594_11e9_a600_701ce71031efrow12_col0\" class=\"data row12 col0\" >13</td> \n",
       "        <td id=\"T_5af0367a_b594_11e9_a600_701ce71031efrow12_col1\" class=\"data row12 col1\" >objective_c</td> \n",
       "        <td id=\"T_5af0367a_b594_11e9_a600_701ce71031efrow12_col2\" class=\"data row12 col2\" >15630</td> \n",
       "        <td id=\"T_5af0367a_b594_11e9_a600_701ce71031efrow12_col3\" class=\"data row12 col3\" >15000</td> \n",
       "        <td id=\"T_5af0367a_b594_11e9_a600_701ce71031efrow12_col4\" class=\"data row12 col4\" >9000</td> \n",
       "        <td id=\"T_5af0367a_b594_11e9_a600_701ce71031efrow12_col5\" class=\"data row12 col5\" >32562</td> \n",
       "        <td id=\"T_5af0367a_b594_11e9_a600_701ce71031efrow12_col6\" class=\"data row12 col6\" >179</td> \n",
       "        <td id=\"T_5af0367a_b594_11e9_a600_701ce71031efrow12_col7\" class=\"data row12 col7\" >0.12%</td> \n",
       "    </tr>    <tr> \n",
       "        <td id=\"T_5af0367a_b594_11e9_a600_701ce71031efrow13_col0\" class=\"data row13 col0\" >14</td> \n",
       "        <td id=\"T_5af0367a_b594_11e9_a600_701ce71031efrow13_col1\" class=\"data row13 col1\" >typescript</td> \n",
       "        <td id=\"T_5af0367a_b594_11e9_a600_701ce71031efrow13_col2\" class=\"data row13 col2\" >15580</td> \n",
       "        <td id=\"T_5af0367a_b594_11e9_a600_701ce71031efrow13_col3\" class=\"data row13 col3\" >15000</td> \n",
       "        <td id=\"T_5af0367a_b594_11e9_a600_701ce71031efrow13_col4\" class=\"data row13 col4\" >6572</td> \n",
       "        <td id=\"T_5af0367a_b594_11e9_a600_701ce71031efrow13_col5\" class=\"data row13 col5\" >30000</td> \n",
       "        <td id=\"T_5af0367a_b594_11e9_a600_701ce71031efrow13_col6\" class=\"data row13 col6\" >509</td> \n",
       "        <td id=\"T_5af0367a_b594_11e9_a600_701ce71031efrow13_col7\" class=\"data row13 col7\" >0.33%</td> \n",
       "    </tr>    <tr> \n",
       "        <td id=\"T_5af0367a_b594_11e9_a600_701ce71031efrow14_col0\" class=\"data row14 col0\" >15</td> \n",
       "        <td id=\"T_5af0367a_b594_11e9_a600_701ce71031efrow14_col1\" class=\"data row14 col1\" >php</td> \n",
       "        <td id=\"T_5af0367a_b594_11e9_a600_701ce71031efrow14_col2\" class=\"data row14 col2\" >15182</td> \n",
       "        <td id=\"T_5af0367a_b594_11e9_a600_701ce71031efrow14_col3\" class=\"data row14 col3\" >12500</td> \n",
       "        <td id=\"T_5af0367a_b594_11e9_a600_701ce71031efrow14_col4\" class=\"data row14 col4\" >4000</td> \n",
       "        <td id=\"T_5af0367a_b594_11e9_a600_701ce71031efrow14_col5\" class=\"data row14 col5\" >37500</td> \n",
       "        <td id=\"T_5af0367a_b594_11e9_a600_701ce71031efrow14_col6\" class=\"data row14 col6\" >7309</td> \n",
       "        <td id=\"T_5af0367a_b594_11e9_a600_701ce71031efrow14_col7\" class=\"data row14 col7\" >4.70%</td> \n",
       "    </tr>    <tr> \n",
       "        <td id=\"T_5af0367a_b594_11e9_a600_701ce71031efrow15_col0\" class=\"data row15 col0\" >16</td> \n",
       "        <td id=\"T_5af0367a_b594_11e9_a600_701ce71031efrow15_col1\" class=\"data row15 col1\" >delphi</td> \n",
       "        <td id=\"T_5af0367a_b594_11e9_a600_701ce71031efrow15_col2\" class=\"data row15 col2\" >13722</td> \n",
       "        <td id=\"T_5af0367a_b594_11e9_a600_701ce71031efrow15_col3\" class=\"data row15 col3\" >12500</td> \n",
       "        <td id=\"T_5af0367a_b594_11e9_a600_701ce71031efrow15_col4\" class=\"data row15 col4\" >4957</td> \n",
       "        <td id=\"T_5af0367a_b594_11e9_a600_701ce71031efrow15_col5\" class=\"data row15 col5\" >26893</td> \n",
       "        <td id=\"T_5af0367a_b594_11e9_a600_701ce71031efrow15_col6\" class=\"data row15 col6\" >374</td> \n",
       "        <td id=\"T_5af0367a_b594_11e9_a600_701ce71031efrow15_col7\" class=\"data row15 col7\" >0.24%</td> \n",
       "    </tr>    <tr> \n",
       "        <td id=\"T_5af0367a_b594_11e9_a600_701ce71031efrow16_col0\" class=\"data row16 col0\" >17</td> \n",
       "        <td id=\"T_5af0367a_b594_11e9_a600_701ce71031efrow16_col1\" class=\"data row16 col1\" >javascript</td> \n",
       "        <td id=\"T_5af0367a_b594_11e9_a600_701ce71031efrow16_col2\" class=\"data row16 col2\" >13491</td> \n",
       "        <td id=\"T_5af0367a_b594_11e9_a600_701ce71031efrow16_col3\" class=\"data row16 col3\" >12500</td> \n",
       "        <td id=\"T_5af0367a_b594_11e9_a600_701ce71031efrow16_col4\" class=\"data row16 col4\" >4000</td> \n",
       "        <td id=\"T_5af0367a_b594_11e9_a600_701ce71031efrow16_col5\" class=\"data row16 col5\" >27500</td> \n",
       "        <td id=\"T_5af0367a_b594_11e9_a600_701ce71031efrow16_col6\" class=\"data row16 col6\" >18920</td> \n",
       "        <td id=\"T_5af0367a_b594_11e9_a600_701ce71031efrow16_col7\" class=\"data row16 col7\" >12.18%</td> \n",
       "    </tr>    <tr> \n",
       "        <td id=\"T_5af0367a_b594_11e9_a600_701ce71031efrow17_col0\" class=\"data row17 col0\" >18</td> \n",
       "        <td id=\"T_5af0367a_b594_11e9_a600_701ce71031efrow17_col1\" class=\"data row17 col1\" >visual_basic</td> \n",
       "        <td id=\"T_5af0367a_b594_11e9_a600_701ce71031efrow17_col2\" class=\"data row17 col2\" >13222</td> \n",
       "        <td id=\"T_5af0367a_b594_11e9_a600_701ce71031efrow17_col3\" class=\"data row17 col3\" >12500</td> \n",
       "        <td id=\"T_5af0367a_b594_11e9_a600_701ce71031efrow17_col4\" class=\"data row17 col4\" >6250</td> \n",
       "        <td id=\"T_5af0367a_b594_11e9_a600_701ce71031efrow17_col5\" class=\"data row17 col5\" >22500</td> \n",
       "        <td id=\"T_5af0367a_b594_11e9_a600_701ce71031efrow17_col6\" class=\"data row17 col6\" >15</td> \n",
       "        <td id=\"T_5af0367a_b594_11e9_a600_701ce71031efrow17_col7\" class=\"data row17 col7\" >0.01%</td> \n",
       "    </tr>    <tr> \n",
       "        <td id=\"T_5af0367a_b594_11e9_a600_701ce71031efrow18_col0\" class=\"data row18 col0\" >19</td> \n",
       "        <td id=\"T_5af0367a_b594_11e9_a600_701ce71031efrow18_col1\" class=\"data row18 col1\" >c_sharp</td> \n",
       "        <td id=\"T_5af0367a_b594_11e9_a600_701ce71031efrow18_col2\" class=\"data row18 col2\" >12969</td> \n",
       "        <td id=\"T_5af0367a_b594_11e9_a600_701ce71031efrow18_col3\" class=\"data row18 col3\" >12500</td> \n",
       "        <td id=\"T_5af0367a_b594_11e9_a600_701ce71031efrow18_col4\" class=\"data row18 col4\" >3750</td> \n",
       "        <td id=\"T_5af0367a_b594_11e9_a600_701ce71031efrow18_col5\" class=\"data row18 col5\" >27500</td> \n",
       "        <td id=\"T_5af0367a_b594_11e9_a600_701ce71031efrow18_col6\" class=\"data row18 col6\" >17005</td> \n",
       "        <td id=\"T_5af0367a_b594_11e9_a600_701ce71031efrow18_col7\" class=\"data row18 col7\" >10.95%</td> \n",
       "    </tr>    <tr> \n",
       "        <td id=\"T_5af0367a_b594_11e9_a600_701ce71031efrow19_col0\" class=\"data row19 col0\" >20</td> \n",
       "        <td id=\"T_5af0367a_b594_11e9_a600_701ce71031efrow19_col1\" class=\"data row19 col1\" >vba</td> \n",
       "        <td id=\"T_5af0367a_b594_11e9_a600_701ce71031efrow19_col2\" class=\"data row19 col2\" >11820</td> \n",
       "        <td id=\"T_5af0367a_b594_11e9_a600_701ce71031efrow19_col3\" class=\"data row19 col3\" >11083</td> \n",
       "        <td id=\"T_5af0367a_b594_11e9_a600_701ce71031efrow19_col4\" class=\"data row19 col4\" >3750</td> \n",
       "        <td id=\"T_5af0367a_b594_11e9_a600_701ce71031efrow19_col5\" class=\"data row19 col5\" >22350</td> \n",
       "        <td id=\"T_5af0367a_b594_11e9_a600_701ce71031efrow19_col6\" class=\"data row19 col6\" >212</td> \n",
       "        <td id=\"T_5af0367a_b594_11e9_a600_701ce71031efrow19_col7\" class=\"data row19 col7\" >0.14%</td> \n",
       "    </tr></tbody> \n",
       "</table> "
      ],
      "text/plain": [
       "<pandas.io.formats.style.Styler at 0x25950911a20>"
      ]
     },
     "execution_count": 32,
     "metadata": {},
     "output_type": "execute_result"
    }
   ],
   "source": [
    "data_pl=get_sub_stats_by_prefix(data,'pl_')\n",
    "apply_style(data_pl)"
   ]
  },
  {
   "cell_type": "code",
   "execution_count": null,
   "metadata": {},
   "outputs": [],
   "source": []
  },
  {
   "cell_type": "markdown",
   "metadata": {},
   "source": [
    "数据显示，haskell才是最赚钱的编程语言。python是主流语言里面最赚钱的，比java的工资多了3000元！vb是最不赚钱的了。其中，最赚钱的编程语言和最不赚钱的，工资居然差了2倍。所以，要选好编程语言呀！"
   ]
  },
  {
   "cell_type": "markdown",
   "metadata": {},
   "source": [
    "# 教育"
   ]
  },
  {
   "cell_type": "code",
   "execution_count": 33,
   "metadata": {},
   "outputs": [],
   "source": [
    "edu_counts=data[~(data.edu=='')].groupby(by=['edu']).headcount.sum()"
   ]
  },
  {
   "cell_type": "code",
   "execution_count": 34,
   "metadata": {},
   "outputs": [
    {
     "data": {
      "text/plain": [
       "edu\n",
       "初中及以下       11\n",
       "博士         190\n",
       "大专       28521\n",
       "本科       61886\n",
       "硕士        3177\n",
       "高中         198\n",
       "Name: headcount, dtype: int64"
      ]
     },
     "execution_count": 34,
     "metadata": {},
     "output_type": "execute_result"
    }
   ],
   "source": [
    "edu_counts"
   ]
  },
  {
   "cell_type": "code",
   "execution_count": 35,
   "metadata": {},
   "outputs": [
    {
     "data": {
      "text/plain": [
       "([<matplotlib.patches.Wedge at 0x259508467f0>,\n",
       "  <matplotlib.patches.Wedge at 0x25950846f60>,\n",
       "  <matplotlib.patches.Wedge at 0x2595084f6a0>,\n",
       "  <matplotlib.patches.Wedge at 0x2595084fda0>,\n",
       "  <matplotlib.patches.Wedge at 0x259508594e0>,\n",
       "  <matplotlib.patches.Wedge at 0x25950859be0>],\n",
       " [Text(1.0999999256383202, 0.00040446964095588734, '初中及以下'),\n",
       "  Text(1.099972379361427, 0.007795167859677323, '博士'),\n",
       "  Text(0.6247152494981386, 0.9053898922809326, '大专'),\n",
       "  Text(-0.7282263790623942, -0.8244309193848047, '本科'),\n",
       "  Text(1.0921636340642316, -0.13106714472975942, '硕士'),\n",
       "  Text(1.099975905696498, -0.007280582886643015, '高中')],\n",
       " [Text(0.5999999594390836, 0.0002206198041577567, '0.0%'),\n",
       "  Text(0.599984934197142, 0.0042519097416421755, '0.2%'),\n",
       "  Text(0.3407537724535301, 0.4938490321532359, '30.3%'),\n",
       "  Text(-0.3972143885794877, -0.44968959239171163, '65.8%'),\n",
       "  Text(0.5957256185804899, -0.07149116985259604, '3.4%'),\n",
       "  Text(0.5999868576526352, -0.003971227029078007, '0.2%')])"
      ]
     },
     "execution_count": 35,
     "metadata": {},
     "output_type": "execute_result"
    },
    {
     "data": {
      "image/png": "[encoded data removed]",
      "text/plain": [
       "<Figure size 720x576 with 1 Axes>"
      ]
     },
     "metadata": {},
     "output_type": "display_data"
    }
   ],
   "source": [
    "plt.figure(figsize=(10,8))\n",
    "plt.pie(edu_counts.values, labels=edu_counts.index, autopct='%1.1f%%')"
   ]
  },
  {
   "cell_type": "code",
   "execution_count": 36,
   "metadata": {},
   "outputs": [
    {
     "data": {
      "text/html": [
       "<style  type=\"text/css\" >\n",
       "</style>  \n",
       "<table id=\"T_5b26a02e_b594_11e9_a0ea_701ce71031ef\" > \n",
       "<thead>    <tr> \n",
       "        <th class=\"col_heading level0 col0\" >edu</th> \n",
       "        <th class=\"col_heading level0 col1\" >salary_mean</th> \n",
       "        <th class=\"col_heading level0 col2\" >salary_95_min</th> \n",
       "        <th class=\"col_heading level0 col3\" >salary_median</th> \n",
       "        <th class=\"col_heading level0 col4\" >salary_95_max</th> \n",
       "        <th class=\"col_heading level0 col5\" >head_count</th> \n",
       "        <th class=\"col_heading level0 col6\" >percentage</th> \n",
       "    </tr></thead> \n",
       "<tbody>    <tr> \n",
       "        <td id=\"T_5b26a02e_b594_11e9_a0ea_701ce71031efrow0_col0\" class=\"data row0 col0\" >博士</td> \n",
       "        <td id=\"T_5b26a02e_b594_11e9_a0ea_701ce71031efrow0_col1\" class=\"data row0 col1\" >29743</td> \n",
       "        <td id=\"T_5b26a02e_b594_11e9_a0ea_701ce71031efrow0_col2\" class=\"data row0 col2\" >13250</td> \n",
       "        <td id=\"T_5b26a02e_b594_11e9_a0ea_701ce71031efrow0_col3\" class=\"data row0 col3\" >29000</td> \n",
       "        <td id=\"T_5b26a02e_b594_11e9_a0ea_701ce71031efrow0_col4\" class=\"data row0 col4\" >55000</td> \n",
       "        <td id=\"T_5b26a02e_b594_11e9_a0ea_701ce71031efrow0_col5\" class=\"data row0 col5\" >190</td> \n",
       "        <td id=\"T_5b26a02e_b594_11e9_a0ea_701ce71031efrow0_col6\" class=\"data row0 col6\" >0.20%</td> \n",
       "    </tr>    <tr> \n",
       "        <td id=\"T_5b26a02e_b594_11e9_a0ea_701ce71031efrow1_col0\" class=\"data row1 col0\" >硕士</td> \n",
       "        <td id=\"T_5b26a02e_b594_11e9_a0ea_701ce71031efrow1_col1\" class=\"data row1 col1\" >22212</td> \n",
       "        <td id=\"T_5b26a02e_b594_11e9_a0ea_701ce71031efrow1_col2\" class=\"data row1 col2\" >4296</td> \n",
       "        <td id=\"T_5b26a02e_b594_11e9_a0ea_701ce71031efrow1_col3\" class=\"data row1 col3\" >22500</td> \n",
       "        <td id=\"T_5b26a02e_b594_11e9_a0ea_701ce71031efrow1_col4\" class=\"data row1 col4\" >45000</td> \n",
       "        <td id=\"T_5b26a02e_b594_11e9_a0ea_701ce71031efrow1_col5\" class=\"data row1 col5\" >3177</td> \n",
       "        <td id=\"T_5b26a02e_b594_11e9_a0ea_701ce71031efrow1_col6\" class=\"data row1 col6\" >3.38%</td> \n",
       "    </tr>    <tr> \n",
       "        <td id=\"T_5b26a02e_b594_11e9_a0ea_701ce71031efrow2_col0\" class=\"data row2 col0\" >本科</td> \n",
       "        <td id=\"T_5b26a02e_b594_11e9_a0ea_701ce71031efrow2_col1\" class=\"data row2 col1\" >17259</td> \n",
       "        <td id=\"T_5b26a02e_b594_11e9_a0ea_701ce71031efrow2_col2\" class=\"data row2 col2\" >5250</td> \n",
       "        <td id=\"T_5b26a02e_b594_11e9_a0ea_701ce71031efrow2_col3\" class=\"data row2 col3\" >15000</td> \n",
       "        <td id=\"T_5b26a02e_b594_11e9_a0ea_701ce71031efrow2_col4\" class=\"data row2 col4\" >37500</td> \n",
       "        <td id=\"T_5b26a02e_b594_11e9_a0ea_701ce71031efrow2_col5\" class=\"data row2 col5\" >61886</td> \n",
       "        <td id=\"T_5b26a02e_b594_11e9_a0ea_701ce71031efrow2_col6\" class=\"data row2 col6\" >65.85%</td> \n",
       "    </tr>    <tr> \n",
       "        <td id=\"T_5b26a02e_b594_11e9_a0ea_701ce71031efrow3_col0\" class=\"data row3 col0\" >初中及以下</td> \n",
       "        <td id=\"T_5b26a02e_b594_11e9_a0ea_701ce71031efrow3_col1\" class=\"data row3 col1\" >15182</td> \n",
       "        <td id=\"T_5b26a02e_b594_11e9_a0ea_701ce71031efrow3_col2\" class=\"data row3 col2\" >10000</td> \n",
       "        <td id=\"T_5b26a02e_b594_11e9_a0ea_701ce71031efrow3_col3\" class=\"data row3 col3\" >12500</td> \n",
       "        <td id=\"T_5b26a02e_b594_11e9_a0ea_701ce71031efrow3_col4\" class=\"data row3 col4\" >30000</td> \n",
       "        <td id=\"T_5b26a02e_b594_11e9_a0ea_701ce71031efrow3_col5\" class=\"data row3 col5\" >11</td> \n",
       "        <td id=\"T_5b26a02e_b594_11e9_a0ea_701ce71031efrow3_col6\" class=\"data row3 col6\" >0.01%</td> \n",
       "    </tr>    <tr> \n",
       "        <td id=\"T_5b26a02e_b594_11e9_a0ea_701ce71031efrow4_col0\" class=\"data row4 col0\" >大专</td> \n",
       "        <td id=\"T_5b26a02e_b594_11e9_a0ea_701ce71031efrow4_col1\" class=\"data row4 col1\" >12936</td> \n",
       "        <td id=\"T_5b26a02e_b594_11e9_a0ea_701ce71031efrow4_col2\" class=\"data row4 col2\" >3991</td> \n",
       "        <td id=\"T_5b26a02e_b594_11e9_a0ea_701ce71031efrow4_col3\" class=\"data row4 col3\" >12500</td> \n",
       "        <td id=\"T_5b26a02e_b594_11e9_a0ea_701ce71031efrow4_col4\" class=\"data row4 col4\" >28827</td> \n",
       "        <td id=\"T_5b26a02e_b594_11e9_a0ea_701ce71031efrow4_col5\" class=\"data row4 col5\" >28521</td> \n",
       "        <td id=\"T_5b26a02e_b594_11e9_a0ea_701ce71031efrow4_col6\" class=\"data row4 col6\" >30.35%</td> \n",
       "    </tr>    <tr> \n",
       "        <td id=\"T_5b26a02e_b594_11e9_a0ea_701ce71031efrow5_col0\" class=\"data row5 col0\" >高中</td> \n",
       "        <td id=\"T_5b26a02e_b594_11e9_a0ea_701ce71031efrow5_col1\" class=\"data row5 col1\" >8779</td> \n",
       "        <td id=\"T_5b26a02e_b594_11e9_a0ea_701ce71031efrow5_col2\" class=\"data row5 col2\" >2500</td> \n",
       "        <td id=\"T_5b26a02e_b594_11e9_a0ea_701ce71031efrow5_col3\" class=\"data row5 col3\" >7000</td> \n",
       "        <td id=\"T_5b26a02e_b594_11e9_a0ea_701ce71031efrow5_col4\" class=\"data row5 col4\" >42750</td> \n",
       "        <td id=\"T_5b26a02e_b594_11e9_a0ea_701ce71031efrow5_col5\" class=\"data row5 col5\" >198</td> \n",
       "        <td id=\"T_5b26a02e_b594_11e9_a0ea_701ce71031efrow5_col6\" class=\"data row5 col6\" >0.21%</td> \n",
       "    </tr></tbody> \n",
       "</table> "
      ],
      "text/plain": [
       "<pandas.io.formats.style.Styler at 0x25950863358>"
      ]
     },
     "execution_count": 36,
     "metadata": {},
     "output_type": "execute_result"
    }
   ],
   "source": [
    "data_edu=get_sub_stats_by_col(data[data.edu.isin(['初中及以下','高中','大专','本科','硕士','博士'])], 'edu')\n",
    "apply_style(data_edu)"
   ]
  },
  {
   "cell_type": "code",
   "execution_count": 37,
   "metadata": {},
   "outputs": [],
   "source": [
    "salary_associate=data[data.edu=='大专'].monthly_salary\n",
    "salary_bachelor=data[data.edu=='本科'].monthly_salary\n",
    "salary_master=data[data.edu=='硕士'].monthly_salary\n",
    "salary_phd=data[data.edu=='博士'].monthly_salary"
   ]
  },
  {
   "cell_type": "code",
   "execution_count": null,
   "metadata": {},
   "outputs": [],
   "source": []
  },
  {
   "cell_type": "code",
   "execution_count": 38,
   "metadata": {},
   "outputs": [
    {
     "name": "stdout",
     "output_type": "stream",
     "text": [
      "大专，本科，硕士，博士的平均工资分别是13394，17444，22576，31661。中位数分别是12500， 15000，22500， 30000。\n"
     ]
    }
   ],
   "source": [
    "print('大专，本科，硕士，博士的平均工资分别是{:.0f}，{:.0f}，{:.0f}，{:.0f}。中位数分别是{:.0f}， {:.0f}，{:.0f}， {:.0f}。'.format(\n",
    "    salary_associate.mean(),salary_bachelor.mean(),salary_master.mean(),salary_phd.mean(),\n",
    "    salary_associate.median(),salary_bachelor.median(),salary_master.median(),salary_phd.median()))"
   ]
  },
  {
   "cell_type": "code",
   "execution_count": 39,
   "metadata": {},
   "outputs": [
    {
     "data": {
      "text/plain": [
       "F_onewayResult(statistic=46.38986196167798, pvalue=1.549471437046093e-11)"
      ]
     },
     "execution_count": 39,
     "metadata": {},
     "output_type": "execute_result"
    }
   ],
   "source": [
    "stats.f_oneway(salary_phd, salary_master)"
   ]
  },
  {
   "cell_type": "code",
   "execution_count": 40,
   "metadata": {},
   "outputs": [
    {
     "data": {
      "text/plain": [
       "F_onewayResult(statistic=375.4828846528517, pvalue=6.060510555302293e-83)"
      ]
     },
     "execution_count": 40,
     "metadata": {},
     "output_type": "execute_result"
    }
   ],
   "source": [
    "stats.f_oneway(salary_master, salary_bachelor)"
   ]
  },
  {
   "cell_type": "code",
   "execution_count": 41,
   "metadata": {},
   "outputs": [
    {
     "data": {
      "text/plain": [
       "F_onewayResult(statistic=1710.092290649731, pvalue=0.0)"
      ]
     },
     "execution_count": 41,
     "metadata": {},
     "output_type": "execute_result"
    }
   ],
   "source": [
    "stats.f_oneway(salary_bachelor, salary_associate)"
   ]
  },
  {
   "cell_type": "markdown",
   "metadata": {},
   "source": [
    "经过Oneway Anova Test，证明从大专到博士，学历每提高一级，工资都有显著的提高。"
   ]
  },
  {
   "cell_type": "code",
   "execution_count": 42,
   "metadata": {},
   "outputs": [
    {
     "data": {
      "image/png": "[encoded data removed]",
      "text/plain": [
       "<Figure size 432x288 with 1 Axes>"
      ]
     },
     "metadata": {
      "needs_background": "light"
     },
     "output_type": "display_data"
    }
   ],
   "source": [
    "\n",
    "order=['大专','本科','硕士','博士']\n",
    "a=sns.boxplot(y='edu',x='monthly_salary',order=order,data=data[data.edu.isin(order)], orient='h')\n",
    "plt.annotate('https://github.com/juwikuang/job_survey', xy=(0.5,1.5), xytext=(2, 1.55))\n",
    "plt.show()"
   ]
  },
  {
   "cell_type": "markdown",
   "metadata": {},
   "source": [
    "# 工作经验 Working Experience"
   ]
  },
  {
   "cell_type": "code",
   "execution_count": 43,
   "metadata": {},
   "outputs": [
    {
     "data": {
      "text/html": [
       "<style  type=\"text/css\" >\n",
       "</style>  \n",
       "<table id=\"T_5b6a2c68_b594_11e9_b8fa_701ce71031ef\" > \n",
       "<thead>    <tr> \n",
       "        <th class=\"col_heading level0 col0\" >experience</th> \n",
       "        <th class=\"col_heading level0 col1\" >salary_mean</th> \n",
       "        <th class=\"col_heading level0 col2\" >salary_95_min</th> \n",
       "        <th class=\"col_heading level0 col3\" >salary_median</th> \n",
       "        <th class=\"col_heading level0 col4\" >salary_95_max</th> \n",
       "        <th class=\"col_heading level0 col5\" >head_count</th> \n",
       "        <th class=\"col_heading level0 col6\" >percentage</th> \n",
       "    </tr></thead> \n",
       "<tbody>    <tr> \n",
       "        <td id=\"T_5b6a2c68_b594_11e9_b8fa_701ce71031efrow0_col0\" class=\"data row0 col0\" >10+</td> \n",
       "        <td id=\"T_5b6a2c68_b594_11e9_b8fa_701ce71031efrow0_col1\" class=\"data row0 col1\" >29868</td> \n",
       "        <td id=\"T_5b6a2c68_b594_11e9_b8fa_701ce71031efrow0_col2\" class=\"data row0 col2\" >9000</td> \n",
       "        <td id=\"T_5b6a2c68_b594_11e9_b8fa_701ce71031efrow0_col3\" class=\"data row0 col3\" >27500</td> \n",
       "        <td id=\"T_5b6a2c68_b594_11e9_b8fa_701ce71031efrow0_col4\" class=\"data row0 col4\" >59812</td> \n",
       "        <td id=\"T_5b6a2c68_b594_11e9_b8fa_701ce71031efrow0_col5\" class=\"data row0 col5\" >309</td> \n",
       "        <td id=\"T_5b6a2c68_b594_11e9_b8fa_701ce71031efrow0_col6\" class=\"data row0 col6\" >0.28%</td> \n",
       "    </tr>    <tr> \n",
       "        <td id=\"T_5b6a2c68_b594_11e9_b8fa_701ce71031efrow1_col0\" class=\"data row1 col0\" >5_10</td> \n",
       "        <td id=\"T_5b6a2c68_b594_11e9_b8fa_701ce71031efrow1_col1\" class=\"data row1 col1\" >22881</td> \n",
       "        <td id=\"T_5b6a2c68_b594_11e9_b8fa_701ce71031efrow1_col2\" class=\"data row1 col2\" >11500</td> \n",
       "        <td id=\"T_5b6a2c68_b594_11e9_b8fa_701ce71031efrow1_col3\" class=\"data row1 col3\" >20833</td> \n",
       "        <td id=\"T_5b6a2c68_b594_11e9_b8fa_701ce71031efrow1_col4\" class=\"data row1 col4\" >45833</td> \n",
       "        <td id=\"T_5b6a2c68_b594_11e9_b8fa_701ce71031efrow1_col5\" class=\"data row1 col5\" >15005</td> \n",
       "        <td id=\"T_5b6a2c68_b594_11e9_b8fa_701ce71031efrow1_col6\" class=\"data row1 col6\" >13.56%</td> \n",
       "    </tr>    <tr> \n",
       "        <td id=\"T_5b6a2c68_b594_11e9_b8fa_701ce71031efrow2_col0\" class=\"data row2 col0\" >3_5</td> \n",
       "        <td id=\"T_5b6a2c68_b594_11e9_b8fa_701ce71031efrow2_col1\" class=\"data row2 col1\" >17663</td> \n",
       "        <td id=\"T_5b6a2c68_b594_11e9_b8fa_701ce71031efrow2_col2\" class=\"data row2 col2\" >9000</td> \n",
       "        <td id=\"T_5b6a2c68_b594_11e9_b8fa_701ce71031efrow2_col3\" class=\"data row2 col3\" >15000</td> \n",
       "        <td id=\"T_5b6a2c68_b594_11e9_b8fa_701ce71031efrow2_col4\" class=\"data row2 col4\" >37500</td> \n",
       "        <td id=\"T_5b6a2c68_b594_11e9_b8fa_701ce71031efrow2_col5\" class=\"data row2 col5\" >34902</td> \n",
       "        <td id=\"T_5b6a2c68_b594_11e9_b8fa_701ce71031efrow2_col6\" class=\"data row2 col6\" >31.55%</td> \n",
       "    </tr>    <tr> \n",
       "        <td id=\"T_5b6a2c68_b594_11e9_b8fa_701ce71031efrow3_col0\" class=\"data row3 col0\" >no</td> \n",
       "        <td id=\"T_5b6a2c68_b594_11e9_b8fa_701ce71031efrow3_col1\" class=\"data row3 col1\" >13789</td> \n",
       "        <td id=\"T_5b6a2c68_b594_11e9_b8fa_701ce71031efrow3_col2\" class=\"data row3 col2\" >3000</td> \n",
       "        <td id=\"T_5b6a2c68_b594_11e9_b8fa_701ce71031efrow3_col3\" class=\"data row3 col3\" >12500</td> \n",
       "        <td id=\"T_5b6a2c68_b594_11e9_b8fa_701ce71031efrow3_col4\" class=\"data row3 col4\" >35000</td> \n",
       "        <td id=\"T_5b6a2c68_b594_11e9_b8fa_701ce71031efrow3_col5\" class=\"data row3 col5\" >30042</td> \n",
       "        <td id=\"T_5b6a2c68_b594_11e9_b8fa_701ce71031efrow3_col6\" class=\"data row3 col6\" >27.16%</td> \n",
       "    </tr>    <tr> \n",
       "        <td id=\"T_5b6a2c68_b594_11e9_b8fa_701ce71031efrow4_col0\" class=\"data row4 col0\" >1_3</td> \n",
       "        <td id=\"T_5b6a2c68_b594_11e9_b8fa_701ce71031efrow4_col1\" class=\"data row4 col1\" >13146</td> \n",
       "        <td id=\"T_5b6a2c68_b594_11e9_b8fa_701ce71031efrow4_col2\" class=\"data row4 col2\" >5250</td> \n",
       "        <td id=\"T_5b6a2c68_b594_11e9_b8fa_701ce71031efrow4_col3\" class=\"data row4 col3\" >12000</td> \n",
       "        <td id=\"T_5b6a2c68_b594_11e9_b8fa_701ce71031efrow4_col4\" class=\"data row4 col4\" >30000</td> \n",
       "        <td id=\"T_5b6a2c68_b594_11e9_b8fa_701ce71031efrow4_col5\" class=\"data row4 col5\" >30363</td> \n",
       "        <td id=\"T_5b6a2c68_b594_11e9_b8fa_701ce71031efrow4_col6\" class=\"data row4 col6\" >27.45%</td> \n",
       "    </tr></tbody> \n",
       "</table> "
      ],
      "text/plain": [
       "<pandas.io.formats.style.Styler at 0x2595091b908>"
      ]
     },
     "execution_count": 43,
     "metadata": {},
     "output_type": "execute_result"
    }
   ],
   "source": [
    "data_experience=get_sub_stats_by_col(data, 'experience')\n",
    "apply_style(data_experience)"
   ]
  },
  {
   "cell_type": "code",
   "execution_count": 44,
   "metadata": {},
   "outputs": [],
   "source": [
    "salary_we_10=data[data.experience=='10+'].monthly_salary\n",
    "salary_we_5_10=data[data.experience=='5_10'].monthly_salary\n",
    "salary_we_3_5=data[data.experience=='3_5'].monthly_salary\n",
    "salary_we_1_3=data[data.experience=='1_3'].monthly_salary\n",
    "salary_we_no=data[data.experience=='no'].monthly_salary"
   ]
  },
  {
   "cell_type": "code",
   "execution_count": 45,
   "metadata": {},
   "outputs": [
    {
     "data": {
      "image/png": "[encoded data removed]",
      "text/plain": [
       "<Figure size 432x288 with 1 Axes>"
      ]
     },
     "metadata": {
      "needs_background": "light"
     },
     "output_type": "display_data"
    }
   ],
   "source": [
    "\n",
    "order=['10+','5_10','3_5','1_3']\n",
    "sns.boxplot(y='experience',x='monthly_salary',order=order,data=data[data.experience.isin(order)], orient='h')\n",
    "plt.annotate('https://github.com/juwikuang/job_survey', xy=(1.5,1.5), xytext=(1.55, 1.55))\n",
    "plt.show()"
   ]
  },
  {
   "cell_type": "markdown",
   "metadata": {},
   "source": [
    "# 公司 Company"
   ]
  },
  {
   "cell_type": "markdown",
   "metadata": {},
   "source": [
    "## 公司性质 Company Type"
   ]
  },
  {
   "cell_type": "code",
   "execution_count": 46,
   "metadata": {},
   "outputs": [
    {
     "data": {
      "text/html": [
       "<style  type=\"text/css\" >\n",
       "</style>  \n",
       "<table id=\"T_5ba5b666_b594_11e9_b9d4_701ce71031ef\" > \n",
       "<thead>    <tr> \n",
       "        <th class=\"col_heading level0 col0\" >company_type</th> \n",
       "        <th class=\"col_heading level0 col1\" >salary_mean</th> \n",
       "        <th class=\"col_heading level0 col2\" >salary_95_min</th> \n",
       "        <th class=\"col_heading level0 col3\" >salary_median</th> \n",
       "        <th class=\"col_heading level0 col4\" >salary_95_max</th> \n",
       "        <th class=\"col_heading level0 col5\" >head_count</th> \n",
       "        <th class=\"col_heading level0 col6\" >percentage</th> \n",
       "    </tr></thead> \n",
       "<tbody>    <tr> \n",
       "        <td id=\"T_5ba5b666_b594_11e9_b9d4_701ce71031efrow0_col0\" class=\"data row0 col0\" >事业单位</td> \n",
       "        <td id=\"T_5ba5b666_b594_11e9_b9d4_701ce71031efrow0_col1\" class=\"data row0 col1\" >22858</td> \n",
       "        <td id=\"T_5ba5b666_b594_11e9_b9d4_701ce71031efrow0_col2\" class=\"data row0 col2\" >3696</td> \n",
       "        <td id=\"T_5ba5b666_b594_11e9_b9d4_701ce71031efrow0_col3\" class=\"data row0 col3\" >17708</td> \n",
       "        <td id=\"T_5ba5b666_b594_11e9_b9d4_701ce71031efrow0_col4\" class=\"data row0 col4\" >60000</td> \n",
       "        <td id=\"T_5ba5b666_b594_11e9_b9d4_701ce71031efrow0_col5\" class=\"data row0 col5\" >994</td> \n",
       "        <td id=\"T_5ba5b666_b594_11e9_b9d4_701ce71031efrow0_col6\" class=\"data row0 col6\" >0.90%</td> \n",
       "    </tr>    <tr> \n",
       "        <td id=\"T_5ba5b666_b594_11e9_b9d4_701ce71031efrow1_col0\" class=\"data row1 col0\" >外资（欧美）</td> \n",
       "        <td id=\"T_5ba5b666_b594_11e9_b9d4_701ce71031efrow1_col1\" class=\"data row1 col1\" >18563</td> \n",
       "        <td id=\"T_5ba5b666_b594_11e9_b9d4_701ce71031efrow1_col2\" class=\"data row1 col2\" >5250</td> \n",
       "        <td id=\"T_5ba5b666_b594_11e9_b9d4_701ce71031efrow1_col3\" class=\"data row1 col3\" >17500</td> \n",
       "        <td id=\"T_5ba5b666_b594_11e9_b9d4_701ce71031efrow1_col4\" class=\"data row1 col4\" >41666</td> \n",
       "        <td id=\"T_5ba5b666_b594_11e9_b9d4_701ce71031efrow1_col5\" class=\"data row1 col5\" >5344</td> \n",
       "        <td id=\"T_5ba5b666_b594_11e9_b9d4_701ce71031efrow1_col6\" class=\"data row1 col6\" >4.83%</td> \n",
       "    </tr>    <tr> \n",
       "        <td id=\"T_5ba5b666_b594_11e9_b9d4_701ce71031efrow2_col0\" class=\"data row2 col0\" >外企代表处</td> \n",
       "        <td id=\"T_5ba5b666_b594_11e9_b9d4_701ce71031efrow2_col1\" class=\"data row2 col1\" >16527</td> \n",
       "        <td id=\"T_5ba5b666_b594_11e9_b9d4_701ce71031efrow2_col2\" class=\"data row2 col2\" >3259</td> \n",
       "        <td id=\"T_5ba5b666_b594_11e9_b9d4_701ce71031efrow2_col3\" class=\"data row2 col3\" >12500</td> \n",
       "        <td id=\"T_5ba5b666_b594_11e9_b9d4_701ce71031efrow2_col4\" class=\"data row2 col4\" >48673</td> \n",
       "        <td id=\"T_5ba5b666_b594_11e9_b9d4_701ce71031efrow2_col5\" class=\"data row2 col5\" >83</td> \n",
       "        <td id=\"T_5ba5b666_b594_11e9_b9d4_701ce71031efrow2_col6\" class=\"data row2 col6\" >0.08%</td> \n",
       "    </tr>    <tr> \n",
       "        <td id=\"T_5ba5b666_b594_11e9_b9d4_701ce71031efrow3_col0\" class=\"data row3 col0\" >民营公司</td> \n",
       "        <td id=\"T_5ba5b666_b594_11e9_b9d4_701ce71031efrow3_col1\" class=\"data row3 col1\" >15973</td> \n",
       "        <td id=\"T_5ba5b666_b594_11e9_b9d4_701ce71031efrow3_col2\" class=\"data row3 col2\" >4500</td> \n",
       "        <td id=\"T_5ba5b666_b594_11e9_b9d4_701ce71031efrow3_col3\" class=\"data row3 col3\" >14000</td> \n",
       "        <td id=\"T_5ba5b666_b594_11e9_b9d4_701ce71031efrow3_col4\" class=\"data row3 col4\" >37500</td> \n",
       "        <td id=\"T_5ba5b666_b594_11e9_b9d4_701ce71031efrow3_col5\" class=\"data row3 col5\" >81150</td> \n",
       "        <td id=\"T_5ba5b666_b594_11e9_b9d4_701ce71031efrow3_col6\" class=\"data row3 col6\" >73.36%</td> \n",
       "    </tr>    <tr> \n",
       "        <td id=\"T_5ba5b666_b594_11e9_b9d4_701ce71031efrow4_col0\" class=\"data row4 col0\" >合资</td> \n",
       "        <td id=\"T_5ba5b666_b594_11e9_b9d4_701ce71031efrow4_col1\" class=\"data row4 col1\" >15945</td> \n",
       "        <td id=\"T_5ba5b666_b594_11e9_b9d4_701ce71031efrow4_col2\" class=\"data row4 col2\" >5750</td> \n",
       "        <td id=\"T_5ba5b666_b594_11e9_b9d4_701ce71031efrow4_col3\" class=\"data row4 col3\" >14000</td> \n",
       "        <td id=\"T_5ba5b666_b594_11e9_b9d4_701ce71031efrow4_col4\" class=\"data row4 col4\" >37500</td> \n",
       "        <td id=\"T_5ba5b666_b594_11e9_b9d4_701ce71031efrow4_col5\" class=\"data row4 col5\" >10788</td> \n",
       "        <td id=\"T_5ba5b666_b594_11e9_b9d4_701ce71031efrow4_col6\" class=\"data row4 col6\" >9.75%</td> \n",
       "    </tr>    <tr> \n",
       "        <td id=\"T_5ba5b666_b594_11e9_b9d4_701ce71031efrow5_col0\" class=\"data row5 col0\" >外资（非欧美）</td> \n",
       "        <td id=\"T_5ba5b666_b594_11e9_b9d4_701ce71031efrow5_col1\" class=\"data row5 col1\" >15887</td> \n",
       "        <td id=\"T_5ba5b666_b594_11e9_b9d4_701ce71031efrow5_col2\" class=\"data row5 col2\" >6000</td> \n",
       "        <td id=\"T_5ba5b666_b594_11e9_b9d4_701ce71031efrow5_col3\" class=\"data row5 col3\" >14000</td> \n",
       "        <td id=\"T_5ba5b666_b594_11e9_b9d4_701ce71031efrow5_col4\" class=\"data row5 col4\" >35000</td> \n",
       "        <td id=\"T_5ba5b666_b594_11e9_b9d4_701ce71031efrow5_col5\" class=\"data row5 col5\" >6296</td> \n",
       "        <td id=\"T_5ba5b666_b594_11e9_b9d4_701ce71031efrow5_col6\" class=\"data row5 col6\" >5.69%</td> \n",
       "    </tr>    <tr> \n",
       "        <td id=\"T_5ba5b666_b594_11e9_b9d4_701ce71031efrow6_col0\" class=\"data row6 col0\" >国企</td> \n",
       "        <td id=\"T_5ba5b666_b594_11e9_b9d4_701ce71031efrow6_col1\" class=\"data row6 col1\" >15289</td> \n",
       "        <td id=\"T_5ba5b666_b594_11e9_b9d4_701ce71031efrow6_col2\" class=\"data row6 col2\" >3729</td> \n",
       "        <td id=\"T_5ba5b666_b594_11e9_b9d4_701ce71031efrow6_col3\" class=\"data row6 col3\" >14000</td> \n",
       "        <td id=\"T_5ba5b666_b594_11e9_b9d4_701ce71031efrow6_col4\" class=\"data row6 col4\" >30000</td> \n",
       "        <td id=\"T_5ba5b666_b594_11e9_b9d4_701ce71031efrow6_col5\" class=\"data row6 col5\" >5895</td> \n",
       "        <td id=\"T_5ba5b666_b594_11e9_b9d4_701ce71031efrow6_col6\" class=\"data row6 col6\" >5.33%</td> \n",
       "    </tr>    <tr> \n",
       "        <td id=\"T_5ba5b666_b594_11e9_b9d4_701ce71031efrow7_col0\" class=\"data row7 col0\" >非营利组织</td> \n",
       "        <td id=\"T_5ba5b666_b594_11e9_b9d4_701ce71031efrow7_col1\" class=\"data row7 col1\" >10554</td> \n",
       "        <td id=\"T_5ba5b666_b594_11e9_b9d4_701ce71031efrow7_col2\" class=\"data row7 col2\" >6000</td> \n",
       "        <td id=\"T_5ba5b666_b594_11e9_b9d4_701ce71031efrow7_col3\" class=\"data row7 col3\" >10250</td> \n",
       "        <td id=\"T_5ba5b666_b594_11e9_b9d4_701ce71031efrow7_col4\" class=\"data row7 col4\" >16812</td> \n",
       "        <td id=\"T_5ba5b666_b594_11e9_b9d4_701ce71031efrow7_col5\" class=\"data row7 col5\" >71</td> \n",
       "        <td id=\"T_5ba5b666_b594_11e9_b9d4_701ce71031efrow7_col6\" class=\"data row7 col6\" >0.06%</td> \n",
       "    </tr></tbody> \n",
       "</table> "
      ],
      "text/plain": [
       "<pandas.io.formats.style.Styler at 0x25950a6fb70>"
      ]
     },
     "execution_count": 46,
     "metadata": {},
     "output_type": "execute_result"
    }
   ],
   "source": [
    "data_company_type=get_sub_stats_by_col(data,'company_type')\n",
    "apply_style(data_company_type)"
   ]
  },
  {
   "cell_type": "markdown",
   "metadata": {},
   "source": [
    "us_eu是欧美外企，startup是创业公司，listed是上市公司，state是国企，private是私企，foreign是非欧美外企，其他不足1000个样本的不管了。"
   ]
  },
  {
   "cell_type": "markdown",
   "metadata": {},
   "source": [
    "## 公司规模 Company Size"
   ]
  },
  {
   "cell_type": "code",
   "execution_count": 47,
   "metadata": {},
   "outputs": [
    {
     "data": {
      "text/html": [
       "<style  type=\"text/css\" >\n",
       "</style>  \n",
       "<table id=\"T_5bb8edbe_b594_11e9_9c73_701ce71031ef\" > \n",
       "<thead>    <tr> \n",
       "        <th class=\"col_heading level0 col0\" >company_size</th> \n",
       "        <th class=\"col_heading level0 col1\" >salary_mean</th> \n",
       "        <th class=\"col_heading level0 col2\" >salary_95_min</th> \n",
       "        <th class=\"col_heading level0 col3\" >salary_median</th> \n",
       "        <th class=\"col_heading level0 col4\" >salary_95_max</th> \n",
       "        <th class=\"col_heading level0 col5\" >head_count</th> \n",
       "        <th class=\"col_heading level0 col6\" >percentage</th> \n",
       "    </tr></thead> \n",
       "<tbody>    <tr> \n",
       "        <td id=\"T_5bb8edbe_b594_11e9_9c73_701ce71031efrow0_col0\" class=\"data row0 col0\" >10000+</td> \n",
       "        <td id=\"T_5bb8edbe_b594_11e9_9c73_701ce71031efrow0_col1\" class=\"data row0 col1\" >24268</td> \n",
       "        <td id=\"T_5bb8edbe_b594_11e9_9c73_701ce71031efrow0_col2\" class=\"data row0 col2\" >5250</td> \n",
       "        <td id=\"T_5bb8edbe_b594_11e9_9c73_701ce71031efrow0_col3\" class=\"data row0 col3\" >22500</td> \n",
       "        <td id=\"T_5bb8edbe_b594_11e9_9c73_701ce71031efrow0_col4\" class=\"data row0 col4\" >52500</td> \n",
       "        <td id=\"T_5bb8edbe_b594_11e9_9c73_701ce71031efrow0_col5\" class=\"data row0 col5\" >7279</td> \n",
       "        <td id=\"T_5bb8edbe_b594_11e9_9c73_701ce71031efrow0_col6\" class=\"data row0 col6\" >6.58%</td> \n",
       "    </tr>    <tr> \n",
       "        <td id=\"T_5bb8edbe_b594_11e9_9c73_701ce71031efrow1_col0\" class=\"data row1 col0\" >5000-10000</td> \n",
       "        <td id=\"T_5bb8edbe_b594_11e9_9c73_701ce71031efrow1_col1\" class=\"data row1 col1\" >19402</td> \n",
       "        <td id=\"T_5bb8edbe_b594_11e9_9c73_701ce71031efrow1_col2\" class=\"data row1 col2\" >7000</td> \n",
       "        <td id=\"T_5bb8edbe_b594_11e9_9c73_701ce71031efrow1_col3\" class=\"data row1 col3\" >16500</td> \n",
       "        <td id=\"T_5bb8edbe_b594_11e9_9c73_701ce71031efrow1_col4\" class=\"data row1 col4\" >49725</td> \n",
       "        <td id=\"T_5bb8edbe_b594_11e9_9c73_701ce71031efrow1_col5\" class=\"data row1 col5\" >2531</td> \n",
       "        <td id=\"T_5bb8edbe_b594_11e9_9c73_701ce71031efrow1_col6\" class=\"data row1 col6\" >2.29%</td> \n",
       "    </tr>    <tr> \n",
       "        <td id=\"T_5bb8edbe_b594_11e9_9c73_701ce71031efrow2_col0\" class=\"data row2 col0\" >1000-5000</td> \n",
       "        <td id=\"T_5bb8edbe_b594_11e9_9c73_701ce71031efrow2_col1\" class=\"data row2 col1\" >17055</td> \n",
       "        <td id=\"T_5bb8edbe_b594_11e9_9c73_701ce71031efrow2_col2\" class=\"data row2 col2\" >5250</td> \n",
       "        <td id=\"T_5bb8edbe_b594_11e9_9c73_701ce71031efrow2_col3\" class=\"data row2 col3\" >15000</td> \n",
       "        <td id=\"T_5bb8edbe_b594_11e9_9c73_701ce71031efrow2_col4\" class=\"data row2 col4\" >37500</td> \n",
       "        <td id=\"T_5bb8edbe_b594_11e9_9c73_701ce71031efrow2_col5\" class=\"data row2 col5\" >13449</td> \n",
       "        <td id=\"T_5bb8edbe_b594_11e9_9c73_701ce71031efrow2_col6\" class=\"data row2 col6\" >12.16%</td> \n",
       "    </tr>    <tr> \n",
       "        <td id=\"T_5bb8edbe_b594_11e9_9c73_701ce71031efrow3_col0\" class=\"data row3 col0\" >500-1000</td> \n",
       "        <td id=\"T_5bb8edbe_b594_11e9_9c73_701ce71031efrow3_col1\" class=\"data row3 col1\" >16692</td> \n",
       "        <td id=\"T_5bb8edbe_b594_11e9_9c73_701ce71031efrow3_col2\" class=\"data row3 col2\" >6500</td> \n",
       "        <td id=\"T_5bb8edbe_b594_11e9_9c73_701ce71031efrow3_col3\" class=\"data row3 col3\" >15000</td> \n",
       "        <td id=\"T_5bb8edbe_b594_11e9_9c73_701ce71031efrow3_col4\" class=\"data row3 col4\" >35000</td> \n",
       "        <td id=\"T_5bb8edbe_b594_11e9_9c73_701ce71031efrow3_col5\" class=\"data row3 col5\" >11476</td> \n",
       "        <td id=\"T_5bb8edbe_b594_11e9_9c73_701ce71031efrow3_col6\" class=\"data row3 col6\" >10.37%</td> \n",
       "    </tr>    <tr> \n",
       "        <td id=\"T_5bb8edbe_b594_11e9_9c73_701ce71031efrow4_col0\" class=\"data row4 col0\" >150-500</td> \n",
       "        <td id=\"T_5bb8edbe_b594_11e9_9c73_701ce71031efrow4_col1\" class=\"data row4 col1\" >15736</td> \n",
       "        <td id=\"T_5bb8edbe_b594_11e9_9c73_701ce71031efrow4_col2\" class=\"data row4 col2\" >5250</td> \n",
       "        <td id=\"T_5bb8edbe_b594_11e9_9c73_701ce71031efrow4_col3\" class=\"data row4 col3\" >14000</td> \n",
       "        <td id=\"T_5bb8edbe_b594_11e9_9c73_701ce71031efrow4_col4\" class=\"data row4 col4\" >35000</td> \n",
       "        <td id=\"T_5bb8edbe_b594_11e9_9c73_701ce71031efrow4_col5\" class=\"data row4 col5\" >26398</td> \n",
       "        <td id=\"T_5bb8edbe_b594_11e9_9c73_701ce71031efrow4_col6\" class=\"data row4 col6\" >23.86%</td> \n",
       "    </tr>    <tr> \n",
       "        <td id=\"T_5bb8edbe_b594_11e9_9c73_701ce71031efrow5_col0\" class=\"data row5 col0\" >50-150</td> \n",
       "        <td id=\"T_5bb8edbe_b594_11e9_9c73_701ce71031efrow5_col1\" class=\"data row5 col1\" >15019</td> \n",
       "        <td id=\"T_5bb8edbe_b594_11e9_9c73_701ce71031efrow5_col2\" class=\"data row5 col2\" >4000</td> \n",
       "        <td id=\"T_5bb8edbe_b594_11e9_9c73_701ce71031efrow5_col3\" class=\"data row5 col3\" >12500</td> \n",
       "        <td id=\"T_5bb8edbe_b594_11e9_9c73_701ce71031efrow5_col4\" class=\"data row5 col4\" >35000</td> \n",
       "        <td id=\"T_5bb8edbe_b594_11e9_9c73_701ce71031efrow5_col5\" class=\"data row5 col5\" >33408</td> \n",
       "        <td id=\"T_5bb8edbe_b594_11e9_9c73_701ce71031efrow5_col6\" class=\"data row5 col6\" >30.20%</td> \n",
       "    </tr>    <tr> \n",
       "        <td id=\"T_5bb8edbe_b594_11e9_9c73_701ce71031efrow6_col0\" class=\"data row6 col0\" >50-</td> \n",
       "        <td id=\"T_5bb8edbe_b594_11e9_9c73_701ce71031efrow6_col1\" class=\"data row6 col1\" >13641</td> \n",
       "        <td id=\"T_5bb8edbe_b594_11e9_9c73_701ce71031efrow6_col2\" class=\"data row6 col2\" >3750</td> \n",
       "        <td id=\"T_5bb8edbe_b594_11e9_9c73_701ce71031efrow6_col3\" class=\"data row6 col3\" >12500</td> \n",
       "        <td id=\"T_5bb8edbe_b594_11e9_9c73_701ce71031efrow6_col4\" class=\"data row6 col4\" >30000</td> \n",
       "        <td id=\"T_5bb8edbe_b594_11e9_9c73_701ce71031efrow6_col5\" class=\"data row6 col5\" >15194</td> \n",
       "        <td id=\"T_5bb8edbe_b594_11e9_9c73_701ce71031efrow6_col6\" class=\"data row6 col6\" >13.74%</td> \n",
       "    </tr>    <tr> \n",
       "        <td id=\"T_5bb8edbe_b594_11e9_9c73_701ce71031efrow7_col0\" class=\"data row7 col0\" ></td> \n",
       "        <td id=\"T_5bb8edbe_b594_11e9_9c73_701ce71031efrow7_col1\" class=\"data row7 col1\" >12807</td> \n",
       "        <td id=\"T_5bb8edbe_b594_11e9_9c73_701ce71031efrow7_col2\" class=\"data row7 col2\" >7000</td> \n",
       "        <td id=\"T_5bb8edbe_b594_11e9_9c73_701ce71031efrow7_col3\" class=\"data row7 col3\" >11500</td> \n",
       "        <td id=\"T_5bb8edbe_b594_11e9_9c73_701ce71031efrow7_col4\" class=\"data row7 col4\" >30000</td> \n",
       "        <td id=\"T_5bb8edbe_b594_11e9_9c73_701ce71031efrow7_col5\" class=\"data row7 col5\" >886</td> \n",
       "        <td id=\"T_5bb8edbe_b594_11e9_9c73_701ce71031efrow7_col6\" class=\"data row7 col6\" >0.80%</td> \n",
       "    </tr></tbody> \n",
       "</table> "
      ],
      "text/plain": [
       "<pandas.io.formats.style.Styler at 0x25950b01eb8>"
      ]
     },
     "execution_count": 47,
     "metadata": {},
     "output_type": "execute_result"
    }
   ],
   "source": [
    "data_company_size=get_sub_stats_by_col(data,'company_size')\n",
    "apply_style(data_company_size)"
   ]
  },
  {
   "cell_type": "markdown",
   "metadata": {},
   "source": [
    "公司越大，工资越高"
   ]
  },
  {
   "cell_type": "markdown",
   "metadata": {},
   "source": [
    "## 行业 Industry"
   ]
  },
  {
   "cell_type": "code",
   "execution_count": 48,
   "metadata": {},
   "outputs": [
    {
     "data": {
      "text/html": [
       "<style  type=\"text/css\" >\n",
       "</style>  \n",
       "<table id=\"T_5bd0fb66_b594_11e9_9f4f_701ce71031ef\" > \n",
       "<thead>    <tr> \n",
       "        <th class=\"col_heading level0 col0\" >industry</th> \n",
       "        <th class=\"col_heading level0 col1\" >salary_mean</th> \n",
       "        <th class=\"col_heading level0 col2\" >salary_95_min</th> \n",
       "        <th class=\"col_heading level0 col3\" >salary_median</th> \n",
       "        <th class=\"col_heading level0 col4\" >salary_95_max</th> \n",
       "        <th class=\"col_heading level0 col5\" >head_count</th> \n",
       "        <th class=\"col_heading level0 col6\" >percentage</th> \n",
       "    </tr></thead> \n",
       "<tbody>    <tr> \n",
       "        <td id=\"T_5bd0fb66_b594_11e9_9f4f_701ce71031efrow0_col0\" class=\"data row0 col0\" >finance</td> \n",
       "        <td id=\"T_5bd0fb66_b594_11e9_9f4f_701ce71031efrow0_col1\" class=\"data row0 col1\" >17248</td> \n",
       "        <td id=\"T_5bd0fb66_b594_11e9_9f4f_701ce71031efrow0_col2\" class=\"data row0 col2\" >4500</td> \n",
       "        <td id=\"T_5bd0fb66_b594_11e9_9f4f_701ce71031efrow0_col3\" class=\"data row0 col3\" >17500</td> \n",
       "        <td id=\"T_5bd0fb66_b594_11e9_9f4f_701ce71031efrow0_col4\" class=\"data row0 col4\" >32729</td> \n",
       "        <td id=\"T_5bd0fb66_b594_11e9_9f4f_701ce71031efrow0_col5\" class=\"data row0 col5\" >3649</td> \n",
       "        <td id=\"T_5bd0fb66_b594_11e9_9f4f_701ce71031efrow0_col6\" class=\"data row0 col6\" >3.30%</td> \n",
       "    </tr>    <tr> \n",
       "        <td id=\"T_5bd0fb66_b594_11e9_9f4f_701ce71031efrow1_col0\" class=\"data row1 col0\" >service</td> \n",
       "        <td id=\"T_5bd0fb66_b594_11e9_9f4f_701ce71031efrow1_col1\" class=\"data row1 col1\" >16448</td> \n",
       "        <td id=\"T_5bd0fb66_b594_11e9_9f4f_701ce71031efrow1_col2\" class=\"data row1 col2\" >4991</td> \n",
       "        <td id=\"T_5bd0fb66_b594_11e9_9f4f_701ce71031efrow1_col3\" class=\"data row1 col3\" >15000</td> \n",
       "        <td id=\"T_5bd0fb66_b594_11e9_9f4f_701ce71031efrow1_col4\" class=\"data row1 col4\" >40000</td> \n",
       "        <td id=\"T_5bd0fb66_b594_11e9_9f4f_701ce71031efrow1_col5\" class=\"data row1 col5\" >937</td> \n",
       "        <td id=\"T_5bd0fb66_b594_11e9_9f4f_701ce71031efrow1_col6\" class=\"data row1 col6\" >0.85%</td> \n",
       "    </tr>    <tr> \n",
       "        <td id=\"T_5bd0fb66_b594_11e9_9f4f_701ce71031efrow2_col0\" class=\"data row2 col0\" >computer</td> \n",
       "        <td id=\"T_5bd0fb66_b594_11e9_9f4f_701ce71031efrow2_col1\" class=\"data row2 col1\" >16245</td> \n",
       "        <td id=\"T_5bd0fb66_b594_11e9_9f4f_701ce71031efrow2_col2\" class=\"data row2 col2\" >4500</td> \n",
       "        <td id=\"T_5bd0fb66_b594_11e9_9f4f_701ce71031efrow2_col3\" class=\"data row2 col3\" >14000</td> \n",
       "        <td id=\"T_5bd0fb66_b594_11e9_9f4f_701ce71031efrow2_col4\" class=\"data row2 col4\" >37500</td> \n",
       "        <td id=\"T_5bd0fb66_b594_11e9_9f4f_701ce71031efrow2_col5\" class=\"data row2 col5\" >84125</td> \n",
       "        <td id=\"T_5bd0fb66_b594_11e9_9f4f_701ce71031efrow2_col6\" class=\"data row2 col6\" >76.05%</td> \n",
       "    </tr>    <tr> \n",
       "        <td id=\"T_5bd0fb66_b594_11e9_9f4f_701ce71031efrow3_col0\" class=\"data row3 col0\" >edu</td> \n",
       "        <td id=\"T_5bd0fb66_b594_11e9_9f4f_701ce71031efrow3_col1\" class=\"data row3 col1\" >16129</td> \n",
       "        <td id=\"T_5bd0fb66_b594_11e9_9f4f_701ce71031efrow3_col2\" class=\"data row3 col2\" >5250</td> \n",
       "        <td id=\"T_5bd0fb66_b594_11e9_9f4f_701ce71031efrow3_col3\" class=\"data row3 col3\" >13500</td> \n",
       "        <td id=\"T_5bd0fb66_b594_11e9_9f4f_701ce71031efrow3_col4\" class=\"data row3 col4\" >37500</td> \n",
       "        <td id=\"T_5bd0fb66_b594_11e9_9f4f_701ce71031efrow3_col5\" class=\"data row3 col5\" >6731</td> \n",
       "        <td id=\"T_5bd0fb66_b594_11e9_9f4f_701ce71031efrow3_col6\" class=\"data row3 col6\" >6.08%</td> \n",
       "    </tr>    <tr> \n",
       "        <td id=\"T_5bd0fb66_b594_11e9_9f4f_701ce71031efrow4_col0\" class=\"data row4 col0\" >logistic</td> \n",
       "        <td id=\"T_5bd0fb66_b594_11e9_9f4f_701ce71031efrow4_col1\" class=\"data row4 col1\" >15848</td> \n",
       "        <td id=\"T_5bd0fb66_b594_11e9_9f4f_701ce71031efrow4_col2\" class=\"data row4 col2\" >5250</td> \n",
       "        <td id=\"T_5bd0fb66_b594_11e9_9f4f_701ce71031efrow4_col3\" class=\"data row4 col3\" >13500</td> \n",
       "        <td id=\"T_5bd0fb66_b594_11e9_9f4f_701ce71031efrow4_col4\" class=\"data row4 col4\" >35000</td> \n",
       "        <td id=\"T_5bd0fb66_b594_11e9_9f4f_701ce71031efrow4_col5\" class=\"data row4 col5\" >1316</td> \n",
       "        <td id=\"T_5bd0fb66_b594_11e9_9f4f_701ce71031efrow4_col6\" class=\"data row4 col6\" >1.19%</td> \n",
       "    </tr>    <tr> \n",
       "        <td id=\"T_5bd0fb66_b594_11e9_9f4f_701ce71031efrow5_col0\" class=\"data row5 col0\" >trade</td> \n",
       "        <td id=\"T_5bd0fb66_b594_11e9_9f4f_701ce71031efrow5_col1\" class=\"data row5 col1\" >15658</td> \n",
       "        <td id=\"T_5bd0fb66_b594_11e9_9f4f_701ce71031efrow5_col2\" class=\"data row5 col2\" >5250</td> \n",
       "        <td id=\"T_5bd0fb66_b594_11e9_9f4f_701ce71031efrow5_col3\" class=\"data row5 col3\" >14000</td> \n",
       "        <td id=\"T_5bd0fb66_b594_11e9_9f4f_701ce71031efrow5_col4\" class=\"data row5 col4\" >35000</td> \n",
       "        <td id=\"T_5bd0fb66_b594_11e9_9f4f_701ce71031efrow5_col5\" class=\"data row5 col5\" >6528</td> \n",
       "        <td id=\"T_5bd0fb66_b594_11e9_9f4f_701ce71031efrow5_col6\" class=\"data row5 col6\" >5.90%</td> \n",
       "    </tr>    <tr> \n",
       "        <td id=\"T_5bd0fb66_b594_11e9_9f4f_701ce71031efrow6_col0\" class=\"data row6 col0\" >energy</td> \n",
       "        <td id=\"T_5bd0fb66_b594_11e9_9f4f_701ce71031efrow6_col1\" class=\"data row6 col1\" >14882</td> \n",
       "        <td id=\"T_5bd0fb66_b594_11e9_9f4f_701ce71031efrow6_col2\" class=\"data row6 col2\" >3750</td> \n",
       "        <td id=\"T_5bd0fb66_b594_11e9_9f4f_701ce71031efrow6_col3\" class=\"data row6 col3\" >13500</td> \n",
       "        <td id=\"T_5bd0fb66_b594_11e9_9f4f_701ce71031efrow6_col4\" class=\"data row6 col4\" >28082</td> \n",
       "        <td id=\"T_5bd0fb66_b594_11e9_9f4f_701ce71031efrow6_col5\" class=\"data row6 col5\" >1033</td> \n",
       "        <td id=\"T_5bd0fb66_b594_11e9_9f4f_701ce71031efrow6_col6\" class=\"data row6 col6\" >0.93%</td> \n",
       "    </tr>    <tr> \n",
       "        <td id=\"T_5bd0fb66_b594_11e9_9f4f_701ce71031efrow7_col0\" class=\"data row7 col0\" >ads</td> \n",
       "        <td id=\"T_5bd0fb66_b594_11e9_9f4f_701ce71031efrow7_col1\" class=\"data row7 col1\" >14768</td> \n",
       "        <td id=\"T_5bd0fb66_b594_11e9_9f4f_701ce71031efrow7_col2\" class=\"data row7 col2\" >5000</td> \n",
       "        <td id=\"T_5bd0fb66_b594_11e9_9f4f_701ce71031efrow7_col3\" class=\"data row7 col3\" >12500</td> \n",
       "        <td id=\"T_5bd0fb66_b594_11e9_9f4f_701ce71031efrow7_col4\" class=\"data row7 col4\" >35000</td> \n",
       "        <td id=\"T_5bd0fb66_b594_11e9_9f4f_701ce71031efrow7_col5\" class=\"data row7 col5\" >1399</td> \n",
       "        <td id=\"T_5bd0fb66_b594_11e9_9f4f_701ce71031efrow7_col6\" class=\"data row7 col6\" >1.26%</td> \n",
       "    </tr>    <tr> \n",
       "        <td id=\"T_5bd0fb66_b594_11e9_9f4f_701ce71031efrow8_col0\" class=\"data row8 col0\" >medical</td> \n",
       "        <td id=\"T_5bd0fb66_b594_11e9_9f4f_701ce71031efrow8_col1\" class=\"data row8 col1\" >14336</td> \n",
       "        <td id=\"T_5bd0fb66_b594_11e9_9f4f_701ce71031efrow8_col2\" class=\"data row8 col2\" >3500</td> \n",
       "        <td id=\"T_5bd0fb66_b594_11e9_9f4f_701ce71031efrow8_col3\" class=\"data row8 col3\" >13000</td> \n",
       "        <td id=\"T_5bd0fb66_b594_11e9_9f4f_701ce71031efrow8_col4\" class=\"data row8 col4\" >29819</td> \n",
       "        <td id=\"T_5bd0fb66_b594_11e9_9f4f_701ce71031efrow8_col5\" class=\"data row8 col5\" >2213</td> \n",
       "        <td id=\"T_5bd0fb66_b594_11e9_9f4f_701ce71031efrow8_col6\" class=\"data row8 col6\" >2.00%</td> \n",
       "    </tr>    <tr> \n",
       "        <td id=\"T_5bd0fb66_b594_11e9_9f4f_701ce71031efrow9_col0\" class=\"data row9 col0\" >realestate</td> \n",
       "        <td id=\"T_5bd0fb66_b594_11e9_9f4f_701ce71031efrow9_col1\" class=\"data row9 col1\" >14218</td> \n",
       "        <td id=\"T_5bd0fb66_b594_11e9_9f4f_701ce71031efrow9_col2\" class=\"data row9 col2\" >4735</td> \n",
       "        <td id=\"T_5bd0fb66_b594_11e9_9f4f_701ce71031efrow9_col3\" class=\"data row9 col3\" >12500</td> \n",
       "        <td id=\"T_5bd0fb66_b594_11e9_9f4f_701ce71031efrow9_col4\" class=\"data row9 col4\" >28500</td> \n",
       "        <td id=\"T_5bd0fb66_b594_11e9_9f4f_701ce71031efrow9_col5\" class=\"data row9 col5\" >1474</td> \n",
       "        <td id=\"T_5bd0fb66_b594_11e9_9f4f_701ce71031efrow9_col6\" class=\"data row9 col6\" >1.33%</td> \n",
       "    </tr>    <tr> \n",
       "        <td id=\"T_5bd0fb66_b594_11e9_9f4f_701ce71031efrow10_col0\" class=\"data row10 col0\" >gov</td> \n",
       "        <td id=\"T_5bd0fb66_b594_11e9_9f4f_701ce71031efrow10_col1\" class=\"data row10 col1\" >14068</td> \n",
       "        <td id=\"T_5bd0fb66_b594_11e9_9f4f_701ce71031efrow10_col2\" class=\"data row10 col2\" >2500</td> \n",
       "        <td id=\"T_5bd0fb66_b594_11e9_9f4f_701ce71031efrow10_col3\" class=\"data row10 col3\" >12500</td> \n",
       "        <td id=\"T_5bd0fb66_b594_11e9_9f4f_701ce71031efrow10_col4\" class=\"data row10 col4\" >29166</td> \n",
       "        <td id=\"T_5bd0fb66_b594_11e9_9f4f_701ce71031efrow10_col5\" class=\"data row10 col5\" >1216</td> \n",
       "        <td id=\"T_5bd0fb66_b594_11e9_9f4f_701ce71031efrow10_col6\" class=\"data row10 col6\" >1.10%</td> \n",
       "    </tr></tbody> \n",
       "</table> "
      ],
      "text/plain": [
       "<pandas.io.formats.style.Styler at 0x25950a6f7b8>"
      ]
     },
     "execution_count": 48,
     "metadata": {},
     "output_type": "execute_result"
    }
   ],
   "source": [
    "data_industry=get_sub_stats_by_col(data,'industry')\n",
    "apply_style(data_industry)"
   ]
  },
  {
   "cell_type": "code",
   "execution_count": null,
   "metadata": {},
   "outputs": [],
   "source": []
  },
  {
   "cell_type": "code",
   "execution_count": null,
   "metadata": {},
   "outputs": [],
   "source": []
  }
 ],
 "metadata": {
  "kernelspec": {
   "display_name": "Python 3",
   "language": "python",
   "name": "python3"
  },
  "language_info": {
   "codemirror_mode": {
    "name": "ipython",
    "version": 3
   },
   "file_extension": ".py",
   "mimetype": "text/x-python",
   "name": "python",
   "nbconvert_exporter": "python",
   "pygments_lexer": "ipython3",
   "version": "3.7.1"
  }
 },
 "nbformat": 4,
 "nbformat_minor": 2
}
