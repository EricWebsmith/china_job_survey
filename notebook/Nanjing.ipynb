{
 "cells": [
  {
   "cell_type": "code",
   "execution_count": 1,
   "metadata": {},
   "outputs": [],
   "source": [
    "city='Nanjing'\n",
    "city_cn='南京'"
   ]
  },
  {
   "cell_type": "code",
   "execution_count": null,
   "metadata": {},
   "outputs": [],
   "source": []
  },
  {
   "cell_type": "markdown",
   "metadata": {},
   "source": [
    "# Developer Salary in Nanjing 南京程序员工资调查\n",
    "我在4月1日到3日之间，抓取了某招聘网站的软件和互联网类招聘数据40万条，其中通过程序判断为程序员的14万条。地域方面，我选择了24个主要城市。不过本文只以一线城市为研究对象。这样是为了和我2017年6月的数据做对比。\n",
    "\n",
    "提到2017年的文章，现在居然还有很多人，把这篇文章拿出来炒作。对于社会来说，可气的是，他们直接把2017改成2019，就发表了，这不是骗人么？！对于我来说，可气的是，他们转载居然还冒充是原创，是可忍熟不可忍！"
   ]
  },
  {
   "cell_type": "code",
   "execution_count": 2,
   "metadata": {},
   "outputs": [],
   "source": [
    "import pandas as pd\n",
    "import sys\n",
    "sys.path.append('..')\n",
    "import db\n",
    "import inspect\n",
    "import matplotlib.pyplot as plt\n",
    "import seaborn as sns\n",
    "import scipy.stats as stats\n",
    "import numpy as np\n",
    "%matplotlib inline"
   ]
  },
  {
   "cell_type": "code",
   "execution_count": 3,
   "metadata": {},
   "outputs": [],
   "source": [
    "conn=db.get_conn()\n",
    "data_original=pd.read_sql(sql=\"select * from _51jobs where monthly_salary>0 and monthly_salary<15 and city_{}=1\".format(city), con=conn)\n",
    "conn.close()"
   ]
  },
  {
   "cell_type": "code",
   "execution_count": 4,
   "metadata": {},
   "outputs": [],
   "source": [
    "error_job_ids=['104660258','104142922','108434795','101357291','106253516','110368302','111391233','108665401','109277048'\n",
    "                  ,'73857191','108584955','102824950','102824949','111391233','110884556']\n",
    "data=data_original[~data_original.job_id.isin(error_job_ids)]"
   ]
  },
  {
   "cell_type": "code",
   "execution_count": 5,
   "metadata": {},
   "outputs": [],
   "source": [
    "del data['publish_date']\n",
    "del data['published_on_weekend']\n",
    "del data['title']\n",
    "del data['company_title']\n",
    "del data['company_description']\n",
    "del data['job_description']\n",
    "del data['job_id']"
   ]
  },
  {
   "cell_type": "markdown",
   "metadata": {},
   "source": [
    "# Unilateral Stats 总体统计"
   ]
  },
  {
   "cell_type": "markdown",
   "metadata": {},
   "source": [
    "有数据可知，程序员向一线城市集中的趋势非常明显。\n",
    "\n",
    "According to the statistics, significant amount of developers are in the first tier cities."
   ]
  },
  {
   "cell_type": "code",
   "execution_count": 6,
   "metadata": {},
   "outputs": [
    {
     "name": "stdout",
     "output_type": "stream",
     "text": [
      "2019年南京程序员的平均工资为12874元，工资中位数为12500元，其中95%的人的工资位于3750到27500元之间。\n"
     ]
    }
   ],
   "source": [
    "salary_mean=data.monthly_salary.mean()*10000\n",
    "salary_median=data.monthly_salary.median()*10000\n",
    "q=np.quantile(data.monthly_salary,[0.025,0.975])*10000\n",
    "print('2019年{}程序员的平均工资为{:.0f}元，工资中位数为{:.0f}元，其中95%的人的工资位于{:.0f}到{:.0f}元之间。'\n",
    "      .format(city_cn,salary_mean, salary_median, q[0], q[1]))"
   ]
  },
  {
   "cell_type": "code",
   "execution_count": 7,
   "metadata": {},
   "outputs": [
    {
     "name": "stdout",
     "output_type": "stream",
     "text": [
      "In 2019, Developers in Nanjing earn 12874 Yuan as average, the median is 12500 Yuan, 95% of them earn between 3750 and 27500 Yuan.\n"
     ]
    }
   ],
   "source": [
    "print('In 2019, Developers in {} earn {:.0f} Yuan as average, '\n",
    "      'the median is {:.0f} Yuan, 95% of them earn between {:.0f} and {:.0f} Yuan.'\n",
    "      .format(city,salary_mean, salary_median, q[0], q[1]))"
   ]
  },
  {
   "cell_type": "code",
   "execution_count": 8,
   "metadata": {},
   "outputs": [
    {
     "data": {
      "text/plain": [
       "<matplotlib.axes._subplots.AxesSubplot at 0x23769e63400>"
      ]
     },
     "execution_count": 8,
     "metadata": {},
     "output_type": "execute_result"
    },
    {
     "data": {
      "image/png": "[encoded data removed]",
      "text/plain": [
       "<Figure size 432x288 with 1 Axes>"
      ]
     },
     "metadata": {
      "needs_background": "light"
     },
     "output_type": "display_data"
    }
   ],
   "source": [
    "data.monthly_salary.hist()"
   ]
  },
  {
   "cell_type": "markdown",
   "metadata": {},
   "source": [
    "It does not look like normal distribution."
   ]
  },
  {
   "cell_type": "code",
   "execution_count": 9,
   "metadata": {},
   "outputs": [],
   "source": [
    "from scipy import stats"
   ]
  },
  {
   "cell_type": "code",
   "execution_count": 10,
   "metadata": {},
   "outputs": [
    {
     "data": {
      "text/plain": [
       "NormaltestResult(statistic=3912.3205412634516, pvalue=0.0)"
      ]
     },
     "execution_count": 10,
     "metadata": {},
     "output_type": "execute_result"
    }
   ],
   "source": [
    "stats.normaltest(data.monthly_salary)"
   ]
  },
  {
   "cell_type": "markdown",
   "metadata": {},
   "source": [
    "null hypothesis: x comes from a normal distribution\n",
    "    \n",
    "p=0\n",
    "\n",
    "The null hypothesis can be rejected\n",
    "\n",
    "conclusion: data is not normally distributed."
   ]
  },
  {
   "cell_type": "markdown",
   "metadata": {},
   "source": [
    "Zoom in"
   ]
  },
  {
   "cell_type": "code",
   "execution_count": 14,
   "metadata": {},
   "outputs": [
    {
     "data": {
      "image/png": "[encoded data removed]",
      "text/plain": [
       "<Figure size 432x288 with 1 Axes>"
      ]
     },
     "metadata": {
      "needs_background": "light"
     },
     "output_type": "display_data"
    }
   ],
   "source": [
    "data[data.monthly_salary<4].monthly_salary.hist()\n",
    "plt.annotate('https://github.com/juwikuang/job_survey', xy=(0,0), xytext=(0.5, 20), color='white')\n",
    "plt.show()"
   ]
  },
  {
   "cell_type": "markdown",
   "metadata": {},
   "source": [
    "## Role 角色"
   ]
  },
  {
   "cell_type": "code",
   "execution_count": 15,
   "metadata": {},
   "outputs": [],
   "source": [
    "def get_sub_stats(data, prefix):\n",
    "    \n",
    "    features = [feature for feature in data.columns if feature.startswith(prefix)]\n",
    "    salary_mean=[]\n",
    "    salary_median=[]\n",
    "    count=[]\n",
    "    for feature in features:\n",
    "        salary_mean.append(data[data[feature]==1].monthly_salary.mean()*10000)\n",
    "        salary_median.append(data[data[feature]==1].monthly_salary.median()*10000)\n",
    "        count.append(data[data[feature]==1].shape[0])\n",
    "    sub_data=pd.DataFrame()\n",
    "    sub_data[prefix]=[f.replace(prefix,'') for f in features]\n",
    "    sub_data['salary_mean']=salary_mean\n",
    "    sub_data['salary_median']=salary_median\n",
    "    sub_data['head_count']=count\n",
    "    sub_data['percentage']=count/np.sum(count)\n",
    "    sub_data=sub_data.sort_values(by='salary_mean', ascending=False)\n",
    "\n",
    "    return sub_data"
   ]
  },
  {
   "cell_type": "code",
   "execution_count": 16,
   "metadata": {},
   "outputs": [],
   "source": [
    "def add_category_column(data, prefix):\n",
    "    prefix_=prefix+\"_\"\n",
    "    features = [feature for feature in data.columns if feature.startswith(prefix)]\n",
    "    data.loc[:,prefix]=['']*data.shape[0]\n",
    "    for feature in features:\n",
    "        data.loc[data[feature]==1,prefix]=feature.replace(prefix_,'')\n",
    "    return data"
   ]
  },
  {
   "cell_type": "code",
   "execution_count": 17,
   "metadata": {},
   "outputs": [
    {
     "data": {
      "text/html": [
       "<style  type=\"text/css\" >\n",
       "</style>  \n",
       "<table id=\"T_fa599662_5849_11e9_b646_701ce71031ef\" > \n",
       "<thead>    <tr> \n",
       "        <th class=\"blank level0\" ></th> \n",
       "        <th class=\"col_heading level0 col0\" >career_</th> \n",
       "        <th class=\"col_heading level0 col1\" >salary_mean</th> \n",
       "        <th class=\"col_heading level0 col2\" >salary_median</th> \n",
       "        <th class=\"col_heading level0 col3\" >head_count</th> \n",
       "        <th class=\"col_heading level0 col4\" >percentage</th> \n",
       "    </tr></thead> \n",
       "<tbody>    <tr> \n",
       "        <th id=\"T_fa599662_5849_11e9_b646_701ce71031eflevel0_row0\" class=\"row_heading level0 row0\" >1</th> \n",
       "        <td id=\"T_fa599662_5849_11e9_b646_701ce71031efrow0_col0\" class=\"data row0 col0\" >architect</td> \n",
       "        <td id=\"T_fa599662_5849_11e9_b646_701ce71031efrow0_col1\" class=\"data row0 col1\" >19346.4</td> \n",
       "        <td id=\"T_fa599662_5849_11e9_b646_701ce71031efrow0_col2\" class=\"data row0 col2\" >17500</td> \n",
       "        <td id=\"T_fa599662_5849_11e9_b646_701ce71031efrow0_col3\" class=\"data row0 col3\" >258</td> \n",
       "        <td id=\"T_fa599662_5849_11e9_b646_701ce71031efrow0_col4\" class=\"data row0 col4\" >3.57%</td> \n",
       "    </tr>    <tr> \n",
       "        <th id=\"T_fa599662_5849_11e9_b646_701ce71031eflevel0_row1\" class=\"row_heading level0 row1\" >0</th> \n",
       "        <td id=\"T_fa599662_5849_11e9_b646_701ce71031efrow1_col0\" class=\"data row1 col0\" >algorithm</td> \n",
       "        <td id=\"T_fa599662_5849_11e9_b646_701ce71031efrow1_col1\" class=\"data row1 col1\" >18040.8</td> \n",
       "        <td id=\"T_fa599662_5849_11e9_b646_701ce71031efrow1_col2\" class=\"data row1 col2\" >17500</td> \n",
       "        <td id=\"T_fa599662_5849_11e9_b646_701ce71031efrow1_col3\" class=\"data row1 col3\" >790</td> \n",
       "        <td id=\"T_fa599662_5849_11e9_b646_701ce71031efrow1_col4\" class=\"data row1 col4\" >10.92%</td> \n",
       "    </tr>    <tr> \n",
       "        <th id=\"T_fa599662_5849_11e9_b646_701ce71031eflevel0_row2\" class=\"row_heading level0 row2\" >2</th> \n",
       "        <td id=\"T_fa599662_5849_11e9_b646_701ce71031efrow2_col0\" class=\"data row2 col0\" >software_engineer</td> \n",
       "        <td id=\"T_fa599662_5849_11e9_b646_701ce71031efrow2_col1\" class=\"data row2 col1\" >12166.3</td> \n",
       "        <td id=\"T_fa599662_5849_11e9_b646_701ce71031efrow2_col2\" class=\"data row2 col2\" >11500</td> \n",
       "        <td id=\"T_fa599662_5849_11e9_b646_701ce71031efrow2_col3\" class=\"data row2 col3\" >6186</td> \n",
       "        <td id=\"T_fa599662_5849_11e9_b646_701ce71031efrow2_col4\" class=\"data row2 col4\" >85.51%</td> \n",
       "    </tr></tbody> \n",
       "</table> "
      ],
      "text/plain": [
       "<pandas.io.formats.style.Styler at 0x2376c4bd748>"
      ]
     },
     "execution_count": 17,
     "metadata": {},
     "output_type": "execute_result"
    }
   ],
   "source": [
    "data_career=get_sub_stats(data,'career_')\n",
    "data_career.style.format({\"percentage\":\"{:.2%}\"})"
   ]
  },
  {
   "cell_type": "markdown",
   "metadata": {},
   "source": [
    "# 编程语言"
   ]
  },
  {
   "cell_type": "code",
   "execution_count": 18,
   "metadata": {},
   "outputs": [
    {
     "data": {
      "text/html": [
       "<style  type=\"text/css\" >\n",
       "</style>  \n",
       "<table id=\"T_fd4b5724_5849_11e9_868f_701ce71031ef\" > \n",
       "<thead>    <tr> \n",
       "        <th class=\"blank level0\" ></th> \n",
       "        <th class=\"col_heading level0 col0\" >pl_</th> \n",
       "        <th class=\"col_heading level0 col1\" >salary_mean</th> \n",
       "        <th class=\"col_heading level0 col2\" >salary_median</th> \n",
       "        <th class=\"col_heading level0 col3\" >head_count</th> \n",
       "        <th class=\"col_heading level0 col4\" >percentage</th> \n",
       "    </tr></thead> \n",
       "<tbody>    <tr> \n",
       "        <th id=\"T_fd4b5724_5849_11e9_868f_701ce71031eflevel0_row0\" class=\"row_heading level0 row0\" >11</th> \n",
       "        <td id=\"T_fd4b5724_5849_11e9_868f_701ce71031efrow0_col0\" class=\"data row0 col0\" >lua</td> \n",
       "        <td id=\"T_fd4b5724_5849_11e9_868f_701ce71031efrow0_col1\" class=\"data row0 col1\" >18704.1</td> \n",
       "        <td id=\"T_fd4b5724_5849_11e9_868f_701ce71031efrow0_col2\" class=\"data row0 col2\" >15000</td> \n",
       "        <td id=\"T_fd4b5724_5849_11e9_868f_701ce71031efrow0_col3\" class=\"data row0 col3\" >49</td> \n",
       "        <td id=\"T_fd4b5724_5849_11e9_868f_701ce71031efrow0_col4\" class=\"data row0 col4\" >0.54%</td> \n",
       "    </tr>    <tr> \n",
       "        <th id=\"T_fd4b5724_5849_11e9_868f_701ce71031eflevel0_row1\" class=\"row_heading level0 row1\" >19</th> \n",
       "        <td id=\"T_fd4b5724_5849_11e9_868f_701ce71031efrow1_col0\" class=\"data row1 col0\" >scala</td> \n",
       "        <td id=\"T_fd4b5724_5849_11e9_868f_701ce71031efrow1_col1\" class=\"data row1 col1\" >18640.8</td> \n",
       "        <td id=\"T_fd4b5724_5849_11e9_868f_701ce71031efrow1_col2\" class=\"data row1 col2\" >16500</td> \n",
       "        <td id=\"T_fd4b5724_5849_11e9_868f_701ce71031efrow1_col3\" class=\"data row1 col3\" >71</td> \n",
       "        <td id=\"T_fd4b5724_5849_11e9_868f_701ce71031efrow1_col4\" class=\"data row1 col4\" >0.79%</td> \n",
       "    </tr>    <tr> \n",
       "        <th id=\"T_fd4b5724_5849_11e9_868f_701ce71031eflevel0_row2\" class=\"row_heading level0 row2\" >6</th> \n",
       "        <td id=\"T_fd4b5724_5849_11e9_868f_701ce71031efrow2_col0\" class=\"data row2 col0\" >haskell</td> \n",
       "        <td id=\"T_fd4b5724_5849_11e9_868f_701ce71031efrow2_col1\" class=\"data row2 col1\" >17500</td> \n",
       "        <td id=\"T_fd4b5724_5849_11e9_868f_701ce71031efrow2_col2\" class=\"data row2 col2\" >17500</td> \n",
       "        <td id=\"T_fd4b5724_5849_11e9_868f_701ce71031efrow2_col3\" class=\"data row2 col3\" >1</td> \n",
       "        <td id=\"T_fd4b5724_5849_11e9_868f_701ce71031efrow2_col4\" class=\"data row2 col4\" >0.01%</td> \n",
       "    </tr>    <tr> \n",
       "        <th id=\"T_fd4b5724_5849_11e9_868f_701ce71031eflevel0_row3\" class=\"row_heading level0 row3\" >17</th> \n",
       "        <td id=\"T_fd4b5724_5849_11e9_868f_701ce71031efrow3_col0\" class=\"data row3 col0\" >ruby</td> \n",
       "        <td id=\"T_fd4b5724_5849_11e9_868f_701ce71031efrow3_col1\" class=\"data row3 col1\" >16091.1</td> \n",
       "        <td id=\"T_fd4b5724_5849_11e9_868f_701ce71031efrow3_col2\" class=\"data row3 col2\" >14000</td> \n",
       "        <td id=\"T_fd4b5724_5849_11e9_868f_701ce71031efrow3_col3\" class=\"data row3 col3\" >32</td> \n",
       "        <td id=\"T_fd4b5724_5849_11e9_868f_701ce71031efrow3_col4\" class=\"data row3 col4\" >0.36%</td> \n",
       "    </tr>    <tr> \n",
       "        <th id=\"T_fd4b5724_5849_11e9_868f_701ce71031eflevel0_row4\" class=\"row_heading level0 row4\" >25</th> \n",
       "        <td id=\"T_fd4b5724_5849_11e9_868f_701ce71031efrow4_col0\" class=\"data row4 col0\" >r</td> \n",
       "        <td id=\"T_fd4b5724_5849_11e9_868f_701ce71031efrow4_col1\" class=\"data row4 col1\" >15916.7</td> \n",
       "        <td id=\"T_fd4b5724_5849_11e9_868f_701ce71031efrow4_col2\" class=\"data row4 col2\" >14000</td> \n",
       "        <td id=\"T_fd4b5724_5849_11e9_868f_701ce71031efrow4_col3\" class=\"data row4 col3\" >23</td> \n",
       "        <td id=\"T_fd4b5724_5849_11e9_868f_701ce71031efrow4_col4\" class=\"data row4 col4\" >0.26%</td> \n",
       "    </tr>    <tr> \n",
       "        <th id=\"T_fd4b5724_5849_11e9_868f_701ce71031eflevel0_row5\" class=\"row_heading level0 row5\" >18</th> \n",
       "        <td id=\"T_fd4b5724_5849_11e9_868f_701ce71031efrow5_col0\" class=\"data row5 col0\" >rust</td> \n",
       "        <td id=\"T_fd4b5724_5849_11e9_868f_701ce71031efrow5_col1\" class=\"data row5 col1\" >15321.4</td> \n",
       "        <td id=\"T_fd4b5724_5849_11e9_868f_701ce71031efrow5_col2\" class=\"data row5 col2\" >13500</td> \n",
       "        <td id=\"T_fd4b5724_5849_11e9_868f_701ce71031efrow5_col3\" class=\"data row5 col3\" >7</td> \n",
       "        <td id=\"T_fd4b5724_5849_11e9_868f_701ce71031efrow5_col4\" class=\"data row5 col4\" >0.08%</td> \n",
       "    </tr>    <tr> \n",
       "        <th id=\"T_fd4b5724_5849_11e9_868f_701ce71031eflevel0_row6\" class=\"row_heading level0 row6\" >4</th> \n",
       "        <td id=\"T_fd4b5724_5849_11e9_868f_701ce71031efrow6_col0\" class=\"data row6 col0\" >go</td> \n",
       "        <td id=\"T_fd4b5724_5849_11e9_868f_701ce71031efrow6_col1\" class=\"data row6 col1\" >15197.1</td> \n",
       "        <td id=\"T_fd4b5724_5849_11e9_868f_701ce71031efrow6_col2\" class=\"data row6 col2\" >14583.3</td> \n",
       "        <td id=\"T_fd4b5724_5849_11e9_868f_701ce71031efrow6_col3\" class=\"data row6 col3\" >480</td> \n",
       "        <td id=\"T_fd4b5724_5849_11e9_868f_701ce71031efrow6_col4\" class=\"data row6 col4\" >5.34%</td> \n",
       "    </tr>    <tr> \n",
       "        <th id=\"T_fd4b5724_5849_11e9_868f_701ce71031eflevel0_row7\" class=\"row_heading level0 row7\" >12</th> \n",
       "        <td id=\"T_fd4b5724_5849_11e9_868f_701ce71031efrow7_col0\" class=\"data row7 col0\" >matlab</td> \n",
       "        <td id=\"T_fd4b5724_5849_11e9_868f_701ce71031efrow7_col1\" class=\"data row7 col1\" >15042.9</td> \n",
       "        <td id=\"T_fd4b5724_5849_11e9_868f_701ce71031efrow7_col2\" class=\"data row7 col2\" >15000</td> \n",
       "        <td id=\"T_fd4b5724_5849_11e9_868f_701ce71031efrow7_col3\" class=\"data row7 col3\" >140</td> \n",
       "        <td id=\"T_fd4b5724_5849_11e9_868f_701ce71031efrow7_col4\" class=\"data row7 col4\" >1.56%</td> \n",
       "    </tr>    <tr> \n",
       "        <th id=\"T_fd4b5724_5849_11e9_868f_701ce71031eflevel0_row8\" class=\"row_heading level0 row8\" >16</th> \n",
       "        <td id=\"T_fd4b5724_5849_11e9_868f_701ce71031efrow8_col0\" class=\"data row8 col0\" >python</td> \n",
       "        <td id=\"T_fd4b5724_5849_11e9_868f_701ce71031efrow8_col1\" class=\"data row8 col1\" >14977.2</td> \n",
       "        <td id=\"T_fd4b5724_5849_11e9_868f_701ce71031efrow8_col2\" class=\"data row8 col2\" >14000</td> \n",
       "        <td id=\"T_fd4b5724_5849_11e9_868f_701ce71031efrow8_col3\" class=\"data row8 col3\" >802</td> \n",
       "        <td id=\"T_fd4b5724_5849_11e9_868f_701ce71031efrow8_col4\" class=\"data row8 col4\" >8.92%</td> \n",
       "    </tr>    <tr> \n",
       "        <th id=\"T_fd4b5724_5849_11e9_868f_701ce71031eflevel0_row9\" class=\"row_heading level0 row9\" >5</th> \n",
       "        <td id=\"T_fd4b5724_5849_11e9_868f_701ce71031efrow9_col0\" class=\"data row9 col0\" >groovy</td> \n",
       "        <td id=\"T_fd4b5724_5849_11e9_868f_701ce71031efrow9_col1\" class=\"data row9 col1\" >14666.7</td> \n",
       "        <td id=\"T_fd4b5724_5849_11e9_868f_701ce71031efrow9_col2\" class=\"data row9 col2\" >13000</td> \n",
       "        <td id=\"T_fd4b5724_5849_11e9_868f_701ce71031efrow9_col3\" class=\"data row9 col3\" >3</td> \n",
       "        <td id=\"T_fd4b5724_5849_11e9_868f_701ce71031efrow9_col4\" class=\"data row9 col4\" >0.03%</td> \n",
       "    </tr>    <tr> \n",
       "        <th id=\"T_fd4b5724_5849_11e9_868f_701ce71031eflevel0_row10\" class=\"row_heading level0 row10\" >14</th> \n",
       "        <td id=\"T_fd4b5724_5849_11e9_868f_701ce71031efrow10_col0\" class=\"data row10 col0\" >perl</td> \n",
       "        <td id=\"T_fd4b5724_5849_11e9_868f_701ce71031efrow10_col1\" class=\"data row10 col1\" >14420.3</td> \n",
       "        <td id=\"T_fd4b5724_5849_11e9_868f_701ce71031efrow10_col2\" class=\"data row10 col2\" >12500</td> \n",
       "        <td id=\"T_fd4b5724_5849_11e9_868f_701ce71031efrow10_col3\" class=\"data row10 col3\" >69</td> \n",
       "        <td id=\"T_fd4b5724_5849_11e9_868f_701ce71031efrow10_col4\" class=\"data row10 col4\" >0.77%</td> \n",
       "    </tr>    <tr> \n",
       "        <th id=\"T_fd4b5724_5849_11e9_868f_701ce71031eflevel0_row11\" class=\"row_heading level0 row11\" >10</th> \n",
       "        <td id=\"T_fd4b5724_5849_11e9_868f_701ce71031efrow11_col0\" class=\"data row11 col0\" >kotlin</td> \n",
       "        <td id=\"T_fd4b5724_5849_11e9_868f_701ce71031efrow11_col1\" class=\"data row11 col1\" >14227.3</td> \n",
       "        <td id=\"T_fd4b5724_5849_11e9_868f_701ce71031efrow11_col2\" class=\"data row11 col2\" >12500</td> \n",
       "        <td id=\"T_fd4b5724_5849_11e9_868f_701ce71031efrow11_col3\" class=\"data row11 col3\" >11</td> \n",
       "        <td id=\"T_fd4b5724_5849_11e9_868f_701ce71031efrow11_col4\" class=\"data row11 col4\" >0.12%</td> \n",
       "    </tr>    <tr> \n",
       "        <th id=\"T_fd4b5724_5849_11e9_868f_701ce71031eflevel0_row12\" class=\"row_heading level0 row12\" >2</th> \n",
       "        <td id=\"T_fd4b5724_5849_11e9_868f_701ce71031efrow12_col0\" class=\"data row12 col0\" >cpp</td> \n",
       "        <td id=\"T_fd4b5724_5849_11e9_868f_701ce71031efrow12_col1\" class=\"data row12 col1\" >14110.5</td> \n",
       "        <td id=\"T_fd4b5724_5849_11e9_868f_701ce71031efrow12_col2\" class=\"data row12 col2\" >12500</td> \n",
       "        <td id=\"T_fd4b5724_5849_11e9_868f_701ce71031efrow12_col3\" class=\"data row12 col3\" >1580</td> \n",
       "        <td id=\"T_fd4b5724_5849_11e9_868f_701ce71031efrow12_col4\" class=\"data row12 col4\" >17.56%</td> \n",
       "    </tr>    <tr> \n",
       "        <th id=\"T_fd4b5724_5849_11e9_868f_701ce71031eflevel0_row13\" class=\"row_heading level0 row13\" >0</th> \n",
       "        <td id=\"T_fd4b5724_5849_11e9_868f_701ce71031efrow13_col0\" class=\"data row13 col0\" >assembly</td> \n",
       "        <td id=\"T_fd4b5724_5849_11e9_868f_701ce71031efrow13_col1\" class=\"data row13 col1\" >13672.1</td> \n",
       "        <td id=\"T_fd4b5724_5849_11e9_868f_701ce71031efrow13_col2\" class=\"data row13 col2\" >12500</td> \n",
       "        <td id=\"T_fd4b5724_5849_11e9_868f_701ce71031efrow13_col3\" class=\"data row13 col3\" >61</td> \n",
       "        <td id=\"T_fd4b5724_5849_11e9_868f_701ce71031efrow13_col4\" class=\"data row13 col4\" >0.68%</td> \n",
       "    </tr>    <tr> \n",
       "        <th id=\"T_fd4b5724_5849_11e9_868f_701ce71031eflevel0_row14\" class=\"row_heading level0 row14\" >7</th> \n",
       "        <td id=\"T_fd4b5724_5849_11e9_868f_701ce71031efrow14_col0\" class=\"data row14 col0\" >java</td> \n",
       "        <td id=\"T_fd4b5724_5849_11e9_868f_701ce71031efrow14_col1\" class=\"data row14 col1\" >13139.3</td> \n",
       "        <td id=\"T_fd4b5724_5849_11e9_868f_701ce71031efrow14_col2\" class=\"data row14 col2\" >12500</td> \n",
       "        <td id=\"T_fd4b5724_5849_11e9_868f_701ce71031efrow14_col3\" class=\"data row14 col3\" >3032</td> \n",
       "        <td id=\"T_fd4b5724_5849_11e9_868f_701ce71031efrow14_col4\" class=\"data row14 col4\" >33.70%</td> \n",
       "    </tr>    <tr> \n",
       "        <th id=\"T_fd4b5724_5849_11e9_868f_701ce71031eflevel0_row15\" class=\"row_heading level0 row15\" >22</th> \n",
       "        <td id=\"T_fd4b5724_5849_11e9_868f_701ce71031efrow15_col0\" class=\"data row15 col0\" >vba</td> \n",
       "        <td id=\"T_fd4b5724_5849_11e9_868f_701ce71031efrow15_col1\" class=\"data row15 col1\" >12500</td> \n",
       "        <td id=\"T_fd4b5724_5849_11e9_868f_701ce71031efrow15_col2\" class=\"data row15 col2\" >12500</td> \n",
       "        <td id=\"T_fd4b5724_5849_11e9_868f_701ce71031efrow15_col3\" class=\"data row15 col3\" >4</td> \n",
       "        <td id=\"T_fd4b5724_5849_11e9_868f_701ce71031efrow15_col4\" class=\"data row15 col4\" >0.04%</td> \n",
       "    </tr>    <tr> \n",
       "        <th id=\"T_fd4b5724_5849_11e9_868f_701ce71031eflevel0_row16\" class=\"row_heading level0 row16\" >20</th> \n",
       "        <td id=\"T_fd4b5724_5849_11e9_868f_701ce71031efrow16_col0\" class=\"data row16 col0\" >swift</td> \n",
       "        <td id=\"T_fd4b5724_5849_11e9_868f_701ce71031efrow16_col1\" class=\"data row16 col1\" >12260.6</td> \n",
       "        <td id=\"T_fd4b5724_5849_11e9_868f_701ce71031efrow16_col2\" class=\"data row16 col2\" >12000</td> \n",
       "        <td id=\"T_fd4b5724_5849_11e9_868f_701ce71031efrow16_col3\" class=\"data row16 col3\" >55</td> \n",
       "        <td id=\"T_fd4b5724_5849_11e9_868f_701ce71031efrow16_col4\" class=\"data row16 col4\" >0.61%</td> \n",
       "    </tr>    <tr> \n",
       "        <th id=\"T_fd4b5724_5849_11e9_868f_701ce71031eflevel0_row17\" class=\"row_heading level0 row17\" >21</th> \n",
       "        <td id=\"T_fd4b5724_5849_11e9_868f_701ce71031efrow17_col0\" class=\"data row17 col0\" >typescript</td> \n",
       "        <td id=\"T_fd4b5724_5849_11e9_868f_701ce71031efrow17_col1\" class=\"data row17 col1\" >11883.3</td> \n",
       "        <td id=\"T_fd4b5724_5849_11e9_868f_701ce71031efrow17_col2\" class=\"data row17 col2\" >11750</td> \n",
       "        <td id=\"T_fd4b5724_5849_11e9_868f_701ce71031efrow17_col3\" class=\"data row17 col3\" >30</td> \n",
       "        <td id=\"T_fd4b5724_5849_11e9_868f_701ce71031efrow17_col4\" class=\"data row17 col4\" >0.33%</td> \n",
       "    </tr>    <tr> \n",
       "        <th id=\"T_fd4b5724_5849_11e9_868f_701ce71031eflevel0_row18\" class=\"row_heading level0 row18\" >8</th> \n",
       "        <td id=\"T_fd4b5724_5849_11e9_868f_701ce71031efrow18_col0\" class=\"data row18 col0\" >javascript</td> \n",
       "        <td id=\"T_fd4b5724_5849_11e9_868f_701ce71031efrow18_col1\" class=\"data row18 col1\" >11872.2</td> \n",
       "        <td id=\"T_fd4b5724_5849_11e9_868f_701ce71031efrow18_col2\" class=\"data row18 col2\" >11500</td> \n",
       "        <td id=\"T_fd4b5724_5849_11e9_868f_701ce71031efrow18_col3\" class=\"data row18 col3\" >1423</td> \n",
       "        <td id=\"T_fd4b5724_5849_11e9_868f_701ce71031efrow18_col4\" class=\"data row18 col4\" >15.82%</td> \n",
       "    </tr>    <tr> \n",
       "        <th id=\"T_fd4b5724_5849_11e9_868f_701ce71031eflevel0_row19\" class=\"row_heading level0 row19\" >1</th> \n",
       "        <td id=\"T_fd4b5724_5849_11e9_868f_701ce71031efrow19_col0\" class=\"data row19 col0\" >c_sharp</td> \n",
       "        <td id=\"T_fd4b5724_5849_11e9_868f_701ce71031efrow19_col1\" class=\"data row19 col1\" >11658.4</td> \n",
       "        <td id=\"T_fd4b5724_5849_11e9_868f_701ce71031efrow19_col2\" class=\"data row19 col2\" >11000</td> \n",
       "        <td id=\"T_fd4b5724_5849_11e9_868f_701ce71031efrow19_col3\" class=\"data row19 col3\" >810</td> \n",
       "        <td id=\"T_fd4b5724_5849_11e9_868f_701ce71031efrow19_col4\" class=\"data row19 col4\" >9.00%</td> \n",
       "    </tr>    <tr> \n",
       "        <th id=\"T_fd4b5724_5849_11e9_868f_701ce71031eflevel0_row20\" class=\"row_heading level0 row20\" >15</th> \n",
       "        <td id=\"T_fd4b5724_5849_11e9_868f_701ce71031efrow20_col0\" class=\"data row20 col0\" >php</td> \n",
       "        <td id=\"T_fd4b5724_5849_11e9_868f_701ce71031efrow20_col1\" class=\"data row20 col1\" >11356.4</td> \n",
       "        <td id=\"T_fd4b5724_5849_11e9_868f_701ce71031efrow20_col2\" class=\"data row20 col2\" >10000</td> \n",
       "        <td id=\"T_fd4b5724_5849_11e9_868f_701ce71031efrow20_col3\" class=\"data row20 col3\" >275</td> \n",
       "        <td id=\"T_fd4b5724_5849_11e9_868f_701ce71031efrow20_col4\" class=\"data row20 col4\" >3.06%</td> \n",
       "    </tr>    <tr> \n",
       "        <th id=\"T_fd4b5724_5849_11e9_868f_701ce71031eflevel0_row21\" class=\"row_heading level0 row21\" >24</th> \n",
       "        <td id=\"T_fd4b5724_5849_11e9_868f_701ce71031efrow21_col0\" class=\"data row21 col0\" >visual_basic_net</td> \n",
       "        <td id=\"T_fd4b5724_5849_11e9_868f_701ce71031efrow21_col1\" class=\"data row21 col1\" >11100</td> \n",
       "        <td id=\"T_fd4b5724_5849_11e9_868f_701ce71031efrow21_col2\" class=\"data row21 col2\" >10000</td> \n",
       "        <td id=\"T_fd4b5724_5849_11e9_868f_701ce71031efrow21_col3\" class=\"data row21 col3\" >5</td> \n",
       "        <td id=\"T_fd4b5724_5849_11e9_868f_701ce71031efrow21_col4\" class=\"data row21 col4\" >0.06%</td> \n",
       "    </tr>    <tr> \n",
       "        <th id=\"T_fd4b5724_5849_11e9_868f_701ce71031eflevel0_row22\" class=\"row_heading level0 row22\" >13</th> \n",
       "        <td id=\"T_fd4b5724_5849_11e9_868f_701ce71031efrow22_col0\" class=\"data row22 col0\" >objective_c</td> \n",
       "        <td id=\"T_fd4b5724_5849_11e9_868f_701ce71031efrow22_col1\" class=\"data row22 col1\" >10875</td> \n",
       "        <td id=\"T_fd4b5724_5849_11e9_868f_701ce71031efrow22_col2\" class=\"data row22 col2\" >10250</td> \n",
       "        <td id=\"T_fd4b5724_5849_11e9_868f_701ce71031efrow22_col3\" class=\"data row22 col3\" >10</td> \n",
       "        <td id=\"T_fd4b5724_5849_11e9_868f_701ce71031efrow22_col4\" class=\"data row22 col4\" >0.11%</td> \n",
       "    </tr>    <tr> \n",
       "        <th id=\"T_fd4b5724_5849_11e9_868f_701ce71031eflevel0_row23\" class=\"row_heading level0 row23\" >3</th> \n",
       "        <td id=\"T_fd4b5724_5849_11e9_868f_701ce71031efrow23_col0\" class=\"data row23 col0\" >delphi</td> \n",
       "        <td id=\"T_fd4b5724_5849_11e9_868f_701ce71031efrow23_col1\" class=\"data row23 col1\" >10863.6</td> \n",
       "        <td id=\"T_fd4b5724_5849_11e9_868f_701ce71031efrow23_col2\" class=\"data row23 col2\" >10500</td> \n",
       "        <td id=\"T_fd4b5724_5849_11e9_868f_701ce71031efrow23_col3\" class=\"data row23 col3\" >22</td> \n",
       "        <td id=\"T_fd4b5724_5849_11e9_868f_701ce71031efrow23_col4\" class=\"data row23 col4\" >0.24%</td> \n",
       "    </tr>    <tr> \n",
       "        <th id=\"T_fd4b5724_5849_11e9_868f_701ce71031eflevel0_row24\" class=\"row_heading level0 row24\" >23</th> \n",
       "        <td id=\"T_fd4b5724_5849_11e9_868f_701ce71031efrow24_col0\" class=\"data row24 col0\" >visual_basic</td> \n",
       "        <td id=\"T_fd4b5724_5849_11e9_868f_701ce71031efrow24_col1\" class=\"data row24 col1\" >10416.7</td> \n",
       "        <td id=\"T_fd4b5724_5849_11e9_868f_701ce71031efrow24_col2\" class=\"data row24 col2\" >10416.7</td> \n",
       "        <td id=\"T_fd4b5724_5849_11e9_868f_701ce71031efrow24_col3\" class=\"data row24 col3\" >1</td> \n",
       "        <td id=\"T_fd4b5724_5849_11e9_868f_701ce71031efrow24_col4\" class=\"data row24 col4\" >0.01%</td> \n",
       "    </tr>    <tr> \n",
       "        <th id=\"T_fd4b5724_5849_11e9_868f_701ce71031eflevel0_row25\" class=\"row_heading level0 row25\" >9</th> \n",
       "        <td id=\"T_fd4b5724_5849_11e9_868f_701ce71031efrow25_col0\" class=\"data row25 col0\" >julia</td> \n",
       "        <td id=\"T_fd4b5724_5849_11e9_868f_701ce71031efrow25_col1\" class=\"data row25 col1\" >nan</td> \n",
       "        <td id=\"T_fd4b5724_5849_11e9_868f_701ce71031efrow25_col2\" class=\"data row25 col2\" >nan</td> \n",
       "        <td id=\"T_fd4b5724_5849_11e9_868f_701ce71031efrow25_col3\" class=\"data row25 col3\" >0</td> \n",
       "        <td id=\"T_fd4b5724_5849_11e9_868f_701ce71031efrow25_col4\" class=\"data row25 col4\" >0.00%</td> \n",
       "    </tr></tbody> \n",
       "</table> "
      ],
      "text/plain": [
       "<pandas.io.formats.style.Styler at 0x2376dc0e4e0>"
      ]
     },
     "execution_count": 18,
     "metadata": {},
     "output_type": "execute_result"
    }
   ],
   "source": [
    "data_pl=get_sub_stats(data,'pl_')\n",
    "data_pl.style.format({\"percentage\":\"{:.2%}\"})"
   ]
  },
  {
   "cell_type": "markdown",
   "metadata": {},
   "source": [
    "数据显示，haskell才是最赚钱的编程语言。python是主流语言里面最赚钱的，比java的工资多了3000元！vb是最不赚钱的了。其中，最赚钱的编程语言和最不赚钱的，工资居然差了2倍。所以，要选好编程语言呀！"
   ]
  },
  {
   "cell_type": "markdown",
   "metadata": {},
   "source": [
    "# 教育"
   ]
  },
  {
   "cell_type": "code",
   "execution_count": 19,
   "metadata": {},
   "outputs": [
    {
     "data": {
      "text/html": [
       "<style  type=\"text/css\" >\n",
       "</style>  \n",
       "<table id=\"T_078ea9de_584a_11e9_b760_701ce71031ef\" > \n",
       "<thead>    <tr> \n",
       "        <th class=\"blank level0\" ></th> \n",
       "        <th class=\"col_heading level0 col0\" >edu_</th> \n",
       "        <th class=\"col_heading level0 col1\" >salary_mean</th> \n",
       "        <th class=\"col_heading level0 col2\" >salary_median</th> \n",
       "        <th class=\"col_heading level0 col3\" >head_count</th> \n",
       "        <th class=\"col_heading level0 col4\" >percentage</th> \n",
       "    </tr></thead> \n",
       "<tbody>    <tr> \n",
       "        <th id=\"T_078ea9de_584a_11e9_b760_701ce71031eflevel0_row0\" class=\"row_heading level0 row0\" >5</th> \n",
       "        <td id=\"T_078ea9de_584a_11e9_b760_701ce71031efrow0_col0\" class=\"data row0 col0\" >phd</td> \n",
       "        <td id=\"T_078ea9de_584a_11e9_b760_701ce71031efrow0_col1\" class=\"data row0 col1\" >34305.6</td> \n",
       "        <td id=\"T_078ea9de_584a_11e9_b760_701ce71031efrow0_col2\" class=\"data row0 col2\" >37500</td> \n",
       "        <td id=\"T_078ea9de_584a_11e9_b760_701ce71031efrow0_col3\" class=\"data row0 col3\" >9</td> \n",
       "        <td id=\"T_078ea9de_584a_11e9_b760_701ce71031efrow0_col4\" class=\"data row0 col4\" >0.15%</td> \n",
       "    </tr>    <tr> \n",
       "        <th id=\"T_078ea9de_584a_11e9_b760_701ce71031eflevel0_row1\" class=\"row_heading level0 row1\" >3</th> \n",
       "        <td id=\"T_078ea9de_584a_11e9_b760_701ce71031efrow1_col0\" class=\"data row1 col0\" >master</td> \n",
       "        <td id=\"T_078ea9de_584a_11e9_b760_701ce71031efrow1_col1\" class=\"data row1 col1\" >17301.2</td> \n",
       "        <td id=\"T_078ea9de_584a_11e9_b760_701ce71031efrow1_col2\" class=\"data row1 col2\" >17500</td> \n",
       "        <td id=\"T_078ea9de_584a_11e9_b760_701ce71031efrow1_col3\" class=\"data row1 col3\" >267</td> \n",
       "        <td id=\"T_078ea9de_584a_11e9_b760_701ce71031efrow1_col4\" class=\"data row1 col4\" >4.44%</td> \n",
       "    </tr>    <tr> \n",
       "        <th id=\"T_078ea9de_584a_11e9_b760_701ce71031eflevel0_row2\" class=\"row_heading level0 row2\" >1</th> \n",
       "        <td id=\"T_078ea9de_584a_11e9_b760_701ce71031efrow2_col0\" class=\"data row2 col0\" >bachelor</td> \n",
       "        <td id=\"T_078ea9de_584a_11e9_b760_701ce71031efrow2_col1\" class=\"data row2 col1\" >13548.1</td> \n",
       "        <td id=\"T_078ea9de_584a_11e9_b760_701ce71031efrow2_col2\" class=\"data row2 col2\" >12500</td> \n",
       "        <td id=\"T_078ea9de_584a_11e9_b760_701ce71031efrow2_col3\" class=\"data row2 col3\" >4050</td> \n",
       "        <td id=\"T_078ea9de_584a_11e9_b760_701ce71031efrow2_col4\" class=\"data row2 col4\" >67.39%</td> \n",
       "    </tr>    <tr> \n",
       "        <th id=\"T_078ea9de_584a_11e9_b760_701ce71031eflevel0_row3\" class=\"row_heading level0 row3\" >0</th> \n",
       "        <td id=\"T_078ea9de_584a_11e9_b760_701ce71031efrow3_col0\" class=\"data row3 col0\" >associate</td> \n",
       "        <td id=\"T_078ea9de_584a_11e9_b760_701ce71031efrow3_col1\" class=\"data row3 col1\" >10455.9</td> \n",
       "        <td id=\"T_078ea9de_584a_11e9_b760_701ce71031efrow3_col2\" class=\"data row3 col2\" >10000</td> \n",
       "        <td id=\"T_078ea9de_584a_11e9_b760_701ce71031efrow3_col3\" class=\"data row3 col3\" >1678</td> \n",
       "        <td id=\"T_078ea9de_584a_11e9_b760_701ce71031efrow3_col4\" class=\"data row3 col4\" >27.92%</td> \n",
       "    </tr>    <tr> \n",
       "        <th id=\"T_078ea9de_584a_11e9_b760_701ce71031eflevel0_row4\" class=\"row_heading level0 row4\" >2</th> \n",
       "        <td id=\"T_078ea9de_584a_11e9_b760_701ce71031efrow4_col0\" class=\"data row4 col0\" >high_school</td> \n",
       "        <td id=\"T_078ea9de_584a_11e9_b760_701ce71031efrow4_col1\" class=\"data row4 col1\" >9350</td> \n",
       "        <td id=\"T_078ea9de_584a_11e9_b760_701ce71031efrow4_col2\" class=\"data row4 col2\" >7000</td> \n",
       "        <td id=\"T_078ea9de_584a_11e9_b760_701ce71031efrow4_col3\" class=\"data row4 col3\" >5</td> \n",
       "        <td id=\"T_078ea9de_584a_11e9_b760_701ce71031efrow4_col4\" class=\"data row4 col4\" >0.08%</td> \n",
       "    </tr>    <tr> \n",
       "        <th id=\"T_078ea9de_584a_11e9_b760_701ce71031eflevel0_row5\" class=\"row_heading level0 row5\" >4</th> \n",
       "        <td id=\"T_078ea9de_584a_11e9_b760_701ce71031efrow5_col0\" class=\"data row5 col0\" >middle_school</td> \n",
       "        <td id=\"T_078ea9de_584a_11e9_b760_701ce71031efrow5_col1\" class=\"data row5 col1\" >9000</td> \n",
       "        <td id=\"T_078ea9de_584a_11e9_b760_701ce71031efrow5_col2\" class=\"data row5 col2\" >9000</td> \n",
       "        <td id=\"T_078ea9de_584a_11e9_b760_701ce71031efrow5_col3\" class=\"data row5 col3\" >1</td> \n",
       "        <td id=\"T_078ea9de_584a_11e9_b760_701ce71031efrow5_col4\" class=\"data row5 col4\" >0.02%</td> \n",
       "    </tr></tbody> \n",
       "</table> "
      ],
      "text/plain": [
       "<pandas.io.formats.style.Styler at 0x2376dc2b5c0>"
      ]
     },
     "execution_count": 19,
     "metadata": {},
     "output_type": "execute_result"
    }
   ],
   "source": [
    "data_edu=get_sub_stats(data,'edu_')\n",
    "data_edu.style.format({\"percentage\":\"{:.2%}\"})"
   ]
  },
  {
   "cell_type": "code",
   "execution_count": 20,
   "metadata": {},
   "outputs": [],
   "source": [
    "salary_phd=data[data.edu_phd==1].monthly_salary * 10000\n",
    "salary_master=data[data.edu_master==1].monthly_salary * 10000\n",
    "salary_bachelor=data[data.edu_bachelor==1].monthly_salary * 10000\n",
    "salary_associate=data[data.edu_associate==1].monthly_salary * 10000"
   ]
  },
  {
   "cell_type": "code",
   "execution_count": 21,
   "metadata": {},
   "outputs": [
    {
     "name": "stdout",
     "output_type": "stream",
     "text": [
      "大专，本科，硕士，博士的平均工资分别是10456，13548，17301，34306。中位数分别是10000， 12500，17500， 37500。\n"
     ]
    }
   ],
   "source": [
    "print('大专，本科，硕士，博士的平均工资分别是{:.0f}，{:.0f}，{:.0f}，{:.0f}。中位数分别是{:.0f}， {:.0f}，{:.0f}， {:.0f}。'.format(\n",
    "    salary_associate.mean(),salary_bachelor.mean(),salary_master.mean(),salary_phd.mean(),\n",
    "    salary_associate.median(),salary_bachelor.median(),salary_master.median(),salary_phd.median()))"
   ]
  },
  {
   "cell_type": "code",
   "execution_count": 22,
   "metadata": {},
   "outputs": [
    {
     "data": {
      "text/plain": [
       "F_onewayResult(statistic=38.585023359430714, pvalue=1.9390733172835053e-09)"
      ]
     },
     "execution_count": 22,
     "metadata": {},
     "output_type": "execute_result"
    }
   ],
   "source": [
    "stats.f_oneway(salary_phd, salary_master)"
   ]
  },
  {
   "cell_type": "code",
   "execution_count": 23,
   "metadata": {},
   "outputs": [
    {
     "data": {
      "text/plain": [
       "F_onewayResult(statistic=95.60033356433718, pvalue=2.3949217533503604e-22)"
      ]
     },
     "execution_count": 23,
     "metadata": {},
     "output_type": "execute_result"
    }
   ],
   "source": [
    "stats.f_oneway(salary_master, salary_bachelor)"
   ]
  },
  {
   "cell_type": "code",
   "execution_count": 24,
   "metadata": {},
   "outputs": [
    {
     "data": {
      "text/plain": [
       "F_onewayResult(statistic=363.36224927786384, pvalue=1.3590274262634433e-78)"
      ]
     },
     "execution_count": 24,
     "metadata": {},
     "output_type": "execute_result"
    }
   ],
   "source": [
    "stats.f_oneway(salary_bachelor, salary_associate)"
   ]
  },
  {
   "cell_type": "markdown",
   "metadata": {},
   "source": [
    "经过Oneway Anova Test，证明从大专到博士，学历每提高一级，工资都有显著的提高。"
   ]
  },
  {
   "cell_type": "code",
   "execution_count": 25,
   "metadata": {},
   "outputs": [
    {
     "data": {
      "image/png": "[encoded data removed]",
      "text/plain": [
       "<Figure size 432x288 with 1 Axes>"
      ]
     },
     "metadata": {
      "needs_background": "light"
     },
     "output_type": "display_data"
    }
   ],
   "source": [
    "data=add_category_column(data,'edu')\n",
    "order=['phd','master','bachelor','associate']\n",
    "a=sns.boxplot(y='edu',x='monthly_salary',order=order,data=data[data.edu.isin(order)], orient='h')\n",
    "plt.annotate('https://github.com/juwikuang/job_survey', xy=(0.5,1.5), xytext=(2, 1.55))\n",
    "plt.show()"
   ]
  },
  {
   "cell_type": "markdown",
   "metadata": {},
   "source": [
    "# 工作经验 Working Experience"
   ]
  },
  {
   "cell_type": "code",
   "execution_count": 26,
   "metadata": {},
   "outputs": [
    {
     "data": {
      "text/html": [
       "<style  type=\"text/css\" >\n",
       "</style>  \n",
       "<table id=\"T_158b6b86_584a_11e9_aa85_701ce71031ef\" > \n",
       "<thead>    <tr> \n",
       "        <th class=\"blank level0\" ></th> \n",
       "        <th class=\"col_heading level0 col0\" >experience_</th> \n",
       "        <th class=\"col_heading level0 col1\" >salary_mean</th> \n",
       "        <th class=\"col_heading level0 col2\" >salary_median</th> \n",
       "        <th class=\"col_heading level0 col3\" >head_count</th> \n",
       "        <th class=\"col_heading level0 col4\" >percentage</th> \n",
       "    </tr></thead> \n",
       "<tbody>    <tr> \n",
       "        <th id=\"T_158b6b86_584a_11e9_aa85_701ce71031eflevel0_row0\" class=\"row_heading level0 row0\" >0</th> \n",
       "        <td id=\"T_158b6b86_584a_11e9_aa85_701ce71031efrow0_col0\" class=\"data row0 col0\" >10</td> \n",
       "        <td id=\"T_158b6b86_584a_11e9_aa85_701ce71031efrow0_col1\" class=\"data row0 col1\" >27460.8</td> \n",
       "        <td id=\"T_158b6b86_584a_11e9_aa85_701ce71031efrow0_col2\" class=\"data row0 col2\" >25000</td> \n",
       "        <td id=\"T_158b6b86_584a_11e9_aa85_701ce71031efrow0_col3\" class=\"data row0 col3\" >17</td> \n",
       "        <td id=\"T_158b6b86_584a_11e9_aa85_701ce71031efrow0_col4\" class=\"data row0 col4\" >0.24%</td> \n",
       "    </tr>    <tr> \n",
       "        <th id=\"T_158b6b86_584a_11e9_aa85_701ce71031eflevel0_row1\" class=\"row_heading level0 row1\" >3</th> \n",
       "        <td id=\"T_158b6b86_584a_11e9_aa85_701ce71031efrow1_col0\" class=\"data row1 col0\" >5_10</td> \n",
       "        <td id=\"T_158b6b86_584a_11e9_aa85_701ce71031efrow1_col1\" class=\"data row1 col1\" >19196.5</td> \n",
       "        <td id=\"T_158b6b86_584a_11e9_aa85_701ce71031efrow1_col2\" class=\"data row1 col2\" >17500</td> \n",
       "        <td id=\"T_158b6b86_584a_11e9_aa85_701ce71031efrow1_col3\" class=\"data row1 col3\" >670</td> \n",
       "        <td id=\"T_158b6b86_584a_11e9_aa85_701ce71031efrow1_col4\" class=\"data row1 col4\" >9.45%</td> \n",
       "    </tr>    <tr> \n",
       "        <th id=\"T_158b6b86_584a_11e9_aa85_701ce71031eflevel0_row2\" class=\"row_heading level0 row2\" >2</th> \n",
       "        <td id=\"T_158b6b86_584a_11e9_aa85_701ce71031efrow2_col0\" class=\"data row2 col0\" >3_5</td> \n",
       "        <td id=\"T_158b6b86_584a_11e9_aa85_701ce71031efrow2_col1\" class=\"data row2 col1\" >14159.6</td> \n",
       "        <td id=\"T_158b6b86_584a_11e9_aa85_701ce71031efrow2_col2\" class=\"data row2 col2\" >12500</td> \n",
       "        <td id=\"T_158b6b86_584a_11e9_aa85_701ce71031efrow2_col3\" class=\"data row2 col3\" >1977</td> \n",
       "        <td id=\"T_158b6b86_584a_11e9_aa85_701ce71031efrow2_col4\" class=\"data row2 col4\" >27.88%</td> \n",
       "    </tr>    <tr> \n",
       "        <th id=\"T_158b6b86_584a_11e9_aa85_701ce71031eflevel0_row3\" class=\"row_heading level0 row3\" >4</th> \n",
       "        <td id=\"T_158b6b86_584a_11e9_aa85_701ce71031efrow3_col0\" class=\"data row3 col0\" >no</td> \n",
       "        <td id=\"T_158b6b86_584a_11e9_aa85_701ce71031efrow3_col1\" class=\"data row3 col1\" >11584.7</td> \n",
       "        <td id=\"T_158b6b86_584a_11e9_aa85_701ce71031efrow3_col2\" class=\"data row3 col2\" >10833.3</td> \n",
       "        <td id=\"T_158b6b86_584a_11e9_aa85_701ce71031efrow3_col3\" class=\"data row3 col3\" >1949</td> \n",
       "        <td id=\"T_158b6b86_584a_11e9_aa85_701ce71031efrow3_col4\" class=\"data row3 col4\" >27.49%</td> \n",
       "    </tr>    <tr> \n",
       "        <th id=\"T_158b6b86_584a_11e9_aa85_701ce71031eflevel0_row4\" class=\"row_heading level0 row4\" >1</th> \n",
       "        <td id=\"T_158b6b86_584a_11e9_aa85_701ce71031efrow4_col0\" class=\"data row4 col0\" >1_3</td> \n",
       "        <td id=\"T_158b6b86_584a_11e9_aa85_701ce71031efrow4_col1\" class=\"data row4 col1\" >11053.5</td> \n",
       "        <td id=\"T_158b6b86_584a_11e9_aa85_701ce71031efrow4_col2\" class=\"data row4 col2\" >10416.7</td> \n",
       "        <td id=\"T_158b6b86_584a_11e9_aa85_701ce71031efrow4_col3\" class=\"data row4 col3\" >2478</td> \n",
       "        <td id=\"T_158b6b86_584a_11e9_aa85_701ce71031efrow4_col4\" class=\"data row4 col4\" >34.95%</td> \n",
       "    </tr></tbody> \n",
       "</table> "
      ],
      "text/plain": [
       "<pandas.io.formats.style.Styler at 0x2376dc37278>"
      ]
     },
     "execution_count": 26,
     "metadata": {},
     "output_type": "execute_result"
    }
   ],
   "source": [
    "data_experience=get_sub_stats(data,'experience_')\n",
    "data_experience.style.format({\"percentage\":\"{:.2%}\"})"
   ]
  },
  {
   "cell_type": "code",
   "execution_count": 27,
   "metadata": {},
   "outputs": [],
   "source": [
    "salary_we_10=data[data.experience_10==1].monthly_salary * 10000\n",
    "salary_we_5_10=data[data.experience_5_10==1].monthly_salary * 10000\n",
    "salary_we_3_5=data[data.experience_3_5==1].monthly_salary * 10000\n",
    "salary_we_1_3=data[data.experience_1_3==1].monthly_salary * 10000\n",
    "salary_we_no=data[data.experience_no==1].monthly_salary * 10000"
   ]
  },
  {
   "cell_type": "code",
   "execution_count": 28,
   "metadata": {},
   "outputs": [
    {
     "data": {
      "image/png": "[encoded data removed]",
      "text/plain": [
       "<Figure size 432x288 with 1 Axes>"
      ]
     },
     "metadata": {
      "needs_background": "light"
     },
     "output_type": "display_data"
    }
   ],
   "source": [
    "data=add_category_column(data,'experience')\n",
    "order=['10','5_10','3_5','1_3']\n",
    "sns.boxplot(y='experience',x='monthly_salary',order=order,data=data[data.experience.isin(order)], orient='h')\n",
    "plt.annotate('https://github.com/juwikuang/job_survey', xy=(1.5,1.5), xytext=(1.55, 1.55))\n",
    "plt.show()"
   ]
  },
  {
   "cell_type": "markdown",
   "metadata": {},
   "source": [
    "# 公司 Company"
   ]
  },
  {
   "cell_type": "markdown",
   "metadata": {},
   "source": [
    "## 公司性质 Company Type"
   ]
  },
  {
   "cell_type": "code",
   "execution_count": 29,
   "metadata": {},
   "outputs": [
    {
     "data": {
      "text/html": [
       "<style  type=\"text/css\" >\n",
       "</style>  \n",
       "<table id=\"T_1e1d0d10_584a_11e9_bd5b_701ce71031ef\" > \n",
       "<thead>    <tr> \n",
       "        <th class=\"blank level0\" ></th> \n",
       "        <th class=\"col_heading level0 col0\" >company_type_</th> \n",
       "        <th class=\"col_heading level0 col1\" >salary_mean</th> \n",
       "        <th class=\"col_heading level0 col2\" >salary_median</th> \n",
       "        <th class=\"col_heading level0 col3\" >head_count</th> \n",
       "        <th class=\"col_heading level0 col4\" >percentage</th> \n",
       "    </tr></thead> \n",
       "<tbody>    <tr> \n",
       "        <th id=\"T_1e1d0d10_584a_11e9_bd5b_701ce71031eflevel0_row0\" class=\"row_heading level0 row0\" >9</th> \n",
       "        <td id=\"T_1e1d0d10_584a_11e9_bd5b_701ce71031efrow0_col0\" class=\"data row0 col0\" >us_eu</td> \n",
       "        <td id=\"T_1e1d0d10_584a_11e9_bd5b_701ce71031efrow0_col1\" class=\"data row0 col1\" >15029</td> \n",
       "        <td id=\"T_1e1d0d10_584a_11e9_bd5b_701ce71031efrow0_col2\" class=\"data row0 col2\" >14000</td> \n",
       "        <td id=\"T_1e1d0d10_584a_11e9_bd5b_701ce71031efrow0_col3\" class=\"data row0 col3\" >218</td> \n",
       "        <td id=\"T_1e1d0d10_584a_11e9_bd5b_701ce71031efrow0_col4\" class=\"data row0 col4\" >3.25%</td> \n",
       "    </tr>    <tr> \n",
       "        <th id=\"T_1e1d0d10_584a_11e9_bd5b_701ce71031eflevel0_row1\" class=\"row_heading level0 row1\" >6</th> \n",
       "        <td id=\"T_1e1d0d10_584a_11e9_bd5b_701ce71031efrow1_col0\" class=\"data row1 col0\" >public_institution</td> \n",
       "        <td id=\"T_1e1d0d10_584a_11e9_bd5b_701ce71031efrow1_col1\" class=\"data row1 col1\" >14367</td> \n",
       "        <td id=\"T_1e1d0d10_584a_11e9_bd5b_701ce71031efrow1_col2\" class=\"data row1 col2\" >13000</td> \n",
       "        <td id=\"T_1e1d0d10_584a_11e9_bd5b_701ce71031efrow1_col3\" class=\"data row1 col3\" >61</td> \n",
       "        <td id=\"T_1e1d0d10_584a_11e9_bd5b_701ce71031efrow1_col4\" class=\"data row1 col4\" >0.91%</td> \n",
       "    </tr>    <tr> \n",
       "        <th id=\"T_1e1d0d10_584a_11e9_bd5b_701ce71031eflevel0_row2\" class=\"row_heading level0 row2\" >8</th> \n",
       "        <td id=\"T_1e1d0d10_584a_11e9_bd5b_701ce71031efrow2_col0\" class=\"data row2 col0\" >state</td> \n",
       "        <td id=\"T_1e1d0d10_584a_11e9_bd5b_701ce71031efrow2_col1\" class=\"data row2 col1\" >13393</td> \n",
       "        <td id=\"T_1e1d0d10_584a_11e9_bd5b_701ce71031efrow2_col2\" class=\"data row2 col2\" >12500</td> \n",
       "        <td id=\"T_1e1d0d10_584a_11e9_bd5b_701ce71031efrow2_col3\" class=\"data row2 col3\" >475</td> \n",
       "        <td id=\"T_1e1d0d10_584a_11e9_bd5b_701ce71031efrow2_col4\" class=\"data row2 col4\" >7.08%</td> \n",
       "    </tr>    <tr> \n",
       "        <th id=\"T_1e1d0d10_584a_11e9_bd5b_701ce71031eflevel0_row3\" class=\"row_heading level0 row3\" >3</th> \n",
       "        <td id=\"T_1e1d0d10_584a_11e9_bd5b_701ce71031efrow3_col0\" class=\"data row3 col0\" >listed</td> \n",
       "        <td id=\"T_1e1d0d10_584a_11e9_bd5b_701ce71031efrow3_col1\" class=\"data row3 col1\" >13321</td> \n",
       "        <td id=\"T_1e1d0d10_584a_11e9_bd5b_701ce71031efrow3_col2\" class=\"data row3 col2\" >12500</td> \n",
       "        <td id=\"T_1e1d0d10_584a_11e9_bd5b_701ce71031efrow3_col3\" class=\"data row3 col3\" >622</td> \n",
       "        <td id=\"T_1e1d0d10_584a_11e9_bd5b_701ce71031efrow3_col4\" class=\"data row3 col4\" >9.27%</td> \n",
       "    </tr>    <tr> \n",
       "        <th id=\"T_1e1d0d10_584a_11e9_bd5b_701ce71031eflevel0_row4\" class=\"row_heading level0 row4\" >7</th> \n",
       "        <td id=\"T_1e1d0d10_584a_11e9_bd5b_701ce71031efrow4_col0\" class=\"data row4 col0\" >startup</td> \n",
       "        <td id=\"T_1e1d0d10_584a_11e9_bd5b_701ce71031efrow4_col1\" class=\"data row4 col1\" >13113</td> \n",
       "        <td id=\"T_1e1d0d10_584a_11e9_bd5b_701ce71031efrow4_col2\" class=\"data row4 col2\" >12500</td> \n",
       "        <td id=\"T_1e1d0d10_584a_11e9_bd5b_701ce71031efrow4_col3\" class=\"data row4 col3\" >182</td> \n",
       "        <td id=\"T_1e1d0d10_584a_11e9_bd5b_701ce71031efrow4_col4\" class=\"data row4 col4\" >2.71%</td> \n",
       "    </tr>    <tr> \n",
       "        <th id=\"T_1e1d0d10_584a_11e9_bd5b_701ce71031eflevel0_row5\" class=\"row_heading level0 row5\" >5</th> \n",
       "        <td id=\"T_1e1d0d10_584a_11e9_bd5b_701ce71031efrow5_col0\" class=\"data row5 col0\" >private</td> \n",
       "        <td id=\"T_1e1d0d10_584a_11e9_bd5b_701ce71031efrow5_col1\" class=\"data row5 col1\" >12634</td> \n",
       "        <td id=\"T_1e1d0d10_584a_11e9_bd5b_701ce71031efrow5_col2\" class=\"data row5 col2\" >12000</td> \n",
       "        <td id=\"T_1e1d0d10_584a_11e9_bd5b_701ce71031efrow5_col3\" class=\"data row5 col3\" >4999</td> \n",
       "        <td id=\"T_1e1d0d10_584a_11e9_bd5b_701ce71031efrow5_col4\" class=\"data row5 col4\" >74.52%</td> \n",
       "    </tr>    <tr> \n",
       "        <th id=\"T_1e1d0d10_584a_11e9_bd5b_701ce71031eflevel0_row6\" class=\"row_heading level0 row6\" >0</th> \n",
       "        <td id=\"T_1e1d0d10_584a_11e9_bd5b_701ce71031efrow6_col0\" class=\"data row6 col0\" >foreign</td> \n",
       "        <td id=\"T_1e1d0d10_584a_11e9_bd5b_701ce71031efrow6_col1\" class=\"data row6 col1\" >11629</td> \n",
       "        <td id=\"T_1e1d0d10_584a_11e9_bd5b_701ce71031efrow6_col2\" class=\"data row6 col2\" >12500</td> \n",
       "        <td id=\"T_1e1d0d10_584a_11e9_bd5b_701ce71031efrow6_col3\" class=\"data row6 col3\" >148</td> \n",
       "        <td id=\"T_1e1d0d10_584a_11e9_bd5b_701ce71031efrow6_col4\" class=\"data row6 col4\" >2.21%</td> \n",
       "    </tr>    <tr> \n",
       "        <th id=\"T_1e1d0d10_584a_11e9_bd5b_701ce71031eflevel0_row7\" class=\"row_heading level0 row7\" >2</th> \n",
       "        <td id=\"T_1e1d0d10_584a_11e9_bd5b_701ce71031efrow7_col0\" class=\"data row7 col0\" >foreign_rep</td> \n",
       "        <td id=\"T_1e1d0d10_584a_11e9_bd5b_701ce71031efrow7_col1\" class=\"data row7 col1\" >6000</td> \n",
       "        <td id=\"T_1e1d0d10_584a_11e9_bd5b_701ce71031efrow7_col2\" class=\"data row7 col2\" >2500</td> \n",
       "        <td id=\"T_1e1d0d10_584a_11e9_bd5b_701ce71031efrow7_col3\" class=\"data row7 col3\" >3</td> \n",
       "        <td id=\"T_1e1d0d10_584a_11e9_bd5b_701ce71031efrow7_col4\" class=\"data row7 col4\" >0.04%</td> \n",
       "    </tr>    <tr> \n",
       "        <th id=\"T_1e1d0d10_584a_11e9_bd5b_701ce71031eflevel0_row8\" class=\"row_heading level0 row8\" >1</th> \n",
       "        <td id=\"T_1e1d0d10_584a_11e9_bd5b_701ce71031efrow8_col0\" class=\"data row8 col0\" >foreign_gov</td> \n",
       "        <td id=\"T_1e1d0d10_584a_11e9_bd5b_701ce71031efrow8_col1\" class=\"data row8 col1\" >nan</td> \n",
       "        <td id=\"T_1e1d0d10_584a_11e9_bd5b_701ce71031efrow8_col2\" class=\"data row8 col2\" >nan</td> \n",
       "        <td id=\"T_1e1d0d10_584a_11e9_bd5b_701ce71031efrow8_col3\" class=\"data row8 col3\" >0</td> \n",
       "        <td id=\"T_1e1d0d10_584a_11e9_bd5b_701ce71031efrow8_col4\" class=\"data row8 col4\" >0.00%</td> \n",
       "    </tr>    <tr> \n",
       "        <th id=\"T_1e1d0d10_584a_11e9_bd5b_701ce71031eflevel0_row9\" class=\"row_heading level0 row9\" >4</th> \n",
       "        <td id=\"T_1e1d0d10_584a_11e9_bd5b_701ce71031efrow9_col0\" class=\"data row9 col0\" >non_profit</td> \n",
       "        <td id=\"T_1e1d0d10_584a_11e9_bd5b_701ce71031efrow9_col1\" class=\"data row9 col1\" >nan</td> \n",
       "        <td id=\"T_1e1d0d10_584a_11e9_bd5b_701ce71031efrow9_col2\" class=\"data row9 col2\" >nan</td> \n",
       "        <td id=\"T_1e1d0d10_584a_11e9_bd5b_701ce71031efrow9_col3\" class=\"data row9 col3\" >0</td> \n",
       "        <td id=\"T_1e1d0d10_584a_11e9_bd5b_701ce71031efrow9_col4\" class=\"data row9 col4\" >0.00%</td> \n",
       "    </tr></tbody> \n",
       "</table> "
      ],
      "text/plain": [
       "<pandas.io.formats.style.Styler at 0x2376dd50d68>"
      ]
     },
     "execution_count": 29,
     "metadata": {},
     "output_type": "execute_result"
    }
   ],
   "source": [
    "data_company_type=get_sub_stats(data,'company_type_')\n",
    "data_company_type.style.format({\"percentage\":\"{:.2%}\",\"salary_mean\":\"{:.0f}\",\"salary_median\":\"{:.0f}\"})"
   ]
  },
  {
   "cell_type": "markdown",
   "metadata": {},
   "source": [
    "us_eu是欧美外企，startup是创业公司，listed是上市公司，state是国企，private是私企，foreign是非欧美外企，其他不足1000个样本的不管了。"
   ]
  },
  {
   "cell_type": "markdown",
   "metadata": {},
   "source": [
    "## 公司规模 Company Size"
   ]
  },
  {
   "cell_type": "code",
   "execution_count": 30,
   "metadata": {},
   "outputs": [
    {
     "data": {
      "text/html": [
       "<style  type=\"text/css\" >\n",
       "</style>  \n",
       "<table id=\"T_1f34c51c_584a_11e9_90ca_701ce71031ef\" > \n",
       "<thead>    <tr> \n",
       "        <th class=\"blank level0\" ></th> \n",
       "        <th class=\"col_heading level0 col0\" >company_size_</th> \n",
       "        <th class=\"col_heading level0 col1\" >salary_mean</th> \n",
       "        <th class=\"col_heading level0 col2\" >salary_median</th> \n",
       "        <th class=\"col_heading level0 col3\" >head_count</th> \n",
       "        <th class=\"col_heading level0 col4\" >percentage</th> \n",
       "    </tr></thead> \n",
       "<tbody>    <tr> \n",
       "        <th id=\"T_1f34c51c_584a_11e9_90ca_701ce71031eflevel0_row0\" class=\"row_heading level0 row0\" >0</th> \n",
       "        <td id=\"T_1f34c51c_584a_11e9_90ca_701ce71031efrow0_col0\" class=\"data row0 col0\" >10000</td> \n",
       "        <td id=\"T_1f34c51c_584a_11e9_90ca_701ce71031efrow0_col1\" class=\"data row0 col1\" >17824</td> \n",
       "        <td id=\"T_1f34c51c_584a_11e9_90ca_701ce71031efrow0_col2\" class=\"data row0 col2\" >15000</td> \n",
       "        <td id=\"T_1f34c51c_584a_11e9_90ca_701ce71031efrow0_col3\" class=\"data row0 col3\" >209</td> \n",
       "        <td id=\"T_1f34c51c_584a_11e9_90ca_701ce71031efrow0_col4\" class=\"data row0 col4\" >2.96%</td> \n",
       "    </tr>    <tr> \n",
       "        <th id=\"T_1f34c51c_584a_11e9_90ca_701ce71031eflevel0_row1\" class=\"row_heading level0 row1\" >4</th> \n",
       "        <td id=\"T_1f34c51c_584a_11e9_90ca_701ce71031efrow1_col0\" class=\"data row1 col0\" >5000_10000</td> \n",
       "        <td id=\"T_1f34c51c_584a_11e9_90ca_701ce71031efrow1_col1\" class=\"data row1 col1\" >14656</td> \n",
       "        <td id=\"T_1f34c51c_584a_11e9_90ca_701ce71031efrow1_col2\" class=\"data row1 col2\" >14000</td> \n",
       "        <td id=\"T_1f34c51c_584a_11e9_90ca_701ce71031efrow1_col3\" class=\"data row1 col3\" >131</td> \n",
       "        <td id=\"T_1f34c51c_584a_11e9_90ca_701ce71031efrow1_col4\" class=\"data row1 col4\" >1.85%</td> \n",
       "    </tr>    <tr> \n",
       "        <th id=\"T_1f34c51c_584a_11e9_90ca_701ce71031eflevel0_row2\" class=\"row_heading level0 row2\" >1</th> \n",
       "        <td id=\"T_1f34c51c_584a_11e9_90ca_701ce71031efrow2_col0\" class=\"data row2 col0\" >1000_5000</td> \n",
       "        <td id=\"T_1f34c51c_584a_11e9_90ca_701ce71031efrow2_col1\" class=\"data row2 col1\" >14212</td> \n",
       "        <td id=\"T_1f34c51c_584a_11e9_90ca_701ce71031efrow2_col2\" class=\"data row2 col2\" >12500</td> \n",
       "        <td id=\"T_1f34c51c_584a_11e9_90ca_701ce71031efrow2_col3\" class=\"data row2 col3\" >818</td> \n",
       "        <td id=\"T_1f34c51c_584a_11e9_90ca_701ce71031efrow2_col4\" class=\"data row2 col4\" >11.58%</td> \n",
       "    </tr>    <tr> \n",
       "        <th id=\"T_1f34c51c_584a_11e9_90ca_701ce71031eflevel0_row3\" class=\"row_heading level0 row3\" >5</th> \n",
       "        <td id=\"T_1f34c51c_584a_11e9_90ca_701ce71031efrow3_col0\" class=\"data row3 col0\" >500_1000</td> \n",
       "        <td id=\"T_1f34c51c_584a_11e9_90ca_701ce71031efrow3_col1\" class=\"data row3 col1\" >13797</td> \n",
       "        <td id=\"T_1f34c51c_584a_11e9_90ca_701ce71031efrow3_col2\" class=\"data row3 col2\" >12500</td> \n",
       "        <td id=\"T_1f34c51c_584a_11e9_90ca_701ce71031efrow3_col3\" class=\"data row3 col3\" >673</td> \n",
       "        <td id=\"T_1f34c51c_584a_11e9_90ca_701ce71031efrow3_col4\" class=\"data row3 col4\" >9.52%</td> \n",
       "    </tr>    <tr> \n",
       "        <th id=\"T_1f34c51c_584a_11e9_90ca_701ce71031eflevel0_row4\" class=\"row_heading level0 row4\" >2</th> \n",
       "        <td id=\"T_1f34c51c_584a_11e9_90ca_701ce71031efrow4_col0\" class=\"data row4 col0\" >150_500</td> \n",
       "        <td id=\"T_1f34c51c_584a_11e9_90ca_701ce71031efrow4_col1\" class=\"data row4 col1\" >12692</td> \n",
       "        <td id=\"T_1f34c51c_584a_11e9_90ca_701ce71031efrow4_col2\" class=\"data row4 col2\" >12000</td> \n",
       "        <td id=\"T_1f34c51c_584a_11e9_90ca_701ce71031efrow4_col3\" class=\"data row4 col3\" >1665</td> \n",
       "        <td id=\"T_1f34c51c_584a_11e9_90ca_701ce71031efrow4_col4\" class=\"data row4 col4\" >23.56%</td> \n",
       "    </tr>    <tr> \n",
       "        <th id=\"T_1f34c51c_584a_11e9_90ca_701ce71031eflevel0_row5\" class=\"row_heading level0 row5\" >6</th> \n",
       "        <td id=\"T_1f34c51c_584a_11e9_90ca_701ce71031efrow5_col0\" class=\"data row5 col0\" >50_150</td> \n",
       "        <td id=\"T_1f34c51c_584a_11e9_90ca_701ce71031efrow5_col1\" class=\"data row5 col1\" >12359</td> \n",
       "        <td id=\"T_1f34c51c_584a_11e9_90ca_701ce71031efrow5_col2\" class=\"data row5 col2\" >11500</td> \n",
       "        <td id=\"T_1f34c51c_584a_11e9_90ca_701ce71031efrow5_col3\" class=\"data row5 col3\" >2315</td> \n",
       "        <td id=\"T_1f34c51c_584a_11e9_90ca_701ce71031efrow5_col4\" class=\"data row5 col4\" >32.76%</td> \n",
       "    </tr>    <tr> \n",
       "        <th id=\"T_1f34c51c_584a_11e9_90ca_701ce71031eflevel0_row6\" class=\"row_heading level0 row6\" >3</th> \n",
       "        <td id=\"T_1f34c51c_584a_11e9_90ca_701ce71031efrow6_col0\" class=\"data row6 col0\" >50</td> \n",
       "        <td id=\"T_1f34c51c_584a_11e9_90ca_701ce71031efrow6_col1\" class=\"data row6 col1\" >11694</td> \n",
       "        <td id=\"T_1f34c51c_584a_11e9_90ca_701ce71031efrow6_col2\" class=\"data row6 col2\" >11000</td> \n",
       "        <td id=\"T_1f34c51c_584a_11e9_90ca_701ce71031efrow6_col3\" class=\"data row6 col3\" >1255</td> \n",
       "        <td id=\"T_1f34c51c_584a_11e9_90ca_701ce71031efrow6_col4\" class=\"data row6 col4\" >17.76%</td> \n",
       "    </tr></tbody> \n",
       "</table> "
      ],
      "text/plain": [
       "<pandas.io.formats.style.Styler at 0x2376d97d358>"
      ]
     },
     "execution_count": 30,
     "metadata": {},
     "output_type": "execute_result"
    }
   ],
   "source": [
    "data_company_size=get_sub_stats(data,'company_size_')\n",
    "data_company_size.style.format({\"percentage\":\"{:.2%}\",\"salary_mean\":\"{:.0f}\",\"salary_median\":\"{:.0f}\"})"
   ]
  },
  {
   "cell_type": "markdown",
   "metadata": {},
   "source": [
    "公司越大，工资越高"
   ]
  },
  {
   "cell_type": "markdown",
   "metadata": {},
   "source": [
    "## 行业 Industry"
   ]
  },
  {
   "cell_type": "code",
   "execution_count": 31,
   "metadata": {},
   "outputs": [
    {
     "data": {
      "text/html": [
       "<style  type=\"text/css\" >\n",
       "</style>  \n",
       "<table id=\"T_20856178_584a_11e9_a31b_701ce71031ef\" > \n",
       "<thead>    <tr> \n",
       "        <th class=\"blank level0\" ></th> \n",
       "        <th class=\"col_heading level0 col0\" >industry_</th> \n",
       "        <th class=\"col_heading level0 col1\" >salary_mean</th> \n",
       "        <th class=\"col_heading level0 col2\" >salary_median</th> \n",
       "        <th class=\"col_heading level0 col3\" >head_count</th> \n",
       "        <th class=\"col_heading level0 col4\" >percentage</th> \n",
       "    </tr></thead> \n",
       "<tbody>    <tr> \n",
       "        <th id=\"T_20856178_584a_11e9_a31b_701ce71031eflevel0_row0\" class=\"row_heading level0 row0\" >4</th> \n",
       "        <td id=\"T_20856178_584a_11e9_a31b_701ce71031efrow0_col0\" class=\"data row0 col0\" >finance</td> \n",
       "        <td id=\"T_20856178_584a_11e9_a31b_701ce71031efrow0_col1\" class=\"data row0 col1\" >14713</td> \n",
       "        <td id=\"T_20856178_584a_11e9_a31b_701ce71031efrow0_col2\" class=\"data row0 col2\" >12500</td> \n",
       "        <td id=\"T_20856178_584a_11e9_a31b_701ce71031efrow0_col3\" class=\"data row0 col3\" >168</td> \n",
       "        <td id=\"T_20856178_584a_11e9_a31b_701ce71031efrow0_col4\" class=\"data row0 col4\" >2.00%</td> \n",
       "    </tr>    <tr> \n",
       "        <th id=\"T_20856178_584a_11e9_a31b_701ce71031eflevel0_row1\" class=\"row_heading level0 row1\" >8</th> \n",
       "        <td id=\"T_20856178_584a_11e9_a31b_701ce71031efrow1_col0\" class=\"data row1 col0\" >realestate</td> \n",
       "        <td id=\"T_20856178_584a_11e9_a31b_701ce71031efrow1_col1\" class=\"data row1 col1\" >14316</td> \n",
       "        <td id=\"T_20856178_584a_11e9_a31b_701ce71031efrow1_col2\" class=\"data row1 col2\" >12500</td> \n",
       "        <td id=\"T_20856178_584a_11e9_a31b_701ce71031efrow1_col3\" class=\"data row1 col3\" >183</td> \n",
       "        <td id=\"T_20856178_584a_11e9_a31b_701ce71031efrow1_col4\" class=\"data row1 col4\" >2.17%</td> \n",
       "    </tr>    <tr> \n",
       "        <th id=\"T_20856178_584a_11e9_a31b_701ce71031eflevel0_row2\" class=\"row_heading level0 row2\" >10</th> \n",
       "        <td id=\"T_20856178_584a_11e9_a31b_701ce71031efrow2_col0\" class=\"data row2 col0\" >trade</td> \n",
       "        <td id=\"T_20856178_584a_11e9_a31b_701ce71031efrow2_col1\" class=\"data row2 col1\" >13320</td> \n",
       "        <td id=\"T_20856178_584a_11e9_a31b_701ce71031efrow2_col2\" class=\"data row2 col2\" >12500</td> \n",
       "        <td id=\"T_20856178_584a_11e9_a31b_701ce71031efrow2_col3\" class=\"data row2 col3\" >472</td> \n",
       "        <td id=\"T_20856178_584a_11e9_a31b_701ce71031efrow2_col4\" class=\"data row2 col4\" >5.61%</td> \n",
       "    </tr>    <tr> \n",
       "        <th id=\"T_20856178_584a_11e9_a31b_701ce71031eflevel0_row3\" class=\"row_heading level0 row3\" >6</th> \n",
       "        <td id=\"T_20856178_584a_11e9_a31b_701ce71031efrow3_col0\" class=\"data row3 col0\" >logistic</td> \n",
       "        <td id=\"T_20856178_584a_11e9_a31b_701ce71031efrow3_col1\" class=\"data row3 col1\" >13242</td> \n",
       "        <td id=\"T_20856178_584a_11e9_a31b_701ce71031efrow3_col2\" class=\"data row3 col2\" >12500</td> \n",
       "        <td id=\"T_20856178_584a_11e9_a31b_701ce71031efrow3_col3\" class=\"data row3 col3\" >123</td> \n",
       "        <td id=\"T_20856178_584a_11e9_a31b_701ce71031efrow3_col4\" class=\"data row3 col4\" >1.46%</td> \n",
       "    </tr>    <tr> \n",
       "        <th id=\"T_20856178_584a_11e9_a31b_701ce71031eflevel0_row4\" class=\"row_heading level0 row4\" >2</th> \n",
       "        <td id=\"T_20856178_584a_11e9_a31b_701ce71031efrow4_col0\" class=\"data row4 col0\" >edu</td> \n",
       "        <td id=\"T_20856178_584a_11e9_a31b_701ce71031efrow4_col1\" class=\"data row4 col1\" >13130</td> \n",
       "        <td id=\"T_20856178_584a_11e9_a31b_701ce71031efrow4_col2\" class=\"data row4 col2\" >12500</td> \n",
       "        <td id=\"T_20856178_584a_11e9_a31b_701ce71031efrow4_col3\" class=\"data row4 col3\" >414</td> \n",
       "        <td id=\"T_20856178_584a_11e9_a31b_701ce71031efrow4_col4\" class=\"data row4 col4\" >4.92%</td> \n",
       "    </tr>    <tr> \n",
       "        <th id=\"T_20856178_584a_11e9_a31b_701ce71031eflevel0_row5\" class=\"row_heading level0 row5\" >1</th> \n",
       "        <td id=\"T_20856178_584a_11e9_a31b_701ce71031efrow5_col0\" class=\"data row5 col0\" >computer</td> \n",
       "        <td id=\"T_20856178_584a_11e9_a31b_701ce71031efrow5_col1\" class=\"data row5 col1\" >12880</td> \n",
       "        <td id=\"T_20856178_584a_11e9_a31b_701ce71031efrow5_col2\" class=\"data row5 col2\" >12500</td> \n",
       "        <td id=\"T_20856178_584a_11e9_a31b_701ce71031efrow5_col3\" class=\"data row5 col3\" >6274</td> \n",
       "        <td id=\"T_20856178_584a_11e9_a31b_701ce71031efrow5_col4\" class=\"data row5 col4\" >74.54%</td> \n",
       "    </tr>    <tr> \n",
       "        <th id=\"T_20856178_584a_11e9_a31b_701ce71031eflevel0_row6\" class=\"row_heading level0 row6\" >9</th> \n",
       "        <td id=\"T_20856178_584a_11e9_a31b_701ce71031efrow6_col0\" class=\"data row6 col0\" >service</td> \n",
       "        <td id=\"T_20856178_584a_11e9_a31b_701ce71031efrow6_col1\" class=\"data row6 col1\" >12490</td> \n",
       "        <td id=\"T_20856178_584a_11e9_a31b_701ce71031efrow6_col2\" class=\"data row6 col2\" >12500</td> \n",
       "        <td id=\"T_20856178_584a_11e9_a31b_701ce71031efrow6_col3\" class=\"data row6 col3\" >24</td> \n",
       "        <td id=\"T_20856178_584a_11e9_a31b_701ce71031efrow6_col4\" class=\"data row6 col4\" >0.29%</td> \n",
       "    </tr>    <tr> \n",
       "        <th id=\"T_20856178_584a_11e9_a31b_701ce71031eflevel0_row7\" class=\"row_heading level0 row7\" >3</th> \n",
       "        <td id=\"T_20856178_584a_11e9_a31b_701ce71031efrow7_col0\" class=\"data row7 col0\" >energy</td> \n",
       "        <td id=\"T_20856178_584a_11e9_a31b_701ce71031efrow7_col1\" class=\"data row7 col1\" >12482</td> \n",
       "        <td id=\"T_20856178_584a_11e9_a31b_701ce71031efrow7_col2\" class=\"data row7 col2\" >11500</td> \n",
       "        <td id=\"T_20856178_584a_11e9_a31b_701ce71031efrow7_col3\" class=\"data row7 col3\" >299</td> \n",
       "        <td id=\"T_20856178_584a_11e9_a31b_701ce71031efrow7_col4\" class=\"data row7 col4\" >3.55%</td> \n",
       "    </tr>    <tr> \n",
       "        <th id=\"T_20856178_584a_11e9_a31b_701ce71031eflevel0_row8\" class=\"row_heading level0 row8\" >5</th> \n",
       "        <td id=\"T_20856178_584a_11e9_a31b_701ce71031efrow8_col0\" class=\"data row8 col0\" >gov</td> \n",
       "        <td id=\"T_20856178_584a_11e9_a31b_701ce71031efrow8_col1\" class=\"data row8 col1\" >11667</td> \n",
       "        <td id=\"T_20856178_584a_11e9_a31b_701ce71031efrow8_col2\" class=\"data row8 col2\" >10000</td> \n",
       "        <td id=\"T_20856178_584a_11e9_a31b_701ce71031efrow8_col3\" class=\"data row8 col3\" >164</td> \n",
       "        <td id=\"T_20856178_584a_11e9_a31b_701ce71031efrow8_col4\" class=\"data row8 col4\" >1.95%</td> \n",
       "    </tr>    <tr> \n",
       "        <th id=\"T_20856178_584a_11e9_a31b_701ce71031eflevel0_row9\" class=\"row_heading level0 row9\" >7</th> \n",
       "        <td id=\"T_20856178_584a_11e9_a31b_701ce71031efrow9_col0\" class=\"data row9 col0\" >medical</td> \n",
       "        <td id=\"T_20856178_584a_11e9_a31b_701ce71031efrow9_col1\" class=\"data row9 col1\" >11586</td> \n",
       "        <td id=\"T_20856178_584a_11e9_a31b_701ce71031efrow9_col2\" class=\"data row9 col2\" >11500</td> \n",
       "        <td id=\"T_20856178_584a_11e9_a31b_701ce71031efrow9_col3\" class=\"data row9 col3\" >213</td> \n",
       "        <td id=\"T_20856178_584a_11e9_a31b_701ce71031efrow9_col4\" class=\"data row9 col4\" >2.53%</td> \n",
       "    </tr>    <tr> \n",
       "        <th id=\"T_20856178_584a_11e9_a31b_701ce71031eflevel0_row10\" class=\"row_heading level0 row10\" >0</th> \n",
       "        <td id=\"T_20856178_584a_11e9_a31b_701ce71031efrow10_col0\" class=\"data row10 col0\" >ads</td> \n",
       "        <td id=\"T_20856178_584a_11e9_a31b_701ce71031efrow10_col1\" class=\"data row10 col1\" >11503</td> \n",
       "        <td id=\"T_20856178_584a_11e9_a31b_701ce71031efrow10_col2\" class=\"data row10 col2\" >10000</td> \n",
       "        <td id=\"T_20856178_584a_11e9_a31b_701ce71031efrow10_col3\" class=\"data row10 col3\" >83</td> \n",
       "        <td id=\"T_20856178_584a_11e9_a31b_701ce71031efrow10_col4\" class=\"data row10 col4\" >0.99%</td> \n",
       "    </tr></tbody> \n",
       "</table> "
      ],
      "text/plain": [
       "<pandas.io.formats.style.Styler at 0x2376dc0e400>"
      ]
     },
     "execution_count": 31,
     "metadata": {},
     "output_type": "execute_result"
    }
   ],
   "source": [
    "data_industry=get_sub_stats(data,'industry_')\n",
    "data_industry.style.format({\"percentage\":\"{:.2%}\",\"salary_mean\":\"{:.0f}\",\"salary_median\":\"{:.0f}\"})"
   ]
  },
  {
   "cell_type": "code",
   "execution_count": null,
   "metadata": {},
   "outputs": [],
   "source": []
  }
 ],
 "metadata": {
  "kernelspec": {
   "display_name": "Python 3",
   "language": "python",
   "name": "python3"
  },
  "language_info": {
   "codemirror_mode": {
    "name": "ipython",
    "version": 3
   },
   "file_extension": ".py",
   "mimetype": "text/x-python",
   "name": "python",
   "nbconvert_exporter": "python",
   "pygments_lexer": "ipython3",
   "version": "3.7.1"
  }
 },
 "nbformat": 4,
 "nbformat_minor": 2
}
